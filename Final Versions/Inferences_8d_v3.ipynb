{
 "cells": [
  {
   "cell_type": "code",
   "execution_count": 20,
   "id": "09758d89-0f6c-4811-bdc0-b07d7eaa6b73",
   "metadata": {
    "tags": []
   },
   "outputs": [
    {
     "name": "stdout",
     "output_type": "stream",
     "text": [
      "Requirement already satisfied: awswrangler in /opt/conda/lib/python3.10/site-packages (3.7.3)\n",
      "Requirement already satisfied: boto3<2.0.0,>=1.20.32 in /opt/conda/lib/python3.10/site-packages (from awswrangler) (1.34.84)\n",
      "Requirement already satisfied: botocore<2.0.0,>=1.23.32 in /opt/conda/lib/python3.10/site-packages (from awswrangler) (1.34.84)\n",
      "Requirement already satisfied: numpy<2.0,>=1.18 in /opt/conda/lib/python3.10/site-packages (from awswrangler) (1.26.4)\n",
      "Requirement already satisfied: packaging<25.0,>=21.1 in /opt/conda/lib/python3.10/site-packages (from awswrangler) (23.2)\n",
      "Requirement already satisfied: pandas<3.0.0,>=1.2.0 in /opt/conda/lib/python3.10/site-packages (from awswrangler) (2.1.4)\n",
      "Requirement already satisfied: pyarrow>=8.0.0 in /opt/conda/lib/python3.10/site-packages (from awswrangler) (15.0.2)\n",
      "Requirement already satisfied: typing-extensions<5.0.0,>=4.4.0 in /opt/conda/lib/python3.10/site-packages (from awswrangler) (4.11.0)\n",
      "Requirement already satisfied: jmespath<2.0.0,>=0.7.1 in /opt/conda/lib/python3.10/site-packages (from boto3<2.0.0,>=1.20.32->awswrangler) (1.0.1)\n",
      "Requirement already satisfied: s3transfer<0.11.0,>=0.10.0 in /opt/conda/lib/python3.10/site-packages (from boto3<2.0.0,>=1.20.32->awswrangler) (0.10.1)\n",
      "Requirement already satisfied: python-dateutil<3.0.0,>=2.1 in /opt/conda/lib/python3.10/site-packages (from botocore<2.0.0,>=1.23.32->awswrangler) (2.9.0)\n",
      "Requirement already satisfied: urllib3!=2.2.0,<3,>=1.25.4 in /opt/conda/lib/python3.10/site-packages (from botocore<2.0.0,>=1.23.32->awswrangler) (2.2.1)\n",
      "Requirement already satisfied: pytz>=2020.1 in /opt/conda/lib/python3.10/site-packages (from pandas<3.0.0,>=1.2.0->awswrangler) (2024.1)\n",
      "Requirement already satisfied: tzdata>=2022.1 in /opt/conda/lib/python3.10/site-packages (from pandas<3.0.0,>=1.2.0->awswrangler) (2024.1)\n",
      "Requirement already satisfied: six>=1.5 in /opt/conda/lib/python3.10/site-packages (from python-dateutil<3.0.0,>=2.1->botocore<2.0.0,>=1.23.32->awswrangler) (1.16.0)\n",
      "\u001b[33mWARNING: Running pip as the 'root' user can result in broken permissions and conflicting behaviour with the system package manager. It is recommended to use a virtual environment instead: https://pip.pypa.io/warnings/venv\u001b[0m\u001b[33m\n",
      "\u001b[0mRequirement already satisfied: skforecast in /opt/conda/lib/python3.10/site-packages (0.11.0)\n",
      "Requirement already satisfied: numpy<1.27,>=1.20 in /opt/conda/lib/python3.10/site-packages (from skforecast) (1.26.4)\n",
      "Requirement already satisfied: pandas<2.2,>=1.2 in /opt/conda/lib/python3.10/site-packages (from skforecast) (2.1.4)\n",
      "Requirement already satisfied: tqdm<4.67,>=4.57.0 in /opt/conda/lib/python3.10/site-packages (from skforecast) (4.66.1)\n",
      "Requirement already satisfied: scikit-learn<1.4,>=1.0 in /opt/conda/lib/python3.10/site-packages (from skforecast) (1.3.2)\n",
      "Requirement already satisfied: optuna<3.5,>=2.10.0 in /opt/conda/lib/python3.10/site-packages (from skforecast) (3.4.0)\n",
      "Requirement already satisfied: joblib<1.4,>=1.1.0 in /opt/conda/lib/python3.10/site-packages (from skforecast) (1.3.2)\n",
      "Requirement already satisfied: alembic>=1.5.0 in /opt/conda/lib/python3.10/site-packages (from optuna<3.5,>=2.10.0->skforecast) (1.13.1)\n",
      "Requirement already satisfied: colorlog in /opt/conda/lib/python3.10/site-packages (from optuna<3.5,>=2.10.0->skforecast) (6.8.2)\n",
      "Requirement already satisfied: packaging>=20.0 in /opt/conda/lib/python3.10/site-packages (from optuna<3.5,>=2.10.0->skforecast) (23.2)\n",
      "Requirement already satisfied: sqlalchemy>=1.3.0 in /opt/conda/lib/python3.10/site-packages (from optuna<3.5,>=2.10.0->skforecast) (2.0.29)\n",
      "Requirement already satisfied: PyYAML in /opt/conda/lib/python3.10/site-packages (from optuna<3.5,>=2.10.0->skforecast) (6.0.1)\n",
      "Requirement already satisfied: python-dateutil>=2.8.2 in /opt/conda/lib/python3.10/site-packages (from pandas<2.2,>=1.2->skforecast) (2.9.0)\n",
      "Requirement already satisfied: pytz>=2020.1 in /opt/conda/lib/python3.10/site-packages (from pandas<2.2,>=1.2->skforecast) (2024.1)\n",
      "Requirement already satisfied: tzdata>=2022.1 in /opt/conda/lib/python3.10/site-packages (from pandas<2.2,>=1.2->skforecast) (2024.1)\n",
      "Requirement already satisfied: scipy>=1.5.0 in /opt/conda/lib/python3.10/site-packages (from scikit-learn<1.4,>=1.0->skforecast) (1.13.0)\n",
      "Requirement already satisfied: threadpoolctl>=2.0.0 in /opt/conda/lib/python3.10/site-packages (from scikit-learn<1.4,>=1.0->skforecast) (3.4.0)\n",
      "Requirement already satisfied: Mako in /opt/conda/lib/python3.10/site-packages (from alembic>=1.5.0->optuna<3.5,>=2.10.0->skforecast) (1.3.3)\n",
      "Requirement already satisfied: typing-extensions>=4 in /opt/conda/lib/python3.10/site-packages (from alembic>=1.5.0->optuna<3.5,>=2.10.0->skforecast) (4.11.0)\n",
      "Requirement already satisfied: six>=1.5 in /opt/conda/lib/python3.10/site-packages (from python-dateutil>=2.8.2->pandas<2.2,>=1.2->skforecast) (1.16.0)\n",
      "Requirement already satisfied: greenlet!=0.4.17 in /opt/conda/lib/python3.10/site-packages (from sqlalchemy>=1.3.0->optuna<3.5,>=2.10.0->skforecast) (3.0.3)\n",
      "Requirement already satisfied: MarkupSafe>=0.9.2 in /opt/conda/lib/python3.10/site-packages (from Mako->alembic>=1.5.0->optuna<3.5,>=2.10.0->skforecast) (2.1.5)\n",
      "\u001b[33mWARNING: Running pip as the 'root' user can result in broken permissions and conflicting behaviour with the system package manager. It is recommended to use a virtual environment instead: https://pip.pypa.io/warnings/venv\u001b[0m\u001b[33m\n",
      "\u001b[0mRequirement already satisfied: pmdarima in /opt/conda/lib/python3.10/site-packages (2.0.4)\n",
      "Requirement already satisfied: joblib>=0.11 in /opt/conda/lib/python3.10/site-packages (from pmdarima) (1.3.2)\n",
      "Requirement already satisfied: Cython!=0.29.18,!=0.29.31,>=0.29 in /opt/conda/lib/python3.10/site-packages (from pmdarima) (3.0.10)\n",
      "Requirement already satisfied: numpy>=1.21.2 in /opt/conda/lib/python3.10/site-packages (from pmdarima) (1.26.4)\n",
      "Requirement already satisfied: pandas>=0.19 in /opt/conda/lib/python3.10/site-packages (from pmdarima) (2.1.4)\n",
      "Requirement already satisfied: scikit-learn>=0.22 in /opt/conda/lib/python3.10/site-packages (from pmdarima) (1.3.2)\n",
      "Requirement already satisfied: scipy>=1.3.2 in /opt/conda/lib/python3.10/site-packages (from pmdarima) (1.13.0)\n",
      "Requirement already satisfied: statsmodels>=0.13.2 in /opt/conda/lib/python3.10/site-packages (from pmdarima) (0.14.1)\n",
      "Requirement already satisfied: urllib3 in /opt/conda/lib/python3.10/site-packages (from pmdarima) (2.2.1)\n",
      "Requirement already satisfied: setuptools!=50.0.0,>=38.6.0 in /opt/conda/lib/python3.10/site-packages (from pmdarima) (69.5.1)\n",
      "Requirement already satisfied: packaging>=17.1 in /opt/conda/lib/python3.10/site-packages (from pmdarima) (23.2)\n",
      "Requirement already satisfied: python-dateutil>=2.8.2 in /opt/conda/lib/python3.10/site-packages (from pandas>=0.19->pmdarima) (2.9.0)\n",
      "Requirement already satisfied: pytz>=2020.1 in /opt/conda/lib/python3.10/site-packages (from pandas>=0.19->pmdarima) (2024.1)\n",
      "Requirement already satisfied: tzdata>=2022.1 in /opt/conda/lib/python3.10/site-packages (from pandas>=0.19->pmdarima) (2024.1)\n",
      "Requirement already satisfied: threadpoolctl>=2.0.0 in /opt/conda/lib/python3.10/site-packages (from scikit-learn>=0.22->pmdarima) (3.4.0)\n",
      "Requirement already satisfied: patsy>=0.5.4 in /opt/conda/lib/python3.10/site-packages (from statsmodels>=0.13.2->pmdarima) (0.5.6)\n",
      "Requirement already satisfied: six in /opt/conda/lib/python3.10/site-packages (from patsy>=0.5.4->statsmodels>=0.13.2->pmdarima) (1.16.0)\n",
      "\u001b[33mWARNING: Running pip as the 'root' user can result in broken permissions and conflicting behaviour with the system package manager. It is recommended to use a virtual environment instead: https://pip.pypa.io/warnings/venv\u001b[0m\u001b[33m\n",
      "\u001b[0m"
     ]
    }
   ],
   "source": [
    "!pip install awswrangler\n",
    "!pip install skforecast\n",
    "!pip install pmdarima"
   ]
  },
  {
   "cell_type": "code",
   "execution_count": 21,
   "id": "b07ad127-615b-42eb-906b-698c0311e4dc",
   "metadata": {
    "tags": []
   },
   "outputs": [],
   "source": [
    "import awswrangler as wr\n",
    "import pandas as pd\n",
    "import boto3\n",
    "import pickle\n",
    "from io import BytesIO\n",
    "from io import StringIO\n",
    "import joblib\n",
    "import os\n",
    "from datetime import datetime, timedelta\n",
    "import warnings\n",
    "\n",
    "# skforecast\n",
    "from skforecast.Sarimax import Sarimax\n",
    "from skforecast.ForecasterSarimax import ForecasterSarimax\n",
    "from skforecast.model_selection_sarimax import backtesting_sarimax\n",
    "from skforecast.model_selection_sarimax import grid_search_sarimax\n",
    "from sklearn.metrics import mean_absolute_error\n"
   ]
  },
  {
   "cell_type": "markdown",
   "id": "d8ed74f1-8a3b-4e7b-a919-bcc13deada3d",
   "metadata": {
    "tags": []
   },
   "source": [
    "### Load ABT and .pkl"
   ]
  },
  {
   "cell_type": "code",
   "execution_count": 22,
   "id": "497e38ec-b395-4684-8d5a-266512b27127",
   "metadata": {
    "tags": []
   },
   "outputs": [],
   "source": [
    "# Set up S3 client\n",
    "client = boto3.client('s3')\n",
    "bucket_name = 'viamericas-datalake-dev-us-east-1-283731589572-analytics'\n",
    "path = 'ABTv3/Last_releases_7d_8lags/' # Folder under analysis\n",
    "\n",
    "#ABTversion = 'v3_update'\n",
    "ABTversion = 'v6'\n",
    "path_ABT = f'ABT{ABTversion}/' "
   ]
  },
  {
   "cell_type": "code",
   "execution_count": 23,
   "id": "f64be7cb-017e-452e-9444-96f152a5fba5",
   "metadata": {
    "tags": []
   },
   "outputs": [
    {
     "name": "stdout",
     "output_type": "stream",
     "text": [
      "CSV file loaded\n"
     ]
    }
   ],
   "source": [
    "# Specify the CSV file key\n",
    "csv_key = None\n",
    "\n",
    "# List objects in the S3 path\n",
    "response = client.list_objects(Bucket=bucket_name, Prefix=path_ABT)\n",
    "\n",
    "# Find the CSV file in the S3 path\n",
    "for obj in response.get('Contents', []):\n",
    "    if obj['Key'].endswith('.csv'):\n",
    "        csv_key = obj['Key']\n",
    "        break\n",
    "        \n",
    "# Check if CSV file is found\n",
    "if csv_key is not None:\n",
    "    # Read CSV content from S3\n",
    "    csv_response = client.get_object(Bucket=bucket_name, Key=csv_key)\n",
    "    csv_content = csv_response['Body'].read().decode('utf-8')\n",
    "\n",
    "    # Transform CSV content to DataFrame\n",
    "    data = pd.read_csv(StringIO(csv_content))\n",
    "    data['date'] = pd.to_datetime(data['date']).dt.date\n",
    "    print(\"CSV file loaded\")\n",
    "else:\n",
    "    print(\"No CSV file found in the specified S3 path.\")"
   ]
  },
  {
   "cell_type": "code",
   "execution_count": 24,
   "id": "a256c9bc-e9e6-40b7-b1a7-e7a85abf36de",
   "metadata": {
    "tags": []
   },
   "outputs": [],
   "source": [
    "data['date'] = pd.to_datetime(data['date'])"
   ]
  },
  {
   "cell_type": "code",
   "execution_count": 25,
   "id": "2668c5d2-1e1a-46e8-ad85-ef68efd6ccd8",
   "metadata": {
    "tags": []
   },
   "outputs": [],
   "source": [
    "# Mark with 1 in 'day_of_the_dead' when 'date' is Nov. 2\n",
    "data.loc[data['date'].dt.month.eq(11) & data['date'].dt.day.eq(2), 'day_of_the_dead'] = 1"
   ]
  },
  {
   "cell_type": "code",
   "execution_count": 26,
   "id": "cb220530-5954-43b9-9330-8c3a106fe579",
   "metadata": {
    "tags": []
   },
   "outputs": [
    {
     "data": {
      "text/plain": [
       "27791166635.5917"
      ]
     },
     "execution_count": 26,
     "metadata": {},
     "output_type": "execute_result"
    }
   ],
   "source": [
    "data['amount'].sum()"
   ]
  },
  {
   "cell_type": "code",
   "execution_count": 27,
   "id": "e0445ea7-10eb-4798-9e9e-fd1afcd7b329",
   "metadata": {
    "tags": []
   },
   "outputs": [
    {
     "data": {
      "text/plain": [
       "Timestamp('2024-02-11 00:00:00')"
      ]
     },
     "execution_count": 27,
     "metadata": {},
     "output_type": "execute_result"
    }
   ],
   "source": [
    "data.date.max()"
   ]
  },
  {
   "cell_type": "code",
   "execution_count": 28,
   "id": "7012253a-dbe4-4211-9d78-2a18af413cab",
   "metadata": {},
   "outputs": [
    {
     "data": {
      "text/plain": [
       "133"
      ]
     },
     "execution_count": 28,
     "metadata": {},
     "output_type": "execute_result"
    }
   ],
   "source": [
    "data.payer_country.nunique()"
   ]
  },
  {
   "cell_type": "markdown",
   "id": "eb680730-d404-4043-a098-33c8e279ba3a",
   "metadata": {},
   "source": [
    "## LOAD .pkl"
   ]
  },
  {
   "cell_type": "code",
   "execution_count": 29,
   "id": "6617f69b-df9f-40b2-870f-54dd6958c1f6",
   "metadata": {
    "tags": []
   },
   "outputs": [],
   "source": [
    "elements = client.list_objects(Bucket=bucket_name, Prefix=path)\n",
    "\n",
    "#Listing pkl files\n",
    "pkl_files = [obj['Key'] for obj in elements.get('Contents', []) if obj['Key'].endswith('.pkl')\n",
    "                and ('MODEL_7d' in obj['Key']) and not obj['Key'].endswith('_2d.pkl')]  # File structure "
   ]
  },
  {
   "cell_type": "markdown",
   "id": "30da2243-67f9-4de5-ad23-e893f6d1d961",
   "metadata": {},
   "source": [
    "### NO OLVIDAR QUE EN EL CASO A 2D HAY QUE LEVANTAR 15 MODELOS DE V3_UPDATE"
   ]
  },
  {
   "cell_type": "code",
   "execution_count": 30,
   "id": "5774aa75-dcd3-4dab-871e-4dc62c21958b",
   "metadata": {
    "tags": []
   },
   "outputs": [
    {
     "data": {
      "text/plain": [
       "131"
      ]
     },
     "execution_count": 30,
     "metadata": {},
     "output_type": "execute_result"
    }
   ],
   "source": [
    "len(pkl_files)"
   ]
  },
  {
   "cell_type": "code",
   "execution_count": null,
   "id": "50754ca0-fc89-41e7-b81a-756aee6f48d5",
   "metadata": {
    "tags": []
   },
   "outputs": [],
   "source": [
    "pkl_files"
   ]
  },
  {
   "cell_type": "code",
   "execution_count": 31,
   "id": "18276523-b857-4ae1-8d92-ebef5ecc6a4b",
   "metadata": {
    "tags": []
   },
   "outputs": [],
   "source": [
    "today = datetime.now().date()"
   ]
  },
  {
   "cell_type": "markdown",
   "id": "6f79405e-4fb0-46c7-9e49-b132858c1786",
   "metadata": {
    "tags": []
   },
   "source": [
    "### Loop to process all"
   ]
  },
  {
   "cell_type": "code",
   "execution_count": 32,
   "id": "36f02302-7431-4cf6-b0d2-f1ac9caad585",
   "metadata": {
    "tags": []
   },
   "outputs": [],
   "source": [
    "# Initialize an empty DataFrame to store the results\n",
    "df_temp = pd.DataFrame(columns=['date', 'pred', 'payer_country', 'model'])"
   ]
  },
  {
   "cell_type": "code",
   "execution_count": 33,
   "id": "2480ec1a-4431-48ae-a060-3bfedb50725f",
   "metadata": {},
   "outputs": [],
   "source": [
    "# Payers to present errors in the inference process.\n",
    "payer_countries_pinched = []"
   ]
  },
  {
   "cell_type": "code",
   "execution_count": null,
   "id": "1902074e-eaeb-4680-bd65-0cbca599323f",
   "metadata": {},
   "outputs": [],
   "source": []
  },
  {
   "cell_type": "code",
   "execution_count": null,
   "id": "73216673-d677-4a91-a7cb-dddf26d7a6b5",
   "metadata": {
    "tags": []
   },
   "outputs": [],
   "source": [
    "#data=data.loc[data.payer_country=='ELEKTRA (MEXICO)_MEXICO']"
   ]
  },
  {
   "cell_type": "code",
   "execution_count": 35,
   "id": "33de5585-d8f9-4dd8-a7cb-2920b0eb45aa",
   "metadata": {
    "tags": []
   },
   "outputs": [
    {
     "name": "stdout",
     "output_type": "stream",
     "text": [
      "24XORO_MEXICO\n",
      "ABANK (TN)_EL SALVADOR\n",
      "AFEX_CHILE\n",
      "AFRO INTERNACIONAL_GUINEA\n",
      "AFRO INTERNACIONAL_SIERRA LEONE\n",
      "AIRPAK_MEXICO\n",
      "ARGENPER_ARGENTINA\n",
      "ARGENPER_BOLIVIA\n",
      "ARGENPER_CHILE\n",
      "ARGENPER_PERU\n",
      "BAM - BANCO AGROMERCANTIL (UT)_GUATEMALA\n",
      "BANCO AGRICOLA_EL SALVADOR\n",
      "BANCO ATLANTIDA_HONDURAS\n",
      "BANCO BHD LEON_DOMINICAN REPUBLIC\n",
      "BANCO BISA_BOLIVIA\n",
      "BANCO DAVIVIENDA SALVADORENO (BTS)_EL SALVADOR\n",
      "BANCO DAYCOVAL_BRAZIL\n",
      "BANCO DE CREDITO DEL PERU - BCP (UT)_PERU\n",
      "BANCO DE GUAYAQUIL_ECUADOR\n",
      "BANCO DE OCCIDENTE_HONDURAS\n",
      "BANCO DE ORO (BDO)_PHILIPPINES\n",
      "BANCO DEL AUSTRO_ECUADOR\n",
      "BANCO GANADERO (BOLIVIA)_BOLIVIA\n",
      "BANCO INDUSTRIAL ELS (RED CHAPINA)_EL SALVADOR\n",
      "BANCO INDUSTRIAL_GUATEMALA\n",
      "BANCO PICHINCHA (TN)_ECUADOR\n",
      "BANCO POPULAR HONDURAS (UT)_HONDURAS\n",
      "BANCO RENDIMENTO_BRAZIL\n",
      "BANCOLOMBIA_COLOMBIA\n",
      "BANCOPPEL (APPRIZA)_MEXICO\n",
      "BANHCAFE_HONDURAS\n",
      "BANK OF PHILIPPINE ISLANDS (BPI)_PHILIPPINES\n",
      "BANORTE (UT)_MEXICO\n",
      "BANPAIS (RED CHAPINA)_HONDURAS\n",
      "BANPRO_NICARAGUA\n",
      "BANRURAL (HONDURAS)_HONDURAS\n",
      "BANRURAL (RYT)_GUATEMALA\n",
      "BANTRAB (UT)_GUATEMALA\n",
      "BBVA - BANCOMER (BTS)_MEXICO\n",
      "BNB_LIBERIA\n",
      "BNB_SENEGAL\n",
      "BNB_SIERRA LEONE\n",
      "CAJA POPULAR MEXICANA (UT)_MEXICO\n",
      "CARIBE EXPRESS_DOMINICAN REPUBLIC\n",
      "CEBUANA LHUILLIER_PHILIPPINES\n",
      "COOPERATIVA CACIL (UT)_HONDURAS\n",
      "COOPERATIVA FRONTERIZA (UT)_HONDURAS\n",
      "CREDOMATIC (BTS)_NICARAGUA\n",
      "CREDOMATIC_EL SALVADOR\n",
      "CUSCA (CITI - RECIBA NETWORKS)_EL SALVADOR\n",
      "DAVIVIENDA - HONDURAS (BTS)_HONDURAS\n",
      "DAVIVIENDA_COLOMBIA\n",
      "DEPOSITOS BANCARIOS GUATEMALA - ACH_GUATEMALA\n",
      "EASY PAGOS_ECUADOR\n",
      "ECUAGIROS_ECUADOR\n",
      "ELEKTRA (BTS)_GUATEMALA\n",
      "ELEKTRA (BTS)_HONDURAS\n",
      "ELEKTRA (MEXICO)_MEXICO\n",
      "EMPENOS DEL SUR (ANTERIOR BALSAS)_MEXICO\n",
      "ENVICON (ANTERIORMENTE ENVIOS CONFIANZA)_MEXICO\n",
      "ENVIOS CON CLABE (APPRIZA)_MEXICO\n",
      "FARMACIAS DEL AHORRO (DATRANSFER)_MEXICO\n",
      "FARMACIAS GUADALAJARA (UT)_MEXICO\n",
      "FEDECACES (EL SALVADOR)_EL SALVADOR\n",
      "FEDECREDITO (RYT)_EL SALVADOR\n",
      "FICOHSA_HONDURAS\n",
      "G Y T CONTINENTAL_GUATEMALA\n",
      "GIROSMEX_MEXICO\n",
      "\u001b[1;31mError processing GIROSMEX_MEXICO\u001b[0m\n",
      "GLOBAL ENVIOS_ECUADOR\n",
      "GME_NEPAL\n",
      "GRUPO EXITO (TN)_COLOMBIA\n",
      "INTERBANK_PERU\n",
      "INTERMEX_MEXICO\n",
      "JMMB_JAMAICA\n",
      "KORI_BENIN\n",
      "KORI_BURKINA FASO\n",
      "LAFISE_NICARAGUA\n",
      "MASTERCARD ATM NETWORK_UNITED STATES\n",
      "MERCHANTRADE_BANGLADESH\n",
      "MERCHANTRADE_INDONESIA\n",
      "MERCHANTRADE_MALAYSIA\n",
      "MERCHANTRADE_NEPAL\n",
      "MERCHANTRADE_THAILAND\n",
      "METROBANK_PHILIPPINES\n",
      "MICOOPE-FENACOAC (RED CHAPINA)_GUATEMALA\n",
      "MSBB MONEY_BRAZIL\n",
      "MUTHOOT-BANGLADESH_BANGLADESH\n",
      "MUTHOOT_INDIA\n",
      "NAFA_BURKINA FASO\n",
      "NAFA_COTE D'IVOIRE (IVORY COAST)\n",
      "NAFA_GAMBIA, THE\n",
      "NAFA_GUINEA\n",
      "NAFA_LIBERIA\n",
      "NAFA_MALI\n",
      "NAFA_SENEGAL\n",
      "NAFA_TOGO\n",
      "NAIRAGRAM_NIGERIA\n",
      "OXXO (TN)_MEXICO\n",
      "PROMERICA (GUA)_GUATEMALA\n",
      "PROMERICA_EL SALVADOR\n",
      "SORIANA_MEXICO\n",
      "SPEED MONEY_PHILIPPINES\n",
      "TELECOMM TELEGRAFOS (APPRIZA)_MEXICO\n",
      "TELEDOLAR (TN)_COSTA RICA\n",
      "TELEDOLAR-NIC (TN)_NICARAGUA\n",
      "TRANSFER DIRECTO_MEXICO\n",
      "TRANSFERTO - THUNES_BELGIUM\n",
      "TRANSFERTO - THUNES_FRANCE\n",
      "TRANSFERTO - THUNES_GERMANY\n",
      "TRANSFERTO - THUNES_GHANA\n",
      "TRANSFERTO - THUNES_ITALY\n",
      "TRANSFERTO - THUNES_NIGERIA\n",
      "TRANSFERTO - THUNES_PORTUGAL\n",
      "TRANSFERTO - THUNES_SPAIN\n",
      "TRANSFERTO - THUNES_UNITED KINGDOM\n",
      "TRANSPAY_BANGLADESH\n",
      "TRANSPAY_BENIN\n",
      "TRANSPAY_CAMEROON\n",
      "TRANSPAY_INDONESIA\n",
      "TRANSPAY_SENEGAL\n",
      "TRANSPAY_TOGO\n",
      "UNITRANSFER_HAITI\n",
      "VIAMERICAS USA DEPOSITS (RT)_UNITED STATES\n",
      "VIAMERICAS USA DEPOSITS_UNITED STATES\n",
      "VTN_NIGERIA\n",
      "WALDOS (APPRIZA)_MEXICO\n",
      "WALMART (UT)_MEXICO\n",
      "YES BANK_INDIA\n",
      "ZEEPAY_CAMEROON\n",
      "ZEEPAY_COTE D'IVOIRE (IVORY COAST)\n",
      "ZEEPAY_GHANA\n"
     ]
    }
   ],
   "source": [
    "i = 1\n",
    "\n",
    "# Iterate over pkl files\n",
    "for file_key in pkl_files:\n",
    "    # Extract payer_country from file_key\n",
    "    payer_country = file_key.split('/')[2]\n",
    "    print(payer_country)\n",
    "    \n",
    "    # Download pkl file from S3 and load it into memory\n",
    "    response = client.get_object(Bucket=bucket_name, Key=file_key)\n",
    "    buffer = BytesIO(response['Body'].read())\n",
    "    forecaster = joblib.load(buffer)\n",
    "    \n",
    "    #### PAYER SETTING ####\n",
    "    # Filter data for the specific payer_country\n",
    "    datos = data[data['payer_country'] == payer_country].copy()\n",
    "#    datos = data.loc[data.payer_country == payer_country]\n",
    "    datos['date'] = pd.to_datetime(datos['date'])\n",
    "    datos.set_index('date', inplace=True)\n",
    "    datos = datos.asfreq('D')\n",
    "\n",
    "    # Predictions settings\n",
    "    last_window_date = forecaster.last_window.index[-1] + pd.Timedelta(days=1) #19/12/23 first day in last window\n",
    "    test_date = forecaster.last_window.index[-1] + pd.Timedelta(days=48) # The first test day would be the day to predict 29/12/23-==11-(esto CRECE SIEMPRE UN DIA MAS)\n",
    "\n",
    "    # Extract data for last window and test period\n",
    "    data_last_window = datos.loc[last_window_date:test_date - pd.Timedelta(days=1)].copy() #From 19/12/23 to test minus one day 28/12/23\n",
    "    data_last_window[forecaster.exog_col_names] = data_last_window[forecaster.exog_col_names].fillna(0)##extracting exogenous and filling missing\n",
    "    data_test = datos.loc[test_date:test_date + pd.Timedelta(days=8)].copy()#29/12/2023 we have data in test (first day to predict) and their extension (2 days) (7D IN 8D MODEL)\n",
    "    data_test[forecaster.exog_col_names] = data_test[forecaster.exog_col_names].fillna(0)##we fill in missings\n",
    "\n",
    "    try:\n",
    "        \n",
    "        with warnings.catch_warnings():\n",
    "            warnings.filterwarnings(\"ignore\")\n",
    "        # Make predictions\n",
    "        predictions = forecaster.predict(\n",
    "                          steps            = 8, # Days to predict\n",
    "                          exog             = data_test[forecaster.exog_col_names],\n",
    "                          last_window      = data_last_window['amount'],\n",
    "                          last_window_exog = data_last_window[forecaster.exog_col_names]\n",
    "                      )\n",
    "        # Store predictions in a temporary DataFrame\n",
    "        df_temp = pd.DataFrame(predictions, columns=['pred']).reset_index()\n",
    "\n",
    "    except:\n",
    "        # If an exception occurs, set predictions to zero\n",
    "        print(\"\\033[1;31m\" + f\"Error processing {payer_country}\" + \"\\033[0m\")\n",
    "        predictions = [0, 0]\n",
    "        df_temp = pd.DataFrame({'index': [test_date, test_date + pd.Timedelta(days=1)], 'pred': predictions})\n",
    "        payer_countries_pinched.append(payer_country)\n",
    "\n",
    "\n",
    "    # Add additional columns\n",
    "    df_temp['payer_country'] = payer_country\n",
    "    df_temp['model'] = file_key.split('/')[-1]\n",
    "\n",
    "    # Concatenate df_temp with the main DataFrame\n",
    "    if i:\n",
    "        temp_df = df_temp.copy()\n",
    "        i = 0\n",
    "    else:\n",
    "        temp_df = pd.concat([temp_df, df_temp], ignore_index=True)"
   ]
  },
  {
   "cell_type": "code",
   "execution_count": null,
   "id": "74397e19-98b3-4948-937a-5658acb5521a",
   "metadata": {
    "tags": []
   },
   "outputs": [],
   "source": [
    "#print(pkl_files)\n",
    "stop"
   ]
  },
  {
   "cell_type": "code",
   "execution_count": 36,
   "id": "d94193ea-7228-417c-8fad-30ceab99e8f8",
   "metadata": {
    "tags": []
   },
   "outputs": [
    {
     "data": {
      "text/plain": [
       "Timestamp('2023-12-19 00:00:00')"
      ]
     },
     "execution_count": 36,
     "metadata": {},
     "output_type": "execute_result"
    }
   ],
   "source": [
    "data_last_window.index.min()\n",
    "#test_date"
   ]
  },
  {
   "cell_type": "code",
   "execution_count": null,
   "id": "8cbf1370-54ad-43ce-b68a-6b6a41e1b426",
   "metadata": {
    "tags": []
   },
   "outputs": [],
   "source": [
    "payer_countries_pinched"
   ]
  },
  {
   "cell_type": "code",
   "execution_count": 37,
   "id": "b15b642a-2119-4102-829a-e2044b66f801",
   "metadata": {
    "tags": []
   },
   "outputs": [
    {
     "data": {
      "text/html": [
       "<div>\n",
       "<style scoped>\n",
       "    .dataframe tbody tr th:only-of-type {\n",
       "        vertical-align: middle;\n",
       "    }\n",
       "\n",
       "    .dataframe tbody tr th {\n",
       "        vertical-align: top;\n",
       "    }\n",
       "\n",
       "    .dataframe thead th {\n",
       "        text-align: right;\n",
       "    }\n",
       "</style>\n",
       "<table border=\"1\" class=\"dataframe\">\n",
       "  <thead>\n",
       "    <tr style=\"text-align: right;\">\n",
       "      <th></th>\n",
       "      <th>index</th>\n",
       "      <th>pred</th>\n",
       "      <th>payer_country</th>\n",
       "      <th>model</th>\n",
       "    </tr>\n",
       "  </thead>\n",
       "  <tbody>\n",
       "    <tr>\n",
       "      <th>208</th>\n",
       "      <td>2024-01-25</td>\n",
       "      <td>-184.123648</td>\n",
       "      <td>BANCO POPULAR HONDURAS (UT)_HONDURAS</td>\n",
       "      <td>MODEL_7dBANCO POPULAR HONDURAS (UT)_HONDURAS.pkl</td>\n",
       "    </tr>\n",
       "    <tr>\n",
       "      <th>212</th>\n",
       "      <td>2024-01-29</td>\n",
       "      <td>-40.048305</td>\n",
       "      <td>BANCO POPULAR HONDURAS (UT)_HONDURAS</td>\n",
       "      <td>MODEL_7dBANCO POPULAR HONDURAS (UT)_HONDURAS.pkl</td>\n",
       "    </tr>\n",
       "    <tr>\n",
       "      <th>213</th>\n",
       "      <td>2024-01-30</td>\n",
       "      <td>-120.512884</td>\n",
       "      <td>BANCO POPULAR HONDURAS (UT)_HONDURAS</td>\n",
       "      <td>MODEL_7dBANCO POPULAR HONDURAS (UT)_HONDURAS.pkl</td>\n",
       "    </tr>\n",
       "    <tr>\n",
       "      <th>214</th>\n",
       "      <td>2024-01-31</td>\n",
       "      <td>-153.487272</td>\n",
       "      <td>BANCO POPULAR HONDURAS (UT)_HONDURAS</td>\n",
       "      <td>MODEL_7dBANCO POPULAR HONDURAS (UT)_HONDURAS.pkl</td>\n",
       "    </tr>\n",
       "    <tr>\n",
       "      <th>215</th>\n",
       "      <td>2024-02-01</td>\n",
       "      <td>-176.684666</td>\n",
       "      <td>BANCO POPULAR HONDURAS (UT)_HONDURAS</td>\n",
       "      <td>MODEL_7dBANCO POPULAR HONDURAS (UT)_HONDURAS.pkl</td>\n",
       "    </tr>\n",
       "    <tr>\n",
       "      <th>320</th>\n",
       "      <td>2024-02-04</td>\n",
       "      <td>-53.555528</td>\n",
       "      <td>BNB_SENEGAL</td>\n",
       "      <td>MODEL_7dBNB_SENEGAL.pkl</td>\n",
       "    </tr>\n",
       "    <tr>\n",
       "      <th>321</th>\n",
       "      <td>2024-02-05</td>\n",
       "      <td>-108.375092</td>\n",
       "      <td>BNB_SENEGAL</td>\n",
       "      <td>MODEL_7dBNB_SENEGAL.pkl</td>\n",
       "    </tr>\n",
       "    <tr>\n",
       "      <th>322</th>\n",
       "      <td>2024-02-06</td>\n",
       "      <td>-164.629078</td>\n",
       "      <td>BNB_SENEGAL</td>\n",
       "      <td>MODEL_7dBNB_SENEGAL.pkl</td>\n",
       "    </tr>\n",
       "    <tr>\n",
       "      <th>323</th>\n",
       "      <td>2024-02-07</td>\n",
       "      <td>-210.278328</td>\n",
       "      <td>BNB_SENEGAL</td>\n",
       "      <td>MODEL_7dBNB_SENEGAL.pkl</td>\n",
       "    </tr>\n",
       "    <tr>\n",
       "      <th>324</th>\n",
       "      <td>2024-02-08</td>\n",
       "      <td>-244.369926</td>\n",
       "      <td>BNB_SENEGAL</td>\n",
       "      <td>MODEL_7dBNB_SENEGAL.pkl</td>\n",
       "    </tr>\n",
       "    <tr>\n",
       "      <th>325</th>\n",
       "      <td>2024-02-09</td>\n",
       "      <td>-266.254989</td>\n",
       "      <td>BNB_SENEGAL</td>\n",
       "      <td>MODEL_7dBNB_SENEGAL.pkl</td>\n",
       "    </tr>\n",
       "    <tr>\n",
       "      <th>326</th>\n",
       "      <td>2024-02-10</td>\n",
       "      <td>-277.994035</td>\n",
       "      <td>BNB_SENEGAL</td>\n",
       "      <td>MODEL_7dBNB_SENEGAL.pkl</td>\n",
       "    </tr>\n",
       "    <tr>\n",
       "      <th>327</th>\n",
       "      <td>2024-02-11</td>\n",
       "      <td>-282.004535</td>\n",
       "      <td>BNB_SENEGAL</td>\n",
       "      <td>MODEL_7dBNB_SENEGAL.pkl</td>\n",
       "    </tr>\n",
       "    <tr>\n",
       "      <th>328</th>\n",
       "      <td>2023-12-30</td>\n",
       "      <td>-0.011404</td>\n",
       "      <td>BNB_SIERRA LEONE</td>\n",
       "      <td>MODEL_7dBNB_SIERRA LEONE.pkl</td>\n",
       "    </tr>\n",
       "    <tr>\n",
       "      <th>331</th>\n",
       "      <td>2024-01-02</td>\n",
       "      <td>-0.080759</td>\n",
       "      <td>BNB_SIERRA LEONE</td>\n",
       "      <td>MODEL_7dBNB_SIERRA LEONE.pkl</td>\n",
       "    </tr>\n",
       "    <tr>\n",
       "      <th>334</th>\n",
       "      <td>2024-01-05</td>\n",
       "      <td>-0.062967</td>\n",
       "      <td>BNB_SIERRA LEONE</td>\n",
       "      <td>MODEL_7dBNB_SIERRA LEONE.pkl</td>\n",
       "    </tr>\n",
       "    <tr>\n",
       "      <th>335</th>\n",
       "      <td>2024-01-06</td>\n",
       "      <td>-0.023019</td>\n",
       "      <td>BNB_SIERRA LEONE</td>\n",
       "      <td>MODEL_7dBNB_SIERRA LEONE.pkl</td>\n",
       "    </tr>\n",
       "    <tr>\n",
       "      <th>338</th>\n",
       "      <td>2024-02-06</td>\n",
       "      <td>-1027.977244</td>\n",
       "      <td>CAJA POPULAR MEXICANA (UT)_MEXICO</td>\n",
       "      <td>MODEL_7dCAJA POPULAR MEXICANA (UT)_MEXICO.pkl</td>\n",
       "    </tr>\n",
       "    <tr>\n",
       "      <th>339</th>\n",
       "      <td>2024-02-07</td>\n",
       "      <td>-778.019772</td>\n",
       "      <td>CAJA POPULAR MEXICANA (UT)_MEXICO</td>\n",
       "      <td>MODEL_7dCAJA POPULAR MEXICANA (UT)_MEXICO.pkl</td>\n",
       "    </tr>\n",
       "    <tr>\n",
       "      <th>342</th>\n",
       "      <td>2024-02-10</td>\n",
       "      <td>-746.461510</td>\n",
       "      <td>CAJA POPULAR MEXICANA (UT)_MEXICO</td>\n",
       "      <td>MODEL_7dCAJA POPULAR MEXICANA (UT)_MEXICO.pkl</td>\n",
       "    </tr>\n",
       "    <tr>\n",
       "      <th>588</th>\n",
       "      <td>2024-02-06</td>\n",
       "      <td>-32.114011</td>\n",
       "      <td>KORI_BENIN</td>\n",
       "      <td>MODEL_7dKORI_BENIN.pkl</td>\n",
       "    </tr>\n",
       "    <tr>\n",
       "      <th>594</th>\n",
       "      <td>2024-02-04</td>\n",
       "      <td>-13.290399</td>\n",
       "      <td>KORI_BURKINA FASO</td>\n",
       "      <td>MODEL_7dKORI_BURKINA FASO.pkl</td>\n",
       "    </tr>\n",
       "    <tr>\n",
       "      <th>595</th>\n",
       "      <td>2024-02-05</td>\n",
       "      <td>-1.316018</td>\n",
       "      <td>KORI_BURKINA FASO</td>\n",
       "      <td>MODEL_7dKORI_BURKINA FASO.pkl</td>\n",
       "    </tr>\n",
       "    <tr>\n",
       "      <th>598</th>\n",
       "      <td>2024-02-08</td>\n",
       "      <td>-0.560327</td>\n",
       "      <td>KORI_BURKINA FASO</td>\n",
       "      <td>MODEL_7dKORI_BURKINA FASO.pkl</td>\n",
       "    </tr>\n",
       "    <tr>\n",
       "      <th>600</th>\n",
       "      <td>2024-02-10</td>\n",
       "      <td>-0.115607</td>\n",
       "      <td>KORI_BURKINA FASO</td>\n",
       "      <td>MODEL_7dKORI_BURKINA FASO.pkl</td>\n",
       "    </tr>\n",
       "    <tr>\n",
       "      <th>601</th>\n",
       "      <td>2024-02-11</td>\n",
       "      <td>-0.024883</td>\n",
       "      <td>KORI_BURKINA FASO</td>\n",
       "      <td>MODEL_7dKORI_BURKINA FASO.pkl</td>\n",
       "    </tr>\n",
       "    <tr>\n",
       "      <th>634</th>\n",
       "      <td>2024-02-04</td>\n",
       "      <td>-1.425010</td>\n",
       "      <td>MERCHANTRADE_MALAYSIA</td>\n",
       "      <td>MODEL_7dMERCHANTRADE_MALAYSIA.pkl</td>\n",
       "    </tr>\n",
       "    <tr>\n",
       "      <th>642</th>\n",
       "      <td>2024-02-04</td>\n",
       "      <td>-549.467735</td>\n",
       "      <td>MERCHANTRADE_NEPAL</td>\n",
       "      <td>MODEL_7dMERCHANTRADE_NEPAL.pkl</td>\n",
       "    </tr>\n",
       "    <tr>\n",
       "      <th>646</th>\n",
       "      <td>2024-02-08</td>\n",
       "      <td>-401.052427</td>\n",
       "      <td>MERCHANTRADE_NEPAL</td>\n",
       "      <td>MODEL_7dMERCHANTRADE_NEPAL.pkl</td>\n",
       "    </tr>\n",
       "    <tr>\n",
       "      <th>684</th>\n",
       "      <td>2024-02-06</td>\n",
       "      <td>-2080.326085</td>\n",
       "      <td>MUTHOOT-BANGLADESH_BANGLADESH</td>\n",
       "      <td>MODEL_7dMUTHOOT-BANGLADESH_BANGLADESH.pkl</td>\n",
       "    </tr>\n",
       "    <tr>\n",
       "      <th>691</th>\n",
       "      <td>2024-02-05</td>\n",
       "      <td>-88.375793</td>\n",
       "      <td>MUTHOOT_INDIA</td>\n",
       "      <td>MODEL_7dMUTHOOT_INDIA.pkl</td>\n",
       "    </tr>\n",
       "    <tr>\n",
       "      <th>696</th>\n",
       "      <td>2024-02-10</td>\n",
       "      <td>-9.915924</td>\n",
       "      <td>MUTHOOT_INDIA</td>\n",
       "      <td>MODEL_7dMUTHOOT_INDIA.pkl</td>\n",
       "    </tr>\n",
       "    <tr>\n",
       "      <th>697</th>\n",
       "      <td>2024-02-11</td>\n",
       "      <td>-59.840361</td>\n",
       "      <td>MUTHOOT_INDIA</td>\n",
       "      <td>MODEL_7dMUTHOOT_INDIA.pkl</td>\n",
       "    </tr>\n",
       "    <tr>\n",
       "      <th>703</th>\n",
       "      <td>2024-02-09</td>\n",
       "      <td>-81.836402</td>\n",
       "      <td>NAFA_BURKINA FASO</td>\n",
       "      <td>MODEL_7dNAFA_BURKINA FASO.pkl</td>\n",
       "    </tr>\n",
       "    <tr>\n",
       "      <th>866</th>\n",
       "      <td>2024-02-04</td>\n",
       "      <td>-34.226143</td>\n",
       "      <td>TRANSFERTO - THUNES_GHANA</td>\n",
       "      <td>MODEL_7dTRANSFERTO - THUNES_GHANA.pkl</td>\n",
       "    </tr>\n",
       "    <tr>\n",
       "      <th>889</th>\n",
       "      <td>2024-02-11</td>\n",
       "      <td>-145.953801</td>\n",
       "      <td>TRANSFERTO - THUNES_NIGERIA</td>\n",
       "      <td>MODEL_7dTRANSFERTO - THUNES_NIGERIA.pkl</td>\n",
       "    </tr>\n",
       "    <tr>\n",
       "      <th>915</th>\n",
       "      <td>2024-01-30</td>\n",
       "      <td>-36.474501</td>\n",
       "      <td>TRANSPAY_BANGLADESH</td>\n",
       "      <td>MODEL_7dTRANSPAY_BANGLADESH.pkl</td>\n",
       "    </tr>\n",
       "    <tr>\n",
       "      <th>986</th>\n",
       "      <td>2024-02-01</td>\n",
       "      <td>-28.064588</td>\n",
       "      <td>VTN_NIGERIA</td>\n",
       "      <td>MODEL_7dVTN_NIGERIA.pkl</td>\n",
       "    </tr>\n",
       "    <tr>\n",
       "      <th>987</th>\n",
       "      <td>2024-02-02</td>\n",
       "      <td>-31.349682</td>\n",
       "      <td>VTN_NIGERIA</td>\n",
       "      <td>MODEL_7dVTN_NIGERIA.pkl</td>\n",
       "    </tr>\n",
       "    <tr>\n",
       "      <th>988</th>\n",
       "      <td>2024-02-03</td>\n",
       "      <td>-42.379660</td>\n",
       "      <td>VTN_NIGERIA</td>\n",
       "      <td>MODEL_7dVTN_NIGERIA.pkl</td>\n",
       "    </tr>\n",
       "    <tr>\n",
       "      <th>989</th>\n",
       "      <td>2024-02-04</td>\n",
       "      <td>-36.000217</td>\n",
       "      <td>VTN_NIGERIA</td>\n",
       "      <td>MODEL_7dVTN_NIGERIA.pkl</td>\n",
       "    </tr>\n",
       "    <tr>\n",
       "      <th>990</th>\n",
       "      <td>2024-02-05</td>\n",
       "      <td>-28.101664</td>\n",
       "      <td>VTN_NIGERIA</td>\n",
       "      <td>MODEL_7dVTN_NIGERIA.pkl</td>\n",
       "    </tr>\n",
       "    <tr>\n",
       "      <th>991</th>\n",
       "      <td>2024-02-06</td>\n",
       "      <td>-20.810273</td>\n",
       "      <td>VTN_NIGERIA</td>\n",
       "      <td>MODEL_7dVTN_NIGERIA.pkl</td>\n",
       "    </tr>\n",
       "    <tr>\n",
       "      <th>992</th>\n",
       "      <td>2024-02-07</td>\n",
       "      <td>-35.478558</td>\n",
       "      <td>VTN_NIGERIA</td>\n",
       "      <td>MODEL_7dVTN_NIGERIA.pkl</td>\n",
       "    </tr>\n",
       "    <tr>\n",
       "      <th>993</th>\n",
       "      <td>2024-02-08</td>\n",
       "      <td>-29.024928</td>\n",
       "      <td>VTN_NIGERIA</td>\n",
       "      <td>MODEL_7dVTN_NIGERIA.pkl</td>\n",
       "    </tr>\n",
       "    <tr>\n",
       "      <th>1018</th>\n",
       "      <td>2024-01-18</td>\n",
       "      <td>-0.380621</td>\n",
       "      <td>ZEEPAY_CAMEROON</td>\n",
       "      <td>MODEL_7dZEEPAY_CAMEROON.pkl</td>\n",
       "    </tr>\n",
       "    <tr>\n",
       "      <th>1020</th>\n",
       "      <td>2024-01-20</td>\n",
       "      <td>-77.750516</td>\n",
       "      <td>ZEEPAY_CAMEROON</td>\n",
       "      <td>MODEL_7dZEEPAY_CAMEROON.pkl</td>\n",
       "    </tr>\n",
       "    <tr>\n",
       "      <th>1021</th>\n",
       "      <td>2024-01-21</td>\n",
       "      <td>-2.177830</td>\n",
       "      <td>ZEEPAY_CAMEROON</td>\n",
       "      <td>MODEL_7dZEEPAY_CAMEROON.pkl</td>\n",
       "    </tr>\n",
       "    <tr>\n",
       "      <th>1034</th>\n",
       "      <td>2024-02-04</td>\n",
       "      <td>-8990.466688</td>\n",
       "      <td>ZEEPAY_GHANA</td>\n",
       "      <td>MODEL_7dZEEPAY_GHANA.pkl</td>\n",
       "    </tr>\n",
       "    <tr>\n",
       "      <th>1036</th>\n",
       "      <td>2024-02-06</td>\n",
       "      <td>-931.817850</td>\n",
       "      <td>ZEEPAY_GHANA</td>\n",
       "      <td>MODEL_7dZEEPAY_GHANA.pkl</td>\n",
       "    </tr>\n",
       "    <tr>\n",
       "      <th>1037</th>\n",
       "      <td>2024-02-07</td>\n",
       "      <td>-1344.218564</td>\n",
       "      <td>ZEEPAY_GHANA</td>\n",
       "      <td>MODEL_7dZEEPAY_GHANA.pkl</td>\n",
       "    </tr>\n",
       "    <tr>\n",
       "      <th>1038</th>\n",
       "      <td>2024-02-08</td>\n",
       "      <td>-1434.785245</td>\n",
       "      <td>ZEEPAY_GHANA</td>\n",
       "      <td>MODEL_7dZEEPAY_GHANA.pkl</td>\n",
       "    </tr>\n",
       "    <tr>\n",
       "      <th>1040</th>\n",
       "      <td>2024-02-10</td>\n",
       "      <td>-3125.169906</td>\n",
       "      <td>ZEEPAY_GHANA</td>\n",
       "      <td>MODEL_7dZEEPAY_GHANA.pkl</td>\n",
       "    </tr>\n",
       "    <tr>\n",
       "      <th>1041</th>\n",
       "      <td>2024-02-11</td>\n",
       "      <td>-10161.359759</td>\n",
       "      <td>ZEEPAY_GHANA</td>\n",
       "      <td>MODEL_7dZEEPAY_GHANA.pkl</td>\n",
       "    </tr>\n",
       "  </tbody>\n",
       "</table>\n",
       "</div>"
      ],
      "text/plain": [
       "          index          pred                         payer_country  \\\n",
       "208  2024-01-25   -184.123648  BANCO POPULAR HONDURAS (UT)_HONDURAS   \n",
       "212  2024-01-29    -40.048305  BANCO POPULAR HONDURAS (UT)_HONDURAS   \n",
       "213  2024-01-30   -120.512884  BANCO POPULAR HONDURAS (UT)_HONDURAS   \n",
       "214  2024-01-31   -153.487272  BANCO POPULAR HONDURAS (UT)_HONDURAS   \n",
       "215  2024-02-01   -176.684666  BANCO POPULAR HONDURAS (UT)_HONDURAS   \n",
       "320  2024-02-04    -53.555528                           BNB_SENEGAL   \n",
       "321  2024-02-05   -108.375092                           BNB_SENEGAL   \n",
       "322  2024-02-06   -164.629078                           BNB_SENEGAL   \n",
       "323  2024-02-07   -210.278328                           BNB_SENEGAL   \n",
       "324  2024-02-08   -244.369926                           BNB_SENEGAL   \n",
       "325  2024-02-09   -266.254989                           BNB_SENEGAL   \n",
       "326  2024-02-10   -277.994035                           BNB_SENEGAL   \n",
       "327  2024-02-11   -282.004535                           BNB_SENEGAL   \n",
       "328  2023-12-30     -0.011404                      BNB_SIERRA LEONE   \n",
       "331  2024-01-02     -0.080759                      BNB_SIERRA LEONE   \n",
       "334  2024-01-05     -0.062967                      BNB_SIERRA LEONE   \n",
       "335  2024-01-06     -0.023019                      BNB_SIERRA LEONE   \n",
       "338  2024-02-06  -1027.977244     CAJA POPULAR MEXICANA (UT)_MEXICO   \n",
       "339  2024-02-07   -778.019772     CAJA POPULAR MEXICANA (UT)_MEXICO   \n",
       "342  2024-02-10   -746.461510     CAJA POPULAR MEXICANA (UT)_MEXICO   \n",
       "588  2024-02-06    -32.114011                            KORI_BENIN   \n",
       "594  2024-02-04    -13.290399                     KORI_BURKINA FASO   \n",
       "595  2024-02-05     -1.316018                     KORI_BURKINA FASO   \n",
       "598  2024-02-08     -0.560327                     KORI_BURKINA FASO   \n",
       "600  2024-02-10     -0.115607                     KORI_BURKINA FASO   \n",
       "601  2024-02-11     -0.024883                     KORI_BURKINA FASO   \n",
       "634  2024-02-04     -1.425010                 MERCHANTRADE_MALAYSIA   \n",
       "642  2024-02-04   -549.467735                    MERCHANTRADE_NEPAL   \n",
       "646  2024-02-08   -401.052427                    MERCHANTRADE_NEPAL   \n",
       "684  2024-02-06  -2080.326085         MUTHOOT-BANGLADESH_BANGLADESH   \n",
       "691  2024-02-05    -88.375793                         MUTHOOT_INDIA   \n",
       "696  2024-02-10     -9.915924                         MUTHOOT_INDIA   \n",
       "697  2024-02-11    -59.840361                         MUTHOOT_INDIA   \n",
       "703  2024-02-09    -81.836402                     NAFA_BURKINA FASO   \n",
       "866  2024-02-04    -34.226143             TRANSFERTO - THUNES_GHANA   \n",
       "889  2024-02-11   -145.953801           TRANSFERTO - THUNES_NIGERIA   \n",
       "915  2024-01-30    -36.474501                   TRANSPAY_BANGLADESH   \n",
       "986  2024-02-01    -28.064588                           VTN_NIGERIA   \n",
       "987  2024-02-02    -31.349682                           VTN_NIGERIA   \n",
       "988  2024-02-03    -42.379660                           VTN_NIGERIA   \n",
       "989  2024-02-04    -36.000217                           VTN_NIGERIA   \n",
       "990  2024-02-05    -28.101664                           VTN_NIGERIA   \n",
       "991  2024-02-06    -20.810273                           VTN_NIGERIA   \n",
       "992  2024-02-07    -35.478558                           VTN_NIGERIA   \n",
       "993  2024-02-08    -29.024928                           VTN_NIGERIA   \n",
       "1018 2024-01-18     -0.380621                       ZEEPAY_CAMEROON   \n",
       "1020 2024-01-20    -77.750516                       ZEEPAY_CAMEROON   \n",
       "1021 2024-01-21     -2.177830                       ZEEPAY_CAMEROON   \n",
       "1034 2024-02-04  -8990.466688                          ZEEPAY_GHANA   \n",
       "1036 2024-02-06   -931.817850                          ZEEPAY_GHANA   \n",
       "1037 2024-02-07  -1344.218564                          ZEEPAY_GHANA   \n",
       "1038 2024-02-08  -1434.785245                          ZEEPAY_GHANA   \n",
       "1040 2024-02-10  -3125.169906                          ZEEPAY_GHANA   \n",
       "1041 2024-02-11 -10161.359759                          ZEEPAY_GHANA   \n",
       "\n",
       "                                                 model  \n",
       "208   MODEL_7dBANCO POPULAR HONDURAS (UT)_HONDURAS.pkl  \n",
       "212   MODEL_7dBANCO POPULAR HONDURAS (UT)_HONDURAS.pkl  \n",
       "213   MODEL_7dBANCO POPULAR HONDURAS (UT)_HONDURAS.pkl  \n",
       "214   MODEL_7dBANCO POPULAR HONDURAS (UT)_HONDURAS.pkl  \n",
       "215   MODEL_7dBANCO POPULAR HONDURAS (UT)_HONDURAS.pkl  \n",
       "320                            MODEL_7dBNB_SENEGAL.pkl  \n",
       "321                            MODEL_7dBNB_SENEGAL.pkl  \n",
       "322                            MODEL_7dBNB_SENEGAL.pkl  \n",
       "323                            MODEL_7dBNB_SENEGAL.pkl  \n",
       "324                            MODEL_7dBNB_SENEGAL.pkl  \n",
       "325                            MODEL_7dBNB_SENEGAL.pkl  \n",
       "326                            MODEL_7dBNB_SENEGAL.pkl  \n",
       "327                            MODEL_7dBNB_SENEGAL.pkl  \n",
       "328                       MODEL_7dBNB_SIERRA LEONE.pkl  \n",
       "331                       MODEL_7dBNB_SIERRA LEONE.pkl  \n",
       "334                       MODEL_7dBNB_SIERRA LEONE.pkl  \n",
       "335                       MODEL_7dBNB_SIERRA LEONE.pkl  \n",
       "338      MODEL_7dCAJA POPULAR MEXICANA (UT)_MEXICO.pkl  \n",
       "339      MODEL_7dCAJA POPULAR MEXICANA (UT)_MEXICO.pkl  \n",
       "342      MODEL_7dCAJA POPULAR MEXICANA (UT)_MEXICO.pkl  \n",
       "588                             MODEL_7dKORI_BENIN.pkl  \n",
       "594                      MODEL_7dKORI_BURKINA FASO.pkl  \n",
       "595                      MODEL_7dKORI_BURKINA FASO.pkl  \n",
       "598                      MODEL_7dKORI_BURKINA FASO.pkl  \n",
       "600                      MODEL_7dKORI_BURKINA FASO.pkl  \n",
       "601                      MODEL_7dKORI_BURKINA FASO.pkl  \n",
       "634                  MODEL_7dMERCHANTRADE_MALAYSIA.pkl  \n",
       "642                     MODEL_7dMERCHANTRADE_NEPAL.pkl  \n",
       "646                     MODEL_7dMERCHANTRADE_NEPAL.pkl  \n",
       "684          MODEL_7dMUTHOOT-BANGLADESH_BANGLADESH.pkl  \n",
       "691                          MODEL_7dMUTHOOT_INDIA.pkl  \n",
       "696                          MODEL_7dMUTHOOT_INDIA.pkl  \n",
       "697                          MODEL_7dMUTHOOT_INDIA.pkl  \n",
       "703                      MODEL_7dNAFA_BURKINA FASO.pkl  \n",
       "866              MODEL_7dTRANSFERTO - THUNES_GHANA.pkl  \n",
       "889            MODEL_7dTRANSFERTO - THUNES_NIGERIA.pkl  \n",
       "915                    MODEL_7dTRANSPAY_BANGLADESH.pkl  \n",
       "986                            MODEL_7dVTN_NIGERIA.pkl  \n",
       "987                            MODEL_7dVTN_NIGERIA.pkl  \n",
       "988                            MODEL_7dVTN_NIGERIA.pkl  \n",
       "989                            MODEL_7dVTN_NIGERIA.pkl  \n",
       "990                            MODEL_7dVTN_NIGERIA.pkl  \n",
       "991                            MODEL_7dVTN_NIGERIA.pkl  \n",
       "992                            MODEL_7dVTN_NIGERIA.pkl  \n",
       "993                            MODEL_7dVTN_NIGERIA.pkl  \n",
       "1018                       MODEL_7dZEEPAY_CAMEROON.pkl  \n",
       "1020                       MODEL_7dZEEPAY_CAMEROON.pkl  \n",
       "1021                       MODEL_7dZEEPAY_CAMEROON.pkl  \n",
       "1034                          MODEL_7dZEEPAY_GHANA.pkl  \n",
       "1036                          MODEL_7dZEEPAY_GHANA.pkl  \n",
       "1037                          MODEL_7dZEEPAY_GHANA.pkl  \n",
       "1038                          MODEL_7dZEEPAY_GHANA.pkl  \n",
       "1040                          MODEL_7dZEEPAY_GHANA.pkl  \n",
       "1041                          MODEL_7dZEEPAY_GHANA.pkl  "
      ]
     },
     "execution_count": 37,
     "metadata": {},
     "output_type": "execute_result"
    }
   ],
   "source": [
    "temp_df[temp_df['pred'] < 0]"
   ]
  },
  {
   "cell_type": "code",
   "execution_count": 38,
   "id": "a00be102-5250-4477-8d58-7767b039f6c9",
   "metadata": {
    "tags": []
   },
   "outputs": [],
   "source": [
    "# Replace values in 'pred' column with 0 where 'pred' is less than 0\n",
    "temp_df.loc[temp_df['pred'] < 0, 'pred'] = 0"
   ]
  },
  {
   "cell_type": "code",
   "execution_count": 39,
   "id": "4bd3f5a8-3a7e-4939-b261-ee45af7f9f5d",
   "metadata": {
    "tags": []
   },
   "outputs": [],
   "source": [
    "# Convert 'index' column to date format\n",
    "temp_df['index'] = pd.to_datetime(temp_df['index']).dt.date"
   ]
  },
  {
   "cell_type": "code",
   "execution_count": 40,
   "id": "9c8cc489-4819-42d3-a523-cd97534f180a",
   "metadata": {
    "tags": []
   },
   "outputs": [
    {
     "data": {
      "text/html": [
       "<div>\n",
       "<style scoped>\n",
       "    .dataframe tbody tr th:only-of-type {\n",
       "        vertical-align: middle;\n",
       "    }\n",
       "\n",
       "    .dataframe tbody tr th {\n",
       "        vertical-align: top;\n",
       "    }\n",
       "\n",
       "    .dataframe thead th {\n",
       "        text-align: right;\n",
       "    }\n",
       "</style>\n",
       "<table border=\"1\" class=\"dataframe\">\n",
       "  <thead>\n",
       "    <tr style=\"text-align: right;\">\n",
       "      <th></th>\n",
       "      <th>index</th>\n",
       "      <th>pred</th>\n",
       "      <th>payer_country</th>\n",
       "      <th>model</th>\n",
       "    </tr>\n",
       "  </thead>\n",
       "  <tbody>\n",
       "    <tr>\n",
       "      <th>0</th>\n",
       "      <td>2024-02-04</td>\n",
       "      <td>51071.713833</td>\n",
       "      <td>24XORO_MEXICO</td>\n",
       "      <td>MODEL_7d24XORO_MEXICO.pkl</td>\n",
       "    </tr>\n",
       "    <tr>\n",
       "      <th>1</th>\n",
       "      <td>2024-02-05</td>\n",
       "      <td>36777.216823</td>\n",
       "      <td>24XORO_MEXICO</td>\n",
       "      <td>MODEL_7d24XORO_MEXICO.pkl</td>\n",
       "    </tr>\n",
       "    <tr>\n",
       "      <th>2</th>\n",
       "      <td>2024-02-06</td>\n",
       "      <td>29308.021520</td>\n",
       "      <td>24XORO_MEXICO</td>\n",
       "      <td>MODEL_7d24XORO_MEXICO.pkl</td>\n",
       "    </tr>\n",
       "    <tr>\n",
       "      <th>3</th>\n",
       "      <td>2024-02-07</td>\n",
       "      <td>34602.889308</td>\n",
       "      <td>24XORO_MEXICO</td>\n",
       "      <td>MODEL_7d24XORO_MEXICO.pkl</td>\n",
       "    </tr>\n",
       "  </tbody>\n",
       "</table>\n",
       "</div>"
      ],
      "text/plain": [
       "        index          pred  payer_country                      model\n",
       "0  2024-02-04  51071.713833  24XORO_MEXICO  MODEL_7d24XORO_MEXICO.pkl\n",
       "1  2024-02-05  36777.216823  24XORO_MEXICO  MODEL_7d24XORO_MEXICO.pkl\n",
       "2  2024-02-06  29308.021520  24XORO_MEXICO  MODEL_7d24XORO_MEXICO.pkl\n",
       "3  2024-02-07  34602.889308  24XORO_MEXICO  MODEL_7d24XORO_MEXICO.pkl"
      ]
     },
     "execution_count": 40,
     "metadata": {},
     "output_type": "execute_result"
    }
   ],
   "source": [
    "temp_df.head(4)"
   ]
  },
  {
   "cell_type": "code",
   "execution_count": 41,
   "id": "390fb1f8-dfea-4c71-8642-da145b185cb3",
   "metadata": {
    "tags": []
   },
   "outputs": [],
   "source": [
    "temp_df.rename(columns={'index':'pred_date'}, inplace=True)"
   ]
  },
  {
   "cell_type": "code",
   "execution_count": 42,
   "id": "e72d3009-ad50-4c87-b525-e13f37c7dcbe",
   "metadata": {},
   "outputs": [
    {
     "data": {
      "text/html": [
       "<div>\n",
       "<style scoped>\n",
       "    .dataframe tbody tr th:only-of-type {\n",
       "        vertical-align: middle;\n",
       "    }\n",
       "\n",
       "    .dataframe tbody tr th {\n",
       "        vertical-align: top;\n",
       "    }\n",
       "\n",
       "    .dataframe thead th {\n",
       "        text-align: right;\n",
       "    }\n",
       "</style>\n",
       "<table border=\"1\" class=\"dataframe\">\n",
       "  <thead>\n",
       "    <tr style=\"text-align: right;\">\n",
       "      <th></th>\n",
       "      <th>pred_date</th>\n",
       "      <th>pred</th>\n",
       "      <th>payer_country</th>\n",
       "      <th>model</th>\n",
       "    </tr>\n",
       "  </thead>\n",
       "  <tbody>\n",
       "    <tr>\n",
       "      <th>0</th>\n",
       "      <td>2024-02-04</td>\n",
       "      <td>51071.713833</td>\n",
       "      <td>24XORO_MEXICO</td>\n",
       "      <td>MODEL_7d24XORO_MEXICO.pkl</td>\n",
       "    </tr>\n",
       "    <tr>\n",
       "      <th>1</th>\n",
       "      <td>2024-02-05</td>\n",
       "      <td>36777.216823</td>\n",
       "      <td>24XORO_MEXICO</td>\n",
       "      <td>MODEL_7d24XORO_MEXICO.pkl</td>\n",
       "    </tr>\n",
       "    <tr>\n",
       "      <th>2</th>\n",
       "      <td>2024-02-06</td>\n",
       "      <td>29308.021520</td>\n",
       "      <td>24XORO_MEXICO</td>\n",
       "      <td>MODEL_7d24XORO_MEXICO.pkl</td>\n",
       "    </tr>\n",
       "    <tr>\n",
       "      <th>3</th>\n",
       "      <td>2024-02-07</td>\n",
       "      <td>34602.889308</td>\n",
       "      <td>24XORO_MEXICO</td>\n",
       "      <td>MODEL_7d24XORO_MEXICO.pkl</td>\n",
       "    </tr>\n",
       "    <tr>\n",
       "      <th>4</th>\n",
       "      <td>2024-02-08</td>\n",
       "      <td>30823.064887</td>\n",
       "      <td>24XORO_MEXICO</td>\n",
       "      <td>MODEL_7d24XORO_MEXICO.pkl</td>\n",
       "    </tr>\n",
       "    <tr>\n",
       "      <th>...</th>\n",
       "      <td>...</td>\n",
       "      <td>...</td>\n",
       "      <td>...</td>\n",
       "      <td>...</td>\n",
       "    </tr>\n",
       "    <tr>\n",
       "      <th>1037</th>\n",
       "      <td>2024-02-07</td>\n",
       "      <td>0.000000</td>\n",
       "      <td>ZEEPAY_GHANA</td>\n",
       "      <td>MODEL_7dZEEPAY_GHANA.pkl</td>\n",
       "    </tr>\n",
       "    <tr>\n",
       "      <th>1038</th>\n",
       "      <td>2024-02-08</td>\n",
       "      <td>0.000000</td>\n",
       "      <td>ZEEPAY_GHANA</td>\n",
       "      <td>MODEL_7dZEEPAY_GHANA.pkl</td>\n",
       "    </tr>\n",
       "    <tr>\n",
       "      <th>1039</th>\n",
       "      <td>2024-02-09</td>\n",
       "      <td>947.553815</td>\n",
       "      <td>ZEEPAY_GHANA</td>\n",
       "      <td>MODEL_7dZEEPAY_GHANA.pkl</td>\n",
       "    </tr>\n",
       "    <tr>\n",
       "      <th>1040</th>\n",
       "      <td>2024-02-10</td>\n",
       "      <td>0.000000</td>\n",
       "      <td>ZEEPAY_GHANA</td>\n",
       "      <td>MODEL_7dZEEPAY_GHANA.pkl</td>\n",
       "    </tr>\n",
       "    <tr>\n",
       "      <th>1041</th>\n",
       "      <td>2024-02-11</td>\n",
       "      <td>0.000000</td>\n",
       "      <td>ZEEPAY_GHANA</td>\n",
       "      <td>MODEL_7dZEEPAY_GHANA.pkl</td>\n",
       "    </tr>\n",
       "  </tbody>\n",
       "</table>\n",
       "<p>1042 rows × 4 columns</p>\n",
       "</div>"
      ],
      "text/plain": [
       "       pred_date          pred  payer_country                      model\n",
       "0     2024-02-04  51071.713833  24XORO_MEXICO  MODEL_7d24XORO_MEXICO.pkl\n",
       "1     2024-02-05  36777.216823  24XORO_MEXICO  MODEL_7d24XORO_MEXICO.pkl\n",
       "2     2024-02-06  29308.021520  24XORO_MEXICO  MODEL_7d24XORO_MEXICO.pkl\n",
       "3     2024-02-07  34602.889308  24XORO_MEXICO  MODEL_7d24XORO_MEXICO.pkl\n",
       "4     2024-02-08  30823.064887  24XORO_MEXICO  MODEL_7d24XORO_MEXICO.pkl\n",
       "...          ...           ...            ...                        ...\n",
       "1037  2024-02-07      0.000000   ZEEPAY_GHANA   MODEL_7dZEEPAY_GHANA.pkl\n",
       "1038  2024-02-08      0.000000   ZEEPAY_GHANA   MODEL_7dZEEPAY_GHANA.pkl\n",
       "1039  2024-02-09    947.553815   ZEEPAY_GHANA   MODEL_7dZEEPAY_GHANA.pkl\n",
       "1040  2024-02-10      0.000000   ZEEPAY_GHANA   MODEL_7dZEEPAY_GHANA.pkl\n",
       "1041  2024-02-11      0.000000   ZEEPAY_GHANA   MODEL_7dZEEPAY_GHANA.pkl\n",
       "\n",
       "[1042 rows x 4 columns]"
      ]
     },
     "execution_count": 42,
     "metadata": {},
     "output_type": "execute_result"
    }
   ],
   "source": [
    "temp_df"
   ]
  },
  {
   "cell_type": "code",
   "execution_count": 43,
   "id": "0b86462f-330c-40bf-a975-23e05117bb67",
   "metadata": {},
   "outputs": [],
   "source": [
    "control=temp_df.loc[temp_df.payer_country==\"ELEKTRA (MEXICO)_MEXICO\"]"
   ]
  },
  {
   "cell_type": "code",
   "execution_count": 44,
   "id": "f8539f43-569e-4a2a-b5a5-a1123196c7ed",
   "metadata": {
    "tags": []
   },
   "outputs": [
    {
     "data": {
      "text/html": [
       "<div>\n",
       "<style scoped>\n",
       "    .dataframe tbody tr th:only-of-type {\n",
       "        vertical-align: middle;\n",
       "    }\n",
       "\n",
       "    .dataframe tbody tr th {\n",
       "        vertical-align: top;\n",
       "    }\n",
       "\n",
       "    .dataframe thead th {\n",
       "        text-align: right;\n",
       "    }\n",
       "</style>\n",
       "<table border=\"1\" class=\"dataframe\">\n",
       "  <thead>\n",
       "    <tr style=\"text-align: right;\">\n",
       "      <th></th>\n",
       "      <th>pred_date</th>\n",
       "      <th>pred</th>\n",
       "      <th>payer_country</th>\n",
       "      <th>model</th>\n",
       "    </tr>\n",
       "  </thead>\n",
       "  <tbody>\n",
       "    <tr>\n",
       "      <th>456</th>\n",
       "      <td>2024-02-04</td>\n",
       "      <td>8.704538e+06</td>\n",
       "      <td>ELEKTRA (MEXICO)_MEXICO</td>\n",
       "      <td>MODEL_7dELEKTRA (MEXICO)_MEXICO.pkl</td>\n",
       "    </tr>\n",
       "    <tr>\n",
       "      <th>457</th>\n",
       "      <td>2024-02-05</td>\n",
       "      <td>7.760511e+06</td>\n",
       "      <td>ELEKTRA (MEXICO)_MEXICO</td>\n",
       "      <td>MODEL_7dELEKTRA (MEXICO)_MEXICO.pkl</td>\n",
       "    </tr>\n",
       "    <tr>\n",
       "      <th>458</th>\n",
       "      <td>2024-02-06</td>\n",
       "      <td>6.872001e+06</td>\n",
       "      <td>ELEKTRA (MEXICO)_MEXICO</td>\n",
       "      <td>MODEL_7dELEKTRA (MEXICO)_MEXICO.pkl</td>\n",
       "    </tr>\n",
       "    <tr>\n",
       "      <th>459</th>\n",
       "      <td>2024-02-07</td>\n",
       "      <td>6.255463e+06</td>\n",
       "      <td>ELEKTRA (MEXICO)_MEXICO</td>\n",
       "      <td>MODEL_7dELEKTRA (MEXICO)_MEXICO.pkl</td>\n",
       "    </tr>\n",
       "    <tr>\n",
       "      <th>460</th>\n",
       "      <td>2024-02-08</td>\n",
       "      <td>6.702523e+06</td>\n",
       "      <td>ELEKTRA (MEXICO)_MEXICO</td>\n",
       "      <td>MODEL_7dELEKTRA (MEXICO)_MEXICO.pkl</td>\n",
       "    </tr>\n",
       "    <tr>\n",
       "      <th>461</th>\n",
       "      <td>2024-02-09</td>\n",
       "      <td>9.432478e+06</td>\n",
       "      <td>ELEKTRA (MEXICO)_MEXICO</td>\n",
       "      <td>MODEL_7dELEKTRA (MEXICO)_MEXICO.pkl</td>\n",
       "    </tr>\n",
       "    <tr>\n",
       "      <th>462</th>\n",
       "      <td>2024-02-10</td>\n",
       "      <td>1.045332e+07</td>\n",
       "      <td>ELEKTRA (MEXICO)_MEXICO</td>\n",
       "      <td>MODEL_7dELEKTRA (MEXICO)_MEXICO.pkl</td>\n",
       "    </tr>\n",
       "    <tr>\n",
       "      <th>463</th>\n",
       "      <td>2024-02-11</td>\n",
       "      <td>8.795229e+06</td>\n",
       "      <td>ELEKTRA (MEXICO)_MEXICO</td>\n",
       "      <td>MODEL_7dELEKTRA (MEXICO)_MEXICO.pkl</td>\n",
       "    </tr>\n",
       "  </tbody>\n",
       "</table>\n",
       "</div>"
      ],
      "text/plain": [
       "      pred_date          pred            payer_country  \\\n",
       "456  2024-02-04  8.704538e+06  ELEKTRA (MEXICO)_MEXICO   \n",
       "457  2024-02-05  7.760511e+06  ELEKTRA (MEXICO)_MEXICO   \n",
       "458  2024-02-06  6.872001e+06  ELEKTRA (MEXICO)_MEXICO   \n",
       "459  2024-02-07  6.255463e+06  ELEKTRA (MEXICO)_MEXICO   \n",
       "460  2024-02-08  6.702523e+06  ELEKTRA (MEXICO)_MEXICO   \n",
       "461  2024-02-09  9.432478e+06  ELEKTRA (MEXICO)_MEXICO   \n",
       "462  2024-02-10  1.045332e+07  ELEKTRA (MEXICO)_MEXICO   \n",
       "463  2024-02-11  8.795229e+06  ELEKTRA (MEXICO)_MEXICO   \n",
       "\n",
       "                                   model  \n",
       "456  MODEL_7dELEKTRA (MEXICO)_MEXICO.pkl  \n",
       "457  MODEL_7dELEKTRA (MEXICO)_MEXICO.pkl  \n",
       "458  MODEL_7dELEKTRA (MEXICO)_MEXICO.pkl  \n",
       "459  MODEL_7dELEKTRA (MEXICO)_MEXICO.pkl  \n",
       "460  MODEL_7dELEKTRA (MEXICO)_MEXICO.pkl  \n",
       "461  MODEL_7dELEKTRA (MEXICO)_MEXICO.pkl  \n",
       "462  MODEL_7dELEKTRA (MEXICO)_MEXICO.pkl  \n",
       "463  MODEL_7dELEKTRA (MEXICO)_MEXICO.pkl  "
      ]
     },
     "execution_count": 44,
     "metadata": {},
     "output_type": "execute_result"
    }
   ],
   "source": [
    "control"
   ]
  },
  {
   "cell_type": "code",
   "execution_count": 45,
   "id": "28601385-bd64-4671-a0f1-05dd9d65709a",
   "metadata": {
    "tags": []
   },
   "outputs": [],
   "source": [
    "control=temp_df.loc[temp_df.payer_country==\"BANCOPPEL (APPRIZA)_MEXICO\"]"
   ]
  },
  {
   "cell_type": "code",
   "execution_count": 46,
   "id": "6cfe1e80-da92-45d2-a038-e4763b553d36",
   "metadata": {
    "tags": []
   },
   "outputs": [
    {
     "data": {
      "text/html": [
       "<div>\n",
       "<style scoped>\n",
       "    .dataframe tbody tr th:only-of-type {\n",
       "        vertical-align: middle;\n",
       "    }\n",
       "\n",
       "    .dataframe tbody tr th {\n",
       "        vertical-align: top;\n",
       "    }\n",
       "\n",
       "    .dataframe thead th {\n",
       "        text-align: right;\n",
       "    }\n",
       "</style>\n",
       "<table border=\"1\" class=\"dataframe\">\n",
       "  <thead>\n",
       "    <tr style=\"text-align: right;\">\n",
       "      <th></th>\n",
       "      <th>pred_date</th>\n",
       "      <th>pred</th>\n",
       "      <th>payer_country</th>\n",
       "      <th>model</th>\n",
       "    </tr>\n",
       "  </thead>\n",
       "  <tbody>\n",
       "    <tr>\n",
       "      <th>232</th>\n",
       "      <td>2024-02-04</td>\n",
       "      <td>5.332340e+06</td>\n",
       "      <td>BANCOPPEL (APPRIZA)_MEXICO</td>\n",
       "      <td>MODEL_7dBANCOPPEL (APPRIZA)_MEXICO.pkl</td>\n",
       "    </tr>\n",
       "    <tr>\n",
       "      <th>233</th>\n",
       "      <td>2024-02-05</td>\n",
       "      <td>4.367202e+06</td>\n",
       "      <td>BANCOPPEL (APPRIZA)_MEXICO</td>\n",
       "      <td>MODEL_7dBANCOPPEL (APPRIZA)_MEXICO.pkl</td>\n",
       "    </tr>\n",
       "    <tr>\n",
       "      <th>234</th>\n",
       "      <td>2024-02-06</td>\n",
       "      <td>3.755596e+06</td>\n",
       "      <td>BANCOPPEL (APPRIZA)_MEXICO</td>\n",
       "      <td>MODEL_7dBANCOPPEL (APPRIZA)_MEXICO.pkl</td>\n",
       "    </tr>\n",
       "    <tr>\n",
       "      <th>235</th>\n",
       "      <td>2024-02-07</td>\n",
       "      <td>3.393576e+06</td>\n",
       "      <td>BANCOPPEL (APPRIZA)_MEXICO</td>\n",
       "      <td>MODEL_7dBANCOPPEL (APPRIZA)_MEXICO.pkl</td>\n",
       "    </tr>\n",
       "    <tr>\n",
       "      <th>236</th>\n",
       "      <td>2024-02-08</td>\n",
       "      <td>3.669053e+06</td>\n",
       "      <td>BANCOPPEL (APPRIZA)_MEXICO</td>\n",
       "      <td>MODEL_7dBANCOPPEL (APPRIZA)_MEXICO.pkl</td>\n",
       "    </tr>\n",
       "    <tr>\n",
       "      <th>237</th>\n",
       "      <td>2024-02-09</td>\n",
       "      <td>5.579573e+06</td>\n",
       "      <td>BANCOPPEL (APPRIZA)_MEXICO</td>\n",
       "      <td>MODEL_7dBANCOPPEL (APPRIZA)_MEXICO.pkl</td>\n",
       "    </tr>\n",
       "    <tr>\n",
       "      <th>238</th>\n",
       "      <td>2024-02-10</td>\n",
       "      <td>6.127768e+06</td>\n",
       "      <td>BANCOPPEL (APPRIZA)_MEXICO</td>\n",
       "      <td>MODEL_7dBANCOPPEL (APPRIZA)_MEXICO.pkl</td>\n",
       "    </tr>\n",
       "    <tr>\n",
       "      <th>239</th>\n",
       "      <td>2024-02-11</td>\n",
       "      <td>5.104473e+06</td>\n",
       "      <td>BANCOPPEL (APPRIZA)_MEXICO</td>\n",
       "      <td>MODEL_7dBANCOPPEL (APPRIZA)_MEXICO.pkl</td>\n",
       "    </tr>\n",
       "  </tbody>\n",
       "</table>\n",
       "</div>"
      ],
      "text/plain": [
       "      pred_date          pred               payer_country  \\\n",
       "232  2024-02-04  5.332340e+06  BANCOPPEL (APPRIZA)_MEXICO   \n",
       "233  2024-02-05  4.367202e+06  BANCOPPEL (APPRIZA)_MEXICO   \n",
       "234  2024-02-06  3.755596e+06  BANCOPPEL (APPRIZA)_MEXICO   \n",
       "235  2024-02-07  3.393576e+06  BANCOPPEL (APPRIZA)_MEXICO   \n",
       "236  2024-02-08  3.669053e+06  BANCOPPEL (APPRIZA)_MEXICO   \n",
       "237  2024-02-09  5.579573e+06  BANCOPPEL (APPRIZA)_MEXICO   \n",
       "238  2024-02-10  6.127768e+06  BANCOPPEL (APPRIZA)_MEXICO   \n",
       "239  2024-02-11  5.104473e+06  BANCOPPEL (APPRIZA)_MEXICO   \n",
       "\n",
       "                                      model  \n",
       "232  MODEL_7dBANCOPPEL (APPRIZA)_MEXICO.pkl  \n",
       "233  MODEL_7dBANCOPPEL (APPRIZA)_MEXICO.pkl  \n",
       "234  MODEL_7dBANCOPPEL (APPRIZA)_MEXICO.pkl  \n",
       "235  MODEL_7dBANCOPPEL (APPRIZA)_MEXICO.pkl  \n",
       "236  MODEL_7dBANCOPPEL (APPRIZA)_MEXICO.pkl  \n",
       "237  MODEL_7dBANCOPPEL (APPRIZA)_MEXICO.pkl  \n",
       "238  MODEL_7dBANCOPPEL (APPRIZA)_MEXICO.pkl  \n",
       "239  MODEL_7dBANCOPPEL (APPRIZA)_MEXICO.pkl  "
      ]
     },
     "execution_count": 46,
     "metadata": {},
     "output_type": "execute_result"
    }
   ],
   "source": [
    "control"
   ]
  },
  {
   "cell_type": "code",
   "execution_count": 47,
   "id": "de53187b-20d5-456f-88f6-57e96ee58075",
   "metadata": {
    "tags": []
   },
   "outputs": [],
   "source": [
    "control=temp_df.loc[temp_df.payer_country==\"BANRURAL (RYT)_GUATEMALA\"]"
   ]
  },
  {
   "cell_type": "code",
   "execution_count": 48,
   "id": "a0fca3f7-067d-45d9-ba9f-cb4a08f6102f",
   "metadata": {
    "tags": []
   },
   "outputs": [
    {
     "data": {
      "text/html": [
       "<div>\n",
       "<style scoped>\n",
       "    .dataframe tbody tr th:only-of-type {\n",
       "        vertical-align: middle;\n",
       "    }\n",
       "\n",
       "    .dataframe tbody tr th {\n",
       "        vertical-align: top;\n",
       "    }\n",
       "\n",
       "    .dataframe thead th {\n",
       "        text-align: right;\n",
       "    }\n",
       "</style>\n",
       "<table border=\"1\" class=\"dataframe\">\n",
       "  <thead>\n",
       "    <tr style=\"text-align: right;\">\n",
       "      <th></th>\n",
       "      <th>pred_date</th>\n",
       "      <th>pred</th>\n",
       "      <th>payer_country</th>\n",
       "      <th>model</th>\n",
       "    </tr>\n",
       "  </thead>\n",
       "  <tbody>\n",
       "    <tr>\n",
       "      <th>288</th>\n",
       "      <td>2024-02-04</td>\n",
       "      <td>5.461759e+06</td>\n",
       "      <td>BANRURAL (RYT)_GUATEMALA</td>\n",
       "      <td>MODEL_7dBANRURAL (RYT)_GUATEMALA.pkl</td>\n",
       "    </tr>\n",
       "    <tr>\n",
       "      <th>289</th>\n",
       "      <td>2024-02-05</td>\n",
       "      <td>3.713901e+06</td>\n",
       "      <td>BANRURAL (RYT)_GUATEMALA</td>\n",
       "      <td>MODEL_7dBANRURAL (RYT)_GUATEMALA.pkl</td>\n",
       "    </tr>\n",
       "    <tr>\n",
       "      <th>290</th>\n",
       "      <td>2024-02-06</td>\n",
       "      <td>2.936361e+06</td>\n",
       "      <td>BANRURAL (RYT)_GUATEMALA</td>\n",
       "      <td>MODEL_7dBANRURAL (RYT)_GUATEMALA.pkl</td>\n",
       "    </tr>\n",
       "    <tr>\n",
       "      <th>291</th>\n",
       "      <td>2024-02-07</td>\n",
       "      <td>2.625472e+06</td>\n",
       "      <td>BANRURAL (RYT)_GUATEMALA</td>\n",
       "      <td>MODEL_7dBANRURAL (RYT)_GUATEMALA.pkl</td>\n",
       "    </tr>\n",
       "    <tr>\n",
       "      <th>292</th>\n",
       "      <td>2024-02-08</td>\n",
       "      <td>2.815353e+06</td>\n",
       "      <td>BANRURAL (RYT)_GUATEMALA</td>\n",
       "      <td>MODEL_7dBANRURAL (RYT)_GUATEMALA.pkl</td>\n",
       "    </tr>\n",
       "    <tr>\n",
       "      <th>293</th>\n",
       "      <td>2024-02-09</td>\n",
       "      <td>4.645762e+06</td>\n",
       "      <td>BANRURAL (RYT)_GUATEMALA</td>\n",
       "      <td>MODEL_7dBANRURAL (RYT)_GUATEMALA.pkl</td>\n",
       "    </tr>\n",
       "    <tr>\n",
       "      <th>294</th>\n",
       "      <td>2024-02-10</td>\n",
       "      <td>5.352956e+06</td>\n",
       "      <td>BANRURAL (RYT)_GUATEMALA</td>\n",
       "      <td>MODEL_7dBANRURAL (RYT)_GUATEMALA.pkl</td>\n",
       "    </tr>\n",
       "    <tr>\n",
       "      <th>295</th>\n",
       "      <td>2024-02-11</td>\n",
       "      <td>5.292901e+06</td>\n",
       "      <td>BANRURAL (RYT)_GUATEMALA</td>\n",
       "      <td>MODEL_7dBANRURAL (RYT)_GUATEMALA.pkl</td>\n",
       "    </tr>\n",
       "  </tbody>\n",
       "</table>\n",
       "</div>"
      ],
      "text/plain": [
       "      pred_date          pred             payer_country  \\\n",
       "288  2024-02-04  5.461759e+06  BANRURAL (RYT)_GUATEMALA   \n",
       "289  2024-02-05  3.713901e+06  BANRURAL (RYT)_GUATEMALA   \n",
       "290  2024-02-06  2.936361e+06  BANRURAL (RYT)_GUATEMALA   \n",
       "291  2024-02-07  2.625472e+06  BANRURAL (RYT)_GUATEMALA   \n",
       "292  2024-02-08  2.815353e+06  BANRURAL (RYT)_GUATEMALA   \n",
       "293  2024-02-09  4.645762e+06  BANRURAL (RYT)_GUATEMALA   \n",
       "294  2024-02-10  5.352956e+06  BANRURAL (RYT)_GUATEMALA   \n",
       "295  2024-02-11  5.292901e+06  BANRURAL (RYT)_GUATEMALA   \n",
       "\n",
       "                                    model  \n",
       "288  MODEL_7dBANRURAL (RYT)_GUATEMALA.pkl  \n",
       "289  MODEL_7dBANRURAL (RYT)_GUATEMALA.pkl  \n",
       "290  MODEL_7dBANRURAL (RYT)_GUATEMALA.pkl  \n",
       "291  MODEL_7dBANRURAL (RYT)_GUATEMALA.pkl  \n",
       "292  MODEL_7dBANRURAL (RYT)_GUATEMALA.pkl  \n",
       "293  MODEL_7dBANRURAL (RYT)_GUATEMALA.pkl  \n",
       "294  MODEL_7dBANRURAL (RYT)_GUATEMALA.pkl  \n",
       "295  MODEL_7dBANRURAL (RYT)_GUATEMALA.pkl  "
      ]
     },
     "execution_count": 48,
     "metadata": {},
     "output_type": "execute_result"
    }
   ],
   "source": [
    "control"
   ]
  },
  {
   "cell_type": "code",
   "execution_count": null,
   "id": "9540f5e6-b394-4012-a15d-87856d323004",
   "metadata": {},
   "outputs": [],
   "source": [
    "stop"
   ]
  },
  {
   "cell_type": "markdown",
   "id": "51b95f16-982d-47ed-9895-8f53bd6b7049",
   "metadata": {},
   "source": [
    "### ADD ID_COUNTRY AND ID_PAYER FROM DAILY_CHECK_GP TABLE"
   ]
  },
  {
   "cell_type": "code",
   "execution_count": null,
   "id": "7ce2b050-f5df-4172-912a-751525ef175a",
   "metadata": {
    "tags": []
   },
   "outputs": [],
   "source": [
    "# DB Setting\n",
    "bucket_name = 's3://viamericas-datalake-dev-us-east-1-283731589572-athena/'\n",
    "origin_name = 'AwsDataCatalog'\n",
    "database_name= 'analytics'\n",
    "table_name = 'daily_check_gp'"
   ]
  },
  {
   "cell_type": "code",
   "execution_count": null,
   "id": "29815dcf-84e2-4799-b935-35a3a2ef98d0",
   "metadata": {
    "tags": []
   },
   "outputs": [],
   "source": [
    "df = wr.athena.read_sql_table(\n",
    "    table=table_name,\n",
    "    database=database_name,\n",
    ")"
   ]
  },
  {
   "cell_type": "code",
   "execution_count": null,
   "id": "6ec44790-9a38-4a11-9870-331890083d3c",
   "metadata": {
    "tags": []
   },
   "outputs": [],
   "source": [
    "df['payer_country'] = df['payer'] + '_' + df['country']"
   ]
  },
  {
   "cell_type": "code",
   "execution_count": null,
   "id": "fb9e4764-84c1-4ec1-b2ae-c088d8c07efc",
   "metadata": {
    "tags": []
   },
   "outputs": [],
   "source": [
    "df_id = df[['payer_country', 'id_main_branch', 'id_country']].drop_duplicates().dropna(subset='id_main_branch')"
   ]
  },
  {
   "cell_type": "code",
   "execution_count": null,
   "id": "38d4adad-f379-4627-9a84-52de8da52438",
   "metadata": {
    "tags": []
   },
   "outputs": [],
   "source": [
    "len(df_id)"
   ]
  },
  {
   "cell_type": "code",
   "execution_count": null,
   "id": "ab02e40b-8fff-480d-8665-54bd969e51d8",
   "metadata": {
    "tags": []
   },
   "outputs": [],
   "source": [
    "df_final = pd.merge(temp_df, df_id, on='payer_country', how='left')"
   ]
  },
  {
   "cell_type": "code",
   "execution_count": null,
   "id": "f7c8396a-f418-4be9-bade-0f4d23877d82",
   "metadata": {
    "tags": []
   },
   "outputs": [],
   "source": [
    "# Insertar la columna 'processing_date' al principio del DataFrame\n",
    "df_final.insert(0, 'processing_date', today)"
   ]
  },
  {
   "cell_type": "code",
   "execution_count": null,
   "id": "256e6973-84ad-4eb0-aaa6-f3ef4e0e9b21",
   "metadata": {
    "tags": []
   },
   "outputs": [],
   "source": [
    "df_final['processing_date'] = pd.to_datetime(df_final['processing_date'] )"
   ]
  },
  {
   "cell_type": "code",
   "execution_count": null,
   "id": "579d734a-ffc7-4990-a033-a3085443c0b4",
   "metadata": {
    "tags": []
   },
   "outputs": [],
   "source": [
    "df_final['id_country'].isnull().sum()"
   ]
  },
  {
   "cell_type": "code",
   "execution_count": null,
   "id": "413ecc4a-a720-4c85-bab1-fbf41154e756",
   "metadata": {
    "tags": []
   },
   "outputs": [],
   "source": [
    "df_final['id_main_branch'].isnull().sum()"
   ]
  },
  {
   "cell_type": "code",
   "execution_count": null,
   "id": "2d7e653c-9831-4a53-8436-b89f729a1c55",
   "metadata": {
    "tags": []
   },
   "outputs": [],
   "source": [
    "# Splitting 'payer' & 'country'\n",
    "df_final[['payer', 'country']] = df_final['payer_country'].str.split('_', expand=True)"
   ]
  },
  {
   "cell_type": "code",
   "execution_count": null,
   "id": "85ac0c2e-fea5-42fc-88b6-f8814ae20e6f",
   "metadata": {
    "tags": []
   },
   "outputs": [],
   "source": [
    "df_final.head()"
   ]
  },
  {
   "cell_type": "code",
   "execution_count": null,
   "id": "1ae96aad-0cdc-4f23-81b4-a5944d97db22",
   "metadata": {
    "tags": []
   },
   "outputs": [],
   "source": [
    "df_final.info()"
   ]
  },
  {
   "cell_type": "code",
   "execution_count": null,
   "id": "77786f01-08aa-4fa2-997b-bf55b207ce28",
   "metadata": {
    "tags": []
   },
   "outputs": [],
   "source": [
    "df_final.pred.sum()"
   ]
  },
  {
   "cell_type": "markdown",
   "id": "d16e25f6-41e2-424a-b59a-ff3fa3a7204c",
   "metadata": {},
   "source": [
    "### SAVE THE INFERENCES OF JANUARY 28TH AND 29TH\n",
    "##### THIS IS THE INPUT FOR ADDING MAPES TO HISTORIC MAPES EXCEL"
   ]
  },
  {
   "cell_type": "code",
   "execution_count": null,
   "id": "ae7bc499-8d92-4fe2-b0fd-be28f1b0e356",
   "metadata": {
    "tags": []
   },
   "outputs": [],
   "source": [
    "bucket_name = 'viamericas-datalake-dev-us-east-1-283731589572-analytics'\n",
    "path_inference = '/ABTv3_update/' # Folder under analysis"
   ]
  },
  {
   "cell_type": "code",
   "execution_count": null,
   "id": "a2e8dac6-031b-4c11-81ab-9a79815064b2",
   "metadata": {
    "tags": []
   },
   "outputs": [],
   "source": [
    "#wr.s3.to_csv(\n",
    "    df=df_final,\n",
    "    path='s3://viamericas-datalake-dev-us-east-1-283731589572-analytics/ABTv3_update/Inferences_2d/predictions_2d.csv',\n",
    "    dataset=False,\n",
    "    index=False\n",
    ")"
   ]
  },
  {
   "cell_type": "code",
   "execution_count": null,
   "id": "5a6e5555-42b4-4398-b383-c468842ac8c3",
   "metadata": {},
   "outputs": [],
   "source": [
    "control=df_final.loc[df_final.payer_country==\"GIROSMEX_MEXICO\"]"
   ]
  },
  {
   "cell_type": "code",
   "execution_count": null,
   "id": "580021be-1778-40b0-bdb6-3fe0123092bd",
   "metadata": {
    "tags": []
   },
   "outputs": [],
   "source": [
    "control"
   ]
  }
 ],
 "metadata": {
  "availableInstances": [
   {
    "_defaultOrder": 0,
    "_isFastLaunch": true,
    "category": "General purpose",
    "gpuNum": 0,
    "hideHardwareSpecs": false,
    "memoryGiB": 4,
    "name": "ml.t3.medium",
    "vcpuNum": 2
   },
   {
    "_defaultOrder": 1,
    "_isFastLaunch": false,
    "category": "General purpose",
    "gpuNum": 0,
    "hideHardwareSpecs": false,
    "memoryGiB": 8,
    "name": "ml.t3.large",
    "vcpuNum": 2
   },
   {
    "_defaultOrder": 2,
    "_isFastLaunch": false,
    "category": "General purpose",
    "gpuNum": 0,
    "hideHardwareSpecs": false,
    "memoryGiB": 16,
    "name": "ml.t3.xlarge",
    "vcpuNum": 4
   },
   {
    "_defaultOrder": 3,
    "_isFastLaunch": false,
    "category": "General purpose",
    "gpuNum": 0,
    "hideHardwareSpecs": false,
    "memoryGiB": 32,
    "name": "ml.t3.2xlarge",
    "vcpuNum": 8
   },
   {
    "_defaultOrder": 4,
    "_isFastLaunch": true,
    "category": "General purpose",
    "gpuNum": 0,
    "hideHardwareSpecs": false,
    "memoryGiB": 8,
    "name": "ml.m5.large",
    "vcpuNum": 2
   },
   {
    "_defaultOrder": 5,
    "_isFastLaunch": false,
    "category": "General purpose",
    "gpuNum": 0,
    "hideHardwareSpecs": false,
    "memoryGiB": 16,
    "name": "ml.m5.xlarge",
    "vcpuNum": 4
   },
   {
    "_defaultOrder": 6,
    "_isFastLaunch": false,
    "category": "General purpose",
    "gpuNum": 0,
    "hideHardwareSpecs": false,
    "memoryGiB": 32,
    "name": "ml.m5.2xlarge",
    "vcpuNum": 8
   },
   {
    "_defaultOrder": 7,
    "_isFastLaunch": false,
    "category": "General purpose",
    "gpuNum": 0,
    "hideHardwareSpecs": false,
    "memoryGiB": 64,
    "name": "ml.m5.4xlarge",
    "vcpuNum": 16
   },
   {
    "_defaultOrder": 8,
    "_isFastLaunch": false,
    "category": "General purpose",
    "gpuNum": 0,
    "hideHardwareSpecs": false,
    "memoryGiB": 128,
    "name": "ml.m5.8xlarge",
    "vcpuNum": 32
   },
   {
    "_defaultOrder": 9,
    "_isFastLaunch": false,
    "category": "General purpose",
    "gpuNum": 0,
    "hideHardwareSpecs": false,
    "memoryGiB": 192,
    "name": "ml.m5.12xlarge",
    "vcpuNum": 48
   },
   {
    "_defaultOrder": 10,
    "_isFastLaunch": false,
    "category": "General purpose",
    "gpuNum": 0,
    "hideHardwareSpecs": false,
    "memoryGiB": 256,
    "name": "ml.m5.16xlarge",
    "vcpuNum": 64
   },
   {
    "_defaultOrder": 11,
    "_isFastLaunch": false,
    "category": "General purpose",
    "gpuNum": 0,
    "hideHardwareSpecs": false,
    "memoryGiB": 384,
    "name": "ml.m5.24xlarge",
    "vcpuNum": 96
   },
   {
    "_defaultOrder": 12,
    "_isFastLaunch": false,
    "category": "General purpose",
    "gpuNum": 0,
    "hideHardwareSpecs": false,
    "memoryGiB": 8,
    "name": "ml.m5d.large",
    "vcpuNum": 2
   },
   {
    "_defaultOrder": 13,
    "_isFastLaunch": false,
    "category": "General purpose",
    "gpuNum": 0,
    "hideHardwareSpecs": false,
    "memoryGiB": 16,
    "name": "ml.m5d.xlarge",
    "vcpuNum": 4
   },
   {
    "_defaultOrder": 14,
    "_isFastLaunch": false,
    "category": "General purpose",
    "gpuNum": 0,
    "hideHardwareSpecs": false,
    "memoryGiB": 32,
    "name": "ml.m5d.2xlarge",
    "vcpuNum": 8
   },
   {
    "_defaultOrder": 15,
    "_isFastLaunch": false,
    "category": "General purpose",
    "gpuNum": 0,
    "hideHardwareSpecs": false,
    "memoryGiB": 64,
    "name": "ml.m5d.4xlarge",
    "vcpuNum": 16
   },
   {
    "_defaultOrder": 16,
    "_isFastLaunch": false,
    "category": "General purpose",
    "gpuNum": 0,
    "hideHardwareSpecs": false,
    "memoryGiB": 128,
    "name": "ml.m5d.8xlarge",
    "vcpuNum": 32
   },
   {
    "_defaultOrder": 17,
    "_isFastLaunch": false,
    "category": "General purpose",
    "gpuNum": 0,
    "hideHardwareSpecs": false,
    "memoryGiB": 192,
    "name": "ml.m5d.12xlarge",
    "vcpuNum": 48
   },
   {
    "_defaultOrder": 18,
    "_isFastLaunch": false,
    "category": "General purpose",
    "gpuNum": 0,
    "hideHardwareSpecs": false,
    "memoryGiB": 256,
    "name": "ml.m5d.16xlarge",
    "vcpuNum": 64
   },
   {
    "_defaultOrder": 19,
    "_isFastLaunch": false,
    "category": "General purpose",
    "gpuNum": 0,
    "hideHardwareSpecs": false,
    "memoryGiB": 384,
    "name": "ml.m5d.24xlarge",
    "vcpuNum": 96
   },
   {
    "_defaultOrder": 20,
    "_isFastLaunch": false,
    "category": "General purpose",
    "gpuNum": 0,
    "hideHardwareSpecs": true,
    "memoryGiB": 0,
    "name": "ml.geospatial.interactive",
    "supportedImageNames": [
     "sagemaker-geospatial-v1-0"
    ],
    "vcpuNum": 0
   },
   {
    "_defaultOrder": 21,
    "_isFastLaunch": true,
    "category": "Compute optimized",
    "gpuNum": 0,
    "hideHardwareSpecs": false,
    "memoryGiB": 4,
    "name": "ml.c5.large",
    "vcpuNum": 2
   },
   {
    "_defaultOrder": 22,
    "_isFastLaunch": false,
    "category": "Compute optimized",
    "gpuNum": 0,
    "hideHardwareSpecs": false,
    "memoryGiB": 8,
    "name": "ml.c5.xlarge",
    "vcpuNum": 4
   },
   {
    "_defaultOrder": 23,
    "_isFastLaunch": false,
    "category": "Compute optimized",
    "gpuNum": 0,
    "hideHardwareSpecs": false,
    "memoryGiB": 16,
    "name": "ml.c5.2xlarge",
    "vcpuNum": 8
   },
   {
    "_defaultOrder": 24,
    "_isFastLaunch": false,
    "category": "Compute optimized",
    "gpuNum": 0,
    "hideHardwareSpecs": false,
    "memoryGiB": 32,
    "name": "ml.c5.4xlarge",
    "vcpuNum": 16
   },
   {
    "_defaultOrder": 25,
    "_isFastLaunch": false,
    "category": "Compute optimized",
    "gpuNum": 0,
    "hideHardwareSpecs": false,
    "memoryGiB": 72,
    "name": "ml.c5.9xlarge",
    "vcpuNum": 36
   },
   {
    "_defaultOrder": 26,
    "_isFastLaunch": false,
    "category": "Compute optimized",
    "gpuNum": 0,
    "hideHardwareSpecs": false,
    "memoryGiB": 96,
    "name": "ml.c5.12xlarge",
    "vcpuNum": 48
   },
   {
    "_defaultOrder": 27,
    "_isFastLaunch": false,
    "category": "Compute optimized",
    "gpuNum": 0,
    "hideHardwareSpecs": false,
    "memoryGiB": 144,
    "name": "ml.c5.18xlarge",
    "vcpuNum": 72
   },
   {
    "_defaultOrder": 28,
    "_isFastLaunch": false,
    "category": "Compute optimized",
    "gpuNum": 0,
    "hideHardwareSpecs": false,
    "memoryGiB": 192,
    "name": "ml.c5.24xlarge",
    "vcpuNum": 96
   },
   {
    "_defaultOrder": 29,
    "_isFastLaunch": true,
    "category": "Accelerated computing",
    "gpuNum": 1,
    "hideHardwareSpecs": false,
    "memoryGiB": 16,
    "name": "ml.g4dn.xlarge",
    "vcpuNum": 4
   },
   {
    "_defaultOrder": 30,
    "_isFastLaunch": false,
    "category": "Accelerated computing",
    "gpuNum": 1,
    "hideHardwareSpecs": false,
    "memoryGiB": 32,
    "name": "ml.g4dn.2xlarge",
    "vcpuNum": 8
   },
   {
    "_defaultOrder": 31,
    "_isFastLaunch": false,
    "category": "Accelerated computing",
    "gpuNum": 1,
    "hideHardwareSpecs": false,
    "memoryGiB": 64,
    "name": "ml.g4dn.4xlarge",
    "vcpuNum": 16
   },
   {
    "_defaultOrder": 32,
    "_isFastLaunch": false,
    "category": "Accelerated computing",
    "gpuNum": 1,
    "hideHardwareSpecs": false,
    "memoryGiB": 128,
    "name": "ml.g4dn.8xlarge",
    "vcpuNum": 32
   },
   {
    "_defaultOrder": 33,
    "_isFastLaunch": false,
    "category": "Accelerated computing",
    "gpuNum": 4,
    "hideHardwareSpecs": false,
    "memoryGiB": 192,
    "name": "ml.g4dn.12xlarge",
    "vcpuNum": 48
   },
   {
    "_defaultOrder": 34,
    "_isFastLaunch": false,
    "category": "Accelerated computing",
    "gpuNum": 1,
    "hideHardwareSpecs": false,
    "memoryGiB": 256,
    "name": "ml.g4dn.16xlarge",
    "vcpuNum": 64
   },
   {
    "_defaultOrder": 35,
    "_isFastLaunch": false,
    "category": "Accelerated computing",
    "gpuNum": 1,
    "hideHardwareSpecs": false,
    "memoryGiB": 61,
    "name": "ml.p3.2xlarge",
    "vcpuNum": 8
   },
   {
    "_defaultOrder": 36,
    "_isFastLaunch": false,
    "category": "Accelerated computing",
    "gpuNum": 4,
    "hideHardwareSpecs": false,
    "memoryGiB": 244,
    "name": "ml.p3.8xlarge",
    "vcpuNum": 32
   },
   {
    "_defaultOrder": 37,
    "_isFastLaunch": false,
    "category": "Accelerated computing",
    "gpuNum": 8,
    "hideHardwareSpecs": false,
    "memoryGiB": 488,
    "name": "ml.p3.16xlarge",
    "vcpuNum": 64
   },
   {
    "_defaultOrder": 38,
    "_isFastLaunch": false,
    "category": "Accelerated computing",
    "gpuNum": 8,
    "hideHardwareSpecs": false,
    "memoryGiB": 768,
    "name": "ml.p3dn.24xlarge",
    "vcpuNum": 96
   },
   {
    "_defaultOrder": 39,
    "_isFastLaunch": false,
    "category": "Memory Optimized",
    "gpuNum": 0,
    "hideHardwareSpecs": false,
    "memoryGiB": 16,
    "name": "ml.r5.large",
    "vcpuNum": 2
   },
   {
    "_defaultOrder": 40,
    "_isFastLaunch": false,
    "category": "Memory Optimized",
    "gpuNum": 0,
    "hideHardwareSpecs": false,
    "memoryGiB": 32,
    "name": "ml.r5.xlarge",
    "vcpuNum": 4
   },
   {
    "_defaultOrder": 41,
    "_isFastLaunch": false,
    "category": "Memory Optimized",
    "gpuNum": 0,
    "hideHardwareSpecs": false,
    "memoryGiB": 64,
    "name": "ml.r5.2xlarge",
    "vcpuNum": 8
   },
   {
    "_defaultOrder": 42,
    "_isFastLaunch": false,
    "category": "Memory Optimized",
    "gpuNum": 0,
    "hideHardwareSpecs": false,
    "memoryGiB": 128,
    "name": "ml.r5.4xlarge",
    "vcpuNum": 16
   },
   {
    "_defaultOrder": 43,
    "_isFastLaunch": false,
    "category": "Memory Optimized",
    "gpuNum": 0,
    "hideHardwareSpecs": false,
    "memoryGiB": 256,
    "name": "ml.r5.8xlarge",
    "vcpuNum": 32
   },
   {
    "_defaultOrder": 44,
    "_isFastLaunch": false,
    "category": "Memory Optimized",
    "gpuNum": 0,
    "hideHardwareSpecs": false,
    "memoryGiB": 384,
    "name": "ml.r5.12xlarge",
    "vcpuNum": 48
   },
   {
    "_defaultOrder": 45,
    "_isFastLaunch": false,
    "category": "Memory Optimized",
    "gpuNum": 0,
    "hideHardwareSpecs": false,
    "memoryGiB": 512,
    "name": "ml.r5.16xlarge",
    "vcpuNum": 64
   },
   {
    "_defaultOrder": 46,
    "_isFastLaunch": false,
    "category": "Memory Optimized",
    "gpuNum": 0,
    "hideHardwareSpecs": false,
    "memoryGiB": 768,
    "name": "ml.r5.24xlarge",
    "vcpuNum": 96
   },
   {
    "_defaultOrder": 47,
    "_isFastLaunch": false,
    "category": "Accelerated computing",
    "gpuNum": 1,
    "hideHardwareSpecs": false,
    "memoryGiB": 16,
    "name": "ml.g5.xlarge",
    "vcpuNum": 4
   },
   {
    "_defaultOrder": 48,
    "_isFastLaunch": false,
    "category": "Accelerated computing",
    "gpuNum": 1,
    "hideHardwareSpecs": false,
    "memoryGiB": 32,
    "name": "ml.g5.2xlarge",
    "vcpuNum": 8
   },
   {
    "_defaultOrder": 49,
    "_isFastLaunch": false,
    "category": "Accelerated computing",
    "gpuNum": 1,
    "hideHardwareSpecs": false,
    "memoryGiB": 64,
    "name": "ml.g5.4xlarge",
    "vcpuNum": 16
   },
   {
    "_defaultOrder": 50,
    "_isFastLaunch": false,
    "category": "Accelerated computing",
    "gpuNum": 1,
    "hideHardwareSpecs": false,
    "memoryGiB": 128,
    "name": "ml.g5.8xlarge",
    "vcpuNum": 32
   },
   {
    "_defaultOrder": 51,
    "_isFastLaunch": false,
    "category": "Accelerated computing",
    "gpuNum": 1,
    "hideHardwareSpecs": false,
    "memoryGiB": 256,
    "name": "ml.g5.16xlarge",
    "vcpuNum": 64
   },
   {
    "_defaultOrder": 52,
    "_isFastLaunch": false,
    "category": "Accelerated computing",
    "gpuNum": 4,
    "hideHardwareSpecs": false,
    "memoryGiB": 192,
    "name": "ml.g5.12xlarge",
    "vcpuNum": 48
   },
   {
    "_defaultOrder": 53,
    "_isFastLaunch": false,
    "category": "Accelerated computing",
    "gpuNum": 4,
    "hideHardwareSpecs": false,
    "memoryGiB": 384,
    "name": "ml.g5.24xlarge",
    "vcpuNum": 96
   },
   {
    "_defaultOrder": 54,
    "_isFastLaunch": false,
    "category": "Accelerated computing",
    "gpuNum": 8,
    "hideHardwareSpecs": false,
    "memoryGiB": 768,
    "name": "ml.g5.48xlarge",
    "vcpuNum": 192
   },
   {
    "_defaultOrder": 55,
    "_isFastLaunch": false,
    "category": "Accelerated computing",
    "gpuNum": 8,
    "hideHardwareSpecs": false,
    "memoryGiB": 1152,
    "name": "ml.p4d.24xlarge",
    "vcpuNum": 96
   },
   {
    "_defaultOrder": 56,
    "_isFastLaunch": false,
    "category": "Accelerated computing",
    "gpuNum": 8,
    "hideHardwareSpecs": false,
    "memoryGiB": 1152,
    "name": "ml.p4de.24xlarge",
    "vcpuNum": 96
   },
   {
    "_defaultOrder": 57,
    "_isFastLaunch": false,
    "category": "Accelerated computing",
    "gpuNum": 0,
    "hideHardwareSpecs": false,
    "memoryGiB": 32,
    "name": "ml.trn1.2xlarge",
    "vcpuNum": 8
   },
   {
    "_defaultOrder": 58,
    "_isFastLaunch": false,
    "category": "Accelerated computing",
    "gpuNum": 0,
    "hideHardwareSpecs": false,
    "memoryGiB": 512,
    "name": "ml.trn1.32xlarge",
    "vcpuNum": 128
   },
   {
    "_defaultOrder": 59,
    "_isFastLaunch": false,
    "category": "Accelerated computing",
    "gpuNum": 0,
    "hideHardwareSpecs": false,
    "memoryGiB": 512,
    "name": "ml.trn1n.32xlarge",
    "vcpuNum": 128
   }
  ],
  "instance_type": "ml.m5.large",
  "kernelspec": {
   "display_name": "Python 3 (Data Science 3.0)",
   "language": "python",
   "name": "python3__SAGEMAKER_INTERNAL__arn:aws:sagemaker:us-east-1:081325390199:image/sagemaker-data-science-310-v1"
  },
  "language_info": {
   "codemirror_mode": {
    "name": "ipython",
    "version": 3
   },
   "file_extension": ".py",
   "mimetype": "text/x-python",
   "name": "python",
   "nbconvert_exporter": "python",
   "pygments_lexer": "ipython3",
   "version": "3.10.6"
  }
 },
 "nbformat": 4,
 "nbformat_minor": 5
}
