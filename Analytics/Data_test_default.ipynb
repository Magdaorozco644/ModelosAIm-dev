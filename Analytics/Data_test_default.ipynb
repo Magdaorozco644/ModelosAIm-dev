{
 "cells": [
  {
   "cell_type": "raw",
   "id": "0e21af8a-a3b5-4b2f-9a30-f60401d141a2",
   "metadata": {},
   "source": []
  },
  {
   "cell_type": "markdown",
   "id": "e0d176ad-92ee-4e2c-bdd8-162e8cfa7c50",
   "metadata": {},
   "source": [
    "## Test agency historic budget data"
   ]
  },
  {
   "cell_type": "code",
   "execution_count": 5,
   "id": "7aa2c7f2-6199-46db-b384-7997ebf28a9c",
   "metadata": {
    "tags": []
   },
   "outputs": [
    {
     "name": "stdout",
     "output_type": "stream",
     "text": [
      "Requirement already satisfied: awswrangler in /opt/conda/lib/python3.10/site-packages (3.8.0)\n",
      "Requirement already satisfied: boto3<2.0.0,>=1.20.32 in /opt/conda/lib/python3.10/site-packages (from awswrangler) (1.34.84)\n",
      "Requirement already satisfied: botocore<2.0.0,>=1.23.32 in /opt/conda/lib/python3.10/site-packages (from awswrangler) (1.34.84)\n",
      "Requirement already satisfied: numpy<2.0,>=1.18 in /opt/conda/lib/python3.10/site-packages (from awswrangler) (1.26.4)\n",
      "Requirement already satisfied: packaging<25.0,>=21.1 in /opt/conda/lib/python3.10/site-packages (from awswrangler) (23.2)\n",
      "Requirement already satisfied: pandas<3.0.0,>=1.2.0 in /opt/conda/lib/python3.10/site-packages (from awswrangler) (2.2.2)\n",
      "Requirement already satisfied: pyarrow>=8.0.0 in /opt/conda/lib/python3.10/site-packages (from awswrangler) (15.0.2)\n",
      "Requirement already satisfied: typing-extensions<5.0.0,>=4.4.0 in /opt/conda/lib/python3.10/site-packages (from awswrangler) (4.11.0)\n",
      "Requirement already satisfied: jmespath<2.0.0,>=0.7.1 in /opt/conda/lib/python3.10/site-packages (from boto3<2.0.0,>=1.20.32->awswrangler) (1.0.1)\n",
      "Requirement already satisfied: s3transfer<0.11.0,>=0.10.0 in /opt/conda/lib/python3.10/site-packages (from boto3<2.0.0,>=1.20.32->awswrangler) (0.10.1)\n",
      "Requirement already satisfied: python-dateutil<3.0.0,>=2.1 in /opt/conda/lib/python3.10/site-packages (from botocore<2.0.0,>=1.23.32->awswrangler) (2.9.0)\n",
      "Requirement already satisfied: urllib3!=2.2.0,<3,>=1.25.4 in /opt/conda/lib/python3.10/site-packages (from botocore<2.0.0,>=1.23.32->awswrangler) (2.2.1)\n",
      "Requirement already satisfied: pytz>=2020.1 in /opt/conda/lib/python3.10/site-packages (from pandas<3.0.0,>=1.2.0->awswrangler) (2024.1)\n",
      "Requirement already satisfied: tzdata>=2022.7 in /opt/conda/lib/python3.10/site-packages (from pandas<3.0.0,>=1.2.0->awswrangler) (2024.1)\n",
      "Requirement already satisfied: six>=1.5 in /opt/conda/lib/python3.10/site-packages (from python-dateutil<3.0.0,>=2.1->botocore<2.0.0,>=1.23.32->awswrangler) (1.16.0)\n",
      "\u001b[33mWARNING: Running pip as the 'root' user can result in broken permissions and conflicting behaviour with the system package manager. It is recommended to use a virtual environment instead: https://pip.pypa.io/warnings/venv\u001b[0m\u001b[33m\n",
      "\u001b[0mNote: you may need to restart the kernel to use updated packages.\n"
     ]
    }
   ],
   "source": [
    "pip install awswrangler"
   ]
  },
  {
   "cell_type": "code",
   "execution_count": 6,
   "id": "29c24e90-0613-4c1f-bc8d-b8d3bdf25929",
   "metadata": {
    "tags": []
   },
   "outputs": [
    {
     "name": "stdout",
     "output_type": "stream",
     "text": [
      "Requirement already satisfied: PyAthena in /opt/conda/lib/python3.10/site-packages (3.8.3)\n",
      "Requirement already satisfied: boto3>=1.26.4 in /opt/conda/lib/python3.10/site-packages (from PyAthena) (1.34.84)\n",
      "Requirement already satisfied: botocore>=1.29.4 in /opt/conda/lib/python3.10/site-packages (from PyAthena) (1.34.84)\n",
      "Requirement already satisfied: fsspec in /opt/conda/lib/python3.10/site-packages (from PyAthena) (2024.3.1)\n",
      "Requirement already satisfied: tenacity>=4.1.0 in /opt/conda/lib/python3.10/site-packages (from PyAthena) (8.2.3)\n",
      "Requirement already satisfied: jmespath<2.0.0,>=0.7.1 in /opt/conda/lib/python3.10/site-packages (from boto3>=1.26.4->PyAthena) (1.0.1)\n",
      "Requirement already satisfied: s3transfer<0.11.0,>=0.10.0 in /opt/conda/lib/python3.10/site-packages (from boto3>=1.26.4->PyAthena) (0.10.1)\n",
      "Requirement already satisfied: python-dateutil<3.0.0,>=2.1 in /opt/conda/lib/python3.10/site-packages (from botocore>=1.29.4->PyAthena) (2.9.0)\n",
      "Requirement already satisfied: urllib3!=2.2.0,<3,>=1.25.4 in /opt/conda/lib/python3.10/site-packages (from botocore>=1.29.4->PyAthena) (2.2.1)\n",
      "Requirement already satisfied: six>=1.5 in /opt/conda/lib/python3.10/site-packages (from python-dateutil<3.0.0,>=2.1->botocore>=1.29.4->PyAthena) (1.16.0)\n",
      "\u001b[33mWARNING: Running pip as the 'root' user can result in broken permissions and conflicting behaviour with the system package manager. It is recommended to use a virtual environment instead: https://pip.pypa.io/warnings/venv\u001b[0m\u001b[33m\n",
      "\u001b[0m"
     ]
    }
   ],
   "source": [
    "import sys\n",
    "!{sys.executable} -m pip install PyAthena"
   ]
  },
  {
   "cell_type": "code",
   "execution_count": 7,
   "id": "3a0b8b79-30c6-44e7-8455-e9b0746ce12d",
   "metadata": {
    "tags": []
   },
   "outputs": [],
   "source": [
    "import awswrangler as wr\n",
    "import pandas as pd\n",
    "import datetime as dt\n",
    "from datetime import datetime\n",
    "from pyathena import connect"
   ]
  },
  {
   "cell_type": "markdown",
   "id": "23bcd2c1-c6fc-42c5-8944-6e26b23f7afb",
   "metadata": {},
   "source": [
    "## TIME PERIOD OF DATASET"
   ]
  },
  {
   "cell_type": "markdown",
   "id": "d7b17a41-6600-4807-8c6a-14743fcc14f6",
   "metadata": {
    "tags": []
   },
   "source": [
    "### DFs generation"
   ]
  },
  {
   "cell_type": "code",
   "execution_count": 13,
   "id": "2df4c634-d723-4bba-a55e-c55e53f30fe4",
   "metadata": {
    "tags": []
   },
   "outputs": [
    {
     "name": "stderr",
     "output_type": "stream",
     "text": [
      "/tmp/ipykernel_21/731752826.py:11: UserWarning: pandas only supports SQLAlchemy connectable (engine/connection) or database string URI or sqlite3 DBAPI2 connection. Other DBAPI2 objects are not tested. Please consider using SQLAlchemy.\n",
      "  df1 = pd.read_sql(f'SELECT vp FROM {origin_name}.{database_name}.{table_name};', conn)\n"
     ]
    }
   ],
   "source": [
    "# DB Setting\n",
    "bucket_name = 's3://viamericas-datalake-dev-us-east-1-283731589572-athena/'\n",
    "origin_name = 'AwsDataCatalog'\n",
    "database_name = 'viamericas'\n",
    "table_name = 'locations'\n",
    "\n",
    "#Connection\n",
    "conn = connect(s3_staging_dir=f'{bucket_name}queryresults/',\n",
    "               region_name='us-east-1')\n",
    "\n",
    "df1 = pd.read_sql(f'SELECT vp FROM {origin_name}.{database_name}.{table_name};', conn)\n",
    "\n",
    "# trae la tabla entera, el tema está en pasar una query completa de sql, determinadas columnas en el select se las banca"
   ]
  },
  {
   "cell_type": "code",
   "execution_count": 14,
   "id": "53a82a04-e0ae-456d-950c-7422cb2d3a0b",
   "metadata": {
    "tags": []
   },
   "outputs": [
    {
     "data": {
      "text/html": [
       "<div>\n",
       "<style scoped>\n",
       "    .dataframe tbody tr th:only-of-type {\n",
       "        vertical-align: middle;\n",
       "    }\n",
       "\n",
       "    .dataframe tbody tr th {\n",
       "        vertical-align: top;\n",
       "    }\n",
       "\n",
       "    .dataframe thead th {\n",
       "        text-align: right;\n",
       "    }\n",
       "</style>\n",
       "<table border=\"1\" class=\"dataframe\">\n",
       "  <thead>\n",
       "    <tr style=\"text-align: right;\">\n",
       "      <th></th>\n",
       "      <th>vp</th>\n",
       "    </tr>\n",
       "  </thead>\n",
       "  <tbody>\n",
       "    <tr>\n",
       "      <th>0</th>\n",
       "      <td>andres.fulgencio@viamericas.com</td>\n",
       "    </tr>\n",
       "    <tr>\n",
       "      <th>1</th>\n",
       "      <td>randy.ostler@viamericas.com</td>\n",
       "    </tr>\n",
       "    <tr>\n",
       "      <th>2</th>\n",
       "      <td>randy.ostler@viamericas.com</td>\n",
       "    </tr>\n",
       "    <tr>\n",
       "      <th>3</th>\n",
       "      <td>randy.ostler@viamericas.com</td>\n",
       "    </tr>\n",
       "    <tr>\n",
       "      <th>4</th>\n",
       "      <td>andres.fulgencio@viamericas.com</td>\n",
       "    </tr>\n",
       "    <tr>\n",
       "      <th>...</th>\n",
       "      <td>...</td>\n",
       "    </tr>\n",
       "    <tr>\n",
       "      <th>23284</th>\n",
       "      <td>hugo.ucelo@viamericas.com</td>\n",
       "    </tr>\n",
       "    <tr>\n",
       "      <th>23285</th>\n",
       "      <td>andres.fulgencio@viamericas.com</td>\n",
       "    </tr>\n",
       "    <tr>\n",
       "      <th>23286</th>\n",
       "      <td>hugo.ucelo@viamericas.com</td>\n",
       "    </tr>\n",
       "    <tr>\n",
       "      <th>23287</th>\n",
       "      <td>hugo.ucelo@viamericas.com</td>\n",
       "    </tr>\n",
       "    <tr>\n",
       "      <th>23288</th>\n",
       "      <td>hugo.ucelo@viamericas.com</td>\n",
       "    </tr>\n",
       "  </tbody>\n",
       "</table>\n",
       "<p>23289 rows × 1 columns</p>\n",
       "</div>"
      ],
      "text/plain": [
       "                                    vp\n",
       "0      andres.fulgencio@viamericas.com\n",
       "1          randy.ostler@viamericas.com\n",
       "2          randy.ostler@viamericas.com\n",
       "3          randy.ostler@viamericas.com\n",
       "4      andres.fulgencio@viamericas.com\n",
       "...                                ...\n",
       "23284        hugo.ucelo@viamericas.com\n",
       "23285  andres.fulgencio@viamericas.com\n",
       "23286        hugo.ucelo@viamericas.com\n",
       "23287        hugo.ucelo@viamericas.com\n",
       "23288        hugo.ucelo@viamericas.com\n",
       "\n",
       "[23289 rows x 1 columns]"
      ]
     },
     "execution_count": 14,
     "metadata": {},
     "output_type": "execute_result"
    }
   ],
   "source": [
    "df1"
   ]
  },
  {
   "cell_type": "code",
   "execution_count": 7,
   "id": "dd0366f0-2868-4ce6-b54d-dfcf19056a19",
   "metadata": {
    "tags": []
   },
   "outputs": [
    {
     "name": "stderr",
     "output_type": "stream",
     "text": [
      "/tmp/ipykernel_17/3918688316.py:12: UserWarning: pandas only supports SQLAlchemy connectable (engine/connection) or database string URI or sqlite3 DBAPI2 connection. Other DBAPI2 objects are not tested. Please consider using SQLAlchemy.\n",
      "  df = pd.read_sql('''SELECT * FROM AwsDataCatalog.viamericas.locations WHERE id like 'FL0%'; ''', conn)\n"
     ]
    }
   ],
   "source": [
    "# DB Setting\n",
    "bucket_name = 's3://viamericas-datalake-dev-us-east-1-283731589572-athena/'\n",
    "#origin_name = 'AwsDataCatalog'\n",
    "#database_name = 'viamericas'\n",
    "#table_name = 'locations'\n",
    "#condition = '\"FL0%\"'\n",
    "\n",
    "#Connection\n",
    "conn = connect(s3_staging_dir=f'{bucket_name}queryresults/',\n",
    "               region_name='us-east-1')\n",
    "\n",
    "df = pd.read_sql('''SELECT * FROM AwsDataCatalog.viamericas.locations WHERE id like 'FL0%'; ''', conn)"
   ]
  },
  {
   "cell_type": "code",
   "execution_count": 8,
   "id": "01959241-c0f4-4e91-9856-a58f65aecee4",
   "metadata": {
    "tags": []
   },
   "outputs": [
    {
     "data": {
      "text/html": [
       "<div>\n",
       "<style scoped>\n",
       "    .dataframe tbody tr th:only-of-type {\n",
       "        vertical-align: middle;\n",
       "    }\n",
       "\n",
       "    .dataframe tbody tr th {\n",
       "        vertical-align: top;\n",
       "    }\n",
       "\n",
       "    .dataframe thead th {\n",
       "        text-align: right;\n",
       "    }\n",
       "</style>\n",
       "<table border=\"1\" class=\"dataframe\">\n",
       "  <thead>\n",
       "    <tr style=\"text-align: right;\">\n",
       "      <th></th>\n",
       "      <th>fax</th>\n",
       "      <th>main_branches</th>\n",
       "      <th>days_last_visit</th>\n",
       "      <th>date_agreement</th>\n",
       "      <th>amount_last_week</th>\n",
       "      <th>vp</th>\n",
       "      <th>state_budget</th>\n",
       "      <th>date_is_viacheck</th>\n",
       "      <th>mom_mtd_performance_category</th>\n",
       "      <th>fin_closing_day</th>\n",
       "      <th>...</th>\n",
       "      <th>id_salesforce</th>\n",
       "      <th>type</th>\n",
       "      <th>last_month_hwm_performance</th>\n",
       "      <th>sales_representative</th>\n",
       "      <th>related_reason</th>\n",
       "      <th>mean_days_inactive</th>\n",
       "      <th>is_reopen</th>\n",
       "      <th>last_sync</th>\n",
       "      <th>payments_made</th>\n",
       "      <th>mtd_count_viatopups</th>\n",
       "    </tr>\n",
       "  </thead>\n",
       "  <tbody>\n",
       "    <tr>\n",
       "      <th>0</th>\n",
       "      <td></td>\n",
       "      <td>TS02(0)</td>\n",
       "      <td>None</td>\n",
       "      <td>None</td>\n",
       "      <td>NaN</td>\n",
       "      <td>None</td>\n",
       "      <td>None</td>\n",
       "      <td>None</td>\n",
       "      <td>None</td>\n",
       "      <td>None</td>\n",
       "      <td>...</td>\n",
       "      <td>0013j00002zoF0NAAU</td>\n",
       "      <td>Not in budget</td>\n",
       "      <td>NaN</td>\n",
       "      <td>TEST AGENCIES</td>\n",
       "      <td>NaN</td>\n",
       "      <td>None</td>\n",
       "      <td>None</td>\n",
       "      <td>NaT</td>\n",
       "      <td>None</td>\n",
       "      <td>NaN</td>\n",
       "    </tr>\n",
       "    <tr>\n",
       "      <th>1</th>\n",
       "      <td>3055033110</td>\n",
       "      <td>D551(0),F033(0)</td>\n",
       "      <td>None</td>\n",
       "      <td>None</td>\n",
       "      <td>NaN</td>\n",
       "      <td>None</td>\n",
       "      <td>FL</td>\n",
       "      <td>None</td>\n",
       "      <td>N/A</td>\n",
       "      <td>None</td>\n",
       "      <td>...</td>\n",
       "      <td>0013j00002zoF0OAAU</td>\n",
       "      <td>Not in budget</td>\n",
       "      <td>NaN</td>\n",
       "      <td>VIALOCAL</td>\n",
       "      <td>NaN</td>\n",
       "      <td>None</td>\n",
       "      <td>None</td>\n",
       "      <td>NaT</td>\n",
       "      <td>None</td>\n",
       "      <td>NaN</td>\n",
       "    </tr>\n",
       "    <tr>\n",
       "      <th>2</th>\n",
       "      <td>3054776741</td>\n",
       "      <td>F005(0)</td>\n",
       "      <td>None</td>\n",
       "      <td>None</td>\n",
       "      <td>NaN</td>\n",
       "      <td>None</td>\n",
       "      <td>FL</td>\n",
       "      <td>None</td>\n",
       "      <td>N/A</td>\n",
       "      <td>None</td>\n",
       "      <td>...</td>\n",
       "      <td>0013j00002zoF0PAAU</td>\n",
       "      <td>Not in budget</td>\n",
       "      <td>NaN</td>\n",
       "      <td>None</td>\n",
       "      <td>NaN</td>\n",
       "      <td>None</td>\n",
       "      <td>None</td>\n",
       "      <td>NaT</td>\n",
       "      <td>None</td>\n",
       "      <td>NaN</td>\n",
       "    </tr>\n",
       "    <tr>\n",
       "      <th>3</th>\n",
       "      <td>9549795992</td>\n",
       "      <td>F003(0)</td>\n",
       "      <td>None</td>\n",
       "      <td>None</td>\n",
       "      <td>NaN</td>\n",
       "      <td>None</td>\n",
       "      <td>FL</td>\n",
       "      <td>None</td>\n",
       "      <td>N/A</td>\n",
       "      <td>None</td>\n",
       "      <td>...</td>\n",
       "      <td>0013j00002zoF0QAAU</td>\n",
       "      <td>Not in budget</td>\n",
       "      <td>NaN</td>\n",
       "      <td>None</td>\n",
       "      <td>NaN</td>\n",
       "      <td>None</td>\n",
       "      <td>None</td>\n",
       "      <td>NaT</td>\n",
       "      <td>None</td>\n",
       "      <td>NaN</td>\n",
       "    </tr>\n",
       "    <tr>\n",
       "      <th>4</th>\n",
       "      <td>3053862747</td>\n",
       "      <td>F004(0)</td>\n",
       "      <td>None</td>\n",
       "      <td>None</td>\n",
       "      <td>NaN</td>\n",
       "      <td>None</td>\n",
       "      <td>FL</td>\n",
       "      <td>None</td>\n",
       "      <td>N/A</td>\n",
       "      <td>None</td>\n",
       "      <td>...</td>\n",
       "      <td>0013j00002zoF0RAAU</td>\n",
       "      <td>Not in budget</td>\n",
       "      <td>NaN</td>\n",
       "      <td>None</td>\n",
       "      <td>NaN</td>\n",
       "      <td>None</td>\n",
       "      <td>None</td>\n",
       "      <td>NaT</td>\n",
       "      <td>None</td>\n",
       "      <td>NaN</td>\n",
       "    </tr>\n",
       "  </tbody>\n",
       "</table>\n",
       "<p>5 rows × 196 columns</p>\n",
       "</div>"
      ],
      "text/plain": [
       "          fax    main_branches days_last_visit date_agreement  \\\n",
       "0                      TS02(0)            None           None   \n",
       "1  3055033110  D551(0),F033(0)            None           None   \n",
       "2  3054776741          F005(0)            None           None   \n",
       "3  9549795992          F003(0)            None           None   \n",
       "4  3053862747          F004(0)            None           None   \n",
       "\n",
       "   amount_last_week    vp state_budget date_is_viacheck  \\\n",
       "0               NaN  None         None             None   \n",
       "1               NaN  None        FL                None   \n",
       "2               NaN  None        FL                None   \n",
       "3               NaN  None        FL                None   \n",
       "4               NaN  None        FL                None   \n",
       "\n",
       "  mom_mtd_performance_category fin_closing_day  ...       id_salesforce  \\\n",
       "0                         None            None  ...  0013j00002zoF0NAAU   \n",
       "1                          N/A            None  ...  0013j00002zoF0OAAU   \n",
       "2                          N/A            None  ...  0013j00002zoF0PAAU   \n",
       "3                          N/A            None  ...  0013j00002zoF0QAAU   \n",
       "4                          N/A            None  ...  0013j00002zoF0RAAU   \n",
       "\n",
       "            type last_month_hwm_performance  \\\n",
       "0  Not in budget                        NaN   \n",
       "1  Not in budget                        NaN   \n",
       "2  Not in budget                        NaN   \n",
       "3  Not in budget                        NaN   \n",
       "4  Not in budget                        NaN   \n",
       "\n",
       "                       sales_representative  related_reason  \\\n",
       "0  TEST AGENCIES                                        NaN   \n",
       "1  VIALOCAL                                             NaN   \n",
       "2                                      None             NaN   \n",
       "3                                      None             NaN   \n",
       "4                                      None             NaN   \n",
       "\n",
       "   mean_days_inactive  is_reopen last_sync  payments_made  mtd_count_viatopups  \n",
       "0                None       None       NaT           None                  NaN  \n",
       "1                None       None       NaT           None                  NaN  \n",
       "2                None       None       NaT           None                  NaN  \n",
       "3                None       None       NaT           None                  NaN  \n",
       "4                None       None       NaT           None                  NaN  \n",
       "\n",
       "[5 rows x 196 columns]"
      ]
     },
     "execution_count": 8,
     "metadata": {},
     "output_type": "execute_result"
    }
   ],
   "source": [
    "df.head()"
   ]
  },
  {
   "cell_type": "code",
   "execution_count": 9,
   "id": "a80ff847-aef6-4ef3-a1ab-e98fe5b9cad3",
   "metadata": {
    "tags": []
   },
   "outputs": [
    {
     "data": {
      "text/plain": [
       "(819, 196)"
      ]
     },
     "execution_count": 9,
     "metadata": {},
     "output_type": "execute_result"
    }
   ],
   "source": [
    "df.shape"
   ]
  },
  {
   "cell_type": "raw",
   "id": "fa8ce4cd-7389-4068-b796-cb16276d6cd4",
   "metadata": {},
   "source": [
    "buscar algunas agencias activas sacar el budget y el pastdue, ver en receiver cantidad de trx y montos... sacar distribuciones...."
   ]
  },
  {
   "cell_type": "code",
   "execution_count": null,
   "id": "a3a49753-eac9-4ced-a42f-17be5d442d6f",
   "metadata": {
    "tags": []
   },
   "outputs": [
    {
     "name": "stderr",
     "output_type": "stream",
     "text": [
      "/tmp/ipykernel_17/1901365188.py:8: UserWarning: pandas only supports SQLAlchemy connectable (engine/connection) or database string URI or sqlite3 DBAPI2 connection. Other DBAPI2 objects are not tested. Please consider using SQLAlchemy.\n",
      "  df = pd.read_sql('''SELECT id_main_branch, balance, dso_pastdue, dso_deposit_day, day FROM AwsDataCatalog.viamericas.history_balance WHERE id_main_branch LIKE 'F%' order by day DESC; ''', conn)\n"
     ]
    }
   ],
   "source": [
    "# DB Setting\n",
    "bucket_name = 's3://viamericas-datalake-dev-us-east-1-283731589572-athena/'\n",
    "\n",
    "#Connection\n",
    "conn = connect(s3_staging_dir=f'{bucket_name}queryresults/',\n",
    "               region_name='us-east-1')\n",
    "\n",
    "df = pd.read_sql('''SELECT id_main_branch, balance, dso_pastdue, dso_deposit_day, day FROM AwsDataCatalog.viamericas.history_balance WHERE id_main_branch LIKE 'F%' order by day DESC; ''', conn)"
   ]
  },
  {
   "cell_type": "code",
   "execution_count": null,
   "id": "b6ef5f5d-add4-4fe9-b17b-b77cc4dbbd85",
   "metadata": {
    "tags": []
   },
   "outputs": [
    {
     "data": {
      "text/html": [
       "<div>\n",
       "<style scoped>\n",
       "    .dataframe tbody tr th:only-of-type {\n",
       "        vertical-align: middle;\n",
       "    }\n",
       "\n",
       "    .dataframe tbody tr th {\n",
       "        vertical-align: top;\n",
       "    }\n",
       "\n",
       "    .dataframe thead th {\n",
       "        text-align: right;\n",
       "    }\n",
       "</style>\n",
       "<table border=\"1\" class=\"dataframe\">\n",
       "  <thead>\n",
       "    <tr style=\"text-align: right;\">\n",
       "      <th></th>\n",
       "      <th>id_main_branch</th>\n",
       "      <th>balance</th>\n",
       "      <th>dso_pastdue</th>\n",
       "      <th>dso_deposit_day</th>\n",
       "      <th>day</th>\n",
       "    </tr>\n",
       "  </thead>\n",
       "  <tbody>\n",
       "    <tr>\n",
       "      <th>0</th>\n",
       "      <td>F521</td>\n",
       "      <td>0.0000</td>\n",
       "      <td>NaN</td>\n",
       "      <td>NaN</td>\n",
       "      <td>2024-02-04</td>\n",
       "    </tr>\n",
       "    <tr>\n",
       "      <th>1</th>\n",
       "      <td>F033</td>\n",
       "      <td>0.0000</td>\n",
       "      <td>NaN</td>\n",
       "      <td>NaN</td>\n",
       "      <td>2024-02-04</td>\n",
       "    </tr>\n",
       "    <tr>\n",
       "      <th>2</th>\n",
       "      <td>F776</td>\n",
       "      <td>0.0000</td>\n",
       "      <td>NaN</td>\n",
       "      <td>NaN</td>\n",
       "      <td>2024-02-04</td>\n",
       "    </tr>\n",
       "    <tr>\n",
       "      <th>3</th>\n",
       "      <td>F520</td>\n",
       "      <td>0.0048</td>\n",
       "      <td>NaN</td>\n",
       "      <td>NaN</td>\n",
       "      <td>2024-02-04</td>\n",
       "    </tr>\n",
       "    <tr>\n",
       "      <th>4</th>\n",
       "      <td>F032</td>\n",
       "      <td>0.0000</td>\n",
       "      <td>NaN</td>\n",
       "      <td>NaN</td>\n",
       "      <td>2024-02-04</td>\n",
       "    </tr>\n",
       "  </tbody>\n",
       "</table>\n",
       "</div>"
      ],
      "text/plain": [
       "  id_main_branch  balance  dso_pastdue  dso_deposit_day         day\n",
       "0           F521   0.0000          NaN              NaN  2024-02-04\n",
       "1           F033   0.0000          NaN              NaN  2024-02-04\n",
       "2           F776   0.0000          NaN              NaN  2024-02-04\n",
       "3           F520   0.0048          NaN              NaN  2024-02-04\n",
       "4           F032   0.0000          NaN              NaN  2024-02-04"
      ]
     },
     "execution_count": 11,
     "metadata": {},
     "output_type": "execute_result"
    }
   ],
   "source": [
    "df.head()"
   ]
  },
  {
   "cell_type": "code",
   "execution_count": 16,
   "id": "3db98392-0288-4a70-a08f-5b8e7186d40b",
   "metadata": {
    "tags": []
   },
   "outputs": [],
   "source": [
    "df521 = df[df['id_main_branch']== 'F520']"
   ]
  },
  {
   "cell_type": "code",
   "execution_count": 22,
   "id": "4472cd45-8e03-4534-b363-bfc443f9d05c",
   "metadata": {
    "tags": []
   },
   "outputs": [
    {
     "data": {
      "text/plain": [
       "<Axes: >"
      ]
     },
     "execution_count": 22,
     "metadata": {},
     "output_type": "execute_result"
    },
    {
     "data": {
      "image/png": "[encoded data removed]",
      "text/plain": [
       "<Figure size 640x480 with 1 Axes>"
      ]
     },
     "metadata": {},
     "output_type": "display_data"
    }
   ],
   "source": [
    "df521.balance.plot(x='day')"
   ]
  },
  {
   "cell_type": "code",
   "execution_count": 25,
   "id": "d7e15603-a88f-48cc-ac95-c8ce2f5fdc76",
   "metadata": {
    "tags": []
   },
   "outputs": [
    {
     "data": {
      "text/plain": [
       "<Axes: >"
      ]
     },
     "execution_count": 25,
     "metadata": {},
     "output_type": "execute_result"
    },
    {
     "data": {
      "image/png": "[encoded data removed]",
      "text/plain": [
       "<Figure size 640x480 with 1 Axes>"
      ]
     },
     "metadata": {},
     "output_type": "display_data"
    }
   ],
   "source": [
    "df['balance'].hist(bins=30)"
   ]
  },
  {
   "cell_type": "code",
   "execution_count": 26,
   "id": "dd12dbe6-effa-46d7-a4be-26a655b038c9",
   "metadata": {
    "tags": []
   },
   "outputs": [
    {
     "data": {
      "text/plain": [
       "<Axes: >"
      ]
     },
     "execution_count": 26,
     "metadata": {},
     "output_type": "execute_result"
    },
    {
     "data": {
      "image/png": "[encoded data removed]",
      "text/plain": [
       "<Figure size 640x480 with 1 Axes>"
      ]
     },
     "metadata": {},
     "output_type": "display_data"
    }
   ],
   "source": [
    "df['dso_pastdue'].hist(bins=30)"
   ]
  },
  {
   "cell_type": "code",
   "execution_count": 29,
   "id": "0bec589e-cab2-430a-bf48-c52dc97c02e4",
   "metadata": {
    "tags": []
   },
   "outputs": [
    {
     "data": {
      "text/plain": [
       "array([ nan,   0.,   1.,  15.,   4.,   2.,   3.,   6.,  24.,  23.,  22.,\n",
       "         5.,  16.,  14.,   7.,   9.,   8., 235., 379., 374., 373., 372.,\n",
       "       365., 304., 303., 302., 169., 163., 162., 155., 134., 120.,  78.,\n",
       "        11.,  44.,  43.,  64.,  52.,  51.,  50.,  38.,  37.,  36.,  31.,\n",
       "        30.,  29., 318., 317., 297., 296., 295., 277., 248., 247., 246.,\n",
       "       213., 212., 211., 170.,  87.,  86.,  85.,  73.,  72.,  71.,  65.,\n",
       "        59.,  58.,  57.])"
      ]
     },
     "execution_count": 29,
     "metadata": {},
     "output_type": "execute_result"
    }
   ],
   "source": [
    "df['dso_deposit_day'].unique()"
   ]
  },
  {
   "cell_type": "code",
   "execution_count": 30,
   "id": "f02e0271-013d-4f09-b1f7-0ca53fcc7834",
   "metadata": {
    "tags": []
   },
   "outputs": [
    {
     "data": {
      "text/plain": [
       "array(['F521', 'F033', 'F776', 'F520', 'F032', 'F099', 'F519', 'F774',\n",
       "       'F777', 'F518', 'F773', 'F778', 'F517', 'F030', 'F779', 'F516',\n",
       "       'F029', 'F780', 'F515', 'F772', 'F781', 'F514', 'F771', 'F782',\n",
       "       'F513', 'F028', 'F183', 'F512', 'F027', 'F184', 'F511', 'F026',\n",
       "       'F185', 'F510', 'F770', 'F783', 'F509', 'F025', 'F784', 'F508',\n",
       "       'F024', 'F785', 'F507', 'F023', 'F786', 'F506', 'F022', 'F787',\n",
       "       'F505', 'F020', 'F788', 'F504', 'F769', 'F789', 'F503', 'F768',\n",
       "       'F790', 'F502', 'F019', 'F186', 'F501', 'F767', 'F187', 'F500',\n",
       "       'F766', 'F188', 'F499', 'F765', 'F189', 'F498', 'F764', 'F190',\n",
       "       'F497', 'F763', 'F192', 'F496', 'F018', 'F193', 'F495', 'F017',\n",
       "       'F791', 'F494', 'F762', 'F792', 'F493', 'F761', 'F198', 'F492',\n",
       "       'F760', 'F793', 'F491', 'F758', 'F199', 'F490', 'F016', 'F200',\n",
       "       'F489', 'F015', 'F794', 'F488', 'F014', 'F796', 'F487', 'F013',\n",
       "       'F797', 'F486', 'F012', 'F798', 'F485', 'F756', 'F799', 'F484',\n",
       "       'F755', 'F800', 'F483', 'F011', 'F801', 'F482', 'F753', 'F201',\n",
       "       'F481', 'F752', 'F202', 'F480', 'F010', 'F802', 'F479', 'F008',\n",
       "       'F203', 'F478', 'F751', 'F803', 'F477', 'F007', 'F806', 'F476',\n",
       "       'F006', 'F807', 'F475', 'F005', 'F808', 'F474', 'F004', 'F809',\n",
       "       'F473', 'F003', 'F204', 'F472', 'F002', 'F206', 'F471', 'F001',\n",
       "       'F207', 'F470', 'F750', 'F810', 'F469', 'F749', 'F811', 'F468',\n",
       "       'F748', 'F813', 'F467', 'F747', 'F208', 'F466', 'F746', 'F209',\n",
       "       'F465', 'F745', 'F814', 'F464', 'F744', 'F815', 'F463', 'F743',\n",
       "       'F210', 'F462', 'F742', 'F211', 'F461', 'F741', 'F816', 'F460',\n",
       "       'F740', 'F817', 'F459', 'F739', 'F818', 'F458', 'F738', 'F819',\n",
       "       'F457', 'F737', 'F820', 'F456', 'F736', 'F212', 'F455', 'F735',\n",
       "       'F213', 'F454', 'F734', 'F214', 'F453', 'F733', 'F216', 'F452',\n",
       "       'F732', 'F821', 'F451', 'F731', 'F822', 'F450', 'F730', 'F823',\n",
       "       'F449', 'F729', 'F217', 'F448', 'F728', 'F218', 'F447', 'F727',\n",
       "       'F824', 'F446', 'F726', 'F219', 'F445', 'F725', 'F825', 'F444',\n",
       "       'F724', 'F826', 'F443', 'F723', 'F827', 'F442', 'F722', 'F829',\n",
       "       'F441', 'F721', 'F830', 'F440', 'F720', 'F831', 'F439', 'F719',\n",
       "       'F832', 'F438', 'F718', 'F220', 'F437', 'F717', 'F221', 'F436',\n",
       "       'F716', 'F833', 'F435', 'F715', 'F834', 'F434', 'F714', 'F835',\n",
       "       'F433', 'F713', 'F836', 'F432', 'F712', 'F222', 'F431', 'F711',\n",
       "       'F224', 'F430', 'F710', 'F837', 'F429', 'F706', 'F838', 'F428',\n",
       "       'F705', 'F225', 'F427', 'F703', 'F840', 'F426', 'F701', 'F841',\n",
       "       'F425', 'F700', 'F842', 'F424', 'F699', 'F843', 'F423', 'F698',\n",
       "       'F844', 'F422', 'F697', 'F845', 'F421', 'F696', 'F226', 'F420',\n",
       "       'F695', 'F227', 'F419', 'F694', 'F846', 'F418', 'F693', 'F847',\n",
       "       'F417', 'F692', 'F228', 'F416', 'F691', 'F848', 'F415', 'F690',\n",
       "       'F849', 'F414', 'F689', 'F229', 'F413', 'F688', 'F230', 'F412',\n",
       "       'F687', 'F850', 'F411', 'F686', 'F851', 'F410', 'F685', 'F852',\n",
       "       'F409', 'F684', 'F231', 'F408', 'F683', 'F234', 'F406', 'F682',\n",
       "       'F853', 'F405', 'F679', 'F237', 'F404', 'F678', 'F854', 'F403',\n",
       "       'F677', 'F855', 'F402', 'F676', 'F856', 'F401', 'F675', 'F857',\n",
       "       'F400', 'F674', 'F859', 'F399', 'F673', 'F238', 'F398', 'F672',\n",
       "       'F242', 'F397', 'F671', 'F243', 'F396', 'F669', 'F244', 'F395',\n",
       "       'F668', 'F245', 'F394', 'F666', 'F246', 'F393', 'F665', 'F860',\n",
       "       'F392', 'F664', 'F861', 'F390', 'F663', 'F862', 'F389', 'F662',\n",
       "       'F247', 'F388', 'F661', 'F248', 'F387', 'F660', 'F863', 'F386',\n",
       "       'F659', 'F864', 'F385', 'F658', 'F865', 'F381', 'F657', 'F249',\n",
       "       'F380', 'F656', 'F251', 'F379', 'F655', 'F252', 'F378', 'F654',\n",
       "       'F866', 'F377', 'F653', 'F867', 'F376', 'F652', 'F868', 'F375',\n",
       "       'F651', 'F869', 'F374', 'F650', 'F870', 'F373', 'F649', 'F871',\n",
       "       'F372', 'F648', 'F872', 'F371', 'F647', 'F874', 'F370', 'F646',\n",
       "       'F875', 'F369', 'F645', 'F876', 'F368', 'F644', 'F877', 'F367',\n",
       "       'F643', 'F253', 'F366', 'F642', 'F254', 'F365', 'F641', 'F879',\n",
       "       'F364', 'F640', 'F881', 'F363', 'F639', 'F256', 'F362', 'F638',\n",
       "       'F882', 'F361', 'F637', 'F883', 'F360', 'F636', 'F884', 'F359',\n",
       "       'F635', 'F257', 'F358', 'F634', 'F258', 'F357', 'F633', 'F259',\n",
       "       'F356', 'F632', 'F260', 'F355', 'F631', 'F261', 'F354', 'F630',\n",
       "       'F262', 'F353', 'F629', 'F263', 'F352', 'F628', 'F264', 'F351',\n",
       "       'F627', 'F265', 'F350', 'F626', 'F267', 'F349', 'F625', 'F269',\n",
       "       'F348', 'F624', 'F886', 'F347', 'F623', 'F888', 'F346', 'F622',\n",
       "       'F889', 'F345', 'F621', 'F890', 'F344', 'F620', 'F891', 'F343',\n",
       "       'F618', 'F892', 'F342', 'F617', 'F893', 'F340', 'F616', 'F894',\n",
       "       'F338', 'F615', 'F270', 'F337', 'F614', 'F271', 'F336', 'F613',\n",
       "       'F895', 'F335', 'F612', 'F896', 'F334', 'F611', 'F272', 'F333',\n",
       "       'F610', 'F897', 'F332', 'F609', 'F898', 'F331', 'F608', 'F899',\n",
       "       'F330', 'F607', 'F274', 'F329', 'F606', 'F275', 'F999', 'F605',\n",
       "       'F900', 'F998', 'F604', 'F901', 'F328', 'F603', 'F902', 'F327',\n",
       "       'F602', 'F903', 'F997', 'F601', 'F904', 'F326', 'F600', 'F905',\n",
       "       'F325', 'F599', 'F276', 'F996', 'F598', 'F277', 'F995', 'F597',\n",
       "       'F906', 'F994', 'F596', 'F907', 'F993', 'F595', 'F278', 'F992',\n",
       "       'F594', 'F908', 'F324', 'F593', 'F910', 'F991', 'F592', 'F911',\n",
       "       'F990', 'F591', 'F912', 'F323', 'F590', 'F279', 'F322', 'F589',\n",
       "       'F280', 'F989', 'F588', 'F281', 'F321', 'F587', 'F282', 'F320',\n",
       "       'F586', 'F283', 'F319', 'F585', 'F914', 'F318', 'F584', 'F915',\n",
       "       'F988', 'F583', 'F284', 'F987', 'F582', 'F286', 'F986', 'F581',\n",
       "       'F287', 'F985', 'F580', 'F916', 'F984', 'F579', 'F917', 'F983',\n",
       "       'F578', 'F918', 'F982', 'F577', 'F288', 'F317', 'F575', 'F289',\n",
       "       'F316', 'F574', 'F919', 'F981', 'F573', 'F920', 'F980', 'F572',\n",
       "       'F921', 'F979', 'F571', 'F922', 'F315', 'F570', 'F923', 'F314',\n",
       "       'F569', 'F924', 'F977', 'F568', 'F925', 'F976', 'F567', 'F926',\n",
       "       'F975', 'F566', 'F290', 'F974', 'F565', 'F927', 'F973', 'F564',\n",
       "       'F928', 'F972', 'F563', 'F291', 'F313', 'F562', 'F292', 'F971',\n",
       "       'F561', 'F293', 'F969', 'F560', 'F929', 'F312', 'F559', 'F931',\n",
       "       'F311', 'F558', 'F932', 'F968', 'F557', 'F933', 'F966', 'F556',\n",
       "       'F934', 'F965', 'F555', 'F294', 'F964', 'F554', 'F295', 'F963',\n",
       "       'F553', 'F296', 'F962', 'F552', 'F297', 'F310', 'F551', 'F298',\n",
       "       'F961', 'F550', 'F939', 'F960', 'F549', 'F299', 'F309', 'F548',\n",
       "       'F300', 'F308', 'F547', 'F940', 'F959', 'F546', 'F942', 'F307',\n",
       "       'F545', 'F301', 'F958', 'F544', 'F944', 'F957', 'F543', 'F946',\n",
       "       'F306', 'F542', 'F947', 'F305', 'F541', 'F948', 'F956', 'F540',\n",
       "       'F949', 'F955', 'F539', 'F950', 'F954', 'F538', 'F951', 'F304',\n",
       "       'F537', 'F952', 'F535', 'F536', 'F953', 'F533', 'F303', 'F534',\n",
       "       'F532', 'F531', 'F530', 'F529', 'F528', 'F527', 'F526', 'F525',\n",
       "       'F524', 'F523', 'F522', 'F978', 'F970', 'F967', 'F709', 'F707',\n",
       "       'F704', 'F619', 'F945', 'F943', 'F702', 'F938', 'F937', 'F936',\n",
       "       'F935', 'F930', 'F909', 'F887', 'F880', 'F858', 'F576', 'F839',\n",
       "       'F828', 'F804', 'F795', 'F775', 'F759', 'F757', 'F754', 'F681',\n",
       "       'F670', 'F667'], dtype=object)"
      ]
     },
     "execution_count": 30,
     "metadata": {},
     "output_type": "execute_result"
    }
   ],
   "source": [
    "df['id_main_branch'].unique()"
   ]
  },
  {
   "cell_type": "markdown",
   "id": "05fa9561-3038-40dd-8767-ea295530ea8b",
   "metadata": {},
   "source": [
    "## Con los datos utilizados en el alarmado de KPR1"
   ]
  },
  {
   "cell_type": "code",
   "execution_count": 7,
   "id": "573fa0e7-d848-4213-ac5c-674247cead46",
   "metadata": {
    "tags": []
   },
   "outputs": [],
   "source": [
    "df = pd.read_csv('first_45_days_branch.csv')"
   ]
  },
  {
   "cell_type": "code",
   "execution_count": 9,
   "id": "5cef93e7-fbc6-44cd-96e3-08b27c67f3a5",
   "metadata": {
    "tags": []
   },
   "outputs": [
    {
     "data": {
      "text/html": [
       "<div>\n",
       "<style scoped>\n",
       "    .dataframe tbody tr th:only-of-type {\n",
       "        vertical-align: middle;\n",
       "    }\n",
       "\n",
       "    .dataframe tbody tr th {\n",
       "        vertical-align: top;\n",
       "    }\n",
       "\n",
       "    .dataframe thead th {\n",
       "        text-align: right;\n",
       "    }\n",
       "</style>\n",
       "<table border=\"1\" class=\"dataframe\">\n",
       "  <thead>\n",
       "    <tr style=\"text-align: right;\">\n",
       "      <th></th>\n",
       "      <th>DAYS</th>\n",
       "      <th>COUNT</th>\n",
       "      <th>AMOUNT</th>\n",
       "      <th>GP</th>\n",
       "    </tr>\n",
       "  </thead>\n",
       "  <tbody>\n",
       "    <tr>\n",
       "      <th>count</th>\n",
       "      <td>190779.000000</td>\n",
       "      <td>190779.000000</td>\n",
       "      <td>190779.000000</td>\n",
       "      <td>190779.000000</td>\n",
       "    </tr>\n",
       "    <tr>\n",
       "      <th>mean</th>\n",
       "      <td>22.399682</td>\n",
       "      <td>4.878163</td>\n",
       "      <td>2292.060546</td>\n",
       "      <td>13.967231</td>\n",
       "    </tr>\n",
       "    <tr>\n",
       "      <th>std</th>\n",
       "      <td>13.278708</td>\n",
       "      <td>10.570094</td>\n",
       "      <td>5548.596582</td>\n",
       "      <td>37.187106</td>\n",
       "    </tr>\n",
       "    <tr>\n",
       "      <th>min</th>\n",
       "      <td>0.000000</td>\n",
       "      <td>-10.000000</td>\n",
       "      <td>-10938.000000</td>\n",
       "      <td>-1717.310000</td>\n",
       "    </tr>\n",
       "    <tr>\n",
       "      <th>25%</th>\n",
       "      <td>11.000000</td>\n",
       "      <td>0.000000</td>\n",
       "      <td>0.000000</td>\n",
       "      <td>0.000000</td>\n",
       "    </tr>\n",
       "    <tr>\n",
       "      <th>50%</th>\n",
       "      <td>22.000000</td>\n",
       "      <td>1.000000</td>\n",
       "      <td>300.000000</td>\n",
       "      <td>2.250000</td>\n",
       "    </tr>\n",
       "    <tr>\n",
       "      <th>75%</th>\n",
       "      <td>34.000000</td>\n",
       "      <td>5.000000</td>\n",
       "      <td>2385.000000</td>\n",
       "      <td>13.900000</td>\n",
       "    </tr>\n",
       "    <tr>\n",
       "      <th>max</th>\n",
       "      <td>45.000000</td>\n",
       "      <td>439.000000</td>\n",
       "      <td>363209.000000</td>\n",
       "      <td>1820.510000</td>\n",
       "    </tr>\n",
       "  </tbody>\n",
       "</table>\n",
       "</div>"
      ],
      "text/plain": [
       "                DAYS          COUNT         AMOUNT             GP\n",
       "count  190779.000000  190779.000000  190779.000000  190779.000000\n",
       "mean       22.399682       4.878163    2292.060546      13.967231\n",
       "std        13.278708      10.570094    5548.596582      37.187106\n",
       "min         0.000000     -10.000000  -10938.000000   -1717.310000\n",
       "25%        11.000000       0.000000       0.000000       0.000000\n",
       "50%        22.000000       1.000000     300.000000       2.250000\n",
       "75%        34.000000       5.000000    2385.000000      13.900000\n",
       "max        45.000000     439.000000  363209.000000    1820.510000"
      ]
     },
     "execution_count": 9,
     "metadata": {},
     "output_type": "execute_result"
    }
   ],
   "source": [
    "df.describe()"
   ]
  },
  {
   "cell_type": "code",
   "execution_count": 10,
   "id": "9ce7df71-be33-48dc-8739-764c68c6e0ba",
   "metadata": {
    "tags": []
   },
   "outputs": [
    {
     "data": {
      "text/html": [
       "<div>\n",
       "<style scoped>\n",
       "    .dataframe tbody tr th:only-of-type {\n",
       "        vertical-align: middle;\n",
       "    }\n",
       "\n",
       "    .dataframe tbody tr th {\n",
       "        vertical-align: top;\n",
       "    }\n",
       "\n",
       "    .dataframe thead th {\n",
       "        text-align: right;\n",
       "    }\n",
       "</style>\n",
       "<table border=\"1\" class=\"dataframe\">\n",
       "  <thead>\n",
       "    <tr style=\"text-align: right;\">\n",
       "      <th></th>\n",
       "      <th>ID_BRANCH</th>\n",
       "      <th>ID_LOCATION</th>\n",
       "      <th>DATE</th>\n",
       "      <th>DAYS</th>\n",
       "      <th>DayOfWeekName</th>\n",
       "      <th>COUNT</th>\n",
       "      <th>AMOUNT</th>\n",
       "      <th>GP</th>\n",
       "      <th>FIRST_DAY</th>\n",
       "    </tr>\n",
       "  </thead>\n",
       "  <tbody>\n",
       "    <tr>\n",
       "      <th>0</th>\n",
       "      <td>A00009</td>\n",
       "      <td>FL2606</td>\n",
       "      <td>2023-11-08</td>\n",
       "      <td>0</td>\n",
       "      <td>Wed</td>\n",
       "      <td>0</td>\n",
       "      <td>0</td>\n",
       "      <td>0.0</td>\n",
       "      <td>Wed</td>\n",
       "    </tr>\n",
       "    <tr>\n",
       "      <th>1</th>\n",
       "      <td>A00009</td>\n",
       "      <td>FL2606</td>\n",
       "      <td>2023-11-09</td>\n",
       "      <td>1</td>\n",
       "      <td>Thu</td>\n",
       "      <td>0</td>\n",
       "      <td>0</td>\n",
       "      <td>0.0</td>\n",
       "      <td>Wed</td>\n",
       "    </tr>\n",
       "    <tr>\n",
       "      <th>2</th>\n",
       "      <td>A00009</td>\n",
       "      <td>FL2606</td>\n",
       "      <td>2023-11-10</td>\n",
       "      <td>2</td>\n",
       "      <td>Fri</td>\n",
       "      <td>0</td>\n",
       "      <td>0</td>\n",
       "      <td>0.0</td>\n",
       "      <td>Wed</td>\n",
       "    </tr>\n",
       "    <tr>\n",
       "      <th>3</th>\n",
       "      <td>A00009</td>\n",
       "      <td>FL2606</td>\n",
       "      <td>2023-11-11</td>\n",
       "      <td>3</td>\n",
       "      <td>Sat</td>\n",
       "      <td>0</td>\n",
       "      <td>0</td>\n",
       "      <td>0.0</td>\n",
       "      <td>Wed</td>\n",
       "    </tr>\n",
       "    <tr>\n",
       "      <th>4</th>\n",
       "      <td>A00009</td>\n",
       "      <td>FL2606</td>\n",
       "      <td>2023-11-12</td>\n",
       "      <td>4</td>\n",
       "      <td>Sun</td>\n",
       "      <td>0</td>\n",
       "      <td>0</td>\n",
       "      <td>0.0</td>\n",
       "      <td>Wed</td>\n",
       "    </tr>\n",
       "  </tbody>\n",
       "</table>\n",
       "</div>"
      ],
      "text/plain": [
       "  ID_BRANCH ID_LOCATION        DATE  DAYS DayOfWeekName  COUNT  AMOUNT   GP  \\\n",
       "0    A00009      FL2606  2023-11-08     0           Wed      0       0  0.0   \n",
       "1    A00009      FL2606  2023-11-09     1           Thu      0       0  0.0   \n",
       "2    A00009      FL2606  2023-11-10     2           Fri      0       0  0.0   \n",
       "3    A00009      FL2606  2023-11-11     3           Sat      0       0  0.0   \n",
       "4    A00009      FL2606  2023-11-12     4           Sun      0       0  0.0   \n",
       "\n",
       "  FIRST_DAY  \n",
       "0       Wed  \n",
       "1       Wed  \n",
       "2       Wed  \n",
       "3       Wed  \n",
       "4       Wed  "
      ]
     },
     "execution_count": 10,
     "metadata": {},
     "output_type": "execute_result"
    }
   ],
   "source": [
    "df.head()"
   ]
  },
  {
   "cell_type": "code",
   "execution_count": 12,
   "id": "1ae7fa8c-9ca4-47bf-91dc-8baa2df4b134",
   "metadata": {
    "tags": []
   },
   "outputs": [
    {
     "data": {
      "text/plain": [
       "4314"
      ]
     },
     "execution_count": 12,
     "metadata": {},
     "output_type": "execute_result"
    }
   ],
   "source": [
    "df['ID_LOCATION'].nunique()"
   ]
  },
  {
   "cell_type": "code",
   "execution_count": 14,
   "id": "8c245da9-88a4-48ca-8597-028f14478979",
   "metadata": {
    "tags": []
   },
   "outputs": [
    {
     "data": {
      "text/plain": [
       "(190779, 9)"
      ]
     },
     "execution_count": 14,
     "metadata": {},
     "output_type": "execute_result"
    }
   ],
   "source": [
    "df.shape"
   ]
  },
  {
   "cell_type": "code",
   "execution_count": 15,
   "id": "bda52867-48b3-4d29-ad4a-0ca6186de017",
   "metadata": {
    "tags": []
   },
   "outputs": [
    {
     "data": {
      "text/plain": [
       "array(['Wed', nan, 'Fri', 'Thu', 'Mon', 'Tue', 'Sat', 'Sun'], dtype=object)"
      ]
     },
     "execution_count": 15,
     "metadata": {},
     "output_type": "execute_result"
    }
   ],
   "source": [
    "df['FIRST_DAY'].unique()"
   ]
  },
  {
   "cell_type": "code",
   "execution_count": 18,
   "id": "b5e046c6-8979-4b0e-aa70-6b2f11f1ad9f",
   "metadata": {
    "tags": []
   },
   "outputs": [],
   "source": [
    "df_location = df.groupby('FIRST_DAY')['ID_LOCATION'].nunique()\n",
    "df_location = pd.DataFrame(df_location)"
   ]
  },
  {
   "cell_type": "code",
   "execution_count": 19,
   "id": "b150fc5c-7282-415f-919e-9483de8b26b2",
   "metadata": {
    "tags": []
   },
   "outputs": [
    {
     "data": {
      "text/html": [
       "<div>\n",
       "<style scoped>\n",
       "    .dataframe tbody tr th:only-of-type {\n",
       "        vertical-align: middle;\n",
       "    }\n",
       "\n",
       "    .dataframe tbody tr th {\n",
       "        vertical-align: top;\n",
       "    }\n",
       "\n",
       "    .dataframe thead th {\n",
       "        text-align: right;\n",
       "    }\n",
       "</style>\n",
       "<table border=\"1\" class=\"dataframe\">\n",
       "  <thead>\n",
       "    <tr style=\"text-align: right;\">\n",
       "      <th></th>\n",
       "      <th>ID_LOCATION</th>\n",
       "    </tr>\n",
       "    <tr>\n",
       "      <th>FIRST_DAY</th>\n",
       "      <th></th>\n",
       "    </tr>\n",
       "  </thead>\n",
       "  <tbody>\n",
       "    <tr>\n",
       "      <th>Fri</th>\n",
       "      <td>831</td>\n",
       "    </tr>\n",
       "    <tr>\n",
       "      <th>Mon</th>\n",
       "      <td>625</td>\n",
       "    </tr>\n",
       "    <tr>\n",
       "      <th>Sat</th>\n",
       "      <td>327</td>\n",
       "    </tr>\n",
       "    <tr>\n",
       "      <th>Sun</th>\n",
       "      <td>1</td>\n",
       "    </tr>\n",
       "    <tr>\n",
       "      <th>Thu</th>\n",
       "      <td>865</td>\n",
       "    </tr>\n",
       "    <tr>\n",
       "      <th>Tue</th>\n",
       "      <td>755</td>\n",
       "    </tr>\n",
       "    <tr>\n",
       "      <th>Wed</th>\n",
       "      <td>794</td>\n",
       "    </tr>\n",
       "  </tbody>\n",
       "</table>\n",
       "</div>"
      ],
      "text/plain": [
       "           ID_LOCATION\n",
       "FIRST_DAY             \n",
       "Fri                831\n",
       "Mon                625\n",
       "Sat                327\n",
       "Sun                  1\n",
       "Thu                865\n",
       "Tue                755\n",
       "Wed                794"
      ]
     },
     "execution_count": 19,
     "metadata": {},
     "output_type": "execute_result"
    }
   ],
   "source": [
    "df_location"
   ]
  },
  {
   "cell_type": "code",
   "execution_count": 20,
   "id": "bc909ecc-9bbf-4eca-b045-552adcf80be2",
   "metadata": {
    "tags": []
   },
   "outputs": [
    {
     "data": {
      "text/html": [
       "<div>\n",
       "<style scoped>\n",
       "    .dataframe tbody tr th:only-of-type {\n",
       "        vertical-align: middle;\n",
       "    }\n",
       "\n",
       "    .dataframe tbody tr th {\n",
       "        vertical-align: top;\n",
       "    }\n",
       "\n",
       "    .dataframe thead th {\n",
       "        text-align: right;\n",
       "    }\n",
       "</style>\n",
       "<table border=\"1\" class=\"dataframe\">\n",
       "  <thead>\n",
       "    <tr style=\"text-align: right;\">\n",
       "      <th></th>\n",
       "      <th>ID_LOCATION</th>\n",
       "      <th>mean_amount</th>\n",
       "    </tr>\n",
       "    <tr>\n",
       "      <th>FIRST_DAY</th>\n",
       "      <th></th>\n",
       "      <th></th>\n",
       "    </tr>\n",
       "  </thead>\n",
       "  <tbody>\n",
       "    <tr>\n",
       "      <th>Fri</th>\n",
       "      <td>831</td>\n",
       "      <td>2369.433521</td>\n",
       "    </tr>\n",
       "    <tr>\n",
       "      <th>Mon</th>\n",
       "      <td>625</td>\n",
       "      <td>2037.936813</td>\n",
       "    </tr>\n",
       "    <tr>\n",
       "      <th>Sat</th>\n",
       "      <td>327</td>\n",
       "      <td>2183.001973</td>\n",
       "    </tr>\n",
       "    <tr>\n",
       "      <th>Sun</th>\n",
       "      <td>1</td>\n",
       "      <td>4525.369565</td>\n",
       "    </tr>\n",
       "    <tr>\n",
       "      <th>Thu</th>\n",
       "      <td>865</td>\n",
       "      <td>2337.517352</td>\n",
       "    </tr>\n",
       "    <tr>\n",
       "      <th>Tue</th>\n",
       "      <td>755</td>\n",
       "      <td>2597.205278</td>\n",
       "    </tr>\n",
       "    <tr>\n",
       "      <th>Wed</th>\n",
       "      <td>794</td>\n",
       "      <td>2086.788739</td>\n",
       "    </tr>\n",
       "  </tbody>\n",
       "</table>\n",
       "</div>"
      ],
      "text/plain": [
       "           ID_LOCATION  mean_amount\n",
       "FIRST_DAY                          \n",
       "Fri                831  2369.433521\n",
       "Mon                625  2037.936813\n",
       "Sat                327  2183.001973\n",
       "Sun                  1  4525.369565\n",
       "Thu                865  2337.517352\n",
       "Tue                755  2597.205278\n",
       "Wed                794  2086.788739"
      ]
     },
     "execution_count": 20,
     "metadata": {},
     "output_type": "execute_result"
    }
   ],
   "source": [
    "df_location['mean_amount'] = df.groupby('FIRST_DAY')['AMOUNT'].mean()\n",
    "df_location"
   ]
  },
  {
   "cell_type": "code",
   "execution_count": 21,
   "id": "594ad3f1-74fb-4be5-b967-307dde6a8fd6",
   "metadata": {
    "tags": []
   },
   "outputs": [
    {
     "data": {
      "text/html": [
       "<div>\n",
       "<style scoped>\n",
       "    .dataframe tbody tr th:only-of-type {\n",
       "        vertical-align: middle;\n",
       "    }\n",
       "\n",
       "    .dataframe tbody tr th {\n",
       "        vertical-align: top;\n",
       "    }\n",
       "\n",
       "    .dataframe thead th {\n",
       "        text-align: right;\n",
       "    }\n",
       "</style>\n",
       "<table border=\"1\" class=\"dataframe\">\n",
       "  <thead>\n",
       "    <tr style=\"text-align: right;\">\n",
       "      <th></th>\n",
       "      <th>ID_LOCATION</th>\n",
       "      <th>mean_amount</th>\n",
       "      <th>mean_trxcnt</th>\n",
       "    </tr>\n",
       "    <tr>\n",
       "      <th>FIRST_DAY</th>\n",
       "      <th></th>\n",
       "      <th></th>\n",
       "      <th></th>\n",
       "    </tr>\n",
       "  </thead>\n",
       "  <tbody>\n",
       "    <tr>\n",
       "      <th>Fri</th>\n",
       "      <td>831</td>\n",
       "      <td>2369.433521</td>\n",
       "      <td>4.996737</td>\n",
       "    </tr>\n",
       "    <tr>\n",
       "      <th>Mon</th>\n",
       "      <td>625</td>\n",
       "      <td>2037.936813</td>\n",
       "      <td>4.322117</td>\n",
       "    </tr>\n",
       "    <tr>\n",
       "      <th>Sat</th>\n",
       "      <td>327</td>\n",
       "      <td>2183.001973</td>\n",
       "      <td>4.605469</td>\n",
       "    </tr>\n",
       "    <tr>\n",
       "      <th>Sun</th>\n",
       "      <td>1</td>\n",
       "      <td>4525.369565</td>\n",
       "      <td>11.565217</td>\n",
       "    </tr>\n",
       "    <tr>\n",
       "      <th>Thu</th>\n",
       "      <td>865</td>\n",
       "      <td>2337.517352</td>\n",
       "      <td>4.954764</td>\n",
       "    </tr>\n",
       "    <tr>\n",
       "      <th>Tue</th>\n",
       "      <td>755</td>\n",
       "      <td>2597.205278</td>\n",
       "      <td>5.621137</td>\n",
       "    </tr>\n",
       "    <tr>\n",
       "      <th>Wed</th>\n",
       "      <td>794</td>\n",
       "      <td>2086.788739</td>\n",
       "      <td>4.462548</td>\n",
       "    </tr>\n",
       "  </tbody>\n",
       "</table>\n",
       "</div>"
      ],
      "text/plain": [
       "           ID_LOCATION  mean_amount  mean_trxcnt\n",
       "FIRST_DAY                                       \n",
       "Fri                831  2369.433521     4.996737\n",
       "Mon                625  2037.936813     4.322117\n",
       "Sat                327  2183.001973     4.605469\n",
       "Sun                  1  4525.369565    11.565217\n",
       "Thu                865  2337.517352     4.954764\n",
       "Tue                755  2597.205278     5.621137\n",
       "Wed                794  2086.788739     4.462548"
      ]
     },
     "execution_count": 21,
     "metadata": {},
     "output_type": "execute_result"
    }
   ],
   "source": [
    "df_location['mean_trxcnt'] = df.groupby('FIRST_DAY')['COUNT'].mean()\n",
    "df_location"
   ]
  },
  {
   "cell_type": "code",
   "execution_count": 22,
   "id": "3f71cd3e-0d53-4afa-821b-f6790ea84e19",
   "metadata": {
    "tags": []
   },
   "outputs": [
    {
     "data": {
      "text/html": [
       "<div>\n",
       "<style scoped>\n",
       "    .dataframe tbody tr th:only-of-type {\n",
       "        vertical-align: middle;\n",
       "    }\n",
       "\n",
       "    .dataframe tbody tr th {\n",
       "        vertical-align: top;\n",
       "    }\n",
       "\n",
       "    .dataframe thead th {\n",
       "        text-align: right;\n",
       "    }\n",
       "</style>\n",
       "<table border=\"1\" class=\"dataframe\">\n",
       "  <thead>\n",
       "    <tr style=\"text-align: right;\">\n",
       "      <th></th>\n",
       "      <th>ID_LOCATION</th>\n",
       "      <th>mean_amount</th>\n",
       "      <th>mean_trxcnt</th>\n",
       "      <th>max_trxcnt</th>\n",
       "    </tr>\n",
       "    <tr>\n",
       "      <th>FIRST_DAY</th>\n",
       "      <th></th>\n",
       "      <th></th>\n",
       "      <th></th>\n",
       "      <th></th>\n",
       "    </tr>\n",
       "  </thead>\n",
       "  <tbody>\n",
       "    <tr>\n",
       "      <th>Fri</th>\n",
       "      <td>831</td>\n",
       "      <td>2369.433521</td>\n",
       "      <td>4.996737</td>\n",
       "      <td>439</td>\n",
       "    </tr>\n",
       "    <tr>\n",
       "      <th>Mon</th>\n",
       "      <td>625</td>\n",
       "      <td>2037.936813</td>\n",
       "      <td>4.322117</td>\n",
       "      <td>118</td>\n",
       "    </tr>\n",
       "    <tr>\n",
       "      <th>Sat</th>\n",
       "      <td>327</td>\n",
       "      <td>2183.001973</td>\n",
       "      <td>4.605469</td>\n",
       "      <td>144</td>\n",
       "    </tr>\n",
       "    <tr>\n",
       "      <th>Sun</th>\n",
       "      <td>1</td>\n",
       "      <td>4525.369565</td>\n",
       "      <td>11.565217</td>\n",
       "      <td>33</td>\n",
       "    </tr>\n",
       "    <tr>\n",
       "      <th>Thu</th>\n",
       "      <td>865</td>\n",
       "      <td>2337.517352</td>\n",
       "      <td>4.954764</td>\n",
       "      <td>265</td>\n",
       "    </tr>\n",
       "    <tr>\n",
       "      <th>Tue</th>\n",
       "      <td>755</td>\n",
       "      <td>2597.205278</td>\n",
       "      <td>5.621137</td>\n",
       "      <td>429</td>\n",
       "    </tr>\n",
       "    <tr>\n",
       "      <th>Wed</th>\n",
       "      <td>794</td>\n",
       "      <td>2086.788739</td>\n",
       "      <td>4.462548</td>\n",
       "      <td>151</td>\n",
       "    </tr>\n",
       "  </tbody>\n",
       "</table>\n",
       "</div>"
      ],
      "text/plain": [
       "           ID_LOCATION  mean_amount  mean_trxcnt  max_trxcnt\n",
       "FIRST_DAY                                                   \n",
       "Fri                831  2369.433521     4.996737         439\n",
       "Mon                625  2037.936813     4.322117         118\n",
       "Sat                327  2183.001973     4.605469         144\n",
       "Sun                  1  4525.369565    11.565217          33\n",
       "Thu                865  2337.517352     4.954764         265\n",
       "Tue                755  2597.205278     5.621137         429\n",
       "Wed                794  2086.788739     4.462548         151"
      ]
     },
     "execution_count": 22,
     "metadata": {},
     "output_type": "execute_result"
    }
   ],
   "source": [
    "df_location['max_trxcnt'] = df.groupby('FIRST_DAY')['COUNT'].max()\n",
    "df_location"
   ]
  },
  {
   "cell_type": "code",
   "execution_count": 23,
   "id": "c8f0c918-a080-4f72-a363-20295afbb410",
   "metadata": {
    "tags": []
   },
   "outputs": [
    {
     "data": {
      "text/html": [
       "<div>\n",
       "<style scoped>\n",
       "    .dataframe tbody tr th:only-of-type {\n",
       "        vertical-align: middle;\n",
       "    }\n",
       "\n",
       "    .dataframe tbody tr th {\n",
       "        vertical-align: top;\n",
       "    }\n",
       "\n",
       "    .dataframe thead th {\n",
       "        text-align: right;\n",
       "    }\n",
       "</style>\n",
       "<table border=\"1\" class=\"dataframe\">\n",
       "  <thead>\n",
       "    <tr style=\"text-align: right;\">\n",
       "      <th></th>\n",
       "      <th>ID_LOCATION</th>\n",
       "      <th>mean_amount</th>\n",
       "      <th>mean_trxcnt</th>\n",
       "      <th>max_trxcnt</th>\n",
       "      <th>max_amount</th>\n",
       "    </tr>\n",
       "    <tr>\n",
       "      <th>FIRST_DAY</th>\n",
       "      <th></th>\n",
       "      <th></th>\n",
       "      <th></th>\n",
       "      <th></th>\n",
       "      <th></th>\n",
       "    </tr>\n",
       "  </thead>\n",
       "  <tbody>\n",
       "    <tr>\n",
       "      <th>Fri</th>\n",
       "      <td>831</td>\n",
       "      <td>2369.433521</td>\n",
       "      <td>4.996737</td>\n",
       "      <td>439</td>\n",
       "      <td>352927</td>\n",
       "    </tr>\n",
       "    <tr>\n",
       "      <th>Mon</th>\n",
       "      <td>625</td>\n",
       "      <td>2037.936813</td>\n",
       "      <td>4.322117</td>\n",
       "      <td>118</td>\n",
       "      <td>81317</td>\n",
       "    </tr>\n",
       "    <tr>\n",
       "      <th>Sat</th>\n",
       "      <td>327</td>\n",
       "      <td>2183.001973</td>\n",
       "      <td>4.605469</td>\n",
       "      <td>144</td>\n",
       "      <td>74359</td>\n",
       "    </tr>\n",
       "    <tr>\n",
       "      <th>Sun</th>\n",
       "      <td>1</td>\n",
       "      <td>4525.369565</td>\n",
       "      <td>11.565217</td>\n",
       "      <td>33</td>\n",
       "      <td>15305</td>\n",
       "    </tr>\n",
       "    <tr>\n",
       "      <th>Thu</th>\n",
       "      <td>865</td>\n",
       "      <td>2337.517352</td>\n",
       "      <td>4.954764</td>\n",
       "      <td>265</td>\n",
       "      <td>149229</td>\n",
       "    </tr>\n",
       "    <tr>\n",
       "      <th>Tue</th>\n",
       "      <td>755</td>\n",
       "      <td>2597.205278</td>\n",
       "      <td>5.621137</td>\n",
       "      <td>429</td>\n",
       "      <td>363209</td>\n",
       "    </tr>\n",
       "    <tr>\n",
       "      <th>Wed</th>\n",
       "      <td>794</td>\n",
       "      <td>2086.788739</td>\n",
       "      <td>4.462548</td>\n",
       "      <td>151</td>\n",
       "      <td>87870</td>\n",
       "    </tr>\n",
       "  </tbody>\n",
       "</table>\n",
       "</div>"
      ],
      "text/plain": [
       "           ID_LOCATION  mean_amount  mean_trxcnt  max_trxcnt  max_amount\n",
       "FIRST_DAY                                                               \n",
       "Fri                831  2369.433521     4.996737         439      352927\n",
       "Mon                625  2037.936813     4.322117         118       81317\n",
       "Sat                327  2183.001973     4.605469         144       74359\n",
       "Sun                  1  4525.369565    11.565217          33       15305\n",
       "Thu                865  2337.517352     4.954764         265      149229\n",
       "Tue                755  2597.205278     5.621137         429      363209\n",
       "Wed                794  2086.788739     4.462548         151       87870"
      ]
     },
     "execution_count": 23,
     "metadata": {},
     "output_type": "execute_result"
    }
   ],
   "source": [
    "df_location['max_amount'] = df.groupby('FIRST_DAY')['AMOUNT'].max()\n",
    "df_location"
   ]
  },
  {
   "cell_type": "code",
   "execution_count": 24,
   "id": "1a1ed5f9-b139-42a7-b07f-84dff47b4459",
   "metadata": {
    "tags": []
   },
   "outputs": [
    {
     "data": {
      "text/html": [
       "<div>\n",
       "<style scoped>\n",
       "    .dataframe tbody tr th:only-of-type {\n",
       "        vertical-align: middle;\n",
       "    }\n",
       "\n",
       "    .dataframe tbody tr th {\n",
       "        vertical-align: top;\n",
       "    }\n",
       "\n",
       "    .dataframe thead th {\n",
       "        text-align: right;\n",
       "    }\n",
       "</style>\n",
       "<table border=\"1\" class=\"dataframe\">\n",
       "  <thead>\n",
       "    <tr style=\"text-align: right;\">\n",
       "      <th></th>\n",
       "      <th>ID_BRANCH</th>\n",
       "      <th>ID_LOCATION</th>\n",
       "      <th>DATE</th>\n",
       "      <th>DAYS</th>\n",
       "      <th>DayOfWeekName</th>\n",
       "      <th>COUNT</th>\n",
       "      <th>AMOUNT</th>\n",
       "      <th>GP</th>\n",
       "      <th>FIRST_DAY</th>\n",
       "    </tr>\n",
       "  </thead>\n",
       "  <tbody>\n",
       "    <tr>\n",
       "      <th>62908</th>\n",
       "      <td>A23207</td>\n",
       "      <td>CA4232</td>\n",
       "      <td>2022-10-15</td>\n",
       "      <td>25</td>\n",
       "      <td>Sat</td>\n",
       "      <td>429</td>\n",
       "      <td>363209</td>\n",
       "      <td>-40.98</td>\n",
       "      <td>Tue</td>\n",
       "    </tr>\n",
       "    <tr>\n",
       "      <th>94207</th>\n",
       "      <td>A23916</td>\n",
       "      <td>FL2272</td>\n",
       "      <td>2023-03-26</td>\n",
       "      <td>44</td>\n",
       "      <td>Sun</td>\n",
       "      <td>439</td>\n",
       "      <td>352927</td>\n",
       "      <td>163.45</td>\n",
       "      <td>Fri</td>\n",
       "    </tr>\n",
       "    <tr>\n",
       "      <th>62894</th>\n",
       "      <td>A23207</td>\n",
       "      <td>CA4232</td>\n",
       "      <td>2022-10-01</td>\n",
       "      <td>11</td>\n",
       "      <td>Sat</td>\n",
       "      <td>250</td>\n",
       "      <td>263006</td>\n",
       "      <td>2.20</td>\n",
       "      <td>Tue</td>\n",
       "    </tr>\n",
       "    <tr>\n",
       "      <th>62922</th>\n",
       "      <td>A23207</td>\n",
       "      <td>CA4232</td>\n",
       "      <td>2022-10-29</td>\n",
       "      <td>39</td>\n",
       "      <td>Sat</td>\n",
       "      <td>366</td>\n",
       "      <td>241471</td>\n",
       "      <td>-658.60</td>\n",
       "      <td>Tue</td>\n",
       "    </tr>\n",
       "    <tr>\n",
       "      <th>94206</th>\n",
       "      <td>A23916</td>\n",
       "      <td>FL2272</td>\n",
       "      <td>2023-03-25</td>\n",
       "      <td>43</td>\n",
       "      <td>Sat</td>\n",
       "      <td>305</td>\n",
       "      <td>214366</td>\n",
       "      <td>357.69</td>\n",
       "      <td>Fri</td>\n",
       "    </tr>\n",
       "    <tr>\n",
       "      <th>52434</th>\n",
       "      <td>A22961</td>\n",
       "      <td>MS0182</td>\n",
       "      <td>2022-09-10</td>\n",
       "      <td>39</td>\n",
       "      <td>Sat</td>\n",
       "      <td>390</td>\n",
       "      <td>191005</td>\n",
       "      <td>1099.47</td>\n",
       "      <td>Tue</td>\n",
       "    </tr>\n",
       "    <tr>\n",
       "      <th>94200</th>\n",
       "      <td>A23916</td>\n",
       "      <td>FL2272</td>\n",
       "      <td>2023-03-19</td>\n",
       "      <td>37</td>\n",
       "      <td>Sun</td>\n",
       "      <td>241</td>\n",
       "      <td>188221</td>\n",
       "      <td>934.12</td>\n",
       "      <td>Fri</td>\n",
       "    </tr>\n",
       "    <tr>\n",
       "      <th>94199</th>\n",
       "      <td>A23916</td>\n",
       "      <td>FL2272</td>\n",
       "      <td>2023-03-18</td>\n",
       "      <td>36</td>\n",
       "      <td>Sat</td>\n",
       "      <td>266</td>\n",
       "      <td>171375</td>\n",
       "      <td>1114.71</td>\n",
       "      <td>Fri</td>\n",
       "    </tr>\n",
       "    <tr>\n",
       "      <th>180788</th>\n",
       "      <td>A25863</td>\n",
       "      <td>NY1559</td>\n",
       "      <td>2024-01-08</td>\n",
       "      <td>25</td>\n",
       "      <td>Mon</td>\n",
       "      <td>115</td>\n",
       "      <td>149229</td>\n",
       "      <td>331.50</td>\n",
       "      <td>Thu</td>\n",
       "    </tr>\n",
       "    <tr>\n",
       "      <th>3718</th>\n",
       "      <td>A21763</td>\n",
       "      <td>AZ0157</td>\n",
       "      <td>2021-12-10</td>\n",
       "      <td>41</td>\n",
       "      <td>Fri</td>\n",
       "      <td>242</td>\n",
       "      <td>140899</td>\n",
       "      <td>398.60</td>\n",
       "      <td>NaN</td>\n",
       "    </tr>\n",
       "  </tbody>\n",
       "</table>\n",
       "</div>"
      ],
      "text/plain": [
       "       ID_BRANCH ID_LOCATION        DATE  DAYS DayOfWeekName  COUNT  AMOUNT  \\\n",
       "62908     A23207      CA4232  2022-10-15    25           Sat    429  363209   \n",
       "94207     A23916      FL2272  2023-03-26    44           Sun    439  352927   \n",
       "62894     A23207      CA4232  2022-10-01    11           Sat    250  263006   \n",
       "62922     A23207      CA4232  2022-10-29    39           Sat    366  241471   \n",
       "94206     A23916      FL2272  2023-03-25    43           Sat    305  214366   \n",
       "52434     A22961      MS0182  2022-09-10    39           Sat    390  191005   \n",
       "94200     A23916      FL2272  2023-03-19    37           Sun    241  188221   \n",
       "94199     A23916      FL2272  2023-03-18    36           Sat    266  171375   \n",
       "180788    A25863      NY1559  2024-01-08    25           Mon    115  149229   \n",
       "3718      A21763      AZ0157  2021-12-10    41           Fri    242  140899   \n",
       "\n",
       "             GP FIRST_DAY  \n",
       "62908    -40.98       Tue  \n",
       "94207    163.45       Fri  \n",
       "62894      2.20       Tue  \n",
       "62922   -658.60       Tue  \n",
       "94206    357.69       Fri  \n",
       "52434   1099.47       Tue  \n",
       "94200    934.12       Fri  \n",
       "94199   1114.71       Fri  \n",
       "180788   331.50       Thu  \n",
       "3718     398.60       NaN  "
      ]
     },
     "execution_count": 24,
     "metadata": {},
     "output_type": "execute_result"
    }
   ],
   "source": [
    "df.nlargest(10, 'AMOUNT')"
   ]
  },
  {
   "cell_type": "markdown",
   "id": "b318b983-2c80-4c8f-ac25-e5d6c420ade1",
   "metadata": {},
   "source": [
    "# correlaciones?"
   ]
  },
  {
   "cell_type": "code",
   "execution_count": null,
   "id": "03fc584a-714f-4ffc-aaee-97fd2c3d3ea5",
   "metadata": {},
   "outputs": [],
   "source": [
    "# Traer data de trx y montos"
   ]
  },
  {
   "cell_type": "code",
   "execution_count": null,
   "id": "cf4bb2e6-c01e-4572-9eb0-006b8d22a556",
   "metadata": {},
   "outputs": [],
   "source": [
    "#CREATE TABLE analytics.daily_check AS\n",
    "SELECT\n",
    "   CAST(RTRIM(p.id_main_branch_sent) AS VARCHAR(60)) AS AGENCY,\n",
    "   CAST(DATE_FORMAT(a.DATE_RECEIVER, '%Y-%m-%d') AS DATE) AS DATE,\n",
    "   SUM(CASE WHEN (A.ID_FLAG_RECEIVER = 'A' OR A.ID_FLAG_RECEIVER = 'C') THEN 0 ELSE 1 END) AS TX,\n",
    "   SUM(CASE WHEN (A.ID_FLAG_RECEIVER = 'A' OR A.ID_FLAG_RECEIVER = 'C') THEN 0 ELSE A.NET_AMOUNT_RECEIVER END) as AMOUNT\n",
    " FROM\n",
    "   AwsDataCatalog.viamericas.RECEIVER a\n",
    "   INNER JOIN AwsDataCatalog.viamericas.GROUP_BRANCH p ON p.ID_MAIN_BRANCH = CASE WHEN a.ID_MAIN_BRANCH_EXPIRED IS NULL THEN RTRIM(a.ID_MAIN_BRANCH_SENT) ELSE RTRIM(a.ID_MAIN_BRANCH_EXPIRED) END\n",
    "   LEFT JOIN AwsDataCatalog.viamericas.BRANCH b ON a.ID_BRANCH = b.ID_BRANCH\n",
    " WHERE\n",
    "   NOT (A.ID_MAIN_BRANCH_SENT LIKE 'M%')\n",
    "   AND NOT (A.ID_BRANCH LIKE 'T%')\n",
    "   AND SUBSTRING(b.id_branch, 1, 1) IN (SELECT SUBSTRING(PREFIX, 1, 1) FROM AwsDataCatalog.viamericas.BRANCH_PREFIX P WHERE TRIM(B.ID_COUNTRY) = TRIM(P.ID_COUNTRY))\n",
    "   AND A.DATE_RECEIVER >= TIMESTAMP '2023-11-30 00:00:00.000'\n",
    "   AND A.DATE_RECEIVER < TIMESTAMP '2024-02-04 00:00:00.000'\n",
    "   AND b.ID_LOCATION IS NOT NULL\n",
    "   AND b.ID_LOCATION NOT IN ('MD0010', 'MD0952', 'AK0003', 'CA3897', 'NY1130', 'MD0696', 'FL1933', 'AK0004', 'CA4046', 'NY1221', 'MD0623', 'MD1003', 'MD1018', 'AK0008', 'CA4291', 'NY1346', 'CA4350', 'NY1381','OK0236','FL2287','CA4391','AK0009', 'NY1397','CA4392','AK0010','FL2288','NY1399','AK0012','CA4396','NY1402','FL2289','AK0013', 'CA4418','NY1410','FL2301','AK0014', 'CA4428', 'NY1413')\n",
    "   AND a.NET_AMOUNT_RECEIVER <> 0\n",
    " GROUP BY\n",
    "   RTRIM(p.id_main_branch_sent),\n",
    "   CAST(DATE_FORMAT(a.DATE_RECEIVER, '%Y-%m-%d') AS DATE)"
   ]
  },
  {
   "cell_type": "code",
   "execution_count": 13,
   "id": "d43797e6-ab0d-4ca5-a258-9a1a0c806250",
   "metadata": {},
   "outputs": [
    {
     "name": "stderr",
     "output_type": "stream",
     "text": [
      "/tmp/ipykernel_35/2431367731.py:8: UserWarning: pandas only supports SQLAlchemy connectable (engine/connection) or database string URI or sqlite3 DBAPI2 connection. Other DBAPI2 objects are not tested. Please consider using SQLAlchemy.\n",
      "  df = pd.read_sql('''SELECT\n"
     ]
    }
   ],
   "source": [
    "# DB Setting\n",
    "bucket_name = 's3://viamericas-datalake-dev-us-east-1-283731589572-athena/'\n",
    "\n",
    "#Connection\n",
    "conn = connect(s3_staging_dir=f'{bucket_name}queryresults/',\n",
    "               region_name='us-east-1')\n",
    "\n",
    "df = pd.read_sql('''SELECT\n",
    "   CAST(RTRIM(b.ID_LOCATION) AS VARCHAR(60)) AS AGENCY,\n",
    "   CAST(DATE_FORMAT(a.DATE_RECEIVER, '%Y-%m-%d') AS DATE) AS DATE,\n",
    "   SUM(CASE WHEN (A.ID_FLAG_RECEIVER = 'A' OR A.ID_FLAG_RECEIVER = 'C') THEN 0 ELSE 1 END) AS TX,\n",
    "   SUM(CASE WHEN (A.ID_FLAG_RECEIVER = 'A' OR A.ID_FLAG_RECEIVER = 'C') THEN 0 ELSE A.NET_AMOUNT_RECEIVER END) as AMOUNT,\n",
    "   c.BALANCE as BALANCE\n",
    " FROM\n",
    "   AwsDataCatalog.viamericas.RECEIVER a\n",
    "   INNER JOIN AwsDataCatalog.viamericas.GROUP_BRANCH p ON p.ID_MAIN_BRANCH = CASE WHEN a.ID_MAIN_BRANCH_EXPIRED IS NULL THEN RTRIM(a.ID_MAIN_BRANCH_SENT) ELSE RTRIM(a.ID_MAIN_BRANCH_EXPIRED) END\n",
    "   LEFT JOIN AwsDataCatalog.viamericas.BRANCH b ON a.ID_BRANCH = b.ID_BRANCH\n",
    "   LEFT JOIN AwsDataCatalog.viamericas.history_balance c ON c.id_main_branch = CASE WHEN a.ID_MAIN_BRANCH_EXPIRED IS NULL THEN RTRIM(a.ID_MAIN_BRANCH_SENT) ELSE RTRIM(a.ID_MAIN_BRANCH_EXPIRED) END and c.day = a.day\n",
    " WHERE\n",
    "   NOT (A.ID_MAIN_BRANCH_SENT LIKE 'M%')\n",
    "   AND NOT (A.ID_BRANCH LIKE 'T%')\n",
    "   AND SUBSTRING(b.id_branch, 1, 1) IN (SELECT SUBSTRING(PREFIX, 1, 1) FROM AwsDataCatalog.viamericas.BRANCH_PREFIX P WHERE TRIM(B.ID_COUNTRY) = TRIM(P.ID_COUNTRY))\n",
    "   AND A.DATE_RECEIVER >= TIMESTAMP '2023-12-31 00:00:00.000'\n",
    "   AND A.DATE_RECEIVER < TIMESTAMP '2024-02-04 00:00:00.000'\n",
    "   AND b.ID_LOCATION IS NOT NULL\n",
    "   AND b.ID_LOCATION NOT IN ('MD0010', 'MD0952', 'AK0003', 'CA3897', 'NY1130', 'MD0696', 'FL1933', 'AK0004', 'CA4046', 'NY1221', 'MD0623', 'MD1003', 'MD1018', 'AK0008', 'CA4291', 'NY1346', 'CA4350', 'NY1381','OK0236','FL2287','CA4391','AK0009', 'NY1397','CA4392','AK0010','FL2288','NY1399','AK0012','CA4396','NY1402','FL2289','AK0013', 'CA4418','NY1410','FL2301','AK0014', 'CA4428', 'NY1413')\n",
    "   AND a.NET_AMOUNT_RECEIVER <> 0\n",
    " GROUP BY\n",
    "   RTRIM(b.ID_LOCATION),\n",
    "   c.BALANCE, \n",
    "   CAST(DATE_FORMAT(a.DATE_RECEIVER, '%Y-%m-%d') AS DATE); ''', conn)"
   ]
  },
  {
   "cell_type": "code",
   "execution_count": 14,
   "id": "020da76a-5430-4304-93f9-b40ddf92e3ed",
   "metadata": {},
   "outputs": [
    {
     "data": {
      "text/html": [
       "<div>\n",
       "<style scoped>\n",
       "    .dataframe tbody tr th:only-of-type {\n",
       "        vertical-align: middle;\n",
       "    }\n",
       "\n",
       "    .dataframe tbody tr th {\n",
       "        vertical-align: top;\n",
       "    }\n",
       "\n",
       "    .dataframe thead th {\n",
       "        text-align: right;\n",
       "    }\n",
       "</style>\n",
       "<table border=\"1\" class=\"dataframe\">\n",
       "  <thead>\n",
       "    <tr style=\"text-align: right;\">\n",
       "      <th></th>\n",
       "      <th>AGENCY</th>\n",
       "      <th>DATE</th>\n",
       "      <th>TX</th>\n",
       "      <th>AMOUNT</th>\n",
       "      <th>BALANCE</th>\n",
       "    </tr>\n",
       "  </thead>\n",
       "  <tbody>\n",
       "    <tr>\n",
       "      <th>0</th>\n",
       "      <td>NC1299</td>\n",
       "      <td>2024-01-27</td>\n",
       "      <td>109</td>\n",
       "      <td>42296.97</td>\n",
       "      <td>None</td>\n",
       "    </tr>\n",
       "    <tr>\n",
       "      <th>1</th>\n",
       "      <td>GA1154</td>\n",
       "      <td>2024-01-19</td>\n",
       "      <td>44</td>\n",
       "      <td>29353.00</td>\n",
       "      <td>None</td>\n",
       "    </tr>\n",
       "    <tr>\n",
       "      <th>2</th>\n",
       "      <td>NC1477</td>\n",
       "      <td>2024-01-06</td>\n",
       "      <td>9</td>\n",
       "      <td>4363.00</td>\n",
       "      <td>None</td>\n",
       "    </tr>\n",
       "    <tr>\n",
       "      <th>3</th>\n",
       "      <td>AZ0204</td>\n",
       "      <td>2024-01-30</td>\n",
       "      <td>9</td>\n",
       "      <td>1730.00</td>\n",
       "      <td>None</td>\n",
       "    </tr>\n",
       "    <tr>\n",
       "      <th>4</th>\n",
       "      <td>NJ0926</td>\n",
       "      <td>2024-01-25</td>\n",
       "      <td>3</td>\n",
       "      <td>710.00</td>\n",
       "      <td>None</td>\n",
       "    </tr>\n",
       "    <tr>\n",
       "      <th>...</th>\n",
       "      <td>...</td>\n",
       "      <td>...</td>\n",
       "      <td>...</td>\n",
       "      <td>...</td>\n",
       "      <td>...</td>\n",
       "    </tr>\n",
       "    <tr>\n",
       "      <th>153535</th>\n",
       "      <td>NC1502</td>\n",
       "      <td>2024-01-13</td>\n",
       "      <td>1</td>\n",
       "      <td>200.00</td>\n",
       "      <td>None</td>\n",
       "    </tr>\n",
       "    <tr>\n",
       "      <th>153536</th>\n",
       "      <td>FL2244</td>\n",
       "      <td>2024-01-18</td>\n",
       "      <td>2</td>\n",
       "      <td>1900.00</td>\n",
       "      <td>None</td>\n",
       "    </tr>\n",
       "    <tr>\n",
       "      <th>153537</th>\n",
       "      <td>TX1471</td>\n",
       "      <td>2024-01-12</td>\n",
       "      <td>20</td>\n",
       "      <td>5111.00</td>\n",
       "      <td>None</td>\n",
       "    </tr>\n",
       "    <tr>\n",
       "      <th>153538</th>\n",
       "      <td>CA4179</td>\n",
       "      <td>2024-01-15</td>\n",
       "      <td>1</td>\n",
       "      <td>120.00</td>\n",
       "      <td>None</td>\n",
       "    </tr>\n",
       "    <tr>\n",
       "      <th>153539</th>\n",
       "      <td>PA0242</td>\n",
       "      <td>2024-01-04</td>\n",
       "      <td>1</td>\n",
       "      <td>80.00</td>\n",
       "      <td>None</td>\n",
       "    </tr>\n",
       "  </tbody>\n",
       "</table>\n",
       "<p>153540 rows × 5 columns</p>\n",
       "</div>"
      ],
      "text/plain": [
       "        AGENCY        DATE   TX    AMOUNT BALANCE\n",
       "0       NC1299  2024-01-27  109  42296.97    None\n",
       "1       GA1154  2024-01-19   44  29353.00    None\n",
       "2       NC1477  2024-01-06    9   4363.00    None\n",
       "3       AZ0204  2024-01-30    9   1730.00    None\n",
       "4       NJ0926  2024-01-25    3    710.00    None\n",
       "...        ...         ...  ...       ...     ...\n",
       "153535  NC1502  2024-01-13    1    200.00    None\n",
       "153536  FL2244  2024-01-18    2   1900.00    None\n",
       "153537  TX1471  2024-01-12   20   5111.00    None\n",
       "153538  CA4179  2024-01-15    1    120.00    None\n",
       "153539  PA0242  2024-01-04    1     80.00    None\n",
       "\n",
       "[153540 rows x 5 columns]"
      ]
     },
     "execution_count": 14,
     "metadata": {},
     "output_type": "execute_result"
    }
   ],
   "source": [
    "df"
   ]
  },
  {
   "cell_type": "raw",
   "id": "46f5afcb-d537-4f97-b0b5-05a438fd45af",
   "metadata": {},
   "source": [
    "con doble join and c.date_balance = a.DATE_RECEIVER, cantidad de registros baja de 16405 a 9131 y pierdo todos los balance!\n",
    "por otro lado con or c.date_balance = a.DATE_RECEIVER tarda banda en correr terrible performance!\n",
    "and CAST(DATE_FORMAT(c.day, '%Y-%m-%d') AS DATE) = a.DATE_RECEIVER tampoco funciona problemas de formato no deja comparar\n",
    "c.id_main_branch = CASE WHEN a.ID_MAIN_BRANCH_EXPIRED IS NULL THEN RTRIM(a.ID_MAIN_BRANCH_SENT) ELSE RTRIM(a.ID_MAIN_BRANCH_EXPIRED) END and c.day = a.day corre pero no trae balance!\n",
    "En general receiver no conecta mucho con history balance.... sin fechas, solo main branches"
   ]
  },
  {
   "cell_type": "code",
   "execution_count": 15,
   "id": "e66da063-d1ad-45f9-a28e-370df5a96bb5",
   "metadata": {},
   "outputs": [
    {
     "data": {
      "text/html": [
       "<div>\n",
       "<style scoped>\n",
       "    .dataframe tbody tr th:only-of-type {\n",
       "        vertical-align: middle;\n",
       "    }\n",
       "\n",
       "    .dataframe tbody tr th {\n",
       "        vertical-align: top;\n",
       "    }\n",
       "\n",
       "    .dataframe thead th {\n",
       "        text-align: right;\n",
       "    }\n",
       "</style>\n",
       "<table border=\"1\" class=\"dataframe\">\n",
       "  <thead>\n",
       "    <tr style=\"text-align: right;\">\n",
       "      <th></th>\n",
       "      <th>TX</th>\n",
       "      <th>AMOUNT</th>\n",
       "    </tr>\n",
       "  </thead>\n",
       "  <tbody>\n",
       "    <tr>\n",
       "      <th>count</th>\n",
       "      <td>153540.000000</td>\n",
       "      <td>153540.000000</td>\n",
       "    </tr>\n",
       "    <tr>\n",
       "      <th>mean</th>\n",
       "      <td>15.183685</td>\n",
       "      <td>6863.486194</td>\n",
       "    </tr>\n",
       "    <tr>\n",
       "      <th>std</th>\n",
       "      <td>20.965634</td>\n",
       "      <td>10656.513004</td>\n",
       "    </tr>\n",
       "    <tr>\n",
       "      <th>min</th>\n",
       "      <td>0.000000</td>\n",
       "      <td>0.000000</td>\n",
       "    </tr>\n",
       "    <tr>\n",
       "      <th>25%</th>\n",
       "      <td>3.000000</td>\n",
       "      <td>1090.000000</td>\n",
       "    </tr>\n",
       "    <tr>\n",
       "      <th>50%</th>\n",
       "      <td>8.000000</td>\n",
       "      <td>3338.370000</td>\n",
       "    </tr>\n",
       "    <tr>\n",
       "      <th>75%</th>\n",
       "      <td>19.000000</td>\n",
       "      <td>8395.000000</td>\n",
       "    </tr>\n",
       "    <tr>\n",
       "      <th>max</th>\n",
       "      <td>522.000000</td>\n",
       "      <td>380956.170000</td>\n",
       "    </tr>\n",
       "  </tbody>\n",
       "</table>\n",
       "</div>"
      ],
      "text/plain": [
       "                  TX         AMOUNT\n",
       "count  153540.000000  153540.000000\n",
       "mean       15.183685    6863.486194\n",
       "std        20.965634   10656.513004\n",
       "min         0.000000       0.000000\n",
       "25%         3.000000    1090.000000\n",
       "50%         8.000000    3338.370000\n",
       "75%        19.000000    8395.000000\n",
       "max       522.000000  380956.170000"
      ]
     },
     "execution_count": 15,
     "metadata": {},
     "output_type": "execute_result"
    }
   ],
   "source": [
    "df.describe()"
   ]
  },
  {
   "cell_type": "code",
   "execution_count": 16,
   "id": "98aa3b1a-e3ad-4d0e-9490-657cfb3b0b89",
   "metadata": {},
   "outputs": [
    {
     "name": "stdout",
     "output_type": "stream",
     "text": [
      "<class 'pandas.core.frame.DataFrame'>\n",
      "RangeIndex: 153540 entries, 0 to 153539\n",
      "Data columns (total 5 columns):\n",
      " #   Column   Non-Null Count   Dtype  \n",
      "---  ------   --------------   -----  \n",
      " 0   AGENCY   153540 non-null  object \n",
      " 1   DATE     153540 non-null  object \n",
      " 2   TX       153540 non-null  int64  \n",
      " 3   AMOUNT   153540 non-null  float64\n",
      " 4   BALANCE  0 non-null       object \n",
      "dtypes: float64(1), int64(1), object(3)\n",
      "memory usage: 5.9+ MB\n"
     ]
    }
   ],
   "source": [
    "df.info()"
   ]
  },
  {
   "cell_type": "code",
   "execution_count": 18,
   "id": "15c12101-ac33-47e9-9ed2-3c49c7de5294",
   "metadata": {},
   "outputs": [
    {
     "data": {
      "text/plain": [
       "0.5195563845631082"
      ]
     },
     "execution_count": 18,
     "metadata": {},
     "output_type": "execute_result"
    }
   ],
   "source": [
    "35932/69159 #casi 50% sin hsitory_balance sumando otro mes da el mismo % de missing, toamndo más historial desde enero 2023 sube a 51%"
   ]
  },
  {
   "cell_type": "raw",
   "id": "b9e93953-a2a0-4818-b094-d0c05ddcd15a",
   "metadata": {
    "tags": []
   },
   "source": [
    "df.to_csv('2023_trx_balance_history.csv', index = False)"
   ]
  },
  {
   "cell_type": "markdown",
   "id": "61457f92-ca9a-4103-a52e-cb7a32a7f96c",
   "metadata": {},
   "source": [
    "## Control charts"
   ]
  },
  {
   "cell_type": "code",
   "execution_count": null,
   "id": "518b78f7-88d5-43eb-b06d-0705a0ac9955",
   "metadata": {},
   "outputs": [],
   "source": [
    "import matplotlib.pyplot as plt\n",
    "from ControlCharts import ShewhartControlModel"
   ]
  },
  {
   "cell_type": "code",
   "execution_count": null,
   "id": "e739dfba-1149-4e4f-b032-924d60841d14",
   "metadata": {},
   "outputs": [],
   "source": [
    "# Group data by day and take the average of the Squared Error\n",
    "grouped_data= data[['Day', 'Squared Error']].groupby(by='Day').mean()\n",
    "grouped_data_std= data[['Day', 'Squared Error']].groupby(by='Day').std()\n",
    "# Train-Test Split\n",
    "x_train= grouped_data.iloc[:25, :].values.reshape((25,))\n",
    "x_test= grouped_data.iloc[25:, :].values.reshape((25,))"
   ]
  },
  {
   "cell_type": "code",
   "execution_count": null,
   "id": "92e3706b-8858-4cd3-8bb1-914e35636afd",
   "metadata": {},
   "outputs": [],
   "source": [
    "# Estimate standard deviation\n",
    "qcc= pd.read_csv('BiasControlConstants/quality_control_constants.csv')\n",
    "n= 20 # varia según el número de días que una agencia estuvo activa...\n",
    "c4= qcc['c4'].loc[n-2]\n",
    "sigma_train=np.average(grouped_data_std.values[:25])/(np.sqrt(n)*c4)"
   ]
  },
  {
   "cell_type": "code",
   "execution_count": null,
   "id": "edda3145-ea65-468a-bcb7-0ff76987079a",
   "metadata": {},
   "outputs": [],
   "source": [
    "# Build Shewhart Control Model\n",
    "spc_model= ShewhartControlModel(k=3)\n",
    "ucl, lcl= spc_model.fit(x_train, sigma= sigma_train)\n",
    "ooc= spc_model.predict(x_test)\n",
    "testing_plot=spc_model.plot(x=x_test, dpi= 100)\n",
    "# Plot all data\n",
    "complete_plot= spc_model.plot(x=grouped_data.values, dpi= 100)\n",
    "train_plot= spc_model.plot(x=x_train, dpi= 100)"
   ]
  },
  {
   "cell_type": "raw",
   "id": "a3d08498-e240-4a35-902e-1791cdc7c8d4",
   "metadata": {},
   "source": [
    "agrupa a nivel día y con los primeros entrena para predecir los posteriores, no hay unidades seguidas a lo largo del tiempo\n",
    "el equivalente para una sola agencia serían un grupo de días para entrenar y el resto para predecir, pero no tendría std para cada día\n",
    "tengo 1 solo valor x día x agencia, la opción sería agrupar de a semanas para tener varios valores con std x agencia, pero las predicciones serian semanales tmb\n",
    "solo monto tengo multiples X día por agencia, balance y cantidad de trx es 1 valor x día_agencia"
   ]
  },
  {
   "cell_type": "code",
   "execution_count": null,
   "id": "0abc8cde-3573-473d-add1-5054be2dff8a",
   "metadata": {},
   "outputs": [],
   "source": []
  },
  {
   "cell_type": "code",
   "execution_count": 37,
   "id": "39e56ccd-3b3b-4fb1-b44d-4cb63c8a6f23",
   "metadata": {},
   "outputs": [
    {
     "name": "stderr",
     "output_type": "stream",
     "text": [
      "/tmp/ipykernel_21/2057683596.py:8: UserWarning: pandas only supports SQLAlchemy connectable (engine/connection) or database string URI or sqlite3 DBAPI2 connection. Other DBAPI2 objects are not tested. Please consider using SQLAlchemy.\n",
      "  df1 = pd.read_sql('''SELECT id FROM AwsDataCatalog.viamericas.locations WHERE ID_GROUP_COMPANY LIKE 'T0137'; ''', conn)\n"
     ]
    }
   ],
   "source": [
    "# DB Setting\n",
    "bucket_name = 's3://viamericas-datalake-dev-us-east-1-283731589572-athena/'\n",
    "\n",
    "#Connection\n",
    "conn = connect(s3_staging_dir=f'{bucket_name}queryresults/',\n",
    "               region_name='us-east-1')\n",
    "\n",
    "df1 = pd.read_sql('''SELECT id FROM AwsDataCatalog.viamericas.locations WHERE ID_GROUP_COMPANY LIKE 'T0137'; ''', conn)"
   ]
  },
  {
   "cell_type": "code",
   "execution_count": 38,
   "id": "ea56d96b-5dc4-499f-b11c-2bd5b102d56b",
   "metadata": {},
   "outputs": [
    {
     "data": {
      "text/html": [
       "<div>\n",
       "<style scoped>\n",
       "    .dataframe tbody tr th:only-of-type {\n",
       "        vertical-align: middle;\n",
       "    }\n",
       "\n",
       "    .dataframe tbody tr th {\n",
       "        vertical-align: top;\n",
       "    }\n",
       "\n",
       "    .dataframe thead th {\n",
       "        text-align: right;\n",
       "    }\n",
       "</style>\n",
       "<table border=\"1\" class=\"dataframe\">\n",
       "  <thead>\n",
       "    <tr style=\"text-align: right;\">\n",
       "      <th></th>\n",
       "      <th>id</th>\n",
       "    </tr>\n",
       "  </thead>\n",
       "  <tbody>\n",
       "  </tbody>\n",
       "</table>\n",
       "</div>"
      ],
      "text/plain": [
       "Empty DataFrame\n",
       "Columns: [id]\n",
       "Index: []"
      ]
     },
     "execution_count": 38,
     "metadata": {},
     "output_type": "execute_result"
    }
   ],
   "source": [
    "df1"
   ]
  },
  {
   "cell_type": "code",
   "execution_count": null,
   "id": "87e34b8b-2585-4192-8922-f822ed9c22d2",
   "metadata": {},
   "outputs": [],
   "source": []
  },
  {
   "cell_type": "code",
   "execution_count": null,
   "id": "d10a112f-c3df-4659-b03d-71a4412d444b",
   "metadata": {},
   "outputs": [],
   "source": []
  },
  {
   "cell_type": "code",
   "execution_count": null,
   "id": "0b1642fd-f001-47ba-9337-ac1466c1a995",
   "metadata": {},
   "outputs": [],
   "source": []
  },
  {
   "cell_type": "code",
   "execution_count": null,
   "id": "1d755ab5-a494-40a8-bd54-61681912d5ce",
   "metadata": {},
   "outputs": [],
   "source": []
  },
  {
   "cell_type": "code",
   "execution_count": null,
   "id": "067eada0-1bc8-42c3-8d9d-45e5f6432e9e",
   "metadata": {},
   "outputs": [],
   "source": []
  },
  {
   "cell_type": "code",
   "execution_count": null,
   "id": "96229e9f-a2b0-422a-bf76-2fdd8d45f5c7",
   "metadata": {},
   "outputs": [],
   "source": []
  },
  {
   "cell_type": "code",
   "execution_count": 161,
   "id": "abb6506a-331c-4d9c-84a5-a450d2230d1c",
   "metadata": {
    "tags": []
   },
   "outputs": [],
   "source": [
    "# Convert the 'date' column to datetime format\n",
    "df['day'] = pd.to_datetime(df['day'])\n",
    "# Grouping by 'payer' and 'country' concatenated for this level of granularity\n",
    "df['payer_country'] = df['payer'] + '_' + df['country']\n",
    "# Margin (when tx !=0)\n",
    "df['margin'] = df.apply(lambda row: row['gp'] / row['tx'] if row['tx'] != 0 else 0, axis=1)\n",
    "df['margin'] = df['margin'].apply(lambda x: float(x)).round(4)"
   ]
  },
  {
   "cell_type": "code",
   "execution_count": 162,
   "id": "846735cb-40f1-4783-8004-3269c7679979",
   "metadata": {
    "tags": []
   },
   "outputs": [],
   "source": [
    "# DATA RANGE\n",
    "df = df[(df['date'] >= start_date) & (df['date'] <= end_date)]"
   ]
  }
 ],
 "metadata": {
  "availableInstances": [
   {
    "_defaultOrder": 0,
    "_isFastLaunch": true,
    "category": "General purpose",
    "gpuNum": 0,
    "hideHardwareSpecs": false,
    "memoryGiB": 4,
    "name": "ml.t3.medium",
    "vcpuNum": 2
   },
   {
    "_defaultOrder": 1,
    "_isFastLaunch": false,
    "category": "General purpose",
    "gpuNum": 0,
    "hideHardwareSpecs": false,
    "memoryGiB": 8,
    "name": "ml.t3.large",
    "vcpuNum": 2
   },
   {
    "_defaultOrder": 2,
    "_isFastLaunch": false,
    "category": "General purpose",
    "gpuNum": 0,
    "hideHardwareSpecs": false,
    "memoryGiB": 16,
    "name": "ml.t3.xlarge",
    "vcpuNum": 4
   },
   {
    "_defaultOrder": 3,
    "_isFastLaunch": false,
    "category": "General purpose",
    "gpuNum": 0,
    "hideHardwareSpecs": false,
    "memoryGiB": 32,
    "name": "ml.t3.2xlarge",
    "vcpuNum": 8
   },
   {
    "_defaultOrder": 4,
    "_isFastLaunch": true,
    "category": "General purpose",
    "gpuNum": 0,
    "hideHardwareSpecs": false,
    "memoryGiB": 8,
    "name": "ml.m5.large",
    "vcpuNum": 2
   },
   {
    "_defaultOrder": 5,
    "_isFastLaunch": false,
    "category": "General purpose",
    "gpuNum": 0,
    "hideHardwareSpecs": false,
    "memoryGiB": 16,
    "name": "ml.m5.xlarge",
    "vcpuNum": 4
   },
   {
    "_defaultOrder": 6,
    "_isFastLaunch": false,
    "category": "General purpose",
    "gpuNum": 0,
    "hideHardwareSpecs": false,
    "memoryGiB": 32,
    "name": "ml.m5.2xlarge",
    "vcpuNum": 8
   },
   {
    "_defaultOrder": 7,
    "_isFastLaunch": false,
    "category": "General purpose",
    "gpuNum": 0,
    "hideHardwareSpecs": false,
    "memoryGiB": 64,
    "name": "ml.m5.4xlarge",
    "vcpuNum": 16
   },
   {
    "_defaultOrder": 8,
    "_isFastLaunch": false,
    "category": "General purpose",
    "gpuNum": 0,
    "hideHardwareSpecs": false,
    "memoryGiB": 128,
    "name": "ml.m5.8xlarge",
    "vcpuNum": 32
   },
   {
    "_defaultOrder": 9,
    "_isFastLaunch": false,
    "category": "General purpose",
    "gpuNum": 0,
    "hideHardwareSpecs": false,
    "memoryGiB": 192,
    "name": "ml.m5.12xlarge",
    "vcpuNum": 48
   },
   {
    "_defaultOrder": 10,
    "_isFastLaunch": false,
    "category": "General purpose",
    "gpuNum": 0,
    "hideHardwareSpecs": false,
    "memoryGiB": 256,
    "name": "ml.m5.16xlarge",
    "vcpuNum": 64
   },
   {
    "_defaultOrder": 11,
    "_isFastLaunch": false,
    "category": "General purpose",
    "gpuNum": 0,
    "hideHardwareSpecs": false,
    "memoryGiB": 384,
    "name": "ml.m5.24xlarge",
    "vcpuNum": 96
   },
   {
    "_defaultOrder": 12,
    "_isFastLaunch": false,
    "category": "General purpose",
    "gpuNum": 0,
    "hideHardwareSpecs": false,
    "memoryGiB": 8,
    "name": "ml.m5d.large",
    "vcpuNum": 2
   },
   {
    "_defaultOrder": 13,
    "_isFastLaunch": false,
    "category": "General purpose",
    "gpuNum": 0,
    "hideHardwareSpecs": false,
    "memoryGiB": 16,
    "name": "ml.m5d.xlarge",
    "vcpuNum": 4
   },
   {
    "_defaultOrder": 14,
    "_isFastLaunch": false,
    "category": "General purpose",
    "gpuNum": 0,
    "hideHardwareSpecs": false,
    "memoryGiB": 32,
    "name": "ml.m5d.2xlarge",
    "vcpuNum": 8
   },
   {
    "_defaultOrder": 15,
    "_isFastLaunch": false,
    "category": "General purpose",
    "gpuNum": 0,
    "hideHardwareSpecs": false,
    "memoryGiB": 64,
    "name": "ml.m5d.4xlarge",
    "vcpuNum": 16
   },
   {
    "_defaultOrder": 16,
    "_isFastLaunch": false,
    "category": "General purpose",
    "gpuNum": 0,
    "hideHardwareSpecs": false,
    "memoryGiB": 128,
    "name": "ml.m5d.8xlarge",
    "vcpuNum": 32
   },
   {
    "_defaultOrder": 17,
    "_isFastLaunch": false,
    "category": "General purpose",
    "gpuNum": 0,
    "hideHardwareSpecs": false,
    "memoryGiB": 192,
    "name": "ml.m5d.12xlarge",
    "vcpuNum": 48
   },
   {
    "_defaultOrder": 18,
    "_isFastLaunch": false,
    "category": "General purpose",
    "gpuNum": 0,
    "hideHardwareSpecs": false,
    "memoryGiB": 256,
    "name": "ml.m5d.16xlarge",
    "vcpuNum": 64
   },
   {
    "_defaultOrder": 19,
    "_isFastLaunch": false,
    "category": "General purpose",
    "gpuNum": 0,
    "hideHardwareSpecs": false,
    "memoryGiB": 384,
    "name": "ml.m5d.24xlarge",
    "vcpuNum": 96
   },
   {
    "_defaultOrder": 20,
    "_isFastLaunch": false,
    "category": "General purpose",
    "gpuNum": 0,
    "hideHardwareSpecs": true,
    "memoryGiB": 0,
    "name": "ml.geospatial.interactive",
    "supportedImageNames": [
     "sagemaker-geospatial-v1-0"
    ],
    "vcpuNum": 0
   },
   {
    "_defaultOrder": 21,
    "_isFastLaunch": true,
    "category": "Compute optimized",
    "gpuNum": 0,
    "hideHardwareSpecs": false,
    "memoryGiB": 4,
    "name": "ml.c5.large",
    "vcpuNum": 2
   },
   {
    "_defaultOrder": 22,
    "_isFastLaunch": false,
    "category": "Compute optimized",
    "gpuNum": 0,
    "hideHardwareSpecs": false,
    "memoryGiB": 8,
    "name": "ml.c5.xlarge",
    "vcpuNum": 4
   },
   {
    "_defaultOrder": 23,
    "_isFastLaunch": false,
    "category": "Compute optimized",
    "gpuNum": 0,
    "hideHardwareSpecs": false,
    "memoryGiB": 16,
    "name": "ml.c5.2xlarge",
    "vcpuNum": 8
   },
   {
    "_defaultOrder": 24,
    "_isFastLaunch": false,
    "category": "Compute optimized",
    "gpuNum": 0,
    "hideHardwareSpecs": false,
    "memoryGiB": 32,
    "name": "ml.c5.4xlarge",
    "vcpuNum": 16
   },
   {
    "_defaultOrder": 25,
    "_isFastLaunch": false,
    "category": "Compute optimized",
    "gpuNum": 0,
    "hideHardwareSpecs": false,
    "memoryGiB": 72,
    "name": "ml.c5.9xlarge",
    "vcpuNum": 36
   },
   {
    "_defaultOrder": 26,
    "_isFastLaunch": false,
    "category": "Compute optimized",
    "gpuNum": 0,
    "hideHardwareSpecs": false,
    "memoryGiB": 96,
    "name": "ml.c5.12xlarge",
    "vcpuNum": 48
   },
   {
    "_defaultOrder": 27,
    "_isFastLaunch": false,
    "category": "Compute optimized",
    "gpuNum": 0,
    "hideHardwareSpecs": false,
    "memoryGiB": 144,
    "name": "ml.c5.18xlarge",
    "vcpuNum": 72
   },
   {
    "_defaultOrder": 28,
    "_isFastLaunch": false,
    "category": "Compute optimized",
    "gpuNum": 0,
    "hideHardwareSpecs": false,
    "memoryGiB": 192,
    "name": "ml.c5.24xlarge",
    "vcpuNum": 96
   },
   {
    "_defaultOrder": 29,
    "_isFastLaunch": true,
    "category": "Accelerated computing",
    "gpuNum": 1,
    "hideHardwareSpecs": false,
    "memoryGiB": 16,
    "name": "ml.g4dn.xlarge",
    "vcpuNum": 4
   },
   {
    "_defaultOrder": 30,
    "_isFastLaunch": false,
    "category": "Accelerated computing",
    "gpuNum": 1,
    "hideHardwareSpecs": false,
    "memoryGiB": 32,
    "name": "ml.g4dn.2xlarge",
    "vcpuNum": 8
   },
   {
    "_defaultOrder": 31,
    "_isFastLaunch": false,
    "category": "Accelerated computing",
    "gpuNum": 1,
    "hideHardwareSpecs": false,
    "memoryGiB": 64,
    "name": "ml.g4dn.4xlarge",
    "vcpuNum": 16
   },
   {
    "_defaultOrder": 32,
    "_isFastLaunch": false,
    "category": "Accelerated computing",
    "gpuNum": 1,
    "hideHardwareSpecs": false,
    "memoryGiB": 128,
    "name": "ml.g4dn.8xlarge",
    "vcpuNum": 32
   },
   {
    "_defaultOrder": 33,
    "_isFastLaunch": false,
    "category": "Accelerated computing",
    "gpuNum": 4,
    "hideHardwareSpecs": false,
    "memoryGiB": 192,
    "name": "ml.g4dn.12xlarge",
    "vcpuNum": 48
   },
   {
    "_defaultOrder": 34,
    "_isFastLaunch": false,
    "category": "Accelerated computing",
    "gpuNum": 1,
    "hideHardwareSpecs": false,
    "memoryGiB": 256,
    "name": "ml.g4dn.16xlarge",
    "vcpuNum": 64
   },
   {
    "_defaultOrder": 35,
    "_isFastLaunch": false,
    "category": "Accelerated computing",
    "gpuNum": 1,
    "hideHardwareSpecs": false,
    "memoryGiB": 61,
    "name": "ml.p3.2xlarge",
    "vcpuNum": 8
   },
   {
    "_defaultOrder": 36,
    "_isFastLaunch": false,
    "category": "Accelerated computing",
    "gpuNum": 4,
    "hideHardwareSpecs": false,
    "memoryGiB": 244,
    "name": "ml.p3.8xlarge",
    "vcpuNum": 32
   },
   {
    "_defaultOrder": 37,
    "_isFastLaunch": false,
    "category": "Accelerated computing",
    "gpuNum": 8,
    "hideHardwareSpecs": false,
    "memoryGiB": 488,
    "name": "ml.p3.16xlarge",
    "vcpuNum": 64
   },
   {
    "_defaultOrder": 38,
    "_isFastLaunch": false,
    "category": "Accelerated computing",
    "gpuNum": 8,
    "hideHardwareSpecs": false,
    "memoryGiB": 768,
    "name": "ml.p3dn.24xlarge",
    "vcpuNum": 96
   },
   {
    "_defaultOrder": 39,
    "_isFastLaunch": false,
    "category": "Memory Optimized",
    "gpuNum": 0,
    "hideHardwareSpecs": false,
    "memoryGiB": 16,
    "name": "ml.r5.large",
    "vcpuNum": 2
   },
   {
    "_defaultOrder": 40,
    "_isFastLaunch": false,
    "category": "Memory Optimized",
    "gpuNum": 0,
    "hideHardwareSpecs": false,
    "memoryGiB": 32,
    "name": "ml.r5.xlarge",
    "vcpuNum": 4
   },
   {
    "_defaultOrder": 41,
    "_isFastLaunch": false,
    "category": "Memory Optimized",
    "gpuNum": 0,
    "hideHardwareSpecs": false,
    "memoryGiB": 64,
    "name": "ml.r5.2xlarge",
    "vcpuNum": 8
   },
   {
    "_defaultOrder": 42,
    "_isFastLaunch": false,
    "category": "Memory Optimized",
    "gpuNum": 0,
    "hideHardwareSpecs": false,
    "memoryGiB": 128,
    "name": "ml.r5.4xlarge",
    "vcpuNum": 16
   },
   {
    "_defaultOrder": 43,
    "_isFastLaunch": false,
    "category": "Memory Optimized",
    "gpuNum": 0,
    "hideHardwareSpecs": false,
    "memoryGiB": 256,
    "name": "ml.r5.8xlarge",
    "vcpuNum": 32
   },
   {
    "_defaultOrder": 44,
    "_isFastLaunch": false,
    "category": "Memory Optimized",
    "gpuNum": 0,
    "hideHardwareSpecs": false,
    "memoryGiB": 384,
    "name": "ml.r5.12xlarge",
    "vcpuNum": 48
   },
   {
    "_defaultOrder": 45,
    "_isFastLaunch": false,
    "category": "Memory Optimized",
    "gpuNum": 0,
    "hideHardwareSpecs": false,
    "memoryGiB": 512,
    "name": "ml.r5.16xlarge",
    "vcpuNum": 64
   },
   {
    "_defaultOrder": 46,
    "_isFastLaunch": false,
    "category": "Memory Optimized",
    "gpuNum": 0,
    "hideHardwareSpecs": false,
    "memoryGiB": 768,
    "name": "ml.r5.24xlarge",
    "vcpuNum": 96
   },
   {
    "_defaultOrder": 47,
    "_isFastLaunch": false,
    "category": "Accelerated computing",
    "gpuNum": 1,
    "hideHardwareSpecs": false,
    "memoryGiB": 16,
    "name": "ml.g5.xlarge",
    "vcpuNum": 4
   },
   {
    "_defaultOrder": 48,
    "_isFastLaunch": false,
    "category": "Accelerated computing",
    "gpuNum": 1,
    "hideHardwareSpecs": false,
    "memoryGiB": 32,
    "name": "ml.g5.2xlarge",
    "vcpuNum": 8
   },
   {
    "_defaultOrder": 49,
    "_isFastLaunch": false,
    "category": "Accelerated computing",
    "gpuNum": 1,
    "hideHardwareSpecs": false,
    "memoryGiB": 64,
    "name": "ml.g5.4xlarge",
    "vcpuNum": 16
   },
   {
    "_defaultOrder": 50,
    "_isFastLaunch": false,
    "category": "Accelerated computing",
    "gpuNum": 1,
    "hideHardwareSpecs": false,
    "memoryGiB": 128,
    "name": "ml.g5.8xlarge",
    "vcpuNum": 32
   },
   {
    "_defaultOrder": 51,
    "_isFastLaunch": false,
    "category": "Accelerated computing",
    "gpuNum": 1,
    "hideHardwareSpecs": false,
    "memoryGiB": 256,
    "name": "ml.g5.16xlarge",
    "vcpuNum": 64
   },
   {
    "_defaultOrder": 52,
    "_isFastLaunch": false,
    "category": "Accelerated computing",
    "gpuNum": 4,
    "hideHardwareSpecs": false,
    "memoryGiB": 192,
    "name": "ml.g5.12xlarge",
    "vcpuNum": 48
   },
   {
    "_defaultOrder": 53,
    "_isFastLaunch": false,
    "category": "Accelerated computing",
    "gpuNum": 4,
    "hideHardwareSpecs": false,
    "memoryGiB": 384,
    "name": "ml.g5.24xlarge",
    "vcpuNum": 96
   },
   {
    "_defaultOrder": 54,
    "_isFastLaunch": false,
    "category": "Accelerated computing",
    "gpuNum": 8,
    "hideHardwareSpecs": false,
    "memoryGiB": 768,
    "name": "ml.g5.48xlarge",
    "vcpuNum": 192
   },
   {
    "_defaultOrder": 55,
    "_isFastLaunch": false,
    "category": "Accelerated computing",
    "gpuNum": 8,
    "hideHardwareSpecs": false,
    "memoryGiB": 1152,
    "name": "ml.p4d.24xlarge",
    "vcpuNum": 96
   },
   {
    "_defaultOrder": 56,
    "_isFastLaunch": false,
    "category": "Accelerated computing",
    "gpuNum": 8,
    "hideHardwareSpecs": false,
    "memoryGiB": 1152,
    "name": "ml.p4de.24xlarge",
    "vcpuNum": 96
   },
   {
    "_defaultOrder": 57,
    "_isFastLaunch": false,
    "category": "Accelerated computing",
    "gpuNum": 0,
    "hideHardwareSpecs": false,
    "memoryGiB": 32,
    "name": "ml.trn1.2xlarge",
    "vcpuNum": 8
   },
   {
    "_defaultOrder": 58,
    "_isFastLaunch": false,
    "category": "Accelerated computing",
    "gpuNum": 0,
    "hideHardwareSpecs": false,
    "memoryGiB": 512,
    "name": "ml.trn1.32xlarge",
    "vcpuNum": 128
   },
   {
    "_defaultOrder": 59,
    "_isFastLaunch": false,
    "category": "Accelerated computing",
    "gpuNum": 0,
    "hideHardwareSpecs": false,
    "memoryGiB": 512,
    "name": "ml.trn1n.32xlarge",
    "vcpuNum": 128
   }
  ],
  "instance_type": "ml.m5.large",
  "kernelspec": {
   "display_name": "Python 3 (Data Science 3.0)",
   "language": "python",
   "name": "python3__SAGEMAKER_INTERNAL__arn:aws:sagemaker:us-east-1:081325390199:image/sagemaker-data-science-310-v1"
  },
  "language_info": {
   "codemirror_mode": {
    "name": "ipython",
    "version": 3
   },
   "file_extension": ".py",
   "mimetype": "text/x-python",
   "name": "python",
   "nbconvert_exporter": "python",
   "pygments_lexer": "ipython3",
   "version": "3.10.6"
  }
 },
 "nbformat": 4,
 "nbformat_minor": 5
}
