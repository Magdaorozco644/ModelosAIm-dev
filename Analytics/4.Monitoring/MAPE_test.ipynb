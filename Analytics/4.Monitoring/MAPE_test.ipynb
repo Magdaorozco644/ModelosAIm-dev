{
 "cells": [
  {
   "cell_type": "code",
   "execution_count": 4,
   "id": "1f27367f-18bb-469a-a693-8da653786280",
   "metadata": {
    "tags": []
   },
   "outputs": [],
   "source": [
    "#!pip install awswrangler"
   ]
  },
  {
   "cell_type": "code",
   "execution_count": 5,
   "id": "9bc19adb-45c2-4b5b-99b3-20125c8eda84",
   "metadata": {
    "tags": []
   },
   "outputs": [],
   "source": [
    "import awswrangler as wr\n",
    "import pandas as pd"
   ]
  },
  {
   "cell_type": "code",
   "execution_count": 6,
   "id": "bbb2e174-1749-411c-bd81-7ba4087a1771",
   "metadata": {
    "tags": []
   },
   "outputs": [],
   "source": [
    "# DB Setting\n",
    "bucket_name = 's3://viamericas-datalake-dev-us-east-1-283731589572-athena/'\n",
    "origin_name = 'AwsDataCatalog'\n",
    "database_name= 'analytics'\n",
    "table_name = 'daily_check'"
   ]
  },
  {
   "cell_type": "code",
   "execution_count": 7,
   "id": "f07cacf9-be6a-4b39-8cb9-1b70a7b4a8cb",
   "metadata": {
    "tags": []
   },
   "outputs": [
    {
     "name": "stdout",
     "output_type": "stream",
     "text": [
      "sagemaker.config INFO - Not applying SDK defaults from location: /etc/xdg/sagemaker/config.yaml\n",
      "sagemaker.config INFO - Not applying SDK defaults from location: /root/.config/sagemaker/config.yaml\n",
      "sagemaker.config INFO - Not applying SDK defaults from location: /etc/xdg/sagemaker/config.yaml\n",
      "sagemaker.config INFO - Not applying SDK defaults from location: /root/.config/sagemaker/config.yaml\n"
     ]
    },
    {
     "data": {
      "text/plain": [
       "'arn:aws:iam::283731589572:role/service-role/SageMaker-ExecutionRole-20240102T104128'"
      ]
     },
     "execution_count": 7,
     "metadata": {},
     "output_type": "execute_result"
    }
   ],
   "source": [
    "import sagemaker\n",
    "sagemaker.get_execution_role()"
   ]
  },
  {
   "cell_type": "code",
   "execution_count": 8,
   "id": "ebfbd7f2-b024-4ea6-a01d-229b53e92b87",
   "metadata": {
    "tags": []
   },
   "outputs": [],
   "source": [
    "# Read data from Athena\n",
    "# df_daily_check = wr.athena.read_sql_query(\n",
    "#     f'SELECT * FROM {origin_name}.{database_name}.{table_name};',\n",
    "#     database=database_name\n",
    "# )\n"
   ]
  },
  {
   "cell_type": "code",
   "execution_count": 9,
   "id": "7076b249-a0d5-4857-9d57-45aa2abd7547",
   "metadata": {},
   "outputs": [],
   "source": [
    "df_daily_check = pd.read_excel(\"daily_check.xlsx\")"
   ]
  },
  {
   "cell_type": "code",
   "execution_count": 10,
   "id": "072ccb6f-c7d2-4eb0-9158-e8023b3f2504",
   "metadata": {
    "tags": []
   },
   "outputs": [],
   "source": [
    "# Convertir todos los nombres de columna a minúsculas\n",
    "df_daily_check.columns = df_daily_check.columns.str.lower()"
   ]
  },
  {
   "cell_type": "code",
   "execution_count": 11,
   "id": "ecab8b35-ca79-416d-ae99-6f5ff93bb4cd",
   "metadata": {
    "tags": []
   },
   "outputs": [],
   "source": [
    "df_test = pd.read_csv(\"df_train_prueba2.csv\")"
   ]
  },
  {
   "cell_type": "code",
   "execution_count": 12,
   "id": "31c83f23-a01a-4ba7-bf85-dfc852d1c5e7",
   "metadata": {
    "tags": []
   },
   "outputs": [],
   "source": [
    "# Me traigo solamente las columnas de payer_country y la del encoder para poder cruzar los datos\n",
    "df_translate = pd.read_csv(\"df_final_21_10_2023.csv\")[['payer_country','payer_country_encoder']]"
   ]
  },
  {
   "cell_type": "code",
   "execution_count": 13,
   "id": "87ba5e10-8f0f-4cbb-88aa-6ac5eca17b9b",
   "metadata": {
    "tags": []
   },
   "outputs": [],
   "source": [
    "# Me quedo con una tabla simple, con ocurrencias unicas\n",
    "df_translate = df_translate.drop_duplicates(subset='payer_country_encoder')"
   ]
  },
  {
   "cell_type": "code",
   "execution_count": 14,
   "id": "dd4a4199-7de4-4c76-9c24-ddbea3e537e1",
   "metadata": {
    "tags": []
   },
   "outputs": [],
   "source": [
    "df_translate.to_excel('translate.xlsx')"
   ]
  },
  {
   "cell_type": "code",
   "execution_count": 15,
   "id": "efc14c56-04ae-4d1a-81e5-8d7cbd7d2391",
   "metadata": {
    "tags": []
   },
   "outputs": [],
   "source": [
    "# Al df_test le agrego la correspondencia payer_country_encoder <> payer_country\n",
    "df_final = pd.merge(df_test, df_translate, on=['payer_country_encoder'])"
   ]
  },
  {
   "cell_type": "code",
   "execution_count": 16,
   "id": "e6fc0eae-de4f-46c4-80be-441501269cad",
   "metadata": {
    "tags": []
   },
   "outputs": [],
   "source": [
    "#Separo el nombre del pais\n",
    "df_final['country'] = df_final['payer_country'].str.split('_').str[-1]"
   ]
  },
  {
   "cell_type": "code",
   "execution_count": 17,
   "id": "10c98381-aa5e-415a-9b31-f866119aa246",
   "metadata": {
    "tags": []
   },
   "outputs": [],
   "source": [
    "df_final['date'] = pd.to_datetime(df_final['date'])"
   ]
  },
  {
   "cell_type": "code",
   "execution_count": 18,
   "id": "6cdd91ca-292a-413c-bd71-d0433275263c",
   "metadata": {
    "tags": []
   },
   "outputs": [],
   "source": [
    "df_daily_check['payer_country'] = df_daily_check['payer']+'_'+df_daily_check['country']"
   ]
  },
  {
   "cell_type": "code",
   "execution_count": 19,
   "id": "707c81c3-03b4-449b-8cf3-56dfdcae5ba2",
   "metadata": {
    "tags": []
   },
   "outputs": [],
   "source": [
    "#Traigo 'amount' de la tabla de transacciones diarias 'daily_check'\n",
    "df_test = pd.merge(df_final, df_daily_check, on=['date','payer_country', 'country'], how='left')"
   ]
  },
  {
   "cell_type": "code",
   "execution_count": 20,
   "id": "f85cea9b-9255-424a-b77d-212d786ee63b",
   "metadata": {
    "tags": []
   },
   "outputs": [],
   "source": [
    "df_test.drop(['payer','tx','promedio x tx'], axis=1, inplace=True)"
   ]
  },
  {
   "cell_type": "code",
   "execution_count": 21,
   "id": "9a520c15-2344-4ea9-9f8f-be9e42bb18f4",
   "metadata": {
    "tags": []
   },
   "outputs": [],
   "source": [
    "#Elimino registros donde no tengo amount\n",
    "df_test = df_test[~df_test['amount'].isnull()]"
   ]
  },
  {
   "cell_type": "code",
   "execution_count": 22,
   "id": "e3dca2dc-63c2-428a-97ae-d3a2a12d3aec",
   "metadata": {
    "tags": []
   },
   "outputs": [],
   "source": [
    "df_test.to_excel('MAPE_check.xlsx')"
   ]
  },
  {
   "cell_type": "markdown",
   "id": "a79d3956-fe38-4f6a-8774-7df3b737ef30",
   "metadata": {
    "tags": []
   },
   "source": [
    "### MAPE @ MEAN"
   ]
  },
  {
   "cell_type": "code",
   "execution_count": 23,
   "id": "f433c882-526d-4e03-a36b-ddc0ff2de8a5",
   "metadata": {
    "tags": []
   },
   "outputs": [],
   "source": [
    "statistic = 'mean' # Seleccionar 'mean' o 'p50'"
   ]
  },
  {
   "cell_type": "code",
   "execution_count": 24,
   "id": "344e83e3-03fe-43b6-9edf-b095bb71f1d9",
   "metadata": {
    "tags": []
   },
   "outputs": [],
   "source": [
    "#Calculo el valor absoluto de la diferencia entre 'amount' y 'mean'\n",
    "df_test['abs_error'] = abs(df_test['amount'] - df_test[statistic])"
   ]
  },
  {
   "cell_type": "code",
   "execution_count": 25,
   "id": "bd38989c-793e-49b1-9c03-bfcf4232f15c",
   "metadata": {
    "tags": []
   },
   "outputs": [],
   "source": [
    "#Calculo el % de error absoluto para cada fila\n",
    "df_test['ape'] = df_test['abs_error'] / df_test['amount']"
   ]
  },
  {
   "cell_type": "code",
   "execution_count": 27,
   "id": "0cc35854-5d4b-458a-8c69-1be53ebab44f",
   "metadata": {
    "tags": []
   },
   "outputs": [
    {
     "data": {
      "text/plain": [
       "payer_country\n",
       "24XORO_MEXICO                         0.698201\n",
       "ABANK (TN)_EL SALVADOR                0.210805\n",
       "AFEX_CHILE                            0.623288\n",
       "AFEX_URUGUAY                          0.999183\n",
       "AFRO INTERNACIONAL_GUINEA             0.769198\n",
       "                                        ...   \n",
       "WALMART (UT)_MEXICO                   0.198651\n",
       "YES BANK_INDIA                        1.428390\n",
       "ZEEPAY_CAMEROON                       0.791684\n",
       "ZEEPAY_COTE D'IVOIRE (IVORY COAST)    1.076883\n",
       "ZEEPAY_GHANA                          0.541112\n",
       "Name: ape, Length: 129, dtype: float64"
      ]
     },
     "execution_count": 27,
     "metadata": {},
     "output_type": "execute_result"
    }
   ],
   "source": [
    "#Calculo el MAPE por payer_country\n",
    "mape_payer_country = df_test.groupby('payer_country')['ape'].mean()\n",
    "mape_payer_country"
   ]
  },
  {
   "cell_type": "code",
   "execution_count": null,
   "id": "75a35a4c-ee5f-4f82-b7d9-7b1dd7ab3941",
   "metadata": {},
   "outputs": [],
   "source": []
  },
  {
   "cell_type": "code",
   "execution_count": 29,
   "id": "44fa3f21-7902-428f-ab39-cf32f5ec1d71",
   "metadata": {
    "tags": []
   },
   "outputs": [
    {
     "data": {
      "text/html": [
       "<div>\n",
       "<style scoped>\n",
       "    .dataframe tbody tr th:only-of-type {\n",
       "        vertical-align: middle;\n",
       "    }\n",
       "\n",
       "    .dataframe tbody tr th {\n",
       "        vertical-align: top;\n",
       "    }\n",
       "\n",
       "    .dataframe thead th {\n",
       "        text-align: right;\n",
       "    }\n",
       "</style>\n",
       "<table border=\"1\" class=\"dataframe\">\n",
       "  <thead>\n",
       "    <tr style=\"text-align: right;\">\n",
       "      <th></th>\n",
       "      <th>payer_country_encoder</th>\n",
       "      <th>date</th>\n",
       "      <th>p10</th>\n",
       "      <th>p50</th>\n",
       "      <th>p90</th>\n",
       "      <th>mean</th>\n",
       "      <th>payer_country</th>\n",
       "      <th>country</th>\n",
       "      <th>amount</th>\n",
       "      <th>abs_error</th>\n",
       "      <th>ape</th>\n",
       "    </tr>\n",
       "  </thead>\n",
       "  <tbody>\n",
       "    <tr>\n",
       "      <th>10</th>\n",
       "      <td>107</td>\n",
       "      <td>2023-04-11</td>\n",
       "      <td>0.0</td>\n",
       "      <td>0.0</td>\n",
       "      <td>0.0</td>\n",
       "      <td>44.0829</td>\n",
       "      <td>TRANSFERTO - THUNES_FRANCE</td>\n",
       "      <td>FRANCE</td>\n",
       "      <td>112.00</td>\n",
       "      <td>67.9171</td>\n",
       "      <td>0.606403</td>\n",
       "    </tr>\n",
       "    <tr>\n",
       "      <th>13</th>\n",
       "      <td>107</td>\n",
       "      <td>2023-04-14</td>\n",
       "      <td>0.0</td>\n",
       "      <td>0.0</td>\n",
       "      <td>0.0</td>\n",
       "      <td>63.9666</td>\n",
       "      <td>TRANSFERTO - THUNES_FRANCE</td>\n",
       "      <td>FRANCE</td>\n",
       "      <td>1111.11</td>\n",
       "      <td>1047.1434</td>\n",
       "      <td>0.942430</td>\n",
       "    </tr>\n",
       "    <tr>\n",
       "      <th>14</th>\n",
       "      <td>107</td>\n",
       "      <td>2023-04-15</td>\n",
       "      <td>0.0</td>\n",
       "      <td>0.0</td>\n",
       "      <td>0.0</td>\n",
       "      <td>38.0300</td>\n",
       "      <td>TRANSFERTO - THUNES_FRANCE</td>\n",
       "      <td>FRANCE</td>\n",
       "      <td>100.00</td>\n",
       "      <td>61.9700</td>\n",
       "      <td>0.619700</td>\n",
       "    </tr>\n",
       "    <tr>\n",
       "      <th>19</th>\n",
       "      <td>107</td>\n",
       "      <td>2023-04-20</td>\n",
       "      <td>0.0</td>\n",
       "      <td>0.0</td>\n",
       "      <td>0.0</td>\n",
       "      <td>6.6200</td>\n",
       "      <td>TRANSFERTO - THUNES_FRANCE</td>\n",
       "      <td>FRANCE</td>\n",
       "      <td>435.00</td>\n",
       "      <td>428.3800</td>\n",
       "      <td>0.984782</td>\n",
       "    </tr>\n",
       "    <tr>\n",
       "      <th>27</th>\n",
       "      <td>107</td>\n",
       "      <td>2023-04-28</td>\n",
       "      <td>0.0</td>\n",
       "      <td>0.0</td>\n",
       "      <td>0.0</td>\n",
       "      <td>51.7851</td>\n",
       "      <td>TRANSFERTO - THUNES_FRANCE</td>\n",
       "      <td>FRANCE</td>\n",
       "      <td>212.00</td>\n",
       "      <td>160.2149</td>\n",
       "      <td>0.755731</td>\n",
       "    </tr>\n",
       "  </tbody>\n",
       "</table>\n",
       "</div>"
      ],
      "text/plain": [
       "    payer_country_encoder       date  p10  p50  p90     mean  \\\n",
       "10                    107 2023-04-11  0.0  0.0  0.0  44.0829   \n",
       "13                    107 2023-04-14  0.0  0.0  0.0  63.9666   \n",
       "14                    107 2023-04-15  0.0  0.0  0.0  38.0300   \n",
       "19                    107 2023-04-20  0.0  0.0  0.0   6.6200   \n",
       "27                    107 2023-04-28  0.0  0.0  0.0  51.7851   \n",
       "\n",
       "                 payer_country country   amount  abs_error       ape  \n",
       "10  TRANSFERTO - THUNES_FRANCE  FRANCE   112.00    67.9171  0.606403  \n",
       "13  TRANSFERTO - THUNES_FRANCE  FRANCE  1111.11  1047.1434  0.942430  \n",
       "14  TRANSFERTO - THUNES_FRANCE  FRANCE   100.00    61.9700  0.619700  \n",
       "19  TRANSFERTO - THUNES_FRANCE  FRANCE   435.00   428.3800  0.984782  \n",
       "27  TRANSFERTO - THUNES_FRANCE  FRANCE   212.00   160.2149  0.755731  "
      ]
     },
     "execution_count": 29,
     "metadata": {},
     "output_type": "execute_result"
    }
   ],
   "source": [
    "df_test.head()"
   ]
  },
  {
   "cell_type": "code",
   "execution_count": 59,
   "id": "f94e9dec-620a-4e37-bb60-9183a1b606b6",
   "metadata": {
    "tags": []
   },
   "outputs": [],
   "source": [
    "#Calculo el MAPE por country\n",
    "grouped = df_test.groupby(['date', 'country']).agg({'amount': 'sum', 'mean': 'sum'}).reset_index()"
   ]
  },
  {
   "cell_type": "code",
   "execution_count": 61,
   "id": "3319cd14-718e-4cf7-984b-03fc89d03a08",
   "metadata": {
    "tags": []
   },
   "outputs": [
    {
     "data": {
      "text/html": [
       "<div>\n",
       "<style scoped>\n",
       "    .dataframe tbody tr th:only-of-type {\n",
       "        vertical-align: middle;\n",
       "    }\n",
       "\n",
       "    .dataframe tbody tr th {\n",
       "        vertical-align: top;\n",
       "    }\n",
       "\n",
       "    .dataframe thead th {\n",
       "        text-align: right;\n",
       "    }\n",
       "</style>\n",
       "<table border=\"1\" class=\"dataframe\">\n",
       "  <thead>\n",
       "    <tr style=\"text-align: right;\">\n",
       "      <th></th>\n",
       "      <th>date</th>\n",
       "      <th>country</th>\n",
       "      <th>amount</th>\n",
       "      <th>mean</th>\n",
       "    </tr>\n",
       "  </thead>\n",
       "  <tbody>\n",
       "    <tr>\n",
       "      <th>3</th>\n",
       "      <td>2023-04-01</td>\n",
       "      <td>BRAZIL</td>\n",
       "      <td>444502.43</td>\n",
       "      <td>569563.011719</td>\n",
       "    </tr>\n",
       "    <tr>\n",
       "      <th>35</th>\n",
       "      <td>2023-04-02</td>\n",
       "      <td>BRAZIL</td>\n",
       "      <td>398352.87</td>\n",
       "      <td>539812.953125</td>\n",
       "    </tr>\n",
       "    <tr>\n",
       "      <th>68</th>\n",
       "      <td>2023-04-03</td>\n",
       "      <td>BRAZIL</td>\n",
       "      <td>835308.23</td>\n",
       "      <td>861290.867188</td>\n",
       "    </tr>\n",
       "    <tr>\n",
       "      <th>99</th>\n",
       "      <td>2023-04-04</td>\n",
       "      <td>BRAZIL</td>\n",
       "      <td>672845.16</td>\n",
       "      <td>722125.476562</td>\n",
       "    </tr>\n",
       "    <tr>\n",
       "      <th>133</th>\n",
       "      <td>2023-04-05</td>\n",
       "      <td>BRAZIL</td>\n",
       "      <td>643068.05</td>\n",
       "      <td>557620.585938</td>\n",
       "    </tr>\n",
       "  </tbody>\n",
       "</table>\n",
       "</div>"
      ],
      "text/plain": [
       "          date country     amount           mean\n",
       "3   2023-04-01  BRAZIL  444502.43  569563.011719\n",
       "35  2023-04-02  BRAZIL  398352.87  539812.953125\n",
       "68  2023-04-03  BRAZIL  835308.23  861290.867188\n",
       "99  2023-04-04  BRAZIL  672845.16  722125.476562\n",
       "133 2023-04-05  BRAZIL  643068.05  557620.585938"
      ]
     },
     "execution_count": 61,
     "metadata": {},
     "output_type": "execute_result"
    }
   ],
   "source": [
    "grouped[grouped['country'] == 'BRAZIL'].sort_values('date').head()"
   ]
  },
  {
   "cell_type": "code",
   "execution_count": 62,
   "id": "3dee220b-6bab-4bad-b504-97bf0a650f49",
   "metadata": {},
   "outputs": [],
   "source": [
    "grouped['abs_error'] = abs(grouped['amount'] - grouped['mean'])\n",
    "grouped['ape'] = grouped['abs_error'] / grouped['amount']"
   ]
  },
  {
   "cell_type": "code",
   "execution_count": 63,
   "id": "b054bd81-b7ac-43cb-95dc-1cc62e151623",
   "metadata": {
    "tags": []
   },
   "outputs": [
    {
     "data": {
      "text/html": [
       "<div>\n",
       "<style scoped>\n",
       "    .dataframe tbody tr th:only-of-type {\n",
       "        vertical-align: middle;\n",
       "    }\n",
       "\n",
       "    .dataframe tbody tr th {\n",
       "        vertical-align: top;\n",
       "    }\n",
       "\n",
       "    .dataframe thead th {\n",
       "        text-align: right;\n",
       "    }\n",
       "</style>\n",
       "<table border=\"1\" class=\"dataframe\">\n",
       "  <thead>\n",
       "    <tr style=\"text-align: right;\">\n",
       "      <th></th>\n",
       "      <th>date</th>\n",
       "      <th>country</th>\n",
       "      <th>amount</th>\n",
       "      <th>mean</th>\n",
       "      <th>abs_error</th>\n",
       "      <th>ape</th>\n",
       "    </tr>\n",
       "  </thead>\n",
       "  <tbody>\n",
       "    <tr>\n",
       "      <th>0</th>\n",
       "      <td>2023-04-01</td>\n",
       "      <td>ARGENTINA</td>\n",
       "      <td>680.19</td>\n",
       "      <td>594.680634</td>\n",
       "      <td>85.509366</td>\n",
       "      <td>0.125714</td>\n",
       "    </tr>\n",
       "    <tr>\n",
       "      <th>1</th>\n",
       "      <td>2023-04-01</td>\n",
       "      <td>BANGLADESH</td>\n",
       "      <td>985.00</td>\n",
       "      <td>3626.518555</td>\n",
       "      <td>2641.518555</td>\n",
       "      <td>2.681745</td>\n",
       "    </tr>\n",
       "    <tr>\n",
       "      <th>2</th>\n",
       "      <td>2023-04-01</td>\n",
       "      <td>BOLIVIA</td>\n",
       "      <td>14416.00</td>\n",
       "      <td>17116.436035</td>\n",
       "      <td>2700.436035</td>\n",
       "      <td>0.187322</td>\n",
       "    </tr>\n",
       "    <tr>\n",
       "      <th>3</th>\n",
       "      <td>2023-04-01</td>\n",
       "      <td>BRAZIL</td>\n",
       "      <td>444502.43</td>\n",
       "      <td>569563.011719</td>\n",
       "      <td>125060.581719</td>\n",
       "      <td>0.281350</td>\n",
       "    </tr>\n",
       "    <tr>\n",
       "      <th>4</th>\n",
       "      <td>2023-04-01</td>\n",
       "      <td>CAMEROON</td>\n",
       "      <td>2446.08</td>\n",
       "      <td>12.503193</td>\n",
       "      <td>2433.576807</td>\n",
       "      <td>0.994888</td>\n",
       "    </tr>\n",
       "  </tbody>\n",
       "</table>\n",
       "</div>"
      ],
      "text/plain": [
       "        date     country     amount           mean      abs_error       ape\n",
       "0 2023-04-01   ARGENTINA     680.19     594.680634      85.509366  0.125714\n",
       "1 2023-04-01  BANGLADESH     985.00    3626.518555    2641.518555  2.681745\n",
       "2 2023-04-01     BOLIVIA   14416.00   17116.436035    2700.436035  0.187322\n",
       "3 2023-04-01      BRAZIL  444502.43  569563.011719  125060.581719  0.281350\n",
       "4 2023-04-01    CAMEROON    2446.08      12.503193    2433.576807  0.994888"
      ]
     },
     "execution_count": 63,
     "metadata": {},
     "output_type": "execute_result"
    }
   ],
   "source": [
    "grouped.head()"
   ]
  },
  {
   "cell_type": "code",
   "execution_count": 64,
   "id": "e1a558ec-586e-4737-a108-a546194f1fd2",
   "metadata": {},
   "outputs": [],
   "source": [
    "grouped_by_country = grouped.groupby('country').agg({'ape': 'sum', 'date': 'count'}).reset_index()"
   ]
  },
  {
   "cell_type": "code",
   "execution_count": 65,
   "id": "e9abef83-f02a-4c52-b807-8401b4c0cfca",
   "metadata": {
    "tags": []
   },
   "outputs": [],
   "source": [
    "grouped_by_country['mape'] = grouped_by_country['ape']/grouped_by_country['date']"
   ]
  },
  {
   "cell_type": "code",
   "execution_count": 66,
   "id": "737d955b-905e-49f1-a7c8-69f5731bd8f3",
   "metadata": {
    "tags": []
   },
   "outputs": [
    {
     "data": {
      "text/html": [
       "<div>\n",
       "<style scoped>\n",
       "    .dataframe tbody tr th:only-of-type {\n",
       "        vertical-align: middle;\n",
       "    }\n",
       "\n",
       "    .dataframe tbody tr th {\n",
       "        vertical-align: top;\n",
       "    }\n",
       "\n",
       "    .dataframe thead th {\n",
       "        text-align: right;\n",
       "    }\n",
       "</style>\n",
       "<table border=\"1\" class=\"dataframe\">\n",
       "  <thead>\n",
       "    <tr style=\"text-align: right;\">\n",
       "      <th></th>\n",
       "      <th>country</th>\n",
       "      <th>ape</th>\n",
       "      <th>date</th>\n",
       "      <th>mape</th>\n",
       "    </tr>\n",
       "  </thead>\n",
       "  <tbody>\n",
       "    <tr>\n",
       "      <th>0</th>\n",
       "      <td>ARGENTINA</td>\n",
       "      <td>113.437414</td>\n",
       "      <td>89</td>\n",
       "      <td>1.274578</td>\n",
       "    </tr>\n",
       "    <tr>\n",
       "      <th>1</th>\n",
       "      <td>BANGLADESH</td>\n",
       "      <td>1467.800983</td>\n",
       "      <td>91</td>\n",
       "      <td>16.129681</td>\n",
       "    </tr>\n",
       "    <tr>\n",
       "      <th>2</th>\n",
       "      <td>BELGIUM</td>\n",
       "      <td>23.148521</td>\n",
       "      <td>23</td>\n",
       "      <td>1.006457</td>\n",
       "    </tr>\n",
       "    <tr>\n",
       "      <th>3</th>\n",
       "      <td>BENIN</td>\n",
       "      <td>19.347023</td>\n",
       "      <td>25</td>\n",
       "      <td>0.773881</td>\n",
       "    </tr>\n",
       "    <tr>\n",
       "      <th>4</th>\n",
       "      <td>BOLIVIA</td>\n",
       "      <td>36.552439</td>\n",
       "      <td>100</td>\n",
       "      <td>0.365524</td>\n",
       "    </tr>\n",
       "    <tr>\n",
       "      <th>5</th>\n",
       "      <td>BRAZIL</td>\n",
       "      <td>20.034276</td>\n",
       "      <td>100</td>\n",
       "      <td>0.200343</td>\n",
       "    </tr>\n",
       "    <tr>\n",
       "      <th>6</th>\n",
       "      <td>BURKINA FASO</td>\n",
       "      <td>44.728265</td>\n",
       "      <td>45</td>\n",
       "      <td>0.993961</td>\n",
       "    </tr>\n",
       "    <tr>\n",
       "      <th>7</th>\n",
       "      <td>CAMEROON</td>\n",
       "      <td>64.649528</td>\n",
       "      <td>80</td>\n",
       "      <td>0.808119</td>\n",
       "    </tr>\n",
       "    <tr>\n",
       "      <th>8</th>\n",
       "      <td>CHILE</td>\n",
       "      <td>49.577441</td>\n",
       "      <td>100</td>\n",
       "      <td>0.495774</td>\n",
       "    </tr>\n",
       "    <tr>\n",
       "      <th>9</th>\n",
       "      <td>COLOMBIA</td>\n",
       "      <td>25.198123</td>\n",
       "      <td>100</td>\n",
       "      <td>0.251981</td>\n",
       "    </tr>\n",
       "    <tr>\n",
       "      <th>10</th>\n",
       "      <td>COSTA RICA</td>\n",
       "      <td>43.753497</td>\n",
       "      <td>100</td>\n",
       "      <td>0.437535</td>\n",
       "    </tr>\n",
       "    <tr>\n",
       "      <th>11</th>\n",
       "      <td>COTE D'IVOIRE (IVORY COAST)</td>\n",
       "      <td>57.734220</td>\n",
       "      <td>61</td>\n",
       "      <td>0.946463</td>\n",
       "    </tr>\n",
       "    <tr>\n",
       "      <th>12</th>\n",
       "      <td>DOMINICAN REPUBLIC</td>\n",
       "      <td>17.749672</td>\n",
       "      <td>100</td>\n",
       "      <td>0.177497</td>\n",
       "    </tr>\n",
       "    <tr>\n",
       "      <th>13</th>\n",
       "      <td>ECUADOR</td>\n",
       "      <td>18.976289</td>\n",
       "      <td>100</td>\n",
       "      <td>0.189763</td>\n",
       "    </tr>\n",
       "    <tr>\n",
       "      <th>14</th>\n",
       "      <td>EL SALVADOR</td>\n",
       "      <td>10.090209</td>\n",
       "      <td>100</td>\n",
       "      <td>0.100902</td>\n",
       "    </tr>\n",
       "    <tr>\n",
       "      <th>15</th>\n",
       "      <td>FRANCE</td>\n",
       "      <td>17.549894</td>\n",
       "      <td>22</td>\n",
       "      <td>0.797722</td>\n",
       "    </tr>\n",
       "    <tr>\n",
       "      <th>16</th>\n",
       "      <td>GAMBIA, THE</td>\n",
       "      <td>259.554940</td>\n",
       "      <td>93</td>\n",
       "      <td>2.790913</td>\n",
       "    </tr>\n",
       "    <tr>\n",
       "      <th>17</th>\n",
       "      <td>GERMANY</td>\n",
       "      <td>27.531470</td>\n",
       "      <td>30</td>\n",
       "      <td>0.917716</td>\n",
       "    </tr>\n",
       "    <tr>\n",
       "      <th>18</th>\n",
       "      <td>GHANA</td>\n",
       "      <td>54.111192</td>\n",
       "      <td>100</td>\n",
       "      <td>0.541112</td>\n",
       "    </tr>\n",
       "    <tr>\n",
       "      <th>19</th>\n",
       "      <td>GUATEMALA</td>\n",
       "      <td>14.137974</td>\n",
       "      <td>100</td>\n",
       "      <td>0.141380</td>\n",
       "    </tr>\n",
       "    <tr>\n",
       "      <th>20</th>\n",
       "      <td>GUINEA</td>\n",
       "      <td>73.085904</td>\n",
       "      <td>88</td>\n",
       "      <td>0.830522</td>\n",
       "    </tr>\n",
       "    <tr>\n",
       "      <th>21</th>\n",
       "      <td>HAITI</td>\n",
       "      <td>18.489163</td>\n",
       "      <td>100</td>\n",
       "      <td>0.184892</td>\n",
       "    </tr>\n",
       "    <tr>\n",
       "      <th>22</th>\n",
       "      <td>HONDURAS</td>\n",
       "      <td>19.117324</td>\n",
       "      <td>100</td>\n",
       "      <td>0.191173</td>\n",
       "    </tr>\n",
       "    <tr>\n",
       "      <th>23</th>\n",
       "      <td>INDIA</td>\n",
       "      <td>137.125452</td>\n",
       "      <td>96</td>\n",
       "      <td>1.428390</td>\n",
       "    </tr>\n",
       "    <tr>\n",
       "      <th>24</th>\n",
       "      <td>INDONESIA</td>\n",
       "      <td>54.712074</td>\n",
       "      <td>100</td>\n",
       "      <td>0.547121</td>\n",
       "    </tr>\n",
       "    <tr>\n",
       "      <th>25</th>\n",
       "      <td>ITALY</td>\n",
       "      <td>26.694733</td>\n",
       "      <td>31</td>\n",
       "      <td>0.861120</td>\n",
       "    </tr>\n",
       "    <tr>\n",
       "      <th>26</th>\n",
       "      <td>JAMAICA</td>\n",
       "      <td>20.785205</td>\n",
       "      <td>22</td>\n",
       "      <td>0.944782</td>\n",
       "    </tr>\n",
       "    <tr>\n",
       "      <th>27</th>\n",
       "      <td>LIBERIA</td>\n",
       "      <td>26.062327</td>\n",
       "      <td>33</td>\n",
       "      <td>0.789767</td>\n",
       "    </tr>\n",
       "    <tr>\n",
       "      <th>28</th>\n",
       "      <td>MALAYSIA</td>\n",
       "      <td>2.481354</td>\n",
       "      <td>3</td>\n",
       "      <td>0.827118</td>\n",
       "    </tr>\n",
       "    <tr>\n",
       "      <th>29</th>\n",
       "      <td>MALI</td>\n",
       "      <td>45.491489</td>\n",
       "      <td>47</td>\n",
       "      <td>0.967904</td>\n",
       "    </tr>\n",
       "    <tr>\n",
       "      <th>30</th>\n",
       "      <td>MEXICO</td>\n",
       "      <td>12.870905</td>\n",
       "      <td>100</td>\n",
       "      <td>0.128709</td>\n",
       "    </tr>\n",
       "    <tr>\n",
       "      <th>31</th>\n",
       "      <td>NEPAL</td>\n",
       "      <td>79.126848</td>\n",
       "      <td>84</td>\n",
       "      <td>0.941986</td>\n",
       "    </tr>\n",
       "    <tr>\n",
       "      <th>32</th>\n",
       "      <td>NICARAGUA</td>\n",
       "      <td>23.122971</td>\n",
       "      <td>100</td>\n",
       "      <td>0.231230</td>\n",
       "    </tr>\n",
       "    <tr>\n",
       "      <th>33</th>\n",
       "      <td>NIGERIA</td>\n",
       "      <td>103.429571</td>\n",
       "      <td>100</td>\n",
       "      <td>1.034296</td>\n",
       "    </tr>\n",
       "    <tr>\n",
       "      <th>34</th>\n",
       "      <td>PERU</td>\n",
       "      <td>21.010006</td>\n",
       "      <td>100</td>\n",
       "      <td>0.210100</td>\n",
       "    </tr>\n",
       "    <tr>\n",
       "      <th>35</th>\n",
       "      <td>PHILIPPINES</td>\n",
       "      <td>23.452575</td>\n",
       "      <td>100</td>\n",
       "      <td>0.234526</td>\n",
       "    </tr>\n",
       "    <tr>\n",
       "      <th>36</th>\n",
       "      <td>PORTUGAL</td>\n",
       "      <td>76.323595</td>\n",
       "      <td>81</td>\n",
       "      <td>0.942267</td>\n",
       "    </tr>\n",
       "    <tr>\n",
       "      <th>37</th>\n",
       "      <td>SENEGAL</td>\n",
       "      <td>82.991218</td>\n",
       "      <td>83</td>\n",
       "      <td>0.999894</td>\n",
       "    </tr>\n",
       "    <tr>\n",
       "      <th>38</th>\n",
       "      <td>SIERRA LEONE</td>\n",
       "      <td>38.637418</td>\n",
       "      <td>100</td>\n",
       "      <td>0.386374</td>\n",
       "    </tr>\n",
       "    <tr>\n",
       "      <th>39</th>\n",
       "      <td>SPAIN</td>\n",
       "      <td>89.611617</td>\n",
       "      <td>100</td>\n",
       "      <td>0.896116</td>\n",
       "    </tr>\n",
       "    <tr>\n",
       "      <th>40</th>\n",
       "      <td>THAILAND</td>\n",
       "      <td>10.954703</td>\n",
       "      <td>15</td>\n",
       "      <td>0.730314</td>\n",
       "    </tr>\n",
       "    <tr>\n",
       "      <th>41</th>\n",
       "      <td>TOGO</td>\n",
       "      <td>81.807694</td>\n",
       "      <td>75</td>\n",
       "      <td>1.090769</td>\n",
       "    </tr>\n",
       "    <tr>\n",
       "      <th>42</th>\n",
       "      <td>UNITED KINGDOM</td>\n",
       "      <td>22.176315</td>\n",
       "      <td>27</td>\n",
       "      <td>0.821345</td>\n",
       "    </tr>\n",
       "    <tr>\n",
       "      <th>43</th>\n",
       "      <td>UNITED STATES</td>\n",
       "      <td>15.387262</td>\n",
       "      <td>100</td>\n",
       "      <td>0.153873</td>\n",
       "    </tr>\n",
       "    <tr>\n",
       "      <th>44</th>\n",
       "      <td>UNITED STATES (ATM &amp; DEPOSITS)</td>\n",
       "      <td>76.498153</td>\n",
       "      <td>99</td>\n",
       "      <td>0.772709</td>\n",
       "    </tr>\n",
       "    <tr>\n",
       "      <th>45</th>\n",
       "      <td>URUGUAY</td>\n",
       "      <td>17.985300</td>\n",
       "      <td>18</td>\n",
       "      <td>0.999183</td>\n",
       "    </tr>\n",
       "  </tbody>\n",
       "</table>\n",
       "</div>"
      ],
      "text/plain": [
       "                           country          ape  date       mape\n",
       "0                        ARGENTINA   113.437414    89   1.274578\n",
       "1                       BANGLADESH  1467.800983    91  16.129681\n",
       "2                          BELGIUM    23.148521    23   1.006457\n",
       "3                            BENIN    19.347023    25   0.773881\n",
       "4                          BOLIVIA    36.552439   100   0.365524\n",
       "5                           BRAZIL    20.034276   100   0.200343\n",
       "6                     BURKINA FASO    44.728265    45   0.993961\n",
       "7                         CAMEROON    64.649528    80   0.808119\n",
       "8                            CHILE    49.577441   100   0.495774\n",
       "9                         COLOMBIA    25.198123   100   0.251981\n",
       "10                      COSTA RICA    43.753497   100   0.437535\n",
       "11     COTE D'IVOIRE (IVORY COAST)    57.734220    61   0.946463\n",
       "12              DOMINICAN REPUBLIC    17.749672   100   0.177497\n",
       "13                         ECUADOR    18.976289   100   0.189763\n",
       "14                     EL SALVADOR    10.090209   100   0.100902\n",
       "15                          FRANCE    17.549894    22   0.797722\n",
       "16                     GAMBIA, THE   259.554940    93   2.790913\n",
       "17                         GERMANY    27.531470    30   0.917716\n",
       "18                           GHANA    54.111192   100   0.541112\n",
       "19                       GUATEMALA    14.137974   100   0.141380\n",
       "20                          GUINEA    73.085904    88   0.830522\n",
       "21                           HAITI    18.489163   100   0.184892\n",
       "22                        HONDURAS    19.117324   100   0.191173\n",
       "23                           INDIA   137.125452    96   1.428390\n",
       "24                       INDONESIA    54.712074   100   0.547121\n",
       "25                           ITALY    26.694733    31   0.861120\n",
       "26                         JAMAICA    20.785205    22   0.944782\n",
       "27                         LIBERIA    26.062327    33   0.789767\n",
       "28                        MALAYSIA     2.481354     3   0.827118\n",
       "29                            MALI    45.491489    47   0.967904\n",
       "30                          MEXICO    12.870905   100   0.128709\n",
       "31                           NEPAL    79.126848    84   0.941986\n",
       "32                       NICARAGUA    23.122971   100   0.231230\n",
       "33                         NIGERIA   103.429571   100   1.034296\n",
       "34                            PERU    21.010006   100   0.210100\n",
       "35                     PHILIPPINES    23.452575   100   0.234526\n",
       "36                        PORTUGAL    76.323595    81   0.942267\n",
       "37                         SENEGAL    82.991218    83   0.999894\n",
       "38                    SIERRA LEONE    38.637418   100   0.386374\n",
       "39                           SPAIN    89.611617   100   0.896116\n",
       "40                        THAILAND    10.954703    15   0.730314\n",
       "41                            TOGO    81.807694    75   1.090769\n",
       "42                  UNITED KINGDOM    22.176315    27   0.821345\n",
       "43                   UNITED STATES    15.387262   100   0.153873\n",
       "44  UNITED STATES (ATM & DEPOSITS)    76.498153    99   0.772709\n",
       "45                         URUGUAY    17.985300    18   0.999183"
      ]
     },
     "execution_count": 66,
     "metadata": {},
     "output_type": "execute_result"
    }
   ],
   "source": [
    "grouped_by_country"
   ]
  },
  {
   "cell_type": "code",
   "execution_count": null,
   "id": "bcaea0d8-5c08-440b-981e-41c9791ef863",
   "metadata": {},
   "outputs": [],
   "source": []
  }
 ],
 "metadata": {
  "availableInstances": [
   {
    "_defaultOrder": 0,
    "_isFastLaunch": true,
    "category": "General purpose",
    "gpuNum": 0,
    "hideHardwareSpecs": false,
    "memoryGiB": 4,
    "name": "ml.t3.medium",
    "vcpuNum": 2
   },
   {
    "_defaultOrder": 1,
    "_isFastLaunch": false,
    "category": "General purpose",
    "gpuNum": 0,
    "hideHardwareSpecs": false,
    "memoryGiB": 8,
    "name": "ml.t3.large",
    "vcpuNum": 2
   },
   {
    "_defaultOrder": 2,
    "_isFastLaunch": false,
    "category": "General purpose",
    "gpuNum": 0,
    "hideHardwareSpecs": false,
    "memoryGiB": 16,
    "name": "ml.t3.xlarge",
    "vcpuNum": 4
   },
   {
    "_defaultOrder": 3,
    "_isFastLaunch": false,
    "category": "General purpose",
    "gpuNum": 0,
    "hideHardwareSpecs": false,
    "memoryGiB": 32,
    "name": "ml.t3.2xlarge",
    "vcpuNum": 8
   },
   {
    "_defaultOrder": 4,
    "_isFastLaunch": true,
    "category": "General purpose",
    "gpuNum": 0,
    "hideHardwareSpecs": false,
    "memoryGiB": 8,
    "name": "ml.m5.large",
    "vcpuNum": 2
   },
   {
    "_defaultOrder": 5,
    "_isFastLaunch": false,
    "category": "General purpose",
    "gpuNum": 0,
    "hideHardwareSpecs": false,
    "memoryGiB": 16,
    "name": "ml.m5.xlarge",
    "vcpuNum": 4
   },
   {
    "_defaultOrder": 6,
    "_isFastLaunch": false,
    "category": "General purpose",
    "gpuNum": 0,
    "hideHardwareSpecs": false,
    "memoryGiB": 32,
    "name": "ml.m5.2xlarge",
    "vcpuNum": 8
   },
   {
    "_defaultOrder": 7,
    "_isFastLaunch": false,
    "category": "General purpose",
    "gpuNum": 0,
    "hideHardwareSpecs": false,
    "memoryGiB": 64,
    "name": "ml.m5.4xlarge",
    "vcpuNum": 16
   },
   {
    "_defaultOrder": 8,
    "_isFastLaunch": false,
    "category": "General purpose",
    "gpuNum": 0,
    "hideHardwareSpecs": false,
    "memoryGiB": 128,
    "name": "ml.m5.8xlarge",
    "vcpuNum": 32
   },
   {
    "_defaultOrder": 9,
    "_isFastLaunch": false,
    "category": "General purpose",
    "gpuNum": 0,
    "hideHardwareSpecs": false,
    "memoryGiB": 192,
    "name": "ml.m5.12xlarge",
    "vcpuNum": 48
   },
   {
    "_defaultOrder": 10,
    "_isFastLaunch": false,
    "category": "General purpose",
    "gpuNum": 0,
    "hideHardwareSpecs": false,
    "memoryGiB": 256,
    "name": "ml.m5.16xlarge",
    "vcpuNum": 64
   },
   {
    "_defaultOrder": 11,
    "_isFastLaunch": false,
    "category": "General purpose",
    "gpuNum": 0,
    "hideHardwareSpecs": false,
    "memoryGiB": 384,
    "name": "ml.m5.24xlarge",
    "vcpuNum": 96
   },
   {
    "_defaultOrder": 12,
    "_isFastLaunch": false,
    "category": "General purpose",
    "gpuNum": 0,
    "hideHardwareSpecs": false,
    "memoryGiB": 8,
    "name": "ml.m5d.large",
    "vcpuNum": 2
   },
   {
    "_defaultOrder": 13,
    "_isFastLaunch": false,
    "category": "General purpose",
    "gpuNum": 0,
    "hideHardwareSpecs": false,
    "memoryGiB": 16,
    "name": "ml.m5d.xlarge",
    "vcpuNum": 4
   },
   {
    "_defaultOrder": 14,
    "_isFastLaunch": false,
    "category": "General purpose",
    "gpuNum": 0,
    "hideHardwareSpecs": false,
    "memoryGiB": 32,
    "name": "ml.m5d.2xlarge",
    "vcpuNum": 8
   },
   {
    "_defaultOrder": 15,
    "_isFastLaunch": false,
    "category": "General purpose",
    "gpuNum": 0,
    "hideHardwareSpecs": false,
    "memoryGiB": 64,
    "name": "ml.m5d.4xlarge",
    "vcpuNum": 16
   },
   {
    "_defaultOrder": 16,
    "_isFastLaunch": false,
    "category": "General purpose",
    "gpuNum": 0,
    "hideHardwareSpecs": false,
    "memoryGiB": 128,
    "name": "ml.m5d.8xlarge",
    "vcpuNum": 32
   },
   {
    "_defaultOrder": 17,
    "_isFastLaunch": false,
    "category": "General purpose",
    "gpuNum": 0,
    "hideHardwareSpecs": false,
    "memoryGiB": 192,
    "name": "ml.m5d.12xlarge",
    "vcpuNum": 48
   },
   {
    "_defaultOrder": 18,
    "_isFastLaunch": false,
    "category": "General purpose",
    "gpuNum": 0,
    "hideHardwareSpecs": false,
    "memoryGiB": 256,
    "name": "ml.m5d.16xlarge",
    "vcpuNum": 64
   },
   {
    "_defaultOrder": 19,
    "_isFastLaunch": false,
    "category": "General purpose",
    "gpuNum": 0,
    "hideHardwareSpecs": false,
    "memoryGiB": 384,
    "name": "ml.m5d.24xlarge",
    "vcpuNum": 96
   },
   {
    "_defaultOrder": 20,
    "_isFastLaunch": false,
    "category": "General purpose",
    "gpuNum": 0,
    "hideHardwareSpecs": true,
    "memoryGiB": 0,
    "name": "ml.geospatial.interactive",
    "supportedImageNames": [
     "sagemaker-geospatial-v1-0"
    ],
    "vcpuNum": 0
   },
   {
    "_defaultOrder": 21,
    "_isFastLaunch": true,
    "category": "Compute optimized",
    "gpuNum": 0,
    "hideHardwareSpecs": false,
    "memoryGiB": 4,
    "name": "ml.c5.large",
    "vcpuNum": 2
   },
   {
    "_defaultOrder": 22,
    "_isFastLaunch": false,
    "category": "Compute optimized",
    "gpuNum": 0,
    "hideHardwareSpecs": false,
    "memoryGiB": 8,
    "name": "ml.c5.xlarge",
    "vcpuNum": 4
   },
   {
    "_defaultOrder": 23,
    "_isFastLaunch": false,
    "category": "Compute optimized",
    "gpuNum": 0,
    "hideHardwareSpecs": false,
    "memoryGiB": 16,
    "name": "ml.c5.2xlarge",
    "vcpuNum": 8
   },
   {
    "_defaultOrder": 24,
    "_isFastLaunch": false,
    "category": "Compute optimized",
    "gpuNum": 0,
    "hideHardwareSpecs": false,
    "memoryGiB": 32,
    "name": "ml.c5.4xlarge",
    "vcpuNum": 16
   },
   {
    "_defaultOrder": 25,
    "_isFastLaunch": false,
    "category": "Compute optimized",
    "gpuNum": 0,
    "hideHardwareSpecs": false,
    "memoryGiB": 72,
    "name": "ml.c5.9xlarge",
    "vcpuNum": 36
   },
   {
    "_defaultOrder": 26,
    "_isFastLaunch": false,
    "category": "Compute optimized",
    "gpuNum": 0,
    "hideHardwareSpecs": false,
    "memoryGiB": 96,
    "name": "ml.c5.12xlarge",
    "vcpuNum": 48
   },
   {
    "_defaultOrder": 27,
    "_isFastLaunch": false,
    "category": "Compute optimized",
    "gpuNum": 0,
    "hideHardwareSpecs": false,
    "memoryGiB": 144,
    "name": "ml.c5.18xlarge",
    "vcpuNum": 72
   },
   {
    "_defaultOrder": 28,
    "_isFastLaunch": false,
    "category": "Compute optimized",
    "gpuNum": 0,
    "hideHardwareSpecs": false,
    "memoryGiB": 192,
    "name": "ml.c5.24xlarge",
    "vcpuNum": 96
   },
   {
    "_defaultOrder": 29,
    "_isFastLaunch": true,
    "category": "Accelerated computing",
    "gpuNum": 1,
    "hideHardwareSpecs": false,
    "memoryGiB": 16,
    "name": "ml.g4dn.xlarge",
    "vcpuNum": 4
   },
   {
    "_defaultOrder": 30,
    "_isFastLaunch": false,
    "category": "Accelerated computing",
    "gpuNum": 1,
    "hideHardwareSpecs": false,
    "memoryGiB": 32,
    "name": "ml.g4dn.2xlarge",
    "vcpuNum": 8
   },
   {
    "_defaultOrder": 31,
    "_isFastLaunch": false,
    "category": "Accelerated computing",
    "gpuNum": 1,
    "hideHardwareSpecs": false,
    "memoryGiB": 64,
    "name": "ml.g4dn.4xlarge",
    "vcpuNum": 16
   },
   {
    "_defaultOrder": 32,
    "_isFastLaunch": false,
    "category": "Accelerated computing",
    "gpuNum": 1,
    "hideHardwareSpecs": false,
    "memoryGiB": 128,
    "name": "ml.g4dn.8xlarge",
    "vcpuNum": 32
   },
   {
    "_defaultOrder": 33,
    "_isFastLaunch": false,
    "category": "Accelerated computing",
    "gpuNum": 4,
    "hideHardwareSpecs": false,
    "memoryGiB": 192,
    "name": "ml.g4dn.12xlarge",
    "vcpuNum": 48
   },
   {
    "_defaultOrder": 34,
    "_isFastLaunch": false,
    "category": "Accelerated computing",
    "gpuNum": 1,
    "hideHardwareSpecs": false,
    "memoryGiB": 256,
    "name": "ml.g4dn.16xlarge",
    "vcpuNum": 64
   },
   {
    "_defaultOrder": 35,
    "_isFastLaunch": false,
    "category": "Accelerated computing",
    "gpuNum": 1,
    "hideHardwareSpecs": false,
    "memoryGiB": 61,
    "name": "ml.p3.2xlarge",
    "vcpuNum": 8
   },
   {
    "_defaultOrder": 36,
    "_isFastLaunch": false,
    "category": "Accelerated computing",
    "gpuNum": 4,
    "hideHardwareSpecs": false,
    "memoryGiB": 244,
    "name": "ml.p3.8xlarge",
    "vcpuNum": 32
   },
   {
    "_defaultOrder": 37,
    "_isFastLaunch": false,
    "category": "Accelerated computing",
    "gpuNum": 8,
    "hideHardwareSpecs": false,
    "memoryGiB": 488,
    "name": "ml.p3.16xlarge",
    "vcpuNum": 64
   },
   {
    "_defaultOrder": 38,
    "_isFastLaunch": false,
    "category": "Accelerated computing",
    "gpuNum": 8,
    "hideHardwareSpecs": false,
    "memoryGiB": 768,
    "name": "ml.p3dn.24xlarge",
    "vcpuNum": 96
   },
   {
    "_defaultOrder": 39,
    "_isFastLaunch": false,
    "category": "Memory Optimized",
    "gpuNum": 0,
    "hideHardwareSpecs": false,
    "memoryGiB": 16,
    "name": "ml.r5.large",
    "vcpuNum": 2
   },
   {
    "_defaultOrder": 40,
    "_isFastLaunch": false,
    "category": "Memory Optimized",
    "gpuNum": 0,
    "hideHardwareSpecs": false,
    "memoryGiB": 32,
    "name": "ml.r5.xlarge",
    "vcpuNum": 4
   },
   {
    "_defaultOrder": 41,
    "_isFastLaunch": false,
    "category": "Memory Optimized",
    "gpuNum": 0,
    "hideHardwareSpecs": false,
    "memoryGiB": 64,
    "name": "ml.r5.2xlarge",
    "vcpuNum": 8
   },
   {
    "_defaultOrder": 42,
    "_isFastLaunch": false,
    "category": "Memory Optimized",
    "gpuNum": 0,
    "hideHardwareSpecs": false,
    "memoryGiB": 128,
    "name": "ml.r5.4xlarge",
    "vcpuNum": 16
   },
   {
    "_defaultOrder": 43,
    "_isFastLaunch": false,
    "category": "Memory Optimized",
    "gpuNum": 0,
    "hideHardwareSpecs": false,
    "memoryGiB": 256,
    "name": "ml.r5.8xlarge",
    "vcpuNum": 32
   },
   {
    "_defaultOrder": 44,
    "_isFastLaunch": false,
    "category": "Memory Optimized",
    "gpuNum": 0,
    "hideHardwareSpecs": false,
    "memoryGiB": 384,
    "name": "ml.r5.12xlarge",
    "vcpuNum": 48
   },
   {
    "_defaultOrder": 45,
    "_isFastLaunch": false,
    "category": "Memory Optimized",
    "gpuNum": 0,
    "hideHardwareSpecs": false,
    "memoryGiB": 512,
    "name": "ml.r5.16xlarge",
    "vcpuNum": 64
   },
   {
    "_defaultOrder": 46,
    "_isFastLaunch": false,
    "category": "Memory Optimized",
    "gpuNum": 0,
    "hideHardwareSpecs": false,
    "memoryGiB": 768,
    "name": "ml.r5.24xlarge",
    "vcpuNum": 96
   },
   {
    "_defaultOrder": 47,
    "_isFastLaunch": false,
    "category": "Accelerated computing",
    "gpuNum": 1,
    "hideHardwareSpecs": false,
    "memoryGiB": 16,
    "name": "ml.g5.xlarge",
    "vcpuNum": 4
   },
   {
    "_defaultOrder": 48,
    "_isFastLaunch": false,
    "category": "Accelerated computing",
    "gpuNum": 1,
    "hideHardwareSpecs": false,
    "memoryGiB": 32,
    "name": "ml.g5.2xlarge",
    "vcpuNum": 8
   },
   {
    "_defaultOrder": 49,
    "_isFastLaunch": false,
    "category": "Accelerated computing",
    "gpuNum": 1,
    "hideHardwareSpecs": false,
    "memoryGiB": 64,
    "name": "ml.g5.4xlarge",
    "vcpuNum": 16
   },
   {
    "_defaultOrder": 50,
    "_isFastLaunch": false,
    "category": "Accelerated computing",
    "gpuNum": 1,
    "hideHardwareSpecs": false,
    "memoryGiB": 128,
    "name": "ml.g5.8xlarge",
    "vcpuNum": 32
   },
   {
    "_defaultOrder": 51,
    "_isFastLaunch": false,
    "category": "Accelerated computing",
    "gpuNum": 1,
    "hideHardwareSpecs": false,
    "memoryGiB": 256,
    "name": "ml.g5.16xlarge",
    "vcpuNum": 64
   },
   {
    "_defaultOrder": 52,
    "_isFastLaunch": false,
    "category": "Accelerated computing",
    "gpuNum": 4,
    "hideHardwareSpecs": false,
    "memoryGiB": 192,
    "name": "ml.g5.12xlarge",
    "vcpuNum": 48
   },
   {
    "_defaultOrder": 53,
    "_isFastLaunch": false,
    "category": "Accelerated computing",
    "gpuNum": 4,
    "hideHardwareSpecs": false,
    "memoryGiB": 384,
    "name": "ml.g5.24xlarge",
    "vcpuNum": 96
   },
   {
    "_defaultOrder": 54,
    "_isFastLaunch": false,
    "category": "Accelerated computing",
    "gpuNum": 8,
    "hideHardwareSpecs": false,
    "memoryGiB": 768,
    "name": "ml.g5.48xlarge",
    "vcpuNum": 192
   },
   {
    "_defaultOrder": 55,
    "_isFastLaunch": false,
    "category": "Accelerated computing",
    "gpuNum": 8,
    "hideHardwareSpecs": false,
    "memoryGiB": 1152,
    "name": "ml.p4d.24xlarge",
    "vcpuNum": 96
   },
   {
    "_defaultOrder": 56,
    "_isFastLaunch": false,
    "category": "Accelerated computing",
    "gpuNum": 8,
    "hideHardwareSpecs": false,
    "memoryGiB": 1152,
    "name": "ml.p4de.24xlarge",
    "vcpuNum": 96
   },
   {
    "_defaultOrder": 57,
    "_isFastLaunch": false,
    "category": "Accelerated computing",
    "gpuNum": 0,
    "hideHardwareSpecs": false,
    "memoryGiB": 32,
    "name": "ml.trn1.2xlarge",
    "vcpuNum": 8
   },
   {
    "_defaultOrder": 58,
    "_isFastLaunch": false,
    "category": "Accelerated computing",
    "gpuNum": 0,
    "hideHardwareSpecs": false,
    "memoryGiB": 512,
    "name": "ml.trn1.32xlarge",
    "vcpuNum": 128
   },
   {
    "_defaultOrder": 59,
    "_isFastLaunch": false,
    "category": "Accelerated computing",
    "gpuNum": 0,
    "hideHardwareSpecs": false,
    "memoryGiB": 512,
    "name": "ml.trn1n.32xlarge",
    "vcpuNum": 128
   }
  ],
  "instance_type": "ml.t3.medium",
  "kernelspec": {
   "display_name": "Python 3 (Data Science 3.0)",
   "language": "python",
   "name": "python3__SAGEMAKER_INTERNAL__arn:aws:sagemaker:us-east-1:081325390199:image/sagemaker-data-science-310-v1"
  },
  "language_info": {
   "codemirror_mode": {
    "name": "ipython",
    "version": 3
   },
   "file_extension": ".py",
   "mimetype": "text/x-python",
   "name": "python",
   "nbconvert_exporter": "python",
   "pygments_lexer": "ipython3",
   "version": "3.10.6"
  }
 },
 "nbformat": 4,
 "nbformat_minor": 5
}
