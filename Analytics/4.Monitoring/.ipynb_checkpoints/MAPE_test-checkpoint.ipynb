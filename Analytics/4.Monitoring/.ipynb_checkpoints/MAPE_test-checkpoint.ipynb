{
 "cells": [
  {
   "cell_type": "code",
   "execution_count": null,
   "id": "1f27367f-18bb-469a-a693-8da653786280",
   "metadata": {
    "tags": []
   },
   "outputs": [],
   "source": [
    "#!pip install awswrangler"
   ]
  },
  {
   "cell_type": "code",
   "execution_count": 2,
   "id": "9bc19adb-45c2-4b5b-99b3-20125c8eda84",
   "metadata": {
    "tags": []
   },
   "outputs": [],
   "source": [
    "import awswrangler as wr\n",
    "import pandas as pd"
   ]
  },
  {
   "cell_type": "code",
   "execution_count": 3,
   "id": "bbb2e174-1749-411c-bd81-7ba4087a1771",
   "metadata": {
    "tags": []
   },
   "outputs": [],
   "source": [
    "# DB Setting\n",
    "bucket_name = 's3://viamericas-datalake-dev-us-east-1-283731589572-athena/'\n",
    "origin_name = 'AwsDataCatalog'\n",
    "database_name= 'analytics'\n",
    "table_name = 'daily_check'"
   ]
  },
  {
   "cell_type": "code",
   "execution_count": 5,
   "id": "ebfbd7f2-b024-4ea6-a01d-229b53e92b87",
   "metadata": {
    "tags": []
   },
   "outputs": [],
   "source": [
    "# Read data from Athena\n",
    "# df_daily_check = wr.athena.read_sql_query(\n",
    "#     f'SELECT * FROM {origin_name}.{database_name}.{table_name};',\n",
    "#     database=database_name\n",
    "# )\n"
   ]
  },
  {
   "cell_type": "code",
   "execution_count": 6,
   "id": "7076b249-a0d5-4857-9d57-45aa2abd7547",
   "metadata": {},
   "outputs": [],
   "source": [
    "df_daily_check = pd.read_excel(\"daily_check.xlsx\")"
   ]
  },
  {
   "cell_type": "code",
   "execution_count": 35,
   "id": "072ccb6f-c7d2-4eb0-9158-e8023b3f2504",
   "metadata": {
    "tags": []
   },
   "outputs": [],
   "source": [
    "# Convertir todos los nombres de columna a minúsculas\n",
    "df_daily_check.columns = df_daily_check.columns.str.lower()"
   ]
  },
  {
   "cell_type": "code",
   "execution_count": 7,
   "id": "ecab8b35-ca79-416d-ae99-6f5ff93bb4cd",
   "metadata": {
    "tags": []
   },
   "outputs": [],
   "source": [
    "df_test = pd.read_csv(\"df_train_prueba2.csv\")"
   ]
  },
  {
   "cell_type": "code",
   "execution_count": 8,
   "id": "bc63891c-3c4a-4d79-a37d-59eac2c2e229",
   "metadata": {
    "tags": []
   },
   "outputs": [
    {
     "data": {
      "text/html": [
       "<div>\n",
       "<style scoped>\n",
       "    .dataframe tbody tr th:only-of-type {\n",
       "        vertical-align: middle;\n",
       "    }\n",
       "\n",
       "    .dataframe tbody tr th {\n",
       "        vertical-align: top;\n",
       "    }\n",
       "\n",
       "    .dataframe thead th {\n",
       "        text-align: right;\n",
       "    }\n",
       "</style>\n",
       "<table border=\"1\" class=\"dataframe\">\n",
       "  <thead>\n",
       "    <tr style=\"text-align: right;\">\n",
       "      <th></th>\n",
       "      <th>payer_country_encoder</th>\n",
       "      <th>date</th>\n",
       "      <th>p10</th>\n",
       "      <th>p50</th>\n",
       "      <th>p90</th>\n",
       "      <th>mean</th>\n",
       "    </tr>\n",
       "  </thead>\n",
       "  <tbody>\n",
       "    <tr>\n",
       "      <th>0</th>\n",
       "      <td>107</td>\n",
       "      <td>2023-04-01</td>\n",
       "      <td>0.000000</td>\n",
       "      <td>0.000000</td>\n",
       "      <td>0.000000</td>\n",
       "      <td>16.990000</td>\n",
       "    </tr>\n",
       "    <tr>\n",
       "      <th>1</th>\n",
       "      <td>107</td>\n",
       "      <td>2023-04-02</td>\n",
       "      <td>0.000000</td>\n",
       "      <td>0.000000</td>\n",
       "      <td>0.000000</td>\n",
       "      <td>10.961600</td>\n",
       "    </tr>\n",
       "    <tr>\n",
       "      <th>2</th>\n",
       "      <td>107</td>\n",
       "      <td>2023-04-03</td>\n",
       "      <td>0.000000</td>\n",
       "      <td>0.000000</td>\n",
       "      <td>0.000000</td>\n",
       "      <td>21.780100</td>\n",
       "    </tr>\n",
       "    <tr>\n",
       "      <th>3</th>\n",
       "      <td>107</td>\n",
       "      <td>2023-04-04</td>\n",
       "      <td>0.000000</td>\n",
       "      <td>0.000000</td>\n",
       "      <td>0.000000</td>\n",
       "      <td>19.950100</td>\n",
       "    </tr>\n",
       "    <tr>\n",
       "      <th>4</th>\n",
       "      <td>107</td>\n",
       "      <td>2023-04-05</td>\n",
       "      <td>0.000000</td>\n",
       "      <td>0.000000</td>\n",
       "      <td>0.000000</td>\n",
       "      <td>18.631900</td>\n",
       "    </tr>\n",
       "    <tr>\n",
       "      <th>...</th>\n",
       "      <td>...</td>\n",
       "      <td>...</td>\n",
       "      <td>...</td>\n",
       "      <td>...</td>\n",
       "      <td>...</td>\n",
       "      <td>...</td>\n",
       "    </tr>\n",
       "    <tr>\n",
       "      <th>12995</th>\n",
       "      <td>87</td>\n",
       "      <td>2023-07-05</td>\n",
       "      <td>0.941655</td>\n",
       "      <td>3.590830</td>\n",
       "      <td>3.591170</td>\n",
       "      <td>3.590777</td>\n",
       "    </tr>\n",
       "    <tr>\n",
       "      <th>12996</th>\n",
       "      <td>87</td>\n",
       "      <td>2023-07-06</td>\n",
       "      <td>-0.074468</td>\n",
       "      <td>-0.074093</td>\n",
       "      <td>-0.073661</td>\n",
       "      <td>-0.074087</td>\n",
       "    </tr>\n",
       "    <tr>\n",
       "      <th>12997</th>\n",
       "      <td>87</td>\n",
       "      <td>2023-07-07</td>\n",
       "      <td>1.412855</td>\n",
       "      <td>3.297967</td>\n",
       "      <td>8.385165</td>\n",
       "      <td>3.297910</td>\n",
       "    </tr>\n",
       "    <tr>\n",
       "      <th>12998</th>\n",
       "      <td>87</td>\n",
       "      <td>2023-07-08</td>\n",
       "      <td>0.548698</td>\n",
       "      <td>2.109651</td>\n",
       "      <td>6.395164</td>\n",
       "      <td>2.109632</td>\n",
       "    </tr>\n",
       "    <tr>\n",
       "      <th>12999</th>\n",
       "      <td>87</td>\n",
       "      <td>2023-07-09</td>\n",
       "      <td>-1.844635</td>\n",
       "      <td>-1.844246</td>\n",
       "      <td>-0.281651</td>\n",
       "      <td>-1.844277</td>\n",
       "    </tr>\n",
       "  </tbody>\n",
       "</table>\n",
       "<p>13000 rows × 6 columns</p>\n",
       "</div>"
      ],
      "text/plain": [
       "       payer_country_encoder        date       p10       p50       p90  \\\n",
       "0                        107  2023-04-01  0.000000  0.000000  0.000000   \n",
       "1                        107  2023-04-02  0.000000  0.000000  0.000000   \n",
       "2                        107  2023-04-03  0.000000  0.000000  0.000000   \n",
       "3                        107  2023-04-04  0.000000  0.000000  0.000000   \n",
       "4                        107  2023-04-05  0.000000  0.000000  0.000000   \n",
       "...                      ...         ...       ...       ...       ...   \n",
       "12995                     87  2023-07-05  0.941655  3.590830  3.591170   \n",
       "12996                     87  2023-07-06 -0.074468 -0.074093 -0.073661   \n",
       "12997                     87  2023-07-07  1.412855  3.297967  8.385165   \n",
       "12998                     87  2023-07-08  0.548698  2.109651  6.395164   \n",
       "12999                     87  2023-07-09 -1.844635 -1.844246 -0.281651   \n",
       "\n",
       "            mean  \n",
       "0      16.990000  \n",
       "1      10.961600  \n",
       "2      21.780100  \n",
       "3      19.950100  \n",
       "4      18.631900  \n",
       "...          ...  \n",
       "12995   3.590777  \n",
       "12996  -0.074087  \n",
       "12997   3.297910  \n",
       "12998   2.109632  \n",
       "12999  -1.844277  \n",
       "\n",
       "[13000 rows x 6 columns]"
      ]
     },
     "execution_count": 8,
     "metadata": {},
     "output_type": "execute_result"
    }
   ],
   "source": [
    "df_test"
   ]
  },
  {
   "cell_type": "code",
   "execution_count": 9,
   "id": "31c83f23-a01a-4ba7-bf85-dfc852d1c5e7",
   "metadata": {
    "tags": []
   },
   "outputs": [],
   "source": [
    "# Me traigo solamente las columnas de payer_country y la del encoder para poder cruzar los datos\n",
    "df_translate = pd.read_csv(\"df_final_21_10_2023.csv\")[['payer_country','payer_country_encoder']]"
   ]
  },
  {
   "cell_type": "code",
   "execution_count": 10,
   "id": "87ba5e10-8f0f-4cbb-88aa-6ac5eca17b9b",
   "metadata": {
    "tags": []
   },
   "outputs": [],
   "source": [
    "# Me quedo con una tabla simple, con ocurrencias unicas\n",
    "df_translate = df_translate.drop_duplicates(subset='payer_country_encoder')"
   ]
  },
  {
   "cell_type": "code",
   "execution_count": 11,
   "id": "efc14c56-04ae-4d1a-81e5-8d7cbd7d2391",
   "metadata": {
    "tags": []
   },
   "outputs": [],
   "source": [
    "# Al df_test le agrego la correspondencia payer_country_encoder <> payer_country\n",
    "df_final = pd.merge(df_test, df_translate, on=['payer_country_encoder'])"
   ]
  },
  {
   "cell_type": "code",
   "execution_count": 17,
   "id": "e6fc0eae-de4f-46c4-80be-441501269cad",
   "metadata": {
    "tags": []
   },
   "outputs": [],
   "source": [
    "#Separo el nombre del pais\n",
    "df_final['country'] = df_final['payer_country'].str.split('_').str[-1]"
   ]
  },
  {
   "cell_type": "code",
   "execution_count": 30,
   "id": "10c98381-aa5e-415a-9b31-f866119aa246",
   "metadata": {
    "tags": []
   },
   "outputs": [],
   "source": [
    "df_final['date'] = pd.to_datetime(df_final['date'])"
   ]
  },
  {
   "cell_type": "code",
   "execution_count": 22,
   "id": "6cdd91ca-292a-413c-bd71-d0433275263c",
   "metadata": {
    "tags": []
   },
   "outputs": [],
   "source": [
    "df_daily_check['payer_country'] = df_daily_check['PAYER']+'_'+df_daily_check['COUNTRY']"
   ]
  },
  {
   "cell_type": "code",
   "execution_count": 40,
   "id": "707c81c3-03b4-449b-8cf3-56dfdcae5ba2",
   "metadata": {
    "tags": []
   },
   "outputs": [],
   "source": [
    "#Traigo 'amount' de la tabla de transacciones diarias 'daily_check'\n",
    "df_test = pd.merge(df_final, df_daily_check, on=['date','payer_country', 'country'], how='left')"
   ]
  },
  {
   "cell_type": "code",
   "execution_count": 43,
   "id": "f85cea9b-9255-424a-b77d-212d786ee63b",
   "metadata": {
    "tags": []
   },
   "outputs": [],
   "source": [
    "df_test.drop(['payer','tx','promedio x tx'], axis=1, inplace=True)"
   ]
  },
  {
   "cell_type": "code",
   "execution_count": 51,
   "id": "9a520c15-2344-4ea9-9f8f-be9e42bb18f4",
   "metadata": {
    "tags": []
   },
   "outputs": [],
   "source": [
    "#Elimino registros donde no tengo amount\n",
    "df_test = df_test[~df_test['amount'].isnull()]"
   ]
  },
  {
   "cell_type": "markdown",
   "id": "a79d3956-fe38-4f6a-8774-7df3b737ef30",
   "metadata": {
    "tags": []
   },
   "source": [
    "### MAPE @ MEAN"
   ]
  },
  {
   "cell_type": "code",
   "execution_count": 65,
   "id": "f433c882-526d-4e03-a36b-ddc0ff2de8a5",
   "metadata": {
    "tags": []
   },
   "outputs": [],
   "source": [
    "statistic = 'mean' # Seleccionar 'mean' o 'p50'"
   ]
  },
  {
   "cell_type": "code",
   "execution_count": 66,
   "id": "344e83e3-03fe-43b6-9edf-b095bb71f1d9",
   "metadata": {
    "tags": []
   },
   "outputs": [
    {
     "name": "stderr",
     "output_type": "stream",
     "text": [
      "/tmp/ipykernel_235/2489792592.py:2: SettingWithCopyWarning: \n",
      "A value is trying to be set on a copy of a slice from a DataFrame.\n",
      "Try using .loc[row_indexer,col_indexer] = value instead\n",
      "\n",
      "See the caveats in the documentation: https://pandas.pydata.org/pandas-docs/stable/user_guide/indexing.html#returning-a-view-versus-a-copy\n",
      "  df_test['abs_error'] = abs(df_test['amount'] - df_test[statistic])\n"
     ]
    }
   ],
   "source": [
    "#Calculo el valor absoluto de la diferencia entre 'amount' y 'mean'\n",
    "df_test['abs_error'] = abs(df_test['amount'] - df_test[statistic])"
   ]
  },
  {
   "cell_type": "code",
   "execution_count": 67,
   "id": "bd38989c-793e-49b1-9c03-bfcf4232f15c",
   "metadata": {
    "tags": []
   },
   "outputs": [
    {
     "name": "stderr",
     "output_type": "stream",
     "text": [
      "/tmp/ipykernel_235/3343100272.py:2: SettingWithCopyWarning: \n",
      "A value is trying to be set on a copy of a slice from a DataFrame.\n",
      "Try using .loc[row_indexer,col_indexer] = value instead\n",
      "\n",
      "See the caveats in the documentation: https://pandas.pydata.org/pandas-docs/stable/user_guide/indexing.html#returning-a-view-versus-a-copy\n",
      "  df_test['ape'] = df_test['abs_error'] / df_test['amount']\n"
     ]
    }
   ],
   "source": [
    "#Calculo el % de error absoluto para cada fila\n",
    "df_test['ape'] = df_test['abs_error'] / df_test['amount']"
   ]
  },
  {
   "cell_type": "code",
   "execution_count": 68,
   "id": "7d7b15d4-4e82-40a6-a92b-075c296e7825",
   "metadata": {
    "tags": []
   },
   "outputs": [
    {
     "data": {
      "text/html": [
       "<div>\n",
       "<style scoped>\n",
       "    .dataframe tbody tr th:only-of-type {\n",
       "        vertical-align: middle;\n",
       "    }\n",
       "\n",
       "    .dataframe tbody tr th {\n",
       "        vertical-align: top;\n",
       "    }\n",
       "\n",
       "    .dataframe thead th {\n",
       "        text-align: right;\n",
       "    }\n",
       "</style>\n",
       "<table border=\"1\" class=\"dataframe\">\n",
       "  <thead>\n",
       "    <tr style=\"text-align: right;\">\n",
       "      <th></th>\n",
       "      <th>payer_country_encoder</th>\n",
       "      <th>date</th>\n",
       "      <th>p10</th>\n",
       "      <th>p50</th>\n",
       "      <th>p90</th>\n",
       "      <th>mean</th>\n",
       "      <th>payer_country</th>\n",
       "      <th>country</th>\n",
       "      <th>amount</th>\n",
       "      <th>abs_error</th>\n",
       "      <th>ape</th>\n",
       "    </tr>\n",
       "  </thead>\n",
       "  <tbody>\n",
       "    <tr>\n",
       "      <th>10</th>\n",
       "      <td>107</td>\n",
       "      <td>2023-04-11</td>\n",
       "      <td>0.000000</td>\n",
       "      <td>0.000000</td>\n",
       "      <td>0.000000</td>\n",
       "      <td>44.082900</td>\n",
       "      <td>TRANSFERTO - THUNES_FRANCE</td>\n",
       "      <td>FRANCE</td>\n",
       "      <td>112.00</td>\n",
       "      <td>67.917100</td>\n",
       "      <td>0.606403</td>\n",
       "    </tr>\n",
       "    <tr>\n",
       "      <th>13</th>\n",
       "      <td>107</td>\n",
       "      <td>2023-04-14</td>\n",
       "      <td>0.000000</td>\n",
       "      <td>0.000000</td>\n",
       "      <td>0.000000</td>\n",
       "      <td>63.966600</td>\n",
       "      <td>TRANSFERTO - THUNES_FRANCE</td>\n",
       "      <td>FRANCE</td>\n",
       "      <td>1111.11</td>\n",
       "      <td>1047.143400</td>\n",
       "      <td>0.942430</td>\n",
       "    </tr>\n",
       "    <tr>\n",
       "      <th>14</th>\n",
       "      <td>107</td>\n",
       "      <td>2023-04-15</td>\n",
       "      <td>0.000000</td>\n",
       "      <td>0.000000</td>\n",
       "      <td>0.000000</td>\n",
       "      <td>38.030000</td>\n",
       "      <td>TRANSFERTO - THUNES_FRANCE</td>\n",
       "      <td>FRANCE</td>\n",
       "      <td>100.00</td>\n",
       "      <td>61.970000</td>\n",
       "      <td>0.619700</td>\n",
       "    </tr>\n",
       "    <tr>\n",
       "      <th>19</th>\n",
       "      <td>107</td>\n",
       "      <td>2023-04-20</td>\n",
       "      <td>0.000000</td>\n",
       "      <td>0.000000</td>\n",
       "      <td>0.000000</td>\n",
       "      <td>6.620000</td>\n",
       "      <td>TRANSFERTO - THUNES_FRANCE</td>\n",
       "      <td>FRANCE</td>\n",
       "      <td>435.00</td>\n",
       "      <td>428.380000</td>\n",
       "      <td>0.984782</td>\n",
       "    </tr>\n",
       "    <tr>\n",
       "      <th>27</th>\n",
       "      <td>107</td>\n",
       "      <td>2023-04-28</td>\n",
       "      <td>0.000000</td>\n",
       "      <td>0.000000</td>\n",
       "      <td>0.000000</td>\n",
       "      <td>51.785100</td>\n",
       "      <td>TRANSFERTO - THUNES_FRANCE</td>\n",
       "      <td>FRANCE</td>\n",
       "      <td>212.00</td>\n",
       "      <td>160.214900</td>\n",
       "      <td>0.755731</td>\n",
       "    </tr>\n",
       "    <tr>\n",
       "      <th>...</th>\n",
       "      <td>...</td>\n",
       "      <td>...</td>\n",
       "      <td>...</td>\n",
       "      <td>...</td>\n",
       "      <td>...</td>\n",
       "      <td>...</td>\n",
       "      <td>...</td>\n",
       "      <td>...</td>\n",
       "      <td>...</td>\n",
       "      <td>...</td>\n",
       "      <td>...</td>\n",
       "    </tr>\n",
       "    <tr>\n",
       "      <th>12984</th>\n",
       "      <td>87</td>\n",
       "      <td>2023-06-24</td>\n",
       "      <td>0.665559</td>\n",
       "      <td>0.665945</td>\n",
       "      <td>1.452106</td>\n",
       "      <td>0.665919</td>\n",
       "      <td>NAFA_BURKINA FASO</td>\n",
       "      <td>BURKINA FASO</td>\n",
       "      <td>35.00</td>\n",
       "      <td>34.334081</td>\n",
       "      <td>0.980974</td>\n",
       "    </tr>\n",
       "    <tr>\n",
       "      <th>12985</th>\n",
       "      <td>87</td>\n",
       "      <td>2023-06-25</td>\n",
       "      <td>-0.261174</td>\n",
       "      <td>-0.260778</td>\n",
       "      <td>-0.260419</td>\n",
       "      <td>-0.260815</td>\n",
       "      <td>NAFA_BURKINA FASO</td>\n",
       "      <td>BURKINA FASO</td>\n",
       "      <td>768.00</td>\n",
       "      <td>768.260815</td>\n",
       "      <td>1.000340</td>\n",
       "    </tr>\n",
       "    <tr>\n",
       "      <th>12986</th>\n",
       "      <td>87</td>\n",
       "      <td>2023-06-26</td>\n",
       "      <td>0.083403</td>\n",
       "      <td>0.083696</td>\n",
       "      <td>1.334154</td>\n",
       "      <td>0.083736</td>\n",
       "      <td>NAFA_BURKINA FASO</td>\n",
       "      <td>BURKINA FASO</td>\n",
       "      <td>500.00</td>\n",
       "      <td>499.916264</td>\n",
       "      <td>0.999833</td>\n",
       "    </tr>\n",
       "    <tr>\n",
       "      <th>12987</th>\n",
       "      <td>87</td>\n",
       "      <td>2023-06-27</td>\n",
       "      <td>-0.016757</td>\n",
       "      <td>-0.016322</td>\n",
       "      <td>-0.015828</td>\n",
       "      <td>-0.016322</td>\n",
       "      <td>NAFA_BURKINA FASO</td>\n",
       "      <td>BURKINA FASO</td>\n",
       "      <td>1617.00</td>\n",
       "      <td>1617.016322</td>\n",
       "      <td>1.000010</td>\n",
       "    </tr>\n",
       "    <tr>\n",
       "      <th>12992</th>\n",
       "      <td>87</td>\n",
       "      <td>2023-07-02</td>\n",
       "      <td>-0.896492</td>\n",
       "      <td>-0.122683</td>\n",
       "      <td>-0.122177</td>\n",
       "      <td>-0.122604</td>\n",
       "      <td>NAFA_BURKINA FASO</td>\n",
       "      <td>BURKINA FASO</td>\n",
       "      <td>82.50</td>\n",
       "      <td>82.622604</td>\n",
       "      <td>1.001486</td>\n",
       "    </tr>\n",
       "  </tbody>\n",
       "</table>\n",
       "<p>10322 rows × 11 columns</p>\n",
       "</div>"
      ],
      "text/plain": [
       "       payer_country_encoder       date       p10       p50       p90  \\\n",
       "10                       107 2023-04-11  0.000000  0.000000  0.000000   \n",
       "13                       107 2023-04-14  0.000000  0.000000  0.000000   \n",
       "14                       107 2023-04-15  0.000000  0.000000  0.000000   \n",
       "19                       107 2023-04-20  0.000000  0.000000  0.000000   \n",
       "27                       107 2023-04-28  0.000000  0.000000  0.000000   \n",
       "...                      ...        ...       ...       ...       ...   \n",
       "12984                     87 2023-06-24  0.665559  0.665945  1.452106   \n",
       "12985                     87 2023-06-25 -0.261174 -0.260778 -0.260419   \n",
       "12986                     87 2023-06-26  0.083403  0.083696  1.334154   \n",
       "12987                     87 2023-06-27 -0.016757 -0.016322 -0.015828   \n",
       "12992                     87 2023-07-02 -0.896492 -0.122683 -0.122177   \n",
       "\n",
       "            mean               payer_country       country   amount  \\\n",
       "10     44.082900  TRANSFERTO - THUNES_FRANCE        FRANCE   112.00   \n",
       "13     63.966600  TRANSFERTO - THUNES_FRANCE        FRANCE  1111.11   \n",
       "14     38.030000  TRANSFERTO - THUNES_FRANCE        FRANCE   100.00   \n",
       "19      6.620000  TRANSFERTO - THUNES_FRANCE        FRANCE   435.00   \n",
       "27     51.785100  TRANSFERTO - THUNES_FRANCE        FRANCE   212.00   \n",
       "...          ...                         ...           ...      ...   \n",
       "12984   0.665919           NAFA_BURKINA FASO  BURKINA FASO    35.00   \n",
       "12985  -0.260815           NAFA_BURKINA FASO  BURKINA FASO   768.00   \n",
       "12986   0.083736           NAFA_BURKINA FASO  BURKINA FASO   500.00   \n",
       "12987  -0.016322           NAFA_BURKINA FASO  BURKINA FASO  1617.00   \n",
       "12992  -0.122604           NAFA_BURKINA FASO  BURKINA FASO    82.50   \n",
       "\n",
       "         abs_error       ape  \n",
       "10       67.917100  0.606403  \n",
       "13     1047.143400  0.942430  \n",
       "14       61.970000  0.619700  \n",
       "19      428.380000  0.984782  \n",
       "27      160.214900  0.755731  \n",
       "...            ...       ...  \n",
       "12984    34.334081  0.980974  \n",
       "12985   768.260815  1.000340  \n",
       "12986   499.916264  0.999833  \n",
       "12987  1617.016322  1.000010  \n",
       "12992    82.622604  1.001486  \n",
       "\n",
       "[10322 rows x 11 columns]"
      ]
     },
     "execution_count": 68,
     "metadata": {},
     "output_type": "execute_result"
    }
   ],
   "source": [
    "df_test"
   ]
  },
  {
   "cell_type": "code",
   "execution_count": 72,
   "id": "0cc35854-5d4b-458a-8c69-1be53ebab44f",
   "metadata": {
    "tags": []
   },
   "outputs": [
    {
     "data": {
      "text/plain": [
       "payer_country\n",
       "24XORO_MEXICO                         0.698201\n",
       "ABANK (TN)_EL SALVADOR                0.210805\n",
       "AFEX_CHILE                            0.623288\n",
       "AFEX_URUGUAY                          0.999183\n",
       "AFRO INTERNACIONAL_GUINEA             0.769198\n",
       "                                        ...   \n",
       "WALMART (UT)_MEXICO                   0.198651\n",
       "YES BANK_INDIA                        1.428390\n",
       "ZEEPAY_CAMEROON                       0.791684\n",
       "ZEEPAY_COTE D'IVOIRE (IVORY COAST)    1.076883\n",
       "ZEEPAY_GHANA                          0.541112\n",
       "Name: ape, Length: 129, dtype: float64"
      ]
     },
     "execution_count": 72,
     "metadata": {},
     "output_type": "execute_result"
    }
   ],
   "source": [
    "#Calculo el MAPE por payer_country\n",
    "mape_payer_country = df_test.groupby('payer_country')['ape'].mean()\n",
    "mape_payer_country"
   ]
  },
  {
   "cell_type": "code",
   "execution_count": 73,
   "id": "f94e9dec-620a-4e37-bb60-9183a1b606b6",
   "metadata": {
    "tags": []
   },
   "outputs": [
    {
     "data": {
      "text/plain": [
       "country\n",
       "ARGENTINA                          1.274578\n",
       "BANGLADESH                        13.757700\n",
       "BELGIUM                            1.006457\n",
       "BENIN                              0.773881\n",
       "BOLIVIA                            0.914136\n",
       "BRAZIL                             0.309306\n",
       "BURKINA FASO                       1.109504\n",
       "CAMEROON                           0.779132\n",
       "CHILE                              0.683522\n",
       "COLOMBIA                           0.240219\n",
       "COSTA RICA                         0.437535\n",
       "COTE D'IVOIRE (IVORY COAST)        1.018268\n",
       "DOMINICAN REPUBLIC                 0.281745\n",
       "ECUADOR                            0.399328\n",
       "EL SALVADOR                        0.178268\n",
       "FRANCE                             0.797722\n",
       "GAMBIA, THE                        2.790913\n",
       "GERMANY                            0.917716\n",
       "GHANA                              0.541112\n",
       "GUATEMALA                          1.657907\n",
       "GUINEA                             1.039014\n",
       "HAITI                              0.184892\n",
       "HONDURAS                           0.393885\n",
       "INDIA                              1.428390\n",
       "INDONESIA                          0.694144\n",
       "ITALY                              0.861120\n",
       "JAMAICA                            0.944782\n",
       "LIBERIA                            0.789767\n",
       "MALAYSIA                           0.827118\n",
       "MALI                               0.967904\n",
       "MEXICO                             0.249565\n",
       "NEPAL                              0.941986\n",
       "NICARAGUA                          0.294790\n",
       "NIGERIA                            1.104053\n",
       "PERU                               0.311565\n",
       "PHILIPPINES                        0.640904\n",
       "PORTUGAL                           0.942267\n",
       "SENEGAL                            0.999833\n",
       "SIERRA LEONE                       0.446985\n",
       "SPAIN                              0.896116\n",
       "THAILAND                           0.730314\n",
       "TOGO                               1.090769\n",
       "UNITED KINGDOM                     0.821345\n",
       "UNITED STATES                      0.359621\n",
       "UNITED STATES (ATM & DEPOSITS)     0.849385\n",
       "URUGUAY                            0.999183\n",
       "Name: ape, dtype: float64"
      ]
     },
     "execution_count": 73,
     "metadata": {},
     "output_type": "execute_result"
    }
   ],
   "source": [
    "#Calculo el MAPE por country\n",
    "mape_country = df_test.groupby('country')['ape'].mean()\n",
    "mape_country"
   ]
  },
  {
   "cell_type": "code",
   "execution_count": null,
   "id": "3dee220b-6bab-4bad-b504-97bf0a650f49",
   "metadata": {},
   "outputs": [],
   "source": []
  }
 ],
 "metadata": {
  "availableInstances": [
   {
    "_defaultOrder": 0,
    "_isFastLaunch": true,
    "category": "General purpose",
    "gpuNum": 0,
    "hideHardwareSpecs": false,
    "memoryGiB": 4,
    "name": "ml.t3.medium",
    "vcpuNum": 2
   },
   {
    "_defaultOrder": 1,
    "_isFastLaunch": false,
    "category": "General purpose",
    "gpuNum": 0,
    "hideHardwareSpecs": false,
    "memoryGiB": 8,
    "name": "ml.t3.large",
    "vcpuNum": 2
   },
   {
    "_defaultOrder": 2,
    "_isFastLaunch": false,
    "category": "General purpose",
    "gpuNum": 0,
    "hideHardwareSpecs": false,
    "memoryGiB": 16,
    "name": "ml.t3.xlarge",
    "vcpuNum": 4
   },
   {
    "_defaultOrder": 3,
    "_isFastLaunch": false,
    "category": "General purpose",
    "gpuNum": 0,
    "hideHardwareSpecs": false,
    "memoryGiB": 32,
    "name": "ml.t3.2xlarge",
    "vcpuNum": 8
   },
   {
    "_defaultOrder": 4,
    "_isFastLaunch": true,
    "category": "General purpose",
    "gpuNum": 0,
    "hideHardwareSpecs": false,
    "memoryGiB": 8,
    "name": "ml.m5.large",
    "vcpuNum": 2
   },
   {
    "_defaultOrder": 5,
    "_isFastLaunch": false,
    "category": "General purpose",
    "gpuNum": 0,
    "hideHardwareSpecs": false,
    "memoryGiB": 16,
    "name": "ml.m5.xlarge",
    "vcpuNum": 4
   },
   {
    "_defaultOrder": 6,
    "_isFastLaunch": false,
    "category": "General purpose",
    "gpuNum": 0,
    "hideHardwareSpecs": false,
    "memoryGiB": 32,
    "name": "ml.m5.2xlarge",
    "vcpuNum": 8
   },
   {
    "_defaultOrder": 7,
    "_isFastLaunch": false,
    "category": "General purpose",
    "gpuNum": 0,
    "hideHardwareSpecs": false,
    "memoryGiB": 64,
    "name": "ml.m5.4xlarge",
    "vcpuNum": 16
   },
   {
    "_defaultOrder": 8,
    "_isFastLaunch": false,
    "category": "General purpose",
    "gpuNum": 0,
    "hideHardwareSpecs": false,
    "memoryGiB": 128,
    "name": "ml.m5.8xlarge",
    "vcpuNum": 32
   },
   {
    "_defaultOrder": 9,
    "_isFastLaunch": false,
    "category": "General purpose",
    "gpuNum": 0,
    "hideHardwareSpecs": false,
    "memoryGiB": 192,
    "name": "ml.m5.12xlarge",
    "vcpuNum": 48
   },
   {
    "_defaultOrder": 10,
    "_isFastLaunch": false,
    "category": "General purpose",
    "gpuNum": 0,
    "hideHardwareSpecs": false,
    "memoryGiB": 256,
    "name": "ml.m5.16xlarge",
    "vcpuNum": 64
   },
   {
    "_defaultOrder": 11,
    "_isFastLaunch": false,
    "category": "General purpose",
    "gpuNum": 0,
    "hideHardwareSpecs": false,
    "memoryGiB": 384,
    "name": "ml.m5.24xlarge",
    "vcpuNum": 96
   },
   {
    "_defaultOrder": 12,
    "_isFastLaunch": false,
    "category": "General purpose",
    "gpuNum": 0,
    "hideHardwareSpecs": false,
    "memoryGiB": 8,
    "name": "ml.m5d.large",
    "vcpuNum": 2
   },
   {
    "_defaultOrder": 13,
    "_isFastLaunch": false,
    "category": "General purpose",
    "gpuNum": 0,
    "hideHardwareSpecs": false,
    "memoryGiB": 16,
    "name": "ml.m5d.xlarge",
    "vcpuNum": 4
   },
   {
    "_defaultOrder": 14,
    "_isFastLaunch": false,
    "category": "General purpose",
    "gpuNum": 0,
    "hideHardwareSpecs": false,
    "memoryGiB": 32,
    "name": "ml.m5d.2xlarge",
    "vcpuNum": 8
   },
   {
    "_defaultOrder": 15,
    "_isFastLaunch": false,
    "category": "General purpose",
    "gpuNum": 0,
    "hideHardwareSpecs": false,
    "memoryGiB": 64,
    "name": "ml.m5d.4xlarge",
    "vcpuNum": 16
   },
   {
    "_defaultOrder": 16,
    "_isFastLaunch": false,
    "category": "General purpose",
    "gpuNum": 0,
    "hideHardwareSpecs": false,
    "memoryGiB": 128,
    "name": "ml.m5d.8xlarge",
    "vcpuNum": 32
   },
   {
    "_defaultOrder": 17,
    "_isFastLaunch": false,
    "category": "General purpose",
    "gpuNum": 0,
    "hideHardwareSpecs": false,
    "memoryGiB": 192,
    "name": "ml.m5d.12xlarge",
    "vcpuNum": 48
   },
   {
    "_defaultOrder": 18,
    "_isFastLaunch": false,
    "category": "General purpose",
    "gpuNum": 0,
    "hideHardwareSpecs": false,
    "memoryGiB": 256,
    "name": "ml.m5d.16xlarge",
    "vcpuNum": 64
   },
   {
    "_defaultOrder": 19,
    "_isFastLaunch": false,
    "category": "General purpose",
    "gpuNum": 0,
    "hideHardwareSpecs": false,
    "memoryGiB": 384,
    "name": "ml.m5d.24xlarge",
    "vcpuNum": 96
   },
   {
    "_defaultOrder": 20,
    "_isFastLaunch": false,
    "category": "General purpose",
    "gpuNum": 0,
    "hideHardwareSpecs": true,
    "memoryGiB": 0,
    "name": "ml.geospatial.interactive",
    "supportedImageNames": [
     "sagemaker-geospatial-v1-0"
    ],
    "vcpuNum": 0
   },
   {
    "_defaultOrder": 21,
    "_isFastLaunch": true,
    "category": "Compute optimized",
    "gpuNum": 0,
    "hideHardwareSpecs": false,
    "memoryGiB": 4,
    "name": "ml.c5.large",
    "vcpuNum": 2
   },
   {
    "_defaultOrder": 22,
    "_isFastLaunch": false,
    "category": "Compute optimized",
    "gpuNum": 0,
    "hideHardwareSpecs": false,
    "memoryGiB": 8,
    "name": "ml.c5.xlarge",
    "vcpuNum": 4
   },
   {
    "_defaultOrder": 23,
    "_isFastLaunch": false,
    "category": "Compute optimized",
    "gpuNum": 0,
    "hideHardwareSpecs": false,
    "memoryGiB": 16,
    "name": "ml.c5.2xlarge",
    "vcpuNum": 8
   },
   {
    "_defaultOrder": 24,
    "_isFastLaunch": false,
    "category": "Compute optimized",
    "gpuNum": 0,
    "hideHardwareSpecs": false,
    "memoryGiB": 32,
    "name": "ml.c5.4xlarge",
    "vcpuNum": 16
   },
   {
    "_defaultOrder": 25,
    "_isFastLaunch": false,
    "category": "Compute optimized",
    "gpuNum": 0,
    "hideHardwareSpecs": false,
    "memoryGiB": 72,
    "name": "ml.c5.9xlarge",
    "vcpuNum": 36
   },
   {
    "_defaultOrder": 26,
    "_isFastLaunch": false,
    "category": "Compute optimized",
    "gpuNum": 0,
    "hideHardwareSpecs": false,
    "memoryGiB": 96,
    "name": "ml.c5.12xlarge",
    "vcpuNum": 48
   },
   {
    "_defaultOrder": 27,
    "_isFastLaunch": false,
    "category": "Compute optimized",
    "gpuNum": 0,
    "hideHardwareSpecs": false,
    "memoryGiB": 144,
    "name": "ml.c5.18xlarge",
    "vcpuNum": 72
   },
   {
    "_defaultOrder": 28,
    "_isFastLaunch": false,
    "category": "Compute optimized",
    "gpuNum": 0,
    "hideHardwareSpecs": false,
    "memoryGiB": 192,
    "name": "ml.c5.24xlarge",
    "vcpuNum": 96
   },
   {
    "_defaultOrder": 29,
    "_isFastLaunch": true,
    "category": "Accelerated computing",
    "gpuNum": 1,
    "hideHardwareSpecs": false,
    "memoryGiB": 16,
    "name": "ml.g4dn.xlarge",
    "vcpuNum": 4
   },
   {
    "_defaultOrder": 30,
    "_isFastLaunch": false,
    "category": "Accelerated computing",
    "gpuNum": 1,
    "hideHardwareSpecs": false,
    "memoryGiB": 32,
    "name": "ml.g4dn.2xlarge",
    "vcpuNum": 8
   },
   {
    "_defaultOrder": 31,
    "_isFastLaunch": false,
    "category": "Accelerated computing",
    "gpuNum": 1,
    "hideHardwareSpecs": false,
    "memoryGiB": 64,
    "name": "ml.g4dn.4xlarge",
    "vcpuNum": 16
   },
   {
    "_defaultOrder": 32,
    "_isFastLaunch": false,
    "category": "Accelerated computing",
    "gpuNum": 1,
    "hideHardwareSpecs": false,
    "memoryGiB": 128,
    "name": "ml.g4dn.8xlarge",
    "vcpuNum": 32
   },
   {
    "_defaultOrder": 33,
    "_isFastLaunch": false,
    "category": "Accelerated computing",
    "gpuNum": 4,
    "hideHardwareSpecs": false,
    "memoryGiB": 192,
    "name": "ml.g4dn.12xlarge",
    "vcpuNum": 48
   },
   {
    "_defaultOrder": 34,
    "_isFastLaunch": false,
    "category": "Accelerated computing",
    "gpuNum": 1,
    "hideHardwareSpecs": false,
    "memoryGiB": 256,
    "name": "ml.g4dn.16xlarge",
    "vcpuNum": 64
   },
   {
    "_defaultOrder": 35,
    "_isFastLaunch": false,
    "category": "Accelerated computing",
    "gpuNum": 1,
    "hideHardwareSpecs": false,
    "memoryGiB": 61,
    "name": "ml.p3.2xlarge",
    "vcpuNum": 8
   },
   {
    "_defaultOrder": 36,
    "_isFastLaunch": false,
    "category": "Accelerated computing",
    "gpuNum": 4,
    "hideHardwareSpecs": false,
    "memoryGiB": 244,
    "name": "ml.p3.8xlarge",
    "vcpuNum": 32
   },
   {
    "_defaultOrder": 37,
    "_isFastLaunch": false,
    "category": "Accelerated computing",
    "gpuNum": 8,
    "hideHardwareSpecs": false,
    "memoryGiB": 488,
    "name": "ml.p3.16xlarge",
    "vcpuNum": 64
   },
   {
    "_defaultOrder": 38,
    "_isFastLaunch": false,
    "category": "Accelerated computing",
    "gpuNum": 8,
    "hideHardwareSpecs": false,
    "memoryGiB": 768,
    "name": "ml.p3dn.24xlarge",
    "vcpuNum": 96
   },
   {
    "_defaultOrder": 39,
    "_isFastLaunch": false,
    "category": "Memory Optimized",
    "gpuNum": 0,
    "hideHardwareSpecs": false,
    "memoryGiB": 16,
    "name": "ml.r5.large",
    "vcpuNum": 2
   },
   {
    "_defaultOrder": 40,
    "_isFastLaunch": false,
    "category": "Memory Optimized",
    "gpuNum": 0,
    "hideHardwareSpecs": false,
    "memoryGiB": 32,
    "name": "ml.r5.xlarge",
    "vcpuNum": 4
   },
   {
    "_defaultOrder": 41,
    "_isFastLaunch": false,
    "category": "Memory Optimized",
    "gpuNum": 0,
    "hideHardwareSpecs": false,
    "memoryGiB": 64,
    "name": "ml.r5.2xlarge",
    "vcpuNum": 8
   },
   {
    "_defaultOrder": 42,
    "_isFastLaunch": false,
    "category": "Memory Optimized",
    "gpuNum": 0,
    "hideHardwareSpecs": false,
    "memoryGiB": 128,
    "name": "ml.r5.4xlarge",
    "vcpuNum": 16
   },
   {
    "_defaultOrder": 43,
    "_isFastLaunch": false,
    "category": "Memory Optimized",
    "gpuNum": 0,
    "hideHardwareSpecs": false,
    "memoryGiB": 256,
    "name": "ml.r5.8xlarge",
    "vcpuNum": 32
   },
   {
    "_defaultOrder": 44,
    "_isFastLaunch": false,
    "category": "Memory Optimized",
    "gpuNum": 0,
    "hideHardwareSpecs": false,
    "memoryGiB": 384,
    "name": "ml.r5.12xlarge",
    "vcpuNum": 48
   },
   {
    "_defaultOrder": 45,
    "_isFastLaunch": false,
    "category": "Memory Optimized",
    "gpuNum": 0,
    "hideHardwareSpecs": false,
    "memoryGiB": 512,
    "name": "ml.r5.16xlarge",
    "vcpuNum": 64
   },
   {
    "_defaultOrder": 46,
    "_isFastLaunch": false,
    "category": "Memory Optimized",
    "gpuNum": 0,
    "hideHardwareSpecs": false,
    "memoryGiB": 768,
    "name": "ml.r5.24xlarge",
    "vcpuNum": 96
   },
   {
    "_defaultOrder": 47,
    "_isFastLaunch": false,
    "category": "Accelerated computing",
    "gpuNum": 1,
    "hideHardwareSpecs": false,
    "memoryGiB": 16,
    "name": "ml.g5.xlarge",
    "vcpuNum": 4
   },
   {
    "_defaultOrder": 48,
    "_isFastLaunch": false,
    "category": "Accelerated computing",
    "gpuNum": 1,
    "hideHardwareSpecs": false,
    "memoryGiB": 32,
    "name": "ml.g5.2xlarge",
    "vcpuNum": 8
   },
   {
    "_defaultOrder": 49,
    "_isFastLaunch": false,
    "category": "Accelerated computing",
    "gpuNum": 1,
    "hideHardwareSpecs": false,
    "memoryGiB": 64,
    "name": "ml.g5.4xlarge",
    "vcpuNum": 16
   },
   {
    "_defaultOrder": 50,
    "_isFastLaunch": false,
    "category": "Accelerated computing",
    "gpuNum": 1,
    "hideHardwareSpecs": false,
    "memoryGiB": 128,
    "name": "ml.g5.8xlarge",
    "vcpuNum": 32
   },
   {
    "_defaultOrder": 51,
    "_isFastLaunch": false,
    "category": "Accelerated computing",
    "gpuNum": 1,
    "hideHardwareSpecs": false,
    "memoryGiB": 256,
    "name": "ml.g5.16xlarge",
    "vcpuNum": 64
   },
   {
    "_defaultOrder": 52,
    "_isFastLaunch": false,
    "category": "Accelerated computing",
    "gpuNum": 4,
    "hideHardwareSpecs": false,
    "memoryGiB": 192,
    "name": "ml.g5.12xlarge",
    "vcpuNum": 48
   },
   {
    "_defaultOrder": 53,
    "_isFastLaunch": false,
    "category": "Accelerated computing",
    "gpuNum": 4,
    "hideHardwareSpecs": false,
    "memoryGiB": 384,
    "name": "ml.g5.24xlarge",
    "vcpuNum": 96
   },
   {
    "_defaultOrder": 54,
    "_isFastLaunch": false,
    "category": "Accelerated computing",
    "gpuNum": 8,
    "hideHardwareSpecs": false,
    "memoryGiB": 768,
    "name": "ml.g5.48xlarge",
    "vcpuNum": 192
   },
   {
    "_defaultOrder": 55,
    "_isFastLaunch": false,
    "category": "Accelerated computing",
    "gpuNum": 8,
    "hideHardwareSpecs": false,
    "memoryGiB": 1152,
    "name": "ml.p4d.24xlarge",
    "vcpuNum": 96
   },
   {
    "_defaultOrder": 56,
    "_isFastLaunch": false,
    "category": "Accelerated computing",
    "gpuNum": 8,
    "hideHardwareSpecs": false,
    "memoryGiB": 1152,
    "name": "ml.p4de.24xlarge",
    "vcpuNum": 96
   },
   {
    "_defaultOrder": 57,
    "_isFastLaunch": false,
    "category": "Accelerated computing",
    "gpuNum": 0,
    "hideHardwareSpecs": false,
    "memoryGiB": 32,
    "name": "ml.trn1.2xlarge",
    "vcpuNum": 8
   },
   {
    "_defaultOrder": 58,
    "_isFastLaunch": false,
    "category": "Accelerated computing",
    "gpuNum": 0,
    "hideHardwareSpecs": false,
    "memoryGiB": 512,
    "name": "ml.trn1.32xlarge",
    "vcpuNum": 128
   },
   {
    "_defaultOrder": 59,
    "_isFastLaunch": false,
    "category": "Accelerated computing",
    "gpuNum": 0,
    "hideHardwareSpecs": false,
    "memoryGiB": 512,
    "name": "ml.trn1n.32xlarge",
    "vcpuNum": 128
   }
  ],
  "instance_type": "ml.t3.medium",
  "kernelspec": {
   "display_name": "Python 3 (Data Science 3.0)",
   "language": "python",
   "name": "python3__SAGEMAKER_INTERNAL__arn:aws:sagemaker:us-east-1:081325390199:image/sagemaker-data-science-310-v1"
  },
  "language_info": {
   "codemirror_mode": {
    "name": "ipython",
    "version": 3
   },
   "file_extension": ".py",
   "mimetype": "text/x-python",
   "name": "python",
   "nbconvert_exporter": "python",
   "pygments_lexer": "ipython3",
   "version": "3.10.6"
  }
 },
 "nbformat": 4,
 "nbformat_minor": 5
}
