{
 "cells": [
  {
   "cell_type": "code",
   "execution_count": 2,
   "id": "7f9adf09-12b8-4852-892d-2431b0f36436",
   "metadata": {
    "tags": []
   },
   "outputs": [],
   "source": [
    "import boto3"
   ]
  },
  {
   "cell_type": "code",
   "execution_count": 3,
   "id": "e9d95800-6e7d-4e62-8852-ead7f854a8f7",
   "metadata": {
    "tags": []
   },
   "outputs": [
    {
     "name": "stderr",
     "output_type": "stream",
     "text": [
      "/opt/conda/lib/python3.10/site-packages/pandas/core/computation/expressions.py:21: UserWarning: Pandas requires version '2.8.4' or newer of 'numexpr' (version '2.8.3' currently installed).\n",
      "  from pandas.core.computation.check import NUMEXPR_INSTALLED\n",
      "/opt/conda/lib/python3.10/site-packages/pandas/core/arrays/masked.py:60: UserWarning: Pandas requires version '1.3.6' or newer of 'bottleneck' (version '1.3.5' currently installed).\n",
      "  from pandas.core import (\n"
     ]
    }
   ],
   "source": [
    "import pandas as pd\n",
    "from io import StringIO"
   ]
  },
  {
   "cell_type": "code",
   "execution_count": 4,
   "id": "357ca849-ce7d-4502-aac1-b773abbe627f",
   "metadata": {
    "tags": []
   },
   "outputs": [],
   "source": [
    "forecast_list =  ['experiment2_14lags_20_12_2021_2d', 'experiment3_14lags_29_12_2021_2d', \n",
    "                  'experiment4_14lags_20_03_2023_2d', 'experiment3_14lags_05_05_2023_2d',\n",
    "                  'experiment5_14lags_10_09_2023_2d', 'experiment6_14lags_25_11_2023_2d']"
   ]
  },
  {
   "cell_type": "code",
   "execution_count": 5,
   "id": "ddc4bd7a-3cca-41fd-b423-7ef3c1dc7ad1",
   "metadata": {
    "tags": []
   },
   "outputs": [],
   "source": [
    "# Bucket name and common prefix\n",
    "bucket_forecast = 'viamericas-datalake-dev-us-east-1-283731589572-analytics'\n",
    "common_path = 'Forecast/Forecast_analysis/forecast_2d/'"
   ]
  },
  {
   "cell_type": "code",
   "execution_count": 6,
   "id": "feab8ae8-0475-4578-8bf5-a072ba223058",
   "metadata": {
    "tags": []
   },
   "outputs": [],
   "source": [
    "# Inicializar el cliente de S3\n",
    "client = boto3.client('s3')"
   ]
  },
  {
   "cell_type": "code",
   "execution_count": 7,
   "id": "b4643fac-f9ed-4e0f-97f5-2fcbac29cd99",
   "metadata": {
    "tags": []
   },
   "outputs": [],
   "source": [
    "# Initialize a list to store DataFrames\n",
    "dfs = []"
   ]
  },
  {
   "cell_type": "code",
   "execution_count": 138,
   "id": "c9e51f5a-a933-46fc-830f-fb1d55684409",
   "metadata": {
    "tags": []
   },
   "outputs": [
    {
     "name": "stdout",
     "output_type": "stream",
     "text": [
      "experiment2_14lags_20_12_2021_2d\n",
      "experiment3_14lags_29_12_2021_2d\n",
      "experiment4_14lags_20_03_2023_2d\n",
      "experiment3_14lags_05_05_2023_2d\n",
      "experiment5_14lags_10_09_2023_2d\n",
      "experiment6_14lags_25_11_2023_2d\n"
     ]
    }
   ],
   "source": [
    "# Iterar sobre cada nombre en la lista forecast_list\n",
    "for forecast_item in forecast_list:\n",
    "    print(forecast_item)\n",
    "    # Listar objetos en el bucket que comiencen con el nombre específico\n",
    "    elements = client.list_objects(Bucket=bucket_forecast, Prefix=common_path)\n",
    "\n",
    "    # Inicializar un DataFrame vacío para este grupo\n",
    "    group_df = pd.DataFrame()\n",
    "\n",
    "    # Iterar sobre cada objeto en la carpeta\n",
    "    for obj in elements.get('Contents', []):\n",
    "        # Verificar si el objeto es un archivo CSV\n",
    "        if obj['Key'].endswith('.csv'):\n",
    "            # Leer contenido CSV desde S3\n",
    "            response = client.get_object(Bucket=bucket_forecast, Key=obj['Key'])\n",
    "            csv_content = response['Body'].read().decode('utf-8')\n",
    "\n",
    "            # Transformar contenido CSV a DataFrame\n",
    "            df = pd.read_csv(StringIO(csv_content))\n",
    "            \n",
    "            # Agregar columna adicional para identificar el grupo\n",
    "            df['group_id'] = forecast_item\n",
    "            \n",
    "    # Concatenar este DataFrame al DataFrame del grupo\n",
    "    group_df = pd.concat([group_df, df], ignore_index=True)"
   ]
  },
  {
   "cell_type": "code",
   "execution_count": 139,
   "id": "741fbcac-75cc-4002-9b76-7709585644ea",
   "metadata": {
    "tags": []
   },
   "outputs": [],
   "source": [
    "# Unir todos los DataFrames en uno solo\n",
    "final_df = pd.concat(dfs, ignore_index=True)"
   ]
  },
  {
   "cell_type": "code",
   "execution_count": 140,
   "id": "d09136f9-d5fb-409e-aebd-9a6d85628a60",
   "metadata": {
    "tags": []
   },
   "outputs": [
    {
     "data": {
      "text/html": [
       "<div>\n",
       "<style scoped>\n",
       "    .dataframe tbody tr th:only-of-type {\n",
       "        vertical-align: middle;\n",
       "    }\n",
       "\n",
       "    .dataframe tbody tr th {\n",
       "        vertical-align: top;\n",
       "    }\n",
       "\n",
       "    .dataframe thead th {\n",
       "        text-align: right;\n",
       "    }\n",
       "</style>\n",
       "<table border=\"1\" class=\"dataframe\">\n",
       "  <thead>\n",
       "    <tr style=\"text-align: right;\">\n",
       "      <th></th>\n",
       "      <th>item_id</th>\n",
       "      <th>country</th>\n",
       "      <th>payer</th>\n",
       "      <th>date</th>\n",
       "      <th>p10</th>\n",
       "      <th>p50</th>\n",
       "      <th>p90</th>\n",
       "      <th>group_id</th>\n",
       "      <th>p5</th>\n",
       "    </tr>\n",
       "  </thead>\n",
       "  <tbody>\n",
       "    <tr>\n",
       "      <th>6676</th>\n",
       "      <td>52</td>\n",
       "      <td>mexico</td>\n",
       "      <td>elektra (mexico)</td>\n",
       "      <td>2022-11-26T00:00:00Z</td>\n",
       "      <td>6.676975e+06</td>\n",
       "      <td>7.868033e+06</td>\n",
       "      <td>9.174892e+06</td>\n",
       "      <td>experiment5_14lags_10_09_2023_2d</td>\n",
       "      <td>6.389297e+06</td>\n",
       "    </tr>\n",
       "    <tr>\n",
       "      <th>5308</th>\n",
       "      <td>52</td>\n",
       "      <td>mexico</td>\n",
       "      <td>elektra (mexico)</td>\n",
       "      <td>2022-11-26T00:00:00Z</td>\n",
       "      <td>6.676975e+06</td>\n",
       "      <td>7.868033e+06</td>\n",
       "      <td>9.174892e+06</td>\n",
       "      <td>experiment3_14lags_05_05_2023_2d</td>\n",
       "      <td>6.389297e+06</td>\n",
       "    </tr>\n",
       "    <tr>\n",
       "      <th>8044</th>\n",
       "      <td>52</td>\n",
       "      <td>mexico</td>\n",
       "      <td>elektra (mexico)</td>\n",
       "      <td>2022-11-26T00:00:00Z</td>\n",
       "      <td>6.676975e+06</td>\n",
       "      <td>7.868033e+06</td>\n",
       "      <td>9.174892e+06</td>\n",
       "      <td>experiment6_14lags_25_11_2023_2d</td>\n",
       "      <td>6.389297e+06</td>\n",
       "    </tr>\n",
       "    <tr>\n",
       "      <th>3940</th>\n",
       "      <td>52</td>\n",
       "      <td>mexico</td>\n",
       "      <td>elektra (mexico)</td>\n",
       "      <td>2022-11-26T00:00:00Z</td>\n",
       "      <td>6.676975e+06</td>\n",
       "      <td>7.868033e+06</td>\n",
       "      <td>9.174892e+06</td>\n",
       "      <td>experiment4_14lags_20_03_2023_2d</td>\n",
       "      <td>6.389297e+06</td>\n",
       "    </tr>\n",
       "    <tr>\n",
       "      <th>2572</th>\n",
       "      <td>52</td>\n",
       "      <td>mexico</td>\n",
       "      <td>elektra (mexico)</td>\n",
       "      <td>2022-11-26T00:00:00Z</td>\n",
       "      <td>6.676975e+06</td>\n",
       "      <td>7.868033e+06</td>\n",
       "      <td>9.174892e+06</td>\n",
       "      <td>experiment3_14lags_29_12_2021_2d</td>\n",
       "      <td>6.389297e+06</td>\n",
       "    </tr>\n",
       "    <tr>\n",
       "      <th>...</th>\n",
       "      <td>...</td>\n",
       "      <td>...</td>\n",
       "      <td>...</td>\n",
       "      <td>...</td>\n",
       "      <td>...</td>\n",
       "      <td>...</td>\n",
       "      <td>...</td>\n",
       "      <td>...</td>\n",
       "      <td>...</td>\n",
       "    </tr>\n",
       "    <tr>\n",
       "      <th>2405</th>\n",
       "      <td>57</td>\n",
       "      <td>mexico</td>\n",
       "      <td>elektra (mexico)</td>\n",
       "      <td>2023-09-12T00:00:00Z</td>\n",
       "      <td>6.687194e+06</td>\n",
       "      <td>7.485700e+06</td>\n",
       "      <td>8.368893e+06</td>\n",
       "      <td>experiment3_14lags_29_12_2021_2d</td>\n",
       "      <td>5.579055e+06</td>\n",
       "    </tr>\n",
       "    <tr>\n",
       "      <th>6509</th>\n",
       "      <td>57</td>\n",
       "      <td>mexico</td>\n",
       "      <td>elektra (mexico)</td>\n",
       "      <td>2023-09-12T00:00:00Z</td>\n",
       "      <td>6.687194e+06</td>\n",
       "      <td>7.485700e+06</td>\n",
       "      <td>8.368893e+06</td>\n",
       "      <td>experiment5_14lags_10_09_2023_2d</td>\n",
       "      <td>5.579055e+06</td>\n",
       "    </tr>\n",
       "    <tr>\n",
       "      <th>1037</th>\n",
       "      <td>57</td>\n",
       "      <td>mexico</td>\n",
       "      <td>elektra (mexico)</td>\n",
       "      <td>2023-09-12T00:00:00Z</td>\n",
       "      <td>6.687194e+06</td>\n",
       "      <td>7.485700e+06</td>\n",
       "      <td>8.368893e+06</td>\n",
       "      <td>experiment2_14lags_20_12_2021_2d</td>\n",
       "      <td>5.579055e+06</td>\n",
       "    </tr>\n",
       "    <tr>\n",
       "      <th>7877</th>\n",
       "      <td>57</td>\n",
       "      <td>mexico</td>\n",
       "      <td>elektra (mexico)</td>\n",
       "      <td>2023-09-12T00:00:00Z</td>\n",
       "      <td>6.687194e+06</td>\n",
       "      <td>7.485700e+06</td>\n",
       "      <td>8.368893e+06</td>\n",
       "      <td>experiment6_14lags_25_11_2023_2d</td>\n",
       "      <td>5.579055e+06</td>\n",
       "    </tr>\n",
       "    <tr>\n",
       "      <th>5141</th>\n",
       "      <td>57</td>\n",
       "      <td>mexico</td>\n",
       "      <td>elektra (mexico)</td>\n",
       "      <td>2023-09-12T00:00:00Z</td>\n",
       "      <td>6.687194e+06</td>\n",
       "      <td>7.485700e+06</td>\n",
       "      <td>8.368893e+06</td>\n",
       "      <td>experiment3_14lags_05_05_2023_2d</td>\n",
       "      <td>5.579055e+06</td>\n",
       "    </tr>\n",
       "  </tbody>\n",
       "</table>\n",
       "<p>72 rows × 9 columns</p>\n",
       "</div>"
      ],
      "text/plain": [
       "     item_id country             payer                  date           p10  \\\n",
       "6676      52  mexico  elektra (mexico)  2022-11-26T00:00:00Z  6.676975e+06   \n",
       "5308      52  mexico  elektra (mexico)  2022-11-26T00:00:00Z  6.676975e+06   \n",
       "8044      52  mexico  elektra (mexico)  2022-11-26T00:00:00Z  6.676975e+06   \n",
       "3940      52  mexico  elektra (mexico)  2022-11-26T00:00:00Z  6.676975e+06   \n",
       "2572      52  mexico  elektra (mexico)  2022-11-26T00:00:00Z  6.676975e+06   \n",
       "...      ...     ...               ...                   ...           ...   \n",
       "2405      57  mexico  elektra (mexico)  2023-09-12T00:00:00Z  6.687194e+06   \n",
       "6509      57  mexico  elektra (mexico)  2023-09-12T00:00:00Z  6.687194e+06   \n",
       "1037      57  mexico  elektra (mexico)  2023-09-12T00:00:00Z  6.687194e+06   \n",
       "7877      57  mexico  elektra (mexico)  2023-09-12T00:00:00Z  6.687194e+06   \n",
       "5141      57  mexico  elektra (mexico)  2023-09-12T00:00:00Z  6.687194e+06   \n",
       "\n",
       "               p50           p90                          group_id  \\\n",
       "6676  7.868033e+06  9.174892e+06  experiment5_14lags_10_09_2023_2d   \n",
       "5308  7.868033e+06  9.174892e+06  experiment3_14lags_05_05_2023_2d   \n",
       "8044  7.868033e+06  9.174892e+06  experiment6_14lags_25_11_2023_2d   \n",
       "3940  7.868033e+06  9.174892e+06  experiment4_14lags_20_03_2023_2d   \n",
       "2572  7.868033e+06  9.174892e+06  experiment3_14lags_29_12_2021_2d   \n",
       "...            ...           ...                               ...   \n",
       "2405  7.485700e+06  8.368893e+06  experiment3_14lags_29_12_2021_2d   \n",
       "6509  7.485700e+06  8.368893e+06  experiment5_14lags_10_09_2023_2d   \n",
       "1037  7.485700e+06  8.368893e+06  experiment2_14lags_20_12_2021_2d   \n",
       "7877  7.485700e+06  8.368893e+06  experiment6_14lags_25_11_2023_2d   \n",
       "5141  7.485700e+06  8.368893e+06  experiment3_14lags_05_05_2023_2d   \n",
       "\n",
       "                p5  \n",
       "6676  6.389297e+06  \n",
       "5308  6.389297e+06  \n",
       "8044  6.389297e+06  \n",
       "3940  6.389297e+06  \n",
       "2572  6.389297e+06  \n",
       "...            ...  \n",
       "2405  5.579055e+06  \n",
       "6509  5.579055e+06  \n",
       "1037  5.579055e+06  \n",
       "7877  5.579055e+06  \n",
       "5141  5.579055e+06  \n",
       "\n",
       "[72 rows x 9 columns]"
      ]
     },
     "execution_count": 140,
     "metadata": {},
     "output_type": "execute_result"
    }
   ],
   "source": [
    "final_df[final_df['payer'] == 'elektra (mexico)'].sort_values('date')"
   ]
  },
  {
   "cell_type": "code",
   "execution_count": 141,
   "id": "97529514-79d9-471c-8784-5eeeccf207c5",
   "metadata": {
    "tags": []
   },
   "outputs": [],
   "source": [
    "final_df['date'] = pd.to_datetime(final_df['date']).dt.date"
   ]
  },
  {
   "cell_type": "code",
   "execution_count": 143,
   "id": "e7688444-8bb7-4956-8af9-21930ffa1a6f",
   "metadata": {
    "tags": []
   },
   "outputs": [
    {
     "name": "stderr",
     "output_type": "stream",
     "text": [
      "/tmp/ipykernel_20/2399063668.py:1: FutureWarning: DataFrame.applymap has been deprecated. Use DataFrame.map instead.\n",
      "  final_df = final_df.applymap(lambda x: x.upper() if isinstance(x, str) else x)\n"
     ]
    }
   ],
   "source": [
    "final_df = final_df.applymap(lambda x: x.upper() if isinstance(x, str) else x)"
   ]
  },
  {
   "cell_type": "code",
   "execution_count": 147,
   "id": "58b19350-3ee1-4072-822b-e24c1988370f",
   "metadata": {
    "tags": []
   },
   "outputs": [],
   "source": [
    "final_df.drop(['item_id', 'group_id'], axis=1, inplace=True)\n",
    "#final_df.drop(['item_id'], axis=1, inplace=True)"
   ]
  },
  {
   "cell_type": "code",
   "execution_count": 148,
   "id": "3f8dc972-6280-46ca-af22-7a19032c9257",
   "metadata": {
    "tags": []
   },
   "outputs": [
    {
     "data": {
      "text/html": [
       "<div>\n",
       "<style scoped>\n",
       "    .dataframe tbody tr th:only-of-type {\n",
       "        vertical-align: middle;\n",
       "    }\n",
       "\n",
       "    .dataframe tbody tr th {\n",
       "        vertical-align: top;\n",
       "    }\n",
       "\n",
       "    .dataframe thead th {\n",
       "        text-align: right;\n",
       "    }\n",
       "</style>\n",
       "<table border=\"1\" class=\"dataframe\">\n",
       "  <thead>\n",
       "    <tr style=\"text-align: right;\">\n",
       "      <th></th>\n",
       "      <th>country</th>\n",
       "      <th>payer</th>\n",
       "      <th>date</th>\n",
       "      <th>p10</th>\n",
       "      <th>p50</th>\n",
       "      <th>p90</th>\n",
       "      <th>p5</th>\n",
       "    </tr>\n",
       "  </thead>\n",
       "  <tbody>\n",
       "    <tr>\n",
       "      <th>0</th>\n",
       "      <td>MEXICO</td>\n",
       "      <td>BANORTE (UT)</td>\n",
       "      <td>2022-12-21</td>\n",
       "      <td>383671.181936</td>\n",
       "      <td>455333.540782</td>\n",
       "      <td>518021.416594</td>\n",
       "      <td>NaN</td>\n",
       "    </tr>\n",
       "    <tr>\n",
       "      <th>1</th>\n",
       "      <td>MEXICO</td>\n",
       "      <td>BANORTE (UT)</td>\n",
       "      <td>2022-12-22</td>\n",
       "      <td>353858.016976</td>\n",
       "      <td>430334.002162</td>\n",
       "      <td>503642.791762</td>\n",
       "      <td>NaN</td>\n",
       "    </tr>\n",
       "    <tr>\n",
       "      <th>2</th>\n",
       "      <td>UNITED STATES</td>\n",
       "      <td>MASTERCARD ATM NETWORK</td>\n",
       "      <td>2022-12-21</td>\n",
       "      <td>1205.550605</td>\n",
       "      <td>2310.773896</td>\n",
       "      <td>3397.069665</td>\n",
       "      <td>NaN</td>\n",
       "    </tr>\n",
       "    <tr>\n",
       "      <th>3</th>\n",
       "      <td>UNITED STATES</td>\n",
       "      <td>MASTERCARD ATM NETWORK</td>\n",
       "      <td>2022-12-22</td>\n",
       "      <td>940.652864</td>\n",
       "      <td>1958.708337</td>\n",
       "      <td>3025.880813</td>\n",
       "      <td>NaN</td>\n",
       "    </tr>\n",
       "    <tr>\n",
       "      <th>4</th>\n",
       "      <td>BANGLADESH</td>\n",
       "      <td>MERCHANTRADE</td>\n",
       "      <td>2022-12-21</td>\n",
       "      <td>-83.643758</td>\n",
       "      <td>245.883363</td>\n",
       "      <td>565.531409</td>\n",
       "      <td>NaN</td>\n",
       "    </tr>\n",
       "  </tbody>\n",
       "</table>\n",
       "</div>"
      ],
      "text/plain": [
       "         country                   payer        date            p10  \\\n",
       "0         MEXICO            BANORTE (UT)  2022-12-21  383671.181936   \n",
       "1         MEXICO            BANORTE (UT)  2022-12-22  353858.016976   \n",
       "2  UNITED STATES  MASTERCARD ATM NETWORK  2022-12-21    1205.550605   \n",
       "3  UNITED STATES  MASTERCARD ATM NETWORK  2022-12-22     940.652864   \n",
       "4     BANGLADESH            MERCHANTRADE  2022-12-21     -83.643758   \n",
       "\n",
       "             p50            p90  p5  \n",
       "0  455333.540782  518021.416594 NaN  \n",
       "1  430334.002162  503642.791762 NaN  \n",
       "2    2310.773896    3397.069665 NaN  \n",
       "3    1958.708337    3025.880813 NaN  \n",
       "4     245.883363     565.531409 NaN  "
      ]
     },
     "execution_count": 148,
     "metadata": {},
     "output_type": "execute_result"
    }
   ],
   "source": [
    "final_df.head()"
   ]
  },
  {
   "cell_type": "code",
   "execution_count": 111,
   "id": "e1dbe473-bb3b-4fc2-ade1-b96c7f6431bd",
   "metadata": {
    "tags": []
   },
   "outputs": [],
   "source": [
    "#final_df = final_df.iloc[:, 1:] # Recorto el ID"
   ]
  },
  {
   "cell_type": "code",
   "execution_count": 112,
   "id": "6a8576ad-6206-4f45-aed4-868fd7663511",
   "metadata": {
    "tags": []
   },
   "outputs": [
    {
     "data": {
      "text/plain": [
       "array([datetime.date(2022, 12, 21), datetime.date(2022, 12, 22),\n",
       "       datetime.date(2023, 5, 6), datetime.date(2023, 5, 7),\n",
       "       datetime.date(2022, 12, 30), datetime.date(2022, 12, 31),\n",
       "       datetime.date(2023, 3, 21), datetime.date(2023, 3, 22),\n",
       "       datetime.date(2023, 9, 11), datetime.date(2023, 9, 12),\n",
       "       datetime.date(2022, 11, 26), datetime.date(2022, 11, 27)],\n",
       "      dtype=object)"
      ]
     },
     "execution_count": 112,
     "metadata": {},
     "output_type": "execute_result"
    }
   ],
   "source": [
    "final_df['date'].unique()"
   ]
  },
  {
   "cell_type": "code",
   "execution_count": 16,
   "id": "6c022119-23b0-44ca-af6b-e32f95df3566",
   "metadata": {
    "tags": []
   },
   "outputs": [],
   "source": [
    "# DB Setting\n",
    "bucket_name = 's3://viamericas-datalake-dev-us-east-1-283731589572-athena/'\n",
    "origin_name = 'AwsDataCatalog'\n",
    "database_name= 'analytics'\n",
    "table_name = 'daily_check'"
   ]
  },
  {
   "cell_type": "code",
   "execution_count": 219,
   "id": "0fc6b714-53dd-4921-852f-1a05d13ab99f",
   "metadata": {
    "tags": []
   },
   "outputs": [],
   "source": [
    "#pip install awswrangler"
   ]
  },
  {
   "cell_type": "code",
   "execution_count": 21,
   "id": "4d4c9b73-6190-4454-ae5d-f5d30f8baf40",
   "metadata": {
    "tags": []
   },
   "outputs": [],
   "source": [
    "import awswrangler as wr"
   ]
  },
  {
   "cell_type": "code",
   "execution_count": 22,
   "id": "f5b62e18-6d6c-4d24-8430-f69912df8dba",
   "metadata": {
    "tags": []
   },
   "outputs": [
    {
     "name": "stderr",
     "output_type": "stream",
     "text": [
      "/opt/conda/lib/python3.10/site-packages/awswrangler/_distributed.py:104: FutureWarning: promote has been superseded by promote_options='default'.\n",
      "  return cls.dispatch_func(func)(*args, **kw)\n"
     ]
    }
   ],
   "source": [
    "# Read data from Athena table\n",
    "df_daily_check = wr.athena.read_sql_query(\n",
    "    f'SELECT * FROM {origin_name}.{database_name}.{table_name};',\n",
    "    database=database_name\n",
    ")"
   ]
  },
  {
   "cell_type": "code",
   "execution_count": 221,
   "id": "6ad1b3d7-0c6c-449c-902a-01a7e2ef96f6",
   "metadata": {
    "tags": []
   },
   "outputs": [
    {
     "data": {
      "text/html": [
       "<div>\n",
       "<style scoped>\n",
       "    .dataframe tbody tr th:only-of-type {\n",
       "        vertical-align: middle;\n",
       "    }\n",
       "\n",
       "    .dataframe tbody tr th {\n",
       "        vertical-align: top;\n",
       "    }\n",
       "\n",
       "    .dataframe thead th {\n",
       "        text-align: right;\n",
       "    }\n",
       "</style>\n",
       "<table border=\"1\" class=\"dataframe\">\n",
       "  <thead>\n",
       "    <tr style=\"text-align: right;\">\n",
       "      <th></th>\n",
       "      <th>payer</th>\n",
       "      <th>country</th>\n",
       "      <th>date</th>\n",
       "      <th>tx</th>\n",
       "      <th>amount</th>\n",
       "      <th>coupon_count</th>\n",
       "    </tr>\n",
       "  </thead>\n",
       "  <tbody>\n",
       "    <tr>\n",
       "      <th>38551</th>\n",
       "      <td>BANCO AGRICOLA</td>\n",
       "      <td>EL SALVADOR</td>\n",
       "      <td>2020-12-31</td>\n",
       "      <td>633</td>\n",
       "      <td>145933.0000</td>\n",
       "      <td>550</td>\n",
       "    </tr>\n",
       "    <tr>\n",
       "      <th>13109</th>\n",
       "      <td>BANCO AGRICOLA</td>\n",
       "      <td>EL SALVADOR</td>\n",
       "      <td>2021-01-01</td>\n",
       "      <td>108</td>\n",
       "      <td>26346.7400</td>\n",
       "      <td>94</td>\n",
       "    </tr>\n",
       "    <tr>\n",
       "      <th>91675</th>\n",
       "      <td>BANCO AGRICOLA</td>\n",
       "      <td>EL SALVADOR</td>\n",
       "      <td>2021-01-02</td>\n",
       "      <td>544</td>\n",
       "      <td>164267.0000</td>\n",
       "      <td>481</td>\n",
       "    </tr>\n",
       "    <tr>\n",
       "      <th>18520</th>\n",
       "      <td>BANCO AGRICOLA</td>\n",
       "      <td>EL SALVADOR</td>\n",
       "      <td>2021-01-03</td>\n",
       "      <td>537</td>\n",
       "      <td>152693.9800</td>\n",
       "      <td>458</td>\n",
       "    </tr>\n",
       "    <tr>\n",
       "      <th>35173</th>\n",
       "      <td>BANCO AGRICOLA</td>\n",
       "      <td>EL SALVADOR</td>\n",
       "      <td>2021-01-04</td>\n",
       "      <td>703</td>\n",
       "      <td>246159.0000</td>\n",
       "      <td>591</td>\n",
       "    </tr>\n",
       "    <tr>\n",
       "      <th>...</th>\n",
       "      <td>...</td>\n",
       "      <td>...</td>\n",
       "      <td>...</td>\n",
       "      <td>...</td>\n",
       "      <td>...</td>\n",
       "      <td>...</td>\n",
       "    </tr>\n",
       "    <tr>\n",
       "      <th>80669</th>\n",
       "      <td>BANCO AGRICOLA</td>\n",
       "      <td>EL SALVADOR</td>\n",
       "      <td>2023-10-17</td>\n",
       "      <td>1062</td>\n",
       "      <td>370859.0000</td>\n",
       "      <td>11</td>\n",
       "    </tr>\n",
       "    <tr>\n",
       "      <th>77283</th>\n",
       "      <td>BANCO AGRICOLA</td>\n",
       "      <td>EL SALVADOR</td>\n",
       "      <td>2023-10-18</td>\n",
       "      <td>865</td>\n",
       "      <td>302292.3500</td>\n",
       "      <td>10</td>\n",
       "    </tr>\n",
       "    <tr>\n",
       "      <th>58216</th>\n",
       "      <td>BANCO AGRICOLA</td>\n",
       "      <td>EL SALVADOR</td>\n",
       "      <td>2023-10-19</td>\n",
       "      <td>962</td>\n",
       "      <td>348930.1400</td>\n",
       "      <td>16</td>\n",
       "    </tr>\n",
       "    <tr>\n",
       "      <th>34907</th>\n",
       "      <td>BANCO AGRICOLA</td>\n",
       "      <td>EL SALVADOR</td>\n",
       "      <td>2023-10-20</td>\n",
       "      <td>1607</td>\n",
       "      <td>568905.0000</td>\n",
       "      <td>23</td>\n",
       "    </tr>\n",
       "    <tr>\n",
       "      <th>54621</th>\n",
       "      <td>BANCO AGRICOLA</td>\n",
       "      <td>EL SALVADOR</td>\n",
       "      <td>2023-10-21</td>\n",
       "      <td>1773</td>\n",
       "      <td>579758.9500</td>\n",
       "      <td>21</td>\n",
       "    </tr>\n",
       "  </tbody>\n",
       "</table>\n",
       "<p>1025 rows × 6 columns</p>\n",
       "</div>"
      ],
      "text/plain": [
       "                payer      country        date    tx       amount  \\\n",
       "38551  BANCO AGRICOLA  EL SALVADOR  2020-12-31   633  145933.0000   \n",
       "13109  BANCO AGRICOLA  EL SALVADOR  2021-01-01   108   26346.7400   \n",
       "91675  BANCO AGRICOLA  EL SALVADOR  2021-01-02   544  164267.0000   \n",
       "18520  BANCO AGRICOLA  EL SALVADOR  2021-01-03   537  152693.9800   \n",
       "35173  BANCO AGRICOLA  EL SALVADOR  2021-01-04   703  246159.0000   \n",
       "...               ...          ...         ...   ...          ...   \n",
       "80669  BANCO AGRICOLA  EL SALVADOR  2023-10-17  1062  370859.0000   \n",
       "77283  BANCO AGRICOLA  EL SALVADOR  2023-10-18   865  302292.3500   \n",
       "58216  BANCO AGRICOLA  EL SALVADOR  2023-10-19   962  348930.1400   \n",
       "34907  BANCO AGRICOLA  EL SALVADOR  2023-10-20  1607  568905.0000   \n",
       "54621  BANCO AGRICOLA  EL SALVADOR  2023-10-21  1773  579758.9500   \n",
       "\n",
       "       coupon_count  \n",
       "38551           550  \n",
       "13109            94  \n",
       "91675           481  \n",
       "18520           458  \n",
       "35173           591  \n",
       "...             ...  \n",
       "80669            11  \n",
       "77283            10  \n",
       "58216            16  \n",
       "34907            23  \n",
       "54621            21  \n",
       "\n",
       "[1025 rows x 6 columns]"
      ]
     },
     "execution_count": 221,
     "metadata": {},
     "output_type": "execute_result"
    }
   ],
   "source": [
    "df_daily_check[df_daily_check['payer'] == 'BANCO AGRICOLA'].sort_values('date')"
   ]
  },
  {
   "cell_type": "code",
   "execution_count": 149,
   "id": "1481e1c1-fbc4-4c78-ad87-2802cf98f615",
   "metadata": {
    "tags": []
   },
   "outputs": [],
   "source": [
    "# Unir los DataFrames en base a las columnas 'country', 'payer' y 'date'\n",
    "df_forecast = df_daily_check.merge(final_df, on=['payer', 'country', 'date'], how='inner').drop_duplicates()"
   ]
  },
  {
   "cell_type": "code",
   "execution_count": 159,
   "id": "6d19315d-3fd7-477d-a582-02d89f59553f",
   "metadata": {
    "tags": []
   },
   "outputs": [],
   "source": [
    "df_forecast['date'] = pd.to_datetime(df_forecast['date'],format='%Y-%m-%d')"
   ]
  },
  {
   "cell_type": "code",
   "execution_count": 151,
   "id": "c0987888-1907-44db-9ee4-f1d142af1c49",
   "metadata": {
    "tags": []
   },
   "outputs": [],
   "source": [
    "date_list = ['2022-11-27','2022-12-22','2022-12-31','2023-03-22','2023-05-07','2023-09-12']"
   ]
  },
  {
   "cell_type": "code",
   "execution_count": 153,
   "id": "89d38eaa-5f88-4fb2-a2e2-63e6008e739d",
   "metadata": {
    "tags": []
   },
   "outputs": [],
   "source": [
    "date_list = pd.to_datetime(date_list)"
   ]
  },
  {
   "cell_type": "code",
   "execution_count": 162,
   "id": "34821060-bb3c-4b96-a6f3-3420f0456217",
   "metadata": {
    "tags": []
   },
   "outputs": [],
   "source": [
    "#FILTRO SOLAMENTE LOS DIAS N+2\n",
    "df_forecast_dia2 = df_forecast[df_forecast['date'].isin(date_list)]"
   ]
  },
  {
   "cell_type": "code",
   "execution_count": 163,
   "id": "666e7bef-a594-43da-8e47-d9fbb5a8a4c4",
   "metadata": {
    "tags": []
   },
   "outputs": [
    {
     "data": {
      "text/html": [
       "<div>\n",
       "<style scoped>\n",
       "    .dataframe tbody tr th:only-of-type {\n",
       "        vertical-align: middle;\n",
       "    }\n",
       "\n",
       "    .dataframe tbody tr th {\n",
       "        vertical-align: top;\n",
       "    }\n",
       "\n",
       "    .dataframe thead th {\n",
       "        text-align: right;\n",
       "    }\n",
       "</style>\n",
       "<table border=\"1\" class=\"dataframe\">\n",
       "  <thead>\n",
       "    <tr style=\"text-align: right;\">\n",
       "      <th></th>\n",
       "      <th>payer</th>\n",
       "      <th>country</th>\n",
       "      <th>date</th>\n",
       "      <th>tx</th>\n",
       "      <th>amount</th>\n",
       "      <th>coupon_count</th>\n",
       "      <th>p10</th>\n",
       "      <th>p50</th>\n",
       "      <th>p90</th>\n",
       "      <th>p5</th>\n",
       "    </tr>\n",
       "  </thead>\n",
       "  <tbody>\n",
       "    <tr>\n",
       "      <th>5742</th>\n",
       "      <td>BANCO AGRICOLA</td>\n",
       "      <td>EL SALVADOR</td>\n",
       "      <td>2022-11-27</td>\n",
       "      <td>952</td>\n",
       "      <td>305798.0000</td>\n",
       "      <td>7</td>\n",
       "      <td>281640.114636</td>\n",
       "      <td>331706.241051</td>\n",
       "      <td>379785.899338</td>\n",
       "      <td>269135.378922</td>\n",
       "    </tr>\n",
       "    <tr>\n",
       "      <th>2202</th>\n",
       "      <td>BANCO AGRICOLA</td>\n",
       "      <td>EL SALVADOR</td>\n",
       "      <td>2022-12-22</td>\n",
       "      <td>1877</td>\n",
       "      <td>564683.0000</td>\n",
       "      <td>29</td>\n",
       "      <td>320481.330069</td>\n",
       "      <td>376896.028039</td>\n",
       "      <td>430143.294573</td>\n",
       "      <td>NaN</td>\n",
       "    </tr>\n",
       "    <tr>\n",
       "      <th>2928</th>\n",
       "      <td>BANCO AGRICOLA</td>\n",
       "      <td>EL SALVADOR</td>\n",
       "      <td>2022-12-31</td>\n",
       "      <td>928</td>\n",
       "      <td>212987.0000</td>\n",
       "      <td>7</td>\n",
       "      <td>332877.104484</td>\n",
       "      <td>383332.195500</td>\n",
       "      <td>432320.475597</td>\n",
       "      <td>314902.202062</td>\n",
       "    </tr>\n",
       "    <tr>\n",
       "      <th>6228</th>\n",
       "      <td>BANCO AGRICOLA</td>\n",
       "      <td>EL SALVADOR</td>\n",
       "      <td>2023-03-22</td>\n",
       "      <td>857</td>\n",
       "      <td>339281.6600</td>\n",
       "      <td>10</td>\n",
       "      <td>275962.728386</td>\n",
       "      <td>314144.071818</td>\n",
       "      <td>364805.958876</td>\n",
       "      <td>263499.433622</td>\n",
       "    </tr>\n",
       "    <tr>\n",
       "      <th>1290</th>\n",
       "      <td>BANCO AGRICOLA</td>\n",
       "      <td>EL SALVADOR</td>\n",
       "      <td>2023-05-07</td>\n",
       "      <td>1645</td>\n",
       "      <td>555421.0000</td>\n",
       "      <td>20</td>\n",
       "      <td>395105.885987</td>\n",
       "      <td>481812.836452</td>\n",
       "      <td>568519.786918</td>\n",
       "      <td>370525.670341</td>\n",
       "    </tr>\n",
       "    <tr>\n",
       "      <th>4482</th>\n",
       "      <td>BANCO AGRICOLA</td>\n",
       "      <td>EL SALVADOR</td>\n",
       "      <td>2023-09-12</td>\n",
       "      <td>1096</td>\n",
       "      <td>383921.6000</td>\n",
       "      <td>8</td>\n",
       "      <td>347740.102465</td>\n",
       "      <td>405677.050364</td>\n",
       "      <td>457684.209201</td>\n",
       "      <td>280012.017901</td>\n",
       "    </tr>\n",
       "  </tbody>\n",
       "</table>\n",
       "</div>"
      ],
      "text/plain": [
       "               payer      country       date    tx       amount  coupon_count  \\\n",
       "5742  BANCO AGRICOLA  EL SALVADOR 2022-11-27   952  305798.0000             7   \n",
       "2202  BANCO AGRICOLA  EL SALVADOR 2022-12-22  1877  564683.0000            29   \n",
       "2928  BANCO AGRICOLA  EL SALVADOR 2022-12-31   928  212987.0000             7   \n",
       "6228  BANCO AGRICOLA  EL SALVADOR 2023-03-22   857  339281.6600            10   \n",
       "1290  BANCO AGRICOLA  EL SALVADOR 2023-05-07  1645  555421.0000            20   \n",
       "4482  BANCO AGRICOLA  EL SALVADOR 2023-09-12  1096  383921.6000             8   \n",
       "\n",
       "                p10            p50            p90             p5  \n",
       "5742  281640.114636  331706.241051  379785.899338  269135.378922  \n",
       "2202  320481.330069  376896.028039  430143.294573            NaN  \n",
       "2928  332877.104484  383332.195500  432320.475597  314902.202062  \n",
       "6228  275962.728386  314144.071818  364805.958876  263499.433622  \n",
       "1290  395105.885987  481812.836452  568519.786918  370525.670341  \n",
       "4482  347740.102465  405677.050364  457684.209201  280012.017901  "
      ]
     },
     "execution_count": 163,
     "metadata": {},
     "output_type": "execute_result"
    }
   ],
   "source": [
    "df_forecast_dia2[df_forecast_dia2['payer'] == 'BANCO AGRICOLA'].sort_values('date')"
   ]
  },
  {
   "cell_type": "code",
   "execution_count": 177,
   "id": "43c987e9-cfa1-40e9-ae47-0b4831828d05",
   "metadata": {
    "tags": []
   },
   "outputs": [
    {
     "name": "stderr",
     "output_type": "stream",
     "text": [
      "/tmp/ipykernel_20/740406771.py:2: SettingWithCopyWarning: \n",
      "A value is trying to be set on a copy of a slice from a DataFrame.\n",
      "Try using .loc[row_indexer,col_indexer] = value instead\n",
      "\n",
      "See the caveats in the documentation: https://pandas.pydata.org/pandas-docs/stable/user_guide/indexing.html#returning-a-view-versus-a-copy\n",
      "  df_forecast_dia2['payer_country'] = df_forecast_dia2['payer'] + '_' + df_forecast_dia2['country']\n"
     ]
    }
   ],
   "source": [
    "# Grouping by 'payer' and 'country' concatenated for this level of granularity\n",
    "df_forecast_dia2['payer_country'] = df_forecast_dia2['payer'] + '_' + df_forecast_dia2['country']"
   ]
  },
  {
   "cell_type": "code",
   "execution_count": 178,
   "id": "bf835867-992f-4af7-93d8-466b8c83644e",
   "metadata": {
    "tags": []
   },
   "outputs": [
    {
     "name": "stdout",
     "output_type": "stream",
     "text": [
      "<class 'pandas.core.frame.DataFrame'>\n",
      "Index: 577 entries, 0 to 6966\n",
      "Data columns (total 11 columns):\n",
      " #   Column         Non-Null Count  Dtype         \n",
      "---  ------         --------------  -----         \n",
      " 0   payer          577 non-null    object        \n",
      " 1   country        577 non-null    object        \n",
      " 2   date           577 non-null    datetime64[ns]\n",
      " 3   tx             577 non-null    Int64         \n",
      " 4   amount         577 non-null    object        \n",
      " 5   coupon_count   577 non-null    Int64         \n",
      " 6   p10            577 non-null    float64       \n",
      " 7   p50            577 non-null    float64       \n",
      " 8   p90            577 non-null    float64       \n",
      " 9   p5             481 non-null    float64       \n",
      " 10  payer_country  577 non-null    object        \n",
      "dtypes: Int64(2), datetime64[ns](1), float64(4), object(4)\n",
      "memory usage: 55.2+ KB\n"
     ]
    }
   ],
   "source": [
    "df_forecast_dia2.info()"
   ]
  },
  {
   "cell_type": "code",
   "execution_count": null,
   "id": "33f5117f-b2c0-42ca-9faa-dcba8fa8a960",
   "metadata": {},
   "outputs": [],
   "source": []
  },
  {
   "cell_type": "code",
   "execution_count": 179,
   "id": "7e440660-9560-4ec5-a62d-43ad3408c5a9",
   "metadata": {
    "tags": []
   },
   "outputs": [
    {
     "name": "stderr",
     "output_type": "stream",
     "text": [
      "/tmp/ipykernel_20/1413353924.py:2: SettingWithCopyWarning: \n",
      "A value is trying to be set on a copy of a slice from a DataFrame.\n",
      "Try using .loc[row_indexer,col_indexer] = value instead\n",
      "\n",
      "See the caveats in the documentation: https://pandas.pydata.org/pandas-docs/stable/user_guide/indexing.html#returning-a-view-versus-a-copy\n",
      "  df_forecast_dia2['amount'] = pd.to_numeric(df_forecast_dia2['amount'])\n"
     ]
    }
   ],
   "source": [
    "##CALCULAMOS ERROR PORCENTUAL (MAPE) PARA CADA PAYER, ESTOO SERÁ INDICATIVO DEL WAPE PROMEDIO PARA TODOS LOS CORTES##\n",
    "df_forecast_dia2['amount'] = pd.to_numeric(df_forecast_dia2['amount'])"
   ]
  },
  {
   "cell_type": "code",
   "execution_count": 180,
   "id": "82c2aff9-abae-4430-9ac8-cea3b2e50c7d",
   "metadata": {
    "tags": []
   },
   "outputs": [],
   "source": [
    "#df_forecast['date'] = pd.to_datetime(df_forecast['date'])"
   ]
  },
  {
   "cell_type": "code",
   "execution_count": 181,
   "id": "a8cd3bfc-65a3-41b3-a900-7863acb2e00e",
   "metadata": {
    "tags": []
   },
   "outputs": [
    {
     "name": "stderr",
     "output_type": "stream",
     "text": [
      "/tmp/ipykernel_20/1238003223.py:1: SettingWithCopyWarning: \n",
      "A value is trying to be set on a copy of a slice from a DataFrame.\n",
      "Try using .loc[row_indexer,col_indexer] = value instead\n",
      "\n",
      "See the caveats in the documentation: https://pandas.pydata.org/pandas-docs/stable/user_guide/indexing.html#returning-a-view-versus-a-copy\n",
      "  df_forecast_dia2[\"pe\"] = abs((df_forecast_dia2.amount - df_forecast_dia2['p50']) / df_forecast_dia2.amount)\n"
     ]
    }
   ],
   "source": [
    "df_forecast_dia2[\"pe\"] = abs((df_forecast_dia2.amount - df_forecast_dia2['p50']) / df_forecast_dia2.amount)"
   ]
  },
  {
   "cell_type": "code",
   "execution_count": 182,
   "id": "36fed974-e5f6-4872-8b0f-216e2f675dc4",
   "metadata": {
    "tags": []
   },
   "outputs": [
    {
     "name": "stderr",
     "output_type": "stream",
     "text": [
      "/tmp/ipykernel_20/395646793.py:1: DeprecationWarning: DataFrameGroupBy.apply operated on the grouping columns. This behavior is deprecated, and in a future version of pandas the grouping columns will be excluded from the operation. Either pass `include_groups=False` to exclude the groupings or explicitly select the grouping columns after groupby to silence this warning.\n",
      "  mape_payer_6_cuts=df_forecast_dia2.groupby('payer_country').apply(lambda x: (x['pe'].mean())).reset_index(name='mape')\n"
     ]
    }
   ],
   "source": [
    "mape_payer_6_cuts=df_forecast_dia2.groupby('payer_country').apply(lambda x: (x['pe'].mean())).reset_index(name='mape')"
   ]
  },
  {
   "cell_type": "code",
   "execution_count": 183,
   "id": "e6e7eef0-fd87-4bd4-af89-b2e71b093ffd",
   "metadata": {
    "tags": []
   },
   "outputs": [
    {
     "data": {
      "text/html": [
       "<div>\n",
       "<style scoped>\n",
       "    .dataframe tbody tr th:only-of-type {\n",
       "        vertical-align: middle;\n",
       "    }\n",
       "\n",
       "    .dataframe tbody tr th {\n",
       "        vertical-align: top;\n",
       "    }\n",
       "\n",
       "    .dataframe thead th {\n",
       "        text-align: right;\n",
       "    }\n",
       "</style>\n",
       "<table border=\"1\" class=\"dataframe\">\n",
       "  <thead>\n",
       "    <tr style=\"text-align: right;\">\n",
       "      <th></th>\n",
       "      <th>payer_country</th>\n",
       "      <th>mape</th>\n",
       "    </tr>\n",
       "  </thead>\n",
       "  <tbody>\n",
       "    <tr>\n",
       "      <th>23</th>\n",
       "      <td>BANCO PICHINCHA (TN)_ECUADOR</td>\n",
       "      <td>0.007544</td>\n",
       "    </tr>\n",
       "    <tr>\n",
       "      <th>98</th>\n",
       "      <td>TELEDOLAR-NIC (TN)_NICARAGUA</td>\n",
       "      <td>0.047959</td>\n",
       "    </tr>\n",
       "    <tr>\n",
       "      <th>108</th>\n",
       "      <td>TRANSPAY_INDONESIA</td>\n",
       "      <td>0.086795</td>\n",
       "    </tr>\n",
       "  </tbody>\n",
       "</table>\n",
       "</div>"
      ],
      "text/plain": [
       "                    payer_country      mape\n",
       "23   BANCO PICHINCHA (TN)_ECUADOR  0.007544\n",
       "98   TELEDOLAR-NIC (TN)_NICARAGUA  0.047959\n",
       "108            TRANSPAY_INDONESIA  0.086795"
      ]
     },
     "execution_count": 183,
     "metadata": {},
     "output_type": "execute_result"
    }
   ],
   "source": [
    "mape_payer_6_cuts.sort_values(by='mape', ascending=True).head(3)"
   ]
  },
  {
   "cell_type": "code",
   "execution_count": 171,
   "id": "76bd5e95-b40b-45f3-843d-08eec38df21f",
   "metadata": {
    "tags": []
   },
   "outputs": [
    {
     "data": {
      "text/html": [
       "<div>\n",
       "<style scoped>\n",
       "    .dataframe tbody tr th:only-of-type {\n",
       "        vertical-align: middle;\n",
       "    }\n",
       "\n",
       "    .dataframe tbody tr th {\n",
       "        vertical-align: top;\n",
       "    }\n",
       "\n",
       "    .dataframe thead th {\n",
       "        text-align: right;\n",
       "    }\n",
       "</style>\n",
       "<table border=\"1\" class=\"dataframe\">\n",
       "  <thead>\n",
       "    <tr style=\"text-align: right;\">\n",
       "      <th></th>\n",
       "      <th>payer_country</th>\n",
       "      <th>mape</th>\n",
       "    </tr>\n",
       "  </thead>\n",
       "  <tbody>\n",
       "    <tr>\n",
       "      <th>101</th>\n",
       "      <td>TELEDOLAR-NIC (TN)_NICARAGUA</td>\n",
       "      <td>0.035222</td>\n",
       "    </tr>\n",
       "    <tr>\n",
       "      <th>94</th>\n",
       "      <td>OXXO (TN)_MEXICO</td>\n",
       "      <td>0.096386</td>\n",
       "    </tr>\n",
       "    <tr>\n",
       "      <th>60</th>\n",
       "      <td>ENVIOS CON CLABE (APPRIZA)_MEXICO</td>\n",
       "      <td>0.096398</td>\n",
       "    </tr>\n",
       "  </tbody>\n",
       "</table>\n",
       "</div>"
      ],
      "text/plain": [
       "                         payer_country      mape\n",
       "101       TELEDOLAR-NIC (TN)_NICARAGUA  0.035222\n",
       "94                    OXXO (TN)_MEXICO  0.096386\n",
       "60   ENVIOS CON CLABE (APPRIZA)_MEXICO  0.096398"
      ]
     },
     "execution_count": 171,
     "metadata": {},
     "output_type": "execute_result"
    }
   ],
   "source": [
    "mape_payer_6_cuts.sort_values(by='mape', ascending=True).head(3)"
   ]
  },
  {
   "cell_type": "code",
   "execution_count": 184,
   "id": "83531310-ae5e-4b6f-8cde-20ec25ba6e8a",
   "metadata": {
    "tags": []
   },
   "outputs": [
    {
     "name": "stderr",
     "output_type": "stream",
     "text": [
      "/tmp/ipykernel_20/1309468246.py:1: DeprecationWarning: DataFrameGroupBy.apply operated on the grouping columns. This behavior is deprecated, and in a future version of pandas the grouping columns will be excluded from the operation. Either pass `include_groups=False` to exclude the groupings or explicitly select the grouping columns after groupby to silence this warning.\n",
      "  mape_country_6_cuts=df_forecast_dia2.groupby('country').apply(lambda x: (x['pe'].mean())).reset_index(name='mape')\n"
     ]
    }
   ],
   "source": [
    "mape_country_6_cuts=df_forecast_dia2.groupby('country').apply(lambda x: (x['pe'].mean())).reset_index(name='mape')"
   ]
  },
  {
   "cell_type": "code",
   "execution_count": 185,
   "id": "95ab0a4a-12c6-4a3e-836d-750ce46487e8",
   "metadata": {
    "tags": []
   },
   "outputs": [
    {
     "data": {
      "text/html": [
       "<div>\n",
       "<style scoped>\n",
       "    .dataframe tbody tr th:only-of-type {\n",
       "        vertical-align: middle;\n",
       "    }\n",
       "\n",
       "    .dataframe tbody tr th {\n",
       "        vertical-align: top;\n",
       "    }\n",
       "\n",
       "    .dataframe thead th {\n",
       "        text-align: right;\n",
       "    }\n",
       "</style>\n",
       "<table border=\"1\" class=\"dataframe\">\n",
       "  <thead>\n",
       "    <tr style=\"text-align: right;\">\n",
       "      <th></th>\n",
       "      <th>country</th>\n",
       "      <th>mape</th>\n",
       "    </tr>\n",
       "  </thead>\n",
       "  <tbody>\n",
       "    <tr>\n",
       "      <th>28</th>\n",
       "      <td>NICARAGUA</td>\n",
       "      <td>0.193587</td>\n",
       "    </tr>\n",
       "    <tr>\n",
       "      <th>18</th>\n",
       "      <td>HAITI</td>\n",
       "      <td>0.207223</td>\n",
       "    </tr>\n",
       "    <tr>\n",
       "      <th>12</th>\n",
       "      <td>ECUADOR</td>\n",
       "      <td>0.224330</td>\n",
       "    </tr>\n",
       "  </tbody>\n",
       "</table>\n",
       "</div>"
      ],
      "text/plain": [
       "      country      mape\n",
       "28  NICARAGUA  0.193587\n",
       "18      HAITI  0.207223\n",
       "12    ECUADOR  0.224330"
      ]
     },
     "execution_count": 185,
     "metadata": {},
     "output_type": "execute_result"
    }
   ],
   "source": [
    "mape_country_6_cuts.sort_values(by='mape', ascending=True).head(3)"
   ]
  },
  {
   "cell_type": "code",
   "execution_count": 173,
   "id": "b9e7bb7a-f4f9-4527-8dcf-a5bc524d3554",
   "metadata": {
    "tags": []
   },
   "outputs": [
    {
     "data": {
      "text/html": [
       "<div>\n",
       "<style scoped>\n",
       "    .dataframe tbody tr th:only-of-type {\n",
       "        vertical-align: middle;\n",
       "    }\n",
       "\n",
       "    .dataframe tbody tr th {\n",
       "        vertical-align: top;\n",
       "    }\n",
       "\n",
       "    .dataframe thead th {\n",
       "        text-align: right;\n",
       "    }\n",
       "</style>\n",
       "<table border=\"1\" class=\"dataframe\">\n",
       "  <thead>\n",
       "    <tr style=\"text-align: right;\">\n",
       "      <th></th>\n",
       "      <th>country</th>\n",
       "      <th>mape</th>\n",
       "    </tr>\n",
       "  </thead>\n",
       "  <tbody>\n",
       "    <tr>\n",
       "      <th>15</th>\n",
       "      <td>GERMANY</td>\n",
       "      <td>0.155671</td>\n",
       "    </tr>\n",
       "    <tr>\n",
       "      <th>29</th>\n",
       "      <td>NICARAGUA</td>\n",
       "      <td>0.172740</td>\n",
       "    </tr>\n",
       "    <tr>\n",
       "      <th>8</th>\n",
       "      <td>COLOMBIA</td>\n",
       "      <td>0.179992</td>\n",
       "    </tr>\n",
       "  </tbody>\n",
       "</table>\n",
       "</div>"
      ],
      "text/plain": [
       "      country      mape\n",
       "15    GERMANY  0.155671\n",
       "29  NICARAGUA  0.172740\n",
       "8    COLOMBIA  0.179992"
      ]
     },
     "execution_count": 173,
     "metadata": {},
     "output_type": "execute_result"
    }
   ],
   "source": [
    "mape_country_6_cuts.sort_values(by='mape', ascending=True).head(3)"
   ]
  },
  {
   "cell_type": "code",
   "execution_count": 186,
   "id": "9ba97e15-9462-41fd-a07b-cd7892c0695d",
   "metadata": {
    "tags": []
   },
   "outputs": [
    {
     "name": "stderr",
     "output_type": "stream",
     "text": [
      "/tmp/ipykernel_20/3766858438.py:2: SettingWithCopyWarning: \n",
      "A value is trying to be set on a copy of a slice from a DataFrame.\n",
      "Try using .loc[row_indexer,col_indexer] = value instead\n",
      "\n",
      "See the caveats in the documentation: https://pandas.pydata.org/pandas-docs/stable/user_guide/indexing.html#returning-a-view-versus-a-copy\n",
      "  df_forecast_dia2[\"ae\"] = abs((df_forecast_dia2.amount - df_forecast_dia2['p50']))\n"
     ]
    }
   ],
   "source": [
    "##CALCULAMOS WAPE PARA CADA PAYER##\n",
    "df_forecast_dia2[\"ae\"] = abs((df_forecast_dia2.amount - df_forecast_dia2['p50']))\n",
    "df_forecast_dia2[\"aep10\"] = abs((df_forecast_dia2.amount - df_forecast_dia2['p10']))"
   ]
  },
  {
   "cell_type": "code",
   "execution_count": 187,
   "id": "47a3a172-be39-43fd-8404-6882417e26be",
   "metadata": {
    "tags": []
   },
   "outputs": [
    {
     "name": "stdout",
     "output_type": "stream",
     "text": [
      "0.1811141333584076\n"
     ]
    },
    {
     "ename": "KeyError",
     "evalue": "'aep10'",
     "output_type": "error",
     "traceback": [
      "\u001b[0;31m---------------------------------------------------------------------------\u001b[0m",
      "\u001b[0;31mKeyError\u001b[0m                                  Traceback (most recent call last)",
      "File \u001b[0;32m/opt/conda/lib/python3.10/site-packages/pandas/core/indexes/base.py:3802\u001b[0m, in \u001b[0;36mIndex.get_loc\u001b[0;34m(self, key)\u001b[0m\n\u001b[1;32m   3801\u001b[0m \u001b[38;5;28;01mtry\u001b[39;00m:\n\u001b[0;32m-> 3802\u001b[0m     \u001b[38;5;28;01mreturn\u001b[39;00m \u001b[38;5;28;43mself\u001b[39;49m\u001b[38;5;241;43m.\u001b[39;49m\u001b[43m_engine\u001b[49m\u001b[38;5;241;43m.\u001b[39;49m\u001b[43mget_loc\u001b[49m\u001b[43m(\u001b[49m\u001b[43mcasted_key\u001b[49m\u001b[43m)\u001b[49m\n\u001b[1;32m   3803\u001b[0m \u001b[38;5;28;01mexcept\u001b[39;00m \u001b[38;5;167;01mKeyError\u001b[39;00m \u001b[38;5;28;01mas\u001b[39;00m err:\n",
      "File \u001b[0;32mindex.pyx:153\u001b[0m, in \u001b[0;36mpandas._libs.index.IndexEngine.get_loc\u001b[0;34m()\u001b[0m\n",
      "File \u001b[0;32mindex.pyx:182\u001b[0m, in \u001b[0;36mpandas._libs.index.IndexEngine.get_loc\u001b[0;34m()\u001b[0m\n",
      "File \u001b[0;32mpandas/_libs/hashtable_class_helper.pxi:7081\u001b[0m, in \u001b[0;36mpandas._libs.hashtable.PyObjectHashTable.get_item\u001b[0;34m()\u001b[0m\n",
      "File \u001b[0;32mpandas/_libs/hashtable_class_helper.pxi:7089\u001b[0m, in \u001b[0;36mpandas._libs.hashtable.PyObjectHashTable.get_item\u001b[0;34m()\u001b[0m\n",
      "\u001b[0;31mKeyError\u001b[0m: 'aep10'",
      "\nThe above exception was the direct cause of the following exception:\n",
      "\u001b[0;31mKeyError\u001b[0m                                  Traceback (most recent call last)",
      "Cell \u001b[0;32mIn[187], line 3\u001b[0m\n\u001b[1;32m      1\u001b[0m \u001b[38;5;66;03m##WAPEs GENERALES CON 6 CORTES##\u001b[39;00m\n\u001b[1;32m      2\u001b[0m \u001b[38;5;28mprint\u001b[39m(\u001b[38;5;28msum\u001b[39m(df_forecast_dia2[\u001b[38;5;124m\"\u001b[39m\u001b[38;5;124mae\u001b[39m\u001b[38;5;124m\"\u001b[39m])\u001b[38;5;241m/\u001b[39m\u001b[38;5;28msum\u001b[39m(df_forecast_dia2[\u001b[38;5;124m\"\u001b[39m\u001b[38;5;124mamount\u001b[39m\u001b[38;5;124m\"\u001b[39m]))\n\u001b[0;32m----> 3\u001b[0m \u001b[38;5;28mprint\u001b[39m(\u001b[38;5;28msum\u001b[39m(\u001b[43mdf_forecast_dia2\u001b[49m\u001b[43m[\u001b[49m\u001b[38;5;124;43m\"\u001b[39;49m\u001b[38;5;124;43maep10\u001b[39;49m\u001b[38;5;124;43m\"\u001b[39;49m\u001b[43m]\u001b[49m)\u001b[38;5;241m/\u001b[39m\u001b[38;5;28msum\u001b[39m(df_forecast_dia2[\u001b[38;5;124m\"\u001b[39m\u001b[38;5;124mamount\u001b[39m\u001b[38;5;124m\"\u001b[39m]))\n",
      "File \u001b[0;32m/opt/conda/lib/python3.10/site-packages/pandas/core/frame.py:4090\u001b[0m, in \u001b[0;36mDataFrame.__getitem__\u001b[0;34m(self, key)\u001b[0m\n\u001b[1;32m   4088\u001b[0m \u001b[38;5;28;01mif\u001b[39;00m \u001b[38;5;28mself\u001b[39m\u001b[38;5;241m.\u001b[39mcolumns\u001b[38;5;241m.\u001b[39mnlevels \u001b[38;5;241m>\u001b[39m \u001b[38;5;241m1\u001b[39m:\n\u001b[1;32m   4089\u001b[0m     \u001b[38;5;28;01mreturn\u001b[39;00m \u001b[38;5;28mself\u001b[39m\u001b[38;5;241m.\u001b[39m_getitem_multilevel(key)\n\u001b[0;32m-> 4090\u001b[0m indexer \u001b[38;5;241m=\u001b[39m \u001b[38;5;28;43mself\u001b[39;49m\u001b[38;5;241;43m.\u001b[39;49m\u001b[43mcolumns\u001b[49m\u001b[38;5;241;43m.\u001b[39;49m\u001b[43mget_loc\u001b[49m\u001b[43m(\u001b[49m\u001b[43mkey\u001b[49m\u001b[43m)\u001b[49m\n\u001b[1;32m   4091\u001b[0m \u001b[38;5;28;01mif\u001b[39;00m is_integer(indexer):\n\u001b[1;32m   4092\u001b[0m     indexer \u001b[38;5;241m=\u001b[39m [indexer]\n",
      "File \u001b[0;32m/opt/conda/lib/python3.10/site-packages/pandas/core/indexes/base.py:3809\u001b[0m, in \u001b[0;36mIndex.get_loc\u001b[0;34m(self, key)\u001b[0m\n\u001b[1;32m   3804\u001b[0m     \u001b[38;5;28;01mif\u001b[39;00m \u001b[38;5;28misinstance\u001b[39m(casted_key, \u001b[38;5;28mslice\u001b[39m) \u001b[38;5;129;01mor\u001b[39;00m (\n\u001b[1;32m   3805\u001b[0m         \u001b[38;5;28misinstance\u001b[39m(casted_key, abc\u001b[38;5;241m.\u001b[39mIterable)\n\u001b[1;32m   3806\u001b[0m         \u001b[38;5;129;01mand\u001b[39;00m \u001b[38;5;28many\u001b[39m(\u001b[38;5;28misinstance\u001b[39m(x, \u001b[38;5;28mslice\u001b[39m) \u001b[38;5;28;01mfor\u001b[39;00m x \u001b[38;5;129;01min\u001b[39;00m casted_key)\n\u001b[1;32m   3807\u001b[0m     ):\n\u001b[1;32m   3808\u001b[0m         \u001b[38;5;28;01mraise\u001b[39;00m InvalidIndexError(key)\n\u001b[0;32m-> 3809\u001b[0m     \u001b[38;5;28;01mraise\u001b[39;00m \u001b[38;5;167;01mKeyError\u001b[39;00m(key) \u001b[38;5;28;01mfrom\u001b[39;00m \u001b[38;5;21;01merr\u001b[39;00m\n\u001b[1;32m   3810\u001b[0m \u001b[38;5;28;01mexcept\u001b[39;00m \u001b[38;5;167;01mTypeError\u001b[39;00m:\n\u001b[1;32m   3811\u001b[0m     \u001b[38;5;66;03m# If we have a listlike key, _check_indexing_error will raise\u001b[39;00m\n\u001b[1;32m   3812\u001b[0m     \u001b[38;5;66;03m#  InvalidIndexError. Otherwise we fall through and re-raise\u001b[39;00m\n\u001b[1;32m   3813\u001b[0m     \u001b[38;5;66;03m#  the TypeError.\u001b[39;00m\n\u001b[1;32m   3814\u001b[0m     \u001b[38;5;28mself\u001b[39m\u001b[38;5;241m.\u001b[39m_check_indexing_error(key)\n",
      "\u001b[0;31mKeyError\u001b[0m: 'aep10'"
     ]
    }
   ],
   "source": [
    "##WAPEs GENERALES CON 6 CORTES##\n",
    "print(sum(df_forecast_dia2[\"ae\"])/sum(df_forecast_dia2[\"amount\"]))\n",
    "print(sum(df_forecast_dia2[\"aep10\"])/sum(df_forecast_dia2[\"amount\"]))"
   ]
  },
  {
   "cell_type": "code",
   "execution_count": 191,
   "id": "c4dbfa72-1d14-4e69-ba45-5f9cda640ced",
   "metadata": {
    "tags": []
   },
   "outputs": [
    {
     "name": "stdout",
     "output_type": "stream",
     "text": [
      "0.1811141333584076\n",
      "0.2150900084977965\n"
     ]
    }
   ],
   "source": [
    "##WAPEs GENERALES CON 6 CORTES##\n",
    "print(sum(df_forecast_dia2[\"ae\"])/sum(df_forecast_dia2[\"amount\"]))\n",
    "print(sum(df_forecast_dia2[\"aep10\"])/sum(df_forecast_dia2[\"amount\"]))"
   ]
  },
  {
   "cell_type": "code",
   "execution_count": 81,
   "id": "6cf7f64a-c841-4587-a8be-0fd6609240ed",
   "metadata": {
    "tags": []
   },
   "outputs": [
    {
     "name": "stdout",
     "output_type": "stream",
     "text": [
      "0.13890035552106245\n",
      "0.19476317957326877\n"
     ]
    }
   ],
   "source": [
    "##WAPEs GENERALES CON 6 CORTES##\n",
    "print(sum(df_forecast_dia2[\"ae\"])/sum(df_forecast_dia2[\"amount\"]))\n",
    "print(sum(df_forecast_dia2[\"aep10\"])/sum(df_forecast_dia2[\"amount\"]))"
   ]
  },
  {
   "cell_type": "code",
   "execution_count": 192,
   "id": "967cc55e-4332-4931-b3fe-75e14a37c142",
   "metadata": {
    "tags": []
   },
   "outputs": [
    {
     "name": "stderr",
     "output_type": "stream",
     "text": [
      "/tmp/ipykernel_20/271378938.py:1: RuntimeWarning: divide by zero encountered in scalar divide\n",
      "  wape_payer_6_cuts = df_forecast_dia2.groupby('payer_country').apply(lambda x: (x['ae'].sum() / x['amount'].sum())).reset_index(name='wape')\n",
      "/tmp/ipykernel_20/271378938.py:1: DeprecationWarning: DataFrameGroupBy.apply operated on the grouping columns. This behavior is deprecated, and in a future version of pandas the grouping columns will be excluded from the operation. Either pass `include_groups=False` to exclude the groupings or explicitly select the grouping columns after groupby to silence this warning.\n",
      "  wape_payer_6_cuts = df_forecast_dia2.groupby('payer_country').apply(lambda x: (x['ae'].sum() / x['amount'].sum())).reset_index(name='wape')\n"
     ]
    }
   ],
   "source": [
    "wape_payer_6_cuts = df_forecast_dia2.groupby('payer_country').apply(lambda x: (x['ae'].sum() / x['amount'].sum())).reset_index(name='wape')"
   ]
  },
  {
   "cell_type": "code",
   "execution_count": 194,
   "id": "0f9ee187-0aad-4b42-bf70-e1670161e3c0",
   "metadata": {
    "tags": []
   },
   "outputs": [
    {
     "data": {
      "text/html": [
       "<div>\n",
       "<style scoped>\n",
       "    .dataframe tbody tr th:only-of-type {\n",
       "        vertical-align: middle;\n",
       "    }\n",
       "\n",
       "    .dataframe tbody tr th {\n",
       "        vertical-align: top;\n",
       "    }\n",
       "\n",
       "    .dataframe thead th {\n",
       "        text-align: right;\n",
       "    }\n",
       "</style>\n",
       "<table border=\"1\" class=\"dataframe\">\n",
       "  <thead>\n",
       "    <tr style=\"text-align: right;\">\n",
       "      <th></th>\n",
       "      <th>payer_country</th>\n",
       "      <th>wape</th>\n",
       "    </tr>\n",
       "  </thead>\n",
       "  <tbody>\n",
       "    <tr>\n",
       "      <th>23</th>\n",
       "      <td>BANCO PICHINCHA (TN)_ECUADOR</td>\n",
       "      <td>0.007544</td>\n",
       "    </tr>\n",
       "    <tr>\n",
       "      <th>98</th>\n",
       "      <td>TELEDOLAR-NIC (TN)_NICARAGUA</td>\n",
       "      <td>0.047959</td>\n",
       "    </tr>\n",
       "    <tr>\n",
       "      <th>108</th>\n",
       "      <td>TRANSPAY_INDONESIA</td>\n",
       "      <td>0.086795</td>\n",
       "    </tr>\n",
       "    <tr>\n",
       "      <th>91</th>\n",
       "      <td>OXXO (TN)_MEXICO</td>\n",
       "      <td>0.123412</td>\n",
       "    </tr>\n",
       "    <tr>\n",
       "      <th>31</th>\n",
       "      <td>BANPAIS (RED CHAPINA)_HONDURAS</td>\n",
       "      <td>0.125134</td>\n",
       "    </tr>\n",
       "    <tr>\n",
       "      <th>57</th>\n",
       "      <td>ENVIOS CON CLABE (APPRIZA)_MEXICO</td>\n",
       "      <td>0.128135</td>\n",
       "    </tr>\n",
       "    <tr>\n",
       "      <th>39</th>\n",
       "      <td>CARIBE EXPRESS_DOMINICAN REPUBLIC</td>\n",
       "      <td>0.137154</td>\n",
       "    </tr>\n",
       "    <tr>\n",
       "      <th>111</th>\n",
       "      <td>VIAMERICAS USA DEPOSITS_UNITED STATES</td>\n",
       "      <td>0.139447</td>\n",
       "    </tr>\n",
       "    <tr>\n",
       "      <th>25</th>\n",
       "      <td>BANCO RENDIMENTO_BRAZIL</td>\n",
       "      <td>0.141891</td>\n",
       "    </tr>\n",
       "    <tr>\n",
       "      <th>30</th>\n",
       "      <td>BANORTE (UT)_MEXICO</td>\n",
       "      <td>0.144167</td>\n",
       "    </tr>\n",
       "  </tbody>\n",
       "</table>\n",
       "</div>"
      ],
      "text/plain": [
       "                             payer_country      wape\n",
       "23            BANCO PICHINCHA (TN)_ECUADOR  0.007544\n",
       "98            TELEDOLAR-NIC (TN)_NICARAGUA  0.047959\n",
       "108                     TRANSPAY_INDONESIA  0.086795\n",
       "91                        OXXO (TN)_MEXICO  0.123412\n",
       "31          BANPAIS (RED CHAPINA)_HONDURAS  0.125134\n",
       "57       ENVIOS CON CLABE (APPRIZA)_MEXICO  0.128135\n",
       "39       CARIBE EXPRESS_DOMINICAN REPUBLIC  0.137154\n",
       "111  VIAMERICAS USA DEPOSITS_UNITED STATES  0.139447\n",
       "25                 BANCO RENDIMENTO_BRAZIL  0.141891\n",
       "30                     BANORTE (UT)_MEXICO  0.144167"
      ]
     },
     "execution_count": 194,
     "metadata": {},
     "output_type": "execute_result"
    }
   ],
   "source": [
    "wape_payer_6_cuts.sort_values(by='wape', ascending=True).head(10)"
   ]
  },
  {
   "cell_type": "code",
   "execution_count": 42,
   "id": "51aa1c6c-3688-49e6-bb9a-f72c679e6bce",
   "metadata": {
    "tags": []
   },
   "outputs": [
    {
     "data": {
      "text/html": [
       "<div>\n",
       "<style scoped>\n",
       "    .dataframe tbody tr th:only-of-type {\n",
       "        vertical-align: middle;\n",
       "    }\n",
       "\n",
       "    .dataframe tbody tr th {\n",
       "        vertical-align: top;\n",
       "    }\n",
       "\n",
       "    .dataframe thead th {\n",
       "        text-align: right;\n",
       "    }\n",
       "</style>\n",
       "<table border=\"1\" class=\"dataframe\">\n",
       "  <thead>\n",
       "    <tr style=\"text-align: right;\">\n",
       "      <th></th>\n",
       "      <th>payer_country</th>\n",
       "      <th>wape</th>\n",
       "    </tr>\n",
       "  </thead>\n",
       "  <tbody>\n",
       "    <tr>\n",
       "      <th>101</th>\n",
       "      <td>TELEDOLAR-NIC (TN)_NICARAGUA</td>\n",
       "      <td>0.032918</td>\n",
       "    </tr>\n",
       "    <tr>\n",
       "      <th>60</th>\n",
       "      <td>ENVIOS CON CLABE (APPRIZA)_MEXICO</td>\n",
       "      <td>0.096163</td>\n",
       "    </tr>\n",
       "    <tr>\n",
       "      <th>94</th>\n",
       "      <td>OXXO (TN)_MEXICO</td>\n",
       "      <td>0.097928</td>\n",
       "    </tr>\n",
       "  </tbody>\n",
       "</table>\n",
       "</div>"
      ],
      "text/plain": [
       "                         payer_country      wape\n",
       "101       TELEDOLAR-NIC (TN)_NICARAGUA  0.032918\n",
       "60   ENVIOS CON CLABE (APPRIZA)_MEXICO  0.096163\n",
       "94                    OXXO (TN)_MEXICO  0.097928"
      ]
     },
     "execution_count": 42,
     "metadata": {},
     "output_type": "execute_result"
    }
   ],
   "source": [
    "wape_payer_6_cuts.sort_values(by='wape', ascending=True).head(3)"
   ]
  },
  {
   "cell_type": "code",
   "execution_count": 195,
   "id": "6eb8f211-3ddf-4263-a2cc-e5fefe13993c",
   "metadata": {
    "tags": []
   },
   "outputs": [
    {
     "name": "stderr",
     "output_type": "stream",
     "text": [
      "/tmp/ipykernel_20/2740907148.py:1: RuntimeWarning: divide by zero encountered in scalar divide\n",
      "  wape_p10_payer_6_cuts = df_forecast_dia2.groupby('payer_country').apply(lambda x: (x['aep10'].sum() / x['amount'].sum())).reset_index(name='wape')\n",
      "/tmp/ipykernel_20/2740907148.py:1: DeprecationWarning: DataFrameGroupBy.apply operated on the grouping columns. This behavior is deprecated, and in a future version of pandas the grouping columns will be excluded from the operation. Either pass `include_groups=False` to exclude the groupings or explicitly select the grouping columns after groupby to silence this warning.\n",
      "  wape_p10_payer_6_cuts = df_forecast_dia2.groupby('payer_country').apply(lambda x: (x['aep10'].sum() / x['amount'].sum())).reset_index(name='wape')\n"
     ]
    }
   ],
   "source": [
    "wape_p10_payer_6_cuts = df_forecast_dia2.groupby('payer_country').apply(lambda x: (x['aep10'].sum() / x['amount'].sum())).reset_index(name='wape')"
   ]
  },
  {
   "cell_type": "code",
   "execution_count": 196,
   "id": "5ef8dd5b-d9ef-46ae-85da-c85e1e40f63b",
   "metadata": {
    "tags": []
   },
   "outputs": [
    {
     "data": {
      "text/html": [
       "<div>\n",
       "<style scoped>\n",
       "    .dataframe tbody tr th:only-of-type {\n",
       "        vertical-align: middle;\n",
       "    }\n",
       "\n",
       "    .dataframe tbody tr th {\n",
       "        vertical-align: top;\n",
       "    }\n",
       "\n",
       "    .dataframe thead th {\n",
       "        text-align: right;\n",
       "    }\n",
       "</style>\n",
       "<table border=\"1\" class=\"dataframe\">\n",
       "  <thead>\n",
       "    <tr style=\"text-align: right;\">\n",
       "      <th></th>\n",
       "      <th>payer_country</th>\n",
       "      <th>wape</th>\n",
       "    </tr>\n",
       "  </thead>\n",
       "  <tbody>\n",
       "    <tr>\n",
       "      <th>0</th>\n",
       "      <td>24XORO_MEXICO</td>\n",
       "      <td>0.036457</td>\n",
       "    </tr>\n",
       "    <tr>\n",
       "      <th>87</th>\n",
       "      <td>NAFA_MALI</td>\n",
       "      <td>0.050930</td>\n",
       "    </tr>\n",
       "    <tr>\n",
       "      <th>97</th>\n",
       "      <td>TELEDOLAR (TN)_COSTA RICA</td>\n",
       "      <td>0.089240</td>\n",
       "    </tr>\n",
       "    <tr>\n",
       "      <th>23</th>\n",
       "      <td>BANCO PICHINCHA (TN)_ECUADOR</td>\n",
       "      <td>0.109849</td>\n",
       "    </tr>\n",
       "    <tr>\n",
       "      <th>82</th>\n",
       "      <td>NAFA_BURKINA FASO</td>\n",
       "      <td>0.123809</td>\n",
       "    </tr>\n",
       "    <tr>\n",
       "      <th>57</th>\n",
       "      <td>ENVIOS CON CLABE (APPRIZA)_MEXICO</td>\n",
       "      <td>0.143738</td>\n",
       "    </tr>\n",
       "    <tr>\n",
       "      <th>35</th>\n",
       "      <td>BANSEFI - BANCO DEL BIENESTAR_MEXICO</td>\n",
       "      <td>0.149080</td>\n",
       "    </tr>\n",
       "    <tr>\n",
       "      <th>37</th>\n",
       "      <td>BBVA - BANCOMER (BTS)_MEXICO</td>\n",
       "      <td>0.153471</td>\n",
       "    </tr>\n",
       "    <tr>\n",
       "      <th>26</th>\n",
       "      <td>BANCOLOMBIA_COLOMBIA</td>\n",
       "      <td>0.158788</td>\n",
       "    </tr>\n",
       "    <tr>\n",
       "      <th>67</th>\n",
       "      <td>GRUPO EXITO (TN)_COLOMBIA</td>\n",
       "      <td>0.160584</td>\n",
       "    </tr>\n",
       "  </tbody>\n",
       "</table>\n",
       "</div>"
      ],
      "text/plain": [
       "                           payer_country      wape\n",
       "0                          24XORO_MEXICO  0.036457\n",
       "87                             NAFA_MALI  0.050930\n",
       "97             TELEDOLAR (TN)_COSTA RICA  0.089240\n",
       "23          BANCO PICHINCHA (TN)_ECUADOR  0.109849\n",
       "82                     NAFA_BURKINA FASO  0.123809\n",
       "57     ENVIOS CON CLABE (APPRIZA)_MEXICO  0.143738\n",
       "35  BANSEFI - BANCO DEL BIENESTAR_MEXICO  0.149080\n",
       "37          BBVA - BANCOMER (BTS)_MEXICO  0.153471\n",
       "26                  BANCOLOMBIA_COLOMBIA  0.158788\n",
       "67             GRUPO EXITO (TN)_COLOMBIA  0.160584"
      ]
     },
     "execution_count": 196,
     "metadata": {},
     "output_type": "execute_result"
    }
   ],
   "source": [
    "wape_p10_payer_6_cuts.sort_values(by='wape', ascending=True).head(10)"
   ]
  },
  {
   "cell_type": "code",
   "execution_count": 44,
   "id": "e7f18bbb-474c-4682-ab5e-5ed83163fca8",
   "metadata": {
    "tags": []
   },
   "outputs": [
    {
     "data": {
      "text/html": [
       "<div>\n",
       "<style scoped>\n",
       "    .dataframe tbody tr th:only-of-type {\n",
       "        vertical-align: middle;\n",
       "    }\n",
       "\n",
       "    .dataframe tbody tr th {\n",
       "        vertical-align: top;\n",
       "    }\n",
       "\n",
       "    .dataframe thead th {\n",
       "        text-align: right;\n",
       "    }\n",
       "</style>\n",
       "<table border=\"1\" class=\"dataframe\">\n",
       "  <thead>\n",
       "    <tr style=\"text-align: right;\">\n",
       "      <th></th>\n",
       "      <th>payer_country</th>\n",
       "      <th>wape</th>\n",
       "    </tr>\n",
       "  </thead>\n",
       "  <tbody>\n",
       "    <tr>\n",
       "      <th>0</th>\n",
       "      <td>24XORO_MEXICO</td>\n",
       "      <td>0.091992</td>\n",
       "    </tr>\n",
       "    <tr>\n",
       "      <th>39</th>\n",
       "      <td>BBVA - BANCOMER (BTS)_MEXICO</td>\n",
       "      <td>0.122869</td>\n",
       "    </tr>\n",
       "    <tr>\n",
       "      <th>85</th>\n",
       "      <td>NAFA_BURKINA FASO</td>\n",
       "      <td>0.123809</td>\n",
       "    </tr>\n",
       "  </tbody>\n",
       "</table>\n",
       "</div>"
      ],
      "text/plain": [
       "                   payer_country      wape\n",
       "0                  24XORO_MEXICO  0.091992\n",
       "39  BBVA - BANCOMER (BTS)_MEXICO  0.122869\n",
       "85             NAFA_BURKINA FASO  0.123809"
      ]
     },
     "execution_count": 44,
     "metadata": {},
     "output_type": "execute_result"
    }
   ],
   "source": [
    "wape_p10_payer_6_cuts.sort_values(by='wape', ascending=True).head(3)"
   ]
  },
  {
   "cell_type": "code",
   "execution_count": 197,
   "id": "a916dd18-5cb4-4783-9712-807985154594",
   "metadata": {
    "tags": []
   },
   "outputs": [
    {
     "name": "stderr",
     "output_type": "stream",
     "text": [
      "/tmp/ipykernel_20/817708580.py:1: DeprecationWarning: DataFrameGroupBy.apply operated on the grouping columns. This behavior is deprecated, and in a future version of pandas the grouping columns will be excluded from the operation. Either pass `include_groups=False` to exclude the groupings or explicitly select the grouping columns after groupby to silence this warning.\n",
      "  wape_country_6_cuts = df_forecast_dia2.groupby('country').apply(lambda x: (x['ae'].sum() / x['amount'].sum())).reset_index(name='wape')\n"
     ]
    }
   ],
   "source": [
    "wape_country_6_cuts = df_forecast_dia2.groupby('country').apply(lambda x: (x['ae'].sum() / x['amount'].sum())).reset_index(name='wape')"
   ]
  },
  {
   "cell_type": "code",
   "execution_count": 198,
   "id": "6bac3dd7-e67c-4343-b9af-d9ec0389bf8f",
   "metadata": {
    "tags": []
   },
   "outputs": [
    {
     "data": {
      "text/html": [
       "<div>\n",
       "<style scoped>\n",
       "    .dataframe tbody tr th:only-of-type {\n",
       "        vertical-align: middle;\n",
       "    }\n",
       "\n",
       "    .dataframe tbody tr th {\n",
       "        vertical-align: top;\n",
       "    }\n",
       "\n",
       "    .dataframe thead th {\n",
       "        text-align: right;\n",
       "    }\n",
       "</style>\n",
       "<table border=\"1\" class=\"dataframe\">\n",
       "  <thead>\n",
       "    <tr style=\"text-align: right;\">\n",
       "      <th></th>\n",
       "      <th>country</th>\n",
       "      <th>wape</th>\n",
       "    </tr>\n",
       "  </thead>\n",
       "  <tbody>\n",
       "    <tr>\n",
       "      <th>38</th>\n",
       "      <td>UNITED STATES</td>\n",
       "      <td>0.143067</td>\n",
       "    </tr>\n",
       "    <tr>\n",
       "      <th>11</th>\n",
       "      <td>DOMINICAN REPUBLIC</td>\n",
       "      <td>0.143430</td>\n",
       "    </tr>\n",
       "    <tr>\n",
       "      <th>26</th>\n",
       "      <td>MEXICO</td>\n",
       "      <td>0.165545</td>\n",
       "    </tr>\n",
       "    <tr>\n",
       "      <th>4</th>\n",
       "      <td>BRAZIL</td>\n",
       "      <td>0.169045</td>\n",
       "    </tr>\n",
       "    <tr>\n",
       "      <th>16</th>\n",
       "      <td>GUATEMALA</td>\n",
       "      <td>0.181861</td>\n",
       "    </tr>\n",
       "    <tr>\n",
       "      <th>12</th>\n",
       "      <td>ECUADOR</td>\n",
       "      <td>0.190883</td>\n",
       "    </tr>\n",
       "    <tr>\n",
       "      <th>30</th>\n",
       "      <td>PERU</td>\n",
       "      <td>0.192993</td>\n",
       "    </tr>\n",
       "    <tr>\n",
       "      <th>28</th>\n",
       "      <td>NICARAGUA</td>\n",
       "      <td>0.194889</td>\n",
       "    </tr>\n",
       "    <tr>\n",
       "      <th>19</th>\n",
       "      <td>HONDURAS</td>\n",
       "      <td>0.201900</td>\n",
       "    </tr>\n",
       "    <tr>\n",
       "      <th>34</th>\n",
       "      <td>SIERRA LEONE</td>\n",
       "      <td>0.204654</td>\n",
       "    </tr>\n",
       "  </tbody>\n",
       "</table>\n",
       "</div>"
      ],
      "text/plain": [
       "               country      wape\n",
       "38       UNITED STATES  0.143067\n",
       "11  DOMINICAN REPUBLIC  0.143430\n",
       "26              MEXICO  0.165545\n",
       "4               BRAZIL  0.169045\n",
       "16           GUATEMALA  0.181861\n",
       "12             ECUADOR  0.190883\n",
       "30                PERU  0.192993\n",
       "28           NICARAGUA  0.194889\n",
       "19            HONDURAS  0.201900\n",
       "34        SIERRA LEONE  0.204654"
      ]
     },
     "execution_count": 198,
     "metadata": {},
     "output_type": "execute_result"
    }
   ],
   "source": [
    "wape_country_6_cuts.sort_values(by='wape', ascending=True).head(10)"
   ]
  },
  {
   "cell_type": "code",
   "execution_count": 46,
   "id": "094690b9-93e4-4704-b484-e865cf6f9913",
   "metadata": {
    "tags": []
   },
   "outputs": [
    {
     "data": {
      "text/html": [
       "<div>\n",
       "<style scoped>\n",
       "    .dataframe tbody tr th:only-of-type {\n",
       "        vertical-align: middle;\n",
       "    }\n",
       "\n",
       "    .dataframe tbody tr th {\n",
       "        vertical-align: top;\n",
       "    }\n",
       "\n",
       "    .dataframe thead th {\n",
       "        text-align: right;\n",
       "    }\n",
       "</style>\n",
       "<table border=\"1\" class=\"dataframe\">\n",
       "  <thead>\n",
       "    <tr style=\"text-align: right;\">\n",
       "      <th></th>\n",
       "      <th>country</th>\n",
       "      <th>wape</th>\n",
       "    </tr>\n",
       "  </thead>\n",
       "  <tbody>\n",
       "    <tr>\n",
       "      <th>27</th>\n",
       "      <td>MEXICO</td>\n",
       "      <td>0.125674</td>\n",
       "    </tr>\n",
       "    <tr>\n",
       "      <th>11</th>\n",
       "      <td>DOMINICAN REPUBLIC</td>\n",
       "      <td>0.129650</td>\n",
       "    </tr>\n",
       "    <tr>\n",
       "      <th>29</th>\n",
       "      <td>NICARAGUA</td>\n",
       "      <td>0.136759</td>\n",
       "    </tr>\n",
       "  </tbody>\n",
       "</table>\n",
       "</div>"
      ],
      "text/plain": [
       "               country      wape\n",
       "27              MEXICO  0.125674\n",
       "11  DOMINICAN REPUBLIC  0.129650\n",
       "29           NICARAGUA  0.136759"
      ]
     },
     "execution_count": 46,
     "metadata": {},
     "output_type": "execute_result"
    }
   ],
   "source": [
    "wape_country_6_cuts.sort_values(by='wape', ascending=True).head(3)"
   ]
  },
  {
   "cell_type": "code",
   "execution_count": 199,
   "id": "fecf79eb-94be-4969-b5b3-8e1ef9caef41",
   "metadata": {
    "tags": []
   },
   "outputs": [
    {
     "name": "stderr",
     "output_type": "stream",
     "text": [
      "/tmp/ipykernel_20/206627919.py:1: DeprecationWarning: DataFrameGroupBy.apply operated on the grouping columns. This behavior is deprecated, and in a future version of pandas the grouping columns will be excluded from the operation. Either pass `include_groups=False` to exclude the groupings or explicitly select the grouping columns after groupby to silence this warning.\n",
      "  wape_p10_country_6_cuts = df_forecast_dia2.groupby('country').apply(lambda x: (x['aep10'].sum() / x['amount'].sum())).reset_index(name='wape')\n"
     ]
    }
   ],
   "source": [
    "wape_p10_country_6_cuts = df_forecast_dia2.groupby('country').apply(lambda x: (x['aep10'].sum() / x['amount'].sum())).reset_index(name='wape')"
   ]
  },
  {
   "cell_type": "code",
   "execution_count": 200,
   "id": "1fee147a-2719-4238-bb71-eb8049e02d64",
   "metadata": {
    "tags": []
   },
   "outputs": [
    {
     "data": {
      "text/html": [
       "<div>\n",
       "<style scoped>\n",
       "    .dataframe tbody tr th:only-of-type {\n",
       "        vertical-align: middle;\n",
       "    }\n",
       "\n",
       "    .dataframe tbody tr th {\n",
       "        vertical-align: top;\n",
       "    }\n",
       "\n",
       "    .dataframe thead th {\n",
       "        text-align: right;\n",
       "    }\n",
       "</style>\n",
       "<table border=\"1\" class=\"dataframe\">\n",
       "  <thead>\n",
       "    <tr style=\"text-align: right;\">\n",
       "      <th></th>\n",
       "      <th>country</th>\n",
       "      <th>wape</th>\n",
       "    </tr>\n",
       "  </thead>\n",
       "  <tbody>\n",
       "    <tr>\n",
       "      <th>25</th>\n",
       "      <td>MALI</td>\n",
       "      <td>0.050930</td>\n",
       "    </tr>\n",
       "    <tr>\n",
       "      <th>8</th>\n",
       "      <td>COLOMBIA</td>\n",
       "      <td>0.168306</td>\n",
       "    </tr>\n",
       "    <tr>\n",
       "      <th>26</th>\n",
       "      <td>MEXICO</td>\n",
       "      <td>0.180883</td>\n",
       "    </tr>\n",
       "    <tr>\n",
       "      <th>9</th>\n",
       "      <td>COSTA RICA</td>\n",
       "      <td>0.202489</td>\n",
       "    </tr>\n",
       "    <tr>\n",
       "      <th>28</th>\n",
       "      <td>NICARAGUA</td>\n",
       "      <td>0.224507</td>\n",
       "    </tr>\n",
       "    <tr>\n",
       "      <th>11</th>\n",
       "      <td>DOMINICAN REPUBLIC</td>\n",
       "      <td>0.226342</td>\n",
       "    </tr>\n",
       "    <tr>\n",
       "      <th>12</th>\n",
       "      <td>ECUADOR</td>\n",
       "      <td>0.229326</td>\n",
       "    </tr>\n",
       "    <tr>\n",
       "      <th>16</th>\n",
       "      <td>GUATEMALA</td>\n",
       "      <td>0.240650</td>\n",
       "    </tr>\n",
       "    <tr>\n",
       "      <th>19</th>\n",
       "      <td>HONDURAS</td>\n",
       "      <td>0.241567</td>\n",
       "    </tr>\n",
       "    <tr>\n",
       "      <th>30</th>\n",
       "      <td>PERU</td>\n",
       "      <td>0.262739</td>\n",
       "    </tr>\n",
       "  </tbody>\n",
       "</table>\n",
       "</div>"
      ],
      "text/plain": [
       "               country      wape\n",
       "25                MALI  0.050930\n",
       "8             COLOMBIA  0.168306\n",
       "26              MEXICO  0.180883\n",
       "9           COSTA RICA  0.202489\n",
       "28           NICARAGUA  0.224507\n",
       "11  DOMINICAN REPUBLIC  0.226342\n",
       "12             ECUADOR  0.229326\n",
       "16           GUATEMALA  0.240650\n",
       "19            HONDURAS  0.241567\n",
       "30                PERU  0.262739"
      ]
     },
     "execution_count": 200,
     "metadata": {},
     "output_type": "execute_result"
    }
   ],
   "source": [
    "wape_p10_country_6_cuts.sort_values(by='wape', ascending=True).head(10)"
   ]
  },
  {
   "cell_type": "code",
   "execution_count": 48,
   "id": "37bace9e-3082-4f26-bfc5-04d4613b09b5",
   "metadata": {
    "tags": []
   },
   "outputs": [
    {
     "data": {
      "text/html": [
       "<div>\n",
       "<style scoped>\n",
       "    .dataframe tbody tr th:only-of-type {\n",
       "        vertical-align: middle;\n",
       "    }\n",
       "\n",
       "    .dataframe tbody tr th {\n",
       "        vertical-align: top;\n",
       "    }\n",
       "\n",
       "    .dataframe thead th {\n",
       "        text-align: right;\n",
       "    }\n",
       "</style>\n",
       "<table border=\"1\" class=\"dataframe\">\n",
       "  <thead>\n",
       "    <tr style=\"text-align: right;\">\n",
       "      <th></th>\n",
       "      <th>country</th>\n",
       "      <th>wape</th>\n",
       "    </tr>\n",
       "  </thead>\n",
       "  <tbody>\n",
       "    <tr>\n",
       "      <th>27</th>\n",
       "      <td>MEXICO</td>\n",
       "      <td>0.162479</td>\n",
       "    </tr>\n",
       "    <tr>\n",
       "      <th>8</th>\n",
       "      <td>COLOMBIA</td>\n",
       "      <td>0.196919</td>\n",
       "    </tr>\n",
       "    <tr>\n",
       "      <th>17</th>\n",
       "      <td>GUATEMALA</td>\n",
       "      <td>0.210405</td>\n",
       "    </tr>\n",
       "  </tbody>\n",
       "</table>\n",
       "</div>"
      ],
      "text/plain": [
       "      country      wape\n",
       "27     MEXICO  0.162479\n",
       "8    COLOMBIA  0.196919\n",
       "17  GUATEMALA  0.210405"
      ]
     },
     "execution_count": 48,
     "metadata": {},
     "output_type": "execute_result"
    }
   ],
   "source": [
    "wape_p10_country_6_cuts.sort_values(by='wape', ascending=True).head(3)"
   ]
  },
  {
   "cell_type": "code",
   "execution_count": 49,
   "id": "1a7dd073-c1fd-4673-b06b-deabdaf03313",
   "metadata": {},
   "outputs": [],
   "source": [
    "###AHORA CALCULAMOS LOS MAPES Y WAPES PERO SIN CONTAR DOS CORTES FINES DE 2022 (RUIDOSOS)###"
   ]
  },
  {
   "cell_type": "code",
   "execution_count": 201,
   "id": "35517929-343e-4b1b-a2f7-58ae55348b6b",
   "metadata": {
    "tags": []
   },
   "outputs": [],
   "source": [
    "df_forecast2=df_forecast_dia2.copy()"
   ]
  },
  {
   "cell_type": "code",
   "execution_count": 202,
   "id": "1bdb8b01-de8a-4bd4-8dfe-80c74ec56286",
   "metadata": {
    "tags": []
   },
   "outputs": [],
   "source": [
    "df_forecast2=df_forecast2.loc[(df_forecast2.date!='2022-12-21') & (df_forecast2.date!='2022-12-22') & (df_forecast.date!='2022-12-31') & (df_forecast.date!='2022-12-30')]"
   ]
  },
  {
   "cell_type": "code",
   "execution_count": 203,
   "id": "9c20d2b7-bc8f-43e4-aae5-10d7bfd873b7",
   "metadata": {
    "tags": []
   },
   "outputs": [
    {
     "data": {
      "text/plain": [
       "<DatetimeArray>\n",
       "['2022-11-27 00:00:00', '2023-09-12 00:00:00', '2023-03-22 00:00:00',\n",
       " '2023-05-07 00:00:00']\n",
       "Length: 4, dtype: datetime64[ns]"
      ]
     },
     "execution_count": 203,
     "metadata": {},
     "output_type": "execute_result"
    }
   ],
   "source": [
    "df_forecast2.date.unique()"
   ]
  },
  {
   "cell_type": "code",
   "execution_count": 204,
   "id": "d885c127-cfe5-4d57-b60e-1e92b7be2209",
   "metadata": {
    "tags": []
   },
   "outputs": [
    {
     "name": "stderr",
     "output_type": "stream",
     "text": [
      "/tmp/ipykernel_20/1477661267.py:1: DeprecationWarning: DataFrameGroupBy.apply operated on the grouping columns. This behavior is deprecated, and in a future version of pandas the grouping columns will be excluded from the operation. Either pass `include_groups=False` to exclude the groupings or explicitly select the grouping columns after groupby to silence this warning.\n",
      "  mape_payer_4_cuts=df_forecast2.groupby('payer_country').apply(lambda x: (x['pe'].mean())).reset_index(name='mape')\n"
     ]
    }
   ],
   "source": [
    "mape_payer_4_cuts=df_forecast2.groupby('payer_country').apply(lambda x: (x['pe'].mean())).reset_index(name='mape')"
   ]
  },
  {
   "cell_type": "code",
   "execution_count": 205,
   "id": "104af62f-b7ad-49fe-bfd6-c994e418fbb5",
   "metadata": {
    "tags": []
   },
   "outputs": [
    {
     "data": {
      "text/html": [
       "<div>\n",
       "<style scoped>\n",
       "    .dataframe tbody tr th:only-of-type {\n",
       "        vertical-align: middle;\n",
       "    }\n",
       "\n",
       "    .dataframe tbody tr th {\n",
       "        vertical-align: top;\n",
       "    }\n",
       "\n",
       "    .dataframe thead th {\n",
       "        text-align: right;\n",
       "    }\n",
       "</style>\n",
       "<table border=\"1\" class=\"dataframe\">\n",
       "  <thead>\n",
       "    <tr style=\"text-align: right;\">\n",
       "      <th></th>\n",
       "      <th>payer_country</th>\n",
       "      <th>mape</th>\n",
       "    </tr>\n",
       "  </thead>\n",
       "  <tbody>\n",
       "    <tr>\n",
       "      <th>23</th>\n",
       "      <td>BANCO PICHINCHA (TN)_ECUADOR</td>\n",
       "      <td>0.007544</td>\n",
       "    </tr>\n",
       "    <tr>\n",
       "      <th>98</th>\n",
       "      <td>TELEDOLAR-NIC (TN)_NICARAGUA</td>\n",
       "      <td>0.047959</td>\n",
       "    </tr>\n",
       "    <tr>\n",
       "      <th>91</th>\n",
       "      <td>OXXO (TN)_MEXICO</td>\n",
       "      <td>0.065865</td>\n",
       "    </tr>\n",
       "  </tbody>\n",
       "</table>\n",
       "</div>"
      ],
      "text/plain": [
       "                   payer_country      mape\n",
       "23  BANCO PICHINCHA (TN)_ECUADOR  0.007544\n",
       "98  TELEDOLAR-NIC (TN)_NICARAGUA  0.047959\n",
       "91              OXXO (TN)_MEXICO  0.065865"
      ]
     },
     "execution_count": 205,
     "metadata": {},
     "output_type": "execute_result"
    }
   ],
   "source": [
    "mape_payer_4_cuts.sort_values(by='mape', ascending=True).head(3)"
   ]
  },
  {
   "cell_type": "code",
   "execution_count": 54,
   "id": "3a42d6f4-acad-4abf-9868-36474143f435",
   "metadata": {
    "tags": []
   },
   "outputs": [
    {
     "data": {
      "text/html": [
       "<div>\n",
       "<style scoped>\n",
       "    .dataframe tbody tr th:only-of-type {\n",
       "        vertical-align: middle;\n",
       "    }\n",
       "\n",
       "    .dataframe tbody tr th {\n",
       "        vertical-align: top;\n",
       "    }\n",
       "\n",
       "    .dataframe thead th {\n",
       "        text-align: right;\n",
       "    }\n",
       "</style>\n",
       "<table border=\"1\" class=\"dataframe\">\n",
       "  <thead>\n",
       "    <tr style=\"text-align: right;\">\n",
       "      <th></th>\n",
       "      <th>payer_country</th>\n",
       "      <th>mape</th>\n",
       "    </tr>\n",
       "  </thead>\n",
       "  <tbody>\n",
       "    <tr>\n",
       "      <th>101</th>\n",
       "      <td>TELEDOLAR-NIC (TN)_NICARAGUA</td>\n",
       "      <td>0.035222</td>\n",
       "    </tr>\n",
       "    <tr>\n",
       "      <th>94</th>\n",
       "      <td>OXXO (TN)_MEXICO</td>\n",
       "      <td>0.070342</td>\n",
       "    </tr>\n",
       "    <tr>\n",
       "      <th>42</th>\n",
       "      <td>CARIBE EXPRESS_DOMINICAN REPUBLIC</td>\n",
       "      <td>0.078237</td>\n",
       "    </tr>\n",
       "  </tbody>\n",
       "</table>\n",
       "</div>"
      ],
      "text/plain": [
       "                         payer_country      mape\n",
       "101       TELEDOLAR-NIC (TN)_NICARAGUA  0.035222\n",
       "94                    OXXO (TN)_MEXICO  0.070342\n",
       "42   CARIBE EXPRESS_DOMINICAN REPUBLIC  0.078237"
      ]
     },
     "execution_count": 54,
     "metadata": {},
     "output_type": "execute_result"
    }
   ],
   "source": [
    "mape_payer_4_cuts.sort_values(by='mape', ascending=True).head(3)"
   ]
  },
  {
   "cell_type": "code",
   "execution_count": 206,
   "id": "0b7bd172-5ab9-495d-8f34-c41b116c8a61",
   "metadata": {
    "tags": []
   },
   "outputs": [
    {
     "name": "stderr",
     "output_type": "stream",
     "text": [
      "/tmp/ipykernel_20/2779562617.py:1: RuntimeWarning: divide by zero encountered in scalar divide\n",
      "  wape_payer_4_cuts = df_forecast2.groupby('payer_country').apply(lambda x: (x['ae'].sum() / x['amount'].sum())).reset_index(name='wape')\n",
      "/tmp/ipykernel_20/2779562617.py:1: DeprecationWarning: DataFrameGroupBy.apply operated on the grouping columns. This behavior is deprecated, and in a future version of pandas the grouping columns will be excluded from the operation. Either pass `include_groups=False` to exclude the groupings or explicitly select the grouping columns after groupby to silence this warning.\n",
      "  wape_payer_4_cuts = df_forecast2.groupby('payer_country').apply(lambda x: (x['ae'].sum() / x['amount'].sum())).reset_index(name='wape')\n"
     ]
    }
   ],
   "source": [
    "wape_payer_4_cuts = df_forecast2.groupby('payer_country').apply(lambda x: (x['ae'].sum() / x['amount'].sum())).reset_index(name='wape')"
   ]
  },
  {
   "cell_type": "code",
   "execution_count": 207,
   "id": "36138131-20da-4a5b-a2db-e3bd6ef652d0",
   "metadata": {
    "tags": []
   },
   "outputs": [
    {
     "data": {
      "text/html": [
       "<div>\n",
       "<style scoped>\n",
       "    .dataframe tbody tr th:only-of-type {\n",
       "        vertical-align: middle;\n",
       "    }\n",
       "\n",
       "    .dataframe tbody tr th {\n",
       "        vertical-align: top;\n",
       "    }\n",
       "\n",
       "    .dataframe thead th {\n",
       "        text-align: right;\n",
       "    }\n",
       "</style>\n",
       "<table border=\"1\" class=\"dataframe\">\n",
       "  <thead>\n",
       "    <tr style=\"text-align: right;\">\n",
       "      <th></th>\n",
       "      <th>payer_country</th>\n",
       "      <th>wape</th>\n",
       "    </tr>\n",
       "  </thead>\n",
       "  <tbody>\n",
       "    <tr>\n",
       "      <th>23</th>\n",
       "      <td>BANCO PICHINCHA (TN)_ECUADOR</td>\n",
       "      <td>0.007544</td>\n",
       "    </tr>\n",
       "    <tr>\n",
       "      <th>39</th>\n",
       "      <td>CARIBE EXPRESS_DOMINICAN REPUBLIC</td>\n",
       "      <td>0.045743</td>\n",
       "    </tr>\n",
       "    <tr>\n",
       "      <th>98</th>\n",
       "      <td>TELEDOLAR-NIC (TN)_NICARAGUA</td>\n",
       "      <td>0.047959</td>\n",
       "    </tr>\n",
       "  </tbody>\n",
       "</table>\n",
       "</div>"
      ],
      "text/plain": [
       "                        payer_country      wape\n",
       "23       BANCO PICHINCHA (TN)_ECUADOR  0.007544\n",
       "39  CARIBE EXPRESS_DOMINICAN REPUBLIC  0.045743\n",
       "98       TELEDOLAR-NIC (TN)_NICARAGUA  0.047959"
      ]
     },
     "execution_count": 207,
     "metadata": {},
     "output_type": "execute_result"
    }
   ],
   "source": [
    "wape_payer_4_cuts.sort_values(by='wape', ascending=True).head(3)"
   ]
  },
  {
   "cell_type": "code",
   "execution_count": 56,
   "id": "4d3d7444-1324-4ea1-abe0-70dee15329ba",
   "metadata": {
    "tags": []
   },
   "outputs": [
    {
     "data": {
      "text/html": [
       "<div>\n",
       "<style scoped>\n",
       "    .dataframe tbody tr th:only-of-type {\n",
       "        vertical-align: middle;\n",
       "    }\n",
       "\n",
       "    .dataframe tbody tr th {\n",
       "        vertical-align: top;\n",
       "    }\n",
       "\n",
       "    .dataframe thead th {\n",
       "        text-align: right;\n",
       "    }\n",
       "</style>\n",
       "<table border=\"1\" class=\"dataframe\">\n",
       "  <thead>\n",
       "    <tr style=\"text-align: right;\">\n",
       "      <th></th>\n",
       "      <th>payer_country</th>\n",
       "      <th>wape</th>\n",
       "    </tr>\n",
       "  </thead>\n",
       "  <tbody>\n",
       "    <tr>\n",
       "      <th>101</th>\n",
       "      <td>TELEDOLAR-NIC (TN)_NICARAGUA</td>\n",
       "      <td>0.032918</td>\n",
       "    </tr>\n",
       "    <tr>\n",
       "      <th>42</th>\n",
       "      <td>CARIBE EXPRESS_DOMINICAN REPUBLIC</td>\n",
       "      <td>0.069413</td>\n",
       "    </tr>\n",
       "    <tr>\n",
       "      <th>94</th>\n",
       "      <td>OXXO (TN)_MEXICO</td>\n",
       "      <td>0.071102</td>\n",
       "    </tr>\n",
       "  </tbody>\n",
       "</table>\n",
       "</div>"
      ],
      "text/plain": [
       "                         payer_country      wape\n",
       "101       TELEDOLAR-NIC (TN)_NICARAGUA  0.032918\n",
       "42   CARIBE EXPRESS_DOMINICAN REPUBLIC  0.069413\n",
       "94                    OXXO (TN)_MEXICO  0.071102"
      ]
     },
     "execution_count": 56,
     "metadata": {},
     "output_type": "execute_result"
    }
   ],
   "source": [
    "wape_payer_4_cuts.sort_values(by='wape', ascending=True).head(3)"
   ]
  },
  {
   "cell_type": "code",
   "execution_count": 208,
   "id": "b211564a-c5f0-40d5-b131-b2942e235f9a",
   "metadata": {
    "tags": []
   },
   "outputs": [
    {
     "name": "stderr",
     "output_type": "stream",
     "text": [
      "/tmp/ipykernel_20/1622549522.py:1: RuntimeWarning: divide by zero encountered in scalar divide\n",
      "  wape_p10_payer_4_cuts = df_forecast2.groupby('payer_country').apply(lambda x: (x['aep10'].sum() / x['amount'].sum())).reset_index(name='wape')\n",
      "/tmp/ipykernel_20/1622549522.py:1: DeprecationWarning: DataFrameGroupBy.apply operated on the grouping columns. This behavior is deprecated, and in a future version of pandas the grouping columns will be excluded from the operation. Either pass `include_groups=False` to exclude the groupings or explicitly select the grouping columns after groupby to silence this warning.\n",
      "  wape_p10_payer_4_cuts = df_forecast2.groupby('payer_country').apply(lambda x: (x['aep10'].sum() / x['amount'].sum())).reset_index(name='wape')\n"
     ]
    }
   ],
   "source": [
    "wape_p10_payer_4_cuts = df_forecast2.groupby('payer_country').apply(lambda x: (x['aep10'].sum() / x['amount'].sum())).reset_index(name='wape')"
   ]
  },
  {
   "cell_type": "code",
   "execution_count": 209,
   "id": "f3487c72-2856-4bbf-81b6-5ca54f370312",
   "metadata": {
    "tags": []
   },
   "outputs": [
    {
     "data": {
      "text/html": [
       "<div>\n",
       "<style scoped>\n",
       "    .dataframe tbody tr th:only-of-type {\n",
       "        vertical-align: middle;\n",
       "    }\n",
       "\n",
       "    .dataframe tbody tr th {\n",
       "        vertical-align: top;\n",
       "    }\n",
       "\n",
       "    .dataframe thead th {\n",
       "        text-align: right;\n",
       "    }\n",
       "</style>\n",
       "<table border=\"1\" class=\"dataframe\">\n",
       "  <thead>\n",
       "    <tr style=\"text-align: right;\">\n",
       "      <th></th>\n",
       "      <th>payer_country</th>\n",
       "      <th>wape</th>\n",
       "    </tr>\n",
       "  </thead>\n",
       "  <tbody>\n",
       "    <tr>\n",
       "      <th>35</th>\n",
       "      <td>BANSEFI - BANCO DEL BIENESTAR_MEXICO</td>\n",
       "      <td>0.023726</td>\n",
       "    </tr>\n",
       "    <tr>\n",
       "      <th>0</th>\n",
       "      <td>24XORO_MEXICO</td>\n",
       "      <td>0.036457</td>\n",
       "    </tr>\n",
       "    <tr>\n",
       "      <th>87</th>\n",
       "      <td>NAFA_MALI</td>\n",
       "      <td>0.050930</td>\n",
       "    </tr>\n",
       "  </tbody>\n",
       "</table>\n",
       "</div>"
      ],
      "text/plain": [
       "                           payer_country      wape\n",
       "35  BANSEFI - BANCO DEL BIENESTAR_MEXICO  0.023726\n",
       "0                          24XORO_MEXICO  0.036457\n",
       "87                             NAFA_MALI  0.050930"
      ]
     },
     "execution_count": 209,
     "metadata": {},
     "output_type": "execute_result"
    }
   ],
   "source": [
    "wape_p10_payer_4_cuts.sort_values(by='wape', ascending=True).head(3)"
   ]
  },
  {
   "cell_type": "code",
   "execution_count": 58,
   "id": "efebed87-7f5f-41f8-a697-51e39b3774a4",
   "metadata": {
    "tags": []
   },
   "outputs": [
    {
     "data": {
      "text/html": [
       "<div>\n",
       "<style scoped>\n",
       "    .dataframe tbody tr th:only-of-type {\n",
       "        vertical-align: middle;\n",
       "    }\n",
       "\n",
       "    .dataframe tbody tr th {\n",
       "        vertical-align: top;\n",
       "    }\n",
       "\n",
       "    .dataframe thead th {\n",
       "        text-align: right;\n",
       "    }\n",
       "</style>\n",
       "<table border=\"1\" class=\"dataframe\">\n",
       "  <thead>\n",
       "    <tr style=\"text-align: right;\">\n",
       "      <th></th>\n",
       "      <th>payer_country</th>\n",
       "      <th>wape</th>\n",
       "    </tr>\n",
       "  </thead>\n",
       "  <tbody>\n",
       "    <tr>\n",
       "      <th>37</th>\n",
       "      <td>BANSEFI - BANCO DEL BIENESTAR_MEXICO</td>\n",
       "      <td>0.023736</td>\n",
       "    </tr>\n",
       "    <tr>\n",
       "      <th>0</th>\n",
       "      <td>24XORO_MEXICO</td>\n",
       "      <td>0.091992</td>\n",
       "    </tr>\n",
       "    <tr>\n",
       "      <th>39</th>\n",
       "      <td>BBVA - BANCOMER (BTS)_MEXICO</td>\n",
       "      <td>0.113748</td>\n",
       "    </tr>\n",
       "  </tbody>\n",
       "</table>\n",
       "</div>"
      ],
      "text/plain": [
       "                           payer_country      wape\n",
       "37  BANSEFI - BANCO DEL BIENESTAR_MEXICO  0.023736\n",
       "0                          24XORO_MEXICO  0.091992\n",
       "39          BBVA - BANCOMER (BTS)_MEXICO  0.113748"
      ]
     },
     "execution_count": 58,
     "metadata": {},
     "output_type": "execute_result"
    }
   ],
   "source": [
    "wape_p10_payer_4_cuts.sort_values(by='wape', ascending=True).head(3)"
   ]
  },
  {
   "cell_type": "code",
   "execution_count": 210,
   "id": "defbcfa6-731a-485d-89d1-389549058d7e",
   "metadata": {
    "tags": []
   },
   "outputs": [
    {
     "name": "stdout",
     "output_type": "stream",
     "text": [
      "0.14376587441573332\n",
      "0.18720581056774166\n"
     ]
    }
   ],
   "source": [
    "##WAPEs GENERALES CON 4 CORTES## - A DIA 2\n",
    "print(sum(df_forecast2[\"ae\"])/sum(df_forecast2[\"amount\"]))\n",
    "print(sum(df_forecast2[\"aep10\"])/sum(df_forecast2[\"amount\"]))"
   ]
  },
  {
   "cell_type": "code",
   "execution_count": 82,
   "id": "ac09bacc-3cd9-44b2-808f-d9318ee1ec44",
   "metadata": {
    "tags": []
   },
   "outputs": [
    {
     "name": "stdout",
     "output_type": "stream",
     "text": [
      "0.12297167384510523\n",
      "0.1858617361606469\n"
     ]
    }
   ],
   "source": [
    "##WAPEs GENERALES CON 4 CORTES##\n",
    "print(sum(df_forecast2[\"ae\"])/sum(df_forecast2[\"amount\"]))\n",
    "print(sum(df_forecast2[\"aep10\"])/sum(df_forecast2[\"amount\"]))"
   ]
  },
  {
   "cell_type": "code",
   "execution_count": 211,
   "id": "6799f0b0-8470-4334-97fc-68ff7a79e1ed",
   "metadata": {
    "tags": []
   },
   "outputs": [
    {
     "name": "stderr",
     "output_type": "stream",
     "text": [
      "/tmp/ipykernel_20/2276264139.py:1: DeprecationWarning: DataFrameGroupBy.apply operated on the grouping columns. This behavior is deprecated, and in a future version of pandas the grouping columns will be excluded from the operation. Either pass `include_groups=False` to exclude the groupings or explicitly select the grouping columns after groupby to silence this warning.\n",
      "  mape_country_4_cuts=df_forecast2.groupby('country').apply(lambda x: (x['pe'].mean())).reset_index(name='mape')\n"
     ]
    }
   ],
   "source": [
    "mape_country_4_cuts=df_forecast2.groupby('country').apply(lambda x: (x['pe'].mean())).reset_index(name='mape')"
   ]
  },
  {
   "cell_type": "code",
   "execution_count": 217,
   "id": "9e6552b7-bd76-417f-8980-5ccb65340e44",
   "metadata": {
    "tags": []
   },
   "outputs": [
    {
     "data": {
      "text/html": [
       "<div>\n",
       "<style scoped>\n",
       "    .dataframe tbody tr th:only-of-type {\n",
       "        vertical-align: middle;\n",
       "    }\n",
       "\n",
       "    .dataframe tbody tr th {\n",
       "        vertical-align: top;\n",
       "    }\n",
       "\n",
       "    .dataframe thead th {\n",
       "        text-align: right;\n",
       "    }\n",
       "</style>\n",
       "<table border=\"1\" class=\"dataframe\">\n",
       "  <thead>\n",
       "    <tr style=\"text-align: right;\">\n",
       "      <th></th>\n",
       "      <th>country</th>\n",
       "      <th>mape</th>\n",
       "    </tr>\n",
       "  </thead>\n",
       "  <tbody>\n",
       "    <tr>\n",
       "      <th>10</th>\n",
       "      <td>DOMINICAN REPUBLIC</td>\n",
       "      <td>0.096882</td>\n",
       "    </tr>\n",
       "    <tr>\n",
       "      <th>27</th>\n",
       "      <td>NICARAGUA</td>\n",
       "      <td>0.146013</td>\n",
       "    </tr>\n",
       "    <tr>\n",
       "      <th>11</th>\n",
       "      <td>ECUADOR</td>\n",
       "      <td>0.154874</td>\n",
       "    </tr>\n",
       "    <tr>\n",
       "      <th>17</th>\n",
       "      <td>HAITI</td>\n",
       "      <td>0.162612</td>\n",
       "    </tr>\n",
       "    <tr>\n",
       "      <th>29</th>\n",
       "      <td>PERU</td>\n",
       "      <td>0.167550</td>\n",
       "    </tr>\n",
       "    <tr>\n",
       "      <th>12</th>\n",
       "      <td>EL SALVADOR</td>\n",
       "      <td>0.181730</td>\n",
       "    </tr>\n",
       "    <tr>\n",
       "      <th>7</th>\n",
       "      <td>COLOMBIA</td>\n",
       "      <td>0.205509</td>\n",
       "    </tr>\n",
       "    <tr>\n",
       "      <th>25</th>\n",
       "      <td>MEXICO</td>\n",
       "      <td>0.261139</td>\n",
       "    </tr>\n",
       "    <tr>\n",
       "      <th>18</th>\n",
       "      <td>HONDURAS</td>\n",
       "      <td>0.265566</td>\n",
       "    </tr>\n",
       "    <tr>\n",
       "      <th>3</th>\n",
       "      <td>BRAZIL</td>\n",
       "      <td>0.380668</td>\n",
       "    </tr>\n",
       "  </tbody>\n",
       "</table>\n",
       "</div>"
      ],
      "text/plain": [
       "               country      mape\n",
       "10  DOMINICAN REPUBLIC  0.096882\n",
       "27           NICARAGUA  0.146013\n",
       "11             ECUADOR  0.154874\n",
       "17               HAITI  0.162612\n",
       "29                PERU  0.167550\n",
       "12         EL SALVADOR  0.181730\n",
       "7             COLOMBIA  0.205509\n",
       "25              MEXICO  0.261139\n",
       "18            HONDURAS  0.265566\n",
       "3               BRAZIL  0.380668"
      ]
     },
     "execution_count": 217,
     "metadata": {},
     "output_type": "execute_result"
    }
   ],
   "source": [
    "mape_country_4_cuts.sort_values(by='mape', ascending=True).head(10)"
   ]
  },
  {
   "cell_type": "code",
   "execution_count": 60,
   "id": "1395d319-7d91-4295-be42-20c3a154e02c",
   "metadata": {
    "tags": []
   },
   "outputs": [
    {
     "data": {
      "text/html": [
       "<div>\n",
       "<style scoped>\n",
       "    .dataframe tbody tr th:only-of-type {\n",
       "        vertical-align: middle;\n",
       "    }\n",
       "\n",
       "    .dataframe tbody tr th {\n",
       "        vertical-align: top;\n",
       "    }\n",
       "\n",
       "    .dataframe thead th {\n",
       "        text-align: right;\n",
       "    }\n",
       "</style>\n",
       "<table border=\"1\" class=\"dataframe\">\n",
       "  <thead>\n",
       "    <tr style=\"text-align: right;\">\n",
       "      <th></th>\n",
       "      <th>country</th>\n",
       "      <th>mape</th>\n",
       "    </tr>\n",
       "  </thead>\n",
       "  <tbody>\n",
       "    <tr>\n",
       "      <th>10</th>\n",
       "      <td>DOMINICAN REPUBLIC</td>\n",
       "      <td>0.125765</td>\n",
       "    </tr>\n",
       "    <tr>\n",
       "      <th>14</th>\n",
       "      <td>GERMANY</td>\n",
       "      <td>0.155671</td>\n",
       "    </tr>\n",
       "    <tr>\n",
       "      <th>7</th>\n",
       "      <td>COLOMBIA</td>\n",
       "      <td>0.155845</td>\n",
       "    </tr>\n",
       "  </tbody>\n",
       "</table>\n",
       "</div>"
      ],
      "text/plain": [
       "               country      mape\n",
       "10  DOMINICAN REPUBLIC  0.125765\n",
       "14             GERMANY  0.155671\n",
       "7             COLOMBIA  0.155845"
      ]
     },
     "execution_count": 60,
     "metadata": {},
     "output_type": "execute_result"
    }
   ],
   "source": [
    "mape_country_4_cuts.sort_values(by='mape', ascending=True).head(3)"
   ]
  },
  {
   "cell_type": "code",
   "execution_count": 213,
   "id": "1411e3a6-3c6b-425a-b10d-d03559382990",
   "metadata": {
    "tags": []
   },
   "outputs": [
    {
     "name": "stderr",
     "output_type": "stream",
     "text": [
      "/tmp/ipykernel_20/488736708.py:1: RuntimeWarning: divide by zero encountered in scalar divide\n",
      "  wape_country_4_cuts = df_forecast2.groupby('country').apply(lambda x: (x['ae'].sum() / x['amount'].sum())).reset_index(name='wape')\n",
      "/tmp/ipykernel_20/488736708.py:1: DeprecationWarning: DataFrameGroupBy.apply operated on the grouping columns. This behavior is deprecated, and in a future version of pandas the grouping columns will be excluded from the operation. Either pass `include_groups=False` to exclude the groupings or explicitly select the grouping columns after groupby to silence this warning.\n",
      "  wape_country_4_cuts = df_forecast2.groupby('country').apply(lambda x: (x['ae'].sum() / x['amount'].sum())).reset_index(name='wape')\n"
     ]
    }
   ],
   "source": [
    "wape_country_4_cuts = df_forecast2.groupby('country').apply(lambda x: (x['ae'].sum() / x['amount'].sum())).reset_index(name='wape')"
   ]
  },
  {
   "cell_type": "code",
   "execution_count": 218,
   "id": "f5c66c2b-ce61-4880-b56d-5fc3d260be35",
   "metadata": {
    "tags": []
   },
   "outputs": [
    {
     "data": {
      "text/html": [
       "<div>\n",
       "<style scoped>\n",
       "    .dataframe tbody tr th:only-of-type {\n",
       "        vertical-align: middle;\n",
       "    }\n",
       "\n",
       "    .dataframe tbody tr th {\n",
       "        vertical-align: top;\n",
       "    }\n",
       "\n",
       "    .dataframe thead th {\n",
       "        text-align: right;\n",
       "    }\n",
       "</style>\n",
       "<table border=\"1\" class=\"dataframe\">\n",
       "  <thead>\n",
       "    <tr style=\"text-align: right;\">\n",
       "      <th></th>\n",
       "      <th>country</th>\n",
       "      <th>wape</th>\n",
       "    </tr>\n",
       "  </thead>\n",
       "  <tbody>\n",
       "    <tr>\n",
       "      <th>10</th>\n",
       "      <td>DOMINICAN REPUBLIC</td>\n",
       "      <td>0.054965</td>\n",
       "    </tr>\n",
       "    <tr>\n",
       "      <th>15</th>\n",
       "      <td>GUATEMALA</td>\n",
       "      <td>0.117619</td>\n",
       "    </tr>\n",
       "    <tr>\n",
       "      <th>37</th>\n",
       "      <td>UNITED STATES</td>\n",
       "      <td>0.132990</td>\n",
       "    </tr>\n",
       "    <tr>\n",
       "      <th>30</th>\n",
       "      <td>PHILIPPINES</td>\n",
       "      <td>0.137467</td>\n",
       "    </tr>\n",
       "    <tr>\n",
       "      <th>18</th>\n",
       "      <td>HONDURAS</td>\n",
       "      <td>0.140825</td>\n",
       "    </tr>\n",
       "    <tr>\n",
       "      <th>29</th>\n",
       "      <td>PERU</td>\n",
       "      <td>0.145913</td>\n",
       "    </tr>\n",
       "    <tr>\n",
       "      <th>11</th>\n",
       "      <td>ECUADOR</td>\n",
       "      <td>0.147994</td>\n",
       "    </tr>\n",
       "    <tr>\n",
       "      <th>12</th>\n",
       "      <td>EL SALVADOR</td>\n",
       "      <td>0.152231</td>\n",
       "    </tr>\n",
       "    <tr>\n",
       "      <th>25</th>\n",
       "      <td>MEXICO</td>\n",
       "      <td>0.152752</td>\n",
       "    </tr>\n",
       "    <tr>\n",
       "      <th>27</th>\n",
       "      <td>NICARAGUA</td>\n",
       "      <td>0.152884</td>\n",
       "    </tr>\n",
       "  </tbody>\n",
       "</table>\n",
       "</div>"
      ],
      "text/plain": [
       "               country      wape\n",
       "10  DOMINICAN REPUBLIC  0.054965\n",
       "15           GUATEMALA  0.117619\n",
       "37       UNITED STATES  0.132990\n",
       "30         PHILIPPINES  0.137467\n",
       "18            HONDURAS  0.140825\n",
       "29                PERU  0.145913\n",
       "11             ECUADOR  0.147994\n",
       "12         EL SALVADOR  0.152231\n",
       "25              MEXICO  0.152752\n",
       "27           NICARAGUA  0.152884"
      ]
     },
     "execution_count": 218,
     "metadata": {},
     "output_type": "execute_result"
    }
   ],
   "source": [
    "wape_country_4_cuts.sort_values(by='wape', ascending=True).head(10)"
   ]
  },
  {
   "cell_type": "code",
   "execution_count": 62,
   "id": "005f5a9d-d2e3-4fe3-a832-ac1c4d70ee14",
   "metadata": {
    "tags": []
   },
   "outputs": [
    {
     "data": {
      "text/html": [
       "<div>\n",
       "<style scoped>\n",
       "    .dataframe tbody tr th:only-of-type {\n",
       "        vertical-align: middle;\n",
       "    }\n",
       "\n",
       "    .dataframe tbody tr th {\n",
       "        vertical-align: top;\n",
       "    }\n",
       "\n",
       "    .dataframe thead th {\n",
       "        text-align: right;\n",
       "    }\n",
       "</style>\n",
       "<table border=\"1\" class=\"dataframe\">\n",
       "  <thead>\n",
       "    <tr style=\"text-align: right;\">\n",
       "      <th></th>\n",
       "      <th>country</th>\n",
       "      <th>wape</th>\n",
       "    </tr>\n",
       "  </thead>\n",
       "  <tbody>\n",
       "    <tr>\n",
       "      <th>10</th>\n",
       "      <td>DOMINICAN REPUBLIC</td>\n",
       "      <td>0.082936</td>\n",
       "    </tr>\n",
       "    <tr>\n",
       "      <th>16</th>\n",
       "      <td>GUATEMALA</td>\n",
       "      <td>0.105591</td>\n",
       "    </tr>\n",
       "    <tr>\n",
       "      <th>30</th>\n",
       "      <td>PERU</td>\n",
       "      <td>0.110789</td>\n",
       "    </tr>\n",
       "  </tbody>\n",
       "</table>\n",
       "</div>"
      ],
      "text/plain": [
       "               country      wape\n",
       "10  DOMINICAN REPUBLIC  0.082936\n",
       "16           GUATEMALA  0.105591\n",
       "30                PERU  0.110789"
      ]
     },
     "execution_count": 62,
     "metadata": {},
     "output_type": "execute_result"
    }
   ],
   "source": [
    "wape_country_4_cuts.sort_values(by='wape', ascending=True).head(3)"
   ]
  },
  {
   "cell_type": "code",
   "execution_count": 215,
   "id": "ee876c70-5c53-49e6-9c05-72309253ba0a",
   "metadata": {
    "tags": []
   },
   "outputs": [
    {
     "name": "stderr",
     "output_type": "stream",
     "text": [
      "/tmp/ipykernel_20/976101415.py:1: RuntimeWarning: divide by zero encountered in scalar divide\n",
      "  wape_p10_country_4_cuts = df_forecast2.groupby('country').apply(lambda x: (x['aep10'].sum() / x['amount'].sum())).reset_index(name='wape')\n",
      "/tmp/ipykernel_20/976101415.py:1: DeprecationWarning: DataFrameGroupBy.apply operated on the grouping columns. This behavior is deprecated, and in a future version of pandas the grouping columns will be excluded from the operation. Either pass `include_groups=False` to exclude the groupings or explicitly select the grouping columns after groupby to silence this warning.\n",
      "  wape_p10_country_4_cuts = df_forecast2.groupby('country').apply(lambda x: (x['aep10'].sum() / x['amount'].sum())).reset_index(name='wape')\n"
     ]
    }
   ],
   "source": [
    "wape_p10_country_4_cuts = df_forecast2.groupby('country').apply(lambda x: (x['aep10'].sum() / x['amount'].sum())).reset_index(name='wape')"
   ]
  },
  {
   "cell_type": "code",
   "execution_count": 216,
   "id": "f7f251bc-56f8-432d-9afb-0e888d29fb09",
   "metadata": {
    "tags": []
   },
   "outputs": [
    {
     "data": {
      "text/html": [
       "<div>\n",
       "<style scoped>\n",
       "    .dataframe tbody tr th:only-of-type {\n",
       "        vertical-align: middle;\n",
       "    }\n",
       "\n",
       "    .dataframe tbody tr th {\n",
       "        vertical-align: top;\n",
       "    }\n",
       "\n",
       "    .dataframe thead th {\n",
       "        text-align: right;\n",
       "    }\n",
       "</style>\n",
       "<table border=\"1\" class=\"dataframe\">\n",
       "  <thead>\n",
       "    <tr style=\"text-align: right;\">\n",
       "      <th></th>\n",
       "      <th>country</th>\n",
       "      <th>wape</th>\n",
       "    </tr>\n",
       "  </thead>\n",
       "  <tbody>\n",
       "    <tr>\n",
       "      <th>24</th>\n",
       "      <td>MALI</td>\n",
       "      <td>0.050930</td>\n",
       "    </tr>\n",
       "    <tr>\n",
       "      <th>7</th>\n",
       "      <td>COLOMBIA</td>\n",
       "      <td>0.089440</td>\n",
       "    </tr>\n",
       "    <tr>\n",
       "      <th>8</th>\n",
       "      <td>COSTA RICA</td>\n",
       "      <td>0.134204</td>\n",
       "    </tr>\n",
       "  </tbody>\n",
       "</table>\n",
       "</div>"
      ],
      "text/plain": [
       "       country      wape\n",
       "24        MALI  0.050930\n",
       "7     COLOMBIA  0.089440\n",
       "8   COSTA RICA  0.134204"
      ]
     },
     "execution_count": 216,
     "metadata": {},
     "output_type": "execute_result"
    }
   ],
   "source": [
    "wape_p10_country_4_cuts.sort_values(by='wape', ascending=True).head(3)"
   ]
  },
  {
   "cell_type": "code",
   "execution_count": 64,
   "id": "2f97a10e-c6fa-4b18-aaa3-ca27240eee82",
   "metadata": {
    "tags": []
   },
   "outputs": [
    {
     "data": {
      "text/html": [
       "<div>\n",
       "<style scoped>\n",
       "    .dataframe tbody tr th:only-of-type {\n",
       "        vertical-align: middle;\n",
       "    }\n",
       "\n",
       "    .dataframe tbody tr th {\n",
       "        vertical-align: top;\n",
       "    }\n",
       "\n",
       "    .dataframe thead th {\n",
       "        text-align: right;\n",
       "    }\n",
       "</style>\n",
       "<table border=\"1\" class=\"dataframe\">\n",
       "  <thead>\n",
       "    <tr style=\"text-align: right;\">\n",
       "      <th></th>\n",
       "      <th>country</th>\n",
       "      <th>wape</th>\n",
       "    </tr>\n",
       "  </thead>\n",
       "  <tbody>\n",
       "    <tr>\n",
       "      <th>26</th>\n",
       "      <td>MEXICO</td>\n",
       "      <td>0.165808</td>\n",
       "    </tr>\n",
       "    <tr>\n",
       "      <th>7</th>\n",
       "      <td>COLOMBIA</td>\n",
       "      <td>0.172130</td>\n",
       "    </tr>\n",
       "    <tr>\n",
       "      <th>16</th>\n",
       "      <td>GUATEMALA</td>\n",
       "      <td>0.189424</td>\n",
       "    </tr>\n",
       "  </tbody>\n",
       "</table>\n",
       "</div>"
      ],
      "text/plain": [
       "      country      wape\n",
       "26     MEXICO  0.165808\n",
       "7    COLOMBIA  0.172130\n",
       "16  GUATEMALA  0.189424"
      ]
     },
     "execution_count": 64,
     "metadata": {},
     "output_type": "execute_result"
    }
   ],
   "source": [
    "wape_p10_country_4_cuts.sort_values(by='wape', ascending=True).head(3)"
   ]
  },
  {
   "cell_type": "code",
   "execution_count": 65,
   "id": "d6456d29-598f-4a1d-8a54-b23b7545b147",
   "metadata": {},
   "outputs": [],
   "source": [
    "##EXPORTAMOS LOS 5 EXCEL##"
   ]
  },
  {
   "cell_type": "code",
   "execution_count": 66,
   "id": "0ce5655e-25e8-41c2-98cd-ad111f5593b2",
   "metadata": {},
   "outputs": [
    {
     "name": "stderr",
     "output_type": "stream",
     "text": [
      "/tmp/ipykernel_20/3865528890.py:1: UserWarning: Pandas requires version '3.0.5' or newer of 'xlsxwriter' (version '3.0.3' currently installed).\n",
      "  df_forecast.to_excel('forecast_check.xlsx')\n"
     ]
    }
   ],
   "source": [
    "df_forecast.to_excel('forecast_check.xlsx')"
   ]
  },
  {
   "cell_type": "code",
   "execution_count": null,
   "id": "10364e2b-f5fd-4243-a0d2-6189c033c1f1",
   "metadata": {
    "tags": []
   },
   "outputs": [],
   "source": []
  },
  {
   "cell_type": "code",
   "execution_count": 67,
   "id": "ba75e3e1-0b3f-4fe1-88e5-9fa10b42e9d7",
   "metadata": {},
   "outputs": [
    {
     "name": "stderr",
     "output_type": "stream",
     "text": [
      "/tmp/ipykernel_20/347351005.py:2: UserWarning: Pandas requires version '3.0.5' or newer of 'xlsxwriter' (version '3.0.3' currently installed).\n",
      "  wape_payer_6_cuts.to_excel('wape_payers_6_cuts.xlsx')\n"
     ]
    }
   ],
   "source": [
    "wape_payer_6_cuts.sort_values(by='payer_country')\n",
    "wape_payer_6_cuts.to_excel('wape_payers_6_cuts.xlsx')"
   ]
  },
  {
   "cell_type": "code",
   "execution_count": 68,
   "id": "b3b6989a-ec30-4ecb-8b9c-d4bcb7ae050c",
   "metadata": {
    "tags": []
   },
   "outputs": [
    {
     "name": "stderr",
     "output_type": "stream",
     "text": [
      "/tmp/ipykernel_20/24501306.py:2: UserWarning: Pandas requires version '3.0.5' or newer of 'xlsxwriter' (version '3.0.3' currently installed).\n",
      "  wape_p10_payer_6_cuts.to_excel('wape_p10_payers_6_cuts.xlsx')\n"
     ]
    }
   ],
   "source": [
    "wape_p10_payer_6_cuts.sort_values(by='payer_country')\n",
    "wape_p10_payer_6_cuts.to_excel('wape_p10_payers_6_cuts.xlsx')"
   ]
  },
  {
   "cell_type": "code",
   "execution_count": 69,
   "id": "96014482-7bbc-45b3-9bba-8c3eb6eec66c",
   "metadata": {},
   "outputs": [
    {
     "name": "stderr",
     "output_type": "stream",
     "text": [
      "/tmp/ipykernel_20/2449405044.py:2: UserWarning: Pandas requires version '3.0.5' or newer of 'xlsxwriter' (version '3.0.3' currently installed).\n",
      "  wape_country_6_cuts.to_excel('wape_country_6_cuts.xlsx')\n"
     ]
    }
   ],
   "source": [
    "wape_country_6_cuts.sort_values(by='country')\n",
    "wape_country_6_cuts.to_excel('wape_country_6_cuts.xlsx')"
   ]
  },
  {
   "cell_type": "code",
   "execution_count": 70,
   "id": "cbf2fb4a-6374-439e-be29-e160fbc2c0ba",
   "metadata": {
    "tags": []
   },
   "outputs": [
    {
     "name": "stderr",
     "output_type": "stream",
     "text": [
      "/tmp/ipykernel_20/3343385022.py:2: UserWarning: Pandas requires version '3.0.5' or newer of 'xlsxwriter' (version '3.0.3' currently installed).\n",
      "  wape_p10_country_6_cuts.to_excel('wape_p10_country_6_cuts.xlsx')\n"
     ]
    }
   ],
   "source": [
    "wape_p10_country_6_cuts.sort_values(by='country')\n",
    "wape_p10_country_6_cuts.to_excel('wape_p10_country_6_cuts.xlsx')"
   ]
  },
  {
   "cell_type": "code",
   "execution_count": 71,
   "id": "2a7d545d-76b9-46d9-8618-558433ca38d2",
   "metadata": {
    "tags": []
   },
   "outputs": [
    {
     "name": "stderr",
     "output_type": "stream",
     "text": [
      "/tmp/ipykernel_20/2445015265.py:2: UserWarning: Pandas requires version '3.0.5' or newer of 'xlsxwriter' (version '3.0.3' currently installed).\n",
      "  wape_payer_4_cuts.to_excel('wape_payers_4_cuts.xlsx')\n"
     ]
    }
   ],
   "source": [
    "wape_payer_4_cuts.sort_values(by='payer_country')\n",
    "wape_payer_4_cuts.to_excel('wape_payers_4_cuts.xlsx')"
   ]
  },
  {
   "cell_type": "code",
   "execution_count": 72,
   "id": "c5cb95c3-c4cf-4281-ac74-7a40e995e710",
   "metadata": {
    "tags": []
   },
   "outputs": [
    {
     "name": "stderr",
     "output_type": "stream",
     "text": [
      "/tmp/ipykernel_20/2168826863.py:2: UserWarning: Pandas requires version '3.0.5' or newer of 'xlsxwriter' (version '3.0.3' currently installed).\n",
      "  wape_p10_payer_4_cuts.to_excel('wape_p10_payers_4_cuts.xlsx')\n"
     ]
    }
   ],
   "source": [
    "wape_p10_payer_4_cuts.sort_values(by='payer_country')\n",
    "wape_p10_payer_4_cuts.to_excel('wape_p10_payers_4_cuts.xlsx')"
   ]
  },
  {
   "cell_type": "code",
   "execution_count": 73,
   "id": "700729dc-2b07-4d5a-a56c-e88a4d5a87b3",
   "metadata": {
    "tags": []
   },
   "outputs": [
    {
     "name": "stderr",
     "output_type": "stream",
     "text": [
      "/tmp/ipykernel_20/4237733071.py:2: UserWarning: Pandas requires version '3.0.5' or newer of 'xlsxwriter' (version '3.0.3' currently installed).\n",
      "  wape_country_4_cuts.to_excel('wape_country_4_cuts.xlsx')\n"
     ]
    }
   ],
   "source": [
    "wape_country_4_cuts.sort_values(by='country')\n",
    "wape_country_4_cuts.to_excel('wape_country_4_cuts.xlsx')"
   ]
  },
  {
   "cell_type": "code",
   "execution_count": 74,
   "id": "618c35e5-ffc1-4faa-b134-bd527e9b32f6",
   "metadata": {
    "tags": []
   },
   "outputs": [
    {
     "name": "stderr",
     "output_type": "stream",
     "text": [
      "/tmp/ipykernel_20/330825279.py:2: UserWarning: Pandas requires version '3.0.5' or newer of 'xlsxwriter' (version '3.0.3' currently installed).\n",
      "  wape_p10_country_4_cuts.to_excel('wape_p10_country_4_cuts.xlsx')\n"
     ]
    }
   ],
   "source": [
    "wape_p10_country_4_cuts.sort_values(by='country')\n",
    "wape_p10_country_4_cuts.to_excel('wape_p10_country_4_cuts.xlsx')"
   ]
  },
  {
   "cell_type": "code",
   "execution_count": 75,
   "id": "6728fe2e-7b7c-43ea-99bd-2472c722be6c",
   "metadata": {},
   "outputs": [
    {
     "name": "stderr",
     "output_type": "stream",
     "text": [
      "/tmp/ipykernel_20/924308559.py:1: UserWarning: Pandas requires version '3.0.5' or newer of 'xlsxwriter' (version '3.0.3' currently installed).\n",
      "  mape_payer_6_cuts.to_excel('mape_payers_6_cuts.xlsx')\n"
     ]
    }
   ],
   "source": [
    "mape_payer_6_cuts.to_excel('mape_payers_6_cuts.xlsx')"
   ]
  },
  {
   "cell_type": "code",
   "execution_count": 76,
   "id": "2159cb74-9508-4ff9-8185-eb505b686baa",
   "metadata": {},
   "outputs": [
    {
     "name": "stderr",
     "output_type": "stream",
     "text": [
      "/tmp/ipykernel_20/3382209971.py:1: UserWarning: Pandas requires version '3.0.5' or newer of 'xlsxwriter' (version '3.0.3' currently installed).\n",
      "  mape_country_6_cuts.to_excel('mape_country_6_cuts.xlsx')\n"
     ]
    }
   ],
   "source": [
    "mape_country_6_cuts.to_excel('mape_country_6_cuts.xlsx')"
   ]
  },
  {
   "cell_type": "code",
   "execution_count": 77,
   "id": "11673c8f-0e14-4dba-b9ea-bd03bc649e82",
   "metadata": {},
   "outputs": [
    {
     "name": "stderr",
     "output_type": "stream",
     "text": [
      "/tmp/ipykernel_20/72755746.py:1: UserWarning: Pandas requires version '3.0.5' or newer of 'xlsxwriter' (version '3.0.3' currently installed).\n",
      "  mape_payer_4_cuts.to_excel('mape_payers_4_cuts.xlsx')\n"
     ]
    }
   ],
   "source": [
    "mape_payer_4_cuts.to_excel('mape_payers_4_cuts.xlsx')"
   ]
  },
  {
   "cell_type": "code",
   "execution_count": 78,
   "id": "d7f52c32-1a4f-40c7-b22a-2f50b853a565",
   "metadata": {
    "tags": []
   },
   "outputs": [
    {
     "name": "stderr",
     "output_type": "stream",
     "text": [
      "/tmp/ipykernel_20/233650276.py:1: UserWarning: Pandas requires version '3.0.5' or newer of 'xlsxwriter' (version '3.0.3' currently installed).\n",
      "  mape_country_4_cuts.to_excel('mape_country_4_cuts.xlsx')\n"
     ]
    }
   ],
   "source": [
    "mape_country_4_cuts.to_excel('mape_country_4_cuts.xlsx')"
   ]
  },
  {
   "cell_type": "code",
   "execution_count": null,
   "id": "f29912e0-cfbc-49cf-b46b-4f6936ff8fd3",
   "metadata": {},
   "outputs": [],
   "source": []
  },
  {
   "cell_type": "code",
   "execution_count": null,
   "id": "e4619f5f-c90a-46b0-8d96-094943d83c30",
   "metadata": {},
   "outputs": [],
   "source": []
  },
  {
   "cell_type": "code",
   "execution_count": null,
   "id": "a37cb415-949e-4ddb-a4ac-8a6882c66e16",
   "metadata": {},
   "outputs": [],
   "source": []
  }
 ],
 "metadata": {
  "availableInstances": [
   {
    "_defaultOrder": 0,
    "_isFastLaunch": true,
    "category": "General purpose",
    "gpuNum": 0,
    "hideHardwareSpecs": false,
    "memoryGiB": 4,
    "name": "ml.t3.medium",
    "vcpuNum": 2
   },
   {
    "_defaultOrder": 1,
    "_isFastLaunch": false,
    "category": "General purpose",
    "gpuNum": 0,
    "hideHardwareSpecs": false,
    "memoryGiB": 8,
    "name": "ml.t3.large",
    "vcpuNum": 2
   },
   {
    "_defaultOrder": 2,
    "_isFastLaunch": false,
    "category": "General purpose",
    "gpuNum": 0,
    "hideHardwareSpecs": false,
    "memoryGiB": 16,
    "name": "ml.t3.xlarge",
    "vcpuNum": 4
   },
   {
    "_defaultOrder": 3,
    "_isFastLaunch": false,
    "category": "General purpose",
    "gpuNum": 0,
    "hideHardwareSpecs": false,
    "memoryGiB": 32,
    "name": "ml.t3.2xlarge",
    "vcpuNum": 8
   },
   {
    "_defaultOrder": 4,
    "_isFastLaunch": true,
    "category": "General purpose",
    "gpuNum": 0,
    "hideHardwareSpecs": false,
    "memoryGiB": 8,
    "name": "ml.m5.large",
    "vcpuNum": 2
   },
   {
    "_defaultOrder": 5,
    "_isFastLaunch": false,
    "category": "General purpose",
    "gpuNum": 0,
    "hideHardwareSpecs": false,
    "memoryGiB": 16,
    "name": "ml.m5.xlarge",
    "vcpuNum": 4
   },
   {
    "_defaultOrder": 6,
    "_isFastLaunch": false,
    "category": "General purpose",
    "gpuNum": 0,
    "hideHardwareSpecs": false,
    "memoryGiB": 32,
    "name": "ml.m5.2xlarge",
    "vcpuNum": 8
   },
   {
    "_defaultOrder": 7,
    "_isFastLaunch": false,
    "category": "General purpose",
    "gpuNum": 0,
    "hideHardwareSpecs": false,
    "memoryGiB": 64,
    "name": "ml.m5.4xlarge",
    "vcpuNum": 16
   },
   {
    "_defaultOrder": 8,
    "_isFastLaunch": false,
    "category": "General purpose",
    "gpuNum": 0,
    "hideHardwareSpecs": false,
    "memoryGiB": 128,
    "name": "ml.m5.8xlarge",
    "vcpuNum": 32
   },
   {
    "_defaultOrder": 9,
    "_isFastLaunch": false,
    "category": "General purpose",
    "gpuNum": 0,
    "hideHardwareSpecs": false,
    "memoryGiB": 192,
    "name": "ml.m5.12xlarge",
    "vcpuNum": 48
   },
   {
    "_defaultOrder": 10,
    "_isFastLaunch": false,
    "category": "General purpose",
    "gpuNum": 0,
    "hideHardwareSpecs": false,
    "memoryGiB": 256,
    "name": "ml.m5.16xlarge",
    "vcpuNum": 64
   },
   {
    "_defaultOrder": 11,
    "_isFastLaunch": false,
    "category": "General purpose",
    "gpuNum": 0,
    "hideHardwareSpecs": false,
    "memoryGiB": 384,
    "name": "ml.m5.24xlarge",
    "vcpuNum": 96
   },
   {
    "_defaultOrder": 12,
    "_isFastLaunch": false,
    "category": "General purpose",
    "gpuNum": 0,
    "hideHardwareSpecs": false,
    "memoryGiB": 8,
    "name": "ml.m5d.large",
    "vcpuNum": 2
   },
   {
    "_defaultOrder": 13,
    "_isFastLaunch": false,
    "category": "General purpose",
    "gpuNum": 0,
    "hideHardwareSpecs": false,
    "memoryGiB": 16,
    "name": "ml.m5d.xlarge",
    "vcpuNum": 4
   },
   {
    "_defaultOrder": 14,
    "_isFastLaunch": false,
    "category": "General purpose",
    "gpuNum": 0,
    "hideHardwareSpecs": false,
    "memoryGiB": 32,
    "name": "ml.m5d.2xlarge",
    "vcpuNum": 8
   },
   {
    "_defaultOrder": 15,
    "_isFastLaunch": false,
    "category": "General purpose",
    "gpuNum": 0,
    "hideHardwareSpecs": false,
    "memoryGiB": 64,
    "name": "ml.m5d.4xlarge",
    "vcpuNum": 16
   },
   {
    "_defaultOrder": 16,
    "_isFastLaunch": false,
    "category": "General purpose",
    "gpuNum": 0,
    "hideHardwareSpecs": false,
    "memoryGiB": 128,
    "name": "ml.m5d.8xlarge",
    "vcpuNum": 32
   },
   {
    "_defaultOrder": 17,
    "_isFastLaunch": false,
    "category": "General purpose",
    "gpuNum": 0,
    "hideHardwareSpecs": false,
    "memoryGiB": 192,
    "name": "ml.m5d.12xlarge",
    "vcpuNum": 48
   },
   {
    "_defaultOrder": 18,
    "_isFastLaunch": false,
    "category": "General purpose",
    "gpuNum": 0,
    "hideHardwareSpecs": false,
    "memoryGiB": 256,
    "name": "ml.m5d.16xlarge",
    "vcpuNum": 64
   },
   {
    "_defaultOrder": 19,
    "_isFastLaunch": false,
    "category": "General purpose",
    "gpuNum": 0,
    "hideHardwareSpecs": false,
    "memoryGiB": 384,
    "name": "ml.m5d.24xlarge",
    "vcpuNum": 96
   },
   {
    "_defaultOrder": 20,
    "_isFastLaunch": false,
    "category": "General purpose",
    "gpuNum": 0,
    "hideHardwareSpecs": true,
    "memoryGiB": 0,
    "name": "ml.geospatial.interactive",
    "supportedImageNames": [
     "sagemaker-geospatial-v1-0"
    ],
    "vcpuNum": 0
   },
   {
    "_defaultOrder": 21,
    "_isFastLaunch": true,
    "category": "Compute optimized",
    "gpuNum": 0,
    "hideHardwareSpecs": false,
    "memoryGiB": 4,
    "name": "ml.c5.large",
    "vcpuNum": 2
   },
   {
    "_defaultOrder": 22,
    "_isFastLaunch": false,
    "category": "Compute optimized",
    "gpuNum": 0,
    "hideHardwareSpecs": false,
    "memoryGiB": 8,
    "name": "ml.c5.xlarge",
    "vcpuNum": 4
   },
   {
    "_defaultOrder": 23,
    "_isFastLaunch": false,
    "category": "Compute optimized",
    "gpuNum": 0,
    "hideHardwareSpecs": false,
    "memoryGiB": 16,
    "name": "ml.c5.2xlarge",
    "vcpuNum": 8
   },
   {
    "_defaultOrder": 24,
    "_isFastLaunch": false,
    "category": "Compute optimized",
    "gpuNum": 0,
    "hideHardwareSpecs": false,
    "memoryGiB": 32,
    "name": "ml.c5.4xlarge",
    "vcpuNum": 16
   },
   {
    "_defaultOrder": 25,
    "_isFastLaunch": false,
    "category": "Compute optimized",
    "gpuNum": 0,
    "hideHardwareSpecs": false,
    "memoryGiB": 72,
    "name": "ml.c5.9xlarge",
    "vcpuNum": 36
   },
   {
    "_defaultOrder": 26,
    "_isFastLaunch": false,
    "category": "Compute optimized",
    "gpuNum": 0,
    "hideHardwareSpecs": false,
    "memoryGiB": 96,
    "name": "ml.c5.12xlarge",
    "vcpuNum": 48
   },
   {
    "_defaultOrder": 27,
    "_isFastLaunch": false,
    "category": "Compute optimized",
    "gpuNum": 0,
    "hideHardwareSpecs": false,
    "memoryGiB": 144,
    "name": "ml.c5.18xlarge",
    "vcpuNum": 72
   },
   {
    "_defaultOrder": 28,
    "_isFastLaunch": false,
    "category": "Compute optimized",
    "gpuNum": 0,
    "hideHardwareSpecs": false,
    "memoryGiB": 192,
    "name": "ml.c5.24xlarge",
    "vcpuNum": 96
   },
   {
    "_defaultOrder": 29,
    "_isFastLaunch": true,
    "category": "Accelerated computing",
    "gpuNum": 1,
    "hideHardwareSpecs": false,
    "memoryGiB": 16,
    "name": "ml.g4dn.xlarge",
    "vcpuNum": 4
   },
   {
    "_defaultOrder": 30,
    "_isFastLaunch": false,
    "category": "Accelerated computing",
    "gpuNum": 1,
    "hideHardwareSpecs": false,
    "memoryGiB": 32,
    "name": "ml.g4dn.2xlarge",
    "vcpuNum": 8
   },
   {
    "_defaultOrder": 31,
    "_isFastLaunch": false,
    "category": "Accelerated computing",
    "gpuNum": 1,
    "hideHardwareSpecs": false,
    "memoryGiB": 64,
    "name": "ml.g4dn.4xlarge",
    "vcpuNum": 16
   },
   {
    "_defaultOrder": 32,
    "_isFastLaunch": false,
    "category": "Accelerated computing",
    "gpuNum": 1,
    "hideHardwareSpecs": false,
    "memoryGiB": 128,
    "name": "ml.g4dn.8xlarge",
    "vcpuNum": 32
   },
   {
    "_defaultOrder": 33,
    "_isFastLaunch": false,
    "category": "Accelerated computing",
    "gpuNum": 4,
    "hideHardwareSpecs": false,
    "memoryGiB": 192,
    "name": "ml.g4dn.12xlarge",
    "vcpuNum": 48
   },
   {
    "_defaultOrder": 34,
    "_isFastLaunch": false,
    "category": "Accelerated computing",
    "gpuNum": 1,
    "hideHardwareSpecs": false,
    "memoryGiB": 256,
    "name": "ml.g4dn.16xlarge",
    "vcpuNum": 64
   },
   {
    "_defaultOrder": 35,
    "_isFastLaunch": false,
    "category": "Accelerated computing",
    "gpuNum": 1,
    "hideHardwareSpecs": false,
    "memoryGiB": 61,
    "name": "ml.p3.2xlarge",
    "vcpuNum": 8
   },
   {
    "_defaultOrder": 36,
    "_isFastLaunch": false,
    "category": "Accelerated computing",
    "gpuNum": 4,
    "hideHardwareSpecs": false,
    "memoryGiB": 244,
    "name": "ml.p3.8xlarge",
    "vcpuNum": 32
   },
   {
    "_defaultOrder": 37,
    "_isFastLaunch": false,
    "category": "Accelerated computing",
    "gpuNum": 8,
    "hideHardwareSpecs": false,
    "memoryGiB": 488,
    "name": "ml.p3.16xlarge",
    "vcpuNum": 64
   },
   {
    "_defaultOrder": 38,
    "_isFastLaunch": false,
    "category": "Accelerated computing",
    "gpuNum": 8,
    "hideHardwareSpecs": false,
    "memoryGiB": 768,
    "name": "ml.p3dn.24xlarge",
    "vcpuNum": 96
   },
   {
    "_defaultOrder": 39,
    "_isFastLaunch": false,
    "category": "Memory Optimized",
    "gpuNum": 0,
    "hideHardwareSpecs": false,
    "memoryGiB": 16,
    "name": "ml.r5.large",
    "vcpuNum": 2
   },
   {
    "_defaultOrder": 40,
    "_isFastLaunch": false,
    "category": "Memory Optimized",
    "gpuNum": 0,
    "hideHardwareSpecs": false,
    "memoryGiB": 32,
    "name": "ml.r5.xlarge",
    "vcpuNum": 4
   },
   {
    "_defaultOrder": 41,
    "_isFastLaunch": false,
    "category": "Memory Optimized",
    "gpuNum": 0,
    "hideHardwareSpecs": false,
    "memoryGiB": 64,
    "name": "ml.r5.2xlarge",
    "vcpuNum": 8
   },
   {
    "_defaultOrder": 42,
    "_isFastLaunch": false,
    "category": "Memory Optimized",
    "gpuNum": 0,
    "hideHardwareSpecs": false,
    "memoryGiB": 128,
    "name": "ml.r5.4xlarge",
    "vcpuNum": 16
   },
   {
    "_defaultOrder": 43,
    "_isFastLaunch": false,
    "category": "Memory Optimized",
    "gpuNum": 0,
    "hideHardwareSpecs": false,
    "memoryGiB": 256,
    "name": "ml.r5.8xlarge",
    "vcpuNum": 32
   },
   {
    "_defaultOrder": 44,
    "_isFastLaunch": false,
    "category": "Memory Optimized",
    "gpuNum": 0,
    "hideHardwareSpecs": false,
    "memoryGiB": 384,
    "name": "ml.r5.12xlarge",
    "vcpuNum": 48
   },
   {
    "_defaultOrder": 45,
    "_isFastLaunch": false,
    "category": "Memory Optimized",
    "gpuNum": 0,
    "hideHardwareSpecs": false,
    "memoryGiB": 512,
    "name": "ml.r5.16xlarge",
    "vcpuNum": 64
   },
   {
    "_defaultOrder": 46,
    "_isFastLaunch": false,
    "category": "Memory Optimized",
    "gpuNum": 0,
    "hideHardwareSpecs": false,
    "memoryGiB": 768,
    "name": "ml.r5.24xlarge",
    "vcpuNum": 96
   },
   {
    "_defaultOrder": 47,
    "_isFastLaunch": false,
    "category": "Accelerated computing",
    "gpuNum": 1,
    "hideHardwareSpecs": false,
    "memoryGiB": 16,
    "name": "ml.g5.xlarge",
    "vcpuNum": 4
   },
   {
    "_defaultOrder": 48,
    "_isFastLaunch": false,
    "category": "Accelerated computing",
    "gpuNum": 1,
    "hideHardwareSpecs": false,
    "memoryGiB": 32,
    "name": "ml.g5.2xlarge",
    "vcpuNum": 8
   },
   {
    "_defaultOrder": 49,
    "_isFastLaunch": false,
    "category": "Accelerated computing",
    "gpuNum": 1,
    "hideHardwareSpecs": false,
    "memoryGiB": 64,
    "name": "ml.g5.4xlarge",
    "vcpuNum": 16
   },
   {
    "_defaultOrder": 50,
    "_isFastLaunch": false,
    "category": "Accelerated computing",
    "gpuNum": 1,
    "hideHardwareSpecs": false,
    "memoryGiB": 128,
    "name": "ml.g5.8xlarge",
    "vcpuNum": 32
   },
   {
    "_defaultOrder": 51,
    "_isFastLaunch": false,
    "category": "Accelerated computing",
    "gpuNum": 1,
    "hideHardwareSpecs": false,
    "memoryGiB": 256,
    "name": "ml.g5.16xlarge",
    "vcpuNum": 64
   },
   {
    "_defaultOrder": 52,
    "_isFastLaunch": false,
    "category": "Accelerated computing",
    "gpuNum": 4,
    "hideHardwareSpecs": false,
    "memoryGiB": 192,
    "name": "ml.g5.12xlarge",
    "vcpuNum": 48
   },
   {
    "_defaultOrder": 53,
    "_isFastLaunch": false,
    "category": "Accelerated computing",
    "gpuNum": 4,
    "hideHardwareSpecs": false,
    "memoryGiB": 384,
    "name": "ml.g5.24xlarge",
    "vcpuNum": 96
   },
   {
    "_defaultOrder": 54,
    "_isFastLaunch": false,
    "category": "Accelerated computing",
    "gpuNum": 8,
    "hideHardwareSpecs": false,
    "memoryGiB": 768,
    "name": "ml.g5.48xlarge",
    "vcpuNum": 192
   },
   {
    "_defaultOrder": 55,
    "_isFastLaunch": false,
    "category": "Accelerated computing",
    "gpuNum": 8,
    "hideHardwareSpecs": false,
    "memoryGiB": 1152,
    "name": "ml.p4d.24xlarge",
    "vcpuNum": 96
   },
   {
    "_defaultOrder": 56,
    "_isFastLaunch": false,
    "category": "Accelerated computing",
    "gpuNum": 8,
    "hideHardwareSpecs": false,
    "memoryGiB": 1152,
    "name": "ml.p4de.24xlarge",
    "vcpuNum": 96
   },
   {
    "_defaultOrder": 57,
    "_isFastLaunch": false,
    "category": "Accelerated computing",
    "gpuNum": 0,
    "hideHardwareSpecs": false,
    "memoryGiB": 32,
    "name": "ml.trn1.2xlarge",
    "vcpuNum": 8
   },
   {
    "_defaultOrder": 58,
    "_isFastLaunch": false,
    "category": "Accelerated computing",
    "gpuNum": 0,
    "hideHardwareSpecs": false,
    "memoryGiB": 512,
    "name": "ml.trn1.32xlarge",
    "vcpuNum": 128
   },
   {
    "_defaultOrder": 59,
    "_isFastLaunch": false,
    "category": "Accelerated computing",
    "gpuNum": 0,
    "hideHardwareSpecs": false,
    "memoryGiB": 512,
    "name": "ml.trn1n.32xlarge",
    "vcpuNum": 128
   }
  ],
  "instance_type": "ml.t3.medium",
  "kernelspec": {
   "display_name": "Python 3 (Data Science 3.0)",
   "language": "python",
   "name": "python3__SAGEMAKER_INTERNAL__arn:aws:sagemaker:us-east-1:081325390199:image/sagemaker-data-science-310-v1"
  },
  "language_info": {
   "codemirror_mode": {
    "name": "ipython",
    "version": 3
   },
   "file_extension": ".py",
   "mimetype": "text/x-python",
   "name": "python",
   "nbconvert_exporter": "python",
   "pygments_lexer": "ipython3",
   "version": "3.10.6"
  }
 },
 "nbformat": 4,
 "nbformat_minor": 5
}
