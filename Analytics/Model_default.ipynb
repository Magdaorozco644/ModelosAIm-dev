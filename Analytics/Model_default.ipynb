{
 "cells": [
  {
   "cell_type": "markdown",
   "id": "27fc22e5-2df3-449a-bb84-2dd92467e00e",
   "metadata": {},
   "source": [
    "# Model Default"
   ]
  },
  {
   "cell_type": "markdown",
   "id": "d7efe84f-f248-4b53-8fe8-ef486cc73775",
   "metadata": {
    "tags": []
   },
   "source": [
    "## Correlaciones"
   ]
  },
  {
   "cell_type": "code",
   "execution_count": 3,
   "id": "2bb62e0e-ba42-43a3-81e7-367b25a4b972",
   "metadata": {
    "tags": []
   },
   "outputs": [],
   "source": [
    "import pandas as pd\n",
    "import numpy as np\n",
    "from sklearn.preprocessing import StandardScaler\n",
    "import matplotlib.pyplot as plt"
   ]
  },
  {
   "cell_type": "code",
   "execution_count": 3,
   "id": "0cbd8437-e713-4cab-823d-db983bc21947",
   "metadata": {
    "tags": []
   },
   "outputs": [],
   "source": [
    "df = pd.read_csv('default_ABT2.csv')"
   ]
  },
  {
   "cell_type": "code",
   "execution_count": 4,
   "id": "b22a95bb-e07f-4141-8a08-664058675446",
   "metadata": {
    "tags": []
   },
   "outputs": [],
   "source": [
    "df = df.fillna(0)"
   ]
  },
  {
   "cell_type": "raw",
   "id": "0a9b4cd3-3254-446b-a2b7-f3129e915f8b",
   "metadata": {
    "tags": []
   },
   "source": [
    "cols = pd.DataFrame(df.columns)\n",
    "cols"
   ]
  },
  {
   "cell_type": "code",
   "execution_count": 5,
   "id": "29c86fc9-d440-43d4-ac51-be38b179b20f",
   "metadata": {
    "tags": []
   },
   "outputs": [
    {
     "name": "stdout",
     "output_type": "stream",
     "text": [
      "<class 'pandas.core.frame.DataFrame'>\n",
      "RangeIndex: 2844073 entries, 0 to 2844072\n",
      "Columns: 106 entries, DATE to ANTIGUEDAD_d\n",
      "dtypes: float64(100), object(6)\n",
      "memory usage: 2.2+ GB\n"
     ]
    }
   ],
   "source": [
    "df.info(show_counts = True)"
   ]
  },
  {
   "cell_type": "code",
   "execution_count": 6,
   "id": "40f8b046-e414-4781-9bd6-02a29f683a42",
   "metadata": {
    "tags": []
   },
   "outputs": [],
   "source": [
    "#test droping roll_sum_60_DEFAULT\n",
    "df = df.drop(['roll_sum_60_DEFAULT','roll_max_30D_DEFAULT','roll_sum_30_DEFAULT','roll_mean_30D_DEFAULT','roll_sum_7_DEFAULT','roll_max_7D_DEFAULT','roll_mean_7D_DEFAULT','lag_7_DEFAULT'], axis =1)"
   ]
  },
  {
   "cell_type": "code",
   "execution_count": 7,
   "id": "539a90d8-bacf-4a68-855c-43a4dfee49b5",
   "metadata": {
    "tags": []
   },
   "outputs": [],
   "source": [
    "#drop default e inactive days, dejando default 'DEFAULT',\n",
    "df = df.drop(['INACTIVE_DAYS'], axis =1)"
   ]
  },
  {
   "cell_type": "code",
   "execution_count": 8,
   "id": "f2247ad2-db2f-48aa-8be6-fdafd8ba29b7",
   "metadata": {
    "tags": []
   },
   "outputs": [],
   "source": [
    "tr = df[df['DATE']< '2023-11-01']\n",
    "te = df[df['DATE']> '2023-10-31']"
   ]
  },
  {
   "cell_type": "code",
   "execution_count": 9,
   "id": "7dcd50c7-dcf6-4c8a-a83d-8ec4eceb9c7f",
   "metadata": {
    "tags": []
   },
   "outputs": [
    {
     "data": {
      "text/plain": [
       "'2023-10-31'"
      ]
     },
     "execution_count": 9,
     "metadata": {},
     "output_type": "execute_result"
    }
   ],
   "source": [
    "tr['DATE'].max()"
   ]
  },
  {
   "cell_type": "code",
   "execution_count": 10,
   "id": "a4535767-d0cb-4617-990f-6955773d7ada",
   "metadata": {
    "tags": []
   },
   "outputs": [
    {
     "data": {
      "text/plain": [
       "'2023-11-01'"
      ]
     },
     "execution_count": 10,
     "metadata": {},
     "output_type": "execute_result"
    }
   ],
   "source": [
    "te['DATE'].min()"
   ]
  },
  {
   "cell_type": "code",
   "execution_count": 11,
   "id": "afe33fc1-5d73-4d59-a5d9-0b47815a6014",
   "metadata": {
    "tags": []
   },
   "outputs": [],
   "source": [
    "tr= tr.select_dtypes(['number'])\n",
    "te = te.select_dtypes(['number'])"
   ]
  },
  {
   "cell_type": "code",
   "execution_count": 12,
   "id": "b7bd8d24-17f8-4dbf-86c7-79e30a44fb6e",
   "metadata": {
    "tags": []
   },
   "outputs": [],
   "source": [
    "#separar en train y test, nov, dic y ene\n",
    "X_train = tr.drop([\"TARGET\"], axis=1)\n",
    "y_train = tr.TARGET\n",
    "X_test = te.drop([\"TARGET\"], axis=1)\n",
    "y_test = te.TARGET"
   ]
  },
  {
   "cell_type": "code",
   "execution_count": 13,
   "id": "6cad95af-c04a-4421-8d4e-157921f72e1d",
   "metadata": {
    "tags": []
   },
   "outputs": [],
   "source": [
    "sttr=  StandardScaler().fit_transform(X_train)\n",
    "stte=  StandardScaler().fit_transform(X_test)"
   ]
  },
  {
   "cell_type": "code",
   "execution_count": 14,
   "id": "636c8b9f-16af-4e3f-acc1-abec8222cf31",
   "metadata": {
    "tags": []
   },
   "outputs": [],
   "source": [
    "X_train= pd.DataFrame(data = sttr, columns = X_train.columns, index = X_train.index)\n",
    "X_test  = pd.DataFrame(data = stte, columns = X_test.columns, index = X_test.index)"
   ]
  },
  {
   "cell_type": "code",
   "execution_count": 15,
   "id": "07097659-b24f-48b9-b62a-879c2bdc85e7",
   "metadata": {
    "tags": []
   },
   "outputs": [],
   "source": [
    "# feature engineering\n",
    "from sklearn.feature_selection import f_classif\n",
    "from sklearn.preprocessing import StandardScaler\n"
   ]
  },
  {
   "cell_type": "code",
   "execution_count": 16,
   "id": "d95b8ccd-9d4d-47f2-b6a5-1a7a1d8b4d47",
   "metadata": {
    "tags": []
   },
   "outputs": [
    {
     "data": {
      "text/html": [
       "<div>\n",
       "<style scoped>\n",
       "    .dataframe tbody tr th:only-of-type {\n",
       "        vertical-align: middle;\n",
       "    }\n",
       "\n",
       "    .dataframe tbody tr th {\n",
       "        vertical-align: top;\n",
       "    }\n",
       "\n",
       "    .dataframe thead th {\n",
       "        text-align: right;\n",
       "    }\n",
       "</style>\n",
       "<table border=\"1\" class=\"dataframe\">\n",
       "  <thead>\n",
       "    <tr style=\"text-align: right;\">\n",
       "      <th></th>\n",
       "      <th>features</th>\n",
       "      <th>score</th>\n",
       "    </tr>\n",
       "  </thead>\n",
       "  <tbody>\n",
       "    <tr>\n",
       "      <th>72</th>\n",
       "      <td>roll_sum_7_TX</td>\n",
       "      <td>288.477945</td>\n",
       "    </tr>\n",
       "    <tr>\n",
       "      <th>79</th>\n",
       "      <td>roll_sum_30_TX</td>\n",
       "      <td>261.199837</td>\n",
       "    </tr>\n",
       "    <tr>\n",
       "      <th>68</th>\n",
       "      <td>roll_sum_7_AMOUNT</td>\n",
       "      <td>245.078389</td>\n",
       "    </tr>\n",
       "    <tr>\n",
       "      <th>20</th>\n",
       "      <td>roll_mean_7D_TX</td>\n",
       "      <td>232.247438</td>\n",
       "    </tr>\n",
       "    <tr>\n",
       "      <th>75</th>\n",
       "      <td>roll_sum_30_AMOUNT</td>\n",
       "      <td>226.470307</td>\n",
       "    </tr>\n",
       "    <tr>\n",
       "      <th>0</th>\n",
       "      <td>TX</td>\n",
       "      <td>225.029285</td>\n",
       "    </tr>\n",
       "    <tr>\n",
       "      <th>27</th>\n",
       "      <td>roll_max_7D_TX</td>\n",
       "      <td>218.510898</td>\n",
       "    </tr>\n",
       "    <tr>\n",
       "      <th>49</th>\n",
       "      <td>lag_2_TX</td>\n",
       "      <td>202.565672</td>\n",
       "    </tr>\n",
       "    <tr>\n",
       "      <th>41</th>\n",
       "      <td>lag_1_TX</td>\n",
       "      <td>197.282225</td>\n",
       "    </tr>\n",
       "    <tr>\n",
       "      <th>57</th>\n",
       "      <td>lag_7_TX</td>\n",
       "      <td>197.072745</td>\n",
       "    </tr>\n",
       "    <tr>\n",
       "      <th>16</th>\n",
       "      <td>roll_mean_7D_AMOUNT</td>\n",
       "      <td>192.247053</td>\n",
       "    </tr>\n",
       "    <tr>\n",
       "      <th>86</th>\n",
       "      <td>roll_sum_60_TX</td>\n",
       "      <td>190.031423</td>\n",
       "    </tr>\n",
       "    <tr>\n",
       "      <th>1</th>\n",
       "      <td>AMOUNT</td>\n",
       "      <td>181.874770</td>\n",
       "    </tr>\n",
       "    <tr>\n",
       "      <th>23</th>\n",
       "      <td>roll_max_7D_AMOUNT</td>\n",
       "      <td>180.076908</td>\n",
       "    </tr>\n",
       "    <tr>\n",
       "      <th>13</th>\n",
       "      <td>roll_mean_30D_TX</td>\n",
       "      <td>174.905208</td>\n",
       "    </tr>\n",
       "    <tr>\n",
       "      <th>82</th>\n",
       "      <td>roll_sum_60_AMOUNT</td>\n",
       "      <td>167.117376</td>\n",
       "    </tr>\n",
       "    <tr>\n",
       "      <th>45</th>\n",
       "      <td>lag_2_AMOUNT</td>\n",
       "      <td>166.447942</td>\n",
       "    </tr>\n",
       "    <tr>\n",
       "      <th>37</th>\n",
       "      <td>lag_1_AMOUNT</td>\n",
       "      <td>164.766306</td>\n",
       "    </tr>\n",
       "    <tr>\n",
       "      <th>53</th>\n",
       "      <td>lag_7_AMOUNT</td>\n",
       "      <td>159.787082</td>\n",
       "    </tr>\n",
       "    <tr>\n",
       "      <th>64</th>\n",
       "      <td>lag_30_TX</td>\n",
       "      <td>151.843855</td>\n",
       "    </tr>\n",
       "    <tr>\n",
       "      <th>36</th>\n",
       "      <td>roll_max_30D_TX_check</td>\n",
       "      <td>147.126668</td>\n",
       "    </tr>\n",
       "    <tr>\n",
       "      <th>22</th>\n",
       "      <td>roll_mean_7D_TX_check</td>\n",
       "      <td>146.446363</td>\n",
       "    </tr>\n",
       "    <tr>\n",
       "      <th>15</th>\n",
       "      <td>roll_mean_30D_TX_check</td>\n",
       "      <td>145.294184</td>\n",
       "    </tr>\n",
       "    <tr>\n",
       "      <th>9</th>\n",
       "      <td>roll_mean_30D_AMOUNT</td>\n",
       "      <td>144.596818</td>\n",
       "    </tr>\n",
       "    <tr>\n",
       "      <th>89</th>\n",
       "      <td>ANTIGUEDAD_d</td>\n",
       "      <td>143.035371</td>\n",
       "    </tr>\n",
       "    <tr>\n",
       "      <th>19</th>\n",
       "      <td>roll_mean_7D_TOTAL_AMOUNT_check</td>\n",
       "      <td>138.239741</td>\n",
       "    </tr>\n",
       "    <tr>\n",
       "      <th>12</th>\n",
       "      <td>roll_mean_30D_TOTAL_AMOUNT_check</td>\n",
       "      <td>137.509986</td>\n",
       "    </tr>\n",
       "    <tr>\n",
       "      <th>34</th>\n",
       "      <td>roll_max_30D_TX</td>\n",
       "      <td>134.852786</td>\n",
       "    </tr>\n",
       "    <tr>\n",
       "      <th>29</th>\n",
       "      <td>roll_max_7D_TX_check</td>\n",
       "      <td>132.715233</td>\n",
       "    </tr>\n",
       "    <tr>\n",
       "      <th>60</th>\n",
       "      <td>lag_30_AMOUNT</td>\n",
       "      <td>125.047771</td>\n",
       "    </tr>\n",
       "  </tbody>\n",
       "</table>\n",
       "</div>"
      ],
      "text/plain": [
       "                            features       score\n",
       "72                     roll_sum_7_TX  288.477945\n",
       "79                    roll_sum_30_TX  261.199837\n",
       "68                 roll_sum_7_AMOUNT  245.078389\n",
       "20                   roll_mean_7D_TX  232.247438\n",
       "75                roll_sum_30_AMOUNT  226.470307\n",
       "0                                 TX  225.029285\n",
       "27                    roll_max_7D_TX  218.510898\n",
       "49                          lag_2_TX  202.565672\n",
       "41                          lag_1_TX  197.282225\n",
       "57                          lag_7_TX  197.072745\n",
       "16               roll_mean_7D_AMOUNT  192.247053\n",
       "86                    roll_sum_60_TX  190.031423\n",
       "1                             AMOUNT  181.874770\n",
       "23                roll_max_7D_AMOUNT  180.076908\n",
       "13                  roll_mean_30D_TX  174.905208\n",
       "82                roll_sum_60_AMOUNT  167.117376\n",
       "45                      lag_2_AMOUNT  166.447942\n",
       "37                      lag_1_AMOUNT  164.766306\n",
       "53                      lag_7_AMOUNT  159.787082\n",
       "64                         lag_30_TX  151.843855\n",
       "36             roll_max_30D_TX_check  147.126668\n",
       "22             roll_mean_7D_TX_check  146.446363\n",
       "15            roll_mean_30D_TX_check  145.294184\n",
       "9               roll_mean_30D_AMOUNT  144.596818\n",
       "89                      ANTIGUEDAD_d  143.035371\n",
       "19   roll_mean_7D_TOTAL_AMOUNT_check  138.239741\n",
       "12  roll_mean_30D_TOTAL_AMOUNT_check  137.509986\n",
       "34                   roll_max_30D_TX  134.852786\n",
       "29              roll_max_7D_TX_check  132.715233\n",
       "60                     lag_30_AMOUNT  125.047771"
      ]
     },
     "execution_count": 16,
     "metadata": {},
     "output_type": "execute_result"
    }
   ],
   "source": [
    "features = X_train.columns\n",
    "f_scores = f_classif(X_train, y_train)[0] # el [1] son los p-values.\n",
    "\n",
    "df_fscores = pd.DataFrame({'features':features,'score':f_scores})\n",
    "df_fscores = df_fscores.sort_values('score', ascending = False)\n",
    "df_fscores.head(30)"
   ]
  },
  {
   "cell_type": "code",
   "execution_count": 15,
   "id": "962bfe0f-1b99-4bb9-8e55-9898445bf2aa",
   "metadata": {
    "tags": []
   },
   "outputs": [
    {
     "data": {
      "text/html": [
       "<div>\n",
       "<style scoped>\n",
       "    .dataframe tbody tr th:only-of-type {\n",
       "        vertical-align: middle;\n",
       "    }\n",
       "\n",
       "    .dataframe tbody tr th {\n",
       "        vertical-align: top;\n",
       "    }\n",
       "\n",
       "    .dataframe thead th {\n",
       "        text-align: right;\n",
       "    }\n",
       "</style>\n",
       "<table border=\"1\" class=\"dataframe\">\n",
       "  <thead>\n",
       "    <tr style=\"text-align: right;\">\n",
       "      <th></th>\n",
       "      <th>features</th>\n",
       "      <th>score</th>\n",
       "    </tr>\n",
       "  </thead>\n",
       "  <tbody>\n",
       "    <tr>\n",
       "      <th>43</th>\n",
       "      <td>lag_1_BALANCE</td>\n",
       "      <td>3.023984</td>\n",
       "    </tr>\n",
       "    <tr>\n",
       "      <th>51</th>\n",
       "      <td>lag_2_BALANCE</td>\n",
       "      <td>2.630599</td>\n",
       "    </tr>\n",
       "    <tr>\n",
       "      <th>95</th>\n",
       "      <td>roll_sum_60_TX_MO</td>\n",
       "      <td>2.141227</td>\n",
       "    </tr>\n",
       "    <tr>\n",
       "      <th>92</th>\n",
       "      <td>roll_sum_60_TOTAL_AMOUNT_MO</td>\n",
       "      <td>2.049660</td>\n",
       "    </tr>\n",
       "    <tr>\n",
       "      <th>2</th>\n",
       "      <td>BALANCE</td>\n",
       "      <td>1.941976</td>\n",
       "    </tr>\n",
       "    <tr>\n",
       "      <th>67</th>\n",
       "      <td>lag_30_BALANCE</td>\n",
       "      <td>1.587100</td>\n",
       "    </tr>\n",
       "    <tr>\n",
       "      <th>59</th>\n",
       "      <td>lag_7_BALANCE</td>\n",
       "      <td>1.171228</td>\n",
       "    </tr>\n",
       "    <tr>\n",
       "      <th>8</th>\n",
       "      <td>INACTIVE_DAYS</td>\n",
       "      <td>0.337711</td>\n",
       "    </tr>\n",
       "    <tr>\n",
       "      <th>19</th>\n",
       "      <td>roll_mean_7D_BALANCE</td>\n",
       "      <td>0.251412</td>\n",
       "    </tr>\n",
       "    <tr>\n",
       "      <th>11</th>\n",
       "      <td>roll_mean_30D_BALANCE</td>\n",
       "      <td>0.013422</td>\n",
       "    </tr>\n",
       "  </tbody>\n",
       "</table>\n",
       "</div>"
      ],
      "text/plain": [
       "                       features     score\n",
       "43                lag_1_BALANCE  3.023984\n",
       "51                lag_2_BALANCE  2.630599\n",
       "95            roll_sum_60_TX_MO  2.141227\n",
       "92  roll_sum_60_TOTAL_AMOUNT_MO  2.049660\n",
       "2                       BALANCE  1.941976\n",
       "67               lag_30_BALANCE  1.587100\n",
       "59                lag_7_BALANCE  1.171228\n",
       "8                 INACTIVE_DAYS  0.337711\n",
       "19         roll_mean_7D_BALANCE  0.251412\n",
       "11        roll_mean_30D_BALANCE  0.013422"
      ]
     },
     "execution_count": 15,
     "metadata": {},
     "output_type": "execute_result"
    }
   ],
   "source": [
    "df_fscores.tail(10)"
   ]
  },
  {
   "cell_type": "code",
   "execution_count": 16,
   "id": "931d751a-894a-44d5-afae-65dd8192c9a6",
   "metadata": {
    "tags": []
   },
   "outputs": [
    {
     "data": {
      "text/plain": [
       "(2166913, 86)"
      ]
     },
     "execution_count": 16,
     "metadata": {},
     "output_type": "execute_result"
    }
   ],
   "source": [
    "# eliminando las features que no son relevantes\n",
    "LIM_IRR = 5 # ajustable\n",
    "df_fscores = df_fscores[df_fscores['score'] > LIM_IRR]\n",
    "X_sel = X_train[df_fscores['features']]\n",
    "X_sel.shape"
   ]
  },
  {
   "cell_type": "code",
   "execution_count": 17,
   "id": "025ef445-b309-4604-8726-8d749d8c6e1b",
   "metadata": {
    "tags": []
   },
   "outputs": [
    {
     "data": {
      "text/html": [
       "<div>\n",
       "<style scoped>\n",
       "    .dataframe tbody tr th:only-of-type {\n",
       "        vertical-align: middle;\n",
       "    }\n",
       "\n",
       "    .dataframe tbody tr th {\n",
       "        vertical-align: top;\n",
       "    }\n",
       "\n",
       "    .dataframe thead th {\n",
       "        text-align: right;\n",
       "    }\n",
       "</style>\n",
       "<table border=\"1\" class=\"dataframe\">\n",
       "  <thead>\n",
       "    <tr style=\"text-align: right;\">\n",
       "      <th></th>\n",
       "      <th>index</th>\n",
       "      <th>col</th>\n",
       "    </tr>\n",
       "  </thead>\n",
       "  <tbody>\n",
       "    <tr>\n",
       "      <th>0</th>\n",
       "      <td>roll_sum_30_DEFAULT</td>\n",
       "      <td>roll_max_30D_DEFAULT</td>\n",
       "    </tr>\n",
       "    <tr>\n",
       "      <th>1</th>\n",
       "      <td>roll_mean_30D_DEFAULT</td>\n",
       "      <td>roll_max_30D_DEFAULT</td>\n",
       "    </tr>\n",
       "    <tr>\n",
       "      <th>2</th>\n",
       "      <td>roll_mean_30D_DEFAULT</td>\n",
       "      <td>roll_sum_30_DEFAULT</td>\n",
       "    </tr>\n",
       "    <tr>\n",
       "      <th>3</th>\n",
       "      <td>roll_max_7D_DEFAULT</td>\n",
       "      <td>roll_sum_7_DEFAULT</td>\n",
       "    </tr>\n",
       "    <tr>\n",
       "      <th>4</th>\n",
       "      <td>roll_mean_7D_DEFAULT</td>\n",
       "      <td>roll_sum_7_DEFAULT</td>\n",
       "    </tr>\n",
       "    <tr>\n",
       "      <th>5</th>\n",
       "      <td>roll_mean_7D_DEFAULT</td>\n",
       "      <td>roll_max_7D_DEFAULT</td>\n",
       "    </tr>\n",
       "    <tr>\n",
       "      <th>6</th>\n",
       "      <td>roll_sum_30_TX</td>\n",
       "      <td>roll_sum_7_TX</td>\n",
       "    </tr>\n",
       "    <tr>\n",
       "      <th>7</th>\n",
       "      <td>roll_sum_7_AMOUNT</td>\n",
       "      <td>roll_sum_7_TX</td>\n",
       "    </tr>\n",
       "    <tr>\n",
       "      <th>8</th>\n",
       "      <td>roll_sum_7_AMOUNT</td>\n",
       "      <td>roll_sum_30_TX</td>\n",
       "    </tr>\n",
       "    <tr>\n",
       "      <th>9</th>\n",
       "      <td>roll_mean_7D_TX</td>\n",
       "      <td>roll_sum_7_TX</td>\n",
       "    </tr>\n",
       "    <tr>\n",
       "      <th>10</th>\n",
       "      <td>roll_mean_7D_TX</td>\n",
       "      <td>roll_sum_30_TX</td>\n",
       "    </tr>\n",
       "    <tr>\n",
       "      <th>11</th>\n",
       "      <td>roll_mean_7D_TX</td>\n",
       "      <td>roll_sum_7_AMOUNT</td>\n",
       "    </tr>\n",
       "    <tr>\n",
       "      <th>12</th>\n",
       "      <td>roll_sum_30_AMOUNT</td>\n",
       "      <td>roll_sum_7_TX</td>\n",
       "    </tr>\n",
       "    <tr>\n",
       "      <th>13</th>\n",
       "      <td>roll_sum_30_AMOUNT</td>\n",
       "      <td>roll_sum_30_TX</td>\n",
       "    </tr>\n",
       "    <tr>\n",
       "      <th>14</th>\n",
       "      <td>roll_sum_30_AMOUNT</td>\n",
       "      <td>roll_sum_7_AMOUNT</td>\n",
       "    </tr>\n",
       "    <tr>\n",
       "      <th>15</th>\n",
       "      <td>roll_sum_30_AMOUNT</td>\n",
       "      <td>roll_mean_7D_TX</td>\n",
       "    </tr>\n",
       "    <tr>\n",
       "      <th>16</th>\n",
       "      <td>TX</td>\n",
       "      <td>roll_sum_7_TX</td>\n",
       "    </tr>\n",
       "    <tr>\n",
       "      <th>17</th>\n",
       "      <td>TX</td>\n",
       "      <td>roll_mean_7D_TX</td>\n",
       "    </tr>\n",
       "    <tr>\n",
       "      <th>18</th>\n",
       "      <td>roll_max_7D_TX</td>\n",
       "      <td>roll_sum_7_TX</td>\n",
       "    </tr>\n",
       "    <tr>\n",
       "      <th>19</th>\n",
       "      <td>roll_max_7D_TX</td>\n",
       "      <td>roll_sum_7_AMOUNT</td>\n",
       "    </tr>\n",
       "  </tbody>\n",
       "</table>\n",
       "</div>"
      ],
      "text/plain": [
       "                    index                   col\n",
       "0     roll_sum_30_DEFAULT  roll_max_30D_DEFAULT\n",
       "1   roll_mean_30D_DEFAULT  roll_max_30D_DEFAULT\n",
       "2   roll_mean_30D_DEFAULT   roll_sum_30_DEFAULT\n",
       "3     roll_max_7D_DEFAULT    roll_sum_7_DEFAULT\n",
       "4    roll_mean_7D_DEFAULT    roll_sum_7_DEFAULT\n",
       "5    roll_mean_7D_DEFAULT   roll_max_7D_DEFAULT\n",
       "6          roll_sum_30_TX         roll_sum_7_TX\n",
       "7       roll_sum_7_AMOUNT         roll_sum_7_TX\n",
       "8       roll_sum_7_AMOUNT        roll_sum_30_TX\n",
       "9         roll_mean_7D_TX         roll_sum_7_TX\n",
       "10        roll_mean_7D_TX        roll_sum_30_TX\n",
       "11        roll_mean_7D_TX     roll_sum_7_AMOUNT\n",
       "12     roll_sum_30_AMOUNT         roll_sum_7_TX\n",
       "13     roll_sum_30_AMOUNT        roll_sum_30_TX\n",
       "14     roll_sum_30_AMOUNT     roll_sum_7_AMOUNT\n",
       "15     roll_sum_30_AMOUNT       roll_mean_7D_TX\n",
       "16                     TX         roll_sum_7_TX\n",
       "17                     TX       roll_mean_7D_TX\n",
       "18         roll_max_7D_TX         roll_sum_7_TX\n",
       "19         roll_max_7D_TX     roll_sum_7_AMOUNT"
      ]
     },
     "execution_count": 17,
     "metadata": {},
     "output_type": "execute_result"
    }
   ],
   "source": [
    "# seleccionando las features redundantes\n",
    "xcorr = X_sel.corr().abs()\n",
    "LIM_COR = 0.80 # ajustable\n",
    "xcorr = xcorr[xcorr > LIM_COR].fillna(0)\n",
    "index = []\n",
    "column = []\n",
    "for idx in list(xcorr.index):\n",
    "    for col in list(xcorr.columns):\n",
    "        # la matriz es diagonal\n",
    "        if idx == col:\n",
    "            break\n",
    "        if (xcorr.loc[idx,col] != 0):\n",
    "            index = index + [idx]\n",
    "            column = column + [col]\n",
    "df_fcorr = pd.DataFrame({'index':index, 'col':column})\n",
    "df_fcorr.head(20)"
   ]
  },
  {
   "cell_type": "code",
   "execution_count": 18,
   "id": "97284198-4931-43a9-a2f6-7530061d8624",
   "metadata": {
    "tags": []
   },
   "outputs": [
    {
     "data": {
      "text/plain": [
       "TX                      float64\n",
       "AMOUNT                  float64\n",
       "BALANCE                 float64\n",
       "TX_check                float64\n",
       "TOTAL_AMOUNT_check      float64\n",
       "                         ...   \n",
       "roll_sum_60_TX          float64\n",
       "roll_sum_60_TX_MO       float64\n",
       "roll_sum_60_TX_check    float64\n",
       "roll_sum_60_DEFAULT     float64\n",
       "ANTIGUEDAD_d            float64\n",
       "Length: 99, dtype: object"
      ]
     },
     "execution_count": 18,
     "metadata": {},
     "output_type": "execute_result"
    }
   ],
   "source": [
    "X_train.dtypes"
   ]
  },
  {
   "cell_type": "code",
   "execution_count": 19,
   "id": "556ec1a3-4a0b-4b28-bae7-3619a446b1e8",
   "metadata": {
    "tags": []
   },
   "outputs": [
    {
     "data": {
      "text/plain": [
       "dtype('float64')"
      ]
     },
     "execution_count": 19,
     "metadata": {},
     "output_type": "execute_result"
    }
   ],
   "source": [
    "y_train.dtypes"
   ]
  },
  {
   "cell_type": "code",
   "execution_count": 20,
   "id": "4f073470-41bf-4e16-807c-ac3fc21c939a",
   "metadata": {
    "tags": []
   },
   "outputs": [
    {
     "data": {
      "text/plain": [
       "array([0., 1.])"
      ]
     },
     "execution_count": 20,
     "metadata": {},
     "output_type": "execute_result"
    }
   ],
   "source": [
    "y_train.unique()"
   ]
  },
  {
   "cell_type": "markdown",
   "id": "6bbc228f-bb76-401e-bfcb-496d808fc5dd",
   "metadata": {},
   "source": [
    "# Logistic regression"
   ]
  },
  {
   "cell_type": "code",
   "execution_count": 15,
   "id": "968581d1-5212-456c-ae78-6c4ab0ba03d0",
   "metadata": {
    "tags": []
   },
   "outputs": [],
   "source": [
    "from sklearn.linear_model import LogisticRegression"
   ]
  },
  {
   "cell_type": "code",
   "execution_count": 16,
   "id": "7560b6dc-34c8-42d8-ad60-4f3cfad240ea",
   "metadata": {},
   "outputs": [
    {
     "data": {
      "text/plain": [
       "0.9990161118605131"
      ]
     },
     "execution_count": 16,
     "metadata": {},
     "output_type": "execute_result"
    }
   ],
   "source": [
    "clf = LogisticRegression(random_state=0).fit(X_train, y_train)\n",
    "clf.score(X_train, y_train)"
   ]
  },
  {
   "cell_type": "code",
   "execution_count": 17,
   "id": "b8286616-81d0-4b35-add3-c6dcdb3b3136",
   "metadata": {
    "tags": []
   },
   "outputs": [
    {
     "data": {
      "text/plain": [
       "0.998899816882273"
      ]
     },
     "execution_count": 17,
     "metadata": {},
     "output_type": "execute_result"
    }
   ],
   "source": [
    "clf.score(X_test, y_test)"
   ]
  },
  {
   "cell_type": "code",
   "execution_count": 18,
   "id": "5a07ed73-8a55-4efb-8310-4d2872a34e28",
   "metadata": {
    "tags": []
   },
   "outputs": [],
   "source": [
    "# guardar el modelo\n",
    "from pickle import dump\n",
    "with open(\"Logistic_reg_default.pkl\", \"wb\") as f:\n",
    "    dump(clf, f, protocol=5)"
   ]
  },
  {
   "cell_type": "code",
   "execution_count": 20,
   "id": "9ed012b3-1ed6-4661-873f-32ca3c88adb8",
   "metadata": {
    "tags": []
   },
   "outputs": [
    {
     "name": "stdout",
     "output_type": "stream",
     "text": [
      "                  feature  importance\n",
      "34        roll_max_30D_TX    0.140621\n",
      "9    roll_mean_30D_AMOUNT    0.111602\n",
      "13       roll_mean_30D_TX    0.089038\n",
      "10  roll_mean_30D_BALANCE    0.082282\n",
      "30    roll_max_30D_AMOUNT    0.081759\n",
      "..                    ...         ...\n",
      "68      roll_sum_7_AMOUNT   -0.111960\n",
      "0                      TX   -0.118774\n",
      "79         roll_sum_30_TX   -0.160748\n",
      "72          roll_sum_7_TX   -0.170651\n",
      "89           ANTIGUEDAD_d   -0.235532\n",
      "\n",
      "[90 rows x 2 columns]\n"
     ]
    }
   ],
   "source": [
    "# Get feature importances\n",
    "importances = clf.coef_[0]\n",
    "\n",
    "# Get the feature names (assuming you have them stored in a list called 'feature_names')\n",
    "feature_names = X_test.columns  # replace with your feature names\n",
    "\n",
    "# Create DataFrame\n",
    "fi = pd.DataFrame({'feature': feature_names, 'importance': importances})\n",
    "\n",
    "# Sort DataFrame by importance\n",
    "fi = fi.sort_values('importance', ascending=False)\n",
    "\n",
    "# Print DataFrame\n",
    "print(fi)"
   ]
  },
  {
   "cell_type": "code",
   "execution_count": 21,
   "id": "3564c7a9-44fb-4ceb-ae83-ff127c43ec74",
   "metadata": {
    "tags": []
   },
   "outputs": [
    {
     "data": {
      "text/html": [
       "<div>\n",
       "<style scoped>\n",
       "    .dataframe tbody tr th:only-of-type {\n",
       "        vertical-align: middle;\n",
       "    }\n",
       "\n",
       "    .dataframe tbody tr th {\n",
       "        vertical-align: top;\n",
       "    }\n",
       "\n",
       "    .dataframe thead th {\n",
       "        text-align: right;\n",
       "    }\n",
       "</style>\n",
       "<table border=\"1\" class=\"dataframe\">\n",
       "  <thead>\n",
       "    <tr style=\"text-align: right;\">\n",
       "      <th></th>\n",
       "      <th>feature</th>\n",
       "      <th>importance</th>\n",
       "    </tr>\n",
       "  </thead>\n",
       "  <tbody>\n",
       "    <tr>\n",
       "      <th>34</th>\n",
       "      <td>roll_max_30D_TX</td>\n",
       "      <td>0.140621</td>\n",
       "    </tr>\n",
       "    <tr>\n",
       "      <th>9</th>\n",
       "      <td>roll_mean_30D_AMOUNT</td>\n",
       "      <td>0.111602</td>\n",
       "    </tr>\n",
       "    <tr>\n",
       "      <th>13</th>\n",
       "      <td>roll_mean_30D_TX</td>\n",
       "      <td>0.089038</td>\n",
       "    </tr>\n",
       "    <tr>\n",
       "      <th>10</th>\n",
       "      <td>roll_mean_30D_BALANCE</td>\n",
       "      <td>0.082282</td>\n",
       "    </tr>\n",
       "    <tr>\n",
       "      <th>30</th>\n",
       "      <td>roll_max_30D_AMOUNT</td>\n",
       "      <td>0.081759</td>\n",
       "    </tr>\n",
       "    <tr>\n",
       "      <th>85</th>\n",
       "      <td>roll_sum_60_TOTAL_AMOUNT_check</td>\n",
       "      <td>0.068521</td>\n",
       "    </tr>\n",
       "    <tr>\n",
       "      <th>17</th>\n",
       "      <td>roll_mean_7D_BALANCE</td>\n",
       "      <td>0.065748</td>\n",
       "    </tr>\n",
       "    <tr>\n",
       "      <th>88</th>\n",
       "      <td>roll_sum_60_TX_check</td>\n",
       "      <td>0.063281</td>\n",
       "    </tr>\n",
       "    <tr>\n",
       "      <th>78</th>\n",
       "      <td>roll_sum_30_TOTAL_AMOUNT_check</td>\n",
       "      <td>0.048276</td>\n",
       "    </tr>\n",
       "    <tr>\n",
       "      <th>8</th>\n",
       "      <td>DEFAULT</td>\n",
       "      <td>0.044899</td>\n",
       "    </tr>\n",
       "    <tr>\n",
       "      <th>7</th>\n",
       "      <td>DSO_DEPO_DAY</td>\n",
       "      <td>0.040691</td>\n",
       "    </tr>\n",
       "    <tr>\n",
       "      <th>81</th>\n",
       "      <td>roll_sum_30_TX_check</td>\n",
       "      <td>0.039994</td>\n",
       "    </tr>\n",
       "    <tr>\n",
       "      <th>67</th>\n",
       "      <td>lag_30_DEFAULT</td>\n",
       "      <td>0.037162</td>\n",
       "    </tr>\n",
       "    <tr>\n",
       "      <th>44</th>\n",
       "      <td>lag_1_DEFAULT</td>\n",
       "      <td>0.037161</td>\n",
       "    </tr>\n",
       "    <tr>\n",
       "      <th>31</th>\n",
       "      <td>roll_max_30D_BALANCE</td>\n",
       "      <td>0.035418</td>\n",
       "    </tr>\n",
       "    <tr>\n",
       "      <th>52</th>\n",
       "      <td>lag_2_DEFAULT</td>\n",
       "      <td>0.018937</td>\n",
       "    </tr>\n",
       "    <tr>\n",
       "      <th>71</th>\n",
       "      <td>roll_sum_7_TOTAL_AMOUNT_check</td>\n",
       "      <td>0.016850</td>\n",
       "    </tr>\n",
       "    <tr>\n",
       "      <th>77</th>\n",
       "      <td>roll_sum_30_TOTAL_AMOUNT_MO</td>\n",
       "      <td>0.011771</td>\n",
       "    </tr>\n",
       "    <tr>\n",
       "      <th>80</th>\n",
       "      <td>roll_sum_30_TX_MO</td>\n",
       "      <td>0.011617</td>\n",
       "    </tr>\n",
       "    <tr>\n",
       "      <th>70</th>\n",
       "      <td>roll_sum_7_TOTAL_AMOUNT_MO</td>\n",
       "      <td>0.011508</td>\n",
       "    </tr>\n",
       "    <tr>\n",
       "      <th>73</th>\n",
       "      <td>roll_sum_7_TX_MO</td>\n",
       "      <td>0.011006</td>\n",
       "    </tr>\n",
       "    <tr>\n",
       "      <th>74</th>\n",
       "      <td>roll_sum_7_TX_check</td>\n",
       "      <td>0.008527</td>\n",
       "    </tr>\n",
       "    <tr>\n",
       "      <th>6</th>\n",
       "      <td>TOTAL_AMOUNT_MO</td>\n",
       "      <td>0.008409</td>\n",
       "    </tr>\n",
       "    <tr>\n",
       "      <th>54</th>\n",
       "      <td>lag_7_BALANCE</td>\n",
       "      <td>0.007323</td>\n",
       "    </tr>\n",
       "    <tr>\n",
       "      <th>60</th>\n",
       "      <td>lag_30_AMOUNT</td>\n",
       "      <td>0.005252</td>\n",
       "    </tr>\n",
       "    <tr>\n",
       "      <th>55</th>\n",
       "      <td>lag_7_TOTAL_AMOUNT_MO</td>\n",
       "      <td>0.004081</td>\n",
       "    </tr>\n",
       "    <tr>\n",
       "      <th>5</th>\n",
       "      <td>TX_MO</td>\n",
       "      <td>0.002516</td>\n",
       "    </tr>\n",
       "    <tr>\n",
       "      <th>38</th>\n",
       "      <td>lag_1_BALANCE</td>\n",
       "      <td>0.002017</td>\n",
       "    </tr>\n",
       "    <tr>\n",
       "      <th>63</th>\n",
       "      <td>lag_30_TOTAL_AMOUNT_check</td>\n",
       "      <td>-0.001694</td>\n",
       "    </tr>\n",
       "    <tr>\n",
       "      <th>84</th>\n",
       "      <td>roll_sum_60_TOTAL_AMOUNT_MO</td>\n",
       "      <td>-0.002739</td>\n",
       "    </tr>\n",
       "  </tbody>\n",
       "</table>\n",
       "</div>"
      ],
      "text/plain": [
       "                           feature  importance\n",
       "34                 roll_max_30D_TX    0.140621\n",
       "9             roll_mean_30D_AMOUNT    0.111602\n",
       "13                roll_mean_30D_TX    0.089038\n",
       "10           roll_mean_30D_BALANCE    0.082282\n",
       "30             roll_max_30D_AMOUNT    0.081759\n",
       "85  roll_sum_60_TOTAL_AMOUNT_check    0.068521\n",
       "17            roll_mean_7D_BALANCE    0.065748\n",
       "88            roll_sum_60_TX_check    0.063281\n",
       "78  roll_sum_30_TOTAL_AMOUNT_check    0.048276\n",
       "8                          DEFAULT    0.044899\n",
       "7                     DSO_DEPO_DAY    0.040691\n",
       "81            roll_sum_30_TX_check    0.039994\n",
       "67                  lag_30_DEFAULT    0.037162\n",
       "44                   lag_1_DEFAULT    0.037161\n",
       "31            roll_max_30D_BALANCE    0.035418\n",
       "52                   lag_2_DEFAULT    0.018937\n",
       "71   roll_sum_7_TOTAL_AMOUNT_check    0.016850\n",
       "77     roll_sum_30_TOTAL_AMOUNT_MO    0.011771\n",
       "80               roll_sum_30_TX_MO    0.011617\n",
       "70      roll_sum_7_TOTAL_AMOUNT_MO    0.011508\n",
       "73                roll_sum_7_TX_MO    0.011006\n",
       "74             roll_sum_7_TX_check    0.008527\n",
       "6                  TOTAL_AMOUNT_MO    0.008409\n",
       "54                   lag_7_BALANCE    0.007323\n",
       "60                   lag_30_AMOUNT    0.005252\n",
       "55           lag_7_TOTAL_AMOUNT_MO    0.004081\n",
       "5                            TX_MO    0.002516\n",
       "38                   lag_1_BALANCE    0.002017\n",
       "63       lag_30_TOTAL_AMOUNT_check   -0.001694\n",
       "84     roll_sum_60_TOTAL_AMOUNT_MO   -0.002739"
      ]
     },
     "execution_count": 21,
     "metadata": {},
     "output_type": "execute_result"
    }
   ],
   "source": [
    "fi.head(30)"
   ]
  },
  {
   "cell_type": "code",
   "execution_count": 22,
   "id": "bf72d09b-c217-41b4-9d9b-e1ed6fb5ac9a",
   "metadata": {
    "tags": []
   },
   "outputs": [
    {
     "data": {
      "text/html": [
       "<div>\n",
       "<style scoped>\n",
       "    .dataframe tbody tr th:only-of-type {\n",
       "        vertical-align: middle;\n",
       "    }\n",
       "\n",
       "    .dataframe tbody tr th {\n",
       "        vertical-align: top;\n",
       "    }\n",
       "\n",
       "    .dataframe thead th {\n",
       "        text-align: right;\n",
       "    }\n",
       "</style>\n",
       "<table border=\"1\" class=\"dataframe\">\n",
       "  <thead>\n",
       "    <tr style=\"text-align: right;\">\n",
       "      <th></th>\n",
       "      <th>feature</th>\n",
       "      <th>importance</th>\n",
       "    </tr>\n",
       "  </thead>\n",
       "  <tbody>\n",
       "    <tr>\n",
       "      <th>37</th>\n",
       "      <td>lag_1_AMOUNT</td>\n",
       "      <td>-0.040073</td>\n",
       "    </tr>\n",
       "    <tr>\n",
       "      <th>21</th>\n",
       "      <td>roll_mean_7D_TX_MO</td>\n",
       "      <td>-0.041850</td>\n",
       "    </tr>\n",
       "    <tr>\n",
       "      <th>26</th>\n",
       "      <td>roll_max_7D_TOTAL_AMOUNT_check</td>\n",
       "      <td>-0.050319</td>\n",
       "    </tr>\n",
       "    <tr>\n",
       "      <th>19</th>\n",
       "      <td>roll_mean_7D_TOTAL_AMOUNT_check</td>\n",
       "      <td>-0.051103</td>\n",
       "    </tr>\n",
       "    <tr>\n",
       "      <th>41</th>\n",
       "      <td>lag_1_TX</td>\n",
       "      <td>-0.053552</td>\n",
       "    </tr>\n",
       "    <tr>\n",
       "      <th>12</th>\n",
       "      <td>roll_mean_30D_TOTAL_AMOUNT_check</td>\n",
       "      <td>-0.055447</td>\n",
       "    </tr>\n",
       "    <tr>\n",
       "      <th>45</th>\n",
       "      <td>lag_2_AMOUNT</td>\n",
       "      <td>-0.057816</td>\n",
       "    </tr>\n",
       "    <tr>\n",
       "      <th>83</th>\n",
       "      <td>roll_sum_60_BALANCE</td>\n",
       "      <td>-0.060418</td>\n",
       "    </tr>\n",
       "    <tr>\n",
       "      <th>11</th>\n",
       "      <td>roll_mean_30D_TOTAL_AMOUNT_MO</td>\n",
       "      <td>-0.060599</td>\n",
       "    </tr>\n",
       "    <tr>\n",
       "      <th>57</th>\n",
       "      <td>lag_7_TX</td>\n",
       "      <td>-0.061675</td>\n",
       "    </tr>\n",
       "    <tr>\n",
       "      <th>20</th>\n",
       "      <td>roll_mean_7D_TX</td>\n",
       "      <td>-0.062954</td>\n",
       "    </tr>\n",
       "    <tr>\n",
       "      <th>22</th>\n",
       "      <td>roll_mean_7D_TX_check</td>\n",
       "      <td>-0.064947</td>\n",
       "    </tr>\n",
       "    <tr>\n",
       "      <th>14</th>\n",
       "      <td>roll_mean_30D_TX_MO</td>\n",
       "      <td>-0.067016</td>\n",
       "    </tr>\n",
       "    <tr>\n",
       "      <th>15</th>\n",
       "      <td>roll_mean_30D_TX_check</td>\n",
       "      <td>-0.069983</td>\n",
       "    </tr>\n",
       "    <tr>\n",
       "      <th>69</th>\n",
       "      <td>roll_sum_7_BALANCE</td>\n",
       "      <td>-0.070184</td>\n",
       "    </tr>\n",
       "    <tr>\n",
       "      <th>86</th>\n",
       "      <td>roll_sum_60_TX</td>\n",
       "      <td>-0.070347</td>\n",
       "    </tr>\n",
       "    <tr>\n",
       "      <th>23</th>\n",
       "      <td>roll_max_7D_AMOUNT</td>\n",
       "      <td>-0.071330</td>\n",
       "    </tr>\n",
       "    <tr>\n",
       "      <th>33</th>\n",
       "      <td>roll_max_30D_TOTAL_AMOUNT_check</td>\n",
       "      <td>-0.072565</td>\n",
       "    </tr>\n",
       "    <tr>\n",
       "      <th>29</th>\n",
       "      <td>roll_max_7D_TX_check</td>\n",
       "      <td>-0.074161</td>\n",
       "    </tr>\n",
       "    <tr>\n",
       "      <th>1</th>\n",
       "      <td>AMOUNT</td>\n",
       "      <td>-0.076922</td>\n",
       "    </tr>\n",
       "    <tr>\n",
       "      <th>27</th>\n",
       "      <td>roll_max_7D_TX</td>\n",
       "      <td>-0.082043</td>\n",
       "    </tr>\n",
       "    <tr>\n",
       "      <th>49</th>\n",
       "      <td>lag_2_TX</td>\n",
       "      <td>-0.084829</td>\n",
       "    </tr>\n",
       "    <tr>\n",
       "      <th>76</th>\n",
       "      <td>roll_sum_30_BALANCE</td>\n",
       "      <td>-0.099682</td>\n",
       "    </tr>\n",
       "    <tr>\n",
       "      <th>36</th>\n",
       "      <td>roll_max_30D_TX_check</td>\n",
       "      <td>-0.101644</td>\n",
       "    </tr>\n",
       "    <tr>\n",
       "      <th>75</th>\n",
       "      <td>roll_sum_30_AMOUNT</td>\n",
       "      <td>-0.111143</td>\n",
       "    </tr>\n",
       "    <tr>\n",
       "      <th>68</th>\n",
       "      <td>roll_sum_7_AMOUNT</td>\n",
       "      <td>-0.111960</td>\n",
       "    </tr>\n",
       "    <tr>\n",
       "      <th>0</th>\n",
       "      <td>TX</td>\n",
       "      <td>-0.118774</td>\n",
       "    </tr>\n",
       "    <tr>\n",
       "      <th>79</th>\n",
       "      <td>roll_sum_30_TX</td>\n",
       "      <td>-0.160748</td>\n",
       "    </tr>\n",
       "    <tr>\n",
       "      <th>72</th>\n",
       "      <td>roll_sum_7_TX</td>\n",
       "      <td>-0.170651</td>\n",
       "    </tr>\n",
       "    <tr>\n",
       "      <th>89</th>\n",
       "      <td>ANTIGUEDAD_d</td>\n",
       "      <td>-0.235532</td>\n",
       "    </tr>\n",
       "  </tbody>\n",
       "</table>\n",
       "</div>"
      ],
      "text/plain": [
       "                             feature  importance\n",
       "37                      lag_1_AMOUNT   -0.040073\n",
       "21                roll_mean_7D_TX_MO   -0.041850\n",
       "26    roll_max_7D_TOTAL_AMOUNT_check   -0.050319\n",
       "19   roll_mean_7D_TOTAL_AMOUNT_check   -0.051103\n",
       "41                          lag_1_TX   -0.053552\n",
       "12  roll_mean_30D_TOTAL_AMOUNT_check   -0.055447\n",
       "45                      lag_2_AMOUNT   -0.057816\n",
       "83               roll_sum_60_BALANCE   -0.060418\n",
       "11     roll_mean_30D_TOTAL_AMOUNT_MO   -0.060599\n",
       "57                          lag_7_TX   -0.061675\n",
       "20                   roll_mean_7D_TX   -0.062954\n",
       "22             roll_mean_7D_TX_check   -0.064947\n",
       "14               roll_mean_30D_TX_MO   -0.067016\n",
       "15            roll_mean_30D_TX_check   -0.069983\n",
       "69                roll_sum_7_BALANCE   -0.070184\n",
       "86                    roll_sum_60_TX   -0.070347\n",
       "23                roll_max_7D_AMOUNT   -0.071330\n",
       "33   roll_max_30D_TOTAL_AMOUNT_check   -0.072565\n",
       "29              roll_max_7D_TX_check   -0.074161\n",
       "1                             AMOUNT   -0.076922\n",
       "27                    roll_max_7D_TX   -0.082043\n",
       "49                          lag_2_TX   -0.084829\n",
       "76               roll_sum_30_BALANCE   -0.099682\n",
       "36             roll_max_30D_TX_check   -0.101644\n",
       "75                roll_sum_30_AMOUNT   -0.111143\n",
       "68                 roll_sum_7_AMOUNT   -0.111960\n",
       "0                                 TX   -0.118774\n",
       "79                    roll_sum_30_TX   -0.160748\n",
       "72                     roll_sum_7_TX   -0.170651\n",
       "89                      ANTIGUEDAD_d   -0.235532"
      ]
     },
     "execution_count": 22,
     "metadata": {},
     "output_type": "execute_result"
    }
   ],
   "source": [
    "fi.tail(30)"
   ]
  },
  {
   "cell_type": "code",
   "execution_count": 23,
   "id": "dd466fbe-abfa-4ef7-ab6e-47a3aca0c27c",
   "metadata": {
    "tags": []
   },
   "outputs": [],
   "source": [
    "X_train['proba'] = clf.predict_proba(X_train)[:, 1]"
   ]
  },
  {
   "cell_type": "code",
   "execution_count": 24,
   "id": "f342d2ad-47aa-4f7b-9b1c-f9405a7f2693",
   "metadata": {
    "tags": []
   },
   "outputs": [],
   "source": [
    "X_test['proba'] = clf.predict_proba(X_test)[:, 1]"
   ]
  },
  {
   "cell_type": "code",
   "execution_count": 25,
   "id": "ab369b64-516c-4115-b046-c5e533c133a6",
   "metadata": {
    "tags": []
   },
   "outputs": [],
   "source": [
    "percentiles = pd.qcut(X_test['proba'], 10, labels=False, duplicates='drop')\n",
    "percentile_label = {p: l for l, p in enumerate(sorted(percentiles.unique(), reverse=True), start=1)}\n",
    "percentiles = percentiles.map(percentile_label)\n",
    "X_test['deciles'] = percentiles\n",
    "X_test['deciles'] = X_test['deciles'].astype('Int32')\n"
   ]
  },
  {
   "cell_type": "code",
   "execution_count": 26,
   "id": "44a475fe-619b-4eb7-8c1d-9175eda203e2",
   "metadata": {
    "tags": []
   },
   "outputs": [
    {
     "data": {
      "text/plain": [
       "(677160, 92)"
      ]
     },
     "execution_count": 26,
     "metadata": {},
     "output_type": "execute_result"
    }
   ],
   "source": [
    "X_test.shape"
   ]
  },
  {
   "cell_type": "code",
   "execution_count": 27,
   "id": "19cf0cde-c9c2-4570-b9be-7e759516f76d",
   "metadata": {
    "tags": []
   },
   "outputs": [
    {
     "data": {
      "text/plain": [
       "(677160,)"
      ]
     },
     "execution_count": 27,
     "metadata": {},
     "output_type": "execute_result"
    }
   ],
   "source": [
    "y_test.shape"
   ]
  },
  {
   "cell_type": "code",
   "execution_count": 28,
   "id": "2d128bac-362e-41cf-b4a3-ef5440de2540",
   "metadata": {
    "tags": []
   },
   "outputs": [
    {
     "data": {
      "text/plain": [
       "742.0"
      ]
     },
     "execution_count": 28,
     "metadata": {},
     "output_type": "execute_result"
    }
   ],
   "source": [
    "y_test.sum()"
   ]
  },
  {
   "cell_type": "code",
   "execution_count": 29,
   "id": "4e776d46-4cba-42fa-89e6-9ffb00bd03ff",
   "metadata": {
    "tags": []
   },
   "outputs": [],
   "source": [
    "Aux = pd.merge(X_test, y_test, left_index=True,right_index=True, how='left')"
   ]
  },
  {
   "cell_type": "code",
   "execution_count": 30,
   "id": "3bd02ce8-60a7-4db4-9f54-1b94fb0ca222",
   "metadata": {
    "tags": []
   },
   "outputs": [
    {
     "data": {
      "text/plain": [
       "(677160, 93)"
      ]
     },
     "execution_count": 30,
     "metadata": {},
     "output_type": "execute_result"
    }
   ],
   "source": [
    "Aux.shape"
   ]
  },
  {
   "cell_type": "code",
   "execution_count": 31,
   "id": "0a6e964c-0d57-4708-9b7a-885b0186f136",
   "metadata": {
    "tags": []
   },
   "outputs": [
    {
     "data": {
      "text/plain": [
       "742.0"
      ]
     },
     "execution_count": 31,
     "metadata": {},
     "output_type": "execute_result"
    }
   ],
   "source": [
    "Aux['TARGET'].sum()"
   ]
  },
  {
   "cell_type": "code",
   "execution_count": 32,
   "id": "98b1ea4f-97c5-43f6-aa7e-7cf0fad9958b",
   "metadata": {
    "tags": []
   },
   "outputs": [
    {
     "data": {
      "text/html": [
       "<div>\n",
       "<style scoped>\n",
       "    .dataframe tbody tr th:only-of-type {\n",
       "        vertical-align: middle;\n",
       "    }\n",
       "\n",
       "    .dataframe tbody tr th {\n",
       "        vertical-align: top;\n",
       "    }\n",
       "\n",
       "    .dataframe thead th {\n",
       "        text-align: right;\n",
       "    }\n",
       "</style>\n",
       "<table border=\"1\" class=\"dataframe\">\n",
       "  <thead>\n",
       "    <tr style=\"text-align: right;\">\n",
       "      <th>TARGET</th>\n",
       "      <th>0.0</th>\n",
       "      <th>1.0</th>\n",
       "    </tr>\n",
       "    <tr>\n",
       "      <th>deciles</th>\n",
       "      <th></th>\n",
       "      <th></th>\n",
       "    </tr>\n",
       "  </thead>\n",
       "  <tbody>\n",
       "    <tr>\n",
       "      <th>1</th>\n",
       "      <td>67451</td>\n",
       "      <td>218</td>\n",
       "    </tr>\n",
       "    <tr>\n",
       "      <th>2</th>\n",
       "      <td>67585</td>\n",
       "      <td>149</td>\n",
       "    </tr>\n",
       "    <tr>\n",
       "      <th>3</th>\n",
       "      <td>67659</td>\n",
       "      <td>86</td>\n",
       "    </tr>\n",
       "    <tr>\n",
       "      <th>4</th>\n",
       "      <td>67631</td>\n",
       "      <td>85</td>\n",
       "    </tr>\n",
       "    <tr>\n",
       "      <th>5</th>\n",
       "      <td>67639</td>\n",
       "      <td>77</td>\n",
       "    </tr>\n",
       "    <tr>\n",
       "      <th>6</th>\n",
       "      <td>67664</td>\n",
       "      <td>52</td>\n",
       "    </tr>\n",
       "    <tr>\n",
       "      <th>7</th>\n",
       "      <td>67674</td>\n",
       "      <td>42</td>\n",
       "    </tr>\n",
       "    <tr>\n",
       "      <th>8</th>\n",
       "      <td>67699</td>\n",
       "      <td>17</td>\n",
       "    </tr>\n",
       "    <tr>\n",
       "      <th>9</th>\n",
       "      <td>67702</td>\n",
       "      <td>14</td>\n",
       "    </tr>\n",
       "    <tr>\n",
       "      <th>10</th>\n",
       "      <td>67714</td>\n",
       "      <td>2</td>\n",
       "    </tr>\n",
       "  </tbody>\n",
       "</table>\n",
       "</div>"
      ],
      "text/plain": [
       "TARGET     0.0  1.0\n",
       "deciles            \n",
       "1        67451  218\n",
       "2        67585  149\n",
       "3        67659   86\n",
       "4        67631   85\n",
       "5        67639   77\n",
       "6        67664   52\n",
       "7        67674   42\n",
       "8        67699   17\n",
       "9        67702   14\n",
       "10       67714    2"
      ]
     },
     "execution_count": 32,
     "metadata": {},
     "output_type": "execute_result"
    }
   ],
   "source": [
    "pd.crosstab(Aux['deciles'],Aux['TARGET'])"
   ]
  },
  {
   "cell_type": "code",
   "execution_count": 38,
   "id": "3a6ce39d-10f5-410c-b059-84c6080296ec",
   "metadata": {
    "tags": []
   },
   "outputs": [],
   "source": [
    "# obtener los valores de proba para cada decil\n",
    "min_proba_per_decile = X_test.groupby('deciles')['proba'].min()"
   ]
  },
  {
   "cell_type": "code",
   "execution_count": 39,
   "id": "92bc7438-4f6b-4576-919e-b1094dce7b3c",
   "metadata": {
    "tags": []
   },
   "outputs": [
    {
     "data": {
      "text/plain": [
       "deciles\n",
       "1     1.461610e-03\n",
       "2     1.405204e-03\n",
       "3     1.340201e-03\n",
       "4     1.224094e-03\n",
       "5     1.081664e-03\n",
       "6     8.916501e-04\n",
       "7     6.881414e-04\n",
       "8     4.501019e-04\n",
       "9     1.718539e-04\n",
       "10    2.175496e-16\n",
       "Name: proba, dtype: float64"
      ]
     },
     "execution_count": 39,
     "metadata": {},
     "output_type": "execute_result"
    }
   ],
   "source": [
    "min_proba_per_decile"
   ]
  },
  {
   "cell_type": "code",
   "execution_count": 33,
   "id": "0e2bde22-fe76-4350-b1f9-c3de9d9a857a",
   "metadata": {
    "tags": []
   },
   "outputs": [
    {
     "ename": "NameError",
     "evalue": "name 'accuracy' is not defined",
     "output_type": "error",
     "traceback": [
      "\u001b[0;31m---------------------------------------------------------------------------\u001b[0m",
      "\u001b[0;31mNameError\u001b[0m                                 Traceback (most recent call last)",
      "Cell \u001b[0;32mIn[33], line 12\u001b[0m\n\u001b[1;32m      9\u001b[0m plt\u001b[38;5;241m.\u001b[39mxlabel(\u001b[38;5;124m'\u001b[39m\u001b[38;5;124mFalse Positive Rate\u001b[39m\u001b[38;5;124m'\u001b[39m)\n\u001b[1;32m     10\u001b[0m plt\u001b[38;5;241m.\u001b[39mylabel(\u001b[38;5;124m'\u001b[39m\u001b[38;5;124mTrue Positive Rate\u001b[39m\u001b[38;5;124m'\u001b[39m)\n\u001b[1;32m     11\u001b[0m plt\u001b[38;5;241m.\u001b[39mtitle(\u001b[38;5;124m'\u001b[39m\u001b[38;5;124mReceiver Operating Characteristic (ROC) Curve\u001b[39m\u001b[38;5;130;01m\\n\u001b[39;00m\u001b[38;5;124mAccuracy: \u001b[39m\u001b[38;5;132;01m{:.2f}\u001b[39;00m\u001b[38;5;124m%\u001b[39m\u001b[38;5;124m'\u001b[39m\u001b[38;5;241m.\u001b[39mformat(\n\u001b[0;32m---> 12\u001b[0m     \u001b[43maccuracy\u001b[49m \u001b[38;5;241m*\u001b[39m \u001b[38;5;241m100\u001b[39m))\n\u001b[1;32m     13\u001b[0m plt\u001b[38;5;241m.\u001b[39mlegend(loc\u001b[38;5;241m=\u001b[39m\u001b[38;5;124m\"\u001b[39m\u001b[38;5;124mlower right\u001b[39m\u001b[38;5;124m\"\u001b[39m)\n\u001b[1;32m     14\u001b[0m plt\u001b[38;5;241m.\u001b[39mshow()\n",
      "\u001b[0;31mNameError\u001b[0m: name 'accuracy' is not defined"
     ]
    },
    {
     "data": {
      "image/png": "[encoded data removed]",
      "text/plain": [
       "<Figure size 800x600 with 1 Axes>"
      ]
     },
     "metadata": {},
     "output_type": "display_data"
    }
   ],
   "source": [
    "# Plot ROC Curve\n",
    "from sklearn.metrics import accuracy_score, classification_report, confusion_matrix, roc_curve, auc\n",
    "fpr, tpr, thresholds = roc_curve(y_test, X_test.proba)\n",
    "roc_auc = auc(fpr, tpr)\n",
    "plt.figure(figsize=(8, 6))\n",
    "plt.plot(fpr, tpr, color='darkorange', lw=2,\n",
    "         label=f'ROC Curve (AUC = {roc_auc:.2f})')\n",
    "plt.plot([0, 1], [0, 1], color='navy', lw=2, linestyle='--', label='Random')\n",
    "plt.xlabel('False Positive Rate')\n",
    "plt.ylabel('True Positive Rate')\n",
    "plt.title('Receiver Operating Characteristic (ROC) Curve\\nAccuracy: {:.2f}%'.format(\n",
    "    accuracy * 100))\n",
    "plt.legend(loc=\"lower right\")\n",
    "plt.show()"
   ]
  },
  {
   "cell_type": "code",
   "execution_count": null,
   "id": "3336991c-6b0c-4267-a30d-a126f17be970",
   "metadata": {
    "tags": []
   },
   "outputs": [],
   "source": [
    "aux1 = Aux.groupby('deciles')['TARGET'].sum()"
   ]
  },
  {
   "cell_type": "code",
   "execution_count": null,
   "id": "36d42b71-3d3f-4057-bc0f-c4bd74c94a4a",
   "metadata": {
    "tags": []
   },
   "outputs": [],
   "source": [
    "aux1"
   ]
  },
  {
   "cell_type": "markdown",
   "id": "763e69a5-5931-413e-a653-8fd374d11720",
   "metadata": {},
   "source": [
    "# XGBOOST"
   ]
  },
  {
   "cell_type": "code",
   "execution_count": 16,
   "id": "4d68a196-70e7-4ba2-ad8d-e6eb3dbd19e9",
   "metadata": {},
   "outputs": [],
   "source": [
    "from sklearn.ensemble import GradientBoostingClassifier"
   ]
  },
  {
   "cell_type": "raw",
   "id": "0e3c6ba6-ad2d-4dd7-b039-e253f5c4f82a",
   "metadata": {},
   "source": [
    "clf = GradientBoostingClassifier(n_estimators=100, learning_rate=1.0,\n",
    "    max_depth=1, random_state=0).fit(X_train, y_train)\n",
    "clf.score(X_test, y_test)"
   ]
  },
  {
   "cell_type": "code",
   "execution_count": null,
   "id": "c7d004bd-7ed5-4b33-b358-7ea8b6de0c7e",
   "metadata": {},
   "outputs": [],
   "source": [
    "from pickle import load\n",
    "with open(\"XGBOOST_defaul.pkl\", \"rb\") as f:\n",
    "    clf = load(f)"
   ]
  },
  {
   "cell_type": "code",
   "execution_count": 45,
   "id": "07874b0d-a8d0-4f4a-9059-dbc633667685",
   "metadata": {
    "tags": []
   },
   "outputs": [
    {
     "data": {
      "text/plain": [
       "0.9989042471498611"
      ]
     },
     "execution_count": 45,
     "metadata": {},
     "output_type": "execute_result"
    }
   ],
   "source": [
    "clf.score(X_test, y_test)"
   ]
  },
  {
   "cell_type": "code",
   "execution_count": 33,
   "id": "eb3f3f9a-389d-4580-b672-506652f5faed",
   "metadata": {
    "tags": []
   },
   "outputs": [
    {
     "data": {
      "text/plain": [
       "0.9989958064767713"
      ]
     },
     "execution_count": 33,
     "metadata": {},
     "output_type": "execute_result"
    }
   ],
   "source": [
    "clf.score(X_train, y_train)"
   ]
  },
  {
   "cell_type": "code",
   "execution_count": 34,
   "id": "59f67d11-4b27-4a1c-906d-acf4ddabda21",
   "metadata": {
    "tags": []
   },
   "outputs": [],
   "source": [
    "from sklearn.metrics import classification_report"
   ]
  },
  {
   "cell_type": "code",
   "execution_count": 46,
   "id": "68f5f0d8-4010-45d9-99f1-f61f62472e4a",
   "metadata": {
    "tags": []
   },
   "outputs": [
    {
     "name": "stderr",
     "output_type": "stream",
     "text": [
      "/opt/conda/lib/python3.10/site-packages/sklearn/metrics/_classification.py:1509: UndefinedMetricWarning: Precision is ill-defined and being set to 0.0 in labels with no predicted samples. Use `zero_division` parameter to control this behavior.\n",
      "  _warn_prf(average, modifier, f\"{metric.capitalize()} is\", len(result))\n",
      "/opt/conda/lib/python3.10/site-packages/sklearn/metrics/_classification.py:1509: UndefinedMetricWarning: Precision is ill-defined and being set to 0.0 in labels with no predicted samples. Use `zero_division` parameter to control this behavior.\n",
      "  _warn_prf(average, modifier, f\"{metric.capitalize()} is\", len(result))\n"
     ]
    },
    {
     "name": "stdout",
     "output_type": "stream",
     "text": [
      "              precision    recall  f1-score   support\n",
      "\n",
      "         0.0       1.00      1.00      1.00    676418\n",
      "         1.0       0.00      0.00      0.00       742\n",
      "\n",
      "    accuracy                           1.00    677160\n",
      "   macro avg       0.50      0.50      0.50    677160\n",
      "weighted avg       1.00      1.00      1.00    677160\n",
      "\n"
     ]
    },
    {
     "name": "stderr",
     "output_type": "stream",
     "text": [
      "/opt/conda/lib/python3.10/site-packages/sklearn/metrics/_classification.py:1509: UndefinedMetricWarning: Precision is ill-defined and being set to 0.0 in labels with no predicted samples. Use `zero_division` parameter to control this behavior.\n",
      "  _warn_prf(average, modifier, f\"{metric.capitalize()} is\", len(result))\n"
     ]
    }
   ],
   "source": [
    "print(classification_report(y_test,clf.predict(X_test)))"
   ]
  },
  {
   "cell_type": "code",
   "execution_count": 47,
   "id": "0619b539-b4da-428c-bc08-f4a72d3e4379",
   "metadata": {
    "tags": []
   },
   "outputs": [
    {
     "name": "stdout",
     "output_type": "stream",
     "text": [
      "                           feature  importance\n",
      "89                    ANTIGUEDAD_d    0.999420\n",
      "72                   roll_sum_7_TX    0.000169\n",
      "29            roll_max_7D_TX_check    0.000098\n",
      "9             roll_mean_30D_AMOUNT    0.000071\n",
      "45                    lag_2_AMOUNT    0.000064\n",
      "..                             ...         ...\n",
      "31            roll_max_30D_BALANCE    0.000000\n",
      "28               roll_max_7D_TX_MO    0.000000\n",
      "27                  roll_max_7D_TX    0.000000\n",
      "26  roll_max_7D_TOTAL_AMOUNT_check    0.000000\n",
      "38                   lag_1_BALANCE    0.000000\n",
      "\n",
      "[90 rows x 2 columns]\n"
     ]
    }
   ],
   "source": [
    "# Get feature importances\n",
    "importances = clf.feature_importances_\n",
    "\n",
    "# Get the feature names (assuming you have them stored in a list called 'feature_names')\n",
    "feature_names = X_test.columns  # replace with your feature names\n",
    "\n",
    "# Create DataFrame\n",
    "fi = pd.DataFrame({'feature': feature_names, 'importance': importances})\n",
    "\n",
    "# Sort DataFrame by importance\n",
    "fi = fi.sort_values('importance', ascending=False)\n",
    "\n",
    "# Print DataFrame\n",
    "print(fi)\n"
   ]
  },
  {
   "cell_type": "code",
   "execution_count": null,
   "id": "eab9a7e7-5194-4ba8-81f5-eb1ccdf9c812",
   "metadata": {
    "tags": []
   },
   "outputs": [],
   "source": [
    "fi.head(13)"
   ]
  },
  {
   "cell_type": "code",
   "execution_count": 19,
   "id": "b3370ca9-4153-4f56-a1ba-d1aa655b2a8a",
   "metadata": {
    "tags": []
   },
   "outputs": [],
   "source": [
    "X_test['proba'] = clf.predict_proba(X_test)[:, 1]"
   ]
  },
  {
   "cell_type": "code",
   "execution_count": 20,
   "id": "f5bf79f3-d12b-4122-9a7e-5ad66455caaf",
   "metadata": {
    "tags": []
   },
   "outputs": [],
   "source": [
    "percentiles = pd.qcut(X_test['proba'], 10, labels=False, duplicates='drop')\n",
    "percentile_label = {p: l for l, p in enumerate(sorted(percentiles.unique(), reverse=True), start=1)}\n",
    "percentiles = percentiles.map(percentile_label)\n",
    "X_test['deciles'] = percentiles\n",
    "X_test['deciles'] = X_test['deciles'].astype('Int32')\n"
   ]
  },
  {
   "cell_type": "code",
   "execution_count": 21,
   "id": "4b45d57c-8bb2-4824-a6f7-50818dbf8bce",
   "metadata": {
    "tags": []
   },
   "outputs": [
    {
     "data": {
      "text/plain": [
       "(677160, 92)"
      ]
     },
     "execution_count": 21,
     "metadata": {},
     "output_type": "execute_result"
    }
   ],
   "source": [
    "X_test.shape"
   ]
  },
  {
   "cell_type": "code",
   "execution_count": 22,
   "id": "717b71bf-4114-4e06-a727-dea5514d7ec4",
   "metadata": {
    "tags": []
   },
   "outputs": [
    {
     "data": {
      "text/plain": [
       "(677160,)"
      ]
     },
     "execution_count": 22,
     "metadata": {},
     "output_type": "execute_result"
    }
   ],
   "source": [
    "y_test.shape"
   ]
  },
  {
   "cell_type": "code",
   "execution_count": 23,
   "id": "d6c50a62-8582-4e06-a4f0-11108df3b84e",
   "metadata": {
    "tags": []
   },
   "outputs": [
    {
     "data": {
      "text/plain": [
       "742.0"
      ]
     },
     "execution_count": 23,
     "metadata": {},
     "output_type": "execute_result"
    }
   ],
   "source": [
    "y_test.sum()"
   ]
  },
  {
   "cell_type": "code",
   "execution_count": 24,
   "id": "d9e36635-903b-4524-ab75-cee5e2bd7672",
   "metadata": {
    "tags": []
   },
   "outputs": [],
   "source": [
    "Aux = pd.merge(X_test, y_test, left_index=True,right_index=True, how='left')"
   ]
  },
  {
   "cell_type": "code",
   "execution_count": 25,
   "id": "76965315-111c-4d1d-beb2-8d9294cb7614",
   "metadata": {
    "tags": []
   },
   "outputs": [
    {
     "data": {
      "text/plain": [
       "(677160, 93)"
      ]
     },
     "execution_count": 25,
     "metadata": {},
     "output_type": "execute_result"
    }
   ],
   "source": [
    "Aux.shape"
   ]
  },
  {
   "cell_type": "code",
   "execution_count": 26,
   "id": "560dbbf2-99ac-447b-840c-f1f8ad9acd91",
   "metadata": {
    "tags": []
   },
   "outputs": [
    {
     "data": {
      "text/plain": [
       "742.0"
      ]
     },
     "execution_count": 26,
     "metadata": {},
     "output_type": "execute_result"
    }
   ],
   "source": [
    "Aux['TARGET'].sum()"
   ]
  },
  {
   "cell_type": "code",
   "execution_count": 27,
   "id": "dc8b4da1-2e9c-4215-b9b2-1cafb2491b31",
   "metadata": {
    "tags": []
   },
   "outputs": [
    {
     "data": {
      "text/html": [
       "<div>\n",
       "<style scoped>\n",
       "    .dataframe tbody tr th:only-of-type {\n",
       "        vertical-align: middle;\n",
       "    }\n",
       "\n",
       "    .dataframe tbody tr th {\n",
       "        vertical-align: top;\n",
       "    }\n",
       "\n",
       "    .dataframe thead th {\n",
       "        text-align: right;\n",
       "    }\n",
       "</style>\n",
       "<table border=\"1\" class=\"dataframe\">\n",
       "  <thead>\n",
       "    <tr style=\"text-align: right;\">\n",
       "      <th>TARGET</th>\n",
       "      <th>0.0</th>\n",
       "      <th>1.0</th>\n",
       "    </tr>\n",
       "    <tr>\n",
       "      <th>deciles</th>\n",
       "      <th></th>\n",
       "      <th></th>\n",
       "    </tr>\n",
       "  </thead>\n",
       "  <tbody>\n",
       "    <tr>\n",
       "      <th>1</th>\n",
       "      <td>67472</td>\n",
       "      <td>228</td>\n",
       "    </tr>\n",
       "    <tr>\n",
       "      <th>2</th>\n",
       "      <td>63347</td>\n",
       "      <td>81</td>\n",
       "    </tr>\n",
       "    <tr>\n",
       "      <th>3</th>\n",
       "      <td>36700</td>\n",
       "      <td>61</td>\n",
       "    </tr>\n",
       "    <tr>\n",
       "      <th>4</th>\n",
       "      <td>102866</td>\n",
       "      <td>100</td>\n",
       "    </tr>\n",
       "    <tr>\n",
       "      <th>5</th>\n",
       "      <td>67602</td>\n",
       "      <td>40</td>\n",
       "    </tr>\n",
       "    <tr>\n",
       "      <th>6</th>\n",
       "      <td>65981</td>\n",
       "      <td>80</td>\n",
       "    </tr>\n",
       "    <tr>\n",
       "      <th>7</th>\n",
       "      <td>66548</td>\n",
       "      <td>41</td>\n",
       "    </tr>\n",
       "    <tr>\n",
       "      <th>8</th>\n",
       "      <td>70317</td>\n",
       "      <td>86</td>\n",
       "    </tr>\n",
       "    <tr>\n",
       "      <th>9</th>\n",
       "      <td>67829</td>\n",
       "      <td>19</td>\n",
       "    </tr>\n",
       "    <tr>\n",
       "      <th>10</th>\n",
       "      <td>67756</td>\n",
       "      <td>6</td>\n",
       "    </tr>\n",
       "  </tbody>\n",
       "</table>\n",
       "</div>"
      ],
      "text/plain": [
       "TARGET      0.0  1.0\n",
       "deciles             \n",
       "1         67472  228\n",
       "2         63347   81\n",
       "3         36700   61\n",
       "4        102866  100\n",
       "5         67602   40\n",
       "6         65981   80\n",
       "7         66548   41\n",
       "8         70317   86\n",
       "9         67829   19\n",
       "10        67756    6"
      ]
     },
     "execution_count": 27,
     "metadata": {},
     "output_type": "execute_result"
    }
   ],
   "source": [
    "pd.crosstab(Aux['deciles'],Aux['TARGET'])"
   ]
  },
  {
   "cell_type": "code",
   "execution_count": 28,
   "id": "9f944ebd-fa34-4bea-8360-2059cf1e1f15",
   "metadata": {
    "tags": []
   },
   "outputs": [],
   "source": [
    "# obtener los valores de proba para cada decil\n",
    "min_proba_per_decile = X_test.groupby('deciles')['proba'].min()"
   ]
  },
  {
   "cell_type": "code",
   "execution_count": 37,
   "id": "16d2d941-fd84-46b3-bccb-408f2618a8bc",
   "metadata": {
    "tags": []
   },
   "outputs": [
    {
     "data": {
      "text/plain": [
       "deciles\n",
       "1     0.002203\n",
       "2     0.001440\n",
       "3     0.000981\n",
       "4     0.000611\n",
       "5     0.000463\n",
       "6     0.000242\n",
       "7     0.000144\n",
       "8     0.000115\n",
       "9     0.000064\n",
       "10    0.000005\n",
       "Name: proba, dtype: float64"
      ]
     },
     "execution_count": 37,
     "metadata": {},
     "output_type": "execute_result"
    }
   ],
   "source": [
    "min_proba_per_decile"
   ]
  },
  {
   "cell_type": "code",
   "execution_count": 29,
   "id": "ded21028-3349-400b-a72e-46b2a63114f8",
   "metadata": {
    "tags": []
   },
   "outputs": [
    {
     "ename": "NameError",
     "evalue": "name 'accuracy' is not defined",
     "output_type": "error",
     "traceback": [
      "\u001b[0;31m---------------------------------------------------------------------------\u001b[0m",
      "\u001b[0;31mNameError\u001b[0m                                 Traceback (most recent call last)",
      "Cell \u001b[0;32mIn[29], line 12\u001b[0m\n\u001b[1;32m      9\u001b[0m plt\u001b[38;5;241m.\u001b[39mxlabel(\u001b[38;5;124m'\u001b[39m\u001b[38;5;124mFalse Positive Rate\u001b[39m\u001b[38;5;124m'\u001b[39m)\n\u001b[1;32m     10\u001b[0m plt\u001b[38;5;241m.\u001b[39mylabel(\u001b[38;5;124m'\u001b[39m\u001b[38;5;124mTrue Positive Rate\u001b[39m\u001b[38;5;124m'\u001b[39m)\n\u001b[1;32m     11\u001b[0m plt\u001b[38;5;241m.\u001b[39mtitle(\u001b[38;5;124m'\u001b[39m\u001b[38;5;124mReceiver Operating Characteristic (ROC) Curve\u001b[39m\u001b[38;5;130;01m\\n\u001b[39;00m\u001b[38;5;124mAccuracy: \u001b[39m\u001b[38;5;132;01m{:.2f}\u001b[39;00m\u001b[38;5;124m%\u001b[39m\u001b[38;5;124m'\u001b[39m\u001b[38;5;241m.\u001b[39mformat(\n\u001b[0;32m---> 12\u001b[0m     \u001b[43maccuracy\u001b[49m \u001b[38;5;241m*\u001b[39m \u001b[38;5;241m100\u001b[39m))\n\u001b[1;32m     13\u001b[0m plt\u001b[38;5;241m.\u001b[39mlegend(loc\u001b[38;5;241m=\u001b[39m\u001b[38;5;124m\"\u001b[39m\u001b[38;5;124mlower right\u001b[39m\u001b[38;5;124m\"\u001b[39m)\n\u001b[1;32m     14\u001b[0m plt\u001b[38;5;241m.\u001b[39mshow()\n",
      "\u001b[0;31mNameError\u001b[0m: name 'accuracy' is not defined"
     ]
    },
    {
     "data": {
      "image/png": "[encoded data removed]",
      "text/plain": [
       "<Figure size 800x600 with 1 Axes>"
      ]
     },
     "metadata": {},
     "output_type": "display_data"
    }
   ],
   "source": [
    "# Plot ROC Curve\n",
    "from sklearn.metrics import accuracy_score, classification_report, confusion_matrix, roc_curve, auc\n",
    "fpr, tpr, thresholds = roc_curve(y_test, X_test.proba)\n",
    "roc_auc = auc(fpr, tpr)\n",
    "plt.figure(figsize=(8, 6))\n",
    "plt.plot(fpr, tpr, color='darkorange', lw=2,\n",
    "         label=f'ROC Curve (AUC = {roc_auc:.2f})')\n",
    "plt.plot([0, 1], [0, 1], color='navy', lw=2, linestyle='--', label='Random')\n",
    "plt.xlabel('False Positive Rate')\n",
    "plt.ylabel('True Positive Rate')\n",
    "plt.title('Receiver Operating Characteristic (ROC) Curve\\nAccuracy: {:.2f}%'.format(\n",
    "    accuracy * 100))\n",
    "plt.legend(loc=\"lower right\")\n",
    "plt.show()"
   ]
  },
  {
   "cell_type": "code",
   "execution_count": 18,
   "id": "98429ccb-52fe-49fe-a47f-baa3af639ccd",
   "metadata": {
    "tags": []
   },
   "outputs": [],
   "source": [
    "# guardar el modelo\n",
    "from pickle import dump\n",
    "with open(\"XGBOOST_defaul.pkl\", \"wb\") as f:\n",
    "    dump(clf, f, protocol=5)"
   ]
  },
  {
   "cell_type": "code",
   "execution_count": null,
   "id": "09364cfa-d0e3-4837-85f2-f082199f7ad4",
   "metadata": {
    "tags": []
   },
   "outputs": [],
   "source": []
  },
  {
   "cell_type": "code",
   "execution_count": null,
   "id": "748b7292-de78-4454-819a-d0946ba1e166",
   "metadata": {},
   "outputs": [],
   "source": []
  },
  {
   "cell_type": "code",
   "execution_count": 26,
   "id": "48d6991f-5a4a-4e91-9b61-af42dcfc6252",
   "metadata": {
    "tags": []
   },
   "outputs": [
    {
     "data": {
      "image/png": "[encoded data removed]",
      "text/plain": [
       "<Figure size 640x480 with 1 Axes>"
      ]
     },
     "metadata": {},
     "output_type": "display_data"
    }
   ],
   "source": [
    "import matplotlib.pyplot as plt\n",
    "import numpy as np\n",
    "\n",
    "# Get feature importances\n",
    "importances = clf.feature_importances_\n",
    "\n",
    "# Get the feature names (assuming you have them stored in a list called 'feature_names')\n",
    "feature_names = X_test.columns  # replace with your feature names\n",
    "\n",
    "# Sort feature importances in descending order\n",
    "indices = np.argsort(importances)[::-1]\n",
    "\n",
    "# Rearrange feature names so they match the sorted feature importances\n",
    "names = [feature_names[i] for i in indices]\n",
    "\n",
    "# Create plot\n",
    "plt.figure()\n",
    "\n",
    "# Create plot title\n",
    "plt.title(\"Feature Importance\")\n",
    "\n",
    "# Add bars\n",
    "plt.bar(range(len(importances)), importances[indices])\n",
    "\n",
    "# Add feature names as x-axis labels\n",
    "plt.xticks(range(len(importances)), names, rotation=90)\n",
    "\n",
    "# Show plot\n",
    "plt.show()\n"
   ]
  },
  {
   "cell_type": "code",
   "execution_count": 27,
   "id": "fe5cf9e1-3e1e-43b9-90f2-e44f53a6c98f",
   "metadata": {},
   "outputs": [
    {
     "data": {
      "text/plain": [
       "(2166913, 98)"
      ]
     },
     "execution_count": 27,
     "metadata": {},
     "output_type": "execute_result"
    }
   ],
   "source": [
    "X_train.shape"
   ]
  },
  {
   "cell_type": "code",
   "execution_count": 28,
   "id": "c04f3458-30ae-48d7-9ec6-9dde764ca3ff",
   "metadata": {},
   "outputs": [
    {
     "data": {
      "text/plain": [
       "(677160, 98)"
      ]
     },
     "execution_count": 28,
     "metadata": {},
     "output_type": "execute_result"
    }
   ],
   "source": [
    "X_test.shape"
   ]
  },
  {
   "cell_type": "code",
   "execution_count": 16,
   "id": "06588ea6-e490-4017-a896-2c661ad037ae",
   "metadata": {},
   "outputs": [
    {
     "data": {
      "text/html": [
       "<div>\n",
       "<style scoped>\n",
       "    .dataframe tbody tr th:only-of-type {\n",
       "        vertical-align: middle;\n",
       "    }\n",
       "\n",
       "    .dataframe tbody tr th {\n",
       "        vertical-align: top;\n",
       "    }\n",
       "\n",
       "    .dataframe thead th {\n",
       "        text-align: right;\n",
       "    }\n",
       "</style>\n",
       "<table border=\"1\" class=\"dataframe\">\n",
       "  <thead>\n",
       "    <tr style=\"text-align: right;\">\n",
       "      <th></th>\n",
       "      <th>TX</th>\n",
       "      <th>AMOUNT</th>\n",
       "      <th>BALANCE</th>\n",
       "      <th>TX_check</th>\n",
       "      <th>TOTAL_AMOUNT_check</th>\n",
       "      <th>TX_MO</th>\n",
       "      <th>TOTAL_AMOUNT_MO</th>\n",
       "      <th>DSO_DEPO_DAY</th>\n",
       "      <th>INACTIVE_DAYS</th>\n",
       "      <th>DEFAULT</th>\n",
       "      <th>...</th>\n",
       "      <th>roll_sum_30_DEFAULT</th>\n",
       "      <th>roll_sum_60_AMOUNT</th>\n",
       "      <th>roll_sum_60_BALANCE</th>\n",
       "      <th>roll_sum_60_TOTAL_AMOUNT_MO</th>\n",
       "      <th>roll_sum_60_TOTAL_AMOUNT_check</th>\n",
       "      <th>roll_sum_60_TX</th>\n",
       "      <th>roll_sum_60_TX_MO</th>\n",
       "      <th>roll_sum_60_TX_check</th>\n",
       "      <th>roll_sum_60_DEFAULT</th>\n",
       "      <th>ANTIGUEDAD_d</th>\n",
       "    </tr>\n",
       "  </thead>\n",
       "  <tbody>\n",
       "    <tr>\n",
       "      <th>0</th>\n",
       "      <td>0.0</td>\n",
       "      <td>0.0</td>\n",
       "      <td>0.0000</td>\n",
       "      <td>0.0</td>\n",
       "      <td>0.0</td>\n",
       "      <td>0.0</td>\n",
       "      <td>0.0</td>\n",
       "      <td>0.0</td>\n",
       "      <td>0.0</td>\n",
       "      <td>0.0</td>\n",
       "      <td>...</td>\n",
       "      <td>0.0</td>\n",
       "      <td>0.0</td>\n",
       "      <td>0.0</td>\n",
       "      <td>0.0</td>\n",
       "      <td>0.0</td>\n",
       "      <td>0.0</td>\n",
       "      <td>0.0</td>\n",
       "      <td>0.0</td>\n",
       "      <td>0.0</td>\n",
       "      <td>1552.0</td>\n",
       "    </tr>\n",
       "    <tr>\n",
       "      <th>1</th>\n",
       "      <td>0.0</td>\n",
       "      <td>0.0</td>\n",
       "      <td>13853.8257</td>\n",
       "      <td>0.0</td>\n",
       "      <td>0.0</td>\n",
       "      <td>0.0</td>\n",
       "      <td>0.0</td>\n",
       "      <td>0.0</td>\n",
       "      <td>0.0</td>\n",
       "      <td>0.0</td>\n",
       "      <td>...</td>\n",
       "      <td>0.0</td>\n",
       "      <td>0.0</td>\n",
       "      <td>0.0</td>\n",
       "      <td>0.0</td>\n",
       "      <td>0.0</td>\n",
       "      <td>0.0</td>\n",
       "      <td>0.0</td>\n",
       "      <td>0.0</td>\n",
       "      <td>0.0</td>\n",
       "      <td>1553.0</td>\n",
       "    </tr>\n",
       "    <tr>\n",
       "      <th>2</th>\n",
       "      <td>0.0</td>\n",
       "      <td>0.0</td>\n",
       "      <td>0.0000</td>\n",
       "      <td>0.0</td>\n",
       "      <td>0.0</td>\n",
       "      <td>0.0</td>\n",
       "      <td>0.0</td>\n",
       "      <td>0.0</td>\n",
       "      <td>0.0</td>\n",
       "      <td>0.0</td>\n",
       "      <td>...</td>\n",
       "      <td>0.0</td>\n",
       "      <td>0.0</td>\n",
       "      <td>0.0</td>\n",
       "      <td>0.0</td>\n",
       "      <td>0.0</td>\n",
       "      <td>0.0</td>\n",
       "      <td>0.0</td>\n",
       "      <td>0.0</td>\n",
       "      <td>0.0</td>\n",
       "      <td>1554.0</td>\n",
       "    </tr>\n",
       "    <tr>\n",
       "      <th>3</th>\n",
       "      <td>1.0</td>\n",
       "      <td>340.0</td>\n",
       "      <td>13853.8257</td>\n",
       "      <td>0.0</td>\n",
       "      <td>0.0</td>\n",
       "      <td>0.0</td>\n",
       "      <td>0.0</td>\n",
       "      <td>0.0</td>\n",
       "      <td>0.0</td>\n",
       "      <td>0.0</td>\n",
       "      <td>...</td>\n",
       "      <td>0.0</td>\n",
       "      <td>0.0</td>\n",
       "      <td>0.0</td>\n",
       "      <td>0.0</td>\n",
       "      <td>0.0</td>\n",
       "      <td>0.0</td>\n",
       "      <td>0.0</td>\n",
       "      <td>0.0</td>\n",
       "      <td>0.0</td>\n",
       "      <td>1555.0</td>\n",
       "    </tr>\n",
       "    <tr>\n",
       "      <th>4</th>\n",
       "      <td>1.0</td>\n",
       "      <td>25.0</td>\n",
       "      <td>14202.1057</td>\n",
       "      <td>0.0</td>\n",
       "      <td>0.0</td>\n",
       "      <td>0.0</td>\n",
       "      <td>0.0</td>\n",
       "      <td>0.0</td>\n",
       "      <td>0.0</td>\n",
       "      <td>0.0</td>\n",
       "      <td>...</td>\n",
       "      <td>0.0</td>\n",
       "      <td>0.0</td>\n",
       "      <td>0.0</td>\n",
       "      <td>0.0</td>\n",
       "      <td>0.0</td>\n",
       "      <td>0.0</td>\n",
       "      <td>0.0</td>\n",
       "      <td>0.0</td>\n",
       "      <td>0.0</td>\n",
       "      <td>1556.0</td>\n",
       "    </tr>\n",
       "    <tr>\n",
       "      <th>5</th>\n",
       "      <td>0.0</td>\n",
       "      <td>0.0</td>\n",
       "      <td>0.0000</td>\n",
       "      <td>0.0</td>\n",
       "      <td>0.0</td>\n",
       "      <td>0.0</td>\n",
       "      <td>0.0</td>\n",
       "      <td>0.0</td>\n",
       "      <td>0.0</td>\n",
       "      <td>0.0</td>\n",
       "      <td>...</td>\n",
       "      <td>0.0</td>\n",
       "      <td>0.0</td>\n",
       "      <td>0.0</td>\n",
       "      <td>0.0</td>\n",
       "      <td>0.0</td>\n",
       "      <td>0.0</td>\n",
       "      <td>0.0</td>\n",
       "      <td>0.0</td>\n",
       "      <td>0.0</td>\n",
       "      <td>1557.0</td>\n",
       "    </tr>\n",
       "    <tr>\n",
       "      <th>6</th>\n",
       "      <td>0.0</td>\n",
       "      <td>0.0</td>\n",
       "      <td>0.0000</td>\n",
       "      <td>0.0</td>\n",
       "      <td>0.0</td>\n",
       "      <td>0.0</td>\n",
       "      <td>0.0</td>\n",
       "      <td>0.0</td>\n",
       "      <td>0.0</td>\n",
       "      <td>0.0</td>\n",
       "      <td>...</td>\n",
       "      <td>0.0</td>\n",
       "      <td>0.0</td>\n",
       "      <td>0.0</td>\n",
       "      <td>0.0</td>\n",
       "      <td>0.0</td>\n",
       "      <td>0.0</td>\n",
       "      <td>0.0</td>\n",
       "      <td>0.0</td>\n",
       "      <td>0.0</td>\n",
       "      <td>1558.0</td>\n",
       "    </tr>\n",
       "    <tr>\n",
       "      <th>7</th>\n",
       "      <td>0.0</td>\n",
       "      <td>0.0</td>\n",
       "      <td>0.0000</td>\n",
       "      <td>0.0</td>\n",
       "      <td>0.0</td>\n",
       "      <td>0.0</td>\n",
       "      <td>0.0</td>\n",
       "      <td>0.0</td>\n",
       "      <td>0.0</td>\n",
       "      <td>0.0</td>\n",
       "      <td>...</td>\n",
       "      <td>0.0</td>\n",
       "      <td>0.0</td>\n",
       "      <td>0.0</td>\n",
       "      <td>0.0</td>\n",
       "      <td>0.0</td>\n",
       "      <td>0.0</td>\n",
       "      <td>0.0</td>\n",
       "      <td>0.0</td>\n",
       "      <td>0.0</td>\n",
       "      <td>1559.0</td>\n",
       "    </tr>\n",
       "    <tr>\n",
       "      <th>8</th>\n",
       "      <td>6.0</td>\n",
       "      <td>6.0</td>\n",
       "      <td>14232.1057</td>\n",
       "      <td>0.0</td>\n",
       "      <td>0.0</td>\n",
       "      <td>0.0</td>\n",
       "      <td>0.0</td>\n",
       "      <td>0.0</td>\n",
       "      <td>0.0</td>\n",
       "      <td>0.0</td>\n",
       "      <td>...</td>\n",
       "      <td>0.0</td>\n",
       "      <td>0.0</td>\n",
       "      <td>0.0</td>\n",
       "      <td>0.0</td>\n",
       "      <td>0.0</td>\n",
       "      <td>0.0</td>\n",
       "      <td>0.0</td>\n",
       "      <td>0.0</td>\n",
       "      <td>0.0</td>\n",
       "      <td>1560.0</td>\n",
       "    </tr>\n",
       "    <tr>\n",
       "      <th>9</th>\n",
       "      <td>1.0</td>\n",
       "      <td>1.0</td>\n",
       "      <td>14268.1057</td>\n",
       "      <td>0.0</td>\n",
       "      <td>0.0</td>\n",
       "      <td>0.0</td>\n",
       "      <td>0.0</td>\n",
       "      <td>0.0</td>\n",
       "      <td>0.0</td>\n",
       "      <td>0.0</td>\n",
       "      <td>...</td>\n",
       "      <td>0.0</td>\n",
       "      <td>0.0</td>\n",
       "      <td>0.0</td>\n",
       "      <td>0.0</td>\n",
       "      <td>0.0</td>\n",
       "      <td>0.0</td>\n",
       "      <td>0.0</td>\n",
       "      <td>0.0</td>\n",
       "      <td>0.0</td>\n",
       "      <td>1561.0</td>\n",
       "    </tr>\n",
       "  </tbody>\n",
       "</table>\n",
       "<p>10 rows × 99 columns</p>\n",
       "</div>"
      ],
      "text/plain": [
       "    TX  AMOUNT     BALANCE  TX_check  TOTAL_AMOUNT_check  TX_MO  \\\n",
       "0  0.0     0.0      0.0000       0.0                 0.0    0.0   \n",
       "1  0.0     0.0  13853.8257       0.0                 0.0    0.0   \n",
       "2  0.0     0.0      0.0000       0.0                 0.0    0.0   \n",
       "3  1.0   340.0  13853.8257       0.0                 0.0    0.0   \n",
       "4  1.0    25.0  14202.1057       0.0                 0.0    0.0   \n",
       "5  0.0     0.0      0.0000       0.0                 0.0    0.0   \n",
       "6  0.0     0.0      0.0000       0.0                 0.0    0.0   \n",
       "7  0.0     0.0      0.0000       0.0                 0.0    0.0   \n",
       "8  6.0     6.0  14232.1057       0.0                 0.0    0.0   \n",
       "9  1.0     1.0  14268.1057       0.0                 0.0    0.0   \n",
       "\n",
       "   TOTAL_AMOUNT_MO  DSO_DEPO_DAY  INACTIVE_DAYS  DEFAULT  ...  \\\n",
       "0              0.0           0.0            0.0      0.0  ...   \n",
       "1              0.0           0.0            0.0      0.0  ...   \n",
       "2              0.0           0.0            0.0      0.0  ...   \n",
       "3              0.0           0.0            0.0      0.0  ...   \n",
       "4              0.0           0.0            0.0      0.0  ...   \n",
       "5              0.0           0.0            0.0      0.0  ...   \n",
       "6              0.0           0.0            0.0      0.0  ...   \n",
       "7              0.0           0.0            0.0      0.0  ...   \n",
       "8              0.0           0.0            0.0      0.0  ...   \n",
       "9              0.0           0.0            0.0      0.0  ...   \n",
       "\n",
       "   roll_sum_30_DEFAULT  roll_sum_60_AMOUNT  roll_sum_60_BALANCE  \\\n",
       "0                  0.0                 0.0                  0.0   \n",
       "1                  0.0                 0.0                  0.0   \n",
       "2                  0.0                 0.0                  0.0   \n",
       "3                  0.0                 0.0                  0.0   \n",
       "4                  0.0                 0.0                  0.0   \n",
       "5                  0.0                 0.0                  0.0   \n",
       "6                  0.0                 0.0                  0.0   \n",
       "7                  0.0                 0.0                  0.0   \n",
       "8                  0.0                 0.0                  0.0   \n",
       "9                  0.0                 0.0                  0.0   \n",
       "\n",
       "   roll_sum_60_TOTAL_AMOUNT_MO  roll_sum_60_TOTAL_AMOUNT_check  \\\n",
       "0                          0.0                             0.0   \n",
       "1                          0.0                             0.0   \n",
       "2                          0.0                             0.0   \n",
       "3                          0.0                             0.0   \n",
       "4                          0.0                             0.0   \n",
       "5                          0.0                             0.0   \n",
       "6                          0.0                             0.0   \n",
       "7                          0.0                             0.0   \n",
       "8                          0.0                             0.0   \n",
       "9                          0.0                             0.0   \n",
       "\n",
       "   roll_sum_60_TX  roll_sum_60_TX_MO  roll_sum_60_TX_check  \\\n",
       "0             0.0                0.0                   0.0   \n",
       "1             0.0                0.0                   0.0   \n",
       "2             0.0                0.0                   0.0   \n",
       "3             0.0                0.0                   0.0   \n",
       "4             0.0                0.0                   0.0   \n",
       "5             0.0                0.0                   0.0   \n",
       "6             0.0                0.0                   0.0   \n",
       "7             0.0                0.0                   0.0   \n",
       "8             0.0                0.0                   0.0   \n",
       "9             0.0                0.0                   0.0   \n",
       "\n",
       "   roll_sum_60_DEFAULT  ANTIGUEDAD_d  \n",
       "0                  0.0        1552.0  \n",
       "1                  0.0        1553.0  \n",
       "2                  0.0        1554.0  \n",
       "3                  0.0        1555.0  \n",
       "4                  0.0        1556.0  \n",
       "5                  0.0        1557.0  \n",
       "6                  0.0        1558.0  \n",
       "7                  0.0        1559.0  \n",
       "8                  0.0        1560.0  \n",
       "9                  0.0        1561.0  \n",
       "\n",
       "[10 rows x 99 columns]"
      ]
     },
     "execution_count": 16,
     "metadata": {},
     "output_type": "execute_result"
    }
   ],
   "source": [
    "X_train.head(10)"
   ]
  },
  {
   "cell_type": "code",
   "execution_count": 17,
   "id": "e202eb65-5db0-45a6-9c5c-ec2c8d0c2cf4",
   "metadata": {},
   "outputs": [
    {
     "data": {
      "text/html": [
       "<div>\n",
       "<style scoped>\n",
       "    .dataframe tbody tr th:only-of-type {\n",
       "        vertical-align: middle;\n",
       "    }\n",
       "\n",
       "    .dataframe tbody tr th {\n",
       "        vertical-align: top;\n",
       "    }\n",
       "\n",
       "    .dataframe thead th {\n",
       "        text-align: right;\n",
       "    }\n",
       "</style>\n",
       "<table border=\"1\" class=\"dataframe\">\n",
       "  <thead>\n",
       "    <tr style=\"text-align: right;\">\n",
       "      <th></th>\n",
       "      <th>DATE</th>\n",
       "      <th>ID_BRANCH</th>\n",
       "      <th>TX</th>\n",
       "      <th>AMOUNT</th>\n",
       "      <th>BALANCE</th>\n",
       "      <th>TX_check</th>\n",
       "      <th>TOTAL_AMOUNT_check</th>\n",
       "      <th>TX_MO</th>\n",
       "      <th>TOTAL_AMOUNT_MO</th>\n",
       "      <th>DSO_DEPO_DAY</th>\n",
       "      <th>...</th>\n",
       "      <th>roll_sum_30_DEFAULT</th>\n",
       "      <th>roll_sum_60_AMOUNT</th>\n",
       "      <th>roll_sum_60_BALANCE</th>\n",
       "      <th>roll_sum_60_TOTAL_AMOUNT_MO</th>\n",
       "      <th>roll_sum_60_TOTAL_AMOUNT_check</th>\n",
       "      <th>roll_sum_60_TX</th>\n",
       "      <th>roll_sum_60_TX_MO</th>\n",
       "      <th>roll_sum_60_TX_check</th>\n",
       "      <th>roll_sum_60_DEFAULT</th>\n",
       "      <th>ANTIGUEDAD_d</th>\n",
       "    </tr>\n",
       "  </thead>\n",
       "  <tbody>\n",
       "    <tr>\n",
       "      <th>0</th>\n",
       "      <td>2023-01-01</td>\n",
       "      <td>A00002</td>\n",
       "      <td>0.0</td>\n",
       "      <td>0.0</td>\n",
       "      <td>0.0000</td>\n",
       "      <td>0.0</td>\n",
       "      <td>0.0</td>\n",
       "      <td>0.0</td>\n",
       "      <td>0.0</td>\n",
       "      <td>0.0</td>\n",
       "      <td>...</td>\n",
       "      <td>0.0</td>\n",
       "      <td>0.0</td>\n",
       "      <td>0.0</td>\n",
       "      <td>0.0</td>\n",
       "      <td>0.0</td>\n",
       "      <td>0.0</td>\n",
       "      <td>0.0</td>\n",
       "      <td>0.0</td>\n",
       "      <td>0.0</td>\n",
       "      <td>1552.0</td>\n",
       "    </tr>\n",
       "    <tr>\n",
       "      <th>1</th>\n",
       "      <td>2023-01-02</td>\n",
       "      <td>A00002</td>\n",
       "      <td>0.0</td>\n",
       "      <td>0.0</td>\n",
       "      <td>13853.8257</td>\n",
       "      <td>0.0</td>\n",
       "      <td>0.0</td>\n",
       "      <td>0.0</td>\n",
       "      <td>0.0</td>\n",
       "      <td>0.0</td>\n",
       "      <td>...</td>\n",
       "      <td>0.0</td>\n",
       "      <td>0.0</td>\n",
       "      <td>0.0</td>\n",
       "      <td>0.0</td>\n",
       "      <td>0.0</td>\n",
       "      <td>0.0</td>\n",
       "      <td>0.0</td>\n",
       "      <td>0.0</td>\n",
       "      <td>0.0</td>\n",
       "      <td>1553.0</td>\n",
       "    </tr>\n",
       "    <tr>\n",
       "      <th>2</th>\n",
       "      <td>2023-01-03</td>\n",
       "      <td>A00002</td>\n",
       "      <td>0.0</td>\n",
       "      <td>0.0</td>\n",
       "      <td>0.0000</td>\n",
       "      <td>0.0</td>\n",
       "      <td>0.0</td>\n",
       "      <td>0.0</td>\n",
       "      <td>0.0</td>\n",
       "      <td>0.0</td>\n",
       "      <td>...</td>\n",
       "      <td>0.0</td>\n",
       "      <td>0.0</td>\n",
       "      <td>0.0</td>\n",
       "      <td>0.0</td>\n",
       "      <td>0.0</td>\n",
       "      <td>0.0</td>\n",
       "      <td>0.0</td>\n",
       "      <td>0.0</td>\n",
       "      <td>0.0</td>\n",
       "      <td>1554.0</td>\n",
       "    </tr>\n",
       "    <tr>\n",
       "      <th>3</th>\n",
       "      <td>2023-01-04</td>\n",
       "      <td>A00002</td>\n",
       "      <td>1.0</td>\n",
       "      <td>340.0</td>\n",
       "      <td>13853.8257</td>\n",
       "      <td>0.0</td>\n",
       "      <td>0.0</td>\n",
       "      <td>0.0</td>\n",
       "      <td>0.0</td>\n",
       "      <td>0.0</td>\n",
       "      <td>...</td>\n",
       "      <td>0.0</td>\n",
       "      <td>0.0</td>\n",
       "      <td>0.0</td>\n",
       "      <td>0.0</td>\n",
       "      <td>0.0</td>\n",
       "      <td>0.0</td>\n",
       "      <td>0.0</td>\n",
       "      <td>0.0</td>\n",
       "      <td>0.0</td>\n",
       "      <td>1555.0</td>\n",
       "    </tr>\n",
       "    <tr>\n",
       "      <th>4</th>\n",
       "      <td>2023-01-05</td>\n",
       "      <td>A00002</td>\n",
       "      <td>1.0</td>\n",
       "      <td>25.0</td>\n",
       "      <td>14202.1057</td>\n",
       "      <td>0.0</td>\n",
       "      <td>0.0</td>\n",
       "      <td>0.0</td>\n",
       "      <td>0.0</td>\n",
       "      <td>0.0</td>\n",
       "      <td>...</td>\n",
       "      <td>0.0</td>\n",
       "      <td>0.0</td>\n",
       "      <td>0.0</td>\n",
       "      <td>0.0</td>\n",
       "      <td>0.0</td>\n",
       "      <td>0.0</td>\n",
       "      <td>0.0</td>\n",
       "      <td>0.0</td>\n",
       "      <td>0.0</td>\n",
       "      <td>1556.0</td>\n",
       "    </tr>\n",
       "    <tr>\n",
       "      <th>5</th>\n",
       "      <td>2023-01-06</td>\n",
       "      <td>A00002</td>\n",
       "      <td>0.0</td>\n",
       "      <td>0.0</td>\n",
       "      <td>0.0000</td>\n",
       "      <td>0.0</td>\n",
       "      <td>0.0</td>\n",
       "      <td>0.0</td>\n",
       "      <td>0.0</td>\n",
       "      <td>0.0</td>\n",
       "      <td>...</td>\n",
       "      <td>0.0</td>\n",
       "      <td>0.0</td>\n",
       "      <td>0.0</td>\n",
       "      <td>0.0</td>\n",
       "      <td>0.0</td>\n",
       "      <td>0.0</td>\n",
       "      <td>0.0</td>\n",
       "      <td>0.0</td>\n",
       "      <td>0.0</td>\n",
       "      <td>1557.0</td>\n",
       "    </tr>\n",
       "    <tr>\n",
       "      <th>6</th>\n",
       "      <td>2023-01-07</td>\n",
       "      <td>A00002</td>\n",
       "      <td>0.0</td>\n",
       "      <td>0.0</td>\n",
       "      <td>0.0000</td>\n",
       "      <td>0.0</td>\n",
       "      <td>0.0</td>\n",
       "      <td>0.0</td>\n",
       "      <td>0.0</td>\n",
       "      <td>0.0</td>\n",
       "      <td>...</td>\n",
       "      <td>0.0</td>\n",
       "      <td>0.0</td>\n",
       "      <td>0.0</td>\n",
       "      <td>0.0</td>\n",
       "      <td>0.0</td>\n",
       "      <td>0.0</td>\n",
       "      <td>0.0</td>\n",
       "      <td>0.0</td>\n",
       "      <td>0.0</td>\n",
       "      <td>1558.0</td>\n",
       "    </tr>\n",
       "    <tr>\n",
       "      <th>7</th>\n",
       "      <td>2023-01-08</td>\n",
       "      <td>A00002</td>\n",
       "      <td>0.0</td>\n",
       "      <td>0.0</td>\n",
       "      <td>0.0000</td>\n",
       "      <td>0.0</td>\n",
       "      <td>0.0</td>\n",
       "      <td>0.0</td>\n",
       "      <td>0.0</td>\n",
       "      <td>0.0</td>\n",
       "      <td>...</td>\n",
       "      <td>0.0</td>\n",
       "      <td>0.0</td>\n",
       "      <td>0.0</td>\n",
       "      <td>0.0</td>\n",
       "      <td>0.0</td>\n",
       "      <td>0.0</td>\n",
       "      <td>0.0</td>\n",
       "      <td>0.0</td>\n",
       "      <td>0.0</td>\n",
       "      <td>1559.0</td>\n",
       "    </tr>\n",
       "    <tr>\n",
       "      <th>8</th>\n",
       "      <td>2023-01-09</td>\n",
       "      <td>A00002</td>\n",
       "      <td>6.0</td>\n",
       "      <td>6.0</td>\n",
       "      <td>14232.1057</td>\n",
       "      <td>0.0</td>\n",
       "      <td>0.0</td>\n",
       "      <td>0.0</td>\n",
       "      <td>0.0</td>\n",
       "      <td>0.0</td>\n",
       "      <td>...</td>\n",
       "      <td>0.0</td>\n",
       "      <td>0.0</td>\n",
       "      <td>0.0</td>\n",
       "      <td>0.0</td>\n",
       "      <td>0.0</td>\n",
       "      <td>0.0</td>\n",
       "      <td>0.0</td>\n",
       "      <td>0.0</td>\n",
       "      <td>0.0</td>\n",
       "      <td>1560.0</td>\n",
       "    </tr>\n",
       "    <tr>\n",
       "      <th>9</th>\n",
       "      <td>2023-01-10</td>\n",
       "      <td>A00002</td>\n",
       "      <td>1.0</td>\n",
       "      <td>1.0</td>\n",
       "      <td>14268.1057</td>\n",
       "      <td>0.0</td>\n",
       "      <td>0.0</td>\n",
       "      <td>0.0</td>\n",
       "      <td>0.0</td>\n",
       "      <td>0.0</td>\n",
       "      <td>...</td>\n",
       "      <td>0.0</td>\n",
       "      <td>0.0</td>\n",
       "      <td>0.0</td>\n",
       "      <td>0.0</td>\n",
       "      <td>0.0</td>\n",
       "      <td>0.0</td>\n",
       "      <td>0.0</td>\n",
       "      <td>0.0</td>\n",
       "      <td>0.0</td>\n",
       "      <td>1561.0</td>\n",
       "    </tr>\n",
       "  </tbody>\n",
       "</table>\n",
       "<p>10 rows × 106 columns</p>\n",
       "</div>"
      ],
      "text/plain": [
       "         DATE ID_BRANCH   TX  AMOUNT     BALANCE  TX_check  \\\n",
       "0  2023-01-01    A00002  0.0     0.0      0.0000       0.0   \n",
       "1  2023-01-02    A00002  0.0     0.0  13853.8257       0.0   \n",
       "2  2023-01-03    A00002  0.0     0.0      0.0000       0.0   \n",
       "3  2023-01-04    A00002  1.0   340.0  13853.8257       0.0   \n",
       "4  2023-01-05    A00002  1.0    25.0  14202.1057       0.0   \n",
       "5  2023-01-06    A00002  0.0     0.0      0.0000       0.0   \n",
       "6  2023-01-07    A00002  0.0     0.0      0.0000       0.0   \n",
       "7  2023-01-08    A00002  0.0     0.0      0.0000       0.0   \n",
       "8  2023-01-09    A00002  6.0     6.0  14232.1057       0.0   \n",
       "9  2023-01-10    A00002  1.0     1.0  14268.1057       0.0   \n",
       "\n",
       "   TOTAL_AMOUNT_check  TX_MO  TOTAL_AMOUNT_MO  DSO_DEPO_DAY  ...  \\\n",
       "0                 0.0    0.0              0.0           0.0  ...   \n",
       "1                 0.0    0.0              0.0           0.0  ...   \n",
       "2                 0.0    0.0              0.0           0.0  ...   \n",
       "3                 0.0    0.0              0.0           0.0  ...   \n",
       "4                 0.0    0.0              0.0           0.0  ...   \n",
       "5                 0.0    0.0              0.0           0.0  ...   \n",
       "6                 0.0    0.0              0.0           0.0  ...   \n",
       "7                 0.0    0.0              0.0           0.0  ...   \n",
       "8                 0.0    0.0              0.0           0.0  ...   \n",
       "9                 0.0    0.0              0.0           0.0  ...   \n",
       "\n",
       "   roll_sum_30_DEFAULT  roll_sum_60_AMOUNT roll_sum_60_BALANCE  \\\n",
       "0                  0.0                 0.0                 0.0   \n",
       "1                  0.0                 0.0                 0.0   \n",
       "2                  0.0                 0.0                 0.0   \n",
       "3                  0.0                 0.0                 0.0   \n",
       "4                  0.0                 0.0                 0.0   \n",
       "5                  0.0                 0.0                 0.0   \n",
       "6                  0.0                 0.0                 0.0   \n",
       "7                  0.0                 0.0                 0.0   \n",
       "8                  0.0                 0.0                 0.0   \n",
       "9                  0.0                 0.0                 0.0   \n",
       "\n",
       "  roll_sum_60_TOTAL_AMOUNT_MO roll_sum_60_TOTAL_AMOUNT_check roll_sum_60_TX  \\\n",
       "0                         0.0                            0.0            0.0   \n",
       "1                         0.0                            0.0            0.0   \n",
       "2                         0.0                            0.0            0.0   \n",
       "3                         0.0                            0.0            0.0   \n",
       "4                         0.0                            0.0            0.0   \n",
       "5                         0.0                            0.0            0.0   \n",
       "6                         0.0                            0.0            0.0   \n",
       "7                         0.0                            0.0            0.0   \n",
       "8                         0.0                            0.0            0.0   \n",
       "9                         0.0                            0.0            0.0   \n",
       "\n",
       "   roll_sum_60_TX_MO  roll_sum_60_TX_check  roll_sum_60_DEFAULT  ANTIGUEDAD_d  \n",
       "0                0.0                   0.0                  0.0        1552.0  \n",
       "1                0.0                   0.0                  0.0        1553.0  \n",
       "2                0.0                   0.0                  0.0        1554.0  \n",
       "3                0.0                   0.0                  0.0        1555.0  \n",
       "4                0.0                   0.0                  0.0        1556.0  \n",
       "5                0.0                   0.0                  0.0        1557.0  \n",
       "6                0.0                   0.0                  0.0        1558.0  \n",
       "7                0.0                   0.0                  0.0        1559.0  \n",
       "8                0.0                   0.0                  0.0        1560.0  \n",
       "9                0.0                   0.0                  0.0        1561.0  \n",
       "\n",
       "[10 rows x 106 columns]"
      ]
     },
     "execution_count": 17,
     "metadata": {},
     "output_type": "execute_result"
    }
   ],
   "source": [
    "df.head(10)"
   ]
  },
  {
   "cell_type": "code",
   "execution_count": 29,
   "id": "62cba2d0-9c02-4bf3-8c07-66690bfe529c",
   "metadata": {},
   "outputs": [
    {
     "data": {
      "text/plain": [
       "array([0., 1.])"
      ]
     },
     "execution_count": 29,
     "metadata": {},
     "output_type": "execute_result"
    }
   ],
   "source": [
    "X_train['roll_max_30D_DEFAULT'].unique()"
   ]
  },
  {
   "cell_type": "code",
   "execution_count": 30,
   "id": "a690d732-baab-4916-a8ab-92119caeda8d",
   "metadata": {
    "tags": []
   },
   "outputs": [
    {
     "data": {
      "text/plain": [
       "array([0., 1.])"
      ]
     },
     "execution_count": 30,
     "metadata": {},
     "output_type": "execute_result"
    }
   ],
   "source": [
    "X_train['roll_max_30D_DEFAULT'].unique()"
   ]
  },
  {
   "cell_type": "code",
   "execution_count": 33,
   "id": "9aedfc72-f2d9-48d4-894a-9a5ecc02e935",
   "metadata": {
    "tags": []
   },
   "outputs": [
    {
     "name": "stderr",
     "output_type": "stream",
     "text": [
      "/opt/conda/lib/python3.10/site-packages/IPython/core/pylabtools.py:152: UserWarning: Creating legend with loc=\"best\" can be slow with large amounts of data.\n",
      "  fig.canvas.print_figure(bytes_io, **kw)\n"
     ]
    },
    {
     "data": {
      "image/png": "[encoded data removed]",
      "text/plain": [
       "<Figure size 640x480 with 1 Axes>"
      ]
     },
     "metadata": {},
     "output_type": "display_data"
    }
   ],
   "source": [
    "import matplotlib.pyplot as plt\n",
    "plt.plot(X_train['roll_max_30D_DEFAULT'], label='Rolling Mean')\n",
    "plt.plot(y_train, label='Raw Data')\n",
    "plt.legend()\n",
    "plt.ylabel('DEFAULT')\n",
    "plt.xlabel('Period')\n",
    "plt.show()"
   ]
  },
  {
   "cell_type": "code",
   "execution_count": 63,
   "id": "e7d0b1c1-8e04-423d-9cac-ca089637a4ec",
   "metadata": {
    "tags": []
   },
   "outputs": [
    {
     "data": {
      "text/plain": [
       "2131.0"
      ]
     },
     "execution_count": 63,
     "metadata": {},
     "output_type": "execute_result"
    }
   ],
   "source": [
    "y_train.sum()"
   ]
  },
  {
   "cell_type": "code",
   "execution_count": 64,
   "id": "37d2594d-277d-46f1-8334-99fec89574a8",
   "metadata": {
    "tags": []
   },
   "outputs": [
    {
     "data": {
      "text/plain": [
       "742.0"
      ]
     },
     "execution_count": 64,
     "metadata": {},
     "output_type": "execute_result"
    }
   ],
   "source": [
    "y_test.sum()"
   ]
  },
  {
   "cell_type": "code",
   "execution_count": 65,
   "id": "8c69de23-6f8c-4b60-a9ad-40be3440bac0",
   "metadata": {
    "tags": []
   },
   "outputs": [
    {
     "data": {
      "text/plain": [
       "(2166913,)"
      ]
     },
     "execution_count": 65,
     "metadata": {},
     "output_type": "execute_result"
    }
   ],
   "source": [
    "y_train.shape"
   ]
  },
  {
   "cell_type": "code",
   "execution_count": 66,
   "id": "8ccad540-41f0-43ed-b623-fa362b4cb5f3",
   "metadata": {
    "tags": []
   },
   "outputs": [
    {
     "data": {
      "text/plain": [
       "0.09834266534927798"
      ]
     },
     "execution_count": 66,
     "metadata": {},
     "output_type": "execute_result"
    }
   ],
   "source": [
    "2131/2166913*100"
   ]
  },
  {
   "cell_type": "code",
   "execution_count": null,
   "id": "70304055-b60c-4b7d-9b58-36712f9b8d54",
   "metadata": {},
   "outputs": [],
   "source": [
    "el 0.098% es target, modelo que sólo predice 0 tiene 99.912% de aciertos"
   ]
  },
  {
   "cell_type": "markdown",
   "id": "12946ac9-b41a-4099-9c44-a18b008939e4",
   "metadata": {},
   "source": [
    "# Dimensionar casos de default de 1 semana"
   ]
  },
  {
   "cell_type": "code",
   "execution_count": 5,
   "id": "d69779f6-6818-471f-8535-a35433459c95",
   "metadata": {},
   "outputs": [],
   "source": [
    "# lunes 4 de septiembre a domingo 10\n",
    "tr = df[df['DATE']< '2023-09-11']\n",
    "te = tr[tr['DATE']> '2023-09-03']"
   ]
  },
  {
   "cell_type": "code",
   "execution_count": 50,
   "id": "859879ae-7b4f-4b60-a3b6-3cec2f0de9b0",
   "metadata": {},
   "outputs": [
    {
     "data": {
      "text/plain": [
       "33.0"
      ]
     },
     "execution_count": 50,
     "metadata": {},
     "output_type": "execute_result"
    }
   ],
   "source": [
    "te['DEFAULT'].sum()"
   ]
  },
  {
   "cell_type": "code",
   "execution_count": 51,
   "id": "3411c37c-ac61-428a-9b6c-5254845d49e3",
   "metadata": {},
   "outputs": [
    {
     "data": {
      "text/plain": [
       "58.0"
      ]
     },
     "execution_count": 51,
     "metadata": {},
     "output_type": "execute_result"
    }
   ],
   "source": [
    "te['TARGET'].sum()"
   ]
  },
  {
   "cell_type": "code",
   "execution_count": 9,
   "id": "20c2d4cc-8c16-422d-a625-588e5de53525",
   "metadata": {},
   "outputs": [
    {
     "data": {
      "text/plain": [
       "(49896, 106)"
      ]
     },
     "execution_count": 9,
     "metadata": {},
     "output_type": "execute_result"
    }
   ],
   "source": [
    "te.shape"
   ]
  },
  {
   "cell_type": "code",
   "execution_count": 10,
   "id": "dbb3862d-21a2-4be1-87f4-d1990090620d",
   "metadata": {},
   "outputs": [
    {
     "data": {
      "text/plain": [
       "0.06613756613756613"
      ]
     },
     "execution_count": 10,
     "metadata": {},
     "output_type": "execute_result"
    }
   ],
   "source": [
    "# % de default\n",
    "33/49896*100"
   ]
  },
  {
   "cell_type": "code",
   "execution_count": 11,
   "id": "8dc1bd18-2f31-46c0-b5b4-a837a8f68c8f",
   "metadata": {},
   "outputs": [
    {
     "data": {
      "text/plain": [
       "0.11624178290844957"
      ]
     },
     "execution_count": 11,
     "metadata": {},
     "output_type": "execute_result"
    }
   ],
   "source": [
    "# % de target\n",
    "58/49896*100"
   ]
  },
  {
   "cell_type": "code",
   "execution_count": 7,
   "id": "565b92aa-0d7f-43e5-8618-0a70467ab478",
   "metadata": {},
   "outputs": [],
   "source": [
    "lu = te[te['DATE']== '2023-09-04']"
   ]
  },
  {
   "cell_type": "code",
   "execution_count": 8,
   "id": "0ea4b9fe-ead3-4813-a9f7-f2277208ef2b",
   "metadata": {},
   "outputs": [
    {
     "name": "stdout",
     "output_type": "stream",
     "text": [
      "0.05611672278338946\n",
      "0.2665544332210999\n"
     ]
    }
   ],
   "source": [
    "print (lu['DEFAULT'].sum()/len(lu)*100)\n",
    "print (lu['TARGET'].sum()/len(lu)*100)"
   ]
  },
  {
   "cell_type": "code",
   "execution_count": 9,
   "id": "cfb87aab-2141-4616-9bbc-bb906960e57e",
   "metadata": {
    "tags": []
   },
   "outputs": [
    {
     "name": "stdout",
     "output_type": "stream",
     "text": [
      "0.16835016835016833\n",
      "0.12626262626262627\n"
     ]
    }
   ],
   "source": [
    "ma = te[te['DATE']== '2023-09-05']\n",
    "print (ma['DEFAULT'].sum()/len(ma)*100)\n",
    "print (ma['TARGET'].sum()/len(ma)*100)"
   ]
  },
  {
   "cell_type": "code",
   "execution_count": 10,
   "id": "41b3c112-80f5-4ccd-9b22-b2646d3037d4",
   "metadata": {
    "tags": []
   },
   "outputs": [
    {
     "name": "stdout",
     "output_type": "stream",
     "text": [
      "0.09820426487093155\n",
      "0.11223344556677892\n"
     ]
    }
   ],
   "source": [
    "mi = te[te['DATE']== '2023-09-06']\n",
    "print (mi['DEFAULT'].sum()/len(mi)*100)\n",
    "print (mi['TARGET'].sum()/len(mi)*100)"
   ]
  },
  {
   "cell_type": "code",
   "execution_count": 11,
   "id": "55b6e060-c60f-4610-903a-1cceb93fda9b",
   "metadata": {
    "tags": []
   },
   "outputs": [
    {
     "name": "stdout",
     "output_type": "stream",
     "text": [
      "0.014029180695847365\n",
      "0.014029180695847365\n"
     ]
    }
   ],
   "source": [
    "ju = te[te['DATE']== '2023-09-07']\n",
    "print (ju['DEFAULT'].sum()/len(ju)*100)\n",
    "print (ju['TARGET'].sum()/len(ju)*100)"
   ]
  },
  {
   "cell_type": "code",
   "execution_count": 12,
   "id": "ccd9bf96-15a6-4c7a-913c-1716beaf1067",
   "metadata": {
    "tags": []
   },
   "outputs": [
    {
     "name": "stdout",
     "output_type": "stream",
     "text": [
      "0.08417508417508417\n",
      "0.0\n"
     ]
    }
   ],
   "source": [
    "vi = te[te['DATE']== '2023-09-08']\n",
    "print (vi['DEFAULT'].sum()/len(vi)*100)\n",
    "print (vi['TARGET'].sum()/len(vi)*100)"
   ]
  },
  {
   "cell_type": "code",
   "execution_count": 13,
   "id": "1f4e2cc5-8a12-4ac0-a9b4-aa141228a987",
   "metadata": {
    "tags": []
   },
   "outputs": [
    {
     "name": "stdout",
     "output_type": "stream",
     "text": [
      "0.04208754208754208\n",
      "0.23849607182940516\n"
     ]
    }
   ],
   "source": [
    "sa = te[te['DATE']== '2023-09-09']\n",
    "print (sa['DEFAULT'].sum()/len(sa)*100)\n",
    "print (sa['TARGET'].sum()/len(sa)*100)"
   ]
  },
  {
   "cell_type": "code",
   "execution_count": 14,
   "id": "392f7ba0-0464-4201-aef5-1ec3272c1ac1",
   "metadata": {
    "tags": []
   },
   "outputs": [
    {
     "name": "stdout",
     "output_type": "stream",
     "text": [
      "0.0\n",
      "0.05611672278338946\n"
     ]
    }
   ],
   "source": [
    "do = te[te['DATE']== '2023-09-10']\n",
    "print (do['DEFAULT'].sum()/len(do)*100)\n",
    "print (do['TARGET'].sum()/len(do)*100)"
   ]
  },
  {
   "cell_type": "code",
   "execution_count": 60,
   "id": "5fd4b141-5a8e-47f0-b2f0-03b63ded7eba",
   "metadata": {
    "tags": []
   },
   "outputs": [
    {
     "name": "stdout",
     "output_type": "stream",
     "text": [
      "0.05611672278338946\n",
      "0.16835016835016833\n",
      "0.09820426487093155\n",
      "0.014029180695847365\n",
      "0.08417508417508417\n",
      "0.04208754208754208\n",
      "0.0\n"
     ]
    }
   ],
   "source": [
    "print (lu['DEFAULT'].sum()/len(lu)*100)\n",
    "print (ma['DEFAULT'].sum()/len(ma)*100)\n",
    "print (mi['DEFAULT'].sum()/len(mi)*100)\n",
    "print (ju['DEFAULT'].sum()/len(ju)*100)\n",
    "print (vi['DEFAULT'].sum()/len(vi)*100)\n",
    "print (sa['DEFAULT'].sum()/len(sa)*100)\n",
    "print (do['DEFAULT'].sum()/len(do)*100)"
   ]
  },
  {
   "cell_type": "code",
   "execution_count": 61,
   "id": "b7b254fb-fb62-479e-ae95-951666e658d3",
   "metadata": {
    "tags": []
   },
   "outputs": [
    {
     "name": "stdout",
     "output_type": "stream",
     "text": [
      "0.2665544332210999\n",
      "0.12626262626262627\n",
      "0.11223344556677892\n",
      "0.014029180695847365\n",
      "0.0\n",
      "0.23849607182940516\n",
      "0.05611672278338946\n"
     ]
    }
   ],
   "source": [
    "print (lu['TARGET'].sum()/len(lu)*100)\n",
    "print (ma['TARGET'].sum()/len(ma)*100)\n",
    "print (mi['TARGET'].sum()/len(mi)*100)\n",
    "print (ju['TARGET'].sum()/len(ju)*100)\n",
    "print (vi['TARGET'].sum()/len(vi)*100)\n",
    "print (sa['TARGET'].sum()/len(sa)*100)\n",
    "print (do['TARGET'].sum()/len(do)*100)"
   ]
  },
  {
   "cell_type": "code",
   "execution_count": 62,
   "id": "0dea46a8-57e6-4f7f-a8ef-0bc98746f031",
   "metadata": {},
   "outputs": [
    {
     "name": "stdout",
     "output_type": "stream",
     "text": [
      "7128\n",
      "7128\n",
      "7128\n",
      "7128\n",
      "7128\n",
      "7128\n",
      "7128\n"
     ]
    }
   ],
   "source": [
    "print (len(lu))\n",
    "print (len(ma))\n",
    "print (len(mi))\n",
    "print (len(ju))\n",
    "print (len(vi))\n",
    "print (len(sa))\n",
    "print (len(do))"
   ]
  },
  {
   "cell_type": "code",
   "execution_count": 64,
   "id": "767cf452-bef2-407f-98e4-6d3022e749c5",
   "metadata": {},
   "outputs": [
    {
     "name": "stdout",
     "output_type": "stream",
     "text": [
      "19.0\n",
      "9.0\n",
      "8.0\n",
      "1.0\n",
      "0.0\n",
      "17.0\n",
      "4.0\n"
     ]
    }
   ],
   "source": [
    "print (lu['TARGET'].sum())\n",
    "print (ma['TARGET'].sum())\n",
    "print (mi['TARGET'].sum())\n",
    "print (ju['TARGET'].sum())\n",
    "print (vi['TARGET'].sum())\n",
    "print (sa['TARGET'].sum())\n",
    "print (do['TARGET'].sum())"
   ]
  },
  {
   "cell_type": "code",
   "execution_count": 15,
   "id": "a953b2bb-bd07-480a-840a-cbffa010329b",
   "metadata": {
    "tags": []
   },
   "outputs": [
    {
     "name": "stdout",
     "output_type": "stream",
     "text": [
      "4.0\n",
      "12.0\n",
      "7.0\n",
      "1.0\n",
      "6.0\n",
      "3.0\n",
      "0.0\n"
     ]
    }
   ],
   "source": [
    "print (lu['DEFAULT'].sum())\n",
    "print (ma['DEFAULT'].sum())\n",
    "print (mi['DEFAULT'].sum())\n",
    "print (ju['DEFAULT'].sum())\n",
    "print (vi['DEFAULT'].sum())\n",
    "print (sa['DEFAULT'].sum())\n",
    "print (do['DEFAULT'].sum())"
   ]
  },
  {
   "cell_type": "markdown",
   "id": "d2570e86-90c5-47f0-930d-8664e2170629",
   "metadata": {},
   "source": [
    "# Propbando historial de ventiles en el que caen las agencias en días corridos"
   ]
  },
  {
   "cell_type": "code",
   "execution_count": 8,
   "id": "ea084d85-7c0c-48f2-9d8f-0ebe0692a499",
   "metadata": {},
   "outputs": [
    {
     "data": {
      "text/html": [
       "<div>\n",
       "<style scoped>\n",
       "    .dataframe tbody tr th:only-of-type {\n",
       "        vertical-align: middle;\n",
       "    }\n",
       "\n",
       "    .dataframe tbody tr th {\n",
       "        vertical-align: top;\n",
       "    }\n",
       "\n",
       "    .dataframe thead th {\n",
       "        text-align: right;\n",
       "    }\n",
       "</style>\n",
       "<table border=\"1\" class=\"dataframe\">\n",
       "  <thead>\n",
       "    <tr style=\"text-align: right;\">\n",
       "      <th></th>\n",
       "      <th>DATE</th>\n",
       "      <th>ID_BRANCH</th>\n",
       "      <th>AGENCY</th>\n",
       "      <th>ID_GROUP_COMPANY</th>\n",
       "      <th>BALANCE</th>\n",
       "      <th>DEFAULT</th>\n",
       "      <th>TARGET</th>\n",
       "      <th>proba</th>\n",
       "      <th>UNI</th>\n",
       "    </tr>\n",
       "  </thead>\n",
       "  <tbody>\n",
       "    <tr>\n",
       "      <th>0</th>\n",
       "      <td>2023-11-01</td>\n",
       "      <td>A00002</td>\n",
       "      <td>MD0002</td>\n",
       "      <td>USA000002</td>\n",
       "      <td>17816.1267</td>\n",
       "      <td>0.0</td>\n",
       "      <td>0.0</td>\n",
       "      <td>0.000913</td>\n",
       "      <td>1</td>\n",
       "    </tr>\n",
       "    <tr>\n",
       "      <th>1</th>\n",
       "      <td>2023-11-02</td>\n",
       "      <td>A00002</td>\n",
       "      <td>MD0002</td>\n",
       "      <td>USA000002</td>\n",
       "      <td>17924.2267</td>\n",
       "      <td>0.0</td>\n",
       "      <td>0.0</td>\n",
       "      <td>0.000914</td>\n",
       "      <td>1</td>\n",
       "    </tr>\n",
       "    <tr>\n",
       "      <th>2</th>\n",
       "      <td>2023-11-03</td>\n",
       "      <td>A00002</td>\n",
       "      <td>MD0002</td>\n",
       "      <td>USA000002</td>\n",
       "      <td>18006.2267</td>\n",
       "      <td>0.0</td>\n",
       "      <td>0.0</td>\n",
       "      <td>0.000932</td>\n",
       "      <td>1</td>\n",
       "    </tr>\n",
       "    <tr>\n",
       "      <th>3</th>\n",
       "      <td>2023-11-04</td>\n",
       "      <td>A00002</td>\n",
       "      <td>MD0002</td>\n",
       "      <td>USA000002</td>\n",
       "      <td>0.0000</td>\n",
       "      <td>0.0</td>\n",
       "      <td>0.0</td>\n",
       "      <td>0.000894</td>\n",
       "      <td>1</td>\n",
       "    </tr>\n",
       "    <tr>\n",
       "      <th>4</th>\n",
       "      <td>2023-11-05</td>\n",
       "      <td>A00002</td>\n",
       "      <td>MD0002</td>\n",
       "      <td>USA000002</td>\n",
       "      <td>0.0000</td>\n",
       "      <td>0.0</td>\n",
       "      <td>0.0</td>\n",
       "      <td>0.000893</td>\n",
       "      <td>1</td>\n",
       "    </tr>\n",
       "  </tbody>\n",
       "</table>\n",
       "</div>"
      ],
      "text/plain": [
       "         DATE ID_BRANCH  AGENCY ID_GROUP_COMPANY     BALANCE  DEFAULT  TARGET  \\\n",
       "0  2023-11-01    A00002  MD0002        USA000002  17816.1267      0.0     0.0   \n",
       "1  2023-11-02    A00002  MD0002        USA000002  17924.2267      0.0     0.0   \n",
       "2  2023-11-03    A00002  MD0002        USA000002  18006.2267      0.0     0.0   \n",
       "3  2023-11-04    A00002  MD0002        USA000002      0.0000      0.0     0.0   \n",
       "4  2023-11-05    A00002  MD0002        USA000002      0.0000      0.0     0.0   \n",
       "\n",
       "      proba  UNI  \n",
       "0  0.000913    1  \n",
       "1  0.000914    1  \n",
       "2  0.000932    1  \n",
       "3  0.000894    1  \n",
       "4  0.000893    1  "
      ]
     },
     "execution_count": 8,
     "metadata": {},
     "output_type": "execute_result"
    }
   ],
   "source": [
    "df = pd.read_csv('default_prediction_test.csv') #, encoding='latin-1', sep=';'\n",
    "df['UNI']=1\n",
    "df.head()\n",
    "#df.describe()\n"
   ]
  },
  {
   "cell_type": "code",
   "execution_count": 9,
   "id": "6d309541-152b-4180-ae35-3308fd91789c",
   "metadata": {
    "tags": []
   },
   "outputs": [
    {
     "data": {
      "text/plain": [
       "[1.5628753160475284e-05,\n",
       " 8.60008313116491e-05,\n",
       " 0.000192875279525655,\n",
       " 0.00031243840476858,\n",
       " 0.00042315877378955,\n",
       " 0.00051674928139408,\n",
       " 0.0006002218899612401,\n",
       " 0.0006760368658799,\n",
       " 0.00075183445462384,\n",
       " 0.00081247178694465,\n",
       " 0.0008614892104977,\n",
       " 0.00090414935220706,\n",
       " 0.0009359294245784251,\n",
       " 0.0009572632471892,\n",
       " 0.00097624391538795,\n",
       " 0.0009988844359333,\n",
       " 0.0010052816573873,\n",
       " 0.0010406720221193399,\n",
       " 0.001525513546907148]"
      ]
     },
     "execution_count": 9,
     "metadata": {},
     "output_type": "execute_result"
    }
   ],
   "source": [
    "#deciles de la variable MonthlyCharges\n",
    "dec_rfm=df['proba'].quantile([0.05,.1,0.15,.2,0.25,.3,0.35,.4,0.45,.5,0.55,.6,0.65,.7,0.75,.8,0.85,.9,0.95]).tolist()\n",
    "\n",
    "dec_rfm"
   ]
  },
  {
   "cell_type": "code",
   "execution_count": 10,
   "id": "afa29a48-8145-47a1-afeb-745d6df37c09",
   "metadata": {
    "tags": []
   },
   "outputs": [],
   "source": [
    "#reagrupo la variable TotalCharges en base al decil\n",
    "conditions2 = [\n",
    "    (df['proba'] <= dec_rfm[0]),\n",
    "    (df['proba'] <= dec_rfm[1]),\n",
    "    (df['proba'] <= dec_rfm[2]),\n",
    "    (df['proba'] <= dec_rfm[3]),\n",
    "    (df['proba']<= dec_rfm[4]),\n",
    "    (df['proba']<= dec_rfm[5]),\n",
    "    (df['proba']<= dec_rfm[6]),\n",
    "    (df['proba']<= dec_rfm[7]),\n",
    "    (df['proba']<= dec_rfm[8]),\n",
    "    (df['proba']<= dec_rfm[9]),\n",
    "    (df['proba']<= dec_rfm[10]),\n",
    "    (df['proba']<= dec_rfm[11]),\n",
    "    (df['proba']<= dec_rfm[12]),\n",
    "    (df['proba']<= dec_rfm[13]),\n",
    "    (df['proba']<= dec_rfm[14]),\n",
    "    (df['proba']<= dec_rfm[15]),\n",
    "    (df['proba']<= dec_rfm[16]),\n",
    "    (df['proba']<= dec_rfm[17]),\n",
    "    (df['proba']<= dec_rfm[18])]\n",
    "choices2 = [0,1, 2,3,4,5,6,7,8,9,10,11,12,13,14,15,16,17,18]\n",
    "df['proba_c'] = np.select(conditions2, choices2, default=19)"
   ]
  },
  {
   "cell_type": "code",
   "execution_count": 11,
   "id": "db66eeab-33d7-4453-b006-cbaa7140d6f9",
   "metadata": {
    "tags": []
   },
   "outputs": [
    {
     "name": "stdout",
     "output_type": "stream",
     "text": [
      "    proba_c   DATE  ID_BRANCH  AGENCY  ID_GROUP_COMPANY  BALANCE  DEFAULT  \\\n",
      "0         0  33858      33858   33858             33858    33858    33858   \n",
      "1         1  33858      33858   33858             33858    33858    33858   \n",
      "2         2  33858      33858   33858             33858    33858    33858   \n",
      "3         3  33858      33858   33858             33858    33858    33858   \n",
      "4         4  33858      33858   33858             33858    33858    33858   \n",
      "5         5  33858      33858   33858             33858    33858    33858   \n",
      "6         6  33858      33858   33858             33858    33858    33858   \n",
      "7         7  33858      33858   33858             33858    33858    33858   \n",
      "8         8  33858      33858   33858             33858    33858    33858   \n",
      "9         9  33858      33858   33858             33858    33858    33858   \n",
      "10       10  33872      33872   33872             33872    33872    33872   \n",
      "11       11  33844      33844   33844             33844    33844    33844   \n",
      "12       12  33858      33858   33858             33858    33858    33858   \n",
      "13       13  34004      34004   34004             34004    34004    34004   \n",
      "14       14  33712      33712   33712             33712    33712    33712   \n",
      "15       15  43669      43669   43669             43669    43669    43669   \n",
      "16       16  24207      24207   24207             24207    24207    24207   \n",
      "17       17  33698      33698   33698             33698    33698    33698   \n",
      "18       18  33858      33858   33858             33858    33858    33858   \n",
      "19       19  33858      33858   33858             33858    33858    33858   \n",
      "\n",
      "    TARGET  proba    UNI  \n",
      "0    33858  33858  33858  \n",
      "1    33858  33858  33858  \n",
      "2    33858  33858  33858  \n",
      "3    33858  33858  33858  \n",
      "4    33858  33858  33858  \n",
      "5    33858  33858  33858  \n",
      "6    33858  33858  33858  \n",
      "7    33858  33858  33858  \n",
      "8    33858  33858  33858  \n",
      "9    33858  33858  33858  \n",
      "10   33872  33872  33872  \n",
      "11   33844  33844  33844  \n",
      "12   33858  33858  33858  \n",
      "13   34004  34004  34004  \n",
      "14   33712  33712  33712  \n",
      "15   43669  43669  43669  \n",
      "16   24207  24207  24207  \n",
      "17   33698  33698  33698  \n",
      "18   33858  33858  33858  \n",
      "19   33858  33858  33858  \n"
     ]
    }
   ],
   "source": [
    "DIA = df.groupby(['proba_c']).count().reset_index()\n",
    "print(DIA)\n"
   ]
  },
  {
   "cell_type": "code",
   "execution_count": 12,
   "id": "d4399cdc-b2c9-47f0-a856-d30ead8d9ea0",
   "metadata": {
    "tags": []
   },
   "outputs": [
    {
     "name": "stdout",
     "output_type": "stream",
     "text": [
      "                               BALANCE  TARGET  UNI\n",
      "DATE       proba_c AGENCY                          \n",
      "2023-11-01 0       AL0281   23783.2500     0.0    1\n",
      "                   AL0283   28992.9607     0.0    1\n",
      "                   AL0310   38800.3432     0.0    1\n",
      "                   AL0313   72260.0664     0.0    1\n",
      "                   AL0325  218658.8963     0.0    1\n",
      "...                                ...     ...  ...\n",
      "2024-02-03 19      WI0146       0.0000     0.0    1\n",
      "                   WI0219       0.0000     0.0    1\n",
      "                   WI0242       0.0000     0.0    1\n",
      "                   WI0243       0.0000     0.0    1\n",
      "                   WI0259     420.0000     0.0    1\n",
      "\n",
      "[655660 rows x 3 columns]\n",
      "          proba_c                                                         \\\n",
      "DATE   2023-11-01 2023-11-02 2023-11-03 2023-11-04 2023-11-05 2023-11-06   \n",
      "AGENCY                                                                     \n",
      "0       15.664921  15.685864  15.581152  15.633508  15.586387  15.612565   \n",
      "AK0001  11.000000  11.000000  11.000000  11.000000  11.000000  11.000000   \n",
      "AK0005  19.000000  18.000000  19.000000  19.000000  19.000000  19.000000   \n",
      "AK0007  17.000000  17.000000  17.000000  12.000000  13.000000  13.000000   \n",
      "AL0044  16.000000  16.000000  16.000000  16.000000  16.000000  16.000000   \n",
      "...           ...        ...        ...        ...        ...        ...   \n",
      "WV0014  17.000000  15.000000   8.000000  15.000000  13.000000  18.000000   \n",
      "WV0015  11.000000  11.000000  10.000000   9.000000   9.000000  11.000000   \n",
      "WY0007   2.000000   2.000000   2.000000   1.000000   2.000000   2.000000   \n",
      "WY0009   1.000000   1.000000   1.000000   1.000000   1.000000   1.000000   \n",
      "WY0018  15.000000  15.000000  15.000000  15.000000  15.000000  15.000000   \n",
      "\n",
      "                                                    ...                        \\\n",
      "DATE   2023-11-07 2023-11-08 2023-11-09 2023-11-10  ... 2024-01-25 2024-01-26   \n",
      "AGENCY                                              ...                         \n",
      "0       15.659686  15.664921  15.696335  15.623037  ...  15.774869  15.722513   \n",
      "AK0001  11.000000  11.000000  11.000000  11.000000  ...  11.000000  11.000000   \n",
      "AK0005  18.000000  18.000000  18.000000  18.000000  ...  13.000000  13.000000   \n",
      "AK0007  12.000000  12.000000  12.000000  12.000000  ...  12.000000  12.000000   \n",
      "AL0044  16.000000  16.000000  16.000000  16.000000  ...  16.000000  16.000000   \n",
      "...           ...        ...        ...        ...  ...        ...        ...   \n",
      "WV0014  14.000000  11.000000  12.000000   7.000000  ...  13.000000   7.000000   \n",
      "WV0015  11.000000  12.000000   9.000000   9.000000  ...  13.000000  12.000000   \n",
      "WY0007   2.000000   2.000000   2.000000   2.000000  ...   5.000000   4.000000   \n",
      "WY0009   1.000000   1.000000   1.000000   1.000000  ...   2.000000   2.000000   \n",
      "WY0018  16.000000  15.000000  16.000000  16.000000  ...  15.000000  15.000000   \n",
      "\n",
      "                                                                          \\\n",
      "DATE   2024-01-27 2024-01-28 2024-01-29 2024-01-30 2024-01-31 2024-02-01   \n",
      "AGENCY                                                                     \n",
      "0       15.722513   15.73822  15.712042  15.722513  15.722513  15.759162   \n",
      "AK0001  11.000000   11.00000  11.000000  11.000000  11.000000  11.000000   \n",
      "AK0005  13.000000   13.00000  12.000000  12.000000  12.000000  12.000000   \n",
      "AK0007  12.000000   12.00000  12.000000  12.000000  12.000000  12.000000   \n",
      "AL0044  15.000000   17.00000  17.000000  17.000000  17.000000  17.000000   \n",
      "...           ...        ...        ...        ...        ...        ...   \n",
      "WV0014  13.000000    8.00000  14.000000  11.000000  14.000000  12.000000   \n",
      "WV0015  10.000000   10.00000  11.000000  11.000000  12.000000  12.000000   \n",
      "WY0007   4.000000    4.00000   4.000000   5.000000   4.000000   4.000000   \n",
      "WY0009   1.000000    1.00000   1.000000   2.000000   2.000000   2.000000   \n",
      "WY0018  15.000000   15.00000  14.000000  15.000000  15.000000  15.000000   \n",
      "\n",
      "                              \n",
      "DATE   2024-02-02 2024-02-03  \n",
      "AGENCY                        \n",
      "0       15.759162  15.722513  \n",
      "AK0001  11.000000  11.000000  \n",
      "AK0005  12.000000  12.000000  \n",
      "AK0007  12.000000  12.000000  \n",
      "AL0044  17.000000  16.000000  \n",
      "...           ...        ...  \n",
      "WV0014   7.000000  13.000000  \n",
      "WV0015  11.000000  10.000000  \n",
      "WY0007   3.000000   3.000000  \n",
      "WY0009   1.000000   1.000000  \n",
      "WY0018  15.000000  15.000000  \n",
      "\n",
      "[6778 rows x 95 columns]\n"
     ]
    }
   ],
   "source": [
    "#cantidad en cada percentil\n",
    "aux=pd.pivot_table(df,index=['DATE','proba_c','AGENCY'],aggfunc='sum',values=['TARGET','BALANCE','UNI'])\n",
    "print(aux)\n",
    "\n",
    "#aux.to_csv('/content/drive/MyDrive/bases/date_per2.csv')\n",
    "\n",
    "#DIA = df.groupby(['DATE','proba_c']).count().reset_index()\n",
    "\n",
    "#cantidad en cada percentil\n",
    "aux2=pd.pivot_table(df,index=['AGENCY'],columns='DATE',aggfunc='mean',values=['proba_c'])\n",
    "print(aux2)\n",
    "\n",
    "#aux2.to_csv('/content/drive/MyDrive/bases/date_agency.csv')"
   ]
  },
  {
   "cell_type": "code",
   "execution_count": 13,
   "id": "887cade4-5ac1-44f8-8cd6-2d1c7222be7f",
   "metadata": {
    "tags": []
   },
   "outputs": [],
   "source": [
    "aux2.to_csv('date_agency.csv')"
   ]
  },
  {
   "cell_type": "code",
   "execution_count": 14,
   "id": "032d34e9-195d-4e4a-9d13-4f633d9c0b97",
   "metadata": {
    "tags": []
   },
   "outputs": [
    {
     "name": "stdout",
     "output_type": "stream",
     "text": [
      "             proba_c                                                         \\\n",
      "DATE      2023-11-01 2023-11-02 2023-11-03 2023-11-04 2023-11-05 2023-11-06   \n",
      "ID_BRANCH                                                                     \n",
      "A00002          12.0       12.0       12.0       11.0       11.0       12.0   \n",
      "A00138           6.0        6.0        6.0        6.0        6.0        6.0   \n",
      "A00147           6.0        6.0        5.0        5.0        6.0        6.0   \n",
      "A00148           7.0        7.0        7.0        7.0        7.0        7.0   \n",
      "A00149           6.0        6.0        6.0        6.0        6.0        6.0   \n",
      "...              ...        ...        ...        ...        ...        ...   \n",
      "A99947          18.0       18.0       16.0       18.0       18.0       18.0   \n",
      "A99982          17.0       17.0       17.0       17.0       15.0       15.0   \n",
      "AB0106           1.0        2.0        1.0        1.0        1.0        1.0   \n",
      "AB0110           3.0        3.0        3.0        4.0        3.0        3.0   \n",
      "E00099          17.0       17.0       17.0       17.0       17.0       17.0   \n",
      "\n",
      "                                                       ...             \\\n",
      "DATE      2023-11-07 2023-11-08 2023-11-09 2023-11-10  ... 2024-01-25   \n",
      "ID_BRANCH                                              ...              \n",
      "A00002          12.0       12.0       12.0       12.0  ...       12.0   \n",
      "A00138           6.0        7.0        6.0        7.0  ...        6.0   \n",
      "A00147           6.0        6.0        4.0        4.0  ...        6.0   \n",
      "A00148           7.0        7.0        6.0        6.0  ...        6.0   \n",
      "A00149           6.0        6.0        6.0        6.0  ...        6.0   \n",
      "...              ...        ...        ...        ...  ...        ...   \n",
      "A99947          18.0       18.0       18.0       17.0  ...       17.0   \n",
      "A99982          15.0       15.0       15.0       16.0  ...       17.0   \n",
      "AB0106           2.0        2.0        2.0        1.0  ...        3.0   \n",
      "AB0110           4.0        4.0        4.0        4.0  ...       19.0   \n",
      "E00099          17.0       17.0       17.0       17.0  ...       15.0   \n",
      "\n",
      "                                                                             \\\n",
      "DATE      2024-01-26 2024-01-27 2024-01-28 2024-01-29 2024-01-30 2024-01-31   \n",
      "ID_BRANCH                                                                     \n",
      "A00002          11.0       11.0       11.0       12.0       12.0       12.0   \n",
      "A00138           6.0        6.0        6.0        6.0        6.0        6.0   \n",
      "A00147           5.0        5.0        6.0        5.0        6.0        4.0   \n",
      "A00148           6.0        6.0        6.0        6.0        6.0        6.0   \n",
      "A00149           6.0        6.0        6.0        6.0        6.0        6.0   \n",
      "...              ...        ...        ...        ...        ...        ...   \n",
      "A99947          18.0       18.0       18.0       18.0       17.0       18.0   \n",
      "A99982          17.0       17.0       17.0       17.0       17.0       17.0   \n",
      "AB0106           3.0        3.0        3.0        3.0        4.0        3.0   \n",
      "AB0110          19.0       19.0       19.0       19.0       19.0       19.0   \n",
      "E00099          15.0       15.0       15.0       15.0       15.0       15.0   \n",
      "\n",
      "                                            \n",
      "DATE      2024-02-01 2024-02-02 2024-02-03  \n",
      "ID_BRANCH                                   \n",
      "A00002          12.0       13.0       11.0  \n",
      "A00138           6.0        6.0        6.0  \n",
      "A00147           4.0        4.0        4.0  \n",
      "A00148           6.0        6.0        6.0  \n",
      "A00149           6.0        6.0        6.0  \n",
      "...              ...        ...        ...  \n",
      "A99947          18.0       18.0       18.0  \n",
      "A99982          17.0       17.0       17.0  \n",
      "AB0106           3.0        2.0        2.0  \n",
      "AB0110          19.0       19.0       19.0  \n",
      "E00099          15.0       15.0       15.0  \n",
      "\n",
      "[7128 rows x 95 columns]\n"
     ]
    }
   ],
   "source": [
    "aux3=pd.pivot_table(df,index=['ID_BRANCH'],columns='DATE',aggfunc='mean',values=['proba_c'])\n",
    "print(aux3)"
   ]
  },
  {
   "cell_type": "code",
   "execution_count": 16,
   "id": "c892df05-0541-4194-b9e4-611ce157cf24",
   "metadata": {
    "tags": []
   },
   "outputs": [],
   "source": [
    "aux3.to_csv('date_id_branch.csv')"
   ]
  },
  {
   "cell_type": "markdown",
   "id": "0cb130de-ca9f-4ee6-a671-7dc9e2ff4246",
   "metadata": {},
   "source": [
    "# Seguimiento de 3 agencias interesantes"
   ]
  },
  {
   "cell_type": "code",
   "execution_count": null,
   "id": "6e51df7d-86c9-4436-b4ed-3de66c4ff674",
   "metadata": {},
   "outputs": [],
   "source": [
    "A04201 A01512(inactiva sólo un past due fantasma) A00806 A02061"
   ]
  },
  {
   "cell_type": "code",
   "execution_count": 38,
   "id": "07dd0085-9989-4eff-9ecb-d246f0b06996",
   "metadata": {},
   "outputs": [],
   "source": [
    "df = pd.read_csv('default_ABT1.csv')"
   ]
  },
  {
   "cell_type": "code",
   "execution_count": 39,
   "id": "51d0d598-2c5d-4e0f-a9e1-960b685c9e7f",
   "metadata": {
    "tags": []
   },
   "outputs": [],
   "source": [
    "df = df.fillna(0)"
   ]
  },
  {
   "cell_type": "code",
   "execution_count": 40,
   "id": "a51f3f5b-25c2-48a9-86aa-cf6c4758fb15",
   "metadata": {},
   "outputs": [],
   "source": [
    "te = df[df['DATE']> '2023-10-31']"
   ]
  },
  {
   "cell_type": "code",
   "execution_count": 41,
   "id": "a37d0f65-7fdf-4a7d-94e9-def7b97cad4b",
   "metadata": {},
   "outputs": [
    {
     "data": {
      "text/html": [
       "<div>\n",
       "<style scoped>\n",
       "    .dataframe tbody tr th:only-of-type {\n",
       "        vertical-align: middle;\n",
       "    }\n",
       "\n",
       "    .dataframe tbody tr th {\n",
       "        vertical-align: top;\n",
       "    }\n",
       "\n",
       "    .dataframe thead th {\n",
       "        text-align: right;\n",
       "    }\n",
       "</style>\n",
       "<table border=\"1\" class=\"dataframe\">\n",
       "  <thead>\n",
       "    <tr style=\"text-align: right;\">\n",
       "      <th></th>\n",
       "      <th>DATE</th>\n",
       "      <th>ID_BRANCH</th>\n",
       "      <th>TX</th>\n",
       "      <th>AMOUNT</th>\n",
       "      <th>BALANCE</th>\n",
       "      <th>TX_check</th>\n",
       "      <th>TOTAL_AMOUNT_check</th>\n",
       "      <th>TX_MO</th>\n",
       "      <th>TOTAL_AMOUNT_MO</th>\n",
       "      <th>DSO_DEPO_DAY</th>\n",
       "      <th>INACTIVE_DAYS</th>\n",
       "      <th>DEFAULT</th>\n",
       "      <th>AGENCY</th>\n",
       "      <th>ID_GROUP_COMPANY</th>\n",
       "      <th>START_DATE</th>\n",
       "      <th>day_of_week</th>\n",
       "      <th>TARGET</th>\n",
       "    </tr>\n",
       "  </thead>\n",
       "  <tbody>\n",
       "    <tr>\n",
       "      <th>304</th>\n",
       "      <td>2023-11-01</td>\n",
       "      <td>A00002</td>\n",
       "      <td>1.0</td>\n",
       "      <td>10.0</td>\n",
       "      <td>17816.1267</td>\n",
       "      <td>0.0</td>\n",
       "      <td>0.0</td>\n",
       "      <td>0.0</td>\n",
       "      <td>0.0</td>\n",
       "      <td>0.0</td>\n",
       "      <td>0.0</td>\n",
       "      <td>0.0</td>\n",
       "      <td>MD0002</td>\n",
       "      <td>USA000002</td>\n",
       "      <td>2018-10-02</td>\n",
       "      <td>Wednesday</td>\n",
       "      <td>0.0</td>\n",
       "    </tr>\n",
       "    <tr>\n",
       "      <th>305</th>\n",
       "      <td>2023-11-02</td>\n",
       "      <td>A00002</td>\n",
       "      <td>7.0</td>\n",
       "      <td>40.0</td>\n",
       "      <td>17924.2267</td>\n",
       "      <td>0.0</td>\n",
       "      <td>0.0</td>\n",
       "      <td>0.0</td>\n",
       "      <td>0.0</td>\n",
       "      <td>0.0</td>\n",
       "      <td>0.0</td>\n",
       "      <td>0.0</td>\n",
       "      <td>MD0002</td>\n",
       "      <td>USA000002</td>\n",
       "      <td>2018-10-02</td>\n",
       "      <td>Thursday</td>\n",
       "      <td>0.0</td>\n",
       "    </tr>\n",
       "    <tr>\n",
       "      <th>306</th>\n",
       "      <td>2023-11-03</td>\n",
       "      <td>A00002</td>\n",
       "      <td>3.0</td>\n",
       "      <td>22.0</td>\n",
       "      <td>18006.2267</td>\n",
       "      <td>0.0</td>\n",
       "      <td>0.0</td>\n",
       "      <td>0.0</td>\n",
       "      <td>0.0</td>\n",
       "      <td>0.0</td>\n",
       "      <td>0.0</td>\n",
       "      <td>0.0</td>\n",
       "      <td>MD0002</td>\n",
       "      <td>USA000002</td>\n",
       "      <td>2018-10-02</td>\n",
       "      <td>Friday</td>\n",
       "      <td>0.0</td>\n",
       "    </tr>\n",
       "    <tr>\n",
       "      <th>307</th>\n",
       "      <td>2023-11-04</td>\n",
       "      <td>A00002</td>\n",
       "      <td>0.0</td>\n",
       "      <td>0.0</td>\n",
       "      <td>0.0000</td>\n",
       "      <td>0.0</td>\n",
       "      <td>0.0</td>\n",
       "      <td>0.0</td>\n",
       "      <td>0.0</td>\n",
       "      <td>0.0</td>\n",
       "      <td>0.0</td>\n",
       "      <td>0.0</td>\n",
       "      <td>MD0002</td>\n",
       "      <td>USA000002</td>\n",
       "      <td>2018-10-02</td>\n",
       "      <td>Saturday</td>\n",
       "      <td>0.0</td>\n",
       "    </tr>\n",
       "    <tr>\n",
       "      <th>308</th>\n",
       "      <td>2023-11-05</td>\n",
       "      <td>A00002</td>\n",
       "      <td>0.0</td>\n",
       "      <td>0.0</td>\n",
       "      <td>0.0000</td>\n",
       "      <td>0.0</td>\n",
       "      <td>0.0</td>\n",
       "      <td>0.0</td>\n",
       "      <td>0.0</td>\n",
       "      <td>0.0</td>\n",
       "      <td>0.0</td>\n",
       "      <td>0.0</td>\n",
       "      <td>MD0002</td>\n",
       "      <td>USA000002</td>\n",
       "      <td>2018-10-02</td>\n",
       "      <td>Sunday</td>\n",
       "      <td>0.0</td>\n",
       "    </tr>\n",
       "  </tbody>\n",
       "</table>\n",
       "</div>"
      ],
      "text/plain": [
       "           DATE ID_BRANCH   TX  AMOUNT     BALANCE  TX_check  \\\n",
       "304  2023-11-01    A00002  1.0    10.0  17816.1267       0.0   \n",
       "305  2023-11-02    A00002  7.0    40.0  17924.2267       0.0   \n",
       "306  2023-11-03    A00002  3.0    22.0  18006.2267       0.0   \n",
       "307  2023-11-04    A00002  0.0     0.0      0.0000       0.0   \n",
       "308  2023-11-05    A00002  0.0     0.0      0.0000       0.0   \n",
       "\n",
       "     TOTAL_AMOUNT_check  TX_MO  TOTAL_AMOUNT_MO  DSO_DEPO_DAY  INACTIVE_DAYS  \\\n",
       "304                 0.0    0.0              0.0           0.0            0.0   \n",
       "305                 0.0    0.0              0.0           0.0            0.0   \n",
       "306                 0.0    0.0              0.0           0.0            0.0   \n",
       "307                 0.0    0.0              0.0           0.0            0.0   \n",
       "308                 0.0    0.0              0.0           0.0            0.0   \n",
       "\n",
       "     DEFAULT  AGENCY ID_GROUP_COMPANY  START_DATE day_of_week  TARGET  \n",
       "304      0.0  MD0002        USA000002  2018-10-02   Wednesday     0.0  \n",
       "305      0.0  MD0002        USA000002  2018-10-02    Thursday     0.0  \n",
       "306      0.0  MD0002        USA000002  2018-10-02      Friday     0.0  \n",
       "307      0.0  MD0002        USA000002  2018-10-02    Saturday     0.0  \n",
       "308      0.0  MD0002        USA000002  2018-10-02      Sunday     0.0  "
      ]
     },
     "execution_count": 41,
     "metadata": {},
     "output_type": "execute_result"
    }
   ],
   "source": [
    "te.head()"
   ]
  },
  {
   "cell_type": "code",
   "execution_count": 42,
   "id": "18e01f02-b8c2-4647-88b7-dccea44f0345",
   "metadata": {},
   "outputs": [],
   "source": [
    "A04201 = te[te['ID_BRANCH']== 'A04201']"
   ]
  },
  {
   "cell_type": "code",
   "execution_count": 43,
   "id": "0cf3c268-b0a3-4639-98ab-f3f22d2b377b",
   "metadata": {},
   "outputs": [
    {
     "data": {
      "text/html": [
       "<div>\n",
       "<style scoped>\n",
       "    .dataframe tbody tr th:only-of-type {\n",
       "        vertical-align: middle;\n",
       "    }\n",
       "\n",
       "    .dataframe tbody tr th {\n",
       "        vertical-align: top;\n",
       "    }\n",
       "\n",
       "    .dataframe thead th {\n",
       "        text-align: right;\n",
       "    }\n",
       "</style>\n",
       "<table border=\"1\" class=\"dataframe\">\n",
       "  <thead>\n",
       "    <tr style=\"text-align: right;\">\n",
       "      <th></th>\n",
       "      <th>DATE</th>\n",
       "      <th>ID_BRANCH</th>\n",
       "      <th>TX</th>\n",
       "      <th>AMOUNT</th>\n",
       "      <th>BALANCE</th>\n",
       "      <th>TX_check</th>\n",
       "      <th>TOTAL_AMOUNT_check</th>\n",
       "      <th>TX_MO</th>\n",
       "      <th>TOTAL_AMOUNT_MO</th>\n",
       "      <th>DSO_DEPO_DAY</th>\n",
       "      <th>INACTIVE_DAYS</th>\n",
       "      <th>DEFAULT</th>\n",
       "      <th>AGENCY</th>\n",
       "      <th>ID_GROUP_COMPANY</th>\n",
       "      <th>START_DATE</th>\n",
       "      <th>day_of_week</th>\n",
       "      <th>TARGET</th>\n",
       "    </tr>\n",
       "  </thead>\n",
       "  <tbody>\n",
       "    <tr>\n",
       "      <th>64144</th>\n",
       "      <td>2023-11-01</td>\n",
       "      <td>A04201</td>\n",
       "      <td>7.0</td>\n",
       "      <td>1325.00</td>\n",
       "      <td>-338.2819</td>\n",
       "      <td>0.0</td>\n",
       "      <td>0.00</td>\n",
       "      <td>0.0</td>\n",
       "      <td>0.0</td>\n",
       "      <td>0.0</td>\n",
       "      <td>0.0</td>\n",
       "      <td>0.0</td>\n",
       "      <td>VA0348</td>\n",
       "      <td>USA000768</td>\n",
       "      <td>2009-04-04</td>\n",
       "      <td>Wednesday</td>\n",
       "      <td>0.0</td>\n",
       "    </tr>\n",
       "    <tr>\n",
       "      <th>64145</th>\n",
       "      <td>2023-11-02</td>\n",
       "      <td>A04201</td>\n",
       "      <td>96.0</td>\n",
       "      <td>57845.00</td>\n",
       "      <td>-5762.8319</td>\n",
       "      <td>0.0</td>\n",
       "      <td>0.00</td>\n",
       "      <td>0.0</td>\n",
       "      <td>0.0</td>\n",
       "      <td>0.0</td>\n",
       "      <td>0.0</td>\n",
       "      <td>0.0</td>\n",
       "      <td>VA0348</td>\n",
       "      <td>USA000768</td>\n",
       "      <td>2009-04-04</td>\n",
       "      <td>Thursday</td>\n",
       "      <td>0.0</td>\n",
       "    </tr>\n",
       "    <tr>\n",
       "      <th>64146</th>\n",
       "      <td>2023-11-03</td>\n",
       "      <td>A04201</td>\n",
       "      <td>2.0</td>\n",
       "      <td>690.00</td>\n",
       "      <td>52928.6481</td>\n",
       "      <td>21.0</td>\n",
       "      <td>29312.19</td>\n",
       "      <td>0.0</td>\n",
       "      <td>0.0</td>\n",
       "      <td>0.0</td>\n",
       "      <td>0.0</td>\n",
       "      <td>0.0</td>\n",
       "      <td>VA0348</td>\n",
       "      <td>USA000768</td>\n",
       "      <td>2009-04-04</td>\n",
       "      <td>Friday</td>\n",
       "      <td>0.0</td>\n",
       "    </tr>\n",
       "    <tr>\n",
       "      <th>64147</th>\n",
       "      <td>2023-11-04</td>\n",
       "      <td>A04201</td>\n",
       "      <td>2.0</td>\n",
       "      <td>740.00</td>\n",
       "      <td>707.4581</td>\n",
       "      <td>0.0</td>\n",
       "      <td>0.00</td>\n",
       "      <td>0.0</td>\n",
       "      <td>0.0</td>\n",
       "      <td>0.0</td>\n",
       "      <td>0.0</td>\n",
       "      <td>0.0</td>\n",
       "      <td>VA0348</td>\n",
       "      <td>USA000768</td>\n",
       "      <td>2009-04-04</td>\n",
       "      <td>Saturday</td>\n",
       "      <td>0.0</td>\n",
       "    </tr>\n",
       "    <tr>\n",
       "      <th>64148</th>\n",
       "      <td>2023-11-05</td>\n",
       "      <td>A04201</td>\n",
       "      <td>123.0</td>\n",
       "      <td>61375.00</td>\n",
       "      <td>1463.4581</td>\n",
       "      <td>0.0</td>\n",
       "      <td>0.00</td>\n",
       "      <td>0.0</td>\n",
       "      <td>0.0</td>\n",
       "      <td>0.0</td>\n",
       "      <td>0.0</td>\n",
       "      <td>0.0</td>\n",
       "      <td>VA0348</td>\n",
       "      <td>USA000768</td>\n",
       "      <td>2009-04-04</td>\n",
       "      <td>Sunday</td>\n",
       "      <td>0.0</td>\n",
       "    </tr>\n",
       "    <tr>\n",
       "      <th>...</th>\n",
       "      <td>...</td>\n",
       "      <td>...</td>\n",
       "      <td>...</td>\n",
       "      <td>...</td>\n",
       "      <td>...</td>\n",
       "      <td>...</td>\n",
       "      <td>...</td>\n",
       "      <td>...</td>\n",
       "      <td>...</td>\n",
       "      <td>...</td>\n",
       "      <td>...</td>\n",
       "      <td>...</td>\n",
       "      <td>...</td>\n",
       "      <td>...</td>\n",
       "      <td>...</td>\n",
       "      <td>...</td>\n",
       "      <td>...</td>\n",
       "    </tr>\n",
       "    <tr>\n",
       "      <th>64234</th>\n",
       "      <td>2024-01-30</td>\n",
       "      <td>A04201</td>\n",
       "      <td>33.0</td>\n",
       "      <td>12968.00</td>\n",
       "      <td>3751.2011</td>\n",
       "      <td>0.0</td>\n",
       "      <td>0.00</td>\n",
       "      <td>0.0</td>\n",
       "      <td>0.0</td>\n",
       "      <td>0.0</td>\n",
       "      <td>0.0</td>\n",
       "      <td>0.0</td>\n",
       "      <td>VA0348</td>\n",
       "      <td>USA000768</td>\n",
       "      <td>2009-04-04</td>\n",
       "      <td>Tuesday</td>\n",
       "      <td>0.0</td>\n",
       "    </tr>\n",
       "    <tr>\n",
       "      <th>64235</th>\n",
       "      <td>2024-01-31</td>\n",
       "      <td>A04201</td>\n",
       "      <td>0.0</td>\n",
       "      <td>0.00</td>\n",
       "      <td>0.0000</td>\n",
       "      <td>0.0</td>\n",
       "      <td>0.00</td>\n",
       "      <td>0.0</td>\n",
       "      <td>0.0</td>\n",
       "      <td>0.0</td>\n",
       "      <td>0.0</td>\n",
       "      <td>0.0</td>\n",
       "      <td>VA0348</td>\n",
       "      <td>USA000768</td>\n",
       "      <td>2009-04-04</td>\n",
       "      <td>Wednesday</td>\n",
       "      <td>0.0</td>\n",
       "    </tr>\n",
       "    <tr>\n",
       "      <th>64236</th>\n",
       "      <td>2024-02-01</td>\n",
       "      <td>A04201</td>\n",
       "      <td>102.0</td>\n",
       "      <td>47286.73</td>\n",
       "      <td>0.2011</td>\n",
       "      <td>0.0</td>\n",
       "      <td>0.00</td>\n",
       "      <td>0.0</td>\n",
       "      <td>0.0</td>\n",
       "      <td>0.0</td>\n",
       "      <td>0.0</td>\n",
       "      <td>0.0</td>\n",
       "      <td>VA0348</td>\n",
       "      <td>USA000768</td>\n",
       "      <td>2009-04-04</td>\n",
       "      <td>Thursday</td>\n",
       "      <td>0.0</td>\n",
       "    </tr>\n",
       "    <tr>\n",
       "      <th>64237</th>\n",
       "      <td>2024-02-02</td>\n",
       "      <td>A04201</td>\n",
       "      <td>1.0</td>\n",
       "      <td>500.00</td>\n",
       "      <td>44507.7284</td>\n",
       "      <td>8.0</td>\n",
       "      <td>12225.76</td>\n",
       "      <td>0.0</td>\n",
       "      <td>0.0</td>\n",
       "      <td>0.0</td>\n",
       "      <td>0.0</td>\n",
       "      <td>0.0</td>\n",
       "      <td>VA0348</td>\n",
       "      <td>USA000768</td>\n",
       "      <td>2009-04-04</td>\n",
       "      <td>Friday</td>\n",
       "      <td>0.0</td>\n",
       "    </tr>\n",
       "    <tr>\n",
       "      <th>64238</th>\n",
       "      <td>2024-02-03</td>\n",
       "      <td>A04201</td>\n",
       "      <td>0.0</td>\n",
       "      <td>0.00</td>\n",
       "      <td>0.0000</td>\n",
       "      <td>0.0</td>\n",
       "      <td>0.00</td>\n",
       "      <td>0.0</td>\n",
       "      <td>0.0</td>\n",
       "      <td>0.0</td>\n",
       "      <td>0.0</td>\n",
       "      <td>0.0</td>\n",
       "      <td>VA0348</td>\n",
       "      <td>USA000768</td>\n",
       "      <td>2009-04-04</td>\n",
       "      <td>Saturday</td>\n",
       "      <td>0.0</td>\n",
       "    </tr>\n",
       "  </tbody>\n",
       "</table>\n",
       "<p>95 rows × 17 columns</p>\n",
       "</div>"
      ],
      "text/plain": [
       "             DATE ID_BRANCH     TX    AMOUNT     BALANCE  TX_check  \\\n",
       "64144  2023-11-01    A04201    7.0   1325.00   -338.2819       0.0   \n",
       "64145  2023-11-02    A04201   96.0  57845.00  -5762.8319       0.0   \n",
       "64146  2023-11-03    A04201    2.0    690.00  52928.6481      21.0   \n",
       "64147  2023-11-04    A04201    2.0    740.00    707.4581       0.0   \n",
       "64148  2023-11-05    A04201  123.0  61375.00   1463.4581       0.0   \n",
       "...           ...       ...    ...       ...         ...       ...   \n",
       "64234  2024-01-30    A04201   33.0  12968.00   3751.2011       0.0   \n",
       "64235  2024-01-31    A04201    0.0      0.00      0.0000       0.0   \n",
       "64236  2024-02-01    A04201  102.0  47286.73      0.2011       0.0   \n",
       "64237  2024-02-02    A04201    1.0    500.00  44507.7284       8.0   \n",
       "64238  2024-02-03    A04201    0.0      0.00      0.0000       0.0   \n",
       "\n",
       "       TOTAL_AMOUNT_check  TX_MO  TOTAL_AMOUNT_MO  DSO_DEPO_DAY  \\\n",
       "64144                0.00    0.0              0.0           0.0   \n",
       "64145                0.00    0.0              0.0           0.0   \n",
       "64146            29312.19    0.0              0.0           0.0   \n",
       "64147                0.00    0.0              0.0           0.0   \n",
       "64148                0.00    0.0              0.0           0.0   \n",
       "...                   ...    ...              ...           ...   \n",
       "64234                0.00    0.0              0.0           0.0   \n",
       "64235                0.00    0.0              0.0           0.0   \n",
       "64236                0.00    0.0              0.0           0.0   \n",
       "64237            12225.76    0.0              0.0           0.0   \n",
       "64238                0.00    0.0              0.0           0.0   \n",
       "\n",
       "       INACTIVE_DAYS  DEFAULT  AGENCY ID_GROUP_COMPANY  START_DATE  \\\n",
       "64144            0.0      0.0  VA0348        USA000768  2009-04-04   \n",
       "64145            0.0      0.0  VA0348        USA000768  2009-04-04   \n",
       "64146            0.0      0.0  VA0348        USA000768  2009-04-04   \n",
       "64147            0.0      0.0  VA0348        USA000768  2009-04-04   \n",
       "64148            0.0      0.0  VA0348        USA000768  2009-04-04   \n",
       "...              ...      ...     ...              ...         ...   \n",
       "64234            0.0      0.0  VA0348        USA000768  2009-04-04   \n",
       "64235            0.0      0.0  VA0348        USA000768  2009-04-04   \n",
       "64236            0.0      0.0  VA0348        USA000768  2009-04-04   \n",
       "64237            0.0      0.0  VA0348        USA000768  2009-04-04   \n",
       "64238            0.0      0.0  VA0348        USA000768  2009-04-04   \n",
       "\n",
       "      day_of_week  TARGET  \n",
       "64144   Wednesday     0.0  \n",
       "64145    Thursday     0.0  \n",
       "64146      Friday     0.0  \n",
       "64147    Saturday     0.0  \n",
       "64148      Sunday     0.0  \n",
       "...           ...     ...  \n",
       "64234     Tuesday     0.0  \n",
       "64235   Wednesday     0.0  \n",
       "64236    Thursday     0.0  \n",
       "64237      Friday     0.0  \n",
       "64238    Saturday     0.0  \n",
       "\n",
       "[95 rows x 17 columns]"
      ]
     },
     "execution_count": 43,
     "metadata": {},
     "output_type": "execute_result"
    }
   ],
   "source": [
    "A04201"
   ]
  },
  {
   "cell_type": "code",
   "execution_count": 44,
   "id": "8d3b6ab7-fe44-40cb-b746-ec05aa6627ee",
   "metadata": {
    "tags": []
   },
   "outputs": [],
   "source": [
    "A04201.to_csv('A04201.csv')"
   ]
  },
  {
   "cell_type": "code",
   "execution_count": 45,
   "id": "dcca3493-a76d-46fe-8f12-05f16b20a787",
   "metadata": {
    "tags": []
   },
   "outputs": [
    {
     "data": {
      "text/plain": [
       "(95, 17)"
      ]
     },
     "execution_count": 45,
     "metadata": {},
     "output_type": "execute_result"
    }
   ],
   "source": [
    "A01512 = te[te['ID_BRANCH']== 'A01512']\n",
    "A01512.shape"
   ]
  },
  {
   "cell_type": "code",
   "execution_count": 46,
   "id": "8bd69374-8af7-4841-85d8-d78d00207bd8",
   "metadata": {
    "tags": []
   },
   "outputs": [],
   "source": [
    "A01512.to_csv('A01512.csv')"
   ]
  },
  {
   "cell_type": "code",
   "execution_count": 49,
   "id": "d2d08cce-c8a9-4016-802a-130050ca824c",
   "metadata": {
    "tags": []
   },
   "outputs": [
    {
     "data": {
      "text/plain": [
       "(95, 17)"
      ]
     },
     "execution_count": 49,
     "metadata": {},
     "output_type": "execute_result"
    }
   ],
   "source": [
    "A02061 = te[te['ID_BRANCH']== 'A02061']\n",
    "A02061.shape"
   ]
  },
  {
   "cell_type": "code",
   "execution_count": 51,
   "id": "6a9ea8aa-6639-476c-8c4d-01a27ed62bd6",
   "metadata": {
    "tags": []
   },
   "outputs": [],
   "source": [
    "A02061.to_csv('A02061.csv')"
   ]
  },
  {
   "cell_type": "markdown",
   "id": "34f6efbf-7625-4eb0-ad2e-0cae76f164e8",
   "metadata": {},
   "source": [
    "# idem pero sumando variables pesadas para diagnostico"
   ]
  },
  {
   "cell_type": "code",
   "execution_count": 4,
   "id": "72539afd-5b1a-4623-aa9d-b1b05a5ca8f4",
   "metadata": {},
   "outputs": [],
   "source": [
    "df = pd.read_csv('default_ABT2.csv')"
   ]
  },
  {
   "cell_type": "code",
   "execution_count": 5,
   "id": "ba0bdf06-e635-429c-8919-c23e9cce8aac",
   "metadata": {
    "tags": []
   },
   "outputs": [],
   "source": [
    "df = df.fillna(0)"
   ]
  },
  {
   "cell_type": "code",
   "execution_count": 6,
   "id": "e22ee19e-6dc2-4cda-83bd-d74495b0a3d6",
   "metadata": {
    "tags": []
   },
   "outputs": [],
   "source": [
    "lista = ['DATE','ID_BRANCH','TX','BALANCE','TX_check','TOTAL_AMOUNT_check','DSO_DEPO_DAY','roll_max_30D_TX','roll_mean_30D_AMOUNT','roll_mean_30D_TX','roll_sum_30_TX','roll_sum_7_TX','ANTIGUEDAD_d']\n",
    "df = df[lista]"
   ]
  },
  {
   "cell_type": "code",
   "execution_count": 7,
   "id": "ffce46e0-855c-4c9f-b826-0f534ffac8b8",
   "metadata": {},
   "outputs": [],
   "source": [
    "te = df[df['DATE']> '2023-10-31']"
   ]
  },
  {
   "cell_type": "code",
   "execution_count": 7,
   "id": "33e21fb3-3510-47e6-a2f0-4c4a32c652c2",
   "metadata": {},
   "outputs": [
    {
     "data": {
      "text/html": [
       "<div>\n",
       "<style scoped>\n",
       "    .dataframe tbody tr th:only-of-type {\n",
       "        vertical-align: middle;\n",
       "    }\n",
       "\n",
       "    .dataframe tbody tr th {\n",
       "        vertical-align: top;\n",
       "    }\n",
       "\n",
       "    .dataframe thead th {\n",
       "        text-align: right;\n",
       "    }\n",
       "</style>\n",
       "<table border=\"1\" class=\"dataframe\">\n",
       "  <thead>\n",
       "    <tr style=\"text-align: right;\">\n",
       "      <th></th>\n",
       "      <th>DATE</th>\n",
       "      <th>ID_BRANCH</th>\n",
       "      <th>TX</th>\n",
       "      <th>BALANCE</th>\n",
       "      <th>TX_check</th>\n",
       "      <th>TOTAL_AMOUNT_check</th>\n",
       "      <th>DSO_DEPO_DAY</th>\n",
       "      <th>roll_max_30D_TX</th>\n",
       "      <th>roll_mean_30D_AMOUNT</th>\n",
       "      <th>roll_mean_30D_TX</th>\n",
       "      <th>roll_sum_30_TX</th>\n",
       "      <th>roll_sum_7_TX</th>\n",
       "      <th>ANTIGUEDAD_d</th>\n",
       "    </tr>\n",
       "  </thead>\n",
       "  <tbody>\n",
       "    <tr>\n",
       "      <th>304</th>\n",
       "      <td>2023-11-01</td>\n",
       "      <td>A00002</td>\n",
       "      <td>1.0</td>\n",
       "      <td>17816.1267</td>\n",
       "      <td>0.0</td>\n",
       "      <td>0.0</td>\n",
       "      <td>0.0</td>\n",
       "      <td>8.0</td>\n",
       "      <td>14.26</td>\n",
       "      <td>1.90</td>\n",
       "      <td>0.0</td>\n",
       "      <td>0.0</td>\n",
       "      <td>1856.0</td>\n",
       "    </tr>\n",
       "    <tr>\n",
       "      <th>305</th>\n",
       "      <td>2023-11-02</td>\n",
       "      <td>A00002</td>\n",
       "      <td>7.0</td>\n",
       "      <td>17924.2267</td>\n",
       "      <td>0.0</td>\n",
       "      <td>0.0</td>\n",
       "      <td>0.0</td>\n",
       "      <td>8.0</td>\n",
       "      <td>15.63</td>\n",
       "      <td>2.10</td>\n",
       "      <td>0.0</td>\n",
       "      <td>0.0</td>\n",
       "      <td>1857.0</td>\n",
       "    </tr>\n",
       "    <tr>\n",
       "      <th>306</th>\n",
       "      <td>2023-11-03</td>\n",
       "      <td>A00002</td>\n",
       "      <td>3.0</td>\n",
       "      <td>18006.2267</td>\n",
       "      <td>0.0</td>\n",
       "      <td>0.0</td>\n",
       "      <td>0.0</td>\n",
       "      <td>8.0</td>\n",
       "      <td>16.62</td>\n",
       "      <td>2.19</td>\n",
       "      <td>0.0</td>\n",
       "      <td>0.0</td>\n",
       "      <td>1858.0</td>\n",
       "    </tr>\n",
       "    <tr>\n",
       "      <th>307</th>\n",
       "      <td>2023-11-04</td>\n",
       "      <td>A00002</td>\n",
       "      <td>0.0</td>\n",
       "      <td>0.0000</td>\n",
       "      <td>0.0</td>\n",
       "      <td>0.0</td>\n",
       "      <td>0.0</td>\n",
       "      <td>8.0</td>\n",
       "      <td>15.90</td>\n",
       "      <td>2.10</td>\n",
       "      <td>0.0</td>\n",
       "      <td>0.0</td>\n",
       "      <td>1859.0</td>\n",
       "    </tr>\n",
       "    <tr>\n",
       "      <th>308</th>\n",
       "      <td>2023-11-05</td>\n",
       "      <td>A00002</td>\n",
       "      <td>0.0</td>\n",
       "      <td>0.0000</td>\n",
       "      <td>0.0</td>\n",
       "      <td>0.0</td>\n",
       "      <td>0.0</td>\n",
       "      <td>8.0</td>\n",
       "      <td>15.95</td>\n",
       "      <td>2.05</td>\n",
       "      <td>0.0</td>\n",
       "      <td>0.0</td>\n",
       "      <td>1860.0</td>\n",
       "    </tr>\n",
       "  </tbody>\n",
       "</table>\n",
       "</div>"
      ],
      "text/plain": [
       "           DATE ID_BRANCH   TX     BALANCE  TX_check  TOTAL_AMOUNT_check  \\\n",
       "304  2023-11-01    A00002  1.0  17816.1267       0.0                 0.0   \n",
       "305  2023-11-02    A00002  7.0  17924.2267       0.0                 0.0   \n",
       "306  2023-11-03    A00002  3.0  18006.2267       0.0                 0.0   \n",
       "307  2023-11-04    A00002  0.0      0.0000       0.0                 0.0   \n",
       "308  2023-11-05    A00002  0.0      0.0000       0.0                 0.0   \n",
       "\n",
       "     DSO_DEPO_DAY  roll_max_30D_TX  roll_mean_30D_AMOUNT  roll_mean_30D_TX  \\\n",
       "304           0.0              8.0                 14.26              1.90   \n",
       "305           0.0              8.0                 15.63              2.10   \n",
       "306           0.0              8.0                 16.62              2.19   \n",
       "307           0.0              8.0                 15.90              2.10   \n",
       "308           0.0              8.0                 15.95              2.05   \n",
       "\n",
       "     roll_sum_30_TX  roll_sum_7_TX  ANTIGUEDAD_d  \n",
       "304             0.0            0.0        1856.0  \n",
       "305             0.0            0.0        1857.0  \n",
       "306             0.0            0.0        1858.0  \n",
       "307             0.0            0.0        1859.0  \n",
       "308             0.0            0.0        1860.0  "
      ]
     },
     "execution_count": 7,
     "metadata": {},
     "output_type": "execute_result"
    }
   ],
   "source": [
    "te.head()"
   ]
  },
  {
   "cell_type": "code",
   "execution_count": 8,
   "id": "8ab10c69-cdf6-43dd-a431-2bebea5a11f9",
   "metadata": {},
   "outputs": [],
   "source": [
    "A04201 = te[te['ID_BRANCH']== 'A04201']"
   ]
  },
  {
   "cell_type": "code",
   "execution_count": 9,
   "id": "0873ac96-e830-46be-a3ac-6dc1243e375e",
   "metadata": {},
   "outputs": [
    {
     "data": {
      "text/html": [
       "<div>\n",
       "<style scoped>\n",
       "    .dataframe tbody tr th:only-of-type {\n",
       "        vertical-align: middle;\n",
       "    }\n",
       "\n",
       "    .dataframe tbody tr th {\n",
       "        vertical-align: top;\n",
       "    }\n",
       "\n",
       "    .dataframe thead th {\n",
       "        text-align: right;\n",
       "    }\n",
       "</style>\n",
       "<table border=\"1\" class=\"dataframe\">\n",
       "  <thead>\n",
       "    <tr style=\"text-align: right;\">\n",
       "      <th></th>\n",
       "      <th>DATE</th>\n",
       "      <th>ID_BRANCH</th>\n",
       "      <th>TX</th>\n",
       "      <th>BALANCE</th>\n",
       "      <th>TX_check</th>\n",
       "      <th>TOTAL_AMOUNT_check</th>\n",
       "      <th>DSO_DEPO_DAY</th>\n",
       "      <th>roll_max_30D_TX</th>\n",
       "      <th>roll_mean_30D_AMOUNT</th>\n",
       "      <th>roll_mean_30D_TX</th>\n",
       "      <th>roll_sum_30_TX</th>\n",
       "      <th>roll_sum_7_TX</th>\n",
       "      <th>ANTIGUEDAD_d</th>\n",
       "    </tr>\n",
       "  </thead>\n",
       "  <tbody>\n",
       "    <tr>\n",
       "      <th>64144</th>\n",
       "      <td>2023-11-01</td>\n",
       "      <td>A04201</td>\n",
       "      <td>7.0</td>\n",
       "      <td>-338.2819</td>\n",
       "      <td>0.0</td>\n",
       "      <td>0.00</td>\n",
       "      <td>0.0</td>\n",
       "      <td>296.0</td>\n",
       "      <td>29563.05</td>\n",
       "      <td>65.24</td>\n",
       "      <td>0.0</td>\n",
       "      <td>0.0</td>\n",
       "      <td>5324.0</td>\n",
       "    </tr>\n",
       "    <tr>\n",
       "      <th>64145</th>\n",
       "      <td>2023-11-02</td>\n",
       "      <td>A04201</td>\n",
       "      <td>96.0</td>\n",
       "      <td>-5762.8319</td>\n",
       "      <td>0.0</td>\n",
       "      <td>0.00</td>\n",
       "      <td>0.0</td>\n",
       "      <td>296.0</td>\n",
       "      <td>28432.77</td>\n",
       "      <td>63.48</td>\n",
       "      <td>0.0</td>\n",
       "      <td>0.0</td>\n",
       "      <td>5325.0</td>\n",
       "    </tr>\n",
       "    <tr>\n",
       "      <th>64146</th>\n",
       "      <td>2023-11-03</td>\n",
       "      <td>A04201</td>\n",
       "      <td>2.0</td>\n",
       "      <td>52928.6481</td>\n",
       "      <td>21.0</td>\n",
       "      <td>29312.19</td>\n",
       "      <td>0.0</td>\n",
       "      <td>296.0</td>\n",
       "      <td>28420.17</td>\n",
       "      <td>63.48</td>\n",
       "      <td>0.0</td>\n",
       "      <td>0.0</td>\n",
       "      <td>5326.0</td>\n",
       "    </tr>\n",
       "    <tr>\n",
       "      <th>64147</th>\n",
       "      <td>2023-11-04</td>\n",
       "      <td>A04201</td>\n",
       "      <td>2.0</td>\n",
       "      <td>707.4581</td>\n",
       "      <td>0.0</td>\n",
       "      <td>0.00</td>\n",
       "      <td>0.0</td>\n",
       "      <td>296.0</td>\n",
       "      <td>26521.24</td>\n",
       "      <td>60.20</td>\n",
       "      <td>0.0</td>\n",
       "      <td>0.0</td>\n",
       "      <td>5327.0</td>\n",
       "    </tr>\n",
       "    <tr>\n",
       "      <th>64148</th>\n",
       "      <td>2023-11-05</td>\n",
       "      <td>A04201</td>\n",
       "      <td>123.0</td>\n",
       "      <td>1463.4581</td>\n",
       "      <td>0.0</td>\n",
       "      <td>0.00</td>\n",
       "      <td>0.0</td>\n",
       "      <td>296.0</td>\n",
       "      <td>27861.77</td>\n",
       "      <td>62.62</td>\n",
       "      <td>0.0</td>\n",
       "      <td>0.0</td>\n",
       "      <td>5328.0</td>\n",
       "    </tr>\n",
       "    <tr>\n",
       "      <th>...</th>\n",
       "      <td>...</td>\n",
       "      <td>...</td>\n",
       "      <td>...</td>\n",
       "      <td>...</td>\n",
       "      <td>...</td>\n",
       "      <td>...</td>\n",
       "      <td>...</td>\n",
       "      <td>...</td>\n",
       "      <td>...</td>\n",
       "      <td>...</td>\n",
       "      <td>...</td>\n",
       "      <td>...</td>\n",
       "      <td>...</td>\n",
       "    </tr>\n",
       "    <tr>\n",
       "      <th>64234</th>\n",
       "      <td>2024-01-30</td>\n",
       "      <td>A04201</td>\n",
       "      <td>33.0</td>\n",
       "      <td>3751.2011</td>\n",
       "      <td>0.0</td>\n",
       "      <td>0.00</td>\n",
       "      <td>0.0</td>\n",
       "      <td>145.0</td>\n",
       "      <td>18794.99</td>\n",
       "      <td>35.14</td>\n",
       "      <td>0.0</td>\n",
       "      <td>0.0</td>\n",
       "      <td>5414.0</td>\n",
       "    </tr>\n",
       "    <tr>\n",
       "      <th>64235</th>\n",
       "      <td>2024-01-31</td>\n",
       "      <td>A04201</td>\n",
       "      <td>0.0</td>\n",
       "      <td>0.0000</td>\n",
       "      <td>0.0</td>\n",
       "      <td>0.00</td>\n",
       "      <td>0.0</td>\n",
       "      <td>145.0</td>\n",
       "      <td>18794.99</td>\n",
       "      <td>35.14</td>\n",
       "      <td>0.0</td>\n",
       "      <td>0.0</td>\n",
       "      <td>5415.0</td>\n",
       "    </tr>\n",
       "    <tr>\n",
       "      <th>64236</th>\n",
       "      <td>2024-02-01</td>\n",
       "      <td>A04201</td>\n",
       "      <td>102.0</td>\n",
       "      <td>0.2011</td>\n",
       "      <td>0.0</td>\n",
       "      <td>0.00</td>\n",
       "      <td>0.0</td>\n",
       "      <td>120.0</td>\n",
       "      <td>17206.16</td>\n",
       "      <td>33.18</td>\n",
       "      <td>0.0</td>\n",
       "      <td>0.0</td>\n",
       "      <td>5416.0</td>\n",
       "    </tr>\n",
       "    <tr>\n",
       "      <th>64237</th>\n",
       "      <td>2024-02-02</td>\n",
       "      <td>A04201</td>\n",
       "      <td>1.0</td>\n",
       "      <td>44507.7284</td>\n",
       "      <td>8.0</td>\n",
       "      <td>12225.76</td>\n",
       "      <td>0.0</td>\n",
       "      <td>120.0</td>\n",
       "      <td>16479.81</td>\n",
       "      <td>31.78</td>\n",
       "      <td>0.0</td>\n",
       "      <td>0.0</td>\n",
       "      <td>5417.0</td>\n",
       "    </tr>\n",
       "    <tr>\n",
       "      <th>64238</th>\n",
       "      <td>2024-02-03</td>\n",
       "      <td>A04201</td>\n",
       "      <td>0.0</td>\n",
       "      <td>0.0000</td>\n",
       "      <td>0.0</td>\n",
       "      <td>0.00</td>\n",
       "      <td>0.0</td>\n",
       "      <td>120.0</td>\n",
       "      <td>15163.97</td>\n",
       "      <td>29.59</td>\n",
       "      <td>0.0</td>\n",
       "      <td>0.0</td>\n",
       "      <td>5418.0</td>\n",
       "    </tr>\n",
       "  </tbody>\n",
       "</table>\n",
       "<p>95 rows × 13 columns</p>\n",
       "</div>"
      ],
      "text/plain": [
       "             DATE ID_BRANCH     TX     BALANCE  TX_check  TOTAL_AMOUNT_check  \\\n",
       "64144  2023-11-01    A04201    7.0   -338.2819       0.0                0.00   \n",
       "64145  2023-11-02    A04201   96.0  -5762.8319       0.0                0.00   \n",
       "64146  2023-11-03    A04201    2.0  52928.6481      21.0            29312.19   \n",
       "64147  2023-11-04    A04201    2.0    707.4581       0.0                0.00   \n",
       "64148  2023-11-05    A04201  123.0   1463.4581       0.0                0.00   \n",
       "...           ...       ...    ...         ...       ...                 ...   \n",
       "64234  2024-01-30    A04201   33.0   3751.2011       0.0                0.00   \n",
       "64235  2024-01-31    A04201    0.0      0.0000       0.0                0.00   \n",
       "64236  2024-02-01    A04201  102.0      0.2011       0.0                0.00   \n",
       "64237  2024-02-02    A04201    1.0  44507.7284       8.0            12225.76   \n",
       "64238  2024-02-03    A04201    0.0      0.0000       0.0                0.00   \n",
       "\n",
       "       DSO_DEPO_DAY  roll_max_30D_TX  roll_mean_30D_AMOUNT  roll_mean_30D_TX  \\\n",
       "64144           0.0            296.0              29563.05             65.24   \n",
       "64145           0.0            296.0              28432.77             63.48   \n",
       "64146           0.0            296.0              28420.17             63.48   \n",
       "64147           0.0            296.0              26521.24             60.20   \n",
       "64148           0.0            296.0              27861.77             62.62   \n",
       "...             ...              ...                   ...               ...   \n",
       "64234           0.0            145.0              18794.99             35.14   \n",
       "64235           0.0            145.0              18794.99             35.14   \n",
       "64236           0.0            120.0              17206.16             33.18   \n",
       "64237           0.0            120.0              16479.81             31.78   \n",
       "64238           0.0            120.0              15163.97             29.59   \n",
       "\n",
       "       roll_sum_30_TX  roll_sum_7_TX  ANTIGUEDAD_d  \n",
       "64144             0.0            0.0        5324.0  \n",
       "64145             0.0            0.0        5325.0  \n",
       "64146             0.0            0.0        5326.0  \n",
       "64147             0.0            0.0        5327.0  \n",
       "64148             0.0            0.0        5328.0  \n",
       "...               ...            ...           ...  \n",
       "64234             0.0            0.0        5414.0  \n",
       "64235             0.0            0.0        5415.0  \n",
       "64236             0.0            0.0        5416.0  \n",
       "64237             0.0            0.0        5417.0  \n",
       "64238             0.0            0.0        5418.0  \n",
       "\n",
       "[95 rows x 13 columns]"
      ]
     },
     "execution_count": 9,
     "metadata": {},
     "output_type": "execute_result"
    }
   ],
   "source": [
    "A04201"
   ]
  },
  {
   "cell_type": "code",
   "execution_count": 10,
   "id": "65ad38d0-bfe7-46c1-bc36-4f7af24df1c0",
   "metadata": {
    "tags": []
   },
   "outputs": [],
   "source": [
    "A04201.to_csv('A04201_extra.csv', index=False)"
   ]
  },
  {
   "cell_type": "code",
   "execution_count": 15,
   "id": "1b140524-448c-4185-abd5-ffc03e2509a9",
   "metadata": {
    "tags": []
   },
   "outputs": [
    {
     "data": {
      "text/plain": [
       "(95, 13)"
      ]
     },
     "execution_count": 15,
     "metadata": {},
     "output_type": "execute_result"
    }
   ],
   "source": [
    "A00806 = te[te['ID_BRANCH']== 'A00806']\n",
    "A00806.shape"
   ]
  },
  {
   "cell_type": "code",
   "execution_count": 16,
   "id": "2ad811b8-00fe-4ef1-840c-c31a6cb84220",
   "metadata": {
    "tags": []
   },
   "outputs": [],
   "source": [
    "A00806.to_csv('A00806_extra.csv', index=False)"
   ]
  },
  {
   "cell_type": "code",
   "execution_count": 13,
   "id": "7593bfa8-df74-4f8d-9662-ccce8024cfe0",
   "metadata": {
    "tags": []
   },
   "outputs": [
    {
     "data": {
      "text/plain": [
       "(95, 13)"
      ]
     },
     "execution_count": 13,
     "metadata": {},
     "output_type": "execute_result"
    }
   ],
   "source": [
    "A02061 = te[te['ID_BRANCH']== 'A02061']\n",
    "A02061.shape"
   ]
  },
  {
   "cell_type": "code",
   "execution_count": 14,
   "id": "1d7e6642-87e1-4f5d-a64d-169b5057c896",
   "metadata": {
    "tags": []
   },
   "outputs": [],
   "source": [
    "A02061.to_csv('A02061_extra.csv', index=False)"
   ]
  },
  {
   "cell_type": "markdown",
   "id": "1fde49a0-2679-4bef-ae81-bd765cf9ab96",
   "metadata": {},
   "source": [
    "## sumando un par más de agencias A05935 y A25765"
   ]
  },
  {
   "cell_type": "code",
   "execution_count": 8,
   "id": "fac73303-f796-4f41-a17d-d17008a1d558",
   "metadata": {
    "tags": []
   },
   "outputs": [
    {
     "data": {
      "text/plain": [
       "(95, 13)"
      ]
     },
     "execution_count": 8,
     "metadata": {},
     "output_type": "execute_result"
    }
   ],
   "source": [
    "A05935 = te[te['ID_BRANCH']== 'A05935']\n",
    "A05935.shape"
   ]
  },
  {
   "cell_type": "code",
   "execution_count": 9,
   "id": "870b428f-38c0-4bcf-a41e-4c68b980aafe",
   "metadata": {
    "tags": []
   },
   "outputs": [],
   "source": [
    "A05935.to_csv('A05935_extra.csv', index=False)"
   ]
  },
  {
   "cell_type": "code",
   "execution_count": 10,
   "id": "812970de-e1d1-41a0-8869-baab3758bbd4",
   "metadata": {
    "tags": []
   },
   "outputs": [
    {
     "data": {
      "text/plain": [
       "(95, 13)"
      ]
     },
     "execution_count": 10,
     "metadata": {},
     "output_type": "execute_result"
    }
   ],
   "source": [
    "A25765 = te[te['ID_BRANCH']== 'A25765']\n",
    "A25765.shape"
   ]
  },
  {
   "cell_type": "code",
   "execution_count": 11,
   "id": "e9ebe7f2-2f38-43af-8bd4-980619215c35",
   "metadata": {
    "tags": []
   },
   "outputs": [],
   "source": [
    "A25765.to_csv('A25765_extra.csv', index=False)"
   ]
  },
  {
   "cell_type": "code",
   "execution_count": null,
   "id": "60a3bfe0-2c40-4efd-888e-847ece129742",
   "metadata": {},
   "outputs": [],
   "source": []
  },
  {
   "cell_type": "code",
   "execution_count": null,
   "id": "4c91f22c-5b85-464c-9c41-c22d6671210b",
   "metadata": {},
   "outputs": [],
   "source": []
  },
  {
   "cell_type": "code",
   "execution_count": null,
   "id": "b2e59195-096c-4cb8-a1aa-92a17c2be9c8",
   "metadata": {},
   "outputs": [],
   "source": []
  },
  {
   "cell_type": "code",
   "execution_count": null,
   "id": "a61e3560-65e1-42c1-b3ba-70463756cadc",
   "metadata": {},
   "outputs": [],
   "source": []
  },
  {
   "cell_type": "markdown",
   "id": "0e06fbd7-3571-47d7-b8f5-1f10f0405092",
   "metadata": {},
   "source": [
    "# está roto MO?"
   ]
  },
  {
   "cell_type": "code",
   "execution_count": 14,
   "id": "80a34cd6-8876-4665-9d8b-27d566d4e224",
   "metadata": {
    "tags": []
   },
   "outputs": [],
   "source": [
    "mo = pd.read_csv('MO.csv')"
   ]
  },
  {
   "cell_type": "code",
   "execution_count": 15,
   "id": "56916484-4103-471e-9470-450b1712cce4",
   "metadata": {
    "tags": []
   },
   "outputs": [
    {
     "data": {
      "text/html": [
       "<div>\n",
       "<style scoped>\n",
       "    .dataframe tbody tr th:only-of-type {\n",
       "        vertical-align: middle;\n",
       "    }\n",
       "\n",
       "    .dataframe tbody tr th {\n",
       "        vertical-align: top;\n",
       "    }\n",
       "\n",
       "    .dataframe thead th {\n",
       "        text-align: right;\n",
       "    }\n",
       "</style>\n",
       "<table border=\"1\" class=\"dataframe\">\n",
       "  <thead>\n",
       "    <tr style=\"text-align: right;\">\n",
       "      <th></th>\n",
       "      <th>DATE</th>\n",
       "      <th>unique_senders</th>\n",
       "      <th>TX</th>\n",
       "      <th>TX_CANCELLED</th>\n",
       "      <th>TOTAL_AMOUNT</th>\n",
       "      <th>GP</th>\n",
       "      <th>state</th>\n",
       "      <th>id_chain</th>\n",
       "      <th>name_chain</th>\n",
       "      <th>id_location</th>\n",
       "      <th>name_location</th>\n",
       "      <th>id_branch</th>\n",
       "      <th>name_branch</th>\n",
       "      <th>kpr</th>\n",
       "      <th>LATITUD</th>\n",
       "      <th>LONGITUD</th>\n",
       "      <th>ZIP</th>\n",
       "      <th>id_agent</th>\n",
       "      <th>TYPE_PRODUCT</th>\n",
       "    </tr>\n",
       "  </thead>\n",
       "  <tbody>\n",
       "    <tr>\n",
       "      <th>0</th>\n",
       "      <td>2023-01-01</td>\n",
       "      <td>0</td>\n",
       "      <td>19</td>\n",
       "      <td>0</td>\n",
       "      <td>12057.27</td>\n",
       "      <td>7.41</td>\n",
       "      <td>MD</td>\n",
       "      <td>USA010063</td>\n",
       "      <td>CONTINENTAL EXPRESS LLC.</td>\n",
       "      <td>MD0881</td>\n",
       "      <td>CONTINENTAL EXPRESS (SILVER SPRING)</td>\n",
       "      <td>A18151</td>\n",
       "      <td>CONTINENTAL EXPRESS (SILVER SPRING)</td>\n",
       "      <td>KPR3</td>\n",
       "      <td>38.997934</td>\n",
       "      <td>-77.002871</td>\n",
       "      <td>20901</td>\n",
       "      <td>279</td>\n",
       "      <td>MONEY ORDERS</td>\n",
       "    </tr>\n",
       "    <tr>\n",
       "      <th>1</th>\n",
       "      <td>2023-01-01</td>\n",
       "      <td>0</td>\n",
       "      <td>2</td>\n",
       "      <td>0</td>\n",
       "      <td>735.00</td>\n",
       "      <td>0.78</td>\n",
       "      <td>IA</td>\n",
       "      <td>USA018548</td>\n",
       "      <td>LA TAPATIA (DES MOINES)</td>\n",
       "      <td>IA0049</td>\n",
       "      <td>LA TAPATIA (DES MOINES)</td>\n",
       "      <td>A22027</td>\n",
       "      <td>LA TAPATIA (DES MOINES)</td>\n",
       "      <td>KPR3</td>\n",
       "      <td>41.595685</td>\n",
       "      <td>-93.596378</td>\n",
       "      <td>50316</td>\n",
       "      <td>305</td>\n",
       "      <td>MONEY ORDERS</td>\n",
       "    </tr>\n",
       "    <tr>\n",
       "      <th>2</th>\n",
       "      <td>2023-01-01</td>\n",
       "      <td>0</td>\n",
       "      <td>63</td>\n",
       "      <td>0</td>\n",
       "      <td>45857.82</td>\n",
       "      <td>24.57</td>\n",
       "      <td>CA</td>\n",
       "      <td>USA017524</td>\n",
       "      <td>SALSA MARKET (CA)</td>\n",
       "      <td>CA3817</td>\n",
       "      <td>SALSA MARKET (CA)</td>\n",
       "      <td>A20556</td>\n",
       "      <td>SALSA MARKET (CA)</td>\n",
       "      <td>KPR3</td>\n",
       "      <td>33.214296</td>\n",
       "      <td>-117.245221</td>\n",
       "      <td>92083</td>\n",
       "      <td>270</td>\n",
       "      <td>MONEY ORDERS</td>\n",
       "    </tr>\n",
       "    <tr>\n",
       "      <th>3</th>\n",
       "      <td>2023-01-01</td>\n",
       "      <td>0</td>\n",
       "      <td>1</td>\n",
       "      <td>0</td>\n",
       "      <td>950.00</td>\n",
       "      <td>0.39</td>\n",
       "      <td>TX</td>\n",
       "      <td>USA019060</td>\n",
       "      <td>ENVIOS EXPRESS (GARLAND)</td>\n",
       "      <td>TX1252</td>\n",
       "      <td>ENVIOS EXPRESS (GARLAND)</td>\n",
       "      <td>A22788</td>\n",
       "      <td>ENVIOS EXPRESS (GARLAND)</td>\n",
       "      <td>KPR3</td>\n",
       "      <td>32.879092</td>\n",
       "      <td>-96.631672</td>\n",
       "      <td>75041</td>\n",
       "      <td>374</td>\n",
       "      <td>MONEY ORDERS</td>\n",
       "    </tr>\n",
       "    <tr>\n",
       "      <th>4</th>\n",
       "      <td>2023-01-01</td>\n",
       "      <td>0</td>\n",
       "      <td>1</td>\n",
       "      <td>0</td>\n",
       "      <td>625.00</td>\n",
       "      <td>0.39</td>\n",
       "      <td>MD</td>\n",
       "      <td>USA014807</td>\n",
       "      <td>MERCADO LATINO 2</td>\n",
       "      <td>MD0803</td>\n",
       "      <td>HERNANDEZ GROCERY STORE</td>\n",
       "      <td>A17199</td>\n",
       "      <td>HERNANDEZ GROCERY STORE (PC)</td>\n",
       "      <td>KPR3</td>\n",
       "      <td>38.774011</td>\n",
       "      <td>-76.070824</td>\n",
       "      <td>21601</td>\n",
       "      <td>279</td>\n",
       "      <td>MONEY ORDERS</td>\n",
       "    </tr>\n",
       "  </tbody>\n",
       "</table>\n",
       "</div>"
      ],
      "text/plain": [
       "         DATE  unique_senders  TX  TX_CANCELLED  TOTAL_AMOUNT     GP state  \\\n",
       "0  2023-01-01               0  19             0      12057.27   7.41    MD   \n",
       "1  2023-01-01               0   2             0        735.00   0.78    IA   \n",
       "2  2023-01-01               0  63             0      45857.82  24.57    CA   \n",
       "3  2023-01-01               0   1             0        950.00   0.39    TX   \n",
       "4  2023-01-01               0   1             0        625.00   0.39    MD   \n",
       "\n",
       "    id_chain                         name_chain id_location  \\\n",
       "0  USA010063           CONTINENTAL EXPRESS LLC.      MD0881   \n",
       "1  USA018548  LA TAPATIA (DES MOINES)                IA0049   \n",
       "2  USA017524                  SALSA MARKET (CA)      CA3817   \n",
       "3  USA019060           ENVIOS EXPRESS (GARLAND)      TX1252   \n",
       "4  USA014807                   MERCADO LATINO 2      MD0803   \n",
       "\n",
       "                         name_location id_branch  \\\n",
       "0  CONTINENTAL EXPRESS (SILVER SPRING)    A18151   \n",
       "1    LA TAPATIA (DES MOINES)              A22027   \n",
       "2                    SALSA MARKET (CA)    A20556   \n",
       "3             ENVIOS EXPRESS (GARLAND)    A22788   \n",
       "4             HERNANDEZ GROCERY STORE     A17199   \n",
       "\n",
       "                           name_branch   kpr    LATITUD    LONGITUD    ZIP  \\\n",
       "0  CONTINENTAL EXPRESS (SILVER SPRING)  KPR3  38.997934  -77.002871  20901   \n",
       "1    LA TAPATIA (DES MOINES)            KPR3  41.595685  -93.596378  50316   \n",
       "2                    SALSA MARKET (CA)  KPR3  33.214296 -117.245221  92083   \n",
       "3             ENVIOS EXPRESS (GARLAND)  KPR3  32.879092  -96.631672  75041   \n",
       "4         HERNANDEZ GROCERY STORE (PC)  KPR3  38.774011  -76.070824  21601   \n",
       "\n",
       "   id_agent  TYPE_PRODUCT  \n",
       "0       279  MONEY ORDERS  \n",
       "1       305  MONEY ORDERS  \n",
       "2       270  MONEY ORDERS  \n",
       "3       374  MONEY ORDERS  \n",
       "4       279  MONEY ORDERS  "
      ]
     },
     "execution_count": 15,
     "metadata": {},
     "output_type": "execute_result"
    }
   ],
   "source": [
    "mo.head()"
   ]
  },
  {
   "cell_type": "code",
   "execution_count": 16,
   "id": "346f0e34-7755-4dd2-b185-477cda69640d",
   "metadata": {
    "tags": []
   },
   "outputs": [],
   "source": [
    "A04201mo = mo[mo['id_branch']== 'A04201']"
   ]
  },
  {
   "cell_type": "code",
   "execution_count": 17,
   "id": "034ef1b5-435e-486d-8adf-788fedc4e366",
   "metadata": {
    "tags": []
   },
   "outputs": [
    {
     "data": {
      "text/html": [
       "<div>\n",
       "<style scoped>\n",
       "    .dataframe tbody tr th:only-of-type {\n",
       "        vertical-align: middle;\n",
       "    }\n",
       "\n",
       "    .dataframe tbody tr th {\n",
       "        vertical-align: top;\n",
       "    }\n",
       "\n",
       "    .dataframe thead th {\n",
       "        text-align: right;\n",
       "    }\n",
       "</style>\n",
       "<table border=\"1\" class=\"dataframe\">\n",
       "  <thead>\n",
       "    <tr style=\"text-align: right;\">\n",
       "      <th></th>\n",
       "      <th>DATE</th>\n",
       "      <th>unique_senders</th>\n",
       "      <th>TX</th>\n",
       "      <th>TX_CANCELLED</th>\n",
       "      <th>TOTAL_AMOUNT</th>\n",
       "      <th>GP</th>\n",
       "      <th>state</th>\n",
       "      <th>id_chain</th>\n",
       "      <th>name_chain</th>\n",
       "      <th>id_location</th>\n",
       "      <th>name_location</th>\n",
       "      <th>id_branch</th>\n",
       "      <th>name_branch</th>\n",
       "      <th>kpr</th>\n",
       "      <th>LATITUD</th>\n",
       "      <th>LONGITUD</th>\n",
       "      <th>ZIP</th>\n",
       "      <th>id_agent</th>\n",
       "      <th>TYPE_PRODUCT</th>\n",
       "    </tr>\n",
       "  </thead>\n",
       "  <tbody>\n",
       "  </tbody>\n",
       "</table>\n",
       "</div>"
      ],
      "text/plain": [
       "Empty DataFrame\n",
       "Columns: [DATE, unique_senders, TX, TX_CANCELLED, TOTAL_AMOUNT, GP, state, id_chain, name_chain, id_location, name_location, id_branch, name_branch, kpr, LATITUD, LONGITUD, ZIP, id_agent, TYPE_PRODUCT]\n",
       "Index: []"
      ]
     },
     "execution_count": 17,
     "metadata": {},
     "output_type": "execute_result"
    }
   ],
   "source": [
    "A04201mo"
   ]
  },
  {
   "cell_type": "code",
   "execution_count": 18,
   "id": "a69adb0a-64f1-4a48-a99d-a46bff8a4ae0",
   "metadata": {
    "tags": []
   },
   "outputs": [],
   "source": [
    "A01512mo = mo[mo['id_branch']== 'A01512']"
   ]
  },
  {
   "cell_type": "code",
   "execution_count": 19,
   "id": "6f757ecf-742c-4d56-bef6-2560b79dcd98",
   "metadata": {
    "tags": []
   },
   "outputs": [
    {
     "data": {
      "text/html": [
       "<div>\n",
       "<style scoped>\n",
       "    .dataframe tbody tr th:only-of-type {\n",
       "        vertical-align: middle;\n",
       "    }\n",
       "\n",
       "    .dataframe tbody tr th {\n",
       "        vertical-align: top;\n",
       "    }\n",
       "\n",
       "    .dataframe thead th {\n",
       "        text-align: right;\n",
       "    }\n",
       "</style>\n",
       "<table border=\"1\" class=\"dataframe\">\n",
       "  <thead>\n",
       "    <tr style=\"text-align: right;\">\n",
       "      <th></th>\n",
       "      <th>DATE</th>\n",
       "      <th>unique_senders</th>\n",
       "      <th>TX</th>\n",
       "      <th>TX_CANCELLED</th>\n",
       "      <th>TOTAL_AMOUNT</th>\n",
       "      <th>GP</th>\n",
       "      <th>state</th>\n",
       "      <th>id_chain</th>\n",
       "      <th>name_chain</th>\n",
       "      <th>id_location</th>\n",
       "      <th>name_location</th>\n",
       "      <th>id_branch</th>\n",
       "      <th>name_branch</th>\n",
       "      <th>kpr</th>\n",
       "      <th>LATITUD</th>\n",
       "      <th>LONGITUD</th>\n",
       "      <th>ZIP</th>\n",
       "      <th>id_agent</th>\n",
       "      <th>TYPE_PRODUCT</th>\n",
       "    </tr>\n",
       "  </thead>\n",
       "  <tbody>\n",
       "  </tbody>\n",
       "</table>\n",
       "</div>"
      ],
      "text/plain": [
       "Empty DataFrame\n",
       "Columns: [DATE, unique_senders, TX, TX_CANCELLED, TOTAL_AMOUNT, GP, state, id_chain, name_chain, id_location, name_location, id_branch, name_branch, kpr, LATITUD, LONGITUD, ZIP, id_agent, TYPE_PRODUCT]\n",
       "Index: []"
      ]
     },
     "execution_count": 19,
     "metadata": {},
     "output_type": "execute_result"
    }
   ],
   "source": [
    "A01512mo"
   ]
  },
  {
   "cell_type": "code",
   "execution_count": 20,
   "id": "8d30bd02-1eb4-4105-bac4-1deff6e0e49b",
   "metadata": {
    "tags": []
   },
   "outputs": [],
   "source": [
    "A00806mo = mo[mo['id_branch']== 'A00806']"
   ]
  },
  {
   "cell_type": "code",
   "execution_count": 21,
   "id": "26c4d71f-7ae7-418e-9d71-dd82a3ca145a",
   "metadata": {
    "tags": []
   },
   "outputs": [
    {
     "data": {
      "text/html": [
       "<div>\n",
       "<style scoped>\n",
       "    .dataframe tbody tr th:only-of-type {\n",
       "        vertical-align: middle;\n",
       "    }\n",
       "\n",
       "    .dataframe tbody tr th {\n",
       "        vertical-align: top;\n",
       "    }\n",
       "\n",
       "    .dataframe thead th {\n",
       "        text-align: right;\n",
       "    }\n",
       "</style>\n",
       "<table border=\"1\" class=\"dataframe\">\n",
       "  <thead>\n",
       "    <tr style=\"text-align: right;\">\n",
       "      <th></th>\n",
       "      <th>DATE</th>\n",
       "      <th>unique_senders</th>\n",
       "      <th>TX</th>\n",
       "      <th>TX_CANCELLED</th>\n",
       "      <th>TOTAL_AMOUNT</th>\n",
       "      <th>GP</th>\n",
       "      <th>state</th>\n",
       "      <th>id_chain</th>\n",
       "      <th>name_chain</th>\n",
       "      <th>id_location</th>\n",
       "      <th>name_location</th>\n",
       "      <th>id_branch</th>\n",
       "      <th>name_branch</th>\n",
       "      <th>kpr</th>\n",
       "      <th>LATITUD</th>\n",
       "      <th>LONGITUD</th>\n",
       "      <th>ZIP</th>\n",
       "      <th>id_agent</th>\n",
       "      <th>TYPE_PRODUCT</th>\n",
       "    </tr>\n",
       "  </thead>\n",
       "  <tbody>\n",
       "  </tbody>\n",
       "</table>\n",
       "</div>"
      ],
      "text/plain": [
       "Empty DataFrame\n",
       "Columns: [DATE, unique_senders, TX, TX_CANCELLED, TOTAL_AMOUNT, GP, state, id_chain, name_chain, id_location, name_location, id_branch, name_branch, kpr, LATITUD, LONGITUD, ZIP, id_agent, TYPE_PRODUCT]\n",
       "Index: []"
      ]
     },
     "execution_count": 21,
     "metadata": {},
     "output_type": "execute_result"
    }
   ],
   "source": [
    "A00806mo"
   ]
  },
  {
   "cell_type": "markdown",
   "id": "cda61366-d42a-4a5b-b09f-aa227319fc03",
   "metadata": {},
   "source": [
    "## querry actualizada es diferente?"
   ]
  },
  {
   "cell_type": "code",
   "execution_count": 22,
   "id": "39301b7d-4a6e-4d60-ad84-7234e6f44f43",
   "metadata": {
    "tags": []
   },
   "outputs": [
    {
     "name": "stdout",
     "output_type": "stream",
     "text": [
      "Collecting awswrangler\n",
      "  Using cached awswrangler-3.9.1-py3-none-any.whl.metadata (17 kB)\n",
      "Requirement already satisfied: boto3<2.0.0,>=1.20.32 in /opt/conda/lib/python3.10/site-packages (from awswrangler) (1.34.84)\n",
      "Requirement already satisfied: botocore<2.0.0,>=1.23.32 in /opt/conda/lib/python3.10/site-packages (from awswrangler) (1.34.84)\n",
      "Requirement already satisfied: numpy<2.0,>=1.18 in /opt/conda/lib/python3.10/site-packages (from awswrangler) (1.26.4)\n",
      "Requirement already satisfied: packaging<25.0,>=21.1 in /opt/conda/lib/python3.10/site-packages (from awswrangler) (23.2)\n",
      "Requirement already satisfied: pandas<3.0.0,>=1.2.0 in /opt/conda/lib/python3.10/site-packages (from awswrangler) (2.2.2)\n",
      "Requirement already satisfied: pyarrow>=8.0.0 in /opt/conda/lib/python3.10/site-packages (from awswrangler) (15.0.2)\n",
      "Requirement already satisfied: typing-extensions<5.0.0,>=4.4.0 in /opt/conda/lib/python3.10/site-packages (from awswrangler) (4.11.0)\n",
      "Requirement already satisfied: jmespath<2.0.0,>=0.7.1 in /opt/conda/lib/python3.10/site-packages (from boto3<2.0.0,>=1.20.32->awswrangler) (1.0.1)\n",
      "Requirement already satisfied: s3transfer<0.11.0,>=0.10.0 in /opt/conda/lib/python3.10/site-packages (from boto3<2.0.0,>=1.20.32->awswrangler) (0.10.1)\n",
      "Requirement already satisfied: python-dateutil<3.0.0,>=2.1 in /opt/conda/lib/python3.10/site-packages (from botocore<2.0.0,>=1.23.32->awswrangler) (2.9.0)\n",
      "Requirement already satisfied: urllib3!=2.2.0,<3,>=1.25.4 in /opt/conda/lib/python3.10/site-packages (from botocore<2.0.0,>=1.23.32->awswrangler) (2.2.1)\n",
      "Requirement already satisfied: pytz>=2020.1 in /opt/conda/lib/python3.10/site-packages (from pandas<3.0.0,>=1.2.0->awswrangler) (2024.1)\n",
      "Requirement already satisfied: tzdata>=2022.7 in /opt/conda/lib/python3.10/site-packages (from pandas<3.0.0,>=1.2.0->awswrangler) (2024.1)\n",
      "Requirement already satisfied: six>=1.5 in /opt/conda/lib/python3.10/site-packages (from python-dateutil<3.0.0,>=2.1->botocore<2.0.0,>=1.23.32->awswrangler) (1.16.0)\n",
      "Using cached awswrangler-3.9.1-py3-none-any.whl (381 kB)\n",
      "Installing collected packages: awswrangler\n",
      "Successfully installed awswrangler-3.9.1\n",
      "\u001b[33mWARNING: Running pip as the 'root' user can result in broken permissions and conflicting behaviour with the system package manager. It is recommended to use a virtual environment instead: https://pip.pypa.io/warnings/venv\u001b[0m\u001b[33m\n",
      "\u001b[0mNote: you may need to restart the kernel to use updated packages.\n"
     ]
    }
   ],
   "source": [
    "pip install awswrangler"
   ]
  },
  {
   "cell_type": "code",
   "execution_count": 23,
   "id": "a829576a-4e04-46b4-a9c1-6981a4a5fd58",
   "metadata": {
    "tags": []
   },
   "outputs": [
    {
     "name": "stdout",
     "output_type": "stream",
     "text": [
      "Collecting PyAthena\n",
      "  Using cached pyathena-3.9.0-py3-none-any.whl.metadata (6.3 kB)\n",
      "Requirement already satisfied: boto3>=1.26.4 in /opt/conda/lib/python3.10/site-packages (from PyAthena) (1.34.84)\n",
      "Requirement already satisfied: botocore>=1.29.4 in /opt/conda/lib/python3.10/site-packages (from PyAthena) (1.34.84)\n",
      "Requirement already satisfied: fsspec in /opt/conda/lib/python3.10/site-packages (from PyAthena) (2024.3.1)\n",
      "Requirement already satisfied: python-dateutil in /opt/conda/lib/python3.10/site-packages (from PyAthena) (2.9.0)\n",
      "Requirement already satisfied: tenacity>=4.1.0 in /opt/conda/lib/python3.10/site-packages (from PyAthena) (8.2.3)\n",
      "Requirement already satisfied: jmespath<2.0.0,>=0.7.1 in /opt/conda/lib/python3.10/site-packages (from boto3>=1.26.4->PyAthena) (1.0.1)\n",
      "Requirement already satisfied: s3transfer<0.11.0,>=0.10.0 in /opt/conda/lib/python3.10/site-packages (from boto3>=1.26.4->PyAthena) (0.10.1)\n",
      "Requirement already satisfied: urllib3!=2.2.0,<3,>=1.25.4 in /opt/conda/lib/python3.10/site-packages (from botocore>=1.29.4->PyAthena) (2.2.1)\n",
      "Requirement already satisfied: six>=1.5 in /opt/conda/lib/python3.10/site-packages (from python-dateutil->PyAthena) (1.16.0)\n",
      "Using cached pyathena-3.9.0-py3-none-any.whl (75 kB)\n",
      "Installing collected packages: PyAthena\n",
      "Successfully installed PyAthena-3.9.0\n",
      "\u001b[33mWARNING: Running pip as the 'root' user can result in broken permissions and conflicting behaviour with the system package manager. It is recommended to use a virtual environment instead: https://pip.pypa.io/warnings/venv\u001b[0m\u001b[33m\n",
      "\u001b[0m"
     ]
    }
   ],
   "source": [
    "import sys\n",
    "!{sys.executable} -m pip install PyAthena"
   ]
  },
  {
   "cell_type": "code",
   "execution_count": 24,
   "id": "572a0b5a-1946-4474-8e53-f6eb05842845",
   "metadata": {
    "tags": []
   },
   "outputs": [],
   "source": [
    "from pyathena import connect"
   ]
  },
  {
   "cell_type": "code",
   "execution_count": 25,
   "id": "df4f2e8a-aa02-4754-9f29-21e13f433809",
   "metadata": {
    "tags": []
   },
   "outputs": [
    {
     "name": "stderr",
     "output_type": "stream",
     "text": [
      "/tmp/ipykernel_22/3330182756.py:8: UserWarning: pandas only supports SQLAlchemy connectable (engine/connection) or database string URI or sqlite3 DBAPI2 connection. Other DBAPI2 objects are not tested. Please consider using SQLAlchemy.\n",
      "  mo = pd.read_sql('''SELECT\n"
     ]
    }
   ],
   "source": [
    "# DB Setting\n",
    "bucket_name = 's3://viamericas-datalake-dev-us-east-1-283731589572-athena/'\n",
    "\n",
    "#Connection\n",
    "conn = connect(s3_staging_dir=f'{bucket_name}queryresults/',\n",
    "               region_name='us-east-1')\n",
    "\n",
    "mo = pd.read_sql('''SELECT\n",
    "   CAST(DATE_FORMAT(a.TRANSACTION_DATE, '%Y-%m-%d') AS DATE) AS DATE,\n",
    "   COUNT(DISTINCT a.ID_MONEYORDERS_SALES) AS TX_MO,\n",
    "   SUM(a.AMOUNT) AS TOTAL_AMOUNT_MO,\n",
    "   r.id_branch as ID_BRANCH\n",
    "FROM\n",
    "   AwsDataCatalog.viamericas.vcw_moneyorders_sales a\n",
    "   LEFT JOIN AwsDataCatalog.viamericas.branch b ON b.ID_BRANCH = a.id_branch\n",
    "   LEFT JOIN AwsDataCatalog.viamericas.branch_agent f ON f.id_branch =b.id_branch\n",
    "   LEFT JOIN AwsDataCatalog.viamericas.chain g ON g.id_chain =b.id_chain\n",
    "   LEFT JOIN AwsDataCatalog.viamericas.BUDGET_LOCATIONS_INCLUDED h ON h.id_location =b.id_location\n",
    "   LEFT JOIN AwsDataCatalog.analytics.location_branch_reference r ON r.id_branch = b.id_branch\n",
    "WHERE\n",
    "   NOT (b.ID_MAIN_BRANCH LIKE 'M%')\n",
    "   AND NOT (a.id_branch LIKE 'T%')\n",
    "   AND b.id_flag_branch = 'A'\n",
    "   AND DATE_FORMAT(TRANSACTION_DATE, '%Y-%m') > '2022-12' AND DATE_FORMAT(TRANSACTION_DATE, '%Y-%m') < '2024-02' \n",
    "   AND  NOT r.id_location = 'NULL'\n",
    "   AND b.name_branch not like '%DUMMY%'\n",
    " GROUP BY\n",
    "   CAST(DATE_FORMAT(a.TRANSACTION_DATE, '%Y-%m-%d') AS DATE),\n",
    "   r.id_branch\n",
    "  ORDER BY \n",
    "   DATE;''', conn)"
   ]
  },
  {
   "cell_type": "code",
   "execution_count": null,
   "id": "f5b6f52b-edae-41d7-aca2-17e7b177a336",
   "metadata": {},
   "outputs": [],
   "source": []
  },
  {
   "cell_type": "code",
   "execution_count": 34,
   "id": "1154df2b-dd7f-4ef2-b2b9-92ab5fde6c79",
   "metadata": {
    "tags": []
   },
   "outputs": [
    {
     "data": {
      "text/html": [
       "<div>\n",
       "<style scoped>\n",
       "    .dataframe tbody tr th:only-of-type {\n",
       "        vertical-align: middle;\n",
       "    }\n",
       "\n",
       "    .dataframe tbody tr th {\n",
       "        vertical-align: top;\n",
       "    }\n",
       "\n",
       "    .dataframe thead th {\n",
       "        text-align: right;\n",
       "    }\n",
       "</style>\n",
       "<table border=\"1\" class=\"dataframe\">\n",
       "  <thead>\n",
       "    <tr style=\"text-align: right;\">\n",
       "      <th></th>\n",
       "      <th>DATE</th>\n",
       "      <th>TX_MO</th>\n",
       "      <th>TOTAL_AMOUNT_MO</th>\n",
       "      <th>ID_BRANCH</th>\n",
       "    </tr>\n",
       "  </thead>\n",
       "  <tbody>\n",
       "    <tr>\n",
       "      <th>138573</th>\n",
       "      <td>2024-01-31</td>\n",
       "      <td>2</td>\n",
       "      <td>1600.00</td>\n",
       "      <td>A24329</td>\n",
       "    </tr>\n",
       "    <tr>\n",
       "      <th>138574</th>\n",
       "      <td>2024-01-31</td>\n",
       "      <td>13</td>\n",
       "      <td>9487.45</td>\n",
       "      <td>A19003</td>\n",
       "    </tr>\n",
       "    <tr>\n",
       "      <th>138575</th>\n",
       "      <td>2024-01-31</td>\n",
       "      <td>14</td>\n",
       "      <td>5555.00</td>\n",
       "      <td>A19343</td>\n",
       "    </tr>\n",
       "    <tr>\n",
       "      <th>138576</th>\n",
       "      <td>2024-01-31</td>\n",
       "      <td>6</td>\n",
       "      <td>2755.00</td>\n",
       "      <td>A17101</td>\n",
       "    </tr>\n",
       "    <tr>\n",
       "      <th>138577</th>\n",
       "      <td>2024-01-31</td>\n",
       "      <td>4</td>\n",
       "      <td>2801.00</td>\n",
       "      <td>A22616</td>\n",
       "    </tr>\n",
       "  </tbody>\n",
       "</table>\n",
       "</div>"
      ],
      "text/plain": [
       "              DATE  TX_MO  TOTAL_AMOUNT_MO ID_BRANCH\n",
       "138573  2024-01-31      2          1600.00    A24329\n",
       "138574  2024-01-31     13          9487.45    A19003\n",
       "138575  2024-01-31     14          5555.00    A19343\n",
       "138576  2024-01-31      6          2755.00    A17101\n",
       "138577  2024-01-31      4          2801.00    A22616"
      ]
     },
     "execution_count": 34,
     "metadata": {},
     "output_type": "execute_result"
    }
   ],
   "source": [
    "mo.tail()"
   ]
  },
  {
   "cell_type": "code",
   "execution_count": 28,
   "id": "4af50d24-9862-40c3-8864-1d55dff0093b",
   "metadata": {
    "tags": []
   },
   "outputs": [],
   "source": [
    "A04201mo = mo[mo['ID_BRANCH']== 'A04201']"
   ]
  },
  {
   "cell_type": "code",
   "execution_count": 29,
   "id": "c84ec2df-d66b-41ca-9440-f84d5294f0f0",
   "metadata": {
    "tags": []
   },
   "outputs": [
    {
     "data": {
      "text/html": [
       "<div>\n",
       "<style scoped>\n",
       "    .dataframe tbody tr th:only-of-type {\n",
       "        vertical-align: middle;\n",
       "    }\n",
       "\n",
       "    .dataframe tbody tr th {\n",
       "        vertical-align: top;\n",
       "    }\n",
       "\n",
       "    .dataframe thead th {\n",
       "        text-align: right;\n",
       "    }\n",
       "</style>\n",
       "<table border=\"1\" class=\"dataframe\">\n",
       "  <thead>\n",
       "    <tr style=\"text-align: right;\">\n",
       "      <th></th>\n",
       "      <th>DATE</th>\n",
       "      <th>TX_MO</th>\n",
       "      <th>TOTAL_AMOUNT_MO</th>\n",
       "      <th>ID_BRANCH</th>\n",
       "    </tr>\n",
       "  </thead>\n",
       "  <tbody>\n",
       "  </tbody>\n",
       "</table>\n",
       "</div>"
      ],
      "text/plain": [
       "Empty DataFrame\n",
       "Columns: [DATE, TX_MO, TOTAL_AMOUNT_MO, ID_BRANCH]\n",
       "Index: []"
      ]
     },
     "execution_count": 29,
     "metadata": {},
     "output_type": "execute_result"
    }
   ],
   "source": [
    "A04201mo"
   ]
  },
  {
   "cell_type": "code",
   "execution_count": 30,
   "id": "188f3222-a9c0-40c5-94e9-06c970ef01c9",
   "metadata": {
    "tags": []
   },
   "outputs": [],
   "source": [
    "A01512mo = mo[mo['ID_BRANCH']== 'A01512']"
   ]
  },
  {
   "cell_type": "code",
   "execution_count": 33,
   "id": "780542e0-354c-46dd-a354-cfa6322a979b",
   "metadata": {
    "tags": []
   },
   "outputs": [
    {
     "data": {
      "text/html": [
       "<div>\n",
       "<style scoped>\n",
       "    .dataframe tbody tr th:only-of-type {\n",
       "        vertical-align: middle;\n",
       "    }\n",
       "\n",
       "    .dataframe tbody tr th {\n",
       "        vertical-align: top;\n",
       "    }\n",
       "\n",
       "    .dataframe thead th {\n",
       "        text-align: right;\n",
       "    }\n",
       "</style>\n",
       "<table border=\"1\" class=\"dataframe\">\n",
       "  <thead>\n",
       "    <tr style=\"text-align: right;\">\n",
       "      <th></th>\n",
       "      <th>DATE</th>\n",
       "      <th>TX_MO</th>\n",
       "      <th>TOTAL_AMOUNT_MO</th>\n",
       "      <th>ID_BRANCH</th>\n",
       "    </tr>\n",
       "  </thead>\n",
       "  <tbody>\n",
       "  </tbody>\n",
       "</table>\n",
       "</div>"
      ],
      "text/plain": [
       "Empty DataFrame\n",
       "Columns: [DATE, TX_MO, TOTAL_AMOUNT_MO, ID_BRANCH]\n",
       "Index: []"
      ]
     },
     "execution_count": 33,
     "metadata": {},
     "output_type": "execute_result"
    }
   ],
   "source": [
    "A01512mo"
   ]
  },
  {
   "cell_type": "code",
   "execution_count": 31,
   "id": "1063da39-4359-421c-8e6c-a66e157a055b",
   "metadata": {
    "tags": []
   },
   "outputs": [],
   "source": [
    "A00806mo = mo[mo['ID_BRANCH']== 'A00806']"
   ]
  },
  {
   "cell_type": "code",
   "execution_count": 32,
   "id": "061a1120-8eb5-4ff2-999f-b674bec24d65",
   "metadata": {
    "tags": []
   },
   "outputs": [
    {
     "data": {
      "text/html": [
       "<div>\n",
       "<style scoped>\n",
       "    .dataframe tbody tr th:only-of-type {\n",
       "        vertical-align: middle;\n",
       "    }\n",
       "\n",
       "    .dataframe tbody tr th {\n",
       "        vertical-align: top;\n",
       "    }\n",
       "\n",
       "    .dataframe thead th {\n",
       "        text-align: right;\n",
       "    }\n",
       "</style>\n",
       "<table border=\"1\" class=\"dataframe\">\n",
       "  <thead>\n",
       "    <tr style=\"text-align: right;\">\n",
       "      <th></th>\n",
       "      <th>DATE</th>\n",
       "      <th>TX_MO</th>\n",
       "      <th>TOTAL_AMOUNT_MO</th>\n",
       "      <th>ID_BRANCH</th>\n",
       "    </tr>\n",
       "  </thead>\n",
       "  <tbody>\n",
       "  </tbody>\n",
       "</table>\n",
       "</div>"
      ],
      "text/plain": [
       "Empty DataFrame\n",
       "Columns: [DATE, TX_MO, TOTAL_AMOUNT_MO, ID_BRANCH]\n",
       "Index: []"
      ]
     },
     "execution_count": 32,
     "metadata": {},
     "output_type": "execute_result"
    }
   ],
   "source": [
    "A00806mo"
   ]
  },
  {
   "cell_type": "code",
   "execution_count": 35,
   "id": "b5f8c88c-894c-4790-81ca-4d5cae2ec670",
   "metadata": {
    "tags": []
   },
   "outputs": [
    {
     "data": {
      "text/plain": [
       "array([ nan,  12.,  11.,   9.,   4.,   5.,   2.,   1.,   6.,   3.,   8.,\n",
       "        10.,  15.,  19.,  14.,   7.,  13.,  16.,  17.,  20.,  18.,  96.,\n",
       "       148., 131., 112.,  24.,  31.,  26.,  21.,  23.,  28.,  32.,  64.,\n",
       "        72.,  61., 113., 125.,  95.,  41.,  29.,  25.,  30.,  52.,  55.,\n",
       "        75.,  58., 106., 129.,  90.,  45.,  44.,  80., 116., 108.,  22.,\n",
       "        27.,  37.,  86.,  81.,  82., 139.,  48.,  34.,  92.,  98.,  35.,\n",
       "        54.,  79.,  65.,  59., 126.,  36.,  97., 163., 130.,  38.,  42.,\n",
       "        63., 111., 187.,  33.,  77., 149., 110., 103.,  49., 135., 120.,\n",
       "        91., 158., 132., 124., 136., 145., 114., 133., 100.,  51.,  83.,\n",
       "       319.,  94.,  46.,  87.,  68.,  53.,  57.,  69., 119.,  62.,  66.,\n",
       "       107.,  84.,  76.,  43., 137.,  40.,  74.,  85.,  56.,  89.,  47.,\n",
       "       128., 122.,  78., 165., 153., 134., 118., 117., 157., 138., 121.,\n",
       "       164., 154.,  88.,  93.,  71.,  99., 101., 102.,  60.,  73., 105.,\n",
       "        50., 144., 142., 123., 115., 167., 169., 146., 141.,  67., 174.,\n",
       "       127., 109., 104., 155., 161., 177., 185., 183., 143.,  39.,  70.,\n",
       "       188., 313., 170., 240., 198., 160., 346., 420., 247., 202., 325.,\n",
       "       176., 253., 353., 311., 197., 299., 238., 231., 283., 271., 341.,\n",
       "       180., 387., 220., 257., 272., 262., 290., 166., 171., 159., 147.,\n",
       "       196., 244., 150., 230., 182., 203., 261., 212., 221., 260., 168.,\n",
       "       186., 288., 218., 246., 152., 191., 254., 179., 222., 215., 184.,\n",
       "       200., 216., 193., 206., 214., 156., 223., 213., 175., 178., 201.,\n",
       "       234., 219., 207., 291., 297., 419., 318., 282., 393.])"
      ]
     },
     "execution_count": 35,
     "metadata": {},
     "output_type": "execute_result"
    }
   ],
   "source": [
    "df['TX_MO'].unique()"
   ]
  },
  {
   "cell_type": "code",
   "execution_count": 36,
   "id": "69da82db-541a-46fa-926d-86db10aa0ddb",
   "metadata": {
    "tags": []
   },
   "outputs": [
    {
     "data": {
      "text/plain": [
       "array([    nan, 6746.61, 4830.27, ..., 9697.85, 4903.88, 1127.06])"
      ]
     },
     "execution_count": 36,
     "metadata": {},
     "output_type": "execute_result"
    }
   ],
   "source": [
    "df['TOTAL_AMOUNT_MO'].unique()"
   ]
  },
  {
   "cell_type": "code",
   "execution_count": null,
   "id": "10c464e4-3e90-48e8-bb5b-c7cfb647a459",
   "metadata": {},
   "outputs": [],
   "source": []
  },
  {
   "cell_type": "code",
   "execution_count": null,
   "id": "b94a3341-a2a7-479f-8281-7db2e7c2c7a6",
   "metadata": {},
   "outputs": [],
   "source": []
  },
  {
   "cell_type": "code",
   "execution_count": null,
   "id": "f69efc6a-acb7-43f1-9047-e2e7b26156a0",
   "metadata": {},
   "outputs": [],
   "source": []
  },
  {
   "cell_type": "code",
   "execution_count": null,
   "id": "40b68d9d-9c58-45d6-8170-4c81e9391f11",
   "metadata": {},
   "outputs": [],
   "source": []
  },
  {
   "cell_type": "code",
   "execution_count": null,
   "id": "731e3dfa-3bec-45d8-b68b-23abedfb6a17",
   "metadata": {},
   "outputs": [],
   "source": []
  },
  {
   "cell_type": "code",
   "execution_count": null,
   "id": "a234ea39-b396-4488-a78c-7663a19a5417",
   "metadata": {},
   "outputs": [],
   "source": []
  },
  {
   "cell_type": "code",
   "execution_count": null,
   "id": "3cc4f83d-c002-4000-98c0-84d7a0ef8730",
   "metadata": {},
   "outputs": [],
   "source": []
  },
  {
   "cell_type": "code",
   "execution_count": null,
   "id": "7ad764e2-b2b1-4622-9646-3e10a1662808",
   "metadata": {},
   "outputs": [],
   "source": []
  },
  {
   "cell_type": "code",
   "execution_count": null,
   "id": "b4987078-9b60-4553-a3d7-b75a15f51567",
   "metadata": {},
   "outputs": [],
   "source": []
  },
  {
   "cell_type": "code",
   "execution_count": null,
   "id": "6509a66c-75d1-40ef-bef7-64814009f0ab",
   "metadata": {},
   "outputs": [],
   "source": []
  }
 ],
 "metadata": {
  "availableInstances": [
   {
    "_defaultOrder": 0,
    "_isFastLaunch": true,
    "category": "General purpose",
    "gpuNum": 0,
    "hideHardwareSpecs": false,
    "memoryGiB": 4,
    "name": "ml.t3.medium",
    "vcpuNum": 2
   },
   {
    "_defaultOrder": 1,
    "_isFastLaunch": false,
    "category": "General purpose",
    "gpuNum": 0,
    "hideHardwareSpecs": false,
    "memoryGiB": 8,
    "name": "ml.t3.large",
    "vcpuNum": 2
   },
   {
    "_defaultOrder": 2,
    "_isFastLaunch": false,
    "category": "General purpose",
    "gpuNum": 0,
    "hideHardwareSpecs": false,
    "memoryGiB": 16,
    "name": "ml.t3.xlarge",
    "vcpuNum": 4
   },
   {
    "_defaultOrder": 3,
    "_isFastLaunch": false,
    "category": "General purpose",
    "gpuNum": 0,
    "hideHardwareSpecs": false,
    "memoryGiB": 32,
    "name": "ml.t3.2xlarge",
    "vcpuNum": 8
   },
   {
    "_defaultOrder": 4,
    "_isFastLaunch": true,
    "category": "General purpose",
    "gpuNum": 0,
    "hideHardwareSpecs": false,
    "memoryGiB": 8,
    "name": "ml.m5.large",
    "vcpuNum": 2
   },
   {
    "_defaultOrder": 5,
    "_isFastLaunch": false,
    "category": "General purpose",
    "gpuNum": 0,
    "hideHardwareSpecs": false,
    "memoryGiB": 16,
    "name": "ml.m5.xlarge",
    "vcpuNum": 4
   },
   {
    "_defaultOrder": 6,
    "_isFastLaunch": false,
    "category": "General purpose",
    "gpuNum": 0,
    "hideHardwareSpecs": false,
    "memoryGiB": 32,
    "name": "ml.m5.2xlarge",
    "vcpuNum": 8
   },
   {
    "_defaultOrder": 7,
    "_isFastLaunch": false,
    "category": "General purpose",
    "gpuNum": 0,
    "hideHardwareSpecs": false,
    "memoryGiB": 64,
    "name": "ml.m5.4xlarge",
    "vcpuNum": 16
   },
   {
    "_defaultOrder": 8,
    "_isFastLaunch": false,
    "category": "General purpose",
    "gpuNum": 0,
    "hideHardwareSpecs": false,
    "memoryGiB": 128,
    "name": "ml.m5.8xlarge",
    "vcpuNum": 32
   },
   {
    "_defaultOrder": 9,
    "_isFastLaunch": false,
    "category": "General purpose",
    "gpuNum": 0,
    "hideHardwareSpecs": false,
    "memoryGiB": 192,
    "name": "ml.m5.12xlarge",
    "vcpuNum": 48
   },
   {
    "_defaultOrder": 10,
    "_isFastLaunch": false,
    "category": "General purpose",
    "gpuNum": 0,
    "hideHardwareSpecs": false,
    "memoryGiB": 256,
    "name": "ml.m5.16xlarge",
    "vcpuNum": 64
   },
   {
    "_defaultOrder": 11,
    "_isFastLaunch": false,
    "category": "General purpose",
    "gpuNum": 0,
    "hideHardwareSpecs": false,
    "memoryGiB": 384,
    "name": "ml.m5.24xlarge",
    "vcpuNum": 96
   },
   {
    "_defaultOrder": 12,
    "_isFastLaunch": false,
    "category": "General purpose",
    "gpuNum": 0,
    "hideHardwareSpecs": false,
    "memoryGiB": 8,
    "name": "ml.m5d.large",
    "vcpuNum": 2
   },
   {
    "_defaultOrder": 13,
    "_isFastLaunch": false,
    "category": "General purpose",
    "gpuNum": 0,
    "hideHardwareSpecs": false,
    "memoryGiB": 16,
    "name": "ml.m5d.xlarge",
    "vcpuNum": 4
   },
   {
    "_defaultOrder": 14,
    "_isFastLaunch": false,
    "category": "General purpose",
    "gpuNum": 0,
    "hideHardwareSpecs": false,
    "memoryGiB": 32,
    "name": "ml.m5d.2xlarge",
    "vcpuNum": 8
   },
   {
    "_defaultOrder": 15,
    "_isFastLaunch": false,
    "category": "General purpose",
    "gpuNum": 0,
    "hideHardwareSpecs": false,
    "memoryGiB": 64,
    "name": "ml.m5d.4xlarge",
    "vcpuNum": 16
   },
   {
    "_defaultOrder": 16,
    "_isFastLaunch": false,
    "category": "General purpose",
    "gpuNum": 0,
    "hideHardwareSpecs": false,
    "memoryGiB": 128,
    "name": "ml.m5d.8xlarge",
    "vcpuNum": 32
   },
   {
    "_defaultOrder": 17,
    "_isFastLaunch": false,
    "category": "General purpose",
    "gpuNum": 0,
    "hideHardwareSpecs": false,
    "memoryGiB": 192,
    "name": "ml.m5d.12xlarge",
    "vcpuNum": 48
   },
   {
    "_defaultOrder": 18,
    "_isFastLaunch": false,
    "category": "General purpose",
    "gpuNum": 0,
    "hideHardwareSpecs": false,
    "memoryGiB": 256,
    "name": "ml.m5d.16xlarge",
    "vcpuNum": 64
   },
   {
    "_defaultOrder": 19,
    "_isFastLaunch": false,
    "category": "General purpose",
    "gpuNum": 0,
    "hideHardwareSpecs": false,
    "memoryGiB": 384,
    "name": "ml.m5d.24xlarge",
    "vcpuNum": 96
   },
   {
    "_defaultOrder": 20,
    "_isFastLaunch": false,
    "category": "General purpose",
    "gpuNum": 0,
    "hideHardwareSpecs": true,
    "memoryGiB": 0,
    "name": "ml.geospatial.interactive",
    "supportedImageNames": [
     "sagemaker-geospatial-v1-0"
    ],
    "vcpuNum": 0
   },
   {
    "_defaultOrder": 21,
    "_isFastLaunch": true,
    "category": "Compute optimized",
    "gpuNum": 0,
    "hideHardwareSpecs": false,
    "memoryGiB": 4,
    "name": "ml.c5.large",
    "vcpuNum": 2
   },
   {
    "_defaultOrder": 22,
    "_isFastLaunch": false,
    "category": "Compute optimized",
    "gpuNum": 0,
    "hideHardwareSpecs": false,
    "memoryGiB": 8,
    "name": "ml.c5.xlarge",
    "vcpuNum": 4
   },
   {
    "_defaultOrder": 23,
    "_isFastLaunch": false,
    "category": "Compute optimized",
    "gpuNum": 0,
    "hideHardwareSpecs": false,
    "memoryGiB": 16,
    "name": "ml.c5.2xlarge",
    "vcpuNum": 8
   },
   {
    "_defaultOrder": 24,
    "_isFastLaunch": false,
    "category": "Compute optimized",
    "gpuNum": 0,
    "hideHardwareSpecs": false,
    "memoryGiB": 32,
    "name": "ml.c5.4xlarge",
    "vcpuNum": 16
   },
   {
    "_defaultOrder": 25,
    "_isFastLaunch": false,
    "category": "Compute optimized",
    "gpuNum": 0,
    "hideHardwareSpecs": false,
    "memoryGiB": 72,
    "name": "ml.c5.9xlarge",
    "vcpuNum": 36
   },
   {
    "_defaultOrder": 26,
    "_isFastLaunch": false,
    "category": "Compute optimized",
    "gpuNum": 0,
    "hideHardwareSpecs": false,
    "memoryGiB": 96,
    "name": "ml.c5.12xlarge",
    "vcpuNum": 48
   },
   {
    "_defaultOrder": 27,
    "_isFastLaunch": false,
    "category": "Compute optimized",
    "gpuNum": 0,
    "hideHardwareSpecs": false,
    "memoryGiB": 144,
    "name": "ml.c5.18xlarge",
    "vcpuNum": 72
   },
   {
    "_defaultOrder": 28,
    "_isFastLaunch": false,
    "category": "Compute optimized",
    "gpuNum": 0,
    "hideHardwareSpecs": false,
    "memoryGiB": 192,
    "name": "ml.c5.24xlarge",
    "vcpuNum": 96
   },
   {
    "_defaultOrder": 29,
    "_isFastLaunch": true,
    "category": "Accelerated computing",
    "gpuNum": 1,
    "hideHardwareSpecs": false,
    "memoryGiB": 16,
    "name": "ml.g4dn.xlarge",
    "vcpuNum": 4
   },
   {
    "_defaultOrder": 30,
    "_isFastLaunch": false,
    "category": "Accelerated computing",
    "gpuNum": 1,
    "hideHardwareSpecs": false,
    "memoryGiB": 32,
    "name": "ml.g4dn.2xlarge",
    "vcpuNum": 8
   },
   {
    "_defaultOrder": 31,
    "_isFastLaunch": false,
    "category": "Accelerated computing",
    "gpuNum": 1,
    "hideHardwareSpecs": false,
    "memoryGiB": 64,
    "name": "ml.g4dn.4xlarge",
    "vcpuNum": 16
   },
   {
    "_defaultOrder": 32,
    "_isFastLaunch": false,
    "category": "Accelerated computing",
    "gpuNum": 1,
    "hideHardwareSpecs": false,
    "memoryGiB": 128,
    "name": "ml.g4dn.8xlarge",
    "vcpuNum": 32
   },
   {
    "_defaultOrder": 33,
    "_isFastLaunch": false,
    "category": "Accelerated computing",
    "gpuNum": 4,
    "hideHardwareSpecs": false,
    "memoryGiB": 192,
    "name": "ml.g4dn.12xlarge",
    "vcpuNum": 48
   },
   {
    "_defaultOrder": 34,
    "_isFastLaunch": false,
    "category": "Accelerated computing",
    "gpuNum": 1,
    "hideHardwareSpecs": false,
    "memoryGiB": 256,
    "name": "ml.g4dn.16xlarge",
    "vcpuNum": 64
   },
   {
    "_defaultOrder": 35,
    "_isFastLaunch": false,
    "category": "Accelerated computing",
    "gpuNum": 1,
    "hideHardwareSpecs": false,
    "memoryGiB": 61,
    "name": "ml.p3.2xlarge",
    "vcpuNum": 8
   },
   {
    "_defaultOrder": 36,
    "_isFastLaunch": false,
    "category": "Accelerated computing",
    "gpuNum": 4,
    "hideHardwareSpecs": false,
    "memoryGiB": 244,
    "name": "ml.p3.8xlarge",
    "vcpuNum": 32
   },
   {
    "_defaultOrder": 37,
    "_isFastLaunch": false,
    "category": "Accelerated computing",
    "gpuNum": 8,
    "hideHardwareSpecs": false,
    "memoryGiB": 488,
    "name": "ml.p3.16xlarge",
    "vcpuNum": 64
   },
   {
    "_defaultOrder": 38,
    "_isFastLaunch": false,
    "category": "Accelerated computing",
    "gpuNum": 8,
    "hideHardwareSpecs": false,
    "memoryGiB": 768,
    "name": "ml.p3dn.24xlarge",
    "vcpuNum": 96
   },
   {
    "_defaultOrder": 39,
    "_isFastLaunch": false,
    "category": "Memory Optimized",
    "gpuNum": 0,
    "hideHardwareSpecs": false,
    "memoryGiB": 16,
    "name": "ml.r5.large",
    "vcpuNum": 2
   },
   {
    "_defaultOrder": 40,
    "_isFastLaunch": false,
    "category": "Memory Optimized",
    "gpuNum": 0,
    "hideHardwareSpecs": false,
    "memoryGiB": 32,
    "name": "ml.r5.xlarge",
    "vcpuNum": 4
   },
   {
    "_defaultOrder": 41,
    "_isFastLaunch": false,
    "category": "Memory Optimized",
    "gpuNum": 0,
    "hideHardwareSpecs": false,
    "memoryGiB": 64,
    "name": "ml.r5.2xlarge",
    "vcpuNum": 8
   },
   {
    "_defaultOrder": 42,
    "_isFastLaunch": false,
    "category": "Memory Optimized",
    "gpuNum": 0,
    "hideHardwareSpecs": false,
    "memoryGiB": 128,
    "name": "ml.r5.4xlarge",
    "vcpuNum": 16
   },
   {
    "_defaultOrder": 43,
    "_isFastLaunch": false,
    "category": "Memory Optimized",
    "gpuNum": 0,
    "hideHardwareSpecs": false,
    "memoryGiB": 256,
    "name": "ml.r5.8xlarge",
    "vcpuNum": 32
   },
   {
    "_defaultOrder": 44,
    "_isFastLaunch": false,
    "category": "Memory Optimized",
    "gpuNum": 0,
    "hideHardwareSpecs": false,
    "memoryGiB": 384,
    "name": "ml.r5.12xlarge",
    "vcpuNum": 48
   },
   {
    "_defaultOrder": 45,
    "_isFastLaunch": false,
    "category": "Memory Optimized",
    "gpuNum": 0,
    "hideHardwareSpecs": false,
    "memoryGiB": 512,
    "name": "ml.r5.16xlarge",
    "vcpuNum": 64
   },
   {
    "_defaultOrder": 46,
    "_isFastLaunch": false,
    "category": "Memory Optimized",
    "gpuNum": 0,
    "hideHardwareSpecs": false,
    "memoryGiB": 768,
    "name": "ml.r5.24xlarge",
    "vcpuNum": 96
   },
   {
    "_defaultOrder": 47,
    "_isFastLaunch": false,
    "category": "Accelerated computing",
    "gpuNum": 1,
    "hideHardwareSpecs": false,
    "memoryGiB": 16,
    "name": "ml.g5.xlarge",
    "vcpuNum": 4
   },
   {
    "_defaultOrder": 48,
    "_isFastLaunch": false,
    "category": "Accelerated computing",
    "gpuNum": 1,
    "hideHardwareSpecs": false,
    "memoryGiB": 32,
    "name": "ml.g5.2xlarge",
    "vcpuNum": 8
   },
   {
    "_defaultOrder": 49,
    "_isFastLaunch": false,
    "category": "Accelerated computing",
    "gpuNum": 1,
    "hideHardwareSpecs": false,
    "memoryGiB": 64,
    "name": "ml.g5.4xlarge",
    "vcpuNum": 16
   },
   {
    "_defaultOrder": 50,
    "_isFastLaunch": false,
    "category": "Accelerated computing",
    "gpuNum": 1,
    "hideHardwareSpecs": false,
    "memoryGiB": 128,
    "name": "ml.g5.8xlarge",
    "vcpuNum": 32
   },
   {
    "_defaultOrder": 51,
    "_isFastLaunch": false,
    "category": "Accelerated computing",
    "gpuNum": 1,
    "hideHardwareSpecs": false,
    "memoryGiB": 256,
    "name": "ml.g5.16xlarge",
    "vcpuNum": 64
   },
   {
    "_defaultOrder": 52,
    "_isFastLaunch": false,
    "category": "Accelerated computing",
    "gpuNum": 4,
    "hideHardwareSpecs": false,
    "memoryGiB": 192,
    "name": "ml.g5.12xlarge",
    "vcpuNum": 48
   },
   {
    "_defaultOrder": 53,
    "_isFastLaunch": false,
    "category": "Accelerated computing",
    "gpuNum": 4,
    "hideHardwareSpecs": false,
    "memoryGiB": 384,
    "name": "ml.g5.24xlarge",
    "vcpuNum": 96
   },
   {
    "_defaultOrder": 54,
    "_isFastLaunch": false,
    "category": "Accelerated computing",
    "gpuNum": 8,
    "hideHardwareSpecs": false,
    "memoryGiB": 768,
    "name": "ml.g5.48xlarge",
    "vcpuNum": 192
   },
   {
    "_defaultOrder": 55,
    "_isFastLaunch": false,
    "category": "Accelerated computing",
    "gpuNum": 8,
    "hideHardwareSpecs": false,
    "memoryGiB": 1152,
    "name": "ml.p4d.24xlarge",
    "vcpuNum": 96
   },
   {
    "_defaultOrder": 56,
    "_isFastLaunch": false,
    "category": "Accelerated computing",
    "gpuNum": 8,
    "hideHardwareSpecs": false,
    "memoryGiB": 1152,
    "name": "ml.p4de.24xlarge",
    "vcpuNum": 96
   },
   {
    "_defaultOrder": 57,
    "_isFastLaunch": false,
    "category": "Accelerated computing",
    "gpuNum": 0,
    "hideHardwareSpecs": false,
    "memoryGiB": 32,
    "name": "ml.trn1.2xlarge",
    "vcpuNum": 8
   },
   {
    "_defaultOrder": 58,
    "_isFastLaunch": false,
    "category": "Accelerated computing",
    "gpuNum": 0,
    "hideHardwareSpecs": false,
    "memoryGiB": 512,
    "name": "ml.trn1.32xlarge",
    "vcpuNum": 128
   },
   {
    "_defaultOrder": 59,
    "_isFastLaunch": false,
    "category": "Accelerated computing",
    "gpuNum": 0,
    "hideHardwareSpecs": false,
    "memoryGiB": 512,
    "name": "ml.trn1n.32xlarge",
    "vcpuNum": 128
   }
  ],
  "instance_type": "ml.g4dn.xlarge",
  "kernelspec": {
   "display_name": "Python 3 (Data Science 3.0)",
   "language": "python",
   "name": "python3__SAGEMAKER_INTERNAL__arn:aws:sagemaker:us-east-1:081325390199:image/sagemaker-data-science-310-v1"
  },
  "language_info": {
   "codemirror_mode": {
    "name": "ipython",
    "version": 3
   },
   "file_extension": ".py",
   "mimetype": "text/x-python",
   "name": "python",
   "nbconvert_exporter": "python",
   "pygments_lexer": "ipython3",
   "version": "3.10.6"
  }
 },
 "nbformat": 4,
 "nbformat_minor": 5
}
