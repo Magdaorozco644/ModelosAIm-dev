{
 "cells": [
  {
   "cell_type": "markdown",
   "id": "27fc22e5-2df3-449a-bb84-2dd92467e00e",
   "metadata": {},
   "source": [
    "# Model Default"
   ]
  },
  {
   "cell_type": "markdown",
   "id": "d7efe84f-f248-4b53-8fe8-ef486cc73775",
   "metadata": {
    "tags": []
   },
   "source": [
    "## Correlaciones"
   ]
  },
  {
   "cell_type": "code",
   "execution_count": 2,
   "id": "2bb62e0e-ba42-43a3-81e7-367b25a4b972",
   "metadata": {
    "tags": []
   },
   "outputs": [],
   "source": [
    "import pandas as pd\n",
    "import numpy as np\n",
    "from sklearn.preprocessing import StandardScaler"
   ]
  },
  {
   "cell_type": "code",
   "execution_count": 3,
   "id": "0cbd8437-e713-4cab-823d-db983bc21947",
   "metadata": {
    "tags": []
   },
   "outputs": [],
   "source": [
    "df = pd.read_csv('default_ABT2.csv')"
   ]
  },
  {
   "cell_type": "code",
   "execution_count": 4,
   "id": "b22a95bb-e07f-4141-8a08-664058675446",
   "metadata": {
    "tags": []
   },
   "outputs": [],
   "source": [
    "df = df.fillna(0)"
   ]
  },
  {
   "cell_type": "raw",
   "id": "0a9b4cd3-3254-446b-a2b7-f3129e915f8b",
   "metadata": {
    "tags": []
   },
   "source": [
    "cols = pd.DataFrame(df.columns)\n",
    "cols"
   ]
  },
  {
   "cell_type": "code",
   "execution_count": 5,
   "id": "29c86fc9-d440-43d4-ac51-be38b179b20f",
   "metadata": {
    "tags": []
   },
   "outputs": [
    {
     "name": "stdout",
     "output_type": "stream",
     "text": [
      "<class 'pandas.core.frame.DataFrame'>\n",
      "RangeIndex: 2844073 entries, 0 to 2844072\n",
      "Columns: 106 entries, DATE to ANTIGUEDAD_d\n",
      "dtypes: float64(100), object(6)\n",
      "memory usage: 2.2+ GB\n"
     ]
    }
   ],
   "source": [
    "df.info(show_counts = True)"
   ]
  },
  {
   "cell_type": "code",
   "execution_count": 6,
   "id": "40f8b046-e414-4781-9bd6-02a29f683a42",
   "metadata": {
    "tags": []
   },
   "outputs": [],
   "source": [
    "#test droping roll_sum_60_DEFAULT\n",
    "df = df.drop(['roll_sum_60_DEFAULT','roll_max_30D_DEFAULT','roll_sum_30_DEFAULT','roll_mean_30D_DEFAULT','roll_sum_7_DEFAULT','roll_max_7D_DEFAULT','roll_mean_7D_DEFAULT','lag_7_DEFAULT'], axis =1)"
   ]
  },
  {
   "cell_type": "code",
   "execution_count": 7,
   "id": "539a90d8-bacf-4a68-855c-43a4dfee49b5",
   "metadata": {
    "tags": []
   },
   "outputs": [],
   "source": [
    "#drop default e inactive days\n",
    "df = df.drop(['DEFAULT','INACTIVE_DAYS'], axis =1)"
   ]
  },
  {
   "cell_type": "code",
   "execution_count": 37,
   "id": "f2247ad2-db2f-48aa-8be6-fdafd8ba29b7",
   "metadata": {
    "tags": []
   },
   "outputs": [],
   "source": [
    "tr = df[df['DATE']< '2023-11-01']\n",
    "te = df[df['DATE']> '2023-10-31']"
   ]
  },
  {
   "cell_type": "code",
   "execution_count": 38,
   "id": "7dcd50c7-dcf6-4c8a-a83d-8ec4eceb9c7f",
   "metadata": {
    "tags": []
   },
   "outputs": [
    {
     "data": {
      "text/plain": [
       "'2023-10-31'"
      ]
     },
     "execution_count": 38,
     "metadata": {},
     "output_type": "execute_result"
    }
   ],
   "source": [
    "tr['DATE'].max()"
   ]
  },
  {
   "cell_type": "code",
   "execution_count": 39,
   "id": "a4535767-d0cb-4617-990f-6955773d7ada",
   "metadata": {
    "tags": []
   },
   "outputs": [
    {
     "data": {
      "text/plain": [
       "'2023-11-01'"
      ]
     },
     "execution_count": 39,
     "metadata": {},
     "output_type": "execute_result"
    }
   ],
   "source": [
    "te['DATE'].min()"
   ]
  },
  {
   "cell_type": "code",
   "execution_count": 40,
   "id": "afe33fc1-5d73-4d59-a5d9-0b47815a6014",
   "metadata": {
    "tags": []
   },
   "outputs": [],
   "source": [
    "tr= tr.select_dtypes(['number'])\n",
    "te = te.select_dtypes(['number'])"
   ]
  },
  {
   "cell_type": "code",
   "execution_count": 41,
   "id": "b7bd8d24-17f8-4dbf-86c7-79e30a44fb6e",
   "metadata": {
    "tags": []
   },
   "outputs": [],
   "source": [
    "#separar en train y test, nov, dic y ene\n",
    "X_train = tr.drop([\"TARGET\"], axis=1)\n",
    "y_train = tr.TARGET\n",
    "X_test = te.drop([\"TARGET\"], axis=1)\n",
    "y_test = te.TARGET"
   ]
  },
  {
   "cell_type": "code",
   "execution_count": 42,
   "id": "6cad95af-c04a-4421-8d4e-157921f72e1d",
   "metadata": {
    "tags": []
   },
   "outputs": [],
   "source": [
    "sttr=  StandardScaler().fit_transform(X_train)\n",
    "stte=  StandardScaler().fit_transform(X_test)"
   ]
  },
  {
   "cell_type": "code",
   "execution_count": 43,
   "id": "636c8b9f-16af-4e3f-acc1-abec8222cf31",
   "metadata": {
    "tags": []
   },
   "outputs": [],
   "source": [
    "X_train= pd.DataFrame(data = sttr, columns = X_train.columns, index = X_train.index)\n",
    "X_test  = pd.DataFrame(data = stte, columns = X_test.columns, index = X_test.index)"
   ]
  },
  {
   "cell_type": "code",
   "execution_count": 15,
   "id": "07097659-b24f-48b9-b62a-879c2bdc85e7",
   "metadata": {
    "tags": []
   },
   "outputs": [],
   "source": [
    "# feature engineering\n",
    "from sklearn.feature_selection import f_classif\n",
    "from sklearn.preprocessing import StandardScaler\n"
   ]
  },
  {
   "cell_type": "code",
   "execution_count": 14,
   "id": "d95b8ccd-9d4d-47f2-b6a5-1a7a1d8b4d47",
   "metadata": {
    "tags": []
   },
   "outputs": [
    {
     "data": {
      "text/html": [
       "<div>\n",
       "<style scoped>\n",
       "    .dataframe tbody tr th:only-of-type {\n",
       "        vertical-align: middle;\n",
       "    }\n",
       "\n",
       "    .dataframe tbody tr th {\n",
       "        vertical-align: top;\n",
       "    }\n",
       "\n",
       "    .dataframe thead th {\n",
       "        text-align: right;\n",
       "    }\n",
       "</style>\n",
       "<table border=\"1\" class=\"dataframe\">\n",
       "  <thead>\n",
       "    <tr style=\"text-align: right;\">\n",
       "      <th></th>\n",
       "      <th>features</th>\n",
       "      <th>score</th>\n",
       "    </tr>\n",
       "  </thead>\n",
       "  <tbody>\n",
       "    <tr>\n",
       "      <th>97</th>\n",
       "      <td>roll_sum_60_DEFAULT</td>\n",
       "      <td>7774.494212</td>\n",
       "    </tr>\n",
       "    <tr>\n",
       "      <th>41</th>\n",
       "      <td>roll_max_30D_DEFAULT</td>\n",
       "      <td>6980.173535</td>\n",
       "    </tr>\n",
       "    <tr>\n",
       "      <th>89</th>\n",
       "      <td>roll_sum_30_DEFAULT</td>\n",
       "      <td>6673.870829</td>\n",
       "    </tr>\n",
       "    <tr>\n",
       "      <th>17</th>\n",
       "      <td>roll_mean_30D_DEFAULT</td>\n",
       "      <td>5524.691588</td>\n",
       "    </tr>\n",
       "    <tr>\n",
       "      <th>81</th>\n",
       "      <td>roll_sum_7_DEFAULT</td>\n",
       "      <td>1602.021100</td>\n",
       "    </tr>\n",
       "    <tr>\n",
       "      <th>33</th>\n",
       "      <td>roll_max_7D_DEFAULT</td>\n",
       "      <td>1577.810846</td>\n",
       "    </tr>\n",
       "    <tr>\n",
       "      <th>25</th>\n",
       "      <td>roll_mean_7D_DEFAULT</td>\n",
       "      <td>1522.318537</td>\n",
       "    </tr>\n",
       "    <tr>\n",
       "      <th>65</th>\n",
       "      <td>lag_7_DEFAULT</td>\n",
       "      <td>331.300780</td>\n",
       "    </tr>\n",
       "    <tr>\n",
       "      <th>78</th>\n",
       "      <td>roll_sum_7_TX</td>\n",
       "      <td>288.477945</td>\n",
       "    </tr>\n",
       "    <tr>\n",
       "      <th>86</th>\n",
       "      <td>roll_sum_30_TX</td>\n",
       "      <td>261.199837</td>\n",
       "    </tr>\n",
       "    <tr>\n",
       "      <th>74</th>\n",
       "      <td>roll_sum_7_AMOUNT</td>\n",
       "      <td>245.078389</td>\n",
       "    </tr>\n",
       "    <tr>\n",
       "      <th>22</th>\n",
       "      <td>roll_mean_7D_TX</td>\n",
       "      <td>232.247438</td>\n",
       "    </tr>\n",
       "    <tr>\n",
       "      <th>82</th>\n",
       "      <td>roll_sum_30_AMOUNT</td>\n",
       "      <td>226.470307</td>\n",
       "    </tr>\n",
       "    <tr>\n",
       "      <th>0</th>\n",
       "      <td>TX</td>\n",
       "      <td>225.029285</td>\n",
       "    </tr>\n",
       "    <tr>\n",
       "      <th>30</th>\n",
       "      <td>roll_max_7D_TX</td>\n",
       "      <td>218.510898</td>\n",
       "    </tr>\n",
       "    <tr>\n",
       "      <th>54</th>\n",
       "      <td>lag_2_TX</td>\n",
       "      <td>202.565672</td>\n",
       "    </tr>\n",
       "    <tr>\n",
       "      <th>46</th>\n",
       "      <td>lag_1_TX</td>\n",
       "      <td>197.282225</td>\n",
       "    </tr>\n",
       "    <tr>\n",
       "      <th>62</th>\n",
       "      <td>lag_7_TX</td>\n",
       "      <td>197.072745</td>\n",
       "    </tr>\n",
       "    <tr>\n",
       "      <th>18</th>\n",
       "      <td>roll_mean_7D_AMOUNT</td>\n",
       "      <td>192.247053</td>\n",
       "    </tr>\n",
       "    <tr>\n",
       "      <th>94</th>\n",
       "      <td>roll_sum_60_TX</td>\n",
       "      <td>190.031423</td>\n",
       "    </tr>\n",
       "    <tr>\n",
       "      <th>1</th>\n",
       "      <td>AMOUNT</td>\n",
       "      <td>181.874770</td>\n",
       "    </tr>\n",
       "    <tr>\n",
       "      <th>26</th>\n",
       "      <td>roll_max_7D_AMOUNT</td>\n",
       "      <td>180.076908</td>\n",
       "    </tr>\n",
       "    <tr>\n",
       "      <th>14</th>\n",
       "      <td>roll_mean_30D_TX</td>\n",
       "      <td>174.905208</td>\n",
       "    </tr>\n",
       "    <tr>\n",
       "      <th>90</th>\n",
       "      <td>roll_sum_60_AMOUNT</td>\n",
       "      <td>167.117376</td>\n",
       "    </tr>\n",
       "    <tr>\n",
       "      <th>50</th>\n",
       "      <td>lag_2_AMOUNT</td>\n",
       "      <td>166.447942</td>\n",
       "    </tr>\n",
       "    <tr>\n",
       "      <th>42</th>\n",
       "      <td>lag_1_AMOUNT</td>\n",
       "      <td>164.766306</td>\n",
       "    </tr>\n",
       "    <tr>\n",
       "      <th>58</th>\n",
       "      <td>lag_7_AMOUNT</td>\n",
       "      <td>159.787082</td>\n",
       "    </tr>\n",
       "    <tr>\n",
       "      <th>70</th>\n",
       "      <td>lag_30_TX</td>\n",
       "      <td>151.843855</td>\n",
       "    </tr>\n",
       "    <tr>\n",
       "      <th>40</th>\n",
       "      <td>roll_max_30D_TX_check</td>\n",
       "      <td>147.126668</td>\n",
       "    </tr>\n",
       "    <tr>\n",
       "      <th>24</th>\n",
       "      <td>roll_mean_7D_TX_check</td>\n",
       "      <td>146.446363</td>\n",
       "    </tr>\n",
       "  </tbody>\n",
       "</table>\n",
       "</div>"
      ],
      "text/plain": [
       "                 features        score\n",
       "97    roll_sum_60_DEFAULT  7774.494212\n",
       "41   roll_max_30D_DEFAULT  6980.173535\n",
       "89    roll_sum_30_DEFAULT  6673.870829\n",
       "17  roll_mean_30D_DEFAULT  5524.691588\n",
       "81     roll_sum_7_DEFAULT  1602.021100\n",
       "33    roll_max_7D_DEFAULT  1577.810846\n",
       "25   roll_mean_7D_DEFAULT  1522.318537\n",
       "65          lag_7_DEFAULT   331.300780\n",
       "78          roll_sum_7_TX   288.477945\n",
       "86         roll_sum_30_TX   261.199837\n",
       "74      roll_sum_7_AMOUNT   245.078389\n",
       "22        roll_mean_7D_TX   232.247438\n",
       "82     roll_sum_30_AMOUNT   226.470307\n",
       "0                      TX   225.029285\n",
       "30         roll_max_7D_TX   218.510898\n",
       "54               lag_2_TX   202.565672\n",
       "46               lag_1_TX   197.282225\n",
       "62               lag_7_TX   197.072745\n",
       "18    roll_mean_7D_AMOUNT   192.247053\n",
       "94         roll_sum_60_TX   190.031423\n",
       "1                  AMOUNT   181.874770\n",
       "26     roll_max_7D_AMOUNT   180.076908\n",
       "14       roll_mean_30D_TX   174.905208\n",
       "90     roll_sum_60_AMOUNT   167.117376\n",
       "50           lag_2_AMOUNT   166.447942\n",
       "42           lag_1_AMOUNT   164.766306\n",
       "58           lag_7_AMOUNT   159.787082\n",
       "70              lag_30_TX   151.843855\n",
       "40  roll_max_30D_TX_check   147.126668\n",
       "24  roll_mean_7D_TX_check   146.446363"
      ]
     },
     "execution_count": 14,
     "metadata": {},
     "output_type": "execute_result"
    }
   ],
   "source": [
    "features = X_train.columns\n",
    "f_scores = f_classif(X_train, y_train)[0] # el [1] son los p-values.\n",
    "\n",
    "df_fscores = pd.DataFrame({'features':features,'score':f_scores})\n",
    "df_fscores = df_fscores.sort_values('score', ascending = False)\n",
    "df_fscores.head(30)"
   ]
  },
  {
   "cell_type": "code",
   "execution_count": 15,
   "id": "962bfe0f-1b99-4bb9-8e55-9898445bf2aa",
   "metadata": {
    "tags": []
   },
   "outputs": [
    {
     "data": {
      "text/html": [
       "<div>\n",
       "<style scoped>\n",
       "    .dataframe tbody tr th:only-of-type {\n",
       "        vertical-align: middle;\n",
       "    }\n",
       "\n",
       "    .dataframe tbody tr th {\n",
       "        vertical-align: top;\n",
       "    }\n",
       "\n",
       "    .dataframe thead th {\n",
       "        text-align: right;\n",
       "    }\n",
       "</style>\n",
       "<table border=\"1\" class=\"dataframe\">\n",
       "  <thead>\n",
       "    <tr style=\"text-align: right;\">\n",
       "      <th></th>\n",
       "      <th>features</th>\n",
       "      <th>score</th>\n",
       "    </tr>\n",
       "  </thead>\n",
       "  <tbody>\n",
       "    <tr>\n",
       "      <th>43</th>\n",
       "      <td>lag_1_BALANCE</td>\n",
       "      <td>3.023984</td>\n",
       "    </tr>\n",
       "    <tr>\n",
       "      <th>51</th>\n",
       "      <td>lag_2_BALANCE</td>\n",
       "      <td>2.630599</td>\n",
       "    </tr>\n",
       "    <tr>\n",
       "      <th>95</th>\n",
       "      <td>roll_sum_60_TX_MO</td>\n",
       "      <td>2.141227</td>\n",
       "    </tr>\n",
       "    <tr>\n",
       "      <th>92</th>\n",
       "      <td>roll_sum_60_TOTAL_AMOUNT_MO</td>\n",
       "      <td>2.049660</td>\n",
       "    </tr>\n",
       "    <tr>\n",
       "      <th>2</th>\n",
       "      <td>BALANCE</td>\n",
       "      <td>1.941976</td>\n",
       "    </tr>\n",
       "    <tr>\n",
       "      <th>67</th>\n",
       "      <td>lag_30_BALANCE</td>\n",
       "      <td>1.587100</td>\n",
       "    </tr>\n",
       "    <tr>\n",
       "      <th>59</th>\n",
       "      <td>lag_7_BALANCE</td>\n",
       "      <td>1.171228</td>\n",
       "    </tr>\n",
       "    <tr>\n",
       "      <th>8</th>\n",
       "      <td>INACTIVE_DAYS</td>\n",
       "      <td>0.337711</td>\n",
       "    </tr>\n",
       "    <tr>\n",
       "      <th>19</th>\n",
       "      <td>roll_mean_7D_BALANCE</td>\n",
       "      <td>0.251412</td>\n",
       "    </tr>\n",
       "    <tr>\n",
       "      <th>11</th>\n",
       "      <td>roll_mean_30D_BALANCE</td>\n",
       "      <td>0.013422</td>\n",
       "    </tr>\n",
       "  </tbody>\n",
       "</table>\n",
       "</div>"
      ],
      "text/plain": [
       "                       features     score\n",
       "43                lag_1_BALANCE  3.023984\n",
       "51                lag_2_BALANCE  2.630599\n",
       "95            roll_sum_60_TX_MO  2.141227\n",
       "92  roll_sum_60_TOTAL_AMOUNT_MO  2.049660\n",
       "2                       BALANCE  1.941976\n",
       "67               lag_30_BALANCE  1.587100\n",
       "59                lag_7_BALANCE  1.171228\n",
       "8                 INACTIVE_DAYS  0.337711\n",
       "19         roll_mean_7D_BALANCE  0.251412\n",
       "11        roll_mean_30D_BALANCE  0.013422"
      ]
     },
     "execution_count": 15,
     "metadata": {},
     "output_type": "execute_result"
    }
   ],
   "source": [
    "df_fscores.tail(10)"
   ]
  },
  {
   "cell_type": "code",
   "execution_count": 16,
   "id": "931d751a-894a-44d5-afae-65dd8192c9a6",
   "metadata": {
    "tags": []
   },
   "outputs": [
    {
     "data": {
      "text/plain": [
       "(2166913, 86)"
      ]
     },
     "execution_count": 16,
     "metadata": {},
     "output_type": "execute_result"
    }
   ],
   "source": [
    "# eliminando las features que no son relevantes\n",
    "LIM_IRR = 5 # ajustable\n",
    "df_fscores = df_fscores[df_fscores['score'] > LIM_IRR]\n",
    "X_sel = X_train[df_fscores['features']]\n",
    "X_sel.shape"
   ]
  },
  {
   "cell_type": "code",
   "execution_count": 17,
   "id": "025ef445-b309-4604-8726-8d749d8c6e1b",
   "metadata": {
    "tags": []
   },
   "outputs": [
    {
     "data": {
      "text/html": [
       "<div>\n",
       "<style scoped>\n",
       "    .dataframe tbody tr th:only-of-type {\n",
       "        vertical-align: middle;\n",
       "    }\n",
       "\n",
       "    .dataframe tbody tr th {\n",
       "        vertical-align: top;\n",
       "    }\n",
       "\n",
       "    .dataframe thead th {\n",
       "        text-align: right;\n",
       "    }\n",
       "</style>\n",
       "<table border=\"1\" class=\"dataframe\">\n",
       "  <thead>\n",
       "    <tr style=\"text-align: right;\">\n",
       "      <th></th>\n",
       "      <th>index</th>\n",
       "      <th>col</th>\n",
       "    </tr>\n",
       "  </thead>\n",
       "  <tbody>\n",
       "    <tr>\n",
       "      <th>0</th>\n",
       "      <td>roll_sum_30_DEFAULT</td>\n",
       "      <td>roll_max_30D_DEFAULT</td>\n",
       "    </tr>\n",
       "    <tr>\n",
       "      <th>1</th>\n",
       "      <td>roll_mean_30D_DEFAULT</td>\n",
       "      <td>roll_max_30D_DEFAULT</td>\n",
       "    </tr>\n",
       "    <tr>\n",
       "      <th>2</th>\n",
       "      <td>roll_mean_30D_DEFAULT</td>\n",
       "      <td>roll_sum_30_DEFAULT</td>\n",
       "    </tr>\n",
       "    <tr>\n",
       "      <th>3</th>\n",
       "      <td>roll_max_7D_DEFAULT</td>\n",
       "      <td>roll_sum_7_DEFAULT</td>\n",
       "    </tr>\n",
       "    <tr>\n",
       "      <th>4</th>\n",
       "      <td>roll_mean_7D_DEFAULT</td>\n",
       "      <td>roll_sum_7_DEFAULT</td>\n",
       "    </tr>\n",
       "    <tr>\n",
       "      <th>5</th>\n",
       "      <td>roll_mean_7D_DEFAULT</td>\n",
       "      <td>roll_max_7D_DEFAULT</td>\n",
       "    </tr>\n",
       "    <tr>\n",
       "      <th>6</th>\n",
       "      <td>roll_sum_30_TX</td>\n",
       "      <td>roll_sum_7_TX</td>\n",
       "    </tr>\n",
       "    <tr>\n",
       "      <th>7</th>\n",
       "      <td>roll_sum_7_AMOUNT</td>\n",
       "      <td>roll_sum_7_TX</td>\n",
       "    </tr>\n",
       "    <tr>\n",
       "      <th>8</th>\n",
       "      <td>roll_sum_7_AMOUNT</td>\n",
       "      <td>roll_sum_30_TX</td>\n",
       "    </tr>\n",
       "    <tr>\n",
       "      <th>9</th>\n",
       "      <td>roll_mean_7D_TX</td>\n",
       "      <td>roll_sum_7_TX</td>\n",
       "    </tr>\n",
       "    <tr>\n",
       "      <th>10</th>\n",
       "      <td>roll_mean_7D_TX</td>\n",
       "      <td>roll_sum_30_TX</td>\n",
       "    </tr>\n",
       "    <tr>\n",
       "      <th>11</th>\n",
       "      <td>roll_mean_7D_TX</td>\n",
       "      <td>roll_sum_7_AMOUNT</td>\n",
       "    </tr>\n",
       "    <tr>\n",
       "      <th>12</th>\n",
       "      <td>roll_sum_30_AMOUNT</td>\n",
       "      <td>roll_sum_7_TX</td>\n",
       "    </tr>\n",
       "    <tr>\n",
       "      <th>13</th>\n",
       "      <td>roll_sum_30_AMOUNT</td>\n",
       "      <td>roll_sum_30_TX</td>\n",
       "    </tr>\n",
       "    <tr>\n",
       "      <th>14</th>\n",
       "      <td>roll_sum_30_AMOUNT</td>\n",
       "      <td>roll_sum_7_AMOUNT</td>\n",
       "    </tr>\n",
       "    <tr>\n",
       "      <th>15</th>\n",
       "      <td>roll_sum_30_AMOUNT</td>\n",
       "      <td>roll_mean_7D_TX</td>\n",
       "    </tr>\n",
       "    <tr>\n",
       "      <th>16</th>\n",
       "      <td>TX</td>\n",
       "      <td>roll_sum_7_TX</td>\n",
       "    </tr>\n",
       "    <tr>\n",
       "      <th>17</th>\n",
       "      <td>TX</td>\n",
       "      <td>roll_mean_7D_TX</td>\n",
       "    </tr>\n",
       "    <tr>\n",
       "      <th>18</th>\n",
       "      <td>roll_max_7D_TX</td>\n",
       "      <td>roll_sum_7_TX</td>\n",
       "    </tr>\n",
       "    <tr>\n",
       "      <th>19</th>\n",
       "      <td>roll_max_7D_TX</td>\n",
       "      <td>roll_sum_7_AMOUNT</td>\n",
       "    </tr>\n",
       "  </tbody>\n",
       "</table>\n",
       "</div>"
      ],
      "text/plain": [
       "                    index                   col\n",
       "0     roll_sum_30_DEFAULT  roll_max_30D_DEFAULT\n",
       "1   roll_mean_30D_DEFAULT  roll_max_30D_DEFAULT\n",
       "2   roll_mean_30D_DEFAULT   roll_sum_30_DEFAULT\n",
       "3     roll_max_7D_DEFAULT    roll_sum_7_DEFAULT\n",
       "4    roll_mean_7D_DEFAULT    roll_sum_7_DEFAULT\n",
       "5    roll_mean_7D_DEFAULT   roll_max_7D_DEFAULT\n",
       "6          roll_sum_30_TX         roll_sum_7_TX\n",
       "7       roll_sum_7_AMOUNT         roll_sum_7_TX\n",
       "8       roll_sum_7_AMOUNT        roll_sum_30_TX\n",
       "9         roll_mean_7D_TX         roll_sum_7_TX\n",
       "10        roll_mean_7D_TX        roll_sum_30_TX\n",
       "11        roll_mean_7D_TX     roll_sum_7_AMOUNT\n",
       "12     roll_sum_30_AMOUNT         roll_sum_7_TX\n",
       "13     roll_sum_30_AMOUNT        roll_sum_30_TX\n",
       "14     roll_sum_30_AMOUNT     roll_sum_7_AMOUNT\n",
       "15     roll_sum_30_AMOUNT       roll_mean_7D_TX\n",
       "16                     TX         roll_sum_7_TX\n",
       "17                     TX       roll_mean_7D_TX\n",
       "18         roll_max_7D_TX         roll_sum_7_TX\n",
       "19         roll_max_7D_TX     roll_sum_7_AMOUNT"
      ]
     },
     "execution_count": 17,
     "metadata": {},
     "output_type": "execute_result"
    }
   ],
   "source": [
    "# seleccionando las features redundantes\n",
    "xcorr = X_sel.corr().abs()\n",
    "LIM_COR = 0.80 # ajustable\n",
    "xcorr = xcorr[xcorr > LIM_COR].fillna(0)\n",
    "index = []\n",
    "column = []\n",
    "for idx in list(xcorr.index):\n",
    "    for col in list(xcorr.columns):\n",
    "        # la matriz es diagonal\n",
    "        if idx == col:\n",
    "            break\n",
    "        if (xcorr.loc[idx,col] != 0):\n",
    "            index = index + [idx]\n",
    "            column = column + [col]\n",
    "df_fcorr = pd.DataFrame({'index':index, 'col':column})\n",
    "df_fcorr.head(20)"
   ]
  },
  {
   "cell_type": "code",
   "execution_count": 18,
   "id": "97284198-4931-43a9-a2f6-7530061d8624",
   "metadata": {
    "tags": []
   },
   "outputs": [
    {
     "data": {
      "text/plain": [
       "TX                      float64\n",
       "AMOUNT                  float64\n",
       "BALANCE                 float64\n",
       "TX_check                float64\n",
       "TOTAL_AMOUNT_check      float64\n",
       "                         ...   \n",
       "roll_sum_60_TX          float64\n",
       "roll_sum_60_TX_MO       float64\n",
       "roll_sum_60_TX_check    float64\n",
       "roll_sum_60_DEFAULT     float64\n",
       "ANTIGUEDAD_d            float64\n",
       "Length: 99, dtype: object"
      ]
     },
     "execution_count": 18,
     "metadata": {},
     "output_type": "execute_result"
    }
   ],
   "source": [
    "X_train.dtypes"
   ]
  },
  {
   "cell_type": "code",
   "execution_count": 19,
   "id": "556ec1a3-4a0b-4b28-bae7-3619a446b1e8",
   "metadata": {
    "tags": []
   },
   "outputs": [
    {
     "data": {
      "text/plain": [
       "dtype('float64')"
      ]
     },
     "execution_count": 19,
     "metadata": {},
     "output_type": "execute_result"
    }
   ],
   "source": [
    "y_train.dtypes"
   ]
  },
  {
   "cell_type": "code",
   "execution_count": 20,
   "id": "4f073470-41bf-4e16-807c-ac3fc21c939a",
   "metadata": {
    "tags": []
   },
   "outputs": [
    {
     "data": {
      "text/plain": [
       "array([0., 1.])"
      ]
     },
     "execution_count": 20,
     "metadata": {},
     "output_type": "execute_result"
    }
   ],
   "source": [
    "y_train.unique()"
   ]
  },
  {
   "cell_type": "markdown",
   "id": "6bbc228f-bb76-401e-bfcb-496d808fc5dd",
   "metadata": {},
   "source": [
    "# Logistic regression"
   ]
  },
  {
   "cell_type": "code",
   "execution_count": 34,
   "id": "968581d1-5212-456c-ae78-6c4ab0ba03d0",
   "metadata": {
    "tags": []
   },
   "outputs": [],
   "source": [
    "from sklearn.linear_model import LogisticRegression"
   ]
  },
  {
   "cell_type": "code",
   "execution_count": 35,
   "id": "7560b6dc-34c8-42d8-ad60-4f3cfad240ea",
   "metadata": {},
   "outputs": [
    {
     "data": {
      "text/plain": [
       "0.9990165733465072"
      ]
     },
     "execution_count": 35,
     "metadata": {},
     "output_type": "execute_result"
    }
   ],
   "source": [
    "clf = LogisticRegression(random_state=0).fit(X_train, y_train)\n",
    "clf.score(X_train, y_train)"
   ]
  },
  {
   "cell_type": "code",
   "execution_count": 44,
   "id": "b8286616-81d0-4b35-add3-c6dcdb3b3136",
   "metadata": {
    "tags": []
   },
   "outputs": [
    {
     "data": {
      "text/plain": [
       "0.998899816882273"
      ]
     },
     "execution_count": 44,
     "metadata": {},
     "output_type": "execute_result"
    }
   ],
   "source": [
    "clf.score(X_test, y_test)"
   ]
  },
  {
   "cell_type": "code",
   "execution_count": 45,
   "id": "9ed012b3-1ed6-4661-873f-32ca3c88adb8",
   "metadata": {
    "tags": []
   },
   "outputs": [
    {
     "name": "stdout",
     "output_type": "stream",
     "text": [
      "                  feature  importance\n",
      "33        roll_max_30D_TX    0.116104\n",
      "8    roll_mean_30D_AMOUNT    0.092883\n",
      "12       roll_mean_30D_TX    0.072905\n",
      "29    roll_max_30D_AMOUNT    0.070606\n",
      "9   roll_mean_30D_BALANCE    0.066219\n",
      "..                    ...         ...\n",
      "67      roll_sum_7_AMOUNT   -0.093188\n",
      "0                      TX   -0.098801\n",
      "78         roll_sum_30_TX   -0.131874\n",
      "71          roll_sum_7_TX   -0.140954\n",
      "88           ANTIGUEDAD_d   -0.205075\n",
      "\n",
      "[89 rows x 2 columns]\n"
     ]
    }
   ],
   "source": [
    "# Get feature importances\n",
    "importances = clf.coef_[0]\n",
    "\n",
    "# Get the feature names (assuming you have them stored in a list called 'feature_names')\n",
    "feature_names = X_test.columns  # replace with your feature names\n",
    "\n",
    "# Create DataFrame\n",
    "fi = pd.DataFrame({'feature': feature_names, 'importance': importances})\n",
    "\n",
    "# Sort DataFrame by importance\n",
    "fi = fi.sort_values('importance', ascending=False)\n",
    "\n",
    "# Print DataFrame\n",
    "print(fi)"
   ]
  },
  {
   "cell_type": "code",
   "execution_count": 46,
   "id": "3564c7a9-44fb-4ceb-ae83-ff127c43ec74",
   "metadata": {
    "tags": []
   },
   "outputs": [
    {
     "data": {
      "text/html": [
       "<div>\n",
       "<style scoped>\n",
       "    .dataframe tbody tr th:only-of-type {\n",
       "        vertical-align: middle;\n",
       "    }\n",
       "\n",
       "    .dataframe tbody tr th {\n",
       "        vertical-align: top;\n",
       "    }\n",
       "\n",
       "    .dataframe thead th {\n",
       "        text-align: right;\n",
       "    }\n",
       "</style>\n",
       "<table border=\"1\" class=\"dataframe\">\n",
       "  <thead>\n",
       "    <tr style=\"text-align: right;\">\n",
       "      <th></th>\n",
       "      <th>feature</th>\n",
       "      <th>importance</th>\n",
       "    </tr>\n",
       "  </thead>\n",
       "  <tbody>\n",
       "    <tr>\n",
       "      <th>33</th>\n",
       "      <td>roll_max_30D_TX</td>\n",
       "      <td>0.116104</td>\n",
       "    </tr>\n",
       "    <tr>\n",
       "      <th>8</th>\n",
       "      <td>roll_mean_30D_AMOUNT</td>\n",
       "      <td>0.092883</td>\n",
       "    </tr>\n",
       "    <tr>\n",
       "      <th>12</th>\n",
       "      <td>roll_mean_30D_TX</td>\n",
       "      <td>0.072905</td>\n",
       "    </tr>\n",
       "    <tr>\n",
       "      <th>29</th>\n",
       "      <td>roll_max_30D_AMOUNT</td>\n",
       "      <td>0.070606</td>\n",
       "    </tr>\n",
       "    <tr>\n",
       "      <th>9</th>\n",
       "      <td>roll_mean_30D_BALANCE</td>\n",
       "      <td>0.066219</td>\n",
       "    </tr>\n",
       "    <tr>\n",
       "      <th>84</th>\n",
       "      <td>roll_sum_60_TOTAL_AMOUNT_check</td>\n",
       "      <td>0.057554</td>\n",
       "    </tr>\n",
       "    <tr>\n",
       "      <th>87</th>\n",
       "      <td>roll_sum_60_TX_check</td>\n",
       "      <td>0.053117</td>\n",
       "    </tr>\n",
       "    <tr>\n",
       "      <th>16</th>\n",
       "      <td>roll_mean_7D_BALANCE</td>\n",
       "      <td>0.049626</td>\n",
       "    </tr>\n",
       "    <tr>\n",
       "      <th>77</th>\n",
       "      <td>roll_sum_30_TOTAL_AMOUNT_check</td>\n",
       "      <td>0.041126</td>\n",
       "    </tr>\n",
       "    <tr>\n",
       "      <th>66</th>\n",
       "      <td>lag_30_DEFAULT</td>\n",
       "      <td>0.039912</td>\n",
       "    </tr>\n",
       "    <tr>\n",
       "      <th>43</th>\n",
       "      <td>lag_1_DEFAULT</td>\n",
       "      <td>0.038329</td>\n",
       "    </tr>\n",
       "    <tr>\n",
       "      <th>7</th>\n",
       "      <td>DSO_DEPO_DAY</td>\n",
       "      <td>0.035605</td>\n",
       "    </tr>\n",
       "    <tr>\n",
       "      <th>80</th>\n",
       "      <td>roll_sum_30_TX_check</td>\n",
       "      <td>0.034223</td>\n",
       "    </tr>\n",
       "    <tr>\n",
       "      <th>30</th>\n",
       "      <td>roll_max_30D_BALANCE</td>\n",
       "      <td>0.033809</td>\n",
       "    </tr>\n",
       "    <tr>\n",
       "      <th>51</th>\n",
       "      <td>lag_2_DEFAULT</td>\n",
       "      <td>0.019278</td>\n",
       "    </tr>\n",
       "    <tr>\n",
       "      <th>70</th>\n",
       "      <td>roll_sum_7_TOTAL_AMOUNT_check</td>\n",
       "      <td>0.015465</td>\n",
       "    </tr>\n",
       "    <tr>\n",
       "      <th>76</th>\n",
       "      <td>roll_sum_30_TOTAL_AMOUNT_MO</td>\n",
       "      <td>0.012171</td>\n",
       "    </tr>\n",
       "    <tr>\n",
       "      <th>79</th>\n",
       "      <td>roll_sum_30_TX_MO</td>\n",
       "      <td>0.012035</td>\n",
       "    </tr>\n",
       "    <tr>\n",
       "      <th>69</th>\n",
       "      <td>roll_sum_7_TOTAL_AMOUNT_MO</td>\n",
       "      <td>0.011593</td>\n",
       "    </tr>\n",
       "    <tr>\n",
       "      <th>72</th>\n",
       "      <td>roll_sum_7_TX_MO</td>\n",
       "      <td>0.011026</td>\n",
       "    </tr>\n",
       "    <tr>\n",
       "      <th>6</th>\n",
       "      <td>TOTAL_AMOUNT_MO</td>\n",
       "      <td>0.008478</td>\n",
       "    </tr>\n",
       "    <tr>\n",
       "      <th>73</th>\n",
       "      <td>roll_sum_7_TX_check</td>\n",
       "      <td>0.008462</td>\n",
       "    </tr>\n",
       "    <tr>\n",
       "      <th>59</th>\n",
       "      <td>lag_30_AMOUNT</td>\n",
       "      <td>0.007087</td>\n",
       "    </tr>\n",
       "    <tr>\n",
       "      <th>53</th>\n",
       "      <td>lag_7_BALANCE</td>\n",
       "      <td>0.004515</td>\n",
       "    </tr>\n",
       "    <tr>\n",
       "      <th>54</th>\n",
       "      <td>lag_7_TOTAL_AMOUNT_MO</td>\n",
       "      <td>0.003811</td>\n",
       "    </tr>\n",
       "    <tr>\n",
       "      <th>5</th>\n",
       "      <td>TX_MO</td>\n",
       "      <td>0.003240</td>\n",
       "    </tr>\n",
       "    <tr>\n",
       "      <th>83</th>\n",
       "      <td>roll_sum_60_TOTAL_AMOUNT_MO</td>\n",
       "      <td>0.000720</td>\n",
       "    </tr>\n",
       "    <tr>\n",
       "      <th>62</th>\n",
       "      <td>lag_30_TOTAL_AMOUNT_check</td>\n",
       "      <td>0.000692</td>\n",
       "    </tr>\n",
       "    <tr>\n",
       "      <th>86</th>\n",
       "      <td>roll_sum_60_TX_MO</td>\n",
       "      <td>0.000257</td>\n",
       "    </tr>\n",
       "    <tr>\n",
       "      <th>63</th>\n",
       "      <td>lag_30_TX</td>\n",
       "      <td>-0.001151</td>\n",
       "    </tr>\n",
       "  </tbody>\n",
       "</table>\n",
       "</div>"
      ],
      "text/plain": [
       "                           feature  importance\n",
       "33                 roll_max_30D_TX    0.116104\n",
       "8             roll_mean_30D_AMOUNT    0.092883\n",
       "12                roll_mean_30D_TX    0.072905\n",
       "29             roll_max_30D_AMOUNT    0.070606\n",
       "9            roll_mean_30D_BALANCE    0.066219\n",
       "84  roll_sum_60_TOTAL_AMOUNT_check    0.057554\n",
       "87            roll_sum_60_TX_check    0.053117\n",
       "16            roll_mean_7D_BALANCE    0.049626\n",
       "77  roll_sum_30_TOTAL_AMOUNT_check    0.041126\n",
       "66                  lag_30_DEFAULT    0.039912\n",
       "43                   lag_1_DEFAULT    0.038329\n",
       "7                     DSO_DEPO_DAY    0.035605\n",
       "80            roll_sum_30_TX_check    0.034223\n",
       "30            roll_max_30D_BALANCE    0.033809\n",
       "51                   lag_2_DEFAULT    0.019278\n",
       "70   roll_sum_7_TOTAL_AMOUNT_check    0.015465\n",
       "76     roll_sum_30_TOTAL_AMOUNT_MO    0.012171\n",
       "79               roll_sum_30_TX_MO    0.012035\n",
       "69      roll_sum_7_TOTAL_AMOUNT_MO    0.011593\n",
       "72                roll_sum_7_TX_MO    0.011026\n",
       "6                  TOTAL_AMOUNT_MO    0.008478\n",
       "73             roll_sum_7_TX_check    0.008462\n",
       "59                   lag_30_AMOUNT    0.007087\n",
       "53                   lag_7_BALANCE    0.004515\n",
       "54           lag_7_TOTAL_AMOUNT_MO    0.003811\n",
       "5                            TX_MO    0.003240\n",
       "83     roll_sum_60_TOTAL_AMOUNT_MO    0.000720\n",
       "62       lag_30_TOTAL_AMOUNT_check    0.000692\n",
       "86               roll_sum_60_TX_MO    0.000257\n",
       "63                       lag_30_TX   -0.001151"
      ]
     },
     "execution_count": 46,
     "metadata": {},
     "output_type": "execute_result"
    }
   ],
   "source": [
    "fi.head(30)"
   ]
  },
  {
   "cell_type": "code",
   "execution_count": 47,
   "id": "bf72d09b-c217-41b4-9d9b-e1ed6fb5ac9a",
   "metadata": {
    "tags": []
   },
   "outputs": [
    {
     "data": {
      "text/html": [
       "<div>\n",
       "<style scoped>\n",
       "    .dataframe tbody tr th:only-of-type {\n",
       "        vertical-align: middle;\n",
       "    }\n",
       "\n",
       "    .dataframe tbody tr th {\n",
       "        vertical-align: top;\n",
       "    }\n",
       "\n",
       "    .dataframe thead th {\n",
       "        text-align: right;\n",
       "    }\n",
       "</style>\n",
       "<table border=\"1\" class=\"dataframe\">\n",
       "  <thead>\n",
       "    <tr style=\"text-align: right;\">\n",
       "      <th></th>\n",
       "      <th>feature</th>\n",
       "      <th>importance</th>\n",
       "    </tr>\n",
       "  </thead>\n",
       "  <tbody>\n",
       "    <tr>\n",
       "      <th>36</th>\n",
       "      <td>lag_1_AMOUNT</td>\n",
       "      <td>-0.032795</td>\n",
       "    </tr>\n",
       "    <tr>\n",
       "      <th>20</th>\n",
       "      <td>roll_mean_7D_TX_MO</td>\n",
       "      <td>-0.033290</td>\n",
       "    </tr>\n",
       "    <tr>\n",
       "      <th>25</th>\n",
       "      <td>roll_max_7D_TOTAL_AMOUNT_check</td>\n",
       "      <td>-0.038365</td>\n",
       "    </tr>\n",
       "    <tr>\n",
       "      <th>18</th>\n",
       "      <td>roll_mean_7D_TOTAL_AMOUNT_check</td>\n",
       "      <td>-0.039271</td>\n",
       "    </tr>\n",
       "    <tr>\n",
       "      <th>11</th>\n",
       "      <td>roll_mean_30D_TOTAL_AMOUNT_check</td>\n",
       "      <td>-0.042535</td>\n",
       "    </tr>\n",
       "    <tr>\n",
       "      <th>40</th>\n",
       "      <td>lag_1_TX</td>\n",
       "      <td>-0.044868</td>\n",
       "    </tr>\n",
       "    <tr>\n",
       "      <th>44</th>\n",
       "      <td>lag_2_AMOUNT</td>\n",
       "      <td>-0.046321</td>\n",
       "    </tr>\n",
       "    <tr>\n",
       "      <th>10</th>\n",
       "      <td>roll_mean_30D_TOTAL_AMOUNT_MO</td>\n",
       "      <td>-0.049003</td>\n",
       "    </tr>\n",
       "    <tr>\n",
       "      <th>19</th>\n",
       "      <td>roll_mean_7D_TX</td>\n",
       "      <td>-0.050124</td>\n",
       "    </tr>\n",
       "    <tr>\n",
       "      <th>21</th>\n",
       "      <td>roll_mean_7D_TX_check</td>\n",
       "      <td>-0.050728</td>\n",
       "    </tr>\n",
       "    <tr>\n",
       "      <th>56</th>\n",
       "      <td>lag_7_TX</td>\n",
       "      <td>-0.050929</td>\n",
       "    </tr>\n",
       "    <tr>\n",
       "      <th>82</th>\n",
       "      <td>roll_sum_60_BALANCE</td>\n",
       "      <td>-0.053513</td>\n",
       "    </tr>\n",
       "    <tr>\n",
       "      <th>13</th>\n",
       "      <td>roll_mean_30D_TX_MO</td>\n",
       "      <td>-0.054333</td>\n",
       "    </tr>\n",
       "    <tr>\n",
       "      <th>22</th>\n",
       "      <td>roll_max_7D_AMOUNT</td>\n",
       "      <td>-0.054512</td>\n",
       "    </tr>\n",
       "    <tr>\n",
       "      <th>14</th>\n",
       "      <td>roll_mean_30D_TX_check</td>\n",
       "      <td>-0.054533</td>\n",
       "    </tr>\n",
       "    <tr>\n",
       "      <th>32</th>\n",
       "      <td>roll_max_30D_TOTAL_AMOUNT_check</td>\n",
       "      <td>-0.056050</td>\n",
       "    </tr>\n",
       "    <tr>\n",
       "      <th>28</th>\n",
       "      <td>roll_max_7D_TX_check</td>\n",
       "      <td>-0.057887</td>\n",
       "    </tr>\n",
       "    <tr>\n",
       "      <th>85</th>\n",
       "      <td>roll_sum_60_TX</td>\n",
       "      <td>-0.058647</td>\n",
       "    </tr>\n",
       "    <tr>\n",
       "      <th>1</th>\n",
       "      <td>AMOUNT</td>\n",
       "      <td>-0.063994</td>\n",
       "    </tr>\n",
       "    <tr>\n",
       "      <th>26</th>\n",
       "      <td>roll_max_7D_TX</td>\n",
       "      <td>-0.064610</td>\n",
       "    </tr>\n",
       "    <tr>\n",
       "      <th>68</th>\n",
       "      <td>roll_sum_7_BALANCE</td>\n",
       "      <td>-0.064907</td>\n",
       "    </tr>\n",
       "    <tr>\n",
       "      <th>48</th>\n",
       "      <td>lag_2_TX</td>\n",
       "      <td>-0.069031</td>\n",
       "    </tr>\n",
       "    <tr>\n",
       "      <th>35</th>\n",
       "      <td>roll_max_30D_TX_check</td>\n",
       "      <td>-0.079797</td>\n",
       "    </tr>\n",
       "    <tr>\n",
       "      <th>75</th>\n",
       "      <td>roll_sum_30_BALANCE</td>\n",
       "      <td>-0.085943</td>\n",
       "    </tr>\n",
       "    <tr>\n",
       "      <th>74</th>\n",
       "      <td>roll_sum_30_AMOUNT</td>\n",
       "      <td>-0.091452</td>\n",
       "    </tr>\n",
       "    <tr>\n",
       "      <th>67</th>\n",
       "      <td>roll_sum_7_AMOUNT</td>\n",
       "      <td>-0.093188</td>\n",
       "    </tr>\n",
       "    <tr>\n",
       "      <th>0</th>\n",
       "      <td>TX</td>\n",
       "      <td>-0.098801</td>\n",
       "    </tr>\n",
       "    <tr>\n",
       "      <th>78</th>\n",
       "      <td>roll_sum_30_TX</td>\n",
       "      <td>-0.131874</td>\n",
       "    </tr>\n",
       "    <tr>\n",
       "      <th>71</th>\n",
       "      <td>roll_sum_7_TX</td>\n",
       "      <td>-0.140954</td>\n",
       "    </tr>\n",
       "    <tr>\n",
       "      <th>88</th>\n",
       "      <td>ANTIGUEDAD_d</td>\n",
       "      <td>-0.205075</td>\n",
       "    </tr>\n",
       "  </tbody>\n",
       "</table>\n",
       "</div>"
      ],
      "text/plain": [
       "                             feature  importance\n",
       "36                      lag_1_AMOUNT   -0.032795\n",
       "20                roll_mean_7D_TX_MO   -0.033290\n",
       "25    roll_max_7D_TOTAL_AMOUNT_check   -0.038365\n",
       "18   roll_mean_7D_TOTAL_AMOUNT_check   -0.039271\n",
       "11  roll_mean_30D_TOTAL_AMOUNT_check   -0.042535\n",
       "40                          lag_1_TX   -0.044868\n",
       "44                      lag_2_AMOUNT   -0.046321\n",
       "10     roll_mean_30D_TOTAL_AMOUNT_MO   -0.049003\n",
       "19                   roll_mean_7D_TX   -0.050124\n",
       "21             roll_mean_7D_TX_check   -0.050728\n",
       "56                          lag_7_TX   -0.050929\n",
       "82               roll_sum_60_BALANCE   -0.053513\n",
       "13               roll_mean_30D_TX_MO   -0.054333\n",
       "22                roll_max_7D_AMOUNT   -0.054512\n",
       "14            roll_mean_30D_TX_check   -0.054533\n",
       "32   roll_max_30D_TOTAL_AMOUNT_check   -0.056050\n",
       "28              roll_max_7D_TX_check   -0.057887\n",
       "85                    roll_sum_60_TX   -0.058647\n",
       "1                             AMOUNT   -0.063994\n",
       "26                    roll_max_7D_TX   -0.064610\n",
       "68                roll_sum_7_BALANCE   -0.064907\n",
       "48                          lag_2_TX   -0.069031\n",
       "35             roll_max_30D_TX_check   -0.079797\n",
       "75               roll_sum_30_BALANCE   -0.085943\n",
       "74                roll_sum_30_AMOUNT   -0.091452\n",
       "67                 roll_sum_7_AMOUNT   -0.093188\n",
       "0                                 TX   -0.098801\n",
       "78                    roll_sum_30_TX   -0.131874\n",
       "71                     roll_sum_7_TX   -0.140954\n",
       "88                      ANTIGUEDAD_d   -0.205075"
      ]
     },
     "execution_count": 47,
     "metadata": {},
     "output_type": "execute_result"
    }
   ],
   "source": [
    "fi.tail(30)"
   ]
  },
  {
   "cell_type": "code",
   "execution_count": 48,
   "id": "dd466fbe-abfa-4ef7-ab6e-47a3aca0c27c",
   "metadata": {
    "tags": []
   },
   "outputs": [],
   "source": [
    "X_train['proba'] = clf.predict_proba(X_train)[:, 1]"
   ]
  },
  {
   "cell_type": "code",
   "execution_count": 49,
   "id": "f342d2ad-47aa-4f7b-9b1c-f9405a7f2693",
   "metadata": {
    "tags": []
   },
   "outputs": [],
   "source": [
    "X_test['proba'] = clf.predict_proba(X_test)[:, 1]"
   ]
  },
  {
   "cell_type": "code",
   "execution_count": 50,
   "id": "ab369b64-516c-4115-b046-c5e533c133a6",
   "metadata": {
    "tags": []
   },
   "outputs": [],
   "source": [
    "percentiles = pd.qcut(X_test['proba'], 10, labels=False, duplicates='drop')\n",
    "percentile_label = {p: l for l, p in enumerate(sorted(percentiles.unique(), reverse=True), start=1)}\n",
    "percentiles = percentiles.map(percentile_label)\n",
    "X_test['deciles'] = percentiles\n",
    "X_test['deciles'] = X_test['deciles'].astype('Int32')\n"
   ]
  },
  {
   "cell_type": "code",
   "execution_count": 51,
   "id": "44a475fe-619b-4eb7-8c1d-9175eda203e2",
   "metadata": {
    "tags": []
   },
   "outputs": [
    {
     "data": {
      "text/plain": [
       "(677160, 91)"
      ]
     },
     "execution_count": 51,
     "metadata": {},
     "output_type": "execute_result"
    }
   ],
   "source": [
    "X_test.shape"
   ]
  },
  {
   "cell_type": "code",
   "execution_count": 52,
   "id": "19cf0cde-c9c2-4570-b9be-7e759516f76d",
   "metadata": {
    "tags": []
   },
   "outputs": [
    {
     "data": {
      "text/plain": [
       "(677160,)"
      ]
     },
     "execution_count": 52,
     "metadata": {},
     "output_type": "execute_result"
    }
   ],
   "source": [
    "y_test.shape"
   ]
  },
  {
   "cell_type": "code",
   "execution_count": 53,
   "id": "2d128bac-362e-41cf-b4a3-ef5440de2540",
   "metadata": {
    "tags": []
   },
   "outputs": [
    {
     "data": {
      "text/plain": [
       "742.0"
      ]
     },
     "execution_count": 53,
     "metadata": {},
     "output_type": "execute_result"
    }
   ],
   "source": [
    "y_test.sum()"
   ]
  },
  {
   "cell_type": "code",
   "execution_count": 54,
   "id": "4e776d46-4cba-42fa-89e6-9ffb00bd03ff",
   "metadata": {
    "tags": []
   },
   "outputs": [],
   "source": [
    "Aux = pd.merge(X_test, y_test, left_index=True,right_index=True, how='left')"
   ]
  },
  {
   "cell_type": "code",
   "execution_count": 55,
   "id": "3bd02ce8-60a7-4db4-9f54-1b94fb0ca222",
   "metadata": {
    "tags": []
   },
   "outputs": [
    {
     "data": {
      "text/plain": [
       "(677160, 92)"
      ]
     },
     "execution_count": 55,
     "metadata": {},
     "output_type": "execute_result"
    }
   ],
   "source": [
    "Aux.shape"
   ]
  },
  {
   "cell_type": "code",
   "execution_count": 56,
   "id": "713cfef7-381a-4de3-ab99-8d89fb229968",
   "metadata": {
    "tags": []
   },
   "outputs": [
    {
     "data": {
      "text/plain": [
       "Index(['TX', 'AMOUNT', 'BALANCE', 'TX_check', 'TOTAL_AMOUNT_check', 'TX_MO',\n",
       "       'TOTAL_AMOUNT_MO', 'DSO_DEPO_DAY', 'roll_mean_30D_AMOUNT',\n",
       "       'roll_mean_30D_BALANCE', 'roll_mean_30D_TOTAL_AMOUNT_MO',\n",
       "       'roll_mean_30D_TOTAL_AMOUNT_check', 'roll_mean_30D_TX',\n",
       "       'roll_mean_30D_TX_MO', 'roll_mean_30D_TX_check', 'roll_mean_7D_AMOUNT',\n",
       "       'roll_mean_7D_BALANCE', 'roll_mean_7D_TOTAL_AMOUNT_MO',\n",
       "       'roll_mean_7D_TOTAL_AMOUNT_check', 'roll_mean_7D_TX',\n",
       "       'roll_mean_7D_TX_MO', 'roll_mean_7D_TX_check', 'roll_max_7D_AMOUNT',\n",
       "       'roll_max_7D_BALANCE', 'roll_max_7D_TOTAL_AMOUNT_MO',\n",
       "       'roll_max_7D_TOTAL_AMOUNT_check', 'roll_max_7D_TX', 'roll_max_7D_TX_MO',\n",
       "       'roll_max_7D_TX_check', 'roll_max_30D_AMOUNT', 'roll_max_30D_BALANCE',\n",
       "       'roll_max_30D_TOTAL_AMOUNT_MO', 'roll_max_30D_TOTAL_AMOUNT_check',\n",
       "       'roll_max_30D_TX', 'roll_max_30D_TX_MO', 'roll_max_30D_TX_check',\n",
       "       'lag_1_AMOUNT', 'lag_1_BALANCE', 'lag_1_TOTAL_AMOUNT_MO',\n",
       "       'lag_1_TOTAL_AMOUNT_check', 'lag_1_TX', 'lag_1_TX_MO', 'lag_1_TX_check',\n",
       "       'lag_1_DEFAULT', 'lag_2_AMOUNT', 'lag_2_BALANCE',\n",
       "       'lag_2_TOTAL_AMOUNT_MO', 'lag_2_TOTAL_AMOUNT_check', 'lag_2_TX',\n",
       "       'lag_2_TX_MO', 'lag_2_TX_check', 'lag_2_DEFAULT', 'lag_7_AMOUNT',\n",
       "       'lag_7_BALANCE', 'lag_7_TOTAL_AMOUNT_MO', 'lag_7_TOTAL_AMOUNT_check',\n",
       "       'lag_7_TX', 'lag_7_TX_MO', 'lag_7_TX_check', 'lag_30_AMOUNT',\n",
       "       'lag_30_BALANCE', 'lag_30_TOTAL_AMOUNT_MO', 'lag_30_TOTAL_AMOUNT_check',\n",
       "       'lag_30_TX', 'lag_30_TX_MO', 'lag_30_TX_check', 'lag_30_DEFAULT',\n",
       "       'roll_sum_7_AMOUNT', 'roll_sum_7_BALANCE', 'roll_sum_7_TOTAL_AMOUNT_MO',\n",
       "       'roll_sum_7_TOTAL_AMOUNT_check', 'roll_sum_7_TX', 'roll_sum_7_TX_MO',\n",
       "       'roll_sum_7_TX_check', 'roll_sum_30_AMOUNT', 'roll_sum_30_BALANCE',\n",
       "       'roll_sum_30_TOTAL_AMOUNT_MO', 'roll_sum_30_TOTAL_AMOUNT_check',\n",
       "       'roll_sum_30_TX', 'roll_sum_30_TX_MO', 'roll_sum_30_TX_check',\n",
       "       'roll_sum_60_AMOUNT', 'roll_sum_60_BALANCE',\n",
       "       'roll_sum_60_TOTAL_AMOUNT_MO', 'roll_sum_60_TOTAL_AMOUNT_check',\n",
       "       'roll_sum_60_TX', 'roll_sum_60_TX_MO', 'roll_sum_60_TX_check',\n",
       "       'ANTIGUEDAD_d', 'proba', 'deciles', 'TARGET'],\n",
       "      dtype='object')"
      ]
     },
     "execution_count": 56,
     "metadata": {},
     "output_type": "execute_result"
    }
   ],
   "source": [
    "Aux.columns"
   ]
  },
  {
   "cell_type": "code",
   "execution_count": 57,
   "id": "0a6e964c-0d57-4708-9b7a-885b0186f136",
   "metadata": {
    "tags": []
   },
   "outputs": [
    {
     "data": {
      "text/plain": [
       "742.0"
      ]
     },
     "execution_count": 57,
     "metadata": {},
     "output_type": "execute_result"
    }
   ],
   "source": [
    "Aux['TARGET'].sum()"
   ]
  },
  {
   "cell_type": "code",
   "execution_count": 58,
   "id": "3336991c-6b0c-4267-a30d-a126f17be970",
   "metadata": {
    "tags": []
   },
   "outputs": [],
   "source": [
    "aux1 = Aux.groupby('deciles')['TARGET'].sum()"
   ]
  },
  {
   "cell_type": "code",
   "execution_count": 59,
   "id": "36d42b71-3d3f-4057-bc0f-c4bd74c94a4a",
   "metadata": {
    "tags": []
   },
   "outputs": [
    {
     "data": {
      "text/plain": [
       "deciles\n",
       "1     210.0\n",
       "2     159.0\n",
       "3      85.0\n",
       "4      83.0\n",
       "5      79.0\n",
       "6      45.0\n",
       "7      49.0\n",
       "8      16.0\n",
       "9      14.0\n",
       "10      2.0\n",
       "Name: TARGET, dtype: float64"
      ]
     },
     "execution_count": 59,
     "metadata": {},
     "output_type": "execute_result"
    }
   ],
   "source": [
    "aux1"
   ]
  },
  {
   "cell_type": "markdown",
   "id": "763e69a5-5931-413e-a653-8fd374d11720",
   "metadata": {},
   "source": [
    "# XGBOOST"
   ]
  },
  {
   "cell_type": "code",
   "execution_count": 16,
   "id": "4d68a196-70e7-4ba2-ad8d-e6eb3dbd19e9",
   "metadata": {},
   "outputs": [],
   "source": [
    "from sklearn.ensemble import GradientBoostingClassifier"
   ]
  },
  {
   "cell_type": "code",
   "execution_count": 17,
   "id": "0def2755-8375-40e7-a8cc-9adee432c0e1",
   "metadata": {},
   "outputs": [
    {
     "data": {
      "text/plain": [
       "0.9989042471498611"
      ]
     },
     "execution_count": 17,
     "metadata": {},
     "output_type": "execute_result"
    }
   ],
   "source": [
    "clf = GradientBoostingClassifier(n_estimators=100, learning_rate=1.0,\n",
    "    max_depth=1, random_state=0).fit(X_train, y_train)\n",
    "clf.score(X_test, y_test)"
   ]
  },
  {
   "cell_type": "code",
   "execution_count": 18,
   "id": "eb3f3f9a-389d-4580-b672-506652f5faed",
   "metadata": {
    "tags": []
   },
   "outputs": [
    {
     "data": {
      "text/plain": [
       "0.9989958064767713"
      ]
     },
     "execution_count": 18,
     "metadata": {},
     "output_type": "execute_result"
    }
   ],
   "source": [
    "clf.score(X_train, y_train)"
   ]
  },
  {
   "cell_type": "code",
   "execution_count": 19,
   "id": "59f67d11-4b27-4a1c-906d-acf4ddabda21",
   "metadata": {
    "tags": []
   },
   "outputs": [],
   "source": [
    "from sklearn.metrics import classification_report"
   ]
  },
  {
   "cell_type": "code",
   "execution_count": 20,
   "id": "68f5f0d8-4010-45d9-99f1-f61f62472e4a",
   "metadata": {
    "tags": []
   },
   "outputs": [
    {
     "name": "stderr",
     "output_type": "stream",
     "text": [
      "/opt/conda/lib/python3.10/site-packages/sklearn/metrics/_classification.py:1509: UndefinedMetricWarning: Precision is ill-defined and being set to 0.0 in labels with no predicted samples. Use `zero_division` parameter to control this behavior.\n",
      "  _warn_prf(average, modifier, f\"{metric.capitalize()} is\", len(result))\n",
      "/opt/conda/lib/python3.10/site-packages/sklearn/metrics/_classification.py:1509: UndefinedMetricWarning: Precision is ill-defined and being set to 0.0 in labels with no predicted samples. Use `zero_division` parameter to control this behavior.\n",
      "  _warn_prf(average, modifier, f\"{metric.capitalize()} is\", len(result))\n"
     ]
    },
    {
     "name": "stdout",
     "output_type": "stream",
     "text": [
      "              precision    recall  f1-score   support\n",
      "\n",
      "         0.0       1.00      1.00      1.00    676418\n",
      "         1.0       0.00      0.00      0.00       742\n",
      "\n",
      "    accuracy                           1.00    677160\n",
      "   macro avg       0.50      0.50      0.50    677160\n",
      "weighted avg       1.00      1.00      1.00    677160\n",
      "\n"
     ]
    },
    {
     "name": "stderr",
     "output_type": "stream",
     "text": [
      "/opt/conda/lib/python3.10/site-packages/sklearn/metrics/_classification.py:1509: UndefinedMetricWarning: Precision is ill-defined and being set to 0.0 in labels with no predicted samples. Use `zero_division` parameter to control this behavior.\n",
      "  _warn_prf(average, modifier, f\"{metric.capitalize()} is\", len(result))\n"
     ]
    }
   ],
   "source": [
    "print(classification_report(y_test,clf.predict(X_test)))"
   ]
  },
  {
   "cell_type": "code",
   "execution_count": 21,
   "id": "0619b539-b4da-428c-bc08-f4a72d3e4379",
   "metadata": {
    "tags": []
   },
   "outputs": [
    {
     "name": "stdout",
     "output_type": "stream",
     "text": [
      "                           feature  importance\n",
      "88                    ANTIGUEDAD_d    0.999420\n",
      "71                   roll_sum_7_TX    0.000169\n",
      "28            roll_max_7D_TX_check    0.000098\n",
      "8             roll_mean_30D_AMOUNT    0.000071\n",
      "44                    lag_2_AMOUNT    0.000064\n",
      "..                             ...         ...\n",
      "30            roll_max_30D_BALANCE    0.000000\n",
      "27               roll_max_7D_TX_MO    0.000000\n",
      "26                  roll_max_7D_TX    0.000000\n",
      "25  roll_max_7D_TOTAL_AMOUNT_check    0.000000\n",
      "37                   lag_1_BALANCE    0.000000\n",
      "\n",
      "[89 rows x 2 columns]\n"
     ]
    }
   ],
   "source": [
    "# Get feature importances\n",
    "importances = clf.feature_importances_\n",
    "\n",
    "# Get the feature names (assuming you have them stored in a list called 'feature_names')\n",
    "feature_names = X_test.columns  # replace with your feature names\n",
    "\n",
    "# Create DataFrame\n",
    "fi = pd.DataFrame({'feature': feature_names, 'importance': importances})\n",
    "\n",
    "# Sort DataFrame by importance\n",
    "fi = fi.sort_values('importance', ascending=False)\n",
    "\n",
    "# Print DataFrame\n",
    "print(fi)\n"
   ]
  },
  {
   "cell_type": "code",
   "execution_count": 33,
   "id": "eab9a7e7-5194-4ba8-81f5-eb1ccdf9c812",
   "metadata": {
    "tags": []
   },
   "outputs": [
    {
     "data": {
      "text/html": [
       "<div>\n",
       "<style scoped>\n",
       "    .dataframe tbody tr th:only-of-type {\n",
       "        vertical-align: middle;\n",
       "    }\n",
       "\n",
       "    .dataframe tbody tr th {\n",
       "        vertical-align: top;\n",
       "    }\n",
       "\n",
       "    .dataframe thead th {\n",
       "        text-align: right;\n",
       "    }\n",
       "</style>\n",
       "<table border=\"1\" class=\"dataframe\">\n",
       "  <thead>\n",
       "    <tr style=\"text-align: right;\">\n",
       "      <th></th>\n",
       "      <th>feature</th>\n",
       "      <th>importance</th>\n",
       "    </tr>\n",
       "  </thead>\n",
       "  <tbody>\n",
       "    <tr>\n",
       "      <th>88</th>\n",
       "      <td>ANTIGUEDAD_d</td>\n",
       "      <td>0.999420</td>\n",
       "    </tr>\n",
       "    <tr>\n",
       "      <th>71</th>\n",
       "      <td>roll_sum_7_TX</td>\n",
       "      <td>0.000169</td>\n",
       "    </tr>\n",
       "    <tr>\n",
       "      <th>28</th>\n",
       "      <td>roll_max_7D_TX_check</td>\n",
       "      <td>0.000098</td>\n",
       "    </tr>\n",
       "    <tr>\n",
       "      <th>8</th>\n",
       "      <td>roll_mean_30D_AMOUNT</td>\n",
       "      <td>0.000071</td>\n",
       "    </tr>\n",
       "    <tr>\n",
       "      <th>44</th>\n",
       "      <td>lag_2_AMOUNT</td>\n",
       "      <td>0.000064</td>\n",
       "    </tr>\n",
       "    <tr>\n",
       "      <th>9</th>\n",
       "      <td>roll_mean_30D_BALANCE</td>\n",
       "      <td>0.000064</td>\n",
       "    </tr>\n",
       "    <tr>\n",
       "      <th>7</th>\n",
       "      <td>DSO_DEPO_DAY</td>\n",
       "      <td>0.000041</td>\n",
       "    </tr>\n",
       "    <tr>\n",
       "      <th>1</th>\n",
       "      <td>AMOUNT</td>\n",
       "      <td>0.000029</td>\n",
       "    </tr>\n",
       "    <tr>\n",
       "      <th>52</th>\n",
       "      <td>lag_7_AMOUNT</td>\n",
       "      <td>0.000021</td>\n",
       "    </tr>\n",
       "    <tr>\n",
       "      <th>36</th>\n",
       "      <td>lag_1_AMOUNT</td>\n",
       "      <td>0.000010</td>\n",
       "    </tr>\n",
       "    <tr>\n",
       "      <th>29</th>\n",
       "      <td>roll_max_30D_AMOUNT</td>\n",
       "      <td>0.000008</td>\n",
       "    </tr>\n",
       "    <tr>\n",
       "      <th>14</th>\n",
       "      <td>roll_mean_30D_TX_check</td>\n",
       "      <td>0.000006</td>\n",
       "    </tr>\n",
       "    <tr>\n",
       "      <th>64</th>\n",
       "      <td>lag_30_TX_MO</td>\n",
       "      <td>0.000000</td>\n",
       "    </tr>\n",
       "    <tr>\n",
       "      <th>63</th>\n",
       "      <td>lag_30_TX</td>\n",
       "      <td>0.000000</td>\n",
       "    </tr>\n",
       "    <tr>\n",
       "      <th>62</th>\n",
       "      <td>lag_30_TOTAL_AMOUNT_check</td>\n",
       "      <td>0.000000</td>\n",
       "    </tr>\n",
       "    <tr>\n",
       "      <th>61</th>\n",
       "      <td>lag_30_TOTAL_AMOUNT_MO</td>\n",
       "      <td>0.000000</td>\n",
       "    </tr>\n",
       "    <tr>\n",
       "      <th>60</th>\n",
       "      <td>lag_30_BALANCE</td>\n",
       "      <td>0.000000</td>\n",
       "    </tr>\n",
       "    <tr>\n",
       "      <th>59</th>\n",
       "      <td>lag_30_AMOUNT</td>\n",
       "      <td>0.000000</td>\n",
       "    </tr>\n",
       "    <tr>\n",
       "      <th>58</th>\n",
       "      <td>lag_7_TX_check</td>\n",
       "      <td>0.000000</td>\n",
       "    </tr>\n",
       "    <tr>\n",
       "      <th>57</th>\n",
       "      <td>lag_7_TX_MO</td>\n",
       "      <td>0.000000</td>\n",
       "    </tr>\n",
       "    <tr>\n",
       "      <th>56</th>\n",
       "      <td>lag_7_TX</td>\n",
       "      <td>0.000000</td>\n",
       "    </tr>\n",
       "    <tr>\n",
       "      <th>55</th>\n",
       "      <td>lag_7_TOTAL_AMOUNT_check</td>\n",
       "      <td>0.000000</td>\n",
       "    </tr>\n",
       "    <tr>\n",
       "      <th>54</th>\n",
       "      <td>lag_7_TOTAL_AMOUNT_MO</td>\n",
       "      <td>0.000000</td>\n",
       "    </tr>\n",
       "    <tr>\n",
       "      <th>53</th>\n",
       "      <td>lag_7_BALANCE</td>\n",
       "      <td>0.000000</td>\n",
       "    </tr>\n",
       "    <tr>\n",
       "      <th>51</th>\n",
       "      <td>lag_2_DEFAULT</td>\n",
       "      <td>0.000000</td>\n",
       "    </tr>\n",
       "    <tr>\n",
       "      <th>50</th>\n",
       "      <td>lag_2_TX_check</td>\n",
       "      <td>0.000000</td>\n",
       "    </tr>\n",
       "    <tr>\n",
       "      <th>48</th>\n",
       "      <td>lag_2_TX</td>\n",
       "      <td>0.000000</td>\n",
       "    </tr>\n",
       "    <tr>\n",
       "      <th>65</th>\n",
       "      <td>lag_30_TX_check</td>\n",
       "      <td>0.000000</td>\n",
       "    </tr>\n",
       "    <tr>\n",
       "      <th>86</th>\n",
       "      <td>roll_sum_60_TX_MO</td>\n",
       "      <td>0.000000</td>\n",
       "    </tr>\n",
       "    <tr>\n",
       "      <th>85</th>\n",
       "      <td>roll_sum_60_TX</td>\n",
       "      <td>0.000000</td>\n",
       "    </tr>\n",
       "  </tbody>\n",
       "</table>\n",
       "</div>"
      ],
      "text/plain": [
       "                      feature  importance\n",
       "88               ANTIGUEDAD_d    0.999420\n",
       "71              roll_sum_7_TX    0.000169\n",
       "28       roll_max_7D_TX_check    0.000098\n",
       "8        roll_mean_30D_AMOUNT    0.000071\n",
       "44               lag_2_AMOUNT    0.000064\n",
       "9       roll_mean_30D_BALANCE    0.000064\n",
       "7                DSO_DEPO_DAY    0.000041\n",
       "1                      AMOUNT    0.000029\n",
       "52               lag_7_AMOUNT    0.000021\n",
       "36               lag_1_AMOUNT    0.000010\n",
       "29        roll_max_30D_AMOUNT    0.000008\n",
       "14     roll_mean_30D_TX_check    0.000006\n",
       "64               lag_30_TX_MO    0.000000\n",
       "63                  lag_30_TX    0.000000\n",
       "62  lag_30_TOTAL_AMOUNT_check    0.000000\n",
       "61     lag_30_TOTAL_AMOUNT_MO    0.000000\n",
       "60             lag_30_BALANCE    0.000000\n",
       "59              lag_30_AMOUNT    0.000000\n",
       "58             lag_7_TX_check    0.000000\n",
       "57                lag_7_TX_MO    0.000000\n",
       "56                   lag_7_TX    0.000000\n",
       "55   lag_7_TOTAL_AMOUNT_check    0.000000\n",
       "54      lag_7_TOTAL_AMOUNT_MO    0.000000\n",
       "53              lag_7_BALANCE    0.000000\n",
       "51              lag_2_DEFAULT    0.000000\n",
       "50             lag_2_TX_check    0.000000\n",
       "48                   lag_2_TX    0.000000\n",
       "65            lag_30_TX_check    0.000000\n",
       "86          roll_sum_60_TX_MO    0.000000\n",
       "85             roll_sum_60_TX    0.000000"
      ]
     },
     "execution_count": 33,
     "metadata": {},
     "output_type": "execute_result"
    }
   ],
   "source": [
    "fi.head(30)"
   ]
  },
  {
   "cell_type": "code",
   "execution_count": 22,
   "id": "b3370ca9-4153-4f56-a1ba-d1aa655b2a8a",
   "metadata": {
    "tags": []
   },
   "outputs": [],
   "source": [
    "X_test['proba'] = clf.predict_proba(X_test)[:, 1]"
   ]
  },
  {
   "cell_type": "code",
   "execution_count": 23,
   "id": "f5bf79f3-d12b-4122-9a7e-5ad66455caaf",
   "metadata": {
    "tags": []
   },
   "outputs": [],
   "source": [
    "percentiles = pd.qcut(X_test['proba'], 10, labels=False, duplicates='drop')\n",
    "percentile_label = {p: l for l, p in enumerate(sorted(percentiles.unique(), reverse=True), start=1)}\n",
    "percentiles = percentiles.map(percentile_label)\n",
    "X_test['deciles'] = percentiles\n",
    "X_test['deciles'] = X_test['deciles'].astype('Int32')\n"
   ]
  },
  {
   "cell_type": "code",
   "execution_count": 24,
   "id": "4b45d57c-8bb2-4824-a6f7-50818dbf8bce",
   "metadata": {
    "tags": []
   },
   "outputs": [
    {
     "data": {
      "text/plain": [
       "(677160, 91)"
      ]
     },
     "execution_count": 24,
     "metadata": {},
     "output_type": "execute_result"
    }
   ],
   "source": [
    "X_test.shape"
   ]
  },
  {
   "cell_type": "code",
   "execution_count": 25,
   "id": "717b71bf-4114-4e06-a727-dea5514d7ec4",
   "metadata": {
    "tags": []
   },
   "outputs": [
    {
     "data": {
      "text/plain": [
       "(677160,)"
      ]
     },
     "execution_count": 25,
     "metadata": {},
     "output_type": "execute_result"
    }
   ],
   "source": [
    "y_test.shape"
   ]
  },
  {
   "cell_type": "code",
   "execution_count": 26,
   "id": "d6c50a62-8582-4e06-a4f0-11108df3b84e",
   "metadata": {
    "tags": []
   },
   "outputs": [
    {
     "data": {
      "text/plain": [
       "742.0"
      ]
     },
     "execution_count": 26,
     "metadata": {},
     "output_type": "execute_result"
    }
   ],
   "source": [
    "y_test.sum()"
   ]
  },
  {
   "cell_type": "code",
   "execution_count": 27,
   "id": "d9e36635-903b-4524-ab75-cee5e2bd7672",
   "metadata": {
    "tags": []
   },
   "outputs": [],
   "source": [
    "Aux = pd.merge(X_test, y_test, left_index=True,right_index=True, how='left')"
   ]
  },
  {
   "cell_type": "code",
   "execution_count": 28,
   "id": "76965315-111c-4d1d-beb2-8d9294cb7614",
   "metadata": {
    "tags": []
   },
   "outputs": [
    {
     "data": {
      "text/plain": [
       "(677160, 92)"
      ]
     },
     "execution_count": 28,
     "metadata": {},
     "output_type": "execute_result"
    }
   ],
   "source": [
    "Aux.shape"
   ]
  },
  {
   "cell_type": "code",
   "execution_count": 29,
   "id": "7f8f6a71-5602-4914-99d7-bc94bc52ed30",
   "metadata": {
    "tags": []
   },
   "outputs": [
    {
     "data": {
      "text/plain": [
       "Index(['TX', 'AMOUNT', 'BALANCE', 'TX_check', 'TOTAL_AMOUNT_check', 'TX_MO',\n",
       "       'TOTAL_AMOUNT_MO', 'DSO_DEPO_DAY', 'roll_mean_30D_AMOUNT',\n",
       "       'roll_mean_30D_BALANCE', 'roll_mean_30D_TOTAL_AMOUNT_MO',\n",
       "       'roll_mean_30D_TOTAL_AMOUNT_check', 'roll_mean_30D_TX',\n",
       "       'roll_mean_30D_TX_MO', 'roll_mean_30D_TX_check', 'roll_mean_7D_AMOUNT',\n",
       "       'roll_mean_7D_BALANCE', 'roll_mean_7D_TOTAL_AMOUNT_MO',\n",
       "       'roll_mean_7D_TOTAL_AMOUNT_check', 'roll_mean_7D_TX',\n",
       "       'roll_mean_7D_TX_MO', 'roll_mean_7D_TX_check', 'roll_max_7D_AMOUNT',\n",
       "       'roll_max_7D_BALANCE', 'roll_max_7D_TOTAL_AMOUNT_MO',\n",
       "       'roll_max_7D_TOTAL_AMOUNT_check', 'roll_max_7D_TX', 'roll_max_7D_TX_MO',\n",
       "       'roll_max_7D_TX_check', 'roll_max_30D_AMOUNT', 'roll_max_30D_BALANCE',\n",
       "       'roll_max_30D_TOTAL_AMOUNT_MO', 'roll_max_30D_TOTAL_AMOUNT_check',\n",
       "       'roll_max_30D_TX', 'roll_max_30D_TX_MO', 'roll_max_30D_TX_check',\n",
       "       'lag_1_AMOUNT', 'lag_1_BALANCE', 'lag_1_TOTAL_AMOUNT_MO',\n",
       "       'lag_1_TOTAL_AMOUNT_check', 'lag_1_TX', 'lag_1_TX_MO', 'lag_1_TX_check',\n",
       "       'lag_1_DEFAULT', 'lag_2_AMOUNT', 'lag_2_BALANCE',\n",
       "       'lag_2_TOTAL_AMOUNT_MO', 'lag_2_TOTAL_AMOUNT_check', 'lag_2_TX',\n",
       "       'lag_2_TX_MO', 'lag_2_TX_check', 'lag_2_DEFAULT', 'lag_7_AMOUNT',\n",
       "       'lag_7_BALANCE', 'lag_7_TOTAL_AMOUNT_MO', 'lag_7_TOTAL_AMOUNT_check',\n",
       "       'lag_7_TX', 'lag_7_TX_MO', 'lag_7_TX_check', 'lag_30_AMOUNT',\n",
       "       'lag_30_BALANCE', 'lag_30_TOTAL_AMOUNT_MO', 'lag_30_TOTAL_AMOUNT_check',\n",
       "       'lag_30_TX', 'lag_30_TX_MO', 'lag_30_TX_check', 'lag_30_DEFAULT',\n",
       "       'roll_sum_7_AMOUNT', 'roll_sum_7_BALANCE', 'roll_sum_7_TOTAL_AMOUNT_MO',\n",
       "       'roll_sum_7_TOTAL_AMOUNT_check', 'roll_sum_7_TX', 'roll_sum_7_TX_MO',\n",
       "       'roll_sum_7_TX_check', 'roll_sum_30_AMOUNT', 'roll_sum_30_BALANCE',\n",
       "       'roll_sum_30_TOTAL_AMOUNT_MO', 'roll_sum_30_TOTAL_AMOUNT_check',\n",
       "       'roll_sum_30_TX', 'roll_sum_30_TX_MO', 'roll_sum_30_TX_check',\n",
       "       'roll_sum_60_AMOUNT', 'roll_sum_60_BALANCE',\n",
       "       'roll_sum_60_TOTAL_AMOUNT_MO', 'roll_sum_60_TOTAL_AMOUNT_check',\n",
       "       'roll_sum_60_TX', 'roll_sum_60_TX_MO', 'roll_sum_60_TX_check',\n",
       "       'ANTIGUEDAD_d', 'proba', 'deciles', 'TARGET'],\n",
       "      dtype='object')"
      ]
     },
     "execution_count": 29,
     "metadata": {},
     "output_type": "execute_result"
    }
   ],
   "source": [
    "Aux.columns"
   ]
  },
  {
   "cell_type": "code",
   "execution_count": 30,
   "id": "560dbbf2-99ac-447b-840c-f1f8ad9acd91",
   "metadata": {
    "tags": []
   },
   "outputs": [
    {
     "data": {
      "text/plain": [
       "742.0"
      ]
     },
     "execution_count": 30,
     "metadata": {},
     "output_type": "execute_result"
    }
   ],
   "source": [
    "Aux['TARGET'].sum()"
   ]
  },
  {
   "cell_type": "code",
   "execution_count": 31,
   "id": "98429ccb-52fe-49fe-a47f-baa3af639ccd",
   "metadata": {
    "tags": []
   },
   "outputs": [],
   "source": [
    "aux1 = Aux.groupby('deciles')['TARGET'].sum()"
   ]
  },
  {
   "cell_type": "code",
   "execution_count": 32,
   "id": "09364cfa-d0e3-4837-85f2-f082199f7ad4",
   "metadata": {
    "tags": []
   },
   "outputs": [
    {
     "data": {
      "text/plain": [
       "deciles\n",
       "1     228.0\n",
       "2      81.0\n",
       "3      61.0\n",
       "4     100.0\n",
       "5      40.0\n",
       "6      80.0\n",
       "7      41.0\n",
       "8      86.0\n",
       "9      19.0\n",
       "10      6.0\n",
       "Name: TARGET, dtype: float64"
      ]
     },
     "execution_count": 32,
     "metadata": {},
     "output_type": "execute_result"
    }
   ],
   "source": [
    "aux1"
   ]
  },
  {
   "cell_type": "code",
   "execution_count": null,
   "id": "748b7292-de78-4454-819a-d0946ba1e166",
   "metadata": {},
   "outputs": [],
   "source": []
  },
  {
   "cell_type": "code",
   "execution_count": 26,
   "id": "48d6991f-5a4a-4e91-9b61-af42dcfc6252",
   "metadata": {
    "tags": []
   },
   "outputs": [
    {
     "data": {
      "image/png": "[encoded data removed]",
      "text/plain": [
       "<Figure size 640x480 with 1 Axes>"
      ]
     },
     "metadata": {},
     "output_type": "display_data"
    }
   ],
   "source": [
    "import matplotlib.pyplot as plt\n",
    "import numpy as np\n",
    "\n",
    "# Get feature importances\n",
    "importances = clf.feature_importances_\n",
    "\n",
    "# Get the feature names (assuming you have them stored in a list called 'feature_names')\n",
    "feature_names = X_test.columns  # replace with your feature names\n",
    "\n",
    "# Sort feature importances in descending order\n",
    "indices = np.argsort(importances)[::-1]\n",
    "\n",
    "# Rearrange feature names so they match the sorted feature importances\n",
    "names = [feature_names[i] for i in indices]\n",
    "\n",
    "# Create plot\n",
    "plt.figure()\n",
    "\n",
    "# Create plot title\n",
    "plt.title(\"Feature Importance\")\n",
    "\n",
    "# Add bars\n",
    "plt.bar(range(len(importances)), importances[indices])\n",
    "\n",
    "# Add feature names as x-axis labels\n",
    "plt.xticks(range(len(importances)), names, rotation=90)\n",
    "\n",
    "# Show plot\n",
    "plt.show()\n"
   ]
  },
  {
   "cell_type": "code",
   "execution_count": 27,
   "id": "fe5cf9e1-3e1e-43b9-90f2-e44f53a6c98f",
   "metadata": {},
   "outputs": [
    {
     "data": {
      "text/plain": [
       "(2166913, 98)"
      ]
     },
     "execution_count": 27,
     "metadata": {},
     "output_type": "execute_result"
    }
   ],
   "source": [
    "X_train.shape"
   ]
  },
  {
   "cell_type": "code",
   "execution_count": 28,
   "id": "c04f3458-30ae-48d7-9ec6-9dde764ca3ff",
   "metadata": {},
   "outputs": [
    {
     "data": {
      "text/plain": [
       "(677160, 98)"
      ]
     },
     "execution_count": 28,
     "metadata": {},
     "output_type": "execute_result"
    }
   ],
   "source": [
    "X_test.shape"
   ]
  },
  {
   "cell_type": "code",
   "execution_count": 16,
   "id": "06588ea6-e490-4017-a896-2c661ad037ae",
   "metadata": {},
   "outputs": [
    {
     "data": {
      "text/html": [
       "<div>\n",
       "<style scoped>\n",
       "    .dataframe tbody tr th:only-of-type {\n",
       "        vertical-align: middle;\n",
       "    }\n",
       "\n",
       "    .dataframe tbody tr th {\n",
       "        vertical-align: top;\n",
       "    }\n",
       "\n",
       "    .dataframe thead th {\n",
       "        text-align: right;\n",
       "    }\n",
       "</style>\n",
       "<table border=\"1\" class=\"dataframe\">\n",
       "  <thead>\n",
       "    <tr style=\"text-align: right;\">\n",
       "      <th></th>\n",
       "      <th>TX</th>\n",
       "      <th>AMOUNT</th>\n",
       "      <th>BALANCE</th>\n",
       "      <th>TX_check</th>\n",
       "      <th>TOTAL_AMOUNT_check</th>\n",
       "      <th>TX_MO</th>\n",
       "      <th>TOTAL_AMOUNT_MO</th>\n",
       "      <th>DSO_DEPO_DAY</th>\n",
       "      <th>INACTIVE_DAYS</th>\n",
       "      <th>DEFAULT</th>\n",
       "      <th>...</th>\n",
       "      <th>roll_sum_30_DEFAULT</th>\n",
       "      <th>roll_sum_60_AMOUNT</th>\n",
       "      <th>roll_sum_60_BALANCE</th>\n",
       "      <th>roll_sum_60_TOTAL_AMOUNT_MO</th>\n",
       "      <th>roll_sum_60_TOTAL_AMOUNT_check</th>\n",
       "      <th>roll_sum_60_TX</th>\n",
       "      <th>roll_sum_60_TX_MO</th>\n",
       "      <th>roll_sum_60_TX_check</th>\n",
       "      <th>roll_sum_60_DEFAULT</th>\n",
       "      <th>ANTIGUEDAD_d</th>\n",
       "    </tr>\n",
       "  </thead>\n",
       "  <tbody>\n",
       "    <tr>\n",
       "      <th>0</th>\n",
       "      <td>0.0</td>\n",
       "      <td>0.0</td>\n",
       "      <td>0.0000</td>\n",
       "      <td>0.0</td>\n",
       "      <td>0.0</td>\n",
       "      <td>0.0</td>\n",
       "      <td>0.0</td>\n",
       "      <td>0.0</td>\n",
       "      <td>0.0</td>\n",
       "      <td>0.0</td>\n",
       "      <td>...</td>\n",
       "      <td>0.0</td>\n",
       "      <td>0.0</td>\n",
       "      <td>0.0</td>\n",
       "      <td>0.0</td>\n",
       "      <td>0.0</td>\n",
       "      <td>0.0</td>\n",
       "      <td>0.0</td>\n",
       "      <td>0.0</td>\n",
       "      <td>0.0</td>\n",
       "      <td>1552.0</td>\n",
       "    </tr>\n",
       "    <tr>\n",
       "      <th>1</th>\n",
       "      <td>0.0</td>\n",
       "      <td>0.0</td>\n",
       "      <td>13853.8257</td>\n",
       "      <td>0.0</td>\n",
       "      <td>0.0</td>\n",
       "      <td>0.0</td>\n",
       "      <td>0.0</td>\n",
       "      <td>0.0</td>\n",
       "      <td>0.0</td>\n",
       "      <td>0.0</td>\n",
       "      <td>...</td>\n",
       "      <td>0.0</td>\n",
       "      <td>0.0</td>\n",
       "      <td>0.0</td>\n",
       "      <td>0.0</td>\n",
       "      <td>0.0</td>\n",
       "      <td>0.0</td>\n",
       "      <td>0.0</td>\n",
       "      <td>0.0</td>\n",
       "      <td>0.0</td>\n",
       "      <td>1553.0</td>\n",
       "    </tr>\n",
       "    <tr>\n",
       "      <th>2</th>\n",
       "      <td>0.0</td>\n",
       "      <td>0.0</td>\n",
       "      <td>0.0000</td>\n",
       "      <td>0.0</td>\n",
       "      <td>0.0</td>\n",
       "      <td>0.0</td>\n",
       "      <td>0.0</td>\n",
       "      <td>0.0</td>\n",
       "      <td>0.0</td>\n",
       "      <td>0.0</td>\n",
       "      <td>...</td>\n",
       "      <td>0.0</td>\n",
       "      <td>0.0</td>\n",
       "      <td>0.0</td>\n",
       "      <td>0.0</td>\n",
       "      <td>0.0</td>\n",
       "      <td>0.0</td>\n",
       "      <td>0.0</td>\n",
       "      <td>0.0</td>\n",
       "      <td>0.0</td>\n",
       "      <td>1554.0</td>\n",
       "    </tr>\n",
       "    <tr>\n",
       "      <th>3</th>\n",
       "      <td>1.0</td>\n",
       "      <td>340.0</td>\n",
       "      <td>13853.8257</td>\n",
       "      <td>0.0</td>\n",
       "      <td>0.0</td>\n",
       "      <td>0.0</td>\n",
       "      <td>0.0</td>\n",
       "      <td>0.0</td>\n",
       "      <td>0.0</td>\n",
       "      <td>0.0</td>\n",
       "      <td>...</td>\n",
       "      <td>0.0</td>\n",
       "      <td>0.0</td>\n",
       "      <td>0.0</td>\n",
       "      <td>0.0</td>\n",
       "      <td>0.0</td>\n",
       "      <td>0.0</td>\n",
       "      <td>0.0</td>\n",
       "      <td>0.0</td>\n",
       "      <td>0.0</td>\n",
       "      <td>1555.0</td>\n",
       "    </tr>\n",
       "    <tr>\n",
       "      <th>4</th>\n",
       "      <td>1.0</td>\n",
       "      <td>25.0</td>\n",
       "      <td>14202.1057</td>\n",
       "      <td>0.0</td>\n",
       "      <td>0.0</td>\n",
       "      <td>0.0</td>\n",
       "      <td>0.0</td>\n",
       "      <td>0.0</td>\n",
       "      <td>0.0</td>\n",
       "      <td>0.0</td>\n",
       "      <td>...</td>\n",
       "      <td>0.0</td>\n",
       "      <td>0.0</td>\n",
       "      <td>0.0</td>\n",
       "      <td>0.0</td>\n",
       "      <td>0.0</td>\n",
       "      <td>0.0</td>\n",
       "      <td>0.0</td>\n",
       "      <td>0.0</td>\n",
       "      <td>0.0</td>\n",
       "      <td>1556.0</td>\n",
       "    </tr>\n",
       "    <tr>\n",
       "      <th>5</th>\n",
       "      <td>0.0</td>\n",
       "      <td>0.0</td>\n",
       "      <td>0.0000</td>\n",
       "      <td>0.0</td>\n",
       "      <td>0.0</td>\n",
       "      <td>0.0</td>\n",
       "      <td>0.0</td>\n",
       "      <td>0.0</td>\n",
       "      <td>0.0</td>\n",
       "      <td>0.0</td>\n",
       "      <td>...</td>\n",
       "      <td>0.0</td>\n",
       "      <td>0.0</td>\n",
       "      <td>0.0</td>\n",
       "      <td>0.0</td>\n",
       "      <td>0.0</td>\n",
       "      <td>0.0</td>\n",
       "      <td>0.0</td>\n",
       "      <td>0.0</td>\n",
       "      <td>0.0</td>\n",
       "      <td>1557.0</td>\n",
       "    </tr>\n",
       "    <tr>\n",
       "      <th>6</th>\n",
       "      <td>0.0</td>\n",
       "      <td>0.0</td>\n",
       "      <td>0.0000</td>\n",
       "      <td>0.0</td>\n",
       "      <td>0.0</td>\n",
       "      <td>0.0</td>\n",
       "      <td>0.0</td>\n",
       "      <td>0.0</td>\n",
       "      <td>0.0</td>\n",
       "      <td>0.0</td>\n",
       "      <td>...</td>\n",
       "      <td>0.0</td>\n",
       "      <td>0.0</td>\n",
       "      <td>0.0</td>\n",
       "      <td>0.0</td>\n",
       "      <td>0.0</td>\n",
       "      <td>0.0</td>\n",
       "      <td>0.0</td>\n",
       "      <td>0.0</td>\n",
       "      <td>0.0</td>\n",
       "      <td>1558.0</td>\n",
       "    </tr>\n",
       "    <tr>\n",
       "      <th>7</th>\n",
       "      <td>0.0</td>\n",
       "      <td>0.0</td>\n",
       "      <td>0.0000</td>\n",
       "      <td>0.0</td>\n",
       "      <td>0.0</td>\n",
       "      <td>0.0</td>\n",
       "      <td>0.0</td>\n",
       "      <td>0.0</td>\n",
       "      <td>0.0</td>\n",
       "      <td>0.0</td>\n",
       "      <td>...</td>\n",
       "      <td>0.0</td>\n",
       "      <td>0.0</td>\n",
       "      <td>0.0</td>\n",
       "      <td>0.0</td>\n",
       "      <td>0.0</td>\n",
       "      <td>0.0</td>\n",
       "      <td>0.0</td>\n",
       "      <td>0.0</td>\n",
       "      <td>0.0</td>\n",
       "      <td>1559.0</td>\n",
       "    </tr>\n",
       "    <tr>\n",
       "      <th>8</th>\n",
       "      <td>6.0</td>\n",
       "      <td>6.0</td>\n",
       "      <td>14232.1057</td>\n",
       "      <td>0.0</td>\n",
       "      <td>0.0</td>\n",
       "      <td>0.0</td>\n",
       "      <td>0.0</td>\n",
       "      <td>0.0</td>\n",
       "      <td>0.0</td>\n",
       "      <td>0.0</td>\n",
       "      <td>...</td>\n",
       "      <td>0.0</td>\n",
       "      <td>0.0</td>\n",
       "      <td>0.0</td>\n",
       "      <td>0.0</td>\n",
       "      <td>0.0</td>\n",
       "      <td>0.0</td>\n",
       "      <td>0.0</td>\n",
       "      <td>0.0</td>\n",
       "      <td>0.0</td>\n",
       "      <td>1560.0</td>\n",
       "    </tr>\n",
       "    <tr>\n",
       "      <th>9</th>\n",
       "      <td>1.0</td>\n",
       "      <td>1.0</td>\n",
       "      <td>14268.1057</td>\n",
       "      <td>0.0</td>\n",
       "      <td>0.0</td>\n",
       "      <td>0.0</td>\n",
       "      <td>0.0</td>\n",
       "      <td>0.0</td>\n",
       "      <td>0.0</td>\n",
       "      <td>0.0</td>\n",
       "      <td>...</td>\n",
       "      <td>0.0</td>\n",
       "      <td>0.0</td>\n",
       "      <td>0.0</td>\n",
       "      <td>0.0</td>\n",
       "      <td>0.0</td>\n",
       "      <td>0.0</td>\n",
       "      <td>0.0</td>\n",
       "      <td>0.0</td>\n",
       "      <td>0.0</td>\n",
       "      <td>1561.0</td>\n",
       "    </tr>\n",
       "  </tbody>\n",
       "</table>\n",
       "<p>10 rows × 99 columns</p>\n",
       "</div>"
      ],
      "text/plain": [
       "    TX  AMOUNT     BALANCE  TX_check  TOTAL_AMOUNT_check  TX_MO  \\\n",
       "0  0.0     0.0      0.0000       0.0                 0.0    0.0   \n",
       "1  0.0     0.0  13853.8257       0.0                 0.0    0.0   \n",
       "2  0.0     0.0      0.0000       0.0                 0.0    0.0   \n",
       "3  1.0   340.0  13853.8257       0.0                 0.0    0.0   \n",
       "4  1.0    25.0  14202.1057       0.0                 0.0    0.0   \n",
       "5  0.0     0.0      0.0000       0.0                 0.0    0.0   \n",
       "6  0.0     0.0      0.0000       0.0                 0.0    0.0   \n",
       "7  0.0     0.0      0.0000       0.0                 0.0    0.0   \n",
       "8  6.0     6.0  14232.1057       0.0                 0.0    0.0   \n",
       "9  1.0     1.0  14268.1057       0.0                 0.0    0.0   \n",
       "\n",
       "   TOTAL_AMOUNT_MO  DSO_DEPO_DAY  INACTIVE_DAYS  DEFAULT  ...  \\\n",
       "0              0.0           0.0            0.0      0.0  ...   \n",
       "1              0.0           0.0            0.0      0.0  ...   \n",
       "2              0.0           0.0            0.0      0.0  ...   \n",
       "3              0.0           0.0            0.0      0.0  ...   \n",
       "4              0.0           0.0            0.0      0.0  ...   \n",
       "5              0.0           0.0            0.0      0.0  ...   \n",
       "6              0.0           0.0            0.0      0.0  ...   \n",
       "7              0.0           0.0            0.0      0.0  ...   \n",
       "8              0.0           0.0            0.0      0.0  ...   \n",
       "9              0.0           0.0            0.0      0.0  ...   \n",
       "\n",
       "   roll_sum_30_DEFAULT  roll_sum_60_AMOUNT  roll_sum_60_BALANCE  \\\n",
       "0                  0.0                 0.0                  0.0   \n",
       "1                  0.0                 0.0                  0.0   \n",
       "2                  0.0                 0.0                  0.0   \n",
       "3                  0.0                 0.0                  0.0   \n",
       "4                  0.0                 0.0                  0.0   \n",
       "5                  0.0                 0.0                  0.0   \n",
       "6                  0.0                 0.0                  0.0   \n",
       "7                  0.0                 0.0                  0.0   \n",
       "8                  0.0                 0.0                  0.0   \n",
       "9                  0.0                 0.0                  0.0   \n",
       "\n",
       "   roll_sum_60_TOTAL_AMOUNT_MO  roll_sum_60_TOTAL_AMOUNT_check  \\\n",
       "0                          0.0                             0.0   \n",
       "1                          0.0                             0.0   \n",
       "2                          0.0                             0.0   \n",
       "3                          0.0                             0.0   \n",
       "4                          0.0                             0.0   \n",
       "5                          0.0                             0.0   \n",
       "6                          0.0                             0.0   \n",
       "7                          0.0                             0.0   \n",
       "8                          0.0                             0.0   \n",
       "9                          0.0                             0.0   \n",
       "\n",
       "   roll_sum_60_TX  roll_sum_60_TX_MO  roll_sum_60_TX_check  \\\n",
       "0             0.0                0.0                   0.0   \n",
       "1             0.0                0.0                   0.0   \n",
       "2             0.0                0.0                   0.0   \n",
       "3             0.0                0.0                   0.0   \n",
       "4             0.0                0.0                   0.0   \n",
       "5             0.0                0.0                   0.0   \n",
       "6             0.0                0.0                   0.0   \n",
       "7             0.0                0.0                   0.0   \n",
       "8             0.0                0.0                   0.0   \n",
       "9             0.0                0.0                   0.0   \n",
       "\n",
       "   roll_sum_60_DEFAULT  ANTIGUEDAD_d  \n",
       "0                  0.0        1552.0  \n",
       "1                  0.0        1553.0  \n",
       "2                  0.0        1554.0  \n",
       "3                  0.0        1555.0  \n",
       "4                  0.0        1556.0  \n",
       "5                  0.0        1557.0  \n",
       "6                  0.0        1558.0  \n",
       "7                  0.0        1559.0  \n",
       "8                  0.0        1560.0  \n",
       "9                  0.0        1561.0  \n",
       "\n",
       "[10 rows x 99 columns]"
      ]
     },
     "execution_count": 16,
     "metadata": {},
     "output_type": "execute_result"
    }
   ],
   "source": [
    "X_train.head(10)"
   ]
  },
  {
   "cell_type": "code",
   "execution_count": 17,
   "id": "e202eb65-5db0-45a6-9c5c-ec2c8d0c2cf4",
   "metadata": {},
   "outputs": [
    {
     "data": {
      "text/html": [
       "<div>\n",
       "<style scoped>\n",
       "    .dataframe tbody tr th:only-of-type {\n",
       "        vertical-align: middle;\n",
       "    }\n",
       "\n",
       "    .dataframe tbody tr th {\n",
       "        vertical-align: top;\n",
       "    }\n",
       "\n",
       "    .dataframe thead th {\n",
       "        text-align: right;\n",
       "    }\n",
       "</style>\n",
       "<table border=\"1\" class=\"dataframe\">\n",
       "  <thead>\n",
       "    <tr style=\"text-align: right;\">\n",
       "      <th></th>\n",
       "      <th>DATE</th>\n",
       "      <th>ID_BRANCH</th>\n",
       "      <th>TX</th>\n",
       "      <th>AMOUNT</th>\n",
       "      <th>BALANCE</th>\n",
       "      <th>TX_check</th>\n",
       "      <th>TOTAL_AMOUNT_check</th>\n",
       "      <th>TX_MO</th>\n",
       "      <th>TOTAL_AMOUNT_MO</th>\n",
       "      <th>DSO_DEPO_DAY</th>\n",
       "      <th>...</th>\n",
       "      <th>roll_sum_30_DEFAULT</th>\n",
       "      <th>roll_sum_60_AMOUNT</th>\n",
       "      <th>roll_sum_60_BALANCE</th>\n",
       "      <th>roll_sum_60_TOTAL_AMOUNT_MO</th>\n",
       "      <th>roll_sum_60_TOTAL_AMOUNT_check</th>\n",
       "      <th>roll_sum_60_TX</th>\n",
       "      <th>roll_sum_60_TX_MO</th>\n",
       "      <th>roll_sum_60_TX_check</th>\n",
       "      <th>roll_sum_60_DEFAULT</th>\n",
       "      <th>ANTIGUEDAD_d</th>\n",
       "    </tr>\n",
       "  </thead>\n",
       "  <tbody>\n",
       "    <tr>\n",
       "      <th>0</th>\n",
       "      <td>2023-01-01</td>\n",
       "      <td>A00002</td>\n",
       "      <td>0.0</td>\n",
       "      <td>0.0</td>\n",
       "      <td>0.0000</td>\n",
       "      <td>0.0</td>\n",
       "      <td>0.0</td>\n",
       "      <td>0.0</td>\n",
       "      <td>0.0</td>\n",
       "      <td>0.0</td>\n",
       "      <td>...</td>\n",
       "      <td>0.0</td>\n",
       "      <td>0.0</td>\n",
       "      <td>0.0</td>\n",
       "      <td>0.0</td>\n",
       "      <td>0.0</td>\n",
       "      <td>0.0</td>\n",
       "      <td>0.0</td>\n",
       "      <td>0.0</td>\n",
       "      <td>0.0</td>\n",
       "      <td>1552.0</td>\n",
       "    </tr>\n",
       "    <tr>\n",
       "      <th>1</th>\n",
       "      <td>2023-01-02</td>\n",
       "      <td>A00002</td>\n",
       "      <td>0.0</td>\n",
       "      <td>0.0</td>\n",
       "      <td>13853.8257</td>\n",
       "      <td>0.0</td>\n",
       "      <td>0.0</td>\n",
       "      <td>0.0</td>\n",
       "      <td>0.0</td>\n",
       "      <td>0.0</td>\n",
       "      <td>...</td>\n",
       "      <td>0.0</td>\n",
       "      <td>0.0</td>\n",
       "      <td>0.0</td>\n",
       "      <td>0.0</td>\n",
       "      <td>0.0</td>\n",
       "      <td>0.0</td>\n",
       "      <td>0.0</td>\n",
       "      <td>0.0</td>\n",
       "      <td>0.0</td>\n",
       "      <td>1553.0</td>\n",
       "    </tr>\n",
       "    <tr>\n",
       "      <th>2</th>\n",
       "      <td>2023-01-03</td>\n",
       "      <td>A00002</td>\n",
       "      <td>0.0</td>\n",
       "      <td>0.0</td>\n",
       "      <td>0.0000</td>\n",
       "      <td>0.0</td>\n",
       "      <td>0.0</td>\n",
       "      <td>0.0</td>\n",
       "      <td>0.0</td>\n",
       "      <td>0.0</td>\n",
       "      <td>...</td>\n",
       "      <td>0.0</td>\n",
       "      <td>0.0</td>\n",
       "      <td>0.0</td>\n",
       "      <td>0.0</td>\n",
       "      <td>0.0</td>\n",
       "      <td>0.0</td>\n",
       "      <td>0.0</td>\n",
       "      <td>0.0</td>\n",
       "      <td>0.0</td>\n",
       "      <td>1554.0</td>\n",
       "    </tr>\n",
       "    <tr>\n",
       "      <th>3</th>\n",
       "      <td>2023-01-04</td>\n",
       "      <td>A00002</td>\n",
       "      <td>1.0</td>\n",
       "      <td>340.0</td>\n",
       "      <td>13853.8257</td>\n",
       "      <td>0.0</td>\n",
       "      <td>0.0</td>\n",
       "      <td>0.0</td>\n",
       "      <td>0.0</td>\n",
       "      <td>0.0</td>\n",
       "      <td>...</td>\n",
       "      <td>0.0</td>\n",
       "      <td>0.0</td>\n",
       "      <td>0.0</td>\n",
       "      <td>0.0</td>\n",
       "      <td>0.0</td>\n",
       "      <td>0.0</td>\n",
       "      <td>0.0</td>\n",
       "      <td>0.0</td>\n",
       "      <td>0.0</td>\n",
       "      <td>1555.0</td>\n",
       "    </tr>\n",
       "    <tr>\n",
       "      <th>4</th>\n",
       "      <td>2023-01-05</td>\n",
       "      <td>A00002</td>\n",
       "      <td>1.0</td>\n",
       "      <td>25.0</td>\n",
       "      <td>14202.1057</td>\n",
       "      <td>0.0</td>\n",
       "      <td>0.0</td>\n",
       "      <td>0.0</td>\n",
       "      <td>0.0</td>\n",
       "      <td>0.0</td>\n",
       "      <td>...</td>\n",
       "      <td>0.0</td>\n",
       "      <td>0.0</td>\n",
       "      <td>0.0</td>\n",
       "      <td>0.0</td>\n",
       "      <td>0.0</td>\n",
       "      <td>0.0</td>\n",
       "      <td>0.0</td>\n",
       "      <td>0.0</td>\n",
       "      <td>0.0</td>\n",
       "      <td>1556.0</td>\n",
       "    </tr>\n",
       "    <tr>\n",
       "      <th>5</th>\n",
       "      <td>2023-01-06</td>\n",
       "      <td>A00002</td>\n",
       "      <td>0.0</td>\n",
       "      <td>0.0</td>\n",
       "      <td>0.0000</td>\n",
       "      <td>0.0</td>\n",
       "      <td>0.0</td>\n",
       "      <td>0.0</td>\n",
       "      <td>0.0</td>\n",
       "      <td>0.0</td>\n",
       "      <td>...</td>\n",
       "      <td>0.0</td>\n",
       "      <td>0.0</td>\n",
       "      <td>0.0</td>\n",
       "      <td>0.0</td>\n",
       "      <td>0.0</td>\n",
       "      <td>0.0</td>\n",
       "      <td>0.0</td>\n",
       "      <td>0.0</td>\n",
       "      <td>0.0</td>\n",
       "      <td>1557.0</td>\n",
       "    </tr>\n",
       "    <tr>\n",
       "      <th>6</th>\n",
       "      <td>2023-01-07</td>\n",
       "      <td>A00002</td>\n",
       "      <td>0.0</td>\n",
       "      <td>0.0</td>\n",
       "      <td>0.0000</td>\n",
       "      <td>0.0</td>\n",
       "      <td>0.0</td>\n",
       "      <td>0.0</td>\n",
       "      <td>0.0</td>\n",
       "      <td>0.0</td>\n",
       "      <td>...</td>\n",
       "      <td>0.0</td>\n",
       "      <td>0.0</td>\n",
       "      <td>0.0</td>\n",
       "      <td>0.0</td>\n",
       "      <td>0.0</td>\n",
       "      <td>0.0</td>\n",
       "      <td>0.0</td>\n",
       "      <td>0.0</td>\n",
       "      <td>0.0</td>\n",
       "      <td>1558.0</td>\n",
       "    </tr>\n",
       "    <tr>\n",
       "      <th>7</th>\n",
       "      <td>2023-01-08</td>\n",
       "      <td>A00002</td>\n",
       "      <td>0.0</td>\n",
       "      <td>0.0</td>\n",
       "      <td>0.0000</td>\n",
       "      <td>0.0</td>\n",
       "      <td>0.0</td>\n",
       "      <td>0.0</td>\n",
       "      <td>0.0</td>\n",
       "      <td>0.0</td>\n",
       "      <td>...</td>\n",
       "      <td>0.0</td>\n",
       "      <td>0.0</td>\n",
       "      <td>0.0</td>\n",
       "      <td>0.0</td>\n",
       "      <td>0.0</td>\n",
       "      <td>0.0</td>\n",
       "      <td>0.0</td>\n",
       "      <td>0.0</td>\n",
       "      <td>0.0</td>\n",
       "      <td>1559.0</td>\n",
       "    </tr>\n",
       "    <tr>\n",
       "      <th>8</th>\n",
       "      <td>2023-01-09</td>\n",
       "      <td>A00002</td>\n",
       "      <td>6.0</td>\n",
       "      <td>6.0</td>\n",
       "      <td>14232.1057</td>\n",
       "      <td>0.0</td>\n",
       "      <td>0.0</td>\n",
       "      <td>0.0</td>\n",
       "      <td>0.0</td>\n",
       "      <td>0.0</td>\n",
       "      <td>...</td>\n",
       "      <td>0.0</td>\n",
       "      <td>0.0</td>\n",
       "      <td>0.0</td>\n",
       "      <td>0.0</td>\n",
       "      <td>0.0</td>\n",
       "      <td>0.0</td>\n",
       "      <td>0.0</td>\n",
       "      <td>0.0</td>\n",
       "      <td>0.0</td>\n",
       "      <td>1560.0</td>\n",
       "    </tr>\n",
       "    <tr>\n",
       "      <th>9</th>\n",
       "      <td>2023-01-10</td>\n",
       "      <td>A00002</td>\n",
       "      <td>1.0</td>\n",
       "      <td>1.0</td>\n",
       "      <td>14268.1057</td>\n",
       "      <td>0.0</td>\n",
       "      <td>0.0</td>\n",
       "      <td>0.0</td>\n",
       "      <td>0.0</td>\n",
       "      <td>0.0</td>\n",
       "      <td>...</td>\n",
       "      <td>0.0</td>\n",
       "      <td>0.0</td>\n",
       "      <td>0.0</td>\n",
       "      <td>0.0</td>\n",
       "      <td>0.0</td>\n",
       "      <td>0.0</td>\n",
       "      <td>0.0</td>\n",
       "      <td>0.0</td>\n",
       "      <td>0.0</td>\n",
       "      <td>1561.0</td>\n",
       "    </tr>\n",
       "  </tbody>\n",
       "</table>\n",
       "<p>10 rows × 106 columns</p>\n",
       "</div>"
      ],
      "text/plain": [
       "         DATE ID_BRANCH   TX  AMOUNT     BALANCE  TX_check  \\\n",
       "0  2023-01-01    A00002  0.0     0.0      0.0000       0.0   \n",
       "1  2023-01-02    A00002  0.0     0.0  13853.8257       0.0   \n",
       "2  2023-01-03    A00002  0.0     0.0      0.0000       0.0   \n",
       "3  2023-01-04    A00002  1.0   340.0  13853.8257       0.0   \n",
       "4  2023-01-05    A00002  1.0    25.0  14202.1057       0.0   \n",
       "5  2023-01-06    A00002  0.0     0.0      0.0000       0.0   \n",
       "6  2023-01-07    A00002  0.0     0.0      0.0000       0.0   \n",
       "7  2023-01-08    A00002  0.0     0.0      0.0000       0.0   \n",
       "8  2023-01-09    A00002  6.0     6.0  14232.1057       0.0   \n",
       "9  2023-01-10    A00002  1.0     1.0  14268.1057       0.0   \n",
       "\n",
       "   TOTAL_AMOUNT_check  TX_MO  TOTAL_AMOUNT_MO  DSO_DEPO_DAY  ...  \\\n",
       "0                 0.0    0.0              0.0           0.0  ...   \n",
       "1                 0.0    0.0              0.0           0.0  ...   \n",
       "2                 0.0    0.0              0.0           0.0  ...   \n",
       "3                 0.0    0.0              0.0           0.0  ...   \n",
       "4                 0.0    0.0              0.0           0.0  ...   \n",
       "5                 0.0    0.0              0.0           0.0  ...   \n",
       "6                 0.0    0.0              0.0           0.0  ...   \n",
       "7                 0.0    0.0              0.0           0.0  ...   \n",
       "8                 0.0    0.0              0.0           0.0  ...   \n",
       "9                 0.0    0.0              0.0           0.0  ...   \n",
       "\n",
       "   roll_sum_30_DEFAULT  roll_sum_60_AMOUNT roll_sum_60_BALANCE  \\\n",
       "0                  0.0                 0.0                 0.0   \n",
       "1                  0.0                 0.0                 0.0   \n",
       "2                  0.0                 0.0                 0.0   \n",
       "3                  0.0                 0.0                 0.0   \n",
       "4                  0.0                 0.0                 0.0   \n",
       "5                  0.0                 0.0                 0.0   \n",
       "6                  0.0                 0.0                 0.0   \n",
       "7                  0.0                 0.0                 0.0   \n",
       "8                  0.0                 0.0                 0.0   \n",
       "9                  0.0                 0.0                 0.0   \n",
       "\n",
       "  roll_sum_60_TOTAL_AMOUNT_MO roll_sum_60_TOTAL_AMOUNT_check roll_sum_60_TX  \\\n",
       "0                         0.0                            0.0            0.0   \n",
       "1                         0.0                            0.0            0.0   \n",
       "2                         0.0                            0.0            0.0   \n",
       "3                         0.0                            0.0            0.0   \n",
       "4                         0.0                            0.0            0.0   \n",
       "5                         0.0                            0.0            0.0   \n",
       "6                         0.0                            0.0            0.0   \n",
       "7                         0.0                            0.0            0.0   \n",
       "8                         0.0                            0.0            0.0   \n",
       "9                         0.0                            0.0            0.0   \n",
       "\n",
       "   roll_sum_60_TX_MO  roll_sum_60_TX_check  roll_sum_60_DEFAULT  ANTIGUEDAD_d  \n",
       "0                0.0                   0.0                  0.0        1552.0  \n",
       "1                0.0                   0.0                  0.0        1553.0  \n",
       "2                0.0                   0.0                  0.0        1554.0  \n",
       "3                0.0                   0.0                  0.0        1555.0  \n",
       "4                0.0                   0.0                  0.0        1556.0  \n",
       "5                0.0                   0.0                  0.0        1557.0  \n",
       "6                0.0                   0.0                  0.0        1558.0  \n",
       "7                0.0                   0.0                  0.0        1559.0  \n",
       "8                0.0                   0.0                  0.0        1560.0  \n",
       "9                0.0                   0.0                  0.0        1561.0  \n",
       "\n",
       "[10 rows x 106 columns]"
      ]
     },
     "execution_count": 17,
     "metadata": {},
     "output_type": "execute_result"
    }
   ],
   "source": [
    "df.head(10)"
   ]
  },
  {
   "cell_type": "code",
   "execution_count": 29,
   "id": "62cba2d0-9c02-4bf3-8c07-66690bfe529c",
   "metadata": {},
   "outputs": [
    {
     "data": {
      "text/plain": [
       "array([0., 1.])"
      ]
     },
     "execution_count": 29,
     "metadata": {},
     "output_type": "execute_result"
    }
   ],
   "source": [
    "X_train['roll_max_30D_DEFAULT'].unique()"
   ]
  },
  {
   "cell_type": "code",
   "execution_count": 30,
   "id": "a690d732-baab-4916-a8ab-92119caeda8d",
   "metadata": {
    "tags": []
   },
   "outputs": [
    {
     "data": {
      "text/plain": [
       "array([0., 1.])"
      ]
     },
     "execution_count": 30,
     "metadata": {},
     "output_type": "execute_result"
    }
   ],
   "source": [
    "X_train['roll_max_30D_DEFAULT'].unique()"
   ]
  },
  {
   "cell_type": "code",
   "execution_count": 33,
   "id": "9aedfc72-f2d9-48d4-894a-9a5ecc02e935",
   "metadata": {
    "tags": []
   },
   "outputs": [
    {
     "name": "stderr",
     "output_type": "stream",
     "text": [
      "/opt/conda/lib/python3.10/site-packages/IPython/core/pylabtools.py:152: UserWarning: Creating legend with loc=\"best\" can be slow with large amounts of data.\n",
      "  fig.canvas.print_figure(bytes_io, **kw)\n"
     ]
    },
    {
     "data": {
      "image/png": "[encoded data removed]",
      "text/plain": [
       "<Figure size 640x480 with 1 Axes>"
      ]
     },
     "metadata": {},
     "output_type": "display_data"
    }
   ],
   "source": [
    "import matplotlib.pyplot as plt\n",
    "plt.plot(X_train['roll_max_30D_DEFAULT'], label='Rolling Mean')\n",
    "plt.plot(y_train, label='Raw Data')\n",
    "plt.legend()\n",
    "plt.ylabel('DEFAULT')\n",
    "plt.xlabel('Period')\n",
    "plt.show()"
   ]
  },
  {
   "cell_type": "code",
   "execution_count": 63,
   "id": "e7d0b1c1-8e04-423d-9cac-ca089637a4ec",
   "metadata": {
    "tags": []
   },
   "outputs": [
    {
     "data": {
      "text/plain": [
       "2131.0"
      ]
     },
     "execution_count": 63,
     "metadata": {},
     "output_type": "execute_result"
    }
   ],
   "source": [
    "y_train.sum()"
   ]
  },
  {
   "cell_type": "code",
   "execution_count": 64,
   "id": "37d2594d-277d-46f1-8334-99fec89574a8",
   "metadata": {
    "tags": []
   },
   "outputs": [
    {
     "data": {
      "text/plain": [
       "742.0"
      ]
     },
     "execution_count": 64,
     "metadata": {},
     "output_type": "execute_result"
    }
   ],
   "source": [
    "y_test.sum()"
   ]
  },
  {
   "cell_type": "code",
   "execution_count": 65,
   "id": "8c69de23-6f8c-4b60-a9ad-40be3440bac0",
   "metadata": {
    "tags": []
   },
   "outputs": [
    {
     "data": {
      "text/plain": [
       "(2166913,)"
      ]
     },
     "execution_count": 65,
     "metadata": {},
     "output_type": "execute_result"
    }
   ],
   "source": [
    "y_train.shape"
   ]
  },
  {
   "cell_type": "code",
   "execution_count": 66,
   "id": "8ccad540-41f0-43ed-b623-fa362b4cb5f3",
   "metadata": {
    "tags": []
   },
   "outputs": [
    {
     "data": {
      "text/plain": [
       "0.09834266534927798"
      ]
     },
     "execution_count": 66,
     "metadata": {},
     "output_type": "execute_result"
    }
   ],
   "source": [
    "2131/2166913*100"
   ]
  },
  {
   "cell_type": "code",
   "execution_count": null,
   "id": "70304055-b60c-4b7d-9b58-36712f9b8d54",
   "metadata": {},
   "outputs": [],
   "source": [
    "el 0.098% es target, modelo que sólo predice 0 tiene 99.912% de aciertos"
   ]
  },
  {
   "cell_type": "markdown",
   "id": "12946ac9-b41a-4099-9c44-a18b008939e4",
   "metadata": {},
   "source": [
    "# Dimensionar casos de default de 1 semana"
   ]
  },
  {
   "cell_type": "code",
   "execution_count": 6,
   "id": "d69779f6-6818-471f-8535-a35433459c95",
   "metadata": {},
   "outputs": [],
   "source": [
    "# lunes 4 de septiembre a domingo 10\n",
    "tr = df[df['DATE']< '2023-09-11']\n",
    "te = tr[tr['DATE']> '2023-09-03']"
   ]
  },
  {
   "cell_type": "code",
   "execution_count": 7,
   "id": "859879ae-7b4f-4b60-a3b6-3cec2f0de9b0",
   "metadata": {},
   "outputs": [
    {
     "data": {
      "text/plain": [
       "33.0"
      ]
     },
     "execution_count": 7,
     "metadata": {},
     "output_type": "execute_result"
    }
   ],
   "source": [
    "te['DEFAULT'].sum()"
   ]
  },
  {
   "cell_type": "code",
   "execution_count": 8,
   "id": "3411c37c-ac61-428a-9b6c-5254845d49e3",
   "metadata": {},
   "outputs": [
    {
     "data": {
      "text/plain": [
       "58.0"
      ]
     },
     "execution_count": 8,
     "metadata": {},
     "output_type": "execute_result"
    }
   ],
   "source": [
    "te['TARGET'].sum()"
   ]
  },
  {
   "cell_type": "code",
   "execution_count": 9,
   "id": "20c2d4cc-8c16-422d-a625-588e5de53525",
   "metadata": {},
   "outputs": [
    {
     "data": {
      "text/plain": [
       "(49896, 106)"
      ]
     },
     "execution_count": 9,
     "metadata": {},
     "output_type": "execute_result"
    }
   ],
   "source": [
    "te.shape"
   ]
  },
  {
   "cell_type": "code",
   "execution_count": 10,
   "id": "dbb3862d-21a2-4be1-87f4-d1990090620d",
   "metadata": {},
   "outputs": [
    {
     "data": {
      "text/plain": [
       "0.06613756613756613"
      ]
     },
     "execution_count": 10,
     "metadata": {},
     "output_type": "execute_result"
    }
   ],
   "source": [
    "# % de default\n",
    "33/49896*100"
   ]
  },
  {
   "cell_type": "code",
   "execution_count": 11,
   "id": "8dc1bd18-2f31-46c0-b5b4-a837a8f68c8f",
   "metadata": {},
   "outputs": [
    {
     "data": {
      "text/plain": [
       "0.11624178290844957"
      ]
     },
     "execution_count": 11,
     "metadata": {},
     "output_type": "execute_result"
    }
   ],
   "source": [
    "# % de target\n",
    "58/49896*100"
   ]
  },
  {
   "cell_type": "code",
   "execution_count": 13,
   "id": "565b92aa-0d7f-43e5-8618-0a70467ab478",
   "metadata": {},
   "outputs": [],
   "source": [
    "lu = te[te['DATE']== '2023-09-04']"
   ]
  },
  {
   "cell_type": "code",
   "execution_count": 16,
   "id": "0ea4b9fe-ead3-4813-a9f7-f2277208ef2b",
   "metadata": {},
   "outputs": [
    {
     "name": "stdout",
     "output_type": "stream",
     "text": [
      "0.05611672278338946\n",
      "0.2665544332210999\n"
     ]
    }
   ],
   "source": [
    "print (lu['DEFAULT'].sum()/len(lu)*100)\n",
    "print (lu['TARGET'].sum()/len(lu)*100)"
   ]
  },
  {
   "cell_type": "code",
   "execution_count": 17,
   "id": "cfb87aab-2141-4616-9bbc-bb906960e57e",
   "metadata": {
    "tags": []
   },
   "outputs": [
    {
     "name": "stdout",
     "output_type": "stream",
     "text": [
      "0.16835016835016833\n",
      "0.12626262626262627\n"
     ]
    }
   ],
   "source": [
    "ma = te[te['DATE']== '2023-09-05']\n",
    "print (ma['DEFAULT'].sum()/len(ma)*100)\n",
    "print (ma['TARGET'].sum()/len(ma)*100)"
   ]
  },
  {
   "cell_type": "code",
   "execution_count": 18,
   "id": "41b3c112-80f5-4ccd-9b22-b2646d3037d4",
   "metadata": {
    "tags": []
   },
   "outputs": [
    {
     "name": "stdout",
     "output_type": "stream",
     "text": [
      "0.09820426487093155\n",
      "0.11223344556677892\n"
     ]
    }
   ],
   "source": [
    "mi = te[te['DATE']== '2023-09-06']\n",
    "print (mi['DEFAULT'].sum()/len(mi)*100)\n",
    "print (mi['TARGET'].sum()/len(mi)*100)"
   ]
  },
  {
   "cell_type": "code",
   "execution_count": 19,
   "id": "55b6e060-c60f-4610-903a-1cceb93fda9b",
   "metadata": {
    "tags": []
   },
   "outputs": [
    {
     "name": "stdout",
     "output_type": "stream",
     "text": [
      "0.014029180695847365\n",
      "0.014029180695847365\n"
     ]
    }
   ],
   "source": [
    "ju = te[te['DATE']== '2023-09-07']\n",
    "print (ju['DEFAULT'].sum()/len(ju)*100)\n",
    "print (ju['TARGET'].sum()/len(ju)*100)"
   ]
  },
  {
   "cell_type": "code",
   "execution_count": 20,
   "id": "ccd9bf96-15a6-4c7a-913c-1716beaf1067",
   "metadata": {
    "tags": []
   },
   "outputs": [
    {
     "name": "stdout",
     "output_type": "stream",
     "text": [
      "0.08417508417508417\n",
      "0.0\n"
     ]
    }
   ],
   "source": [
    "vi = te[te['DATE']== '2023-09-08']\n",
    "print (vi['DEFAULT'].sum()/len(vi)*100)\n",
    "print (vi['TARGET'].sum()/len(vi)*100)"
   ]
  },
  {
   "cell_type": "code",
   "execution_count": 21,
   "id": "1f4e2cc5-8a12-4ac0-a9b4-aa141228a987",
   "metadata": {
    "tags": []
   },
   "outputs": [
    {
     "name": "stdout",
     "output_type": "stream",
     "text": [
      "0.04208754208754208\n",
      "0.23849607182940516\n"
     ]
    }
   ],
   "source": [
    "sa = te[te['DATE']== '2023-09-09']\n",
    "print (sa['DEFAULT'].sum()/len(sa)*100)\n",
    "print (sa['TARGET'].sum()/len(sa)*100)"
   ]
  },
  {
   "cell_type": "code",
   "execution_count": 22,
   "id": "392f7ba0-0464-4201-aef5-1ec3272c1ac1",
   "metadata": {
    "tags": []
   },
   "outputs": [
    {
     "name": "stdout",
     "output_type": "stream",
     "text": [
      "0.0\n",
      "0.05611672278338946\n"
     ]
    }
   ],
   "source": [
    "do = te[te['DATE']== '2023-09-10']\n",
    "print (do['DEFAULT'].sum()/len(do)*100)\n",
    "print (do['TARGET'].sum()/len(do)*100)"
   ]
  },
  {
   "cell_type": "code",
   "execution_count": 24,
   "id": "5fd4b141-5a8e-47f0-b2f0-03b63ded7eba",
   "metadata": {
    "tags": []
   },
   "outputs": [
    {
     "name": "stdout",
     "output_type": "stream",
     "text": [
      "0.05611672278338946\n",
      "0.16835016835016833\n",
      "0.09820426487093155\n",
      "0.014029180695847365\n",
      "0.08417508417508417\n",
      "0.04208754208754208\n",
      "0.0\n"
     ]
    }
   ],
   "source": [
    "print (lu['DEFAULT'].sum()/len(lu)*100)\n",
    "print (ma['DEFAULT'].sum()/len(ma)*100)\n",
    "print (mi['DEFAULT'].sum()/len(mi)*100)\n",
    "print (ju['DEFAULT'].sum()/len(ju)*100)\n",
    "print (vi['DEFAULT'].sum()/len(vi)*100)\n",
    "print (sa['DEFAULT'].sum()/len(sa)*100)\n",
    "print (do['DEFAULT'].sum()/len(do)*100)"
   ]
  },
  {
   "cell_type": "code",
   "execution_count": 25,
   "id": "b7b254fb-fb62-479e-ae95-951666e658d3",
   "metadata": {
    "tags": []
   },
   "outputs": [
    {
     "name": "stdout",
     "output_type": "stream",
     "text": [
      "0.2665544332210999\n",
      "0.12626262626262627\n",
      "0.11223344556677892\n",
      "0.014029180695847365\n",
      "0.0\n",
      "0.23849607182940516\n",
      "0.05611672278338946\n"
     ]
    }
   ],
   "source": [
    "print (lu['TARGET'].sum()/len(lu)*100)\n",
    "print (ma['TARGET'].sum()/len(ma)*100)\n",
    "print (mi['TARGET'].sum()/len(mi)*100)\n",
    "print (ju['TARGET'].sum()/len(ju)*100)\n",
    "print (vi['TARGET'].sum()/len(vi)*100)\n",
    "print (sa['TARGET'].sum()/len(sa)*100)\n",
    "print (do['TARGET'].sum()/len(do)*100)"
   ]
  },
  {
   "cell_type": "code",
   "execution_count": null,
   "id": "0dea46a8-57e6-4f7f-a8ef-0bc98746f031",
   "metadata": {},
   "outputs": [],
   "source": []
  },
  {
   "cell_type": "code",
   "execution_count": null,
   "id": "767cf452-bef2-407f-98e4-6d3022e749c5",
   "metadata": {},
   "outputs": [],
   "source": []
  },
  {
   "cell_type": "code",
   "execution_count": null,
   "id": "ea2d1c54-6fe7-4f97-80b2-fa2b489c1418",
   "metadata": {},
   "outputs": [],
   "source": []
  },
  {
   "cell_type": "code",
   "execution_count": null,
   "id": "6509a66c-75d1-40ef-bef7-64814009f0ab",
   "metadata": {},
   "outputs": [],
   "source": []
  }
 ],
 "metadata": {
  "availableInstances": [
   {
    "_defaultOrder": 0,
    "_isFastLaunch": true,
    "category": "General purpose",
    "gpuNum": 0,
    "hideHardwareSpecs": false,
    "memoryGiB": 4,
    "name": "ml.t3.medium",
    "vcpuNum": 2
   },
   {
    "_defaultOrder": 1,
    "_isFastLaunch": false,
    "category": "General purpose",
    "gpuNum": 0,
    "hideHardwareSpecs": false,
    "memoryGiB": 8,
    "name": "ml.t3.large",
    "vcpuNum": 2
   },
   {
    "_defaultOrder": 2,
    "_isFastLaunch": false,
    "category": "General purpose",
    "gpuNum": 0,
    "hideHardwareSpecs": false,
    "memoryGiB": 16,
    "name": "ml.t3.xlarge",
    "vcpuNum": 4
   },
   {
    "_defaultOrder": 3,
    "_isFastLaunch": false,
    "category": "General purpose",
    "gpuNum": 0,
    "hideHardwareSpecs": false,
    "memoryGiB": 32,
    "name": "ml.t3.2xlarge",
    "vcpuNum": 8
   },
   {
    "_defaultOrder": 4,
    "_isFastLaunch": true,
    "category": "General purpose",
    "gpuNum": 0,
    "hideHardwareSpecs": false,
    "memoryGiB": 8,
    "name": "ml.m5.large",
    "vcpuNum": 2
   },
   {
    "_defaultOrder": 5,
    "_isFastLaunch": false,
    "category": "General purpose",
    "gpuNum": 0,
    "hideHardwareSpecs": false,
    "memoryGiB": 16,
    "name": "ml.m5.xlarge",
    "vcpuNum": 4
   },
   {
    "_defaultOrder": 6,
    "_isFastLaunch": false,
    "category": "General purpose",
    "gpuNum": 0,
    "hideHardwareSpecs": false,
    "memoryGiB": 32,
    "name": "ml.m5.2xlarge",
    "vcpuNum": 8
   },
   {
    "_defaultOrder": 7,
    "_isFastLaunch": false,
    "category": "General purpose",
    "gpuNum": 0,
    "hideHardwareSpecs": false,
    "memoryGiB": 64,
    "name": "ml.m5.4xlarge",
    "vcpuNum": 16
   },
   {
    "_defaultOrder": 8,
    "_isFastLaunch": false,
    "category": "General purpose",
    "gpuNum": 0,
    "hideHardwareSpecs": false,
    "memoryGiB": 128,
    "name": "ml.m5.8xlarge",
    "vcpuNum": 32
   },
   {
    "_defaultOrder": 9,
    "_isFastLaunch": false,
    "category": "General purpose",
    "gpuNum": 0,
    "hideHardwareSpecs": false,
    "memoryGiB": 192,
    "name": "ml.m5.12xlarge",
    "vcpuNum": 48
   },
   {
    "_defaultOrder": 10,
    "_isFastLaunch": false,
    "category": "General purpose",
    "gpuNum": 0,
    "hideHardwareSpecs": false,
    "memoryGiB": 256,
    "name": "ml.m5.16xlarge",
    "vcpuNum": 64
   },
   {
    "_defaultOrder": 11,
    "_isFastLaunch": false,
    "category": "General purpose",
    "gpuNum": 0,
    "hideHardwareSpecs": false,
    "memoryGiB": 384,
    "name": "ml.m5.24xlarge",
    "vcpuNum": 96
   },
   {
    "_defaultOrder": 12,
    "_isFastLaunch": false,
    "category": "General purpose",
    "gpuNum": 0,
    "hideHardwareSpecs": false,
    "memoryGiB": 8,
    "name": "ml.m5d.large",
    "vcpuNum": 2
   },
   {
    "_defaultOrder": 13,
    "_isFastLaunch": false,
    "category": "General purpose",
    "gpuNum": 0,
    "hideHardwareSpecs": false,
    "memoryGiB": 16,
    "name": "ml.m5d.xlarge",
    "vcpuNum": 4
   },
   {
    "_defaultOrder": 14,
    "_isFastLaunch": false,
    "category": "General purpose",
    "gpuNum": 0,
    "hideHardwareSpecs": false,
    "memoryGiB": 32,
    "name": "ml.m5d.2xlarge",
    "vcpuNum": 8
   },
   {
    "_defaultOrder": 15,
    "_isFastLaunch": false,
    "category": "General purpose",
    "gpuNum": 0,
    "hideHardwareSpecs": false,
    "memoryGiB": 64,
    "name": "ml.m5d.4xlarge",
    "vcpuNum": 16
   },
   {
    "_defaultOrder": 16,
    "_isFastLaunch": false,
    "category": "General purpose",
    "gpuNum": 0,
    "hideHardwareSpecs": false,
    "memoryGiB": 128,
    "name": "ml.m5d.8xlarge",
    "vcpuNum": 32
   },
   {
    "_defaultOrder": 17,
    "_isFastLaunch": false,
    "category": "General purpose",
    "gpuNum": 0,
    "hideHardwareSpecs": false,
    "memoryGiB": 192,
    "name": "ml.m5d.12xlarge",
    "vcpuNum": 48
   },
   {
    "_defaultOrder": 18,
    "_isFastLaunch": false,
    "category": "General purpose",
    "gpuNum": 0,
    "hideHardwareSpecs": false,
    "memoryGiB": 256,
    "name": "ml.m5d.16xlarge",
    "vcpuNum": 64
   },
   {
    "_defaultOrder": 19,
    "_isFastLaunch": false,
    "category": "General purpose",
    "gpuNum": 0,
    "hideHardwareSpecs": false,
    "memoryGiB": 384,
    "name": "ml.m5d.24xlarge",
    "vcpuNum": 96
   },
   {
    "_defaultOrder": 20,
    "_isFastLaunch": false,
    "category": "General purpose",
    "gpuNum": 0,
    "hideHardwareSpecs": true,
    "memoryGiB": 0,
    "name": "ml.geospatial.interactive",
    "supportedImageNames": [
     "sagemaker-geospatial-v1-0"
    ],
    "vcpuNum": 0
   },
   {
    "_defaultOrder": 21,
    "_isFastLaunch": true,
    "category": "Compute optimized",
    "gpuNum": 0,
    "hideHardwareSpecs": false,
    "memoryGiB": 4,
    "name": "ml.c5.large",
    "vcpuNum": 2
   },
   {
    "_defaultOrder": 22,
    "_isFastLaunch": false,
    "category": "Compute optimized",
    "gpuNum": 0,
    "hideHardwareSpecs": false,
    "memoryGiB": 8,
    "name": "ml.c5.xlarge",
    "vcpuNum": 4
   },
   {
    "_defaultOrder": 23,
    "_isFastLaunch": false,
    "category": "Compute optimized",
    "gpuNum": 0,
    "hideHardwareSpecs": false,
    "memoryGiB": 16,
    "name": "ml.c5.2xlarge",
    "vcpuNum": 8
   },
   {
    "_defaultOrder": 24,
    "_isFastLaunch": false,
    "category": "Compute optimized",
    "gpuNum": 0,
    "hideHardwareSpecs": false,
    "memoryGiB": 32,
    "name": "ml.c5.4xlarge",
    "vcpuNum": 16
   },
   {
    "_defaultOrder": 25,
    "_isFastLaunch": false,
    "category": "Compute optimized",
    "gpuNum": 0,
    "hideHardwareSpecs": false,
    "memoryGiB": 72,
    "name": "ml.c5.9xlarge",
    "vcpuNum": 36
   },
   {
    "_defaultOrder": 26,
    "_isFastLaunch": false,
    "category": "Compute optimized",
    "gpuNum": 0,
    "hideHardwareSpecs": false,
    "memoryGiB": 96,
    "name": "ml.c5.12xlarge",
    "vcpuNum": 48
   },
   {
    "_defaultOrder": 27,
    "_isFastLaunch": false,
    "category": "Compute optimized",
    "gpuNum": 0,
    "hideHardwareSpecs": false,
    "memoryGiB": 144,
    "name": "ml.c5.18xlarge",
    "vcpuNum": 72
   },
   {
    "_defaultOrder": 28,
    "_isFastLaunch": false,
    "category": "Compute optimized",
    "gpuNum": 0,
    "hideHardwareSpecs": false,
    "memoryGiB": 192,
    "name": "ml.c5.24xlarge",
    "vcpuNum": 96
   },
   {
    "_defaultOrder": 29,
    "_isFastLaunch": true,
    "category": "Accelerated computing",
    "gpuNum": 1,
    "hideHardwareSpecs": false,
    "memoryGiB": 16,
    "name": "ml.g4dn.xlarge",
    "vcpuNum": 4
   },
   {
    "_defaultOrder": 30,
    "_isFastLaunch": false,
    "category": "Accelerated computing",
    "gpuNum": 1,
    "hideHardwareSpecs": false,
    "memoryGiB": 32,
    "name": "ml.g4dn.2xlarge",
    "vcpuNum": 8
   },
   {
    "_defaultOrder": 31,
    "_isFastLaunch": false,
    "category": "Accelerated computing",
    "gpuNum": 1,
    "hideHardwareSpecs": false,
    "memoryGiB": 64,
    "name": "ml.g4dn.4xlarge",
    "vcpuNum": 16
   },
   {
    "_defaultOrder": 32,
    "_isFastLaunch": false,
    "category": "Accelerated computing",
    "gpuNum": 1,
    "hideHardwareSpecs": false,
    "memoryGiB": 128,
    "name": "ml.g4dn.8xlarge",
    "vcpuNum": 32
   },
   {
    "_defaultOrder": 33,
    "_isFastLaunch": false,
    "category": "Accelerated computing",
    "gpuNum": 4,
    "hideHardwareSpecs": false,
    "memoryGiB": 192,
    "name": "ml.g4dn.12xlarge",
    "vcpuNum": 48
   },
   {
    "_defaultOrder": 34,
    "_isFastLaunch": false,
    "category": "Accelerated computing",
    "gpuNum": 1,
    "hideHardwareSpecs": false,
    "memoryGiB": 256,
    "name": "ml.g4dn.16xlarge",
    "vcpuNum": 64
   },
   {
    "_defaultOrder": 35,
    "_isFastLaunch": false,
    "category": "Accelerated computing",
    "gpuNum": 1,
    "hideHardwareSpecs": false,
    "memoryGiB": 61,
    "name": "ml.p3.2xlarge",
    "vcpuNum": 8
   },
   {
    "_defaultOrder": 36,
    "_isFastLaunch": false,
    "category": "Accelerated computing",
    "gpuNum": 4,
    "hideHardwareSpecs": false,
    "memoryGiB": 244,
    "name": "ml.p3.8xlarge",
    "vcpuNum": 32
   },
   {
    "_defaultOrder": 37,
    "_isFastLaunch": false,
    "category": "Accelerated computing",
    "gpuNum": 8,
    "hideHardwareSpecs": false,
    "memoryGiB": 488,
    "name": "ml.p3.16xlarge",
    "vcpuNum": 64
   },
   {
    "_defaultOrder": 38,
    "_isFastLaunch": false,
    "category": "Accelerated computing",
    "gpuNum": 8,
    "hideHardwareSpecs": false,
    "memoryGiB": 768,
    "name": "ml.p3dn.24xlarge",
    "vcpuNum": 96
   },
   {
    "_defaultOrder": 39,
    "_isFastLaunch": false,
    "category": "Memory Optimized",
    "gpuNum": 0,
    "hideHardwareSpecs": false,
    "memoryGiB": 16,
    "name": "ml.r5.large",
    "vcpuNum": 2
   },
   {
    "_defaultOrder": 40,
    "_isFastLaunch": false,
    "category": "Memory Optimized",
    "gpuNum": 0,
    "hideHardwareSpecs": false,
    "memoryGiB": 32,
    "name": "ml.r5.xlarge",
    "vcpuNum": 4
   },
   {
    "_defaultOrder": 41,
    "_isFastLaunch": false,
    "category": "Memory Optimized",
    "gpuNum": 0,
    "hideHardwareSpecs": false,
    "memoryGiB": 64,
    "name": "ml.r5.2xlarge",
    "vcpuNum": 8
   },
   {
    "_defaultOrder": 42,
    "_isFastLaunch": false,
    "category": "Memory Optimized",
    "gpuNum": 0,
    "hideHardwareSpecs": false,
    "memoryGiB": 128,
    "name": "ml.r5.4xlarge",
    "vcpuNum": 16
   },
   {
    "_defaultOrder": 43,
    "_isFastLaunch": false,
    "category": "Memory Optimized",
    "gpuNum": 0,
    "hideHardwareSpecs": false,
    "memoryGiB": 256,
    "name": "ml.r5.8xlarge",
    "vcpuNum": 32
   },
   {
    "_defaultOrder": 44,
    "_isFastLaunch": false,
    "category": "Memory Optimized",
    "gpuNum": 0,
    "hideHardwareSpecs": false,
    "memoryGiB": 384,
    "name": "ml.r5.12xlarge",
    "vcpuNum": 48
   },
   {
    "_defaultOrder": 45,
    "_isFastLaunch": false,
    "category": "Memory Optimized",
    "gpuNum": 0,
    "hideHardwareSpecs": false,
    "memoryGiB": 512,
    "name": "ml.r5.16xlarge",
    "vcpuNum": 64
   },
   {
    "_defaultOrder": 46,
    "_isFastLaunch": false,
    "category": "Memory Optimized",
    "gpuNum": 0,
    "hideHardwareSpecs": false,
    "memoryGiB": 768,
    "name": "ml.r5.24xlarge",
    "vcpuNum": 96
   },
   {
    "_defaultOrder": 47,
    "_isFastLaunch": false,
    "category": "Accelerated computing",
    "gpuNum": 1,
    "hideHardwareSpecs": false,
    "memoryGiB": 16,
    "name": "ml.g5.xlarge",
    "vcpuNum": 4
   },
   {
    "_defaultOrder": 48,
    "_isFastLaunch": false,
    "category": "Accelerated computing",
    "gpuNum": 1,
    "hideHardwareSpecs": false,
    "memoryGiB": 32,
    "name": "ml.g5.2xlarge",
    "vcpuNum": 8
   },
   {
    "_defaultOrder": 49,
    "_isFastLaunch": false,
    "category": "Accelerated computing",
    "gpuNum": 1,
    "hideHardwareSpecs": false,
    "memoryGiB": 64,
    "name": "ml.g5.4xlarge",
    "vcpuNum": 16
   },
   {
    "_defaultOrder": 50,
    "_isFastLaunch": false,
    "category": "Accelerated computing",
    "gpuNum": 1,
    "hideHardwareSpecs": false,
    "memoryGiB": 128,
    "name": "ml.g5.8xlarge",
    "vcpuNum": 32
   },
   {
    "_defaultOrder": 51,
    "_isFastLaunch": false,
    "category": "Accelerated computing",
    "gpuNum": 1,
    "hideHardwareSpecs": false,
    "memoryGiB": 256,
    "name": "ml.g5.16xlarge",
    "vcpuNum": 64
   },
   {
    "_defaultOrder": 52,
    "_isFastLaunch": false,
    "category": "Accelerated computing",
    "gpuNum": 4,
    "hideHardwareSpecs": false,
    "memoryGiB": 192,
    "name": "ml.g5.12xlarge",
    "vcpuNum": 48
   },
   {
    "_defaultOrder": 53,
    "_isFastLaunch": false,
    "category": "Accelerated computing",
    "gpuNum": 4,
    "hideHardwareSpecs": false,
    "memoryGiB": 384,
    "name": "ml.g5.24xlarge",
    "vcpuNum": 96
   },
   {
    "_defaultOrder": 54,
    "_isFastLaunch": false,
    "category": "Accelerated computing",
    "gpuNum": 8,
    "hideHardwareSpecs": false,
    "memoryGiB": 768,
    "name": "ml.g5.48xlarge",
    "vcpuNum": 192
   },
   {
    "_defaultOrder": 55,
    "_isFastLaunch": false,
    "category": "Accelerated computing",
    "gpuNum": 8,
    "hideHardwareSpecs": false,
    "memoryGiB": 1152,
    "name": "ml.p4d.24xlarge",
    "vcpuNum": 96
   },
   {
    "_defaultOrder": 56,
    "_isFastLaunch": false,
    "category": "Accelerated computing",
    "gpuNum": 8,
    "hideHardwareSpecs": false,
    "memoryGiB": 1152,
    "name": "ml.p4de.24xlarge",
    "vcpuNum": 96
   },
   {
    "_defaultOrder": 57,
    "_isFastLaunch": false,
    "category": "Accelerated computing",
    "gpuNum": 0,
    "hideHardwareSpecs": false,
    "memoryGiB": 32,
    "name": "ml.trn1.2xlarge",
    "vcpuNum": 8
   },
   {
    "_defaultOrder": 58,
    "_isFastLaunch": false,
    "category": "Accelerated computing",
    "gpuNum": 0,
    "hideHardwareSpecs": false,
    "memoryGiB": 512,
    "name": "ml.trn1.32xlarge",
    "vcpuNum": 128
   },
   {
    "_defaultOrder": 59,
    "_isFastLaunch": false,
    "category": "Accelerated computing",
    "gpuNum": 0,
    "hideHardwareSpecs": false,
    "memoryGiB": 512,
    "name": "ml.trn1n.32xlarge",
    "vcpuNum": 128
   }
  ],
  "instance_type": "ml.g4dn.xlarge",
  "kernelspec": {
   "display_name": "Python 3 (Data Science 3.0)",
   "language": "python",
   "name": "python3__SAGEMAKER_INTERNAL__arn:aws:sagemaker:us-east-1:081325390199:image/sagemaker-data-science-310-v1"
  },
  "language_info": {
   "codemirror_mode": {
    "name": "ipython",
    "version": 3
   },
   "file_extension": ".py",
   "mimetype": "text/x-python",
   "name": "python",
   "nbconvert_exporter": "python",
   "pygments_lexer": "ipython3",
   "version": "3.10.6"
  }
 },
 "nbformat": 4,
 "nbformat_minor": 5
}
