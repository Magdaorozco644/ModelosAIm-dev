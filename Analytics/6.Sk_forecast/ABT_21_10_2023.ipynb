{
 "cells": [
  {
   "cell_type": "code",
   "execution_count": 2,
   "id": "baa5f1ad-9624-4fdf-bbec-841f99171c36",
   "metadata": {
    "tags": []
   },
   "outputs": [
    {
     "name": "stdout",
     "output_type": "stream",
     "text": [
      "Requirement already satisfied: pyathena in /opt/conda/lib/python3.10/site-packages (3.3.0)\n",
      "Requirement already satisfied: boto3>=1.26.4 in /opt/conda/lib/python3.10/site-packages (from pyathena) (1.28.64)\n",
      "Requirement already satisfied: botocore>=1.29.4 in /opt/conda/lib/python3.10/site-packages (from pyathena) (1.31.64)\n",
      "Requirement already satisfied: fsspec in /opt/conda/lib/python3.10/site-packages (from pyathena) (2023.6.0)\n",
      "Requirement already satisfied: tenacity>=4.1.0 in /opt/conda/lib/python3.10/site-packages (from pyathena) (8.2.3)\n",
      "Requirement already satisfied: jmespath<2.0.0,>=0.7.1 in /opt/conda/lib/python3.10/site-packages (from boto3>=1.26.4->pyathena) (1.0.1)\n",
      "Requirement already satisfied: s3transfer<0.8.0,>=0.7.0 in /opt/conda/lib/python3.10/site-packages (from boto3>=1.26.4->pyathena) (0.7.0)\n",
      "Requirement already satisfied: python-dateutil<3.0.0,>=2.1 in /opt/conda/lib/python3.10/site-packages (from botocore>=1.29.4->pyathena) (2.8.2)\n",
      "Requirement already satisfied: urllib3<2.1,>=1.25.4 in /opt/conda/lib/python3.10/site-packages (from botocore>=1.29.4->pyathena) (1.26.18)\n",
      "Requirement already satisfied: six>=1.5 in /opt/conda/lib/python3.10/site-packages (from python-dateutil<3.0.0,>=2.1->botocore>=1.29.4->pyathena) (1.16.0)\n",
      "Note: you may need to restart the kernel to use updated packages.\n"
     ]
    }
   ],
   "source": [
    "pip install pyathena"
   ]
  },
  {
   "cell_type": "code",
   "execution_count": 3,
   "id": "21fb91d0-f02a-4dbf-8d02-1d6930e0601c",
   "metadata": {
    "tags": []
   },
   "outputs": [],
   "source": [
    "#Libraries\n",
    "from pyathena import connect\n",
    "import pandas as pd\n",
    "import datetime as dt\n",
    "from datetime import datetime"
   ]
  },
  {
   "cell_type": "code",
   "execution_count": 4,
   "id": "b8dc649e-52c9-4716-986a-89fb2a65c778",
   "metadata": {
    "tags": []
   },
   "outputs": [],
   "source": [
    "# DB Setting\n",
    "bucket_name = 's3://viamericas-datalake-dev-us-east-1-283731589572-athena/'\n",
    "origin_name = 'AwsDataCatalog'\n",
    "database_name= 'analytics'\n",
    "table_name = 'daily_check'"
   ]
  },
  {
   "cell_type": "code",
   "execution_count": 5,
   "id": "6c0c651a-c22a-4e92-876c-016f87340279",
   "metadata": {
    "tags": []
   },
   "outputs": [
    {
     "name": "stderr",
     "output_type": "stream",
     "text": [
      "/tmp/ipykernel_4360/2235117015.py:4: UserWarning: pandas only supports SQLAlchemy connectable (engine/connection) or database string URI or sqlite3 DBAPI2 connection. Other DBAPI2 objects are not tested. Please consider using SQLAlchemy.\n",
      "  df = pd.read_sql(f'SELECT * FROM {origin_name}.{database_name}.{table_name};', conn)\n"
     ]
    }
   ],
   "source": [
    "#Connection to daily_check (based on receiver)\n",
    "conn = connect(s3_staging_dir=f'{bucket_name}queryresults/',\n",
    "               region_name='us-east-1')\n",
    "df = pd.read_sql(f'SELECT * FROM {origin_name}.{database_name}.{table_name};', conn)"
   ]
  },
  {
   "cell_type": "code",
   "execution_count": 6,
   "id": "0defa9c9-e689-4ad9-ad61-24262cfcb694",
   "metadata": {},
   "outputs": [
    {
     "name": "stdout",
     "output_type": "stream",
     "text": [
      "<class 'pandas.core.frame.DataFrame'>\n",
      "RangeIndex: 101970 entries, 0 to 101969\n",
      "Data columns (total 6 columns):\n",
      " #   Column        Non-Null Count   Dtype  \n",
      "---  ------        --------------   -----  \n",
      " 0   payer         101970 non-null  object \n",
      " 1   country       101970 non-null  object \n",
      " 2   date          101970 non-null  object \n",
      " 3   tx            101970 non-null  int64  \n",
      " 4   amount        101970 non-null  float64\n",
      " 5   coupon_count  101970 non-null  int64  \n",
      "dtypes: float64(1), int64(2), object(3)\n",
      "memory usage: 4.7+ MB\n"
     ]
    }
   ],
   "source": [
    "df.info()"
   ]
  },
  {
   "cell_type": "code",
   "execution_count": 7,
   "id": "f299aeed-66fc-4429-a443-93022c80cec8",
   "metadata": {
    "tags": []
   },
   "outputs": [
    {
     "name": "stderr",
     "output_type": "stream",
     "text": [
      "/tmp/ipykernel_4360/3034134324.py:4: UserWarning: pandas only supports SQLAlchemy connectable (engine/connection) or database string URI or sqlite3 DBAPI2 connection. Other DBAPI2 objects are not tested. Please consider using SQLAlchemy.\n",
      "  df_rates = pd.read_sql(f'SELECT * FROM {origin_name}.{database_name}.{forex_table};', conn)\n"
     ]
    }
   ],
   "source": [
    "#Connection to daily_forex \n",
    "forex_table = 'last_daily_forex'\n",
    "database_name= 'viamericas'\n",
    "df_rates = pd.read_sql(f'SELECT * FROM {origin_name}.{database_name}.{forex_table};', conn)"
   ]
  },
  {
   "cell_type": "code",
   "execution_count": 8,
   "id": "56f23acb-1f87-4330-8189-7c28b11ce663",
   "metadata": {
    "tags": []
   },
   "outputs": [],
   "source": [
    "# Convert the 'date' column to datetime format\n",
    "df['date'] = pd.to_datetime(df['date'])\n",
    "\n",
    "# Grouping by 'payer' and 'country' concatenated for this level of granularity\n",
    "df['payer_country'] = df['payer'] + '_' + df['country']"
   ]
  },
  {
   "cell_type": "code",
   "execution_count": 9,
   "id": "d38cdc19-58f7-4927-ba67-668d1950ce8d",
   "metadata": {
    "tags": []
   },
   "outputs": [],
   "source": [
    "df = df[df['date'] != '2020-12-31'] # Excluyo el 31-12-2020\n",
    "df = df[df['date'] <= '2023-10-21'] # Cortamos el dataset hasta el 21/10/2023"
   ]
  },
  {
   "cell_type": "code",
   "execution_count": 10,
   "id": "26b50cb8-cf41-416f-938f-663d2a7fd1d5",
   "metadata": {
    "tags": []
   },
   "outputs": [
    {
     "data": {
      "text/plain": [
       "Timestamp('2023-10-21 00:00:00')"
      ]
     },
     "execution_count": 10,
     "metadata": {},
     "output_type": "execute_result"
    }
   ],
   "source": [
    "df.date.max()"
   ]
  },
  {
   "cell_type": "code",
   "execution_count": 11,
   "id": "a9554cd0-2dca-4c7d-aa75-d8ec508e7a4e",
   "metadata": {
    "tags": []
   },
   "outputs": [],
   "source": [
    "def aging_filter(df):\n",
    "    # Find the last date in the sample\n",
    "    last_date_sample = df['date'].max()\n",
    "\n",
    "    # Calculate the limit date, one day before the last date in the sample\n",
    "    limit_date = last_date_sample - pd.Timedelta(days=1)\n",
    "\n",
    "    # Find the first and last date per 'payer_country' and calculate total_amount and count\n",
    "    result = (\n",
    "        df.groupby('payer_country')\n",
    "        .agg(\n",
    "            first_date=('date', 'min'),\n",
    "            last_date=('date', 'max'),\n",
    "            total_amount=('amount', 'sum'),\n",
    "            total_transactions=('tx', 'sum')  # Add this line for total_transactions\n",
    "        )\n",
    "        .reset_index()\n",
    "    )\n",
    "\n",
    "    # Calculate the 'age_payer' variable accurately using the calculated limit_date\n",
    "    result['age_payer'] = ((limit_date - result['first_date']).dt.days / 30).round(2)\n",
    "\n",
    "    # Calculate the 'active_payer' variable\n",
    "    result['active_time'] = ((result['last_date'] - result['first_date']).dt.days / 30).round(2)\n",
    "\n",
    "    # Calculate the 'inactive' variable\n",
    "    result['inactive_time'] = ((limit_date - result['last_date']).dt.days / 30).round(2)\n",
    "\n",
    "    # Sort the final DataFrame by 'total_amount' from highest to lowest\n",
    "    result = result.sort_values(by='total_amount', ascending=False)\n",
    "\n",
    "    # Filter the DataFrame based on conditions and return aging_universe\n",
    "    aging_universe = result.loc[\n",
    "        (result.age_payer >= 3) & \n",
    "        (result.inactive_time <= 3) & \n",
    "        (result.total_amount > 10000) & \n",
    "        (result.total_transactions > 50)\n",
    "    ]\n",
    "\n",
    "    return aging_universe"
   ]
  },
  {
   "cell_type": "code",
   "execution_count": 12,
   "id": "461d813b-c6e0-4749-8177-f1b4ba558e9f",
   "metadata": {
    "tags": []
   },
   "outputs": [
    {
     "data": {
      "text/plain": [
       "array(['EL SALVADOR', 'ECUADOR', 'BOLIVIA', 'HONDURAS', 'MEXICO',\n",
       "       'UNITED STATES', 'PHILIPPINES', 'HAITI', 'GUATEMALA', 'COLOMBIA',\n",
       "       'NIGERIA', 'UNITED STATES (ATM & DEPOSITS)', 'COSTA RICA', 'PERU',\n",
       "       'NICARAGUA', 'BRAZIL', 'DOMINICAN REPUBLIC', 'MALI', 'LIBERIA',\n",
       "       'INDIA', 'ARGENTINA', 'BENIN', 'BURKINA FASO', 'SENEGAL', 'GHANA',\n",
       "       'SIERRA LEONE', 'CHILE', 'SPAIN', 'BANGLADESH', 'ITALY', 'TOGO',\n",
       "       'INDONESIA', 'NEPAL', 'GUINEA', 'GAMBIA, THE', 'GERMANY',\n",
       "       'THAILAND', 'MALAYSIA', 'UNITED KINGDOM', 'BELGIUM',\n",
       "       \"COTE D'IVOIRE (IVORY COAST)\", 'CAMBODIA', 'JAMAICA', 'CAMEROON',\n",
       "       'URUGUAY', 'PORTUGAL', 'RWANDA', 'FRANCE', 'NETHERLANDS',\n",
       "       'SWITZERLAND', 'FIJI', 'UGANDA', 'ZAMBIA', 'KENYA', 'TANZANIA',\n",
       "       'CZECH REPUBLIC', 'ROMANIA', 'SRI LANKA', 'LITHUANIA', 'ETHIOPIA',\n",
       "       'CONGO, (CONGO Â– BRAZZAVILLE)', 'MAURITANIA', 'IRELAND',\n",
       "       'AUSTRIA', 'QATAR', 'GABON', 'VIETNAM', 'NORWAY', 'PAKISTAN',\n",
       "       'LUXEMBOURG', 'CHAD', 'FINLAND', 'ZIMBABWE', 'GREECE', 'POLAND',\n",
       "       'SWEDEN', 'TURKEY', 'SINGAPORE'], dtype=object)"
      ]
     },
     "execution_count": 12,
     "metadata": {},
     "output_type": "execute_result"
    }
   ],
   "source": [
    "df['country'].unique()"
   ]
  },
  {
   "cell_type": "code",
   "execution_count": 13,
   "id": "f1e225cb-ae76-4a29-9ea7-dd6009187533",
   "metadata": {
    "tags": []
   },
   "outputs": [
    {
     "name": "stderr",
     "output_type": "stream",
     "text": [
      "/tmp/ipykernel_4360/3736126815.py:6: SettingWithCopyWarning: \n",
      "A value is trying to be set on a copy of a slice from a DataFrame.\n",
      "Try using .loc[row_indexer,col_indexer] = value instead\n",
      "\n",
      "See the caveats in the documentation: https://pandas.pydata.org/pandas-docs/stable/user_guide/indexing.html#returning-a-view-versus-a-copy\n",
      "  df_filtered['date'] = pd.to_datetime(df_filtered['date']).dt.date\n"
     ]
    }
   ],
   "source": [
    "# Defining Universe\n",
    "df = df[df['amount'] != 0] # Excluding 0 (flag A & Flag C), defined in EDA - CHEQUEAR!\n",
    "\n",
    "df_aging = aging_filter(df) #Filtering 'payer_country' based on Aging notebook\n",
    "df_filtered = df[df['payer_country'].isin(df_aging['payer_country'])] # Applying aging filters \n",
    "df_filtered['date'] = pd.to_datetime(df_filtered['date']).dt.date"
   ]
  },
  {
   "cell_type": "code",
   "execution_count": null,
   "id": "83a5aa44-e70f-4376-b5ef-f7ac75dfded7",
   "metadata": {},
   "outputs": [],
   "source": []
  },
  {
   "cell_type": "code",
   "execution_count": 14,
   "id": "6b0ada34-ac4a-4b14-b7c7-de1d2c14f59e",
   "metadata": {
    "tags": []
   },
   "outputs": [],
   "source": [
    "# FOREX - Selecting columns & renaming\n",
    "df_rates=df_rates.rename(columns={'day': 'date', 'max_feed_price': 'feed_price'})\n",
    "df_rates=df_rates.loc[:,['date', 'feed_price', 'symbol']]"
   ]
  },
  {
   "cell_type": "code",
   "execution_count": 15,
   "id": "b4de5624-a6ef-41db-8d9a-9b1dfd4423bd",
   "metadata": {
    "tags": []
   },
   "outputs": [
    {
     "data": {
      "text/html": [
       "<div>\n",
       "<style scoped>\n",
       "    .dataframe tbody tr th:only-of-type {\n",
       "        vertical-align: middle;\n",
       "    }\n",
       "\n",
       "    .dataframe tbody tr th {\n",
       "        vertical-align: top;\n",
       "    }\n",
       "\n",
       "    .dataframe thead th {\n",
       "        text-align: right;\n",
       "    }\n",
       "</style>\n",
       "<table border=\"1\" class=\"dataframe\">\n",
       "  <thead>\n",
       "    <tr style=\"text-align: right;\">\n",
       "      <th></th>\n",
       "      <th>date</th>\n",
       "      <th>feed_price</th>\n",
       "      <th>symbol</th>\n",
       "    </tr>\n",
       "  </thead>\n",
       "  <tbody>\n",
       "    <tr>\n",
       "      <th>0</th>\n",
       "      <td>2023-05-28</td>\n",
       "      <td>4.9947</td>\n",
       "      <td>USDBRL</td>\n",
       "    </tr>\n",
       "    <tr>\n",
       "      <th>1</th>\n",
       "      <td>2023-05-28</td>\n",
       "      <td>82.6542</td>\n",
       "      <td>USDINR</td>\n",
       "    </tr>\n",
       "    <tr>\n",
       "      <th>2</th>\n",
       "      <td>2023-05-28</td>\n",
       "      <td>7.8211</td>\n",
       "      <td>USDGTQ</td>\n",
       "    </tr>\n",
       "    <tr>\n",
       "      <th>3</th>\n",
       "      <td>2023-05-28</td>\n",
       "      <td>17.6357</td>\n",
       "      <td>USDMXN</td>\n",
       "    </tr>\n",
       "    <tr>\n",
       "      <th>4</th>\n",
       "      <td>2023-05-28</td>\n",
       "      <td>55.9804</td>\n",
       "      <td>USDPHP</td>\n",
       "    </tr>\n",
       "    <tr>\n",
       "      <th>...</th>\n",
       "      <td>...</td>\n",
       "      <td>...</td>\n",
       "      <td>...</td>\n",
       "    </tr>\n",
       "    <tr>\n",
       "      <th>5110</th>\n",
       "      <td>2022-01-14</td>\n",
       "      <td>74.3865</td>\n",
       "      <td>USDINR</td>\n",
       "    </tr>\n",
       "    <tr>\n",
       "      <th>5111</th>\n",
       "      <td>2022-01-14</td>\n",
       "      <td>51.4457</td>\n",
       "      <td>USDPHP</td>\n",
       "    </tr>\n",
       "    <tr>\n",
       "      <th>5112</th>\n",
       "      <td>2022-01-14</td>\n",
       "      <td>5.5400</td>\n",
       "      <td>USDBRL</td>\n",
       "    </tr>\n",
       "    <tr>\n",
       "      <th>5113</th>\n",
       "      <td>2022-01-14</td>\n",
       "      <td>20.3487</td>\n",
       "      <td>USDMXN</td>\n",
       "    </tr>\n",
       "    <tr>\n",
       "      <th>5114</th>\n",
       "      <td>2022-01-14</td>\n",
       "      <td>7.7104</td>\n",
       "      <td>USDGTQ</td>\n",
       "    </tr>\n",
       "  </tbody>\n",
       "</table>\n",
       "<p>5115 rows × 3 columns</p>\n",
       "</div>"
      ],
      "text/plain": [
       "            date  feed_price  symbol\n",
       "0     2023-05-28      4.9947  USDBRL\n",
       "1     2023-05-28     82.6542  USDINR\n",
       "2     2023-05-28      7.8211  USDGTQ\n",
       "3     2023-05-28     17.6357  USDMXN\n",
       "4     2023-05-28     55.9804  USDPHP\n",
       "...          ...         ...     ...\n",
       "5110  2022-01-14     74.3865  USDINR\n",
       "5111  2022-01-14     51.4457  USDPHP\n",
       "5112  2022-01-14      5.5400  USDBRL\n",
       "5113  2022-01-14     20.3487  USDMXN\n",
       "5114  2022-01-14      7.7104  USDGTQ\n",
       "\n",
       "[5115 rows x 3 columns]"
      ]
     },
     "execution_count": 15,
     "metadata": {},
     "output_type": "execute_result"
    }
   ],
   "source": [
    "df_rates"
   ]
  },
  {
   "cell_type": "code",
   "execution_count": 16,
   "id": "8d8e854e-ca58-4c99-b65b-a398020f7389",
   "metadata": {
    "tags": []
   },
   "outputs": [],
   "source": [
    "def get_closing_prices(data, start_date, end_date):\n",
    "    # Convert the 'FEED_DATE' column to datetime\n",
    "    data['date'] = pd.to_datetime(data['date'])\n",
    "\n",
    "    # Filter by date range\n",
    "    data_filtered = data[(data['date'] >= start_date) & (data['date'] <= end_date)]\n",
    "\n",
    "    # Sort by 'FEED_DATE' > chronological order\n",
    "    data_filtered = data_filtered.sort_values(by='date')\n",
    "\n",
    "    # Group by 'SYMBOL' and 'FEED_DATE', taking the last value of 'FEED_PRICE'\n",
    "    data_grouped = data_filtered.groupby(['symbol', pd.Grouper(key='date', freq='D')])['feed_price'].last().reset_index()\n",
    "    \n",
    "    return data_grouped"
   ]
  },
  {
   "cell_type": "code",
   "execution_count": 17,
   "id": "09ebf200-bc8d-4d7c-8f6c-e861aecc5b12",
   "metadata": {
    "tags": []
   },
   "outputs": [],
   "source": [
    "start_date = '2021-01-01'\n",
    "end_date = '2023-10-21'\n",
    "\n",
    "rates = get_closing_prices(df_rates, start_date, end_date)"
   ]
  },
  {
   "cell_type": "code",
   "execution_count": 18,
   "id": "deac5519-2952-4b25-8533-b0887f10f519",
   "metadata": {
    "tags": []
   },
   "outputs": [],
   "source": [
    "###WE OBTAIN THE LAGS FOR THE EXCHANGE RATE \n",
    "\n",
    "def generate_lag_and_variation(df, num_lags):\n",
    "    # Create columns for each day's lag up to the defined maximum\n",
    "    for i in range(1, num_lags + 1):\n",
    "        col_name = f'rate_lag_{i}'\n",
    "        # Shift the 'feed_price' column grouped by 'symbol'\n",
    "        df[col_name] = df.groupby('symbol')['feed_price'].shift(i)\n",
    "\n",
    "    # Calculate the variation columns between consecutive delays\n",
    "    for i in range(1, num_lags):\n",
    "        col_name = f'var_rate_lag_{i}'\n",
    "        # Calculate the difference between consecutive delay columns\n",
    "        df[col_name] = df[f'rate_lag_{i}'] - df[f'rate_lag_{i + 1}']\n",
    "    \n",
    "    return df"
   ]
  },
  {
   "cell_type": "code",
   "execution_count": 19,
   "id": "41a1a559-355f-4dea-84f6-4a3526a03a85",
   "metadata": {
    "tags": []
   },
   "outputs": [],
   "source": [
    "rates_number = 30\n",
    "rates = generate_lag_and_variation(rates, rates_number)\n",
    "rates['date'] = rates['date'].dt.date #Date format"
   ]
  },
  {
   "cell_type": "code",
   "execution_count": 20,
   "id": "6cb7010f-467d-4d46-9ed7-6441be89669a",
   "metadata": {
    "tags": []
   },
   "outputs": [
    {
     "data": {
      "text/html": [
       "<div>\n",
       "<style scoped>\n",
       "    .dataframe tbody tr th:only-of-type {\n",
       "        vertical-align: middle;\n",
       "    }\n",
       "\n",
       "    .dataframe tbody tr th {\n",
       "        vertical-align: top;\n",
       "    }\n",
       "\n",
       "    .dataframe thead th {\n",
       "        text-align: right;\n",
       "    }\n",
       "</style>\n",
       "<table border=\"1\" class=\"dataframe\">\n",
       "  <thead>\n",
       "    <tr style=\"text-align: right;\">\n",
       "      <th></th>\n",
       "      <th>symbol</th>\n",
       "      <th>date</th>\n",
       "      <th>feed_price</th>\n",
       "      <th>rate_lag_1</th>\n",
       "      <th>rate_lag_2</th>\n",
       "      <th>rate_lag_3</th>\n",
       "      <th>rate_lag_4</th>\n",
       "      <th>rate_lag_5</th>\n",
       "      <th>rate_lag_6</th>\n",
       "      <th>rate_lag_7</th>\n",
       "      <th>...</th>\n",
       "      <th>var_rate_lag_20</th>\n",
       "      <th>var_rate_lag_21</th>\n",
       "      <th>var_rate_lag_22</th>\n",
       "      <th>var_rate_lag_23</th>\n",
       "      <th>var_rate_lag_24</th>\n",
       "      <th>var_rate_lag_25</th>\n",
       "      <th>var_rate_lag_26</th>\n",
       "      <th>var_rate_lag_27</th>\n",
       "      <th>var_rate_lag_28</th>\n",
       "      <th>var_rate_lag_29</th>\n",
       "    </tr>\n",
       "  </thead>\n",
       "  <tbody>\n",
       "    <tr>\n",
       "      <th>0</th>\n",
       "      <td>USDBRL</td>\n",
       "      <td>2021-01-01</td>\n",
       "      <td>5.1935</td>\n",
       "      <td>NaN</td>\n",
       "      <td>NaN</td>\n",
       "      <td>NaN</td>\n",
       "      <td>NaN</td>\n",
       "      <td>NaN</td>\n",
       "      <td>NaN</td>\n",
       "      <td>NaN</td>\n",
       "      <td>...</td>\n",
       "      <td>NaN</td>\n",
       "      <td>NaN</td>\n",
       "      <td>NaN</td>\n",
       "      <td>NaN</td>\n",
       "      <td>NaN</td>\n",
       "      <td>NaN</td>\n",
       "      <td>NaN</td>\n",
       "      <td>NaN</td>\n",
       "      <td>NaN</td>\n",
       "      <td>NaN</td>\n",
       "    </tr>\n",
       "    <tr>\n",
       "      <th>1</th>\n",
       "      <td>USDBRL</td>\n",
       "      <td>2021-01-02</td>\n",
       "      <td>5.1934</td>\n",
       "      <td>5.1935</td>\n",
       "      <td>NaN</td>\n",
       "      <td>NaN</td>\n",
       "      <td>NaN</td>\n",
       "      <td>NaN</td>\n",
       "      <td>NaN</td>\n",
       "      <td>NaN</td>\n",
       "      <td>...</td>\n",
       "      <td>NaN</td>\n",
       "      <td>NaN</td>\n",
       "      <td>NaN</td>\n",
       "      <td>NaN</td>\n",
       "      <td>NaN</td>\n",
       "      <td>NaN</td>\n",
       "      <td>NaN</td>\n",
       "      <td>NaN</td>\n",
       "      <td>NaN</td>\n",
       "      <td>NaN</td>\n",
       "    </tr>\n",
       "    <tr>\n",
       "      <th>2</th>\n",
       "      <td>USDBRL</td>\n",
       "      <td>2021-01-03</td>\n",
       "      <td>5.2008</td>\n",
       "      <td>5.1934</td>\n",
       "      <td>5.1935</td>\n",
       "      <td>NaN</td>\n",
       "      <td>NaN</td>\n",
       "      <td>NaN</td>\n",
       "      <td>NaN</td>\n",
       "      <td>NaN</td>\n",
       "      <td>...</td>\n",
       "      <td>NaN</td>\n",
       "      <td>NaN</td>\n",
       "      <td>NaN</td>\n",
       "      <td>NaN</td>\n",
       "      <td>NaN</td>\n",
       "      <td>NaN</td>\n",
       "      <td>NaN</td>\n",
       "      <td>NaN</td>\n",
       "      <td>NaN</td>\n",
       "      <td>NaN</td>\n",
       "    </tr>\n",
       "    <tr>\n",
       "      <th>3</th>\n",
       "      <td>USDBRL</td>\n",
       "      <td>2021-01-04</td>\n",
       "      <td>5.2976</td>\n",
       "      <td>5.2008</td>\n",
       "      <td>5.1934</td>\n",
       "      <td>5.1935</td>\n",
       "      <td>NaN</td>\n",
       "      <td>NaN</td>\n",
       "      <td>NaN</td>\n",
       "      <td>NaN</td>\n",
       "      <td>...</td>\n",
       "      <td>NaN</td>\n",
       "      <td>NaN</td>\n",
       "      <td>NaN</td>\n",
       "      <td>NaN</td>\n",
       "      <td>NaN</td>\n",
       "      <td>NaN</td>\n",
       "      <td>NaN</td>\n",
       "      <td>NaN</td>\n",
       "      <td>NaN</td>\n",
       "      <td>NaN</td>\n",
       "    </tr>\n",
       "    <tr>\n",
       "      <th>4</th>\n",
       "      <td>USDBRL</td>\n",
       "      <td>2021-01-05</td>\n",
       "      <td>5.3244</td>\n",
       "      <td>5.2976</td>\n",
       "      <td>5.2008</td>\n",
       "      <td>5.1934</td>\n",
       "      <td>5.1935</td>\n",
       "      <td>NaN</td>\n",
       "      <td>NaN</td>\n",
       "      <td>NaN</td>\n",
       "      <td>...</td>\n",
       "      <td>NaN</td>\n",
       "      <td>NaN</td>\n",
       "      <td>NaN</td>\n",
       "      <td>NaN</td>\n",
       "      <td>NaN</td>\n",
       "      <td>NaN</td>\n",
       "      <td>NaN</td>\n",
       "      <td>NaN</td>\n",
       "      <td>NaN</td>\n",
       "      <td>NaN</td>\n",
       "    </tr>\n",
       "    <tr>\n",
       "      <th>...</th>\n",
       "      <td>...</td>\n",
       "      <td>...</td>\n",
       "      <td>...</td>\n",
       "      <td>...</td>\n",
       "      <td>...</td>\n",
       "      <td>...</td>\n",
       "      <td>...</td>\n",
       "      <td>...</td>\n",
       "      <td>...</td>\n",
       "      <td>...</td>\n",
       "      <td>...</td>\n",
       "      <td>...</td>\n",
       "      <td>...</td>\n",
       "      <td>...</td>\n",
       "      <td>...</td>\n",
       "      <td>...</td>\n",
       "      <td>...</td>\n",
       "      <td>...</td>\n",
       "      <td>...</td>\n",
       "      <td>...</td>\n",
       "      <td>...</td>\n",
       "    </tr>\n",
       "    <tr>\n",
       "      <th>5110</th>\n",
       "      <td>USDPHP</td>\n",
       "      <td>2023-10-16</td>\n",
       "      <td>56.8185</td>\n",
       "      <td>56.8485</td>\n",
       "      <td>56.8095</td>\n",
       "      <td>56.8227</td>\n",
       "      <td>56.8275</td>\n",
       "      <td>56.8185</td>\n",
       "      <td>56.9342</td>\n",
       "      <td>56.9450</td>\n",
       "      <td>...</td>\n",
       "      <td>0.3564</td>\n",
       "      <td>0.0656</td>\n",
       "      <td>0.0000</td>\n",
       "      <td>0.0000</td>\n",
       "      <td>-0.0257</td>\n",
       "      <td>-0.0093</td>\n",
       "      <td>0.0891</td>\n",
       "      <td>-0.0782</td>\n",
       "      <td>-0.0033</td>\n",
       "      <td>0.1549</td>\n",
       "    </tr>\n",
       "    <tr>\n",
       "      <th>5111</th>\n",
       "      <td>USDPHP</td>\n",
       "      <td>2023-10-17</td>\n",
       "      <td>56.7100</td>\n",
       "      <td>56.8185</td>\n",
       "      <td>56.8485</td>\n",
       "      <td>56.8095</td>\n",
       "      <td>56.8227</td>\n",
       "      <td>56.8275</td>\n",
       "      <td>56.8185</td>\n",
       "      <td>56.9342</td>\n",
       "      <td>...</td>\n",
       "      <td>-0.0893</td>\n",
       "      <td>0.3564</td>\n",
       "      <td>0.0656</td>\n",
       "      <td>0.0000</td>\n",
       "      <td>0.0000</td>\n",
       "      <td>-0.0257</td>\n",
       "      <td>-0.0093</td>\n",
       "      <td>0.0891</td>\n",
       "      <td>-0.0782</td>\n",
       "      <td>-0.0033</td>\n",
       "    </tr>\n",
       "    <tr>\n",
       "      <th>5112</th>\n",
       "      <td>USDPHP</td>\n",
       "      <td>2023-10-18</td>\n",
       "      <td>56.8872</td>\n",
       "      <td>56.7100</td>\n",
       "      <td>56.8185</td>\n",
       "      <td>56.8485</td>\n",
       "      <td>56.8095</td>\n",
       "      <td>56.8227</td>\n",
       "      <td>56.8275</td>\n",
       "      <td>56.8185</td>\n",
       "      <td>...</td>\n",
       "      <td>-0.1337</td>\n",
       "      <td>-0.0893</td>\n",
       "      <td>0.3564</td>\n",
       "      <td>0.0656</td>\n",
       "      <td>0.0000</td>\n",
       "      <td>0.0000</td>\n",
       "      <td>-0.0257</td>\n",
       "      <td>-0.0093</td>\n",
       "      <td>0.0891</td>\n",
       "      <td>-0.0782</td>\n",
       "    </tr>\n",
       "    <tr>\n",
       "      <th>5113</th>\n",
       "      <td>USDPHP</td>\n",
       "      <td>2023-10-19</td>\n",
       "      <td>56.9022</td>\n",
       "      <td>56.8872</td>\n",
       "      <td>56.7100</td>\n",
       "      <td>56.8185</td>\n",
       "      <td>56.8485</td>\n",
       "      <td>56.8095</td>\n",
       "      <td>56.8227</td>\n",
       "      <td>56.8275</td>\n",
       "      <td>...</td>\n",
       "      <td>-0.3476</td>\n",
       "      <td>-0.1337</td>\n",
       "      <td>-0.0893</td>\n",
       "      <td>0.3564</td>\n",
       "      <td>0.0656</td>\n",
       "      <td>0.0000</td>\n",
       "      <td>0.0000</td>\n",
       "      <td>-0.0257</td>\n",
       "      <td>-0.0093</td>\n",
       "      <td>0.0891</td>\n",
       "    </tr>\n",
       "    <tr>\n",
       "      <th>5114</th>\n",
       "      <td>USDPHP</td>\n",
       "      <td>2023-10-20</td>\n",
       "      <td>56.7786</td>\n",
       "      <td>56.9022</td>\n",
       "      <td>56.8872</td>\n",
       "      <td>56.7100</td>\n",
       "      <td>56.8185</td>\n",
       "      <td>56.8485</td>\n",
       "      <td>56.8095</td>\n",
       "      <td>56.8227</td>\n",
       "      <td>...</td>\n",
       "      <td>-0.0434</td>\n",
       "      <td>-0.3476</td>\n",
       "      <td>-0.1337</td>\n",
       "      <td>-0.0893</td>\n",
       "      <td>0.3564</td>\n",
       "      <td>0.0656</td>\n",
       "      <td>0.0000</td>\n",
       "      <td>0.0000</td>\n",
       "      <td>-0.0257</td>\n",
       "      <td>-0.0093</td>\n",
       "    </tr>\n",
       "  </tbody>\n",
       "</table>\n",
       "<p>5115 rows × 62 columns</p>\n",
       "</div>"
      ],
      "text/plain": [
       "      symbol        date  feed_price  rate_lag_1  rate_lag_2  rate_lag_3  \\\n",
       "0     USDBRL  2021-01-01      5.1935         NaN         NaN         NaN   \n",
       "1     USDBRL  2021-01-02      5.1934      5.1935         NaN         NaN   \n",
       "2     USDBRL  2021-01-03      5.2008      5.1934      5.1935         NaN   \n",
       "3     USDBRL  2021-01-04      5.2976      5.2008      5.1934      5.1935   \n",
       "4     USDBRL  2021-01-05      5.3244      5.2976      5.2008      5.1934   \n",
       "...      ...         ...         ...         ...         ...         ...   \n",
       "5110  USDPHP  2023-10-16     56.8185     56.8485     56.8095     56.8227   \n",
       "5111  USDPHP  2023-10-17     56.7100     56.8185     56.8485     56.8095   \n",
       "5112  USDPHP  2023-10-18     56.8872     56.7100     56.8185     56.8485   \n",
       "5113  USDPHP  2023-10-19     56.9022     56.8872     56.7100     56.8185   \n",
       "5114  USDPHP  2023-10-20     56.7786     56.9022     56.8872     56.7100   \n",
       "\n",
       "      rate_lag_4  rate_lag_5  rate_lag_6  rate_lag_7  ...  var_rate_lag_20  \\\n",
       "0            NaN         NaN         NaN         NaN  ...              NaN   \n",
       "1            NaN         NaN         NaN         NaN  ...              NaN   \n",
       "2            NaN         NaN         NaN         NaN  ...              NaN   \n",
       "3            NaN         NaN         NaN         NaN  ...              NaN   \n",
       "4         5.1935         NaN         NaN         NaN  ...              NaN   \n",
       "...          ...         ...         ...         ...  ...              ...   \n",
       "5110     56.8275     56.8185     56.9342     56.9450  ...           0.3564   \n",
       "5111     56.8227     56.8275     56.8185     56.9342  ...          -0.0893   \n",
       "5112     56.8095     56.8227     56.8275     56.8185  ...          -0.1337   \n",
       "5113     56.8485     56.8095     56.8227     56.8275  ...          -0.3476   \n",
       "5114     56.8185     56.8485     56.8095     56.8227  ...          -0.0434   \n",
       "\n",
       "      var_rate_lag_21  var_rate_lag_22  var_rate_lag_23  var_rate_lag_24  \\\n",
       "0                 NaN              NaN              NaN              NaN   \n",
       "1                 NaN              NaN              NaN              NaN   \n",
       "2                 NaN              NaN              NaN              NaN   \n",
       "3                 NaN              NaN              NaN              NaN   \n",
       "4                 NaN              NaN              NaN              NaN   \n",
       "...               ...              ...              ...              ...   \n",
       "5110           0.0656           0.0000           0.0000          -0.0257   \n",
       "5111           0.3564           0.0656           0.0000           0.0000   \n",
       "5112          -0.0893           0.3564           0.0656           0.0000   \n",
       "5113          -0.1337          -0.0893           0.3564           0.0656   \n",
       "5114          -0.3476          -0.1337          -0.0893           0.3564   \n",
       "\n",
       "      var_rate_lag_25  var_rate_lag_26  var_rate_lag_27  var_rate_lag_28  \\\n",
       "0                 NaN              NaN              NaN              NaN   \n",
       "1                 NaN              NaN              NaN              NaN   \n",
       "2                 NaN              NaN              NaN              NaN   \n",
       "3                 NaN              NaN              NaN              NaN   \n",
       "4                 NaN              NaN              NaN              NaN   \n",
       "...               ...              ...              ...              ...   \n",
       "5110          -0.0093           0.0891          -0.0782          -0.0033   \n",
       "5111          -0.0257          -0.0093           0.0891          -0.0782   \n",
       "5112           0.0000          -0.0257          -0.0093           0.0891   \n",
       "5113           0.0000           0.0000          -0.0257          -0.0093   \n",
       "5114           0.0656           0.0000           0.0000          -0.0257   \n",
       "\n",
       "      var_rate_lag_29  \n",
       "0                 NaN  \n",
       "1                 NaN  \n",
       "2                 NaN  \n",
       "3                 NaN  \n",
       "4                 NaN  \n",
       "...               ...  \n",
       "5110           0.1549  \n",
       "5111          -0.0033  \n",
       "5112          -0.0782  \n",
       "5113           0.0891  \n",
       "5114          -0.0093  \n",
       "\n",
       "[5115 rows x 62 columns]"
      ]
     },
     "execution_count": 20,
     "metadata": {},
     "output_type": "execute_result"
    }
   ],
   "source": [
    "rates"
   ]
  },
  {
   "cell_type": "code",
   "execution_count": 21,
   "id": "65786af9-da31-44a0-8afd-7309b155ecdb",
   "metadata": {
    "tags": []
   },
   "outputs": [],
   "source": [
    "rates_dict = {\n",
    "    'USDBRL': 'BRAZIL', # Bz Real \n",
    "    'USDINR': 'INDIA', # Indian Rupia\n",
    "    'USDGTQ': 'GUATEMALA', #Quetzal \n",
    "    'USDMXN': 'MEXICO', #Mx Peso\n",
    "    'USDPHP': 'PHILIPPINES' # Ph Peso\n",
    "}"
   ]
  },
  {
   "cell_type": "code",
   "execution_count": 22,
   "id": "ae0321ad-2118-4780-80ed-f4c3fe7af6d5",
   "metadata": {
    "tags": []
   },
   "outputs": [],
   "source": [
    "rates['country'] = rates['symbol'].map(rates_dict)"
   ]
  },
  {
   "cell_type": "code",
   "execution_count": 23,
   "id": "d525eaef-afec-40ca-a449-93991ad69f95",
   "metadata": {
    "tags": []
   },
   "outputs": [
    {
     "name": "stdout",
     "output_type": "stream",
     "text": [
      "<class 'pandas.core.frame.DataFrame'>\n",
      "RangeIndex: 5115 entries, 0 to 5114\n",
      "Data columns (total 63 columns):\n",
      " #   Column           Non-Null Count  Dtype  \n",
      "---  ------           --------------  -----  \n",
      " 0   symbol           5115 non-null   object \n",
      " 1   date             5115 non-null   object \n",
      " 2   feed_price       5115 non-null   float64\n",
      " 3   rate_lag_1       5110 non-null   float64\n",
      " 4   rate_lag_2       5105 non-null   float64\n",
      " 5   rate_lag_3       5100 non-null   float64\n",
      " 6   rate_lag_4       5095 non-null   float64\n",
      " 7   rate_lag_5       5090 non-null   float64\n",
      " 8   rate_lag_6       5085 non-null   float64\n",
      " 9   rate_lag_7       5080 non-null   float64\n",
      " 10  rate_lag_8       5075 non-null   float64\n",
      " 11  rate_lag_9       5070 non-null   float64\n",
      " 12  rate_lag_10      5065 non-null   float64\n",
      " 13  rate_lag_11      5060 non-null   float64\n",
      " 14  rate_lag_12      5055 non-null   float64\n",
      " 15  rate_lag_13      5050 non-null   float64\n",
      " 16  rate_lag_14      5045 non-null   float64\n",
      " 17  rate_lag_15      5040 non-null   float64\n",
      " 18  rate_lag_16      5035 non-null   float64\n",
      " 19  rate_lag_17      5030 non-null   float64\n",
      " 20  rate_lag_18      5025 non-null   float64\n",
      " 21  rate_lag_19      5020 non-null   float64\n",
      " 22  rate_lag_20      5015 non-null   float64\n",
      " 23  rate_lag_21      5010 non-null   float64\n",
      " 24  rate_lag_22      5005 non-null   float64\n",
      " 25  rate_lag_23      5000 non-null   float64\n",
      " 26  rate_lag_24      4995 non-null   float64\n",
      " 27  rate_lag_25      4990 non-null   float64\n",
      " 28  rate_lag_26      4985 non-null   float64\n",
      " 29  rate_lag_27      4980 non-null   float64\n",
      " 30  rate_lag_28      4975 non-null   float64\n",
      " 31  rate_lag_29      4970 non-null   float64\n",
      " 32  rate_lag_30      4965 non-null   float64\n",
      " 33  var_rate_lag_1   5105 non-null   float64\n",
      " 34  var_rate_lag_2   5100 non-null   float64\n",
      " 35  var_rate_lag_3   5095 non-null   float64\n",
      " 36  var_rate_lag_4   5090 non-null   float64\n",
      " 37  var_rate_lag_5   5085 non-null   float64\n",
      " 38  var_rate_lag_6   5080 non-null   float64\n",
      " 39  var_rate_lag_7   5075 non-null   float64\n",
      " 40  var_rate_lag_8   5070 non-null   float64\n",
      " 41  var_rate_lag_9   5065 non-null   float64\n",
      " 42  var_rate_lag_10  5060 non-null   float64\n",
      " 43  var_rate_lag_11  5055 non-null   float64\n",
      " 44  var_rate_lag_12  5050 non-null   float64\n",
      " 45  var_rate_lag_13  5045 non-null   float64\n",
      " 46  var_rate_lag_14  5040 non-null   float64\n",
      " 47  var_rate_lag_15  5035 non-null   float64\n",
      " 48  var_rate_lag_16  5030 non-null   float64\n",
      " 49  var_rate_lag_17  5025 non-null   float64\n",
      " 50  var_rate_lag_18  5020 non-null   float64\n",
      " 51  var_rate_lag_19  5015 non-null   float64\n",
      " 52  var_rate_lag_20  5010 non-null   float64\n",
      " 53  var_rate_lag_21  5005 non-null   float64\n",
      " 54  var_rate_lag_22  5000 non-null   float64\n",
      " 55  var_rate_lag_23  4995 non-null   float64\n",
      " 56  var_rate_lag_24  4990 non-null   float64\n",
      " 57  var_rate_lag_25  4985 non-null   float64\n",
      " 58  var_rate_lag_26  4980 non-null   float64\n",
      " 59  var_rate_lag_27  4975 non-null   float64\n",
      " 60  var_rate_lag_28  4970 non-null   float64\n",
      " 61  var_rate_lag_29  4965 non-null   float64\n",
      " 62  country          5115 non-null   object \n",
      "dtypes: float64(60), object(3)\n",
      "memory usage: 2.5+ MB\n"
     ]
    }
   ],
   "source": [
    "rates.info()"
   ]
  },
  {
   "cell_type": "code",
   "execution_count": 24,
   "id": "486d46e2-4e6a-4348-845e-cfcba62d4514",
   "metadata": {
    "tags": []
   },
   "outputs": [],
   "source": [
    "df1 = pd.merge(df_filtered, rates, on=['date', 'country'], how='left')\n",
    "df1['date'] = pd.to_datetime(df1['date']).dt.date"
   ]
  },
  {
   "cell_type": "code",
   "execution_count": null,
   "id": "27528287-a795-454f-acff-8b98d54e0389",
   "metadata": {},
   "outputs": [],
   "source": []
  },
  {
   "cell_type": "code",
   "execution_count": 25,
   "id": "88b813d2-a746-4792-8d94-91873868a877",
   "metadata": {
    "tags": []
   },
   "outputs": [
    {
     "name": "stderr",
     "output_type": "stream",
     "text": [
      "/tmp/ipykernel_4360/1901381988.py:5: UserWarning: pandas only supports SQLAlchemy connectable (engine/connection) or database string URI or sqlite3 DBAPI2 connection. Other DBAPI2 objects are not tested. Please consider using SQLAlchemy.\n",
      "  df2 = pd.read_sql(f'SELECT * FROM {origin_name}.{database_name}.{table2_name};', conn)\n"
     ]
    }
   ],
   "source": [
    "### EFFECT OF CANCELED TRANSACTIONS ###\n",
    "database_name= 'analytics'\n",
    "table2_name = 'daily_sales_count_cancelled_v2'##WE LOAD THE BASE WITH CANCELLATIONS\n",
    "\n",
    "df2 = pd.read_sql(f'SELECT * FROM {origin_name}.{database_name}.{table2_name};', conn)\n",
    "df2['date'] = pd.to_datetime(df2['date'])\n",
    "df2 = df2[df2['date'] != '2020-12-31'] # Elimino el registro del 31.12.2020"
   ]
  },
  {
   "cell_type": "code",
   "execution_count": 26,
   "id": "80c25827-264c-4267-8598-5e7e6eff3b3a",
   "metadata": {
    "tags": []
   },
   "outputs": [],
   "source": [
    "from sklearn.preprocessing import LabelEncoder\n",
    "\n",
    "# Grouping by 'payer' and 'country' concatenated for this level of granularity\n",
    "df2['payer_country'] = df2['payer'] + '_' + df2['country']\n",
    "# Inicializing LabelEncoder\n",
    "label_encoder = LabelEncoder()\n",
    "# Coding ‘PAYER_COUNTRY’ as unique values\n",
    "df2['payer_country_encoder'] = label_encoder.fit_transform(df2['payer_country'])"
   ]
  },
  {
   "cell_type": "code",
   "execution_count": 27,
   "id": "1a4b3e24-759c-4b84-8719-360162c91085",
   "metadata": {
    "tags": []
   },
   "outputs": [],
   "source": [
    "# By applying the same aging filter, we can work on the same payer_country universe \n",
    "df2 = df2[df2['payer_country'].isin(df_aging['payer_country'])]"
   ]
  },
  {
   "cell_type": "code",
   "execution_count": 28,
   "id": "bbe1db51-fc3c-434d-b6cf-a68f4dc21507",
   "metadata": {
    "tags": []
   },
   "outputs": [],
   "source": [
    "def fill_missing_dates(df, start_date, end_date):\n",
    "    # Create an empty DataFrame with the specified date range\n",
    "    date_range = pd.date_range(start=start_date, end=end_date)\n",
    "    df_fill = pd.DataFrame({'date': date_range, 'amount': 0, 'tx_cancelled': 0})\n",
    "    df_fill['date'] = pd.to_datetime(df_fill['date']).dt.date\n",
    "    \n",
    "    # Sort the original DataFrame by 'country', 'payer', and 'date'\n",
    "    df = df.sort_values(by=['country', 'payer', 'date'])\n",
    "    \n",
    "    # Create an empty DataFrame to hold the result\n",
    "    result_df = pd.DataFrame()\n",
    "\n",
    "    # Loop through each 'payer_country'\n",
    "    for payer_country in df['payer_country'].unique():\n",
    "#        print(payer_country)\n",
    "        df_aux = df[df['payer_country'] == payer_country]\n",
    "        # Combining df_aux (payer_country) with df_fill, keeping values from df_aux and filling dates, amount and tx_cancelled \n",
    "        merged_df = df_aux.set_index('date').combine_first(df_fill.set_index('date')).reset_index()\n",
    "\n",
    "        # Fill missing values in 'payer', 'country', 'payer_country', 'payer_country_encoder' columns\n",
    "        columns_to_fill = ['payer', 'country', 'payer_country', 'payer_country_encoder']\n",
    "        merged_df[columns_to_fill] = merged_df[columns_to_fill].ffill().bfill()\n",
    "\n",
    "        result_df = pd.concat([result_df, merged_df], ignore_index=True)\n",
    "\n",
    "    \n",
    "    return result_df"
   ]
  },
  {
   "cell_type": "code",
   "execution_count": 29,
   "id": "5519bfb5-7d47-409a-8da7-964c189b46f6",
   "metadata": {
    "tags": []
   },
   "outputs": [],
   "source": [
    "#start_date and end_date variables defined previously\n",
    "start_date = '2021-01-01'\n",
    "end_date = '2023-10-21'\n",
    "\n",
    "# Call the function with the specified start_date and end_date\n",
    "df_full = fill_missing_dates(df2, start_date, end_date)"
   ]
  },
  {
   "cell_type": "code",
   "execution_count": 30,
   "id": "ab1f4fee-5d43-4de7-91f5-d6fac6776955",
   "metadata": {
    "tags": []
   },
   "outputs": [],
   "source": [
    "def generate_tx_lags_and_variation(df, tx_count):\n",
    "    \"\"\"\n",
    "    Generate lag columns for cancelled transactions and their variations.\n",
    "\n",
    "    Args:\n",
    "    - df: DataFrame containing transaction data\n",
    "    - tx_count: Number of periods for lag calculation\n",
    "\n",
    "    Returns:\n",
    "    - df: DataFrame with added lag and variation columns\n",
    "    \"\"\"\n",
    "    # Sort the dataset based on country, payer, and date\n",
    "    df = df.sort_values(by=['country', 'payer', 'date'])\n",
    "\n",
    "    # Create columns for each day's lag up to the defined maximum\n",
    "    for i in range(1, tx_count + 1):\n",
    "        col_name = f'tx_cancelled_lag_{i}'\n",
    "        # Shift the 'tx_cancelled' column grouped by 'country' and 'payer'\n",
    "        df[col_name] = df.groupby(['country', 'payer'])['tx_cancelled'].shift(i)\n",
    "\n",
    "    # Calculate the variation columns between consecutive delays\n",
    "    for i in range(1, tx_count):\n",
    "        col_name = f'var_tx_cancelled_lag_{i}'\n",
    "        # Calculate the difference between consecutive lag columns\n",
    "        df[col_name] = df[f'tx_cancelled_lag_{i}'] - df[f'tx_cancelled_lag_{i + 1}']\n",
    "\n",
    "    return df\n"
   ]
  },
  {
   "cell_type": "code",
   "execution_count": 31,
   "id": "575ccc5f-00c2-47ad-b27a-ec5de6cf64c4",
   "metadata": {
    "tags": []
   },
   "outputs": [],
   "source": [
    "# Call the function and assign the result back to df2\n",
    "tx_cancelled_lags = 30\n",
    "df2 = generate_tx_lags_and_variation(df_full, tx_cancelled_lags)"
   ]
  },
  {
   "cell_type": "code",
   "execution_count": 32,
   "id": "9dce5a7e-2764-4b58-ba7e-7137ce74e9d0",
   "metadata": {
    "tags": []
   },
   "outputs": [],
   "source": [
    "df2['date'] = df2['date'].dt.date"
   ]
  },
  {
   "cell_type": "code",
   "execution_count": 33,
   "id": "ca0ad6fe-31e5-423a-82ea-aef321322d45",
   "metadata": {},
   "outputs": [],
   "source": [
    "df1['ratio_coupon_tx']=df1.coupon_count/df1.tx"
   ]
  },
  {
   "cell_type": "code",
   "execution_count": 34,
   "id": "bcc1f246-8b71-43b9-b58f-1cd8315dd972",
   "metadata": {},
   "outputs": [
    {
     "data": {
      "text/plain": [
       "5.0"
      ]
     },
     "execution_count": 34,
     "metadata": {},
     "output_type": "execute_result"
    }
   ],
   "source": [
    "df1.ratio_coupon_tx.min();df1.ratio_coupon_tx.max()"
   ]
  },
  {
   "cell_type": "code",
   "execution_count": 35,
   "id": "8cd096be-3c18-4763-9fd8-e0584fad79eb",
   "metadata": {
    "tags": []
   },
   "outputs": [],
   "source": [
    "\n",
    "def generate_coupon_tx_lags(df, tx_count):\n",
    "    \"\"\"\n",
    "    Generate lag columns for coupon_tx ratio\n",
    "\n",
    "    Args:\n",
    "    - df: DataFrame containing transaction data\n",
    "    - tx_count: Number of periods for lag calculation\n",
    "\n",
    "    Returns:\n",
    "    - df: DataFrame with added lag and variation columns\n",
    "    \"\"\"\n",
    "    # Sort the dataset based on country, payer, and date\n",
    "    df = df.sort_values(by=['country', 'payer', 'date'])\n",
    "\n",
    "    # Create columns for each day's lag up to the defined maximum\n",
    "    for i in range(1, tx_count + 1):\n",
    "        col_name = f'ratio_coupon_tx_lag_{i}'\n",
    "        # Shift the 'ratio_coupon_tx' column grouped by 'country' and 'payer'\n",
    "        df[col_name] = df.groupby(['country', 'payer'])['ratio_coupon_tx'].shift(i)\n",
    "\n",
    "    return df\n"
   ]
  },
  {
   "cell_type": "code",
   "execution_count": 36,
   "id": "2288a51d-402e-4a29-be25-26b4b026648d",
   "metadata": {},
   "outputs": [],
   "source": [
    "# Call the function and assign the result back to df1\n",
    "tx_ratio_coupon_tx_lags = 30\n",
    "df1 = generate_coupon_tx_lags(df1, tx_ratio_coupon_tx_lags)"
   ]
  },
  {
   "cell_type": "code",
   "execution_count": 37,
   "id": "52724f53-511d-4316-ada4-a006e1ee4e00",
   "metadata": {},
   "outputs": [],
   "source": [
    "def generate_tx_lags(df, tx_count):\n",
    "    \"\"\"\n",
    "    Generate lags columns for txs\n",
    "\n",
    "    Args:\n",
    "    - df: DataFrame containing transaction data\n",
    "    - tx_count: Number of periods for lag calculation\n",
    "\n",
    "    Returns:\n",
    "    - df: DataFrame with added lag and variation columns\n",
    "    \"\"\"\n",
    "    # Sort the dataset based on country, payer, and date\n",
    "    df = df.sort_values(by=['country', 'payer', 'date'])\n",
    "\n",
    "    # Create columns for each day's lag up to the defined maximum\n",
    "    for i in range(1, tx_count + 1):\n",
    "        col_name = f'tx_lag_{i}'\n",
    "        # Shift the 'tx' column grouped by 'country' and 'payer'\n",
    "        df[col_name] = df.groupby(['country', 'payer'])['tx'].shift(i)\n",
    "\n",
    "    return df"
   ]
  },
  {
   "cell_type": "code",
   "execution_count": 38,
   "id": "a4069ed0-b32e-4c15-86c8-f134a813c5a5",
   "metadata": {},
   "outputs": [],
   "source": [
    "# Call the function and assign the result back to df1\n",
    "tx_lags = 30\n",
    "df1 = generate_tx_lags(df1, tx_lags)"
   ]
  },
  {
   "cell_type": "code",
   "execution_count": 39,
   "id": "2fd05382-c696-42b2-bdcb-6cdb2f75936b",
   "metadata": {
    "tags": []
   },
   "outputs": [],
   "source": [
    "df_final = pd.merge(df1,df2, on=['date','payer','country', 'amount'], how='outer')\n",
    "df_final['date'] = pd.to_datetime(df_final['date'])"
   ]
  },
  {
   "cell_type": "code",
   "execution_count": 40,
   "id": "d13cebc9-48ee-4f06-93d3-d7323cb3c894",
   "metadata": {
    "tags": []
   },
   "outputs": [],
   "source": [
    "#for x in df_final.columns:\n",
    "#   print (x)"
   ]
  },
  {
   "cell_type": "code",
   "execution_count": 41,
   "id": "5b139d7c-14ff-4100-bc3f-7b98ee45a0e0",
   "metadata": {
    "tags": []
   },
   "outputs": [],
   "source": [
    "###WE SHOULD KEEP THE VARIABLES THAT HAVE IMPUTED MISSINGS IN AMOUNT AND TX_CANCELLED (DAYS WITHOUT OPERATIONS) BUT KEEP THE MISSINGS IN RATES\n",
    "df_final=df_final.loc[:,['date', 'payer', 'country', 'amount', \n",
    "                         'var_rate_lag_1', 'var_rate_lag_2', 'var_rate_lag_3',\n",
    "                         'var_rate_lag_4', 'var_rate_lag_5', 'var_rate_lag_6', 'var_rate_lag_7',\n",
    "                         'var_rate_lag_8', 'var_rate_lag_9', 'var_rate_lag_10',\n",
    "                         'var_rate_lag_11', 'var_rate_lag_12', 'var_rate_lag_13',\n",
    "                         'var_rate_lag_14', 'var_rate_lag_15', 'var_rate_lag_16',\n",
    "                         'var_rate_lag_17', 'var_rate_lag_18', 'var_rate_lag_19',\n",
    "                         'var_rate_lag_20', 'var_rate_lag_21', 'var_rate_lag_22',\n",
    "                         'var_rate_lag_23', 'var_rate_lag_24', 'var_rate_lag_25',\n",
    "                         'var_rate_lag_26', 'var_rate_lag_27', 'var_rate_lag_28',\n",
    "                         'var_rate_lag_29', \n",
    "                         'payer_country_encoder','payer_country_y',\n",
    "                         'var_tx_cancelled_lag_1', 'var_tx_cancelled_lag_2', 'var_tx_cancelled_lag_3',\n",
    "                         'var_tx_cancelled_lag_4', 'var_tx_cancelled_lag_5', 'var_tx_cancelled_lag_6',\n",
    "                         'var_tx_cancelled_lag_7', 'var_tx_cancelled_lag_8', 'var_tx_cancelled_lag_9',\n",
    "                         'var_tx_cancelled_lag_10', 'var_tx_cancelled_lag_11', 'var_tx_cancelled_lag_12',\n",
    "                         'var_tx_cancelled_lag_13', 'var_tx_cancelled_lag_14', 'var_tx_cancelled_lag_15',\n",
    "                         'var_tx_cancelled_lag_16', 'var_tx_cancelled_lag_17', 'var_tx_cancelled_lag_18',\n",
    "                         'var_tx_cancelled_lag_19', 'var_tx_cancelled_lag_20', 'var_tx_cancelled_lag_21',\n",
    "                         'var_tx_cancelled_lag_22', 'var_tx_cancelled_lag_23', 'var_tx_cancelled_lag_24',\n",
    "                         'var_tx_cancelled_lag_25', 'var_tx_cancelled_lag_26', 'var_tx_cancelled_lag_27',\n",
    "                         'var_tx_cancelled_lag_28', 'var_tx_cancelled_lag_29', 'var_tx_cancelled_lag_6',\n",
    "                         'ratio_coupon_tx_lag_1', 'ratio_coupon_tx_lag_2', 'ratio_coupon_tx_lag_3',\n",
    "                         'ratio_coupon_tx_lag_4', 'ratio_coupon_tx_lag_5', 'ratio_coupon_tx_lag_6',\n",
    "                          'ratio_coupon_tx_lag_7', 'ratio_coupon_tx_lag_8', 'ratio_coupon_tx_lag_9',\n",
    "                          'ratio_coupon_tx_lag_10', 'ratio_coupon_tx_lag_11', 'ratio_coupon_tx_lag_12',\n",
    "                          'ratio_coupon_tx_lag_13', 'ratio_coupon_tx_lag_14', 'ratio_coupon_tx_lag_15',\n",
    "                          'ratio_coupon_tx_lag_16', 'ratio_coupon_tx_lag_17', 'ratio_coupon_tx_lag_18',\n",
    "                          'ratio_coupon_tx_lag_19', 'ratio_coupon_tx_lag_20', 'ratio_coupon_tx_lag_21',\n",
    "                          'ratio_coupon_tx_lag_22', 'ratio_coupon_tx_lag_23', 'ratio_coupon_tx_lag_24',\n",
    "                          'ratio_coupon_tx_lag_25', 'ratio_coupon_tx_lag_26', 'ratio_coupon_tx_lag_27',\n",
    "                          'ratio_coupon_tx_lag_28', 'ratio_coupon_tx_lag_29',\n",
    "                          'tx_lag_1', 'tx_lag_2','tx_lag_3','tx_lag_4','tx_lag_5','tx_lag_6','tx_lag_7',\n",
    "                          'tx_lag_8', 'tx_lag_9','tx_lag_10','tx_lag_11','tx_lag_12','tx_lag_13','tx_lag_14',\n",
    "                          'tx_lag_15', 'tx_lag_16','tx_lag_17','tx_lag_18','tx_lag_19','tx_lag_20','tx_lag_21',\n",
    "                          'tx_lag_22', 'tx_lag_23','tx_lag_24','tx_lag_25','tx_lag_26','tx_lag_27','tx_lag_28',\n",
    "                          'tx_lag_29',]]\n",
    "                        \n",
    "        \n",
    "df_final = df_final.rename(columns={'payer_country_y': 'payer_country'})"
   ]
  },
  {
   "cell_type": "code",
   "execution_count": 42,
   "id": "bbf4f1c8-3db1-4dc9-8ff1-a31377fe963a",
   "metadata": {
    "tags": []
   },
   "outputs": [
    {
     "name": "stdout",
     "output_type": "stream",
     "text": [
      "<class 'pandas.core.frame.DataFrame'>\n",
      "RangeIndex: 133120 entries, 0 to 133119\n",
      "Columns: 123 entries, date to tx_lag_29\n",
      "dtypes: datetime64[ns](1), float64(119), object(3)\n",
      "memory usage: 124.9+ MB\n"
     ]
    }
   ],
   "source": [
    "df_final.info()"
   ]
  },
  {
   "cell_type": "code",
   "execution_count": 43,
   "id": "069a1c97-30ca-43a7-9eb0-b831a5e7b918",
   "metadata": {
    "tags": []
   },
   "outputs": [],
   "source": [
    "### DUMMIES ####\n",
    "\n",
    "# Weekend indicator (dummy)\n",
    "df_final['weekend'] = (df_final['date'].dt.dayofweek >= 4).astype(int)"
   ]
  },
  {
   "cell_type": "code",
   "execution_count": 44,
   "id": "f0f109eb-f48a-4760-a74e-0454902172f5",
   "metadata": {
    "tags": []
   },
   "outputs": [],
   "source": [
    "#WE ADD ONE MORE DAY AFTER CHRISTMAS, NEW YEAR'S EVE AND US INDEPENDENCE (BETTER CAPTURES THE DISTURBANCE).\n",
    "# Special dates list - Format: Month-day \n",
    "special_dates_list = [ '07-04', #US independence day \n",
    "                      '12-25', #Christmas\n",
    "                      '05-11' # Mexico & Colombia - Mother's day\n",
    "                     '01-01', #New Year\n",
    "                     '01-02',\n",
    "                     '12-26',\n",
    "                     '07-05'] \n",
    "\n",
    "# Applying format process special_dates function\n",
    "special_dates_list_processed = [(int(date.split('-')[0]), int(date.split('-')[1])) for date in special_dates_list]"
   ]
  },
  {
   "cell_type": "code",
   "execution_count": 45,
   "id": "32eaa10c-48b3-4c98-9f5c-b3454dae4920",
   "metadata": {
    "tags": []
   },
   "outputs": [],
   "source": [
    "# To check special dates defined by list\n",
    "def mark_special_dates(row):\n",
    "    if (row['date'].month, row['date'].day) in special_dates_list_processed:\n",
    "        return 1\n",
    "    else:\n",
    "        return 0"
   ]
  },
  {
   "cell_type": "code",
   "execution_count": 46,
   "id": "1ac4e8fd-3e58-4d33-b0d3-d0f32cf528d9",
   "metadata": {
    "tags": []
   },
   "outputs": [],
   "source": [
    "# Marking special dates in df\n",
    "df_final['special_dates'] = df_final.apply(lambda row: mark_special_dates(row), axis=1)"
   ]
  },
  {
   "cell_type": "code",
   "execution_count": 47,
   "id": "b5c28f0b-bbe9-4784-8423-2e92fc10fae9",
   "metadata": {
    "tags": []
   },
   "outputs": [
    {
     "data": {
      "text/plain": [
       "24303285928.466"
      ]
     },
     "execution_count": 47,
     "metadata": {},
     "output_type": "execute_result"
    }
   ],
   "source": [
    "df_final['amount'].sum()"
   ]
  },
  {
   "cell_type": "code",
   "execution_count": 48,
   "id": "56c0a893-5dec-4377-8f44-983191e4faa8",
   "metadata": {},
   "outputs": [
    {
     "name": "stdout",
     "output_type": "stream",
     "text": [
      "<class 'pandas.core.frame.DataFrame'>\n",
      "RangeIndex: 133120 entries, 0 to 133119\n",
      "Columns: 125 entries, date to special_dates\n",
      "dtypes: datetime64[ns](1), float64(119), int64(2), object(3)\n",
      "memory usage: 127.0+ MB\n"
     ]
    }
   ],
   "source": [
    "df_final.info()"
   ]
  },
  {
   "cell_type": "code",
   "execution_count": 49,
   "id": "89800309-fcf8-4a61-99b4-3b0e2342f659",
   "metadata": {},
   "outputs": [],
   "source": [
    "# Impute missings in exogenous variables\n",
    "df_final.fillna(0, inplace=True)"
   ]
  },
  {
   "cell_type": "code",
   "execution_count": 50,
   "id": "f47a5ef6-d2ed-41a8-a9a1-610e84a2e007",
   "metadata": {},
   "outputs": [
    {
     "name": "stdout",
     "output_type": "stream",
     "text": [
      "<class 'pandas.core.frame.DataFrame'>\n",
      "RangeIndex: 133120 entries, 0 to 133119\n",
      "Columns: 125 entries, date to special_dates\n",
      "dtypes: datetime64[ns](1), float64(119), int64(2), object(3)\n",
      "memory usage: 127.0+ MB\n"
     ]
    }
   ],
   "source": [
    "df_final.info()"
   ]
  },
  {
   "cell_type": "code",
   "execution_count": 51,
   "id": "10daa941-cc48-4afc-b351-91893c063d3f",
   "metadata": {},
   "outputs": [],
   "source": [
    "##mantenemos mismos id_payer que antes##\n",
    "del df_final['payer_country_encoder']\n",
    "label_encoder = LabelEncoder()\n",
    "# Coding ‘PAYER_COUNTRY’ as unique values\n",
    "df_final['payer_country_encoder'] = label_encoder.fit_transform(df_final['payer_country'])"
   ]
  },
  {
   "cell_type": "code",
   "execution_count": 52,
   "id": "d31fa6a1-24e2-4c99-9f49-7c259c667f97",
   "metadata": {},
   "outputs": [
    {
     "name": "stdout",
     "output_type": "stream",
     "text": [
      "<class 'pandas.core.frame.DataFrame'>\n",
      "RangeIndex: 133120 entries, 0 to 133119\n",
      "Columns: 125 entries, date to payer_country_encoder\n",
      "dtypes: datetime64[ns](1), float64(118), int64(3), object(3)\n",
      "memory usage: 127.0+ MB\n"
     ]
    }
   ],
   "source": [
    "df_final.info()"
   ]
  },
  {
   "cell_type": "code",
   "execution_count": 53,
   "id": "4eabdeba-b0dd-4bca-8f9d-0f40e4c5c459",
   "metadata": {
    "tags": []
   },
   "outputs": [
    {
     "data": {
      "text/plain": [
       "24303285928.466"
      ]
     },
     "execution_count": 53,
     "metadata": {},
     "output_type": "execute_result"
    }
   ],
   "source": [
    "df_final['amount'].sum()"
   ]
  },
  {
   "cell_type": "code",
   "execution_count": 54,
   "id": "74a50634-36c2-40de-81cd-4a94ae1933f3",
   "metadata": {
    "tags": []
   },
   "outputs": [
    {
     "data": {
      "text/plain": [
       "(Timestamp('2023-10-21 00:00:00'), Timestamp('2021-01-01 00:00:00'))"
      ]
     },
     "execution_count": 54,
     "metadata": {},
     "output_type": "execute_result"
    }
   ],
   "source": [
    "df_final.date.max(),df_final.date.min()"
   ]
  },
  {
   "cell_type": "code",
   "execution_count": 55,
   "id": "6f04f693-0a1b-418b-82fe-1bd070de305a",
   "metadata": {
    "tags": []
   },
   "outputs": [
    {
     "data": {
      "text/plain": [
       "date                     datetime64[ns]\n",
       "payer                            object\n",
       "country                          object\n",
       "amount                          float64\n",
       "var_rate_lag_1                  float64\n",
       "                              ...      \n",
       "tx_lag_28                       float64\n",
       "tx_lag_29                       float64\n",
       "weekend                           int64\n",
       "special_dates                     int64\n",
       "payer_country_encoder             int64\n",
       "Length: 125, dtype: object"
      ]
     },
     "execution_count": 55,
     "metadata": {},
     "output_type": "execute_result"
    }
   ],
   "source": [
    "df_final.dtypes"
   ]
  },
  {
   "cell_type": "code",
   "execution_count": 348,
   "id": "0842561a-2f72-4ff5-beec-51d9539a1e72",
   "metadata": {
    "tags": []
   },
   "outputs": [],
   "source": [
    "##Top 10 payers##\n",
    "#total_amount_per_payer = df_final.groupby('payer_country_encoder')['amount'].sum()\n",
    "#top_10_payers = total_amount_per_payer.sort_values(ascending=False).head(10)\n",
    "#print(top_10_payers)"
   ]
  },
  {
   "cell_type": "code",
   "execution_count": 349,
   "id": "cd8c459d-8825-4791-9bdc-2981fe9cc2df",
   "metadata": {},
   "outputs": [],
   "source": [
    "#top_10_payers=[57,29,36,24,38,60,32,20,19,101]\n",
    "#top_10 = df_final[df_final['payer_country_encoder'].isin(top_10_payers)]"
   ]
  },
  {
   "cell_type": "code",
   "execution_count": 350,
   "id": "77933a1d-f29c-4f9e-a799-ada11eaf842b",
   "metadata": {
    "tags": []
   },
   "outputs": [],
   "source": [
    "#top_10.country.unique()"
   ]
  },
  {
   "cell_type": "code",
   "execution_count": 351,
   "id": "748c53cc-6842-4a75-ab86-eaa8c038e5f6",
   "metadata": {
    "tags": []
   },
   "outputs": [],
   "source": [
    "#top_10.loc[top_10.country=='HONDURAS']"
   ]
  },
  {
   "cell_type": "code",
   "execution_count": 352,
   "id": "212e8de5-6f21-44b3-be5e-bcd02947847e",
   "metadata": {},
   "outputs": [],
   "source": [
    "control=df_final.loc[df_final.payer_country_encoder==57]"
   ]
  },
  {
   "cell_type": "code",
   "execution_count": 353,
   "id": "11e0d7d7-4e57-4573-a3ea-f74f188f5997",
   "metadata": {},
   "outputs": [],
   "source": [
    "#control.tail()"
   ]
  },
  {
   "cell_type": "code",
   "execution_count": 354,
   "id": "01d5a1a6-65a1-43cc-bf34-9d13a17f3e27",
   "metadata": {},
   "outputs": [],
   "source": [
    "#control.amount.sum()\n",
    "#df_final.amount.sum()"
   ]
  },
  {
   "cell_type": "code",
   "execution_count": 355,
   "id": "1dadee25-45c9-46f5-8378-5daaa105790f",
   "metadata": {
    "tags": []
   },
   "outputs": [
    {
     "name": "stdout",
     "output_type": "stream",
     "text": [
      "Collecting awswrangler\n",
      "  Using cached awswrangler-3.5.2-py3-none-any.whl.metadata (23 kB)\n",
      "Requirement already satisfied: boto3<2.0.0,>=1.20.32 in /opt/conda/lib/python3.10/site-packages (from awswrangler) (1.28.64)\n",
      "Requirement already satisfied: botocore<2.0.0,>=1.23.32 in /opt/conda/lib/python3.10/site-packages (from awswrangler) (1.31.64)\n",
      "Requirement already satisfied: numpy<2.0,>=1.18 in /opt/conda/lib/python3.10/site-packages (from awswrangler) (1.26.0)\n",
      "Requirement already satisfied: packaging<24.0,>=21.1 in /opt/conda/lib/python3.10/site-packages (from awswrangler) (23.2)\n",
      "Requirement already satisfied: pandas<3.0.0,>=1.2.0 in /opt/conda/lib/python3.10/site-packages (from awswrangler) (2.1.2)\n",
      "Requirement already satisfied: pyarrow>=7.0.0 in /opt/conda/lib/python3.10/site-packages (from awswrangler) (12.0.1)\n",
      "Requirement already satisfied: typing-extensions<5.0.0,>=4.4.0 in /opt/conda/lib/python3.10/site-packages (from awswrangler) (4.5.0)\n",
      "Requirement already satisfied: jmespath<2.0.0,>=0.7.1 in /opt/conda/lib/python3.10/site-packages (from boto3<2.0.0,>=1.20.32->awswrangler) (1.0.1)\n",
      "Requirement already satisfied: s3transfer<0.8.0,>=0.7.0 in /opt/conda/lib/python3.10/site-packages (from boto3<2.0.0,>=1.20.32->awswrangler) (0.7.0)\n",
      "Requirement already satisfied: python-dateutil<3.0.0,>=2.1 in /opt/conda/lib/python3.10/site-packages (from botocore<2.0.0,>=1.23.32->awswrangler) (2.8.2)\n",
      "Requirement already satisfied: urllib3<2.1,>=1.25.4 in /opt/conda/lib/python3.10/site-packages (from botocore<2.0.0,>=1.23.32->awswrangler) (1.26.18)\n",
      "Requirement already satisfied: pytz>=2020.1 in /opt/conda/lib/python3.10/site-packages (from pandas<3.0.0,>=1.2.0->awswrangler) (2023.3)\n",
      "Requirement already satisfied: tzdata>=2022.1 in /opt/conda/lib/python3.10/site-packages (from pandas<3.0.0,>=1.2.0->awswrangler) (2023.3)\n",
      "Requirement already satisfied: six>=1.5 in /opt/conda/lib/python3.10/site-packages (from python-dateutil<3.0.0,>=2.1->botocore<2.0.0,>=1.23.32->awswrangler) (1.16.0)\n",
      "Using cached awswrangler-3.5.2-py3-none-any.whl (402 kB)\n",
      "Installing collected packages: awswrangler\n",
      "Successfully installed awswrangler-3.5.2\n"
     ]
    }
   ],
   "source": [
    "!pip install awswrangler"
   ]
  },
  {
   "cell_type": "code",
   "execution_count": 356,
   "id": "f61ddb2e-bff3-45cb-b8a3-92b93936422e",
   "metadata": {
    "tags": []
   },
   "outputs": [
    {
     "data": {
      "text/plain": [
       "{'paths': ['s3://viamericas-datalake-dev-us-east-1-283731589572-analytics/prueba_sk_forecast/df_final_21_10_2023.csv'],\n",
       " 'partitions_values': {}}"
      ]
     },
     "execution_count": 356,
     "metadata": {},
     "output_type": "execute_result"
    }
   ],
   "source": [
    "#+#+#+#+#+#+#+#+#+#+#+#+#+#+#+#+#+#+#+#+#+#+#+#\n",
    "##ROUTINES FOR EXPORTING CSV TO VIAMERICAS S3##\n",
    "#!pip install awswrangler\n",
    "#import awswrangler as wr\n",
    "#file_name_target = 'df_final_21_10_2023.csv'\n",
    "\n",
    "#wr.s3.to_csv(\n",
    "    df=df_final,\n",
    "    path=f's3://viamericas-datalake-dev-us-east-1-283731589572-analytics/prueba_sk_forecast/{file_name_target}',\n",
    "    dataset=False,\n",
    "    index=False\n",
    ")"
   ]
  },
  {
   "cell_type": "code",
   "execution_count": null,
   "id": "c73b028b-89e5-4590-8ac2-7acf74a4fd6c",
   "metadata": {
    "tags": []
   },
   "outputs": [],
   "source": []
  },
  {
   "cell_type": "code",
   "execution_count": null,
   "id": "42ad5fb4-b51e-4e44-aa25-c91b628b71e6",
   "metadata": {
    "tags": []
   },
   "outputs": [],
   "source": []
  },
  {
   "cell_type": "code",
   "execution_count": null,
   "id": "498c0249-6fb6-4739-b6ef-7f62b32590fa",
   "metadata": {},
   "outputs": [],
   "source": []
  }
 ],
 "metadata": {
  "availableInstances": [
   {
    "_defaultOrder": 0,
    "_isFastLaunch": true,
    "category": "General purpose",
    "gpuNum": 0,
    "hideHardwareSpecs": false,
    "memoryGiB": 4,
    "name": "ml.t3.medium",
    "vcpuNum": 2
   },
   {
    "_defaultOrder": 1,
    "_isFastLaunch": false,
    "category": "General purpose",
    "gpuNum": 0,
    "hideHardwareSpecs": false,
    "memoryGiB": 8,
    "name": "ml.t3.large",
    "vcpuNum": 2
   },
   {
    "_defaultOrder": 2,
    "_isFastLaunch": false,
    "category": "General purpose",
    "gpuNum": 0,
    "hideHardwareSpecs": false,
    "memoryGiB": 16,
    "name": "ml.t3.xlarge",
    "vcpuNum": 4
   },
   {
    "_defaultOrder": 3,
    "_isFastLaunch": false,
    "category": "General purpose",
    "gpuNum": 0,
    "hideHardwareSpecs": false,
    "memoryGiB": 32,
    "name": "ml.t3.2xlarge",
    "vcpuNum": 8
   },
   {
    "_defaultOrder": 4,
    "_isFastLaunch": true,
    "category": "General purpose",
    "gpuNum": 0,
    "hideHardwareSpecs": false,
    "memoryGiB": 8,
    "name": "ml.m5.large",
    "vcpuNum": 2
   },
   {
    "_defaultOrder": 5,
    "_isFastLaunch": false,
    "category": "General purpose",
    "gpuNum": 0,
    "hideHardwareSpecs": false,
    "memoryGiB": 16,
    "name": "ml.m5.xlarge",
    "vcpuNum": 4
   },
   {
    "_defaultOrder": 6,
    "_isFastLaunch": false,
    "category": "General purpose",
    "gpuNum": 0,
    "hideHardwareSpecs": false,
    "memoryGiB": 32,
    "name": "ml.m5.2xlarge",
    "vcpuNum": 8
   },
   {
    "_defaultOrder": 7,
    "_isFastLaunch": false,
    "category": "General purpose",
    "gpuNum": 0,
    "hideHardwareSpecs": false,
    "memoryGiB": 64,
    "name": "ml.m5.4xlarge",
    "vcpuNum": 16
   },
   {
    "_defaultOrder": 8,
    "_isFastLaunch": false,
    "category": "General purpose",
    "gpuNum": 0,
    "hideHardwareSpecs": false,
    "memoryGiB": 128,
    "name": "ml.m5.8xlarge",
    "vcpuNum": 32
   },
   {
    "_defaultOrder": 9,
    "_isFastLaunch": false,
    "category": "General purpose",
    "gpuNum": 0,
    "hideHardwareSpecs": false,
    "memoryGiB": 192,
    "name": "ml.m5.12xlarge",
    "vcpuNum": 48
   },
   {
    "_defaultOrder": 10,
    "_isFastLaunch": false,
    "category": "General purpose",
    "gpuNum": 0,
    "hideHardwareSpecs": false,
    "memoryGiB": 256,
    "name": "ml.m5.16xlarge",
    "vcpuNum": 64
   },
   {
    "_defaultOrder": 11,
    "_isFastLaunch": false,
    "category": "General purpose",
    "gpuNum": 0,
    "hideHardwareSpecs": false,
    "memoryGiB": 384,
    "name": "ml.m5.24xlarge",
    "vcpuNum": 96
   },
   {
    "_defaultOrder": 12,
    "_isFastLaunch": false,
    "category": "General purpose",
    "gpuNum": 0,
    "hideHardwareSpecs": false,
    "memoryGiB": 8,
    "name": "ml.m5d.large",
    "vcpuNum": 2
   },
   {
    "_defaultOrder": 13,
    "_isFastLaunch": false,
    "category": "General purpose",
    "gpuNum": 0,
    "hideHardwareSpecs": false,
    "memoryGiB": 16,
    "name": "ml.m5d.xlarge",
    "vcpuNum": 4
   },
   {
    "_defaultOrder": 14,
    "_isFastLaunch": false,
    "category": "General purpose",
    "gpuNum": 0,
    "hideHardwareSpecs": false,
    "memoryGiB": 32,
    "name": "ml.m5d.2xlarge",
    "vcpuNum": 8
   },
   {
    "_defaultOrder": 15,
    "_isFastLaunch": false,
    "category": "General purpose",
    "gpuNum": 0,
    "hideHardwareSpecs": false,
    "memoryGiB": 64,
    "name": "ml.m5d.4xlarge",
    "vcpuNum": 16
   },
   {
    "_defaultOrder": 16,
    "_isFastLaunch": false,
    "category": "General purpose",
    "gpuNum": 0,
    "hideHardwareSpecs": false,
    "memoryGiB": 128,
    "name": "ml.m5d.8xlarge",
    "vcpuNum": 32
   },
   {
    "_defaultOrder": 17,
    "_isFastLaunch": false,
    "category": "General purpose",
    "gpuNum": 0,
    "hideHardwareSpecs": false,
    "memoryGiB": 192,
    "name": "ml.m5d.12xlarge",
    "vcpuNum": 48
   },
   {
    "_defaultOrder": 18,
    "_isFastLaunch": false,
    "category": "General purpose",
    "gpuNum": 0,
    "hideHardwareSpecs": false,
    "memoryGiB": 256,
    "name": "ml.m5d.16xlarge",
    "vcpuNum": 64
   },
   {
    "_defaultOrder": 19,
    "_isFastLaunch": false,
    "category": "General purpose",
    "gpuNum": 0,
    "hideHardwareSpecs": false,
    "memoryGiB": 384,
    "name": "ml.m5d.24xlarge",
    "vcpuNum": 96
   },
   {
    "_defaultOrder": 20,
    "_isFastLaunch": false,
    "category": "General purpose",
    "gpuNum": 0,
    "hideHardwareSpecs": true,
    "memoryGiB": 0,
    "name": "ml.geospatial.interactive",
    "supportedImageNames": [
     "sagemaker-geospatial-v1-0"
    ],
    "vcpuNum": 0
   },
   {
    "_defaultOrder": 21,
    "_isFastLaunch": true,
    "category": "Compute optimized",
    "gpuNum": 0,
    "hideHardwareSpecs": false,
    "memoryGiB": 4,
    "name": "ml.c5.large",
    "vcpuNum": 2
   },
   {
    "_defaultOrder": 22,
    "_isFastLaunch": false,
    "category": "Compute optimized",
    "gpuNum": 0,
    "hideHardwareSpecs": false,
    "memoryGiB": 8,
    "name": "ml.c5.xlarge",
    "vcpuNum": 4
   },
   {
    "_defaultOrder": 23,
    "_isFastLaunch": false,
    "category": "Compute optimized",
    "gpuNum": 0,
    "hideHardwareSpecs": false,
    "memoryGiB": 16,
    "name": "ml.c5.2xlarge",
    "vcpuNum": 8
   },
   {
    "_defaultOrder": 24,
    "_isFastLaunch": false,
    "category": "Compute optimized",
    "gpuNum": 0,
    "hideHardwareSpecs": false,
    "memoryGiB": 32,
    "name": "ml.c5.4xlarge",
    "vcpuNum": 16
   },
   {
    "_defaultOrder": 25,
    "_isFastLaunch": false,
    "category": "Compute optimized",
    "gpuNum": 0,
    "hideHardwareSpecs": false,
    "memoryGiB": 72,
    "name": "ml.c5.9xlarge",
    "vcpuNum": 36
   },
   {
    "_defaultOrder": 26,
    "_isFastLaunch": false,
    "category": "Compute optimized",
    "gpuNum": 0,
    "hideHardwareSpecs": false,
    "memoryGiB": 96,
    "name": "ml.c5.12xlarge",
    "vcpuNum": 48
   },
   {
    "_defaultOrder": 27,
    "_isFastLaunch": false,
    "category": "Compute optimized",
    "gpuNum": 0,
    "hideHardwareSpecs": false,
    "memoryGiB": 144,
    "name": "ml.c5.18xlarge",
    "vcpuNum": 72
   },
   {
    "_defaultOrder": 28,
    "_isFastLaunch": false,
    "category": "Compute optimized",
    "gpuNum": 0,
    "hideHardwareSpecs": false,
    "memoryGiB": 192,
    "name": "ml.c5.24xlarge",
    "vcpuNum": 96
   },
   {
    "_defaultOrder": 29,
    "_isFastLaunch": true,
    "category": "Accelerated computing",
    "gpuNum": 1,
    "hideHardwareSpecs": false,
    "memoryGiB": 16,
    "name": "ml.g4dn.xlarge",
    "vcpuNum": 4
   },
   {
    "_defaultOrder": 30,
    "_isFastLaunch": false,
    "category": "Accelerated computing",
    "gpuNum": 1,
    "hideHardwareSpecs": false,
    "memoryGiB": 32,
    "name": "ml.g4dn.2xlarge",
    "vcpuNum": 8
   },
   {
    "_defaultOrder": 31,
    "_isFastLaunch": false,
    "category": "Accelerated computing",
    "gpuNum": 1,
    "hideHardwareSpecs": false,
    "memoryGiB": 64,
    "name": "ml.g4dn.4xlarge",
    "vcpuNum": 16
   },
   {
    "_defaultOrder": 32,
    "_isFastLaunch": false,
    "category": "Accelerated computing",
    "gpuNum": 1,
    "hideHardwareSpecs": false,
    "memoryGiB": 128,
    "name": "ml.g4dn.8xlarge",
    "vcpuNum": 32
   },
   {
    "_defaultOrder": 33,
    "_isFastLaunch": false,
    "category": "Accelerated computing",
    "gpuNum": 4,
    "hideHardwareSpecs": false,
    "memoryGiB": 192,
    "name": "ml.g4dn.12xlarge",
    "vcpuNum": 48
   },
   {
    "_defaultOrder": 34,
    "_isFastLaunch": false,
    "category": "Accelerated computing",
    "gpuNum": 1,
    "hideHardwareSpecs": false,
    "memoryGiB": 256,
    "name": "ml.g4dn.16xlarge",
    "vcpuNum": 64
   },
   {
    "_defaultOrder": 35,
    "_isFastLaunch": false,
    "category": "Accelerated computing",
    "gpuNum": 1,
    "hideHardwareSpecs": false,
    "memoryGiB": 61,
    "name": "ml.p3.2xlarge",
    "vcpuNum": 8
   },
   {
    "_defaultOrder": 36,
    "_isFastLaunch": false,
    "category": "Accelerated computing",
    "gpuNum": 4,
    "hideHardwareSpecs": false,
    "memoryGiB": 244,
    "name": "ml.p3.8xlarge",
    "vcpuNum": 32
   },
   {
    "_defaultOrder": 37,
    "_isFastLaunch": false,
    "category": "Accelerated computing",
    "gpuNum": 8,
    "hideHardwareSpecs": false,
    "memoryGiB": 488,
    "name": "ml.p3.16xlarge",
    "vcpuNum": 64
   },
   {
    "_defaultOrder": 38,
    "_isFastLaunch": false,
    "category": "Accelerated computing",
    "gpuNum": 8,
    "hideHardwareSpecs": false,
    "memoryGiB": 768,
    "name": "ml.p3dn.24xlarge",
    "vcpuNum": 96
   },
   {
    "_defaultOrder": 39,
    "_isFastLaunch": false,
    "category": "Memory Optimized",
    "gpuNum": 0,
    "hideHardwareSpecs": false,
    "memoryGiB": 16,
    "name": "ml.r5.large",
    "vcpuNum": 2
   },
   {
    "_defaultOrder": 40,
    "_isFastLaunch": false,
    "category": "Memory Optimized",
    "gpuNum": 0,
    "hideHardwareSpecs": false,
    "memoryGiB": 32,
    "name": "ml.r5.xlarge",
    "vcpuNum": 4
   },
   {
    "_defaultOrder": 41,
    "_isFastLaunch": false,
    "category": "Memory Optimized",
    "gpuNum": 0,
    "hideHardwareSpecs": false,
    "memoryGiB": 64,
    "name": "ml.r5.2xlarge",
    "vcpuNum": 8
   },
   {
    "_defaultOrder": 42,
    "_isFastLaunch": false,
    "category": "Memory Optimized",
    "gpuNum": 0,
    "hideHardwareSpecs": false,
    "memoryGiB": 128,
    "name": "ml.r5.4xlarge",
    "vcpuNum": 16
   },
   {
    "_defaultOrder": 43,
    "_isFastLaunch": false,
    "category": "Memory Optimized",
    "gpuNum": 0,
    "hideHardwareSpecs": false,
    "memoryGiB": 256,
    "name": "ml.r5.8xlarge",
    "vcpuNum": 32
   },
   {
    "_defaultOrder": 44,
    "_isFastLaunch": false,
    "category": "Memory Optimized",
    "gpuNum": 0,
    "hideHardwareSpecs": false,
    "memoryGiB": 384,
    "name": "ml.r5.12xlarge",
    "vcpuNum": 48
   },
   {
    "_defaultOrder": 45,
    "_isFastLaunch": false,
    "category": "Memory Optimized",
    "gpuNum": 0,
    "hideHardwareSpecs": false,
    "memoryGiB": 512,
    "name": "ml.r5.16xlarge",
    "vcpuNum": 64
   },
   {
    "_defaultOrder": 46,
    "_isFastLaunch": false,
    "category": "Memory Optimized",
    "gpuNum": 0,
    "hideHardwareSpecs": false,
    "memoryGiB": 768,
    "name": "ml.r5.24xlarge",
    "vcpuNum": 96
   },
   {
    "_defaultOrder": 47,
    "_isFastLaunch": false,
    "category": "Accelerated computing",
    "gpuNum": 1,
    "hideHardwareSpecs": false,
    "memoryGiB": 16,
    "name": "ml.g5.xlarge",
    "vcpuNum": 4
   },
   {
    "_defaultOrder": 48,
    "_isFastLaunch": false,
    "category": "Accelerated computing",
    "gpuNum": 1,
    "hideHardwareSpecs": false,
    "memoryGiB": 32,
    "name": "ml.g5.2xlarge",
    "vcpuNum": 8
   },
   {
    "_defaultOrder": 49,
    "_isFastLaunch": false,
    "category": "Accelerated computing",
    "gpuNum": 1,
    "hideHardwareSpecs": false,
    "memoryGiB": 64,
    "name": "ml.g5.4xlarge",
    "vcpuNum": 16
   },
   {
    "_defaultOrder": 50,
    "_isFastLaunch": false,
    "category": "Accelerated computing",
    "gpuNum": 1,
    "hideHardwareSpecs": false,
    "memoryGiB": 128,
    "name": "ml.g5.8xlarge",
    "vcpuNum": 32
   },
   {
    "_defaultOrder": 51,
    "_isFastLaunch": false,
    "category": "Accelerated computing",
    "gpuNum": 1,
    "hideHardwareSpecs": false,
    "memoryGiB": 256,
    "name": "ml.g5.16xlarge",
    "vcpuNum": 64
   },
   {
    "_defaultOrder": 52,
    "_isFastLaunch": false,
    "category": "Accelerated computing",
    "gpuNum": 4,
    "hideHardwareSpecs": false,
    "memoryGiB": 192,
    "name": "ml.g5.12xlarge",
    "vcpuNum": 48
   },
   {
    "_defaultOrder": 53,
    "_isFastLaunch": false,
    "category": "Accelerated computing",
    "gpuNum": 4,
    "hideHardwareSpecs": false,
    "memoryGiB": 384,
    "name": "ml.g5.24xlarge",
    "vcpuNum": 96
   },
   {
    "_defaultOrder": 54,
    "_isFastLaunch": false,
    "category": "Accelerated computing",
    "gpuNum": 8,
    "hideHardwareSpecs": false,
    "memoryGiB": 768,
    "name": "ml.g5.48xlarge",
    "vcpuNum": 192
   },
   {
    "_defaultOrder": 55,
    "_isFastLaunch": false,
    "category": "Accelerated computing",
    "gpuNum": 8,
    "hideHardwareSpecs": false,
    "memoryGiB": 1152,
    "name": "ml.p4d.24xlarge",
    "vcpuNum": 96
   },
   {
    "_defaultOrder": 56,
    "_isFastLaunch": false,
    "category": "Accelerated computing",
    "gpuNum": 8,
    "hideHardwareSpecs": false,
    "memoryGiB": 1152,
    "name": "ml.p4de.24xlarge",
    "vcpuNum": 96
   },
   {
    "_defaultOrder": 57,
    "_isFastLaunch": false,
    "category": "Accelerated computing",
    "gpuNum": 0,
    "hideHardwareSpecs": false,
    "memoryGiB": 32,
    "name": "ml.trn1.2xlarge",
    "vcpuNum": 8
   },
   {
    "_defaultOrder": 58,
    "_isFastLaunch": false,
    "category": "Accelerated computing",
    "gpuNum": 0,
    "hideHardwareSpecs": false,
    "memoryGiB": 512,
    "name": "ml.trn1.32xlarge",
    "vcpuNum": 128
   },
   {
    "_defaultOrder": 59,
    "_isFastLaunch": false,
    "category": "Accelerated computing",
    "gpuNum": 0,
    "hideHardwareSpecs": false,
    "memoryGiB": 512,
    "name": "ml.trn1n.32xlarge",
    "vcpuNum": 128
   }
  ],
  "instance_type": "ml.t3.medium",
  "kernelspec": {
   "display_name": "Python 3 (ipykernel)",
   "language": "python",
   "name": "python3"
  },
  "language_info": {
   "codemirror_mode": {
    "name": "ipython",
    "version": 3
   },
   "file_extension": ".py",
   "mimetype": "text/x-python",
   "name": "python",
   "nbconvert_exporter": "python",
   "pygments_lexer": "ipython3",
   "version": "3.10.13"
  }
 },
 "nbformat": 4,
 "nbformat_minor": 5
}
