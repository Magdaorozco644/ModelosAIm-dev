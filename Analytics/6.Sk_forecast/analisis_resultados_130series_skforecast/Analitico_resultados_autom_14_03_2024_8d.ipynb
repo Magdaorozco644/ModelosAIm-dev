{
 "cells": [
  {
   "cell_type": "code",
   "execution_count": 12,
   "id": "9188a7ce-5e0c-4daf-94a6-9016d9846a78",
   "metadata": {
    "tags": []
   },
   "outputs": [],
   "source": [
    "import boto3\n",
    "import pandas as pd\n",
    "from io import BytesIO"
   ]
  },
  {
   "cell_type": "code",
   "execution_count": 13,
   "id": "9d08ba05-4011-4175-8c04-f65df8f28525",
   "metadata": {
    "tags": []
   },
   "outputs": [],
   "source": [
    "# Config cliente de S3\n",
    "s3 = boto3.client('s3')"
   ]
  },
  {
   "cell_type": "code",
   "execution_count": 22,
   "id": "4abd0921-ce9d-4300-85af-e42d3d4a23de",
   "metadata": {
    "tags": []
   },
   "outputs": [],
   "source": [
    "# Bbucket y prefijo de carpetas\n",
    "bucket_name = 'viamericas-datalake-dev-us-east-1-283731589572-analytics'\n",
    "prefix_ABTv3 = 'ABTv3/Last_releases_7d_8lags/'"
   ]
  },
  {
   "cell_type": "code",
   "execution_count": 23,
   "id": "e1cac880-b8a5-475e-9771-90b8ab72728c",
   "metadata": {
    "tags": []
   },
   "outputs": [],
   "source": [
    "# Obtengo lista de carpetas en el bucket\n",
    "def list_folders(bucket_name, prefix):\n",
    "    response = s3.list_objects_v2(Bucket=bucket_name, Prefix=prefix, Delimiter='/')\n",
    "    folders = [prefix['Prefix'].split('/')[-2] for prefix in response.get('CommonPrefixes', [])]\n",
    "    return folders"
   ]
  },
  {
   "cell_type": "code",
   "execution_count": 24,
   "id": "8c427d7c-732d-44ad-a7db-5fbd0b427fa2",
   "metadata": {
    "tags": []
   },
   "outputs": [],
   "source": [
    "# Llamo funcion para listar carpetas\n",
    "folders_v2 = list_folders(bucket_name, prefix_ABTv3)"
   ]
  },
  {
   "cell_type": "code",
   "execution_count": 31,
   "id": "5a7780f2-584e-4d94-8438-cdda1cff9d05",
   "metadata": {
    "tags": []
   },
   "outputs": [],
   "source": [
    "# Leo los xlsx y consolido\n",
    "\n",
    "def read_files(bucket_name, prefix):\n",
    "    dfs = []\n",
    "    \n",
    "    # Iterar sobre cada carpeta\n",
    "    for folder_name in folders_v2:\n",
    "        # Obtener la lista de objetos en la carpeta\n",
    "        objects = s3.list_objects_v2(Bucket=bucket_name, Prefix=f'{prefix}{folder_name}/')['Contents']\n",
    "        \n",
    "        # Buscar archivos xlsx en la carpeta\n",
    "        excel_objects = [obj for obj in objects if obj['Key'].endswith('.xlsx') and '2d' not in obj['Key']]\n",
    "        \n",
    "        if excel_objects:\n",
    "            print(excel_objects)\n",
    "            # Leer el primer archivo xlsx encontrado\n",
    "            obj = s3.get_object(Bucket=bucket_name, Key=excel_objects[0]['Key'])\n",
    "            excel_data = obj['Body'].read() # No se puede leer con pandas directo de S3\n",
    "            \n",
    "            df = pd.read_excel(BytesIO(excel_data))\n",
    "            # Agrego columna con el nombre de la carpeta\n",
    "            df['folder_name'] = folder_name\n",
    "            # Agregar el df a la lista\n",
    "            dfs.append(df)\n",
    "        else:\n",
    "            print(f\"No se encontraron archivos xlsx en la carpeta {folder_name}.\")\n",
    "    \n",
    "    if dfs:\n",
    "        # Concateno todo\n",
    "        consolidated_df = pd.concat(dfs, ignore_index=True)\n",
    "        return consolidated_df\n",
    "    else:\n",
    "        print(\"No se encontraron archivos xlsx en ninguna de las carpetas especificadas.\")\n",
    "        return None"
   ]
  },
  {
   "cell_type": "code",
   "execution_count": 32,
   "id": "369bf0fa-cec1-4e48-bd1c-d07e72d40171",
   "metadata": {
    "tags": []
   },
   "outputs": [
    {
     "name": "stdout",
     "output_type": "stream",
     "text": [
      "[{'Key': 'ABTv3/Last_releases_7d_8lags/24XORO_MEXICO/predicciones_test_7d24XORO_MEXICO.xlsx', 'LastModified': datetime.datetime(2024, 3, 14, 17, 30, 17, tzinfo=tzlocal()), 'ETag': '\"85310c769ee752299e464fbcd51ae0b4\"', 'Size': 15915, 'StorageClass': 'STANDARD'}]\n",
      "[{'Key': 'ABTv3/Last_releases_7d_8lags/ABANK (TN)_EL SALVADOR/predicciones_test_7dABANK (TN)_EL SALVADOR.xlsx', 'LastModified': datetime.datetime(2024, 3, 14, 16, 43, 42, tzinfo=tzlocal()), 'ETag': '\"96ae811dc32f6f53cced50e6c11903f4\"', 'Size': 15348, 'StorageClass': 'STANDARD'}]\n",
      "[{'Key': 'ABTv3/Last_releases_7d_8lags/AFEX_CHILE/predicciones_test_7dAFEX_CHILE.xlsx', 'LastModified': datetime.datetime(2024, 3, 14, 18, 33, 17, tzinfo=tzlocal()), 'ETag': '\"ebccfe37f5598a53d27b9c4fc3a31c47\"', 'Size': 15405, 'StorageClass': 'STANDARD'}]\n",
      "[{'Key': 'ABTv3/Last_releases_7d_8lags/AFRO INTERNACIONAL_GUINEA/predicciones_test_7dAFRO INTERNACIONAL_GUINEA.xlsx', 'LastModified': datetime.datetime(2024, 3, 15, 12, 39, 52, tzinfo=tzlocal()), 'ETag': '\"d16df6ebf40579705e4ad6e33fed94f7\"', 'Size': 13208, 'StorageClass': 'STANDARD'}]\n",
      "[{'Key': 'ABTv3/Last_releases_7d_8lags/AFRO INTERNACIONAL_SIERRA LEONE/predicciones_test_7dAFRO INTERNACIONAL_SIERRA LEONE.xlsx', 'LastModified': datetime.datetime(2024, 3, 14, 17, 37, 52, tzinfo=tzlocal()), 'ETag': '\"5adc32f9b158ead4425d357a105495dc\"', 'Size': 15800, 'StorageClass': 'STANDARD'}]\n",
      "[{'Key': 'ABTv3/Last_releases_7d_8lags/AIRPAK_MEXICO/predicciones_test_7dAIRPAK_MEXICO.xlsx', 'LastModified': datetime.datetime(2024, 3, 14, 14, 34, 15, tzinfo=tzlocal()), 'ETag': '\"19336e737ff790e0828a0fd8fe8b2d78\"', 'Size': 15994, 'StorageClass': 'STANDARD'}]\n",
      "[{'Key': 'ABTv3/Last_releases_7d_8lags/ARGENPER_ARGENTINA/predicciones_test_7dARGENPER_ARGENTINA.xlsx', 'LastModified': datetime.datetime(2024, 3, 15, 4, 21, 43, tzinfo=tzlocal()), 'ETag': '\"bec9108e572339f4462b657e787397ab\"', 'Size': 14733, 'StorageClass': 'STANDARD'}]\n",
      "[{'Key': 'ABTv3/Last_releases_7d_8lags/ARGENPER_BOLIVIA/predicciones_test_7dARGENPER_BOLIVIA.xlsx', 'LastModified': datetime.datetime(2024, 3, 15, 13, 20, 46, tzinfo=tzlocal()), 'ETag': '\"1c373ae8508ec0318bffae393c564213\"', 'Size': 12186, 'StorageClass': 'STANDARD'}]\n",
      "[{'Key': 'ABTv3/Last_releases_7d_8lags/ARGENPER_CHILE/predicciones_test_7dARGENPER_CHILE.xlsx', 'LastModified': datetime.datetime(2024, 3, 15, 4, 9, 17, tzinfo=tzlocal()), 'ETag': '\"a1820d3d3bc791fdddc9638c960c7126\"', 'Size': 15614, 'StorageClass': 'STANDARD'}]\n",
      "[{'Key': 'ABTv3/Last_releases_7d_8lags/ARGENPER_PERU/predicciones_test_7dARGENPER_PERU.xlsx', 'LastModified': datetime.datetime(2024, 3, 14, 18, 28, 22, tzinfo=tzlocal()), 'ETag': '\"f524bc3d86f94124069ddb8b83c92d33\"', 'Size': 15874, 'StorageClass': 'STANDARD'}]\n",
      "[{'Key': 'ABTv3/Last_releases_7d_8lags/BAM - BANCO AGROMERCANTIL (UT)_GUATEMALA/predicciones_test_7dBAM - BANCO AGROMERCANTIL (UT)_GUATEMALA.xlsx', 'LastModified': datetime.datetime(2024, 3, 14, 18, 5, 9, tzinfo=tzlocal()), 'ETag': '\"74521fdef327e4200fa30dc7cc9f4418\"', 'Size': 15562, 'StorageClass': 'STANDARD'}]\n",
      "[{'Key': 'ABTv3/Last_releases_7d_8lags/BANCO AGRICOLA_EL SALVADOR/predicciones_test_7dBANCO AGRICOLA_EL SALVADOR.xlsx', 'LastModified': datetime.datetime(2024, 3, 14, 12, 41, 56, tzinfo=tzlocal()), 'ETag': '\"254dcd2a19fc4a771ed2fbd69a209470\"', 'Size': 15862, 'StorageClass': 'STANDARD'}]\n",
      "[{'Key': 'ABTv3/Last_releases_7d_8lags/BANCO ATLANTIDA_HONDURAS/predicciones_test_7dBANCO ATLANTIDA_HONDURAS.xlsx', 'LastModified': datetime.datetime(2024, 3, 13, 12, 55, 59, tzinfo=tzlocal()), 'ETag': '\"45526489fd4379398b2e78bc0b5ecc14\"', 'Size': 16186, 'StorageClass': 'STANDARD'}]\n",
      "[{'Key': 'ABTv3/Last_releases_7d_8lags/BANCO BHD LEON_DOMINICAN REPUBLIC/predicciones_test_7dBANCO BHD LEON_DOMINICAN REPUBLIC.xlsx', 'LastModified': datetime.datetime(2024, 3, 14, 15, 33, 56, tzinfo=tzlocal()), 'ETag': '\"8097085ca9d7f388d7dc3fa1715ed5b2\"', 'Size': 15963, 'StorageClass': 'STANDARD'}]\n",
      "[{'Key': 'ABTv3/Last_releases_7d_8lags/BANCO BISA_BOLIVIA/predicciones_test_7dBANCO BISA_BOLIVIA.xlsx', 'LastModified': datetime.datetime(2024, 3, 14, 16, 48, 53, tzinfo=tzlocal()), 'ETag': '\"6503be1021cd51324e477e908eef5029\"', 'Size': 15376, 'StorageClass': 'STANDARD'}]\n",
      "[{'Key': 'ABTv3/Last_releases_7d_8lags/BANCO DAVIVIENDA SALVADORENO (BTS)_EL SALVADOR/predicciones_test_7dBANCO DAVIVIENDA SALVADORENO (BTS)_EL SALVADOR.xlsx', 'LastModified': datetime.datetime(2024, 3, 14, 15, 26, 2, tzinfo=tzlocal()), 'ETag': '\"f6f2f3e9235b6af4d27263e0a0763ce3\"', 'Size': 15580, 'StorageClass': 'STANDARD'}]\n",
      "[{'Key': 'ABTv3/Last_releases_7d_8lags/BANCO DAYCOVAL_BRAZIL/predicciones_test_7dBANCO DAYCOVAL_BRAZIL.xlsx', 'LastModified': datetime.datetime(2024, 3, 14, 1, 16, 42, tzinfo=tzlocal()), 'ETag': '\"be41c9dda26fdbcd10a877b44f20986f\"', 'Size': 16056, 'StorageClass': 'STANDARD'}]\n",
      "[{'Key': 'ABTv3/Last_releases_7d_8lags/BANCO DE CREDITO DEL PERU - BCP (UT)_PERU/predicciones_test_7dBANCO DE CREDITO DEL PERU - BCP (UT)_PERU.xlsx', 'LastModified': datetime.datetime(2024, 3, 14, 13, 19, 43, tzinfo=tzlocal()), 'ETag': '\"da9a3be83354b395dfa8dfa4b316f3bd\"', 'Size': 15953, 'StorageClass': 'STANDARD'}]\n",
      "[{'Key': 'ABTv3/Last_releases_7d_8lags/BANCO DE GUAYAQUIL_ECUADOR/predicciones_test_7dBANCO DE GUAYAQUIL_ECUADOR.xlsx', 'LastModified': datetime.datetime(2024, 3, 14, 15, 57, 6, tzinfo=tzlocal()), 'ETag': '\"c9478f708d368ccbf9121d8377e38141\"', 'Size': 15955, 'StorageClass': 'STANDARD'}]\n",
      "[{'Key': 'ABTv3/Last_releases_7d_8lags/BANCO DE OCCIDENTE_HONDURAS/predicciones_test_7dBANCO DE OCCIDENTE_HONDURAS.xlsx', 'LastModified': datetime.datetime(2024, 3, 12, 21, 57, 59, tzinfo=tzlocal()), 'ETag': '\"4394ccd5095e4a2b5cb95f984a7be956\"', 'Size': 16129, 'StorageClass': 'STANDARD'}]\n",
      "[{'Key': 'ABTv3/Last_releases_7d_8lags/BANCO DE ORO (BDO)_PHILIPPINES/predicciones_test_7dBANCO DE ORO (BDO)_PHILIPPINES.xlsx', 'LastModified': datetime.datetime(2024, 3, 13, 12, 49, 1, tzinfo=tzlocal()), 'ETag': '\"46277ff05e9c4ae2dd90bb07191f163e\"', 'Size': 16090, 'StorageClass': 'STANDARD'}]\n",
      "[{'Key': 'ABTv3/Last_releases_7d_8lags/BANCO DEL AUSTRO_ECUADOR/predicciones_test_7dBANCO DEL AUSTRO_ECUADOR.xlsx', 'LastModified': datetime.datetime(2024, 3, 14, 12, 58, 50, tzinfo=tzlocal()), 'ETag': '\"5b8439358b19aaec97c6c4a33d0a0ee3\"', 'Size': 16018, 'StorageClass': 'STANDARD'}]\n",
      "[{'Key': 'ABTv3/Last_releases_7d_8lags/BANCO GANADERO (BOLIVIA)_BOLIVIA/predicciones_test_7dBANCO GANADERO (BOLIVIA)_BOLIVIA.xlsx', 'LastModified': datetime.datetime(2024, 3, 16, 0, 44, 30, tzinfo=tzlocal()), 'ETag': '\"62afb0940342991a63f03acee497aeef\"', 'Size': 15833, 'StorageClass': 'STANDARD'}]\n",
      "[{'Key': 'ABTv3/Last_releases_7d_8lags/BANCO INDUSTRIAL ELS (RED CHAPINA)_EL SALVADOR/predicciones_test_7dBANCO INDUSTRIAL ELS (RED CHAPINA)_EL SALVADOR.xlsx', 'LastModified': datetime.datetime(2024, 3, 15, 13, 23, 41, tzinfo=tzlocal()), 'ETag': '\"70da5299a83e6dd3059cdebed244a0de\"', 'Size': 10473, 'StorageClass': 'STANDARD'}]\n",
      "[{'Key': 'ABTv3/Last_releases_7d_8lags/BANCO INDUSTRIAL_GUATEMALA/predicciones_test_7dBANCO INDUSTRIAL_GUATEMALA.xlsx', 'LastModified': datetime.datetime(2024, 3, 12, 21, 10, 18, tzinfo=tzlocal()), 'ETag': '\"d0ad089e34a74968949c68b0a553cc5a\"', 'Size': 16236, 'StorageClass': 'STANDARD'}]\n",
      "[{'Key': 'ABTv3/Last_releases_7d_8lags/BANCO PICHINCHA (TN)_ECUADOR/predicciones_test_7dBANCO PICHINCHA (TN)_ECUADOR.xlsx', 'LastModified': datetime.datetime(2024, 3, 14, 16, 29, 22, tzinfo=tzlocal()), 'ETag': '\"89b6234738d8e4a10a8409d065a8ec4a\"', 'Size': 16048, 'StorageClass': 'STANDARD'}]\n",
      "[{'Key': 'ABTv3/Last_releases_7d_8lags/BANCO POPULAR HONDURAS (UT)_HONDURAS/predicciones_test_7dBANCO POPULAR HONDURAS (UT)_HONDURAS.xlsx', 'LastModified': datetime.datetime(2024, 3, 15, 4, 10, 37, tzinfo=tzlocal()), 'ETag': '\"3a890f7e65c910ce6f94c12bb430adc9\"', 'Size': 13454, 'StorageClass': 'STANDARD'}]\n",
      "[{'Key': 'ABTv3/Last_releases_7d_8lags/BANCO RENDIMENTO_BRAZIL/predicciones_test_7dBANCO RENDIMENTO_BRAZIL.xlsx', 'LastModified': datetime.datetime(2024, 3, 13, 13, 39, 22, tzinfo=tzlocal()), 'ETag': '\"b3f3aab809adb525995c532907b53d78\"', 'Size': 16065, 'StorageClass': 'STANDARD'}]\n",
      "[{'Key': 'ABTv3/Last_releases_7d_8lags/BANCOLOMBIA_COLOMBIA/predicciones_test_7dBANCOLOMBIA_COLOMBIA.xlsx', 'LastModified': datetime.datetime(2024, 3, 13, 14, 37, 42, tzinfo=tzlocal()), 'ETag': '\"00b2c6593116186df7f1a46014fea973\"', 'Size': 16157, 'StorageClass': 'STANDARD'}]\n",
      "[{'Key': 'ABTv3/Last_releases_7d_8lags/BANCOPPEL (APPRIZA)_MEXICO/predicciones_test_7dBANCOPPEL (APPRIZA)_MEXICO.xlsx', 'LastModified': datetime.datetime(2024, 3, 12, 20, 1, 56, tzinfo=tzlocal()), 'ETag': '\"e9914ecfdd27053b0775da051f6cd66b\"', 'Size': 16338, 'StorageClass': 'STANDARD'}]\n",
      "[{'Key': 'ABTv3/Last_releases_7d_8lags/BANHCAFE_HONDURAS/predicciones_test_7dBANHCAFE_HONDURAS.xlsx', 'LastModified': datetime.datetime(2024, 3, 16, 0, 50, 25, tzinfo=tzlocal()), 'ETag': '\"643e6b12af7c49ebeab0edda76ba8d01\"', 'Size': 15222, 'StorageClass': 'STANDARD'}]\n",
      "[{'Key': 'ABTv3/Last_releases_7d_8lags/BANK OF PHILIPPINE ISLANDS (BPI)_PHILIPPINES/predicciones_test_7dBANK OF PHILIPPINE ISLANDS (BPI)_PHILIPPINES.xlsx', 'LastModified': datetime.datetime(2024, 3, 16, 0, 29, 44, tzinfo=tzlocal()), 'ETag': '\"423001e6245abf215d1696bc4e9c52b8\"', 'Size': 10679, 'StorageClass': 'STANDARD'}]\n",
      "[{'Key': 'ABTv3/Last_releases_7d_8lags/BANORTE (UT)_MEXICO/predicciones_test_7dBANORTE (UT)_MEXICO.xlsx', 'LastModified': datetime.datetime(2024, 3, 12, 21, 41, 11, tzinfo=tzlocal()), 'ETag': '\"3e4d19d5ca7ccda6a2cf247c96a396b2\"', 'Size': 16127, 'StorageClass': 'STANDARD'}]\n",
      "[{'Key': 'ABTv3/Last_releases_7d_8lags/BANPAIS (RED CHAPINA)_HONDURAS/predicciones_test_7dBANPAIS (RED CHAPINA)_HONDURAS.xlsx', 'LastModified': datetime.datetime(2024, 3, 14, 15, 14, 11, tzinfo=tzlocal()), 'ETag': '\"effef8fd0d5107f10832c9d45e887b9d\"', 'Size': 15958, 'StorageClass': 'STANDARD'}]\n",
      "[{'Key': 'ABTv3/Last_releases_7d_8lags/BANPRO_NICARAGUA/predicciones_test_7dBANPRO_NICARAGUA.xlsx', 'LastModified': datetime.datetime(2024, 3, 13, 21, 23, 45, tzinfo=tzlocal()), 'ETag': '\"677d7d6ae8c89bb48f39c48cf4571904\"', 'Size': 16116, 'StorageClass': 'STANDARD'}]\n",
      "[{'Key': 'ABTv3/Last_releases_7d_8lags/BANRURAL (HONDURAS)_HONDURAS/predicciones_test_7dBANRURAL (HONDURAS)_HONDURAS.xlsx', 'LastModified': datetime.datetime(2024, 3, 16, 0, 9, 43, tzinfo=tzlocal()), 'ETag': '\"9a303a27bc769b94ba42fa996f46cdc0\"', 'Size': 16066, 'StorageClass': 'STANDARD'}]\n",
      "[{'Key': 'ABTv3/Last_releases_7d_8lags/BANRURAL (RYT)_GUATEMALA/predicciones_test_7dBANRURAL (RYT)_GUATEMALA.xlsx', 'LastModified': datetime.datetime(2024, 3, 12, 20, 30, 50, tzinfo=tzlocal()), 'ETag': '\"e339f9775ea1413749fadb794325a992\"', 'Size': 16292, 'StorageClass': 'STANDARD'}]\n",
      "[{'Key': 'ABTv3/Last_releases_7d_8lags/BANTRAB (UT)_GUATEMALA/predicciones_test_7dBANTRAB (UT)_GUATEMALA.xlsx', 'LastModified': datetime.datetime(2024, 3, 14, 16, 47, 52, tzinfo=tzlocal()), 'ETag': '\"57cccc053e5083410784648f7786bfab\"', 'Size': 15807, 'StorageClass': 'STANDARD'}]\n",
      "[{'Key': 'ABTv3/Last_releases_7d_8lags/BBVA - BANCOMER (BTS)_MEXICO/predicciones_test_7dBBVA - BANCOMER (BTS)_MEXICO.xlsx', 'LastModified': datetime.datetime(2024, 3, 12, 21, 23, 14, tzinfo=tzlocal()), 'ETag': '\"10a511e4f77f42189417a7395d48b9af\"', 'Size': 16096, 'StorageClass': 'STANDARD'}]\n",
      "[{'Key': 'ABTv3/Last_releases_7d_8lags/BNB_LIBERIA/predicciones_test_7dBNB_LIBERIA.xlsx', 'LastModified': datetime.datetime(2024, 3, 15, 20, 49, 29, tzinfo=tzlocal()), 'ETag': '\"0ab994839cd43ae82429cd863f7fcdef\"', 'Size': 8177, 'StorageClass': 'STANDARD'}]\n",
      "[{'Key': 'ABTv3/Last_releases_7d_8lags/BNB_SENEGAL/predicciones_test_7dBNB_SENEGAL.xlsx', 'LastModified': datetime.datetime(2024, 3, 15, 20, 52, 8, tzinfo=tzlocal()), 'ETag': '\"2797407b753d7918715c5109567c94f1\"', 'Size': 9468, 'StorageClass': 'STANDARD'}]\n",
      "[{'Key': 'ABTv3/Last_releases_7d_8lags/BNB_SIERRA LEONE/predicciones_test_7dBNB_SIERRA LEONE.xlsx', 'LastModified': datetime.datetime(2024, 3, 15, 20, 39, 38, tzinfo=tzlocal()), 'ETag': '\"3fb3df8bcfdbc13f2a9a3dad5fababaa\"', 'Size': 7284, 'StorageClass': 'STANDARD'}]\n",
      "[{'Key': 'ABTv3/Last_releases_7d_8lags/CAJA POPULAR MEXICANA (UT)_MEXICO/predicciones_test_7dCAJA POPULAR MEXICANA (UT)_MEXICO.xlsx', 'LastModified': datetime.datetime(2024, 3, 14, 13, 16, 19, tzinfo=tzlocal()), 'ETag': '\"fcd85d2c5c4f0f0cff8c07000e28d0cc\"', 'Size': 12816, 'StorageClass': 'STANDARD'}]\n",
      "[{'Key': 'ABTv3/Last_releases_7d_8lags/CARIBE EXPRESS_DOMINICAN REPUBLIC/predicciones_test_7dCARIBE EXPRESS_DOMINICAN REPUBLIC.xlsx', 'LastModified': datetime.datetime(2024, 3, 13, 13, 13, 48, tzinfo=tzlocal()), 'ETag': '\"2e821bfd422e15f1712157fa3b1a4164\"', 'Size': 16163, 'StorageClass': 'STANDARD'}]\n",
      "[{'Key': 'ABTv3/Last_releases_7d_8lags/CEBUANA LHUILLIER_PHILIPPINES/predicciones_test_7dCEBUANA LHUILLIER_PHILIPPINES.xlsx', 'LastModified': datetime.datetime(2024, 3, 14, 18, 14, 25, tzinfo=tzlocal()), 'ETag': '\"6a7b20010822243d23db0058d7e345c4\"', 'Size': 15501, 'StorageClass': 'STANDARD'}]\n",
      "[{'Key': 'ABTv3/Last_releases_7d_8lags/COOPERATIVA CACIL (UT)_HONDURAS/predicciones_test_7dCOOPERATIVA CACIL (UT)_HONDURAS.xlsx', 'LastModified': datetime.datetime(2024, 3, 14, 17, 4, 19, tzinfo=tzlocal()), 'ETag': '\"bd22c424f3624f9d062d63936c2147f7\"', 'Size': 15529, 'StorageClass': 'STANDARD'}]\n",
      "[{'Key': 'ABTv3/Last_releases_7d_8lags/COOPERATIVA FRONTERIZA (UT)_HONDURAS/predicciones_test_7dCOOPERATIVA FRONTERIZA (UT)_HONDURAS.xlsx', 'LastModified': datetime.datetime(2024, 3, 14, 16, 14, 1, tzinfo=tzlocal()), 'ETag': '\"d1c2be496cf33b0eed56ed71a1f20191\"', 'Size': 15580, 'StorageClass': 'STANDARD'}]\n",
      "[{'Key': 'ABTv3/Last_releases_7d_8lags/CREDOMATIC (BTS)_NICARAGUA/predicciones_test_7dCREDOMATIC (BTS)_NICARAGUA.xlsx', 'LastModified': datetime.datetime(2024, 3, 14, 16, 19, 39, tzinfo=tzlocal()), 'ETag': '\"92e9919cc9325eb8645b5a92f203e050\"', 'Size': 15571, 'StorageClass': 'STANDARD'}]\n",
      "[{'Key': 'ABTv3/Last_releases_7d_8lags/CREDOMATIC_EL SALVADOR/predicciones_test_7dCREDOMATIC_EL SALVADOR.xlsx', 'LastModified': datetime.datetime(2024, 3, 16, 0, 16, 59, tzinfo=tzlocal()), 'ETag': '\"6e80fb52015ce823415d1c7aed62a79f\"', 'Size': 15520, 'StorageClass': 'STANDARD'}]\n",
      "[{'Key': 'ABTv3/Last_releases_7d_8lags/CUSCA (CITI - RECIBA NETWORKS)_EL SALVADOR/predicciones_test_7dCUSCA (CITI - RECIBA NETWORKS)_EL SALVADOR.xlsx', 'LastModified': datetime.datetime(2024, 3, 13, 14, 56, 21, tzinfo=tzlocal()), 'ETag': '\"ec44d9fb34f319ee170a3f3060ed9237\"', 'Size': 15762, 'StorageClass': 'STANDARD'}]\n",
      "[{'Key': 'ABTv3/Last_releases_7d_8lags/DAVIVIENDA - HONDURAS (BTS)_HONDURAS/predicciones_test_7dDAVIVIENDA - HONDURAS (BTS)_HONDURAS.xlsx', 'LastModified': datetime.datetime(2024, 3, 14, 18, 25, 32, tzinfo=tzlocal()), 'ETag': '\"1c3ddbe1e36621b5f1e9f582ef84573d\"', 'Size': 15425, 'StorageClass': 'STANDARD'}]\n",
      "[{'Key': 'ABTv3/Last_releases_7d_8lags/DAVIVIENDA_COLOMBIA/predicciones_test_7dDAVIVIENDA_COLOMBIA.xlsx', 'LastModified': datetime.datetime(2024, 3, 14, 13, 1, 36, tzinfo=tzlocal()), 'ETag': '\"10b7fdf1d6a2cce885389148f39807ac\"', 'Size': 16075, 'StorageClass': 'STANDARD'}]\n",
      "[{'Key': 'ABTv3/Last_releases_7d_8lags/DEPOSITOS BANCARIOS GUATEMALA - ACH_GUATEMALA/predicciones_test_7dDEPOSITOS BANCARIOS GUATEMALA - ACH_GUATEMALA.xlsx', 'LastModified': datetime.datetime(2024, 3, 16, 1, 4, 10, tzinfo=tzlocal()), 'ETag': '\"0461911060d23f3b7c2a7d16b4ed3e35\"', 'Size': 10372, 'StorageClass': 'STANDARD'}]\n",
      "[{'Key': 'ABTv3/Last_releases_7d_8lags/EASY PAGOS_ECUADOR/predicciones_test_7dEASY PAGOS_ECUADOR.xlsx', 'LastModified': datetime.datetime(2024, 3, 14, 13, 18, 4, tzinfo=tzlocal()), 'ETag': '\"8e07467933ff5bf3c0fc39b74bc915bb\"', 'Size': 15933, 'StorageClass': 'STANDARD'}]\n",
      "[{'Key': 'ABTv3/Last_releases_7d_8lags/ECUAGIROS_ECUADOR/predicciones_test_7dECUAGIROS_ECUADOR.xlsx', 'LastModified': datetime.datetime(2024, 3, 14, 13, 14, 37, tzinfo=tzlocal()), 'ETag': '\"4432b7f7b3ea30b156efcde2349dd9b4\"', 'Size': 16000, 'StorageClass': 'STANDARD'}]\n",
      "[{'Key': 'ABTv3/Last_releases_7d_8lags/ELEKTRA (BTS)_GUATEMALA/predicciones_test_7dELEKTRA (BTS)_GUATEMALA.xlsx', 'LastModified': datetime.datetime(2024, 3, 14, 15, 20, 32, tzinfo=tzlocal()), 'ETag': '\"928c7ec95c46fd54f4b2cc3dd4e32f8e\"', 'Size': 16012, 'StorageClass': 'STANDARD'}]\n",
      "[{'Key': 'ABTv3/Last_releases_7d_8lags/ELEKTRA (BTS)_HONDURAS/predicciones_test_7dELEKTRA (BTS)_HONDURAS.xlsx', 'LastModified': datetime.datetime(2024, 3, 13, 14, 7, 30, tzinfo=tzlocal()), 'ETag': '\"d9b573644db74714231493ecfa97dbcd\"', 'Size': 16094, 'StorageClass': 'STANDARD'}]\n",
      "[{'Key': 'ABTv3/Last_releases_7d_8lags/ELEKTRA (MEXICO)_MEXICO/predicciones_test_7dELEKTRA (MEXICO)_MEXICO.xlsx', 'LastModified': datetime.datetime(2024, 3, 12, 19, 48, 39, tzinfo=tzlocal()), 'ETag': '\"bdbac50add75b08686d3234a126252c9\"', 'Size': 16297, 'StorageClass': 'STANDARD'}]\n",
      "[{'Key': 'ABTv3/Last_releases_7d_8lags/EMPENOS DEL SUR (ANTERIOR BALSAS)_MEXICO/predicciones_test_7dEMPENOS DEL SUR (ANTERIOR BALSAS)_MEXICO.xlsx', 'LastModified': datetime.datetime(2024, 3, 14, 15, 35, 2, tzinfo=tzlocal()), 'ETag': '\"a8d3c72f6c8e80cb0d374d9aceae1f9d\"', 'Size': 15754, 'StorageClass': 'STANDARD'}]\n",
      "[{'Key': 'ABTv3/Last_releases_7d_8lags/ENVICON (ANTERIORMENTE ENVIOS CONFIANZA)_MEXICO/predicciones_test_7dENVICON (ANTERIORMENTE ENVIOS CONFIANZA)_MEXICO.xlsx', 'LastModified': datetime.datetime(2024, 3, 15, 4, 0, 58, tzinfo=tzlocal()), 'ETag': '\"b978961a1de2736b05d50bb56b53cd56\"', 'Size': 15439, 'StorageClass': 'STANDARD'}]\n",
      "[{'Key': 'ABTv3/Last_releases_7d_8lags/ENVIOS CON CLABE (APPRIZA)_MEXICO/predicciones_test_7dENVIOS CON CLABE (APPRIZA)_MEXICO.xlsx', 'LastModified': datetime.datetime(2024, 3, 12, 21, 29, 43, tzinfo=tzlocal()), 'ETag': '\"b87ad884ab4cb7b3eebfc5b09591f67e\"', 'Size': 16146, 'StorageClass': 'STANDARD'}]\n",
      "[{'Key': 'ABTv3/Last_releases_7d_8lags/FARMACIAS DEL AHORRO (DATRANSFER)_MEXICO/predicciones_test_7dFARMACIAS DEL AHORRO (DATRANSFER)_MEXICO.xlsx', 'LastModified': datetime.datetime(2024, 3, 15, 13, 3, 36, tzinfo=tzlocal()), 'ETag': '\"8cc27150add604bc43f814b4677f61e1\"', 'Size': 13497, 'StorageClass': 'STANDARD'}]\n",
      "[{'Key': 'ABTv3/Last_releases_7d_8lags/FARMACIAS GUADALAJARA (UT)_MEXICO/predicciones_test_7dFARMACIAS GUADALAJARA (UT)_MEXICO.xlsx', 'LastModified': datetime.datetime(2024, 3, 14, 13, 8, 40, tzinfo=tzlocal()), 'ETag': '\"6543f2706c89d0f77b4e04317b29c8ea\"', 'Size': 15975, 'StorageClass': 'STANDARD'}]\n",
      "[{'Key': 'ABTv3/Last_releases_7d_8lags/FEDECACES (EL SALVADOR)_EL SALVADOR/predicciones_test_7dFEDECACES (EL SALVADOR)_EL SALVADOR.xlsx', 'LastModified': datetime.datetime(2024, 3, 14, 1, 12, 9, tzinfo=tzlocal()), 'ETag': '\"474ce7991ecac0dc9661f0cc1b31df1b\"', 'Size': 15646, 'StorageClass': 'STANDARD'}]\n",
      "[{'Key': 'ABTv3/Last_releases_7d_8lags/FEDECREDITO (RYT)_EL SALVADOR/predicciones_test_7dFEDECREDITO (RYT)_EL SALVADOR.xlsx', 'LastModified': datetime.datetime(2024, 3, 13, 13, 51, 1, tzinfo=tzlocal()), 'ETag': '\"6508a7308be10c017dabd7d52016f911\"', 'Size': 15844, 'StorageClass': 'STANDARD'}]\n",
      "[{'Key': 'ABTv3/Last_releases_7d_8lags/FICOHSA_HONDURAS/predicciones_test_7dFICOHSA_HONDURAS.xlsx', 'LastModified': datetime.datetime(2024, 3, 14, 13, 3, 41, tzinfo=tzlocal()), 'ETag': '\"40dcad429377d6af067483bec0e23b90\"', 'Size': 15989, 'StorageClass': 'STANDARD'}]\n",
      "[{'Key': 'ABTv3/Last_releases_7d_8lags/G Y T CONTINENTAL_GUATEMALA/predicciones_test_7dG Y T CONTINENTAL_GUATEMALA.xlsx', 'LastModified': datetime.datetime(2024, 3, 13, 13, 2, 7, tzinfo=tzlocal()), 'ETag': '\"a15e63fb12e45614fd5e823e415d357f\"', 'Size': 16149, 'StorageClass': 'STANDARD'}]\n",
      "[{'Key': 'ABTv3/Last_releases_7d_8lags/GIROSMEX_MEXICO/predicciones_test_7dGIROSMEX_MEXICO.xlsx', 'LastModified': datetime.datetime(2024, 3, 14, 16, 44, 52, tzinfo=tzlocal()), 'ETag': '\"9697631ea7b8c6148199fad6c51a8b2d\"', 'Size': 13198, 'StorageClass': 'STANDARD'}]\n",
      "[{'Key': 'ABTv3/Last_releases_7d_8lags/GLOBAL ENVIOS_ECUADOR/predicciones_test_7dGLOBAL ENVIOS_ECUADOR.xlsx', 'LastModified': datetime.datetime(2024, 3, 14, 15, 58, 37, tzinfo=tzlocal()), 'ETag': '\"960b917fe5b07ea96b2fedc62977f754\"', 'Size': 15532, 'StorageClass': 'STANDARD'}]\n",
      "[{'Key': 'ABTv3/Last_releases_7d_8lags/GME_NEPAL/predicciones_test_7dGME_NEPAL.xlsx', 'LastModified': datetime.datetime(2024, 3, 15, 4, 7, 36, tzinfo=tzlocal()), 'ETag': '\"3c385790d5458bdef7711a41fa1c3e67\"', 'Size': 15066, 'StorageClass': 'STANDARD'}]\n",
      "[{'Key': 'ABTv3/Last_releases_7d_8lags/GRUPO EXITO (TN)_COLOMBIA/predicciones_test_7dGRUPO EXITO (TN)_COLOMBIA.xlsx', 'LastModified': datetime.datetime(2024, 3, 14, 15, 12, 16, tzinfo=tzlocal()), 'ETag': '\"c0a79051822c686a107a4bcca99dd3a6\"', 'Size': 15976, 'StorageClass': 'STANDARD'}]\n",
      "[{'Key': 'ABTv3/Last_releases_7d_8lags/INTERBANK_PERU/predicciones_test_7dINTERBANK_PERU.xlsx', 'LastModified': datetime.datetime(2024, 3, 14, 16, 47, 3, tzinfo=tzlocal()), 'ETag': '\"73cf00dc84cbcac49c0a7f0e70d66253\"', 'Size': 15403, 'StorageClass': 'STANDARD'}]\n",
      "[{'Key': 'ABTv3/Last_releases_7d_8lags/INTERMEX_MEXICO/predicciones_test_7dINTERMEX_MEXICO.xlsx', 'LastModified': datetime.datetime(2024, 3, 13, 14, 0, 40, tzinfo=tzlocal()), 'ETag': '\"4b4d85860e21a5eeb567d3184883120b\"', 'Size': 16111, 'StorageClass': 'STANDARD'}]\n",
      "[{'Key': 'ABTv3/Last_releases_7d_8lags/JMMB_JAMAICA/predicciones_test_7dJMMB_JAMAICA.xlsx', 'LastModified': datetime.datetime(2024, 3, 15, 20, 46, 19, tzinfo=tzlocal()), 'ETag': '\"2a98441561c02a2a1db61376815146f5\"', 'Size': 8674, 'StorageClass': 'STANDARD'}]\n",
      "[{'Key': 'ABTv3/Last_releases_7d_8lags/KORI_BENIN/predicciones_test_7dKORI_BENIN.xlsx', 'LastModified': datetime.datetime(2024, 3, 15, 21, 10, 8, tzinfo=tzlocal()), 'ETag': '\"bb3df1437b56d9dfd108332d1e6ce389\"', 'Size': 8312, 'StorageClass': 'STANDARD'}]\n",
      "[{'Key': 'ABTv3/Last_releases_7d_8lags/KORI_BURKINA FASO/predicciones_test_7dKORI_BURKINA FASO.xlsx', 'LastModified': datetime.datetime(2024, 3, 15, 12, 29, 1, tzinfo=tzlocal()), 'ETag': '\"4aea7a1964e289c47738866b93c445c2\"', 'Size': 12064, 'StorageClass': 'STANDARD'}]\n",
      "[{'Key': 'ABTv3/Last_releases_7d_8lags/LAFISE_NICARAGUA/predicciones_test_7dLAFISE_NICARAGUA.xlsx', 'LastModified': datetime.datetime(2024, 3, 14, 15, 36, 20, tzinfo=tzlocal()), 'ETag': '\"a844b6102f79cd3456e99e9335c9463f\"', 'Size': 15696, 'StorageClass': 'STANDARD'}]\n",
      "[{'Key': 'ABTv3/Last_releases_7d_8lags/MASTERCARD ATM NETWORK_UNITED STATES/predicciones_test_7dMASTERCARD ATM NETWORK_UNITED STATES.xlsx', 'LastModified': datetime.datetime(2024, 3, 15, 4, 2, 39, tzinfo=tzlocal()), 'ETag': '\"10cd39d668050f04f2af07ed87f72bc0\"', 'Size': 15078, 'StorageClass': 'STANDARD'}]\n",
      "[{'Key': 'ABTv3/Last_releases_7d_8lags/MERCHANTRADE_BANGLADESH/predicciones_test_7dMERCHANTRADE_BANGLADESH.xlsx', 'LastModified': datetime.datetime(2024, 3, 15, 12, 45, 38, tzinfo=tzlocal()), 'ETag': '\"350c9ace6935e192424f5c1a35bc8a18\"', 'Size': 13646, 'StorageClass': 'STANDARD'}]\n",
      "[{'Key': 'ABTv3/Last_releases_7d_8lags/MERCHANTRADE_INDONESIA/predicciones_test_7dMERCHANTRADE_INDONESIA.xlsx', 'LastModified': datetime.datetime(2024, 3, 14, 17, 6, 36, tzinfo=tzlocal()), 'ETag': '\"29f8fccfafd272138b2f790775fd9c53\"', 'Size': 15539, 'StorageClass': 'STANDARD'}]\n",
      "[{'Key': 'ABTv3/Last_releases_7d_8lags/MERCHANTRADE_MALAYSIA/predicciones_test_7dMERCHANTRADE_MALAYSIA.xlsx', 'LastModified': datetime.datetime(2024, 3, 15, 13, 6, 2, tzinfo=tzlocal()), 'ETag': '\"71219c12b243b00dc30630527b08c4e2\"', 'Size': 9297, 'StorageClass': 'STANDARD'}]\n",
      "[{'Key': 'ABTv3/Last_releases_7d_8lags/MERCHANTRADE_NEPAL/predicciones_test_7dMERCHANTRADE_NEPAL.xlsx', 'LastModified': datetime.datetime(2024, 3, 15, 13, 38, 43, tzinfo=tzlocal()), 'ETag': '\"e9f9a34d38dd55461b6dc90803d5f0ca\"', 'Size': 11889, 'StorageClass': 'STANDARD'}]\n",
      "[{'Key': 'ABTv3/Last_releases_7d_8lags/MERCHANTRADE_THAILAND/predicciones_test_7dMERCHANTRADE_THAILAND.xlsx', 'LastModified': datetime.datetime(2024, 3, 15, 12, 35, 40, tzinfo=tzlocal()), 'ETag': '\"d045d59f72974016c7cb8b9c7ac3861e\"', 'Size': 11876, 'StorageClass': 'STANDARD'}]\n",
      "[{'Key': 'ABTv3/Last_releases_7d_8lags/METROBANK_PHILIPPINES/predicciones_test_7dMETROBANK_PHILIPPINES.xlsx', 'LastModified': datetime.datetime(2024, 3, 13, 21, 4, 33, tzinfo=tzlocal()), 'ETag': '\"3743c7f30b73b4a9fb535d9bc13f8f76\"', 'Size': 16106, 'StorageClass': 'STANDARD'}]\n",
      "[{'Key': 'ABTv3/Last_releases_7d_8lags/MICOOPE-FENACOAC (RED CHAPINA)_GUATEMALA/predicciones_test_7dMICOOPE-FENACOAC (RED CHAPINA)_GUATEMALA.xlsx', 'LastModified': datetime.datetime(2024, 3, 14, 12, 56, 28, tzinfo=tzlocal()), 'ETag': '\"032037cc8954fdb99e0066d2161ab256\"', 'Size': 15963, 'StorageClass': 'STANDARD'}]\n",
      "[{'Key': 'ABTv3/Last_releases_7d_8lags/MSBB MONEY_BRAZIL/predicciones_test_7dMSBB MONEY_BRAZIL.xlsx', 'LastModified': datetime.datetime(2024, 3, 14, 1, 9, 17, tzinfo=tzlocal()), 'ETag': '\"00eb470957a752d99315d4732de70178\"', 'Size': 16100, 'StorageClass': 'STANDARD'}]\n",
      "[{'Key': 'ABTv3/Last_releases_7d_8lags/MUTHOOT-BANGLADESH_BANGLADESH/predicciones_test_7dMUTHOOT-BANGLADESH_BANGLADESH.xlsx', 'LastModified': datetime.datetime(2024, 3, 16, 0, 53, 37, tzinfo=tzlocal()), 'ETag': '\"f7a489a798dc8d1cd1d9a625d71c7943\"', 'Size': 9464, 'StorageClass': 'STANDARD'}]\n",
      "[{'Key': 'ABTv3/Last_releases_7d_8lags/MUTHOOT_INDIA/predicciones_test_7dMUTHOOT_INDIA.xlsx', 'LastModified': datetime.datetime(2024, 3, 15, 21, 20, 29, tzinfo=tzlocal()), 'ETag': '\"994f63f573850c7f9a9d26672ac4030e\"', 'Size': 8342, 'StorageClass': 'STANDARD'}]\n",
      "[{'Key': 'ABTv3/Last_releases_7d_8lags/NAFA_BURKINA FASO/predicciones_test_7dNAFA_BURKINA FASO.xlsx', 'LastModified': datetime.datetime(2024, 3, 15, 12, 55, 16, tzinfo=tzlocal()), 'ETag': '\"cd50a32ae0ce1e9f5851563115338bab\"', 'Size': 14254, 'StorageClass': 'STANDARD'}]\n",
      "[{'Key': \"ABTv3/Last_releases_7d_8lags/NAFA_COTE D'IVOIRE (IVORY COAST)/predicciones_test_7dNAFA_COTE D'IVOIRE (IVORY COAST).xlsx\", 'LastModified': datetime.datetime(2024, 3, 15, 13, 9, 38, tzinfo=tzlocal()), 'ETag': '\"4247b244f71527c7c16ff9853a040bf3\"', 'Size': 14495, 'StorageClass': 'STANDARD'}]\n",
      "[{'Key': 'ABTv3/Last_releases_7d_8lags/NAFA_GAMBIA, THE/predicciones_test_7dNAFA_GAMBIA, THE.xlsx', 'LastModified': datetime.datetime(2024, 3, 15, 4, 14, 7, tzinfo=tzlocal()), 'ETag': '\"808e27d95f8b72b9fe67074d5faa0a96\"', 'Size': 14337, 'StorageClass': 'STANDARD'}]\n",
      "[{'Key': 'ABTv3/Last_releases_7d_8lags/NAFA_GUINEA/predicciones_test_7dNAFA_GUINEA.xlsx', 'LastModified': datetime.datetime(2024, 3, 15, 4, 6, 58, tzinfo=tzlocal()), 'ETag': '\"cf083ff04d9b695dd08edda2e1224541\"', 'Size': 15363, 'StorageClass': 'STANDARD'}]\n",
      "[{'Key': 'ABTv3/Last_releases_7d_8lags/NAFA_LIBERIA/predicciones_test_7dNAFA_LIBERIA.xlsx', 'LastModified': datetime.datetime(2024, 3, 15, 13, 1, 29, tzinfo=tzlocal()), 'ETag': '\"48f6bfb125dc0b91bd45843fcf9f6e89\"', 'Size': 12929, 'StorageClass': 'STANDARD'}]\n",
      "[{'Key': 'ABTv3/Last_releases_7d_8lags/NAFA_MALI/predicciones_test_7dNAFA_MALI.xlsx', 'LastModified': datetime.datetime(2024, 3, 15, 13, 22, 50, tzinfo=tzlocal()), 'ETag': '\"5c7e1205782dc6367165d6bac5afb9b1\"', 'Size': 14791, 'StorageClass': 'STANDARD'}]\n",
      "[{'Key': 'ABTv3/Last_releases_7d_8lags/NAFA_SENEGAL/predicciones_test_7dNAFA_SENEGAL.xlsx', 'LastModified': datetime.datetime(2024, 3, 15, 12, 30, 7, tzinfo=tzlocal()), 'ETag': '\"f65cfb4fe7e773972d6e67544cbe18bf\"', 'Size': 15266, 'StorageClass': 'STANDARD'}]\n",
      "[{'Key': 'ABTv3/Last_releases_7d_8lags/NAFA_TOGO/predicciones_test_7dNAFA_TOGO.xlsx', 'LastModified': datetime.datetime(2024, 3, 15, 4, 12, 40, tzinfo=tzlocal()), 'ETag': '\"155fd3bb5b300c66f5f146e22d442bd2\"', 'Size': 14841, 'StorageClass': 'STANDARD'}]\n",
      "[{'Key': 'ABTv3/Last_releases_7d_8lags/NAIRAGRAM_NIGERIA/predicciones_test_7dNAIRAGRAM_NIGERIA.xlsx', 'LastModified': datetime.datetime(2024, 3, 14, 16, 51, 45, tzinfo=tzlocal()), 'ETag': '\"db3afa1eae9e057b4f10c32093d9d16a\"', 'Size': 16048, 'StorageClass': 'STANDARD'}]\n",
      "[{'Key': 'ABTv3/Last_releases_7d_8lags/OXXO (TN)_MEXICO/predicciones_test_7dOXXO (TN)_MEXICO.xlsx', 'LastModified': datetime.datetime(2024, 3, 14, 16, 7, 5, tzinfo=tzlocal()), 'ETag': '\"e27827e8bd28cb417c6916de0f224c88\"', 'Size': 15957, 'StorageClass': 'STANDARD'}]\n",
      "[{'Key': 'ABTv3/Last_releases_7d_8lags/PROMERICA (GUA)_GUATEMALA/predicciones_test_7dPROMERICA (GUA)_GUATEMALA.xlsx', 'LastModified': datetime.datetime(2024, 3, 14, 15, 28, 39, tzinfo=tzlocal()), 'ETag': '\"15d33870da374d9b785b12e1146e0626\"', 'Size': 15827, 'StorageClass': 'STANDARD'}]\n",
      "[{'Key': 'ABTv3/Last_releases_7d_8lags/PROMERICA_EL SALVADOR/predicciones_test_7dPROMERICA_EL SALVADOR.xlsx', 'LastModified': datetime.datetime(2024, 3, 16, 0, 25, 12, tzinfo=tzlocal()), 'ETag': '\"ce9c6466b7cc84ac9b4d84cfa3535267\"', 'Size': 15582, 'StorageClass': 'STANDARD'}]\n",
      "[{'Key': 'ABTv3/Last_releases_7d_8lags/SORIANA_MEXICO/predicciones_test_7dSORIANA_MEXICO.xlsx', 'LastModified': datetime.datetime(2024, 3, 14, 1, 10, 36, tzinfo=tzlocal()), 'ETag': '\"c2fb7cadbb2a42cb50336a0873684e76\"', 'Size': 15990, 'StorageClass': 'STANDARD'}]\n",
      "[{'Key': 'ABTv3/Last_releases_7d_8lags/SPEED MONEY_PHILIPPINES/predicciones_test_7dSPEED MONEY_PHILIPPINES.xlsx', 'LastModified': datetime.datetime(2024, 3, 14, 18, 3, 9, tzinfo=tzlocal()), 'ETag': '\"8fcaa0d17aa65468d5e070ae49c8dcde\"', 'Size': 15332, 'StorageClass': 'STANDARD'}]\n",
      "[{'Key': 'ABTv3/Last_releases_7d_8lags/TELECOMM TELEGRAFOS (APPRIZA)_MEXICO/predicciones_test_7dTELECOMM TELEGRAFOS (APPRIZA)_MEXICO.xlsx', 'LastModified': datetime.datetime(2024, 3, 13, 13, 6, 10, tzinfo=tzlocal()), 'ETag': '\"eb206258091d13353ece484808a9fcee\"', 'Size': 16173, 'StorageClass': 'STANDARD'}]\n",
      "[{'Key': 'ABTv3/Last_releases_7d_8lags/TELEDOLAR (TN)_COSTA RICA/predicciones_test_7dTELEDOLAR (TN)_COSTA RICA.xlsx', 'LastModified': datetime.datetime(2024, 3, 14, 15, 35, 15, tzinfo=tzlocal()), 'ETag': '\"7e325708525be2ad9c5284a88f02dde8\"', 'Size': 15941, 'StorageClass': 'STANDARD'}]\n",
      "[{'Key': 'ABTv3/Last_releases_7d_8lags/TELEDOLAR-NIC (TN)_NICARAGUA/predicciones_test_7dTELEDOLAR-NIC (TN)_NICARAGUA.xlsx', 'LastModified': datetime.datetime(2024, 3, 14, 16, 3, 2, tzinfo=tzlocal()), 'ETag': '\"8cd1094425bf2205567c795c345d6123\"', 'Size': 15683, 'StorageClass': 'STANDARD'}]\n",
      "[{'Key': 'ABTv3/Last_releases_7d_8lags/TRANSFER DIRECTO_MEXICO/predicciones_test_7dTRANSFER DIRECTO_MEXICO.xlsx', 'LastModified': datetime.datetime(2024, 3, 14, 16, 7, 51, tzinfo=tzlocal()), 'ETag': '\"cd32868876ca39c913768471916aad1a\"', 'Size': 16023, 'StorageClass': 'STANDARD'}]\n",
      "[{'Key': 'ABTv3/Last_releases_7d_8lags/TRANSFERTO - THUNES_BELGIUM/predicciones_test_7dTRANSFERTO - THUNES_BELGIUM.xlsx', 'LastModified': datetime.datetime(2024, 3, 15, 13, 0, 32, tzinfo=tzlocal()), 'ETag': '\"9f47176f8c22b438105c9a7d28b59f36\"', 'Size': 11861, 'StorageClass': 'STANDARD'}]\n",
      "[{'Key': 'ABTv3/Last_releases_7d_8lags/TRANSFERTO - THUNES_FRANCE/predicciones_test_7dTRANSFERTO - THUNES_FRANCE.xlsx', 'LastModified': datetime.datetime(2024, 3, 15, 13, 21, 11, tzinfo=tzlocal()), 'ETag': '\"6e42a68f6aa9c283db258330682ca597\"', 'Size': 12633, 'StorageClass': 'STANDARD'}]\n",
      "[{'Key': 'ABTv3/Last_releases_7d_8lags/TRANSFERTO - THUNES_GERMANY/predicciones_test_7dTRANSFERTO - THUNES_GERMANY.xlsx', 'LastModified': datetime.datetime(2024, 3, 15, 13, 5, 13, tzinfo=tzlocal()), 'ETag': '\"172290258f0708f3c6644bef0fc0fce9\"', 'Size': 13209, 'StorageClass': 'STANDARD'}]\n",
      "[{'Key': 'ABTv3/Last_releases_7d_8lags/TRANSFERTO - THUNES_GHANA/predicciones_test_7dTRANSFERTO - THUNES_GHANA.xlsx', 'LastModified': datetime.datetime(2024, 3, 15, 23, 55, 24, tzinfo=tzlocal()), 'ETag': '\"685ce664b29163e79b33872a00db0c9a\"', 'Size': 7338, 'StorageClass': 'STANDARD'}]\n",
      "[{'Key': 'ABTv3/Last_releases_7d_8lags/TRANSFERTO - THUNES_ITALY/predicciones_test_7dTRANSFERTO - THUNES_ITALY.xlsx', 'LastModified': datetime.datetime(2024, 3, 15, 12, 44, 48, tzinfo=tzlocal()), 'ETag': '\"2606add5675551aa2661c1401cd4f9db\"', 'Size': 13077, 'StorageClass': 'STANDARD'}]\n",
      "[{'Key': 'ABTv3/Last_releases_7d_8lags/TRANSFERTO - THUNES_NIGERIA/predicciones_test_7dTRANSFERTO - THUNES_NIGERIA.xlsx', 'LastModified': datetime.datetime(2024, 3, 15, 3, 56, 35, tzinfo=tzlocal()), 'ETag': '\"f85dd4baf97edfb2d9b8667611ec1937\"', 'Size': 14816, 'StorageClass': 'STANDARD'}]\n",
      "[{'Key': 'ABTv3/Last_releases_7d_8lags/TRANSFERTO - THUNES_PORTUGAL/predicciones_test_7dTRANSFERTO - THUNES_PORTUGAL.xlsx', 'LastModified': datetime.datetime(2024, 3, 15, 4, 13, 8, tzinfo=tzlocal()), 'ETag': '\"141367b1568a31acc4f860891202fbae\"', 'Size': 14881, 'StorageClass': 'STANDARD'}]\n",
      "[{'Key': 'ABTv3/Last_releases_7d_8lags/TRANSFERTO - THUNES_SPAIN/predicciones_test_7dTRANSFERTO - THUNES_SPAIN.xlsx', 'LastModified': datetime.datetime(2024, 3, 15, 3, 57, 54, tzinfo=tzlocal()), 'ETag': '\"fdbcd4fa21772403dbf49ca0d8ce797b\"', 'Size': 15822, 'StorageClass': 'STANDARD'}]\n",
      "[{'Key': 'ABTv3/Last_releases_7d_8lags/TRANSFERTO - THUNES_UNITED KINGDOM/predicciones_test_7dTRANSFERTO - THUNES_UNITED KINGDOM.xlsx', 'LastModified': datetime.datetime(2024, 3, 15, 12, 54, 2, tzinfo=tzlocal()), 'ETag': '\"a4d06273a28ad5e0b88a34f90c1ffb1e\"', 'Size': 12640, 'StorageClass': 'STANDARD'}]\n",
      "[{'Key': 'ABTv3/Last_releases_7d_8lags/TRANSPAY_BANGLADESH/predicciones_test_7dTRANSPAY_BANGLADESH.xlsx', 'LastModified': datetime.datetime(2024, 3, 15, 4, 21, 54, tzinfo=tzlocal()), 'ETag': '\"a1c83875048f1fbad877110e4662e60d\"', 'Size': 10788, 'StorageClass': 'STANDARD'}]\n",
      "[{'Key': 'ABTv3/Last_releases_7d_8lags/TRANSPAY_BENIN/predicciones_test_7dTRANSPAY_BENIN.xlsx', 'LastModified': datetime.datetime(2024, 3, 15, 13, 19, 16, tzinfo=tzlocal()), 'ETag': '\"7f8e2de3c408c983dfe461c2c9c1c77b\"', 'Size': 11833, 'StorageClass': 'STANDARD'}]\n",
      "[{'Key': 'ABTv3/Last_releases_7d_8lags/TRANSPAY_CAMEROON/predicciones_test_7dTRANSPAY_CAMEROON.xlsx', 'LastModified': datetime.datetime(2024, 3, 15, 12, 57, tzinfo=tzlocal()), 'ETag': '\"156bd4fe81b2eb695f7e182910507d14\"', 'Size': 11903, 'StorageClass': 'STANDARD'}]\n",
      "[{'Key': 'ABTv3/Last_releases_7d_8lags/TRANSPAY_INDONESIA/predicciones_test_7dTRANSPAY_INDONESIA.xlsx', 'LastModified': datetime.datetime(2024, 3, 15, 12, 39, 12, tzinfo=tzlocal()), 'ETag': '\"d0f144c9f50458363474c1e3e0f1a561\"', 'Size': 13372, 'StorageClass': 'STANDARD'}]\n",
      "[{'Key': 'ABTv3/Last_releases_7d_8lags/TRANSPAY_SENEGAL/predicciones_test_7dTRANSPAY_SENEGAL.xlsx', 'LastModified': datetime.datetime(2024, 3, 15, 13, 21, 45, tzinfo=tzlocal()), 'ETag': '\"09424b90ae55ed9605c9e885a73f934a\"', 'Size': 9190, 'StorageClass': 'STANDARD'}]\n",
      "[{'Key': 'ABTv3/Last_releases_7d_8lags/TRANSPAY_TOGO/predicciones_test_7dTRANSPAY_TOGO.xlsx', 'LastModified': datetime.datetime(2024, 3, 15, 12, 56, 3, tzinfo=tzlocal()), 'ETag': '\"066102e0890cafa26147d428a624df35\"', 'Size': 10101, 'StorageClass': 'STANDARD'}]\n",
      "[{'Key': 'ABTv3/Last_releases_7d_8lags/UNITRANSFER_HAITI/predicciones_test_7dUNITRANSFER_HAITI.xlsx', 'LastModified': datetime.datetime(2024, 3, 14, 16, 10, 18, tzinfo=tzlocal()), 'ETag': '\"216a9f73edfa4cd2ea506e11051a70db\"', 'Size': 15933, 'StorageClass': 'STANDARD'}]\n",
      "[{'Key': 'ABTv3/Last_releases_7d_8lags/VIAMERICAS USA DEPOSITS (RT)_UNITED STATES/predicciones_test_7dVIAMERICAS USA DEPOSITS (RT)_UNITED STATES.xlsx', 'LastModified': datetime.datetime(2024, 3, 15, 23, 58, 29, tzinfo=tzlocal()), 'ETag': '\"bc936eda2daa8a6950af7d0912266c75\"', 'Size': 6297, 'StorageClass': 'STANDARD'}]\n",
      "[{'Key': 'ABTv3/Last_releases_7d_8lags/VIAMERICAS USA DEPOSITS_UNITED STATES/predicciones_test_7dVIAMERICAS USA DEPOSITS_UNITED STATES.xlsx', 'LastModified': datetime.datetime(2024, 3, 14, 13, 10, 7, tzinfo=tzlocal()), 'ETag': '\"9d7224f091a06aa5adb7e8d94b21a24a\"', 'Size': 15983, 'StorageClass': 'STANDARD'}]\n",
      "[{'Key': 'ABTv3/Last_releases_7d_8lags/VTN_NIGERIA/predicciones_test_7dVTN_NIGERIA.xlsx', 'LastModified': datetime.datetime(2024, 3, 15, 4, 19, 26, tzinfo=tzlocal()), 'ETag': '\"a33df09d5f07d67663a2531f39c83cd7\"', 'Size': 11890, 'StorageClass': 'STANDARD'}]\n",
      "[{'Key': 'ABTv3/Last_releases_7d_8lags/WALDOS (APPRIZA)_MEXICO/predicciones_test_7dWALDOS (APPRIZA)_MEXICO.xlsx', 'LastModified': datetime.datetime(2024, 3, 14, 18, 11, 28, tzinfo=tzlocal()), 'ETag': '\"5670397c9e6f160304a7630237f7027b\"', 'Size': 15698, 'StorageClass': 'STANDARD'}]\n",
      "[{'Key': 'ABTv3/Last_releases_7d_8lags/WALMART (UT)_MEXICO/predicciones_test_7dWALMART (UT)_MEXICO.xlsx', 'LastModified': datetime.datetime(2024, 3, 13, 14, 45, 34, tzinfo=tzlocal()), 'ETag': '\"77c73233add03bfac4dea12c51d9eb41\"', 'Size': 16133, 'StorageClass': 'STANDARD'}]\n",
      "[{'Key': 'ABTv3/Last_releases_7d_8lags/YES BANK_INDIA/predicciones_test_7dYES BANK_INDIA.xlsx', 'LastModified': datetime.datetime(2024, 3, 14, 17, 36, 34, tzinfo=tzlocal()), 'ETag': '\"e4f70b7368baca8f1240e5890c0098a3\"', 'Size': 15678, 'StorageClass': 'STANDARD'}]\n",
      "[{'Key': 'ABTv3/Last_releases_7d_8lags/ZEEPAY_CAMEROON/predicciones_test_7dZEEPAY_CAMEROON.xlsx', 'LastModified': datetime.datetime(2024, 3, 15, 12, 32, 14, tzinfo=tzlocal()), 'ETag': '\"d1cc7db22d8548a222f8e4772ebc7fbd\"', 'Size': 14218, 'StorageClass': 'STANDARD'}]\n",
      "[{'Key': \"ABTv3/Last_releases_7d_8lags/ZEEPAY_COTE D'IVOIRE (IVORY COAST)/predicciones_test_7dZEEPAY_COTE D'IVOIRE (IVORY COAST).xlsx\", 'LastModified': datetime.datetime(2024, 3, 15, 12, 34, 8, tzinfo=tzlocal()), 'ETag': '\"2b7504f554656247c19ddfd2fd1cbb33\"', 'Size': 12191, 'StorageClass': 'STANDARD'}]\n",
      "[{'Key': 'ABTv3/Last_releases_7d_8lags/ZEEPAY_GHANA/predicciones_test_7dZEEPAY_GHANA.xlsx', 'LastModified': datetime.datetime(2024, 3, 14, 16, 17, 44, tzinfo=tzlocal()), 'ETag': '\"d6bf09e8c60da715f4966aaf2aab5cbd\"', 'Size': 15708, 'StorageClass': 'STANDARD'}]\n"
     ]
    }
   ],
   "source": [
    "# Llamo funcion para leer xlsx y consolidar en un unico DF\n",
    "df = read_files(bucket_name, prefix_ABTv3)"
   ]
  },
  {
   "cell_type": "code",
   "execution_count": 33,
   "id": "9b9eecdb-4c35-44c2-a819-5013a2bed64b",
   "metadata": {
    "tags": []
   },
   "outputs": [
    {
     "data": {
      "text/plain": [
       "Timestamp('2023-12-18 00:00:00')"
      ]
     },
     "execution_count": 33,
     "metadata": {},
     "output_type": "execute_result"
    }
   ],
   "source": [
    "##Cortamos la base al 18/12/23##\n",
    "df=df.loc[df.date<='2023-12-18']\n",
    "df.date.max()"
   ]
  },
  {
   "cell_type": "code",
   "execution_count": 35,
   "id": "26905f80-3717-4865-a2b1-96abb3aa79c9",
   "metadata": {
    "tags": []
   },
   "outputs": [
    {
     "data": {
      "text/html": [
       "<div>\n",
       "<style scoped>\n",
       "    .dataframe tbody tr th:only-of-type {\n",
       "        vertical-align: middle;\n",
       "    }\n",
       "\n",
       "    .dataframe tbody tr th {\n",
       "        vertical-align: top;\n",
       "    }\n",
       "\n",
       "    .dataframe thead th {\n",
       "        text-align: right;\n",
       "    }\n",
       "</style>\n",
       "<table border=\"1\" class=\"dataframe\">\n",
       "  <thead>\n",
       "    <tr style=\"text-align: right;\">\n",
       "      <th></th>\n",
       "      <th>date</th>\n",
       "      <th>valor_real</th>\n",
       "      <th>valor_predicho</th>\n",
       "      <th>mape</th>\n",
       "      <th>error_abs</th>\n",
       "      <th>folder_name</th>\n",
       "    </tr>\n",
       "  </thead>\n",
       "  <tbody>\n",
       "    <tr>\n",
       "      <th>0</th>\n",
       "      <td>2023-06-22</td>\n",
       "      <td>40879.68</td>\n",
       "      <td>30687.138736</td>\n",
       "      <td>24.933026</td>\n",
       "      <td>10192.541264</td>\n",
       "      <td>24XORO_MEXICO</td>\n",
       "    </tr>\n",
       "    <tr>\n",
       "      <th>1</th>\n",
       "      <td>2023-06-23</td>\n",
       "      <td>45534.13</td>\n",
       "      <td>25007.221530</td>\n",
       "      <td>45.080269</td>\n",
       "      <td>20526.908470</td>\n",
       "      <td>24XORO_MEXICO</td>\n",
       "    </tr>\n",
       "    <tr>\n",
       "      <th>2</th>\n",
       "      <td>2023-06-24</td>\n",
       "      <td>36969.46</td>\n",
       "      <td>33851.723411</td>\n",
       "      <td>8.433276</td>\n",
       "      <td>3117.736589</td>\n",
       "      <td>24XORO_MEXICO</td>\n",
       "    </tr>\n",
       "  </tbody>\n",
       "</table>\n",
       "</div>"
      ],
      "text/plain": [
       "        date  valor_real  valor_predicho       mape     error_abs  \\\n",
       "0 2023-06-22    40879.68    30687.138736  24.933026  10192.541264   \n",
       "1 2023-06-23    45534.13    25007.221530  45.080269  20526.908470   \n",
       "2 2023-06-24    36969.46    33851.723411   8.433276   3117.736589   \n",
       "\n",
       "     folder_name  \n",
       "0  24XORO_MEXICO  \n",
       "1  24XORO_MEXICO  \n",
       "2  24XORO_MEXICO  "
      ]
     },
     "execution_count": 35,
     "metadata": {},
     "output_type": "execute_result"
    }
   ],
   "source": [
    "df.head(3)"
   ]
  },
  {
   "cell_type": "code",
   "execution_count": 100,
   "id": "10cf7b59-9d70-45af-970a-9ebf69f0f4e3",
   "metadata": {},
   "outputs": [],
   "source": [
    "#NECESITAMOS CALCULAR EL MAPE PROMEDIO DIARIO A DOS DIAS Y EL ERROR ABSOLUTO DIARIO A 2D##\n",
    "## POR PAYER Y POR COUNTRY##"
   ]
  },
  {
   "cell_type": "code",
   "execution_count": 101,
   "id": "47317c39-f97b-497b-9efb-da4c24bc7e52",
   "metadata": {},
   "outputs": [],
   "source": [
    "## SE CORRIGEN LOS VALORES PREDICHOS NEGATIVOS##"
   ]
  },
  {
   "cell_type": "code",
   "execution_count": 37,
   "id": "fc517edd-8ece-42e0-83f6-4016a0da396a",
   "metadata": {
    "tags": []
   },
   "outputs": [],
   "source": [
    "valor_a_reemplazar = 0\n",
    "df['valor_predicho'] = df['valor_predicho'].apply(lambda x: valor_a_reemplazar if x < 0 else x)"
   ]
  },
  {
   "cell_type": "code",
   "execution_count": 103,
   "id": "8c9848df-82df-4120-a32a-bb9c986d64d4",
   "metadata": {
    "tags": []
   },
   "outputs": [],
   "source": [
    "#df.to_excel('predicciones_all_payers_2d.xlsx')"
   ]
  },
  {
   "cell_type": "code",
   "execution_count": 38,
   "id": "4b778b61-e43a-4687-a500-772bd44d2f89",
   "metadata": {
    "tags": []
   },
   "outputs": [],
   "source": [
    "import numpy as np\n",
    "def mean_without_inf(x):\n",
    "    x_filtered = x.replace([np.inf, -np.inf], np.nan).dropna()\n",
    "    return np.mean(x_filtered)\n",
    "\n",
    "# Aplicar la función personalizada en el método agg\n",
    "df_ABTv3 = df.groupby('folder_name').agg({'mape': mean_without_inf, 'error_abs': 'mean', 'valor_real': 'sum'}).reset_index()\n"
   ]
  },
  {
   "cell_type": "code",
   "execution_count": 39,
   "id": "bb0fb1a3-85f5-4aeb-8a72-cb55c577704f",
   "metadata": {
    "tags": []
   },
   "outputs": [],
   "source": [
    "df_ABTv3.rename(columns={'folder_name': 'payer_country', 'mape': 'mape_v3', 'error_abs': 'error_abs_mean', 'valor_real': 'sum_amount'}, inplace=True)"
   ]
  },
  {
   "cell_type": "code",
   "execution_count": 40,
   "id": "793b6522-f123-42ef-8922-567561d76052",
   "metadata": {
    "tags": []
   },
   "outputs": [],
   "source": [
    "df_ABTv3=df_ABTv3.sort_values(by='mape_v3')"
   ]
  },
  {
   "cell_type": "code",
   "execution_count": 41,
   "id": "7009ccbc-8cbb-46e0-be69-e5f7753ee03a",
   "metadata": {},
   "outputs": [],
   "source": [
    "#df_ABTv3.to_excel('mapes_prom_diarios_f_8d_14_03_24.xlsx')"
   ]
  },
  {
   "cell_type": "code",
   "execution_count": 42,
   "id": "1d7a4659-1a54-4374-bd88-24a731538d7d",
   "metadata": {
    "tags": []
   },
   "outputs": [
    {
     "data": {
      "text/html": [
       "<div>\n",
       "<style scoped>\n",
       "    .dataframe tbody tr th:only-of-type {\n",
       "        vertical-align: middle;\n",
       "    }\n",
       "\n",
       "    .dataframe tbody tr th {\n",
       "        vertical-align: top;\n",
       "    }\n",
       "\n",
       "    .dataframe thead th {\n",
       "        text-align: right;\n",
       "    }\n",
       "</style>\n",
       "<table border=\"1\" class=\"dataframe\">\n",
       "  <thead>\n",
       "    <tr style=\"text-align: right;\">\n",
       "      <th></th>\n",
       "      <th>date</th>\n",
       "      <th>valor_real</th>\n",
       "      <th>valor_predicho</th>\n",
       "      <th>mape</th>\n",
       "      <th>error_abs</th>\n",
       "      <th>folder_name</th>\n",
       "    </tr>\n",
       "  </thead>\n",
       "  <tbody>\n",
       "    <tr>\n",
       "      <th>0</th>\n",
       "      <td>2023-06-22</td>\n",
       "      <td>40879.68</td>\n",
       "      <td>30687.138736</td>\n",
       "      <td>24.933026</td>\n",
       "      <td>10192.541264</td>\n",
       "      <td>24XORO_MEXICO</td>\n",
       "    </tr>\n",
       "    <tr>\n",
       "      <th>1</th>\n",
       "      <td>2023-06-23</td>\n",
       "      <td>45534.13</td>\n",
       "      <td>25007.221530</td>\n",
       "      <td>45.080269</td>\n",
       "      <td>20526.908470</td>\n",
       "      <td>24XORO_MEXICO</td>\n",
       "    </tr>\n",
       "    <tr>\n",
       "      <th>2</th>\n",
       "      <td>2023-06-24</td>\n",
       "      <td>36969.46</td>\n",
       "      <td>33851.723411</td>\n",
       "      <td>8.433276</td>\n",
       "      <td>3117.736589</td>\n",
       "      <td>24XORO_MEXICO</td>\n",
       "    </tr>\n",
       "  </tbody>\n",
       "</table>\n",
       "</div>"
      ],
      "text/plain": [
       "        date  valor_real  valor_predicho       mape     error_abs  \\\n",
       "0 2023-06-22    40879.68    30687.138736  24.933026  10192.541264   \n",
       "1 2023-06-23    45534.13    25007.221530  45.080269  20526.908470   \n",
       "2 2023-06-24    36969.46    33851.723411   8.433276   3117.736589   \n",
       "\n",
       "     folder_name  \n",
       "0  24XORO_MEXICO  \n",
       "1  24XORO_MEXICO  \n",
       "2  24XORO_MEXICO  "
      ]
     },
     "execution_count": 42,
     "metadata": {},
     "output_type": "execute_result"
    }
   ],
   "source": [
    "df.head(3)"
   ]
  },
  {
   "cell_type": "code",
   "execution_count": 120,
   "id": "9c925424-feb2-4058-a5b7-33d4a9de917a",
   "metadata": {
    "tags": []
   },
   "outputs": [],
   "source": []
  },
  {
   "cell_type": "code",
   "execution_count": null,
   "id": "e75948d6-ef2c-4946-8e3b-8f8348a79d72",
   "metadata": {
    "tags": []
   },
   "outputs": [],
   "source": []
  },
  {
   "cell_type": "markdown",
   "id": "a12b5580-0bd7-4963-92a2-739c0cb61d11",
   "metadata": {
    "tags": []
   },
   "source": [
    "#### By Country"
   ]
  },
  {
   "cell_type": "code",
   "execution_count": 43,
   "id": "c6861191-b6cd-48ea-afa4-242255321d8a",
   "metadata": {
    "tags": []
   },
   "outputs": [],
   "source": [
    "df['country'] = df['folder_name'].apply(lambda x: x.split('_')[-1])\n",
    "df['date']=pd.to_datetime(df['date'])\n",
    "df.reset_index(drop=True, inplace=True)"
   ]
  },
  {
   "cell_type": "code",
   "execution_count": 44,
   "id": "fee3f830-e011-4bf9-8d44-fa5c3e7aca35",
   "metadata": {
    "tags": []
   },
   "outputs": [
    {
     "data": {
      "text/html": [
       "<div>\n",
       "<style scoped>\n",
       "    .dataframe tbody tr th:only-of-type {\n",
       "        vertical-align: middle;\n",
       "    }\n",
       "\n",
       "    .dataframe tbody tr th {\n",
       "        vertical-align: top;\n",
       "    }\n",
       "\n",
       "    .dataframe thead th {\n",
       "        text-align: right;\n",
       "    }\n",
       "</style>\n",
       "<table border=\"1\" class=\"dataframe\">\n",
       "  <thead>\n",
       "    <tr style=\"text-align: right;\">\n",
       "      <th></th>\n",
       "      <th>date</th>\n",
       "      <th>valor_real</th>\n",
       "      <th>valor_predicho</th>\n",
       "      <th>mape</th>\n",
       "      <th>error_abs</th>\n",
       "      <th>folder_name</th>\n",
       "      <th>country</th>\n",
       "    </tr>\n",
       "  </thead>\n",
       "  <tbody>\n",
       "    <tr>\n",
       "      <th>0</th>\n",
       "      <td>2023-06-22</td>\n",
       "      <td>40879.68</td>\n",
       "      <td>30687.138736</td>\n",
       "      <td>24.933026</td>\n",
       "      <td>10192.541264</td>\n",
       "      <td>24XORO_MEXICO</td>\n",
       "      <td>MEXICO</td>\n",
       "    </tr>\n",
       "    <tr>\n",
       "      <th>1</th>\n",
       "      <td>2023-06-23</td>\n",
       "      <td>45534.13</td>\n",
       "      <td>25007.221530</td>\n",
       "      <td>45.080269</td>\n",
       "      <td>20526.908470</td>\n",
       "      <td>24XORO_MEXICO</td>\n",
       "      <td>MEXICO</td>\n",
       "    </tr>\n",
       "    <tr>\n",
       "      <th>2</th>\n",
       "      <td>2023-06-24</td>\n",
       "      <td>36969.46</td>\n",
       "      <td>33851.723411</td>\n",
       "      <td>8.433276</td>\n",
       "      <td>3117.736589</td>\n",
       "      <td>24XORO_MEXICO</td>\n",
       "      <td>MEXICO</td>\n",
       "    </tr>\n",
       "    <tr>\n",
       "      <th>3</th>\n",
       "      <td>2023-06-25</td>\n",
       "      <td>59696.11</td>\n",
       "      <td>59939.758076</td>\n",
       "      <td>0.408147</td>\n",
       "      <td>243.648076</td>\n",
       "      <td>24XORO_MEXICO</td>\n",
       "      <td>MEXICO</td>\n",
       "    </tr>\n",
       "    <tr>\n",
       "      <th>4</th>\n",
       "      <td>2023-06-26</td>\n",
       "      <td>36271.54</td>\n",
       "      <td>43805.782795</td>\n",
       "      <td>20.771775</td>\n",
       "      <td>7534.242795</td>\n",
       "      <td>24XORO_MEXICO</td>\n",
       "      <td>MEXICO</td>\n",
       "    </tr>\n",
       "  </tbody>\n",
       "</table>\n",
       "</div>"
      ],
      "text/plain": [
       "        date  valor_real  valor_predicho       mape     error_abs  \\\n",
       "0 2023-06-22    40879.68    30687.138736  24.933026  10192.541264   \n",
       "1 2023-06-23    45534.13    25007.221530  45.080269  20526.908470   \n",
       "2 2023-06-24    36969.46    33851.723411   8.433276   3117.736589   \n",
       "3 2023-06-25    59696.11    59939.758076   0.408147    243.648076   \n",
       "4 2023-06-26    36271.54    43805.782795  20.771775   7534.242795   \n",
       "\n",
       "     folder_name country  \n",
       "0  24XORO_MEXICO  MEXICO  \n",
       "1  24XORO_MEXICO  MEXICO  \n",
       "2  24XORO_MEXICO  MEXICO  \n",
       "3  24XORO_MEXICO  MEXICO  \n",
       "4  24XORO_MEXICO  MEXICO  "
      ]
     },
     "execution_count": 44,
     "metadata": {},
     "output_type": "execute_result"
    }
   ],
   "source": [
    "df.head()"
   ]
  },
  {
   "cell_type": "code",
   "execution_count": 45,
   "id": "886cecf0-9c61-47a6-91df-954071d9c4d6",
   "metadata": {
    "tags": []
   },
   "outputs": [],
   "source": [
    "df_country=df.groupby(['country','date']).agg({'valor_real': 'sum', 'valor_predicho': 'sum', 'valor_real': 'sum'}).reset_index()"
   ]
  },
  {
   "cell_type": "code",
   "execution_count": 46,
   "id": "7c011b97-2338-46fa-ad81-b41a6476304d",
   "metadata": {
    "tags": []
   },
   "outputs": [],
   "source": [
    "###DESVIO ABSOLUTO POR DIA##\n",
    "df_country['error_abs']= abs(df_country.valor_predicho - df_country.valor_real)\n",
    "\n",
    "###MAPE DIA COUNTRY##\n",
    "df_country['mape']= df_country.error_abs/df_country.valor_real"
   ]
  },
  {
   "cell_type": "code",
   "execution_count": 47,
   "id": "03aceed2-4e43-4edd-bac6-a586ae15bff6",
   "metadata": {
    "tags": []
   },
   "outputs": [],
   "source": [
    "promedio_mape_por_country = df_country.groupby('country').agg({'mape': mean_without_inf , 'error_abs': 'mean', 'valor_real': 'sum' }).reset_index()"
   ]
  },
  {
   "cell_type": "code",
   "execution_count": 48,
   "id": "186929c9-3204-45bd-ac58-38eaf49ea48a",
   "metadata": {
    "tags": []
   },
   "outputs": [],
   "source": [
    "promedio_mape_por_country.rename(columns={'valor_real': 'sum_amount'}, inplace=True)"
   ]
  },
  {
   "cell_type": "code",
   "execution_count": 49,
   "id": "d3324373-e445-44e2-9634-530593185a37",
   "metadata": {
    "tags": []
   },
   "outputs": [],
   "source": [
    "promedio_mape_por_country['mape']=promedio_mape_por_country.mape * 100"
   ]
  },
  {
   "cell_type": "code",
   "execution_count": 50,
   "id": "37baf5f8-48c8-4c88-a5cb-ab447e4f5e7c",
   "metadata": {
    "tags": []
   },
   "outputs": [
    {
     "data": {
      "text/html": [
       "<div>\n",
       "<style scoped>\n",
       "    .dataframe tbody tr th:only-of-type {\n",
       "        vertical-align: middle;\n",
       "    }\n",
       "\n",
       "    .dataframe tbody tr th {\n",
       "        vertical-align: top;\n",
       "    }\n",
       "\n",
       "    .dataframe thead th {\n",
       "        text-align: right;\n",
       "    }\n",
       "</style>\n",
       "<table border=\"1\" class=\"dataframe\">\n",
       "  <thead>\n",
       "    <tr style=\"text-align: right;\">\n",
       "      <th></th>\n",
       "      <th>country</th>\n",
       "      <th>mape</th>\n",
       "      <th>error_abs</th>\n",
       "      <th>sum_amount</th>\n",
       "    </tr>\n",
       "  </thead>\n",
       "  <tbody>\n",
       "    <tr>\n",
       "      <th>14</th>\n",
       "      <td>EL SALVADOR</td>\n",
       "      <td>6.397689</td>\n",
       "      <td>9.236748e+04</td>\n",
       "      <td>2.599624e+08</td>\n",
       "    </tr>\n",
       "    <tr>\n",
       "      <th>22</th>\n",
       "      <td>HONDURAS</td>\n",
       "      <td>7.433348</td>\n",
       "      <td>1.474736e+05</td>\n",
       "      <td>3.663244e+08</td>\n",
       "    </tr>\n",
       "    <tr>\n",
       "      <th>12</th>\n",
       "      <td>DOMINICAN REPUBLIC</td>\n",
       "      <td>8.097179</td>\n",
       "      <td>3.499074e+04</td>\n",
       "      <td>7.680630e+07</td>\n",
       "    </tr>\n",
       "    <tr>\n",
       "      <th>30</th>\n",
       "      <td>MEXICO</td>\n",
       "      <td>8.448203</td>\n",
       "      <td>1.478754e+06</td>\n",
       "      <td>3.367170e+09</td>\n",
       "    </tr>\n",
       "    <tr>\n",
       "      <th>19</th>\n",
       "      <td>GUATEMALA</td>\n",
       "      <td>8.489455</td>\n",
       "      <td>6.474563e+05</td>\n",
       "      <td>1.469487e+09</td>\n",
       "    </tr>\n",
       "    <tr>\n",
       "      <th>32</th>\n",
       "      <td>NICARAGUA</td>\n",
       "      <td>10.101570</td>\n",
       "      <td>7.054132e+04</td>\n",
       "      <td>1.346826e+08</td>\n",
       "    </tr>\n",
       "    <tr>\n",
       "      <th>13</th>\n",
       "      <td>ECUADOR</td>\n",
       "      <td>10.592713</td>\n",
       "      <td>5.799906e+04</td>\n",
       "      <td>9.895877e+07</td>\n",
       "    </tr>\n",
       "    <tr>\n",
       "      <th>34</th>\n",
       "      <td>PERU</td>\n",
       "      <td>12.238467</td>\n",
       "      <td>1.751295e+04</td>\n",
       "      <td>2.841291e+07</td>\n",
       "    </tr>\n",
       "    <tr>\n",
       "      <th>9</th>\n",
       "      <td>COLOMBIA</td>\n",
       "      <td>14.438955</td>\n",
       "      <td>9.425800e+04</td>\n",
       "      <td>1.325347e+08</td>\n",
       "    </tr>\n",
       "    <tr>\n",
       "      <th>35</th>\n",
       "      <td>PHILIPPINES</td>\n",
       "      <td>14.554763</td>\n",
       "      <td>9.760815e+04</td>\n",
       "      <td>1.362224e+08</td>\n",
       "    </tr>\n",
       "    <tr>\n",
       "      <th>21</th>\n",
       "      <td>HAITI</td>\n",
       "      <td>15.904545</td>\n",
       "      <td>6.702840e+03</td>\n",
       "      <td>8.560913e+06</td>\n",
       "    </tr>\n",
       "    <tr>\n",
       "      <th>43</th>\n",
       "      <td>UNITED STATES</td>\n",
       "      <td>16.303565</td>\n",
       "      <td>1.791425e+04</td>\n",
       "      <td>2.027008e+07</td>\n",
       "    </tr>\n",
       "    <tr>\n",
       "      <th>5</th>\n",
       "      <td>BRAZIL</td>\n",
       "      <td>17.154770</td>\n",
       "      <td>1.348214e+05</td>\n",
       "      <td>1.492763e+08</td>\n",
       "    </tr>\n",
       "    <tr>\n",
       "      <th>10</th>\n",
       "      <td>COSTA RICA</td>\n",
       "      <td>23.405292</td>\n",
       "      <td>2.661590e+04</td>\n",
       "      <td>2.227507e+07</td>\n",
       "    </tr>\n",
       "    <tr>\n",
       "      <th>4</th>\n",
       "      <td>BOLIVIA</td>\n",
       "      <td>32.673520</td>\n",
       "      <td>5.365077e+03</td>\n",
       "      <td>3.426753e+06</td>\n",
       "    </tr>\n",
       "    <tr>\n",
       "      <th>39</th>\n",
       "      <td>SPAIN</td>\n",
       "      <td>49.246809</td>\n",
       "      <td>1.903616e+03</td>\n",
       "      <td>9.414381e+05</td>\n",
       "    </tr>\n",
       "    <tr>\n",
       "      <th>8</th>\n",
       "      <td>CHILE</td>\n",
       "      <td>51.256825</td>\n",
       "      <td>1.835426e+03</td>\n",
       "      <td>8.557980e+05</td>\n",
       "    </tr>\n",
       "    <tr>\n",
       "      <th>33</th>\n",
       "      <td>NIGERIA</td>\n",
       "      <td>61.480241</td>\n",
       "      <td>1.214128e+04</td>\n",
       "      <td>9.987284e+06</td>\n",
       "    </tr>\n",
       "    <tr>\n",
       "      <th>40</th>\n",
       "      <td>THAILAND</td>\n",
       "      <td>76.902480</td>\n",
       "      <td>1.250689e+02</td>\n",
       "      <td>1.196774e+04</td>\n",
       "    </tr>\n",
       "    <tr>\n",
       "      <th>42</th>\n",
       "      <td>UNITED KINGDOM</td>\n",
       "      <td>77.552122</td>\n",
       "      <td>5.245866e+02</td>\n",
       "      <td>6.636566e+04</td>\n",
       "    </tr>\n",
       "    <tr>\n",
       "      <th>24</th>\n",
       "      <td>INDONESIA</td>\n",
       "      <td>77.934134</td>\n",
       "      <td>9.210492e+03</td>\n",
       "      <td>4.431383e+06</td>\n",
       "    </tr>\n",
       "    <tr>\n",
       "      <th>2</th>\n",
       "      <td>BELGIUM</td>\n",
       "      <td>81.329934</td>\n",
       "      <td>2.949113e+02</td>\n",
       "      <td>4.464125e+04</td>\n",
       "    </tr>\n",
       "    <tr>\n",
       "      <th>15</th>\n",
       "      <td>FRANCE</td>\n",
       "      <td>84.072271</td>\n",
       "      <td>2.066534e+02</td>\n",
       "      <td>2.960969e+04</td>\n",
       "    </tr>\n",
       "    <tr>\n",
       "      <th>28</th>\n",
       "      <td>MALAYSIA</td>\n",
       "      <td>87.037974</td>\n",
       "      <td>2.894348e+01</td>\n",
       "      <td>2.337000e+03</td>\n",
       "    </tr>\n",
       "    <tr>\n",
       "      <th>26</th>\n",
       "      <td>JAMAICA</td>\n",
       "      <td>88.862671</td>\n",
       "      <td>1.960569e+02</td>\n",
       "      <td>1.220300e+04</td>\n",
       "    </tr>\n",
       "    <tr>\n",
       "      <th>3</th>\n",
       "      <td>BENIN</td>\n",
       "      <td>92.580673</td>\n",
       "      <td>2.489283e+02</td>\n",
       "      <td>3.070162e+04</td>\n",
       "    </tr>\n",
       "    <tr>\n",
       "      <th>23</th>\n",
       "      <td>INDIA</td>\n",
       "      <td>93.311163</td>\n",
       "      <td>7.454741e+03</td>\n",
       "      <td>2.375890e+06</td>\n",
       "    </tr>\n",
       "    <tr>\n",
       "      <th>29</th>\n",
       "      <td>MALI</td>\n",
       "      <td>117.481402</td>\n",
       "      <td>3.620653e+02</td>\n",
       "      <td>8.020147e+04</td>\n",
       "    </tr>\n",
       "    <tr>\n",
       "      <th>25</th>\n",
       "      <td>ITALY</td>\n",
       "      <td>126.801602</td>\n",
       "      <td>3.714899e+02</td>\n",
       "      <td>5.000700e+04</td>\n",
       "    </tr>\n",
       "    <tr>\n",
       "      <th>20</th>\n",
       "      <td>GUINEA</td>\n",
       "      <td>140.296149</td>\n",
       "      <td>1.763512e+03</td>\n",
       "      <td>5.909474e+05</td>\n",
       "    </tr>\n",
       "    <tr>\n",
       "      <th>11</th>\n",
       "      <td>COTE D'IVOIRE (IVORY COAST)</td>\n",
       "      <td>141.856602</td>\n",
       "      <td>5.524182e+02</td>\n",
       "      <td>1.054859e+05</td>\n",
       "    </tr>\n",
       "    <tr>\n",
       "      <th>0</th>\n",
       "      <td>ARGENTINA</td>\n",
       "      <td>151.354033</td>\n",
       "      <td>3.282955e+02</td>\n",
       "      <td>8.086507e+04</td>\n",
       "    </tr>\n",
       "    <tr>\n",
       "      <th>7</th>\n",
       "      <td>CAMEROON</td>\n",
       "      <td>158.906504</td>\n",
       "      <td>5.065959e+02</td>\n",
       "      <td>1.166902e+05</td>\n",
       "    </tr>\n",
       "    <tr>\n",
       "      <th>17</th>\n",
       "      <td>GERMANY</td>\n",
       "      <td>161.671885</td>\n",
       "      <td>4.087330e+02</td>\n",
       "      <td>4.181551e+04</td>\n",
       "    </tr>\n",
       "    <tr>\n",
       "      <th>38</th>\n",
       "      <td>SIERRA LEONE</td>\n",
       "      <td>187.041323</td>\n",
       "      <td>2.133956e+04</td>\n",
       "      <td>2.873591e+06</td>\n",
       "    </tr>\n",
       "    <tr>\n",
       "      <th>36</th>\n",
       "      <td>PORTUGAL</td>\n",
       "      <td>188.064885</td>\n",
       "      <td>1.298389e+03</td>\n",
       "      <td>2.623908e+05</td>\n",
       "    </tr>\n",
       "    <tr>\n",
       "      <th>27</th>\n",
       "      <td>LIBERIA</td>\n",
       "      <td>192.147001</td>\n",
       "      <td>3.771268e+02</td>\n",
       "      <td>4.794700e+04</td>\n",
       "    </tr>\n",
       "    <tr>\n",
       "      <th>16</th>\n",
       "      <td>GAMBIA, THE</td>\n",
       "      <td>203.463729</td>\n",
       "      <td>5.510398e+02</td>\n",
       "      <td>1.145062e+05</td>\n",
       "    </tr>\n",
       "    <tr>\n",
       "      <th>37</th>\n",
       "      <td>SENEGAL</td>\n",
       "      <td>232.281476</td>\n",
       "      <td>1.895144e+03</td>\n",
       "      <td>4.292737e+05</td>\n",
       "    </tr>\n",
       "    <tr>\n",
       "      <th>41</th>\n",
       "      <td>TOGO</td>\n",
       "      <td>234.676682</td>\n",
       "      <td>2.551984e+03</td>\n",
       "      <td>5.585745e+05</td>\n",
       "    </tr>\n",
       "    <tr>\n",
       "      <th>31</th>\n",
       "      <td>NEPAL</td>\n",
       "      <td>251.085586</td>\n",
       "      <td>3.666990e+03</td>\n",
       "      <td>8.811729e+05</td>\n",
       "    </tr>\n",
       "    <tr>\n",
       "      <th>18</th>\n",
       "      <td>GHANA</td>\n",
       "      <td>292.732372</td>\n",
       "      <td>7.182505e+03</td>\n",
       "      <td>5.421394e+06</td>\n",
       "    </tr>\n",
       "    <tr>\n",
       "      <th>6</th>\n",
       "      <td>BURKINA FASO</td>\n",
       "      <td>294.721726</td>\n",
       "      <td>9.742763e+02</td>\n",
       "      <td>1.755168e+05</td>\n",
       "    </tr>\n",
       "    <tr>\n",
       "      <th>1</th>\n",
       "      <td>BANGLADESH</td>\n",
       "      <td>910.923751</td>\n",
       "      <td>6.412269e+03</td>\n",
       "      <td>2.362337e+05</td>\n",
       "    </tr>\n",
       "  </tbody>\n",
       "</table>\n",
       "</div>"
      ],
      "text/plain": [
       "                        country        mape     error_abs    sum_amount\n",
       "14                  EL SALVADOR    6.397689  9.236748e+04  2.599624e+08\n",
       "22                     HONDURAS    7.433348  1.474736e+05  3.663244e+08\n",
       "12           DOMINICAN REPUBLIC    8.097179  3.499074e+04  7.680630e+07\n",
       "30                       MEXICO    8.448203  1.478754e+06  3.367170e+09\n",
       "19                    GUATEMALA    8.489455  6.474563e+05  1.469487e+09\n",
       "32                    NICARAGUA   10.101570  7.054132e+04  1.346826e+08\n",
       "13                      ECUADOR   10.592713  5.799906e+04  9.895877e+07\n",
       "34                         PERU   12.238467  1.751295e+04  2.841291e+07\n",
       "9                      COLOMBIA   14.438955  9.425800e+04  1.325347e+08\n",
       "35                  PHILIPPINES   14.554763  9.760815e+04  1.362224e+08\n",
       "21                        HAITI   15.904545  6.702840e+03  8.560913e+06\n",
       "43                UNITED STATES   16.303565  1.791425e+04  2.027008e+07\n",
       "5                        BRAZIL   17.154770  1.348214e+05  1.492763e+08\n",
       "10                   COSTA RICA   23.405292  2.661590e+04  2.227507e+07\n",
       "4                       BOLIVIA   32.673520  5.365077e+03  3.426753e+06\n",
       "39                        SPAIN   49.246809  1.903616e+03  9.414381e+05\n",
       "8                         CHILE   51.256825  1.835426e+03  8.557980e+05\n",
       "33                      NIGERIA   61.480241  1.214128e+04  9.987284e+06\n",
       "40                     THAILAND   76.902480  1.250689e+02  1.196774e+04\n",
       "42               UNITED KINGDOM   77.552122  5.245866e+02  6.636566e+04\n",
       "24                    INDONESIA   77.934134  9.210492e+03  4.431383e+06\n",
       "2                       BELGIUM   81.329934  2.949113e+02  4.464125e+04\n",
       "15                       FRANCE   84.072271  2.066534e+02  2.960969e+04\n",
       "28                     MALAYSIA   87.037974  2.894348e+01  2.337000e+03\n",
       "26                      JAMAICA   88.862671  1.960569e+02  1.220300e+04\n",
       "3                         BENIN   92.580673  2.489283e+02  3.070162e+04\n",
       "23                        INDIA   93.311163  7.454741e+03  2.375890e+06\n",
       "29                         MALI  117.481402  3.620653e+02  8.020147e+04\n",
       "25                        ITALY  126.801602  3.714899e+02  5.000700e+04\n",
       "20                       GUINEA  140.296149  1.763512e+03  5.909474e+05\n",
       "11  COTE D'IVOIRE (IVORY COAST)  141.856602  5.524182e+02  1.054859e+05\n",
       "0                     ARGENTINA  151.354033  3.282955e+02  8.086507e+04\n",
       "7                      CAMEROON  158.906504  5.065959e+02  1.166902e+05\n",
       "17                      GERMANY  161.671885  4.087330e+02  4.181551e+04\n",
       "38                 SIERRA LEONE  187.041323  2.133956e+04  2.873591e+06\n",
       "36                     PORTUGAL  188.064885  1.298389e+03  2.623908e+05\n",
       "27                      LIBERIA  192.147001  3.771268e+02  4.794700e+04\n",
       "16                  GAMBIA, THE  203.463729  5.510398e+02  1.145062e+05\n",
       "37                      SENEGAL  232.281476  1.895144e+03  4.292737e+05\n",
       "41                         TOGO  234.676682  2.551984e+03  5.585745e+05\n",
       "31                        NEPAL  251.085586  3.666990e+03  8.811729e+05\n",
       "18                        GHANA  292.732372  7.182505e+03  5.421394e+06\n",
       "6                  BURKINA FASO  294.721726  9.742763e+02  1.755168e+05\n",
       "1                    BANGLADESH  910.923751  6.412269e+03  2.362337e+05"
      ]
     },
     "execution_count": 50,
     "metadata": {},
     "output_type": "execute_result"
    }
   ],
   "source": [
    "promedio_mape_por_country.sort_values(by='mape', ascending=True)"
   ]
  },
  {
   "cell_type": "code",
   "execution_count": 51,
   "id": "e84b1631-dadb-405f-bba3-5be06e884967",
   "metadata": {
    "tags": []
   },
   "outputs": [
    {
     "data": {
      "text/plain": [
       "(44, 4)"
      ]
     },
     "execution_count": 51,
     "metadata": {},
     "output_type": "execute_result"
    }
   ],
   "source": [
    "promedio_mape_por_country.shape"
   ]
  },
  {
   "cell_type": "code",
   "execution_count": null,
   "id": "0e9986f1-36be-4048-a35a-aee8ea594ab9",
   "metadata": {
    "tags": []
   },
   "outputs": [],
   "source": [
    "##HASTA ACÁ CON LA SALIDA DE LOS MODELOS DE FORECAST EN BACKTESTING A 2D##"
   ]
  },
  {
   "cell_type": "code",
   "execution_count": null,
   "id": "56a28f2a-6b31-466a-a743-4b918fc44f20",
   "metadata": {
    "tags": []
   },
   "outputs": [],
   "source": []
  },
  {
   "cell_type": "code",
   "execution_count": 52,
   "id": "66a35c39-131b-4515-a47e-3db85676ee46",
   "metadata": {
    "tags": []
   },
   "outputs": [],
   "source": [
    "promedio_mape_por_country=promedio_mape_por_country.sort_values(by='mape', ascending=True)\n",
    "promedio_mape_por_country.to_excel('mapes_promedio_por_country_14_03_2024_f_8d.xlsx')"
   ]
  },
  {
   "cell_type": "code",
   "execution_count": null,
   "id": "30ca5b0e-28f2-479a-8e02-99edc8facf27",
   "metadata": {
    "tags": []
   },
   "outputs": [],
   "source": []
  },
  {
   "cell_type": "code",
   "execution_count": null,
   "id": "a4abecd9-d1aa-449c-9ada-a839965f26b3",
   "metadata": {
    "tags": []
   },
   "outputs": [],
   "source": []
  },
  {
   "cell_type": "code",
   "execution_count": null,
   "id": "5c3ff66a-19a9-4f07-bd3d-22e7cc30c782",
   "metadata": {
    "tags": []
   },
   "outputs": [],
   "source": []
  },
  {
   "cell_type": "code",
   "execution_count": null,
   "id": "c4d780b9-2de9-492f-a163-4da5939299b5",
   "metadata": {
    "tags": []
   },
   "outputs": [],
   "source": []
  },
  {
   "cell_type": "code",
   "execution_count": null,
   "id": "64853991-8f29-4c2a-87d3-895d619b0d5d",
   "metadata": {
    "tags": []
   },
   "outputs": [],
   "source": []
  },
  {
   "cell_type": "code",
   "execution_count": null,
   "id": "9f3c3bfc-2a36-49ed-bddd-b399ff365e07",
   "metadata": {
    "tags": []
   },
   "outputs": [],
   "source": []
  },
  {
   "cell_type": "code",
   "execution_count": null,
   "id": "41fc2023-8b5f-4564-91d9-3b7fa4142a3d",
   "metadata": {
    "tags": []
   },
   "outputs": [],
   "source": []
  },
  {
   "cell_type": "code",
   "execution_count": null,
   "id": "3025ddf9-8585-466e-8e0b-6a29fea6aa5b",
   "metadata": {
    "tags": []
   },
   "outputs": [],
   "source": []
  },
  {
   "cell_type": "code",
   "execution_count": null,
   "id": "a51b2098-9791-454a-9728-52cfe04fa20f",
   "metadata": {
    "tags": []
   },
   "outputs": [],
   "source": []
  },
  {
   "cell_type": "code",
   "execution_count": null,
   "id": "de636652-283c-45f3-a522-3f4243960242",
   "metadata": {},
   "outputs": [],
   "source": [
    "\n"
   ]
  }
 ],
 "metadata": {
  "availableInstances": [
   {
    "_defaultOrder": 0,
    "_isFastLaunch": true,
    "category": "General purpose",
    "gpuNum": 0,
    "hideHardwareSpecs": false,
    "memoryGiB": 4,
    "name": "ml.t3.medium",
    "vcpuNum": 2
   },
   {
    "_defaultOrder": 1,
    "_isFastLaunch": false,
    "category": "General purpose",
    "gpuNum": 0,
    "hideHardwareSpecs": false,
    "memoryGiB": 8,
    "name": "ml.t3.large",
    "vcpuNum": 2
   },
   {
    "_defaultOrder": 2,
    "_isFastLaunch": false,
    "category": "General purpose",
    "gpuNum": 0,
    "hideHardwareSpecs": false,
    "memoryGiB": 16,
    "name": "ml.t3.xlarge",
    "vcpuNum": 4
   },
   {
    "_defaultOrder": 3,
    "_isFastLaunch": false,
    "category": "General purpose",
    "gpuNum": 0,
    "hideHardwareSpecs": false,
    "memoryGiB": 32,
    "name": "ml.t3.2xlarge",
    "vcpuNum": 8
   },
   {
    "_defaultOrder": 4,
    "_isFastLaunch": true,
    "category": "General purpose",
    "gpuNum": 0,
    "hideHardwareSpecs": false,
    "memoryGiB": 8,
    "name": "ml.m5.large",
    "vcpuNum": 2
   },
   {
    "_defaultOrder": 5,
    "_isFastLaunch": false,
    "category": "General purpose",
    "gpuNum": 0,
    "hideHardwareSpecs": false,
    "memoryGiB": 16,
    "name": "ml.m5.xlarge",
    "vcpuNum": 4
   },
   {
    "_defaultOrder": 6,
    "_isFastLaunch": false,
    "category": "General purpose",
    "gpuNum": 0,
    "hideHardwareSpecs": false,
    "memoryGiB": 32,
    "name": "ml.m5.2xlarge",
    "vcpuNum": 8
   },
   {
    "_defaultOrder": 7,
    "_isFastLaunch": false,
    "category": "General purpose",
    "gpuNum": 0,
    "hideHardwareSpecs": false,
    "memoryGiB": 64,
    "name": "ml.m5.4xlarge",
    "vcpuNum": 16
   },
   {
    "_defaultOrder": 8,
    "_isFastLaunch": false,
    "category": "General purpose",
    "gpuNum": 0,
    "hideHardwareSpecs": false,
    "memoryGiB": 128,
    "name": "ml.m5.8xlarge",
    "vcpuNum": 32
   },
   {
    "_defaultOrder": 9,
    "_isFastLaunch": false,
    "category": "General purpose",
    "gpuNum": 0,
    "hideHardwareSpecs": false,
    "memoryGiB": 192,
    "name": "ml.m5.12xlarge",
    "vcpuNum": 48
   },
   {
    "_defaultOrder": 10,
    "_isFastLaunch": false,
    "category": "General purpose",
    "gpuNum": 0,
    "hideHardwareSpecs": false,
    "memoryGiB": 256,
    "name": "ml.m5.16xlarge",
    "vcpuNum": 64
   },
   {
    "_defaultOrder": 11,
    "_isFastLaunch": false,
    "category": "General purpose",
    "gpuNum": 0,
    "hideHardwareSpecs": false,
    "memoryGiB": 384,
    "name": "ml.m5.24xlarge",
    "vcpuNum": 96
   },
   {
    "_defaultOrder": 12,
    "_isFastLaunch": false,
    "category": "General purpose",
    "gpuNum": 0,
    "hideHardwareSpecs": false,
    "memoryGiB": 8,
    "name": "ml.m5d.large",
    "vcpuNum": 2
   },
   {
    "_defaultOrder": 13,
    "_isFastLaunch": false,
    "category": "General purpose",
    "gpuNum": 0,
    "hideHardwareSpecs": false,
    "memoryGiB": 16,
    "name": "ml.m5d.xlarge",
    "vcpuNum": 4
   },
   {
    "_defaultOrder": 14,
    "_isFastLaunch": false,
    "category": "General purpose",
    "gpuNum": 0,
    "hideHardwareSpecs": false,
    "memoryGiB": 32,
    "name": "ml.m5d.2xlarge",
    "vcpuNum": 8
   },
   {
    "_defaultOrder": 15,
    "_isFastLaunch": false,
    "category": "General purpose",
    "gpuNum": 0,
    "hideHardwareSpecs": false,
    "memoryGiB": 64,
    "name": "ml.m5d.4xlarge",
    "vcpuNum": 16
   },
   {
    "_defaultOrder": 16,
    "_isFastLaunch": false,
    "category": "General purpose",
    "gpuNum": 0,
    "hideHardwareSpecs": false,
    "memoryGiB": 128,
    "name": "ml.m5d.8xlarge",
    "vcpuNum": 32
   },
   {
    "_defaultOrder": 17,
    "_isFastLaunch": false,
    "category": "General purpose",
    "gpuNum": 0,
    "hideHardwareSpecs": false,
    "memoryGiB": 192,
    "name": "ml.m5d.12xlarge",
    "vcpuNum": 48
   },
   {
    "_defaultOrder": 18,
    "_isFastLaunch": false,
    "category": "General purpose",
    "gpuNum": 0,
    "hideHardwareSpecs": false,
    "memoryGiB": 256,
    "name": "ml.m5d.16xlarge",
    "vcpuNum": 64
   },
   {
    "_defaultOrder": 19,
    "_isFastLaunch": false,
    "category": "General purpose",
    "gpuNum": 0,
    "hideHardwareSpecs": false,
    "memoryGiB": 384,
    "name": "ml.m5d.24xlarge",
    "vcpuNum": 96
   },
   {
    "_defaultOrder": 20,
    "_isFastLaunch": false,
    "category": "General purpose",
    "gpuNum": 0,
    "hideHardwareSpecs": true,
    "memoryGiB": 0,
    "name": "ml.geospatial.interactive",
    "supportedImageNames": [
     "sagemaker-geospatial-v1-0"
    ],
    "vcpuNum": 0
   },
   {
    "_defaultOrder": 21,
    "_isFastLaunch": true,
    "category": "Compute optimized",
    "gpuNum": 0,
    "hideHardwareSpecs": false,
    "memoryGiB": 4,
    "name": "ml.c5.large",
    "vcpuNum": 2
   },
   {
    "_defaultOrder": 22,
    "_isFastLaunch": false,
    "category": "Compute optimized",
    "gpuNum": 0,
    "hideHardwareSpecs": false,
    "memoryGiB": 8,
    "name": "ml.c5.xlarge",
    "vcpuNum": 4
   },
   {
    "_defaultOrder": 23,
    "_isFastLaunch": false,
    "category": "Compute optimized",
    "gpuNum": 0,
    "hideHardwareSpecs": false,
    "memoryGiB": 16,
    "name": "ml.c5.2xlarge",
    "vcpuNum": 8
   },
   {
    "_defaultOrder": 24,
    "_isFastLaunch": false,
    "category": "Compute optimized",
    "gpuNum": 0,
    "hideHardwareSpecs": false,
    "memoryGiB": 32,
    "name": "ml.c5.4xlarge",
    "vcpuNum": 16
   },
   {
    "_defaultOrder": 25,
    "_isFastLaunch": false,
    "category": "Compute optimized",
    "gpuNum": 0,
    "hideHardwareSpecs": false,
    "memoryGiB": 72,
    "name": "ml.c5.9xlarge",
    "vcpuNum": 36
   },
   {
    "_defaultOrder": 26,
    "_isFastLaunch": false,
    "category": "Compute optimized",
    "gpuNum": 0,
    "hideHardwareSpecs": false,
    "memoryGiB": 96,
    "name": "ml.c5.12xlarge",
    "vcpuNum": 48
   },
   {
    "_defaultOrder": 27,
    "_isFastLaunch": false,
    "category": "Compute optimized",
    "gpuNum": 0,
    "hideHardwareSpecs": false,
    "memoryGiB": 144,
    "name": "ml.c5.18xlarge",
    "vcpuNum": 72
   },
   {
    "_defaultOrder": 28,
    "_isFastLaunch": false,
    "category": "Compute optimized",
    "gpuNum": 0,
    "hideHardwareSpecs": false,
    "memoryGiB": 192,
    "name": "ml.c5.24xlarge",
    "vcpuNum": 96
   },
   {
    "_defaultOrder": 29,
    "_isFastLaunch": true,
    "category": "Accelerated computing",
    "gpuNum": 1,
    "hideHardwareSpecs": false,
    "memoryGiB": 16,
    "name": "ml.g4dn.xlarge",
    "vcpuNum": 4
   },
   {
    "_defaultOrder": 30,
    "_isFastLaunch": false,
    "category": "Accelerated computing",
    "gpuNum": 1,
    "hideHardwareSpecs": false,
    "memoryGiB": 32,
    "name": "ml.g4dn.2xlarge",
    "vcpuNum": 8
   },
   {
    "_defaultOrder": 31,
    "_isFastLaunch": false,
    "category": "Accelerated computing",
    "gpuNum": 1,
    "hideHardwareSpecs": false,
    "memoryGiB": 64,
    "name": "ml.g4dn.4xlarge",
    "vcpuNum": 16
   },
   {
    "_defaultOrder": 32,
    "_isFastLaunch": false,
    "category": "Accelerated computing",
    "gpuNum": 1,
    "hideHardwareSpecs": false,
    "memoryGiB": 128,
    "name": "ml.g4dn.8xlarge",
    "vcpuNum": 32
   },
   {
    "_defaultOrder": 33,
    "_isFastLaunch": false,
    "category": "Accelerated computing",
    "gpuNum": 4,
    "hideHardwareSpecs": false,
    "memoryGiB": 192,
    "name": "ml.g4dn.12xlarge",
    "vcpuNum": 48
   },
   {
    "_defaultOrder": 34,
    "_isFastLaunch": false,
    "category": "Accelerated computing",
    "gpuNum": 1,
    "hideHardwareSpecs": false,
    "memoryGiB": 256,
    "name": "ml.g4dn.16xlarge",
    "vcpuNum": 64
   },
   {
    "_defaultOrder": 35,
    "_isFastLaunch": false,
    "category": "Accelerated computing",
    "gpuNum": 1,
    "hideHardwareSpecs": false,
    "memoryGiB": 61,
    "name": "ml.p3.2xlarge",
    "vcpuNum": 8
   },
   {
    "_defaultOrder": 36,
    "_isFastLaunch": false,
    "category": "Accelerated computing",
    "gpuNum": 4,
    "hideHardwareSpecs": false,
    "memoryGiB": 244,
    "name": "ml.p3.8xlarge",
    "vcpuNum": 32
   },
   {
    "_defaultOrder": 37,
    "_isFastLaunch": false,
    "category": "Accelerated computing",
    "gpuNum": 8,
    "hideHardwareSpecs": false,
    "memoryGiB": 488,
    "name": "ml.p3.16xlarge",
    "vcpuNum": 64
   },
   {
    "_defaultOrder": 38,
    "_isFastLaunch": false,
    "category": "Accelerated computing",
    "gpuNum": 8,
    "hideHardwareSpecs": false,
    "memoryGiB": 768,
    "name": "ml.p3dn.24xlarge",
    "vcpuNum": 96
   },
   {
    "_defaultOrder": 39,
    "_isFastLaunch": false,
    "category": "Memory Optimized",
    "gpuNum": 0,
    "hideHardwareSpecs": false,
    "memoryGiB": 16,
    "name": "ml.r5.large",
    "vcpuNum": 2
   },
   {
    "_defaultOrder": 40,
    "_isFastLaunch": false,
    "category": "Memory Optimized",
    "gpuNum": 0,
    "hideHardwareSpecs": false,
    "memoryGiB": 32,
    "name": "ml.r5.xlarge",
    "vcpuNum": 4
   },
   {
    "_defaultOrder": 41,
    "_isFastLaunch": false,
    "category": "Memory Optimized",
    "gpuNum": 0,
    "hideHardwareSpecs": false,
    "memoryGiB": 64,
    "name": "ml.r5.2xlarge",
    "vcpuNum": 8
   },
   {
    "_defaultOrder": 42,
    "_isFastLaunch": false,
    "category": "Memory Optimized",
    "gpuNum": 0,
    "hideHardwareSpecs": false,
    "memoryGiB": 128,
    "name": "ml.r5.4xlarge",
    "vcpuNum": 16
   },
   {
    "_defaultOrder": 43,
    "_isFastLaunch": false,
    "category": "Memory Optimized",
    "gpuNum": 0,
    "hideHardwareSpecs": false,
    "memoryGiB": 256,
    "name": "ml.r5.8xlarge",
    "vcpuNum": 32
   },
   {
    "_defaultOrder": 44,
    "_isFastLaunch": false,
    "category": "Memory Optimized",
    "gpuNum": 0,
    "hideHardwareSpecs": false,
    "memoryGiB": 384,
    "name": "ml.r5.12xlarge",
    "vcpuNum": 48
   },
   {
    "_defaultOrder": 45,
    "_isFastLaunch": false,
    "category": "Memory Optimized",
    "gpuNum": 0,
    "hideHardwareSpecs": false,
    "memoryGiB": 512,
    "name": "ml.r5.16xlarge",
    "vcpuNum": 64
   },
   {
    "_defaultOrder": 46,
    "_isFastLaunch": false,
    "category": "Memory Optimized",
    "gpuNum": 0,
    "hideHardwareSpecs": false,
    "memoryGiB": 768,
    "name": "ml.r5.24xlarge",
    "vcpuNum": 96
   },
   {
    "_defaultOrder": 47,
    "_isFastLaunch": false,
    "category": "Accelerated computing",
    "gpuNum": 1,
    "hideHardwareSpecs": false,
    "memoryGiB": 16,
    "name": "ml.g5.xlarge",
    "vcpuNum": 4
   },
   {
    "_defaultOrder": 48,
    "_isFastLaunch": false,
    "category": "Accelerated computing",
    "gpuNum": 1,
    "hideHardwareSpecs": false,
    "memoryGiB": 32,
    "name": "ml.g5.2xlarge",
    "vcpuNum": 8
   },
   {
    "_defaultOrder": 49,
    "_isFastLaunch": false,
    "category": "Accelerated computing",
    "gpuNum": 1,
    "hideHardwareSpecs": false,
    "memoryGiB": 64,
    "name": "ml.g5.4xlarge",
    "vcpuNum": 16
   },
   {
    "_defaultOrder": 50,
    "_isFastLaunch": false,
    "category": "Accelerated computing",
    "gpuNum": 1,
    "hideHardwareSpecs": false,
    "memoryGiB": 128,
    "name": "ml.g5.8xlarge",
    "vcpuNum": 32
   },
   {
    "_defaultOrder": 51,
    "_isFastLaunch": false,
    "category": "Accelerated computing",
    "gpuNum": 1,
    "hideHardwareSpecs": false,
    "memoryGiB": 256,
    "name": "ml.g5.16xlarge",
    "vcpuNum": 64
   },
   {
    "_defaultOrder": 52,
    "_isFastLaunch": false,
    "category": "Accelerated computing",
    "gpuNum": 4,
    "hideHardwareSpecs": false,
    "memoryGiB": 192,
    "name": "ml.g5.12xlarge",
    "vcpuNum": 48
   },
   {
    "_defaultOrder": 53,
    "_isFastLaunch": false,
    "category": "Accelerated computing",
    "gpuNum": 4,
    "hideHardwareSpecs": false,
    "memoryGiB": 384,
    "name": "ml.g5.24xlarge",
    "vcpuNum": 96
   },
   {
    "_defaultOrder": 54,
    "_isFastLaunch": false,
    "category": "Accelerated computing",
    "gpuNum": 8,
    "hideHardwareSpecs": false,
    "memoryGiB": 768,
    "name": "ml.g5.48xlarge",
    "vcpuNum": 192
   },
   {
    "_defaultOrder": 55,
    "_isFastLaunch": false,
    "category": "Accelerated computing",
    "gpuNum": 8,
    "hideHardwareSpecs": false,
    "memoryGiB": 1152,
    "name": "ml.p4d.24xlarge",
    "vcpuNum": 96
   },
   {
    "_defaultOrder": 56,
    "_isFastLaunch": false,
    "category": "Accelerated computing",
    "gpuNum": 8,
    "hideHardwareSpecs": false,
    "memoryGiB": 1152,
    "name": "ml.p4de.24xlarge",
    "vcpuNum": 96
   },
   {
    "_defaultOrder": 57,
    "_isFastLaunch": false,
    "category": "Accelerated computing",
    "gpuNum": 0,
    "hideHardwareSpecs": false,
    "memoryGiB": 32,
    "name": "ml.trn1.2xlarge",
    "vcpuNum": 8
   },
   {
    "_defaultOrder": 58,
    "_isFastLaunch": false,
    "category": "Accelerated computing",
    "gpuNum": 0,
    "hideHardwareSpecs": false,
    "memoryGiB": 512,
    "name": "ml.trn1.32xlarge",
    "vcpuNum": 128
   },
   {
    "_defaultOrder": 59,
    "_isFastLaunch": false,
    "category": "Accelerated computing",
    "gpuNum": 0,
    "hideHardwareSpecs": false,
    "memoryGiB": 512,
    "name": "ml.trn1n.32xlarge",
    "vcpuNum": 128
   }
  ],
  "kernelspec": {
   "display_name": "Python 3 (Data Science 3.0)",
   "language": "python",
   "name": "python3__SAGEMAKER_INTERNAL__arn:aws:sagemaker:us-east-1:081325390199:image/sagemaker-data-science-310-v1"
  },
  "language_info": {
   "codemirror_mode": {
    "name": "ipython",
    "version": 3
   },
   "file_extension": ".py",
   "mimetype": "text/x-python",
   "name": "python",
   "nbconvert_exporter": "python",
   "pygments_lexer": "ipython3",
   "version": "3.10.6"
  }
 },
 "nbformat": 4,
 "nbformat_minor": 5
}
