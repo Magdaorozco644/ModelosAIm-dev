{
 "cells": [
  {
   "cell_type": "markdown",
   "id": "26313024-a946-4380-a64a-5577dcb5d394",
   "metadata": {
    "jp-MarkdownHeadingCollapsed": true,
    "tags": []
   },
   "source": [
    "### LIBRARY INSTALLATION"
   ]
  },
  {
   "cell_type": "code",
   "execution_count": 68,
   "id": "f87cf36a-cd30-433f-abc8-edc03f23f517",
   "metadata": {
    "tags": []
   },
   "outputs": [
    {
     "name": "stdout",
     "output_type": "stream",
     "text": [
      "Requirement already satisfied: pmdarima in /opt/conda/lib/python3.10/site-packages (2.0.4)\n",
      "Requirement already satisfied: joblib>=0.11 in /opt/conda/lib/python3.10/site-packages (from pmdarima) (1.3.2)\n",
      "Requirement already satisfied: Cython!=0.29.18,!=0.29.31,>=0.29 in /opt/conda/lib/python3.10/site-packages (from pmdarima) (0.29.32)\n",
      "Requirement already satisfied: numpy>=1.21.2 in /opt/conda/lib/python3.10/site-packages (from pmdarima) (1.26.2)\n",
      "Requirement already satisfied: pandas>=0.19 in /opt/conda/lib/python3.10/site-packages (from pmdarima) (2.1.3)\n",
      "Requirement already satisfied: scikit-learn>=0.22 in /opt/conda/lib/python3.10/site-packages (from pmdarima) (1.3.2)\n",
      "Requirement already satisfied: scipy>=1.3.2 in /opt/conda/lib/python3.10/site-packages (from pmdarima) (1.11.4)\n",
      "Requirement already satisfied: statsmodels>=0.13.2 in /opt/conda/lib/python3.10/site-packages (from pmdarima) (0.13.2)\n",
      "Requirement already satisfied: urllib3 in /opt/conda/lib/python3.10/site-packages (from pmdarima) (2.0.7)\n",
      "Requirement already satisfied: setuptools!=50.0.0,>=38.6.0 in /opt/conda/lib/python3.10/site-packages (from pmdarima) (69.0.2)\n",
      "Requirement already satisfied: packaging>=17.1 in /opt/conda/lib/python3.10/site-packages (from pmdarima) (21.3)\n",
      "Requirement already satisfied: pyparsing!=3.0.5,>=2.0.2 in /opt/conda/lib/python3.10/site-packages (from packaging>=17.1->pmdarima) (3.0.9)\n",
      "Requirement already satisfied: python-dateutil>=2.8.2 in /opt/conda/lib/python3.10/site-packages (from pandas>=0.19->pmdarima) (2.8.2)\n",
      "Requirement already satisfied: pytz>=2020.1 in /opt/conda/lib/python3.10/site-packages (from pandas>=0.19->pmdarima) (2022.1)\n",
      "Requirement already satisfied: tzdata>=2022.1 in /opt/conda/lib/python3.10/site-packages (from pandas>=0.19->pmdarima) (2023.3)\n",
      "Requirement already satisfied: threadpoolctl>=2.0.0 in /opt/conda/lib/python3.10/site-packages (from scikit-learn>=0.22->pmdarima) (2.2.0)\n",
      "Requirement already satisfied: patsy>=0.5.2 in /opt/conda/lib/python3.10/site-packages (from statsmodels>=0.13.2->pmdarima) (0.5.2)\n",
      "Requirement already satisfied: six in /opt/conda/lib/python3.10/site-packages (from patsy>=0.5.2->statsmodels>=0.13.2->pmdarima) (1.16.0)\n",
      "\u001b[33mWARNING: Running pip as the 'root' user can result in broken permissions and conflicting behaviour with the system package manager. It is recommended to use a virtual environment instead: https://pip.pypa.io/warnings/venv\u001b[0m\u001b[33m\n",
      "\u001b[0m\n",
      "\u001b[1m[\u001b[0m\u001b[34;49mnotice\u001b[0m\u001b[1;39;49m]\u001b[0m\u001b[39;49m A new release of pip is available: \u001b[0m\u001b[31;49m23.3.1\u001b[0m\u001b[39;49m -> \u001b[0m\u001b[32;49m24.0\u001b[0m\n",
      "\u001b[1m[\u001b[0m\u001b[34;49mnotice\u001b[0m\u001b[1;39;49m]\u001b[0m\u001b[39;49m To update, run: \u001b[0m\u001b[32;49mpip install --upgrade pip\u001b[0m\n",
      "Requirement already satisfied: skforecast in /opt/conda/lib/python3.10/site-packages (0.11.0)\n",
      "Requirement already satisfied: numpy<1.27,>=1.20 in /opt/conda/lib/python3.10/site-packages (from skforecast) (1.26.2)\n",
      "Requirement already satisfied: pandas<2.2,>=1.2 in /opt/conda/lib/python3.10/site-packages (from skforecast) (2.1.3)\n",
      "Requirement already satisfied: tqdm<4.67,>=4.57.0 in /opt/conda/lib/python3.10/site-packages (from skforecast) (4.64.1)\n",
      "Requirement already satisfied: scikit-learn<1.4,>=1.0 in /opt/conda/lib/python3.10/site-packages (from skforecast) (1.3.2)\n",
      "Requirement already satisfied: optuna<3.5,>=2.10.0 in /opt/conda/lib/python3.10/site-packages (from skforecast) (3.4.0)\n",
      "Requirement already satisfied: joblib<1.4,>=1.1.0 in /opt/conda/lib/python3.10/site-packages (from skforecast) (1.3.2)\n",
      "Requirement already satisfied: alembic>=1.5.0 in /opt/conda/lib/python3.10/site-packages (from optuna<3.5,>=2.10.0->skforecast) (1.13.1)\n",
      "Requirement already satisfied: colorlog in /opt/conda/lib/python3.10/site-packages (from optuna<3.5,>=2.10.0->skforecast) (6.8.2)\n",
      "Requirement already satisfied: packaging>=20.0 in /opt/conda/lib/python3.10/site-packages (from optuna<3.5,>=2.10.0->skforecast) (21.3)\n",
      "Requirement already satisfied: sqlalchemy>=1.3.0 in /opt/conda/lib/python3.10/site-packages (from optuna<3.5,>=2.10.0->skforecast) (1.4.39)\n",
      "Requirement already satisfied: PyYAML in /opt/conda/lib/python3.10/site-packages/PyYAML-6.0-py3.10-linux-x86_64.egg (from optuna<3.5,>=2.10.0->skforecast) (6.0)\n",
      "Requirement already satisfied: python-dateutil>=2.8.2 in /opt/conda/lib/python3.10/site-packages (from pandas<2.2,>=1.2->skforecast) (2.8.2)\n",
      "Requirement already satisfied: pytz>=2020.1 in /opt/conda/lib/python3.10/site-packages (from pandas<2.2,>=1.2->skforecast) (2022.1)\n",
      "Requirement already satisfied: tzdata>=2022.1 in /opt/conda/lib/python3.10/site-packages (from pandas<2.2,>=1.2->skforecast) (2023.3)\n",
      "Requirement already satisfied: scipy>=1.5.0 in /opt/conda/lib/python3.10/site-packages (from scikit-learn<1.4,>=1.0->skforecast) (1.11.4)\n",
      "Requirement already satisfied: threadpoolctl>=2.0.0 in /opt/conda/lib/python3.10/site-packages (from scikit-learn<1.4,>=1.0->skforecast) (2.2.0)\n",
      "Requirement already satisfied: Mako in /opt/conda/lib/python3.10/site-packages (from alembic>=1.5.0->optuna<3.5,>=2.10.0->skforecast) (1.3.2)\n",
      "Requirement already satisfied: typing-extensions>=4 in /opt/conda/lib/python3.10/site-packages (from alembic>=1.5.0->optuna<3.5,>=2.10.0->skforecast) (4.10.0)\n",
      "Requirement already satisfied: pyparsing!=3.0.5,>=2.0.2 in /opt/conda/lib/python3.10/site-packages (from packaging>=20.0->optuna<3.5,>=2.10.0->skforecast) (3.0.9)\n",
      "Requirement already satisfied: six>=1.5 in /opt/conda/lib/python3.10/site-packages (from python-dateutil>=2.8.2->pandas<2.2,>=1.2->skforecast) (1.16.0)\n",
      "Requirement already satisfied: greenlet!=0.4.17 in /opt/conda/lib/python3.10/site-packages (from sqlalchemy>=1.3.0->optuna<3.5,>=2.10.0->skforecast) (1.1.1)\n",
      "Requirement already satisfied: MarkupSafe>=0.9.2 in /opt/conda/lib/python3.10/site-packages (from Mako->alembic>=1.5.0->optuna<3.5,>=2.10.0->skforecast) (2.1.3)\n",
      "\u001b[33mWARNING: Running pip as the 'root' user can result in broken permissions and conflicting behaviour with the system package manager. It is recommended to use a virtual environment instead: https://pip.pypa.io/warnings/venv\u001b[0m\u001b[33m\n",
      "\u001b[0m\n",
      "\u001b[1m[\u001b[0m\u001b[34;49mnotice\u001b[0m\u001b[1;39;49m]\u001b[0m\u001b[39;49m A new release of pip is available: \u001b[0m\u001b[31;49m23.3.1\u001b[0m\u001b[39;49m -> \u001b[0m\u001b[32;49m24.0\u001b[0m\n",
      "\u001b[1m[\u001b[0m\u001b[34;49mnotice\u001b[0m\u001b[1;39;49m]\u001b[0m\u001b[39;49m To update, run: \u001b[0m\u001b[32;49mpip install --upgrade pip\u001b[0m\n",
      "Requirement already satisfied: awswrangler in /opt/conda/lib/python3.10/site-packages (3.7.1)\n",
      "Requirement already satisfied: boto3<2.0.0,>=1.20.32 in /opt/conda/lib/python3.10/site-packages (from awswrangler) (1.33.9)\n",
      "Requirement already satisfied: botocore<2.0.0,>=1.23.32 in /opt/conda/lib/python3.10/site-packages (from awswrangler) (1.33.9)\n",
      "Requirement already satisfied: numpy<2.0,>=1.18 in /opt/conda/lib/python3.10/site-packages (from awswrangler) (1.26.2)\n",
      "Requirement already satisfied: packaging<24.0,>=21.1 in /opt/conda/lib/python3.10/site-packages (from awswrangler) (21.3)\n",
      "Requirement already satisfied: pandas<3.0.0,>=1.2.0 in /opt/conda/lib/python3.10/site-packages (from awswrangler) (2.1.3)\n",
      "Requirement already satisfied: pyarrow>=8.0.0 in /opt/conda/lib/python3.10/site-packages (from awswrangler) (14.0.1)\n",
      "Requirement already satisfied: typing-extensions<5.0.0,>=4.4.0 in /opt/conda/lib/python3.10/site-packages (from awswrangler) (4.10.0)\n",
      "Requirement already satisfied: jmespath<2.0.0,>=0.7.1 in /opt/conda/lib/python3.10/site-packages (from boto3<2.0.0,>=1.20.32->awswrangler) (0.10.0)\n",
      "Requirement already satisfied: s3transfer<0.9.0,>=0.8.2 in /opt/conda/lib/python3.10/site-packages (from boto3<2.0.0,>=1.20.32->awswrangler) (0.8.2)\n",
      "Requirement already satisfied: python-dateutil<3.0.0,>=2.1 in /opt/conda/lib/python3.10/site-packages (from botocore<2.0.0,>=1.23.32->awswrangler) (2.8.2)\n",
      "Requirement already satisfied: urllib3<2.1,>=1.25.4 in /opt/conda/lib/python3.10/site-packages (from botocore<2.0.0,>=1.23.32->awswrangler) (2.0.7)\n",
      "Requirement already satisfied: pyparsing!=3.0.5,>=2.0.2 in /opt/conda/lib/python3.10/site-packages (from packaging<24.0,>=21.1->awswrangler) (3.0.9)\n",
      "Requirement already satisfied: pytz>=2020.1 in /opt/conda/lib/python3.10/site-packages (from pandas<3.0.0,>=1.2.0->awswrangler) (2022.1)\n",
      "Requirement already satisfied: tzdata>=2022.1 in /opt/conda/lib/python3.10/site-packages (from pandas<3.0.0,>=1.2.0->awswrangler) (2023.3)\n",
      "Requirement already satisfied: six>=1.5 in /opt/conda/lib/python3.10/site-packages (from python-dateutil<3.0.0,>=2.1->botocore<2.0.0,>=1.23.32->awswrangler) (1.16.0)\n",
      "\u001b[33mWARNING: Running pip as the 'root' user can result in broken permissions and conflicting behaviour with the system package manager. It is recommended to use a virtual environment instead: https://pip.pypa.io/warnings/venv\u001b[0m\u001b[33m\n",
      "\u001b[0m\n",
      "\u001b[1m[\u001b[0m\u001b[34;49mnotice\u001b[0m\u001b[1;39;49m]\u001b[0m\u001b[39;49m A new release of pip is available: \u001b[0m\u001b[31;49m23.3.1\u001b[0m\u001b[39;49m -> \u001b[0m\u001b[32;49m24.0\u001b[0m\n",
      "\u001b[1m[\u001b[0m\u001b[34;49mnotice\u001b[0m\u001b[1;39;49m]\u001b[0m\u001b[39;49m To update, run: \u001b[0m\u001b[32;49mpip install --upgrade pip\u001b[0m\n",
      "Requirement already satisfied: holidays in /opt/conda/lib/python3.10/site-packages (0.44)\n",
      "Requirement already satisfied: python-dateutil in /opt/conda/lib/python3.10/site-packages (from holidays) (2.8.2)\n",
      "Requirement already satisfied: six>=1.5 in /opt/conda/lib/python3.10/site-packages (from python-dateutil->holidays) (1.16.0)\n",
      "\u001b[33mWARNING: Running pip as the 'root' user can result in broken permissions and conflicting behaviour with the system package manager. It is recommended to use a virtual environment instead: https://pip.pypa.io/warnings/venv\u001b[0m\u001b[33m\n",
      "\u001b[0m\n",
      "\u001b[1m[\u001b[0m\u001b[34;49mnotice\u001b[0m\u001b[1;39;49m]\u001b[0m\u001b[39;49m A new release of pip is available: \u001b[0m\u001b[31;49m23.3.1\u001b[0m\u001b[39;49m -> \u001b[0m\u001b[32;49m24.0\u001b[0m\n",
      "\u001b[1m[\u001b[0m\u001b[34;49mnotice\u001b[0m\u001b[1;39;49m]\u001b[0m\u001b[39;49m To update, run: \u001b[0m\u001b[32;49mpip install --upgrade pip\u001b[0m\n"
     ]
    }
   ],
   "source": [
    " !pip install pmdarima\n",
    " !pip install skforecast\n",
    " !pip install awswrangler\n",
    " !pip install holidays"
   ]
  },
  {
   "cell_type": "code",
   "execution_count": 69,
   "id": "af56b281-438e-4ada-b7ce-714f302dd505",
   "metadata": {
    "tags": []
   },
   "outputs": [],
   "source": [
    "# IMPORTING LIBRARIES\n",
    "\n",
    "# ======================================================================================\n",
    "import numpy as np\n",
    "import pandas as pd\n",
    "from datetime import datetime, timedelta\n",
    "import pickle\n",
    "import time\n",
    "import os\n",
    "from io import StringIO\n",
    "import boto3\n",
    "import contextlib\n",
    "import re\n",
    "import matplotlib.pyplot as plt\n",
    "import awswrangler as wr\n",
    "import holidays\n",
    "\n",
    "\n",
    "plt.style.use('seaborn-darkgrid')\n",
    "\n",
    "from io import BytesIO\n",
    "import joblib\n",
    "\n",
    "# pmdarima\n",
    "from pmdarima import ARIMA\n",
    "from pmdarima import auto_arima\n",
    "\n",
    "# statsmodels\n",
    "from statsmodels.tsa.statespace.sarimax import SARIMAX\n",
    "from statsmodels.tsa.stattools import adfuller\n",
    "from statsmodels.tsa.stattools import kpss\n",
    "from statsmodels.graphics.tsaplots import plot_acf, plot_pacf\n",
    "from statsmodels.tsa.seasonal import seasonal_decompose\n",
    "\n",
    "# skforecast\n",
    "from skforecast.Sarimax import Sarimax\n",
    "from skforecast.ForecasterSarimax import ForecasterSarimax\n",
    "from skforecast.model_selection_sarimax import backtesting_sarimax\n",
    "from skforecast.model_selection_sarimax import grid_search_sarimax\n",
    "from sklearn.metrics import mean_absolute_error\n",
    "\n",
    "import warnings"
   ]
  },
  {
   "cell_type": "markdown",
   "id": "ca5d07db-7d1d-4e3b-bd4c-bf29b8fe896f",
   "metadata": {
    "tags": []
   },
   "source": [
    "### ABT LOAD"
   ]
  },
  {
   "cell_type": "code",
   "execution_count": 70,
   "id": "dba0ce22-1f29-4729-a496-984321bcc4a8",
   "metadata": {
    "tags": []
   },
   "outputs": [],
   "source": [
    "# Set up S3 client\n",
    "client = boto3.client('s3')\n",
    "bucket_name = 'viamericas-datalake-dev-us-east-1-283731589572-analytics'\n",
    "path = 'ABTv3/' # Folder under analysis"
   ]
  },
  {
   "cell_type": "code",
   "execution_count": 71,
   "id": "5f8b69f8-113a-4173-916b-7f05d74c8958",
   "metadata": {
    "tags": []
   },
   "outputs": [
    {
     "name": "stdout",
     "output_type": "stream",
     "text": [
      "ABTv3/ABTv3.csv\n"
     ]
    }
   ],
   "source": [
    "##Conexion a ABT##\n",
    "# Listing objects \n",
    "elements = client.list_objects(Bucket=bucket_name, Prefix=path)\n",
    "# Initialize an empty list \n",
    "dfs = []\n",
    "# Iterate through each CSV in the S3 path\n",
    "for obj in elements.get('Contents', []):\n",
    "#    print(obj)\n",
    "    # Check if the object is a CSV file\n",
    "    if obj['Key'].endswith('.csv'):\n",
    "        # Read CSV content from S3\n",
    "        response = client.get_object(Bucket=bucket_name, Key=obj['Key'])\n",
    "        print(obj['Key'])\n",
    "        csv_content = response['Body'].read().decode('utf-8')\n",
    "\n",
    "        # Transform CSV content to df\n",
    "        df = pd.read_csv(StringIO(csv_content))\n",
    "\n",
    "        dfs.append(df)\n",
    "final_df = pd.concat(dfs, ignore_index=True)\n"
   ]
  },
  {
   "cell_type": "code",
   "execution_count": 72,
   "id": "78c53255-8122-4671-b6ff-a5bc6de55e31",
   "metadata": {
    "tags": []
   },
   "outputs": [],
   "source": [
    "#Date format\n",
    "final_df['date'] = pd.to_datetime(final_df['date'])"
   ]
  },
  {
   "cell_type": "code",
   "execution_count": 73,
   "id": "4ebc6075-a01d-4bb0-99f2-f0a23377fcb9",
   "metadata": {
    "tags": []
   },
   "outputs": [],
   "source": [
    "# Create a boolean mask to filter by country and date\n",
    "mask = (final_df['country'] == 'MEXICO') & (final_df['date'].dt.month == 11) & (final_df['date'].dt.day == 2)\n",
    "# Mark the Day of the Dead according to the mask\n",
    "final_df['day_of_the_dead'] = 0  # Initialize with 0\n",
    "final_df.loc[mask, 'day_of_the_dead'] = 1  # Mark as 1 where the mask is True"
   ]
  },
  {
   "cell_type": "code",
   "execution_count": 74,
   "id": "863b2f96-35bc-4a1f-a780-9a5dcdb828f0",
   "metadata": {
    "tags": []
   },
   "outputs": [],
   "source": [
    "#Transformo fecha\n",
    "final_df['date'] = pd.to_datetime(final_df['date']).dt.date"
   ]
  },
  {
   "cell_type": "code",
   "execution_count": 75,
   "id": "c60c14f0-445b-42ea-a32f-b1e488fcc8f6",
   "metadata": {
    "tags": []
   },
   "outputs": [],
   "source": [
    "# Acoto fechas\n",
    "final_df = final_df[final_df['date'] < pd.to_datetime('2023-12-19').date()]"
   ]
  },
  {
   "cell_type": "markdown",
   "id": "daf2d1bc-a75f-4946-b50d-dd33df3931ea",
   "metadata": {},
   "source": [
    "### PAYER DEFINITION"
   ]
  },
  {
   "cell_type": "code",
   "execution_count": 76,
   "id": "507faa67-b664-4b26-82ee-efd259350154",
   "metadata": {
    "tags": []
   },
   "outputs": [],
   "source": [
    "payer = 'BANRURAL (RYT)_GUATEMALA' # \n",
    "payer_key = 'BPI'"
   ]
  },
  {
   "cell_type": "code",
   "execution_count": 77,
   "id": "bea0131f-e5a2-4a54-8820-6deab66faa10",
   "metadata": {
    "tags": []
   },
   "outputs": [],
   "source": [
    "# Celda de inicio\n",
    "start_time = time.time()"
   ]
  },
  {
   "cell_type": "code",
   "execution_count": 78,
   "id": "e01fa487-5d6c-4504-a1d3-6b9381dc5a8e",
   "metadata": {
    "tags": []
   },
   "outputs": [],
   "source": [
    "#### SETEO EL PAYER ####\n",
    "datos=final_df.loc[final_df.payer_country==payer]\n",
    "datos = datos.set_index('date')"
   ]
  },
  {
   "cell_type": "code",
   "execution_count": 79,
   "id": "146aa0f5-8dc6-4fee-a441-100dd0b31e49",
   "metadata": {
    "tags": []
   },
   "outputs": [],
   "source": [
    "# datos = final_df[final_df['payer'].str.contains(payer_key)]\n",
    "# datos = datos.set_index('date')"
   ]
  },
  {
   "cell_type": "code",
   "execution_count": 80,
   "id": "381dd841-0b5c-4933-bbe5-34b13a2aa106",
   "metadata": {
    "tags": []
   },
   "outputs": [],
   "source": [
    "#final_df[final_df['payer'].str.contains(payer_key)]['date'].min()"
   ]
  },
  {
   "cell_type": "markdown",
   "id": "787cfdf0-f3fc-4e9f-91cc-5ccceb961e5f",
   "metadata": {},
   "source": [
    "### DEFINITION OF VARIABLES TO BE USED"
   ]
  },
  {
   "cell_type": "code",
   "execution_count": 81,
   "id": "17fafcaf-2ca5-4a66-921f-6c318ad6e706",
   "metadata": {
    "tags": []
   },
   "outputs": [],
   "source": [
    "datos = datos.asfreq('D')"
   ]
  },
  {
   "cell_type": "code",
   "execution_count": 82,
   "id": "918fa354-bc7a-425a-a73c-bc6ad1d5feb2",
   "metadata": {
    "tags": []
   },
   "outputs": [],
   "source": [
    "#datos.columns.to_list()"
   ]
  },
  {
   "cell_type": "code",
   "execution_count": 83,
   "id": "dee82f92-b9e8-4802-8b96-d0c2813258e1",
   "metadata": {
    "tags": []
   },
   "outputs": [],
   "source": [
    "datos = datos[['amount', \n",
    "                'var_rate_lag_2','var_rate_lag_3','var_rate_lag_4', 'var_rate_lag_5',\n",
    "                'var_rate_lag_6','var_rate_lag_7',\n",
    "                'var_rate_lag_8','var_rate_lag_9',\n",
    "                'var_rate_lag_10','var_rate_lag_11','var_rate_lag_12','var_rate_lag_13', \n",
    "                'var_rate_lag_14','var_rate_lag_15','var_rate_lag_16','var_rate_lag_17',\n",
    "               'var_rate_lag_18','var_rate_lag_19','var_rate_lag_20','var_rate_lag_21',\n",
    "               'var_rate_lag_22','var_rate_lag_23','var_rate_lag_24','var_rate_lag_25',\n",
    "                'var_rate_lag_26','var_rate_lag_27','var_rate_lag_28','var_rate_lag_29', \n",
    "               'ratio_coupon_tx_lag_2', \n",
    "                'ratio_coupon_tx_lag_3', 'ratio_coupon_tx_lag_4', 'ratio_coupon_tx_lag_5', \n",
    "                'ratio_coupon_tx_lag_6', 'ratio_coupon_tx_lag_7', \n",
    "                'ratio_coupon_tx_lag_8', \n",
    "                'ratio_coupon_tx_lag_9', 'ratio_coupon_tx_lag_10', 'ratio_coupon_tx_lag_11', \n",
    "                'ratio_coupon_tx_lag_12', 'ratio_coupon_tx_lag_13', 'ratio_coupon_tx_lag_14',\n",
    "                'ratio_coupon_tx_lag_15','ratio_coupon_tx_lag_16','ratio_coupon_tx_lag_17', \n",
    "                'ratio_coupon_tx_lag_18','ratio_coupon_tx_lag_19','ratio_coupon_tx_lag_20',\n",
    "                'ratio_coupon_tx_lag_21','ratio_coupon_tx_lag_22','ratio_coupon_tx_lag_23',\n",
    "                'ratio_coupon_tx_lag_24','ratio_coupon_tx_lag_25','ratio_coupon_tx_lag_26',\n",
    "                'ratio_coupon_tx_lag_27','ratio_coupon_tx_lag_28','ratio_coupon_tx_lag_29',\n",
    "               'tx_lag_2', 'tx_lag_3','tx_lag_4', 'tx_lag_5','tx_lag_6', 'tx_lag_7', \n",
    "                'tx_lag_8', 'tx_lag_9', 'tx_lag_10', 'tx_lag_11','tx_lag_12', 'tx_lag_13',\n",
    "               'tx_lag_14', 'tx_lag_15', 'tx_lag_16','tx_lag_17', 'tx_lag_18','tx_lag_19',\n",
    "                'tx_lag_20', 'tx_lag_21',\n",
    "                 'var_tx_cancelled_lag_2', 'var_tx_cancelled_lag_3', \n",
    "                'var_tx_cancelled_lag_4', 'var_tx_cancelled_lag_5', 'var_tx_cancelled_lag_6', \n",
    "               'var_tx_cancelled_lag_7', \n",
    "               'var_tx_cancelled_lag_8', 'var_tx_cancelled_lag_9', \n",
    "                'var_tx_cancelled_lag_10', 'var_tx_cancelled_lag_11', 'var_tx_cancelled_lag_12', \n",
    "                'var_tx_cancelled_lag_13', 'var_tx_cancelled_lag_14','var_tx_cancelled_lag_15', \n",
    "                'var_tx_cancelled_lag_16', 'var_tx_cancelled_lag_17', 'var_tx_cancelled_lag_18',\n",
    "                'var_tx_cancelled_lag_19', 'var_tx_cancelled_lag_20','var_tx_cancelled_lag_21', \n",
    "                'var_tx_cancelled_lag_22','var_tx_cancelled_lag_23', 'var_tx_cancelled_lag_24',\n",
    "                'var_tx_cancelled_lag_25', 'var_tx_cancelled_lag_26','var_tx_cancelled_lag_27', \n",
    "                'var_tx_cancelled_lag_28', 'var_tx_cancelled_lag_29',\n",
    "                'margin_lag_2', 'margin_lag_3', 'margin_lag_4', 'margin_lag_5',\n",
    "                'margin_lag_6', 'margin_lag_7', \n",
    "                'margin_lag_8', 'margin_lag_9', 'margin_lag_10', \n",
    "               'is_holiday',\n",
    "               'is_fourth_of_july',\n",
    "               'var_30ds',\n",
    "               'christmas_day',\n",
    "               'new_year_day',\n",
    "               'post_holiday',\n",
    "               'day_of_the_dead'\n",
    "              ]]"
   ]
  },
  {
   "cell_type": "code",
   "execution_count": 84,
   "id": "d398cc38-8c03-4e4b-b57e-a8108bf2fe5a",
   "metadata": {
    "tags": []
   },
   "outputs": [],
   "source": [
    "# Workaround para payers nuevos\n",
    "# split_index = int(len(datos) * 0.5)"
   ]
  },
  {
   "cell_type": "markdown",
   "id": "2e0a2d23-18c4-4d91-88a5-5417ac894866",
   "metadata": {},
   "source": [
    "### TRAINING, VALIDATION AND TESTING PERIODS"
   ]
  },
  {
   "cell_type": "code",
   "execution_count": 85,
   "id": "10bfb585-d22f-41de-adbc-81c8bfd76bfe",
   "metadata": {
    "tags": []
   },
   "outputs": [
    {
     "name": "stdout",
     "output_type": "stream",
     "text": [
      "Fechas entrenamiento : 2021-01-01 00:00:00 --- 2023-03-31 00:00:00  (n=820)\n",
      "Fechas validacion    : 2023-03-31 00:00:00 --- 2023-06-21 00:00:00  (n=83)\n",
      "Fechas test          : 2023-06-21 00:00:00 --- 2023-12-18 00:00:00  (n=181)\n"
     ]
    }
   ],
   "source": [
    "# Train-validation-test\n",
    "# ======================================================================================\n",
    "fin_train = '2023-03-31'\n",
    "fin_val = '2023-06-21'\n",
    "print(\n",
    "    f\"Fechas entrenamiento : {datos.index.min()} --- {datos.loc[:fin_train].index.max()}  \"\n",
    "    f\"(n={len(datos.loc[:fin_train])})\"\n",
    ")\n",
    "print(\n",
    "    f\"Fechas validacion    : {datos.loc[fin_train:].index.min()} --- {datos.loc[:fin_val].index.max()}  \"\n",
    "    f\"(n={len(datos.loc[fin_train:fin_val])})\"\n",
    ")\n",
    "print(\n",
    "    f\"Fechas test          : {datos.loc[fin_val:].index.min()} --- {datos.index.max()}  \"\n",
    "    f\"(n={len(datos.loc[fin_val:])})\"\n",
    ")\n"
   ]
  },
  {
   "cell_type": "markdown",
   "id": "af0e74be-40b0-44e2-8111-5f7bc2afe1f6",
   "metadata": {
    "tags": []
   },
   "source": [
    "### DEFINITION OF EXOGENOUS VARIABLES"
   ]
  },
  {
   "cell_type": "code",
   "execution_count": 86,
   "id": "3e6c5997-5ab3-432e-a4fc-e51c13874746",
   "metadata": {
    "tags": []
   },
   "outputs": [],
   "source": [
    "exogenas=[\n",
    "       'var_rate_lag_2','var_rate_lag_3','var_rate_lag_4', 'var_rate_lag_5',\n",
    "       'var_rate_lag_6','var_rate_lag_7',\n",
    "       'var_rate_lag_8','var_rate_lag_9',\n",
    "               'var_rate_lag_10','var_rate_lag_11','var_rate_lag_12','var_rate_lag_13', \n",
    "                'var_rate_lag_14','var_rate_lag_15','var_rate_lag_16','var_rate_lag_17',\n",
    "                'var_rate_lag_18','var_rate_lag_19','var_rate_lag_20','var_rate_lag_21',\n",
    "                'var_rate_lag_22','var_rate_lag_23','var_rate_lag_24','var_rate_lag_25',\n",
    "                'var_rate_lag_26','var_rate_lag_27','var_rate_lag_28','var_rate_lag_29', \n",
    "                'ratio_coupon_tx_lag_2', \n",
    "                'ratio_coupon_tx_lag_3', 'ratio_coupon_tx_lag_4', 'ratio_coupon_tx_lag_5', \n",
    "                 'ratio_coupon_tx_lag_6', 'ratio_coupon_tx_lag_7', \n",
    "                'ratio_coupon_tx_lag_8', \n",
    "               'ratio_coupon_tx_lag_9', 'ratio_coupon_tx_lag_10', 'ratio_coupon_tx_lag_11', \n",
    "                'ratio_coupon_tx_lag_12', 'ratio_coupon_tx_lag_13', 'ratio_coupon_tx_lag_14',\n",
    "                'ratio_coupon_tx_lag_15','ratio_coupon_tx_lag_16','ratio_coupon_tx_lag_17', \n",
    "                'ratio_coupon_tx_lag_18','ratio_coupon_tx_lag_19','ratio_coupon_tx_lag_20',\n",
    "                'ratio_coupon_tx_lag_21','ratio_coupon_tx_lag_22','ratio_coupon_tx_lag_23',\n",
    "                'ratio_coupon_tx_lag_24','ratio_coupon_tx_lag_25','ratio_coupon_tx_lag_26',\n",
    "                'ratio_coupon_tx_lag_27','ratio_coupon_tx_lag_28','ratio_coupon_tx_lag_29',\n",
    "                'tx_lag_2', 'tx_lag_3','tx_lag_4', 'tx_lag_5','tx_lag_6', 'tx_lag_7', \n",
    "                'tx_lag_8', 'tx_lag_9', 'tx_lag_10', 'tx_lag_11','tx_lag_12', 'tx_lag_13',\n",
    "                'tx_lag_14', 'tx_lag_15', 'tx_lag_16','tx_lag_17', 'tx_lag_18','tx_lag_19',\n",
    "                'tx_lag_20', 'tx_lag_21',\n",
    "                'var_tx_cancelled_lag_2', 'var_tx_cancelled_lag_3', \n",
    "                'var_tx_cancelled_lag_4', 'var_tx_cancelled_lag_5', 'var_tx_cancelled_lag_6', \n",
    "                'var_tx_cancelled_lag_7', \n",
    "                 'var_tx_cancelled_lag_8', 'var_tx_cancelled_lag_9', \n",
    "                'var_tx_cancelled_lag_10', 'var_tx_cancelled_lag_11', 'var_tx_cancelled_lag_12', \n",
    "                'var_tx_cancelled_lag_13', 'var_tx_cancelled_lag_14','var_tx_cancelled_lag_15', \n",
    "                'var_tx_cancelled_lag_16', 'var_tx_cancelled_lag_17', 'var_tx_cancelled_lag_18',\n",
    "                'var_tx_cancelled_lag_19', 'var_tx_cancelled_lag_20','var_tx_cancelled_lag_21', \n",
    "                'var_tx_cancelled_lag_22','var_tx_cancelled_lag_23', 'var_tx_cancelled_lag_24',\n",
    "                'var_tx_cancelled_lag_25', 'var_tx_cancelled_lag_26','var_tx_cancelled_lag_27', \n",
    "                'var_tx_cancelled_lag_28', 'var_tx_cancelled_lag_29',\n",
    "                'margin_lag_2', 'margin_lag_3', 'margin_lag_4', 'margin_lag_5',\n",
    "               'margin_lag_6', 'margin_lag_7', \n",
    "               'margin_lag_8', 'margin_lag_9',  'margin_lag_10', \n",
    "                'is_holiday',\n",
    "               'is_fourth_of_july',\n",
    "               'var_30ds',\n",
    "               'christmas_day',\n",
    "               'new_year_day',\n",
    "               'post_holiday',\n",
    "               'day_of_the_dead'\n",
    "              ]"
   ]
  },
  {
   "cell_type": "code",
   "execution_count": 87,
   "id": "884e4726-ec48-4e8e-8665-82181b5803b5",
   "metadata": {
    "tags": []
   },
   "outputs": [],
   "source": [
    "datos[exogenas] = datos[exogenas].fillna(0)"
   ]
  },
  {
   "cell_type": "markdown",
   "id": "af5739ef-bddb-4cc3-938d-c4c8bf8bdc75",
   "metadata": {
    "tags": []
   },
   "source": [
    "### SELECTION OF SIGNIFICANT EXOGENOUS VARIABLES"
   ]
  },
  {
   "cell_type": "code",
   "execution_count": 88,
   "id": "a0988760-23bb-4099-bf8c-7d76e1031609",
   "metadata": {
    "tags": []
   },
   "outputs": [
    {
     "name": "stderr",
     "output_type": "stream",
     "text": [
      "/opt/conda/lib/python3.10/site-packages/statsmodels/base/model.py:604: ConvergenceWarning: Maximum Likelihood optimization failed to converge. Check mle_retvals\n",
      "  warnings.warn(\"Maximum Likelihood optimization failed to \"\n"
     ]
    },
    {
     "data": {
      "text/html": [
       "<table class=\"simpletable\">\n",
       "<caption>SARIMAX Results</caption>\n",
       "<tr>\n",
       "  <th>Dep. Variable:</th>              <td>amount</td>             <th>  No. Observations:  </th>     <td>820</td>   \n",
       "</tr>\n",
       "<tr>\n",
       "  <th>Model:</th>           <td>SARIMAX(2, 1, 1)x(2, 1, 1, 7)</td> <th>  Log Likelihood     </th> <td>-11227.217</td>\n",
       "</tr>\n",
       "<tr>\n",
       "  <th>Date:</th>                  <td>Wed, 13 Mar 2024</td>        <th>  AIC                </th>  <td>22708.434</td>\n",
       "</tr>\n",
       "<tr>\n",
       "  <th>Time:</th>                      <td>19:30:32</td>            <th>  BIC                </th>  <td>23305.271</td>\n",
       "</tr>\n",
       "<tr>\n",
       "  <th>Sample:</th>                   <td>01-01-2021</td>           <th>  HQIC               </th>  <td>22937.550</td>\n",
       "</tr>\n",
       "<tr>\n",
       "  <th></th>                         <td>- 03-31-2023</td>          <th>                     </th>      <td> </td>    \n",
       "</tr>\n",
       "<tr>\n",
       "  <th>Covariance Type:</th>              <td>opg</td>              <th>                     </th>      <td> </td>    \n",
       "</tr>\n",
       "</table>\n",
       "<table class=\"simpletable\">\n",
       "<tr>\n",
       "             <td></td>                <th>coef</th>     <th>std err</th>      <th>z</th>      <th>P>|z|</th>  <th>[0.025</th>    <th>0.975]</th>  \n",
       "</tr>\n",
       "<tr>\n",
       "  <th>var_rate_lag_2</th>          <td>-6.982e+05</td> <td> 1446.713</td> <td> -482.606</td> <td> 0.000</td> <td>-7.01e+05</td> <td>-6.95e+05</td>\n",
       "</tr>\n",
       "<tr>\n",
       "  <th>var_rate_lag_3</th>          <td> 1.289e+05</td> <td> 6547.014</td> <td>   19.691</td> <td> 0.000</td> <td> 1.16e+05</td> <td> 1.42e+05</td>\n",
       "</tr>\n",
       "<tr>\n",
       "  <th>var_rate_lag_4</th>          <td>-8.655e+05</td> <td> 2469.374</td> <td> -350.487</td> <td> 0.000</td> <td> -8.7e+05</td> <td>-8.61e+05</td>\n",
       "</tr>\n",
       "<tr>\n",
       "  <th>var_rate_lag_5</th>          <td> 4.735e+05</td> <td> 4651.004</td> <td>  101.807</td> <td> 0.000</td> <td> 4.64e+05</td> <td> 4.83e+05</td>\n",
       "</tr>\n",
       "<tr>\n",
       "  <th>var_rate_lag_6</th>          <td>  8.52e+05</td> <td> 3485.127</td> <td>  244.475</td> <td> 0.000</td> <td> 8.45e+05</td> <td> 8.59e+05</td>\n",
       "</tr>\n",
       "<tr>\n",
       "  <th>var_rate_lag_7</th>          <td> 1.089e+06</td> <td> 3718.442</td> <td>  292.998</td> <td> 0.000</td> <td> 1.08e+06</td> <td>  1.1e+06</td>\n",
       "</tr>\n",
       "<tr>\n",
       "  <th>var_rate_lag_8</th>          <td> 9.411e+05</td> <td> 2676.599</td> <td>  351.604</td> <td> 0.000</td> <td> 9.36e+05</td> <td> 9.46e+05</td>\n",
       "</tr>\n",
       "<tr>\n",
       "  <th>var_rate_lag_9</th>          <td> 2.719e+05</td> <td> 3399.161</td> <td>   79.982</td> <td> 0.000</td> <td> 2.65e+05</td> <td> 2.79e+05</td>\n",
       "</tr>\n",
       "<tr>\n",
       "  <th>var_rate_lag_10</th>         <td> 1.201e+06</td> <td> 3535.474</td> <td>  339.673</td> <td> 0.000</td> <td> 1.19e+06</td> <td> 1.21e+06</td>\n",
       "</tr>\n",
       "<tr>\n",
       "  <th>var_rate_lag_11</th>         <td> 1.156e+06</td> <td> 5056.399</td> <td>  228.612</td> <td> 0.000</td> <td> 1.15e+06</td> <td> 1.17e+06</td>\n",
       "</tr>\n",
       "<tr>\n",
       "  <th>var_rate_lag_12</th>         <td>  2.33e+06</td> <td> 5237.021</td> <td>  444.998</td> <td> 0.000</td> <td> 2.32e+06</td> <td> 2.34e+06</td>\n",
       "</tr>\n",
       "<tr>\n",
       "  <th>var_rate_lag_13</th>         <td> 2.266e+06</td> <td> 4653.913</td> <td>  486.950</td> <td> 0.000</td> <td> 2.26e+06</td> <td> 2.28e+06</td>\n",
       "</tr>\n",
       "<tr>\n",
       "  <th>var_rate_lag_14</th>         <td> 2.207e+06</td> <td> 3210.427</td> <td>  687.581</td> <td> 0.000</td> <td>  2.2e+06</td> <td> 2.21e+06</td>\n",
       "</tr>\n",
       "<tr>\n",
       "  <th>var_rate_lag_15</th>         <td> 2.056e+06</td> <td> 4371.851</td> <td>  470.265</td> <td> 0.000</td> <td> 2.05e+06</td> <td> 2.06e+06</td>\n",
       "</tr>\n",
       "<tr>\n",
       "  <th>var_rate_lag_16</th>         <td> 1.414e+06</td> <td> 2369.009</td> <td>  596.766</td> <td> 0.000</td> <td> 1.41e+06</td> <td> 1.42e+06</td>\n",
       "</tr>\n",
       "<tr>\n",
       "  <th>var_rate_lag_17</th>         <td> 2.008e+06</td> <td> 5822.402</td> <td>  344.930</td> <td> 0.000</td> <td>    2e+06</td> <td> 2.02e+06</td>\n",
       "</tr>\n",
       "<tr>\n",
       "  <th>var_rate_lag_18</th>         <td> 1.412e+06</td> <td> 3340.004</td> <td>  422.886</td> <td> 0.000</td> <td> 1.41e+06</td> <td> 1.42e+06</td>\n",
       "</tr>\n",
       "<tr>\n",
       "  <th>var_rate_lag_19</th>         <td> 1.515e+06</td> <td> 5829.298</td> <td>  259.844</td> <td> 0.000</td> <td>  1.5e+06</td> <td> 1.53e+06</td>\n",
       "</tr>\n",
       "<tr>\n",
       "  <th>var_rate_lag_20</th>         <td> 1.916e+06</td> <td> 4679.704</td> <td>  409.431</td> <td> 0.000</td> <td> 1.91e+06</td> <td> 1.93e+06</td>\n",
       "</tr>\n",
       "<tr>\n",
       "  <th>var_rate_lag_21</th>         <td> 1.836e+06</td> <td> 2530.439</td> <td>  725.526</td> <td> 0.000</td> <td> 1.83e+06</td> <td> 1.84e+06</td>\n",
       "</tr>\n",
       "<tr>\n",
       "  <th>var_rate_lag_22</th>         <td> 1.762e+06</td> <td> 3556.354</td> <td>  495.332</td> <td> 0.000</td> <td> 1.75e+06</td> <td> 1.77e+06</td>\n",
       "</tr>\n",
       "<tr>\n",
       "  <th>var_rate_lag_23</th>         <td> 1.484e+06</td> <td> 2348.040</td> <td>  632.120</td> <td> 0.000</td> <td> 1.48e+06</td> <td> 1.49e+06</td>\n",
       "</tr>\n",
       "<tr>\n",
       "  <th>var_rate_lag_24</th>         <td> 2.008e+06</td> <td> 1725.604</td> <td> 1163.604</td> <td> 0.000</td> <td>    2e+06</td> <td> 2.01e+06</td>\n",
       "</tr>\n",
       "<tr>\n",
       "  <th>var_rate_lag_25</th>         <td> 1.047e+06</td> <td> 5857.570</td> <td>  178.786</td> <td> 0.000</td> <td> 1.04e+06</td> <td> 1.06e+06</td>\n",
       "</tr>\n",
       "<tr>\n",
       "  <th>var_rate_lag_26</th>         <td> 1.594e+06</td> <td> 4286.599</td> <td>  371.822</td> <td> 0.000</td> <td> 1.59e+06</td> <td>  1.6e+06</td>\n",
       "</tr>\n",
       "<tr>\n",
       "  <th>var_rate_lag_27</th>         <td>  1.36e+06</td> <td> 3471.205</td> <td>  391.693</td> <td> 0.000</td> <td> 1.35e+06</td> <td> 1.37e+06</td>\n",
       "</tr>\n",
       "<tr>\n",
       "  <th>var_rate_lag_28</th>         <td> 1.504e+06</td> <td> 2683.145</td> <td>  560.391</td> <td> 0.000</td> <td>  1.5e+06</td> <td> 1.51e+06</td>\n",
       "</tr>\n",
       "<tr>\n",
       "  <th>var_rate_lag_29</th>         <td> 2.694e+05</td> <td> 3503.257</td> <td>   76.897</td> <td> 0.000</td> <td> 2.63e+05</td> <td> 2.76e+05</td>\n",
       "</tr>\n",
       "<tr>\n",
       "  <th>ratio_coupon_tx_lag_2</th>   <td> 3.331e+05</td> <td> 4343.363</td> <td>   76.681</td> <td> 0.000</td> <td> 3.25e+05</td> <td> 3.42e+05</td>\n",
       "</tr>\n",
       "<tr>\n",
       "  <th>ratio_coupon_tx_lag_3</th>   <td> 5.893e+05</td> <td> 4825.184</td> <td>  122.125</td> <td> 0.000</td> <td>  5.8e+05</td> <td> 5.99e+05</td>\n",
       "</tr>\n",
       "<tr>\n",
       "  <th>ratio_coupon_tx_lag_4</th>   <td> 2.109e+05</td> <td> 3349.387</td> <td>   62.963</td> <td> 0.000</td> <td> 2.04e+05</td> <td> 2.17e+05</td>\n",
       "</tr>\n",
       "<tr>\n",
       "  <th>ratio_coupon_tx_lag_5</th>   <td> 6.198e+05</td> <td> 2405.618</td> <td>  257.666</td> <td> 0.000</td> <td> 6.15e+05</td> <td> 6.25e+05</td>\n",
       "</tr>\n",
       "<tr>\n",
       "  <th>ratio_coupon_tx_lag_6</th>   <td> 2.712e+05</td> <td> 1489.700</td> <td>  182.083</td> <td> 0.000</td> <td> 2.68e+05</td> <td> 2.74e+05</td>\n",
       "</tr>\n",
       "<tr>\n",
       "  <th>ratio_coupon_tx_lag_7</th>   <td> 6.867e+05</td> <td> 2124.728</td> <td>  323.196</td> <td> 0.000</td> <td> 6.83e+05</td> <td> 6.91e+05</td>\n",
       "</tr>\n",
       "<tr>\n",
       "  <th>ratio_coupon_tx_lag_8</th>   <td> 1.359e+06</td> <td> 1.79e+04</td> <td>   76.071</td> <td> 0.000</td> <td> 1.32e+06</td> <td> 1.39e+06</td>\n",
       "</tr>\n",
       "<tr>\n",
       "  <th>ratio_coupon_tx_lag_9</th>   <td> 5.229e+05</td> <td> 6478.186</td> <td>   80.714</td> <td> 0.000</td> <td>  5.1e+05</td> <td> 5.36e+05</td>\n",
       "</tr>\n",
       "<tr>\n",
       "  <th>ratio_coupon_tx_lag_10</th>  <td> 7.257e+05</td> <td> 8479.213</td> <td>   85.590</td> <td> 0.000</td> <td> 7.09e+05</td> <td> 7.42e+05</td>\n",
       "</tr>\n",
       "<tr>\n",
       "  <th>ratio_coupon_tx_lag_11</th>  <td> 3.948e+05</td> <td> 4794.038</td> <td>   82.348</td> <td> 0.000</td> <td> 3.85e+05</td> <td> 4.04e+05</td>\n",
       "</tr>\n",
       "<tr>\n",
       "  <th>ratio_coupon_tx_lag_12</th>  <td> 5.554e+05</td> <td> 3899.816</td> <td>  142.429</td> <td> 0.000</td> <td> 5.48e+05</td> <td> 5.63e+05</td>\n",
       "</tr>\n",
       "<tr>\n",
       "  <th>ratio_coupon_tx_lag_13</th>  <td> 1.703e+04</td> <td> 4109.245</td> <td>    4.144</td> <td> 0.000</td> <td> 8975.980</td> <td> 2.51e+04</td>\n",
       "</tr>\n",
       "<tr>\n",
       "  <th>ratio_coupon_tx_lag_14</th>  <td>  6.61e+05</td> <td> 3534.894</td> <td>  186.992</td> <td> 0.000</td> <td> 6.54e+05</td> <td> 6.68e+05</td>\n",
       "</tr>\n",
       "<tr>\n",
       "  <th>ratio_coupon_tx_lag_15</th>  <td> 9.304e+05</td> <td> 1534.538</td> <td>  606.313</td> <td> 0.000</td> <td> 9.27e+05</td> <td> 9.33e+05</td>\n",
       "</tr>\n",
       "<tr>\n",
       "  <th>ratio_coupon_tx_lag_16</th>  <td> 5.341e+05</td> <td> 2830.701</td> <td>  188.696</td> <td> 0.000</td> <td> 5.29e+05</td> <td>  5.4e+05</td>\n",
       "</tr>\n",
       "<tr>\n",
       "  <th>ratio_coupon_tx_lag_17</th>  <td>-2.006e+05</td> <td> 2408.735</td> <td>  -83.265</td> <td> 0.000</td> <td>-2.05e+05</td> <td>-1.96e+05</td>\n",
       "</tr>\n",
       "<tr>\n",
       "  <th>ratio_coupon_tx_lag_18</th>  <td> 9.116e+04</td> <td> 6906.701</td> <td>   13.199</td> <td> 0.000</td> <td> 7.76e+04</td> <td> 1.05e+05</td>\n",
       "</tr>\n",
       "<tr>\n",
       "  <th>ratio_coupon_tx_lag_19</th>  <td> 4.546e+05</td> <td> 3222.678</td> <td>  141.069</td> <td> 0.000</td> <td> 4.48e+05</td> <td> 4.61e+05</td>\n",
       "</tr>\n",
       "<tr>\n",
       "  <th>ratio_coupon_tx_lag_20</th>  <td>-2.718e+04</td> <td> 1804.154</td> <td>  -15.064</td> <td> 0.000</td> <td>-3.07e+04</td> <td>-2.36e+04</td>\n",
       "</tr>\n",
       "<tr>\n",
       "  <th>ratio_coupon_tx_lag_21</th>  <td> 5.857e+05</td> <td> 1852.087</td> <td>  316.213</td> <td> 0.000</td> <td> 5.82e+05</td> <td> 5.89e+05</td>\n",
       "</tr>\n",
       "<tr>\n",
       "  <th>ratio_coupon_tx_lag_22</th>  <td> 5.786e+05</td> <td> 1467.111</td> <td>  394.407</td> <td> 0.000</td> <td> 5.76e+05</td> <td> 5.82e+05</td>\n",
       "</tr>\n",
       "<tr>\n",
       "  <th>ratio_coupon_tx_lag_23</th>  <td> 7.257e+05</td> <td> 1273.379</td> <td>  569.915</td> <td> 0.000</td> <td> 7.23e+05</td> <td> 7.28e+05</td>\n",
       "</tr>\n",
       "<tr>\n",
       "  <th>ratio_coupon_tx_lag_24</th>  <td> -3.29e+05</td> <td> 2313.684</td> <td> -142.179</td> <td> 0.000</td> <td>-3.33e+05</td> <td>-3.24e+05</td>\n",
       "</tr>\n",
       "<tr>\n",
       "  <th>ratio_coupon_tx_lag_25</th>  <td>  2.59e+05</td> <td> 6300.171</td> <td>   41.105</td> <td> 0.000</td> <td> 2.47e+05</td> <td> 2.71e+05</td>\n",
       "</tr>\n",
       "<tr>\n",
       "  <th>ratio_coupon_tx_lag_26</th>  <td>-2.596e+05</td> <td> 3486.530</td> <td>  -74.447</td> <td> 0.000</td> <td>-2.66e+05</td> <td>-2.53e+05</td>\n",
       "</tr>\n",
       "<tr>\n",
       "  <th>ratio_coupon_tx_lag_27</th>  <td> 2.825e+05</td> <td> 1365.167</td> <td>  206.948</td> <td> 0.000</td> <td>  2.8e+05</td> <td> 2.85e+05</td>\n",
       "</tr>\n",
       "<tr>\n",
       "  <th>ratio_coupon_tx_lag_28</th>  <td> 7.206e+04</td> <td> 3875.267</td> <td>   18.596</td> <td> 0.000</td> <td> 6.45e+04</td> <td> 7.97e+04</td>\n",
       "</tr>\n",
       "<tr>\n",
       "  <th>ratio_coupon_tx_lag_29</th>  <td> 2.894e+05</td> <td> 1640.316</td> <td>  176.402</td> <td> 0.000</td> <td> 2.86e+05</td> <td> 2.93e+05</td>\n",
       "</tr>\n",
       "<tr>\n",
       "  <th>tx_lag_2</th>                <td> -136.0308</td> <td>   23.277</td> <td>   -5.844</td> <td> 0.000</td> <td> -181.653</td> <td>  -90.408</td>\n",
       "</tr>\n",
       "<tr>\n",
       "  <th>tx_lag_3</th>                <td> -142.1680</td> <td>   22.488</td> <td>   -6.322</td> <td> 0.000</td> <td> -186.244</td> <td>  -98.092</td>\n",
       "</tr>\n",
       "<tr>\n",
       "  <th>tx_lag_4</th>                <td> -128.0952</td> <td>   29.104</td> <td>   -4.401</td> <td> 0.000</td> <td> -185.139</td> <td>  -71.052</td>\n",
       "</tr>\n",
       "<tr>\n",
       "  <th>tx_lag_5</th>                <td> -107.8527</td> <td>   29.668</td> <td>   -3.635</td> <td> 0.000</td> <td> -166.002</td> <td>  -49.704</td>\n",
       "</tr>\n",
       "<tr>\n",
       "  <th>tx_lag_6</th>                <td>  -83.5565</td> <td>   28.633</td> <td>   -2.918</td> <td> 0.004</td> <td> -139.676</td> <td>  -27.437</td>\n",
       "</tr>\n",
       "<tr>\n",
       "  <th>tx_lag_7</th>                <td> -165.6089</td> <td>   31.701</td> <td>   -5.224</td> <td> 0.000</td> <td> -227.741</td> <td> -103.476</td>\n",
       "</tr>\n",
       "<tr>\n",
       "  <th>tx_lag_8</th>                <td>  -93.0355</td> <td>   25.513</td> <td>   -3.647</td> <td> 0.000</td> <td> -143.040</td> <td>  -43.031</td>\n",
       "</tr>\n",
       "<tr>\n",
       "  <th>tx_lag_9</th>                <td> -131.4904</td> <td>   26.981</td> <td>   -4.873</td> <td> 0.000</td> <td> -184.372</td> <td>  -78.609</td>\n",
       "</tr>\n",
       "<tr>\n",
       "  <th>tx_lag_10</th>               <td> -105.5758</td> <td>   27.982</td> <td>   -3.773</td> <td> 0.000</td> <td> -160.419</td> <td>  -50.733</td>\n",
       "</tr>\n",
       "<tr>\n",
       "  <th>tx_lag_11</th>               <td>  -97.7529</td> <td>   29.938</td> <td>   -3.265</td> <td> 0.001</td> <td> -156.431</td> <td>  -39.075</td>\n",
       "</tr>\n",
       "<tr>\n",
       "  <th>tx_lag_12</th>               <td>  -61.2110</td> <td>   28.261</td> <td>   -2.166</td> <td> 0.030</td> <td> -116.602</td> <td>   -5.820</td>\n",
       "</tr>\n",
       "<tr>\n",
       "  <th>tx_lag_13</th>               <td>  -50.9463</td> <td>   27.426</td> <td>   -1.858</td> <td> 0.063</td> <td> -104.700</td> <td>    2.807</td>\n",
       "</tr>\n",
       "<tr>\n",
       "  <th>tx_lag_14</th>               <td> -102.8497</td> <td>   30.267</td> <td>   -3.398</td> <td> 0.001</td> <td> -162.173</td> <td>  -43.527</td>\n",
       "</tr>\n",
       "<tr>\n",
       "  <th>tx_lag_15</th>               <td>  -22.3827</td> <td>   27.063</td> <td>   -0.827</td> <td> 0.408</td> <td>  -75.425</td> <td>   30.660</td>\n",
       "</tr>\n",
       "<tr>\n",
       "  <th>tx_lag_16</th>               <td>  -79.6168</td> <td>   31.587</td> <td>   -2.521</td> <td> 0.012</td> <td> -141.526</td> <td>  -17.707</td>\n",
       "</tr>\n",
       "<tr>\n",
       "  <th>tx_lag_17</th>               <td>  -38.6201</td> <td>   29.342</td> <td>   -1.316</td> <td> 0.188</td> <td>  -96.129</td> <td>   18.888</td>\n",
       "</tr>\n",
       "<tr>\n",
       "  <th>tx_lag_18</th>               <td>  -29.1549</td> <td>   29.239</td> <td>   -0.997</td> <td> 0.319</td> <td>  -86.463</td> <td>   28.153</td>\n",
       "</tr>\n",
       "<tr>\n",
       "  <th>tx_lag_19</th>               <td>  -27.0874</td> <td>   27.568</td> <td>   -0.983</td> <td> 0.326</td> <td>  -81.120</td> <td>   26.945</td>\n",
       "</tr>\n",
       "<tr>\n",
       "  <th>tx_lag_20</th>               <td>  -25.0221</td> <td>   24.999</td> <td>   -1.001</td> <td> 0.317</td> <td>  -74.019</td> <td>   23.975</td>\n",
       "</tr>\n",
       "<tr>\n",
       "  <th>tx_lag_21</th>               <td>  -48.8035</td> <td>   27.722</td> <td>   -1.760</td> <td> 0.078</td> <td> -103.138</td> <td>    5.531</td>\n",
       "</tr>\n",
       "<tr>\n",
       "  <th>var_tx_cancelled_lag_2</th>  <td>  394.6057</td> <td>  551.297</td> <td>    0.716</td> <td> 0.474</td> <td> -685.917</td> <td> 1475.129</td>\n",
       "</tr>\n",
       "<tr>\n",
       "  <th>var_tx_cancelled_lag_3</th>  <td> 2319.6863</td> <td>  884.918</td> <td>    2.621</td> <td> 0.009</td> <td>  585.280</td> <td> 4054.093</td>\n",
       "</tr>\n",
       "<tr>\n",
       "  <th>var_tx_cancelled_lag_4</th>  <td> 3363.2111</td> <td> 1163.517</td> <td>    2.891</td> <td> 0.004</td> <td> 1082.760</td> <td> 5643.663</td>\n",
       "</tr>\n",
       "<tr>\n",
       "  <th>var_tx_cancelled_lag_5</th>  <td> 4009.3394</td> <td> 1469.767</td> <td>    2.728</td> <td> 0.006</td> <td> 1128.649</td> <td> 6890.030</td>\n",
       "</tr>\n",
       "<tr>\n",
       "  <th>var_tx_cancelled_lag_6</th>  <td> 4525.7610</td> <td> 1780.789</td> <td>    2.541</td> <td> 0.011</td> <td> 1035.479</td> <td> 8016.043</td>\n",
       "</tr>\n",
       "<tr>\n",
       "  <th>var_tx_cancelled_lag_7</th>  <td> 5351.7003</td> <td> 2046.323</td> <td>    2.615</td> <td> 0.009</td> <td> 1340.982</td> <td> 9362.419</td>\n",
       "</tr>\n",
       "<tr>\n",
       "  <th>var_tx_cancelled_lag_8</th>  <td> 5902.8157</td> <td> 2272.249</td> <td>    2.598</td> <td> 0.009</td> <td> 1449.290</td> <td> 1.04e+04</td>\n",
       "</tr>\n",
       "<tr>\n",
       "  <th>var_tx_cancelled_lag_9</th>  <td> 6869.0411</td> <td> 2459.269</td> <td>    2.793</td> <td> 0.005</td> <td> 2048.963</td> <td> 1.17e+04</td>\n",
       "</tr>\n",
       "<tr>\n",
       "  <th>var_tx_cancelled_lag_10</th> <td> 7678.5366</td> <td> 2669.689</td> <td>    2.876</td> <td> 0.004</td> <td> 2446.043</td> <td> 1.29e+04</td>\n",
       "</tr>\n",
       "<tr>\n",
       "  <th>var_tx_cancelled_lag_11</th> <td> 8318.2787</td> <td> 2794.945</td> <td>    2.976</td> <td> 0.003</td> <td> 2840.287</td> <td> 1.38e+04</td>\n",
       "</tr>\n",
       "<tr>\n",
       "  <th>var_tx_cancelled_lag_12</th> <td> 7955.3820</td> <td> 2951.844</td> <td>    2.695</td> <td> 0.007</td> <td> 2169.873</td> <td> 1.37e+04</td>\n",
       "</tr>\n",
       "<tr>\n",
       "  <th>var_tx_cancelled_lag_13</th> <td> 7394.0669</td> <td> 3087.425</td> <td>    2.395</td> <td> 0.017</td> <td> 1342.825</td> <td> 1.34e+04</td>\n",
       "</tr>\n",
       "<tr>\n",
       "  <th>var_tx_cancelled_lag_14</th> <td> 7905.5519</td> <td> 3123.672</td> <td>    2.531</td> <td> 0.011</td> <td> 1783.267</td> <td>  1.4e+04</td>\n",
       "</tr>\n",
       "<tr>\n",
       "  <th>var_tx_cancelled_lag_15</th> <td> 7710.6592</td> <td> 3114.401</td> <td>    2.476</td> <td> 0.013</td> <td> 1606.546</td> <td> 1.38e+04</td>\n",
       "</tr>\n",
       "<tr>\n",
       "  <th>var_tx_cancelled_lag_16</th> <td> 7990.8689</td> <td> 3052.153</td> <td>    2.618</td> <td> 0.009</td> <td> 2008.758</td> <td>  1.4e+04</td>\n",
       "</tr>\n",
       "<tr>\n",
       "  <th>var_tx_cancelled_lag_17</th> <td> 8083.4126</td> <td> 3064.842</td> <td>    2.637</td> <td> 0.008</td> <td> 2076.432</td> <td> 1.41e+04</td>\n",
       "</tr>\n",
       "<tr>\n",
       "  <th>var_tx_cancelled_lag_18</th> <td> 7322.9390</td> <td> 2949.299</td> <td>    2.483</td> <td> 0.013</td> <td> 1542.420</td> <td> 1.31e+04</td>\n",
       "</tr>\n",
       "<tr>\n",
       "  <th>var_tx_cancelled_lag_19</th> <td> 6532.1316</td> <td> 2790.929</td> <td>    2.340</td> <td> 0.019</td> <td> 1062.012</td> <td>  1.2e+04</td>\n",
       "</tr>\n",
       "<tr>\n",
       "  <th>var_tx_cancelled_lag_20</th> <td> 5451.1494</td> <td> 2561.196</td> <td>    2.128</td> <td> 0.033</td> <td>  431.297</td> <td> 1.05e+04</td>\n",
       "</tr>\n",
       "<tr>\n",
       "  <th>var_tx_cancelled_lag_21</th> <td> 4912.5448</td> <td> 2302.073</td> <td>    2.134</td> <td> 0.033</td> <td>  400.565</td> <td> 9424.524</td>\n",
       "</tr>\n",
       "<tr>\n",
       "  <th>var_tx_cancelled_lag_22</th> <td> 4076.2947</td> <td> 2089.002</td> <td>    1.951</td> <td> 0.051</td> <td>  -18.074</td> <td> 8170.664</td>\n",
       "</tr>\n",
       "<tr>\n",
       "  <th>var_tx_cancelled_lag_23</th> <td> 3131.5002</td> <td> 1775.358</td> <td>    1.764</td> <td> 0.078</td> <td> -348.137</td> <td> 6611.138</td>\n",
       "</tr>\n",
       "<tr>\n",
       "  <th>var_tx_cancelled_lag_24</th> <td> 2493.8924</td> <td> 1577.534</td> <td>    1.581</td> <td> 0.114</td> <td> -598.018</td> <td> 5585.803</td>\n",
       "</tr>\n",
       "<tr>\n",
       "  <th>var_tx_cancelled_lag_25</th> <td> 1901.0942</td> <td> 1366.725</td> <td>    1.391</td> <td> 0.164</td> <td> -777.638</td> <td> 4579.827</td>\n",
       "</tr>\n",
       "<tr>\n",
       "  <th>var_tx_cancelled_lag_26</th> <td> 1324.1379</td> <td> 1075.522</td> <td>    1.231</td> <td> 0.218</td> <td> -783.847</td> <td> 3432.122</td>\n",
       "</tr>\n",
       "<tr>\n",
       "  <th>var_tx_cancelled_lag_27</th> <td>  929.5802</td> <td>  849.178</td> <td>    1.095</td> <td> 0.274</td> <td> -734.779</td> <td> 2593.939</td>\n",
       "</tr>\n",
       "<tr>\n",
       "  <th>var_tx_cancelled_lag_28</th> <td>  517.6484</td> <td>  579.834</td> <td>    0.893</td> <td> 0.372</td> <td> -618.806</td> <td> 1654.103</td>\n",
       "</tr>\n",
       "<tr>\n",
       "  <th>var_tx_cancelled_lag_29</th> <td>  312.4634</td> <td>  420.452</td> <td>    0.743</td> <td> 0.457</td> <td> -511.608</td> <td> 1136.535</td>\n",
       "</tr>\n",
       "<tr>\n",
       "  <th>margin_lag_2</th>            <td>-2.502e+04</td> <td>    5e+04</td> <td>   -0.500</td> <td> 0.617</td> <td>-1.23e+05</td> <td>  7.3e+04</td>\n",
       "</tr>\n",
       "<tr>\n",
       "  <th>margin_lag_3</th>            <td>  4.94e+04</td> <td> 5.22e+04</td> <td>    0.946</td> <td> 0.344</td> <td>-5.29e+04</td> <td> 1.52e+05</td>\n",
       "</tr>\n",
       "<tr>\n",
       "  <th>margin_lag_4</th>            <td> 1.505e+04</td> <td> 5.14e+04</td> <td>    0.293</td> <td> 0.770</td> <td>-8.58e+04</td> <td> 1.16e+05</td>\n",
       "</tr>\n",
       "<tr>\n",
       "  <th>margin_lag_5</th>            <td> 2.371e+04</td> <td> 5.24e+04</td> <td>    0.452</td> <td> 0.651</td> <td>-7.91e+04</td> <td> 1.26e+05</td>\n",
       "</tr>\n",
       "<tr>\n",
       "  <th>margin_lag_6</th>            <td>-3.815e+04</td> <td> 5.06e+04</td> <td>   -0.754</td> <td> 0.451</td> <td>-1.37e+05</td> <td>  6.1e+04</td>\n",
       "</tr>\n",
       "<tr>\n",
       "  <th>margin_lag_7</th>            <td>-1.504e+04</td> <td> 5.46e+04</td> <td>   -0.276</td> <td> 0.783</td> <td>-1.22e+05</td> <td> 9.19e+04</td>\n",
       "</tr>\n",
       "<tr>\n",
       "  <th>margin_lag_8</th>            <td>-2.822e+04</td> <td> 4.77e+04</td> <td>   -0.592</td> <td> 0.554</td> <td>-1.22e+05</td> <td> 6.52e+04</td>\n",
       "</tr>\n",
       "<tr>\n",
       "  <th>margin_lag_9</th>            <td>-6.086e+04</td> <td> 4.59e+04</td> <td>   -1.326</td> <td> 0.185</td> <td>-1.51e+05</td> <td> 2.91e+04</td>\n",
       "</tr>\n",
       "<tr>\n",
       "  <th>margin_lag_10</th>           <td>-8.265e+04</td> <td> 4.69e+04</td> <td>   -1.762</td> <td> 0.078</td> <td>-1.75e+05</td> <td> 9290.125</td>\n",
       "</tr>\n",
       "<tr>\n",
       "  <th>is_holiday</th>              <td> 6.985e+04</td> <td> 1.02e+05</td> <td>    0.684</td> <td> 0.494</td> <td> -1.3e+05</td> <td>  2.7e+05</td>\n",
       "</tr>\n",
       "<tr>\n",
       "  <th>is_fourth_of_july</th>       <td>-7.904e+05</td> <td>  1.3e+05</td> <td>   -6.069</td> <td> 0.000</td> <td>-1.05e+06</td> <td>-5.35e+05</td>\n",
       "</tr>\n",
       "<tr>\n",
       "  <th>var_30ds</th>                <td> 4.046e+05</td> <td> 9.02e+04</td> <td>    4.486</td> <td> 0.000</td> <td> 2.28e+05</td> <td> 5.81e+05</td>\n",
       "</tr>\n",
       "<tr>\n",
       "  <th>christmas_day</th>           <td>-1.271e+06</td> <td> 7.49e+04</td> <td>  -16.980</td> <td> 0.000</td> <td>-1.42e+06</td> <td>-1.12e+06</td>\n",
       "</tr>\n",
       "<tr>\n",
       "  <th>new_year_day</th>            <td>-1.473e+06</td> <td> 1.12e+05</td> <td>  -13.101</td> <td> 0.000</td> <td>-1.69e+06</td> <td>-1.25e+06</td>\n",
       "</tr>\n",
       "<tr>\n",
       "  <th>post_holiday</th>            <td> 3.111e+05</td> <td> 6.46e+04</td> <td>    4.818</td> <td> 0.000</td> <td> 1.85e+05</td> <td> 4.38e+05</td>\n",
       "</tr>\n",
       "<tr>\n",
       "  <th>day_of_the_dead</th>         <td>         0</td> <td> 7899.875</td> <td>        0</td> <td> 1.000</td> <td>-1.55e+04</td> <td> 1.55e+04</td>\n",
       "</tr>\n",
       "<tr>\n",
       "  <th>ar.L1</th>                   <td>    0.7398</td> <td>    0.040</td> <td>   18.333</td> <td> 0.000</td> <td>    0.661</td> <td>    0.819</td>\n",
       "</tr>\n",
       "<tr>\n",
       "  <th>ar.L2</th>                   <td>    0.1766</td> <td>    0.054</td> <td>    3.283</td> <td> 0.001</td> <td>    0.071</td> <td>    0.282</td>\n",
       "</tr>\n",
       "<tr>\n",
       "  <th>ma.L1</th>                   <td>   -0.9879</td> <td>    0.022</td> <td>  -45.266</td> <td> 0.000</td> <td>   -1.031</td> <td>   -0.945</td>\n",
       "</tr>\n",
       "<tr>\n",
       "  <th>ar.S.L7</th>                 <td>    0.4106</td> <td>    0.096</td> <td>    4.284</td> <td> 0.000</td> <td>    0.223</td> <td>    0.598</td>\n",
       "</tr>\n",
       "<tr>\n",
       "  <th>ar.S.L14</th>                <td>    0.0711</td> <td>    0.089</td> <td>    0.801</td> <td> 0.423</td> <td>   -0.103</td> <td>    0.245</td>\n",
       "</tr>\n",
       "<tr>\n",
       "  <th>ma.S.L7</th>                 <td>   -0.8537</td> <td>    0.059</td> <td>  -14.387</td> <td> 0.000</td> <td>   -0.970</td> <td>   -0.737</td>\n",
       "</tr>\n",
       "<tr>\n",
       "  <th>sigma2</th>                  <td> 7.068e+10</td> <td>    0.476</td> <td> 1.48e+11</td> <td> 0.000</td> <td> 7.07e+10</td> <td> 7.07e+10</td>\n",
       "</tr>\n",
       "</table>\n",
       "<table class=\"simpletable\">\n",
       "<tr>\n",
       "  <th>Ljung-Box (L1) (Q):</th>     <td>0.94</td> <th>  Jarque-Bera (JB):  </th> <td>1553.05</td>\n",
       "</tr>\n",
       "<tr>\n",
       "  <th>Prob(Q):</th>                <td>0.33</td> <th>  Prob(JB):          </th>  <td>0.00</td>  \n",
       "</tr>\n",
       "<tr>\n",
       "  <th>Heteroskedasticity (H):</th> <td>3.10</td> <th>  Skew:              </th>  <td>-0.47</td> \n",
       "</tr>\n",
       "<tr>\n",
       "  <th>Prob(H) (two-sided):</th>    <td>0.00</td> <th>  Kurtosis:          </th>  <td>9.71</td>  \n",
       "</tr>\n",
       "</table><br/><br/>Warnings:<br/>[1] Covariance matrix calculated using the outer product of gradients (complex-step).<br/>[2] Covariance matrix is singular or near-singular, with condition number 7.43e+27. Standard errors may be unstable."
      ],
      "text/plain": [
       "<class 'statsmodels.iolib.summary.Summary'>\n",
       "\"\"\"\n",
       "                                     SARIMAX Results                                     \n",
       "=========================================================================================\n",
       "Dep. Variable:                            amount   No. Observations:                  820\n",
       "Model:             SARIMAX(2, 1, 1)x(2, 1, 1, 7)   Log Likelihood              -11227.217\n",
       "Date:                           Wed, 13 Mar 2024   AIC                          22708.434\n",
       "Time:                                   19:30:32   BIC                          23305.271\n",
       "Sample:                               01-01-2021   HQIC                         22937.550\n",
       "                                    - 03-31-2023                                         \n",
       "Covariance Type:                             opg                                         \n",
       "===========================================================================================\n",
       "                              coef    std err          z      P>|z|      [0.025      0.975]\n",
       "-------------------------------------------------------------------------------------------\n",
       "var_rate_lag_2          -6.982e+05   1446.713   -482.606      0.000   -7.01e+05   -6.95e+05\n",
       "var_rate_lag_3           1.289e+05   6547.014     19.691      0.000    1.16e+05    1.42e+05\n",
       "var_rate_lag_4          -8.655e+05   2469.374   -350.487      0.000    -8.7e+05   -8.61e+05\n",
       "var_rate_lag_5           4.735e+05   4651.004    101.807      0.000    4.64e+05    4.83e+05\n",
       "var_rate_lag_6            8.52e+05   3485.127    244.475      0.000    8.45e+05    8.59e+05\n",
       "var_rate_lag_7           1.089e+06   3718.442    292.998      0.000    1.08e+06     1.1e+06\n",
       "var_rate_lag_8           9.411e+05   2676.599    351.604      0.000    9.36e+05    9.46e+05\n",
       "var_rate_lag_9           2.719e+05   3399.161     79.982      0.000    2.65e+05    2.79e+05\n",
       "var_rate_lag_10          1.201e+06   3535.474    339.673      0.000    1.19e+06    1.21e+06\n",
       "var_rate_lag_11          1.156e+06   5056.399    228.612      0.000    1.15e+06    1.17e+06\n",
       "var_rate_lag_12           2.33e+06   5237.021    444.998      0.000    2.32e+06    2.34e+06\n",
       "var_rate_lag_13          2.266e+06   4653.913    486.950      0.000    2.26e+06    2.28e+06\n",
       "var_rate_lag_14          2.207e+06   3210.427    687.581      0.000     2.2e+06    2.21e+06\n",
       "var_rate_lag_15          2.056e+06   4371.851    470.265      0.000    2.05e+06    2.06e+06\n",
       "var_rate_lag_16          1.414e+06   2369.009    596.766      0.000    1.41e+06    1.42e+06\n",
       "var_rate_lag_17          2.008e+06   5822.402    344.930      0.000       2e+06    2.02e+06\n",
       "var_rate_lag_18          1.412e+06   3340.004    422.886      0.000    1.41e+06    1.42e+06\n",
       "var_rate_lag_19          1.515e+06   5829.298    259.844      0.000     1.5e+06    1.53e+06\n",
       "var_rate_lag_20          1.916e+06   4679.704    409.431      0.000    1.91e+06    1.93e+06\n",
       "var_rate_lag_21          1.836e+06   2530.439    725.526      0.000    1.83e+06    1.84e+06\n",
       "var_rate_lag_22          1.762e+06   3556.354    495.332      0.000    1.75e+06    1.77e+06\n",
       "var_rate_lag_23          1.484e+06   2348.040    632.120      0.000    1.48e+06    1.49e+06\n",
       "var_rate_lag_24          2.008e+06   1725.604   1163.604      0.000       2e+06    2.01e+06\n",
       "var_rate_lag_25          1.047e+06   5857.570    178.786      0.000    1.04e+06    1.06e+06\n",
       "var_rate_lag_26          1.594e+06   4286.599    371.822      0.000    1.59e+06     1.6e+06\n",
       "var_rate_lag_27           1.36e+06   3471.205    391.693      0.000    1.35e+06    1.37e+06\n",
       "var_rate_lag_28          1.504e+06   2683.145    560.391      0.000     1.5e+06    1.51e+06\n",
       "var_rate_lag_29          2.694e+05   3503.257     76.897      0.000    2.63e+05    2.76e+05\n",
       "ratio_coupon_tx_lag_2    3.331e+05   4343.363     76.681      0.000    3.25e+05    3.42e+05\n",
       "ratio_coupon_tx_lag_3    5.893e+05   4825.184    122.125      0.000     5.8e+05    5.99e+05\n",
       "ratio_coupon_tx_lag_4    2.109e+05   3349.387     62.963      0.000    2.04e+05    2.17e+05\n",
       "ratio_coupon_tx_lag_5    6.198e+05   2405.618    257.666      0.000    6.15e+05    6.25e+05\n",
       "ratio_coupon_tx_lag_6    2.712e+05   1489.700    182.083      0.000    2.68e+05    2.74e+05\n",
       "ratio_coupon_tx_lag_7    6.867e+05   2124.728    323.196      0.000    6.83e+05    6.91e+05\n",
       "ratio_coupon_tx_lag_8    1.359e+06   1.79e+04     76.071      0.000    1.32e+06    1.39e+06\n",
       "ratio_coupon_tx_lag_9    5.229e+05   6478.186     80.714      0.000     5.1e+05    5.36e+05\n",
       "ratio_coupon_tx_lag_10   7.257e+05   8479.213     85.590      0.000    7.09e+05    7.42e+05\n",
       "ratio_coupon_tx_lag_11   3.948e+05   4794.038     82.348      0.000    3.85e+05    4.04e+05\n",
       "ratio_coupon_tx_lag_12   5.554e+05   3899.816    142.429      0.000    5.48e+05    5.63e+05\n",
       "ratio_coupon_tx_lag_13   1.703e+04   4109.245      4.144      0.000    8975.980    2.51e+04\n",
       "ratio_coupon_tx_lag_14    6.61e+05   3534.894    186.992      0.000    6.54e+05    6.68e+05\n",
       "ratio_coupon_tx_lag_15   9.304e+05   1534.538    606.313      0.000    9.27e+05    9.33e+05\n",
       "ratio_coupon_tx_lag_16   5.341e+05   2830.701    188.696      0.000    5.29e+05     5.4e+05\n",
       "ratio_coupon_tx_lag_17  -2.006e+05   2408.735    -83.265      0.000   -2.05e+05   -1.96e+05\n",
       "ratio_coupon_tx_lag_18   9.116e+04   6906.701     13.199      0.000    7.76e+04    1.05e+05\n",
       "ratio_coupon_tx_lag_19   4.546e+05   3222.678    141.069      0.000    4.48e+05    4.61e+05\n",
       "ratio_coupon_tx_lag_20  -2.718e+04   1804.154    -15.064      0.000   -3.07e+04   -2.36e+04\n",
       "ratio_coupon_tx_lag_21   5.857e+05   1852.087    316.213      0.000    5.82e+05    5.89e+05\n",
       "ratio_coupon_tx_lag_22   5.786e+05   1467.111    394.407      0.000    5.76e+05    5.82e+05\n",
       "ratio_coupon_tx_lag_23   7.257e+05   1273.379    569.915      0.000    7.23e+05    7.28e+05\n",
       "ratio_coupon_tx_lag_24   -3.29e+05   2313.684   -142.179      0.000   -3.33e+05   -3.24e+05\n",
       "ratio_coupon_tx_lag_25    2.59e+05   6300.171     41.105      0.000    2.47e+05    2.71e+05\n",
       "ratio_coupon_tx_lag_26  -2.596e+05   3486.530    -74.447      0.000   -2.66e+05   -2.53e+05\n",
       "ratio_coupon_tx_lag_27   2.825e+05   1365.167    206.948      0.000     2.8e+05    2.85e+05\n",
       "ratio_coupon_tx_lag_28   7.206e+04   3875.267     18.596      0.000    6.45e+04    7.97e+04\n",
       "ratio_coupon_tx_lag_29   2.894e+05   1640.316    176.402      0.000    2.86e+05    2.93e+05\n",
       "tx_lag_2                 -136.0308     23.277     -5.844      0.000    -181.653     -90.408\n",
       "tx_lag_3                 -142.1680     22.488     -6.322      0.000    -186.244     -98.092\n",
       "tx_lag_4                 -128.0952     29.104     -4.401      0.000    -185.139     -71.052\n",
       "tx_lag_5                 -107.8527     29.668     -3.635      0.000    -166.002     -49.704\n",
       "tx_lag_6                  -83.5565     28.633     -2.918      0.004    -139.676     -27.437\n",
       "tx_lag_7                 -165.6089     31.701     -5.224      0.000    -227.741    -103.476\n",
       "tx_lag_8                  -93.0355     25.513     -3.647      0.000    -143.040     -43.031\n",
       "tx_lag_9                 -131.4904     26.981     -4.873      0.000    -184.372     -78.609\n",
       "tx_lag_10                -105.5758     27.982     -3.773      0.000    -160.419     -50.733\n",
       "tx_lag_11                 -97.7529     29.938     -3.265      0.001    -156.431     -39.075\n",
       "tx_lag_12                 -61.2110     28.261     -2.166      0.030    -116.602      -5.820\n",
       "tx_lag_13                 -50.9463     27.426     -1.858      0.063    -104.700       2.807\n",
       "tx_lag_14                -102.8497     30.267     -3.398      0.001    -162.173     -43.527\n",
       "tx_lag_15                 -22.3827     27.063     -0.827      0.408     -75.425      30.660\n",
       "tx_lag_16                 -79.6168     31.587     -2.521      0.012    -141.526     -17.707\n",
       "tx_lag_17                 -38.6201     29.342     -1.316      0.188     -96.129      18.888\n",
       "tx_lag_18                 -29.1549     29.239     -0.997      0.319     -86.463      28.153\n",
       "tx_lag_19                 -27.0874     27.568     -0.983      0.326     -81.120      26.945\n",
       "tx_lag_20                 -25.0221     24.999     -1.001      0.317     -74.019      23.975\n",
       "tx_lag_21                 -48.8035     27.722     -1.760      0.078    -103.138       5.531\n",
       "var_tx_cancelled_lag_2    394.6057    551.297      0.716      0.474    -685.917    1475.129\n",
       "var_tx_cancelled_lag_3   2319.6863    884.918      2.621      0.009     585.280    4054.093\n",
       "var_tx_cancelled_lag_4   3363.2111   1163.517      2.891      0.004    1082.760    5643.663\n",
       "var_tx_cancelled_lag_5   4009.3394   1469.767      2.728      0.006    1128.649    6890.030\n",
       "var_tx_cancelled_lag_6   4525.7610   1780.789      2.541      0.011    1035.479    8016.043\n",
       "var_tx_cancelled_lag_7   5351.7003   2046.323      2.615      0.009    1340.982    9362.419\n",
       "var_tx_cancelled_lag_8   5902.8157   2272.249      2.598      0.009    1449.290    1.04e+04\n",
       "var_tx_cancelled_lag_9   6869.0411   2459.269      2.793      0.005    2048.963    1.17e+04\n",
       "var_tx_cancelled_lag_10  7678.5366   2669.689      2.876      0.004    2446.043    1.29e+04\n",
       "var_tx_cancelled_lag_11  8318.2787   2794.945      2.976      0.003    2840.287    1.38e+04\n",
       "var_tx_cancelled_lag_12  7955.3820   2951.844      2.695      0.007    2169.873    1.37e+04\n",
       "var_tx_cancelled_lag_13  7394.0669   3087.425      2.395      0.017    1342.825    1.34e+04\n",
       "var_tx_cancelled_lag_14  7905.5519   3123.672      2.531      0.011    1783.267     1.4e+04\n",
       "var_tx_cancelled_lag_15  7710.6592   3114.401      2.476      0.013    1606.546    1.38e+04\n",
       "var_tx_cancelled_lag_16  7990.8689   3052.153      2.618      0.009    2008.758     1.4e+04\n",
       "var_tx_cancelled_lag_17  8083.4126   3064.842      2.637      0.008    2076.432    1.41e+04\n",
       "var_tx_cancelled_lag_18  7322.9390   2949.299      2.483      0.013    1542.420    1.31e+04\n",
       "var_tx_cancelled_lag_19  6532.1316   2790.929      2.340      0.019    1062.012     1.2e+04\n",
       "var_tx_cancelled_lag_20  5451.1494   2561.196      2.128      0.033     431.297    1.05e+04\n",
       "var_tx_cancelled_lag_21  4912.5448   2302.073      2.134      0.033     400.565    9424.524\n",
       "var_tx_cancelled_lag_22  4076.2947   2089.002      1.951      0.051     -18.074    8170.664\n",
       "var_tx_cancelled_lag_23  3131.5002   1775.358      1.764      0.078    -348.137    6611.138\n",
       "var_tx_cancelled_lag_24  2493.8924   1577.534      1.581      0.114    -598.018    5585.803\n",
       "var_tx_cancelled_lag_25  1901.0942   1366.725      1.391      0.164    -777.638    4579.827\n",
       "var_tx_cancelled_lag_26  1324.1379   1075.522      1.231      0.218    -783.847    3432.122\n",
       "var_tx_cancelled_lag_27   929.5802    849.178      1.095      0.274    -734.779    2593.939\n",
       "var_tx_cancelled_lag_28   517.6484    579.834      0.893      0.372    -618.806    1654.103\n",
       "var_tx_cancelled_lag_29   312.4634    420.452      0.743      0.457    -511.608    1136.535\n",
       "margin_lag_2            -2.502e+04      5e+04     -0.500      0.617   -1.23e+05     7.3e+04\n",
       "margin_lag_3              4.94e+04   5.22e+04      0.946      0.344   -5.29e+04    1.52e+05\n",
       "margin_lag_4             1.505e+04   5.14e+04      0.293      0.770   -8.58e+04    1.16e+05\n",
       "margin_lag_5             2.371e+04   5.24e+04      0.452      0.651   -7.91e+04    1.26e+05\n",
       "margin_lag_6            -3.815e+04   5.06e+04     -0.754      0.451   -1.37e+05     6.1e+04\n",
       "margin_lag_7            -1.504e+04   5.46e+04     -0.276      0.783   -1.22e+05    9.19e+04\n",
       "margin_lag_8            -2.822e+04   4.77e+04     -0.592      0.554   -1.22e+05    6.52e+04\n",
       "margin_lag_9            -6.086e+04   4.59e+04     -1.326      0.185   -1.51e+05    2.91e+04\n",
       "margin_lag_10           -8.265e+04   4.69e+04     -1.762      0.078   -1.75e+05    9290.125\n",
       "is_holiday               6.985e+04   1.02e+05      0.684      0.494    -1.3e+05     2.7e+05\n",
       "is_fourth_of_july       -7.904e+05    1.3e+05     -6.069      0.000   -1.05e+06   -5.35e+05\n",
       "var_30ds                 4.046e+05   9.02e+04      4.486      0.000    2.28e+05    5.81e+05\n",
       "christmas_day           -1.271e+06   7.49e+04    -16.980      0.000   -1.42e+06   -1.12e+06\n",
       "new_year_day            -1.473e+06   1.12e+05    -13.101      0.000   -1.69e+06   -1.25e+06\n",
       "post_holiday             3.111e+05   6.46e+04      4.818      0.000    1.85e+05    4.38e+05\n",
       "day_of_the_dead                  0   7899.875          0      1.000   -1.55e+04    1.55e+04\n",
       "ar.L1                       0.7398      0.040     18.333      0.000       0.661       0.819\n",
       "ar.L2                       0.1766      0.054      3.283      0.001       0.071       0.282\n",
       "ma.L1                      -0.9879      0.022    -45.266      0.000      -1.031      -0.945\n",
       "ar.S.L7                     0.4106      0.096      4.284      0.000       0.223       0.598\n",
       "ar.S.L14                    0.0711      0.089      0.801      0.423      -0.103       0.245\n",
       "ma.S.L7                    -0.8537      0.059    -14.387      0.000      -0.970      -0.737\n",
       "sigma2                   7.068e+10      0.476   1.48e+11      0.000    7.07e+10    7.07e+10\n",
       "===================================================================================\n",
       "Ljung-Box (L1) (Q):                   0.94   Jarque-Bera (JB):              1553.05\n",
       "Prob(Q):                              0.33   Prob(JB):                         0.00\n",
       "Heteroskedasticity (H):               3.10   Skew:                            -0.47\n",
       "Prob(H) (two-sided):                  0.00   Kurtosis:                         9.71\n",
       "===================================================================================\n",
       "\n",
       "Warnings:\n",
       "[1] Covariance matrix calculated using the outer product of gradients (complex-step).\n",
       "[2] Covariance matrix is singular or near-singular, with condition number 7.43e+27. Standard errors may be unstable.\n",
       "\"\"\""
      ]
     },
     "execution_count": 88,
     "metadata": {},
     "output_type": "execute_result"
    }
   ],
   "source": [
    "# Modelo SARIMAX con skforecast.Sarimax\n",
    "# ==============================================================================\n",
    "warnings.filterwarnings(\"ignore\", category=UserWarning, message='Non-invertible|Non-stationary')\n",
    "modelo = Sarimax(order=(2, 1, 1), seasonal_order=(2, 1, 1, 7))\n",
    "modelo.fit(y=datos['amount'].loc[:fin_train], exog=datos[exogenas].loc[:fin_train] )\n",
    "modelo.summary()\n",
    "#warnings.filterwarnings(\"default\")"
   ]
  },
  {
   "cell_type": "code",
   "execution_count": 89,
   "id": "4309e120-af2f-4a3d-a1ba-727096123808",
   "metadata": {
    "tags": []
   },
   "outputs": [],
   "source": [
    "#with open(f'sarimax_summary_{payer}_7d_12_03.txt', 'w') as f:\n",
    "    #f.write(modelo.summary().as_text())_"
   ]
  },
  {
   "cell_type": "code",
   "execution_count": 90,
   "id": "113dc265-2bd2-4fea-af3c-9cb1aa2af655",
   "metadata": {
    "tags": []
   },
   "outputs": [
    {
     "name": "stdout",
     "output_type": "stream",
     "text": [
      "['var_rate_lag_2', 'var_rate_lag_3', 'var_rate_lag_4', 'var_rate_lag_5', 'var_rate_lag_6', 'var_rate_lag_7', 'var_rate_lag_8', 'var_rate_lag_9', 'var_rate_lag_10', 'var_rate_lag_11', 'var_rate_lag_12', 'var_rate_lag_13', 'var_rate_lag_14', 'var_rate_lag_15', 'var_rate_lag_16', 'var_rate_lag_17', 'var_rate_lag_18', 'var_rate_lag_19', 'var_rate_lag_20', 'var_rate_lag_21', 'var_rate_lag_22', 'var_rate_lag_23', 'var_rate_lag_24', 'var_rate_lag_25', 'var_rate_lag_26', 'var_rate_lag_27', 'var_rate_lag_28', 'var_rate_lag_29', 'ratio_coupon_tx_lag_2', 'ratio_coupon_tx_lag_3', 'ratio_coupon_tx_lag_4', 'ratio_coupon_tx_lag_5', 'ratio_coupon_tx_lag_6', 'ratio_coupon_tx_lag_7', 'ratio_coupon_tx_lag_8', 'ratio_coupon_tx_lag_9', 'ratio_coupon_tx_lag_10', 'ratio_coupon_tx_lag_11', 'ratio_coupon_tx_lag_12', 'ratio_coupon_tx_lag_13', 'ratio_coupon_tx_lag_14', 'ratio_coupon_tx_lag_15', 'ratio_coupon_tx_lag_16', 'ratio_coupon_tx_lag_17', 'ratio_coupon_tx_lag_18', 'ratio_coupon_tx_lag_19', 'ratio_coupon_tx_lag_20', 'ratio_coupon_tx_lag_21', 'ratio_coupon_tx_lag_22', 'ratio_coupon_tx_lag_23', 'ratio_coupon_tx_lag_24', 'ratio_coupon_tx_lag_25', 'ratio_coupon_tx_lag_26', 'ratio_coupon_tx_lag_27', 'ratio_coupon_tx_lag_28', 'ratio_coupon_tx_lag_29', 'tx_lag_2', 'tx_lag_3', 'tx_lag_4', 'tx_lag_5', 'tx_lag_6', 'tx_lag_7', 'tx_lag_8', 'tx_lag_9', 'tx_lag_10', 'tx_lag_11', 'tx_lag_12', 'tx_lag_14', 'tx_lag_16', 'var_tx_cancelled_lag_3', 'var_tx_cancelled_lag_4', 'var_tx_cancelled_lag_5', 'var_tx_cancelled_lag_6', 'var_tx_cancelled_lag_7', 'var_tx_cancelled_lag_8', 'var_tx_cancelled_lag_9', 'var_tx_cancelled_lag_10', 'var_tx_cancelled_lag_11', 'var_tx_cancelled_lag_12', 'var_tx_cancelled_lag_13', 'var_tx_cancelled_lag_14', 'var_tx_cancelled_lag_15', 'var_tx_cancelled_lag_16', 'var_tx_cancelled_lag_17', 'var_tx_cancelled_lag_18', 'var_tx_cancelled_lag_19', 'var_tx_cancelled_lag_20', 'var_tx_cancelled_lag_21', 'is_fourth_of_july', 'var_30ds', 'christmas_day', 'new_year_day', 'post_holiday']\n"
     ]
    },
    {
     "name": "stderr",
     "output_type": "stream",
     "text": [
      "/tmp/ipykernel_20/4020151013.py:5: FutureWarning: Passing literal html to 'read_html' is deprecated and will be removed in a future version. To read from a literal string, wrap it in a 'StringIO' object.\n",
      "  df_resumen = pd.read_html(tabla_resumen, header=0, index_col=0)[0]\n"
     ]
    }
   ],
   "source": [
    "#### !pip install lxml\n",
    "# Obtener la tabla de resumen como cadena\n",
    "tabla_resumen = modelo.summary().tables[1].as_html()\n",
    "# Convertir la cadena HTML en un DataFrame de pandas\n",
    "df_resumen = pd.read_html(tabla_resumen, header=0, index_col=0)[0]\n",
    "# Filtrar el DataFrame para quedarte solo con las filas que contienen valores p\n",
    "df_valores_p = df_resumen[df_resumen.index.str.contains('P>|z|')]\n",
    "# Definir el umbral de significancia\n",
    "umbral_significancia = 0.05\n",
    "# Filtrar las filas donde el valor p sea menor que el umbral de significancia\n",
    "variables_significativas = df_valores_p[df_valores_p['P>|z|'] < umbral_significancia]\n",
    "indices_variables_significativas = variables_significativas.index.tolist()\n",
    "# Convertir los índices en una lista de caracteres\n",
    "exogenas_total = list(map(str, indices_variables_significativas))\n",
    "# Lista de exogenas filtrada\n",
    "exogenas = [var for var in exogenas_total if not var.startswith(('ar.', 'ma.', 'sigma'))]\n",
    "# Mostrar la lista de exogenas filtrada\n",
    "print(exogenas)"
   ]
  },
  {
   "cell_type": "code",
   "execution_count": 91,
   "id": "9b2bd366-5106-470c-a7dd-012e881a5d6c",
   "metadata": {
    "tags": []
   },
   "outputs": [],
   "source": [
    "# Abro el archivo en modo escritura, con la opción 'append' para agregar contenido al final del archivo\n",
    "#with open(f'sarimax_summary_{payer}_7d_8lags.txt', 'a') as f:\n",
    "with open(f'sarimax_summary_{payer}_2d.txt', 'a') as f:\n",
    "    # Escribir el contenido de la variable 'exogenas' en el archivo\n",
    "    f.write('\\n\\nContenido de la variable \"exogenas\":\\n')\n",
    "    f.write(str(exogenas))"
   ]
  },
  {
   "cell_type": "markdown",
   "id": "72e93320-3edf-40f2-a0cb-d06308e34e28",
   "metadata": {},
   "source": [
    "### SEARCH THE BEST MODEL "
   ]
  },
  {
   "cell_type": "code",
   "execution_count": 92,
   "id": "9a29a0e7-b8cb-461f-a414-919a2f1301c8",
   "metadata": {
    "tags": []
   },
   "outputs": [
    {
     "name": "stdout",
     "output_type": "stream",
     "text": [
      "Performing stepwise search to minimize aic\n",
      " ARIMA(0,1,0)(1,0,1)[7] intercept   : AIC=26646.966, Time=0.29 sec\n",
      " ARIMA(0,1,0)(0,0,0)[7] intercept   : AIC=27389.361, Time=0.02 sec\n",
      " ARIMA(1,1,0)(1,0,0)[7] intercept   : AIC=26667.066, Time=0.16 sec\n",
      " ARIMA(0,1,1)(0,0,1)[7] intercept   : AIC=26928.274, Time=0.17 sec\n",
      " ARIMA(0,1,0)(0,0,0)[7]             : AIC=27387.369, Time=0.02 sec\n",
      " ARIMA(0,1,0)(0,0,1)[7] intercept   : AIC=26931.411, Time=0.20 sec\n",
      " ARIMA(0,1,0)(1,0,0)[7] intercept   : AIC=26676.599, Time=0.08 sec\n",
      " ARIMA(0,1,0)(2,0,1)[7] intercept   : AIC=26643.557, Time=0.96 sec\n",
      " ARIMA(0,1,0)(2,0,0)[7] intercept   : AIC=26666.151, Time=0.50 sec\n",
      " ARIMA(0,1,0)(2,0,2)[7] intercept   : AIC=26644.826, Time=1.07 sec\n",
      " ARIMA(0,1,0)(1,0,2)[7] intercept   : AIC=26642.842, Time=0.64 sec\n",
      " ARIMA(0,1,0)(0,0,2)[7] intercept   : AIC=26799.854, Time=0.39 sec\n",
      " ARIMA(1,1,0)(1,0,2)[7] intercept   : AIC=26632.647, Time=0.96 sec\n",
      " ARIMA(1,1,0)(0,0,2)[7] intercept   : AIC=26793.178, Time=0.43 sec\n",
      " ARIMA(1,1,0)(1,0,1)[7] intercept   : AIC=26636.795, Time=0.33 sec\n",
      " ARIMA(1,1,0)(2,0,2)[7] intercept   : AIC=26634.599, Time=1.54 sec\n",
      " ARIMA(1,1,0)(0,0,1)[7] intercept   : AIC=26924.528, Time=0.19 sec\n",
      " ARIMA(1,1,0)(2,0,1)[7] intercept   : AIC=26633.132, Time=1.10 sec\n",
      " ARIMA(2,1,0)(1,0,2)[7] intercept   : AIC=26627.442, Time=1.09 sec\n",
      " ARIMA(2,1,0)(0,0,2)[7] intercept   : AIC=26790.066, Time=0.48 sec\n",
      " ARIMA(2,1,0)(1,0,1)[7] intercept   : AIC=26630.755, Time=0.71 sec\n",
      " ARIMA(2,1,0)(2,0,2)[7] intercept   : AIC=26629.400, Time=1.79 sec\n",
      " ARIMA(2,1,0)(0,0,1)[7] intercept   : AIC=26923.282, Time=0.23 sec\n",
      " ARIMA(2,1,0)(2,0,1)[7] intercept   : AIC=26627.846, Time=1.63 sec\n",
      " ARIMA(3,1,0)(1,0,2)[7] intercept   : AIC=26331.133, Time=1.57 sec\n",
      " ARIMA(3,1,0)(0,0,2)[7] intercept   : AIC=26526.304, Time=0.73 sec\n",
      " ARIMA(3,1,0)(1,0,1)[7] intercept   : AIC=26334.839, Time=1.05 sec\n",
      " ARIMA(3,1,0)(2,0,2)[7] intercept   : AIC=26333.076, Time=2.30 sec\n",
      " ARIMA(3,1,0)(0,0,1)[7] intercept   : AIC=26651.565, Time=0.31 sec\n",
      " ARIMA(3,1,0)(2,0,1)[7] intercept   : AIC=26332.425, Time=1.99 sec\n",
      " ARIMA(4,1,0)(1,0,2)[7] intercept   : AIC=25944.727, Time=1.59 sec\n",
      " ARIMA(4,1,0)(0,0,2)[7] intercept   : AIC=26180.004, Time=0.98 sec\n",
      " ARIMA(4,1,0)(1,0,1)[7] intercept   : AIC=25948.269, Time=0.66 sec\n",
      " ARIMA(4,1,0)(2,0,2)[7] intercept   : AIC=25945.254, Time=3.41 sec\n",
      " ARIMA(4,1,0)(0,0,1)[7] intercept   : AIC=26269.880, Time=0.44 sec\n",
      " ARIMA(4,1,0)(2,0,1)[7] intercept   : AIC=25947.289, Time=2.68 sec\n",
      " ARIMA(5,1,0)(1,0,2)[7] intercept   : AIC=25898.887, Time=1.93 sec\n",
      " ARIMA(5,1,0)(0,0,2)[7] intercept   : AIC=26134.605, Time=1.33 sec\n",
      " ARIMA(5,1,0)(1,0,1)[7] intercept   : AIC=25899.545, Time=1.65 sec\n",
      " ARIMA(5,1,0)(2,0,2)[7] intercept   : AIC=inf, Time=6.91 sec\n",
      " ARIMA(5,1,0)(0,0,1)[7] intercept   : AIC=26228.997, Time=0.54 sec\n",
      " ARIMA(5,1,0)(2,0,1)[7] intercept   : AIC=25900.793, Time=3.03 sec\n",
      " ARIMA(6,1,0)(1,0,2)[7] intercept   : AIC=25685.383, Time=2.52 sec\n",
      " ARIMA(6,1,0)(0,0,2)[7] intercept   : AIC=25851.467, Time=4.26 sec\n",
      " ARIMA(6,1,0)(1,0,1)[7] intercept   : AIC=25684.006, Time=2.12 sec\n",
      " ARIMA(6,1,0)(0,0,1)[7] intercept   : AIC=25858.246, Time=1.32 sec\n",
      " ARIMA(6,1,0)(1,0,0)[7] intercept   : AIC=25860.233, Time=1.88 sec\n",
      " ARIMA(6,1,0)(2,0,1)[7] intercept   : AIC=25685.440, Time=4.03 sec\n",
      " ARIMA(6,1,0)(0,0,0)[7] intercept   : AIC=inf, Time=0.53 sec\n",
      " ARIMA(6,1,0)(2,0,0)[7] intercept   : AIC=25772.110, Time=3.81 sec\n",
      " ARIMA(6,1,0)(2,0,2)[7] intercept   : AIC=inf, Time=8.61 sec\n",
      " ARIMA(6,1,1)(1,0,1)[7] intercept   : AIC=25660.425, Time=3.36 sec\n",
      " ARIMA(6,1,1)(0,0,1)[7] intercept   : AIC=25624.702, Time=1.44 sec\n",
      " ARIMA(6,1,1)(0,0,0)[7] intercept   : AIC=25744.253, Time=1.10 sec\n",
      " ARIMA(6,1,1)(0,0,2)[7] intercept   : AIC=25614.287, Time=5.59 sec\n",
      " ARIMA(6,1,1)(1,0,2)[7] intercept   : AIC=25662.354, Time=4.27 sec\n",
      " ARIMA(5,1,1)(0,0,2)[7] intercept   : AIC=26118.044, Time=2.04 sec\n",
      " ARIMA(6,1,2)(0,0,2)[7] intercept   : AIC=25994.328, Time=3.57 sec\n",
      " ARIMA(5,1,2)(0,0,2)[7] intercept   : AIC=26001.874, Time=3.21 sec\n",
      " ARIMA(6,1,1)(0,0,2)[7]             : AIC=25626.032, Time=5.20 sec\n",
      "\n",
      "Best model:  ARIMA(6,1,1)(0,0,2)[7] intercept\n",
      "Total fit time: 106.985 seconds\n"
     ]
    }
   ],
   "source": [
    "# Auto arima: seleccion basada en AIC\n",
    "# ==============================================================================\n",
    "resultados_autoarima = auto_arima(\n",
    "            y                 = datos['amount'].loc[:fin_val],\n",
    "            exog              = datos[exogenas].loc[:fin_val],\n",
    "            start_p           = 0,\n",
    "            start_q           = 0,\n",
    "            max_p             = 7,\n",
    "            max_q             = 7,\n",
    "            seasonal          = True,\n",
    "            #test              = 'adf',\n",
    "            m                 = 7, # periodicidad de la estacionalidad\n",
    "            #d                 = 1, # El algoritmo determina 'd' (lo obligo porque claramente es no estacionario)\n",
    "            #D                 = 1, # El algoritmo determina 'D' (idem arriba)\n",
    "            max_d             = 2,\n",
    "            max_D             = 2,\n",
    "            trace             = True,\n",
    "            error_action      = 'ignore',\n",
    "            suppress_warnings = True,\n",
    "            stepwise          = True\n",
    "        )\n",
    "opt_order_2 = resultados_autoarima.order\n",
    "opt_seasonal_order_2 = resultados_autoarima.seasonal_order"
   ]
  },
  {
   "cell_type": "markdown",
   "id": "841ddb06-7d66-4439-b233-425ca6a2546b",
   "metadata": {},
   "source": [
    "### MODEL BACKTESTING "
   ]
  },
  {
   "cell_type": "code",
   "execution_count": 93,
   "id": "d53008fe-02aa-4552-a43c-48b15fa02b0f",
   "metadata": {
    "tags": []
   },
   "outputs": [
    {
     "data": {
      "application/vnd.jupyter.widget-view+json": {
       "model_id": "40cff122e51f4ecd8cea5f1c6941d5be",
       "version_major": 2,
       "version_minor": 0
      },
      "text/plain": [
       "  0%|          | 0/90 [00:00<?, ?it/s]"
      ]
     },
     "metadata": {},
     "output_type": "display_data"
    },
    {
     "name": "stdout",
     "output_type": "stream",
     "text": [
      "Promedio de la columna 'mape' - 2 dias: 8.071095956009911\n",
      "Promedio de la columna 'error_abs' - 2 dias: 322485.38785392675\n"
     ]
    }
   ],
   "source": [
    "forecaster_autoarima = ForecasterSarimax(\n",
    "                 regressor=Sarimax(order=opt_order_2, seasonal_order=opt_seasonal_order_2)\n",
    "             )\n",
    "metrica_autoarima, predicciones_autoarima = backtesting_sarimax(\n",
    "                                forecaster            = forecaster_autoarima,\n",
    "                                y                     = datos['amount'],\n",
    "                                exog                  = datos[exogenas],\n",
    "                                initial_train_size    = len(datos.loc[:fin_val]),\n",
    "                                steps                 = 2,\n",
    "                                metric                = 'mean_absolute_percentage_error',\n",
    "                                refit                 = False,\n",
    "                                n_jobs                = 'auto',\n",
    "                                suppress_warnings_fit = True,\n",
    "                                verbose               = False,\n",
    "                                show_progress         = True\n",
    "                            )\n",
    "# Predicción\n",
    "nueva_fecha = datetime.strptime(fin_val, '%Y-%m-%d') + timedelta(days=1)\n",
    "predicciones_autoarima = predicciones_autoarima['pred']\n",
    "\n",
    "# Combinar los dos DataFrames en uno\n",
    "resultados_predichos_autoarima= pd.DataFrame({'date': predicciones_autoarima.index, 'valor_real': datos['amount'].loc[nueva_fecha:], 'valor_predicho': predicciones_autoarima})\n",
    "# Calcular el MAPE\n",
    "resultados_predichos_autoarima['mape'] = abs((resultados_predichos_autoarima['valor_real'] - resultados_predichos_autoarima['valor_predicho']) / resultados_predichos_autoarima['valor_real']) * 100\n",
    "resultados_predichos_autoarima['error_abs'] = abs((resultados_predichos_autoarima['valor_real'] - resultados_predichos_autoarima['valor_predicho']))\n",
    "# Calcular el promedio de la columna 'mape'\n",
    "promedio_mape_autoarima = resultados_predichos_autoarima['mape'].mean()\n",
    "promedio_error_abs_autoarima = resultados_predichos_autoarima['error_abs'].mean()\n",
    "# Imprimir el promedio\n",
    "print(\"Promedio de la columna 'mape' - 2 dias:\", promedio_mape_autoarima)\n",
    "print(\"Promedio de la columna 'error_abs' - 2 dias:\", promedio_error_abs_autoarima)"
   ]
  },
  {
   "cell_type": "markdown",
   "id": "757ed4d8-bba1-4147-b4a5-b763fe024f4e",
   "metadata": {},
   "source": [
    "### FIT"
   ]
  },
  {
   "cell_type": "code",
   "execution_count": 94,
   "id": "b14ff09b-b640-48af-a82a-3cd8f9e7d346",
   "metadata": {
    "tags": []
   },
   "outputs": [],
   "source": [
    "forecaster_autoarima.fit(y=datos['amount'],exog=datos[exogenas] ,suppress_warnings=True)"
   ]
  },
  {
   "cell_type": "code",
   "execution_count": 95,
   "id": "cb87028c-7651-4300-a690-955b67e95921",
   "metadata": {
    "tags": []
   },
   "outputs": [
    {
     "data": {
      "text/plain": [
       "================= \n",
       "ForecasterSarimax \n",
       "================= \n",
       "Regressor: Sarimax(6,1,1)(0,0,2)[7] \n",
       "Regressor parameters: {'concentrate_scale': False, 'dates': None, 'disp': False, 'enforce_invertibility': True, 'enforce_stationarity': True, 'freq': None, 'hamilton_representation': False, 'maxiter': 50, 'measurement_error': False, 'method': 'lbfgs', 'missing': 'none', 'mle_regression': True, 'order': (6, 1, 1), 'seasonal_order': (0, 0, 2, 7), 'simple_differencing': False, 'sm_fit_kwargs': {}, 'sm_init_kwargs': {}, 'sm_predict_kwargs': {}, 'start_params': None, 'time_varying_regression': False, 'trend': None, 'trend_offset': 1, 'use_exact_diffuse': False, 'validate_specification': True} \n",
       "fit_kwargs: {} \n",
       "Window size: 1 \n",
       "Transformer for y: None \n",
       "Transformer for exog: None \n",
       "Exogenous included: True \n",
       "Type of exogenous variable: <class 'pandas.core.frame.DataFrame'> \n",
       "Exogenous variables names: ['var_rate_lag_2', 'var_rate_lag_3', 'var_rate_lag_4', 'var_rate_lag_5', 'var_rate_lag_6', 'var_rate_lag_7', 'var_rate_lag_8', 'var_rate_lag_9', 'var_rate_lag_10', 'var_rate_lag_11', 'var_rate_lag_12', 'var_rate_lag_13', 'var_rate_lag_14', 'var_rate_lag_15', 'var_rate_lag_16', 'var_rate_lag_17', 'var_rate_lag_18', 'var_rate_lag_19', 'var_rate_lag_20', 'var_rate_lag_21', 'var_rate_lag_22', 'var_rate_lag_23', 'var_rate_lag_24', 'var_rate_lag_25', 'var_rate_lag_26', 'var_rate_lag_27', 'var_rate_lag_28', 'var_rate_lag_29', 'ratio_coupon_tx_lag_2', 'ratio_coupon_tx_lag_3', 'ratio_coupon_tx_lag_4', 'ratio_coupon_tx_lag_5', 'ratio_coupon_tx_lag_6', 'ratio_coupon_tx_lag_7', 'ratio_coupon_tx_lag_8', 'ratio_coupon_tx_lag_9', 'ratio_coupon_tx_lag_10', 'ratio_coupon_tx_lag_11', 'ratio_coupon_tx_lag_12', 'ratio_coupon_tx_lag_13', 'ratio_coupon_tx_lag_14', 'ratio_coupon_tx_lag_15', 'ratio_coupon_tx_lag_16', 'ratio_coupon_tx_lag_17', 'ratio_coupon_tx_lag_18', 'ratio_coupon_tx_lag_19', 'ratio_coupon_tx_lag_20', 'ratio_coupon_tx_lag_21', 'ratio_coupon_tx_lag_22', 'ratio_coupon_tx_lag_23', 'ratio_coupon_tx_lag_24', 'ratio_coupon_tx_lag_25', 'ratio_coupon_tx_lag_26', 'ratio_coupon_tx_lag_27', 'ratio_coupon_tx_lag_28', 'ratio_coupon_tx_lag_29', 'tx_lag_2', 'tx_lag_3', 'tx_lag_4', 'tx_lag_5', 'tx_lag_6', 'tx_lag_7', 'tx_lag_8', 'tx_lag_9', 'tx_lag_10', 'tx_lag_11', 'tx_lag_12', 'tx_lag_14', 'tx_lag_16', 'var_tx_cancelled_lag_3', 'var_tx_cancelled_lag_4', 'var_tx_cancelled_lag_5', 'var_tx_cancelled_lag_6', 'var_tx_cancelled_lag_7', 'var_tx_cancelled_lag_8', 'var_tx_cancelled_lag_9', 'var_tx_cancelled_lag_10', 'var_tx_cancelled_lag_11', 'var_tx_cancelled_lag_12', 'var_tx_cancelled_lag_13', 'var_tx_cancelled_lag_14', 'var_tx_cancelled_lag_15', 'var_tx_cancelled_lag_16', 'var_tx_cancelled_lag_17', 'var_tx_cancelled_lag_18', 'var_tx_cancelled_lag_19', 'var_tx_cancelled_lag_20', 'var_tx_cancelled_lag_21', 'is_fourth_of_july', 'var_30ds', 'christmas_day', 'new_year_day', 'post_holiday'] \n",
       "Training range: [Timestamp('2021-01-01 00:00:00'), Timestamp('2023-12-18 00:00:00')] \n",
       "Training index type: DatetimeIndex \n",
       "Training index frequency: D \n",
       "Creation date: 2024-03-13 19:32:19 \n",
       "Last fit date: 2024-03-13 19:35:22 \n",
       "Index seen by the forecaster: DatetimeIndex(['2021-01-01', '2021-01-02', '2021-01-03', '2021-01-04',\n",
       "               '2021-01-05', '2021-01-06', '2021-01-07', '2021-01-08',\n",
       "               '2021-01-09', '2021-01-10',\n",
       "               ...\n",
       "               '2023-12-09', '2023-12-10', '2023-12-11', '2023-12-12',\n",
       "               '2023-12-13', '2023-12-14', '2023-12-15', '2023-12-16',\n",
       "               '2023-12-17', '2023-12-18'],\n",
       "              dtype='datetime64[ns]', name='date', length=1082, freq='D') \n",
       "Skforecast version: 0.11.0 \n",
       "Python version: 3.10.6 \n",
       "Forecaster id: None "
      ]
     },
     "execution_count": 95,
     "metadata": {},
     "output_type": "execute_result"
    }
   ],
   "source": [
    "forecaster_autoarima"
   ]
  },
  {
   "cell_type": "code",
   "execution_count": 96,
   "id": "3f8db1f4-fbe4-453f-b8ea-91afc4efffb7",
   "metadata": {
    "tags": []
   },
   "outputs": [],
   "source": [
    "# Abro el archivo en modo escritura, con la opción 'append' para agregar contenido al final del archivo\n",
    "with open(f'sarimax_summary_{payer}_7d.txt', 'a') as f:\n",
    "    # Escribir el contenido de la variable 'exogenas' en el archivo\n",
    "    f.write('\\n\\nContenido de la variable \"exogenas\":\\n')\n",
    "    f.write(str(forecaster_autoarima))"
   ]
  },
  {
   "cell_type": "code",
   "execution_count": 97,
   "id": "501b41ff-06e6-41e8-9aa4-8afd49ce7cf7",
   "metadata": {
    "tags": []
   },
   "outputs": [],
   "source": [
    "modelo_final = forecaster_autoarima\n",
    "resultados_predichos = resultados_predichos_autoarima\n",
    "mape_final = promedio_mape_autoarima"
   ]
  },
  {
   "cell_type": "code",
   "execution_count": 98,
   "id": "4f49c820-38d3-4a1d-810d-02d5fda76f35",
   "metadata": {
    "tags": []
   },
   "outputs": [
    {
     "name": "stdout",
     "output_type": "stream",
     "text": [
      "ABTv3/Last_releases/BANRURAL (RYT)_GUATEMALA/\n",
      "Carpeta 'ABTv3/Last_releases/BANRURAL (RYT)_GUATEMALA/' creada en el bucket 'viamericas-datalake-dev-us-east-1-283731589572-analytics'.\n"
     ]
    }
   ],
   "source": [
    "# Crear una carpeta llamada 'resultados' si no existe\n",
    "folder_name = 'Last_releases/'\n",
    "carpeta_resultados = path+folder_name+payer+'/'\n",
    "print(carpeta_resultados)\n",
    "\n",
    "try:\n",
    "    client.put_object(Bucket=bucket_name, Key=(carpeta_resultados+'/'))\n",
    "    print(f\"Carpeta '{carpeta_resultados}' creada en el bucket '{bucket_name}'.\")\n",
    "except Exception as e:\n",
    "    print(f\"Error al crear la carpeta: {e}\")\n",
    "    "
   ]
  },
  {
   "cell_type": "markdown",
   "id": "30feaa56-15db-48c5-8e39-7f25bdbc2b45",
   "metadata": {
    "tags": []
   },
   "source": [
    "### SAVES THE RESULTS IN AN EXCEL FILE AND THE MODEL IN A PICKLE FILE"
   ]
  },
  {
   "cell_type": "code",
   "execution_count": 99,
   "id": "d18d0b9b-8048-49f7-a0d0-40c4cd28fd53",
   "metadata": {
    "tags": []
   },
   "outputs": [
    {
     "name": "stderr",
     "output_type": "stream",
     "text": [
      "urllib3.connectionpool WARNING Connection pool is full, discarding connection: viamericas-datalake-dev-us-east-1-283731589572-analytics.s3.amazonaws.com. Connection pool size: 10\n",
      "urllib3.connectionpool WARNING Connection pool is full, discarding connection: viamericas-datalake-dev-us-east-1-283731589572-analytics.s3.amazonaws.com. Connection pool size: 10\n"
     ]
    },
    {
     "name": "stdout",
     "output_type": "stream",
     "text": [
      "Modelo guardado como pkl en S3: ABTv3/Last_releases/BANRURAL (RYT)_GUATEMALA/MODEL_2d_BANRURAL (RYT)_GUATEMALA_2d.pkl\n"
     ]
    },
    {
     "name": "stderr",
     "output_type": "stream",
     "text": [
      "sys:1: ResourceWarning: Unclosed socket <zmq.Socket(zmq.PUSH) at 0x7f564b003d60>\n",
      "ResourceWarning: Enable tracemalloc to get the object allocation traceback\n",
      "sys:1: ResourceWarning: Unclosed socket <zmq.Socket(zmq.PUSH) at 0x7f56b93437c0>\n",
      "ResourceWarning: Enable tracemalloc to get the object allocation traceback\n"
     ]
    }
   ],
   "source": [
    "#GUARDO RESULTADOS EN EXCEL\n",
    "\n",
    "nombre_archivo_excel = os.path.join(carpeta_resultados, 'predicciones_test_2d_'+payer+'_2d'+'.xlsx')\n",
    "# Guarda el DataFrame en un objeto BytesIO como archivo Excel\n",
    "#excel_buffer = BytesIO()\n",
    "#resultados_predichos.to_excel(excel_buffer, index=False)\n",
    "# Guarda el DataFrame en un archivo XLSX en S3 usando AWS Data Wrangler\n",
    "wr.s3.to_excel(resultados_predichos, f\"s3://{bucket_name}/{nombre_archivo_excel}\", index=False)\n",
    "\n",
    "\n",
    "nombre_archivo_pickle = os.path.join(carpeta_resultados, 'MODEL_2d_'+payer+'_2d'+'.pkl')\n",
    "# Guarda el modelo en un archivo pickle temporal\n",
    "modelo_temp_file = 'MODEL_2d_'+payer+'.pkl'\n",
    "joblib.dump(modelo_final, modelo_temp_file)\n",
    "\n",
    "# Sube el archivo pkl a S3\n",
    "try:\n",
    "    wr.s3.upload(modelo_temp_file, f\"s3://{bucket_name}/{nombre_archivo_pickle}\")\n",
    "    print(f\"Modelo guardado como pkl en S3: {nombre_archivo_pickle}\")\n",
    "    os.remove(modelo_temp_file) # Elimina el temporal\n",
    "except Exception as e:\n",
    "    print(f\"Error al subir el modelo a S3: {e}\")\n"
   ]
  },
  {
   "cell_type": "code",
   "execution_count": 100,
   "id": "3d062671-6e06-4779-b63f-76cc12667e60",
   "metadata": {
    "tags": []
   },
   "outputs": [],
   "source": [
    "#TXT\n",
    "file_name = f'sarimax_summary_{payer}_2d.txt'\n",
    "ruta_txt = os.path.join(carpeta_resultados, file_name)\n",
    "# Cargar el archivo en S3\n",
    "s3 = boto3.resource(\"s3\")\n",
    "s3.Bucket(bucket_name).upload_file(file_name, ruta_txt)\n",
    "os.remove(file_name) # Elimina el temporal"
   ]
  },
  {
   "cell_type": "code",
   "execution_count": 101,
   "id": "52b3d132-646a-4f1b-b81c-a7fdc74ad525",
   "metadata": {
    "tags": []
   },
   "outputs": [
    {
     "name": "stdout",
     "output_type": "stream",
     "text": [
      "Tiempo de ejecución total: 407.97764682769775 segundos\n"
     ]
    }
   ],
   "source": [
    "# Celda de finalización\n",
    "end_time = time.time()\n",
    "elapsed_time = end_time - start_time\n",
    "print(f\"Tiempo de ejecución total: {elapsed_time} segundos\")"
   ]
  },
  {
   "cell_type": "code",
   "execution_count": null,
   "id": "4383bd01-0ea3-40a9-abb2-abd8f74a338f",
   "metadata": {},
   "outputs": [],
   "source": []
  }
 ],
 "metadata": {
  "availableInstances": [
   {
    "_defaultOrder": 0,
    "_isFastLaunch": true,
    "category": "General purpose",
    "gpuNum": 0,
    "hideHardwareSpecs": false,
    "memoryGiB": 4,
    "name": "ml.t3.medium",
    "vcpuNum": 2
   },
   {
    "_defaultOrder": 1,
    "_isFastLaunch": false,
    "category": "General purpose",
    "gpuNum": 0,
    "hideHardwareSpecs": false,
    "memoryGiB": 8,
    "name": "ml.t3.large",
    "vcpuNum": 2
   },
   {
    "_defaultOrder": 2,
    "_isFastLaunch": false,
    "category": "General purpose",
    "gpuNum": 0,
    "hideHardwareSpecs": false,
    "memoryGiB": 16,
    "name": "ml.t3.xlarge",
    "vcpuNum": 4
   },
   {
    "_defaultOrder": 3,
    "_isFastLaunch": false,
    "category": "General purpose",
    "gpuNum": 0,
    "hideHardwareSpecs": false,
    "memoryGiB": 32,
    "name": "ml.t3.2xlarge",
    "vcpuNum": 8
   },
   {
    "_defaultOrder": 4,
    "_isFastLaunch": true,
    "category": "General purpose",
    "gpuNum": 0,
    "hideHardwareSpecs": false,
    "memoryGiB": 8,
    "name": "ml.m5.large",
    "vcpuNum": 2
   },
   {
    "_defaultOrder": 5,
    "_isFastLaunch": false,
    "category": "General purpose",
    "gpuNum": 0,
    "hideHardwareSpecs": false,
    "memoryGiB": 16,
    "name": "ml.m5.xlarge",
    "vcpuNum": 4
   },
   {
    "_defaultOrder": 6,
    "_isFastLaunch": false,
    "category": "General purpose",
    "gpuNum": 0,
    "hideHardwareSpecs": false,
    "memoryGiB": 32,
    "name": "ml.m5.2xlarge",
    "vcpuNum": 8
   },
   {
    "_defaultOrder": 7,
    "_isFastLaunch": false,
    "category": "General purpose",
    "gpuNum": 0,
    "hideHardwareSpecs": false,
    "memoryGiB": 64,
    "name": "ml.m5.4xlarge",
    "vcpuNum": 16
   },
   {
    "_defaultOrder": 8,
    "_isFastLaunch": false,
    "category": "General purpose",
    "gpuNum": 0,
    "hideHardwareSpecs": false,
    "memoryGiB": 128,
    "name": "ml.m5.8xlarge",
    "vcpuNum": 32
   },
   {
    "_defaultOrder": 9,
    "_isFastLaunch": false,
    "category": "General purpose",
    "gpuNum": 0,
    "hideHardwareSpecs": false,
    "memoryGiB": 192,
    "name": "ml.m5.12xlarge",
    "vcpuNum": 48
   },
   {
    "_defaultOrder": 10,
    "_isFastLaunch": false,
    "category": "General purpose",
    "gpuNum": 0,
    "hideHardwareSpecs": false,
    "memoryGiB": 256,
    "name": "ml.m5.16xlarge",
    "vcpuNum": 64
   },
   {
    "_defaultOrder": 11,
    "_isFastLaunch": false,
    "category": "General purpose",
    "gpuNum": 0,
    "hideHardwareSpecs": false,
    "memoryGiB": 384,
    "name": "ml.m5.24xlarge",
    "vcpuNum": 96
   },
   {
    "_defaultOrder": 12,
    "_isFastLaunch": false,
    "category": "General purpose",
    "gpuNum": 0,
    "hideHardwareSpecs": false,
    "memoryGiB": 8,
    "name": "ml.m5d.large",
    "vcpuNum": 2
   },
   {
    "_defaultOrder": 13,
    "_isFastLaunch": false,
    "category": "General purpose",
    "gpuNum": 0,
    "hideHardwareSpecs": false,
    "memoryGiB": 16,
    "name": "ml.m5d.xlarge",
    "vcpuNum": 4
   },
   {
    "_defaultOrder": 14,
    "_isFastLaunch": false,
    "category": "General purpose",
    "gpuNum": 0,
    "hideHardwareSpecs": false,
    "memoryGiB": 32,
    "name": "ml.m5d.2xlarge",
    "vcpuNum": 8
   },
   {
    "_defaultOrder": 15,
    "_isFastLaunch": false,
    "category": "General purpose",
    "gpuNum": 0,
    "hideHardwareSpecs": false,
    "memoryGiB": 64,
    "name": "ml.m5d.4xlarge",
    "vcpuNum": 16
   },
   {
    "_defaultOrder": 16,
    "_isFastLaunch": false,
    "category": "General purpose",
    "gpuNum": 0,
    "hideHardwareSpecs": false,
    "memoryGiB": 128,
    "name": "ml.m5d.8xlarge",
    "vcpuNum": 32
   },
   {
    "_defaultOrder": 17,
    "_isFastLaunch": false,
    "category": "General purpose",
    "gpuNum": 0,
    "hideHardwareSpecs": false,
    "memoryGiB": 192,
    "name": "ml.m5d.12xlarge",
    "vcpuNum": 48
   },
   {
    "_defaultOrder": 18,
    "_isFastLaunch": false,
    "category": "General purpose",
    "gpuNum": 0,
    "hideHardwareSpecs": false,
    "memoryGiB": 256,
    "name": "ml.m5d.16xlarge",
    "vcpuNum": 64
   },
   {
    "_defaultOrder": 19,
    "_isFastLaunch": false,
    "category": "General purpose",
    "gpuNum": 0,
    "hideHardwareSpecs": false,
    "memoryGiB": 384,
    "name": "ml.m5d.24xlarge",
    "vcpuNum": 96
   },
   {
    "_defaultOrder": 20,
    "_isFastLaunch": false,
    "category": "General purpose",
    "gpuNum": 0,
    "hideHardwareSpecs": true,
    "memoryGiB": 0,
    "name": "ml.geospatial.interactive",
    "supportedImageNames": [
     "sagemaker-geospatial-v1-0"
    ],
    "vcpuNum": 0
   },
   {
    "_defaultOrder": 21,
    "_isFastLaunch": true,
    "category": "Compute optimized",
    "gpuNum": 0,
    "hideHardwareSpecs": false,
    "memoryGiB": 4,
    "name": "ml.c5.large",
    "vcpuNum": 2
   },
   {
    "_defaultOrder": 22,
    "_isFastLaunch": false,
    "category": "Compute optimized",
    "gpuNum": 0,
    "hideHardwareSpecs": false,
    "memoryGiB": 8,
    "name": "ml.c5.xlarge",
    "vcpuNum": 4
   },
   {
    "_defaultOrder": 23,
    "_isFastLaunch": false,
    "category": "Compute optimized",
    "gpuNum": 0,
    "hideHardwareSpecs": false,
    "memoryGiB": 16,
    "name": "ml.c5.2xlarge",
    "vcpuNum": 8
   },
   {
    "_defaultOrder": 24,
    "_isFastLaunch": false,
    "category": "Compute optimized",
    "gpuNum": 0,
    "hideHardwareSpecs": false,
    "memoryGiB": 32,
    "name": "ml.c5.4xlarge",
    "vcpuNum": 16
   },
   {
    "_defaultOrder": 25,
    "_isFastLaunch": false,
    "category": "Compute optimized",
    "gpuNum": 0,
    "hideHardwareSpecs": false,
    "memoryGiB": 72,
    "name": "ml.c5.9xlarge",
    "vcpuNum": 36
   },
   {
    "_defaultOrder": 26,
    "_isFastLaunch": false,
    "category": "Compute optimized",
    "gpuNum": 0,
    "hideHardwareSpecs": false,
    "memoryGiB": 96,
    "name": "ml.c5.12xlarge",
    "vcpuNum": 48
   },
   {
    "_defaultOrder": 27,
    "_isFastLaunch": false,
    "category": "Compute optimized",
    "gpuNum": 0,
    "hideHardwareSpecs": false,
    "memoryGiB": 144,
    "name": "ml.c5.18xlarge",
    "vcpuNum": 72
   },
   {
    "_defaultOrder": 28,
    "_isFastLaunch": false,
    "category": "Compute optimized",
    "gpuNum": 0,
    "hideHardwareSpecs": false,
    "memoryGiB": 192,
    "name": "ml.c5.24xlarge",
    "vcpuNum": 96
   },
   {
    "_defaultOrder": 29,
    "_isFastLaunch": true,
    "category": "Accelerated computing",
    "gpuNum": 1,
    "hideHardwareSpecs": false,
    "memoryGiB": 16,
    "name": "ml.g4dn.xlarge",
    "vcpuNum": 4
   },
   {
    "_defaultOrder": 30,
    "_isFastLaunch": false,
    "category": "Accelerated computing",
    "gpuNum": 1,
    "hideHardwareSpecs": false,
    "memoryGiB": 32,
    "name": "ml.g4dn.2xlarge",
    "vcpuNum": 8
   },
   {
    "_defaultOrder": 31,
    "_isFastLaunch": false,
    "category": "Accelerated computing",
    "gpuNum": 1,
    "hideHardwareSpecs": false,
    "memoryGiB": 64,
    "name": "ml.g4dn.4xlarge",
    "vcpuNum": 16
   },
   {
    "_defaultOrder": 32,
    "_isFastLaunch": false,
    "category": "Accelerated computing",
    "gpuNum": 1,
    "hideHardwareSpecs": false,
    "memoryGiB": 128,
    "name": "ml.g4dn.8xlarge",
    "vcpuNum": 32
   },
   {
    "_defaultOrder": 33,
    "_isFastLaunch": false,
    "category": "Accelerated computing",
    "gpuNum": 4,
    "hideHardwareSpecs": false,
    "memoryGiB": 192,
    "name": "ml.g4dn.12xlarge",
    "vcpuNum": 48
   },
   {
    "_defaultOrder": 34,
    "_isFastLaunch": false,
    "category": "Accelerated computing",
    "gpuNum": 1,
    "hideHardwareSpecs": false,
    "memoryGiB": 256,
    "name": "ml.g4dn.16xlarge",
    "vcpuNum": 64
   },
   {
    "_defaultOrder": 35,
    "_isFastLaunch": false,
    "category": "Accelerated computing",
    "gpuNum": 1,
    "hideHardwareSpecs": false,
    "memoryGiB": 61,
    "name": "ml.p3.2xlarge",
    "vcpuNum": 8
   },
   {
    "_defaultOrder": 36,
    "_isFastLaunch": false,
    "category": "Accelerated computing",
    "gpuNum": 4,
    "hideHardwareSpecs": false,
    "memoryGiB": 244,
    "name": "ml.p3.8xlarge",
    "vcpuNum": 32
   },
   {
    "_defaultOrder": 37,
    "_isFastLaunch": false,
    "category": "Accelerated computing",
    "gpuNum": 8,
    "hideHardwareSpecs": false,
    "memoryGiB": 488,
    "name": "ml.p3.16xlarge",
    "vcpuNum": 64
   },
   {
    "_defaultOrder": 38,
    "_isFastLaunch": false,
    "category": "Accelerated computing",
    "gpuNum": 8,
    "hideHardwareSpecs": false,
    "memoryGiB": 768,
    "name": "ml.p3dn.24xlarge",
    "vcpuNum": 96
   },
   {
    "_defaultOrder": 39,
    "_isFastLaunch": false,
    "category": "Memory Optimized",
    "gpuNum": 0,
    "hideHardwareSpecs": false,
    "memoryGiB": 16,
    "name": "ml.r5.large",
    "vcpuNum": 2
   },
   {
    "_defaultOrder": 40,
    "_isFastLaunch": false,
    "category": "Memory Optimized",
    "gpuNum": 0,
    "hideHardwareSpecs": false,
    "memoryGiB": 32,
    "name": "ml.r5.xlarge",
    "vcpuNum": 4
   },
   {
    "_defaultOrder": 41,
    "_isFastLaunch": false,
    "category": "Memory Optimized",
    "gpuNum": 0,
    "hideHardwareSpecs": false,
    "memoryGiB": 64,
    "name": "ml.r5.2xlarge",
    "vcpuNum": 8
   },
   {
    "_defaultOrder": 42,
    "_isFastLaunch": false,
    "category": "Memory Optimized",
    "gpuNum": 0,
    "hideHardwareSpecs": false,
    "memoryGiB": 128,
    "name": "ml.r5.4xlarge",
    "vcpuNum": 16
   },
   {
    "_defaultOrder": 43,
    "_isFastLaunch": false,
    "category": "Memory Optimized",
    "gpuNum": 0,
    "hideHardwareSpecs": false,
    "memoryGiB": 256,
    "name": "ml.r5.8xlarge",
    "vcpuNum": 32
   },
   {
    "_defaultOrder": 44,
    "_isFastLaunch": false,
    "category": "Memory Optimized",
    "gpuNum": 0,
    "hideHardwareSpecs": false,
    "memoryGiB": 384,
    "name": "ml.r5.12xlarge",
    "vcpuNum": 48
   },
   {
    "_defaultOrder": 45,
    "_isFastLaunch": false,
    "category": "Memory Optimized",
    "gpuNum": 0,
    "hideHardwareSpecs": false,
    "memoryGiB": 512,
    "name": "ml.r5.16xlarge",
    "vcpuNum": 64
   },
   {
    "_defaultOrder": 46,
    "_isFastLaunch": false,
    "category": "Memory Optimized",
    "gpuNum": 0,
    "hideHardwareSpecs": false,
    "memoryGiB": 768,
    "name": "ml.r5.24xlarge",
    "vcpuNum": 96
   },
   {
    "_defaultOrder": 47,
    "_isFastLaunch": false,
    "category": "Accelerated computing",
    "gpuNum": 1,
    "hideHardwareSpecs": false,
    "memoryGiB": 16,
    "name": "ml.g5.xlarge",
    "vcpuNum": 4
   },
   {
    "_defaultOrder": 48,
    "_isFastLaunch": false,
    "category": "Accelerated computing",
    "gpuNum": 1,
    "hideHardwareSpecs": false,
    "memoryGiB": 32,
    "name": "ml.g5.2xlarge",
    "vcpuNum": 8
   },
   {
    "_defaultOrder": 49,
    "_isFastLaunch": false,
    "category": "Accelerated computing",
    "gpuNum": 1,
    "hideHardwareSpecs": false,
    "memoryGiB": 64,
    "name": "ml.g5.4xlarge",
    "vcpuNum": 16
   },
   {
    "_defaultOrder": 50,
    "_isFastLaunch": false,
    "category": "Accelerated computing",
    "gpuNum": 1,
    "hideHardwareSpecs": false,
    "memoryGiB": 128,
    "name": "ml.g5.8xlarge",
    "vcpuNum": 32
   },
   {
    "_defaultOrder": 51,
    "_isFastLaunch": false,
    "category": "Accelerated computing",
    "gpuNum": 1,
    "hideHardwareSpecs": false,
    "memoryGiB": 256,
    "name": "ml.g5.16xlarge",
    "vcpuNum": 64
   },
   {
    "_defaultOrder": 52,
    "_isFastLaunch": false,
    "category": "Accelerated computing",
    "gpuNum": 4,
    "hideHardwareSpecs": false,
    "memoryGiB": 192,
    "name": "ml.g5.12xlarge",
    "vcpuNum": 48
   },
   {
    "_defaultOrder": 53,
    "_isFastLaunch": false,
    "category": "Accelerated computing",
    "gpuNum": 4,
    "hideHardwareSpecs": false,
    "memoryGiB": 384,
    "name": "ml.g5.24xlarge",
    "vcpuNum": 96
   },
   {
    "_defaultOrder": 54,
    "_isFastLaunch": false,
    "category": "Accelerated computing",
    "gpuNum": 8,
    "hideHardwareSpecs": false,
    "memoryGiB": 768,
    "name": "ml.g5.48xlarge",
    "vcpuNum": 192
   },
   {
    "_defaultOrder": 55,
    "_isFastLaunch": false,
    "category": "Accelerated computing",
    "gpuNum": 8,
    "hideHardwareSpecs": false,
    "memoryGiB": 1152,
    "name": "ml.p4d.24xlarge",
    "vcpuNum": 96
   },
   {
    "_defaultOrder": 56,
    "_isFastLaunch": false,
    "category": "Accelerated computing",
    "gpuNum": 8,
    "hideHardwareSpecs": false,
    "memoryGiB": 1152,
    "name": "ml.p4de.24xlarge",
    "vcpuNum": 96
   },
   {
    "_defaultOrder": 57,
    "_isFastLaunch": false,
    "category": "Accelerated computing",
    "gpuNum": 0,
    "hideHardwareSpecs": false,
    "memoryGiB": 32,
    "name": "ml.trn1.2xlarge",
    "vcpuNum": 8
   },
   {
    "_defaultOrder": 58,
    "_isFastLaunch": false,
    "category": "Accelerated computing",
    "gpuNum": 0,
    "hideHardwareSpecs": false,
    "memoryGiB": 512,
    "name": "ml.trn1.32xlarge",
    "vcpuNum": 128
   },
   {
    "_defaultOrder": 59,
    "_isFastLaunch": false,
    "category": "Accelerated computing",
    "gpuNum": 0,
    "hideHardwareSpecs": false,
    "memoryGiB": 512,
    "name": "ml.trn1n.32xlarge",
    "vcpuNum": 128
   }
  ],
  "kernelspec": {
   "display_name": "Python 3 (Data Science 3.0)",
   "language": "python",
   "name": "python3__SAGEMAKER_INTERNAL__arn:aws:sagemaker:us-east-1:081325390199:image/sagemaker-data-science-310-v1"
  },
  "language_info": {
   "codemirror_mode": {
    "name": "ipython",
    "version": 3
   },
   "file_extension": ".py",
   "mimetype": "text/x-python",
   "name": "python",
   "nbconvert_exporter": "python",
   "pygments_lexer": "ipython3",
   "version": "3.10.6"
  }
 },
 "nbformat": 4,
 "nbformat_minor": 5
}
