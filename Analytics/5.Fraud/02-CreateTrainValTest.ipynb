{
 "cells": [
  {
   "cell_type": "markdown",
   "id": "39024d38-4542-4879-916c-e64bd434a3da",
   "metadata": {},
   "source": [
    "# Create Train-Val-Test\n",
    " Joins monthly parquets files into one single parquet used for model train and evaluation\n",
    " Manually complete file names is needed"
   ]
  },
  {
   "cell_type": "code",
   "execution_count": 1,
   "id": "3d341cf1-6f0a-4945-8143-54ed039a0c1b",
   "metadata": {
    "tags": []
   },
   "outputs": [
    {
     "name": "stdout",
     "output_type": "stream",
     "text": [
      "Collecting pyathena\n",
      "  Downloading pyathena-3.8.2-py3-none-any.whl.metadata (6.2 kB)\n",
      "Requirement already satisfied: boto3>=1.26.4 in /home/ec2-user/anaconda3/envs/python3/lib/python3.10/site-packages (from pyathena) (1.34.101)\n",
      "Requirement already satisfied: botocore>=1.29.4 in /home/ec2-user/anaconda3/envs/python3/lib/python3.10/site-packages (from pyathena) (1.34.101)\n",
      "Requirement already satisfied: fsspec in /home/ec2-user/anaconda3/envs/python3/lib/python3.10/site-packages (from pyathena) (2024.3.1)\n",
      "Requirement already satisfied: tenacity>=4.1.0 in /home/ec2-user/anaconda3/envs/python3/lib/python3.10/site-packages (from pyathena) (8.2.3)\n",
      "Requirement already satisfied: jmespath<2.0.0,>=0.7.1 in /home/ec2-user/anaconda3/envs/python3/lib/python3.10/site-packages (from boto3>=1.26.4->pyathena) (1.0.1)\n",
      "Requirement already satisfied: s3transfer<0.11.0,>=0.10.0 in /home/ec2-user/anaconda3/envs/python3/lib/python3.10/site-packages (from boto3>=1.26.4->pyathena) (0.10.1)\n",
      "Requirement already satisfied: python-dateutil<3.0.0,>=2.1 in /home/ec2-user/anaconda3/envs/python3/lib/python3.10/site-packages (from botocore>=1.29.4->pyathena) (2.9.0)\n",
      "Requirement already satisfied: urllib3!=2.2.0,<3,>=1.25.4 in /home/ec2-user/anaconda3/envs/python3/lib/python3.10/site-packages (from botocore>=1.29.4->pyathena) (2.2.1)\n",
      "Requirement already satisfied: six>=1.5 in /home/ec2-user/anaconda3/envs/python3/lib/python3.10/site-packages (from python-dateutil<3.0.0,>=2.1->botocore>=1.29.4->pyathena) (1.16.0)\n",
      "Downloading pyathena-3.8.2-py3-none-any.whl (75 kB)\n",
      "\u001b[2K   \u001b[90m━━━━━━━━━━━━━━━━━━━━━━━━━━━━━━━━━━━━━━━━\u001b[0m \u001b[32m75.2/75.2 kB\u001b[0m \u001b[31m9.3 MB/s\u001b[0m eta \u001b[36m0:00:00\u001b[0m\n",
      "\u001b[?25hInstalling collected packages: pyathena\n",
      "Successfully installed pyathena-3.8.2\n"
     ]
    }
   ],
   "source": [
    "!pip install pyathena"
   ]
  },
  {
   "cell_type": "code",
   "execution_count": 2,
   "id": "14d1a9a8-6c2b-4c86-8299-8633669531d6",
   "metadata": {},
   "outputs": [],
   "source": [
    "import pandas as pd\n",
    "import pyarrow as pa\n",
    "import pyarrow.parquet as pq"
   ]
  },
  {
   "cell_type": "code",
   "execution_count": 3,
   "id": "c2b3f387-1fbd-4c92-a048-397c2add876a",
   "metadata": {},
   "outputs": [],
   "source": [
    "# Set to zero if train set and to one for test\n",
    "archivo_test = 1\n",
    "\n",
    "if archivo_test == 0: \n",
    "    s3_url = f\"viamericas-datalake-dev-us-east-1-283731589572-raw/FraudModel/Train\"\n",
    "elif archivo_test == 1:\n",
    "    s3_url = f\"viamericas-datalake-dev-us-east-1-283731589572-raw/FraudModel/Test\"\n",
    "elif archivo_test == 2:\n",
    "    s3_url = f\"viamericas-datalake-dev-us-east-1-283731589572-raw/FraudModel/Test\""
   ]
  },
  {
   "cell_type": "markdown",
   "id": "ad471bee-7d65-4122-8c2d-4b82fe5aff2e",
   "metadata": {},
   "source": [
    "## Create Train & Validacion\n",
    "Load parquet for each month"
   ]
  },
  {
   "cell_type": "code",
   "execution_count": 4,
   "id": "3c3c4fe5-2023-4dc8-9c74-48f4b3497c01",
   "metadata": {},
   "outputs": [],
   "source": [
    "if archivo_test == 0: \n",
    "    s3_url = f\"viamericas-datalake-dev-us-east-1-283731589572-raw/FraudModel/Train\"\n",
    "    \n",
    "    df1 = pd.read_parquet(f\"s3://{s3_url}/Preproc_Fr_202301.parquet\")\n",
    "    df2 = pd.read_parquet(f\"s3://{s3_url}/Preproc_Fr_202302.parquet\")\n",
    "    df3 = pd.read_parquet(f\"s3://{s3_url}/Preproc_Fr_202303.parquet\")\n",
    "    df4 = pd.read_parquet(f\"s3://{s3_url}/Preproc_Fr_202304.parquet\")\n",
    "    df5 = pd.read_parquet(f\"s3://{s3_url}/Preproc_Fr_202305.parquet\")\n",
    "    df6 = pd.read_parquet(f\"s3://{s3_url}/Preproc_Fr_202306.parquet\")\n",
    "    df7 = pd.read_parquet(f\"s3://{s3_url}/Preproc_Fr_202307.parquet\")\n",
    "    df8 = pd.read_parquet(f\"s3://{s3_url}/Preproc_Fr_202308.parquet\")\n",
    "    #df12 = pd.read_parquet(f\"s3://{s3_url}/Preproc_Fr_202212.parquet\")\n",
    "    #df11 = pd.read_parquet(f\"s3://{s3_url}/Preproc_Fr_202211.parquet\")\n",
    "    "
   ]
  },
  {
   "cell_type": "code",
   "execution_count": 5,
   "id": "37999da4-ea58-49b8-8fe4-396e41a0c950",
   "metadata": {
    "tags": []
   },
   "outputs": [],
   "source": [
    "## join all dataframes\n",
    "if archivo_test == 0:\n",
    "    dfs = [df1, df2, df3, df4, df5, df6, df7, df8] #df11, df12\n",
    "\n",
    "    df = pd.concat(dfs, ignore_index=True)"
   ]
  },
  {
   "cell_type": "code",
   "execution_count": 6,
   "id": "e64cf750-ddb9-4176-8a83-d947ea0cd9dd",
   "metadata": {},
   "outputs": [
    {
     "name": "stderr",
     "output_type": "stream",
     "text": [
      "/tmp/ipykernel_1642/2873324813.py:15: UserWarning: pandas only supports SQLAlchemy connectable (engine/connection) or database string URI or sqlite3 DBAPI2 connection. Other DBAPI2 objects are not tested. Please consider using SQLAlchemy.\n",
      "  df_perc = pd.read_sql('''select 'branch_working_days', ptile, min(branch_working_days), max(branch_working_days)\n"
     ]
    }
   ],
   "source": [
    "# Corrijo una normalizacion que me falto\n",
    "# DB Setting\n",
    "from pyathena import connect\n",
    "import numpy as np\n",
    "\n",
    "bucket_name = 's3://viamericas-datalake-dev-us-east-1-283731589572-athena/'\n",
    "origin_name = 'AwsDataCatalog'\n",
    "database_name = 'analytics'\n",
    "tablaSource = 'source_fraud_fechas_label'\n",
    "\n",
    "#Connection\n",
    "conn = connect(s3_staging_dir=f'{bucket_name}queryresults/',\n",
    "               region_name='us-east-1')\n",
    "\n",
    "df_perc = pd.read_sql('''select 'branch_working_days', ptile, min(branch_working_days), max(branch_working_days)\n",
    "            from (select NTILE(100) OVER (order by cast(branch_working_days as integer)) as ptile, \n",
    "                    cast(branch_working_days as integer) as branch_working_days\n",
    "                from analytics.abt_fraud\n",
    "                where date_receiver between cast('2023-01-01' as timestamp) and cast('2023-08-01' as timestamp))\n",
    "            where ptile = 1 or ptile = 99\n",
    "            group by ptile;''', conn)\n",
    "df_perc = df_perc.rename(columns={\"_col0\": \"Variable\", \"_col2\": \"Min\", \"_col3\": \"Max\", \"_col4\": \"Avg\"})\n",
    "\n",
    "def scale_percentils(data, Pmin, Pmax, calculo):\n",
    "    \"\"\"\n",
    "    Define scale function\n",
    "\n",
    "    Parameters:\n",
    "    - data: Column to be scale.\n",
    "    - calculo: Whether data is scale using min and max value or predefined value\n",
    "    - Pmin: Value for inferior limit when calculo=0 or percentil for inferior limit when calculo=1 \n",
    "    - Pmax: Value for superior limit when calculo=0 or percentil for superior limit when calculo=1 \n",
    "    - calculo = 1 data is scaled using specified percentiles, Pmin & Pmax, as minimun and maximun\n",
    "    - calculo = 0 data is scaled using values given by Pmin and Pmax values\n",
    "\n",
    "    Returns:\n",
    "    - dataN: scaled data\n",
    "    \"\"\"\n",
    "    m = data.min()\n",
    "    M = data.max()\n",
    "    if calculo==1:\n",
    "        Qmin = Pmin\n",
    "        Qmax = Pmax\n",
    "        q0 = data.quantile(Qmin)\n",
    "        q1 = data.quantile(Qmax)\n",
    "    elif calculo==0:\n",
    "            q0=Pmin\n",
    "            q1=Pmax\n",
    "    data_std = (data - q0) / (q1 - q0)\n",
    "    dataN =  data_std.to_numpy()\n",
    "    #Set limits for outliers\n",
    "    dataN = np.clip(dataN,0,1)\n",
    "    return dataN\n",
    "\n",
    "\n",
    "Mx = df_perc.Max[(df_perc['Variable']=='branch_working_days') & (df_perc['ptile']==99)].item()\n",
    "mn = df_perc.Min[(df_perc['Variable']=='branch_working_days') & (df_perc['ptile']==1)].item()\n",
    "Mx = int(Mx)\n",
    "mn = int(mn)\n",
    "\n",
    "#if archivo_test == 0:\n",
    "#    df['01_branch_working_days'] = scale_percentils(df['branch_working_days'].astype(int), mn, Mx, 0)\n"
   ]
  },
  {
   "cell_type": "code",
   "execution_count": 7,
   "id": "76323f74-f1f9-4399-8eb1-1e489eea6d33",
   "metadata": {},
   "outputs": [],
   "source": [
    "if archivo_test == 0:\n",
    "    from sklearn.model_selection import train_test_split\n",
    "\n",
    "    X_train, X_val, y_train, y_val = train_test_split(\n",
    "        df.loc[:, df.columns != 'target_fraudes'], df['target_fraudes'], test_size=0.3, random_state=42\n",
    "    )"
   ]
  },
  {
   "cell_type": "code",
   "execution_count": 8,
   "id": "8eba67cc-b4c5-4ad1-8487-8683763f2238",
   "metadata": {},
   "outputs": [],
   "source": [
    "if archivo_test == 0:\n",
    "    #Feature names and traget column\n",
    "    feature_names = df.loc[:, df.columns != 'target_fraudes'].columns\n",
    "\n",
    "    trainX = pd.DataFrame(X_train, columns=feature_names)\n",
    "    trainX[\"target\"] = y_train\n",
    "\n",
    "    valX = pd.DataFrame(X_val, columns=feature_names)\n",
    "    valX[\"target\"] = y_val"
   ]
  },
  {
   "cell_type": "code",
   "execution_count": 9,
   "id": "18160575-9d98-413f-8087-0f8afb2a87b2",
   "metadata": {},
   "outputs": [],
   "source": [
    "# save to parquet\n",
    "if archivo_test == 0:\n",
    "    s3_url = f\"s3://viamericas-datalake-dev-us-east-1-283731589572-raw/FraudModel/Data4Model/TargetTodos/Train/Train.parquet\"\n",
    "    trainX.to_parquet(path=s3_url, engine='pyarrow', compression='gzip')\n",
    "\n",
    "    s3_url = f\"s3://viamericas-datalake-dev-us-east-1-283731589572-raw/FraudModel/Data4Model/TargetTodos/Validation/Validation.parquet\"\n",
    "    valX.to_parquet(path=s3_url, engine='pyarrow', compression='gzip')\n",
    "    print('finish saving parquet of train & val')"
   ]
  },
  {
   "cell_type": "markdown",
   "id": "579cadd4-a4eb-423e-b773-bfcf2c4e0d19",
   "metadata": {},
   "source": [
    "## Create test for model"
   ]
  },
  {
   "cell_type": "code",
   "execution_count": 10,
   "id": "c5192f0a-8744-4563-8440-20a0bc682d6a",
   "metadata": {},
   "outputs": [],
   "source": [
    "if archivo_test == 1: \n",
    "    s3_url = f\"viamericas-datalake-dev-us-east-1-283731589572-raw/FraudModel/Test\"\n",
    "    \n",
    "    #dfT1 = pd.read_parquet(f\"s3://{s3_url}/Preproc_Fr_202308.parquet\")\n",
    "    dfT2 = pd.read_parquet(f\"s3://{s3_url}/Preproc_Fr_202309.parquet\")\n",
    "    dfT3 = pd.read_parquet(f\"s3://{s3_url}/Preproc_Fr_202310.parquet\")\n",
    "    dfT4 = pd.read_parquet(f\"s3://{s3_url}/Preproc_Fr_202311.parquet\")\n",
    "    dfT5 = pd.read_parquet(f\"s3://{s3_url}/Preproc_Fr_202312.parquet\")\n",
    "    "
   ]
  },
  {
   "cell_type": "code",
   "execution_count": 11,
   "id": "b4078cad-376b-46c7-bfd2-d842ecb6f398",
   "metadata": {
    "tags": []
   },
   "outputs": [
    {
     "name": "stdout",
     "output_type": "stream",
     "text": [
      "finish saving parquet test\n"
     ]
    }
   ],
   "source": [
    "## join months\n",
    "if archivo_test == 1:\n",
    "    dfTs = [ dfT2, dfT3, dfT4, dfT5] #dfT1,\n",
    "\n",
    "    dfT = pd.concat(dfTs, ignore_index=True)\n",
    "    dfT = dfT.rename(columns={\"target_fraudes\": \"target\"})\n",
    "    \n",
    "    #dfT['receiver_transaction_count'] = dfT['receiver_transaction_count'].astype(str)\n",
    "    #dfT['sender_sending_days'] = dfT['sender_sending_days'].astype(str)\n",
    "    #dfT['01_branch_working_days'] = scale_percentils(dfT['branch_working_days'].astype(int), mn, Mx, 0)\n",
    "    \n",
    "\n",
    "    s3_url = f\"s3://viamericas-datalake-dev-us-east-1-283731589572-raw/FraudModel/Data4Model/TargetTodos/Test/Test.parquet\"\n",
    "    dfT.to_parquet(path=s3_url, engine='pyarrow', compression='gzip')\n",
    "    print('finish saving parquet test')"
   ]
  },
  {
   "cell_type": "markdown",
   "id": "0460f3e2-4caf-4ab7-8ece-389bea41fcf9",
   "metadata": {
    "tags": []
   },
   "source": [
    "## Create 2024 data for model"
   ]
  },
  {
   "cell_type": "code",
   "execution_count": 12,
   "id": "ca33134c-9180-4beb-aa20-be5f642bafd6",
   "metadata": {},
   "outputs": [],
   "source": [
    "if archivo_test == 2: \n",
    "    s3_url = f\"viamericas-datalake-dev-us-east-1-283731589572-raw/FraudModel/Test\"\n",
    "    \n",
    "    #dfT1 = pd.read_parquet(f\"s3://{s3_url}/Preproc_Fr_202308.parquet\")\n",
    "    dfT2401 = pd.read_parquet(f\"s3://{s3_url}/Preproc_Fr_202401.parquet\")\n",
    "    dfT2402 = pd.read_parquet(f\"s3://{s3_url}/Preproc_Fr_202402.parquet\")\n",
    "    dfT2403 = pd.read_parquet(f\"s3://{s3_url}/Preproc_Fr_202403.parquet\")"
   ]
  },
  {
   "cell_type": "code",
   "execution_count": 13,
   "id": "66d0dc36-b631-4925-bd82-4fdb11b41708",
   "metadata": {
    "tags": []
   },
   "outputs": [],
   "source": [
    "## join months\n",
    "if archivo_test == 2:\n",
    "    dfTs = [ dfT2401, dfT2402, dfT2403] \n",
    "\n",
    "    dfT = pd.concat(dfTs, ignore_index=True)\n",
    "    dfT = dfT.rename(columns={\"target_fraudes\": \"target\"})\n",
    "    print(dfT['target'].value_counts())\n",
    "\n",
    "    s3_url = f\"s3://viamericas-datalake-dev-us-east-1-283731589572-raw/FraudModel/Data4Model/TargetTodos/Data2024/Data2024.parquet\"\n",
    "    dfT.to_parquet(path=s3_url, engine='pyarrow', compression='gzip')\n",
    "    print('finish saving parquet 2024')"
   ]
  },
  {
   "cell_type": "code",
   "execution_count": 14,
   "id": "d48345c1-7011-41eb-8439-2f6e20b5f85d",
   "metadata": {
    "tags": []
   },
   "outputs": [
    {
     "ename": "NameError",
     "evalue": "name 'plt' is not defined",
     "output_type": "error",
     "traceback": [
      "\u001b[0;31m---------------------------------------------------------------------------\u001b[0m",
      "\u001b[0;31mNameError\u001b[0m                                 Traceback (most recent call last)",
      "Cell \u001b[0;32mIn[14], line 2\u001b[0m\n\u001b[1;32m      1\u001b[0m \u001b[38;5;28;01mimport\u001b[39;00m \u001b[38;5;21;01mseaborn\u001b[39;00m \u001b[38;5;28;01mas\u001b[39;00m \u001b[38;5;21;01msns\u001b[39;00m\n\u001b[0;32m----> 2\u001b[0m fig, axs \u001b[38;5;241m=\u001b[39m \u001b[43mplt\u001b[49m\u001b[38;5;241m.\u001b[39msubplots(\u001b[38;5;241m1\u001b[39m,\u001b[38;5;241m2\u001b[39m,figsize \u001b[38;5;241m=\u001b[39m (\u001b[38;5;241m12\u001b[39m, \u001b[38;5;241m4\u001b[39m))\n\u001b[1;32m      3\u001b[0m sns\u001b[38;5;241m.\u001b[39mhistplot(data\u001b[38;5;241m=\u001b[39mdfT, x\u001b[38;5;241m=\u001b[39m\u001b[38;5;124m\"\u001b[39m\u001b[38;5;124mbranch_working_days\u001b[39m\u001b[38;5;124m\"\u001b[39m, ax \u001b[38;5;241m=\u001b[39m axs[\u001b[38;5;241m0\u001b[39m])\n\u001b[1;32m      4\u001b[0m sns\u001b[38;5;241m.\u001b[39mhistplot(data\u001b[38;5;241m=\u001b[39mdfT, x\u001b[38;5;241m=\u001b[39m\u001b[38;5;124m\"\u001b[39m\u001b[38;5;124m01_branch_working_days\u001b[39m\u001b[38;5;124m\"\u001b[39m, ax \u001b[38;5;241m=\u001b[39m axs[\u001b[38;5;241m1\u001b[39m])\n",
      "\u001b[0;31mNameError\u001b[0m: name 'plt' is not defined"
     ]
    }
   ],
   "source": [
    "import seaborn as sns\n",
    "fig, axs = plt.subplots(1,2,figsize = (12, 4))\n",
    "sns.histplot(data=dfT, x=\"branch_working_days\", ax = axs[0])\n",
    "sns.histplot(data=dfT, x=\"01_branch_working_days\", ax = axs[1])"
   ]
  }
 ],
 "metadata": {
  "availableInstances": [
   {
    "_defaultOrder": 0,
    "_isFastLaunch": true,
    "category": "General purpose",
    "gpuNum": 0,
    "hideHardwareSpecs": false,
    "memoryGiB": 4,
    "name": "ml.t3.medium",
    "vcpuNum": 2
   },
   {
    "_defaultOrder": 1,
    "_isFastLaunch": false,
    "category": "General purpose",
    "gpuNum": 0,
    "hideHardwareSpecs": false,
    "memoryGiB": 8,
    "name": "ml.t3.large",
    "vcpuNum": 2
   },
   {
    "_defaultOrder": 2,
    "_isFastLaunch": false,
    "category": "General purpose",
    "gpuNum": 0,
    "hideHardwareSpecs": false,
    "memoryGiB": 16,
    "name": "ml.t3.xlarge",
    "vcpuNum": 4
   },
   {
    "_defaultOrder": 3,
    "_isFastLaunch": false,
    "category": "General purpose",
    "gpuNum": 0,
    "hideHardwareSpecs": false,
    "memoryGiB": 32,
    "name": "ml.t3.2xlarge",
    "vcpuNum": 8
   },
   {
    "_defaultOrder": 4,
    "_isFastLaunch": true,
    "category": "General purpose",
    "gpuNum": 0,
    "hideHardwareSpecs": false,
    "memoryGiB": 8,
    "name": "ml.m5.large",
    "vcpuNum": 2
   },
   {
    "_defaultOrder": 5,
    "_isFastLaunch": false,
    "category": "General purpose",
    "gpuNum": 0,
    "hideHardwareSpecs": false,
    "memoryGiB": 16,
    "name": "ml.m5.xlarge",
    "vcpuNum": 4
   },
   {
    "_defaultOrder": 6,
    "_isFastLaunch": false,
    "category": "General purpose",
    "gpuNum": 0,
    "hideHardwareSpecs": false,
    "memoryGiB": 32,
    "name": "ml.m5.2xlarge",
    "vcpuNum": 8
   },
   {
    "_defaultOrder": 7,
    "_isFastLaunch": false,
    "category": "General purpose",
    "gpuNum": 0,
    "hideHardwareSpecs": false,
    "memoryGiB": 64,
    "name": "ml.m5.4xlarge",
    "vcpuNum": 16
   },
   {
    "_defaultOrder": 8,
    "_isFastLaunch": false,
    "category": "General purpose",
    "gpuNum": 0,
    "hideHardwareSpecs": false,
    "memoryGiB": 128,
    "name": "ml.m5.8xlarge",
    "vcpuNum": 32
   },
   {
    "_defaultOrder": 9,
    "_isFastLaunch": false,
    "category": "General purpose",
    "gpuNum": 0,
    "hideHardwareSpecs": false,
    "memoryGiB": 192,
    "name": "ml.m5.12xlarge",
    "vcpuNum": 48
   },
   {
    "_defaultOrder": 10,
    "_isFastLaunch": false,
    "category": "General purpose",
    "gpuNum": 0,
    "hideHardwareSpecs": false,
    "memoryGiB": 256,
    "name": "ml.m5.16xlarge",
    "vcpuNum": 64
   },
   {
    "_defaultOrder": 11,
    "_isFastLaunch": false,
    "category": "General purpose",
    "gpuNum": 0,
    "hideHardwareSpecs": false,
    "memoryGiB": 384,
    "name": "ml.m5.24xlarge",
    "vcpuNum": 96
   },
   {
    "_defaultOrder": 12,
    "_isFastLaunch": false,
    "category": "General purpose",
    "gpuNum": 0,
    "hideHardwareSpecs": false,
    "memoryGiB": 8,
    "name": "ml.m5d.large",
    "vcpuNum": 2
   },
   {
    "_defaultOrder": 13,
    "_isFastLaunch": false,
    "category": "General purpose",
    "gpuNum": 0,
    "hideHardwareSpecs": false,
    "memoryGiB": 16,
    "name": "ml.m5d.xlarge",
    "vcpuNum": 4
   },
   {
    "_defaultOrder": 14,
    "_isFastLaunch": false,
    "category": "General purpose",
    "gpuNum": 0,
    "hideHardwareSpecs": false,
    "memoryGiB": 32,
    "name": "ml.m5d.2xlarge",
    "vcpuNum": 8
   },
   {
    "_defaultOrder": 15,
    "_isFastLaunch": false,
    "category": "General purpose",
    "gpuNum": 0,
    "hideHardwareSpecs": false,
    "memoryGiB": 64,
    "name": "ml.m5d.4xlarge",
    "vcpuNum": 16
   },
   {
    "_defaultOrder": 16,
    "_isFastLaunch": false,
    "category": "General purpose",
    "gpuNum": 0,
    "hideHardwareSpecs": false,
    "memoryGiB": 128,
    "name": "ml.m5d.8xlarge",
    "vcpuNum": 32
   },
   {
    "_defaultOrder": 17,
    "_isFastLaunch": false,
    "category": "General purpose",
    "gpuNum": 0,
    "hideHardwareSpecs": false,
    "memoryGiB": 192,
    "name": "ml.m5d.12xlarge",
    "vcpuNum": 48
   },
   {
    "_defaultOrder": 18,
    "_isFastLaunch": false,
    "category": "General purpose",
    "gpuNum": 0,
    "hideHardwareSpecs": false,
    "memoryGiB": 256,
    "name": "ml.m5d.16xlarge",
    "vcpuNum": 64
   },
   {
    "_defaultOrder": 19,
    "_isFastLaunch": false,
    "category": "General purpose",
    "gpuNum": 0,
    "hideHardwareSpecs": false,
    "memoryGiB": 384,
    "name": "ml.m5d.24xlarge",
    "vcpuNum": 96
   },
   {
    "_defaultOrder": 20,
    "_isFastLaunch": false,
    "category": "General purpose",
    "gpuNum": 0,
    "hideHardwareSpecs": true,
    "memoryGiB": 0,
    "name": "ml.geospatial.interactive",
    "supportedImageNames": [
     "sagemaker-geospatial-v1-0"
    ],
    "vcpuNum": 0
   },
   {
    "_defaultOrder": 21,
    "_isFastLaunch": true,
    "category": "Compute optimized",
    "gpuNum": 0,
    "hideHardwareSpecs": false,
    "memoryGiB": 4,
    "name": "ml.c5.large",
    "vcpuNum": 2
   },
   {
    "_defaultOrder": 22,
    "_isFastLaunch": false,
    "category": "Compute optimized",
    "gpuNum": 0,
    "hideHardwareSpecs": false,
    "memoryGiB": 8,
    "name": "ml.c5.xlarge",
    "vcpuNum": 4
   },
   {
    "_defaultOrder": 23,
    "_isFastLaunch": false,
    "category": "Compute optimized",
    "gpuNum": 0,
    "hideHardwareSpecs": false,
    "memoryGiB": 16,
    "name": "ml.c5.2xlarge",
    "vcpuNum": 8
   },
   {
    "_defaultOrder": 24,
    "_isFastLaunch": false,
    "category": "Compute optimized",
    "gpuNum": 0,
    "hideHardwareSpecs": false,
    "memoryGiB": 32,
    "name": "ml.c5.4xlarge",
    "vcpuNum": 16
   },
   {
    "_defaultOrder": 25,
    "_isFastLaunch": false,
    "category": "Compute optimized",
    "gpuNum": 0,
    "hideHardwareSpecs": false,
    "memoryGiB": 72,
    "name": "ml.c5.9xlarge",
    "vcpuNum": 36
   },
   {
    "_defaultOrder": 26,
    "_isFastLaunch": false,
    "category": "Compute optimized",
    "gpuNum": 0,
    "hideHardwareSpecs": false,
    "memoryGiB": 96,
    "name": "ml.c5.12xlarge",
    "vcpuNum": 48
   },
   {
    "_defaultOrder": 27,
    "_isFastLaunch": false,
    "category": "Compute optimized",
    "gpuNum": 0,
    "hideHardwareSpecs": false,
    "memoryGiB": 144,
    "name": "ml.c5.18xlarge",
    "vcpuNum": 72
   },
   {
    "_defaultOrder": 28,
    "_isFastLaunch": false,
    "category": "Compute optimized",
    "gpuNum": 0,
    "hideHardwareSpecs": false,
    "memoryGiB": 192,
    "name": "ml.c5.24xlarge",
    "vcpuNum": 96
   },
   {
    "_defaultOrder": 29,
    "_isFastLaunch": true,
    "category": "Accelerated computing",
    "gpuNum": 1,
    "hideHardwareSpecs": false,
    "memoryGiB": 16,
    "name": "ml.g4dn.xlarge",
    "vcpuNum": 4
   },
   {
    "_defaultOrder": 30,
    "_isFastLaunch": false,
    "category": "Accelerated computing",
    "gpuNum": 1,
    "hideHardwareSpecs": false,
    "memoryGiB": 32,
    "name": "ml.g4dn.2xlarge",
    "vcpuNum": 8
   },
   {
    "_defaultOrder": 31,
    "_isFastLaunch": false,
    "category": "Accelerated computing",
    "gpuNum": 1,
    "hideHardwareSpecs": false,
    "memoryGiB": 64,
    "name": "ml.g4dn.4xlarge",
    "vcpuNum": 16
   },
   {
    "_defaultOrder": 32,
    "_isFastLaunch": false,
    "category": "Accelerated computing",
    "gpuNum": 1,
    "hideHardwareSpecs": false,
    "memoryGiB": 128,
    "name": "ml.g4dn.8xlarge",
    "vcpuNum": 32
   },
   {
    "_defaultOrder": 33,
    "_isFastLaunch": false,
    "category": "Accelerated computing",
    "gpuNum": 4,
    "hideHardwareSpecs": false,
    "memoryGiB": 192,
    "name": "ml.g4dn.12xlarge",
    "vcpuNum": 48
   },
   {
    "_defaultOrder": 34,
    "_isFastLaunch": false,
    "category": "Accelerated computing",
    "gpuNum": 1,
    "hideHardwareSpecs": false,
    "memoryGiB": 256,
    "name": "ml.g4dn.16xlarge",
    "vcpuNum": 64
   },
   {
    "_defaultOrder": 35,
    "_isFastLaunch": false,
    "category": "Accelerated computing",
    "gpuNum": 1,
    "hideHardwareSpecs": false,
    "memoryGiB": 61,
    "name": "ml.p3.2xlarge",
    "vcpuNum": 8
   },
   {
    "_defaultOrder": 36,
    "_isFastLaunch": false,
    "category": "Accelerated computing",
    "gpuNum": 4,
    "hideHardwareSpecs": false,
    "memoryGiB": 244,
    "name": "ml.p3.8xlarge",
    "vcpuNum": 32
   },
   {
    "_defaultOrder": 37,
    "_isFastLaunch": false,
    "category": "Accelerated computing",
    "gpuNum": 8,
    "hideHardwareSpecs": false,
    "memoryGiB": 488,
    "name": "ml.p3.16xlarge",
    "vcpuNum": 64
   },
   {
    "_defaultOrder": 38,
    "_isFastLaunch": false,
    "category": "Accelerated computing",
    "gpuNum": 8,
    "hideHardwareSpecs": false,
    "memoryGiB": 768,
    "name": "ml.p3dn.24xlarge",
    "vcpuNum": 96
   },
   {
    "_defaultOrder": 39,
    "_isFastLaunch": false,
    "category": "Memory Optimized",
    "gpuNum": 0,
    "hideHardwareSpecs": false,
    "memoryGiB": 16,
    "name": "ml.r5.large",
    "vcpuNum": 2
   },
   {
    "_defaultOrder": 40,
    "_isFastLaunch": false,
    "category": "Memory Optimized",
    "gpuNum": 0,
    "hideHardwareSpecs": false,
    "memoryGiB": 32,
    "name": "ml.r5.xlarge",
    "vcpuNum": 4
   },
   {
    "_defaultOrder": 41,
    "_isFastLaunch": false,
    "category": "Memory Optimized",
    "gpuNum": 0,
    "hideHardwareSpecs": false,
    "memoryGiB": 64,
    "name": "ml.r5.2xlarge",
    "vcpuNum": 8
   },
   {
    "_defaultOrder": 42,
    "_isFastLaunch": false,
    "category": "Memory Optimized",
    "gpuNum": 0,
    "hideHardwareSpecs": false,
    "memoryGiB": 128,
    "name": "ml.r5.4xlarge",
    "vcpuNum": 16
   },
   {
    "_defaultOrder": 43,
    "_isFastLaunch": false,
    "category": "Memory Optimized",
    "gpuNum": 0,
    "hideHardwareSpecs": false,
    "memoryGiB": 256,
    "name": "ml.r5.8xlarge",
    "vcpuNum": 32
   },
   {
    "_defaultOrder": 44,
    "_isFastLaunch": false,
    "category": "Memory Optimized",
    "gpuNum": 0,
    "hideHardwareSpecs": false,
    "memoryGiB": 384,
    "name": "ml.r5.12xlarge",
    "vcpuNum": 48
   },
   {
    "_defaultOrder": 45,
    "_isFastLaunch": false,
    "category": "Memory Optimized",
    "gpuNum": 0,
    "hideHardwareSpecs": false,
    "memoryGiB": 512,
    "name": "ml.r5.16xlarge",
    "vcpuNum": 64
   },
   {
    "_defaultOrder": 46,
    "_isFastLaunch": false,
    "category": "Memory Optimized",
    "gpuNum": 0,
    "hideHardwareSpecs": false,
    "memoryGiB": 768,
    "name": "ml.r5.24xlarge",
    "vcpuNum": 96
   },
   {
    "_defaultOrder": 47,
    "_isFastLaunch": false,
    "category": "Accelerated computing",
    "gpuNum": 1,
    "hideHardwareSpecs": false,
    "memoryGiB": 16,
    "name": "ml.g5.xlarge",
    "vcpuNum": 4
   },
   {
    "_defaultOrder": 48,
    "_isFastLaunch": false,
    "category": "Accelerated computing",
    "gpuNum": 1,
    "hideHardwareSpecs": false,
    "memoryGiB": 32,
    "name": "ml.g5.2xlarge",
    "vcpuNum": 8
   },
   {
    "_defaultOrder": 49,
    "_isFastLaunch": false,
    "category": "Accelerated computing",
    "gpuNum": 1,
    "hideHardwareSpecs": false,
    "memoryGiB": 64,
    "name": "ml.g5.4xlarge",
    "vcpuNum": 16
   },
   {
    "_defaultOrder": 50,
    "_isFastLaunch": false,
    "category": "Accelerated computing",
    "gpuNum": 1,
    "hideHardwareSpecs": false,
    "memoryGiB": 128,
    "name": "ml.g5.8xlarge",
    "vcpuNum": 32
   },
   {
    "_defaultOrder": 51,
    "_isFastLaunch": false,
    "category": "Accelerated computing",
    "gpuNum": 1,
    "hideHardwareSpecs": false,
    "memoryGiB": 256,
    "name": "ml.g5.16xlarge",
    "vcpuNum": 64
   },
   {
    "_defaultOrder": 52,
    "_isFastLaunch": false,
    "category": "Accelerated computing",
    "gpuNum": 4,
    "hideHardwareSpecs": false,
    "memoryGiB": 192,
    "name": "ml.g5.12xlarge",
    "vcpuNum": 48
   },
   {
    "_defaultOrder": 53,
    "_isFastLaunch": false,
    "category": "Accelerated computing",
    "gpuNum": 4,
    "hideHardwareSpecs": false,
    "memoryGiB": 384,
    "name": "ml.g5.24xlarge",
    "vcpuNum": 96
   },
   {
    "_defaultOrder": 54,
    "_isFastLaunch": false,
    "category": "Accelerated computing",
    "gpuNum": 8,
    "hideHardwareSpecs": false,
    "memoryGiB": 768,
    "name": "ml.g5.48xlarge",
    "vcpuNum": 192
   },
   {
    "_defaultOrder": 55,
    "_isFastLaunch": false,
    "category": "Accelerated computing",
    "gpuNum": 8,
    "hideHardwareSpecs": false,
    "memoryGiB": 1152,
    "name": "ml.p4d.24xlarge",
    "vcpuNum": 96
   },
   {
    "_defaultOrder": 56,
    "_isFastLaunch": false,
    "category": "Accelerated computing",
    "gpuNum": 8,
    "hideHardwareSpecs": false,
    "memoryGiB": 1152,
    "name": "ml.p4de.24xlarge",
    "vcpuNum": 96
   },
   {
    "_defaultOrder": 57,
    "_isFastLaunch": false,
    "category": "Accelerated computing",
    "gpuNum": 0,
    "hideHardwareSpecs": false,
    "memoryGiB": 32,
    "name": "ml.trn1.2xlarge",
    "vcpuNum": 8
   },
   {
    "_defaultOrder": 58,
    "_isFastLaunch": false,
    "category": "Accelerated computing",
    "gpuNum": 0,
    "hideHardwareSpecs": false,
    "memoryGiB": 512,
    "name": "ml.trn1.32xlarge",
    "vcpuNum": 128
   },
   {
    "_defaultOrder": 59,
    "_isFastLaunch": false,
    "category": "Accelerated computing",
    "gpuNum": 0,
    "hideHardwareSpecs": false,
    "memoryGiB": 512,
    "name": "ml.trn1n.32xlarge",
    "vcpuNum": 128
   }
  ],
  "instance_type": "ml.c5.large",
  "kernelspec": {
   "display_name": "conda_python3",
   "language": "python",
   "name": "conda_python3"
  },
  "language_info": {
   "codemirror_mode": {
    "name": "ipython",
    "version": 3
   },
   "file_extension": ".py",
   "mimetype": "text/x-python",
   "name": "python",
   "nbconvert_exporter": "python",
   "pygments_lexer": "ipython3",
   "version": "3.10.14"
  }
 },
 "nbformat": 4,
 "nbformat_minor": 5
}
