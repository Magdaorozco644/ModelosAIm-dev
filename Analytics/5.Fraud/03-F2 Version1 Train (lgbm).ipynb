{
 "cells": [
  {
   "cell_type": "code",
   "execution_count": 185,
   "metadata": {
    "tags": []
   },
   "outputs": [
    {
     "name": "stdout",
     "output_type": "stream",
     "text": [
      "Requirement already satisfied: tabgan==1.3.3 in /home/ec2-user/anaconda3/envs/python3/lib/python3.10/site-packages (1.3.3)\n",
      "Requirement already satisfied: pandas in /home/ec2-user/anaconda3/envs/python3/lib/python3.10/site-packages (from tabgan==1.3.3) (2.2.1)\n",
      "Requirement already satisfied: numpy in /home/ec2-user/anaconda3/envs/python3/lib/python3.10/site-packages (from tabgan==1.3.3) (1.22.4)\n",
      "Requirement already satisfied: category-encoders in /home/ec2-user/anaconda3/envs/python3/lib/python3.10/site-packages (from tabgan==1.3.3) (2.6.3)\n",
      "Requirement already satisfied: torch>=1.0 in /home/ec2-user/anaconda3/envs/python3/lib/python3.10/site-packages (from tabgan==1.3.3) (2.2.1)\n",
      "Requirement already satisfied: lightgbm>=2.2.3 in /home/ec2-user/anaconda3/envs/python3/lib/python3.10/site-packages (from tabgan==1.3.3) (4.3.0)\n",
      "Requirement already satisfied: scikit-learn>=1.0.2 in /home/ec2-user/anaconda3/envs/python3/lib/python3.10/site-packages (from tabgan==1.3.3) (1.4.0)\n",
      "Requirement already satisfied: torchvision in /home/ec2-user/anaconda3/envs/python3/lib/python3.10/site-packages (from tabgan==1.3.3) (0.17.1)\n",
      "Requirement already satisfied: python-dateutil in /home/ec2-user/anaconda3/envs/python3/lib/python3.10/site-packages (from tabgan==1.3.3) (2.8.2)\n",
      "Requirement already satisfied: tqdm in /home/ec2-user/anaconda3/envs/python3/lib/python3.10/site-packages (from tabgan==1.3.3) (4.66.1)\n",
      "Requirement already satisfied: scipy in /home/ec2-user/anaconda3/envs/python3/lib/python3.10/site-packages (from lightgbm>=2.2.3->tabgan==1.3.3) (1.12.0)\n",
      "Requirement already satisfied: joblib>=1.2.0 in /home/ec2-user/anaconda3/envs/python3/lib/python3.10/site-packages (from scikit-learn>=1.0.2->tabgan==1.3.3) (1.3.2)\n",
      "Requirement already satisfied: threadpoolctl>=2.0.0 in /home/ec2-user/anaconda3/envs/python3/lib/python3.10/site-packages (from scikit-learn>=1.0.2->tabgan==1.3.3) (3.2.0)\n",
      "Requirement already satisfied: filelock in /home/ec2-user/anaconda3/envs/python3/lib/python3.10/site-packages (from torch>=1.0->tabgan==1.3.3) (3.13.1)\n",
      "Requirement already satisfied: typing-extensions>=4.8.0 in /home/ec2-user/anaconda3/envs/python3/lib/python3.10/site-packages (from torch>=1.0->tabgan==1.3.3) (4.9.0)\n",
      "Requirement already satisfied: sympy in /home/ec2-user/anaconda3/envs/python3/lib/python3.10/site-packages (from torch>=1.0->tabgan==1.3.3) (1.12)\n",
      "Requirement already satisfied: networkx in /home/ec2-user/anaconda3/envs/python3/lib/python3.10/site-packages (from torch>=1.0->tabgan==1.3.3) (3.2.1)\n",
      "Requirement already satisfied: jinja2 in /home/ec2-user/anaconda3/envs/python3/lib/python3.10/site-packages (from torch>=1.0->tabgan==1.3.3) (3.1.3)\n",
      "Requirement already satisfied: fsspec in /home/ec2-user/anaconda3/envs/python3/lib/python3.10/site-packages (from torch>=1.0->tabgan==1.3.3) (2023.12.2)\n",
      "Requirement already satisfied: nvidia-cuda-nvrtc-cu12==12.1.105 in /home/ec2-user/anaconda3/envs/python3/lib/python3.10/site-packages (from torch>=1.0->tabgan==1.3.3) (12.1.105)\n",
      "Requirement already satisfied: nvidia-cuda-runtime-cu12==12.1.105 in /home/ec2-user/anaconda3/envs/python3/lib/python3.10/site-packages (from torch>=1.0->tabgan==1.3.3) (12.1.105)\n",
      "Requirement already satisfied: nvidia-cuda-cupti-cu12==12.1.105 in /home/ec2-user/anaconda3/envs/python3/lib/python3.10/site-packages (from torch>=1.0->tabgan==1.3.3) (12.1.105)\n",
      "Requirement already satisfied: nvidia-cudnn-cu12==8.9.2.26 in /home/ec2-user/anaconda3/envs/python3/lib/python3.10/site-packages (from torch>=1.0->tabgan==1.3.3) (8.9.2.26)\n",
      "Requirement already satisfied: nvidia-cublas-cu12==12.1.3.1 in /home/ec2-user/anaconda3/envs/python3/lib/python3.10/site-packages (from torch>=1.0->tabgan==1.3.3) (12.1.3.1)\n",
      "Requirement already satisfied: nvidia-cufft-cu12==11.0.2.54 in /home/ec2-user/anaconda3/envs/python3/lib/python3.10/site-packages (from torch>=1.0->tabgan==1.3.3) (11.0.2.54)\n",
      "Requirement already satisfied: nvidia-curand-cu12==10.3.2.106 in /home/ec2-user/anaconda3/envs/python3/lib/python3.10/site-packages (from torch>=1.0->tabgan==1.3.3) (10.3.2.106)\n",
      "Requirement already satisfied: nvidia-cusolver-cu12==11.4.5.107 in /home/ec2-user/anaconda3/envs/python3/lib/python3.10/site-packages (from torch>=1.0->tabgan==1.3.3) (11.4.5.107)\n",
      "Requirement already satisfied: nvidia-cusparse-cu12==12.1.0.106 in /home/ec2-user/anaconda3/envs/python3/lib/python3.10/site-packages (from torch>=1.0->tabgan==1.3.3) (12.1.0.106)\n",
      "Requirement already satisfied: nvidia-nccl-cu12==2.19.3 in /home/ec2-user/anaconda3/envs/python3/lib/python3.10/site-packages (from torch>=1.0->tabgan==1.3.3) (2.19.3)\n",
      "Requirement already satisfied: nvidia-nvtx-cu12==12.1.105 in /home/ec2-user/anaconda3/envs/python3/lib/python3.10/site-packages (from torch>=1.0->tabgan==1.3.3) (12.1.105)\n",
      "Requirement already satisfied: triton==2.2.0 in /home/ec2-user/anaconda3/envs/python3/lib/python3.10/site-packages (from torch>=1.0->tabgan==1.3.3) (2.2.0)\n",
      "Requirement already satisfied: nvidia-nvjitlink-cu12 in /home/ec2-user/anaconda3/envs/python3/lib/python3.10/site-packages (from nvidia-cusolver-cu12==11.4.5.107->torch>=1.0->tabgan==1.3.3) (12.4.99)\n",
      "Requirement already satisfied: statsmodels>=0.9.0 in /home/ec2-user/anaconda3/envs/python3/lib/python3.10/site-packages (from category-encoders->tabgan==1.3.3) (0.14.1)\n",
      "Requirement already satisfied: patsy>=0.5.1 in /home/ec2-user/anaconda3/envs/python3/lib/python3.10/site-packages (from category-encoders->tabgan==1.3.3) (0.5.6)\n",
      "Requirement already satisfied: pytz>=2020.1 in /home/ec2-user/anaconda3/envs/python3/lib/python3.10/site-packages (from pandas->tabgan==1.3.3) (2023.4)\n",
      "Requirement already satisfied: tzdata>=2022.7 in /home/ec2-user/anaconda3/envs/python3/lib/python3.10/site-packages (from pandas->tabgan==1.3.3) (2023.4)\n",
      "Requirement already satisfied: six>=1.5 in /home/ec2-user/anaconda3/envs/python3/lib/python3.10/site-packages (from python-dateutil->tabgan==1.3.3) (1.16.0)\n",
      "Requirement already satisfied: pillow!=8.3.*,>=5.3.0 in /home/ec2-user/anaconda3/envs/python3/lib/python3.10/site-packages (from torchvision->tabgan==1.3.3) (10.2.0)\n",
      "Requirement already satisfied: packaging>=21.3 in /home/ec2-user/anaconda3/envs/python3/lib/python3.10/site-packages (from statsmodels>=0.9.0->category-encoders->tabgan==1.3.3) (21.3)\n",
      "Requirement already satisfied: MarkupSafe>=2.0 in /home/ec2-user/anaconda3/envs/python3/lib/python3.10/site-packages (from jinja2->torch>=1.0->tabgan==1.3.3) (2.1.4)\n",
      "Requirement already satisfied: mpmath>=0.19 in /home/ec2-user/anaconda3/envs/python3/lib/python3.10/site-packages (from sympy->torch>=1.0->tabgan==1.3.3) (1.3.0)\n",
      "Requirement already satisfied: pyparsing!=3.0.5,>=2.0.2 in /home/ec2-user/anaconda3/envs/python3/lib/python3.10/site-packages (from packaging>=21.3->statsmodels>=0.9.0->category-encoders->tabgan==1.3.3) (3.1.1)\n",
      "Note: you may need to restart the kernel to use updated packages.\n"
     ]
    }
   ],
   "source": [
    "pip install tabgan==1.3.3"
   ]
  },
  {
   "cell_type": "code",
   "execution_count": 186,
   "metadata": {
    "tags": []
   },
   "outputs": [
    {
     "name": "stdout",
     "output_type": "stream",
     "text": [
      "Requirement already satisfied: lightgbm in /home/ec2-user/anaconda3/envs/python3/lib/python3.10/site-packages (4.3.0)\n",
      "Requirement already satisfied: numpy in /home/ec2-user/anaconda3/envs/python3/lib/python3.10/site-packages (from lightgbm) (1.22.4)\n",
      "Requirement already satisfied: scipy in /home/ec2-user/anaconda3/envs/python3/lib/python3.10/site-packages (from lightgbm) (1.12.0)\n"
     ]
    }
   ],
   "source": [
    "!pip install lightgbm"
   ]
  },
  {
   "cell_type": "code",
   "execution_count": 187,
   "metadata": {
    "tags": []
   },
   "outputs": [
    {
     "name": "stdout",
     "output_type": "stream",
     "text": [
      "Requirement already satisfied: pandas in /home/ec2-user/anaconda3/envs/python3/lib/python3.10/site-packages (2.2.1)\n",
      "Requirement already satisfied: dask[complete] in /home/ec2-user/anaconda3/envs/python3/lib/python3.10/site-packages (2024.3.1)\n",
      "Requirement already satisfied: numpy<2,>=1.22.4 in /home/ec2-user/anaconda3/envs/python3/lib/python3.10/site-packages (from pandas) (1.22.4)\n",
      "Requirement already satisfied: python-dateutil>=2.8.2 in /home/ec2-user/anaconda3/envs/python3/lib/python3.10/site-packages (from pandas) (2.8.2)\n",
      "Requirement already satisfied: pytz>=2020.1 in /home/ec2-user/anaconda3/envs/python3/lib/python3.10/site-packages (from pandas) (2023.4)\n",
      "Requirement already satisfied: tzdata>=2022.7 in /home/ec2-user/anaconda3/envs/python3/lib/python3.10/site-packages (from pandas) (2023.4)\n",
      "Requirement already satisfied: click>=8.1 in /home/ec2-user/anaconda3/envs/python3/lib/python3.10/site-packages (from dask[complete]) (8.1.7)\n",
      "Requirement already satisfied: cloudpickle>=1.5.0 in /home/ec2-user/anaconda3/envs/python3/lib/python3.10/site-packages (from dask[complete]) (2.2.1)\n",
      "Requirement already satisfied: fsspec>=2021.09.0 in /home/ec2-user/anaconda3/envs/python3/lib/python3.10/site-packages (from dask[complete]) (2023.12.2)\n",
      "Requirement already satisfied: packaging>=20.0 in /home/ec2-user/anaconda3/envs/python3/lib/python3.10/site-packages (from dask[complete]) (21.3)\n",
      "Requirement already satisfied: partd>=1.2.0 in /home/ec2-user/anaconda3/envs/python3/lib/python3.10/site-packages (from dask[complete]) (1.4.1)\n",
      "Requirement already satisfied: pyyaml>=5.3.1 in /home/ec2-user/anaconda3/envs/python3/lib/python3.10/site-packages (from dask[complete]) (6.0.1)\n",
      "Requirement already satisfied: toolz>=0.10.0 in /home/ec2-user/anaconda3/envs/python3/lib/python3.10/site-packages (from dask[complete]) (0.12.1)\n",
      "Requirement already satisfied: importlib-metadata>=4.13.0 in /home/ec2-user/anaconda3/envs/python3/lib/python3.10/site-packages (from dask[complete]) (6.11.0)\n",
      "Requirement already satisfied: pyarrow>=7.0 in /home/ec2-user/anaconda3/envs/python3/lib/python3.10/site-packages (from dask[complete]) (15.0.0)\n",
      "Requirement already satisfied: pyarrow-hotfix in /home/ec2-user/anaconda3/envs/python3/lib/python3.10/site-packages (from dask[complete]) (0.6)\n",
      "Requirement already satisfied: lz4>=4.3.2 in /home/ec2-user/anaconda3/envs/python3/lib/python3.10/site-packages (from dask[complete]) (4.3.3)\n",
      "Requirement already satisfied: zipp>=0.5 in /home/ec2-user/anaconda3/envs/python3/lib/python3.10/site-packages (from importlib-metadata>=4.13.0->dask[complete]) (3.17.0)\n",
      "Requirement already satisfied: pyparsing!=3.0.5,>=2.0.2 in /home/ec2-user/anaconda3/envs/python3/lib/python3.10/site-packages (from packaging>=20.0->dask[complete]) (3.1.1)\n",
      "Requirement already satisfied: locket in /home/ec2-user/anaconda3/envs/python3/lib/python3.10/site-packages (from partd>=1.2.0->dask[complete]) (1.0.0)\n",
      "Requirement already satisfied: six>=1.5 in /home/ec2-user/anaconda3/envs/python3/lib/python3.10/site-packages (from python-dateutil>=2.8.2->pandas) (1.16.0)\n",
      "Requirement already satisfied: distributed==2024.3.1 in /home/ec2-user/anaconda3/envs/python3/lib/python3.10/site-packages (from dask[complete]) (2024.3.1)\n",
      "Requirement already satisfied: bokeh>=2.4.2 in /home/ec2-user/anaconda3/envs/python3/lib/python3.10/site-packages (from dask[complete]) (3.3.4)\n",
      "Requirement already satisfied: jinja2>=2.10.3 in /home/ec2-user/anaconda3/envs/python3/lib/python3.10/site-packages (from dask[complete]) (3.1.3)\n",
      "Requirement already satisfied: dask-expr<1.1,>=1.0 in /home/ec2-user/anaconda3/envs/python3/lib/python3.10/site-packages (from dask[complete]) (1.0.4)\n",
      "Requirement already satisfied: msgpack>=1.0.0 in /home/ec2-user/anaconda3/envs/python3/lib/python3.10/site-packages (from distributed==2024.3.1->dask[complete]) (1.0.7)\n",
      "Requirement already satisfied: psutil>=5.7.2 in /home/ec2-user/anaconda3/envs/python3/lib/python3.10/site-packages (from distributed==2024.3.1->dask[complete]) (5.9.8)\n",
      "Requirement already satisfied: sortedcontainers>=2.0.5 in /home/ec2-user/anaconda3/envs/python3/lib/python3.10/site-packages (from distributed==2024.3.1->dask[complete]) (2.4.0)\n",
      "Requirement already satisfied: tblib>=1.6.0 in /home/ec2-user/anaconda3/envs/python3/lib/python3.10/site-packages (from distributed==2024.3.1->dask[complete]) (2.0.0)\n",
      "Requirement already satisfied: tornado>=6.0.4 in /home/ec2-user/anaconda3/envs/python3/lib/python3.10/site-packages (from distributed==2024.3.1->dask[complete]) (6.3.3)\n",
      "Requirement already satisfied: urllib3>=1.24.3 in /home/ec2-user/anaconda3/envs/python3/lib/python3.10/site-packages (from distributed==2024.3.1->dask[complete]) (1.26.18)\n",
      "Requirement already satisfied: zict>=3.0.0 in /home/ec2-user/anaconda3/envs/python3/lib/python3.10/site-packages (from distributed==2024.3.1->dask[complete]) (3.0.0)\n",
      "Requirement already satisfied: contourpy>=1 in /home/ec2-user/anaconda3/envs/python3/lib/python3.10/site-packages (from bokeh>=2.4.2->dask[complete]) (1.2.0)\n",
      "Requirement already satisfied: pillow>=7.1.0 in /home/ec2-user/anaconda3/envs/python3/lib/python3.10/site-packages (from bokeh>=2.4.2->dask[complete]) (10.2.0)\n",
      "Requirement already satisfied: xyzservices>=2021.09.1 in /home/ec2-user/anaconda3/envs/python3/lib/python3.10/site-packages (from bokeh>=2.4.2->dask[complete]) (2023.10.1)\n",
      "Requirement already satisfied: MarkupSafe>=2.0 in /home/ec2-user/anaconda3/envs/python3/lib/python3.10/site-packages (from jinja2>=2.10.3->dask[complete]) (2.1.4)\n",
      "Note: you may need to restart the kernel to use updated packages.\n"
     ]
    }
   ],
   "source": [
    "pip install --upgrade pandas \"dask[complete]\""
   ]
  },
  {
   "cell_type": "code",
   "execution_count": 188,
   "metadata": {
    "application/vnd.databricks.v1+cell": {
     "cellMetadata": {
      "byteLimit": 2048000,
      "rowLimit": 10000
     },
     "inputWidgets": {},
     "nuid": "567b8871-992b-48f1-9709-847d1f6529ec",
     "showTitle": false,
     "title": ""
    },
    "tags": []
   },
   "outputs": [],
   "source": [
    "## librerias requeridas\n",
    "import numpy as np \n",
    "import pandas as pd\n",
    "import matplotlib.pyplot as plt\n",
    "import calendar\n",
    "import re\n",
    "from sklearn.metrics import confusion_matrix \n",
    "from sklearn.model_selection import train_test_split \n",
    "from sklearn.tree import DecisionTreeClassifier \n",
    "from sklearn.metrics import accuracy_score \n",
    "from sklearn.metrics import classification_report \n",
    "from sklearn.metrics import confusion_matrix\n",
    "from sklearn.metrics import precision_score, recall_score\n",
    "#from scikitplot.metrics import plot_roc\n",
    "from sklearn.metrics import roc_auc_score\n",
    "#from scikitplot.metrics import plot_lift_curve\n",
    "#from scikitplot.helpers import binary_ks_curve \n",
    "#from scikitplot.metrics import plot_ks_statistic\n",
    "#from scikitplot.helpers import cumulative_gain_curve\n",
    "from sklearn.ensemble import RandomForestClassifier\n",
    "from sklearn.model_selection import RandomizedSearchCV\n",
    "from lightgbm import LGBMClassifier\n",
    "from datetime import datetime, timedelta\n",
    "\n",
    "import pyarrow as pa\n",
    "import pyarrow.parquet as pq"
   ]
  },
  {
   "cell_type": "code",
   "execution_count": 189,
   "metadata": {
    "application/vnd.databricks.v1+cell": {
     "cellMetadata": {
      "byteLimit": 2048000,
      "rowLimit": 10000
     },
     "inputWidgets": {},
     "nuid": "6ebc0e87-d9be-4b2c-b870-c00cbea0ad90",
     "showTitle": false,
     "title": ""
    }
   },
   "outputs": [],
   "source": [
    "pd.set_option('display.max_columns', 500)\n",
    "pd.set_option('display.memory_usage', True)"
   ]
  },
  {
   "cell_type": "code",
   "execution_count": 190,
   "metadata": {
    "application/vnd.databricks.v1+cell": {
     "cellMetadata": {
      "byteLimit": 2048000,
      "rowLimit": 10000
     },
     "inputWidgets": {},
     "nuid": "9a5f32c1-8445-4154-9406-921f6dc072e2",
     "showTitle": false,
     "title": ""
    }
   },
   "outputs": [],
   "source": [
    "#s3_url = f\"viamericas-datalake-dev-us-east-1-283731589572-raw/FraudModel/Train\"\n",
    "    \n",
    "#df1 = pd.read_parquet(f\"s3://{s3_url}/Preproc_Fr_202301.parquet\")\n",
    "#df2 = pd.read_parquet(f\"s3://{s3_url}/Preproc_Fr_202302.parquet\")\n",
    "#df3 = pd.read_parquet(f\"s3://{s3_url}/Preproc_Fr_202303.parquet\")\n",
    "#df4 = pd.read_parquet(f\"s3://{s3_url}/Preproc_Fr_202304.parquet\")\n",
    "#df5 = pd.read_parquet(f\"s3://{s3_url}/Preproc_Fr_202305.parquet\")\n",
    "#df6 = pd.read_parquet(f\"s3://{s3_url}/Preproc_Fr_202306.parquet\")\n",
    "#df7 = pd.read_parquet(f\"s3://{s3_url}/Preproc_Fr_202307.parquet\")\n",
    "#df11 = pd.read_parquet(f\"s3://{s3_url}/Preproc_Fr_202211.parquet\")\n",
    "#df12 = pd.read_parquet(f\"s3://{s3_url}/Preproc_Fr_202212.parquet\")"
   ]
  },
  {
   "cell_type": "code",
   "execution_count": 191,
   "metadata": {
    "application/vnd.databricks.v1+cell": {
     "cellMetadata": {
      "byteLimit": 2048000,
      "rowLimit": 10000
     },
     "inputWidgets": {},
     "nuid": "d5d5ca41-2ed5-486d-9938-5588bd98bb0d",
     "showTitle": false,
     "title": ""
    }
   },
   "outputs": [],
   "source": [
    "## TARGETS\n",
    "#tg1 = df1['target1']\n",
    "#tg2 = df2['target1']\n",
    "#tg3 = df3['target1']\n",
    "#tg4 = df4['target1']\n",
    "#tg5 = df5['target1']\n",
    "#tg6 = df6['target1']\n",
    "#tg7 = df7['target1']\n",
    "#tg11 = df11['target1']\n",
    "#tg12 = df12['target1']\n"
   ]
  },
  {
   "cell_type": "code",
   "execution_count": 192,
   "metadata": {
    "application/vnd.databricks.v1+cell": {
     "cellMetadata": {
      "byteLimit": 2048000,
      "rowLimit": 10000
     },
     "inputWidgets": {},
     "nuid": "785b968d-5f8e-43f5-bc18-492a9591a309",
     "showTitle": false,
     "title": ""
    }
   },
   "outputs": [],
   "source": [
    "## unir las cuatro cosechas\n",
    "#df = pd.concat(  [df1, df2, df3, df4, df5, df6, df7, df11, df12], ignore_index=True)\n",
    "## unir los cuatro targets\n",
    "#tg = pd.concat([tg1, tg2, tg3, tg4, tg5, tg6, tg7, tg11, tg12], ignore_index=True)"
   ]
  },
  {
   "cell_type": "code",
   "execution_count": 193,
   "metadata": {},
   "outputs": [],
   "source": [
    "s3_url = f\"viamericas-datalake-dev-us-east-1-283731589572-raw/FraudModel/Data4Model/Target2\"\n",
    "dfTrain = pd.read_parquet(f\"s3://{s3_url}/Train/Train.parquet\")\n",
    "tgTrain = dfTrain['target']\n",
    "\n",
    "dfVal = pd.read_parquet(f\"s3://{s3_url}/Validation/Validation.parquet\")\n",
    "tgVal = dfVal['target']"
   ]
  },
  {
   "cell_type": "code",
   "execution_count": 194,
   "metadata": {
    "application/vnd.databricks.v1+cell": {
     "cellMetadata": {
      "byteLimit": 2048000,
      "rowLimit": 10000
     },
     "inputWidgets": {},
     "nuid": "3b0247e4-0839-427c-b652-87ee2a94e232",
     "showTitle": false,
     "title": ""
    },
    "tags": []
   },
   "outputs": [],
   "source": [
    "def limpiar_nombres_columnas(dataframe):\n",
    "    \"\"\"\n",
    "    Limpia y estandariza los nombres de las columnas en un DataFrame.\n",
    "\n",
    "    Parameters:\n",
    "    - dataframe: DataFrame de pandas.\n",
    "\n",
    "    Returns:\n",
    "    - DataFrame con nombres de columnas limpios.\n",
    "    \"\"\"\n",
    "    dataframe = dataframe.rename(columns=lambda x: re.sub('[^A-Za-z0-9_]+', '', x))\n",
    "    return dataframe\n",
    "    \n",
    "#df = limpiar_nombres_columnas(df)\n",
    "dfTrain = limpiar_nombres_columnas(dfTrain)\n",
    "dfVal = limpiar_nombres_columnas(dfVal)"
   ]
  },
  {
   "cell_type": "code",
   "execution_count": 195,
   "metadata": {
    "application/vnd.databricks.v1+cell": {
     "cellMetadata": {
      "byteLimit": 2048000,
      "rowLimit": 10000
     },
     "inputWidgets": {},
     "nuid": "191cdfbb-d0be-46f8-9a90-aea4e8211272",
     "showTitle": false,
     "title": ""
    },
    "tags": []
   },
   "outputs": [
    {
     "name": "stdout",
     "output_type": "stream",
     "text": [
      "Nombres de columnas: ['id_branch', 'id_receiver', 'id_sender_global', '01_receiver_transaction_count', '01_sender_sending_days', '01_branch_working_days', '01_net_amount_receiver', '01_sender_minutes_since_last_transaction_2days', '01_sender_minutes_since_last_transaction_1day', '01_sender_days_to_last_transaction_365', 'sender_days_to_last_transaction_more365', 'day_name_receiver_Friday', 'day_name_receiver_Monday', 'day_name_receiver_Saturday', 'day_name_receiver_Sunday', 'day_name_receiver_Thursday', 'day_name_receiver_Tuesday', 'day_name_receiver_Wednesday', 'id_payout_A', 'id_payout_C', 'id_payout_D', 'id_payout_M', 'id_payout_N', 'id_payout_O', 'id_payout_P', 'id_payout_S', 'id_payout_T', 'id_payout_X', 'target1', 'target_fraudes', 'target']\n"
     ]
    }
   ],
   "source": [
    "#listar las columnas del dataframe\n",
    "\n",
    "def nombres_de_columnas(dataframe):\n",
    "    return dataframe.columns.tolist()\n",
    "\n",
    "# Supongamos que tu DataFrame se llama 'df'\n",
    "# Puedes ajustar el nombre según el que hayas utilizado\n",
    "\n",
    "#nombres_columnas = nombres_de_columnas(df)\n",
    "nombres_columnas = nombres_de_columnas(dfTrain)\n",
    "\n",
    "# Imprimir los nombres de las columnas\n",
    "print(f'Nombres de columnas: {nombres_columnas}')\n"
   ]
  },
  {
   "cell_type": "code",
   "execution_count": 196,
   "metadata": {
    "tags": []
   },
   "outputs": [],
   "source": [
    "var_input = ['01_receiver_transaction_count', '01_sender_sending_days', '01_branch_working_days', '01_net_amount_receiver', \n",
    "         '01_sender_minutes_since_last_transaction_2days', '01_sender_minutes_since_last_transaction_1day', \n",
    "         '01_sender_days_to_last_transaction_365', 'sender_days_to_last_transaction_more365',\n",
    "        'id_payout_A', 'id_payout_C', 'id_payout_D', 'id_payout_M', 'id_payout_N', 'id_payout_O', \n",
    "         'id_payout_P', 'id_payout_S', 'id_payout_T', 'id_payout_X']\n",
    "\n",
    "##'day_name_receiver_Friday', 'day_name_receiver_Monday', \n",
    "##         'day_name_receiver_Saturday', 'day_name_receiver_Sunday', 'day_name_receiver_Thursday', 'day_name_receiver_Tuesday', \n",
    "##         'day_name_receiver_Wednesday',"
   ]
  },
  {
   "cell_type": "code",
   "execution_count": 197,
   "metadata": {
    "application/vnd.databricks.v1+cell": {
     "cellMetadata": {
      "byteLimit": 2048000,
      "rowLimit": 10000
     },
     "inputWidgets": {},
     "nuid": "3918f177-7b8e-48dd-b4d8-bee08870e4d1",
     "showTitle": false,
     "title": ""
    },
    "tags": []
   },
   "outputs": [
    {
     "data": {
      "text/plain": [
       "(13120687, 31)"
      ]
     },
     "execution_count": 197,
     "metadata": {},
     "output_type": "execute_result"
    }
   ],
   "source": [
    "dfTrain.shape"
   ]
  },
  {
   "cell_type": "code",
   "execution_count": 198,
   "metadata": {
    "tags": []
   },
   "outputs": [],
   "source": [
    "#Ya lo traje dividido en conjuntos de entrenamiento (70%) y prueba (30%)\n",
    "\n",
    "X_train = dfTrain[var_input]\n",
    "X_test = dfVal[var_input]\n",
    "y_train =  dfTrain['target']\n",
    "y_test =  dfVal['target']\n",
    "\n",
    "#Uni test y Val\n",
    "X = pd.concat([dfTrain[var_input], dfVal[var_input]], ignore_index=True) \n",
    "Y = pd.DataFrame(pd.concat([dfTrain['target'], dfVal['target']], ignore_index=True)) "
   ]
  },
  {
   "cell_type": "code",
   "execution_count": 199,
   "metadata": {
    "application/vnd.databricks.v1+cell": {
     "cellMetadata": {
      "byteLimit": 2048000,
      "rowLimit": 10000
     },
     "inputWidgets": {},
     "nuid": "b55cb26d-4d58-4906-9a8c-9ab7be44df3b",
     "showTitle": false,
     "title": ""
    },
    "tags": []
   },
   "outputs": [
    {
     "data": {
      "text/plain": [
       "0.0022247310169490895"
      ]
     },
     "execution_count": 199,
     "metadata": {},
     "output_type": "execute_result"
    }
   ],
   "source": [
    "def calcular_porcentaje_valor_1(columna):\n",
    "    \"\"\"\n",
    "    Calcula el porcentaje de ocurrencia del valor 1 en una columna dicotómica.\n",
    "\n",
    "    Parameters:\n",
    "    - columna: Columna con valores binarios (0 o 1).\n",
    "\n",
    "    Returns:\n",
    "    - Porcentaje de ocurrencia del valor 1.\n",
    "    \"\"\"\n",
    "\n",
    "    total_registros = len(columna)\n",
    "    ocurrencias_valor_1 = columna.sum()\n",
    "\n",
    "    porcentaje_valor_1 = (ocurrencias_valor_1 / total_registros) * 100\n",
    "\n",
    "    return porcentaje_valor_1\n",
    "porcentaje_1 = calcular_porcentaje_valor_1(Y['target'])\n",
    "porcentaje_1"
   ]
  },
  {
   "cell_type": "markdown",
   "metadata": {
    "application/vnd.databricks.v1+cell": {
     "cellMetadata": {
      "byteLimit": 2048000,
      "rowLimit": 10000
     },
     "inputWidgets": {},
     "nuid": "9612dbfc-6d13-4319-a1a4-713b5142d0b4",
     "showTitle": false,
     "title": ""
    }
   },
   "source": [
    "## ENTRENAMIENTO"
   ]
  },
  {
   "cell_type": "code",
   "execution_count": 200,
   "metadata": {
    "application/vnd.databricks.v1+cell": {
     "cellMetadata": {
      "byteLimit": 2048000,
      "rowLimit": 10000
     },
     "inputWidgets": {},
     "nuid": "4ffb2573-b439-4e55-8d72-d3080e43a6b3",
     "showTitle": false,
     "title": ""
    },
    "tags": []
   },
   "outputs": [],
   "source": [
    "fit_parameters = {\n",
    "    #\"early_stopping_rounds\": 30,           # Número de rondas para detener el entrenamiento si no hay mejoras\n",
    "    \"eval_metric\": 'logloss',              # Métrica de evaluación a utilizar (en este caso, logloss)\n",
    "    \"eval_set\": [(X_test, y_test)],        # Conjunto de datos de prueba para la evaluación durante el entrenamiento\n",
    "    'eval_names': ['valid'],               # Nombre asignado al conjunto de evaluación\n",
    "    #'verbose': 100,                        # Nivel de detalle en la salida durante el entrenamiento\n",
    "}"
   ]
  },
  {
   "cell_type": "code",
   "execution_count": 201,
   "metadata": {
    "application/vnd.databricks.v1+cell": {
     "cellMetadata": {
      "byteLimit": 2048000,
      "rowLimit": 10000
     },
     "inputWidgets": {},
     "nuid": "419b3f45-3007-4e2a-9695-bfafa06d672c",
     "showTitle": false,
     "title": ""
    },
    "tags": []
   },
   "outputs": [],
   "source": [
    "# Parámetros para la búsqueda aleatoria de hiperparámetros\n",
    "param_testeo = {\n",
    "    \"n_estimators\": [5, 10, 15, 20, 25, 30, 35, 50, 100, 150, 300, 400, 500, 510, 520],\n",
    "    # Número de estimadores (árboles) a probar\n",
    "\n",
    "    \"num_leaves\": [2, 3, 4, 6, 10, 20, 25, 28, 30, 31, 32, 33, 35, 40, 45],\n",
    "    # Número máximo de nodos hoja en un árbol\n",
    "\n",
    "    \"max_depth\": [10, 15, 16, 17, 18, 19, 20, 21, 22, 23, 24, 25, 26, 28, 30, 35, 100, 125, 150, 170, 200, 250, 300, 400],\n",
    "    # Profundidad máxima de un árbol\n",
    "\n",
    "    \"colsample_bytree\": [0.50, 0.55, 0.6, 0.65, 0.68, 0.70, 0.71, 0.80, 0.81, 0.84, 0.85, 0.86, 0.9],\n",
    "    # Fracción de características a considerar en cada árbol\n",
    "\n",
    "    \"min_child_weight\": [0.001, 0.002, 0.0025, 0.0026, 0.0027, 0.003, 0.004, 0.005, 0.007, 0.008, 0.009],\n",
    "    # Peso mínimo necesario para crear un nuevo nodo en el árbol\n",
    "\n",
    "    \"learning_rate\": [0.1, 0.02, 0.03, 0.04, 0.07, 0.005, 0.003, 0.001],\n",
    "    # Tasa de aprendizaje del modelo\n",
    "\n",
    "    'subsample': [1],\n",
    "    # Fracción de muestras a utilizar para el entrenamiento de cada árbol\n",
    "\n",
    "    \"objective\": ['binary'],\n",
    "    # Tipo de problema a resolver (clasificación binaria en este caso)\n",
    "\n",
    "    \"importance_type\": [\"gini\", \"entropy\"],\n",
    "    # Tipo de importancia de las características\n",
    "\n",
    "    \"boosting_type\": [\"dart\", \"goss\", \"rf\", \"gbdt\"],\n",
    "    # Tipo de boosting a probar\n",
    "    \n",
    "    #\"is_unbalance\": ['True'],\n",
    "\n",
    "    \"scale_pos_weight\" : [0.002, 0.003] ,\n",
    "}\n"
   ]
  },
  {
   "cell_type": "markdown",
   "metadata": {},
   "source": [
    "{'subsample': 1,\n",
    " 'scale_pos_weight': 0.002,\n",
    " 'objective': 'binary',\n",
    " 'num_leaves': 30,\n",
    " 'n_estimators': 500,\n",
    " 'min_child_weight': 0.0027,\n",
    " 'max_depth': 25,\n",
    " 'learning_rate': 0.07,\n",
    " 'importance_type': 'gini',\n",
    " 'colsample_bytree': 0.65,\n",
    " 'boosting_type': 'gbdt'}"
   ]
  },
  {
   "cell_type": "code",
   "execution_count": 202,
   "metadata": {
    "application/vnd.databricks.v1+cell": {
     "cellMetadata": {
      "byteLimit": 2048000,
      "rowLimit": 10000
     },
     "inputWidgets": {},
     "nuid": "4f395c07-c0d3-41f5-abb4-e795e5ec160a",
     "showTitle": false,
     "title": ""
    },
    "tags": []
   },
   "outputs": [],
   "source": [
    "# Parámetros para la búsqueda aleatoria de hiperparámetros\n",
    "param_testeo = {\n",
    "    \"n_estimators\": [460, 480, 400,  500, 510, 520, 530],\n",
    "    # Número de estimadores (árboles) a probar\n",
    "\n",
    "    \"num_leaves\": [ 25, 26, 28, 30, 32, 34, 35],\n",
    "    # Número máximo de nodos hoja en un árbol\n",
    "\n",
    "    \"max_depth\": [ 22, 23, 24, 25, 26, 27, 28],\n",
    "    # Profundidad máxima de un árbol\n",
    "\n",
    "    \"colsample_bytree\": [ 0.6, 0.62, 0.65, 0.68],\n",
    "    # Fracción de características a considerar en cada árbol\n",
    "\n",
    "    \"min_child_weight\": [ 0.0025, 0.0026, 0.0027, 0.0031, 0.0033 ],\n",
    "    # Peso mínimo necesario para crear un nuevo nodo en el árbol\n",
    "\n",
    "    \"learning_rate\": [0.05,0.06, 0.07, 0.005, 0.001],\n",
    "    # Tasa de aprendizaje del modelo\n",
    "\n",
    "    'subsample': [1],\n",
    "    # Fracción de muestras a utilizar para el entrenamiento de cada árbol\n",
    "\n",
    "    \"objective\": ['binary'],\n",
    "    # Tipo de problema a resolver (clasificación binaria en este caso)\n",
    "\n",
    "    \"importance_type\": [\"gini\", \"entropy\"],\n",
    "    # Tipo de importancia de las características\n",
    "\n",
    "    \"boosting_type\": [\"dart\", \"goss\", \"rf\", \"gbdt\"],\n",
    "    # Tipo de boosting a probar\n",
    "    \n",
    "    #\"is_unbalance\": ['True'],\n",
    "\n",
    "    \"scale_pos_weight\" : [0.001, 0.0008] ,\n",
    "}\n"
   ]
  },
  {
   "cell_type": "code",
   "execution_count": 203,
   "metadata": {
    "application/vnd.databricks.v1+cell": {
     "cellMetadata": {
      "byteLimit": 2048000,
      "rowLimit": 10000
     },
     "inputWidgets": {},
     "nuid": "28b5e1a0-8b10-4d1d-8d27-9e0915578d16",
     "showTitle": false,
     "title": ""
    },
    "tags": []
   },
   "outputs": [],
   "source": [
    "# Número de combinaciones de hiperparámetros a probar durante la búsqueda aleatoria\n",
    "n_HP_points_to_test = 100\n"
   ]
  },
  {
   "cell_type": "code",
   "execution_count": 204,
   "metadata": {
    "application/vnd.databricks.v1+cell": {
     "cellMetadata": {
      "byteLimit": 2048000,
      "rowLimit": 10000
     },
     "inputWidgets": {},
     "nuid": "dbb03a6e-bd9c-4bd7-bf0e-981e82c3e2b5",
     "showTitle": false,
     "title": ""
    },
    "tags": []
   },
   "outputs": [],
   "source": [
    "def entrenar_modelo_con_busqueda_aleatoria(X, Y, fit_parameters, param_testeo, n_HP_points_to_test=100, random_state=87):\n",
    "    \"\"\"\n",
    "    Entrena un modelo utilizando LightGBM con búsqueda aleatoria de hiperparámetros.\n",
    "\n",
    "    Parameters:\n",
    "    - X: Características del conjunto de datos.\n",
    "    - Y: Etiquetas del conjunto de datos.\n",
    "    - fit_parameters: Parámetros para el entrenamiento y evaluación del modelo.\n",
    "    - param_testeo: Parámetros para la búsqueda aleatoria de hiperparámetros.\n",
    "    - n_HP_points_to_test: Número de combinaciones de hiperparámetros a probar (predeterminado: 100).\n",
    "    - random_state: Semilla aleatoria para reproducibilidad (predeterminado: 87).\n",
    "\n",
    "    Returns:\n",
    "    - Objeto de resultados de RandomizedSearchCV.\n",
    "    \"\"\"\n",
    "    X_train, X_test, y_train, y_test = train_test_split(X, Y, test_size=0.2, random_state=random_state)\n",
    "\n",
    "    # Limpiar y estandarizar los nombres de las columnas (llamando a la función anterior)\n",
    "    X_train = limpiar_nombres_columnas(X_train)\n",
    "    X_test = limpiar_nombres_columnas(X_test)\n",
    "\n",
    "    # Crear un clasificador LightGBM y realizar una búsqueda aleatoria de hiperparámetros\n",
    "    lgbm = LGBMClassifier(random_state=random_state)\n",
    "    result_trainRandom = RandomizedSearchCV(\n",
    "                        estimator=lgbm, \n",
    "                        param_distributions=param_testeo, \n",
    "                        n_iter=n_HP_points_to_test,\n",
    "                        scoring='f1_micro',\n",
    "                        cv=3,\n",
    "                        refit=True,\n",
    "                        random_state=random_state,\n",
    "                        verbose=True)\n",
    "\n",
    "    # Entrenar el modelo utilizando los datos de entrenamiento y los parámetros de ajuste\n",
    "    result_trainRandom.fit(X_train, y_train, **fit_parameters)\n",
    "\n",
    "    return result_trainRandom\n",
    "   \n"
   ]
  },
  {
   "cell_type": "code",
   "execution_count": 205,
   "metadata": {
    "application/vnd.databricks.v1+cell": {
     "cellMetadata": {
      "byteLimit": 2048000,
      "rowLimit": 10000
     },
     "inputWidgets": {},
     "nuid": "4ebf1652-f079-404e-92fb-1b6cb5fd1805",
     "showTitle": false,
     "title": ""
    },
    "tags": []
   },
   "outputs": [],
   "source": [
    "#result = entrenar_modelo_con_busqueda_aleatoria(X, Y, fit_parameters, param_testeo, n_HP_points_to_test=100, random_state=87)"
   ]
  },
  {
   "cell_type": "code",
   "execution_count": 206,
   "metadata": {
    "tags": []
   },
   "outputs": [],
   "source": [
    "#result.best_params_"
   ]
  },
  {
   "cell_type": "markdown",
   "metadata": {},
   "source": [
    "{'subsample': 1,\n",
    " 'scale_pos_weight': 0.002,\n",
    " 'objective': 'binary',\n",
    " 'num_leaves': 30,\n",
    " 'n_estimators': 500,\n",
    " 'min_child_weight': 0.0027,\n",
    " 'max_depth': 25,\n",
    " 'learning_rate': 0.07,\n",
    " 'importance_type': 'gini',\n",
    " 'colsample_bytree': 0.65,\n",
    " 'boosting_type': 'gbdt'}"
   ]
  },
  {
   "cell_type": "code",
   "execution_count": 207,
   "metadata": {
    "tags": []
   },
   "outputs": [],
   "source": [
    "#lgb_classifier = LGBMClassifier(**result.best_params_)"
   ]
  },
  {
   "cell_type": "code",
   "execution_count": 208,
   "metadata": {
    "application/vnd.databricks.v1+cell": {
     "cellMetadata": {
      "byteLimit": 2048000,
      "rowLimit": 10000
     },
     "inputWidgets": {},
     "nuid": "35e07376-5bb5-450a-bd9c-d1cdb9d7951a",
     "showTitle": false,
     "title": ""
    },
    "tags": []
   },
   "outputs": [],
   "source": [
    "#experimento 1\n",
    "lgb_classifier = LGBMClassifier(subsample= 1, objective = 'binary', num_leaves= 26, n_estimators= 500, min_child_weight=0.0026, max_depth= 27, learning_rate= 0.07, importance_type='entropy', colsample_bytree= 0.62 ,boosting_type='dart', scale_pos_weight= 0.001, num_boost_round = 30)\n",
    "#lgb_classifier = LGBMClassifier(subsample= 1, objective = 'binary', num_leaves= 31, min_child_weight=0.009, max_depth= 19, learning_rate= 0.05, importance_type='entropy', colsample_bytree= 0.6 ,boosting_type='dart', is_unbalance='True', num_boost_round = 30)"
   ]
  },
  {
   "cell_type": "code",
   "execution_count": 209,
   "metadata": {
    "tags": []
   },
   "outputs": [
    {
     "data": {
      "text/html": [
       "<div>\n",
       "<style scoped>\n",
       "    .dataframe tbody tr th:only-of-type {\n",
       "        vertical-align: middle;\n",
       "    }\n",
       "\n",
       "    .dataframe tbody tr th {\n",
       "        vertical-align: top;\n",
       "    }\n",
       "\n",
       "    .dataframe thead th {\n",
       "        text-align: right;\n",
       "    }\n",
       "</style>\n",
       "<table border=\"1\" class=\"dataframe\">\n",
       "  <thead>\n",
       "    <tr style=\"text-align: right;\">\n",
       "      <th></th>\n",
       "      <th>01_receiver_transaction_count</th>\n",
       "      <th>01_sender_sending_days</th>\n",
       "      <th>01_branch_working_days</th>\n",
       "      <th>01_net_amount_receiver</th>\n",
       "      <th>01_sender_minutes_since_last_transaction_2days</th>\n",
       "      <th>01_sender_minutes_since_last_transaction_1day</th>\n",
       "      <th>01_sender_days_to_last_transaction_365</th>\n",
       "      <th>sender_days_to_last_transaction_more365</th>\n",
       "      <th>id_payout_A</th>\n",
       "      <th>id_payout_C</th>\n",
       "      <th>id_payout_D</th>\n",
       "      <th>id_payout_M</th>\n",
       "      <th>id_payout_N</th>\n",
       "      <th>id_payout_O</th>\n",
       "      <th>id_payout_P</th>\n",
       "      <th>id_payout_S</th>\n",
       "      <th>id_payout_T</th>\n",
       "      <th>id_payout_X</th>\n",
       "    </tr>\n",
       "  </thead>\n",
       "  <tbody>\n",
       "    <tr>\n",
       "      <th>3971984</th>\n",
       "      <td>0.099010</td>\n",
       "      <td>0.337500</td>\n",
       "      <td>0.381352</td>\n",
       "      <td>0.505415</td>\n",
       "      <td>0.0</td>\n",
       "      <td>0.0</td>\n",
       "      <td>0.805479</td>\n",
       "      <td>0</td>\n",
       "      <td>False</td>\n",
       "      <td>False</td>\n",
       "      <td>False</td>\n",
       "      <td>False</td>\n",
       "      <td>False</td>\n",
       "      <td>False</td>\n",
       "      <td>True</td>\n",
       "      <td>False</td>\n",
       "      <td>False</td>\n",
       "      <td>False</td>\n",
       "    </tr>\n",
       "    <tr>\n",
       "      <th>13473242</th>\n",
       "      <td>0.000000</td>\n",
       "      <td>0.000000</td>\n",
       "      <td>0.019956</td>\n",
       "      <td>0.108303</td>\n",
       "      <td>0.0</td>\n",
       "      <td>0.0</td>\n",
       "      <td>0.441096</td>\n",
       "      <td>0</td>\n",
       "      <td>False</td>\n",
       "      <td>False</td>\n",
       "      <td>False</td>\n",
       "      <td>False</td>\n",
       "      <td>False</td>\n",
       "      <td>False</td>\n",
       "      <td>True</td>\n",
       "      <td>False</td>\n",
       "      <td>False</td>\n",
       "      <td>False</td>\n",
       "    </tr>\n",
       "    <tr>\n",
       "      <th>16030697</th>\n",
       "      <td>0.346535</td>\n",
       "      <td>0.328571</td>\n",
       "      <td>0.381184</td>\n",
       "      <td>0.068592</td>\n",
       "      <td>0.0</td>\n",
       "      <td>0.0</td>\n",
       "      <td>0.000000</td>\n",
       "      <td>1</td>\n",
       "      <td>False</td>\n",
       "      <td>True</td>\n",
       "      <td>False</td>\n",
       "      <td>False</td>\n",
       "      <td>False</td>\n",
       "      <td>False</td>\n",
       "      <td>False</td>\n",
       "      <td>False</td>\n",
       "      <td>False</td>\n",
       "      <td>False</td>\n",
       "    </tr>\n",
       "    <tr>\n",
       "      <th>12871639</th>\n",
       "      <td>0.089109</td>\n",
       "      <td>0.048214</td>\n",
       "      <td>0.525239</td>\n",
       "      <td>0.097473</td>\n",
       "      <td>0.0</td>\n",
       "      <td>0.0</td>\n",
       "      <td>0.482192</td>\n",
       "      <td>0</td>\n",
       "      <td>False</td>\n",
       "      <td>False</td>\n",
       "      <td>False</td>\n",
       "      <td>False</td>\n",
       "      <td>False</td>\n",
       "      <td>False</td>\n",
       "      <td>True</td>\n",
       "      <td>False</td>\n",
       "      <td>False</td>\n",
       "      <td>False</td>\n",
       "    </tr>\n",
       "    <tr>\n",
       "      <th>12773052</th>\n",
       "      <td>0.128713</td>\n",
       "      <td>0.960714</td>\n",
       "      <td>0.275197</td>\n",
       "      <td>0.036101</td>\n",
       "      <td>0.0</td>\n",
       "      <td>0.0</td>\n",
       "      <td>0.326027</td>\n",
       "      <td>0</td>\n",
       "      <td>False</td>\n",
       "      <td>False</td>\n",
       "      <td>False</td>\n",
       "      <td>False</td>\n",
       "      <td>False</td>\n",
       "      <td>False</td>\n",
       "      <td>True</td>\n",
       "      <td>False</td>\n",
       "      <td>False</td>\n",
       "      <td>False</td>\n",
       "    </tr>\n",
       "  </tbody>\n",
       "</table>\n",
       "</div>"
      ],
      "text/plain": [
       "          01_receiver_transaction_count  01_sender_sending_days  \\\n",
       "3971984                        0.099010                0.337500   \n",
       "13473242                       0.000000                0.000000   \n",
       "16030697                       0.346535                0.328571   \n",
       "12871639                       0.089109                0.048214   \n",
       "12773052                       0.128713                0.960714   \n",
       "\n",
       "          01_branch_working_days  01_net_amount_receiver  \\\n",
       "3971984                 0.381352                0.505415   \n",
       "13473242                0.019956                0.108303   \n",
       "16030697                0.381184                0.068592   \n",
       "12871639                0.525239                0.097473   \n",
       "12773052                0.275197                0.036101   \n",
       "\n",
       "          01_sender_minutes_since_last_transaction_2days  \\\n",
       "3971984                                              0.0   \n",
       "13473242                                             0.0   \n",
       "16030697                                             0.0   \n",
       "12871639                                             0.0   \n",
       "12773052                                             0.0   \n",
       "\n",
       "          01_sender_minutes_since_last_transaction_1day  \\\n",
       "3971984                                             0.0   \n",
       "13473242                                            0.0   \n",
       "16030697                                            0.0   \n",
       "12871639                                            0.0   \n",
       "12773052                                            0.0   \n",
       "\n",
       "          01_sender_days_to_last_transaction_365  \\\n",
       "3971984                                 0.805479   \n",
       "13473242                                0.441096   \n",
       "16030697                                0.000000   \n",
       "12871639                                0.482192   \n",
       "12773052                                0.326027   \n",
       "\n",
       "          sender_days_to_last_transaction_more365  id_payout_A  id_payout_C  \\\n",
       "3971984                                         0        False        False   \n",
       "13473242                                        0        False        False   \n",
       "16030697                                        1        False         True   \n",
       "12871639                                        0        False        False   \n",
       "12773052                                        0        False        False   \n",
       "\n",
       "          id_payout_D  id_payout_M  id_payout_N  id_payout_O  id_payout_P  \\\n",
       "3971984         False        False        False        False         True   \n",
       "13473242        False        False        False        False         True   \n",
       "16030697        False        False        False        False        False   \n",
       "12871639        False        False        False        False         True   \n",
       "12773052        False        False        False        False         True   \n",
       "\n",
       "          id_payout_S  id_payout_T  id_payout_X  \n",
       "3971984         False        False        False  \n",
       "13473242        False        False        False  \n",
       "16030697        False        False        False  \n",
       "12871639        False        False        False  \n",
       "12773052        False        False        False  "
      ]
     },
     "execution_count": 209,
     "metadata": {},
     "output_type": "execute_result"
    }
   ],
   "source": [
    "X_train.head()"
   ]
  },
  {
   "cell_type": "code",
   "execution_count": 210,
   "metadata": {
    "tags": []
   },
   "outputs": [
    {
     "data": {
      "text/html": [
       "<div>\n",
       "<style scoped>\n",
       "    .dataframe tbody tr th:only-of-type {\n",
       "        vertical-align: middle;\n",
       "    }\n",
       "\n",
       "    .dataframe tbody tr th {\n",
       "        vertical-align: top;\n",
       "    }\n",
       "\n",
       "    .dataframe thead th {\n",
       "        text-align: right;\n",
       "    }\n",
       "</style>\n",
       "<table border=\"1\" class=\"dataframe\">\n",
       "  <thead>\n",
       "    <tr style=\"text-align: right;\">\n",
       "      <th></th>\n",
       "      <th>01_receiver_transaction_count</th>\n",
       "      <th>01_sender_sending_days</th>\n",
       "      <th>01_branch_working_days</th>\n",
       "      <th>01_net_amount_receiver</th>\n",
       "      <th>01_sender_minutes_since_last_transaction_2days</th>\n",
       "      <th>01_sender_minutes_since_last_transaction_1day</th>\n",
       "      <th>01_sender_days_to_last_transaction_365</th>\n",
       "      <th>sender_days_to_last_transaction_more365</th>\n",
       "      <th>id_payout_A</th>\n",
       "      <th>id_payout_C</th>\n",
       "      <th>id_payout_D</th>\n",
       "      <th>id_payout_M</th>\n",
       "      <th>id_payout_N</th>\n",
       "      <th>id_payout_O</th>\n",
       "      <th>id_payout_P</th>\n",
       "      <th>id_payout_S</th>\n",
       "      <th>id_payout_T</th>\n",
       "      <th>id_payout_X</th>\n",
       "    </tr>\n",
       "  </thead>\n",
       "  <tbody>\n",
       "    <tr>\n",
       "      <th>0</th>\n",
       "      <td>0.099010</td>\n",
       "      <td>0.337500</td>\n",
       "      <td>0.381352</td>\n",
       "      <td>0.505415</td>\n",
       "      <td>0.0</td>\n",
       "      <td>0.0</td>\n",
       "      <td>0.805479</td>\n",
       "      <td>0</td>\n",
       "      <td>False</td>\n",
       "      <td>False</td>\n",
       "      <td>False</td>\n",
       "      <td>False</td>\n",
       "      <td>False</td>\n",
       "      <td>False</td>\n",
       "      <td>True</td>\n",
       "      <td>False</td>\n",
       "      <td>False</td>\n",
       "      <td>False</td>\n",
       "    </tr>\n",
       "    <tr>\n",
       "      <th>1</th>\n",
       "      <td>0.000000</td>\n",
       "      <td>0.000000</td>\n",
       "      <td>0.019956</td>\n",
       "      <td>0.108303</td>\n",
       "      <td>0.0</td>\n",
       "      <td>0.0</td>\n",
       "      <td>0.441096</td>\n",
       "      <td>0</td>\n",
       "      <td>False</td>\n",
       "      <td>False</td>\n",
       "      <td>False</td>\n",
       "      <td>False</td>\n",
       "      <td>False</td>\n",
       "      <td>False</td>\n",
       "      <td>True</td>\n",
       "      <td>False</td>\n",
       "      <td>False</td>\n",
       "      <td>False</td>\n",
       "    </tr>\n",
       "    <tr>\n",
       "      <th>2</th>\n",
       "      <td>0.346535</td>\n",
       "      <td>0.328571</td>\n",
       "      <td>0.381184</td>\n",
       "      <td>0.068592</td>\n",
       "      <td>0.0</td>\n",
       "      <td>0.0</td>\n",
       "      <td>0.000000</td>\n",
       "      <td>1</td>\n",
       "      <td>False</td>\n",
       "      <td>True</td>\n",
       "      <td>False</td>\n",
       "      <td>False</td>\n",
       "      <td>False</td>\n",
       "      <td>False</td>\n",
       "      <td>False</td>\n",
       "      <td>False</td>\n",
       "      <td>False</td>\n",
       "      <td>False</td>\n",
       "    </tr>\n",
       "    <tr>\n",
       "      <th>3</th>\n",
       "      <td>0.089109</td>\n",
       "      <td>0.048214</td>\n",
       "      <td>0.525239</td>\n",
       "      <td>0.097473</td>\n",
       "      <td>0.0</td>\n",
       "      <td>0.0</td>\n",
       "      <td>0.482192</td>\n",
       "      <td>0</td>\n",
       "      <td>False</td>\n",
       "      <td>False</td>\n",
       "      <td>False</td>\n",
       "      <td>False</td>\n",
       "      <td>False</td>\n",
       "      <td>False</td>\n",
       "      <td>True</td>\n",
       "      <td>False</td>\n",
       "      <td>False</td>\n",
       "      <td>False</td>\n",
       "    </tr>\n",
       "    <tr>\n",
       "      <th>4</th>\n",
       "      <td>0.128713</td>\n",
       "      <td>0.960714</td>\n",
       "      <td>0.275197</td>\n",
       "      <td>0.036101</td>\n",
       "      <td>0.0</td>\n",
       "      <td>0.0</td>\n",
       "      <td>0.326027</td>\n",
       "      <td>0</td>\n",
       "      <td>False</td>\n",
       "      <td>False</td>\n",
       "      <td>False</td>\n",
       "      <td>False</td>\n",
       "      <td>False</td>\n",
       "      <td>False</td>\n",
       "      <td>True</td>\n",
       "      <td>False</td>\n",
       "      <td>False</td>\n",
       "      <td>False</td>\n",
       "    </tr>\n",
       "  </tbody>\n",
       "</table>\n",
       "</div>"
      ],
      "text/plain": [
       "   01_receiver_transaction_count  01_sender_sending_days  \\\n",
       "0                       0.099010                0.337500   \n",
       "1                       0.000000                0.000000   \n",
       "2                       0.346535                0.328571   \n",
       "3                       0.089109                0.048214   \n",
       "4                       0.128713                0.960714   \n",
       "\n",
       "   01_branch_working_days  01_net_amount_receiver  \\\n",
       "0                0.381352                0.505415   \n",
       "1                0.019956                0.108303   \n",
       "2                0.381184                0.068592   \n",
       "3                0.525239                0.097473   \n",
       "4                0.275197                0.036101   \n",
       "\n",
       "   01_sender_minutes_since_last_transaction_2days  \\\n",
       "0                                             0.0   \n",
       "1                                             0.0   \n",
       "2                                             0.0   \n",
       "3                                             0.0   \n",
       "4                                             0.0   \n",
       "\n",
       "   01_sender_minutes_since_last_transaction_1day  \\\n",
       "0                                            0.0   \n",
       "1                                            0.0   \n",
       "2                                            0.0   \n",
       "3                                            0.0   \n",
       "4                                            0.0   \n",
       "\n",
       "   01_sender_days_to_last_transaction_365  \\\n",
       "0                                0.805479   \n",
       "1                                0.441096   \n",
       "2                                0.000000   \n",
       "3                                0.482192   \n",
       "4                                0.326027   \n",
       "\n",
       "   sender_days_to_last_transaction_more365  id_payout_A  id_payout_C  \\\n",
       "0                                        0        False        False   \n",
       "1                                        0        False        False   \n",
       "2                                        1        False         True   \n",
       "3                                        0        False        False   \n",
       "4                                        0        False        False   \n",
       "\n",
       "   id_payout_D  id_payout_M  id_payout_N  id_payout_O  id_payout_P  \\\n",
       "0        False        False        False        False         True   \n",
       "1        False        False        False        False         True   \n",
       "2        False        False        False        False        False   \n",
       "3        False        False        False        False         True   \n",
       "4        False        False        False        False         True   \n",
       "\n",
       "   id_payout_S  id_payout_T  id_payout_X  \n",
       "0        False        False        False  \n",
       "1        False        False        False  \n",
       "2        False        False        False  \n",
       "3        False        False        False  \n",
       "4        False        False        False  "
      ]
     },
     "execution_count": 210,
     "metadata": {},
     "output_type": "execute_result"
    }
   ],
   "source": [
    "X.head()"
   ]
  },
  {
   "cell_type": "code",
   "execution_count": 211,
   "metadata": {
    "application/vnd.databricks.v1+cell": {
     "cellMetadata": {
      "byteLimit": 2048000,
      "rowLimit": 10000
     },
     "inputWidgets": {},
     "nuid": "548fc1c7-7099-46d8-b4dd-dcef9ba72d69",
     "showTitle": false,
     "title": ""
    },
    "tags": []
   },
   "outputs": [
    {
     "name": "stderr",
     "output_type": "stream",
     "text": [
      "/home/ec2-user/anaconda3/envs/python3/lib/python3.10/site-packages/lightgbm/engine.py:172: UserWarning: Found `num_boost_round` in params. Will use it instead of argument\n",
      "  _log_warning(f\"Found `{alias}` in params. Will use it instead of argument\")\n"
     ]
    },
    {
     "name": "stdout",
     "output_type": "stream",
     "text": [
      "[LightGBM] [Warning] num_iterations is set=30, num_boost_round=30 will be ignored. Current value: num_iterations=30\n",
      "[LightGBM] [Info] Number of positive: 287, number of negative: 13120400\n",
      "[LightGBM] [Info] Auto-choosing row-wise multi-threading, the overhead of testing was 0.187385 seconds.\n",
      "You can set `force_row_wise=true` to remove the overhead.\n",
      "And if memory is not enough, you can set `force_col_wise=true`.\n",
      "[LightGBM] [Info] Total Bins 1640\n",
      "[LightGBM] [Info] Number of data points in the train set: 13120687, number of used features: 18\n",
      "[LightGBM] [Info] [binary:BoostFromScore]: pavg=0.000022 -> initscore=-10.730197\n",
      "[LightGBM] [Info] Start training from score -10.730197\n"
     ]
    }
   ],
   "source": [
    "import lightgbm as lgb\n",
    "train_data  = lgb.Dataset(X_train, label = y_train)\n",
    "#model = lgb.train(params, train_data, num_boost_round=5)\n",
    "\n",
    "lgb_classifier.fit(np.array(X_train), y_train)\n",
    "#lgb_classifier.fit(train_data)\n",
    "lbg_predictions_labels = lgb_classifier.predict(X_train)"
   ]
  },
  {
   "cell_type": "code",
   "execution_count": 212,
   "metadata": {
    "application/vnd.databricks.v1+cell": {
     "cellMetadata": {
      "byteLimit": 2048000,
      "rowLimit": 10000
     },
     "inputWidgets": {},
     "nuid": "d869acd8-14e2-4297-860c-dc798e9abb94",
     "showTitle": false,
     "title": ""
    },
    "tags": []
   },
   "outputs": [],
   "source": [
    "# modelo train\n",
    "data1_f_data_pred_rf= lgb_classifier.predict(X)     \n",
    "probab_rf = lgb_classifier.predict_proba(X)\n",
    "\n",
    "score_rf=np.delete(probab_rf, np.s_[0], axis=1) \n",
    "Y_c=Y.copy()\n",
    "Y_c['preds_rf'] = data1_f_data_pred_rf\n",
    "Y_c['score_rf'] = score_rf"
   ]
  },
  {
   "cell_type": "code",
   "execution_count": 213,
   "metadata": {
    "application/vnd.databricks.v1+cell": {
     "cellMetadata": {
      "byteLimit": 2048000,
      "rowLimit": 10000
     },
     "inputWidgets": {},
     "nuid": "17cc26fe-d9b1-4a06-99f5-5335a5b97d49",
     "showTitle": false,
     "title": ""
    },
    "tags": []
   },
   "outputs": [],
   "source": [
    "# Realizar predicciones con el modelo entrenado en el conjunto de entrenamiento\n",
    "data1_f_data_pred_rf = lgb_classifier.predict(X)\n",
    "\n",
    "# Obtener las probabilidades predichas para la clase positiva (clase 1) del modelo\n",
    "probab_rf = lgb_classifier.predict_proba(X)\n",
    "\n",
    "# Extraer las puntuaciones (probabilidades) asociadas con la clase positiva\n",
    "score_rf = np.delete(probab_rf, np.s_[0], axis=1)\n",
    "\n",
    "# Crear una copia de las etiquetas verdaderas (Y) para análisis adicional\n",
    "Y_c = Y.copy()\n",
    "\n",
    "# Agregar las predicciones y las puntuaciones del modelo a las etiquetas verdaderas\n",
    "Y_c['preds_rf'] = data1_f_data_pred_rf\n",
    "Y_c['score_rf'] = score_rf\n",
    "\n",
    "# Los datos ahora contienen etiquetas verdaderas, predicciones y puntuaciones del modelo\n",
    "# Puedes utilizar estos resultados para realizar análisis y evaluar el rendimiento del modelo.\n"
   ]
  },
  {
   "cell_type": "code",
   "execution_count": 214,
   "metadata": {
    "tags": []
   },
   "outputs": [
    {
     "data": {
      "image/png": "[encoded data removed]",
      "text/plain": [
       "<Figure size 700x600 with 1 Axes>"
      ]
     },
     "metadata": {},
     "output_type": "display_data"
    }
   ],
   "source": [
    "lgb.plot_importance(lgb_classifier, importance_type=\"gain\", figsize=(7,6), title=\"LightGBM Feature Importance (Gain)\")\n",
    "plt.show()"
   ]
  },
  {
   "cell_type": "code",
   "execution_count": 215,
   "metadata": {
    "tags": []
   },
   "outputs": [
    {
     "data": {
      "image/png": "[encoded data removed]",
      "text/plain": [
       "<Figure size 700x600 with 1 Axes>"
      ]
     },
     "metadata": {},
     "output_type": "display_data"
    }
   ],
   "source": [
    "# Plot feature importance using Split\n",
    "lgb.plot_importance(lgb_classifier, importance_type=\"split\", figsize=(7,6), title=\"LightGBM Feature Importance (Split)\")\n",
    "plt.show()"
   ]
  },
  {
   "cell_type": "code",
   "execution_count": 216,
   "metadata": {
    "tags": []
   },
   "outputs": [
    {
     "data": {
      "text/html": [
       "<div>\n",
       "<style scoped>\n",
       "    .dataframe tbody tr th:only-of-type {\n",
       "        vertical-align: middle;\n",
       "    }\n",
       "\n",
       "    .dataframe tbody tr th {\n",
       "        vertical-align: top;\n",
       "    }\n",
       "\n",
       "    .dataframe thead th {\n",
       "        text-align: right;\n",
       "    }\n",
       "</style>\n",
       "<table border=\"1\" class=\"dataframe\">\n",
       "  <thead>\n",
       "    <tr style=\"text-align: right;\">\n",
       "      <th></th>\n",
       "      <th>01_receiver_transaction_count</th>\n",
       "      <th>01_sender_sending_days</th>\n",
       "      <th>01_branch_working_days</th>\n",
       "      <th>01_net_amount_receiver</th>\n",
       "      <th>01_sender_minutes_since_last_transaction_2days</th>\n",
       "      <th>01_sender_minutes_since_last_transaction_1day</th>\n",
       "      <th>01_sender_days_to_last_transaction_365</th>\n",
       "      <th>sender_days_to_last_transaction_more365</th>\n",
       "      <th>id_payout_A</th>\n",
       "      <th>id_payout_C</th>\n",
       "      <th>id_payout_D</th>\n",
       "      <th>id_payout_M</th>\n",
       "      <th>id_payout_N</th>\n",
       "      <th>id_payout_O</th>\n",
       "      <th>id_payout_P</th>\n",
       "      <th>id_payout_S</th>\n",
       "      <th>id_payout_T</th>\n",
       "      <th>id_payout_X</th>\n",
       "    </tr>\n",
       "  </thead>\n",
       "  <tbody>\n",
       "    <tr>\n",
       "      <th>0</th>\n",
       "      <td>0.099010</td>\n",
       "      <td>0.337500</td>\n",
       "      <td>0.381352</td>\n",
       "      <td>0.505415</td>\n",
       "      <td>0.0</td>\n",
       "      <td>0.0</td>\n",
       "      <td>0.805479</td>\n",
       "      <td>0</td>\n",
       "      <td>False</td>\n",
       "      <td>False</td>\n",
       "      <td>False</td>\n",
       "      <td>False</td>\n",
       "      <td>False</td>\n",
       "      <td>False</td>\n",
       "      <td>True</td>\n",
       "      <td>False</td>\n",
       "      <td>False</td>\n",
       "      <td>False</td>\n",
       "    </tr>\n",
       "    <tr>\n",
       "      <th>1</th>\n",
       "      <td>0.000000</td>\n",
       "      <td>0.000000</td>\n",
       "      <td>0.019956</td>\n",
       "      <td>0.108303</td>\n",
       "      <td>0.0</td>\n",
       "      <td>0.0</td>\n",
       "      <td>0.441096</td>\n",
       "      <td>0</td>\n",
       "      <td>False</td>\n",
       "      <td>False</td>\n",
       "      <td>False</td>\n",
       "      <td>False</td>\n",
       "      <td>False</td>\n",
       "      <td>False</td>\n",
       "      <td>True</td>\n",
       "      <td>False</td>\n",
       "      <td>False</td>\n",
       "      <td>False</td>\n",
       "    </tr>\n",
       "    <tr>\n",
       "      <th>2</th>\n",
       "      <td>0.346535</td>\n",
       "      <td>0.328571</td>\n",
       "      <td>0.381184</td>\n",
       "      <td>0.068592</td>\n",
       "      <td>0.0</td>\n",
       "      <td>0.0</td>\n",
       "      <td>0.000000</td>\n",
       "      <td>1</td>\n",
       "      <td>False</td>\n",
       "      <td>True</td>\n",
       "      <td>False</td>\n",
       "      <td>False</td>\n",
       "      <td>False</td>\n",
       "      <td>False</td>\n",
       "      <td>False</td>\n",
       "      <td>False</td>\n",
       "      <td>False</td>\n",
       "      <td>False</td>\n",
       "    </tr>\n",
       "    <tr>\n",
       "      <th>3</th>\n",
       "      <td>0.089109</td>\n",
       "      <td>0.048214</td>\n",
       "      <td>0.525239</td>\n",
       "      <td>0.097473</td>\n",
       "      <td>0.0</td>\n",
       "      <td>0.0</td>\n",
       "      <td>0.482192</td>\n",
       "      <td>0</td>\n",
       "      <td>False</td>\n",
       "      <td>False</td>\n",
       "      <td>False</td>\n",
       "      <td>False</td>\n",
       "      <td>False</td>\n",
       "      <td>False</td>\n",
       "      <td>True</td>\n",
       "      <td>False</td>\n",
       "      <td>False</td>\n",
       "      <td>False</td>\n",
       "    </tr>\n",
       "    <tr>\n",
       "      <th>4</th>\n",
       "      <td>0.128713</td>\n",
       "      <td>0.960714</td>\n",
       "      <td>0.275197</td>\n",
       "      <td>0.036101</td>\n",
       "      <td>0.0</td>\n",
       "      <td>0.0</td>\n",
       "      <td>0.326027</td>\n",
       "      <td>0</td>\n",
       "      <td>False</td>\n",
       "      <td>False</td>\n",
       "      <td>False</td>\n",
       "      <td>False</td>\n",
       "      <td>False</td>\n",
       "      <td>False</td>\n",
       "      <td>True</td>\n",
       "      <td>False</td>\n",
       "      <td>False</td>\n",
       "      <td>False</td>\n",
       "    </tr>\n",
       "    <tr>\n",
       "      <th>...</th>\n",
       "      <td>...</td>\n",
       "      <td>...</td>\n",
       "      <td>...</td>\n",
       "      <td>...</td>\n",
       "      <td>...</td>\n",
       "      <td>...</td>\n",
       "      <td>...</td>\n",
       "      <td>...</td>\n",
       "      <td>...</td>\n",
       "      <td>...</td>\n",
       "      <td>...</td>\n",
       "      <td>...</td>\n",
       "      <td>...</td>\n",
       "      <td>...</td>\n",
       "      <td>...</td>\n",
       "      <td>...</td>\n",
       "      <td>...</td>\n",
       "      <td>...</td>\n",
       "    </tr>\n",
       "    <tr>\n",
       "      <th>18743834</th>\n",
       "      <td>0.217822</td>\n",
       "      <td>0.335714</td>\n",
       "      <td>0.531779</td>\n",
       "      <td>0.021300</td>\n",
       "      <td>0.0</td>\n",
       "      <td>0.0</td>\n",
       "      <td>0.728767</td>\n",
       "      <td>0</td>\n",
       "      <td>False</td>\n",
       "      <td>False</td>\n",
       "      <td>False</td>\n",
       "      <td>False</td>\n",
       "      <td>False</td>\n",
       "      <td>False</td>\n",
       "      <td>False</td>\n",
       "      <td>False</td>\n",
       "      <td>False</td>\n",
       "      <td>True</td>\n",
       "    </tr>\n",
       "    <tr>\n",
       "      <th>18743835</th>\n",
       "      <td>0.079208</td>\n",
       "      <td>0.666071</td>\n",
       "      <td>0.120745</td>\n",
       "      <td>0.387004</td>\n",
       "      <td>0.0</td>\n",
       "      <td>0.0</td>\n",
       "      <td>0.917808</td>\n",
       "      <td>0</td>\n",
       "      <td>False</td>\n",
       "      <td>False</td>\n",
       "      <td>False</td>\n",
       "      <td>False</td>\n",
       "      <td>False</td>\n",
       "      <td>False</td>\n",
       "      <td>True</td>\n",
       "      <td>False</td>\n",
       "      <td>False</td>\n",
       "      <td>False</td>\n",
       "    </tr>\n",
       "    <tr>\n",
       "      <th>18743836</th>\n",
       "      <td>0.000000</td>\n",
       "      <td>0.000000</td>\n",
       "      <td>0.247694</td>\n",
       "      <td>0.032491</td>\n",
       "      <td>0.0</td>\n",
       "      <td>0.0</td>\n",
       "      <td>0.000000</td>\n",
       "      <td>0</td>\n",
       "      <td>False</td>\n",
       "      <td>False</td>\n",
       "      <td>False</td>\n",
       "      <td>True</td>\n",
       "      <td>False</td>\n",
       "      <td>False</td>\n",
       "      <td>False</td>\n",
       "      <td>False</td>\n",
       "      <td>False</td>\n",
       "      <td>False</td>\n",
       "    </tr>\n",
       "    <tr>\n",
       "      <th>18743837</th>\n",
       "      <td>0.722772</td>\n",
       "      <td>0.733929</td>\n",
       "      <td>0.805635</td>\n",
       "      <td>0.137906</td>\n",
       "      <td>0.0</td>\n",
       "      <td>0.0</td>\n",
       "      <td>0.827397</td>\n",
       "      <td>0</td>\n",
       "      <td>False</td>\n",
       "      <td>False</td>\n",
       "      <td>False</td>\n",
       "      <td>False</td>\n",
       "      <td>False</td>\n",
       "      <td>False</td>\n",
       "      <td>True</td>\n",
       "      <td>False</td>\n",
       "      <td>False</td>\n",
       "      <td>False</td>\n",
       "    </tr>\n",
       "    <tr>\n",
       "      <th>18743838</th>\n",
       "      <td>0.009901</td>\n",
       "      <td>0.000000</td>\n",
       "      <td>0.349489</td>\n",
       "      <td>0.126354</td>\n",
       "      <td>0.0</td>\n",
       "      <td>0.0</td>\n",
       "      <td>0.134247</td>\n",
       "      <td>0</td>\n",
       "      <td>False</td>\n",
       "      <td>True</td>\n",
       "      <td>False</td>\n",
       "      <td>False</td>\n",
       "      <td>False</td>\n",
       "      <td>False</td>\n",
       "      <td>False</td>\n",
       "      <td>False</td>\n",
       "      <td>False</td>\n",
       "      <td>False</td>\n",
       "    </tr>\n",
       "  </tbody>\n",
       "</table>\n",
       "<p>18743839 rows × 18 columns</p>\n",
       "</div>"
      ],
      "text/plain": [
       "          01_receiver_transaction_count  01_sender_sending_days  \\\n",
       "0                              0.099010                0.337500   \n",
       "1                              0.000000                0.000000   \n",
       "2                              0.346535                0.328571   \n",
       "3                              0.089109                0.048214   \n",
       "4                              0.128713                0.960714   \n",
       "...                                 ...                     ...   \n",
       "18743834                       0.217822                0.335714   \n",
       "18743835                       0.079208                0.666071   \n",
       "18743836                       0.000000                0.000000   \n",
       "18743837                       0.722772                0.733929   \n",
       "18743838                       0.009901                0.000000   \n",
       "\n",
       "          01_branch_working_days  01_net_amount_receiver  \\\n",
       "0                       0.381352                0.505415   \n",
       "1                       0.019956                0.108303   \n",
       "2                       0.381184                0.068592   \n",
       "3                       0.525239                0.097473   \n",
       "4                       0.275197                0.036101   \n",
       "...                          ...                     ...   \n",
       "18743834                0.531779                0.021300   \n",
       "18743835                0.120745                0.387004   \n",
       "18743836                0.247694                0.032491   \n",
       "18743837                0.805635                0.137906   \n",
       "18743838                0.349489                0.126354   \n",
       "\n",
       "          01_sender_minutes_since_last_transaction_2days  \\\n",
       "0                                                    0.0   \n",
       "1                                                    0.0   \n",
       "2                                                    0.0   \n",
       "3                                                    0.0   \n",
       "4                                                    0.0   \n",
       "...                                                  ...   \n",
       "18743834                                             0.0   \n",
       "18743835                                             0.0   \n",
       "18743836                                             0.0   \n",
       "18743837                                             0.0   \n",
       "18743838                                             0.0   \n",
       "\n",
       "          01_sender_minutes_since_last_transaction_1day  \\\n",
       "0                                                   0.0   \n",
       "1                                                   0.0   \n",
       "2                                                   0.0   \n",
       "3                                                   0.0   \n",
       "4                                                   0.0   \n",
       "...                                                 ...   \n",
       "18743834                                            0.0   \n",
       "18743835                                            0.0   \n",
       "18743836                                            0.0   \n",
       "18743837                                            0.0   \n",
       "18743838                                            0.0   \n",
       "\n",
       "          01_sender_days_to_last_transaction_365  \\\n",
       "0                                       0.805479   \n",
       "1                                       0.441096   \n",
       "2                                       0.000000   \n",
       "3                                       0.482192   \n",
       "4                                       0.326027   \n",
       "...                                          ...   \n",
       "18743834                                0.728767   \n",
       "18743835                                0.917808   \n",
       "18743836                                0.000000   \n",
       "18743837                                0.827397   \n",
       "18743838                                0.134247   \n",
       "\n",
       "          sender_days_to_last_transaction_more365  id_payout_A  id_payout_C  \\\n",
       "0                                               0        False        False   \n",
       "1                                               0        False        False   \n",
       "2                                               1        False         True   \n",
       "3                                               0        False        False   \n",
       "4                                               0        False        False   \n",
       "...                                           ...          ...          ...   \n",
       "18743834                                        0        False        False   \n",
       "18743835                                        0        False        False   \n",
       "18743836                                        0        False        False   \n",
       "18743837                                        0        False        False   \n",
       "18743838                                        0        False         True   \n",
       "\n",
       "          id_payout_D  id_payout_M  id_payout_N  id_payout_O  id_payout_P  \\\n",
       "0               False        False        False        False         True   \n",
       "1               False        False        False        False         True   \n",
       "2               False        False        False        False        False   \n",
       "3               False        False        False        False         True   \n",
       "4               False        False        False        False         True   \n",
       "...               ...          ...          ...          ...          ...   \n",
       "18743834        False        False        False        False        False   \n",
       "18743835        False        False        False        False         True   \n",
       "18743836        False         True        False        False        False   \n",
       "18743837        False        False        False        False         True   \n",
       "18743838        False        False        False        False        False   \n",
       "\n",
       "          id_payout_S  id_payout_T  id_payout_X  \n",
       "0               False        False        False  \n",
       "1               False        False        False  \n",
       "2               False        False        False  \n",
       "3               False        False        False  \n",
       "4               False        False        False  \n",
       "...               ...          ...          ...  \n",
       "18743834        False        False         True  \n",
       "18743835        False        False        False  \n",
       "18743836        False        False        False  \n",
       "18743837        False        False        False  \n",
       "18743838        False        False        False  \n",
       "\n",
       "[18743839 rows x 18 columns]"
      ]
     },
     "execution_count": 216,
     "metadata": {},
     "output_type": "execute_result"
    }
   ],
   "source": [
    "X"
   ]
  },
  {
   "cell_type": "code",
   "execution_count": 217,
   "metadata": {
    "tags": []
   },
   "outputs": [
    {
     "data": {
      "text/html": [
       "<div>\n",
       "<style scoped>\n",
       "    .dataframe tbody tr th:only-of-type {\n",
       "        vertical-align: middle;\n",
       "    }\n",
       "\n",
       "    .dataframe tbody tr th {\n",
       "        vertical-align: top;\n",
       "    }\n",
       "\n",
       "    .dataframe thead th {\n",
       "        text-align: right;\n",
       "    }\n",
       "</style>\n",
       "<table border=\"1\" class=\"dataframe\">\n",
       "  <thead>\n",
       "    <tr style=\"text-align: right;\">\n",
       "      <th></th>\n",
       "      <th>target</th>\n",
       "      <th>preds_rf</th>\n",
       "      <th>score_rf</th>\n",
       "    </tr>\n",
       "  </thead>\n",
       "  <tbody>\n",
       "    <tr>\n",
       "      <th>17278</th>\n",
       "      <td>True</td>\n",
       "      <td>False</td>\n",
       "      <td>0.000106</td>\n",
       "    </tr>\n",
       "    <tr>\n",
       "      <th>93895</th>\n",
       "      <td>True</td>\n",
       "      <td>False</td>\n",
       "      <td>0.000004</td>\n",
       "    </tr>\n",
       "    <tr>\n",
       "      <th>163186</th>\n",
       "      <td>True</td>\n",
       "      <td>False</td>\n",
       "      <td>0.000012</td>\n",
       "    </tr>\n",
       "    <tr>\n",
       "      <th>179200</th>\n",
       "      <td>True</td>\n",
       "      <td>False</td>\n",
       "      <td>0.000005</td>\n",
       "    </tr>\n",
       "    <tr>\n",
       "      <th>251371</th>\n",
       "      <td>True</td>\n",
       "      <td>False</td>\n",
       "      <td>0.000011</td>\n",
       "    </tr>\n",
       "    <tr>\n",
       "      <th>...</th>\n",
       "      <td>...</td>\n",
       "      <td>...</td>\n",
       "      <td>...</td>\n",
       "    </tr>\n",
       "    <tr>\n",
       "      <th>18617019</th>\n",
       "      <td>True</td>\n",
       "      <td>False</td>\n",
       "      <td>0.000004</td>\n",
       "    </tr>\n",
       "    <tr>\n",
       "      <th>18620045</th>\n",
       "      <td>True</td>\n",
       "      <td>False</td>\n",
       "      <td>0.000005</td>\n",
       "    </tr>\n",
       "    <tr>\n",
       "      <th>18657488</th>\n",
       "      <td>True</td>\n",
       "      <td>False</td>\n",
       "      <td>0.000015</td>\n",
       "    </tr>\n",
       "    <tr>\n",
       "      <th>18668424</th>\n",
       "      <td>True</td>\n",
       "      <td>False</td>\n",
       "      <td>0.000005</td>\n",
       "    </tr>\n",
       "    <tr>\n",
       "      <th>18740084</th>\n",
       "      <td>True</td>\n",
       "      <td>False</td>\n",
       "      <td>0.000005</td>\n",
       "    </tr>\n",
       "  </tbody>\n",
       "</table>\n",
       "<p>417 rows × 3 columns</p>\n",
       "</div>"
      ],
      "text/plain": [
       "          target  preds_rf  score_rf\n",
       "17278       True     False  0.000106\n",
       "93895       True     False  0.000004\n",
       "163186      True     False  0.000012\n",
       "179200      True     False  0.000005\n",
       "251371      True     False  0.000011\n",
       "...          ...       ...       ...\n",
       "18617019    True     False  0.000004\n",
       "18620045    True     False  0.000005\n",
       "18657488    True     False  0.000015\n",
       "18668424    True     False  0.000005\n",
       "18740084    True     False  0.000005\n",
       "\n",
       "[417 rows x 3 columns]"
      ]
     },
     "execution_count": 217,
     "metadata": {},
     "output_type": "execute_result"
    }
   ],
   "source": [
    " Y_c[Y_c['target'] == True]"
   ]
  },
  {
   "cell_type": "code",
   "execution_count": 218,
   "metadata": {
    "tags": []
   },
   "outputs": [
    {
     "data": {
      "text/html": [
       "<div>\n",
       "<style scoped>\n",
       "    .dataframe tbody tr th:only-of-type {\n",
       "        vertical-align: middle;\n",
       "    }\n",
       "\n",
       "    .dataframe tbody tr th {\n",
       "        vertical-align: top;\n",
       "    }\n",
       "\n",
       "    .dataframe thead th {\n",
       "        text-align: right;\n",
       "    }\n",
       "</style>\n",
       "<table border=\"1\" class=\"dataframe\">\n",
       "  <thead>\n",
       "    <tr style=\"text-align: right;\">\n",
       "      <th></th>\n",
       "      <th>0</th>\n",
       "      <th>1</th>\n",
       "    </tr>\n",
       "  </thead>\n",
       "  <tbody>\n",
       "    <tr>\n",
       "      <th>0</th>\n",
       "      <td>18743422</td>\n",
       "      <td>0</td>\n",
       "    </tr>\n",
       "    <tr>\n",
       "      <th>1</th>\n",
       "      <td>417</td>\n",
       "      <td>0</td>\n",
       "    </tr>\n",
       "  </tbody>\n",
       "</table>\n",
       "</div>"
      ],
      "text/plain": [
       "          0  1\n",
       "0  18743422  0\n",
       "1       417  0"
      ]
     },
     "execution_count": 218,
     "metadata": {},
     "output_type": "execute_result"
    }
   ],
   "source": [
    "pd.DataFrame(confusion_matrix(Y_c['target'], Y_c['preds_rf']))"
   ]
  },
  {
   "cell_type": "code",
   "execution_count": 219,
   "metadata": {
    "tags": []
   },
   "outputs": [
    {
     "name": "stderr",
     "output_type": "stream",
     "text": [
      "/home/ec2-user/anaconda3/envs/python3/lib/python3.10/site-packages/seaborn/_oldcore.py:1119: FutureWarning: use_inf_as_na option is deprecated and will be removed in a future version. Convert inf values to NaN before operating instead.\n",
      "  with pd.option_context('mode.use_inf_as_na', True):\n"
     ]
    },
    {
     "data": {
      "text/plain": [
       "<Axes: xlabel='score_rf', ylabel='Count'>"
      ]
     },
     "execution_count": 219,
     "metadata": {},
     "output_type": "execute_result"
    },
    {
     "data": {
      "image/png": "[encoded data removed]",
      "text/plain": [
       "<Figure size 640x480 with 1 Axes>"
      ]
     },
     "metadata": {},
     "output_type": "display_data"
    }
   ],
   "source": [
    "import seaborn as sns\n",
    "sns.histplot(data = Y_c[Y_c['target'] == True], x='score_rf')"
   ]
  },
  {
   "cell_type": "code",
   "execution_count": 220,
   "metadata": {
    "tags": []
   },
   "outputs": [],
   "source": [
    "#sns.histplot(data = Y_c[Y_c['target1'] == False], x='score_rf')"
   ]
  },
  {
   "cell_type": "code",
   "execution_count": 221,
   "metadata": {
    "tags": []
   },
   "outputs": [
    {
     "name": "stderr",
     "output_type": "stream",
     "text": [
      "/home/ec2-user/anaconda3/envs/python3/lib/python3.10/site-packages/sklearn/metrics/_classification.py:1497: UndefinedMetricWarning: Precision is ill-defined and being set to 0.0 in labels with no predicted samples. Use `zero_division` parameter to control this behavior.\n",
      "  _warn_prf(average, modifier, f\"{metric.capitalize()} is\", len(result))\n",
      "/home/ec2-user/anaconda3/envs/python3/lib/python3.10/site-packages/sklearn/metrics/_classification.py:1497: UndefinedMetricWarning: Precision is ill-defined and being set to 0.0 in labels with no predicted samples. Use `zero_division` parameter to control this behavior.\n",
      "  _warn_prf(average, modifier, f\"{metric.capitalize()} is\", len(result))\n"
     ]
    },
    {
     "name": "stdout",
     "output_type": "stream",
     "text": [
      "              precision    recall  f1-score   support\n",
      "\n",
      "   No fraude       1.00      1.00      1.00  18743422\n",
      "      Fraude       0.00      0.00      0.00       417\n",
      "\n",
      "    accuracy                           1.00  18743839\n",
      "   macro avg       0.50      0.50      0.50  18743839\n",
      "weighted avg       1.00      1.00      1.00  18743839\n",
      "\n"
     ]
    },
    {
     "name": "stderr",
     "output_type": "stream",
     "text": [
      "/home/ec2-user/anaconda3/envs/python3/lib/python3.10/site-packages/sklearn/metrics/_classification.py:1497: UndefinedMetricWarning: Precision is ill-defined and being set to 0.0 in labels with no predicted samples. Use `zero_division` parameter to control this behavior.\n",
      "  _warn_prf(average, modifier, f\"{metric.capitalize()} is\", len(result))\n"
     ]
    }
   ],
   "source": [
    "target_names = ['No fraude', 'Fraude']\n",
    "print(classification_report(Y_c['target'], Y_c['preds_rf'], target_names=target_names))"
   ]
  },
  {
   "cell_type": "code",
   "execution_count": 222,
   "metadata": {
    "tags": []
   },
   "outputs": [
    {
     "name": "stdout",
     "output_type": "stream",
     "text": [
      "FRAUD CAPTURA 30%:\n",
      "0.9664268585131894\n"
     ]
    }
   ],
   "source": [
    "# Dividir las predicciones en deciles y calcular la captura del 30% en el conjunto de entrenamiento\n",
    "percentiles = pd.qcut(Y_c['score_rf'], q=10, duplicates='drop').astype(str)\n",
    "\n",
    "percentile_label = {p: l for l, p in enumerate(sorted(percentiles.unique(), reverse=True), start=1)}\n",
    "percentiles = percentiles.map(percentile_label)\n",
    "Y_c['FRAUD_DECILE'] = np.nan\n",
    "Y_c['FRAUD_DECILE'] = Y_c['FRAUD_DECILE'].astype('Int32')\n",
    "Y_c['FRAUD_DECILE'] = percentiles\n",
    "print('FRAUD CAPTURA 30%:')\n",
    "print(sum(Y_c[Y_c['FRAUD_DECILE'] < 4]['target']) / sum(Y_c['target']))"
   ]
  },
  {
   "cell_type": "code",
   "execution_count": 223,
   "metadata": {
    "tags": []
   },
   "outputs": [
    {
     "data": {
      "text/plain": [
       "0                       (3.8644e-06, 3.8648e-06]\n",
       "1                        (3.8664e-06, 3.873e-06]\n",
       "2                       (3.8648e-06, 3.8664e-06]\n",
       "3           (-6.136000000000001e-06, 3.8642e-06]\n",
       "4           (-6.136000000000001e-06, 3.8642e-06]\n",
       "                            ...                 \n",
       "18743834                (3.8643e-06, 3.8644e-06]\n",
       "18743835                (3.8644e-06, 3.8648e-06]\n",
       "18743836                 (3.873e-06, 0.00010632]\n",
       "18743837    (-6.136000000000001e-06, 3.8642e-06]\n",
       "18743838                 (3.873e-06, 0.00010632]\n",
       "Name: rank, Length: 18743839, dtype: object"
      ]
     },
     "execution_count": 223,
     "metadata": {},
     "output_type": "execute_result"
    }
   ],
   "source": [
    "Y_c['rank'] = pd.qcut(Y_c['score_rf'], q=10, duplicates='drop').astype(str)\n",
    "Y_c['rank']"
   ]
  },
  {
   "cell_type": "code",
   "execution_count": 224,
   "metadata": {
    "tags": []
   },
   "outputs": [
    {
     "data": {
      "text/html": [
       "<div>\n",
       "<style scoped>\n",
       "    .dataframe tbody tr th:only-of-type {\n",
       "        vertical-align: middle;\n",
       "    }\n",
       "\n",
       "    .dataframe tbody tr th {\n",
       "        vertical-align: top;\n",
       "    }\n",
       "\n",
       "    .dataframe thead tr th {\n",
       "        text-align: left;\n",
       "    }\n",
       "\n",
       "    .dataframe thead tr:last-of-type th {\n",
       "        text-align: right;\n",
       "    }\n",
       "</style>\n",
       "<table border=\"1\" class=\"dataframe\">\n",
       "  <thead>\n",
       "    <tr>\n",
       "      <th></th>\n",
       "      <th colspan=\"3\" halign=\"left\">score_rf</th>\n",
       "    </tr>\n",
       "    <tr>\n",
       "      <th></th>\n",
       "      <th>mean</th>\n",
       "      <th>min</th>\n",
       "      <th>max</th>\n",
       "    </tr>\n",
       "    <tr>\n",
       "      <th>FRAUD_DECILE</th>\n",
       "      <th></th>\n",
       "      <th></th>\n",
       "      <th></th>\n",
       "    </tr>\n",
       "  </thead>\n",
       "  <tbody>\n",
       "    <tr>\n",
       "      <th>1</th>\n",
       "      <td>0.000004</td>\n",
       "      <td>0.000004</td>\n",
       "      <td>0.000106</td>\n",
       "    </tr>\n",
       "    <tr>\n",
       "      <th>2</th>\n",
       "      <td>0.000004</td>\n",
       "      <td>0.000004</td>\n",
       "      <td>0.000004</td>\n",
       "    </tr>\n",
       "    <tr>\n",
       "      <th>3</th>\n",
       "      <td>0.000004</td>\n",
       "      <td>0.000004</td>\n",
       "      <td>0.000004</td>\n",
       "    </tr>\n",
       "    <tr>\n",
       "      <th>4</th>\n",
       "      <td>0.000004</td>\n",
       "      <td>0.000004</td>\n",
       "      <td>0.000004</td>\n",
       "    </tr>\n",
       "    <tr>\n",
       "      <th>5</th>\n",
       "      <td>0.000004</td>\n",
       "      <td>0.000004</td>\n",
       "      <td>0.000004</td>\n",
       "    </tr>\n",
       "    <tr>\n",
       "      <th>6</th>\n",
       "      <td>0.000004</td>\n",
       "      <td>0.000004</td>\n",
       "      <td>0.000004</td>\n",
       "    </tr>\n",
       "    <tr>\n",
       "      <th>7</th>\n",
       "      <td>0.000004</td>\n",
       "      <td>0.000004</td>\n",
       "      <td>0.000004</td>\n",
       "    </tr>\n",
       "  </tbody>\n",
       "</table>\n",
       "</div>"
      ],
      "text/plain": [
       "              score_rf                    \n",
       "                  mean       min       max\n",
       "FRAUD_DECILE                              \n",
       "1             0.000004  0.000004  0.000106\n",
       "2             0.000004  0.000004  0.000004\n",
       "3             0.000004  0.000004  0.000004\n",
       "4             0.000004  0.000004  0.000004\n",
       "5             0.000004  0.000004  0.000004\n",
       "6             0.000004  0.000004  0.000004\n",
       "7             0.000004  0.000004  0.000004"
      ]
     },
     "execution_count": 224,
     "metadata": {},
     "output_type": "execute_result"
    }
   ],
   "source": [
    "Y_c[['score_rf','FRAUD_DECILE']].groupby(['FRAUD_DECILE']).agg({'score_rf': ['mean', 'min', 'max']}) "
   ]
  },
  {
   "cell_type": "code",
   "execution_count": 225,
   "metadata": {
    "tags": []
   },
   "outputs": [
    {
     "data": {
      "text/plain": [
       "score_rf\n",
       "1           7380149\n",
       "3           3555717\n",
       "6           1851014\n",
       "7           1831352\n",
       "4           1580314\n",
       "5           1401317\n",
       "2           1143976\n",
       "Name: count, dtype: int64"
      ]
     },
     "execution_count": 225,
     "metadata": {},
     "output_type": "execute_result"
    }
   ],
   "source": [
    "percentile_label = {p: l for l, p in enumerate(sorted(percentiles.unique(), reverse=True), start=1)}\n",
    "percentiles = percentiles.map(percentile_label)\n",
    "pd.DataFrame(percentiles).value_counts()"
   ]
  },
  {
   "cell_type": "code",
   "execution_count": 226,
   "metadata": {
    "tags": []
   },
   "outputs": [],
   "source": [
    "DECILES_T = pd.crosstab(Y_c['FRAUD_DECILE'], Y_c['target'])"
   ]
  },
  {
   "cell_type": "code",
   "execution_count": 227,
   "metadata": {
    "application/vnd.databricks.v1+cell": {
     "cellMetadata": {
      "byteLimit": 2048000,
      "rowLimit": 10000
     },
     "inputWidgets": {},
     "nuid": "c696761f-b1a0-4d0d-a9f1-d9fda10a7b0e",
     "showTitle": false,
     "title": ""
    },
    "tags": []
   },
   "outputs": [
    {
     "data": {
      "text/html": [
       "<div>\n",
       "<style scoped>\n",
       "    .dataframe tbody tr th:only-of-type {\n",
       "        vertical-align: middle;\n",
       "    }\n",
       "\n",
       "    .dataframe tbody tr th {\n",
       "        vertical-align: top;\n",
       "    }\n",
       "\n",
       "    .dataframe thead th {\n",
       "        text-align: right;\n",
       "    }\n",
       "</style>\n",
       "<table border=\"1\" class=\"dataframe\">\n",
       "  <thead>\n",
       "    <tr style=\"text-align: right;\">\n",
       "      <th>target</th>\n",
       "      <th>False</th>\n",
       "      <th>True</th>\n",
       "    </tr>\n",
       "    <tr>\n",
       "      <th>FRAUD_DECILE</th>\n",
       "      <th></th>\n",
       "      <th></th>\n",
       "    </tr>\n",
       "  </thead>\n",
       "  <tbody>\n",
       "    <tr>\n",
       "      <th>1</th>\n",
       "      <td>1830956</td>\n",
       "      <td>396</td>\n",
       "    </tr>\n",
       "    <tr>\n",
       "      <th>2</th>\n",
       "      <td>1851008</td>\n",
       "      <td>6</td>\n",
       "    </tr>\n",
       "    <tr>\n",
       "      <th>3</th>\n",
       "      <td>1401316</td>\n",
       "      <td>1</td>\n",
       "    </tr>\n",
       "    <tr>\n",
       "      <th>4</th>\n",
       "      <td>1580314</td>\n",
       "      <td>0</td>\n",
       "    </tr>\n",
       "    <tr>\n",
       "      <th>5</th>\n",
       "      <td>3555712</td>\n",
       "      <td>5</td>\n",
       "    </tr>\n",
       "    <tr>\n",
       "      <th>6</th>\n",
       "      <td>1143973</td>\n",
       "      <td>3</td>\n",
       "    </tr>\n",
       "    <tr>\n",
       "      <th>7</th>\n",
       "      <td>7380143</td>\n",
       "      <td>6</td>\n",
       "    </tr>\n",
       "  </tbody>\n",
       "</table>\n",
       "</div>"
      ],
      "text/plain": [
       "target          False  True \n",
       "FRAUD_DECILE                \n",
       "1             1830956    396\n",
       "2             1851008      6\n",
       "3             1401316      1\n",
       "4             1580314      0\n",
       "5             3555712      5\n",
       "6             1143973      3\n",
       "7             7380143      6"
      ]
     },
     "execution_count": 227,
     "metadata": {},
     "output_type": "execute_result"
    }
   ],
   "source": [
    "DECILES_T"
   ]
  },
  {
   "cell_type": "code",
   "execution_count": 228,
   "metadata": {
    "application/vnd.databricks.v1+cell": {
     "cellMetadata": {
      "byteLimit": 2048000,
      "rowLimit": 10000
     },
     "inputWidgets": {},
     "nuid": "71386cf3-61f2-44f2-aec7-360594b577b2",
     "showTitle": false,
     "title": ""
    },
    "tags": []
   },
   "outputs": [
    {
     "data": {
      "text/plain": [
       "array([<Axes: title={'center': 'False'}, xlabel='FRAUD_DECILE'>,\n",
       "       <Axes: title={'center': 'True'}, xlabel='FRAUD_DECILE'>],\n",
       "      dtype=object)"
      ]
     },
     "execution_count": 228,
     "metadata": {},
     "output_type": "execute_result"
    },
    {
     "data": {
      "image/png": "[encoded data removed]",
      "text/plain": [
       "<Figure size 640x480 with 2 Axes>"
      ]
     },
     "metadata": {},
     "output_type": "display_data"
    }
   ],
   "source": [
    "DECILES_T.plot.bar(stacked=False, rot=0,subplots=True)"
   ]
  },
  {
   "cell_type": "code",
   "execution_count": 229,
   "metadata": {
    "application/vnd.databricks.v1+cell": {
     "cellMetadata": {
      "byteLimit": 2048000,
      "rowLimit": 10000
     },
     "inputWidgets": {},
     "nuid": "d2607d30-6393-4d6e-ba95-acb61bf350dd",
     "showTitle": false,
     "title": ""
    },
    "tags": []
   },
   "outputs": [],
   "source": [
    "### Calcular la curva de ganancia acumulativa y el LIFT del modelo en el conjunto de entrenamiento\n",
    "#classes = np.unique(Y_c[['target']])\n",
    "#percentages, gains = cumulative_gain_curve(Y_c[['target']], Y_c['score_rf'], classes[1])\n",
    "#percentages = percentages[1:]\n",
    "#gains = gains[1:]\n",
    "#gains = gains / percentages\n",
    "#indice = round(len(gains) * 0.1)\n",
    "#print('LIFT INV CHURN TRAIN:')\n",
    "#print(gains[indice])\n",
    "\n",
    "# Calcular el área bajo la curva ROC del modelo en el conjunto de entrenamiento\n",
    "#print('ROC INV CHURN TRAIN:')\n",
    "#print(roc_auc_score(Y_c[['target']], Y_c['preds_rf']))\n",
    "\n",
    "# Calcular la estadística KS del modelo en el conjunto de entrenamiento\n",
    "#thresholds, pct1, pct2, ks_statistic, max_distance_at, classes = binary_ks_curve(Y_c[['target']], Y_c['score_rf'].ravel())\n",
    "#print('KS INV CHURN TRAIN:')\n",
    "#print(ks_statistic)\n",
    "\n",
    "# Calcular la precisión y el recall del modelo en el conjunto de entrenamiento\n",
    "#precision = precision_score(Y_c[['target']], Y_c['preds_rf'])\n",
    "#recall = recall_score(Y_c[['target']], Y_c['preds_rf'])\n",
    "\n",
    "#print('Precision INV CHURN TRAIN:')\n",
    "#print(precision)\n",
    "#print('Recall INV CHURN TRAIN:')\n",
    "#print(recall)\n"
   ]
  },
  {
   "cell_type": "markdown",
   "metadata": {
    "application/vnd.databricks.v1+cell": {
     "cellMetadata": {
      "byteLimit": 2048000,
      "rowLimit": 10000
     },
     "inputWidgets": {},
     "nuid": "e6fcd014-a695-48a9-8af9-a121268015cb",
     "showTitle": false,
     "title": ""
    }
   },
   "source": [
    "## TESTEO ##"
   ]
  },
  {
   "cell_type": "code",
   "execution_count": 230,
   "metadata": {
    "application/vnd.databricks.v1+cell": {
     "cellMetadata": {
      "byteLimit": 2048000,
      "rowLimit": 10000
     },
     "inputWidgets": {},
     "nuid": "b88b7157-ce0f-4a4c-bcbd-fd2307aacc68",
     "showTitle": false,
     "title": ""
    }
   },
   "outputs": [],
   "source": [
    "s3_url = f\"viamericas-datalake-dev-us-east-1-283731589572-raw/FraudModel/Data4Model/Target2\"\n",
    "tes = pd.read_parquet(f\"s3://{s3_url}/Test/Test.parquet\")\n",
    "\n",
    "##lista de variables de input\n",
    "X = tes[var_input]\n",
    "Y = tes[['target']] \n"
   ]
  },
  {
   "cell_type": "code",
   "execution_count": 231,
   "metadata": {
    "application/vnd.databricks.v1+cell": {
     "cellMetadata": {
      "byteLimit": 2048000,
      "rowLimit": 10000
     },
     "inputWidgets": {},
     "nuid": "a08ae9f0-5d1e-4675-ac5e-891ef44cecee",
     "showTitle": false,
     "title": ""
    }
   },
   "outputs": [],
   "source": [
    "testeo = tes"
   ]
  },
  {
   "cell_type": "code",
   "execution_count": 232,
   "metadata": {
    "application/vnd.databricks.v1+cell": {
     "cellMetadata": {
      "byteLimit": 2048000,
      "rowLimit": 10000
     },
     "inputWidgets": {},
     "nuid": "b7bd1a47-7799-4579-b3b0-66207df6f13d",
     "showTitle": false,
     "title": ""
    }
   },
   "outputs": [],
   "source": [
    "def limpiar_nombres_columnas(dataframe):\n",
    "    \"\"\"\n",
    "    Limpia y estandariza los nombres de las columnas en un DataFrame.\n",
    "\n",
    "    Parameters:\n",
    "    - dataframe: DataFrame de pandas.\n",
    "\n",
    "    Returns:\n",
    "    - DataFrame con nombres de columnas limpios.\n",
    "    \"\"\"\n",
    "    dataframe = dataframe.rename(columns=lambda x: re.sub('[^A-Za-z0-9_]+', '', x))\n",
    "    return dataframe\n",
    "    \n",
    "testeo = limpiar_nombres_columnas(testeo)"
   ]
  },
  {
   "cell_type": "code",
   "execution_count": 233,
   "metadata": {
    "application/vnd.databricks.v1+cell": {
     "cellMetadata": {
      "byteLimit": 2048000,
      "rowLimit": 10000
     },
     "inputWidgets": {},
     "nuid": "c3bcf455-00db-437e-9b14-40b53d895d0b",
     "showTitle": false,
     "title": ""
    }
   },
   "outputs": [
    {
     "name": "stdout",
     "output_type": "stream",
     "text": [
      "Dataset Length:  12385170\n",
      "Dataset Shape:  (12385170, 32)\n"
     ]
    }
   ],
   "source": [
    "testeo = testeo\n",
    "#testeo['ID']=testeo['cbs_reg_user_id_cd']\n",
    "#testeo = testeo.set_index('ID')  \n",
    "#testeo=testeo.round(2)\n",
    "\n",
    " \n",
    "print (\"Dataset Length: \", len(testeo)) \n",
    "print (\"Dataset Shape: \", testeo.shape)"
   ]
  },
  {
   "cell_type": "code",
   "execution_count": 234,
   "metadata": {
    "application/vnd.databricks.v1+cell": {
     "cellMetadata": {
      "byteLimit": 2048000,
      "rowLimit": 10000
     },
     "inputWidgets": {},
     "nuid": "4370c873-f4d4-457f-81f8-91409645043b",
     "showTitle": false,
     "title": ""
    }
   },
   "outputs": [
    {
     "data": {
      "text/plain": [
       "target\n",
       "False    12384979\n",
       "True          191\n",
       "Name: count, dtype: int64"
      ]
     },
     "execution_count": 234,
     "metadata": {},
     "output_type": "execute_result"
    }
   ],
   "source": [
    "testeo['target'].value_counts(dropna=False)"
   ]
  },
  {
   "cell_type": "code",
   "execution_count": 235,
   "metadata": {
    "application/vnd.databricks.v1+cell": {
     "cellMetadata": {
      "byteLimit": 2048000,
      "rowLimit": 10000
     },
     "inputWidgets": {},
     "nuid": "c4359382-551c-4b84-938a-6261417a69c8",
     "showTitle": false,
     "title": ""
    }
   },
   "outputs": [
    {
     "data": {
      "text/plain": [
       "(12385170, 32)"
      ]
     },
     "execution_count": 235,
     "metadata": {},
     "output_type": "execute_result"
    }
   ],
   "source": [
    "testeo.shape"
   ]
  },
  {
   "cell_type": "code",
   "execution_count": 236,
   "metadata": {
    "application/vnd.databricks.v1+cell": {
     "cellMetadata": {
      "byteLimit": 2048000,
      "rowLimit": 10000
     },
     "inputWidgets": {},
     "nuid": "0c0fb05b-e907-4ead-87c5-ec1a40104b55",
     "showTitle": false,
     "title": ""
    }
   },
   "outputs": [
    {
     "data": {
      "text/plain": [
       "target\n",
       "False    12384979\n",
       "True          191\n",
       "Name: count, dtype: int64"
      ]
     },
     "execution_count": 236,
     "metadata": {},
     "output_type": "execute_result"
    }
   ],
   "source": [
    "testeo['target'].value_counts(dropna=False)"
   ]
  },
  {
   "cell_type": "code",
   "execution_count": 237,
   "metadata": {
    "application/vnd.databricks.v1+cell": {
     "cellMetadata": {
      "byteLimit": 2048000,
      "rowLimit": 10000
     },
     "inputWidgets": {},
     "nuid": "1318a536-2a23-456f-842c-ac6d1d389126",
     "showTitle": false,
     "title": ""
    }
   },
   "outputs": [],
   "source": [
    "## Variables del modelo\n",
    "X_TESTEO = tes[var_input]"
   ]
  },
  {
   "cell_type": "code",
   "execution_count": 238,
   "metadata": {
    "tags": []
   },
   "outputs": [
    {
     "data": {
      "text/html": [
       "<div>\n",
       "<style scoped>\n",
       "    .dataframe tbody tr th:only-of-type {\n",
       "        vertical-align: middle;\n",
       "    }\n",
       "\n",
       "    .dataframe tbody tr th {\n",
       "        vertical-align: top;\n",
       "    }\n",
       "\n",
       "    .dataframe thead th {\n",
       "        text-align: right;\n",
       "    }\n",
       "</style>\n",
       "<table border=\"1\" class=\"dataframe\">\n",
       "  <thead>\n",
       "    <tr style=\"text-align: right;\">\n",
       "      <th></th>\n",
       "      <th>01_receiver_transaction_count</th>\n",
       "      <th>01_sender_sending_days</th>\n",
       "      <th>01_branch_working_days</th>\n",
       "      <th>01_net_amount_receiver</th>\n",
       "      <th>01_sender_minutes_since_last_transaction_2days</th>\n",
       "      <th>01_sender_minutes_since_last_transaction_1day</th>\n",
       "      <th>01_sender_days_to_last_transaction_365</th>\n",
       "      <th>sender_days_to_last_transaction_more365</th>\n",
       "      <th>id_payout_A</th>\n",
       "      <th>id_payout_C</th>\n",
       "      <th>id_payout_D</th>\n",
       "      <th>id_payout_M</th>\n",
       "      <th>id_payout_N</th>\n",
       "      <th>id_payout_O</th>\n",
       "      <th>id_payout_P</th>\n",
       "      <th>id_payout_S</th>\n",
       "      <th>id_payout_T</th>\n",
       "      <th>id_payout_X</th>\n",
       "    </tr>\n",
       "  </thead>\n",
       "  <tbody>\n",
       "    <tr>\n",
       "      <th>0</th>\n",
       "      <td>0.049505</td>\n",
       "      <td>1.000000</td>\n",
       "      <td>0.460842</td>\n",
       "      <td>0.180505</td>\n",
       "      <td>0.0</td>\n",
       "      <td>0.0</td>\n",
       "      <td>0.323288</td>\n",
       "      <td>0</td>\n",
       "      <td>False</td>\n",
       "      <td>False</td>\n",
       "      <td>False</td>\n",
       "      <td>False</td>\n",
       "      <td>False</td>\n",
       "      <td>False</td>\n",
       "      <td>True</td>\n",
       "      <td>False</td>\n",
       "      <td>False</td>\n",
       "      <td>False</td>\n",
       "    </tr>\n",
       "    <tr>\n",
       "      <th>1</th>\n",
       "      <td>0.584158</td>\n",
       "      <td>1.000000</td>\n",
       "      <td>0.269328</td>\n",
       "      <td>0.357401</td>\n",
       "      <td>0.0</td>\n",
       "      <td>0.0</td>\n",
       "      <td>0.397260</td>\n",
       "      <td>0</td>\n",
       "      <td>False</td>\n",
       "      <td>False</td>\n",
       "      <td>False</td>\n",
       "      <td>False</td>\n",
       "      <td>False</td>\n",
       "      <td>False</td>\n",
       "      <td>True</td>\n",
       "      <td>False</td>\n",
       "      <td>False</td>\n",
       "      <td>False</td>\n",
       "    </tr>\n",
       "    <tr>\n",
       "      <th>2</th>\n",
       "      <td>0.019802</td>\n",
       "      <td>1.000000</td>\n",
       "      <td>0.218346</td>\n",
       "      <td>0.036101</td>\n",
       "      <td>0.0</td>\n",
       "      <td>0.0</td>\n",
       "      <td>0.276712</td>\n",
       "      <td>0</td>\n",
       "      <td>False</td>\n",
       "      <td>False</td>\n",
       "      <td>False</td>\n",
       "      <td>False</td>\n",
       "      <td>False</td>\n",
       "      <td>False</td>\n",
       "      <td>True</td>\n",
       "      <td>False</td>\n",
       "      <td>False</td>\n",
       "      <td>False</td>\n",
       "    </tr>\n",
       "    <tr>\n",
       "      <th>3</th>\n",
       "      <td>0.910891</td>\n",
       "      <td>1.000000</td>\n",
       "      <td>0.623679</td>\n",
       "      <td>0.036101</td>\n",
       "      <td>0.0</td>\n",
       "      <td>0.0</td>\n",
       "      <td>0.400000</td>\n",
       "      <td>0</td>\n",
       "      <td>False</td>\n",
       "      <td>True</td>\n",
       "      <td>False</td>\n",
       "      <td>False</td>\n",
       "      <td>False</td>\n",
       "      <td>False</td>\n",
       "      <td>False</td>\n",
       "      <td>False</td>\n",
       "      <td>False</td>\n",
       "      <td>False</td>\n",
       "    </tr>\n",
       "    <tr>\n",
       "      <th>4</th>\n",
       "      <td>0.217822</td>\n",
       "      <td>0.825000</td>\n",
       "      <td>0.734362</td>\n",
       "      <td>0.216606</td>\n",
       "      <td>0.0</td>\n",
       "      <td>0.0</td>\n",
       "      <td>0.339726</td>\n",
       "      <td>0</td>\n",
       "      <td>False</td>\n",
       "      <td>False</td>\n",
       "      <td>False</td>\n",
       "      <td>False</td>\n",
       "      <td>False</td>\n",
       "      <td>False</td>\n",
       "      <td>True</td>\n",
       "      <td>False</td>\n",
       "      <td>False</td>\n",
       "      <td>False</td>\n",
       "    </tr>\n",
       "    <tr>\n",
       "      <th>...</th>\n",
       "      <td>...</td>\n",
       "      <td>...</td>\n",
       "      <td>...</td>\n",
       "      <td>...</td>\n",
       "      <td>...</td>\n",
       "      <td>...</td>\n",
       "      <td>...</td>\n",
       "      <td>...</td>\n",
       "      <td>...</td>\n",
       "      <td>...</td>\n",
       "      <td>...</td>\n",
       "      <td>...</td>\n",
       "      <td>...</td>\n",
       "      <td>...</td>\n",
       "      <td>...</td>\n",
       "      <td>...</td>\n",
       "      <td>...</td>\n",
       "      <td>...</td>\n",
       "    </tr>\n",
       "    <tr>\n",
       "      <th>12385165</th>\n",
       "      <td>0.049505</td>\n",
       "      <td>0.060714</td>\n",
       "      <td>0.179272</td>\n",
       "      <td>0.036823</td>\n",
       "      <td>0.0</td>\n",
       "      <td>0.0</td>\n",
       "      <td>0.041096</td>\n",
       "      <td>0</td>\n",
       "      <td>False</td>\n",
       "      <td>False</td>\n",
       "      <td>False</td>\n",
       "      <td>False</td>\n",
       "      <td>False</td>\n",
       "      <td>False</td>\n",
       "      <td>True</td>\n",
       "      <td>False</td>\n",
       "      <td>False</td>\n",
       "      <td>False</td>\n",
       "    </tr>\n",
       "    <tr>\n",
       "      <th>12385166</th>\n",
       "      <td>0.009901</td>\n",
       "      <td>0.039286</td>\n",
       "      <td>0.245179</td>\n",
       "      <td>0.036101</td>\n",
       "      <td>0.0</td>\n",
       "      <td>0.0</td>\n",
       "      <td>0.024658</td>\n",
       "      <td>0</td>\n",
       "      <td>False</td>\n",
       "      <td>True</td>\n",
       "      <td>False</td>\n",
       "      <td>False</td>\n",
       "      <td>False</td>\n",
       "      <td>False</td>\n",
       "      <td>False</td>\n",
       "      <td>False</td>\n",
       "      <td>False</td>\n",
       "      <td>False</td>\n",
       "    </tr>\n",
       "    <tr>\n",
       "      <th>12385167</th>\n",
       "      <td>0.188119</td>\n",
       "      <td>1.000000</td>\n",
       "      <td>1.000000</td>\n",
       "      <td>0.009747</td>\n",
       "      <td>0.0</td>\n",
       "      <td>0.0</td>\n",
       "      <td>0.000000</td>\n",
       "      <td>0</td>\n",
       "      <td>False</td>\n",
       "      <td>True</td>\n",
       "      <td>False</td>\n",
       "      <td>False</td>\n",
       "      <td>False</td>\n",
       "      <td>False</td>\n",
       "      <td>False</td>\n",
       "      <td>False</td>\n",
       "      <td>False</td>\n",
       "      <td>False</td>\n",
       "    </tr>\n",
       "    <tr>\n",
       "      <th>12385168</th>\n",
       "      <td>0.089109</td>\n",
       "      <td>1.000000</td>\n",
       "      <td>0.991112</td>\n",
       "      <td>0.234657</td>\n",
       "      <td>0.0</td>\n",
       "      <td>0.0</td>\n",
       "      <td>0.041096</td>\n",
       "      <td>0</td>\n",
       "      <td>False</td>\n",
       "      <td>True</td>\n",
       "      <td>False</td>\n",
       "      <td>False</td>\n",
       "      <td>False</td>\n",
       "      <td>False</td>\n",
       "      <td>False</td>\n",
       "      <td>False</td>\n",
       "      <td>False</td>\n",
       "      <td>False</td>\n",
       "    </tr>\n",
       "    <tr>\n",
       "      <th>12385169</th>\n",
       "      <td>0.009901</td>\n",
       "      <td>0.194643</td>\n",
       "      <td>0.235452</td>\n",
       "      <td>0.012635</td>\n",
       "      <td>0.0</td>\n",
       "      <td>0.0</td>\n",
       "      <td>0.000000</td>\n",
       "      <td>0</td>\n",
       "      <td>False</td>\n",
       "      <td>True</td>\n",
       "      <td>False</td>\n",
       "      <td>False</td>\n",
       "      <td>False</td>\n",
       "      <td>False</td>\n",
       "      <td>False</td>\n",
       "      <td>False</td>\n",
       "      <td>False</td>\n",
       "      <td>False</td>\n",
       "    </tr>\n",
       "  </tbody>\n",
       "</table>\n",
       "<p>12385170 rows × 18 columns</p>\n",
       "</div>"
      ],
      "text/plain": [
       "          01_receiver_transaction_count  01_sender_sending_days  \\\n",
       "0                              0.049505                1.000000   \n",
       "1                              0.584158                1.000000   \n",
       "2                              0.019802                1.000000   \n",
       "3                              0.910891                1.000000   \n",
       "4                              0.217822                0.825000   \n",
       "...                                 ...                     ...   \n",
       "12385165                       0.049505                0.060714   \n",
       "12385166                       0.009901                0.039286   \n",
       "12385167                       0.188119                1.000000   \n",
       "12385168                       0.089109                1.000000   \n",
       "12385169                       0.009901                0.194643   \n",
       "\n",
       "          01_branch_working_days  01_net_amount_receiver  \\\n",
       "0                       0.460842                0.180505   \n",
       "1                       0.269328                0.357401   \n",
       "2                       0.218346                0.036101   \n",
       "3                       0.623679                0.036101   \n",
       "4                       0.734362                0.216606   \n",
       "...                          ...                     ...   \n",
       "12385165                0.179272                0.036823   \n",
       "12385166                0.245179                0.036101   \n",
       "12385167                1.000000                0.009747   \n",
       "12385168                0.991112                0.234657   \n",
       "12385169                0.235452                0.012635   \n",
       "\n",
       "          01_sender_minutes_since_last_transaction_2days  \\\n",
       "0                                                    0.0   \n",
       "1                                                    0.0   \n",
       "2                                                    0.0   \n",
       "3                                                    0.0   \n",
       "4                                                    0.0   \n",
       "...                                                  ...   \n",
       "12385165                                             0.0   \n",
       "12385166                                             0.0   \n",
       "12385167                                             0.0   \n",
       "12385168                                             0.0   \n",
       "12385169                                             0.0   \n",
       "\n",
       "          01_sender_minutes_since_last_transaction_1day  \\\n",
       "0                                                   0.0   \n",
       "1                                                   0.0   \n",
       "2                                                   0.0   \n",
       "3                                                   0.0   \n",
       "4                                                   0.0   \n",
       "...                                                 ...   \n",
       "12385165                                            0.0   \n",
       "12385166                                            0.0   \n",
       "12385167                                            0.0   \n",
       "12385168                                            0.0   \n",
       "12385169                                            0.0   \n",
       "\n",
       "          01_sender_days_to_last_transaction_365  \\\n",
       "0                                       0.323288   \n",
       "1                                       0.397260   \n",
       "2                                       0.276712   \n",
       "3                                       0.400000   \n",
       "4                                       0.339726   \n",
       "...                                          ...   \n",
       "12385165                                0.041096   \n",
       "12385166                                0.024658   \n",
       "12385167                                0.000000   \n",
       "12385168                                0.041096   \n",
       "12385169                                0.000000   \n",
       "\n",
       "          sender_days_to_last_transaction_more365  id_payout_A  id_payout_C  \\\n",
       "0                                               0        False        False   \n",
       "1                                               0        False        False   \n",
       "2                                               0        False        False   \n",
       "3                                               0        False         True   \n",
       "4                                               0        False        False   \n",
       "...                                           ...          ...          ...   \n",
       "12385165                                        0        False        False   \n",
       "12385166                                        0        False         True   \n",
       "12385167                                        0        False         True   \n",
       "12385168                                        0        False         True   \n",
       "12385169                                        0        False         True   \n",
       "\n",
       "          id_payout_D  id_payout_M  id_payout_N  id_payout_O  id_payout_P  \\\n",
       "0               False        False        False        False         True   \n",
       "1               False        False        False        False         True   \n",
       "2               False        False        False        False         True   \n",
       "3               False        False        False        False        False   \n",
       "4               False        False        False        False         True   \n",
       "...               ...          ...          ...          ...          ...   \n",
       "12385165        False        False        False        False         True   \n",
       "12385166        False        False        False        False        False   \n",
       "12385167        False        False        False        False        False   \n",
       "12385168        False        False        False        False        False   \n",
       "12385169        False        False        False        False        False   \n",
       "\n",
       "          id_payout_S  id_payout_T  id_payout_X  \n",
       "0               False        False        False  \n",
       "1               False        False        False  \n",
       "2               False        False        False  \n",
       "3               False        False        False  \n",
       "4               False        False        False  \n",
       "...               ...          ...          ...  \n",
       "12385165        False        False        False  \n",
       "12385166        False        False        False  \n",
       "12385167        False        False        False  \n",
       "12385168        False        False        False  \n",
       "12385169        False        False        False  \n",
       "\n",
       "[12385170 rows x 18 columns]"
      ]
     },
     "execution_count": 238,
     "metadata": {},
     "output_type": "execute_result"
    }
   ],
   "source": [
    "X_TESTEO"
   ]
  },
  {
   "cell_type": "code",
   "execution_count": 239,
   "metadata": {
    "application/vnd.databricks.v1+cell": {
     "cellMetadata": {
      "byteLimit": 2048000,
      "rowLimit": 10000
     },
     "inputWidgets": {},
     "nuid": "72208179-c108-43d3-b300-69ffbdf680c3",
     "showTitle": false,
     "title": ""
    }
   },
   "outputs": [],
   "source": [
    "\n",
    "# Extrayendo la columna 'target' del DataFrame 'testeo' y creando un nuevo DataFrame 'Y_TESTEO'\n",
    "Y_TESTEO = testeo[['target']]\n",
    "\n",
    "# Prediciendo la variable objetivo para el conjunto de datos de prueba 'X_TESTEO' utilizando el clasificador LightGBM\n",
    "testeo_data_pred_rf = lgb_classifier.predict(X_TESTEO)\n",
    "\n",
    "# Prediciendo las probabilidades de clase para cada observación en 'X_TESTEO' utilizando el clasificador LightGBM\n",
    "probab_rf = lgb_classifier.predict_proba(X_TESTEO)\n",
    "\n",
    "# Eliminando la primera columna (se asume que son las probabilidades de la clase negativa) de las probabilidades predichas\n",
    "# Se asume que la segunda columna contiene las probabilidades para la clase positiva\n",
    "score_rf = np.delete(probab_rf, np.s_[0], axis=1)\n"
   ]
  },
  {
   "cell_type": "code",
   "execution_count": 240,
   "metadata": {
    "application/vnd.databricks.v1+cell": {
     "cellMetadata": {
      "byteLimit": 2048000,
      "rowLimit": 10000
     },
     "inputWidgets": {},
     "nuid": "9b5268e2-53ec-4de6-b411-6a2bfbbf737d",
     "showTitle": false,
     "title": ""
    }
   },
   "outputs": [],
   "source": [
    "# Creando una copia del DataFrame 'Y_TESTEO' para preservar los datos originales\n",
    "Y_TESTEO_c = Y_TESTEO.copy()\n",
    "\n",
    "# Agregando una nueva columna 'preds_rf' al DataFrame copiado con las predicciones del clasificador LightGBM\n",
    "Y_TESTEO_c['preds_rf'] = testeo_data_pred_rf\n",
    "\n",
    "# Agregando una nueva columna 'score_rf' al DataFrame copiado con las probabilidades de la clase positiva\n",
    "Y_TESTEO_c['score_rf'] = score_rf"
   ]
  },
  {
   "cell_type": "code",
   "execution_count": 241,
   "metadata": {},
   "outputs": [
    {
     "name": "stdout",
     "output_type": "stream",
     "text": [
      "FRAUD CAPTURA 30%:\n",
      "0.9685863874345549\n"
     ]
    }
   ],
   "source": [
    "# Dividir las predicciones en deciles y calcular la captura del 30% en el conjunto de entrenamiento\n",
    "percentiles = pd.qcut(Y_TESTEO_c['score_rf'], q=10, duplicates='drop').astype(str)\n",
    "percentile_label = {p: l for l, p in enumerate(sorted(percentiles.unique(), reverse=True), start=1)}\n",
    "percentiles = percentiles.map(percentile_label)\n",
    "Y_TESTEO_c['FRAUD_DECILE'] = np.nan\n",
    "Y_TESTEO_c['FRAUD_DECILE'] = Y_TESTEO_c['FRAUD_DECILE'].astype('Int32')\n",
    "Y_TESTEO_c['FRAUD_DECILE'] = percentiles\n",
    "print('FRAUD CAPTURA 30%:')\n",
    "print(sum(Y_TESTEO_c[Y_TESTEO_c['FRAUD_DECILE'] < 4]['target']) / sum(Y_TESTEO_c['target']))\n",
    "#Y_TESTEO_c.to_csv(r'./SCORES/primera_prueba.csv')"
   ]
  },
  {
   "cell_type": "code",
   "execution_count": 242,
   "metadata": {
    "application/vnd.databricks.v1+cell": {
     "cellMetadata": {
      "byteLimit": 2048000,
      "rowLimit": 10000
     },
     "inputWidgets": {},
     "nuid": "5e384a20-995d-454d-a88c-8d7acca12cca",
     "showTitle": false,
     "title": ""
    }
   },
   "outputs": [],
   "source": [
    "DECILES = pd.crosstab(Y_TESTEO_c['FRAUD_DECILE'], Y_TESTEO_c['target'])"
   ]
  },
  {
   "cell_type": "code",
   "execution_count": 243,
   "metadata": {
    "application/vnd.databricks.v1+cell": {
     "cellMetadata": {
      "byteLimit": 2048000,
      "rowLimit": 10000
     },
     "inputWidgets": {},
     "nuid": "6a22fdbf-71db-47c3-86e7-dcfea4708f07",
     "showTitle": false,
     "title": ""
    }
   },
   "outputs": [
    {
     "data": {
      "text/html": [
       "<div>\n",
       "<style scoped>\n",
       "    .dataframe tbody tr th:only-of-type {\n",
       "        vertical-align: middle;\n",
       "    }\n",
       "\n",
       "    .dataframe tbody tr th {\n",
       "        vertical-align: top;\n",
       "    }\n",
       "\n",
       "    .dataframe thead th {\n",
       "        text-align: right;\n",
       "    }\n",
       "</style>\n",
       "<table border=\"1\" class=\"dataframe\">\n",
       "  <thead>\n",
       "    <tr style=\"text-align: right;\">\n",
       "      <th>target</th>\n",
       "      <th>False</th>\n",
       "      <th>True</th>\n",
       "    </tr>\n",
       "    <tr>\n",
       "      <th>FRAUD_DECILE</th>\n",
       "      <th></th>\n",
       "      <th></th>\n",
       "    </tr>\n",
       "  </thead>\n",
       "  <tbody>\n",
       "    <tr>\n",
       "      <th>1</th>\n",
       "      <td>1047873</td>\n",
       "      <td>173</td>\n",
       "    </tr>\n",
       "    <tr>\n",
       "      <th>2</th>\n",
       "      <td>1160677</td>\n",
       "      <td>10</td>\n",
       "    </tr>\n",
       "    <tr>\n",
       "      <th>3</th>\n",
       "      <td>1415270</td>\n",
       "      <td>2</td>\n",
       "    </tr>\n",
       "    <tr>\n",
       "      <th>4</th>\n",
       "      <td>886146</td>\n",
       "      <td>0</td>\n",
       "    </tr>\n",
       "    <tr>\n",
       "      <th>5</th>\n",
       "      <td>958844</td>\n",
       "      <td>1</td>\n",
       "    </tr>\n",
       "    <tr>\n",
       "      <th>6</th>\n",
       "      <td>1559438</td>\n",
       "      <td>3</td>\n",
       "    </tr>\n",
       "    <tr>\n",
       "      <th>7</th>\n",
       "      <td>884502</td>\n",
       "      <td>1</td>\n",
       "    </tr>\n",
       "    <tr>\n",
       "      <th>8</th>\n",
       "      <td>4472229</td>\n",
       "      <td>1</td>\n",
       "    </tr>\n",
       "  </tbody>\n",
       "</table>\n",
       "</div>"
      ],
      "text/plain": [
       "target          False  True \n",
       "FRAUD_DECILE                \n",
       "1             1047873    173\n",
       "2             1160677     10\n",
       "3             1415270      2\n",
       "4              886146      0\n",
       "5              958844      1\n",
       "6             1559438      3\n",
       "7              884502      1\n",
       "8             4472229      1"
      ]
     },
     "execution_count": 243,
     "metadata": {},
     "output_type": "execute_result"
    }
   ],
   "source": [
    "DECILES"
   ]
  },
  {
   "cell_type": "code",
   "execution_count": 244,
   "metadata": {
    "application/vnd.databricks.v1+cell": {
     "cellMetadata": {
      "byteLimit": 2048000,
      "rowLimit": 10000
     },
     "inputWidgets": {},
     "nuid": "a0acf01d-13b6-4a07-9fb1-93c341c272bc",
     "showTitle": false,
     "title": ""
    }
   },
   "outputs": [
    {
     "data": {
      "text/plain": [
       "array([<Axes: title={'center': 'False'}, xlabel='FRAUD_DECILE'>,\n",
       "       <Axes: title={'center': 'True'}, xlabel='FRAUD_DECILE'>],\n",
       "      dtype=object)"
      ]
     },
     "execution_count": 244,
     "metadata": {},
     "output_type": "execute_result"
    },
    {
     "data": {
      "image/png": "[encoded data removed]",
      "text/plain": [
       "<Figure size 640x480 with 2 Axes>"
      ]
     },
     "metadata": {},
     "output_type": "display_data"
    }
   ],
   "source": [
    "DECILES.plot.bar(stacked=False, rot=0,subplots=True)"
   ]
  },
  {
   "cell_type": "code",
   "execution_count": 245,
   "metadata": {
    "application/vnd.databricks.v1+cell": {
     "cellMetadata": {
      "byteLimit": 2048000,
      "rowLimit": 10000
     },
     "inputWidgets": {},
     "nuid": "54a0c0f2-120c-47e0-9447-85aeb5b4de2d",
     "showTitle": false,
     "title": ""
    }
   },
   "outputs": [],
   "source": [
    "# Calcular la curva de ganancia acumulativa y el LIFT del modelo en el conjunto de entrenamiento\n",
    "#classes = np.unique(Y_TESTEO_c[['target']])\n",
    "#percentages, gains = cumulative_gain_curve(Y_TESTEO_c[['target']], Y_TESTEO_c['score_rf'], classes[1])\n",
    "#percentages = percentages[1:]\n",
    "#gains = gains[1:]\n",
    "#gains = gains / percentages\n",
    "#indice = round(len(gains) * 0.1)\n",
    "#print('LIFT INV CHURN TESTEO:')\n",
    "#print(gains[indice])\n",
    "\n",
    "# Calcular el área bajo la curva ROC del modelo en el conjunto de entrenamiento\n",
    "#print('ROC INV CHURN TESTEO:')\n",
    "#print(roc_auc_score(Y_TESTEO_c[['target']], Y_TESTEO_c['preds_rf']))\n",
    "\n",
    "# Calcular la estadística KS del modelo en el conjunto de entrenamiento\n",
    "#thresholds, pct1, pct2, ks_statistic, max_distance_at, classes = binary_ks_curve(Y_TESTEO_c[['target']], Y_TESTEO_c['score_rf'].ravel())\n",
    "#print('KS INV CHURN TESTEO:')\n",
    "#print(ks_statistic)\n",
    "\n",
    "# Calcular la precisión y el recall del modelo en el conjunto de entrenamiento\n",
    "#precision = precision_score(Y_TESTEO_c[['target']], Y_TESTEO_c['preds_rf'])\n",
    "#recall = recall_score(Y_TESTEO_c[['target']], Y_TESTEO_c['preds_rf'])\n",
    "#print('Precision INV CHURN TESTEO:')\n",
    "#print(precision)\n",
    "#print('Recall INV CHURN TESTEO:')\n",
    "#print(recall)\n"
   ]
  },
  {
   "cell_type": "code",
   "execution_count": 246,
   "metadata": {
    "application/vnd.databricks.v1+cell": {
     "cellMetadata": {
      "byteLimit": 2048000,
      "rowLimit": 10000
     },
     "inputWidgets": {},
     "nuid": "b1f8cea5-bbb6-4676-81f0-8ed2e7a9333d",
     "showTitle": false,
     "title": ""
    }
   },
   "outputs": [],
   "source": [
    "# Guardando las importancias de las características (feature importance) en un archivo de texto\n",
    "# La importancia se mide en términos de ganancia ('gain') según el clasificador LightGBM\n",
    "# Se utiliza la función 'np.savetxt' para escribir en un archivo de texto\n",
    "# El archivo se guarda en la ruta './SCORES/importance_1.txt'\n",
    "# Se utiliza 'lgb_classifier.booster_.feature_importance' para obtener las importancias de las características\n",
    "# Se especifica el formato de los datos en el archivo como números de punto flotante ('%f')\n",
    "\n",
    "#np.savetxt('./SCORES/importance_78.txt', lgb_classifier.booster_.feature_importance(importance_type='gain'),fmt='%f')"
   ]
  },
  {
   "cell_type": "markdown",
   "metadata": {},
   "source": [
    "## Guardo el modelo"
   ]
  },
  {
   "cell_type": "code",
   "execution_count": 247,
   "metadata": {
    "tags": []
   },
   "outputs": [],
   "source": [
    "#import joblib\n",
    "# save model\n",
    "#joblib.dump(lgb_classifier, 'ModeloV1T2.pkl')\n",
    "# load model\n",
    "#gbm_pickle = joblib.load('lgb.pkl')\n"
   ]
  },
  {
   "cell_type": "markdown",
   "metadata": {
    "application/vnd.databricks.v1+cell": {
     "cellMetadata": {
      "byteLimit": 2048000,
      "rowLimit": 10000
     },
     "inputWidgets": {},
     "nuid": "1d562291-b328-449f-886a-c1a2fdda3e2d",
     "showTitle": false,
     "title": ""
    }
   },
   "source": [
    "##TESTEAR TODA LA BASE (sin restricciones de tenure)"
   ]
  },
  {
   "cell_type": "code",
   "execution_count": 248,
   "metadata": {
    "application/vnd.databricks.v1+cell": {
     "cellMetadata": {
      "byteLimit": 2048000,
      "rowLimit": 10000
     },
     "inputWidgets": {},
     "nuid": "2cac4510-6199-471b-97b1-1081bb4a25c3",
     "showTitle": false,
     "title": ""
    }
   },
   "outputs": [],
   "source": [
    "s3_url = f\"viamericas-datalake-dev-us-east-1-283731589572-raw/FraudModel/Train\"\n",
    "    \n",
    "tes1 = pd.read_parquet(f\"s3://{s3_url}/Preproc_Fr_202301.parquet\")\n",
    "tes2 = pd.read_parquet(f\"s3://{s3_url}/Preproc_Fr_202302.parquet\")\n",
    "tes3 = pd.read_parquet(f\"s3://{s3_url}/Preproc_Fr_202303.parquet\")\n",
    "tes4 = pd.read_parquet(f\"s3://{s3_url}/Preproc_Fr_202304.parquet\")\n",
    "tes5 = pd.read_parquet(f\"s3://{s3_url}/Preproc_Fr_202305.parquet\")\n",
    "tes6 = pd.read_parquet(f\"s3://{s3_url}/Preproc_Fr_202306.parquet\")\n",
    "tes7 = pd.read_parquet(f\"s3://{s3_url}/Preproc_Fr_202307.parquet\")\n",
    "tes11 = pd.read_parquet(f\"s3://{s3_url}/Preproc_Fr_202211.parquet\")\n",
    "tes12 = pd.read_parquet(f\"s3://{s3_url}/Preproc_Fr_202212.parquet\")\n"
   ]
  },
  {
   "cell_type": "code",
   "execution_count": 249,
   "metadata": {
    "application/vnd.databricks.v1+cell": {
     "cellMetadata": {
      "byteLimit": 2048000,
      "rowLimit": 10000
     },
     "inputWidgets": {},
     "nuid": "24ef412c-dec1-4dad-aad5-f467792e59ad",
     "showTitle": false,
     "title": ""
    }
   },
   "outputs": [],
   "source": [
    "## unir las cuatro cosechas\n",
    "\n",
    "tes = pd.concat([tes1, tes2, tes3, tes4, tes5, tes6, tes7, tes11, tes12], ignore_index=True)"
   ]
  },
  {
   "cell_type": "code",
   "execution_count": 250,
   "metadata": {
    "tags": []
   },
   "outputs": [],
   "source": [
    "tg = tes[['target_fraudes']]"
   ]
  },
  {
   "cell_type": "code",
   "execution_count": 251,
   "metadata": {
    "application/vnd.databricks.v1+cell": {
     "cellMetadata": {
      "byteLimit": 2048000,
      "rowLimit": 10000
     },
     "inputWidgets": {},
     "nuid": "c71354a6-11c6-49c6-938b-b25f50160330",
     "showTitle": false,
     "title": ""
    }
   },
   "outputs": [
    {
     "data": {
      "text/plain": [
       "target_fraudes\n",
       "False    18743235\n",
       "True          604\n",
       "Name: count, dtype: int64"
      ]
     },
     "execution_count": 251,
     "metadata": {},
     "output_type": "execute_result"
    }
   ],
   "source": [
    "tg['target_fraudes'].value_counts(dropna=False)"
   ]
  },
  {
   "cell_type": "code",
   "execution_count": 252,
   "metadata": {
    "application/vnd.databricks.v1+cell": {
     "cellMetadata": {
      "byteLimit": 2048000,
      "rowLimit": 10000
     },
     "inputWidgets": {},
     "nuid": "5ba5627c-d7e2-41ac-a013-7c2024c84950",
     "showTitle": false,
     "title": ""
    }
   },
   "outputs": [],
   "source": [
    "##lista de variables de input\n",
    "X = tes[var_input]\n",
    "Y = tes[['target_fraudes']] \n",
    "testeo_f = tes"
   ]
  },
  {
   "cell_type": "code",
   "execution_count": 253,
   "metadata": {
    "application/vnd.databricks.v1+cell": {
     "cellMetadata": {
      "byteLimit": 2048000,
      "rowLimit": 10000
     },
     "inputWidgets": {},
     "nuid": "3dc69b00-3988-4e2a-9e55-b841a24880fb",
     "showTitle": false,
     "title": ""
    }
   },
   "outputs": [],
   "source": [
    "def limpiar_nombres_columnas(dataframe):\n",
    "    \"\"\"\n",
    "    Limpia y estandariza los nombres de las columnas en un DataFrame.\n",
    "\n",
    "    Parameters:\n",
    "    - dataframe: DataFrame de pandas.\n",
    "\n",
    "    Returns:\n",
    "    - DataFrame con nombres de columnas limpios.\n",
    "    \"\"\"\n",
    "    dataframe = dataframe.rename(columns=lambda x: re.sub('[^A-Za-z0-9_]+', '', x))\n",
    "    return dataframe\n",
    "    \n",
    "testeo_f = limpiar_nombres_columnas(testeo_f)"
   ]
  },
  {
   "cell_type": "code",
   "execution_count": 254,
   "metadata": {
    "application/vnd.databricks.v1+cell": {
     "cellMetadata": {
      "byteLimit": 2048000,
      "rowLimit": 10000
     },
     "inputWidgets": {},
     "nuid": "fa059faf-cded-4ebb-85c3-196722a8697a",
     "showTitle": false,
     "title": ""
    }
   },
   "outputs": [
    {
     "name": "stdout",
     "output_type": "stream",
     "text": [
      "Dataset Length:  18743839\n",
      "Dataset Shape:  (18743839, 31)\n"
     ]
    }
   ],
   "source": [
    "testeo_f = testeo_f\n",
    "\n",
    "print (\"Dataset Length: \", len(testeo_f)) \n",
    "print (\"Dataset Shape: \", testeo_f.shape)"
   ]
  },
  {
   "cell_type": "code",
   "execution_count": 255,
   "metadata": {
    "application/vnd.databricks.v1+cell": {
     "cellMetadata": {
      "byteLimit": 2048000,
      "rowLimit": 10000
     },
     "inputWidgets": {},
     "nuid": "014cf86b-9d2a-4607-b344-fce85143ddfb",
     "showTitle": false,
     "title": ""
    }
   },
   "outputs": [
    {
     "data": {
      "text/plain": [
       "target_fraudes\n",
       "False    18743235\n",
       "True          604\n",
       "Name: count, dtype: int64"
      ]
     },
     "execution_count": 255,
     "metadata": {},
     "output_type": "execute_result"
    }
   ],
   "source": [
    "testeo_f['target_fraudes'].value_counts(dropna=False)"
   ]
  },
  {
   "cell_type": "code",
   "execution_count": 256,
   "metadata": {
    "application/vnd.databricks.v1+cell": {
     "cellMetadata": {
      "byteLimit": 2048000,
      "rowLimit": 10000
     },
     "inputWidgets": {},
     "nuid": "5caa3b71-ebb9-4f06-9c4a-f12dee6fac63",
     "showTitle": false,
     "title": ""
    }
   },
   "outputs": [],
   "source": [
    "X_TESTEO_f = X"
   ]
  },
  {
   "cell_type": "code",
   "execution_count": 257,
   "metadata": {
    "application/vnd.databricks.v1+cell": {
     "cellMetadata": {
      "byteLimit": 2048000,
      "rowLimit": 10000
     },
     "inputWidgets": {},
     "nuid": "2b4408b6-b6e8-4bcb-8604-d66dc468d8cc",
     "showTitle": false,
     "title": ""
    }
   },
   "outputs": [],
   "source": [
    "\n",
    "# Extrayendo la columna 'target' del DataFrame 'testeo' y creando un nuevo DataFrame 'Y_TESTEO'\n",
    "Y_TESTEO_f = testeo_f[['target_fraudes']]\n",
    "\n",
    "# Prediciendo la variable objetivo para el conjunto de datos de prueba 'X_TESTEO' utilizando el clasificador LightGBM\n",
    "testeo_data_pred_rf = lgb_classifier.predict(X_TESTEO_f)\n",
    "\n",
    "# Prediciendo las probabilidades de clase para cada observación en 'X_TESTEO' utilizando el clasificador LightGBM\n",
    "probab_rf = lgb_classifier.predict_proba(X_TESTEO_f)\n",
    "\n",
    "# Eliminando la primera columna (se asume que son las probabilidades de la clase negativa) de las probabilidades predichas\n",
    "# Se asume que la segunda columna contiene las probabilidades para la clase positiva\n",
    "score_rf = np.delete(probab_rf, np.s_[0], axis=1)\n"
   ]
  },
  {
   "cell_type": "code",
   "execution_count": 258,
   "metadata": {
    "application/vnd.databricks.v1+cell": {
     "cellMetadata": {
      "byteLimit": 2048000,
      "rowLimit": 10000
     },
     "inputWidgets": {},
     "nuid": "de1f9ea9-b9ee-4657-9c97-0f6b6f2597a9",
     "showTitle": false,
     "title": ""
    }
   },
   "outputs": [],
   "source": [
    "# Creando una copia del DataFrame 'Y_TESTEO' para preservar los datos originales\n",
    "Y_TESTEO_c = Y_TESTEO_f.copy()\n",
    "\n",
    "# Agregando una nueva columna 'preds_rf' al DataFrame copiado con las predicciones del clasificador LightGBM\n",
    "Y_TESTEO_c['preds_rf'] = testeo_data_pred_rf\n",
    "\n",
    "# Agregando una nueva columna 'score_rf' al DataFrame copiado con las probabilidades de la clase positiva\n",
    "Y_TESTEO_c['score_rf'] = score_rf"
   ]
  },
  {
   "cell_type": "code",
   "execution_count": 259,
   "metadata": {
    "tags": []
   },
   "outputs": [
    {
     "name": "stdout",
     "output_type": "stream",
     "text": [
      "FRAUD CAPTURA 30%:\n",
      "0.8609271523178808\n"
     ]
    }
   ],
   "source": [
    "# Dividir las predicciones en deciles y calcular la captura del 30% en el conjunto de entrenamiento\n",
    "percentiles = pd.qcut(Y_TESTEO_c['score_rf'], q=10, duplicates='drop').astype(str)\n",
    "percentile_label = {p: l for l, p in enumerate(sorted(percentiles.unique(), reverse=True), start=1)}\n",
    "percentiles = percentiles.map(percentile_label)\n",
    "Y_TESTEO_c['FRAUD_DECILE'] = np.nan\n",
    "Y_TESTEO_c['FRAUD_DECILE'] = Y_TESTEO_c['FRAUD_DECILE'].astype('Int32')\n",
    "Y_TESTEO_c['FRAUD_DECILE'] = percentiles\n",
    "print('FRAUD CAPTURA 30%:')\n",
    "print(sum(Y_TESTEO_c[Y_TESTEO_c['FRAUD_DECILE'] < 4]['target_fraudes']) / sum(Y_TESTEO_c['target_fraudes']))\n",
    "#Y_TESTEO_c.to_csv(r'./SCORES/primera_prueba.csv')"
   ]
  },
  {
   "cell_type": "code",
   "execution_count": 260,
   "metadata": {
    "application/vnd.databricks.v1+cell": {
     "cellMetadata": {
      "byteLimit": 2048000,
      "rowLimit": 10000
     },
     "inputWidgets": {},
     "nuid": "bc3c7d0d-4795-4b19-adab-2bf54e6a2646",
     "showTitle": false,
     "title": ""
    }
   },
   "outputs": [],
   "source": [
    "DECILES = pd.crosstab(Y_TESTEO_c['FRAUD_DECILE'], Y_TESTEO_c['target_fraudes'])"
   ]
  },
  {
   "cell_type": "code",
   "execution_count": 261,
   "metadata": {
    "application/vnd.databricks.v1+cell": {
     "cellMetadata": {
      "byteLimit": 2048000,
      "rowLimit": 10000
     },
     "inputWidgets": {},
     "nuid": "154fc078-d694-4310-8bcb-1f776c821a63",
     "showTitle": false,
     "title": ""
    }
   },
   "outputs": [
    {
     "data": {
      "text/html": [
       "<div>\n",
       "<style scoped>\n",
       "    .dataframe tbody tr th:only-of-type {\n",
       "        vertical-align: middle;\n",
       "    }\n",
       "\n",
       "    .dataframe tbody tr th {\n",
       "        vertical-align: top;\n",
       "    }\n",
       "\n",
       "    .dataframe thead th {\n",
       "        text-align: right;\n",
       "    }\n",
       "</style>\n",
       "<table border=\"1\" class=\"dataframe\">\n",
       "  <thead>\n",
       "    <tr style=\"text-align: right;\">\n",
       "      <th>target_fraudes</th>\n",
       "      <th>False</th>\n",
       "      <th>True</th>\n",
       "    </tr>\n",
       "    <tr>\n",
       "      <th>FRAUD_DECILE</th>\n",
       "      <th></th>\n",
       "      <th></th>\n",
       "    </tr>\n",
       "  </thead>\n",
       "  <tbody>\n",
       "    <tr>\n",
       "      <th>1</th>\n",
       "      <td>1830893</td>\n",
       "      <td>459</td>\n",
       "    </tr>\n",
       "    <tr>\n",
       "      <th>2</th>\n",
       "      <td>1850957</td>\n",
       "      <td>57</td>\n",
       "    </tr>\n",
       "    <tr>\n",
       "      <th>3</th>\n",
       "      <td>1401313</td>\n",
       "      <td>4</td>\n",
       "    </tr>\n",
       "    <tr>\n",
       "      <th>4</th>\n",
       "      <td>1580311</td>\n",
       "      <td>3</td>\n",
       "    </tr>\n",
       "    <tr>\n",
       "      <th>5</th>\n",
       "      <td>3555709</td>\n",
       "      <td>8</td>\n",
       "    </tr>\n",
       "    <tr>\n",
       "      <th>6</th>\n",
       "      <td>1143950</td>\n",
       "      <td>26</td>\n",
       "    </tr>\n",
       "    <tr>\n",
       "      <th>7</th>\n",
       "      <td>7380102</td>\n",
       "      <td>47</td>\n",
       "    </tr>\n",
       "  </tbody>\n",
       "</table>\n",
       "</div>"
      ],
      "text/plain": [
       "target_fraudes    False  True \n",
       "FRAUD_DECILE                  \n",
       "1               1830893    459\n",
       "2               1850957     57\n",
       "3               1401313      4\n",
       "4               1580311      3\n",
       "5               3555709      8\n",
       "6               1143950     26\n",
       "7               7380102     47"
      ]
     },
     "execution_count": 261,
     "metadata": {},
     "output_type": "execute_result"
    }
   ],
   "source": [
    "DECILES"
   ]
  },
  {
   "cell_type": "code",
   "execution_count": 262,
   "metadata": {
    "application/vnd.databricks.v1+cell": {
     "cellMetadata": {
      "byteLimit": 2048000,
      "rowLimit": 10000
     },
     "inputWidgets": {},
     "nuid": "770a00a6-4d80-439a-8bb0-3a1ac2bc6b1e",
     "showTitle": false,
     "title": ""
    }
   },
   "outputs": [
    {
     "data": {
      "text/plain": [
       "array([<Axes: title={'center': 'False'}, xlabel='FRAUD_DECILE'>,\n",
       "       <Axes: title={'center': 'True'}, xlabel='FRAUD_DECILE'>],\n",
       "      dtype=object)"
      ]
     },
     "execution_count": 262,
     "metadata": {},
     "output_type": "execute_result"
    },
    {
     "data": {
      "image/png": "[encoded data removed]",
      "text/plain": [
       "<Figure size 640x480 with 2 Axes>"
      ]
     },
     "metadata": {},
     "output_type": "display_data"
    }
   ],
   "source": [
    "DECILES.plot.bar(stacked=False, rot=0,subplots=True)"
   ]
  },
  {
   "cell_type": "code",
   "execution_count": 263,
   "metadata": {
    "application/vnd.databricks.v1+cell": {
     "cellMetadata": {
      "byteLimit": 2048000,
      "rowLimit": 10000
     },
     "inputWidgets": {},
     "nuid": "146deb8d-b353-431c-b32b-c32e8cfcdd55",
     "showTitle": false,
     "title": ""
    }
   },
   "outputs": [
    {
     "data": {
      "text/html": [
       "<div>\n",
       "<style scoped>\n",
       "    .dataframe tbody tr th:only-of-type {\n",
       "        vertical-align: middle;\n",
       "    }\n",
       "\n",
       "    .dataframe tbody tr th {\n",
       "        vertical-align: top;\n",
       "    }\n",
       "\n",
       "    .dataframe thead th {\n",
       "        text-align: right;\n",
       "    }\n",
       "</style>\n",
       "<table border=\"1\" class=\"dataframe\">\n",
       "  <thead>\n",
       "    <tr style=\"text-align: right;\">\n",
       "      <th></th>\n",
       "      <th>target_fraudes</th>\n",
       "      <th>preds_rf</th>\n",
       "      <th>score_rf</th>\n",
       "      <th>FRAUD_DECILE</th>\n",
       "    </tr>\n",
       "  </thead>\n",
       "  <tbody>\n",
       "    <tr>\n",
       "      <th>0</th>\n",
       "      <td>False</td>\n",
       "      <td>False</td>\n",
       "      <td>0.000004</td>\n",
       "      <td>7</td>\n",
       "    </tr>\n",
       "    <tr>\n",
       "      <th>1</th>\n",
       "      <td>False</td>\n",
       "      <td>False</td>\n",
       "      <td>0.000004</td>\n",
       "      <td>7</td>\n",
       "    </tr>\n",
       "    <tr>\n",
       "      <th>2</th>\n",
       "      <td>False</td>\n",
       "      <td>False</td>\n",
       "      <td>0.000004</td>\n",
       "      <td>7</td>\n",
       "    </tr>\n",
       "    <tr>\n",
       "      <th>3</th>\n",
       "      <td>False</td>\n",
       "      <td>False</td>\n",
       "      <td>0.000004</td>\n",
       "      <td>5</td>\n",
       "    </tr>\n",
       "    <tr>\n",
       "      <th>4</th>\n",
       "      <td>False</td>\n",
       "      <td>False</td>\n",
       "      <td>0.000004</td>\n",
       "      <td>7</td>\n",
       "    </tr>\n",
       "  </tbody>\n",
       "</table>\n",
       "</div>"
      ],
      "text/plain": [
       "   target_fraudes  preds_rf  score_rf  FRAUD_DECILE\n",
       "0           False     False  0.000004             7\n",
       "1           False     False  0.000004             7\n",
       "2           False     False  0.000004             7\n",
       "3           False     False  0.000004             5\n",
       "4           False     False  0.000004             7"
      ]
     },
     "execution_count": 263,
     "metadata": {},
     "output_type": "execute_result"
    }
   ],
   "source": [
    "Y_TESTEO_c.head()"
   ]
  },
  {
   "cell_type": "code",
   "execution_count": 264,
   "metadata": {
    "application/vnd.databricks.v1+cell": {
     "cellMetadata": {
      "byteLimit": 2048000,
      "rowLimit": 10000
     },
     "inputWidgets": {},
     "nuid": "d074c2fd-20a4-411e-8475-11bb3b101594",
     "showTitle": false,
     "title": ""
    }
   },
   "outputs": [
    {
     "data": {
      "text/plain": [
       "target_fraudes       bool\n",
       "preds_rf             bool\n",
       "score_rf          float64\n",
       "FRAUD_DECILE        int64\n",
       "dtype: object"
      ]
     },
     "execution_count": 264,
     "metadata": {},
     "output_type": "execute_result"
    }
   ],
   "source": [
    "Y_TESTEO_c.dtypes"
   ]
  },
  {
   "cell_type": "code",
   "execution_count": 265,
   "metadata": {
    "application/vnd.databricks.v1+cell": {
     "cellMetadata": {
      "byteLimit": 2048000,
      "rowLimit": 10000
     },
     "inputWidgets": {},
     "nuid": "9fc1fe91-cb9a-4308-bd5a-23ab1b623f88",
     "showTitle": false,
     "title": ""
    }
   },
   "outputs": [
    {
     "ename": "KeyError",
     "evalue": "\"None of [Index(['target'], dtype='object')] are in the [columns]\"",
     "output_type": "error",
     "traceback": [
      "\u001b[0;31m---------------------------------------------------------------------------\u001b[0m",
      "\u001b[0;31mKeyError\u001b[0m                                  Traceback (most recent call last)",
      "Cell \u001b[0;32mIn[265], line 2\u001b[0m\n\u001b[1;32m      1\u001b[0m \u001b[38;5;66;03m# Calcular la curva de ganancia acumulativa y el LIFT del modelo en el conjunto de entrenamiento\u001b[39;00m\n\u001b[0;32m----> 2\u001b[0m classes \u001b[38;5;241m=\u001b[39m np\u001b[38;5;241m.\u001b[39munique(\u001b[43mY_TESTEO_c\u001b[49m\u001b[43m[\u001b[49m\u001b[43m[\u001b[49m\u001b[38;5;124;43m'\u001b[39;49m\u001b[38;5;124;43mtarget\u001b[39;49m\u001b[38;5;124;43m'\u001b[39;49m\u001b[43m]\u001b[49m\u001b[43m]\u001b[49m)\n\u001b[1;32m      3\u001b[0m percentages, gains \u001b[38;5;241m=\u001b[39m cumulative_gain_curve(Y_TESTEO_c[[\u001b[38;5;124m'\u001b[39m\u001b[38;5;124mtarget\u001b[39m\u001b[38;5;124m'\u001b[39m]], Y_TESTEO_c[\u001b[38;5;124m'\u001b[39m\u001b[38;5;124mscore_rf\u001b[39m\u001b[38;5;124m'\u001b[39m], classes[\u001b[38;5;241m1\u001b[39m])\n\u001b[1;32m      4\u001b[0m percentages \u001b[38;5;241m=\u001b[39m percentages[\u001b[38;5;241m1\u001b[39m:]\n",
      "File \u001b[0;32m~/anaconda3/envs/python3/lib/python3.10/site-packages/pandas/core/frame.py:4096\u001b[0m, in \u001b[0;36mDataFrame.__getitem__\u001b[0;34m(self, key)\u001b[0m\n\u001b[1;32m   4094\u001b[0m     \u001b[38;5;28;01mif\u001b[39;00m is_iterator(key):\n\u001b[1;32m   4095\u001b[0m         key \u001b[38;5;241m=\u001b[39m \u001b[38;5;28mlist\u001b[39m(key)\n\u001b[0;32m-> 4096\u001b[0m     indexer \u001b[38;5;241m=\u001b[39m \u001b[38;5;28;43mself\u001b[39;49m\u001b[38;5;241;43m.\u001b[39;49m\u001b[43mcolumns\u001b[49m\u001b[38;5;241;43m.\u001b[39;49m\u001b[43m_get_indexer_strict\u001b[49m\u001b[43m(\u001b[49m\u001b[43mkey\u001b[49m\u001b[43m,\u001b[49m\u001b[43m \u001b[49m\u001b[38;5;124;43m\"\u001b[39;49m\u001b[38;5;124;43mcolumns\u001b[39;49m\u001b[38;5;124;43m\"\u001b[39;49m\u001b[43m)\u001b[49m[\u001b[38;5;241m1\u001b[39m]\n\u001b[1;32m   4098\u001b[0m \u001b[38;5;66;03m# take() does not accept boolean indexers\u001b[39;00m\n\u001b[1;32m   4099\u001b[0m \u001b[38;5;28;01mif\u001b[39;00m \u001b[38;5;28mgetattr\u001b[39m(indexer, \u001b[38;5;124m\"\u001b[39m\u001b[38;5;124mdtype\u001b[39m\u001b[38;5;124m\"\u001b[39m, \u001b[38;5;28;01mNone\u001b[39;00m) \u001b[38;5;241m==\u001b[39m \u001b[38;5;28mbool\u001b[39m:\n",
      "File \u001b[0;32m~/anaconda3/envs/python3/lib/python3.10/site-packages/pandas/core/indexes/base.py:6200\u001b[0m, in \u001b[0;36mIndex._get_indexer_strict\u001b[0;34m(self, key, axis_name)\u001b[0m\n\u001b[1;32m   6197\u001b[0m \u001b[38;5;28;01melse\u001b[39;00m:\n\u001b[1;32m   6198\u001b[0m     keyarr, indexer, new_indexer \u001b[38;5;241m=\u001b[39m \u001b[38;5;28mself\u001b[39m\u001b[38;5;241m.\u001b[39m_reindex_non_unique(keyarr)\n\u001b[0;32m-> 6200\u001b[0m \u001b[38;5;28;43mself\u001b[39;49m\u001b[38;5;241;43m.\u001b[39;49m\u001b[43m_raise_if_missing\u001b[49m\u001b[43m(\u001b[49m\u001b[43mkeyarr\u001b[49m\u001b[43m,\u001b[49m\u001b[43m \u001b[49m\u001b[43mindexer\u001b[49m\u001b[43m,\u001b[49m\u001b[43m \u001b[49m\u001b[43maxis_name\u001b[49m\u001b[43m)\u001b[49m\n\u001b[1;32m   6202\u001b[0m keyarr \u001b[38;5;241m=\u001b[39m \u001b[38;5;28mself\u001b[39m\u001b[38;5;241m.\u001b[39mtake(indexer)\n\u001b[1;32m   6203\u001b[0m \u001b[38;5;28;01mif\u001b[39;00m \u001b[38;5;28misinstance\u001b[39m(key, Index):\n\u001b[1;32m   6204\u001b[0m     \u001b[38;5;66;03m# GH 42790 - Preserve name from an Index\u001b[39;00m\n",
      "File \u001b[0;32m~/anaconda3/envs/python3/lib/python3.10/site-packages/pandas/core/indexes/base.py:6249\u001b[0m, in \u001b[0;36mIndex._raise_if_missing\u001b[0;34m(self, key, indexer, axis_name)\u001b[0m\n\u001b[1;32m   6247\u001b[0m \u001b[38;5;28;01mif\u001b[39;00m nmissing:\n\u001b[1;32m   6248\u001b[0m     \u001b[38;5;28;01mif\u001b[39;00m nmissing \u001b[38;5;241m==\u001b[39m \u001b[38;5;28mlen\u001b[39m(indexer):\n\u001b[0;32m-> 6249\u001b[0m         \u001b[38;5;28;01mraise\u001b[39;00m \u001b[38;5;167;01mKeyError\u001b[39;00m(\u001b[38;5;124mf\u001b[39m\u001b[38;5;124m\"\u001b[39m\u001b[38;5;124mNone of [\u001b[39m\u001b[38;5;132;01m{\u001b[39;00mkey\u001b[38;5;132;01m}\u001b[39;00m\u001b[38;5;124m] are in the [\u001b[39m\u001b[38;5;132;01m{\u001b[39;00maxis_name\u001b[38;5;132;01m}\u001b[39;00m\u001b[38;5;124m]\u001b[39m\u001b[38;5;124m\"\u001b[39m)\n\u001b[1;32m   6251\u001b[0m     not_found \u001b[38;5;241m=\u001b[39m \u001b[38;5;28mlist\u001b[39m(ensure_index(key)[missing_mask\u001b[38;5;241m.\u001b[39mnonzero()[\u001b[38;5;241m0\u001b[39m]]\u001b[38;5;241m.\u001b[39munique())\n\u001b[1;32m   6252\u001b[0m     \u001b[38;5;28;01mraise\u001b[39;00m \u001b[38;5;167;01mKeyError\u001b[39;00m(\u001b[38;5;124mf\u001b[39m\u001b[38;5;124m\"\u001b[39m\u001b[38;5;132;01m{\u001b[39;00mnot_found\u001b[38;5;132;01m}\u001b[39;00m\u001b[38;5;124m not in index\u001b[39m\u001b[38;5;124m\"\u001b[39m)\n",
      "\u001b[0;31mKeyError\u001b[0m: \"None of [Index(['target'], dtype='object')] are in the [columns]\""
     ]
    }
   ],
   "source": [
    "# Calcular la curva de ganancia acumulativa y el LIFT del modelo en el conjunto de entrenamiento\n",
    "classes = np.unique(Y_TESTEO_c[['target']])\n",
    "percentages, gains = cumulative_gain_curve(Y_TESTEO_c[['target']], Y_TESTEO_c['score_rf'], classes[1])\n",
    "percentages = percentages[1:]\n",
    "gains = gains[1:]\n",
    "gains = gains / percentages\n",
    "indice = round(len(gains) * 0.1)\n",
    "print('LIFT INV CHURN TESTEO:')\n",
    "print(gains[indice])\n",
    "\n",
    "# Calcular el área bajo la curva ROC del modelo en el conjunto de entrenamiento\n",
    "print('ROC INV CHURN TESTEO:')\n",
    "print(roc_auc_score(Y_TESTEO_c[['target']], Y_TESTEO_c['preds_rf']))\n",
    "\n",
    "# Calcular la estadística KS del modelo en el conjunto de entrenamiento\n",
    "thresholds, pct1, pct2, ks_statistic, max_distance_at, classes = binary_ks_curve(Y_TESTEO_c[['target']], Y_TESTEO_c['score_rf'].ravel())\n",
    "print('KS INV CHURN TESTEO:')\n",
    "print(ks_statistic)\n",
    "\n",
    "# Calcular la precisión y el recall del modelo en el conjunto de entrenamiento\n",
    "precision = precision_score(Y_TESTEO_c[['target']], Y_TESTEO_c['preds_rf'])\n",
    "recall = recall_score(Y_TESTEO_c[['target']], Y_TESTEO_c['preds_rf'])\n",
    "print('Precision INV CHURN TESTEO:')\n",
    "print(precision)\n",
    "print('Recall INV CHURN TESTEO:')\n",
    "print(recall)\n",
    "\n"
   ]
  },
  {
   "cell_type": "code",
   "execution_count": null,
   "metadata": {
    "application/vnd.databricks.v1+cell": {
     "cellMetadata": {
      "byteLimit": 2048000,
      "rowLimit": 10000
     },
     "inputWidgets": {},
     "nuid": "6d320fa5-adcf-4a5c-8b1c-2e5c828f47f5",
     "showTitle": false,
     "title": ""
    }
   },
   "outputs": [],
   "source": [
    "testeo_f2 = testeo_f2.reset_index()"
   ]
  },
  {
   "cell_type": "code",
   "execution_count": null,
   "metadata": {
    "application/vnd.databricks.v1+cell": {
     "cellMetadata": {
      "byteLimit": 2048000,
      "rowLimit": 10000
     },
     "inputWidgets": {},
     "nuid": "2bdc34bd-3bfb-4f08-9b1c-96470d7900b8",
     "showTitle": false,
     "title": ""
    }
   },
   "outputs": [],
   "source": [
    "testeo_f2.head()"
   ]
  },
  {
   "cell_type": "code",
   "execution_count": null,
   "metadata": {
    "application/vnd.databricks.v1+cell": {
     "cellMetadata": {
      "byteLimit": 2048000,
      "rowLimit": 10000
     },
     "inputWidgets": {},
     "nuid": "ea7fd300-33da-48b3-80eb-2194ccd3cc7a",
     "showTitle": false,
     "title": ""
    }
   },
   "outputs": [],
   "source": [
    "testeo_f2.dtypes"
   ]
  },
  {
   "cell_type": "code",
   "execution_count": null,
   "metadata": {
    "application/vnd.databricks.v1+cell": {
     "cellMetadata": {
      "byteLimit": 2048000,
      "rowLimit": 10000
     },
     "inputWidgets": {},
     "nuid": "83a9829a-380c-44e4-9f60-3224ab295cb7",
     "showTitle": false,
     "title": ""
    }
   },
   "outputs": [],
   "source": [
    "Y_TESTEO_c['ID'] = Y_TESTEO_c['ID'].astype(int)"
   ]
  },
  {
   "cell_type": "code",
   "execution_count": null,
   "metadata": {
    "application/vnd.databricks.v1+cell": {
     "cellMetadata": {
      "byteLimit": 2048000,
      "rowLimit": 10000
     },
     "inputWidgets": {},
     "nuid": "5e0e1ef2-fad8-45a9-8a38-709a3b0bfadb",
     "showTitle": false,
     "title": ""
    }
   },
   "outputs": [],
   "source": [
    "testeo_f2['ID'] = testeo_f2['ID'].astype(int)"
   ]
  },
  {
   "cell_type": "code",
   "execution_count": null,
   "metadata": {
    "application/vnd.databricks.v1+cell": {
     "cellMetadata": {
      "byteLimit": 2048000,
      "rowLimit": 10000
     },
     "inputWidgets": {},
     "nuid": "817bfbc3-1bd6-495a-b697-dae922195f5e",
     "showTitle": false,
     "title": ""
    }
   },
   "outputs": [],
   "source": [
    "testeo_all10dec2023 = pd.merge(testeo_f2, Y_TESTEO_c, how=\"left\", on=[\"ID\"])"
   ]
  },
  {
   "cell_type": "code",
   "execution_count": null,
   "metadata": {
    "application/vnd.databricks.v1+cell": {
     "cellMetadata": {
      "byteLimit": 2048000,
      "rowLimit": 10000
     },
     "inputWidgets": {},
     "nuid": "0a5e88f4-33b8-4f89-9bd3-6b46a79d5c70",
     "showTitle": false,
     "title": ""
    }
   },
   "outputs": [],
   "source": [
    "testeo_all10dec2023.head()"
   ]
  },
  {
   "cell_type": "code",
   "execution_count": null,
   "metadata": {
    "application/vnd.databricks.v1+cell": {
     "cellMetadata": {
      "byteLimit": 2048000,
      "rowLimit": 10000
     },
     "inputWidgets": {},
     "nuid": "b4dc1ee5-2f2f-49bf-b802-b5a6ba57327c",
     "showTitle": false,
     "title": ""
    }
   },
   "outputs": [],
   "source": [
    "testeo_all10dec2023= testeo_all10dec2023[['cbs_reg_user_id_cd', 'target','preds_rf','score_rf','CHURNINV_DECILE','tenure_m']]"
   ]
  },
  {
   "cell_type": "code",
   "execution_count": null,
   "metadata": {
    "application/vnd.databricks.v1+cell": {
     "cellMetadata": {
      "byteLimit": 2048000,
      "rowLimit": 10000
     },
     "inputWidgets": {},
     "nuid": "f7f3428a-922f-422d-9395-e73732c39644",
     "showTitle": false,
     "title": ""
    },
    "tags": []
   },
   "outputs": [],
   "source": [
    "testeo_all10dec2023.to_csv('testeo_60Mx10dec2023.csv')"
   ]
  }
 ],
 "metadata": {
  "application/vnd.databricks.v1+notebook": {
   "dashboards": [],
   "language": "python",
   "notebookMetadata": {
    "pythonIndentUnit": 4
   },
   "notebookName": "03.3-Train MX U_60T(lgbm)",
   "widgets": {}
  },
  "availableInstances": [
   {
    "_defaultOrder": 0,
    "_isFastLaunch": true,
    "category": "General purpose",
    "gpuNum": 0,
    "hideHardwareSpecs": false,
    "memoryGiB": 4,
    "name": "ml.t3.medium",
    "vcpuNum": 2
   },
   {
    "_defaultOrder": 1,
    "_isFastLaunch": false,
    "category": "General purpose",
    "gpuNum": 0,
    "hideHardwareSpecs": false,
    "memoryGiB": 8,
    "name": "ml.t3.large",
    "vcpuNum": 2
   },
   {
    "_defaultOrder": 2,
    "_isFastLaunch": false,
    "category": "General purpose",
    "gpuNum": 0,
    "hideHardwareSpecs": false,
    "memoryGiB": 16,
    "name": "ml.t3.xlarge",
    "vcpuNum": 4
   },
   {
    "_defaultOrder": 3,
    "_isFastLaunch": false,
    "category": "General purpose",
    "gpuNum": 0,
    "hideHardwareSpecs": false,
    "memoryGiB": 32,
    "name": "ml.t3.2xlarge",
    "vcpuNum": 8
   },
   {
    "_defaultOrder": 4,
    "_isFastLaunch": true,
    "category": "General purpose",
    "gpuNum": 0,
    "hideHardwareSpecs": false,
    "memoryGiB": 8,
    "name": "ml.m5.large",
    "vcpuNum": 2
   },
   {
    "_defaultOrder": 5,
    "_isFastLaunch": false,
    "category": "General purpose",
    "gpuNum": 0,
    "hideHardwareSpecs": false,
    "memoryGiB": 16,
    "name": "ml.m5.xlarge",
    "vcpuNum": 4
   },
   {
    "_defaultOrder": 6,
    "_isFastLaunch": false,
    "category": "General purpose",
    "gpuNum": 0,
    "hideHardwareSpecs": false,
    "memoryGiB": 32,
    "name": "ml.m5.2xlarge",
    "vcpuNum": 8
   },
   {
    "_defaultOrder": 7,
    "_isFastLaunch": false,
    "category": "General purpose",
    "gpuNum": 0,
    "hideHardwareSpecs": false,
    "memoryGiB": 64,
    "name": "ml.m5.4xlarge",
    "vcpuNum": 16
   },
   {
    "_defaultOrder": 8,
    "_isFastLaunch": false,
    "category": "General purpose",
    "gpuNum": 0,
    "hideHardwareSpecs": false,
    "memoryGiB": 128,
    "name": "ml.m5.8xlarge",
    "vcpuNum": 32
   },
   {
    "_defaultOrder": 9,
    "_isFastLaunch": false,
    "category": "General purpose",
    "gpuNum": 0,
    "hideHardwareSpecs": false,
    "memoryGiB": 192,
    "name": "ml.m5.12xlarge",
    "vcpuNum": 48
   },
   {
    "_defaultOrder": 10,
    "_isFastLaunch": false,
    "category": "General purpose",
    "gpuNum": 0,
    "hideHardwareSpecs": false,
    "memoryGiB": 256,
    "name": "ml.m5.16xlarge",
    "vcpuNum": 64
   },
   {
    "_defaultOrder": 11,
    "_isFastLaunch": false,
    "category": "General purpose",
    "gpuNum": 0,
    "hideHardwareSpecs": false,
    "memoryGiB": 384,
    "name": "ml.m5.24xlarge",
    "vcpuNum": 96
   },
   {
    "_defaultOrder": 12,
    "_isFastLaunch": false,
    "category": "General purpose",
    "gpuNum": 0,
    "hideHardwareSpecs": false,
    "memoryGiB": 8,
    "name": "ml.m5d.large",
    "vcpuNum": 2
   },
   {
    "_defaultOrder": 13,
    "_isFastLaunch": false,
    "category": "General purpose",
    "gpuNum": 0,
    "hideHardwareSpecs": false,
    "memoryGiB": 16,
    "name": "ml.m5d.xlarge",
    "vcpuNum": 4
   },
   {
    "_defaultOrder": 14,
    "_isFastLaunch": false,
    "category": "General purpose",
    "gpuNum": 0,
    "hideHardwareSpecs": false,
    "memoryGiB": 32,
    "name": "ml.m5d.2xlarge",
    "vcpuNum": 8
   },
   {
    "_defaultOrder": 15,
    "_isFastLaunch": false,
    "category": "General purpose",
    "gpuNum": 0,
    "hideHardwareSpecs": false,
    "memoryGiB": 64,
    "name": "ml.m5d.4xlarge",
    "vcpuNum": 16
   },
   {
    "_defaultOrder": 16,
    "_isFastLaunch": false,
    "category": "General purpose",
    "gpuNum": 0,
    "hideHardwareSpecs": false,
    "memoryGiB": 128,
    "name": "ml.m5d.8xlarge",
    "vcpuNum": 32
   },
   {
    "_defaultOrder": 17,
    "_isFastLaunch": false,
    "category": "General purpose",
    "gpuNum": 0,
    "hideHardwareSpecs": false,
    "memoryGiB": 192,
    "name": "ml.m5d.12xlarge",
    "vcpuNum": 48
   },
   {
    "_defaultOrder": 18,
    "_isFastLaunch": false,
    "category": "General purpose",
    "gpuNum": 0,
    "hideHardwareSpecs": false,
    "memoryGiB": 256,
    "name": "ml.m5d.16xlarge",
    "vcpuNum": 64
   },
   {
    "_defaultOrder": 19,
    "_isFastLaunch": false,
    "category": "General purpose",
    "gpuNum": 0,
    "hideHardwareSpecs": false,
    "memoryGiB": 384,
    "name": "ml.m5d.24xlarge",
    "vcpuNum": 96
   },
   {
    "_defaultOrder": 20,
    "_isFastLaunch": false,
    "category": "General purpose",
    "gpuNum": 0,
    "hideHardwareSpecs": true,
    "memoryGiB": 0,
    "name": "ml.geospatial.interactive",
    "supportedImageNames": [
     "sagemaker-geospatial-v1-0"
    ],
    "vcpuNum": 0
   },
   {
    "_defaultOrder": 21,
    "_isFastLaunch": true,
    "category": "Compute optimized",
    "gpuNum": 0,
    "hideHardwareSpecs": false,
    "memoryGiB": 4,
    "name": "ml.c5.large",
    "vcpuNum": 2
   },
   {
    "_defaultOrder": 22,
    "_isFastLaunch": false,
    "category": "Compute optimized",
    "gpuNum": 0,
    "hideHardwareSpecs": false,
    "memoryGiB": 8,
    "name": "ml.c5.xlarge",
    "vcpuNum": 4
   },
   {
    "_defaultOrder": 23,
    "_isFastLaunch": false,
    "category": "Compute optimized",
    "gpuNum": 0,
    "hideHardwareSpecs": false,
    "memoryGiB": 16,
    "name": "ml.c5.2xlarge",
    "vcpuNum": 8
   },
   {
    "_defaultOrder": 24,
    "_isFastLaunch": false,
    "category": "Compute optimized",
    "gpuNum": 0,
    "hideHardwareSpecs": false,
    "memoryGiB": 32,
    "name": "ml.c5.4xlarge",
    "vcpuNum": 16
   },
   {
    "_defaultOrder": 25,
    "_isFastLaunch": false,
    "category": "Compute optimized",
    "gpuNum": 0,
    "hideHardwareSpecs": false,
    "memoryGiB": 72,
    "name": "ml.c5.9xlarge",
    "vcpuNum": 36
   },
   {
    "_defaultOrder": 26,
    "_isFastLaunch": false,
    "category": "Compute optimized",
    "gpuNum": 0,
    "hideHardwareSpecs": false,
    "memoryGiB": 96,
    "name": "ml.c5.12xlarge",
    "vcpuNum": 48
   },
   {
    "_defaultOrder": 27,
    "_isFastLaunch": false,
    "category": "Compute optimized",
    "gpuNum": 0,
    "hideHardwareSpecs": false,
    "memoryGiB": 144,
    "name": "ml.c5.18xlarge",
    "vcpuNum": 72
   },
   {
    "_defaultOrder": 28,
    "_isFastLaunch": false,
    "category": "Compute optimized",
    "gpuNum": 0,
    "hideHardwareSpecs": false,
    "memoryGiB": 192,
    "name": "ml.c5.24xlarge",
    "vcpuNum": 96
   },
   {
    "_defaultOrder": 29,
    "_isFastLaunch": true,
    "category": "Accelerated computing",
    "gpuNum": 1,
    "hideHardwareSpecs": false,
    "memoryGiB": 16,
    "name": "ml.g4dn.xlarge",
    "vcpuNum": 4
   },
   {
    "_defaultOrder": 30,
    "_isFastLaunch": false,
    "category": "Accelerated computing",
    "gpuNum": 1,
    "hideHardwareSpecs": false,
    "memoryGiB": 32,
    "name": "ml.g4dn.2xlarge",
    "vcpuNum": 8
   },
   {
    "_defaultOrder": 31,
    "_isFastLaunch": false,
    "category": "Accelerated computing",
    "gpuNum": 1,
    "hideHardwareSpecs": false,
    "memoryGiB": 64,
    "name": "ml.g4dn.4xlarge",
    "vcpuNum": 16
   },
   {
    "_defaultOrder": 32,
    "_isFastLaunch": false,
    "category": "Accelerated computing",
    "gpuNum": 1,
    "hideHardwareSpecs": false,
    "memoryGiB": 128,
    "name": "ml.g4dn.8xlarge",
    "vcpuNum": 32
   },
   {
    "_defaultOrder": 33,
    "_isFastLaunch": false,
    "category": "Accelerated computing",
    "gpuNum": 4,
    "hideHardwareSpecs": false,
    "memoryGiB": 192,
    "name": "ml.g4dn.12xlarge",
    "vcpuNum": 48
   },
   {
    "_defaultOrder": 34,
    "_isFastLaunch": false,
    "category": "Accelerated computing",
    "gpuNum": 1,
    "hideHardwareSpecs": false,
    "memoryGiB": 256,
    "name": "ml.g4dn.16xlarge",
    "vcpuNum": 64
   },
   {
    "_defaultOrder": 35,
    "_isFastLaunch": false,
    "category": "Accelerated computing",
    "gpuNum": 1,
    "hideHardwareSpecs": false,
    "memoryGiB": 61,
    "name": "ml.p3.2xlarge",
    "vcpuNum": 8
   },
   {
    "_defaultOrder": 36,
    "_isFastLaunch": false,
    "category": "Accelerated computing",
    "gpuNum": 4,
    "hideHardwareSpecs": false,
    "memoryGiB": 244,
    "name": "ml.p3.8xlarge",
    "vcpuNum": 32
   },
   {
    "_defaultOrder": 37,
    "_isFastLaunch": false,
    "category": "Accelerated computing",
    "gpuNum": 8,
    "hideHardwareSpecs": false,
    "memoryGiB": 488,
    "name": "ml.p3.16xlarge",
    "vcpuNum": 64
   },
   {
    "_defaultOrder": 38,
    "_isFastLaunch": false,
    "category": "Accelerated computing",
    "gpuNum": 8,
    "hideHardwareSpecs": false,
    "memoryGiB": 768,
    "name": "ml.p3dn.24xlarge",
    "vcpuNum": 96
   },
   {
    "_defaultOrder": 39,
    "_isFastLaunch": false,
    "category": "Memory Optimized",
    "gpuNum": 0,
    "hideHardwareSpecs": false,
    "memoryGiB": 16,
    "name": "ml.r5.large",
    "vcpuNum": 2
   },
   {
    "_defaultOrder": 40,
    "_isFastLaunch": false,
    "category": "Memory Optimized",
    "gpuNum": 0,
    "hideHardwareSpecs": false,
    "memoryGiB": 32,
    "name": "ml.r5.xlarge",
    "vcpuNum": 4
   },
   {
    "_defaultOrder": 41,
    "_isFastLaunch": false,
    "category": "Memory Optimized",
    "gpuNum": 0,
    "hideHardwareSpecs": false,
    "memoryGiB": 64,
    "name": "ml.r5.2xlarge",
    "vcpuNum": 8
   },
   {
    "_defaultOrder": 42,
    "_isFastLaunch": false,
    "category": "Memory Optimized",
    "gpuNum": 0,
    "hideHardwareSpecs": false,
    "memoryGiB": 128,
    "name": "ml.r5.4xlarge",
    "vcpuNum": 16
   },
   {
    "_defaultOrder": 43,
    "_isFastLaunch": false,
    "category": "Memory Optimized",
    "gpuNum": 0,
    "hideHardwareSpecs": false,
    "memoryGiB": 256,
    "name": "ml.r5.8xlarge",
    "vcpuNum": 32
   },
   {
    "_defaultOrder": 44,
    "_isFastLaunch": false,
    "category": "Memory Optimized",
    "gpuNum": 0,
    "hideHardwareSpecs": false,
    "memoryGiB": 384,
    "name": "ml.r5.12xlarge",
    "vcpuNum": 48
   },
   {
    "_defaultOrder": 45,
    "_isFastLaunch": false,
    "category": "Memory Optimized",
    "gpuNum": 0,
    "hideHardwareSpecs": false,
    "memoryGiB": 512,
    "name": "ml.r5.16xlarge",
    "vcpuNum": 64
   },
   {
    "_defaultOrder": 46,
    "_isFastLaunch": false,
    "category": "Memory Optimized",
    "gpuNum": 0,
    "hideHardwareSpecs": false,
    "memoryGiB": 768,
    "name": "ml.r5.24xlarge",
    "vcpuNum": 96
   },
   {
    "_defaultOrder": 47,
    "_isFastLaunch": false,
    "category": "Accelerated computing",
    "gpuNum": 1,
    "hideHardwareSpecs": false,
    "memoryGiB": 16,
    "name": "ml.g5.xlarge",
    "vcpuNum": 4
   },
   {
    "_defaultOrder": 48,
    "_isFastLaunch": false,
    "category": "Accelerated computing",
    "gpuNum": 1,
    "hideHardwareSpecs": false,
    "memoryGiB": 32,
    "name": "ml.g5.2xlarge",
    "vcpuNum": 8
   },
   {
    "_defaultOrder": 49,
    "_isFastLaunch": false,
    "category": "Accelerated computing",
    "gpuNum": 1,
    "hideHardwareSpecs": false,
    "memoryGiB": 64,
    "name": "ml.g5.4xlarge",
    "vcpuNum": 16
   },
   {
    "_defaultOrder": 50,
    "_isFastLaunch": false,
    "category": "Accelerated computing",
    "gpuNum": 1,
    "hideHardwareSpecs": false,
    "memoryGiB": 128,
    "name": "ml.g5.8xlarge",
    "vcpuNum": 32
   },
   {
    "_defaultOrder": 51,
    "_isFastLaunch": false,
    "category": "Accelerated computing",
    "gpuNum": 1,
    "hideHardwareSpecs": false,
    "memoryGiB": 256,
    "name": "ml.g5.16xlarge",
    "vcpuNum": 64
   },
   {
    "_defaultOrder": 52,
    "_isFastLaunch": false,
    "category": "Accelerated computing",
    "gpuNum": 4,
    "hideHardwareSpecs": false,
    "memoryGiB": 192,
    "name": "ml.g5.12xlarge",
    "vcpuNum": 48
   },
   {
    "_defaultOrder": 53,
    "_isFastLaunch": false,
    "category": "Accelerated computing",
    "gpuNum": 4,
    "hideHardwareSpecs": false,
    "memoryGiB": 384,
    "name": "ml.g5.24xlarge",
    "vcpuNum": 96
   },
   {
    "_defaultOrder": 54,
    "_isFastLaunch": false,
    "category": "Accelerated computing",
    "gpuNum": 8,
    "hideHardwareSpecs": false,
    "memoryGiB": 768,
    "name": "ml.g5.48xlarge",
    "vcpuNum": 192
   },
   {
    "_defaultOrder": 55,
    "_isFastLaunch": false,
    "category": "Accelerated computing",
    "gpuNum": 8,
    "hideHardwareSpecs": false,
    "memoryGiB": 1152,
    "name": "ml.p4d.24xlarge",
    "vcpuNum": 96
   },
   {
    "_defaultOrder": 56,
    "_isFastLaunch": false,
    "category": "Accelerated computing",
    "gpuNum": 8,
    "hideHardwareSpecs": false,
    "memoryGiB": 1152,
    "name": "ml.p4de.24xlarge",
    "vcpuNum": 96
   },
   {
    "_defaultOrder": 57,
    "_isFastLaunch": false,
    "category": "Accelerated computing",
    "gpuNum": 0,
    "hideHardwareSpecs": false,
    "memoryGiB": 32,
    "name": "ml.trn1.2xlarge",
    "vcpuNum": 8
   },
   {
    "_defaultOrder": 58,
    "_isFastLaunch": false,
    "category": "Accelerated computing",
    "gpuNum": 0,
    "hideHardwareSpecs": false,
    "memoryGiB": 512,
    "name": "ml.trn1.32xlarge",
    "vcpuNum": 128
   },
   {
    "_defaultOrder": 59,
    "_isFastLaunch": false,
    "category": "Accelerated computing",
    "gpuNum": 0,
    "hideHardwareSpecs": false,
    "memoryGiB": 512,
    "name": "ml.trn1n.32xlarge",
    "vcpuNum": 128
   }
  ],
  "instance_type": "ml.m5.large",
  "kernelspec": {
   "display_name": "conda_python3",
   "language": "python",
   "name": "conda_python3"
  },
  "language_info": {
   "codemirror_mode": {
    "name": "ipython",
    "version": 3
   },
   "file_extension": ".py",
   "mimetype": "text/x-python",
   "name": "python",
   "nbconvert_exporter": "python",
   "pygments_lexer": "ipython3",
   "version": "3.10.13"
  }
 },
 "nbformat": 4,
 "nbformat_minor": 4
}
