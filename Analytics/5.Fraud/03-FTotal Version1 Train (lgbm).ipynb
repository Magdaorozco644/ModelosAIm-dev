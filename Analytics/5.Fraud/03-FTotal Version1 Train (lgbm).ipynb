{
 "cells": [
  {
   "cell_type": "markdown",
   "metadata": {},
   "source": [
    "# Create model\n",
    " Performs hiperparameter search and then train model with results obtained"
   ]
  },
  {
   "cell_type": "markdown",
   "metadata": {
    "tags": []
   },
   "source": [
    "## Load libraries \n",
    "Install & load python libraries"
   ]
  },
  {
   "cell_type": "code",
   "execution_count": 1,
   "metadata": {
    "tags": []
   },
   "outputs": [
    {
     "name": "stdout",
     "output_type": "stream",
     "text": [
      "Requirement already satisfied: tabgan==1.3.3 in /home/ec2-user/anaconda3/envs/python3/lib/python3.10/site-packages (1.3.3)\n",
      "Requirement already satisfied: pandas in /home/ec2-user/anaconda3/envs/python3/lib/python3.10/site-packages (from tabgan==1.3.3) (2.2.2)\n",
      "Requirement already satisfied: numpy in /home/ec2-user/anaconda3/envs/python3/lib/python3.10/site-packages (from tabgan==1.3.3) (1.22.4)\n",
      "Requirement already satisfied: category-encoders in /home/ec2-user/anaconda3/envs/python3/lib/python3.10/site-packages (from tabgan==1.3.3) (2.6.3)\n",
      "Requirement already satisfied: torch>=1.0 in /home/ec2-user/anaconda3/envs/python3/lib/python3.10/site-packages (from tabgan==1.3.3) (2.2.2)\n",
      "Requirement already satisfied: lightgbm>=2.2.3 in /home/ec2-user/anaconda3/envs/python3/lib/python3.10/site-packages (from tabgan==1.3.3) (4.3.0)\n",
      "Requirement already satisfied: scikit-learn>=1.0.2 in /home/ec2-user/anaconda3/envs/python3/lib/python3.10/site-packages (from tabgan==1.3.3) (1.4.1.post1)\n",
      "Requirement already satisfied: torchvision in /home/ec2-user/anaconda3/envs/python3/lib/python3.10/site-packages (from tabgan==1.3.3) (0.17.2)\n",
      "Requirement already satisfied: python-dateutil in /home/ec2-user/anaconda3/envs/python3/lib/python3.10/site-packages (from tabgan==1.3.3) (2.8.2)\n",
      "Requirement already satisfied: tqdm in /home/ec2-user/anaconda3/envs/python3/lib/python3.10/site-packages (from tabgan==1.3.3) (4.66.2)\n",
      "Requirement already satisfied: scipy in /home/ec2-user/anaconda3/envs/python3/lib/python3.10/site-packages (from lightgbm>=2.2.3->tabgan==1.3.3) (1.12.0)\n",
      "Requirement already satisfied: joblib>=1.2.0 in /home/ec2-user/anaconda3/envs/python3/lib/python3.10/site-packages (from scikit-learn>=1.0.2->tabgan==1.3.3) (1.3.2)\n",
      "Requirement already satisfied: threadpoolctl>=2.0.0 in /home/ec2-user/anaconda3/envs/python3/lib/python3.10/site-packages (from scikit-learn>=1.0.2->tabgan==1.3.3) (3.3.0)\n",
      "Requirement already satisfied: filelock in /home/ec2-user/anaconda3/envs/python3/lib/python3.10/site-packages (from torch>=1.0->tabgan==1.3.3) (3.13.1)\n",
      "Requirement already satisfied: typing-extensions>=4.8.0 in /home/ec2-user/anaconda3/envs/python3/lib/python3.10/site-packages (from torch>=1.0->tabgan==1.3.3) (4.9.0)\n",
      "Requirement already satisfied: sympy in /home/ec2-user/anaconda3/envs/python3/lib/python3.10/site-packages (from torch>=1.0->tabgan==1.3.3) (1.12)\n",
      "Requirement already satisfied: networkx in /home/ec2-user/anaconda3/envs/python3/lib/python3.10/site-packages (from torch>=1.0->tabgan==1.3.3) (3.2.1)\n",
      "Requirement already satisfied: jinja2 in /home/ec2-user/anaconda3/envs/python3/lib/python3.10/site-packages (from torch>=1.0->tabgan==1.3.3) (3.1.3)\n",
      "Requirement already satisfied: fsspec in /home/ec2-user/anaconda3/envs/python3/lib/python3.10/site-packages (from torch>=1.0->tabgan==1.3.3) (2024.2.0)\n",
      "Requirement already satisfied: nvidia-cuda-nvrtc-cu12==12.1.105 in /home/ec2-user/anaconda3/envs/python3/lib/python3.10/site-packages (from torch>=1.0->tabgan==1.3.3) (12.1.105)\n",
      "Requirement already satisfied: nvidia-cuda-runtime-cu12==12.1.105 in /home/ec2-user/anaconda3/envs/python3/lib/python3.10/site-packages (from torch>=1.0->tabgan==1.3.3) (12.1.105)\n",
      "Requirement already satisfied: nvidia-cuda-cupti-cu12==12.1.105 in /home/ec2-user/anaconda3/envs/python3/lib/python3.10/site-packages (from torch>=1.0->tabgan==1.3.3) (12.1.105)\n",
      "Requirement already satisfied: nvidia-cudnn-cu12==8.9.2.26 in /home/ec2-user/anaconda3/envs/python3/lib/python3.10/site-packages (from torch>=1.0->tabgan==1.3.3) (8.9.2.26)\n",
      "Requirement already satisfied: nvidia-cublas-cu12==12.1.3.1 in /home/ec2-user/anaconda3/envs/python3/lib/python3.10/site-packages (from torch>=1.0->tabgan==1.3.3) (12.1.3.1)\n",
      "Requirement already satisfied: nvidia-cufft-cu12==11.0.2.54 in /home/ec2-user/anaconda3/envs/python3/lib/python3.10/site-packages (from torch>=1.0->tabgan==1.3.3) (11.0.2.54)\n",
      "Requirement already satisfied: nvidia-curand-cu12==10.3.2.106 in /home/ec2-user/anaconda3/envs/python3/lib/python3.10/site-packages (from torch>=1.0->tabgan==1.3.3) (10.3.2.106)\n",
      "Requirement already satisfied: nvidia-cusolver-cu12==11.4.5.107 in /home/ec2-user/anaconda3/envs/python3/lib/python3.10/site-packages (from torch>=1.0->tabgan==1.3.3) (11.4.5.107)\n",
      "Requirement already satisfied: nvidia-cusparse-cu12==12.1.0.106 in /home/ec2-user/anaconda3/envs/python3/lib/python3.10/site-packages (from torch>=1.0->tabgan==1.3.3) (12.1.0.106)\n",
      "Requirement already satisfied: nvidia-nccl-cu12==2.19.3 in /home/ec2-user/anaconda3/envs/python3/lib/python3.10/site-packages (from torch>=1.0->tabgan==1.3.3) (2.19.3)\n",
      "Requirement already satisfied: nvidia-nvtx-cu12==12.1.105 in /home/ec2-user/anaconda3/envs/python3/lib/python3.10/site-packages (from torch>=1.0->tabgan==1.3.3) (12.1.105)\n",
      "Requirement already satisfied: triton==2.2.0 in /home/ec2-user/anaconda3/envs/python3/lib/python3.10/site-packages (from torch>=1.0->tabgan==1.3.3) (2.2.0)\n",
      "Requirement already satisfied: nvidia-nvjitlink-cu12 in /home/ec2-user/anaconda3/envs/python3/lib/python3.10/site-packages (from nvidia-cusolver-cu12==11.4.5.107->torch>=1.0->tabgan==1.3.3) (12.4.127)\n",
      "Requirement already satisfied: statsmodels>=0.9.0 in /home/ec2-user/anaconda3/envs/python3/lib/python3.10/site-packages (from category-encoders->tabgan==1.3.3) (0.14.1)\n",
      "Requirement already satisfied: patsy>=0.5.1 in /home/ec2-user/anaconda3/envs/python3/lib/python3.10/site-packages (from category-encoders->tabgan==1.3.3) (0.5.6)\n",
      "Requirement already satisfied: pytz>=2020.1 in /home/ec2-user/anaconda3/envs/python3/lib/python3.10/site-packages (from pandas->tabgan==1.3.3) (2024.1)\n",
      "Requirement already satisfied: tzdata>=2022.7 in /home/ec2-user/anaconda3/envs/python3/lib/python3.10/site-packages (from pandas->tabgan==1.3.3) (2024.1)\n",
      "Requirement already satisfied: six>=1.5 in /home/ec2-user/anaconda3/envs/python3/lib/python3.10/site-packages (from python-dateutil->tabgan==1.3.3) (1.16.0)\n",
      "Requirement already satisfied: pillow!=8.3.*,>=5.3.0 in /home/ec2-user/anaconda3/envs/python3/lib/python3.10/site-packages (from torchvision->tabgan==1.3.3) (10.2.0)\n",
      "Requirement already satisfied: packaging>=21.3 in /home/ec2-user/anaconda3/envs/python3/lib/python3.10/site-packages (from statsmodels>=0.9.0->category-encoders->tabgan==1.3.3) (21.3)\n",
      "Requirement already satisfied: MarkupSafe>=2.0 in /home/ec2-user/anaconda3/envs/python3/lib/python3.10/site-packages (from jinja2->torch>=1.0->tabgan==1.3.3) (2.1.5)\n",
      "Requirement already satisfied: mpmath>=0.19 in /home/ec2-user/anaconda3/envs/python3/lib/python3.10/site-packages (from sympy->torch>=1.0->tabgan==1.3.3) (1.3.0)\n",
      "Requirement already satisfied: pyparsing!=3.0.5,>=2.0.2 in /home/ec2-user/anaconda3/envs/python3/lib/python3.10/site-packages (from packaging>=21.3->statsmodels>=0.9.0->category-encoders->tabgan==1.3.3) (3.1.1)\n",
      "Note: you may need to restart the kernel to use updated packages.\n"
     ]
    }
   ],
   "source": [
    "pip install tabgan==1.3.3 #9500 secs"
   ]
  },
  {
   "cell_type": "code",
   "execution_count": 2,
   "metadata": {
    "tags": []
   },
   "outputs": [
    {
     "name": "stdout",
     "output_type": "stream",
     "text": [
      "Requirement already satisfied: lightgbm in /home/ec2-user/anaconda3/envs/python3/lib/python3.10/site-packages (4.3.0)\n",
      "Requirement already satisfied: numpy in /home/ec2-user/anaconda3/envs/python3/lib/python3.10/site-packages (from lightgbm) (1.22.4)\n",
      "Requirement already satisfied: scipy in /home/ec2-user/anaconda3/envs/python3/lib/python3.10/site-packages (from lightgbm) (1.12.0)\n"
     ]
    }
   ],
   "source": [
    "!pip install lightgbm"
   ]
  },
  {
   "cell_type": "code",
   "execution_count": 3,
   "metadata": {
    "tags": []
   },
   "outputs": [
    {
     "name": "stdout",
     "output_type": "stream",
     "text": [
      "Requirement already satisfied: pandas in /home/ec2-user/anaconda3/envs/python3/lib/python3.10/site-packages (2.2.2)\n",
      "Requirement already satisfied: dask[complete] in /home/ec2-user/anaconda3/envs/python3/lib/python3.10/site-packages (2024.4.1)\n",
      "Requirement already satisfied: numpy>=1.22.4 in /home/ec2-user/anaconda3/envs/python3/lib/python3.10/site-packages (from pandas) (1.22.4)\n",
      "Requirement already satisfied: python-dateutil>=2.8.2 in /home/ec2-user/anaconda3/envs/python3/lib/python3.10/site-packages (from pandas) (2.8.2)\n",
      "Requirement already satisfied: pytz>=2020.1 in /home/ec2-user/anaconda3/envs/python3/lib/python3.10/site-packages (from pandas) (2024.1)\n",
      "Requirement already satisfied: tzdata>=2022.7 in /home/ec2-user/anaconda3/envs/python3/lib/python3.10/site-packages (from pandas) (2024.1)\n",
      "Requirement already satisfied: click>=8.1 in /home/ec2-user/anaconda3/envs/python3/lib/python3.10/site-packages (from dask[complete]) (8.1.7)\n",
      "Requirement already satisfied: cloudpickle>=1.5.0 in /home/ec2-user/anaconda3/envs/python3/lib/python3.10/site-packages (from dask[complete]) (2.2.1)\n",
      "Requirement already satisfied: fsspec>=2021.09.0 in /home/ec2-user/anaconda3/envs/python3/lib/python3.10/site-packages (from dask[complete]) (2024.2.0)\n",
      "Requirement already satisfied: packaging>=20.0 in /home/ec2-user/anaconda3/envs/python3/lib/python3.10/site-packages (from dask[complete]) (21.3)\n",
      "Requirement already satisfied: partd>=1.2.0 in /home/ec2-user/anaconda3/envs/python3/lib/python3.10/site-packages (from dask[complete]) (1.4.1)\n",
      "Requirement already satisfied: pyyaml>=5.3.1 in /home/ec2-user/anaconda3/envs/python3/lib/python3.10/site-packages (from dask[complete]) (6.0.1)\n",
      "Requirement already satisfied: toolz>=0.10.0 in /home/ec2-user/anaconda3/envs/python3/lib/python3.10/site-packages (from dask[complete]) (0.12.1)\n",
      "Requirement already satisfied: importlib-metadata>=4.13.0 in /home/ec2-user/anaconda3/envs/python3/lib/python3.10/site-packages (from dask[complete]) (6.11.0)\n",
      "Requirement already satisfied: pyarrow>=7.0 in /home/ec2-user/anaconda3/envs/python3/lib/python3.10/site-packages (from dask[complete]) (15.0.0)\n",
      "Requirement already satisfied: pyarrow-hotfix in /home/ec2-user/anaconda3/envs/python3/lib/python3.10/site-packages (from dask[complete]) (0.6)\n",
      "Requirement already satisfied: lz4>=4.3.2 in /home/ec2-user/anaconda3/envs/python3/lib/python3.10/site-packages (from dask[complete]) (4.3.3)\n",
      "Requirement already satisfied: zipp>=0.5 in /home/ec2-user/anaconda3/envs/python3/lib/python3.10/site-packages (from importlib-metadata>=4.13.0->dask[complete]) (3.17.0)\n",
      "Requirement already satisfied: pyparsing!=3.0.5,>=2.0.2 in /home/ec2-user/anaconda3/envs/python3/lib/python3.10/site-packages (from packaging>=20.0->dask[complete]) (3.1.1)\n",
      "Requirement already satisfied: locket in /home/ec2-user/anaconda3/envs/python3/lib/python3.10/site-packages (from partd>=1.2.0->dask[complete]) (1.0.0)\n",
      "Requirement already satisfied: six>=1.5 in /home/ec2-user/anaconda3/envs/python3/lib/python3.10/site-packages (from python-dateutil>=2.8.2->pandas) (1.16.0)\n",
      "Requirement already satisfied: dask-expr<1.1,>=1.0 in /home/ec2-user/anaconda3/envs/python3/lib/python3.10/site-packages (from dask[complete]) (1.0.11)\n",
      "Requirement already satisfied: bokeh>=2.4.2 in /home/ec2-user/anaconda3/envs/python3/lib/python3.10/site-packages (from dask[complete]) (3.3.4)\n",
      "Requirement already satisfied: jinja2>=2.10.3 in /home/ec2-user/anaconda3/envs/python3/lib/python3.10/site-packages (from dask[complete]) (3.1.3)\n",
      "Requirement already satisfied: distributed==2024.4.1 in /home/ec2-user/anaconda3/envs/python3/lib/python3.10/site-packages (from dask[complete]) (2024.4.1)\n",
      "Requirement already satisfied: msgpack>=1.0.0 in /home/ec2-user/anaconda3/envs/python3/lib/python3.10/site-packages (from distributed==2024.4.1->dask[complete]) (1.0.7)\n",
      "Requirement already satisfied: psutil>=5.7.2 in /home/ec2-user/anaconda3/envs/python3/lib/python3.10/site-packages (from distributed==2024.4.1->dask[complete]) (5.9.8)\n",
      "Requirement already satisfied: sortedcontainers>=2.0.5 in /home/ec2-user/anaconda3/envs/python3/lib/python3.10/site-packages (from distributed==2024.4.1->dask[complete]) (2.4.0)\n",
      "Requirement already satisfied: tblib>=1.6.0 in /home/ec2-user/anaconda3/envs/python3/lib/python3.10/site-packages (from distributed==2024.4.1->dask[complete]) (3.0.0)\n",
      "Requirement already satisfied: tornado>=6.0.4 in /home/ec2-user/anaconda3/envs/python3/lib/python3.10/site-packages (from distributed==2024.4.1->dask[complete]) (6.4)\n",
      "Requirement already satisfied: urllib3>=1.24.3 in /home/ec2-user/anaconda3/envs/python3/lib/python3.10/site-packages (from distributed==2024.4.1->dask[complete]) (2.0.7)\n",
      "Requirement already satisfied: zict>=3.0.0 in /home/ec2-user/anaconda3/envs/python3/lib/python3.10/site-packages (from distributed==2024.4.1->dask[complete]) (3.0.0)\n",
      "Requirement already satisfied: contourpy>=1 in /home/ec2-user/anaconda3/envs/python3/lib/python3.10/site-packages (from bokeh>=2.4.2->dask[complete]) (1.2.0)\n",
      "Requirement already satisfied: pillow>=7.1.0 in /home/ec2-user/anaconda3/envs/python3/lib/python3.10/site-packages (from bokeh>=2.4.2->dask[complete]) (10.2.0)\n",
      "Requirement already satisfied: xyzservices>=2021.09.1 in /home/ec2-user/anaconda3/envs/python3/lib/python3.10/site-packages (from bokeh>=2.4.2->dask[complete]) (2023.10.1)\n",
      "Requirement already satisfied: MarkupSafe>=2.0 in /home/ec2-user/anaconda3/envs/python3/lib/python3.10/site-packages (from jinja2>=2.10.3->dask[complete]) (2.1.5)\n",
      "Note: you may need to restart the kernel to use updated packages.\n"
     ]
    }
   ],
   "source": [
    "pip install --upgrade pandas \"dask[complete]\""
   ]
  },
  {
   "cell_type": "code",
   "execution_count": 4,
   "metadata": {
    "application/vnd.databricks.v1+cell": {
     "cellMetadata": {
      "byteLimit": 2048000,
      "rowLimit": 10000
     },
     "inputWidgets": {},
     "nuid": "567b8871-992b-48f1-9709-847d1f6529ec",
     "showTitle": false,
     "title": ""
    },
    "tags": []
   },
   "outputs": [],
   "source": [
    "## librerias requeridas\n",
    "import numpy as np \n",
    "import pandas as pd\n",
    "import matplotlib.pyplot as plt\n",
    "import calendar\n",
    "import re\n",
    "from sklearn.metrics import confusion_matrix \n",
    "from sklearn.model_selection import train_test_split \n",
    "from sklearn.tree import DecisionTreeClassifier \n",
    "from sklearn.metrics import accuracy_score \n",
    "from sklearn.metrics import classification_report \n",
    "from sklearn.metrics import confusion_matrix\n",
    "from sklearn.metrics import precision_score, recall_score\n",
    "#from scikitplot.metrics import plot_roc\n",
    "from sklearn.metrics import roc_auc_score\n",
    "#from scikitplot.metrics import plot_lift_curve\n",
    "#from scikitplot.helpers import binary_ks_curve \n",
    "#from scikitplot.metrics import plot_ks_statistic\n",
    "#from scikitplot.helpers import cumulative_gain_curve\n",
    "from sklearn.ensemble import RandomForestClassifier\n",
    "from sklearn.model_selection import RandomizedSearchCV\n",
    "from lightgbm import LGBMClassifier\n",
    "from datetime import datetime, timedelta\n",
    "\n",
    "import pyarrow as pa\n",
    "import pyarrow.parquet as pq"
   ]
  },
  {
   "cell_type": "code",
   "execution_count": 5,
   "metadata": {
    "application/vnd.databricks.v1+cell": {
     "cellMetadata": {
      "byteLimit": 2048000,
      "rowLimit": 10000
     },
     "inputWidgets": {},
     "nuid": "6ebc0e87-d9be-4b2c-b870-c00cbea0ad90",
     "showTitle": false,
     "title": ""
    }
   },
   "outputs": [],
   "source": [
    "pd.set_option('display.max_columns', 500)\n",
    "#pd.set_option('display.width', 1000)\n",
    "pd.set_option('display.memory_usage', True)"
   ]
  },
  {
   "cell_type": "markdown",
   "metadata": {
    "tags": []
   },
   "source": [
    "## Load data \n",
    "Load train & test data from parquet file previously saved <br>\n",
    "Define limpiar_nombres_columnas & nombres_de_columnas <br>\n",
    "Define input variables for model <br>"
   ]
  },
  {
   "cell_type": "code",
   "execution_count": 6,
   "metadata": {
    "application/vnd.databricks.v1+cell": {
     "cellMetadata": {
      "byteLimit": 2048000,
      "rowLimit": 10000
     },
     "inputWidgets": {},
     "nuid": "9a5f32c1-8445-4154-9406-921f6dc072e2",
     "showTitle": false,
     "title": ""
    }
   },
   "outputs": [],
   "source": [
    "s3_url = f\"viamericas-datalake-dev-us-east-1-283731589572-raw/FraudModel/Data4Model\"\n",
    "df1Train = pd.read_parquet(f\"s3://{s3_url}/TargetTodos/Train/Train.parquet\")\n",
    "tg1Train = df1Train['target']\n",
    "\n",
    "df1Val = pd.read_parquet(f\"s3://{s3_url}/TargetTodos/Validation/Validation.parquet\")\n",
    "tg1Val = df1Val['target']\n"
   ]
  },
  {
   "cell_type": "code",
   "execution_count": 7,
   "metadata": {
    "application/vnd.databricks.v1+cell": {
     "cellMetadata": {
      "byteLimit": 2048000,
      "rowLimit": 10000
     },
     "inputWidgets": {},
     "nuid": "3b0247e4-0839-427c-b652-87ee2a94e232",
     "showTitle": false,
     "title": ""
    },
    "tags": []
   },
   "outputs": [],
   "source": [
    "def limpiar_nombres_columnas(dataframe):\n",
    "    \"\"\"\n",
    "    Limpia y estandariza los nombres de las columnas en un DataFrame.\n",
    "\n",
    "    Parameters:\n",
    "    - dataframe: DataFrame de pandas.\n",
    "\n",
    "    Returns:\n",
    "    - DataFrame con nombres de columnas limpios.\n",
    "    \"\"\"\n",
    "    dataframe = dataframe.rename(columns=lambda x: re.sub('[^A-Za-z0-9_]+', '', x))\n",
    "    return dataframe\n",
    "    \n",
    "df1Train = limpiar_nombres_columnas(df1Train)\n",
    "df1Val = limpiar_nombres_columnas(df1Val)"
   ]
  },
  {
   "cell_type": "code",
   "execution_count": 8,
   "metadata": {
    "application/vnd.databricks.v1+cell": {
     "cellMetadata": {
      "byteLimit": 2048000,
      "rowLimit": 10000
     },
     "inputWidgets": {},
     "nuid": "191cdfbb-d0be-46f8-9a90-aea4e8211272",
     "showTitle": false,
     "title": ""
    },
    "tags": []
   },
   "outputs": [
    {
     "name": "stdout",
     "output_type": "stream",
     "text": [
      "Nombres de columnas: ['id_branch', 'id_receiver', 'date_receiver', 'id_location', 'id_payer', 'id_sender_global', 'net_amount_receiver', 'receiver_transaction_count', 'receiver_date_first_transaction', 'receiver_date_last_transaction', 'id_country_receiver_claim', 'id_state_receiver_claim', 'id_state', 'branch_working_days', 'sender_sending_days', 'sender_days_to_last_transaction', 'id_country', 'fraud_classification', 'sender_minutes_since_last_transaction', 'branch_minutes_since_last_transaction', 'sender_days_since_last_transaction', 'branch_trans_3m', 'count_date_receiver_distinct', 'sender_state', 'branch_has_fraud', 'fecha_last_fraud_branch', 'receiver_has_fraud', 'branch_trans_40min', 'branch_trans_10min', 'cash_pick_up_40min', 'location_nro_fraud', 'sender_trans_3m', 'range_hist', 'sender_nro_fraud', 'mes', 'hour_receiver', '01_isMexico', '01_sender_branch_state', '01_var_range_hist', '01_receiver_fraud', '01_branch_fraud', '01_location_fraud', '01_sender_fraud', '01_isCashPick', '01_isBankDep', 'sender_days_to_last_transaction_365', 'sender_days_to_last_transaction_more365', 'sender_days_to_last_transaction_7m', 'sender_days_to_last_transaction_more7m', 'sender_minutes_since_last_transaction_2days', 'sender_minutes_since_last_transaction_1day', '01_receiver_transaction_count', '01_sender_sending_days', '01_branch_working_days', '01_net_amount_receiver', '01_sender_minutes_since_last_transaction_2days', '01_sender_minutes_since_last_transaction_1day', '01_sender_days_to_last_transaction_365', '01_sender_days_to_last_transaction_7m', '01_hour_receiver', 'day_name_receiver_0', 'day_name_receiver_1', 'day_name_receiver_2', 'day_name_receiver_3', 'day_name_receiver_4', 'day_name_receiver_5', 'day_name_receiver_6', 'id_payout_A', 'id_payout_C', 'id_payout_D', 'id_payout_M', 'id_payout_N', 'id_payout_O', 'id_payout_P', 'id_payout_S', 'id_payout_T', 'id_payout_X', 'targetR', 'targetP', 'target']\n"
     ]
    }
   ],
   "source": [
    "#listar las columnas del dataframe\n",
    "\n",
    "def nombres_de_columnas(dataframe):\n",
    "    return dataframe.columns.tolist()\n",
    "\n",
    "# Supongamos que tu DataFrame se llama 'df'\n",
    "# Puedes ajustar el nombre según el que hayas utilizado\n",
    "\n",
    "nombres_columnas = nombres_de_columnas(df1Train)\n",
    "\n",
    "# Imprimir los nombres de las columnas\n",
    "print(f'Nombres de columnas: {nombres_columnas}')\n"
   ]
  },
  {
   "cell_type": "code",
   "execution_count": 10,
   "metadata": {
    "tags": []
   },
   "outputs": [],
   "source": [
    "var_input = ['01_branch_working_days', 'branch_minutes_since_last_transaction',\n",
    "    'branch_trans_3m', 'count_date_receiver_distinct', 'branch_has_fraud', \n",
    "    'receiver_has_fraud', \n",
    "    'branch_trans_40min', 'branch_trans_10min', 'cash_pick_up_40min', \n",
    "    'location_nro_fraud', 'sender_trans_3m', \n",
    "    'sender_nro_fraud','01_isMexico', \n",
    "    '01_sender_branch_state', '01_var_range_hist', '01_receiver_fraud', \n",
    "    '01_branch_fraud', '01_location_fraud', '01_sender_fraud', \n",
    "    '01_isCashPick', '01_isBankDep', \n",
    "    'sender_days_to_last_transaction_more7m', \n",
    "    '01_receiver_transaction_count', '01_sender_sending_days',\n",
    "    '01_branch_working_days', '01_net_amount_receiver', \n",
    "    '01_sender_minutes_since_last_transaction_2days', \n",
    "    '01_sender_days_to_last_transaction_365', \n",
    "    '01_sender_days_to_last_transaction_7m', '01_hour_receiver']\n",
    "    "
   ]
  },
  {
   "cell_type": "code",
   "execution_count": 11,
   "metadata": {
    "application/vnd.databricks.v1+cell": {
     "cellMetadata": {
      "byteLimit": 2048000,
      "rowLimit": 10000
     },
     "inputWidgets": {},
     "nuid": "00b45ce3-0e0c-4a02-b9ea-e39d5307115d",
     "showTitle": false,
     "title": ""
    },
    "tags": []
   },
   "outputs": [],
   "source": [
    "#Ya lo traje dividido en conjuntos de entrenamiento (70%) y prueba (30%)\n",
    "\n",
    "X_train = df1Train[var_input]\n",
    "X_test = df1Val[var_input] \n",
    "y_train =  pd.DataFrame(df1Train['target']) \n",
    "y_test = pd.DataFrame(df1Val['target']) \n",
    "\n",
    "#Uni test y Val\n",
    "X = pd.concat([df1Train[var_input], df1Val[var_input]], ignore_index=True) \n",
    "Y = pd.DataFrame(pd.concat([df1Train['target'], df1Val['target']], ignore_index=True)) \n"
   ]
  },
  {
   "cell_type": "code",
   "execution_count": 14,
   "metadata": {
    "application/vnd.databricks.v1+cell": {
     "cellMetadata": {
      "byteLimit": 2048000,
      "rowLimit": 10000
     },
     "inputWidgets": {},
     "nuid": "b55cb26d-4d58-4906-9a8c-9ab7be44df3b",
     "showTitle": false,
     "title": ""
    },
    "tags": []
   },
   "outputs": [
    {
     "data": {
      "text/plain": [
       "0.003557576657705161"
      ]
     },
     "execution_count": 14,
     "metadata": {},
     "output_type": "execute_result"
    }
   ],
   "source": [
    "def calcular_porcentaje_valor_1(columna):\n",
    "    \"\"\"\n",
    "    Calcula el porcentaje de ocurrencia del valor 1 en una columna dicotómica.\n",
    "\n",
    "    Parameters:\n",
    "    - columna: Columna con valores binarios (0 o 1).\n",
    "\n",
    "    Returns:\n",
    "    - Porcentaje de ocurrencia del valor 1.\n",
    "    \"\"\"\n",
    "\n",
    "    total_registros = len(columna)\n",
    "    ocurrencias_valor_1 = columna.sum()\n",
    "\n",
    "    porcentaje_valor_1 = (ocurrencias_valor_1 / total_registros) * 100\n",
    "\n",
    "    return porcentaje_valor_1\n",
    "porcentaje_1 = calcular_porcentaje_valor_1(Y['target'])\n",
    "porcentaje_1"
   ]
  },
  {
   "cell_type": "markdown",
   "metadata": {
    "application/vnd.databricks.v1+cell": {
     "cellMetadata": {
      "byteLimit": 2048000,
      "rowLimit": 10000
     },
     "inputWidgets": {},
     "nuid": "9612dbfc-6d13-4319-a1a4-713b5142d0b4",
     "showTitle": false,
     "title": ""
    }
   },
   "source": [
    "## Training"
   ]
  },
  {
   "cell_type": "code",
   "execution_count": 12,
   "metadata": {
    "application/vnd.databricks.v1+cell": {
     "cellMetadata": {
      "byteLimit": 2048000,
      "rowLimit": 10000
     },
     "inputWidgets": {},
     "nuid": "c5b13dbe-2dbc-4cf6-8288-e8d8eade6fb6",
     "showTitle": false,
     "title": ""
    },
    "tags": []
   },
   "outputs": [],
   "source": [
    "# Dividir el conjunto de datos en conjuntos de entrenamiento (80%) y prueba (20%)\n",
    "# X_train: características de entrenamiento, X_test: características de prueba\n",
    "# y_train: etiquetas de entrenamiento, y_test: etiquetas de prueba\n",
    "# Se utiliza un 20% de los datos para prueba, y se fija la semilla aleatoria en 88 para reproducibilidad.\n",
    "\n",
    "X_train, X_test, y_train, y_test = train_test_split(X, Y, test_size = 0.2, random_state = 88) "
   ]
  },
  {
   "cell_type": "code",
   "execution_count": 13,
   "metadata": {
    "application/vnd.databricks.v1+cell": {
     "cellMetadata": {
      "byteLimit": 2048000,
      "rowLimit": 10000
     },
     "inputWidgets": {},
     "nuid": "4ffb2573-b439-4e55-8d72-d3080e43a6b3",
     "showTitle": false,
     "title": ""
    },
    "tags": []
   },
   "outputs": [],
   "source": [
    "fit_parameters = {\n",
    "    #\"early_stopping_rounds\": 30,           # Number of rounds to stop train when there is no more improvement\n",
    "    \"eval_metric\": 'logloss',              # Metric for evaluation\n",
    "    \"eval_set\": [(X_test, y_test)],        # Dataset for evaluation during training\n",
    "    'eval_names': ['valid'],               # Name for validation set\n",
    "    #'verbose': 100,                        # Log level of output during training\n",
    "}"
   ]
  },
  {
   "cell_type": "code",
   "execution_count": null,
   "metadata": {
    "application/vnd.databricks.v1+cell": {
     "cellMetadata": {
      "byteLimit": 2048000,
      "rowLimit": 10000
     },
     "inputWidgets": {},
     "nuid": "419b3f45-3007-4e2a-9695-bfafa06d672c",
     "showTitle": false,
     "title": ""
    },
    "tags": []
   },
   "outputs": [],
   "source": [
    "# Parameters for hiperparamenter search (RandomizedSearchCV)\n",
    "param_testeo = {\n",
    "    \"n_estimators\": [5, 10, 15, 20, 25, 30, 35, 50, 100, 150, 300, 400, 500, 510, 520],\n",
    "    # Number of estimatores (trees) to fit\n",
    "\n",
    "    \"num_leaves\": [2, 3, 4, 6, 10, 20, 25, 28, 30, 31, 32, 33, 35, 40, 45],\n",
    "    # Maximun number of node leaves\n",
    "\n",
    "    \"max_depth\": [10, 15, 16, 17, 18, 19, 20, 21, 22, 23, 24, 25, 26, 28, 30, 35, 100, 125, 150, 170, 200, 250, 300, 400],\n",
    "    # Maximun tree depth\n",
    "\n",
    "    \"colsample_bytree\": [0.50, 0.55, 0.6, 0.65, 0.68, 0.70, 0.71, 0.80, 0.81, 0.84, 0.85, 0.86, 0.9],\n",
    "    # Subsample ratio of columns when constructing each tree\n",
    "\n",
    "    \"min_child_weight\": [0.001, 0.002, 0.0025, 0.0026, 0.0027, 0.003, 0.004, 0.005, 0.007, 0.008, 0.009],\n",
    "    # Minimun weight necessary to create new node \n",
    "\n",
    "    \"learning_rate\": [0.1, 0.02, 0.03, 0.04, 0.07, 0.005, 0.003, 0.001],\n",
    "    # Learning rate of model\n",
    "\n",
    "    'subsample': [1],\n",
    "    # Percentage of rows used per tree building operation\n",
    "\n",
    "    \"objective\": ['binary'],\n",
    "    # Problem to solve. Binary classification in this case\n",
    "\n",
    "    \"importance_type\": [\"gini\", \"entropy\"],\n",
    "    # Importante type for characteristics\n",
    "\n",
    "    \"boosting_type\": [\"dart\", \"goss\", \"rf\", \"gbdt\"],\n",
    "    # boosting type to evaluate\n",
    "    \n",
    "    #\"is_unbalance\": ['True'],\n",
    "\n",
    "    \"scale_pos_weight\" : [0.002, 0.003, 0.004] ,\n",
    "    \n",
    "    \"force_col_wise\" : ['True'],\n",
    "}\n"
   ]
  },
  {
   "cell_type": "markdown",
   "metadata": {},
   "source": [
    "{'subsample': 1,\n",
    " 'scale_pos_weight': 0.002,\n",
    " 'objective': 'binary',\n",
    " 'num_leaves': 30,\n",
    " 'n_estimators': 500,\n",
    " 'min_child_weight': 0.0027,\n",
    " 'max_depth': 25,\n",
    " 'learning_rate': 0.07,\n",
    " 'importance_type': 'gini',\n",
    " 'colsample_bytree': 0.65,\n",
    " 'boosting_type': 'gbdt'}"
   ]
  },
  {
   "cell_type": "code",
   "execution_count": null,
   "metadata": {
    "application/vnd.databricks.v1+cell": {
     "cellMetadata": {
      "byteLimit": 2048000,
      "rowLimit": 10000
     },
     "inputWidgets": {},
     "nuid": "4f395c07-c0d3-41f5-abb4-e795e5ec160a",
     "showTitle": false,
     "title": ""
    },
    "tags": []
   },
   "outputs": [],
   "source": [
    "# Parameters for hiperparamenter search (RandomizedSearchCV) restricted to the first result obtained\n",
    "param_testeoB = {\n",
    "    \"n_estimators\": [460, 480, 400,  500, 510, 520, 530],\n",
    "    # Number of estimatores (trees) to fit\n",
    "\n",
    "    \"num_leaves\": [ 25, 26, 28, 30, 32, 34, 35],\n",
    "    # Maximun number of node leaves\n",
    "\n",
    "    \"max_depth\": [ 17, 18, 19, 20, 21, 22, 23],\n",
    "    # Maximun tree depth\n",
    "\n",
    "    \"colsample_bytree\": [ 0.82 ,0.83, 0.84, 0.86, 0.87],\n",
    "    # Subsample ratio of columns when constructing each tree\n",
    "\n",
    "    \"min_child_weight\": [ 0.0025, 0.0026, 0.0027, 0.0031, 0.0033 ],\n",
    "    # Minimun weight necessary to create new node \n",
    "\n",
    "    \"learning_rate\": [0.05, 0.06, 0.07, 0.08, 0.09],\n",
    "    # Learning rate of model\n",
    "\n",
    "    'subsample': [1],\n",
    "    # Percentage of rows used per tree building operation\n",
    "\n",
    "    \"objective\": ['binary'],\n",
    "    # Problem to solve. Binary classification in this case\n",
    "\n",
    "    \"importance_type\": [\"gini\", \"entropy\"],\n",
    "    # Importante type for characteristics\n",
    "\n",
    "    \"boosting_type\": [\"dart\", \"goss\", \"rf\", \"gbdt\"],\n",
    "    # boosting type to evaluate\n",
    "    \n",
    "    #\"is_unbalance\": ['True'],\n",
    "\n",
    "    \"scale_pos_weight\" : [0.002, 0.003, 0.004] ,\n",
    "    \n",
    "    \"force_col_wise\" : ['True'],\n",
    "}\n"
   ]
  },
  {
   "cell_type": "code",
   "execution_count": 15,
   "metadata": {
    "application/vnd.databricks.v1+cell": {
     "cellMetadata": {
      "byteLimit": 2048000,
      "rowLimit": 10000
     },
     "inputWidgets": {},
     "nuid": "28b5e1a0-8b10-4d1d-8d27-9e0915578d16",
     "showTitle": false,
     "title": ""
    },
    "tags": []
   },
   "outputs": [],
   "source": [
    "# This parameter defines the number of hiperparameters points to be tested\n",
    "n_HP_points_to_test = 100\n"
   ]
  },
  {
   "cell_type": "code",
   "execution_count": 16,
   "metadata": {
    "application/vnd.databricks.v1+cell": {
     "cellMetadata": {
      "byteLimit": 2048000,
      "rowLimit": 10000
     },
     "inputWidgets": {},
     "nuid": "dbb03a6e-bd9c-4bd7-bf0e-981e82c3e2b5",
     "showTitle": false,
     "title": ""
    },
    "tags": []
   },
   "outputs": [],
   "source": [
    "def entrenar_modelo_con_busqueda_aleatoria(X, Y, fit_parameters, param_testeo, n_HP_points_to_test=100, random_state=87):\n",
    "    \"\"\"\n",
    "    Entrena un modelo utilizando LightGBM con búsqueda aleatoria de hiperparámetros.\n",
    "\n",
    "    Parameters:\n",
    "    - X: Características del conjunto de datos.\n",
    "    - Y: Etiquetas del conjunto de datos.\n",
    "    - fit_parameters: Parámetros para el entrenamiento y evaluación del modelo.\n",
    "    - param_testeo: Parámetros para la búsqueda aleatoria de hiperparámetros.\n",
    "    - n_HP_points_to_test: Número de combinaciones de hiperparámetros a probar (predeterminado: 100).\n",
    "    - random_state: Semilla aleatoria para reproducibilidad (predeterminado: 87).\n",
    "\n",
    "    Returns:\n",
    "    - Objeto de resultados de RandomizedSearchCV.\n",
    "    \"\"\"\n",
    "    X_train, X_test, y_train, y_test = train_test_split(X, Y, test_size=0.2, random_state=random_state)\n",
    "\n",
    "    # Clean column names calling function limpiar_nombres_columnas\n",
    "    X_train = limpiar_nombres_columnas(X_train)\n",
    "    X_test = limpiar_nombres_columnas(X_test)\n",
    "\n",
    "    # Create clasifier LightGBM and perform parametric search of hyperparameters\n",
    "    lgbm = LGBMClassifier(random_state=random_state)\n",
    "    result_trainRandom = RandomizedSearchCV(\n",
    "                        estimator=lgbm, \n",
    "                        param_distributions=param_testeo, \n",
    "                        n_iter=n_HP_points_to_test,\n",
    "                        scoring='f1_micro',\n",
    "                        cv=3,\n",
    "                        refit=True,\n",
    "                        random_state=random_state,\n",
    "                        verbose=True)\n",
    "\n",
    "    # Train model using train data and parampeters\n",
    "    result_trainRandom.fit(X_train, y_train.values.ravel(), **fit_parameters)\n",
    "\n",
    "    return result_trainRandom\n",
    "   \n"
   ]
  },
  {
   "cell_type": "code",
   "execution_count": null,
   "metadata": {
    "application/vnd.databricks.v1+cell": {
     "cellMetadata": {
      "byteLimit": 2048000,
      "rowLimit": 10000
     },
     "inputWidgets": {},
     "nuid": "4ebf1652-f079-404e-92fb-1b6cb5fd1805",
     "showTitle": false,
     "title": ""
    },
    "tags": []
   },
   "outputs": [],
   "source": [
    "#result = entrenar_modelo_con_busqueda_aleatoria(X, Y, fit_parameters, param_testeo, n_HP_points_to_test=100, random_state=87)"
   ]
  },
  {
   "cell_type": "code",
   "execution_count": null,
   "metadata": {
    "tags": []
   },
   "outputs": [],
   "source": [
    "result.best_params_"
   ]
  },
  {
   "cell_type": "code",
   "execution_count": 21,
   "metadata": {
    "tags": []
   },
   "outputs": [],
   "source": [
    "# Train model with best hyperparameters found in search\n",
    "lgb_classifier = LGBMClassifier(**result.best_params_)"
   ]
  },
  {
   "cell_type": "code",
   "execution_count": 17,
   "metadata": {
    "tags": []
   },
   "outputs": [],
   "source": [
    "# Set parameters for model\n",
    "best_params_ = {'subsample': 1,\n",
    " 'scale_pos_weight': 0.003,\n",
    " 'objective': 'binary',\n",
    " 'num_leaves': 30,\n",
    " 'n_estimators': 520,\n",
    " 'min_child_weight': 0.0026,\n",
    " 'max_depth': 20,\n",
    " 'learning_rate': 0.07,\n",
    " 'importance_type': 'gini',\n",
    " 'colsample_bytree': 0.84,\n",
    " 'boosting_type': 'gbdt'}\n",
    "\n",
    "lgb_classifier = LGBMClassifier(**best_params_)"
   ]
  },
  {
   "cell_type": "code",
   "execution_count": 18,
   "metadata": {
    "tags": []
   },
   "outputs": [
    {
     "data": {
      "text/html": [
       "<div>\n",
       "<style scoped>\n",
       "    .dataframe tbody tr th:only-of-type {\n",
       "        vertical-align: middle;\n",
       "    }\n",
       "\n",
       "    .dataframe tbody tr th {\n",
       "        vertical-align: top;\n",
       "    }\n",
       "\n",
       "    .dataframe thead th {\n",
       "        text-align: right;\n",
       "    }\n",
       "</style>\n",
       "<table border=\"1\" class=\"dataframe\">\n",
       "  <thead>\n",
       "    <tr style=\"text-align: right;\">\n",
       "      <th></th>\n",
       "      <th>01_branch_working_days</th>\n",
       "      <th>branch_minutes_since_last_transaction</th>\n",
       "      <th>branch_trans_3m</th>\n",
       "      <th>count_date_receiver_distinct</th>\n",
       "      <th>branch_has_fraud</th>\n",
       "      <th>receiver_has_fraud</th>\n",
       "      <th>branch_trans_40min</th>\n",
       "      <th>branch_trans_10min</th>\n",
       "      <th>cash_pick_up_40min</th>\n",
       "      <th>location_nro_fraud</th>\n",
       "      <th>sender_trans_3m</th>\n",
       "      <th>sender_nro_fraud</th>\n",
       "      <th>01_isMexico</th>\n",
       "      <th>01_sender_branch_state</th>\n",
       "      <th>01_var_range_hist</th>\n",
       "      <th>01_receiver_fraud</th>\n",
       "      <th>01_branch_fraud</th>\n",
       "      <th>01_location_fraud</th>\n",
       "      <th>01_sender_fraud</th>\n",
       "      <th>01_isCashPick</th>\n",
       "      <th>01_isBankDep</th>\n",
       "      <th>sender_days_to_last_transaction_more7m</th>\n",
       "      <th>01_receiver_transaction_count</th>\n",
       "      <th>01_sender_sending_days</th>\n",
       "      <th>01_branch_working_days</th>\n",
       "      <th>01_net_amount_receiver</th>\n",
       "      <th>01_sender_minutes_since_last_transaction_2days</th>\n",
       "      <th>01_sender_days_to_last_transaction_365</th>\n",
       "      <th>01_sender_days_to_last_transaction_7m</th>\n",
       "      <th>01_hour_receiver</th>\n",
       "    </tr>\n",
       "  </thead>\n",
       "  <tbody>\n",
       "    <tr>\n",
       "      <th>7373245</th>\n",
       "      <td>0.648164</td>\n",
       "      <td>1.0</td>\n",
       "      <td>5367.0</td>\n",
       "      <td>90.0</td>\n",
       "      <td>0</td>\n",
       "      <td>0</td>\n",
       "      <td>4</td>\n",
       "      <td>2</td>\n",
       "      <td>3</td>\n",
       "      <td>0</td>\n",
       "      <td>11.0</td>\n",
       "      <td>0</td>\n",
       "      <td>False</td>\n",
       "      <td>True</td>\n",
       "      <td>0.716714</td>\n",
       "      <td>False</td>\n",
       "      <td>False</td>\n",
       "      <td>False</td>\n",
       "      <td>False</td>\n",
       "      <td>True</td>\n",
       "      <td>False</td>\n",
       "      <td>0</td>\n",
       "      <td>0.069307</td>\n",
       "      <td>0.701786</td>\n",
       "      <td>0.648164</td>\n",
       "      <td>0.033213</td>\n",
       "      <td>0.000347</td>\n",
       "      <td>0.000000</td>\n",
       "      <td>0.000000</td>\n",
       "      <td>0.583333</td>\n",
       "    </tr>\n",
       "    <tr>\n",
       "      <th>9622345</th>\n",
       "      <td>0.102633</td>\n",
       "      <td>21.0</td>\n",
       "      <td>2525.0</td>\n",
       "      <td>78.0</td>\n",
       "      <td>0</td>\n",
       "      <td>0</td>\n",
       "      <td>3</td>\n",
       "      <td>1</td>\n",
       "      <td>1</td>\n",
       "      <td>0</td>\n",
       "      <td>1.0</td>\n",
       "      <td>0</td>\n",
       "      <td>True</td>\n",
       "      <td>True</td>\n",
       "      <td>1.000000</td>\n",
       "      <td>False</td>\n",
       "      <td>False</td>\n",
       "      <td>False</td>\n",
       "      <td>False</td>\n",
       "      <td>True</td>\n",
       "      <td>False</td>\n",
       "      <td>0</td>\n",
       "      <td>0.049505</td>\n",
       "      <td>0.869643</td>\n",
       "      <td>0.102633</td>\n",
       "      <td>0.198556</td>\n",
       "      <td>0.000000</td>\n",
       "      <td>0.402740</td>\n",
       "      <td>0.700000</td>\n",
       "      <td>0.458333</td>\n",
       "    </tr>\n",
       "    <tr>\n",
       "      <th>14154772</th>\n",
       "      <td>0.034714</td>\n",
       "      <td>6.0</td>\n",
       "      <td>290.0</td>\n",
       "      <td>37.0</td>\n",
       "      <td>0</td>\n",
       "      <td>1</td>\n",
       "      <td>2</td>\n",
       "      <td>2</td>\n",
       "      <td>2</td>\n",
       "      <td>0</td>\n",
       "      <td>1.0</td>\n",
       "      <td>0</td>\n",
       "      <td>False</td>\n",
       "      <td>True</td>\n",
       "      <td>1.000000</td>\n",
       "      <td>True</td>\n",
       "      <td>False</td>\n",
       "      <td>False</td>\n",
       "      <td>False</td>\n",
       "      <td>True</td>\n",
       "      <td>False</td>\n",
       "      <td>0</td>\n",
       "      <td>0.000000</td>\n",
       "      <td>NaN</td>\n",
       "      <td>0.034714</td>\n",
       "      <td>0.216606</td>\n",
       "      <td>0.000000</td>\n",
       "      <td>NaN</td>\n",
       "      <td>NaN</td>\n",
       "      <td>0.708333</td>\n",
       "    </tr>\n",
       "    <tr>\n",
       "      <th>4701686</th>\n",
       "      <td>0.020795</td>\n",
       "      <td>1230.0</td>\n",
       "      <td>45.0</td>\n",
       "      <td>18.0</td>\n",
       "      <td>0</td>\n",
       "      <td>1</td>\n",
       "      <td>1</td>\n",
       "      <td>1</td>\n",
       "      <td>1</td>\n",
       "      <td>0</td>\n",
       "      <td>1.0</td>\n",
       "      <td>0</td>\n",
       "      <td>False</td>\n",
       "      <td>True</td>\n",
       "      <td>1.000000</td>\n",
       "      <td>True</td>\n",
       "      <td>False</td>\n",
       "      <td>False</td>\n",
       "      <td>False</td>\n",
       "      <td>True</td>\n",
       "      <td>False</td>\n",
       "      <td>0</td>\n",
       "      <td>0.000000</td>\n",
       "      <td>NaN</td>\n",
       "      <td>0.020795</td>\n",
       "      <td>0.036101</td>\n",
       "      <td>0.000000</td>\n",
       "      <td>NaN</td>\n",
       "      <td>NaN</td>\n",
       "      <td>0.583333</td>\n",
       "    </tr>\n",
       "    <tr>\n",
       "      <th>14604943</th>\n",
       "      <td>0.141875</td>\n",
       "      <td>5.0</td>\n",
       "      <td>3297.0</td>\n",
       "      <td>79.0</td>\n",
       "      <td>0</td>\n",
       "      <td>0</td>\n",
       "      <td>9</td>\n",
       "      <td>3</td>\n",
       "      <td>4</td>\n",
       "      <td>0</td>\n",
       "      <td>15.0</td>\n",
       "      <td>0</td>\n",
       "      <td>False</td>\n",
       "      <td>True</td>\n",
       "      <td>0.661765</td>\n",
       "      <td>False</td>\n",
       "      <td>False</td>\n",
       "      <td>False</td>\n",
       "      <td>False</td>\n",
       "      <td>True</td>\n",
       "      <td>False</td>\n",
       "      <td>0</td>\n",
       "      <td>0.138614</td>\n",
       "      <td>0.157143</td>\n",
       "      <td>0.141875</td>\n",
       "      <td>0.054152</td>\n",
       "      <td>0.000000</td>\n",
       "      <td>0.016438</td>\n",
       "      <td>0.028571</td>\n",
       "      <td>0.750000</td>\n",
       "    </tr>\n",
       "  </tbody>\n",
       "</table>\n",
       "</div>"
      ],
      "text/plain": [
       "          01_branch_working_days  branch_minutes_since_last_transaction  \\\n",
       "7373245                 0.648164                                    1.0   \n",
       "9622345                 0.102633                                   21.0   \n",
       "14154772                0.034714                                    6.0   \n",
       "4701686                 0.020795                                 1230.0   \n",
       "14604943                0.141875                                    5.0   \n",
       "\n",
       "          branch_trans_3m  count_date_receiver_distinct  branch_has_fraud  \\\n",
       "7373245            5367.0                          90.0                 0   \n",
       "9622345            2525.0                          78.0                 0   \n",
       "14154772            290.0                          37.0                 0   \n",
       "4701686              45.0                          18.0                 0   \n",
       "14604943           3297.0                          79.0                 0   \n",
       "\n",
       "          receiver_has_fraud  branch_trans_40min  branch_trans_10min  \\\n",
       "7373245                    0                   4                   2   \n",
       "9622345                    0                   3                   1   \n",
       "14154772                   1                   2                   2   \n",
       "4701686                    1                   1                   1   \n",
       "14604943                   0                   9                   3   \n",
       "\n",
       "          cash_pick_up_40min  location_nro_fraud  sender_trans_3m  \\\n",
       "7373245                    3                   0             11.0   \n",
       "9622345                    1                   0              1.0   \n",
       "14154772                   2                   0              1.0   \n",
       "4701686                    1                   0              1.0   \n",
       "14604943                   4                   0             15.0   \n",
       "\n",
       "          sender_nro_fraud  01_isMexico  01_sender_branch_state  \\\n",
       "7373245                  0        False                    True   \n",
       "9622345                  0         True                    True   \n",
       "14154772                 0        False                    True   \n",
       "4701686                  0        False                    True   \n",
       "14604943                 0        False                    True   \n",
       "\n",
       "          01_var_range_hist  01_receiver_fraud  01_branch_fraud  \\\n",
       "7373245            0.716714              False            False   \n",
       "9622345            1.000000              False            False   \n",
       "14154772           1.000000               True            False   \n",
       "4701686            1.000000               True            False   \n",
       "14604943           0.661765              False            False   \n",
       "\n",
       "          01_location_fraud  01_sender_fraud  01_isCashPick  01_isBankDep  \\\n",
       "7373245               False            False           True         False   \n",
       "9622345               False            False           True         False   \n",
       "14154772              False            False           True         False   \n",
       "4701686               False            False           True         False   \n",
       "14604943              False            False           True         False   \n",
       "\n",
       "          sender_days_to_last_transaction_more7m  \\\n",
       "7373245                                        0   \n",
       "9622345                                        0   \n",
       "14154772                                       0   \n",
       "4701686                                        0   \n",
       "14604943                                       0   \n",
       "\n",
       "          01_receiver_transaction_count  01_sender_sending_days  \\\n",
       "7373245                        0.069307                0.701786   \n",
       "9622345                        0.049505                0.869643   \n",
       "14154772                       0.000000                     NaN   \n",
       "4701686                        0.000000                     NaN   \n",
       "14604943                       0.138614                0.157143   \n",
       "\n",
       "          01_branch_working_days  01_net_amount_receiver  \\\n",
       "7373245                 0.648164                0.033213   \n",
       "9622345                 0.102633                0.198556   \n",
       "14154772                0.034714                0.216606   \n",
       "4701686                 0.020795                0.036101   \n",
       "14604943                0.141875                0.054152   \n",
       "\n",
       "          01_sender_minutes_since_last_transaction_2days  \\\n",
       "7373245                                         0.000347   \n",
       "9622345                                         0.000000   \n",
       "14154772                                        0.000000   \n",
       "4701686                                         0.000000   \n",
       "14604943                                        0.000000   \n",
       "\n",
       "          01_sender_days_to_last_transaction_365  \\\n",
       "7373245                                 0.000000   \n",
       "9622345                                 0.402740   \n",
       "14154772                                     NaN   \n",
       "4701686                                      NaN   \n",
       "14604943                                0.016438   \n",
       "\n",
       "          01_sender_days_to_last_transaction_7m  01_hour_receiver  \n",
       "7373245                                0.000000          0.583333  \n",
       "9622345                                0.700000          0.458333  \n",
       "14154772                                    NaN          0.708333  \n",
       "4701686                                     NaN          0.583333  \n",
       "14604943                               0.028571          0.750000  "
      ]
     },
     "execution_count": 18,
     "metadata": {},
     "output_type": "execute_result"
    }
   ],
   "source": [
    "X_train.head()"
   ]
  },
  {
   "cell_type": "code",
   "execution_count": 19,
   "metadata": {
    "tags": []
   },
   "outputs": [
    {
     "data": {
      "text/html": [
       "<div>\n",
       "<style scoped>\n",
       "    .dataframe tbody tr th:only-of-type {\n",
       "        vertical-align: middle;\n",
       "    }\n",
       "\n",
       "    .dataframe tbody tr th {\n",
       "        vertical-align: top;\n",
       "    }\n",
       "\n",
       "    .dataframe thead th {\n",
       "        text-align: right;\n",
       "    }\n",
       "</style>\n",
       "<table border=\"1\" class=\"dataframe\">\n",
       "  <thead>\n",
       "    <tr style=\"text-align: right;\">\n",
       "      <th></th>\n",
       "      <th>01_branch_working_days</th>\n",
       "      <th>branch_minutes_since_last_transaction</th>\n",
       "      <th>branch_trans_3m</th>\n",
       "      <th>count_date_receiver_distinct</th>\n",
       "      <th>branch_has_fraud</th>\n",
       "      <th>receiver_has_fraud</th>\n",
       "      <th>branch_trans_40min</th>\n",
       "      <th>branch_trans_10min</th>\n",
       "      <th>cash_pick_up_40min</th>\n",
       "      <th>location_nro_fraud</th>\n",
       "      <th>sender_trans_3m</th>\n",
       "      <th>sender_nro_fraud</th>\n",
       "      <th>01_isMexico</th>\n",
       "      <th>01_sender_branch_state</th>\n",
       "      <th>01_var_range_hist</th>\n",
       "      <th>01_receiver_fraud</th>\n",
       "      <th>01_branch_fraud</th>\n",
       "      <th>01_location_fraud</th>\n",
       "      <th>01_sender_fraud</th>\n",
       "      <th>01_isCashPick</th>\n",
       "      <th>01_isBankDep</th>\n",
       "      <th>sender_days_to_last_transaction_more7m</th>\n",
       "      <th>01_receiver_transaction_count</th>\n",
       "      <th>01_sender_sending_days</th>\n",
       "      <th>01_branch_working_days</th>\n",
       "      <th>01_net_amount_receiver</th>\n",
       "      <th>01_sender_minutes_since_last_transaction_2days</th>\n",
       "      <th>01_sender_days_to_last_transaction_365</th>\n",
       "      <th>01_sender_days_to_last_transaction_7m</th>\n",
       "      <th>01_hour_receiver</th>\n",
       "    </tr>\n",
       "  </thead>\n",
       "  <tbody>\n",
       "    <tr>\n",
       "      <th>0</th>\n",
       "      <td>0.187993</td>\n",
       "      <td>3.0</td>\n",
       "      <td>14731.0</td>\n",
       "      <td>92.0</td>\n",
       "      <td>0</td>\n",
       "      <td>0</td>\n",
       "      <td>18</td>\n",
       "      <td>4</td>\n",
       "      <td>12</td>\n",
       "      <td>0</td>\n",
       "      <td>3.0</td>\n",
       "      <td>0</td>\n",
       "      <td>False</td>\n",
       "      <td>True</td>\n",
       "      <td>0.511364</td>\n",
       "      <td>False</td>\n",
       "      <td>False</td>\n",
       "      <td>False</td>\n",
       "      <td>False</td>\n",
       "      <td>True</td>\n",
       "      <td>False</td>\n",
       "      <td>0</td>\n",
       "      <td>0.168317</td>\n",
       "      <td>0.676786</td>\n",
       "      <td>0.187993</td>\n",
       "      <td>0.021661</td>\n",
       "      <td>0.000000</td>\n",
       "      <td>0.046575</td>\n",
       "      <td>0.080952</td>\n",
       "      <td>0.750000</td>\n",
       "    </tr>\n",
       "    <tr>\n",
       "      <th>1</th>\n",
       "      <td>0.235452</td>\n",
       "      <td>15.0</td>\n",
       "      <td>5333.0</td>\n",
       "      <td>91.0</td>\n",
       "      <td>0</td>\n",
       "      <td>0</td>\n",
       "      <td>2</td>\n",
       "      <td>1</td>\n",
       "      <td>2</td>\n",
       "      <td>0</td>\n",
       "      <td>3.0</td>\n",
       "      <td>0</td>\n",
       "      <td>True</td>\n",
       "      <td>True</td>\n",
       "      <td>1.000000</td>\n",
       "      <td>False</td>\n",
       "      <td>False</td>\n",
       "      <td>False</td>\n",
       "      <td>False</td>\n",
       "      <td>True</td>\n",
       "      <td>False</td>\n",
       "      <td>0</td>\n",
       "      <td>0.455446</td>\n",
       "      <td>0.726786</td>\n",
       "      <td>0.235452</td>\n",
       "      <td>0.361011</td>\n",
       "      <td>0.000000</td>\n",
       "      <td>0.021918</td>\n",
       "      <td>0.038095</td>\n",
       "      <td>0.708333</td>\n",
       "    </tr>\n",
       "    <tr>\n",
       "      <th>2</th>\n",
       "      <td>0.024317</td>\n",
       "      <td>1.0</td>\n",
       "      <td>1760.0</td>\n",
       "      <td>48.0</td>\n",
       "      <td>0</td>\n",
       "      <td>0</td>\n",
       "      <td>7</td>\n",
       "      <td>4</td>\n",
       "      <td>6</td>\n",
       "      <td>0</td>\n",
       "      <td>10.0</td>\n",
       "      <td>0</td>\n",
       "      <td>True</td>\n",
       "      <td>True</td>\n",
       "      <td>0.265957</td>\n",
       "      <td>False</td>\n",
       "      <td>False</td>\n",
       "      <td>False</td>\n",
       "      <td>False</td>\n",
       "      <td>True</td>\n",
       "      <td>False</td>\n",
       "      <td>0</td>\n",
       "      <td>0.059406</td>\n",
       "      <td>0.087500</td>\n",
       "      <td>0.024317</td>\n",
       "      <td>0.054152</td>\n",
       "      <td>0.000347</td>\n",
       "      <td>0.000000</td>\n",
       "      <td>0.000000</td>\n",
       "      <td>0.750000</td>\n",
       "    </tr>\n",
       "    <tr>\n",
       "      <th>3</th>\n",
       "      <td>0.886970</td>\n",
       "      <td>2.0</td>\n",
       "      <td>3289.0</td>\n",
       "      <td>90.0</td>\n",
       "      <td>0</td>\n",
       "      <td>0</td>\n",
       "      <td>8</td>\n",
       "      <td>2</td>\n",
       "      <td>7</td>\n",
       "      <td>0</td>\n",
       "      <td>10.0</td>\n",
       "      <td>0</td>\n",
       "      <td>False</td>\n",
       "      <td>True</td>\n",
       "      <td>0.828083</td>\n",
       "      <td>False</td>\n",
       "      <td>False</td>\n",
       "      <td>False</td>\n",
       "      <td>False</td>\n",
       "      <td>True</td>\n",
       "      <td>False</td>\n",
       "      <td>0</td>\n",
       "      <td>0.029703</td>\n",
       "      <td>0.882143</td>\n",
       "      <td>0.886970</td>\n",
       "      <td>0.033213</td>\n",
       "      <td>0.000694</td>\n",
       "      <td>0.000000</td>\n",
       "      <td>0.000000</td>\n",
       "      <td>0.750000</td>\n",
       "    </tr>\n",
       "    <tr>\n",
       "      <th>4</th>\n",
       "      <td>0.245682</td>\n",
       "      <td>746.0</td>\n",
       "      <td>8351.0</td>\n",
       "      <td>93.0</td>\n",
       "      <td>0</td>\n",
       "      <td>0</td>\n",
       "      <td>1</td>\n",
       "      <td>1</td>\n",
       "      <td>1</td>\n",
       "      <td>0</td>\n",
       "      <td>9.0</td>\n",
       "      <td>0</td>\n",
       "      <td>True</td>\n",
       "      <td>True</td>\n",
       "      <td>1.717557</td>\n",
       "      <td>False</td>\n",
       "      <td>False</td>\n",
       "      <td>False</td>\n",
       "      <td>False</td>\n",
       "      <td>True</td>\n",
       "      <td>False</td>\n",
       "      <td>0</td>\n",
       "      <td>0.287129</td>\n",
       "      <td>0.764286</td>\n",
       "      <td>0.245682</td>\n",
       "      <td>0.361011</td>\n",
       "      <td>0.000000</td>\n",
       "      <td>0.038356</td>\n",
       "      <td>0.066667</td>\n",
       "      <td>0.375000</td>\n",
       "    </tr>\n",
       "  </tbody>\n",
       "</table>\n",
       "</div>"
      ],
      "text/plain": [
       "   01_branch_working_days  branch_minutes_since_last_transaction  \\\n",
       "0                0.187993                                    3.0   \n",
       "1                0.235452                                   15.0   \n",
       "2                0.024317                                    1.0   \n",
       "3                0.886970                                    2.0   \n",
       "4                0.245682                                  746.0   \n",
       "\n",
       "   branch_trans_3m  count_date_receiver_distinct  branch_has_fraud  \\\n",
       "0          14731.0                          92.0                 0   \n",
       "1           5333.0                          91.0                 0   \n",
       "2           1760.0                          48.0                 0   \n",
       "3           3289.0                          90.0                 0   \n",
       "4           8351.0                          93.0                 0   \n",
       "\n",
       "   receiver_has_fraud  branch_trans_40min  branch_trans_10min  \\\n",
       "0                   0                  18                   4   \n",
       "1                   0                   2                   1   \n",
       "2                   0                   7                   4   \n",
       "3                   0                   8                   2   \n",
       "4                   0                   1                   1   \n",
       "\n",
       "   cash_pick_up_40min  location_nro_fraud  sender_trans_3m  sender_nro_fraud  \\\n",
       "0                  12                   0              3.0                 0   \n",
       "1                   2                   0              3.0                 0   \n",
       "2                   6                   0             10.0                 0   \n",
       "3                   7                   0             10.0                 0   \n",
       "4                   1                   0              9.0                 0   \n",
       "\n",
       "   01_isMexico  01_sender_branch_state  01_var_range_hist  01_receiver_fraud  \\\n",
       "0        False                    True           0.511364              False   \n",
       "1         True                    True           1.000000              False   \n",
       "2         True                    True           0.265957              False   \n",
       "3        False                    True           0.828083              False   \n",
       "4         True                    True           1.717557              False   \n",
       "\n",
       "   01_branch_fraud  01_location_fraud  01_sender_fraud  01_isCashPick  \\\n",
       "0            False              False            False           True   \n",
       "1            False              False            False           True   \n",
       "2            False              False            False           True   \n",
       "3            False              False            False           True   \n",
       "4            False              False            False           True   \n",
       "\n",
       "   01_isBankDep  sender_days_to_last_transaction_more7m  \\\n",
       "0         False                                       0   \n",
       "1         False                                       0   \n",
       "2         False                                       0   \n",
       "3         False                                       0   \n",
       "4         False                                       0   \n",
       "\n",
       "   01_receiver_transaction_count  01_sender_sending_days  \\\n",
       "0                       0.168317                0.676786   \n",
       "1                       0.455446                0.726786   \n",
       "2                       0.059406                0.087500   \n",
       "3                       0.029703                0.882143   \n",
       "4                       0.287129                0.764286   \n",
       "\n",
       "   01_branch_working_days  01_net_amount_receiver  \\\n",
       "0                0.187993                0.021661   \n",
       "1                0.235452                0.361011   \n",
       "2                0.024317                0.054152   \n",
       "3                0.886970                0.033213   \n",
       "4                0.245682                0.361011   \n",
       "\n",
       "   01_sender_minutes_since_last_transaction_2days  \\\n",
       "0                                        0.000000   \n",
       "1                                        0.000000   \n",
       "2                                        0.000347   \n",
       "3                                        0.000694   \n",
       "4                                        0.000000   \n",
       "\n",
       "   01_sender_days_to_last_transaction_365  \\\n",
       "0                                0.046575   \n",
       "1                                0.021918   \n",
       "2                                0.000000   \n",
       "3                                0.000000   \n",
       "4                                0.038356   \n",
       "\n",
       "   01_sender_days_to_last_transaction_7m  01_hour_receiver  \n",
       "0                               0.080952          0.750000  \n",
       "1                               0.038095          0.708333  \n",
       "2                               0.000000          0.750000  \n",
       "3                               0.000000          0.750000  \n",
       "4                               0.066667          0.375000  "
      ]
     },
     "execution_count": 19,
     "metadata": {},
     "output_type": "execute_result"
    }
   ],
   "source": [
    "X.head()"
   ]
  },
  {
   "cell_type": "code",
   "execution_count": 20,
   "metadata": {
    "application/vnd.databricks.v1+cell": {
     "cellMetadata": {
      "byteLimit": 2048000,
      "rowLimit": 10000
     },
     "inputWidgets": {},
     "nuid": "548fc1c7-7099-46d8-b4dd-dcef9ba72d69",
     "showTitle": false,
     "title": ""
    },
    "tags": []
   },
   "outputs": [
    {
     "name": "stderr",
     "output_type": "stream",
     "text": [
      "/home/ec2-user/anaconda3/envs/python3/lib/python3.10/site-packages/sklearn/preprocessing/_label.py:97: DataConversionWarning: A column-vector y was passed when a 1d array was expected. Please change the shape of y to (n_samples, ), for example using ravel().\n",
      "  y = column_or_1d(y, warn=True)\n",
      "/home/ec2-user/anaconda3/envs/python3/lib/python3.10/site-packages/sklearn/preprocessing/_label.py:132: DataConversionWarning: A column-vector y was passed when a 1d array was expected. Please change the shape of y to (n_samples, ), for example using ravel().\n",
      "  y = column_or_1d(y, dtype=self.classes_.dtype, warn=True)\n"
     ]
    },
    {
     "name": "stdout",
     "output_type": "stream",
     "text": [
      "[LightGBM] [Info] Number of positive: 475, number of negative: 13379419\n",
      "[LightGBM] [Info] Auto-choosing row-wise multi-threading, the overhead of testing was 0.492128 seconds.\n",
      "You can set `force_row_wise=true` to remove the overhead.\n",
      "And if memory is not enough, you can set `force_col_wise=true`.\n",
      "[LightGBM] [Info] Total Bins 3046\n",
      "[LightGBM] [Info] Number of data points in the train set: 13379894, number of used features: 29\n",
      "[LightGBM] [Info] [binary:BoostFromScore]: pavg=0.000036 -> initscore=-10.245913\n",
      "[LightGBM] [Info] Start training from score -10.245913\n"
     ]
    }
   ],
   "source": [
    "# Fit model to data\n",
    "import lightgbm as lgb\n",
    "train_data  = lgb.Dataset(X_train, label = y_train)\n",
    "#model = lgb.train(params, train_data, num_boost_round=5)\n",
    "\n",
    "lgb_classifier.fit(np.array(X_train), y_train)\n",
    "#lgb_classifier.fit(train_data)\n",
    "lbg_predictions_labels = lgb_classifier.predict(X_train)"
   ]
  },
  {
   "cell_type": "markdown",
   "metadata": {},
   "source": [
    "# Evaluate model on train data"
   ]
  },
  {
   "cell_type": "code",
   "execution_count": 21,
   "metadata": {
    "application/vnd.databricks.v1+cell": {
     "cellMetadata": {
      "byteLimit": 2048000,
      "rowLimit": 10000
     },
     "inputWidgets": {},
     "nuid": "d869acd8-14e2-4297-860c-dc798e9abb94",
     "showTitle": false,
     "title": ""
    },
    "tags": []
   },
   "outputs": [],
   "source": [
    "# modelo train\n",
    "#data1_f_data_pred_rf= lgb_classifier.predict(X)     \n",
    "#probab_rf = lgb_classifier.predict_proba(X)\n",
    "\n",
    "#score_rf=np.delete(probab_rf, np.s_[0], axis=1) \n",
    "#Y_c=Y.copy()\n",
    "#Y_c['preds_rf'] = data1_f_data_pred_rf\n",
    "#Y_c['score_rf'] = score_rf"
   ]
  },
  {
   "cell_type": "code",
   "execution_count": 22,
   "metadata": {
    "application/vnd.databricks.v1+cell": {
     "cellMetadata": {
      "byteLimit": 2048000,
      "rowLimit": 10000
     },
     "inputWidgets": {},
     "nuid": "17cc26fe-d9b1-4a06-99f5-5335a5b97d49",
     "showTitle": false,
     "title": ""
    },
    "tags": []
   },
   "outputs": [],
   "source": [
    "# Realizar predicciones con el modelo entrenado en el conjunto de entrenamiento\n",
    "data1_f_data_pred_rf = lgb_classifier.predict(X)\n",
    "\n",
    "# Obtener las probabilidades predichas para la clase positiva (clase 1) del modelo\n",
    "probab_rf = lgb_classifier.predict_proba(X)\n",
    "\n",
    "# Extraer las puntuaciones (probabilidades) asociadas con la clase positiva\n",
    "score_rf = np.delete(probab_rf, np.s_[0], axis=1)\n",
    "\n",
    "# Crear una copia de las etiquetas verdaderas (Y) para análisis adicional\n",
    "Y_c = Y.copy()\n",
    "Y_c = pd.DataFrame(Y_c)\n",
    "\n",
    "# Agregar las predicciones y las puntuaciones del modelo a las etiquetas verdaderas\n",
    "Y_c['preds_rf'] = data1_f_data_pred_rf\n",
    "Y_c['score_rf'] = score_rf\n",
    "\n",
    "# Los datos ahora contienen etiquetas verdaderas, predicciones y puntuaciones del modelo\n",
    "# Puedes utilizar estos resultados para realizar análisis y evaluar el rendimiento del modelo.\n",
    "#Y = pd.DataFrame(pd.concat([df1Train['target'], df1Val['target']], ignore_index=True)) "
   ]
  },
  {
   "cell_type": "code",
   "execution_count": 23,
   "metadata": {
    "tags": []
   },
   "outputs": [
    {
     "data": {
      "text/html": [
       "<div>\n",
       "<style scoped>\n",
       "    .dataframe tbody tr th:only-of-type {\n",
       "        vertical-align: middle;\n",
       "    }\n",
       "\n",
       "    .dataframe tbody tr th {\n",
       "        vertical-align: top;\n",
       "    }\n",
       "\n",
       "    .dataframe thead th {\n",
       "        text-align: right;\n",
       "    }\n",
       "</style>\n",
       "<table border=\"1\" class=\"dataframe\">\n",
       "  <thead>\n",
       "    <tr style=\"text-align: right;\">\n",
       "      <th></th>\n",
       "      <th>target</th>\n",
       "      <th>preds_rf</th>\n",
       "      <th>score_rf</th>\n",
       "    </tr>\n",
       "  </thead>\n",
       "  <tbody>\n",
       "    <tr>\n",
       "      <th>0</th>\n",
       "      <td>False</td>\n",
       "      <td>False</td>\n",
       "      <td>1.109983e-12</td>\n",
       "    </tr>\n",
       "    <tr>\n",
       "      <th>1</th>\n",
       "      <td>False</td>\n",
       "      <td>False</td>\n",
       "      <td>4.692525e-12</td>\n",
       "    </tr>\n",
       "    <tr>\n",
       "      <th>2</th>\n",
       "      <td>False</td>\n",
       "      <td>False</td>\n",
       "      <td>1.964715e-11</td>\n",
       "    </tr>\n",
       "    <tr>\n",
       "      <th>3</th>\n",
       "      <td>False</td>\n",
       "      <td>False</td>\n",
       "      <td>1.979412e-13</td>\n",
       "    </tr>\n",
       "    <tr>\n",
       "      <th>4</th>\n",
       "      <td>False</td>\n",
       "      <td>False</td>\n",
       "      <td>4.144079e-12</td>\n",
       "    </tr>\n",
       "    <tr>\n",
       "      <th>...</th>\n",
       "      <td>...</td>\n",
       "      <td>...</td>\n",
       "      <td>...</td>\n",
       "    </tr>\n",
       "    <tr>\n",
       "      <th>16724863</th>\n",
       "      <td>False</td>\n",
       "      <td>False</td>\n",
       "      <td>4.477821e-12</td>\n",
       "    </tr>\n",
       "    <tr>\n",
       "      <th>16724864</th>\n",
       "      <td>False</td>\n",
       "      <td>False</td>\n",
       "      <td>1.305613e-12</td>\n",
       "    </tr>\n",
       "    <tr>\n",
       "      <th>16724865</th>\n",
       "      <td>False</td>\n",
       "      <td>False</td>\n",
       "      <td>7.512413e-13</td>\n",
       "    </tr>\n",
       "    <tr>\n",
       "      <th>16724866</th>\n",
       "      <td>False</td>\n",
       "      <td>False</td>\n",
       "      <td>8.757249e-12</td>\n",
       "    </tr>\n",
       "    <tr>\n",
       "      <th>16724867</th>\n",
       "      <td>False</td>\n",
       "      <td>False</td>\n",
       "      <td>1.828261e-11</td>\n",
       "    </tr>\n",
       "  </tbody>\n",
       "</table>\n",
       "<p>16724868 rows × 3 columns</p>\n",
       "</div>"
      ],
      "text/plain": [
       "          target  preds_rf      score_rf\n",
       "0          False     False  1.109983e-12\n",
       "1          False     False  4.692525e-12\n",
       "2          False     False  1.964715e-11\n",
       "3          False     False  1.979412e-13\n",
       "4          False     False  4.144079e-12\n",
       "...          ...       ...           ...\n",
       "16724863   False     False  4.477821e-12\n",
       "16724864   False     False  1.305613e-12\n",
       "16724865   False     False  7.512413e-13\n",
       "16724866   False     False  8.757249e-12\n",
       "16724867   False     False  1.828261e-11\n",
       "\n",
       "[16724868 rows x 3 columns]"
      ]
     },
     "execution_count": 23,
     "metadata": {},
     "output_type": "execute_result"
    }
   ],
   "source": [
    "Y_c"
   ]
  },
  {
   "cell_type": "code",
   "execution_count": 24,
   "metadata": {
    "tags": []
   },
   "outputs": [
    {
     "data": {
      "text/html": [
       "<div>\n",
       "<style scoped>\n",
       "    .dataframe tbody tr th:only-of-type {\n",
       "        vertical-align: middle;\n",
       "    }\n",
       "\n",
       "    .dataframe tbody tr th {\n",
       "        vertical-align: top;\n",
       "    }\n",
       "\n",
       "    .dataframe thead th {\n",
       "        text-align: right;\n",
       "    }\n",
       "</style>\n",
       "<table border=\"1\" class=\"dataframe\">\n",
       "  <thead>\n",
       "    <tr style=\"text-align: right;\">\n",
       "      <th></th>\n",
       "      <th>target</th>\n",
       "      <th>preds_rf</th>\n",
       "      <th>score_rf</th>\n",
       "    </tr>\n",
       "  </thead>\n",
       "  <tbody>\n",
       "    <tr>\n",
       "      <th>25964</th>\n",
       "      <td>True</td>\n",
       "      <td>True</td>\n",
       "      <td>0.992198</td>\n",
       "    </tr>\n",
       "    <tr>\n",
       "      <th>81903</th>\n",
       "      <td>True</td>\n",
       "      <td>True</td>\n",
       "      <td>0.934835</td>\n",
       "    </tr>\n",
       "    <tr>\n",
       "      <th>97248</th>\n",
       "      <td>True</td>\n",
       "      <td>True</td>\n",
       "      <td>0.954532</td>\n",
       "    </tr>\n",
       "    <tr>\n",
       "      <th>98717</th>\n",
       "      <td>True</td>\n",
       "      <td>True</td>\n",
       "      <td>0.588572</td>\n",
       "    </tr>\n",
       "    <tr>\n",
       "      <th>99988</th>\n",
       "      <td>True</td>\n",
       "      <td>True</td>\n",
       "      <td>0.999994</td>\n",
       "    </tr>\n",
       "    <tr>\n",
       "      <th>...</th>\n",
       "      <td>...</td>\n",
       "      <td>...</td>\n",
       "      <td>...</td>\n",
       "    </tr>\n",
       "    <tr>\n",
       "      <th>16586170</th>\n",
       "      <td>True</td>\n",
       "      <td>True</td>\n",
       "      <td>0.857023</td>\n",
       "    </tr>\n",
       "    <tr>\n",
       "      <th>16595746</th>\n",
       "      <td>True</td>\n",
       "      <td>True</td>\n",
       "      <td>1.000000</td>\n",
       "    </tr>\n",
       "    <tr>\n",
       "      <th>16604111</th>\n",
       "      <td>True</td>\n",
       "      <td>True</td>\n",
       "      <td>0.747427</td>\n",
       "    </tr>\n",
       "    <tr>\n",
       "      <th>16629863</th>\n",
       "      <td>True</td>\n",
       "      <td>True</td>\n",
       "      <td>0.993117</td>\n",
       "    </tr>\n",
       "    <tr>\n",
       "      <th>16672976</th>\n",
       "      <td>True</td>\n",
       "      <td>True</td>\n",
       "      <td>0.996089</td>\n",
       "    </tr>\n",
       "  </tbody>\n",
       "</table>\n",
       "<p>595 rows × 3 columns</p>\n",
       "</div>"
      ],
      "text/plain": [
       "          target  preds_rf  score_rf\n",
       "25964       True      True  0.992198\n",
       "81903       True      True  0.934835\n",
       "97248       True      True  0.954532\n",
       "98717       True      True  0.588572\n",
       "99988       True      True  0.999994\n",
       "...          ...       ...       ...\n",
       "16586170    True      True  0.857023\n",
       "16595746    True      True  1.000000\n",
       "16604111    True      True  0.747427\n",
       "16629863    True      True  0.993117\n",
       "16672976    True      True  0.996089\n",
       "\n",
       "[595 rows x 3 columns]"
      ]
     },
     "execution_count": 24,
     "metadata": {},
     "output_type": "execute_result"
    }
   ],
   "source": [
    " Y_c[Y_c['target'] == True]"
   ]
  },
  {
   "cell_type": "code",
   "execution_count": 25,
   "metadata": {
    "tags": []
   },
   "outputs": [
    {
     "data": {
      "text/html": [
       "<div>\n",
       "<style scoped>\n",
       "    .dataframe tbody tr th:only-of-type {\n",
       "        vertical-align: middle;\n",
       "    }\n",
       "\n",
       "    .dataframe tbody tr th {\n",
       "        vertical-align: top;\n",
       "    }\n",
       "\n",
       "    .dataframe thead th {\n",
       "        text-align: right;\n",
       "    }\n",
       "</style>\n",
       "<table border=\"1\" class=\"dataframe\">\n",
       "  <thead>\n",
       "    <tr style=\"text-align: right;\">\n",
       "      <th></th>\n",
       "      <th>0</th>\n",
       "      <th>1</th>\n",
       "    </tr>\n",
       "  </thead>\n",
       "  <tbody>\n",
       "    <tr>\n",
       "      <th>0</th>\n",
       "      <td>16724272</td>\n",
       "      <td>1</td>\n",
       "    </tr>\n",
       "    <tr>\n",
       "      <th>1</th>\n",
       "      <td>70</td>\n",
       "      <td>525</td>\n",
       "    </tr>\n",
       "  </tbody>\n",
       "</table>\n",
       "</div>"
      ],
      "text/plain": [
       "          0    1\n",
       "0  16724272    1\n",
       "1        70  525"
      ]
     },
     "execution_count": 25,
     "metadata": {},
     "output_type": "execute_result"
    }
   ],
   "source": [
    "pd.DataFrame(confusion_matrix(Y_c['target'], Y_c['preds_rf']))"
   ]
  },
  {
   "cell_type": "code",
   "execution_count": 26,
   "metadata": {
    "tags": []
   },
   "outputs": [
    {
     "data": {
      "text/plain": [
       "<Axes: xlabel='score_rf', ylabel='Count'>"
      ]
     },
     "execution_count": 26,
     "metadata": {},
     "output_type": "execute_result"
    },
    {
     "data": {
      "image/png": "[encoded data removed]",
      "text/plain": [
       "<Figure size 640x480 with 1 Axes>"
      ]
     },
     "metadata": {},
     "output_type": "display_data"
    }
   ],
   "source": [
    "import seaborn as sns\n",
    "sns.histplot(data = Y_c[Y_c['target'] == True], x='score_rf')"
   ]
  },
  {
   "cell_type": "code",
   "execution_count": 27,
   "metadata": {
    "tags": []
   },
   "outputs": [
    {
     "name": "stdout",
     "output_type": "stream",
     "text": [
      "              precision    recall  f1-score   support\n",
      "\n",
      "   No fraude       1.00      1.00      1.00  16724273\n",
      "      Fraude       1.00      0.88      0.94       595\n",
      "\n",
      "    accuracy                           1.00  16724868\n",
      "   macro avg       1.00      0.94      0.97  16724868\n",
      "weighted avg       1.00      1.00      1.00  16724868\n",
      "\n"
     ]
    }
   ],
   "source": [
    "target_names = ['No fraude', 'Fraude']\n",
    "print(classification_report(Y_c['target'], Y_c['preds_rf'], target_names=target_names))"
   ]
  },
  {
   "cell_type": "code",
   "execution_count": 28,
   "metadata": {
    "tags": []
   },
   "outputs": [
    {
     "data": {
      "text/plain": [
       "preds_rf\n",
       "False    16724342\n",
       "True          526\n",
       "Name: count, dtype: int64"
      ]
     },
     "execution_count": 28,
     "metadata": {},
     "output_type": "execute_result"
    }
   ],
   "source": [
    "Y_c['preds_rf'].value_counts()"
   ]
  },
  {
   "cell_type": "code",
   "execution_count": 29,
   "metadata": {
    "tags": []
   },
   "outputs": [
    {
     "data": {
      "text/plain": [
       "0.5046971387766339"
      ]
     },
     "execution_count": 29,
     "metadata": {},
     "output_type": "execute_result"
    }
   ],
   "source": [
    "Y_c.score_rf[Y_c['preds_rf']==True].min()"
   ]
  },
  {
   "cell_type": "code",
   "execution_count": 30,
   "metadata": {
    "tags": []
   },
   "outputs": [
    {
     "name": "stdout",
     "output_type": "stream",
     "text": [
      "FRAUD CAPTURA 30%:\n",
      "0.9899159663865547\n"
     ]
    }
   ],
   "source": [
    "# Dividir las predicciones en deciles y calcular la captura del 30% en el conjunto de entrenamiento\n",
    "#percentiles = pd.qcut(Y_c['score_rf'], q=10, duplicates='drop').astype(str)\n",
    "percentiles = pd.qcut(Y_c['score_rf'], q=1000, duplicates='drop')\n",
    "\n",
    "percentile_label = {p: l for l, p in enumerate(sorted(percentiles.unique(), reverse=True), start=1)}\n",
    "percentiles = percentiles.map(percentile_label)\n",
    "Y_c['FRAUD_DECILE'] = np.nan\n",
    "Y_c['FRAUD_DECILE'] = percentiles\n",
    "Y_c['FRAUD_DECILE'] = Y_c['FRAUD_DECILE'].astype('Int32')\n",
    "print('FRAUD CAPTURA .04%:')\n",
    "print(sum(Y_c[Y_c['FRAUD_DECILE'] < 4]['target']) / sum(Y_c['target']))"
   ]
  },
  {
   "cell_type": "code",
   "execution_count": 31,
   "metadata": {
    "tags": []
   },
   "outputs": [],
   "source": [
    "DECILES_T = pd.crosstab(Y_c['FRAUD_DECILE'], Y_c['target'])"
   ]
  },
  {
   "cell_type": "code",
   "execution_count": 32,
   "metadata": {
    "application/vnd.databricks.v1+cell": {
     "cellMetadata": {
      "byteLimit": 2048000,
      "rowLimit": 10000
     },
     "inputWidgets": {},
     "nuid": "c696761f-b1a0-4d0d-a9f1-d9fda10a7b0e",
     "showTitle": false,
     "title": ""
    },
    "tags": []
   },
   "outputs": [
    {
     "data": {
      "text/html": [
       "<div>\n",
       "<style scoped>\n",
       "    .dataframe tbody tr th:only-of-type {\n",
       "        vertical-align: middle;\n",
       "    }\n",
       "\n",
       "    .dataframe tbody tr th {\n",
       "        vertical-align: top;\n",
       "    }\n",
       "\n",
       "    .dataframe thead th {\n",
       "        text-align: right;\n",
       "    }\n",
       "</style>\n",
       "<table border=\"1\" class=\"dataframe\">\n",
       "  <thead>\n",
       "    <tr style=\"text-align: right;\">\n",
       "      <th>target</th>\n",
       "      <th>False</th>\n",
       "      <th>True</th>\n",
       "    </tr>\n",
       "    <tr>\n",
       "      <th>FRAUD_DECILE</th>\n",
       "      <th></th>\n",
       "      <th></th>\n",
       "    </tr>\n",
       "  </thead>\n",
       "  <tbody>\n",
       "    <tr>\n",
       "      <th>1</th>\n",
       "      <td>16136</td>\n",
       "      <td>589</td>\n",
       "    </tr>\n",
       "    <tr>\n",
       "      <th>2</th>\n",
       "      <td>16725</td>\n",
       "      <td>0</td>\n",
       "    </tr>\n",
       "    <tr>\n",
       "      <th>3</th>\n",
       "      <td>16725</td>\n",
       "      <td>0</td>\n",
       "    </tr>\n",
       "    <tr>\n",
       "      <th>4</th>\n",
       "      <td>16725</td>\n",
       "      <td>0</td>\n",
       "    </tr>\n",
       "    <tr>\n",
       "      <th>5</th>\n",
       "      <td>16725</td>\n",
       "      <td>0</td>\n",
       "    </tr>\n",
       "    <tr>\n",
       "      <th>...</th>\n",
       "      <td>...</td>\n",
       "      <td>...</td>\n",
       "    </tr>\n",
       "    <tr>\n",
       "      <th>996</th>\n",
       "      <td>16725</td>\n",
       "      <td>0</td>\n",
       "    </tr>\n",
       "    <tr>\n",
       "      <th>997</th>\n",
       "      <td>16725</td>\n",
       "      <td>0</td>\n",
       "    </tr>\n",
       "    <tr>\n",
       "      <th>998</th>\n",
       "      <td>16725</td>\n",
       "      <td>0</td>\n",
       "    </tr>\n",
       "    <tr>\n",
       "      <th>999</th>\n",
       "      <td>16725</td>\n",
       "      <td>0</td>\n",
       "    </tr>\n",
       "    <tr>\n",
       "      <th>1000</th>\n",
       "      <td>16725</td>\n",
       "      <td>0</td>\n",
       "    </tr>\n",
       "  </tbody>\n",
       "</table>\n",
       "<p>1000 rows × 2 columns</p>\n",
       "</div>"
      ],
      "text/plain": [
       "target        False  True \n",
       "FRAUD_DECILE              \n",
       "1             16136    589\n",
       "2             16725      0\n",
       "3             16725      0\n",
       "4             16725      0\n",
       "5             16725      0\n",
       "...             ...    ...\n",
       "996           16725      0\n",
       "997           16725      0\n",
       "998           16725      0\n",
       "999           16725      0\n",
       "1000          16725      0\n",
       "\n",
       "[1000 rows x 2 columns]"
      ]
     },
     "execution_count": 32,
     "metadata": {},
     "output_type": "execute_result"
    }
   ],
   "source": [
    "DECILES_T"
   ]
  },
  {
   "cell_type": "code",
   "execution_count": 33,
   "metadata": {
    "application/vnd.databricks.v1+cell": {
     "cellMetadata": {
      "byteLimit": 2048000,
      "rowLimit": 10000
     },
     "inputWidgets": {},
     "nuid": "71386cf3-61f2-44f2-aec7-360594b577b2",
     "showTitle": false,
     "title": ""
    },
    "tags": []
   },
   "outputs": [
    {
     "data": {
      "text/plain": [
       "array([<Axes: title={'center': 'False'}, xlabel='FRAUD_DECILE'>,\n",
       "       <Axes: title={'center': 'True'}, xlabel='FRAUD_DECILE'>],\n",
       "      dtype=object)"
      ]
     },
     "execution_count": 33,
     "metadata": {},
     "output_type": "execute_result"
    },
    {
     "data": {
      "image/png": "[encoded data removed]",
      "text/plain": [
       "<Figure size 640x480 with 2 Axes>"
      ]
     },
     "metadata": {},
     "output_type": "display_data"
    }
   ],
   "source": [
    "DECILES_T.plot.bar(stacked=False, rot=0,subplots=True)"
   ]
  },
  {
   "cell_type": "code",
   "execution_count": 34,
   "metadata": {
    "tags": []
   },
   "outputs": [
    {
     "data": {
      "text/html": [
       "<div>\n",
       "<style scoped>\n",
       "    .dataframe tbody tr th:only-of-type {\n",
       "        vertical-align: middle;\n",
       "    }\n",
       "\n",
       "    .dataframe tbody tr th {\n",
       "        vertical-align: top;\n",
       "    }\n",
       "\n",
       "    .dataframe thead tr th {\n",
       "        text-align: left;\n",
       "    }\n",
       "\n",
       "    .dataframe thead tr:last-of-type th {\n",
       "        text-align: right;\n",
       "    }\n",
       "</style>\n",
       "<table border=\"1\" class=\"dataframe\">\n",
       "  <thead>\n",
       "    <tr>\n",
       "      <th></th>\n",
       "      <th colspan=\"2\" halign=\"left\">score_rf</th>\n",
       "    </tr>\n",
       "    <tr>\n",
       "      <th></th>\n",
       "      <th>min</th>\n",
       "      <th>max</th>\n",
       "    </tr>\n",
       "    <tr>\n",
       "      <th>FRAUD_DECILE</th>\n",
       "      <th></th>\n",
       "      <th></th>\n",
       "    </tr>\n",
       "  </thead>\n",
       "  <tbody>\n",
       "    <tr>\n",
       "      <th>1</th>\n",
       "      <td>7.041966e-07</td>\n",
       "      <td>1.000000e+00</td>\n",
       "    </tr>\n",
       "    <tr>\n",
       "      <th>2</th>\n",
       "      <td>2.191198e-07</td>\n",
       "      <td>7.041841e-07</td>\n",
       "    </tr>\n",
       "    <tr>\n",
       "      <th>3</th>\n",
       "      <td>1.090307e-07</td>\n",
       "      <td>2.190775e-07</td>\n",
       "    </tr>\n",
       "    <tr>\n",
       "      <th>4</th>\n",
       "      <td>6.618727e-08</td>\n",
       "      <td>1.090288e-07</td>\n",
       "    </tr>\n",
       "    <tr>\n",
       "      <th>5</th>\n",
       "      <td>4.488932e-08</td>\n",
       "      <td>6.618540e-08</td>\n",
       "    </tr>\n",
       "    <tr>\n",
       "      <th>...</th>\n",
       "      <td>...</td>\n",
       "      <td>...</td>\n",
       "    </tr>\n",
       "    <tr>\n",
       "      <th>996</th>\n",
       "      <td>8.057000e-14</td>\n",
       "      <td>8.998303e-14</td>\n",
       "    </tr>\n",
       "    <tr>\n",
       "      <th>997</th>\n",
       "      <td>7.017365e-14</td>\n",
       "      <td>8.056975e-14</td>\n",
       "    </tr>\n",
       "    <tr>\n",
       "      <th>998</th>\n",
       "      <td>5.818088e-14</td>\n",
       "      <td>7.017329e-14</td>\n",
       "    </tr>\n",
       "    <tr>\n",
       "      <th>999</th>\n",
       "      <td>4.272756e-14</td>\n",
       "      <td>5.818028e-14</td>\n",
       "    </tr>\n",
       "    <tr>\n",
       "      <th>1000</th>\n",
       "      <td>3.108735e-15</td>\n",
       "      <td>4.272752e-14</td>\n",
       "    </tr>\n",
       "  </tbody>\n",
       "</table>\n",
       "<p>1000 rows × 2 columns</p>\n",
       "</div>"
      ],
      "text/plain": [
       "                  score_rf              \n",
       "                       min           max\n",
       "FRAUD_DECILE                            \n",
       "1             7.041966e-07  1.000000e+00\n",
       "2             2.191198e-07  7.041841e-07\n",
       "3             1.090307e-07  2.190775e-07\n",
       "4             6.618727e-08  1.090288e-07\n",
       "5             4.488932e-08  6.618540e-08\n",
       "...                    ...           ...\n",
       "996           8.057000e-14  8.998303e-14\n",
       "997           7.017365e-14  8.056975e-14\n",
       "998           5.818088e-14  7.017329e-14\n",
       "999           4.272756e-14  5.818028e-14\n",
       "1000          3.108735e-15  4.272752e-14\n",
       "\n",
       "[1000 rows x 2 columns]"
      ]
     },
     "execution_count": 34,
     "metadata": {},
     "output_type": "execute_result"
    }
   ],
   "source": [
    "#saco el punto de corte del primer centil para aplicarlo al test\n",
    "corte = Y_c.score_rf[Y_c['FRAUD_DECILE']==3].min()\n",
    "Y_c[['score_rf','FRAUD_DECILE']].groupby(['FRAUD_DECILE']).agg({'score_rf': [ 'min', 'max']}) "
   ]
  },
  {
   "cell_type": "code",
   "execution_count": 35,
   "metadata": {
    "tags": []
   },
   "outputs": [
    {
     "data": {
      "image/png": "[encoded data removed]",
      "text/plain": [
       "<Figure size 700x600 with 1 Axes>"
      ]
     },
     "metadata": {},
     "output_type": "display_data"
    }
   ],
   "source": [
    "lgb.plot_importance(lgb_classifier, importance_type=\"gain\", figsize=(7,6), title=\"LightGBM Feature Importance (Gain)\")\n",
    "plt.show()"
   ]
  },
  {
   "cell_type": "code",
   "execution_count": 36,
   "metadata": {
    "tags": []
   },
   "outputs": [
    {
     "data": {
      "image/png": "[encoded data removed]",
      "text/plain": [
       "<Figure size 700x600 with 1 Axes>"
      ]
     },
     "metadata": {},
     "output_type": "display_data"
    }
   ],
   "source": [
    "# Plot feature importance using Split\n",
    "lgb.plot_importance(lgb_classifier, importance_type=\"split\", figsize=(7,6), title=\"LightGBM Feature Importance (Split)\")\n",
    "plt.show()"
   ]
  },
  {
   "cell_type": "code",
   "execution_count": 37,
   "metadata": {
    "application/vnd.databricks.v1+cell": {
     "cellMetadata": {
      "byteLimit": 2048000,
      "rowLimit": 10000
     },
     "inputWidgets": {},
     "nuid": "d2607d30-6393-4d6e-ba95-acb61bf350dd",
     "showTitle": false,
     "title": ""
    },
    "tags": []
   },
   "outputs": [],
   "source": [
    "### Calcular la curva de ganancia acumulativa y el LIFT del modelo en el conjunto de entrenamiento\n",
    "#classes = np.unique(Y_c[['target']])\n",
    "#percentages, gains = cumulative_gain_curve(Y_c[['target']], Y_c['score_rf'], classes[1])\n",
    "#percentages = percentages[1:]\n",
    "#gains = gains[1:]\n",
    "#gains = gains / percentages\n",
    "#indice = round(len(gains) * 0.1)\n",
    "#print('LIFT INV CHURN TRAIN:')\n",
    "#print(gains[indice])\n",
    "\n",
    "# Calcular el área bajo la curva ROC del modelo en el conjunto de entrenamiento\n",
    "#print('ROC INV CHURN TRAIN:')\n",
    "#print(roc_auc_score(Y_c[['target']], Y_c['preds_rf']))\n",
    "\n",
    "# Calcular la estadística KS del modelo en el conjunto de entrenamiento\n",
    "#thresholds, pct1, pct2, ks_statistic, max_distance_at, classes = binary_ks_curve(Y_c[['target']], Y_c['score_rf'].ravel())\n",
    "#print('KS INV CHURN TRAIN:')\n",
    "#print(ks_statistic)\n",
    "\n",
    "# Calcular la precisión y el recall del modelo en el conjunto de entrenamiento\n",
    "#precision = precision_score(Y_c[['target']], Y_c['preds_rf'])\n",
    "#recall = recall_score(Y_c[['target']], Y_c['preds_rf'])\n",
    "\n",
    "#print('Precision INV CHURN TRAIN:')\n",
    "#print(precision)\n",
    "#print('Recall INV CHURN TRAIN:')\n",
    "#print(recall)\n"
   ]
  },
  {
   "cell_type": "code",
   "execution_count": 38,
   "metadata": {},
   "outputs": [],
   "source": [
    "import joblib\n",
    "# save model\n",
    "joblib.dump(lgb_classifier, 'ModeloFinal.pkl')\n",
    "with open(\"./ModeloFinal.txt\", \"w\") as output:\n",
    "    output.write(str(var_input))\n",
    "# load model\n",
    "#gbm_pickle = joblib.load('ModeloV1T1.pkl')"
   ]
  },
  {
   "cell_type": "code",
   "execution_count": 39,
   "metadata": {
    "tags": []
   },
   "outputs": [],
   "source": [
    "# Save feature importance in text file\n",
    "# Importance is measured in terms of gain according to LightGBM classifier\n",
    "np.savetxt('./ModeloFinalImp.txt', lgb_classifier.booster_.feature_importance(importance_type='gain'),fmt='%f')"
   ]
  },
  {
   "cell_type": "markdown",
   "metadata": {
    "application/vnd.databricks.v1+cell": {
     "cellMetadata": {
      "byteLimit": 2048000,
      "rowLimit": 10000
     },
     "inputWidgets": {},
     "nuid": "e6fcd014-a695-48a9-8af9-a121268015cb",
     "showTitle": false,
     "title": ""
    }
   },
   "source": [
    "## TEST ##"
   ]
  },
  {
   "cell_type": "code",
   "execution_count": 40,
   "metadata": {
    "application/vnd.databricks.v1+cell": {
     "cellMetadata": {
      "byteLimit": 2048000,
      "rowLimit": 10000
     },
     "inputWidgets": {},
     "nuid": "42e3788f-3cd7-45f4-bc86-72637798fd75",
     "showTitle": false,
     "title": ""
    }
   },
   "outputs": [],
   "source": [
    "s3_url = f\"viamericas-datalake-dev-us-east-1-283731589572-raw/FraudModel/Data4Model\"\n",
    "\n",
    "tes = pd.read_parquet(f\"s3://{s3_url}/TargetTodos/Test/Test.parquet\")\n"
   ]
  },
  {
   "cell_type": "code",
   "execution_count": 41,
   "metadata": {
    "application/vnd.databricks.v1+cell": {
     "cellMetadata": {
      "byteLimit": 2048000,
      "rowLimit": 10000
     },
     "inputWidgets": {},
     "nuid": "b88b7157-ce0f-4a4c-bcbd-fd2307aacc68",
     "showTitle": false,
     "title": ""
    }
   },
   "outputs": [],
   "source": [
    "## TARGETS de TESTE0\n",
    "#target 1\n",
    "#tgt = tes['target']"
   ]
  },
  {
   "cell_type": "code",
   "execution_count": 42,
   "metadata": {},
   "outputs": [],
   "source": [
    "##lista de variables de input\n",
    "X = tes[var_input]\n",
    "Y = tes['target'] \n"
   ]
  },
  {
   "cell_type": "code",
   "execution_count": 43,
   "metadata": {
    "application/vnd.databricks.v1+cell": {
     "cellMetadata": {
      "byteLimit": 2048000,
      "rowLimit": 10000
     },
     "inputWidgets": {},
     "nuid": "a08ae9f0-5d1e-4675-ac5e-891ef44cecee",
     "showTitle": false,
     "title": ""
    }
   },
   "outputs": [],
   "source": [
    "testeo = tes"
   ]
  },
  {
   "cell_type": "code",
   "execution_count": 44,
   "metadata": {
    "application/vnd.databricks.v1+cell": {
     "cellMetadata": {
      "byteLimit": 2048000,
      "rowLimit": 10000
     },
     "inputWidgets": {},
     "nuid": "b7bd1a47-7799-4579-b3b0-66207df6f13d",
     "showTitle": false,
     "title": ""
    }
   },
   "outputs": [],
   "source": [
    "def limpiar_nombres_columnas(dataframe):\n",
    "    \"\"\"\n",
    "    Limpia y estandariza los nombres de las columnas en un DataFrame.\n",
    "\n",
    "    Parameters:\n",
    "    - dataframe: DataFrame de pandas.\n",
    "\n",
    "    Returns:\n",
    "    - DataFrame con nombres de columnas limpios.\n",
    "    \"\"\"\n",
    "    dataframe = dataframe.rename(columns=lambda x: re.sub('[^A-Za-z0-9_]+', '', x))\n",
    "    return dataframe\n",
    "    \n",
    "testeo = limpiar_nombres_columnas(testeo)"
   ]
  },
  {
   "cell_type": "code",
   "execution_count": 45,
   "metadata": {
    "application/vnd.databricks.v1+cell": {
     "cellMetadata": {
      "byteLimit": 2048000,
      "rowLimit": 10000
     },
     "inputWidgets": {},
     "nuid": "c3bcf455-00db-437e-9b14-40b53d895d0b",
     "showTitle": false,
     "title": ""
    }
   },
   "outputs": [
    {
     "name": "stdout",
     "output_type": "stream",
     "text": [
      "Dataset Length:  9754043\n",
      "Dataset Shape:  (9754043, 81)\n"
     ]
    }
   ],
   "source": [
    "testeo = testeo\n",
    " \n",
    "print (\"Dataset Length: \", len(testeo)) \n",
    "print (\"Dataset Shape: \", testeo.shape)"
   ]
  },
  {
   "cell_type": "code",
   "execution_count": 46,
   "metadata": {
    "application/vnd.databricks.v1+cell": {
     "cellMetadata": {
      "byteLimit": 2048000,
      "rowLimit": 10000
     },
     "inputWidgets": {},
     "nuid": "0c0fb05b-e907-4ead-87c5-ec1a40104b55",
     "showTitle": false,
     "title": ""
    }
   },
   "outputs": [
    {
     "data": {
      "text/plain": [
       "target\n",
       "False    9753879\n",
       "True         164\n",
       "Name: count, dtype: int64"
      ]
     },
     "execution_count": 46,
     "metadata": {},
     "output_type": "execute_result"
    }
   ],
   "source": [
    "testeo['target'].value_counts(dropna=False)"
   ]
  },
  {
   "cell_type": "code",
   "execution_count": 47,
   "metadata": {
    "application/vnd.databricks.v1+cell": {
     "cellMetadata": {
      "byteLimit": 2048000,
      "rowLimit": 10000
     },
     "inputWidgets": {},
     "nuid": "1318a536-2a23-456f-842c-ac6d1d389126",
     "showTitle": false,
     "title": ""
    }
   },
   "outputs": [
    {
     "data": {
      "text/html": [
       "<div>\n",
       "<style scoped>\n",
       "    .dataframe tbody tr th:only-of-type {\n",
       "        vertical-align: middle;\n",
       "    }\n",
       "\n",
       "    .dataframe tbody tr th {\n",
       "        vertical-align: top;\n",
       "    }\n",
       "\n",
       "    .dataframe thead th {\n",
       "        text-align: right;\n",
       "    }\n",
       "</style>\n",
       "<table border=\"1\" class=\"dataframe\">\n",
       "  <thead>\n",
       "    <tr style=\"text-align: right;\">\n",
       "      <th></th>\n",
       "      <th>01_branch_working_days</th>\n",
       "      <th>branch_minutes_since_last_transaction</th>\n",
       "      <th>branch_trans_3m</th>\n",
       "      <th>count_date_receiver_distinct</th>\n",
       "      <th>branch_has_fraud</th>\n",
       "      <th>receiver_has_fraud</th>\n",
       "      <th>branch_trans_40min</th>\n",
       "      <th>branch_trans_10min</th>\n",
       "      <th>cash_pick_up_40min</th>\n",
       "      <th>location_nro_fraud</th>\n",
       "      <th>sender_trans_3m</th>\n",
       "      <th>sender_nro_fraud</th>\n",
       "      <th>01_isMexico</th>\n",
       "      <th>01_sender_branch_state</th>\n",
       "      <th>01_var_range_hist</th>\n",
       "      <th>01_receiver_fraud</th>\n",
       "      <th>01_branch_fraud</th>\n",
       "      <th>01_location_fraud</th>\n",
       "      <th>01_sender_fraud</th>\n",
       "      <th>01_isCashPick</th>\n",
       "      <th>01_isBankDep</th>\n",
       "      <th>sender_days_to_last_transaction_more7m</th>\n",
       "      <th>01_receiver_transaction_count</th>\n",
       "      <th>01_sender_sending_days</th>\n",
       "      <th>01_branch_working_days</th>\n",
       "      <th>01_net_amount_receiver</th>\n",
       "      <th>01_sender_minutes_since_last_transaction_2days</th>\n",
       "      <th>01_sender_days_to_last_transaction_365</th>\n",
       "      <th>01_sender_days_to_last_transaction_7m</th>\n",
       "      <th>01_hour_receiver</th>\n",
       "    </tr>\n",
       "  </thead>\n",
       "  <tbody>\n",
       "    <tr>\n",
       "      <th>0</th>\n",
       "      <td>0.042596</td>\n",
       "      <td>15.0</td>\n",
       "      <td>5449</td>\n",
       "      <td>91</td>\n",
       "      <td>0</td>\n",
       "      <td>0</td>\n",
       "      <td>6</td>\n",
       "      <td>1</td>\n",
       "      <td>5</td>\n",
       "      <td>0</td>\n",
       "      <td>14.0</td>\n",
       "      <td>0</td>\n",
       "      <td>False</td>\n",
       "      <td>True</td>\n",
       "      <td>0.474415</td>\n",
       "      <td>False</td>\n",
       "      <td>False</td>\n",
       "      <td>False</td>\n",
       "      <td>False</td>\n",
       "      <td>False</td>\n",
       "      <td>True</td>\n",
       "      <td>0</td>\n",
       "      <td>0.069307</td>\n",
       "      <td>0.248214</td>\n",
       "      <td>0.042596</td>\n",
       "      <td>0.072202</td>\n",
       "      <td>0.000000</td>\n",
       "      <td>0.013699</td>\n",
       "      <td>0.023810</td>\n",
       "      <td>0.541667</td>\n",
       "    </tr>\n",
       "    <tr>\n",
       "      <th>1</th>\n",
       "      <td>0.278886</td>\n",
       "      <td>26.0</td>\n",
       "      <td>1338</td>\n",
       "      <td>92</td>\n",
       "      <td>0</td>\n",
       "      <td>0</td>\n",
       "      <td>4</td>\n",
       "      <td>1</td>\n",
       "      <td>3</td>\n",
       "      <td>0</td>\n",
       "      <td>3.0</td>\n",
       "      <td>0</td>\n",
       "      <td>True</td>\n",
       "      <td>True</td>\n",
       "      <td>0.761194</td>\n",
       "      <td>False</td>\n",
       "      <td>False</td>\n",
       "      <td>False</td>\n",
       "      <td>False</td>\n",
       "      <td>False</td>\n",
       "      <td>True</td>\n",
       "      <td>0</td>\n",
       "      <td>0.079208</td>\n",
       "      <td>1.000000</td>\n",
       "      <td>0.278886</td>\n",
       "      <td>0.122744</td>\n",
       "      <td>0.000000</td>\n",
       "      <td>0.021918</td>\n",
       "      <td>0.038095</td>\n",
       "      <td>0.833333</td>\n",
       "    </tr>\n",
       "    <tr>\n",
       "      <th>2</th>\n",
       "      <td>0.096093</td>\n",
       "      <td>2.0</td>\n",
       "      <td>1985</td>\n",
       "      <td>91</td>\n",
       "      <td>0</td>\n",
       "      <td>0</td>\n",
       "      <td>9</td>\n",
       "      <td>2</td>\n",
       "      <td>5</td>\n",
       "      <td>0</td>\n",
       "      <td>4.0</td>\n",
       "      <td>0</td>\n",
       "      <td>True</td>\n",
       "      <td>True</td>\n",
       "      <td>1.366460</td>\n",
       "      <td>False</td>\n",
       "      <td>False</td>\n",
       "      <td>False</td>\n",
       "      <td>False</td>\n",
       "      <td>True</td>\n",
       "      <td>False</td>\n",
       "      <td>0</td>\n",
       "      <td>0.108911</td>\n",
       "      <td>0.075000</td>\n",
       "      <td>0.096093</td>\n",
       "      <td>0.198556</td>\n",
       "      <td>0.000000</td>\n",
       "      <td>0.052055</td>\n",
       "      <td>0.090476</td>\n",
       "      <td>0.708333</td>\n",
       "    </tr>\n",
       "    <tr>\n",
       "      <th>3</th>\n",
       "      <td>0.164682</td>\n",
       "      <td>48.0</td>\n",
       "      <td>1624</td>\n",
       "      <td>64</td>\n",
       "      <td>0</td>\n",
       "      <td>0</td>\n",
       "      <td>1</td>\n",
       "      <td>1</td>\n",
       "      <td>1</td>\n",
       "      <td>0</td>\n",
       "      <td>3.0</td>\n",
       "      <td>0</td>\n",
       "      <td>True</td>\n",
       "      <td>True</td>\n",
       "      <td>0.751912</td>\n",
       "      <td>False</td>\n",
       "      <td>False</td>\n",
       "      <td>False</td>\n",
       "      <td>False</td>\n",
       "      <td>True</td>\n",
       "      <td>False</td>\n",
       "      <td>0</td>\n",
       "      <td>0.039604</td>\n",
       "      <td>1.000000</td>\n",
       "      <td>0.164682</td>\n",
       "      <td>0.212996</td>\n",
       "      <td>0.440625</td>\n",
       "      <td>0.002740</td>\n",
       "      <td>0.004762</td>\n",
       "      <td>0.541667</td>\n",
       "    </tr>\n",
       "    <tr>\n",
       "      <th>4</th>\n",
       "      <td>0.651685</td>\n",
       "      <td>5.0</td>\n",
       "      <td>6806</td>\n",
       "      <td>92</td>\n",
       "      <td>2</td>\n",
       "      <td>0</td>\n",
       "      <td>9</td>\n",
       "      <td>3</td>\n",
       "      <td>5</td>\n",
       "      <td>2</td>\n",
       "      <td>9.0</td>\n",
       "      <td>0</td>\n",
       "      <td>True</td>\n",
       "      <td>True</td>\n",
       "      <td>1.698113</td>\n",
       "      <td>False</td>\n",
       "      <td>True</td>\n",
       "      <td>True</td>\n",
       "      <td>False</td>\n",
       "      <td>True</td>\n",
       "      <td>False</td>\n",
       "      <td>0</td>\n",
       "      <td>0.108911</td>\n",
       "      <td>1.000000</td>\n",
       "      <td>0.651685</td>\n",
       "      <td>0.072202</td>\n",
       "      <td>0.000000</td>\n",
       "      <td>0.038356</td>\n",
       "      <td>0.066667</td>\n",
       "      <td>0.708333</td>\n",
       "    </tr>\n",
       "    <tr>\n",
       "      <th>...</th>\n",
       "      <td>...</td>\n",
       "      <td>...</td>\n",
       "      <td>...</td>\n",
       "      <td>...</td>\n",
       "      <td>...</td>\n",
       "      <td>...</td>\n",
       "      <td>...</td>\n",
       "      <td>...</td>\n",
       "      <td>...</td>\n",
       "      <td>...</td>\n",
       "      <td>...</td>\n",
       "      <td>...</td>\n",
       "      <td>...</td>\n",
       "      <td>...</td>\n",
       "      <td>...</td>\n",
       "      <td>...</td>\n",
       "      <td>...</td>\n",
       "      <td>...</td>\n",
       "      <td>...</td>\n",
       "      <td>...</td>\n",
       "      <td>...</td>\n",
       "      <td>...</td>\n",
       "      <td>...</td>\n",
       "      <td>...</td>\n",
       "      <td>...</td>\n",
       "      <td>...</td>\n",
       "      <td>...</td>\n",
       "      <td>...</td>\n",
       "      <td>...</td>\n",
       "      <td>...</td>\n",
       "    </tr>\n",
       "    <tr>\n",
       "      <th>9754038</th>\n",
       "      <td>0.355190</td>\n",
       "      <td>6.0</td>\n",
       "      <td>1729</td>\n",
       "      <td>58</td>\n",
       "      <td>0</td>\n",
       "      <td>0</td>\n",
       "      <td>9</td>\n",
       "      <td>2</td>\n",
       "      <td>3</td>\n",
       "      <td>0</td>\n",
       "      <td>2.0</td>\n",
       "      <td>0</td>\n",
       "      <td>False</td>\n",
       "      <td>True</td>\n",
       "      <td>0.604651</td>\n",
       "      <td>False</td>\n",
       "      <td>False</td>\n",
       "      <td>False</td>\n",
       "      <td>False</td>\n",
       "      <td>False</td>\n",
       "      <td>True</td>\n",
       "      <td>0</td>\n",
       "      <td>0.000000</td>\n",
       "      <td>0.000000</td>\n",
       "      <td>0.355190</td>\n",
       "      <td>0.023466</td>\n",
       "      <td>0.002083</td>\n",
       "      <td>0.000000</td>\n",
       "      <td>0.000000</td>\n",
       "      <td>0.500000</td>\n",
       "    </tr>\n",
       "    <tr>\n",
       "      <th>9754039</th>\n",
       "      <td>0.621499</td>\n",
       "      <td>13.0</td>\n",
       "      <td>4792</td>\n",
       "      <td>92</td>\n",
       "      <td>0</td>\n",
       "      <td>0</td>\n",
       "      <td>4</td>\n",
       "      <td>1</td>\n",
       "      <td>4</td>\n",
       "      <td>0</td>\n",
       "      <td>15.0</td>\n",
       "      <td>0</td>\n",
       "      <td>False</td>\n",
       "      <td>True</td>\n",
       "      <td>1.167513</td>\n",
       "      <td>False</td>\n",
       "      <td>False</td>\n",
       "      <td>False</td>\n",
       "      <td>False</td>\n",
       "      <td>True</td>\n",
       "      <td>False</td>\n",
       "      <td>0</td>\n",
       "      <td>0.069307</td>\n",
       "      <td>0.200000</td>\n",
       "      <td>0.621499</td>\n",
       "      <td>0.033213</td>\n",
       "      <td>0.000000</td>\n",
       "      <td>0.019178</td>\n",
       "      <td>0.033333</td>\n",
       "      <td>0.416667</td>\n",
       "    </tr>\n",
       "    <tr>\n",
       "      <th>9754040</th>\n",
       "      <td>0.059534</td>\n",
       "      <td>9.0</td>\n",
       "      <td>883</td>\n",
       "      <td>92</td>\n",
       "      <td>0</td>\n",
       "      <td>0</td>\n",
       "      <td>4</td>\n",
       "      <td>2</td>\n",
       "      <td>3</td>\n",
       "      <td>0</td>\n",
       "      <td>15.0</td>\n",
       "      <td>0</td>\n",
       "      <td>True</td>\n",
       "      <td>True</td>\n",
       "      <td>0.646403</td>\n",
       "      <td>False</td>\n",
       "      <td>False</td>\n",
       "      <td>False</td>\n",
       "      <td>False</td>\n",
       "      <td>True</td>\n",
       "      <td>False</td>\n",
       "      <td>0</td>\n",
       "      <td>0.009901</td>\n",
       "      <td>0.755357</td>\n",
       "      <td>0.059534</td>\n",
       "      <td>0.094946</td>\n",
       "      <td>0.457639</td>\n",
       "      <td>0.002740</td>\n",
       "      <td>0.004762</td>\n",
       "      <td>0.708333</td>\n",
       "    </tr>\n",
       "    <tr>\n",
       "      <th>9754041</th>\n",
       "      <td>0.207949</td>\n",
       "      <td>13.0</td>\n",
       "      <td>10218</td>\n",
       "      <td>92</td>\n",
       "      <td>0</td>\n",
       "      <td>0</td>\n",
       "      <td>4</td>\n",
       "      <td>1</td>\n",
       "      <td>2</td>\n",
       "      <td>0</td>\n",
       "      <td>12.0</td>\n",
       "      <td>0</td>\n",
       "      <td>False</td>\n",
       "      <td>True</td>\n",
       "      <td>1.569582</td>\n",
       "      <td>False</td>\n",
       "      <td>False</td>\n",
       "      <td>False</td>\n",
       "      <td>False</td>\n",
       "      <td>True</td>\n",
       "      <td>False</td>\n",
       "      <td>0</td>\n",
       "      <td>0.297030</td>\n",
       "      <td>0.641071</td>\n",
       "      <td>0.207949</td>\n",
       "      <td>0.288809</td>\n",
       "      <td>0.000000</td>\n",
       "      <td>0.016438</td>\n",
       "      <td>0.028571</td>\n",
       "      <td>0.666667</td>\n",
       "    </tr>\n",
       "    <tr>\n",
       "      <th>9754042</th>\n",
       "      <td>0.215663</td>\n",
       "      <td>27.0</td>\n",
       "      <td>2777</td>\n",
       "      <td>92</td>\n",
       "      <td>0</td>\n",
       "      <td>0</td>\n",
       "      <td>3</td>\n",
       "      <td>1</td>\n",
       "      <td>2</td>\n",
       "      <td>0</td>\n",
       "      <td>11.0</td>\n",
       "      <td>0</td>\n",
       "      <td>False</td>\n",
       "      <td>True</td>\n",
       "      <td>1.322429</td>\n",
       "      <td>False</td>\n",
       "      <td>False</td>\n",
       "      <td>False</td>\n",
       "      <td>False</td>\n",
       "      <td>False</td>\n",
       "      <td>True</td>\n",
       "      <td>0</td>\n",
       "      <td>0.059406</td>\n",
       "      <td>0.351786</td>\n",
       "      <td>0.215663</td>\n",
       "      <td>0.046224</td>\n",
       "      <td>0.000000</td>\n",
       "      <td>0.013699</td>\n",
       "      <td>0.023810</td>\n",
       "      <td>0.708333</td>\n",
       "    </tr>\n",
       "  </tbody>\n",
       "</table>\n",
       "<p>9754043 rows × 30 columns</p>\n",
       "</div>"
      ],
      "text/plain": [
       "         01_branch_working_days  branch_minutes_since_last_transaction  \\\n",
       "0                      0.042596                                   15.0   \n",
       "1                      0.278886                                   26.0   \n",
       "2                      0.096093                                    2.0   \n",
       "3                      0.164682                                   48.0   \n",
       "4                      0.651685                                    5.0   \n",
       "...                         ...                                    ...   \n",
       "9754038                0.355190                                    6.0   \n",
       "9754039                0.621499                                   13.0   \n",
       "9754040                0.059534                                    9.0   \n",
       "9754041                0.207949                                   13.0   \n",
       "9754042                0.215663                                   27.0   \n",
       "\n",
       "         branch_trans_3m  count_date_receiver_distinct  branch_has_fraud  \\\n",
       "0                   5449                            91                 0   \n",
       "1                   1338                            92                 0   \n",
       "2                   1985                            91                 0   \n",
       "3                   1624                            64                 0   \n",
       "4                   6806                            92                 2   \n",
       "...                  ...                           ...               ...   \n",
       "9754038             1729                            58                 0   \n",
       "9754039             4792                            92                 0   \n",
       "9754040              883                            92                 0   \n",
       "9754041            10218                            92                 0   \n",
       "9754042             2777                            92                 0   \n",
       "\n",
       "         receiver_has_fraud  branch_trans_40min  branch_trans_10min  \\\n",
       "0                         0                   6                   1   \n",
       "1                         0                   4                   1   \n",
       "2                         0                   9                   2   \n",
       "3                         0                   1                   1   \n",
       "4                         0                   9                   3   \n",
       "...                     ...                 ...                 ...   \n",
       "9754038                   0                   9                   2   \n",
       "9754039                   0                   4                   1   \n",
       "9754040                   0                   4                   2   \n",
       "9754041                   0                   4                   1   \n",
       "9754042                   0                   3                   1   \n",
       "\n",
       "         cash_pick_up_40min  location_nro_fraud  sender_trans_3m  \\\n",
       "0                         5                   0             14.0   \n",
       "1                         3                   0              3.0   \n",
       "2                         5                   0              4.0   \n",
       "3                         1                   0              3.0   \n",
       "4                         5                   2              9.0   \n",
       "...                     ...                 ...              ...   \n",
       "9754038                   3                   0              2.0   \n",
       "9754039                   4                   0             15.0   \n",
       "9754040                   3                   0             15.0   \n",
       "9754041                   2                   0             12.0   \n",
       "9754042                   2                   0             11.0   \n",
       "\n",
       "         sender_nro_fraud  01_isMexico  01_sender_branch_state  \\\n",
       "0                       0        False                    True   \n",
       "1                       0         True                    True   \n",
       "2                       0         True                    True   \n",
       "3                       0         True                    True   \n",
       "4                       0         True                    True   \n",
       "...                   ...          ...                     ...   \n",
       "9754038                 0        False                    True   \n",
       "9754039                 0        False                    True   \n",
       "9754040                 0         True                    True   \n",
       "9754041                 0        False                    True   \n",
       "9754042                 0        False                    True   \n",
       "\n",
       "         01_var_range_hist  01_receiver_fraud  01_branch_fraud  \\\n",
       "0                 0.474415              False            False   \n",
       "1                 0.761194              False            False   \n",
       "2                 1.366460              False            False   \n",
       "3                 0.751912              False            False   \n",
       "4                 1.698113              False             True   \n",
       "...                    ...                ...              ...   \n",
       "9754038           0.604651              False            False   \n",
       "9754039           1.167513              False            False   \n",
       "9754040           0.646403              False            False   \n",
       "9754041           1.569582              False            False   \n",
       "9754042           1.322429              False            False   \n",
       "\n",
       "         01_location_fraud  01_sender_fraud  01_isCashPick  01_isBankDep  \\\n",
       "0                    False            False          False          True   \n",
       "1                    False            False          False          True   \n",
       "2                    False            False           True         False   \n",
       "3                    False            False           True         False   \n",
       "4                     True            False           True         False   \n",
       "...                    ...              ...            ...           ...   \n",
       "9754038              False            False          False          True   \n",
       "9754039              False            False           True         False   \n",
       "9754040              False            False           True         False   \n",
       "9754041              False            False           True         False   \n",
       "9754042              False            False          False          True   \n",
       "\n",
       "         sender_days_to_last_transaction_more7m  \\\n",
       "0                                             0   \n",
       "1                                             0   \n",
       "2                                             0   \n",
       "3                                             0   \n",
       "4                                             0   \n",
       "...                                         ...   \n",
       "9754038                                       0   \n",
       "9754039                                       0   \n",
       "9754040                                       0   \n",
       "9754041                                       0   \n",
       "9754042                                       0   \n",
       "\n",
       "         01_receiver_transaction_count  01_sender_sending_days  \\\n",
       "0                             0.069307                0.248214   \n",
       "1                             0.079208                1.000000   \n",
       "2                             0.108911                0.075000   \n",
       "3                             0.039604                1.000000   \n",
       "4                             0.108911                1.000000   \n",
       "...                                ...                     ...   \n",
       "9754038                       0.000000                0.000000   \n",
       "9754039                       0.069307                0.200000   \n",
       "9754040                       0.009901                0.755357   \n",
       "9754041                       0.297030                0.641071   \n",
       "9754042                       0.059406                0.351786   \n",
       "\n",
       "         01_branch_working_days  01_net_amount_receiver  \\\n",
       "0                      0.042596                0.072202   \n",
       "1                      0.278886                0.122744   \n",
       "2                      0.096093                0.198556   \n",
       "3                      0.164682                0.212996   \n",
       "4                      0.651685                0.072202   \n",
       "...                         ...                     ...   \n",
       "9754038                0.355190                0.023466   \n",
       "9754039                0.621499                0.033213   \n",
       "9754040                0.059534                0.094946   \n",
       "9754041                0.207949                0.288809   \n",
       "9754042                0.215663                0.046224   \n",
       "\n",
       "         01_sender_minutes_since_last_transaction_2days  \\\n",
       "0                                              0.000000   \n",
       "1                                              0.000000   \n",
       "2                                              0.000000   \n",
       "3                                              0.440625   \n",
       "4                                              0.000000   \n",
       "...                                                 ...   \n",
       "9754038                                        0.002083   \n",
       "9754039                                        0.000000   \n",
       "9754040                                        0.457639   \n",
       "9754041                                        0.000000   \n",
       "9754042                                        0.000000   \n",
       "\n",
       "         01_sender_days_to_last_transaction_365  \\\n",
       "0                                      0.013699   \n",
       "1                                      0.021918   \n",
       "2                                      0.052055   \n",
       "3                                      0.002740   \n",
       "4                                      0.038356   \n",
       "...                                         ...   \n",
       "9754038                                0.000000   \n",
       "9754039                                0.019178   \n",
       "9754040                                0.002740   \n",
       "9754041                                0.016438   \n",
       "9754042                                0.013699   \n",
       "\n",
       "         01_sender_days_to_last_transaction_7m  01_hour_receiver  \n",
       "0                                     0.023810          0.541667  \n",
       "1                                     0.038095          0.833333  \n",
       "2                                     0.090476          0.708333  \n",
       "3                                     0.004762          0.541667  \n",
       "4                                     0.066667          0.708333  \n",
       "...                                        ...               ...  \n",
       "9754038                               0.000000          0.500000  \n",
       "9754039                               0.033333          0.416667  \n",
       "9754040                               0.004762          0.708333  \n",
       "9754041                               0.028571          0.666667  \n",
       "9754042                               0.023810          0.708333  \n",
       "\n",
       "[9754043 rows x 30 columns]"
      ]
     },
     "execution_count": 47,
     "metadata": {},
     "output_type": "execute_result"
    }
   ],
   "source": [
    "## Variables of model\n",
    "X_TESTEO = tes[var_input]\n",
    "X_TESTEO"
   ]
  },
  {
   "cell_type": "markdown",
   "metadata": {
    "tags": []
   },
   "source": [
    "#X_TESTEO.loc['branch_minutes_since_last_transaction'] = X_TESTEO['branch_minutes_since_last_transaction'].astype(float)\n",
    "\n",
    "convert_dict = {'branch_minutes_since_last_transaction': float\n",
    "                }\n",
    " \n",
    "X_TESTEO = X_TESTEO.astype(convert_dict)\n",
    "\n",
    "X_TESTEO"
   ]
  },
  {
   "cell_type": "code",
   "execution_count": 48,
   "metadata": {
    "application/vnd.databricks.v1+cell": {
     "cellMetadata": {
      "byteLimit": 2048000,
      "rowLimit": 10000
     },
     "inputWidgets": {},
     "nuid": "72208179-c108-43d3-b300-69ffbdf680c3",
     "showTitle": false,
     "title": ""
    }
   },
   "outputs": [],
   "source": [
    "\n",
    "# Extrayendo la columna 'target' del DataFrame 'testeo' y creando un nuevo DataFrame 'Y_TESTEO'\n",
    "Y_TESTEO = pd.DataFrame(testeo['target'])\n",
    "\n",
    "# Prediciendo la variable objetivo para el conjunto de datos de prueba 'X_TESTEO' utilizando el clasificador LightGBM\n",
    "testeo_data_pred_rf = lgb_classifier.predict(X_TESTEO)\n",
    "\n",
    "# Prediciendo las probabilidades de clase para cada observación en 'X_TESTEO' utilizando el clasificador LightGBM\n",
    "probab_rf = lgb_classifier.predict_proba(X_TESTEO)\n",
    "\n",
    "# Eliminando la primera columna (se asume que son las probabilidades de la clase negativa) de las probabilidades predichas\n",
    "# Se asume que la segunda columna contiene las probabilidades para la clase positiva\n",
    "score_rf = np.delete(probab_rf, np.s_[0], axis=1)\n"
   ]
  },
  {
   "cell_type": "code",
   "execution_count": 49,
   "metadata": {
    "application/vnd.databricks.v1+cell": {
     "cellMetadata": {
      "byteLimit": 2048000,
      "rowLimit": 10000
     },
     "inputWidgets": {},
     "nuid": "9b5268e2-53ec-4de6-b411-6a2bfbbf737d",
     "showTitle": false,
     "title": ""
    }
   },
   "outputs": [],
   "source": [
    "# Creando una copia del DataFrame 'Y_TESTEO' para preservar los datos originales\n",
    "Y_TESTEO_c = Y_TESTEO.copy()\n",
    "\n",
    "# Agregando una nueva columna 'preds_rf' al DataFrame copiado con las predicciones del clasificador LightGBM\n",
    "Y_TESTEO_c['preds_rf'] = testeo_data_pred_rf\n",
    "\n",
    "# Agregando una nueva columna 'score_rf' al DataFrame copiado con las probabilidades de la clase positiva\n",
    "Y_TESTEO_c['score_rf'] = score_rf\n",
    "\n",
    "Y_TESTEO_c['pred_corte'] = Y_TESTEO_c['score_rf']>corte\n",
    "#Y_TESTEO_c['pred_corte'] = Y_TESTEO_c['score_rf']>0.1"
   ]
  },
  {
   "cell_type": "code",
   "execution_count": 50,
   "metadata": {
    "tags": []
   },
   "outputs": [
    {
     "data": {
      "text/html": [
       "<div>\n",
       "<style scoped>\n",
       "    .dataframe tbody tr th:only-of-type {\n",
       "        vertical-align: middle;\n",
       "    }\n",
       "\n",
       "    .dataframe tbody tr th {\n",
       "        vertical-align: top;\n",
       "    }\n",
       "\n",
       "    .dataframe thead th {\n",
       "        text-align: right;\n",
       "    }\n",
       "</style>\n",
       "<table border=\"1\" class=\"dataframe\">\n",
       "  <thead>\n",
       "    <tr style=\"text-align: right;\">\n",
       "      <th></th>\n",
       "      <th>0</th>\n",
       "      <th>1</th>\n",
       "    </tr>\n",
       "  </thead>\n",
       "  <tbody>\n",
       "    <tr>\n",
       "      <th>0</th>\n",
       "      <td>9753875</td>\n",
       "      <td>4</td>\n",
       "    </tr>\n",
       "    <tr>\n",
       "      <th>1</th>\n",
       "      <td>149</td>\n",
       "      <td>15</td>\n",
       "    </tr>\n",
       "  </tbody>\n",
       "</table>\n",
       "</div>"
      ],
      "text/plain": [
       "         0   1\n",
       "0  9753875   4\n",
       "1      149  15"
      ]
     },
     "execution_count": 50,
     "metadata": {},
     "output_type": "execute_result"
    }
   ],
   "source": [
    "pd.DataFrame(confusion_matrix(Y_TESTEO_c['target'], Y_TESTEO_c['preds_rf']))"
   ]
  },
  {
   "cell_type": "code",
   "execution_count": 51,
   "metadata": {},
   "outputs": [
    {
     "data": {
      "text/html": [
       "<div>\n",
       "<style scoped>\n",
       "    .dataframe tbody tr th:only-of-type {\n",
       "        vertical-align: middle;\n",
       "    }\n",
       "\n",
       "    .dataframe tbody tr th {\n",
       "        vertical-align: top;\n",
       "    }\n",
       "\n",
       "    .dataframe thead th {\n",
       "        text-align: right;\n",
       "    }\n",
       "</style>\n",
       "<table border=\"1\" class=\"dataframe\">\n",
       "  <thead>\n",
       "    <tr style=\"text-align: right;\">\n",
       "      <th></th>\n",
       "      <th>0</th>\n",
       "      <th>1</th>\n",
       "    </tr>\n",
       "  </thead>\n",
       "  <tbody>\n",
       "    <tr>\n",
       "      <th>0</th>\n",
       "      <td>9720792</td>\n",
       "      <td>33087</td>\n",
       "    </tr>\n",
       "    <tr>\n",
       "      <th>1</th>\n",
       "      <td>45</td>\n",
       "      <td>119</td>\n",
       "    </tr>\n",
       "  </tbody>\n",
       "</table>\n",
       "</div>"
      ],
      "text/plain": [
       "         0      1\n",
       "0  9720792  33087\n",
       "1       45    119"
      ]
     },
     "execution_count": 51,
     "metadata": {},
     "output_type": "execute_result"
    }
   ],
   "source": [
    "Y_TESTEO_c['pred_corte'] = Y_TESTEO_c['score_rf']>corte\n",
    "pd.DataFrame(confusion_matrix(Y_TESTEO_c['target'], Y_TESTEO_c['pred_corte']))"
   ]
  },
  {
   "cell_type": "code",
   "execution_count": 52,
   "metadata": {},
   "outputs": [
    {
     "name": "stdout",
     "output_type": "stream",
     "text": [
      "FRAUD CAPTURA 30%:\n",
      "0.9939024390243902\n"
     ]
    }
   ],
   "source": [
    "# Dividir las predicciones en deciles y calcular la captura del 30% en el conjunto de entrenamiento\n",
    "percentiles = pd.qcut(Y_TESTEO_c['score_rf'], q=10, duplicates='drop')\n",
    "percentile_label = {p: l for l, p in enumerate(sorted(percentiles.unique(), reverse=True), start=1)}\n",
    "\n",
    "percentiles = percentiles.map(percentile_label)\n",
    "Y_TESTEO_c['FRAUD_DECILE'] = np.nan\n",
    "Y_TESTEO_c['FRAUD_DECILE'] = percentiles\n",
    "Y_TESTEO_c['FRAUD_DECILE'] = Y_TESTEO_c['FRAUD_DECILE'].astype('Int32')\n",
    "print('FRAUD CAPTURA 30%:')\n",
    "print(sum(Y_TESTEO_c[Y_TESTEO_c['FRAUD_DECILE'] < 4]['target']) / sum(Y_TESTEO_c['target']))\n",
    "#Y_TESTEO_c.to_csv(r'./SCORES/primera_prueba.csv')"
   ]
  },
  {
   "cell_type": "code",
   "execution_count": 53,
   "metadata": {
    "application/vnd.databricks.v1+cell": {
     "cellMetadata": {
      "byteLimit": 2048000,
      "rowLimit": 10000
     },
     "inputWidgets": {},
     "nuid": "5e384a20-995d-454d-a88c-8d7acca12cca",
     "showTitle": false,
     "title": ""
    }
   },
   "outputs": [],
   "source": [
    "DECILES = pd.crosstab(Y_TESTEO_c['FRAUD_DECILE'], Y_TESTEO_c['target'])"
   ]
  },
  {
   "cell_type": "code",
   "execution_count": 54,
   "metadata": {
    "application/vnd.databricks.v1+cell": {
     "cellMetadata": {
      "byteLimit": 2048000,
      "rowLimit": 10000
     },
     "inputWidgets": {},
     "nuid": "6a22fdbf-71db-47c3-86e7-dcfea4708f07",
     "showTitle": false,
     "title": ""
    }
   },
   "outputs": [
    {
     "data": {
      "text/html": [
       "<div>\n",
       "<style scoped>\n",
       "    .dataframe tbody tr th:only-of-type {\n",
       "        vertical-align: middle;\n",
       "    }\n",
       "\n",
       "    .dataframe tbody tr th {\n",
       "        vertical-align: top;\n",
       "    }\n",
       "\n",
       "    .dataframe thead th {\n",
       "        text-align: right;\n",
       "    }\n",
       "</style>\n",
       "<table border=\"1\" class=\"dataframe\">\n",
       "  <thead>\n",
       "    <tr style=\"text-align: right;\">\n",
       "      <th>target</th>\n",
       "      <th>False</th>\n",
       "      <th>True</th>\n",
       "    </tr>\n",
       "    <tr>\n",
       "      <th>FRAUD_DECILE</th>\n",
       "      <th></th>\n",
       "      <th></th>\n",
       "    </tr>\n",
       "  </thead>\n",
       "  <tbody>\n",
       "    <tr>\n",
       "      <th>1</th>\n",
       "      <td>975247</td>\n",
       "      <td>158</td>\n",
       "    </tr>\n",
       "    <tr>\n",
       "      <th>2</th>\n",
       "      <td>975399</td>\n",
       "      <td>5</td>\n",
       "    </tr>\n",
       "    <tr>\n",
       "      <th>3</th>\n",
       "      <td>975404</td>\n",
       "      <td>0</td>\n",
       "    </tr>\n",
       "    <tr>\n",
       "      <th>4</th>\n",
       "      <td>975404</td>\n",
       "      <td>0</td>\n",
       "    </tr>\n",
       "    <tr>\n",
       "      <th>5</th>\n",
       "      <td>975403</td>\n",
       "      <td>1</td>\n",
       "    </tr>\n",
       "    <tr>\n",
       "      <th>6</th>\n",
       "      <td>975405</td>\n",
       "      <td>0</td>\n",
       "    </tr>\n",
       "    <tr>\n",
       "      <th>7</th>\n",
       "      <td>975404</td>\n",
       "      <td>0</td>\n",
       "    </tr>\n",
       "    <tr>\n",
       "      <th>8</th>\n",
       "      <td>975404</td>\n",
       "      <td>0</td>\n",
       "    </tr>\n",
       "    <tr>\n",
       "      <th>9</th>\n",
       "      <td>975404</td>\n",
       "      <td>0</td>\n",
       "    </tr>\n",
       "    <tr>\n",
       "      <th>10</th>\n",
       "      <td>975405</td>\n",
       "      <td>0</td>\n",
       "    </tr>\n",
       "  </tbody>\n",
       "</table>\n",
       "</div>"
      ],
      "text/plain": [
       "target         False  True \n",
       "FRAUD_DECILE               \n",
       "1             975247    158\n",
       "2             975399      5\n",
       "3             975404      0\n",
       "4             975404      0\n",
       "5             975403      1\n",
       "6             975405      0\n",
       "7             975404      0\n",
       "8             975404      0\n",
       "9             975404      0\n",
       "10            975405      0"
      ]
     },
     "execution_count": 54,
     "metadata": {},
     "output_type": "execute_result"
    }
   ],
   "source": [
    "DECILES"
   ]
  },
  {
   "cell_type": "code",
   "execution_count": 55,
   "metadata": {
    "tags": []
   },
   "outputs": [
    {
     "data": {
      "text/html": [
       "<div>\n",
       "<style scoped>\n",
       "    .dataframe tbody tr th:only-of-type {\n",
       "        vertical-align: middle;\n",
       "    }\n",
       "\n",
       "    .dataframe tbody tr th {\n",
       "        vertical-align: top;\n",
       "    }\n",
       "\n",
       "    .dataframe thead tr th {\n",
       "        text-align: left;\n",
       "    }\n",
       "\n",
       "    .dataframe thead tr:last-of-type th {\n",
       "        text-align: right;\n",
       "    }\n",
       "</style>\n",
       "<table border=\"1\" class=\"dataframe\">\n",
       "  <thead>\n",
       "    <tr>\n",
       "      <th></th>\n",
       "      <th colspan=\"2\" halign=\"left\">score_rf</th>\n",
       "    </tr>\n",
       "    <tr>\n",
       "      <th></th>\n",
       "      <th>min</th>\n",
       "      <th>max</th>\n",
       "    </tr>\n",
       "    <tr>\n",
       "      <th>FRAUD_DECILE</th>\n",
       "      <th></th>\n",
       "      <th></th>\n",
       "    </tr>\n",
       "  </thead>\n",
       "  <tbody>\n",
       "    <tr>\n",
       "      <th>1</th>\n",
       "      <td>3.085791e-10</td>\n",
       "      <td>9.999995e-01</td>\n",
       "    </tr>\n",
       "    <tr>\n",
       "      <th>2</th>\n",
       "      <td>8.389130e-11</td>\n",
       "      <td>3.085790e-10</td>\n",
       "    </tr>\n",
       "    <tr>\n",
       "      <th>3</th>\n",
       "      <td>3.562964e-11</td>\n",
       "      <td>8.389121e-11</td>\n",
       "    </tr>\n",
       "    <tr>\n",
       "      <th>4</th>\n",
       "      <td>1.797927e-11</td>\n",
       "      <td>3.562955e-11</td>\n",
       "    </tr>\n",
       "    <tr>\n",
       "      <th>5</th>\n",
       "      <td>9.867017e-12</td>\n",
       "      <td>1.797926e-11</td>\n",
       "    </tr>\n",
       "    <tr>\n",
       "      <th>6</th>\n",
       "      <td>5.603628e-12</td>\n",
       "      <td>9.867014e-12</td>\n",
       "    </tr>\n",
       "    <tr>\n",
       "      <th>7</th>\n",
       "      <td>3.175197e-12</td>\n",
       "      <td>5.603628e-12</td>\n",
       "    </tr>\n",
       "    <tr>\n",
       "      <th>8</th>\n",
       "      <td>1.705347e-12</td>\n",
       "      <td>3.175197e-12</td>\n",
       "    </tr>\n",
       "    <tr>\n",
       "      <th>9</th>\n",
       "      <td>7.730173e-13</td>\n",
       "      <td>1.705343e-12</td>\n",
       "    </tr>\n",
       "    <tr>\n",
       "      <th>10</th>\n",
       "      <td>3.687606e-15</td>\n",
       "      <td>7.730159e-13</td>\n",
       "    </tr>\n",
       "  </tbody>\n",
       "</table>\n",
       "</div>"
      ],
      "text/plain": [
       "                  score_rf              \n",
       "                       min           max\n",
       "FRAUD_DECILE                            \n",
       "1             3.085791e-10  9.999995e-01\n",
       "2             8.389130e-11  3.085790e-10\n",
       "3             3.562964e-11  8.389121e-11\n",
       "4             1.797927e-11  3.562955e-11\n",
       "5             9.867017e-12  1.797926e-11\n",
       "6             5.603628e-12  9.867014e-12\n",
       "7             3.175197e-12  5.603628e-12\n",
       "8             1.705347e-12  3.175197e-12\n",
       "9             7.730173e-13  1.705343e-12\n",
       "10            3.687606e-15  7.730159e-13"
      ]
     },
     "execution_count": 55,
     "metadata": {},
     "output_type": "execute_result"
    }
   ],
   "source": [
    "Y_TESTEO_c[['score_rf','FRAUD_DECILE']].groupby(['FRAUD_DECILE']).agg({'score_rf': ['min', 'max']}) "
   ]
  },
  {
   "cell_type": "code",
   "execution_count": 56,
   "metadata": {
    "application/vnd.databricks.v1+cell": {
     "cellMetadata": {
      "byteLimit": 2048000,
      "rowLimit": 10000
     },
     "inputWidgets": {},
     "nuid": "a0acf01d-13b6-4a07-9fb1-93c341c272bc",
     "showTitle": false,
     "title": ""
    }
   },
   "outputs": [
    {
     "data": {
      "text/plain": [
       "array([<Axes: title={'center': 'False'}, xlabel='FRAUD_DECILE'>,\n",
       "       <Axes: title={'center': 'True'}, xlabel='FRAUD_DECILE'>],\n",
       "      dtype=object)"
      ]
     },
     "execution_count": 56,
     "metadata": {},
     "output_type": "execute_result"
    },
    {
     "data": {
      "image/png": "[encoded data removed]",
      "text/plain": [
       "<Figure size 640x480 with 2 Axes>"
      ]
     },
     "metadata": {},
     "output_type": "display_data"
    }
   ],
   "source": [
    "DECILES.plot.bar(stacked=False, rot=0,subplots=True)"
   ]
  },
  {
   "cell_type": "code",
   "execution_count": 57,
   "metadata": {
    "application/vnd.databricks.v1+cell": {
     "cellMetadata": {
      "byteLimit": 2048000,
      "rowLimit": 10000
     },
     "inputWidgets": {},
     "nuid": "54a0c0f2-120c-47e0-9447-85aeb5b4de2d",
     "showTitle": false,
     "title": ""
    }
   },
   "outputs": [],
   "source": [
    "# Calcular la curva de ganancia acumulativa y el LIFT del modelo en el conjunto de entrenamiento\n",
    "#classes = np.unique(Y_TESTEO_c[['target']])\n",
    "#percentages, gains = cumulative_gain_curve(Y_TESTEO_c[['target']], Y_TESTEO_c['score_rf'], classes[1])\n",
    "#percentages = percentages[1:]\n",
    "#gains = gains[1:]\n",
    "#gains = gains / percentages\n",
    "#indice = round(len(gains) * 0.1)\n",
    "#print('LIFT INV CHURN TESTEO:')\n",
    "#print(gains[indice])\n",
    "\n",
    "# Calcular el área bajo la curva ROC del modelo en el conjunto de entrenamiento\n",
    "#print('ROC INV CHURN TESTEO:')\n",
    "#print(roc_auc_score(Y_TESTEO_c[['target']], Y_TESTEO_c['preds_rf']))\n",
    "\n",
    "# Calcular la estadística KS del modelo en el conjunto de entrenamiento\n",
    "#thresholds, pct1, pct2, ks_statistic, max_distance_at, classes = binary_ks_curve(Y_TESTEO_c[['target']], Y_TESTEO_c['score_rf'].ravel())\n",
    "#print('KS INV CHURN TESTEO:')\n",
    "#print(ks_statistic)\n",
    "\n",
    "# Calcular la precisión y el recall del modelo en el conjunto de entrenamiento\n",
    "#precision = precision_score(Y_TESTEO_c[['target']], Y_TESTEO_c['preds_rf'])\n",
    "#recall = recall_score(Y_TESTEO_c[['target']], Y_TESTEO_c['preds_rf'])\n",
    "#print('Precision INV CHURN TESTEO:')\n",
    "#print(precision)\n",
    "#print('Recall INV CHURN TESTEO:')\n",
    "#print(recall)\n"
   ]
  },
  {
   "cell_type": "code",
   "execution_count": 58,
   "metadata": {
    "application/vnd.databricks.v1+cell": {
     "cellMetadata": {
      "byteLimit": 2048000,
      "rowLimit": 10000
     },
     "inputWidgets": {},
     "nuid": "f7f3428a-922f-422d-9395-e73732c39644",
     "showTitle": false,
     "title": ""
    },
    "tags": []
   },
   "outputs": [],
   "source": [
    "#testeo_all10dec2023.to_csv('testeo_60Mx10dec2023.csv')"
   ]
  }
 ],
 "metadata": {
  "application/vnd.databricks.v1+notebook": {
   "dashboards": [],
   "language": "python",
   "notebookMetadata": {
    "pythonIndentUnit": 4
   },
   "notebookName": "03.3-Train MX U_60T(lgbm)",
   "widgets": {}
  },
  "availableInstances": [
   {
    "_defaultOrder": 0,
    "_isFastLaunch": true,
    "category": "General purpose",
    "gpuNum": 0,
    "hideHardwareSpecs": false,
    "memoryGiB": 4,
    "name": "ml.t3.medium",
    "vcpuNum": 2
   },
   {
    "_defaultOrder": 1,
    "_isFastLaunch": false,
    "category": "General purpose",
    "gpuNum": 0,
    "hideHardwareSpecs": false,
    "memoryGiB": 8,
    "name": "ml.t3.large",
    "vcpuNum": 2
   },
   {
    "_defaultOrder": 2,
    "_isFastLaunch": false,
    "category": "General purpose",
    "gpuNum": 0,
    "hideHardwareSpecs": false,
    "memoryGiB": 16,
    "name": "ml.t3.xlarge",
    "vcpuNum": 4
   },
   {
    "_defaultOrder": 3,
    "_isFastLaunch": false,
    "category": "General purpose",
    "gpuNum": 0,
    "hideHardwareSpecs": false,
    "memoryGiB": 32,
    "name": "ml.t3.2xlarge",
    "vcpuNum": 8
   },
   {
    "_defaultOrder": 4,
    "_isFastLaunch": true,
    "category": "General purpose",
    "gpuNum": 0,
    "hideHardwareSpecs": false,
    "memoryGiB": 8,
    "name": "ml.m5.large",
    "vcpuNum": 2
   },
   {
    "_defaultOrder": 5,
    "_isFastLaunch": false,
    "category": "General purpose",
    "gpuNum": 0,
    "hideHardwareSpecs": false,
    "memoryGiB": 16,
    "name": "ml.m5.xlarge",
    "vcpuNum": 4
   },
   {
    "_defaultOrder": 6,
    "_isFastLaunch": false,
    "category": "General purpose",
    "gpuNum": 0,
    "hideHardwareSpecs": false,
    "memoryGiB": 32,
    "name": "ml.m5.2xlarge",
    "vcpuNum": 8
   },
   {
    "_defaultOrder": 7,
    "_isFastLaunch": false,
    "category": "General purpose",
    "gpuNum": 0,
    "hideHardwareSpecs": false,
    "memoryGiB": 64,
    "name": "ml.m5.4xlarge",
    "vcpuNum": 16
   },
   {
    "_defaultOrder": 8,
    "_isFastLaunch": false,
    "category": "General purpose",
    "gpuNum": 0,
    "hideHardwareSpecs": false,
    "memoryGiB": 128,
    "name": "ml.m5.8xlarge",
    "vcpuNum": 32
   },
   {
    "_defaultOrder": 9,
    "_isFastLaunch": false,
    "category": "General purpose",
    "gpuNum": 0,
    "hideHardwareSpecs": false,
    "memoryGiB": 192,
    "name": "ml.m5.12xlarge",
    "vcpuNum": 48
   },
   {
    "_defaultOrder": 10,
    "_isFastLaunch": false,
    "category": "General purpose",
    "gpuNum": 0,
    "hideHardwareSpecs": false,
    "memoryGiB": 256,
    "name": "ml.m5.16xlarge",
    "vcpuNum": 64
   },
   {
    "_defaultOrder": 11,
    "_isFastLaunch": false,
    "category": "General purpose",
    "gpuNum": 0,
    "hideHardwareSpecs": false,
    "memoryGiB": 384,
    "name": "ml.m5.24xlarge",
    "vcpuNum": 96
   },
   {
    "_defaultOrder": 12,
    "_isFastLaunch": false,
    "category": "General purpose",
    "gpuNum": 0,
    "hideHardwareSpecs": false,
    "memoryGiB": 8,
    "name": "ml.m5d.large",
    "vcpuNum": 2
   },
   {
    "_defaultOrder": 13,
    "_isFastLaunch": false,
    "category": "General purpose",
    "gpuNum": 0,
    "hideHardwareSpecs": false,
    "memoryGiB": 16,
    "name": "ml.m5d.xlarge",
    "vcpuNum": 4
   },
   {
    "_defaultOrder": 14,
    "_isFastLaunch": false,
    "category": "General purpose",
    "gpuNum": 0,
    "hideHardwareSpecs": false,
    "memoryGiB": 32,
    "name": "ml.m5d.2xlarge",
    "vcpuNum": 8
   },
   {
    "_defaultOrder": 15,
    "_isFastLaunch": false,
    "category": "General purpose",
    "gpuNum": 0,
    "hideHardwareSpecs": false,
    "memoryGiB": 64,
    "name": "ml.m5d.4xlarge",
    "vcpuNum": 16
   },
   {
    "_defaultOrder": 16,
    "_isFastLaunch": false,
    "category": "General purpose",
    "gpuNum": 0,
    "hideHardwareSpecs": false,
    "memoryGiB": 128,
    "name": "ml.m5d.8xlarge",
    "vcpuNum": 32
   },
   {
    "_defaultOrder": 17,
    "_isFastLaunch": false,
    "category": "General purpose",
    "gpuNum": 0,
    "hideHardwareSpecs": false,
    "memoryGiB": 192,
    "name": "ml.m5d.12xlarge",
    "vcpuNum": 48
   },
   {
    "_defaultOrder": 18,
    "_isFastLaunch": false,
    "category": "General purpose",
    "gpuNum": 0,
    "hideHardwareSpecs": false,
    "memoryGiB": 256,
    "name": "ml.m5d.16xlarge",
    "vcpuNum": 64
   },
   {
    "_defaultOrder": 19,
    "_isFastLaunch": false,
    "category": "General purpose",
    "gpuNum": 0,
    "hideHardwareSpecs": false,
    "memoryGiB": 384,
    "name": "ml.m5d.24xlarge",
    "vcpuNum": 96
   },
   {
    "_defaultOrder": 20,
    "_isFastLaunch": false,
    "category": "General purpose",
    "gpuNum": 0,
    "hideHardwareSpecs": true,
    "memoryGiB": 0,
    "name": "ml.geospatial.interactive",
    "supportedImageNames": [
     "sagemaker-geospatial-v1-0"
    ],
    "vcpuNum": 0
   },
   {
    "_defaultOrder": 21,
    "_isFastLaunch": true,
    "category": "Compute optimized",
    "gpuNum": 0,
    "hideHardwareSpecs": false,
    "memoryGiB": 4,
    "name": "ml.c5.large",
    "vcpuNum": 2
   },
   {
    "_defaultOrder": 22,
    "_isFastLaunch": false,
    "category": "Compute optimized",
    "gpuNum": 0,
    "hideHardwareSpecs": false,
    "memoryGiB": 8,
    "name": "ml.c5.xlarge",
    "vcpuNum": 4
   },
   {
    "_defaultOrder": 23,
    "_isFastLaunch": false,
    "category": "Compute optimized",
    "gpuNum": 0,
    "hideHardwareSpecs": false,
    "memoryGiB": 16,
    "name": "ml.c5.2xlarge",
    "vcpuNum": 8
   },
   {
    "_defaultOrder": 24,
    "_isFastLaunch": false,
    "category": "Compute optimized",
    "gpuNum": 0,
    "hideHardwareSpecs": false,
    "memoryGiB": 32,
    "name": "ml.c5.4xlarge",
    "vcpuNum": 16
   },
   {
    "_defaultOrder": 25,
    "_isFastLaunch": false,
    "category": "Compute optimized",
    "gpuNum": 0,
    "hideHardwareSpecs": false,
    "memoryGiB": 72,
    "name": "ml.c5.9xlarge",
    "vcpuNum": 36
   },
   {
    "_defaultOrder": 26,
    "_isFastLaunch": false,
    "category": "Compute optimized",
    "gpuNum": 0,
    "hideHardwareSpecs": false,
    "memoryGiB": 96,
    "name": "ml.c5.12xlarge",
    "vcpuNum": 48
   },
   {
    "_defaultOrder": 27,
    "_isFastLaunch": false,
    "category": "Compute optimized",
    "gpuNum": 0,
    "hideHardwareSpecs": false,
    "memoryGiB": 144,
    "name": "ml.c5.18xlarge",
    "vcpuNum": 72
   },
   {
    "_defaultOrder": 28,
    "_isFastLaunch": false,
    "category": "Compute optimized",
    "gpuNum": 0,
    "hideHardwareSpecs": false,
    "memoryGiB": 192,
    "name": "ml.c5.24xlarge",
    "vcpuNum": 96
   },
   {
    "_defaultOrder": 29,
    "_isFastLaunch": true,
    "category": "Accelerated computing",
    "gpuNum": 1,
    "hideHardwareSpecs": false,
    "memoryGiB": 16,
    "name": "ml.g4dn.xlarge",
    "vcpuNum": 4
   },
   {
    "_defaultOrder": 30,
    "_isFastLaunch": false,
    "category": "Accelerated computing",
    "gpuNum": 1,
    "hideHardwareSpecs": false,
    "memoryGiB": 32,
    "name": "ml.g4dn.2xlarge",
    "vcpuNum": 8
   },
   {
    "_defaultOrder": 31,
    "_isFastLaunch": false,
    "category": "Accelerated computing",
    "gpuNum": 1,
    "hideHardwareSpecs": false,
    "memoryGiB": 64,
    "name": "ml.g4dn.4xlarge",
    "vcpuNum": 16
   },
   {
    "_defaultOrder": 32,
    "_isFastLaunch": false,
    "category": "Accelerated computing",
    "gpuNum": 1,
    "hideHardwareSpecs": false,
    "memoryGiB": 128,
    "name": "ml.g4dn.8xlarge",
    "vcpuNum": 32
   },
   {
    "_defaultOrder": 33,
    "_isFastLaunch": false,
    "category": "Accelerated computing",
    "gpuNum": 4,
    "hideHardwareSpecs": false,
    "memoryGiB": 192,
    "name": "ml.g4dn.12xlarge",
    "vcpuNum": 48
   },
   {
    "_defaultOrder": 34,
    "_isFastLaunch": false,
    "category": "Accelerated computing",
    "gpuNum": 1,
    "hideHardwareSpecs": false,
    "memoryGiB": 256,
    "name": "ml.g4dn.16xlarge",
    "vcpuNum": 64
   },
   {
    "_defaultOrder": 35,
    "_isFastLaunch": false,
    "category": "Accelerated computing",
    "gpuNum": 1,
    "hideHardwareSpecs": false,
    "memoryGiB": 61,
    "name": "ml.p3.2xlarge",
    "vcpuNum": 8
   },
   {
    "_defaultOrder": 36,
    "_isFastLaunch": false,
    "category": "Accelerated computing",
    "gpuNum": 4,
    "hideHardwareSpecs": false,
    "memoryGiB": 244,
    "name": "ml.p3.8xlarge",
    "vcpuNum": 32
   },
   {
    "_defaultOrder": 37,
    "_isFastLaunch": false,
    "category": "Accelerated computing",
    "gpuNum": 8,
    "hideHardwareSpecs": false,
    "memoryGiB": 488,
    "name": "ml.p3.16xlarge",
    "vcpuNum": 64
   },
   {
    "_defaultOrder": 38,
    "_isFastLaunch": false,
    "category": "Accelerated computing",
    "gpuNum": 8,
    "hideHardwareSpecs": false,
    "memoryGiB": 768,
    "name": "ml.p3dn.24xlarge",
    "vcpuNum": 96
   },
   {
    "_defaultOrder": 39,
    "_isFastLaunch": false,
    "category": "Memory Optimized",
    "gpuNum": 0,
    "hideHardwareSpecs": false,
    "memoryGiB": 16,
    "name": "ml.r5.large",
    "vcpuNum": 2
   },
   {
    "_defaultOrder": 40,
    "_isFastLaunch": false,
    "category": "Memory Optimized",
    "gpuNum": 0,
    "hideHardwareSpecs": false,
    "memoryGiB": 32,
    "name": "ml.r5.xlarge",
    "vcpuNum": 4
   },
   {
    "_defaultOrder": 41,
    "_isFastLaunch": false,
    "category": "Memory Optimized",
    "gpuNum": 0,
    "hideHardwareSpecs": false,
    "memoryGiB": 64,
    "name": "ml.r5.2xlarge",
    "vcpuNum": 8
   },
   {
    "_defaultOrder": 42,
    "_isFastLaunch": false,
    "category": "Memory Optimized",
    "gpuNum": 0,
    "hideHardwareSpecs": false,
    "memoryGiB": 128,
    "name": "ml.r5.4xlarge",
    "vcpuNum": 16
   },
   {
    "_defaultOrder": 43,
    "_isFastLaunch": false,
    "category": "Memory Optimized",
    "gpuNum": 0,
    "hideHardwareSpecs": false,
    "memoryGiB": 256,
    "name": "ml.r5.8xlarge",
    "vcpuNum": 32
   },
   {
    "_defaultOrder": 44,
    "_isFastLaunch": false,
    "category": "Memory Optimized",
    "gpuNum": 0,
    "hideHardwareSpecs": false,
    "memoryGiB": 384,
    "name": "ml.r5.12xlarge",
    "vcpuNum": 48
   },
   {
    "_defaultOrder": 45,
    "_isFastLaunch": false,
    "category": "Memory Optimized",
    "gpuNum": 0,
    "hideHardwareSpecs": false,
    "memoryGiB": 512,
    "name": "ml.r5.16xlarge",
    "vcpuNum": 64
   },
   {
    "_defaultOrder": 46,
    "_isFastLaunch": false,
    "category": "Memory Optimized",
    "gpuNum": 0,
    "hideHardwareSpecs": false,
    "memoryGiB": 768,
    "name": "ml.r5.24xlarge",
    "vcpuNum": 96
   },
   {
    "_defaultOrder": 47,
    "_isFastLaunch": false,
    "category": "Accelerated computing",
    "gpuNum": 1,
    "hideHardwareSpecs": false,
    "memoryGiB": 16,
    "name": "ml.g5.xlarge",
    "vcpuNum": 4
   },
   {
    "_defaultOrder": 48,
    "_isFastLaunch": false,
    "category": "Accelerated computing",
    "gpuNum": 1,
    "hideHardwareSpecs": false,
    "memoryGiB": 32,
    "name": "ml.g5.2xlarge",
    "vcpuNum": 8
   },
   {
    "_defaultOrder": 49,
    "_isFastLaunch": false,
    "category": "Accelerated computing",
    "gpuNum": 1,
    "hideHardwareSpecs": false,
    "memoryGiB": 64,
    "name": "ml.g5.4xlarge",
    "vcpuNum": 16
   },
   {
    "_defaultOrder": 50,
    "_isFastLaunch": false,
    "category": "Accelerated computing",
    "gpuNum": 1,
    "hideHardwareSpecs": false,
    "memoryGiB": 128,
    "name": "ml.g5.8xlarge",
    "vcpuNum": 32
   },
   {
    "_defaultOrder": 51,
    "_isFastLaunch": false,
    "category": "Accelerated computing",
    "gpuNum": 1,
    "hideHardwareSpecs": false,
    "memoryGiB": 256,
    "name": "ml.g5.16xlarge",
    "vcpuNum": 64
   },
   {
    "_defaultOrder": 52,
    "_isFastLaunch": false,
    "category": "Accelerated computing",
    "gpuNum": 4,
    "hideHardwareSpecs": false,
    "memoryGiB": 192,
    "name": "ml.g5.12xlarge",
    "vcpuNum": 48
   },
   {
    "_defaultOrder": 53,
    "_isFastLaunch": false,
    "category": "Accelerated computing",
    "gpuNum": 4,
    "hideHardwareSpecs": false,
    "memoryGiB": 384,
    "name": "ml.g5.24xlarge",
    "vcpuNum": 96
   },
   {
    "_defaultOrder": 54,
    "_isFastLaunch": false,
    "category": "Accelerated computing",
    "gpuNum": 8,
    "hideHardwareSpecs": false,
    "memoryGiB": 768,
    "name": "ml.g5.48xlarge",
    "vcpuNum": 192
   },
   {
    "_defaultOrder": 55,
    "_isFastLaunch": false,
    "category": "Accelerated computing",
    "gpuNum": 8,
    "hideHardwareSpecs": false,
    "memoryGiB": 1152,
    "name": "ml.p4d.24xlarge",
    "vcpuNum": 96
   },
   {
    "_defaultOrder": 56,
    "_isFastLaunch": false,
    "category": "Accelerated computing",
    "gpuNum": 8,
    "hideHardwareSpecs": false,
    "memoryGiB": 1152,
    "name": "ml.p4de.24xlarge",
    "vcpuNum": 96
   },
   {
    "_defaultOrder": 57,
    "_isFastLaunch": false,
    "category": "Accelerated computing",
    "gpuNum": 0,
    "hideHardwareSpecs": false,
    "memoryGiB": 32,
    "name": "ml.trn1.2xlarge",
    "vcpuNum": 8
   },
   {
    "_defaultOrder": 58,
    "_isFastLaunch": false,
    "category": "Accelerated computing",
    "gpuNum": 0,
    "hideHardwareSpecs": false,
    "memoryGiB": 512,
    "name": "ml.trn1.32xlarge",
    "vcpuNum": 128
   },
   {
    "_defaultOrder": 59,
    "_isFastLaunch": false,
    "category": "Accelerated computing",
    "gpuNum": 0,
    "hideHardwareSpecs": false,
    "memoryGiB": 512,
    "name": "ml.trn1n.32xlarge",
    "vcpuNum": 128
   }
  ],
  "instance_type": "ml.m5.large",
  "kernelspec": {
   "display_name": "conda_python3",
   "language": "python",
   "name": "conda_python3"
  },
  "language_info": {
   "codemirror_mode": {
    "name": "ipython",
    "version": 3
   },
   "file_extension": ".py",
   "mimetype": "text/x-python",
   "name": "python",
   "nbconvert_exporter": "python",
   "pygments_lexer": "ipython3",
   "version": "3.10.13"
  }
 },
 "nbformat": 4,
 "nbformat_minor": 4
}
