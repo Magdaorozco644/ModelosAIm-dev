{
 "cells": [
  {
   "cell_type": "markdown",
   "id": "e4c5969e-8131-44dd-b2fc-1ccc80f78d9b",
   "metadata": {},
   "source": [
    "# Create monthly files for train-val-test sets\n",
    " Loads data for one month, performs data processing and save parquet file with results in specified S3 Bucket.\n",
    " Loads table with percentiles used for standarization (Around 20 mns)\n",
    "\n",
    " 0. Load libraries & data\n",
    " 1. Functions for data processing \n",
    " 2. Create new variables \n",
    " 3. Standarize variables\n",
    " 4. Create dummy variables \n",
    " 5. Create target label \n",
    " 6. Save data to S3 Bucket "
   ]
  },
  {
   "cell_type": "markdown",
   "id": "4c9758fc-8e9e-45ec-a3db-74aee350dde1",
   "metadata": {
    "tags": []
   },
   "source": [
    "## Load libraries & data\n",
    "Install & load python libraries\n",
    "Load monthly data from ABT table\n",
    "Load table with percentiles used for standarization"
   ]
  },
  {
   "cell_type": "code",
   "execution_count": 50,
   "id": "2850b1c7-4456-484e-a7ff-df70a0c612c6",
   "metadata": {
    "tags": []
   },
   "outputs": [
    {
     "name": "stdout",
     "output_type": "stream",
     "text": [
      "Requirement already satisfied: pip in /home/ec2-user/anaconda3/envs/python3/lib/python3.10/site-packages (24.2)\n",
      "Requirement already satisfied: pyathena in /home/ec2-user/anaconda3/envs/python3/lib/python3.10/site-packages (3.9.0)\n",
      "Requirement already satisfied: boto3>=1.26.4 in /home/ec2-user/anaconda3/envs/python3/lib/python3.10/site-packages (from pyathena) (1.35.4)\n",
      "Requirement already satisfied: botocore>=1.29.4 in /home/ec2-user/anaconda3/envs/python3/lib/python3.10/site-packages (from pyathena) (1.35.4)\n",
      "Requirement already satisfied: fsspec in /home/ec2-user/anaconda3/envs/python3/lib/python3.10/site-packages (from pyathena) (2024.6.1)\n",
      "Requirement already satisfied: python-dateutil in /home/ec2-user/anaconda3/envs/python3/lib/python3.10/site-packages (from pyathena) (2.9.0)\n",
      "Requirement already satisfied: tenacity>=4.1.0 in /home/ec2-user/anaconda3/envs/python3/lib/python3.10/site-packages (from pyathena) (9.0.0)\n",
      "Requirement already satisfied: jmespath<2.0.0,>=0.7.1 in /home/ec2-user/anaconda3/envs/python3/lib/python3.10/site-packages (from boto3>=1.26.4->pyathena) (1.0.1)\n",
      "Requirement already satisfied: s3transfer<0.11.0,>=0.10.0 in /home/ec2-user/anaconda3/envs/python3/lib/python3.10/site-packages (from boto3>=1.26.4->pyathena) (0.10.2)\n",
      "Requirement already satisfied: urllib3!=2.2.0,<3,>=1.25.4 in /home/ec2-user/anaconda3/envs/python3/lib/python3.10/site-packages (from botocore>=1.29.4->pyathena) (2.2.2)\n",
      "Requirement already satisfied: six>=1.5 in /home/ec2-user/anaconda3/envs/python3/lib/python3.10/site-packages (from python-dateutil->pyathena) (1.16.0)\n"
     ]
    }
   ],
   "source": [
    "!pip install --upgrade pip\n",
    "!pip install pyathena"
   ]
  },
  {
   "cell_type": "code",
   "execution_count": 51,
   "id": "c6a1f253-a5cd-45f2-9375-0e78d9f03d36",
   "metadata": {
    "tags": []
   },
   "outputs": [
    {
     "name": "stdout",
     "output_type": "stream",
     "text": [
      "Requirement already satisfied: seaborn==0.12.2 in /home/ec2-user/anaconda3/envs/python3/lib/python3.10/site-packages (0.12.2)\n",
      "Requirement already satisfied: numpy!=1.24.0,>=1.17 in /home/ec2-user/anaconda3/envs/python3/lib/python3.10/site-packages (from seaborn==0.12.2) (1.22.4)\n",
      "Requirement already satisfied: pandas>=0.25 in /home/ec2-user/anaconda3/envs/python3/lib/python3.10/site-packages (from seaborn==0.12.2) (2.2.2)\n",
      "Requirement already satisfied: matplotlib!=3.6.1,>=3.1 in /home/ec2-user/anaconda3/envs/python3/lib/python3.10/site-packages (from seaborn==0.12.2) (3.8.4)\n",
      "Requirement already satisfied: contourpy>=1.0.1 in /home/ec2-user/anaconda3/envs/python3/lib/python3.10/site-packages (from matplotlib!=3.6.1,>=3.1->seaborn==0.12.2) (1.2.1)\n",
      "Requirement already satisfied: cycler>=0.10 in /home/ec2-user/anaconda3/envs/python3/lib/python3.10/site-packages (from matplotlib!=3.6.1,>=3.1->seaborn==0.12.2) (0.12.1)\n",
      "Requirement already satisfied: fonttools>=4.22.0 in /home/ec2-user/anaconda3/envs/python3/lib/python3.10/site-packages (from matplotlib!=3.6.1,>=3.1->seaborn==0.12.2) (4.53.1)\n",
      "Requirement already satisfied: kiwisolver>=1.3.1 in /home/ec2-user/anaconda3/envs/python3/lib/python3.10/site-packages (from matplotlib!=3.6.1,>=3.1->seaborn==0.12.2) (1.4.5)\n",
      "Requirement already satisfied: packaging>=20.0 in /home/ec2-user/anaconda3/envs/python3/lib/python3.10/site-packages (from matplotlib!=3.6.1,>=3.1->seaborn==0.12.2) (21.3)\n",
      "Requirement already satisfied: pillow>=8 in /home/ec2-user/anaconda3/envs/python3/lib/python3.10/site-packages (from matplotlib!=3.6.1,>=3.1->seaborn==0.12.2) (10.4.0)\n",
      "Requirement already satisfied: pyparsing>=2.3.1 in /home/ec2-user/anaconda3/envs/python3/lib/python3.10/site-packages (from matplotlib!=3.6.1,>=3.1->seaborn==0.12.2) (3.1.2)\n",
      "Requirement already satisfied: python-dateutil>=2.7 in /home/ec2-user/anaconda3/envs/python3/lib/python3.10/site-packages (from matplotlib!=3.6.1,>=3.1->seaborn==0.12.2) (2.9.0)\n",
      "Requirement already satisfied: pytz>=2020.1 in /home/ec2-user/anaconda3/envs/python3/lib/python3.10/site-packages (from pandas>=0.25->seaborn==0.12.2) (2024.1)\n",
      "Requirement already satisfied: tzdata>=2022.7 in /home/ec2-user/anaconda3/envs/python3/lib/python3.10/site-packages (from pandas>=0.25->seaborn==0.12.2) (2024.1)\n",
      "Requirement already satisfied: six>=1.5 in /home/ec2-user/anaconda3/envs/python3/lib/python3.10/site-packages (from python-dateutil>=2.7->matplotlib!=3.6.1,>=3.1->seaborn==0.12.2) (1.16.0)\n"
     ]
    }
   ],
   "source": [
    "#Set seaborn version\n",
    "!pip install seaborn==0.12.2"
   ]
  },
  {
   "cell_type": "code",
   "execution_count": 52,
   "id": "7e9abd8a-4ec6-495f-b230-072db6406e22",
   "metadata": {
    "tags": []
   },
   "outputs": [],
   "source": [
    "#Libraries\n",
    "from pyathena import connect\n",
    "import pandas as pd\n",
    "import datetime as dt\n",
    "import numpy as np\n",
    "import seaborn as sns\n",
    "import matplotlib.pyplot as plt\n",
    "from datetime import datetime\n",
    "from sklearn import preprocessing\n",
    "from sklearn.preprocessing import LabelBinarizer "
   ]
  },
  {
   "cell_type": "code",
   "execution_count": 53,
   "id": "2eb5cf06-511b-42fc-8c9e-3ef305c428de",
   "metadata": {
    "tags": []
   },
   "outputs": [],
   "source": [
    "# DB Setting\n",
    "bucket_name = 's3://viamericas-datalake-dev-us-east-1-283731589572-athena/'\n",
    "origin_name = 'AwsDataCatalog'\n",
    "database_name = 'analytics'\n"
   ]
  },
  {
   "cell_type": "code",
   "execution_count": 54,
   "id": "0f281d0b-391b-467b-9525-1178e14a7495",
   "metadata": {
    "tags": []
   },
   "outputs": [
    {
     "name": "stderr",
     "output_type": "stream",
     "text": [
      "/tmp/ipykernel_13855/852052288.py:13: UserWarning: pandas only supports SQLAlchemy connectable (engine/connection) or database string URI or sqlite3 DBAPI2 connection. Other DBAPI2 objects are not tested. Please consider using SQLAlchemy.\n",
      "  df_ABT = pd.read_sql('''select * from analytics.abt_v5_julia\n",
      "/tmp/ipykernel_13855/852052288.py:28: UserWarning: pandas only supports SQLAlchemy connectable (engine/connection) or database string URI or sqlite3 DBAPI2 connection. Other DBAPI2 objects are not tested. Please consider using SQLAlchemy.\n",
      "  df_perc = pd.read_sql('''select * from analytics.percentiles_variables;''', conn)\n"
     ]
    }
   ],
   "source": [
    "#Connection\n",
    "conn = connect(s3_staging_dir=f'{bucket_name}queryresults/',\n",
    "               region_name='us-east-1')\n",
    "\n",
    "# Month of data to name the parket file that will be stored\n",
    "mes_data = '202302' #812 secs\n",
    "#Set to one for creating files for test and zero for train\n",
    "archivo_test = 0\n",
    "\n",
    "#df_ABT = pd.read_sql('''select * from analytics.abt_perdidos;''', conn)\n",
    "#analytics.abt_v3\n",
    "\n",
    "df_ABT = pd.read_sql('''select * from analytics.abt_v5_julia\n",
    "                            where date_receiver between cast('2023-02-01' as date) and cast('2023-03-01' as date);''', conn)\n",
    "\n",
    "#df_ABT = pd.read_sql('''select abt.id_branch, abt.id_receiver, abt.date_receiver, abt.id_location, abt.id_payer, abt.id_sender_global,\n",
    "#abt.net_amount_receiver, abt.id_payout, abt.id_country_receiver_claim, abt.id_state_receiver_claim,\n",
    "#abt.id_state, abt.branch_working_days, abt.sender_sending_days, abt.sender_days_to_last_transaction,\n",
    "#abt.id_country, abt.fraud_classification, abt.sender_minutes_since_last_transaction, abt.branch_minutes_since_last_transaction,\n",
    "#abt.sender_days_since_last_transaction, abt.fraud_type, abt.id_country_receiver, abt.id_payment,  \n",
    "#abt.id_state_receiver, abt.id_city_receiver, abt.bank_receiver, abt.branch_trans_3m, abt.sender_state, \n",
    "#abt.branch_has_fraud, abt.receiver_has_fraud, abt.branch_trans_40min, abt.branch_trans_10min, abt.cash_pick_up_40min, \n",
    "#abt.location_nro_fraud, abt.sender_trans_3m, abt.range_hist, abt.sender_nro_fraud ,  receiver_transaction_count\n",
    "#from analytics.abt_data_fraud  abt\n",
    "#where date_trunc('DAY',date_receiver) between cast('2024-01-01' as date) and cast('2024-01-31' as date);''', conn)\n",
    "\n",
    "#Bring percentil table for data standarization\n",
    "df_perc = pd.read_sql('''select * from analytics.percentiles_variables;''', conn)\n",
    "#df_perc = pd.read_sql('''select * from analytics.percentiles_variables_update;''', conn)"
   ]
  },
  {
   "cell_type": "code",
   "execution_count": 55,
   "id": "584a6964-2803-4f70-8b96-9d482aa3de14",
   "metadata": {
    "tags": []
   },
   "outputs": [
    {
     "data": {
      "text/html": [
       "<div>\n",
       "<style scoped>\n",
       "    .dataframe tbody tr th:only-of-type {\n",
       "        vertical-align: middle;\n",
       "    }\n",
       "\n",
       "    .dataframe tbody tr th {\n",
       "        vertical-align: top;\n",
       "    }\n",
       "\n",
       "    .dataframe thead th {\n",
       "        text-align: right;\n",
       "    }\n",
       "</style>\n",
       "<table border=\"1\" class=\"dataframe\">\n",
       "  <thead>\n",
       "    <tr style=\"text-align: right;\">\n",
       "      <th></th>\n",
       "      <th>variable</th>\n",
       "      <th>ptile</th>\n",
       "      <th>min</th>\n",
       "      <th>max</th>\n",
       "    </tr>\n",
       "  </thead>\n",
       "  <tbody>\n",
       "    <tr>\n",
       "      <th>0</th>\n",
       "      <td>receiver_transaction_count</td>\n",
       "      <td>1</td>\n",
       "      <td>1.0</td>\n",
       "      <td>1.0</td>\n",
       "    </tr>\n",
       "    <tr>\n",
       "      <th>1</th>\n",
       "      <td>net_amount_receiver</td>\n",
       "      <td>1</td>\n",
       "      <td>0.0</td>\n",
       "      <td>30.0</td>\n",
       "    </tr>\n",
       "    <tr>\n",
       "      <th>2</th>\n",
       "      <td>sender_sending_days</td>\n",
       "      <td>1</td>\n",
       "      <td>0.0</td>\n",
       "      <td>5.0</td>\n",
       "    </tr>\n",
       "    <tr>\n",
       "      <th>3</th>\n",
       "      <td>receiver_transaction_count</td>\n",
       "      <td>99</td>\n",
       "      <td>85.0</td>\n",
       "      <td>102.0</td>\n",
       "    </tr>\n",
       "    <tr>\n",
       "      <th>4</th>\n",
       "      <td>branch_minutes_since_last_transaction</td>\n",
       "      <td>99</td>\n",
       "      <td>1098.0</td>\n",
       "      <td>1385.0</td>\n",
       "    </tr>\n",
       "    <tr>\n",
       "      <th>5</th>\n",
       "      <td>sender_sending_days</td>\n",
       "      <td>99</td>\n",
       "      <td>552.0</td>\n",
       "      <td>560.0</td>\n",
       "    </tr>\n",
       "    <tr>\n",
       "      <th>6</th>\n",
       "      <td>branch_minutes_since_last_transaction</td>\n",
       "      <td>1</td>\n",
       "      <td>-178.0</td>\n",
       "      <td>0.0</td>\n",
       "    </tr>\n",
       "    <tr>\n",
       "      <th>7</th>\n",
       "      <td>branch_working_days</td>\n",
       "      <td>1</td>\n",
       "      <td>-96.0</td>\n",
       "      <td>25.0</td>\n",
       "    </tr>\n",
       "    <tr>\n",
       "      <th>8</th>\n",
       "      <td>net_amount_receiver</td>\n",
       "      <td>99</td>\n",
       "      <td>2275.0</td>\n",
       "      <td>2770.0</td>\n",
       "    </tr>\n",
       "    <tr>\n",
       "      <th>9</th>\n",
       "      <td>branch_working_days</td>\n",
       "      <td>99</td>\n",
       "      <td>5642.0</td>\n",
       "      <td>5867.0</td>\n",
       "    </tr>\n",
       "  </tbody>\n",
       "</table>\n",
       "</div>"
      ],
      "text/plain": [
       "                                variable  ptile     min     max\n",
       "0             receiver_transaction_count      1     1.0     1.0\n",
       "1                    net_amount_receiver      1     0.0    30.0\n",
       "2                    sender_sending_days      1     0.0     5.0\n",
       "3             receiver_transaction_count     99    85.0   102.0\n",
       "4  branch_minutes_since_last_transaction     99  1098.0  1385.0\n",
       "5                    sender_sending_days     99   552.0   560.0\n",
       "6  branch_minutes_since_last_transaction      1  -178.0     0.0\n",
       "7                    branch_working_days      1   -96.0    25.0\n",
       "8                    net_amount_receiver     99  2275.0  2770.0\n",
       "9                    branch_working_days     99  5642.0  5867.0"
      ]
     },
     "execution_count": 55,
     "metadata": {},
     "output_type": "execute_result"
    }
   ],
   "source": [
    "df_perc"
   ]
  },
  {
   "cell_type": "markdown",
   "id": "1ff42287-39fd-498a-8e79-1da2270c7504",
   "metadata": {
    "tags": []
   },
   "source": [
    "## Functions for data processing\n",
    " create_dummies & scale_percentils"
   ]
  },
  {
   "cell_type": "code",
   "execution_count": 56,
   "id": "2f9c9961-c080-4cbc-9054-996b73ff12e6",
   "metadata": {
    "tags": []
   },
   "outputs": [],
   "source": [
    "def scale_percentils(data, Pmin, Pmax, calculo):\n",
    "    \"\"\"\n",
    "    Define scale function\n",
    "\n",
    "    Parameters:\n",
    "    - data: Column to be scale.\n",
    "    - calculo: Whether data is scale using min and max value or predefined value\n",
    "    - Pmin: Value for inferior limit when calculo=0 or percentil for inferior limit when calculo=1 \n",
    "    - Pmax: Value for superior limit when calculo=0 or percentil for superior limit when calculo=1 \n",
    "    - calculo = 1 data is scaled using specified percentiles, Pmin & Pmax, as minimun and maximun\n",
    "    - calculo = 0 data is scaled using values given by Pmin and Pmax values\n",
    "\n",
    "    Returns:\n",
    "    - dataN: scaled data\n",
    "    \"\"\"\n",
    "    m = data.min()\n",
    "    M = data.max()\n",
    "    if calculo==1:\n",
    "        Qmin = Pmin\n",
    "        Qmax = Pmax\n",
    "        q0 = data.quantile(Qmin)\n",
    "        q1 = data.quantile(Qmax)\n",
    "    elif calculo==0:\n",
    "            q0=Pmin\n",
    "            q1=Pmax\n",
    "    data_std = (data - q0) / (q1 - q0)\n",
    "    dataN =  data_std.to_numpy()\n",
    "    #Set limits for outliers\n",
    "    dataN = np.clip(dataN,0,1)\n",
    "    return dataN"
   ]
  },
  {
   "cell_type": "code",
   "execution_count": 57,
   "id": "04516f5f-97f4-4433-9ecd-abdbe29797b5",
   "metadata": {
    "tags": []
   },
   "outputs": [],
   "source": [
    "def create_dummies(df, todummy_list):\n",
    "    \"\"\"\n",
    "    Create dummies from todummy_list list of variables\n",
    "\n",
    "    Parameters:\n",
    "    - df: dataframe with variables\n",
    "    - todummy_list: list of variable names that will be converted to dummies\n",
    "\n",
    "    Returns:\n",
    "    - df: dataframe with new created columns\n",
    "    - names: names of new columns that were created\n",
    "    \"\"\"\n",
    "    df0 = df.copy()\n",
    "    for x in todummy_list:\n",
    "        dummies = pd.get_dummies(df[x], prefix=x, dummy_na=False)\n",
    "        df = df.drop(x, axis = 1)\n",
    "        df = pd.concat([df, dummies], axis=1)\n",
    "        df = pd.DataFrame(df)\n",
    "    return df, df.columns.difference(df0.columns)"
   ]
  },
  {
   "cell_type": "markdown",
   "id": "9588cdc0-0802-4c0e-9297-852ec8caaf0c",
   "metadata": {
    "tags": []
   },
   "source": [
    "## Create new variables\n",
    " a_isMexico & a_sender_branch_state <br>\n",
    " a_isCashPick & a_isBankDep <br>\n",
    " sender_days_to_last_transaction_365 & sender_days_to_last_transaction_more365 <br>\n",
    " sender_days_to_last_transaction_7m & sender_days_to_last_transaction_more7m <br>\n",
    " sender_minutes_since_last_transaction_2days 6 sender_minutes_since_last_transaction_1day <br>\n"
   ]
  },
  {
   "cell_type": "code",
   "execution_count": 58,
   "id": "817ffc2b-8116-4ff1-9bac-744b606e61ab",
   "metadata": {
    "tags": []
   },
   "outputs": [],
   "source": [
    "#Create variables from date_receiver\n",
    "df_ABT['mes'] = df_ABT['date_receiver'].dt.month\n",
    "df_ABT['hour_receiver'] = df_ABT['date_receiver'].dt.hour\n",
    "df_ABT['day_name_receiver'] = df_ABT['date_receiver'].dt.weekday"
   ]
  },
  {
   "cell_type": "code",
   "execution_count": 59,
   "id": "8060fec6-f6c2-4ee5-8d04-2d14ba249250",
   "metadata": {
    "tags": []
   },
   "outputs": [],
   "source": [
    "#If transaction is to Mexico\n",
    "df_ABT['a_isMexico'] = (df_ABT['id_country_receiver_claim'].str.strip() =='MEX')\n",
    "#If sender state is the same as branch state\n",
    "df_ABT['a_sender_branch_state'] = (df_ABT['sender_state'].str.strip() == df_ABT['id_state'].str.strip())\n",
    "#Variance with historical net_amount_receiver for sender\n",
    "df_ABT['a_var_range_hist'] = df_ABT['net_amount_receiver'].astype(float) / df_ABT['range_hist']\n",
    "#Whether receiver had fraud-not reliable\n",
    "df_ABT['a_receiver_fraud'] = (df_ABT['receiver_has_fraud']>0)\n",
    "#Whether branch/location/sender had fraud in the past\n",
    "df_ABT['a_branch_fraud'] = (df_ABT['branch_has_fraud']>0)\n",
    "df_ABT['a_location_fraud'] = (df_ABT['location_nro_fraud']>0)\n",
    "df_ABT['a_sender_fraud'] = (df_ABT['sender_nro_fraud']>0)\n"
   ]
  },
  {
   "cell_type": "code",
   "execution_count": 60,
   "id": "0ec43a34-ebdb-4328-bce2-2f5822c08485",
   "metadata": {},
   "outputs": [],
   "source": [
    "#replace nan with 0 (AGREGADO NUEVO)\n",
    "df_ABT['sender_minutes_since_last_transaction'] = df_ABT['sender_minutes_since_last_transaction'].fillna(0)\n",
    "df_ABT['sender_days_to_last_transaction'] = df_ABT['sender_days_to_last_transaction'].fillna(0)"
   ]
  },
  {
   "cell_type": "code",
   "execution_count": 61,
   "id": "a2bd0991-7dbd-4a9b-82c8-d23fcd7e86b3",
   "metadata": {
    "tags": []
   },
   "outputs": [],
   "source": [
    "#Whether transaction is Cash Pick-up or Bank Deposit\n",
    "cash_payout = ['M','P','S'] #id_payout for Cash Pick-up\n",
    "bankdp_payout =['C','N','X','T'] #id_payout for Bank Deposit\n",
    "\n",
    "df_ABT['a_isCashPick'] = df_ABT.id_payout.isin(cash_payout)\n",
    "df_ABT['a_isBankDep'] = df_ABT.id_payout.isin(bankdp_payout)\n",
    "#df_ABT[['01_isCashPick','id_payout','01_isBankDep']]"
   ]
  },
  {
   "cell_type": "code",
   "execution_count": 62,
   "id": "0644111c-6eec-4f01-9866-f8d430449f8d",
   "metadata": {
    "tags": []
   },
   "outputs": [],
   "source": [
    "#Count days to last transaction only for one year and if dummy variable if not\n",
    "df_ABT['sender_days_to_last_transaction'] = df_ABT['sender_days_to_last_transaction'].abs()\n",
    "df_ABT.loc[:,'sender_days_to_last_transaction_365'] = df_ABT['sender_days_to_last_transaction']\n",
    "df_ABT.loc[:,'sender_days_to_last_transaction_more365'] = 0\n",
    "df_ABT.loc[df_ABT['sender_days_to_last_transaction']> 365, 'sender_days_to_last_transaction_more365'] = 1\n",
    "df_ABT.loc[df_ABT['sender_days_to_last_transaction']> 365, 'sender_days_to_last_transaction_365'] = 0 \n",
    "\n",
    "#Count days to last transaction only for 7 months(suggested by them) and if dummy variable if not\n",
    "df_ABT.loc[:,'sender_days_to_last_transaction_7m'] = df_ABT['sender_days_to_last_transaction']\n",
    "df_ABT.loc[:,'sender_days_to_last_transaction_more7m'] = 0\n",
    "df_ABT.loc[df_ABT['sender_days_to_last_transaction']> 7*30, 'sender_days_to_last_transaction_more7m'] = 1\n",
    "df_ABT.loc[df_ABT['sender_days_to_last_transaction']> 7*30, 'sender_days_to_last_transaction_7m'] = 0 "
   ]
  },
  {
   "cell_type": "code",
   "execution_count": 63,
   "id": "a3ed5842-26dd-442e-8e12-fa3bedb7dad8",
   "metadata": {
    "tags": []
   },
   "outputs": [],
   "source": [
    "#Minutes till last transaction only for one or two days \n",
    "df_ABT.loc[:, 'sender_minutes_since_last_transaction_2days'] = df_ABT['sender_minutes_since_last_transaction']\n",
    "df_ABT.loc[:, 'sender_minutes_since_last_transaction_1day'] = df_ABT['sender_minutes_since_last_transaction']\n",
    "\n",
    "df_ABT.loc[df_ABT['sender_minutes_since_last_transaction']> 2*24*60, 'sender_minutes_since_last_transaction_2days'] = 0\n",
    "df_ABT.loc[df_ABT['sender_minutes_since_last_transaction']> 24*60, 'sender_minutes_since_last_transaction_1day'] = 0"
   ]
  },
  {
   "cell_type": "markdown",
   "id": "86cddff3-d7cc-47bd-a3b1-e6769a443841",
   "metadata": {
    "tags": []
   },
   "source": [
    "## Standarize variables\n",
    "sender_days_to_last_transaction_365, sender_minutes_since_last_transaction_2days, net_amount_receiver, sender_sending_days, branch_working_days, receiver_transaction_count"
   ]
  },
  {
   "cell_type": "code",
   "execution_count": 64,
   "id": "983792e4-a974-4846-8ecb-26d143b638c6",
   "metadata": {
    "tags": []
   },
   "outputs": [
    {
     "data": {
      "text/plain": [
       "0           255.75\n",
       "1           130.00\n",
       "2           900.00\n",
       "3          2900.00\n",
       "4           100.00\n",
       "            ...   \n",
       "1765464      40.00\n",
       "1765465     511.00\n",
       "1765466     150.00\n",
       "1765467     700.00\n",
       "1765468     300.00\n",
       "Name: net_amount_receiver, Length: 1765469, dtype: float64"
      ]
     },
     "execution_count": 64,
     "metadata": {},
     "output_type": "execute_result"
    }
   ],
   "source": [
    "#New Variables\n",
    "df_ABT['branch_trans_3m']\n",
    "df_ABT['sender_trans_3m']\n",
    "df_ABT['location_nro_fraud']\n",
    "df_ABT['branch_has_fraud']\n",
    "df_ABT['sender_nro_fraud']\n",
    "df_ABT['branch_trans_40min']\n",
    "df_ABT['branch_trans_10min']\n",
    "df_ABT['receiver_transaction_count']\n",
    "df_ABT['sender_sending_days']\n",
    "df_ABT['branch_working_days']\n",
    "df_ABT['net_amount_receiver']"
   ]
  },
  {
   "cell_type": "code",
   "execution_count": 65,
   "id": "e150fab3-c312-4116-ae48-9c1455c08c46",
   "metadata": {
    "tags": []
   },
   "outputs": [],
   "source": [
    "df_ABT.loc[np.isnan(df_ABT.receiver_transaction_count),'receiver_transaction_count'] = 0\n",
    "df_ABT.loc[np.isnan(df_ABT.branch_working_days),'branch_working_days'] = 0"
   ]
  },
  {
   "cell_type": "code",
   "execution_count": 66,
   "id": "964e6ad3-aa5c-4bc9-b869-440246d5f1ee",
   "metadata": {
    "tags": []
   },
   "outputs": [
    {
     "data": {
      "text/plain": [
       "0.0"
      ]
     },
     "execution_count": 66,
     "metadata": {},
     "output_type": "execute_result"
    }
   ],
   "source": [
    "df_perc.loc[(df_perc['variable']=='net_amount_receiver') & (df_perc['ptile']==99),'max'].item() #2770\n",
    "df_perc.loc[(df_perc['variable']=='net_amount_receiver') & (df_perc['ptile']==1),'min'].item() #0\n",
    "df_perc.loc[(df_perc['variable']=='sender_sending_days') & (df_perc['ptile']==99),'max'].item() #560\n",
    "df_perc.loc[(df_perc['variable']=='sender_sending_days') & (df_perc['ptile']==1),'min'].item() #"
   ]
  },
  {
   "cell_type": "code",
   "execution_count": 67,
   "id": "cbe73b06-2442-48c2-b73f-24eda30d96d6",
   "metadata": {
    "tags": []
   },
   "outputs": [],
   "source": [
    "#Standarize rest of the variables\n",
    "Mx = df_perc.loc[(df_perc['variable']=='net_amount_receiver') & (df_perc['ptile']==99),'max'].item()\n",
    "mn = df_perc.loc[(df_perc['variable']=='net_amount_receiver') & (df_perc['ptile']==1),'min'].item()\n",
    "\n",
    "Mx = int(Mx)\n",
    "mn = int(mn)\n",
    "#Mx = 2200\n",
    "#mn = 0\n",
    "\n",
    "\n",
    "df_ABT['a_net_amount_receiver'] = scale_percentils(df_ABT['net_amount_receiver'].astype(int), mn, Mx, 0)\n",
    "\n",
    "\n",
    "Mx = df_perc.loc[(df_perc['variable']=='receiver_transaction_count') & (df_perc['ptile']==99),'max'].item()\n",
    "mn = df_perc.loc[(df_perc['variable']=='receiver_transaction_count') & (df_perc['ptile']==1),'min'].item()\n",
    "\n",
    "Mx = int(Mx)\n",
    "mn = int(mn)\n",
    "\n",
    "df_ABT['a_receiver_transaction_count'] = scale_percentils(df_ABT['receiver_transaction_count'].astype(int), mn, Mx, 0)\n",
    "\n",
    "Mx = df_perc.loc[(df_perc['variable']=='sender_sending_days') & (df_perc['ptile']==99),'max'].item()\n",
    "mn = df_perc.loc[(df_perc['variable']=='sender_sending_days') & (df_perc['ptile']==1),'min'].item()\n",
    "\n",
    "Mx = int(Mx)\n",
    "mn = int(mn)\n",
    "#Mx = 500\n",
    "#mn = 0\n",
    "\n",
    "df_ABT['a_sender_sending_days'] = scale_percentils(df_ABT['sender_sending_days'], mn, Mx, 0)\n",
    "\n",
    "\n",
    "Mx = 2880\n",
    "mn = 0\n",
    "df_ABT['a_sender_minutes_since_last_transaction_2days'] = scale_percentils(df_ABT['sender_minutes_since_last_transaction_2days'], mn, Mx, 0)\n",
    "\n",
    "Mx = 1440\n",
    "mn = 0\n",
    "df_ABT['a_sender_minutes_since_last_transaction_1day'] = scale_percentils(df_ABT['sender_minutes_since_last_transaction_1day'], mn, Mx, 0)\n",
    "\n",
    "Mx = 365\n",
    "mn = 0\n",
    "df_ABT['a_sender_days_to_last_transaction_365'] = scale_percentils(df_ABT['sender_days_to_last_transaction_365'].abs(), mn, Mx, 0)\n",
    "\n",
    "Mx = 7*30\n",
    "mn = 0\n",
    "df_ABT['a_sender_days_to_last_transaction_7m'] = scale_percentils(df_ABT['sender_days_to_last_transaction_7m'].abs(), mn, Mx, 0)\n",
    "\n",
    "Mx = 24\n",
    "mn = 0\n",
    "df_ABT['a_hour_receiver'] = scale_percentils(df_ABT['hour_receiver'], mn, Mx, 0)"
   ]
  },
  {
   "cell_type": "code",
   "execution_count": 68,
   "id": "a5a4ed41-5d5f-4f27-880b-4a266e2aa86c",
   "metadata": {
    "tags": []
   },
   "outputs": [
    {
     "name": "stderr",
     "output_type": "stream",
     "text": [
      "/home/ec2-user/anaconda3/envs/python3/lib/python3.10/site-packages/seaborn/_oldcore.py:1119: FutureWarning: use_inf_as_na option is deprecated and will be removed in a future version. Convert inf values to NaN before operating instead.\n",
      "  with pd.option_context('mode.use_inf_as_na', True):\n",
      "/home/ec2-user/anaconda3/envs/python3/lib/python3.10/site-packages/seaborn/_oldcore.py:1119: FutureWarning: use_inf_as_na option is deprecated and will be removed in a future version. Convert inf values to NaN before operating instead.\n",
      "  with pd.option_context('mode.use_inf_as_na', True):\n"
     ]
    },
    {
     "data": {
      "text/plain": [
       "<Axes: xlabel='a_sender_sending_days', ylabel='Count'>"
      ]
     },
     "execution_count": 68,
     "metadata": {},
     "output_type": "execute_result"
    },
    {
     "data": {
      "image/png": "[encoded data removed]",
      "text/plain": [
       "<Figure size 1200x400 with 2 Axes>"
      ]
     },
     "metadata": {},
     "output_type": "display_data"
    }
   ],
   "source": [
    "fig, axs = plt.subplots(1,2,figsize = (12, 4))\n",
    "sns.histplot(data=df_ABT, x=\"sender_sending_days\", ax = axs[0])\n",
    "sns.histplot(data=df_ABT, x=\"a_sender_sending_days\", ax = axs[1])"
   ]
  },
  {
   "cell_type": "code",
   "execution_count": 69,
   "id": "72512ac3-3056-44c2-8900-9f292f7a3cd4",
   "metadata": {
    "tags": []
   },
   "outputs": [
    {
     "name": "stderr",
     "output_type": "stream",
     "text": [
      "/home/ec2-user/anaconda3/envs/python3/lib/python3.10/site-packages/seaborn/_oldcore.py:1119: FutureWarning: use_inf_as_na option is deprecated and will be removed in a future version. Convert inf values to NaN before operating instead.\n",
      "  with pd.option_context('mode.use_inf_as_na', True):\n",
      "/home/ec2-user/anaconda3/envs/python3/lib/python3.10/site-packages/seaborn/_oldcore.py:1119: FutureWarning: use_inf_as_na option is deprecated and will be removed in a future version. Convert inf values to NaN before operating instead.\n",
      "  with pd.option_context('mode.use_inf_as_na', True):\n"
     ]
    },
    {
     "data": {
      "text/plain": [
       "<Axes: xlabel='a_receiver_transaction_count', ylabel='Count'>"
      ]
     },
     "execution_count": 69,
     "metadata": {},
     "output_type": "execute_result"
    },
    {
     "data": {
      "image/png": "[encoded data removed]",
      "text/plain": [
       "<Figure size 1200x400 with 2 Axes>"
      ]
     },
     "metadata": {},
     "output_type": "display_data"
    }
   ],
   "source": [
    "#df_ABT['receiver_transaction_count'] = df_ABT['receiver_transaction_count'].astype(int)\n",
    "fig, axs = plt.subplots(1,2,figsize = (12, 4))\n",
    "sns.histplot(data=df_ABT, x=\"receiver_transaction_count\", ax = axs[0])\n",
    "sns.histplot(data=df_ABT, x=\"a_receiver_transaction_count\", ax = axs[1])"
   ]
  },
  {
   "cell_type": "code",
   "execution_count": 70,
   "id": "bd25558b-21fd-4c80-a000-06b53ac0ccec",
   "metadata": {
    "tags": []
   },
   "outputs": [
    {
     "name": "stderr",
     "output_type": "stream",
     "text": [
      "/home/ec2-user/anaconda3/envs/python3/lib/python3.10/site-packages/seaborn/_oldcore.py:1119: FutureWarning: use_inf_as_na option is deprecated and will be removed in a future version. Convert inf values to NaN before operating instead.\n",
      "  with pd.option_context('mode.use_inf_as_na', True):\n",
      "/home/ec2-user/anaconda3/envs/python3/lib/python3.10/site-packages/seaborn/_oldcore.py:1119: FutureWarning: use_inf_as_na option is deprecated and will be removed in a future version. Convert inf values to NaN before operating instead.\n",
      "  with pd.option_context('mode.use_inf_as_na', True):\n"
     ]
    },
    {
     "data": {
      "text/plain": [
       "<Axes: xlabel='a_sender_days_to_last_transaction_365', ylabel='Count'>"
      ]
     },
     "execution_count": 70,
     "metadata": {},
     "output_type": "execute_result"
    },
    {
     "data": {
      "image/png": "[encoded data removed]",
      "text/plain": [
       "<Figure size 1200x400 with 2 Axes>"
      ]
     },
     "metadata": {},
     "output_type": "display_data"
    }
   ],
   "source": [
    "fig, axs = plt.subplots(1,2,figsize = (12, 4))\n",
    "sns.histplot(data=df_ABT, x=\"sender_days_to_last_transaction_365\", ax = axs[0])\n",
    "sns.histplot(data=df_ABT, x=\"a_sender_days_to_last_transaction_365\", ax = axs[1])"
   ]
  },
  {
   "cell_type": "markdown",
   "id": "b65320af-7616-4484-8d02-50384a1508a4",
   "metadata": {
    "tags": []
   },
   "source": [
    "## Create dummy variables"
   ]
  },
  {
   "cell_type": "code",
   "execution_count": 71,
   "id": "19911ce0-81cd-4119-a911-9cbf35badf34",
   "metadata": {
    "tags": []
   },
   "outputs": [],
   "source": [
    "#The final model doesn`t incorporate these variables\n",
    "todummy_list = ['day_name_receiver','id_payout']\n",
    "[df_ABT, var_nuevas] = create_dummies(df_ABT, todummy_list)"
   ]
  },
  {
   "cell_type": "markdown",
   "id": "e236484e-0e85-4a88-b930-cc1ff783b66f",
   "metadata": {
    "tags": []
   },
   "source": [
    "## Create target label"
   ]
  },
  {
   "cell_type": "code",
   "execution_count": 72,
   "id": "d35931e3-9602-4eac-a5f2-1e93928dba0d",
   "metadata": {
    "tags": []
   },
   "outputs": [
    {
     "data": {
      "text/plain": [
       "fraud_type\n",
       "Payment          28\n",
       "Remote access     5\n",
       "Red phone         1\n",
       "Name: count, dtype: int64"
      ]
     },
     "execution_count": 72,
     "metadata": {},
     "output_type": "execute_result"
    }
   ],
   "source": [
    "#Standarize fraud_type \n",
    "df_ABT['fraud_type'] = df_ABT['fraud_type'].str.capitalize()\n",
    "df_ABT['fraud_type'].value_counts()"
   ]
  },
  {
   "cell_type": "code",
   "execution_count": 73,
   "id": "c8e16e2e-9daf-4df4-a470-0821db639a46",
   "metadata": {
    "tags": []
   },
   "outputs": [],
   "source": [
    "# defino los targets\n",
    "df_ABT['targetR'] = df_ABT['fraud_type'] == 'Remote access'\n",
    "df_ABT['targetP'] = df_ABT['fraud_type'] == 'Payment'\n",
    "df_ABT['target_fraudes'] = df_ABT['fraud_classification'].notnull()\n"
   ]
  },
  {
   "cell_type": "code",
   "execution_count": 74,
   "id": "cf8cb416-4264-42ea-ba50-af7ea0b04883",
   "metadata": {
    "tags": []
   },
   "outputs": [],
   "source": [
    "#Solo para corregir nuevpos datos\n",
    "df_ABT['target_fraudes'] = (df_ABT['fraud_classification']=='Real')\n",
    "df_ABT['target_fraudes']  = df_ABT.fraud_classification.isin(['Real','Distraction'])"
   ]
  },
  {
   "cell_type": "code",
   "execution_count": 75,
   "id": "19723461-6fe9-43f4-9a3b-b37213efd4c7",
   "metadata": {
    "tags": []
   },
   "outputs": [
    {
     "data": {
      "text/plain": [
       "fraud_classification\n",
       "Real           34\n",
       "Distraction    24\n",
       "Name: count, dtype: int64"
      ]
     },
     "execution_count": 75,
     "metadata": {},
     "output_type": "execute_result"
    }
   ],
   "source": [
    "df_ABT['fraud_classification'].value_counts()"
   ]
  },
  {
   "cell_type": "code",
   "execution_count": 76,
   "id": "dbfd9bdb-fb8a-4ec4-8edf-40ddfc90f4a7",
   "metadata": {
    "tags": []
   },
   "outputs": [
    {
     "data": {
      "text/plain": [
       "targetR\n",
       "False    1765464\n",
       "True           5\n",
       "Name: count, dtype: int64"
      ]
     },
     "execution_count": 76,
     "metadata": {},
     "output_type": "execute_result"
    }
   ],
   "source": [
    "df_ABT['targetR'].value_counts()"
   ]
  },
  {
   "cell_type": "code",
   "execution_count": 77,
   "id": "c6796bb8-2d8f-4385-8cec-0a5572c5e1e0",
   "metadata": {
    "tags": []
   },
   "outputs": [
    {
     "data": {
      "text/plain": [
       "targetP\n",
       "False    1765441\n",
       "True          28\n",
       "Name: count, dtype: int64"
      ]
     },
     "execution_count": 77,
     "metadata": {},
     "output_type": "execute_result"
    }
   ],
   "source": [
    "df_ABT['targetP'].value_counts()"
   ]
  },
  {
   "cell_type": "code",
   "execution_count": 78,
   "id": "2989957e-7742-4f7c-93d9-cd55639e4b5c",
   "metadata": {
    "tags": []
   },
   "outputs": [
    {
     "data": {
      "text/plain": [
       "target_fraudes\n",
       "False    1765411\n",
       "True          58\n",
       "Name: count, dtype: int64"
      ]
     },
     "execution_count": 78,
     "metadata": {},
     "output_type": "execute_result"
    }
   ],
   "source": [
    "df_ABT['target_fraudes'].value_counts()"
   ]
  },
  {
   "cell_type": "code",
   "execution_count": 79,
   "id": "4c84314f-5df5-45c7-9c3d-2f7060de863c",
   "metadata": {
    "tags": []
   },
   "outputs": [
    {
     "data": {
      "text/plain": [
       "array(['id_branch', 'id_receiver', 'date_receiver', 'id_location',\n",
       "       'id_payer', 'id_sender_global', 'net_amount_receiver',\n",
       "       'id_country_receiver_claim', 'id_state_receiver_claim', 'id_state',\n",
       "       'branch_working_days', 'sender_sending_days',\n",
       "       'sender_days_to_last_transaction', 'id_country',\n",
       "       'fraud_classification', 'sender_minutes_since_last_transaction',\n",
       "       'branch_minutes_since_last_transaction',\n",
       "       'sender_days_since_last_transaction', 'fraud_type',\n",
       "       'fraud_classification_2', 'id_country_receiver', 'id_payment',\n",
       "       'id_state_receiver', 'id_city_receiver', 'bank_receiver',\n",
       "       'branch_trans_3m', 'sender_state', 'branch_has_fraud',\n",
       "       'receiver_has_fraud', 'branch_trans_40min', 'branch_trans_10min',\n",
       "       'cash_pick_up_40min', 'location_nro_fraud', 'sender_trans_3m',\n",
       "       'range_hist', 'sender_nro_fraud', 'receiver_transaction_count',\n",
       "       'mes', 'hour_receiver', 'a_isMexico', 'a_sender_branch_state',\n",
       "       'a_var_range_hist', 'a_receiver_fraud', 'a_branch_fraud',\n",
       "       'a_location_fraud', 'a_sender_fraud', 'a_isCashPick',\n",
       "       'a_isBankDep', 'sender_days_to_last_transaction_365',\n",
       "       'sender_days_to_last_transaction_more365',\n",
       "       'sender_days_to_last_transaction_7m',\n",
       "       'sender_days_to_last_transaction_more7m',\n",
       "       'sender_minutes_since_last_transaction_2days',\n",
       "       'sender_minutes_since_last_transaction_1day',\n",
       "       'a_net_amount_receiver', 'a_receiver_transaction_count',\n",
       "       'a_sender_sending_days',\n",
       "       'a_sender_minutes_since_last_transaction_2days',\n",
       "       'a_sender_minutes_since_last_transaction_1day',\n",
       "       'a_sender_days_to_last_transaction_365',\n",
       "       'a_sender_days_to_last_transaction_7m', 'a_hour_receiver',\n",
       "       'day_name_receiver_0', 'day_name_receiver_1',\n",
       "       'day_name_receiver_2', 'day_name_receiver_3',\n",
       "       'day_name_receiver_4', 'day_name_receiver_5',\n",
       "       'day_name_receiver_6', 'id_payout_A', 'id_payout_C', 'id_payout_D',\n",
       "       'id_payout_M', 'id_payout_N', 'id_payout_O', 'id_payout_P',\n",
       "       'id_payout_S', 'id_payout_T', 'id_payout_X', 'targetR', 'targetP',\n",
       "       'target_fraudes'], dtype=object)"
      ]
     },
     "execution_count": 79,
     "metadata": {},
     "output_type": "execute_result"
    }
   ],
   "source": [
    "df_ABT.columns.values"
   ]
  },
  {
   "cell_type": "markdown",
   "id": "1ff64d64-0669-4917-8169-6c89ce925375",
   "metadata": {
    "tags": []
   },
   "source": [
    "## Save files to S3 Bucket"
   ]
  },
  {
   "cell_type": "code",
   "execution_count": 80,
   "id": "7ae5411d-50c4-4812-89f4-155d0705b2fa",
   "metadata": {
    "tags": []
   },
   "outputs": [],
   "source": [
    "#Keep variables used in the model\n",
    "df_ABT.columns.values\n",
    "#df = df_ABT.drop(columns=[ 'fraud_type','fraud_classification_2','id_country_receiver',\n",
    "#       'id_payment', 'id_state_receiver', 'id_city_receiver', 'bank_receiver',\n",
    "#        'targetR','targetP','target_fraudes'])\n",
    "\n",
    "df = df_ABT.drop(columns=[ 'fraud_type','id_country_receiver',\n",
    "       'id_payment', 'id_state_receiver', 'id_city_receiver', 'bank_receiver',\n",
    "        'targetR','targetP','target_fraudes'])\n",
    "\n",
    "#df = pd.concat([df, df_ABT[var_nuevas]], axis=1)\n",
    "df = pd.concat([df, df_ABT[['targetR','targetP','target_fraudes']]], axis=1)\n"
   ]
  },
  {
   "cell_type": "code",
   "execution_count": 81,
   "id": "add330ae-0d34-4c56-8f87-fd02df009281",
   "metadata": {
    "tags": []
   },
   "outputs": [],
   "source": [
    "import os\n",
    "import pyarrow as pa\n",
    "import pyarrow.parquet as pq"
   ]
  },
  {
   "cell_type": "code",
   "execution_count": 82,
   "id": "5470713d-b255-4419-851d-e9484ab5bfe7",
   "metadata": {
    "tags": []
   },
   "outputs": [
    {
     "name": "stdout",
     "output_type": "stream",
     "text": [
      "finish saving parquet\n"
     ]
    }
   ],
   "source": [
    "# Set to desired S3 bucket to save train and test sets\n",
    "if archivo_test == 0:\n",
    "    s3_url = f\"s3://viamericas-datalake-dev-us-east-1-283731589572-raw/FraudModel/Train/Preproc_Fr_{mes_data}.parquet\"\n",
    "elif archivo_test ==1:\n",
    "    s3_url = f\"s3://viamericas-datalake-dev-us-east-1-283731589572-raw/FraudModel/Test/Preproc_Fr_{mes_data}.parquet\"\n",
    "df.to_parquet(path=s3_url, engine='pyarrow', compression='gzip')\n",
    "print('finish saving parquet')"
   ]
  },
  {
   "cell_type": "code",
   "execution_count": 83,
   "id": "8a352222-4890-433a-890c-daaf6df14b6e",
   "metadata": {
    "tags": []
   },
   "outputs": [
    {
     "data": {
      "text/html": [
       "<div>\n",
       "<style scoped>\n",
       "    .dataframe tbody tr th:only-of-type {\n",
       "        vertical-align: middle;\n",
       "    }\n",
       "\n",
       "    .dataframe tbody tr th {\n",
       "        vertical-align: top;\n",
       "    }\n",
       "\n",
       "    .dataframe thead th {\n",
       "        text-align: right;\n",
       "    }\n",
       "</style>\n",
       "<table border=\"1\" class=\"dataframe\">\n",
       "  <thead>\n",
       "    <tr style=\"text-align: right;\">\n",
       "      <th></th>\n",
       "      <th>id_branch</th>\n",
       "      <th>id_receiver</th>\n",
       "      <th>date_receiver</th>\n",
       "      <th>id_location</th>\n",
       "      <th>id_payer</th>\n",
       "      <th>id_sender_global</th>\n",
       "      <th>net_amount_receiver</th>\n",
       "      <th>id_country_receiver_claim</th>\n",
       "      <th>id_state_receiver_claim</th>\n",
       "      <th>id_state</th>\n",
       "      <th>...</th>\n",
       "      <th>id_payout_M</th>\n",
       "      <th>id_payout_N</th>\n",
       "      <th>id_payout_O</th>\n",
       "      <th>id_payout_P</th>\n",
       "      <th>id_payout_S</th>\n",
       "      <th>id_payout_T</th>\n",
       "      <th>id_payout_X</th>\n",
       "      <th>targetR</th>\n",
       "      <th>targetP</th>\n",
       "      <th>target_fraudes</th>\n",
       "    </tr>\n",
       "  </thead>\n",
       "  <tbody>\n",
       "    <tr>\n",
       "      <th>0</th>\n",
       "      <td>A17320</td>\n",
       "      <td>2860</td>\n",
       "      <td>2023-02-14 18:51:49.513</td>\n",
       "      <td>SC0166</td>\n",
       "      <td>T085</td>\n",
       "      <td>853028</td>\n",
       "      <td>255.75</td>\n",
       "      <td>GUA</td>\n",
       "      <td>GUA8</td>\n",
       "      <td>SC</td>\n",
       "      <td>...</td>\n",
       "      <td>False</td>\n",
       "      <td>False</td>\n",
       "      <td>False</td>\n",
       "      <td>True</td>\n",
       "      <td>False</td>\n",
       "      <td>False</td>\n",
       "      <td>False</td>\n",
       "      <td>False</td>\n",
       "      <td>False</td>\n",
       "      <td>False</td>\n",
       "    </tr>\n",
       "    <tr>\n",
       "      <th>1</th>\n",
       "      <td>A16522</td>\n",
       "      <td>119041</td>\n",
       "      <td>2023-02-24 16:11:04.220</td>\n",
       "      <td>MD0776</td>\n",
       "      <td>T228</td>\n",
       "      <td>6105698</td>\n",
       "      <td>130.00</td>\n",
       "      <td>GUA</td>\n",
       "      <td>GUA8</td>\n",
       "      <td>MD</td>\n",
       "      <td>...</td>\n",
       "      <td>False</td>\n",
       "      <td>False</td>\n",
       "      <td>False</td>\n",
       "      <td>True</td>\n",
       "      <td>False</td>\n",
       "      <td>False</td>\n",
       "      <td>False</td>\n",
       "      <td>False</td>\n",
       "      <td>False</td>\n",
       "      <td>False</td>\n",
       "    </tr>\n",
       "    <tr>\n",
       "      <th>2</th>\n",
       "      <td>A19991</td>\n",
       "      <td>101959</td>\n",
       "      <td>2023-02-15 14:38:27.753</td>\n",
       "      <td>WI0127</td>\n",
       "      <td>T232</td>\n",
       "      <td>6278344</td>\n",
       "      <td>900.00</td>\n",
       "      <td>MEX</td>\n",
       "      <td>MEX27</td>\n",
       "      <td>WI</td>\n",
       "      <td>...</td>\n",
       "      <td>False</td>\n",
       "      <td>False</td>\n",
       "      <td>False</td>\n",
       "      <td>True</td>\n",
       "      <td>False</td>\n",
       "      <td>False</td>\n",
       "      <td>False</td>\n",
       "      <td>False</td>\n",
       "      <td>False</td>\n",
       "      <td>False</td>\n",
       "    </tr>\n",
       "    <tr>\n",
       "      <th>3</th>\n",
       "      <td>A11886</td>\n",
       "      <td>64806</td>\n",
       "      <td>2023-02-24 18:28:58.600</td>\n",
       "      <td>VA0666</td>\n",
       "      <td>T085</td>\n",
       "      <td>7527532</td>\n",
       "      <td>2900.00</td>\n",
       "      <td>GUA</td>\n",
       "      <td>GUA14</td>\n",
       "      <td>VA</td>\n",
       "      <td>...</td>\n",
       "      <td>False</td>\n",
       "      <td>False</td>\n",
       "      <td>False</td>\n",
       "      <td>True</td>\n",
       "      <td>False</td>\n",
       "      <td>False</td>\n",
       "      <td>False</td>\n",
       "      <td>False</td>\n",
       "      <td>False</td>\n",
       "      <td>False</td>\n",
       "    </tr>\n",
       "    <tr>\n",
       "      <th>4</th>\n",
       "      <td>A22409</td>\n",
       "      <td>3493</td>\n",
       "      <td>2023-02-10 18:02:29.007</td>\n",
       "      <td>NC1514</td>\n",
       "      <td>T074</td>\n",
       "      <td>8473320</td>\n",
       "      <td>100.00</td>\n",
       "      <td>MEX</td>\n",
       "      <td>MEX30</td>\n",
       "      <td>NC</td>\n",
       "      <td>...</td>\n",
       "      <td>False</td>\n",
       "      <td>False</td>\n",
       "      <td>False</td>\n",
       "      <td>True</td>\n",
       "      <td>False</td>\n",
       "      <td>False</td>\n",
       "      <td>False</td>\n",
       "      <td>False</td>\n",
       "      <td>False</td>\n",
       "      <td>False</td>\n",
       "    </tr>\n",
       "  </tbody>\n",
       "</table>\n",
       "<p>5 rows × 76 columns</p>\n",
       "</div>"
      ],
      "text/plain": [
       "  id_branch  id_receiver           date_receiver id_location id_payer  \\\n",
       "0    A17320         2860 2023-02-14 18:51:49.513      SC0166     T085   \n",
       "1    A16522       119041 2023-02-24 16:11:04.220      MD0776     T228   \n",
       "2    A19991       101959 2023-02-15 14:38:27.753      WI0127     T232   \n",
       "3    A11886        64806 2023-02-24 18:28:58.600      VA0666     T085   \n",
       "4    A22409         3493 2023-02-10 18:02:29.007      NC1514     T074   \n",
       "\n",
       "   id_sender_global  net_amount_receiver id_country_receiver_claim  \\\n",
       "0            853028               255.75                     GUA     \n",
       "1           6105698               130.00                     GUA     \n",
       "2           6278344               900.00                     MEX     \n",
       "3           7527532              2900.00                     GUA     \n",
       "4           8473320               100.00                     MEX     \n",
       "\n",
       "  id_state_receiver_claim id_state  ...  id_payout_M  id_payout_N  \\\n",
       "0                   GUA8     SC     ...        False        False   \n",
       "1                   GUA8     MD     ...        False        False   \n",
       "2                   MEX27    WI     ...        False        False   \n",
       "3                   GUA14    VA     ...        False        False   \n",
       "4                   MEX30    NC     ...        False        False   \n",
       "\n",
       "   id_payout_O id_payout_P id_payout_S  id_payout_T  id_payout_X  targetR  \\\n",
       "0        False        True       False        False        False    False   \n",
       "1        False        True       False        False        False    False   \n",
       "2        False        True       False        False        False    False   \n",
       "3        False        True       False        False        False    False   \n",
       "4        False        True       False        False        False    False   \n",
       "\n",
       "  targetP  target_fraudes  \n",
       "0   False           False  \n",
       "1   False           False  \n",
       "2   False           False  \n",
       "3   False           False  \n",
       "4   False           False  \n",
       "\n",
       "[5 rows x 76 columns]"
      ]
     },
     "execution_count": 83,
     "metadata": {},
     "output_type": "execute_result"
    }
   ],
   "source": [
    "df.head(5)"
   ]
  },
  {
   "cell_type": "code",
   "execution_count": 84,
   "id": "e42a5ad8-43cd-4f42-abb9-4a8dfa3c13ef",
   "metadata": {
    "tags": []
   },
   "outputs": [
    {
     "data": {
      "text/plain": [
       "'202302'"
      ]
     },
     "execution_count": 84,
     "metadata": {},
     "output_type": "execute_result"
    }
   ],
   "source": [
    "mes_data"
   ]
  }
 ],
 "metadata": {
  "availableInstances": [
   {
    "_defaultOrder": 0,
    "_isFastLaunch": true,
    "category": "General purpose",
    "gpuNum": 0,
    "hideHardwareSpecs": false,
    "memoryGiB": 4,
    "name": "ml.t3.medium",
    "vcpuNum": 2
   },
   {
    "_defaultOrder": 1,
    "_isFastLaunch": false,
    "category": "General purpose",
    "gpuNum": 0,
    "hideHardwareSpecs": false,
    "memoryGiB": 8,
    "name": "ml.t3.large",
    "vcpuNum": 2
   },
   {
    "_defaultOrder": 2,
    "_isFastLaunch": false,
    "category": "General purpose",
    "gpuNum": 0,
    "hideHardwareSpecs": false,
    "memoryGiB": 16,
    "name": "ml.t3.xlarge",
    "vcpuNum": 4
   },
   {
    "_defaultOrder": 3,
    "_isFastLaunch": false,
    "category": "General purpose",
    "gpuNum": 0,
    "hideHardwareSpecs": false,
    "memoryGiB": 32,
    "name": "ml.t3.2xlarge",
    "vcpuNum": 8
   },
   {
    "_defaultOrder": 4,
    "_isFastLaunch": true,
    "category": "General purpose",
    "gpuNum": 0,
    "hideHardwareSpecs": false,
    "memoryGiB": 8,
    "name": "ml.m5.large",
    "vcpuNum": 2
   },
   {
    "_defaultOrder": 5,
    "_isFastLaunch": false,
    "category": "General purpose",
    "gpuNum": 0,
    "hideHardwareSpecs": false,
    "memoryGiB": 16,
    "name": "ml.m5.xlarge",
    "vcpuNum": 4
   },
   {
    "_defaultOrder": 6,
    "_isFastLaunch": false,
    "category": "General purpose",
    "gpuNum": 0,
    "hideHardwareSpecs": false,
    "memoryGiB": 32,
    "name": "ml.m5.2xlarge",
    "vcpuNum": 8
   },
   {
    "_defaultOrder": 7,
    "_isFastLaunch": false,
    "category": "General purpose",
    "gpuNum": 0,
    "hideHardwareSpecs": false,
    "memoryGiB": 64,
    "name": "ml.m5.4xlarge",
    "vcpuNum": 16
   },
   {
    "_defaultOrder": 8,
    "_isFastLaunch": false,
    "category": "General purpose",
    "gpuNum": 0,
    "hideHardwareSpecs": false,
    "memoryGiB": 128,
    "name": "ml.m5.8xlarge",
    "vcpuNum": 32
   },
   {
    "_defaultOrder": 9,
    "_isFastLaunch": false,
    "category": "General purpose",
    "gpuNum": 0,
    "hideHardwareSpecs": false,
    "memoryGiB": 192,
    "name": "ml.m5.12xlarge",
    "vcpuNum": 48
   },
   {
    "_defaultOrder": 10,
    "_isFastLaunch": false,
    "category": "General purpose",
    "gpuNum": 0,
    "hideHardwareSpecs": false,
    "memoryGiB": 256,
    "name": "ml.m5.16xlarge",
    "vcpuNum": 64
   },
   {
    "_defaultOrder": 11,
    "_isFastLaunch": false,
    "category": "General purpose",
    "gpuNum": 0,
    "hideHardwareSpecs": false,
    "memoryGiB": 384,
    "name": "ml.m5.24xlarge",
    "vcpuNum": 96
   },
   {
    "_defaultOrder": 12,
    "_isFastLaunch": false,
    "category": "General purpose",
    "gpuNum": 0,
    "hideHardwareSpecs": false,
    "memoryGiB": 8,
    "name": "ml.m5d.large",
    "vcpuNum": 2
   },
   {
    "_defaultOrder": 13,
    "_isFastLaunch": false,
    "category": "General purpose",
    "gpuNum": 0,
    "hideHardwareSpecs": false,
    "memoryGiB": 16,
    "name": "ml.m5d.xlarge",
    "vcpuNum": 4
   },
   {
    "_defaultOrder": 14,
    "_isFastLaunch": false,
    "category": "General purpose",
    "gpuNum": 0,
    "hideHardwareSpecs": false,
    "memoryGiB": 32,
    "name": "ml.m5d.2xlarge",
    "vcpuNum": 8
   },
   {
    "_defaultOrder": 15,
    "_isFastLaunch": false,
    "category": "General purpose",
    "gpuNum": 0,
    "hideHardwareSpecs": false,
    "memoryGiB": 64,
    "name": "ml.m5d.4xlarge",
    "vcpuNum": 16
   },
   {
    "_defaultOrder": 16,
    "_isFastLaunch": false,
    "category": "General purpose",
    "gpuNum": 0,
    "hideHardwareSpecs": false,
    "memoryGiB": 128,
    "name": "ml.m5d.8xlarge",
    "vcpuNum": 32
   },
   {
    "_defaultOrder": 17,
    "_isFastLaunch": false,
    "category": "General purpose",
    "gpuNum": 0,
    "hideHardwareSpecs": false,
    "memoryGiB": 192,
    "name": "ml.m5d.12xlarge",
    "vcpuNum": 48
   },
   {
    "_defaultOrder": 18,
    "_isFastLaunch": false,
    "category": "General purpose",
    "gpuNum": 0,
    "hideHardwareSpecs": false,
    "memoryGiB": 256,
    "name": "ml.m5d.16xlarge",
    "vcpuNum": 64
   },
   {
    "_defaultOrder": 19,
    "_isFastLaunch": false,
    "category": "General purpose",
    "gpuNum": 0,
    "hideHardwareSpecs": false,
    "memoryGiB": 384,
    "name": "ml.m5d.24xlarge",
    "vcpuNum": 96
   },
   {
    "_defaultOrder": 20,
    "_isFastLaunch": false,
    "category": "General purpose",
    "gpuNum": 0,
    "hideHardwareSpecs": true,
    "memoryGiB": 0,
    "name": "ml.geospatial.interactive",
    "supportedImageNames": [
     "sagemaker-geospatial-v1-0"
    ],
    "vcpuNum": 0
   },
   {
    "_defaultOrder": 21,
    "_isFastLaunch": true,
    "category": "Compute optimized",
    "gpuNum": 0,
    "hideHardwareSpecs": false,
    "memoryGiB": 4,
    "name": "ml.c5.large",
    "vcpuNum": 2
   },
   {
    "_defaultOrder": 22,
    "_isFastLaunch": false,
    "category": "Compute optimized",
    "gpuNum": 0,
    "hideHardwareSpecs": false,
    "memoryGiB": 8,
    "name": "ml.c5.xlarge",
    "vcpuNum": 4
   },
   {
    "_defaultOrder": 23,
    "_isFastLaunch": false,
    "category": "Compute optimized",
    "gpuNum": 0,
    "hideHardwareSpecs": false,
    "memoryGiB": 16,
    "name": "ml.c5.2xlarge",
    "vcpuNum": 8
   },
   {
    "_defaultOrder": 24,
    "_isFastLaunch": false,
    "category": "Compute optimized",
    "gpuNum": 0,
    "hideHardwareSpecs": false,
    "memoryGiB": 32,
    "name": "ml.c5.4xlarge",
    "vcpuNum": 16
   },
   {
    "_defaultOrder": 25,
    "_isFastLaunch": false,
    "category": "Compute optimized",
    "gpuNum": 0,
    "hideHardwareSpecs": false,
    "memoryGiB": 72,
    "name": "ml.c5.9xlarge",
    "vcpuNum": 36
   },
   {
    "_defaultOrder": 26,
    "_isFastLaunch": false,
    "category": "Compute optimized",
    "gpuNum": 0,
    "hideHardwareSpecs": false,
    "memoryGiB": 96,
    "name": "ml.c5.12xlarge",
    "vcpuNum": 48
   },
   {
    "_defaultOrder": 27,
    "_isFastLaunch": false,
    "category": "Compute optimized",
    "gpuNum": 0,
    "hideHardwareSpecs": false,
    "memoryGiB": 144,
    "name": "ml.c5.18xlarge",
    "vcpuNum": 72
   },
   {
    "_defaultOrder": 28,
    "_isFastLaunch": false,
    "category": "Compute optimized",
    "gpuNum": 0,
    "hideHardwareSpecs": false,
    "memoryGiB": 192,
    "name": "ml.c5.24xlarge",
    "vcpuNum": 96
   },
   {
    "_defaultOrder": 29,
    "_isFastLaunch": true,
    "category": "Accelerated computing",
    "gpuNum": 1,
    "hideHardwareSpecs": false,
    "memoryGiB": 16,
    "name": "ml.g4dn.xlarge",
    "vcpuNum": 4
   },
   {
    "_defaultOrder": 30,
    "_isFastLaunch": false,
    "category": "Accelerated computing",
    "gpuNum": 1,
    "hideHardwareSpecs": false,
    "memoryGiB": 32,
    "name": "ml.g4dn.2xlarge",
    "vcpuNum": 8
   },
   {
    "_defaultOrder": 31,
    "_isFastLaunch": false,
    "category": "Accelerated computing",
    "gpuNum": 1,
    "hideHardwareSpecs": false,
    "memoryGiB": 64,
    "name": "ml.g4dn.4xlarge",
    "vcpuNum": 16
   },
   {
    "_defaultOrder": 32,
    "_isFastLaunch": false,
    "category": "Accelerated computing",
    "gpuNum": 1,
    "hideHardwareSpecs": false,
    "memoryGiB": 128,
    "name": "ml.g4dn.8xlarge",
    "vcpuNum": 32
   },
   {
    "_defaultOrder": 33,
    "_isFastLaunch": false,
    "category": "Accelerated computing",
    "gpuNum": 4,
    "hideHardwareSpecs": false,
    "memoryGiB": 192,
    "name": "ml.g4dn.12xlarge",
    "vcpuNum": 48
   },
   {
    "_defaultOrder": 34,
    "_isFastLaunch": false,
    "category": "Accelerated computing",
    "gpuNum": 1,
    "hideHardwareSpecs": false,
    "memoryGiB": 256,
    "name": "ml.g4dn.16xlarge",
    "vcpuNum": 64
   },
   {
    "_defaultOrder": 35,
    "_isFastLaunch": false,
    "category": "Accelerated computing",
    "gpuNum": 1,
    "hideHardwareSpecs": false,
    "memoryGiB": 61,
    "name": "ml.p3.2xlarge",
    "vcpuNum": 8
   },
   {
    "_defaultOrder": 36,
    "_isFastLaunch": false,
    "category": "Accelerated computing",
    "gpuNum": 4,
    "hideHardwareSpecs": false,
    "memoryGiB": 244,
    "name": "ml.p3.8xlarge",
    "vcpuNum": 32
   },
   {
    "_defaultOrder": 37,
    "_isFastLaunch": false,
    "category": "Accelerated computing",
    "gpuNum": 8,
    "hideHardwareSpecs": false,
    "memoryGiB": 488,
    "name": "ml.p3.16xlarge",
    "vcpuNum": 64
   },
   {
    "_defaultOrder": 38,
    "_isFastLaunch": false,
    "category": "Accelerated computing",
    "gpuNum": 8,
    "hideHardwareSpecs": false,
    "memoryGiB": 768,
    "name": "ml.p3dn.24xlarge",
    "vcpuNum": 96
   },
   {
    "_defaultOrder": 39,
    "_isFastLaunch": false,
    "category": "Memory Optimized",
    "gpuNum": 0,
    "hideHardwareSpecs": false,
    "memoryGiB": 16,
    "name": "ml.r5.large",
    "vcpuNum": 2
   },
   {
    "_defaultOrder": 40,
    "_isFastLaunch": false,
    "category": "Memory Optimized",
    "gpuNum": 0,
    "hideHardwareSpecs": false,
    "memoryGiB": 32,
    "name": "ml.r5.xlarge",
    "vcpuNum": 4
   },
   {
    "_defaultOrder": 41,
    "_isFastLaunch": false,
    "category": "Memory Optimized",
    "gpuNum": 0,
    "hideHardwareSpecs": false,
    "memoryGiB": 64,
    "name": "ml.r5.2xlarge",
    "vcpuNum": 8
   },
   {
    "_defaultOrder": 42,
    "_isFastLaunch": false,
    "category": "Memory Optimized",
    "gpuNum": 0,
    "hideHardwareSpecs": false,
    "memoryGiB": 128,
    "name": "ml.r5.4xlarge",
    "vcpuNum": 16
   },
   {
    "_defaultOrder": 43,
    "_isFastLaunch": false,
    "category": "Memory Optimized",
    "gpuNum": 0,
    "hideHardwareSpecs": false,
    "memoryGiB": 256,
    "name": "ml.r5.8xlarge",
    "vcpuNum": 32
   },
   {
    "_defaultOrder": 44,
    "_isFastLaunch": false,
    "category": "Memory Optimized",
    "gpuNum": 0,
    "hideHardwareSpecs": false,
    "memoryGiB": 384,
    "name": "ml.r5.12xlarge",
    "vcpuNum": 48
   },
   {
    "_defaultOrder": 45,
    "_isFastLaunch": false,
    "category": "Memory Optimized",
    "gpuNum": 0,
    "hideHardwareSpecs": false,
    "memoryGiB": 512,
    "name": "ml.r5.16xlarge",
    "vcpuNum": 64
   },
   {
    "_defaultOrder": 46,
    "_isFastLaunch": false,
    "category": "Memory Optimized",
    "gpuNum": 0,
    "hideHardwareSpecs": false,
    "memoryGiB": 768,
    "name": "ml.r5.24xlarge",
    "vcpuNum": 96
   },
   {
    "_defaultOrder": 47,
    "_isFastLaunch": false,
    "category": "Accelerated computing",
    "gpuNum": 1,
    "hideHardwareSpecs": false,
    "memoryGiB": 16,
    "name": "ml.g5.xlarge",
    "vcpuNum": 4
   },
   {
    "_defaultOrder": 48,
    "_isFastLaunch": false,
    "category": "Accelerated computing",
    "gpuNum": 1,
    "hideHardwareSpecs": false,
    "memoryGiB": 32,
    "name": "ml.g5.2xlarge",
    "vcpuNum": 8
   },
   {
    "_defaultOrder": 49,
    "_isFastLaunch": false,
    "category": "Accelerated computing",
    "gpuNum": 1,
    "hideHardwareSpecs": false,
    "memoryGiB": 64,
    "name": "ml.g5.4xlarge",
    "vcpuNum": 16
   },
   {
    "_defaultOrder": 50,
    "_isFastLaunch": false,
    "category": "Accelerated computing",
    "gpuNum": 1,
    "hideHardwareSpecs": false,
    "memoryGiB": 128,
    "name": "ml.g5.8xlarge",
    "vcpuNum": 32
   },
   {
    "_defaultOrder": 51,
    "_isFastLaunch": false,
    "category": "Accelerated computing",
    "gpuNum": 1,
    "hideHardwareSpecs": false,
    "memoryGiB": 256,
    "name": "ml.g5.16xlarge",
    "vcpuNum": 64
   },
   {
    "_defaultOrder": 52,
    "_isFastLaunch": false,
    "category": "Accelerated computing",
    "gpuNum": 4,
    "hideHardwareSpecs": false,
    "memoryGiB": 192,
    "name": "ml.g5.12xlarge",
    "vcpuNum": 48
   },
   {
    "_defaultOrder": 53,
    "_isFastLaunch": false,
    "category": "Accelerated computing",
    "gpuNum": 4,
    "hideHardwareSpecs": false,
    "memoryGiB": 384,
    "name": "ml.g5.24xlarge",
    "vcpuNum": 96
   },
   {
    "_defaultOrder": 54,
    "_isFastLaunch": false,
    "category": "Accelerated computing",
    "gpuNum": 8,
    "hideHardwareSpecs": false,
    "memoryGiB": 768,
    "name": "ml.g5.48xlarge",
    "vcpuNum": 192
   },
   {
    "_defaultOrder": 55,
    "_isFastLaunch": false,
    "category": "Accelerated computing",
    "gpuNum": 8,
    "hideHardwareSpecs": false,
    "memoryGiB": 1152,
    "name": "ml.p4d.24xlarge",
    "vcpuNum": 96
   },
   {
    "_defaultOrder": 56,
    "_isFastLaunch": false,
    "category": "Accelerated computing",
    "gpuNum": 8,
    "hideHardwareSpecs": false,
    "memoryGiB": 1152,
    "name": "ml.p4de.24xlarge",
    "vcpuNum": 96
   },
   {
    "_defaultOrder": 57,
    "_isFastLaunch": false,
    "category": "Accelerated computing",
    "gpuNum": 0,
    "hideHardwareSpecs": false,
    "memoryGiB": 32,
    "name": "ml.trn1.2xlarge",
    "vcpuNum": 8
   },
   {
    "_defaultOrder": 58,
    "_isFastLaunch": false,
    "category": "Accelerated computing",
    "gpuNum": 0,
    "hideHardwareSpecs": false,
    "memoryGiB": 512,
    "name": "ml.trn1.32xlarge",
    "vcpuNum": 128
   },
   {
    "_defaultOrder": 59,
    "_isFastLaunch": false,
    "category": "Accelerated computing",
    "gpuNum": 0,
    "hideHardwareSpecs": false,
    "memoryGiB": 512,
    "name": "ml.trn1n.32xlarge",
    "vcpuNum": 128
   }
  ],
  "instance_type": "ml.t3.medium",
  "kernelspec": {
   "display_name": "conda_python3",
   "language": "python",
   "name": "conda_python3"
  },
  "language_info": {
   "codemirror_mode": {
    "name": "ipython",
    "version": 3
   },
   "file_extension": ".py",
   "mimetype": "text/x-python",
   "name": "python",
   "nbconvert_exporter": "python",
   "pygments_lexer": "ipython3",
   "version": "3.10.14"
  }
 },
 "nbformat": 4,
 "nbformat_minor": 5
}
