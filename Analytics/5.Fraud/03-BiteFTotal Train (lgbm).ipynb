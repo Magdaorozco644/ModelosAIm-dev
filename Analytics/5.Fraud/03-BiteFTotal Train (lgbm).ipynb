{
 "cells": [
  {
   "cell_type": "markdown",
   "metadata": {},
   "source": [
    "# Create model\n",
    " Load data <br>\n",
    " Performs hiperparameter search <br>\n",
    " Train model with predefined hyperparameters <br>\n",
    " Evaluate model with Train/Validation dataset <br>\n",
    " Evaluate model with Test dataset\n",
    " "
   ]
  },
  {
   "cell_type": "markdown",
   "metadata": {
    "tags": []
   },
   "source": [
    "## Load libraries \n",
    "Install & load python libraries"
   ]
  },
  {
   "cell_type": "code",
   "execution_count": 55,
   "metadata": {
    "tags": []
   },
   "outputs": [
    {
     "name": "stdout",
     "output_type": "stream",
     "text": [
      "Requirement already satisfied: tabgan==1.3.3 in /home/ec2-user/anaconda3/envs/python3/lib/python3.10/site-packages (1.3.3)\n",
      "Requirement already satisfied: pandas in /home/ec2-user/anaconda3/envs/python3/lib/python3.10/site-packages (from tabgan==1.3.3) (2.2.2)\n",
      "Requirement already satisfied: numpy in /home/ec2-user/anaconda3/envs/python3/lib/python3.10/site-packages (from tabgan==1.3.3) (1.22.4)\n",
      "Requirement already satisfied: category-encoders in /home/ec2-user/anaconda3/envs/python3/lib/python3.10/site-packages (from tabgan==1.3.3) (2.6.3)\n",
      "Requirement already satisfied: torch>=1.0 in /home/ec2-user/anaconda3/envs/python3/lib/python3.10/site-packages (from tabgan==1.3.3) (2.3.0)\n",
      "Requirement already satisfied: lightgbm>=2.2.3 in /home/ec2-user/anaconda3/envs/python3/lib/python3.10/site-packages (from tabgan==1.3.3) (4.3.0)\n",
      "Requirement already satisfied: scikit-learn>=1.0.2 in /home/ec2-user/anaconda3/envs/python3/lib/python3.10/site-packages (from tabgan==1.3.3) (1.4.1.post1)\n",
      "Requirement already satisfied: torchvision in /home/ec2-user/anaconda3/envs/python3/lib/python3.10/site-packages (from tabgan==1.3.3) (0.18.0)\n",
      "Requirement already satisfied: python-dateutil in /home/ec2-user/anaconda3/envs/python3/lib/python3.10/site-packages (from tabgan==1.3.3) (2.9.0)\n",
      "Requirement already satisfied: tqdm in /home/ec2-user/anaconda3/envs/python3/lib/python3.10/site-packages (from tabgan==1.3.3) (4.66.2)\n",
      "Requirement already satisfied: scipy in /home/ec2-user/anaconda3/envs/python3/lib/python3.10/site-packages (from lightgbm>=2.2.3->tabgan==1.3.3) (1.11.4)\n",
      "Requirement already satisfied: joblib>=1.2.0 in /home/ec2-user/anaconda3/envs/python3/lib/python3.10/site-packages (from scikit-learn>=1.0.2->tabgan==1.3.3) (1.3.2)\n",
      "Requirement already satisfied: threadpoolctl>=2.0.0 in /home/ec2-user/anaconda3/envs/python3/lib/python3.10/site-packages (from scikit-learn>=1.0.2->tabgan==1.3.3) (3.4.0)\n",
      "Requirement already satisfied: filelock in /home/ec2-user/anaconda3/envs/python3/lib/python3.10/site-packages (from torch>=1.0->tabgan==1.3.3) (3.13.3)\n",
      "Requirement already satisfied: typing-extensions>=4.8.0 in /home/ec2-user/anaconda3/envs/python3/lib/python3.10/site-packages (from torch>=1.0->tabgan==1.3.3) (4.10.0)\n",
      "Requirement already satisfied: sympy in /home/ec2-user/anaconda3/envs/python3/lib/python3.10/site-packages (from torch>=1.0->tabgan==1.3.3) (1.12)\n",
      "Requirement already satisfied: networkx in /home/ec2-user/anaconda3/envs/python3/lib/python3.10/site-packages (from torch>=1.0->tabgan==1.3.3) (3.2.1)\n",
      "Requirement already satisfied: jinja2 in /home/ec2-user/anaconda3/envs/python3/lib/python3.10/site-packages (from torch>=1.0->tabgan==1.3.3) (3.1.3)\n",
      "Requirement already satisfied: fsspec in /home/ec2-user/anaconda3/envs/python3/lib/python3.10/site-packages (from torch>=1.0->tabgan==1.3.3) (2024.3.1)\n",
      "Requirement already satisfied: nvidia-cuda-nvrtc-cu12==12.1.105 in /home/ec2-user/anaconda3/envs/python3/lib/python3.10/site-packages (from torch>=1.0->tabgan==1.3.3) (12.1.105)\n",
      "Requirement already satisfied: nvidia-cuda-runtime-cu12==12.1.105 in /home/ec2-user/anaconda3/envs/python3/lib/python3.10/site-packages (from torch>=1.0->tabgan==1.3.3) (12.1.105)\n",
      "Requirement already satisfied: nvidia-cuda-cupti-cu12==12.1.105 in /home/ec2-user/anaconda3/envs/python3/lib/python3.10/site-packages (from torch>=1.0->tabgan==1.3.3) (12.1.105)\n",
      "Requirement already satisfied: nvidia-cudnn-cu12==8.9.2.26 in /home/ec2-user/anaconda3/envs/python3/lib/python3.10/site-packages (from torch>=1.0->tabgan==1.3.3) (8.9.2.26)\n",
      "Requirement already satisfied: nvidia-cublas-cu12==12.1.3.1 in /home/ec2-user/anaconda3/envs/python3/lib/python3.10/site-packages (from torch>=1.0->tabgan==1.3.3) (12.1.3.1)\n",
      "Requirement already satisfied: nvidia-cufft-cu12==11.0.2.54 in /home/ec2-user/anaconda3/envs/python3/lib/python3.10/site-packages (from torch>=1.0->tabgan==1.3.3) (11.0.2.54)\n",
      "Requirement already satisfied: nvidia-curand-cu12==10.3.2.106 in /home/ec2-user/anaconda3/envs/python3/lib/python3.10/site-packages (from torch>=1.0->tabgan==1.3.3) (10.3.2.106)\n",
      "Requirement already satisfied: nvidia-cusolver-cu12==11.4.5.107 in /home/ec2-user/anaconda3/envs/python3/lib/python3.10/site-packages (from torch>=1.0->tabgan==1.3.3) (11.4.5.107)\n",
      "Requirement already satisfied: nvidia-cusparse-cu12==12.1.0.106 in /home/ec2-user/anaconda3/envs/python3/lib/python3.10/site-packages (from torch>=1.0->tabgan==1.3.3) (12.1.0.106)\n",
      "Requirement already satisfied: nvidia-nccl-cu12==2.20.5 in /home/ec2-user/anaconda3/envs/python3/lib/python3.10/site-packages (from torch>=1.0->tabgan==1.3.3) (2.20.5)\n",
      "Requirement already satisfied: nvidia-nvtx-cu12==12.1.105 in /home/ec2-user/anaconda3/envs/python3/lib/python3.10/site-packages (from torch>=1.0->tabgan==1.3.3) (12.1.105)\n",
      "Requirement already satisfied: triton==2.3.0 in /home/ec2-user/anaconda3/envs/python3/lib/python3.10/site-packages (from torch>=1.0->tabgan==1.3.3) (2.3.0)\n",
      "Requirement already satisfied: nvidia-nvjitlink-cu12 in /home/ec2-user/anaconda3/envs/python3/lib/python3.10/site-packages (from nvidia-cusolver-cu12==11.4.5.107->torch>=1.0->tabgan==1.3.3) (12.5.40)\n",
      "Requirement already satisfied: statsmodels>=0.9.0 in /home/ec2-user/anaconda3/envs/python3/lib/python3.10/site-packages (from category-encoders->tabgan==1.3.3) (0.14.1)\n",
      "Requirement already satisfied: patsy>=0.5.1 in /home/ec2-user/anaconda3/envs/python3/lib/python3.10/site-packages (from category-encoders->tabgan==1.3.3) (0.5.6)\n",
      "Requirement already satisfied: pytz>=2020.1 in /home/ec2-user/anaconda3/envs/python3/lib/python3.10/site-packages (from pandas->tabgan==1.3.3) (2024.1)\n",
      "Requirement already satisfied: tzdata>=2022.7 in /home/ec2-user/anaconda3/envs/python3/lib/python3.10/site-packages (from pandas->tabgan==1.3.3) (2024.1)\n",
      "Requirement already satisfied: six>=1.5 in /home/ec2-user/anaconda3/envs/python3/lib/python3.10/site-packages (from python-dateutil->tabgan==1.3.3) (1.16.0)\n",
      "Requirement already satisfied: pillow!=8.3.*,>=5.3.0 in /home/ec2-user/anaconda3/envs/python3/lib/python3.10/site-packages (from torchvision->tabgan==1.3.3) (10.2.0)\n",
      "Requirement already satisfied: packaging>=21.3 in /home/ec2-user/anaconda3/envs/python3/lib/python3.10/site-packages (from statsmodels>=0.9.0->category-encoders->tabgan==1.3.3) (21.3)\n",
      "Requirement already satisfied: MarkupSafe>=2.0 in /home/ec2-user/anaconda3/envs/python3/lib/python3.10/site-packages (from jinja2->torch>=1.0->tabgan==1.3.3) (2.1.5)\n",
      "Requirement already satisfied: mpmath>=0.19 in /home/ec2-user/anaconda3/envs/python3/lib/python3.10/site-packages (from sympy->torch>=1.0->tabgan==1.3.3) (1.3.0)\n",
      "Requirement already satisfied: pyparsing!=3.0.5,>=2.0.2 in /home/ec2-user/anaconda3/envs/python3/lib/python3.10/site-packages (from packaging>=21.3->statsmodels>=0.9.0->category-encoders->tabgan==1.3.3) (3.1.2)\n",
      "Note: you may need to restart the kernel to use updated packages.\n"
     ]
    }
   ],
   "source": [
    "pip install tabgan==1.3.3 #9500 secs"
   ]
  },
  {
   "cell_type": "code",
   "execution_count": 56,
   "metadata": {
    "tags": []
   },
   "outputs": [
    {
     "name": "stdout",
     "output_type": "stream",
     "text": [
      "Requirement already satisfied: lightgbm in /home/ec2-user/anaconda3/envs/python3/lib/python3.10/site-packages (4.3.0)\n",
      "Requirement already satisfied: numpy in /home/ec2-user/anaconda3/envs/python3/lib/python3.10/site-packages (from lightgbm) (1.22.4)\n",
      "Requirement already satisfied: scipy in /home/ec2-user/anaconda3/envs/python3/lib/python3.10/site-packages (from lightgbm) (1.11.4)\n"
     ]
    }
   ],
   "source": [
    "!pip install lightgbm"
   ]
  },
  {
   "cell_type": "code",
   "execution_count": 57,
   "metadata": {
    "tags": []
   },
   "outputs": [
    {
     "name": "stdout",
     "output_type": "stream",
     "text": [
      "Requirement already satisfied: pandas in /home/ec2-user/anaconda3/envs/python3/lib/python3.10/site-packages (2.2.2)\n",
      "Requirement already satisfied: dask[complete] in /home/ec2-user/anaconda3/envs/python3/lib/python3.10/site-packages (2024.5.1)\n",
      "Requirement already satisfied: numpy>=1.22.4 in /home/ec2-user/anaconda3/envs/python3/lib/python3.10/site-packages (from pandas) (1.22.4)\n",
      "Requirement already satisfied: python-dateutil>=2.8.2 in /home/ec2-user/anaconda3/envs/python3/lib/python3.10/site-packages (from pandas) (2.9.0)\n",
      "Requirement already satisfied: pytz>=2020.1 in /home/ec2-user/anaconda3/envs/python3/lib/python3.10/site-packages (from pandas) (2024.1)\n",
      "Requirement already satisfied: tzdata>=2022.7 in /home/ec2-user/anaconda3/envs/python3/lib/python3.10/site-packages (from pandas) (2024.1)\n",
      "Requirement already satisfied: click>=8.1 in /home/ec2-user/anaconda3/envs/python3/lib/python3.10/site-packages (from dask[complete]) (8.1.7)\n",
      "Requirement already satisfied: cloudpickle>=1.5.0 in /home/ec2-user/anaconda3/envs/python3/lib/python3.10/site-packages (from dask[complete]) (2.2.1)\n",
      "Requirement already satisfied: fsspec>=2021.09.0 in /home/ec2-user/anaconda3/envs/python3/lib/python3.10/site-packages (from dask[complete]) (2024.3.1)\n",
      "Requirement already satisfied: packaging>=20.0 in /home/ec2-user/anaconda3/envs/python3/lib/python3.10/site-packages (from dask[complete]) (21.3)\n",
      "Requirement already satisfied: partd>=1.2.0 in /home/ec2-user/anaconda3/envs/python3/lib/python3.10/site-packages (from dask[complete]) (1.4.1)\n",
      "Requirement already satisfied: pyyaml>=5.3.1 in /home/ec2-user/anaconda3/envs/python3/lib/python3.10/site-packages (from dask[complete]) (6.0.1)\n",
      "Requirement already satisfied: toolz>=0.10.0 in /home/ec2-user/anaconda3/envs/python3/lib/python3.10/site-packages (from dask[complete]) (0.12.1)\n",
      "Requirement already satisfied: importlib-metadata>=4.13.0 in /home/ec2-user/anaconda3/envs/python3/lib/python3.10/site-packages (from dask[complete]) (6.11.0)\n",
      "Requirement already satisfied: pyarrow>=7.0 in /home/ec2-user/anaconda3/envs/python3/lib/python3.10/site-packages (from dask[complete]) (15.0.2)\n",
      "Requirement already satisfied: pyarrow-hotfix in /home/ec2-user/anaconda3/envs/python3/lib/python3.10/site-packages (from dask[complete]) (0.6)\n",
      "Requirement already satisfied: lz4>=4.3.2 in /home/ec2-user/anaconda3/envs/python3/lib/python3.10/site-packages (from dask[complete]) (4.3.3)\n",
      "Requirement already satisfied: zipp>=0.5 in /home/ec2-user/anaconda3/envs/python3/lib/python3.10/site-packages (from importlib-metadata>=4.13.0->dask[complete]) (3.17.0)\n",
      "Requirement already satisfied: pyparsing!=3.0.5,>=2.0.2 in /home/ec2-user/anaconda3/envs/python3/lib/python3.10/site-packages (from packaging>=20.0->dask[complete]) (3.1.2)\n",
      "Requirement already satisfied: locket in /home/ec2-user/anaconda3/envs/python3/lib/python3.10/site-packages (from partd>=1.2.0->dask[complete]) (1.0.0)\n",
      "Requirement already satisfied: six>=1.5 in /home/ec2-user/anaconda3/envs/python3/lib/python3.10/site-packages (from python-dateutil>=2.8.2->pandas) (1.16.0)\n",
      "Requirement already satisfied: dask-expr<1.2,>=1.1 in /home/ec2-user/anaconda3/envs/python3/lib/python3.10/site-packages (from dask[complete]) (1.1.1)\n",
      "Requirement already satisfied: distributed==2024.5.1 in /home/ec2-user/anaconda3/envs/python3/lib/python3.10/site-packages (from dask[complete]) (2024.5.1)\n",
      "Requirement already satisfied: bokeh>=2.4.2 in /home/ec2-user/anaconda3/envs/python3/lib/python3.10/site-packages (from dask[complete]) (3.4.0)\n",
      "Requirement already satisfied: jinja2>=2.10.3 in /home/ec2-user/anaconda3/envs/python3/lib/python3.10/site-packages (from dask[complete]) (3.1.3)\n",
      "Requirement already satisfied: msgpack>=1.0.0 in /home/ec2-user/anaconda3/envs/python3/lib/python3.10/site-packages (from distributed==2024.5.1->dask[complete]) (1.0.7)\n",
      "Requirement already satisfied: psutil>=5.7.2 in /home/ec2-user/anaconda3/envs/python3/lib/python3.10/site-packages (from distributed==2024.5.1->dask[complete]) (5.9.8)\n",
      "Requirement already satisfied: sortedcontainers>=2.0.5 in /home/ec2-user/anaconda3/envs/python3/lib/python3.10/site-packages (from distributed==2024.5.1->dask[complete]) (2.4.0)\n",
      "Requirement already satisfied: tblib>=1.6.0 in /home/ec2-user/anaconda3/envs/python3/lib/python3.10/site-packages (from distributed==2024.5.1->dask[complete]) (3.0.0)\n",
      "Requirement already satisfied: tornado>=6.0.4 in /home/ec2-user/anaconda3/envs/python3/lib/python3.10/site-packages (from distributed==2024.5.1->dask[complete]) (6.4)\n",
      "Requirement already satisfied: urllib3>=1.24.3 in /home/ec2-user/anaconda3/envs/python3/lib/python3.10/site-packages (from distributed==2024.5.1->dask[complete]) (2.2.1)\n",
      "Requirement already satisfied: zict>=3.0.0 in /home/ec2-user/anaconda3/envs/python3/lib/python3.10/site-packages (from distributed==2024.5.1->dask[complete]) (3.0.0)\n",
      "Requirement already satisfied: contourpy>=1.2 in /home/ec2-user/anaconda3/envs/python3/lib/python3.10/site-packages (from bokeh>=2.4.2->dask[complete]) (1.2.0)\n",
      "Requirement already satisfied: pillow>=7.1.0 in /home/ec2-user/anaconda3/envs/python3/lib/python3.10/site-packages (from bokeh>=2.4.2->dask[complete]) (10.2.0)\n",
      "Requirement already satisfied: xyzservices>=2021.09.1 in /home/ec2-user/anaconda3/envs/python3/lib/python3.10/site-packages (from bokeh>=2.4.2->dask[complete]) (2023.10.1)\n",
      "Requirement already satisfied: MarkupSafe>=2.0 in /home/ec2-user/anaconda3/envs/python3/lib/python3.10/site-packages (from jinja2>=2.10.3->dask[complete]) (2.1.5)\n",
      "Note: you may need to restart the kernel to use updated packages.\n"
     ]
    }
   ],
   "source": [
    "pip install --upgrade pandas \"dask[complete]\""
   ]
  },
  {
   "cell_type": "code",
   "execution_count": 58,
   "metadata": {
    "application/vnd.databricks.v1+cell": {
     "cellMetadata": {
      "byteLimit": 2048000,
      "rowLimit": 10000
     },
     "inputWidgets": {},
     "nuid": "567b8871-992b-48f1-9709-847d1f6529ec",
     "showTitle": false,
     "title": ""
    },
    "tags": []
   },
   "outputs": [],
   "source": [
    "## required libraries\n",
    "import numpy as np \n",
    "import pandas as pd\n",
    "import matplotlib.pyplot as plt\n",
    "import calendar\n",
    "import re\n",
    "from sklearn.metrics import confusion_matrix \n",
    "from sklearn.model_selection import train_test_split \n",
    "from sklearn.tree import DecisionTreeClassifier \n",
    "from sklearn.metrics import accuracy_score \n",
    "from sklearn.metrics import classification_report \n",
    "from sklearn.metrics import confusion_matrix\n",
    "from sklearn.metrics import precision_score, recall_score\n",
    "#from scikitplot.metrics import plot_roc\n",
    "from sklearn.metrics import roc_auc_score\n",
    "#from scikitplot.metrics import plot_lift_curve\n",
    "#from scikitplot.helpers import binary_ks_curve \n",
    "#from scikitplot.metrics import plot_ks_statistic\n",
    "#from scikitplot.helpers import cumulative_gain_curve\n",
    "from sklearn.ensemble import RandomForestClassifier\n",
    "from sklearn.model_selection import RandomizedSearchCV\n",
    "from lightgbm import LGBMClassifier\n",
    "from datetime import datetime, timedelta\n",
    "\n",
    "import pyarrow as pa\n",
    "import pyarrow.parquet as pq"
   ]
  },
  {
   "cell_type": "code",
   "execution_count": 59,
   "metadata": {
    "application/vnd.databricks.v1+cell": {
     "cellMetadata": {
      "byteLimit": 2048000,
      "rowLimit": 10000
     },
     "inputWidgets": {},
     "nuid": "6ebc0e87-d9be-4b2c-b870-c00cbea0ad90",
     "showTitle": false,
     "title": ""
    }
   },
   "outputs": [],
   "source": [
    "pd.set_option('display.max_columns', 500)\n",
    "pd.set_option('display.memory_usage', True)"
   ]
  },
  {
   "cell_type": "markdown",
   "metadata": {
    "tags": []
   },
   "source": [
    "## Load data \n",
    "Load train & test data from parquet file previously saved <br>\n",
    "Define limpiar_nombres_columnas & nombres_de_columnas <br>\n",
    "Define input variables for model <br>\n",
    "Define is do hyperparameter search or not"
   ]
  },
  {
   "cell_type": "code",
   "execution_count": 60,
   "metadata": {
    "application/vnd.databricks.v1+cell": {
     "cellMetadata": {
      "byteLimit": 2048000,
      "rowLimit": 10000
     },
     "inputWidgets": {},
     "nuid": "9a5f32c1-8445-4154-9406-921f6dc072e2",
     "showTitle": false,
     "title": ""
    }
   },
   "outputs": [],
   "source": [
    "hp_search = 0 #whether search hyperparameters or run directly \n",
    "\n",
    "s3_url = f\"viamericas-datalake-dev-us-east-1-283731589572-raw/FraudModel/Data4Model\"\n",
    "df1Train = pd.read_parquet(f\"s3://{s3_url}/TargetTodos/Train/Train.parquet\")\n",
    "tg1Train = df1Train['target']\n",
    "\n",
    "df1Val = pd.read_parquet(f\"s3://{s3_url}/TargetTodos/Validation/Validation.parquet\")\n",
    "tg1Val = df1Val['target']\n"
   ]
  },
  {
   "cell_type": "code",
   "execution_count": 61,
   "metadata": {
    "application/vnd.databricks.v1+cell": {
     "cellMetadata": {
      "byteLimit": 2048000,
      "rowLimit": 10000
     },
     "inputWidgets": {},
     "nuid": "3b0247e4-0839-427c-b652-87ee2a94e232",
     "showTitle": false,
     "title": ""
    },
    "tags": []
   },
   "outputs": [],
   "source": [
    "def limpiar_nombres_columnas(dataframe):\n",
    "    \"\"\"\n",
    "    Limpia y estandariza los nombres de las columnas en un DataFrame.\n",
    "\n",
    "    Parameters:\n",
    "    - dataframe: DataFrame de pandas.\n",
    "\n",
    "    Returns:\n",
    "    - DataFrame con nombres de columnas limpios.\n",
    "    \"\"\"\n",
    "    dataframe = dataframe.rename(columns=lambda x: re.sub('[^A-Za-z0-9_]+', '', x))\n",
    "    return dataframe\n",
    "    \n",
    "df1Train = limpiar_nombres_columnas(df1Train)\n",
    "df1Val = limpiar_nombres_columnas(df1Val)"
   ]
  },
  {
   "cell_type": "code",
   "execution_count": 62,
   "metadata": {
    "application/vnd.databricks.v1+cell": {
     "cellMetadata": {
      "byteLimit": 2048000,
      "rowLimit": 10000
     },
     "inputWidgets": {},
     "nuid": "191cdfbb-d0be-46f8-9a90-aea4e8211272",
     "showTitle": false,
     "title": ""
    },
    "tags": []
   },
   "outputs": [
    {
     "name": "stdout",
     "output_type": "stream",
     "text": [
      "Nombres de columnas: ['id_branch', 'id_receiver', 'date_receiver', 'id_location', 'id_payer', 'id_sender_global', 'net_amount_receiver', 'id_country_receiver_claim', 'id_state_receiver_claim', 'id_state', 'branch_working_days', 'sender_sending_days', 'sender_days_to_last_transaction', 'id_country', 'fraud_classification', 'sender_minutes_since_last_transaction', 'branch_minutes_since_last_transaction', 'sender_days_since_last_transaction', 'branch_trans_3m', 'sender_state', 'branch_has_fraud', 'receiver_has_fraud', 'branch_trans_40min', 'branch_trans_10min', 'cash_pick_up_40min', 'location_nro_fraud', 'sender_trans_3m', 'range_hist', 'sender_nro_fraud', 'receiver_transaction_count', 'mes', 'hour_receiver', '01_isMexico', '01_sender_branch_state', '01_var_range_hist', '01_receiver_fraud', '01_branch_fraud', '01_location_fraud', '01_sender_fraud', '01_isCashPick', '01_isBankDep', 'sender_days_to_last_transaction_365', 'sender_days_to_last_transaction_more365', 'sender_days_to_last_transaction_7m', 'sender_days_to_last_transaction_more7m', 'sender_minutes_since_last_transaction_2days', 'sender_minutes_since_last_transaction_1day', '01_receiver_transaction_count', '01_sender_sending_days', '01_branch_working_days', '01_net_amount_receiver', '01_sender_minutes_since_last_transaction_2days', '01_sender_minutes_since_last_transaction_1day', '01_sender_days_to_last_transaction_365', '01_sender_days_to_last_transaction_7m', '01_hour_receiver', 'day_name_receiver_0', 'day_name_receiver_1', 'day_name_receiver_2', 'day_name_receiver_3', 'day_name_receiver_4', 'day_name_receiver_5', 'day_name_receiver_6', 'id_payout_A', 'id_payout_C', 'id_payout_D', 'id_payout_M', 'id_payout_N', 'id_payout_O', 'id_payout_P', 'id_payout_S', 'id_payout_T', 'id_payout_X', 'targetR', 'targetP', 'target']\n"
     ]
    }
   ],
   "source": [
    "#List of columns from dataframe\n",
    "def nombres_de_columnas(dataframe):\n",
    "    return dataframe.columns.tolist()\n",
    "\n",
    "# Supongamos que tu DataFrame se llama 'df'\n",
    "# Puedes ajustar el nombre según el que hayas utilizado\n",
    "\n",
    "nombres_columnas = nombres_de_columnas(df1Train)\n",
    "\n",
    "# Imprimir los nombres de las columnas\n",
    "print(f'Nombres de columnas: {nombres_columnas}')\n"
   ]
  },
  {
   "cell_type": "markdown",
   "metadata": {},
   "source": [
    "#1er prueba\n",
    "var_input = ['branch_minutes_since_last_transaction',\n",
    "    'branch_trans_3m',  'branch_has_fraud',  \n",
    "    'branch_trans_40min', 'branch_trans_10min', 'cash_pick_up_40min', \n",
    "    'location_nro_fraud', 'sender_trans_3m', \n",
    "    'sender_nro_fraud','01_isMexico', \n",
    "    '01_sender_branch_state', '01_var_range_hist', \n",
    "    '01_branch_fraud', '01_location_fraud', '01_sender_fraud', \n",
    "    '01_isCashPick', '01_isBankDep', \n",
    "    'sender_days_to_last_transaction_more7m', \n",
    "    '01_receiver_transaction_count','01_sender_sending_days',\n",
    "    '01_branch_working_days', '01_net_amount_receiver', \n",
    "    '01_sender_minutes_since_last_transaction_2days', \n",
    "    '01_sender_days_to_last_transaction_365', \n",
    "    '01_sender_days_to_last_transaction_7m', '01_hour_receiver']"
   ]
  },
  {
   "cell_type": "code",
   "execution_count": null,
   "metadata": {
    "tags": []
   },
   "outputs": [],
   "source": [
    "#2da prueba\n",
    "var_input = ['branch_minutes_since_last_transaction',\n",
    "    'branch_trans_3m',  'branch_has_fraud',  \n",
    "    'branch_trans_40min', 'branch_trans_10min', 'cash_pick_up_40min', \n",
    "    'location_nro_fraud', 'sender_trans_3m', \n",
    "    'sender_nro_fraud','01_isMexico', \n",
    "    '01_sender_branch_state', '01_var_range_hist', \n",
    "    '01_branch_fraud', '01_location_fraud',\n",
    "    '01_isCashPick', '01_isBankDep', \n",
    "    'sender_days_to_last_transaction_more7m', \n",
    "    'receiver_transaction_count','01_sender_sending_days',\n",
    "    'branch_working_days', '01_net_amount_receiver', \n",
    "    'sender_minutes_since_last_transaction_2days', \n",
    "    'sender_days_to_last_transaction_365', \n",
    "    'sender_days_to_last_transaction_7m', '01_hour_receiver']"
   ]
  },
  {
   "cell_type": "code",
   "execution_count": 64,
   "metadata": {
    "application/vnd.databricks.v1+cell": {
     "cellMetadata": {
      "byteLimit": 2048000,
      "rowLimit": 10000
     },
     "inputWidgets": {},
     "nuid": "00b45ce3-0e0c-4a02-b9ea-e39d5307115d",
     "showTitle": false,
     "title": ""
    },
    "tags": []
   },
   "outputs": [],
   "source": [
    "#Load train & validation and join both for latter split\n",
    "X_train = df1Train[var_input]\n",
    "X_test = df1Val[var_input] \n",
    "y_train =  pd.DataFrame(df1Train['target']) \n",
    "y_test = pd.DataFrame(df1Val['target']) \n",
    "\n",
    "X = pd.concat([df1Train[var_input], df1Val[var_input]], ignore_index=True) \n",
    "Y = pd.DataFrame(pd.concat([df1Train['target'], df1Val['target']], ignore_index=True)) \n"
   ]
  },
  {
   "cell_type": "code",
   "execution_count": 65,
   "metadata": {
    "application/vnd.databricks.v1+cell": {
     "cellMetadata": {
      "byteLimit": 2048000,
      "rowLimit": 10000
     },
     "inputWidgets": {},
     "nuid": "b55cb26d-4d58-4906-9a8c-9ab7be44df3b",
     "showTitle": false,
     "title": ""
    },
    "tags": []
   },
   "outputs": [
    {
     "data": {
      "text/plain": [
       "0.003557576657705161"
      ]
     },
     "execution_count": 65,
     "metadata": {},
     "output_type": "execute_result"
    }
   ],
   "source": [
    "def calcular_porcentaje_valor_1(columna):\n",
    "    \"\"\"\n",
    "    Calcula el porcentaje de ocurrencia del valor 1 en una columna dicotómica.\n",
    "\n",
    "    Parameters:\n",
    "    - columna: Columna con valores binarios (0 o 1).\n",
    "\n",
    "    Returns:\n",
    "    - Porcentaje de ocurrencia del valor 1.\n",
    "    \"\"\"\n",
    "\n",
    "    total_registros = len(columna)\n",
    "    ocurrencias_valor_1 = columna.sum()\n",
    "\n",
    "    porcentaje_valor_1 = (ocurrencias_valor_1 / total_registros) * 100\n",
    "\n",
    "    return porcentaje_valor_1\n",
    "porcentaje_1 = calcular_porcentaje_valor_1(Y['target'])\n",
    "porcentaje_1"
   ]
  },
  {
   "cell_type": "markdown",
   "metadata": {
    "application/vnd.databricks.v1+cell": {
     "cellMetadata": {
      "byteLimit": 2048000,
      "rowLimit": 10000
     },
     "inputWidgets": {},
     "nuid": "9612dbfc-6d13-4319-a1a4-713b5142d0b4",
     "showTitle": false,
     "title": ""
    }
   },
   "source": [
    "## Hyperparameter search"
   ]
  },
  {
   "cell_type": "code",
   "execution_count": 66,
   "metadata": {
    "application/vnd.databricks.v1+cell": {
     "cellMetadata": {
      "byteLimit": 2048000,
      "rowLimit": 10000
     },
     "inputWidgets": {},
     "nuid": "c5b13dbe-2dbc-4cf6-8288-e8d8eade6fb6",
     "showTitle": false,
     "title": ""
    },
    "tags": []
   },
   "outputs": [],
   "source": [
    "# Split into train (80%) and validation (20%)\n",
    "# X_train: features for train, X_test: features for validation\n",
    "# y_train: labels for train, y_test: labels for validation\n",
    "\n",
    "X_train, X_test, y_train, y_test = train_test_split(X, Y, test_size = 0.2, random_state = 88) "
   ]
  },
  {
   "cell_type": "code",
   "execution_count": 67,
   "metadata": {
    "application/vnd.databricks.v1+cell": {
     "cellMetadata": {
      "byteLimit": 2048000,
      "rowLimit": 10000
     },
     "inputWidgets": {},
     "nuid": "4ffb2573-b439-4e55-8d72-d3080e43a6b3",
     "showTitle": false,
     "title": ""
    },
    "tags": []
   },
   "outputs": [],
   "source": [
    "fit_parameters = {\n",
    "    #\"early_stopping_rounds\": 30,           # Number of rounds to stop train when there is no more improvement\n",
    "    \"eval_metric\": 'logloss',              # Metric for evaluation\n",
    "    \"eval_set\": [(X_test, y_test)],        # Dataset for evaluation during training\n",
    "    'eval_names': ['valid'],               # Name for validation set\n",
    "    #'verbose': 100,                        # Log level of output during training\n",
    "}"
   ]
  },
  {
   "cell_type": "code",
   "execution_count": 68,
   "metadata": {
    "application/vnd.databricks.v1+cell": {
     "cellMetadata": {
      "byteLimit": 2048000,
      "rowLimit": 10000
     },
     "inputWidgets": {},
     "nuid": "419b3f45-3007-4e2a-9695-bfafa06d672c",
     "showTitle": false,
     "title": ""
    },
    "tags": []
   },
   "outputs": [],
   "source": [
    "# Parameters for hiperparamenter search (RandomizedSearchCV)\n",
    "param_testeo = {\n",
    "    \"n_estimators\": [5, 10, 15, 20, 25, 30, 35, 50, 100, 150, 300, 400, 500, 510, 520],\n",
    "    # Number of estimatores (trees) to fit\n",
    "\n",
    "    \"num_leaves\": [2, 3, 4, 6, 10, 20, 25, 28, 30, 31, 32, 33, 35, 40, 45],\n",
    "    # Maximun number of node leaves\n",
    "\n",
    "    \"max_depth\": [10, 15, 16, 17, 18, 19, 20, 21, 22, 23, 24, 25, 26, 28, 30, 35, 100, 125, 150, 170, 200, 250, 300, 400],\n",
    "    # Maximun tree depth\n",
    "\n",
    "    \"colsample_bytree\": [0.50, 0.55, 0.6, 0.65, 0.68, 0.70, 0.71, 0.80, 0.81, 0.84, 0.85, 0.86, 0.9],\n",
    "    # Subsample ratio of columns when constructing each tree\n",
    "\n",
    "    \"min_child_weight\": [0.001, 0.002, 0.0025, 0.0026, 0.0027, 0.003, 0.004, 0.005, 0.007, 0.008, 0.009],\n",
    "    # Minimun weight necessary to create new node \n",
    "\n",
    "    \"learning_rate\": [0.1, 0.02, 0.03, 0.04, 0.07, 0.005, 0.003, 0.001],\n",
    "    # Learning rate of model\n",
    "\n",
    "    'subsample': [1],\n",
    "    # Percentage of rows used per tree building operation\n",
    "\n",
    "    \"objective\": ['binary'],\n",
    "    # Problem to solve. Binary classification in this case\n",
    "\n",
    "    \"importance_type\": [\"gini\", \"entropy\"],\n",
    "    # Importante type for characteristics\n",
    "\n",
    "    \"boosting_type\": [\"dart\", \"goss\", \"rf\", \"gbdt\"],\n",
    "    # boosting type to evaluate\n",
    "    \n",
    "    #\"is_unbalance\": ['True'],\n",
    "\n",
    "    \"scale_pos_weight\" : [0.002, 0.003, 0.004] ,\n",
    "    \n",
    "    \"force_col_wise\" : ['True'],\n",
    "}\n"
   ]
  },
  {
   "cell_type": "code",
   "execution_count": 69,
   "metadata": {
    "application/vnd.databricks.v1+cell": {
     "cellMetadata": {
      "byteLimit": 2048000,
      "rowLimit": 10000
     },
     "inputWidgets": {},
     "nuid": "4f395c07-c0d3-41f5-abb4-e795e5ec160a",
     "showTitle": false,
     "title": ""
    },
    "tags": []
   },
   "outputs": [],
   "source": [
    "# Parameters for hiperparamenter search (RandomizedSearchCV) restricted to the first result obtained\n",
    "param_testeoB = {\n",
    "    \"n_estimators\": [460, 480, 400,  500, 510, 520, 530],\n",
    "    # Number of estimatores (trees) to fit\n",
    "\n",
    "    \"num_leaves\": [ 25, 26, 28, 30, 32, 34, 35],\n",
    "    # Maximun number of node leaves\n",
    "\n",
    "    \"max_depth\": [ 17, 18, 19, 20, 21, 22, 23],\n",
    "    # Maximun tree depth\n",
    "\n",
    "    \"colsample_bytree\": [ 0.82 ,0.83, 0.84, 0.86, 0.87],\n",
    "    # Subsample ratio of columns when constructing each tree\n",
    "\n",
    "    \"min_child_weight\": [ 0.0025, 0.0026, 0.0027, 0.0031, 0.0033 ],\n",
    "    # Minimun weight necessary to create new node \n",
    "\n",
    "    \"learning_rate\": [0.05, 0.06, 0.07, 0.08, 0.09],\n",
    "    # Learning rate of model\n",
    "\n",
    "    'subsample': [1],\n",
    "    # Percentage of rows used per tree building operation\n",
    "\n",
    "    \"objective\": ['binary'],\n",
    "    # Problem to solve. Binary classification in this case\n",
    "\n",
    "    \"importance_type\": [\"gini\", \"entropy\"],\n",
    "    # Importante type for characteristics\n",
    "\n",
    "    \"boosting_type\": [\"dart\", \"goss\", \"rf\", \"gbdt\"],\n",
    "    # boosting type to evaluate\n",
    "    \n",
    "    #\"is_unbalance\": ['True'],\n",
    "\n",
    "    \"scale_pos_weight\" : [0.002, 0.003, 0.004] ,\n",
    "    \n",
    "    \"force_col_wise\" : ['True'],\n",
    "}\n"
   ]
  },
  {
   "cell_type": "code",
   "execution_count": 70,
   "metadata": {
    "application/vnd.databricks.v1+cell": {
     "cellMetadata": {
      "byteLimit": 2048000,
      "rowLimit": 10000
     },
     "inputWidgets": {},
     "nuid": "28b5e1a0-8b10-4d1d-8d27-9e0915578d16",
     "showTitle": false,
     "title": ""
    },
    "tags": []
   },
   "outputs": [],
   "source": [
    "# This parameter defines the number of hiperparameters points to be tested\n",
    "n_HP_points_to_test = 100\n"
   ]
  },
  {
   "cell_type": "code",
   "execution_count": 71,
   "metadata": {
    "application/vnd.databricks.v1+cell": {
     "cellMetadata": {
      "byteLimit": 2048000,
      "rowLimit": 10000
     },
     "inputWidgets": {},
     "nuid": "dbb03a6e-bd9c-4bd7-bf0e-981e82c3e2b5",
     "showTitle": false,
     "title": ""
    },
    "tags": []
   },
   "outputs": [],
   "source": [
    "def entrenar_modelo_con_busqueda_aleatoria(X, Y, fit_parameters, param_testeo, n_HP_points_to_test=100, random_state=87):\n",
    "    \"\"\"\n",
    "    Trains model using LightGBM with RandomizedSearchCV for hyperparameters\n",
    "\n",
    "    Parameters:\n",
    "    - X: Input features of dataset.\n",
    "    - Y: Labels of dataset.\n",
    "    - fit_parameters: Parameters for model training and testing.\n",
    "    - param_testeo: Parameters for random hyperparameter seacrh.\n",
    "    - n_HP_points_to_test: Number of hiperparameters points to be tested (predetermined: 100).\n",
    "    - random_state: Random seed for reproducibility (predetermined: 87).\n",
    "\n",
    "    Returns:\n",
    "    - Object with RandomizedSearchCV results.\n",
    "    \"\"\"\n",
    "    X_train, X_test, y_train, y_test = train_test_split(X, Y, test_size=0.2, random_state=random_state)\n",
    "\n",
    "    # Clean column names calling function limpiar_nombres_columnas\n",
    "    X_train = limpiar_nombres_columnas(X_train)\n",
    "    X_test = limpiar_nombres_columnas(X_test)\n",
    "\n",
    "    # Create clasifier LightGBM and perform parametric search of hyperparameters\n",
    "    lgbm = LGBMClassifier(random_state=random_state)\n",
    "    result_trainRandom = RandomizedSearchCV(\n",
    "                        estimator=lgbm, \n",
    "                        param_distributions=param_testeo, \n",
    "                        n_iter=n_HP_points_to_test,\n",
    "                        scoring='f1_micro',\n",
    "                        cv=3,\n",
    "                        refit=True,\n",
    "                        random_state=random_state,\n",
    "                        verbose=True)\n",
    "\n",
    "    # Train model using train data and parampeters\n",
    "    result_trainRandom.fit(X_train, y_train.values.ravel(), **fit_parameters)\n",
    "\n",
    "    return result_trainRandom\n",
    "   \n"
   ]
  },
  {
   "cell_type": "code",
   "execution_count": 72,
   "metadata": {
    "application/vnd.databricks.v1+cell": {
     "cellMetadata": {
      "byteLimit": 2048000,
      "rowLimit": 10000
     },
     "inputWidgets": {},
     "nuid": "4ebf1652-f079-404e-92fb-1b6cb5fd1805",
     "showTitle": false,
     "title": ""
    },
    "tags": []
   },
   "outputs": [],
   "source": [
    "#If hp_search == 1 it does hyperparameter search \n",
    "if hp_search == 1:\n",
    "    result = entrenar_modelo_con_busqueda_aleatoria(X, Y, fit_parameters, param_testeo, n_HP_points_to_test=100, random_state=87)"
   ]
  },
  {
   "cell_type": "code",
   "execution_count": 73,
   "metadata": {
    "tags": []
   },
   "outputs": [],
   "source": [
    "if hp_search == 1:\n",
    "    print(result.best_params_)"
   ]
  },
  {
   "cell_type": "markdown",
   "metadata": {},
   "source": [
    "{'subsample': 1, 'scale_pos_weight': 0.003, 'objective': 'binary', 'num_leaves': 30, 'n_estimators': 520, 'min_child_weight': 0.0026, 'max_depth': 20, 'learning_rate': 0.07, 'importance_type': 'gini', 'force_col_wise': 'True', 'colsample_bytree': 0.84, 'boosting_type': 'gbdt'}"
   ]
  },
  {
   "cell_type": "code",
   "execution_count": 74,
   "metadata": {
    "tags": []
   },
   "outputs": [],
   "source": [
    "# Train model with best hyperparameters found in search\n",
    "if hp_search == 1:\n",
    "    lgb_classifier = LGBMClassifier(**result.best_params_)"
   ]
  },
  {
   "cell_type": "code",
   "execution_count": 75,
   "metadata": {
    "tags": []
   },
   "outputs": [],
   "source": [
    "# Set parameters for model from result of previuos hyperparameter search\n",
    "if hp_search == 0:\n",
    "    best_params_ = {'subsample': 1,\n",
    "     'scale_pos_weight': 0.003,\n",
    "     'objective': 'binary',\n",
    "     'num_leaves': 30,\n",
    "     'n_estimators': 520,\n",
    "     'min_child_weight': 0.0026,\n",
    "     'max_depth': 20,\n",
    "     'learning_rate': 0.07,\n",
    "     'importance_type': 'gini',\n",
    "     'colsample_bytree': 0.84,\n",
    "     'boosting_type': 'gbdt'}\n",
    "\n",
    "    lgb_classifier = LGBMClassifier(**best_params_)"
   ]
  },
  {
   "cell_type": "markdown",
   "metadata": {},
   "source": [
    "## Train model"
   ]
  },
  {
   "cell_type": "code",
   "execution_count": 76,
   "metadata": {
    "application/vnd.databricks.v1+cell": {
     "cellMetadata": {
      "byteLimit": 2048000,
      "rowLimit": 10000
     },
     "inputWidgets": {},
     "nuid": "548fc1c7-7099-46d8-b4dd-dcef9ba72d69",
     "showTitle": false,
     "title": ""
    },
    "tags": []
   },
   "outputs": [
    {
     "name": "stderr",
     "output_type": "stream",
     "text": [
      "/home/ec2-user/anaconda3/envs/python3/lib/python3.10/site-packages/sklearn/preprocessing/_label.py:97: DataConversionWarning: A column-vector y was passed when a 1d array was expected. Please change the shape of y to (n_samples, ), for example using ravel().\n",
      "  y = column_or_1d(y, warn=True)\n",
      "/home/ec2-user/anaconda3/envs/python3/lib/python3.10/site-packages/sklearn/preprocessing/_label.py:132: DataConversionWarning: A column-vector y was passed when a 1d array was expected. Please change the shape of y to (n_samples, ), for example using ravel().\n",
      "  y = column_or_1d(y, dtype=self.classes_.dtype, warn=True)\n"
     ]
    },
    {
     "name": "stdout",
     "output_type": "stream",
     "text": [
      "[LightGBM] [Info] Number of positive: 475, number of negative: 13379419\n",
      "[LightGBM] [Info] Auto-choosing row-wise multi-threading, the overhead of testing was 0.411009 seconds.\n",
      "You can set `force_row_wise=true` to remove the overhead.\n",
      "And if memory is not enough, you can set `force_col_wise=true`.\n",
      "[LightGBM] [Info] Total Bins 2675\n",
      "[LightGBM] [Info] Number of data points in the train set: 13379894, number of used features: 26\n",
      "[LightGBM] [Info] [binary:BoostFromScore]: pavg=0.000036 -> initscore=-10.245913\n",
      "[LightGBM] [Info] Start training from score -10.245913\n"
     ]
    }
   ],
   "source": [
    "# Fit model to data\n",
    "import lightgbm as lgb\n",
    "train_data  = lgb.Dataset(X_train, label = y_train)\n",
    "\n",
    "lgb_classifier.fit(np.array(X_train), y_train)\n",
    "lbg_predictions_labels = lgb_classifier.predict(X_train)"
   ]
  },
  {
   "cell_type": "markdown",
   "metadata": {
    "tags": []
   },
   "source": [
    "# Evaluate model on train/validation data"
   ]
  },
  {
   "cell_type": "code",
   "execution_count": 77,
   "metadata": {
    "application/vnd.databricks.v1+cell": {
     "cellMetadata": {
      "byteLimit": 2048000,
      "rowLimit": 10000
     },
     "inputWidgets": {},
     "nuid": "17cc26fe-d9b1-4a06-99f5-5335a5b97d49",
     "showTitle": false,
     "title": ""
    },
    "tags": []
   },
   "outputs": [],
   "source": [
    "# Predict using trained model \n",
    "data1_f_data_pred_rf = lgb_classifier.predict(X)\n",
    "\n",
    "# Get puntuations (predicted probailities) for the positive class (class 1)\n",
    "probab_rf = lgb_classifier.predict_proba(X)\n",
    "\n",
    "# Extract puntuations (probabilites) for positive class\n",
    "score_rf = np.delete(probab_rf, np.s_[0], axis=1)\n",
    "\n",
    "# Create a copy ot the labels for further analysis\n",
    "Y_c = Y.copy()\n",
    "Y_c = pd.DataFrame(Y_c)\n",
    "\n",
    "# Set prediction and puntuationsof model for positive labels\n",
    "Y_c['preds_rf'] = data1_f_data_pred_rf\n",
    "Y_c['score_rf'] = score_rf\n",
    "\n",
    "# Y_c dataframe can be used for further analysis\n",
    "#Y = pd.DataFrame(pd.concat([df1Train['target'], df1Val['target']], ignore_index=True)) "
   ]
  },
  {
   "cell_type": "code",
   "execution_count": 78,
   "metadata": {
    "tags": []
   },
   "outputs": [
    {
     "data": {
      "text/html": [
       "<div>\n",
       "<style scoped>\n",
       "    .dataframe tbody tr th:only-of-type {\n",
       "        vertical-align: middle;\n",
       "    }\n",
       "\n",
       "    .dataframe tbody tr th {\n",
       "        vertical-align: top;\n",
       "    }\n",
       "\n",
       "    .dataframe thead th {\n",
       "        text-align: right;\n",
       "    }\n",
       "</style>\n",
       "<table border=\"1\" class=\"dataframe\">\n",
       "  <thead>\n",
       "    <tr style=\"text-align: right;\">\n",
       "      <th></th>\n",
       "      <th>target</th>\n",
       "      <th>preds_rf</th>\n",
       "      <th>score_rf</th>\n",
       "    </tr>\n",
       "  </thead>\n",
       "  <tbody>\n",
       "    <tr>\n",
       "      <th>99521</th>\n",
       "      <td>True</td>\n",
       "      <td>True</td>\n",
       "      <td>0.50884959310329258564</td>\n",
       "    </tr>\n",
       "    <tr>\n",
       "      <th>136425</th>\n",
       "      <td>True</td>\n",
       "      <td>True</td>\n",
       "      <td>0.99897570213435415987</td>\n",
       "    </tr>\n",
       "    <tr>\n",
       "      <th>166402</th>\n",
       "      <td>True</td>\n",
       "      <td>False</td>\n",
       "      <td>0.00055102876331718622</td>\n",
       "    </tr>\n",
       "    <tr>\n",
       "      <th>180042</th>\n",
       "      <td>True</td>\n",
       "      <td>True</td>\n",
       "      <td>0.89190676620918218909</td>\n",
       "    </tr>\n",
       "    <tr>\n",
       "      <th>187184</th>\n",
       "      <td>True</td>\n",
       "      <td>True</td>\n",
       "      <td>0.99593736065982052530</td>\n",
       "    </tr>\n",
       "    <tr>\n",
       "      <th>...</th>\n",
       "      <td>...</td>\n",
       "      <td>...</td>\n",
       "      <td>...</td>\n",
       "    </tr>\n",
       "    <tr>\n",
       "      <th>16650420</th>\n",
       "      <td>True</td>\n",
       "      <td>True</td>\n",
       "      <td>0.94951017377237134642</td>\n",
       "    </tr>\n",
       "    <tr>\n",
       "      <th>16653629</th>\n",
       "      <td>True</td>\n",
       "      <td>True</td>\n",
       "      <td>0.99985023435273479020</td>\n",
       "    </tr>\n",
       "    <tr>\n",
       "      <th>16659081</th>\n",
       "      <td>True</td>\n",
       "      <td>True</td>\n",
       "      <td>0.75743028465834272289</td>\n",
       "    </tr>\n",
       "    <tr>\n",
       "      <th>16695469</th>\n",
       "      <td>True</td>\n",
       "      <td>True</td>\n",
       "      <td>0.54110693879361937420</td>\n",
       "    </tr>\n",
       "    <tr>\n",
       "      <th>16719458</th>\n",
       "      <td>True</td>\n",
       "      <td>True</td>\n",
       "      <td>0.99999048017839042846</td>\n",
       "    </tr>\n",
       "  </tbody>\n",
       "</table>\n",
       "<p>595 rows × 3 columns</p>\n",
       "</div>"
      ],
      "text/plain": [
       "          target  preds_rf               score_rf\n",
       "99521       True      True 0.50884959310329258564\n",
       "136425      True      True 0.99897570213435415987\n",
       "166402      True     False 0.00055102876331718622\n",
       "180042      True      True 0.89190676620918218909\n",
       "187184      True      True 0.99593736065982052530\n",
       "...          ...       ...                    ...\n",
       "16650420    True      True 0.94951017377237134642\n",
       "16653629    True      True 0.99985023435273479020\n",
       "16659081    True      True 0.75743028465834272289\n",
       "16695469    True      True 0.54110693879361937420\n",
       "16719458    True      True 0.99999048017839042846\n",
       "\n",
       "[595 rows x 3 columns]"
      ]
     },
     "execution_count": 78,
     "metadata": {},
     "output_type": "execute_result"
    }
   ],
   "source": [
    " Y_c[Y_c['target'] == True]"
   ]
  },
  {
   "cell_type": "code",
   "execution_count": 79,
   "metadata": {
    "tags": []
   },
   "outputs": [
    {
     "data": {
      "text/plain": [
       "0.5009974238073183"
      ]
     },
     "execution_count": 79,
     "metadata": {},
     "output_type": "execute_result"
    }
   ],
   "source": [
    "# Model threshold for positive class\n",
    "Y_c.score_rf[Y_c['preds_rf']==True].min()"
   ]
  },
  {
   "cell_type": "code",
   "execution_count": 80,
   "metadata": {
    "tags": []
   },
   "outputs": [
    {
     "data": {
      "text/plain": [
       "preds_rf\n",
       "False    16724376\n",
       "True          492\n",
       "Name: count, dtype: int64"
      ]
     },
     "execution_count": 80,
     "metadata": {},
     "output_type": "execute_result"
    }
   ],
   "source": [
    "# Validate total of each class\n",
    "Y_c['preds_rf'].value_counts()"
   ]
  },
  {
   "cell_type": "code",
   "execution_count": 81,
   "metadata": {
    "tags": []
   },
   "outputs": [
    {
     "data": {
      "text/html": [
       "<div>\n",
       "<style scoped>\n",
       "    .dataframe tbody tr th:only-of-type {\n",
       "        vertical-align: middle;\n",
       "    }\n",
       "\n",
       "    .dataframe tbody tr th {\n",
       "        vertical-align: top;\n",
       "    }\n",
       "\n",
       "    .dataframe thead th {\n",
       "        text-align: right;\n",
       "    }\n",
       "</style>\n",
       "<table border=\"1\" class=\"dataframe\">\n",
       "  <thead>\n",
       "    <tr style=\"text-align: right;\">\n",
       "      <th></th>\n",
       "      <th>0</th>\n",
       "      <th>1</th>\n",
       "    </tr>\n",
       "  </thead>\n",
       "  <tbody>\n",
       "    <tr>\n",
       "      <th>0</th>\n",
       "      <td>16724273</td>\n",
       "      <td>0</td>\n",
       "    </tr>\n",
       "    <tr>\n",
       "      <th>1</th>\n",
       "      <td>103</td>\n",
       "      <td>492</td>\n",
       "    </tr>\n",
       "  </tbody>\n",
       "</table>\n",
       "</div>"
      ],
      "text/plain": [
       "          0    1\n",
       "0  16724273    0\n",
       "1       103  492"
      ]
     },
     "execution_count": 81,
     "metadata": {},
     "output_type": "execute_result"
    }
   ],
   "source": [
    "# Confusion matriz for predefined thershold \n",
    "pd.DataFrame(confusion_matrix(Y_c['target'], Y_c['preds_rf']))"
   ]
  },
  {
   "cell_type": "code",
   "execution_count": 82,
   "metadata": {
    "tags": []
   },
   "outputs": [
    {
     "data": {
      "text/plain": [
       "<Axes: xlabel='score_rf', ylabel='Count'>"
      ]
     },
     "execution_count": 82,
     "metadata": {},
     "output_type": "execute_result"
    },
    {
     "data": {
      "image/png": "[encoded data removed]",
      "text/plain": [
       "<Figure size 640x480 with 1 Axes>"
      ]
     },
     "metadata": {},
     "output_type": "display_data"
    }
   ],
   "source": [
    "import seaborn as sns\n",
    "sns.histplot(data = Y_c[Y_c['target'] == True], x='score_rf')"
   ]
  },
  {
   "cell_type": "code",
   "execution_count": 83,
   "metadata": {
    "tags": []
   },
   "outputs": [
    {
     "name": "stdout",
     "output_type": "stream",
     "text": [
      "              precision    recall  f1-score   support\n",
      "\n",
      "   No fraude       1.00      1.00      1.00  16724273\n",
      "      Fraude       1.00      0.83      0.91       595\n",
      "\n",
      "    accuracy                           1.00  16724868\n",
      "   macro avg       1.00      0.91      0.95  16724868\n",
      "weighted avg       1.00      1.00      1.00  16724868\n",
      "\n"
     ]
    }
   ],
   "source": [
    "target_names = ['No fraude', 'Fraude']\n",
    "print(classification_report(Y_c['target'], Y_c['preds_rf'], target_names=target_names))"
   ]
  },
  {
   "cell_type": "code",
   "execution_count": 84,
   "metadata": {
    "tags": []
   },
   "outputs": [
    {
     "name": "stdout",
     "output_type": "stream",
     "text": [
      "FRAUD CAPTURE .04%:\n",
      "0.9899159663865547\n"
     ]
    }
   ],
   "source": [
    "# Divide into tiles and compute cature al 0.04% for train/validation dataset\n",
    "percentiles = pd.qcut(Y_c['score_rf'], q=1000, duplicates='drop')\n",
    "\n",
    "percentile_label = {p: l for l, p in enumerate(sorted(percentiles.unique(), reverse=True), start=1)}\n",
    "percentiles = percentiles.map(percentile_label)\n",
    "Y_c['FRAUD_DECILE'] = np.nan\n",
    "Y_c['FRAUD_DECILE'] = percentiles\n",
    "Y_c['FRAUD_DECILE'] = Y_c['FRAUD_DECILE'].astype('Int32')\n",
    "print('FRAUD CAPTURE .04%:')\n",
    "print(sum(Y_c[Y_c['FRAUD_DECILE'] < 4]['target']) / sum(Y_c['target']))"
   ]
  },
  {
   "cell_type": "code",
   "execution_count": 85,
   "metadata": {
    "tags": []
   },
   "outputs": [
    {
     "data": {
      "text/html": [
       "<div>\n",
       "<style scoped>\n",
       "    .dataframe tbody tr th:only-of-type {\n",
       "        vertical-align: middle;\n",
       "    }\n",
       "\n",
       "    .dataframe tbody tr th {\n",
       "        vertical-align: top;\n",
       "    }\n",
       "\n",
       "    .dataframe thead th {\n",
       "        text-align: right;\n",
       "    }\n",
       "</style>\n",
       "<table border=\"1\" class=\"dataframe\">\n",
       "  <thead>\n",
       "    <tr style=\"text-align: right;\">\n",
       "      <th>target</th>\n",
       "      <th>False</th>\n",
       "      <th>True</th>\n",
       "    </tr>\n",
       "    <tr>\n",
       "      <th>FRAUD_DECILE</th>\n",
       "      <th></th>\n",
       "      <th></th>\n",
       "    </tr>\n",
       "  </thead>\n",
       "  <tbody>\n",
       "    <tr>\n",
       "      <th>1</th>\n",
       "      <td>16143</td>\n",
       "      <td>582</td>\n",
       "    </tr>\n",
       "    <tr>\n",
       "      <th>2</th>\n",
       "      <td>16723</td>\n",
       "      <td>2</td>\n",
       "    </tr>\n",
       "    <tr>\n",
       "      <th>3</th>\n",
       "      <td>16720</td>\n",
       "      <td>5</td>\n",
       "    </tr>\n",
       "    <tr>\n",
       "      <th>4</th>\n",
       "      <td>16725</td>\n",
       "      <td>0</td>\n",
       "    </tr>\n",
       "    <tr>\n",
       "      <th>5</th>\n",
       "      <td>16724</td>\n",
       "      <td>1</td>\n",
       "    </tr>\n",
       "    <tr>\n",
       "      <th>...</th>\n",
       "      <td>...</td>\n",
       "      <td>...</td>\n",
       "    </tr>\n",
       "    <tr>\n",
       "      <th>996</th>\n",
       "      <td>16725</td>\n",
       "      <td>0</td>\n",
       "    </tr>\n",
       "    <tr>\n",
       "      <th>997</th>\n",
       "      <td>16725</td>\n",
       "      <td>0</td>\n",
       "    </tr>\n",
       "    <tr>\n",
       "      <th>998</th>\n",
       "      <td>16725</td>\n",
       "      <td>0</td>\n",
       "    </tr>\n",
       "    <tr>\n",
       "      <th>999</th>\n",
       "      <td>16725</td>\n",
       "      <td>0</td>\n",
       "    </tr>\n",
       "    <tr>\n",
       "      <th>1000</th>\n",
       "      <td>16725</td>\n",
       "      <td>0</td>\n",
       "    </tr>\n",
       "  </tbody>\n",
       "</table>\n",
       "<p>1000 rows × 2 columns</p>\n",
       "</div>"
      ],
      "text/plain": [
       "target        False  True \n",
       "FRAUD_DECILE              \n",
       "1             16143    582\n",
       "2             16723      2\n",
       "3             16720      5\n",
       "4             16725      0\n",
       "5             16724      1\n",
       "...             ...    ...\n",
       "996           16725      0\n",
       "997           16725      0\n",
       "998           16725      0\n",
       "999           16725      0\n",
       "1000          16725      0\n",
       "\n",
       "[1000 rows x 2 columns]"
      ]
     },
     "execution_count": 85,
     "metadata": {},
     "output_type": "execute_result"
    }
   ],
   "source": [
    "# Table with totals by n-tile\n",
    "DECILES_T = pd.crosstab(Y_c['FRAUD_DECILE'], Y_c['target'])\n",
    "DECILES_T"
   ]
  },
  {
   "cell_type": "code",
   "execution_count": 86,
   "metadata": {
    "application/vnd.databricks.v1+cell": {
     "cellMetadata": {
      "byteLimit": 2048000,
      "rowLimit": 10000
     },
     "inputWidgets": {},
     "nuid": "71386cf3-61f2-44f2-aec7-360594b577b2",
     "showTitle": false,
     "title": ""
    },
    "tags": []
   },
   "outputs": [
    {
     "data": {
      "text/plain": [
       "array([<Axes: title={'center': 'False'}, xlabel='FRAUD_DECILE'>,\n",
       "       <Axes: title={'center': 'True'}, xlabel='FRAUD_DECILE'>],\n",
       "      dtype=object)"
      ]
     },
     "execution_count": 86,
     "metadata": {},
     "output_type": "execute_result"
    },
    {
     "data": {
      "image/png": "[encoded data removed]",
      "text/plain": [
       "<Figure size 640x480 with 2 Axes>"
      ]
     },
     "metadata": {},
     "output_type": "display_data"
    }
   ],
   "source": [
    "# Plot class by n-tile\n",
    "DECILES_T.plot.bar(stacked=False, rot=0,subplots=True)"
   ]
  },
  {
   "cell_type": "code",
   "execution_count": 87,
   "metadata": {},
   "outputs": [
    {
     "data": {
      "text/html": [
       "<div>\n",
       "<style scoped>\n",
       "    .dataframe tbody tr th:only-of-type {\n",
       "        vertical-align: middle;\n",
       "    }\n",
       "\n",
       "    .dataframe tbody tr th {\n",
       "        vertical-align: top;\n",
       "    }\n",
       "\n",
       "    .dataframe thead tr th {\n",
       "        text-align: left;\n",
       "    }\n",
       "\n",
       "    .dataframe thead tr:last-of-type th {\n",
       "        text-align: right;\n",
       "    }\n",
       "</style>\n",
       "<table border=\"1\" class=\"dataframe\">\n",
       "  <thead>\n",
       "    <tr>\n",
       "      <th></th>\n",
       "      <th colspan=\"2\" halign=\"left\">score_rf</th>\n",
       "    </tr>\n",
       "    <tr>\n",
       "      <th></th>\n",
       "      <th>min</th>\n",
       "      <th>max</th>\n",
       "    </tr>\n",
       "    <tr>\n",
       "      <th>FRAUD_DECILE</th>\n",
       "      <th></th>\n",
       "      <th></th>\n",
       "    </tr>\n",
       "  </thead>\n",
       "  <tbody>\n",
       "    <tr>\n",
       "      <th>1</th>\n",
       "      <td>0.00000099225486394023</td>\n",
       "      <td>0.99999993685413612887</td>\n",
       "    </tr>\n",
       "    <tr>\n",
       "      <th>2</th>\n",
       "      <td>0.00000029880861219777</td>\n",
       "      <td>0.00000099223621783965</td>\n",
       "    </tr>\n",
       "    <tr>\n",
       "      <th>3</th>\n",
       "      <td>0.00000014437050403993</td>\n",
       "      <td>0.00000029877259494709</td>\n",
       "    </tr>\n",
       "    <tr>\n",
       "      <th>4</th>\n",
       "      <td>0.00000008583808458563</td>\n",
       "      <td>0.00000014436700989467</td>\n",
       "    </tr>\n",
       "    <tr>\n",
       "      <th>5</th>\n",
       "      <td>0.00000005680286754019</td>\n",
       "      <td>0.00000008583527229762</td>\n",
       "    </tr>\n",
       "    <tr>\n",
       "      <th>...</th>\n",
       "      <td>...</td>\n",
       "      <td>...</td>\n",
       "    </tr>\n",
       "    <tr>\n",
       "      <th>996</th>\n",
       "      <td>0.00000000000007350089</td>\n",
       "      <td>0.00000000000008220339</td>\n",
       "    </tr>\n",
       "    <tr>\n",
       "      <th>997</th>\n",
       "      <td>0.00000000000006374820</td>\n",
       "      <td>0.00000000000007350016</td>\n",
       "    </tr>\n",
       "    <tr>\n",
       "      <th>998</th>\n",
       "      <td>0.00000000000005278933</td>\n",
       "      <td>0.00000000000006374767</td>\n",
       "    </tr>\n",
       "    <tr>\n",
       "      <th>999</th>\n",
       "      <td>0.00000000000003893573</td>\n",
       "      <td>0.00000000000005278903</td>\n",
       "    </tr>\n",
       "    <tr>\n",
       "      <th>1000</th>\n",
       "      <td>0.00000000000000265582</td>\n",
       "      <td>0.00000000000003893427</td>\n",
       "    </tr>\n",
       "  </tbody>\n",
       "</table>\n",
       "<p>1000 rows × 2 columns</p>\n",
       "</div>"
      ],
      "text/plain": [
       "                           score_rf                       \n",
       "                                min                    max\n",
       "FRAUD_DECILE                                              \n",
       "1            0.00000099225486394023 0.99999993685413612887\n",
       "2            0.00000029880861219777 0.00000099223621783965\n",
       "3            0.00000014437050403993 0.00000029877259494709\n",
       "4            0.00000008583808458563 0.00000014436700989467\n",
       "5            0.00000005680286754019 0.00000008583527229762\n",
       "...                             ...                    ...\n",
       "996          0.00000000000007350089 0.00000000000008220339\n",
       "997          0.00000000000006374820 0.00000000000007350016\n",
       "998          0.00000000000005278933 0.00000000000006374767\n",
       "999          0.00000000000003893573 0.00000000000005278903\n",
       "1000         0.00000000000000265582 0.00000000000003893427\n",
       "\n",
       "[1000 rows x 2 columns]"
      ]
     },
     "execution_count": 87,
     "metadata": {},
     "output_type": "execute_result"
    }
   ],
   "source": [
    "Y_c[['score_rf','FRAUD_DECILE']].groupby(['FRAUD_DECILE']).agg({'score_rf': [ 'min', 'max']}) "
   ]
  },
  {
   "cell_type": "code",
   "execution_count": 88,
   "metadata": {
    "tags": []
   },
   "outputs": [],
   "source": [
    "#Get thresold for .03% of data with highest score\n",
    "corte = Y_c.score_rf[Y_c['FRAUD_DECILE']==3].min()"
   ]
  },
  {
   "cell_type": "code",
   "execution_count": 89,
   "metadata": {
    "tags": []
   },
   "outputs": [
    {
     "data": {
      "image/png": "[encoded data removed]",
      "text/plain": [
       "<Figure size 700x600 with 1 Axes>"
      ]
     },
     "metadata": {},
     "output_type": "display_data"
    }
   ],
   "source": [
    "# Plot feature importance using Gain\n",
    "lgb.plot_importance(lgb_classifier, importance_type=\"gain\", figsize=(7,6), title=\"LightGBM Feature Importance (Gain)\")\n",
    "plt.show()"
   ]
  },
  {
   "cell_type": "code",
   "execution_count": 90,
   "metadata": {
    "tags": []
   },
   "outputs": [
    {
     "data": {
      "image/png": "[encoded data removed]",
      "text/plain": [
       "<Figure size 700x600 with 1 Axes>"
      ]
     },
     "metadata": {},
     "output_type": "display_data"
    }
   ],
   "source": [
    "# Plot feature importance using Split\n",
    "lgb.plot_importance(lgb_classifier, importance_type=\"split\", figsize=(7,6), title=\"LightGBM Feature Importance (Split)\")\n",
    "plt.show()"
   ]
  },
  {
   "cell_type": "code",
   "execution_count": 91,
   "metadata": {},
   "outputs": [],
   "source": [
    "# Run when it has to save new model\n",
    "import joblib\n",
    "joblib.dump(lgb_classifier, 'ModeloBite.pkl')\n",
    "with open(\"./ModeloBite.txt\", \"w\") as output:\n",
    "    output.write(str(var_input))\n"
   ]
  },
  {
   "cell_type": "code",
   "execution_count": 92,
   "metadata": {
    "tags": []
   },
   "outputs": [],
   "source": [
    "# Save thresholds to recode score\n",
    "pd.options.display.float_format = \"{:,.20f}\".format\n",
    "Buckets = Y_c[['score_rf','FRAUD_DECILE']].groupby(['FRAUD_DECILE']).agg({'score_rf': [ 'min', 'max']}).stack(0, future_stack=True)\n",
    "Buckets = Buckets.reset_index()\n",
    "Buckets['final_score'] = 1-(Buckets['FRAUD_DECILE']/1000)\n",
    "Buckets.to_csv ('./BucketsModeloBite.csv')"
   ]
  },
  {
   "cell_type": "code",
   "execution_count": 93,
   "metadata": {
    "tags": []
   },
   "outputs": [],
   "source": [
    "# Save feature importance in text file\n",
    "# Importance is measured in terms of gain according to LightGBM classifier\n",
    "#np.savetxt('./ModeloFinal_sin_rtcImp.txt', lgb_classifier.booster_.feature_importance(importance_type='gain'),fmt='%f')"
   ]
  },
  {
   "cell_type": "markdown",
   "metadata": {
    "application/vnd.databricks.v1+cell": {
     "cellMetadata": {
      "byteLimit": 2048000,
      "rowLimit": 10000
     },
     "inputWidgets": {},
     "nuid": "e6fcd014-a695-48a9-8af9-a121268015cb",
     "showTitle": false,
     "title": ""
    },
    "tags": []
   },
   "source": [
    "## Evaluate model on test data ##"
   ]
  },
  {
   "cell_type": "code",
   "execution_count": 94,
   "metadata": {
    "application/vnd.databricks.v1+cell": {
     "cellMetadata": {
      "byteLimit": 2048000,
      "rowLimit": 10000
     },
     "inputWidgets": {},
     "nuid": "42e3788f-3cd7-45f4-bc86-72637798fd75",
     "showTitle": false,
     "title": ""
    }
   },
   "outputs": [],
   "source": [
    "s3_url = f\"viamericas-datalake-dev-us-east-1-283731589572-raw/FraudModel/Data4Model\"\n",
    "tes = pd.read_parquet(f\"s3://{s3_url}/TargetTodos/Test/Test.parquet\")"
   ]
  },
  {
   "cell_type": "code",
   "execution_count": 95,
   "metadata": {},
   "outputs": [],
   "source": [
    "## Variable list for input\n",
    "X = tes[var_input]\n",
    "Y = tes['target'] \n",
    "testeo = tes"
   ]
  },
  {
   "cell_type": "code",
   "execution_count": 96,
   "metadata": {
    "application/vnd.databricks.v1+cell": {
     "cellMetadata": {
      "byteLimit": 2048000,
      "rowLimit": 10000
     },
     "inputWidgets": {},
     "nuid": "b7bd1a47-7799-4579-b3b0-66207df6f13d",
     "showTitle": false,
     "title": ""
    }
   },
   "outputs": [],
   "source": [
    "def limpiar_nombres_columnas(dataframe):\n",
    "    \"\"\"\n",
    "    Limpia y estandariza los nombres de las columnas en un DataFrame.\n",
    "\n",
    "    Parameters:\n",
    "    - dataframe: DataFrame de pandas.\n",
    "\n",
    "    Returns:\n",
    "    - DataFrame con nombres de columnas limpios.\n",
    "    \"\"\"\n",
    "    dataframe = dataframe.rename(columns=lambda x: re.sub('[^A-Za-z0-9_]+', '', x))\n",
    "    return dataframe\n",
    "    \n",
    "testeo = limpiar_nombres_columnas(testeo)"
   ]
  },
  {
   "cell_type": "code",
   "execution_count": 97,
   "metadata": {
    "application/vnd.databricks.v1+cell": {
     "cellMetadata": {
      "byteLimit": 2048000,
      "rowLimit": 10000
     },
     "inputWidgets": {},
     "nuid": "c3bcf455-00db-437e-9b14-40b53d895d0b",
     "showTitle": false,
     "title": ""
    }
   },
   "outputs": [
    {
     "name": "stdout",
     "output_type": "stream",
     "text": [
      "Dataset Length:  9754043\n",
      "Dataset Shape:  (9754043, 77)\n"
     ]
    }
   ],
   "source": [
    "print (\"Dataset Length: \", len(testeo)) \n",
    "print (\"Dataset Shape: \", testeo.shape)"
   ]
  },
  {
   "cell_type": "code",
   "execution_count": 98,
   "metadata": {
    "application/vnd.databricks.v1+cell": {
     "cellMetadata": {
      "byteLimit": 2048000,
      "rowLimit": 10000
     },
     "inputWidgets": {},
     "nuid": "0c0fb05b-e907-4ead-87c5-ec1a40104b55",
     "showTitle": false,
     "title": ""
    }
   },
   "outputs": [
    {
     "data": {
      "text/plain": [
       "target\n",
       "False    9753879\n",
       "True         164\n",
       "Name: count, dtype: int64"
      ]
     },
     "execution_count": 98,
     "metadata": {},
     "output_type": "execute_result"
    }
   ],
   "source": [
    "testeo['target'].value_counts(dropna=False)"
   ]
  },
  {
   "cell_type": "code",
   "execution_count": 99,
   "metadata": {
    "application/vnd.databricks.v1+cell": {
     "cellMetadata": {
      "byteLimit": 2048000,
      "rowLimit": 10000
     },
     "inputWidgets": {},
     "nuid": "1318a536-2a23-456f-842c-ac6d1d389126",
     "showTitle": false,
     "title": ""
    }
   },
   "outputs": [
    {
     "data": {
      "text/html": [
       "<div>\n",
       "<style scoped>\n",
       "    .dataframe tbody tr th:only-of-type {\n",
       "        vertical-align: middle;\n",
       "    }\n",
       "\n",
       "    .dataframe tbody tr th {\n",
       "        vertical-align: top;\n",
       "    }\n",
       "\n",
       "    .dataframe thead th {\n",
       "        text-align: right;\n",
       "    }\n",
       "</style>\n",
       "<table border=\"1\" class=\"dataframe\">\n",
       "  <thead>\n",
       "    <tr style=\"text-align: right;\">\n",
       "      <th></th>\n",
       "      <th>branch_minutes_since_last_transaction</th>\n",
       "      <th>branch_trans_3m</th>\n",
       "      <th>branch_has_fraud</th>\n",
       "      <th>branch_trans_40min</th>\n",
       "      <th>branch_trans_10min</th>\n",
       "      <th>cash_pick_up_40min</th>\n",
       "      <th>location_nro_fraud</th>\n",
       "      <th>sender_trans_3m</th>\n",
       "      <th>sender_nro_fraud</th>\n",
       "      <th>01_isMexico</th>\n",
       "      <th>01_sender_branch_state</th>\n",
       "      <th>01_var_range_hist</th>\n",
       "      <th>01_branch_fraud</th>\n",
       "      <th>01_location_fraud</th>\n",
       "      <th>01_sender_fraud</th>\n",
       "      <th>01_isCashPick</th>\n",
       "      <th>01_isBankDep</th>\n",
       "      <th>sender_days_to_last_transaction_more7m</th>\n",
       "      <th>01_receiver_transaction_count</th>\n",
       "      <th>01_sender_sending_days</th>\n",
       "      <th>01_branch_working_days</th>\n",
       "      <th>01_net_amount_receiver</th>\n",
       "      <th>01_sender_minutes_since_last_transaction_2days</th>\n",
       "      <th>01_sender_days_to_last_transaction_365</th>\n",
       "      <th>01_sender_days_to_last_transaction_7m</th>\n",
       "      <th>01_hour_receiver</th>\n",
       "    </tr>\n",
       "  </thead>\n",
       "  <tbody>\n",
       "    <tr>\n",
       "      <th>0</th>\n",
       "      <td>22.00000000000000000000</td>\n",
       "      <td>6,282.00000000000000000000</td>\n",
       "      <td>7</td>\n",
       "      <td>1</td>\n",
       "      <td>0</td>\n",
       "      <td>1</td>\n",
       "      <td>7</td>\n",
       "      <td>21.00000000000000000000</td>\n",
       "      <td>0</td>\n",
       "      <td>False</td>\n",
       "      <td>True</td>\n",
       "      <td>2.76481178795100035472</td>\n",
       "      <td>True</td>\n",
       "      <td>True</td>\n",
       "      <td>False</td>\n",
       "      <td>True</td>\n",
       "      <td>False</td>\n",
       "      <td>0</td>\n",
       "      <td>0.19801980198019802915</td>\n",
       "      <td>1.00000000000000000000</td>\n",
       "      <td>0.32735200402481973159</td>\n",
       "      <td>0.39711191335740070318</td>\n",
       "      <td>0.00000000000000000000</td>\n",
       "      <td>0.01095890410958904118</td>\n",
       "      <td>0.01904761904761904934</td>\n",
       "      <td>0.79166666666666662966</td>\n",
       "    </tr>\n",
       "    <tr>\n",
       "      <th>1</th>\n",
       "      <td>86.00000000000000000000</td>\n",
       "      <td>3,463.00000000000000000000</td>\n",
       "      <td>0</td>\n",
       "      <td>0</td>\n",
       "      <td>0</td>\n",
       "      <td>0</td>\n",
       "      <td>0</td>\n",
       "      <td>4.00000000000000000000</td>\n",
       "      <td>0</td>\n",
       "      <td>False</td>\n",
       "      <td>True</td>\n",
       "      <td>0.87209302325581394832</td>\n",
       "      <td>False</td>\n",
       "      <td>False</td>\n",
       "      <td>False</td>\n",
       "      <td>True</td>\n",
       "      <td>False</td>\n",
       "      <td>0</td>\n",
       "      <td>0.06930693069306931298</td>\n",
       "      <td>0.22678571428571428492</td>\n",
       "      <td>0.13281905081334899332</td>\n",
       "      <td>0.10830324909747292284</td>\n",
       "      <td>0.00000000000000000000</td>\n",
       "      <td>0.02465753424657534179</td>\n",
       "      <td>0.04285714285714285754</td>\n",
       "      <td>0.62500000000000000000</td>\n",
       "    </tr>\n",
       "    <tr>\n",
       "      <th>2</th>\n",
       "      <td>20.00000000000000000000</td>\n",
       "      <td>1,574.00000000000000000000</td>\n",
       "      <td>0</td>\n",
       "      <td>2</td>\n",
       "      <td>0</td>\n",
       "      <td>2</td>\n",
       "      <td>0</td>\n",
       "      <td>17.00000000000000000000</td>\n",
       "      <td>0</td>\n",
       "      <td>False</td>\n",
       "      <td>True</td>\n",
       "      <td>0.78782364490471201712</td>\n",
       "      <td>False</td>\n",
       "      <td>False</td>\n",
       "      <td>False</td>\n",
       "      <td>True</td>\n",
       "      <td>False</td>\n",
       "      <td>0</td>\n",
       "      <td>0.27722772277227725191</td>\n",
       "      <td>0.62142857142857144126</td>\n",
       "      <td>0.08452121415394935056</td>\n",
       "      <td>0.03682310469314079709</td>\n",
       "      <td>0.00000000000000000000</td>\n",
       "      <td>0.01095890410958904118</td>\n",
       "      <td>0.01904761904761904934</td>\n",
       "      <td>0.75000000000000000000</td>\n",
       "    </tr>\n",
       "    <tr>\n",
       "      <th>3</th>\n",
       "      <td>25.00000000000000000000</td>\n",
       "      <td>3,300.00000000000000000000</td>\n",
       "      <td>0</td>\n",
       "      <td>3</td>\n",
       "      <td>0</td>\n",
       "      <td>2</td>\n",
       "      <td>0</td>\n",
       "      <td>5.00000000000000000000</td>\n",
       "      <td>0</td>\n",
       "      <td>True</td>\n",
       "      <td>True</td>\n",
       "      <td>0.62111801242236019949</td>\n",
       "      <td>False</td>\n",
       "      <td>False</td>\n",
       "      <td>False</td>\n",
       "      <td>True</td>\n",
       "      <td>False</td>\n",
       "      <td>0</td>\n",
       "      <td>0.10891089108910891048</td>\n",
       "      <td>0.03571428571428571230</td>\n",
       "      <td>0.14103639107831628108</td>\n",
       "      <td>0.07220216606498194856</td>\n",
       "      <td>0.00000000000000000000</td>\n",
       "      <td>0.01917808219178082293</td>\n",
       "      <td>0.03333333333333333287</td>\n",
       "      <td>0.87500000000000000000</td>\n",
       "    </tr>\n",
       "    <tr>\n",
       "      <th>4</th>\n",
       "      <td>10.00000000000000000000</td>\n",
       "      <td>6,737.00000000000000000000</td>\n",
       "      <td>2</td>\n",
       "      <td>6</td>\n",
       "      <td>0</td>\n",
       "      <td>5</td>\n",
       "      <td>2</td>\n",
       "      <td>21.00000000000000000000</td>\n",
       "      <td>0</td>\n",
       "      <td>True</td>\n",
       "      <td>True</td>\n",
       "      <td>0.81417880762350502977</td>\n",
       "      <td>True</td>\n",
       "      <td>True</td>\n",
       "      <td>False</td>\n",
       "      <td>True</td>\n",
       "      <td>False</td>\n",
       "      <td>0</td>\n",
       "      <td>1.00000000000000000000</td>\n",
       "      <td>1.00000000000000000000</td>\n",
       "      <td>0.46050645648163673895</td>\n",
       "      <td>0.05054151624548736121</td>\n",
       "      <td>0.00000000000000000000</td>\n",
       "      <td>0.00821917808219178002</td>\n",
       "      <td>0.01428571428571428527</td>\n",
       "      <td>0.95833333333333337034</td>\n",
       "    </tr>\n",
       "    <tr>\n",
       "      <th>...</th>\n",
       "      <td>...</td>\n",
       "      <td>...</td>\n",
       "      <td>...</td>\n",
       "      <td>...</td>\n",
       "      <td>...</td>\n",
       "      <td>...</td>\n",
       "      <td>...</td>\n",
       "      <td>...</td>\n",
       "      <td>...</td>\n",
       "      <td>...</td>\n",
       "      <td>...</td>\n",
       "      <td>...</td>\n",
       "      <td>...</td>\n",
       "      <td>...</td>\n",
       "      <td>...</td>\n",
       "      <td>...</td>\n",
       "      <td>...</td>\n",
       "      <td>...</td>\n",
       "      <td>...</td>\n",
       "      <td>...</td>\n",
       "      <td>...</td>\n",
       "      <td>...</td>\n",
       "      <td>...</td>\n",
       "      <td>...</td>\n",
       "      <td>...</td>\n",
       "      <td>...</td>\n",
       "    </tr>\n",
       "    <tr>\n",
       "      <th>9754038</th>\n",
       "      <td>12.00000000000000000000</td>\n",
       "      <td>2,451.00000000000000000000</td>\n",
       "      <td>0</td>\n",
       "      <td>1</td>\n",
       "      <td>0</td>\n",
       "      <td>0</td>\n",
       "      <td>0</td>\n",
       "      <td>2.00000000000000000000</td>\n",
       "      <td>0</td>\n",
       "      <td>True</td>\n",
       "      <td>True</td>\n",
       "      <td>0.32772916461835938096</td>\n",
       "      <td>False</td>\n",
       "      <td>False</td>\n",
       "      <td>False</td>\n",
       "      <td>True</td>\n",
       "      <td>False</td>\n",
       "      <td>0</td>\n",
       "      <td>0.08910891089108910479</td>\n",
       "      <td>0.68928571428571427937</td>\n",
       "      <td>0.32399798759013920257</td>\n",
       "      <td>0.03610108303249097428</td>\n",
       "      <td>0.00000000000000000000</td>\n",
       "      <td>0.15616438356164383250</td>\n",
       "      <td>0.27142857142857140795</td>\n",
       "      <td>0.62500000000000000000</td>\n",
       "    </tr>\n",
       "    <tr>\n",
       "      <th>9754039</th>\n",
       "      <td>1.00000000000000000000</td>\n",
       "      <td>2,334.00000000000000000000</td>\n",
       "      <td>0</td>\n",
       "      <td>5</td>\n",
       "      <td>1</td>\n",
       "      <td>4</td>\n",
       "      <td>0</td>\n",
       "      <td>12.00000000000000000000</td>\n",
       "      <td>0</td>\n",
       "      <td>True</td>\n",
       "      <td>True</td>\n",
       "      <td>0.27459951719912883972</td>\n",
       "      <td>False</td>\n",
       "      <td>False</td>\n",
       "      <td>False</td>\n",
       "      <td>False</td>\n",
       "      <td>True</td>\n",
       "      <td>0</td>\n",
       "      <td>0.07920792079207920888</td>\n",
       "      <td>0.29999999999999998890</td>\n",
       "      <td>0.17709206775113198185</td>\n",
       "      <td>0.03610108303249097428</td>\n",
       "      <td>0.00034722222222222224</td>\n",
       "      <td>0.00000000000000000000</td>\n",
       "      <td>0.00000000000000000000</td>\n",
       "      <td>0.41666666666666668517</td>\n",
       "    </tr>\n",
       "    <tr>\n",
       "      <th>9754040</th>\n",
       "      <td>2.00000000000000000000</td>\n",
       "      <td>5,762.00000000000000000000</td>\n",
       "      <td>0</td>\n",
       "      <td>10</td>\n",
       "      <td>3</td>\n",
       "      <td>7</td>\n",
       "      <td>0</td>\n",
       "      <td>17.00000000000000000000</td>\n",
       "      <td>0</td>\n",
       "      <td>False</td>\n",
       "      <td>True</td>\n",
       "      <td>2.06662377067813807230</td>\n",
       "      <td>False</td>\n",
       "      <td>False</td>\n",
       "      <td>False</td>\n",
       "      <td>False</td>\n",
       "      <td>True</td>\n",
       "      <td>0</td>\n",
       "      <td>0.18811881188118811936</td>\n",
       "      <td>0.51249999999999995559</td>\n",
       "      <td>0.06490021801106825305</td>\n",
       "      <td>0.32129963898916968912</td>\n",
       "      <td>0.00000000000000000000</td>\n",
       "      <td>0.01917808219178082293</td>\n",
       "      <td>0.03333333333333333287</td>\n",
       "      <td>0.75000000000000000000</td>\n",
       "    </tr>\n",
       "    <tr>\n",
       "      <th>9754041</th>\n",
       "      <td>36.00000000000000000000</td>\n",
       "      <td>29.00000000000000000000</td>\n",
       "      <td>0</td>\n",
       "      <td>2</td>\n",
       "      <td>0</td>\n",
       "      <td>2</td>\n",
       "      <td>0</td>\n",
       "      <td>4.00000000000000000000</td>\n",
       "      <td>0</td>\n",
       "      <td>False</td>\n",
       "      <td>True</td>\n",
       "      <td>0.44301352221506762330</td>\n",
       "      <td>False</td>\n",
       "      <td>False</td>\n",
       "      <td>False</td>\n",
       "      <td>False</td>\n",
       "      <td>True</td>\n",
       "      <td>0</td>\n",
       "      <td>0.02970297029702970160</td>\n",
       "      <td>0.07321428571428571785</td>\n",
       "      <td>0.02314271339929565782</td>\n",
       "      <td>0.06209386281588447770</td>\n",
       "      <td>0.00000000000000000000</td>\n",
       "      <td>0.03561643835616438297</td>\n",
       "      <td>0.06190476190476190688</td>\n",
       "      <td>0.50000000000000000000</td>\n",
       "    </tr>\n",
       "    <tr>\n",
       "      <th>9754042</th>\n",
       "      <td>6.00000000000000000000</td>\n",
       "      <td>1,107.00000000000000000000</td>\n",
       "      <td>0</td>\n",
       "      <td>5</td>\n",
       "      <td>1</td>\n",
       "      <td>4</td>\n",
       "      <td>0</td>\n",
       "      <td>5.00000000000000000000</td>\n",
       "      <td>0</td>\n",
       "      <td>False</td>\n",
       "      <td>True</td>\n",
       "      <td>1.15269461077844326269</td>\n",
       "      <td>False</td>\n",
       "      <td>False</td>\n",
       "      <td>False</td>\n",
       "      <td>False</td>\n",
       "      <td>True</td>\n",
       "      <td>0</td>\n",
       "      <td>0.14851485148514850798</td>\n",
       "      <td>1.00000000000000000000</td>\n",
       "      <td>0.20811671977192688909</td>\n",
       "      <td>0.05559566787003610011</td>\n",
       "      <td>0.00000000000000000000</td>\n",
       "      <td>0.03835616438356164587</td>\n",
       "      <td>0.06666666666666666574</td>\n",
       "      <td>0.50000000000000000000</td>\n",
       "    </tr>\n",
       "  </tbody>\n",
       "</table>\n",
       "<p>9754043 rows × 26 columns</p>\n",
       "</div>"
      ],
      "text/plain": [
       "         branch_minutes_since_last_transaction            branch_trans_3m  \\\n",
       "0                      22.00000000000000000000 6,282.00000000000000000000   \n",
       "1                      86.00000000000000000000 3,463.00000000000000000000   \n",
       "2                      20.00000000000000000000 1,574.00000000000000000000   \n",
       "3                      25.00000000000000000000 3,300.00000000000000000000   \n",
       "4                      10.00000000000000000000 6,737.00000000000000000000   \n",
       "...                                        ...                        ...   \n",
       "9754038                12.00000000000000000000 2,451.00000000000000000000   \n",
       "9754039                 1.00000000000000000000 2,334.00000000000000000000   \n",
       "9754040                 2.00000000000000000000 5,762.00000000000000000000   \n",
       "9754041                36.00000000000000000000    29.00000000000000000000   \n",
       "9754042                 6.00000000000000000000 1,107.00000000000000000000   \n",
       "\n",
       "         branch_has_fraud  branch_trans_40min  branch_trans_10min  \\\n",
       "0                       7                   1                   0   \n",
       "1                       0                   0                   0   \n",
       "2                       0                   2                   0   \n",
       "3                       0                   3                   0   \n",
       "4                       2                   6                   0   \n",
       "...                   ...                 ...                 ...   \n",
       "9754038                 0                   1                   0   \n",
       "9754039                 0                   5                   1   \n",
       "9754040                 0                  10                   3   \n",
       "9754041                 0                   2                   0   \n",
       "9754042                 0                   5                   1   \n",
       "\n",
       "         cash_pick_up_40min  location_nro_fraud         sender_trans_3m  \\\n",
       "0                         1                   7 21.00000000000000000000   \n",
       "1                         0                   0  4.00000000000000000000   \n",
       "2                         2                   0 17.00000000000000000000   \n",
       "3                         2                   0  5.00000000000000000000   \n",
       "4                         5                   2 21.00000000000000000000   \n",
       "...                     ...                 ...                     ...   \n",
       "9754038                   0                   0  2.00000000000000000000   \n",
       "9754039                   4                   0 12.00000000000000000000   \n",
       "9754040                   7                   0 17.00000000000000000000   \n",
       "9754041                   2                   0  4.00000000000000000000   \n",
       "9754042                   4                   0  5.00000000000000000000   \n",
       "\n",
       "         sender_nro_fraud  01_isMexico  01_sender_branch_state  \\\n",
       "0                       0        False                    True   \n",
       "1                       0        False                    True   \n",
       "2                       0        False                    True   \n",
       "3                       0         True                    True   \n",
       "4                       0         True                    True   \n",
       "...                   ...          ...                     ...   \n",
       "9754038                 0         True                    True   \n",
       "9754039                 0         True                    True   \n",
       "9754040                 0        False                    True   \n",
       "9754041                 0        False                    True   \n",
       "9754042                 0        False                    True   \n",
       "\n",
       "             01_var_range_hist  01_branch_fraud  01_location_fraud  \\\n",
       "0       2.76481178795100035472             True               True   \n",
       "1       0.87209302325581394832            False              False   \n",
       "2       0.78782364490471201712            False              False   \n",
       "3       0.62111801242236019949            False              False   \n",
       "4       0.81417880762350502977             True               True   \n",
       "...                        ...              ...                ...   \n",
       "9754038 0.32772916461835938096            False              False   \n",
       "9754039 0.27459951719912883972            False              False   \n",
       "9754040 2.06662377067813807230            False              False   \n",
       "9754041 0.44301352221506762330            False              False   \n",
       "9754042 1.15269461077844326269            False              False   \n",
       "\n",
       "         01_sender_fraud  01_isCashPick  01_isBankDep  \\\n",
       "0                  False           True         False   \n",
       "1                  False           True         False   \n",
       "2                  False           True         False   \n",
       "3                  False           True         False   \n",
       "4                  False           True         False   \n",
       "...                  ...            ...           ...   \n",
       "9754038            False           True         False   \n",
       "9754039            False          False          True   \n",
       "9754040            False          False          True   \n",
       "9754041            False          False          True   \n",
       "9754042            False          False          True   \n",
       "\n",
       "         sender_days_to_last_transaction_more7m  \\\n",
       "0                                             0   \n",
       "1                                             0   \n",
       "2                                             0   \n",
       "3                                             0   \n",
       "4                                             0   \n",
       "...                                         ...   \n",
       "9754038                                       0   \n",
       "9754039                                       0   \n",
       "9754040                                       0   \n",
       "9754041                                       0   \n",
       "9754042                                       0   \n",
       "\n",
       "         01_receiver_transaction_count  01_sender_sending_days  \\\n",
       "0               0.19801980198019802915  1.00000000000000000000   \n",
       "1               0.06930693069306931298  0.22678571428571428492   \n",
       "2               0.27722772277227725191  0.62142857142857144126   \n",
       "3               0.10891089108910891048  0.03571428571428571230   \n",
       "4               1.00000000000000000000  1.00000000000000000000   \n",
       "...                                ...                     ...   \n",
       "9754038         0.08910891089108910479  0.68928571428571427937   \n",
       "9754039         0.07920792079207920888  0.29999999999999998890   \n",
       "9754040         0.18811881188118811936  0.51249999999999995559   \n",
       "9754041         0.02970297029702970160  0.07321428571428571785   \n",
       "9754042         0.14851485148514850798  1.00000000000000000000   \n",
       "\n",
       "         01_branch_working_days  01_net_amount_receiver  \\\n",
       "0        0.32735200402481973159  0.39711191335740070318   \n",
       "1        0.13281905081334899332  0.10830324909747292284   \n",
       "2        0.08452121415394935056  0.03682310469314079709   \n",
       "3        0.14103639107831628108  0.07220216606498194856   \n",
       "4        0.46050645648163673895  0.05054151624548736121   \n",
       "...                         ...                     ...   \n",
       "9754038  0.32399798759013920257  0.03610108303249097428   \n",
       "9754039  0.17709206775113198185  0.03610108303249097428   \n",
       "9754040  0.06490021801106825305  0.32129963898916968912   \n",
       "9754041  0.02314271339929565782  0.06209386281588447770   \n",
       "9754042  0.20811671977192688909  0.05559566787003610011   \n",
       "\n",
       "         01_sender_minutes_since_last_transaction_2days  \\\n",
       "0                                0.00000000000000000000   \n",
       "1                                0.00000000000000000000   \n",
       "2                                0.00000000000000000000   \n",
       "3                                0.00000000000000000000   \n",
       "4                                0.00000000000000000000   \n",
       "...                                                 ...   \n",
       "9754038                          0.00000000000000000000   \n",
       "9754039                          0.00034722222222222224   \n",
       "9754040                          0.00000000000000000000   \n",
       "9754041                          0.00000000000000000000   \n",
       "9754042                          0.00000000000000000000   \n",
       "\n",
       "         01_sender_days_to_last_transaction_365  \\\n",
       "0                        0.01095890410958904118   \n",
       "1                        0.02465753424657534179   \n",
       "2                        0.01095890410958904118   \n",
       "3                        0.01917808219178082293   \n",
       "4                        0.00821917808219178002   \n",
       "...                                         ...   \n",
       "9754038                  0.15616438356164383250   \n",
       "9754039                  0.00000000000000000000   \n",
       "9754040                  0.01917808219178082293   \n",
       "9754041                  0.03561643835616438297   \n",
       "9754042                  0.03835616438356164587   \n",
       "\n",
       "         01_sender_days_to_last_transaction_7m       01_hour_receiver  \n",
       "0                       0.01904761904761904934 0.79166666666666662966  \n",
       "1                       0.04285714285714285754 0.62500000000000000000  \n",
       "2                       0.01904761904761904934 0.75000000000000000000  \n",
       "3                       0.03333333333333333287 0.87500000000000000000  \n",
       "4                       0.01428571428571428527 0.95833333333333337034  \n",
       "...                                        ...                    ...  \n",
       "9754038                 0.27142857142857140795 0.62500000000000000000  \n",
       "9754039                 0.00000000000000000000 0.41666666666666668517  \n",
       "9754040                 0.03333333333333333287 0.75000000000000000000  \n",
       "9754041                 0.06190476190476190688 0.50000000000000000000  \n",
       "9754042                 0.06666666666666666574 0.50000000000000000000  \n",
       "\n",
       "[9754043 rows x 26 columns]"
      ]
     },
     "execution_count": 99,
     "metadata": {},
     "output_type": "execute_result"
    }
   ],
   "source": [
    "## Variables of model\n",
    "X_TESTEO = tes[var_input]\n",
    "X_TESTEO"
   ]
  },
  {
   "cell_type": "code",
   "execution_count": 100,
   "metadata": {
    "application/vnd.databricks.v1+cell": {
     "cellMetadata": {
      "byteLimit": 2048000,
      "rowLimit": 10000
     },
     "inputWidgets": {},
     "nuid": "72208179-c108-43d3-b300-69ffbdf680c3",
     "showTitle": false,
     "title": ""
    }
   },
   "outputs": [],
   "source": [
    "# Extrayendo la columna 'target' del DataFrame 'testeo' y creando un nuevo DataFrame 'Y_TESTEO'\n",
    "Y_TESTEO = pd.DataFrame(testeo['target'])\n",
    "\n",
    "# Predict test using trained model\n",
    "testeo_data_pred_rf = lgb_classifier.predict(X_TESTEO)\n",
    "\n",
    "# Get puntuations (predicted probailities) for the positive class (class 1)\n",
    "probab_rf = lgb_classifier.predict_proba(X_TESTEO)\n",
    "\n",
    "# Extract puntuations (probabilites) for positive class\n",
    "# Assumes that second column has probabilites for positive class\n",
    "score_rf = np.delete(probab_rf, np.s_[0], axis=1)\n"
   ]
  },
  {
   "cell_type": "code",
   "execution_count": 101,
   "metadata": {
    "application/vnd.databricks.v1+cell": {
     "cellMetadata": {
      "byteLimit": 2048000,
      "rowLimit": 10000
     },
     "inputWidgets": {},
     "nuid": "9b5268e2-53ec-4de6-b411-6a2bfbbf737d",
     "showTitle": false,
     "title": ""
    }
   },
   "outputs": [],
   "source": [
    "# Create a copy DataFrame 'Y_TESTEO' to preserve original data\n",
    "Y_TESTEO_c = Y_TESTEO.copy()\n",
    "\n",
    "# Set prediction and puntuationsof model for positive labels\n",
    "Y_TESTEO_c['preds_rf'] = testeo_data_pred_rf\n",
    "Y_TESTEO_c['score_rf'] = score_rf\n",
    "\n",
    "# Get classification\n",
    "Y_TESTEO_c['pred_corte'] = Y_TESTEO_c['score_rf']>corte"
   ]
  },
  {
   "cell_type": "code",
   "execution_count": 102,
   "metadata": {
    "tags": []
   },
   "outputs": [
    {
     "data": {
      "text/html": [
       "<div>\n",
       "<style scoped>\n",
       "    .dataframe tbody tr th:only-of-type {\n",
       "        vertical-align: middle;\n",
       "    }\n",
       "\n",
       "    .dataframe tbody tr th {\n",
       "        vertical-align: top;\n",
       "    }\n",
       "\n",
       "    .dataframe thead th {\n",
       "        text-align: right;\n",
       "    }\n",
       "</style>\n",
       "<table border=\"1\" class=\"dataframe\">\n",
       "  <thead>\n",
       "    <tr style=\"text-align: right;\">\n",
       "      <th></th>\n",
       "      <th>0</th>\n",
       "      <th>1</th>\n",
       "    </tr>\n",
       "  </thead>\n",
       "  <tbody>\n",
       "    <tr>\n",
       "      <th>0</th>\n",
       "      <td>9753877</td>\n",
       "      <td>2</td>\n",
       "    </tr>\n",
       "    <tr>\n",
       "      <th>1</th>\n",
       "      <td>150</td>\n",
       "      <td>14</td>\n",
       "    </tr>\n",
       "  </tbody>\n",
       "</table>\n",
       "</div>"
      ],
      "text/plain": [
       "         0   1\n",
       "0  9753877   2\n",
       "1      150  14"
      ]
     },
     "execution_count": 102,
     "metadata": {},
     "output_type": "execute_result"
    }
   ],
   "source": [
    "# Confusion matriz for predefined thershold \n",
    "pd.DataFrame(confusion_matrix(Y_TESTEO_c['target'], Y_TESTEO_c['preds_rf']))"
   ]
  },
  {
   "cell_type": "code",
   "execution_count": 103,
   "metadata": {},
   "outputs": [
    {
     "data": {
      "text/html": [
       "<div>\n",
       "<style scoped>\n",
       "    .dataframe tbody tr th:only-of-type {\n",
       "        vertical-align: middle;\n",
       "    }\n",
       "\n",
       "    .dataframe tbody tr th {\n",
       "        vertical-align: top;\n",
       "    }\n",
       "\n",
       "    .dataframe thead th {\n",
       "        text-align: right;\n",
       "    }\n",
       "</style>\n",
       "<table border=\"1\" class=\"dataframe\">\n",
       "  <thead>\n",
       "    <tr style=\"text-align: right;\">\n",
       "      <th></th>\n",
       "      <th>0</th>\n",
       "      <th>1</th>\n",
       "    </tr>\n",
       "  </thead>\n",
       "  <tbody>\n",
       "    <tr>\n",
       "      <th>0</th>\n",
       "      <td>9724362</td>\n",
       "      <td>29517</td>\n",
       "    </tr>\n",
       "    <tr>\n",
       "      <th>1</th>\n",
       "      <td>45</td>\n",
       "      <td>119</td>\n",
       "    </tr>\n",
       "  </tbody>\n",
       "</table>\n",
       "</div>"
      ],
      "text/plain": [
       "         0      1\n",
       "0  9724362  29517\n",
       "1       45    119"
      ]
     },
     "execution_count": 103,
     "metadata": {},
     "output_type": "execute_result"
    }
   ],
   "source": [
    "# Confusion matriz for selected thershold \n",
    "Y_TESTEO_c['pred_corte'] = Y_TESTEO_c['score_rf']>corte\n",
    "pd.DataFrame(confusion_matrix(Y_TESTEO_c['target'], Y_TESTEO_c['pred_corte']))"
   ]
  },
  {
   "cell_type": "code",
   "execution_count": 104,
   "metadata": {},
   "outputs": [
    {
     "name": "stdout",
     "output_type": "stream",
     "text": [
      "FRAUD CAPTURE .04%:\n",
      "0.7195121951219512\n"
     ]
    }
   ],
   "source": [
    "# Divide into tiles and compute cature al 0.04% for train/validation dataset\n",
    "percentiles = pd.qcut(Y_TESTEO_c['score_rf'], q=1000, duplicates='drop')\n",
    "percentile_label = {p: l for l, p in enumerate(sorted(percentiles.unique(), reverse=True), start=1)}\n",
    "\n",
    "percentiles = percentiles.map(percentile_label)\n",
    "Y_TESTEO_c['FRAUD_DECILE'] = np.nan\n",
    "Y_TESTEO_c['FRAUD_DECILE'] = percentiles\n",
    "Y_TESTEO_c['FRAUD_DECILE'] = Y_TESTEO_c['FRAUD_DECILE'].astype('Int32')\n",
    "print('FRAUD CAPTURE .04%:')\n",
    "print(sum(Y_TESTEO_c[Y_TESTEO_c['FRAUD_DECILE'] < 4]['target']) / sum(Y_TESTEO_c['target']))\n",
    "#Y_TESTEO_c.to_csv(r'./SCORES/primera_prueba.csv')"
   ]
  },
  {
   "cell_type": "code",
   "execution_count": 105,
   "metadata": {
    "application/vnd.databricks.v1+cell": {
     "cellMetadata": {
      "byteLimit": 2048000,
      "rowLimit": 10000
     },
     "inputWidgets": {},
     "nuid": "5e384a20-995d-454d-a88c-8d7acca12cca",
     "showTitle": false,
     "title": ""
    }
   },
   "outputs": [],
   "source": [
    "DECILES = pd.crosstab(Y_TESTEO_c['FRAUD_DECILE'], Y_TESTEO_c['target'])"
   ]
  },
  {
   "cell_type": "code",
   "execution_count": 106,
   "metadata": {
    "application/vnd.databricks.v1+cell": {
     "cellMetadata": {
      "byteLimit": 2048000,
      "rowLimit": 10000
     },
     "inputWidgets": {},
     "nuid": "6a22fdbf-71db-47c3-86e7-dcfea4708f07",
     "showTitle": false,
     "title": ""
    }
   },
   "outputs": [
    {
     "data": {
      "text/html": [
       "<div>\n",
       "<style scoped>\n",
       "    .dataframe tbody tr th:only-of-type {\n",
       "        vertical-align: middle;\n",
       "    }\n",
       "\n",
       "    .dataframe tbody tr th {\n",
       "        vertical-align: top;\n",
       "    }\n",
       "\n",
       "    .dataframe thead th {\n",
       "        text-align: right;\n",
       "    }\n",
       "</style>\n",
       "<table border=\"1\" class=\"dataframe\">\n",
       "  <thead>\n",
       "    <tr style=\"text-align: right;\">\n",
       "      <th>target</th>\n",
       "      <th>False</th>\n",
       "      <th>True</th>\n",
       "    </tr>\n",
       "    <tr>\n",
       "      <th>FRAUD_DECILE</th>\n",
       "      <th></th>\n",
       "      <th></th>\n",
       "    </tr>\n",
       "  </thead>\n",
       "  <tbody>\n",
       "    <tr>\n",
       "      <th>1</th>\n",
       "      <td>9657</td>\n",
       "      <td>98</td>\n",
       "    </tr>\n",
       "    <tr>\n",
       "      <th>2</th>\n",
       "      <td>9739</td>\n",
       "      <td>15</td>\n",
       "    </tr>\n",
       "    <tr>\n",
       "      <th>3</th>\n",
       "      <td>9749</td>\n",
       "      <td>5</td>\n",
       "    </tr>\n",
       "    <tr>\n",
       "      <th>4</th>\n",
       "      <td>9748</td>\n",
       "      <td>6</td>\n",
       "    </tr>\n",
       "    <tr>\n",
       "      <th>5</th>\n",
       "      <td>9746</td>\n",
       "      <td>8</td>\n",
       "    </tr>\n",
       "    <tr>\n",
       "      <th>...</th>\n",
       "      <td>...</td>\n",
       "      <td>...</td>\n",
       "    </tr>\n",
       "    <tr>\n",
       "      <th>996</th>\n",
       "      <td>9754</td>\n",
       "      <td>0</td>\n",
       "    </tr>\n",
       "    <tr>\n",
       "      <th>997</th>\n",
       "      <td>9754</td>\n",
       "      <td>0</td>\n",
       "    </tr>\n",
       "    <tr>\n",
       "      <th>998</th>\n",
       "      <td>9754</td>\n",
       "      <td>0</td>\n",
       "    </tr>\n",
       "    <tr>\n",
       "      <th>999</th>\n",
       "      <td>9754</td>\n",
       "      <td>0</td>\n",
       "    </tr>\n",
       "    <tr>\n",
       "      <th>1000</th>\n",
       "      <td>9755</td>\n",
       "      <td>0</td>\n",
       "    </tr>\n",
       "  </tbody>\n",
       "</table>\n",
       "<p>1000 rows × 2 columns</p>\n",
       "</div>"
      ],
      "text/plain": [
       "target        False  True \n",
       "FRAUD_DECILE              \n",
       "1              9657     98\n",
       "2              9739     15\n",
       "3              9749      5\n",
       "4              9748      6\n",
       "5              9746      8\n",
       "...             ...    ...\n",
       "996            9754      0\n",
       "997            9754      0\n",
       "998            9754      0\n",
       "999            9754      0\n",
       "1000           9755      0\n",
       "\n",
       "[1000 rows x 2 columns]"
      ]
     },
     "execution_count": 106,
     "metadata": {},
     "output_type": "execute_result"
    }
   ],
   "source": [
    "DECILES"
   ]
  },
  {
   "cell_type": "code",
   "execution_count": 107,
   "metadata": {
    "tags": []
   },
   "outputs": [
    {
     "data": {
      "text/html": [
       "<div>\n",
       "<style scoped>\n",
       "    .dataframe tbody tr th:only-of-type {\n",
       "        vertical-align: middle;\n",
       "    }\n",
       "\n",
       "    .dataframe tbody tr th {\n",
       "        vertical-align: top;\n",
       "    }\n",
       "\n",
       "    .dataframe thead tr th {\n",
       "        text-align: left;\n",
       "    }\n",
       "\n",
       "    .dataframe thead tr:last-of-type th {\n",
       "        text-align: right;\n",
       "    }\n",
       "</style>\n",
       "<table border=\"1\" class=\"dataframe\">\n",
       "  <thead>\n",
       "    <tr>\n",
       "      <th></th>\n",
       "      <th colspan=\"2\" halign=\"left\">score_rf</th>\n",
       "    </tr>\n",
       "    <tr>\n",
       "      <th></th>\n",
       "      <th>min</th>\n",
       "      <th>max</th>\n",
       "    </tr>\n",
       "    <tr>\n",
       "      <th>FRAUD_DECILE</th>\n",
       "      <th></th>\n",
       "      <th></th>\n",
       "    </tr>\n",
       "  </thead>\n",
       "  <tbody>\n",
       "    <tr>\n",
       "      <th>1</th>\n",
       "      <td>0.00000103064645090860</td>\n",
       "      <td>0.99998186127055199712</td>\n",
       "    </tr>\n",
       "    <tr>\n",
       "      <th>2</th>\n",
       "      <td>0.00000030709741324569</td>\n",
       "      <td>0.00000103055844204780</td>\n",
       "    </tr>\n",
       "    <tr>\n",
       "      <th>3</th>\n",
       "      <td>0.00000014751749447303</td>\n",
       "      <td>0.00000030707195457855</td>\n",
       "    </tr>\n",
       "    <tr>\n",
       "      <th>4</th>\n",
       "      <td>0.00000008725442521782</td>\n",
       "      <td>0.00000014751242106705</td>\n",
       "    </tr>\n",
       "    <tr>\n",
       "      <th>5</th>\n",
       "      <td>0.00000005727304380981</td>\n",
       "      <td>0.00000008725086475443</td>\n",
       "    </tr>\n",
       "    <tr>\n",
       "      <th>...</th>\n",
       "      <td>...</td>\n",
       "      <td>...</td>\n",
       "    </tr>\n",
       "    <tr>\n",
       "      <th>996</th>\n",
       "      <td>0.00000000000006984531</td>\n",
       "      <td>0.00000000000007791355</td>\n",
       "    </tr>\n",
       "    <tr>\n",
       "      <th>997</th>\n",
       "      <td>0.00000000000006095902</td>\n",
       "      <td>0.00000000000006984363</td>\n",
       "    </tr>\n",
       "    <tr>\n",
       "      <th>998</th>\n",
       "      <td>0.00000000000005076709</td>\n",
       "      <td>0.00000000000006095590</td>\n",
       "    </tr>\n",
       "    <tr>\n",
       "      <th>999</th>\n",
       "      <td>0.00000000000003804645</td>\n",
       "      <td>0.00000000000005076621</td>\n",
       "    </tr>\n",
       "    <tr>\n",
       "      <th>1000</th>\n",
       "      <td>0.00000000000000262998</td>\n",
       "      <td>0.00000000000003804425</td>\n",
       "    </tr>\n",
       "  </tbody>\n",
       "</table>\n",
       "<p>1000 rows × 2 columns</p>\n",
       "</div>"
      ],
      "text/plain": [
       "                           score_rf                       \n",
       "                                min                    max\n",
       "FRAUD_DECILE                                              \n",
       "1            0.00000103064645090860 0.99998186127055199712\n",
       "2            0.00000030709741324569 0.00000103055844204780\n",
       "3            0.00000014751749447303 0.00000030707195457855\n",
       "4            0.00000008725442521782 0.00000014751242106705\n",
       "5            0.00000005727304380981 0.00000008725086475443\n",
       "...                             ...                    ...\n",
       "996          0.00000000000006984531 0.00000000000007791355\n",
       "997          0.00000000000006095902 0.00000000000006984363\n",
       "998          0.00000000000005076709 0.00000000000006095590\n",
       "999          0.00000000000003804645 0.00000000000005076621\n",
       "1000         0.00000000000000262998 0.00000000000003804425\n",
       "\n",
       "[1000 rows x 2 columns]"
      ]
     },
     "execution_count": 107,
     "metadata": {},
     "output_type": "execute_result"
    }
   ],
   "source": [
    "Y_TESTEO_c[['score_rf','FRAUD_DECILE']].groupby(['FRAUD_DECILE']).agg({'score_rf': ['min', 'max']}) "
   ]
  },
  {
   "cell_type": "code",
   "execution_count": 108,
   "metadata": {
    "application/vnd.databricks.v1+cell": {
     "cellMetadata": {
      "byteLimit": 2048000,
      "rowLimit": 10000
     },
     "inputWidgets": {},
     "nuid": "a0acf01d-13b6-4a07-9fb1-93c341c272bc",
     "showTitle": false,
     "title": ""
    },
    "tags": []
   },
   "outputs": [
    {
     "data": {
      "text/plain": [
       "array([<Axes: title={'center': 'False'}, xlabel='FRAUD_DECILE'>,\n",
       "       <Axes: title={'center': 'True'}, xlabel='FRAUD_DECILE'>],\n",
       "      dtype=object)"
      ]
     },
     "execution_count": 108,
     "metadata": {},
     "output_type": "execute_result"
    },
    {
     "data": {
      "image/png": "[encoded data removed]",
      "text/plain": [
       "<Figure size 640x480 with 2 Axes>"
      ]
     },
     "metadata": {},
     "output_type": "display_data"
    }
   ],
   "source": [
    "DECILES.plot.bar(stacked=False, rot=0,subplots=True)"
   ]
  }
 ],
 "metadata": {
  "application/vnd.databricks.v1+notebook": {
   "dashboards": [],
   "language": "python",
   "notebookMetadata": {
    "pythonIndentUnit": 4
   },
   "notebookName": "03.3-Train MX U_60T(lgbm)",
   "widgets": {}
  },
  "availableInstances": [
   {
    "_defaultOrder": 0,
    "_isFastLaunch": true,
    "category": "General purpose",
    "gpuNum": 0,
    "hideHardwareSpecs": false,
    "memoryGiB": 4,
    "name": "ml.t3.medium",
    "vcpuNum": 2
   },
   {
    "_defaultOrder": 1,
    "_isFastLaunch": false,
    "category": "General purpose",
    "gpuNum": 0,
    "hideHardwareSpecs": false,
    "memoryGiB": 8,
    "name": "ml.t3.large",
    "vcpuNum": 2
   },
   {
    "_defaultOrder": 2,
    "_isFastLaunch": false,
    "category": "General purpose",
    "gpuNum": 0,
    "hideHardwareSpecs": false,
    "memoryGiB": 16,
    "name": "ml.t3.xlarge",
    "vcpuNum": 4
   },
   {
    "_defaultOrder": 3,
    "_isFastLaunch": false,
    "category": "General purpose",
    "gpuNum": 0,
    "hideHardwareSpecs": false,
    "memoryGiB": 32,
    "name": "ml.t3.2xlarge",
    "vcpuNum": 8
   },
   {
    "_defaultOrder": 4,
    "_isFastLaunch": true,
    "category": "General purpose",
    "gpuNum": 0,
    "hideHardwareSpecs": false,
    "memoryGiB": 8,
    "name": "ml.m5.large",
    "vcpuNum": 2
   },
   {
    "_defaultOrder": 5,
    "_isFastLaunch": false,
    "category": "General purpose",
    "gpuNum": 0,
    "hideHardwareSpecs": false,
    "memoryGiB": 16,
    "name": "ml.m5.xlarge",
    "vcpuNum": 4
   },
   {
    "_defaultOrder": 6,
    "_isFastLaunch": false,
    "category": "General purpose",
    "gpuNum": 0,
    "hideHardwareSpecs": false,
    "memoryGiB": 32,
    "name": "ml.m5.2xlarge",
    "vcpuNum": 8
   },
   {
    "_defaultOrder": 7,
    "_isFastLaunch": false,
    "category": "General purpose",
    "gpuNum": 0,
    "hideHardwareSpecs": false,
    "memoryGiB": 64,
    "name": "ml.m5.4xlarge",
    "vcpuNum": 16
   },
   {
    "_defaultOrder": 8,
    "_isFastLaunch": false,
    "category": "General purpose",
    "gpuNum": 0,
    "hideHardwareSpecs": false,
    "memoryGiB": 128,
    "name": "ml.m5.8xlarge",
    "vcpuNum": 32
   },
   {
    "_defaultOrder": 9,
    "_isFastLaunch": false,
    "category": "General purpose",
    "gpuNum": 0,
    "hideHardwareSpecs": false,
    "memoryGiB": 192,
    "name": "ml.m5.12xlarge",
    "vcpuNum": 48
   },
   {
    "_defaultOrder": 10,
    "_isFastLaunch": false,
    "category": "General purpose",
    "gpuNum": 0,
    "hideHardwareSpecs": false,
    "memoryGiB": 256,
    "name": "ml.m5.16xlarge",
    "vcpuNum": 64
   },
   {
    "_defaultOrder": 11,
    "_isFastLaunch": false,
    "category": "General purpose",
    "gpuNum": 0,
    "hideHardwareSpecs": false,
    "memoryGiB": 384,
    "name": "ml.m5.24xlarge",
    "vcpuNum": 96
   },
   {
    "_defaultOrder": 12,
    "_isFastLaunch": false,
    "category": "General purpose",
    "gpuNum": 0,
    "hideHardwareSpecs": false,
    "memoryGiB": 8,
    "name": "ml.m5d.large",
    "vcpuNum": 2
   },
   {
    "_defaultOrder": 13,
    "_isFastLaunch": false,
    "category": "General purpose",
    "gpuNum": 0,
    "hideHardwareSpecs": false,
    "memoryGiB": 16,
    "name": "ml.m5d.xlarge",
    "vcpuNum": 4
   },
   {
    "_defaultOrder": 14,
    "_isFastLaunch": false,
    "category": "General purpose",
    "gpuNum": 0,
    "hideHardwareSpecs": false,
    "memoryGiB": 32,
    "name": "ml.m5d.2xlarge",
    "vcpuNum": 8
   },
   {
    "_defaultOrder": 15,
    "_isFastLaunch": false,
    "category": "General purpose",
    "gpuNum": 0,
    "hideHardwareSpecs": false,
    "memoryGiB": 64,
    "name": "ml.m5d.4xlarge",
    "vcpuNum": 16
   },
   {
    "_defaultOrder": 16,
    "_isFastLaunch": false,
    "category": "General purpose",
    "gpuNum": 0,
    "hideHardwareSpecs": false,
    "memoryGiB": 128,
    "name": "ml.m5d.8xlarge",
    "vcpuNum": 32
   },
   {
    "_defaultOrder": 17,
    "_isFastLaunch": false,
    "category": "General purpose",
    "gpuNum": 0,
    "hideHardwareSpecs": false,
    "memoryGiB": 192,
    "name": "ml.m5d.12xlarge",
    "vcpuNum": 48
   },
   {
    "_defaultOrder": 18,
    "_isFastLaunch": false,
    "category": "General purpose",
    "gpuNum": 0,
    "hideHardwareSpecs": false,
    "memoryGiB": 256,
    "name": "ml.m5d.16xlarge",
    "vcpuNum": 64
   },
   {
    "_defaultOrder": 19,
    "_isFastLaunch": false,
    "category": "General purpose",
    "gpuNum": 0,
    "hideHardwareSpecs": false,
    "memoryGiB": 384,
    "name": "ml.m5d.24xlarge",
    "vcpuNum": 96
   },
   {
    "_defaultOrder": 20,
    "_isFastLaunch": false,
    "category": "General purpose",
    "gpuNum": 0,
    "hideHardwareSpecs": true,
    "memoryGiB": 0,
    "name": "ml.geospatial.interactive",
    "supportedImageNames": [
     "sagemaker-geospatial-v1-0"
    ],
    "vcpuNum": 0
   },
   {
    "_defaultOrder": 21,
    "_isFastLaunch": true,
    "category": "Compute optimized",
    "gpuNum": 0,
    "hideHardwareSpecs": false,
    "memoryGiB": 4,
    "name": "ml.c5.large",
    "vcpuNum": 2
   },
   {
    "_defaultOrder": 22,
    "_isFastLaunch": false,
    "category": "Compute optimized",
    "gpuNum": 0,
    "hideHardwareSpecs": false,
    "memoryGiB": 8,
    "name": "ml.c5.xlarge",
    "vcpuNum": 4
   },
   {
    "_defaultOrder": 23,
    "_isFastLaunch": false,
    "category": "Compute optimized",
    "gpuNum": 0,
    "hideHardwareSpecs": false,
    "memoryGiB": 16,
    "name": "ml.c5.2xlarge",
    "vcpuNum": 8
   },
   {
    "_defaultOrder": 24,
    "_isFastLaunch": false,
    "category": "Compute optimized",
    "gpuNum": 0,
    "hideHardwareSpecs": false,
    "memoryGiB": 32,
    "name": "ml.c5.4xlarge",
    "vcpuNum": 16
   },
   {
    "_defaultOrder": 25,
    "_isFastLaunch": false,
    "category": "Compute optimized",
    "gpuNum": 0,
    "hideHardwareSpecs": false,
    "memoryGiB": 72,
    "name": "ml.c5.9xlarge",
    "vcpuNum": 36
   },
   {
    "_defaultOrder": 26,
    "_isFastLaunch": false,
    "category": "Compute optimized",
    "gpuNum": 0,
    "hideHardwareSpecs": false,
    "memoryGiB": 96,
    "name": "ml.c5.12xlarge",
    "vcpuNum": 48
   },
   {
    "_defaultOrder": 27,
    "_isFastLaunch": false,
    "category": "Compute optimized",
    "gpuNum": 0,
    "hideHardwareSpecs": false,
    "memoryGiB": 144,
    "name": "ml.c5.18xlarge",
    "vcpuNum": 72
   },
   {
    "_defaultOrder": 28,
    "_isFastLaunch": false,
    "category": "Compute optimized",
    "gpuNum": 0,
    "hideHardwareSpecs": false,
    "memoryGiB": 192,
    "name": "ml.c5.24xlarge",
    "vcpuNum": 96
   },
   {
    "_defaultOrder": 29,
    "_isFastLaunch": true,
    "category": "Accelerated computing",
    "gpuNum": 1,
    "hideHardwareSpecs": false,
    "memoryGiB": 16,
    "name": "ml.g4dn.xlarge",
    "vcpuNum": 4
   },
   {
    "_defaultOrder": 30,
    "_isFastLaunch": false,
    "category": "Accelerated computing",
    "gpuNum": 1,
    "hideHardwareSpecs": false,
    "memoryGiB": 32,
    "name": "ml.g4dn.2xlarge",
    "vcpuNum": 8
   },
   {
    "_defaultOrder": 31,
    "_isFastLaunch": false,
    "category": "Accelerated computing",
    "gpuNum": 1,
    "hideHardwareSpecs": false,
    "memoryGiB": 64,
    "name": "ml.g4dn.4xlarge",
    "vcpuNum": 16
   },
   {
    "_defaultOrder": 32,
    "_isFastLaunch": false,
    "category": "Accelerated computing",
    "gpuNum": 1,
    "hideHardwareSpecs": false,
    "memoryGiB": 128,
    "name": "ml.g4dn.8xlarge",
    "vcpuNum": 32
   },
   {
    "_defaultOrder": 33,
    "_isFastLaunch": false,
    "category": "Accelerated computing",
    "gpuNum": 4,
    "hideHardwareSpecs": false,
    "memoryGiB": 192,
    "name": "ml.g4dn.12xlarge",
    "vcpuNum": 48
   },
   {
    "_defaultOrder": 34,
    "_isFastLaunch": false,
    "category": "Accelerated computing",
    "gpuNum": 1,
    "hideHardwareSpecs": false,
    "memoryGiB": 256,
    "name": "ml.g4dn.16xlarge",
    "vcpuNum": 64
   },
   {
    "_defaultOrder": 35,
    "_isFastLaunch": false,
    "category": "Accelerated computing",
    "gpuNum": 1,
    "hideHardwareSpecs": false,
    "memoryGiB": 61,
    "name": "ml.p3.2xlarge",
    "vcpuNum": 8
   },
   {
    "_defaultOrder": 36,
    "_isFastLaunch": false,
    "category": "Accelerated computing",
    "gpuNum": 4,
    "hideHardwareSpecs": false,
    "memoryGiB": 244,
    "name": "ml.p3.8xlarge",
    "vcpuNum": 32
   },
   {
    "_defaultOrder": 37,
    "_isFastLaunch": false,
    "category": "Accelerated computing",
    "gpuNum": 8,
    "hideHardwareSpecs": false,
    "memoryGiB": 488,
    "name": "ml.p3.16xlarge",
    "vcpuNum": 64
   },
   {
    "_defaultOrder": 38,
    "_isFastLaunch": false,
    "category": "Accelerated computing",
    "gpuNum": 8,
    "hideHardwareSpecs": false,
    "memoryGiB": 768,
    "name": "ml.p3dn.24xlarge",
    "vcpuNum": 96
   },
   {
    "_defaultOrder": 39,
    "_isFastLaunch": false,
    "category": "Memory Optimized",
    "gpuNum": 0,
    "hideHardwareSpecs": false,
    "memoryGiB": 16,
    "name": "ml.r5.large",
    "vcpuNum": 2
   },
   {
    "_defaultOrder": 40,
    "_isFastLaunch": false,
    "category": "Memory Optimized",
    "gpuNum": 0,
    "hideHardwareSpecs": false,
    "memoryGiB": 32,
    "name": "ml.r5.xlarge",
    "vcpuNum": 4
   },
   {
    "_defaultOrder": 41,
    "_isFastLaunch": false,
    "category": "Memory Optimized",
    "gpuNum": 0,
    "hideHardwareSpecs": false,
    "memoryGiB": 64,
    "name": "ml.r5.2xlarge",
    "vcpuNum": 8
   },
   {
    "_defaultOrder": 42,
    "_isFastLaunch": false,
    "category": "Memory Optimized",
    "gpuNum": 0,
    "hideHardwareSpecs": false,
    "memoryGiB": 128,
    "name": "ml.r5.4xlarge",
    "vcpuNum": 16
   },
   {
    "_defaultOrder": 43,
    "_isFastLaunch": false,
    "category": "Memory Optimized",
    "gpuNum": 0,
    "hideHardwareSpecs": false,
    "memoryGiB": 256,
    "name": "ml.r5.8xlarge",
    "vcpuNum": 32
   },
   {
    "_defaultOrder": 44,
    "_isFastLaunch": false,
    "category": "Memory Optimized",
    "gpuNum": 0,
    "hideHardwareSpecs": false,
    "memoryGiB": 384,
    "name": "ml.r5.12xlarge",
    "vcpuNum": 48
   },
   {
    "_defaultOrder": 45,
    "_isFastLaunch": false,
    "category": "Memory Optimized",
    "gpuNum": 0,
    "hideHardwareSpecs": false,
    "memoryGiB": 512,
    "name": "ml.r5.16xlarge",
    "vcpuNum": 64
   },
   {
    "_defaultOrder": 46,
    "_isFastLaunch": false,
    "category": "Memory Optimized",
    "gpuNum": 0,
    "hideHardwareSpecs": false,
    "memoryGiB": 768,
    "name": "ml.r5.24xlarge",
    "vcpuNum": 96
   },
   {
    "_defaultOrder": 47,
    "_isFastLaunch": false,
    "category": "Accelerated computing",
    "gpuNum": 1,
    "hideHardwareSpecs": false,
    "memoryGiB": 16,
    "name": "ml.g5.xlarge",
    "vcpuNum": 4
   },
   {
    "_defaultOrder": 48,
    "_isFastLaunch": false,
    "category": "Accelerated computing",
    "gpuNum": 1,
    "hideHardwareSpecs": false,
    "memoryGiB": 32,
    "name": "ml.g5.2xlarge",
    "vcpuNum": 8
   },
   {
    "_defaultOrder": 49,
    "_isFastLaunch": false,
    "category": "Accelerated computing",
    "gpuNum": 1,
    "hideHardwareSpecs": false,
    "memoryGiB": 64,
    "name": "ml.g5.4xlarge",
    "vcpuNum": 16
   },
   {
    "_defaultOrder": 50,
    "_isFastLaunch": false,
    "category": "Accelerated computing",
    "gpuNum": 1,
    "hideHardwareSpecs": false,
    "memoryGiB": 128,
    "name": "ml.g5.8xlarge",
    "vcpuNum": 32
   },
   {
    "_defaultOrder": 51,
    "_isFastLaunch": false,
    "category": "Accelerated computing",
    "gpuNum": 1,
    "hideHardwareSpecs": false,
    "memoryGiB": 256,
    "name": "ml.g5.16xlarge",
    "vcpuNum": 64
   },
   {
    "_defaultOrder": 52,
    "_isFastLaunch": false,
    "category": "Accelerated computing",
    "gpuNum": 4,
    "hideHardwareSpecs": false,
    "memoryGiB": 192,
    "name": "ml.g5.12xlarge",
    "vcpuNum": 48
   },
   {
    "_defaultOrder": 53,
    "_isFastLaunch": false,
    "category": "Accelerated computing",
    "gpuNum": 4,
    "hideHardwareSpecs": false,
    "memoryGiB": 384,
    "name": "ml.g5.24xlarge",
    "vcpuNum": 96
   },
   {
    "_defaultOrder": 54,
    "_isFastLaunch": false,
    "category": "Accelerated computing",
    "gpuNum": 8,
    "hideHardwareSpecs": false,
    "memoryGiB": 768,
    "name": "ml.g5.48xlarge",
    "vcpuNum": 192
   },
   {
    "_defaultOrder": 55,
    "_isFastLaunch": false,
    "category": "Accelerated computing",
    "gpuNum": 8,
    "hideHardwareSpecs": false,
    "memoryGiB": 1152,
    "name": "ml.p4d.24xlarge",
    "vcpuNum": 96
   },
   {
    "_defaultOrder": 56,
    "_isFastLaunch": false,
    "category": "Accelerated computing",
    "gpuNum": 8,
    "hideHardwareSpecs": false,
    "memoryGiB": 1152,
    "name": "ml.p4de.24xlarge",
    "vcpuNum": 96
   },
   {
    "_defaultOrder": 57,
    "_isFastLaunch": false,
    "category": "Accelerated computing",
    "gpuNum": 0,
    "hideHardwareSpecs": false,
    "memoryGiB": 32,
    "name": "ml.trn1.2xlarge",
    "vcpuNum": 8
   },
   {
    "_defaultOrder": 58,
    "_isFastLaunch": false,
    "category": "Accelerated computing",
    "gpuNum": 0,
    "hideHardwareSpecs": false,
    "memoryGiB": 512,
    "name": "ml.trn1.32xlarge",
    "vcpuNum": 128
   },
   {
    "_defaultOrder": 59,
    "_isFastLaunch": false,
    "category": "Accelerated computing",
    "gpuNum": 0,
    "hideHardwareSpecs": false,
    "memoryGiB": 512,
    "name": "ml.trn1n.32xlarge",
    "vcpuNum": 128
   }
  ],
  "instance_type": "ml.m5.large",
  "kernelspec": {
   "display_name": "conda_python3",
   "language": "python",
   "name": "conda_python3"
  },
  "language_info": {
   "codemirror_mode": {
    "name": "ipython",
    "version": 3
   },
   "file_extension": ".py",
   "mimetype": "text/x-python",
   "name": "python",
   "nbconvert_exporter": "python",
   "pygments_lexer": "ipython3",
   "version": "3.10.14"
  }
 },
 "nbformat": 4,
 "nbformat_minor": 4
}
