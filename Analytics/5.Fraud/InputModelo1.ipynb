{
 "cells": [
  {
   "cell_type": "code",
   "execution_count": 2,
   "id": "2850b1c7-4456-484e-a7ff-df70a0c612c6",
   "metadata": {},
   "outputs": [
    {
     "name": "stdout",
     "output_type": "stream",
     "text": [
      "Requirement already satisfied: pip in /opt/conda/lib/python3.10/site-packages (23.3.1)\n",
      "Collecting pip\n",
      "  Using cached pip-24.0-py3-none-any.whl.metadata (3.6 kB)\n",
      "Using cached pip-24.0-py3-none-any.whl (2.1 MB)\n",
      "Installing collected packages: pip\n",
      "  Attempting uninstall: pip\n",
      "    Found existing installation: pip 23.3.1\n",
      "    Uninstalling pip-23.3.1:\n",
      "      Successfully uninstalled pip-23.3.1\n",
      "Successfully installed pip-24.0\n",
      "\u001b[33mWARNING: Running pip as the 'root' user can result in broken permissions and conflicting behaviour with the system package manager. It is recommended to use a virtual environment instead: https://pip.pypa.io/warnings/venv\u001b[0m\u001b[33m\n",
      "\u001b[0mCollecting pyathena\n",
      "  Using cached pyathena-3.3.0-py3-none-any.whl.metadata (86 kB)\n",
      "Requirement already satisfied: boto3>=1.26.4 in /opt/conda/lib/python3.10/site-packages (from pyathena) (1.33.9)\n",
      "Requirement already satisfied: botocore>=1.29.4 in /opt/conda/lib/python3.10/site-packages (from pyathena) (1.33.9)\n",
      "Requirement already satisfied: fsspec in /opt/conda/lib/python3.10/site-packages (from pyathena) (2022.7.1)\n",
      "Requirement already satisfied: tenacity>=4.1.0 in /opt/conda/lib/python3.10/site-packages (from pyathena) (8.0.1)\n",
      "Requirement already satisfied: jmespath<2.0.0,>=0.7.1 in /opt/conda/lib/python3.10/site-packages (from boto3>=1.26.4->pyathena) (0.10.0)\n",
      "Requirement already satisfied: s3transfer<0.9.0,>=0.8.2 in /opt/conda/lib/python3.10/site-packages (from boto3>=1.26.4->pyathena) (0.8.2)\n",
      "Requirement already satisfied: python-dateutil<3.0.0,>=2.1 in /opt/conda/lib/python3.10/site-packages (from botocore>=1.29.4->pyathena) (2.8.2)\n",
      "Collecting urllib3<2.1,>=1.25.4 (from botocore>=1.29.4->pyathena)\n",
      "  Using cached urllib3-2.0.7-py3-none-any.whl.metadata (6.6 kB)\n",
      "Requirement already satisfied: six>=1.5 in /opt/conda/lib/python3.10/site-packages (from python-dateutil<3.0.0,>=2.1->botocore>=1.29.4->pyathena) (1.16.0)\n",
      "Using cached pyathena-3.3.0-py3-none-any.whl (80 kB)\n",
      "Using cached urllib3-2.0.7-py3-none-any.whl (124 kB)\n",
      "Installing collected packages: urllib3, pyathena\n",
      "  Attempting uninstall: urllib3\n",
      "    Found existing installation: urllib3 2.1.0\n",
      "    Uninstalling urllib3-2.1.0:\n",
      "      Successfully uninstalled urllib3-2.1.0\n",
      "\u001b[31mERROR: pip's dependency resolver does not currently take into account all the packages that are installed. This behaviour is the source of the following dependency conflicts.\n",
      "distributed 2022.7.0 requires tornado<6.2,>=6.0.3, but you have tornado 6.4 which is incompatible.\n",
      "sagemaker 2.199.0 requires urllib3<1.27, but you have urllib3 2.0.7 which is incompatible.\u001b[0m\u001b[31m\n",
      "\u001b[0mSuccessfully installed pyathena-3.3.0 urllib3-2.0.7\n",
      "\u001b[33mWARNING: Running pip as the 'root' user can result in broken permissions and conflicting behaviour with the system package manager. It is recommended to use a virtual environment instead: https://pip.pypa.io/warnings/venv\u001b[0m\u001b[33m\n",
      "\u001b[0m"
     ]
    }
   ],
   "source": [
    "!pip install --upgrade pip\n",
    "!pip install pyathena"
   ]
  },
  {
   "cell_type": "code",
   "execution_count": 3,
   "id": "c6a1f253-a5cd-45f2-9375-0e78d9f03d36",
   "metadata": {},
   "outputs": [
    {
     "name": "stdout",
     "output_type": "stream",
     "text": [
      "Collecting seaborn==0.12.2\n",
      "  Using cached seaborn-0.12.2-py3-none-any.whl.metadata (5.4 kB)\n",
      "Requirement already satisfied: numpy!=1.24.0,>=1.17 in /opt/conda/lib/python3.10/site-packages (from seaborn==0.12.2) (1.26.2)\n",
      "Requirement already satisfied: pandas>=0.25 in /opt/conda/lib/python3.10/site-packages (from seaborn==0.12.2) (2.1.3)\n",
      "Requirement already satisfied: matplotlib!=3.6.1,>=3.1 in /opt/conda/lib/python3.10/site-packages (from seaborn==0.12.2) (3.5.2)\n",
      "Requirement already satisfied: cycler>=0.10 in /opt/conda/lib/python3.10/site-packages (from matplotlib!=3.6.1,>=3.1->seaborn==0.12.2) (0.11.0)\n",
      "Requirement already satisfied: fonttools>=4.22.0 in /opt/conda/lib/python3.10/site-packages (from matplotlib!=3.6.1,>=3.1->seaborn==0.12.2) (4.25.0)\n",
      "Requirement already satisfied: kiwisolver>=1.0.1 in /opt/conda/lib/python3.10/site-packages (from matplotlib!=3.6.1,>=3.1->seaborn==0.12.2) (1.4.2)\n",
      "Requirement already satisfied: packaging>=20.0 in /opt/conda/lib/python3.10/site-packages (from matplotlib!=3.6.1,>=3.1->seaborn==0.12.2) (21.3)\n",
      "Requirement already satisfied: pillow>=6.2.0 in /opt/conda/lib/python3.10/site-packages (from matplotlib!=3.6.1,>=3.1->seaborn==0.12.2) (10.1.0)\n",
      "Requirement already satisfied: pyparsing>=2.2.1 in /opt/conda/lib/python3.10/site-packages (from matplotlib!=3.6.1,>=3.1->seaborn==0.12.2) (3.0.9)\n",
      "Requirement already satisfied: python-dateutil>=2.7 in /opt/conda/lib/python3.10/site-packages (from matplotlib!=3.6.1,>=3.1->seaborn==0.12.2) (2.8.2)\n",
      "Requirement already satisfied: pytz>=2020.1 in /opt/conda/lib/python3.10/site-packages (from pandas>=0.25->seaborn==0.12.2) (2022.1)\n",
      "Requirement already satisfied: tzdata>=2022.1 in /opt/conda/lib/python3.10/site-packages (from pandas>=0.25->seaborn==0.12.2) (2023.3)\n",
      "Requirement already satisfied: six>=1.5 in /opt/conda/lib/python3.10/site-packages (from python-dateutil>=2.7->matplotlib!=3.6.1,>=3.1->seaborn==0.12.2) (1.16.0)\n",
      "Using cached seaborn-0.12.2-py3-none-any.whl (293 kB)\n",
      "Installing collected packages: seaborn\n",
      "  Attempting uninstall: seaborn\n",
      "    Found existing installation: seaborn 0.11.2\n",
      "    Uninstalling seaborn-0.11.2:\n",
      "      Successfully uninstalled seaborn-0.11.2\n",
      "Successfully installed seaborn-0.12.2\n",
      "\u001b[33mWARNING: Running pip as the 'root' user can result in broken permissions and conflicting behaviour with the system package manager. It is recommended to use a virtual environment instead: https://pip.pypa.io/warnings/venv\u001b[0m\u001b[33m\n",
      "\u001b[0m"
     ]
    }
   ],
   "source": [
    "#Upgrade de la version de seaborn para poder hacer graficos mas facil \n",
    "!pip install seaborn==0.12.2"
   ]
  },
  {
   "cell_type": "code",
   "execution_count": 4,
   "id": "7e9abd8a-4ec6-495f-b230-072db6406e22",
   "metadata": {},
   "outputs": [],
   "source": [
    "#Libraries\n",
    "from pyathena import connect\n",
    "import pandas as pd\n",
    "import datetime as dt\n",
    "import numpy as np\n",
    "import seaborn as sns\n",
    "import matplotlib.pyplot as plt\n",
    "from datetime import datetime\n",
    "from sklearn import preprocessing\n"
   ]
  },
  {
   "cell_type": "code",
   "execution_count": 5,
   "id": "2eb5cf06-511b-42fc-8c9e-3ef305c428de",
   "metadata": {},
   "outputs": [],
   "source": [
    "# DB Setting\n",
    "bucket_name = 's3://viamericas-datalake-dev-us-east-1-283731589572-athena/'\n",
    "origin_name = 'AwsDataCatalog'\n",
    "database_name = 'analytics'\n",
    "tablaSource = 'source_fraud_fechas_label'\n"
   ]
  },
  {
   "cell_type": "code",
   "execution_count": 6,
   "id": "0f281d0b-391b-467b-9525-1178e14a7495",
   "metadata": {},
   "outputs": [
    {
     "name": "stderr",
     "output_type": "stream",
     "text": [
      "/tmp/ipykernel_17/517809514.py:8: UserWarning: pandas only supports SQLAlchemy connectable (engine/connection) or database string URI or sqlite3 DBAPI2 connection. Other DBAPI2 objects are not tested. Please consider using SQLAlchemy.\n",
      "  df_source = pd.read_sql('''SELECT * FROM analytics.source_fraud_fechas_label\n"
     ]
    }
   ],
   "source": [
    "#Connection\n",
    "\n",
    "conn = connect(s3_staging_dir=f'{bucket_name}queryresults/',\n",
    "               region_name='us-east-1')\n",
    "date_to_compare1 = '2023-01-01'\n",
    "date_to_compare2 = '2023-05-01'\n",
    "\n",
    "df_source = pd.read_sql('''SELECT * FROM analytics.source_fraud_fechas_label \n",
    "            where date_receiver_clean between cast('2023-01-01'  as date) and cast('2023-02-01'  as date);''', conn)\n"
   ]
  },
  {
   "cell_type": "code",
   "execution_count": 7,
   "id": "ad8b0923-b9e1-4587-985d-8da7ac724bac",
   "metadata": {
    "tags": []
   },
   "outputs": [],
   "source": [
    "#df_source2 = pd.read_sql('''SELECT * FROM analytics.source_fraud_fechas_label \n",
    "#             where date_receiver_clean between cast('2023-01-01'  as date) and cast('2023-01-15'  as date);''', conn)\n"
   ]
  },
  {
   "cell_type": "code",
   "execution_count": 8,
   "id": "85964e70-a52d-47eb-86a6-b53a559fdc95",
   "metadata": {
    "tags": []
   },
   "outputs": [
    {
     "data": {
      "text/html": [
       "<div>\n",
       "<style scoped>\n",
       "    .dataframe tbody tr th:only-of-type {\n",
       "        vertical-align: middle;\n",
       "    }\n",
       "\n",
       "    .dataframe tbody tr th {\n",
       "        vertical-align: top;\n",
       "    }\n",
       "\n",
       "    .dataframe thead th {\n",
       "        text-align: right;\n",
       "    }\n",
       "</style>\n",
       "<table border=\"1\" class=\"dataframe\">\n",
       "  <thead>\n",
       "    <tr style=\"text-align: right;\">\n",
       "      <th></th>\n",
       "      <th>id_branch</th>\n",
       "      <th>id_receiver</th>\n",
       "      <th>date_receiver</th>\n",
       "      <th>hour_receiver</th>\n",
       "      <th>day_name_receiver</th>\n",
       "      <th>net_amount_receiver</th>\n",
       "      <th>id_payout</th>\n",
       "      <th>was_fraud</th>\n",
       "      <th>was_fraud_pattern</th>\n",
       "      <th>was_ofac_receiver_hit</th>\n",
       "      <th>...</th>\n",
       "      <th>id_payer</th>\n",
       "      <th>id_sender_global</th>\n",
       "      <th>sender_minutes_since_last_transaction</th>\n",
       "      <th>branch_minutes_since_last_transaction</th>\n",
       "      <th>sender_days_to_last_transaction</th>\n",
       "      <th>day</th>\n",
       "      <th>date_receiver2</th>\n",
       "      <th>id_sender2</th>\n",
       "      <th>fraud_type</th>\n",
       "      <th>date_receiver_clean</th>\n",
       "    </tr>\n",
       "  </thead>\n",
       "  <tbody>\n",
       "    <tr>\n",
       "      <th>0</th>\n",
       "      <td>A18386</td>\n",
       "      <td>106651</td>\n",
       "      <td>2023-01-25 19:44:38.970000000</td>\n",
       "      <td>19</td>\n",
       "      <td>Wednesday</td>\n",
       "      <td>140.0</td>\n",
       "      <td>P</td>\n",
       "      <td>0</td>\n",
       "      <td>0</td>\n",
       "      <td>0</td>\n",
       "      <td>...</td>\n",
       "      <td>T232</td>\n",
       "      <td>7808484</td>\n",
       "      <td>46168</td>\n",
       "      <td>4</td>\n",
       "      <td>287</td>\n",
       "      <td>2023-01-25</td>\n",
       "      <td>2023-01-25 19:44:38.970</td>\n",
       "      <td>6229.0</td>\n",
       "      <td>None</td>\n",
       "      <td>2023-01-25</td>\n",
       "    </tr>\n",
       "    <tr>\n",
       "      <th>1</th>\n",
       "      <td>A08812</td>\n",
       "      <td>76271</td>\n",
       "      <td>2023-01-25 09:13:36.180000000</td>\n",
       "      <td>09</td>\n",
       "      <td>Wednesday</td>\n",
       "      <td>100.0</td>\n",
       "      <td>P</td>\n",
       "      <td>0</td>\n",
       "      <td>0</td>\n",
       "      <td>0</td>\n",
       "      <td>...</td>\n",
       "      <td>T085</td>\n",
       "      <td>2265946</td>\n",
       "      <td>5467</td>\n",
       "      <td>4</td>\n",
       "      <td>338</td>\n",
       "      <td>2023-01-25</td>\n",
       "      <td>2023-01-25 09:13:36.180</td>\n",
       "      <td>533.0</td>\n",
       "      <td>None</td>\n",
       "      <td>2023-01-25</td>\n",
       "    </tr>\n",
       "    <tr>\n",
       "      <th>2</th>\n",
       "      <td>A15234</td>\n",
       "      <td>38786</td>\n",
       "      <td>2023-01-25 08:51:37.177000000</td>\n",
       "      <td>08</td>\n",
       "      <td>Wednesday</td>\n",
       "      <td>240.0</td>\n",
       "      <td>P</td>\n",
       "      <td>0</td>\n",
       "      <td>0</td>\n",
       "      <td>0</td>\n",
       "      <td>...</td>\n",
       "      <td>T061</td>\n",
       "      <td>9582768</td>\n",
       "      <td>2841</td>\n",
       "      <td>771</td>\n",
       "      <td>329</td>\n",
       "      <td>2023-01-25</td>\n",
       "      <td>2023-01-25 08:51:37.177</td>\n",
       "      <td>2776.0</td>\n",
       "      <td>None</td>\n",
       "      <td>2023-01-25</td>\n",
       "    </tr>\n",
       "    <tr>\n",
       "      <th>3</th>\n",
       "      <td>A11490</td>\n",
       "      <td>303397</td>\n",
       "      <td>2023-01-25 08:36:50.360000000</td>\n",
       "      <td>08</td>\n",
       "      <td>Wednesday</td>\n",
       "      <td>183.0</td>\n",
       "      <td>C</td>\n",
       "      <td>0</td>\n",
       "      <td>0</td>\n",
       "      <td>0</td>\n",
       "      <td>...</td>\n",
       "      <td>T229</td>\n",
       "      <td>5444963</td>\n",
       "      <td>9880</td>\n",
       "      <td>1</td>\n",
       "      <td>310</td>\n",
       "      <td>2023-01-25</td>\n",
       "      <td>2023-01-25 08:36:50.360</td>\n",
       "      <td>17718.0</td>\n",
       "      <td>None</td>\n",
       "      <td>2023-01-25</td>\n",
       "    </tr>\n",
       "    <tr>\n",
       "      <th>4</th>\n",
       "      <td>A05998</td>\n",
       "      <td>94138</td>\n",
       "      <td>2023-01-25 10:34:14.280000000</td>\n",
       "      <td>10</td>\n",
       "      <td>Wednesday</td>\n",
       "      <td>170.0</td>\n",
       "      <td>P</td>\n",
       "      <td>0</td>\n",
       "      <td>0</td>\n",
       "      <td>0</td>\n",
       "      <td>...</td>\n",
       "      <td>T232</td>\n",
       "      <td>3280602</td>\n",
       "      <td>8649</td>\n",
       "      <td>66</td>\n",
       "      <td>301</td>\n",
       "      <td>2023-01-25</td>\n",
       "      <td>2023-01-25 10:34:14.280</td>\n",
       "      <td>10603.0</td>\n",
       "      <td>None</td>\n",
       "      <td>2023-01-25</td>\n",
       "    </tr>\n",
       "  </tbody>\n",
       "</table>\n",
       "<p>5 rows × 29 columns</p>\n",
       "</div>"
      ],
      "text/plain": [
       "    id_branch id_receiver                  date_receiver hour_receiver  \\\n",
       "0  A18386          106651  2023-01-25 19:44:38.970000000            19   \n",
       "1  A08812           76271  2023-01-25 09:13:36.180000000            09   \n",
       "2  A15234           38786  2023-01-25 08:51:37.177000000            08   \n",
       "3  A11490          303397  2023-01-25 08:36:50.360000000            08   \n",
       "4  A05998           94138  2023-01-25 10:34:14.280000000            10   \n",
       "\n",
       "  day_name_receiver  net_amount_receiver id_payout was_fraud  \\\n",
       "0         Wednesday                140.0         P         0   \n",
       "1         Wednesday                100.0         P         0   \n",
       "2         Wednesday                240.0         P         0   \n",
       "3         Wednesday                183.0         C         0   \n",
       "4         Wednesday                170.0         P         0   \n",
       "\n",
       "  was_fraud_pattern was_ofac_receiver_hit  ... id_payer  id_sender_global  \\\n",
       "0                 0                     0  ...     T232           7808484   \n",
       "1                 0                     0  ...     T085           2265946   \n",
       "2                 0                     0  ...     T061           9582768   \n",
       "3                 0                     0  ...     T229           5444963   \n",
       "4                 0                     0  ...     T232           3280602   \n",
       "\n",
       "  sender_minutes_since_last_transaction branch_minutes_since_last_transaction  \\\n",
       "0                                 46168                                     4   \n",
       "1                                  5467                                     4   \n",
       "2                                  2841                                   771   \n",
       "3                                  9880                                     1   \n",
       "4                                  8649                                    66   \n",
       "\n",
       "  sender_days_to_last_transaction         day          date_receiver2  \\\n",
       "0                             287  2023-01-25 2023-01-25 19:44:38.970   \n",
       "1                             338  2023-01-25 2023-01-25 09:13:36.180   \n",
       "2                             329  2023-01-25 2023-01-25 08:51:37.177   \n",
       "3                             310  2023-01-25 2023-01-25 08:36:50.360   \n",
       "4                             301  2023-01-25 2023-01-25 10:34:14.280   \n",
       "\n",
       "   id_sender2  fraud_type date_receiver_clean  \n",
       "0      6229.0        None          2023-01-25  \n",
       "1       533.0        None          2023-01-25  \n",
       "2      2776.0        None          2023-01-25  \n",
       "3     17718.0        None          2023-01-25  \n",
       "4     10603.0        None          2023-01-25  \n",
       "\n",
       "[5 rows x 29 columns]"
      ]
     },
     "execution_count": 8,
     "metadata": {},
     "output_type": "execute_result"
    }
   ],
   "source": [
    "df_source.head()"
   ]
  },
  {
   "cell_type": "code",
   "execution_count": 9,
   "id": "a259f7b2-c8a8-40a8-88ba-8666ff3acc64",
   "metadata": {
    "tags": []
   },
   "outputs": [],
   "source": [
    "df_source['mes'] = df_source['date_receiver_clean'].dt.month\n",
    "df_source['fraud_type'] = df_source['fraud_type'].str.capitalize()"
   ]
  },
  {
   "cell_type": "markdown",
   "id": "9588cdc0-0802-4c0e-9297-852ec8caaf0c",
   "metadata": {},
   "source": [
    "## Creo las nuevas variables\n",
    "### sender_days_to_last_transaction_365 y sender_days_to_last_transaction_more365\n",
    "### sender_minutes_since_last_transaction_2days\n",
    "### net_amount_receiver?"
   ]
  },
  {
   "cell_type": "code",
   "execution_count": 10,
   "id": "65dfc154-b753-474c-9010-64b4da420870",
   "metadata": {
    "tags": []
   },
   "outputs": [
    {
     "data": {
      "text/plain": [
       "count    1.759577e+06\n",
       "mean     2.588408e+02\n",
       "std      1.146905e+02\n",
       "min      0.000000e+00\n",
       "25%      2.030000e+02\n",
       "50%      3.210000e+02\n",
       "75%      3.400000e+02\n",
       "max      3.640000e+02\n",
       "Name: sender_days_to_last_transaction, dtype: float64"
      ]
     },
     "execution_count": 10,
     "metadata": {},
     "output_type": "execute_result"
    }
   ],
   "source": [
    "#defino corte en funcion deñ percenti\n",
    "df_source['sender_days_to_last_transaction'].describe()"
   ]
  },
  {
   "cell_type": "code",
   "execution_count": 11,
   "id": "0644111c-6eec-4f01-9866-f8d430449f8d",
   "metadata": {
    "tags": []
   },
   "outputs": [
    {
     "name": "stderr",
     "output_type": "stream",
     "text": [
      "/tmp/ipykernel_17/461507757.py:5: SettingWithCopyWarning: \n",
      "A value is trying to be set on a copy of a slice from a DataFrame\n",
      "\n",
      "See the caveats in the documentation: https://pandas.pydata.org/pandas-docs/stable/user_guide/indexing.html#returning-a-view-versus-a-copy\n",
      "  df_source.sender_days_to_last_transaction_more365[df_source['sender_days_to_last_transaction']> 365] = 1\n",
      "/tmp/ipykernel_17/461507757.py:6: SettingWithCopyWarning: \n",
      "A value is trying to be set on a copy of a slice from a DataFrame\n",
      "\n",
      "See the caveats in the documentation: https://pandas.pydata.org/pandas-docs/stable/user_guide/indexing.html#returning-a-view-versus-a-copy\n",
      "  df_source.sender_days_to_last_transaction_365[df_source['sender_days_to_last_transaction']> 365] = 0\n"
     ]
    }
   ],
   "source": [
    "#defino dos nuevas variables a partir de la anterior\n",
    "df_source['sender_days_to_last_transaction_365'] = df_source['sender_days_to_last_transaction']\n",
    "df_source['sender_days_to_last_transaction_more365'] = 0\n",
    "#corto en un maximo de dias y el resto lo pongo enlas variables nuevas\n",
    "df_source.sender_days_to_last_transaction_more365[df_source['sender_days_to_last_transaction']> 365] = 1\n",
    "df_source.sender_days_to_last_transaction_365[df_source['sender_days_to_last_transaction']> 365] = 0 "
   ]
  },
  {
   "cell_type": "code",
   "execution_count": 12,
   "id": "a3ed5842-26dd-442e-8e12-fa3bedb7dad8",
   "metadata": {
    "tags": []
   },
   "outputs": [
    {
     "name": "stderr",
     "output_type": "stream",
     "text": [
      "/tmp/ipykernel_17/2804084275.py:5: SettingWithCopyWarning: \n",
      "A value is trying to be set on a copy of a slice from a DataFrame\n",
      "\n",
      "See the caveats in the documentation: https://pandas.pydata.org/pandas-docs/stable/user_guide/indexing.html#returning-a-view-versus-a-copy\n",
      "  df_source.sender_minutes_since_last_transaction_2days[df_source['sender_minutes_since_last_transaction']> 2*24*60] = 0\n",
      "/tmp/ipykernel_17/2804084275.py:6: SettingWithCopyWarning: \n",
      "A value is trying to be set on a copy of a slice from a DataFrame\n",
      "\n",
      "See the caveats in the documentation: https://pandas.pydata.org/pandas-docs/stable/user_guide/indexing.html#returning-a-view-versus-a-copy\n",
      "  df_source.sender_minutes_since_last_transaction_1day[df_source['sender_minutes_since_last_transaction']> 24*60] = 0\n"
     ]
    }
   ],
   "source": [
    "#defino dos nuevas variables a partir de la anterior\n",
    "df_source['sender_minutes_since_last_transaction_2days'] = df_source['sender_minutes_since_last_transaction']\n",
    "df_source['sender_minutes_since_last_transaction_1day'] = df_source['sender_minutes_since_last_transaction']\n",
    "#corto en un maximo de dias y el resto lo pongo enlas variables nuevas\n",
    "df_source.sender_minutes_since_last_transaction_2days[df_source['sender_minutes_since_last_transaction']> 2*24*60] = 0\n",
    "df_source.sender_minutes_since_last_transaction_1day[df_source['sender_minutes_since_last_transaction']> 24*60] = 0"
   ]
  },
  {
   "cell_type": "markdown",
   "id": "86cddff3-d7cc-47bd-a3b1-e6769a443841",
   "metadata": {},
   "source": [
    "## Estandarizo variables\n",
    "### sender_days_to_last_transaction_365, sender_minutes_since_last_transaction_2days, net_amount_receiver, sender_sending_days, branch_working_days, receiver_transaction_count"
   ]
  },
  {
   "cell_type": "code",
   "execution_count": 13,
   "id": "bd1f9481-d7b2-4daa-9239-7db06d9e1aca",
   "metadata": {
    "tags": []
   },
   "outputs": [
    {
     "data": {
      "text/plain": [
       "count    1.759577e+06\n",
       "mean     1.852189e+01\n",
       "std      2.377063e+01\n",
       "min      1.000000e+00\n",
       "25%      3.000000e+00\n",
       "50%      1.000000e+01\n",
       "75%      2.500000e+01\n",
       "max      6.660000e+02\n",
       "Name: receiver_transaction_count, dtype: float64"
      ]
     },
     "execution_count": 13,
     "metadata": {},
     "output_type": "execute_result"
    }
   ],
   "source": [
    "df_source['receiver_transaction_count'].describe()"
   ]
  },
  {
   "cell_type": "code",
   "execution_count": 25,
   "id": "2f9c9961-c080-4cbc-9054-996b73ff12e6",
   "metadata": {},
   "outputs": [],
   "source": [
    "#defino funcion para normalizar\n",
    "def escalo_percentiles(data, Pmin, Pmax):\n",
    "    #Escalo por Quartiles\n",
    "    Qmin = Pmin\n",
    "    Qmax = Pmax\n",
    "\n",
    "    m = data.min()\n",
    "    M = data.max()\n",
    "    q0 = data.quantile(Qmin)\n",
    "    q1 = data.quantile(Qmax)\n",
    "\n",
    "    data_std = (data - q0) / (q1 - q0)\n",
    "    dataN =  data_std.to_numpy()\n",
    "    #Pongo los outliers con un maximo\n",
    "    dataN = np.clip(dataN,0,1)\n",
    "    return dataN"
   ]
  },
  {
   "cell_type": "code",
   "execution_count": 27,
   "id": "72512ac3-3056-44c2-8900-9f292f7a3cd4",
   "metadata": {
    "tags": []
   },
   "outputs": [
    {
     "name": "stderr",
     "output_type": "stream",
     "text": [
      "/opt/conda/lib/python3.10/site-packages/seaborn/_oldcore.py:1498: FutureWarning: is_categorical_dtype is deprecated and will be removed in a future version. Use isinstance(dtype, CategoricalDtype) instead\n",
      "  if pd.api.types.is_categorical_dtype(vector):\n",
      "/opt/conda/lib/python3.10/site-packages/seaborn/_oldcore.py:1119: FutureWarning: use_inf_as_na option is deprecated and will be removed in a future version. Convert inf values to NaN before operating instead.\n",
      "  with pd.option_context('mode.use_inf_as_na', True):\n",
      "/opt/conda/lib/python3.10/site-packages/seaborn/_oldcore.py:1498: FutureWarning: is_categorical_dtype is deprecated and will be removed in a future version. Use isinstance(dtype, CategoricalDtype) instead\n",
      "  if pd.api.types.is_categorical_dtype(vector):\n",
      "/opt/conda/lib/python3.10/site-packages/seaborn/_oldcore.py:1119: FutureWarning: use_inf_as_na option is deprecated and will be removed in a future version. Convert inf values to NaN before operating instead.\n",
      "  with pd.option_context('mode.use_inf_as_na', True):\n"
     ]
    },
    {
     "data": {
      "text/plain": [
       "<AxesSubplot:xlabel='01_receiver_transaction_count', ylabel='Count'>"
      ]
     },
     "execution_count": 27,
     "metadata": {},
     "output_type": "execute_result"
    },
    {
     "data": {
      "image/png": "[encoded data removed]",
      "text/plain": [
       "<Figure size 1200x400 with 2 Axes>"
      ]
     },
     "metadata": {},
     "output_type": "display_data"
    }
   ],
   "source": [
    "df_source['01_receiver_transaction_count'] = escalo_percentiles(df_source['receiver_transaction_count'], 0.01, 0.99)\n",
    "fig, axs = plt.subplots(1,2,figsize = (12, 4))\n",
    "sns.histplot(data=df_source, x=\"receiver_transaction_count\", ax = axs[0])\n",
    "sns.histplot(data=df_source, x=\"01_receiver_transaction_count\", ax = axs[1])"
   ]
  },
  {
   "cell_type": "code",
   "execution_count": 15,
   "id": "8b48ed52-3ee7-4420-838c-6342072a2951",
   "metadata": {
    "tags": []
   },
   "outputs": [
    {
     "data": {
      "text/plain": [
       "count    1.759577e+06\n",
       "mean     2.384400e+02\n",
       "std      1.376498e+02\n",
       "min      0.000000e+00\n",
       "25%      1.100000e+02\n",
       "50%      2.890000e+02\n",
       "75%      3.640000e+02\n",
       "max      3.960000e+02\n",
       "Name: sender_sending_days, dtype: float64"
      ]
     },
     "execution_count": 15,
     "metadata": {},
     "output_type": "execute_result"
    }
   ],
   "source": [
    "df_source['sender_sending_days'].describe()"
   ]
  },
  {
   "cell_type": "code",
   "execution_count": 30,
   "id": "a5a4ed41-5d5f-4f27-880b-4a266e2aa86c",
   "metadata": {
    "tags": []
   },
   "outputs": [
    {
     "name": "stderr",
     "output_type": "stream",
     "text": [
      "/opt/conda/lib/python3.10/site-packages/seaborn/_oldcore.py:1498: FutureWarning: is_categorical_dtype is deprecated and will be removed in a future version. Use isinstance(dtype, CategoricalDtype) instead\n",
      "  if pd.api.types.is_categorical_dtype(vector):\n",
      "/opt/conda/lib/python3.10/site-packages/seaborn/_oldcore.py:1119: FutureWarning: use_inf_as_na option is deprecated and will be removed in a future version. Convert inf values to NaN before operating instead.\n",
      "  with pd.option_context('mode.use_inf_as_na', True):\n",
      "/opt/conda/lib/python3.10/site-packages/seaborn/_oldcore.py:1498: FutureWarning: is_categorical_dtype is deprecated and will be removed in a future version. Use isinstance(dtype, CategoricalDtype) instead\n",
      "  if pd.api.types.is_categorical_dtype(vector):\n",
      "/opt/conda/lib/python3.10/site-packages/seaborn/_oldcore.py:1119: FutureWarning: use_inf_as_na option is deprecated and will be removed in a future version. Convert inf values to NaN before operating instead.\n",
      "  with pd.option_context('mode.use_inf_as_na', True):\n"
     ]
    },
    {
     "data": {
      "text/plain": [
       "<AxesSubplot:xlabel='01_sender_sending_days', ylabel='Count'>"
      ]
     },
     "execution_count": 30,
     "metadata": {},
     "output_type": "execute_result"
    },
    {
     "data": {
      "image/png": "[encoded data removed]",
      "text/plain": [
       "<Figure size 1200x400 with 2 Axes>"
      ]
     },
     "metadata": {},
     "output_type": "display_data"
    }
   ],
   "source": [
    "df_source['01_sender_sending_days'] = escalo_percentiles(df_source['sender_sending_days'], 0.01, 0.99)\n",
    "\n",
    "fig, axs = plt.subplots(1,2,figsize = (12, 4))\n",
    "sns.histplot(data=df_source, x=\"sender_sending_days\", ax = axs[0])\n",
    "sns.histplot(data=df_source, x=\"01_sender_sending_days\", ax = axs[1])"
   ]
  },
  {
   "cell_type": "code",
   "execution_count": 17,
   "id": "3d6a278c-dd3f-44f6-a1a0-e99eaa96970a",
   "metadata": {
    "tags": []
   },
   "outputs": [
    {
     "data": {
      "text/plain": [
       "count    1.759577e+06\n",
       "mean     1.602328e+03\n",
       "std      1.399186e+03\n",
       "min      0.000000e+00\n",
       "25%      5.780000e+02\n",
       "50%      1.117000e+03\n",
       "75%      2.260000e+03\n",
       "max      6.567000e+03\n",
       "Name: branch_working_days, dtype: float64"
      ]
     },
     "execution_count": 17,
     "metadata": {},
     "output_type": "execute_result"
    }
   ],
   "source": [
    "df_source['branch_working_days'].describe()"
   ]
  },
  {
   "cell_type": "code",
   "execution_count": 18,
   "id": "37cd99ba-79c8-436f-9332-0cc4dde88f54",
   "metadata": {
    "tags": []
   },
   "outputs": [
    {
     "data": {
      "text/plain": [
       "count    1.759577e+06\n",
       "mean     4.560110e+02\n",
       "std      5.789033e+02\n",
       "min      6.400000e-01\n",
       "25%      1.000000e+02\n",
       "50%      2.200000e+02\n",
       "75%      5.363900e+02\n",
       "max      7.994000e+03\n",
       "Name: net_amount_receiver, dtype: float64"
      ]
     },
     "execution_count": 18,
     "metadata": {},
     "output_type": "execute_result"
    }
   ],
   "source": [
    "df_source['net_amount_receiver'].describe()"
   ]
  },
  {
   "cell_type": "code",
   "execution_count": 19,
   "id": "3ed872bb-b259-450d-a233-3e86b0ef1111",
   "metadata": {
    "tags": []
   },
   "outputs": [
    {
     "data": {
      "text/plain": [
       "count    1.759577e+06\n",
       "mean     9.519928e+01\n",
       "std      4.268472e+02\n",
       "min      0.000000e+00\n",
       "25%      0.000000e+00\n",
       "50%      0.000000e+00\n",
       "75%      0.000000e+00\n",
       "max      2.880000e+03\n",
       "Name: sender_minutes_since_last_transaction_2days, dtype: float64"
      ]
     },
     "execution_count": 19,
     "metadata": {},
     "output_type": "execute_result"
    }
   ],
   "source": [
    "df_source['sender_minutes_since_last_transaction_2days'].describe()"
   ]
  },
  {
   "cell_type": "code",
   "execution_count": 20,
   "id": "0f497437-afee-4ad8-b17c-d69f5a052f02",
   "metadata": {},
   "outputs": [
    {
     "data": {
      "text/plain": [
       "count    1.759577e+06\n",
       "mean     2.490717e+01\n",
       "std      1.691219e+02\n",
       "min      0.000000e+00\n",
       "25%      0.000000e+00\n",
       "50%      0.000000e+00\n",
       "75%      0.000000e+00\n",
       "max      1.440000e+03\n",
       "Name: sender_minutes_since_last_transaction_1day, dtype: float64"
      ]
     },
     "execution_count": 20,
     "metadata": {},
     "output_type": "execute_result"
    }
   ],
   "source": [
    "df_source['sender_minutes_since_last_transaction_1day'].describe()"
   ]
  },
  {
   "cell_type": "code",
   "execution_count": 21,
   "id": "32afdd0e-1794-4808-982b-178756a40198",
   "metadata": {
    "tags": []
   },
   "outputs": [
    {
     "data": {
      "text/plain": [
       "count    1.759577e+06\n",
       "mean     2.588408e+02\n",
       "std      1.146905e+02\n",
       "min      0.000000e+00\n",
       "25%      2.030000e+02\n",
       "50%      3.210000e+02\n",
       "75%      3.400000e+02\n",
       "max      3.640000e+02\n",
       "Name: sender_days_to_last_transaction_365, dtype: float64"
      ]
     },
     "execution_count": 21,
     "metadata": {},
     "output_type": "execute_result"
    }
   ],
   "source": [
    "df_source['sender_days_to_last_transaction_365'].describe()"
   ]
  },
  {
   "cell_type": "code",
   "execution_count": 22,
   "id": "983792e4-a974-4846-8ecb-26d143b638c6",
   "metadata": {
    "tags": []
   },
   "outputs": [
    {
     "data": {
      "text/plain": [
       "count    1.759577e+06\n",
       "mean     1.205041e+02\n",
       "std      7.713593e+02\n",
       "min      0.000000e+00\n",
       "25%      3.000000e+00\n",
       "50%      1.100000e+01\n",
       "75%      3.900000e+01\n",
       "max      4.291250e+05\n",
       "Name: branch_minutes_since_last_transaction, dtype: float64"
      ]
     },
     "execution_count": 22,
     "metadata": {},
     "output_type": "execute_result"
    }
   ],
   "source": [
    "df_source['branch_minutes_since_last_transaction'].describe()"
   ]
  },
  {
   "cell_type": "code",
   "execution_count": 28,
   "id": "cbe73b06-2442-48c2-b73f-24eda30d96d6",
   "metadata": {
    "tags": []
   },
   "outputs": [],
   "source": [
    "# Normalizo a lo bruto. Dsp reviso el algoritmo\n",
    "df_source['01_receiver_transaction_count'] = escalo_percentiles(df_source['receiver_transaction_count'], 0.01, 0.99)\n",
    "df_source['01_branch_working_days'] = escalo_percentiles(df_source['branch_working_days'], 0.01, 0.99)\n",
    "df_source['01_net_amount_receiver'] = escalo_percentiles(df_source['net_amount_receiver'], 0.01, 0.99)\n",
    "df_source['01_sender_minutes_since_last_transaction_2days'] = escalo_percentiles(df_source['sender_minutes_since_last_transaction'], 0.01, 0.99)\n",
    "df_source['01_sender_minutes_since_last_transaction_1day'] = escalo_percentiles(df_source['sender_minutes_since_last_transaction'], 0.01, 0.99)\n",
    "df_source['01_sender_days_to_last_transaction_365'] = escalo_percentiles(df_source['sender_days_to_last_transaction'], 0.01, 0.99)\n"
   ]
  },
  {
   "cell_type": "code",
   "execution_count": 31,
   "id": "a6457d2b-4183-4373-8102-147bd091601b",
   "metadata": {
    "tags": []
   },
   "outputs": [
    {
     "data": {
      "text/plain": [
       "count    1.759577e+06\n",
       "mean     7.189528e-01\n",
       "std      3.185406e-01\n",
       "min      0.000000e+00\n",
       "25%      5.638889e-01\n",
       "50%      8.916667e-01\n",
       "75%      9.444444e-01\n",
       "max      1.000000e+00\n",
       "Name: 01_sender_days_to_last_transaction_365, dtype: float64"
      ]
     },
     "execution_count": 31,
     "metadata": {},
     "output_type": "execute_result"
    }
   ],
   "source": [
    "df_source['01_receiver_transaction_count'].describe()\n",
    "df_source['01_sender_sending_days'].describe()\n",
    "df_source['01_branch_working_days'].describe()\n",
    "df_source['01_net_amount_receiver'].describe()\n",
    "df_source['01_sender_minutes_since_last_transaction_2days'].describe()\n",
    "df_source['01_sender_minutes_since_last_transaction_1day'].describe()\n",
    "df_source['01_sender_days_to_last_transaction_365'].describe()"
   ]
  },
  {
   "cell_type": "markdown",
   "id": "e236484e-0e85-4a88-b930-cc1ff783b66f",
   "metadata": {},
   "source": [
    "## Creacion del target"
   ]
  },
  {
   "cell_type": "code",
   "execution_count": 32,
   "id": "d35931e3-9602-4eac-a5f2-1e93928dba0d",
   "metadata": {
    "tags": []
   },
   "outputs": [
    {
     "data": {
      "text/plain": [
       "fraud_type\n",
       "Remote access    55\n",
       "Payment          35\n",
       "Money order       2\n",
       "Red phone         1\n",
       "Name: count, dtype: int64"
      ]
     },
     "execution_count": 32,
     "metadata": {},
     "output_type": "execute_result"
    }
   ],
   "source": [
    "df_source['fraud_type'].value_counts()"
   ]
  },
  {
   "cell_type": "code",
   "execution_count": 33,
   "id": "c8e16e2e-9daf-4df4-a470-0821db639a46",
   "metadata": {
    "tags": []
   },
   "outputs": [],
   "source": [
    "# defino los targets\n",
    "df_source['target1'] = df_source['fraud_type'] == 'Remote access'\n",
    "df_source['target2'] = df_source['fraud_type'] == 'Payment'\n",
    "df_source['target_fraudes'] = df_source['fraud_type'].notnull()\n"
   ]
  },
  {
   "cell_type": "code",
   "execution_count": 34,
   "id": "dbfd9bdb-fb8a-4ec4-8edf-40ddfc90f4a7",
   "metadata": {
    "tags": []
   },
   "outputs": [
    {
     "data": {
      "text/plain": [
       "target1\n",
       "False    1759522\n",
       "True          55\n",
       "Name: count, dtype: int64"
      ]
     },
     "execution_count": 34,
     "metadata": {},
     "output_type": "execute_result"
    }
   ],
   "source": [
    "df_source['target1'].value_counts()"
   ]
  },
  {
   "cell_type": "code",
   "execution_count": 35,
   "id": "c6796bb8-2d8f-4385-8cec-0a5572c5e1e0",
   "metadata": {
    "tags": []
   },
   "outputs": [
    {
     "data": {
      "text/plain": [
       "target2\n",
       "False    1759542\n",
       "True          35\n",
       "Name: count, dtype: int64"
      ]
     },
     "execution_count": 35,
     "metadata": {},
     "output_type": "execute_result"
    }
   ],
   "source": [
    "df_source['target2'].value_counts()"
   ]
  },
  {
   "cell_type": "code",
   "execution_count": 36,
   "id": "2989957e-7742-4f7c-93d9-cd55639e4b5c",
   "metadata": {
    "tags": []
   },
   "outputs": [
    {
     "data": {
      "text/plain": [
       "target_fraudes\n",
       "False    1759484\n",
       "True          93\n",
       "Name: count, dtype: int64"
      ]
     },
     "execution_count": 36,
     "metadata": {},
     "output_type": "execute_result"
    }
   ],
   "source": [
    "df_source['target_fraudes'].value_counts()"
   ]
  },
  {
   "cell_type": "markdown",
   "id": "1ff64d64-0669-4917-8169-6c89ce925375",
   "metadata": {},
   "source": [
    "## Guardo archivos para dsp juntar en el entrenamiento"
   ]
  },
  {
   "cell_type": "code",
   "execution_count": 54,
   "id": "7ae5411d-50c4-4812-89f4-155d0705b2fa",
   "metadata": {
    "tags": []
   },
   "outputs": [],
   "source": [
    "#Me quedo con las variables q voy a usar\n",
    "df_source.columns.values\n",
    "df = df_source [[\n",
    "           '01_receiver_transaction_count','01_sender_sending_days','01_branch_working_days','01_net_amount_receiver','01_sender_minutes_since_last_transaction_2days',\n",
    "           '01_sender_minutes_since_last_transaction_1day','01_sender_days_to_last_transaction_365',\n",
    "           'target_fraudes']]\n",
    "##'sender_days_since_last_transaction','sender_minutes_since_last_transaction'\n",
    "#'id_branch', 'id_receiver', 'hour_receiver','day_name_receiver','net_amount_receiver','was_ofac_receiver_hit','was_ofac_sender_hit',\n",
    "#'receiver_transaction_count','branch_working_days','sender_sending_days','branch_minutes_since_last_transaction','sender_days_to_last_transaction',\n",
    "#'fraud_type','date_receiver_clean','target1','target2',"
   ]
  },
  {
   "cell_type": "code",
   "execution_count": 38,
   "id": "add330ae-0d34-4c56-8f87-fd02df009281",
   "metadata": {
    "tags": []
   },
   "outputs": [],
   "source": [
    "import os\n",
    "import pyarrow as pa\n",
    "import pyarrow.parquet as pq"
   ]
  },
  {
   "cell_type": "code",
   "execution_count": 32,
   "id": "d87e689c-fa6c-48ec-ae38-e2da2f97da87",
   "metadata": {},
   "outputs": [],
   "source": [
    "#guardar_dataset_con_valor_parquet(df_source, columna_nombre='mes', nombre_archivo='Prepoc_Fraude',carpeta='ABT') # save ABT in parquet format"
   ]
  },
  {
   "cell_type": "code",
   "execution_count": 56,
   "id": "5470713d-b255-4419-851d-e9484ab5bfe7",
   "metadata": {
    "tags": []
   },
   "outputs": [
    {
     "name": "stdout",
     "output_type": "stream",
     "text": [
      "termine de salvar el parquet\n"
     ]
    }
   ],
   "source": [
    "s3_url = 's3://viamericas-datalake-dev-us-east-1-283731589572-raw/exp1.parquet'\n",
    "#df.to_parquet(path='./exp1.parquet', engine='pyarrow', compression='gzip')\n",
    "df.to_parquet(path=s3_url, engine='pyarrow', compression='gzip')\n",
    "print('termine de salvar el parquet')"
   ]
  },
  {
   "cell_type": "markdown",
   "id": "c9334bf2-461e-4be0-9515-4918bb528c7c",
   "metadata": {},
   "source": [
    "## Entreno para probar un minimodelo"
   ]
  },
  {
   "cell_type": "code",
   "execution_count": 57,
   "id": "05db07ce-1b5e-4111-8068-25386ea9f165",
   "metadata": {
    "tags": []
   },
   "outputs": [],
   "source": [
    "s3_url = 's3://viamericas-datalake-dev-us-east-1-283731589572-raw/exp1.parquet'\n",
    "df = pd.read_parquet(s3_url)"
   ]
  },
  {
   "cell_type": "code",
   "execution_count": 58,
   "id": "8a352222-4890-433a-890c-daaf6df14b6e",
   "metadata": {
    "tags": []
   },
   "outputs": [
    {
     "data": {
      "text/html": [
       "<div>\n",
       "<style scoped>\n",
       "    .dataframe tbody tr th:only-of-type {\n",
       "        vertical-align: middle;\n",
       "    }\n",
       "\n",
       "    .dataframe tbody tr th {\n",
       "        vertical-align: top;\n",
       "    }\n",
       "\n",
       "    .dataframe thead th {\n",
       "        text-align: right;\n",
       "    }\n",
       "</style>\n",
       "<table border=\"1\" class=\"dataframe\">\n",
       "  <thead>\n",
       "    <tr style=\"text-align: right;\">\n",
       "      <th></th>\n",
       "      <th>01_receiver_transaction_count</th>\n",
       "      <th>01_sender_sending_days</th>\n",
       "      <th>01_branch_working_days</th>\n",
       "      <th>01_net_amount_receiver</th>\n",
       "      <th>01_sender_minutes_since_last_transaction_2days</th>\n",
       "      <th>01_sender_minutes_since_last_transaction_1day</th>\n",
       "      <th>01_sender_days_to_last_transaction_365</th>\n",
       "      <th>target_fraudes</th>\n",
       "    </tr>\n",
       "  </thead>\n",
       "  <tbody>\n",
       "    <tr>\n",
       "      <th>0</th>\n",
       "      <td>0.076923</td>\n",
       "      <td>0.989796</td>\n",
       "      <td>0.210088</td>\n",
       "      <td>0.041199</td>\n",
       "      <td>0.130393</td>\n",
       "      <td>0.130393</td>\n",
       "      <td>0.797222</td>\n",
       "      <td>False</td>\n",
       "    </tr>\n",
       "    <tr>\n",
       "      <th>1</th>\n",
       "      <td>0.711538</td>\n",
       "      <td>0.977041</td>\n",
       "      <td>0.625065</td>\n",
       "      <td>0.026217</td>\n",
       "      <td>0.015441</td>\n",
       "      <td>0.015441</td>\n",
       "      <td>0.938889</td>\n",
       "      <td>False</td>\n",
       "    </tr>\n",
       "    <tr>\n",
       "      <th>2</th>\n",
       "      <td>0.182692</td>\n",
       "      <td>0.005102</td>\n",
       "      <td>0.363668</td>\n",
       "      <td>0.078652</td>\n",
       "      <td>0.008024</td>\n",
       "      <td>0.008024</td>\n",
       "      <td>0.913889</td>\n",
       "      <td>False</td>\n",
       "    </tr>\n",
       "    <tr>\n",
       "      <th>3</th>\n",
       "      <td>0.240385</td>\n",
       "      <td>0.977041</td>\n",
       "      <td>0.516207</td>\n",
       "      <td>0.057303</td>\n",
       "      <td>0.027904</td>\n",
       "      <td>0.027904</td>\n",
       "      <td>0.861111</td>\n",
       "      <td>False</td>\n",
       "    </tr>\n",
       "    <tr>\n",
       "      <th>4</th>\n",
       "      <td>0.019231</td>\n",
       "      <td>0.982143</td>\n",
       "      <td>0.775351</td>\n",
       "      <td>0.052434</td>\n",
       "      <td>0.024428</td>\n",
       "      <td>0.024428</td>\n",
       "      <td>0.836111</td>\n",
       "      <td>False</td>\n",
       "    </tr>\n",
       "  </tbody>\n",
       "</table>\n",
       "</div>"
      ],
      "text/plain": [
       "   01_receiver_transaction_count  01_sender_sending_days  \\\n",
       "0                       0.076923                0.989796   \n",
       "1                       0.711538                0.977041   \n",
       "2                       0.182692                0.005102   \n",
       "3                       0.240385                0.977041   \n",
       "4                       0.019231                0.982143   \n",
       "\n",
       "   01_branch_working_days  01_net_amount_receiver  \\\n",
       "0                0.210088                0.041199   \n",
       "1                0.625065                0.026217   \n",
       "2                0.363668                0.078652   \n",
       "3                0.516207                0.057303   \n",
       "4                0.775351                0.052434   \n",
       "\n",
       "   01_sender_minutes_since_last_transaction_2days  \\\n",
       "0                                        0.130393   \n",
       "1                                        0.015441   \n",
       "2                                        0.008024   \n",
       "3                                        0.027904   \n",
       "4                                        0.024428   \n",
       "\n",
       "   01_sender_minutes_since_last_transaction_1day  \\\n",
       "0                                       0.130393   \n",
       "1                                       0.015441   \n",
       "2                                       0.008024   \n",
       "3                                       0.027904   \n",
       "4                                       0.024428   \n",
       "\n",
       "   01_sender_days_to_last_transaction_365  target_fraudes  \n",
       "0                                0.797222           False  \n",
       "1                                0.938889           False  \n",
       "2                                0.913889           False  \n",
       "3                                0.861111           False  \n",
       "4                                0.836111           False  "
      ]
     },
     "execution_count": 58,
     "metadata": {},
     "output_type": "execute_result"
    }
   ],
   "source": [
    "df.head(5)"
   ]
  },
  {
   "cell_type": "code",
   "execution_count": 59,
   "id": "7b43e192-2c1d-438f-bbfd-0887a62b7273",
   "metadata": {
    "tags": []
   },
   "outputs": [],
   "source": [
    "features = df[[\n",
    "           '01_receiver_transaction_count','01_sender_sending_days','01_branch_working_days','01_net_amount_receiver','01_sender_minutes_since_last_transaction_2days',\n",
    "           '01_sender_minutes_since_last_transaction_1day','01_sender_days_to_last_transaction_365',\n",
    "           'target_fraudes']]\n",
    "label = df['target_fraudes']\n",
    "size = 1759577\n",
    "\n",
    "# Hold out 20% of the dataset for training\n",
    "\n",
    "test_size = int(np.round(size * 0.2, 0))# Split dataset into training and testing sets\n",
    "x_train = features[:-test_size].values\n",
    "y_train = label[:-test_size].values\n",
    "x_test = features[-test_size:].values\n",
    "y_test = label[-test_size:].values"
   ]
  },
  {
   "cell_type": "code",
   "execution_count": 60,
   "id": "61334e64-77d6-4940-8398-5efe7a4d6517",
   "metadata": {
    "tags": []
   },
   "outputs": [
    {
     "data": {
      "text/html": [
       "<style>#sk-container-id-2 {color: black;}#sk-container-id-2 pre{padding: 0;}#sk-container-id-2 div.sk-toggleable {background-color: white;}#sk-container-id-2 label.sk-toggleable__label {cursor: pointer;display: block;width: 100%;margin-bottom: 0;padding: 0.3em;box-sizing: border-box;text-align: center;}#sk-container-id-2 label.sk-toggleable__label-arrow:before {content: \"▸\";float: left;margin-right: 0.25em;color: #696969;}#sk-container-id-2 label.sk-toggleable__label-arrow:hover:before {color: black;}#sk-container-id-2 div.sk-estimator:hover label.sk-toggleable__label-arrow:before {color: black;}#sk-container-id-2 div.sk-toggleable__content {max-height: 0;max-width: 0;overflow: hidden;text-align: left;background-color: #f0f8ff;}#sk-container-id-2 div.sk-toggleable__content pre {margin: 0.2em;color: black;border-radius: 0.25em;background-color: #f0f8ff;}#sk-container-id-2 input.sk-toggleable__control:checked~div.sk-toggleable__content {max-height: 200px;max-width: 100%;overflow: auto;}#sk-container-id-2 input.sk-toggleable__control:checked~label.sk-toggleable__label-arrow:before {content: \"▾\";}#sk-container-id-2 div.sk-estimator input.sk-toggleable__control:checked~label.sk-toggleable__label {background-color: #d4ebff;}#sk-container-id-2 div.sk-label input.sk-toggleable__control:checked~label.sk-toggleable__label {background-color: #d4ebff;}#sk-container-id-2 input.sk-hidden--visually {border: 0;clip: rect(1px 1px 1px 1px);clip: rect(1px, 1px, 1px, 1px);height: 1px;margin: -1px;overflow: hidden;padding: 0;position: absolute;width: 1px;}#sk-container-id-2 div.sk-estimator {font-family: monospace;background-color: #f0f8ff;border: 1px dotted black;border-radius: 0.25em;box-sizing: border-box;margin-bottom: 0.5em;}#sk-container-id-2 div.sk-estimator:hover {background-color: #d4ebff;}#sk-container-id-2 div.sk-parallel-item::after {content: \"\";width: 100%;border-bottom: 1px solid gray;flex-grow: 1;}#sk-container-id-2 div.sk-label:hover label.sk-toggleable__label {background-color: #d4ebff;}#sk-container-id-2 div.sk-serial::before {content: \"\";position: absolute;border-left: 1px solid gray;box-sizing: border-box;top: 0;bottom: 0;left: 50%;z-index: 0;}#sk-container-id-2 div.sk-serial {display: flex;flex-direction: column;align-items: center;background-color: white;padding-right: 0.2em;padding-left: 0.2em;position: relative;}#sk-container-id-2 div.sk-item {position: relative;z-index: 1;}#sk-container-id-2 div.sk-parallel {display: flex;align-items: stretch;justify-content: center;background-color: white;position: relative;}#sk-container-id-2 div.sk-item::before, #sk-container-id-2 div.sk-parallel-item::before {content: \"\";position: absolute;border-left: 1px solid gray;box-sizing: border-box;top: 0;bottom: 0;left: 50%;z-index: -1;}#sk-container-id-2 div.sk-parallel-item {display: flex;flex-direction: column;z-index: 1;position: relative;background-color: white;}#sk-container-id-2 div.sk-parallel-item:first-child::after {align-self: flex-end;width: 50%;}#sk-container-id-2 div.sk-parallel-item:last-child::after {align-self: flex-start;width: 50%;}#sk-container-id-2 div.sk-parallel-item:only-child::after {width: 0;}#sk-container-id-2 div.sk-dashed-wrapped {border: 1px dashed gray;margin: 0 0.4em 0.5em 0.4em;box-sizing: border-box;padding-bottom: 0.4em;background-color: white;}#sk-container-id-2 div.sk-label label {font-family: monospace;font-weight: bold;display: inline-block;line-height: 1.2em;}#sk-container-id-2 div.sk-label-container {text-align: center;}#sk-container-id-2 div.sk-container {/* jupyter's `normalize.less` sets `[hidden] { display: none; }` but bootstrap.min.css set `[hidden] { display: none !important; }` so we also need the `!important` here to be able to override the default hidden behavior on the sphinx rendered scikit-learn.org. See: https://github.com/scikit-learn/scikit-learn/issues/21755 */display: inline-block !important;position: relative;}#sk-container-id-2 div.sk-text-repr-fallback {display: none;}</style><div id=\"sk-container-id-2\" class=\"sk-top-container\"><div class=\"sk-text-repr-fallback\"><pre>SVC(degree=2, kernel=&#x27;poly&#x27;)</pre><b>In a Jupyter environment, please rerun this cell to show the HTML representation or trust the notebook. <br />On GitHub, the HTML representation is unable to render, please try loading this page with nbviewer.org.</b></div><div class=\"sk-container\" hidden><div class=\"sk-item\"><div class=\"sk-estimator sk-toggleable\"><input class=\"sk-toggleable__control sk-hidden--visually\" id=\"sk-estimator-id-2\" type=\"checkbox\" checked><label for=\"sk-estimator-id-2\" class=\"sk-toggleable__label sk-toggleable__label-arrow\">SVC</label><div class=\"sk-toggleable__content\"><pre>SVC(degree=2, kernel=&#x27;poly&#x27;)</pre></div></div></div></div></div>"
      ],
      "text/plain": [
       "SVC(degree=2, kernel='poly')"
      ]
     },
     "execution_count": 60,
     "metadata": {},
     "output_type": "execute_result"
    }
   ],
   "source": [
    "from sklearn import svm\n",
    "\n",
    "model = svm.SVC(kernel='poly', degree=2)\n",
    "model.fit(x_train, y_train)"
   ]
  },
  {
   "cell_type": "code",
   "execution_count": 61,
   "id": "a69afb6c-1a8e-4d40-8b66-fcd6c52f0afe",
   "metadata": {
    "tags": []
   },
   "outputs": [],
   "source": [
    "from sklearn.metrics import accuracy_score\n",
    "predictions_poly = model.predict(x_test)\n",
    "accuracy_poly = accuracy_score(y_test, predictions_poly)"
   ]
  },
  {
   "cell_type": "code",
   "execution_count": 62,
   "id": "0a04e0c4-b930-4f00-9a7b-36c90ab1bf6a",
   "metadata": {
    "tags": []
   },
   "outputs": [
    {
     "name": "stdout",
     "output_type": "stream",
     "text": [
      "2nd degree polynomial Kernel\n",
      "Accuracy (normalized): 1.0\n"
     ]
    }
   ],
   "source": [
    "print(\"2nd degree polynomial Kernel\\nAccuracy (normalized): \" + str(accuracy_poly))"
   ]
  }
 ],
 "metadata": {
  "availableInstances": [
   {
    "_defaultOrder": 0,
    "_isFastLaunch": true,
    "category": "General purpose",
    "gpuNum": 0,
    "hideHardwareSpecs": false,
    "memoryGiB": 4,
    "name": "ml.t3.medium",
    "vcpuNum": 2
   },
   {
    "_defaultOrder": 1,
    "_isFastLaunch": false,
    "category": "General purpose",
    "gpuNum": 0,
    "hideHardwareSpecs": false,
    "memoryGiB": 8,
    "name": "ml.t3.large",
    "vcpuNum": 2
   },
   {
    "_defaultOrder": 2,
    "_isFastLaunch": false,
    "category": "General purpose",
    "gpuNum": 0,
    "hideHardwareSpecs": false,
    "memoryGiB": 16,
    "name": "ml.t3.xlarge",
    "vcpuNum": 4
   },
   {
    "_defaultOrder": 3,
    "_isFastLaunch": false,
    "category": "General purpose",
    "gpuNum": 0,
    "hideHardwareSpecs": false,
    "memoryGiB": 32,
    "name": "ml.t3.2xlarge",
    "vcpuNum": 8
   },
   {
    "_defaultOrder": 4,
    "_isFastLaunch": true,
    "category": "General purpose",
    "gpuNum": 0,
    "hideHardwareSpecs": false,
    "memoryGiB": 8,
    "name": "ml.m5.large",
    "vcpuNum": 2
   },
   {
    "_defaultOrder": 5,
    "_isFastLaunch": false,
    "category": "General purpose",
    "gpuNum": 0,
    "hideHardwareSpecs": false,
    "memoryGiB": 16,
    "name": "ml.m5.xlarge",
    "vcpuNum": 4
   },
   {
    "_defaultOrder": 6,
    "_isFastLaunch": false,
    "category": "General purpose",
    "gpuNum": 0,
    "hideHardwareSpecs": false,
    "memoryGiB": 32,
    "name": "ml.m5.2xlarge",
    "vcpuNum": 8
   },
   {
    "_defaultOrder": 7,
    "_isFastLaunch": false,
    "category": "General purpose",
    "gpuNum": 0,
    "hideHardwareSpecs": false,
    "memoryGiB": 64,
    "name": "ml.m5.4xlarge",
    "vcpuNum": 16
   },
   {
    "_defaultOrder": 8,
    "_isFastLaunch": false,
    "category": "General purpose",
    "gpuNum": 0,
    "hideHardwareSpecs": false,
    "memoryGiB": 128,
    "name": "ml.m5.8xlarge",
    "vcpuNum": 32
   },
   {
    "_defaultOrder": 9,
    "_isFastLaunch": false,
    "category": "General purpose",
    "gpuNum": 0,
    "hideHardwareSpecs": false,
    "memoryGiB": 192,
    "name": "ml.m5.12xlarge",
    "vcpuNum": 48
   },
   {
    "_defaultOrder": 10,
    "_isFastLaunch": false,
    "category": "General purpose",
    "gpuNum": 0,
    "hideHardwareSpecs": false,
    "memoryGiB": 256,
    "name": "ml.m5.16xlarge",
    "vcpuNum": 64
   },
   {
    "_defaultOrder": 11,
    "_isFastLaunch": false,
    "category": "General purpose",
    "gpuNum": 0,
    "hideHardwareSpecs": false,
    "memoryGiB": 384,
    "name": "ml.m5.24xlarge",
    "vcpuNum": 96
   },
   {
    "_defaultOrder": 12,
    "_isFastLaunch": false,
    "category": "General purpose",
    "gpuNum": 0,
    "hideHardwareSpecs": false,
    "memoryGiB": 8,
    "name": "ml.m5d.large",
    "vcpuNum": 2
   },
   {
    "_defaultOrder": 13,
    "_isFastLaunch": false,
    "category": "General purpose",
    "gpuNum": 0,
    "hideHardwareSpecs": false,
    "memoryGiB": 16,
    "name": "ml.m5d.xlarge",
    "vcpuNum": 4
   },
   {
    "_defaultOrder": 14,
    "_isFastLaunch": false,
    "category": "General purpose",
    "gpuNum": 0,
    "hideHardwareSpecs": false,
    "memoryGiB": 32,
    "name": "ml.m5d.2xlarge",
    "vcpuNum": 8
   },
   {
    "_defaultOrder": 15,
    "_isFastLaunch": false,
    "category": "General purpose",
    "gpuNum": 0,
    "hideHardwareSpecs": false,
    "memoryGiB": 64,
    "name": "ml.m5d.4xlarge",
    "vcpuNum": 16
   },
   {
    "_defaultOrder": 16,
    "_isFastLaunch": false,
    "category": "General purpose",
    "gpuNum": 0,
    "hideHardwareSpecs": false,
    "memoryGiB": 128,
    "name": "ml.m5d.8xlarge",
    "vcpuNum": 32
   },
   {
    "_defaultOrder": 17,
    "_isFastLaunch": false,
    "category": "General purpose",
    "gpuNum": 0,
    "hideHardwareSpecs": false,
    "memoryGiB": 192,
    "name": "ml.m5d.12xlarge",
    "vcpuNum": 48
   },
   {
    "_defaultOrder": 18,
    "_isFastLaunch": false,
    "category": "General purpose",
    "gpuNum": 0,
    "hideHardwareSpecs": false,
    "memoryGiB": 256,
    "name": "ml.m5d.16xlarge",
    "vcpuNum": 64
   },
   {
    "_defaultOrder": 19,
    "_isFastLaunch": false,
    "category": "General purpose",
    "gpuNum": 0,
    "hideHardwareSpecs": false,
    "memoryGiB": 384,
    "name": "ml.m5d.24xlarge",
    "vcpuNum": 96
   },
   {
    "_defaultOrder": 20,
    "_isFastLaunch": false,
    "category": "General purpose",
    "gpuNum": 0,
    "hideHardwareSpecs": true,
    "memoryGiB": 0,
    "name": "ml.geospatial.interactive",
    "supportedImageNames": [
     "sagemaker-geospatial-v1-0"
    ],
    "vcpuNum": 0
   },
   {
    "_defaultOrder": 21,
    "_isFastLaunch": true,
    "category": "Compute optimized",
    "gpuNum": 0,
    "hideHardwareSpecs": false,
    "memoryGiB": 4,
    "name": "ml.c5.large",
    "vcpuNum": 2
   },
   {
    "_defaultOrder": 22,
    "_isFastLaunch": false,
    "category": "Compute optimized",
    "gpuNum": 0,
    "hideHardwareSpecs": false,
    "memoryGiB": 8,
    "name": "ml.c5.xlarge",
    "vcpuNum": 4
   },
   {
    "_defaultOrder": 23,
    "_isFastLaunch": false,
    "category": "Compute optimized",
    "gpuNum": 0,
    "hideHardwareSpecs": false,
    "memoryGiB": 16,
    "name": "ml.c5.2xlarge",
    "vcpuNum": 8
   },
   {
    "_defaultOrder": 24,
    "_isFastLaunch": false,
    "category": "Compute optimized",
    "gpuNum": 0,
    "hideHardwareSpecs": false,
    "memoryGiB": 32,
    "name": "ml.c5.4xlarge",
    "vcpuNum": 16
   },
   {
    "_defaultOrder": 25,
    "_isFastLaunch": false,
    "category": "Compute optimized",
    "gpuNum": 0,
    "hideHardwareSpecs": false,
    "memoryGiB": 72,
    "name": "ml.c5.9xlarge",
    "vcpuNum": 36
   },
   {
    "_defaultOrder": 26,
    "_isFastLaunch": false,
    "category": "Compute optimized",
    "gpuNum": 0,
    "hideHardwareSpecs": false,
    "memoryGiB": 96,
    "name": "ml.c5.12xlarge",
    "vcpuNum": 48
   },
   {
    "_defaultOrder": 27,
    "_isFastLaunch": false,
    "category": "Compute optimized",
    "gpuNum": 0,
    "hideHardwareSpecs": false,
    "memoryGiB": 144,
    "name": "ml.c5.18xlarge",
    "vcpuNum": 72
   },
   {
    "_defaultOrder": 28,
    "_isFastLaunch": false,
    "category": "Compute optimized",
    "gpuNum": 0,
    "hideHardwareSpecs": false,
    "memoryGiB": 192,
    "name": "ml.c5.24xlarge",
    "vcpuNum": 96
   },
   {
    "_defaultOrder": 29,
    "_isFastLaunch": true,
    "category": "Accelerated computing",
    "gpuNum": 1,
    "hideHardwareSpecs": false,
    "memoryGiB": 16,
    "name": "ml.g4dn.xlarge",
    "vcpuNum": 4
   },
   {
    "_defaultOrder": 30,
    "_isFastLaunch": false,
    "category": "Accelerated computing",
    "gpuNum": 1,
    "hideHardwareSpecs": false,
    "memoryGiB": 32,
    "name": "ml.g4dn.2xlarge",
    "vcpuNum": 8
   },
   {
    "_defaultOrder": 31,
    "_isFastLaunch": false,
    "category": "Accelerated computing",
    "gpuNum": 1,
    "hideHardwareSpecs": false,
    "memoryGiB": 64,
    "name": "ml.g4dn.4xlarge",
    "vcpuNum": 16
   },
   {
    "_defaultOrder": 32,
    "_isFastLaunch": false,
    "category": "Accelerated computing",
    "gpuNum": 1,
    "hideHardwareSpecs": false,
    "memoryGiB": 128,
    "name": "ml.g4dn.8xlarge",
    "vcpuNum": 32
   },
   {
    "_defaultOrder": 33,
    "_isFastLaunch": false,
    "category": "Accelerated computing",
    "gpuNum": 4,
    "hideHardwareSpecs": false,
    "memoryGiB": 192,
    "name": "ml.g4dn.12xlarge",
    "vcpuNum": 48
   },
   {
    "_defaultOrder": 34,
    "_isFastLaunch": false,
    "category": "Accelerated computing",
    "gpuNum": 1,
    "hideHardwareSpecs": false,
    "memoryGiB": 256,
    "name": "ml.g4dn.16xlarge",
    "vcpuNum": 64
   },
   {
    "_defaultOrder": 35,
    "_isFastLaunch": false,
    "category": "Accelerated computing",
    "gpuNum": 1,
    "hideHardwareSpecs": false,
    "memoryGiB": 61,
    "name": "ml.p3.2xlarge",
    "vcpuNum": 8
   },
   {
    "_defaultOrder": 36,
    "_isFastLaunch": false,
    "category": "Accelerated computing",
    "gpuNum": 4,
    "hideHardwareSpecs": false,
    "memoryGiB": 244,
    "name": "ml.p3.8xlarge",
    "vcpuNum": 32
   },
   {
    "_defaultOrder": 37,
    "_isFastLaunch": false,
    "category": "Accelerated computing",
    "gpuNum": 8,
    "hideHardwareSpecs": false,
    "memoryGiB": 488,
    "name": "ml.p3.16xlarge",
    "vcpuNum": 64
   },
   {
    "_defaultOrder": 38,
    "_isFastLaunch": false,
    "category": "Accelerated computing",
    "gpuNum": 8,
    "hideHardwareSpecs": false,
    "memoryGiB": 768,
    "name": "ml.p3dn.24xlarge",
    "vcpuNum": 96
   },
   {
    "_defaultOrder": 39,
    "_isFastLaunch": false,
    "category": "Memory Optimized",
    "gpuNum": 0,
    "hideHardwareSpecs": false,
    "memoryGiB": 16,
    "name": "ml.r5.large",
    "vcpuNum": 2
   },
   {
    "_defaultOrder": 40,
    "_isFastLaunch": false,
    "category": "Memory Optimized",
    "gpuNum": 0,
    "hideHardwareSpecs": false,
    "memoryGiB": 32,
    "name": "ml.r5.xlarge",
    "vcpuNum": 4
   },
   {
    "_defaultOrder": 41,
    "_isFastLaunch": false,
    "category": "Memory Optimized",
    "gpuNum": 0,
    "hideHardwareSpecs": false,
    "memoryGiB": 64,
    "name": "ml.r5.2xlarge",
    "vcpuNum": 8
   },
   {
    "_defaultOrder": 42,
    "_isFastLaunch": false,
    "category": "Memory Optimized",
    "gpuNum": 0,
    "hideHardwareSpecs": false,
    "memoryGiB": 128,
    "name": "ml.r5.4xlarge",
    "vcpuNum": 16
   },
   {
    "_defaultOrder": 43,
    "_isFastLaunch": false,
    "category": "Memory Optimized",
    "gpuNum": 0,
    "hideHardwareSpecs": false,
    "memoryGiB": 256,
    "name": "ml.r5.8xlarge",
    "vcpuNum": 32
   },
   {
    "_defaultOrder": 44,
    "_isFastLaunch": false,
    "category": "Memory Optimized",
    "gpuNum": 0,
    "hideHardwareSpecs": false,
    "memoryGiB": 384,
    "name": "ml.r5.12xlarge",
    "vcpuNum": 48
   },
   {
    "_defaultOrder": 45,
    "_isFastLaunch": false,
    "category": "Memory Optimized",
    "gpuNum": 0,
    "hideHardwareSpecs": false,
    "memoryGiB": 512,
    "name": "ml.r5.16xlarge",
    "vcpuNum": 64
   },
   {
    "_defaultOrder": 46,
    "_isFastLaunch": false,
    "category": "Memory Optimized",
    "gpuNum": 0,
    "hideHardwareSpecs": false,
    "memoryGiB": 768,
    "name": "ml.r5.24xlarge",
    "vcpuNum": 96
   },
   {
    "_defaultOrder": 47,
    "_isFastLaunch": false,
    "category": "Accelerated computing",
    "gpuNum": 1,
    "hideHardwareSpecs": false,
    "memoryGiB": 16,
    "name": "ml.g5.xlarge",
    "vcpuNum": 4
   },
   {
    "_defaultOrder": 48,
    "_isFastLaunch": false,
    "category": "Accelerated computing",
    "gpuNum": 1,
    "hideHardwareSpecs": false,
    "memoryGiB": 32,
    "name": "ml.g5.2xlarge",
    "vcpuNum": 8
   },
   {
    "_defaultOrder": 49,
    "_isFastLaunch": false,
    "category": "Accelerated computing",
    "gpuNum": 1,
    "hideHardwareSpecs": false,
    "memoryGiB": 64,
    "name": "ml.g5.4xlarge",
    "vcpuNum": 16
   },
   {
    "_defaultOrder": 50,
    "_isFastLaunch": false,
    "category": "Accelerated computing",
    "gpuNum": 1,
    "hideHardwareSpecs": false,
    "memoryGiB": 128,
    "name": "ml.g5.8xlarge",
    "vcpuNum": 32
   },
   {
    "_defaultOrder": 51,
    "_isFastLaunch": false,
    "category": "Accelerated computing",
    "gpuNum": 1,
    "hideHardwareSpecs": false,
    "memoryGiB": 256,
    "name": "ml.g5.16xlarge",
    "vcpuNum": 64
   },
   {
    "_defaultOrder": 52,
    "_isFastLaunch": false,
    "category": "Accelerated computing",
    "gpuNum": 4,
    "hideHardwareSpecs": false,
    "memoryGiB": 192,
    "name": "ml.g5.12xlarge",
    "vcpuNum": 48
   },
   {
    "_defaultOrder": 53,
    "_isFastLaunch": false,
    "category": "Accelerated computing",
    "gpuNum": 4,
    "hideHardwareSpecs": false,
    "memoryGiB": 384,
    "name": "ml.g5.24xlarge",
    "vcpuNum": 96
   },
   {
    "_defaultOrder": 54,
    "_isFastLaunch": false,
    "category": "Accelerated computing",
    "gpuNum": 8,
    "hideHardwareSpecs": false,
    "memoryGiB": 768,
    "name": "ml.g5.48xlarge",
    "vcpuNum": 192
   },
   {
    "_defaultOrder": 55,
    "_isFastLaunch": false,
    "category": "Accelerated computing",
    "gpuNum": 8,
    "hideHardwareSpecs": false,
    "memoryGiB": 1152,
    "name": "ml.p4d.24xlarge",
    "vcpuNum": 96
   },
   {
    "_defaultOrder": 56,
    "_isFastLaunch": false,
    "category": "Accelerated computing",
    "gpuNum": 8,
    "hideHardwareSpecs": false,
    "memoryGiB": 1152,
    "name": "ml.p4de.24xlarge",
    "vcpuNum": 96
   },
   {
    "_defaultOrder": 57,
    "_isFastLaunch": false,
    "category": "Accelerated computing",
    "gpuNum": 0,
    "hideHardwareSpecs": false,
    "memoryGiB": 32,
    "name": "ml.trn1.2xlarge",
    "vcpuNum": 8
   },
   {
    "_defaultOrder": 58,
    "_isFastLaunch": false,
    "category": "Accelerated computing",
    "gpuNum": 0,
    "hideHardwareSpecs": false,
    "memoryGiB": 512,
    "name": "ml.trn1.32xlarge",
    "vcpuNum": 128
   },
   {
    "_defaultOrder": 59,
    "_isFastLaunch": false,
    "category": "Accelerated computing",
    "gpuNum": 0,
    "hideHardwareSpecs": false,
    "memoryGiB": 512,
    "name": "ml.trn1n.32xlarge",
    "vcpuNum": 128
   }
  ],
  "instance_type": "ml.m5.12xlarge",
  "kernelspec": {
   "display_name": "Python 3 (Data Science 3.0)",
   "language": "python",
   "name": "python3__SAGEMAKER_INTERNAL__arn:aws:sagemaker:us-east-1:081325390199:image/sagemaker-data-science-310-v1"
  },
  "language_info": {
   "codemirror_mode": {
    "name": "ipython",
    "version": 3
   },
   "file_extension": ".py",
   "mimetype": "text/x-python",
   "name": "python",
   "nbconvert_exporter": "python",
   "pygments_lexer": "ipython3",
   "version": "3.10.6"
  }
 },
 "nbformat": 4,
 "nbformat_minor": 5
}
