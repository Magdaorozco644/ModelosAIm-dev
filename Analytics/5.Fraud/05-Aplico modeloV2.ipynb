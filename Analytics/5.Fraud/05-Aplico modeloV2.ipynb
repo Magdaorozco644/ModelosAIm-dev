{
 "cells": [
  {
   "cell_type": "code",
   "execution_count": 42,
   "id": "6d7a8b9e-72a0-4193-ab69-db7d0ad15fbe",
   "metadata": {
    "tags": []
   },
   "outputs": [
    {
     "name": "stdout",
     "output_type": "stream",
     "text": [
      "Requirement already satisfied: tabgan==1.3.3 in /home/ec2-user/anaconda3/envs/python3/lib/python3.10/site-packages (1.3.3)\n",
      "Requirement already satisfied: pandas in /home/ec2-user/anaconda3/envs/python3/lib/python3.10/site-packages (from tabgan==1.3.3) (2.2.2)\n",
      "Requirement already satisfied: numpy in /home/ec2-user/anaconda3/envs/python3/lib/python3.10/site-packages (from tabgan==1.3.3) (1.22.4)\n",
      "Requirement already satisfied: category-encoders in /home/ec2-user/anaconda3/envs/python3/lib/python3.10/site-packages (from tabgan==1.3.3) (2.6.3)\n",
      "Requirement already satisfied: torch>=1.0 in /home/ec2-user/anaconda3/envs/python3/lib/python3.10/site-packages (from tabgan==1.3.3) (2.3.0)\n",
      "Requirement already satisfied: lightgbm>=2.2.3 in /home/ec2-user/anaconda3/envs/python3/lib/python3.10/site-packages (from tabgan==1.3.3) (4.3.0)\n",
      "Requirement already satisfied: scikit-learn>=1.0.2 in /home/ec2-user/anaconda3/envs/python3/lib/python3.10/site-packages (from tabgan==1.3.3) (1.4.1.post1)\n",
      "Requirement already satisfied: torchvision in /home/ec2-user/anaconda3/envs/python3/lib/python3.10/site-packages (from tabgan==1.3.3) (0.18.0)\n",
      "Requirement already satisfied: python-dateutil in /home/ec2-user/anaconda3/envs/python3/lib/python3.10/site-packages (from tabgan==1.3.3) (2.9.0)\n",
      "Requirement already satisfied: tqdm in /home/ec2-user/anaconda3/envs/python3/lib/python3.10/site-packages (from tabgan==1.3.3) (4.66.2)\n",
      "Requirement already satisfied: scipy in /home/ec2-user/anaconda3/envs/python3/lib/python3.10/site-packages (from lightgbm>=2.2.3->tabgan==1.3.3) (1.11.4)\n",
      "Requirement already satisfied: joblib>=1.2.0 in /home/ec2-user/anaconda3/envs/python3/lib/python3.10/site-packages (from scikit-learn>=1.0.2->tabgan==1.3.3) (1.3.2)\n",
      "Requirement already satisfied: threadpoolctl>=2.0.0 in /home/ec2-user/anaconda3/envs/python3/lib/python3.10/site-packages (from scikit-learn>=1.0.2->tabgan==1.3.3) (3.4.0)\n",
      "Requirement already satisfied: filelock in /home/ec2-user/anaconda3/envs/python3/lib/python3.10/site-packages (from torch>=1.0->tabgan==1.3.3) (3.13.3)\n",
      "Requirement already satisfied: typing-extensions>=4.8.0 in /home/ec2-user/anaconda3/envs/python3/lib/python3.10/site-packages (from torch>=1.0->tabgan==1.3.3) (4.10.0)\n",
      "Requirement already satisfied: sympy in /home/ec2-user/anaconda3/envs/python3/lib/python3.10/site-packages (from torch>=1.0->tabgan==1.3.3) (1.12)\n",
      "Requirement already satisfied: networkx in /home/ec2-user/anaconda3/envs/python3/lib/python3.10/site-packages (from torch>=1.0->tabgan==1.3.3) (3.2.1)\n",
      "Requirement already satisfied: jinja2 in /home/ec2-user/anaconda3/envs/python3/lib/python3.10/site-packages (from torch>=1.0->tabgan==1.3.3) (3.1.3)\n",
      "Requirement already satisfied: fsspec in /home/ec2-user/anaconda3/envs/python3/lib/python3.10/site-packages (from torch>=1.0->tabgan==1.3.3) (2024.3.1)\n",
      "Requirement already satisfied: nvidia-cuda-nvrtc-cu12==12.1.105 in /home/ec2-user/anaconda3/envs/python3/lib/python3.10/site-packages (from torch>=1.0->tabgan==1.3.3) (12.1.105)\n",
      "Requirement already satisfied: nvidia-cuda-runtime-cu12==12.1.105 in /home/ec2-user/anaconda3/envs/python3/lib/python3.10/site-packages (from torch>=1.0->tabgan==1.3.3) (12.1.105)\n",
      "Requirement already satisfied: nvidia-cuda-cupti-cu12==12.1.105 in /home/ec2-user/anaconda3/envs/python3/lib/python3.10/site-packages (from torch>=1.0->tabgan==1.3.3) (12.1.105)\n",
      "Requirement already satisfied: nvidia-cudnn-cu12==8.9.2.26 in /home/ec2-user/anaconda3/envs/python3/lib/python3.10/site-packages (from torch>=1.0->tabgan==1.3.3) (8.9.2.26)\n",
      "Requirement already satisfied: nvidia-cublas-cu12==12.1.3.1 in /home/ec2-user/anaconda3/envs/python3/lib/python3.10/site-packages (from torch>=1.0->tabgan==1.3.3) (12.1.3.1)\n",
      "Requirement already satisfied: nvidia-cufft-cu12==11.0.2.54 in /home/ec2-user/anaconda3/envs/python3/lib/python3.10/site-packages (from torch>=1.0->tabgan==1.3.3) (11.0.2.54)\n",
      "Requirement already satisfied: nvidia-curand-cu12==10.3.2.106 in /home/ec2-user/anaconda3/envs/python3/lib/python3.10/site-packages (from torch>=1.0->tabgan==1.3.3) (10.3.2.106)\n",
      "Requirement already satisfied: nvidia-cusolver-cu12==11.4.5.107 in /home/ec2-user/anaconda3/envs/python3/lib/python3.10/site-packages (from torch>=1.0->tabgan==1.3.3) (11.4.5.107)\n",
      "Requirement already satisfied: nvidia-cusparse-cu12==12.1.0.106 in /home/ec2-user/anaconda3/envs/python3/lib/python3.10/site-packages (from torch>=1.0->tabgan==1.3.3) (12.1.0.106)\n",
      "Requirement already satisfied: nvidia-nccl-cu12==2.20.5 in /home/ec2-user/anaconda3/envs/python3/lib/python3.10/site-packages (from torch>=1.0->tabgan==1.3.3) (2.20.5)\n",
      "Requirement already satisfied: nvidia-nvtx-cu12==12.1.105 in /home/ec2-user/anaconda3/envs/python3/lib/python3.10/site-packages (from torch>=1.0->tabgan==1.3.3) (12.1.105)\n",
      "Requirement already satisfied: triton==2.3.0 in /home/ec2-user/anaconda3/envs/python3/lib/python3.10/site-packages (from torch>=1.0->tabgan==1.3.3) (2.3.0)\n",
      "Requirement already satisfied: nvidia-nvjitlink-cu12 in /home/ec2-user/anaconda3/envs/python3/lib/python3.10/site-packages (from nvidia-cusolver-cu12==11.4.5.107->torch>=1.0->tabgan==1.3.3) (12.5.40)\n",
      "Requirement already satisfied: statsmodels>=0.9.0 in /home/ec2-user/anaconda3/envs/python3/lib/python3.10/site-packages (from category-encoders->tabgan==1.3.3) (0.14.1)\n",
      "Requirement already satisfied: patsy>=0.5.1 in /home/ec2-user/anaconda3/envs/python3/lib/python3.10/site-packages (from category-encoders->tabgan==1.3.3) (0.5.6)\n",
      "Requirement already satisfied: pytz>=2020.1 in /home/ec2-user/anaconda3/envs/python3/lib/python3.10/site-packages (from pandas->tabgan==1.3.3) (2024.1)\n",
      "Requirement already satisfied: tzdata>=2022.7 in /home/ec2-user/anaconda3/envs/python3/lib/python3.10/site-packages (from pandas->tabgan==1.3.3) (2024.1)\n",
      "Requirement already satisfied: six>=1.5 in /home/ec2-user/anaconda3/envs/python3/lib/python3.10/site-packages (from python-dateutil->tabgan==1.3.3) (1.16.0)\n",
      "Requirement already satisfied: pillow!=8.3.*,>=5.3.0 in /home/ec2-user/anaconda3/envs/python3/lib/python3.10/site-packages (from torchvision->tabgan==1.3.3) (10.2.0)\n",
      "Requirement already satisfied: packaging>=21.3 in /home/ec2-user/anaconda3/envs/python3/lib/python3.10/site-packages (from statsmodels>=0.9.0->category-encoders->tabgan==1.3.3) (21.3)\n",
      "Requirement already satisfied: MarkupSafe>=2.0 in /home/ec2-user/anaconda3/envs/python3/lib/python3.10/site-packages (from jinja2->torch>=1.0->tabgan==1.3.3) (2.1.5)\n",
      "Requirement already satisfied: mpmath>=0.19 in /home/ec2-user/anaconda3/envs/python3/lib/python3.10/site-packages (from sympy->torch>=1.0->tabgan==1.3.3) (1.3.0)\n",
      "Requirement already satisfied: pyparsing!=3.0.5,>=2.0.2 in /home/ec2-user/anaconda3/envs/python3/lib/python3.10/site-packages (from packaging>=21.3->statsmodels>=0.9.0->category-encoders->tabgan==1.3.3) (3.1.2)\n",
      "Note: you may need to restart the kernel to use updated packages.\n"
     ]
    }
   ],
   "source": [
    "pip install tabgan==1.3.3"
   ]
  },
  {
   "cell_type": "code",
   "execution_count": 43,
   "id": "953314c2-00ff-441b-8da0-6a64b16bffc4",
   "metadata": {
    "tags": []
   },
   "outputs": [
    {
     "name": "stdout",
     "output_type": "stream",
     "text": [
      "Requirement already satisfied: lightgbm in /home/ec2-user/anaconda3/envs/python3/lib/python3.10/site-packages (4.3.0)\n",
      "Requirement already satisfied: numpy in /home/ec2-user/anaconda3/envs/python3/lib/python3.10/site-packages (from lightgbm) (1.22.4)\n",
      "Requirement already satisfied: scipy in /home/ec2-user/anaconda3/envs/python3/lib/python3.10/site-packages (from lightgbm) (1.11.4)\n"
     ]
    }
   ],
   "source": [
    "!pip install lightgbm"
   ]
  },
  {
   "cell_type": "code",
   "execution_count": 44,
   "id": "617f1ba0-6f66-47ad-b6b7-624f5c057c0b",
   "metadata": {
    "tags": []
   },
   "outputs": [
    {
     "name": "stdout",
     "output_type": "stream",
     "text": [
      "Requirement already satisfied: pandas in /home/ec2-user/anaconda3/envs/python3/lib/python3.10/site-packages (2.2.2)\n",
      "Requirement already satisfied: dask[complete] in /home/ec2-user/anaconda3/envs/python3/lib/python3.10/site-packages (2024.5.1)\n",
      "Requirement already satisfied: numpy>=1.22.4 in /home/ec2-user/anaconda3/envs/python3/lib/python3.10/site-packages (from pandas) (1.22.4)\n",
      "Requirement already satisfied: python-dateutil>=2.8.2 in /home/ec2-user/anaconda3/envs/python3/lib/python3.10/site-packages (from pandas) (2.9.0)\n",
      "Requirement already satisfied: pytz>=2020.1 in /home/ec2-user/anaconda3/envs/python3/lib/python3.10/site-packages (from pandas) (2024.1)\n",
      "Requirement already satisfied: tzdata>=2022.7 in /home/ec2-user/anaconda3/envs/python3/lib/python3.10/site-packages (from pandas) (2024.1)\n",
      "Requirement already satisfied: click>=8.1 in /home/ec2-user/anaconda3/envs/python3/lib/python3.10/site-packages (from dask[complete]) (8.1.7)\n",
      "Requirement already satisfied: cloudpickle>=1.5.0 in /home/ec2-user/anaconda3/envs/python3/lib/python3.10/site-packages (from dask[complete]) (2.2.1)\n",
      "Requirement already satisfied: fsspec>=2021.09.0 in /home/ec2-user/anaconda3/envs/python3/lib/python3.10/site-packages (from dask[complete]) (2024.3.1)\n",
      "Requirement already satisfied: packaging>=20.0 in /home/ec2-user/anaconda3/envs/python3/lib/python3.10/site-packages (from dask[complete]) (21.3)\n",
      "Requirement already satisfied: partd>=1.2.0 in /home/ec2-user/anaconda3/envs/python3/lib/python3.10/site-packages (from dask[complete]) (1.4.1)\n",
      "Requirement already satisfied: pyyaml>=5.3.1 in /home/ec2-user/anaconda3/envs/python3/lib/python3.10/site-packages (from dask[complete]) (6.0.1)\n",
      "Requirement already satisfied: toolz>=0.10.0 in /home/ec2-user/anaconda3/envs/python3/lib/python3.10/site-packages (from dask[complete]) (0.12.1)\n",
      "Requirement already satisfied: importlib-metadata>=4.13.0 in /home/ec2-user/anaconda3/envs/python3/lib/python3.10/site-packages (from dask[complete]) (6.11.0)\n",
      "Requirement already satisfied: pyarrow>=7.0 in /home/ec2-user/anaconda3/envs/python3/lib/python3.10/site-packages (from dask[complete]) (15.0.2)\n",
      "Requirement already satisfied: pyarrow-hotfix in /home/ec2-user/anaconda3/envs/python3/lib/python3.10/site-packages (from dask[complete]) (0.6)\n",
      "Requirement already satisfied: lz4>=4.3.2 in /home/ec2-user/anaconda3/envs/python3/lib/python3.10/site-packages (from dask[complete]) (4.3.3)\n",
      "Requirement already satisfied: zipp>=0.5 in /home/ec2-user/anaconda3/envs/python3/lib/python3.10/site-packages (from importlib-metadata>=4.13.0->dask[complete]) (3.17.0)\n",
      "Requirement already satisfied: pyparsing!=3.0.5,>=2.0.2 in /home/ec2-user/anaconda3/envs/python3/lib/python3.10/site-packages (from packaging>=20.0->dask[complete]) (3.1.2)\n",
      "Requirement already satisfied: locket in /home/ec2-user/anaconda3/envs/python3/lib/python3.10/site-packages (from partd>=1.2.0->dask[complete]) (1.0.0)\n",
      "Requirement already satisfied: six>=1.5 in /home/ec2-user/anaconda3/envs/python3/lib/python3.10/site-packages (from python-dateutil>=2.8.2->pandas) (1.16.0)\n",
      "Requirement already satisfied: distributed==2024.5.1 in /home/ec2-user/anaconda3/envs/python3/lib/python3.10/site-packages (from dask[complete]) (2024.5.1)\n",
      "Requirement already satisfied: bokeh>=2.4.2 in /home/ec2-user/anaconda3/envs/python3/lib/python3.10/site-packages (from dask[complete]) (3.4.0)\n",
      "Requirement already satisfied: jinja2>=2.10.3 in /home/ec2-user/anaconda3/envs/python3/lib/python3.10/site-packages (from dask[complete]) (3.1.3)\n",
      "Requirement already satisfied: dask-expr<1.2,>=1.1 in /home/ec2-user/anaconda3/envs/python3/lib/python3.10/site-packages (from dask[complete]) (1.1.1)\n",
      "Requirement already satisfied: msgpack>=1.0.0 in /home/ec2-user/anaconda3/envs/python3/lib/python3.10/site-packages (from distributed==2024.5.1->dask[complete]) (1.0.7)\n",
      "Requirement already satisfied: psutil>=5.7.2 in /home/ec2-user/anaconda3/envs/python3/lib/python3.10/site-packages (from distributed==2024.5.1->dask[complete]) (5.9.8)\n",
      "Requirement already satisfied: sortedcontainers>=2.0.5 in /home/ec2-user/anaconda3/envs/python3/lib/python3.10/site-packages (from distributed==2024.5.1->dask[complete]) (2.4.0)\n",
      "Requirement already satisfied: tblib>=1.6.0 in /home/ec2-user/anaconda3/envs/python3/lib/python3.10/site-packages (from distributed==2024.5.1->dask[complete]) (3.0.0)\n",
      "Requirement already satisfied: tornado>=6.0.4 in /home/ec2-user/anaconda3/envs/python3/lib/python3.10/site-packages (from distributed==2024.5.1->dask[complete]) (6.4)\n",
      "Requirement already satisfied: urllib3>=1.24.3 in /home/ec2-user/anaconda3/envs/python3/lib/python3.10/site-packages (from distributed==2024.5.1->dask[complete]) (2.2.1)\n",
      "Requirement already satisfied: zict>=3.0.0 in /home/ec2-user/anaconda3/envs/python3/lib/python3.10/site-packages (from distributed==2024.5.1->dask[complete]) (3.0.0)\n",
      "Requirement already satisfied: contourpy>=1.2 in /home/ec2-user/anaconda3/envs/python3/lib/python3.10/site-packages (from bokeh>=2.4.2->dask[complete]) (1.2.0)\n",
      "Requirement already satisfied: pillow>=7.1.0 in /home/ec2-user/anaconda3/envs/python3/lib/python3.10/site-packages (from bokeh>=2.4.2->dask[complete]) (10.2.0)\n",
      "Requirement already satisfied: xyzservices>=2021.09.1 in /home/ec2-user/anaconda3/envs/python3/lib/python3.10/site-packages (from bokeh>=2.4.2->dask[complete]) (2023.10.1)\n",
      "Requirement already satisfied: MarkupSafe>=2.0 in /home/ec2-user/anaconda3/envs/python3/lib/python3.10/site-packages (from jinja2>=2.10.3->dask[complete]) (2.1.5)\n",
      "Note: you may need to restart the kernel to use updated packages.\n"
     ]
    }
   ],
   "source": [
    "pip install --upgrade pandas \"dask[complete]\""
   ]
  },
  {
   "cell_type": "code",
   "execution_count": null,
   "id": "e7cc575d-524a-469c-b51b-e819f2e2962f",
   "metadata": {
    "tags": []
   },
   "outputs": [],
   "source": [
    "## librerias requeridas\n",
    "import numpy as np \n",
    "import pandas as pd\n",
    "import matplotlib.pyplot as plt\n",
    "import calendar\n",
    "import re\n",
    "from sklearn.metrics import confusion_matrix \n",
    "from sklearn.model_selection import train_test_split \n",
    "from sklearn.tree import DecisionTreeClassifier \n",
    "from sklearn.metrics import accuracy_score \n",
    "from sklearn.metrics import classification_report \n",
    "from sklearn.metrics import confusion_matrix\n",
    "from sklearn.metrics import precision_score, recall_score\n",
    "#from scikitplot.metrics import plot_roc\n",
    "from sklearn.metrics import roc_auc_score\n",
    "#from scikitplot.metrics import plot_lift_curve\n",
    "#from scikitplot.helpers import binary_ks_curve \n",
    "#from scikitplot.metrics import plot_ks_statistic\n",
    "#from scikitplot.helpers import cumulative_gain_curve\n",
    "from sklearn.ensemble import RandomForestClassifier\n",
    "from sklearn.model_selection import RandomizedSearchCV\n",
    "from lightgbm import LGBMClassifier\n",
    "from datetime import datetime, timedelta\n",
    "\n",
    "import pyarrow as pa\n",
    "import pyarrow.parquet as pq"
   ]
  },
  {
   "cell_type": "code",
   "execution_count": null,
   "id": "921e0913-ef57-42ea-a263-dc665fad3223",
   "metadata": {
    "tags": []
   },
   "outputs": [],
   "source": [
    "pd.set_option('display.max_columns', 500)\n",
    "pd.set_option('display.memory_usage', True)"
   ]
  },
  {
   "cell_type": "markdown",
   "id": "ab49af56-42da-4ace-a812-e0c257b6e39c",
   "metadata": {},
   "source": [
    "## Cargo el modelo y los datos a los que lo voy a aplicar "
   ]
  },
  {
   "cell_type": "code",
   "execution_count": null,
   "id": "745037a8-55e5-4eac-baff-94b455dcd950",
   "metadata": {
    "tags": []
   },
   "outputs": [],
   "source": [
    "import os\n",
    "os.getcwd()"
   ]
  },
  {
   "cell_type": "code",
   "execution_count": null,
   "id": "c1acd801-d2aa-4432-9b83-99f5079aac5a",
   "metadata": {
    "tags": []
   },
   "outputs": [],
   "source": [
    "import os\n",
    "import joblib\n",
    "# load model\n",
    "#modelo = joblib.load(\"Analytics/5.Fraud/ModeloV1Todos.pkl\") \n",
    "modelo = joblib.load(\"ModeloFinalLimpio.pkl\") \n",
    "variables = open('./ModeloFinalLimpio.txt','r')\n",
    "##ModeloV1T1"
   ]
  },
  {
   "cell_type": "code",
   "execution_count": null,
   "id": "e6854729-5a4e-4968-b2be-b818eb50aa5e",
   "metadata": {
    "tags": []
   },
   "outputs": [],
   "source": [
    "modelo"
   ]
  },
  {
   "cell_type": "markdown",
   "id": "65699429-61ff-4b45-91a8-b0c16bf46cac",
   "metadata": {
    "tags": []
   },
   "source": [
    "# Veo si puedo sacar los nombres directo del modelo q cargue\n"
   ]
  },
  {
   "cell_type": "code",
   "execution_count": null,
   "id": "2708386d-41fa-41b4-8eee-972a05414218",
   "metadata": {
    "tags": []
   },
   "outputs": [],
   "source": [
    "#variables = open('./ModeloFinal2.txt','r')\n",
    "#var_input = variables.read()"
   ]
  },
  {
   "cell_type": "code",
   "execution_count": null,
   "id": "6d8edaac-730e-420a-a70d-9ffb658fb68e",
   "metadata": {
    "tags": []
   },
   "outputs": [],
   "source": [
    "var_input = ['branch_minutes_since_last_transaction',\n",
    "    'branch_trans_3m',  'branch_has_fraud',  \n",
    "    'branch_trans_40min', 'branch_trans_10min', 'cash_pick_up_40min', \n",
    "    'location_nro_fraud', 'sender_trans_3m', \n",
    "    'sender_nro_fraud','01_isMexico', \n",
    "    '01_sender_branch_state', '01_var_range_hist', \n",
    "    '01_branch_fraud', '01_location_fraud', '01_sender_fraud', \n",
    "    '01_isCashPick', '01_isBankDep', \n",
    "    'sender_days_to_last_transaction_more7m', \n",
    "    '01_receiver_transaction_count','01_sender_sending_days',\n",
    "    '01_branch_working_days', '01_net_amount_receiver', \n",
    "    '01_sender_minutes_since_last_transaction_2days', \n",
    "    '01_sender_days_to_last_transaction_365', \n",
    "    '01_sender_days_to_last_transaction_7m', '01_hour_receiver']"
   ]
  },
  {
   "cell_type": "code",
   "execution_count": null,
   "id": "3885fb29-2fad-401d-80be-eb237b7f328b",
   "metadata": {},
   "outputs": [],
   "source": [
    "s3_url = f\"viamericas-datalake-dev-us-east-1-283731589572-raw/FraudModel/Data4Model/TargetTodos\"\n",
    "dfTrain = pd.read_parquet(f\"s3://{s3_url}/Train/Train.parquet\")\n",
    "tgTrain = dfTrain['target']\n",
    "\n",
    "dfVal = pd.read_parquet(f\"s3://{s3_url}/Validation/Validation.parquet\")\n",
    "tgVal = dfVal['target']\n",
    "\n",
    "#Uni test y Val\n",
    "#X = pd.concat([dfTrain[var_input], dfVal[var_input]], ignore_index=True) \n",
    "X = pd.concat([dfTrain, dfVal], ignore_index=True) \n",
    "Y = pd.DataFrame(pd.concat([dfTrain['target'], dfVal['target']], ignore_index=True)) \n",
    "\n",
    "dias_target = ['day_name_receiver_0', 'day_name_receiver_1',\n",
    "       'day_name_receiver_2', 'day_name_receiver_3',\n",
    "       'day_name_receiver_4', 'day_name_receiver_5',\n",
    "       'day_name_receiver_6','target']\n",
    "\n",
    "testeo =  pd.concat([X, Y], axis=1)\n",
    "Y_target = pd.DataFrame(pd.concat([dfTrain[dias_target], dfVal[dias_target]], ignore_index=True)) "
   ]
  },
  {
   "cell_type": "code",
   "execution_count": null,
   "id": "0e34d6df-7a22-4ada-a4f5-094cf17373d8",
   "metadata": {
    "tags": []
   },
   "outputs": [],
   "source": [
    "testeo[var_input]"
   ]
  },
  {
   "cell_type": "code",
   "execution_count": null,
   "id": "b79231c7-6ee6-4f67-ae6e-e56ccdc2625f",
   "metadata": {},
   "outputs": [],
   "source": [
    "# Prediciendo la variable objetivo para el conjunto de datos de prueba 'X_TESTEO' utilizando el clasificador LightGBM\n",
    "testeo_data_pred_rf = modelo.predict(testeo[var_input])\n",
    "\n",
    "# Prediciendo las probabilidades de clase para cada observación en 'X_TESTEO' utilizando el clasificador LightGBM\n",
    "probab_rf = modelo.predict_proba(testeo[var_input])\n",
    "\n",
    "# Eliminando la primera columna (se asume que son las probabilidades de la clase negativa) de las probabilidades predichas\n",
    "# Se asume que la segunda columna contiene las probabilidades para la clase positiva\n",
    "score_rf = np.delete(probab_rf, np.s_[0], axis=1)\n",
    "\n",
    "# Creando una copia del DataFrame 'Y_c' para preservar los datos originales\n",
    "Y_c = Y_target.copy()\n",
    "\n",
    "# Agregando una nueva columna 'preds_rf' al DataFrame copiado con las predicciones del clasificador LightGBM\n",
    "Y_c['preds_rf'] = testeo_data_pred_rf\n",
    "\n",
    "# Agregando una nueva columna 'score_rf' al DataFrame copiado con las probabilidades de la clase positiva\n",
    "Y_c['score_rf'] = score_rf\n",
    "\n",
    "#Calculo el primer percentil para sacar el punto de corte\n",
    "percentiles = pd.qcut(Y_c['score_rf'], q=1000, duplicates='drop')\n",
    "percentile_label = {p: l for l, p in enumerate(sorted(percentiles.unique(), reverse=True), start=1)}\n",
    "percentiles = percentiles.map(percentile_label)\n",
    "Y_c['FRAUD_DECILE'] = np.nan\n",
    "Y_c['FRAUD_DECILE'] = percentiles\n",
    "Y_c['FRAUD_DECILE'] = Y_c['FRAUD_DECILE'].astype('Int32')\n"
   ]
  },
  {
   "cell_type": "code",
   "execution_count": null,
   "id": "f5509bbb-aa34-4801-9191-5877610e2355",
   "metadata": {},
   "outputs": [],
   "source": [
    "#saco el punto de corte del primer centil para aplicarlo al test\n",
    "corte2 = Y_c.score_rf[Y_c['FRAUD_DECILE']==4].min()\n",
    "corte = Y_c.score_rf[Y_c['FRAUD_DECILE']==1].min()"
   ]
  },
  {
   "cell_type": "code",
   "execution_count": null,
   "id": "1b27689b-3f6e-443e-b79b-28d4d1565369",
   "metadata": {},
   "outputs": [],
   "source": [
    "import lightgbm as lgb\n",
    "lgb.plot_importance(modelo, importance_type=\"gain\", figsize=(7,6), title=\"LightGBM Feature Importance (Gain)\")\n",
    "plt.show()"
   ]
  },
  {
   "cell_type": "code",
   "execution_count": null,
   "id": "05e1f54e-cb2c-45fb-84c0-b44631723584",
   "metadata": {},
   "outputs": [],
   "source": [
    "# Plot feature importance using Split\n",
    "lgb.plot_importance(modelo, importance_type=\"split\", figsize=(7,6), title=\"LightGBM Feature Importance (Split)\")\n",
    "plt.show()"
   ]
  },
  {
   "cell_type": "code",
   "execution_count": null,
   "id": "1966d9f2-10de-4de7-b520-e6d25bbb16d8",
   "metadata": {},
   "outputs": [],
   "source": [
    "# Save feature importance in text file\n",
    "# Importance is measured in terms of gain according to LightGBM classifier\n",
    "#np.savetxt('./ModeloFinalImp2.txt', modelo.booster_.feature_importance(importance_type='split'),fmt='%f')\n",
    "#np.savetxt('./ModeloFinalImpG2.txt', modelo.booster_.feature_importance(importance_type='gain'),fmt='%f')"
   ]
  },
  {
   "cell_type": "code",
   "execution_count": null,
   "id": "bbcf8cf5-bfce-43e8-b96b-ab72c67caae1",
   "metadata": {
    "tags": []
   },
   "outputs": [],
   "source": [
    "#Pongo el archivo q quiero testear\n",
    "#s3_url = f\"viamericas-datalake-dev-us-east-1-283731589572-raw/FraudModel/Data4Model/TargetTodos\"\n",
    "#tes = pd.read_parquet(f\"s3://{s3_url}/Data2024/Data2024.parquet\")\n",
    "s3_url = f\"viamericas-datalake-dev-us-east-1-283731589572-raw/FraudModel/Data4Model\"\n",
    "tes = pd.read_parquet(f\"s3://{s3_url}/TargetTodos/Test/Test.parquet\")\n",
    "\n",
    "##lista de variables de input\n",
    "X = tes[var_input]\n",
    "Y = tes[['target']]\n",
    "\n",
    "#testeo = pd.concat([testeo, tes], axis = 0, ignore_index=True)\n",
    "#Y_target = pd.DataFrame(pd.concat([dfTrain[dias_target], dfVal[dias_target], tes[dias_target]], ignore_index=True)) \n",
    "testeo =  tes.copy()\n",
    "Y_target = pd.DataFrame(tes[dias_target]) "
   ]
  },
  {
   "cell_type": "code",
   "execution_count": null,
   "id": "5c4a69f4-6b1d-47ae-8fa5-b46666153b17",
   "metadata": {
    "tags": []
   },
   "outputs": [],
   "source": [
    "def limpiar_nombres_columnas(dataframe):\n",
    "    \"\"\"\n",
    "    Limpia y estandariza los nombres de las columnas en un DataFrame.\n",
    "\n",
    "    Parameters:\n",
    "    - dataframe: DataFrame de pandas.\n",
    "\n",
    "    Returns:\n",
    "    - DataFrame con nombres de columnas limpios.\n",
    "    \"\"\"\n",
    "    dataframe = dataframe.rename(columns=lambda x: re.sub('[^A-Za-z0-9_]+', '', x))\n",
    "    return dataframe\n",
    "\n",
    "testeo = limpiar_nombres_columnas(testeo)"
   ]
  },
  {
   "cell_type": "code",
   "execution_count": null,
   "id": "91a52711-3c1e-451c-abbf-b986411a78a6",
   "metadata": {
    "tags": []
   },
   "outputs": [],
   "source": [
    "testeo['target'].value_counts(dropna=False)"
   ]
  },
  {
   "cell_type": "code",
   "execution_count": null,
   "id": "221d388b-ef0f-4574-b85f-8fcdf22ce12a",
   "metadata": {
    "tags": []
   },
   "outputs": [],
   "source": [
    "# Prediciendo la variable objetivo para el conjunto de datos de prueba 'X_TESTEO' utilizando el clasificador LightGBM\n",
    "testeo_data_pred_rf = modelo.predict(testeo[var_input])\n",
    "\n",
    "# Prediciendo las probabilidades de clase para cada observación en 'X_TESTEO' utilizando el clasificador LightGBM\n",
    "probab_rf = modelo.predict_proba(testeo[var_input])\n",
    "\n",
    "# Eliminando la primera columna (se asume que son las probabilidades de la clase negativa) de las probabilidades predichas\n",
    "# Se asume que la segunda columna contiene las probabilidades para la clase positiva\n",
    "score_rf = np.delete(probab_rf, np.s_[0], axis=1)\n"
   ]
  },
  {
   "cell_type": "code",
   "execution_count": null,
   "id": "36a64bf6-aae3-4748-b604-447cd84e8c5c",
   "metadata": {
    "tags": []
   },
   "outputs": [],
   "source": [
    "# Creando una copia del DataFrame 'Y_TESTEO' para preservar los datos originales\n",
    "Y_c = Y_target.copy()\n",
    "\n",
    "# Agregando una nueva columna 'preds_rf' al DataFrame copiado con las predicciones del clasificador LightGBM\n",
    "Y_c['preds_rf'] = testeo_data_pred_rf\n",
    "\n",
    "# Agregando una nueva columna 'score_rf' al DataFrame copiado con las probabilidades de la clase positiva\n",
    "Y_c['score_rf'] = score_rf"
   ]
  },
  {
   "cell_type": "code",
   "execution_count": null,
   "id": "1280ba11-c2c6-4479-91de-118b4acea27d",
   "metadata": {
    "tags": []
   },
   "outputs": [],
   "source": [
    "pd.DataFrame(confusion_matrix(Y_c['target'], Y_c['preds_rf']))"
   ]
  },
  {
   "cell_type": "code",
   "execution_count": null,
   "id": "e908559a-2680-4fe7-9ea3-52e91c33073c",
   "metadata": {
    "tags": []
   },
   "outputs": [],
   "source": [
    "corte"
   ]
  },
  {
   "cell_type": "code",
   "execution_count": null,
   "id": "95c3c857-7514-4ffb-9ec1-dfc7f27b7093",
   "metadata": {
    "tags": []
   },
   "outputs": [],
   "source": [
    "Y_c['pred_corte'] = Y_c['score_rf']>corte\n",
    "pd.DataFrame(confusion_matrix(Y_c['target'], Y_c['pred_corte']))"
   ]
  },
  {
   "cell_type": "code",
   "execution_count": null,
   "id": "fcf40120-75c8-40b0-949f-d055984fd157",
   "metadata": {
    "tags": []
   },
   "outputs": [],
   "source": [
    "#import seaborn as sns\n",
    "#sns.histplot(data = Y_c[Y_c['target'] == True], x='score_rf')"
   ]
  },
  {
   "cell_type": "code",
   "execution_count": null,
   "id": "82078cb0-b3eb-4e2c-9d21-8e44b50e3c64",
   "metadata": {
    "tags": []
   },
   "outputs": [],
   "source": [
    "# Dividir las predicciones en deciles y calcular la captura del 30% en el conjunto de entrenamiento\n",
    "percentiles = pd.qcut(Y_c['score_rf'], q=1000, duplicates='drop')\n",
    "percentile_label = {p: l for l, p in enumerate(sorted(percentiles.unique(), reverse=True), start=1)}\n",
    "percentiles = percentiles.map(percentile_label)\n",
    "Y_c['FRAUD_DECILE'] = np.nan\n",
    "Y_c['FRAUD_DECILE'] = percentiles\n",
    "Y_c['FRAUD_DECILE'] = Y_c['FRAUD_DECILE'].astype('Int32')\n",
    "print('FRAUD CAPTURA .04%:')\n",
    "print(sum(Y_c[Y_c['FRAUD_DECILE'] < 4]['target']) / sum(Y_c['target']))\n",
    "#Y_TESTEO_c.to_csv(r'./SCORES/primera_prueba.csv')"
   ]
  },
  {
   "cell_type": "code",
   "execution_count": null,
   "id": "63a736e9-9a70-4aae-ac6c-0e1aaf19964b",
   "metadata": {
    "tags": []
   },
   "outputs": [],
   "source": [
    "DECILES = pd.crosstab(Y_c['FRAUD_DECILE'], Y_c['target'])\n",
    "DECILES"
   ]
  },
  {
   "cell_type": "code",
   "execution_count": null,
   "id": "10d27442-719f-45a2-86f4-981f4503a9b4",
   "metadata": {
    "tags": []
   },
   "outputs": [],
   "source": [
    "Y_c[['score_rf','FRAUD_DECILE']].groupby(['FRAUD_DECILE']).agg({'score_rf': [ 'min', 'max']}) "
   ]
  },
  {
   "cell_type": "code",
   "execution_count": null,
   "id": "b0aa955e-d18b-4336-b1c2-48fea5389b80",
   "metadata": {
    "tags": []
   },
   "outputs": [],
   "source": [
    "tes_corte = testeo[Y_c['pred_corte']==True]\n",
    "Y_c_corte = Y_c[Y_c['pred_corte']==True]\n",
    "pd.crosstab(tes_corte['date_receiver'].dt.month, Y_c_corte['target'])\n",
    "#pd.crosstab(testeo['date_receiver'].dt.month, Y_c['target'])"
   ]
  },
  {
   "cell_type": "code",
   "execution_count": null,
   "id": "c5c29ae5-50a8-4eb8-a07c-a46a45d79548",
   "metadata": {
    "tags": []
   },
   "outputs": [],
   "source": [
    "tes_corte.to_csv ('./Corte.csv')"
   ]
  },
  {
   "cell_type": "code",
   "execution_count": null,
   "id": "c80cff0a-a275-4086-816c-011041d2e473",
   "metadata": {
    "tags": []
   },
   "outputs": [],
   "source": [
    "deciles_semana = Y_c[['day_name_receiver_0', 'day_name_receiver_1',\n",
    "                   'day_name_receiver_2', 'day_name_receiver_3',\n",
    "                   'day_name_receiver_4', 'day_name_receiver_5',\n",
    "                   'day_name_receiver_6',\n",
    "                 'FRAUD_DECILE']].groupby(['FRAUD_DECILE']).sum()\n",
    "\n",
    "deciles_semana.head(10)"
   ]
  },
  {
   "cell_type": "code",
   "execution_count": null,
   "id": "ad98ed09-32fd-4162-95da-35d8aec65ce5",
   "metadata": {
    "tags": []
   },
   "outputs": [],
   "source": [
    "#DECILES.to_csv ('./deciles.csv')"
   ]
  },
  {
   "cell_type": "markdown",
   "id": "2c35f40f-e5dd-4509-9e9e-74f994fd3078",
   "metadata": {},
   "source": [
    "# Buckets para codificar Score"
   ]
  },
  {
   "cell_type": "code",
   "execution_count": null,
   "id": "d8edd65d-99f3-48ea-a0a4-23e717d3243d",
   "metadata": {
    "tags": []
   },
   "outputs": [],
   "source": [
    " Y_c['FRAUD_DECILE'].value_counts()"
   ]
  },
  {
   "cell_type": "code",
   "execution_count": null,
   "id": "398f326f-6299-47ec-8ad9-bc31ee88d9aa",
   "metadata": {
    "tags": []
   },
   "outputs": [],
   "source": [
    "#Guardo los puntos de corte para recodificar el score\n",
    "pd.options.display.float_format = \"{:,.20f}\".format\n",
    "Buckets = Y_c[['score_rf','FRAUD_DECILE']].groupby(['FRAUD_DECILE']).agg({'score_rf': [ 'min', 'max']}).stack(0, future_stack=True)\n",
    "Buckets = Buckets.reset_index()\n",
    "Buckets['final_score'] = 1-(Buckets['FRAUD_DECILE']/1000)\n",
    "Buckets[['FRAUD_DECILE','min','max','final_score']].to_csv ('./Buckets.csv')"
   ]
  },
  {
   "cell_type": "markdown",
   "id": "ece4d1ac-4beb-4821-b636-8a667ad23400",
   "metadata": {
    "tags": []
   },
   "source": [
    "Y_c['score_rf2'] = 0\n",
    "Y_c['score_rf2'] = Y_c['score_rf2'].astype(str) \n",
    "for i in range(Y_c.shape[0]):\n",
    "    a = Buckets.loc[(Y_c.loc[i,'score_rf'] <= Buckets['max']) & (Y_c.loc[i,'score_rf'] >= Buckets['min']), 'final_score'] \n",
    "    Y_c.loc[i,'score_rf2'] = a.item()"
   ]
  },
  {
   "cell_type": "code",
   "execution_count": null,
   "id": "987fef53-7e2b-4338-bee1-396ff8dbc8b2",
   "metadata": {
    "tags": []
   },
   "outputs": [],
   "source": [
    "#Y_c.loc[1,['score_rf2','FRAUD_DECILE']] "
   ]
  },
  {
   "cell_type": "code",
   "execution_count": null,
   "id": "0ba97e62-0532-4081-9477-ca06dd3b4b4f",
   "metadata": {
    "tags": []
   },
   "outputs": [],
   "source": [
    "Y_c.iloc[1]"
   ]
  },
  {
   "cell_type": "code",
   "execution_count": null,
   "id": "2bc8f26c-f586-4c5c-849c-33bf964fffbf",
   "metadata": {
    "tags": []
   },
   "outputs": [],
   "source": [
    "Buckets[Buckets['FRAUD_DECILE']==644]"
   ]
  },
  {
   "cell_type": "markdown",
   "id": "9d0d4b93-79b9-4afe-a79e-c16ed94fa112",
   "metadata": {},
   "source": [
    "## Curva ROC y FP"
   ]
  },
  {
   "cell_type": "code",
   "execution_count": null,
   "id": "53da44bf-1f07-46d5-9d2c-3a850552c352",
   "metadata": {
    "tags": []
   },
   "outputs": [],
   "source": [
    "pip install scikit-plot"
   ]
  },
  {
   "cell_type": "code",
   "execution_count": null,
   "id": "857322e4-51a3-47ee-ac1d-eeb65c8ba279",
   "metadata": {
    "tags": []
   },
   "outputs": [],
   "source": [
    "%pip install scipy==1.11.4"
   ]
  },
  {
   "cell_type": "code",
   "execution_count": null,
   "id": "4574c18a-7a7f-4733-b695-0a7aa0b4ce8b",
   "metadata": {},
   "outputs": [],
   "source": [
    "from sklearn.metrics import roc_auc_score\n",
    "from scikitplot.metrics import plot_roc\n",
    "from scikitplot.metrics import plot_lift_curve\n",
    "from scikitplot.helpers import binary_ks_curve\n",
    "from scikitplot.metrics import plot_ks_statistic\n",
    "from scikitplot.helpers import cumulative_gain_curve"
   ]
  },
  {
   "cell_type": "code",
   "execution_count": null,
   "id": "f677e08f-9b55-4500-8a20-82ad501cbd8c",
   "metadata": {
    "tags": []
   },
   "outputs": [],
   "source": [
    "# Calcular la curva de ganancia acumulativa y el LIFT del modelo en el conjunto de entrenamiento\n",
    "classes = np.unique(Y_c[['target']])\n",
    "percentages, gains = cumulative_gain_curve(Y_c[['target']], Y_c['score_rf'], classes[1])\n",
    "percentages = percentages[1:]\n",
    "gains = gains[1:]\n",
    "gains = gains / percentages\n",
    "indice = round(len(gains) * 0.1)\n",
    "print('LIFT FRAUD TESTEO:')\n",
    "print(gains[indice])\n",
    "\n",
    "# Calcular el área bajo la curva ROC del modelo en el conjunto de entrenamiento\n",
    "print('ROC FRAUD TESTEO:')\n",
    "print(roc_auc_score(Y_c[['target']], Y_c['preds_rf']))\n",
    "\n",
    "# Calcular la estadística KS del modelo en el conjunto de entrenamiento\n",
    "thresholds, pct1, pct2, ks_statistic, max_distance_at, classes = binary_ks_curve(Y_c[['target']], Y_c['score_rf'])\n",
    "print('KS FRAUD TESTEO:')\n",
    "print(ks_statistic)\n",
    "\n",
    "# Calcular la precisión y el recall del modelo en el conjunto de entrenamiento\n",
    "precision = precision_score(Y_c[['target']], Y_c['preds_rf'])\n",
    "recall = recall_score(Y_c[['target']], Y_c['preds_rf'])\n",
    "print('Precision FRAUD TESTEO:')\n",
    "print(precision)\n",
    "print('Recall FRAUD TESTEO:')\n",
    "print(recall)"
   ]
  },
  {
   "cell_type": "code",
   "execution_count": null,
   "id": "7eec55b0-055b-4296-8027-c692ff76c0bf",
   "metadata": {
    "tags": []
   },
   "outputs": [],
   "source": [
    "import scikitplot as skplt\n",
    "skplt.metrics.plot_cumulative_gain(y_true=Y_c[['target']], y_probas =  probab_rf)\n",
    "plt.show()"
   ]
  },
  {
   "cell_type": "code",
   "execution_count": null,
   "id": "4dac6ba5-dcbd-49b0-9bfa-b7743dd37180",
   "metadata": {
    "tags": []
   },
   "outputs": [],
   "source": [
    "from sklearn.metrics import RocCurveDisplay, roc_curve\n",
    "\n",
    "fpr, tpr, _ = roc_curve(Y_c[['target']], score_rf)\n",
    "roc_display = RocCurveDisplay(fpr=fpr, tpr=tpr).plot()"
   ]
  },
  {
   "cell_type": "code",
   "execution_count": null,
   "id": "f6a645b8-bfa4-44af-bb5e-8e48399e057f",
   "metadata": {
    "tags": []
   },
   "outputs": [],
   "source": [
    "precision, recall, thresholds = skplt.metrics.precision_recall_curve(Y_c[['target']], score_rf)\n",
    "plt.plot(precision, recall)"
   ]
  },
  {
   "cell_type": "code",
   "execution_count": null,
   "id": "7d66d6ba-a171-4b04-a477-1eb3e11c4d3f",
   "metadata": {
    "tags": []
   },
   "outputs": [],
   "source": [
    "plt.plot(recall, precision)"
   ]
  },
  {
   "cell_type": "markdown",
   "id": "6ef67fb4-6365-4ae6-95ff-745d71634e85",
   "metadata": {
    "tags": []
   },
   "source": [
    "## One given week"
   ]
  },
  {
   "cell_type": "code",
   "execution_count": null,
   "id": "9b7c701a-ee43-4e52-a8a5-a31ca64280d6",
   "metadata": {
    "tags": []
   },
   "outputs": [],
   "source": [
    "tes[tes['target']==True].head()"
   ]
  },
  {
   "cell_type": "code",
   "execution_count": null,
   "id": "e32e5786-5c3c-4bc7-9e9d-b86840cc7079",
   "metadata": {
    "tags": []
   },
   "outputs": [],
   "source": [
    "week_testigo = tes['date_receiver'].between('2024-01-01','2024-01-30')\n",
    "X_week_testigo = tes[week_testigo]\n",
    "Y_c_week_testigo = Y_c[week_testigo]\n",
    "\n",
    "week_testigo.sum(), X_week_testigo.shape, Y_c_week_testigo.shape"
   ]
  },
  {
   "cell_type": "code",
   "execution_count": null,
   "id": "1be6ba79-9b68-422e-9cbf-a06b210ef0e8",
   "metadata": {
    "tags": []
   },
   "outputs": [],
   "source": [
    "pd.crosstab(X_week_testigo['date_receiver'].dt.day, Y_c_week_testigo['target'])"
   ]
  },
  {
   "cell_type": "code",
   "execution_count": null,
   "id": "0615129b-d56c-43da-aaf2-ed3f0a9f059c",
   "metadata": {
    "tags": []
   },
   "outputs": [],
   "source": [
    "#Veo cuantos falsos positivos tengo con el punto de corte\n",
    "X_week_testigo_corte = X_week_testigo[Y_c_week_testigo['pred_corte']==True]\n",
    "Y_c_week_testigo_corte = Y_c_week_testigo[Y_c_week_testigo['pred_corte']==True]\n",
    "\n",
    "pd.crosstab(X_week_testigo_corte['date_receiver'].dt.day, Y_c_week_testigo_corte['target'])"
   ]
  },
  {
   "cell_type": "code",
   "execution_count": null,
   "id": "f6fb10f5-ce75-4347-99a9-0af1c8948a52",
   "metadata": {
    "tags": []
   },
   "outputs": [],
   "source": [
    "Tabla_Week = pd.DataFrame(pd.concat([X_week_testigo['date_receiver'].dt.day,X_week_testigo['fraud_classification'], \n",
    "                                     Y_c_week_testigo['FRAUD_DECILE'], Y_c_week_testigo['target']],axis=1))"
   ]
  },
  {
   "cell_type": "code",
   "execution_count": null,
   "id": "3c31436e-d336-4a51-ae2b-ec3079fb4248",
   "metadata": {
    "tags": []
   },
   "outputs": [],
   "source": [
    "Tabla_Week[Tabla_Week['target']==True]\n",
    "pd.crosstab(Tabla_Week.date_receiver, Tabla_Week.FRAUD_DECILE)"
   ]
  },
  {
   "cell_type": "code",
   "execution_count": null,
   "id": "46999824-12a8-4555-9e5e-42227604f8c3",
   "metadata": {
    "tags": []
   },
   "outputs": [],
   "source": [
    "\n",
    "pd.crosstab(Tabla_Week.date_receiver[Tabla_Week['target']==True], Tabla_Week.FRAUD_DECILE[Tabla_Week['target']==True])"
   ]
  },
  {
   "cell_type": "code",
   "execution_count": null,
   "id": "dc85d8de-f3ff-43ba-ab0b-1fca3b1b71f8",
   "metadata": {
    "tags": []
   },
   "outputs": [],
   "source": [
    "Tabla_Week.loc[Tabla_Week['target']==True,['date_receiver','fraud_classification','FRAUD_DECILE']]"
   ]
  },
  {
   "cell_type": "markdown",
   "id": "ede4ddb4-9aa3-4e8d-b4aa-c4c4a7794c40",
   "metadata": {},
   "source": [
    "# Analisis extra por cantidad FP"
   ]
  },
  {
   "cell_type": "code",
   "execution_count": null,
   "id": "f18a9526-d56c-4a9d-bd00-a6e9ac5a4f56",
   "metadata": {
    "tags": []
   },
   "outputs": [],
   "source": [
    "testeo.loc[(testeo['id_receiver'] ==30890) & (testeo['id_branch'] =='A14536')] \n",
    "#testeo['id_branch'] =='A14536'"
   ]
  },
  {
   "cell_type": "code",
   "execution_count": null,
   "id": "cf105249-5c72-4033-82bd-46268b4a5a3b",
   "metadata": {
    "tags": []
   },
   "outputs": [],
   "source": [
    "import seaborn as sns\n",
    "sns.histplot(data = tes_corte['date_receiver'].dt.floor('d'))"
   ]
  },
  {
   "cell_type": "code",
   "execution_count": null,
   "id": "32f957ec-65d6-4d1b-8abd-1deb9210af3f",
   "metadata": {
    "tags": []
   },
   "outputs": [],
   "source": [
    "sns.histplot(data = testeo['date_receiver'].dt.floor('d'))"
   ]
  },
  {
   "cell_type": "code",
   "execution_count": null,
   "id": "55d62875-831b-4632-9fd0-03f297558b57",
   "metadata": {
    "tags": []
   },
   "outputs": [],
   "source": [
    "\n",
    "Alertas_2024 = pd.crosstab(tes_corte['date_receiver'].dt.floor('d'), Y_c_corte['target'])\n",
    "Alertas_2024.to_csv ('./alertas2024.csv')"
   ]
  },
  {
   "cell_type": "code",
   "execution_count": null,
   "id": "62300a4a-10b1-4b2b-9c6e-07b860f767ff",
   "metadata": {
    "tags": []
   },
   "outputs": [],
   "source": [
    "testeo[testeo['mes']==1].describe()"
   ]
  },
  {
   "cell_type": "code",
   "execution_count": null,
   "id": "e9ca696c-35d1-46fb-838f-d355f161f8e0",
   "metadata": {
    "tags": []
   },
   "outputs": [],
   "source": [
    "testeo[testeo['mes']==3].describe()"
   ]
  },
  {
   "cell_type": "markdown",
   "id": "1120db80-3fbd-4848-8188-d4fd86205a36",
   "metadata": {
    "tags": []
   },
   "source": [
    "for var in var_input:\n",
    "    sns.histplot(data = tes_corte, x=var, hue = 'mes')\n",
    "    plt.show()"
   ]
  },
  {
   "cell_type": "code",
   "execution_count": null,
   "id": "b526de77-9252-4389-be79-0c0e253f03fb",
   "metadata": {
    "tags": []
   },
   "outputs": [],
   "source": [
    "week_fraude = tes['date_receiver'].between('2024-02-02','2024-02-11')\n",
    "X_fraude = tes[week_fraude]\n",
    "Y_c_fraude = Y_c[week_fraude]\n",
    "Y_c_fraude"
   ]
  },
  {
   "cell_type": "code",
   "execution_count": null,
   "id": "d7ad870e-3950-4b57-a657-0e848c54a15b",
   "metadata": {
    "tags": []
   },
   "outputs": [],
   "source": [
    "week_fraude = tes['date_receiver'].between('2024-03-21','2024-03-22')\n",
    "X_fraude = tes[week_fraude]\n",
    "Y_c_fraude = Y_c[week_fraude]\n",
    "X_fraude[Y_c_fraude['pred_corte']==True].sort_values(by=['id_branch'])"
   ]
  },
  {
   "cell_type": "code",
   "execution_count": null,
   "id": "6d983759-9902-4975-a6e2-5787891c2e49",
   "metadata": {
    "tags": []
   },
   "outputs": [],
   "source": [
    "#Y_c[tes['id_barnch'].str.contains('A24793')].sort_values(by=['id_receiver'])\n",
    "testeo.loc[(testeo['id_receiver'] ==5619) & (testeo['id_branch'] =='A24793')] "
   ]
  },
  {
   "cell_type": "code",
   "execution_count": null,
   "id": "f632c831-cf3c-4542-9cd1-e2d25cf3a27b",
   "metadata": {
    "tags": []
   },
   "outputs": [],
   "source": [
    "\n",
    "pd.crosstab(testeo.loc[Y_c['target']==True,'date_receiver'], Y_c.loc[Y_c['target']==True,'pred_corte'])\n"
   ]
  }
 ],
 "metadata": {
  "kernelspec": {
   "display_name": "conda_python3",
   "language": "python",
   "name": "conda_python3"
  },
  "language_info": {
   "codemirror_mode": {
    "name": "ipython",
    "version": 3
   },
   "file_extension": ".py",
   "mimetype": "text/x-python",
   "name": "python",
   "nbconvert_exporter": "python",
   "pygments_lexer": "ipython3",
   "version": "3.10.14"
  }
 },
 "nbformat": 4,
 "nbformat_minor": 5
}
