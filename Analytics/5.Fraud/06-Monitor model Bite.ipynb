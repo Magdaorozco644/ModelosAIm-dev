{
 "cells": [
  {
   "cell_type": "markdown",
   "id": "2495d2f5-7ecf-4c15-b230-a9f4c0cbf722",
   "metadata": {},
   "source": [
    "# Monitoring of model\n",
    " Evaluate model on data and obtain metrics of performance\n",
    " \n",
    "0. Load libraries\n",
    "1. Load model and data \n",
    "2. Run model on train data to get different thresholds\n",
    "3. Apply model on chosen dataset\n",
    "4. Analyse different thresholds\n",
    "5. ROC curve and FP\n",
    "6. Monthly overall alert analysis\n",
    "7. Monthly indicators\n",
    "8. Daily analysis\n",
    "9. Missing frauds"
   ]
  },
  {
   "cell_type": "markdown",
   "id": "3dfa5f0a-3921-4de1-86c1-4bcff01b4730",
   "metadata": {
    "tags": []
   },
   "source": [
    "## Load libraries"
   ]
  },
  {
   "cell_type": "code",
   "execution_count": 13,
   "id": "6d7a8b9e-72a0-4193-ab69-db7d0ad15fbe",
   "metadata": {
    "tags": []
   },
   "outputs": [
    {
     "name": "stdout",
     "output_type": "stream",
     "text": [
      "Requirement already satisfied: tabgan==1.3.3 in /home/ec2-user/anaconda3/envs/python3/lib/python3.10/site-packages (1.3.3)\n",
      "Requirement already satisfied: pandas in /home/ec2-user/anaconda3/envs/python3/lib/python3.10/site-packages (from tabgan==1.3.3) (2.2.2)\n",
      "Requirement already satisfied: numpy in /home/ec2-user/anaconda3/envs/python3/lib/python3.10/site-packages (from tabgan==1.3.3) (1.22.4)\n",
      "Requirement already satisfied: category-encoders in /home/ec2-user/anaconda3/envs/python3/lib/python3.10/site-packages (from tabgan==1.3.3) (2.6.3)\n",
      "Requirement already satisfied: torch>=1.0 in /home/ec2-user/anaconda3/envs/python3/lib/python3.10/site-packages (from tabgan==1.3.3) (2.3.1)\n",
      "Requirement already satisfied: lightgbm>=2.2.3 in /home/ec2-user/anaconda3/envs/python3/lib/python3.10/site-packages (from tabgan==1.3.3) (4.4.0)\n",
      "Requirement already satisfied: scikit-learn>=1.0.2 in /home/ec2-user/anaconda3/envs/python3/lib/python3.10/site-packages (from tabgan==1.3.3) (1.4.1.post1)\n",
      "Requirement already satisfied: torchvision in /home/ec2-user/anaconda3/envs/python3/lib/python3.10/site-packages (from tabgan==1.3.3) (0.18.1)\n",
      "Requirement already satisfied: python-dateutil in /home/ec2-user/anaconda3/envs/python3/lib/python3.10/site-packages (from tabgan==1.3.3) (2.9.0)\n",
      "Requirement already satisfied: tqdm in /home/ec2-user/anaconda3/envs/python3/lib/python3.10/site-packages (from tabgan==1.3.3) (4.66.2)\n",
      "Requirement already satisfied: scipy in /home/ec2-user/anaconda3/envs/python3/lib/python3.10/site-packages (from lightgbm>=2.2.3->tabgan==1.3.3) (1.11.4)\n",
      "Requirement already satisfied: joblib>=1.2.0 in /home/ec2-user/anaconda3/envs/python3/lib/python3.10/site-packages (from scikit-learn>=1.0.2->tabgan==1.3.3) (1.3.2)\n",
      "Requirement already satisfied: threadpoolctl>=2.0.0 in /home/ec2-user/anaconda3/envs/python3/lib/python3.10/site-packages (from scikit-learn>=1.0.2->tabgan==1.3.3) (3.4.0)\n",
      "Requirement already satisfied: filelock in /home/ec2-user/anaconda3/envs/python3/lib/python3.10/site-packages (from torch>=1.0->tabgan==1.3.3) (3.13.3)\n",
      "Requirement already satisfied: typing-extensions>=4.8.0 in /home/ec2-user/anaconda3/envs/python3/lib/python3.10/site-packages (from torch>=1.0->tabgan==1.3.3) (4.10.0)\n",
      "Requirement already satisfied: sympy in /home/ec2-user/anaconda3/envs/python3/lib/python3.10/site-packages (from torch>=1.0->tabgan==1.3.3) (1.12)\n",
      "Requirement already satisfied: networkx in /home/ec2-user/anaconda3/envs/python3/lib/python3.10/site-packages (from torch>=1.0->tabgan==1.3.3) (3.2.1)\n",
      "Requirement already satisfied: jinja2 in /home/ec2-user/anaconda3/envs/python3/lib/python3.10/site-packages (from torch>=1.0->tabgan==1.3.3) (3.1.3)\n",
      "Requirement already satisfied: fsspec in /home/ec2-user/anaconda3/envs/python3/lib/python3.10/site-packages (from torch>=1.0->tabgan==1.3.3) (2024.3.1)\n",
      "Requirement already satisfied: nvidia-cuda-nvrtc-cu12==12.1.105 in /home/ec2-user/anaconda3/envs/python3/lib/python3.10/site-packages (from torch>=1.0->tabgan==1.3.3) (12.1.105)\n",
      "Requirement already satisfied: nvidia-cuda-runtime-cu12==12.1.105 in /home/ec2-user/anaconda3/envs/python3/lib/python3.10/site-packages (from torch>=1.0->tabgan==1.3.3) (12.1.105)\n",
      "Requirement already satisfied: nvidia-cuda-cupti-cu12==12.1.105 in /home/ec2-user/anaconda3/envs/python3/lib/python3.10/site-packages (from torch>=1.0->tabgan==1.3.3) (12.1.105)\n",
      "Requirement already satisfied: nvidia-cudnn-cu12==8.9.2.26 in /home/ec2-user/anaconda3/envs/python3/lib/python3.10/site-packages (from torch>=1.0->tabgan==1.3.3) (8.9.2.26)\n",
      "Requirement already satisfied: nvidia-cublas-cu12==12.1.3.1 in /home/ec2-user/anaconda3/envs/python3/lib/python3.10/site-packages (from torch>=1.0->tabgan==1.3.3) (12.1.3.1)\n",
      "Requirement already satisfied: nvidia-cufft-cu12==11.0.2.54 in /home/ec2-user/anaconda3/envs/python3/lib/python3.10/site-packages (from torch>=1.0->tabgan==1.3.3) (11.0.2.54)\n",
      "Requirement already satisfied: nvidia-curand-cu12==10.3.2.106 in /home/ec2-user/anaconda3/envs/python3/lib/python3.10/site-packages (from torch>=1.0->tabgan==1.3.3) (10.3.2.106)\n",
      "Requirement already satisfied: nvidia-cusolver-cu12==11.4.5.107 in /home/ec2-user/anaconda3/envs/python3/lib/python3.10/site-packages (from torch>=1.0->tabgan==1.3.3) (11.4.5.107)\n",
      "Requirement already satisfied: nvidia-cusparse-cu12==12.1.0.106 in /home/ec2-user/anaconda3/envs/python3/lib/python3.10/site-packages (from torch>=1.0->tabgan==1.3.3) (12.1.0.106)\n",
      "Requirement already satisfied: nvidia-nccl-cu12==2.20.5 in /home/ec2-user/anaconda3/envs/python3/lib/python3.10/site-packages (from torch>=1.0->tabgan==1.3.3) (2.20.5)\n",
      "Requirement already satisfied: nvidia-nvtx-cu12==12.1.105 in /home/ec2-user/anaconda3/envs/python3/lib/python3.10/site-packages (from torch>=1.0->tabgan==1.3.3) (12.1.105)\n",
      "Requirement already satisfied: triton==2.3.1 in /home/ec2-user/anaconda3/envs/python3/lib/python3.10/site-packages (from torch>=1.0->tabgan==1.3.3) (2.3.1)\n",
      "Requirement already satisfied: nvidia-nvjitlink-cu12 in /home/ec2-user/anaconda3/envs/python3/lib/python3.10/site-packages (from nvidia-cusolver-cu12==11.4.5.107->torch>=1.0->tabgan==1.3.3) (12.5.82)\n",
      "Requirement already satisfied: statsmodels>=0.9.0 in /home/ec2-user/anaconda3/envs/python3/lib/python3.10/site-packages (from category-encoders->tabgan==1.3.3) (0.14.1)\n",
      "Requirement already satisfied: patsy>=0.5.1 in /home/ec2-user/anaconda3/envs/python3/lib/python3.10/site-packages (from category-encoders->tabgan==1.3.3) (0.5.6)\n",
      "Requirement already satisfied: pytz>=2020.1 in /home/ec2-user/anaconda3/envs/python3/lib/python3.10/site-packages (from pandas->tabgan==1.3.3) (2024.1)\n",
      "Requirement already satisfied: tzdata>=2022.7 in /home/ec2-user/anaconda3/envs/python3/lib/python3.10/site-packages (from pandas->tabgan==1.3.3) (2024.1)\n",
      "Requirement already satisfied: six>=1.5 in /home/ec2-user/anaconda3/envs/python3/lib/python3.10/site-packages (from python-dateutil->tabgan==1.3.3) (1.16.0)\n",
      "Requirement already satisfied: pillow!=8.3.*,>=5.3.0 in /home/ec2-user/anaconda3/envs/python3/lib/python3.10/site-packages (from torchvision->tabgan==1.3.3) (10.2.0)\n",
      "Requirement already satisfied: packaging>=21.3 in /home/ec2-user/anaconda3/envs/python3/lib/python3.10/site-packages (from statsmodels>=0.9.0->category-encoders->tabgan==1.3.3) (21.3)\n",
      "Requirement already satisfied: MarkupSafe>=2.0 in /home/ec2-user/anaconda3/envs/python3/lib/python3.10/site-packages (from jinja2->torch>=1.0->tabgan==1.3.3) (2.1.5)\n",
      "Requirement already satisfied: mpmath>=0.19 in /home/ec2-user/anaconda3/envs/python3/lib/python3.10/site-packages (from sympy->torch>=1.0->tabgan==1.3.3) (1.3.0)\n",
      "Requirement already satisfied: pyparsing!=3.0.5,>=2.0.2 in /home/ec2-user/anaconda3/envs/python3/lib/python3.10/site-packages (from packaging>=21.3->statsmodels>=0.9.0->category-encoders->tabgan==1.3.3) (3.1.2)\n",
      "Note: you may need to restart the kernel to use updated packages.\n"
     ]
    }
   ],
   "source": [
    "pip install tabgan==1.3.3"
   ]
  },
  {
   "cell_type": "code",
   "execution_count": 14,
   "id": "953314c2-00ff-441b-8da0-6a64b16bffc4",
   "metadata": {
    "tags": []
   },
   "outputs": [
    {
     "name": "stdout",
     "output_type": "stream",
     "text": [
      "Requirement already satisfied: lightgbm in /home/ec2-user/anaconda3/envs/python3/lib/python3.10/site-packages (4.4.0)\n",
      "Requirement already satisfied: numpy>=1.17.0 in /home/ec2-user/anaconda3/envs/python3/lib/python3.10/site-packages (from lightgbm) (1.22.4)\n",
      "Requirement already satisfied: scipy in /home/ec2-user/anaconda3/envs/python3/lib/python3.10/site-packages (from lightgbm) (1.11.4)\n"
     ]
    }
   ],
   "source": [
    "!pip install lightgbm"
   ]
  },
  {
   "cell_type": "code",
   "execution_count": 15,
   "id": "30f3a490-fab2-4536-af33-6ee81f151f53",
   "metadata": {
    "tags": []
   },
   "outputs": [
    {
     "name": "stdout",
     "output_type": "stream",
     "text": [
      "Requirement already satisfied: scikit-plot in /home/ec2-user/anaconda3/envs/python3/lib/python3.10/site-packages (0.3.7)\n",
      "Requirement already satisfied: matplotlib>=1.4.0 in /home/ec2-user/anaconda3/envs/python3/lib/python3.10/site-packages (from scikit-plot) (3.8.3)\n",
      "Requirement already satisfied: scikit-learn>=0.18 in /home/ec2-user/anaconda3/envs/python3/lib/python3.10/site-packages (from scikit-plot) (1.4.1.post1)\n",
      "Requirement already satisfied: scipy>=0.9 in /home/ec2-user/anaconda3/envs/python3/lib/python3.10/site-packages (from scikit-plot) (1.11.4)\n",
      "Requirement already satisfied: joblib>=0.10 in /home/ec2-user/anaconda3/envs/python3/lib/python3.10/site-packages (from scikit-plot) (1.3.2)\n",
      "Requirement already satisfied: contourpy>=1.0.1 in /home/ec2-user/anaconda3/envs/python3/lib/python3.10/site-packages (from matplotlib>=1.4.0->scikit-plot) (1.2.0)\n",
      "Requirement already satisfied: cycler>=0.10 in /home/ec2-user/anaconda3/envs/python3/lib/python3.10/site-packages (from matplotlib>=1.4.0->scikit-plot) (0.12.1)\n",
      "Requirement already satisfied: fonttools>=4.22.0 in /home/ec2-user/anaconda3/envs/python3/lib/python3.10/site-packages (from matplotlib>=1.4.0->scikit-plot) (4.50.0)\n",
      "Requirement already satisfied: kiwisolver>=1.3.1 in /home/ec2-user/anaconda3/envs/python3/lib/python3.10/site-packages (from matplotlib>=1.4.0->scikit-plot) (1.4.5)\n",
      "Requirement already satisfied: numpy<2,>=1.21 in /home/ec2-user/anaconda3/envs/python3/lib/python3.10/site-packages (from matplotlib>=1.4.0->scikit-plot) (1.22.4)\n",
      "Requirement already satisfied: packaging>=20.0 in /home/ec2-user/anaconda3/envs/python3/lib/python3.10/site-packages (from matplotlib>=1.4.0->scikit-plot) (21.3)\n",
      "Requirement already satisfied: pillow>=8 in /home/ec2-user/anaconda3/envs/python3/lib/python3.10/site-packages (from matplotlib>=1.4.0->scikit-plot) (10.2.0)\n",
      "Requirement already satisfied: pyparsing>=2.3.1 in /home/ec2-user/anaconda3/envs/python3/lib/python3.10/site-packages (from matplotlib>=1.4.0->scikit-plot) (3.1.2)\n",
      "Requirement already satisfied: python-dateutil>=2.7 in /home/ec2-user/anaconda3/envs/python3/lib/python3.10/site-packages (from matplotlib>=1.4.0->scikit-plot) (2.9.0)\n",
      "Requirement already satisfied: threadpoolctl>=2.0.0 in /home/ec2-user/anaconda3/envs/python3/lib/python3.10/site-packages (from scikit-learn>=0.18->scikit-plot) (3.4.0)\n",
      "Requirement already satisfied: six>=1.5 in /home/ec2-user/anaconda3/envs/python3/lib/python3.10/site-packages (from python-dateutil>=2.7->matplotlib>=1.4.0->scikit-plot) (1.16.0)\n",
      "Note: you may need to restart the kernel to use updated packages.\n"
     ]
    }
   ],
   "source": [
    "pip install scikit-plot"
   ]
  },
  {
   "cell_type": "code",
   "execution_count": 16,
   "id": "fcd0f832-11a9-4681-b8fe-d6e883e349f4",
   "metadata": {
    "tags": []
   },
   "outputs": [
    {
     "name": "stdout",
     "output_type": "stream",
     "text": [
      "Requirement already satisfied: scipy==1.11.4 in /home/ec2-user/anaconda3/envs/python3/lib/python3.10/site-packages (1.11.4)\n",
      "Requirement already satisfied: numpy<1.28.0,>=1.21.6 in /home/ec2-user/anaconda3/envs/python3/lib/python3.10/site-packages (from scipy==1.11.4) (1.22.4)\n",
      "Note: you may need to restart the kernel to use updated packages.\n"
     ]
    }
   ],
   "source": [
    "%pip install scipy==1.11.4"
   ]
  },
  {
   "cell_type": "code",
   "execution_count": 17,
   "id": "617f1ba0-6f66-47ad-b6b7-624f5c057c0b",
   "metadata": {
    "tags": []
   },
   "outputs": [
    {
     "name": "stdout",
     "output_type": "stream",
     "text": [
      "Requirement already satisfied: pandas in /home/ec2-user/anaconda3/envs/python3/lib/python3.10/site-packages (2.2.2)\n",
      "Requirement already satisfied: dask[complete] in /home/ec2-user/anaconda3/envs/python3/lib/python3.10/site-packages (2024.6.2)\n",
      "Requirement already satisfied: numpy>=1.22.4 in /home/ec2-user/anaconda3/envs/python3/lib/python3.10/site-packages (from pandas) (1.22.4)\n",
      "Requirement already satisfied: python-dateutil>=2.8.2 in /home/ec2-user/anaconda3/envs/python3/lib/python3.10/site-packages (from pandas) (2.9.0)\n",
      "Requirement already satisfied: pytz>=2020.1 in /home/ec2-user/anaconda3/envs/python3/lib/python3.10/site-packages (from pandas) (2024.1)\n",
      "Requirement already satisfied: tzdata>=2022.7 in /home/ec2-user/anaconda3/envs/python3/lib/python3.10/site-packages (from pandas) (2024.1)\n",
      "Requirement already satisfied: click>=8.1 in /home/ec2-user/anaconda3/envs/python3/lib/python3.10/site-packages (from dask[complete]) (8.1.7)\n",
      "Requirement already satisfied: cloudpickle>=1.5.0 in /home/ec2-user/anaconda3/envs/python3/lib/python3.10/site-packages (from dask[complete]) (2.2.1)\n",
      "Requirement already satisfied: fsspec>=2021.09.0 in /home/ec2-user/anaconda3/envs/python3/lib/python3.10/site-packages (from dask[complete]) (2024.3.1)\n",
      "Requirement already satisfied: packaging>=20.0 in /home/ec2-user/anaconda3/envs/python3/lib/python3.10/site-packages (from dask[complete]) (21.3)\n",
      "Requirement already satisfied: partd>=1.2.0 in /home/ec2-user/anaconda3/envs/python3/lib/python3.10/site-packages (from dask[complete]) (1.4.1)\n",
      "Requirement already satisfied: pyyaml>=5.3.1 in /home/ec2-user/anaconda3/envs/python3/lib/python3.10/site-packages (from dask[complete]) (6.0.1)\n",
      "Requirement already satisfied: toolz>=0.10.0 in /home/ec2-user/anaconda3/envs/python3/lib/python3.10/site-packages (from dask[complete]) (0.12.1)\n",
      "Requirement already satisfied: importlib-metadata>=4.13.0 in /home/ec2-user/anaconda3/envs/python3/lib/python3.10/site-packages (from dask[complete]) (6.11.0)\n",
      "Requirement already satisfied: pyarrow>=7.0 in /home/ec2-user/anaconda3/envs/python3/lib/python3.10/site-packages (from dask[complete]) (15.0.2)\n",
      "Requirement already satisfied: pyarrow-hotfix in /home/ec2-user/anaconda3/envs/python3/lib/python3.10/site-packages (from dask[complete]) (0.6)\n",
      "Requirement already satisfied: lz4>=4.3.2 in /home/ec2-user/anaconda3/envs/python3/lib/python3.10/site-packages (from dask[complete]) (4.3.3)\n",
      "Requirement already satisfied: zipp>=0.5 in /home/ec2-user/anaconda3/envs/python3/lib/python3.10/site-packages (from importlib-metadata>=4.13.0->dask[complete]) (3.17.0)\n",
      "Requirement already satisfied: pyparsing!=3.0.5,>=2.0.2 in /home/ec2-user/anaconda3/envs/python3/lib/python3.10/site-packages (from packaging>=20.0->dask[complete]) (3.1.2)\n",
      "Requirement already satisfied: locket in /home/ec2-user/anaconda3/envs/python3/lib/python3.10/site-packages (from partd>=1.2.0->dask[complete]) (1.0.0)\n",
      "Requirement already satisfied: six>=1.5 in /home/ec2-user/anaconda3/envs/python3/lib/python3.10/site-packages (from python-dateutil>=2.8.2->pandas) (1.16.0)\n",
      "Requirement already satisfied: distributed==2024.6.2 in /home/ec2-user/anaconda3/envs/python3/lib/python3.10/site-packages (from dask[complete]) (2024.6.2)\n",
      "Requirement already satisfied: dask-expr<1.2,>=1.1 in /home/ec2-user/anaconda3/envs/python3/lib/python3.10/site-packages (from dask[complete]) (1.1.6)\n",
      "Requirement already satisfied: bokeh>=2.4.2 in /home/ec2-user/anaconda3/envs/python3/lib/python3.10/site-packages (from dask[complete]) (3.4.0)\n",
      "Requirement already satisfied: jinja2>=2.10.3 in /home/ec2-user/anaconda3/envs/python3/lib/python3.10/site-packages (from dask[complete]) (3.1.3)\n",
      "Requirement already satisfied: msgpack>=1.0.0 in /home/ec2-user/anaconda3/envs/python3/lib/python3.10/site-packages (from distributed==2024.6.2->dask[complete]) (1.0.7)\n",
      "Requirement already satisfied: psutil>=5.7.2 in /home/ec2-user/anaconda3/envs/python3/lib/python3.10/site-packages (from distributed==2024.6.2->dask[complete]) (5.9.8)\n",
      "Requirement already satisfied: sortedcontainers>=2.0.5 in /home/ec2-user/anaconda3/envs/python3/lib/python3.10/site-packages (from distributed==2024.6.2->dask[complete]) (2.4.0)\n",
      "Requirement already satisfied: tblib>=1.6.0 in /home/ec2-user/anaconda3/envs/python3/lib/python3.10/site-packages (from distributed==2024.6.2->dask[complete]) (3.0.0)\n",
      "Requirement already satisfied: tornado>=6.0.4 in /home/ec2-user/anaconda3/envs/python3/lib/python3.10/site-packages (from distributed==2024.6.2->dask[complete]) (6.4)\n",
      "Requirement already satisfied: urllib3>=1.24.3 in /home/ec2-user/anaconda3/envs/python3/lib/python3.10/site-packages (from distributed==2024.6.2->dask[complete]) (2.2.1)\n",
      "Requirement already satisfied: zict>=3.0.0 in /home/ec2-user/anaconda3/envs/python3/lib/python3.10/site-packages (from distributed==2024.6.2->dask[complete]) (3.0.0)\n",
      "Requirement already satisfied: contourpy>=1.2 in /home/ec2-user/anaconda3/envs/python3/lib/python3.10/site-packages (from bokeh>=2.4.2->dask[complete]) (1.2.0)\n",
      "Requirement already satisfied: pillow>=7.1.0 in /home/ec2-user/anaconda3/envs/python3/lib/python3.10/site-packages (from bokeh>=2.4.2->dask[complete]) (10.2.0)\n",
      "Requirement already satisfied: xyzservices>=2021.09.1 in /home/ec2-user/anaconda3/envs/python3/lib/python3.10/site-packages (from bokeh>=2.4.2->dask[complete]) (2023.10.1)\n",
      "Requirement already satisfied: MarkupSafe>=2.0 in /home/ec2-user/anaconda3/envs/python3/lib/python3.10/site-packages (from jinja2>=2.10.3->dask[complete]) (2.1.5)\n",
      "Note: you may need to restart the kernel to use updated packages.\n"
     ]
    }
   ],
   "source": [
    "pip install --upgrade pandas \"dask[complete]\""
   ]
  },
  {
   "cell_type": "code",
   "execution_count": 18,
   "id": "e7cc575d-524a-469c-b51b-e819f2e2962f",
   "metadata": {
    "tags": []
   },
   "outputs": [],
   "source": [
    "## Required libraries\n",
    "import numpy as np \n",
    "import pandas as pd\n",
    "import matplotlib.pyplot as plt\n",
    "import calendar\n",
    "import re\n",
    "from sklearn.metrics import confusion_matrix \n",
    "from sklearn.model_selection import train_test_split \n",
    "from sklearn.tree import DecisionTreeClassifier \n",
    "from sklearn.metrics import accuracy_score \n",
    "from sklearn.metrics import classification_report \n",
    "from sklearn.metrics import confusion_matrix\n",
    "from sklearn.metrics import precision_score, recall_score\n",
    "from scikitplot.metrics import plot_roc\n",
    "from sklearn.metrics import roc_auc_score\n",
    "from scikitplot.metrics import plot_lift_curve\n",
    "from scikitplot.helpers import binary_ks_curve \n",
    "from scikitplot.metrics import plot_ks_statistic\n",
    "from scikitplot.helpers import cumulative_gain_curve\n",
    "from sklearn.ensemble import RandomForestClassifier\n",
    "from sklearn.model_selection import RandomizedSearchCV\n",
    "from lightgbm import LGBMClassifier\n",
    "from datetime import datetime, timedelta\n",
    "\n",
    "import pyarrow as pa\n",
    "import pyarrow.parquet as pq"
   ]
  },
  {
   "cell_type": "code",
   "execution_count": 19,
   "id": "921e0913-ef57-42ea-a263-dc665fad3223",
   "metadata": {
    "tags": []
   },
   "outputs": [],
   "source": [
    "pd.set_option('display.max_columns', 500)\n",
    "pd.set_option('display.memory_usage', True)"
   ]
  },
  {
   "cell_type": "markdown",
   "id": "ab49af56-42da-4ace-a812-e0c257b6e39c",
   "metadata": {},
   "source": [
    "## Load model and data use to train\n",
    "\n",
    "Load variables names from file"
   ]
  },
  {
   "cell_type": "code",
   "execution_count": 20,
   "id": "745037a8-55e5-4eac-baff-94b455dcd950",
   "metadata": {
    "tags": []
   },
   "outputs": [
    {
     "data": {
      "text/plain": [
       "'/home/ec2-user/SageMaker/viamericas-dev/Analytics/5.Fraud'"
      ]
     },
     "execution_count": 20,
     "metadata": {},
     "output_type": "execute_result"
    }
   ],
   "source": [
    "import os\n",
    "os.getcwd()"
   ]
  },
  {
   "cell_type": "code",
   "execution_count": 21,
   "id": "c1acd801-d2aa-4432-9b83-99f5079aac5a",
   "metadata": {
    "tags": []
   },
   "outputs": [],
   "source": [
    "import os\n",
    "import joblib\n",
    "# load model\n",
    "modelo = joblib.load(\"ModeloBiteRetrain.pkl\") \n",
    "variables = open('./ModeloBiteRetrain.txt','r')"
   ]
  },
  {
   "cell_type": "code",
   "execution_count": 22,
   "id": "e6854729-5a4e-4968-b2be-b818eb50aa5e",
   "metadata": {
    "tags": []
   },
   "outputs": [
    {
     "data": {
      "text/html": [
       "<style>#sk-container-id-2 {\n",
       "  /* Definition of color scheme common for light and dark mode */\n",
       "  --sklearn-color-text: black;\n",
       "  --sklearn-color-line: gray;\n",
       "  /* Definition of color scheme for unfitted estimators */\n",
       "  --sklearn-color-unfitted-level-0: #fff5e6;\n",
       "  --sklearn-color-unfitted-level-1: #f6e4d2;\n",
       "  --sklearn-color-unfitted-level-2: #ffe0b3;\n",
       "  --sklearn-color-unfitted-level-3: chocolate;\n",
       "  /* Definition of color scheme for fitted estimators */\n",
       "  --sklearn-color-fitted-level-0: #f0f8ff;\n",
       "  --sklearn-color-fitted-level-1: #d4ebff;\n",
       "  --sklearn-color-fitted-level-2: #b3dbfd;\n",
       "  --sklearn-color-fitted-level-3: cornflowerblue;\n",
       "\n",
       "  /* Specific color for light theme */\n",
       "  --sklearn-color-text-on-default-background: var(--sg-text-color, var(--theme-code-foreground, var(--jp-content-font-color1, black)));\n",
       "  --sklearn-color-background: var(--sg-background-color, var(--theme-background, var(--jp-layout-color0, white)));\n",
       "  --sklearn-color-border-box: var(--sg-text-color, var(--theme-code-foreground, var(--jp-content-font-color1, black)));\n",
       "  --sklearn-color-icon: #696969;\n",
       "\n",
       "  @media (prefers-color-scheme: dark) {\n",
       "    /* Redefinition of color scheme for dark theme */\n",
       "    --sklearn-color-text-on-default-background: var(--sg-text-color, var(--theme-code-foreground, var(--jp-content-font-color1, white)));\n",
       "    --sklearn-color-background: var(--sg-background-color, var(--theme-background, var(--jp-layout-color0, #111)));\n",
       "    --sklearn-color-border-box: var(--sg-text-color, var(--theme-code-foreground, var(--jp-content-font-color1, white)));\n",
       "    --sklearn-color-icon: #878787;\n",
       "  }\n",
       "}\n",
       "\n",
       "#sk-container-id-2 {\n",
       "  color: var(--sklearn-color-text);\n",
       "}\n",
       "\n",
       "#sk-container-id-2 pre {\n",
       "  padding: 0;\n",
       "}\n",
       "\n",
       "#sk-container-id-2 input.sk-hidden--visually {\n",
       "  border: 0;\n",
       "  clip: rect(1px 1px 1px 1px);\n",
       "  clip: rect(1px, 1px, 1px, 1px);\n",
       "  height: 1px;\n",
       "  margin: -1px;\n",
       "  overflow: hidden;\n",
       "  padding: 0;\n",
       "  position: absolute;\n",
       "  width: 1px;\n",
       "}\n",
       "\n",
       "#sk-container-id-2 div.sk-dashed-wrapped {\n",
       "  border: 1px dashed var(--sklearn-color-line);\n",
       "  margin: 0 0.4em 0.5em 0.4em;\n",
       "  box-sizing: border-box;\n",
       "  padding-bottom: 0.4em;\n",
       "  background-color: var(--sklearn-color-background);\n",
       "}\n",
       "\n",
       "#sk-container-id-2 div.sk-container {\n",
       "  /* jupyter's `normalize.less` sets `[hidden] { display: none; }`\n",
       "     but bootstrap.min.css set `[hidden] { display: none !important; }`\n",
       "     so we also need the `!important` here to be able to override the\n",
       "     default hidden behavior on the sphinx rendered scikit-learn.org.\n",
       "     See: https://github.com/scikit-learn/scikit-learn/issues/21755 */\n",
       "  display: inline-block !important;\n",
       "  position: relative;\n",
       "}\n",
       "\n",
       "#sk-container-id-2 div.sk-text-repr-fallback {\n",
       "  display: none;\n",
       "}\n",
       "\n",
       "div.sk-parallel-item,\n",
       "div.sk-serial,\n",
       "div.sk-item {\n",
       "  /* draw centered vertical line to link estimators */\n",
       "  background-image: linear-gradient(var(--sklearn-color-text-on-default-background), var(--sklearn-color-text-on-default-background));\n",
       "  background-size: 2px 100%;\n",
       "  background-repeat: no-repeat;\n",
       "  background-position: center center;\n",
       "}\n",
       "\n",
       "/* Parallel-specific style estimator block */\n",
       "\n",
       "#sk-container-id-2 div.sk-parallel-item::after {\n",
       "  content: \"\";\n",
       "  width: 100%;\n",
       "  border-bottom: 2px solid var(--sklearn-color-text-on-default-background);\n",
       "  flex-grow: 1;\n",
       "}\n",
       "\n",
       "#sk-container-id-2 div.sk-parallel {\n",
       "  display: flex;\n",
       "  align-items: stretch;\n",
       "  justify-content: center;\n",
       "  background-color: var(--sklearn-color-background);\n",
       "  position: relative;\n",
       "}\n",
       "\n",
       "#sk-container-id-2 div.sk-parallel-item {\n",
       "  display: flex;\n",
       "  flex-direction: column;\n",
       "}\n",
       "\n",
       "#sk-container-id-2 div.sk-parallel-item:first-child::after {\n",
       "  align-self: flex-end;\n",
       "  width: 50%;\n",
       "}\n",
       "\n",
       "#sk-container-id-2 div.sk-parallel-item:last-child::after {\n",
       "  align-self: flex-start;\n",
       "  width: 50%;\n",
       "}\n",
       "\n",
       "#sk-container-id-2 div.sk-parallel-item:only-child::after {\n",
       "  width: 0;\n",
       "}\n",
       "\n",
       "/* Serial-specific style estimator block */\n",
       "\n",
       "#sk-container-id-2 div.sk-serial {\n",
       "  display: flex;\n",
       "  flex-direction: column;\n",
       "  align-items: center;\n",
       "  background-color: var(--sklearn-color-background);\n",
       "  padding-right: 1em;\n",
       "  padding-left: 1em;\n",
       "}\n",
       "\n",
       "\n",
       "/* Toggleable style: style used for estimator/Pipeline/ColumnTransformer box that is\n",
       "clickable and can be expanded/collapsed.\n",
       "- Pipeline and ColumnTransformer use this feature and define the default style\n",
       "- Estimators will overwrite some part of the style using the `sk-estimator` class\n",
       "*/\n",
       "\n",
       "/* Pipeline and ColumnTransformer style (default) */\n",
       "\n",
       "#sk-container-id-2 div.sk-toggleable {\n",
       "  /* Default theme specific background. It is overwritten whether we have a\n",
       "  specific estimator or a Pipeline/ColumnTransformer */\n",
       "  background-color: var(--sklearn-color-background);\n",
       "}\n",
       "\n",
       "/* Toggleable label */\n",
       "#sk-container-id-2 label.sk-toggleable__label {\n",
       "  cursor: pointer;\n",
       "  display: block;\n",
       "  width: 100%;\n",
       "  margin-bottom: 0;\n",
       "  padding: 0.5em;\n",
       "  box-sizing: border-box;\n",
       "  text-align: center;\n",
       "}\n",
       "\n",
       "#sk-container-id-2 label.sk-toggleable__label-arrow:before {\n",
       "  /* Arrow on the left of the label */\n",
       "  content: \"▸\";\n",
       "  float: left;\n",
       "  margin-right: 0.25em;\n",
       "  color: var(--sklearn-color-icon);\n",
       "}\n",
       "\n",
       "#sk-container-id-2 label.sk-toggleable__label-arrow:hover:before {\n",
       "  color: var(--sklearn-color-text);\n",
       "}\n",
       "\n",
       "/* Toggleable content - dropdown */\n",
       "\n",
       "#sk-container-id-2 div.sk-toggleable__content {\n",
       "  max-height: 0;\n",
       "  max-width: 0;\n",
       "  overflow: hidden;\n",
       "  text-align: left;\n",
       "  /* unfitted */\n",
       "  background-color: var(--sklearn-color-unfitted-level-0);\n",
       "}\n",
       "\n",
       "#sk-container-id-2 div.sk-toggleable__content.fitted {\n",
       "  /* fitted */\n",
       "  background-color: var(--sklearn-color-fitted-level-0);\n",
       "}\n",
       "\n",
       "#sk-container-id-2 div.sk-toggleable__content pre {\n",
       "  margin: 0.2em;\n",
       "  border-radius: 0.25em;\n",
       "  color: var(--sklearn-color-text);\n",
       "  /* unfitted */\n",
       "  background-color: var(--sklearn-color-unfitted-level-0);\n",
       "}\n",
       "\n",
       "#sk-container-id-2 div.sk-toggleable__content.fitted pre {\n",
       "  /* unfitted */\n",
       "  background-color: var(--sklearn-color-fitted-level-0);\n",
       "}\n",
       "\n",
       "#sk-container-id-2 input.sk-toggleable__control:checked~div.sk-toggleable__content {\n",
       "  /* Expand drop-down */\n",
       "  max-height: 200px;\n",
       "  max-width: 100%;\n",
       "  overflow: auto;\n",
       "}\n",
       "\n",
       "#sk-container-id-2 input.sk-toggleable__control:checked~label.sk-toggleable__label-arrow:before {\n",
       "  content: \"▾\";\n",
       "}\n",
       "\n",
       "/* Pipeline/ColumnTransformer-specific style */\n",
       "\n",
       "#sk-container-id-2 div.sk-label input.sk-toggleable__control:checked~label.sk-toggleable__label {\n",
       "  color: var(--sklearn-color-text);\n",
       "  background-color: var(--sklearn-color-unfitted-level-2);\n",
       "}\n",
       "\n",
       "#sk-container-id-2 div.sk-label.fitted input.sk-toggleable__control:checked~label.sk-toggleable__label {\n",
       "  background-color: var(--sklearn-color-fitted-level-2);\n",
       "}\n",
       "\n",
       "/* Estimator-specific style */\n",
       "\n",
       "/* Colorize estimator box */\n",
       "#sk-container-id-2 div.sk-estimator input.sk-toggleable__control:checked~label.sk-toggleable__label {\n",
       "  /* unfitted */\n",
       "  background-color: var(--sklearn-color-unfitted-level-2);\n",
       "}\n",
       "\n",
       "#sk-container-id-2 div.sk-estimator.fitted input.sk-toggleable__control:checked~label.sk-toggleable__label {\n",
       "  /* fitted */\n",
       "  background-color: var(--sklearn-color-fitted-level-2);\n",
       "}\n",
       "\n",
       "#sk-container-id-2 div.sk-label label.sk-toggleable__label,\n",
       "#sk-container-id-2 div.sk-label label {\n",
       "  /* The background is the default theme color */\n",
       "  color: var(--sklearn-color-text-on-default-background);\n",
       "}\n",
       "\n",
       "/* On hover, darken the color of the background */\n",
       "#sk-container-id-2 div.sk-label:hover label.sk-toggleable__label {\n",
       "  color: var(--sklearn-color-text);\n",
       "  background-color: var(--sklearn-color-unfitted-level-2);\n",
       "}\n",
       "\n",
       "/* Label box, darken color on hover, fitted */\n",
       "#sk-container-id-2 div.sk-label.fitted:hover label.sk-toggleable__label.fitted {\n",
       "  color: var(--sklearn-color-text);\n",
       "  background-color: var(--sklearn-color-fitted-level-2);\n",
       "}\n",
       "\n",
       "/* Estimator label */\n",
       "\n",
       "#sk-container-id-2 div.sk-label label {\n",
       "  font-family: monospace;\n",
       "  font-weight: bold;\n",
       "  display: inline-block;\n",
       "  line-height: 1.2em;\n",
       "}\n",
       "\n",
       "#sk-container-id-2 div.sk-label-container {\n",
       "  text-align: center;\n",
       "}\n",
       "\n",
       "/* Estimator-specific */\n",
       "#sk-container-id-2 div.sk-estimator {\n",
       "  font-family: monospace;\n",
       "  border: 1px dotted var(--sklearn-color-border-box);\n",
       "  border-radius: 0.25em;\n",
       "  box-sizing: border-box;\n",
       "  margin-bottom: 0.5em;\n",
       "  /* unfitted */\n",
       "  background-color: var(--sklearn-color-unfitted-level-0);\n",
       "}\n",
       "\n",
       "#sk-container-id-2 div.sk-estimator.fitted {\n",
       "  /* fitted */\n",
       "  background-color: var(--sklearn-color-fitted-level-0);\n",
       "}\n",
       "\n",
       "/* on hover */\n",
       "#sk-container-id-2 div.sk-estimator:hover {\n",
       "  /* unfitted */\n",
       "  background-color: var(--sklearn-color-unfitted-level-2);\n",
       "}\n",
       "\n",
       "#sk-container-id-2 div.sk-estimator.fitted:hover {\n",
       "  /* fitted */\n",
       "  background-color: var(--sklearn-color-fitted-level-2);\n",
       "}\n",
       "\n",
       "/* Specification for estimator info (e.g. \"i\" and \"?\") */\n",
       "\n",
       "/* Common style for \"i\" and \"?\" */\n",
       "\n",
       ".sk-estimator-doc-link,\n",
       "a:link.sk-estimator-doc-link,\n",
       "a:visited.sk-estimator-doc-link {\n",
       "  float: right;\n",
       "  font-size: smaller;\n",
       "  line-height: 1em;\n",
       "  font-family: monospace;\n",
       "  background-color: var(--sklearn-color-background);\n",
       "  border-radius: 1em;\n",
       "  height: 1em;\n",
       "  width: 1em;\n",
       "  text-decoration: none !important;\n",
       "  margin-left: 1ex;\n",
       "  /* unfitted */\n",
       "  border: var(--sklearn-color-unfitted-level-1) 1pt solid;\n",
       "  color: var(--sklearn-color-unfitted-level-1);\n",
       "}\n",
       "\n",
       ".sk-estimator-doc-link.fitted,\n",
       "a:link.sk-estimator-doc-link.fitted,\n",
       "a:visited.sk-estimator-doc-link.fitted {\n",
       "  /* fitted */\n",
       "  border: var(--sklearn-color-fitted-level-1) 1pt solid;\n",
       "  color: var(--sklearn-color-fitted-level-1);\n",
       "}\n",
       "\n",
       "/* On hover */\n",
       "div.sk-estimator:hover .sk-estimator-doc-link:hover,\n",
       ".sk-estimator-doc-link:hover,\n",
       "div.sk-label-container:hover .sk-estimator-doc-link:hover,\n",
       ".sk-estimator-doc-link:hover {\n",
       "  /* unfitted */\n",
       "  background-color: var(--sklearn-color-unfitted-level-3);\n",
       "  color: var(--sklearn-color-background);\n",
       "  text-decoration: none;\n",
       "}\n",
       "\n",
       "div.sk-estimator.fitted:hover .sk-estimator-doc-link.fitted:hover,\n",
       ".sk-estimator-doc-link.fitted:hover,\n",
       "div.sk-label-container:hover .sk-estimator-doc-link.fitted:hover,\n",
       ".sk-estimator-doc-link.fitted:hover {\n",
       "  /* fitted */\n",
       "  background-color: var(--sklearn-color-fitted-level-3);\n",
       "  color: var(--sklearn-color-background);\n",
       "  text-decoration: none;\n",
       "}\n",
       "\n",
       "/* Span, style for the box shown on hovering the info icon */\n",
       ".sk-estimator-doc-link span {\n",
       "  display: none;\n",
       "  z-index: 9999;\n",
       "  position: relative;\n",
       "  font-weight: normal;\n",
       "  right: .2ex;\n",
       "  padding: .5ex;\n",
       "  margin: .5ex;\n",
       "  width: min-content;\n",
       "  min-width: 20ex;\n",
       "  max-width: 50ex;\n",
       "  color: var(--sklearn-color-text);\n",
       "  box-shadow: 2pt 2pt 4pt #999;\n",
       "  /* unfitted */\n",
       "  background: var(--sklearn-color-unfitted-level-0);\n",
       "  border: .5pt solid var(--sklearn-color-unfitted-level-3);\n",
       "}\n",
       "\n",
       ".sk-estimator-doc-link.fitted span {\n",
       "  /* fitted */\n",
       "  background: var(--sklearn-color-fitted-level-0);\n",
       "  border: var(--sklearn-color-fitted-level-3);\n",
       "}\n",
       "\n",
       ".sk-estimator-doc-link:hover span {\n",
       "  display: block;\n",
       "}\n",
       "\n",
       "/* \"?\"-specific style due to the `<a>` HTML tag */\n",
       "\n",
       "#sk-container-id-2 a.estimator_doc_link {\n",
       "  float: right;\n",
       "  font-size: 1rem;\n",
       "  line-height: 1em;\n",
       "  font-family: monospace;\n",
       "  background-color: var(--sklearn-color-background);\n",
       "  border-radius: 1rem;\n",
       "  height: 1rem;\n",
       "  width: 1rem;\n",
       "  text-decoration: none;\n",
       "  /* unfitted */\n",
       "  color: var(--sklearn-color-unfitted-level-1);\n",
       "  border: var(--sklearn-color-unfitted-level-1) 1pt solid;\n",
       "}\n",
       "\n",
       "#sk-container-id-2 a.estimator_doc_link.fitted {\n",
       "  /* fitted */\n",
       "  border: var(--sklearn-color-fitted-level-1) 1pt solid;\n",
       "  color: var(--sklearn-color-fitted-level-1);\n",
       "}\n",
       "\n",
       "/* On hover */\n",
       "#sk-container-id-2 a.estimator_doc_link:hover {\n",
       "  /* unfitted */\n",
       "  background-color: var(--sklearn-color-unfitted-level-3);\n",
       "  color: var(--sklearn-color-background);\n",
       "  text-decoration: none;\n",
       "}\n",
       "\n",
       "#sk-container-id-2 a.estimator_doc_link.fitted:hover {\n",
       "  /* fitted */\n",
       "  background-color: var(--sklearn-color-fitted-level-3);\n",
       "}\n",
       "</style><div id=\"sk-container-id-2\" class=\"sk-top-container\"><div class=\"sk-text-repr-fallback\"><pre>LGBMClassifier(colsample_bytree=0.84, importance_type=&#x27;gini&#x27;,\n",
       "               learning_rate=0.07, max_depth=20, min_child_weight=0.0026,\n",
       "               n_estimators=520, num_leaves=30, objective=&#x27;binary&#x27;,\n",
       "               scale_pos_weight=0.003, subsample=1)</pre><b>In a Jupyter environment, please rerun this cell to show the HTML representation or trust the notebook. <br />On GitHub, the HTML representation is unable to render, please try loading this page with nbviewer.org.</b></div><div class=\"sk-container\" hidden><div class=\"sk-item\"><div class=\"sk-estimator fitted sk-toggleable\"><input class=\"sk-toggleable__control sk-hidden--visually\" id=\"sk-estimator-id-2\" type=\"checkbox\" checked><label for=\"sk-estimator-id-2\" class=\"sk-toggleable__label fitted sk-toggleable__label-arrow fitted\">&nbsp;LGBMClassifier<span class=\"sk-estimator-doc-link fitted\">i<span>Fitted</span></span></label><div class=\"sk-toggleable__content fitted\"><pre>LGBMClassifier(colsample_bytree=0.84, importance_type=&#x27;gini&#x27;,\n",
       "               learning_rate=0.07, max_depth=20, min_child_weight=0.0026,\n",
       "               n_estimators=520, num_leaves=30, objective=&#x27;binary&#x27;,\n",
       "               scale_pos_weight=0.003, subsample=1)</pre></div> </div></div></div></div>"
      ],
      "text/plain": [
       "LGBMClassifier(colsample_bytree=0.84, importance_type='gini',\n",
       "               learning_rate=0.07, max_depth=20, min_child_weight=0.0026,\n",
       "               n_estimators=520, num_leaves=30, objective='binary',\n",
       "               scale_pos_weight=0.003, subsample=1)"
      ]
     },
     "execution_count": 22,
     "metadata": {},
     "output_type": "execute_result"
    }
   ],
   "source": [
    "modelo"
   ]
  },
  {
   "cell_type": "code",
   "execution_count": 23,
   "id": "2708386d-41fa-41b4-8eee-972a05414218",
   "metadata": {
    "tags": []
   },
   "outputs": [],
   "source": [
    "# Load variable names\n",
    "variables = open('./ModeloBiteRetrain.txt','r')\n",
    "var_input = variables.read()"
   ]
  },
  {
   "cell_type": "code",
   "execution_count": 24,
   "id": "f91f608a-a450-4312-b410-5c4da8481280",
   "metadata": {
    "tags": []
   },
   "outputs": [],
   "source": [
    "var_input = ['branch_minutes_since_last_transaction',\n",
    "    'branch_trans_3m',  'branch_has_fraud',  \n",
    "    'branch_trans_40min', 'branch_trans_10min', 'cash_pick_up_40min', \n",
    "    'location_nro_fraud', 'sender_trans_3m', \n",
    "    'sender_nro_fraud','01_isMexico', \n",
    "    '01_sender_branch_state', '01_var_range_hist', \n",
    "    '01_branch_fraud', '01_location_fraud',\n",
    "    '01_isCashPick', '01_isBankDep', \n",
    "    'sender_days_to_last_transaction_more7m', \n",
    "    'receiver_transaction_count','01_sender_sending_days',\n",
    "    'branch_working_days', '01_net_amount_receiver', \n",
    "    'sender_minutes_since_last_transaction_2days', \n",
    "    'sender_days_to_last_transaction_365', \n",
    "    'sender_days_to_last_transaction_7m', '01_hour_receiver']"
   ]
  },
  {
   "cell_type": "code",
   "execution_count": null,
   "id": "80201108-af38-4332-8de7-6c20afc8d401",
   "metadata": {
    "tags": []
   },
   "outputs": [],
   "source": [
    "# Loas data\n",
    "s3_url = f\"viamericas-datalake-dev-us-east-1-283731589572-raw/FraudModel/Data4Model/TargetTodosRetrain\"\n",
    "dfTrain = pd.read_parquet(f\"s3://{s3_url}/Train/Train.parquet\")\n",
    "tgTrain = dfTrain['target']\n",
    "\n",
    "dfVal = pd.read_parquet(f\"s3://{s3_url}/Validation/Validation.parquet\")\n",
    "tgVal = dfVal['target']\n",
    "\n",
    "#Join datasets loaded\n",
    "X = pd.concat([dfTrain, dfVal], ignore_index=True) \n",
    "Y = pd.DataFrame(pd.concat([dfTrain['target'], dfVal['target']], ignore_index=True)) \n",
    "\n",
    "dias_target = ['day_name_receiver_0', 'day_name_receiver_1',\n",
    "       'day_name_receiver_2', 'day_name_receiver_3',\n",
    "       'day_name_receiver_4', 'day_name_receiver_5',\n",
    "       'day_name_receiver_6','target']\n",
    "\n",
    "testeo =  pd.concat([X, Y], axis=1)\n",
    "Y_target = pd.DataFrame(pd.concat([dfTrain[dias_target], dfVal[dias_target]], ignore_index=True)) "
   ]
  },
  {
   "cell_type": "markdown",
   "id": "fab706cd-f191-4027-8ea1-d5fef8a7c39d",
   "metadata": {},
   "source": [
    "## Run model on train data to get different thresholds"
   ]
  },
  {
   "cell_type": "code",
   "execution_count": null,
   "id": "7a1346d5-011e-447a-8d27-e5846f3a7240",
   "metadata": {},
   "outputs": [],
   "source": [
    "# Predict using laoded model \n",
    "testeo_data_pred_rf = modelo.predict(testeo[var_input])\n",
    "\n",
    "# Get puntuations (predicted probailities) for the positive class (class 1)\n",
    "probab_rf = modelo.predict_proba(testeo[var_input])\n",
    "\n",
    "# Extract puntuations (probabilites) for positive class\n",
    "score_rf = np.delete(probab_rf, np.s_[0], axis=1)\n",
    "\n",
    "# Create a copy ot the labels for further analysis\n",
    "Y_c = Y_target.copy()\n",
    "\n",
    "# Set prediction and puntuationsof model for positive labels\n",
    "Y_c['preds_rf'] = testeo_data_pred_rf\n",
    "Y_c['score_rf'] = score_rf\n",
    "\n",
    "# Divide into tiles and compute cature al 0.02% for train/validation dataset\n",
    "percentiles = pd.qcut(Y_c['score_rf'], q=1000, duplicates='drop')\n",
    "percentile_label = {p: l for l, p in enumerate(sorted(percentiles.unique(), reverse=True), start=1)}\n",
    "percentiles = percentiles.map(percentile_label)\n",
    "Y_c['FRAUD_DECILE'] = np.nan\n",
    "Y_c['FRAUD_DECILE'] = percentiles\n",
    "Y_c['FRAUD_DECILE'] = Y_c['FRAUD_DECILE'].astype('Int32')"
   ]
  },
  {
   "cell_type": "code",
   "execution_count": null,
   "id": "b79231c7-6ee6-4f67-ae6e-e56ccdc2625f",
   "metadata": {
    "tags": []
   },
   "outputs": [],
   "source": [
    "#Get diferent threshold\n",
    "corte_01 = Y_c.score_rf[Y_c['FRAUD_DECILE']==1].min()\n",
    "corte_02 = Y_c.score_rf[Y_c['FRAUD_DECILE']==2].min()\n",
    "corte_03 = Y_c.score_rf[Y_c['FRAUD_DECILE']==3].min()\n",
    "corte_04 = Y_c.score_rf[Y_c['FRAUD_DECILE']==4].min()\n",
    "corte = Y_c.score_rf[Y_c['FRAUD_DECILE']==10].min()"
   ]
  },
  {
   "cell_type": "code",
   "execution_count": null,
   "id": "4c74416c-13a9-4c62-a7c1-3488d6c83532",
   "metadata": {
    "tags": []
   },
   "outputs": [],
   "source": [
    "Y_c['pred_corte'] = Y_c['score_rf']>corte_01\n",
    "pd.DataFrame(confusion_matrix(Y_c['target'], Y_c['pred_corte']))"
   ]
  },
  {
   "cell_type": "markdown",
   "id": "04bb0e6d-ee34-4a80-b63d-743896e1ce8b",
   "metadata": {},
   "source": [
    "## Apply model on chosen dataset"
   ]
  },
  {
   "cell_type": "code",
   "execution_count": null,
   "id": "bbcf8cf5-bfce-43e8-b96b-ab72c67caae1",
   "metadata": {
    "tags": []
   },
   "outputs": [],
   "source": [
    "s3_url = f\"viamericas-datalake-dev-us-east-1-283731589572-raw/FraudModel/Data4Model/TargetTodosRetrain\"\n",
    "tes = pd.read_parquet(f\"s3://{s3_url}/Test/Test.parquet\")\n",
    "\n",
    "testeo = pd.concat([X, tes], axis = 0, ignore_index=True)\n",
    "Y_target = pd.DataFrame(pd.concat([Y_target, tes[dias_target]], ignore_index=True)) "
   ]
  },
  {
   "cell_type": "code",
   "execution_count": null,
   "id": "77d85f74-e7b5-4e69-a340-041614ae9d6c",
   "metadata": {},
   "outputs": [],
   "source": [
    "#s3_url = f\"viamericas-datalake-dev-us-east-1-283731589572-raw/FraudModel/Data4Model/TargetTodosRetrain\"\n",
    "#tes = pd.read_parquet(f\"s3://{s3_url}/Data2024/Data2024.parquet\")\n",
    "\n",
    "#testeo = pd.concat([testeo, tes], axis = 0, ignore_index=True)\n",
    "#Y_target = pd.DataFrame(pd.concat([Y_target, tes[dias_target]], ignore_index=True)) "
   ]
  },
  {
   "cell_type": "code",
   "execution_count": null,
   "id": "5c4a69f4-6b1d-47ae-8fa5-b46666153b17",
   "metadata": {
    "tags": []
   },
   "outputs": [],
   "source": [
    "def limpiar_nombres_columnas(dataframe):\n",
    "    \"\"\"\n",
    "    Limpia y estandariza los nombres de las columnas en un DataFrame.\n",
    "\n",
    "    Parameters:\n",
    "    - dataframe: DataFrame de pandas.\n",
    "\n",
    "    Returns:\n",
    "    - DataFrame con nombres de columnas limpios.\n",
    "    \"\"\"\n",
    "    dataframe = dataframe.rename(columns=lambda x: re.sub('[^A-Za-z0-9_]+', '', x))\n",
    "    return dataframe\n",
    "\n",
    "testeo = limpiar_nombres_columnas(testeo)"
   ]
  },
  {
   "cell_type": "code",
   "execution_count": null,
   "id": "91a52711-3c1e-451c-abbf-b986411a78a6",
   "metadata": {
    "tags": []
   },
   "outputs": [],
   "source": [
    "# target distribution\n",
    "testeo['target'].value_counts(dropna=False)"
   ]
  },
  {
   "cell_type": "code",
   "execution_count": null,
   "id": "221d388b-ef0f-4574-b85f-8fcdf22ce12a",
   "metadata": {
    "tags": []
   },
   "outputs": [],
   "source": [
    "# Predict test using trained model\n",
    "testeo_data_pred_rf = modelo.predict(testeo[var_input])\n",
    "\n",
    "# Get puntuations (predicted probailities) for the positive class (class 1)\n",
    "probab_rf = modelo.predict_proba(testeo[var_input])\n",
    "\n",
    "# Extract puntuations (probabilites) for positive class\n",
    "# Assumes that second column has probabilites for positive class\n",
    "score_rf = np.delete(probab_rf, np.s_[0], axis=1)"
   ]
  },
  {
   "cell_type": "code",
   "execution_count": null,
   "id": "36a64bf6-aae3-4748-b604-447cd84e8c5c",
   "metadata": {
    "tags": []
   },
   "outputs": [],
   "source": [
    "# Create a copy DataFrame 'Y_TESTEO' to preserve original data and save prediction and score\n",
    "Y_c = Y_target.copy()\n",
    "\n",
    "Y_c['preds_rf'] = testeo_data_pred_rf\n",
    "Y_c['score_rf'] = score_rf"
   ]
  },
  {
   "cell_type": "code",
   "execution_count": null,
   "id": "95c3c857-7514-4ffb-9ec1-dfc7f27b7093",
   "metadata": {
    "tags": []
   },
   "outputs": [],
   "source": [
    "# confusion matrix for chosen threshold\n",
    "Y_c['pred_corte'] = Y_c['score_rf']>corte\n",
    "pd.DataFrame(confusion_matrix(Y_c['target'], Y_c['pred_corte']))"
   ]
  },
  {
   "cell_type": "markdown",
   "id": "db59ba7d-c0d5-4fe8-bc3d-9f7bfc114d37",
   "metadata": {},
   "source": [
    "## Analyse different thresholds"
   ]
  },
  {
   "cell_type": "code",
   "execution_count": null,
   "id": "2edd08a6-cdea-4318-ad24-1fe17f1293a0",
   "metadata": {
    "tags": []
   },
   "outputs": [],
   "source": [
    "testeo['date_receiver'].dt.month\n",
    "testeo['year'] = testeo['date_receiver'].dt.year\n",
    "Y_c['fraud_classification'] = testeo['fraud_classification']\n",
    "Y_c['targetF'] = (testeo['fraud_classification']=='Real')"
   ]
  },
  {
   "cell_type": "code",
   "execution_count": null,
   "id": "8f55c325-2d76-4416-977e-3ef3f8458fe1",
   "metadata": {
    "tags": []
   },
   "outputs": [],
   "source": [
    "# Total Fp in top 0.1%\n",
    "Y_c['pred_corte_01'] = Y_c['score_rf']>corte_01\n",
    "tes_corte_01 = testeo[Y_c['pred_corte_01']==True]\n",
    "Y_c_corte_01 = Y_c[Y_c['pred_corte_01']==True]\n",
    "\n",
    "pd.crosstab(tes_corte_01['mes'], Y_c_corte_01['targetF'])"
   ]
  },
  {
   "cell_type": "code",
   "execution_count": null,
   "id": "5f8e7769-4c0c-479e-9e5b-daf24157dd16",
   "metadata": {
    "tags": []
   },
   "outputs": [],
   "source": [
    "pd.crosstab(tes_corte_01['date_receiver'].dt.year, Y_c_corte_01['targetF'])"
   ]
  },
  {
   "cell_type": "code",
   "execution_count": null,
   "id": "befa61a6-4c9b-4560-8266-380d78221222",
   "metadata": {
    "tags": []
   },
   "outputs": [],
   "source": [
    "# Total Fp in top 0.2%\n",
    "Y_c['pred_corte_02'] = Y_c['score_rf']>corte_02\n",
    "tes_corte_02 = testeo[Y_c['pred_corte_02']==True]\n",
    "Y_c_corte_02 = Y_c[Y_c['pred_corte_02']==True]\n",
    "\n",
    "pd.crosstab(tes_corte_02['mes'], Y_c_corte_02['targetF'])"
   ]
  },
  {
   "cell_type": "code",
   "execution_count": null,
   "id": "bc3778b3-cbb5-4076-a6e2-dd1f5da49ef8",
   "metadata": {
    "tags": []
   },
   "outputs": [],
   "source": [
    "# Total Fp in top 0.3%\n",
    "Y_c['pred_corte_03'] = Y_c['score_rf']>corte_03\n",
    "tes_corte_03 = testeo[Y_c['pred_corte_03']==True]\n",
    "Y_c_corte_03 = Y_c[Y_c['pred_corte_03']==True]\n",
    "\n",
    "pd.crosstab(tes_corte_03['mes'], Y_c_corte_03['targetF'])"
   ]
  },
  {
   "cell_type": "code",
   "execution_count": null,
   "id": "d5178a18-30b8-474b-b388-37b1c6f810b5",
   "metadata": {},
   "outputs": [],
   "source": [
    "# Total Fp in top 0.4%\n",
    "Y_c['pred_corte_04'] = Y_c['score_rf']>corte_04\n",
    "tes_corte_04 = testeo[Y_c['pred_corte_04']==True]\n",
    "Y_c_corte_04 = Y_c[Y_c['pred_corte_04']==True]\n",
    "\n",
    "pd.crosstab(tes_corte_04['mes'], Y_c_corte_04['targetF'])"
   ]
  },
  {
   "cell_type": "code",
   "execution_count": null,
   "id": "0415be85-b5ce-4fb3-ad4d-ffe4b6d5437d",
   "metadata": {
    "tags": []
   },
   "outputs": [],
   "source": [
    "pd.crosstab(tes_corte_04['date_receiver'].dt.year, Y_c_corte_04['targetF'])"
   ]
  },
  {
   "cell_type": "markdown",
   "id": "b085459d-942c-43b4-ac21-aa70728f5a96",
   "metadata": {},
   "source": [
    "## ROC curve and FP"
   ]
  },
  {
   "cell_type": "code",
   "execution_count": null,
   "id": "4574c18a-7a7f-4733-b695-0a7aa0b4ce8b",
   "metadata": {
    "tags": []
   },
   "outputs": [],
   "source": [
    "from sklearn.metrics import roc_auc_score\n",
    "from scikitplot.metrics import plot_roc\n",
    "from scikitplot.metrics import plot_lift_curve\n",
    "from scikitplot.helpers import binary_ks_curve\n",
    "from scikitplot.metrics import plot_ks_statistic\n",
    "from scikitplot.helpers import cumulative_gain_curve"
   ]
  },
  {
   "cell_type": "code",
   "execution_count": null,
   "id": "f677e08f-9b55-4500-8a20-82ad501cbd8c",
   "metadata": {
    "tags": []
   },
   "outputs": [],
   "source": [
    "# Gain curve and LIFT for data\n",
    "classes = np.unique(Y_c[['target']])\n",
    "percentages, gains = cumulative_gain_curve(Y_c[['target']], Y_c['score_rf'], classes[1])\n",
    "percentages = percentages[1:]\n",
    "gains = gains[1:]\n",
    "gains = gains / percentages\n",
    "indice = round(len(gains) * 0.1)\n",
    "print('LIFT FRAUD TESTEO:')\n",
    "print(gains[indice])\n",
    "\n",
    "# ROC curve for dataset\n",
    "print('ROC FRAUD TESTEO:')\n",
    "print(roc_auc_score(Y_c[['target']], Y_c['pred_corte']))\n",
    "\n",
    "# KS statistic for data\n",
    "thresholds, pct1, pct2, ks_statistic, max_distance_at, classes = binary_ks_curve(Y_c[['target']], Y_c['score_rf'])\n",
    "print('KS FRAUD TESTEO:')\n",
    "print(ks_statistic)\n",
    "\n",
    "# Presicion and recall for dataset\n",
    "precision = precision_score(Y_c[['target']], Y_c['pred_corte'])\n",
    "recall = recall_score(Y_c[['target']], Y_c['pred_corte'])\n",
    "print('Precision FRAUD TESTEO:')\n",
    "print(precision)\n",
    "print('Recall FRAUD TESTEO:')\n",
    "print(recall)"
   ]
  },
  {
   "cell_type": "code",
   "execution_count": null,
   "id": "7eec55b0-055b-4296-8027-c692ff76c0bf",
   "metadata": {
    "tags": []
   },
   "outputs": [],
   "source": [
    "import scikitplot as skplt\n",
    "skplt.metrics.plot_cumulative_gain(y_true=Y_c[['target']], y_probas =  probab_rf)\n",
    "plt.show()"
   ]
  },
  {
   "cell_type": "code",
   "execution_count": null,
   "id": "4dac6ba5-dcbd-49b0-9bfa-b7743dd37180",
   "metadata": {
    "tags": []
   },
   "outputs": [],
   "source": [
    "from sklearn.metrics import RocCurveDisplay, roc_curve\n",
    "\n",
    "fpr, tpr, _ = roc_curve(Y_c[['target']], score_rf)\n",
    "roc_display = RocCurveDisplay(fpr=fpr, tpr=tpr).plot()"
   ]
  },
  {
   "cell_type": "code",
   "execution_count": null,
   "id": "f6a645b8-bfa4-44af-bb5e-8e48399e057f",
   "metadata": {
    "tags": []
   },
   "outputs": [],
   "source": [
    "precision, recall, thresholds = skplt.metrics.precision_recall_curve(Y_c[['target']], score_rf)\n",
    "plt.plot(recall, precision)"
   ]
  },
  {
   "cell_type": "code",
   "execution_count": null,
   "id": "51ae95d9-68a7-4b46-b1af-acc4aa40f20d",
   "metadata": {
    "tags": []
   },
   "outputs": [],
   "source": [
    "recall[recall>0.8].min() # 0.8010540184453228\n",
    "precision[precision>0.8].min() #0.8002832861189801"
   ]
  },
  {
   "cell_type": "markdown",
   "id": "6ef67fb4-6365-4ae6-95ff-745d71634e85",
   "metadata": {
    "tags": []
   },
   "source": [
    "## Monthly overall alert analysis"
   ]
  },
  {
   "cell_type": "code",
   "execution_count": null,
   "id": "1be6ba79-9b68-422e-9cbf-a06b210ef0e8",
   "metadata": {
    "tags": []
   },
   "outputs": [],
   "source": [
    "pd.crosstab(testeo['mes'], Y_c['target'])"
   ]
  },
  {
   "cell_type": "code",
   "execution_count": null,
   "id": "0615129b-d56c-43da-aaf2-ed3f0a9f059c",
   "metadata": {
    "tags": []
   },
   "outputs": [],
   "source": [
    "Y_c['pred_corte_01'] = Y_c['score_rf']>corte_01\n",
    "tes_corte_01 = testeo[Y_c['pred_corte_01']==True]\n",
    "Y_c_corte_01 = Y_c[Y_c['pred_corte_01']==True]\n",
    "\n",
    "pd.crosstab(tes_corte_01['mes'], Y_c_corte_01['target'])"
   ]
  },
  {
   "cell_type": "code",
   "execution_count": null,
   "id": "f6fb10f5-ce75-4347-99a9-0af1c8948a52",
   "metadata": {
    "tags": []
   },
   "outputs": [],
   "source": [
    "# Alerts by month and decile\n",
    "Tabla_mes = pd.DataFrame(pd.concat([testeo['mes'],testeo['fraud_classification'], \n",
    "                                     Y_c['FRAUD_DECILE'], Y_c['target']],axis=1))"
   ]
  },
  {
   "cell_type": "code",
   "execution_count": null,
   "id": "3c31436e-d336-4a51-ae2b-ec3079fb4248",
   "metadata": {
    "tags": []
   },
   "outputs": [],
   "source": [
    "Tabla_mes[Tabla_mes['target']==True]\n",
    "pd.crosstab(Tabla_mes.mes, Tabla_mes.FRAUD_DECILE)"
   ]
  },
  {
   "cell_type": "markdown",
   "id": "2fd49c90-7053-4310-89f0-c275c86777ef",
   "metadata": {},
   "source": [
    "# Monthly indicators"
   ]
  },
  {
   "cell_type": "code",
   "execution_count": null,
   "id": "2dedc749-247c-49ed-8a40-540d0426e19e",
   "metadata": {
    "tags": []
   },
   "outputs": [],
   "source": [
    "i = 0\n",
    "summary_metrics = pd.DataFrame(columns = ['month','year', 'precision', 'recall','alerts','frauds&dist','frauds','detected'] )\n",
    "for y in  testeo['year'].unique():\n",
    "    for m in  testeo['mes'].unique():\n",
    "        \n",
    "        subset_mes = Y_c[(testeo['year']==y) & (testeo['mes']==m)]\n",
    "        if not subset_mes.empty:\n",
    "            precision = precision_score(subset_mes[['targetF']], subset_mes['pred_corte_01'])\n",
    "            recall = recall_score(subset_mes[['targetF']], subset_mes['pred_corte_01'])\n",
    "            summary_metrics.loc[i,'month'] = m\n",
    "            summary_metrics.loc[i,'year'] = y\n",
    "            summary_metrics.loc[i,'precision'] = precision\n",
    "            summary_metrics.loc[i,'recall'] = recall\n",
    "            summary_metrics.loc[i,'alerts'] = subset_mes['pred_corte_01'].sum()\n",
    "            summary_metrics.loc[i,'frauds'] = subset_mes['target'].sum()\n",
    "            summary_metrics.loc[i,'frauds&dist'] = subset_mes['target'].sum()\n",
    "            summary_metrics.loc[i,'frauds'] = (subset_mes['fraud_classification']=='Real').sum()\n",
    "            summary_metrics.loc[i,'detected'] = ((subset_mes['pred_corte_01']==True) & (subset_mes['target']==True) & (subset_mes['fraud_classification']=='Real')).sum()\n",
    "            #print ('Year:', y, 'Month:',m)\n",
    "            #print ('Precision:', precision, 'Recall:',recall)\n",
    "            i = i+1\n",
    "summary_metrics.sort_values(['year','month'])"
   ]
  },
  {
   "cell_type": "code",
   "execution_count": null,
   "id": "db14f957-498b-4946-8d10-0324ac8bd544",
   "metadata": {
    "tags": []
   },
   "outputs": [],
   "source": [
    "# Recall and precision by month\n",
    "sns.lineplot(data = summary_metrics, x ='month', y = 'precision')\n",
    "plt.show()\n",
    "sns.lineplot(data = summary_metrics, x ='month', y= 'recall')\n",
    "plt.show()"
   ]
  },
  {
   "cell_type": "markdown",
   "id": "db79e154-5934-4f62-8719-7353bff0183a",
   "metadata": {},
   "source": [
    "## Daily analysis"
   ]
  },
  {
   "cell_type": "code",
   "execution_count": null,
   "id": "0558d268-f61e-498e-a741-85b48489d90b",
   "metadata": {
    "tags": []
   },
   "outputs": [],
   "source": [
    "tes_corte_01['date_receiver'].dt.floor('d')"
   ]
  },
  {
   "cell_type": "code",
   "execution_count": null,
   "id": "eee8e451-8e5a-4cdc-8d9b-c9b71e9463f8",
   "metadata": {
    "tags": []
   },
   "outputs": [],
   "source": [
    "ALERTAS_01 = pd.crosstab(tes_corte_01['date_receiver'].dt.floor('d'), Y_c_corte_01['targetF'])\n",
    "ALERTAS_01.to_csv ('./alertas.csv')"
   ]
  },
  {
   "cell_type": "code",
   "execution_count": null,
   "id": "3a88418f-898b-4bfd-b1d1-4a78ccb0b6cd",
   "metadata": {
    "tags": []
   },
   "outputs": [],
   "source": [
    "ALERTAS_01"
   ]
  },
  {
   "cell_type": "code",
   "execution_count": null,
   "id": "acab1a1d-c6cb-4dda-a84b-b7bd48bfceeb",
   "metadata": {
    "tags": []
   },
   "outputs": [],
   "source": [
    "FRAUDES = pd.crosstab(testeo['date_receiver'].dt.floor('d'), Y_c['targetF'])\n",
    "#FRAUDES.to_csv ('./fraudes.csv')"
   ]
  },
  {
   "cell_type": "code",
   "execution_count": null,
   "id": "64f140aa-e59f-4cd2-a1f9-7baafd7c553f",
   "metadata": {
    "tags": []
   },
   "outputs": [],
   "source": [
    "FRAUDES"
   ]
  },
  {
   "cell_type": "markdown",
   "id": "f7dd9dd1-202b-47b5-8290-0f273e4687c4",
   "metadata": {},
   "source": [
    "## Missing frauds"
   ]
  },
  {
   "cell_type": "code",
   "execution_count": null,
   "id": "1b27fab2-bf29-455d-87aa-d79fd28e56b4",
   "metadata": {
    "tags": []
   },
   "outputs": [],
   "source": [
    "faltantes = (testeo['id_receiver'].between(5631,5659)) & (testeo['id_branch'] =='A24793')\n",
    "X_faltantes = testeo[faltantes]\n",
    "Y_c_faltantes = Y_c[faltantes]\n",
    "Y_c_faltantes[['pred_corte','pred_corte_01','pred_corte_02','pred_corte_03']].value_counts()"
   ]
  },
  {
   "cell_type": "code",
   "execution_count": null,
   "id": "b04fcb96-0e54-4de1-a830-89e83674b3e9",
   "metadata": {
    "tags": []
   },
   "outputs": [],
   "source": [
    "X_faltantes[var_input].describe()"
   ]
  },
  {
   "cell_type": "code",
   "execution_count": null,
   "id": "5f3c1ce5-1b8b-4298-880a-52f3fa40968c",
   "metadata": {
    "tags": []
   },
   "outputs": [],
   "source": [
    "#testeo.loc[(testeo['id_receiver'] ==5631) & (testeo['id_branch'] =='A24793')] \n",
    "\n",
    "testeo.loc[(testeo['id_receiver'].between(5631,5659)) & (testeo['id_branch'] =='A24793')] "
   ]
  },
  {
   "cell_type": "code",
   "execution_count": null,
   "id": "5c9f2886-76da-4317-9e01-32eb4fa6b8ee",
   "metadata": {
    "tags": []
   },
   "outputs": [],
   "source": [
    "Y_c.loc[(testeo['id_receiver'].between(5631,5659)) & (testeo['id_branch'] =='A24793')] "
   ]
  },
  {
   "cell_type": "code",
   "execution_count": null,
   "id": "000bf538-7fe6-40c4-98b4-7bef5f8b2c2a",
   "metadata": {
    "tags": []
   },
   "outputs": [],
   "source": [
    "Y_c.loc[(testeo['id_receiver'].between(1783,1783)) & (testeo['id_branch'] =='A20109'),'pred_corte_01'] "
   ]
  },
  {
   "cell_type": "code",
   "execution_count": null,
   "id": "acfd8d87-51df-4c42-8e20-942cef7fa833",
   "metadata": {
    "tags": []
   },
   "outputs": [],
   "source": [
    "testeo[(testeo['id_receiver'].between(1783,1783)) & (testeo['id_branch'] =='A20109')]"
   ]
  },
  {
   "cell_type": "code",
   "execution_count": null,
   "id": "bdbcad32-aee1-4c92-ad8c-d77545ba39e2",
   "metadata": {
    "tags": []
   },
   "outputs": [],
   "source": [
    "faltantes = (testeo['id_receiver'].between(174,178)) & (testeo['id_branch'] =='A25879')\n",
    "X_faltantes = testeo[faltantes]\n",
    "Y_c_faltantes = Y_c[faltantes]\n",
    "Y_c_faltantes[['pred_corte','pred_corte_01','pred_corte_02','pred_corte_03']].value_counts()"
   ]
  },
  {
   "cell_type": "code",
   "execution_count": null,
   "id": "051fdb91-ecd3-42e0-9363-6b13d9fd8086",
   "metadata": {
    "tags": []
   },
   "outputs": [],
   "source": [
    "testeo[(testeo['id_branch']=='A24570') & (testeo['id_receiver']==1883)]\n",
    "testeo[(testeo['id_branch']=='A24570') & (testeo['id_receiver']==1883)]"
   ]
  },
  {
   "cell_type": "code",
   "execution_count": null,
   "id": "94074746-368b-41a2-9e83-2eb9dc92a82d",
   "metadata": {
    "tags": []
   },
   "outputs": [],
   "source": [
    "s3_url = f\"viamericas-datalake-dev-us-east-1-283731589572-raw/FraudModel/Data4Model/TargetTodos\"\n",
    "tes = pd.read_parquet(f\"s3://{s3_url}/Data2024/Faltantes.parquet\")\n",
    "\n",
    "testeo2 = tes\n",
    "Y_target2 = pd.DataFrame(tes['target']) "
   ]
  },
  {
   "cell_type": "code",
   "execution_count": null,
   "id": "b895b38e-6982-4988-9e52-bfdacb9353da",
   "metadata": {
    "tags": []
   },
   "outputs": [],
   "source": [
    "testeo2['01_var_range_hist'] = testeo.loc[(testeo['id_branch']=='A24570') & (testeo['id_receiver']==1883),'01_var_range_hist']\n",
    "testeo2['01_var_range_hist'] "
   ]
  },
  {
   "cell_type": "code",
   "execution_count": null,
   "id": "ccb18312-91d8-453a-899b-464358f82e05",
   "metadata": {
    "tags": []
   },
   "outputs": [],
   "source": [
    "testeo2[var_input]"
   ]
  },
  {
   "cell_type": "code",
   "execution_count": null,
   "id": "f698bc98-88c0-479c-a8e5-4b4f18440050",
   "metadata": {
    "tags": []
   },
   "outputs": [],
   "source": [
    "testeo_data_pred_rf2 = modelo.predict(testeo2[var_input])\n",
    "probab_rf2 = modelo.predict_proba(testeo2[var_input])\n",
    "score_rf2 = np.delete(probab_rf2, np.s_[0], axis=1)\n",
    "\n",
    "Y_c2 = Y_target2.copy()\n",
    "Y_c2['preds_rf'] = testeo_data_pred_rf2\n",
    "Y_c2['score_rf'] = score_rf2\n"
   ]
  },
  {
   "cell_type": "code",
   "execution_count": null,
   "id": "e0fad504-05ca-4b62-a2d0-54f61e16fb5f",
   "metadata": {
    "tags": []
   },
   "outputs": [],
   "source": [
    "Y_c2"
   ]
  },
  {
   "cell_type": "code",
   "execution_count": null,
   "id": "8529ebe2-5496-4925-9369-9072ade35d7f",
   "metadata": {
    "tags": []
   },
   "outputs": [],
   "source": [
    "Y_c2['pred_corte_01'] = Y_c2['score_rf']>corte_01\n",
    "pd.DataFrame(confusion_matrix(Y_c2['target'], Y_c2['pred_corte_01']))"
   ]
  },
  {
   "cell_type": "code",
   "execution_count": null,
   "id": "ce48b18a-68f7-434c-8b03-223e600acc97",
   "metadata": {
    "tags": []
   },
   "outputs": [],
   "source": [
    "Y_c2['pred_corte_02'] = Y_c2['score_rf']>corte_02\n",
    "pd.DataFrame(confusion_matrix(Y_c2['target'], Y_c2['pred_corte_02']))"
   ]
  },
  {
   "cell_type": "code",
   "execution_count": null,
   "id": "085ac3be-281f-4112-abc9-5d05ac57d1a8",
   "metadata": {
    "tags": []
   },
   "outputs": [],
   "source": [
    "Y_c2['pred_corte'] = Y_c2['score_rf']>corte\n",
    "pd.DataFrame(confusion_matrix(Y_c2['target'], Y_c2['pred_corte']))"
   ]
  }
 ],
 "metadata": {
  "kernelspec": {
   "display_name": "conda_python3",
   "language": "python",
   "name": "conda_python3"
  },
  "language_info": {
   "codemirror_mode": {
    "name": "ipython",
    "version": 3
   },
   "file_extension": ".py",
   "mimetype": "text/x-python",
   "name": "python",
   "nbconvert_exporter": "python",
   "pygments_lexer": "ipython3",
   "version": "3.10.14"
  }
 },
 "nbformat": 4,
 "nbformat_minor": 5
}
