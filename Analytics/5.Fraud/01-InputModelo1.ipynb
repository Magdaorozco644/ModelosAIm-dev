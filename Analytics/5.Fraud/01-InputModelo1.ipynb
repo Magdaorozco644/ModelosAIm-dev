{
 "cells": [
  {
   "cell_type": "code",
   "execution_count": 1,
   "id": "2850b1c7-4456-484e-a7ff-df70a0c612c6",
   "metadata": {},
   "outputs": [
    {
     "name": "stdout",
     "output_type": "stream",
     "text": [
      "Requirement already satisfied: pip in /home/ec2-user/anaconda3/envs/python3/lib/python3.10/site-packages (24.0)\n",
      "Requirement already satisfied: pyathena in /home/ec2-user/anaconda3/envs/python3/lib/python3.10/site-packages (3.4.0)\n",
      "Requirement already satisfied: boto3>=1.26.4 in /home/ec2-user/anaconda3/envs/python3/lib/python3.10/site-packages (from pyathena) (1.34.55)\n",
      "Requirement already satisfied: botocore>=1.29.4 in /home/ec2-user/anaconda3/envs/python3/lib/python3.10/site-packages (from pyathena) (1.34.55)\n",
      "Requirement already satisfied: fsspec in /home/ec2-user/anaconda3/envs/python3/lib/python3.10/site-packages (from pyathena) (2023.12.2)\n",
      "Requirement already satisfied: tenacity>=4.1.0 in /home/ec2-user/anaconda3/envs/python3/lib/python3.10/site-packages (from pyathena) (8.2.3)\n",
      "Requirement already satisfied: jmespath<2.0.0,>=0.7.1 in /home/ec2-user/anaconda3/envs/python3/lib/python3.10/site-packages (from boto3>=1.26.4->pyathena) (1.0.1)\n",
      "Requirement already satisfied: s3transfer<0.11.0,>=0.10.0 in /home/ec2-user/anaconda3/envs/python3/lib/python3.10/site-packages (from boto3>=1.26.4->pyathena) (0.10.0)\n",
      "Requirement already satisfied: python-dateutil<3.0.0,>=2.1 in /home/ec2-user/anaconda3/envs/python3/lib/python3.10/site-packages (from botocore>=1.29.4->pyathena) (2.8.2)\n",
      "Requirement already satisfied: urllib3<2.1,>=1.25.4 in /home/ec2-user/anaconda3/envs/python3/lib/python3.10/site-packages (from botocore>=1.29.4->pyathena) (1.26.18)\n",
      "Requirement already satisfied: six>=1.5 in /home/ec2-user/anaconda3/envs/python3/lib/python3.10/site-packages (from python-dateutil<3.0.0,>=2.1->botocore>=1.29.4->pyathena) (1.16.0)\n"
     ]
    }
   ],
   "source": [
    "!pip install --upgrade pip\n",
    "!pip install pyathena"
   ]
  },
  {
   "cell_type": "code",
   "execution_count": 2,
   "id": "c6a1f253-a5cd-45f2-9375-0e78d9f03d36",
   "metadata": {},
   "outputs": [
    {
     "name": "stdout",
     "output_type": "stream",
     "text": [
      "Requirement already satisfied: seaborn==0.12.2 in /home/ec2-user/anaconda3/envs/python3/lib/python3.10/site-packages (0.12.2)\n",
      "Requirement already satisfied: numpy!=1.24.0,>=1.17 in /home/ec2-user/anaconda3/envs/python3/lib/python3.10/site-packages (from seaborn==0.12.2) (1.22.4)\n",
      "Requirement already satisfied: pandas>=0.25 in /home/ec2-user/anaconda3/envs/python3/lib/python3.10/site-packages (from seaborn==0.12.2) (2.2.1)\n",
      "Requirement already satisfied: matplotlib!=3.6.1,>=3.1 in /home/ec2-user/anaconda3/envs/python3/lib/python3.10/site-packages (from seaborn==0.12.2) (3.8.2)\n",
      "Requirement already satisfied: contourpy>=1.0.1 in /home/ec2-user/anaconda3/envs/python3/lib/python3.10/site-packages (from matplotlib!=3.6.1,>=3.1->seaborn==0.12.2) (1.2.0)\n",
      "Requirement already satisfied: cycler>=0.10 in /home/ec2-user/anaconda3/envs/python3/lib/python3.10/site-packages (from matplotlib!=3.6.1,>=3.1->seaborn==0.12.2) (0.12.1)\n",
      "Requirement already satisfied: fonttools>=4.22.0 in /home/ec2-user/anaconda3/envs/python3/lib/python3.10/site-packages (from matplotlib!=3.6.1,>=3.1->seaborn==0.12.2) (4.47.2)\n",
      "Requirement already satisfied: kiwisolver>=1.3.1 in /home/ec2-user/anaconda3/envs/python3/lib/python3.10/site-packages (from matplotlib!=3.6.1,>=3.1->seaborn==0.12.2) (1.4.5)\n",
      "Requirement already satisfied: packaging>=20.0 in /home/ec2-user/anaconda3/envs/python3/lib/python3.10/site-packages (from matplotlib!=3.6.1,>=3.1->seaborn==0.12.2) (21.3)\n",
      "Requirement already satisfied: pillow>=8 in /home/ec2-user/anaconda3/envs/python3/lib/python3.10/site-packages (from matplotlib!=3.6.1,>=3.1->seaborn==0.12.2) (10.2.0)\n",
      "Requirement already satisfied: pyparsing>=2.3.1 in /home/ec2-user/anaconda3/envs/python3/lib/python3.10/site-packages (from matplotlib!=3.6.1,>=3.1->seaborn==0.12.2) (3.1.1)\n",
      "Requirement already satisfied: python-dateutil>=2.7 in /home/ec2-user/anaconda3/envs/python3/lib/python3.10/site-packages (from matplotlib!=3.6.1,>=3.1->seaborn==0.12.2) (2.8.2)\n",
      "Requirement already satisfied: pytz>=2020.1 in /home/ec2-user/anaconda3/envs/python3/lib/python3.10/site-packages (from pandas>=0.25->seaborn==0.12.2) (2023.4)\n",
      "Requirement already satisfied: tzdata>=2022.7 in /home/ec2-user/anaconda3/envs/python3/lib/python3.10/site-packages (from pandas>=0.25->seaborn==0.12.2) (2023.4)\n",
      "Requirement already satisfied: six>=1.5 in /home/ec2-user/anaconda3/envs/python3/lib/python3.10/site-packages (from python-dateutil>=2.7->matplotlib!=3.6.1,>=3.1->seaborn==0.12.2) (1.16.0)\n"
     ]
    }
   ],
   "source": [
    "#Upgrade de la version de seaborn para poder hacer graficos mas facil \n",
    "!pip install seaborn==0.12.2"
   ]
  },
  {
   "cell_type": "code",
   "execution_count": 3,
   "id": "7e9abd8a-4ec6-495f-b230-072db6406e22",
   "metadata": {},
   "outputs": [],
   "source": [
    "#Libraries\n",
    "from pyathena import connect\n",
    "import pandas as pd\n",
    "import datetime as dt\n",
    "import numpy as np\n",
    "import seaborn as sns\n",
    "import matplotlib.pyplot as plt\n",
    "from datetime import datetime\n",
    "from sklearn import preprocessing\n",
    "from sklearn.preprocessing import LabelBinarizer "
   ]
  },
  {
   "cell_type": "code",
   "execution_count": 82,
   "id": "2eb5cf06-511b-42fc-8c9e-3ef305c428de",
   "metadata": {},
   "outputs": [],
   "source": [
    "# DB Setting\n",
    "bucket_name = 's3://viamericas-datalake-dev-us-east-1-283731589572-athena/'\n",
    "origin_name = 'AwsDataCatalog'\n",
    "database_name = 'analytics'\n",
    "tablaSource = 'source_fraud_fechas_label'\n"
   ]
  },
  {
   "cell_type": "code",
   "execution_count": 278,
   "id": "0f281d0b-391b-467b-9525-1178e14a7495",
   "metadata": {},
   "outputs": [
    {
     "name": "stderr",
     "output_type": "stream",
     "text": [
      "/tmp/ipykernel_35260/1850409671.py:12: UserWarning: pandas only supports SQLAlchemy connectable (engine/connection) or database string URI or sqlite3 DBAPI2 connection. Other DBAPI2 objects are not tested. Please consider using SQLAlchemy.\n",
      "  df_source = pd.read_sql('''SELECT * FROM analytics.source_fraud_fechas_label\n"
     ]
    }
   ],
   "source": [
    "#Connection\n",
    "\n",
    "conn = connect(s3_staging_dir=f'{bucket_name}queryresults/',\n",
    "               region_name='us-east-1')\n",
    "#date_to_compare1 = '2023-01-01'\n",
    "#date_to_compare2 = '2023-05-01'\n",
    "#Pongo el mes para el que traigo los datos y para poenr en el nombre del parquet\n",
    "mes_data = '202303'\n",
    "#Pongo uno si quiero generar los datos para el test\n",
    "archivo_test = 0\n",
    "\n",
    "df_source = pd.read_sql('''SELECT * FROM analytics.source_fraud_fechas_label \n",
    "            where date_receiver_clean between cast('2023-03-01'  as date) and cast('2023-04-01'  as date);''', conn)\n"
   ]
  },
  {
   "cell_type": "code",
   "execution_count": 279,
   "id": "ad8b0923-b9e1-4587-985d-8da7ac724bac",
   "metadata": {
    "tags": []
   },
   "outputs": [],
   "source": [
    "#df_source2 = pd.read_sql('''SELECT * FROM analytics.source_fraud_fechas_label \n",
    "#             where date_receiver_clean between cast('2023-01-01'  as date) and cast('2023-01-15'  as date);''', conn)\n"
   ]
  },
  {
   "cell_type": "code",
   "execution_count": 280,
   "id": "85964e70-a52d-47eb-86a6-b53a559fdc95",
   "metadata": {
    "tags": []
   },
   "outputs": [
    {
     "data": {
      "text/html": [
       "<div>\n",
       "<style scoped>\n",
       "    .dataframe tbody tr th:only-of-type {\n",
       "        vertical-align: middle;\n",
       "    }\n",
       "\n",
       "    .dataframe tbody tr th {\n",
       "        vertical-align: top;\n",
       "    }\n",
       "\n",
       "    .dataframe thead th {\n",
       "        text-align: right;\n",
       "    }\n",
       "</style>\n",
       "<table border=\"1\" class=\"dataframe\">\n",
       "  <thead>\n",
       "    <tr style=\"text-align: right;\">\n",
       "      <th></th>\n",
       "      <th>id_branch</th>\n",
       "      <th>id_receiver</th>\n",
       "      <th>date_receiver</th>\n",
       "      <th>hour_receiver</th>\n",
       "      <th>day_name_receiver</th>\n",
       "      <th>net_amount_receiver</th>\n",
       "      <th>id_payout</th>\n",
       "      <th>was_fraud</th>\n",
       "      <th>was_fraud_pattern</th>\n",
       "      <th>was_ofac_receiver_hit</th>\n",
       "      <th>...</th>\n",
       "      <th>id_payer</th>\n",
       "      <th>id_sender_global</th>\n",
       "      <th>sender_minutes_since_last_transaction</th>\n",
       "      <th>branch_minutes_since_last_transaction</th>\n",
       "      <th>sender_days_to_last_transaction</th>\n",
       "      <th>day</th>\n",
       "      <th>date_receiver2</th>\n",
       "      <th>id_sender2</th>\n",
       "      <th>fraud_type</th>\n",
       "      <th>date_receiver_clean</th>\n",
       "    </tr>\n",
       "  </thead>\n",
       "  <tbody>\n",
       "    <tr>\n",
       "      <th>0</th>\n",
       "      <td>A21435</td>\n",
       "      <td>9675</td>\n",
       "      <td>2023-03-17 14:46:49.850000000</td>\n",
       "      <td>14</td>\n",
       "      <td>Friday</td>\n",
       "      <td>400.0</td>\n",
       "      <td>P</td>\n",
       "      <td>0</td>\n",
       "      <td>0</td>\n",
       "      <td>0</td>\n",
       "      <td>...</td>\n",
       "      <td>T085</td>\n",
       "      <td>8223297</td>\n",
       "      <td>20139</td>\n",
       "      <td>121</td>\n",
       "      <td>287</td>\n",
       "      <td>2023-03-17</td>\n",
       "      <td>2023-03-17 14:46:49.850</td>\n",
       "      <td>2519.0</td>\n",
       "      <td>None</td>\n",
       "      <td>2023-03-17</td>\n",
       "    </tr>\n",
       "    <tr>\n",
       "      <th>1</th>\n",
       "      <td>A01974</td>\n",
       "      <td>766845</td>\n",
       "      <td>2023-03-17 14:51:45.860000000</td>\n",
       "      <td>14</td>\n",
       "      <td>Friday</td>\n",
       "      <td>25.0</td>\n",
       "      <td>P</td>\n",
       "      <td>0</td>\n",
       "      <td>0</td>\n",
       "      <td>0</td>\n",
       "      <td>...</td>\n",
       "      <td>T085</td>\n",
       "      <td>8495433</td>\n",
       "      <td>16</td>\n",
       "      <td>4</td>\n",
       "      <td>280</td>\n",
       "      <td>2023-03-17</td>\n",
       "      <td>2023-03-17 14:51:45.860</td>\n",
       "      <td>36437.0</td>\n",
       "      <td>None</td>\n",
       "      <td>2023-03-17</td>\n",
       "    </tr>\n",
       "    <tr>\n",
       "      <th>2</th>\n",
       "      <td>A12362</td>\n",
       "      <td>90590</td>\n",
       "      <td>2023-03-17 14:48:27.070000000</td>\n",
       "      <td>14</td>\n",
       "      <td>Friday</td>\n",
       "      <td>400.0</td>\n",
       "      <td>P</td>\n",
       "      <td>0</td>\n",
       "      <td>0</td>\n",
       "      <td>0</td>\n",
       "      <td>...</td>\n",
       "      <td>T232</td>\n",
       "      <td>8883645</td>\n",
       "      <td>33066</td>\n",
       "      <td>4</td>\n",
       "      <td>261</td>\n",
       "      <td>2023-03-17</td>\n",
       "      <td>2023-03-17 14:48:27.070</td>\n",
       "      <td>8917.0</td>\n",
       "      <td>None</td>\n",
       "      <td>2023-03-17</td>\n",
       "    </tr>\n",
       "    <tr>\n",
       "      <th>3</th>\n",
       "      <td>A18956</td>\n",
       "      <td>70590</td>\n",
       "      <td>2023-03-17 14:37:49.053000000</td>\n",
       "      <td>14</td>\n",
       "      <td>Friday</td>\n",
       "      <td>1000.0</td>\n",
       "      <td>C</td>\n",
       "      <td>0</td>\n",
       "      <td>0</td>\n",
       "      <td>0</td>\n",
       "      <td>...</td>\n",
       "      <td>T057</td>\n",
       "      <td>9658726</td>\n",
       "      <td>11614</td>\n",
       "      <td>36</td>\n",
       "      <td>263</td>\n",
       "      <td>2023-03-17</td>\n",
       "      <td>2023-03-17 14:37:49.053</td>\n",
       "      <td>6894.0</td>\n",
       "      <td>None</td>\n",
       "      <td>2023-03-17</td>\n",
       "    </tr>\n",
       "    <tr>\n",
       "      <th>4</th>\n",
       "      <td>A04557</td>\n",
       "      <td>159485</td>\n",
       "      <td>2023-03-17 14:39:05.197000000</td>\n",
       "      <td>14</td>\n",
       "      <td>Friday</td>\n",
       "      <td>50.0</td>\n",
       "      <td>P</td>\n",
       "      <td>0</td>\n",
       "      <td>0</td>\n",
       "      <td>0</td>\n",
       "      <td>...</td>\n",
       "      <td>T239</td>\n",
       "      <td>1566177</td>\n",
       "      <td>11279</td>\n",
       "      <td>2</td>\n",
       "      <td>288</td>\n",
       "      <td>2023-03-17</td>\n",
       "      <td>2023-03-17 14:39:05.197</td>\n",
       "      <td>10162.0</td>\n",
       "      <td>None</td>\n",
       "      <td>2023-03-17</td>\n",
       "    </tr>\n",
       "  </tbody>\n",
       "</table>\n",
       "<p>5 rows × 29 columns</p>\n",
       "</div>"
      ],
      "text/plain": [
       "    id_branch id_receiver                  date_receiver hour_receiver  \\\n",
       "0  A21435            9675  2023-03-17 14:46:49.850000000            14   \n",
       "1  A01974          766845  2023-03-17 14:51:45.860000000            14   \n",
       "2  A12362           90590  2023-03-17 14:48:27.070000000            14   \n",
       "3  A18956           70590  2023-03-17 14:37:49.053000000            14   \n",
       "4  A04557          159485  2023-03-17 14:39:05.197000000            14   \n",
       "\n",
       "  day_name_receiver  net_amount_receiver id_payout was_fraud  \\\n",
       "0            Friday                400.0         P         0   \n",
       "1            Friday                 25.0         P         0   \n",
       "2            Friday                400.0         P         0   \n",
       "3            Friday               1000.0         C         0   \n",
       "4            Friday                 50.0         P         0   \n",
       "\n",
       "  was_fraud_pattern was_ofac_receiver_hit  ... id_payer  id_sender_global  \\\n",
       "0                 0                     0  ...     T085           8223297   \n",
       "1                 0                     0  ...     T085           8495433   \n",
       "2                 0                     0  ...     T232           8883645   \n",
       "3                 0                     0  ...     T057           9658726   \n",
       "4                 0                     0  ...     T239           1566177   \n",
       "\n",
       "  sender_minutes_since_last_transaction branch_minutes_since_last_transaction  \\\n",
       "0                                 20139                                   121   \n",
       "1                                    16                                     4   \n",
       "2                                 33066                                     4   \n",
       "3                                 11614                                    36   \n",
       "4                                 11279                                     2   \n",
       "\n",
       "  sender_days_to_last_transaction         day          date_receiver2  \\\n",
       "0                             287  2023-03-17 2023-03-17 14:46:49.850   \n",
       "1                             280  2023-03-17 2023-03-17 14:51:45.860   \n",
       "2                             261  2023-03-17 2023-03-17 14:48:27.070   \n",
       "3                             263  2023-03-17 2023-03-17 14:37:49.053   \n",
       "4                             288  2023-03-17 2023-03-17 14:39:05.197   \n",
       "\n",
       "   id_sender2  fraud_type date_receiver_clean  \n",
       "0      2519.0        None          2023-03-17  \n",
       "1     36437.0        None          2023-03-17  \n",
       "2      8917.0        None          2023-03-17  \n",
       "3      6894.0        None          2023-03-17  \n",
       "4     10162.0        None          2023-03-17  \n",
       "\n",
       "[5 rows x 29 columns]"
      ]
     },
     "execution_count": 280,
     "metadata": {},
     "output_type": "execute_result"
    }
   ],
   "source": [
    "df_source.head()"
   ]
  },
  {
   "cell_type": "code",
   "execution_count": 281,
   "id": "a259f7b2-c8a8-40a8-88ba-8666ff3acc64",
   "metadata": {
    "tags": []
   },
   "outputs": [],
   "source": [
    "df_source['mes'] = df_source['date_receiver_clean'].dt.month\n",
    "df_source['fraud_type'] = df_source['fraud_type'].str.capitalize()"
   ]
  },
  {
   "cell_type": "markdown",
   "id": "1ff42287-39fd-498a-8e79-1da2270c7504",
   "metadata": {},
   "source": [
    "## Defino funciones para los datos\n",
    "### creo_dummies y escalo_percentiles"
   ]
  },
  {
   "cell_type": "code",
   "execution_count": 282,
   "id": "2f9c9961-c080-4cbc-9054-996b73ff12e6",
   "metadata": {},
   "outputs": [],
   "source": [
    "#defino funcion para normalizar\n",
    "def escalo_percentiles(data, Pmin, Pmax):\n",
    "    #Escalo por Quartiles\n",
    "    Qmin = Pmin\n",
    "    Qmax = Pmax\n",
    "\n",
    "    m = data.min()\n",
    "    M = data.max()\n",
    "    q0 = data.quantile(Qmin)\n",
    "    q1 = data.quantile(Qmax)\n",
    "\n",
    "    data_std = (data - q0) / (q1 - q0)\n",
    "    dataN =  data_std.to_numpy()\n",
    "    #Pongo los outliers con un maximo\n",
    "    dataN = np.clip(dataN,0,1)\n",
    "    return dataN"
   ]
  },
  {
   "cell_type": "code",
   "execution_count": 283,
   "id": "04516f5f-97f4-4433-9ecd-abdbe29797b5",
   "metadata": {},
   "outputs": [],
   "source": [
    "#creo dummies a partir de la lista de variables\n",
    "def creo_dummies(df, todummy_list):\n",
    "    df0 = df.copy()\n",
    "    for x in todummy_list:\n",
    "        dummies = pd.get_dummies(df[x], prefix=x, dummy_na=False)\n",
    "        df = df.drop(x, axis = 1)\n",
    "        df = pd.concat([df, dummies], axis=1)\n",
    "        df = pd.DataFrame(df)\n",
    "    return df, df.columns.difference(df0.columns)"
   ]
  },
  {
   "cell_type": "markdown",
   "id": "9588cdc0-0802-4c0e-9297-852ec8caaf0c",
   "metadata": {},
   "source": [
    "## Creo las nuevas variables\n",
    "### sender_days_to_last_transaction_365 y sender_days_to_last_transaction_more365\n",
    "### sender_minutes_since_last_transaction_2days\n",
    "### net_amount_receiver?"
   ]
  },
  {
   "cell_type": "code",
   "execution_count": 284,
   "id": "65dfc154-b753-474c-9010-64b4da420870",
   "metadata": {
    "tags": []
   },
   "outputs": [
    {
     "data": {
      "text/plain": [
       "count    2.126358e+06\n",
       "mean     2.135819e+02\n",
       "std      9.605702e+01\n",
       "min      0.000000e+00\n",
       "25%      1.670000e+02\n",
       "50%      2.640000e+02\n",
       "75%      2.810000e+02\n",
       "max      3.050000e+02\n",
       "Name: sender_days_to_last_transaction, dtype: float64"
      ]
     },
     "execution_count": 284,
     "metadata": {},
     "output_type": "execute_result"
    }
   ],
   "source": [
    "#defino corte en funcion deñ percenti\n",
    "df_source['sender_days_to_last_transaction'].describe()"
   ]
  },
  {
   "cell_type": "code",
   "execution_count": 285,
   "id": "0644111c-6eec-4f01-9866-f8d430449f8d",
   "metadata": {
    "tags": []
   },
   "outputs": [
    {
     "name": "stderr",
     "output_type": "stream",
     "text": [
      "/tmp/ipykernel_35260/461507757.py:5: FutureWarning: ChainedAssignmentError: behaviour will change in pandas 3.0!\n",
      "You are setting values through chained assignment. Currently this works in certain cases, but when using Copy-on-Write (which will become the default behaviour in pandas 3.0) this will never work to update the original DataFrame or Series, because the intermediate object on which we are setting values will behave as a copy.\n",
      "A typical example is when you are setting values in a column of a DataFrame, like:\n",
      "\n",
      "df[\"col\"][row_indexer] = value\n",
      "\n",
      "Use `df.loc[row_indexer, \"col\"] = values` instead, to perform the assignment in a single step and ensure this keeps updating the original `df`.\n",
      "\n",
      "See the caveats in the documentation: https://pandas.pydata.org/pandas-docs/stable/user_guide/indexing.html#returning-a-view-versus-a-copy\n",
      "\n",
      "  df_source.sender_days_to_last_transaction_more365[df_source['sender_days_to_last_transaction']> 365] = 1\n",
      "/tmp/ipykernel_35260/461507757.py:5: SettingWithCopyWarning: \n",
      "A value is trying to be set on a copy of a slice from a DataFrame\n",
      "\n",
      "See the caveats in the documentation: https://pandas.pydata.org/pandas-docs/stable/user_guide/indexing.html#returning-a-view-versus-a-copy\n",
      "  df_source.sender_days_to_last_transaction_more365[df_source['sender_days_to_last_transaction']> 365] = 1\n",
      "/tmp/ipykernel_35260/461507757.py:6: FutureWarning: ChainedAssignmentError: behaviour will change in pandas 3.0!\n",
      "You are setting values through chained assignment. Currently this works in certain cases, but when using Copy-on-Write (which will become the default behaviour in pandas 3.0) this will never work to update the original DataFrame or Series, because the intermediate object on which we are setting values will behave as a copy.\n",
      "A typical example is when you are setting values in a column of a DataFrame, like:\n",
      "\n",
      "df[\"col\"][row_indexer] = value\n",
      "\n",
      "Use `df.loc[row_indexer, \"col\"] = values` instead, to perform the assignment in a single step and ensure this keeps updating the original `df`.\n",
      "\n",
      "See the caveats in the documentation: https://pandas.pydata.org/pandas-docs/stable/user_guide/indexing.html#returning-a-view-versus-a-copy\n",
      "\n",
      "  df_source.sender_days_to_last_transaction_365[df_source['sender_days_to_last_transaction']> 365] = 0\n",
      "/tmp/ipykernel_35260/461507757.py:6: SettingWithCopyWarning: \n",
      "A value is trying to be set on a copy of a slice from a DataFrame\n",
      "\n",
      "See the caveats in the documentation: https://pandas.pydata.org/pandas-docs/stable/user_guide/indexing.html#returning-a-view-versus-a-copy\n",
      "  df_source.sender_days_to_last_transaction_365[df_source['sender_days_to_last_transaction']> 365] = 0\n"
     ]
    }
   ],
   "source": [
    "#defino dos nuevas variables a partir de la anterior\n",
    "df_source['sender_days_to_last_transaction_365'] = df_source['sender_days_to_last_transaction']\n",
    "df_source['sender_days_to_last_transaction_more365'] = 0\n",
    "#corto en un maximo de dias y el resto lo pongo enlas variables nuevas\n",
    "df_source.sender_days_to_last_transaction_more365[df_source['sender_days_to_last_transaction']> 365] = 1\n",
    "df_source.sender_days_to_last_transaction_365[df_source['sender_days_to_last_transaction']> 365] = 0 "
   ]
  },
  {
   "cell_type": "code",
   "execution_count": 286,
   "id": "a3ed5842-26dd-442e-8e12-fa3bedb7dad8",
   "metadata": {
    "tags": []
   },
   "outputs": [
    {
     "name": "stderr",
     "output_type": "stream",
     "text": [
      "/tmp/ipykernel_35260/2804084275.py:5: FutureWarning: ChainedAssignmentError: behaviour will change in pandas 3.0!\n",
      "You are setting values through chained assignment. Currently this works in certain cases, but when using Copy-on-Write (which will become the default behaviour in pandas 3.0) this will never work to update the original DataFrame or Series, because the intermediate object on which we are setting values will behave as a copy.\n",
      "A typical example is when you are setting values in a column of a DataFrame, like:\n",
      "\n",
      "df[\"col\"][row_indexer] = value\n",
      "\n",
      "Use `df.loc[row_indexer, \"col\"] = values` instead, to perform the assignment in a single step and ensure this keeps updating the original `df`.\n",
      "\n",
      "See the caveats in the documentation: https://pandas.pydata.org/pandas-docs/stable/user_guide/indexing.html#returning-a-view-versus-a-copy\n",
      "\n",
      "  df_source.sender_minutes_since_last_transaction_2days[df_source['sender_minutes_since_last_transaction']> 2*24*60] = 0\n",
      "/tmp/ipykernel_35260/2804084275.py:5: SettingWithCopyWarning: \n",
      "A value is trying to be set on a copy of a slice from a DataFrame\n",
      "\n",
      "See the caveats in the documentation: https://pandas.pydata.org/pandas-docs/stable/user_guide/indexing.html#returning-a-view-versus-a-copy\n",
      "  df_source.sender_minutes_since_last_transaction_2days[df_source['sender_minutes_since_last_transaction']> 2*24*60] = 0\n",
      "/tmp/ipykernel_35260/2804084275.py:6: FutureWarning: ChainedAssignmentError: behaviour will change in pandas 3.0!\n",
      "You are setting values through chained assignment. Currently this works in certain cases, but when using Copy-on-Write (which will become the default behaviour in pandas 3.0) this will never work to update the original DataFrame or Series, because the intermediate object on which we are setting values will behave as a copy.\n",
      "A typical example is when you are setting values in a column of a DataFrame, like:\n",
      "\n",
      "df[\"col\"][row_indexer] = value\n",
      "\n",
      "Use `df.loc[row_indexer, \"col\"] = values` instead, to perform the assignment in a single step and ensure this keeps updating the original `df`.\n",
      "\n",
      "See the caveats in the documentation: https://pandas.pydata.org/pandas-docs/stable/user_guide/indexing.html#returning-a-view-versus-a-copy\n",
      "\n",
      "  df_source.sender_minutes_since_last_transaction_1day[df_source['sender_minutes_since_last_transaction']> 24*60] = 0\n",
      "/tmp/ipykernel_35260/2804084275.py:6: SettingWithCopyWarning: \n",
      "A value is trying to be set on a copy of a slice from a DataFrame\n",
      "\n",
      "See the caveats in the documentation: https://pandas.pydata.org/pandas-docs/stable/user_guide/indexing.html#returning-a-view-versus-a-copy\n",
      "  df_source.sender_minutes_since_last_transaction_1day[df_source['sender_minutes_since_last_transaction']> 24*60] = 0\n"
     ]
    }
   ],
   "source": [
    "#defino dos nuevas variables a partir de la anterior\n",
    "df_source['sender_minutes_since_last_transaction_2days'] = df_source['sender_minutes_since_last_transaction']\n",
    "df_source['sender_minutes_since_last_transaction_1day'] = df_source['sender_minutes_since_last_transaction']\n",
    "#corto en un maximo de dias y el resto lo pongo enlas variables nuevas\n",
    "df_source.sender_minutes_since_last_transaction_2days[df_source['sender_minutes_since_last_transaction']> 2*24*60] = 0\n",
    "df_source.sender_minutes_since_last_transaction_1day[df_source['sender_minutes_since_last_transaction']> 24*60] = 0"
   ]
  },
  {
   "cell_type": "markdown",
   "id": "86cddff3-d7cc-47bd-a3b1-e6769a443841",
   "metadata": {},
   "source": [
    "## Estandarizo variables\n",
    "### sender_days_to_last_transaction_365, sender_minutes_since_last_transaction_2days, net_amount_receiver, sender_sending_days, branch_working_days, receiver_transaction_count"
   ]
  },
  {
   "cell_type": "code",
   "execution_count": 287,
   "id": "bd1f9481-d7b2-4daa-9239-7db06d9e1aca",
   "metadata": {
    "tags": []
   },
   "outputs": [
    {
     "data": {
      "text/plain": [
       "count    2.126358e+06\n",
       "mean     1.788398e+01\n",
       "std      2.312529e+01\n",
       "min      1.000000e+00\n",
       "25%      3.000000e+00\n",
       "50%      9.000000e+00\n",
       "75%      2.400000e+01\n",
       "max      6.660000e+02\n",
       "Name: receiver_transaction_count, dtype: float64"
      ]
     },
     "execution_count": 287,
     "metadata": {},
     "output_type": "execute_result"
    }
   ],
   "source": [
    "df_source['receiver_transaction_count'].describe()"
   ]
  },
  {
   "cell_type": "code",
   "execution_count": 288,
   "id": "72512ac3-3056-44c2-8900-9f292f7a3cd4",
   "metadata": {
    "tags": []
   },
   "outputs": [
    {
     "name": "stderr",
     "output_type": "stream",
     "text": [
      "/home/ec2-user/anaconda3/envs/python3/lib/python3.10/site-packages/seaborn/_oldcore.py:1119: FutureWarning: use_inf_as_na option is deprecated and will be removed in a future version. Convert inf values to NaN before operating instead.\n",
      "  with pd.option_context('mode.use_inf_as_na', True):\n",
      "/home/ec2-user/anaconda3/envs/python3/lib/python3.10/site-packages/seaborn/_oldcore.py:1119: FutureWarning: use_inf_as_na option is deprecated and will be removed in a future version. Convert inf values to NaN before operating instead.\n",
      "  with pd.option_context('mode.use_inf_as_na', True):\n"
     ]
    },
    {
     "data": {
      "text/plain": [
       "<Axes: xlabel='01_receiver_transaction_count', ylabel='Count'>"
      ]
     },
     "execution_count": 288,
     "metadata": {},
     "output_type": "execute_result"
    },
    {
     "data": {
      "image/png": "[encoded data removed]",
      "text/plain": [
       "<Figure size 1200x400 with 2 Axes>"
      ]
     },
     "metadata": {},
     "output_type": "display_data"
    }
   ],
   "source": [
    "df_source['01_receiver_transaction_count'] = escalo_percentiles(df_source['receiver_transaction_count'], 0.01, 0.99)\n",
    "fig, axs = plt.subplots(1,2,figsize = (12, 4))\n",
    "sns.histplot(data=df_source, x=\"receiver_transaction_count\", ax = axs[0])\n",
    "sns.histplot(data=df_source, x=\"01_receiver_transaction_count\", ax = axs[1])"
   ]
  },
  {
   "cell_type": "code",
   "execution_count": 289,
   "id": "8b48ed52-3ee7-4420-838c-6342072a2951",
   "metadata": {
    "tags": []
   },
   "outputs": [
    {
     "data": {
      "text/plain": [
       "count    2.126358e+06\n",
       "mean     2.676224e+02\n",
       "std      1.598944e+02\n",
       "min      0.000000e+00\n",
       "25%      1.140000e+02\n",
       "50%      3.190000e+02\n",
       "75%      4.200000e+02\n",
       "max      4.550000e+02\n",
       "Name: sender_sending_days, dtype: float64"
      ]
     },
     "execution_count": 289,
     "metadata": {},
     "output_type": "execute_result"
    }
   ],
   "source": [
    "df_source['sender_sending_days'].describe()"
   ]
  },
  {
   "cell_type": "code",
   "execution_count": 290,
   "id": "a5a4ed41-5d5f-4f27-880b-4a266e2aa86c",
   "metadata": {
    "tags": []
   },
   "outputs": [
    {
     "name": "stderr",
     "output_type": "stream",
     "text": [
      "/home/ec2-user/anaconda3/envs/python3/lib/python3.10/site-packages/seaborn/_oldcore.py:1119: FutureWarning: use_inf_as_na option is deprecated and will be removed in a future version. Convert inf values to NaN before operating instead.\n",
      "  with pd.option_context('mode.use_inf_as_na', True):\n",
      "/home/ec2-user/anaconda3/envs/python3/lib/python3.10/site-packages/seaborn/_oldcore.py:1119: FutureWarning: use_inf_as_na option is deprecated and will be removed in a future version. Convert inf values to NaN before operating instead.\n",
      "  with pd.option_context('mode.use_inf_as_na', True):\n"
     ]
    },
    {
     "data": {
      "text/plain": [
       "<Axes: xlabel='01_sender_sending_days', ylabel='Count'>"
      ]
     },
     "execution_count": 290,
     "metadata": {},
     "output_type": "execute_result"
    },
    {
     "data": {
      "image/png": "[encoded data removed]",
      "text/plain": [
       "<Figure size 1200x400 with 2 Axes>"
      ]
     },
     "metadata": {},
     "output_type": "display_data"
    }
   ],
   "source": [
    "df_source['01_sender_sending_days'] = escalo_percentiles(df_source['sender_sending_days'], 0.01, 0.99)\n",
    "\n",
    "fig, axs = plt.subplots(1,2,figsize = (12, 4))\n",
    "sns.histplot(data=df_source, x=\"sender_sending_days\", ax = axs[0])\n",
    "sns.histplot(data=df_source, x=\"01_sender_sending_days\", ax = axs[1])"
   ]
  },
  {
   "cell_type": "code",
   "execution_count": 291,
   "id": "3d6a278c-dd3f-44f6-a1a0-e99eaa96970a",
   "metadata": {
    "tags": []
   },
   "outputs": [
    {
     "data": {
      "text/plain": [
       "count    2.126358e+06\n",
       "mean     1.593066e+03\n",
       "std      1.404471e+03\n",
       "min     -2.800000e+01\n",
       "25%      5.660000e+02\n",
       "50%      1.115000e+03\n",
       "75%      2.223000e+03\n",
       "max      6.626000e+03\n",
       "Name: branch_working_days, dtype: float64"
      ]
     },
     "execution_count": 291,
     "metadata": {},
     "output_type": "execute_result"
    }
   ],
   "source": [
    "df_source['branch_working_days'].describe()"
   ]
  },
  {
   "cell_type": "code",
   "execution_count": 292,
   "id": "37cd99ba-79c8-436f-9332-0cc4dde88f54",
   "metadata": {
    "tags": []
   },
   "outputs": [
    {
     "data": {
      "text/plain": [
       "count    2.126358e+06\n",
       "mean     4.660120e+02\n",
       "std      5.830880e+02\n",
       "min      1.000000e+00\n",
       "25%      1.020000e+02\n",
       "50%      2.400000e+02\n",
       "75%      5.700000e+02\n",
       "max      7.995000e+03\n",
       "Name: net_amount_receiver, dtype: float64"
      ]
     },
     "execution_count": 292,
     "metadata": {},
     "output_type": "execute_result"
    }
   ],
   "source": [
    "df_source['net_amount_receiver'].describe()"
   ]
  },
  {
   "cell_type": "code",
   "execution_count": 293,
   "id": "3ed872bb-b259-450d-a233-3e86b0ef1111",
   "metadata": {
    "tags": []
   },
   "outputs": [
    {
     "data": {
      "text/plain": [
       "count    2.126358e+06\n",
       "mean     9.918351e+01\n",
       "std      4.332276e+02\n",
       "min      0.000000e+00\n",
       "25%      0.000000e+00\n",
       "50%      0.000000e+00\n",
       "75%      0.000000e+00\n",
       "max      2.880000e+03\n",
       "Name: sender_minutes_since_last_transaction_2days, dtype: float64"
      ]
     },
     "execution_count": 293,
     "metadata": {},
     "output_type": "execute_result"
    }
   ],
   "source": [
    "df_source['sender_minutes_since_last_transaction_2days'].describe()"
   ]
  },
  {
   "cell_type": "code",
   "execution_count": 294,
   "id": "0f497437-afee-4ad8-b17c-d69f5a052f02",
   "metadata": {},
   "outputs": [
    {
     "data": {
      "text/plain": [
       "count    2.126358e+06\n",
       "mean     2.678622e+01\n",
       "std      1.743350e+02\n",
       "min      0.000000e+00\n",
       "25%      0.000000e+00\n",
       "50%      0.000000e+00\n",
       "75%      0.000000e+00\n",
       "max      1.440000e+03\n",
       "Name: sender_minutes_since_last_transaction_1day, dtype: float64"
      ]
     },
     "execution_count": 294,
     "metadata": {},
     "output_type": "execute_result"
    }
   ],
   "source": [
    "df_source['sender_minutes_since_last_transaction_1day'].describe()"
   ]
  },
  {
   "cell_type": "code",
   "execution_count": 295,
   "id": "32afdd0e-1794-4808-982b-178756a40198",
   "metadata": {
    "tags": []
   },
   "outputs": [
    {
     "data": {
      "text/plain": [
       "count    2.126358e+06\n",
       "mean     2.135819e+02\n",
       "std      9.605702e+01\n",
       "min      0.000000e+00\n",
       "25%      1.670000e+02\n",
       "50%      2.640000e+02\n",
       "75%      2.810000e+02\n",
       "max      3.050000e+02\n",
       "Name: sender_days_to_last_transaction_365, dtype: float64"
      ]
     },
     "execution_count": 295,
     "metadata": {},
     "output_type": "execute_result"
    }
   ],
   "source": [
    "df_source['sender_days_to_last_transaction_365'].describe()"
   ]
  },
  {
   "cell_type": "code",
   "execution_count": 296,
   "id": "983792e4-a974-4846-8ecb-26d143b638c6",
   "metadata": {
    "tags": []
   },
   "outputs": [
    {
     "data": {
      "text/plain": [
       "count    2.126358e+06\n",
       "mean     1.025884e+02\n",
       "std      6.809475e+02\n",
       "min      0.000000e+00\n",
       "25%      3.000000e+00\n",
       "50%      1.000000e+01\n",
       "75%      3.400000e+01\n",
       "max      4.449980e+05\n",
       "Name: branch_minutes_since_last_transaction, dtype: float64"
      ]
     },
     "execution_count": 296,
     "metadata": {},
     "output_type": "execute_result"
    }
   ],
   "source": [
    "df_source['branch_minutes_since_last_transaction'].describe()"
   ]
  },
  {
   "cell_type": "code",
   "execution_count": 297,
   "id": "cbe73b06-2442-48c2-b73f-24eda30d96d6",
   "metadata": {
    "tags": []
   },
   "outputs": [],
   "source": [
    "# Normalizo a lo bruto. Dsp reviso el algoritmo\n",
    "df_source['01_receiver_transaction_count'] = escalo_percentiles(df_source['receiver_transaction_count'], 0.01, 0.99)\n",
    "df_source['01_branch_working_days'] = escalo_percentiles(df_source['branch_working_days'], 0.01, 0.99)\n",
    "df_source['01_net_amount_receiver'] = escalo_percentiles(df_source['net_amount_receiver'], 0.01, 0.99)\n",
    "df_source['01_sender_minutes_since_last_transaction_2days'] = escalo_percentiles(df_source['sender_minutes_since_last_transaction_2days'], 0.01, 0.99)\n",
    "df_source['01_sender_minutes_since_last_transaction_1day'] = escalo_percentiles(df_source['sender_minutes_since_last_transaction_1day'], 0.01, 0.99)\n",
    "df_source['01_sender_days_to_last_transaction_365'] = escalo_percentiles(df_source['sender_days_to_last_transaction_365'], 0.01, 0.99)\n"
   ]
  },
  {
   "cell_type": "code",
   "execution_count": 298,
   "id": "a6457d2b-4183-4373-8102-147bd091601b",
   "metadata": {
    "tags": []
   },
   "outputs": [
    {
     "data": {
      "text/plain": [
       "count    2.126358e+06\n",
       "mean     7.071969e-01\n",
       "std      3.180434e-01\n",
       "min      0.000000e+00\n",
       "25%      5.529801e-01\n",
       "50%      8.741722e-01\n",
       "75%      9.304636e-01\n",
       "max      1.000000e+00\n",
       "Name: 01_sender_days_to_last_transaction_365, dtype: float64"
      ]
     },
     "execution_count": 298,
     "metadata": {},
     "output_type": "execute_result"
    }
   ],
   "source": [
    "df_source['01_receiver_transaction_count'].describe()\n",
    "df_source['01_sender_sending_days'].describe()\n",
    "df_source['01_branch_working_days'].describe()\n",
    "df_source['01_net_amount_receiver'].describe()\n",
    "df_source['01_sender_minutes_since_last_transaction_2days'].describe()\n",
    "df_source['01_sender_minutes_since_last_transaction_1day'].describe()\n",
    "df_source['01_sender_days_to_last_transaction_365'].describe()"
   ]
  },
  {
   "cell_type": "markdown",
   "id": "b65320af-7616-4484-8d02-50384a1508a4",
   "metadata": {},
   "source": [
    "## Creo Variables dummy"
   ]
  },
  {
   "cell_type": "code",
   "execution_count": 299,
   "id": "19911ce0-81cd-4119-a911-9cbf35badf34",
   "metadata": {},
   "outputs": [],
   "source": [
    "todummy_list = ['day_name_receiver','id_payout']\n",
    "[df_source, var_nuevas] = creo_dummies(df_source, todummy_list)"
   ]
  },
  {
   "cell_type": "markdown",
   "id": "e236484e-0e85-4a88-b930-cc1ff783b66f",
   "metadata": {},
   "source": [
    "## Creacion del target"
   ]
  },
  {
   "cell_type": "code",
   "execution_count": 300,
   "id": "d35931e3-9602-4eac-a5f2-1e93928dba0d",
   "metadata": {
    "tags": []
   },
   "outputs": [
    {
     "data": {
      "text/plain": [
       "fraud_type\n",
       "Payment          28\n",
       "Remote access     9\n",
       "Name: count, dtype: int64"
      ]
     },
     "execution_count": 300,
     "metadata": {},
     "output_type": "execute_result"
    }
   ],
   "source": [
    "df_source['fraud_type'].value_counts()"
   ]
  },
  {
   "cell_type": "code",
   "execution_count": 301,
   "id": "c8e16e2e-9daf-4df4-a470-0821db639a46",
   "metadata": {
    "tags": []
   },
   "outputs": [],
   "source": [
    "# defino los targets\n",
    "df_source['target1'] = df_source['fraud_type'] == 'Remote access'\n",
    "df_source['target2'] = df_source['fraud_type'] == 'Payment'\n",
    "df_source['target_fraudes'] = df_source['fraud_type'].notnull()\n"
   ]
  },
  {
   "cell_type": "code",
   "execution_count": 302,
   "id": "dbfd9bdb-fb8a-4ec4-8edf-40ddfc90f4a7",
   "metadata": {
    "tags": []
   },
   "outputs": [
    {
     "data": {
      "text/plain": [
       "target1\n",
       "False    2126349\n",
       "True           9\n",
       "Name: count, dtype: int64"
      ]
     },
     "execution_count": 302,
     "metadata": {},
     "output_type": "execute_result"
    }
   ],
   "source": [
    "df_source['target1'].value_counts()"
   ]
  },
  {
   "cell_type": "code",
   "execution_count": 303,
   "id": "c6796bb8-2d8f-4385-8cec-0a5572c5e1e0",
   "metadata": {
    "tags": []
   },
   "outputs": [
    {
     "data": {
      "text/plain": [
       "target2\n",
       "False    2126330\n",
       "True          28\n",
       "Name: count, dtype: int64"
      ]
     },
     "execution_count": 303,
     "metadata": {},
     "output_type": "execute_result"
    }
   ],
   "source": [
    "df_source['target2'].value_counts()"
   ]
  },
  {
   "cell_type": "code",
   "execution_count": 304,
   "id": "2989957e-7742-4f7c-93d9-cd55639e4b5c",
   "metadata": {
    "tags": []
   },
   "outputs": [
    {
     "data": {
      "text/plain": [
       "target_fraudes\n",
       "False    2126321\n",
       "True          37\n",
       "Name: count, dtype: int64"
      ]
     },
     "execution_count": 304,
     "metadata": {},
     "output_type": "execute_result"
    }
   ],
   "source": [
    "df_source['target_fraudes'].value_counts()"
   ]
  },
  {
   "cell_type": "markdown",
   "id": "1ff64d64-0669-4917-8169-6c89ce925375",
   "metadata": {},
   "source": [
    "## Guardo archivos para dsp juntar en el entrenamiento"
   ]
  },
  {
   "cell_type": "code",
   "execution_count": 305,
   "id": "7ae5411d-50c4-4812-89f4-155d0705b2fa",
   "metadata": {
    "tags": []
   },
   "outputs": [],
   "source": [
    "#Me quedo con las variables q voy a usar\n",
    "df_source.columns.values\n",
    "df = df_source [[\n",
    "           '01_receiver_transaction_count','01_sender_sending_days','01_branch_working_days','01_net_amount_receiver','01_sender_minutes_since_last_transaction_2days',\n",
    "           '01_sender_minutes_since_last_transaction_1day','01_sender_days_to_last_transaction_365']]\n",
    "df = pd.concat([df, df_source[var_nuevas]], axis=1)\n",
    "df = pd.concat([df, df_source[['target1','target2','target_fraudes']]], axis=1)\n",
    "\n",
    "##'sender_days_since_last_transaction','sender_minutes_since_last_transaction'\n",
    "#'id_branch', 'id_receiver', 'hour_receiver','day_name_receiver','net_amount_receiver','was_ofac_receiver_hit','was_ofac_sender_hit',\n",
    "#'receiver_transaction_count','branch_working_days','sender_sending_days','branch_minutes_since_last_transaction','sender_days_to_last_transaction',\n",
    "#'fraud_type','date_receiver_clean','target1','target2',"
   ]
  },
  {
   "cell_type": "code",
   "execution_count": 306,
   "id": "ba4e41fa-db88-4bad-9d26-3a22a5283278",
   "metadata": {},
   "outputs": [
    {
     "data": {
      "text/html": [
       "<div>\n",
       "<style scoped>\n",
       "    .dataframe tbody tr th:only-of-type {\n",
       "        vertical-align: middle;\n",
       "    }\n",
       "\n",
       "    .dataframe tbody tr th {\n",
       "        vertical-align: top;\n",
       "    }\n",
       "\n",
       "    .dataframe thead th {\n",
       "        text-align: right;\n",
       "    }\n",
       "</style>\n",
       "<table border=\"1\" class=\"dataframe\">\n",
       "  <thead>\n",
       "    <tr style=\"text-align: right;\">\n",
       "      <th></th>\n",
       "      <th>01_receiver_transaction_count</th>\n",
       "      <th>01_sender_sending_days</th>\n",
       "      <th>01_branch_working_days</th>\n",
       "      <th>01_net_amount_receiver</th>\n",
       "      <th>01_sender_minutes_since_last_transaction_2days</th>\n",
       "      <th>01_sender_minutes_since_last_transaction_1day</th>\n",
       "      <th>01_sender_days_to_last_transaction_365</th>\n",
       "      <th>day_name_receiver_Friday</th>\n",
       "      <th>day_name_receiver_Monday</th>\n",
       "      <th>day_name_receiver_Saturday</th>\n",
       "      <th>...</th>\n",
       "      <th>id_payout_M</th>\n",
       "      <th>id_payout_N</th>\n",
       "      <th>id_payout_O</th>\n",
       "      <th>id_payout_P</th>\n",
       "      <th>id_payout_S</th>\n",
       "      <th>id_payout_T</th>\n",
       "      <th>id_payout_X</th>\n",
       "      <th>target1</th>\n",
       "      <th>target2</th>\n",
       "      <th>target_fraudes</th>\n",
       "    </tr>\n",
       "  </thead>\n",
       "  <tbody>\n",
       "    <tr>\n",
       "      <th>0</th>\n",
       "      <td>0.323529</td>\n",
       "      <td>0.840000</td>\n",
       "      <td>0.096780</td>\n",
       "      <td>0.135036</td>\n",
       "      <td>0.000000</td>\n",
       "      <td>0.00000</td>\n",
       "      <td>0.950331</td>\n",
       "      <td>True</td>\n",
       "      <td>False</td>\n",
       "      <td>False</td>\n",
       "      <td>...</td>\n",
       "      <td>False</td>\n",
       "      <td>False</td>\n",
       "      <td>False</td>\n",
       "      <td>True</td>\n",
       "      <td>False</td>\n",
       "      <td>False</td>\n",
       "      <td>False</td>\n",
       "      <td>False</td>\n",
       "      <td>False</td>\n",
       "      <td>False</td>\n",
       "    </tr>\n",
       "    <tr>\n",
       "      <th>1</th>\n",
       "      <td>0.058824</td>\n",
       "      <td>0.684444</td>\n",
       "      <td>0.963172</td>\n",
       "      <td>0.000000</td>\n",
       "      <td>0.005961</td>\n",
       "      <td>0.01251</td>\n",
       "      <td>0.927152</td>\n",
       "      <td>True</td>\n",
       "      <td>False</td>\n",
       "      <td>False</td>\n",
       "      <td>...</td>\n",
       "      <td>False</td>\n",
       "      <td>False</td>\n",
       "      <td>False</td>\n",
       "      <td>True</td>\n",
       "      <td>False</td>\n",
       "      <td>False</td>\n",
       "      <td>False</td>\n",
       "      <td>False</td>\n",
       "      <td>False</td>\n",
       "      <td>False</td>\n",
       "    </tr>\n",
       "    <tr>\n",
       "      <th>2</th>\n",
       "      <td>0.088235</td>\n",
       "      <td>0.477778</td>\n",
       "      <td>0.489723</td>\n",
       "      <td>0.135036</td>\n",
       "      <td>0.000000</td>\n",
       "      <td>0.00000</td>\n",
       "      <td>0.864238</td>\n",
       "      <td>True</td>\n",
       "      <td>False</td>\n",
       "      <td>False</td>\n",
       "      <td>...</td>\n",
       "      <td>False</td>\n",
       "      <td>False</td>\n",
       "      <td>False</td>\n",
       "      <td>True</td>\n",
       "      <td>False</td>\n",
       "      <td>False</td>\n",
       "      <td>False</td>\n",
       "      <td>False</td>\n",
       "      <td>False</td>\n",
       "      <td>False</td>\n",
       "    </tr>\n",
       "    <tr>\n",
       "      <th>3</th>\n",
       "      <td>0.039216</td>\n",
       "      <td>0.077778</td>\n",
       "      <td>0.186708</td>\n",
       "      <td>0.354015</td>\n",
       "      <td>0.000000</td>\n",
       "      <td>0.00000</td>\n",
       "      <td>0.870861</td>\n",
       "      <td>True</td>\n",
       "      <td>False</td>\n",
       "      <td>False</td>\n",
       "      <td>...</td>\n",
       "      <td>False</td>\n",
       "      <td>False</td>\n",
       "      <td>False</td>\n",
       "      <td>False</td>\n",
       "      <td>False</td>\n",
       "      <td>False</td>\n",
       "      <td>False</td>\n",
       "      <td>False</td>\n",
       "      <td>False</td>\n",
       "      <td>False</td>\n",
       "    </tr>\n",
       "    <tr>\n",
       "      <th>4</th>\n",
       "      <td>0.225490</td>\n",
       "      <td>0.933333</td>\n",
       "      <td>0.850634</td>\n",
       "      <td>0.007299</td>\n",
       "      <td>0.000000</td>\n",
       "      <td>0.00000</td>\n",
       "      <td>0.953642</td>\n",
       "      <td>True</td>\n",
       "      <td>False</td>\n",
       "      <td>False</td>\n",
       "      <td>...</td>\n",
       "      <td>False</td>\n",
       "      <td>False</td>\n",
       "      <td>False</td>\n",
       "      <td>True</td>\n",
       "      <td>False</td>\n",
       "      <td>False</td>\n",
       "      <td>False</td>\n",
       "      <td>False</td>\n",
       "      <td>False</td>\n",
       "      <td>False</td>\n",
       "    </tr>\n",
       "    <tr>\n",
       "      <th>...</th>\n",
       "      <td>...</td>\n",
       "      <td>...</td>\n",
       "      <td>...</td>\n",
       "      <td>...</td>\n",
       "      <td>...</td>\n",
       "      <td>...</td>\n",
       "      <td>...</td>\n",
       "      <td>...</td>\n",
       "      <td>...</td>\n",
       "      <td>...</td>\n",
       "      <td>...</td>\n",
       "      <td>...</td>\n",
       "      <td>...</td>\n",
       "      <td>...</td>\n",
       "      <td>...</td>\n",
       "      <td>...</td>\n",
       "      <td>...</td>\n",
       "      <td>...</td>\n",
       "      <td>...</td>\n",
       "      <td>...</td>\n",
       "      <td>...</td>\n",
       "    </tr>\n",
       "    <tr>\n",
       "      <th>2126353</th>\n",
       "      <td>0.254902</td>\n",
       "      <td>0.791111</td>\n",
       "      <td>0.470024</td>\n",
       "      <td>0.080292</td>\n",
       "      <td>0.000000</td>\n",
       "      <td>0.00000</td>\n",
       "      <td>0.966887</td>\n",
       "      <td>False</td>\n",
       "      <td>False</td>\n",
       "      <td>False</td>\n",
       "      <td>...</td>\n",
       "      <td>False</td>\n",
       "      <td>False</td>\n",
       "      <td>False</td>\n",
       "      <td>True</td>\n",
       "      <td>False</td>\n",
       "      <td>False</td>\n",
       "      <td>False</td>\n",
       "      <td>False</td>\n",
       "      <td>False</td>\n",
       "      <td>False</td>\n",
       "    </tr>\n",
       "    <tr>\n",
       "      <th>2126354</th>\n",
       "      <td>0.088235</td>\n",
       "      <td>0.913333</td>\n",
       "      <td>0.569202</td>\n",
       "      <td>0.098540</td>\n",
       "      <td>0.000000</td>\n",
       "      <td>0.00000</td>\n",
       "      <td>0.897351</td>\n",
       "      <td>False</td>\n",
       "      <td>False</td>\n",
       "      <td>False</td>\n",
       "      <td>...</td>\n",
       "      <td>False</td>\n",
       "      <td>False</td>\n",
       "      <td>False</td>\n",
       "      <td>True</td>\n",
       "      <td>False</td>\n",
       "      <td>False</td>\n",
       "      <td>False</td>\n",
       "      <td>False</td>\n",
       "      <td>False</td>\n",
       "      <td>False</td>\n",
       "    </tr>\n",
       "    <tr>\n",
       "      <th>2126355</th>\n",
       "      <td>0.009804</td>\n",
       "      <td>0.631111</td>\n",
       "      <td>0.081877</td>\n",
       "      <td>0.354015</td>\n",
       "      <td>0.000000</td>\n",
       "      <td>0.00000</td>\n",
       "      <td>0.913907</td>\n",
       "      <td>False</td>\n",
       "      <td>False</td>\n",
       "      <td>False</td>\n",
       "      <td>...</td>\n",
       "      <td>False</td>\n",
       "      <td>False</td>\n",
       "      <td>False</td>\n",
       "      <td>True</td>\n",
       "      <td>False</td>\n",
       "      <td>False</td>\n",
       "      <td>False</td>\n",
       "      <td>False</td>\n",
       "      <td>False</td>\n",
       "      <td>False</td>\n",
       "    </tr>\n",
       "    <tr>\n",
       "      <th>2126356</th>\n",
       "      <td>0.264706</td>\n",
       "      <td>0.915556</td>\n",
       "      <td>0.125728</td>\n",
       "      <td>0.083942</td>\n",
       "      <td>0.000000</td>\n",
       "      <td>0.00000</td>\n",
       "      <td>0.662252</td>\n",
       "      <td>False</td>\n",
       "      <td>False</td>\n",
       "      <td>False</td>\n",
       "      <td>...</td>\n",
       "      <td>False</td>\n",
       "      <td>False</td>\n",
       "      <td>False</td>\n",
       "      <td>False</td>\n",
       "      <td>False</td>\n",
       "      <td>False</td>\n",
       "      <td>False</td>\n",
       "      <td>False</td>\n",
       "      <td>False</td>\n",
       "      <td>False</td>\n",
       "    </tr>\n",
       "    <tr>\n",
       "      <th>2126357</th>\n",
       "      <td>0.372549</td>\n",
       "      <td>0.331111</td>\n",
       "      <td>0.079308</td>\n",
       "      <td>0.135036</td>\n",
       "      <td>0.000000</td>\n",
       "      <td>0.00000</td>\n",
       "      <td>0.963576</td>\n",
       "      <td>False</td>\n",
       "      <td>False</td>\n",
       "      <td>False</td>\n",
       "      <td>...</td>\n",
       "      <td>False</td>\n",
       "      <td>False</td>\n",
       "      <td>False</td>\n",
       "      <td>True</td>\n",
       "      <td>False</td>\n",
       "      <td>False</td>\n",
       "      <td>False</td>\n",
       "      <td>False</td>\n",
       "      <td>False</td>\n",
       "      <td>False</td>\n",
       "    </tr>\n",
       "  </tbody>\n",
       "</table>\n",
       "<p>2126358 rows × 27 columns</p>\n",
       "</div>"
      ],
      "text/plain": [
       "         01_receiver_transaction_count  01_sender_sending_days  \\\n",
       "0                             0.323529                0.840000   \n",
       "1                             0.058824                0.684444   \n",
       "2                             0.088235                0.477778   \n",
       "3                             0.039216                0.077778   \n",
       "4                             0.225490                0.933333   \n",
       "...                                ...                     ...   \n",
       "2126353                       0.254902                0.791111   \n",
       "2126354                       0.088235                0.913333   \n",
       "2126355                       0.009804                0.631111   \n",
       "2126356                       0.264706                0.915556   \n",
       "2126357                       0.372549                0.331111   \n",
       "\n",
       "         01_branch_working_days  01_net_amount_receiver  \\\n",
       "0                      0.096780                0.135036   \n",
       "1                      0.963172                0.000000   \n",
       "2                      0.489723                0.135036   \n",
       "3                      0.186708                0.354015   \n",
       "4                      0.850634                0.007299   \n",
       "...                         ...                     ...   \n",
       "2126353                0.470024                0.080292   \n",
       "2126354                0.569202                0.098540   \n",
       "2126355                0.081877                0.354015   \n",
       "2126356                0.125728                0.083942   \n",
       "2126357                0.079308                0.135036   \n",
       "\n",
       "         01_sender_minutes_since_last_transaction_2days  \\\n",
       "0                                              0.000000   \n",
       "1                                              0.005961   \n",
       "2                                              0.000000   \n",
       "3                                              0.000000   \n",
       "4                                              0.000000   \n",
       "...                                                 ...   \n",
       "2126353                                        0.000000   \n",
       "2126354                                        0.000000   \n",
       "2126355                                        0.000000   \n",
       "2126356                                        0.000000   \n",
       "2126357                                        0.000000   \n",
       "\n",
       "         01_sender_minutes_since_last_transaction_1day  \\\n",
       "0                                              0.00000   \n",
       "1                                              0.01251   \n",
       "2                                              0.00000   \n",
       "3                                              0.00000   \n",
       "4                                              0.00000   \n",
       "...                                                ...   \n",
       "2126353                                        0.00000   \n",
       "2126354                                        0.00000   \n",
       "2126355                                        0.00000   \n",
       "2126356                                        0.00000   \n",
       "2126357                                        0.00000   \n",
       "\n",
       "         01_sender_days_to_last_transaction_365  day_name_receiver_Friday  \\\n",
       "0                                      0.950331                      True   \n",
       "1                                      0.927152                      True   \n",
       "2                                      0.864238                      True   \n",
       "3                                      0.870861                      True   \n",
       "4                                      0.953642                      True   \n",
       "...                                         ...                       ...   \n",
       "2126353                                0.966887                     False   \n",
       "2126354                                0.897351                     False   \n",
       "2126355                                0.913907                     False   \n",
       "2126356                                0.662252                     False   \n",
       "2126357                                0.963576                     False   \n",
       "\n",
       "         day_name_receiver_Monday  day_name_receiver_Saturday  ...  \\\n",
       "0                           False                       False  ...   \n",
       "1                           False                       False  ...   \n",
       "2                           False                       False  ...   \n",
       "3                           False                       False  ...   \n",
       "4                           False                       False  ...   \n",
       "...                           ...                         ...  ...   \n",
       "2126353                     False                       False  ...   \n",
       "2126354                     False                       False  ...   \n",
       "2126355                     False                       False  ...   \n",
       "2126356                     False                       False  ...   \n",
       "2126357                     False                       False  ...   \n",
       "\n",
       "         id_payout_M  id_payout_N  id_payout_O  id_payout_P  id_payout_S  \\\n",
       "0              False        False        False         True        False   \n",
       "1              False        False        False         True        False   \n",
       "2              False        False        False         True        False   \n",
       "3              False        False        False        False        False   \n",
       "4              False        False        False         True        False   \n",
       "...              ...          ...          ...          ...          ...   \n",
       "2126353        False        False        False         True        False   \n",
       "2126354        False        False        False         True        False   \n",
       "2126355        False        False        False         True        False   \n",
       "2126356        False        False        False        False        False   \n",
       "2126357        False        False        False         True        False   \n",
       "\n",
       "         id_payout_T  id_payout_X  target1  target2  target_fraudes  \n",
       "0              False        False    False    False           False  \n",
       "1              False        False    False    False           False  \n",
       "2              False        False    False    False           False  \n",
       "3              False        False    False    False           False  \n",
       "4              False        False    False    False           False  \n",
       "...              ...          ...      ...      ...             ...  \n",
       "2126353        False        False    False    False           False  \n",
       "2126354        False        False    False    False           False  \n",
       "2126355        False        False    False    False           False  \n",
       "2126356        False        False    False    False           False  \n",
       "2126357        False        False    False    False           False  \n",
       "\n",
       "[2126358 rows x 27 columns]"
      ]
     },
     "execution_count": 306,
     "metadata": {},
     "output_type": "execute_result"
    }
   ],
   "source": [
    "df"
   ]
  },
  {
   "cell_type": "code",
   "execution_count": 307,
   "id": "add330ae-0d34-4c56-8f87-fd02df009281",
   "metadata": {
    "tags": []
   },
   "outputs": [],
   "source": [
    "import os\n",
    "import pyarrow as pa\n",
    "import pyarrow.parquet as pq"
   ]
  },
  {
   "cell_type": "code",
   "execution_count": 308,
   "id": "d87e689c-fa6c-48ec-ae38-e2da2f97da87",
   "metadata": {},
   "outputs": [],
   "source": [
    "#guardar_dataset_con_valor_parquet(df_source, columna_nombre='mes', nombre_archivo='Prepoc_Fraude',carpeta='ABT') # save ABT in parquet format"
   ]
  },
  {
   "cell_type": "code",
   "execution_count": 309,
   "id": "5470713d-b255-4419-851d-e9484ab5bfe7",
   "metadata": {
    "tags": []
   },
   "outputs": [
    {
     "name": "stdout",
     "output_type": "stream",
     "text": [
      "termine de salvar el parquet\n"
     ]
    }
   ],
   "source": [
    "if archivo_test == 0:\n",
    "    s3_url = f\"s3://viamericas-datalake-dev-us-east-1-283731589572-raw/FraudModel/Train/Preproc_Fr_{mes_data}.parquet\"\n",
    "elif archivo_test ==1:\n",
    "    s3_url = f\"s3://viamericas-datalake-dev-us-east-1-283731589572-raw/FraudModel/Test/Preproc_Fr_{mes_data}.parquet\"\n",
    "#df.to_parquet(path='./exp1.parquet', engine='pyarrow', compression='gzip')\n",
    "df.to_parquet(path=s3_url, engine='pyarrow', compression='gzip')\n",
    "print('termine de salvar el parquet')"
   ]
  },
  {
   "cell_type": "markdown",
   "id": "c9334bf2-461e-4be0-9515-4918bb528c7c",
   "metadata": {},
   "source": [
    "## Entreno para probar un minimodelo"
   ]
  },
  {
   "cell_type": "code",
   "execution_count": 310,
   "id": "05db07ce-1b5e-4111-8068-25386ea9f165",
   "metadata": {
    "tags": []
   },
   "outputs": [],
   "source": [
    "#s3_url = f\"s3://viamericas-datalake-dev-us-east-1-283731589572-raw/FraudModel/Train/Preproc_Fr_{mes_data}.parquet\"\n",
    "#df = pd.read_parquet(s3_url)"
   ]
  },
  {
   "cell_type": "code",
   "execution_count": 311,
   "id": "8a352222-4890-433a-890c-daaf6df14b6e",
   "metadata": {
    "tags": []
   },
   "outputs": [
    {
     "data": {
      "text/html": [
       "<div>\n",
       "<style scoped>\n",
       "    .dataframe tbody tr th:only-of-type {\n",
       "        vertical-align: middle;\n",
       "    }\n",
       "\n",
       "    .dataframe tbody tr th {\n",
       "        vertical-align: top;\n",
       "    }\n",
       "\n",
       "    .dataframe thead th {\n",
       "        text-align: right;\n",
       "    }\n",
       "</style>\n",
       "<table border=\"1\" class=\"dataframe\">\n",
       "  <thead>\n",
       "    <tr style=\"text-align: right;\">\n",
       "      <th></th>\n",
       "      <th>01_receiver_transaction_count</th>\n",
       "      <th>01_sender_sending_days</th>\n",
       "      <th>01_branch_working_days</th>\n",
       "      <th>01_net_amount_receiver</th>\n",
       "      <th>01_sender_minutes_since_last_transaction_2days</th>\n",
       "      <th>01_sender_minutes_since_last_transaction_1day</th>\n",
       "      <th>01_sender_days_to_last_transaction_365</th>\n",
       "      <th>day_name_receiver_Friday</th>\n",
       "      <th>day_name_receiver_Monday</th>\n",
       "      <th>day_name_receiver_Saturday</th>\n",
       "      <th>...</th>\n",
       "      <th>id_payout_M</th>\n",
       "      <th>id_payout_N</th>\n",
       "      <th>id_payout_O</th>\n",
       "      <th>id_payout_P</th>\n",
       "      <th>id_payout_S</th>\n",
       "      <th>id_payout_T</th>\n",
       "      <th>id_payout_X</th>\n",
       "      <th>target1</th>\n",
       "      <th>target2</th>\n",
       "      <th>target_fraudes</th>\n",
       "    </tr>\n",
       "  </thead>\n",
       "  <tbody>\n",
       "    <tr>\n",
       "      <th>0</th>\n",
       "      <td>0.323529</td>\n",
       "      <td>0.840000</td>\n",
       "      <td>0.096780</td>\n",
       "      <td>0.135036</td>\n",
       "      <td>0.000000</td>\n",
       "      <td>0.00000</td>\n",
       "      <td>0.950331</td>\n",
       "      <td>True</td>\n",
       "      <td>False</td>\n",
       "      <td>False</td>\n",
       "      <td>...</td>\n",
       "      <td>False</td>\n",
       "      <td>False</td>\n",
       "      <td>False</td>\n",
       "      <td>True</td>\n",
       "      <td>False</td>\n",
       "      <td>False</td>\n",
       "      <td>False</td>\n",
       "      <td>False</td>\n",
       "      <td>False</td>\n",
       "      <td>False</td>\n",
       "    </tr>\n",
       "    <tr>\n",
       "      <th>1</th>\n",
       "      <td>0.058824</td>\n",
       "      <td>0.684444</td>\n",
       "      <td>0.963172</td>\n",
       "      <td>0.000000</td>\n",
       "      <td>0.005961</td>\n",
       "      <td>0.01251</td>\n",
       "      <td>0.927152</td>\n",
       "      <td>True</td>\n",
       "      <td>False</td>\n",
       "      <td>False</td>\n",
       "      <td>...</td>\n",
       "      <td>False</td>\n",
       "      <td>False</td>\n",
       "      <td>False</td>\n",
       "      <td>True</td>\n",
       "      <td>False</td>\n",
       "      <td>False</td>\n",
       "      <td>False</td>\n",
       "      <td>False</td>\n",
       "      <td>False</td>\n",
       "      <td>False</td>\n",
       "    </tr>\n",
       "    <tr>\n",
       "      <th>2</th>\n",
       "      <td>0.088235</td>\n",
       "      <td>0.477778</td>\n",
       "      <td>0.489723</td>\n",
       "      <td>0.135036</td>\n",
       "      <td>0.000000</td>\n",
       "      <td>0.00000</td>\n",
       "      <td>0.864238</td>\n",
       "      <td>True</td>\n",
       "      <td>False</td>\n",
       "      <td>False</td>\n",
       "      <td>...</td>\n",
       "      <td>False</td>\n",
       "      <td>False</td>\n",
       "      <td>False</td>\n",
       "      <td>True</td>\n",
       "      <td>False</td>\n",
       "      <td>False</td>\n",
       "      <td>False</td>\n",
       "      <td>False</td>\n",
       "      <td>False</td>\n",
       "      <td>False</td>\n",
       "    </tr>\n",
       "    <tr>\n",
       "      <th>3</th>\n",
       "      <td>0.039216</td>\n",
       "      <td>0.077778</td>\n",
       "      <td>0.186708</td>\n",
       "      <td>0.354015</td>\n",
       "      <td>0.000000</td>\n",
       "      <td>0.00000</td>\n",
       "      <td>0.870861</td>\n",
       "      <td>True</td>\n",
       "      <td>False</td>\n",
       "      <td>False</td>\n",
       "      <td>...</td>\n",
       "      <td>False</td>\n",
       "      <td>False</td>\n",
       "      <td>False</td>\n",
       "      <td>False</td>\n",
       "      <td>False</td>\n",
       "      <td>False</td>\n",
       "      <td>False</td>\n",
       "      <td>False</td>\n",
       "      <td>False</td>\n",
       "      <td>False</td>\n",
       "    </tr>\n",
       "    <tr>\n",
       "      <th>4</th>\n",
       "      <td>0.225490</td>\n",
       "      <td>0.933333</td>\n",
       "      <td>0.850634</td>\n",
       "      <td>0.007299</td>\n",
       "      <td>0.000000</td>\n",
       "      <td>0.00000</td>\n",
       "      <td>0.953642</td>\n",
       "      <td>True</td>\n",
       "      <td>False</td>\n",
       "      <td>False</td>\n",
       "      <td>...</td>\n",
       "      <td>False</td>\n",
       "      <td>False</td>\n",
       "      <td>False</td>\n",
       "      <td>True</td>\n",
       "      <td>False</td>\n",
       "      <td>False</td>\n",
       "      <td>False</td>\n",
       "      <td>False</td>\n",
       "      <td>False</td>\n",
       "      <td>False</td>\n",
       "    </tr>\n",
       "  </tbody>\n",
       "</table>\n",
       "<p>5 rows × 27 columns</p>\n",
       "</div>"
      ],
      "text/plain": [
       "   01_receiver_transaction_count  01_sender_sending_days  \\\n",
       "0                       0.323529                0.840000   \n",
       "1                       0.058824                0.684444   \n",
       "2                       0.088235                0.477778   \n",
       "3                       0.039216                0.077778   \n",
       "4                       0.225490                0.933333   \n",
       "\n",
       "   01_branch_working_days  01_net_amount_receiver  \\\n",
       "0                0.096780                0.135036   \n",
       "1                0.963172                0.000000   \n",
       "2                0.489723                0.135036   \n",
       "3                0.186708                0.354015   \n",
       "4                0.850634                0.007299   \n",
       "\n",
       "   01_sender_minutes_since_last_transaction_2days  \\\n",
       "0                                        0.000000   \n",
       "1                                        0.005961   \n",
       "2                                        0.000000   \n",
       "3                                        0.000000   \n",
       "4                                        0.000000   \n",
       "\n",
       "   01_sender_minutes_since_last_transaction_1day  \\\n",
       "0                                        0.00000   \n",
       "1                                        0.01251   \n",
       "2                                        0.00000   \n",
       "3                                        0.00000   \n",
       "4                                        0.00000   \n",
       "\n",
       "   01_sender_days_to_last_transaction_365  day_name_receiver_Friday  \\\n",
       "0                                0.950331                      True   \n",
       "1                                0.927152                      True   \n",
       "2                                0.864238                      True   \n",
       "3                                0.870861                      True   \n",
       "4                                0.953642                      True   \n",
       "\n",
       "   day_name_receiver_Monday  day_name_receiver_Saturday  ...  id_payout_M  \\\n",
       "0                     False                       False  ...        False   \n",
       "1                     False                       False  ...        False   \n",
       "2                     False                       False  ...        False   \n",
       "3                     False                       False  ...        False   \n",
       "4                     False                       False  ...        False   \n",
       "\n",
       "   id_payout_N  id_payout_O  id_payout_P  id_payout_S  id_payout_T  \\\n",
       "0        False        False         True        False        False   \n",
       "1        False        False         True        False        False   \n",
       "2        False        False         True        False        False   \n",
       "3        False        False        False        False        False   \n",
       "4        False        False         True        False        False   \n",
       "\n",
       "   id_payout_X  target1  target2  target_fraudes  \n",
       "0        False    False    False           False  \n",
       "1        False    False    False           False  \n",
       "2        False    False    False           False  \n",
       "3        False    False    False           False  \n",
       "4        False    False    False           False  \n",
       "\n",
       "[5 rows x 27 columns]"
      ]
     },
     "execution_count": 311,
     "metadata": {},
     "output_type": "execute_result"
    }
   ],
   "source": [
    "df.head(5)"
   ]
  },
  {
   "cell_type": "code",
   "execution_count": 312,
   "id": "7b43e192-2c1d-438f-bbfd-0887a62b7273",
   "metadata": {
    "tags": []
   },
   "outputs": [],
   "source": [
    "#features = df[[\n",
    "#           '01_receiver_transaction_count','01_sender_sending_days','01_branch_working_days','01_net_amount_receiver','01_sender_minutes_since_last_transaction_2days',\n",
    "#           '01_sender_minutes_since_last_transaction_1day','01_sender_days_to_last_transaction_365',\n",
    "#           'target_fraudes']]\n",
    "#label = df['target_fraudes']\n",
    "#size = 1759577\n",
    "\n",
    "# Hold out 20% of the dataset for training\n",
    "\n",
    "#test_size = int(np.round(size * 0.2, 0))# Split dataset into training and testing sets\n",
    "#x_train = features[:-test_size].values\n",
    "#y_train = label[:-test_size].values\n",
    "#x_test = features[-test_size:].values\n",
    "#y_test = label[-test_size:].values"
   ]
  },
  {
   "cell_type": "code",
   "execution_count": 313,
   "id": "61334e64-77d6-4940-8398-5efe7a4d6517",
   "metadata": {
    "tags": []
   },
   "outputs": [],
   "source": [
    "#from sklearn import svm\n",
    "\n",
    "#model = svm.SVC(kernel='poly', degree=2)\n",
    "#model.fit(x_train, y_train)"
   ]
  },
  {
   "cell_type": "code",
   "execution_count": 314,
   "id": "a69afb6c-1a8e-4d40-8b66-fcd6c52f0afe",
   "metadata": {
    "tags": []
   },
   "outputs": [],
   "source": [
    "#from sklearn.metrics import accuracy_score\n",
    "#predictions_poly = model.predict(x_test)\n",
    "#accuracy_poly = accuracy_score(y_test, predictions_poly)"
   ]
  },
  {
   "cell_type": "code",
   "execution_count": 315,
   "id": "0a04e0c4-b930-4f00-9a7b-36c90ab1bf6a",
   "metadata": {
    "tags": []
   },
   "outputs": [],
   "source": [
    "#print(\"2nd degree polynomial Kernel\\nAccuracy (normalized): \" + str(accuracy_poly))"
   ]
  },
  {
   "cell_type": "code",
   "execution_count": 316,
   "id": "e42a5ad8-43cd-4f42-abb9-4a8dfa3c13ef",
   "metadata": {
    "tags": []
   },
   "outputs": [
    {
     "data": {
      "text/plain": [
       "'202303'"
      ]
     },
     "execution_count": 316,
     "metadata": {},
     "output_type": "execute_result"
    }
   ],
   "source": [
    "mes_data"
   ]
  }
 ],
 "metadata": {
  "availableInstances": [
   {
    "_defaultOrder": 0,
    "_isFastLaunch": true,
    "category": "General purpose",
    "gpuNum": 0,
    "hideHardwareSpecs": false,
    "memoryGiB": 4,
    "name": "ml.t3.medium",
    "vcpuNum": 2
   },
   {
    "_defaultOrder": 1,
    "_isFastLaunch": false,
    "category": "General purpose",
    "gpuNum": 0,
    "hideHardwareSpecs": false,
    "memoryGiB": 8,
    "name": "ml.t3.large",
    "vcpuNum": 2
   },
   {
    "_defaultOrder": 2,
    "_isFastLaunch": false,
    "category": "General purpose",
    "gpuNum": 0,
    "hideHardwareSpecs": false,
    "memoryGiB": 16,
    "name": "ml.t3.xlarge",
    "vcpuNum": 4
   },
   {
    "_defaultOrder": 3,
    "_isFastLaunch": false,
    "category": "General purpose",
    "gpuNum": 0,
    "hideHardwareSpecs": false,
    "memoryGiB": 32,
    "name": "ml.t3.2xlarge",
    "vcpuNum": 8
   },
   {
    "_defaultOrder": 4,
    "_isFastLaunch": true,
    "category": "General purpose",
    "gpuNum": 0,
    "hideHardwareSpecs": false,
    "memoryGiB": 8,
    "name": "ml.m5.large",
    "vcpuNum": 2
   },
   {
    "_defaultOrder": 5,
    "_isFastLaunch": false,
    "category": "General purpose",
    "gpuNum": 0,
    "hideHardwareSpecs": false,
    "memoryGiB": 16,
    "name": "ml.m5.xlarge",
    "vcpuNum": 4
   },
   {
    "_defaultOrder": 6,
    "_isFastLaunch": false,
    "category": "General purpose",
    "gpuNum": 0,
    "hideHardwareSpecs": false,
    "memoryGiB": 32,
    "name": "ml.m5.2xlarge",
    "vcpuNum": 8
   },
   {
    "_defaultOrder": 7,
    "_isFastLaunch": false,
    "category": "General purpose",
    "gpuNum": 0,
    "hideHardwareSpecs": false,
    "memoryGiB": 64,
    "name": "ml.m5.4xlarge",
    "vcpuNum": 16
   },
   {
    "_defaultOrder": 8,
    "_isFastLaunch": false,
    "category": "General purpose",
    "gpuNum": 0,
    "hideHardwareSpecs": false,
    "memoryGiB": 128,
    "name": "ml.m5.8xlarge",
    "vcpuNum": 32
   },
   {
    "_defaultOrder": 9,
    "_isFastLaunch": false,
    "category": "General purpose",
    "gpuNum": 0,
    "hideHardwareSpecs": false,
    "memoryGiB": 192,
    "name": "ml.m5.12xlarge",
    "vcpuNum": 48
   },
   {
    "_defaultOrder": 10,
    "_isFastLaunch": false,
    "category": "General purpose",
    "gpuNum": 0,
    "hideHardwareSpecs": false,
    "memoryGiB": 256,
    "name": "ml.m5.16xlarge",
    "vcpuNum": 64
   },
   {
    "_defaultOrder": 11,
    "_isFastLaunch": false,
    "category": "General purpose",
    "gpuNum": 0,
    "hideHardwareSpecs": false,
    "memoryGiB": 384,
    "name": "ml.m5.24xlarge",
    "vcpuNum": 96
   },
   {
    "_defaultOrder": 12,
    "_isFastLaunch": false,
    "category": "General purpose",
    "gpuNum": 0,
    "hideHardwareSpecs": false,
    "memoryGiB": 8,
    "name": "ml.m5d.large",
    "vcpuNum": 2
   },
   {
    "_defaultOrder": 13,
    "_isFastLaunch": false,
    "category": "General purpose",
    "gpuNum": 0,
    "hideHardwareSpecs": false,
    "memoryGiB": 16,
    "name": "ml.m5d.xlarge",
    "vcpuNum": 4
   },
   {
    "_defaultOrder": 14,
    "_isFastLaunch": false,
    "category": "General purpose",
    "gpuNum": 0,
    "hideHardwareSpecs": false,
    "memoryGiB": 32,
    "name": "ml.m5d.2xlarge",
    "vcpuNum": 8
   },
   {
    "_defaultOrder": 15,
    "_isFastLaunch": false,
    "category": "General purpose",
    "gpuNum": 0,
    "hideHardwareSpecs": false,
    "memoryGiB": 64,
    "name": "ml.m5d.4xlarge",
    "vcpuNum": 16
   },
   {
    "_defaultOrder": 16,
    "_isFastLaunch": false,
    "category": "General purpose",
    "gpuNum": 0,
    "hideHardwareSpecs": false,
    "memoryGiB": 128,
    "name": "ml.m5d.8xlarge",
    "vcpuNum": 32
   },
   {
    "_defaultOrder": 17,
    "_isFastLaunch": false,
    "category": "General purpose",
    "gpuNum": 0,
    "hideHardwareSpecs": false,
    "memoryGiB": 192,
    "name": "ml.m5d.12xlarge",
    "vcpuNum": 48
   },
   {
    "_defaultOrder": 18,
    "_isFastLaunch": false,
    "category": "General purpose",
    "gpuNum": 0,
    "hideHardwareSpecs": false,
    "memoryGiB": 256,
    "name": "ml.m5d.16xlarge",
    "vcpuNum": 64
   },
   {
    "_defaultOrder": 19,
    "_isFastLaunch": false,
    "category": "General purpose",
    "gpuNum": 0,
    "hideHardwareSpecs": false,
    "memoryGiB": 384,
    "name": "ml.m5d.24xlarge",
    "vcpuNum": 96
   },
   {
    "_defaultOrder": 20,
    "_isFastLaunch": false,
    "category": "General purpose",
    "gpuNum": 0,
    "hideHardwareSpecs": true,
    "memoryGiB": 0,
    "name": "ml.geospatial.interactive",
    "supportedImageNames": [
     "sagemaker-geospatial-v1-0"
    ],
    "vcpuNum": 0
   },
   {
    "_defaultOrder": 21,
    "_isFastLaunch": true,
    "category": "Compute optimized",
    "gpuNum": 0,
    "hideHardwareSpecs": false,
    "memoryGiB": 4,
    "name": "ml.c5.large",
    "vcpuNum": 2
   },
   {
    "_defaultOrder": 22,
    "_isFastLaunch": false,
    "category": "Compute optimized",
    "gpuNum": 0,
    "hideHardwareSpecs": false,
    "memoryGiB": 8,
    "name": "ml.c5.xlarge",
    "vcpuNum": 4
   },
   {
    "_defaultOrder": 23,
    "_isFastLaunch": false,
    "category": "Compute optimized",
    "gpuNum": 0,
    "hideHardwareSpecs": false,
    "memoryGiB": 16,
    "name": "ml.c5.2xlarge",
    "vcpuNum": 8
   },
   {
    "_defaultOrder": 24,
    "_isFastLaunch": false,
    "category": "Compute optimized",
    "gpuNum": 0,
    "hideHardwareSpecs": false,
    "memoryGiB": 32,
    "name": "ml.c5.4xlarge",
    "vcpuNum": 16
   },
   {
    "_defaultOrder": 25,
    "_isFastLaunch": false,
    "category": "Compute optimized",
    "gpuNum": 0,
    "hideHardwareSpecs": false,
    "memoryGiB": 72,
    "name": "ml.c5.9xlarge",
    "vcpuNum": 36
   },
   {
    "_defaultOrder": 26,
    "_isFastLaunch": false,
    "category": "Compute optimized",
    "gpuNum": 0,
    "hideHardwareSpecs": false,
    "memoryGiB": 96,
    "name": "ml.c5.12xlarge",
    "vcpuNum": 48
   },
   {
    "_defaultOrder": 27,
    "_isFastLaunch": false,
    "category": "Compute optimized",
    "gpuNum": 0,
    "hideHardwareSpecs": false,
    "memoryGiB": 144,
    "name": "ml.c5.18xlarge",
    "vcpuNum": 72
   },
   {
    "_defaultOrder": 28,
    "_isFastLaunch": false,
    "category": "Compute optimized",
    "gpuNum": 0,
    "hideHardwareSpecs": false,
    "memoryGiB": 192,
    "name": "ml.c5.24xlarge",
    "vcpuNum": 96
   },
   {
    "_defaultOrder": 29,
    "_isFastLaunch": true,
    "category": "Accelerated computing",
    "gpuNum": 1,
    "hideHardwareSpecs": false,
    "memoryGiB": 16,
    "name": "ml.g4dn.xlarge",
    "vcpuNum": 4
   },
   {
    "_defaultOrder": 30,
    "_isFastLaunch": false,
    "category": "Accelerated computing",
    "gpuNum": 1,
    "hideHardwareSpecs": false,
    "memoryGiB": 32,
    "name": "ml.g4dn.2xlarge",
    "vcpuNum": 8
   },
   {
    "_defaultOrder": 31,
    "_isFastLaunch": false,
    "category": "Accelerated computing",
    "gpuNum": 1,
    "hideHardwareSpecs": false,
    "memoryGiB": 64,
    "name": "ml.g4dn.4xlarge",
    "vcpuNum": 16
   },
   {
    "_defaultOrder": 32,
    "_isFastLaunch": false,
    "category": "Accelerated computing",
    "gpuNum": 1,
    "hideHardwareSpecs": false,
    "memoryGiB": 128,
    "name": "ml.g4dn.8xlarge",
    "vcpuNum": 32
   },
   {
    "_defaultOrder": 33,
    "_isFastLaunch": false,
    "category": "Accelerated computing",
    "gpuNum": 4,
    "hideHardwareSpecs": false,
    "memoryGiB": 192,
    "name": "ml.g4dn.12xlarge",
    "vcpuNum": 48
   },
   {
    "_defaultOrder": 34,
    "_isFastLaunch": false,
    "category": "Accelerated computing",
    "gpuNum": 1,
    "hideHardwareSpecs": false,
    "memoryGiB": 256,
    "name": "ml.g4dn.16xlarge",
    "vcpuNum": 64
   },
   {
    "_defaultOrder": 35,
    "_isFastLaunch": false,
    "category": "Accelerated computing",
    "gpuNum": 1,
    "hideHardwareSpecs": false,
    "memoryGiB": 61,
    "name": "ml.p3.2xlarge",
    "vcpuNum": 8
   },
   {
    "_defaultOrder": 36,
    "_isFastLaunch": false,
    "category": "Accelerated computing",
    "gpuNum": 4,
    "hideHardwareSpecs": false,
    "memoryGiB": 244,
    "name": "ml.p3.8xlarge",
    "vcpuNum": 32
   },
   {
    "_defaultOrder": 37,
    "_isFastLaunch": false,
    "category": "Accelerated computing",
    "gpuNum": 8,
    "hideHardwareSpecs": false,
    "memoryGiB": 488,
    "name": "ml.p3.16xlarge",
    "vcpuNum": 64
   },
   {
    "_defaultOrder": 38,
    "_isFastLaunch": false,
    "category": "Accelerated computing",
    "gpuNum": 8,
    "hideHardwareSpecs": false,
    "memoryGiB": 768,
    "name": "ml.p3dn.24xlarge",
    "vcpuNum": 96
   },
   {
    "_defaultOrder": 39,
    "_isFastLaunch": false,
    "category": "Memory Optimized",
    "gpuNum": 0,
    "hideHardwareSpecs": false,
    "memoryGiB": 16,
    "name": "ml.r5.large",
    "vcpuNum": 2
   },
   {
    "_defaultOrder": 40,
    "_isFastLaunch": false,
    "category": "Memory Optimized",
    "gpuNum": 0,
    "hideHardwareSpecs": false,
    "memoryGiB": 32,
    "name": "ml.r5.xlarge",
    "vcpuNum": 4
   },
   {
    "_defaultOrder": 41,
    "_isFastLaunch": false,
    "category": "Memory Optimized",
    "gpuNum": 0,
    "hideHardwareSpecs": false,
    "memoryGiB": 64,
    "name": "ml.r5.2xlarge",
    "vcpuNum": 8
   },
   {
    "_defaultOrder": 42,
    "_isFastLaunch": false,
    "category": "Memory Optimized",
    "gpuNum": 0,
    "hideHardwareSpecs": false,
    "memoryGiB": 128,
    "name": "ml.r5.4xlarge",
    "vcpuNum": 16
   },
   {
    "_defaultOrder": 43,
    "_isFastLaunch": false,
    "category": "Memory Optimized",
    "gpuNum": 0,
    "hideHardwareSpecs": false,
    "memoryGiB": 256,
    "name": "ml.r5.8xlarge",
    "vcpuNum": 32
   },
   {
    "_defaultOrder": 44,
    "_isFastLaunch": false,
    "category": "Memory Optimized",
    "gpuNum": 0,
    "hideHardwareSpecs": false,
    "memoryGiB": 384,
    "name": "ml.r5.12xlarge",
    "vcpuNum": 48
   },
   {
    "_defaultOrder": 45,
    "_isFastLaunch": false,
    "category": "Memory Optimized",
    "gpuNum": 0,
    "hideHardwareSpecs": false,
    "memoryGiB": 512,
    "name": "ml.r5.16xlarge",
    "vcpuNum": 64
   },
   {
    "_defaultOrder": 46,
    "_isFastLaunch": false,
    "category": "Memory Optimized",
    "gpuNum": 0,
    "hideHardwareSpecs": false,
    "memoryGiB": 768,
    "name": "ml.r5.24xlarge",
    "vcpuNum": 96
   },
   {
    "_defaultOrder": 47,
    "_isFastLaunch": false,
    "category": "Accelerated computing",
    "gpuNum": 1,
    "hideHardwareSpecs": false,
    "memoryGiB": 16,
    "name": "ml.g5.xlarge",
    "vcpuNum": 4
   },
   {
    "_defaultOrder": 48,
    "_isFastLaunch": false,
    "category": "Accelerated computing",
    "gpuNum": 1,
    "hideHardwareSpecs": false,
    "memoryGiB": 32,
    "name": "ml.g5.2xlarge",
    "vcpuNum": 8
   },
   {
    "_defaultOrder": 49,
    "_isFastLaunch": false,
    "category": "Accelerated computing",
    "gpuNum": 1,
    "hideHardwareSpecs": false,
    "memoryGiB": 64,
    "name": "ml.g5.4xlarge",
    "vcpuNum": 16
   },
   {
    "_defaultOrder": 50,
    "_isFastLaunch": false,
    "category": "Accelerated computing",
    "gpuNum": 1,
    "hideHardwareSpecs": false,
    "memoryGiB": 128,
    "name": "ml.g5.8xlarge",
    "vcpuNum": 32
   },
   {
    "_defaultOrder": 51,
    "_isFastLaunch": false,
    "category": "Accelerated computing",
    "gpuNum": 1,
    "hideHardwareSpecs": false,
    "memoryGiB": 256,
    "name": "ml.g5.16xlarge",
    "vcpuNum": 64
   },
   {
    "_defaultOrder": 52,
    "_isFastLaunch": false,
    "category": "Accelerated computing",
    "gpuNum": 4,
    "hideHardwareSpecs": false,
    "memoryGiB": 192,
    "name": "ml.g5.12xlarge",
    "vcpuNum": 48
   },
   {
    "_defaultOrder": 53,
    "_isFastLaunch": false,
    "category": "Accelerated computing",
    "gpuNum": 4,
    "hideHardwareSpecs": false,
    "memoryGiB": 384,
    "name": "ml.g5.24xlarge",
    "vcpuNum": 96
   },
   {
    "_defaultOrder": 54,
    "_isFastLaunch": false,
    "category": "Accelerated computing",
    "gpuNum": 8,
    "hideHardwareSpecs": false,
    "memoryGiB": 768,
    "name": "ml.g5.48xlarge",
    "vcpuNum": 192
   },
   {
    "_defaultOrder": 55,
    "_isFastLaunch": false,
    "category": "Accelerated computing",
    "gpuNum": 8,
    "hideHardwareSpecs": false,
    "memoryGiB": 1152,
    "name": "ml.p4d.24xlarge",
    "vcpuNum": 96
   },
   {
    "_defaultOrder": 56,
    "_isFastLaunch": false,
    "category": "Accelerated computing",
    "gpuNum": 8,
    "hideHardwareSpecs": false,
    "memoryGiB": 1152,
    "name": "ml.p4de.24xlarge",
    "vcpuNum": 96
   },
   {
    "_defaultOrder": 57,
    "_isFastLaunch": false,
    "category": "Accelerated computing",
    "gpuNum": 0,
    "hideHardwareSpecs": false,
    "memoryGiB": 32,
    "name": "ml.trn1.2xlarge",
    "vcpuNum": 8
   },
   {
    "_defaultOrder": 58,
    "_isFastLaunch": false,
    "category": "Accelerated computing",
    "gpuNum": 0,
    "hideHardwareSpecs": false,
    "memoryGiB": 512,
    "name": "ml.trn1.32xlarge",
    "vcpuNum": 128
   },
   {
    "_defaultOrder": 59,
    "_isFastLaunch": false,
    "category": "Accelerated computing",
    "gpuNum": 0,
    "hideHardwareSpecs": false,
    "memoryGiB": 512,
    "name": "ml.trn1n.32xlarge",
    "vcpuNum": 128
   }
  ],
  "instance_type": "ml.t3.medium",
  "kernelspec": {
   "display_name": "conda_python3",
   "language": "python",
   "name": "conda_python3"
  },
  "language_info": {
   "codemirror_mode": {
    "name": "ipython",
    "version": 3
   },
   "file_extension": ".py",
   "mimetype": "text/x-python",
   "name": "python",
   "nbconvert_exporter": "python",
   "pygments_lexer": "ipython3",
   "version": "3.10.13"
  }
 },
 "nbformat": 4,
 "nbformat_minor": 5
}
