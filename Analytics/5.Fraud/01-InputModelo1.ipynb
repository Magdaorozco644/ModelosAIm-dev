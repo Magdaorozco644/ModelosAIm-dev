{
 "cells": [
  {
   "cell_type": "code",
   "execution_count": 1,
   "id": "2850b1c7-4456-484e-a7ff-df70a0c612c6",
   "metadata": {
    "tags": []
   },
   "outputs": [
    {
     "name": "stdout",
     "output_type": "stream",
     "text": [
      "Requirement already satisfied: pip in /home/ec2-user/anaconda3/envs/python3/lib/python3.10/site-packages (24.0)\n",
      "Requirement already satisfied: pyathena in /home/ec2-user/anaconda3/envs/python3/lib/python3.10/site-packages (3.5.1)\n",
      "Requirement already satisfied: boto3>=1.26.4 in /home/ec2-user/anaconda3/envs/python3/lib/python3.10/site-packages (from pyathena) (1.34.55)\n",
      "Requirement already satisfied: botocore>=1.29.4 in /home/ec2-user/anaconda3/envs/python3/lib/python3.10/site-packages (from pyathena) (1.34.55)\n",
      "Requirement already satisfied: fsspec in /home/ec2-user/anaconda3/envs/python3/lib/python3.10/site-packages (from pyathena) (2023.12.2)\n",
      "Requirement already satisfied: tenacity>=4.1.0 in /home/ec2-user/anaconda3/envs/python3/lib/python3.10/site-packages (from pyathena) (8.2.3)\n",
      "Requirement already satisfied: jmespath<2.0.0,>=0.7.1 in /home/ec2-user/anaconda3/envs/python3/lib/python3.10/site-packages (from boto3>=1.26.4->pyathena) (1.0.1)\n",
      "Requirement already satisfied: s3transfer<0.11.0,>=0.10.0 in /home/ec2-user/anaconda3/envs/python3/lib/python3.10/site-packages (from boto3>=1.26.4->pyathena) (0.10.0)\n",
      "Requirement already satisfied: python-dateutil<3.0.0,>=2.1 in /home/ec2-user/anaconda3/envs/python3/lib/python3.10/site-packages (from botocore>=1.29.4->pyathena) (2.8.2)\n",
      "Requirement already satisfied: urllib3<2.1,>=1.25.4 in /home/ec2-user/anaconda3/envs/python3/lib/python3.10/site-packages (from botocore>=1.29.4->pyathena) (1.26.18)\n",
      "Requirement already satisfied: six>=1.5 in /home/ec2-user/anaconda3/envs/python3/lib/python3.10/site-packages (from python-dateutil<3.0.0,>=2.1->botocore>=1.29.4->pyathena) (1.16.0)\n"
     ]
    }
   ],
   "source": [
    "!pip install --upgrade pip\n",
    "!pip install pyathena"
   ]
  },
  {
   "cell_type": "code",
   "execution_count": 2,
   "id": "c6a1f253-a5cd-45f2-9375-0e78d9f03d36",
   "metadata": {
    "tags": []
   },
   "outputs": [
    {
     "name": "stdout",
     "output_type": "stream",
     "text": [
      "Requirement already satisfied: seaborn==0.12.2 in /home/ec2-user/anaconda3/envs/python3/lib/python3.10/site-packages (0.12.2)\n",
      "Requirement already satisfied: numpy!=1.24.0,>=1.17 in /home/ec2-user/anaconda3/envs/python3/lib/python3.10/site-packages (from seaborn==0.12.2) (1.22.4)\n",
      "Requirement already satisfied: pandas>=0.25 in /home/ec2-user/anaconda3/envs/python3/lib/python3.10/site-packages (from seaborn==0.12.2) (2.2.0)\n",
      "Requirement already satisfied: matplotlib!=3.6.1,>=3.1 in /home/ec2-user/anaconda3/envs/python3/lib/python3.10/site-packages (from seaborn==0.12.2) (3.8.2)\n",
      "Requirement already satisfied: contourpy>=1.0.1 in /home/ec2-user/anaconda3/envs/python3/lib/python3.10/site-packages (from matplotlib!=3.6.1,>=3.1->seaborn==0.12.2) (1.2.0)\n",
      "Requirement already satisfied: cycler>=0.10 in /home/ec2-user/anaconda3/envs/python3/lib/python3.10/site-packages (from matplotlib!=3.6.1,>=3.1->seaborn==0.12.2) (0.12.1)\n",
      "Requirement already satisfied: fonttools>=4.22.0 in /home/ec2-user/anaconda3/envs/python3/lib/python3.10/site-packages (from matplotlib!=3.6.1,>=3.1->seaborn==0.12.2) (4.47.2)\n",
      "Requirement already satisfied: kiwisolver>=1.3.1 in /home/ec2-user/anaconda3/envs/python3/lib/python3.10/site-packages (from matplotlib!=3.6.1,>=3.1->seaborn==0.12.2) (1.4.5)\n",
      "Requirement already satisfied: packaging>=20.0 in /home/ec2-user/anaconda3/envs/python3/lib/python3.10/site-packages (from matplotlib!=3.6.1,>=3.1->seaborn==0.12.2) (21.3)\n",
      "Requirement already satisfied: pillow>=8 in /home/ec2-user/anaconda3/envs/python3/lib/python3.10/site-packages (from matplotlib!=3.6.1,>=3.1->seaborn==0.12.2) (10.2.0)\n",
      "Requirement already satisfied: pyparsing>=2.3.1 in /home/ec2-user/anaconda3/envs/python3/lib/python3.10/site-packages (from matplotlib!=3.6.1,>=3.1->seaborn==0.12.2) (3.1.1)\n",
      "Requirement already satisfied: python-dateutil>=2.7 in /home/ec2-user/anaconda3/envs/python3/lib/python3.10/site-packages (from matplotlib!=3.6.1,>=3.1->seaborn==0.12.2) (2.8.2)\n",
      "Requirement already satisfied: pytz>=2020.1 in /home/ec2-user/anaconda3/envs/python3/lib/python3.10/site-packages (from pandas>=0.25->seaborn==0.12.2) (2023.4)\n",
      "Requirement already satisfied: tzdata>=2022.7 in /home/ec2-user/anaconda3/envs/python3/lib/python3.10/site-packages (from pandas>=0.25->seaborn==0.12.2) (2023.4)\n",
      "Requirement already satisfied: six>=1.5 in /home/ec2-user/anaconda3/envs/python3/lib/python3.10/site-packages (from python-dateutil>=2.7->matplotlib!=3.6.1,>=3.1->seaborn==0.12.2) (1.16.0)\n"
     ]
    }
   ],
   "source": [
    "#Upgrade de la version de seaborn para poder hacer graficos mas facil \n",
    "!pip install seaborn==0.12.2"
   ]
  },
  {
   "cell_type": "code",
   "execution_count": 3,
   "id": "7e9abd8a-4ec6-495f-b230-072db6406e22",
   "metadata": {
    "tags": []
   },
   "outputs": [],
   "source": [
    "#Libraries\n",
    "from pyathena import connect\n",
    "import pandas as pd\n",
    "import datetime as dt\n",
    "import numpy as np\n",
    "import seaborn as sns\n",
    "import matplotlib.pyplot as plt\n",
    "from datetime import datetime\n",
    "from sklearn import preprocessing\n",
    "from sklearn.preprocessing import LabelBinarizer "
   ]
  },
  {
   "cell_type": "code",
   "execution_count": 4,
   "id": "2eb5cf06-511b-42fc-8c9e-3ef305c428de",
   "metadata": {
    "tags": []
   },
   "outputs": [],
   "source": [
    "# DB Setting\n",
    "bucket_name = 's3://viamericas-datalake-dev-us-east-1-283731589572-athena/'\n",
    "origin_name = 'AwsDataCatalog'\n",
    "database_name = 'analytics'\n",
    "tablaSource = 'source_fraud_fechas_label'\n"
   ]
  },
  {
   "cell_type": "code",
   "execution_count": 5,
   "id": "0f281d0b-391b-467b-9525-1178e14a7495",
   "metadata": {
    "tags": []
   },
   "outputs": [
    {
     "name": "stderr",
     "output_type": "stream",
     "text": [
      "/tmp/ipykernel_14733/2756731093.py:12: UserWarning: pandas only supports SQLAlchemy connectable (engine/connection) or database string URI or sqlite3 DBAPI2 connection. Other DBAPI2 objects are not tested. Please consider using SQLAlchemy.\n",
      "  df_source = pd.read_sql('''SELECT * FROM analytics.source_fraud_fechas_label\n"
     ]
    }
   ],
   "source": [
    "#Connection\n",
    "\n",
    "conn = connect(s3_staging_dir=f'{bucket_name}queryresults/',\n",
    "               region_name='us-east-1')\n",
    "#date_to_compare1 = '2023-01-01'\n",
    "#date_to_compare2 = '2023-05-01'\n",
    "#Pongo el mes para el que traigo los datos y para poenr en el nombre del parquet\n",
    "mes_data = '202301' #8:37 ahora 3200\n",
    "#Pongo uno si quiero generar los datos para el test\n",
    "archivo_test = 0\n",
    "\n",
    "df_source = pd.read_sql('''SELECT id_branch, id_receiver, hour_receiver, day_name_receiver, net_amount_receiver, id_payout, \n",
    "            receiver_transaction_count, id_country_receiver_claim,\n",
    "            id_state, branch_working_days, sender_sending_days, sender_days_to_last_transaction, sender_minutes_since_last_transaction, branch_minutes_since_last_transaction, fraud_type\n",
    "            FROM analytics.source_fraud_fechas_label \n",
    "            where date_receiver_clean between cast('2023-01-01'  as date) and cast('2023-02-01'  as date);''', conn)\n"
   ]
  },
  {
   "cell_type": "code",
   "execution_count": 49,
   "id": "76f14f72-f25a-4531-8d7b-42fd6c6b4f4e",
   "metadata": {
    "tags": []
   },
   "outputs": [
    {
     "data": {
      "text/plain": [
       "<pyathena.cursor.Cursor at 0x7f42eb21ca30>"
      ]
     },
     "execution_count": 49,
     "metadata": {},
     "output_type": "execute_result"
    }
   ],
   "source": [
    "#cursor = connect(region_name='us-east-1', s3_staging_dir=f'{bucket_name}queryresults/').cursor()\n",
    "#cursor.execute('''SELECT * FROM analytics.source_fraud_fechas_label \n",
    "#            where date_receiver_clean between cast('2023-01-01'  as date) and cast('2023-02-01'  as date);''')\n",
    "\n"
   ]
  },
  {
   "cell_type": "code",
   "execution_count": 53,
   "id": "729c513e-4057-4789-849a-1921ed36e4e3",
   "metadata": {
    "tags": []
   },
   "outputs": [
    {
     "name": "stderr",
     "output_type": "stream",
     "text": [
      "\n",
      "KeyboardInterrupt\n",
      "\n"
     ]
    }
   ],
   "source": [
    "#from pyathena.pandas_cursor import PandasCursor\n",
    "#from pyathena.pandas.util import as_pandas\n",
    "\n",
    "#prueba = as_pandas(cursor)\n",
    "#prueba.head(5)"
   ]
  },
  {
   "cell_type": "code",
   "execution_count": 6,
   "id": "42666f3b-d913-4443-970a-d81b509a3569",
   "metadata": {
    "tags": []
   },
   "outputs": [
    {
     "name": "stderr",
     "output_type": "stream",
     "text": [
      "/tmp/ipykernel_14733/3476385601.py:2: UserWarning: pandas only supports SQLAlchemy connectable (engine/connection) or database string URI or sqlite3 DBAPI2 connection. Other DBAPI2 objects are not tested. Please consider using SQLAlchemy.\n",
      "  df_perc = pd.read_sql('''select 'receiver_transaction_count', ptile, min(receiver_transaction_count), max(receiver_transaction_count), avg(receiver_transaction_count)\n"
     ]
    }
   ],
   "source": [
    "#Traigo los percentiles que voy a usar en la normalizacion de algunas variables\n",
    "df_perc = pd.read_sql('''select 'receiver_transaction_count', ptile, min(receiver_transaction_count), max(receiver_transaction_count), avg(receiver_transaction_count)\n",
    "from (select NTILE(100) OVER (order by receiver_transaction_count) as ptile, receiver_transaction_count\n",
    "    from analytics.source_fraud_fechas_label\n",
    "    where date_receiver between '2023-01-01' and '2023-08-01')\n",
    "where ptile = 1 or ptile = 99\n",
    "group by ptile\n",
    "union \n",
    "select 'sender_sending_days', ptile, min(sender_sending_days), max(sender_sending_days), avg(sender_sending_days)\n",
    "from (select NTILE(100) OVER (order by sender_sending_days) as ptile, sender_sending_days\n",
    "    from analytics.source_fraud_fechas_label\n",
    "    where date_receiver between '2023-01-01' and '2023-08-01')\n",
    "where ptile = 1 or ptile = 99\n",
    "group by ptile\n",
    "union\n",
    "select 'branch_working_days', ptile, min(branch_working_days), max(branch_working_days), avg(branch_working_days)\n",
    "from (select NTILE(100) OVER (order by branch_working_days) as ptile, branch_working_days\n",
    "    from analytics.source_fraud_fechas_label\n",
    "    where date_receiver between '2023-01-01' and '2023-08-01')\n",
    "where ptile = 1 or ptile = 99\n",
    "group by ptile\n",
    "union\n",
    "select 'net_amount_receiver', ptile, min(net_amount_receiver), max(net_amount_receiver), avg(net_amount_receiver)\n",
    "from (select NTILE(100) OVER (order by net_amount_receiver) as ptile, net_amount_receiver\n",
    "    from analytics.source_fraud_fechas_label\n",
    "    where date_receiver between '2023-01-01' and '2023-08-01')\n",
    "where ptile = 1 or ptile = 99\n",
    "group by ptile\n",
    "union\n",
    "select 'sender_minutes_since_last_transaction', ptile, min(sender_minutes_since_last_transaction), max(sender_minutes_since_last_transaction), avg(sender_minutes_since_last_transaction)\n",
    "from (select NTILE(100) OVER (order by sender_minutes_since_last_transaction) as ptile, sender_minutes_since_last_transaction\n",
    "    from analytics.source_fraud_fechas_label\n",
    "    where date_receiver between '2023-01-01' and '2023-08-01' and cast(sender_minutes_since_last_transaction as integer) <2880)\n",
    "where ptile = 1 or ptile = 99\n",
    "group by ptile\n",
    "union\n",
    "select 'sender_days_to_last_transaction', ptile, min(sender_days_to_last_transaction), max(sender_days_to_last_transaction), avg(sender_days_to_last_transaction)\n",
    "from (select NTILE(100) OVER (order by sender_days_to_last_transaction) as ptile, sender_days_to_last_transaction\n",
    "    from analytics.source_fraud_fechas_label\n",
    "    where date_receiver between '2023-01-01' and '2023-08-01' and cast(sender_days_to_last_transaction as integer) <365)\n",
    "where ptile = 1 or ptile = 99\n",
    "group by ptile;''',conn)"
   ]
  },
  {
   "cell_type": "code",
   "execution_count": 7,
   "id": "85964e70-a52d-47eb-86a6-b53a559fdc95",
   "metadata": {
    "tags": []
   },
   "outputs": [
    {
     "data": {
      "text/html": [
       "<div>\n",
       "<style scoped>\n",
       "    .dataframe tbody tr th:only-of-type {\n",
       "        vertical-align: middle;\n",
       "    }\n",
       "\n",
       "    .dataframe tbody tr th {\n",
       "        vertical-align: top;\n",
       "    }\n",
       "\n",
       "    .dataframe thead th {\n",
       "        text-align: right;\n",
       "    }\n",
       "</style>\n",
       "<table border=\"1\" class=\"dataframe\">\n",
       "  <thead>\n",
       "    <tr style=\"text-align: right;\">\n",
       "      <th></th>\n",
       "      <th>id_branch</th>\n",
       "      <th>id_receiver</th>\n",
       "      <th>date_receiver</th>\n",
       "      <th>hour_receiver</th>\n",
       "      <th>day_name_receiver</th>\n",
       "      <th>net_amount_receiver</th>\n",
       "      <th>id_payout</th>\n",
       "      <th>was_fraud</th>\n",
       "      <th>was_fraud_pattern</th>\n",
       "      <th>was_ofac_receiver_hit</th>\n",
       "      <th>...</th>\n",
       "      <th>sender_days_to_last_transaction</th>\n",
       "      <th>day</th>\n",
       "      <th>date_receiver2</th>\n",
       "      <th>id_sender2</th>\n",
       "      <th>state_sender</th>\n",
       "      <th>fraud_type</th>\n",
       "      <th>date_receiver_clean</th>\n",
       "      <th>tx_brancity</th>\n",
       "      <th>tx_brancity_total</th>\n",
       "      <th>ptx_brancity</th>\n",
       "    </tr>\n",
       "  </thead>\n",
       "  <tbody>\n",
       "    <tr>\n",
       "      <th>0</th>\n",
       "      <td>A21773</td>\n",
       "      <td>16793</td>\n",
       "      <td>2023-01-17 14:16:17.460000000</td>\n",
       "      <td>14.0</td>\n",
       "      <td>Tuesday</td>\n",
       "      <td>192.31</td>\n",
       "      <td>P</td>\n",
       "      <td>0</td>\n",
       "      <td>0</td>\n",
       "      <td>0</td>\n",
       "      <td>...</td>\n",
       "      <td>339</td>\n",
       "      <td>2023-01-17</td>\n",
       "      <td>2023-01-17 14:16:17.460</td>\n",
       "      <td>542.0</td>\n",
       "      <td>NY</td>\n",
       "      <td>None</td>\n",
       "      <td>2023-01-17</td>\n",
       "      <td>12</td>\n",
       "      <td>38</td>\n",
       "      <td>0.315789</td>\n",
       "    </tr>\n",
       "    <tr>\n",
       "      <th>1</th>\n",
       "      <td>A21773</td>\n",
       "      <td>16793</td>\n",
       "      <td>2023-01-17 14:16:17.460000000</td>\n",
       "      <td>14.0</td>\n",
       "      <td>Tuesday</td>\n",
       "      <td>192.31</td>\n",
       "      <td>P</td>\n",
       "      <td>0</td>\n",
       "      <td>0</td>\n",
       "      <td>0</td>\n",
       "      <td>...</td>\n",
       "      <td>339</td>\n",
       "      <td>2023-01-17</td>\n",
       "      <td>2023-01-17 14:16:17.460</td>\n",
       "      <td>542.0</td>\n",
       "      <td>NY</td>\n",
       "      <td>None</td>\n",
       "      <td>2023-01-17</td>\n",
       "      <td>12</td>\n",
       "      <td>38</td>\n",
       "      <td>0.315789</td>\n",
       "    </tr>\n",
       "    <tr>\n",
       "      <th>2</th>\n",
       "      <td>A10444</td>\n",
       "      <td>27273</td>\n",
       "      <td>2023-01-17 14:39:45.390000000</td>\n",
       "      <td>14.0</td>\n",
       "      <td>Tuesday</td>\n",
       "      <td>300.00</td>\n",
       "      <td>C</td>\n",
       "      <td>0</td>\n",
       "      <td>0</td>\n",
       "      <td>0</td>\n",
       "      <td>...</td>\n",
       "      <td>216</td>\n",
       "      <td>2023-01-17</td>\n",
       "      <td>2023-01-17 14:39:45.390</td>\n",
       "      <td>3255.0</td>\n",
       "      <td>SC</td>\n",
       "      <td>None</td>\n",
       "      <td>2023-01-17</td>\n",
       "      <td>3</td>\n",
       "      <td>39</td>\n",
       "      <td>0.076923</td>\n",
       "    </tr>\n",
       "    <tr>\n",
       "      <th>3</th>\n",
       "      <td>A10444</td>\n",
       "      <td>27273</td>\n",
       "      <td>2023-01-17 14:39:45.390000000</td>\n",
       "      <td>14.0</td>\n",
       "      <td>Tuesday</td>\n",
       "      <td>300.00</td>\n",
       "      <td>C</td>\n",
       "      <td>0</td>\n",
       "      <td>0</td>\n",
       "      <td>0</td>\n",
       "      <td>...</td>\n",
       "      <td>216</td>\n",
       "      <td>2023-01-17</td>\n",
       "      <td>2023-01-17 14:39:45.390</td>\n",
       "      <td>3255.0</td>\n",
       "      <td>NC</td>\n",
       "      <td>None</td>\n",
       "      <td>2023-01-17</td>\n",
       "      <td>3</td>\n",
       "      <td>39</td>\n",
       "      <td>0.076923</td>\n",
       "    </tr>\n",
       "    <tr>\n",
       "      <th>4</th>\n",
       "      <td>A10444</td>\n",
       "      <td>27273</td>\n",
       "      <td>2023-01-17 14:39:45.390000000</td>\n",
       "      <td>14.0</td>\n",
       "      <td>Tuesday</td>\n",
       "      <td>300.00</td>\n",
       "      <td>C</td>\n",
       "      <td>0</td>\n",
       "      <td>0</td>\n",
       "      <td>0</td>\n",
       "      <td>...</td>\n",
       "      <td>216</td>\n",
       "      <td>2023-01-17</td>\n",
       "      <td>2023-01-17 14:39:45.390</td>\n",
       "      <td>3255.0</td>\n",
       "      <td>SC</td>\n",
       "      <td>None</td>\n",
       "      <td>2023-01-17</td>\n",
       "      <td>3</td>\n",
       "      <td>39</td>\n",
       "      <td>0.076923</td>\n",
       "    </tr>\n",
       "  </tbody>\n",
       "</table>\n",
       "<p>5 rows × 33 columns</p>\n",
       "</div>"
      ],
      "text/plain": [
       "    id_branch id_receiver                  date_receiver  hour_receiver  \\\n",
       "0  A21773           16793  2023-01-17 14:16:17.460000000           14.0   \n",
       "1  A21773           16793  2023-01-17 14:16:17.460000000           14.0   \n",
       "2  A10444           27273  2023-01-17 14:39:45.390000000           14.0   \n",
       "3  A10444           27273  2023-01-17 14:39:45.390000000           14.0   \n",
       "4  A10444           27273  2023-01-17 14:39:45.390000000           14.0   \n",
       "\n",
       "  day_name_receiver  net_amount_receiver id_payout was_fraud  \\\n",
       "0           Tuesday               192.31         P         0   \n",
       "1           Tuesday               192.31         P         0   \n",
       "2           Tuesday               300.00         C         0   \n",
       "3           Tuesday               300.00         C         0   \n",
       "4           Tuesday               300.00         C         0   \n",
       "\n",
       "  was_fraud_pattern was_ofac_receiver_hit  ...  \\\n",
       "0                 0                     0  ...   \n",
       "1                 0                     0  ...   \n",
       "2                 0                     0  ...   \n",
       "3                 0                     0  ...   \n",
       "4                 0                     0  ...   \n",
       "\n",
       "  sender_days_to_last_transaction         day          date_receiver2  \\\n",
       "0                             339  2023-01-17 2023-01-17 14:16:17.460   \n",
       "1                             339  2023-01-17 2023-01-17 14:16:17.460   \n",
       "2                             216  2023-01-17 2023-01-17 14:39:45.390   \n",
       "3                             216  2023-01-17 2023-01-17 14:39:45.390   \n",
       "4                             216  2023-01-17 2023-01-17 14:39:45.390   \n",
       "\n",
       "  id_sender2 state_sender fraud_type  date_receiver_clean  tx_brancity  \\\n",
       "0      542.0           NY       None           2023-01-17           12   \n",
       "1      542.0           NY       None           2023-01-17           12   \n",
       "2     3255.0           SC       None           2023-01-17            3   \n",
       "3     3255.0           NC       None           2023-01-17            3   \n",
       "4     3255.0           SC       None           2023-01-17            3   \n",
       "\n",
       "   tx_brancity_total ptx_brancity  \n",
       "0                 38     0.315789  \n",
       "1                 38     0.315789  \n",
       "2                 39     0.076923  \n",
       "3                 39     0.076923  \n",
       "4                 39     0.076923  \n",
       "\n",
       "[5 rows x 33 columns]"
      ]
     },
     "execution_count": 7,
     "metadata": {},
     "output_type": "execute_result"
    }
   ],
   "source": [
    "df_source.head()"
   ]
  },
  {
   "cell_type": "code",
   "execution_count": 8,
   "id": "a259f7b2-c8a8-40a8-88ba-8666ff3acc64",
   "metadata": {
    "tags": []
   },
   "outputs": [],
   "source": [
    "df_source['mes'] = df_source['date_receiver_clean'].dt.month\n",
    "df_source['fraud_type'] = df_source['fraud_type'].str.capitalize()"
   ]
  },
  {
   "cell_type": "code",
   "execution_count": 9,
   "id": "89f6babc-cb91-42ac-bbe7-c0fb9675a4d3",
   "metadata": {
    "tags": []
   },
   "outputs": [],
   "source": [
    "## Traigo precentiles para normalizar"
   ]
  },
  {
   "cell_type": "code",
   "execution_count": 10,
   "id": "5a85cc75-8001-4f22-9bda-43b4bb20bdd0",
   "metadata": {
    "tags": []
   },
   "outputs": [
    {
     "data": {
      "text/html": [
       "<div>\n",
       "<style scoped>\n",
       "    .dataframe tbody tr th:only-of-type {\n",
       "        vertical-align: middle;\n",
       "    }\n",
       "\n",
       "    .dataframe tbody tr th {\n",
       "        vertical-align: top;\n",
       "    }\n",
       "\n",
       "    .dataframe thead th {\n",
       "        text-align: right;\n",
       "    }\n",
       "</style>\n",
       "<table border=\"1\" class=\"dataframe\">\n",
       "  <thead>\n",
       "    <tr style=\"text-align: right;\">\n",
       "      <th></th>\n",
       "      <th>Variable</th>\n",
       "      <th>ptile</th>\n",
       "      <th>Min</th>\n",
       "      <th>Max</th>\n",
       "      <th>Avg</th>\n",
       "    </tr>\n",
       "  </thead>\n",
       "  <tbody>\n",
       "    <tr>\n",
       "      <th>0</th>\n",
       "      <td>sender_days_to_last_transaction</td>\n",
       "      <td>1</td>\n",
       "      <td>0.0</td>\n",
       "      <td>0.0</td>\n",
       "      <td>0.000000</td>\n",
       "    </tr>\n",
       "    <tr>\n",
       "      <th>1</th>\n",
       "      <td>sender_minutes_since_last_transaction</td>\n",
       "      <td>99</td>\n",
       "      <td>2840.0</td>\n",
       "      <td>2862.0</td>\n",
       "      <td>2851.771771</td>\n",
       "    </tr>\n",
       "    <tr>\n",
       "      <th>2</th>\n",
       "      <td>sender_days_to_last_transaction</td>\n",
       "      <td>99</td>\n",
       "      <td>346.0</td>\n",
       "      <td>352.0</td>\n",
       "      <td>349.210243</td>\n",
       "    </tr>\n",
       "    <tr>\n",
       "      <th>3</th>\n",
       "      <td>sender_minutes_since_last_transaction</td>\n",
       "      <td>1</td>\n",
       "      <td>0.0</td>\n",
       "      <td>0.0</td>\n",
       "      <td>0.000000</td>\n",
       "    </tr>\n",
       "    <tr>\n",
       "      <th>4</th>\n",
       "      <td>net_amount_receiver</td>\n",
       "      <td>1</td>\n",
       "      <td>0.0</td>\n",
       "      <td>1.0</td>\n",
       "      <td>0.999995</td>\n",
       "    </tr>\n",
       "    <tr>\n",
       "      <th>5</th>\n",
       "      <td>net_amount_receiver</td>\n",
       "      <td>99</td>\n",
       "      <td>2000.0</td>\n",
       "      <td>2500.0</td>\n",
       "      <td>2187.859059</td>\n",
       "    </tr>\n",
       "    <tr>\n",
       "      <th>6</th>\n",
       "      <td>sender_sending_days</td>\n",
       "      <td>99</td>\n",
       "      <td>566.0</td>\n",
       "      <td>567.0</td>\n",
       "      <td>566.040980</td>\n",
       "    </tr>\n",
       "    <tr>\n",
       "      <th>7</th>\n",
       "      <td>sender_sending_days</td>\n",
       "      <td>1</td>\n",
       "      <td>0.0</td>\n",
       "      <td>13.0</td>\n",
       "      <td>3.760312</td>\n",
       "    </tr>\n",
       "    <tr>\n",
       "      <th>8</th>\n",
       "      <td>receiver_transaction_count</td>\n",
       "      <td>1</td>\n",
       "      <td>1.0</td>\n",
       "      <td>1.0</td>\n",
       "      <td>1.000000</td>\n",
       "    </tr>\n",
       "    <tr>\n",
       "      <th>9</th>\n",
       "      <td>receiver_transaction_count</td>\n",
       "      <td>99</td>\n",
       "      <td>517.0</td>\n",
       "      <td>517.0</td>\n",
       "      <td>517.000000</td>\n",
       "    </tr>\n",
       "    <tr>\n",
       "      <th>10</th>\n",
       "      <td>branch_working_days</td>\n",
       "      <td>99</td>\n",
       "      <td>4952.0</td>\n",
       "      <td>5544.0</td>\n",
       "      <td>5211.831866</td>\n",
       "    </tr>\n",
       "    <tr>\n",
       "      <th>11</th>\n",
       "      <td>branch_working_days</td>\n",
       "      <td>1</td>\n",
       "      <td>-84.0</td>\n",
       "      <td>-2.0</td>\n",
       "      <td>-2.662535</td>\n",
       "    </tr>\n",
       "  </tbody>\n",
       "</table>\n",
       "</div>"
      ],
      "text/plain": [
       "                                 Variable  ptile     Min     Max          Avg\n",
       "0         sender_days_to_last_transaction      1     0.0     0.0     0.000000\n",
       "1   sender_minutes_since_last_transaction     99  2840.0  2862.0  2851.771771\n",
       "2         sender_days_to_last_transaction     99   346.0   352.0   349.210243\n",
       "3   sender_minutes_since_last_transaction      1     0.0     0.0     0.000000\n",
       "4                     net_amount_receiver      1     0.0     1.0     0.999995\n",
       "5                     net_amount_receiver     99  2000.0  2500.0  2187.859059\n",
       "6                     sender_sending_days     99   566.0   567.0   566.040980\n",
       "7                     sender_sending_days      1     0.0    13.0     3.760312\n",
       "8              receiver_transaction_count      1     1.0     1.0     1.000000\n",
       "9              receiver_transaction_count     99   517.0   517.0   517.000000\n",
       "10                    branch_working_days     99  4952.0  5544.0  5211.831866\n",
       "11                    branch_working_days      1   -84.0    -2.0    -2.662535"
      ]
     },
     "execution_count": 10,
     "metadata": {},
     "output_type": "execute_result"
    }
   ],
   "source": [
    "df_perc = df_perc.rename(columns={\"_col0\": \"Variable\", \"_col2\": \"Min\", \"_col3\": \"Max\", \"_col4\": \"Avg\"})\n",
    "df_perc"
   ]
  },
  {
   "cell_type": "markdown",
   "id": "1ff42287-39fd-498a-8e79-1da2270c7504",
   "metadata": {},
   "source": [
    "## Defino funciones para los datos\n",
    "### creo_dummies y escalo_percentiles"
   ]
  },
  {
   "cell_type": "code",
   "execution_count": 11,
   "id": "2f9c9961-c080-4cbc-9054-996b73ff12e6",
   "metadata": {
    "tags": []
   },
   "outputs": [],
   "source": [
    "#defino funcion para normalizar\n",
    "def escalo_percentiles(data, Pmin, Pmax, calculo):\n",
    "    #Escalo por Quartiles\n",
    "    \n",
    "    m = data.min()\n",
    "    M = data.max()\n",
    "    if calculo==1:\n",
    "        Qmin = Pmin\n",
    "        Qmax = Pmax\n",
    "        q0 = data.quantile(Qmin)\n",
    "        q1 = data.quantile(Qmax)\n",
    "    elif calculo==0:\n",
    "            q0=Pmin\n",
    "            q1=Pmax\n",
    "    data_std = (data - q0) / (q1 - q0)\n",
    "    dataN =  data_std.to_numpy()\n",
    "    #Pongo los outliers con un maximo\n",
    "    dataN = np.clip(dataN,0,1)\n",
    "    return dataN"
   ]
  },
  {
   "cell_type": "code",
   "execution_count": 12,
   "id": "04516f5f-97f4-4433-9ecd-abdbe29797b5",
   "metadata": {
    "tags": []
   },
   "outputs": [],
   "source": [
    "#creo dummies a partir de la lista de variables\n",
    "def creo_dummies(df, todummy_list):\n",
    "    df0 = df.copy()\n",
    "    for x in todummy_list:\n",
    "        dummies = pd.get_dummies(df[x], prefix=x, dummy_na=False)\n",
    "        df = df.drop(x, axis = 1)\n",
    "        df = pd.concat([df, dummies], axis=1)\n",
    "        df = pd.DataFrame(df)\n",
    "    return df, df.columns.difference(df0.columns)"
   ]
  },
  {
   "cell_type": "markdown",
   "id": "9588cdc0-0802-4c0e-9297-852ec8caaf0c",
   "metadata": {},
   "source": [
    "## Creo las nuevas variables\n",
    "### sender_days_to_last_transaction_365 y sender_days_to_last_transaction_more365\n",
    "### sender_minutes_since_last_transaction_2days\n",
    "### net_amount_receiver?"
   ]
  },
  {
   "cell_type": "code",
   "execution_count": 13,
   "id": "65dfc154-b753-474c-9010-64b4da420870",
   "metadata": {
    "tags": []
   },
   "outputs": [
    {
     "data": {
      "text/plain": [
       "count    8.503870e+06\n",
       "mean     2.949180e+02\n",
       "std      8.794249e+01\n",
       "min      0.000000e+00\n",
       "25%      2.950000e+02\n",
       "50%      3.330000e+02\n",
       "75%      3.420000e+02\n",
       "max      3.640000e+02\n",
       "Name: sender_days_to_last_transaction, dtype: float64"
      ]
     },
     "execution_count": 13,
     "metadata": {},
     "output_type": "execute_result"
    }
   ],
   "source": [
    "#defino corte en funcion deñ percenti\n",
    "df_source['sender_days_to_last_transaction'].describe()"
   ]
  },
  {
   "cell_type": "code",
   "execution_count": 14,
   "id": "0644111c-6eec-4f01-9866-f8d430449f8d",
   "metadata": {
    "tags": []
   },
   "outputs": [
    {
     "name": "stderr",
     "output_type": "stream",
     "text": [
      "/tmp/ipykernel_14733/461507757.py:5: FutureWarning: ChainedAssignmentError: behaviour will change in pandas 3.0!\n",
      "You are setting values through chained assignment. Currently this works in certain cases, but when using Copy-on-Write (which will become the default behaviour in pandas 3.0) this will never work to update the original DataFrame or Series, because the intermediate object on which we are setting values will behave as a copy.\n",
      "A typical example is when you are setting values in a column of a DataFrame, like:\n",
      "\n",
      "df[\"col\"][row_indexer] = value\n",
      "\n",
      "Use `df.loc[row_indexer, \"col\"] = values` instead, to perform the assignment in a single step and ensure this keeps updating the original `df`.\n",
      "\n",
      "See the caveats in the documentation: https://pandas.pydata.org/pandas-docs/stable/user_guide/indexing.html#returning-a-view-versus-a-copy\n",
      "\n",
      "  df_source.sender_days_to_last_transaction_more365[df_source['sender_days_to_last_transaction']> 365] = 1\n",
      "/tmp/ipykernel_14733/461507757.py:5: SettingWithCopyWarning: \n",
      "A value is trying to be set on a copy of a slice from a DataFrame\n",
      "\n",
      "See the caveats in the documentation: https://pandas.pydata.org/pandas-docs/stable/user_guide/indexing.html#returning-a-view-versus-a-copy\n",
      "  df_source.sender_days_to_last_transaction_more365[df_source['sender_days_to_last_transaction']> 365] = 1\n",
      "/tmp/ipykernel_14733/461507757.py:6: FutureWarning: ChainedAssignmentError: behaviour will change in pandas 3.0!\n",
      "You are setting values through chained assignment. Currently this works in certain cases, but when using Copy-on-Write (which will become the default behaviour in pandas 3.0) this will never work to update the original DataFrame or Series, because the intermediate object on which we are setting values will behave as a copy.\n",
      "A typical example is when you are setting values in a column of a DataFrame, like:\n",
      "\n",
      "df[\"col\"][row_indexer] = value\n",
      "\n",
      "Use `df.loc[row_indexer, \"col\"] = values` instead, to perform the assignment in a single step and ensure this keeps updating the original `df`.\n",
      "\n",
      "See the caveats in the documentation: https://pandas.pydata.org/pandas-docs/stable/user_guide/indexing.html#returning-a-view-versus-a-copy\n",
      "\n",
      "  df_source.sender_days_to_last_transaction_365[df_source['sender_days_to_last_transaction']> 365] = 0\n",
      "/tmp/ipykernel_14733/461507757.py:6: SettingWithCopyWarning: \n",
      "A value is trying to be set on a copy of a slice from a DataFrame\n",
      "\n",
      "See the caveats in the documentation: https://pandas.pydata.org/pandas-docs/stable/user_guide/indexing.html#returning-a-view-versus-a-copy\n",
      "  df_source.sender_days_to_last_transaction_365[df_source['sender_days_to_last_transaction']> 365] = 0\n"
     ]
    }
   ],
   "source": [
    "#defino dos nuevas variables a partir de la anterior\n",
    "df_source['sender_days_to_last_transaction_365'] = df_source['sender_days_to_last_transaction']\n",
    "df_source['sender_days_to_last_transaction_more365'] = 0\n",
    "#corto en un maximo de dias y el resto lo pongo enlas variables nuevas\n",
    "df_source.sender_days_to_last_transaction_more365[df_source['sender_days_to_last_transaction']> 365] = 1\n",
    "df_source.sender_days_to_last_transaction_365[df_source['sender_days_to_last_transaction']> 365] = 0 "
   ]
  },
  {
   "cell_type": "code",
   "execution_count": 15,
   "id": "a3ed5842-26dd-442e-8e12-fa3bedb7dad8",
   "metadata": {
    "tags": []
   },
   "outputs": [
    {
     "name": "stderr",
     "output_type": "stream",
     "text": [
      "/tmp/ipykernel_14733/2804084275.py:5: FutureWarning: ChainedAssignmentError: behaviour will change in pandas 3.0!\n",
      "You are setting values through chained assignment. Currently this works in certain cases, but when using Copy-on-Write (which will become the default behaviour in pandas 3.0) this will never work to update the original DataFrame or Series, because the intermediate object on which we are setting values will behave as a copy.\n",
      "A typical example is when you are setting values in a column of a DataFrame, like:\n",
      "\n",
      "df[\"col\"][row_indexer] = value\n",
      "\n",
      "Use `df.loc[row_indexer, \"col\"] = values` instead, to perform the assignment in a single step and ensure this keeps updating the original `df`.\n",
      "\n",
      "See the caveats in the documentation: https://pandas.pydata.org/pandas-docs/stable/user_guide/indexing.html#returning-a-view-versus-a-copy\n",
      "\n",
      "  df_source.sender_minutes_since_last_transaction_2days[df_source['sender_minutes_since_last_transaction']> 2*24*60] = 0\n",
      "/tmp/ipykernel_14733/2804084275.py:5: SettingWithCopyWarning: \n",
      "A value is trying to be set on a copy of a slice from a DataFrame\n",
      "\n",
      "See the caveats in the documentation: https://pandas.pydata.org/pandas-docs/stable/user_guide/indexing.html#returning-a-view-versus-a-copy\n",
      "  df_source.sender_minutes_since_last_transaction_2days[df_source['sender_minutes_since_last_transaction']> 2*24*60] = 0\n",
      "/tmp/ipykernel_14733/2804084275.py:6: FutureWarning: ChainedAssignmentError: behaviour will change in pandas 3.0!\n",
      "You are setting values through chained assignment. Currently this works in certain cases, but when using Copy-on-Write (which will become the default behaviour in pandas 3.0) this will never work to update the original DataFrame or Series, because the intermediate object on which we are setting values will behave as a copy.\n",
      "A typical example is when you are setting values in a column of a DataFrame, like:\n",
      "\n",
      "df[\"col\"][row_indexer] = value\n",
      "\n",
      "Use `df.loc[row_indexer, \"col\"] = values` instead, to perform the assignment in a single step and ensure this keeps updating the original `df`.\n",
      "\n",
      "See the caveats in the documentation: https://pandas.pydata.org/pandas-docs/stable/user_guide/indexing.html#returning-a-view-versus-a-copy\n",
      "\n",
      "  df_source.sender_minutes_since_last_transaction_1day[df_source['sender_minutes_since_last_transaction']> 24*60] = 0\n",
      "/tmp/ipykernel_14733/2804084275.py:6: SettingWithCopyWarning: \n",
      "A value is trying to be set on a copy of a slice from a DataFrame\n",
      "\n",
      "See the caveats in the documentation: https://pandas.pydata.org/pandas-docs/stable/user_guide/indexing.html#returning-a-view-versus-a-copy\n",
      "  df_source.sender_minutes_since_last_transaction_1day[df_source['sender_minutes_since_last_transaction']> 24*60] = 0\n"
     ]
    }
   ],
   "source": [
    "#defino dos nuevas variables a partir de la anterior\n",
    "df_source['sender_minutes_since_last_transaction_2days'] = df_source['sender_minutes_since_last_transaction']\n",
    "df_source['sender_minutes_since_last_transaction_1day'] = df_source['sender_minutes_since_last_transaction']\n",
    "#corto en un maximo de dias y el resto lo pongo enlas variables nuevas\n",
    "df_source.sender_minutes_since_last_transaction_2days[df_source['sender_minutes_since_last_transaction']> 2*24*60] = 0\n",
    "df_source.sender_minutes_since_last_transaction_1day[df_source['sender_minutes_since_last_transaction']> 24*60] = 0"
   ]
  },
  {
   "cell_type": "markdown",
   "id": "86cddff3-d7cc-47bd-a3b1-e6769a443841",
   "metadata": {},
   "source": [
    "## Estandarizo variables\n",
    "### sender_days_to_last_transaction_365, sender_minutes_since_last_transaction_2days, net_amount_receiver, sender_sending_days, branch_working_days, receiver_transaction_count"
   ]
  },
  {
   "cell_type": "code",
   "execution_count": 16,
   "id": "bd1f9481-d7b2-4daa-9239-7db06d9e1aca",
   "metadata": {
    "tags": []
   },
   "outputs": [],
   "source": [
    "#df_source['receiver_transaction_count'].describe()"
   ]
  },
  {
   "cell_type": "code",
   "execution_count": 17,
   "id": "f994e76b-5ac0-4647-bbd8-ceb4aa5332b0",
   "metadata": {
    "tags": []
   },
   "outputs": [],
   "source": [
    "Mx = df_perc.Max[(df_perc['Variable']=='receiver_transaction_count') & (df_perc['ptile']==99)].item()\n",
    "mn = df_perc.Min[(df_perc['Variable']=='receiver_transaction_count') & (df_perc['ptile']==1)].item()\n",
    "df_source['01_receiver_transaction_count'] = escalo_percentiles(df_source['receiver_transaction_count'], mn, Mx, 0)"
   ]
  },
  {
   "cell_type": "code",
   "execution_count": 18,
   "id": "72512ac3-3056-44c2-8900-9f292f7a3cd4",
   "metadata": {
    "tags": []
   },
   "outputs": [
    {
     "name": "stderr",
     "output_type": "stream",
     "text": [
      "/home/ec2-user/anaconda3/envs/python3/lib/python3.10/site-packages/seaborn/_oldcore.py:1119: FutureWarning: use_inf_as_na option is deprecated and will be removed in a future version. Convert inf values to NaN before operating instead.\n",
      "  with pd.option_context('mode.use_inf_as_na', True):\n",
      "/home/ec2-user/anaconda3/envs/python3/lib/python3.10/site-packages/seaborn/_oldcore.py:1119: FutureWarning: use_inf_as_na option is deprecated and will be removed in a future version. Convert inf values to NaN before operating instead.\n",
      "  with pd.option_context('mode.use_inf_as_na', True):\n"
     ]
    },
    {
     "data": {
      "text/plain": [
       "<Axes: xlabel='01_receiver_transaction_count', ylabel='Count'>"
      ]
     },
     "execution_count": 18,
     "metadata": {},
     "output_type": "execute_result"
    },
    {
     "data": {
      "image/png": "[encoded data removed]",
      "text/plain": [
       "<Figure size 1200x400 with 2 Axes>"
      ]
     },
     "metadata": {},
     "output_type": "display_data"
    }
   ],
   "source": [
    "fig, axs = plt.subplots(1,2,figsize = (12, 4))\n",
    "sns.histplot(data=df_source, x=\"receiver_transaction_count\", ax = axs[0])\n",
    "sns.histplot(data=df_source, x=\"01_receiver_transaction_count\", ax = axs[1])"
   ]
  },
  {
   "cell_type": "code",
   "execution_count": 19,
   "id": "24b57212-8554-4309-a177-d5ae31dea147",
   "metadata": {
    "tags": []
   },
   "outputs": [],
   "source": [
    "#df_source['01_receiver_transaction_count'].describe()"
   ]
  },
  {
   "cell_type": "code",
   "execution_count": 20,
   "id": "8b48ed52-3ee7-4420-838c-6342072a2951",
   "metadata": {
    "tags": []
   },
   "outputs": [],
   "source": [
    "#df_source['sender_sending_days'].describe()"
   ]
  },
  {
   "cell_type": "code",
   "execution_count": 21,
   "id": "ac8c2bc8-e55e-4190-83a4-2e6c08aeaaa9",
   "metadata": {
    "tags": []
   },
   "outputs": [],
   "source": [
    "Mx = df_perc.Max[(df_perc['Variable']=='sender_sending_days') & (df_perc['ptile']==99)].item()\n",
    "mn = df_perc.Min[(df_perc['Variable']=='sender_sending_days') & (df_perc['ptile']==1)].item()\n",
    "df_source['01_sender_sending_days'] = escalo_percentiles(df_source['sender_sending_days'], mn, Mx, 0)"
   ]
  },
  {
   "cell_type": "code",
   "execution_count": 22,
   "id": "a5a4ed41-5d5f-4f27-880b-4a266e2aa86c",
   "metadata": {
    "tags": []
   },
   "outputs": [
    {
     "name": "stderr",
     "output_type": "stream",
     "text": [
      "/home/ec2-user/anaconda3/envs/python3/lib/python3.10/site-packages/seaborn/_oldcore.py:1119: FutureWarning: use_inf_as_na option is deprecated and will be removed in a future version. Convert inf values to NaN before operating instead.\n",
      "  with pd.option_context('mode.use_inf_as_na', True):\n",
      "/home/ec2-user/anaconda3/envs/python3/lib/python3.10/site-packages/seaborn/_oldcore.py:1119: FutureWarning: use_inf_as_na option is deprecated and will be removed in a future version. Convert inf values to NaN before operating instead.\n",
      "  with pd.option_context('mode.use_inf_as_na', True):\n"
     ]
    },
    {
     "data": {
      "text/plain": [
       "<Axes: xlabel='01_sender_sending_days', ylabel='Count'>"
      ]
     },
     "execution_count": 22,
     "metadata": {},
     "output_type": "execute_result"
    },
    {
     "data": {
      "image/png": "[encoded data removed]",
      "text/plain": [
       "<Figure size 1200x400 with 2 Axes>"
      ]
     },
     "metadata": {},
     "output_type": "display_data"
    }
   ],
   "source": [
    "fig, axs = plt.subplots(1,2,figsize = (12, 4))\n",
    "sns.histplot(data=df_source, x=\"sender_sending_days\", ax = axs[0])\n",
    "sns.histplot(data=df_source, x=\"01_sender_sending_days\", ax = axs[1])"
   ]
  },
  {
   "cell_type": "code",
   "execution_count": 23,
   "id": "3d6a278c-dd3f-44f6-a1a0-e99eaa96970a",
   "metadata": {
    "tags": []
   },
   "outputs": [],
   "source": [
    "#df_source['branch_working_days'].describe()"
   ]
  },
  {
   "cell_type": "code",
   "execution_count": 24,
   "id": "37cd99ba-79c8-436f-9332-0cc4dde88f54",
   "metadata": {
    "tags": []
   },
   "outputs": [],
   "source": [
    "#df_source['net_amount_receiver'].describe()"
   ]
  },
  {
   "cell_type": "code",
   "execution_count": 25,
   "id": "3ed872bb-b259-450d-a233-3e86b0ef1111",
   "metadata": {
    "tags": []
   },
   "outputs": [],
   "source": [
    "#df_source['sender_minutes_since_last_transaction_2days'].describe()"
   ]
  },
  {
   "cell_type": "code",
   "execution_count": 26,
   "id": "0f497437-afee-4ad8-b17c-d69f5a052f02",
   "metadata": {
    "tags": []
   },
   "outputs": [],
   "source": [
    "#df_source['sender_minutes_since_last_transaction_1day'].describe()"
   ]
  },
  {
   "cell_type": "code",
   "execution_count": 27,
   "id": "32afdd0e-1794-4808-982b-178756a40198",
   "metadata": {
    "tags": []
   },
   "outputs": [],
   "source": [
    "#df_source['sender_days_to_last_transaction_365'].describe()"
   ]
  },
  {
   "cell_type": "code",
   "execution_count": 28,
   "id": "983792e4-a974-4846-8ecb-26d143b638c6",
   "metadata": {
    "tags": []
   },
   "outputs": [],
   "source": [
    "#df_source['branch_minutes_since_last_transaction'].describe()"
   ]
  },
  {
   "cell_type": "code",
   "execution_count": 29,
   "id": "cbe73b06-2442-48c2-b73f-24eda30d96d6",
   "metadata": {
    "tags": []
   },
   "outputs": [],
   "source": [
    "# Normalizo a lo bruto. Dsp reviso el algoritmo\n",
    "Mx = df_perc.Max[(df_perc['Variable']=='receiver_transaction_count') & (df_perc['ptile']==99)].item()\n",
    "mn = df_perc.Min[(df_perc['Variable']=='receiver_transaction_count') & (df_perc['ptile']==1)].item()\n",
    "df_source['01_receiver_transaction_count'] = escalo_percentiles(df_source['receiver_transaction_count'], mn, Mx, 0)\n",
    "\n",
    "Mx = df_perc.Max[(df_perc['Variable']=='branch_working_days') & (df_perc['ptile']==99)].item()\n",
    "mn = df_perc.Min[(df_perc['Variable']=='branch_working_days') & (df_perc['ptile']==1)].item()\n",
    "df_source['01_branch_working_days'] = escalo_percentiles(df_source['branch_working_days'], mn, Mx, 0)\n",
    "\n",
    "Mx = df_perc.Max[(df_perc['Variable']=='net_amount_receiver') & (df_perc['ptile']==99)].item()\n",
    "mn = df_perc.Min[(df_perc['Variable']=='net_amount_receiver') & (df_perc['ptile']==1)].item()\n",
    "df_source['01_net_amount_receiver'] = escalo_percentiles(df_source['net_amount_receiver'], mn, Mx, 0)\n",
    "\n",
    "Mx = 2880\n",
    "mn = 0\n",
    "df_source['01_sender_minutes_since_last_transaction_2days'] = escalo_percentiles(df_source['sender_minutes_since_last_transaction_2days'], mn, Mx, 0)\n",
    "\n",
    "Mx = 1440\n",
    "mn = 0\n",
    "df_source['01_sender_minutes_since_last_transaction_1day'] = escalo_percentiles(df_source['sender_minutes_since_last_transaction_1day'], mn, Mx, 0)\n",
    "\n",
    "Mx = 365\n",
    "mn = 0\n",
    "df_source['01_sender_days_to_last_transaction_365'] = escalo_percentiles(df_source['sender_days_to_last_transaction_365'], mn, Mx, 0)\n"
   ]
  },
  {
   "cell_type": "code",
   "execution_count": 30,
   "id": "245ab800-97c4-418e-9936-11aa9cc51c90",
   "metadata": {
    "tags": []
   },
   "outputs": [],
   "source": [
    "#Agregadas\n",
    "Mx = 24\n",
    "mn = 0\n",
    "df_source['01_hour_receiver'] = escalo_percentiles(df_source['hour_receiver'], mn, Mx, 0)\n",
    "df_source['01_isMexico'] = (df_source['id_country_receiver_claim']=='MX')\n"
   ]
  },
  {
   "cell_type": "code",
   "execution_count": 31,
   "id": "a6457d2b-4183-4373-8102-147bd091601b",
   "metadata": {
    "tags": []
   },
   "outputs": [
    {
     "data": {
      "text/plain": [
       "count    8.503870e+06\n",
       "mean     8.079944e-01\n",
       "std      2.409383e-01\n",
       "min      0.000000e+00\n",
       "25%      8.082192e-01\n",
       "50%      9.123288e-01\n",
       "75%      9.369863e-01\n",
       "max      9.972603e-01\n",
       "Name: 01_sender_days_to_last_transaction_365, dtype: float64"
      ]
     },
     "execution_count": 31,
     "metadata": {},
     "output_type": "execute_result"
    }
   ],
   "source": [
    "df_source['01_receiver_transaction_count'].describe()\n",
    "df_source['01_sender_sending_days'].describe()\n",
    "df_source['01_branch_working_days'].describe()\n",
    "df_source['01_net_amount_receiver'].describe()\n",
    "df_source['01_sender_minutes_since_last_transaction_2days'].describe()\n",
    "df_source['01_sender_minutes_since_last_transaction_1day'].describe()\n",
    "df_source['01_sender_days_to_last_transaction_365'].describe()"
   ]
  },
  {
   "cell_type": "code",
   "execution_count": 32,
   "id": "bd25558b-21fd-4c80-a000-06b53ac0ccec",
   "metadata": {
    "tags": []
   },
   "outputs": [
    {
     "name": "stderr",
     "output_type": "stream",
     "text": [
      "/home/ec2-user/anaconda3/envs/python3/lib/python3.10/site-packages/seaborn/_oldcore.py:1119: FutureWarning: use_inf_as_na option is deprecated and will be removed in a future version. Convert inf values to NaN before operating instead.\n",
      "  with pd.option_context('mode.use_inf_as_na', True):\n",
      "/home/ec2-user/anaconda3/envs/python3/lib/python3.10/site-packages/seaborn/_oldcore.py:1119: FutureWarning: use_inf_as_na option is deprecated and will be removed in a future version. Convert inf values to NaN before operating instead.\n",
      "  with pd.option_context('mode.use_inf_as_na', True):\n"
     ]
    },
    {
     "data": {
      "text/plain": [
       "<Axes: xlabel='01_sender_days_to_last_transaction_365', ylabel='Count'>"
      ]
     },
     "execution_count": 32,
     "metadata": {},
     "output_type": "execute_result"
    },
    {
     "data": {
      "image/png": "[encoded data removed]",
      "text/plain": [
       "<Figure size 1200x400 with 2 Axes>"
      ]
     },
     "metadata": {},
     "output_type": "display_data"
    }
   ],
   "source": [
    "fig, axs = plt.subplots(1,2,figsize = (12, 4))\n",
    "sns.histplot(data=df_source, x=\"sender_days_to_last_transaction_365\", ax = axs[0])\n",
    "sns.histplot(data=df_source, x=\"01_sender_days_to_last_transaction_365\", ax = axs[1])"
   ]
  },
  {
   "cell_type": "code",
   "execution_count": 33,
   "id": "7f12032e-9dc0-4a9b-b2a1-d9e95619bfd2",
   "metadata": {
    "tags": []
   },
   "outputs": [
    {
     "name": "stderr",
     "output_type": "stream",
     "text": [
      "/home/ec2-user/anaconda3/envs/python3/lib/python3.10/site-packages/seaborn/_oldcore.py:1119: FutureWarning: use_inf_as_na option is deprecated and will be removed in a future version. Convert inf values to NaN before operating instead.\n",
      "  with pd.option_context('mode.use_inf_as_na', True):\n"
     ]
    },
    {
     "data": {
      "text/plain": [
       "sender_days_to_last_transaction_more365\n",
       "0    8503870\n",
       "Name: count, dtype: int64"
      ]
     },
     "execution_count": 33,
     "metadata": {},
     "output_type": "execute_result"
    },
    {
     "data": {
      "image/png": "[encoded data removed]",
      "text/plain": [
       "<Figure size 640x480 with 1 Axes>"
      ]
     },
     "metadata": {},
     "output_type": "display_data"
    }
   ],
   "source": [
    "sns.histplot(data=df_source, x='sender_days_to_last_transaction_more365')\n",
    "df_source['sender_days_to_last_transaction_more365'].value_counts()"
   ]
  },
  {
   "cell_type": "markdown",
   "id": "b65320af-7616-4484-8d02-50384a1508a4",
   "metadata": {},
   "source": [
    "## Creo Variables dummy"
   ]
  },
  {
   "cell_type": "code",
   "execution_count": 34,
   "id": "19911ce0-81cd-4119-a911-9cbf35badf34",
   "metadata": {
    "tags": []
   },
   "outputs": [],
   "source": [
    "todummy_list = ['day_name_receiver','id_payout']\n",
    "[df_source, var_nuevas] = creo_dummies(df_source, todummy_list)"
   ]
  },
  {
   "cell_type": "markdown",
   "id": "e236484e-0e85-4a88-b930-cc1ff783b66f",
   "metadata": {},
   "source": [
    "## Creacion del target"
   ]
  },
  {
   "cell_type": "code",
   "execution_count": 35,
   "id": "d35931e3-9602-4eac-a5f2-1e93928dba0d",
   "metadata": {
    "tags": []
   },
   "outputs": [
    {
     "data": {
      "text/plain": [
       "fraud_type\n",
       "Remote access    3861\n",
       "Payment            92\n",
       "Name: count, dtype: int64"
      ]
     },
     "execution_count": 35,
     "metadata": {},
     "output_type": "execute_result"
    }
   ],
   "source": [
    "df_source['fraud_type'].value_counts()"
   ]
  },
  {
   "cell_type": "code",
   "execution_count": 36,
   "id": "c8e16e2e-9daf-4df4-a470-0821db639a46",
   "metadata": {
    "tags": []
   },
   "outputs": [],
   "source": [
    "# defino los targets\n",
    "df_source['target1'] = df_source['fraud_type'] == 'Remote access'\n",
    "df_source['target2'] = df_source['fraud_type'] == 'Payment'\n",
    "df_source['target_fraudes'] = df_source['fraud_type'].notnull()\n"
   ]
  },
  {
   "cell_type": "code",
   "execution_count": 37,
   "id": "dbfd9bdb-fb8a-4ec4-8edf-40ddfc90f4a7",
   "metadata": {
    "tags": []
   },
   "outputs": [
    {
     "data": {
      "text/plain": [
       "target1\n",
       "False    8500009\n",
       "True        3861\n",
       "Name: count, dtype: int64"
      ]
     },
     "execution_count": 37,
     "metadata": {},
     "output_type": "execute_result"
    }
   ],
   "source": [
    "df_source['target1'].value_counts()"
   ]
  },
  {
   "cell_type": "code",
   "execution_count": 38,
   "id": "c6796bb8-2d8f-4385-8cec-0a5572c5e1e0",
   "metadata": {
    "tags": []
   },
   "outputs": [
    {
     "data": {
      "text/plain": [
       "target2\n",
       "False    8503778\n",
       "True          92\n",
       "Name: count, dtype: int64"
      ]
     },
     "execution_count": 38,
     "metadata": {},
     "output_type": "execute_result"
    }
   ],
   "source": [
    "df_source['target2'].value_counts()"
   ]
  },
  {
   "cell_type": "code",
   "execution_count": 39,
   "id": "2989957e-7742-4f7c-93d9-cd55639e4b5c",
   "metadata": {
    "tags": []
   },
   "outputs": [
    {
     "data": {
      "text/plain": [
       "target_fraudes\n",
       "False    8499917\n",
       "True        3953\n",
       "Name: count, dtype: int64"
      ]
     },
     "execution_count": 39,
     "metadata": {},
     "output_type": "execute_result"
    }
   ],
   "source": [
    "df_source['target_fraudes'].value_counts()"
   ]
  },
  {
   "cell_type": "code",
   "execution_count": 43,
   "id": "66f38fcb-e132-4cd3-b740-9fc3a6b8f285",
   "metadata": {
    "tags": []
   },
   "outputs": [],
   "source": [
    "archivo_test = 0"
   ]
  },
  {
   "cell_type": "code",
   "execution_count": 42,
   "id": "4c84314f-5df5-45c7-9c3d-2f7060de863c",
   "metadata": {},
   "outputs": [
    {
     "data": {
      "text/plain": [
       "array(['id_branch', 'id_receiver', 'date_receiver', 'hour_receiver',\n",
       "       'net_amount_receiver', 'was_fraud', 'was_fraud_pattern',\n",
       "       'was_ofac_receiver_hit', 'was_ofac_sender_hit',\n",
       "       'receiver_transaction_count', 'id_country_receiver_claim',\n",
       "       'id_city', 'id_state', 'id_location', 'branch_working_days',\n",
       "       'sender_sending_days', 'sender_days_since_last_transaction',\n",
       "       'id_payer', 'id_sender_global',\n",
       "       'sender_minutes_since_last_transaction',\n",
       "       'branch_minutes_since_last_transaction',\n",
       "       'sender_days_to_last_transaction', 'day', 'date_receiver2',\n",
       "       'id_sender2', 'state_sender', 'fraud_type', 'date_receiver_clean',\n",
       "       'tx_brancity', 'tx_brancity_total', 'ptx_brancity', 'mes',\n",
       "       'sender_days_to_last_transaction_365',\n",
       "       'sender_days_to_last_transaction_more365',\n",
       "       'sender_minutes_since_last_transaction_2days',\n",
       "       'sender_minutes_since_last_transaction_1day',\n",
       "       '01_receiver_transaction_count', '01_sender_sending_days',\n",
       "       '01_branch_working_days', '01_net_amount_receiver',\n",
       "       '01_sender_minutes_since_last_transaction_2days',\n",
       "       '01_sender_minutes_since_last_transaction_1day',\n",
       "       '01_sender_days_to_last_transaction_365', '01_hour_receiver',\n",
       "       '01_isMexico', 'day_name_receiver_Friday',\n",
       "       'day_name_receiver_Monday', 'day_name_receiver_Saturday',\n",
       "       'day_name_receiver_Sunday', 'day_name_receiver_Thursday',\n",
       "       'day_name_receiver_Tuesday', 'day_name_receiver_Wednesday',\n",
       "       'id_payout_A', 'id_payout_C', 'id_payout_D', 'id_payout_M',\n",
       "       'id_payout_N', 'id_payout_O', 'id_payout_P', 'id_payout_S',\n",
       "       'id_payout_T', 'id_payout_X', 'target1', 'target2',\n",
       "       'target_fraudes'], dtype=object)"
      ]
     },
     "execution_count": 42,
     "metadata": {},
     "output_type": "execute_result"
    }
   ],
   "source": [
    "df_source.columns.values"
   ]
  },
  {
   "cell_type": "markdown",
   "id": "1ff64d64-0669-4917-8169-6c89ce925375",
   "metadata": {},
   "source": [
    "## Guardo archivos para dsp juntar en el entrenamiento"
   ]
  },
  {
   "cell_type": "code",
   "execution_count": 44,
   "id": "7ae5411d-50c4-4812-89f4-155d0705b2fa",
   "metadata": {
    "tags": []
   },
   "outputs": [],
   "source": [
    "#Me quedo con las variables q voy a usar\n",
    "df_source.columns.values\n",
    "df = df_source [['id_branch','id_receiver','id_sender_global',\n",
    "           '01_receiver_transaction_count','01_sender_sending_days','01_branch_working_days','01_net_amount_receiver','01_sender_minutes_since_last_transaction_2days',\n",
    "           '01_sender_minutes_since_last_transaction_1day','01_sender_days_to_last_transaction_365','sender_days_to_last_transaction_more365',\n",
    "            '01_hour_receiver','01_isMexico','tx_brancity', 'tx_brancity_total', 'ptx_brancity']]\n",
    "df = pd.concat([df, df_source[var_nuevas]], axis=1)\n",
    "df = pd.concat([df, df_source[['target1','target2','target_fraudes']]], axis=1)\n",
    "\n",
    "##'sender_days_since_last_transaction','sender_minutes_since_last_transaction'\n",
    "#'id_branch', 'id_receiver', 'hour_receiver','day_name_receiver','net_amount_receiver','was_ofac_receiver_hit','was_ofac_sender_hit',\n",
    "#'receiver_transaction_count','branch_working_days','sender_sending_days','branch_minutes_since_last_transaction','sender_days_to_last_transaction',\n",
    "#'fraud_type','date_receiver_clean','target1','target2',"
   ]
  },
  {
   "cell_type": "code",
   "execution_count": 45,
   "id": "ba4e41fa-db88-4bad-9d26-3a22a5283278",
   "metadata": {},
   "outputs": [
    {
     "data": {
      "text/html": [
       "<div>\n",
       "<style scoped>\n",
       "    .dataframe tbody tr th:only-of-type {\n",
       "        vertical-align: middle;\n",
       "    }\n",
       "\n",
       "    .dataframe tbody tr th {\n",
       "        vertical-align: top;\n",
       "    }\n",
       "\n",
       "    .dataframe thead th {\n",
       "        text-align: right;\n",
       "    }\n",
       "</style>\n",
       "<table border=\"1\" class=\"dataframe\">\n",
       "  <thead>\n",
       "    <tr style=\"text-align: right;\">\n",
       "      <th></th>\n",
       "      <th>id_branch</th>\n",
       "      <th>id_receiver</th>\n",
       "      <th>id_sender_global</th>\n",
       "      <th>01_receiver_transaction_count</th>\n",
       "      <th>01_sender_sending_days</th>\n",
       "      <th>01_branch_working_days</th>\n",
       "      <th>01_net_amount_receiver</th>\n",
       "      <th>01_sender_minutes_since_last_transaction_2days</th>\n",
       "      <th>01_sender_minutes_since_last_transaction_1day</th>\n",
       "      <th>01_sender_days_to_last_transaction_365</th>\n",
       "      <th>...</th>\n",
       "      <th>id_payout_M</th>\n",
       "      <th>id_payout_N</th>\n",
       "      <th>id_payout_O</th>\n",
       "      <th>id_payout_P</th>\n",
       "      <th>id_payout_S</th>\n",
       "      <th>id_payout_T</th>\n",
       "      <th>id_payout_X</th>\n",
       "      <th>target1</th>\n",
       "      <th>target2</th>\n",
       "      <th>target_fraudes</th>\n",
       "    </tr>\n",
       "  </thead>\n",
       "  <tbody>\n",
       "    <tr>\n",
       "      <th>0</th>\n",
       "      <td>A21773</td>\n",
       "      <td>16793</td>\n",
       "      <td>7866564</td>\n",
       "      <td>0.000000</td>\n",
       "      <td>0.261023</td>\n",
       "      <td>0.095771</td>\n",
       "      <td>0.076924</td>\n",
       "      <td>0.000694</td>\n",
       "      <td>0.001389</td>\n",
       "      <td>0.928767</td>\n",
       "      <td>...</td>\n",
       "      <td>False</td>\n",
       "      <td>False</td>\n",
       "      <td>False</td>\n",
       "      <td>True</td>\n",
       "      <td>False</td>\n",
       "      <td>False</td>\n",
       "      <td>False</td>\n",
       "      <td>False</td>\n",
       "      <td>False</td>\n",
       "      <td>False</td>\n",
       "    </tr>\n",
       "    <tr>\n",
       "      <th>1</th>\n",
       "      <td>A21773</td>\n",
       "      <td>16793</td>\n",
       "      <td>7866564</td>\n",
       "      <td>0.000000</td>\n",
       "      <td>0.261023</td>\n",
       "      <td>0.095771</td>\n",
       "      <td>0.076924</td>\n",
       "      <td>0.000694</td>\n",
       "      <td>0.001389</td>\n",
       "      <td>0.928767</td>\n",
       "      <td>...</td>\n",
       "      <td>False</td>\n",
       "      <td>False</td>\n",
       "      <td>False</td>\n",
       "      <td>True</td>\n",
       "      <td>False</td>\n",
       "      <td>False</td>\n",
       "      <td>False</td>\n",
       "      <td>False</td>\n",
       "      <td>False</td>\n",
       "      <td>False</td>\n",
       "    </tr>\n",
       "    <tr>\n",
       "      <th>2</th>\n",
       "      <td>A10444</td>\n",
       "      <td>27273</td>\n",
       "      <td>9510495</td>\n",
       "      <td>0.019380</td>\n",
       "      <td>0.022928</td>\n",
       "      <td>0.586709</td>\n",
       "      <td>0.120000</td>\n",
       "      <td>0.000000</td>\n",
       "      <td>0.000000</td>\n",
       "      <td>0.591781</td>\n",
       "      <td>...</td>\n",
       "      <td>False</td>\n",
       "      <td>False</td>\n",
       "      <td>False</td>\n",
       "      <td>False</td>\n",
       "      <td>False</td>\n",
       "      <td>False</td>\n",
       "      <td>False</td>\n",
       "      <td>False</td>\n",
       "      <td>False</td>\n",
       "      <td>False</td>\n",
       "    </tr>\n",
       "    <tr>\n",
       "      <th>3</th>\n",
       "      <td>A10444</td>\n",
       "      <td>27273</td>\n",
       "      <td>9510495</td>\n",
       "      <td>0.019380</td>\n",
       "      <td>0.022928</td>\n",
       "      <td>0.586709</td>\n",
       "      <td>0.120000</td>\n",
       "      <td>0.000000</td>\n",
       "      <td>0.000000</td>\n",
       "      <td>0.591781</td>\n",
       "      <td>...</td>\n",
       "      <td>False</td>\n",
       "      <td>False</td>\n",
       "      <td>False</td>\n",
       "      <td>False</td>\n",
       "      <td>False</td>\n",
       "      <td>False</td>\n",
       "      <td>False</td>\n",
       "      <td>False</td>\n",
       "      <td>False</td>\n",
       "      <td>False</td>\n",
       "    </tr>\n",
       "    <tr>\n",
       "      <th>4</th>\n",
       "      <td>A10444</td>\n",
       "      <td>27273</td>\n",
       "      <td>9510495</td>\n",
       "      <td>0.019380</td>\n",
       "      <td>0.022928</td>\n",
       "      <td>0.586709</td>\n",
       "      <td>0.120000</td>\n",
       "      <td>0.000000</td>\n",
       "      <td>0.000000</td>\n",
       "      <td>0.591781</td>\n",
       "      <td>...</td>\n",
       "      <td>False</td>\n",
       "      <td>False</td>\n",
       "      <td>False</td>\n",
       "      <td>False</td>\n",
       "      <td>False</td>\n",
       "      <td>False</td>\n",
       "      <td>False</td>\n",
       "      <td>False</td>\n",
       "      <td>False</td>\n",
       "      <td>False</td>\n",
       "    </tr>\n",
       "    <tr>\n",
       "      <th>...</th>\n",
       "      <td>...</td>\n",
       "      <td>...</td>\n",
       "      <td>...</td>\n",
       "      <td>...</td>\n",
       "      <td>...</td>\n",
       "      <td>...</td>\n",
       "      <td>...</td>\n",
       "      <td>...</td>\n",
       "      <td>...</td>\n",
       "      <td>...</td>\n",
       "      <td>...</td>\n",
       "      <td>...</td>\n",
       "      <td>...</td>\n",
       "      <td>...</td>\n",
       "      <td>...</td>\n",
       "      <td>...</td>\n",
       "      <td>...</td>\n",
       "      <td>...</td>\n",
       "      <td>...</td>\n",
       "      <td>...</td>\n",
       "      <td>...</td>\n",
       "    </tr>\n",
       "    <tr>\n",
       "      <th>8503865</th>\n",
       "      <td>A20524</td>\n",
       "      <td>19645</td>\n",
       "      <td>9548783</td>\n",
       "      <td>0.000000</td>\n",
       "      <td>0.005291</td>\n",
       "      <td>0.146588</td>\n",
       "      <td>1.000000</td>\n",
       "      <td>0.000000</td>\n",
       "      <td>0.000000</td>\n",
       "      <td>0.391781</td>\n",
       "      <td>...</td>\n",
       "      <td>False</td>\n",
       "      <td>False</td>\n",
       "      <td>False</td>\n",
       "      <td>False</td>\n",
       "      <td>False</td>\n",
       "      <td>False</td>\n",
       "      <td>False</td>\n",
       "      <td>False</td>\n",
       "      <td>False</td>\n",
       "      <td>False</td>\n",
       "    </tr>\n",
       "    <tr>\n",
       "      <th>8503866</th>\n",
       "      <td>A18992</td>\n",
       "      <td>12329</td>\n",
       "      <td>6947840</td>\n",
       "      <td>0.050388</td>\n",
       "      <td>0.520282</td>\n",
       "      <td>0.200426</td>\n",
       "      <td>0.036000</td>\n",
       "      <td>0.000000</td>\n",
       "      <td>0.000000</td>\n",
       "      <td>0.917808</td>\n",
       "      <td>...</td>\n",
       "      <td>False</td>\n",
       "      <td>False</td>\n",
       "      <td>False</td>\n",
       "      <td>True</td>\n",
       "      <td>False</td>\n",
       "      <td>False</td>\n",
       "      <td>False</td>\n",
       "      <td>False</td>\n",
       "      <td>False</td>\n",
       "      <td>False</td>\n",
       "    </tr>\n",
       "    <tr>\n",
       "      <th>8503867</th>\n",
       "      <td>A18992</td>\n",
       "      <td>12329</td>\n",
       "      <td>6947840</td>\n",
       "      <td>0.050388</td>\n",
       "      <td>0.520282</td>\n",
       "      <td>0.200426</td>\n",
       "      <td>0.036000</td>\n",
       "      <td>0.000000</td>\n",
       "      <td>0.000000</td>\n",
       "      <td>0.917808</td>\n",
       "      <td>...</td>\n",
       "      <td>False</td>\n",
       "      <td>False</td>\n",
       "      <td>False</td>\n",
       "      <td>True</td>\n",
       "      <td>False</td>\n",
       "      <td>False</td>\n",
       "      <td>False</td>\n",
       "      <td>False</td>\n",
       "      <td>False</td>\n",
       "      <td>False</td>\n",
       "    </tr>\n",
       "    <tr>\n",
       "      <th>8503868</th>\n",
       "      <td>A18992</td>\n",
       "      <td>12329</td>\n",
       "      <td>6947840</td>\n",
       "      <td>0.050388</td>\n",
       "      <td>0.520282</td>\n",
       "      <td>0.200426</td>\n",
       "      <td>0.036000</td>\n",
       "      <td>0.000000</td>\n",
       "      <td>0.000000</td>\n",
       "      <td>0.917808</td>\n",
       "      <td>...</td>\n",
       "      <td>False</td>\n",
       "      <td>False</td>\n",
       "      <td>False</td>\n",
       "      <td>True</td>\n",
       "      <td>False</td>\n",
       "      <td>False</td>\n",
       "      <td>False</td>\n",
       "      <td>False</td>\n",
       "      <td>False</td>\n",
       "      <td>False</td>\n",
       "    </tr>\n",
       "    <tr>\n",
       "      <th>8503869</th>\n",
       "      <td>A18992</td>\n",
       "      <td>12329</td>\n",
       "      <td>6947840</td>\n",
       "      <td>0.050388</td>\n",
       "      <td>0.520282</td>\n",
       "      <td>0.200426</td>\n",
       "      <td>0.036000</td>\n",
       "      <td>0.000000</td>\n",
       "      <td>0.000000</td>\n",
       "      <td>0.917808</td>\n",
       "      <td>...</td>\n",
       "      <td>False</td>\n",
       "      <td>False</td>\n",
       "      <td>False</td>\n",
       "      <td>True</td>\n",
       "      <td>False</td>\n",
       "      <td>False</td>\n",
       "      <td>False</td>\n",
       "      <td>False</td>\n",
       "      <td>False</td>\n",
       "      <td>False</td>\n",
       "    </tr>\n",
       "  </tbody>\n",
       "</table>\n",
       "<p>8503870 rows × 36 columns</p>\n",
       "</div>"
      ],
      "text/plain": [
       "          id_branch id_receiver id_sender_global  \\\n",
       "0        A21773           16793          7866564   \n",
       "1        A21773           16793          7866564   \n",
       "2        A10444           27273          9510495   \n",
       "3        A10444           27273          9510495   \n",
       "4        A10444           27273          9510495   \n",
       "...             ...         ...              ...   \n",
       "8503865  A20524           19645          9548783   \n",
       "8503866  A18992           12329          6947840   \n",
       "8503867  A18992           12329          6947840   \n",
       "8503868  A18992           12329          6947840   \n",
       "8503869  A18992           12329          6947840   \n",
       "\n",
       "         01_receiver_transaction_count  01_sender_sending_days  \\\n",
       "0                             0.000000                0.261023   \n",
       "1                             0.000000                0.261023   \n",
       "2                             0.019380                0.022928   \n",
       "3                             0.019380                0.022928   \n",
       "4                             0.019380                0.022928   \n",
       "...                                ...                     ...   \n",
       "8503865                       0.000000                0.005291   \n",
       "8503866                       0.050388                0.520282   \n",
       "8503867                       0.050388                0.520282   \n",
       "8503868                       0.050388                0.520282   \n",
       "8503869                       0.050388                0.520282   \n",
       "\n",
       "         01_branch_working_days  01_net_amount_receiver  \\\n",
       "0                      0.095771                0.076924   \n",
       "1                      0.095771                0.076924   \n",
       "2                      0.586709                0.120000   \n",
       "3                      0.586709                0.120000   \n",
       "4                      0.586709                0.120000   \n",
       "...                         ...                     ...   \n",
       "8503865                0.146588                1.000000   \n",
       "8503866                0.200426                0.036000   \n",
       "8503867                0.200426                0.036000   \n",
       "8503868                0.200426                0.036000   \n",
       "8503869                0.200426                0.036000   \n",
       "\n",
       "         01_sender_minutes_since_last_transaction_2days  \\\n",
       "0                                              0.000694   \n",
       "1                                              0.000694   \n",
       "2                                              0.000000   \n",
       "3                                              0.000000   \n",
       "4                                              0.000000   \n",
       "...                                                 ...   \n",
       "8503865                                        0.000000   \n",
       "8503866                                        0.000000   \n",
       "8503867                                        0.000000   \n",
       "8503868                                        0.000000   \n",
       "8503869                                        0.000000   \n",
       "\n",
       "         01_sender_minutes_since_last_transaction_1day  \\\n",
       "0                                             0.001389   \n",
       "1                                             0.001389   \n",
       "2                                             0.000000   \n",
       "3                                             0.000000   \n",
       "4                                             0.000000   \n",
       "...                                                ...   \n",
       "8503865                                       0.000000   \n",
       "8503866                                       0.000000   \n",
       "8503867                                       0.000000   \n",
       "8503868                                       0.000000   \n",
       "8503869                                       0.000000   \n",
       "\n",
       "         01_sender_days_to_last_transaction_365  ...  id_payout_M  \\\n",
       "0                                      0.928767  ...        False   \n",
       "1                                      0.928767  ...        False   \n",
       "2                                      0.591781  ...        False   \n",
       "3                                      0.591781  ...        False   \n",
       "4                                      0.591781  ...        False   \n",
       "...                                         ...  ...          ...   \n",
       "8503865                                0.391781  ...        False   \n",
       "8503866                                0.917808  ...        False   \n",
       "8503867                                0.917808  ...        False   \n",
       "8503868                                0.917808  ...        False   \n",
       "8503869                                0.917808  ...        False   \n",
       "\n",
       "         id_payout_N  id_payout_O  id_payout_P  id_payout_S  id_payout_T  \\\n",
       "0              False        False         True        False        False   \n",
       "1              False        False         True        False        False   \n",
       "2              False        False        False        False        False   \n",
       "3              False        False        False        False        False   \n",
       "4              False        False        False        False        False   \n",
       "...              ...          ...          ...          ...          ...   \n",
       "8503865        False        False        False        False        False   \n",
       "8503866        False        False         True        False        False   \n",
       "8503867        False        False         True        False        False   \n",
       "8503868        False        False         True        False        False   \n",
       "8503869        False        False         True        False        False   \n",
       "\n",
       "         id_payout_X  target1  target2  target_fraudes  \n",
       "0              False    False    False           False  \n",
       "1              False    False    False           False  \n",
       "2              False    False    False           False  \n",
       "3              False    False    False           False  \n",
       "4              False    False    False           False  \n",
       "...              ...      ...      ...             ...  \n",
       "8503865        False    False    False           False  \n",
       "8503866        False    False    False           False  \n",
       "8503867        False    False    False           False  \n",
       "8503868        False    False    False           False  \n",
       "8503869        False    False    False           False  \n",
       "\n",
       "[8503870 rows x 36 columns]"
      ]
     },
     "execution_count": 45,
     "metadata": {},
     "output_type": "execute_result"
    }
   ],
   "source": [
    "df"
   ]
  },
  {
   "cell_type": "code",
   "execution_count": 46,
   "id": "add330ae-0d34-4c56-8f87-fd02df009281",
   "metadata": {
    "tags": []
   },
   "outputs": [],
   "source": [
    "import os\n",
    "import pyarrow as pa\n",
    "import pyarrow.parquet as pq"
   ]
  },
  {
   "cell_type": "code",
   "execution_count": null,
   "id": "d87e689c-fa6c-48ec-ae38-e2da2f97da87",
   "metadata": {},
   "outputs": [],
   "source": [
    "#guardar_dataset_con_valor_parquet(df_source, columna_nombre='mes', nombre_archivo='Prepoc_Fraude',carpeta='ABT') # save ABT in parquet format"
   ]
  },
  {
   "cell_type": "code",
   "execution_count": 47,
   "id": "5470713d-b255-4419-851d-e9484ab5bfe7",
   "metadata": {
    "tags": []
   },
   "outputs": [
    {
     "name": "stdout",
     "output_type": "stream",
     "text": [
      "termine de salvar el parquet\n"
     ]
    }
   ],
   "source": [
    "if archivo_test == 0:\n",
    "    s3_url = f\"s3://viamericas-datalake-dev-us-east-1-283731589572-raw/FraudModel/Train/Preproc_Fr_{mes_data}.parquet\"\n",
    "elif archivo_test ==1:\n",
    "    s3_url = f\"s3://viamericas-datalake-dev-us-east-1-283731589572-raw/FraudModel/Test/Preproc_Fr_{mes_data}.parquet\"\n",
    "#df.to_parquet(path='./exp1.parquet', engine='pyarrow', compression='gzip')\n",
    "df.to_parquet(path=s3_url, engine='pyarrow', compression='gzip')\n",
    "print('termine de salvar el parquet')"
   ]
  },
  {
   "cell_type": "code",
   "execution_count": 48,
   "id": "8a352222-4890-433a-890c-daaf6df14b6e",
   "metadata": {
    "tags": []
   },
   "outputs": [
    {
     "data": {
      "text/html": [
       "<div>\n",
       "<style scoped>\n",
       "    .dataframe tbody tr th:only-of-type {\n",
       "        vertical-align: middle;\n",
       "    }\n",
       "\n",
       "    .dataframe tbody tr th {\n",
       "        vertical-align: top;\n",
       "    }\n",
       "\n",
       "    .dataframe thead th {\n",
       "        text-align: right;\n",
       "    }\n",
       "</style>\n",
       "<table border=\"1\" class=\"dataframe\">\n",
       "  <thead>\n",
       "    <tr style=\"text-align: right;\">\n",
       "      <th></th>\n",
       "      <th>id_branch</th>\n",
       "      <th>id_receiver</th>\n",
       "      <th>id_sender_global</th>\n",
       "      <th>01_receiver_transaction_count</th>\n",
       "      <th>01_sender_sending_days</th>\n",
       "      <th>01_branch_working_days</th>\n",
       "      <th>01_net_amount_receiver</th>\n",
       "      <th>01_sender_minutes_since_last_transaction_2days</th>\n",
       "      <th>01_sender_minutes_since_last_transaction_1day</th>\n",
       "      <th>01_sender_days_to_last_transaction_365</th>\n",
       "      <th>...</th>\n",
       "      <th>id_payout_M</th>\n",
       "      <th>id_payout_N</th>\n",
       "      <th>id_payout_O</th>\n",
       "      <th>id_payout_P</th>\n",
       "      <th>id_payout_S</th>\n",
       "      <th>id_payout_T</th>\n",
       "      <th>id_payout_X</th>\n",
       "      <th>target1</th>\n",
       "      <th>target2</th>\n",
       "      <th>target_fraudes</th>\n",
       "    </tr>\n",
       "  </thead>\n",
       "  <tbody>\n",
       "    <tr>\n",
       "      <th>0</th>\n",
       "      <td>A21773</td>\n",
       "      <td>16793</td>\n",
       "      <td>7866564</td>\n",
       "      <td>0.00000</td>\n",
       "      <td>0.261023</td>\n",
       "      <td>0.095771</td>\n",
       "      <td>0.076924</td>\n",
       "      <td>0.000694</td>\n",
       "      <td>0.001389</td>\n",
       "      <td>0.928767</td>\n",
       "      <td>...</td>\n",
       "      <td>False</td>\n",
       "      <td>False</td>\n",
       "      <td>False</td>\n",
       "      <td>True</td>\n",
       "      <td>False</td>\n",
       "      <td>False</td>\n",
       "      <td>False</td>\n",
       "      <td>False</td>\n",
       "      <td>False</td>\n",
       "      <td>False</td>\n",
       "    </tr>\n",
       "    <tr>\n",
       "      <th>1</th>\n",
       "      <td>A21773</td>\n",
       "      <td>16793</td>\n",
       "      <td>7866564</td>\n",
       "      <td>0.00000</td>\n",
       "      <td>0.261023</td>\n",
       "      <td>0.095771</td>\n",
       "      <td>0.076924</td>\n",
       "      <td>0.000694</td>\n",
       "      <td>0.001389</td>\n",
       "      <td>0.928767</td>\n",
       "      <td>...</td>\n",
       "      <td>False</td>\n",
       "      <td>False</td>\n",
       "      <td>False</td>\n",
       "      <td>True</td>\n",
       "      <td>False</td>\n",
       "      <td>False</td>\n",
       "      <td>False</td>\n",
       "      <td>False</td>\n",
       "      <td>False</td>\n",
       "      <td>False</td>\n",
       "    </tr>\n",
       "    <tr>\n",
       "      <th>2</th>\n",
       "      <td>A10444</td>\n",
       "      <td>27273</td>\n",
       "      <td>9510495</td>\n",
       "      <td>0.01938</td>\n",
       "      <td>0.022928</td>\n",
       "      <td>0.586709</td>\n",
       "      <td>0.120000</td>\n",
       "      <td>0.000000</td>\n",
       "      <td>0.000000</td>\n",
       "      <td>0.591781</td>\n",
       "      <td>...</td>\n",
       "      <td>False</td>\n",
       "      <td>False</td>\n",
       "      <td>False</td>\n",
       "      <td>False</td>\n",
       "      <td>False</td>\n",
       "      <td>False</td>\n",
       "      <td>False</td>\n",
       "      <td>False</td>\n",
       "      <td>False</td>\n",
       "      <td>False</td>\n",
       "    </tr>\n",
       "    <tr>\n",
       "      <th>3</th>\n",
       "      <td>A10444</td>\n",
       "      <td>27273</td>\n",
       "      <td>9510495</td>\n",
       "      <td>0.01938</td>\n",
       "      <td>0.022928</td>\n",
       "      <td>0.586709</td>\n",
       "      <td>0.120000</td>\n",
       "      <td>0.000000</td>\n",
       "      <td>0.000000</td>\n",
       "      <td>0.591781</td>\n",
       "      <td>...</td>\n",
       "      <td>False</td>\n",
       "      <td>False</td>\n",
       "      <td>False</td>\n",
       "      <td>False</td>\n",
       "      <td>False</td>\n",
       "      <td>False</td>\n",
       "      <td>False</td>\n",
       "      <td>False</td>\n",
       "      <td>False</td>\n",
       "      <td>False</td>\n",
       "    </tr>\n",
       "    <tr>\n",
       "      <th>4</th>\n",
       "      <td>A10444</td>\n",
       "      <td>27273</td>\n",
       "      <td>9510495</td>\n",
       "      <td>0.01938</td>\n",
       "      <td>0.022928</td>\n",
       "      <td>0.586709</td>\n",
       "      <td>0.120000</td>\n",
       "      <td>0.000000</td>\n",
       "      <td>0.000000</td>\n",
       "      <td>0.591781</td>\n",
       "      <td>...</td>\n",
       "      <td>False</td>\n",
       "      <td>False</td>\n",
       "      <td>False</td>\n",
       "      <td>False</td>\n",
       "      <td>False</td>\n",
       "      <td>False</td>\n",
       "      <td>False</td>\n",
       "      <td>False</td>\n",
       "      <td>False</td>\n",
       "      <td>False</td>\n",
       "    </tr>\n",
       "  </tbody>\n",
       "</table>\n",
       "<p>5 rows × 36 columns</p>\n",
       "</div>"
      ],
      "text/plain": [
       "    id_branch id_receiver id_sender_global  01_receiver_transaction_count  \\\n",
       "0  A21773           16793          7866564                        0.00000   \n",
       "1  A21773           16793          7866564                        0.00000   \n",
       "2  A10444           27273          9510495                        0.01938   \n",
       "3  A10444           27273          9510495                        0.01938   \n",
       "4  A10444           27273          9510495                        0.01938   \n",
       "\n",
       "   01_sender_sending_days  01_branch_working_days  01_net_amount_receiver  \\\n",
       "0                0.261023                0.095771                0.076924   \n",
       "1                0.261023                0.095771                0.076924   \n",
       "2                0.022928                0.586709                0.120000   \n",
       "3                0.022928                0.586709                0.120000   \n",
       "4                0.022928                0.586709                0.120000   \n",
       "\n",
       "   01_sender_minutes_since_last_transaction_2days  \\\n",
       "0                                        0.000694   \n",
       "1                                        0.000694   \n",
       "2                                        0.000000   \n",
       "3                                        0.000000   \n",
       "4                                        0.000000   \n",
       "\n",
       "   01_sender_minutes_since_last_transaction_1day  \\\n",
       "0                                       0.001389   \n",
       "1                                       0.001389   \n",
       "2                                       0.000000   \n",
       "3                                       0.000000   \n",
       "4                                       0.000000   \n",
       "\n",
       "   01_sender_days_to_last_transaction_365  ...  id_payout_M  id_payout_N  \\\n",
       "0                                0.928767  ...        False        False   \n",
       "1                                0.928767  ...        False        False   \n",
       "2                                0.591781  ...        False        False   \n",
       "3                                0.591781  ...        False        False   \n",
       "4                                0.591781  ...        False        False   \n",
       "\n",
       "   id_payout_O  id_payout_P  id_payout_S  id_payout_T  id_payout_X  target1  \\\n",
       "0        False         True        False        False        False    False   \n",
       "1        False         True        False        False        False    False   \n",
       "2        False        False        False        False        False    False   \n",
       "3        False        False        False        False        False    False   \n",
       "4        False        False        False        False        False    False   \n",
       "\n",
       "   target2  target_fraudes  \n",
       "0    False           False  \n",
       "1    False           False  \n",
       "2    False           False  \n",
       "3    False           False  \n",
       "4    False           False  \n",
       "\n",
       "[5 rows x 36 columns]"
      ]
     },
     "execution_count": 48,
     "metadata": {},
     "output_type": "execute_result"
    }
   ],
   "source": [
    "df.head(5)"
   ]
  },
  {
   "cell_type": "code",
   "execution_count": null,
   "id": "e42a5ad8-43cd-4f42-abb9-4a8dfa3c13ef",
   "metadata": {
    "tags": []
   },
   "outputs": [],
   "source": [
    "mes_data"
   ]
  }
 ],
 "metadata": {
  "availableInstances": [
   {
    "_defaultOrder": 0,
    "_isFastLaunch": true,
    "category": "General purpose",
    "gpuNum": 0,
    "hideHardwareSpecs": false,
    "memoryGiB": 4,
    "name": "ml.t3.medium",
    "vcpuNum": 2
   },
   {
    "_defaultOrder": 1,
    "_isFastLaunch": false,
    "category": "General purpose",
    "gpuNum": 0,
    "hideHardwareSpecs": false,
    "memoryGiB": 8,
    "name": "ml.t3.large",
    "vcpuNum": 2
   },
   {
    "_defaultOrder": 2,
    "_isFastLaunch": false,
    "category": "General purpose",
    "gpuNum": 0,
    "hideHardwareSpecs": false,
    "memoryGiB": 16,
    "name": "ml.t3.xlarge",
    "vcpuNum": 4
   },
   {
    "_defaultOrder": 3,
    "_isFastLaunch": false,
    "category": "General purpose",
    "gpuNum": 0,
    "hideHardwareSpecs": false,
    "memoryGiB": 32,
    "name": "ml.t3.2xlarge",
    "vcpuNum": 8
   },
   {
    "_defaultOrder": 4,
    "_isFastLaunch": true,
    "category": "General purpose",
    "gpuNum": 0,
    "hideHardwareSpecs": false,
    "memoryGiB": 8,
    "name": "ml.m5.large",
    "vcpuNum": 2
   },
   {
    "_defaultOrder": 5,
    "_isFastLaunch": false,
    "category": "General purpose",
    "gpuNum": 0,
    "hideHardwareSpecs": false,
    "memoryGiB": 16,
    "name": "ml.m5.xlarge",
    "vcpuNum": 4
   },
   {
    "_defaultOrder": 6,
    "_isFastLaunch": false,
    "category": "General purpose",
    "gpuNum": 0,
    "hideHardwareSpecs": false,
    "memoryGiB": 32,
    "name": "ml.m5.2xlarge",
    "vcpuNum": 8
   },
   {
    "_defaultOrder": 7,
    "_isFastLaunch": false,
    "category": "General purpose",
    "gpuNum": 0,
    "hideHardwareSpecs": false,
    "memoryGiB": 64,
    "name": "ml.m5.4xlarge",
    "vcpuNum": 16
   },
   {
    "_defaultOrder": 8,
    "_isFastLaunch": false,
    "category": "General purpose",
    "gpuNum": 0,
    "hideHardwareSpecs": false,
    "memoryGiB": 128,
    "name": "ml.m5.8xlarge",
    "vcpuNum": 32
   },
   {
    "_defaultOrder": 9,
    "_isFastLaunch": false,
    "category": "General purpose",
    "gpuNum": 0,
    "hideHardwareSpecs": false,
    "memoryGiB": 192,
    "name": "ml.m5.12xlarge",
    "vcpuNum": 48
   },
   {
    "_defaultOrder": 10,
    "_isFastLaunch": false,
    "category": "General purpose",
    "gpuNum": 0,
    "hideHardwareSpecs": false,
    "memoryGiB": 256,
    "name": "ml.m5.16xlarge",
    "vcpuNum": 64
   },
   {
    "_defaultOrder": 11,
    "_isFastLaunch": false,
    "category": "General purpose",
    "gpuNum": 0,
    "hideHardwareSpecs": false,
    "memoryGiB": 384,
    "name": "ml.m5.24xlarge",
    "vcpuNum": 96
   },
   {
    "_defaultOrder": 12,
    "_isFastLaunch": false,
    "category": "General purpose",
    "gpuNum": 0,
    "hideHardwareSpecs": false,
    "memoryGiB": 8,
    "name": "ml.m5d.large",
    "vcpuNum": 2
   },
   {
    "_defaultOrder": 13,
    "_isFastLaunch": false,
    "category": "General purpose",
    "gpuNum": 0,
    "hideHardwareSpecs": false,
    "memoryGiB": 16,
    "name": "ml.m5d.xlarge",
    "vcpuNum": 4
   },
   {
    "_defaultOrder": 14,
    "_isFastLaunch": false,
    "category": "General purpose",
    "gpuNum": 0,
    "hideHardwareSpecs": false,
    "memoryGiB": 32,
    "name": "ml.m5d.2xlarge",
    "vcpuNum": 8
   },
   {
    "_defaultOrder": 15,
    "_isFastLaunch": false,
    "category": "General purpose",
    "gpuNum": 0,
    "hideHardwareSpecs": false,
    "memoryGiB": 64,
    "name": "ml.m5d.4xlarge",
    "vcpuNum": 16
   },
   {
    "_defaultOrder": 16,
    "_isFastLaunch": false,
    "category": "General purpose",
    "gpuNum": 0,
    "hideHardwareSpecs": false,
    "memoryGiB": 128,
    "name": "ml.m5d.8xlarge",
    "vcpuNum": 32
   },
   {
    "_defaultOrder": 17,
    "_isFastLaunch": false,
    "category": "General purpose",
    "gpuNum": 0,
    "hideHardwareSpecs": false,
    "memoryGiB": 192,
    "name": "ml.m5d.12xlarge",
    "vcpuNum": 48
   },
   {
    "_defaultOrder": 18,
    "_isFastLaunch": false,
    "category": "General purpose",
    "gpuNum": 0,
    "hideHardwareSpecs": false,
    "memoryGiB": 256,
    "name": "ml.m5d.16xlarge",
    "vcpuNum": 64
   },
   {
    "_defaultOrder": 19,
    "_isFastLaunch": false,
    "category": "General purpose",
    "gpuNum": 0,
    "hideHardwareSpecs": false,
    "memoryGiB": 384,
    "name": "ml.m5d.24xlarge",
    "vcpuNum": 96
   },
   {
    "_defaultOrder": 20,
    "_isFastLaunch": false,
    "category": "General purpose",
    "gpuNum": 0,
    "hideHardwareSpecs": true,
    "memoryGiB": 0,
    "name": "ml.geospatial.interactive",
    "supportedImageNames": [
     "sagemaker-geospatial-v1-0"
    ],
    "vcpuNum": 0
   },
   {
    "_defaultOrder": 21,
    "_isFastLaunch": true,
    "category": "Compute optimized",
    "gpuNum": 0,
    "hideHardwareSpecs": false,
    "memoryGiB": 4,
    "name": "ml.c5.large",
    "vcpuNum": 2
   },
   {
    "_defaultOrder": 22,
    "_isFastLaunch": false,
    "category": "Compute optimized",
    "gpuNum": 0,
    "hideHardwareSpecs": false,
    "memoryGiB": 8,
    "name": "ml.c5.xlarge",
    "vcpuNum": 4
   },
   {
    "_defaultOrder": 23,
    "_isFastLaunch": false,
    "category": "Compute optimized",
    "gpuNum": 0,
    "hideHardwareSpecs": false,
    "memoryGiB": 16,
    "name": "ml.c5.2xlarge",
    "vcpuNum": 8
   },
   {
    "_defaultOrder": 24,
    "_isFastLaunch": false,
    "category": "Compute optimized",
    "gpuNum": 0,
    "hideHardwareSpecs": false,
    "memoryGiB": 32,
    "name": "ml.c5.4xlarge",
    "vcpuNum": 16
   },
   {
    "_defaultOrder": 25,
    "_isFastLaunch": false,
    "category": "Compute optimized",
    "gpuNum": 0,
    "hideHardwareSpecs": false,
    "memoryGiB": 72,
    "name": "ml.c5.9xlarge",
    "vcpuNum": 36
   },
   {
    "_defaultOrder": 26,
    "_isFastLaunch": false,
    "category": "Compute optimized",
    "gpuNum": 0,
    "hideHardwareSpecs": false,
    "memoryGiB": 96,
    "name": "ml.c5.12xlarge",
    "vcpuNum": 48
   },
   {
    "_defaultOrder": 27,
    "_isFastLaunch": false,
    "category": "Compute optimized",
    "gpuNum": 0,
    "hideHardwareSpecs": false,
    "memoryGiB": 144,
    "name": "ml.c5.18xlarge",
    "vcpuNum": 72
   },
   {
    "_defaultOrder": 28,
    "_isFastLaunch": false,
    "category": "Compute optimized",
    "gpuNum": 0,
    "hideHardwareSpecs": false,
    "memoryGiB": 192,
    "name": "ml.c5.24xlarge",
    "vcpuNum": 96
   },
   {
    "_defaultOrder": 29,
    "_isFastLaunch": true,
    "category": "Accelerated computing",
    "gpuNum": 1,
    "hideHardwareSpecs": false,
    "memoryGiB": 16,
    "name": "ml.g4dn.xlarge",
    "vcpuNum": 4
   },
   {
    "_defaultOrder": 30,
    "_isFastLaunch": false,
    "category": "Accelerated computing",
    "gpuNum": 1,
    "hideHardwareSpecs": false,
    "memoryGiB": 32,
    "name": "ml.g4dn.2xlarge",
    "vcpuNum": 8
   },
   {
    "_defaultOrder": 31,
    "_isFastLaunch": false,
    "category": "Accelerated computing",
    "gpuNum": 1,
    "hideHardwareSpecs": false,
    "memoryGiB": 64,
    "name": "ml.g4dn.4xlarge",
    "vcpuNum": 16
   },
   {
    "_defaultOrder": 32,
    "_isFastLaunch": false,
    "category": "Accelerated computing",
    "gpuNum": 1,
    "hideHardwareSpecs": false,
    "memoryGiB": 128,
    "name": "ml.g4dn.8xlarge",
    "vcpuNum": 32
   },
   {
    "_defaultOrder": 33,
    "_isFastLaunch": false,
    "category": "Accelerated computing",
    "gpuNum": 4,
    "hideHardwareSpecs": false,
    "memoryGiB": 192,
    "name": "ml.g4dn.12xlarge",
    "vcpuNum": 48
   },
   {
    "_defaultOrder": 34,
    "_isFastLaunch": false,
    "category": "Accelerated computing",
    "gpuNum": 1,
    "hideHardwareSpecs": false,
    "memoryGiB": 256,
    "name": "ml.g4dn.16xlarge",
    "vcpuNum": 64
   },
   {
    "_defaultOrder": 35,
    "_isFastLaunch": false,
    "category": "Accelerated computing",
    "gpuNum": 1,
    "hideHardwareSpecs": false,
    "memoryGiB": 61,
    "name": "ml.p3.2xlarge",
    "vcpuNum": 8
   },
   {
    "_defaultOrder": 36,
    "_isFastLaunch": false,
    "category": "Accelerated computing",
    "gpuNum": 4,
    "hideHardwareSpecs": false,
    "memoryGiB": 244,
    "name": "ml.p3.8xlarge",
    "vcpuNum": 32
   },
   {
    "_defaultOrder": 37,
    "_isFastLaunch": false,
    "category": "Accelerated computing",
    "gpuNum": 8,
    "hideHardwareSpecs": false,
    "memoryGiB": 488,
    "name": "ml.p3.16xlarge",
    "vcpuNum": 64
   },
   {
    "_defaultOrder": 38,
    "_isFastLaunch": false,
    "category": "Accelerated computing",
    "gpuNum": 8,
    "hideHardwareSpecs": false,
    "memoryGiB": 768,
    "name": "ml.p3dn.24xlarge",
    "vcpuNum": 96
   },
   {
    "_defaultOrder": 39,
    "_isFastLaunch": false,
    "category": "Memory Optimized",
    "gpuNum": 0,
    "hideHardwareSpecs": false,
    "memoryGiB": 16,
    "name": "ml.r5.large",
    "vcpuNum": 2
   },
   {
    "_defaultOrder": 40,
    "_isFastLaunch": false,
    "category": "Memory Optimized",
    "gpuNum": 0,
    "hideHardwareSpecs": false,
    "memoryGiB": 32,
    "name": "ml.r5.xlarge",
    "vcpuNum": 4
   },
   {
    "_defaultOrder": 41,
    "_isFastLaunch": false,
    "category": "Memory Optimized",
    "gpuNum": 0,
    "hideHardwareSpecs": false,
    "memoryGiB": 64,
    "name": "ml.r5.2xlarge",
    "vcpuNum": 8
   },
   {
    "_defaultOrder": 42,
    "_isFastLaunch": false,
    "category": "Memory Optimized",
    "gpuNum": 0,
    "hideHardwareSpecs": false,
    "memoryGiB": 128,
    "name": "ml.r5.4xlarge",
    "vcpuNum": 16
   },
   {
    "_defaultOrder": 43,
    "_isFastLaunch": false,
    "category": "Memory Optimized",
    "gpuNum": 0,
    "hideHardwareSpecs": false,
    "memoryGiB": 256,
    "name": "ml.r5.8xlarge",
    "vcpuNum": 32
   },
   {
    "_defaultOrder": 44,
    "_isFastLaunch": false,
    "category": "Memory Optimized",
    "gpuNum": 0,
    "hideHardwareSpecs": false,
    "memoryGiB": 384,
    "name": "ml.r5.12xlarge",
    "vcpuNum": 48
   },
   {
    "_defaultOrder": 45,
    "_isFastLaunch": false,
    "category": "Memory Optimized",
    "gpuNum": 0,
    "hideHardwareSpecs": false,
    "memoryGiB": 512,
    "name": "ml.r5.16xlarge",
    "vcpuNum": 64
   },
   {
    "_defaultOrder": 46,
    "_isFastLaunch": false,
    "category": "Memory Optimized",
    "gpuNum": 0,
    "hideHardwareSpecs": false,
    "memoryGiB": 768,
    "name": "ml.r5.24xlarge",
    "vcpuNum": 96
   },
   {
    "_defaultOrder": 47,
    "_isFastLaunch": false,
    "category": "Accelerated computing",
    "gpuNum": 1,
    "hideHardwareSpecs": false,
    "memoryGiB": 16,
    "name": "ml.g5.xlarge",
    "vcpuNum": 4
   },
   {
    "_defaultOrder": 48,
    "_isFastLaunch": false,
    "category": "Accelerated computing",
    "gpuNum": 1,
    "hideHardwareSpecs": false,
    "memoryGiB": 32,
    "name": "ml.g5.2xlarge",
    "vcpuNum": 8
   },
   {
    "_defaultOrder": 49,
    "_isFastLaunch": false,
    "category": "Accelerated computing",
    "gpuNum": 1,
    "hideHardwareSpecs": false,
    "memoryGiB": 64,
    "name": "ml.g5.4xlarge",
    "vcpuNum": 16
   },
   {
    "_defaultOrder": 50,
    "_isFastLaunch": false,
    "category": "Accelerated computing",
    "gpuNum": 1,
    "hideHardwareSpecs": false,
    "memoryGiB": 128,
    "name": "ml.g5.8xlarge",
    "vcpuNum": 32
   },
   {
    "_defaultOrder": 51,
    "_isFastLaunch": false,
    "category": "Accelerated computing",
    "gpuNum": 1,
    "hideHardwareSpecs": false,
    "memoryGiB": 256,
    "name": "ml.g5.16xlarge",
    "vcpuNum": 64
   },
   {
    "_defaultOrder": 52,
    "_isFastLaunch": false,
    "category": "Accelerated computing",
    "gpuNum": 4,
    "hideHardwareSpecs": false,
    "memoryGiB": 192,
    "name": "ml.g5.12xlarge",
    "vcpuNum": 48
   },
   {
    "_defaultOrder": 53,
    "_isFastLaunch": false,
    "category": "Accelerated computing",
    "gpuNum": 4,
    "hideHardwareSpecs": false,
    "memoryGiB": 384,
    "name": "ml.g5.24xlarge",
    "vcpuNum": 96
   },
   {
    "_defaultOrder": 54,
    "_isFastLaunch": false,
    "category": "Accelerated computing",
    "gpuNum": 8,
    "hideHardwareSpecs": false,
    "memoryGiB": 768,
    "name": "ml.g5.48xlarge",
    "vcpuNum": 192
   },
   {
    "_defaultOrder": 55,
    "_isFastLaunch": false,
    "category": "Accelerated computing",
    "gpuNum": 8,
    "hideHardwareSpecs": false,
    "memoryGiB": 1152,
    "name": "ml.p4d.24xlarge",
    "vcpuNum": 96
   },
   {
    "_defaultOrder": 56,
    "_isFastLaunch": false,
    "category": "Accelerated computing",
    "gpuNum": 8,
    "hideHardwareSpecs": false,
    "memoryGiB": 1152,
    "name": "ml.p4de.24xlarge",
    "vcpuNum": 96
   },
   {
    "_defaultOrder": 57,
    "_isFastLaunch": false,
    "category": "Accelerated computing",
    "gpuNum": 0,
    "hideHardwareSpecs": false,
    "memoryGiB": 32,
    "name": "ml.trn1.2xlarge",
    "vcpuNum": 8
   },
   {
    "_defaultOrder": 58,
    "_isFastLaunch": false,
    "category": "Accelerated computing",
    "gpuNum": 0,
    "hideHardwareSpecs": false,
    "memoryGiB": 512,
    "name": "ml.trn1.32xlarge",
    "vcpuNum": 128
   },
   {
    "_defaultOrder": 59,
    "_isFastLaunch": false,
    "category": "Accelerated computing",
    "gpuNum": 0,
    "hideHardwareSpecs": false,
    "memoryGiB": 512,
    "name": "ml.trn1n.32xlarge",
    "vcpuNum": 128
   }
  ],
  "instance_type": "ml.t3.medium",
  "kernelspec": {
   "display_name": "conda_python3",
   "language": "python",
   "name": "conda_python3"
  },
  "language_info": {
   "codemirror_mode": {
    "name": "ipython",
    "version": 3
   },
   "file_extension": ".py",
   "mimetype": "text/x-python",
   "name": "python",
   "nbconvert_exporter": "python",
   "pygments_lexer": "ipython3",
   "version": "3.10.13"
  }
 },
 "nbformat": 4,
 "nbformat_minor": 5
}
