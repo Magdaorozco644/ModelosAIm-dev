{
 "cells": [
  {
   "cell_type": "code",
   "execution_count": 1,
   "id": "2850b1c7-4456-484e-a7ff-df70a0c612c6",
   "metadata": {
    "tags": []
   },
   "outputs": [
    {
     "name": "stdout",
     "output_type": "stream",
     "text": [
      "Requirement already satisfied: pip in /home/ec2-user/anaconda3/envs/python3/lib/python3.10/site-packages (24.0)\n",
      "Requirement already satisfied: pyathena in /home/ec2-user/anaconda3/envs/python3/lib/python3.10/site-packages (3.6.0)\n",
      "Requirement already satisfied: boto3>=1.26.4 in /home/ec2-user/anaconda3/envs/python3/lib/python3.10/site-packages (from pyathena) (1.34.69)\n",
      "Requirement already satisfied: botocore>=1.29.4 in /home/ec2-user/anaconda3/envs/python3/lib/python3.10/site-packages (from pyathena) (1.34.69)\n",
      "Requirement already satisfied: fsspec in /home/ec2-user/anaconda3/envs/python3/lib/python3.10/site-packages (from pyathena) (2024.2.0)\n",
      "Requirement already satisfied: tenacity>=4.1.0 in /home/ec2-user/anaconda3/envs/python3/lib/python3.10/site-packages (from pyathena) (8.2.3)\n",
      "Requirement already satisfied: jmespath<2.0.0,>=0.7.1 in /home/ec2-user/anaconda3/envs/python3/lib/python3.10/site-packages (from boto3>=1.26.4->pyathena) (1.0.1)\n",
      "Requirement already satisfied: s3transfer<0.11.0,>=0.10.0 in /home/ec2-user/anaconda3/envs/python3/lib/python3.10/site-packages (from boto3>=1.26.4->pyathena) (0.10.0)\n",
      "Requirement already satisfied: python-dateutil<3.0.0,>=2.1 in /home/ec2-user/anaconda3/envs/python3/lib/python3.10/site-packages (from botocore>=1.29.4->pyathena) (2.8.2)\n",
      "Requirement already satisfied: urllib3!=2.2.0,<3,>=1.25.4 in /home/ec2-user/anaconda3/envs/python3/lib/python3.10/site-packages (from botocore>=1.29.4->pyathena) (2.0.7)\n",
      "Requirement already satisfied: six>=1.5 in /home/ec2-user/anaconda3/envs/python3/lib/python3.10/site-packages (from python-dateutil<3.0.0,>=2.1->botocore>=1.29.4->pyathena) (1.16.0)\n"
     ]
    }
   ],
   "source": [
    "!pip install --upgrade pip\n",
    "!pip install pyathena"
   ]
  },
  {
   "cell_type": "code",
   "execution_count": 2,
   "id": "c6a1f253-a5cd-45f2-9375-0e78d9f03d36",
   "metadata": {
    "tags": []
   },
   "outputs": [
    {
     "name": "stdout",
     "output_type": "stream",
     "text": [
      "Requirement already satisfied: seaborn==0.12.2 in /home/ec2-user/anaconda3/envs/python3/lib/python3.10/site-packages (0.12.2)\n",
      "Requirement already satisfied: numpy!=1.24.0,>=1.17 in /home/ec2-user/anaconda3/envs/python3/lib/python3.10/site-packages (from seaborn==0.12.2) (1.22.4)\n",
      "Requirement already satisfied: pandas>=0.25 in /home/ec2-user/anaconda3/envs/python3/lib/python3.10/site-packages (from seaborn==0.12.2) (2.2.0)\n",
      "Requirement already satisfied: matplotlib!=3.6.1,>=3.1 in /home/ec2-user/anaconda3/envs/python3/lib/python3.10/site-packages (from seaborn==0.12.2) (3.8.3)\n",
      "Requirement already satisfied: contourpy>=1.0.1 in /home/ec2-user/anaconda3/envs/python3/lib/python3.10/site-packages (from matplotlib!=3.6.1,>=3.1->seaborn==0.12.2) (1.2.0)\n",
      "Requirement already satisfied: cycler>=0.10 in /home/ec2-user/anaconda3/envs/python3/lib/python3.10/site-packages (from matplotlib!=3.6.1,>=3.1->seaborn==0.12.2) (0.12.1)\n",
      "Requirement already satisfied: fonttools>=4.22.0 in /home/ec2-user/anaconda3/envs/python3/lib/python3.10/site-packages (from matplotlib!=3.6.1,>=3.1->seaborn==0.12.2) (4.49.0)\n",
      "Requirement already satisfied: kiwisolver>=1.3.1 in /home/ec2-user/anaconda3/envs/python3/lib/python3.10/site-packages (from matplotlib!=3.6.1,>=3.1->seaborn==0.12.2) (1.4.5)\n",
      "Requirement already satisfied: packaging>=20.0 in /home/ec2-user/anaconda3/envs/python3/lib/python3.10/site-packages (from matplotlib!=3.6.1,>=3.1->seaborn==0.12.2) (21.3)\n",
      "Requirement already satisfied: pillow>=8 in /home/ec2-user/anaconda3/envs/python3/lib/python3.10/site-packages (from matplotlib!=3.6.1,>=3.1->seaborn==0.12.2) (10.2.0)\n",
      "Requirement already satisfied: pyparsing>=2.3.1 in /home/ec2-user/anaconda3/envs/python3/lib/python3.10/site-packages (from matplotlib!=3.6.1,>=3.1->seaborn==0.12.2) (3.1.1)\n",
      "Requirement already satisfied: python-dateutil>=2.7 in /home/ec2-user/anaconda3/envs/python3/lib/python3.10/site-packages (from matplotlib!=3.6.1,>=3.1->seaborn==0.12.2) (2.8.2)\n",
      "Requirement already satisfied: pytz>=2020.1 in /home/ec2-user/anaconda3/envs/python3/lib/python3.10/site-packages (from pandas>=0.25->seaborn==0.12.2) (2024.1)\n",
      "Requirement already satisfied: tzdata>=2022.7 in /home/ec2-user/anaconda3/envs/python3/lib/python3.10/site-packages (from pandas>=0.25->seaborn==0.12.2) (2024.1)\n",
      "Requirement already satisfied: six>=1.5 in /home/ec2-user/anaconda3/envs/python3/lib/python3.10/site-packages (from python-dateutil>=2.7->matplotlib!=3.6.1,>=3.1->seaborn==0.12.2) (1.16.0)\n"
     ]
    }
   ],
   "source": [
    "#Upgrade de la version de seaborn para poder hacer graficos mas facil \n",
    "!pip install seaborn==0.12.2"
   ]
  },
  {
   "cell_type": "code",
   "execution_count": 3,
   "id": "7e9abd8a-4ec6-495f-b230-072db6406e22",
   "metadata": {
    "tags": []
   },
   "outputs": [],
   "source": [
    "#Libraries\n",
    "from pyathena import connect\n",
    "import pandas as pd\n",
    "import datetime as dt\n",
    "import numpy as np\n",
    "import seaborn as sns\n",
    "import matplotlib.pyplot as plt\n",
    "from datetime import datetime\n",
    "from sklearn import preprocessing\n",
    "from sklearn.preprocessing import LabelBinarizer "
   ]
  },
  {
   "cell_type": "code",
   "execution_count": 4,
   "id": "2eb5cf06-511b-42fc-8c9e-3ef305c428de",
   "metadata": {
    "tags": []
   },
   "outputs": [],
   "source": [
    "# DB Setting\n",
    "bucket_name = 's3://viamericas-datalake-dev-us-east-1-283731589572-athena/'\n",
    "origin_name = 'AwsDataCatalog'\n",
    "database_name = 'analytics'\n",
    "tablaSource = 'source_fraud_fechas_label'\n"
   ]
  },
  {
   "cell_type": "markdown",
   "id": "24cfa128-e782-4f17-ad8c-27616837e504",
   "metadata": {},
   "source": [
    "id_branch, id_receiver, hour_receiver, day_name_receiver, net_amount_receiver, id_payout, \n",
    "            receiver_transaction_count, id_country_receiver_claim,\n",
    "            id_state, branch_working_days, sender_sending_days, sender_days_to_last_transaction, sender_minutes_since_last_transaction, branch_minutes_since_last_transaction, fraud_type,\n",
    "            day, date_receiver, state_sender, date_receiver_clean, ptx_brancity, idlocation_fraud"
   ]
  },
  {
   "cell_type": "code",
   "execution_count": 5,
   "id": "0f281d0b-391b-467b-9525-1178e14a7495",
   "metadata": {
    "tags": []
   },
   "outputs": [
    {
     "name": "stderr",
     "output_type": "stream",
     "text": [
      "/tmp/ipykernel_22674/358748475.py:10: UserWarning: pandas only supports SQLAlchemy connectable (engine/connection) or database string URI or sqlite3 DBAPI2 connection. Other DBAPI2 objects are not tested. Please consider using SQLAlchemy.\n",
      "  df_source = pd.read_sql('''select abt.*\n"
     ]
    }
   ],
   "source": [
    "#Connection\n",
    "conn = connect(s3_staging_dir=f'{bucket_name}queryresults/',\n",
    "               region_name='us-east-1')\n",
    "\n",
    "#Pongo el mes para el que traigo los datos y para poenr en el nombre del parquet\n",
    "mes_data = '202301' #812 secs\n",
    "#Pongo uno si quiero generar los datos para el test\n",
    "archivo_test = 0\n",
    "\n",
    "df_source = pd.read_sql('''select abt.*\n",
    "                        from (select * from analytics.abt_fraud\n",
    "                            where date_receiver between cast('2023-01-01' as date) and cast('2023-02-01' as date)) abt inner join\n",
    "                            (select id_receiver, id_branch, max(cast(day as timestamp)) last\n",
    "                            from analytics.abt_fraud where date_receiver > cast(day as timestamp)\n",
    "                            group by id_receiver, id_branch) ult_st\n",
    "                        on abt.id_receiver = ult_st.id_receiver and abt.id_branch = ult_st.id_branch \n",
    "                        and cast(abt.day as timestamp) = ult_st.last;;''', conn)\n"
   ]
  },
  {
   "cell_type": "code",
   "execution_count": 7,
   "id": "fc91c154-c8bb-45d6-b794-7006455ebf60",
   "metadata": {
    "tags": []
   },
   "outputs": [
    {
     "name": "stderr",
     "output_type": "stream",
     "text": [
      "/tmp/ipykernel_22674/3848104957.py:2: UserWarning: pandas only supports SQLAlchemy connectable (engine/connection) or database string URI or sqlite3 DBAPI2 connection. Other DBAPI2 objects are not tested. Please consider using SQLAlchemy.\n",
      "  df_perc1 = pd.read_sql('''select 'receiver_transaction_count', ptile, min(receiver_transaction_count), max(receiver_transaction_count)\n",
      "/tmp/ipykernel_22674/3848104957.py:30: UserWarning: pandas only supports SQLAlchemy connectable (engine/connection) or database string URI or sqlite3 DBAPI2 connection. Other DBAPI2 objects are not tested. Please consider using SQLAlchemy.\n",
      "  df_perc2 = pd.read_sql('''select 'branch_trans_3m', ptile, min(branch_trans_3m), max(branch_trans_3m)\n"
     ]
    }
   ],
   "source": [
    "#Traigo los percentiles que voy a usar en la normalizacion de algunas variables 130 sec\n",
    "df_perc1 = pd.read_sql('''select 'receiver_transaction_count', ptile, min(receiver_transaction_count), max(receiver_transaction_count)\n",
    "from (select NTILE(100) OVER (order by receiver_transaction_count) as ptile, receiver_transaction_count\n",
    "    from analytics.abt_fraud\n",
    "    where date_receiver between cast('2023-01-01' as timestamp) and cast('2023-08-01' as timestamp))\n",
    "where ptile = 1 or ptile = 99\n",
    "group by ptile\n",
    "union \n",
    "select 'sender_sending_days', ptile, min(sender_sending_days), max(sender_sending_days)\n",
    "from (select NTILE(100) OVER (order by sender_sending_days) as ptile, sender_sending_days\n",
    "    from analytics.abt_fraud\n",
    "    where date_receiver between cast('2023-01-01' as timestamp) and cast('2023-08-01' as timestamp))\n",
    "where ptile = 1 or ptile = 99\n",
    "group by ptile\n",
    "union\n",
    "select 'branch_working_days', ptile, min(branch_working_days), max(branch_working_days)\n",
    "from (select NTILE(100) OVER (order by branch_working_days) as ptile, branch_working_days\n",
    "    from analytics.abt_fraud\n",
    "    where date_receiver between cast('2023-01-01' as timestamp) and cast('2023-08-01' as timestamp))\n",
    "where ptile = 1 or ptile = 99\n",
    "group by ptile\n",
    "union\n",
    "select 'net_amount_receiver', ptile, min(net_amount_receiver), max(net_amount_receiver)\n",
    "from (select NTILE(100) OVER (order by net_amount_receiver) as ptile, net_amount_receiver\n",
    "    from analytics.abt_fraud\n",
    "    where date_receiver between cast('2023-01-01' as timestamp) and cast('2023-08-01' as timestamp))\n",
    "where ptile = 1 or ptile = 99\n",
    "group by ptile;''',conn)\n",
    "\n",
    "df_perc2 = pd.read_sql('''select 'branch_trans_3m', ptile, min(branch_trans_3m), max(branch_trans_3m)\n",
    "from (select NTILE(100) OVER (order by branch_trans_3m) as ptile, branch_trans_3m\n",
    "    from analytics.abt_fraud\n",
    "    where date_receiver between cast('2023-01-01' as timestamp) and cast('2023-08-01' as timestamp))\n",
    "where ptile = 1 or ptile = 99\n",
    "group by ptile\n",
    "union\n",
    "select 'branch_trans_40min', ptile, min(branch_trans_40min), max(branch_trans_40min)\n",
    "from (select NTILE(100) OVER (order by branch_trans_40min) as ptile, branch_trans_40min\n",
    "    from analytics.abt_fraud\n",
    "    where date_receiver between cast('2023-01-01' as timestamp) and cast('2023-08-01' as timestamp))\n",
    "where ptile = 1 or ptile = 99\n",
    "group by ptile\n",
    "union\n",
    "select 'branch_trans_10min', ptile, min(branch_trans_10min), max(branch_trans_10min)\n",
    "from (select NTILE(100) OVER (order by branch_trans_10min) as ptile, branch_trans_10min\n",
    "    from analytics.abt_fraud\n",
    "    where date_receiver between cast('2023-01-01' as timestamp) and cast('2023-08-01' as timestamp))\n",
    "where ptile = 1 or ptile = 99\n",
    "group by ptile\n",
    "union\n",
    "select 'cash_pick_up_4min', ptile, min(cash_pick_up_4min), max(cash_pick_up_4min)\n",
    "from (select NTILE(100) OVER (order by cash_pick_up_4min) as ptile, cash_pick_up_4min\n",
    "    from analytics.abt_fraud\n",
    "    where date_receiver between cast('2023-01-01' as timestamp) and cast('2023-08-01' as timestamp))\n",
    "where ptile = 1 or ptile = 99\n",
    "group by ptile\n",
    "union\n",
    "select 'sender_trans_3m', ptile, min(sender_trans_3m), max(sender_trans_3m)\n",
    "from (select NTILE(100) OVER (order by sender_trans_3m) as ptile, sender_trans_3m\n",
    "    from analytics.abt_fraud\n",
    "    where date_receiver between cast('2023-01-01' as timestamp) and cast('2023-08-01' as timestamp))\n",
    "where ptile = 1 or ptile = 99\n",
    "group by ptile;''',conn)"
   ]
  },
  {
   "cell_type": "code",
   "execution_count": 13,
   "id": "85964e70-a52d-47eb-86a6-b53a559fdc95",
   "metadata": {
    "tags": []
   },
   "outputs": [
    {
     "data": {
      "text/html": [
       "<div>\n",
       "<style scoped>\n",
       "    .dataframe tbody tr th:only-of-type {\n",
       "        vertical-align: middle;\n",
       "    }\n",
       "\n",
       "    .dataframe tbody tr th {\n",
       "        vertical-align: top;\n",
       "    }\n",
       "\n",
       "    .dataframe thead th {\n",
       "        text-align: right;\n",
       "    }\n",
       "</style>\n",
       "<table border=\"1\" class=\"dataframe\">\n",
       "  <thead>\n",
       "    <tr style=\"text-align: right;\">\n",
       "      <th></th>\n",
       "      <th>id_branch</th>\n",
       "      <th>id_receiver</th>\n",
       "      <th>date_receiver</th>\n",
       "      <th>id_location</th>\n",
       "      <th>id_payer</th>\n",
       "      <th>id_sender_global</th>\n",
       "      <th>net_amount_receiver</th>\n",
       "      <th>id_payout</th>\n",
       "      <th>status</th>\n",
       "      <th>was_fraud</th>\n",
       "      <th>...</th>\n",
       "      <th>branch_has_fraud</th>\n",
       "      <th>fecha_last_fraud_branch</th>\n",
       "      <th>receiver_has_fraud</th>\n",
       "      <th>branch_trans_40min</th>\n",
       "      <th>branch_trans_10min</th>\n",
       "      <th>cash_pick_up_4min</th>\n",
       "      <th>location_nro_fraud</th>\n",
       "      <th>sender_trans_3m</th>\n",
       "      <th>range_hist</th>\n",
       "      <th>sender_nro_fraud</th>\n",
       "    </tr>\n",
       "  </thead>\n",
       "  <tbody>\n",
       "    <tr>\n",
       "      <th>0</th>\n",
       "      <td>A22105</td>\n",
       "      <td>4983</td>\n",
       "      <td>2023-01-25 19:19:24.043</td>\n",
       "      <td>OR0176</td>\n",
       "      <td>T085</td>\n",
       "      <td>8106329</td>\n",
       "      <td>1700.0000</td>\n",
       "      <td>P</td>\n",
       "      <td>Paid</td>\n",
       "      <td>0</td>\n",
       "      <td>...</td>\n",
       "      <td>0</td>\n",
       "      <td>NaT</td>\n",
       "      <td>0</td>\n",
       "      <td>1</td>\n",
       "      <td>1</td>\n",
       "      <td>1</td>\n",
       "      <td>0</td>\n",
       "      <td>6</td>\n",
       "      <td>1200.1667</td>\n",
       "      <td>0</td>\n",
       "    </tr>\n",
       "    <tr>\n",
       "      <th>1</th>\n",
       "      <td>A20553</td>\n",
       "      <td>26594</td>\n",
       "      <td>2023-01-11 17:18:00.440</td>\n",
       "      <td>GA0704</td>\n",
       "      <td>T131</td>\n",
       "      <td>4202681</td>\n",
       "      <td>95.0000</td>\n",
       "      <td>P</td>\n",
       "      <td>Paid</td>\n",
       "      <td>0</td>\n",
       "      <td>...</td>\n",
       "      <td>0</td>\n",
       "      <td>NaT</td>\n",
       "      <td>0</td>\n",
       "      <td>1</td>\n",
       "      <td>1</td>\n",
       "      <td>1</td>\n",
       "      <td>0</td>\n",
       "      <td>4</td>\n",
       "      <td>86.5000</td>\n",
       "      <td>0</td>\n",
       "    </tr>\n",
       "    <tr>\n",
       "      <th>2</th>\n",
       "      <td>A19137</td>\n",
       "      <td>39656</td>\n",
       "      <td>2023-01-21 11:30:52.393</td>\n",
       "      <td>NY0901</td>\n",
       "      <td>T096</td>\n",
       "      <td>6177396</td>\n",
       "      <td>80.0000</td>\n",
       "      <td>P</td>\n",
       "      <td>Paid</td>\n",
       "      <td>0</td>\n",
       "      <td>...</td>\n",
       "      <td>0</td>\n",
       "      <td>NaT</td>\n",
       "      <td>0</td>\n",
       "      <td>7</td>\n",
       "      <td>4</td>\n",
       "      <td>3</td>\n",
       "      <td>0</td>\n",
       "      <td>28</td>\n",
       "      <td>296.8571</td>\n",
       "      <td>0</td>\n",
       "    </tr>\n",
       "    <tr>\n",
       "      <th>3</th>\n",
       "      <td>A19308</td>\n",
       "      <td>68675</td>\n",
       "      <td>2023-01-17 18:31:04.443</td>\n",
       "      <td>CA3607</td>\n",
       "      <td>T292</td>\n",
       "      <td>6336892</td>\n",
       "      <td>1323.0000</td>\n",
       "      <td>P</td>\n",
       "      <td>Cancelled</td>\n",
       "      <td>0</td>\n",
       "      <td>...</td>\n",
       "      <td>0</td>\n",
       "      <td>NaT</td>\n",
       "      <td>0</td>\n",
       "      <td>17</td>\n",
       "      <td>4</td>\n",
       "      <td>1</td>\n",
       "      <td>0</td>\n",
       "      <td>13</td>\n",
       "      <td>978.0769</td>\n",
       "      <td>0</td>\n",
       "    </tr>\n",
       "    <tr>\n",
       "      <th>4</th>\n",
       "      <td>A16988</td>\n",
       "      <td>107478</td>\n",
       "      <td>2023-01-24 18:54:00.190</td>\n",
       "      <td>SC0433</td>\n",
       "      <td>T232</td>\n",
       "      <td>2791424</td>\n",
       "      <td>290.0000</td>\n",
       "      <td>P</td>\n",
       "      <td>Paid</td>\n",
       "      <td>0</td>\n",
       "      <td>...</td>\n",
       "      <td>0</td>\n",
       "      <td>NaT</td>\n",
       "      <td>0</td>\n",
       "      <td>3</td>\n",
       "      <td>1</td>\n",
       "      <td>1</td>\n",
       "      <td>0</td>\n",
       "      <td>4</td>\n",
       "      <td>495.0000</td>\n",
       "      <td>0</td>\n",
       "    </tr>\n",
       "  </tbody>\n",
       "</table>\n",
       "<p>5 rows × 45 columns</p>\n",
       "</div>"
      ],
      "text/plain": [
       "  id_branch  id_receiver           date_receiver id_location id_payer  \\\n",
       "0    A22105         4983 2023-01-25 19:19:24.043      OR0176     T085   \n",
       "1    A20553        26594 2023-01-11 17:18:00.440      GA0704     T131   \n",
       "2    A19137        39656 2023-01-21 11:30:52.393      NY0901     T096   \n",
       "3    A19308        68675 2023-01-17 18:31:04.443      CA3607     T292   \n",
       "4    A16988       107478 2023-01-24 18:54:00.190      SC0433     T232   \n",
       "\n",
       "   id_sender_global net_amount_receiver id_payout     status was_fraud  ...  \\\n",
       "0           8106329           1700.0000         P       Paid         0  ...   \n",
       "1           4202681             95.0000         P       Paid         0  ...   \n",
       "2           6177396             80.0000         P       Paid         0  ...   \n",
       "3           6336892           1323.0000         P  Cancelled         0  ...   \n",
       "4           2791424            290.0000         P       Paid         0  ...   \n",
       "\n",
       "  branch_has_fraud fecha_last_fraud_branch receiver_has_fraud  \\\n",
       "0                0                     NaT                  0   \n",
       "1                0                     NaT                  0   \n",
       "2                0                     NaT                  0   \n",
       "3                0                     NaT                  0   \n",
       "4                0                     NaT                  0   \n",
       "\n",
       "  branch_trans_40min branch_trans_10min cash_pick_up_4min location_nro_fraud  \\\n",
       "0                  1                  1                 1                  0   \n",
       "1                  1                  1                 1                  0   \n",
       "2                  7                  4                 3                  0   \n",
       "3                 17                  4                 1                  0   \n",
       "4                  3                  1                 1                  0   \n",
       "\n",
       "  sender_trans_3m range_hist sender_nro_fraud  \n",
       "0               6  1200.1667                0  \n",
       "1               4    86.5000                0  \n",
       "2              28   296.8571                0  \n",
       "3              13   978.0769                0  \n",
       "4               4   495.0000                0  \n",
       "\n",
       "[5 rows x 45 columns]"
      ]
     },
     "execution_count": 13,
     "metadata": {},
     "output_type": "execute_result"
    }
   ],
   "source": [
    "df_source.head()"
   ]
  },
  {
   "cell_type": "code",
   "execution_count": 14,
   "id": "a259f7b2-c8a8-40a8-88ba-8666ff3acc64",
   "metadata": {
    "tags": []
   },
   "outputs": [],
   "source": [
    "df_source['mes'] = df_source['date_receiver'].dt.month\n",
    "df_source['fraud_type'] = df_source['fraud_type'].str.capitalize()"
   ]
  },
  {
   "cell_type": "code",
   "execution_count": 499,
   "id": "89f6babc-cb91-42ac-bbe7-c0fb9675a4d3",
   "metadata": {
    "tags": []
   },
   "outputs": [],
   "source": [
    "## Traigo precentiles para normalizar"
   ]
  },
  {
   "cell_type": "code",
   "execution_count": 16,
   "id": "5a85cc75-8001-4f22-9bda-43b4bb20bdd0",
   "metadata": {
    "tags": []
   },
   "outputs": [
    {
     "data": {
      "text/html": [
       "<div>\n",
       "<style scoped>\n",
       "    .dataframe tbody tr th:only-of-type {\n",
       "        vertical-align: middle;\n",
       "    }\n",
       "\n",
       "    .dataframe tbody tr th {\n",
       "        vertical-align: top;\n",
       "    }\n",
       "\n",
       "    .dataframe thead th {\n",
       "        text-align: right;\n",
       "    }\n",
       "</style>\n",
       "<table border=\"1\" class=\"dataframe\">\n",
       "  <thead>\n",
       "    <tr style=\"text-align: right;\">\n",
       "      <th></th>\n",
       "      <th>Variable</th>\n",
       "      <th>ptile</th>\n",
       "      <th>Min</th>\n",
       "      <th>Max</th>\n",
       "    </tr>\n",
       "  </thead>\n",
       "  <tbody>\n",
       "    <tr>\n",
       "      <th>0</th>\n",
       "      <td>sender_sending_days</td>\n",
       "      <td>99</td>\n",
       "      <td>76</td>\n",
       "      <td>88</td>\n",
       "    </tr>\n",
       "    <tr>\n",
       "      <th>1</th>\n",
       "      <td>net_amount_receiver</td>\n",
       "      <td>1</td>\n",
       "      <td>.0000</td>\n",
       "      <td>100.0000</td>\n",
       "    </tr>\n",
       "    <tr>\n",
       "      <th>2</th>\n",
       "      <td>receiver_transaction_count</td>\n",
       "      <td>99</td>\n",
       "      <td>9</td>\n",
       "      <td>90</td>\n",
       "    </tr>\n",
       "    <tr>\n",
       "      <th>3</th>\n",
       "      <td>net_amount_receiver</td>\n",
       "      <td>99</td>\n",
       "      <td>93.0000</td>\n",
       "      <td>980.0000</td>\n",
       "    </tr>\n",
       "    <tr>\n",
       "      <th>4</th>\n",
       "      <td>sender_sending_days</td>\n",
       "      <td>1</td>\n",
       "      <td>0</td>\n",
       "      <td>0</td>\n",
       "    </tr>\n",
       "    <tr>\n",
       "      <th>5</th>\n",
       "      <td>receiver_transaction_count</td>\n",
       "      <td>1</td>\n",
       "      <td>1</td>\n",
       "      <td>1</td>\n",
       "    </tr>\n",
       "    <tr>\n",
       "      <th>6</th>\n",
       "      <td>branch_working_days</td>\n",
       "      <td>99</td>\n",
       "      <td>961</td>\n",
       "      <td>981</td>\n",
       "    </tr>\n",
       "    <tr>\n",
       "      <th>7</th>\n",
       "      <td>branch_working_days</td>\n",
       "      <td>1</td>\n",
       "      <td>-1</td>\n",
       "      <td>1014</td>\n",
       "    </tr>\n",
       "    <tr>\n",
       "      <th>8</th>\n",
       "      <td>branch_trans_10min</td>\n",
       "      <td>1</td>\n",
       "      <td>1</td>\n",
       "      <td>1</td>\n",
       "    </tr>\n",
       "    <tr>\n",
       "      <th>9</th>\n",
       "      <td>sender_trans_3m</td>\n",
       "      <td>99</td>\n",
       "      <td>43</td>\n",
       "      <td>57</td>\n",
       "    </tr>\n",
       "    <tr>\n",
       "      <th>10</th>\n",
       "      <td>cash_pick_up_4min</td>\n",
       "      <td>1</td>\n",
       "      <td>0</td>\n",
       "      <td>0</td>\n",
       "    </tr>\n",
       "    <tr>\n",
       "      <th>11</th>\n",
       "      <td>branch_trans_10min</td>\n",
       "      <td>99</td>\n",
       "      <td>7</td>\n",
       "      <td>8</td>\n",
       "    </tr>\n",
       "    <tr>\n",
       "      <th>12</th>\n",
       "      <td>cash_pick_up_4min</td>\n",
       "      <td>99</td>\n",
       "      <td>3</td>\n",
       "      <td>4</td>\n",
       "    </tr>\n",
       "    <tr>\n",
       "      <th>13</th>\n",
       "      <td>sender_trans_3m</td>\n",
       "      <td>1</td>\n",
       "      <td>0</td>\n",
       "      <td>1</td>\n",
       "    </tr>\n",
       "    <tr>\n",
       "      <th>14</th>\n",
       "      <td>branch_trans_40min</td>\n",
       "      <td>1</td>\n",
       "      <td>1</td>\n",
       "      <td>1</td>\n",
       "    </tr>\n",
       "    <tr>\n",
       "      <th>15</th>\n",
       "      <td>branch_trans_3m</td>\n",
       "      <td>1</td>\n",
       "      <td>1</td>\n",
       "      <td>107</td>\n",
       "    </tr>\n",
       "    <tr>\n",
       "      <th>16</th>\n",
       "      <td>branch_trans_40min</td>\n",
       "      <td>99</td>\n",
       "      <td>19</td>\n",
       "      <td>24</td>\n",
       "    </tr>\n",
       "    <tr>\n",
       "      <th>17</th>\n",
       "      <td>branch_trans_3m</td>\n",
       "      <td>99</td>\n",
       "      <td>16460</td>\n",
       "      <td>21267</td>\n",
       "    </tr>\n",
       "  </tbody>\n",
       "</table>\n",
       "</div>"
      ],
      "text/plain": [
       "                      Variable  ptile      Min       Max\n",
       "0          sender_sending_days     99       76        88\n",
       "1          net_amount_receiver      1    .0000  100.0000\n",
       "2   receiver_transaction_count     99        9        90\n",
       "3          net_amount_receiver     99  93.0000  980.0000\n",
       "4          sender_sending_days      1        0         0\n",
       "5   receiver_transaction_count      1        1         1\n",
       "6          branch_working_days     99      961       981\n",
       "7          branch_working_days      1       -1      1014\n",
       "8           branch_trans_10min      1        1         1\n",
       "9              sender_trans_3m     99       43        57\n",
       "10           cash_pick_up_4min      1        0         0\n",
       "11          branch_trans_10min     99        7         8\n",
       "12           cash_pick_up_4min     99        3         4\n",
       "13             sender_trans_3m      1        0         1\n",
       "14          branch_trans_40min      1        1         1\n",
       "15             branch_trans_3m      1        1       107\n",
       "16          branch_trans_40min     99       19        24\n",
       "17             branch_trans_3m     99    16460     21267"
      ]
     },
     "execution_count": 16,
     "metadata": {},
     "output_type": "execute_result"
    }
   ],
   "source": [
    "df_perc = pd.concat([df_perc1, df_perc2], ignore_index=True)\n",
    "df_perc = df_perc.rename(columns={\"_col0\": \"Variable\", \"_col2\": \"Min\", \"_col3\": \"Max\", \"_col4\": \"Avg\"})\n",
    "df_perc"
   ]
  },
  {
   "cell_type": "markdown",
   "id": "1ff42287-39fd-498a-8e79-1da2270c7504",
   "metadata": {},
   "source": [
    "## Defino funciones para los datos\n",
    "### creo_dummies y escalo_percentiles"
   ]
  },
  {
   "cell_type": "code",
   "execution_count": 17,
   "id": "2f9c9961-c080-4cbc-9054-996b73ff12e6",
   "metadata": {
    "tags": []
   },
   "outputs": [],
   "source": [
    "#defino funcion para normalizar\n",
    "def escalo_percentiles(data, Pmin, Pmax, calculo):\n",
    "    #Escalo por Quartiles\n",
    "    \n",
    "    m = data.min()\n",
    "    M = data.max()\n",
    "    if calculo==1:\n",
    "        Qmin = Pmin\n",
    "        Qmax = Pmax\n",
    "        q0 = data.quantile(Qmin)\n",
    "        q1 = data.quantile(Qmax)\n",
    "    elif calculo==0:\n",
    "            q0=Pmin\n",
    "            q1=Pmax\n",
    "    data_std = (data - q0) / (q1 - q0)\n",
    "    dataN =  data_std.to_numpy()\n",
    "    #Pongo los outliers con un maximo\n",
    "    dataN = np.clip(dataN,0,1)\n",
    "    return dataN"
   ]
  },
  {
   "cell_type": "code",
   "execution_count": 18,
   "id": "04516f5f-97f4-4433-9ecd-abdbe29797b5",
   "metadata": {
    "tags": []
   },
   "outputs": [],
   "source": [
    "#creo dummies a partir de la lista de variables\n",
    "def creo_dummies(df, todummy_list):\n",
    "    df0 = df.copy()\n",
    "    for x in todummy_list:\n",
    "        dummies = pd.get_dummies(df[x], prefix=x, dummy_na=False)\n",
    "        df = df.drop(x, axis = 1)\n",
    "        df = pd.concat([df, dummies], axis=1)\n",
    "        df = pd.DataFrame(df)\n",
    "    return df, df.columns.difference(df0.columns)"
   ]
  },
  {
   "cell_type": "markdown",
   "id": "9588cdc0-0802-4c0e-9297-852ec8caaf0c",
   "metadata": {},
   "source": [
    "## Creo las nuevas variables\n",
    "### 01_isMexico y 01_sender_branch_state\n",
    "### 01_isCashPick y 01_isBankDep \n",
    "### sender_days_to_last_transaction_365 y sender_days_to_last_transaction_more365\n",
    "### sender_days_to_last_transaction_7m y sender_days_to_last_transaction_more7m\n",
    "### sender_minutes_since_last_transaction_2days y sender_minutes_since_last_transaction_1day\n"
   ]
  },
  {
   "cell_type": "code",
   "execution_count": 51,
   "id": "817ffc2b-8116-4ff1-9bac-744b606e61ab",
   "metadata": {
    "tags": []
   },
   "outputs": [],
   "source": [
    "df_source['hour_receiver'] = df_source['date_receiver'].dt.hour\n",
    "df_source['day_name_receiver'] = df_source['date_receiver'].dt.weekday"
   ]
  },
  {
   "cell_type": "code",
   "execution_count": 20,
   "id": "8060fec6-f6c2-4ee5-8d04-2d14ba249250",
   "metadata": {
    "tags": []
   },
   "outputs": [],
   "source": [
    "df_source['01_isMexico'] = (df_source['id_country_receiver_claim'].str.strip() =='MEX')\n",
    "df_source['01_sender_branch_state'] = (df_source['sender_state'].str.strip() == df_source['id_state'].str.strip())\n",
    "df_source['01_Var_range_hist'] = df_source['net_amount_receiver'].astype(float) / df_source['range_hist']\n",
    "df_source['01_receiver_fraud'] = (df_source['receiver_has_fraud']>0)\n",
    "df_source['01_branch_fraud'] = (df_source['branch_has_fraud']>0)\n",
    "df_source['01_location_fraud'] = (df_source['location_nro_fraud']>0)\n",
    "df_source['01_sender_fraud'] = (df_source['sender_nro_fraud']>0)\n",
    "\n",
    "#df_source[['01_Var_range_hist','net_amount_receiver','range_hist']]"
   ]
  },
  {
   "cell_type": "code",
   "execution_count": 21,
   "id": "a2bd0991-7dbd-4a9b-82c8-d23fcd7e86b3",
   "metadata": {
    "tags": []
   },
   "outputs": [],
   "source": [
    "cash_payout = ['M','P','S']\n",
    "bankdp_payout =['C','N','X','T']\n",
    "\n",
    "df_source['01_isCashPick'] = df_source.id_payout.isin(cash_payout)\n",
    "df_source['01_isBankDep'] = df_source.id_payout.isin(bankdp_payout)\n",
    "#df_source[['01_isCashPick','id_payout','01_isBankDep']]"
   ]
  },
  {
   "cell_type": "code",
   "execution_count": 22,
   "id": "4606665e-b9b5-48cb-b615-eda39a461e15",
   "metadata": {
    "tags": []
   },
   "outputs": [],
   "source": [
    "# Ver si la puedo agregar\n",
    "#df_source['branch_prom_diario'] = "
   ]
  },
  {
   "cell_type": "code",
   "execution_count": 23,
   "id": "0644111c-6eec-4f01-9866-f8d430449f8d",
   "metadata": {
    "tags": []
   },
   "outputs": [],
   "source": [
    "#defino corte al año\n",
    "df_source.loc[:,'sender_days_to_last_transaction_365'] = df_source['sender_days_to_last_transaction'].astype(float)\n",
    "df_source.loc[:,'sender_days_to_last_transaction_more365'] = 0\n",
    "df_source.loc[df_source['sender_days_to_last_transaction'].astype(float)> 365, 'sender_days_to_last_transaction_more365'] = 1\n",
    "df_source.loc[df_source['sender_days_to_last_transaction'].astype(float)> 365, 'sender_days_to_last_transaction_365'] = 0 \n",
    "\n",
    "#Hago otro corte a 7 meses\n",
    "df_source.loc[:,'sender_days_to_last_transaction_7m'] = df_source['sender_days_to_last_transaction'].astype(float)\n",
    "df_source.loc[:,'sender_days_to_last_transaction_more7m'] = 0\n",
    "df_source.loc[df_source['sender_days_to_last_transaction'].astype(float)> 7*30, 'sender_days_to_last_transaction_more7m'] = 1\n",
    "df_source.loc[df_source['sender_days_to_last_transaction'].astype(float)> 7*30, 'sender_days_to_last_transaction_7m'] = 0 "
   ]
  },
  {
   "cell_type": "code",
   "execution_count": 24,
   "id": "a3ed5842-26dd-442e-8e12-fa3bedb7dad8",
   "metadata": {
    "tags": []
   },
   "outputs": [],
   "source": [
    "#minutos a ultima transaccion para uno y dos dias\n",
    "df_source.loc[:, 'sender_minutes_since_last_transaction_2days'] = df_source['sender_minutes_since_last_transaction'].astype(float)\n",
    "df_source.loc[:, 'sender_minutes_since_last_transaction_1day'] = df_source['sender_minutes_since_last_transaction'].astype(float)\n",
    "\n",
    "df_source.loc[df_source['sender_minutes_since_last_transaction'].astype(float)> 2*24*60, 'sender_minutes_since_last_transaction_2days'] = 0\n",
    "df_source.loc[df_source['sender_minutes_since_last_transaction'].astype(float)> 24*60, 'sender_minutes_since_last_transaction_1day'] = 0"
   ]
  },
  {
   "cell_type": "markdown",
   "id": "86cddff3-d7cc-47bd-a3b1-e6769a443841",
   "metadata": {},
   "source": [
    "## Estandarizo variables\n",
    "### sender_days_to_last_transaction_365, sender_minutes_since_last_transaction_2days, net_amount_receiver, sender_sending_days, branch_working_days, receiver_transaction_count"
   ]
  },
  {
   "cell_type": "code",
   "execution_count": 25,
   "id": "983792e4-a974-4846-8ecb-26d143b638c6",
   "metadata": {
    "tags": []
   },
   "outputs": [
    {
     "data": {
      "text/plain": [
       "0          1700.0000\n",
       "1            95.0000\n",
       "2            80.0000\n",
       "3          1323.0000\n",
       "4           290.0000\n",
       "             ...    \n",
       "1717326      70.0000\n",
       "1717327     100.0000\n",
       "1717328     190.0000\n",
       "1717329     700.0000\n",
       "1717330     200.0000\n",
       "Name: net_amount_receiver, Length: 1717331, dtype: object"
      ]
     },
     "execution_count": 25,
     "metadata": {},
     "output_type": "execute_result"
    }
   ],
   "source": [
    "#Varibles nuevas creadas\n",
    "df_source['branch_trans_3m']\n",
    "df_source['sender_trans_3m']\n",
    "\n",
    "df_source['location_nro_fraud']\n",
    "df_source['branch_has_fraud']\n",
    "df_source['sender_nro_fraud']\n",
    "df_source['branch_trans_40min']\n",
    "df_source['branch_trans_10min']\n",
    "df_source['receiver_transaction_count']\n",
    "df_source['sender_sending_days']\n",
    "df_source['branch_working_days']\n",
    "df_source['net_amount_receiver']\n"
   ]
  },
  {
   "cell_type": "code",
   "execution_count": 34,
   "id": "b36dcf8b-a217-4dd3-a1e1-166b19ccdd3c",
   "metadata": {
    "tags": []
   },
   "outputs": [
    {
     "data": {
      "text/plain": [
       "90.0"
      ]
     },
     "execution_count": 34,
     "metadata": {},
     "output_type": "execute_result"
    }
   ],
   "source": [
    "float(Mx)"
   ]
  },
  {
   "cell_type": "code",
   "execution_count": 37,
   "id": "f994e76b-5ac0-4647-bbd8-ceb4aa5332b0",
   "metadata": {
    "tags": []
   },
   "outputs": [],
   "source": [
    "Mx = df_perc.Max[(df_perc['Variable']=='receiver_transaction_count') & (df_perc['ptile']==99)].item()\n",
    "mn = df_perc.Min[(df_perc['Variable']=='receiver_transaction_count') & (df_perc['ptile']==1)].item()\n",
    "Mx = int(Mx)\n",
    "mn = int(mn)\n",
    "\n",
    "df_source['01_receiver_transaction_count'] = escalo_percentiles(df_source['receiver_transaction_count'].astype(int), mn, Mx, 0)"
   ]
  },
  {
   "cell_type": "code",
   "execution_count": 38,
   "id": "72512ac3-3056-44c2-8900-9f292f7a3cd4",
   "metadata": {
    "tags": []
   },
   "outputs": [
    {
     "name": "stderr",
     "output_type": "stream",
     "text": [
      "/home/ec2-user/anaconda3/envs/python3/lib/python3.10/site-packages/seaborn/_oldcore.py:1119: FutureWarning: use_inf_as_na option is deprecated and will be removed in a future version. Convert inf values to NaN before operating instead.\n",
      "  with pd.option_context('mode.use_inf_as_na', True):\n",
      "/home/ec2-user/anaconda3/envs/python3/lib/python3.10/site-packages/seaborn/_oldcore.py:1119: FutureWarning: use_inf_as_na option is deprecated and will be removed in a future version. Convert inf values to NaN before operating instead.\n",
      "  with pd.option_context('mode.use_inf_as_na', True):\n"
     ]
    },
    {
     "data": {
      "text/plain": [
       "<Axes: xlabel='01_receiver_transaction_count', ylabel='Count'>"
      ]
     },
     "execution_count": 38,
     "metadata": {},
     "output_type": "execute_result"
    },
    {
     "data": {
      "image/png": "[encoded data removed]",
      "text/plain": [
       "<Figure size 1200x400 with 2 Axes>"
      ]
     },
     "metadata": {},
     "output_type": "display_data"
    }
   ],
   "source": [
    "fig, axs = plt.subplots(1,2,figsize = (12, 4))\n",
    "sns.histplot(data=df_source, x=\"receiver_transaction_count\", ax = axs[0])\n",
    "sns.histplot(data=df_source, x=\"01_receiver_transaction_count\", ax = axs[1])"
   ]
  },
  {
   "cell_type": "code",
   "execution_count": 40,
   "id": "ac8c2bc8-e55e-4190-83a4-2e6c08aeaaa9",
   "metadata": {
    "tags": []
   },
   "outputs": [],
   "source": [
    "Mx = df_perc.Max[(df_perc['Variable']=='sender_sending_days') & (df_perc['ptile']==99)].item()\n",
    "mn = df_perc.Min[(df_perc['Variable']=='sender_sending_days') & (df_perc['ptile']==1)].item()\n",
    "Mx = int(Mx)\n",
    "mn = int(mn)\n",
    "\n",
    "df_source['01_sender_sending_days'] = escalo_percentiles(df_source['sender_sending_days'].astype(int), mn, Mx, 0)"
   ]
  },
  {
   "cell_type": "code",
   "execution_count": 41,
   "id": "a5a4ed41-5d5f-4f27-880b-4a266e2aa86c",
   "metadata": {
    "tags": []
   },
   "outputs": [
    {
     "name": "stderr",
     "output_type": "stream",
     "text": [
      "/home/ec2-user/anaconda3/envs/python3/lib/python3.10/site-packages/seaborn/_oldcore.py:1119: FutureWarning: use_inf_as_na option is deprecated and will be removed in a future version. Convert inf values to NaN before operating instead.\n",
      "  with pd.option_context('mode.use_inf_as_na', True):\n",
      "/home/ec2-user/anaconda3/envs/python3/lib/python3.10/site-packages/seaborn/_oldcore.py:1119: FutureWarning: use_inf_as_na option is deprecated and will be removed in a future version. Convert inf values to NaN before operating instead.\n",
      "  with pd.option_context('mode.use_inf_as_na', True):\n"
     ]
    },
    {
     "data": {
      "text/plain": [
       "<Axes: xlabel='01_sender_sending_days', ylabel='Count'>"
      ]
     },
     "execution_count": 41,
     "metadata": {},
     "output_type": "execute_result"
    },
    {
     "data": {
      "image/png": "[encoded data removed]",
      "text/plain": [
       "<Figure size 1200x400 with 2 Axes>"
      ]
     },
     "metadata": {},
     "output_type": "display_data"
    }
   ],
   "source": [
    "fig, axs = plt.subplots(1,2,figsize = (12, 4))\n",
    "sns.histplot(data=df_source, x=\"sender_sending_days\", ax = axs[0])\n",
    "sns.histplot(data=df_source, x=\"01_sender_sending_days\", ax = axs[1])"
   ]
  },
  {
   "cell_type": "code",
   "execution_count": 43,
   "id": "cbe73b06-2442-48c2-b73f-24eda30d96d6",
   "metadata": {
    "tags": []
   },
   "outputs": [],
   "source": [
    "# Normalizo a lo bruto. Dsp reviso el algoritmo\n",
    "Mx = df_perc.Max[(df_perc['Variable']=='receiver_transaction_count') & (df_perc['ptile']==99)].item()\n",
    "mn = df_perc.Min[(df_perc['Variable']=='receiver_transaction_count') & (df_perc['ptile']==1)].item()\n",
    "Mx = int(Mx)\n",
    "mn = int(mn)\n",
    "\n",
    "df_source['01_receiver_transaction_count'] = escalo_percentiles(df_source['receiver_transaction_count'].astype(int), mn, Mx, 0)\n",
    "\n",
    "Mx = df_perc.Max[(df_perc['Variable']=='branch_working_days') & (df_perc['ptile']==99)].item()\n",
    "mn = df_perc.Min[(df_perc['Variable']=='branch_working_days') & (df_perc['ptile']==1)].item()\n",
    "Mx = int(Mx)\n",
    "mn = int(mn)\n",
    "\n",
    "df_source['01_branch_working_days'] = escalo_percentiles(df_source['branch_working_days'].astype(int), mn, Mx, 0)\n",
    "\n",
    "Mx = df_perc.Max[(df_perc['Variable']=='net_amount_receiver') & (df_perc['ptile']==99)].item()\n",
    "mn = df_perc.Min[(df_perc['Variable']=='net_amount_receiver') & (df_perc['ptile']==1)].item()\n",
    "Mx = float(Mx)\n",
    "mn = float(mn)\n",
    "\n",
    "df_source['01_net_amount_receiver'] = escalo_percentiles(df_source['net_amount_receiver'].astype(float), mn, Mx, 0)\n",
    "\n",
    "Mx = 2880\n",
    "mn = 0\n",
    "df_source['01_sender_minutes_since_last_transaction_2days'] = escalo_percentiles(df_source['sender_minutes_since_last_transaction_2days'], mn, Mx, 0)\n",
    "\n",
    "Mx = 1440\n",
    "mn = 0\n",
    "df_source['01_sender_minutes_since_last_transaction_1day'] = escalo_percentiles(df_source['sender_minutes_since_last_transaction_1day'], mn, Mx, 0)\n",
    "\n",
    "Mx = 365\n",
    "mn = 0\n",
    "df_source['01_sender_days_to_last_transaction_365'] = escalo_percentiles(df_source['sender_days_to_last_transaction_365'], mn, Mx, 0)\n",
    "\n",
    "Mx = 7*30\n",
    "mn = 0\n",
    "df_source['01_sender_days_to_last_transaction_7m'] = escalo_percentiles(df_source['sender_days_to_last_transaction_7m'], mn, Mx, 0)"
   ]
  },
  {
   "cell_type": "code",
   "execution_count": 44,
   "id": "245ab800-97c4-418e-9936-11aa9cc51c90",
   "metadata": {
    "tags": []
   },
   "outputs": [],
   "source": [
    "#Agregadas\n",
    "Mx = 24\n",
    "mn = 0\n",
    "df_source['01_hour_receiver'] = escalo_percentiles(df_source['hour_receiver'], mn, Mx, 0)"
   ]
  },
  {
   "cell_type": "code",
   "execution_count": 45,
   "id": "a6457d2b-4183-4373-8102-147bd091601b",
   "metadata": {
    "tags": []
   },
   "outputs": [],
   "source": [
    "#df_source['01_receiver_transaction_count'].describe()\n",
    "#df_source['01_sender_sending_days'].describe()\n",
    "#df_source['01_branch_working_days'].describe()\n",
    "#df_source['01_net_amount_receiver'].describe()\n",
    "#df_source['01_sender_minutes_since_last_transaction_2days'].describe()\n",
    "#df_source['01_sender_minutes_since_last_transaction_1day'].describe()\n",
    "#df_source['01_sender_days_to_last_transaction_365'].describe()"
   ]
  },
  {
   "cell_type": "code",
   "execution_count": 46,
   "id": "bd25558b-21fd-4c80-a000-06b53ac0ccec",
   "metadata": {
    "tags": []
   },
   "outputs": [
    {
     "name": "stderr",
     "output_type": "stream",
     "text": [
      "/home/ec2-user/anaconda3/envs/python3/lib/python3.10/site-packages/seaborn/_oldcore.py:1119: FutureWarning: use_inf_as_na option is deprecated and will be removed in a future version. Convert inf values to NaN before operating instead.\n",
      "  with pd.option_context('mode.use_inf_as_na', True):\n",
      "/home/ec2-user/anaconda3/envs/python3/lib/python3.10/site-packages/seaborn/_oldcore.py:1119: FutureWarning: use_inf_as_na option is deprecated and will be removed in a future version. Convert inf values to NaN before operating instead.\n",
      "  with pd.option_context('mode.use_inf_as_na', True):\n"
     ]
    },
    {
     "data": {
      "text/plain": [
       "<Axes: xlabel='01_sender_days_to_last_transaction_365', ylabel='Count'>"
      ]
     },
     "execution_count": 46,
     "metadata": {},
     "output_type": "execute_result"
    },
    {
     "data": {
      "image/png": "[encoded data removed]",
      "text/plain": [
       "<Figure size 1200x400 with 2 Axes>"
      ]
     },
     "metadata": {},
     "output_type": "display_data"
    }
   ],
   "source": [
    "fig, axs = plt.subplots(1,2,figsize = (12, 4))\n",
    "sns.histplot(data=df_source, x=\"sender_days_to_last_transaction_365\", ax = axs[0])\n",
    "sns.histplot(data=df_source, x=\"01_sender_days_to_last_transaction_365\", ax = axs[1])"
   ]
  },
  {
   "cell_type": "markdown",
   "id": "b65320af-7616-4484-8d02-50384a1508a4",
   "metadata": {},
   "source": [
    "## Creo Variables dummy"
   ]
  },
  {
   "cell_type": "code",
   "execution_count": 52,
   "id": "19911ce0-81cd-4119-a911-9cbf35badf34",
   "metadata": {
    "tags": []
   },
   "outputs": [],
   "source": [
    "todummy_list = ['day_name_receiver','id_payout']\n",
    "[df_source, var_nuevas] = creo_dummies(df_source, todummy_list)"
   ]
  },
  {
   "cell_type": "markdown",
   "id": "e236484e-0e85-4a88-b930-cc1ff783b66f",
   "metadata": {},
   "source": [
    "## Creacion del target"
   ]
  },
  {
   "cell_type": "code",
   "execution_count": 53,
   "id": "d35931e3-9602-4eac-a5f2-1e93928dba0d",
   "metadata": {
    "tags": []
   },
   "outputs": [
    {
     "data": {
      "text/plain": [
       "fraud_type\n",
       "Remote access    71\n",
       "Payment          44\n",
       "Money order       2\n",
       "Attempt           1\n",
       "Name: count, dtype: int64"
      ]
     },
     "execution_count": 53,
     "metadata": {},
     "output_type": "execute_result"
    }
   ],
   "source": [
    "df_source['fraud_type'].value_counts()"
   ]
  },
  {
   "cell_type": "code",
   "execution_count": 54,
   "id": "c8e16e2e-9daf-4df4-a470-0821db639a46",
   "metadata": {
    "tags": []
   },
   "outputs": [],
   "source": [
    "# defino los targets\n",
    "df_source['targetR'] = df_source['fraud_type'] == 'Remote access'\n",
    "df_source['targetP'] = df_source['fraud_type'] == 'Payment'\n",
    "df_source['target_fraudes'] = df_source['fraud_type'].notnull()\n"
   ]
  },
  {
   "cell_type": "code",
   "execution_count": 55,
   "id": "dbfd9bdb-fb8a-4ec4-8edf-40ddfc90f4a7",
   "metadata": {
    "tags": []
   },
   "outputs": [
    {
     "data": {
      "text/plain": [
       "targetR\n",
       "False    1717260\n",
       "True          71\n",
       "Name: count, dtype: int64"
      ]
     },
     "execution_count": 55,
     "metadata": {},
     "output_type": "execute_result"
    }
   ],
   "source": [
    "df_source['targetR'].value_counts()"
   ]
  },
  {
   "cell_type": "code",
   "execution_count": 56,
   "id": "c6796bb8-2d8f-4385-8cec-0a5572c5e1e0",
   "metadata": {
    "tags": []
   },
   "outputs": [
    {
     "data": {
      "text/plain": [
       "targetP\n",
       "False    1717287\n",
       "True          44\n",
       "Name: count, dtype: int64"
      ]
     },
     "execution_count": 56,
     "metadata": {},
     "output_type": "execute_result"
    }
   ],
   "source": [
    "df_source['targetP'].value_counts()"
   ]
  },
  {
   "cell_type": "code",
   "execution_count": 57,
   "id": "2989957e-7742-4f7c-93d9-cd55639e4b5c",
   "metadata": {
    "tags": []
   },
   "outputs": [
    {
     "data": {
      "text/plain": [
       "target_fraudes\n",
       "False    1717213\n",
       "True         118\n",
       "Name: count, dtype: int64"
      ]
     },
     "execution_count": 57,
     "metadata": {},
     "output_type": "execute_result"
    }
   ],
   "source": [
    "df_source['target_fraudes'].value_counts()"
   ]
  },
  {
   "cell_type": "code",
   "execution_count": 58,
   "id": "4c84314f-5df5-45c7-9c3d-2f7060de863c",
   "metadata": {
    "tags": []
   },
   "outputs": [
    {
     "data": {
      "text/plain": [
       "array(['id_branch', 'id_receiver', 'date_receiver', 'id_location',\n",
       "       'id_payer', 'id_sender_global', 'net_amount_receiver', 'status',\n",
       "       'was_fraud', 'receiver_transaction_count',\n",
       "       'receiver_date_first_transaction',\n",
       "       'receiver_date_last_transaction', 'id_country_receiver_claim',\n",
       "       'id_state_receiver_claim', 'id_state', 'branch_working_days',\n",
       "       'sender_sending_days', 'sender_days_to_last_transaction',\n",
       "       'id_country', 'fraud_classification',\n",
       "       'sender_minutes_since_last_transaction',\n",
       "       'sender_days_since_last_transaction', 'fraud_type',\n",
       "       'fraud_classification_2', 'incident_code', 'id_country_receiver',\n",
       "       'id_payment', 'id_state_receiver', 'id_city_receiver',\n",
       "       'bank_receiver', 'branch_trans_3m', 'count_date_receiver_distinct',\n",
       "       'sender_state', 'day', 'branch_has_fraud',\n",
       "       'fecha_last_fraud_branch', 'receiver_has_fraud',\n",
       "       'branch_trans_40min', 'branch_trans_10min', 'cash_pick_up_4min',\n",
       "       'location_nro_fraud', 'sender_trans_3m', 'range_hist',\n",
       "       'sender_nro_fraud', 'mes', 'hour_receiver', '01_isMexico',\n",
       "       '01_sender_branch_state', '01_Var_range_hist', '01_receiver_fraud',\n",
       "       '01_branch_fraud', '01_location_fraud', '01_sender_fraud',\n",
       "       '01_isCashPick', '01_isBankDep',\n",
       "       'sender_days_to_last_transaction_365',\n",
       "       'sender_days_to_last_transaction_more365',\n",
       "       'sender_days_to_last_transaction_7m',\n",
       "       'sender_days_to_last_transaction_more7m',\n",
       "       'sender_minutes_since_last_transaction_2days',\n",
       "       'sender_minutes_since_last_transaction_1day',\n",
       "       '01_receiver_transaction_count', '01_sender_sending_days',\n",
       "       '01_branch_working_days', '01_net_amount_receiver',\n",
       "       '01_sender_minutes_since_last_transaction_2days',\n",
       "       '01_sender_minutes_since_last_transaction_1day',\n",
       "       '01_sender_days_to_last_transaction_365',\n",
       "       '01_sender_days_to_last_transaction_7m', '01_hour_receiver',\n",
       "       'day_name_receiver_0', 'day_name_receiver_1',\n",
       "       'day_name_receiver_2', 'day_name_receiver_3',\n",
       "       'day_name_receiver_4', 'day_name_receiver_5',\n",
       "       'day_name_receiver_6', 'id_payout_A', 'id_payout_C', 'id_payout_D',\n",
       "       'id_payout_M', 'id_payout_N', 'id_payout_O', 'id_payout_P',\n",
       "       'id_payout_S', 'id_payout_T', 'id_payout_X', 'targetR', 'targetP',\n",
       "       'target_fraudes'], dtype=object)"
      ]
     },
     "execution_count": 58,
     "metadata": {},
     "output_type": "execute_result"
    }
   ],
   "source": [
    "df_source.columns.values"
   ]
  },
  {
   "cell_type": "markdown",
   "id": "1ff64d64-0669-4917-8169-6c89ce925375",
   "metadata": {},
   "source": [
    "## Guardo archivos para dsp juntar en el entrenamiento"
   ]
  },
  {
   "cell_type": "code",
   "execution_count": 64,
   "id": "7ae5411d-50c4-4812-89f4-155d0705b2fa",
   "metadata": {
    "tags": []
   },
   "outputs": [],
   "source": [
    "#Me quedo con las variables q voy a usar\n",
    "df_source.columns.values\n",
    "df = df_source.drop(columns=[ 'fraud_type','fraud_classification_2', 'incident_code', 'id_country_receiver',\n",
    "       'id_payment', 'id_state_receiver', 'id_city_receiver', 'bank_receiver','status','was_fraud','day',\n",
    "        'targetR','targetP','target_fraudes'])\n",
    "\n",
    "#df = pd.concat([df, df_source[var_nuevas]], axis=1)\n",
    "df = pd.concat([df, df_source[['targetR','targetP','target_fraudes']]], axis=1)\n"
   ]
  },
  {
   "cell_type": "code",
   "execution_count": 60,
   "id": "add330ae-0d34-4c56-8f87-fd02df009281",
   "metadata": {
    "tags": []
   },
   "outputs": [],
   "source": [
    "import os\n",
    "import pyarrow as pa\n",
    "import pyarrow.parquet as pq"
   ]
  },
  {
   "cell_type": "code",
   "execution_count": null,
   "id": "5470713d-b255-4419-851d-e9484ab5bfe7",
   "metadata": {
    "tags": []
   },
   "outputs": [],
   "source": [
    "if archivo_test == 0:\n",
    "    s3_url = f\"s3://viamericas-datalake-dev-us-east-1-283731589572-raw/FraudModel/Train/Preproc_Fr_{mes_data}.parquet\"\n",
    "elif archivo_test ==1:\n",
    "    s3_url = f\"s3://viamericas-datalake-dev-us-east-1-283731589572-raw/FraudModel/Test/Preproc_Fr_{mes_data}.parquet\"\n",
    "#df.to_parquet(path='./exp1.parquet', engine='pyarrow', compression='gzip')\n",
    "df.to_parquet(path=s3_url, engine='pyarrow', compression='gzip')\n",
    "print('termine de salvar el parquet')"
   ]
  },
  {
   "cell_type": "code",
   "execution_count": 535,
   "id": "8a352222-4890-433a-890c-daaf6df14b6e",
   "metadata": {
    "tags": []
   },
   "outputs": [
    {
     "data": {
      "text/html": [
       "<div>\n",
       "<style scoped>\n",
       "    .dataframe tbody tr th:only-of-type {\n",
       "        vertical-align: middle;\n",
       "    }\n",
       "\n",
       "    .dataframe tbody tr th {\n",
       "        vertical-align: top;\n",
       "    }\n",
       "\n",
       "    .dataframe thead th {\n",
       "        text-align: right;\n",
       "    }\n",
       "</style>\n",
       "<table border=\"1\" class=\"dataframe\">\n",
       "  <thead>\n",
       "    <tr style=\"text-align: right;\">\n",
       "      <th></th>\n",
       "      <th>id_branch</th>\n",
       "      <th>id_receiver</th>\n",
       "      <th>id_sender_global</th>\n",
       "      <th>01_receiver_transaction_count</th>\n",
       "      <th>01_sender_sending_days</th>\n",
       "      <th>01_branch_working_days</th>\n",
       "      <th>01_net_amount_receiver</th>\n",
       "      <th>01_sender_minutes_since_last_transaction_2days</th>\n",
       "      <th>01_sender_minutes_since_last_transaction_1day</th>\n",
       "      <th>01_sender_days_to_last_transaction_365</th>\n",
       "      <th>...</th>\n",
       "      <th>id_payout_M</th>\n",
       "      <th>id_payout_N</th>\n",
       "      <th>id_payout_O</th>\n",
       "      <th>id_payout_P</th>\n",
       "      <th>id_payout_S</th>\n",
       "      <th>id_payout_T</th>\n",
       "      <th>id_payout_X</th>\n",
       "      <th>target1</th>\n",
       "      <th>target2</th>\n",
       "      <th>target_fraudes</th>\n",
       "    </tr>\n",
       "  </thead>\n",
       "  <tbody>\n",
       "    <tr>\n",
       "      <th>0</th>\n",
       "      <td>A21658</td>\n",
       "      <td>8513</td>\n",
       "      <td>8730140</td>\n",
       "      <td>0.062147</td>\n",
       "      <td>0.632327</td>\n",
       "      <td>0.124768</td>\n",
       "      <td>0.925926</td>\n",
       "      <td>0.0</td>\n",
       "      <td>0.0</td>\n",
       "      <td>0.380822</td>\n",
       "      <td>...</td>\n",
       "      <td>False</td>\n",
       "      <td>False</td>\n",
       "      <td>False</td>\n",
       "      <td>False</td>\n",
       "      <td>False</td>\n",
       "      <td>False</td>\n",
       "      <td>False</td>\n",
       "      <td>False</td>\n",
       "      <td>False</td>\n",
       "      <td>False</td>\n",
       "    </tr>\n",
       "    <tr>\n",
       "      <th>1</th>\n",
       "      <td>A14570</td>\n",
       "      <td>35990</td>\n",
       "      <td>8623372</td>\n",
       "      <td>0.076271</td>\n",
       "      <td>0.648313</td>\n",
       "      <td>0.305495</td>\n",
       "      <td>0.037037</td>\n",
       "      <td>0.0</td>\n",
       "      <td>0.0</td>\n",
       "      <td>0.539726</td>\n",
       "      <td>...</td>\n",
       "      <td>False</td>\n",
       "      <td>False</td>\n",
       "      <td>False</td>\n",
       "      <td>True</td>\n",
       "      <td>False</td>\n",
       "      <td>False</td>\n",
       "      <td>False</td>\n",
       "      <td>False</td>\n",
       "      <td>False</td>\n",
       "      <td>False</td>\n",
       "    </tr>\n",
       "    <tr>\n",
       "      <th>2</th>\n",
       "      <td>A07640</td>\n",
       "      <td>19116</td>\n",
       "      <td>8501799</td>\n",
       "      <td>0.064972</td>\n",
       "      <td>0.699822</td>\n",
       "      <td>0.697210</td>\n",
       "      <td>0.343333</td>\n",
       "      <td>0.0</td>\n",
       "      <td>0.0</td>\n",
       "      <td>0.512329</td>\n",
       "      <td>...</td>\n",
       "      <td>False</td>\n",
       "      <td>False</td>\n",
       "      <td>False</td>\n",
       "      <td>True</td>\n",
       "      <td>False</td>\n",
       "      <td>False</td>\n",
       "      <td>False</td>\n",
       "      <td>False</td>\n",
       "      <td>False</td>\n",
       "      <td>False</td>\n",
       "    </tr>\n",
       "    <tr>\n",
       "      <th>3</th>\n",
       "      <td>A19332</td>\n",
       "      <td>52336</td>\n",
       "      <td>6864409</td>\n",
       "      <td>0.000000</td>\n",
       "      <td>0.655417</td>\n",
       "      <td>0.204734</td>\n",
       "      <td>0.014815</td>\n",
       "      <td>0.0</td>\n",
       "      <td>0.0</td>\n",
       "      <td>0.328767</td>\n",
       "      <td>...</td>\n",
       "      <td>False</td>\n",
       "      <td>False</td>\n",
       "      <td>False</td>\n",
       "      <td>True</td>\n",
       "      <td>False</td>\n",
       "      <td>False</td>\n",
       "      <td>False</td>\n",
       "      <td>False</td>\n",
       "      <td>False</td>\n",
       "      <td>False</td>\n",
       "    </tr>\n",
       "    <tr>\n",
       "      <th>4</th>\n",
       "      <td>A21717</td>\n",
       "      <td>3277</td>\n",
       "      <td>6971948</td>\n",
       "      <td>0.059322</td>\n",
       "      <td>0.884547</td>\n",
       "      <td>0.118512</td>\n",
       "      <td>0.012074</td>\n",
       "      <td>0.0</td>\n",
       "      <td>0.0</td>\n",
       "      <td>0.528767</td>\n",
       "      <td>...</td>\n",
       "      <td>False</td>\n",
       "      <td>False</td>\n",
       "      <td>False</td>\n",
       "      <td>False</td>\n",
       "      <td>False</td>\n",
       "      <td>False</td>\n",
       "      <td>False</td>\n",
       "      <td>False</td>\n",
       "      <td>False</td>\n",
       "      <td>False</td>\n",
       "    </tr>\n",
       "  </tbody>\n",
       "</table>\n",
       "<p>5 rows × 37 columns</p>\n",
       "</div>"
      ],
      "text/plain": [
       "    id_branch id_receiver id_sender_global  01_receiver_transaction_count  \\\n",
       "0  A21658            8513          8730140                       0.062147   \n",
       "1  A14570           35990          8623372                       0.076271   \n",
       "2  A07640           19116          8501799                       0.064972   \n",
       "3  A19332           52336          6864409                       0.000000   \n",
       "4  A21717            3277          6971948                       0.059322   \n",
       "\n",
       "   01_sender_sending_days  01_branch_working_days  01_net_amount_receiver  \\\n",
       "0                0.632327                0.124768                0.925926   \n",
       "1                0.648313                0.305495                0.037037   \n",
       "2                0.699822                0.697210                0.343333   \n",
       "3                0.655417                0.204734                0.014815   \n",
       "4                0.884547                0.118512                0.012074   \n",
       "\n",
       "   01_sender_minutes_since_last_transaction_2days  \\\n",
       "0                                             0.0   \n",
       "1                                             0.0   \n",
       "2                                             0.0   \n",
       "3                                             0.0   \n",
       "4                                             0.0   \n",
       "\n",
       "   01_sender_minutes_since_last_transaction_1day  \\\n",
       "0                                            0.0   \n",
       "1                                            0.0   \n",
       "2                                            0.0   \n",
       "3                                            0.0   \n",
       "4                                            0.0   \n",
       "\n",
       "   01_sender_days_to_last_transaction_365  ...  id_payout_M  id_payout_N  \\\n",
       "0                                0.380822  ...        False        False   \n",
       "1                                0.539726  ...        False        False   \n",
       "2                                0.512329  ...        False        False   \n",
       "3                                0.328767  ...        False        False   \n",
       "4                                0.528767  ...        False        False   \n",
       "\n",
       "   id_payout_O  id_payout_P  id_payout_S  id_payout_T  id_payout_X  target1  \\\n",
       "0        False        False        False        False        False    False   \n",
       "1        False         True        False        False        False    False   \n",
       "2        False         True        False        False        False    False   \n",
       "3        False         True        False        False        False    False   \n",
       "4        False        False        False        False        False    False   \n",
       "\n",
       "   target2  target_fraudes  \n",
       "0    False           False  \n",
       "1    False           False  \n",
       "2    False           False  \n",
       "3    False           False  \n",
       "4    False           False  \n",
       "\n",
       "[5 rows x 37 columns]"
      ]
     },
     "execution_count": 535,
     "metadata": {},
     "output_type": "execute_result"
    }
   ],
   "source": [
    "df.head(5)"
   ]
  },
  {
   "cell_type": "code",
   "execution_count": 536,
   "id": "e42a5ad8-43cd-4f42-abb9-4a8dfa3c13ef",
   "metadata": {
    "tags": []
   },
   "outputs": [
    {
     "data": {
      "text/plain": [
       "'202306'"
      ]
     },
     "execution_count": 536,
     "metadata": {},
     "output_type": "execute_result"
    }
   ],
   "source": [
    "mes_data"
   ]
  }
 ],
 "metadata": {
  "availableInstances": [
   {
    "_defaultOrder": 0,
    "_isFastLaunch": true,
    "category": "General purpose",
    "gpuNum": 0,
    "hideHardwareSpecs": false,
    "memoryGiB": 4,
    "name": "ml.t3.medium",
    "vcpuNum": 2
   },
   {
    "_defaultOrder": 1,
    "_isFastLaunch": false,
    "category": "General purpose",
    "gpuNum": 0,
    "hideHardwareSpecs": false,
    "memoryGiB": 8,
    "name": "ml.t3.large",
    "vcpuNum": 2
   },
   {
    "_defaultOrder": 2,
    "_isFastLaunch": false,
    "category": "General purpose",
    "gpuNum": 0,
    "hideHardwareSpecs": false,
    "memoryGiB": 16,
    "name": "ml.t3.xlarge",
    "vcpuNum": 4
   },
   {
    "_defaultOrder": 3,
    "_isFastLaunch": false,
    "category": "General purpose",
    "gpuNum": 0,
    "hideHardwareSpecs": false,
    "memoryGiB": 32,
    "name": "ml.t3.2xlarge",
    "vcpuNum": 8
   },
   {
    "_defaultOrder": 4,
    "_isFastLaunch": true,
    "category": "General purpose",
    "gpuNum": 0,
    "hideHardwareSpecs": false,
    "memoryGiB": 8,
    "name": "ml.m5.large",
    "vcpuNum": 2
   },
   {
    "_defaultOrder": 5,
    "_isFastLaunch": false,
    "category": "General purpose",
    "gpuNum": 0,
    "hideHardwareSpecs": false,
    "memoryGiB": 16,
    "name": "ml.m5.xlarge",
    "vcpuNum": 4
   },
   {
    "_defaultOrder": 6,
    "_isFastLaunch": false,
    "category": "General purpose",
    "gpuNum": 0,
    "hideHardwareSpecs": false,
    "memoryGiB": 32,
    "name": "ml.m5.2xlarge",
    "vcpuNum": 8
   },
   {
    "_defaultOrder": 7,
    "_isFastLaunch": false,
    "category": "General purpose",
    "gpuNum": 0,
    "hideHardwareSpecs": false,
    "memoryGiB": 64,
    "name": "ml.m5.4xlarge",
    "vcpuNum": 16
   },
   {
    "_defaultOrder": 8,
    "_isFastLaunch": false,
    "category": "General purpose",
    "gpuNum": 0,
    "hideHardwareSpecs": false,
    "memoryGiB": 128,
    "name": "ml.m5.8xlarge",
    "vcpuNum": 32
   },
   {
    "_defaultOrder": 9,
    "_isFastLaunch": false,
    "category": "General purpose",
    "gpuNum": 0,
    "hideHardwareSpecs": false,
    "memoryGiB": 192,
    "name": "ml.m5.12xlarge",
    "vcpuNum": 48
   },
   {
    "_defaultOrder": 10,
    "_isFastLaunch": false,
    "category": "General purpose",
    "gpuNum": 0,
    "hideHardwareSpecs": false,
    "memoryGiB": 256,
    "name": "ml.m5.16xlarge",
    "vcpuNum": 64
   },
   {
    "_defaultOrder": 11,
    "_isFastLaunch": false,
    "category": "General purpose",
    "gpuNum": 0,
    "hideHardwareSpecs": false,
    "memoryGiB": 384,
    "name": "ml.m5.24xlarge",
    "vcpuNum": 96
   },
   {
    "_defaultOrder": 12,
    "_isFastLaunch": false,
    "category": "General purpose",
    "gpuNum": 0,
    "hideHardwareSpecs": false,
    "memoryGiB": 8,
    "name": "ml.m5d.large",
    "vcpuNum": 2
   },
   {
    "_defaultOrder": 13,
    "_isFastLaunch": false,
    "category": "General purpose",
    "gpuNum": 0,
    "hideHardwareSpecs": false,
    "memoryGiB": 16,
    "name": "ml.m5d.xlarge",
    "vcpuNum": 4
   },
   {
    "_defaultOrder": 14,
    "_isFastLaunch": false,
    "category": "General purpose",
    "gpuNum": 0,
    "hideHardwareSpecs": false,
    "memoryGiB": 32,
    "name": "ml.m5d.2xlarge",
    "vcpuNum": 8
   },
   {
    "_defaultOrder": 15,
    "_isFastLaunch": false,
    "category": "General purpose",
    "gpuNum": 0,
    "hideHardwareSpecs": false,
    "memoryGiB": 64,
    "name": "ml.m5d.4xlarge",
    "vcpuNum": 16
   },
   {
    "_defaultOrder": 16,
    "_isFastLaunch": false,
    "category": "General purpose",
    "gpuNum": 0,
    "hideHardwareSpecs": false,
    "memoryGiB": 128,
    "name": "ml.m5d.8xlarge",
    "vcpuNum": 32
   },
   {
    "_defaultOrder": 17,
    "_isFastLaunch": false,
    "category": "General purpose",
    "gpuNum": 0,
    "hideHardwareSpecs": false,
    "memoryGiB": 192,
    "name": "ml.m5d.12xlarge",
    "vcpuNum": 48
   },
   {
    "_defaultOrder": 18,
    "_isFastLaunch": false,
    "category": "General purpose",
    "gpuNum": 0,
    "hideHardwareSpecs": false,
    "memoryGiB": 256,
    "name": "ml.m5d.16xlarge",
    "vcpuNum": 64
   },
   {
    "_defaultOrder": 19,
    "_isFastLaunch": false,
    "category": "General purpose",
    "gpuNum": 0,
    "hideHardwareSpecs": false,
    "memoryGiB": 384,
    "name": "ml.m5d.24xlarge",
    "vcpuNum": 96
   },
   {
    "_defaultOrder": 20,
    "_isFastLaunch": false,
    "category": "General purpose",
    "gpuNum": 0,
    "hideHardwareSpecs": true,
    "memoryGiB": 0,
    "name": "ml.geospatial.interactive",
    "supportedImageNames": [
     "sagemaker-geospatial-v1-0"
    ],
    "vcpuNum": 0
   },
   {
    "_defaultOrder": 21,
    "_isFastLaunch": true,
    "category": "Compute optimized",
    "gpuNum": 0,
    "hideHardwareSpecs": false,
    "memoryGiB": 4,
    "name": "ml.c5.large",
    "vcpuNum": 2
   },
   {
    "_defaultOrder": 22,
    "_isFastLaunch": false,
    "category": "Compute optimized",
    "gpuNum": 0,
    "hideHardwareSpecs": false,
    "memoryGiB": 8,
    "name": "ml.c5.xlarge",
    "vcpuNum": 4
   },
   {
    "_defaultOrder": 23,
    "_isFastLaunch": false,
    "category": "Compute optimized",
    "gpuNum": 0,
    "hideHardwareSpecs": false,
    "memoryGiB": 16,
    "name": "ml.c5.2xlarge",
    "vcpuNum": 8
   },
   {
    "_defaultOrder": 24,
    "_isFastLaunch": false,
    "category": "Compute optimized",
    "gpuNum": 0,
    "hideHardwareSpecs": false,
    "memoryGiB": 32,
    "name": "ml.c5.4xlarge",
    "vcpuNum": 16
   },
   {
    "_defaultOrder": 25,
    "_isFastLaunch": false,
    "category": "Compute optimized",
    "gpuNum": 0,
    "hideHardwareSpecs": false,
    "memoryGiB": 72,
    "name": "ml.c5.9xlarge",
    "vcpuNum": 36
   },
   {
    "_defaultOrder": 26,
    "_isFastLaunch": false,
    "category": "Compute optimized",
    "gpuNum": 0,
    "hideHardwareSpecs": false,
    "memoryGiB": 96,
    "name": "ml.c5.12xlarge",
    "vcpuNum": 48
   },
   {
    "_defaultOrder": 27,
    "_isFastLaunch": false,
    "category": "Compute optimized",
    "gpuNum": 0,
    "hideHardwareSpecs": false,
    "memoryGiB": 144,
    "name": "ml.c5.18xlarge",
    "vcpuNum": 72
   },
   {
    "_defaultOrder": 28,
    "_isFastLaunch": false,
    "category": "Compute optimized",
    "gpuNum": 0,
    "hideHardwareSpecs": false,
    "memoryGiB": 192,
    "name": "ml.c5.24xlarge",
    "vcpuNum": 96
   },
   {
    "_defaultOrder": 29,
    "_isFastLaunch": true,
    "category": "Accelerated computing",
    "gpuNum": 1,
    "hideHardwareSpecs": false,
    "memoryGiB": 16,
    "name": "ml.g4dn.xlarge",
    "vcpuNum": 4
   },
   {
    "_defaultOrder": 30,
    "_isFastLaunch": false,
    "category": "Accelerated computing",
    "gpuNum": 1,
    "hideHardwareSpecs": false,
    "memoryGiB": 32,
    "name": "ml.g4dn.2xlarge",
    "vcpuNum": 8
   },
   {
    "_defaultOrder": 31,
    "_isFastLaunch": false,
    "category": "Accelerated computing",
    "gpuNum": 1,
    "hideHardwareSpecs": false,
    "memoryGiB": 64,
    "name": "ml.g4dn.4xlarge",
    "vcpuNum": 16
   },
   {
    "_defaultOrder": 32,
    "_isFastLaunch": false,
    "category": "Accelerated computing",
    "gpuNum": 1,
    "hideHardwareSpecs": false,
    "memoryGiB": 128,
    "name": "ml.g4dn.8xlarge",
    "vcpuNum": 32
   },
   {
    "_defaultOrder": 33,
    "_isFastLaunch": false,
    "category": "Accelerated computing",
    "gpuNum": 4,
    "hideHardwareSpecs": false,
    "memoryGiB": 192,
    "name": "ml.g4dn.12xlarge",
    "vcpuNum": 48
   },
   {
    "_defaultOrder": 34,
    "_isFastLaunch": false,
    "category": "Accelerated computing",
    "gpuNum": 1,
    "hideHardwareSpecs": false,
    "memoryGiB": 256,
    "name": "ml.g4dn.16xlarge",
    "vcpuNum": 64
   },
   {
    "_defaultOrder": 35,
    "_isFastLaunch": false,
    "category": "Accelerated computing",
    "gpuNum": 1,
    "hideHardwareSpecs": false,
    "memoryGiB": 61,
    "name": "ml.p3.2xlarge",
    "vcpuNum": 8
   },
   {
    "_defaultOrder": 36,
    "_isFastLaunch": false,
    "category": "Accelerated computing",
    "gpuNum": 4,
    "hideHardwareSpecs": false,
    "memoryGiB": 244,
    "name": "ml.p3.8xlarge",
    "vcpuNum": 32
   },
   {
    "_defaultOrder": 37,
    "_isFastLaunch": false,
    "category": "Accelerated computing",
    "gpuNum": 8,
    "hideHardwareSpecs": false,
    "memoryGiB": 488,
    "name": "ml.p3.16xlarge",
    "vcpuNum": 64
   },
   {
    "_defaultOrder": 38,
    "_isFastLaunch": false,
    "category": "Accelerated computing",
    "gpuNum": 8,
    "hideHardwareSpecs": false,
    "memoryGiB": 768,
    "name": "ml.p3dn.24xlarge",
    "vcpuNum": 96
   },
   {
    "_defaultOrder": 39,
    "_isFastLaunch": false,
    "category": "Memory Optimized",
    "gpuNum": 0,
    "hideHardwareSpecs": false,
    "memoryGiB": 16,
    "name": "ml.r5.large",
    "vcpuNum": 2
   },
   {
    "_defaultOrder": 40,
    "_isFastLaunch": false,
    "category": "Memory Optimized",
    "gpuNum": 0,
    "hideHardwareSpecs": false,
    "memoryGiB": 32,
    "name": "ml.r5.xlarge",
    "vcpuNum": 4
   },
   {
    "_defaultOrder": 41,
    "_isFastLaunch": false,
    "category": "Memory Optimized",
    "gpuNum": 0,
    "hideHardwareSpecs": false,
    "memoryGiB": 64,
    "name": "ml.r5.2xlarge",
    "vcpuNum": 8
   },
   {
    "_defaultOrder": 42,
    "_isFastLaunch": false,
    "category": "Memory Optimized",
    "gpuNum": 0,
    "hideHardwareSpecs": false,
    "memoryGiB": 128,
    "name": "ml.r5.4xlarge",
    "vcpuNum": 16
   },
   {
    "_defaultOrder": 43,
    "_isFastLaunch": false,
    "category": "Memory Optimized",
    "gpuNum": 0,
    "hideHardwareSpecs": false,
    "memoryGiB": 256,
    "name": "ml.r5.8xlarge",
    "vcpuNum": 32
   },
   {
    "_defaultOrder": 44,
    "_isFastLaunch": false,
    "category": "Memory Optimized",
    "gpuNum": 0,
    "hideHardwareSpecs": false,
    "memoryGiB": 384,
    "name": "ml.r5.12xlarge",
    "vcpuNum": 48
   },
   {
    "_defaultOrder": 45,
    "_isFastLaunch": false,
    "category": "Memory Optimized",
    "gpuNum": 0,
    "hideHardwareSpecs": false,
    "memoryGiB": 512,
    "name": "ml.r5.16xlarge",
    "vcpuNum": 64
   },
   {
    "_defaultOrder": 46,
    "_isFastLaunch": false,
    "category": "Memory Optimized",
    "gpuNum": 0,
    "hideHardwareSpecs": false,
    "memoryGiB": 768,
    "name": "ml.r5.24xlarge",
    "vcpuNum": 96
   },
   {
    "_defaultOrder": 47,
    "_isFastLaunch": false,
    "category": "Accelerated computing",
    "gpuNum": 1,
    "hideHardwareSpecs": false,
    "memoryGiB": 16,
    "name": "ml.g5.xlarge",
    "vcpuNum": 4
   },
   {
    "_defaultOrder": 48,
    "_isFastLaunch": false,
    "category": "Accelerated computing",
    "gpuNum": 1,
    "hideHardwareSpecs": false,
    "memoryGiB": 32,
    "name": "ml.g5.2xlarge",
    "vcpuNum": 8
   },
   {
    "_defaultOrder": 49,
    "_isFastLaunch": false,
    "category": "Accelerated computing",
    "gpuNum": 1,
    "hideHardwareSpecs": false,
    "memoryGiB": 64,
    "name": "ml.g5.4xlarge",
    "vcpuNum": 16
   },
   {
    "_defaultOrder": 50,
    "_isFastLaunch": false,
    "category": "Accelerated computing",
    "gpuNum": 1,
    "hideHardwareSpecs": false,
    "memoryGiB": 128,
    "name": "ml.g5.8xlarge",
    "vcpuNum": 32
   },
   {
    "_defaultOrder": 51,
    "_isFastLaunch": false,
    "category": "Accelerated computing",
    "gpuNum": 1,
    "hideHardwareSpecs": false,
    "memoryGiB": 256,
    "name": "ml.g5.16xlarge",
    "vcpuNum": 64
   },
   {
    "_defaultOrder": 52,
    "_isFastLaunch": false,
    "category": "Accelerated computing",
    "gpuNum": 4,
    "hideHardwareSpecs": false,
    "memoryGiB": 192,
    "name": "ml.g5.12xlarge",
    "vcpuNum": 48
   },
   {
    "_defaultOrder": 53,
    "_isFastLaunch": false,
    "category": "Accelerated computing",
    "gpuNum": 4,
    "hideHardwareSpecs": false,
    "memoryGiB": 384,
    "name": "ml.g5.24xlarge",
    "vcpuNum": 96
   },
   {
    "_defaultOrder": 54,
    "_isFastLaunch": false,
    "category": "Accelerated computing",
    "gpuNum": 8,
    "hideHardwareSpecs": false,
    "memoryGiB": 768,
    "name": "ml.g5.48xlarge",
    "vcpuNum": 192
   },
   {
    "_defaultOrder": 55,
    "_isFastLaunch": false,
    "category": "Accelerated computing",
    "gpuNum": 8,
    "hideHardwareSpecs": false,
    "memoryGiB": 1152,
    "name": "ml.p4d.24xlarge",
    "vcpuNum": 96
   },
   {
    "_defaultOrder": 56,
    "_isFastLaunch": false,
    "category": "Accelerated computing",
    "gpuNum": 8,
    "hideHardwareSpecs": false,
    "memoryGiB": 1152,
    "name": "ml.p4de.24xlarge",
    "vcpuNum": 96
   },
   {
    "_defaultOrder": 57,
    "_isFastLaunch": false,
    "category": "Accelerated computing",
    "gpuNum": 0,
    "hideHardwareSpecs": false,
    "memoryGiB": 32,
    "name": "ml.trn1.2xlarge",
    "vcpuNum": 8
   },
   {
    "_defaultOrder": 58,
    "_isFastLaunch": false,
    "category": "Accelerated computing",
    "gpuNum": 0,
    "hideHardwareSpecs": false,
    "memoryGiB": 512,
    "name": "ml.trn1.32xlarge",
    "vcpuNum": 128
   },
   {
    "_defaultOrder": 59,
    "_isFastLaunch": false,
    "category": "Accelerated computing",
    "gpuNum": 0,
    "hideHardwareSpecs": false,
    "memoryGiB": 512,
    "name": "ml.trn1n.32xlarge",
    "vcpuNum": 128
   }
  ],
  "instance_type": "ml.t3.medium",
  "kernelspec": {
   "display_name": "conda_python3",
   "language": "python",
   "name": "conda_python3"
  },
  "language_info": {
   "codemirror_mode": {
    "name": "ipython",
    "version": 3
   },
   "file_extension": ".py",
   "mimetype": "text/x-python",
   "name": "python",
   "nbconvert_exporter": "python",
   "pygments_lexer": "ipython3",
   "version": "3.10.13"
  }
 },
 "nbformat": 4,
 "nbformat_minor": 5
}
