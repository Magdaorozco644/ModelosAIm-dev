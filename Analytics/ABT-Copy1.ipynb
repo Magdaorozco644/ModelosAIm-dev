{
 "cells": [
  {
   "cell_type": "code",
   "execution_count": 2,
   "id": "86f9a97c-f4a5-4ef2-a833-9c391f5d3756",
   "metadata": {
    "tags": []
   },
   "outputs": [],
   "source": [
    "#pip install pyathena"
   ]
  },
  {
   "cell_type": "code",
   "execution_count": 3,
   "id": "21fb91d0-f02a-4dbf-8d02-1d6930e0601c",
   "metadata": {
    "tags": []
   },
   "outputs": [],
   "source": [
    "#Libraries\n",
    "from pyathena import connect\n",
    "import pandas as pd\n",
    "import datetime as dt\n",
    "from datetime import datetime"
   ]
  },
  {
   "cell_type": "code",
   "execution_count": 4,
   "id": "b8dc649e-52c9-4716-986a-89fb2a65c778",
   "metadata": {
    "tags": []
   },
   "outputs": [],
   "source": [
    "# DB Setting\n",
    "bucket_name = 's3://viamericas-datalake-dev-us-east-1-283731589572-athena/'\n",
    "origin_name = 'AwsDataCatalog'\n",
    "database_name= 'analytics'\n",
    "table_name = 'daily_check'"
   ]
  },
  {
   "cell_type": "code",
   "execution_count": 5,
   "id": "6c0c651a-c22a-4e92-876c-016f87340279",
   "metadata": {
    "tags": []
   },
   "outputs": [
    {
     "name": "stderr",
     "output_type": "stream",
     "text": [
      "/tmp/ipykernel_136/2235117015.py:4: UserWarning: pandas only supports SQLAlchemy connectable (engine/connection) or database string URI or sqlite3 DBAPI2 connection. Other DBAPI2 objects are not tested. Please consider using SQLAlchemy.\n",
      "  df = pd.read_sql(f'SELECT * FROM {origin_name}.{database_name}.{table_name};', conn)\n"
     ]
    }
   ],
   "source": [
    "#Connection to daily_check (based on receiver)\n",
    "conn = connect(s3_staging_dir=f'{bucket_name}queryresults/',\n",
    "               region_name='us-east-1')\n",
    "df = pd.read_sql(f'SELECT * FROM {origin_name}.{database_name}.{table_name};', conn)"
   ]
  },
  {
   "cell_type": "code",
   "execution_count": 6,
   "id": "825dc99a-0666-40c6-b609-cefa72ccd737",
   "metadata": {
    "tags": []
   },
   "outputs": [
    {
     "data": {
      "text/plain": [
       "25110624454.4149"
      ]
     },
     "execution_count": 6,
     "metadata": {},
     "output_type": "execute_result"
    }
   ],
   "source": [
    "df['amount'].sum()"
   ]
  },
  {
   "cell_type": "code",
   "execution_count": 7,
   "id": "f299aeed-66fc-4429-a443-93022c80cec8",
   "metadata": {
    "tags": []
   },
   "outputs": [
    {
     "name": "stderr",
     "output_type": "stream",
     "text": [
      "/tmp/ipykernel_136/2405263410.py:3: UserWarning: pandas only supports SQLAlchemy connectable (engine/connection) or database string URI or sqlite3 DBAPI2 connection. Other DBAPI2 objects are not tested. Please consider using SQLAlchemy.\n",
      "  df_rates = pd.read_sql(f'SELECT * FROM {origin_name}.{database_name}.{forex_table};', conn)\n"
     ]
    }
   ],
   "source": [
    "#Connection to daily_forex \n",
    "forex_table = 'last_daily_forex'\n",
    "df_rates = pd.read_sql(f'SELECT * FROM {origin_name}.{database_name}.{forex_table};', conn)"
   ]
  },
  {
   "cell_type": "code",
   "execution_count": 8,
   "id": "56f23acb-1f87-4330-8189-7c28b11ce663",
   "metadata": {
    "tags": []
   },
   "outputs": [],
   "source": [
    "# Convert the 'date' column to datetime format\n",
    "df['date'] = pd.to_datetime(df['date'])\n",
    "\n",
    "# Grouping by 'payer' and 'country' concatenated for this level of granularity\n",
    "df['payer_country'] = df['payer'] + '_' + df['country']"
   ]
  },
  {
   "cell_type": "code",
   "execution_count": 9,
   "id": "d38cdc19-58f7-4927-ba67-668d1950ce8d",
   "metadata": {
    "tags": []
   },
   "outputs": [],
   "source": [
    "df = df[df['date'] != '2020-12-31'] # Excluyo el 31-12-2020"
   ]
  },
  {
   "cell_type": "code",
   "execution_count": 10,
   "id": "a9554cd0-2dca-4c7d-aa75-d8ec508e7a4e",
   "metadata": {
    "tags": []
   },
   "outputs": [],
   "source": [
    "def aging_filter(df):\n",
    "    # Find the last date in the sample\n",
    "    last_date_sample = df['date'].max()\n",
    "\n",
    "    # Calculate the limit date, one day before the last date in the sample\n",
    "    limit_date = last_date_sample - pd.Timedelta(days=1)\n",
    "\n",
    "    # Find the first and last date per 'payer_country' and calculate total_amount and count\n",
    "    result = (\n",
    "        df.groupby('payer_country')\n",
    "        .agg(\n",
    "            first_date=('date', 'min'),\n",
    "            last_date=('date', 'max'),\n",
    "            total_amount=('amount', 'sum'),\n",
    "            total_transactions=('tx', 'sum')  # Add this line for total_transactions\n",
    "        )\n",
    "        .reset_index()\n",
    "    )\n",
    "\n",
    "    # Calculate the 'age_payer' variable accurately using the calculated limit_date\n",
    "    result['age_payer'] = ((limit_date - result['first_date']).dt.days / 30).round(2)\n",
    "\n",
    "    # Calculate the 'active_payer' variable\n",
    "    result['active_time'] = ((result['last_date'] - result['first_date']).dt.days / 30).round(2)\n",
    "\n",
    "    # Calculate the 'inactive' variable\n",
    "    result['inactive_time'] = ((limit_date - result['last_date']).dt.days / 30).round(2)\n",
    "\n",
    "    # Sort the final DataFrame by 'total_amount' from highest to lowest\n",
    "    result = result.sort_values(by='total_amount', ascending=False)\n",
    "\n",
    "    # Filter the DataFrame based on conditions and return aging_universe\n",
    "    aging_universe = result.loc[\n",
    "        (result.age_payer >= 3) & \n",
    "        (result.inactive_time <= 3) & \n",
    "        (result.total_amount > 10000) & \n",
    "        (result.total_transactions > 50)\n",
    "    ]\n",
    "\n",
    "    return aging_universe"
   ]
  },
  {
   "cell_type": "code",
   "execution_count": 11,
   "id": "f1e225cb-ae76-4a29-9ea7-dd6009187533",
   "metadata": {
    "tags": []
   },
   "outputs": [
    {
     "name": "stderr",
     "output_type": "stream",
     "text": [
      "/tmp/ipykernel_136/3736126815.py:6: SettingWithCopyWarning: \n",
      "A value is trying to be set on a copy of a slice from a DataFrame.\n",
      "Try using .loc[row_indexer,col_indexer] = value instead\n",
      "\n",
      "See the caveats in the documentation: https://pandas.pydata.org/pandas-docs/stable/user_guide/indexing.html#returning-a-view-versus-a-copy\n",
      "  df_filtered['date'] = pd.to_datetime(df_filtered['date']).dt.date\n"
     ]
    }
   ],
   "source": [
    "# Defining Universe\n",
    "df = df[df['amount'] != 0] # Excluding 0 (flag A & Flag C), defined in EDA - CHEQUEAR!\n",
    "\n",
    "df_aging = aging_filter(df) #Filtering 'payer_country' based on Aging notebook\n",
    "df_filtered = df[df['payer_country'].isin(df_aging['payer_country'])] # Applying aging filters \n",
    "df_filtered['date'] = pd.to_datetime(df_filtered['date']).dt.date"
   ]
  },
  {
   "cell_type": "code",
   "execution_count": 12,
   "id": "6b0ada34-ac4a-4b14-b7c7-de1d2c14f59e",
   "metadata": {
    "tags": []
   },
   "outputs": [],
   "source": [
    "# FOREX - Selecting columns & renaming\n",
    "df_rates=df_rates.rename(columns={'day': 'date', 'max_feed_price': 'feed_price'})\n",
    "df_rates=df_rates.loc[:,['date', 'feed_price', 'symbol']]"
   ]
  },
  {
   "cell_type": "code",
   "execution_count": 13,
   "id": "8d8e854e-ca58-4c99-b65b-a398020f7389",
   "metadata": {
    "tags": []
   },
   "outputs": [],
   "source": [
    "def get_closing_prices(data, start_date, end_date):\n",
    "    # Convert the 'FEED_DATE' column to datetime\n",
    "    data['date'] = pd.to_datetime(data['date'])\n",
    "\n",
    "    # Filter by date range\n",
    "    data_filtered = data[(data['date'] >= start_date) & (data['date'] <= end_date)]\n",
    "\n",
    "    # Sort by 'FEED_DATE' > chronological order\n",
    "    data_filtered = data_filtered.sort_values(by='date')\n",
    "\n",
    "    # Group by 'SYMBOL' and 'FEED_DATE', taking the last value of 'FEED_PRICE'\n",
    "    data_grouped = data_filtered.groupby(['symbol', pd.Grouper(key='date', freq='D')])['feed_price'].last().reset_index()\n",
    "    \n",
    "    return data_grouped"
   ]
  },
  {
   "cell_type": "code",
   "execution_count": 14,
   "id": "09ebf200-bc8d-4d7c-8f6c-e861aecc5b12",
   "metadata": {
    "tags": []
   },
   "outputs": [],
   "source": [
    "start_date = '2021-01-01'\n",
    "end_date = '2023-10-22'\n",
    "\n",
    "rates = get_closing_prices(df_rates, start_date, end_date) ### Podriamos omitirla ####"
   ]
  },
  {
   "cell_type": "code",
   "execution_count": 15,
   "id": "deac5519-2952-4b25-8533-b0887f10f519",
   "metadata": {
    "tags": []
   },
   "outputs": [],
   "source": [
    "###WE OBTAIN THE LAGS FOR THE EXCHANGE RATE \n",
    "\n",
    "def generate_lag_and_variation(df, num_lags):\n",
    "    # Create columns for each day's lag up to the defined maximum\n",
    "    for i in range(1, num_lags + 1):\n",
    "        col_name = f'rate_lag_{i}'\n",
    "        # Shift the 'feed_price' column grouped by 'symbol'\n",
    "        df[col_name] = df.groupby('symbol')['feed_price'].shift(i)\n",
    "\n",
    "    # Calculate the variation columns between consecutive delays\n",
    "    for i in range(1, num_lags):\n",
    "        col_name = f'var_rate_lag_{i}'\n",
    "        # Calculate the difference between consecutive delay columns\n",
    "        df[col_name] = df[f'rate_lag_{i}'] - df[f'rate_lag_{i + 1}']\n",
    "    \n",
    "    return df"
   ]
  },
  {
   "cell_type": "code",
   "execution_count": 16,
   "id": "41a1a559-355f-4dea-84f6-4a3526a03a85",
   "metadata": {
    "tags": []
   },
   "outputs": [],
   "source": [
    "rates_number = 14\n",
    "rates = generate_lag_and_variation(rates, rates_number)\n",
    "rates['date'] = rates['date'].dt.date #Date format"
   ]
  },
  {
   "cell_type": "code",
   "execution_count": 17,
   "id": "6cb7010f-467d-4d46-9ed7-6441be89669a",
   "metadata": {
    "tags": []
   },
   "outputs": [
    {
     "data": {
      "text/html": [
       "<div>\n",
       "<style scoped>\n",
       "    .dataframe tbody tr th:only-of-type {\n",
       "        vertical-align: middle;\n",
       "    }\n",
       "\n",
       "    .dataframe tbody tr th {\n",
       "        vertical-align: top;\n",
       "    }\n",
       "\n",
       "    .dataframe thead th {\n",
       "        text-align: right;\n",
       "    }\n",
       "</style>\n",
       "<table border=\"1\" class=\"dataframe\">\n",
       "  <thead>\n",
       "    <tr style=\"text-align: right;\">\n",
       "      <th></th>\n",
       "      <th>symbol</th>\n",
       "      <th>date</th>\n",
       "      <th>feed_price</th>\n",
       "      <th>rate_lag_1</th>\n",
       "      <th>rate_lag_2</th>\n",
       "      <th>rate_lag_3</th>\n",
       "      <th>rate_lag_4</th>\n",
       "      <th>rate_lag_5</th>\n",
       "      <th>rate_lag_6</th>\n",
       "      <th>rate_lag_7</th>\n",
       "      <th>...</th>\n",
       "      <th>var_rate_lag_4</th>\n",
       "      <th>var_rate_lag_5</th>\n",
       "      <th>var_rate_lag_6</th>\n",
       "      <th>var_rate_lag_7</th>\n",
       "      <th>var_rate_lag_8</th>\n",
       "      <th>var_rate_lag_9</th>\n",
       "      <th>var_rate_lag_10</th>\n",
       "      <th>var_rate_lag_11</th>\n",
       "      <th>var_rate_lag_12</th>\n",
       "      <th>var_rate_lag_13</th>\n",
       "    </tr>\n",
       "  </thead>\n",
       "  <tbody>\n",
       "    <tr>\n",
       "      <th>0</th>\n",
       "      <td>USDBRL</td>\n",
       "      <td>2021-01-01</td>\n",
       "      <td>5.1935</td>\n",
       "      <td>NaN</td>\n",
       "      <td>NaN</td>\n",
       "      <td>NaN</td>\n",
       "      <td>NaN</td>\n",
       "      <td>NaN</td>\n",
       "      <td>NaN</td>\n",
       "      <td>NaN</td>\n",
       "      <td>...</td>\n",
       "      <td>NaN</td>\n",
       "      <td>NaN</td>\n",
       "      <td>NaN</td>\n",
       "      <td>NaN</td>\n",
       "      <td>NaN</td>\n",
       "      <td>NaN</td>\n",
       "      <td>NaN</td>\n",
       "      <td>NaN</td>\n",
       "      <td>NaN</td>\n",
       "      <td>NaN</td>\n",
       "    </tr>\n",
       "    <tr>\n",
       "      <th>1</th>\n",
       "      <td>USDBRL</td>\n",
       "      <td>2021-01-02</td>\n",
       "      <td>5.1934</td>\n",
       "      <td>5.1935</td>\n",
       "      <td>NaN</td>\n",
       "      <td>NaN</td>\n",
       "      <td>NaN</td>\n",
       "      <td>NaN</td>\n",
       "      <td>NaN</td>\n",
       "      <td>NaN</td>\n",
       "      <td>...</td>\n",
       "      <td>NaN</td>\n",
       "      <td>NaN</td>\n",
       "      <td>NaN</td>\n",
       "      <td>NaN</td>\n",
       "      <td>NaN</td>\n",
       "      <td>NaN</td>\n",
       "      <td>NaN</td>\n",
       "      <td>NaN</td>\n",
       "      <td>NaN</td>\n",
       "      <td>NaN</td>\n",
       "    </tr>\n",
       "    <tr>\n",
       "      <th>2</th>\n",
       "      <td>USDBRL</td>\n",
       "      <td>2021-01-03</td>\n",
       "      <td>5.2008</td>\n",
       "      <td>5.1934</td>\n",
       "      <td>5.1935</td>\n",
       "      <td>NaN</td>\n",
       "      <td>NaN</td>\n",
       "      <td>NaN</td>\n",
       "      <td>NaN</td>\n",
       "      <td>NaN</td>\n",
       "      <td>...</td>\n",
       "      <td>NaN</td>\n",
       "      <td>NaN</td>\n",
       "      <td>NaN</td>\n",
       "      <td>NaN</td>\n",
       "      <td>NaN</td>\n",
       "      <td>NaN</td>\n",
       "      <td>NaN</td>\n",
       "      <td>NaN</td>\n",
       "      <td>NaN</td>\n",
       "      <td>NaN</td>\n",
       "    </tr>\n",
       "    <tr>\n",
       "      <th>3</th>\n",
       "      <td>USDBRL</td>\n",
       "      <td>2021-01-04</td>\n",
       "      <td>5.2976</td>\n",
       "      <td>5.2008</td>\n",
       "      <td>5.1934</td>\n",
       "      <td>5.1935</td>\n",
       "      <td>NaN</td>\n",
       "      <td>NaN</td>\n",
       "      <td>NaN</td>\n",
       "      <td>NaN</td>\n",
       "      <td>...</td>\n",
       "      <td>NaN</td>\n",
       "      <td>NaN</td>\n",
       "      <td>NaN</td>\n",
       "      <td>NaN</td>\n",
       "      <td>NaN</td>\n",
       "      <td>NaN</td>\n",
       "      <td>NaN</td>\n",
       "      <td>NaN</td>\n",
       "      <td>NaN</td>\n",
       "      <td>NaN</td>\n",
       "    </tr>\n",
       "    <tr>\n",
       "      <th>4</th>\n",
       "      <td>USDBRL</td>\n",
       "      <td>2021-01-05</td>\n",
       "      <td>5.3244</td>\n",
       "      <td>5.2976</td>\n",
       "      <td>5.2008</td>\n",
       "      <td>5.1934</td>\n",
       "      <td>5.1935</td>\n",
       "      <td>NaN</td>\n",
       "      <td>NaN</td>\n",
       "      <td>NaN</td>\n",
       "      <td>...</td>\n",
       "      <td>NaN</td>\n",
       "      <td>NaN</td>\n",
       "      <td>NaN</td>\n",
       "      <td>NaN</td>\n",
       "      <td>NaN</td>\n",
       "      <td>NaN</td>\n",
       "      <td>NaN</td>\n",
       "      <td>NaN</td>\n",
       "      <td>NaN</td>\n",
       "      <td>NaN</td>\n",
       "    </tr>\n",
       "    <tr>\n",
       "      <th>...</th>\n",
       "      <td>...</td>\n",
       "      <td>...</td>\n",
       "      <td>...</td>\n",
       "      <td>...</td>\n",
       "      <td>...</td>\n",
       "      <td>...</td>\n",
       "      <td>...</td>\n",
       "      <td>...</td>\n",
       "      <td>...</td>\n",
       "      <td>...</td>\n",
       "      <td>...</td>\n",
       "      <td>...</td>\n",
       "      <td>...</td>\n",
       "      <td>...</td>\n",
       "      <td>...</td>\n",
       "      <td>...</td>\n",
       "      <td>...</td>\n",
       "      <td>...</td>\n",
       "      <td>...</td>\n",
       "      <td>...</td>\n",
       "      <td>...</td>\n",
       "    </tr>\n",
       "    <tr>\n",
       "      <th>5120</th>\n",
       "      <td>USDPHP</td>\n",
       "      <td>2023-10-18</td>\n",
       "      <td>56.8872</td>\n",
       "      <td>56.7100</td>\n",
       "      <td>56.8185</td>\n",
       "      <td>56.8485</td>\n",
       "      <td>56.8095</td>\n",
       "      <td>56.8227</td>\n",
       "      <td>56.8275</td>\n",
       "      <td>56.8185</td>\n",
       "      <td>...</td>\n",
       "      <td>-0.0132</td>\n",
       "      <td>-0.0048</td>\n",
       "      <td>0.0090</td>\n",
       "      <td>-0.1157</td>\n",
       "      <td>-0.0108</td>\n",
       "      <td>0.0979</td>\n",
       "      <td>0.1486</td>\n",
       "      <td>-0.0766</td>\n",
       "      <td>0.0307</td>\n",
       "      <td>-0.1480</td>\n",
       "    </tr>\n",
       "    <tr>\n",
       "      <th>5121</th>\n",
       "      <td>USDPHP</td>\n",
       "      <td>2023-10-19</td>\n",
       "      <td>56.9022</td>\n",
       "      <td>56.8872</td>\n",
       "      <td>56.7100</td>\n",
       "      <td>56.8185</td>\n",
       "      <td>56.8485</td>\n",
       "      <td>56.8095</td>\n",
       "      <td>56.8227</td>\n",
       "      <td>56.8275</td>\n",
       "      <td>...</td>\n",
       "      <td>0.0390</td>\n",
       "      <td>-0.0132</td>\n",
       "      <td>-0.0048</td>\n",
       "      <td>0.0090</td>\n",
       "      <td>-0.1157</td>\n",
       "      <td>-0.0108</td>\n",
       "      <td>0.0979</td>\n",
       "      <td>0.1486</td>\n",
       "      <td>-0.0766</td>\n",
       "      <td>0.0307</td>\n",
       "    </tr>\n",
       "    <tr>\n",
       "      <th>5122</th>\n",
       "      <td>USDPHP</td>\n",
       "      <td>2023-10-20</td>\n",
       "      <td>56.7786</td>\n",
       "      <td>56.9022</td>\n",
       "      <td>56.8872</td>\n",
       "      <td>56.7100</td>\n",
       "      <td>56.8185</td>\n",
       "      <td>56.8485</td>\n",
       "      <td>56.8095</td>\n",
       "      <td>56.8227</td>\n",
       "      <td>...</td>\n",
       "      <td>-0.0300</td>\n",
       "      <td>0.0390</td>\n",
       "      <td>-0.0132</td>\n",
       "      <td>-0.0048</td>\n",
       "      <td>0.0090</td>\n",
       "      <td>-0.1157</td>\n",
       "      <td>-0.0108</td>\n",
       "      <td>0.0979</td>\n",
       "      <td>0.1486</td>\n",
       "      <td>-0.0766</td>\n",
       "    </tr>\n",
       "    <tr>\n",
       "      <th>5123</th>\n",
       "      <td>USDPHP</td>\n",
       "      <td>2023-10-21</td>\n",
       "      <td>56.7010</td>\n",
       "      <td>56.7786</td>\n",
       "      <td>56.9022</td>\n",
       "      <td>56.8872</td>\n",
       "      <td>56.7100</td>\n",
       "      <td>56.8185</td>\n",
       "      <td>56.8485</td>\n",
       "      <td>56.8095</td>\n",
       "      <td>...</td>\n",
       "      <td>-0.1085</td>\n",
       "      <td>-0.0300</td>\n",
       "      <td>0.0390</td>\n",
       "      <td>-0.0132</td>\n",
       "      <td>-0.0048</td>\n",
       "      <td>0.0090</td>\n",
       "      <td>-0.1157</td>\n",
       "      <td>-0.0108</td>\n",
       "      <td>0.0979</td>\n",
       "      <td>0.1486</td>\n",
       "    </tr>\n",
       "    <tr>\n",
       "      <th>5124</th>\n",
       "      <td>USDPHP</td>\n",
       "      <td>2023-10-22</td>\n",
       "      <td>56.7010</td>\n",
       "      <td>56.7010</td>\n",
       "      <td>56.7786</td>\n",
       "      <td>56.9022</td>\n",
       "      <td>56.8872</td>\n",
       "      <td>56.7100</td>\n",
       "      <td>56.8185</td>\n",
       "      <td>56.8485</td>\n",
       "      <td>...</td>\n",
       "      <td>0.1772</td>\n",
       "      <td>-0.1085</td>\n",
       "      <td>-0.0300</td>\n",
       "      <td>0.0390</td>\n",
       "      <td>-0.0132</td>\n",
       "      <td>-0.0048</td>\n",
       "      <td>0.0090</td>\n",
       "      <td>-0.1157</td>\n",
       "      <td>-0.0108</td>\n",
       "      <td>0.0979</td>\n",
       "    </tr>\n",
       "  </tbody>\n",
       "</table>\n",
       "<p>5125 rows × 30 columns</p>\n",
       "</div>"
      ],
      "text/plain": [
       "      symbol        date  feed_price  rate_lag_1  rate_lag_2  rate_lag_3  \\\n",
       "0     USDBRL  2021-01-01      5.1935         NaN         NaN         NaN   \n",
       "1     USDBRL  2021-01-02      5.1934      5.1935         NaN         NaN   \n",
       "2     USDBRL  2021-01-03      5.2008      5.1934      5.1935         NaN   \n",
       "3     USDBRL  2021-01-04      5.2976      5.2008      5.1934      5.1935   \n",
       "4     USDBRL  2021-01-05      5.3244      5.2976      5.2008      5.1934   \n",
       "...      ...         ...         ...         ...         ...         ...   \n",
       "5120  USDPHP  2023-10-18     56.8872     56.7100     56.8185     56.8485   \n",
       "5121  USDPHP  2023-10-19     56.9022     56.8872     56.7100     56.8185   \n",
       "5122  USDPHP  2023-10-20     56.7786     56.9022     56.8872     56.7100   \n",
       "5123  USDPHP  2023-10-21     56.7010     56.7786     56.9022     56.8872   \n",
       "5124  USDPHP  2023-10-22     56.7010     56.7010     56.7786     56.9022   \n",
       "\n",
       "      rate_lag_4  rate_lag_5  rate_lag_6  rate_lag_7  ...  var_rate_lag_4  \\\n",
       "0            NaN         NaN         NaN         NaN  ...             NaN   \n",
       "1            NaN         NaN         NaN         NaN  ...             NaN   \n",
       "2            NaN         NaN         NaN         NaN  ...             NaN   \n",
       "3            NaN         NaN         NaN         NaN  ...             NaN   \n",
       "4         5.1935         NaN         NaN         NaN  ...             NaN   \n",
       "...          ...         ...         ...         ...  ...             ...   \n",
       "5120     56.8095     56.8227     56.8275     56.8185  ...         -0.0132   \n",
       "5121     56.8485     56.8095     56.8227     56.8275  ...          0.0390   \n",
       "5122     56.8185     56.8485     56.8095     56.8227  ...         -0.0300   \n",
       "5123     56.7100     56.8185     56.8485     56.8095  ...         -0.1085   \n",
       "5124     56.8872     56.7100     56.8185     56.8485  ...          0.1772   \n",
       "\n",
       "      var_rate_lag_5  var_rate_lag_6  var_rate_lag_7  var_rate_lag_8  \\\n",
       "0                NaN             NaN             NaN             NaN   \n",
       "1                NaN             NaN             NaN             NaN   \n",
       "2                NaN             NaN             NaN             NaN   \n",
       "3                NaN             NaN             NaN             NaN   \n",
       "4                NaN             NaN             NaN             NaN   \n",
       "...              ...             ...             ...             ...   \n",
       "5120         -0.0048          0.0090         -0.1157         -0.0108   \n",
       "5121         -0.0132         -0.0048          0.0090         -0.1157   \n",
       "5122          0.0390         -0.0132         -0.0048          0.0090   \n",
       "5123         -0.0300          0.0390         -0.0132         -0.0048   \n",
       "5124         -0.1085         -0.0300          0.0390         -0.0132   \n",
       "\n",
       "      var_rate_lag_9  var_rate_lag_10  var_rate_lag_11  var_rate_lag_12  \\\n",
       "0                NaN              NaN              NaN              NaN   \n",
       "1                NaN              NaN              NaN              NaN   \n",
       "2                NaN              NaN              NaN              NaN   \n",
       "3                NaN              NaN              NaN              NaN   \n",
       "4                NaN              NaN              NaN              NaN   \n",
       "...              ...              ...              ...              ...   \n",
       "5120          0.0979           0.1486          -0.0766           0.0307   \n",
       "5121         -0.0108           0.0979           0.1486          -0.0766   \n",
       "5122         -0.1157          -0.0108           0.0979           0.1486   \n",
       "5123          0.0090          -0.1157          -0.0108           0.0979   \n",
       "5124         -0.0048           0.0090          -0.1157          -0.0108   \n",
       "\n",
       "      var_rate_lag_13  \n",
       "0                 NaN  \n",
       "1                 NaN  \n",
       "2                 NaN  \n",
       "3                 NaN  \n",
       "4                 NaN  \n",
       "...               ...  \n",
       "5120          -0.1480  \n",
       "5121           0.0307  \n",
       "5122          -0.0766  \n",
       "5123           0.1486  \n",
       "5124           0.0979  \n",
       "\n",
       "[5125 rows x 30 columns]"
      ]
     },
     "execution_count": 17,
     "metadata": {},
     "output_type": "execute_result"
    }
   ],
   "source": [
    "rates"
   ]
  },
  {
   "cell_type": "code",
   "execution_count": 18,
   "id": "65786af9-da31-44a0-8afd-7309b155ecdb",
   "metadata": {
    "tags": []
   },
   "outputs": [],
   "source": [
    "rates_dict = {\n",
    "    'USDBRL': 'BRAZIL', # Bz Real \n",
    "    'USDINR': 'INDIA', # Indian Rupia\n",
    "    'USDGTQ': 'GUATEMALA', #Quetzal \n",
    "    'USDMXN': 'MEXICO', #Mx Peso\n",
    "    'USDPHP': 'PHILIPPINES' # Ph Peso\n",
    "}"
   ]
  },
  {
   "cell_type": "code",
   "execution_count": 19,
   "id": "ae0321ad-2118-4780-80ed-f4c3fe7af6d5",
   "metadata": {
    "tags": []
   },
   "outputs": [],
   "source": [
    "rates['country'] = rates['symbol'].map(rates_dict)"
   ]
  },
  {
   "cell_type": "code",
   "execution_count": 20,
   "id": "486d46e2-4e6a-4348-845e-cfcba62d4514",
   "metadata": {
    "tags": []
   },
   "outputs": [],
   "source": [
    "df1 = pd.merge(df_filtered, rates, on=['date', 'country'], how='left')\n",
    "df1['date'] = pd.to_datetime(df1['date']).dt.date"
   ]
  },
  {
   "cell_type": "code",
   "execution_count": 21,
   "id": "88b813d2-a746-4792-8d94-91873868a877",
   "metadata": {
    "tags": []
   },
   "outputs": [
    {
     "name": "stderr",
     "output_type": "stream",
     "text": [
      "/tmp/ipykernel_136/597858736.py:4: UserWarning: pandas only supports SQLAlchemy connectable (engine/connection) or database string URI or sqlite3 DBAPI2 connection. Other DBAPI2 objects are not tested. Please consider using SQLAlchemy.\n",
      "  df2 = pd.read_sql(f'SELECT * FROM {origin_name}.{database_name}.{table2_name};', conn)\n"
     ]
    }
   ],
   "source": [
    "### EFFECT OF CANCELED TRANSACTIONS ###\n",
    "\n",
    "table2_name = 'daily_sales_count_cancelled_v2'##WE LOAD THE BASE WITH CANCELLATIONS\n",
    "df2 = pd.read_sql(f'SELECT * FROM {origin_name}.{database_name}.{table2_name};', conn)\n",
    "df2['date'] = pd.to_datetime(df2['date'])\n",
    "df2 = df2[df2['date'] != '2020-12-31'] # Elimino el registro del 31.12.2020"
   ]
  },
  {
   "cell_type": "code",
   "execution_count": 22,
   "id": "9e7aba45-2f92-4b27-b05f-8e24572e3b1b",
   "metadata": {
    "tags": []
   },
   "outputs": [
    {
     "data": {
      "text/plain": [
       "25102147362.2899"
      ]
     },
     "execution_count": 22,
     "metadata": {},
     "output_type": "execute_result"
    }
   ],
   "source": [
    "df2['amount'].sum()"
   ]
  },
  {
   "cell_type": "code",
   "execution_count": 23,
   "id": "80c25827-264c-4267-8598-5e7e6eff3b3a",
   "metadata": {
    "tags": []
   },
   "outputs": [],
   "source": [
    "from sklearn.preprocessing import LabelEncoder\n",
    "\n",
    "# Grouping by 'payer' and 'country' concatenated for this level of granularity\n",
    "df2['payer_country'] = df2['payer'] + '_' + df2['country']\n",
    "# Inicializing LabelEncoder\n",
    "label_encoder = LabelEncoder()\n",
    "# Coding ‘PAYER_COUNTRY’ as unique values\n",
    "df2['payer_country_encoder'] = label_encoder.fit_transform(df2['payer_country'])"
   ]
  },
  {
   "cell_type": "code",
   "execution_count": 24,
   "id": "1a4b3e24-759c-4b84-8719-360162c91085",
   "metadata": {
    "tags": []
   },
   "outputs": [],
   "source": [
    "# By applying the same aging filter, we can work on the same payer_country universe \n",
    "df2 = df2[df2['payer_country'].isin(df_aging['payer_country'])]"
   ]
  },
  {
   "cell_type": "code",
   "execution_count": 25,
   "id": "bbe1db51-fc3c-434d-b6cf-a68f4dc21507",
   "metadata": {
    "tags": []
   },
   "outputs": [],
   "source": [
    "def fill_missing_dates(df, start_date, end_date):\n",
    "    # Create an empty DataFrame with the specified date range\n",
    "    date_range = pd.date_range(start=start_date, end=end_date)\n",
    "    df_fill = pd.DataFrame({'date': date_range, 'amount': 0, 'tx_cancelled': 0})\n",
    "    df_fill['date'] = pd.to_datetime(df_fill['date']).dt.date\n",
    "    \n",
    "    # Sort the original DataFrame by 'country', 'payer', and 'date'\n",
    "    df = df.sort_values(by=['country', 'payer', 'date'])\n",
    "    \n",
    "    # Create an empty DataFrame to hold the result\n",
    "    result_df = pd.DataFrame()\n",
    "\n",
    "    # Loop through each 'payer_country'\n",
    "    for payer_country in df['payer_country'].unique():\n",
    "#        print(payer_country)\n",
    "        df_aux = df[df['payer_country'] == payer_country]\n",
    "        # Combining df_aux (payer_country) with df_fill, keeping values from df_aux and filling dates, amount and tx_cancelled \n",
    "        merged_df = df_aux.set_index('date').combine_first(df_fill.set_index('date')).reset_index()\n",
    "\n",
    "        # Fill missing values in 'payer', 'country', 'payer_country', 'payer_country_encoder' columns\n",
    "        columns_to_fill = ['payer', 'country', 'payer_country', 'payer_country_encoder']\n",
    "        merged_df[columns_to_fill] = merged_df[columns_to_fill].ffill().bfill()\n",
    "\n",
    "        result_df = pd.concat([result_df, merged_df], ignore_index=True)\n",
    "\n",
    "    \n",
    "    return result_df"
   ]
  },
  {
   "cell_type": "code",
   "execution_count": 26,
   "id": "5519bfb5-7d47-409a-8da7-964c189b46f6",
   "metadata": {
    "tags": []
   },
   "outputs": [],
   "source": [
    "#start_date and end_date variables defined previously\n",
    "start_date = '2021-01-01'\n",
    "end_date = '2023-10-21'\n",
    "\n",
    "# Call the function with the specified start_date and end_date\n",
    "df_full = fill_missing_dates(df2, start_date, end_date)"
   ]
  },
  {
   "cell_type": "code",
   "execution_count": null,
   "id": "a461650e-e8f5-46a6-84a4-c5e726ec5e2a",
   "metadata": {},
   "outputs": [],
   "source": []
  },
  {
   "cell_type": "code",
   "execution_count": 27,
   "id": "ab1f4fee-5d43-4de7-91f5-d6fac6776955",
   "metadata": {
    "tags": []
   },
   "outputs": [],
   "source": [
    "def generate_tx_lags_and_variation(df, tx_count):\n",
    "    \"\"\"\n",
    "    Generate lag columns for cancelled transactions and their variations.\n",
    "\n",
    "    Args:\n",
    "    - df: DataFrame containing transaction data\n",
    "    - tx_count: Number of periods for lag calculation\n",
    "\n",
    "    Returns:\n",
    "    - df: DataFrame with added lag and variation columns\n",
    "    \"\"\"\n",
    "    # Sort the dataset based on country, payer, and date\n",
    "    df = df.sort_values(by=['country', 'payer', 'date'])\n",
    "\n",
    "    # Create columns for each day's lag up to the defined maximum\n",
    "    for i in range(1, tx_count + 1):\n",
    "        col_name = f'tx_cancelled_lag_{i}'\n",
    "        # Shift the 'tx_cancelled' column grouped by 'country' and 'payer'\n",
    "        df[col_name] = df.groupby(['country', 'payer'])['tx_cancelled'].shift(i)\n",
    "\n",
    "    # Calculate the variation columns between consecutive delays\n",
    "    for i in range(1, tx_count):\n",
    "        col_name = f'var_tx_cancelled_lag_{i}'\n",
    "        # Calculate the difference between consecutive lag columns\n",
    "        df[col_name] = df[f'tx_cancelled_lag_{i}'] - df[f'tx_cancelled_lag_{i + 1}']\n",
    "\n",
    "    return df\n"
   ]
  },
  {
   "cell_type": "code",
   "execution_count": 28,
   "id": "575ccc5f-00c2-47ad-b27a-ec5de6cf64c4",
   "metadata": {
    "tags": []
   },
   "outputs": [],
   "source": [
    "# Call the function and assign the result back to df2\n",
    "tx_cancelled_lags = 7\n",
    "df2 = generate_tx_lags_and_variation(df_full, tx_cancelled_lags)"
   ]
  },
  {
   "cell_type": "code",
   "execution_count": 29,
   "id": "9dce5a7e-2764-4b58-ba7e-7137ce74e9d0",
   "metadata": {
    "tags": []
   },
   "outputs": [],
   "source": [
    "df2['date'] = df2['date'].dt.date"
   ]
  },
  {
   "cell_type": "code",
   "execution_count": 30,
   "id": "8cd096be-3c18-4763-9fd8-e0584fad79eb",
   "metadata": {
    "tags": []
   },
   "outputs": [
    {
     "data": {
      "text/plain": [
       "24303285928.466"
      ]
     },
     "execution_count": 30,
     "metadata": {},
     "output_type": "execute_result"
    }
   ],
   "source": [
    "df2['amount'].sum()"
   ]
  },
  {
   "cell_type": "code",
   "execution_count": null,
   "id": "a79fc160-78ce-42bf-9376-bf51b793c93a",
   "metadata": {},
   "outputs": [],
   "source": []
  },
  {
   "cell_type": "code",
   "execution_count": 31,
   "id": "2fd05382-c696-42b2-bdcb-6cdb2f75936b",
   "metadata": {
    "tags": []
   },
   "outputs": [],
   "source": [
    "df_final = pd.merge(df1,df2, on=['date','payer','country', 'amount'], how='outer')\n",
    "df_final['date'] = pd.to_datetime(df_final['date'])"
   ]
  },
  {
   "cell_type": "code",
   "execution_count": 32,
   "id": "5b139d7c-14ff-4100-bc3f-7b98ee45a0e0",
   "metadata": {
    "tags": []
   },
   "outputs": [],
   "source": [
    "###WE SHOULD KEEP THE VARIABLES THAT HAVE IMPUTED MISSINGS IN AMOUNT AND TX_CANCELLED (DAYS WITHOUT OPERATIONS) BUT KEEP THE MISSINGS IN RATES\n",
    "df_final=df_final.loc[:,['date', 'payer', 'country', 'amount', \n",
    "                         'var_rate_lag_1', 'var_rate_lag_2', 'var_rate_lag_3',\n",
    "                         'var_rate_lag_4', 'var_rate_lag_5', 'var_rate_lag_6', 'var_rate_lag_7',\n",
    "                         'var_rate_lag_8', 'var_rate_lag_9', 'var_rate_lag_10',\n",
    "                         'var_rate_lag_11', 'var_rate_lag_12', 'var_rate_lag_13',\n",
    "                         'payer_country_encoder','payer_country_y',\n",
    "                         'var_tx_cancelled_lag_1', 'var_tx_cancelled_lag_2', 'var_tx_cancelled_lag_3',\n",
    "                         'var_tx_cancelled_lag_4', 'var_tx_cancelled_lag_5', 'var_tx_cancelled_lag_6']]\n",
    "df_final = df_final.rename(columns={'payer_country_y': 'payer_country'})"
   ]
  },
  {
   "cell_type": "code",
   "execution_count": 33,
   "id": "bbf4f1c8-3db1-4dc9-8ff1-a31377fe963a",
   "metadata": {
    "tags": []
   },
   "outputs": [
    {
     "name": "stdout",
     "output_type": "stream",
     "text": [
      "<class 'pandas.core.frame.DataFrame'>\n",
      "RangeIndex: 133120 entries, 0 to 133119\n",
      "Data columns (total 25 columns):\n",
      " #   Column                  Non-Null Count   Dtype         \n",
      "---  ------                  --------------   -----         \n",
      " 0   date                    133120 non-null  datetime64[ns]\n",
      " 1   payer                   133120 non-null  object        \n",
      " 2   country                 133120 non-null  object        \n",
      " 3   amount                  133120 non-null  float64       \n",
      " 4   var_rate_lag_1          33730 non-null   float64       \n",
      " 5   var_rate_lag_2          33701 non-null   float64       \n",
      " 6   var_rate_lag_3          33673 non-null   float64       \n",
      " 7   var_rate_lag_4          33644 non-null   float64       \n",
      " 8   var_rate_lag_5          33617 non-null   float64       \n",
      " 9   var_rate_lag_6          33589 non-null   float64       \n",
      " 10  var_rate_lag_7          33561 non-null   float64       \n",
      " 11  var_rate_lag_8          33534 non-null   float64       \n",
      " 12  var_rate_lag_9          33505 non-null   float64       \n",
      " 13  var_rate_lag_10         33477 non-null   float64       \n",
      " 14  var_rate_lag_11         33448 non-null   float64       \n",
      " 15  var_rate_lag_12         33420 non-null   float64       \n",
      " 16  var_rate_lag_13         33392 non-null   float64       \n",
      " 17  payer_country_encoder   133120 non-null  float64       \n",
      " 18  payer_country           133120 non-null  object        \n",
      " 19  var_tx_cancelled_lag_1  132860 non-null  float64       \n",
      " 20  var_tx_cancelled_lag_2  132730 non-null  float64       \n",
      " 21  var_tx_cancelled_lag_3  132600 non-null  float64       \n",
      " 22  var_tx_cancelled_lag_4  132470 non-null  float64       \n",
      " 23  var_tx_cancelled_lag_5  132340 non-null  float64       \n",
      " 24  var_tx_cancelled_lag_6  132210 non-null  float64       \n",
      "dtypes: datetime64[ns](1), float64(21), object(3)\n",
      "memory usage: 25.4+ MB\n"
     ]
    }
   ],
   "source": [
    "df_final.info()"
   ]
  },
  {
   "cell_type": "code",
   "execution_count": 34,
   "id": "069a1c97-30ca-43a7-9eb0-b831a5e7b918",
   "metadata": {
    "tags": []
   },
   "outputs": [],
   "source": [
    "### DUMMIES ####\n",
    "\n",
    "# Weekend indicator (dummy)\n",
    "df_final['weekend'] = (df_final['date'].dt.dayofweek >= 4).astype(int)"
   ]
  },
  {
   "cell_type": "code",
   "execution_count": 35,
   "id": "f0f109eb-f48a-4760-a74e-0454902172f5",
   "metadata": {
    "tags": []
   },
   "outputs": [],
   "source": [
    "#WE ADD ONE MORE DAY AFTER CHRISTMAS, NEW YEAR'S EVE AND US INDEPENDENCE (BETTER CAPTURES THE DISTURBANCE).\n",
    "# Special dates list - Format: Month-day \n",
    "special_dates_list = [ '07-04', #US independence day \n",
    "                      '12-25', #Christmas\n",
    "                      '05-11' # Mexico & Colombia - Mother's day\n",
    "                     '01-01', #New Year\n",
    "                     '01-02',\n",
    "                     '12-26',\n",
    "                     '07-05'] \n",
    "\n",
    "# Applying format process special_dates function\n",
    "special_dates_list_processed = [(int(date.split('-')[0]), int(date.split('-')[1])) for date in special_dates_list]"
   ]
  },
  {
   "cell_type": "code",
   "execution_count": 36,
   "id": "32eaa10c-48b3-4c98-9f5c-b3454dae4920",
   "metadata": {
    "tags": []
   },
   "outputs": [],
   "source": [
    "# To check special dates defined by list\n",
    "def mark_special_dates(row):\n",
    "    if (row['date'].month, row['date'].day) in special_dates_list_processed:\n",
    "        return 1\n",
    "    else:\n",
    "        return 0"
   ]
  },
  {
   "cell_type": "code",
   "execution_count": 37,
   "id": "1ac4e8fd-3e58-4d33-b0d3-d0f32cf528d9",
   "metadata": {
    "tags": []
   },
   "outputs": [],
   "source": [
    "# Marking special dates in df\n",
    "df_final['special_dates'] = df_final.apply(lambda row: mark_special_dates(row), axis=1)"
   ]
  },
  {
   "cell_type": "code",
   "execution_count": 38,
   "id": "b5c28f0b-bbe9-4784-8423-2e92fc10fae9",
   "metadata": {
    "tags": []
   },
   "outputs": [
    {
     "data": {
      "text/plain": [
       "24303285928.466"
      ]
     },
     "execution_count": 38,
     "metadata": {},
     "output_type": "execute_result"
    }
   ],
   "source": [
    "df_final['amount'].sum()"
   ]
  },
  {
   "cell_type": "code",
   "execution_count": 39,
   "id": "89800309-fcf8-4a61-99b4-3b0e2342f659",
   "metadata": {},
   "outputs": [
    {
     "data": {
      "text/plain": [
       "24303285928.466"
      ]
     },
     "execution_count": 39,
     "metadata": {},
     "output_type": "execute_result"
    }
   ],
   "source": [
    "df_final['amount'].sum()"
   ]
  },
  {
   "cell_type": "code",
   "execution_count": 40,
   "id": "3926bd6a-ffb7-4993-9e93-8368d1c12441",
   "metadata": {
    "tags": []
   },
   "outputs": [],
   "source": [
    "# Setting DS timeframe\n",
    "\n",
    "df_14lags = df_final.loc[df_final.date<'2023-07-01']"
   ]
  },
  {
   "cell_type": "code",
   "execution_count": 41,
   "id": "0842561a-2f72-4ff5-beec-51d9539a1e72",
   "metadata": {
    "tags": []
   },
   "outputs": [
    {
     "data": {
      "text/plain": [
       "Index(['date', 'payer', 'country', 'amount', 'var_rate_lag_1',\n",
       "       'var_rate_lag_2', 'var_rate_lag_3', 'var_rate_lag_4', 'var_rate_lag_5',\n",
       "       'var_rate_lag_6', 'var_rate_lag_7', 'var_rate_lag_8', 'var_rate_lag_9',\n",
       "       'var_rate_lag_10', 'var_rate_lag_11', 'var_rate_lag_12',\n",
       "       'var_rate_lag_13', 'payer_country_encoder', 'payer_country',\n",
       "       'var_tx_cancelled_lag_1', 'var_tx_cancelled_lag_2',\n",
       "       'var_tx_cancelled_lag_3', 'var_tx_cancelled_lag_4',\n",
       "       'var_tx_cancelled_lag_5', 'var_tx_cancelled_lag_6', 'weekend',\n",
       "       'special_dates'],\n",
       "      dtype='object')"
      ]
     },
     "execution_count": 41,
     "metadata": {},
     "output_type": "execute_result"
    }
   ],
   "source": [
    "df_14lags.columns"
   ]
  },
  {
   "cell_type": "code",
   "execution_count": 52,
   "id": "50e739bc-50d1-4d35-a7d0-324666c899c3",
   "metadata": {
    "tags": []
   },
   "outputs": [
    {
     "data": {
      "text/plain": [
       "Timestamp('2023-06-30 00:00:00')"
      ]
     },
     "execution_count": 52,
     "metadata": {},
     "output_type": "execute_result"
    }
   ],
   "source": [
    "df_14lags['date'].max()"
   ]
  },
  {
   "cell_type": "code",
   "execution_count": 44,
   "id": "cb18401d-8950-4ebd-9d17-5d34d4d5a045",
   "metadata": {
    "tags": []
   },
   "outputs": [],
   "source": [
    "# TARGET CSV\n",
    "target_ts_amount=df_14lags.loc[:, ['payer_country_encoder', 'date', 'amount']]\n",
    "target_ts_amount.rename(columns={'payer_country_encoder': 'item_id', 'date': 'timestamp', 'amount': 'target_value'}, inplace=True)"
   ]
  },
  {
   "cell_type": "code",
   "execution_count": 45,
   "id": "680a6d74-88c8-4173-b92a-2003a7e04546",
   "metadata": {
    "tags": []
   },
   "outputs": [
    {
     "name": "stderr",
     "output_type": "stream",
     "text": [
      "/tmp/ipykernel_136/3502354415.py:10: SettingWithCopyWarning: \n",
      "A value is trying to be set on a copy of a slice from a DataFrame\n",
      "\n",
      "See the caveats in the documentation: https://pandas.pydata.org/pandas-docs/stable/user_guide/indexing.html#returning-a-view-versus-a-copy\n",
      "  related_ts_ds.rename(columns={'payer_country_encoder': 'item_id', 'date': 'timestamp'}, inplace=True)\n"
     ]
    }
   ],
   "source": [
    "# RELATED TS\n",
    "###GENERATE THE DATASET OF RELATED TIME SERIES (UP TO 23 VARIABLES+ID_ITEM+TIMESTAMP-FIRST THESE TWO VARIABLES)\n",
    "related_ts_columns = ['payer_country_encoder', 'date', \n",
    "                      'var_rate_lag_1', 'var_rate_lag_2', 'var_rate_lag_3', 'var_rate_lag_4', 'var_rate_lag_5',\n",
    "       'var_rate_lag_6', 'var_rate_lag_7', 'var_rate_lag_8', 'var_rate_lag_9', 'var_rate_lag_10', 'var_rate_lag_11', 'var_rate_lag_12',\n",
    "       'var_rate_lag_13', 'var_tx_cancelled_lag_1', 'var_tx_cancelled_lag_2',\n",
    "       'var_tx_cancelled_lag_3', 'var_tx_cancelled_lag_4', 'var_tx_cancelled_lag_5', 'var_tx_cancelled_lag_6', 'weekend', 'special_dates']\n",
    "\n",
    "related_ts_ds = df_14lags[related_ts_columns]\n",
    "related_ts_ds.rename(columns={'payer_country_encoder': 'item_id', 'date': 'timestamp'}, inplace=True)"
   ]
  },
  {
   "cell_type": "code",
   "execution_count": null,
   "id": "b448e572-ef1a-4e7a-9a10-f5a460721792",
   "metadata": {
    "tags": []
   },
   "outputs": [],
   "source": [
    "related_ts_ds.columns"
   ]
  },
  {
   "cell_type": "code",
   "execution_count": null,
   "id": "2d33f923-0cc5-4c26-87b7-5c980e508a84",
   "metadata": {},
   "outputs": [],
   "source": [
    " [item_id, timestamp, var_rate_lag_1, var_rate_lag_2, var_rate_lag_3, var_rate_lag_4, var_rate_lag_5, var_rate_lag_6, var_rate_lag_7, var_rate_lag_8, var_rate_lag_9, var_rate_lag_10, var_rate_lag_11, var_rate_lag_12, var_rate_lag_13, var_tx_cancelled_lag_1, var_tx_cancelled_lag_2, var_tx_cancelled_lag_3, var_tx_cancelled_lag_4, var_tx_cancelled_lag_5, var_tx_cancelled_lag_6, weekend, special_dates]"
   ]
  },
  {
   "cell_type": "code",
   "execution_count": 46,
   "id": "6d8b4931-8b22-4dcf-be87-60dbee5f4f8d",
   "metadata": {
    "tags": []
   },
   "outputs": [],
   "source": [
    "###GENERATE A DATASET WITH METADATA(COUNTRY AND PAYER)\n",
    "metadata_ts=df_14lags.loc[:, ['payer_country_encoder', 'country', 'payer']]\n",
    "metadata_ts.rename(columns={'payer_country_encoder': 'item_id'}, inplace=True)"
   ]
  },
  {
   "cell_type": "code",
   "execution_count": 48,
   "id": "1dadee25-45c9-46f5-8378-5daaa105790f",
   "metadata": {
    "tags": []
   },
   "outputs": [],
   "source": [
    "#pip install awswrangler"
   ]
  },
  {
   "cell_type": "code",
   "execution_count": 49,
   "id": "f61ddb2e-bff3-45cb-b8a3-92b93936422e",
   "metadata": {
    "tags": []
   },
   "outputs": [
    {
     "data": {
      "text/plain": [
       "{'paths': ['s3://viamericas-datalake-dev-us-east-1-283731589572-analytics/Forecast/target/target_14lags_Junio23.csv'],\n",
       " 'partitions_values': {}}"
      ]
     },
     "execution_count": 49,
     "metadata": {},
     "output_type": "execute_result"
    }
   ],
   "source": [
    "#+#+#+#+#+#+#+#+#+#+#+#+#+#+#+#+#+#+#+#+#+#+#+#\n",
    "##ROUTINES FOR EXPORTING CSV TO VIAMERICAS S3##\n",
    "import awswrangler as wr\n",
    "file_name_target = 'target_14lags_Junio23.csv'\n",
    "\n",
    "wr.s3.to_csv(\n",
    "    df=target_ts_amount,\n",
    "    path=f's3://viamericas-datalake-dev-us-east-1-283731589572-analytics/Forecast/target/{file_name_target}',\n",
    "    dataset=False,\n",
    "    index=False\n",
    ")"
   ]
  },
  {
   "cell_type": "code",
   "execution_count": 50,
   "id": "c73b028b-89e5-4590-8ac2-7acf74a4fd6c",
   "metadata": {
    "tags": []
   },
   "outputs": [
    {
     "data": {
      "text/plain": [
       "{'paths': ['s3://viamericas-datalake-dev-us-east-1-283731589572-analytics/Forecast/related_ts_ds/related_ts_14lags_Junio23.csv'],\n",
       " 'partitions_values': {}}"
      ]
     },
     "execution_count": 50,
     "metadata": {},
     "output_type": "execute_result"
    }
   ],
   "source": [
    "file_name_ts = 'related_ts_14lags_Junio23.csv'\n",
    "\n",
    "wr.s3.to_csv(\n",
    "    df=related_ts_ds,\n",
    "    path=f's3://viamericas-datalake-dev-us-east-1-283731589572-analytics/Forecast/related_ts_ds/{file_name_ts}',\n",
    "    dataset=False,\n",
    "    index=False\n",
    ")"
   ]
  },
  {
   "cell_type": "code",
   "execution_count": 51,
   "id": "42ad5fb4-b51e-4e44-aa25-c91b628b71e6",
   "metadata": {
    "tags": []
   },
   "outputs": [
    {
     "data": {
      "text/plain": [
       "{'paths': ['s3://viamericas-datalake-dev-us-east-1-283731589572-analytics/Forecast/related_ts_ds/metadata_14lags_Junio23.csv'],\n",
       " 'partitions_values': {}}"
      ]
     },
     "execution_count": 51,
     "metadata": {},
     "output_type": "execute_result"
    }
   ],
   "source": [
    "file_name_metadata = 'metadata_14lags_Junio23.csv'\n",
    "\n",
    "wr.s3.to_csv(\n",
    "    df=metadata_ts,\n",
    "    path=f's3://viamericas-datalake-dev-us-east-1-283731589572-analytics/Forecast/related_ts_ds/{file_name_metadata}',\n",
    "    dataset=False,\n",
    "    index=False\n",
    ")"
   ]
  },
  {
   "cell_type": "code",
   "execution_count": null,
   "id": "498c0249-6fb6-4739-b6ef-7f62b32590fa",
   "metadata": {},
   "outputs": [],
   "source": []
  }
 ],
 "metadata": {
  "availableInstances": [
   {
    "_defaultOrder": 0,
    "_isFastLaunch": true,
    "category": "General purpose",
    "gpuNum": 0,
    "hideHardwareSpecs": false,
    "memoryGiB": 4,
    "name": "ml.t3.medium",
    "vcpuNum": 2
   },
   {
    "_defaultOrder": 1,
    "_isFastLaunch": false,
    "category": "General purpose",
    "gpuNum": 0,
    "hideHardwareSpecs": false,
    "memoryGiB": 8,
    "name": "ml.t3.large",
    "vcpuNum": 2
   },
   {
    "_defaultOrder": 2,
    "_isFastLaunch": false,
    "category": "General purpose",
    "gpuNum": 0,
    "hideHardwareSpecs": false,
    "memoryGiB": 16,
    "name": "ml.t3.xlarge",
    "vcpuNum": 4
   },
   {
    "_defaultOrder": 3,
    "_isFastLaunch": false,
    "category": "General purpose",
    "gpuNum": 0,
    "hideHardwareSpecs": false,
    "memoryGiB": 32,
    "name": "ml.t3.2xlarge",
    "vcpuNum": 8
   },
   {
    "_defaultOrder": 4,
    "_isFastLaunch": true,
    "category": "General purpose",
    "gpuNum": 0,
    "hideHardwareSpecs": false,
    "memoryGiB": 8,
    "name": "ml.m5.large",
    "vcpuNum": 2
   },
   {
    "_defaultOrder": 5,
    "_isFastLaunch": false,
    "category": "General purpose",
    "gpuNum": 0,
    "hideHardwareSpecs": false,
    "memoryGiB": 16,
    "name": "ml.m5.xlarge",
    "vcpuNum": 4
   },
   {
    "_defaultOrder": 6,
    "_isFastLaunch": false,
    "category": "General purpose",
    "gpuNum": 0,
    "hideHardwareSpecs": false,
    "memoryGiB": 32,
    "name": "ml.m5.2xlarge",
    "vcpuNum": 8
   },
   {
    "_defaultOrder": 7,
    "_isFastLaunch": false,
    "category": "General purpose",
    "gpuNum": 0,
    "hideHardwareSpecs": false,
    "memoryGiB": 64,
    "name": "ml.m5.4xlarge",
    "vcpuNum": 16
   },
   {
    "_defaultOrder": 8,
    "_isFastLaunch": false,
    "category": "General purpose",
    "gpuNum": 0,
    "hideHardwareSpecs": false,
    "memoryGiB": 128,
    "name": "ml.m5.8xlarge",
    "vcpuNum": 32
   },
   {
    "_defaultOrder": 9,
    "_isFastLaunch": false,
    "category": "General purpose",
    "gpuNum": 0,
    "hideHardwareSpecs": false,
    "memoryGiB": 192,
    "name": "ml.m5.12xlarge",
    "vcpuNum": 48
   },
   {
    "_defaultOrder": 10,
    "_isFastLaunch": false,
    "category": "General purpose",
    "gpuNum": 0,
    "hideHardwareSpecs": false,
    "memoryGiB": 256,
    "name": "ml.m5.16xlarge",
    "vcpuNum": 64
   },
   {
    "_defaultOrder": 11,
    "_isFastLaunch": false,
    "category": "General purpose",
    "gpuNum": 0,
    "hideHardwareSpecs": false,
    "memoryGiB": 384,
    "name": "ml.m5.24xlarge",
    "vcpuNum": 96
   },
   {
    "_defaultOrder": 12,
    "_isFastLaunch": false,
    "category": "General purpose",
    "gpuNum": 0,
    "hideHardwareSpecs": false,
    "memoryGiB": 8,
    "name": "ml.m5d.large",
    "vcpuNum": 2
   },
   {
    "_defaultOrder": 13,
    "_isFastLaunch": false,
    "category": "General purpose",
    "gpuNum": 0,
    "hideHardwareSpecs": false,
    "memoryGiB": 16,
    "name": "ml.m5d.xlarge",
    "vcpuNum": 4
   },
   {
    "_defaultOrder": 14,
    "_isFastLaunch": false,
    "category": "General purpose",
    "gpuNum": 0,
    "hideHardwareSpecs": false,
    "memoryGiB": 32,
    "name": "ml.m5d.2xlarge",
    "vcpuNum": 8
   },
   {
    "_defaultOrder": 15,
    "_isFastLaunch": false,
    "category": "General purpose",
    "gpuNum": 0,
    "hideHardwareSpecs": false,
    "memoryGiB": 64,
    "name": "ml.m5d.4xlarge",
    "vcpuNum": 16
   },
   {
    "_defaultOrder": 16,
    "_isFastLaunch": false,
    "category": "General purpose",
    "gpuNum": 0,
    "hideHardwareSpecs": false,
    "memoryGiB": 128,
    "name": "ml.m5d.8xlarge",
    "vcpuNum": 32
   },
   {
    "_defaultOrder": 17,
    "_isFastLaunch": false,
    "category": "General purpose",
    "gpuNum": 0,
    "hideHardwareSpecs": false,
    "memoryGiB": 192,
    "name": "ml.m5d.12xlarge",
    "vcpuNum": 48
   },
   {
    "_defaultOrder": 18,
    "_isFastLaunch": false,
    "category": "General purpose",
    "gpuNum": 0,
    "hideHardwareSpecs": false,
    "memoryGiB": 256,
    "name": "ml.m5d.16xlarge",
    "vcpuNum": 64
   },
   {
    "_defaultOrder": 19,
    "_isFastLaunch": false,
    "category": "General purpose",
    "gpuNum": 0,
    "hideHardwareSpecs": false,
    "memoryGiB": 384,
    "name": "ml.m5d.24xlarge",
    "vcpuNum": 96
   },
   {
    "_defaultOrder": 20,
    "_isFastLaunch": false,
    "category": "General purpose",
    "gpuNum": 0,
    "hideHardwareSpecs": true,
    "memoryGiB": 0,
    "name": "ml.geospatial.interactive",
    "supportedImageNames": [
     "sagemaker-geospatial-v1-0"
    ],
    "vcpuNum": 0
   },
   {
    "_defaultOrder": 21,
    "_isFastLaunch": true,
    "category": "Compute optimized",
    "gpuNum": 0,
    "hideHardwareSpecs": false,
    "memoryGiB": 4,
    "name": "ml.c5.large",
    "vcpuNum": 2
   },
   {
    "_defaultOrder": 22,
    "_isFastLaunch": false,
    "category": "Compute optimized",
    "gpuNum": 0,
    "hideHardwareSpecs": false,
    "memoryGiB": 8,
    "name": "ml.c5.xlarge",
    "vcpuNum": 4
   },
   {
    "_defaultOrder": 23,
    "_isFastLaunch": false,
    "category": "Compute optimized",
    "gpuNum": 0,
    "hideHardwareSpecs": false,
    "memoryGiB": 16,
    "name": "ml.c5.2xlarge",
    "vcpuNum": 8
   },
   {
    "_defaultOrder": 24,
    "_isFastLaunch": false,
    "category": "Compute optimized",
    "gpuNum": 0,
    "hideHardwareSpecs": false,
    "memoryGiB": 32,
    "name": "ml.c5.4xlarge",
    "vcpuNum": 16
   },
   {
    "_defaultOrder": 25,
    "_isFastLaunch": false,
    "category": "Compute optimized",
    "gpuNum": 0,
    "hideHardwareSpecs": false,
    "memoryGiB": 72,
    "name": "ml.c5.9xlarge",
    "vcpuNum": 36
   },
   {
    "_defaultOrder": 26,
    "_isFastLaunch": false,
    "category": "Compute optimized",
    "gpuNum": 0,
    "hideHardwareSpecs": false,
    "memoryGiB": 96,
    "name": "ml.c5.12xlarge",
    "vcpuNum": 48
   },
   {
    "_defaultOrder": 27,
    "_isFastLaunch": false,
    "category": "Compute optimized",
    "gpuNum": 0,
    "hideHardwareSpecs": false,
    "memoryGiB": 144,
    "name": "ml.c5.18xlarge",
    "vcpuNum": 72
   },
   {
    "_defaultOrder": 28,
    "_isFastLaunch": false,
    "category": "Compute optimized",
    "gpuNum": 0,
    "hideHardwareSpecs": false,
    "memoryGiB": 192,
    "name": "ml.c5.24xlarge",
    "vcpuNum": 96
   },
   {
    "_defaultOrder": 29,
    "_isFastLaunch": true,
    "category": "Accelerated computing",
    "gpuNum": 1,
    "hideHardwareSpecs": false,
    "memoryGiB": 16,
    "name": "ml.g4dn.xlarge",
    "vcpuNum": 4
   },
   {
    "_defaultOrder": 30,
    "_isFastLaunch": false,
    "category": "Accelerated computing",
    "gpuNum": 1,
    "hideHardwareSpecs": false,
    "memoryGiB": 32,
    "name": "ml.g4dn.2xlarge",
    "vcpuNum": 8
   },
   {
    "_defaultOrder": 31,
    "_isFastLaunch": false,
    "category": "Accelerated computing",
    "gpuNum": 1,
    "hideHardwareSpecs": false,
    "memoryGiB": 64,
    "name": "ml.g4dn.4xlarge",
    "vcpuNum": 16
   },
   {
    "_defaultOrder": 32,
    "_isFastLaunch": false,
    "category": "Accelerated computing",
    "gpuNum": 1,
    "hideHardwareSpecs": false,
    "memoryGiB": 128,
    "name": "ml.g4dn.8xlarge",
    "vcpuNum": 32
   },
   {
    "_defaultOrder": 33,
    "_isFastLaunch": false,
    "category": "Accelerated computing",
    "gpuNum": 4,
    "hideHardwareSpecs": false,
    "memoryGiB": 192,
    "name": "ml.g4dn.12xlarge",
    "vcpuNum": 48
   },
   {
    "_defaultOrder": 34,
    "_isFastLaunch": false,
    "category": "Accelerated computing",
    "gpuNum": 1,
    "hideHardwareSpecs": false,
    "memoryGiB": 256,
    "name": "ml.g4dn.16xlarge",
    "vcpuNum": 64
   },
   {
    "_defaultOrder": 35,
    "_isFastLaunch": false,
    "category": "Accelerated computing",
    "gpuNum": 1,
    "hideHardwareSpecs": false,
    "memoryGiB": 61,
    "name": "ml.p3.2xlarge",
    "vcpuNum": 8
   },
   {
    "_defaultOrder": 36,
    "_isFastLaunch": false,
    "category": "Accelerated computing",
    "gpuNum": 4,
    "hideHardwareSpecs": false,
    "memoryGiB": 244,
    "name": "ml.p3.8xlarge",
    "vcpuNum": 32
   },
   {
    "_defaultOrder": 37,
    "_isFastLaunch": false,
    "category": "Accelerated computing",
    "gpuNum": 8,
    "hideHardwareSpecs": false,
    "memoryGiB": 488,
    "name": "ml.p3.16xlarge",
    "vcpuNum": 64
   },
   {
    "_defaultOrder": 38,
    "_isFastLaunch": false,
    "category": "Accelerated computing",
    "gpuNum": 8,
    "hideHardwareSpecs": false,
    "memoryGiB": 768,
    "name": "ml.p3dn.24xlarge",
    "vcpuNum": 96
   },
   {
    "_defaultOrder": 39,
    "_isFastLaunch": false,
    "category": "Memory Optimized",
    "gpuNum": 0,
    "hideHardwareSpecs": false,
    "memoryGiB": 16,
    "name": "ml.r5.large",
    "vcpuNum": 2
   },
   {
    "_defaultOrder": 40,
    "_isFastLaunch": false,
    "category": "Memory Optimized",
    "gpuNum": 0,
    "hideHardwareSpecs": false,
    "memoryGiB": 32,
    "name": "ml.r5.xlarge",
    "vcpuNum": 4
   },
   {
    "_defaultOrder": 41,
    "_isFastLaunch": false,
    "category": "Memory Optimized",
    "gpuNum": 0,
    "hideHardwareSpecs": false,
    "memoryGiB": 64,
    "name": "ml.r5.2xlarge",
    "vcpuNum": 8
   },
   {
    "_defaultOrder": 42,
    "_isFastLaunch": false,
    "category": "Memory Optimized",
    "gpuNum": 0,
    "hideHardwareSpecs": false,
    "memoryGiB": 128,
    "name": "ml.r5.4xlarge",
    "vcpuNum": 16
   },
   {
    "_defaultOrder": 43,
    "_isFastLaunch": false,
    "category": "Memory Optimized",
    "gpuNum": 0,
    "hideHardwareSpecs": false,
    "memoryGiB": 256,
    "name": "ml.r5.8xlarge",
    "vcpuNum": 32
   },
   {
    "_defaultOrder": 44,
    "_isFastLaunch": false,
    "category": "Memory Optimized",
    "gpuNum": 0,
    "hideHardwareSpecs": false,
    "memoryGiB": 384,
    "name": "ml.r5.12xlarge",
    "vcpuNum": 48
   },
   {
    "_defaultOrder": 45,
    "_isFastLaunch": false,
    "category": "Memory Optimized",
    "gpuNum": 0,
    "hideHardwareSpecs": false,
    "memoryGiB": 512,
    "name": "ml.r5.16xlarge",
    "vcpuNum": 64
   },
   {
    "_defaultOrder": 46,
    "_isFastLaunch": false,
    "category": "Memory Optimized",
    "gpuNum": 0,
    "hideHardwareSpecs": false,
    "memoryGiB": 768,
    "name": "ml.r5.24xlarge",
    "vcpuNum": 96
   },
   {
    "_defaultOrder": 47,
    "_isFastLaunch": false,
    "category": "Accelerated computing",
    "gpuNum": 1,
    "hideHardwareSpecs": false,
    "memoryGiB": 16,
    "name": "ml.g5.xlarge",
    "vcpuNum": 4
   },
   {
    "_defaultOrder": 48,
    "_isFastLaunch": false,
    "category": "Accelerated computing",
    "gpuNum": 1,
    "hideHardwareSpecs": false,
    "memoryGiB": 32,
    "name": "ml.g5.2xlarge",
    "vcpuNum": 8
   },
   {
    "_defaultOrder": 49,
    "_isFastLaunch": false,
    "category": "Accelerated computing",
    "gpuNum": 1,
    "hideHardwareSpecs": false,
    "memoryGiB": 64,
    "name": "ml.g5.4xlarge",
    "vcpuNum": 16
   },
   {
    "_defaultOrder": 50,
    "_isFastLaunch": false,
    "category": "Accelerated computing",
    "gpuNum": 1,
    "hideHardwareSpecs": false,
    "memoryGiB": 128,
    "name": "ml.g5.8xlarge",
    "vcpuNum": 32
   },
   {
    "_defaultOrder": 51,
    "_isFastLaunch": false,
    "category": "Accelerated computing",
    "gpuNum": 1,
    "hideHardwareSpecs": false,
    "memoryGiB": 256,
    "name": "ml.g5.16xlarge",
    "vcpuNum": 64
   },
   {
    "_defaultOrder": 52,
    "_isFastLaunch": false,
    "category": "Accelerated computing",
    "gpuNum": 4,
    "hideHardwareSpecs": false,
    "memoryGiB": 192,
    "name": "ml.g5.12xlarge",
    "vcpuNum": 48
   },
   {
    "_defaultOrder": 53,
    "_isFastLaunch": false,
    "category": "Accelerated computing",
    "gpuNum": 4,
    "hideHardwareSpecs": false,
    "memoryGiB": 384,
    "name": "ml.g5.24xlarge",
    "vcpuNum": 96
   },
   {
    "_defaultOrder": 54,
    "_isFastLaunch": false,
    "category": "Accelerated computing",
    "gpuNum": 8,
    "hideHardwareSpecs": false,
    "memoryGiB": 768,
    "name": "ml.g5.48xlarge",
    "vcpuNum": 192
   },
   {
    "_defaultOrder": 55,
    "_isFastLaunch": false,
    "category": "Accelerated computing",
    "gpuNum": 8,
    "hideHardwareSpecs": false,
    "memoryGiB": 1152,
    "name": "ml.p4d.24xlarge",
    "vcpuNum": 96
   },
   {
    "_defaultOrder": 56,
    "_isFastLaunch": false,
    "category": "Accelerated computing",
    "gpuNum": 8,
    "hideHardwareSpecs": false,
    "memoryGiB": 1152,
    "name": "ml.p4de.24xlarge",
    "vcpuNum": 96
   },
   {
    "_defaultOrder": 57,
    "_isFastLaunch": false,
    "category": "Accelerated computing",
    "gpuNum": 0,
    "hideHardwareSpecs": false,
    "memoryGiB": 32,
    "name": "ml.trn1.2xlarge",
    "vcpuNum": 8
   },
   {
    "_defaultOrder": 58,
    "_isFastLaunch": false,
    "category": "Accelerated computing",
    "gpuNum": 0,
    "hideHardwareSpecs": false,
    "memoryGiB": 512,
    "name": "ml.trn1.32xlarge",
    "vcpuNum": 128
   },
   {
    "_defaultOrder": 59,
    "_isFastLaunch": false,
    "category": "Accelerated computing",
    "gpuNum": 0,
    "hideHardwareSpecs": false,
    "memoryGiB": 512,
    "name": "ml.trn1n.32xlarge",
    "vcpuNum": 128
   }
  ],
  "instance_type": "ml.m5.large",
  "kernelspec": {
   "display_name": "Python 3 (Data Science 3.0)",
   "language": "python",
   "name": "python3__SAGEMAKER_INTERNAL__arn:aws:sagemaker:us-east-1:081325390199:image/sagemaker-data-science-310-v1"
  },
  "language_info": {
   "codemirror_mode": {
    "name": "ipython",
    "version": 3
   },
   "file_extension": ".py",
   "mimetype": "text/x-python",
   "name": "python",
   "nbconvert_exporter": "python",
   "pygments_lexer": "ipython3",
   "version": "3.10.6"
  }
 },
 "nbformat": 4,
 "nbformat_minor": 5
}
