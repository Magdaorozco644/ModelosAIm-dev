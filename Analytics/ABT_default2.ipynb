{
 "cells": [
  {
   "cell_type": "markdown",
   "id": "34483368-5700-472a-ad87-40e0c569132b",
   "metadata": {},
   "source": [
    "# Making vars that compare between time periods"
   ]
  },
  {
   "cell_type": "code",
   "execution_count": 2,
   "id": "6fbff2eb-468d-4913-9852-6672f313bace",
   "metadata": {
    "tags": []
   },
   "outputs": [
    {
     "name": "stdout",
     "output_type": "stream",
     "text": [
      "Collecting awswrangler\n",
      "  Using cached awswrangler-3.9.0-py3-none-any.whl.metadata (17 kB)\n",
      "Requirement already satisfied: boto3<2.0.0,>=1.20.32 in /opt/conda/lib/python3.10/site-packages (from awswrangler) (1.34.84)\n",
      "Requirement already satisfied: botocore<2.0.0,>=1.23.32 in /opt/conda/lib/python3.10/site-packages (from awswrangler) (1.34.84)\n",
      "Requirement already satisfied: numpy<2.0,>=1.18 in /opt/conda/lib/python3.10/site-packages (from awswrangler) (1.26.4)\n",
      "Requirement already satisfied: packaging<25.0,>=21.1 in /opt/conda/lib/python3.10/site-packages (from awswrangler) (23.2)\n",
      "Requirement already satisfied: pandas<3.0.0,>=1.2.0 in /opt/conda/lib/python3.10/site-packages (from awswrangler) (2.2.2)\n",
      "Requirement already satisfied: pyarrow>=8.0.0 in /opt/conda/lib/python3.10/site-packages (from awswrangler) (15.0.2)\n",
      "Requirement already satisfied: typing-extensions<5.0.0,>=4.4.0 in /opt/conda/lib/python3.10/site-packages (from awswrangler) (4.11.0)\n",
      "Requirement already satisfied: jmespath<2.0.0,>=0.7.1 in /opt/conda/lib/python3.10/site-packages (from boto3<2.0.0,>=1.20.32->awswrangler) (1.0.1)\n",
      "Requirement already satisfied: s3transfer<0.11.0,>=0.10.0 in /opt/conda/lib/python3.10/site-packages (from boto3<2.0.0,>=1.20.32->awswrangler) (0.10.1)\n",
      "Requirement already satisfied: python-dateutil<3.0.0,>=2.1 in /opt/conda/lib/python3.10/site-packages (from botocore<2.0.0,>=1.23.32->awswrangler) (2.9.0)\n",
      "Requirement already satisfied: urllib3!=2.2.0,<3,>=1.25.4 in /opt/conda/lib/python3.10/site-packages (from botocore<2.0.0,>=1.23.32->awswrangler) (2.2.1)\n",
      "Requirement already satisfied: pytz>=2020.1 in /opt/conda/lib/python3.10/site-packages (from pandas<3.0.0,>=1.2.0->awswrangler) (2024.1)\n",
      "Requirement already satisfied: tzdata>=2022.7 in /opt/conda/lib/python3.10/site-packages (from pandas<3.0.0,>=1.2.0->awswrangler) (2024.1)\n",
      "Requirement already satisfied: six>=1.5 in /opt/conda/lib/python3.10/site-packages (from python-dateutil<3.0.0,>=2.1->botocore<2.0.0,>=1.23.32->awswrangler) (1.16.0)\n",
      "Using cached awswrangler-3.9.0-py3-none-any.whl (381 kB)\n",
      "Installing collected packages: awswrangler\n",
      "Successfully installed awswrangler-3.9.0\n",
      "\u001b[33mWARNING: Running pip as the 'root' user can result in broken permissions and conflicting behaviour with the system package manager. It is recommended to use a virtual environment instead: https://pip.pypa.io/warnings/venv\u001b[0m\u001b[33m\n",
      "\u001b[0mNote: you may need to restart the kernel to use updated packages.\n"
     ]
    }
   ],
   "source": [
    "pip install awswrangler"
   ]
  },
  {
   "cell_type": "code",
   "execution_count": 3,
   "id": "1400684b-f38e-44d6-af62-19045844aabb",
   "metadata": {
    "tags": []
   },
   "outputs": [
    {
     "name": "stdout",
     "output_type": "stream",
     "text": [
      "Collecting PyAthena\n",
      "  Using cached pyathena-3.9.0-py3-none-any.whl.metadata (6.3 kB)\n",
      "Requirement already satisfied: boto3>=1.26.4 in /opt/conda/lib/python3.10/site-packages (from PyAthena) (1.34.84)\n",
      "Requirement already satisfied: botocore>=1.29.4 in /opt/conda/lib/python3.10/site-packages (from PyAthena) (1.34.84)\n",
      "Requirement already satisfied: fsspec in /opt/conda/lib/python3.10/site-packages (from PyAthena) (2024.3.1)\n",
      "Requirement already satisfied: python-dateutil in /opt/conda/lib/python3.10/site-packages (from PyAthena) (2.9.0)\n",
      "Requirement already satisfied: tenacity>=4.1.0 in /opt/conda/lib/python3.10/site-packages (from PyAthena) (8.2.3)\n",
      "Requirement already satisfied: jmespath<2.0.0,>=0.7.1 in /opt/conda/lib/python3.10/site-packages (from boto3>=1.26.4->PyAthena) (1.0.1)\n",
      "Requirement already satisfied: s3transfer<0.11.0,>=0.10.0 in /opt/conda/lib/python3.10/site-packages (from boto3>=1.26.4->PyAthena) (0.10.1)\n",
      "Requirement already satisfied: urllib3!=2.2.0,<3,>=1.25.4 in /opt/conda/lib/python3.10/site-packages (from botocore>=1.29.4->PyAthena) (2.2.1)\n",
      "Requirement already satisfied: six>=1.5 in /opt/conda/lib/python3.10/site-packages (from python-dateutil->PyAthena) (1.16.0)\n",
      "Using cached pyathena-3.9.0-py3-none-any.whl (75 kB)\n",
      "Installing collected packages: PyAthena\n",
      "Successfully installed PyAthena-3.9.0\n",
      "\u001b[33mWARNING: Running pip as the 'root' user can result in broken permissions and conflicting behaviour with the system package manager. It is recommended to use a virtual environment instead: https://pip.pypa.io/warnings/venv\u001b[0m\u001b[33m\n",
      "\u001b[0m"
     ]
    }
   ],
   "source": [
    "import sys\n",
    "!{sys.executable} -m pip install PyAthena"
   ]
  },
  {
   "cell_type": "code",
   "execution_count": 29,
   "id": "f5564cfe-b2f5-4440-9f6a-168860598d5c",
   "metadata": {
    "tags": []
   },
   "outputs": [],
   "source": [
    "import awswrangler as wr\n",
    "import pandas as pd\n",
    "import numpy as np\n",
    "import datetime as dt\n",
    "from datetime import datetime\n",
    "from pyathena import connect\n",
    "import matplotlib.pyplot as plt\n",
    "import seaborn as sns"
   ]
  },
  {
   "cell_type": "markdown",
   "id": "ef5c86f3-4585-4b37-8df8-a4c519359b38",
   "metadata": {},
   "source": [
    "# With target added"
   ]
  },
  {
   "cell_type": "code",
   "execution_count": 5,
   "id": "08df732c-d396-4ef9-bf3d-fa4ad4b719ef",
   "metadata": {
    "tags": []
   },
   "outputs": [],
   "source": [
    "df = pd.read_csv('default_ABT1.csv')"
   ]
  },
  {
   "cell_type": "code",
   "execution_count": 6,
   "id": "d5ce513f-b701-488d-9a6f-cf56376497ed",
   "metadata": {
    "tags": []
   },
   "outputs": [],
   "source": [
    "df['DATE'] = pd.to_datetime(df['DATE'])"
   ]
  },
  {
   "cell_type": "code",
   "execution_count": 7,
   "id": "8a658e98-2411-4a03-82c2-5cc0b88276da",
   "metadata": {
    "tags": []
   },
   "outputs": [],
   "source": [
    "#sort values adecuado para todos los calculos hacia atrás!\n",
    "df=df.sort_values(by=['ID_BRANCH', 'DATE'])"
   ]
  },
  {
   "cell_type": "code",
   "execution_count": 8,
   "id": "f7a60a75-6819-4104-9272-b4842aa357b0",
   "metadata": {
    "tags": []
   },
   "outputs": [],
   "source": [
    "def calculate_rolling_means(df, columns, window):\n",
    "    # Create an empty DataFrame to hold the results\n",
    "    result_df = pd.DataFrame()\n",
    "\n",
    "    # Loop through each column in the list of columns\n",
    "    for column in columns:\n",
    "        # Calculate the rolling mean for the current column\n",
    "        rolling_mean = df.set_index('DATE').groupby('ID_BRANCH', sort=False)[column].rolling(window).mean().round(2).to_numpy()\n",
    "\n",
    "        # Add the rolling mean to the result DataFrame\n",
    "        result_df[f'roll_mean_{window}_{column}'] = rolling_mean\n",
    "\n",
    "    # Concatenate the original DataFrame with the result DataFrame\n",
    "    result_df = pd.concat([df, result_df], axis=1)\n",
    "\n",
    "    return result_df\n"
   ]
  },
  {
   "cell_type": "code",
   "execution_count": 9,
   "id": "985c5365-84ea-4015-8992-09afa3ee913e",
   "metadata": {
    "tags": []
   },
   "outputs": [],
   "source": [
    "df = calculate_rolling_means(df, [\"AMOUNT\", \"BALANCE\", \"TOTAL_AMOUNT_MO\", \"TOTAL_AMOUNT_check\", 'TX', 'TX_MO', 'TX_check', 'DEFAULT'], '30D')\n",
    "df = calculate_rolling_means(df, [\"AMOUNT\", \"BALANCE\", \"TOTAL_AMOUNT_MO\", \"TOTAL_AMOUNT_check\", 'TX', 'TX_MO', 'TX_check', 'DEFAULT'], '7D')"
   ]
  },
  {
   "cell_type": "code",
   "execution_count": 10,
   "id": "3d10c690-e8a9-482f-b83e-cfd8eb08e990",
   "metadata": {
    "tags": []
   },
   "outputs": [],
   "source": [
    "def calculate_rolling_max(df, columns, window):\n",
    "    # Create an empty DataFrame to hold the results\n",
    "    result_df = pd.DataFrame()\n",
    "\n",
    "    # Loop through each column in the list of columns\n",
    "    for column in columns:\n",
    "        # Calculate the rolling mean for the current column\n",
    "        rolling_mean = df.set_index('DATE').groupby('ID_BRANCH', sort=False)[column].rolling(window).max().to_numpy()\n",
    "\n",
    "        # Add the rolling mean to the result DataFrame\n",
    "        result_df[f'roll_max_{window}_{column}'] = rolling_mean\n",
    "\n",
    "    # Concatenate the original DataFrame with the result DataFrame\n",
    "    result_df = pd.concat([df, result_df], axis=1)\n",
    "\n",
    "    return result_df"
   ]
  },
  {
   "cell_type": "code",
   "execution_count": 11,
   "id": "004bf457-c3b4-43df-8e67-860ce1c1df62",
   "metadata": {
    "tags": []
   },
   "outputs": [],
   "source": [
    "df = calculate_rolling_max(df, [\"AMOUNT\", \"BALANCE\", \"TOTAL_AMOUNT_MO\", \"TOTAL_AMOUNT_check\", 'TX', 'TX_MO', 'TX_check', 'DEFAULT'], '7D')\n",
    "df = calculate_rolling_max(df, [\"AMOUNT\", \"BALANCE\", \"TOTAL_AMOUNT_MO\", \"TOTAL_AMOUNT_check\", 'TX', 'TX_MO', 'TX_check', 'DEFAULT'], '30D')"
   ]
  },
  {
   "cell_type": "code",
   "execution_count": 12,
   "id": "3e1a4967-5455-4a56-bfeb-bd37b898b627",
   "metadata": {
    "tags": []
   },
   "outputs": [],
   "source": [
    "\n",
    "def calculate_lag(df, columns, window):\n",
    "    # Create an empty DataFrame to hold the results\n",
    "    result_df = pd.DataFrame()\n",
    "\n",
    "    # Loop through each column in the list of columns\n",
    "    for column in columns:\n",
    "        # Calculate the rolling mean for the current column\n",
    "        rolling_mean = df.set_index('DATE').groupby('ID_BRANCH', sort=False)[column].shift(window).to_numpy()\n",
    "\n",
    "        # Add the rolling mean to the result DataFrame\n",
    "        result_df[f'lag_{window}_{column}'] = rolling_mean\n",
    "\n",
    "    # Concatenate the original DataFrame with the result DataFrame\n",
    "    result_df = pd.concat([df, result_df], axis=1)\n",
    "\n",
    "    return result_df"
   ]
  },
  {
   "cell_type": "code",
   "execution_count": 13,
   "id": "8957779b-c97d-4864-8345-c3d991c59299",
   "metadata": {
    "tags": []
   },
   "outputs": [],
   "source": [
    "df = calculate_lag(df, [\"AMOUNT\", \"BALANCE\", \"TOTAL_AMOUNT_MO\", \"TOTAL_AMOUNT_check\", 'TX', 'TX_MO', 'TX_check', 'DEFAULT'], 1)"
   ]
  },
  {
   "cell_type": "code",
   "execution_count": 14,
   "id": "a00ff2c5-bd1d-41a6-8d85-0afec3614a99",
   "metadata": {
    "tags": []
   },
   "outputs": [
    {
     "data": {
      "text/plain": [
       "Index(['DATE', 'ID_BRANCH', 'TX', 'AMOUNT', 'BALANCE', 'TX_check',\n",
       "       'TOTAL_AMOUNT_check', 'TX_MO', 'TOTAL_AMOUNT_MO', 'DSO_DEPO_DAY',\n",
       "       'INACTIVE_DAYS', 'DEFAULT', 'AGENCY', 'ID_GROUP_COMPANY', 'START_DATE',\n",
       "       'day_of_week', 'TARGET', 'roll_mean_30D_AMOUNT',\n",
       "       'roll_mean_30D_BALANCE', 'roll_mean_30D_TOTAL_AMOUNT_MO',\n",
       "       'roll_mean_30D_TOTAL_AMOUNT_check', 'roll_mean_30D_TX',\n",
       "       'roll_mean_30D_TX_MO', 'roll_mean_30D_TX_check',\n",
       "       'roll_mean_30D_DEFAULT', 'roll_mean_7D_AMOUNT', 'roll_mean_7D_BALANCE',\n",
       "       'roll_mean_7D_TOTAL_AMOUNT_MO', 'roll_mean_7D_TOTAL_AMOUNT_check',\n",
       "       'roll_mean_7D_TX', 'roll_mean_7D_TX_MO', 'roll_mean_7D_TX_check',\n",
       "       'roll_mean_7D_DEFAULT', 'roll_max_7D_AMOUNT', 'roll_max_7D_BALANCE',\n",
       "       'roll_max_7D_TOTAL_AMOUNT_MO', 'roll_max_7D_TOTAL_AMOUNT_check',\n",
       "       'roll_max_7D_TX', 'roll_max_7D_TX_MO', 'roll_max_7D_TX_check',\n",
       "       'roll_max_7D_DEFAULT', 'roll_max_30D_AMOUNT', 'roll_max_30D_BALANCE',\n",
       "       'roll_max_30D_TOTAL_AMOUNT_MO', 'roll_max_30D_TOTAL_AMOUNT_check',\n",
       "       'roll_max_30D_TX', 'roll_max_30D_TX_MO', 'roll_max_30D_TX_check',\n",
       "       'roll_max_30D_DEFAULT', 'lag_1_AMOUNT', 'lag_1_BALANCE',\n",
       "       'lag_1_TOTAL_AMOUNT_MO', 'lag_1_TOTAL_AMOUNT_check', 'lag_1_TX',\n",
       "       'lag_1_TX_MO', 'lag_1_TX_check', 'lag_1_DEFAULT'],\n",
       "      dtype='object')"
      ]
     },
     "execution_count": 14,
     "metadata": {},
     "output_type": "execute_result"
    }
   ],
   "source": [
    "df.columns"
   ]
  },
  {
   "cell_type": "code",
   "execution_count": 15,
   "id": "ae9d912a-454d-4281-8e00-06bf1935bf9c",
   "metadata": {
    "tags": []
   },
   "outputs": [],
   "source": [
    "df = calculate_lag(df, [\"AMOUNT\", \"BALANCE\", \"TOTAL_AMOUNT_MO\", \"TOTAL_AMOUNT_check\", 'TX', 'TX_MO', 'TX_check', 'DEFAULT'], 2)\n",
    "df = calculate_lag(df, [\"AMOUNT\", \"BALANCE\", \"TOTAL_AMOUNT_MO\", \"TOTAL_AMOUNT_check\", 'TX', 'TX_MO', 'TX_check', 'DEFAULT'], 7)\n",
    "df = calculate_lag(df, [\"AMOUNT\", \"BALANCE\", \"TOTAL_AMOUNT_MO\", \"TOTAL_AMOUNT_check\", 'TX', 'TX_MO', 'TX_check', 'DEFAULT'], 30)"
   ]
  },
  {
   "cell_type": "code",
   "execution_count": 16,
   "id": "1a815744-1a32-457b-b1b7-aa092ba0ec57",
   "metadata": {
    "tags": []
   },
   "outputs": [],
   "source": [
    "def calculate_rolling_sum(df, columns, window):\n",
    "    # Create an empty DataFrame to hold the results\n",
    "    result_df = pd.DataFrame()\n",
    "\n",
    "    # Loop through each column in the list of columns\n",
    "    for column in columns:\n",
    "        # Calculate the rolling mean for the current column\n",
    "        rolling_mean = df.set_index('DATE').groupby('ID_BRANCH', sort=False)[column].rolling(window).sum().to_numpy()\n",
    "\n",
    "        # Add the rolling mean to the result DataFrame\n",
    "        result_df[f'roll_sum_{window}_{column}'] = rolling_mean\n",
    "\n",
    "    # Concatenate the original DataFrame with the result DataFrame\n",
    "    result_df = pd.concat([df, result_df], axis=1)\n",
    "\n",
    "    return result_df"
   ]
  },
  {
   "cell_type": "code",
   "execution_count": 17,
   "id": "b2e8e6d1-4a6d-481e-9027-0785e7084822",
   "metadata": {
    "tags": []
   },
   "outputs": [],
   "source": [
    "df = calculate_rolling_sum(df, [\"AMOUNT\", \"BALANCE\", \"TOTAL_AMOUNT_MO\", \"TOTAL_AMOUNT_check\", 'TX', 'TX_MO', 'TX_check', 'DEFAULT'], 7)\n",
    "df = calculate_rolling_sum(df, [\"AMOUNT\", \"BALANCE\", \"TOTAL_AMOUNT_MO\", \"TOTAL_AMOUNT_check\", 'TX', 'TX_MO', 'TX_check', 'DEFAULT'], 30)\n",
    "df = calculate_rolling_sum(df, [\"AMOUNT\", \"BALANCE\", \"TOTAL_AMOUNT_MO\", \"TOTAL_AMOUNT_check\", 'TX', 'TX_MO', 'TX_check', 'DEFAULT'], 60)"
   ]
  },
  {
   "cell_type": "code",
   "execution_count": 32,
   "id": "ed57743c-4323-4db7-a89f-2f82a7d06cca",
   "metadata": {
    "tags": []
   },
   "outputs": [],
   "source": [
    "df.to_csv('default_ABT2.csv', index = False)"
   ]
  },
  {
   "cell_type": "code",
   "execution_count": 19,
   "id": "4d7f1cb2-cf56-4359-a9c2-ae79cf64b4ac",
   "metadata": {
    "tags": []
   },
   "outputs": [
    {
     "data": {
      "text/plain": [
       "Index(['DATE', 'ID_BRANCH', 'TX', 'AMOUNT', 'BALANCE', 'TX_check',\n",
       "       'TOTAL_AMOUNT_check', 'TX_MO', 'TOTAL_AMOUNT_MO', 'DSO_DEPO_DAY',\n",
       "       ...\n",
       "       'roll_sum_30_TX_check', 'roll_sum_30_DEFAULT', 'roll_sum_60_AMOUNT',\n",
       "       'roll_sum_60_BALANCE', 'roll_sum_60_TOTAL_AMOUNT_MO',\n",
       "       'roll_sum_60_TOTAL_AMOUNT_check', 'roll_sum_60_TX', 'roll_sum_60_TX_MO',\n",
       "       'roll_sum_60_TX_check', 'roll_sum_60_DEFAULT'],\n",
       "      dtype='object', length=105)"
      ]
     },
     "execution_count": 19,
     "metadata": {},
     "output_type": "execute_result"
    }
   ],
   "source": [
    "df.columns"
   ]
  },
  {
   "cell_type": "markdown",
   "id": "2b96e333-7053-442e-8825-9f5dc8deb699",
   "metadata": {},
   "source": [
    "# days from opening?"
   ]
  },
  {
   "cell_type": "code",
   "execution_count": null,
   "id": "889cc82d-4554-4e48-9c17-9cee4b537886",
   "metadata": {},
   "outputs": [],
   "source": [
    "'START_DATE', 'DATE'"
   ]
  },
  {
   "cell_type": "code",
   "execution_count": 26,
   "id": "fc38223a-f4d9-478b-a57b-8a37353db0b0",
   "metadata": {
    "tags": []
   },
   "outputs": [],
   "source": [
    "df['DATE'] = pd.to_datetime(df['DATE'])\n",
    "df['START_DATE'] = pd.to_datetime(df['START_DATE'])"
   ]
  },
  {
   "cell_type": "code",
   "execution_count": 27,
   "id": "a65f12fd-c09f-4a3d-88dd-e5258f8a5540",
   "metadata": {
    "tags": []
   },
   "outputs": [
    {
     "data": {
      "text/plain": [
       "DATE                              datetime64[ns]\n",
       "ID_BRANCH                                 object\n",
       "TX                                       float64\n",
       "AMOUNT                                   float64\n",
       "BALANCE                                  float64\n",
       "                                       ...      \n",
       "roll_sum_60_TOTAL_AMOUNT_check           float64\n",
       "roll_sum_60_TX                           float64\n",
       "roll_sum_60_TX_MO                        float64\n",
       "roll_sum_60_TX_check                     float64\n",
       "roll_sum_60_DEFAULT                      float64\n",
       "Length: 105, dtype: object"
      ]
     },
     "execution_count": 27,
     "metadata": {},
     "output_type": "execute_result"
    }
   ],
   "source": [
    "df.dtypes"
   ]
  },
  {
   "cell_type": "code",
   "execution_count": 30,
   "id": "546ff855-a1a0-4291-9a92-94b943f52f5b",
   "metadata": {
    "tags": []
   },
   "outputs": [],
   "source": [
    "df['ANTIGUEDAD_d'] = (df['DATE'] - df['START_DATE']) / np.timedelta64(1, 'D')\n",
    "#df['ANTIGUEDAD_w'] = (df['DATE'] - df['START_DATE']) / np.timedelta64(1, 'W')\n",
    "#df['ANTIGUEDAD_m'] = (df['DATE'] - df['START_DATE']) / np.timedelta64(1, 'M')"
   ]
  },
  {
   "cell_type": "code",
   "execution_count": 31,
   "id": "99fe11bf-380f-4f44-a130-7e99dfda6fd8",
   "metadata": {
    "tags": []
   },
   "outputs": [],
   "source": [
    "df['DATE'] = df['DATE'].dt.strftime('%Y-%m-%d')\n",
    "df['START_DATE'] = df['START_DATE'].dt.strftime('%Y-%m-%d')"
   ]
  },
  {
   "cell_type": "code",
   "execution_count": null,
   "id": "9ca1d28a-8158-44cd-b575-f82cd5a35a64",
   "metadata": {},
   "outputs": [],
   "source": []
  },
  {
   "cell_type": "code",
   "execution_count": null,
   "id": "8a808808-befd-4010-b74d-25c473364fe2",
   "metadata": {},
   "outputs": [],
   "source": [
    "def calculate_pct_change(df, columns, windows):\n",
    "    # Create an empty DataFrame to hold the results\n",
    "    result_df = pd.DataFrame()\n",
    "\n",
    "    # Loop through each column in the list of columns\n",
    "    for column in columns:\n",
    "        # Loop through each window in the list of windows\n",
    "        for window in windows:\n",
    "            # Calculate the rolling mean for the current column and window\n",
    "            rolling_mean = df.set_index('DATE').groupby('ID_BRANCH', sort=False)[column].rolling(window).mean().round(2)\n",
    "\n",
    "            # Calculate the percentage difference between the rolling mean columns\n",
    "            pct_change = rolling_mean.pct_change(axis='columns', periods=len(windows)-1)\n",
    "\n",
    "            # Add the percentage difference to the result DataFrame\n",
    "            result_df[f'pct_change_{window}_{column}'] = pct_change\n",
    "\n",
    "    # Concatenate the original DataFrame with the result DataFrame\n",
    "    result_df = pd.concat([df, result_df], axis=1)\n",
    "\n",
    "    return result_df\n"
   ]
  },
  {
   "cell_type": "code",
   "execution_count": null,
   "id": "f3ff6f04-7edc-4c36-a9ed-b5d675fd9730",
   "metadata": {},
   "outputs": [],
   "source": [
    "merged_df = calculate_pct_change(merged_df, ['BALANCE', 'OTHER_COLUMN1', 'OTHER_COLUMN2'], [2, 7, 30])"
   ]
  },
  {
   "cell_type": "code",
   "execution_count": null,
   "id": "e894cf4d-1661-4b3b-a125-8e7123eab989",
   "metadata": {},
   "outputs": [],
   "source": [
    "# Create a new column 'sales_diff' that represents the difference\n",
    "# in sales from the previous period\n",
    "df['sales_diff'] = df['sales'].diff()\n",
    "\n",
    "# The first value in 'sales_diff' will be NaN, since there's no previous value\n",
    "# You can fill this NaN with 0 or another appropriate value\n",
    "df['sales_diff'].fillna(0, inplace=True)"
   ]
  },
  {
   "cell_type": "code",
   "execution_count": null,
   "id": "5a9b3a1b-f319-4662-aae6-f3690385f503",
   "metadata": {},
   "outputs": [],
   "source": [
    "# Create a new column 'sales_pct_change' that represents the percentage change\n",
    "# in sales from the previous period\n",
    "df['sales_pct_change'] = df['sales'].pct_change() #compara entre filas\n",
    "df.pct_change(axis='columns', periods=-1) #compara entre columnas\n",
    "#Despite the name of this method, it calculates fractional change (also known as per unit change or relative change) and not percentage change. If you need the percentage change, multiply these values by 100."
   ]
  },
  {
   "cell_type": "code",
   "execution_count": null,
   "id": "2f2e5c6d-dd25-45b6-99a4-40cc09bcbfb7",
   "metadata": {},
   "outputs": [],
   "source": []
  },
  {
   "cell_type": "code",
   "execution_count": null,
   "id": "348473c2-106a-415e-9b04-5532e5ab6efc",
   "metadata": {},
   "outputs": [],
   "source": []
  },
  {
   "cell_type": "code",
   "execution_count": null,
   "id": "83f3861d-33ec-40bd-9aa8-9cde26e18b13",
   "metadata": {},
   "outputs": [],
   "source": []
  },
  {
   "cell_type": "code",
   "execution_count": null,
   "id": "53a6c525-88c7-4acb-a7d0-ff8325e4bcba",
   "metadata": {},
   "outputs": [],
   "source": []
  },
  {
   "cell_type": "code",
   "execution_count": null,
   "id": "71f5aba3-37b0-4acd-95aa-6e56e8ecd730",
   "metadata": {},
   "outputs": [],
   "source": []
  },
  {
   "cell_type": "code",
   "execution_count": null,
   "id": "3051f579-8273-468b-bb9e-fc4291e62481",
   "metadata": {},
   "outputs": [],
   "source": []
  }
 ],
 "metadata": {
  "availableInstances": [
   {
    "_defaultOrder": 0,
    "_isFastLaunch": true,
    "category": "General purpose",
    "gpuNum": 0,
    "hideHardwareSpecs": false,
    "memoryGiB": 4,
    "name": "ml.t3.medium",
    "vcpuNum": 2
   },
   {
    "_defaultOrder": 1,
    "_isFastLaunch": false,
    "category": "General purpose",
    "gpuNum": 0,
    "hideHardwareSpecs": false,
    "memoryGiB": 8,
    "name": "ml.t3.large",
    "vcpuNum": 2
   },
   {
    "_defaultOrder": 2,
    "_isFastLaunch": false,
    "category": "General purpose",
    "gpuNum": 0,
    "hideHardwareSpecs": false,
    "memoryGiB": 16,
    "name": "ml.t3.xlarge",
    "vcpuNum": 4
   },
   {
    "_defaultOrder": 3,
    "_isFastLaunch": false,
    "category": "General purpose",
    "gpuNum": 0,
    "hideHardwareSpecs": false,
    "memoryGiB": 32,
    "name": "ml.t3.2xlarge",
    "vcpuNum": 8
   },
   {
    "_defaultOrder": 4,
    "_isFastLaunch": true,
    "category": "General purpose",
    "gpuNum": 0,
    "hideHardwareSpecs": false,
    "memoryGiB": 8,
    "name": "ml.m5.large",
    "vcpuNum": 2
   },
   {
    "_defaultOrder": 5,
    "_isFastLaunch": false,
    "category": "General purpose",
    "gpuNum": 0,
    "hideHardwareSpecs": false,
    "memoryGiB": 16,
    "name": "ml.m5.xlarge",
    "vcpuNum": 4
   },
   {
    "_defaultOrder": 6,
    "_isFastLaunch": false,
    "category": "General purpose",
    "gpuNum": 0,
    "hideHardwareSpecs": false,
    "memoryGiB": 32,
    "name": "ml.m5.2xlarge",
    "vcpuNum": 8
   },
   {
    "_defaultOrder": 7,
    "_isFastLaunch": false,
    "category": "General purpose",
    "gpuNum": 0,
    "hideHardwareSpecs": false,
    "memoryGiB": 64,
    "name": "ml.m5.4xlarge",
    "vcpuNum": 16
   },
   {
    "_defaultOrder": 8,
    "_isFastLaunch": false,
    "category": "General purpose",
    "gpuNum": 0,
    "hideHardwareSpecs": false,
    "memoryGiB": 128,
    "name": "ml.m5.8xlarge",
    "vcpuNum": 32
   },
   {
    "_defaultOrder": 9,
    "_isFastLaunch": false,
    "category": "General purpose",
    "gpuNum": 0,
    "hideHardwareSpecs": false,
    "memoryGiB": 192,
    "name": "ml.m5.12xlarge",
    "vcpuNum": 48
   },
   {
    "_defaultOrder": 10,
    "_isFastLaunch": false,
    "category": "General purpose",
    "gpuNum": 0,
    "hideHardwareSpecs": false,
    "memoryGiB": 256,
    "name": "ml.m5.16xlarge",
    "vcpuNum": 64
   },
   {
    "_defaultOrder": 11,
    "_isFastLaunch": false,
    "category": "General purpose",
    "gpuNum": 0,
    "hideHardwareSpecs": false,
    "memoryGiB": 384,
    "name": "ml.m5.24xlarge",
    "vcpuNum": 96
   },
   {
    "_defaultOrder": 12,
    "_isFastLaunch": false,
    "category": "General purpose",
    "gpuNum": 0,
    "hideHardwareSpecs": false,
    "memoryGiB": 8,
    "name": "ml.m5d.large",
    "vcpuNum": 2
   },
   {
    "_defaultOrder": 13,
    "_isFastLaunch": false,
    "category": "General purpose",
    "gpuNum": 0,
    "hideHardwareSpecs": false,
    "memoryGiB": 16,
    "name": "ml.m5d.xlarge",
    "vcpuNum": 4
   },
   {
    "_defaultOrder": 14,
    "_isFastLaunch": false,
    "category": "General purpose",
    "gpuNum": 0,
    "hideHardwareSpecs": false,
    "memoryGiB": 32,
    "name": "ml.m5d.2xlarge",
    "vcpuNum": 8
   },
   {
    "_defaultOrder": 15,
    "_isFastLaunch": false,
    "category": "General purpose",
    "gpuNum": 0,
    "hideHardwareSpecs": false,
    "memoryGiB": 64,
    "name": "ml.m5d.4xlarge",
    "vcpuNum": 16
   },
   {
    "_defaultOrder": 16,
    "_isFastLaunch": false,
    "category": "General purpose",
    "gpuNum": 0,
    "hideHardwareSpecs": false,
    "memoryGiB": 128,
    "name": "ml.m5d.8xlarge",
    "vcpuNum": 32
   },
   {
    "_defaultOrder": 17,
    "_isFastLaunch": false,
    "category": "General purpose",
    "gpuNum": 0,
    "hideHardwareSpecs": false,
    "memoryGiB": 192,
    "name": "ml.m5d.12xlarge",
    "vcpuNum": 48
   },
   {
    "_defaultOrder": 18,
    "_isFastLaunch": false,
    "category": "General purpose",
    "gpuNum": 0,
    "hideHardwareSpecs": false,
    "memoryGiB": 256,
    "name": "ml.m5d.16xlarge",
    "vcpuNum": 64
   },
   {
    "_defaultOrder": 19,
    "_isFastLaunch": false,
    "category": "General purpose",
    "gpuNum": 0,
    "hideHardwareSpecs": false,
    "memoryGiB": 384,
    "name": "ml.m5d.24xlarge",
    "vcpuNum": 96
   },
   {
    "_defaultOrder": 20,
    "_isFastLaunch": false,
    "category": "General purpose",
    "gpuNum": 0,
    "hideHardwareSpecs": true,
    "memoryGiB": 0,
    "name": "ml.geospatial.interactive",
    "supportedImageNames": [
     "sagemaker-geospatial-v1-0"
    ],
    "vcpuNum": 0
   },
   {
    "_defaultOrder": 21,
    "_isFastLaunch": true,
    "category": "Compute optimized",
    "gpuNum": 0,
    "hideHardwareSpecs": false,
    "memoryGiB": 4,
    "name": "ml.c5.large",
    "vcpuNum": 2
   },
   {
    "_defaultOrder": 22,
    "_isFastLaunch": false,
    "category": "Compute optimized",
    "gpuNum": 0,
    "hideHardwareSpecs": false,
    "memoryGiB": 8,
    "name": "ml.c5.xlarge",
    "vcpuNum": 4
   },
   {
    "_defaultOrder": 23,
    "_isFastLaunch": false,
    "category": "Compute optimized",
    "gpuNum": 0,
    "hideHardwareSpecs": false,
    "memoryGiB": 16,
    "name": "ml.c5.2xlarge",
    "vcpuNum": 8
   },
   {
    "_defaultOrder": 24,
    "_isFastLaunch": false,
    "category": "Compute optimized",
    "gpuNum": 0,
    "hideHardwareSpecs": false,
    "memoryGiB": 32,
    "name": "ml.c5.4xlarge",
    "vcpuNum": 16
   },
   {
    "_defaultOrder": 25,
    "_isFastLaunch": false,
    "category": "Compute optimized",
    "gpuNum": 0,
    "hideHardwareSpecs": false,
    "memoryGiB": 72,
    "name": "ml.c5.9xlarge",
    "vcpuNum": 36
   },
   {
    "_defaultOrder": 26,
    "_isFastLaunch": false,
    "category": "Compute optimized",
    "gpuNum": 0,
    "hideHardwareSpecs": false,
    "memoryGiB": 96,
    "name": "ml.c5.12xlarge",
    "vcpuNum": 48
   },
   {
    "_defaultOrder": 27,
    "_isFastLaunch": false,
    "category": "Compute optimized",
    "gpuNum": 0,
    "hideHardwareSpecs": false,
    "memoryGiB": 144,
    "name": "ml.c5.18xlarge",
    "vcpuNum": 72
   },
   {
    "_defaultOrder": 28,
    "_isFastLaunch": false,
    "category": "Compute optimized",
    "gpuNum": 0,
    "hideHardwareSpecs": false,
    "memoryGiB": 192,
    "name": "ml.c5.24xlarge",
    "vcpuNum": 96
   },
   {
    "_defaultOrder": 29,
    "_isFastLaunch": true,
    "category": "Accelerated computing",
    "gpuNum": 1,
    "hideHardwareSpecs": false,
    "memoryGiB": 16,
    "name": "ml.g4dn.xlarge",
    "vcpuNum": 4
   },
   {
    "_defaultOrder": 30,
    "_isFastLaunch": false,
    "category": "Accelerated computing",
    "gpuNum": 1,
    "hideHardwareSpecs": false,
    "memoryGiB": 32,
    "name": "ml.g4dn.2xlarge",
    "vcpuNum": 8
   },
   {
    "_defaultOrder": 31,
    "_isFastLaunch": false,
    "category": "Accelerated computing",
    "gpuNum": 1,
    "hideHardwareSpecs": false,
    "memoryGiB": 64,
    "name": "ml.g4dn.4xlarge",
    "vcpuNum": 16
   },
   {
    "_defaultOrder": 32,
    "_isFastLaunch": false,
    "category": "Accelerated computing",
    "gpuNum": 1,
    "hideHardwareSpecs": false,
    "memoryGiB": 128,
    "name": "ml.g4dn.8xlarge",
    "vcpuNum": 32
   },
   {
    "_defaultOrder": 33,
    "_isFastLaunch": false,
    "category": "Accelerated computing",
    "gpuNum": 4,
    "hideHardwareSpecs": false,
    "memoryGiB": 192,
    "name": "ml.g4dn.12xlarge",
    "vcpuNum": 48
   },
   {
    "_defaultOrder": 34,
    "_isFastLaunch": false,
    "category": "Accelerated computing",
    "gpuNum": 1,
    "hideHardwareSpecs": false,
    "memoryGiB": 256,
    "name": "ml.g4dn.16xlarge",
    "vcpuNum": 64
   },
   {
    "_defaultOrder": 35,
    "_isFastLaunch": false,
    "category": "Accelerated computing",
    "gpuNum": 1,
    "hideHardwareSpecs": false,
    "memoryGiB": 61,
    "name": "ml.p3.2xlarge",
    "vcpuNum": 8
   },
   {
    "_defaultOrder": 36,
    "_isFastLaunch": false,
    "category": "Accelerated computing",
    "gpuNum": 4,
    "hideHardwareSpecs": false,
    "memoryGiB": 244,
    "name": "ml.p3.8xlarge",
    "vcpuNum": 32
   },
   {
    "_defaultOrder": 37,
    "_isFastLaunch": false,
    "category": "Accelerated computing",
    "gpuNum": 8,
    "hideHardwareSpecs": false,
    "memoryGiB": 488,
    "name": "ml.p3.16xlarge",
    "vcpuNum": 64
   },
   {
    "_defaultOrder": 38,
    "_isFastLaunch": false,
    "category": "Accelerated computing",
    "gpuNum": 8,
    "hideHardwareSpecs": false,
    "memoryGiB": 768,
    "name": "ml.p3dn.24xlarge",
    "vcpuNum": 96
   },
   {
    "_defaultOrder": 39,
    "_isFastLaunch": false,
    "category": "Memory Optimized",
    "gpuNum": 0,
    "hideHardwareSpecs": false,
    "memoryGiB": 16,
    "name": "ml.r5.large",
    "vcpuNum": 2
   },
   {
    "_defaultOrder": 40,
    "_isFastLaunch": false,
    "category": "Memory Optimized",
    "gpuNum": 0,
    "hideHardwareSpecs": false,
    "memoryGiB": 32,
    "name": "ml.r5.xlarge",
    "vcpuNum": 4
   },
   {
    "_defaultOrder": 41,
    "_isFastLaunch": false,
    "category": "Memory Optimized",
    "gpuNum": 0,
    "hideHardwareSpecs": false,
    "memoryGiB": 64,
    "name": "ml.r5.2xlarge",
    "vcpuNum": 8
   },
   {
    "_defaultOrder": 42,
    "_isFastLaunch": false,
    "category": "Memory Optimized",
    "gpuNum": 0,
    "hideHardwareSpecs": false,
    "memoryGiB": 128,
    "name": "ml.r5.4xlarge",
    "vcpuNum": 16
   },
   {
    "_defaultOrder": 43,
    "_isFastLaunch": false,
    "category": "Memory Optimized",
    "gpuNum": 0,
    "hideHardwareSpecs": false,
    "memoryGiB": 256,
    "name": "ml.r5.8xlarge",
    "vcpuNum": 32
   },
   {
    "_defaultOrder": 44,
    "_isFastLaunch": false,
    "category": "Memory Optimized",
    "gpuNum": 0,
    "hideHardwareSpecs": false,
    "memoryGiB": 384,
    "name": "ml.r5.12xlarge",
    "vcpuNum": 48
   },
   {
    "_defaultOrder": 45,
    "_isFastLaunch": false,
    "category": "Memory Optimized",
    "gpuNum": 0,
    "hideHardwareSpecs": false,
    "memoryGiB": 512,
    "name": "ml.r5.16xlarge",
    "vcpuNum": 64
   },
   {
    "_defaultOrder": 46,
    "_isFastLaunch": false,
    "category": "Memory Optimized",
    "gpuNum": 0,
    "hideHardwareSpecs": false,
    "memoryGiB": 768,
    "name": "ml.r5.24xlarge",
    "vcpuNum": 96
   },
   {
    "_defaultOrder": 47,
    "_isFastLaunch": false,
    "category": "Accelerated computing",
    "gpuNum": 1,
    "hideHardwareSpecs": false,
    "memoryGiB": 16,
    "name": "ml.g5.xlarge",
    "vcpuNum": 4
   },
   {
    "_defaultOrder": 48,
    "_isFastLaunch": false,
    "category": "Accelerated computing",
    "gpuNum": 1,
    "hideHardwareSpecs": false,
    "memoryGiB": 32,
    "name": "ml.g5.2xlarge",
    "vcpuNum": 8
   },
   {
    "_defaultOrder": 49,
    "_isFastLaunch": false,
    "category": "Accelerated computing",
    "gpuNum": 1,
    "hideHardwareSpecs": false,
    "memoryGiB": 64,
    "name": "ml.g5.4xlarge",
    "vcpuNum": 16
   },
   {
    "_defaultOrder": 50,
    "_isFastLaunch": false,
    "category": "Accelerated computing",
    "gpuNum": 1,
    "hideHardwareSpecs": false,
    "memoryGiB": 128,
    "name": "ml.g5.8xlarge",
    "vcpuNum": 32
   },
   {
    "_defaultOrder": 51,
    "_isFastLaunch": false,
    "category": "Accelerated computing",
    "gpuNum": 1,
    "hideHardwareSpecs": false,
    "memoryGiB": 256,
    "name": "ml.g5.16xlarge",
    "vcpuNum": 64
   },
   {
    "_defaultOrder": 52,
    "_isFastLaunch": false,
    "category": "Accelerated computing",
    "gpuNum": 4,
    "hideHardwareSpecs": false,
    "memoryGiB": 192,
    "name": "ml.g5.12xlarge",
    "vcpuNum": 48
   },
   {
    "_defaultOrder": 53,
    "_isFastLaunch": false,
    "category": "Accelerated computing",
    "gpuNum": 4,
    "hideHardwareSpecs": false,
    "memoryGiB": 384,
    "name": "ml.g5.24xlarge",
    "vcpuNum": 96
   },
   {
    "_defaultOrder": 54,
    "_isFastLaunch": false,
    "category": "Accelerated computing",
    "gpuNum": 8,
    "hideHardwareSpecs": false,
    "memoryGiB": 768,
    "name": "ml.g5.48xlarge",
    "vcpuNum": 192
   },
   {
    "_defaultOrder": 55,
    "_isFastLaunch": false,
    "category": "Accelerated computing",
    "gpuNum": 8,
    "hideHardwareSpecs": false,
    "memoryGiB": 1152,
    "name": "ml.p4d.24xlarge",
    "vcpuNum": 96
   },
   {
    "_defaultOrder": 56,
    "_isFastLaunch": false,
    "category": "Accelerated computing",
    "gpuNum": 8,
    "hideHardwareSpecs": false,
    "memoryGiB": 1152,
    "name": "ml.p4de.24xlarge",
    "vcpuNum": 96
   },
   {
    "_defaultOrder": 57,
    "_isFastLaunch": false,
    "category": "Accelerated computing",
    "gpuNum": 0,
    "hideHardwareSpecs": false,
    "memoryGiB": 32,
    "name": "ml.trn1.2xlarge",
    "vcpuNum": 8
   },
   {
    "_defaultOrder": 58,
    "_isFastLaunch": false,
    "category": "Accelerated computing",
    "gpuNum": 0,
    "hideHardwareSpecs": false,
    "memoryGiB": 512,
    "name": "ml.trn1.32xlarge",
    "vcpuNum": 128
   },
   {
    "_defaultOrder": 59,
    "_isFastLaunch": false,
    "category": "Accelerated computing",
    "gpuNum": 0,
    "hideHardwareSpecs": false,
    "memoryGiB": 512,
    "name": "ml.trn1n.32xlarge",
    "vcpuNum": 128
   }
  ],
  "instance_type": "ml.t3.medium",
  "kernelspec": {
   "display_name": "Python 3 (Data Science 3.0)",
   "language": "python",
   "name": "python3__SAGEMAKER_INTERNAL__arn:aws:sagemaker:us-east-1:081325390199:image/sagemaker-data-science-310-v1"
  },
  "language_info": {
   "codemirror_mode": {
    "name": "ipython",
    "version": 3
   },
   "file_extension": ".py",
   "mimetype": "text/x-python",
   "name": "python",
   "nbconvert_exporter": "python",
   "pygments_lexer": "ipython3",
   "version": "3.10.6"
  }
 },
 "nbformat": 4,
 "nbformat_minor": 5
}
