{
 "cells": [
  {
   "cell_type": "markdown",
   "id": "ef7c801e-cb63-4a1c-9d9a-e83af4622b93",
   "metadata": {},
   "source": [
    "# Entrenar el modelo de default"
   ]
  },
  {
   "cell_type": "raw",
   "id": "46258cb8-99b0-4c8d-8b01-fb5e044ea232",
   "metadata": {},
   "source": [
    "Si se ejecuta en sagemaker utilizar una máquina ml.g4dn.xlarge 4vCPU +16 GiB o superior para manejar la carga."
   ]
  },
  {
   "cell_type": "code",
   "execution_count": 2,
   "id": "1392635f-248d-473a-a6cb-a3fdc100395f",
   "metadata": {
    "tags": []
   },
   "outputs": [],
   "source": [
    "import pandas as pd\n",
    "import numpy as np\n",
    "from sklearn.preprocessing import StandardScaler\n",
    "import matplotlib.pyplot as plt"
   ]
  },
  {
   "cell_type": "code",
   "execution_count": 3,
   "id": "934605c2-72bb-48b2-8f3c-863bcdead870",
   "metadata": {
    "tags": []
   },
   "outputs": [],
   "source": [
    "df = pd.read_csv('default_ABT2.csv')"
   ]
  },
  {
   "cell_type": "code",
   "execution_count": 4,
   "id": "bfcd0763-143d-4d35-a298-23529033b5e1",
   "metadata": {
    "tags": []
   },
   "outputs": [],
   "source": [
    "#relleno los nulos con 0, ya que los algoritmos no toleran valores nulos\n",
    "df = df.fillna(0)"
   ]
  },
  {
   "cell_type": "code",
   "execution_count": 28,
   "id": "190d26bb-af8b-47b9-9b29-69cbfeffaf76",
   "metadata": {
    "tags": []
   },
   "outputs": [],
   "source": [
    "# entreno con los primeros meses hasta octubre incluido, testeo con nov-dic y enero\n",
    "tr = df[df['DATE']< '2023-11-01']\n",
    "te = df[df['DATE']> '2023-10-31']\n",
    "resultado = df[df['DATE']> '2023-10-31'] #filtrar por fecha que se va a estar prediciendo (debe ser la misma que en te)"
   ]
  },
  {
   "cell_type": "code",
   "execution_count": 29,
   "id": "e266a215-798c-4bb8-856c-320532b858ad",
   "metadata": {
    "tags": []
   },
   "outputs": [],
   "source": [
    "# exclusivo test 1 mes Noviembre\n",
    "te = te[te['DATE']< '2023-12-01']\n",
    "resultado = resultado[resultado['DATE']< '2023-12-01']"
   ]
  },
  {
   "cell_type": "code",
   "execution_count": 30,
   "id": "c917b320-8852-4ac2-8e9c-75a46e576f28",
   "metadata": {
    "tags": []
   },
   "outputs": [],
   "source": [
    "# me quedo sólo con las variables numéricas que pueden ser leídas por el modelo\n",
    "tr= tr.select_dtypes(['number'])\n",
    "te = te.select_dtypes(['number'])"
   ]
  },
  {
   "cell_type": "code",
   "execution_count": 31,
   "id": "3469637a-82c5-43c4-95be-cfac778492e2",
   "metadata": {
    "tags": []
   },
   "outputs": [],
   "source": [
    "#separar en train y test\n",
    "X_train = tr.drop([\"TARGET\"], axis=1)\n",
    "y_train = tr.TARGET\n",
    "X_test = te.drop([\"TARGET\"], axis=1)\n",
    "y_test = te.TARGET"
   ]
  },
  {
   "cell_type": "code",
   "execution_count": 32,
   "id": "2131bfd0-fa7a-43fc-9d19-5bd7debceac2",
   "metadata": {
    "tags": []
   },
   "outputs": [],
   "source": [
    "#standarizo las variables para que no haya efecto de numéricas grandes vs conteos\n",
    "sttr=  StandardScaler().fit_transform(X_train)\n",
    "stte=  StandardScaler().fit_transform(X_test)"
   ]
  },
  {
   "cell_type": "code",
   "execution_count": 33,
   "id": "5d50885f-440e-46ff-a831-a6fd5c09010e",
   "metadata": {
    "tags": []
   },
   "outputs": [],
   "source": [
    "X_train= pd.DataFrame(data = sttr, columns = X_train.columns, index = X_train.index)\n",
    "X_test  = pd.DataFrame(data = stte, columns = X_test.columns, index = X_test.index)"
   ]
  },
  {
   "cell_type": "markdown",
   "id": "68a8caf7-5af7-4e7d-a7c1-692fae8833b5",
   "metadata": {},
   "source": [
    "# Logistic regression"
   ]
  },
  {
   "cell_type": "code",
   "execution_count": 34,
   "id": "055aceb8-f6cb-46d7-8c49-2c0cb279c6c2",
   "metadata": {
    "tags": []
   },
   "outputs": [],
   "source": [
    "from sklearn.linear_model import LogisticRegression"
   ]
  },
  {
   "cell_type": "code",
   "execution_count": 35,
   "id": "c1a6ae0c-e32f-4d12-9650-11efe9faaefe",
   "metadata": {},
   "outputs": [
    {
     "data": {
      "text/plain": [
       "0.9990165733465072"
      ]
     },
     "execution_count": 35,
     "metadata": {},
     "output_type": "execute_result"
    }
   ],
   "source": [
    "clf = LogisticRegression(random_state=0).fit(X_train, y_train)\n",
    "clf.score(X_train, y_train)"
   ]
  },
  {
   "cell_type": "code",
   "execution_count": 17,
   "id": "2ca6bf9c-f6fd-4b2a-aab0-ebb23a7ab8ee",
   "metadata": {
    "tags": []
   },
   "outputs": [
    {
     "data": {
      "text/plain": [
       "0.998899816882273"
      ]
     },
     "execution_count": 17,
     "metadata": {},
     "output_type": "execute_result"
    }
   ],
   "source": [
    "clf.score(X_test, y_test)"
   ]
  },
  {
   "cell_type": "markdown",
   "id": "399b7281-0633-4751-b7f8-e735561fade4",
   "metadata": {
    "tags": []
   },
   "source": [
    "# guardar el modelo\n",
    "from pickle import dump\n",
    "with open(\"Logistic_reg_default.pkl\", \"wb\") as f:\n",
    "    dump(clf, f, protocol=5)"
   ]
  },
  {
   "cell_type": "raw",
   "id": "f3c0180b-ce33-49cc-93d6-08f7b86ce762",
   "metadata": {
    "tags": []
   },
   "source": [
    "# Get feature importances\n",
    "importances = clf.coef_[0]\n",
    "\n",
    "# Get the feature names (assuming you have them stored in a list called 'feature_names')\n",
    "feature_names = X_test.columns  # replace with your feature names\n",
    "\n",
    "# Create DataFrame\n",
    "fi = pd.DataFrame({'feature': feature_names, 'importance': importances})\n",
    "\n",
    "# Sort DataFrame by importance\n",
    "fi = fi.sort_values('importance', ascending=False)\n",
    "\n",
    "# Print DataFrame\n",
    "print(fi)"
   ]
  },
  {
   "cell_type": "raw",
   "id": "60b31301-e3e4-4ab3-9005-bf7da68fed0a",
   "metadata": {
    "tags": []
   },
   "source": [
    "fi.head(30)"
   ]
  },
  {
   "cell_type": "raw",
   "id": "11951119-32fc-4fdf-800a-648fe2b26a9c",
   "metadata": {
    "tags": []
   },
   "source": [
    "fi.tail(30)"
   ]
  },
  {
   "cell_type": "markdown",
   "id": "a99e3a72-958a-4df2-a17a-c8f4c0ac9695",
   "metadata": {},
   "source": [
    "# Para realizar predicciones"
   ]
  },
  {
   "cell_type": "code",
   "execution_count": 36,
   "id": "2e583b92-cd97-46d2-9467-856e100cc1e2",
   "metadata": {
    "tags": []
   },
   "outputs": [],
   "source": [
    "# me quedo con fecha y id_branch para los resultados\n",
    "lista = ['DATE','ID_BRANCH', 'AGENCY', 'ID_GROUP_COMPANY', 'BALANCE', 'DEFAULT', 'TARGET']\n",
    "resultado = resultado[lista]"
   ]
  },
  {
   "cell_type": "code",
   "execution_count": 59,
   "id": "89d2ec9a-d667-4c57-b8dc-552371626057",
   "metadata": {
    "tags": []
   },
   "outputs": [],
   "source": [
    "#obtengo la probabilidad calculada por el modelo para cada agencia para cada fecha\n",
    "X_test['proba'] = clf.predict_proba(X_test)[:, 1]"
   ]
  },
  {
   "cell_type": "code",
   "execution_count": 60,
   "id": "8ef3a0f5-3425-49a3-a3d8-812476509247",
   "metadata": {
    "tags": []
   },
   "outputs": [],
   "source": [
    "#separo en deciles para ver cuan viene ordena los datos\n",
    "percentiles = pd.qcut(X_test['proba'], 10, labels=False, duplicates='drop')\n",
    "percentile_label = {p: l for l, p in enumerate(sorted(percentiles.unique(), reverse=True), start=1)}\n",
    "percentiles = percentiles.map(percentile_label)\n",
    "X_test['deciles'] = percentiles\n",
    "X_test['deciles'] = X_test['deciles'].astype('Int32')\n"
   ]
  },
  {
   "cell_type": "code",
   "execution_count": 61,
   "id": "ab8b917d-9276-4dac-8f9f-4ce23f8a4daf",
   "metadata": {
    "tags": []
   },
   "outputs": [],
   "source": [
    "Aux = pd.merge(X_test, y_test, left_index=True,right_index=True, how='left')"
   ]
  },
  {
   "cell_type": "code",
   "execution_count": 62,
   "id": "2827b61d-839f-45d0-9a36-d7ccfc70196b",
   "metadata": {
    "tags": []
   },
   "outputs": [
    {
     "data": {
      "text/html": [
       "<div>\n",
       "<style scoped>\n",
       "    .dataframe tbody tr th:only-of-type {\n",
       "        vertical-align: middle;\n",
       "    }\n",
       "\n",
       "    .dataframe tbody tr th {\n",
       "        vertical-align: top;\n",
       "    }\n",
       "\n",
       "    .dataframe thead th {\n",
       "        text-align: right;\n",
       "    }\n",
       "</style>\n",
       "<table border=\"1\" class=\"dataframe\">\n",
       "  <thead>\n",
       "    <tr style=\"text-align: right;\">\n",
       "      <th>TARGET</th>\n",
       "      <th>0.0</th>\n",
       "      <th>1.0</th>\n",
       "    </tr>\n",
       "    <tr>\n",
       "      <th>deciles</th>\n",
       "      <th></th>\n",
       "      <th></th>\n",
       "    </tr>\n",
       "  </thead>\n",
       "  <tbody>\n",
       "    <tr>\n",
       "      <th>1</th>\n",
       "      <td>21279</td>\n",
       "      <td>105</td>\n",
       "    </tr>\n",
       "    <tr>\n",
       "      <th>2</th>\n",
       "      <td>20846</td>\n",
       "      <td>21</td>\n",
       "    </tr>\n",
       "    <tr>\n",
       "      <th>3</th>\n",
       "      <td>21845</td>\n",
       "      <td>35</td>\n",
       "    </tr>\n",
       "    <tr>\n",
       "      <th>4</th>\n",
       "      <td>21397</td>\n",
       "      <td>8</td>\n",
       "    </tr>\n",
       "    <tr>\n",
       "      <th>5</th>\n",
       "      <td>21371</td>\n",
       "      <td>13</td>\n",
       "    </tr>\n",
       "    <tr>\n",
       "      <th>6</th>\n",
       "      <td>21373</td>\n",
       "      <td>11</td>\n",
       "    </tr>\n",
       "    <tr>\n",
       "      <th>7</th>\n",
       "      <td>21371</td>\n",
       "      <td>13</td>\n",
       "    </tr>\n",
       "    <tr>\n",
       "      <th>8</th>\n",
       "      <td>21382</td>\n",
       "      <td>2</td>\n",
       "    </tr>\n",
       "    <tr>\n",
       "      <th>9</th>\n",
       "      <td>21383</td>\n",
       "      <td>1</td>\n",
       "    </tr>\n",
       "    <tr>\n",
       "      <th>10</th>\n",
       "      <td>21384</td>\n",
       "      <td>0</td>\n",
       "    </tr>\n",
       "  </tbody>\n",
       "</table>\n",
       "</div>"
      ],
      "text/plain": [
       "TARGET     0.0  1.0\n",
       "deciles            \n",
       "1        21279  105\n",
       "2        20846   21\n",
       "3        21845   35\n",
       "4        21397    8\n",
       "5        21371   13\n",
       "6        21373   11\n",
       "7        21371   13\n",
       "8        21382    2\n",
       "9        21383    1\n",
       "10       21384    0"
      ]
     },
     "execution_count": 62,
     "metadata": {},
     "output_type": "execute_result"
    }
   ],
   "source": [
    "pd.crosstab(Aux['deciles'],Aux['TARGET'])"
   ]
  },
  {
   "cell_type": "code",
   "execution_count": 63,
   "id": "459506ab-3cea-455b-9856-4422570c2382",
   "metadata": {
    "tags": []
   },
   "outputs": [],
   "source": [
    "# obtener los valores de probabilidad mínimo para cada decil\n",
    "min_proba_per_decile = X_test.groupby('deciles')['proba'].min()"
   ]
  },
  {
   "cell_type": "code",
   "execution_count": 64,
   "id": "01afeb05-aee7-4464-aad6-1f2ed39a4600",
   "metadata": {
    "tags": []
   },
   "outputs": [
    {
     "data": {
      "text/plain": [
       "deciles\n",
       "1     1.092983e-03\n",
       "2     1.059784e-03\n",
       "3     1.019937e-03\n",
       "4     9.566535e-04\n",
       "5     8.494559e-04\n",
       "6     6.925173e-04\n",
       "7     5.149708e-04\n",
       "8     2.925885e-04\n",
       "9     7.535967e-05\n",
       "10    4.040109e-28\n",
       "Name: proba, dtype: float64"
      ]
     },
     "execution_count": 64,
     "metadata": {},
     "output_type": "execute_result"
    }
   ],
   "source": [
    "min_proba_per_decile"
   ]
  },
  {
   "cell_type": "markdown",
   "id": "9bba7fe3-2619-4e7a-9326-96e78aad99c5",
   "metadata": {},
   "source": [
    "# Defaults evitados en 1 mes, dinero recuperado"
   ]
  },
  {
   "cell_type": "code",
   "execution_count": 38,
   "id": "cd72eb0d-6a82-4944-9298-52424f14d9a5",
   "metadata": {
    "tags": []
   },
   "outputs": [],
   "source": [
    "#obtengo la prediccción calculada por el modelo para cada agencia para cada fecha\n",
    "resultado['proba'] = clf.predict_proba(X_test)[:, 1]\n",
    "#resultado['predict'] = clf.predict(X_test)"
   ]
  },
  {
   "cell_type": "code",
   "execution_count": 39,
   "id": "090fdb91-775d-4d51-b73b-db3f1e02a529",
   "metadata": {
    "tags": []
   },
   "outputs": [
    {
     "data": {
      "text/plain": [
       "array([0., 0., 0., ..., 0., 0., 0.])"
      ]
     },
     "execution_count": 39,
     "metadata": {},
     "output_type": "execute_result"
    }
   ],
   "source": [
    " clf.predict(X_test)"
   ]
  },
  {
   "cell_type": "code",
   "execution_count": 40,
   "id": "b30b66a4-ccb7-4c0d-b245-c848c605d809",
   "metadata": {
    "tags": []
   },
   "outputs": [
    {
     "name": "stdout",
     "output_type": "stream",
     "text": [
      "(213840, 9)\n",
      "(213840, 99)\n"
     ]
    }
   ],
   "source": [
    "print (resultado.shape)\n",
    "print (X_test.shape)"
   ]
  },
  {
   "cell_type": "code",
   "execution_count": 41,
   "id": "d9390889-3dc3-44f9-a131-6cf8faf46712",
   "metadata": {
    "tags": []
   },
   "outputs": [
    {
     "data": {
      "text/html": [
       "<div>\n",
       "<style scoped>\n",
       "    .dataframe tbody tr th:only-of-type {\n",
       "        vertical-align: middle;\n",
       "    }\n",
       "\n",
       "    .dataframe tbody tr th {\n",
       "        vertical-align: top;\n",
       "    }\n",
       "\n",
       "    .dataframe thead th {\n",
       "        text-align: right;\n",
       "    }\n",
       "</style>\n",
       "<table border=\"1\" class=\"dataframe\">\n",
       "  <thead>\n",
       "    <tr style=\"text-align: right;\">\n",
       "      <th></th>\n",
       "      <th>DATE</th>\n",
       "      <th>ID_BRANCH</th>\n",
       "      <th>AGENCY</th>\n",
       "      <th>ID_GROUP_COMPANY</th>\n",
       "      <th>BALANCE</th>\n",
       "      <th>DEFAULT</th>\n",
       "      <th>TARGET</th>\n",
       "      <th>proba</th>\n",
       "      <th>predict</th>\n",
       "    </tr>\n",
       "  </thead>\n",
       "  <tbody>\n",
       "  </tbody>\n",
       "</table>\n",
       "</div>"
      ],
      "text/plain": [
       "Empty DataFrame\n",
       "Columns: [DATE, ID_BRANCH, AGENCY, ID_GROUP_COMPANY, BALANCE, DEFAULT, TARGET, proba, predict]\n",
       "Index: []"
      ]
     },
     "execution_count": 41,
     "metadata": {},
     "output_type": "execute_result"
    }
   ],
   "source": [
    "resultado[resultado['predict'] == 1]"
   ]
  },
  {
   "cell_type": "code",
   "execution_count": 42,
   "id": "9dea4836-31a9-48f7-b89e-27562f54e99f",
   "metadata": {
    "tags": []
   },
   "outputs": [
    {
     "data": {
      "text/html": [
       "<div>\n",
       "<style scoped>\n",
       "    .dataframe tbody tr th:only-of-type {\n",
       "        vertical-align: middle;\n",
       "    }\n",
       "\n",
       "    .dataframe tbody tr th {\n",
       "        vertical-align: top;\n",
       "    }\n",
       "\n",
       "    .dataframe thead th {\n",
       "        text-align: right;\n",
       "    }\n",
       "</style>\n",
       "<table border=\"1\" class=\"dataframe\">\n",
       "  <thead>\n",
       "    <tr style=\"text-align: right;\">\n",
       "      <th></th>\n",
       "      <th>DATE</th>\n",
       "      <th>ID_BRANCH</th>\n",
       "      <th>AGENCY</th>\n",
       "      <th>ID_GROUP_COMPANY</th>\n",
       "      <th>BALANCE</th>\n",
       "      <th>DEFAULT</th>\n",
       "      <th>TARGET</th>\n",
       "      <th>proba</th>\n",
       "      <th>predict</th>\n",
       "    </tr>\n",
       "  </thead>\n",
       "  <tbody>\n",
       "    <tr>\n",
       "      <th>188243</th>\n",
       "      <td>2023-11-11</td>\n",
       "      <td>A10362</td>\n",
       "      <td>MN0147</td>\n",
       "      <td>USA010483</td>\n",
       "      <td>0.0000</td>\n",
       "      <td>0.0</td>\n",
       "      <td>1.0</td>\n",
       "      <td>0.000951</td>\n",
       "      <td>0.0</td>\n",
       "    </tr>\n",
       "    <tr>\n",
       "      <th>192636</th>\n",
       "      <td>2023-11-15</td>\n",
       "      <td>A10537</td>\n",
       "      <td>0</td>\n",
       "      <td>0</td>\n",
       "      <td>0.0000</td>\n",
       "      <td>0.0</td>\n",
       "      <td>1.0</td>\n",
       "      <td>0.001060</td>\n",
       "      <td>0.0</td>\n",
       "    </tr>\n",
       "    <tr>\n",
       "      <th>241716</th>\n",
       "      <td>2023-11-18</td>\n",
       "      <td>A12153</td>\n",
       "      <td>0</td>\n",
       "      <td>0</td>\n",
       "      <td>10746.0901</td>\n",
       "      <td>0.0</td>\n",
       "      <td>1.0</td>\n",
       "      <td>0.001126</td>\n",
       "      <td>0.0</td>\n",
       "    </tr>\n",
       "    <tr>\n",
       "      <th>327510</th>\n",
       "      <td>2023-11-27</td>\n",
       "      <td>A14223</td>\n",
       "      <td>OH0069</td>\n",
       "      <td>USA013011</td>\n",
       "      <td>3022.0731</td>\n",
       "      <td>0.0</td>\n",
       "      <td>1.0</td>\n",
       "      <td>0.000546</td>\n",
       "      <td>0.0</td>\n",
       "    </tr>\n",
       "    <tr>\n",
       "      <th>338262</th>\n",
       "      <td>2023-11-06</td>\n",
       "      <td>A14375</td>\n",
       "      <td>NC1093</td>\n",
       "      <td>USA013103</td>\n",
       "      <td>9644.0236</td>\n",
       "      <td>0.0</td>\n",
       "      <td>1.0</td>\n",
       "      <td>0.000480</td>\n",
       "      <td>0.0</td>\n",
       "    </tr>\n",
       "    <tr>\n",
       "      <th>...</th>\n",
       "      <td>...</td>\n",
       "      <td>...</td>\n",
       "      <td>...</td>\n",
       "      <td>...</td>\n",
       "      <td>...</td>\n",
       "      <td>...</td>\n",
       "      <td>...</td>\n",
       "      <td>...</td>\n",
       "      <td>...</td>\n",
       "    </tr>\n",
       "    <tr>\n",
       "      <th>2673216</th>\n",
       "      <td>2023-11-12</td>\n",
       "      <td>A25687</td>\n",
       "      <td>CA4643</td>\n",
       "      <td>USA020988</td>\n",
       "      <td>0.0000</td>\n",
       "      <td>0.0</td>\n",
       "      <td>1.0</td>\n",
       "      <td>0.001060</td>\n",
       "      <td>0.0</td>\n",
       "    </tr>\n",
       "    <tr>\n",
       "      <th>2676019</th>\n",
       "      <td>2023-11-22</td>\n",
       "      <td>A25695</td>\n",
       "      <td>OK0244</td>\n",
       "      <td>USA020992</td>\n",
       "      <td>0.0000</td>\n",
       "      <td>0.0</td>\n",
       "      <td>1.0</td>\n",
       "      <td>0.001059</td>\n",
       "      <td>0.0</td>\n",
       "    </tr>\n",
       "    <tr>\n",
       "      <th>2679615</th>\n",
       "      <td>2023-11-27</td>\n",
       "      <td>A25704</td>\n",
       "      <td>OK0245</td>\n",
       "      <td>USA020999</td>\n",
       "      <td>0.0000</td>\n",
       "      <td>0.0</td>\n",
       "      <td>1.0</td>\n",
       "      <td>0.001060</td>\n",
       "      <td>0.0</td>\n",
       "    </tr>\n",
       "    <tr>\n",
       "      <th>2684396</th>\n",
       "      <td>2023-11-20</td>\n",
       "      <td>A25719</td>\n",
       "      <td>CO0385</td>\n",
       "      <td>USA015950</td>\n",
       "      <td>160.0000</td>\n",
       "      <td>0.0</td>\n",
       "      <td>1.0</td>\n",
       "      <td>0.001063</td>\n",
       "      <td>0.0</td>\n",
       "    </tr>\n",
       "    <tr>\n",
       "      <th>2709141</th>\n",
       "      <td>2023-11-27</td>\n",
       "      <td>A25789</td>\n",
       "      <td>NJ1177</td>\n",
       "      <td>USA021057</td>\n",
       "      <td>0.0000</td>\n",
       "      <td>0.0</td>\n",
       "      <td>1.0</td>\n",
       "      <td>0.001060</td>\n",
       "      <td>0.0</td>\n",
       "    </tr>\n",
       "  </tbody>\n",
       "</table>\n",
       "<p>209 rows × 9 columns</p>\n",
       "</div>"
      ],
      "text/plain": [
       "               DATE ID_BRANCH  AGENCY ID_GROUP_COMPANY     BALANCE  DEFAULT  \\\n",
       "188243   2023-11-11    A10362  MN0147        USA010483      0.0000      0.0   \n",
       "192636   2023-11-15    A10537       0                0      0.0000      0.0   \n",
       "241716   2023-11-18    A12153       0                0  10746.0901      0.0   \n",
       "327510   2023-11-27    A14223  OH0069        USA013011   3022.0731      0.0   \n",
       "338262   2023-11-06    A14375  NC1093        USA013103   9644.0236      0.0   \n",
       "...             ...       ...     ...              ...         ...      ...   \n",
       "2673216  2023-11-12    A25687  CA4643        USA020988      0.0000      0.0   \n",
       "2676019  2023-11-22    A25695  OK0244        USA020992      0.0000      0.0   \n",
       "2679615  2023-11-27    A25704  OK0245        USA020999      0.0000      0.0   \n",
       "2684396  2023-11-20    A25719  CO0385        USA015950    160.0000      0.0   \n",
       "2709141  2023-11-27    A25789  NJ1177        USA021057      0.0000      0.0   \n",
       "\n",
       "         TARGET     proba  predict  \n",
       "188243      1.0  0.000951      0.0  \n",
       "192636      1.0  0.001060      0.0  \n",
       "241716      1.0  0.001126      0.0  \n",
       "327510      1.0  0.000546      0.0  \n",
       "338262      1.0  0.000480      0.0  \n",
       "...         ...       ...      ...  \n",
       "2673216     1.0  0.001060      0.0  \n",
       "2676019     1.0  0.001059      0.0  \n",
       "2679615     1.0  0.001060      0.0  \n",
       "2684396     1.0  0.001063      0.0  \n",
       "2709141     1.0  0.001060      0.0  \n",
       "\n",
       "[209 rows x 9 columns]"
      ]
     },
     "execution_count": 42,
     "metadata": {},
     "output_type": "execute_result"
    }
   ],
   "source": [
    "target = resultado[resultado['TARGET'] == 1]"
   ]
  },
  {
   "cell_type": "code",
   "execution_count": 43,
   "id": "9a435391-8bfa-4624-b4bf-ff3212b6d002",
   "metadata": {
    "tags": []
   },
   "outputs": [],
   "source": [
    "platadia0 = resultado[resultado['DEFAULT'] == 1]"
   ]
  },
  {
   "cell_type": "code",
   "execution_count": 44,
   "id": "3b3b62a4-ae3a-4f42-b094-f70ed3ee62b0",
   "metadata": {
    "tags": []
   },
   "outputs": [
    {
     "data": {
      "text/plain": [
       "971345.7361"
      ]
     },
     "execution_count": 44,
     "metadata": {},
     "output_type": "execute_result"
    }
   ],
   "source": [
    "platadia0['BALANCE'].sum()"
   ]
  },
  {
   "cell_type": "code",
   "execution_count": 51,
   "id": "e7bc48b3-1d73-48b1-9e45-ce1288b59f02",
   "metadata": {
    "tags": []
   },
   "outputs": [],
   "source": [
    "# Assuming df is your DataFrame and 'defaults' is the column where defaults occur\n",
    "resultado['default_next_day'] = resultado['DEFAULT'].shift(-1)\n",
    "\n",
    "# Now, df['default_next_day'] will be True for the rows just before a default occurs\n",
    "df_before_defaults = resultado[resultado['default_next_day'] == 1]\n"
   ]
  },
  {
   "cell_type": "code",
   "execution_count": 48,
   "id": "1596a77b-2bbb-48b2-83d3-8f17c32f4a8a",
   "metadata": {
    "tags": []
   },
   "outputs": [
    {
     "data": {
      "text/plain": [
       "1574015.0507"
      ]
     },
     "execution_count": 48,
     "metadata": {},
     "output_type": "execute_result"
    }
   ],
   "source": [
    "df_before_defaults['BALANCE'].sum()"
   ]
  },
  {
   "cell_type": "code",
   "execution_count": null,
   "id": "884a87ae-2c92-4b97-9681-40a8da6549c3",
   "metadata": {},
   "outputs": [],
   "source": [
    "# dinero que puede ser cobrado a tiempo\n",
    "1574015"
   ]
  },
  {
   "cell_type": "code",
   "execution_count": 50,
   "id": "b07c1c68-cc56-4c72-99c1-7e5cce1a7a59",
   "metadata": {
    "tags": []
   },
   "outputs": [],
   "source": [
    "# filtrando con probabilidad que captura aprox 60% de los defaults 0.00108\n",
    "resultado['proba2'] = resultado['proba'].shift(8)#8 días adelnte lo muevo porque veo el balance el día anterior"
   ]
  },
  {
   "cell_type": "code",
   "execution_count": 65,
   "id": "a7c58a6d-9d79-49f9-ac6a-22bdb086411a",
   "metadata": {
    "tags": []
   },
   "outputs": [],
   "source": [
    "predicho = df_before_defaults[df_before_defaults['proba2'] >1.092983e-03]"
   ]
  },
  {
   "cell_type": "code",
   "execution_count": 66,
   "id": "8547411f-305b-4def-8d8c-49d27716bc30",
   "metadata": {
    "tags": []
   },
   "outputs": [
    {
     "data": {
      "text/plain": [
       "703156.0516"
      ]
     },
     "execution_count": 66,
     "metadata": {},
     "output_type": "execute_result"
    }
   ],
   "source": [
    "predicho['BALANCE'].sum()"
   ]
  },
  {
   "cell_type": "code",
   "execution_count": 67,
   "id": "d362e304-edf6-41d6-a7e5-f69e5eb95afc",
   "metadata": {
    "tags": []
   },
   "outputs": [
    {
     "data": {
      "text/plain": [
       "739275.9777"
      ]
     },
     "execution_count": 67,
     "metadata": {},
     "output_type": "execute_result"
    }
   ],
   "source": [
    "predicho = df_before_defaults[df_before_defaults['proba2'] >1.059784e-03]\n",
    "predicho['BALANCE'].sum()"
   ]
  },
  {
   "cell_type": "code",
   "execution_count": 68,
   "id": "7b0727d9-a250-4572-9b3c-57aaf1c66740",
   "metadata": {
    "tags": []
   },
   "outputs": [
    {
     "data": {
      "text/plain": [
       "783006.4677"
      ]
     },
     "execution_count": 68,
     "metadata": {},
     "output_type": "execute_result"
    }
   ],
   "source": [
    "predicho = df_before_defaults[df_before_defaults['proba2'] >1.019937e-03]\n",
    "predicho['BALANCE'].sum()"
   ]
  },
  {
   "cell_type": "code",
   "execution_count": 69,
   "id": "49648a24-ce0e-446b-9ffc-f3b8f1e809e5",
   "metadata": {
    "tags": []
   },
   "outputs": [
    {
     "data": {
      "text/plain": [
       "899579.618"
      ]
     },
     "execution_count": 69,
     "metadata": {},
     "output_type": "execute_result"
    }
   ],
   "source": [
    "predicho = df_before_defaults[df_before_defaults['proba2'] >9.566535e-04]\n",
    "predicho['BALANCE'].sum()"
   ]
  },
  {
   "cell_type": "code",
   "execution_count": 70,
   "id": "f45e96cd-98f6-4fcd-8f2d-6c4eaa78af0b",
   "metadata": {
    "tags": []
   },
   "outputs": [
    {
     "data": {
      "text/plain": [
       "1045465.0659999999"
      ]
     },
     "execution_count": 70,
     "metadata": {},
     "output_type": "execute_result"
    }
   ],
   "source": [
    "predicho = df_before_defaults[df_before_defaults['proba2'] >8.494559e-04]\n",
    "predicho['BALANCE'].sum()"
   ]
  },
  {
   "cell_type": "code",
   "execution_count": 71,
   "id": "4772e5ff-d5c4-4e8b-915a-bbea3353415d",
   "metadata": {
    "tags": []
   },
   "outputs": [
    {
     "data": {
      "text/html": [
       "<div>\n",
       "<style scoped>\n",
       "    .dataframe tbody tr th:only-of-type {\n",
       "        vertical-align: middle;\n",
       "    }\n",
       "\n",
       "    .dataframe tbody tr th {\n",
       "        vertical-align: top;\n",
       "    }\n",
       "\n",
       "    .dataframe thead th {\n",
       "        text-align: right;\n",
       "    }\n",
       "</style>\n",
       "<table border=\"1\" class=\"dataframe\">\n",
       "  <thead>\n",
       "    <tr style=\"text-align: right;\">\n",
       "      <th></th>\n",
       "      <th>DATE</th>\n",
       "      <th>ID_BRANCH</th>\n",
       "      <th>AGENCY</th>\n",
       "      <th>ID_GROUP_COMPANY</th>\n",
       "      <th>BALANCE</th>\n",
       "      <th>DEFAULT</th>\n",
       "      <th>TARGET</th>\n",
       "      <th>proba</th>\n",
       "      <th>predict</th>\n",
       "      <th>default_next_day</th>\n",
       "      <th>proba2</th>\n",
       "    </tr>\n",
       "  </thead>\n",
       "  <tbody>\n",
       "    <tr>\n",
       "      <th>304</th>\n",
       "      <td>2023-11-01</td>\n",
       "      <td>A00002</td>\n",
       "      <td>MD0002</td>\n",
       "      <td>USA000002</td>\n",
       "      <td>17816.1267</td>\n",
       "      <td>0.0</td>\n",
       "      <td>0.0</td>\n",
       "      <td>0.000950</td>\n",
       "      <td>0.0</td>\n",
       "      <td>0.0</td>\n",
       "      <td>NaN</td>\n",
       "    </tr>\n",
       "    <tr>\n",
       "      <th>305</th>\n",
       "      <td>2023-11-02</td>\n",
       "      <td>A00002</td>\n",
       "      <td>MD0002</td>\n",
       "      <td>USA000002</td>\n",
       "      <td>17924.2267</td>\n",
       "      <td>0.0</td>\n",
       "      <td>0.0</td>\n",
       "      <td>0.000949</td>\n",
       "      <td>0.0</td>\n",
       "      <td>0.0</td>\n",
       "      <td>NaN</td>\n",
       "    </tr>\n",
       "    <tr>\n",
       "      <th>306</th>\n",
       "      <td>2023-11-03</td>\n",
       "      <td>A00002</td>\n",
       "      <td>MD0002</td>\n",
       "      <td>USA000002</td>\n",
       "      <td>18006.2267</td>\n",
       "      <td>0.0</td>\n",
       "      <td>0.0</td>\n",
       "      <td>0.000968</td>\n",
       "      <td>0.0</td>\n",
       "      <td>0.0</td>\n",
       "      <td>NaN</td>\n",
       "    </tr>\n",
       "    <tr>\n",
       "      <th>307</th>\n",
       "      <td>2023-11-04</td>\n",
       "      <td>A00002</td>\n",
       "      <td>MD0002</td>\n",
       "      <td>USA000002</td>\n",
       "      <td>0.0000</td>\n",
       "      <td>0.0</td>\n",
       "      <td>0.0</td>\n",
       "      <td>0.000932</td>\n",
       "      <td>0.0</td>\n",
       "      <td>0.0</td>\n",
       "      <td>NaN</td>\n",
       "    </tr>\n",
       "    <tr>\n",
       "      <th>308</th>\n",
       "      <td>2023-11-05</td>\n",
       "      <td>A00002</td>\n",
       "      <td>MD0002</td>\n",
       "      <td>USA000002</td>\n",
       "      <td>0.0000</td>\n",
       "      <td>0.0</td>\n",
       "      <td>0.0</td>\n",
       "      <td>0.000932</td>\n",
       "      <td>0.0</td>\n",
       "      <td>0.0</td>\n",
       "      <td>NaN</td>\n",
       "    </tr>\n",
       "  </tbody>\n",
       "</table>\n",
       "</div>"
      ],
      "text/plain": [
       "           DATE ID_BRANCH  AGENCY ID_GROUP_COMPANY     BALANCE  DEFAULT  \\\n",
       "304  2023-11-01    A00002  MD0002        USA000002  17816.1267      0.0   \n",
       "305  2023-11-02    A00002  MD0002        USA000002  17924.2267      0.0   \n",
       "306  2023-11-03    A00002  MD0002        USA000002  18006.2267      0.0   \n",
       "307  2023-11-04    A00002  MD0002        USA000002      0.0000      0.0   \n",
       "308  2023-11-05    A00002  MD0002        USA000002      0.0000      0.0   \n",
       "\n",
       "     TARGET     proba  predict  default_next_day  proba2  \n",
       "304     0.0  0.000950      0.0               0.0     NaN  \n",
       "305     0.0  0.000949      0.0               0.0     NaN  \n",
       "306     0.0  0.000968      0.0               0.0     NaN  \n",
       "307     0.0  0.000932      0.0               0.0     NaN  \n",
       "308     0.0  0.000932      0.0               0.0     NaN  "
      ]
     },
     "execution_count": 71,
     "metadata": {},
     "output_type": "execute_result"
    }
   ],
   "source": [
    "resultado.head()"
   ]
  },
  {
   "cell_type": "code",
   "execution_count": null,
   "id": "e9bf88b4-2e40-4b89-8b46-c5ddd7734078",
   "metadata": {},
   "outputs": [],
   "source": []
  },
  {
   "cell_type": "code",
   "execution_count": 33,
   "id": "7eb3f1f4-9031-4dbb-821e-c609fde5ab5d",
   "metadata": {
    "tags": []
   },
   "outputs": [
    {
     "ename": "NameError",
     "evalue": "name 'accuracy' is not defined",
     "output_type": "error",
     "traceback": [
      "\u001b[0;31m---------------------------------------------------------------------------\u001b[0m",
      "\u001b[0;31mNameError\u001b[0m                                 Traceback (most recent call last)",
      "Cell \u001b[0;32mIn[33], line 12\u001b[0m\n\u001b[1;32m      9\u001b[0m plt\u001b[38;5;241m.\u001b[39mxlabel(\u001b[38;5;124m'\u001b[39m\u001b[38;5;124mFalse Positive Rate\u001b[39m\u001b[38;5;124m'\u001b[39m)\n\u001b[1;32m     10\u001b[0m plt\u001b[38;5;241m.\u001b[39mylabel(\u001b[38;5;124m'\u001b[39m\u001b[38;5;124mTrue Positive Rate\u001b[39m\u001b[38;5;124m'\u001b[39m)\n\u001b[1;32m     11\u001b[0m plt\u001b[38;5;241m.\u001b[39mtitle(\u001b[38;5;124m'\u001b[39m\u001b[38;5;124mReceiver Operating Characteristic (ROC) Curve\u001b[39m\u001b[38;5;130;01m\\n\u001b[39;00m\u001b[38;5;124mAccuracy: \u001b[39m\u001b[38;5;132;01m{:.2f}\u001b[39;00m\u001b[38;5;124m%\u001b[39m\u001b[38;5;124m'\u001b[39m\u001b[38;5;241m.\u001b[39mformat(\n\u001b[0;32m---> 12\u001b[0m     \u001b[43maccuracy\u001b[49m \u001b[38;5;241m*\u001b[39m \u001b[38;5;241m100\u001b[39m))\n\u001b[1;32m     13\u001b[0m plt\u001b[38;5;241m.\u001b[39mlegend(loc\u001b[38;5;241m=\u001b[39m\u001b[38;5;124m\"\u001b[39m\u001b[38;5;124mlower right\u001b[39m\u001b[38;5;124m\"\u001b[39m)\n\u001b[1;32m     14\u001b[0m plt\u001b[38;5;241m.\u001b[39mshow()\n",
      "\u001b[0;31mNameError\u001b[0m: name 'accuracy' is not defined"
     ]
    },
    {
     "data": {
      "image/png": "[encoded data removed]",
      "text/plain": [
       "<Figure size 800x600 with 1 Axes>"
      ]
     },
     "metadata": {},
     "output_type": "display_data"
    }
   ],
   "source": [
    "# Plot ROC Curve\n",
    "from sklearn.metrics import accuracy_score, classification_report, confusion_matrix, roc_curve, auc\n",
    "fpr, tpr, thresholds = roc_curve(y_test, X_test.proba)\n",
    "roc_auc = auc(fpr, tpr)\n",
    "plt.figure(figsize=(8, 6))\n",
    "plt.plot(fpr, tpr, color='darkorange', lw=2,\n",
    "         label=f'ROC Curve (AUC = {roc_auc:.2f})')\n",
    "plt.plot([0, 1], [0, 1], color='navy', lw=2, linestyle='--', label='Random')\n",
    "plt.xlabel('False Positive Rate')\n",
    "plt.ylabel('True Positive Rate')\n",
    "plt.title('Receiver Operating Characteristic (ROC) Curve\\nAccuracy: {:.2f}%'.format(\n",
    "    accuracy * 100))\n",
    "plt.legend(loc=\"lower right\")\n",
    "plt.show()"
   ]
  },
  {
   "cell_type": "code",
   "execution_count": null,
   "id": "28e49f16-abce-4450-a45a-a7c60410c467",
   "metadata": {},
   "outputs": [],
   "source": []
  },
  {
   "cell_type": "code",
   "execution_count": null,
   "id": "b98d10ac-6671-4c74-967a-c263dd296030",
   "metadata": {},
   "outputs": [],
   "source": []
  },
  {
   "cell_type": "code",
   "execution_count": null,
   "id": "461ca48e-0b74-4bef-a832-3090b96fcacd",
   "metadata": {},
   "outputs": [],
   "source": []
  },
  {
   "cell_type": "code",
   "execution_count": null,
   "id": "3e139723-4812-421b-a269-1610f6c2ba73",
   "metadata": {},
   "outputs": [],
   "source": []
  },
  {
   "cell_type": "code",
   "execution_count": null,
   "id": "f438c7c0-2498-43ae-8377-69e131825f7b",
   "metadata": {},
   "outputs": [],
   "source": []
  },
  {
   "cell_type": "code",
   "execution_count": null,
   "id": "2c691f97-96c4-43af-bc4f-a13c431d56e0",
   "metadata": {},
   "outputs": [],
   "source": []
  },
  {
   "cell_type": "code",
   "execution_count": null,
   "id": "bd133f97-c979-4b03-a5eb-472d4f9fbad3",
   "metadata": {},
   "outputs": [],
   "source": []
  },
  {
   "cell_type": "code",
   "execution_count": null,
   "id": "1423e6e4-b8f4-4bfe-a6cf-323f30ad57fa",
   "metadata": {},
   "outputs": [],
   "source": []
  },
  {
   "cell_type": "code",
   "execution_count": null,
   "id": "99552cb9-a06c-4a28-a130-1ade4b01105d",
   "metadata": {},
   "outputs": [],
   "source": []
  },
  {
   "cell_type": "code",
   "execution_count": null,
   "id": "90d41b32-1707-49bf-a08d-d83c33b31477",
   "metadata": {},
   "outputs": [],
   "source": []
  },
  {
   "cell_type": "code",
   "execution_count": null,
   "id": "8271b866-0df6-4757-9f3f-a750f0b85bd8",
   "metadata": {},
   "outputs": [],
   "source": []
  },
  {
   "cell_type": "code",
   "execution_count": null,
   "id": "c169ffd1-4f26-4935-b599-95226b722c31",
   "metadata": {},
   "outputs": [],
   "source": []
  },
  {
   "cell_type": "code",
   "execution_count": null,
   "id": "89319728-6b8e-485f-a617-0b9c9b46f1ce",
   "metadata": {},
   "outputs": [],
   "source": []
  },
  {
   "cell_type": "code",
   "execution_count": null,
   "id": "42ddfa81-b6a7-4e04-9aad-6a3bbb8191e8",
   "metadata": {},
   "outputs": [],
   "source": []
  },
  {
   "cell_type": "code",
   "execution_count": null,
   "id": "aa0cf782-2669-4e0c-aac7-144c69ff6d2b",
   "metadata": {},
   "outputs": [],
   "source": []
  },
  {
   "cell_type": "code",
   "execution_count": null,
   "id": "93f5c03d-8819-4c78-80bb-9644f6b616d4",
   "metadata": {},
   "outputs": [],
   "source": []
  }
 ],
 "metadata": {
  "availableInstances": [
   {
    "_defaultOrder": 0,
    "_isFastLaunch": true,
    "category": "General purpose",
    "gpuNum": 0,
    "hideHardwareSpecs": false,
    "memoryGiB": 4,
    "name": "ml.t3.medium",
    "vcpuNum": 2
   },
   {
    "_defaultOrder": 1,
    "_isFastLaunch": false,
    "category": "General purpose",
    "gpuNum": 0,
    "hideHardwareSpecs": false,
    "memoryGiB": 8,
    "name": "ml.t3.large",
    "vcpuNum": 2
   },
   {
    "_defaultOrder": 2,
    "_isFastLaunch": false,
    "category": "General purpose",
    "gpuNum": 0,
    "hideHardwareSpecs": false,
    "memoryGiB": 16,
    "name": "ml.t3.xlarge",
    "vcpuNum": 4
   },
   {
    "_defaultOrder": 3,
    "_isFastLaunch": false,
    "category": "General purpose",
    "gpuNum": 0,
    "hideHardwareSpecs": false,
    "memoryGiB": 32,
    "name": "ml.t3.2xlarge",
    "vcpuNum": 8
   },
   {
    "_defaultOrder": 4,
    "_isFastLaunch": true,
    "category": "General purpose",
    "gpuNum": 0,
    "hideHardwareSpecs": false,
    "memoryGiB": 8,
    "name": "ml.m5.large",
    "vcpuNum": 2
   },
   {
    "_defaultOrder": 5,
    "_isFastLaunch": false,
    "category": "General purpose",
    "gpuNum": 0,
    "hideHardwareSpecs": false,
    "memoryGiB": 16,
    "name": "ml.m5.xlarge",
    "vcpuNum": 4
   },
   {
    "_defaultOrder": 6,
    "_isFastLaunch": false,
    "category": "General purpose",
    "gpuNum": 0,
    "hideHardwareSpecs": false,
    "memoryGiB": 32,
    "name": "ml.m5.2xlarge",
    "vcpuNum": 8
   },
   {
    "_defaultOrder": 7,
    "_isFastLaunch": false,
    "category": "General purpose",
    "gpuNum": 0,
    "hideHardwareSpecs": false,
    "memoryGiB": 64,
    "name": "ml.m5.4xlarge",
    "vcpuNum": 16
   },
   {
    "_defaultOrder": 8,
    "_isFastLaunch": false,
    "category": "General purpose",
    "gpuNum": 0,
    "hideHardwareSpecs": false,
    "memoryGiB": 128,
    "name": "ml.m5.8xlarge",
    "vcpuNum": 32
   },
   {
    "_defaultOrder": 9,
    "_isFastLaunch": false,
    "category": "General purpose",
    "gpuNum": 0,
    "hideHardwareSpecs": false,
    "memoryGiB": 192,
    "name": "ml.m5.12xlarge",
    "vcpuNum": 48
   },
   {
    "_defaultOrder": 10,
    "_isFastLaunch": false,
    "category": "General purpose",
    "gpuNum": 0,
    "hideHardwareSpecs": false,
    "memoryGiB": 256,
    "name": "ml.m5.16xlarge",
    "vcpuNum": 64
   },
   {
    "_defaultOrder": 11,
    "_isFastLaunch": false,
    "category": "General purpose",
    "gpuNum": 0,
    "hideHardwareSpecs": false,
    "memoryGiB": 384,
    "name": "ml.m5.24xlarge",
    "vcpuNum": 96
   },
   {
    "_defaultOrder": 12,
    "_isFastLaunch": false,
    "category": "General purpose",
    "gpuNum": 0,
    "hideHardwareSpecs": false,
    "memoryGiB": 8,
    "name": "ml.m5d.large",
    "vcpuNum": 2
   },
   {
    "_defaultOrder": 13,
    "_isFastLaunch": false,
    "category": "General purpose",
    "gpuNum": 0,
    "hideHardwareSpecs": false,
    "memoryGiB": 16,
    "name": "ml.m5d.xlarge",
    "vcpuNum": 4
   },
   {
    "_defaultOrder": 14,
    "_isFastLaunch": false,
    "category": "General purpose",
    "gpuNum": 0,
    "hideHardwareSpecs": false,
    "memoryGiB": 32,
    "name": "ml.m5d.2xlarge",
    "vcpuNum": 8
   },
   {
    "_defaultOrder": 15,
    "_isFastLaunch": false,
    "category": "General purpose",
    "gpuNum": 0,
    "hideHardwareSpecs": false,
    "memoryGiB": 64,
    "name": "ml.m5d.4xlarge",
    "vcpuNum": 16
   },
   {
    "_defaultOrder": 16,
    "_isFastLaunch": false,
    "category": "General purpose",
    "gpuNum": 0,
    "hideHardwareSpecs": false,
    "memoryGiB": 128,
    "name": "ml.m5d.8xlarge",
    "vcpuNum": 32
   },
   {
    "_defaultOrder": 17,
    "_isFastLaunch": false,
    "category": "General purpose",
    "gpuNum": 0,
    "hideHardwareSpecs": false,
    "memoryGiB": 192,
    "name": "ml.m5d.12xlarge",
    "vcpuNum": 48
   },
   {
    "_defaultOrder": 18,
    "_isFastLaunch": false,
    "category": "General purpose",
    "gpuNum": 0,
    "hideHardwareSpecs": false,
    "memoryGiB": 256,
    "name": "ml.m5d.16xlarge",
    "vcpuNum": 64
   },
   {
    "_defaultOrder": 19,
    "_isFastLaunch": false,
    "category": "General purpose",
    "gpuNum": 0,
    "hideHardwareSpecs": false,
    "memoryGiB": 384,
    "name": "ml.m5d.24xlarge",
    "vcpuNum": 96
   },
   {
    "_defaultOrder": 20,
    "_isFastLaunch": false,
    "category": "General purpose",
    "gpuNum": 0,
    "hideHardwareSpecs": true,
    "memoryGiB": 0,
    "name": "ml.geospatial.interactive",
    "supportedImageNames": [
     "sagemaker-geospatial-v1-0"
    ],
    "vcpuNum": 0
   },
   {
    "_defaultOrder": 21,
    "_isFastLaunch": true,
    "category": "Compute optimized",
    "gpuNum": 0,
    "hideHardwareSpecs": false,
    "memoryGiB": 4,
    "name": "ml.c5.large",
    "vcpuNum": 2
   },
   {
    "_defaultOrder": 22,
    "_isFastLaunch": false,
    "category": "Compute optimized",
    "gpuNum": 0,
    "hideHardwareSpecs": false,
    "memoryGiB": 8,
    "name": "ml.c5.xlarge",
    "vcpuNum": 4
   },
   {
    "_defaultOrder": 23,
    "_isFastLaunch": false,
    "category": "Compute optimized",
    "gpuNum": 0,
    "hideHardwareSpecs": false,
    "memoryGiB": 16,
    "name": "ml.c5.2xlarge",
    "vcpuNum": 8
   },
   {
    "_defaultOrder": 24,
    "_isFastLaunch": false,
    "category": "Compute optimized",
    "gpuNum": 0,
    "hideHardwareSpecs": false,
    "memoryGiB": 32,
    "name": "ml.c5.4xlarge",
    "vcpuNum": 16
   },
   {
    "_defaultOrder": 25,
    "_isFastLaunch": false,
    "category": "Compute optimized",
    "gpuNum": 0,
    "hideHardwareSpecs": false,
    "memoryGiB": 72,
    "name": "ml.c5.9xlarge",
    "vcpuNum": 36
   },
   {
    "_defaultOrder": 26,
    "_isFastLaunch": false,
    "category": "Compute optimized",
    "gpuNum": 0,
    "hideHardwareSpecs": false,
    "memoryGiB": 96,
    "name": "ml.c5.12xlarge",
    "vcpuNum": 48
   },
   {
    "_defaultOrder": 27,
    "_isFastLaunch": false,
    "category": "Compute optimized",
    "gpuNum": 0,
    "hideHardwareSpecs": false,
    "memoryGiB": 144,
    "name": "ml.c5.18xlarge",
    "vcpuNum": 72
   },
   {
    "_defaultOrder": 28,
    "_isFastLaunch": false,
    "category": "Compute optimized",
    "gpuNum": 0,
    "hideHardwareSpecs": false,
    "memoryGiB": 192,
    "name": "ml.c5.24xlarge",
    "vcpuNum": 96
   },
   {
    "_defaultOrder": 29,
    "_isFastLaunch": true,
    "category": "Accelerated computing",
    "gpuNum": 1,
    "hideHardwareSpecs": false,
    "memoryGiB": 16,
    "name": "ml.g4dn.xlarge",
    "vcpuNum": 4
   },
   {
    "_defaultOrder": 30,
    "_isFastLaunch": false,
    "category": "Accelerated computing",
    "gpuNum": 1,
    "hideHardwareSpecs": false,
    "memoryGiB": 32,
    "name": "ml.g4dn.2xlarge",
    "vcpuNum": 8
   },
   {
    "_defaultOrder": 31,
    "_isFastLaunch": false,
    "category": "Accelerated computing",
    "gpuNum": 1,
    "hideHardwareSpecs": false,
    "memoryGiB": 64,
    "name": "ml.g4dn.4xlarge",
    "vcpuNum": 16
   },
   {
    "_defaultOrder": 32,
    "_isFastLaunch": false,
    "category": "Accelerated computing",
    "gpuNum": 1,
    "hideHardwareSpecs": false,
    "memoryGiB": 128,
    "name": "ml.g4dn.8xlarge",
    "vcpuNum": 32
   },
   {
    "_defaultOrder": 33,
    "_isFastLaunch": false,
    "category": "Accelerated computing",
    "gpuNum": 4,
    "hideHardwareSpecs": false,
    "memoryGiB": 192,
    "name": "ml.g4dn.12xlarge",
    "vcpuNum": 48
   },
   {
    "_defaultOrder": 34,
    "_isFastLaunch": false,
    "category": "Accelerated computing",
    "gpuNum": 1,
    "hideHardwareSpecs": false,
    "memoryGiB": 256,
    "name": "ml.g4dn.16xlarge",
    "vcpuNum": 64
   },
   {
    "_defaultOrder": 35,
    "_isFastLaunch": false,
    "category": "Accelerated computing",
    "gpuNum": 1,
    "hideHardwareSpecs": false,
    "memoryGiB": 61,
    "name": "ml.p3.2xlarge",
    "vcpuNum": 8
   },
   {
    "_defaultOrder": 36,
    "_isFastLaunch": false,
    "category": "Accelerated computing",
    "gpuNum": 4,
    "hideHardwareSpecs": false,
    "memoryGiB": 244,
    "name": "ml.p3.8xlarge",
    "vcpuNum": 32
   },
   {
    "_defaultOrder": 37,
    "_isFastLaunch": false,
    "category": "Accelerated computing",
    "gpuNum": 8,
    "hideHardwareSpecs": false,
    "memoryGiB": 488,
    "name": "ml.p3.16xlarge",
    "vcpuNum": 64
   },
   {
    "_defaultOrder": 38,
    "_isFastLaunch": false,
    "category": "Accelerated computing",
    "gpuNum": 8,
    "hideHardwareSpecs": false,
    "memoryGiB": 768,
    "name": "ml.p3dn.24xlarge",
    "vcpuNum": 96
   },
   {
    "_defaultOrder": 39,
    "_isFastLaunch": false,
    "category": "Memory Optimized",
    "gpuNum": 0,
    "hideHardwareSpecs": false,
    "memoryGiB": 16,
    "name": "ml.r5.large",
    "vcpuNum": 2
   },
   {
    "_defaultOrder": 40,
    "_isFastLaunch": false,
    "category": "Memory Optimized",
    "gpuNum": 0,
    "hideHardwareSpecs": false,
    "memoryGiB": 32,
    "name": "ml.r5.xlarge",
    "vcpuNum": 4
   },
   {
    "_defaultOrder": 41,
    "_isFastLaunch": false,
    "category": "Memory Optimized",
    "gpuNum": 0,
    "hideHardwareSpecs": false,
    "memoryGiB": 64,
    "name": "ml.r5.2xlarge",
    "vcpuNum": 8
   },
   {
    "_defaultOrder": 42,
    "_isFastLaunch": false,
    "category": "Memory Optimized",
    "gpuNum": 0,
    "hideHardwareSpecs": false,
    "memoryGiB": 128,
    "name": "ml.r5.4xlarge",
    "vcpuNum": 16
   },
   {
    "_defaultOrder": 43,
    "_isFastLaunch": false,
    "category": "Memory Optimized",
    "gpuNum": 0,
    "hideHardwareSpecs": false,
    "memoryGiB": 256,
    "name": "ml.r5.8xlarge",
    "vcpuNum": 32
   },
   {
    "_defaultOrder": 44,
    "_isFastLaunch": false,
    "category": "Memory Optimized",
    "gpuNum": 0,
    "hideHardwareSpecs": false,
    "memoryGiB": 384,
    "name": "ml.r5.12xlarge",
    "vcpuNum": 48
   },
   {
    "_defaultOrder": 45,
    "_isFastLaunch": false,
    "category": "Memory Optimized",
    "gpuNum": 0,
    "hideHardwareSpecs": false,
    "memoryGiB": 512,
    "name": "ml.r5.16xlarge",
    "vcpuNum": 64
   },
   {
    "_defaultOrder": 46,
    "_isFastLaunch": false,
    "category": "Memory Optimized",
    "gpuNum": 0,
    "hideHardwareSpecs": false,
    "memoryGiB": 768,
    "name": "ml.r5.24xlarge",
    "vcpuNum": 96
   },
   {
    "_defaultOrder": 47,
    "_isFastLaunch": false,
    "category": "Accelerated computing",
    "gpuNum": 1,
    "hideHardwareSpecs": false,
    "memoryGiB": 16,
    "name": "ml.g5.xlarge",
    "vcpuNum": 4
   },
   {
    "_defaultOrder": 48,
    "_isFastLaunch": false,
    "category": "Accelerated computing",
    "gpuNum": 1,
    "hideHardwareSpecs": false,
    "memoryGiB": 32,
    "name": "ml.g5.2xlarge",
    "vcpuNum": 8
   },
   {
    "_defaultOrder": 49,
    "_isFastLaunch": false,
    "category": "Accelerated computing",
    "gpuNum": 1,
    "hideHardwareSpecs": false,
    "memoryGiB": 64,
    "name": "ml.g5.4xlarge",
    "vcpuNum": 16
   },
   {
    "_defaultOrder": 50,
    "_isFastLaunch": false,
    "category": "Accelerated computing",
    "gpuNum": 1,
    "hideHardwareSpecs": false,
    "memoryGiB": 128,
    "name": "ml.g5.8xlarge",
    "vcpuNum": 32
   },
   {
    "_defaultOrder": 51,
    "_isFastLaunch": false,
    "category": "Accelerated computing",
    "gpuNum": 1,
    "hideHardwareSpecs": false,
    "memoryGiB": 256,
    "name": "ml.g5.16xlarge",
    "vcpuNum": 64
   },
   {
    "_defaultOrder": 52,
    "_isFastLaunch": false,
    "category": "Accelerated computing",
    "gpuNum": 4,
    "hideHardwareSpecs": false,
    "memoryGiB": 192,
    "name": "ml.g5.12xlarge",
    "vcpuNum": 48
   },
   {
    "_defaultOrder": 53,
    "_isFastLaunch": false,
    "category": "Accelerated computing",
    "gpuNum": 4,
    "hideHardwareSpecs": false,
    "memoryGiB": 384,
    "name": "ml.g5.24xlarge",
    "vcpuNum": 96
   },
   {
    "_defaultOrder": 54,
    "_isFastLaunch": false,
    "category": "Accelerated computing",
    "gpuNum": 8,
    "hideHardwareSpecs": false,
    "memoryGiB": 768,
    "name": "ml.g5.48xlarge",
    "vcpuNum": 192
   },
   {
    "_defaultOrder": 55,
    "_isFastLaunch": false,
    "category": "Accelerated computing",
    "gpuNum": 8,
    "hideHardwareSpecs": false,
    "memoryGiB": 1152,
    "name": "ml.p4d.24xlarge",
    "vcpuNum": 96
   },
   {
    "_defaultOrder": 56,
    "_isFastLaunch": false,
    "category": "Accelerated computing",
    "gpuNum": 8,
    "hideHardwareSpecs": false,
    "memoryGiB": 1152,
    "name": "ml.p4de.24xlarge",
    "vcpuNum": 96
   },
   {
    "_defaultOrder": 57,
    "_isFastLaunch": false,
    "category": "Accelerated computing",
    "gpuNum": 0,
    "hideHardwareSpecs": false,
    "memoryGiB": 32,
    "name": "ml.trn1.2xlarge",
    "vcpuNum": 8
   },
   {
    "_defaultOrder": 58,
    "_isFastLaunch": false,
    "category": "Accelerated computing",
    "gpuNum": 0,
    "hideHardwareSpecs": false,
    "memoryGiB": 512,
    "name": "ml.trn1.32xlarge",
    "vcpuNum": 128
   },
   {
    "_defaultOrder": 59,
    "_isFastLaunch": false,
    "category": "Accelerated computing",
    "gpuNum": 0,
    "hideHardwareSpecs": false,
    "memoryGiB": 512,
    "name": "ml.trn1n.32xlarge",
    "vcpuNum": 128
   }
  ],
  "instance_type": "ml.m5.4xlarge",
  "kernelspec": {
   "display_name": "Python 3 (Data Science 3.0)",
   "language": "python",
   "name": "python3__SAGEMAKER_INTERNAL__arn:aws:sagemaker:us-east-1:081325390199:image/sagemaker-data-science-310-v1"
  },
  "language_info": {
   "codemirror_mode": {
    "name": "ipython",
    "version": 3
   },
   "file_extension": ".py",
   "mimetype": "text/x-python",
   "name": "python",
   "nbconvert_exporter": "python",
   "pygments_lexer": "ipython3",
   "version": "3.10.6"
  }
 },
 "nbformat": 4,
 "nbformat_minor": 5
}
