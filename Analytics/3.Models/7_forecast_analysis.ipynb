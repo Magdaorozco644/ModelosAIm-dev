{
 "cells": [
  {
   "cell_type": "code",
   "execution_count": 91,
   "id": "fad936de-3bac-492f-bbc4-a6959c5205d1",
   "metadata": {
    "tags": []
   },
   "outputs": [],
   "source": [
    "import boto3"
   ]
  },
  {
   "cell_type": "code",
   "execution_count": 92,
   "id": "ea967389-2758-4a57-86f6-e833d9b4d41e",
   "metadata": {
    "tags": []
   },
   "outputs": [],
   "source": [
    "import pandas as pd\n",
    "from io import StringIO"
   ]
  },
  {
   "cell_type": "code",
   "execution_count": 93,
   "id": "b732f32c-e12b-4c9f-8891-22209c98dd83",
   "metadata": {},
   "outputs": [],
   "source": [
    "# Set up S3 client\n",
    "client = boto3.client('s3')"
   ]
  },
  {
   "cell_type": "code",
   "execution_count": 94,
   "id": "ec4f7f89-ddbc-41bd-b5a7-db19a8421987",
   "metadata": {
    "tags": []
   },
   "outputs": [],
   "source": [
    "folders_list =  ['forecast_7d_25_11_2022', 'forecast_7d_20_12_2022', 'forecast_7d_29_12_2022', \n",
    "                'forecast_7d_20_03_2023', 'forecast_7d_05_05_2023', 'forecast_7d_30_06_2023', 'forecast_7d_10_09_2023']"
   ]
  },
  {
   "cell_type": "code",
   "execution_count": 95,
   "id": "848dff3c-7d29-4b5f-96ca-430ba5785f21",
   "metadata": {
    "tags": []
   },
   "outputs": [],
   "source": [
    "# Bucket name and common prefix\n",
    "bucket_forecast = 'viamericas-datalake-dev-us-east-1-283731589572-analytics'\n",
    "common_path = 'Forecast/Forecast_analysis/'"
   ]
  },
  {
   "cell_type": "code",
   "execution_count": 96,
   "id": "9f654380-70f1-45dc-9648-2372ded63735",
   "metadata": {
    "tags": []
   },
   "outputs": [],
   "source": [
    "# Initialize a list to store DataFrames\n",
    "dfs = []"
   ]
  },
  {
   "cell_type": "code",
   "execution_count": 97,
   "id": "e5fb1caf-6f28-416b-9152-bb17f52a1345",
   "metadata": {
    "tags": []
   },
   "outputs": [],
   "source": [
    "# Iterate over each folder in the list\n",
    "for folder_item in folders_list:\n",
    "    # Build the new path for the current folder\n",
    "    path = f'{common_path}{folder_item}/'\n",
    "    \n",
    "    # List objects in the folder\n",
    "    elements = client.list_objects(Bucket=bucket_forecast, Prefix=path)\n",
    "\n",
    "    # Iterate over each object in the folder\n",
    "    for obj in elements.get('Contents', []):\n",
    "        # Check if the object is a CSV file\n",
    "        if obj['Key'].endswith('.csv'):\n",
    "            # Read CSV content from S3\n",
    "            response = client.get_object(Bucket=bucket_forecast, Key=obj['Key'])\n",
    "            csv_content = response['Body'].read().decode('utf-8')\n",
    "\n",
    "            # Transform CSV content to DataFrame\n",
    "            df = pd.read_csv(StringIO(csv_content))\n",
    "\n",
    "            \n",
    "            df['folder_id'] = folder_item # 'folder_id' column to indentify the forecast\n",
    "\n",
    "            dfs.append(df)"
   ]
  },
  {
   "cell_type": "code",
   "execution_count": 98,
   "id": "4744b17b-b437-4c72-8cbc-ef5c2f832a5b",
   "metadata": {
    "tags": []
   },
   "outputs": [
    {
     "name": "stderr",
     "output_type": "stream",
     "text": [
      "/tmp/ipykernel_19/3299088048.py:2: FutureWarning: The behavior of DataFrame concatenation with empty or all-NA entries is deprecated. In a future version, this will no longer exclude empty or all-NA columns when determining the result dtypes. To retain the old behavior, exclude the relevant entries before the concat operation.\n",
      "  final_df = pd.concat(dfs, ignore_index=True)\n"
     ]
    }
   ],
   "source": [
    "# Concatenate all DataFrames into a single one\n",
    "final_df = pd.concat(dfs, ignore_index=True)"
   ]
  },
  {
   "cell_type": "code",
   "execution_count": 99,
   "id": "b87da4d3-2541-4abf-893a-0dbba7f375ef",
   "metadata": {
    "tags": []
   },
   "outputs": [
    {
     "data": {
      "text/plain": [
       "array(['forecast_7d_25_11_2022', 'forecast_7d_20_12_2022',\n",
       "       'forecast_7d_29_12_2022', 'forecast_7d_20_03_2023',\n",
       "       'forecast_7d_05_05_2023', 'forecast_7d_30_06_2023',\n",
       "       'forecast_7d_10_09_2023'], dtype=object)"
      ]
     },
     "execution_count": 99,
     "metadata": {},
     "output_type": "execute_result"
    }
   ],
   "source": [
    "final_df['folder_id'].unique()"
   ]
  },
  {
   "cell_type": "code",
   "execution_count": 100,
   "id": "ef562a27-acb1-4963-a80e-02de5ef42e96",
   "metadata": {
    "tags": []
   },
   "outputs": [],
   "source": [
    "final_df['date'] = pd.to_datetime(final_df['date']).dt.date"
   ]
  },
  {
   "cell_type": "code",
   "execution_count": 101,
   "id": "4c5f944c-bec1-4b48-860d-ec15bd660db0",
   "metadata": {
    "tags": []
   },
   "outputs": [],
   "source": [
    "final_df.drop('item_id', axis=1, inplace=True)"
   ]
  },
  {
   "cell_type": "code",
   "execution_count": 102,
   "id": "65597e9f-6eac-4b20-8f42-fee70d45128b",
   "metadata": {
    "tags": []
   },
   "outputs": [],
   "source": [
    "final_df = final_df[['folder_id', 'date','country', 'payer', 'p10', 'p50', 'p90', 'mean']]"
   ]
  },
  {
   "cell_type": "code",
   "execution_count": 103,
   "id": "080d6615-18ae-4532-aa9b-0c8d07520ca7",
   "metadata": {
    "tags": []
   },
   "outputs": [
    {
     "data": {
      "text/plain": [
       "49"
      ]
     },
     "execution_count": 103,
     "metadata": {},
     "output_type": "execute_result"
    }
   ],
   "source": [
    "final_df['date'].nunique()"
   ]
  },
  {
   "cell_type": "code",
   "execution_count": 104,
   "id": "580feab1-a83d-4480-b3d8-e9e17ded8cf5",
   "metadata": {
    "tags": []
   },
   "outputs": [
    {
     "name": "stderr",
     "output_type": "stream",
     "text": [
      "/tmp/ipykernel_19/2399063668.py:1: FutureWarning: DataFrame.applymap has been deprecated. Use DataFrame.map instead.\n",
      "  final_df = final_df.applymap(lambda x: x.upper() if isinstance(x, str) else x)\n"
     ]
    }
   ],
   "source": [
    "final_df = final_df.applymap(lambda x: x.upper() if isinstance(x, str) else x)"
   ]
  },
  {
   "cell_type": "code",
   "execution_count": 105,
   "id": "44492e67-72af-4223-8036-5d72232f71af",
   "metadata": {
    "tags": []
   },
   "outputs": [
    {
     "data": {
      "text/html": [
       "<div>\n",
       "<style scoped>\n",
       "    .dataframe tbody tr th:only-of-type {\n",
       "        vertical-align: middle;\n",
       "    }\n",
       "\n",
       "    .dataframe tbody tr th {\n",
       "        vertical-align: top;\n",
       "    }\n",
       "\n",
       "    .dataframe thead th {\n",
       "        text-align: right;\n",
       "    }\n",
       "</style>\n",
       "<table border=\"1\" class=\"dataframe\">\n",
       "  <thead>\n",
       "    <tr style=\"text-align: right;\">\n",
       "      <th></th>\n",
       "      <th>folder_id</th>\n",
       "      <th>date</th>\n",
       "      <th>country</th>\n",
       "      <th>payer</th>\n",
       "      <th>p10</th>\n",
       "      <th>p50</th>\n",
       "      <th>p90</th>\n",
       "      <th>mean</th>\n",
       "    </tr>\n",
       "  </thead>\n",
       "  <tbody>\n",
       "    <tr>\n",
       "      <th>0</th>\n",
       "      <td>FORECAST_7D_25_11_2022</td>\n",
       "      <td>2022-11-26</td>\n",
       "      <td>ECUADOR</td>\n",
       "      <td>ECUAGIROS</td>\n",
       "      <td>50959</td>\n",
       "      <td>67213</td>\n",
       "      <td>82265</td>\n",
       "      <td>67214</td>\n",
       "    </tr>\n",
       "    <tr>\n",
       "      <th>1</th>\n",
       "      <td>FORECAST_7D_25_11_2022</td>\n",
       "      <td>2022-11-27</td>\n",
       "      <td>ECUADOR</td>\n",
       "      <td>ECUAGIROS</td>\n",
       "      <td>52365</td>\n",
       "      <td>66641</td>\n",
       "      <td>83326</td>\n",
       "      <td>66882</td>\n",
       "    </tr>\n",
       "    <tr>\n",
       "      <th>2</th>\n",
       "      <td>FORECAST_7D_25_11_2022</td>\n",
       "      <td>2022-11-28</td>\n",
       "      <td>ECUADOR</td>\n",
       "      <td>ECUAGIROS</td>\n",
       "      <td>68499</td>\n",
       "      <td>88875</td>\n",
       "      <td>109519</td>\n",
       "      <td>89118</td>\n",
       "    </tr>\n",
       "    <tr>\n",
       "      <th>3</th>\n",
       "      <td>FORECAST_7D_25_11_2022</td>\n",
       "      <td>2022-11-29</td>\n",
       "      <td>ECUADOR</td>\n",
       "      <td>ECUAGIROS</td>\n",
       "      <td>55936</td>\n",
       "      <td>72019</td>\n",
       "      <td>89362</td>\n",
       "      <td>72211</td>\n",
       "    </tr>\n",
       "    <tr>\n",
       "      <th>4</th>\n",
       "      <td>FORECAST_7D_25_11_2022</td>\n",
       "      <td>2022-11-30</td>\n",
       "      <td>ECUADOR</td>\n",
       "      <td>ECUAGIROS</td>\n",
       "      <td>47200</td>\n",
       "      <td>63398</td>\n",
       "      <td>78582</td>\n",
       "      <td>63426</td>\n",
       "    </tr>\n",
       "  </tbody>\n",
       "</table>\n",
       "</div>"
      ],
      "text/plain": [
       "                folder_id        date  country      payer   p10   p50    p90  \\\n",
       "0  FORECAST_7D_25_11_2022  2022-11-26  ECUADOR  ECUAGIROS 50959 67213  82265   \n",
       "1  FORECAST_7D_25_11_2022  2022-11-27  ECUADOR  ECUAGIROS 52365 66641  83326   \n",
       "2  FORECAST_7D_25_11_2022  2022-11-28  ECUADOR  ECUAGIROS 68499 88875 109519   \n",
       "3  FORECAST_7D_25_11_2022  2022-11-29  ECUADOR  ECUAGIROS 55936 72019  89362   \n",
       "4  FORECAST_7D_25_11_2022  2022-11-30  ECUADOR  ECUAGIROS 47200 63398  78582   \n",
       "\n",
       "   mean  \n",
       "0 67214  \n",
       "1 66882  \n",
       "2 89118  \n",
       "3 72211  \n",
       "4 63426  "
      ]
     },
     "execution_count": 105,
     "metadata": {},
     "output_type": "execute_result"
    }
   ],
   "source": [
    "final_df.head()"
   ]
  },
  {
   "cell_type": "code",
   "execution_count": 106,
   "id": "12507add-2b1d-42eb-acc4-199d3368eaa0",
   "metadata": {
    "tags": []
   },
   "outputs": [],
   "source": [
    "# DB Setting\n",
    "bucket_name = 's3://viamericas-datalake-dev-us-east-1-283731589572-athena/'\n",
    "origin_name = 'AwsDataCatalog'\n",
    "database_name= 'analytics'\n",
    "table_name = 'daily_check'"
   ]
  },
  {
   "cell_type": "code",
   "execution_count": 107,
   "id": "be9343f3-9a7b-49e7-9730-bb2d687159df",
   "metadata": {
    "tags": []
   },
   "outputs": [],
   "source": [
    "#pip install pyathena"
   ]
  },
  {
   "cell_type": "code",
   "execution_count": 108,
   "id": "c788a0d1-0680-4426-b8cd-5df89e088d3e",
   "metadata": {
    "tags": []
   },
   "outputs": [
    {
     "name": "stderr",
     "output_type": "stream",
     "text": [
      "/tmp/ipykernel_19/268183201.py:6: UserWarning: pandas only supports SQLAlchemy connectable (engine/connection) or database string URI or sqlite3 DBAPI2 connection. Other DBAPI2 objects are not tested. Please consider using SQLAlchemy.\n",
      "  df_daily_check = pd.read_sql(f'SELECT * FROM {origin_name}.{database_name}.{table_name};', conn)\n"
     ]
    }
   ],
   "source": [
    "from pyathena import connect\n",
    "\n",
    "#Connection\n",
    "conn = connect(s3_staging_dir=f'{bucket_name}queryresults/',\n",
    "               region_name='us-east-1')\n",
    "df_daily_check = pd.read_sql(f'SELECT * FROM {origin_name}.{database_name}.{table_name};', conn)"
   ]
  },
  {
   "cell_type": "code",
   "execution_count": 109,
   "id": "00315870-72a2-49b4-9c6e-52fe6e6b8b62",
   "metadata": {
    "tags": []
   },
   "outputs": [],
   "source": [
    "df_daily_check['date'] = pd.to_datetime(df_daily_check['date']).dt.date"
   ]
  },
  {
   "cell_type": "code",
   "execution_count": 110,
   "id": "44729ebb-3095-4a8c-a1be-a62a0e07055c",
   "metadata": {
    "tags": []
   },
   "outputs": [
    {
     "data": {
      "text/html": [
       "<div>\n",
       "<style scoped>\n",
       "    .dataframe tbody tr th:only-of-type {\n",
       "        vertical-align: middle;\n",
       "    }\n",
       "\n",
       "    .dataframe tbody tr th {\n",
       "        vertical-align: top;\n",
       "    }\n",
       "\n",
       "    .dataframe thead th {\n",
       "        text-align: right;\n",
       "    }\n",
       "</style>\n",
       "<table border=\"1\" class=\"dataframe\">\n",
       "  <thead>\n",
       "    <tr style=\"text-align: right;\">\n",
       "      <th></th>\n",
       "      <th>payer</th>\n",
       "      <th>country</th>\n",
       "      <th>date</th>\n",
       "      <th>tx</th>\n",
       "      <th>amount</th>\n",
       "      <th>coupon_count</th>\n",
       "    </tr>\n",
       "  </thead>\n",
       "  <tbody>\n",
       "    <tr>\n",
       "      <th>0</th>\n",
       "      <td>BANCO AGRICOLA</td>\n",
       "      <td>EL SALVADOR</td>\n",
       "      <td>2021-06-17</td>\n",
       "      <td>707</td>\n",
       "      <td>198615</td>\n",
       "      <td>316</td>\n",
       "    </tr>\n",
       "    <tr>\n",
       "      <th>1</th>\n",
       "      <td>CHEDRAUI (APPRIZA)</td>\n",
       "      <td>MEXICO</td>\n",
       "      <td>2021-06-17</td>\n",
       "      <td>32</td>\n",
       "      <td>17128</td>\n",
       "      <td>12</td>\n",
       "    </tr>\n",
       "    <tr>\n",
       "      <th>2</th>\n",
       "      <td>24XORO</td>\n",
       "      <td>MEXICO</td>\n",
       "      <td>2023-07-03</td>\n",
       "      <td>53</td>\n",
       "      <td>37002</td>\n",
       "      <td>1</td>\n",
       "    </tr>\n",
       "    <tr>\n",
       "      <th>3</th>\n",
       "      <td>BANCO DE GUAYAQUIL</td>\n",
       "      <td>ECUADOR</td>\n",
       "      <td>2022-08-16</td>\n",
       "      <td>105</td>\n",
       "      <td>54358</td>\n",
       "      <td>1</td>\n",
       "    </tr>\n",
       "    <tr>\n",
       "      <th>4</th>\n",
       "      <td>TELECOMM TELEGRAFOS (APPRIZA)</td>\n",
       "      <td>MEXICO</td>\n",
       "      <td>2021-11-12</td>\n",
       "      <td>696</td>\n",
       "      <td>391241</td>\n",
       "      <td>73</td>\n",
       "    </tr>\n",
       "  </tbody>\n",
       "</table>\n",
       "</div>"
      ],
      "text/plain": [
       "                           payer      country        date   tx  amount  \\\n",
       "0                 BANCO AGRICOLA  EL SALVADOR  2021-06-17  707  198615   \n",
       "1             CHEDRAUI (APPRIZA)       MEXICO  2021-06-17   32   17128   \n",
       "2                         24XORO       MEXICO  2023-07-03   53   37002   \n",
       "3             BANCO DE GUAYAQUIL      ECUADOR  2022-08-16  105   54358   \n",
       "4  TELECOMM TELEGRAFOS (APPRIZA)       MEXICO  2021-11-12  696  391241   \n",
       "\n",
       "   coupon_count  \n",
       "0           316  \n",
       "1            12  \n",
       "2             1  \n",
       "3             1  \n",
       "4            73  "
      ]
     },
     "execution_count": 110,
     "metadata": {},
     "output_type": "execute_result"
    }
   ],
   "source": [
    "df_daily_check.head()"
   ]
  },
  {
   "cell_type": "code",
   "execution_count": 111,
   "id": "600eace7-599b-4834-b174-3737d304a492",
   "metadata": {
    "tags": []
   },
   "outputs": [],
   "source": [
    "# Merge both df, keeping only daily_check data related to forecast\n",
    "df_forecast = pd.merge(df_daily_check, final_df, on=['date','payer','country'], how='inner') "
   ]
  },
  {
   "cell_type": "code",
   "execution_count": 112,
   "id": "cdb59d35-e29c-488b-b2e8-f1556a8986fe",
   "metadata": {
    "tags": []
   },
   "outputs": [
    {
     "data": {
      "text/plain": [
       "49"
      ]
     },
     "execution_count": 112,
     "metadata": {},
     "output_type": "execute_result"
    }
   ],
   "source": [
    "df_forecast['date'].nunique()"
   ]
  },
  {
   "cell_type": "code",
   "execution_count": 113,
   "id": "2cbb677c-09df-4f03-9e49-98eb3bbc11ae",
   "metadata": {
    "tags": []
   },
   "outputs": [],
   "source": [
    "df_forecast = df_forecast.loc[df_forecast.amount!=0] # To process"
   ]
  },
  {
   "cell_type": "code",
   "execution_count": 114,
   "id": "b018859d-4c56-4542-a387-16b46fea855f",
   "metadata": {
    "tags": []
   },
   "outputs": [],
   "source": [
    "df_forecast[\"pe\"] = abs((df_forecast['amount'] - df_forecast['mean']) / df_forecast['amount'])"
   ]
  },
  {
   "cell_type": "code",
   "execution_count": 115,
   "id": "24e58bc1-78a1-49e5-bcfe-ce2a8e1e0d71",
   "metadata": {
    "tags": []
   },
   "outputs": [
    {
     "data": {
      "text/plain": [
       "(1.4803371099277962e-05, 596.8732956016264)"
      ]
     },
     "execution_count": 115,
     "metadata": {},
     "output_type": "execute_result"
    }
   ],
   "source": [
    "df_forecast.pe.min(), df_forecast.pe.max()"
   ]
  },
  {
   "cell_type": "code",
   "execution_count": 116,
   "id": "989ef3ad-fcbc-4568-9c09-05d9ed6de8fb",
   "metadata": {
    "tags": []
   },
   "outputs": [],
   "source": [
    "df_forecast = df_forecast.sort_values(['folder_id', 'country', 'payer','date'])"
   ]
  },
  {
   "cell_type": "code",
   "execution_count": 117,
   "id": "61be54fc-af8f-44a5-831e-1432d6f2d1d8",
   "metadata": {
    "tags": []
   },
   "outputs": [
    {
     "data": {
      "text/html": [
       "<div>\n",
       "<style scoped>\n",
       "    .dataframe tbody tr th:only-of-type {\n",
       "        vertical-align: middle;\n",
       "    }\n",
       "\n",
       "    .dataframe tbody tr th {\n",
       "        vertical-align: top;\n",
       "    }\n",
       "\n",
       "    .dataframe thead th {\n",
       "        text-align: right;\n",
       "    }\n",
       "</style>\n",
       "<table border=\"1\" class=\"dataframe\">\n",
       "  <thead>\n",
       "    <tr style=\"text-align: right;\">\n",
       "      <th></th>\n",
       "      <th>payer</th>\n",
       "      <th>country</th>\n",
       "      <th>date</th>\n",
       "      <th>tx</th>\n",
       "      <th>amount</th>\n",
       "      <th>coupon_count</th>\n",
       "      <th>folder_id</th>\n",
       "      <th>p10</th>\n",
       "      <th>p50</th>\n",
       "      <th>p90</th>\n",
       "      <th>mean</th>\n",
       "      <th>pe</th>\n",
       "    </tr>\n",
       "  </thead>\n",
       "  <tbody>\n",
       "    <tr>\n",
       "      <th>1814</th>\n",
       "      <td>ARGENPER</td>\n",
       "      <td>ARGENTINA</td>\n",
       "      <td>2023-05-06</td>\n",
       "      <td>3</td>\n",
       "      <td>371</td>\n",
       "      <td>0</td>\n",
       "      <td>FORECAST_7D_05_05_2023</td>\n",
       "      <td>88</td>\n",
       "      <td>535</td>\n",
       "      <td>982</td>\n",
       "      <td>535</td>\n",
       "      <td>0</td>\n",
       "    </tr>\n",
       "    <tr>\n",
       "      <th>1118</th>\n",
       "      <td>ARGENPER</td>\n",
       "      <td>ARGENTINA</td>\n",
       "      <td>2023-05-07</td>\n",
       "      <td>3</td>\n",
       "      <td>235</td>\n",
       "      <td>0</td>\n",
       "      <td>FORECAST_7D_05_05_2023</td>\n",
       "      <td>-46</td>\n",
       "      <td>401</td>\n",
       "      <td>849</td>\n",
       "      <td>401</td>\n",
       "      <td>1</td>\n",
       "    </tr>\n",
       "    <tr>\n",
       "      <th>2278</th>\n",
       "      <td>ARGENPER</td>\n",
       "      <td>ARGENTINA</td>\n",
       "      <td>2023-05-08</td>\n",
       "      <td>1</td>\n",
       "      <td>100</td>\n",
       "      <td>0</td>\n",
       "      <td>FORECAST_7D_05_05_2023</td>\n",
       "      <td>192</td>\n",
       "      <td>639</td>\n",
       "      <td>1087</td>\n",
       "      <td>639</td>\n",
       "      <td>5</td>\n",
       "    </tr>\n",
       "    <tr>\n",
       "      <th>4447</th>\n",
       "      <td>ARGENPER</td>\n",
       "      <td>ARGENTINA</td>\n",
       "      <td>2023-05-09</td>\n",
       "      <td>3</td>\n",
       "      <td>394</td>\n",
       "      <td>0</td>\n",
       "      <td>FORECAST_7D_05_05_2023</td>\n",
       "      <td>164</td>\n",
       "      <td>611</td>\n",
       "      <td>1059</td>\n",
       "      <td>611</td>\n",
       "      <td>1</td>\n",
       "    </tr>\n",
       "    <tr>\n",
       "      <th>947</th>\n",
       "      <td>ARGENPER</td>\n",
       "      <td>ARGENTINA</td>\n",
       "      <td>2023-05-10</td>\n",
       "      <td>3</td>\n",
       "      <td>290</td>\n",
       "      <td>0</td>\n",
       "      <td>FORECAST_7D_05_05_2023</td>\n",
       "      <td>111</td>\n",
       "      <td>559</td>\n",
       "      <td>1007</td>\n",
       "      <td>559</td>\n",
       "      <td>1</td>\n",
       "    </tr>\n",
       "    <tr>\n",
       "      <th>1784</th>\n",
       "      <td>ARGENPER</td>\n",
       "      <td>ARGENTINA</td>\n",
       "      <td>2023-05-11</td>\n",
       "      <td>5</td>\n",
       "      <td>939</td>\n",
       "      <td>0</td>\n",
       "      <td>FORECAST_7D_05_05_2023</td>\n",
       "      <td>26</td>\n",
       "      <td>474</td>\n",
       "      <td>922</td>\n",
       "      <td>474</td>\n",
       "      <td>0</td>\n",
       "    </tr>\n",
       "    <tr>\n",
       "      <th>2566</th>\n",
       "      <td>ARGENPER</td>\n",
       "      <td>ARGENTINA</td>\n",
       "      <td>2023-05-12</td>\n",
       "      <td>6</td>\n",
       "      <td>1400</td>\n",
       "      <td>0</td>\n",
       "      <td>FORECAST_7D_05_05_2023</td>\n",
       "      <td>161</td>\n",
       "      <td>609</td>\n",
       "      <td>1057</td>\n",
       "      <td>609</td>\n",
       "      <td>1</td>\n",
       "    </tr>\n",
       "    <tr>\n",
       "      <th>3753</th>\n",
       "      <td>TRANSPAY</td>\n",
       "      <td>BANGLADESH</td>\n",
       "      <td>2023-05-08</td>\n",
       "      <td>1</td>\n",
       "      <td>399</td>\n",
       "      <td>1</td>\n",
       "      <td>FORECAST_7D_05_05_2023</td>\n",
       "      <td>-36</td>\n",
       "      <td>1186</td>\n",
       "      <td>2407</td>\n",
       "      <td>1186</td>\n",
       "      <td>2</td>\n",
       "    </tr>\n",
       "    <tr>\n",
       "      <th>268</th>\n",
       "      <td>TRANSFERTO - THUNES</td>\n",
       "      <td>BELGIUM</td>\n",
       "      <td>2023-05-10</td>\n",
       "      <td>1</td>\n",
       "      <td>46</td>\n",
       "      <td>0</td>\n",
       "      <td>FORECAST_7D_05_05_2023</td>\n",
       "      <td>-258</td>\n",
       "      <td>93</td>\n",
       "      <td>444</td>\n",
       "      <td>93</td>\n",
       "      <td>1</td>\n",
       "    </tr>\n",
       "    <tr>\n",
       "      <th>991</th>\n",
       "      <td>TRANSFERTO - THUNES</td>\n",
       "      <td>BELGIUM</td>\n",
       "      <td>2023-05-12</td>\n",
       "      <td>1</td>\n",
       "      <td>335</td>\n",
       "      <td>0</td>\n",
       "      <td>FORECAST_7D_05_05_2023</td>\n",
       "      <td>-258</td>\n",
       "      <td>93</td>\n",
       "      <td>444</td>\n",
       "      <td>93</td>\n",
       "      <td>1</td>\n",
       "    </tr>\n",
       "    <tr>\n",
       "      <th>2174</th>\n",
       "      <td>TRANSPAY</td>\n",
       "      <td>BENIN</td>\n",
       "      <td>2023-05-08</td>\n",
       "      <td>2</td>\n",
       "      <td>700</td>\n",
       "      <td>0</td>\n",
       "      <td>FORECAST_7D_05_05_2023</td>\n",
       "      <td>-147</td>\n",
       "      <td>97</td>\n",
       "      <td>342</td>\n",
       "      <td>97</td>\n",
       "      <td>1</td>\n",
       "    </tr>\n",
       "    <tr>\n",
       "      <th>893</th>\n",
       "      <td>TRANSPAY</td>\n",
       "      <td>BENIN</td>\n",
       "      <td>2023-05-10</td>\n",
       "      <td>2</td>\n",
       "      <td>1100</td>\n",
       "      <td>0</td>\n",
       "      <td>FORECAST_7D_05_05_2023</td>\n",
       "      <td>-147</td>\n",
       "      <td>97</td>\n",
       "      <td>342</td>\n",
       "      <td>97</td>\n",
       "      <td>1</td>\n",
       "    </tr>\n",
       "    <tr>\n",
       "      <th>3954</th>\n",
       "      <td>TRANSPAY</td>\n",
       "      <td>BENIN</td>\n",
       "      <td>2023-05-11</td>\n",
       "      <td>1</td>\n",
       "      <td>190</td>\n",
       "      <td>0</td>\n",
       "      <td>FORECAST_7D_05_05_2023</td>\n",
       "      <td>-148</td>\n",
       "      <td>97</td>\n",
       "      <td>342</td>\n",
       "      <td>97</td>\n",
       "      <td>0</td>\n",
       "    </tr>\n",
       "    <tr>\n",
       "      <th>4274</th>\n",
       "      <td>BANCO BISA</td>\n",
       "      <td>BOLIVIA</td>\n",
       "      <td>2023-05-06</td>\n",
       "      <td>22</td>\n",
       "      <td>7935</td>\n",
       "      <td>0</td>\n",
       "      <td>FORECAST_7D_05_05_2023</td>\n",
       "      <td>402</td>\n",
       "      <td>7523</td>\n",
       "      <td>14643</td>\n",
       "      <td>7523</td>\n",
       "      <td>0</td>\n",
       "    </tr>\n",
       "    <tr>\n",
       "      <th>3824</th>\n",
       "      <td>BANCO BISA</td>\n",
       "      <td>BOLIVIA</td>\n",
       "      <td>2023-05-07</td>\n",
       "      <td>26</td>\n",
       "      <td>9120</td>\n",
       "      <td>1</td>\n",
       "      <td>FORECAST_7D_05_05_2023</td>\n",
       "      <td>93</td>\n",
       "      <td>7216</td>\n",
       "      <td>14339</td>\n",
       "      <td>7216</td>\n",
       "      <td>0</td>\n",
       "    </tr>\n",
       "    <tr>\n",
       "      <th>3153</th>\n",
       "      <td>BANCO BISA</td>\n",
       "      <td>BOLIVIA</td>\n",
       "      <td>2023-05-08</td>\n",
       "      <td>36</td>\n",
       "      <td>23909</td>\n",
       "      <td>0</td>\n",
       "      <td>FORECAST_7D_05_05_2023</td>\n",
       "      <td>6763</td>\n",
       "      <td>13889</td>\n",
       "      <td>21014</td>\n",
       "      <td>13889</td>\n",
       "      <td>0</td>\n",
       "    </tr>\n",
       "    <tr>\n",
       "      <th>3747</th>\n",
       "      <td>BANCO BISA</td>\n",
       "      <td>BOLIVIA</td>\n",
       "      <td>2023-05-09</td>\n",
       "      <td>31</td>\n",
       "      <td>9811</td>\n",
       "      <td>0</td>\n",
       "      <td>FORECAST_7D_05_05_2023</td>\n",
       "      <td>4057</td>\n",
       "      <td>11185</td>\n",
       "      <td>18313</td>\n",
       "      <td>11185</td>\n",
       "      <td>0</td>\n",
       "    </tr>\n",
       "    <tr>\n",
       "      <th>1701</th>\n",
       "      <td>BANCO BISA</td>\n",
       "      <td>BOLIVIA</td>\n",
       "      <td>2023-05-10</td>\n",
       "      <td>29</td>\n",
       "      <td>13991</td>\n",
       "      <td>0</td>\n",
       "      <td>FORECAST_7D_05_05_2023</td>\n",
       "      <td>3817</td>\n",
       "      <td>10948</td>\n",
       "      <td>18078</td>\n",
       "      <td>10948</td>\n",
       "      <td>0</td>\n",
       "    </tr>\n",
       "    <tr>\n",
       "      <th>4686</th>\n",
       "      <td>BANCO BISA</td>\n",
       "      <td>BOLIVIA</td>\n",
       "      <td>2023-05-11</td>\n",
       "      <td>25</td>\n",
       "      <td>12005</td>\n",
       "      <td>0</td>\n",
       "      <td>FORECAST_7D_05_05_2023</td>\n",
       "      <td>2955</td>\n",
       "      <td>10088</td>\n",
       "      <td>17220</td>\n",
       "      <td>10088</td>\n",
       "      <td>0</td>\n",
       "    </tr>\n",
       "    <tr>\n",
       "      <th>4655</th>\n",
       "      <td>BANCO BISA</td>\n",
       "      <td>BOLIVIA</td>\n",
       "      <td>2023-05-12</td>\n",
       "      <td>29</td>\n",
       "      <td>10880</td>\n",
       "      <td>0</td>\n",
       "      <td>FORECAST_7D_05_05_2023</td>\n",
       "      <td>4058</td>\n",
       "      <td>11193</td>\n",
       "      <td>18329</td>\n",
       "      <td>11193</td>\n",
       "      <td>0</td>\n",
       "    </tr>\n",
       "  </tbody>\n",
       "</table>\n",
       "</div>"
      ],
      "text/plain": [
       "                    payer     country        date  tx  amount  coupon_count  \\\n",
       "1814             ARGENPER   ARGENTINA  2023-05-06   3     371             0   \n",
       "1118             ARGENPER   ARGENTINA  2023-05-07   3     235             0   \n",
       "2278             ARGENPER   ARGENTINA  2023-05-08   1     100             0   \n",
       "4447             ARGENPER   ARGENTINA  2023-05-09   3     394             0   \n",
       "947              ARGENPER   ARGENTINA  2023-05-10   3     290             0   \n",
       "1784             ARGENPER   ARGENTINA  2023-05-11   5     939             0   \n",
       "2566             ARGENPER   ARGENTINA  2023-05-12   6    1400             0   \n",
       "3753             TRANSPAY  BANGLADESH  2023-05-08   1     399             1   \n",
       "268   TRANSFERTO - THUNES     BELGIUM  2023-05-10   1      46             0   \n",
       "991   TRANSFERTO - THUNES     BELGIUM  2023-05-12   1     335             0   \n",
       "2174             TRANSPAY       BENIN  2023-05-08   2     700             0   \n",
       "893              TRANSPAY       BENIN  2023-05-10   2    1100             0   \n",
       "3954             TRANSPAY       BENIN  2023-05-11   1     190             0   \n",
       "4274           BANCO BISA     BOLIVIA  2023-05-06  22    7935             0   \n",
       "3824           BANCO BISA     BOLIVIA  2023-05-07  26    9120             1   \n",
       "3153           BANCO BISA     BOLIVIA  2023-05-08  36   23909             0   \n",
       "3747           BANCO BISA     BOLIVIA  2023-05-09  31    9811             0   \n",
       "1701           BANCO BISA     BOLIVIA  2023-05-10  29   13991             0   \n",
       "4686           BANCO BISA     BOLIVIA  2023-05-11  25   12005             0   \n",
       "4655           BANCO BISA     BOLIVIA  2023-05-12  29   10880             0   \n",
       "\n",
       "                   folder_id  p10   p50   p90  mean  pe  \n",
       "1814  FORECAST_7D_05_05_2023   88   535   982   535   0  \n",
       "1118  FORECAST_7D_05_05_2023  -46   401   849   401   1  \n",
       "2278  FORECAST_7D_05_05_2023  192   639  1087   639   5  \n",
       "4447  FORECAST_7D_05_05_2023  164   611  1059   611   1  \n",
       "947   FORECAST_7D_05_05_2023  111   559  1007   559   1  \n",
       "1784  FORECAST_7D_05_05_2023   26   474   922   474   0  \n",
       "2566  FORECAST_7D_05_05_2023  161   609  1057   609   1  \n",
       "3753  FORECAST_7D_05_05_2023  -36  1186  2407  1186   2  \n",
       "268   FORECAST_7D_05_05_2023 -258    93   444    93   1  \n",
       "991   FORECAST_7D_05_05_2023 -258    93   444    93   1  \n",
       "2174  FORECAST_7D_05_05_2023 -147    97   342    97   1  \n",
       "893   FORECAST_7D_05_05_2023 -147    97   342    97   1  \n",
       "3954  FORECAST_7D_05_05_2023 -148    97   342    97   0  \n",
       "4274  FORECAST_7D_05_05_2023  402  7523 14643  7523   0  \n",
       "3824  FORECAST_7D_05_05_2023   93  7216 14339  7216   0  \n",
       "3153  FORECAST_7D_05_05_2023 6763 13889 21014 13889   0  \n",
       "3747  FORECAST_7D_05_05_2023 4057 11185 18313 11185   0  \n",
       "1701  FORECAST_7D_05_05_2023 3817 10948 18078 10948   0  \n",
       "4686  FORECAST_7D_05_05_2023 2955 10088 17220 10088   0  \n",
       "4655  FORECAST_7D_05_05_2023 4058 11193 18329 11193   0  "
      ]
     },
     "execution_count": 117,
     "metadata": {},
     "output_type": "execute_result"
    }
   ],
   "source": [
    "df_forecast.head(20)"
   ]
  },
  {
   "cell_type": "code",
   "execution_count": 118,
   "id": "31c929ee-582b-4d16-aeef-b5f197c459f4",
   "metadata": {
    "tags": []
   },
   "outputs": [
    {
     "data": {
      "text/plain": [
       "array(['ARGENPER', 'TRANSPAY', 'TRANSFERTO - THUNES', 'BANCO BISA',\n",
       "       'BANCO GANADERO (BOLIVIA)', 'BANCO DAYCOVAL', 'BANCO RENDIMENTO',\n",
       "       'MSBB MONEY', 'KORI', 'NAFA', 'ZEEPAY', 'AFEX', 'BANCOLOMBIA',\n",
       "       'DAVIVIENDA', 'GRUPO EXITO (TN)', 'BANCO BHD LEON',\n",
       "       'CARIBE EXPRESS', 'BANCO DE GUAYAQUIL', 'BANCO DEL AUSTRO',\n",
       "       'EASY PAGOS', 'ECUAGIROS', 'GLOBAL ENVIOS', 'ABANK (TN)',\n",
       "       'BANCO AGRICOLA', 'BANCO DAVIVIENDA SALVADORENO (BTS)',\n",
       "       'CREDOMATIC', 'CUSCA (CITI - RECIBA NETWORKS)',\n",
       "       'FEDECACES (EL SALVADOR)', 'FEDECREDITO (RYT)', 'PROMERICA',\n",
       "       'BAM - BANCO AGROMERCANTIL (UT)', 'BANCO INDUSTRIAL',\n",
       "       'BANRURAL (RYT)', 'BANTRAB (UT)', 'ELEKTRA (BTS)',\n",
       "       'G Y T CONTINENTAL', 'MICOOPE-FENACOAC (RED CHAPINA)',\n",
       "       'PROMERICA (GUA)', 'AFRO INTERNACIONAL', 'UNITRANSFER',\n",
       "       'BANCO ATLANTIDA', 'BANCO DE OCCIDENTE',\n",
       "       'BANCO POPULAR HONDURAS (UT)', 'BANHCAFE', 'BANPAIS (RED CHAPINA)',\n",
       "       'BANRURAL (HONDURAS)', 'COOPERATIVA CACIL (UT)',\n",
       "       'COOPERATIVA FRONTERIZA (UT)', 'DAVIVIENDA - HONDURAS (BTS)',\n",
       "       'FICOHSA', 'YES BANK', 'MERCHANTRADE', 'AIRPAK',\n",
       "       'BANCOPPEL (APPRIZA)', 'BANORTE (UT)', 'BBVA - BANCOMER (BTS)',\n",
       "       'CAJA POPULAR MEXICANA (UT)', 'CHEDRAUI (APPRIZA)',\n",
       "       'ELEKTRA (MEXICO)', 'EMPENOS DEL SUR (ANTERIOR BALSAS)',\n",
       "       'ENVICON (ANTERIORMENTE ENVIOS CONFIANZA)',\n",
       "       'ENVIOS CON CLABE (APPRIZA)', 'FARMACIAS DEL AHORRO (DATRANSFER)',\n",
       "       'FARMACIAS GUADALAJARA (UT)', 'GIROSMEX', 'INTERMEX', 'OXXO (TN)',\n",
       "       'SORIANA', 'TELECOMM TELEGRAFOS (APPRIZA)', 'TRANSFER DIRECTO',\n",
       "       'WALDOS (APPRIZA)', 'WALMART (UT)', 'GME', 'BANPRO',\n",
       "       'CREDOMATIC (BTS)', 'LAFISE', 'NAIRAGRAM', 'VTN',\n",
       "       'BANCO DE CREDITO DEL PERU - BCP (UT)', 'INTERBANK',\n",
       "       'BANCO DE ORO (BDO)', 'CEBUANA LHUILLIER', 'M. LHUILLIER',\n",
       "       'METROBANK', 'SPEED MONEY', 'MASTERCARD ATM NETWORK',\n",
       "       'VIAMERICAS USA DEPOSITS', 'MUTHOOT-BANGLADESH', 'TELEDOLAR (TN)',\n",
       "       'BANCO PICHINCHA (TN)', 'BANCO INDUSTRIAL ELS (RED CHAPINA)',\n",
       "       'TIGO MONEY', 'DEPOSITOS BANCARIOS GUATEMALA - ACH', 'JMMB',\n",
       "       '24XORO', 'TELEDOLAR-NIC (TN)', 'BANK OF PHILIPPINE ISLANDS (BPI)',\n",
       "       'BNB', 'TELEDOLAR', 'BANSEFI - BANCO DEL BIENESTAR',\n",
       "       'BBVA URUGUAY (BTS)'], dtype=object)"
      ]
     },
     "execution_count": 118,
     "metadata": {},
     "output_type": "execute_result"
    }
   ],
   "source": [
    "df_forecast['payer'].unique()"
   ]
  },
  {
   "cell_type": "code",
   "execution_count": 119,
   "id": "820b8ca6-c633-45fa-808c-561690bf4349",
   "metadata": {
    "tags": []
   },
   "outputs": [],
   "source": [
    "df_first = df_forecast.drop_duplicates(subset=['folder_id', 'country','payer'], keep='first')"
   ]
  },
  {
   "cell_type": "code",
   "execution_count": 120,
   "id": "f74c96f8-d633-43e6-a69a-b10260905322",
   "metadata": {
    "tags": []
   },
   "outputs": [
    {
     "data": {
      "text/plain": [
       "folder_id\n",
       "FORECAST_7D_05_05_2023   0\n",
       "FORECAST_7D_10_09_2023   0\n",
       "FORECAST_7D_20_03_2023   0\n",
       "FORECAST_7D_20_12_2022   0\n",
       "FORECAST_7D_25_11_2022   0\n",
       "FORECAST_7D_29_12_2022   1\n",
       "FORECAST_7D_30_06_2023   1\n",
       "Name: pe, dtype: float64"
      ]
     },
     "execution_count": 120,
     "metadata": {},
     "output_type": "execute_result"
    }
   ],
   "source": [
    "df_first.groupby('folder_id')['pe'].mean()"
   ]
  },
  {
   "cell_type": "code",
   "execution_count": 121,
   "id": "c2ceea35-409f-448b-8f37-29e26607420f",
   "metadata": {
    "tags": []
   },
   "outputs": [
    {
     "data": {
      "text/plain": [
       "folder_id\n",
       "FORECAST_7D_05_05_2023   0\n",
       "FORECAST_7D_10_09_2023   0\n",
       "FORECAST_7D_20_03_2023   0\n",
       "FORECAST_7D_20_12_2022   0\n",
       "FORECAST_7D_25_11_2022   0\n",
       "FORECAST_7D_29_12_2022   0\n",
       "FORECAST_7D_30_06_2023   0\n",
       "Name: pe, dtype: float64"
      ]
     },
     "execution_count": 121,
     "metadata": {},
     "output_type": "execute_result"
    }
   ],
   "source": [
    "# ELEKTRA MEXICO\n",
    "df_first[df_first['payer'] == 'ELEKTRA (MEXICO)'].groupby('folder_id')['pe'].mean()"
   ]
  },
  {
   "cell_type": "code",
   "execution_count": 122,
   "id": "a2c9728d-3717-4e80-adb7-92b0778645f9",
   "metadata": {
    "tags": []
   },
   "outputs": [],
   "source": [
    "df_mex = df_forecast[df_forecast['country'] == 'MEXICO']"
   ]
  },
  {
   "cell_type": "code",
   "execution_count": 123,
   "id": "d3a8c2ea-f201-4f89-89f4-3c39c0cf1265",
   "metadata": {
    "tags": []
   },
   "outputs": [],
   "source": [
    "df_first_grouped = df_first.sort_values(['folder_id','country']).groupby(['folder_id', 'country'])['pe'].mean().reset_index()"
   ]
  },
  {
   "cell_type": "code",
   "execution_count": 127,
   "id": "6b324bd5-c916-48e8-9039-fa12bde442fc",
   "metadata": {
    "tags": []
   },
   "outputs": [
    {
     "data": {
      "text/html": [
       "<div>\n",
       "<style scoped>\n",
       "    .dataframe tbody tr th:only-of-type {\n",
       "        vertical-align: middle;\n",
       "    }\n",
       "\n",
       "    .dataframe tbody tr th {\n",
       "        vertical-align: top;\n",
       "    }\n",
       "\n",
       "    .dataframe thead th {\n",
       "        text-align: right;\n",
       "    }\n",
       "</style>\n",
       "<table border=\"1\" class=\"dataframe\">\n",
       "  <thead>\n",
       "    <tr style=\"text-align: right;\">\n",
       "      <th></th>\n",
       "      <th>folder_id</th>\n",
       "      <th>country</th>\n",
       "      <th>pe</th>\n",
       "    </tr>\n",
       "  </thead>\n",
       "  <tbody>\n",
       "    <tr>\n",
       "      <th>0</th>\n",
       "      <td>FORECAST_7D_05_05_2023</td>\n",
       "      <td>ARGENTINA</td>\n",
       "      <td>0.44</td>\n",
       "    </tr>\n",
       "    <tr>\n",
       "      <th>39</th>\n",
       "      <td>FORECAST_7D_10_09_2023</td>\n",
       "      <td>ARGENTINA</td>\n",
       "      <td>0.29</td>\n",
       "    </tr>\n",
       "    <tr>\n",
       "      <th>84</th>\n",
       "      <td>FORECAST_7D_20_03_2023</td>\n",
       "      <td>ARGENTINA</td>\n",
       "      <td>0.10</td>\n",
       "    </tr>\n",
       "    <tr>\n",
       "      <th>119</th>\n",
       "      <td>FORECAST_7D_20_12_2022</td>\n",
       "      <td>ARGENTINA</td>\n",
       "      <td>0.25</td>\n",
       "    </tr>\n",
       "    <tr>\n",
       "      <th>153</th>\n",
       "      <td>FORECAST_7D_25_11_2022</td>\n",
       "      <td>ARGENTINA</td>\n",
       "      <td>0.36</td>\n",
       "    </tr>\n",
       "    <tr>\n",
       "      <th>187</th>\n",
       "      <td>FORECAST_7D_29_12_2022</td>\n",
       "      <td>ARGENTINA</td>\n",
       "      <td>0.52</td>\n",
       "    </tr>\n",
       "    <tr>\n",
       "      <th>221</th>\n",
       "      <td>FORECAST_7D_30_06_2023</td>\n",
       "      <td>ARGENTINA</td>\n",
       "      <td>0.46</td>\n",
       "    </tr>\n",
       "  </tbody>\n",
       "</table>\n",
       "</div>"
      ],
      "text/plain": [
       "                  folder_id    country   pe\n",
       "0    FORECAST_7D_05_05_2023  ARGENTINA 0.44\n",
       "39   FORECAST_7D_10_09_2023  ARGENTINA 0.29\n",
       "84   FORECAST_7D_20_03_2023  ARGENTINA 0.10\n",
       "119  FORECAST_7D_20_12_2022  ARGENTINA 0.25\n",
       "153  FORECAST_7D_25_11_2022  ARGENTINA 0.36\n",
       "187  FORECAST_7D_29_12_2022  ARGENTINA 0.52\n",
       "221  FORECAST_7D_30_06_2023  ARGENTINA 0.46"
      ]
     },
     "execution_count": 127,
     "metadata": {},
     "output_type": "execute_result"
    }
   ],
   "source": [
    "pd.set_option('display.float_format', '{:.2f}'.format)\n",
    "df_first_grouped[df_first_grouped['country'] == 'ARGENTINA']"
   ]
  },
  {
   "cell_type": "code",
   "execution_count": 126,
   "id": "2fc15a20-ef6d-4763-8b1d-adee692e0b44",
   "metadata": {
    "tags": []
   },
   "outputs": [
    {
     "data": {
      "text/html": [
       "<div>\n",
       "<style scoped>\n",
       "    .dataframe tbody tr th:only-of-type {\n",
       "        vertical-align: middle;\n",
       "    }\n",
       "\n",
       "    .dataframe tbody tr th {\n",
       "        vertical-align: top;\n",
       "    }\n",
       "\n",
       "    .dataframe thead th {\n",
       "        text-align: right;\n",
       "    }\n",
       "</style>\n",
       "<table border=\"1\" class=\"dataframe\">\n",
       "  <thead>\n",
       "    <tr style=\"text-align: right;\">\n",
       "      <th></th>\n",
       "      <th>folder_id</th>\n",
       "      <th>country</th>\n",
       "      <th>pe</th>\n",
       "    </tr>\n",
       "  </thead>\n",
       "  <tbody>\n",
       "    <tr>\n",
       "      <th>24</th>\n",
       "      <td>FORECAST_7D_05_05_2023</td>\n",
       "      <td>MEXICO</td>\n",
       "      <td>0.15</td>\n",
       "    </tr>\n",
       "    <tr>\n",
       "      <th>69</th>\n",
       "      <td>FORECAST_7D_10_09_2023</td>\n",
       "      <td>MEXICO</td>\n",
       "      <td>0.29</td>\n",
       "    </tr>\n",
       "    <tr>\n",
       "      <th>105</th>\n",
       "      <td>FORECAST_7D_20_03_2023</td>\n",
       "      <td>MEXICO</td>\n",
       "      <td>0.30</td>\n",
       "    </tr>\n",
       "    <tr>\n",
       "      <th>139</th>\n",
       "      <td>FORECAST_7D_20_12_2022</td>\n",
       "      <td>MEXICO</td>\n",
       "      <td>0.13</td>\n",
       "    </tr>\n",
       "    <tr>\n",
       "      <th>173</th>\n",
       "      <td>FORECAST_7D_25_11_2022</td>\n",
       "      <td>MEXICO</td>\n",
       "      <td>0.20</td>\n",
       "    </tr>\n",
       "    <tr>\n",
       "      <th>207</th>\n",
       "      <td>FORECAST_7D_29_12_2022</td>\n",
       "      <td>MEXICO</td>\n",
       "      <td>0.18</td>\n",
       "    </tr>\n",
       "    <tr>\n",
       "      <th>250</th>\n",
       "      <td>FORECAST_7D_30_06_2023</td>\n",
       "      <td>MEXICO</td>\n",
       "      <td>0.18</td>\n",
       "    </tr>\n",
       "  </tbody>\n",
       "</table>\n",
       "</div>"
      ],
      "text/plain": [
       "                  folder_id country   pe\n",
       "24   FORECAST_7D_05_05_2023  MEXICO 0.15\n",
       "69   FORECAST_7D_10_09_2023  MEXICO 0.29\n",
       "105  FORECAST_7D_20_03_2023  MEXICO 0.30\n",
       "139  FORECAST_7D_20_12_2022  MEXICO 0.13\n",
       "173  FORECAST_7D_25_11_2022  MEXICO 0.20\n",
       "207  FORECAST_7D_29_12_2022  MEXICO 0.18\n",
       "250  FORECAST_7D_30_06_2023  MEXICO 0.18"
      ]
     },
     "execution_count": 126,
     "metadata": {},
     "output_type": "execute_result"
    }
   ],
   "source": [
    "pd.set_option('display.float_format', '{:.2f}'.format)\n",
    "df_first_grouped[df_first_grouped['country'] == 'MEXICO']"
   ]
  },
  {
   "cell_type": "code",
   "execution_count": 129,
   "id": "fa51c7c8-c273-4552-bfe1-0f5f09108e2c",
   "metadata": {},
   "outputs": [
    {
     "data": {
      "text/html": [
       "<div>\n",
       "<style scoped>\n",
       "    .dataframe tbody tr th:only-of-type {\n",
       "        vertical-align: middle;\n",
       "    }\n",
       "\n",
       "    .dataframe tbody tr th {\n",
       "        vertical-align: top;\n",
       "    }\n",
       "\n",
       "    .dataframe thead th {\n",
       "        text-align: right;\n",
       "    }\n",
       "</style>\n",
       "<table border=\"1\" class=\"dataframe\">\n",
       "  <thead>\n",
       "    <tr style=\"text-align: right;\">\n",
       "      <th></th>\n",
       "      <th>payer</th>\n",
       "      <th>country</th>\n",
       "      <th>date</th>\n",
       "      <th>tx</th>\n",
       "      <th>amount</th>\n",
       "      <th>coupon_count</th>\n",
       "      <th>folder_id</th>\n",
       "      <th>p10</th>\n",
       "      <th>p50</th>\n",
       "      <th>p90</th>\n",
       "      <th>mean</th>\n",
       "      <th>pe</th>\n",
       "    </tr>\n",
       "  </thead>\n",
       "  <tbody>\n",
       "    <tr>\n",
       "      <th>3050</th>\n",
       "      <td>AIRPAK</td>\n",
       "      <td>MEXICO</td>\n",
       "      <td>2023-05-06</td>\n",
       "      <td>282</td>\n",
       "      <td>107151.17</td>\n",
       "      <td>3</td>\n",
       "      <td>FORECAST_7D_05_05_2023</td>\n",
       "      <td>70957.97</td>\n",
       "      <td>100672.45</td>\n",
       "      <td>130386.93</td>\n",
       "      <td>100672.45</td>\n",
       "      <td>0.06</td>\n",
       "    </tr>\n",
       "    <tr>\n",
       "      <th>4367</th>\n",
       "      <td>AIRPAK</td>\n",
       "      <td>MEXICO</td>\n",
       "      <td>2023-05-07</td>\n",
       "      <td>396</td>\n",
       "      <td>160340.30</td>\n",
       "      <td>6</td>\n",
       "      <td>FORECAST_7D_05_05_2023</td>\n",
       "      <td>80323.75</td>\n",
       "      <td>114335.59</td>\n",
       "      <td>148347.43</td>\n",
       "      <td>114335.59</td>\n",
       "      <td>0.29</td>\n",
       "    </tr>\n",
       "    <tr>\n",
       "      <th>1535</th>\n",
       "      <td>AIRPAK</td>\n",
       "      <td>MEXICO</td>\n",
       "      <td>2023-05-08</td>\n",
       "      <td>412</td>\n",
       "      <td>130867.52</td>\n",
       "      <td>3</td>\n",
       "      <td>FORECAST_7D_05_05_2023</td>\n",
       "      <td>62449.74</td>\n",
       "      <td>89185.20</td>\n",
       "      <td>115920.67</td>\n",
       "      <td>89185.20</td>\n",
       "      <td>0.32</td>\n",
       "    </tr>\n",
       "    <tr>\n",
       "      <th>3632</th>\n",
       "      <td>AIRPAK</td>\n",
       "      <td>MEXICO</td>\n",
       "      <td>2023-05-09</td>\n",
       "      <td>396</td>\n",
       "      <td>122977.91</td>\n",
       "      <td>4</td>\n",
       "      <td>FORECAST_7D_05_05_2023</td>\n",
       "      <td>49373.96</td>\n",
       "      <td>70742.70</td>\n",
       "      <td>92111.44</td>\n",
       "      <td>70742.70</td>\n",
       "      <td>0.42</td>\n",
       "    </tr>\n",
       "    <tr>\n",
       "      <th>820</th>\n",
       "      <td>AIRPAK</td>\n",
       "      <td>MEXICO</td>\n",
       "      <td>2023-05-10</td>\n",
       "      <td>318</td>\n",
       "      <td>85153.38</td>\n",
       "      <td>7</td>\n",
       "      <td>FORECAST_7D_05_05_2023</td>\n",
       "      <td>46803.01</td>\n",
       "      <td>67278.42</td>\n",
       "      <td>87753.84</td>\n",
       "      <td>67278.42</td>\n",
       "      <td>0.21</td>\n",
       "    </tr>\n",
       "  </tbody>\n",
       "</table>\n",
       "</div>"
      ],
      "text/plain": [
       "       payer country        date   tx    amount  coupon_count  \\\n",
       "3050  AIRPAK  MEXICO  2023-05-06  282 107151.17             3   \n",
       "4367  AIRPAK  MEXICO  2023-05-07  396 160340.30             6   \n",
       "1535  AIRPAK  MEXICO  2023-05-08  412 130867.52             3   \n",
       "3632  AIRPAK  MEXICO  2023-05-09  396 122977.91             4   \n",
       "820   AIRPAK  MEXICO  2023-05-10  318  85153.38             7   \n",
       "\n",
       "                   folder_id      p10       p50       p90      mean   pe  \n",
       "3050  FORECAST_7D_05_05_2023 70957.97 100672.45 130386.93 100672.45 0.06  \n",
       "4367  FORECAST_7D_05_05_2023 80323.75 114335.59 148347.43 114335.59 0.29  \n",
       "1535  FORECAST_7D_05_05_2023 62449.74  89185.20 115920.67  89185.20 0.32  \n",
       "3632  FORECAST_7D_05_05_2023 49373.96  70742.70  92111.44  70742.70 0.42  \n",
       "820   FORECAST_7D_05_05_2023 46803.01  67278.42  87753.84  67278.42 0.21  "
      ]
     },
     "execution_count": 129,
     "metadata": {},
     "output_type": "execute_result"
    }
   ],
   "source": [
    "df_mex.head()"
   ]
  },
  {
   "cell_type": "code",
   "execution_count": 132,
   "id": "75c436cc-c3c3-4b38-a22e-70b2c16b66de",
   "metadata": {
    "tags": []
   },
   "outputs": [
    {
     "data": {
      "text/html": [
       "<div>\n",
       "<style scoped>\n",
       "    .dataframe tbody tr th:only-of-type {\n",
       "        vertical-align: middle;\n",
       "    }\n",
       "\n",
       "    .dataframe tbody tr th {\n",
       "        vertical-align: top;\n",
       "    }\n",
       "\n",
       "    .dataframe thead th {\n",
       "        text-align: right;\n",
       "    }\n",
       "</style>\n",
       "<table border=\"1\" class=\"dataframe\">\n",
       "  <thead>\n",
       "    <tr style=\"text-align: right;\">\n",
       "      <th></th>\n",
       "      <th>payer</th>\n",
       "      <th>country</th>\n",
       "      <th>date</th>\n",
       "      <th>tx</th>\n",
       "      <th>amount</th>\n",
       "      <th>coupon_count</th>\n",
       "      <th>folder_id</th>\n",
       "      <th>p10</th>\n",
       "      <th>p50</th>\n",
       "      <th>p90</th>\n",
       "      <th>mean</th>\n",
       "      <th>pe</th>\n",
       "    </tr>\n",
       "  </thead>\n",
       "  <tbody>\n",
       "    <tr>\n",
       "      <th>3050</th>\n",
       "      <td>AIRPAK</td>\n",
       "      <td>MEXICO</td>\n",
       "      <td>2023-05-06</td>\n",
       "      <td>282</td>\n",
       "      <td>107151.17</td>\n",
       "      <td>3</td>\n",
       "      <td>FORECAST_7D_05_05_2023</td>\n",
       "      <td>70957.97</td>\n",
       "      <td>100672.45</td>\n",
       "      <td>130386.93</td>\n",
       "      <td>100672.45</td>\n",
       "      <td>0.06</td>\n",
       "    </tr>\n",
       "    <tr>\n",
       "      <th>4367</th>\n",
       "      <td>AIRPAK</td>\n",
       "      <td>MEXICO</td>\n",
       "      <td>2023-05-07</td>\n",
       "      <td>396</td>\n",
       "      <td>160340.30</td>\n",
       "      <td>6</td>\n",
       "      <td>FORECAST_7D_05_05_2023</td>\n",
       "      <td>80323.75</td>\n",
       "      <td>114335.59</td>\n",
       "      <td>148347.43</td>\n",
       "      <td>114335.59</td>\n",
       "      <td>0.29</td>\n",
       "    </tr>\n",
       "    <tr>\n",
       "      <th>1535</th>\n",
       "      <td>AIRPAK</td>\n",
       "      <td>MEXICO</td>\n",
       "      <td>2023-05-08</td>\n",
       "      <td>412</td>\n",
       "      <td>130867.52</td>\n",
       "      <td>3</td>\n",
       "      <td>FORECAST_7D_05_05_2023</td>\n",
       "      <td>62449.74</td>\n",
       "      <td>89185.20</td>\n",
       "      <td>115920.67</td>\n",
       "      <td>89185.20</td>\n",
       "      <td>0.32</td>\n",
       "    </tr>\n",
       "    <tr>\n",
       "      <th>3632</th>\n",
       "      <td>AIRPAK</td>\n",
       "      <td>MEXICO</td>\n",
       "      <td>2023-05-09</td>\n",
       "      <td>396</td>\n",
       "      <td>122977.91</td>\n",
       "      <td>4</td>\n",
       "      <td>FORECAST_7D_05_05_2023</td>\n",
       "      <td>49373.96</td>\n",
       "      <td>70742.70</td>\n",
       "      <td>92111.44</td>\n",
       "      <td>70742.70</td>\n",
       "      <td>0.42</td>\n",
       "    </tr>\n",
       "    <tr>\n",
       "      <th>820</th>\n",
       "      <td>AIRPAK</td>\n",
       "      <td>MEXICO</td>\n",
       "      <td>2023-05-10</td>\n",
       "      <td>318</td>\n",
       "      <td>85153.38</td>\n",
       "      <td>7</td>\n",
       "      <td>FORECAST_7D_05_05_2023</td>\n",
       "      <td>46803.01</td>\n",
       "      <td>67278.42</td>\n",
       "      <td>87753.84</td>\n",
       "      <td>67278.42</td>\n",
       "      <td>0.21</td>\n",
       "    </tr>\n",
       "  </tbody>\n",
       "</table>\n",
       "</div>"
      ],
      "text/plain": [
       "       payer country        date   tx    amount  coupon_count  \\\n",
       "3050  AIRPAK  MEXICO  2023-05-06  282 107151.17             3   \n",
       "4367  AIRPAK  MEXICO  2023-05-07  396 160340.30             6   \n",
       "1535  AIRPAK  MEXICO  2023-05-08  412 130867.52             3   \n",
       "3632  AIRPAK  MEXICO  2023-05-09  396 122977.91             4   \n",
       "820   AIRPAK  MEXICO  2023-05-10  318  85153.38             7   \n",
       "\n",
       "                   folder_id      p10       p50       p90      mean   pe  \n",
       "3050  FORECAST_7D_05_05_2023 70957.97 100672.45 130386.93 100672.45 0.06  \n",
       "4367  FORECAST_7D_05_05_2023 80323.75 114335.59 148347.43 114335.59 0.29  \n",
       "1535  FORECAST_7D_05_05_2023 62449.74  89185.20 115920.67  89185.20 0.32  \n",
       "3632  FORECAST_7D_05_05_2023 49373.96  70742.70  92111.44  70742.70 0.42  \n",
       "820   FORECAST_7D_05_05_2023 46803.01  67278.42  87753.84  67278.42 0.21  "
      ]
     },
     "execution_count": 132,
     "metadata": {},
     "output_type": "execute_result"
    }
   ],
   "source": [
    "df_mex_7d=df_forecast.loc[df_forecast.country=='MEXICO']\n",
    "df_mex_7d.head()"
   ]
  },
  {
   "cell_type": "code",
   "execution_count": 138,
   "id": "a0a2628f-209f-4042-9f37-102ba36dd2ff",
   "metadata": {},
   "outputs": [],
   "source": [
    "results_mex = df_mex_7d.groupby(['country', 'date']).agg({'amount': 'sum', 'mean': 'sum'}).reset_index()\n"
   ]
  },
  {
   "cell_type": "code",
   "execution_count": 139,
   "id": "2d00b193-e83d-4f39-a5f0-9685290d991b",
   "metadata": {
    "tags": []
   },
   "outputs": [
    {
     "data": {
      "text/html": [
       "<div>\n",
       "<style scoped>\n",
       "    .dataframe tbody tr th:only-of-type {\n",
       "        vertical-align: middle;\n",
       "    }\n",
       "\n",
       "    .dataframe tbody tr th {\n",
       "        vertical-align: top;\n",
       "    }\n",
       "\n",
       "    .dataframe thead th {\n",
       "        text-align: right;\n",
       "    }\n",
       "</style>\n",
       "<table border=\"1\" class=\"dataframe\">\n",
       "  <thead>\n",
       "    <tr style=\"text-align: right;\">\n",
       "      <th></th>\n",
       "      <th>country</th>\n",
       "      <th>date</th>\n",
       "      <th>amount</th>\n",
       "      <th>mean</th>\n",
       "    </tr>\n",
       "  </thead>\n",
       "  <tbody>\n",
       "    <tr>\n",
       "      <th>0</th>\n",
       "      <td>MEXICO</td>\n",
       "      <td>2022-11-26</td>\n",
       "      <td>16392615.77</td>\n",
       "      <td>19134014.07</td>\n",
       "    </tr>\n",
       "    <tr>\n",
       "      <th>1</th>\n",
       "      <td>MEXICO</td>\n",
       "      <td>2022-11-27</td>\n",
       "      <td>15367715.39</td>\n",
       "      <td>18280479.36</td>\n",
       "    </tr>\n",
       "    <tr>\n",
       "      <th>2</th>\n",
       "      <td>MEXICO</td>\n",
       "      <td>2022-11-28</td>\n",
       "      <td>14468737.03</td>\n",
       "      <td>15052783.70</td>\n",
       "    </tr>\n",
       "    <tr>\n",
       "      <th>3</th>\n",
       "      <td>MEXICO</td>\n",
       "      <td>2022-11-29</td>\n",
       "      <td>12165362.60</td>\n",
       "      <td>12484108.97</td>\n",
       "    </tr>\n",
       "    <tr>\n",
       "      <th>4</th>\n",
       "      <td>MEXICO</td>\n",
       "      <td>2022-11-30</td>\n",
       "      <td>11639041.43</td>\n",
       "      <td>11576455.73</td>\n",
       "    </tr>\n",
       "  </tbody>\n",
       "</table>\n",
       "</div>"
      ],
      "text/plain": [
       "  country        date      amount        mean\n",
       "0  MEXICO  2022-11-26 16392615.77 19134014.07\n",
       "1  MEXICO  2022-11-27 15367715.39 18280479.36\n",
       "2  MEXICO  2022-11-28 14468737.03 15052783.70\n",
       "3  MEXICO  2022-11-29 12165362.60 12484108.97\n",
       "4  MEXICO  2022-11-30 11639041.43 11576455.73"
      ]
     },
     "execution_count": 139,
     "metadata": {},
     "output_type": "execute_result"
    }
   ],
   "source": [
    "results_mex.head()"
   ]
  },
  {
   "cell_type": "code",
   "execution_count": 149,
   "id": "93f35348-8361-4a63-acd2-3dd0682896e0",
   "metadata": {
    "tags": []
   },
   "outputs": [],
   "source": [
    "results_mex['date'] = pd.to_datetime(results_mex['date'])"
   ]
  },
  {
   "cell_type": "code",
   "execution_count": 150,
   "id": "fdf8066b-aeea-4505-960c-d2c0d56027a7",
   "metadata": {
    "tags": []
   },
   "outputs": [],
   "source": [
    "results_mex['forecast_error']= results_mex.amount - results_mex['mean']\n"
   ]
  },
  {
   "cell_type": "code",
   "execution_count": 161,
   "id": "99e8abf9-3a3f-4558-a795-5b2e6a33e72d",
   "metadata": {
    "tags": []
   },
   "outputs": [
    {
     "data": {
      "text/html": [
       "<div>\n",
       "<style scoped>\n",
       "    .dataframe tbody tr th:only-of-type {\n",
       "        vertical-align: middle;\n",
       "    }\n",
       "\n",
       "    .dataframe tbody tr th {\n",
       "        vertical-align: top;\n",
       "    }\n",
       "\n",
       "    .dataframe thead th {\n",
       "        text-align: right;\n",
       "    }\n",
       "</style>\n",
       "<table border=\"1\" class=\"dataframe\">\n",
       "  <thead>\n",
       "    <tr style=\"text-align: right;\">\n",
       "      <th></th>\n",
       "      <th>country</th>\n",
       "      <th>date</th>\n",
       "      <th>amount</th>\n",
       "      <th>mean</th>\n",
       "      <th>forecast_error</th>\n",
       "      <th>abs_forecast_error</th>\n",
       "    </tr>\n",
       "  </thead>\n",
       "  <tbody>\n",
       "    <tr>\n",
       "      <th>0</th>\n",
       "      <td>MEXICO</td>\n",
       "      <td>2022-11-26</td>\n",
       "      <td>16392615.77</td>\n",
       "      <td>19134014.07</td>\n",
       "      <td>-2741398.31</td>\n",
       "      <td>2741398.31</td>\n",
       "    </tr>\n",
       "    <tr>\n",
       "      <th>1</th>\n",
       "      <td>MEXICO</td>\n",
       "      <td>2022-11-27</td>\n",
       "      <td>15367715.39</td>\n",
       "      <td>18280479.36</td>\n",
       "      <td>-2912763.97</td>\n",
       "      <td>2912763.97</td>\n",
       "    </tr>\n",
       "  </tbody>\n",
       "</table>\n",
       "</div>"
      ],
      "text/plain": [
       "  country       date      amount        mean  forecast_error  \\\n",
       "0  MEXICO 2022-11-26 16392615.77 19134014.07     -2741398.31   \n",
       "1  MEXICO 2022-11-27 15367715.39 18280479.36     -2912763.97   \n",
       "\n",
       "   abs_forecast_error  \n",
       "0          2741398.31  \n",
       "1          2912763.97  "
      ]
     },
     "execution_count": 161,
     "metadata": {},
     "output_type": "execute_result"
    }
   ],
   "source": [
    "results_mex.head(2)"
   ]
  },
  {
   "cell_type": "code",
   "execution_count": 155,
   "id": "9e013421-3442-40bb-9596-b19124f3b5bc",
   "metadata": {
    "tags": []
   },
   "outputs": [],
   "source": [
    "results_mex['abs_forecast_error'] = results_mex['forecast_error'].abs()"
   ]
  },
  {
   "cell_type": "code",
   "execution_count": 160,
   "id": "0bc5bafa-2cfc-42d6-9254-ea7e07040b6b",
   "metadata": {
    "tags": []
   },
   "outputs": [
    {
     "data": {
      "text/html": [
       "<div>\n",
       "<style scoped>\n",
       "    .dataframe tbody tr th:only-of-type {\n",
       "        vertical-align: middle;\n",
       "    }\n",
       "\n",
       "    .dataframe tbody tr th {\n",
       "        vertical-align: top;\n",
       "    }\n",
       "\n",
       "    .dataframe thead th {\n",
       "        text-align: right;\n",
       "    }\n",
       "</style>\n",
       "<table border=\"1\" class=\"dataframe\">\n",
       "  <thead>\n",
       "    <tr style=\"text-align: right;\">\n",
       "      <th></th>\n",
       "      <th>country</th>\n",
       "      <th>date</th>\n",
       "      <th>amount</th>\n",
       "      <th>mean</th>\n",
       "      <th>forecast_error</th>\n",
       "      <th>abs_forecast_error</th>\n",
       "    </tr>\n",
       "  </thead>\n",
       "  <tbody>\n",
       "    <tr>\n",
       "      <th>0</th>\n",
       "      <td>MEXICO</td>\n",
       "      <td>2022-11-26</td>\n",
       "      <td>16392615.77</td>\n",
       "      <td>19134014.07</td>\n",
       "      <td>-2741398.31</td>\n",
       "      <td>2741398.31</td>\n",
       "    </tr>\n",
       "    <tr>\n",
       "      <th>1</th>\n",
       "      <td>MEXICO</td>\n",
       "      <td>2022-11-27</td>\n",
       "      <td>15367715.39</td>\n",
       "      <td>18280479.36</td>\n",
       "      <td>-2912763.97</td>\n",
       "      <td>2912763.97</td>\n",
       "    </tr>\n",
       "    <tr>\n",
       "      <th>2</th>\n",
       "      <td>MEXICO</td>\n",
       "      <td>2022-11-28</td>\n",
       "      <td>14468737.03</td>\n",
       "      <td>15052783.70</td>\n",
       "      <td>-584046.67</td>\n",
       "      <td>584046.67</td>\n",
       "    </tr>\n",
       "    <tr>\n",
       "      <th>3</th>\n",
       "      <td>MEXICO</td>\n",
       "      <td>2022-11-29</td>\n",
       "      <td>12165362.60</td>\n",
       "      <td>12484108.97</td>\n",
       "      <td>-318746.37</td>\n",
       "      <td>318746.37</td>\n",
       "    </tr>\n",
       "    <tr>\n",
       "      <th>4</th>\n",
       "      <td>MEXICO</td>\n",
       "      <td>2022-11-30</td>\n",
       "      <td>11639041.43</td>\n",
       "      <td>11576455.73</td>\n",
       "      <td>62585.69</td>\n",
       "      <td>62585.69</td>\n",
       "    </tr>\n",
       "    <tr>\n",
       "      <th>5</th>\n",
       "      <td>MEXICO</td>\n",
       "      <td>2022-12-01</td>\n",
       "      <td>11656846.26</td>\n",
       "      <td>11953925.20</td>\n",
       "      <td>-297078.94</td>\n",
       "      <td>297078.94</td>\n",
       "    </tr>\n",
       "    <tr>\n",
       "      <th>6</th>\n",
       "      <td>MEXICO</td>\n",
       "      <td>2022-12-02</td>\n",
       "      <td>17738682.70</td>\n",
       "      <td>17442805.64</td>\n",
       "      <td>295877.06</td>\n",
       "      <td>295877.06</td>\n",
       "    </tr>\n",
       "    <tr>\n",
       "      <th>7</th>\n",
       "      <td>MEXICO</td>\n",
       "      <td>2022-12-21</td>\n",
       "      <td>14385666.55</td>\n",
       "      <td>13802305.40</td>\n",
       "      <td>583361.15</td>\n",
       "      <td>583361.15</td>\n",
       "    </tr>\n",
       "    <tr>\n",
       "      <th>8</th>\n",
       "      <td>MEXICO</td>\n",
       "      <td>2022-12-22</td>\n",
       "      <td>16016125.68</td>\n",
       "      <td>14175883.17</td>\n",
       "      <td>1840242.51</td>\n",
       "      <td>1840242.51</td>\n",
       "    </tr>\n",
       "    <tr>\n",
       "      <th>9</th>\n",
       "      <td>MEXICO</td>\n",
       "      <td>2022-12-23</td>\n",
       "      <td>22185561.56</td>\n",
       "      <td>19998555.54</td>\n",
       "      <td>2187006.02</td>\n",
       "      <td>2187006.02</td>\n",
       "    </tr>\n",
       "    <tr>\n",
       "      <th>10</th>\n",
       "      <td>MEXICO</td>\n",
       "      <td>2022-12-24</td>\n",
       "      <td>15514740.77</td>\n",
       "      <td>21113226.10</td>\n",
       "      <td>-5598485.33</td>\n",
       "      <td>5598485.33</td>\n",
       "    </tr>\n",
       "    <tr>\n",
       "      <th>11</th>\n",
       "      <td>MEXICO</td>\n",
       "      <td>2022-12-25</td>\n",
       "      <td>2679780.53</td>\n",
       "      <td>15441671.52</td>\n",
       "      <td>-12761890.99</td>\n",
       "      <td>12761890.99</td>\n",
       "    </tr>\n",
       "    <tr>\n",
       "      <th>12</th>\n",
       "      <td>MEXICO</td>\n",
       "      <td>2022-12-26</td>\n",
       "      <td>15162579.49</td>\n",
       "      <td>17040770.49</td>\n",
       "      <td>-1878191.00</td>\n",
       "      <td>1878191.00</td>\n",
       "    </tr>\n",
       "    <tr>\n",
       "      <th>13</th>\n",
       "      <td>MEXICO</td>\n",
       "      <td>2022-12-27</td>\n",
       "      <td>12146285.48</td>\n",
       "      <td>14888225.53</td>\n",
       "      <td>-2741940.05</td>\n",
       "      <td>2741940.05</td>\n",
       "    </tr>\n",
       "    <tr>\n",
       "      <th>14</th>\n",
       "      <td>MEXICO</td>\n",
       "      <td>2022-12-30</td>\n",
       "      <td>16508973.84</td>\n",
       "      <td>16348765.34</td>\n",
       "      <td>160208.50</td>\n",
       "      <td>160208.50</td>\n",
       "    </tr>\n",
       "  </tbody>\n",
       "</table>\n",
       "</div>"
      ],
      "text/plain": [
       "   country       date      amount        mean  forecast_error  \\\n",
       "0   MEXICO 2022-11-26 16392615.77 19134014.07     -2741398.31   \n",
       "1   MEXICO 2022-11-27 15367715.39 18280479.36     -2912763.97   \n",
       "2   MEXICO 2022-11-28 14468737.03 15052783.70      -584046.67   \n",
       "3   MEXICO 2022-11-29 12165362.60 12484108.97      -318746.37   \n",
       "4   MEXICO 2022-11-30 11639041.43 11576455.73        62585.69   \n",
       "5   MEXICO 2022-12-01 11656846.26 11953925.20      -297078.94   \n",
       "6   MEXICO 2022-12-02 17738682.70 17442805.64       295877.06   \n",
       "7   MEXICO 2022-12-21 14385666.55 13802305.40       583361.15   \n",
       "8   MEXICO 2022-12-22 16016125.68 14175883.17      1840242.51   \n",
       "9   MEXICO 2022-12-23 22185561.56 19998555.54      2187006.02   \n",
       "10  MEXICO 2022-12-24 15514740.77 21113226.10     -5598485.33   \n",
       "11  MEXICO 2022-12-25  2679780.53 15441671.52    -12761890.99   \n",
       "12  MEXICO 2022-12-26 15162579.49 17040770.49     -1878191.00   \n",
       "13  MEXICO 2022-12-27 12146285.48 14888225.53     -2741940.05   \n",
       "14  MEXICO 2022-12-30 16508973.84 16348765.34       160208.50   \n",
       "\n",
       "    abs_forecast_error  \n",
       "0           2741398.31  \n",
       "1           2912763.97  \n",
       "2            584046.67  \n",
       "3            318746.37  \n",
       "4             62585.69  \n",
       "5            297078.94  \n",
       "6            295877.06  \n",
       "7            583361.15  \n",
       "8           1840242.51  \n",
       "9           2187006.02  \n",
       "10          5598485.33  \n",
       "11         12761890.99  \n",
       "12          1878191.00  \n",
       "13          2741940.05  \n",
       "14           160208.50  "
      ]
     },
     "execution_count": 160,
     "metadata": {},
     "output_type": "execute_result"
    }
   ],
   "source": [
    "results_mex.head(15)"
   ]
  },
  {
   "cell_type": "code",
   "execution_count": 158,
   "id": "74917447-45dc-4ba7-9e80-9e97bed3a9fb",
   "metadata": {
    "tags": []
   },
   "outputs": [
    {
     "data": {
      "text/plain": [
       "2424944.9285719595"
      ]
     },
     "execution_count": 158,
     "metadata": {},
     "output_type": "execute_result"
    }
   ],
   "source": [
    "results_mex.abs_forecast_error.mean()"
   ]
  },
  {
   "cell_type": "code",
   "execution_count": 159,
   "id": "3861c497-eb9b-4d78-8b95-64f9ce2e1642",
   "metadata": {
    "tags": []
   },
   "outputs": [
    {
     "data": {
      "text/plain": [
       "15958012.678420408"
      ]
     },
     "execution_count": 159,
     "metadata": {},
     "output_type": "execute_result"
    }
   ],
   "source": [
    "results_mex.amount.mean()"
   ]
  },
  {
   "cell_type": "code",
   "execution_count": 162,
   "id": "365662c4-1c43-4357-98f6-e2e385963e75",
   "metadata": {
    "tags": []
   },
   "outputs": [
    {
     "data": {
      "text/plain": [
       "118822301.50002602"
      ]
     },
     "execution_count": 162,
     "metadata": {},
     "output_type": "execute_result"
    }
   ],
   "source": [
    "results_mex.abs_forecast_error.sum()"
   ]
  },
  {
   "cell_type": "code",
   "execution_count": 163,
   "id": "6d4ad338-d134-4dcc-a7d3-0ad082c60a22",
   "metadata": {
    "tags": []
   },
   "outputs": [
    {
     "data": {
      "text/plain": [
       "781942621.2426"
      ]
     },
     "execution_count": 163,
     "metadata": {},
     "output_type": "execute_result"
    }
   ],
   "source": [
    "results_mex.amount.sum()"
   ]
  },
  {
   "cell_type": "code",
   "execution_count": 164,
   "id": "00810d26-85f0-400b-80b7-a04ed9abaaa6",
   "metadata": {
    "tags": []
   },
   "outputs": [
    {
     "name": "stdout",
     "output_type": "stream",
     "text": [
      "0.15195782691983617\n"
     ]
    }
   ],
   "source": [
    "print(results_mex.abs_forecast_error.sum()/results_mex.amount.sum())"
   ]
  },
  {
   "cell_type": "code",
   "execution_count": null,
   "id": "ff68196c-31fb-420e-9b9c-5ec4f59dcc0a",
   "metadata": {},
   "outputs": [],
   "source": [
    "###SIN DATOS DE 2022##"
   ]
  },
  {
   "cell_type": "code",
   "execution_count": 168,
   "id": "1aeb71cb-7ac7-40e2-93eb-b1a953b5a4e0",
   "metadata": {
    "tags": []
   },
   "outputs": [],
   "source": [
    "results_mex_2023=results_mex.loc[results_mex.date>='2023-01-01']"
   ]
  },
  {
   "cell_type": "code",
   "execution_count": 169,
   "id": "ce7b86e3-23cc-4373-bd17-3d6b57785151",
   "metadata": {
    "tags": []
   },
   "outputs": [
    {
     "data": {
      "text/html": [
       "<div>\n",
       "<style scoped>\n",
       "    .dataframe tbody tr th:only-of-type {\n",
       "        vertical-align: middle;\n",
       "    }\n",
       "\n",
       "    .dataframe tbody tr th {\n",
       "        vertical-align: top;\n",
       "    }\n",
       "\n",
       "    .dataframe thead th {\n",
       "        text-align: right;\n",
       "    }\n",
       "</style>\n",
       "<table border=\"1\" class=\"dataframe\">\n",
       "  <thead>\n",
       "    <tr style=\"text-align: right;\">\n",
       "      <th></th>\n",
       "      <th>country</th>\n",
       "      <th>date</th>\n",
       "      <th>amount</th>\n",
       "      <th>mean</th>\n",
       "      <th>forecast_error</th>\n",
       "      <th>abs_forecast_error</th>\n",
       "    </tr>\n",
       "  </thead>\n",
       "  <tbody>\n",
       "    <tr>\n",
       "      <th>16</th>\n",
       "      <td>MEXICO</td>\n",
       "      <td>2023-01-01</td>\n",
       "      <td>4004948.21</td>\n",
       "      <td>12035763.95</td>\n",
       "      <td>-8030815.74</td>\n",
       "      <td>8030815.74</td>\n",
       "    </tr>\n",
       "    <tr>\n",
       "      <th>17</th>\n",
       "      <td>MEXICO</td>\n",
       "      <td>2023-01-02</td>\n",
       "      <td>15195059.45</td>\n",
       "      <td>13840919.03</td>\n",
       "      <td>1354140.42</td>\n",
       "      <td>1354140.42</td>\n",
       "    </tr>\n",
       "    <tr>\n",
       "      <th>18</th>\n",
       "      <td>MEXICO</td>\n",
       "      <td>2023-01-03</td>\n",
       "      <td>12807895.02</td>\n",
       "      <td>12005806.89</td>\n",
       "      <td>802088.13</td>\n",
       "      <td>802088.13</td>\n",
       "    </tr>\n",
       "    <tr>\n",
       "      <th>19</th>\n",
       "      <td>MEXICO</td>\n",
       "      <td>2023-01-04</td>\n",
       "      <td>11630571.28</td>\n",
       "      <td>11618820.64</td>\n",
       "      <td>11750.64</td>\n",
       "      <td>11750.64</td>\n",
       "    </tr>\n",
       "    <tr>\n",
       "      <th>20</th>\n",
       "      <td>MEXICO</td>\n",
       "      <td>2023-01-05</td>\n",
       "      <td>10658682.47</td>\n",
       "      <td>12049546.50</td>\n",
       "      <td>-1390864.03</td>\n",
       "      <td>1390864.03</td>\n",
       "    </tr>\n",
       "  </tbody>\n",
       "</table>\n",
       "</div>"
      ],
      "text/plain": [
       "   country       date      amount        mean  forecast_error  \\\n",
       "16  MEXICO 2023-01-01  4004948.21 12035763.95     -8030815.74   \n",
       "17  MEXICO 2023-01-02 15195059.45 13840919.03      1354140.42   \n",
       "18  MEXICO 2023-01-03 12807895.02 12005806.89       802088.13   \n",
       "19  MEXICO 2023-01-04 11630571.28 11618820.64        11750.64   \n",
       "20  MEXICO 2023-01-05 10658682.47 12049546.50     -1390864.03   \n",
       "\n",
       "    abs_forecast_error  \n",
       "16          8030815.74  \n",
       "17          1354140.42  \n",
       "18           802088.13  \n",
       "19            11750.64  \n",
       "20          1390864.03  "
      ]
     },
     "execution_count": 169,
     "metadata": {},
     "output_type": "execute_result"
    }
   ],
   "source": [
    "results_mex_2023.head()"
   ]
  },
  {
   "cell_type": "code",
   "execution_count": 170,
   "id": "24369b27-ad38-404f-830b-6cf28b7afd60",
   "metadata": {
    "tags": []
   },
   "outputs": [
    {
     "data": {
      "text/plain": [
       "2470668.787897782"
      ]
     },
     "execution_count": 170,
     "metadata": {},
     "output_type": "execute_result"
    }
   ],
   "source": [
    "results_mex_2023.abs_forecast_error.mean()"
   ]
  },
  {
   "cell_type": "code",
   "execution_count": 171,
   "id": "8b53802b-03c9-4326-a724-cf0c16b06262",
   "metadata": {
    "tags": []
   },
   "outputs": [
    {
     "data": {
      "text/plain": [
       "16791953.8284"
      ]
     },
     "execution_count": 171,
     "metadata": {},
     "output_type": "execute_result"
    }
   ],
   "source": [
    "results_mex_2023.amount.mean()"
   ]
  },
  {
   "cell_type": "code",
   "execution_count": null,
   "id": "bc7e4948-24ba-45bb-b195-1440b0c31c4c",
   "metadata": {},
   "outputs": [],
   "source": [
    "results_mex_2023.abs_forecast_error.sum()"
   ]
  },
  {
   "cell_type": "code",
   "execution_count": 172,
   "id": "66644a47-9f22-4928-a963-1ff18e15710e",
   "metadata": {
    "tags": []
   },
   "outputs": [
    {
     "data": {
      "text/plain": [
       "554134476.3372"
      ]
     },
     "execution_count": 172,
     "metadata": {},
     "output_type": "execute_result"
    }
   ],
   "source": [
    "results_mex_2023.amount.sum()"
   ]
  },
  {
   "cell_type": "code",
   "execution_count": 173,
   "id": "014ad165-5df6-46a5-946e-e6d99297c433",
   "metadata": {
    "tags": []
   },
   "outputs": [
    {
     "name": "stdout",
     "output_type": "stream",
     "text": [
      "0.1471340865479974\n"
     ]
    }
   ],
   "source": [
    "print(results_mex_2023.abs_forecast_error.sum()/results_mex_2023.amount.sum())"
   ]
  }
 ],
 "metadata": {
  "availableInstances": [
   {
    "_defaultOrder": 0,
    "_isFastLaunch": true,
    "category": "General purpose",
    "gpuNum": 0,
    "hideHardwareSpecs": false,
    "memoryGiB": 4,
    "name": "ml.t3.medium",
    "vcpuNum": 2
   },
   {
    "_defaultOrder": 1,
    "_isFastLaunch": false,
    "category": "General purpose",
    "gpuNum": 0,
    "hideHardwareSpecs": false,
    "memoryGiB": 8,
    "name": "ml.t3.large",
    "vcpuNum": 2
   },
   {
    "_defaultOrder": 2,
    "_isFastLaunch": false,
    "category": "General purpose",
    "gpuNum": 0,
    "hideHardwareSpecs": false,
    "memoryGiB": 16,
    "name": "ml.t3.xlarge",
    "vcpuNum": 4
   },
   {
    "_defaultOrder": 3,
    "_isFastLaunch": false,
    "category": "General purpose",
    "gpuNum": 0,
    "hideHardwareSpecs": false,
    "memoryGiB": 32,
    "name": "ml.t3.2xlarge",
    "vcpuNum": 8
   },
   {
    "_defaultOrder": 4,
    "_isFastLaunch": true,
    "category": "General purpose",
    "gpuNum": 0,
    "hideHardwareSpecs": false,
    "memoryGiB": 8,
    "name": "ml.m5.large",
    "vcpuNum": 2
   },
   {
    "_defaultOrder": 5,
    "_isFastLaunch": false,
    "category": "General purpose",
    "gpuNum": 0,
    "hideHardwareSpecs": false,
    "memoryGiB": 16,
    "name": "ml.m5.xlarge",
    "vcpuNum": 4
   },
   {
    "_defaultOrder": 6,
    "_isFastLaunch": false,
    "category": "General purpose",
    "gpuNum": 0,
    "hideHardwareSpecs": false,
    "memoryGiB": 32,
    "name": "ml.m5.2xlarge",
    "vcpuNum": 8
   },
   {
    "_defaultOrder": 7,
    "_isFastLaunch": false,
    "category": "General purpose",
    "gpuNum": 0,
    "hideHardwareSpecs": false,
    "memoryGiB": 64,
    "name": "ml.m5.4xlarge",
    "vcpuNum": 16
   },
   {
    "_defaultOrder": 8,
    "_isFastLaunch": false,
    "category": "General purpose",
    "gpuNum": 0,
    "hideHardwareSpecs": false,
    "memoryGiB": 128,
    "name": "ml.m5.8xlarge",
    "vcpuNum": 32
   },
   {
    "_defaultOrder": 9,
    "_isFastLaunch": false,
    "category": "General purpose",
    "gpuNum": 0,
    "hideHardwareSpecs": false,
    "memoryGiB": 192,
    "name": "ml.m5.12xlarge",
    "vcpuNum": 48
   },
   {
    "_defaultOrder": 10,
    "_isFastLaunch": false,
    "category": "General purpose",
    "gpuNum": 0,
    "hideHardwareSpecs": false,
    "memoryGiB": 256,
    "name": "ml.m5.16xlarge",
    "vcpuNum": 64
   },
   {
    "_defaultOrder": 11,
    "_isFastLaunch": false,
    "category": "General purpose",
    "gpuNum": 0,
    "hideHardwareSpecs": false,
    "memoryGiB": 384,
    "name": "ml.m5.24xlarge",
    "vcpuNum": 96
   },
   {
    "_defaultOrder": 12,
    "_isFastLaunch": false,
    "category": "General purpose",
    "gpuNum": 0,
    "hideHardwareSpecs": false,
    "memoryGiB": 8,
    "name": "ml.m5d.large",
    "vcpuNum": 2
   },
   {
    "_defaultOrder": 13,
    "_isFastLaunch": false,
    "category": "General purpose",
    "gpuNum": 0,
    "hideHardwareSpecs": false,
    "memoryGiB": 16,
    "name": "ml.m5d.xlarge",
    "vcpuNum": 4
   },
   {
    "_defaultOrder": 14,
    "_isFastLaunch": false,
    "category": "General purpose",
    "gpuNum": 0,
    "hideHardwareSpecs": false,
    "memoryGiB": 32,
    "name": "ml.m5d.2xlarge",
    "vcpuNum": 8
   },
   {
    "_defaultOrder": 15,
    "_isFastLaunch": false,
    "category": "General purpose",
    "gpuNum": 0,
    "hideHardwareSpecs": false,
    "memoryGiB": 64,
    "name": "ml.m5d.4xlarge",
    "vcpuNum": 16
   },
   {
    "_defaultOrder": 16,
    "_isFastLaunch": false,
    "category": "General purpose",
    "gpuNum": 0,
    "hideHardwareSpecs": false,
    "memoryGiB": 128,
    "name": "ml.m5d.8xlarge",
    "vcpuNum": 32
   },
   {
    "_defaultOrder": 17,
    "_isFastLaunch": false,
    "category": "General purpose",
    "gpuNum": 0,
    "hideHardwareSpecs": false,
    "memoryGiB": 192,
    "name": "ml.m5d.12xlarge",
    "vcpuNum": 48
   },
   {
    "_defaultOrder": 18,
    "_isFastLaunch": false,
    "category": "General purpose",
    "gpuNum": 0,
    "hideHardwareSpecs": false,
    "memoryGiB": 256,
    "name": "ml.m5d.16xlarge",
    "vcpuNum": 64
   },
   {
    "_defaultOrder": 19,
    "_isFastLaunch": false,
    "category": "General purpose",
    "gpuNum": 0,
    "hideHardwareSpecs": false,
    "memoryGiB": 384,
    "name": "ml.m5d.24xlarge",
    "vcpuNum": 96
   },
   {
    "_defaultOrder": 20,
    "_isFastLaunch": false,
    "category": "General purpose",
    "gpuNum": 0,
    "hideHardwareSpecs": true,
    "memoryGiB": 0,
    "name": "ml.geospatial.interactive",
    "supportedImageNames": [
     "sagemaker-geospatial-v1-0"
    ],
    "vcpuNum": 0
   },
   {
    "_defaultOrder": 21,
    "_isFastLaunch": true,
    "category": "Compute optimized",
    "gpuNum": 0,
    "hideHardwareSpecs": false,
    "memoryGiB": 4,
    "name": "ml.c5.large",
    "vcpuNum": 2
   },
   {
    "_defaultOrder": 22,
    "_isFastLaunch": false,
    "category": "Compute optimized",
    "gpuNum": 0,
    "hideHardwareSpecs": false,
    "memoryGiB": 8,
    "name": "ml.c5.xlarge",
    "vcpuNum": 4
   },
   {
    "_defaultOrder": 23,
    "_isFastLaunch": false,
    "category": "Compute optimized",
    "gpuNum": 0,
    "hideHardwareSpecs": false,
    "memoryGiB": 16,
    "name": "ml.c5.2xlarge",
    "vcpuNum": 8
   },
   {
    "_defaultOrder": 24,
    "_isFastLaunch": false,
    "category": "Compute optimized",
    "gpuNum": 0,
    "hideHardwareSpecs": false,
    "memoryGiB": 32,
    "name": "ml.c5.4xlarge",
    "vcpuNum": 16
   },
   {
    "_defaultOrder": 25,
    "_isFastLaunch": false,
    "category": "Compute optimized",
    "gpuNum": 0,
    "hideHardwareSpecs": false,
    "memoryGiB": 72,
    "name": "ml.c5.9xlarge",
    "vcpuNum": 36
   },
   {
    "_defaultOrder": 26,
    "_isFastLaunch": false,
    "category": "Compute optimized",
    "gpuNum": 0,
    "hideHardwareSpecs": false,
    "memoryGiB": 96,
    "name": "ml.c5.12xlarge",
    "vcpuNum": 48
   },
   {
    "_defaultOrder": 27,
    "_isFastLaunch": false,
    "category": "Compute optimized",
    "gpuNum": 0,
    "hideHardwareSpecs": false,
    "memoryGiB": 144,
    "name": "ml.c5.18xlarge",
    "vcpuNum": 72
   },
   {
    "_defaultOrder": 28,
    "_isFastLaunch": false,
    "category": "Compute optimized",
    "gpuNum": 0,
    "hideHardwareSpecs": false,
    "memoryGiB": 192,
    "name": "ml.c5.24xlarge",
    "vcpuNum": 96
   },
   {
    "_defaultOrder": 29,
    "_isFastLaunch": true,
    "category": "Accelerated computing",
    "gpuNum": 1,
    "hideHardwareSpecs": false,
    "memoryGiB": 16,
    "name": "ml.g4dn.xlarge",
    "vcpuNum": 4
   },
   {
    "_defaultOrder": 30,
    "_isFastLaunch": false,
    "category": "Accelerated computing",
    "gpuNum": 1,
    "hideHardwareSpecs": false,
    "memoryGiB": 32,
    "name": "ml.g4dn.2xlarge",
    "vcpuNum": 8
   },
   {
    "_defaultOrder": 31,
    "_isFastLaunch": false,
    "category": "Accelerated computing",
    "gpuNum": 1,
    "hideHardwareSpecs": false,
    "memoryGiB": 64,
    "name": "ml.g4dn.4xlarge",
    "vcpuNum": 16
   },
   {
    "_defaultOrder": 32,
    "_isFastLaunch": false,
    "category": "Accelerated computing",
    "gpuNum": 1,
    "hideHardwareSpecs": false,
    "memoryGiB": 128,
    "name": "ml.g4dn.8xlarge",
    "vcpuNum": 32
   },
   {
    "_defaultOrder": 33,
    "_isFastLaunch": false,
    "category": "Accelerated computing",
    "gpuNum": 4,
    "hideHardwareSpecs": false,
    "memoryGiB": 192,
    "name": "ml.g4dn.12xlarge",
    "vcpuNum": 48
   },
   {
    "_defaultOrder": 34,
    "_isFastLaunch": false,
    "category": "Accelerated computing",
    "gpuNum": 1,
    "hideHardwareSpecs": false,
    "memoryGiB": 256,
    "name": "ml.g4dn.16xlarge",
    "vcpuNum": 64
   },
   {
    "_defaultOrder": 35,
    "_isFastLaunch": false,
    "category": "Accelerated computing",
    "gpuNum": 1,
    "hideHardwareSpecs": false,
    "memoryGiB": 61,
    "name": "ml.p3.2xlarge",
    "vcpuNum": 8
   },
   {
    "_defaultOrder": 36,
    "_isFastLaunch": false,
    "category": "Accelerated computing",
    "gpuNum": 4,
    "hideHardwareSpecs": false,
    "memoryGiB": 244,
    "name": "ml.p3.8xlarge",
    "vcpuNum": 32
   },
   {
    "_defaultOrder": 37,
    "_isFastLaunch": false,
    "category": "Accelerated computing",
    "gpuNum": 8,
    "hideHardwareSpecs": false,
    "memoryGiB": 488,
    "name": "ml.p3.16xlarge",
    "vcpuNum": 64
   },
   {
    "_defaultOrder": 38,
    "_isFastLaunch": false,
    "category": "Accelerated computing",
    "gpuNum": 8,
    "hideHardwareSpecs": false,
    "memoryGiB": 768,
    "name": "ml.p3dn.24xlarge",
    "vcpuNum": 96
   },
   {
    "_defaultOrder": 39,
    "_isFastLaunch": false,
    "category": "Memory Optimized",
    "gpuNum": 0,
    "hideHardwareSpecs": false,
    "memoryGiB": 16,
    "name": "ml.r5.large",
    "vcpuNum": 2
   },
   {
    "_defaultOrder": 40,
    "_isFastLaunch": false,
    "category": "Memory Optimized",
    "gpuNum": 0,
    "hideHardwareSpecs": false,
    "memoryGiB": 32,
    "name": "ml.r5.xlarge",
    "vcpuNum": 4
   },
   {
    "_defaultOrder": 41,
    "_isFastLaunch": false,
    "category": "Memory Optimized",
    "gpuNum": 0,
    "hideHardwareSpecs": false,
    "memoryGiB": 64,
    "name": "ml.r5.2xlarge",
    "vcpuNum": 8
   },
   {
    "_defaultOrder": 42,
    "_isFastLaunch": false,
    "category": "Memory Optimized",
    "gpuNum": 0,
    "hideHardwareSpecs": false,
    "memoryGiB": 128,
    "name": "ml.r5.4xlarge",
    "vcpuNum": 16
   },
   {
    "_defaultOrder": 43,
    "_isFastLaunch": false,
    "category": "Memory Optimized",
    "gpuNum": 0,
    "hideHardwareSpecs": false,
    "memoryGiB": 256,
    "name": "ml.r5.8xlarge",
    "vcpuNum": 32
   },
   {
    "_defaultOrder": 44,
    "_isFastLaunch": false,
    "category": "Memory Optimized",
    "gpuNum": 0,
    "hideHardwareSpecs": false,
    "memoryGiB": 384,
    "name": "ml.r5.12xlarge",
    "vcpuNum": 48
   },
   {
    "_defaultOrder": 45,
    "_isFastLaunch": false,
    "category": "Memory Optimized",
    "gpuNum": 0,
    "hideHardwareSpecs": false,
    "memoryGiB": 512,
    "name": "ml.r5.16xlarge",
    "vcpuNum": 64
   },
   {
    "_defaultOrder": 46,
    "_isFastLaunch": false,
    "category": "Memory Optimized",
    "gpuNum": 0,
    "hideHardwareSpecs": false,
    "memoryGiB": 768,
    "name": "ml.r5.24xlarge",
    "vcpuNum": 96
   },
   {
    "_defaultOrder": 47,
    "_isFastLaunch": false,
    "category": "Accelerated computing",
    "gpuNum": 1,
    "hideHardwareSpecs": false,
    "memoryGiB": 16,
    "name": "ml.g5.xlarge",
    "vcpuNum": 4
   },
   {
    "_defaultOrder": 48,
    "_isFastLaunch": false,
    "category": "Accelerated computing",
    "gpuNum": 1,
    "hideHardwareSpecs": false,
    "memoryGiB": 32,
    "name": "ml.g5.2xlarge",
    "vcpuNum": 8
   },
   {
    "_defaultOrder": 49,
    "_isFastLaunch": false,
    "category": "Accelerated computing",
    "gpuNum": 1,
    "hideHardwareSpecs": false,
    "memoryGiB": 64,
    "name": "ml.g5.4xlarge",
    "vcpuNum": 16
   },
   {
    "_defaultOrder": 50,
    "_isFastLaunch": false,
    "category": "Accelerated computing",
    "gpuNum": 1,
    "hideHardwareSpecs": false,
    "memoryGiB": 128,
    "name": "ml.g5.8xlarge",
    "vcpuNum": 32
   },
   {
    "_defaultOrder": 51,
    "_isFastLaunch": false,
    "category": "Accelerated computing",
    "gpuNum": 1,
    "hideHardwareSpecs": false,
    "memoryGiB": 256,
    "name": "ml.g5.16xlarge",
    "vcpuNum": 64
   },
   {
    "_defaultOrder": 52,
    "_isFastLaunch": false,
    "category": "Accelerated computing",
    "gpuNum": 4,
    "hideHardwareSpecs": false,
    "memoryGiB": 192,
    "name": "ml.g5.12xlarge",
    "vcpuNum": 48
   },
   {
    "_defaultOrder": 53,
    "_isFastLaunch": false,
    "category": "Accelerated computing",
    "gpuNum": 4,
    "hideHardwareSpecs": false,
    "memoryGiB": 384,
    "name": "ml.g5.24xlarge",
    "vcpuNum": 96
   },
   {
    "_defaultOrder": 54,
    "_isFastLaunch": false,
    "category": "Accelerated computing",
    "gpuNum": 8,
    "hideHardwareSpecs": false,
    "memoryGiB": 768,
    "name": "ml.g5.48xlarge",
    "vcpuNum": 192
   },
   {
    "_defaultOrder": 55,
    "_isFastLaunch": false,
    "category": "Accelerated computing",
    "gpuNum": 8,
    "hideHardwareSpecs": false,
    "memoryGiB": 1152,
    "name": "ml.p4d.24xlarge",
    "vcpuNum": 96
   },
   {
    "_defaultOrder": 56,
    "_isFastLaunch": false,
    "category": "Accelerated computing",
    "gpuNum": 8,
    "hideHardwareSpecs": false,
    "memoryGiB": 1152,
    "name": "ml.p4de.24xlarge",
    "vcpuNum": 96
   },
   {
    "_defaultOrder": 57,
    "_isFastLaunch": false,
    "category": "Accelerated computing",
    "gpuNum": 0,
    "hideHardwareSpecs": false,
    "memoryGiB": 32,
    "name": "ml.trn1.2xlarge",
    "vcpuNum": 8
   },
   {
    "_defaultOrder": 58,
    "_isFastLaunch": false,
    "category": "Accelerated computing",
    "gpuNum": 0,
    "hideHardwareSpecs": false,
    "memoryGiB": 512,
    "name": "ml.trn1.32xlarge",
    "vcpuNum": 128
   },
   {
    "_defaultOrder": 59,
    "_isFastLaunch": false,
    "category": "Accelerated computing",
    "gpuNum": 0,
    "hideHardwareSpecs": false,
    "memoryGiB": 512,
    "name": "ml.trn1n.32xlarge",
    "vcpuNum": 128
   }
  ],
  "instance_type": "ml.t3.medium",
  "kernelspec": {
   "display_name": "Python 3 (Data Science 3.0)",
   "language": "python",
   "name": "python3__SAGEMAKER_INTERNAL__arn:aws:sagemaker:us-east-1:081325390199:image/sagemaker-data-science-310-v1"
  },
  "language_info": {
   "codemirror_mode": {
    "name": "ipython",
    "version": 3
   },
   "file_extension": ".py",
   "mimetype": "text/x-python",
   "name": "python",
   "nbconvert_exporter": "python",
   "pygments_lexer": "ipython3",
   "version": "3.10.6"
  }
 },
 "nbformat": 4,
 "nbformat_minor": 5
}
