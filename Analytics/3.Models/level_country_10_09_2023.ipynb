{
 "cells": [
  {
   "cell_type": "code",
   "execution_count": 2,
   "id": "fad936de-3bac-492f-bbc4-a6959c5205d1",
   "metadata": {
    "tags": []
   },
   "outputs": [],
   "source": [
    "import boto3"
   ]
  },
  {
   "cell_type": "code",
   "execution_count": 3,
   "id": "ea967389-2758-4a57-86f6-e833d9b4d41e",
   "metadata": {
    "tags": []
   },
   "outputs": [],
   "source": [
    "import pandas as pd\n",
    "from io import StringIO"
   ]
  },
  {
   "cell_type": "code",
   "execution_count": 4,
   "id": "b732f32c-e12b-4c9f-8891-22209c98dd83",
   "metadata": {},
   "outputs": [],
   "source": [
    "# Set up S3 client\n",
    "client = boto3.client('s3')"
   ]
  },
  {
   "cell_type": "code",
   "execution_count": 5,
   "id": "ec4f7f89-ddbc-41bd-b5a7-db19a8421987",
   "metadata": {
    "tags": []
   },
   "outputs": [],
   "source": [
    "folders_list =  ['level_country_10_09_2023']"
   ]
  },
  {
   "cell_type": "code",
   "execution_count": 6,
   "id": "848dff3c-7d29-4b5f-96ca-430ba5785f21",
   "metadata": {
    "tags": []
   },
   "outputs": [],
   "source": [
    "# Bucket name and common prefix\n",
    "bucket_forecast = 'viamericas-datalake-dev-us-east-1-283731589572-analytics'\n",
    "common_path = 'Forecast/Forecast_analysis/'"
   ]
  },
  {
   "cell_type": "code",
   "execution_count": 7,
   "id": "9f654380-70f1-45dc-9648-2372ded63735",
   "metadata": {
    "tags": []
   },
   "outputs": [],
   "source": [
    "# Initialize a list to store DataFrames\n",
    "dfs = []"
   ]
  },
  {
   "cell_type": "code",
   "execution_count": 33,
   "id": "e5fb1caf-6f28-416b-9152-bb17f52a1345",
   "metadata": {
    "tags": []
   },
   "outputs": [],
   "source": [
    "# Iterate over each folder in the list\n",
    "for folder_item in folders_list:\n",
    "    # Build the new path for the current folder\n",
    "    path = f'{common_path}{folder_item}/'\n",
    "    \n",
    "    # List objects in the folder\n",
    "    elements = client.list_objects(Bucket=bucket_forecast, Prefix=path)\n",
    "\n",
    "    # Iterate over each object in the folder\n",
    "    for obj in elements.get('Contents', []):\n",
    "        # Check if the object is a CSV file\n",
    "        if obj['Key'].endswith('.csv'):\n",
    "            # Read CSV content from S3\n",
    "            response = client.get_object(Bucket=bucket_forecast, Key=obj['Key'])\n",
    "            csv_content = response['Body'].read().decode('utf-8')\n",
    "\n",
    "            # Transform CSV content to DataFrame\n",
    "            df = pd.read_csv(StringIO(csv_content))\n",
    "\n",
    "            \n",
    "            df['folder_id'] = folder_item # 'folder_id' column to indentify the forecast\n",
    "\n",
    "            dfs.append(df)"
   ]
  },
  {
   "cell_type": "code",
   "execution_count": 34,
   "id": "4744b17b-b437-4c72-8cbc-ef5c2f832a5b",
   "metadata": {
    "tags": []
   },
   "outputs": [],
   "source": [
    "# Concatenate all DataFrames into a single one\n",
    "final_df = pd.concat(dfs, ignore_index=True)"
   ]
  },
  {
   "cell_type": "code",
   "execution_count": 35,
   "id": "b87da4d3-2541-4abf-893a-0dbba7f375ef",
   "metadata": {
    "tags": []
   },
   "outputs": [
    {
     "data": {
      "text/plain": [
       "array(['level_country_10_09_2023'], dtype=object)"
      ]
     },
     "execution_count": 35,
     "metadata": {},
     "output_type": "execute_result"
    }
   ],
   "source": [
    "final_df['folder_id'].unique()"
   ]
  },
  {
   "cell_type": "code",
   "execution_count": 36,
   "id": "ef562a27-acb1-4963-a80e-02de5ef42e96",
   "metadata": {
    "tags": []
   },
   "outputs": [],
   "source": [
    "final_df['date'] = pd.to_datetime(final_df['date']).dt.date"
   ]
  },
  {
   "cell_type": "code",
   "execution_count": 37,
   "id": "3069f7a2-025b-4f0b-84cd-a6f373c64eda",
   "metadata": {
    "tags": []
   },
   "outputs": [
    {
     "data": {
      "text/html": [
       "<div>\n",
       "<style scoped>\n",
       "    .dataframe tbody tr th:only-of-type {\n",
       "        vertical-align: middle;\n",
       "    }\n",
       "\n",
       "    .dataframe tbody tr th {\n",
       "        vertical-align: top;\n",
       "    }\n",
       "\n",
       "    .dataframe thead th {\n",
       "        text-align: right;\n",
       "    }\n",
       "</style>\n",
       "<table border=\"1\" class=\"dataframe\">\n",
       "  <thead>\n",
       "    <tr style=\"text-align: right;\">\n",
       "      <th></th>\n",
       "      <th>item_id</th>\n",
       "      <th>date</th>\n",
       "      <th>p10</th>\n",
       "      <th>p50</th>\n",
       "      <th>p90</th>\n",
       "      <th>mean</th>\n",
       "      <th>folder_id</th>\n",
       "    </tr>\n",
       "  </thead>\n",
       "  <tbody>\n",
       "    <tr>\n",
       "      <th>0</th>\n",
       "      <td>philippines</td>\n",
       "      <td>2023-09-11</td>\n",
       "      <td>763147.187500</td>\n",
       "      <td>901665.062500</td>\n",
       "      <td>1.017391e+06</td>\n",
       "      <td>8.923422e+05</td>\n",
       "      <td>level_country_10_09_2023</td>\n",
       "    </tr>\n",
       "    <tr>\n",
       "      <th>1</th>\n",
       "      <td>philippines</td>\n",
       "      <td>2023-09-12</td>\n",
       "      <td>758869.875000</td>\n",
       "      <td>909481.187500</td>\n",
       "      <td>1.069623e+06</td>\n",
       "      <td>9.004291e+05</td>\n",
       "      <td>level_country_10_09_2023</td>\n",
       "    </tr>\n",
       "    <tr>\n",
       "      <th>2</th>\n",
       "      <td>philippines</td>\n",
       "      <td>2023-09-13</td>\n",
       "      <td>816989.437500</td>\n",
       "      <td>934749.437500</td>\n",
       "      <td>1.106833e+06</td>\n",
       "      <td>9.426761e+05</td>\n",
       "      <td>level_country_10_09_2023</td>\n",
       "    </tr>\n",
       "    <tr>\n",
       "      <th>3</th>\n",
       "      <td>philippines</td>\n",
       "      <td>2023-09-14</td>\n",
       "      <td>837347.625000</td>\n",
       "      <td>956794.750000</td>\n",
       "      <td>1.131879e+06</td>\n",
       "      <td>9.639903e+05</td>\n",
       "      <td>level_country_10_09_2023</td>\n",
       "    </tr>\n",
       "    <tr>\n",
       "      <th>4</th>\n",
       "      <td>philippines</td>\n",
       "      <td>2023-09-15</td>\n",
       "      <td>871680.875000</td>\n",
       "      <td>997848.375000</td>\n",
       "      <td>1.143093e+06</td>\n",
       "      <td>1.000493e+06</td>\n",
       "      <td>level_country_10_09_2023</td>\n",
       "    </tr>\n",
       "    <tr>\n",
       "      <th>...</th>\n",
       "      <td>...</td>\n",
       "      <td>...</td>\n",
       "      <td>...</td>\n",
       "      <td>...</td>\n",
       "      <td>...</td>\n",
       "      <td>...</td>\n",
       "      <td>...</td>\n",
       "    </tr>\n",
       "    <tr>\n",
       "      <th>639</th>\n",
       "      <td>united states</td>\n",
       "      <td>2023-09-13</td>\n",
       "      <td>90348.882812</td>\n",
       "      <td>110202.460938</td>\n",
       "      <td>1.404780e+05</td>\n",
       "      <td>1.120975e+05</td>\n",
       "      <td>level_country_10_09_2023</td>\n",
       "    </tr>\n",
       "    <tr>\n",
       "      <th>640</th>\n",
       "      <td>united states</td>\n",
       "      <td>2023-09-14</td>\n",
       "      <td>81936.453125</td>\n",
       "      <td>103233.921875</td>\n",
       "      <td>1.344908e+05</td>\n",
       "      <td>1.047100e+05</td>\n",
       "      <td>level_country_10_09_2023</td>\n",
       "    </tr>\n",
       "    <tr>\n",
       "      <th>641</th>\n",
       "      <td>united states</td>\n",
       "      <td>2023-09-15</td>\n",
       "      <td>106647.898438</td>\n",
       "      <td>130330.734375</td>\n",
       "      <td>1.589139e+05</td>\n",
       "      <td>1.312919e+05</td>\n",
       "      <td>level_country_10_09_2023</td>\n",
       "    </tr>\n",
       "    <tr>\n",
       "      <th>642</th>\n",
       "      <td>united states</td>\n",
       "      <td>2023-09-16</td>\n",
       "      <td>101069.945312</td>\n",
       "      <td>123758.804688</td>\n",
       "      <td>1.486414e+05</td>\n",
       "      <td>1.257572e+05</td>\n",
       "      <td>level_country_10_09_2023</td>\n",
       "    </tr>\n",
       "    <tr>\n",
       "      <th>643</th>\n",
       "      <td>united states</td>\n",
       "      <td>2023-09-17</td>\n",
       "      <td>108553.304688</td>\n",
       "      <td>134585.453125</td>\n",
       "      <td>1.624557e+05</td>\n",
       "      <td>1.358675e+05</td>\n",
       "      <td>level_country_10_09_2023</td>\n",
       "    </tr>\n",
       "  </tbody>\n",
       "</table>\n",
       "<p>644 rows × 7 columns</p>\n",
       "</div>"
      ],
      "text/plain": [
       "           item_id        date            p10            p50           p90  \\\n",
       "0      philippines  2023-09-11  763147.187500  901665.062500  1.017391e+06   \n",
       "1      philippines  2023-09-12  758869.875000  909481.187500  1.069623e+06   \n",
       "2      philippines  2023-09-13  816989.437500  934749.437500  1.106833e+06   \n",
       "3      philippines  2023-09-14  837347.625000  956794.750000  1.131879e+06   \n",
       "4      philippines  2023-09-15  871680.875000  997848.375000  1.143093e+06   \n",
       "..             ...         ...            ...            ...           ...   \n",
       "639  united states  2023-09-13   90348.882812  110202.460938  1.404780e+05   \n",
       "640  united states  2023-09-14   81936.453125  103233.921875  1.344908e+05   \n",
       "641  united states  2023-09-15  106647.898438  130330.734375  1.589139e+05   \n",
       "642  united states  2023-09-16  101069.945312  123758.804688  1.486414e+05   \n",
       "643  united states  2023-09-17  108553.304688  134585.453125  1.624557e+05   \n",
       "\n",
       "             mean                 folder_id  \n",
       "0    8.923422e+05  level_country_10_09_2023  \n",
       "1    9.004291e+05  level_country_10_09_2023  \n",
       "2    9.426761e+05  level_country_10_09_2023  \n",
       "3    9.639903e+05  level_country_10_09_2023  \n",
       "4    1.000493e+06  level_country_10_09_2023  \n",
       "..            ...                       ...  \n",
       "639  1.120975e+05  level_country_10_09_2023  \n",
       "640  1.047100e+05  level_country_10_09_2023  \n",
       "641  1.312919e+05  level_country_10_09_2023  \n",
       "642  1.257572e+05  level_country_10_09_2023  \n",
       "643  1.358675e+05  level_country_10_09_2023  \n",
       "\n",
       "[644 rows x 7 columns]"
      ]
     },
     "execution_count": 37,
     "metadata": {},
     "output_type": "execute_result"
    }
   ],
   "source": [
    "final_df"
   ]
  },
  {
   "cell_type": "code",
   "execution_count": 39,
   "id": "4c5f944c-bec1-4b48-860d-ec15bd660db0",
   "metadata": {
    "tags": []
   },
   "outputs": [],
   "source": [
    "final_df.rename(columns={'item_id':'country'}, inplace=True)"
   ]
  },
  {
   "cell_type": "code",
   "execution_count": 40,
   "id": "65597e9f-6eac-4b20-8f42-fee70d45128b",
   "metadata": {
    "tags": []
   },
   "outputs": [],
   "source": [
    "final_df = final_df[['folder_id', 'date', 'country','p10', 'p50', 'p90', 'mean']]"
   ]
  },
  {
   "cell_type": "code",
   "execution_count": 41,
   "id": "080d6615-18ae-4532-aa9b-0c8d07520ca7",
   "metadata": {
    "tags": []
   },
   "outputs": [
    {
     "data": {
      "text/plain": [
       "7"
      ]
     },
     "execution_count": 41,
     "metadata": {},
     "output_type": "execute_result"
    }
   ],
   "source": [
    "final_df['date'].nunique()"
   ]
  },
  {
   "cell_type": "code",
   "execution_count": 42,
   "id": "580feab1-a83d-4480-b3d8-e9e17ded8cf5",
   "metadata": {
    "tags": []
   },
   "outputs": [
    {
     "name": "stderr",
     "output_type": "stream",
     "text": [
      "/tmp/ipykernel_20/2399063668.py:1: FutureWarning: DataFrame.applymap has been deprecated. Use DataFrame.map instead.\n",
      "  final_df = final_df.applymap(lambda x: x.upper() if isinstance(x, str) else x)\n"
     ]
    }
   ],
   "source": [
    "final_df = final_df.applymap(lambda x: x.upper() if isinstance(x, str) else x)"
   ]
  },
  {
   "cell_type": "code",
   "execution_count": 43,
   "id": "44492e67-72af-4223-8036-5d72232f71af",
   "metadata": {
    "tags": []
   },
   "outputs": [
    {
     "data": {
      "text/html": [
       "<div>\n",
       "<style scoped>\n",
       "    .dataframe tbody tr th:only-of-type {\n",
       "        vertical-align: middle;\n",
       "    }\n",
       "\n",
       "    .dataframe tbody tr th {\n",
       "        vertical-align: top;\n",
       "    }\n",
       "\n",
       "    .dataframe thead th {\n",
       "        text-align: right;\n",
       "    }\n",
       "</style>\n",
       "<table border=\"1\" class=\"dataframe\">\n",
       "  <thead>\n",
       "    <tr style=\"text-align: right;\">\n",
       "      <th></th>\n",
       "      <th>folder_id</th>\n",
       "      <th>date</th>\n",
       "      <th>country</th>\n",
       "      <th>p10</th>\n",
       "      <th>p50</th>\n",
       "      <th>p90</th>\n",
       "      <th>mean</th>\n",
       "    </tr>\n",
       "  </thead>\n",
       "  <tbody>\n",
       "    <tr>\n",
       "      <th>0</th>\n",
       "      <td>LEVEL_COUNTRY_10_09_2023</td>\n",
       "      <td>2023-09-11</td>\n",
       "      <td>PHILIPPINES</td>\n",
       "      <td>763147.1875</td>\n",
       "      <td>901665.0625</td>\n",
       "      <td>1.017391e+06</td>\n",
       "      <td>8.923422e+05</td>\n",
       "    </tr>\n",
       "    <tr>\n",
       "      <th>1</th>\n",
       "      <td>LEVEL_COUNTRY_10_09_2023</td>\n",
       "      <td>2023-09-12</td>\n",
       "      <td>PHILIPPINES</td>\n",
       "      <td>758869.8750</td>\n",
       "      <td>909481.1875</td>\n",
       "      <td>1.069623e+06</td>\n",
       "      <td>9.004291e+05</td>\n",
       "    </tr>\n",
       "    <tr>\n",
       "      <th>2</th>\n",
       "      <td>LEVEL_COUNTRY_10_09_2023</td>\n",
       "      <td>2023-09-13</td>\n",
       "      <td>PHILIPPINES</td>\n",
       "      <td>816989.4375</td>\n",
       "      <td>934749.4375</td>\n",
       "      <td>1.106833e+06</td>\n",
       "      <td>9.426761e+05</td>\n",
       "    </tr>\n",
       "    <tr>\n",
       "      <th>3</th>\n",
       "      <td>LEVEL_COUNTRY_10_09_2023</td>\n",
       "      <td>2023-09-14</td>\n",
       "      <td>PHILIPPINES</td>\n",
       "      <td>837347.6250</td>\n",
       "      <td>956794.7500</td>\n",
       "      <td>1.131879e+06</td>\n",
       "      <td>9.639903e+05</td>\n",
       "    </tr>\n",
       "    <tr>\n",
       "      <th>4</th>\n",
       "      <td>LEVEL_COUNTRY_10_09_2023</td>\n",
       "      <td>2023-09-15</td>\n",
       "      <td>PHILIPPINES</td>\n",
       "      <td>871680.8750</td>\n",
       "      <td>997848.3750</td>\n",
       "      <td>1.143093e+06</td>\n",
       "      <td>1.000493e+06</td>\n",
       "    </tr>\n",
       "  </tbody>\n",
       "</table>\n",
       "</div>"
      ],
      "text/plain": [
       "                  folder_id        date      country          p10  \\\n",
       "0  LEVEL_COUNTRY_10_09_2023  2023-09-11  PHILIPPINES  763147.1875   \n",
       "1  LEVEL_COUNTRY_10_09_2023  2023-09-12  PHILIPPINES  758869.8750   \n",
       "2  LEVEL_COUNTRY_10_09_2023  2023-09-13  PHILIPPINES  816989.4375   \n",
       "3  LEVEL_COUNTRY_10_09_2023  2023-09-14  PHILIPPINES  837347.6250   \n",
       "4  LEVEL_COUNTRY_10_09_2023  2023-09-15  PHILIPPINES  871680.8750   \n",
       "\n",
       "           p50           p90          mean  \n",
       "0  901665.0625  1.017391e+06  8.923422e+05  \n",
       "1  909481.1875  1.069623e+06  9.004291e+05  \n",
       "2  934749.4375  1.106833e+06  9.426761e+05  \n",
       "3  956794.7500  1.131879e+06  9.639903e+05  \n",
       "4  997848.3750  1.143093e+06  1.000493e+06  "
      ]
     },
     "execution_count": 43,
     "metadata": {},
     "output_type": "execute_result"
    }
   ],
   "source": [
    "final_df.head()"
   ]
  },
  {
   "cell_type": "code",
   "execution_count": 19,
   "id": "12507add-2b1d-42eb-acc4-199d3368eaa0",
   "metadata": {
    "tags": []
   },
   "outputs": [],
   "source": [
    "# DB Setting\n",
    "bucket_name = 's3://viamericas-datalake-dev-us-east-1-283731589572-athena/'\n",
    "origin_name = 'AwsDataCatalog'\n",
    "database_name= 'analytics'\n",
    "table_name = 'daily_check'"
   ]
  },
  {
   "cell_type": "code",
   "execution_count": 22,
   "id": "be9343f3-9a7b-49e7-9730-bb2d687159df",
   "metadata": {
    "tags": []
   },
   "outputs": [],
   "source": [
    "#pip install pyathena"
   ]
  },
  {
   "cell_type": "code",
   "execution_count": 23,
   "id": "c788a0d1-0680-4426-b8cd-5df89e088d3e",
   "metadata": {
    "tags": []
   },
   "outputs": [
    {
     "name": "stderr",
     "output_type": "stream",
     "text": [
      "/tmp/ipykernel_20/268183201.py:6: UserWarning: pandas only supports SQLAlchemy connectable (engine/connection) or database string URI or sqlite3 DBAPI2 connection. Other DBAPI2 objects are not tested. Please consider using SQLAlchemy.\n",
      "  df_daily_check = pd.read_sql(f'SELECT * FROM {origin_name}.{database_name}.{table_name};', conn)\n"
     ]
    }
   ],
   "source": [
    "from pyathena import connect\n",
    "\n",
    "#Connection\n",
    "conn = connect(s3_staging_dir=f'{bucket_name}queryresults/',\n",
    "               region_name='us-east-1')\n",
    "df_daily_check = pd.read_sql(f'SELECT * FROM {origin_name}.{database_name}.{table_name};', conn)"
   ]
  },
  {
   "cell_type": "code",
   "execution_count": 24,
   "id": "00315870-72a2-49b4-9c6e-52fe6e6b8b62",
   "metadata": {
    "tags": []
   },
   "outputs": [],
   "source": [
    "df_daily_check['date'] = pd.to_datetime(df_daily_check['date']).dt.date"
   ]
  },
  {
   "cell_type": "code",
   "execution_count": 25,
   "id": "44729ebb-3095-4a8c-a1be-a62a0e07055c",
   "metadata": {
    "tags": []
   },
   "outputs": [
    {
     "data": {
      "text/html": [
       "<div>\n",
       "<style scoped>\n",
       "    .dataframe tbody tr th:only-of-type {\n",
       "        vertical-align: middle;\n",
       "    }\n",
       "\n",
       "    .dataframe tbody tr th {\n",
       "        vertical-align: top;\n",
       "    }\n",
       "\n",
       "    .dataframe thead th {\n",
       "        text-align: right;\n",
       "    }\n",
       "</style>\n",
       "<table border=\"1\" class=\"dataframe\">\n",
       "  <thead>\n",
       "    <tr style=\"text-align: right;\">\n",
       "      <th></th>\n",
       "      <th>payer</th>\n",
       "      <th>country</th>\n",
       "      <th>date</th>\n",
       "      <th>tx</th>\n",
       "      <th>amount</th>\n",
       "      <th>coupon_count</th>\n",
       "    </tr>\n",
       "  </thead>\n",
       "  <tbody>\n",
       "    <tr>\n",
       "      <th>0</th>\n",
       "      <td>ECUAGIROS</td>\n",
       "      <td>ECUADOR</td>\n",
       "      <td>2022-06-27</td>\n",
       "      <td>144</td>\n",
       "      <td>106780.51</td>\n",
       "      <td>3</td>\n",
       "    </tr>\n",
       "    <tr>\n",
       "      <th>1</th>\n",
       "      <td>BANCO BISA</td>\n",
       "      <td>BOLIVIA</td>\n",
       "      <td>2023-07-04</td>\n",
       "      <td>8</td>\n",
       "      <td>3650.00</td>\n",
       "      <td>0</td>\n",
       "    </tr>\n",
       "    <tr>\n",
       "      <th>2</th>\n",
       "      <td>COOPERATIVA FRONTERIZA (UT)</td>\n",
       "      <td>HONDURAS</td>\n",
       "      <td>2022-07-28</td>\n",
       "      <td>29</td>\n",
       "      <td>12747.00</td>\n",
       "      <td>1</td>\n",
       "    </tr>\n",
       "    <tr>\n",
       "      <th>3</th>\n",
       "      <td>ABANK (TN)</td>\n",
       "      <td>EL SALVADOR</td>\n",
       "      <td>2022-02-01</td>\n",
       "      <td>73</td>\n",
       "      <td>16275.00</td>\n",
       "      <td>1</td>\n",
       "    </tr>\n",
       "    <tr>\n",
       "      <th>4</th>\n",
       "      <td>COOPERATIVA CACIL (UT)</td>\n",
       "      <td>HONDURAS</td>\n",
       "      <td>2022-08-14</td>\n",
       "      <td>29</td>\n",
       "      <td>10516.00</td>\n",
       "      <td>0</td>\n",
       "    </tr>\n",
       "  </tbody>\n",
       "</table>\n",
       "</div>"
      ],
      "text/plain": [
       "                         payer      country        date   tx     amount  \\\n",
       "0                    ECUAGIROS      ECUADOR  2022-06-27  144  106780.51   \n",
       "1                   BANCO BISA      BOLIVIA  2023-07-04    8    3650.00   \n",
       "2  COOPERATIVA FRONTERIZA (UT)     HONDURAS  2022-07-28   29   12747.00   \n",
       "3                   ABANK (TN)  EL SALVADOR  2022-02-01   73   16275.00   \n",
       "4       COOPERATIVA CACIL (UT)     HONDURAS  2022-08-14   29   10516.00   \n",
       "\n",
       "   coupon_count  \n",
       "0             3  \n",
       "1             0  \n",
       "2             1  \n",
       "3             1  \n",
       "4             0  "
      ]
     },
     "execution_count": 25,
     "metadata": {},
     "output_type": "execute_result"
    }
   ],
   "source": [
    "df_daily_check.head()"
   ]
  },
  {
   "cell_type": "code",
   "execution_count": 29,
   "id": "0adcb9d5-140c-4073-8fc3-c50d1badc2c7",
   "metadata": {
    "tags": []
   },
   "outputs": [],
   "source": [
    "grouped_daily = df_daily_check.groupby(['date','country']).agg({\n",
    "    'amount': 'sum',\n",
    "    'tx': 'sum',\n",
    "    'coupon_count': 'sum'\n",
    "}).reset_index()"
   ]
  },
  {
   "cell_type": "code",
   "execution_count": 31,
   "id": "e7910d10-3d7c-48da-b427-87c037a4d9f3",
   "metadata": {
    "tags": []
   },
   "outputs": [
    {
     "data": {
      "text/plain": [
       "25110624454.414898"
      ]
     },
     "execution_count": 31,
     "metadata": {},
     "output_type": "execute_result"
    }
   ],
   "source": [
    "grouped_daily['amount'].sum()"
   ]
  },
  {
   "cell_type": "code",
   "execution_count": 79,
   "id": "600eace7-599b-4834-b174-3737d304a492",
   "metadata": {
    "tags": []
   },
   "outputs": [],
   "source": [
    "# Merge both df, keeping only daily_check data related to forecast\n",
    "df_forecast = pd.merge(grouped_daily, final_df, on=['date','country'], how='inner').drop_duplicates()"
   ]
  },
  {
   "cell_type": "code",
   "execution_count": 80,
   "id": "cdb59d35-e29c-488b-b2e8-f1556a8986fe",
   "metadata": {
    "tags": []
   },
   "outputs": [
    {
     "data": {
      "text/plain": [
       "7"
      ]
     },
     "execution_count": 80,
     "metadata": {},
     "output_type": "execute_result"
    }
   ],
   "source": [
    "df_forecast['date'].nunique()"
   ]
  },
  {
   "cell_type": "code",
   "execution_count": 81,
   "id": "a1a2d1ce-5f10-4c3d-abdc-58ef9b16d56a",
   "metadata": {
    "tags": []
   },
   "outputs": [
    {
     "data": {
      "text/plain": [
       "45"
      ]
     },
     "execution_count": 81,
     "metadata": {},
     "output_type": "execute_result"
    }
   ],
   "source": [
    "df_forecast['country'].nunique()"
   ]
  },
  {
   "cell_type": "code",
   "execution_count": 83,
   "id": "2cbb677c-09df-4f03-9e49-98eb3bbc11ae",
   "metadata": {
    "tags": []
   },
   "outputs": [],
   "source": [
    "df_forecast = df_forecast.loc[df_forecast.amount!=0] # To process"
   ]
  },
  {
   "cell_type": "code",
   "execution_count": 84,
   "id": "b018859d-4c56-4542-a387-16b46fea855f",
   "metadata": {
    "tags": []
   },
   "outputs": [],
   "source": [
    "df_forecast[\"pe_mean\"] = abs((df_forecast['amount'] - df_forecast['mean']) / df_forecast['amount'])"
   ]
  },
  {
   "cell_type": "code",
   "execution_count": 92,
   "id": "aaf1fcc0-a462-4020-a001-136c4ef49288",
   "metadata": {
    "tags": []
   },
   "outputs": [],
   "source": [
    "df_forecast[\"pe_P50\"] = abs((df_forecast['amount'] - df_forecast['p50']) / df_forecast['amount'])"
   ]
  },
  {
   "cell_type": "code",
   "execution_count": 105,
   "id": "ea18cc60-1421-48ab-968e-ae7de79b8a2b",
   "metadata": {
    "tags": []
   },
   "outputs": [],
   "source": [
    "df_forecast[\"pe_P10\"] = abs((df_forecast['amount'] - df_forecast['p10']) / df_forecast['amount'])"
   ]
  },
  {
   "cell_type": "code",
   "execution_count": 93,
   "id": "24e58bc1-78a1-49e5-bcfe-ce2a8e1e0d71",
   "metadata": {
    "tags": []
   },
   "outputs": [
    {
     "data": {
      "text/plain": [
       "(0.0011624069905307145, 9.697691870517213)"
      ]
     },
     "execution_count": 93,
     "metadata": {},
     "output_type": "execute_result"
    }
   ],
   "source": [
    "df_forecast.pe_mean.min(), df_forecast.pe_mean.max()"
   ]
  },
  {
   "cell_type": "code",
   "execution_count": 94,
   "id": "050fcc26-5581-4de4-888f-41ffb53ebaec",
   "metadata": {
    "tags": []
   },
   "outputs": [
    {
     "data": {
      "text/plain": [
       "(0.0009499706076898692, 9.35990030257459)"
      ]
     },
     "execution_count": 94,
     "metadata": {},
     "output_type": "execute_result"
    }
   ],
   "source": [
    "df_forecast.pe_P50.min(), df_forecast.pe_P50.max()"
   ]
  },
  {
   "cell_type": "code",
   "execution_count": 107,
   "id": "a2f55a21-3edb-4f0c-b462-7eb59fe5018e",
   "metadata": {
    "tags": []
   },
   "outputs": [
    {
     "data": {
      "text/html": [
       "<div>\n",
       "<style scoped>\n",
       "    .dataframe tbody tr th:only-of-type {\n",
       "        vertical-align: middle;\n",
       "    }\n",
       "\n",
       "    .dataframe tbody tr th {\n",
       "        vertical-align: top;\n",
       "    }\n",
       "\n",
       "    .dataframe thead th {\n",
       "        text-align: right;\n",
       "    }\n",
       "</style>\n",
       "<table border=\"1\" class=\"dataframe\">\n",
       "  <thead>\n",
       "    <tr style=\"text-align: right;\">\n",
       "      <th></th>\n",
       "      <th>date</th>\n",
       "      <th>country</th>\n",
       "      <th>amount</th>\n",
       "      <th>tx</th>\n",
       "      <th>coupon_count</th>\n",
       "      <th>folder_id</th>\n",
       "      <th>p10</th>\n",
       "      <th>p50</th>\n",
       "      <th>p90</th>\n",
       "      <th>mean</th>\n",
       "      <th>pe_mean</th>\n",
       "      <th>pe_P50</th>\n",
       "      <th>pe_P10</th>\n",
       "    </tr>\n",
       "  </thead>\n",
       "  <tbody>\n",
       "    <tr>\n",
       "      <th>278</th>\n",
       "      <td>2023-09-14</td>\n",
       "      <td>SENEGAL</td>\n",
       "      <td>122.00</td>\n",
       "      <td>1</td>\n",
       "      <td>0</td>\n",
       "      <td>LEVEL_COUNTRY_10_09_2023</td>\n",
       "      <td>-348.50</td>\n",
       "      <td>1263.91</td>\n",
       "      <td>2950.64</td>\n",
       "      <td>1305.12</td>\n",
       "      <td>9.70</td>\n",
       "      <td>9.36</td>\n",
       "      <td>3.86</td>\n",
       "    </tr>\n",
       "  </tbody>\n",
       "</table>\n",
       "</div>"
      ],
      "text/plain": [
       "           date  country  amount  tx  coupon_count                 folder_id  \\\n",
       "278  2023-09-14  SENEGAL  122.00   1             0  LEVEL_COUNTRY_10_09_2023   \n",
       "\n",
       "        p10     p50     p90    mean  pe_mean  pe_P50  pe_P10  \n",
       "278 -348.50 1263.91 2950.64 1305.12     9.70    9.36    3.86  "
      ]
     },
     "execution_count": 107,
     "metadata": {},
     "output_type": "execute_result"
    }
   ],
   "source": [
    "df_forecast[df_forecast['pe_mean'] == 9.697691870517213]"
   ]
  },
  {
   "cell_type": "code",
   "execution_count": 96,
   "id": "989ef3ad-fcbc-4568-9c09-05d9ed6de8fb",
   "metadata": {
    "tags": []
   },
   "outputs": [],
   "source": [
    "df_forecast = df_forecast.sort_values(['folder_id', 'country', 'date'])"
   ]
  },
  {
   "cell_type": "code",
   "execution_count": 106,
   "id": "61be54fc-af8f-44a5-831e-1432d6f2d1d8",
   "metadata": {
    "tags": []
   },
   "outputs": [
    {
     "data": {
      "text/html": [
       "<div>\n",
       "<style scoped>\n",
       "    .dataframe tbody tr th:only-of-type {\n",
       "        vertical-align: middle;\n",
       "    }\n",
       "\n",
       "    .dataframe tbody tr th {\n",
       "        vertical-align: top;\n",
       "    }\n",
       "\n",
       "    .dataframe thead th {\n",
       "        text-align: right;\n",
       "    }\n",
       "</style>\n",
       "<table border=\"1\" class=\"dataframe\">\n",
       "  <thead>\n",
       "    <tr style=\"text-align: right;\">\n",
       "      <th></th>\n",
       "      <th>date</th>\n",
       "      <th>country</th>\n",
       "      <th>amount</th>\n",
       "      <th>tx</th>\n",
       "      <th>coupon_count</th>\n",
       "      <th>folder_id</th>\n",
       "      <th>p10</th>\n",
       "      <th>p50</th>\n",
       "      <th>p90</th>\n",
       "      <th>mean</th>\n",
       "      <th>pe_mean</th>\n",
       "      <th>pe_P50</th>\n",
       "      <th>pe_P10</th>\n",
       "    </tr>\n",
       "  </thead>\n",
       "  <tbody>\n",
       "    <tr>\n",
       "      <th>48</th>\n",
       "      <td>2023-09-11</td>\n",
       "      <td>MEXICO</td>\n",
       "      <td>17073946.44</td>\n",
       "      <td>34597</td>\n",
       "      <td>593</td>\n",
       "      <td>LEVEL_COUNTRY_10_09_2023</td>\n",
       "      <td>17972578.00</td>\n",
       "      <td>19857966.00</td>\n",
       "      <td>21445312.00</td>\n",
       "      <td>19734292.00</td>\n",
       "      <td>0.16</td>\n",
       "      <td>0.16</td>\n",
       "      <td>0.05</td>\n",
       "    </tr>\n",
       "    <tr>\n",
       "      <th>124</th>\n",
       "      <td>2023-09-12</td>\n",
       "      <td>MEXICO</td>\n",
       "      <td>13249850.38</td>\n",
       "      <td>26801</td>\n",
       "      <td>424</td>\n",
       "      <td>LEVEL_COUNTRY_10_09_2023</td>\n",
       "      <td>14772725.00</td>\n",
       "      <td>16132289.00</td>\n",
       "      <td>17629524.00</td>\n",
       "      <td>16086806.00</td>\n",
       "      <td>0.21</td>\n",
       "      <td>0.22</td>\n",
       "      <td>0.11</td>\n",
       "    </tr>\n",
       "    <tr>\n",
       "      <th>192</th>\n",
       "      <td>2023-09-13</td>\n",
       "      <td>MEXICO</td>\n",
       "      <td>12225455.26</td>\n",
       "      <td>24402</td>\n",
       "      <td>397</td>\n",
       "      <td>LEVEL_COUNTRY_10_09_2023</td>\n",
       "      <td>13836153.00</td>\n",
       "      <td>14990697.00</td>\n",
       "      <td>16621203.00</td>\n",
       "      <td>15097825.00</td>\n",
       "      <td>0.23</td>\n",
       "      <td>0.23</td>\n",
       "      <td>0.13</td>\n",
       "    </tr>\n",
       "    <tr>\n",
       "      <th>264</th>\n",
       "      <td>2023-09-14</td>\n",
       "      <td>MEXICO</td>\n",
       "      <td>13377976.16</td>\n",
       "      <td>26891</td>\n",
       "      <td>474</td>\n",
       "      <td>LEVEL_COUNTRY_10_09_2023</td>\n",
       "      <td>15637608.00</td>\n",
       "      <td>16862650.00</td>\n",
       "      <td>18724292.00</td>\n",
       "      <td>16942434.00</td>\n",
       "      <td>0.27</td>\n",
       "      <td>0.26</td>\n",
       "      <td>0.17</td>\n",
       "    </tr>\n",
       "    <tr>\n",
       "      <th>336</th>\n",
       "      <td>2023-09-15</td>\n",
       "      <td>MEXICO</td>\n",
       "      <td>21357505.72</td>\n",
       "      <td>46491</td>\n",
       "      <td>891</td>\n",
       "      <td>LEVEL_COUNTRY_10_09_2023</td>\n",
       "      <td>23547386.00</td>\n",
       "      <td>25324260.00</td>\n",
       "      <td>27435166.00</td>\n",
       "      <td>25336734.00</td>\n",
       "      <td>0.19</td>\n",
       "      <td>0.19</td>\n",
       "      <td>0.10</td>\n",
       "    </tr>\n",
       "    <tr>\n",
       "      <th>408</th>\n",
       "      <td>2023-09-16</td>\n",
       "      <td>MEXICO</td>\n",
       "      <td>23379643.53</td>\n",
       "      <td>52205</td>\n",
       "      <td>976</td>\n",
       "      <td>LEVEL_COUNTRY_10_09_2023</td>\n",
       "      <td>25199712.00</td>\n",
       "      <td>27278920.00</td>\n",
       "      <td>29663218.00</td>\n",
       "      <td>27412840.00</td>\n",
       "      <td>0.17</td>\n",
       "      <td>0.17</td>\n",
       "      <td>0.08</td>\n",
       "    </tr>\n",
       "    <tr>\n",
       "      <th>478</th>\n",
       "      <td>2023-09-17</td>\n",
       "      <td>MEXICO</td>\n",
       "      <td>24184710.24</td>\n",
       "      <td>52207</td>\n",
       "      <td>850</td>\n",
       "      <td>LEVEL_COUNTRY_10_09_2023</td>\n",
       "      <td>23965270.00</td>\n",
       "      <td>26159272.00</td>\n",
       "      <td>28612824.00</td>\n",
       "      <td>26294434.00</td>\n",
       "      <td>0.09</td>\n",
       "      <td>0.08</td>\n",
       "      <td>0.01</td>\n",
       "    </tr>\n",
       "  </tbody>\n",
       "</table>\n",
       "</div>"
      ],
      "text/plain": [
       "           date country      amount     tx  coupon_count  \\\n",
       "48   2023-09-11  MEXICO 17073946.44  34597           593   \n",
       "124  2023-09-12  MEXICO 13249850.38  26801           424   \n",
       "192  2023-09-13  MEXICO 12225455.26  24402           397   \n",
       "264  2023-09-14  MEXICO 13377976.16  26891           474   \n",
       "336  2023-09-15  MEXICO 21357505.72  46491           891   \n",
       "408  2023-09-16  MEXICO 23379643.53  52205           976   \n",
       "478  2023-09-17  MEXICO 24184710.24  52207           850   \n",
       "\n",
       "                    folder_id         p10         p50         p90        mean  \\\n",
       "48   LEVEL_COUNTRY_10_09_2023 17972578.00 19857966.00 21445312.00 19734292.00   \n",
       "124  LEVEL_COUNTRY_10_09_2023 14772725.00 16132289.00 17629524.00 16086806.00   \n",
       "192  LEVEL_COUNTRY_10_09_2023 13836153.00 14990697.00 16621203.00 15097825.00   \n",
       "264  LEVEL_COUNTRY_10_09_2023 15637608.00 16862650.00 18724292.00 16942434.00   \n",
       "336  LEVEL_COUNTRY_10_09_2023 23547386.00 25324260.00 27435166.00 25336734.00   \n",
       "408  LEVEL_COUNTRY_10_09_2023 25199712.00 27278920.00 29663218.00 27412840.00   \n",
       "478  LEVEL_COUNTRY_10_09_2023 23965270.00 26159272.00 28612824.00 26294434.00   \n",
       "\n",
       "     pe_mean  pe_P50  pe_P10  \n",
       "48      0.16    0.16    0.05  \n",
       "124     0.21    0.22    0.11  \n",
       "192     0.23    0.23    0.13  \n",
       "264     0.27    0.26    0.17  \n",
       "336     0.19    0.19    0.10  \n",
       "408     0.17    0.17    0.08  \n",
       "478     0.09    0.08    0.01  "
      ]
     },
     "execution_count": 106,
     "metadata": {},
     "output_type": "execute_result"
    }
   ],
   "source": [
    "df_forecast[df_forecast['country'] == 'MEXICO']"
   ]
  },
  {
   "cell_type": "code",
   "execution_count": 98,
   "id": "31c929ee-582b-4d16-aeef-b5f197c459f4",
   "metadata": {
    "tags": []
   },
   "outputs": [
    {
     "data": {
      "text/plain": [
       "45"
      ]
     },
     "execution_count": 98,
     "metadata": {},
     "output_type": "execute_result"
    }
   ],
   "source": [
    "df_forecast['country'].nunique()"
   ]
  },
  {
   "cell_type": "code",
   "execution_count": 101,
   "id": "820b8ca6-c633-45fa-808c-561690bf4349",
   "metadata": {
    "tags": []
   },
   "outputs": [],
   "source": [
    "df_first = df_forecast.drop_duplicates(subset=['folder_id', 'country'], keep='first')"
   ]
  },
  {
   "cell_type": "code",
   "execution_count": 61,
   "id": "a2c9728d-3717-4e80-adb7-92b0778645f9",
   "metadata": {
    "tags": []
   },
   "outputs": [],
   "source": [
    "df_mex = df_forecast[df_forecast['country'] == 'MEXICO']"
   ]
  },
  {
   "cell_type": "code",
   "execution_count": 63,
   "id": "d3a8c2ea-f201-4f89-89f4-3c39c0cf1265",
   "metadata": {
    "tags": []
   },
   "outputs": [],
   "source": [
    "df_first_grouped = df_first.sort_values(['folder_id','country']).groupby(['folder_id', 'country'])['pe'].mean().reset_index()"
   ]
  },
  {
   "cell_type": "code",
   "execution_count": 64,
   "id": "6b324bd5-c916-48e8-9039-fa12bde442fc",
   "metadata": {
    "tags": []
   },
   "outputs": [
    {
     "data": {
      "text/html": [
       "<div>\n",
       "<style scoped>\n",
       "    .dataframe tbody tr th:only-of-type {\n",
       "        vertical-align: middle;\n",
       "    }\n",
       "\n",
       "    .dataframe tbody tr th {\n",
       "        vertical-align: top;\n",
       "    }\n",
       "\n",
       "    .dataframe thead th {\n",
       "        text-align: right;\n",
       "    }\n",
       "</style>\n",
       "<table border=\"1\" class=\"dataframe\">\n",
       "  <thead>\n",
       "    <tr style=\"text-align: right;\">\n",
       "      <th></th>\n",
       "      <th>folder_id</th>\n",
       "      <th>country</th>\n",
       "      <th>pe</th>\n",
       "    </tr>\n",
       "  </thead>\n",
       "  <tbody>\n",
       "    <tr>\n",
       "      <th>0</th>\n",
       "      <td>LEVEL_COUNTRY_10_09_2023</td>\n",
       "      <td>ARGENTINA</td>\n",
       "      <td>0.48</td>\n",
       "    </tr>\n",
       "  </tbody>\n",
       "</table>\n",
       "</div>"
      ],
      "text/plain": [
       "                  folder_id    country   pe\n",
       "0  LEVEL_COUNTRY_10_09_2023  ARGENTINA 0.48"
      ]
     },
     "execution_count": 64,
     "metadata": {},
     "output_type": "execute_result"
    }
   ],
   "source": [
    "pd.set_option('display.float_format', '{:.2f}'.format)\n",
    "df_first_grouped[df_first_grouped['country'] == 'ARGENTINA']"
   ]
  },
  {
   "cell_type": "code",
   "execution_count": 65,
   "id": "2fc15a20-ef6d-4763-8b1d-adee692e0b44",
   "metadata": {
    "tags": []
   },
   "outputs": [
    {
     "data": {
      "text/html": [
       "<div>\n",
       "<style scoped>\n",
       "    .dataframe tbody tr th:only-of-type {\n",
       "        vertical-align: middle;\n",
       "    }\n",
       "\n",
       "    .dataframe tbody tr th {\n",
       "        vertical-align: top;\n",
       "    }\n",
       "\n",
       "    .dataframe thead th {\n",
       "        text-align: right;\n",
       "    }\n",
       "</style>\n",
       "<table border=\"1\" class=\"dataframe\">\n",
       "  <thead>\n",
       "    <tr style=\"text-align: right;\">\n",
       "      <th></th>\n",
       "      <th>folder_id</th>\n",
       "      <th>country</th>\n",
       "      <th>pe</th>\n",
       "    </tr>\n",
       "  </thead>\n",
       "  <tbody>\n",
       "    <tr>\n",
       "      <th>30</th>\n",
       "      <td>LEVEL_COUNTRY_10_09_2023</td>\n",
       "      <td>MEXICO</td>\n",
       "      <td>0.16</td>\n",
       "    </tr>\n",
       "  </tbody>\n",
       "</table>\n",
       "</div>"
      ],
      "text/plain": [
       "                   folder_id country   pe\n",
       "30  LEVEL_COUNTRY_10_09_2023  MEXICO 0.16"
      ]
     },
     "execution_count": 65,
     "metadata": {},
     "output_type": "execute_result"
    }
   ],
   "source": [
    "pd.set_option('display.float_format', '{:.2f}'.format)\n",
    "df_first_grouped[df_first_grouped['country'] == 'MEXICO']"
   ]
  }
 ],
 "metadata": {
  "availableInstances": [
   {
    "_defaultOrder": 0,
    "_isFastLaunch": true,
    "category": "General purpose",
    "gpuNum": 0,
    "hideHardwareSpecs": false,
    "memoryGiB": 4,
    "name": "ml.t3.medium",
    "vcpuNum": 2
   },
   {
    "_defaultOrder": 1,
    "_isFastLaunch": false,
    "category": "General purpose",
    "gpuNum": 0,
    "hideHardwareSpecs": false,
    "memoryGiB": 8,
    "name": "ml.t3.large",
    "vcpuNum": 2
   },
   {
    "_defaultOrder": 2,
    "_isFastLaunch": false,
    "category": "General purpose",
    "gpuNum": 0,
    "hideHardwareSpecs": false,
    "memoryGiB": 16,
    "name": "ml.t3.xlarge",
    "vcpuNum": 4
   },
   {
    "_defaultOrder": 3,
    "_isFastLaunch": false,
    "category": "General purpose",
    "gpuNum": 0,
    "hideHardwareSpecs": false,
    "memoryGiB": 32,
    "name": "ml.t3.2xlarge",
    "vcpuNum": 8
   },
   {
    "_defaultOrder": 4,
    "_isFastLaunch": true,
    "category": "General purpose",
    "gpuNum": 0,
    "hideHardwareSpecs": false,
    "memoryGiB": 8,
    "name": "ml.m5.large",
    "vcpuNum": 2
   },
   {
    "_defaultOrder": 5,
    "_isFastLaunch": false,
    "category": "General purpose",
    "gpuNum": 0,
    "hideHardwareSpecs": false,
    "memoryGiB": 16,
    "name": "ml.m5.xlarge",
    "vcpuNum": 4
   },
   {
    "_defaultOrder": 6,
    "_isFastLaunch": false,
    "category": "General purpose",
    "gpuNum": 0,
    "hideHardwareSpecs": false,
    "memoryGiB": 32,
    "name": "ml.m5.2xlarge",
    "vcpuNum": 8
   },
   {
    "_defaultOrder": 7,
    "_isFastLaunch": false,
    "category": "General purpose",
    "gpuNum": 0,
    "hideHardwareSpecs": false,
    "memoryGiB": 64,
    "name": "ml.m5.4xlarge",
    "vcpuNum": 16
   },
   {
    "_defaultOrder": 8,
    "_isFastLaunch": false,
    "category": "General purpose",
    "gpuNum": 0,
    "hideHardwareSpecs": false,
    "memoryGiB": 128,
    "name": "ml.m5.8xlarge",
    "vcpuNum": 32
   },
   {
    "_defaultOrder": 9,
    "_isFastLaunch": false,
    "category": "General purpose",
    "gpuNum": 0,
    "hideHardwareSpecs": false,
    "memoryGiB": 192,
    "name": "ml.m5.12xlarge",
    "vcpuNum": 48
   },
   {
    "_defaultOrder": 10,
    "_isFastLaunch": false,
    "category": "General purpose",
    "gpuNum": 0,
    "hideHardwareSpecs": false,
    "memoryGiB": 256,
    "name": "ml.m5.16xlarge",
    "vcpuNum": 64
   },
   {
    "_defaultOrder": 11,
    "_isFastLaunch": false,
    "category": "General purpose",
    "gpuNum": 0,
    "hideHardwareSpecs": false,
    "memoryGiB": 384,
    "name": "ml.m5.24xlarge",
    "vcpuNum": 96
   },
   {
    "_defaultOrder": 12,
    "_isFastLaunch": false,
    "category": "General purpose",
    "gpuNum": 0,
    "hideHardwareSpecs": false,
    "memoryGiB": 8,
    "name": "ml.m5d.large",
    "vcpuNum": 2
   },
   {
    "_defaultOrder": 13,
    "_isFastLaunch": false,
    "category": "General purpose",
    "gpuNum": 0,
    "hideHardwareSpecs": false,
    "memoryGiB": 16,
    "name": "ml.m5d.xlarge",
    "vcpuNum": 4
   },
   {
    "_defaultOrder": 14,
    "_isFastLaunch": false,
    "category": "General purpose",
    "gpuNum": 0,
    "hideHardwareSpecs": false,
    "memoryGiB": 32,
    "name": "ml.m5d.2xlarge",
    "vcpuNum": 8
   },
   {
    "_defaultOrder": 15,
    "_isFastLaunch": false,
    "category": "General purpose",
    "gpuNum": 0,
    "hideHardwareSpecs": false,
    "memoryGiB": 64,
    "name": "ml.m5d.4xlarge",
    "vcpuNum": 16
   },
   {
    "_defaultOrder": 16,
    "_isFastLaunch": false,
    "category": "General purpose",
    "gpuNum": 0,
    "hideHardwareSpecs": false,
    "memoryGiB": 128,
    "name": "ml.m5d.8xlarge",
    "vcpuNum": 32
   },
   {
    "_defaultOrder": 17,
    "_isFastLaunch": false,
    "category": "General purpose",
    "gpuNum": 0,
    "hideHardwareSpecs": false,
    "memoryGiB": 192,
    "name": "ml.m5d.12xlarge",
    "vcpuNum": 48
   },
   {
    "_defaultOrder": 18,
    "_isFastLaunch": false,
    "category": "General purpose",
    "gpuNum": 0,
    "hideHardwareSpecs": false,
    "memoryGiB": 256,
    "name": "ml.m5d.16xlarge",
    "vcpuNum": 64
   },
   {
    "_defaultOrder": 19,
    "_isFastLaunch": false,
    "category": "General purpose",
    "gpuNum": 0,
    "hideHardwareSpecs": false,
    "memoryGiB": 384,
    "name": "ml.m5d.24xlarge",
    "vcpuNum": 96
   },
   {
    "_defaultOrder": 20,
    "_isFastLaunch": false,
    "category": "General purpose",
    "gpuNum": 0,
    "hideHardwareSpecs": true,
    "memoryGiB": 0,
    "name": "ml.geospatial.interactive",
    "supportedImageNames": [
     "sagemaker-geospatial-v1-0"
    ],
    "vcpuNum": 0
   },
   {
    "_defaultOrder": 21,
    "_isFastLaunch": true,
    "category": "Compute optimized",
    "gpuNum": 0,
    "hideHardwareSpecs": false,
    "memoryGiB": 4,
    "name": "ml.c5.large",
    "vcpuNum": 2
   },
   {
    "_defaultOrder": 22,
    "_isFastLaunch": false,
    "category": "Compute optimized",
    "gpuNum": 0,
    "hideHardwareSpecs": false,
    "memoryGiB": 8,
    "name": "ml.c5.xlarge",
    "vcpuNum": 4
   },
   {
    "_defaultOrder": 23,
    "_isFastLaunch": false,
    "category": "Compute optimized",
    "gpuNum": 0,
    "hideHardwareSpecs": false,
    "memoryGiB": 16,
    "name": "ml.c5.2xlarge",
    "vcpuNum": 8
   },
   {
    "_defaultOrder": 24,
    "_isFastLaunch": false,
    "category": "Compute optimized",
    "gpuNum": 0,
    "hideHardwareSpecs": false,
    "memoryGiB": 32,
    "name": "ml.c5.4xlarge",
    "vcpuNum": 16
   },
   {
    "_defaultOrder": 25,
    "_isFastLaunch": false,
    "category": "Compute optimized",
    "gpuNum": 0,
    "hideHardwareSpecs": false,
    "memoryGiB": 72,
    "name": "ml.c5.9xlarge",
    "vcpuNum": 36
   },
   {
    "_defaultOrder": 26,
    "_isFastLaunch": false,
    "category": "Compute optimized",
    "gpuNum": 0,
    "hideHardwareSpecs": false,
    "memoryGiB": 96,
    "name": "ml.c5.12xlarge",
    "vcpuNum": 48
   },
   {
    "_defaultOrder": 27,
    "_isFastLaunch": false,
    "category": "Compute optimized",
    "gpuNum": 0,
    "hideHardwareSpecs": false,
    "memoryGiB": 144,
    "name": "ml.c5.18xlarge",
    "vcpuNum": 72
   },
   {
    "_defaultOrder": 28,
    "_isFastLaunch": false,
    "category": "Compute optimized",
    "gpuNum": 0,
    "hideHardwareSpecs": false,
    "memoryGiB": 192,
    "name": "ml.c5.24xlarge",
    "vcpuNum": 96
   },
   {
    "_defaultOrder": 29,
    "_isFastLaunch": true,
    "category": "Accelerated computing",
    "gpuNum": 1,
    "hideHardwareSpecs": false,
    "memoryGiB": 16,
    "name": "ml.g4dn.xlarge",
    "vcpuNum": 4
   },
   {
    "_defaultOrder": 30,
    "_isFastLaunch": false,
    "category": "Accelerated computing",
    "gpuNum": 1,
    "hideHardwareSpecs": false,
    "memoryGiB": 32,
    "name": "ml.g4dn.2xlarge",
    "vcpuNum": 8
   },
   {
    "_defaultOrder": 31,
    "_isFastLaunch": false,
    "category": "Accelerated computing",
    "gpuNum": 1,
    "hideHardwareSpecs": false,
    "memoryGiB": 64,
    "name": "ml.g4dn.4xlarge",
    "vcpuNum": 16
   },
   {
    "_defaultOrder": 32,
    "_isFastLaunch": false,
    "category": "Accelerated computing",
    "gpuNum": 1,
    "hideHardwareSpecs": false,
    "memoryGiB": 128,
    "name": "ml.g4dn.8xlarge",
    "vcpuNum": 32
   },
   {
    "_defaultOrder": 33,
    "_isFastLaunch": false,
    "category": "Accelerated computing",
    "gpuNum": 4,
    "hideHardwareSpecs": false,
    "memoryGiB": 192,
    "name": "ml.g4dn.12xlarge",
    "vcpuNum": 48
   },
   {
    "_defaultOrder": 34,
    "_isFastLaunch": false,
    "category": "Accelerated computing",
    "gpuNum": 1,
    "hideHardwareSpecs": false,
    "memoryGiB": 256,
    "name": "ml.g4dn.16xlarge",
    "vcpuNum": 64
   },
   {
    "_defaultOrder": 35,
    "_isFastLaunch": false,
    "category": "Accelerated computing",
    "gpuNum": 1,
    "hideHardwareSpecs": false,
    "memoryGiB": 61,
    "name": "ml.p3.2xlarge",
    "vcpuNum": 8
   },
   {
    "_defaultOrder": 36,
    "_isFastLaunch": false,
    "category": "Accelerated computing",
    "gpuNum": 4,
    "hideHardwareSpecs": false,
    "memoryGiB": 244,
    "name": "ml.p3.8xlarge",
    "vcpuNum": 32
   },
   {
    "_defaultOrder": 37,
    "_isFastLaunch": false,
    "category": "Accelerated computing",
    "gpuNum": 8,
    "hideHardwareSpecs": false,
    "memoryGiB": 488,
    "name": "ml.p3.16xlarge",
    "vcpuNum": 64
   },
   {
    "_defaultOrder": 38,
    "_isFastLaunch": false,
    "category": "Accelerated computing",
    "gpuNum": 8,
    "hideHardwareSpecs": false,
    "memoryGiB": 768,
    "name": "ml.p3dn.24xlarge",
    "vcpuNum": 96
   },
   {
    "_defaultOrder": 39,
    "_isFastLaunch": false,
    "category": "Memory Optimized",
    "gpuNum": 0,
    "hideHardwareSpecs": false,
    "memoryGiB": 16,
    "name": "ml.r5.large",
    "vcpuNum": 2
   },
   {
    "_defaultOrder": 40,
    "_isFastLaunch": false,
    "category": "Memory Optimized",
    "gpuNum": 0,
    "hideHardwareSpecs": false,
    "memoryGiB": 32,
    "name": "ml.r5.xlarge",
    "vcpuNum": 4
   },
   {
    "_defaultOrder": 41,
    "_isFastLaunch": false,
    "category": "Memory Optimized",
    "gpuNum": 0,
    "hideHardwareSpecs": false,
    "memoryGiB": 64,
    "name": "ml.r5.2xlarge",
    "vcpuNum": 8
   },
   {
    "_defaultOrder": 42,
    "_isFastLaunch": false,
    "category": "Memory Optimized",
    "gpuNum": 0,
    "hideHardwareSpecs": false,
    "memoryGiB": 128,
    "name": "ml.r5.4xlarge",
    "vcpuNum": 16
   },
   {
    "_defaultOrder": 43,
    "_isFastLaunch": false,
    "category": "Memory Optimized",
    "gpuNum": 0,
    "hideHardwareSpecs": false,
    "memoryGiB": 256,
    "name": "ml.r5.8xlarge",
    "vcpuNum": 32
   },
   {
    "_defaultOrder": 44,
    "_isFastLaunch": false,
    "category": "Memory Optimized",
    "gpuNum": 0,
    "hideHardwareSpecs": false,
    "memoryGiB": 384,
    "name": "ml.r5.12xlarge",
    "vcpuNum": 48
   },
   {
    "_defaultOrder": 45,
    "_isFastLaunch": false,
    "category": "Memory Optimized",
    "gpuNum": 0,
    "hideHardwareSpecs": false,
    "memoryGiB": 512,
    "name": "ml.r5.16xlarge",
    "vcpuNum": 64
   },
   {
    "_defaultOrder": 46,
    "_isFastLaunch": false,
    "category": "Memory Optimized",
    "gpuNum": 0,
    "hideHardwareSpecs": false,
    "memoryGiB": 768,
    "name": "ml.r5.24xlarge",
    "vcpuNum": 96
   },
   {
    "_defaultOrder": 47,
    "_isFastLaunch": false,
    "category": "Accelerated computing",
    "gpuNum": 1,
    "hideHardwareSpecs": false,
    "memoryGiB": 16,
    "name": "ml.g5.xlarge",
    "vcpuNum": 4
   },
   {
    "_defaultOrder": 48,
    "_isFastLaunch": false,
    "category": "Accelerated computing",
    "gpuNum": 1,
    "hideHardwareSpecs": false,
    "memoryGiB": 32,
    "name": "ml.g5.2xlarge",
    "vcpuNum": 8
   },
   {
    "_defaultOrder": 49,
    "_isFastLaunch": false,
    "category": "Accelerated computing",
    "gpuNum": 1,
    "hideHardwareSpecs": false,
    "memoryGiB": 64,
    "name": "ml.g5.4xlarge",
    "vcpuNum": 16
   },
   {
    "_defaultOrder": 50,
    "_isFastLaunch": false,
    "category": "Accelerated computing",
    "gpuNum": 1,
    "hideHardwareSpecs": false,
    "memoryGiB": 128,
    "name": "ml.g5.8xlarge",
    "vcpuNum": 32
   },
   {
    "_defaultOrder": 51,
    "_isFastLaunch": false,
    "category": "Accelerated computing",
    "gpuNum": 1,
    "hideHardwareSpecs": false,
    "memoryGiB": 256,
    "name": "ml.g5.16xlarge",
    "vcpuNum": 64
   },
   {
    "_defaultOrder": 52,
    "_isFastLaunch": false,
    "category": "Accelerated computing",
    "gpuNum": 4,
    "hideHardwareSpecs": false,
    "memoryGiB": 192,
    "name": "ml.g5.12xlarge",
    "vcpuNum": 48
   },
   {
    "_defaultOrder": 53,
    "_isFastLaunch": false,
    "category": "Accelerated computing",
    "gpuNum": 4,
    "hideHardwareSpecs": false,
    "memoryGiB": 384,
    "name": "ml.g5.24xlarge",
    "vcpuNum": 96
   },
   {
    "_defaultOrder": 54,
    "_isFastLaunch": false,
    "category": "Accelerated computing",
    "gpuNum": 8,
    "hideHardwareSpecs": false,
    "memoryGiB": 768,
    "name": "ml.g5.48xlarge",
    "vcpuNum": 192
   },
   {
    "_defaultOrder": 55,
    "_isFastLaunch": false,
    "category": "Accelerated computing",
    "gpuNum": 8,
    "hideHardwareSpecs": false,
    "memoryGiB": 1152,
    "name": "ml.p4d.24xlarge",
    "vcpuNum": 96
   },
   {
    "_defaultOrder": 56,
    "_isFastLaunch": false,
    "category": "Accelerated computing",
    "gpuNum": 8,
    "hideHardwareSpecs": false,
    "memoryGiB": 1152,
    "name": "ml.p4de.24xlarge",
    "vcpuNum": 96
   },
   {
    "_defaultOrder": 57,
    "_isFastLaunch": false,
    "category": "Accelerated computing",
    "gpuNum": 0,
    "hideHardwareSpecs": false,
    "memoryGiB": 32,
    "name": "ml.trn1.2xlarge",
    "vcpuNum": 8
   },
   {
    "_defaultOrder": 58,
    "_isFastLaunch": false,
    "category": "Accelerated computing",
    "gpuNum": 0,
    "hideHardwareSpecs": false,
    "memoryGiB": 512,
    "name": "ml.trn1.32xlarge",
    "vcpuNum": 128
   },
   {
    "_defaultOrder": 59,
    "_isFastLaunch": false,
    "category": "Accelerated computing",
    "gpuNum": 0,
    "hideHardwareSpecs": false,
    "memoryGiB": 512,
    "name": "ml.trn1n.32xlarge",
    "vcpuNum": 128
   }
  ],
  "instance_type": "ml.t3.medium",
  "kernelspec": {
   "display_name": "Python 3 (Data Science 3.0)",
   "language": "python",
   "name": "python3__SAGEMAKER_INTERNAL__arn:aws:sagemaker:us-east-1:081325390199:image/sagemaker-data-science-310-v1"
  },
  "language_info": {
   "codemirror_mode": {
    "name": "ipython",
    "version": 3
   },
   "file_extension": ".py",
   "mimetype": "text/x-python",
   "name": "python",
   "nbconvert_exporter": "python",
   "pygments_lexer": "ipython3",
   "version": "3.10.6"
  }
 },
 "nbformat": 4,
 "nbformat_minor": 5
}
