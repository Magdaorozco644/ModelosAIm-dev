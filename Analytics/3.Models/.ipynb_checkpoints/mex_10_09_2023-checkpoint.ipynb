{
 "cells": [
  {
   "cell_type": "code",
   "execution_count": 2,
   "id": "fad936de-3bac-492f-bbc4-a6959c5205d1",
   "metadata": {
    "tags": []
   },
   "outputs": [],
   "source": [
    "import boto3"
   ]
  },
  {
   "cell_type": "code",
   "execution_count": 3,
   "id": "ea967389-2758-4a57-86f6-e833d9b4d41e",
   "metadata": {
    "tags": []
   },
   "outputs": [],
   "source": [
    "import pandas as pd\n",
    "from io import StringIO"
   ]
  },
  {
   "cell_type": "code",
   "execution_count": 4,
   "id": "b732f32c-e12b-4c9f-8891-22209c98dd83",
   "metadata": {},
   "outputs": [],
   "source": [
    "# Set up S3 client\n",
    "client = boto3.client('s3')"
   ]
  },
  {
   "cell_type": "code",
   "execution_count": 5,
   "id": "ec4f7f89-ddbc-41bd-b5a7-db19a8421987",
   "metadata": {
    "tags": []
   },
   "outputs": [],
   "source": [
    "folders_list =  ['level_country_10_09_2023']"
   ]
  },
  {
   "cell_type": "code",
   "execution_count": 6,
   "id": "848dff3c-7d29-4b5f-96ca-430ba5785f21",
   "metadata": {
    "tags": []
   },
   "outputs": [],
   "source": [
    "# Bucket name and common prefix\n",
    "bucket_forecast = 'viamericas-datalake-dev-us-east-1-283731589572-analytics'\n",
    "common_path = 'Forecast/Forecast_analysis/'"
   ]
  },
  {
   "cell_type": "markdown",
   "id": "817dca46-f2a0-4cfb-ac95-e5c58acca39f",
   "metadata": {},
   "source": [
    "<a data-toggle=\"collapse\" href=\"#collapseExample\" role=\"button\" aria-expanded=\"false\" aria-controls=\"collapseExample\">\n",
    "  <span style=\"color:green; font-size:2em; font-weight:bold;\">Generating DF</span>\n",
    "</a>"
   ]
  },
  {
   "cell_type": "code",
   "execution_count": 7,
   "id": "9f654380-70f1-45dc-9648-2372ded63735",
   "metadata": {
    "tags": []
   },
   "outputs": [],
   "source": [
    "# Initialize a list to store DataFrames\n",
    "dfs = []"
   ]
  },
  {
   "cell_type": "code",
   "execution_count": 8,
   "id": "e5fb1caf-6f28-416b-9152-bb17f52a1345",
   "metadata": {
    "tags": []
   },
   "outputs": [],
   "source": [
    "# Iterate over each folder in the list\n",
    "for folder_item in folders_list:\n",
    "    # Build the new path for the current folder\n",
    "    path = f'{common_path}{folder_item}/'\n",
    "    \n",
    "    # List objects in the folder\n",
    "    elements = client.list_objects(Bucket=bucket_forecast, Prefix=path)\n",
    "\n",
    "    # Iterate over each object in the folder\n",
    "    for obj in elements.get('Contents', []):\n",
    "        # Check if the object is a CSV file\n",
    "        if obj['Key'].endswith('.csv'):\n",
    "            # Read CSV content from S3\n",
    "            response = client.get_object(Bucket=bucket_forecast, Key=obj['Key'])\n",
    "            csv_content = response['Body'].read().decode('utf-8')\n",
    "\n",
    "            # Transform CSV content to DataFrame\n",
    "            df = pd.read_csv(StringIO(csv_content))\n",
    "\n",
    "            \n",
    "            df['folder_id'] = folder_item # 'folder_id' column to indentify the forecast\n",
    "\n",
    "            dfs.append(df)"
   ]
  },
  {
   "cell_type": "code",
   "execution_count": 9,
   "id": "4744b17b-b437-4c72-8cbc-ef5c2f832a5b",
   "metadata": {
    "tags": []
   },
   "outputs": [],
   "source": [
    "# Concatenate all DataFrames into a single one\n",
    "final_df = pd.concat(dfs, ignore_index=True)"
   ]
  },
  {
   "cell_type": "code",
   "execution_count": 10,
   "id": "b87da4d3-2541-4abf-893a-0dbba7f375ef",
   "metadata": {
    "tags": []
   },
   "outputs": [
    {
     "data": {
      "text/plain": [
       "array(['level_country_10_09_2023'], dtype=object)"
      ]
     },
     "execution_count": 10,
     "metadata": {},
     "output_type": "execute_result"
    }
   ],
   "source": [
    "final_df['folder_id'].unique()"
   ]
  },
  {
   "cell_type": "code",
   "execution_count": 11,
   "id": "ef562a27-acb1-4963-a80e-02de5ef42e96",
   "metadata": {
    "tags": []
   },
   "outputs": [],
   "source": [
    "final_df['date'] = pd.to_datetime(final_df['date']).dt.date"
   ]
  },
  {
   "cell_type": "code",
   "execution_count": 12,
   "id": "4c5f944c-bec1-4b48-860d-ec15bd660db0",
   "metadata": {
    "tags": []
   },
   "outputs": [],
   "source": [
    "final_df.rename(columns={'item_id':'country'}, inplace=True)"
   ]
  },
  {
   "cell_type": "code",
   "execution_count": 13,
   "id": "580feab1-a83d-4480-b3d8-e9e17ded8cf5",
   "metadata": {
    "tags": []
   },
   "outputs": [
    {
     "name": "stderr",
     "output_type": "stream",
     "text": [
      "/tmp/ipykernel_34/2399063668.py:1: FutureWarning: DataFrame.applymap has been deprecated. Use DataFrame.map instead.\n",
      "  final_df = final_df.applymap(lambda x: x.upper() if isinstance(x, str) else x)\n"
     ]
    }
   ],
   "source": [
    "final_df = final_df.applymap(lambda x: x.upper() if isinstance(x, str) else x)"
   ]
  },
  {
   "cell_type": "code",
   "execution_count": 14,
   "id": "65597e9f-6eac-4b20-8f42-fee70d45128b",
   "metadata": {
    "tags": []
   },
   "outputs": [],
   "source": [
    "#final_df = final_df[['folder_id', 'date', 'country','p10', 'p50', 'p90', 'mean']]\n",
    "final_df = final_df[final_df['country'] == 'MEXICO'][['folder_id', 'date', 'country', 'p10', 'p50', 'p90', 'mean']]"
   ]
  },
  {
   "cell_type": "code",
   "execution_count": 15,
   "id": "080d6615-18ae-4532-aa9b-0c8d07520ca7",
   "metadata": {
    "tags": []
   },
   "outputs": [
    {
     "data": {
      "text/plain": [
       "7"
      ]
     },
     "execution_count": 15,
     "metadata": {},
     "output_type": "execute_result"
    }
   ],
   "source": [
    "final_df['date'].nunique()"
   ]
  },
  {
   "cell_type": "markdown",
   "id": "a215c174-e81f-40d7-93bc-3fc31a1b10e3",
   "metadata": {},
   "source": [
    "<div class=\"collapse\" id=\"collapseExample\">"
   ]
  },
  {
   "cell_type": "code",
   "execution_count": 16,
   "id": "44492e67-72af-4223-8036-5d72232f71af",
   "metadata": {
    "tags": []
   },
   "outputs": [
    {
     "data": {
      "text/html": [
       "<div>\n",
       "<style scoped>\n",
       "    .dataframe tbody tr th:only-of-type {\n",
       "        vertical-align: middle;\n",
       "    }\n",
       "\n",
       "    .dataframe tbody tr th {\n",
       "        vertical-align: top;\n",
       "    }\n",
       "\n",
       "    .dataframe thead th {\n",
       "        text-align: right;\n",
       "    }\n",
       "</style>\n",
       "<table border=\"1\" class=\"dataframe\">\n",
       "  <thead>\n",
       "    <tr style=\"text-align: right;\">\n",
       "      <th></th>\n",
       "      <th>folder_id</th>\n",
       "      <th>date</th>\n",
       "      <th>country</th>\n",
       "      <th>p10</th>\n",
       "      <th>p50</th>\n",
       "      <th>p90</th>\n",
       "      <th>mean</th>\n",
       "    </tr>\n",
       "  </thead>\n",
       "  <tbody>\n",
       "    <tr>\n",
       "      <th>80</th>\n",
       "      <td>LEVEL_COUNTRY_10_09_2023</td>\n",
       "      <td>2023-09-11</td>\n",
       "      <td>MEXICO</td>\n",
       "      <td>1.820240e+07</td>\n",
       "      <td>2.140862e+07</td>\n",
       "      <td>2.461483e+07</td>\n",
       "      <td>2.140862e+07</td>\n",
       "    </tr>\n",
       "    <tr>\n",
       "      <th>81</th>\n",
       "      <td>LEVEL_COUNTRY_10_09_2023</td>\n",
       "      <td>2023-09-12</td>\n",
       "      <td>MEXICO</td>\n",
       "      <td>1.465310e+07</td>\n",
       "      <td>1.733028e+07</td>\n",
       "      <td>2.000746e+07</td>\n",
       "      <td>1.733028e+07</td>\n",
       "    </tr>\n",
       "    <tr>\n",
       "      <th>218</th>\n",
       "      <td>LEVEL_COUNTRY_10_09_2023</td>\n",
       "      <td>2023-09-11</td>\n",
       "      <td>MEXICO</td>\n",
       "      <td>1.797258e+07</td>\n",
       "      <td>1.985797e+07</td>\n",
       "      <td>2.144531e+07</td>\n",
       "      <td>1.973429e+07</td>\n",
       "    </tr>\n",
       "    <tr>\n",
       "      <th>219</th>\n",
       "      <td>LEVEL_COUNTRY_10_09_2023</td>\n",
       "      <td>2023-09-12</td>\n",
       "      <td>MEXICO</td>\n",
       "      <td>1.477272e+07</td>\n",
       "      <td>1.613229e+07</td>\n",
       "      <td>1.762952e+07</td>\n",
       "      <td>1.608681e+07</td>\n",
       "    </tr>\n",
       "    <tr>\n",
       "      <th>220</th>\n",
       "      <td>LEVEL_COUNTRY_10_09_2023</td>\n",
       "      <td>2023-09-13</td>\n",
       "      <td>MEXICO</td>\n",
       "      <td>1.383615e+07</td>\n",
       "      <td>1.499070e+07</td>\n",
       "      <td>1.662120e+07</td>\n",
       "      <td>1.509782e+07</td>\n",
       "    </tr>\n",
       "    <tr>\n",
       "      <th>221</th>\n",
       "      <td>LEVEL_COUNTRY_10_09_2023</td>\n",
       "      <td>2023-09-14</td>\n",
       "      <td>MEXICO</td>\n",
       "      <td>1.563761e+07</td>\n",
       "      <td>1.686265e+07</td>\n",
       "      <td>1.872429e+07</td>\n",
       "      <td>1.694243e+07</td>\n",
       "    </tr>\n",
       "    <tr>\n",
       "      <th>222</th>\n",
       "      <td>LEVEL_COUNTRY_10_09_2023</td>\n",
       "      <td>2023-09-15</td>\n",
       "      <td>MEXICO</td>\n",
       "      <td>2.354739e+07</td>\n",
       "      <td>2.532426e+07</td>\n",
       "      <td>2.743517e+07</td>\n",
       "      <td>2.533673e+07</td>\n",
       "    </tr>\n",
       "    <tr>\n",
       "      <th>223</th>\n",
       "      <td>LEVEL_COUNTRY_10_09_2023</td>\n",
       "      <td>2023-09-16</td>\n",
       "      <td>MEXICO</td>\n",
       "      <td>2.519971e+07</td>\n",
       "      <td>2.727892e+07</td>\n",
       "      <td>2.966322e+07</td>\n",
       "      <td>2.741284e+07</td>\n",
       "    </tr>\n",
       "    <tr>\n",
       "      <th>224</th>\n",
       "      <td>LEVEL_COUNTRY_10_09_2023</td>\n",
       "      <td>2023-09-17</td>\n",
       "      <td>MEXICO</td>\n",
       "      <td>2.396527e+07</td>\n",
       "      <td>2.615927e+07</td>\n",
       "      <td>2.861282e+07</td>\n",
       "      <td>2.629443e+07</td>\n",
       "    </tr>\n",
       "  </tbody>\n",
       "</table>\n",
       "</div>"
      ],
      "text/plain": [
       "                    folder_id        date country           p10           p50  \\\n",
       "80   LEVEL_COUNTRY_10_09_2023  2023-09-11  MEXICO  1.820240e+07  2.140862e+07   \n",
       "81   LEVEL_COUNTRY_10_09_2023  2023-09-12  MEXICO  1.465310e+07  1.733028e+07   \n",
       "218  LEVEL_COUNTRY_10_09_2023  2023-09-11  MEXICO  1.797258e+07  1.985797e+07   \n",
       "219  LEVEL_COUNTRY_10_09_2023  2023-09-12  MEXICO  1.477272e+07  1.613229e+07   \n",
       "220  LEVEL_COUNTRY_10_09_2023  2023-09-13  MEXICO  1.383615e+07  1.499070e+07   \n",
       "221  LEVEL_COUNTRY_10_09_2023  2023-09-14  MEXICO  1.563761e+07  1.686265e+07   \n",
       "222  LEVEL_COUNTRY_10_09_2023  2023-09-15  MEXICO  2.354739e+07  2.532426e+07   \n",
       "223  LEVEL_COUNTRY_10_09_2023  2023-09-16  MEXICO  2.519971e+07  2.727892e+07   \n",
       "224  LEVEL_COUNTRY_10_09_2023  2023-09-17  MEXICO  2.396527e+07  2.615927e+07   \n",
       "\n",
       "              p90          mean  \n",
       "80   2.461483e+07  2.140862e+07  \n",
       "81   2.000746e+07  1.733028e+07  \n",
       "218  2.144531e+07  1.973429e+07  \n",
       "219  1.762952e+07  1.608681e+07  \n",
       "220  1.662120e+07  1.509782e+07  \n",
       "221  1.872429e+07  1.694243e+07  \n",
       "222  2.743517e+07  2.533673e+07  \n",
       "223  2.966322e+07  2.741284e+07  \n",
       "224  2.861282e+07  2.629443e+07  "
      ]
     },
     "execution_count": 16,
     "metadata": {},
     "output_type": "execute_result"
    }
   ],
   "source": [
    "final_df"
   ]
  },
  {
   "cell_type": "code",
   "execution_count": 17,
   "id": "12507add-2b1d-42eb-acc4-199d3368eaa0",
   "metadata": {
    "tags": []
   },
   "outputs": [],
   "source": [
    "# DB Setting\n",
    "bucket_name = 's3://viamericas-datalake-dev-us-east-1-283731589572-athena/'\n",
    "origin_name = 'AwsDataCatalog'\n",
    "database_name= 'analytics'\n",
    "table_name = 'daily_check'"
   ]
  },
  {
   "cell_type": "code",
   "execution_count": 21,
   "id": "be9343f3-9a7b-49e7-9730-bb2d687159df",
   "metadata": {
    "tags": []
   },
   "outputs": [],
   "source": [
    "#pip install pyathena"
   ]
  },
  {
   "cell_type": "code",
   "execution_count": 22,
   "id": "c788a0d1-0680-4426-b8cd-5df89e088d3e",
   "metadata": {
    "tags": []
   },
   "outputs": [
    {
     "name": "stderr",
     "output_type": "stream",
     "text": [
      "/tmp/ipykernel_34/268183201.py:6: UserWarning: pandas only supports SQLAlchemy connectable (engine/connection) or database string URI or sqlite3 DBAPI2 connection. Other DBAPI2 objects are not tested. Please consider using SQLAlchemy.\n",
      "  df_daily_check = pd.read_sql(f'SELECT * FROM {origin_name}.{database_name}.{table_name};', conn)\n"
     ]
    }
   ],
   "source": [
    "from pyathena import connect\n",
    "\n",
    "#Connection\n",
    "conn = connect(s3_staging_dir=f'{bucket_name}queryresults/',\n",
    "               region_name='us-east-1')\n",
    "df_daily_check = pd.read_sql(f'SELECT * FROM {origin_name}.{database_name}.{table_name};', conn)"
   ]
  },
  {
   "cell_type": "code",
   "execution_count": 23,
   "id": "00315870-72a2-49b4-9c6e-52fe6e6b8b62",
   "metadata": {
    "tags": []
   },
   "outputs": [],
   "source": [
    "df_daily_check['date'] = pd.to_datetime(df_daily_check['date']).dt.date"
   ]
  },
  {
   "cell_type": "code",
   "execution_count": 24,
   "id": "44729ebb-3095-4a8c-a1be-a62a0e07055c",
   "metadata": {
    "tags": []
   },
   "outputs": [
    {
     "data": {
      "text/html": [
       "<div>\n",
       "<style scoped>\n",
       "    .dataframe tbody tr th:only-of-type {\n",
       "        vertical-align: middle;\n",
       "    }\n",
       "\n",
       "    .dataframe tbody tr th {\n",
       "        vertical-align: top;\n",
       "    }\n",
       "\n",
       "    .dataframe thead th {\n",
       "        text-align: right;\n",
       "    }\n",
       "</style>\n",
       "<table border=\"1\" class=\"dataframe\">\n",
       "  <thead>\n",
       "    <tr style=\"text-align: right;\">\n",
       "      <th></th>\n",
       "      <th>payer</th>\n",
       "      <th>country</th>\n",
       "      <th>date</th>\n",
       "      <th>tx</th>\n",
       "      <th>amount</th>\n",
       "      <th>coupon_count</th>\n",
       "    </tr>\n",
       "  </thead>\n",
       "  <tbody>\n",
       "    <tr>\n",
       "      <th>0</th>\n",
       "      <td>TELECOMM TELEGRAFOS (APPRIZA)</td>\n",
       "      <td>MEXICO</td>\n",
       "      <td>2023-04-24</td>\n",
       "      <td>977</td>\n",
       "      <td>536661.67</td>\n",
       "      <td>22</td>\n",
       "    </tr>\n",
       "    <tr>\n",
       "      <th>1</th>\n",
       "      <td>ELEKTRA (BTS)</td>\n",
       "      <td>GUATEMALA</td>\n",
       "      <td>2021-02-27</td>\n",
       "      <td>157</td>\n",
       "      <td>24916.09</td>\n",
       "      <td>121</td>\n",
       "    </tr>\n",
       "    <tr>\n",
       "      <th>2</th>\n",
       "      <td>OXXO (TN)</td>\n",
       "      <td>MEXICO</td>\n",
       "      <td>2021-10-05</td>\n",
       "      <td>210</td>\n",
       "      <td>15696.39</td>\n",
       "      <td>37</td>\n",
       "    </tr>\n",
       "    <tr>\n",
       "      <th>3</th>\n",
       "      <td>TRANSFER DIRECTO</td>\n",
       "      <td>MEXICO</td>\n",
       "      <td>2023-08-12</td>\n",
       "      <td>123</td>\n",
       "      <td>80301.68</td>\n",
       "      <td>2</td>\n",
       "    </tr>\n",
       "    <tr>\n",
       "      <th>4</th>\n",
       "      <td>BANCO DE GUAYAQUIL</td>\n",
       "      <td>ECUADOR</td>\n",
       "      <td>2021-12-31</td>\n",
       "      <td>58</td>\n",
       "      <td>15688.22</td>\n",
       "      <td>2</td>\n",
       "    </tr>\n",
       "  </tbody>\n",
       "</table>\n",
       "</div>"
      ],
      "text/plain": [
       "                           payer    country        date   tx     amount  \\\n",
       "0  TELECOMM TELEGRAFOS (APPRIZA)     MEXICO  2023-04-24  977  536661.67   \n",
       "1                  ELEKTRA (BTS)  GUATEMALA  2021-02-27  157   24916.09   \n",
       "2                      OXXO (TN)     MEXICO  2021-10-05  210   15696.39   \n",
       "3               TRANSFER DIRECTO     MEXICO  2023-08-12  123   80301.68   \n",
       "4             BANCO DE GUAYAQUIL    ECUADOR  2021-12-31   58   15688.22   \n",
       "\n",
       "   coupon_count  \n",
       "0            22  \n",
       "1           121  \n",
       "2            37  \n",
       "3             2  \n",
       "4             2  "
      ]
     },
     "execution_count": 24,
     "metadata": {},
     "output_type": "execute_result"
    }
   ],
   "source": [
    "df_daily_check.head()"
   ]
  },
  {
   "cell_type": "code",
   "execution_count": 25,
   "id": "0adcb9d5-140c-4073-8fc3-c50d1badc2c7",
   "metadata": {
    "tags": []
   },
   "outputs": [],
   "source": [
    "grouped_daily = df_daily_check.groupby(['date','country']).agg({\n",
    "    'amount': 'sum',\n",
    "    'tx': 'sum',\n",
    "    'coupon_count': 'sum'\n",
    "}).reset_index()"
   ]
  },
  {
   "cell_type": "code",
   "execution_count": 26,
   "id": "e7910d10-3d7c-48da-b427-87c037a4d9f3",
   "metadata": {
    "tags": []
   },
   "outputs": [
    {
     "data": {
      "text/plain": [
       "25110624454.414898"
      ]
     },
     "execution_count": 26,
     "metadata": {},
     "output_type": "execute_result"
    }
   ],
   "source": [
    "grouped_daily['amount'].sum()"
   ]
  },
  {
   "cell_type": "code",
   "execution_count": 27,
   "id": "600eace7-599b-4834-b174-3737d304a492",
   "metadata": {
    "tags": []
   },
   "outputs": [],
   "source": [
    "# Merge both df, keeping only daily_check data related to forecast\n",
    "df_forecast = pd.merge(grouped_daily, final_df, on=['date','country'], how='inner').drop_duplicates()"
   ]
  },
  {
   "cell_type": "code",
   "execution_count": 28,
   "id": "cdb59d35-e29c-488b-b2e8-f1556a8986fe",
   "metadata": {
    "tags": []
   },
   "outputs": [
    {
     "data": {
      "text/plain": [
       "7"
      ]
     },
     "execution_count": 28,
     "metadata": {},
     "output_type": "execute_result"
    }
   ],
   "source": [
    "df_forecast['date'].nunique()"
   ]
  },
  {
   "cell_type": "code",
   "execution_count": 29,
   "id": "9505c7c9-76e7-4ebb-a7f4-1cc844483fcf",
   "metadata": {
    "tags": []
   },
   "outputs": [
    {
     "data": {
      "text/html": [
       "<div>\n",
       "<style scoped>\n",
       "    .dataframe tbody tr th:only-of-type {\n",
       "        vertical-align: middle;\n",
       "    }\n",
       "\n",
       "    .dataframe tbody tr th {\n",
       "        vertical-align: top;\n",
       "    }\n",
       "\n",
       "    .dataframe thead th {\n",
       "        text-align: right;\n",
       "    }\n",
       "</style>\n",
       "<table border=\"1\" class=\"dataframe\">\n",
       "  <thead>\n",
       "    <tr style=\"text-align: right;\">\n",
       "      <th></th>\n",
       "      <th>date</th>\n",
       "      <th>country</th>\n",
       "      <th>amount</th>\n",
       "      <th>tx</th>\n",
       "      <th>coupon_count</th>\n",
       "      <th>folder_id</th>\n",
       "      <th>p10</th>\n",
       "      <th>p50</th>\n",
       "      <th>p90</th>\n",
       "      <th>mean</th>\n",
       "    </tr>\n",
       "  </thead>\n",
       "  <tbody>\n",
       "    <tr>\n",
       "      <th>0</th>\n",
       "      <td>2023-09-11</td>\n",
       "      <td>MEXICO</td>\n",
       "      <td>17073946.44</td>\n",
       "      <td>34597</td>\n",
       "      <td>593</td>\n",
       "      <td>LEVEL_COUNTRY_10_09_2023</td>\n",
       "      <td>1.820240e+07</td>\n",
       "      <td>2.140862e+07</td>\n",
       "      <td>2.461483e+07</td>\n",
       "      <td>2.140862e+07</td>\n",
       "    </tr>\n",
       "    <tr>\n",
       "      <th>1</th>\n",
       "      <td>2023-09-11</td>\n",
       "      <td>MEXICO</td>\n",
       "      <td>17073946.44</td>\n",
       "      <td>34597</td>\n",
       "      <td>593</td>\n",
       "      <td>LEVEL_COUNTRY_10_09_2023</td>\n",
       "      <td>1.797258e+07</td>\n",
       "      <td>1.985797e+07</td>\n",
       "      <td>2.144531e+07</td>\n",
       "      <td>1.973429e+07</td>\n",
       "    </tr>\n",
       "    <tr>\n",
       "      <th>2</th>\n",
       "      <td>2023-09-12</td>\n",
       "      <td>MEXICO</td>\n",
       "      <td>13249850.38</td>\n",
       "      <td>26801</td>\n",
       "      <td>424</td>\n",
       "      <td>LEVEL_COUNTRY_10_09_2023</td>\n",
       "      <td>1.465310e+07</td>\n",
       "      <td>1.733028e+07</td>\n",
       "      <td>2.000746e+07</td>\n",
       "      <td>1.733028e+07</td>\n",
       "    </tr>\n",
       "    <tr>\n",
       "      <th>3</th>\n",
       "      <td>2023-09-12</td>\n",
       "      <td>MEXICO</td>\n",
       "      <td>13249850.38</td>\n",
       "      <td>26801</td>\n",
       "      <td>424</td>\n",
       "      <td>LEVEL_COUNTRY_10_09_2023</td>\n",
       "      <td>1.477272e+07</td>\n",
       "      <td>1.613229e+07</td>\n",
       "      <td>1.762952e+07</td>\n",
       "      <td>1.608681e+07</td>\n",
       "    </tr>\n",
       "    <tr>\n",
       "      <th>4</th>\n",
       "      <td>2023-09-13</td>\n",
       "      <td>MEXICO</td>\n",
       "      <td>12225455.26</td>\n",
       "      <td>24402</td>\n",
       "      <td>397</td>\n",
       "      <td>LEVEL_COUNTRY_10_09_2023</td>\n",
       "      <td>1.383615e+07</td>\n",
       "      <td>1.499070e+07</td>\n",
       "      <td>1.662120e+07</td>\n",
       "      <td>1.509782e+07</td>\n",
       "    </tr>\n",
       "    <tr>\n",
       "      <th>5</th>\n",
       "      <td>2023-09-14</td>\n",
       "      <td>MEXICO</td>\n",
       "      <td>13377976.16</td>\n",
       "      <td>26891</td>\n",
       "      <td>474</td>\n",
       "      <td>LEVEL_COUNTRY_10_09_2023</td>\n",
       "      <td>1.563761e+07</td>\n",
       "      <td>1.686265e+07</td>\n",
       "      <td>1.872429e+07</td>\n",
       "      <td>1.694243e+07</td>\n",
       "    </tr>\n",
       "    <tr>\n",
       "      <th>6</th>\n",
       "      <td>2023-09-15</td>\n",
       "      <td>MEXICO</td>\n",
       "      <td>21357505.72</td>\n",
       "      <td>46491</td>\n",
       "      <td>891</td>\n",
       "      <td>LEVEL_COUNTRY_10_09_2023</td>\n",
       "      <td>2.354739e+07</td>\n",
       "      <td>2.532426e+07</td>\n",
       "      <td>2.743517e+07</td>\n",
       "      <td>2.533673e+07</td>\n",
       "    </tr>\n",
       "    <tr>\n",
       "      <th>7</th>\n",
       "      <td>2023-09-16</td>\n",
       "      <td>MEXICO</td>\n",
       "      <td>23379643.53</td>\n",
       "      <td>52205</td>\n",
       "      <td>976</td>\n",
       "      <td>LEVEL_COUNTRY_10_09_2023</td>\n",
       "      <td>2.519971e+07</td>\n",
       "      <td>2.727892e+07</td>\n",
       "      <td>2.966322e+07</td>\n",
       "      <td>2.741284e+07</td>\n",
       "    </tr>\n",
       "    <tr>\n",
       "      <th>8</th>\n",
       "      <td>2023-09-17</td>\n",
       "      <td>MEXICO</td>\n",
       "      <td>24184710.24</td>\n",
       "      <td>52207</td>\n",
       "      <td>850</td>\n",
       "      <td>LEVEL_COUNTRY_10_09_2023</td>\n",
       "      <td>2.396527e+07</td>\n",
       "      <td>2.615927e+07</td>\n",
       "      <td>2.861282e+07</td>\n",
       "      <td>2.629443e+07</td>\n",
       "    </tr>\n",
       "  </tbody>\n",
       "</table>\n",
       "</div>"
      ],
      "text/plain": [
       "         date country       amount     tx  coupon_count  \\\n",
       "0  2023-09-11  MEXICO  17073946.44  34597           593   \n",
       "1  2023-09-11  MEXICO  17073946.44  34597           593   \n",
       "2  2023-09-12  MEXICO  13249850.38  26801           424   \n",
       "3  2023-09-12  MEXICO  13249850.38  26801           424   \n",
       "4  2023-09-13  MEXICO  12225455.26  24402           397   \n",
       "5  2023-09-14  MEXICO  13377976.16  26891           474   \n",
       "6  2023-09-15  MEXICO  21357505.72  46491           891   \n",
       "7  2023-09-16  MEXICO  23379643.53  52205           976   \n",
       "8  2023-09-17  MEXICO  24184710.24  52207           850   \n",
       "\n",
       "                  folder_id           p10           p50           p90  \\\n",
       "0  LEVEL_COUNTRY_10_09_2023  1.820240e+07  2.140862e+07  2.461483e+07   \n",
       "1  LEVEL_COUNTRY_10_09_2023  1.797258e+07  1.985797e+07  2.144531e+07   \n",
       "2  LEVEL_COUNTRY_10_09_2023  1.465310e+07  1.733028e+07  2.000746e+07   \n",
       "3  LEVEL_COUNTRY_10_09_2023  1.477272e+07  1.613229e+07  1.762952e+07   \n",
       "4  LEVEL_COUNTRY_10_09_2023  1.383615e+07  1.499070e+07  1.662120e+07   \n",
       "5  LEVEL_COUNTRY_10_09_2023  1.563761e+07  1.686265e+07  1.872429e+07   \n",
       "6  LEVEL_COUNTRY_10_09_2023  2.354739e+07  2.532426e+07  2.743517e+07   \n",
       "7  LEVEL_COUNTRY_10_09_2023  2.519971e+07  2.727892e+07  2.966322e+07   \n",
       "8  LEVEL_COUNTRY_10_09_2023  2.396527e+07  2.615927e+07  2.861282e+07   \n",
       "\n",
       "           mean  \n",
       "0  2.140862e+07  \n",
       "1  1.973429e+07  \n",
       "2  1.733028e+07  \n",
       "3  1.608681e+07  \n",
       "4  1.509782e+07  \n",
       "5  1.694243e+07  \n",
       "6  2.533673e+07  \n",
       "7  2.741284e+07  \n",
       "8  2.629443e+07  "
      ]
     },
     "execution_count": 29,
     "metadata": {},
     "output_type": "execute_result"
    }
   ],
   "source": [
    "df_forecast"
   ]
  },
  {
   "cell_type": "code",
   "execution_count": 30,
   "id": "b018859d-4c56-4542-a387-16b46fea855f",
   "metadata": {
    "tags": []
   },
   "outputs": [],
   "source": [
    "df_forecast[\"pe_mean\"] = abs((df_forecast['amount'] - df_forecast['mean']) / df_forecast['amount'])\n",
    "df_forecast[\"pe_P10\"] = abs((df_forecast['amount'] - df_forecast['p10']) / df_forecast['amount'])\n",
    "df_forecast[\"pe_P50\"] = abs((df_forecast['amount'] - df_forecast['p50']) / df_forecast['amount'])"
   ]
  },
  {
   "cell_type": "code",
   "execution_count": 31,
   "id": "24e58bc1-78a1-49e5-bcfe-ce2a8e1e0d71",
   "metadata": {
    "tags": []
   },
   "outputs": [
    {
     "data": {
      "text/plain": [
       "(0.08723378279350441, 0.307960271392282)"
      ]
     },
     "execution_count": 31,
     "metadata": {},
     "output_type": "execute_result"
    }
   ],
   "source": [
    "df_forecast.pe_mean.min(), df_forecast.pe_mean.max()"
   ]
  },
  {
   "cell_type": "code",
   "execution_count": 32,
   "id": "cd36404d-fca1-4842-ad7d-ff279a35c068",
   "metadata": {
    "collapsed": true,
    "jupyter": {
     "outputs_hidden": true
    },
    "tags": []
   },
   "outputs": [
    {
     "data": {
      "text/html": [
       "<div>\n",
       "<style scoped>\n",
       "    .dataframe tbody tr th:only-of-type {\n",
       "        vertical-align: middle;\n",
       "    }\n",
       "\n",
       "    .dataframe tbody tr th {\n",
       "        vertical-align: top;\n",
       "    }\n",
       "\n",
       "    .dataframe thead th {\n",
       "        text-align: right;\n",
       "    }\n",
       "</style>\n",
       "<table border=\"1\" class=\"dataframe\">\n",
       "  <thead>\n",
       "    <tr style=\"text-align: right;\">\n",
       "      <th></th>\n",
       "      <th>date</th>\n",
       "      <th>country</th>\n",
       "      <th>amount</th>\n",
       "      <th>tx</th>\n",
       "      <th>coupon_count</th>\n",
       "      <th>folder_id</th>\n",
       "      <th>p10</th>\n",
       "      <th>p50</th>\n",
       "      <th>p90</th>\n",
       "      <th>mean</th>\n",
       "      <th>pe_mean</th>\n",
       "      <th>pe_P10</th>\n",
       "      <th>pe_P50</th>\n",
       "    </tr>\n",
       "  </thead>\n",
       "  <tbody>\n",
       "    <tr>\n",
       "      <th>0</th>\n",
       "      <td>2023-09-11</td>\n",
       "      <td>MEXICO</td>\n",
       "      <td>17073946.44</td>\n",
       "      <td>34597</td>\n",
       "      <td>593</td>\n",
       "      <td>LEVEL_COUNTRY_10_09_2023</td>\n",
       "      <td>1.820240e+07</td>\n",
       "      <td>2.140862e+07</td>\n",
       "      <td>2.461483e+07</td>\n",
       "      <td>2.140862e+07</td>\n",
       "      <td>0.253876</td>\n",
       "      <td>0.066092</td>\n",
       "      <td>0.253876</td>\n",
       "    </tr>\n",
       "    <tr>\n",
       "      <th>1</th>\n",
       "      <td>2023-09-11</td>\n",
       "      <td>MEXICO</td>\n",
       "      <td>17073946.44</td>\n",
       "      <td>34597</td>\n",
       "      <td>593</td>\n",
       "      <td>LEVEL_COUNTRY_10_09_2023</td>\n",
       "      <td>1.797258e+07</td>\n",
       "      <td>1.985797e+07</td>\n",
       "      <td>2.144531e+07</td>\n",
       "      <td>1.973429e+07</td>\n",
       "      <td>0.155813</td>\n",
       "      <td>0.052632</td>\n",
       "      <td>0.163057</td>\n",
       "    </tr>\n",
       "    <tr>\n",
       "      <th>2</th>\n",
       "      <td>2023-09-12</td>\n",
       "      <td>MEXICO</td>\n",
       "      <td>13249850.38</td>\n",
       "      <td>26801</td>\n",
       "      <td>424</td>\n",
       "      <td>LEVEL_COUNTRY_10_09_2023</td>\n",
       "      <td>1.465310e+07</td>\n",
       "      <td>1.733028e+07</td>\n",
       "      <td>2.000746e+07</td>\n",
       "      <td>1.733028e+07</td>\n",
       "      <td>0.307960</td>\n",
       "      <td>0.105907</td>\n",
       "      <td>0.307960</td>\n",
       "    </tr>\n",
       "    <tr>\n",
       "      <th>3</th>\n",
       "      <td>2023-09-12</td>\n",
       "      <td>MEXICO</td>\n",
       "      <td>13249850.38</td>\n",
       "      <td>26801</td>\n",
       "      <td>424</td>\n",
       "      <td>LEVEL_COUNTRY_10_09_2023</td>\n",
       "      <td>1.477272e+07</td>\n",
       "      <td>1.613229e+07</td>\n",
       "      <td>1.762952e+07</td>\n",
       "      <td>1.608681e+07</td>\n",
       "      <td>0.214112</td>\n",
       "      <td>0.114935</td>\n",
       "      <td>0.217545</td>\n",
       "    </tr>\n",
       "    <tr>\n",
       "      <th>4</th>\n",
       "      <td>2023-09-13</td>\n",
       "      <td>MEXICO</td>\n",
       "      <td>12225455.26</td>\n",
       "      <td>24402</td>\n",
       "      <td>397</td>\n",
       "      <td>LEVEL_COUNTRY_10_09_2023</td>\n",
       "      <td>1.383615e+07</td>\n",
       "      <td>1.499070e+07</td>\n",
       "      <td>1.662120e+07</td>\n",
       "      <td>1.509782e+07</td>\n",
       "      <td>0.234950</td>\n",
       "      <td>0.131750</td>\n",
       "      <td>0.226187</td>\n",
       "    </tr>\n",
       "    <tr>\n",
       "      <th>5</th>\n",
       "      <td>2023-09-14</td>\n",
       "      <td>MEXICO</td>\n",
       "      <td>13377976.16</td>\n",
       "      <td>26891</td>\n",
       "      <td>474</td>\n",
       "      <td>LEVEL_COUNTRY_10_09_2023</td>\n",
       "      <td>1.563761e+07</td>\n",
       "      <td>1.686265e+07</td>\n",
       "      <td>1.872429e+07</td>\n",
       "      <td>1.694243e+07</td>\n",
       "      <td>0.266442</td>\n",
       "      <td>0.168907</td>\n",
       "      <td>0.260478</td>\n",
       "    </tr>\n",
       "    <tr>\n",
       "      <th>6</th>\n",
       "      <td>2023-09-15</td>\n",
       "      <td>MEXICO</td>\n",
       "      <td>21357505.72</td>\n",
       "      <td>46491</td>\n",
       "      <td>891</td>\n",
       "      <td>LEVEL_COUNTRY_10_09_2023</td>\n",
       "      <td>2.354739e+07</td>\n",
       "      <td>2.532426e+07</td>\n",
       "      <td>2.743517e+07</td>\n",
       "      <td>2.533673e+07</td>\n",
       "      <td>0.186315</td>\n",
       "      <td>0.102534</td>\n",
       "      <td>0.185731</td>\n",
       "    </tr>\n",
       "    <tr>\n",
       "      <th>7</th>\n",
       "      <td>2023-09-16</td>\n",
       "      <td>MEXICO</td>\n",
       "      <td>23379643.53</td>\n",
       "      <td>52205</td>\n",
       "      <td>976</td>\n",
       "      <td>LEVEL_COUNTRY_10_09_2023</td>\n",
       "      <td>2.519971e+07</td>\n",
       "      <td>2.727892e+07</td>\n",
       "      <td>2.966322e+07</td>\n",
       "      <td>2.741284e+07</td>\n",
       "      <td>0.172509</td>\n",
       "      <td>0.077848</td>\n",
       "      <td>0.166781</td>\n",
       "    </tr>\n",
       "    <tr>\n",
       "      <th>8</th>\n",
       "      <td>2023-09-17</td>\n",
       "      <td>MEXICO</td>\n",
       "      <td>24184710.24</td>\n",
       "      <td>52207</td>\n",
       "      <td>850</td>\n",
       "      <td>LEVEL_COUNTRY_10_09_2023</td>\n",
       "      <td>2.396527e+07</td>\n",
       "      <td>2.615927e+07</td>\n",
       "      <td>2.861282e+07</td>\n",
       "      <td>2.629443e+07</td>\n",
       "      <td>0.087234</td>\n",
       "      <td>0.009074</td>\n",
       "      <td>0.081645</td>\n",
       "    </tr>\n",
       "  </tbody>\n",
       "</table>\n",
       "</div>"
      ],
      "text/plain": [
       "         date country       amount     tx  coupon_count  \\\n",
       "0  2023-09-11  MEXICO  17073946.44  34597           593   \n",
       "1  2023-09-11  MEXICO  17073946.44  34597           593   \n",
       "2  2023-09-12  MEXICO  13249850.38  26801           424   \n",
       "3  2023-09-12  MEXICO  13249850.38  26801           424   \n",
       "4  2023-09-13  MEXICO  12225455.26  24402           397   \n",
       "5  2023-09-14  MEXICO  13377976.16  26891           474   \n",
       "6  2023-09-15  MEXICO  21357505.72  46491           891   \n",
       "7  2023-09-16  MEXICO  23379643.53  52205           976   \n",
       "8  2023-09-17  MEXICO  24184710.24  52207           850   \n",
       "\n",
       "                  folder_id           p10           p50           p90  \\\n",
       "0  LEVEL_COUNTRY_10_09_2023  1.820240e+07  2.140862e+07  2.461483e+07   \n",
       "1  LEVEL_COUNTRY_10_09_2023  1.797258e+07  1.985797e+07  2.144531e+07   \n",
       "2  LEVEL_COUNTRY_10_09_2023  1.465310e+07  1.733028e+07  2.000746e+07   \n",
       "3  LEVEL_COUNTRY_10_09_2023  1.477272e+07  1.613229e+07  1.762952e+07   \n",
       "4  LEVEL_COUNTRY_10_09_2023  1.383615e+07  1.499070e+07  1.662120e+07   \n",
       "5  LEVEL_COUNTRY_10_09_2023  1.563761e+07  1.686265e+07  1.872429e+07   \n",
       "6  LEVEL_COUNTRY_10_09_2023  2.354739e+07  2.532426e+07  2.743517e+07   \n",
       "7  LEVEL_COUNTRY_10_09_2023  2.519971e+07  2.727892e+07  2.966322e+07   \n",
       "8  LEVEL_COUNTRY_10_09_2023  2.396527e+07  2.615927e+07  2.861282e+07   \n",
       "\n",
       "           mean   pe_mean    pe_P10    pe_P50  \n",
       "0  2.140862e+07  0.253876  0.066092  0.253876  \n",
       "1  1.973429e+07  0.155813  0.052632  0.163057  \n",
       "2  1.733028e+07  0.307960  0.105907  0.307960  \n",
       "3  1.608681e+07  0.214112  0.114935  0.217545  \n",
       "4  1.509782e+07  0.234950  0.131750  0.226187  \n",
       "5  1.694243e+07  0.266442  0.168907  0.260478  \n",
       "6  2.533673e+07  0.186315  0.102534  0.185731  \n",
       "7  2.741284e+07  0.172509  0.077848  0.166781  \n",
       "8  2.629443e+07  0.087234  0.009074  0.081645  "
      ]
     },
     "execution_count": 32,
     "metadata": {},
     "output_type": "execute_result"
    }
   ],
   "source": [
    "df_forecast"
   ]
  },
  {
   "cell_type": "code",
   "execution_count": 33,
   "id": "abd13492-fb0d-4bb6-9a8f-6c816491ec26",
   "metadata": {
    "tags": []
   },
   "outputs": [
    {
     "data": {
      "text/plain": [
       "(0.20880135162364455, 0.09218653358508652, 0.2070289921933232)"
      ]
     },
     "execution_count": 33,
     "metadata": {},
     "output_type": "execute_result"
    }
   ],
   "source": [
    "# OVERALL ACCURACY\n",
    "df_forecast['pe_mean'].mean(), df_forecast['pe_P10'].mean(), df_forecast['pe_P50'].mean()"
   ]
  },
  {
   "cell_type": "code",
   "execution_count": 34,
   "id": "338da8d2-171c-45a2-89f8-5a4e837c5c8b",
   "metadata": {
    "tags": []
   },
   "outputs": [
    {
     "data": {
      "text/plain": [
       "4107432.8427375373"
      ]
     },
     "execution_count": 34,
     "metadata": {},
     "output_type": "execute_result"
    }
   ],
   "source": [
    "# Forecast Precision\n",
    "(df_forecast['p90'] - df_forecast['p10']).mean()"
   ]
  },
  {
   "cell_type": "code",
   "execution_count": 35,
   "id": "d8470444-14b9-4f0d-89b2-78c2e59c57bb",
   "metadata": {
    "tags": []
   },
   "outputs": [
    {
     "data": {
      "text/plain": [
       "6412429.7432798445"
      ]
     },
     "execution_count": 35,
     "metadata": {},
     "output_type": "execute_result"
    }
   ],
   "source": [
    "# Precision\n",
    "specific_date_country = df_forecast.loc[0]\n",
    "specific_date_country_accuracy_mean = specific_date_country['pe_mean'].mean()\n",
    "specific_date_country_accuracy_P10 = specific_date_country['pe_P10'].mean()\n",
    "specific_date_country_accuracy_P50 = specific_date_country['pe_P50'].mean()\n",
    "specific_date_country_precision = (specific_date_country['p90'] - specific_date_country['p10']).mean()\n",
    "specific_date_country_precision"
   ]
  },
  {
   "cell_type": "code",
   "execution_count": null,
   "id": "d9b9b460-16a9-4518-bf2b-63e4d7b8776f",
   "metadata": {},
   "outputs": [],
   "source": []
  },
  {
   "cell_type": "code",
   "execution_count": 36,
   "id": "9c4fc46c-b4d8-4106-a70c-95eb92936b74",
   "metadata": {
    "tags": []
   },
   "outputs": [
    {
     "name": "stdout",
     "output_type": "stream",
     "text": [
      "sagemaker.config INFO - Not applying SDK defaults from location: /etc/xdg/sagemaker/config.yaml\n",
      "sagemaker.config INFO - Not applying SDK defaults from location: /root/.config/sagemaker/config.yaml\n",
      "sagemaker.config INFO - Not applying SDK defaults from location: /etc/xdg/sagemaker/config.yaml\n",
      "sagemaker.config INFO - Not applying SDK defaults from location: /root/.config/sagemaker/config.yaml\n"
     ]
    }
   ],
   "source": [
    "import sagemaker\n",
    "from sagemaker import get_execution_role\n",
    "\n",
    "#Set up SageMaker session and role\n",
    "sagemaker_session = sagemaker.Session()\n",
    "role = 'arn:aws:iam::283731589572:role/service-role/AmazonSageMaker-ExecutionRole-20231127T122316'"
   ]
  },
  {
   "cell_type": "code",
   "execution_count": 40,
   "id": "8d4934f7-38a4-43b9-b1ba-95effef7dc40",
   "metadata": {
    "tags": []
   },
   "outputs": [],
   "source": [
    "#pip install awswrangler"
   ]
  },
  {
   "cell_type": "code",
   "execution_count": 41,
   "id": "82c7fb09-31a7-48d6-bc39-02dcbcfe0882",
   "metadata": {
    "tags": []
   },
   "outputs": [],
   "source": [
    "#pip install awswrangler[redshift]"
   ]
  },
  {
   "cell_type": "code",
   "execution_count": 42,
   "id": "6e41748e-72cb-442a-b38c-c7f2ab9e9af6",
   "metadata": {
    "tags": []
   },
   "outputs": [
    {
     "ename": "InvalidArgumentCombination",
     "evalue": "Failed attempt to connect. You MUST pass a connection name (Glue Catalog) OR a secret_id as argument.",
     "output_type": "error",
     "traceback": [
      "\u001b[0;31m---------------------------------------------------------------------------\u001b[0m",
      "\u001b[0;31mInvalidArgumentCombination\u001b[0m                Traceback (most recent call last)",
      "Cell \u001b[0;32mIn[42], line 9\u001b[0m\n\u001b[1;32m      6\u001b[0m redshift_role_arn \u001b[38;5;241m=\u001b[39m \u001b[38;5;124m'\u001b[39m\u001b[38;5;124marn:aws:iam::283731589572:role/redshift-role\u001b[39m\u001b[38;5;124m'\u001b[39m\n\u001b[1;32m      8\u001b[0m \u001b[38;5;66;03m# Connect to Redshift with IAM authentication\u001b[39;00m\n\u001b[0;32m----> 9\u001b[0m \u001b[43mwr\u001b[49m\u001b[38;5;241;43m.\u001b[39;49m\u001b[43mredshift\u001b[49m\u001b[38;5;241;43m.\u001b[39;49m\u001b[43mconnect\u001b[49m\u001b[43m(\u001b[49m\u001b[43mdatabase\u001b[49m\u001b[38;5;241;43m=\u001b[39;49m\u001b[43mdatabase\u001b[49m\u001b[43m,\u001b[49m\u001b[43m \u001b[49m\u001b[43mcluster_identifier\u001b[49m\u001b[38;5;241;43m=\u001b[39;49m\u001b[43mcluster_id\u001b[49m\u001b[43m,\u001b[49m\u001b[43m \u001b[49m\u001b[43miam_role\u001b[49m\u001b[38;5;241;43m=\u001b[39;49m\u001b[43mredshift_role_arn\u001b[49m\u001b[43m,\u001b[49m\u001b[43m \u001b[49m\u001b[43mdbname\u001b[49m\u001b[38;5;241;43m=\u001b[39;49m\u001b[43mdatabase\u001b[49m\u001b[43m)\u001b[49m\n",
      "File \u001b[0;32m/opt/conda/lib/python3.10/site-packages/awswrangler/_utils.py:126\u001b[0m, in \u001b[0;36mcheck_optional_dependency.<locals>.decorator.<locals>.inner\u001b[0;34m(*args, **kwargs)\u001b[0m\n\u001b[1;32m    121\u001b[0m     install_name \u001b[38;5;241m=\u001b[39m package_name \u001b[38;5;28;01mif\u001b[39;00m package_name \u001b[38;5;129;01mis\u001b[39;00m \u001b[38;5;129;01mnot\u001b[39;00m \u001b[38;5;28;01mNone\u001b[39;00m \u001b[38;5;28;01melse\u001b[39;00m name\n\u001b[1;32m    122\u001b[0m     \u001b[38;5;28;01mraise\u001b[39;00m \u001b[38;5;167;01mModuleNotFoundError\u001b[39;00m(\n\u001b[1;32m    123\u001b[0m         \u001b[38;5;124mf\u001b[39m\u001b[38;5;124m\"\u001b[39m\u001b[38;5;124mMissing optional dependency \u001b[39m\u001b[38;5;124m'\u001b[39m\u001b[38;5;132;01m{\u001b[39;00mname\u001b[38;5;132;01m}\u001b[39;00m\u001b[38;5;124m'\u001b[39m\u001b[38;5;124m. \u001b[39m\u001b[38;5;124m\"\u001b[39m\n\u001b[1;32m    124\u001b[0m         \u001b[38;5;124mf\u001b[39m\u001b[38;5;124m\"\u001b[39m\u001b[38;5;124mUse pip install awswrangler[\u001b[39m\u001b[38;5;132;01m{\u001b[39;00minstall_name\u001b[38;5;132;01m}\u001b[39;00m\u001b[38;5;124m] to install it.\u001b[39m\u001b[38;5;124m\"\u001b[39m\n\u001b[1;32m    125\u001b[0m     )\n\u001b[0;32m--> 126\u001b[0m \u001b[38;5;28;01mreturn\u001b[39;00m \u001b[43mfunc\u001b[49m\u001b[43m(\u001b[49m\u001b[38;5;241;43m*\u001b[39;49m\u001b[43margs\u001b[49m\u001b[43m,\u001b[49m\u001b[43m \u001b[49m\u001b[38;5;241;43m*\u001b[39;49m\u001b[38;5;241;43m*\u001b[39;49m\u001b[43mkwargs\u001b[49m\u001b[43m)\u001b[49m\n",
      "File \u001b[0;32m/opt/conda/lib/python3.10/site-packages/awswrangler/redshift/_connect.py:114\u001b[0m, in \u001b[0;36mconnect\u001b[0;34m(connection, secret_id, catalog_id, dbname, boto3_session, ssl, timeout, max_prepared_statements, tcp_keepalive, **kwargs)\u001b[0m\n\u001b[1;32m     23\u001b[0m \u001b[38;5;129m@_utils\u001b[39m\u001b[38;5;241m.\u001b[39mcheck_optional_dependency(redshift_connector, \u001b[38;5;124m\"\u001b[39m\u001b[38;5;124mredshift_connector\u001b[39m\u001b[38;5;124m\"\u001b[39m)\n\u001b[1;32m     24\u001b[0m \u001b[38;5;28;01mdef\u001b[39;00m \u001b[38;5;21mconnect\u001b[39m(\n\u001b[1;32m     25\u001b[0m     connection: \u001b[38;5;28mstr\u001b[39m \u001b[38;5;241m|\u001b[39m \u001b[38;5;28;01mNone\u001b[39;00m \u001b[38;5;241m=\u001b[39m \u001b[38;5;28;01mNone\u001b[39;00m,\n\u001b[0;32m   (...)\u001b[0m\n\u001b[1;32m     34\u001b[0m     \u001b[38;5;241m*\u001b[39m\u001b[38;5;241m*\u001b[39mkwargs: Any,\n\u001b[1;32m     35\u001b[0m ) \u001b[38;5;241m-\u001b[39m\u001b[38;5;241m>\u001b[39m \u001b[38;5;124m\"\u001b[39m\u001b[38;5;124mredshift_connector.Connection\u001b[39m\u001b[38;5;124m\"\u001b[39m:  \u001b[38;5;66;03m# type: ignore[name-defined]\u001b[39;00m\n\u001b[1;32m     36\u001b[0m \u001b[38;5;250m    \u001b[39m\u001b[38;5;124;03m\"\"\"Return a redshift_connector connection from a Glue Catalog or Secret Manager.\u001b[39;00m\n\u001b[1;32m     37\u001b[0m \n\u001b[1;32m     38\u001b[0m \u001b[38;5;124;03m    Note\u001b[39;00m\n\u001b[0;32m   (...)\u001b[0m\n\u001b[1;32m    112\u001b[0m \n\u001b[1;32m    113\u001b[0m \u001b[38;5;124;03m    \"\"\"\u001b[39;00m\n\u001b[0;32m--> 114\u001b[0m     attrs: _db_utils\u001b[38;5;241m.\u001b[39mConnectionAttributes \u001b[38;5;241m=\u001b[39m \u001b[43m_db_utils\u001b[49m\u001b[38;5;241;43m.\u001b[39;49m\u001b[43mget_connection_attributes\u001b[49m\u001b[43m(\u001b[49m\n\u001b[1;32m    115\u001b[0m \u001b[43m        \u001b[49m\u001b[43mconnection\u001b[49m\u001b[38;5;241;43m=\u001b[39;49m\u001b[43mconnection\u001b[49m\u001b[43m,\u001b[49m\u001b[43m \u001b[49m\u001b[43msecret_id\u001b[49m\u001b[38;5;241;43m=\u001b[39;49m\u001b[43msecret_id\u001b[49m\u001b[43m,\u001b[49m\u001b[43m \u001b[49m\u001b[43mcatalog_id\u001b[49m\u001b[38;5;241;43m=\u001b[39;49m\u001b[43mcatalog_id\u001b[49m\u001b[43m,\u001b[49m\u001b[43m \u001b[49m\u001b[43mdbname\u001b[49m\u001b[38;5;241;43m=\u001b[39;49m\u001b[43mdbname\u001b[49m\u001b[43m,\u001b[49m\u001b[43m \u001b[49m\u001b[43mboto3_session\u001b[49m\u001b[38;5;241;43m=\u001b[39;49m\u001b[43mboto3_session\u001b[49m\n\u001b[1;32m    116\u001b[0m \u001b[43m    \u001b[49m\u001b[43m)\u001b[49m\n\u001b[1;32m    117\u001b[0m     \u001b[38;5;28;01mif\u001b[39;00m attrs\u001b[38;5;241m.\u001b[39mkind \u001b[38;5;241m!=\u001b[39m \u001b[38;5;124m\"\u001b[39m\u001b[38;5;124mredshift\u001b[39m\u001b[38;5;124m\"\u001b[39m:\n\u001b[1;32m    118\u001b[0m         \u001b[38;5;28;01mraise\u001b[39;00m exceptions\u001b[38;5;241m.\u001b[39mInvalidDatabaseType(\n\u001b[1;32m    119\u001b[0m             \u001b[38;5;124mf\u001b[39m\u001b[38;5;124m\"\u001b[39m\u001b[38;5;124mInvalid connection type (\u001b[39m\u001b[38;5;132;01m{\u001b[39;00mattrs\u001b[38;5;241m.\u001b[39mkind\u001b[38;5;132;01m}\u001b[39;00m\u001b[38;5;124m. It must be a redshift connection.)\u001b[39m\u001b[38;5;124m\"\u001b[39m\n\u001b[1;32m    120\u001b[0m         )\n",
      "File \u001b[0;32m/opt/conda/lib/python3.10/site-packages/awswrangler/_databases.py:119\u001b[0m, in \u001b[0;36mget_connection_attributes\u001b[0;34m(connection, secret_id, catalog_id, dbname, boto3_session)\u001b[0m\n\u001b[1;32m    117\u001b[0m \u001b[38;5;250m\u001b[39m\u001b[38;5;124;03m\"\"\"Get Connection Attributes.\"\"\"\u001b[39;00m\n\u001b[1;32m    118\u001b[0m \u001b[38;5;28;01mif\u001b[39;00m connection \u001b[38;5;129;01mis\u001b[39;00m \u001b[38;5;28;01mNone\u001b[39;00m \u001b[38;5;129;01mand\u001b[39;00m secret_id \u001b[38;5;129;01mis\u001b[39;00m \u001b[38;5;28;01mNone\u001b[39;00m:\n\u001b[0;32m--> 119\u001b[0m     \u001b[38;5;28;01mraise\u001b[39;00m exceptions\u001b[38;5;241m.\u001b[39mInvalidArgumentCombination(\n\u001b[1;32m    120\u001b[0m         \u001b[38;5;124m\"\u001b[39m\u001b[38;5;124mFailed attempt to connect. You MUST pass a connection name (Glue Catalog) OR a secret_id as argument.\u001b[39m\u001b[38;5;124m\"\u001b[39m\n\u001b[1;32m    121\u001b[0m     )\n\u001b[1;32m    122\u001b[0m \u001b[38;5;28;01mif\u001b[39;00m connection \u001b[38;5;129;01mis\u001b[39;00m \u001b[38;5;129;01mnot\u001b[39;00m \u001b[38;5;28;01mNone\u001b[39;00m:\n\u001b[1;32m    123\u001b[0m     \u001b[38;5;28;01mreturn\u001b[39;00m _get_connection_attributes_from_catalog(\n\u001b[1;32m    124\u001b[0m         connection\u001b[38;5;241m=\u001b[39mconnection, catalog_id\u001b[38;5;241m=\u001b[39mcatalog_id, dbname\u001b[38;5;241m=\u001b[39mdbname, boto3_session\u001b[38;5;241m=\u001b[39mboto3_session\n\u001b[1;32m    125\u001b[0m     )\n",
      "\u001b[0;31mInvalidArgumentCombination\u001b[0m: Failed attempt to connect. You MUST pass a connection name (Glue Catalog) OR a secret_id as argument."
     ]
    }
   ],
   "source": [
    "import awswrangler as wr\n",
    "\n",
    "database = 'viamericas'\n",
    "cluster_id = 'viamericas-datalake-dev-us-east-1-283731589572-analytics'\n",
    "sql_table = 'forecast_mexico'\n",
    "redshift_role_arn = 'arn:aws:iam::283731589572:role/redshift-role'\n",
    "\n",
    "# Connect to Redshift with IAM authentication\n",
    "wr.redshift.connect(database=database, cluster_identifier=cluster_id, iam_role=redshift_role_arn, dbname=database)\n"
   ]
  },
  {
   "cell_type": "code",
   "execution_count": 42,
   "id": "5f04e9fe-7238-42ca-8a37-0ec145d910a8",
   "metadata": {
    "tags": []
   },
   "outputs": [
    {
     "ename": "TypeError",
     "evalue": "got an unexpected keyword argument 'dataframe'",
     "output_type": "error",
     "traceback": [
      "\u001b[0;31m---------------------------------------------------------------------------\u001b[0m",
      "\u001b[0;31mTypeError\u001b[0m                                 Traceback (most recent call last)",
      "Cell \u001b[0;32mIn[42], line 3\u001b[0m\n\u001b[1;32m      1\u001b[0m \u001b[38;5;66;03m# Creating the table @ RS (replace if exists)\u001b[39;00m\n\u001b[0;32m----> 3\u001b[0m \u001b[43mwr\u001b[49m\u001b[38;5;241;43m.\u001b[39;49m\u001b[43mredshift\u001b[49m\u001b[38;5;241;43m.\u001b[39;49m\u001b[43mto_sql\u001b[49m\u001b[43m(\u001b[49m\n\u001b[1;32m      4\u001b[0m \u001b[43m    \u001b[49m\u001b[43mdataframe\u001b[49m\u001b[38;5;241;43m=\u001b[39;49m\u001b[43mdf_forecast\u001b[49m\u001b[43m,\u001b[49m\n\u001b[1;32m      5\u001b[0m \u001b[43m    \u001b[49m\u001b[43mtable\u001b[49m\u001b[38;5;241;43m=\u001b[39;49m\u001b[43msql_table\u001b[49m\u001b[43m,\u001b[49m\n\u001b[1;32m      6\u001b[0m \u001b[43m    \u001b[49m\u001b[43mschema\u001b[49m\u001b[38;5;241;43m=\u001b[39;49m\u001b[43mdatabase\u001b[49m\u001b[43m,\u001b[49m\n\u001b[1;32m      7\u001b[0m \u001b[43m    \u001b[49m\u001b[43mindex\u001b[49m\u001b[38;5;241;43m=\u001b[39;49m\u001b[38;5;28;43;01mFalse\u001b[39;49;00m\u001b[43m,\u001b[49m\n\u001b[1;32m      8\u001b[0m \u001b[43m    \u001b[49m\u001b[43mdatabase\u001b[49m\u001b[38;5;241;43m=\u001b[39;49m\u001b[43mdatabase\u001b[49m\u001b[43m,\u001b[49m\n\u001b[1;32m      9\u001b[0m \u001b[43m    \u001b[49m\u001b[43mcluster_identifier\u001b[49m\u001b[38;5;241;43m=\u001b[39;49m\u001b[43mcluster_id\u001b[49m\u001b[43m,\u001b[49m\n\u001b[1;32m     10\u001b[0m \u001b[43m    \u001b[49m\u001b[43miam_role\u001b[49m\u001b[38;5;241;43m=\u001b[39;49m\u001b[43mredshift_role_arn\u001b[49m\u001b[43m,\u001b[49m\n\u001b[1;32m     11\u001b[0m \u001b[43m    \u001b[49m\u001b[43mmode\u001b[49m\u001b[38;5;241;43m=\u001b[39;49m\u001b[38;5;124;43m'\u001b[39;49m\u001b[38;5;124;43moverwrite\u001b[39;49m\u001b[38;5;124;43m'\u001b[39;49m\u001b[43m,\u001b[49m\u001b[43m  \u001b[49m\u001b[38;5;66;43;03m# Overwrite mode is used for both creating and replacing\u001b[39;49;00m\n\u001b[1;32m     12\u001b[0m \u001b[43m    \u001b[49m\u001b[43mif_exists\u001b[49m\u001b[38;5;241;43m=\u001b[39;49m\u001b[38;5;124;43m'\u001b[39;49m\u001b[38;5;124;43mreplace\u001b[39;49m\u001b[38;5;124;43m'\u001b[39;49m\u001b[43m  \u001b[49m\u001b[38;5;66;43;03m# Replace the table if it exists, create otherwise\u001b[39;49;00m\n\u001b[1;32m     13\u001b[0m \u001b[43m)\u001b[49m\n",
      "File \u001b[0;32m/opt/conda/lib/python3.10/site-packages/awswrangler/_utils.py:126\u001b[0m, in \u001b[0;36mcheck_optional_dependency.<locals>.decorator.<locals>.inner\u001b[0;34m(*args, **kwargs)\u001b[0m\n\u001b[1;32m    121\u001b[0m     install_name \u001b[38;5;241m=\u001b[39m package_name \u001b[38;5;28;01mif\u001b[39;00m package_name \u001b[38;5;129;01mis\u001b[39;00m \u001b[38;5;129;01mnot\u001b[39;00m \u001b[38;5;28;01mNone\u001b[39;00m \u001b[38;5;28;01melse\u001b[39;00m name\n\u001b[1;32m    122\u001b[0m     \u001b[38;5;28;01mraise\u001b[39;00m \u001b[38;5;167;01mModuleNotFoundError\u001b[39;00m(\n\u001b[1;32m    123\u001b[0m         \u001b[38;5;124mf\u001b[39m\u001b[38;5;124m\"\u001b[39m\u001b[38;5;124mMissing optional dependency \u001b[39m\u001b[38;5;124m'\u001b[39m\u001b[38;5;132;01m{\u001b[39;00mname\u001b[38;5;132;01m}\u001b[39;00m\u001b[38;5;124m'\u001b[39m\u001b[38;5;124m. \u001b[39m\u001b[38;5;124m\"\u001b[39m\n\u001b[1;32m    124\u001b[0m         \u001b[38;5;124mf\u001b[39m\u001b[38;5;124m\"\u001b[39m\u001b[38;5;124mUse pip install awswrangler[\u001b[39m\u001b[38;5;132;01m{\u001b[39;00minstall_name\u001b[38;5;132;01m}\u001b[39;00m\u001b[38;5;124m] to install it.\u001b[39m\u001b[38;5;124m\"\u001b[39m\n\u001b[1;32m    125\u001b[0m     )\n\u001b[0;32m--> 126\u001b[0m \u001b[38;5;28;01mreturn\u001b[39;00m \u001b[43mfunc\u001b[49m\u001b[43m(\u001b[49m\u001b[38;5;241;43m*\u001b[39;49m\u001b[43margs\u001b[49m\u001b[43m,\u001b[49m\u001b[43m \u001b[49m\u001b[38;5;241;43m*\u001b[39;49m\u001b[38;5;241;43m*\u001b[39;49m\u001b[43mkwargs\u001b[49m\u001b[43m)\u001b[49m\n",
      "File \u001b[0;32m/opt/conda/lib/python3.10/site-packages/awswrangler/_config.py:722\u001b[0m, in \u001b[0;36mapply_configs.<locals>.wrapper\u001b[0;34m(*args_raw, **kwargs)\u001b[0m\n\u001b[1;32m    720\u001b[0m \u001b[38;5;129m@wraps\u001b[39m(function)\n\u001b[1;32m    721\u001b[0m \u001b[38;5;28;01mdef\u001b[39;00m \u001b[38;5;21mwrapper\u001b[39m(\u001b[38;5;241m*\u001b[39margs_raw: Any, \u001b[38;5;241m*\u001b[39m\u001b[38;5;241m*\u001b[39mkwargs: Any) \u001b[38;5;241m-\u001b[39m\u001b[38;5;241m>\u001b[39m Any:\n\u001b[0;32m--> 722\u001b[0m     args: \u001b[38;5;28mdict\u001b[39m[\u001b[38;5;28mstr\u001b[39m, Any] \u001b[38;5;241m=\u001b[39m \u001b[43msignature\u001b[49m\u001b[38;5;241;43m.\u001b[39;49m\u001b[43mbind_partial\u001b[49m\u001b[43m(\u001b[49m\u001b[38;5;241;43m*\u001b[39;49m\u001b[43margs_raw\u001b[49m\u001b[43m,\u001b[49m\u001b[43m \u001b[49m\u001b[38;5;241;43m*\u001b[39;49m\u001b[38;5;241;43m*\u001b[39;49m\u001b[43mkwargs\u001b[49m\u001b[43m)\u001b[49m\u001b[38;5;241m.\u001b[39marguments\n\u001b[1;32m    723\u001b[0m     \u001b[38;5;28;01mfor\u001b[39;00m name \u001b[38;5;129;01min\u001b[39;00m available_configs:\n\u001b[1;32m    724\u001b[0m         \u001b[38;5;28;01mif\u001b[39;00m \u001b[38;5;28mhasattr\u001b[39m(config, name) \u001b[38;5;129;01mis\u001b[39;00m \u001b[38;5;28;01mTrue\u001b[39;00m:\n",
      "File \u001b[0;32m/opt/conda/lib/python3.10/inspect.py:3186\u001b[0m, in \u001b[0;36mSignature.bind_partial\u001b[0;34m(self, *args, **kwargs)\u001b[0m\n\u001b[1;32m   3181\u001b[0m \u001b[38;5;28;01mdef\u001b[39;00m \u001b[38;5;21mbind_partial\u001b[39m(\u001b[38;5;28mself\u001b[39m, \u001b[38;5;241m/\u001b[39m, \u001b[38;5;241m*\u001b[39margs, \u001b[38;5;241m*\u001b[39m\u001b[38;5;241m*\u001b[39mkwargs):\n\u001b[1;32m   3182\u001b[0m \u001b[38;5;250m    \u001b[39m\u001b[38;5;124;03m\"\"\"Get a BoundArguments object, that partially maps the\u001b[39;00m\n\u001b[1;32m   3183\u001b[0m \u001b[38;5;124;03m    passed `args` and `kwargs` to the function's signature.\u001b[39;00m\n\u001b[1;32m   3184\u001b[0m \u001b[38;5;124;03m    Raises `TypeError` if the passed arguments can not be bound.\u001b[39;00m\n\u001b[1;32m   3185\u001b[0m \u001b[38;5;124;03m    \"\"\"\u001b[39;00m\n\u001b[0;32m-> 3186\u001b[0m     \u001b[38;5;28;01mreturn\u001b[39;00m \u001b[38;5;28;43mself\u001b[39;49m\u001b[38;5;241;43m.\u001b[39;49m\u001b[43m_bind\u001b[49m\u001b[43m(\u001b[49m\u001b[43margs\u001b[49m\u001b[43m,\u001b[49m\u001b[43m \u001b[49m\u001b[43mkwargs\u001b[49m\u001b[43m,\u001b[49m\u001b[43m \u001b[49m\u001b[43mpartial\u001b[49m\u001b[38;5;241;43m=\u001b[39;49m\u001b[38;5;28;43;01mTrue\u001b[39;49;00m\u001b[43m)\u001b[49m\n",
      "File \u001b[0;32m/opt/conda/lib/python3.10/inspect.py:3168\u001b[0m, in \u001b[0;36mSignature._bind\u001b[0;34m(self, args, kwargs, partial)\u001b[0m\n\u001b[1;32m   3166\u001b[0m         arguments[kwargs_param\u001b[38;5;241m.\u001b[39mname] \u001b[38;5;241m=\u001b[39m kwargs\n\u001b[1;32m   3167\u001b[0m     \u001b[38;5;28;01melse\u001b[39;00m:\n\u001b[0;32m-> 3168\u001b[0m         \u001b[38;5;28;01mraise\u001b[39;00m \u001b[38;5;167;01mTypeError\u001b[39;00m(\n\u001b[1;32m   3169\u001b[0m             \u001b[38;5;124m'\u001b[39m\u001b[38;5;124mgot an unexpected keyword argument \u001b[39m\u001b[38;5;132;01m{arg!r}\u001b[39;00m\u001b[38;5;124m'\u001b[39m\u001b[38;5;241m.\u001b[39mformat(\n\u001b[1;32m   3170\u001b[0m                 arg\u001b[38;5;241m=\u001b[39m\u001b[38;5;28mnext\u001b[39m(\u001b[38;5;28miter\u001b[39m(kwargs))))\n\u001b[1;32m   3172\u001b[0m \u001b[38;5;28;01mreturn\u001b[39;00m \u001b[38;5;28mself\u001b[39m\u001b[38;5;241m.\u001b[39m_bound_arguments_cls(\u001b[38;5;28mself\u001b[39m, arguments)\n",
      "\u001b[0;31mTypeError\u001b[0m: got an unexpected keyword argument 'dataframe'"
     ]
    }
   ],
   "source": [
    "# Creating the table @ RS (replace if exists)\n",
    "\n",
    "wr.redshift.to_sql(\n",
    "    dataframe=df_forecast,\n",
    "    table=sql_table,\n",
    "    schema=database,\n",
    "    index=False,\n",
    "    database=database,\n",
    "    cluster_identifier=cluster_id,\n",
    "    iam_role=redshift_role_arn,\n",
    "    mode='overwrite',  # Overwrite mode is used for both creating and replacing\n",
    "    if_exists='replace'  # Replace the table if it exists, create otherwise\n",
    ")"
   ]
  },
  {
   "cell_type": "code",
   "execution_count": null,
   "id": "7ca183f7-0bb5-4e19-a733-3a066a91ba90",
   "metadata": {},
   "outputs": [],
   "source": [
    "# Close the Redshift connection\n",
    "wr.redshift.close()"
   ]
  },
  {
   "cell_type": "code",
   "execution_count": null,
   "id": "7389b588-8c58-4795-9ee7-d546e8a239a7",
   "metadata": {},
   "outputs": [],
   "source": []
  }
 ],
 "metadata": {
  "availableInstances": [
   {
    "_defaultOrder": 0,
    "_isFastLaunch": true,
    "category": "General purpose",
    "gpuNum": 0,
    "hideHardwareSpecs": false,
    "memoryGiB": 4,
    "name": "ml.t3.medium",
    "vcpuNum": 2
   },
   {
    "_defaultOrder": 1,
    "_isFastLaunch": false,
    "category": "General purpose",
    "gpuNum": 0,
    "hideHardwareSpecs": false,
    "memoryGiB": 8,
    "name": "ml.t3.large",
    "vcpuNum": 2
   },
   {
    "_defaultOrder": 2,
    "_isFastLaunch": false,
    "category": "General purpose",
    "gpuNum": 0,
    "hideHardwareSpecs": false,
    "memoryGiB": 16,
    "name": "ml.t3.xlarge",
    "vcpuNum": 4
   },
   {
    "_defaultOrder": 3,
    "_isFastLaunch": false,
    "category": "General purpose",
    "gpuNum": 0,
    "hideHardwareSpecs": false,
    "memoryGiB": 32,
    "name": "ml.t3.2xlarge",
    "vcpuNum": 8
   },
   {
    "_defaultOrder": 4,
    "_isFastLaunch": true,
    "category": "General purpose",
    "gpuNum": 0,
    "hideHardwareSpecs": false,
    "memoryGiB": 8,
    "name": "ml.m5.large",
    "vcpuNum": 2
   },
   {
    "_defaultOrder": 5,
    "_isFastLaunch": false,
    "category": "General purpose",
    "gpuNum": 0,
    "hideHardwareSpecs": false,
    "memoryGiB": 16,
    "name": "ml.m5.xlarge",
    "vcpuNum": 4
   },
   {
    "_defaultOrder": 6,
    "_isFastLaunch": false,
    "category": "General purpose",
    "gpuNum": 0,
    "hideHardwareSpecs": false,
    "memoryGiB": 32,
    "name": "ml.m5.2xlarge",
    "vcpuNum": 8
   },
   {
    "_defaultOrder": 7,
    "_isFastLaunch": false,
    "category": "General purpose",
    "gpuNum": 0,
    "hideHardwareSpecs": false,
    "memoryGiB": 64,
    "name": "ml.m5.4xlarge",
    "vcpuNum": 16
   },
   {
    "_defaultOrder": 8,
    "_isFastLaunch": false,
    "category": "General purpose",
    "gpuNum": 0,
    "hideHardwareSpecs": false,
    "memoryGiB": 128,
    "name": "ml.m5.8xlarge",
    "vcpuNum": 32
   },
   {
    "_defaultOrder": 9,
    "_isFastLaunch": false,
    "category": "General purpose",
    "gpuNum": 0,
    "hideHardwareSpecs": false,
    "memoryGiB": 192,
    "name": "ml.m5.12xlarge",
    "vcpuNum": 48
   },
   {
    "_defaultOrder": 10,
    "_isFastLaunch": false,
    "category": "General purpose",
    "gpuNum": 0,
    "hideHardwareSpecs": false,
    "memoryGiB": 256,
    "name": "ml.m5.16xlarge",
    "vcpuNum": 64
   },
   {
    "_defaultOrder": 11,
    "_isFastLaunch": false,
    "category": "General purpose",
    "gpuNum": 0,
    "hideHardwareSpecs": false,
    "memoryGiB": 384,
    "name": "ml.m5.24xlarge",
    "vcpuNum": 96
   },
   {
    "_defaultOrder": 12,
    "_isFastLaunch": false,
    "category": "General purpose",
    "gpuNum": 0,
    "hideHardwareSpecs": false,
    "memoryGiB": 8,
    "name": "ml.m5d.large",
    "vcpuNum": 2
   },
   {
    "_defaultOrder": 13,
    "_isFastLaunch": false,
    "category": "General purpose",
    "gpuNum": 0,
    "hideHardwareSpecs": false,
    "memoryGiB": 16,
    "name": "ml.m5d.xlarge",
    "vcpuNum": 4
   },
   {
    "_defaultOrder": 14,
    "_isFastLaunch": false,
    "category": "General purpose",
    "gpuNum": 0,
    "hideHardwareSpecs": false,
    "memoryGiB": 32,
    "name": "ml.m5d.2xlarge",
    "vcpuNum": 8
   },
   {
    "_defaultOrder": 15,
    "_isFastLaunch": false,
    "category": "General purpose",
    "gpuNum": 0,
    "hideHardwareSpecs": false,
    "memoryGiB": 64,
    "name": "ml.m5d.4xlarge",
    "vcpuNum": 16
   },
   {
    "_defaultOrder": 16,
    "_isFastLaunch": false,
    "category": "General purpose",
    "gpuNum": 0,
    "hideHardwareSpecs": false,
    "memoryGiB": 128,
    "name": "ml.m5d.8xlarge",
    "vcpuNum": 32
   },
   {
    "_defaultOrder": 17,
    "_isFastLaunch": false,
    "category": "General purpose",
    "gpuNum": 0,
    "hideHardwareSpecs": false,
    "memoryGiB": 192,
    "name": "ml.m5d.12xlarge",
    "vcpuNum": 48
   },
   {
    "_defaultOrder": 18,
    "_isFastLaunch": false,
    "category": "General purpose",
    "gpuNum": 0,
    "hideHardwareSpecs": false,
    "memoryGiB": 256,
    "name": "ml.m5d.16xlarge",
    "vcpuNum": 64
   },
   {
    "_defaultOrder": 19,
    "_isFastLaunch": false,
    "category": "General purpose",
    "gpuNum": 0,
    "hideHardwareSpecs": false,
    "memoryGiB": 384,
    "name": "ml.m5d.24xlarge",
    "vcpuNum": 96
   },
   {
    "_defaultOrder": 20,
    "_isFastLaunch": false,
    "category": "General purpose",
    "gpuNum": 0,
    "hideHardwareSpecs": true,
    "memoryGiB": 0,
    "name": "ml.geospatial.interactive",
    "supportedImageNames": [
     "sagemaker-geospatial-v1-0"
    ],
    "vcpuNum": 0
   },
   {
    "_defaultOrder": 21,
    "_isFastLaunch": true,
    "category": "Compute optimized",
    "gpuNum": 0,
    "hideHardwareSpecs": false,
    "memoryGiB": 4,
    "name": "ml.c5.large",
    "vcpuNum": 2
   },
   {
    "_defaultOrder": 22,
    "_isFastLaunch": false,
    "category": "Compute optimized",
    "gpuNum": 0,
    "hideHardwareSpecs": false,
    "memoryGiB": 8,
    "name": "ml.c5.xlarge",
    "vcpuNum": 4
   },
   {
    "_defaultOrder": 23,
    "_isFastLaunch": false,
    "category": "Compute optimized",
    "gpuNum": 0,
    "hideHardwareSpecs": false,
    "memoryGiB": 16,
    "name": "ml.c5.2xlarge",
    "vcpuNum": 8
   },
   {
    "_defaultOrder": 24,
    "_isFastLaunch": false,
    "category": "Compute optimized",
    "gpuNum": 0,
    "hideHardwareSpecs": false,
    "memoryGiB": 32,
    "name": "ml.c5.4xlarge",
    "vcpuNum": 16
   },
   {
    "_defaultOrder": 25,
    "_isFastLaunch": false,
    "category": "Compute optimized",
    "gpuNum": 0,
    "hideHardwareSpecs": false,
    "memoryGiB": 72,
    "name": "ml.c5.9xlarge",
    "vcpuNum": 36
   },
   {
    "_defaultOrder": 26,
    "_isFastLaunch": false,
    "category": "Compute optimized",
    "gpuNum": 0,
    "hideHardwareSpecs": false,
    "memoryGiB": 96,
    "name": "ml.c5.12xlarge",
    "vcpuNum": 48
   },
   {
    "_defaultOrder": 27,
    "_isFastLaunch": false,
    "category": "Compute optimized",
    "gpuNum": 0,
    "hideHardwareSpecs": false,
    "memoryGiB": 144,
    "name": "ml.c5.18xlarge",
    "vcpuNum": 72
   },
   {
    "_defaultOrder": 28,
    "_isFastLaunch": false,
    "category": "Compute optimized",
    "gpuNum": 0,
    "hideHardwareSpecs": false,
    "memoryGiB": 192,
    "name": "ml.c5.24xlarge",
    "vcpuNum": 96
   },
   {
    "_defaultOrder": 29,
    "_isFastLaunch": true,
    "category": "Accelerated computing",
    "gpuNum": 1,
    "hideHardwareSpecs": false,
    "memoryGiB": 16,
    "name": "ml.g4dn.xlarge",
    "vcpuNum": 4
   },
   {
    "_defaultOrder": 30,
    "_isFastLaunch": false,
    "category": "Accelerated computing",
    "gpuNum": 1,
    "hideHardwareSpecs": false,
    "memoryGiB": 32,
    "name": "ml.g4dn.2xlarge",
    "vcpuNum": 8
   },
   {
    "_defaultOrder": 31,
    "_isFastLaunch": false,
    "category": "Accelerated computing",
    "gpuNum": 1,
    "hideHardwareSpecs": false,
    "memoryGiB": 64,
    "name": "ml.g4dn.4xlarge",
    "vcpuNum": 16
   },
   {
    "_defaultOrder": 32,
    "_isFastLaunch": false,
    "category": "Accelerated computing",
    "gpuNum": 1,
    "hideHardwareSpecs": false,
    "memoryGiB": 128,
    "name": "ml.g4dn.8xlarge",
    "vcpuNum": 32
   },
   {
    "_defaultOrder": 33,
    "_isFastLaunch": false,
    "category": "Accelerated computing",
    "gpuNum": 4,
    "hideHardwareSpecs": false,
    "memoryGiB": 192,
    "name": "ml.g4dn.12xlarge",
    "vcpuNum": 48
   },
   {
    "_defaultOrder": 34,
    "_isFastLaunch": false,
    "category": "Accelerated computing",
    "gpuNum": 1,
    "hideHardwareSpecs": false,
    "memoryGiB": 256,
    "name": "ml.g4dn.16xlarge",
    "vcpuNum": 64
   },
   {
    "_defaultOrder": 35,
    "_isFastLaunch": false,
    "category": "Accelerated computing",
    "gpuNum": 1,
    "hideHardwareSpecs": false,
    "memoryGiB": 61,
    "name": "ml.p3.2xlarge",
    "vcpuNum": 8
   },
   {
    "_defaultOrder": 36,
    "_isFastLaunch": false,
    "category": "Accelerated computing",
    "gpuNum": 4,
    "hideHardwareSpecs": false,
    "memoryGiB": 244,
    "name": "ml.p3.8xlarge",
    "vcpuNum": 32
   },
   {
    "_defaultOrder": 37,
    "_isFastLaunch": false,
    "category": "Accelerated computing",
    "gpuNum": 8,
    "hideHardwareSpecs": false,
    "memoryGiB": 488,
    "name": "ml.p3.16xlarge",
    "vcpuNum": 64
   },
   {
    "_defaultOrder": 38,
    "_isFastLaunch": false,
    "category": "Accelerated computing",
    "gpuNum": 8,
    "hideHardwareSpecs": false,
    "memoryGiB": 768,
    "name": "ml.p3dn.24xlarge",
    "vcpuNum": 96
   },
   {
    "_defaultOrder": 39,
    "_isFastLaunch": false,
    "category": "Memory Optimized",
    "gpuNum": 0,
    "hideHardwareSpecs": false,
    "memoryGiB": 16,
    "name": "ml.r5.large",
    "vcpuNum": 2
   },
   {
    "_defaultOrder": 40,
    "_isFastLaunch": false,
    "category": "Memory Optimized",
    "gpuNum": 0,
    "hideHardwareSpecs": false,
    "memoryGiB": 32,
    "name": "ml.r5.xlarge",
    "vcpuNum": 4
   },
   {
    "_defaultOrder": 41,
    "_isFastLaunch": false,
    "category": "Memory Optimized",
    "gpuNum": 0,
    "hideHardwareSpecs": false,
    "memoryGiB": 64,
    "name": "ml.r5.2xlarge",
    "vcpuNum": 8
   },
   {
    "_defaultOrder": 42,
    "_isFastLaunch": false,
    "category": "Memory Optimized",
    "gpuNum": 0,
    "hideHardwareSpecs": false,
    "memoryGiB": 128,
    "name": "ml.r5.4xlarge",
    "vcpuNum": 16
   },
   {
    "_defaultOrder": 43,
    "_isFastLaunch": false,
    "category": "Memory Optimized",
    "gpuNum": 0,
    "hideHardwareSpecs": false,
    "memoryGiB": 256,
    "name": "ml.r5.8xlarge",
    "vcpuNum": 32
   },
   {
    "_defaultOrder": 44,
    "_isFastLaunch": false,
    "category": "Memory Optimized",
    "gpuNum": 0,
    "hideHardwareSpecs": false,
    "memoryGiB": 384,
    "name": "ml.r5.12xlarge",
    "vcpuNum": 48
   },
   {
    "_defaultOrder": 45,
    "_isFastLaunch": false,
    "category": "Memory Optimized",
    "gpuNum": 0,
    "hideHardwareSpecs": false,
    "memoryGiB": 512,
    "name": "ml.r5.16xlarge",
    "vcpuNum": 64
   },
   {
    "_defaultOrder": 46,
    "_isFastLaunch": false,
    "category": "Memory Optimized",
    "gpuNum": 0,
    "hideHardwareSpecs": false,
    "memoryGiB": 768,
    "name": "ml.r5.24xlarge",
    "vcpuNum": 96
   },
   {
    "_defaultOrder": 47,
    "_isFastLaunch": false,
    "category": "Accelerated computing",
    "gpuNum": 1,
    "hideHardwareSpecs": false,
    "memoryGiB": 16,
    "name": "ml.g5.xlarge",
    "vcpuNum": 4
   },
   {
    "_defaultOrder": 48,
    "_isFastLaunch": false,
    "category": "Accelerated computing",
    "gpuNum": 1,
    "hideHardwareSpecs": false,
    "memoryGiB": 32,
    "name": "ml.g5.2xlarge",
    "vcpuNum": 8
   },
   {
    "_defaultOrder": 49,
    "_isFastLaunch": false,
    "category": "Accelerated computing",
    "gpuNum": 1,
    "hideHardwareSpecs": false,
    "memoryGiB": 64,
    "name": "ml.g5.4xlarge",
    "vcpuNum": 16
   },
   {
    "_defaultOrder": 50,
    "_isFastLaunch": false,
    "category": "Accelerated computing",
    "gpuNum": 1,
    "hideHardwareSpecs": false,
    "memoryGiB": 128,
    "name": "ml.g5.8xlarge",
    "vcpuNum": 32
   },
   {
    "_defaultOrder": 51,
    "_isFastLaunch": false,
    "category": "Accelerated computing",
    "gpuNum": 1,
    "hideHardwareSpecs": false,
    "memoryGiB": 256,
    "name": "ml.g5.16xlarge",
    "vcpuNum": 64
   },
   {
    "_defaultOrder": 52,
    "_isFastLaunch": false,
    "category": "Accelerated computing",
    "gpuNum": 4,
    "hideHardwareSpecs": false,
    "memoryGiB": 192,
    "name": "ml.g5.12xlarge",
    "vcpuNum": 48
   },
   {
    "_defaultOrder": 53,
    "_isFastLaunch": false,
    "category": "Accelerated computing",
    "gpuNum": 4,
    "hideHardwareSpecs": false,
    "memoryGiB": 384,
    "name": "ml.g5.24xlarge",
    "vcpuNum": 96
   },
   {
    "_defaultOrder": 54,
    "_isFastLaunch": false,
    "category": "Accelerated computing",
    "gpuNum": 8,
    "hideHardwareSpecs": false,
    "memoryGiB": 768,
    "name": "ml.g5.48xlarge",
    "vcpuNum": 192
   },
   {
    "_defaultOrder": 55,
    "_isFastLaunch": false,
    "category": "Accelerated computing",
    "gpuNum": 8,
    "hideHardwareSpecs": false,
    "memoryGiB": 1152,
    "name": "ml.p4d.24xlarge",
    "vcpuNum": 96
   },
   {
    "_defaultOrder": 56,
    "_isFastLaunch": false,
    "category": "Accelerated computing",
    "gpuNum": 8,
    "hideHardwareSpecs": false,
    "memoryGiB": 1152,
    "name": "ml.p4de.24xlarge",
    "vcpuNum": 96
   },
   {
    "_defaultOrder": 57,
    "_isFastLaunch": false,
    "category": "Accelerated computing",
    "gpuNum": 0,
    "hideHardwareSpecs": false,
    "memoryGiB": 32,
    "name": "ml.trn1.2xlarge",
    "vcpuNum": 8
   },
   {
    "_defaultOrder": 58,
    "_isFastLaunch": false,
    "category": "Accelerated computing",
    "gpuNum": 0,
    "hideHardwareSpecs": false,
    "memoryGiB": 512,
    "name": "ml.trn1.32xlarge",
    "vcpuNum": 128
   },
   {
    "_defaultOrder": 59,
    "_isFastLaunch": false,
    "category": "Accelerated computing",
    "gpuNum": 0,
    "hideHardwareSpecs": false,
    "memoryGiB": 512,
    "name": "ml.trn1n.32xlarge",
    "vcpuNum": 128
   }
  ],
  "kernelspec": {
   "display_name": "Python 3 (Data Science 3.0)",
   "language": "python",
   "name": "python3__SAGEMAKER_INTERNAL__arn:aws:sagemaker:us-east-1:081325390199:image/sagemaker-data-science-310-v1"
  },
  "language_info": {
   "codemirror_mode": {
    "name": "ipython",
    "version": 3
   },
   "file_extension": ".py",
   "mimetype": "text/x-python",
   "name": "python",
   "nbconvert_exporter": "python",
   "pygments_lexer": "ipython3",
   "version": "3.10.6"
  }
 },
 "nbformat": 4,
 "nbformat_minor": 5
}
