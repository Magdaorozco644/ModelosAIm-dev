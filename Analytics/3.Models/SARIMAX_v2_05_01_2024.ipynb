{
 "cells": [
  {
   "cell_type": "code",
   "execution_count": 2,
   "id": "c457c732-fb32-46c7-96c2-29615428970b",
   "metadata": {},
   "outputs": [
    {
     "name": "stdout",
     "output_type": "stream",
     "text": [
      "Requirement already satisfied: pyathena in /opt/conda/lib/python3.10/site-packages (3.2.0)\n",
      "Requirement already satisfied: boto3>=1.26.4 in /opt/conda/lib/python3.10/site-packages (from pyathena) (1.33.9)\n",
      "Requirement already satisfied: botocore>=1.29.4 in /opt/conda/lib/python3.10/site-packages (from pyathena) (1.33.9)\n",
      "Requirement already satisfied: tenacity>=4.1.0 in /opt/conda/lib/python3.10/site-packages (from pyathena) (8.0.1)\n",
      "Requirement already satisfied: fsspec in /opt/conda/lib/python3.10/site-packages (from pyathena) (2022.7.1)\n",
      "Requirement already satisfied: jmespath<2.0.0,>=0.7.1 in /opt/conda/lib/python3.10/site-packages (from boto3>=1.26.4->pyathena) (0.10.0)\n",
      "Requirement already satisfied: s3transfer<0.9.0,>=0.8.2 in /opt/conda/lib/python3.10/site-packages (from boto3>=1.26.4->pyathena) (0.8.2)\n",
      "Requirement already satisfied: python-dateutil<3.0.0,>=2.1 in /opt/conda/lib/python3.10/site-packages (from botocore>=1.29.4->pyathena) (2.8.2)\n",
      "Requirement already satisfied: urllib3<2.1,>=1.25.4 in /opt/conda/lib/python3.10/site-packages (from botocore>=1.29.4->pyathena) (2.0.7)\n",
      "Requirement already satisfied: six>=1.5 in /opt/conda/lib/python3.10/site-packages (from python-dateutil<3.0.0,>=2.1->botocore>=1.29.4->pyathena) (1.16.0)\n",
      "\u001b[33mWARNING: Running pip as the 'root' user can result in broken permissions and conflicting behaviour with the system package manager. It is recommended to use a virtual environment instead: https://pip.pypa.io/warnings/venv\u001b[0m\u001b[33m\n",
      "\u001b[0m\n",
      "\u001b[1m[\u001b[0m\u001b[34;49mnotice\u001b[0m\u001b[1;39;49m]\u001b[0m\u001b[39;49m A new release of pip is available: \u001b[0m\u001b[31;49m23.3.1\u001b[0m\u001b[39;49m -> \u001b[0m\u001b[32;49m23.3.2\u001b[0m\n",
      "\u001b[1m[\u001b[0m\u001b[34;49mnotice\u001b[0m\u001b[1;39;49m]\u001b[0m\u001b[39;49m To update, run: \u001b[0m\u001b[32;49mpip install --upgrade pip\u001b[0m\n"
     ]
    }
   ],
   "source": [
    "!pip install pyathena"
   ]
  },
  {
   "cell_type": "code",
   "execution_count": 3,
   "id": "2976b0b8-a0c7-42b7-bde6-2e65dc408d31",
   "metadata": {},
   "outputs": [],
   "source": [
    "from pyathena import connect\n",
    "import pandas as pd"
   ]
  },
  {
   "cell_type": "code",
   "execution_count": 4,
   "id": "2bd165cf-0226-4e6a-b095-b05f041c02cd",
   "metadata": {},
   "outputs": [],
   "source": [
    "# DB Setting\n",
    "bucket_name = 's3://viamericas-datalake-dev-us-east-1-283731589572-athena/'\n",
    "origin_name = 'AwsDataCatalog'\n",
    "database_name = 'viamericas'\n",
    "database_name2= 'analytics'\n",
    "table1_name = 'forex_feed_market'\n",
    "table2_name = 'daily_check'\n",
    "##DAILY CHECK IS THE DATABASE VALIDATED WITH THE CLIENT, IT DOES NOT COUNT CANCELLATIONS OR VIRTUAL AGENCIES##"
   ]
  },
  {
   "cell_type": "code",
   "execution_count": null,
   "id": "b0881165-aa9c-46b2-88a4-16943ee2d415",
   "metadata": {},
   "outputs": [
    {
     "name": "stderr",
     "output_type": "stream",
     "text": [
      "/tmp/ipykernel_470/1299455614.py:5: UserWarning: pandas only supports SQLAlchemy connectable (engine/connection) or database string URI or sqlite3 DBAPI2 connection. Other DBAPI2 objects are not tested. Please consider using SQLAlchemy.\n",
      "  df2 = pd.read_sql(f'SELECT * FROM {origin_name}.{database_name2}.{table2_name};', conn)\n"
     ]
    }
   ],
   "source": [
    "#Connection\n",
    "conn = connect(s3_staging_dir=f'{bucket_name}queryresults/',\n",
    "               region_name='us-east-1')\n",
    "#df1 = pd.read_sql(f'SELECT * FROM {origin_name}.{database_name}.{table1_name};', conn)\n",
    "df2 = pd.read_sql(f'SELECT * FROM {origin_name}.{database_name2}.{table2_name};', conn)"
   ]
  },
  {
   "cell_type": "code",
   "execution_count": null,
   "id": "00dc8b81-5e8a-4b4c-83a8-9a95f4647506",
   "metadata": {},
   "outputs": [],
   "source": [
    "df2.shape"
   ]
  },
  {
   "cell_type": "code",
   "execution_count": null,
   "id": "8f6248a2-e2fb-4cee-9c2e-5ca382b08987",
   "metadata": {},
   "outputs": [],
   "source": []
  },
  {
   "cell_type": "code",
   "execution_count": null,
   "id": "629a9a73-f527-4ea5-9294-78abd99872f0",
   "metadata": {},
   "outputs": [],
   "source": [
    "df2.head()"
   ]
  },
  {
   "cell_type": "code",
   "execution_count": 12,
   "id": "f192e6b8-fda9-4a9c-89de-115cd8f5cf35",
   "metadata": {},
   "outputs": [],
   "source": [
    "##TO SPEED UP THE LOADING, WE ALREADY WORK WITH THE EXTRACTED CSV##"
   ]
  },
  {
   "cell_type": "code",
   "execution_count": 13,
   "id": "be31105d-5305-4145-8bec-8a31b81b2edc",
   "metadata": {},
   "outputs": [
    {
     "ename": "FileNotFoundError",
     "evalue": "[Errno 2] No such file or directory: 'rates_completo.csv'",
     "output_type": "error",
     "traceback": [
      "\u001b[0;31m---------------------------------------------------------------------------\u001b[0m",
      "\u001b[0;31mFileNotFoundError\u001b[0m                         Traceback (most recent call last)",
      "Cell \u001b[0;32mIn[13], line 1\u001b[0m\n\u001b[0;32m----> 1\u001b[0m df1\u001b[38;5;241m=\u001b[39m\u001b[43mpd\u001b[49m\u001b[38;5;241;43m.\u001b[39;49m\u001b[43mread_csv\u001b[49m\u001b[43m(\u001b[49m\u001b[38;5;124;43m'\u001b[39;49m\u001b[38;5;124;43mrates_completo.csv\u001b[39;49m\u001b[38;5;124;43m'\u001b[39;49m\u001b[43m)\u001b[49m\n",
      "File \u001b[0;32m/opt/conda/lib/python3.10/site-packages/pandas/io/parsers/readers.py:948\u001b[0m, in \u001b[0;36mread_csv\u001b[0;34m(filepath_or_buffer, sep, delimiter, header, names, index_col, usecols, dtype, engine, converters, true_values, false_values, skipinitialspace, skiprows, skipfooter, nrows, na_values, keep_default_na, na_filter, verbose, skip_blank_lines, parse_dates, infer_datetime_format, keep_date_col, date_parser, date_format, dayfirst, cache_dates, iterator, chunksize, compression, thousands, decimal, lineterminator, quotechar, quoting, doublequote, escapechar, comment, encoding, encoding_errors, dialect, on_bad_lines, delim_whitespace, low_memory, memory_map, float_precision, storage_options, dtype_backend)\u001b[0m\n\u001b[1;32m    935\u001b[0m kwds_defaults \u001b[38;5;241m=\u001b[39m _refine_defaults_read(\n\u001b[1;32m    936\u001b[0m     dialect,\n\u001b[1;32m    937\u001b[0m     delimiter,\n\u001b[0;32m   (...)\u001b[0m\n\u001b[1;32m    944\u001b[0m     dtype_backend\u001b[38;5;241m=\u001b[39mdtype_backend,\n\u001b[1;32m    945\u001b[0m )\n\u001b[1;32m    946\u001b[0m kwds\u001b[38;5;241m.\u001b[39mupdate(kwds_defaults)\n\u001b[0;32m--> 948\u001b[0m \u001b[38;5;28;01mreturn\u001b[39;00m \u001b[43m_read\u001b[49m\u001b[43m(\u001b[49m\u001b[43mfilepath_or_buffer\u001b[49m\u001b[43m,\u001b[49m\u001b[43m \u001b[49m\u001b[43mkwds\u001b[49m\u001b[43m)\u001b[49m\n",
      "File \u001b[0;32m/opt/conda/lib/python3.10/site-packages/pandas/io/parsers/readers.py:611\u001b[0m, in \u001b[0;36m_read\u001b[0;34m(filepath_or_buffer, kwds)\u001b[0m\n\u001b[1;32m    608\u001b[0m _validate_names(kwds\u001b[38;5;241m.\u001b[39mget(\u001b[38;5;124m\"\u001b[39m\u001b[38;5;124mnames\u001b[39m\u001b[38;5;124m\"\u001b[39m, \u001b[38;5;28;01mNone\u001b[39;00m))\n\u001b[1;32m    610\u001b[0m \u001b[38;5;66;03m# Create the parser.\u001b[39;00m\n\u001b[0;32m--> 611\u001b[0m parser \u001b[38;5;241m=\u001b[39m \u001b[43mTextFileReader\u001b[49m\u001b[43m(\u001b[49m\u001b[43mfilepath_or_buffer\u001b[49m\u001b[43m,\u001b[49m\u001b[43m \u001b[49m\u001b[38;5;241;43m*\u001b[39;49m\u001b[38;5;241;43m*\u001b[39;49m\u001b[43mkwds\u001b[49m\u001b[43m)\u001b[49m\n\u001b[1;32m    613\u001b[0m \u001b[38;5;28;01mif\u001b[39;00m chunksize \u001b[38;5;129;01mor\u001b[39;00m iterator:\n\u001b[1;32m    614\u001b[0m     \u001b[38;5;28;01mreturn\u001b[39;00m parser\n",
      "File \u001b[0;32m/opt/conda/lib/python3.10/site-packages/pandas/io/parsers/readers.py:1448\u001b[0m, in \u001b[0;36mTextFileReader.__init__\u001b[0;34m(self, f, engine, **kwds)\u001b[0m\n\u001b[1;32m   1445\u001b[0m     \u001b[38;5;28mself\u001b[39m\u001b[38;5;241m.\u001b[39moptions[\u001b[38;5;124m\"\u001b[39m\u001b[38;5;124mhas_index_names\u001b[39m\u001b[38;5;124m\"\u001b[39m] \u001b[38;5;241m=\u001b[39m kwds[\u001b[38;5;124m\"\u001b[39m\u001b[38;5;124mhas_index_names\u001b[39m\u001b[38;5;124m\"\u001b[39m]\n\u001b[1;32m   1447\u001b[0m \u001b[38;5;28mself\u001b[39m\u001b[38;5;241m.\u001b[39mhandles: IOHandles \u001b[38;5;241m|\u001b[39m \u001b[38;5;28;01mNone\u001b[39;00m \u001b[38;5;241m=\u001b[39m \u001b[38;5;28;01mNone\u001b[39;00m\n\u001b[0;32m-> 1448\u001b[0m \u001b[38;5;28mself\u001b[39m\u001b[38;5;241m.\u001b[39m_engine \u001b[38;5;241m=\u001b[39m \u001b[38;5;28;43mself\u001b[39;49m\u001b[38;5;241;43m.\u001b[39;49m\u001b[43m_make_engine\u001b[49m\u001b[43m(\u001b[49m\u001b[43mf\u001b[49m\u001b[43m,\u001b[49m\u001b[43m \u001b[49m\u001b[38;5;28;43mself\u001b[39;49m\u001b[38;5;241;43m.\u001b[39;49m\u001b[43mengine\u001b[49m\u001b[43m)\u001b[49m\n",
      "File \u001b[0;32m/opt/conda/lib/python3.10/site-packages/pandas/io/parsers/readers.py:1705\u001b[0m, in \u001b[0;36mTextFileReader._make_engine\u001b[0;34m(self, f, engine)\u001b[0m\n\u001b[1;32m   1703\u001b[0m     \u001b[38;5;28;01mif\u001b[39;00m \u001b[38;5;124m\"\u001b[39m\u001b[38;5;124mb\u001b[39m\u001b[38;5;124m\"\u001b[39m \u001b[38;5;129;01mnot\u001b[39;00m \u001b[38;5;129;01min\u001b[39;00m mode:\n\u001b[1;32m   1704\u001b[0m         mode \u001b[38;5;241m+\u001b[39m\u001b[38;5;241m=\u001b[39m \u001b[38;5;124m\"\u001b[39m\u001b[38;5;124mb\u001b[39m\u001b[38;5;124m\"\u001b[39m\n\u001b[0;32m-> 1705\u001b[0m \u001b[38;5;28mself\u001b[39m\u001b[38;5;241m.\u001b[39mhandles \u001b[38;5;241m=\u001b[39m \u001b[43mget_handle\u001b[49m\u001b[43m(\u001b[49m\n\u001b[1;32m   1706\u001b[0m \u001b[43m    \u001b[49m\u001b[43mf\u001b[49m\u001b[43m,\u001b[49m\n\u001b[1;32m   1707\u001b[0m \u001b[43m    \u001b[49m\u001b[43mmode\u001b[49m\u001b[43m,\u001b[49m\n\u001b[1;32m   1708\u001b[0m \u001b[43m    \u001b[49m\u001b[43mencoding\u001b[49m\u001b[38;5;241;43m=\u001b[39;49m\u001b[38;5;28;43mself\u001b[39;49m\u001b[38;5;241;43m.\u001b[39;49m\u001b[43moptions\u001b[49m\u001b[38;5;241;43m.\u001b[39;49m\u001b[43mget\u001b[49m\u001b[43m(\u001b[49m\u001b[38;5;124;43m\"\u001b[39;49m\u001b[38;5;124;43mencoding\u001b[39;49m\u001b[38;5;124;43m\"\u001b[39;49m\u001b[43m,\u001b[49m\u001b[43m \u001b[49m\u001b[38;5;28;43;01mNone\u001b[39;49;00m\u001b[43m)\u001b[49m\u001b[43m,\u001b[49m\n\u001b[1;32m   1709\u001b[0m \u001b[43m    \u001b[49m\u001b[43mcompression\u001b[49m\u001b[38;5;241;43m=\u001b[39;49m\u001b[38;5;28;43mself\u001b[39;49m\u001b[38;5;241;43m.\u001b[39;49m\u001b[43moptions\u001b[49m\u001b[38;5;241;43m.\u001b[39;49m\u001b[43mget\u001b[49m\u001b[43m(\u001b[49m\u001b[38;5;124;43m\"\u001b[39;49m\u001b[38;5;124;43mcompression\u001b[39;49m\u001b[38;5;124;43m\"\u001b[39;49m\u001b[43m,\u001b[49m\u001b[43m \u001b[49m\u001b[38;5;28;43;01mNone\u001b[39;49;00m\u001b[43m)\u001b[49m\u001b[43m,\u001b[49m\n\u001b[1;32m   1710\u001b[0m \u001b[43m    \u001b[49m\u001b[43mmemory_map\u001b[49m\u001b[38;5;241;43m=\u001b[39;49m\u001b[38;5;28;43mself\u001b[39;49m\u001b[38;5;241;43m.\u001b[39;49m\u001b[43moptions\u001b[49m\u001b[38;5;241;43m.\u001b[39;49m\u001b[43mget\u001b[49m\u001b[43m(\u001b[49m\u001b[38;5;124;43m\"\u001b[39;49m\u001b[38;5;124;43mmemory_map\u001b[39;49m\u001b[38;5;124;43m\"\u001b[39;49m\u001b[43m,\u001b[49m\u001b[43m \u001b[49m\u001b[38;5;28;43;01mFalse\u001b[39;49;00m\u001b[43m)\u001b[49m\u001b[43m,\u001b[49m\n\u001b[1;32m   1711\u001b[0m \u001b[43m    \u001b[49m\u001b[43mis_text\u001b[49m\u001b[38;5;241;43m=\u001b[39;49m\u001b[43mis_text\u001b[49m\u001b[43m,\u001b[49m\n\u001b[1;32m   1712\u001b[0m \u001b[43m    \u001b[49m\u001b[43merrors\u001b[49m\u001b[38;5;241;43m=\u001b[39;49m\u001b[38;5;28;43mself\u001b[39;49m\u001b[38;5;241;43m.\u001b[39;49m\u001b[43moptions\u001b[49m\u001b[38;5;241;43m.\u001b[39;49m\u001b[43mget\u001b[49m\u001b[43m(\u001b[49m\u001b[38;5;124;43m\"\u001b[39;49m\u001b[38;5;124;43mencoding_errors\u001b[39;49m\u001b[38;5;124;43m\"\u001b[39;49m\u001b[43m,\u001b[49m\u001b[43m \u001b[49m\u001b[38;5;124;43m\"\u001b[39;49m\u001b[38;5;124;43mstrict\u001b[39;49m\u001b[38;5;124;43m\"\u001b[39;49m\u001b[43m)\u001b[49m\u001b[43m,\u001b[49m\n\u001b[1;32m   1713\u001b[0m \u001b[43m    \u001b[49m\u001b[43mstorage_options\u001b[49m\u001b[38;5;241;43m=\u001b[39;49m\u001b[38;5;28;43mself\u001b[39;49m\u001b[38;5;241;43m.\u001b[39;49m\u001b[43moptions\u001b[49m\u001b[38;5;241;43m.\u001b[39;49m\u001b[43mget\u001b[49m\u001b[43m(\u001b[49m\u001b[38;5;124;43m\"\u001b[39;49m\u001b[38;5;124;43mstorage_options\u001b[39;49m\u001b[38;5;124;43m\"\u001b[39;49m\u001b[43m,\u001b[49m\u001b[43m \u001b[49m\u001b[38;5;28;43;01mNone\u001b[39;49;00m\u001b[43m)\u001b[49m\u001b[43m,\u001b[49m\n\u001b[1;32m   1714\u001b[0m \u001b[43m\u001b[49m\u001b[43m)\u001b[49m\n\u001b[1;32m   1715\u001b[0m \u001b[38;5;28;01massert\u001b[39;00m \u001b[38;5;28mself\u001b[39m\u001b[38;5;241m.\u001b[39mhandles \u001b[38;5;129;01mis\u001b[39;00m \u001b[38;5;129;01mnot\u001b[39;00m \u001b[38;5;28;01mNone\u001b[39;00m\n\u001b[1;32m   1716\u001b[0m f \u001b[38;5;241m=\u001b[39m \u001b[38;5;28mself\u001b[39m\u001b[38;5;241m.\u001b[39mhandles\u001b[38;5;241m.\u001b[39mhandle\n",
      "File \u001b[0;32m/opt/conda/lib/python3.10/site-packages/pandas/io/common.py:863\u001b[0m, in \u001b[0;36mget_handle\u001b[0;34m(path_or_buf, mode, encoding, compression, memory_map, is_text, errors, storage_options)\u001b[0m\n\u001b[1;32m    858\u001b[0m \u001b[38;5;28;01melif\u001b[39;00m \u001b[38;5;28misinstance\u001b[39m(handle, \u001b[38;5;28mstr\u001b[39m):\n\u001b[1;32m    859\u001b[0m     \u001b[38;5;66;03m# Check whether the filename is to be opened in binary mode.\u001b[39;00m\n\u001b[1;32m    860\u001b[0m     \u001b[38;5;66;03m# Binary mode does not support 'encoding' and 'newline'.\u001b[39;00m\n\u001b[1;32m    861\u001b[0m     \u001b[38;5;28;01mif\u001b[39;00m ioargs\u001b[38;5;241m.\u001b[39mencoding \u001b[38;5;129;01mand\u001b[39;00m \u001b[38;5;124m\"\u001b[39m\u001b[38;5;124mb\u001b[39m\u001b[38;5;124m\"\u001b[39m \u001b[38;5;129;01mnot\u001b[39;00m \u001b[38;5;129;01min\u001b[39;00m ioargs\u001b[38;5;241m.\u001b[39mmode:\n\u001b[1;32m    862\u001b[0m         \u001b[38;5;66;03m# Encoding\u001b[39;00m\n\u001b[0;32m--> 863\u001b[0m         handle \u001b[38;5;241m=\u001b[39m \u001b[38;5;28;43mopen\u001b[39;49m\u001b[43m(\u001b[49m\n\u001b[1;32m    864\u001b[0m \u001b[43m            \u001b[49m\u001b[43mhandle\u001b[49m\u001b[43m,\u001b[49m\n\u001b[1;32m    865\u001b[0m \u001b[43m            \u001b[49m\u001b[43mioargs\u001b[49m\u001b[38;5;241;43m.\u001b[39;49m\u001b[43mmode\u001b[49m\u001b[43m,\u001b[49m\n\u001b[1;32m    866\u001b[0m \u001b[43m            \u001b[49m\u001b[43mencoding\u001b[49m\u001b[38;5;241;43m=\u001b[39;49m\u001b[43mioargs\u001b[49m\u001b[38;5;241;43m.\u001b[39;49m\u001b[43mencoding\u001b[49m\u001b[43m,\u001b[49m\n\u001b[1;32m    867\u001b[0m \u001b[43m            \u001b[49m\u001b[43merrors\u001b[49m\u001b[38;5;241;43m=\u001b[39;49m\u001b[43merrors\u001b[49m\u001b[43m,\u001b[49m\n\u001b[1;32m    868\u001b[0m \u001b[43m            \u001b[49m\u001b[43mnewline\u001b[49m\u001b[38;5;241;43m=\u001b[39;49m\u001b[38;5;124;43m\"\u001b[39;49m\u001b[38;5;124;43m\"\u001b[39;49m\u001b[43m,\u001b[49m\n\u001b[1;32m    869\u001b[0m \u001b[43m        \u001b[49m\u001b[43m)\u001b[49m\n\u001b[1;32m    870\u001b[0m     \u001b[38;5;28;01melse\u001b[39;00m:\n\u001b[1;32m    871\u001b[0m         \u001b[38;5;66;03m# Binary mode\u001b[39;00m\n\u001b[1;32m    872\u001b[0m         handle \u001b[38;5;241m=\u001b[39m \u001b[38;5;28mopen\u001b[39m(handle, ioargs\u001b[38;5;241m.\u001b[39mmode)\n",
      "\u001b[0;31mFileNotFoundError\u001b[0m: [Errno 2] No such file or directory: 'rates_completo.csv'"
     ]
    }
   ],
   "source": [
    "df1=pd.read_csv('rates_completo.csv')"
   ]
  },
  {
   "cell_type": "code",
   "execution_count": null,
   "id": "d141e7de-7c02-41d6-984e-76f29a17a575",
   "metadata": {},
   "outputs": [],
   "source": [
    "df1.symbol.unique()"
   ]
  },
  {
   "cell_type": "code",
   "execution_count": null,
   "id": "24ab4a32-cf97-4f00-a2d1-cad3f1297cb4",
   "metadata": {},
   "outputs": [],
   "source": [
    "##WE FILTER DATA FOR MEXICO##"
   ]
  },
  {
   "cell_type": "code",
   "execution_count": null,
   "id": "f2e9f81d-1bf7-44a8-905a-a975c025a180",
   "metadata": {},
   "outputs": [],
   "source": [
    "df_mex=df1.loc[df1.symbol=='USDMXN']"
   ]
  },
  {
   "cell_type": "code",
   "execution_count": null,
   "id": "c73ec7a5-6ac9-401c-a67c-d60658282734",
   "metadata": {},
   "outputs": [],
   "source": [
    "##WE OBTAIN THE LAST VALUE OF THE EXCHANGE RATE OF EACH DAY ##"
   ]
  },
  {
   "cell_type": "code",
   "execution_count": null,
   "id": "a0f6c82e-0fce-4f35-8d66-e5524466ddc1",
   "metadata": {},
   "outputs": [],
   "source": [
    "import pandas as pd\n",
    "import matplotlib.pyplot as plt\n",
    "\n",
    "def get_closing_prices(data, start_date, end_date):\n",
    "    # Convert the 'FEED_DATE' column to datetime type if it is not already\n",
    "    data['feed_date'] = pd.to_datetime(data['feed_date'])\n",
    "\n",
    "    # Filter by date range\n",
    "    data_filtered = data[(data['feed_date'] >= start_date) & (data['feed_date'] <= end_date)]\n",
    "\n",
    "    # Sort by 'FEED_DATE' to ensure that the data is in chronological order\n",
    "    data_filtered = data_filtered.sort_values(by='feed_date')\n",
    "\n",
    "    # Group by 'SYMBOL' and 'FEED_DATE', taking the last value of 'FEED_PRICE'\n",
    "    data_grouped = data_filtered.groupby(['symbol', pd.Grouper(key='feed_date', freq='D')])['feed_price'].last().reset_index()\n",
    "\n",
    "    # Generate evolution plots for each SYMBOL\n",
    "    for symbol in data_grouped['symbol'].unique():\n",
    "        symbol_data = data_grouped[data_grouped['symbol'] == symbol]\n",
    "\n",
    "        plt.figure(figsize=(10, 6))\n",
    "        plt.plot(symbol_data['feed_date'], symbol_data['feed_price'], label=symbol)\n",
    "        plt.title(f'Closing prices evolution for {symbol}')\n",
    "        plt.xlabel('Date')\n",
    "        plt.ylabel('Closing Price')\n",
    "        plt.legend()\n",
    "        plt.show()\n",
    "\n",
    "    return data_grouped\n",
    "\n",
    "# Using the function\n",
    "# Suppose your DataFrame is named df\n",
    "# Adjust the dates according to your needs\n",
    "start_date = '2021-01-01'\n",
    "end_date = '2023-10-21'\n",
    "\n",
    "rates = get_closing_prices(df_mex, start_date, end_date)\n",
    "print(rates)"
   ]
  },
  {
   "cell_type": "code",
   "execution_count": null,
   "id": "17afaa52-a35c-4a8c-925c-8a3a34bea2f8",
   "metadata": {},
   "outputs": [],
   "source": [
    "rates.head(3)"
   ]
  },
  {
   "cell_type": "code",
   "execution_count": null,
   "id": "226ed2b5-a305-4b7e-bda7-12a444a03f20",
   "metadata": {},
   "outputs": [],
   "source": [
    "df2.info()"
   ]
  },
  {
   "cell_type": "code",
   "execution_count": null,
   "id": "e18ca588-6133-4415-8efa-dd9ea7da5b24",
   "metadata": {},
   "outputs": [],
   "source": [
    "df2.amount.sum()"
   ]
  },
  {
   "cell_type": "code",
   "execution_count": null,
   "id": "87608a5f-fe69-4a3e-b811-ed8987a1c941",
   "metadata": {},
   "outputs": [],
   "source": [
    "df2['date'] = pd.to_datetime(df2['date'])"
   ]
  },
  {
   "cell_type": "code",
   "execution_count": null,
   "id": "c0e62e46-ee83-4c36-b732-c5d2be099838",
   "metadata": {},
   "outputs": [],
   "source": [
    "##WE MERGE THE DATASETS TO HAVE TRADED AMOUNTS AND EXCHANGE RATES PER DAY##"
   ]
  },
  {
   "cell_type": "code",
   "execution_count": null,
   "id": "4a24b342-225a-43db-85e3-7da63b445790",
   "metadata": {},
   "outputs": [],
   "source": [
    "rates = rates.rename(columns={'feed_date': 'date'})\n",
    "rates['date'] = pd.to_datetime(rates['date'])\n",
    "\n",
    "rates.head()"
   ]
  },
  {
   "cell_type": "code",
   "execution_count": null,
   "id": "e35e02d0-c20f-49c3-85a6-5daaf05f6ac7",
   "metadata": {},
   "outputs": [],
   "source": [
    "###WE OBTAIN THE LAGS OF UP TO 7 DAYS FOR THE EXCHANGE RATE "
   ]
  },
  {
   "cell_type": "code",
   "execution_count": null,
   "id": "58b318a5-2775-4527-a3ea-dc42b98900e4",
   "metadata": {},
   "outputs": [],
   "source": [
    "for i in range(1, 8):\n",
    "        nombre_columna = f'feed_price_retardo_{i}'\n",
    "        rates[nombre_columna] = rates['feed_price'].shift(i)"
   ]
  },
  {
   "cell_type": "code",
   "execution_count": null,
   "id": "d70cbf3d-4c8b-43b8-a818-def683f48320",
   "metadata": {},
   "outputs": [],
   "source": [
    "rates.head(3)"
   ]
  },
  {
   "cell_type": "code",
   "execution_count": null,
   "id": "91c4defb-f1fa-4071-ad41-b067fc94efeb",
   "metadata": {},
   "outputs": [],
   "source": [
    "##FILTERING MEXICO##"
   ]
  },
  {
   "cell_type": "code",
   "execution_count": null,
   "id": "cd77eddb-494b-4743-a76b-15f30b8ce42d",
   "metadata": {},
   "outputs": [],
   "source": [
    "df_montos_mex=df2.loc[df2.country=='MEXICO']"
   ]
  },
  {
   "cell_type": "code",
   "execution_count": null,
   "id": "6a322a53-4d2b-4fc1-ad89-12b17e6125c2",
   "metadata": {},
   "outputs": [],
   "source": [
    "df_montos_mex.shape"
   ]
  },
  {
   "cell_type": "code",
   "execution_count": null,
   "id": "3cfdf07e-a7c5-4e95-9dca-3ea94541c353",
   "metadata": {},
   "outputs": [],
   "source": [
    "df_montos_mex.amount.sum()"
   ]
  },
  {
   "cell_type": "code",
   "execution_count": null,
   "id": "9cc6c1a8-253f-4e0f-a0b6-cbc6a99ff04d",
   "metadata": {},
   "outputs": [],
   "source": [
    "###WE MERGE THE RESULTING DATABASE WITH THE DATABASE OF RATES##"
   ]
  },
  {
   "cell_type": "code",
   "execution_count": null,
   "id": "294c7d0e-6fbc-4a99-aba7-2e743630fef8",
   "metadata": {},
   "outputs": [],
   "source": [
    "df_final=pd.merge(df_montos_mex, rates, on='date', how='left')"
   ]
  },
  {
   "cell_type": "code",
   "execution_count": null,
   "id": "9d538b76-18be-42a0-8f8a-db3d2fc167a0",
   "metadata": {},
   "outputs": [],
   "source": [
    "df_final.head(3)"
   ]
  },
  {
   "cell_type": "code",
   "execution_count": null,
   "id": "379bc21e-7ce6-4d2d-af98-ed6b00a47157",
   "metadata": {},
   "outputs": [],
   "source": [
    "##AS PART OF A PILOT TEST WE WILL ONLY WORK WITH ONE PAYER, AND THEN WE WILL GENERALIZE THE ROUTINE##\n",
    "## WE WILL NOW FIT A MODEL WITH LAGS OF THE EXCHANGE RATE (SARIMAX) TO SEE IF IT PERFORMS BETTER THAN THE SIMPLE ARIMA MODEL.\n",
    "##WE START WITH ELEKTRA AND THE CASE WITHOUT EXOGENOUS VARIABLES ##\n",
    "df_pilot=df_final.loc[df_final.payer=='ELEKTRA (MEXICO)']\n",
    "df_pilot.shape"
   ]
  },
  {
   "cell_type": "code",
   "execution_count": null,
   "id": "b4ecfee2-5ea9-4d09-94a1-8461bf982bf0",
   "metadata": {},
   "outputs": [],
   "source": [
    "##SALES EVOLUTION GRAPH"
   ]
  },
  {
   "cell_type": "code",
   "execution_count": null,
   "id": "768c7506-a3be-441c-8541-61c368a2ec02",
   "metadata": {},
   "outputs": [],
   "source": [
    "ax = df_pilot.set_index('date').plot(figsize=(24, 8))\n",
    "ax.set_ylabel('daily sales-ELEKTRA-(MEXICO)-')\n",
    "ax.set_xlabel('day')\n",
    "plt.show()"
   ]
  },
  {
   "cell_type": "code",
   "execution_count": null,
   "id": "57d0b71f-220b-4a18-9595-ff072fadf5ce",
   "metadata": {},
   "outputs": [],
   "source": [
    "##TIME SERIES FORMAT\n",
    "data = df_pilot\n",
    "data.dtypes #day object\n",
    "data['date'] = pd.DatetimeIndex(data['date'])\n",
    "df_pilot.dtypes   # datetime64[ns]\n",
    "\n",
    "data.index  #RangeIndex()\n",
    "data = data.set_index('date')"
   ]
  },
  {
   "cell_type": "code",
   "execution_count": null,
   "id": "9d4de82b-3fea-4ab3-98b7-82adbe7362ae",
   "metadata": {},
   "outputs": [],
   "source": [
    "##WE ELIMINATE STRING VARIABLES AND OTHER VARIABLES##\n",
    "data=data.loc[:,['amount']]"
   ]
  },
  {
   "cell_type": "code",
   "execution_count": null,
   "id": "67436f5d-bb2a-4ef3-8969-7635bce7ef7c",
   "metadata": {},
   "outputs": [],
   "source": [
    "data = data.sort_values(by='date')"
   ]
  },
  {
   "cell_type": "code",
   "execution_count": null,
   "id": "305b178a-9afc-4509-9446-9847fba2825f",
   "metadata": {},
   "outputs": [],
   "source": [
    "data.head(3)"
   ]
  },
  {
   "cell_type": "code",
   "execution_count": null,
   "id": "cf190847-dd4e-461c-96c6-c4f393a816a5",
   "metadata": {},
   "outputs": [],
   "source": [
    "##WE DECOMPOSE THE SERIES INTO TREND, SEASONALITY AND RESIDUALS"
   ]
  },
  {
   "cell_type": "code",
   "execution_count": null,
   "id": "ef312bb0-36e2-4244-8eb5-37b2ad15db2e",
   "metadata": {},
   "outputs": [],
   "source": [
    "import statsmodels.api as sm\n",
    "from pylab import rcParams\n",
    "rcParams['figure.figsize'] = 18, 8\n",
    "decomposition = sm.tsa.seasonal_decompose(data, model='additive', period=None) #multiplicative, additive\n",
    "fig = decomposition.plot()\n",
    "plt.show()"
   ]
  },
  {
   "cell_type": "code",
   "execution_count": null,
   "id": "a9d4809c-4bcb-4d62-9dd6-bc1e16c2fd19",
   "metadata": {},
   "outputs": [],
   "source": [
    "##STATIONARITY TESTS AUTOCORRELATION GRAPHS\n",
    "##NON-STATIONARY SERIES##\n",
    "##The null hypothesis of the Augmented Dickey-Fuller is that there is a unit root, with the alternative that there is no unit root. \n",
    "##If the pvalue is above a critical size, then we cannot reject that there is a unit root.\n",
    "##In this case (ELEKTRA MÉXICO) we check that the series is non-stationary (0.58>0.05)"
   ]
  },
  {
   "cell_type": "code",
   "execution_count": null,
   "id": "42357e77-d33a-4165-80dc-bc0f14bb2649",
   "metadata": {},
   "outputs": [],
   "source": [
    "import pandas as pd\n",
    "import matplotlib.pyplot as plt\n",
    "\n",
    "from statsmodels.graphics.tsaplots import plot_acf\n",
    "from statsmodels.tsa.stattools import adfuller\n",
    "\n",
    "result = adfuller(data[\"amount\"])\n",
    "print('ADF Statistic: %f' % result[0])\n",
    "print('p-value: %f' % result[1])\n",
    "print('Critical Values:')\n",
    "for key, value in result[4].items():\n",
    "\tprint('\\t%s: %.3f' % (key, value))\n",
    "\n",
    "plot_acf(data)\n",
    "plt.show()"
   ]
  },
  {
   "cell_type": "code",
   "execution_count": null,
   "id": "099dc1f0-3f5c-4fc3-a846-978c6da896ac",
   "metadata": {},
   "outputs": [],
   "source": [
    "##PARTIAL AUTOCORRELATION##\n",
    "##CORRELATION IN SALES AT TIME K AND K-NLAGS BACKWARDS\n",
    "##EVEN LAG 14 SEEMS TO EXPLAIN TODAY'S AMOUNT (ELEKTRA CASE).\n",
    "from statsmodels.graphics.tsaplots import plot_pacf"
   ]
  },
  {
   "cell_type": "code",
   "execution_count": null,
   "id": "553842f2-69e0-409b-850c-23d797734b2e",
   "metadata": {},
   "outputs": [],
   "source": [
    "##ARIMA PARAMETER SEARCH##"
   ]
  },
  {
   "cell_type": "code",
   "execution_count": null,
   "id": "94d172d2-4bdc-4169-8cc9-fddfd4f52178",
   "metadata": {},
   "outputs": [],
   "source": [
    "##SPLIT THE DATABASE INTO TRAIN AND TEST (WITH THE DATABASE SORTED TEMPORALLY)##"
   ]
  },
  {
   "cell_type": "code",
   "execution_count": null,
   "id": "d3f688d9-deaa-483c-ab99-a9a2832ca2d3",
   "metadata": {},
   "outputs": [],
   "source": [
    "traindata = data[0:800] #data[0:800]\n",
    "traindata.index"
   ]
  },
  {
   "cell_type": "code",
   "execution_count": null,
   "id": "726cac1b-72d8-40c2-9153-821e9ceaaaaa",
   "metadata": {},
   "outputs": [],
   "source": [
    "testdata = data[801:1025] #data[801:1025]\n",
    "testdata.index"
   ]
  },
  {
   "cell_type": "code",
   "execution_count": null,
   "id": "c5946186-df82-4137-8b62-b2f2c46fad5b",
   "metadata": {},
   "outputs": [],
   "source": [
    "traindata.shape, testdata.shape"
   ]
  },
  {
   "cell_type": "code",
   "execution_count": null,
   "id": "66133c29-e6f5-45d9-95fb-f8f51772f194",
   "metadata": {},
   "outputs": [],
   "source": [
    "##WE INSTALL A TIME SERIES LIBRARY THAT HELPS US TO SELECT THE BEST ARIMA MODEL AUTOMATICALLY##\n",
    "!pip install pmdarima"
   ]
  },
  {
   "cell_type": "code",
   "execution_count": null,
   "id": "100bfc46-98de-46d2-869b-c2e0216019ee",
   "metadata": {},
   "outputs": [],
   "source": [
    "##WE APPLY THE AUTOARIMA MODULE THAT SELECTS THE BEST MODEL FROM AMONG SEVERAL CANDIDATES\n",
    "## BASED ON THE AUTOCORRELATION GRAPH, WE OBSERVE THAT VALUES OF UP TO 14 LAGS CAN AFFECT TODAY'S AMOUNT. WHICH IMPLIES P AND Q MAX=14 (ALWAYS TAKE CARE OF MODEL PARSIMONY)."
   ]
  },
  {
   "cell_type": "code",
   "execution_count": null,
   "id": "d51ef065-738d-41d8-80d7-fe2aea0b57a3",
   "metadata": {},
   "outputs": [],
   "source": [
    "# Import the library, require install and restart, uncomment to use\n",
    "from pmdarima import auto_arima \n",
    "\n",
    "# Ignore harmless warnings \n",
    "import warnings \n",
    "warnings.filterwarnings(\"ignore\") \n",
    "  \n",
    "# Fit auto_arima function  dataset \n",
    "# Adjusts the best arima model by looking for the one that minimizes the Akaike criterion (AIC)\n",
    "stepwise_fit = auto_arima(traindata['amount'], start_p = 1, start_q = 1, \n",
    "                          max_p = 14, max_q = 14, m = 7 , \n",
    "                          start_P = 0, seasonal = True, \n",
    "                          d = None, D = 1, trace = True, \n",
    "                          error_action ='ignore',   # we don't want to know if an order does not work \n",
    "                          suppress_warnings = True,  # we don't want convergence warnings \n",
    "                          stepwise = True)           # set to stepwise \n",
    "#p:The order of the auto-regressive (AR) model (i.e., the number of lag observations). A time series is considered AR when previous values in the time series are very predictive of later values.\n",
    "#d:The degree of differencing.\n",
    "#q:The order of the moving average (MA) model. This is essentially the size of the “window” function over your time series data. An MA process is a linear combination of past errors.\n",
    "\n",
    "# To print the summary \n",
    "stepwise_fit.summary() "
   ]
  },
  {
   "cell_type": "code",
   "execution_count": null,
   "id": "84fd456c-41ff-4024-921d-cef60041a504",
   "metadata": {},
   "outputs": [],
   "source": [
    "##IGNORE THIS CELL FOR NOW\n",
    "# Manual grid search\n",
    "import itertools\n",
    "q = d = range(0, 2)\n",
    "p=range(0, 3)\n",
    "pdq = list(itertools.product(p, d, q))\n",
    "seasonal_pdq = [(x[0], x[1], x[2], 7) for x in list(itertools.product(p, d, q))]\n",
    "print('Examples of parameter combinations for Seasonal ARIMA...')\n",
    "print('SARIMAX: {} x {}'.format(pdq[1], seasonal_pdq[1]))\n",
    "print('SARIMAX: {} x {}'.format(pdq[1], seasonal_pdq[2]))\n",
    "print('SARIMAX: {} x {}'.format(pdq[2], seasonal_pdq[3]))\n",
    "print('SARIMAX: {} x {}'.format(pdq[2], seasonal_pdq[4]))"
   ]
  },
  {
   "cell_type": "code",
   "execution_count": null,
   "id": "8c9168b0-cde7-4cc5-b07b-e124c1070208",
   "metadata": {},
   "outputs": [],
   "source": [
    "##WE ASSIGN A TIME INDEX \n",
    "traindata.index = pd.DatetimeIndex(traindata.index.values,\n",
    "                               freq=traindata.index.inferred_freq)"
   ]
  },
  {
   "cell_type": "code",
   "execution_count": null,
   "id": "fb1bc9e9-6877-4c45-a4cd-227f3f65f61b",
   "metadata": {},
   "outputs": [],
   "source": [
    "##WE ESTIMATE THE BEST MODEL SUGGESTED BY AUTO_ARIMA WITH THE SARIMAX MODULE (P=4,I=0,Q=0) (p=2,i=1,q=2,7-seven to indicate weekly seasonality-)\n",
    "## FURTHERMORE, ADDITIONAL ESTIMATION CONTROLS ARE PRESENTED.\n",
    "mod = sm.tsa.statespace.SARIMAX(traindata['amount'],  \n",
    "                order = (4, 0, 0),  \n",
    "                seasonal_order =(2, 1, 2, 7))  \n",
    "\n",
    "results = mod.fit()\n",
    "print(results.summary().tables[1])"
   ]
  },
  {
   "cell_type": "code",
   "execution_count": null,
   "id": "2e078be0-a451-4c10-932a-ffbd651dd8ac",
   "metadata": {},
   "outputs": [],
   "source": [
    "###NOTE THAT THERE ARE SOME DAYS WITH STRONG DEVIATIONS (DEC. 25, JAN. 1)\n",
    "results.plot_diagnostics(figsize=(16, 8))\n",
    "plt.show()"
   ]
  },
  {
   "cell_type": "code",
   "execution_count": null,
   "id": "bb1d9246-6537-46ca-9d87-b47dbef589b5",
   "metadata": {},
   "outputs": [],
   "source": [
    "##WE NOW GENERATE THE FORECAST WITH THE ESTIMATED MODEL WITH THE TEST DATASET\n",
    "pred = results.get_prediction(start=pd.to_datetime('2023-03-12'),end=pd.to_datetime('2023-03-30'), dynamic=False)\n",
    "pred_test = pred.conf_int()\n",
    "res = pred.predicted_mean\n",
    "pred_test[\"result\"] = pred.predicted_mean\n",
    "pred_test[\"y\"] = testdata\n",
    "print(\"pred_test:\\n\", pred_test)"
   ]
  },
  {
   "cell_type": "code",
   "execution_count": null,
   "id": "19601e8e-62d1-4def-86d8-d15e7870428e",
   "metadata": {},
   "outputs": [],
   "source": [
    "#FORECAST PERFORMANCE\n",
    "##DEFINITIONS:\n",
    "##The MAPE measures the average percentage error between predictions and actual values.\n",
    "##The MAE is the arithmetic mean of the absolute errors between predictions and actual values.\n",
    "##The RMSE measures the root mean square of the root mean square errors between predictions and actual values.\n",
    "import numpy as np\n",
    "pred_test[\"ae\"] = abs(pred_test[\"y\"]-pred_test[\"result\"])\n",
    "mae = pred_test[\"ae\"].mean() \n",
    "print(\"mae:\", mae)\n",
    "mse = ((pred_test[\"y\"]-pred_test[\"result\"])**2).mean()\n",
    "rmse = np.sqrt(mse)\n",
    "print(\"rmse:\", rmse)\n",
    "\n",
    "pred_test[\"pe\"] = abs((pred_test[\"y\"]-pred_test[\"result\"]) / pred_test[\"y\"])\n",
    "mape = pred_test[\"pe\"].mean() \n",
    "print(\"mape:\", mape)"
   ]
  },
  {
   "cell_type": "code",
   "execution_count": null,
   "id": "9889f2a1-50c1-4982-89df-a837a36a5715",
   "metadata": {},
   "outputs": [],
   "source": [
    "##MAPE=6.25% CON MODELO BASE SIN EXÓGENAS##"
   ]
  },
  {
   "cell_type": "code",
   "execution_count": null,
   "id": "c773d65f-30ab-42f2-9144-8b5e603133c9",
   "metadata": {},
   "outputs": [],
   "source": [
    "###GENERATE THE CONFIDENCE BANDS OF THE ESTIMATES (LOWER AND UPPER LIMIT) AND PLOT THE PREDICTED VALUE VS. THE ACTUAL VALUE\n",
    "\n",
    "pred_ci = pred.conf_int()\n",
    "\n",
    "#print(\"conf_int:\", pred_ci)\n",
    "#print(\"mean:\", pred.predicted_mean)\n",
    "p = pred.predicted_mean\n",
    "\n",
    "ax = testdata.plot(label='observed')\n",
    "#ax = traindata.plot(label='observed')\n",
    "pred.predicted_mean.plot(ax=ax, label='One-step ahead Forecast', alpha=.7, figsize=(14, 7))\n",
    "\n",
    "ax.fill_between(pred_ci.index,\n",
    "                pred_ci.iloc[:, 0],\n",
    "                pred_ci.iloc[:, 1], color='k', alpha=.2)\n",
    "\n",
    "ax.set_xlabel('Date')\n",
    "ax.set_ylabel('Amount')\n",
    "plt.legend()\n",
    "\n",
    "plt.show()"
   ]
  },
  {
   "cell_type": "code",
   "execution_count": null,
   "id": "587ec36c-8e91-418a-a28d-02a62dd67fe9",
   "metadata": {},
   "outputs": [],
   "source": [
    "##WE NOW INCORPORATE THE EXCHANGE RATE LAGS AS PREDICTORS OF THE EXCHANGE RATE##"
   ]
  },
  {
   "cell_type": "code",
   "execution_count": null,
   "id": "9680cf4f-b93e-4c98-b326-3ebe04804007",
   "metadata": {},
   "outputs": [],
   "source": [
    "##TIME SERIES FORMAT\n",
    "data2 = df_pilot\n",
    "data2.dtypes #day object\n",
    "data2['date'] = pd.DatetimeIndex(data2['date'])\n",
    "df_pilot.dtypes   #Month datetime64[ns]\n",
    "\n",
    "data2.index  #RangeIndex()\n",
    "data2 = data2.set_index('date')"
   ]
  },
  {
   "cell_type": "code",
   "execution_count": null,
   "id": "b3afc9eb-acf8-480f-8a57-6f1473d03d8d",
   "metadata": {},
   "outputs": [],
   "source": [
    "##WE ELIMINATE STRING VARIABLES##\n",
    "data2=data2.loc[:,['amount', 'feed_price_retardo_1', 'feed_price_retardo_2', 'feed_price_retardo_3', 'feed_price_retardo_4', 'feed_price_retardo_5', 'feed_price_retardo_6', 'feed_price_retardo_7']]"
   ]
  },
  {
   "cell_type": "code",
   "execution_count": null,
   "id": "ba932497-f252-4e0a-b95d-dff2c57f4c02",
   "metadata": {},
   "outputs": [],
   "source": [
    "data2 = data2.sort_values(by='date')"
   ]
  },
  {
   "cell_type": "code",
   "execution_count": null,
   "id": "ef14b5e6-959b-4356-95c6-6d6ff16891f5",
   "metadata": {},
   "outputs": [],
   "source": [
    "##SARIMAX PARAMETER SEARCH##"
   ]
  },
  {
   "cell_type": "code",
   "execution_count": null,
   "id": "2c9932ae-5a6f-423b-899c-a2e3eeb55775",
   "metadata": {},
   "outputs": [],
   "source": [
    "traindata2 = data2[0:800] #data[0:800]\n",
    "traindata2=traindata2.loc[:,['amount', 'feed_price_retardo_1', 'feed_price_retardo_2', 'feed_price_retardo_3', 'feed_price_retardo_4', 'feed_price_retardo_5', 'feed_price_retardo_6', 'feed_price_retardo_7']]\n",
    "traindata2.index"
   ]
  },
  {
   "cell_type": "code",
   "execution_count": null,
   "id": "da6c5a57-f07e-4c46-a221-758929b05102",
   "metadata": {},
   "outputs": [],
   "source": [
    "testdata2 = data2[800:1025] #data[801:1025]\n",
    "testdata2=testdata2.loc[:,['amount', 'feed_price_retardo_1','feed_price_retardo_2', 'feed_price_retardo_3', 'feed_price_retardo_4', 'feed_price_retardo_5', 'feed_price_retardo_6', 'feed_price_retardo_7']]\n",
    "testdata2.index\n"
   ]
  },
  {
   "cell_type": "code",
   "execution_count": null,
   "id": "44542368-41cc-4551-8bbe-3c02f94b79bf",
   "metadata": {},
   "outputs": [],
   "source": [
    "traindata2.shape, testdata2.shape"
   ]
  },
  {
   "cell_type": "code",
   "execution_count": null,
   "id": "3b203249-d036-494f-ba82-e64703ea9c51",
   "metadata": {},
   "outputs": [],
   "source": [
    "##WE TRY ANOTHER LIBRARY THAT DOES NOT HAVE PROBLEMS IN ADOPTING EXOGENOUS VARIABLES ##\n",
    "\n",
    "###CLAVE: VER COMO ENTRENAR EL MODELO CON VARS EXOGENAS, NOTAR QUE ARRIBA SE LO ENTRENA CON AUTOARIMA (PROBLEMA, AUTOARIMA NO CAPTA POR ALGUNA RAZON LAS EXOGENAS)\n",
    "\n",
    "import statsmodels.api as sm\n",
    "\n",
    "###WE IMPUTE THE MISSING VALUES THAT GENERATE THE DIFFERENCES WITH SUBSEQUENT VALUES CLOSE IN TIME\n",
    "\n",
    "traindata2=traindata2.fillna(method='bfill')\n",
    "testdata2=testdata2.fillna(method='bfill')\n",
    "traindata2=traindata2.fillna(method='ffill')\n",
    "testdata2=testdata2.fillna(method='ffill')\n",
    "exog=['feed_price_retardo_1','feed_price_retardo_2', 'feed_price_retardo_3', 'feed_price_retardo_4', 'feed_price_retardo_5', 'feed_price_retardo_6', 'feed_price_retardo_7']\n",
    "mod = sm.tsa.SARIMAX(traindata2[['amount']], order=(1,0,0), seasonal_order =(2, 1, 2, 7), exog=traindata2[exog])\n",
    "res = mod.fit(maxiter=1000, disp=False)\n",
    "print(res.summary())"
   ]
  },
  {
   "cell_type": "code",
   "execution_count": null,
   "id": "04e99a6a-ad56-42df-a4fd-f17afd9df58d",
   "metadata": {},
   "outputs": [],
   "source": [
    "testdata2.tail()"
   ]
  },
  {
   "cell_type": "code",
   "execution_count": null,
   "id": "d0e45269-9b5a-47ac-9ff4-3738973985a7",
   "metadata": {},
   "outputs": [],
   "source": [
    "res.plot_diagnostics(figsize=(16, 8))\n",
    "plt.show()"
   ]
  },
  {
   "cell_type": "code",
   "execution_count": null,
   "id": "3e18139a-388f-4145-b38e-1496a92ebc2d",
   "metadata": {},
   "outputs": [],
   "source": [
    "testdata2=testdata2[0:20]\n",
    "pred2 = res.get_prediction(start=pd.to_datetime('2023-03-12'),end=pd.to_datetime('2023-03-30'), dynamic=False, exog=testdata2[exog])\n",
    "pred_test2 = pred2.conf_int()\n",
    "res2 = pred2.predicted_mean\n",
    "pred_test2[\"result\"] = pred2.predicted_mean\n",
    "pred_test2[\"y\"] = testdata2['amount']\n",
    "print(\"pred_test2:\\n\", pred_test2)"
   ]
  },
  {
   "cell_type": "code",
   "execution_count": null,
   "id": "8ee95217-0afa-4ddc-8305-41024198fb19",
   "metadata": {},
   "outputs": [],
   "source": [
    "#FORECAST PERFORMANCE\n",
    "##DEFINITIONS:\n",
    "##The MAPE measures the average percentage error between predictions and actual values.\n",
    "##The MAE is the arithmetic mean of the absolute errors between predictions and actual values.\n",
    "##The RMSE measures the root mean square of the root mean square errors between predictions and actual values.\n",
    "import numpy as np\n",
    "pred_test2[\"ae\"] = abs(pred_test2[\"y\"]-pred_test2[\"result\"])\n",
    "mae = pred_test2[\"ae\"].mean() \n",
    "print(\"mae:\", mae)\n",
    "mse = ((pred_test2[\"y\"]-pred_test2[\"result\"])**2).mean()\n",
    "rmse = np.sqrt(mse)\n",
    "print(\"rmse:\", rmse)\n",
    "\n",
    "pred_test2[\"pe\"] = abs((pred_test2[\"y\"]-pred_test2[\"result\"]) / pred_test2[\"y\"])\n",
    "mape = pred_test2[\"pe\"].mean() \n",
    "print(\"mape:\", mape)"
   ]
  },
  {
   "cell_type": "code",
   "execution_count": null,
   "id": "5d8d09f5-0f69-42e0-ae37-3704f3796657",
   "metadata": {},
   "outputs": [],
   "source": [
    "pred_ci2 = pred2.conf_int()\n",
    "\n",
    "#print(\"conf_int:\", pred_ci)\n",
    "#print(\"mean:\", pred.predicted_mean)\n",
    "p = pred2.predicted_mean\n",
    "\n",
    "ax = testdata2.plot(label='observed')\n",
    "#ax = traindata.plot(label='observed')\n",
    "pred2.predicted_mean.plot(ax=ax, label='One-step ahead Forecast', alpha=.7, figsize=(14, 7))\n",
    "\n",
    "ax.fill_between(pred_ci2.index,\n",
    "                pred_ci2.iloc[:, 0],\n",
    "                pred_ci2.iloc[:, 1], color='k', alpha=.2)\n",
    "\n",
    "ax.set_xlabel('Date')\n",
    "ax.set_ylabel('Amount')\n",
    "plt.legend()\n",
    "\n",
    "plt.show()"
   ]
  },
  {
   "cell_type": "code",
   "execution_count": null,
   "id": "bed72869-1e41-4488-932f-989ef4389f6f",
   "metadata": {},
   "outputs": [],
   "source": [
    "##SAME APPROACH BUT WORKING WITH DAILY EXCHANGE RATE DIFFERENCES"
   ]
  },
  {
   "cell_type": "code",
   "execution_count": null,
   "id": "979ee673-2fd6-4416-bd60-62f559f11b5e",
   "metadata": {},
   "outputs": [],
   "source": [
    "data3=data2.copy()"
   ]
  },
  {
   "cell_type": "code",
   "execution_count": null,
   "id": "6a1348f8-e70d-47ed-883e-b11eb61adee8",
   "metadata": {},
   "outputs": [],
   "source": [
    "data3=data3.fillna(method='bfill')\n",
    "data3=data3.fillna(method='ffill')"
   ]
  },
  {
   "cell_type": "code",
   "execution_count": null,
   "id": "6f745dc3-46c8-4905-b9cc-1c716088e014",
   "metadata": {},
   "outputs": [],
   "source": [
    "data3['var_rate_lag1']=data3.feed_price_retardo_1-data3.feed_price_retardo_2\n",
    "data3['var_rate_lag2']=data3.feed_price_retardo_2-data3.feed_price_retardo_3\n",
    "data3['var_rate_lag3']=data3.feed_price_retardo_3-data3.feed_price_retardo_4\n",
    "data3['var_rate_lag4']=data3.feed_price_retardo_4-data3.feed_price_retardo_5\n",
    "data3['var_rate_lag5']=data3.feed_price_retardo_5-data3.feed_price_retardo_6\n",
    "data3['var_rate_lag6']=data3.feed_price_retardo_6-data3.feed_price_retardo_7\n",
    "data3.tail(2)"
   ]
  },
  {
   "cell_type": "code",
   "execution_count": null,
   "id": "9aba5817-69f1-4a42-9e87-2ba6cf662a89",
   "metadata": {},
   "outputs": [],
   "source": [
    "##WE ELIMINATE SOME VARIABLES##\n",
    "data3=data3.loc[:,['amount', 'var_rate_lag1', 'var_rate_lag2', 'var_rate_lag3', 'var_rate_lag4', 'var_rate_lag5', 'var_rate_lag6']]\n",
    "data3.tail()"
   ]
  },
  {
   "cell_type": "code",
   "execution_count": null,
   "id": "70b800d7-a488-41be-a23f-1f121ce93277",
   "metadata": {},
   "outputs": [],
   "source": [
    "##SARIMAX PARAMETER SEARCH##"
   ]
  },
  {
   "cell_type": "code",
   "execution_count": null,
   "id": "b1fa54ad-bc97-4977-8b25-81ef58e91713",
   "metadata": {},
   "outputs": [],
   "source": [
    "traindata3 = data3[0:801] #data[0:800]\n",
    "traindata3.index"
   ]
  },
  {
   "cell_type": "code",
   "execution_count": null,
   "id": "2bfc7f4b-a447-4dd7-8ffb-1703fc7d1158",
   "metadata": {},
   "outputs": [],
   "source": [
    "testdata3 = data3[801:1025] #data[801:1025]\n",
    "testdata3.index"
   ]
  },
  {
   "cell_type": "code",
   "execution_count": null,
   "id": "2a92af61-7c87-415c-8501-fc3314f36341",
   "metadata": {},
   "outputs": [],
   "source": [
    "traindata3.shape, testdata3.shape"
   ]
  },
  {
   "cell_type": "code",
   "execution_count": null,
   "id": "1060a91b-34a1-4a6f-b300-b7cd56250370",
   "metadata": {},
   "outputs": [],
   "source": [
    "##WE TRY ANOTHER LIBRARY THAT DOES NOT HAVE PROBLEMS IN ADOPTING EXOGENOUS VARIABLES ##\n",
    "\n",
    "###CLAVE: VER COMO ENTRENAR EL MODELO CON VARS EXOGENAS, NOTAR QUE ARRIBA SE LO ENTRENA CON AUTOARIMA (PROBLEMA, AUTOARIMA NO CAPTA POR ALGUNA RAZON LAS EXOGENAS)\n",
    "\n",
    "import statsmodels.api as sm\n",
    "\n",
    "###WE IMPUTE THE MISSING VALUES THAT GENERATE THE DIFFERENCES WITH SUBSEQUENT VALUES CLOSE IN TIME\n",
    "\n",
    "exog3=['var_rate_lag1', 'var_rate_lag2', 'var_rate_lag3', 'var_rate_lag4', 'var_rate_lag5', 'var_rate_lag6']\n",
    "mod2 = sm.tsa.SARIMAX(traindata3[['amount']], order=(1,0,0), seasonal_order =(2, 1, 2, 7), exog=traindata3[exog3])\n",
    "res2 = mod2.fit(maxiter=1000, disp=False)\n",
    "print(res2.summary())"
   ]
  },
  {
   "cell_type": "code",
   "execution_count": null,
   "id": "5ee26605-8f37-49f9-9882-f5a4fa84cf17",
   "metadata": {},
   "outputs": [],
   "source": [
    "res2.plot_diagnostics(figsize=(16, 8))\n",
    "plt.show()"
   ]
  },
  {
   "cell_type": "code",
   "execution_count": null,
   "id": "c5690194-4ed1-429c-8448-90864ab28ddd",
   "metadata": {},
   "outputs": [],
   "source": [
    "testdata3=testdata3[0:20]\n",
    "pred3 = res2.get_prediction(start=pd.to_datetime('2023-03-12'),end=pd.to_datetime('2023-03-31'), dynamic=False, exog=testdata3[exog3])\n",
    "pred_test3 = pred3.conf_int()\n",
    "res2 = pred3.predicted_mean\n",
    "pred_test3[\"result\"] = pred3.predicted_mean\n",
    "pred_test3[\"y\"] = testdata3['amount']\n",
    "print(\"pred_test2:\\n\", pred_test3)"
   ]
  },
  {
   "cell_type": "code",
   "execution_count": null,
   "id": "e38f9e71-6ed8-470a-bf96-4065803d9d8b",
   "metadata": {},
   "outputs": [],
   "source": [
    "#FORECAST PERFORMANCE\n",
    "##DEFINITIONS:\n",
    "##The MAPE measures the average percentage error between predictions and actual values.\n",
    "##The MAE is the arithmetic mean of the absolute errors between predictions and actual values.\n",
    "##The RMSE measures the root mean square of the root mean square errors between predictions and actual values.\n",
    "import numpy as np\n",
    "pred_test3[\"ae\"] = abs(pred_test3[\"y\"]-pred_test3[\"result\"])\n",
    "mae = pred_test3[\"ae\"].mean() \n",
    "print(\"mae:\", mae)\n",
    "mse = ((pred_test3[\"y\"]-pred_test3[\"result\"])**2).mean()\n",
    "rmse = np.sqrt(mse)\n",
    "print(\"rmse:\", rmse)\n",
    "\n",
    "pred_test3[\"pe\"] = abs((pred_test3[\"y\"]-pred_test3[\"result\"]) / pred_test3[\"y\"])\n",
    "mape = pred_test3[\"pe\"].mean() \n",
    "print(\"mape:\", mape)"
   ]
  },
  {
   "cell_type": "code",
   "execution_count": null,
   "id": "2cb704e9-3c8a-4cad-af2d-5db6f5b36d42",
   "metadata": {},
   "outputs": [],
   "source": [
    "##MAPE BAJA DESDE 6.25% A 5.88% CON REZAGOS DE VARIACIONES DEL TIPO DE CAMBIO#\n",
    "## Y TENER EN CUENTA QUE AÚN NO ENCONTRAMOS LA FORMA DE ENTRENAR CON EXÓGENAS CON AUTOARIMA\n",
    "## VAMOS A ESTUDIAR LA LIBRERIA SKFORECAST QUE SUPUESTAMENTE PERMITE ENCONTRAR EL MEJOR MODELO CON AUTOARIMA Y EXOGENAS"
   ]
  },
  {
   "cell_type": "code",
   "execution_count": null,
   "id": "a5fe0c2b-08ce-47ef-9b7e-4c11f04be280",
   "metadata": {
    "tags": []
   },
   "outputs": [],
   "source": [
    "pred_ci3 = pred3.conf_int()\n",
    "\n",
    "#print(\"conf_int:\", pred_ci)\n",
    "#print(\"mean:\", pred.predicted_mean)\n",
    "p = pred3.predicted_mean\n",
    "\n",
    "ax = testdata3.plot(label='observed')\n",
    "#ax = traindata.plot(label='observed')\n",
    "pred3.predicted_mean.plot(ax=ax, label='One-step ahead Forecast', alpha=.7, figsize=(14, 7))\n",
    "\n",
    "ax.fill_between(pred_ci3.index,\n",
    "                pred_ci3.iloc[:, 0],\n",
    "                pred_ci3.iloc[:, 1], color='k', alpha=.2)\n",
    "\n",
    "ax.set_xlabel('Date')\n",
    "ax.set_ylabel('Amount')\n",
    "plt.legend()\n",
    "\n",
    "plt.show()"
   ]
  },
  {
   "cell_type": "code",
   "execution_count": null,
   "id": "5cc83bce-beb9-43c0-9b01-cf9c83cdf2e7",
   "metadata": {},
   "outputs": [],
   "source": [
    "###NOW WE TEST CANCELLATIONS###"
   ]
  },
  {
   "cell_type": "code",
   "execution_count": null,
   "id": "af13492e-2bc3-4b8c-afc9-df7999b554a6",
   "metadata": {
    "tags": []
   },
   "outputs": [],
   "source": [
    "# DB Setting\n",
    "bucket_name = 's3://viamericas-datalake-dev-us-east-1-283731589572-athena/'\n",
    "origin_name = 'AwsDataCatalog'\n",
    "database_name = 'viamericas'\n",
    "database_name2= 'analytics'\n",
    "table1_name = 'forex_feed_market'\n",
    "table2_name = 'daily_sales_count_cancelled_v2'##WE LOAD THE BASE WITH CANCELLATIONS"
   ]
  },
  {
   "cell_type": "code",
   "execution_count": null,
   "id": "2687570b-8d9b-4844-9a3a-5324c23c2582",
   "metadata": {
    "tags": []
   },
   "outputs": [],
   "source": [
    "#Connection\n",
    "conn = connect(s3_staging_dir=f'{bucket_name}queryresults/',\n",
    "               region_name='us-east-1')\n",
    "#df1 = pd.read_sql(f'SELECT * FROM {origin_name}.{database_name}.{table1_name};', conn)\n",
    "df3 = pd.read_sql(f'SELECT * FROM {origin_name}.{database_name2}.{table2_name};', conn)"
   ]
  },
  {
   "cell_type": "code",
   "execution_count": null,
   "id": "8cb84798-9be4-43ad-9b3d-98dd7c54d5cd",
   "metadata": {
    "tags": []
   },
   "outputs": [],
   "source": [
    "df3.shape"
   ]
  },
  {
   "cell_type": "code",
   "execution_count": null,
   "id": "bffc15a4-86f0-4940-893d-f29df7ccd26d",
   "metadata": {
    "tags": []
   },
   "outputs": [],
   "source": [
    "##WE NEED TO GO ONE STEP BACK, AND BEFORE GROUPING THE AMOUNT BY COUNTRY DATE AND PAYER, COUNT THE CANCELLATIONS (GENERATE THE TABLE IN ATHENA)"
   ]
  },
  {
   "cell_type": "code",
   "execution_count": null,
   "id": "6fe6e191-517d-4a5e-8527-4af8b24effc6",
   "metadata": {
    "tags": []
   },
   "outputs": [],
   "source": [
    "df3.head()"
   ]
  },
  {
   "cell_type": "code",
   "execution_count": null,
   "id": "f0d0d63e-6fe7-40ab-806b-2096ae1c92a3",
   "metadata": {
    "tags": []
   },
   "outputs": [],
   "source": []
  },
  {
   "cell_type": "code",
   "execution_count": null,
   "id": "c344b099-5e64-4b99-9141-f33143671b39",
   "metadata": {
    "tags": []
   },
   "outputs": [],
   "source": []
  },
  {
   "cell_type": "code",
   "execution_count": null,
   "id": "9d78cf4d-e088-46a3-af20-d4f4173c4e40",
   "metadata": {},
   "outputs": [],
   "source": []
  },
  {
   "cell_type": "code",
   "execution_count": null,
   "id": "57072379-0414-4692-95af-8e41218e6a97",
   "metadata": {},
   "outputs": [],
   "source": [
    "##FILTERING MEXICO##"
   ]
  },
  {
   "cell_type": "code",
   "execution_count": null,
   "id": "df4f05c5-1b7e-4a02-8adc-e43521b06cdd",
   "metadata": {
    "tags": []
   },
   "outputs": [],
   "source": [
    "df_montos_mex2=df3.loc[df3.country=='MEXICO']"
   ]
  },
  {
   "cell_type": "code",
   "execution_count": null,
   "id": "7fa52999-ad1f-4738-b79d-29251656ed92",
   "metadata": {
    "tags": []
   },
   "outputs": [],
   "source": [
    "df_montos_mex2.amount.sum()"
   ]
  },
  {
   "cell_type": "code",
   "execution_count": null,
   "id": "8b11afc8-2514-42ac-b3a3-8ab0b7c24f7a",
   "metadata": {
    "tags": []
   },
   "outputs": [],
   "source": [
    "##AS PART OF A PILOT TEST WE WILL ONLY WORK WITH ONE PAYER, AND THEN WE WILL GENERALIZE THE ROUTINE##\n",
    "## WE WILL NOW FIT A MODEL WITH LAGS OF THE CANCELLATIONS (SARIMAX) TO SEE IF IT PERFORMS BETTER THAN THE SIMPLE ARIMA MODEL.\n",
    "##WE START WITH ELEKTRA AND THE CASE WITHOUT EXOGENOUS VARIABLES ##\n",
    "df_pilot4=df_montos_mex2.loc[df_montos_mex2.payer=='ELEKTRA (MEXICO)']\n",
    "df_pilot4.shape"
   ]
  },
  {
   "cell_type": "code",
   "execution_count": null,
   "id": "7df1bb54-bb54-41dd-aea4-aaf3dfa44809",
   "metadata": {
    "tags": []
   },
   "outputs": [],
   "source": [
    "ax = df_pilot4.set_index('date').plot(figsize=(24, 8))\n",
    "ax.set_ylabel('daily sales-ELEKTRA-(MEXICO)-')\n",
    "ax.set_xlabel('day')\n",
    "plt.show()"
   ]
  },
  {
   "cell_type": "code",
   "execution_count": null,
   "id": "be7dacab-d17e-4f44-9fc5-79a3d9b1664f",
   "metadata": {
    "tags": []
   },
   "outputs": [],
   "source": [
    "##TIME SERIES FORMAT\n",
    "data = df_pilot4\n",
    "data.dtypes #day object\n",
    "data['date'] = pd.DatetimeIndex(data['date'])\n",
    "df_pilot.dtypes   # datetime64[ns]\n",
    "\n",
    "data.index  #RangeIndex()\n",
    "data = data.set_index('date')"
   ]
  },
  {
   "cell_type": "code",
   "execution_count": null,
   "id": "a428b411-b2c6-4d13-8637-aa6cfcec5ca6",
   "metadata": {
    "tags": []
   },
   "outputs": [],
   "source": [
    "data = data.sort_values(by='date')\n",
    "data.head()"
   ]
  },
  {
   "cell_type": "code",
   "execution_count": null,
   "id": "31c73c21-7eb3-44f0-8e56-fe8617021f31",
   "metadata": {
    "tags": []
   },
   "outputs": [],
   "source": [
    "\n",
    "plt.figure(figsize=(10, 6))\n",
    "plt.plot(data.index, data['tx_cancelled'], linestyle='-', color='b')\n",
    "\n",
    "plt.title('Evolución de tx_cancelled a lo largo del tiempo')\n",
    "plt.xlabel('Fecha')\n",
    "plt.ylabel('tx_cancelled')\n",
    "plt.grid(True)\n",
    "plt.show()"
   ]
  },
  {
   "cell_type": "code",
   "execution_count": null,
   "id": "dcc7fcb2-069e-4cc8-aac4-3ff12ed031ad",
   "metadata": {
    "tags": []
   },
   "outputs": [],
   "source": [
    "for i in range(1, 8):\n",
    "        nombre_columna = f'tx_cancelled_{i}'\n",
    "        data[nombre_columna] = data['tx_cancelled'].shift(i)"
   ]
  },
  {
   "cell_type": "code",
   "execution_count": null,
   "id": "dc324764-b783-46ff-9850-e69b8bc9ba01",
   "metadata": {
    "tags": []
   },
   "outputs": [],
   "source": [
    "##WE ELIMINATE STRING VARIABLES AND OTHER VARIABLES##\n",
    "##WE ELIMINATE STRING VARIABLES##\n",
    "data=data.loc[:,['amount', 'tx_cancelled_1', 'tx_cancelled_2', 'tx_cancelled_3', 'tx_cancelled_4', 'tx_cancelled_5', 'tx_cancelled_6', 'tx_cancelled_7']]"
   ]
  },
  {
   "cell_type": "code",
   "execution_count": null,
   "id": "a3279677-b550-424f-a5fc-a5c9e6d05cfc",
   "metadata": {
    "tags": []
   },
   "outputs": [],
   "source": [
    "data.head()"
   ]
  },
  {
   "cell_type": "code",
   "execution_count": null,
   "id": "07f0a629-d798-4668-b567-35d87ba7dd6e",
   "metadata": {},
   "outputs": [],
   "source": [
    "data=data.fillna(method='bfill')\n",
    "data=data.fillna(method='ffill')\n",
    "data.head()"
   ]
  },
  {
   "cell_type": "code",
   "execution_count": null,
   "id": "8765dba9-e409-4976-8b1b-f98f46b62752",
   "metadata": {},
   "outputs": [],
   "source": [
    "##WE DECOMPOSE THE SERIES INTO TREND, SEASONALITY AND RESIDUALS"
   ]
  },
  {
   "cell_type": "code",
   "execution_count": null,
   "id": "6ed439cb-e60d-4bd3-83a1-d06dadceebc0",
   "metadata": {
    "tags": []
   },
   "outputs": [],
   "source": [
    "data = data.sort_values(by='date')\n",
    "data.head()"
   ]
  },
  {
   "cell_type": "code",
   "execution_count": null,
   "id": "0fb971a5-3c42-4159-bfef-1508bad1845e",
   "metadata": {
    "tags": []
   },
   "outputs": [],
   "source": [
    "import statsmodels.api as sm\n",
    "from pylab import rcParams\n",
    "rcParams['figure.figsize'] = 18, 8\n",
    "decomposition = sm.tsa.seasonal_decompose(data['amount'], model='additive', period=None) #multiplicative, additive\n",
    "fig = decomposition.plot()\n",
    "plt.show()"
   ]
  },
  {
   "cell_type": "code",
   "execution_count": null,
   "id": "cb7d9699-6046-4567-b36e-9e8132575373",
   "metadata": {
    "tags": []
   },
   "outputs": [],
   "source": [
    "data['var_tx_cancelled_1']=data.tx_cancelled_1-data.tx_cancelled_2\n",
    "data['var_tx_cancelled_2']=data.tx_cancelled_2-data.tx_cancelled_3\n",
    "data['var_tx_cancelled_3']=data.tx_cancelled_3-data.tx_cancelled_4\n",
    "data['var_tx_cancelled_4']=data.tx_cancelled_4-data.tx_cancelled_5\n",
    "data['var_tx_cancelled_5']=data.tx_cancelled_5-data.tx_cancelled_6\n",
    "data['var_tx_cancelled_6']=data.tx_cancelled_6-data.tx_cancelled_7\n",
    "data.tail()"
   ]
  },
  {
   "cell_type": "code",
   "execution_count": null,
   "id": "fbee7276-3c53-44d4-baed-0cab8287b882",
   "metadata": {
    "tags": []
   },
   "outputs": [],
   "source": [
    "##WE ELIMINATE SOME VARIABLES##\n",
    "data=data.loc[:,['amount', 'var_tx_cancelled_1', 'var_tx_cancelled_2', 'var_tx_cancelled_3', 'var_tx_cancelled_4', 'var_tx_cancelled_5', 'var_tx_cancelled_6']]\n",
    "data.tail()"
   ]
  },
  {
   "cell_type": "code",
   "execution_count": null,
   "id": "823b9196-7d9b-4b9c-a38d-a1fe1d8d206e",
   "metadata": {},
   "outputs": [],
   "source": [
    "##SARIMAX PARAMETER SEARCH##"
   ]
  },
  {
   "cell_type": "code",
   "execution_count": null,
   "id": "e651a455-373f-4e3f-9338-3dd8e89f73fd",
   "metadata": {
    "tags": []
   },
   "outputs": [],
   "source": [
    "traindata3 = data[0:801] #data[0:800]\n",
    "traindata3.index"
   ]
  },
  {
   "cell_type": "code",
   "execution_count": null,
   "id": "b420598b-98ad-4b8a-89be-786855a9a684",
   "metadata": {
    "tags": []
   },
   "outputs": [],
   "source": [
    "testdata3 = data[801:1025] #data[0:1025]\n",
    "testdata3.index"
   ]
  },
  {
   "cell_type": "code",
   "execution_count": null,
   "id": "9452bde7-e4b4-4ffc-ba39-664f60ec4eef",
   "metadata": {
    "tags": []
   },
   "outputs": [],
   "source": [
    "traindata3.shape, testdata3.shape"
   ]
  },
  {
   "cell_type": "code",
   "execution_count": null,
   "id": "2562d7ba-f6b6-4a10-9cd8-203c0626874a",
   "metadata": {},
   "outputs": [],
   "source": [
    "traindata3"
   ]
  },
  {
   "cell_type": "code",
   "execution_count": null,
   "id": "afeaa874-bea5-4430-904e-c00c8e5fb543",
   "metadata": {
    "tags": []
   },
   "outputs": [],
   "source": [
    "##WE TRY ANOTHER LIBRARY THAT DOES NOT HAVE PROBLEMS IN ADOPTING EXOGENOUS VARIABLES ##\n",
    "\n",
    "###CLAVE: VER COMO ENTRENAR EL MODELO CON VARS EXOGENAS, NOTAR QUE ARRIBA SE LO ENTRENA CON AUTOARIMA (PROBLEMA, AUTOARIMA NO CAPTA POR ALGUNA RAZON LAS EXOGENAS)\n",
    "\n",
    "import statsmodels.api as sm\n",
    "\n",
    "###WE IMPUTE THE MISSING VALUES THAT GENERATE THE DIFFERENCES WITH SUBSEQUENT VALUES CLOSE IN TIME\n",
    "\n",
    "exog3=['var_tx_cancelled_1', 'var_tx_cancelled_2', 'var_tx_cancelled_3', 'var_tx_cancelled_4', 'var_tx_cancelled_5', 'var_tx_cancelled_6']\n",
    "mod2 = sm.tsa.SARIMAX(traindata3[['amount']], order=(1,0,0), seasonal_order =(2, 1, 2, 7), exog=traindata3[exog3])\n",
    "res2 = mod2.fit(maxiter=1000, disp=False)\n",
    "print(res2.summary())"
   ]
  },
  {
   "cell_type": "code",
   "execution_count": null,
   "id": "95943e93-95d9-4ba6-a094-3525832f8b8a",
   "metadata": {
    "tags": []
   },
   "outputs": [],
   "source": [
    "res2.plot_diagnostics(figsize=(16, 8))\n",
    "plt.show()"
   ]
  },
  {
   "cell_type": "code",
   "execution_count": null,
   "id": "fc536c9f-c817-4a23-949c-9b65aeb03470",
   "metadata": {
    "tags": []
   },
   "outputs": [],
   "source": [
    "testdata3=testdata3[0:20]\n",
    "pred3 = res2.get_prediction(start=pd.to_datetime('2023-03-12'),end=pd.to_datetime('2023-03-31'), dynamic=False, exog=testdata3[exog3])\n",
    "pred_test3 = pred3.conf_int()\n",
    "res2 = pred3.predicted_mean\n",
    "pred_test3[\"result\"] = pred3.predicted_mean\n",
    "pred_test3[\"y\"] = testdata3['amount']\n",
    "print(\"pred_test2:\\n\", pred_test3)"
   ]
  },
  {
   "cell_type": "code",
   "execution_count": null,
   "id": "0b9f6e1c-1ad5-42eb-9d52-455328822005",
   "metadata": {
    "tags": []
   },
   "outputs": [],
   "source": [
    "#FORECAST PERFORMANCE\n",
    "##DEFINITIONS:\n",
    "##The MAPE measures the average percentage error between predictions and actual values.\n",
    "##The MAE is the arithmetic mean of the absolute errors between predictions and actual values.\n",
    "##The RMSE measures the root mean square of the root mean square errors between predictions and actual values.\n",
    "import numpy as np\n",
    "pred_test3[\"ae\"] = abs(pred_test3[\"y\"]-pred_test3[\"result\"])\n",
    "mae = pred_test3[\"ae\"].mean() \n",
    "print(\"mae:\", mae)\n",
    "mse = ((pred_test3[\"y\"]-pred_test3[\"result\"])**2).mean()\n",
    "rmse = np.sqrt(mse)\n",
    "print(\"rmse:\", rmse)\n",
    "\n",
    "pred_test3[\"pe\"] = abs((pred_test3[\"y\"]-pred_test3[\"result\"]) / pred_test3[\"y\"])\n",
    "mape = pred_test3[\"pe\"].mean() \n",
    "print(\"mape:\", mape)"
   ]
  },
  {
   "cell_type": "code",
   "execution_count": null,
   "id": "7b2d518b-4f01-4754-a030-2f8696deff2d",
   "metadata": {},
   "outputs": [],
   "source": [
    "##BAJA DE 6.25% A 5.79% RESPECTO DEL MODELO SARIMA SIMPLE Y SIN HABER SIDO OPTIMIZADO (EXPLORAR FORECAST)"
   ]
  },
  {
   "cell_type": "code",
   "execution_count": null,
   "id": "c5da2fbd-7c23-43a9-8c40-eee4b6b5eb63",
   "metadata": {},
   "outputs": [],
   "source": [
    "##PROXIMO PASO: ESTIMAR EL ERROR CON LOS DOS GRUPOS DE EXOGENAS JUNTAS(RATES Y CANCELACIONES)##"
   ]
  },
  {
   "cell_type": "code",
   "execution_count": null,
   "id": "dc61df11-c17d-41d9-b277-93795d4c162b",
   "metadata": {
    "tags": []
   },
   "outputs": [],
   "source": [
    "data.head()"
   ]
  },
  {
   "cell_type": "code",
   "execution_count": null,
   "id": "ed2056a1-4728-4ba2-9f63-8a828e7d8b23",
   "metadata": {
    "tags": []
   },
   "outputs": [],
   "source": [
    "del data3['amount']"
   ]
  },
  {
   "cell_type": "code",
   "execution_count": null,
   "id": "1b1de90c-e857-437c-8189-5f7fc91c00ea",
   "metadata": {
    "tags": []
   },
   "outputs": [],
   "source": [
    "data_rates_canc=pd.merge(data,data3, left_index=True, right_index=True, how='left')"
   ]
  },
  {
   "cell_type": "code",
   "execution_count": null,
   "id": "29a8e0bb-0e4b-4bd5-beca-d203a3d643f9",
   "metadata": {
    "tags": []
   },
   "outputs": [],
   "source": [
    "data_rates_canc.head()"
   ]
  },
  {
   "cell_type": "code",
   "execution_count": null,
   "id": "a768e607-4d53-40dd-9865-251950dd4853",
   "metadata": {},
   "outputs": [],
   "source": []
  },
  {
   "cell_type": "code",
   "execution_count": null,
   "id": "9c6409d5-adbe-449e-9461-2644ab1070cc",
   "metadata": {},
   "outputs": [],
   "source": []
  },
  {
   "cell_type": "code",
   "execution_count": null,
   "id": "17815231-e263-4bdc-b033-2b480a2ed7da",
   "metadata": {},
   "outputs": [],
   "source": []
  },
  {
   "cell_type": "code",
   "execution_count": null,
   "id": "b98d6ab2-d256-4519-a06e-02f909414011",
   "metadata": {},
   "outputs": [],
   "source": []
  },
  {
   "cell_type": "code",
   "execution_count": null,
   "id": "12ff8e64-6bde-4246-abdf-4dd77ba21972",
   "metadata": {
    "tags": []
   },
   "outputs": [],
   "source": [
    "data_rates_canc.info()"
   ]
  },
  {
   "cell_type": "code",
   "execution_count": null,
   "id": "cedd4a53-6696-4369-aebd-7a5acecceabf",
   "metadata": {},
   "outputs": [],
   "source": []
  },
  {
   "cell_type": "code",
   "execution_count": null,
   "id": "497293ea-ea39-4449-81ec-4b67e9703f25",
   "metadata": {
    "tags": []
   },
   "outputs": [],
   "source": [
    "traindata3 = data_rates_canc[0:801] #data[0:800]\n",
    "traindata3.index"
   ]
  },
  {
   "cell_type": "code",
   "execution_count": null,
   "id": "e9a21c9f-2e74-4bd8-a028-26811840fd85",
   "metadata": {
    "tags": []
   },
   "outputs": [],
   "source": [
    "testdata3 = data_rates_canc[801:1025] #data[0:1025]\n",
    "testdata3.index"
   ]
  },
  {
   "cell_type": "code",
   "execution_count": null,
   "id": "d09abfa5-c003-4b22-9c08-84aefa8ffe20",
   "metadata": {},
   "outputs": [],
   "source": [
    "traindata3.shape, testdata3.shape"
   ]
  },
  {
   "cell_type": "code",
   "execution_count": null,
   "id": "8699f6e1-29a6-4b69-b361-4830a24a641e",
   "metadata": {
    "tags": []
   },
   "outputs": [],
   "source": [
    "traindata3.head()"
   ]
  },
  {
   "cell_type": "code",
   "execution_count": null,
   "id": "87b1049d-fb02-4d02-a259-eb1a24eb47ea",
   "metadata": {},
   "outputs": [],
   "source": [
    "##WE TRY ANOTHER LIBRARY THAT DOES NOT HAVE PROBLEMS IN ADOPTING EXOGENOUS VARIABLES ##\n",
    "\n",
    "###CLAVE: VER COMO ENTRENAR EL MODELO CON VARS EXOGENAS, NOTAR QUE ARRIBA SE LO ENTRENA CON AUTOARIMA (PROBLEMA, AUTOARIMA NO CAPTA POR ALGUNA RAZON LAS EXOGENAS)\n",
    "\n",
    "import statsmodels.api as sm\n",
    "\n",
    "###WE IMPUTE THE MISSING VALUES THAT GENERATE THE DIFFERENCES WITH SUBSEQUENT VALUES CLOSE IN TIME\n",
    "\n",
    "exog3=['var_tx_cancelled_1', 'var_tx_cancelled_2', 'var_tx_cancelled_3', 'var_tx_cancelled_4', 'var_tx_cancelled_5', 'var_tx_cancelled_6','var_rate_lag1', 'var_rate_lag2', 'var_rate_lag3', 'var_rate_lag4', 'var_rate_lag5', 'var_rate_lag6'] \n",
    "mod2 = sm.tsa.SARIMAX(traindata3[['amount']], order=(1,0,0), seasonal_order =(2, 1, 2, 7), exog=traindata3[exog3])\n",
    "res2 = mod2.fit(maxiter=1000, disp=False)\n",
    "print(res2.summary())"
   ]
  },
  {
   "cell_type": "code",
   "execution_count": null,
   "id": "ef1b71cb-ec65-43bc-85e8-2b7c9b42676b",
   "metadata": {
    "tags": []
   },
   "outputs": [],
   "source": [
    "res2.plot_diagnostics(figsize=(16, 8))\n",
    "plt.show()"
   ]
  },
  {
   "cell_type": "code",
   "execution_count": null,
   "id": "503031a1-5201-42c2-b5bc-e794b24b062a",
   "metadata": {
    "tags": []
   },
   "outputs": [],
   "source": [
    "testdata3=testdata3[0:20]\n",
    "pred3 = res2.get_prediction(start=pd.to_datetime('2023-03-12'),end=pd.to_datetime('2023-03-31'), dynamic=False, exog=testdata3[exog3])\n",
    "pred_test3 = pred3.conf_int()\n",
    "res2 = pred3.predicted_mean\n",
    "pred_test3[\"result\"] = pred3.predicted_mean\n",
    "pred_test3[\"y\"] = testdata3['amount']\n",
    "print(\"pred_test2:\\n\", pred_test3)"
   ]
  },
  {
   "cell_type": "code",
   "execution_count": null,
   "id": "eb5f53c7-f43e-4d06-bfcd-486f0d9dee23",
   "metadata": {
    "tags": []
   },
   "outputs": [],
   "source": [
    "#FORECAST PERFORMANCE\n",
    "##DEFINITIONS:\n",
    "##The MAPE measures the average percentage error between predictions and actual values.\n",
    "##The MAE is the arithmetic mean of the absolute errors between predictions and actual values.\n",
    "##The RMSE measures the root mean square of the root mean square errors between predictions and actual values.\n",
    "import numpy as np\n",
    "pred_test3[\"ae\"] = abs(pred_test3[\"y\"]-pred_test3[\"result\"])\n",
    "mae = pred_test3[\"ae\"].mean() \n",
    "print(\"mae:\", mae)\n",
    "mse = ((pred_test3[\"y\"]-pred_test3[\"result\"])**2).mean()\n",
    "rmse = np.sqrt(mse)\n",
    "print(\"rmse:\", rmse)\n",
    "\n",
    "pred_test3[\"pe\"] = abs((pred_test3[\"y\"]-pred_test3[\"result\"]) / pred_test3[\"y\"])\n",
    "mape = pred_test3[\"pe\"].mean() \n",
    "print(\"mape:\", mape)"
   ]
  },
  {
   "cell_type": "code",
   "execution_count": null,
   "id": "08cee50a-91b4-4e6e-afc0-769381783ea1",
   "metadata": {},
   "outputs": [],
   "source": [
    "###VA BAJANDO!!!!!!!!! (Y AUN FALTA OPTIMIZARLO CON AUTOARIMA, AGREGAR DUMMIES DE DIAS DE LA SEMANA, FERIADOS ETC###\n",
    "##NOTAR QUE REDUCE 20% EL MARGEN DE ERROR RESPECTO DEL SARIMA OPTIMIZADO SIN FERIADOS(AL MENOS PARA ESTOS 20 DIAS DE MARZO)##"
   ]
  },
  {
   "cell_type": "code",
   "execution_count": null,
   "id": "d43ac32c-ee91-4109-a7dc-cfe0fb44321a",
   "metadata": {},
   "outputs": [],
   "source": []
  },
  {
   "cell_type": "code",
   "execution_count": null,
   "id": "20d56c49-4b9e-4e7b-b3e2-bfa78f5fe7f1",
   "metadata": {},
   "outputs": [],
   "source": []
  },
  {
   "cell_type": "code",
   "execution_count": null,
   "id": "da2da946-001e-4d2f-b08c-29aa2370d318",
   "metadata": {},
   "outputs": [],
   "source": []
  }
 ],
 "metadata": {
  "availableInstances": [
   {
    "_defaultOrder": 0,
    "_isFastLaunch": true,
    "category": "General purpose",
    "gpuNum": 0,
    "hideHardwareSpecs": false,
    "memoryGiB": 4,
    "name": "ml.t3.medium",
    "vcpuNum": 2
   },
   {
    "_defaultOrder": 1,
    "_isFastLaunch": false,
    "category": "General purpose",
    "gpuNum": 0,
    "hideHardwareSpecs": false,
    "memoryGiB": 8,
    "name": "ml.t3.large",
    "vcpuNum": 2
   },
   {
    "_defaultOrder": 2,
    "_isFastLaunch": false,
    "category": "General purpose",
    "gpuNum": 0,
    "hideHardwareSpecs": false,
    "memoryGiB": 16,
    "name": "ml.t3.xlarge",
    "vcpuNum": 4
   },
   {
    "_defaultOrder": 3,
    "_isFastLaunch": false,
    "category": "General purpose",
    "gpuNum": 0,
    "hideHardwareSpecs": false,
    "memoryGiB": 32,
    "name": "ml.t3.2xlarge",
    "vcpuNum": 8
   },
   {
    "_defaultOrder": 4,
    "_isFastLaunch": true,
    "category": "General purpose",
    "gpuNum": 0,
    "hideHardwareSpecs": false,
    "memoryGiB": 8,
    "name": "ml.m5.large",
    "vcpuNum": 2
   },
   {
    "_defaultOrder": 5,
    "_isFastLaunch": false,
    "category": "General purpose",
    "gpuNum": 0,
    "hideHardwareSpecs": false,
    "memoryGiB": 16,
    "name": "ml.m5.xlarge",
    "vcpuNum": 4
   },
   {
    "_defaultOrder": 6,
    "_isFastLaunch": false,
    "category": "General purpose",
    "gpuNum": 0,
    "hideHardwareSpecs": false,
    "memoryGiB": 32,
    "name": "ml.m5.2xlarge",
    "vcpuNum": 8
   },
   {
    "_defaultOrder": 7,
    "_isFastLaunch": false,
    "category": "General purpose",
    "gpuNum": 0,
    "hideHardwareSpecs": false,
    "memoryGiB": 64,
    "name": "ml.m5.4xlarge",
    "vcpuNum": 16
   },
   {
    "_defaultOrder": 8,
    "_isFastLaunch": false,
    "category": "General purpose",
    "gpuNum": 0,
    "hideHardwareSpecs": false,
    "memoryGiB": 128,
    "name": "ml.m5.8xlarge",
    "vcpuNum": 32
   },
   {
    "_defaultOrder": 9,
    "_isFastLaunch": false,
    "category": "General purpose",
    "gpuNum": 0,
    "hideHardwareSpecs": false,
    "memoryGiB": 192,
    "name": "ml.m5.12xlarge",
    "vcpuNum": 48
   },
   {
    "_defaultOrder": 10,
    "_isFastLaunch": false,
    "category": "General purpose",
    "gpuNum": 0,
    "hideHardwareSpecs": false,
    "memoryGiB": 256,
    "name": "ml.m5.16xlarge",
    "vcpuNum": 64
   },
   {
    "_defaultOrder": 11,
    "_isFastLaunch": false,
    "category": "General purpose",
    "gpuNum": 0,
    "hideHardwareSpecs": false,
    "memoryGiB": 384,
    "name": "ml.m5.24xlarge",
    "vcpuNum": 96
   },
   {
    "_defaultOrder": 12,
    "_isFastLaunch": false,
    "category": "General purpose",
    "gpuNum": 0,
    "hideHardwareSpecs": false,
    "memoryGiB": 8,
    "name": "ml.m5d.large",
    "vcpuNum": 2
   },
   {
    "_defaultOrder": 13,
    "_isFastLaunch": false,
    "category": "General purpose",
    "gpuNum": 0,
    "hideHardwareSpecs": false,
    "memoryGiB": 16,
    "name": "ml.m5d.xlarge",
    "vcpuNum": 4
   },
   {
    "_defaultOrder": 14,
    "_isFastLaunch": false,
    "category": "General purpose",
    "gpuNum": 0,
    "hideHardwareSpecs": false,
    "memoryGiB": 32,
    "name": "ml.m5d.2xlarge",
    "vcpuNum": 8
   },
   {
    "_defaultOrder": 15,
    "_isFastLaunch": false,
    "category": "General purpose",
    "gpuNum": 0,
    "hideHardwareSpecs": false,
    "memoryGiB": 64,
    "name": "ml.m5d.4xlarge",
    "vcpuNum": 16
   },
   {
    "_defaultOrder": 16,
    "_isFastLaunch": false,
    "category": "General purpose",
    "gpuNum": 0,
    "hideHardwareSpecs": false,
    "memoryGiB": 128,
    "name": "ml.m5d.8xlarge",
    "vcpuNum": 32
   },
   {
    "_defaultOrder": 17,
    "_isFastLaunch": false,
    "category": "General purpose",
    "gpuNum": 0,
    "hideHardwareSpecs": false,
    "memoryGiB": 192,
    "name": "ml.m5d.12xlarge",
    "vcpuNum": 48
   },
   {
    "_defaultOrder": 18,
    "_isFastLaunch": false,
    "category": "General purpose",
    "gpuNum": 0,
    "hideHardwareSpecs": false,
    "memoryGiB": 256,
    "name": "ml.m5d.16xlarge",
    "vcpuNum": 64
   },
   {
    "_defaultOrder": 19,
    "_isFastLaunch": false,
    "category": "General purpose",
    "gpuNum": 0,
    "hideHardwareSpecs": false,
    "memoryGiB": 384,
    "name": "ml.m5d.24xlarge",
    "vcpuNum": 96
   },
   {
    "_defaultOrder": 20,
    "_isFastLaunch": false,
    "category": "General purpose",
    "gpuNum": 0,
    "hideHardwareSpecs": true,
    "memoryGiB": 0,
    "name": "ml.geospatial.interactive",
    "supportedImageNames": [
     "sagemaker-geospatial-v1-0"
    ],
    "vcpuNum": 0
   },
   {
    "_defaultOrder": 21,
    "_isFastLaunch": true,
    "category": "Compute optimized",
    "gpuNum": 0,
    "hideHardwareSpecs": false,
    "memoryGiB": 4,
    "name": "ml.c5.large",
    "vcpuNum": 2
   },
   {
    "_defaultOrder": 22,
    "_isFastLaunch": false,
    "category": "Compute optimized",
    "gpuNum": 0,
    "hideHardwareSpecs": false,
    "memoryGiB": 8,
    "name": "ml.c5.xlarge",
    "vcpuNum": 4
   },
   {
    "_defaultOrder": 23,
    "_isFastLaunch": false,
    "category": "Compute optimized",
    "gpuNum": 0,
    "hideHardwareSpecs": false,
    "memoryGiB": 16,
    "name": "ml.c5.2xlarge",
    "vcpuNum": 8
   },
   {
    "_defaultOrder": 24,
    "_isFastLaunch": false,
    "category": "Compute optimized",
    "gpuNum": 0,
    "hideHardwareSpecs": false,
    "memoryGiB": 32,
    "name": "ml.c5.4xlarge",
    "vcpuNum": 16
   },
   {
    "_defaultOrder": 25,
    "_isFastLaunch": false,
    "category": "Compute optimized",
    "gpuNum": 0,
    "hideHardwareSpecs": false,
    "memoryGiB": 72,
    "name": "ml.c5.9xlarge",
    "vcpuNum": 36
   },
   {
    "_defaultOrder": 26,
    "_isFastLaunch": false,
    "category": "Compute optimized",
    "gpuNum": 0,
    "hideHardwareSpecs": false,
    "memoryGiB": 96,
    "name": "ml.c5.12xlarge",
    "vcpuNum": 48
   },
   {
    "_defaultOrder": 27,
    "_isFastLaunch": false,
    "category": "Compute optimized",
    "gpuNum": 0,
    "hideHardwareSpecs": false,
    "memoryGiB": 144,
    "name": "ml.c5.18xlarge",
    "vcpuNum": 72
   },
   {
    "_defaultOrder": 28,
    "_isFastLaunch": false,
    "category": "Compute optimized",
    "gpuNum": 0,
    "hideHardwareSpecs": false,
    "memoryGiB": 192,
    "name": "ml.c5.24xlarge",
    "vcpuNum": 96
   },
   {
    "_defaultOrder": 29,
    "_isFastLaunch": true,
    "category": "Accelerated computing",
    "gpuNum": 1,
    "hideHardwareSpecs": false,
    "memoryGiB": 16,
    "name": "ml.g4dn.xlarge",
    "vcpuNum": 4
   },
   {
    "_defaultOrder": 30,
    "_isFastLaunch": false,
    "category": "Accelerated computing",
    "gpuNum": 1,
    "hideHardwareSpecs": false,
    "memoryGiB": 32,
    "name": "ml.g4dn.2xlarge",
    "vcpuNum": 8
   },
   {
    "_defaultOrder": 31,
    "_isFastLaunch": false,
    "category": "Accelerated computing",
    "gpuNum": 1,
    "hideHardwareSpecs": false,
    "memoryGiB": 64,
    "name": "ml.g4dn.4xlarge",
    "vcpuNum": 16
   },
   {
    "_defaultOrder": 32,
    "_isFastLaunch": false,
    "category": "Accelerated computing",
    "gpuNum": 1,
    "hideHardwareSpecs": false,
    "memoryGiB": 128,
    "name": "ml.g4dn.8xlarge",
    "vcpuNum": 32
   },
   {
    "_defaultOrder": 33,
    "_isFastLaunch": false,
    "category": "Accelerated computing",
    "gpuNum": 4,
    "hideHardwareSpecs": false,
    "memoryGiB": 192,
    "name": "ml.g4dn.12xlarge",
    "vcpuNum": 48
   },
   {
    "_defaultOrder": 34,
    "_isFastLaunch": false,
    "category": "Accelerated computing",
    "gpuNum": 1,
    "hideHardwareSpecs": false,
    "memoryGiB": 256,
    "name": "ml.g4dn.16xlarge",
    "vcpuNum": 64
   },
   {
    "_defaultOrder": 35,
    "_isFastLaunch": false,
    "category": "Accelerated computing",
    "gpuNum": 1,
    "hideHardwareSpecs": false,
    "memoryGiB": 61,
    "name": "ml.p3.2xlarge",
    "vcpuNum": 8
   },
   {
    "_defaultOrder": 36,
    "_isFastLaunch": false,
    "category": "Accelerated computing",
    "gpuNum": 4,
    "hideHardwareSpecs": false,
    "memoryGiB": 244,
    "name": "ml.p3.8xlarge",
    "vcpuNum": 32
   },
   {
    "_defaultOrder": 37,
    "_isFastLaunch": false,
    "category": "Accelerated computing",
    "gpuNum": 8,
    "hideHardwareSpecs": false,
    "memoryGiB": 488,
    "name": "ml.p3.16xlarge",
    "vcpuNum": 64
   },
   {
    "_defaultOrder": 38,
    "_isFastLaunch": false,
    "category": "Accelerated computing",
    "gpuNum": 8,
    "hideHardwareSpecs": false,
    "memoryGiB": 768,
    "name": "ml.p3dn.24xlarge",
    "vcpuNum": 96
   },
   {
    "_defaultOrder": 39,
    "_isFastLaunch": false,
    "category": "Memory Optimized",
    "gpuNum": 0,
    "hideHardwareSpecs": false,
    "memoryGiB": 16,
    "name": "ml.r5.large",
    "vcpuNum": 2
   },
   {
    "_defaultOrder": 40,
    "_isFastLaunch": false,
    "category": "Memory Optimized",
    "gpuNum": 0,
    "hideHardwareSpecs": false,
    "memoryGiB": 32,
    "name": "ml.r5.xlarge",
    "vcpuNum": 4
   },
   {
    "_defaultOrder": 41,
    "_isFastLaunch": false,
    "category": "Memory Optimized",
    "gpuNum": 0,
    "hideHardwareSpecs": false,
    "memoryGiB": 64,
    "name": "ml.r5.2xlarge",
    "vcpuNum": 8
   },
   {
    "_defaultOrder": 42,
    "_isFastLaunch": false,
    "category": "Memory Optimized",
    "gpuNum": 0,
    "hideHardwareSpecs": false,
    "memoryGiB": 128,
    "name": "ml.r5.4xlarge",
    "vcpuNum": 16
   },
   {
    "_defaultOrder": 43,
    "_isFastLaunch": false,
    "category": "Memory Optimized",
    "gpuNum": 0,
    "hideHardwareSpecs": false,
    "memoryGiB": 256,
    "name": "ml.r5.8xlarge",
    "vcpuNum": 32
   },
   {
    "_defaultOrder": 44,
    "_isFastLaunch": false,
    "category": "Memory Optimized",
    "gpuNum": 0,
    "hideHardwareSpecs": false,
    "memoryGiB": 384,
    "name": "ml.r5.12xlarge",
    "vcpuNum": 48
   },
   {
    "_defaultOrder": 45,
    "_isFastLaunch": false,
    "category": "Memory Optimized",
    "gpuNum": 0,
    "hideHardwareSpecs": false,
    "memoryGiB": 512,
    "name": "ml.r5.16xlarge",
    "vcpuNum": 64
   },
   {
    "_defaultOrder": 46,
    "_isFastLaunch": false,
    "category": "Memory Optimized",
    "gpuNum": 0,
    "hideHardwareSpecs": false,
    "memoryGiB": 768,
    "name": "ml.r5.24xlarge",
    "vcpuNum": 96
   },
   {
    "_defaultOrder": 47,
    "_isFastLaunch": false,
    "category": "Accelerated computing",
    "gpuNum": 1,
    "hideHardwareSpecs": false,
    "memoryGiB": 16,
    "name": "ml.g5.xlarge",
    "vcpuNum": 4
   },
   {
    "_defaultOrder": 48,
    "_isFastLaunch": false,
    "category": "Accelerated computing",
    "gpuNum": 1,
    "hideHardwareSpecs": false,
    "memoryGiB": 32,
    "name": "ml.g5.2xlarge",
    "vcpuNum": 8
   },
   {
    "_defaultOrder": 49,
    "_isFastLaunch": false,
    "category": "Accelerated computing",
    "gpuNum": 1,
    "hideHardwareSpecs": false,
    "memoryGiB": 64,
    "name": "ml.g5.4xlarge",
    "vcpuNum": 16
   },
   {
    "_defaultOrder": 50,
    "_isFastLaunch": false,
    "category": "Accelerated computing",
    "gpuNum": 1,
    "hideHardwareSpecs": false,
    "memoryGiB": 128,
    "name": "ml.g5.8xlarge",
    "vcpuNum": 32
   },
   {
    "_defaultOrder": 51,
    "_isFastLaunch": false,
    "category": "Accelerated computing",
    "gpuNum": 1,
    "hideHardwareSpecs": false,
    "memoryGiB": 256,
    "name": "ml.g5.16xlarge",
    "vcpuNum": 64
   },
   {
    "_defaultOrder": 52,
    "_isFastLaunch": false,
    "category": "Accelerated computing",
    "gpuNum": 4,
    "hideHardwareSpecs": false,
    "memoryGiB": 192,
    "name": "ml.g5.12xlarge",
    "vcpuNum": 48
   },
   {
    "_defaultOrder": 53,
    "_isFastLaunch": false,
    "category": "Accelerated computing",
    "gpuNum": 4,
    "hideHardwareSpecs": false,
    "memoryGiB": 384,
    "name": "ml.g5.24xlarge",
    "vcpuNum": 96
   },
   {
    "_defaultOrder": 54,
    "_isFastLaunch": false,
    "category": "Accelerated computing",
    "gpuNum": 8,
    "hideHardwareSpecs": false,
    "memoryGiB": 768,
    "name": "ml.g5.48xlarge",
    "vcpuNum": 192
   },
   {
    "_defaultOrder": 55,
    "_isFastLaunch": false,
    "category": "Accelerated computing",
    "gpuNum": 8,
    "hideHardwareSpecs": false,
    "memoryGiB": 1152,
    "name": "ml.p4d.24xlarge",
    "vcpuNum": 96
   },
   {
    "_defaultOrder": 56,
    "_isFastLaunch": false,
    "category": "Accelerated computing",
    "gpuNum": 8,
    "hideHardwareSpecs": false,
    "memoryGiB": 1152,
    "name": "ml.p4de.24xlarge",
    "vcpuNum": 96
   },
   {
    "_defaultOrder": 57,
    "_isFastLaunch": false,
    "category": "Accelerated computing",
    "gpuNum": 0,
    "hideHardwareSpecs": false,
    "memoryGiB": 32,
    "name": "ml.trn1.2xlarge",
    "vcpuNum": 8
   },
   {
    "_defaultOrder": 58,
    "_isFastLaunch": false,
    "category": "Accelerated computing",
    "gpuNum": 0,
    "hideHardwareSpecs": false,
    "memoryGiB": 512,
    "name": "ml.trn1.32xlarge",
    "vcpuNum": 128
   },
   {
    "_defaultOrder": 59,
    "_isFastLaunch": false,
    "category": "Accelerated computing",
    "gpuNum": 0,
    "hideHardwareSpecs": false,
    "memoryGiB": 512,
    "name": "ml.trn1n.32xlarge",
    "vcpuNum": 128
   }
  ],
  "instance_type": "ml.t3.medium",
  "kernelspec": {
   "display_name": "Python 3 (Data Science 3.0)",
   "language": "python",
   "name": "python3__SAGEMAKER_INTERNAL__arn:aws:sagemaker:us-east-1:081325390199:image/sagemaker-data-science-310-v1"
  },
  "language_info": {
   "codemirror_mode": {
    "name": "ipython",
    "version": 3
   },
   "file_extension": ".py",
   "mimetype": "text/x-python",
   "name": "python",
   "nbconvert_exporter": "python",
   "pygments_lexer": "ipython3",
   "version": "3.10.6"
  }
 },
 "nbformat": 4,
 "nbformat_minor": 5
}
