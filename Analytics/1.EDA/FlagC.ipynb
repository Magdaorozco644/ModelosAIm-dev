{
 "cells": [
  {
   "cell_type": "code",
   "execution_count": 3,
   "id": "acdf6027-ab58-4910-8b4b-0e6c29817181",
   "metadata": {
    "tags": []
   },
   "outputs": [],
   "source": [
    "#pip install pyathena"
   ]
  },
  {
   "cell_type": "code",
   "execution_count": 4,
   "id": "89478e41-433f-44d3-9eb4-3c8cbb7d0245",
   "metadata": {
    "tags": []
   },
   "outputs": [
    {
     "name": "stderr",
     "output_type": "stream",
     "text": [
      "/tmp/ipykernel_21/2489263810.py:7: UserWarning: pandas only supports SQLAlchemy connectable (engine/connection) or database string URI or sqlite3 DBAPI2 connection. Other DBAPI2 objects are not tested. Please consider using SQLAlchemy.\n",
      "  df = pd.read_sql('''\n"
     ]
    }
   ],
   "source": [
    "# ESTA QUERY INCORPORA EL ID_FRAG_RECEIVER Y NO PONE A 0 AMOUNT CUANDO HAY FLAG=C (SI DEJA AMOUNT =0 CUANDO FLAG=A)\n",
    "\n",
    "from pyathena import connect\n",
    "import pandas as pd\n",
    "conn = connect(s3_staging_dir='s3://viamericas-datalake-dev-us-east-1-283731589572-athena/queryresults/',\n",
    "               region_name='us-east-1')\n",
    "df = pd.read_sql(''' \n",
    "SELECT\n",
    "    CAST(RTRIM(p.NAME_MAIN_BRANCH) AS VARCHAR(60)) AS PAYER,\n",
    "    RTRIM(co.NAME_COUNTRY) AS COUNTRY,\n",
    "    CAST(DATE_FORMAT(a.DATE_RECEIVER, '%Y-%m-%d') AS DATE) AS DATE,\n",
    "    SUM(CASE WHEN A.ID_FLAG_RECEIVER = 'A' THEN 0 ELSE a.NET_AMOUNT_RECEIVER END) AS AMOUNT,\n",
    "    RTRIM(A.ID_FLAG_RECEIVER) AS FLAG\n",
    "FROM\n",
    "    AwsDataCatalog.viamericas.RECEIVER a\n",
    "    INNER JOIN AwsDataCatalog.viamericas.GROUP_BRANCH p ON p.ID_MAIN_BRANCH = CASE WHEN a.ID_MAIN_BRANCH_EXPIRED IS NULL THEN RTRIM(a.ID_MAIN_BRANCH_SENT) ELSE RTRIM(a.ID_MAIN_BRANCH_EXPIRED) END\n",
    "    INNER JOIN AwsDataCatalog.viamericas.COUNTRY co ON a.ID_COUNTRY_RECEIVER = co.ID_COUNTRY\n",
    "    LEFT JOIN AwsDataCatalog.viamericas.BRANCH b ON a.ID_BRANCH = b.ID_BRANCH\n",
    "WHERE\n",
    "    NOT (A.ID_MAIN_BRANCH_SENT LIKE 'M%')\n",
    "    AND NOT (A.ID_BRANCH LIKE 'T%')\n",
    "    AND SUBSTRING(b.id_branch, 1, 1) IN (SELECT SUBSTRING(PREFIX, 1, 1) FROM AwsDataCatalog.viamericas.BRANCH_PREFIX P WHERE TRIM(B.ID_COUNTRY) = TRIM(P.ID_COUNTRY))\n",
    "    AND A.DATE_RECEIVER >= TIMESTAMP '2020-12-31 00:00:00.000'\n",
    "    AND A.DATE_RECEIVER < TIMESTAMP '2023-10-31 00:00:00.000'\n",
    "    AND b.ID_LOCATION IS NOT NULL\n",
    "    AND b.ID_LOCATION NOT IN ('MD0010', 'MD0952', 'AK0003', 'CA3897', 'NY1130', 'MD0696', 'FL1933', 'AK0004', 'CA4046', 'NY1221', 'MD0623', 'MD1003', 'MD1018', 'AK0008', 'CA4291', 'NY1346', 'CA4350', 'NY1381','OK0236','FL2287','CA4391','AK0009', 'NY1397','CA4392','AK0010','FL2288','NY1399','AK0012','CA4396','NY1402','FL2289','AK0013', 'CA4418','NY1410','FL2301','AK0014', 'CA4428', 'NY1413')\n",
    "GROUP BY\n",
    "    RTRIM(p.NAME_MAIN_BRANCH),\n",
    "    RTRIM(co.NAME_COUNTRY),\n",
    "    CAST(DATE_FORMAT(a.DATE_RECEIVER, '%Y-%m-%d') AS DATE),\n",
    "    RTRIM(A.ID_FLAG_RECEIVER)\n",
    "\n",
    "''', conn)"
   ]
  },
  {
   "cell_type": "code",
   "execution_count": 5,
   "id": "e78432dd-67b5-4cb3-98da-be2588f940a9",
   "metadata": {
    "tags": []
   },
   "outputs": [
    {
     "data": {
      "text/html": [
       "<div>\n",
       "<style scoped>\n",
       "    .dataframe tbody tr th:only-of-type {\n",
       "        vertical-align: middle;\n",
       "    }\n",
       "\n",
       "    .dataframe tbody tr th {\n",
       "        vertical-align: top;\n",
       "    }\n",
       "\n",
       "    .dataframe thead th {\n",
       "        text-align: right;\n",
       "    }\n",
       "</style>\n",
       "<table border=\"1\" class=\"dataframe\">\n",
       "  <thead>\n",
       "    <tr style=\"text-align: right;\">\n",
       "      <th></th>\n",
       "      <th>PAYER</th>\n",
       "      <th>COUNTRY</th>\n",
       "      <th>DATE</th>\n",
       "      <th>AMOUNT</th>\n",
       "      <th>FLAG</th>\n",
       "    </tr>\n",
       "  </thead>\n",
       "  <tbody>\n",
       "    <tr>\n",
       "      <th>0</th>\n",
       "      <td>BANRURAL (HONDURAS)</td>\n",
       "      <td>HONDURAS</td>\n",
       "      <td>2021-06-09</td>\n",
       "      <td>0.00</td>\n",
       "      <td>A</td>\n",
       "    </tr>\n",
       "    <tr>\n",
       "      <th>1</th>\n",
       "      <td>INPAMEX-DEPOSIT - INSTANT PAY DE MEXICO</td>\n",
       "      <td>MEXICO</td>\n",
       "      <td>2021-05-07</td>\n",
       "      <td>0.00</td>\n",
       "      <td>A</td>\n",
       "    </tr>\n",
       "    <tr>\n",
       "      <th>2</th>\n",
       "      <td>FICOHSA</td>\n",
       "      <td>HONDURAS</td>\n",
       "      <td>2021-02-22</td>\n",
       "      <td>57103.44</td>\n",
       "      <td>P</td>\n",
       "    </tr>\n",
       "    <tr>\n",
       "      <th>3</th>\n",
       "      <td>ELEKTRA (BTS)</td>\n",
       "      <td>GUATEMALA</td>\n",
       "      <td>2022-07-16</td>\n",
       "      <td>45592.78</td>\n",
       "      <td>P</td>\n",
       "    </tr>\n",
       "    <tr>\n",
       "      <th>4</th>\n",
       "      <td>BANORTE (UT)</td>\n",
       "      <td>MEXICO</td>\n",
       "      <td>2022-07-16</td>\n",
       "      <td>532834.61</td>\n",
       "      <td>P</td>\n",
       "    </tr>\n",
       "  </tbody>\n",
       "</table>\n",
       "</div>"
      ],
      "text/plain": [
       "                                     PAYER    COUNTRY        DATE     AMOUNT  \\\n",
       "0                      BANRURAL (HONDURAS)   HONDURAS  2021-06-09       0.00   \n",
       "1  INPAMEX-DEPOSIT - INSTANT PAY DE MEXICO     MEXICO  2021-05-07       0.00   \n",
       "2                                  FICOHSA   HONDURAS  2021-02-22   57103.44   \n",
       "3                            ELEKTRA (BTS)  GUATEMALA  2022-07-16   45592.78   \n",
       "4                             BANORTE (UT)     MEXICO  2022-07-16  532834.61   \n",
       "\n",
       "  FLAG  \n",
       "0    A  \n",
       "1    A  \n",
       "2    P  \n",
       "3    P  \n",
       "4    P  "
      ]
     },
     "execution_count": 5,
     "metadata": {},
     "output_type": "execute_result"
    }
   ],
   "source": [
    "df.head()"
   ]
  },
  {
   "cell_type": "code",
   "execution_count": 6,
   "id": "7a174f18-054b-41ee-b2af-b6d7108cae68",
   "metadata": {
    "tags": []
   },
   "outputs": [],
   "source": [
    "# Excluding zeros \n",
    "df = df[df['AMOUNT'] !=0]"
   ]
  },
  {
   "cell_type": "code",
   "execution_count": 7,
   "id": "b273ab24-e977-4295-ab12-95081b39c9e4",
   "metadata": {
    "tags": []
   },
   "outputs": [
    {
     "data": {
      "text/plain": [
       "array(['C'], dtype=object)"
      ]
     },
     "execution_count": 7,
     "metadata": {},
     "output_type": "execute_result"
    }
   ],
   "source": [
    "# Checking if all 'EXPIRED ORDERS' have C flag\n",
    "df[df['PAYER'] == 'EXPIRED ORDERS']['FLAG'].unique() "
   ]
  },
  {
   "cell_type": "code",
   "execution_count": 8,
   "id": "18e92edd-98da-4592-94a3-9a44a6f92373",
   "metadata": {},
   "outputs": [],
   "source": [
    "# Generating a new dataframe with all the cancelled rows\n",
    "df_flagC = df[df['FLAG'] == 'C'] "
   ]
  },
  {
   "cell_type": "code",
   "execution_count": 9,
   "id": "9e0d1b5a-d44b-4f88-8061-6ab12c6a9e6f",
   "metadata": {
    "tags": []
   },
   "outputs": [
    {
     "data": {
      "text/plain": [
       "299875.86"
      ]
     },
     "execution_count": 9,
     "metadata": {},
     "output_type": "execute_result"
    }
   ],
   "source": [
    "df_flagC['AMOUNT'].max()"
   ]
  },
  {
   "cell_type": "code",
   "execution_count": 10,
   "id": "7957c792-10f1-408e-a09f-83d5a7e18c0e",
   "metadata": {
    "tags": []
   },
   "outputs": [
    {
     "data": {
      "text/html": [
       "<div>\n",
       "<style scoped>\n",
       "    .dataframe tbody tr th:only-of-type {\n",
       "        vertical-align: middle;\n",
       "    }\n",
       "\n",
       "    .dataframe tbody tr th {\n",
       "        vertical-align: top;\n",
       "    }\n",
       "\n",
       "    .dataframe thead th {\n",
       "        text-align: right;\n",
       "    }\n",
       "</style>\n",
       "<table border=\"1\" class=\"dataframe\">\n",
       "  <thead>\n",
       "    <tr style=\"text-align: right;\">\n",
       "      <th></th>\n",
       "      <th>PAYER</th>\n",
       "      <th>COUNTRY</th>\n",
       "      <th>DATE</th>\n",
       "      <th>AMOUNT</th>\n",
       "      <th>FLAG</th>\n",
       "    </tr>\n",
       "  </thead>\n",
       "  <tbody>\n",
       "    <tr>\n",
       "      <th>232824</th>\n",
       "      <td>BANCO INDUSTRIAL</td>\n",
       "      <td>GUATEMALA</td>\n",
       "      <td>2023-10-08</td>\n",
       "      <td>299875.86</td>\n",
       "      <td>C</td>\n",
       "    </tr>\n",
       "  </tbody>\n",
       "</table>\n",
       "</div>"
      ],
      "text/plain": [
       "                   PAYER    COUNTRY        DATE     AMOUNT FLAG\n",
       "232824  BANCO INDUSTRIAL  GUATEMALA  2023-10-08  299875.86    C"
      ]
     },
     "execution_count": 10,
     "metadata": {},
     "output_type": "execute_result"
    }
   ],
   "source": [
    "df[df['AMOUNT'] == 299875.86]"
   ]
  },
  {
   "cell_type": "code",
   "execution_count": 11,
   "id": "fe2e84c9-0f90-41a2-bc7b-a655252472b9",
   "metadata": {
    "tags": []
   },
   "outputs": [],
   "source": [
    "# Grouping PAYER and COUNTRY in the original DF\n",
    "df['PAYER_COUNTRY'] = df['PAYER']+'_'+df['COUNTRY']"
   ]
  },
  {
   "cell_type": "code",
   "execution_count": 12,
   "id": "18ac7254-5031-4b40-b334-ed52f6f37315",
   "metadata": {
    "tags": []
   },
   "outputs": [],
   "source": [
    "#Setting format\n",
    "df['DATE'] = pd.to_datetime(df['DATE'])\n",
    "\n",
    "# Extract month and year to separate columns\n",
    "df['MONTH'] = df['DATE'].dt.month\n",
    "df['YEAR'] = df['DATE'].dt.year"
   ]
  },
  {
   "cell_type": "code",
   "execution_count": 13,
   "id": "3fe623e8-f520-4f8c-b97e-026ef08a833d",
   "metadata": {
    "tags": []
   },
   "outputs": [
    {
     "data": {
      "text/html": [
       "<div>\n",
       "<style scoped>\n",
       "    .dataframe tbody tr th:only-of-type {\n",
       "        vertical-align: middle;\n",
       "    }\n",
       "\n",
       "    .dataframe tbody tr th {\n",
       "        vertical-align: top;\n",
       "    }\n",
       "\n",
       "    .dataframe thead th {\n",
       "        text-align: right;\n",
       "    }\n",
       "</style>\n",
       "<table border=\"1\" class=\"dataframe\">\n",
       "  <thead>\n",
       "    <tr style=\"text-align: right;\">\n",
       "      <th></th>\n",
       "      <th>PAYER</th>\n",
       "      <th>COUNTRY</th>\n",
       "      <th>DATE</th>\n",
       "      <th>AMOUNT</th>\n",
       "      <th>FLAG</th>\n",
       "      <th>PAYER_COUNTRY</th>\n",
       "      <th>MONTH</th>\n",
       "      <th>YEAR</th>\n",
       "    </tr>\n",
       "  </thead>\n",
       "  <tbody>\n",
       "    <tr>\n",
       "      <th>2</th>\n",
       "      <td>FICOHSA</td>\n",
       "      <td>HONDURAS</td>\n",
       "      <td>2021-02-22</td>\n",
       "      <td>57103.44</td>\n",
       "      <td>P</td>\n",
       "      <td>FICOHSA_HONDURAS</td>\n",
       "      <td>2</td>\n",
       "      <td>2021</td>\n",
       "    </tr>\n",
       "    <tr>\n",
       "      <th>3</th>\n",
       "      <td>ELEKTRA (BTS)</td>\n",
       "      <td>GUATEMALA</td>\n",
       "      <td>2022-07-16</td>\n",
       "      <td>45592.78</td>\n",
       "      <td>P</td>\n",
       "      <td>ELEKTRA (BTS)_GUATEMALA</td>\n",
       "      <td>7</td>\n",
       "      <td>2022</td>\n",
       "    </tr>\n",
       "    <tr>\n",
       "      <th>4</th>\n",
       "      <td>BANORTE (UT)</td>\n",
       "      <td>MEXICO</td>\n",
       "      <td>2022-07-16</td>\n",
       "      <td>532834.61</td>\n",
       "      <td>P</td>\n",
       "      <td>BANORTE (UT)_MEXICO</td>\n",
       "      <td>7</td>\n",
       "      <td>2022</td>\n",
       "    </tr>\n",
       "    <tr>\n",
       "      <th>6</th>\n",
       "      <td>SORIANA</td>\n",
       "      <td>MEXICO</td>\n",
       "      <td>2022-04-11</td>\n",
       "      <td>145244.61</td>\n",
       "      <td>P</td>\n",
       "      <td>SORIANA_MEXICO</td>\n",
       "      <td>4</td>\n",
       "      <td>2022</td>\n",
       "    </tr>\n",
       "    <tr>\n",
       "      <th>7</th>\n",
       "      <td>BBVA - BANCOMER (BTS)</td>\n",
       "      <td>MEXICO</td>\n",
       "      <td>2021-11-05</td>\n",
       "      <td>-15445.50</td>\n",
       "      <td>C</td>\n",
       "      <td>BBVA - BANCOMER (BTS)_MEXICO</td>\n",
       "      <td>11</td>\n",
       "      <td>2021</td>\n",
       "    </tr>\n",
       "    <tr>\n",
       "      <th>...</th>\n",
       "      <td>...</td>\n",
       "      <td>...</td>\n",
       "      <td>...</td>\n",
       "      <td>...</td>\n",
       "      <td>...</td>\n",
       "      <td>...</td>\n",
       "      <td>...</td>\n",
       "      <td>...</td>\n",
       "    </tr>\n",
       "    <tr>\n",
       "      <th>270662</th>\n",
       "      <td>AIRPAK</td>\n",
       "      <td>MEXICO</td>\n",
       "      <td>2023-02-12</td>\n",
       "      <td>100.00</td>\n",
       "      <td>T</td>\n",
       "      <td>AIRPAK_MEXICO</td>\n",
       "      <td>2</td>\n",
       "      <td>2023</td>\n",
       "    </tr>\n",
       "    <tr>\n",
       "      <th>270663</th>\n",
       "      <td>NAFA</td>\n",
       "      <td>GAMBIA, THE</td>\n",
       "      <td>2022-11-18</td>\n",
       "      <td>88.00</td>\n",
       "      <td>P</td>\n",
       "      <td>NAFA_GAMBIA, THE</td>\n",
       "      <td>11</td>\n",
       "      <td>2022</td>\n",
       "    </tr>\n",
       "    <tr>\n",
       "      <th>270664</th>\n",
       "      <td>FARMACIAS GUADALAJARA (UT)</td>\n",
       "      <td>MEXICO</td>\n",
       "      <td>2021-09-15</td>\n",
       "      <td>127.00</td>\n",
       "      <td>T</td>\n",
       "      <td>FARMACIAS GUADALAJARA (UT)_MEXICO</td>\n",
       "      <td>9</td>\n",
       "      <td>2021</td>\n",
       "    </tr>\n",
       "    <tr>\n",
       "      <th>270665</th>\n",
       "      <td>BANCO DAVIVIENDA SALVADORENO (BTS)</td>\n",
       "      <td>EL SALVADOR</td>\n",
       "      <td>2021-08-14</td>\n",
       "      <td>-90.00</td>\n",
       "      <td>C</td>\n",
       "      <td>BANCO DAVIVIENDA SALVADORENO (BTS)_EL SALVADOR</td>\n",
       "      <td>8</td>\n",
       "      <td>2021</td>\n",
       "    </tr>\n",
       "    <tr>\n",
       "      <th>270666</th>\n",
       "      <td>CHEDRAUI (APPRIZA)</td>\n",
       "      <td>MEXICO</td>\n",
       "      <td>2021-01-29</td>\n",
       "      <td>506.00</td>\n",
       "      <td>C</td>\n",
       "      <td>CHEDRAUI (APPRIZA)_MEXICO</td>\n",
       "      <td>1</td>\n",
       "      <td>2021</td>\n",
       "    </tr>\n",
       "  </tbody>\n",
       "</table>\n",
       "<p>201156 rows × 8 columns</p>\n",
       "</div>"
      ],
      "text/plain": [
       "                                     PAYER      COUNTRY       DATE     AMOUNT  \\\n",
       "2                                  FICOHSA     HONDURAS 2021-02-22   57103.44   \n",
       "3                            ELEKTRA (BTS)    GUATEMALA 2022-07-16   45592.78   \n",
       "4                             BANORTE (UT)       MEXICO 2022-07-16  532834.61   \n",
       "6                                  SORIANA       MEXICO 2022-04-11  145244.61   \n",
       "7                    BBVA - BANCOMER (BTS)       MEXICO 2021-11-05  -15445.50   \n",
       "...                                    ...          ...        ...        ...   \n",
       "270662                              AIRPAK       MEXICO 2023-02-12     100.00   \n",
       "270663                                NAFA  GAMBIA, THE 2022-11-18      88.00   \n",
       "270664          FARMACIAS GUADALAJARA (UT)       MEXICO 2021-09-15     127.00   \n",
       "270665  BANCO DAVIVIENDA SALVADORENO (BTS)  EL SALVADOR 2021-08-14     -90.00   \n",
       "270666                  CHEDRAUI (APPRIZA)       MEXICO 2021-01-29     506.00   \n",
       "\n",
       "       FLAG                                   PAYER_COUNTRY  MONTH  YEAR  \n",
       "2         P                                FICOHSA_HONDURAS      2  2021  \n",
       "3         P                         ELEKTRA (BTS)_GUATEMALA      7  2022  \n",
       "4         P                             BANORTE (UT)_MEXICO      7  2022  \n",
       "6         P                                  SORIANA_MEXICO      4  2022  \n",
       "7         C                    BBVA - BANCOMER (BTS)_MEXICO     11  2021  \n",
       "...     ...                                             ...    ...   ...  \n",
       "270662    T                                   AIRPAK_MEXICO      2  2023  \n",
       "270663    P                                NAFA_GAMBIA, THE     11  2022  \n",
       "270664    T               FARMACIAS GUADALAJARA (UT)_MEXICO      9  2021  \n",
       "270665    C  BANCO DAVIVIENDA SALVADORENO (BTS)_EL SALVADOR      8  2021  \n",
       "270666    C                       CHEDRAUI (APPRIZA)_MEXICO      1  2021  \n",
       "\n",
       "[201156 rows x 8 columns]"
      ]
     },
     "execution_count": 13,
     "metadata": {},
     "output_type": "execute_result"
    }
   ],
   "source": [
    "df"
   ]
  },
  {
   "cell_type": "code",
   "execution_count": 14,
   "id": "f5fc2d70-1b39-4b52-90bf-3da73d2c958c",
   "metadata": {
    "tags": []
   },
   "outputs": [],
   "source": [
    "#Grouping by month/year\n",
    "df_monthly = df.groupby(['YEAR', 'MONTH', 'PAYER_COUNTRY', 'FLAG'])['AMOUNT'].sum().reset_index()"
   ]
  },
  {
   "cell_type": "code",
   "execution_count": 15,
   "id": "8f0a7534-3dce-4a51-9e9e-c9e166905e0c",
   "metadata": {
    "tags": []
   },
   "outputs": [
    {
     "data": {
      "text/plain": [
       "25108599119.9649"
      ]
     },
     "execution_count": 15,
     "metadata": {},
     "output_type": "execute_result"
    }
   ],
   "source": [
    "df_monthly['AMOUNT'].sum()"
   ]
  },
  {
   "cell_type": "code",
   "execution_count": 16,
   "id": "eb6c3114-b45f-4d7b-a498-9ab57684f72d",
   "metadata": {
    "tags": []
   },
   "outputs": [
    {
     "data": {
      "text/plain": [
       "25108599119.964897"
      ]
     },
     "execution_count": 16,
     "metadata": {},
     "output_type": "execute_result"
    }
   ],
   "source": [
    "df['AMOUNT'].sum()"
   ]
  },
  {
   "cell_type": "code",
   "execution_count": 17,
   "id": "19d68379-5b52-4b65-b2a7-55ae7284c757",
   "metadata": {
    "tags": []
   },
   "outputs": [
    {
     "data": {
      "text/plain": [
       "-2025334.4500000007"
      ]
     },
     "execution_count": 17,
     "metadata": {},
     "output_type": "execute_result"
    }
   ],
   "source": [
    "df_flagC['AMOUNT'].sum()"
   ]
  },
  {
   "cell_type": "code",
   "execution_count": 18,
   "id": "37b113a7-bfb6-4c2f-a877-060e3fe86b02",
   "metadata": {
    "tags": []
   },
   "outputs": [
    {
     "data": {
      "text/plain": [
       "-9371533.45"
      ]
     },
     "execution_count": 18,
     "metadata": {},
     "output_type": "execute_result"
    }
   ],
   "source": [
    "df_flagC[df_flagC['PAYER'] == 'EXPIRED ORDERS']['AMOUNT'].sum()"
   ]
  },
  {
   "cell_type": "code",
   "execution_count": 76,
   "id": "c4055d6c-ce55-44de-a7ec-49f22e1f3c4a",
   "metadata": {
    "tags": []
   },
   "outputs": [],
   "source": [
    "# Counting orders by FLAG per month and year\n",
    "count_per_flag = df.groupby(['YEAR', 'MONTH', 'FLAG'])['FLAG'].count().reset_index(name='COUNT_PER_FLAG')\n",
    "\n",
    "# Total transactions per month and year\n",
    "monthly_tx = df.groupby(['YEAR', 'MONTH'])['FLAG'].count().reset_index(name='MONTHLY_TX')\n",
    "monthly_tx = pd.merge(count_per_flag, monthly_tx, on=['YEAR', 'MONTH']) \n",
    "\n",
    "# Calculate the percentage each FLAG represents over the total transactions\n",
    "monthly_tx['PERCENTAGE'] = monthly_tx['COUNT_PER_FLAG'] / monthly_tx['MONTHLY_TX']\n",
    "\n",
    "# Accumulated amount by FLAG per month and year\n",
    "amount_per_flag = df.groupby(['YEAR', 'MONTH', 'FLAG'])['AMOUNT'].sum().reset_index(name='AMOUNT_FLAG')\n",
    "\n",
    "# Total amount per month and year\n",
    "monthly_amount = df.groupby(['YEAR', 'MONTH'])['AMOUNT'].sum().reset_index(name='MONTHLY_AMOUNT')\n",
    "monthly_amount = pd.merge(amount_per_flag, monthly_amount, on=['YEAR', 'MONTH']) \n",
    "\n",
    "# Calculate the percentage the AMOUNT FLAG represents over the AMOUNT MONTHLY\n",
    "monthly_amount['PERCENTAGE_AMOUNT'] = monthly_amount['AMOUNT_FLAG'] / monthly_amount['MONTHLY_AMOUNT']"
   ]
  },
  {
   "cell_type": "code",
   "execution_count": 78,
   "id": "a4d4686b-778e-4418-9ca0-31d0210781ba",
   "metadata": {
    "tags": []
   },
   "outputs": [],
   "source": [
    "# Merge the results into a final DF\n",
    "result = pd.merge(monthly_tx, monthly_amount[['YEAR', 'MONTH', 'FLAG', 'AMOUNT_FLAG', 'PERCENTAGE_AMOUNT']], on=['YEAR', 'MONTH', 'FLAG'])"
   ]
  },
  {
   "cell_type": "code",
   "execution_count": 79,
   "id": "dc6a8eb3-4517-405b-b7c3-e00d7c82b7f4",
   "metadata": {
    "tags": []
   },
   "outputs": [
    {
     "data": {
      "text/html": [
       "<div>\n",
       "<style scoped>\n",
       "    .dataframe tbody tr th:only-of-type {\n",
       "        vertical-align: middle;\n",
       "    }\n",
       "\n",
       "    .dataframe tbody tr th {\n",
       "        vertical-align: top;\n",
       "    }\n",
       "\n",
       "    .dataframe thead th {\n",
       "        text-align: right;\n",
       "    }\n",
       "</style>\n",
       "<table border=\"1\" class=\"dataframe\">\n",
       "  <thead>\n",
       "    <tr style=\"text-align: right;\">\n",
       "      <th></th>\n",
       "      <th>YEAR</th>\n",
       "      <th>MONTH</th>\n",
       "      <th>FLAG</th>\n",
       "      <th>COUNT_PER_FLAG</th>\n",
       "      <th>MONTHLY_TX</th>\n",
       "      <th>PERCENTAGE</th>\n",
       "      <th>AMOUNT_FLAG</th>\n",
       "      <th>PERCENTAGE_AMOUNT</th>\n",
       "    </tr>\n",
       "  </thead>\n",
       "  <tbody>\n",
       "    <tr>\n",
       "      <th>112</th>\n",
       "      <td>2023</td>\n",
       "      <td>3</td>\n",
       "      <td>T</td>\n",
       "      <td>835</td>\n",
       "      <td>6813</td>\n",
       "      <td>0.122560</td>\n",
       "      <td>6.769662e+05</td>\n",
       "      <td>0.000735</td>\n",
       "    </tr>\n",
       "    <tr>\n",
       "      <th>113</th>\n",
       "      <td>2023</td>\n",
       "      <td>4</td>\n",
       "      <td>C</td>\n",
       "      <td>2696</td>\n",
       "      <td>6643</td>\n",
       "      <td>0.405841</td>\n",
       "      <td>4.008515e+05</td>\n",
       "      <td>0.000421</td>\n",
       "    </tr>\n",
       "    <tr>\n",
       "      <th>114</th>\n",
       "      <td>2023</td>\n",
       "      <td>4</td>\n",
       "      <td>H</td>\n",
       "      <td>48</td>\n",
       "      <td>6643</td>\n",
       "      <td>0.007226</td>\n",
       "      <td>4.099100e+04</td>\n",
       "      <td>0.000043</td>\n",
       "    </tr>\n",
       "    <tr>\n",
       "      <th>115</th>\n",
       "      <td>2023</td>\n",
       "      <td>4</td>\n",
       "      <td>P</td>\n",
       "      <td>3076</td>\n",
       "      <td>6643</td>\n",
       "      <td>0.463044</td>\n",
       "      <td>9.513031e+08</td>\n",
       "      <td>0.998153</td>\n",
       "    </tr>\n",
       "    <tr>\n",
       "      <th>116</th>\n",
       "      <td>2023</td>\n",
       "      <td>4</td>\n",
       "      <td>T</td>\n",
       "      <td>823</td>\n",
       "      <td>6643</td>\n",
       "      <td>0.123890</td>\n",
       "      <td>1.318757e+06</td>\n",
       "      <td>0.001384</td>\n",
       "    </tr>\n",
       "    <tr>\n",
       "      <th>117</th>\n",
       "      <td>2023</td>\n",
       "      <td>5</td>\n",
       "      <td>C</td>\n",
       "      <td>2764</td>\n",
       "      <td>6896</td>\n",
       "      <td>0.400812</td>\n",
       "      <td>-3.214218e+05</td>\n",
       "      <td>-0.000310</td>\n",
       "    </tr>\n",
       "    <tr>\n",
       "      <th>118</th>\n",
       "      <td>2023</td>\n",
       "      <td>5</td>\n",
       "      <td>H</td>\n",
       "      <td>74</td>\n",
       "      <td>6896</td>\n",
       "      <td>0.010731</td>\n",
       "      <td>4.413736e+04</td>\n",
       "      <td>0.000043</td>\n",
       "    </tr>\n",
       "    <tr>\n",
       "      <th>119</th>\n",
       "      <td>2023</td>\n",
       "      <td>5</td>\n",
       "      <td>P</td>\n",
       "      <td>3218</td>\n",
       "      <td>6896</td>\n",
       "      <td>0.466647</td>\n",
       "      <td>1.037728e+09</td>\n",
       "      <td>0.999523</td>\n",
       "    </tr>\n",
       "    <tr>\n",
       "      <th>120</th>\n",
       "      <td>2023</td>\n",
       "      <td>5</td>\n",
       "      <td>T</td>\n",
       "      <td>840</td>\n",
       "      <td>6896</td>\n",
       "      <td>0.121810</td>\n",
       "      <td>7.720937e+05</td>\n",
       "      <td>0.000744</td>\n",
       "    </tr>\n",
       "    <tr>\n",
       "      <th>121</th>\n",
       "      <td>2023</td>\n",
       "      <td>6</td>\n",
       "      <td>C</td>\n",
       "      <td>2697</td>\n",
       "      <td>6773</td>\n",
       "      <td>0.398199</td>\n",
       "      <td>-1.624949e+05</td>\n",
       "      <td>-0.000161</td>\n",
       "    </tr>\n",
       "    <tr>\n",
       "      <th>122</th>\n",
       "      <td>2023</td>\n",
       "      <td>6</td>\n",
       "      <td>H</td>\n",
       "      <td>76</td>\n",
       "      <td>6773</td>\n",
       "      <td>0.011221</td>\n",
       "      <td>4.855232e+04</td>\n",
       "      <td>0.000048</td>\n",
       "    </tr>\n",
       "    <tr>\n",
       "      <th>123</th>\n",
       "      <td>2023</td>\n",
       "      <td>6</td>\n",
       "      <td>P</td>\n",
       "      <td>3187</td>\n",
       "      <td>6773</td>\n",
       "      <td>0.470545</td>\n",
       "      <td>1.011263e+09</td>\n",
       "      <td>0.999381</td>\n",
       "    </tr>\n",
       "    <tr>\n",
       "      <th>124</th>\n",
       "      <td>2023</td>\n",
       "      <td>6</td>\n",
       "      <td>T</td>\n",
       "      <td>813</td>\n",
       "      <td>6773</td>\n",
       "      <td>0.120035</td>\n",
       "      <td>7.399799e+05</td>\n",
       "      <td>0.000731</td>\n",
       "    </tr>\n",
       "    <tr>\n",
       "      <th>125</th>\n",
       "      <td>2023</td>\n",
       "      <td>7</td>\n",
       "      <td>C</td>\n",
       "      <td>2739</td>\n",
       "      <td>6962</td>\n",
       "      <td>0.393421</td>\n",
       "      <td>5.324151e+05</td>\n",
       "      <td>0.000497</td>\n",
       "    </tr>\n",
       "    <tr>\n",
       "      <th>126</th>\n",
       "      <td>2023</td>\n",
       "      <td>7</td>\n",
       "      <td>H</td>\n",
       "      <td>74</td>\n",
       "      <td>6962</td>\n",
       "      <td>0.010629</td>\n",
       "      <td>5.881288e+04</td>\n",
       "      <td>0.000055</td>\n",
       "    </tr>\n",
       "    <tr>\n",
       "      <th>127</th>\n",
       "      <td>2023</td>\n",
       "      <td>7</td>\n",
       "      <td>P</td>\n",
       "      <td>3284</td>\n",
       "      <td>6962</td>\n",
       "      <td>0.471704</td>\n",
       "      <td>1.069048e+09</td>\n",
       "      <td>0.998732</td>\n",
       "    </tr>\n",
       "    <tr>\n",
       "      <th>128</th>\n",
       "      <td>2023</td>\n",
       "      <td>7</td>\n",
       "      <td>T</td>\n",
       "      <td>865</td>\n",
       "      <td>6962</td>\n",
       "      <td>0.124246</td>\n",
       "      <td>7.663502e+05</td>\n",
       "      <td>0.000716</td>\n",
       "    </tr>\n",
       "    <tr>\n",
       "      <th>129</th>\n",
       "      <td>2023</td>\n",
       "      <td>8</td>\n",
       "      <td>C</td>\n",
       "      <td>2765</td>\n",
       "      <td>6961</td>\n",
       "      <td>0.397213</td>\n",
       "      <td>-7.018733e+05</td>\n",
       "      <td>-0.000662</td>\n",
       "    </tr>\n",
       "    <tr>\n",
       "      <th>130</th>\n",
       "      <td>2023</td>\n",
       "      <td>8</td>\n",
       "      <td>H</td>\n",
       "      <td>88</td>\n",
       "      <td>6961</td>\n",
       "      <td>0.012642</td>\n",
       "      <td>6.361884e+04</td>\n",
       "      <td>0.000060</td>\n",
       "    </tr>\n",
       "    <tr>\n",
       "      <th>131</th>\n",
       "      <td>2023</td>\n",
       "      <td>8</td>\n",
       "      <td>P</td>\n",
       "      <td>3238</td>\n",
       "      <td>6961</td>\n",
       "      <td>0.465163</td>\n",
       "      <td>1.060480e+09</td>\n",
       "      <td>0.999814</td>\n",
       "    </tr>\n",
       "    <tr>\n",
       "      <th>132</th>\n",
       "      <td>2023</td>\n",
       "      <td>8</td>\n",
       "      <td>T</td>\n",
       "      <td>870</td>\n",
       "      <td>6961</td>\n",
       "      <td>0.124982</td>\n",
       "      <td>8.351053e+05</td>\n",
       "      <td>0.000787</td>\n",
       "    </tr>\n",
       "    <tr>\n",
       "      <th>133</th>\n",
       "      <td>2023</td>\n",
       "      <td>9</td>\n",
       "      <td>C</td>\n",
       "      <td>2678</td>\n",
       "      <td>6913</td>\n",
       "      <td>0.387386</td>\n",
       "      <td>4.440454e+05</td>\n",
       "      <td>0.000402</td>\n",
       "    </tr>\n",
       "    <tr>\n",
       "      <th>134</th>\n",
       "      <td>2023</td>\n",
       "      <td>9</td>\n",
       "      <td>H</td>\n",
       "      <td>94</td>\n",
       "      <td>6913</td>\n",
       "      <td>0.013598</td>\n",
       "      <td>1.008895e+05</td>\n",
       "      <td>0.000091</td>\n",
       "    </tr>\n",
       "    <tr>\n",
       "      <th>135</th>\n",
       "      <td>2023</td>\n",
       "      <td>9</td>\n",
       "      <td>P</td>\n",
       "      <td>3147</td>\n",
       "      <td>6913</td>\n",
       "      <td>0.455229</td>\n",
       "      <td>1.101572e+09</td>\n",
       "      <td>0.998334</td>\n",
       "    </tr>\n",
       "    <tr>\n",
       "      <th>136</th>\n",
       "      <td>2023</td>\n",
       "      <td>9</td>\n",
       "      <td>T</td>\n",
       "      <td>994</td>\n",
       "      <td>6913</td>\n",
       "      <td>0.143787</td>\n",
       "      <td>1.293078e+06</td>\n",
       "      <td>0.001172</td>\n",
       "    </tr>\n",
       "    <tr>\n",
       "      <th>137</th>\n",
       "      <td>2023</td>\n",
       "      <td>10</td>\n",
       "      <td>C</td>\n",
       "      <td>1874</td>\n",
       "      <td>5575</td>\n",
       "      <td>0.336143</td>\n",
       "      <td>-3.062945e+06</td>\n",
       "      <td>-0.004115</td>\n",
       "    </tr>\n",
       "    <tr>\n",
       "      <th>138</th>\n",
       "      <td>2023</td>\n",
       "      <td>10</td>\n",
       "      <td>H</td>\n",
       "      <td>228</td>\n",
       "      <td>5575</td>\n",
       "      <td>0.040897</td>\n",
       "      <td>1.702678e+06</td>\n",
       "      <td>0.002288</td>\n",
       "    </tr>\n",
       "    <tr>\n",
       "      <th>139</th>\n",
       "      <td>2023</td>\n",
       "      <td>10</td>\n",
       "      <td>I</td>\n",
       "      <td>3</td>\n",
       "      <td>5575</td>\n",
       "      <td>0.000538</td>\n",
       "      <td>1.869158e+05</td>\n",
       "      <td>0.000251</td>\n",
       "    </tr>\n",
       "    <tr>\n",
       "      <th>140</th>\n",
       "      <td>2023</td>\n",
       "      <td>10</td>\n",
       "      <td>P</td>\n",
       "      <td>2150</td>\n",
       "      <td>5575</td>\n",
       "      <td>0.385650</td>\n",
       "      <td>7.066470e+08</td>\n",
       "      <td>0.949468</td>\n",
       "    </tr>\n",
       "    <tr>\n",
       "      <th>141</th>\n",
       "      <td>2023</td>\n",
       "      <td>10</td>\n",
       "      <td>T</td>\n",
       "      <td>1320</td>\n",
       "      <td>5575</td>\n",
       "      <td>0.236771</td>\n",
       "      <td>3.878228e+07</td>\n",
       "      <td>0.052109</td>\n",
       "    </tr>\n",
       "  </tbody>\n",
       "</table>\n",
       "</div>"
      ],
      "text/plain": [
       "     YEAR  MONTH FLAG  COUNT_PER_FLAG  MONTHLY_TX  PERCENTAGE   AMOUNT_FLAG  \\\n",
       "112  2023      3    T             835        6813    0.122560  6.769662e+05   \n",
       "113  2023      4    C            2696        6643    0.405841  4.008515e+05   \n",
       "114  2023      4    H              48        6643    0.007226  4.099100e+04   \n",
       "115  2023      4    P            3076        6643    0.463044  9.513031e+08   \n",
       "116  2023      4    T             823        6643    0.123890  1.318757e+06   \n",
       "117  2023      5    C            2764        6896    0.400812 -3.214218e+05   \n",
       "118  2023      5    H              74        6896    0.010731  4.413736e+04   \n",
       "119  2023      5    P            3218        6896    0.466647  1.037728e+09   \n",
       "120  2023      5    T             840        6896    0.121810  7.720937e+05   \n",
       "121  2023      6    C            2697        6773    0.398199 -1.624949e+05   \n",
       "122  2023      6    H              76        6773    0.011221  4.855232e+04   \n",
       "123  2023      6    P            3187        6773    0.470545  1.011263e+09   \n",
       "124  2023      6    T             813        6773    0.120035  7.399799e+05   \n",
       "125  2023      7    C            2739        6962    0.393421  5.324151e+05   \n",
       "126  2023      7    H              74        6962    0.010629  5.881288e+04   \n",
       "127  2023      7    P            3284        6962    0.471704  1.069048e+09   \n",
       "128  2023      7    T             865        6962    0.124246  7.663502e+05   \n",
       "129  2023      8    C            2765        6961    0.397213 -7.018733e+05   \n",
       "130  2023      8    H              88        6961    0.012642  6.361884e+04   \n",
       "131  2023      8    P            3238        6961    0.465163  1.060480e+09   \n",
       "132  2023      8    T             870        6961    0.124982  8.351053e+05   \n",
       "133  2023      9    C            2678        6913    0.387386  4.440454e+05   \n",
       "134  2023      9    H              94        6913    0.013598  1.008895e+05   \n",
       "135  2023      9    P            3147        6913    0.455229  1.101572e+09   \n",
       "136  2023      9    T             994        6913    0.143787  1.293078e+06   \n",
       "137  2023     10    C            1874        5575    0.336143 -3.062945e+06   \n",
       "138  2023     10    H             228        5575    0.040897  1.702678e+06   \n",
       "139  2023     10    I               3        5575    0.000538  1.869158e+05   \n",
       "140  2023     10    P            2150        5575    0.385650  7.066470e+08   \n",
       "141  2023     10    T            1320        5575    0.236771  3.878228e+07   \n",
       "\n",
       "     PERCENTAGE_AMOUNT  \n",
       "112           0.000735  \n",
       "113           0.000421  \n",
       "114           0.000043  \n",
       "115           0.998153  \n",
       "116           0.001384  \n",
       "117          -0.000310  \n",
       "118           0.000043  \n",
       "119           0.999523  \n",
       "120           0.000744  \n",
       "121          -0.000161  \n",
       "122           0.000048  \n",
       "123           0.999381  \n",
       "124           0.000731  \n",
       "125           0.000497  \n",
       "126           0.000055  \n",
       "127           0.998732  \n",
       "128           0.000716  \n",
       "129          -0.000662  \n",
       "130           0.000060  \n",
       "131           0.999814  \n",
       "132           0.000787  \n",
       "133           0.000402  \n",
       "134           0.000091  \n",
       "135           0.998334  \n",
       "136           0.001172  \n",
       "137          -0.004115  \n",
       "138           0.002288  \n",
       "139           0.000251  \n",
       "140           0.949468  \n",
       "141           0.052109  "
      ]
     },
     "execution_count": 79,
     "metadata": {},
     "output_type": "execute_result"
    }
   ],
   "source": [
    "result.tail(30)"
   ]
  },
  {
   "cell_type": "code",
   "execution_count": 80,
   "id": "460edaf5-8d9c-47a9-9165-ffac69f46672",
   "metadata": {
    "tags": []
   },
   "outputs": [],
   "source": [
    "result.to_excel('FlagC.xlsx')"
   ]
  },
  {
   "cell_type": "code",
   "execution_count": 82,
   "id": "befdc8c1-4651-4d18-8805-22de7168170e",
   "metadata": {
    "tags": []
   },
   "outputs": [
    {
     "data": {
      "text/plain": [
       "0.00020920502092050208"
      ]
     },
     "execution_count": 82,
     "metadata": {},
     "output_type": "execute_result"
    }
   ],
   "source": [
    "result['PERCENTAGE'].min()"
   ]
  },
  {
   "cell_type": "code",
   "execution_count": 83,
   "id": "017bc502-e669-4e2f-a8a7-4bc293659420",
   "metadata": {
    "tags": []
   },
   "outputs": [
    {
     "data": {
      "text/plain": [
       "0.4819277108433735"
      ]
     },
     "execution_count": 83,
     "metadata": {},
     "output_type": "execute_result"
    }
   ],
   "source": [
    "result['PERCENTAGE'].max()"
   ]
  },
  {
   "cell_type": "code",
   "execution_count": 85,
   "id": "549e82f6-8fb2-44a6-b038-ab2924d13b5d",
   "metadata": {
    "tags": []
   },
   "outputs": [
    {
     "data": {
      "text/html": [
       "<div>\n",
       "<style scoped>\n",
       "    .dataframe tbody tr th:only-of-type {\n",
       "        vertical-align: middle;\n",
       "    }\n",
       "\n",
       "    .dataframe tbody tr th {\n",
       "        vertical-align: top;\n",
       "    }\n",
       "\n",
       "    .dataframe thead th {\n",
       "        text-align: right;\n",
       "    }\n",
       "</style>\n",
       "<table border=\"1\" class=\"dataframe\">\n",
       "  <thead>\n",
       "    <tr style=\"text-align: right;\">\n",
       "      <th></th>\n",
       "      <th>YEAR</th>\n",
       "      <th>MONTH</th>\n",
       "      <th>FLAG</th>\n",
       "      <th>COUNT_PER_FLAG</th>\n",
       "      <th>MONTHLY_TX</th>\n",
       "      <th>PERCENTAGE</th>\n",
       "      <th>AMOUNT_FLAG</th>\n",
       "      <th>PERCENTAGE_AMOUNT</th>\n",
       "    </tr>\n",
       "  </thead>\n",
       "  <tbody>\n",
       "    <tr>\n",
       "      <th>2</th>\n",
       "      <td>2020</td>\n",
       "      <td>12</td>\n",
       "      <td>P</td>\n",
       "      <td>80</td>\n",
       "      <td>166</td>\n",
       "      <td>0.481928</td>\n",
       "      <td>8463181.765</td>\n",
       "      <td>1.000309</td>\n",
       "    </tr>\n",
       "  </tbody>\n",
       "</table>\n",
       "</div>"
      ],
      "text/plain": [
       "   YEAR  MONTH FLAG  COUNT_PER_FLAG  MONTHLY_TX  PERCENTAGE  AMOUNT_FLAG  \\\n",
       "2  2020     12    P              80         166    0.481928  8463181.765   \n",
       "\n",
       "   PERCENTAGE_AMOUNT  \n",
       "2           1.000309  "
      ]
     },
     "execution_count": 85,
     "metadata": {},
     "output_type": "execute_result"
    }
   ],
   "source": [
    "result[result['PERCENTAGE'] == 0.4819277108433735]"
   ]
  },
  {
   "cell_type": "code",
   "execution_count": 91,
   "id": "a3e66bdf-5fd6-4855-b34e-07620f6f1cb1",
   "metadata": {
    "tags": []
   },
   "outputs": [
    {
     "data": {
      "text/html": [
       "<div>\n",
       "<style scoped>\n",
       "    .dataframe tbody tr th:only-of-type {\n",
       "        vertical-align: middle;\n",
       "    }\n",
       "\n",
       "    .dataframe tbody tr th {\n",
       "        vertical-align: top;\n",
       "    }\n",
       "\n",
       "    .dataframe thead th {\n",
       "        text-align: right;\n",
       "    }\n",
       "</style>\n",
       "<table border=\"1\" class=\"dataframe\">\n",
       "  <thead>\n",
       "    <tr style=\"text-align: right;\">\n",
       "      <th></th>\n",
       "      <th>YEAR</th>\n",
       "      <th>MONTH</th>\n",
       "      <th>FLAG</th>\n",
       "      <th>COUNT_PER_FLAG</th>\n",
       "      <th>MONTHLY_TX</th>\n",
       "      <th>PERCENTAGE</th>\n",
       "      <th>AMOUNT_FLAG</th>\n",
       "      <th>PERCENTAGE_AMOUNT</th>\n",
       "    </tr>\n",
       "  </thead>\n",
       "  <tbody>\n",
       "    <tr>\n",
       "      <th>4</th>\n",
       "      <td>2021</td>\n",
       "      <td>1</td>\n",
       "      <td>C</td>\n",
       "      <td>2208</td>\n",
       "      <td>5236</td>\n",
       "      <td>0.421696</td>\n",
       "      <td>450350.48</td>\n",
       "      <td>0.001111</td>\n",
       "    </tr>\n",
       "    <tr>\n",
       "      <th>8</th>\n",
       "      <td>2021</td>\n",
       "      <td>2</td>\n",
       "      <td>C</td>\n",
       "      <td>1995</td>\n",
       "      <td>4780</td>\n",
       "      <td>0.417364</td>\n",
       "      <td>156759.68</td>\n",
       "      <td>0.000402</td>\n",
       "    </tr>\n",
       "    <tr>\n",
       "      <th>13</th>\n",
       "      <td>2021</td>\n",
       "      <td>3</td>\n",
       "      <td>C</td>\n",
       "      <td>2275</td>\n",
       "      <td>5464</td>\n",
       "      <td>0.416362</td>\n",
       "      <td>47221.19</td>\n",
       "      <td>0.000095</td>\n",
       "    </tr>\n",
       "    <tr>\n",
       "      <th>17</th>\n",
       "      <td>2021</td>\n",
       "      <td>4</td>\n",
       "      <td>C</td>\n",
       "      <td>2211</td>\n",
       "      <td>5339</td>\n",
       "      <td>0.414122</td>\n",
       "      <td>-69584.61</td>\n",
       "      <td>-0.000138</td>\n",
       "    </tr>\n",
       "    <tr>\n",
       "      <th>21</th>\n",
       "      <td>2021</td>\n",
       "      <td>5</td>\n",
       "      <td>C</td>\n",
       "      <td>2353</td>\n",
       "      <td>5666</td>\n",
       "      <td>0.415284</td>\n",
       "      <td>363729.04</td>\n",
       "      <td>0.000639</td>\n",
       "    </tr>\n",
       "    <tr>\n",
       "      <th>25</th>\n",
       "      <td>2021</td>\n",
       "      <td>6</td>\n",
       "      <td>C</td>\n",
       "      <td>2277</td>\n",
       "      <td>5434</td>\n",
       "      <td>0.419028</td>\n",
       "      <td>-146703.51</td>\n",
       "      <td>-0.000268</td>\n",
       "    </tr>\n",
       "    <tr>\n",
       "      <th>29</th>\n",
       "      <td>2021</td>\n",
       "      <td>7</td>\n",
       "      <td>C</td>\n",
       "      <td>2346</td>\n",
       "      <td>5603</td>\n",
       "      <td>0.418704</td>\n",
       "      <td>-121095.31</td>\n",
       "      <td>-0.000219</td>\n",
       "    </tr>\n",
       "    <tr>\n",
       "      <th>33</th>\n",
       "      <td>2021</td>\n",
       "      <td>8</td>\n",
       "      <td>C</td>\n",
       "      <td>2366</td>\n",
       "      <td>5639</td>\n",
       "      <td>0.419578</td>\n",
       "      <td>414913.78</td>\n",
       "      <td>0.000700</td>\n",
       "    </tr>\n",
       "    <tr>\n",
       "      <th>37</th>\n",
       "      <td>2021</td>\n",
       "      <td>9</td>\n",
       "      <td>C</td>\n",
       "      <td>2260</td>\n",
       "      <td>5436</td>\n",
       "      <td>0.415747</td>\n",
       "      <td>-104653.03</td>\n",
       "      <td>-0.000184</td>\n",
       "    </tr>\n",
       "    <tr>\n",
       "      <th>41</th>\n",
       "      <td>2021</td>\n",
       "      <td>10</td>\n",
       "      <td>C</td>\n",
       "      <td>2337</td>\n",
       "      <td>5633</td>\n",
       "      <td>0.414877</td>\n",
       "      <td>83519.11</td>\n",
       "      <td>0.000130</td>\n",
       "    </tr>\n",
       "    <tr>\n",
       "      <th>45</th>\n",
       "      <td>2021</td>\n",
       "      <td>11</td>\n",
       "      <td>C</td>\n",
       "      <td>2179</td>\n",
       "      <td>5331</td>\n",
       "      <td>0.408741</td>\n",
       "      <td>-171314.69</td>\n",
       "      <td>-0.000278</td>\n",
       "    </tr>\n",
       "    <tr>\n",
       "      <th>49</th>\n",
       "      <td>2021</td>\n",
       "      <td>12</td>\n",
       "      <td>C</td>\n",
       "      <td>2316</td>\n",
       "      <td>5639</td>\n",
       "      <td>0.410711</td>\n",
       "      <td>-235249.10</td>\n",
       "      <td>-0.000368</td>\n",
       "    </tr>\n",
       "  </tbody>\n",
       "</table>\n",
       "</div>"
      ],
      "text/plain": [
       "    YEAR  MONTH FLAG  COUNT_PER_FLAG  MONTHLY_TX  PERCENTAGE  AMOUNT_FLAG  \\\n",
       "4   2021      1    C            2208        5236    0.421696    450350.48   \n",
       "8   2021      2    C            1995        4780    0.417364    156759.68   \n",
       "13  2021      3    C            2275        5464    0.416362     47221.19   \n",
       "17  2021      4    C            2211        5339    0.414122    -69584.61   \n",
       "21  2021      5    C            2353        5666    0.415284    363729.04   \n",
       "25  2021      6    C            2277        5434    0.419028   -146703.51   \n",
       "29  2021      7    C            2346        5603    0.418704   -121095.31   \n",
       "33  2021      8    C            2366        5639    0.419578    414913.78   \n",
       "37  2021      9    C            2260        5436    0.415747   -104653.03   \n",
       "41  2021     10    C            2337        5633    0.414877     83519.11   \n",
       "45  2021     11    C            2179        5331    0.408741   -171314.69   \n",
       "49  2021     12    C            2316        5639    0.410711   -235249.10   \n",
       "\n",
       "    PERCENTAGE_AMOUNT  \n",
       "4            0.001111  \n",
       "8            0.000402  \n",
       "13           0.000095  \n",
       "17          -0.000138  \n",
       "21           0.000639  \n",
       "25          -0.000268  \n",
       "29          -0.000219  \n",
       "33           0.000700  \n",
       "37          -0.000184  \n",
       "41           0.000130  \n",
       "45          -0.000278  \n",
       "49          -0.000368  "
      ]
     },
     "execution_count": 91,
     "metadata": {},
     "output_type": "execute_result"
    }
   ],
   "source": [
    "result[(result['YEAR'] == 2021) & (result['FLAG'] == 'C')]"
   ]
  },
  {
   "cell_type": "code",
   "execution_count": 92,
   "id": "00f9acec-d746-4cdd-9179-40a11688513e",
   "metadata": {
    "tags": []
   },
   "outputs": [],
   "source": [
    "import matplotlib.pyplot as plt\n",
    "\n",
    "# Filter data by year\n",
    "data_2021 = result[(result['YEAR'] == 2021) & (result['FLAG'] == 'C')]\n",
    "data_2022 = result[(result['YEAR'] == 2022) & (result['FLAG'] == 'C')]\n",
    "data_2023 = result[(result['YEAR'] == 2023) & (result['FLAG'] == 'C')]"
   ]
  },
  {
   "cell_type": "code",
   "execution_count": 93,
   "id": "c50498ad-513a-47f2-b197-32438cfa9320",
   "metadata": {
    "tags": []
   },
   "outputs": [
    {
     "data": {
      "image/png": "[encoded data removed]",
      "text/plain": [
       "<Figure size 1000x600 with 1 Axes>"
      ]
     },
     "metadata": {},
     "output_type": "display_data"
    },
    {
     "data": {
      "image/png": "[encoded data removed]",
      "text/plain": [
       "<Figure size 1000x600 with 1 Axes>"
      ]
     },
     "metadata": {},
     "output_type": "display_data"
    },
    {
     "data": {
      "image/png": "[encoded data removed]",
      "text/plain": [
       "<Figure size 1000x600 with 1 Axes>"
      ]
     },
     "metadata": {},
     "output_type": "display_data"
    }
   ],
   "source": [
    "# Plotting PERCENTAGE for each year\n",
    "plt.figure(figsize=(10, 6))\n",
    "plt.plot(data_2021['MONTH'], data_2021['PERCENTAGE'], label='2021')\n",
    "plt.xlabel('Month')\n",
    "plt.ylabel('Percentage')\n",
    "plt.title('Percentage Variation over Months (2021)')\n",
    "plt.legend()\n",
    "plt.grid(True)\n",
    "plt.show()\n",
    "\n",
    "plt.figure(figsize=(10, 6))\n",
    "plt.plot(data_2022['MONTH'], data_2022['PERCENTAGE'], label='2022')\n",
    "plt.xlabel('Month')\n",
    "plt.ylabel('Percentage')\n",
    "plt.title('Percentage Variation over Months (2022)')\n",
    "plt.legend()\n",
    "plt.grid(True)\n",
    "plt.show()\n",
    "\n",
    "plt.figure(figsize=(10, 6))\n",
    "plt.plot(data_2023['MONTH'], data_2023['PERCENTAGE'], label='2023')\n",
    "plt.xlabel('Month')\n",
    "plt.ylabel('Percentage')\n",
    "plt.title('Percentage Variation over Months (2023)')\n",
    "plt.legend()\n",
    "plt.grid(True)\n",
    "plt.show()"
   ]
  },
  {
   "cell_type": "code",
   "execution_count": 94,
   "id": "68f8af45-1b09-415a-9ed4-cb236b80e77f",
   "metadata": {
    "tags": []
   },
   "outputs": [
    {
     "data": {
      "image/png": "[encoded data removed]",
      "text/plain": [
       "<Figure size 1000x600 with 1 Axes>"
      ]
     },
     "metadata": {},
     "output_type": "display_data"
    },
    {
     "data": {
      "image/png": "[encoded data removed]",
      "text/plain": [
       "<Figure size 1000x600 with 1 Axes>"
      ]
     },
     "metadata": {},
     "output_type": "display_data"
    },
    {
     "data": {
      "image/png": "[encoded data removed]",
      "text/plain": [
       "<Figure size 1000x600 with 1 Axes>"
      ]
     },
     "metadata": {},
     "output_type": "display_data"
    }
   ],
   "source": [
    "# Plotting PERCENTAGE_AMOUNT for each year\n",
    "plt.figure(figsize=(10, 6))\n",
    "plt.plot(data_2021['MONTH'], data_2021['PERCENTAGE_AMOUNT'], label='2021')\n",
    "plt.xlabel('Month')\n",
    "plt.ylabel('Percentage Amount')\n",
    "plt.title('Percentage Amount Variation over Months (2021)')\n",
    "plt.legend()\n",
    "plt.grid(True)\n",
    "plt.show()\n",
    "\n",
    "plt.figure(figsize=(10, 6))\n",
    "plt.plot(data_2022['MONTH'], data_2022['PERCENTAGE_AMOUNT'], label='2022')\n",
    "plt.xlabel('Month')\n",
    "plt.ylabel('Percentage Amount')\n",
    "plt.title('Percentage Amount Variation over Months (2022)')\n",
    "plt.legend()\n",
    "plt.grid(True)\n",
    "plt.show()\n",
    "\n",
    "plt.figure(figsize=(10, 6))\n",
    "plt.plot(data_2023['MONTH'], data_2023['PERCENTAGE_AMOUNT'], label='2023')\n",
    "plt.xlabel('Month')\n",
    "plt.ylabel('Percentage Amount')\n",
    "plt.title('Percentage Amount Variation over Months (2023)')\n",
    "plt.legend()\n",
    "plt.grid(True)\n",
    "plt.show()"
   ]
  },
  {
   "cell_type": "markdown",
   "id": "04eb016d-bf93-49a4-8688-7c3749f44d65",
   "metadata": {},
   "source": [
    "We reviewed several operations with VIAM, making SQL queries to visualize and track if the cancellations have their reverse operation to compensate, and what we found is that although in most cases those cancellations do not impact on the same day but can take up to a couple of weeks, finally if they run"
   ]
  },
  {
   "cell_type": "markdown",
   "id": "600625b0-c8b2-4b7f-870a-e8f735072b77",
   "metadata": {},
   "source": [
    "It is considered that having a small positive deviation is convenient for the company's operation."
   ]
  },
  {
   "cell_type": "code",
   "execution_count": null,
   "id": "0c70ee61-4691-4f26-90d2-7d9733a4a6e6",
   "metadata": {},
   "outputs": [],
   "source": []
  }
 ],
 "metadata": {
  "availableInstances": [
   {
    "_defaultOrder": 0,
    "_isFastLaunch": true,
    "category": "General purpose",
    "gpuNum": 0,
    "hideHardwareSpecs": false,
    "memoryGiB": 4,
    "name": "ml.t3.medium",
    "vcpuNum": 2
   },
   {
    "_defaultOrder": 1,
    "_isFastLaunch": false,
    "category": "General purpose",
    "gpuNum": 0,
    "hideHardwareSpecs": false,
    "memoryGiB": 8,
    "name": "ml.t3.large",
    "vcpuNum": 2
   },
   {
    "_defaultOrder": 2,
    "_isFastLaunch": false,
    "category": "General purpose",
    "gpuNum": 0,
    "hideHardwareSpecs": false,
    "memoryGiB": 16,
    "name": "ml.t3.xlarge",
    "vcpuNum": 4
   },
   {
    "_defaultOrder": 3,
    "_isFastLaunch": false,
    "category": "General purpose",
    "gpuNum": 0,
    "hideHardwareSpecs": false,
    "memoryGiB": 32,
    "name": "ml.t3.2xlarge",
    "vcpuNum": 8
   },
   {
    "_defaultOrder": 4,
    "_isFastLaunch": true,
    "category": "General purpose",
    "gpuNum": 0,
    "hideHardwareSpecs": false,
    "memoryGiB": 8,
    "name": "ml.m5.large",
    "vcpuNum": 2
   },
   {
    "_defaultOrder": 5,
    "_isFastLaunch": false,
    "category": "General purpose",
    "gpuNum": 0,
    "hideHardwareSpecs": false,
    "memoryGiB": 16,
    "name": "ml.m5.xlarge",
    "vcpuNum": 4
   },
   {
    "_defaultOrder": 6,
    "_isFastLaunch": false,
    "category": "General purpose",
    "gpuNum": 0,
    "hideHardwareSpecs": false,
    "memoryGiB": 32,
    "name": "ml.m5.2xlarge",
    "vcpuNum": 8
   },
   {
    "_defaultOrder": 7,
    "_isFastLaunch": false,
    "category": "General purpose",
    "gpuNum": 0,
    "hideHardwareSpecs": false,
    "memoryGiB": 64,
    "name": "ml.m5.4xlarge",
    "vcpuNum": 16
   },
   {
    "_defaultOrder": 8,
    "_isFastLaunch": false,
    "category": "General purpose",
    "gpuNum": 0,
    "hideHardwareSpecs": false,
    "memoryGiB": 128,
    "name": "ml.m5.8xlarge",
    "vcpuNum": 32
   },
   {
    "_defaultOrder": 9,
    "_isFastLaunch": false,
    "category": "General purpose",
    "gpuNum": 0,
    "hideHardwareSpecs": false,
    "memoryGiB": 192,
    "name": "ml.m5.12xlarge",
    "vcpuNum": 48
   },
   {
    "_defaultOrder": 10,
    "_isFastLaunch": false,
    "category": "General purpose",
    "gpuNum": 0,
    "hideHardwareSpecs": false,
    "memoryGiB": 256,
    "name": "ml.m5.16xlarge",
    "vcpuNum": 64
   },
   {
    "_defaultOrder": 11,
    "_isFastLaunch": false,
    "category": "General purpose",
    "gpuNum": 0,
    "hideHardwareSpecs": false,
    "memoryGiB": 384,
    "name": "ml.m5.24xlarge",
    "vcpuNum": 96
   },
   {
    "_defaultOrder": 12,
    "_isFastLaunch": false,
    "category": "General purpose",
    "gpuNum": 0,
    "hideHardwareSpecs": false,
    "memoryGiB": 8,
    "name": "ml.m5d.large",
    "vcpuNum": 2
   },
   {
    "_defaultOrder": 13,
    "_isFastLaunch": false,
    "category": "General purpose",
    "gpuNum": 0,
    "hideHardwareSpecs": false,
    "memoryGiB": 16,
    "name": "ml.m5d.xlarge",
    "vcpuNum": 4
   },
   {
    "_defaultOrder": 14,
    "_isFastLaunch": false,
    "category": "General purpose",
    "gpuNum": 0,
    "hideHardwareSpecs": false,
    "memoryGiB": 32,
    "name": "ml.m5d.2xlarge",
    "vcpuNum": 8
   },
   {
    "_defaultOrder": 15,
    "_isFastLaunch": false,
    "category": "General purpose",
    "gpuNum": 0,
    "hideHardwareSpecs": false,
    "memoryGiB": 64,
    "name": "ml.m5d.4xlarge",
    "vcpuNum": 16
   },
   {
    "_defaultOrder": 16,
    "_isFastLaunch": false,
    "category": "General purpose",
    "gpuNum": 0,
    "hideHardwareSpecs": false,
    "memoryGiB": 128,
    "name": "ml.m5d.8xlarge",
    "vcpuNum": 32
   },
   {
    "_defaultOrder": 17,
    "_isFastLaunch": false,
    "category": "General purpose",
    "gpuNum": 0,
    "hideHardwareSpecs": false,
    "memoryGiB": 192,
    "name": "ml.m5d.12xlarge",
    "vcpuNum": 48
   },
   {
    "_defaultOrder": 18,
    "_isFastLaunch": false,
    "category": "General purpose",
    "gpuNum": 0,
    "hideHardwareSpecs": false,
    "memoryGiB": 256,
    "name": "ml.m5d.16xlarge",
    "vcpuNum": 64
   },
   {
    "_defaultOrder": 19,
    "_isFastLaunch": false,
    "category": "General purpose",
    "gpuNum": 0,
    "hideHardwareSpecs": false,
    "memoryGiB": 384,
    "name": "ml.m5d.24xlarge",
    "vcpuNum": 96
   },
   {
    "_defaultOrder": 20,
    "_isFastLaunch": false,
    "category": "General purpose",
    "gpuNum": 0,
    "hideHardwareSpecs": true,
    "memoryGiB": 0,
    "name": "ml.geospatial.interactive",
    "supportedImageNames": [
     "sagemaker-geospatial-v1-0"
    ],
    "vcpuNum": 0
   },
   {
    "_defaultOrder": 21,
    "_isFastLaunch": true,
    "category": "Compute optimized",
    "gpuNum": 0,
    "hideHardwareSpecs": false,
    "memoryGiB": 4,
    "name": "ml.c5.large",
    "vcpuNum": 2
   },
   {
    "_defaultOrder": 22,
    "_isFastLaunch": false,
    "category": "Compute optimized",
    "gpuNum": 0,
    "hideHardwareSpecs": false,
    "memoryGiB": 8,
    "name": "ml.c5.xlarge",
    "vcpuNum": 4
   },
   {
    "_defaultOrder": 23,
    "_isFastLaunch": false,
    "category": "Compute optimized",
    "gpuNum": 0,
    "hideHardwareSpecs": false,
    "memoryGiB": 16,
    "name": "ml.c5.2xlarge",
    "vcpuNum": 8
   },
   {
    "_defaultOrder": 24,
    "_isFastLaunch": false,
    "category": "Compute optimized",
    "gpuNum": 0,
    "hideHardwareSpecs": false,
    "memoryGiB": 32,
    "name": "ml.c5.4xlarge",
    "vcpuNum": 16
   },
   {
    "_defaultOrder": 25,
    "_isFastLaunch": false,
    "category": "Compute optimized",
    "gpuNum": 0,
    "hideHardwareSpecs": false,
    "memoryGiB": 72,
    "name": "ml.c5.9xlarge",
    "vcpuNum": 36
   },
   {
    "_defaultOrder": 26,
    "_isFastLaunch": false,
    "category": "Compute optimized",
    "gpuNum": 0,
    "hideHardwareSpecs": false,
    "memoryGiB": 96,
    "name": "ml.c5.12xlarge",
    "vcpuNum": 48
   },
   {
    "_defaultOrder": 27,
    "_isFastLaunch": false,
    "category": "Compute optimized",
    "gpuNum": 0,
    "hideHardwareSpecs": false,
    "memoryGiB": 144,
    "name": "ml.c5.18xlarge",
    "vcpuNum": 72
   },
   {
    "_defaultOrder": 28,
    "_isFastLaunch": false,
    "category": "Compute optimized",
    "gpuNum": 0,
    "hideHardwareSpecs": false,
    "memoryGiB": 192,
    "name": "ml.c5.24xlarge",
    "vcpuNum": 96
   },
   {
    "_defaultOrder": 29,
    "_isFastLaunch": true,
    "category": "Accelerated computing",
    "gpuNum": 1,
    "hideHardwareSpecs": false,
    "memoryGiB": 16,
    "name": "ml.g4dn.xlarge",
    "vcpuNum": 4
   },
   {
    "_defaultOrder": 30,
    "_isFastLaunch": false,
    "category": "Accelerated computing",
    "gpuNum": 1,
    "hideHardwareSpecs": false,
    "memoryGiB": 32,
    "name": "ml.g4dn.2xlarge",
    "vcpuNum": 8
   },
   {
    "_defaultOrder": 31,
    "_isFastLaunch": false,
    "category": "Accelerated computing",
    "gpuNum": 1,
    "hideHardwareSpecs": false,
    "memoryGiB": 64,
    "name": "ml.g4dn.4xlarge",
    "vcpuNum": 16
   },
   {
    "_defaultOrder": 32,
    "_isFastLaunch": false,
    "category": "Accelerated computing",
    "gpuNum": 1,
    "hideHardwareSpecs": false,
    "memoryGiB": 128,
    "name": "ml.g4dn.8xlarge",
    "vcpuNum": 32
   },
   {
    "_defaultOrder": 33,
    "_isFastLaunch": false,
    "category": "Accelerated computing",
    "gpuNum": 4,
    "hideHardwareSpecs": false,
    "memoryGiB": 192,
    "name": "ml.g4dn.12xlarge",
    "vcpuNum": 48
   },
   {
    "_defaultOrder": 34,
    "_isFastLaunch": false,
    "category": "Accelerated computing",
    "gpuNum": 1,
    "hideHardwareSpecs": false,
    "memoryGiB": 256,
    "name": "ml.g4dn.16xlarge",
    "vcpuNum": 64
   },
   {
    "_defaultOrder": 35,
    "_isFastLaunch": false,
    "category": "Accelerated computing",
    "gpuNum": 1,
    "hideHardwareSpecs": false,
    "memoryGiB": 61,
    "name": "ml.p3.2xlarge",
    "vcpuNum": 8
   },
   {
    "_defaultOrder": 36,
    "_isFastLaunch": false,
    "category": "Accelerated computing",
    "gpuNum": 4,
    "hideHardwareSpecs": false,
    "memoryGiB": 244,
    "name": "ml.p3.8xlarge",
    "vcpuNum": 32
   },
   {
    "_defaultOrder": 37,
    "_isFastLaunch": false,
    "category": "Accelerated computing",
    "gpuNum": 8,
    "hideHardwareSpecs": false,
    "memoryGiB": 488,
    "name": "ml.p3.16xlarge",
    "vcpuNum": 64
   },
   {
    "_defaultOrder": 38,
    "_isFastLaunch": false,
    "category": "Accelerated computing",
    "gpuNum": 8,
    "hideHardwareSpecs": false,
    "memoryGiB": 768,
    "name": "ml.p3dn.24xlarge",
    "vcpuNum": 96
   },
   {
    "_defaultOrder": 39,
    "_isFastLaunch": false,
    "category": "Memory Optimized",
    "gpuNum": 0,
    "hideHardwareSpecs": false,
    "memoryGiB": 16,
    "name": "ml.r5.large",
    "vcpuNum": 2
   },
   {
    "_defaultOrder": 40,
    "_isFastLaunch": false,
    "category": "Memory Optimized",
    "gpuNum": 0,
    "hideHardwareSpecs": false,
    "memoryGiB": 32,
    "name": "ml.r5.xlarge",
    "vcpuNum": 4
   },
   {
    "_defaultOrder": 41,
    "_isFastLaunch": false,
    "category": "Memory Optimized",
    "gpuNum": 0,
    "hideHardwareSpecs": false,
    "memoryGiB": 64,
    "name": "ml.r5.2xlarge",
    "vcpuNum": 8
   },
   {
    "_defaultOrder": 42,
    "_isFastLaunch": false,
    "category": "Memory Optimized",
    "gpuNum": 0,
    "hideHardwareSpecs": false,
    "memoryGiB": 128,
    "name": "ml.r5.4xlarge",
    "vcpuNum": 16
   },
   {
    "_defaultOrder": 43,
    "_isFastLaunch": false,
    "category": "Memory Optimized",
    "gpuNum": 0,
    "hideHardwareSpecs": false,
    "memoryGiB": 256,
    "name": "ml.r5.8xlarge",
    "vcpuNum": 32
   },
   {
    "_defaultOrder": 44,
    "_isFastLaunch": false,
    "category": "Memory Optimized",
    "gpuNum": 0,
    "hideHardwareSpecs": false,
    "memoryGiB": 384,
    "name": "ml.r5.12xlarge",
    "vcpuNum": 48
   },
   {
    "_defaultOrder": 45,
    "_isFastLaunch": false,
    "category": "Memory Optimized",
    "gpuNum": 0,
    "hideHardwareSpecs": false,
    "memoryGiB": 512,
    "name": "ml.r5.16xlarge",
    "vcpuNum": 64
   },
   {
    "_defaultOrder": 46,
    "_isFastLaunch": false,
    "category": "Memory Optimized",
    "gpuNum": 0,
    "hideHardwareSpecs": false,
    "memoryGiB": 768,
    "name": "ml.r5.24xlarge",
    "vcpuNum": 96
   },
   {
    "_defaultOrder": 47,
    "_isFastLaunch": false,
    "category": "Accelerated computing",
    "gpuNum": 1,
    "hideHardwareSpecs": false,
    "memoryGiB": 16,
    "name": "ml.g5.xlarge",
    "vcpuNum": 4
   },
   {
    "_defaultOrder": 48,
    "_isFastLaunch": false,
    "category": "Accelerated computing",
    "gpuNum": 1,
    "hideHardwareSpecs": false,
    "memoryGiB": 32,
    "name": "ml.g5.2xlarge",
    "vcpuNum": 8
   },
   {
    "_defaultOrder": 49,
    "_isFastLaunch": false,
    "category": "Accelerated computing",
    "gpuNum": 1,
    "hideHardwareSpecs": false,
    "memoryGiB": 64,
    "name": "ml.g5.4xlarge",
    "vcpuNum": 16
   },
   {
    "_defaultOrder": 50,
    "_isFastLaunch": false,
    "category": "Accelerated computing",
    "gpuNum": 1,
    "hideHardwareSpecs": false,
    "memoryGiB": 128,
    "name": "ml.g5.8xlarge",
    "vcpuNum": 32
   },
   {
    "_defaultOrder": 51,
    "_isFastLaunch": false,
    "category": "Accelerated computing",
    "gpuNum": 1,
    "hideHardwareSpecs": false,
    "memoryGiB": 256,
    "name": "ml.g5.16xlarge",
    "vcpuNum": 64
   },
   {
    "_defaultOrder": 52,
    "_isFastLaunch": false,
    "category": "Accelerated computing",
    "gpuNum": 4,
    "hideHardwareSpecs": false,
    "memoryGiB": 192,
    "name": "ml.g5.12xlarge",
    "vcpuNum": 48
   },
   {
    "_defaultOrder": 53,
    "_isFastLaunch": false,
    "category": "Accelerated computing",
    "gpuNum": 4,
    "hideHardwareSpecs": false,
    "memoryGiB": 384,
    "name": "ml.g5.24xlarge",
    "vcpuNum": 96
   },
   {
    "_defaultOrder": 54,
    "_isFastLaunch": false,
    "category": "Accelerated computing",
    "gpuNum": 8,
    "hideHardwareSpecs": false,
    "memoryGiB": 768,
    "name": "ml.g5.48xlarge",
    "vcpuNum": 192
   },
   {
    "_defaultOrder": 55,
    "_isFastLaunch": false,
    "category": "Accelerated computing",
    "gpuNum": 8,
    "hideHardwareSpecs": false,
    "memoryGiB": 1152,
    "name": "ml.p4d.24xlarge",
    "vcpuNum": 96
   },
   {
    "_defaultOrder": 56,
    "_isFastLaunch": false,
    "category": "Accelerated computing",
    "gpuNum": 8,
    "hideHardwareSpecs": false,
    "memoryGiB": 1152,
    "name": "ml.p4de.24xlarge",
    "vcpuNum": 96
   },
   {
    "_defaultOrder": 57,
    "_isFastLaunch": false,
    "category": "Accelerated computing",
    "gpuNum": 0,
    "hideHardwareSpecs": false,
    "memoryGiB": 32,
    "name": "ml.trn1.2xlarge",
    "vcpuNum": 8
   },
   {
    "_defaultOrder": 58,
    "_isFastLaunch": false,
    "category": "Accelerated computing",
    "gpuNum": 0,
    "hideHardwareSpecs": false,
    "memoryGiB": 512,
    "name": "ml.trn1.32xlarge",
    "vcpuNum": 128
   },
   {
    "_defaultOrder": 59,
    "_isFastLaunch": false,
    "category": "Accelerated computing",
    "gpuNum": 0,
    "hideHardwareSpecs": false,
    "memoryGiB": 512,
    "name": "ml.trn1n.32xlarge",
    "vcpuNum": 128
   }
  ],
  "instance_type": "ml.t3.medium",
  "kernelspec": {
   "display_name": "Python 3 (Data Science 3.0)",
   "language": "python",
   "name": "python3__SAGEMAKER_INTERNAL__arn:aws:sagemaker:us-east-1:081325390199:image/sagemaker-data-science-310-v1"
  },
  "language_info": {
   "codemirror_mode": {
    "name": "ipython",
    "version": 3
   },
   "file_extension": ".py",
   "mimetype": "text/x-python",
   "name": "python",
   "nbconvert_exporter": "python",
   "pygments_lexer": "ipython3",
   "version": "3.10.6"
  }
 },
 "nbformat": 4,
 "nbformat_minor": 5
}
