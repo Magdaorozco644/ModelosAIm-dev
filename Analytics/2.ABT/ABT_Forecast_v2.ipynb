{
 "cells": [
  {
   "cell_type": "code",
   "execution_count": 5,
   "id": "deb1c193-1e97-4a97-a63e-8a6d9f1e091c",
   "metadata": {},
   "outputs": [
    {
     "name": "stdout",
     "output_type": "stream",
     "text": [
      "Requirement already satisfied: pyathena in /opt/conda/lib/python3.10/site-packages (3.0.10)\n",
      "Requirement already satisfied: boto3>=1.26.4 in /opt/conda/lib/python3.10/site-packages (from pyathena) (1.33.9)\n",
      "Requirement already satisfied: botocore>=1.29.4 in /opt/conda/lib/python3.10/site-packages (from pyathena) (1.33.9)\n",
      "Requirement already satisfied: fsspec in /opt/conda/lib/python3.10/site-packages (from pyathena) (2022.7.1)\n",
      "Requirement already satisfied: tenacity>=4.1.0 in /opt/conda/lib/python3.10/site-packages (from pyathena) (8.0.1)\n",
      "Requirement already satisfied: jmespath<2.0.0,>=0.7.1 in /opt/conda/lib/python3.10/site-packages (from boto3>=1.26.4->pyathena) (0.10.0)\n",
      "Requirement already satisfied: s3transfer<0.9.0,>=0.8.2 in /opt/conda/lib/python3.10/site-packages (from boto3>=1.26.4->pyathena) (0.8.2)\n",
      "Requirement already satisfied: python-dateutil<3.0.0,>=2.1 in /opt/conda/lib/python3.10/site-packages (from botocore>=1.29.4->pyathena) (2.8.2)\n",
      "Requirement already satisfied: urllib3<2.1,>=1.25.4 in /opt/conda/lib/python3.10/site-packages (from botocore>=1.29.4->pyathena) (2.0.7)\n",
      "Requirement already satisfied: six>=1.5 in /opt/conda/lib/python3.10/site-packages (from python-dateutil<3.0.0,>=2.1->botocore>=1.29.4->pyathena) (1.16.0)\n",
      "\u001b[33mWARNING: Running pip as the 'root' user can result in broken permissions and conflicting behaviour with the system package manager. It is recommended to use a virtual environment instead: https://pip.pypa.io/warnings/venv\u001b[0m\u001b[33m\n",
      "\u001b[0m\n",
      "\u001b[1m[\u001b[0m\u001b[34;49mnotice\u001b[0m\u001b[1;39;49m]\u001b[0m\u001b[39;49m A new release of pip is available: \u001b[0m\u001b[31;49m23.3.1\u001b[0m\u001b[39;49m -> \u001b[0m\u001b[32;49m23.3.2\u001b[0m\n",
      "\u001b[1m[\u001b[0m\u001b[34;49mnotice\u001b[0m\u001b[1;39;49m]\u001b[0m\u001b[39;49m To update, run: \u001b[0m\u001b[32;49mpip install --upgrade pip\u001b[0m\n"
     ]
    }
   ],
   "source": [
    "!pip install pyathena"
   ]
  },
  {
   "cell_type": "code",
   "execution_count": 6,
   "id": "23b20f1a-63f5-4fa2-a12a-81661b216281",
   "metadata": {
    "tags": []
   },
   "outputs": [
    {
     "name": "stdout",
     "output_type": "stream",
     "text": [
      "Requirement already satisfied: awswrangler in /opt/conda/lib/python3.10/site-packages (3.4.2)\n",
      "Requirement already satisfied: boto3<2.0.0,>=1.20.32 in /opt/conda/lib/python3.10/site-packages (from awswrangler) (1.33.9)\n",
      "Requirement already satisfied: botocore<2.0.0,>=1.23.32 in /opt/conda/lib/python3.10/site-packages (from awswrangler) (1.33.9)\n",
      "Requirement already satisfied: numpy<2.0,>=1.18 in /opt/conda/lib/python3.10/site-packages (from awswrangler) (1.26.2)\n",
      "Requirement already satisfied: packaging<24.0,>=21.1 in /opt/conda/lib/python3.10/site-packages (from awswrangler) (21.3)\n",
      "Requirement already satisfied: pandas<3.0.0,>=1.2.0 in /opt/conda/lib/python3.10/site-packages (from awswrangler) (2.1.3)\n",
      "Requirement already satisfied: pyarrow>=7.0.0 in /opt/conda/lib/python3.10/site-packages (from awswrangler) (14.0.1)\n",
      "Requirement already satisfied: typing-extensions<5.0.0,>=4.4.0 in /opt/conda/lib/python3.10/site-packages (from awswrangler) (4.9.0)\n",
      "Requirement already satisfied: jmespath<2.0.0,>=0.7.1 in /opt/conda/lib/python3.10/site-packages (from boto3<2.0.0,>=1.20.32->awswrangler) (0.10.0)\n",
      "Requirement already satisfied: s3transfer<0.9.0,>=0.8.2 in /opt/conda/lib/python3.10/site-packages (from boto3<2.0.0,>=1.20.32->awswrangler) (0.8.2)\n",
      "Requirement already satisfied: python-dateutil<3.0.0,>=2.1 in /opt/conda/lib/python3.10/site-packages (from botocore<2.0.0,>=1.23.32->awswrangler) (2.8.2)\n",
      "Requirement already satisfied: urllib3<2.1,>=1.25.4 in /opt/conda/lib/python3.10/site-packages (from botocore<2.0.0,>=1.23.32->awswrangler) (2.0.7)\n",
      "Requirement already satisfied: pyparsing!=3.0.5,>=2.0.2 in /opt/conda/lib/python3.10/site-packages (from packaging<24.0,>=21.1->awswrangler) (3.0.9)\n",
      "Requirement already satisfied: pytz>=2020.1 in /opt/conda/lib/python3.10/site-packages (from pandas<3.0.0,>=1.2.0->awswrangler) (2022.1)\n",
      "Requirement already satisfied: tzdata>=2022.1 in /opt/conda/lib/python3.10/site-packages (from pandas<3.0.0,>=1.2.0->awswrangler) (2023.3)\n",
      "Requirement already satisfied: six>=1.5 in /opt/conda/lib/python3.10/site-packages (from python-dateutil<3.0.0,>=2.1->botocore<2.0.0,>=1.23.32->awswrangler) (1.16.0)\n",
      "\u001b[33mWARNING: Running pip as the 'root' user can result in broken permissions and conflicting behaviour with the system package manager. It is recommended to use a virtual environment instead: https://pip.pypa.io/warnings/venv\u001b[0m\u001b[33m\n",
      "\u001b[0m\n",
      "\u001b[1m[\u001b[0m\u001b[34;49mnotice\u001b[0m\u001b[1;39;49m]\u001b[0m\u001b[39;49m A new release of pip is available: \u001b[0m\u001b[31;49m23.3.1\u001b[0m\u001b[39;49m -> \u001b[0m\u001b[32;49m23.3.2\u001b[0m\n",
      "\u001b[1m[\u001b[0m\u001b[34;49mnotice\u001b[0m\u001b[1;39;49m]\u001b[0m\u001b[39;49m To update, run: \u001b[0m\u001b[32;49mpip install --upgrade pip\u001b[0m\n"
     ]
    }
   ],
   "source": [
    "!pip install awswrangler "
   ]
  },
  {
   "cell_type": "code",
   "execution_count": 7,
   "id": "5e750d2c-8893-4754-afc1-b76f9f52d3be",
   "metadata": {
    "tags": []
   },
   "outputs": [],
   "source": [
    "import awswrangler as wr"
   ]
  },
  {
   "cell_type": "code",
   "execution_count": 8,
   "id": "b482530e-6132-481b-b8fd-46fea39e8064",
   "metadata": {
    "tags": []
   },
   "outputs": [],
   "source": [
    "#Libraries\n",
    "from pyathena import connect\n",
    "import pandas as pd\n",
    "import datetime as dt\n",
    "import numpy as np"
   ]
  },
  {
   "cell_type": "code",
   "execution_count": 9,
   "id": "a2bddb14-9e24-4a93-b2c3-4031c5e9665a",
   "metadata": {},
   "outputs": [],
   "source": [
    "# DB Setting\n",
    "bucket_name = 's3://viamericas-datalake-dev-us-east-1-283731589572-athena/'\n",
    "origin_name = 'AwsDataCatalog'\n",
    "database_name= 'analytics'\n",
    "table_name = 'daily_check'"
   ]
  },
  {
   "cell_type": "code",
   "execution_count": 10,
   "id": "1aed89ed-382a-4a47-8870-259f9257622e",
   "metadata": {},
   "outputs": [
    {
     "name": "stderr",
     "output_type": "stream",
     "text": [
      "/tmp/ipykernel_18/3429179766.py:4: UserWarning: pandas only supports SQLAlchemy connectable (engine/connection) or database string URI or sqlite3 DBAPI2 connection. Other DBAPI2 objects are not tested. Please consider using SQLAlchemy.\n",
      "  df = pd.read_sql(f'SELECT * FROM {origin_name}.{database_name}.{table_name};', conn)\n"
     ]
    }
   ],
   "source": [
    "#Connection\n",
    "conn = connect(s3_staging_dir=f'{bucket_name}queryresults/',\n",
    "               region_name='us-east-1')\n",
    "df = pd.read_sql(f'SELECT * FROM {origin_name}.{database_name}.{table_name};', conn)"
   ]
  },
  {
   "cell_type": "code",
   "execution_count": 11,
   "id": "c1de1725-eafd-4800-b149-8534b2ef2f3d",
   "metadata": {
    "tags": []
   },
   "outputs": [
    {
     "data": {
      "text/html": [
       "<div>\n",
       "<style scoped>\n",
       "    .dataframe tbody tr th:only-of-type {\n",
       "        vertical-align: middle;\n",
       "    }\n",
       "\n",
       "    .dataframe tbody tr th {\n",
       "        vertical-align: top;\n",
       "    }\n",
       "\n",
       "    .dataframe thead th {\n",
       "        text-align: right;\n",
       "    }\n",
       "</style>\n",
       "<table border=\"1\" class=\"dataframe\">\n",
       "  <thead>\n",
       "    <tr style=\"text-align: right;\">\n",
       "      <th></th>\n",
       "      <th>payer</th>\n",
       "      <th>country</th>\n",
       "      <th>date</th>\n",
       "      <th>tx</th>\n",
       "      <th>amount</th>\n",
       "    </tr>\n",
       "  </thead>\n",
       "  <tbody>\n",
       "    <tr>\n",
       "      <th>0</th>\n",
       "      <td>TRANSFERTO - THUNES</td>\n",
       "      <td>BELGIUM</td>\n",
       "      <td>2023-04-03</td>\n",
       "      <td>1</td>\n",
       "      <td>55.55</td>\n",
       "    </tr>\n",
       "    <tr>\n",
       "      <th>1</th>\n",
       "      <td>ARGENPER</td>\n",
       "      <td>PERU</td>\n",
       "      <td>2023-04-03</td>\n",
       "      <td>26</td>\n",
       "      <td>4203.70</td>\n",
       "    </tr>\n",
       "    <tr>\n",
       "      <th>2</th>\n",
       "      <td>NAFA</td>\n",
       "      <td>GAMBIA, THE</td>\n",
       "      <td>2023-04-03</td>\n",
       "      <td>8</td>\n",
       "      <td>1086.50</td>\n",
       "    </tr>\n",
       "    <tr>\n",
       "      <th>3</th>\n",
       "      <td>WALDOS (APPRIZA)</td>\n",
       "      <td>MEXICO</td>\n",
       "      <td>2023-08-31</td>\n",
       "      <td>14</td>\n",
       "      <td>4797.50</td>\n",
       "    </tr>\n",
       "    <tr>\n",
       "      <th>4</th>\n",
       "      <td>BANPAIS (RED CHAPINA)</td>\n",
       "      <td>HONDURAS</td>\n",
       "      <td>2021-05-06</td>\n",
       "      <td>43</td>\n",
       "      <td>17493.00</td>\n",
       "    </tr>\n",
       "  </tbody>\n",
       "</table>\n",
       "</div>"
      ],
      "text/plain": [
       "                   payer      country        date  tx    amount\n",
       "0    TRANSFERTO - THUNES      BELGIUM  2023-04-03   1     55.55\n",
       "1               ARGENPER         PERU  2023-04-03  26   4203.70\n",
       "2                   NAFA  GAMBIA, THE  2023-04-03   8   1086.50\n",
       "3       WALDOS (APPRIZA)       MEXICO  2023-08-31  14   4797.50\n",
       "4  BANPAIS (RED CHAPINA)     HONDURAS  2021-05-06  43  17493.00"
      ]
     },
     "execution_count": 11,
     "metadata": {},
     "output_type": "execute_result"
    }
   ],
   "source": [
    "df.head()"
   ]
  },
  {
   "cell_type": "code",
   "execution_count": 12,
   "id": "6e5ec8f2-923b-4034-89ae-b463d30347f9",
   "metadata": {
    "tags": []
   },
   "outputs": [],
   "source": [
    "# Convert the 'date' column to datetime format\n",
    "df['date'] = pd.to_datetime(df['date'])"
   ]
  },
  {
   "cell_type": "code",
   "execution_count": 13,
   "id": "6949b240-221a-4972-a75a-e100df505340",
   "metadata": {
    "tags": []
   },
   "outputs": [],
   "source": [
    "# Grouping by 'payer' and 'country' concatenated for this level of granularity\n",
    "df['payer_country'] = df['payer'] + '_' + df['country']"
   ]
  },
  {
   "cell_type": "code",
   "execution_count": 14,
   "id": "d732386b-e361-4e0a-a50a-429a8e24e505",
   "metadata": {
    "tags": []
   },
   "outputs": [
    {
     "data": {
      "text/plain": [
       "25110624454.4149"
      ]
     },
     "execution_count": 14,
     "metadata": {},
     "output_type": "execute_result"
    }
   ],
   "source": [
    "# Chequeo montos\n",
    "df['amount'].sum()"
   ]
  },
  {
   "cell_type": "code",
   "execution_count": 15,
   "id": "86827ae1-c1b3-4823-95ee-b4bfd00cb87a",
   "metadata": {
    "tags": []
   },
   "outputs": [],
   "source": [
    "def aging_filter(df):\n",
    "    # Find the last date in the sample\n",
    "    last_date_sample = df['date'].max()\n",
    "\n",
    "    # Calculate the limit date, one day before the last date in the sample\n",
    "    limit_date = last_date_sample - pd.Timedelta(days=1)\n",
    "\n",
    "    # Find the first and last date per 'payer_country' and calculate total_amount and count\n",
    "    result = (\n",
    "        df.groupby('payer_country')\n",
    "        .agg(\n",
    "            first_date=('date', 'min'),\n",
    "            last_date=('date', 'max'),\n",
    "            total_amount=('amount', 'sum'),\n",
    "            total_transactions=('tx', 'sum')  # Add this line for total_transactions\n",
    "        )\n",
    "        .reset_index()\n",
    "    )\n",
    "\n",
    "    # Calculate the 'age_payer' variable accurately using the calculated limit_date\n",
    "    result['age_payer'] = ((limit_date - result['first_date']).dt.days / 30).round(2)\n",
    "\n",
    "    # Calculate the 'active_payer' variable\n",
    "    result['active_time'] = ((result['last_date'] - result['first_date']).dt.days / 30).round(2)\n",
    "\n",
    "    # Calculate the 'inactive' variable\n",
    "    result['inactive_time'] = ((limit_date - result['last_date']).dt.days / 30).round(2)\n",
    "\n",
    "    # Sort the final DataFrame by 'total_amount' from highest to lowest\n",
    "    result = result.sort_values(by='total_amount', ascending=False)\n",
    "\n",
    "    # Filter the DataFrame based on conditions and return aging_universe\n",
    "    aging_universe = result.loc[\n",
    "        (result.age_payer >= 3) & \n",
    "        (result.inactive_time <= 3) & \n",
    "        (result.total_amount > 10000) & \n",
    "        (result.total_transactions > 50)\n",
    "    ]\n",
    "\n",
    "    return aging_universe"
   ]
  },
  {
   "cell_type": "code",
   "execution_count": 16,
   "id": "a2f31d38-f25d-4335-8a5c-f01ea152670c",
   "metadata": {
    "tags": []
   },
   "outputs": [],
   "source": [
    "# Defining Universe\n",
    "df = df[df['amount'] != 0] # Excluding 0 (flag A & Flag C), defined in EDA\n",
    "\n",
    "df_aging = aging_filter(df) #Filtering 'payer_country' based on Aging notebook\n",
    "df_filtered = df[df['payer_country'].isin(df_aging['payer_country'])] # Applying aging filters "
   ]
  },
  {
   "cell_type": "code",
   "execution_count": 17,
   "id": "f91719d3-58cd-4e44-9c3b-042ea75803fc",
   "metadata": {
    "tags": []
   },
   "outputs": [
    {
     "name": "stderr",
     "output_type": "stream",
     "text": [
      "/tmp/ipykernel_18/1252395900.py:2: SettingWithCopyWarning: \n",
      "A value is trying to be set on a copy of a slice from a DataFrame.\n",
      "Try using .loc[row_indexer,col_indexer] = value instead\n",
      "\n",
      "See the caveats in the documentation: https://pandas.pydata.org/pandas-docs/stable/user_guide/indexing.html#returning-a-view-versus-a-copy\n",
      "  df_filtered['date'] = pd.to_datetime(df_filtered['date']).dt.date\n"
     ]
    }
   ],
   "source": [
    "# Date format\n",
    "df_filtered['date'] = pd.to_datetime(df_filtered['date']).dt.date"
   ]
  },
  {
   "cell_type": "code",
   "execution_count": 18,
   "id": "13b8f256-14df-48f7-b3fa-33202a010c66",
   "metadata": {
    "tags": []
   },
   "outputs": [
    {
     "data": {
      "text/plain": [
       "24309892564.970997"
      ]
     },
     "execution_count": 18,
     "metadata": {},
     "output_type": "execute_result"
    }
   ],
   "source": [
    "df_filtered['amount'].sum()"
   ]
  },
  {
   "cell_type": "code",
   "execution_count": 19,
   "id": "2f525011-56b0-4b51-af4b-6c1e45577e66",
   "metadata": {},
   "outputs": [
    {
     "data": {
      "text/html": [
       "<div>\n",
       "<style scoped>\n",
       "    .dataframe tbody tr th:only-of-type {\n",
       "        vertical-align: middle;\n",
       "    }\n",
       "\n",
       "    .dataframe tbody tr th {\n",
       "        vertical-align: top;\n",
       "    }\n",
       "\n",
       "    .dataframe thead th {\n",
       "        text-align: right;\n",
       "    }\n",
       "</style>\n",
       "<table border=\"1\" class=\"dataframe\">\n",
       "  <thead>\n",
       "    <tr style=\"text-align: right;\">\n",
       "      <th></th>\n",
       "      <th>payer</th>\n",
       "      <th>country</th>\n",
       "      <th>date</th>\n",
       "      <th>tx</th>\n",
       "      <th>amount</th>\n",
       "      <th>payer_country</th>\n",
       "    </tr>\n",
       "  </thead>\n",
       "  <tbody>\n",
       "    <tr>\n",
       "      <th>0</th>\n",
       "      <td>TRANSFERTO - THUNES</td>\n",
       "      <td>BELGIUM</td>\n",
       "      <td>2023-04-03</td>\n",
       "      <td>1</td>\n",
       "      <td>55.55</td>\n",
       "      <td>TRANSFERTO - THUNES_BELGIUM</td>\n",
       "    </tr>\n",
       "    <tr>\n",
       "      <th>1</th>\n",
       "      <td>ARGENPER</td>\n",
       "      <td>PERU</td>\n",
       "      <td>2023-04-03</td>\n",
       "      <td>26</td>\n",
       "      <td>4203.70</td>\n",
       "      <td>ARGENPER_PERU</td>\n",
       "    </tr>\n",
       "    <tr>\n",
       "      <th>2</th>\n",
       "      <td>NAFA</td>\n",
       "      <td>GAMBIA, THE</td>\n",
       "      <td>2023-04-03</td>\n",
       "      <td>8</td>\n",
       "      <td>1086.50</td>\n",
       "      <td>NAFA_GAMBIA, THE</td>\n",
       "    </tr>\n",
       "  </tbody>\n",
       "</table>\n",
       "</div>"
      ],
      "text/plain": [
       "                 payer      country        date  tx   amount  \\\n",
       "0  TRANSFERTO - THUNES      BELGIUM  2023-04-03   1    55.55   \n",
       "1             ARGENPER         PERU  2023-04-03  26  4203.70   \n",
       "2                 NAFA  GAMBIA, THE  2023-04-03   8  1086.50   \n",
       "\n",
       "                 payer_country  \n",
       "0  TRANSFERTO - THUNES_BELGIUM  \n",
       "1                ARGENPER_PERU  \n",
       "2             NAFA_GAMBIA, THE  "
      ]
     },
     "execution_count": 19,
     "metadata": {},
     "output_type": "execute_result"
    }
   ],
   "source": [
    "df_filtered.head(3)"
   ]
  },
  {
   "cell_type": "code",
   "execution_count": 20,
   "id": "d50d8ffd-589f-43bf-ae25-1498ac7c5c24",
   "metadata": {
    "tags": []
   },
   "outputs": [
    {
     "data": {
      "text/plain": [
       "(87708, 6)"
      ]
     },
     "execution_count": 20,
     "metadata": {},
     "output_type": "execute_result"
    }
   ],
   "source": [
    "df_filtered.shape"
   ]
  },
  {
   "cell_type": "code",
   "execution_count": 21,
   "id": "88af9703-f343-41b3-bf3f-2e6b4de70d00",
   "metadata": {
    "tags": []
   },
   "outputs": [],
   "source": [
    "# CHEQUEO VALORES"
   ]
  },
  {
   "cell_type": "code",
   "execution_count": 22,
   "id": "59af9b61-242c-4ccc-97d7-d99b2a3c8b18",
   "metadata": {
    "tags": []
   },
   "outputs": [
    {
     "data": {
      "text/plain": [
       "13655009099.1769"
      ]
     },
     "execution_count": 22,
     "metadata": {},
     "output_type": "execute_result"
    }
   ],
   "source": [
    "df[df['country'] == 'MEXICO']['amount'].sum()"
   ]
  },
  {
   "cell_type": "code",
   "execution_count": 23,
   "id": "27e553ad-b792-4d18-a330-547227f23bd3",
   "metadata": {
    "tags": []
   },
   "outputs": [
    {
     "data": {
      "text/plain": [
       "12910028578.262497"
      ]
     },
     "execution_count": 23,
     "metadata": {},
     "output_type": "execute_result"
    }
   ],
   "source": [
    "val1 = df_filtered[df_filtered['country'] == 'MEXICO']['amount'].sum()\n",
    "val1"
   ]
  },
  {
   "cell_type": "code",
   "execution_count": 24,
   "id": "890b9e53-5534-4aba-b30e-8ed439e51dd0",
   "metadata": {
    "tags": []
   },
   "outputs": [
    {
     "data": {
      "text/plain": [
       "744980520.9144039"
      ]
     },
     "execution_count": 24,
     "metadata": {},
     "output_type": "execute_result"
    }
   ],
   "source": [
    "val2 = df[df['country'] == 'MEXICO']['amount'].sum() - df_filtered[df_filtered['country'] == 'MEXICO']['amount'].sum()\n",
    "val2"
   ]
  },
  {
   "cell_type": "code",
   "execution_count": 25,
   "id": "de159597-1488-4d87-8827-0235612b89f7",
   "metadata": {
    "tags": []
   },
   "outputs": [
    {
     "data": {
      "text/plain": [
       "0.0577055671409418"
      ]
     },
     "execution_count": 25,
     "metadata": {},
     "output_type": "execute_result"
    }
   ],
   "source": [
    "val2/val1"
   ]
  },
  {
   "cell_type": "code",
   "execution_count": 26,
   "id": "7eddd452-4bd1-4ad9-aa37-de1354d77fc5",
   "metadata": {
    "tags": []
   },
   "outputs": [
    {
     "data": {
      "text/plain": [
       "6397946743.7287"
      ]
     },
     "execution_count": 26,
     "metadata": {},
     "output_type": "execute_result"
    }
   ],
   "source": [
    "df[df['payer_country'] == 'ELEKTRA (MEXICO)_MEXICO']['amount'].sum()"
   ]
  },
  {
   "cell_type": "code",
   "execution_count": 27,
   "id": "e57146b3-30fd-4687-861e-a1e8462b16d7",
   "metadata": {
    "tags": []
   },
   "outputs": [
    {
     "data": {
      "text/plain": [
       "6397946743.7287"
      ]
     },
     "execution_count": 27,
     "metadata": {},
     "output_type": "execute_result"
    }
   ],
   "source": [
    "df_filtered[df_filtered['payer_country'] == 'ELEKTRA (MEXICO)_MEXICO']['amount'].sum()"
   ]
  },
  {
   "cell_type": "code",
   "execution_count": 28,
   "id": "598f432b-3036-4870-baaa-1439724b5b91",
   "metadata": {
    "tags": []
   },
   "outputs": [
    {
     "data": {
      "text/plain": [
       "array(['BELGIUM', 'PERU', 'GAMBIA, THE', 'MEXICO', 'HONDURAS', 'NIGERIA',\n",
       "       'ECUADOR', 'UNITED KINGDOM', 'BRAZIL', 'UNITED STATES',\n",
       "       'PHILIPPINES', 'EL SALVADOR', 'NICARAGUA', 'GUATEMALA', 'BOLIVIA',\n",
       "       'HAITI', 'DOMINICAN REPUBLIC', 'UNITED STATES (ATM & DEPOSITS)',\n",
       "       'COLOMBIA', 'SIERRA LEONE', 'CHILE', 'ARGENTINA', 'BANGLADESH',\n",
       "       'INDONESIA', 'MALAYSIA', 'GUINEA', 'CAMEROON', 'NEPAL', 'GHANA',\n",
       "       'INDIA', 'THAILAND', 'FRANCE', 'BURKINA FASO', 'SPAIN', 'PORTUGAL',\n",
       "       \"COTE D'IVOIRE (IVORY COAST)\", 'BENIN', 'SENEGAL', 'TOGO',\n",
       "       'LIBERIA', 'GERMANY', 'JAMAICA', 'MALI', 'ITALY', 'COSTA RICA'],\n",
       "      dtype=object)"
      ]
     },
     "execution_count": 28,
     "metadata": {},
     "output_type": "execute_result"
    }
   ],
   "source": [
    "df_filtered['country'].unique()"
   ]
  },
  {
   "cell_type": "code",
   "execution_count": null,
   "id": "33ef7d67-76cf-401c-a2b9-989d3aaffd6b",
   "metadata": {},
   "outputs": [],
   "source": []
  },
  {
   "cell_type": "code",
   "execution_count": 29,
   "id": "8d12f38e-5f14-453e-82fe-1ea3b13f853f",
   "metadata": {
    "tags": []
   },
   "outputs": [],
   "source": [
    "### RATES ###\n",
    "df_rates=pd.read_csv('rates_completo.csv') # CHEQUEAR FUENTE DE ORIGEN (COMPLETO TRAE TODOS LOS DATOS DDE ORIGEN)"
   ]
  },
  {
   "cell_type": "code",
   "execution_count": 30,
   "id": "0edfe299-86d4-4ee7-b09b-343eaf947924",
   "metadata": {
    "tags": []
   },
   "outputs": [],
   "source": [
    "# Selecting columns & renaming\n",
    "df_rates = df_rates[['feed_date','symbol','feed_price']] \n",
    "df_rates = df_rates.rename(columns={'feed_date':'date'})"
   ]
  },
  {
   "cell_type": "code",
   "execution_count": 31,
   "id": "d73800ff-5613-4264-b577-480c645e2ed4",
   "metadata": {
    "tags": []
   },
   "outputs": [],
   "source": [
    "#df_rates['date'] = pd.to_datetime(df_rates['date']).dt.date\n",
    "df_rates['date'] = pd.to_datetime(df_rates['date'])"
   ]
  },
  {
   "cell_type": "code",
   "execution_count": 32,
   "id": "90bd03e5-f23b-4516-b1cf-1da6fd789799",
   "metadata": {
    "tags": []
   },
   "outputs": [
    {
     "data": {
      "text/plain": [
       "(Timestamp('2021-01-01 01:00:27'), Timestamp('2023-10-22 03:38:26'))"
      ]
     },
     "execution_count": 32,
     "metadata": {},
     "output_type": "execute_result"
    }
   ],
   "source": [
    "# AHORA hay continuidad de fechas (chequeado, 1023 datos por cada pais desde 01/01/2021 hasta el 21/10/2023)\n",
    "df_rates['date'].min(), df_rates['date'].max()"
   ]
  },
  {
   "cell_type": "code",
   "execution_count": 33,
   "id": "bbb26427-16bc-41ae-8c07-d6cef0764430",
   "metadata": {
    "tags": []
   },
   "outputs": [],
   "source": [
    "# Function to keep last register, per day\n",
    "import matplotlib.pyplot as plt\n",
    "def get_closing_prices(data, start_date, end_date):\n",
    "    # Convert the 'FEED_DATE' column to datetime type if it is not already\n",
    "    data['date'] = pd.to_datetime(data['date'])\n",
    "\n",
    "    # Filter by date range\n",
    "    data_filtered = data[(data['date'] >= start_date) & (data['date'] <= end_date)]\n",
    "\n",
    "    # Sort by 'FEED_DATE' to ensure that the data is in chronological order\n",
    "    data_filtered = data_filtered.sort_values(by='date')\n",
    "\n",
    "    # Group by 'SYMBOL' and 'FEED_DATE', taking the last value of 'FEED_PRICE'\n",
    "    data_grouped = data_filtered.groupby(['symbol', pd.Grouper(key='date', freq='D')])['feed_price'].last().reset_index()\n",
    "    \n",
    " # Generate evolution plots for each SYMBOL\n",
    "    for symbol in data_grouped['symbol'].unique():\n",
    "        symbol_data = data_grouped[data_grouped['symbol'] == symbol]\n",
    "\n",
    "        plt.figure(figsize=(10, 6))\n",
    "        plt.plot(symbol_data['date'], symbol_data['feed_price'], label=symbol)\n",
    "        plt.title(f'Closing prices evolution for {symbol}')\n",
    "        plt.xlabel('Date')\n",
    "        plt.ylabel('Closing Price')\n",
    "        plt.legend()\n",
    "        plt.show()\n",
    "    \n",
    "    return data_grouped"
   ]
  },
  {
   "cell_type": "code",
   "execution_count": 34,
   "id": "cc2bd519-1e78-4547-a753-e8060c00ca60",
   "metadata": {
    "tags": []
   },
   "outputs": [
    {
     "data": {
      "image/png": "[encoded data removed]",
      "text/plain": [
       "<Figure size 1000x600 with 1 Axes>"
      ]
     },
     "metadata": {},
     "output_type": "display_data"
    },
    {
     "data": {
      "image/png": "[encoded data removed]",
      "text/plain": [
       "<Figure size 1000x600 with 1 Axes>"
      ]
     },
     "metadata": {},
     "output_type": "display_data"
    },
    {
     "data": {
      "image/png": "[encoded data removed]",
      "text/plain": [
       "<Figure size 1000x600 with 1 Axes>"
      ]
     },
     "metadata": {},
     "output_type": "display_data"
    },
    {
     "data": {
      "image/png": "[encoded data removed]",
      "text/plain": [
       "<Figure size 1000x600 with 1 Axes>"
      ]
     },
     "metadata": {},
     "output_type": "display_data"
    },
    {
     "data": {
      "image/png": "[encoded data removed]",
      "text/plain": [
       "<Figure size 1000x600 with 1 Axes>"
      ]
     },
     "metadata": {},
     "output_type": "display_data"
    }
   ],
   "source": [
    "start_date = '2021-01-01'\n",
    "end_date = '2023-10-21'\n",
    "\n",
    "rates = get_closing_prices(df_rates, start_date, end_date)"
   ]
  },
  {
   "cell_type": "code",
   "execution_count": 35,
   "id": "8d26a296-ddbf-4f87-93f5-32650e6bfe87",
   "metadata": {
    "tags": []
   },
   "outputs": [
    {
     "data": {
      "text/html": [
       "<div>\n",
       "<style scoped>\n",
       "    .dataframe tbody tr th:only-of-type {\n",
       "        vertical-align: middle;\n",
       "    }\n",
       "\n",
       "    .dataframe tbody tr th {\n",
       "        vertical-align: top;\n",
       "    }\n",
       "\n",
       "    .dataframe thead th {\n",
       "        text-align: right;\n",
       "    }\n",
       "</style>\n",
       "<table border=\"1\" class=\"dataframe\">\n",
       "  <thead>\n",
       "    <tr style=\"text-align: right;\">\n",
       "      <th></th>\n",
       "      <th>symbol</th>\n",
       "      <th>date</th>\n",
       "      <th>feed_price</th>\n",
       "    </tr>\n",
       "  </thead>\n",
       "  <tbody>\n",
       "    <tr>\n",
       "      <th>0</th>\n",
       "      <td>USDBRL</td>\n",
       "      <td>2021-01-01</td>\n",
       "      <td>5.1934</td>\n",
       "    </tr>\n",
       "    <tr>\n",
       "      <th>1</th>\n",
       "      <td>USDBRL</td>\n",
       "      <td>2021-01-02</td>\n",
       "      <td>5.1934</td>\n",
       "    </tr>\n",
       "    <tr>\n",
       "      <th>2</th>\n",
       "      <td>USDBRL</td>\n",
       "      <td>2021-01-03</td>\n",
       "      <td>5.1975</td>\n",
       "    </tr>\n",
       "    <tr>\n",
       "      <th>3</th>\n",
       "      <td>USDBRL</td>\n",
       "      <td>2021-01-04</td>\n",
       "      <td>5.2972</td>\n",
       "    </tr>\n",
       "    <tr>\n",
       "      <th>4</th>\n",
       "      <td>USDBRL</td>\n",
       "      <td>2021-01-05</td>\n",
       "      <td>5.2855</td>\n",
       "    </tr>\n",
       "    <tr>\n",
       "      <th>5</th>\n",
       "      <td>USDBRL</td>\n",
       "      <td>2021-01-06</td>\n",
       "      <td>5.3143</td>\n",
       "    </tr>\n",
       "    <tr>\n",
       "      <th>6</th>\n",
       "      <td>USDBRL</td>\n",
       "      <td>2021-01-07</td>\n",
       "      <td>5.4104</td>\n",
       "    </tr>\n",
       "    <tr>\n",
       "      <th>7</th>\n",
       "      <td>USDBRL</td>\n",
       "      <td>2021-01-08</td>\n",
       "      <td>5.4180</td>\n",
       "    </tr>\n",
       "    <tr>\n",
       "      <th>8</th>\n",
       "      <td>USDBRL</td>\n",
       "      <td>2021-01-09</td>\n",
       "      <td>5.4154</td>\n",
       "    </tr>\n",
       "    <tr>\n",
       "      <th>9</th>\n",
       "      <td>USDBRL</td>\n",
       "      <td>2021-01-10</td>\n",
       "      <td>5.4185</td>\n",
       "    </tr>\n",
       "    <tr>\n",
       "      <th>10</th>\n",
       "      <td>USDBRL</td>\n",
       "      <td>2021-01-11</td>\n",
       "      <td>5.4895</td>\n",
       "    </tr>\n",
       "    <tr>\n",
       "      <th>11</th>\n",
       "      <td>USDBRL</td>\n",
       "      <td>2021-01-12</td>\n",
       "      <td>5.3228</td>\n",
       "    </tr>\n",
       "    <tr>\n",
       "      <th>12</th>\n",
       "      <td>USDBRL</td>\n",
       "      <td>2021-01-13</td>\n",
       "      <td>5.2993</td>\n",
       "    </tr>\n",
       "    <tr>\n",
       "      <th>13</th>\n",
       "      <td>USDBRL</td>\n",
       "      <td>2021-01-14</td>\n",
       "      <td>5.1972</td>\n",
       "    </tr>\n",
       "    <tr>\n",
       "      <th>14</th>\n",
       "      <td>USDBRL</td>\n",
       "      <td>2021-01-15</td>\n",
       "      <td>5.2931</td>\n",
       "    </tr>\n",
       "    <tr>\n",
       "      <th>15</th>\n",
       "      <td>USDBRL</td>\n",
       "      <td>2021-01-16</td>\n",
       "      <td>5.2933</td>\n",
       "    </tr>\n",
       "    <tr>\n",
       "      <th>16</th>\n",
       "      <td>USDBRL</td>\n",
       "      <td>2021-01-17</td>\n",
       "      <td>5.2920</td>\n",
       "    </tr>\n",
       "    <tr>\n",
       "      <th>17</th>\n",
       "      <td>USDBRL</td>\n",
       "      <td>2021-01-18</td>\n",
       "      <td>5.2962</td>\n",
       "    </tr>\n",
       "    <tr>\n",
       "      <th>18</th>\n",
       "      <td>USDBRL</td>\n",
       "      <td>2021-01-19</td>\n",
       "      <td>5.3581</td>\n",
       "    </tr>\n",
       "    <tr>\n",
       "      <th>19</th>\n",
       "      <td>USDBRL</td>\n",
       "      <td>2021-01-20</td>\n",
       "      <td>5.2922</td>\n",
       "    </tr>\n",
       "  </tbody>\n",
       "</table>\n",
       "</div>"
      ],
      "text/plain": [
       "    symbol       date  feed_price\n",
       "0   USDBRL 2021-01-01      5.1934\n",
       "1   USDBRL 2021-01-02      5.1934\n",
       "2   USDBRL 2021-01-03      5.1975\n",
       "3   USDBRL 2021-01-04      5.2972\n",
       "4   USDBRL 2021-01-05      5.2855\n",
       "5   USDBRL 2021-01-06      5.3143\n",
       "6   USDBRL 2021-01-07      5.4104\n",
       "7   USDBRL 2021-01-08      5.4180\n",
       "8   USDBRL 2021-01-09      5.4154\n",
       "9   USDBRL 2021-01-10      5.4185\n",
       "10  USDBRL 2021-01-11      5.4895\n",
       "11  USDBRL 2021-01-12      5.3228\n",
       "12  USDBRL 2021-01-13      5.2993\n",
       "13  USDBRL 2021-01-14      5.1972\n",
       "14  USDBRL 2021-01-15      5.2931\n",
       "15  USDBRL 2021-01-16      5.2933\n",
       "16  USDBRL 2021-01-17      5.2920\n",
       "17  USDBRL 2021-01-18      5.2962\n",
       "18  USDBRL 2021-01-19      5.3581\n",
       "19  USDBRL 2021-01-20      5.2922"
      ]
     },
     "execution_count": 35,
     "metadata": {},
     "output_type": "execute_result"
    }
   ],
   "source": [
    "rates.head(20)"
   ]
  },
  {
   "cell_type": "code",
   "execution_count": 36,
   "id": "7c540ada-d84f-45a4-9d5b-2f151abf15c5",
   "metadata": {
    "tags": []
   },
   "outputs": [],
   "source": [
    "#Date format\n",
    "#rates['date'] = rates['date'].dt.date"
   ]
  },
  {
   "cell_type": "code",
   "execution_count": null,
   "id": "e99891cd-579c-48c1-bbe8-006367d43c02",
   "metadata": {
    "tags": []
   },
   "outputs": [],
   "source": []
  },
  {
   "cell_type": "code",
   "execution_count": 37,
   "id": "888a43a3-33cb-4a79-8fea-dca69ebdfbd6",
   "metadata": {
    "tags": []
   },
   "outputs": [],
   "source": [
    "# Generating an empty df with date continuity and currency included in rates df\n",
    "from itertools import product\n",
    "\n",
    "def generate_continuous_dates(data):\n",
    "    # Obtener la lista única de monedas y fechas disponibles\n",
    "    countries = data['symbol'].unique()\n",
    "    dates = pd.date_range(start=data['date'].min(), end=data['date'].max(), freq='D')\n",
    "\n",
    "    # Generar todas las combinaciones de países y fechas continuas\n",
    "    all_dates = list(product(countries, dates))\n",
    "    continuous_dates = pd.DataFrame(all_dates, columns=['symbol', 'date'])\n",
    "\n",
    "    return continuous_dates"
   ]
  },
  {
   "cell_type": "code",
   "execution_count": 38,
   "id": "7b3c3880-700d-44ed-9c8d-5597d321172e",
   "metadata": {
    "tags": []
   },
   "outputs": [],
   "source": [
    "rates_cont = generate_continuous_dates(rates)"
   ]
  },
  {
   "cell_type": "code",
   "execution_count": 39,
   "id": "9b35be0c-47cb-4a3a-85d2-33396b6f76c0",
   "metadata": {
    "tags": []
   },
   "outputs": [
    {
     "data": {
      "text/plain": [
       "(5115, 2)"
      ]
     },
     "execution_count": 39,
     "metadata": {},
     "output_type": "execute_result"
    }
   ],
   "source": [
    "##1023 days x 5 countries= 5115\n",
    "rates_cont.shape"
   ]
  },
  {
   "cell_type": "code",
   "execution_count": 40,
   "id": "e2c81d31-09b3-4b73-8413-269871685511",
   "metadata": {
    "tags": []
   },
   "outputs": [
    {
     "data": {
      "text/plain": [
       "symbol    0\n",
       "date      0\n",
       "dtype: int64"
      ]
     },
     "execution_count": 40,
     "metadata": {},
     "output_type": "execute_result"
    }
   ],
   "source": [
    "rates_cont.isna().sum()"
   ]
  },
  {
   "cell_type": "code",
   "execution_count": 41,
   "id": "6e9d35b0-5460-48a8-aa23-9fa138c3c0e2",
   "metadata": {
    "tags": []
   },
   "outputs": [],
   "source": [
    "rates_cont = pd.merge(rates_cont, rates, on=['symbol', 'date'], how='left')"
   ]
  },
  {
   "cell_type": "code",
   "execution_count": 42,
   "id": "e4ea86de-5e0b-4117-a80e-66a715375532",
   "metadata": {
    "tags": []
   },
   "outputs": [
    {
     "data": {
      "text/html": [
       "<div>\n",
       "<style scoped>\n",
       "    .dataframe tbody tr th:only-of-type {\n",
       "        vertical-align: middle;\n",
       "    }\n",
       "\n",
       "    .dataframe tbody tr th {\n",
       "        vertical-align: top;\n",
       "    }\n",
       "\n",
       "    .dataframe thead th {\n",
       "        text-align: right;\n",
       "    }\n",
       "</style>\n",
       "<table border=\"1\" class=\"dataframe\">\n",
       "  <thead>\n",
       "    <tr style=\"text-align: right;\">\n",
       "      <th></th>\n",
       "      <th>symbol</th>\n",
       "      <th>date</th>\n",
       "      <th>feed_price</th>\n",
       "    </tr>\n",
       "  </thead>\n",
       "  <tbody>\n",
       "    <tr>\n",
       "      <th>361</th>\n",
       "      <td>USDBRL</td>\n",
       "      <td>2021-12-28</td>\n",
       "      <td>5.6286</td>\n",
       "    </tr>\n",
       "    <tr>\n",
       "      <th>3430</th>\n",
       "      <td>USDMXN</td>\n",
       "      <td>2021-12-28</td>\n",
       "      <td>20.6646</td>\n",
       "    </tr>\n",
       "    <tr>\n",
       "      <th>2407</th>\n",
       "      <td>USDINR</td>\n",
       "      <td>2021-12-28</td>\n",
       "      <td>74.7363</td>\n",
       "    </tr>\n",
       "    <tr>\n",
       "      <th>4453</th>\n",
       "      <td>USDPHP</td>\n",
       "      <td>2021-12-28</td>\n",
       "      <td>50.8455</td>\n",
       "    </tr>\n",
       "    <tr>\n",
       "      <th>1384</th>\n",
       "      <td>USDGTQ</td>\n",
       "      <td>2021-12-28</td>\n",
       "      <td>7.7313</td>\n",
       "    </tr>\n",
       "    <tr>\n",
       "      <th>...</th>\n",
       "      <td>...</td>\n",
       "      <td>...</td>\n",
       "      <td>...</td>\n",
       "    </tr>\n",
       "    <tr>\n",
       "      <th>4091</th>\n",
       "      <td>USDMXN</td>\n",
       "      <td>2023-10-20</td>\n",
       "      <td>18.2351</td>\n",
       "    </tr>\n",
       "    <tr>\n",
       "      <th>2045</th>\n",
       "      <td>USDGTQ</td>\n",
       "      <td>2023-10-20</td>\n",
       "      <td>7.8388</td>\n",
       "    </tr>\n",
       "    <tr>\n",
       "      <th>1022</th>\n",
       "      <td>USDBRL</td>\n",
       "      <td>2023-10-20</td>\n",
       "      <td>5.0345</td>\n",
       "    </tr>\n",
       "    <tr>\n",
       "      <th>3068</th>\n",
       "      <td>USDINR</td>\n",
       "      <td>2023-10-20</td>\n",
       "      <td>83.2396</td>\n",
       "    </tr>\n",
       "    <tr>\n",
       "      <th>5114</th>\n",
       "      <td>USDPHP</td>\n",
       "      <td>2023-10-20</td>\n",
       "      <td>56.7010</td>\n",
       "    </tr>\n",
       "  </tbody>\n",
       "</table>\n",
       "<p>3310 rows × 3 columns</p>\n",
       "</div>"
      ],
      "text/plain": [
       "      symbol       date  feed_price\n",
       "361   USDBRL 2021-12-28      5.6286\n",
       "3430  USDMXN 2021-12-28     20.6646\n",
       "2407  USDINR 2021-12-28     74.7363\n",
       "4453  USDPHP 2021-12-28     50.8455\n",
       "1384  USDGTQ 2021-12-28      7.7313\n",
       "...      ...        ...         ...\n",
       "4091  USDMXN 2023-10-20     18.2351\n",
       "2045  USDGTQ 2023-10-20      7.8388\n",
       "1022  USDBRL 2023-10-20      5.0345\n",
       "3068  USDINR 2023-10-20     83.2396\n",
       "5114  USDPHP 2023-10-20     56.7010\n",
       "\n",
       "[3310 rows x 3 columns]"
      ]
     },
     "execution_count": 42,
     "metadata": {},
     "output_type": "execute_result"
    }
   ],
   "source": [
    "rates_cont[rates_cont['date'] > '2021-12-27'].sort_values('date')"
   ]
  },
  {
   "cell_type": "code",
   "execution_count": 43,
   "id": "6ddf8927-3e0a-44a6-af83-2b93182a5d6b",
   "metadata": {
    "tags": []
   },
   "outputs": [
    {
     "name": "stderr",
     "output_type": "stream",
     "text": [
      "/tmp/ipykernel_18/305076726.py:5: FutureWarning: Series.fillna with 'method' is deprecated and will raise in a future version. Use obj.ffill() or obj.bfill() instead.\n",
      "  rates_cont['feed_price'] = rates_cont.groupby('symbol')['feed_price'].fillna(method='ffill')\n"
     ]
    }
   ],
   "source": [
    "#NOW IT MAKES NO SENSE SINCE THERE ARE NO MISSINGS\n",
    "# Sorting by date and country for proper forward filling\n",
    "rates_cont = rates_cont.sort_values(by=['symbol', 'date'])\n",
    "# Filling missing values downward within each country group\n",
    "rates_cont['feed_price'] = rates_cont.groupby('symbol')['feed_price'].fillna(method='ffill')"
   ]
  },
  {
   "cell_type": "code",
   "execution_count": 44,
   "id": "1c88d400-233f-4690-9946-964a2e8e9567",
   "metadata": {
    "tags": []
   },
   "outputs": [
    {
     "data": {
      "text/html": [
       "<div>\n",
       "<style scoped>\n",
       "    .dataframe tbody tr th:only-of-type {\n",
       "        vertical-align: middle;\n",
       "    }\n",
       "\n",
       "    .dataframe tbody tr th {\n",
       "        vertical-align: top;\n",
       "    }\n",
       "\n",
       "    .dataframe thead th {\n",
       "        text-align: right;\n",
       "    }\n",
       "</style>\n",
       "<table border=\"1\" class=\"dataframe\">\n",
       "  <thead>\n",
       "    <tr style=\"text-align: right;\">\n",
       "      <th></th>\n",
       "      <th>symbol</th>\n",
       "      <th>date</th>\n",
       "      <th>feed_price</th>\n",
       "    </tr>\n",
       "  </thead>\n",
       "  <tbody>\n",
       "    <tr>\n",
       "      <th>360</th>\n",
       "      <td>USDBRL</td>\n",
       "      <td>2021-12-27</td>\n",
       "      <td>5.6254</td>\n",
       "    </tr>\n",
       "    <tr>\n",
       "      <th>3429</th>\n",
       "      <td>USDMXN</td>\n",
       "      <td>2021-12-27</td>\n",
       "      <td>20.7050</td>\n",
       "    </tr>\n",
       "    <tr>\n",
       "      <th>2406</th>\n",
       "      <td>USDINR</td>\n",
       "      <td>2021-12-27</td>\n",
       "      <td>74.9377</td>\n",
       "    </tr>\n",
       "    <tr>\n",
       "      <th>4452</th>\n",
       "      <td>USDPHP</td>\n",
       "      <td>2021-12-27</td>\n",
       "      <td>50.2775</td>\n",
       "    </tr>\n",
       "    <tr>\n",
       "      <th>1383</th>\n",
       "      <td>USDGTQ</td>\n",
       "      <td>2021-12-27</td>\n",
       "      <td>7.7211</td>\n",
       "    </tr>\n",
       "    <tr>\n",
       "      <th>2407</th>\n",
       "      <td>USDINR</td>\n",
       "      <td>2021-12-28</td>\n",
       "      <td>74.7363</td>\n",
       "    </tr>\n",
       "    <tr>\n",
       "      <th>3430</th>\n",
       "      <td>USDMXN</td>\n",
       "      <td>2021-12-28</td>\n",
       "      <td>20.6646</td>\n",
       "    </tr>\n",
       "    <tr>\n",
       "      <th>4453</th>\n",
       "      <td>USDPHP</td>\n",
       "      <td>2021-12-28</td>\n",
       "      <td>50.8455</td>\n",
       "    </tr>\n",
       "    <tr>\n",
       "      <th>361</th>\n",
       "      <td>USDBRL</td>\n",
       "      <td>2021-12-28</td>\n",
       "      <td>5.6286</td>\n",
       "    </tr>\n",
       "    <tr>\n",
       "      <th>1384</th>\n",
       "      <td>USDGTQ</td>\n",
       "      <td>2021-12-28</td>\n",
       "      <td>7.7313</td>\n",
       "    </tr>\n",
       "    <tr>\n",
       "      <th>1385</th>\n",
       "      <td>USDGTQ</td>\n",
       "      <td>2021-12-29</td>\n",
       "      <td>7.7019</td>\n",
       "    </tr>\n",
       "    <tr>\n",
       "      <th>4454</th>\n",
       "      <td>USDPHP</td>\n",
       "      <td>2021-12-29</td>\n",
       "      <td>51.0435</td>\n",
       "    </tr>\n",
       "    <tr>\n",
       "      <th>2408</th>\n",
       "      <td>USDINR</td>\n",
       "      <td>2021-12-29</td>\n",
       "      <td>74.5857</td>\n",
       "    </tr>\n",
       "    <tr>\n",
       "      <th>362</th>\n",
       "      <td>USDBRL</td>\n",
       "      <td>2021-12-29</td>\n",
       "      <td>5.7038</td>\n",
       "    </tr>\n",
       "    <tr>\n",
       "      <th>3431</th>\n",
       "      <td>USDMXN</td>\n",
       "      <td>2021-12-29</td>\n",
       "      <td>20.5816</td>\n",
       "    </tr>\n",
       "    <tr>\n",
       "      <th>1386</th>\n",
       "      <td>USDGTQ</td>\n",
       "      <td>2021-12-30</td>\n",
       "      <td>7.7187</td>\n",
       "    </tr>\n",
       "    <tr>\n",
       "      <th>4455</th>\n",
       "      <td>USDPHP</td>\n",
       "      <td>2021-12-30</td>\n",
       "      <td>51.1352</td>\n",
       "    </tr>\n",
       "    <tr>\n",
       "      <th>3432</th>\n",
       "      <td>USDMXN</td>\n",
       "      <td>2021-12-30</td>\n",
       "      <td>20.4625</td>\n",
       "    </tr>\n",
       "    <tr>\n",
       "      <th>2409</th>\n",
       "      <td>USDINR</td>\n",
       "      <td>2021-12-30</td>\n",
       "      <td>74.3710</td>\n",
       "    </tr>\n",
       "    <tr>\n",
       "      <th>363</th>\n",
       "      <td>USDBRL</td>\n",
       "      <td>2021-12-30</td>\n",
       "      <td>5.5717</td>\n",
       "    </tr>\n",
       "  </tbody>\n",
       "</table>\n",
       "</div>"
      ],
      "text/plain": [
       "      symbol       date  feed_price\n",
       "360   USDBRL 2021-12-27      5.6254\n",
       "3429  USDMXN 2021-12-27     20.7050\n",
       "2406  USDINR 2021-12-27     74.9377\n",
       "4452  USDPHP 2021-12-27     50.2775\n",
       "1383  USDGTQ 2021-12-27      7.7211\n",
       "2407  USDINR 2021-12-28     74.7363\n",
       "3430  USDMXN 2021-12-28     20.6646\n",
       "4453  USDPHP 2021-12-28     50.8455\n",
       "361   USDBRL 2021-12-28      5.6286\n",
       "1384  USDGTQ 2021-12-28      7.7313\n",
       "1385  USDGTQ 2021-12-29      7.7019\n",
       "4454  USDPHP 2021-12-29     51.0435\n",
       "2408  USDINR 2021-12-29     74.5857\n",
       "362   USDBRL 2021-12-29      5.7038\n",
       "3431  USDMXN 2021-12-29     20.5816\n",
       "1386  USDGTQ 2021-12-30      7.7187\n",
       "4455  USDPHP 2021-12-30     51.1352\n",
       "3432  USDMXN 2021-12-30     20.4625\n",
       "2409  USDINR 2021-12-30     74.3710\n",
       "363   USDBRL 2021-12-30      5.5717"
      ]
     },
     "execution_count": 44,
     "metadata": {},
     "output_type": "execute_result"
    }
   ],
   "source": [
    "rates_cont[rates_cont['date'] > '2021-12-26'].sort_values('date').head(20) # OK! "
   ]
  },
  {
   "cell_type": "code",
   "execution_count": 45,
   "id": "aaf4e55c-eb10-4c31-b312-429604848bf4",
   "metadata": {
    "tags": []
   },
   "outputs": [
    {
     "data": {
      "text/html": [
       "<div>\n",
       "<style scoped>\n",
       "    .dataframe tbody tr th:only-of-type {\n",
       "        vertical-align: middle;\n",
       "    }\n",
       "\n",
       "    .dataframe tbody tr th {\n",
       "        vertical-align: top;\n",
       "    }\n",
       "\n",
       "    .dataframe thead th {\n",
       "        text-align: right;\n",
       "    }\n",
       "</style>\n",
       "<table border=\"1\" class=\"dataframe\">\n",
       "  <thead>\n",
       "    <tr style=\"text-align: right;\">\n",
       "      <th></th>\n",
       "      <th>symbol</th>\n",
       "      <th>date</th>\n",
       "      <th>feed_price</th>\n",
       "    </tr>\n",
       "  </thead>\n",
       "  <tbody>\n",
       "    <tr>\n",
       "      <th>752</th>\n",
       "      <td>USDBRL</td>\n",
       "      <td>2023-01-23</td>\n",
       "      <td>5.2082</td>\n",
       "    </tr>\n",
       "    <tr>\n",
       "      <th>2798</th>\n",
       "      <td>USDINR</td>\n",
       "      <td>2023-01-23</td>\n",
       "      <td>81.5729</td>\n",
       "    </tr>\n",
       "    <tr>\n",
       "      <th>3821</th>\n",
       "      <td>USDMXN</td>\n",
       "      <td>2023-01-23</td>\n",
       "      <td>18.8103</td>\n",
       "    </tr>\n",
       "    <tr>\n",
       "      <th>4844</th>\n",
       "      <td>USDPHP</td>\n",
       "      <td>2023-01-23</td>\n",
       "      <td>54.4597</td>\n",
       "    </tr>\n",
       "    <tr>\n",
       "      <th>1775</th>\n",
       "      <td>USDGTQ</td>\n",
       "      <td>2023-01-23</td>\n",
       "      <td>7.8526</td>\n",
       "    </tr>\n",
       "    <tr>\n",
       "      <th>753</th>\n",
       "      <td>USDBRL</td>\n",
       "      <td>2023-01-24</td>\n",
       "      <td>5.1398</td>\n",
       "    </tr>\n",
       "    <tr>\n",
       "      <th>2799</th>\n",
       "      <td>USDINR</td>\n",
       "      <td>2023-01-24</td>\n",
       "      <td>81.5724</td>\n",
       "    </tr>\n",
       "    <tr>\n",
       "      <th>3822</th>\n",
       "      <td>USDMXN</td>\n",
       "      <td>2023-01-24</td>\n",
       "      <td>18.8012</td>\n",
       "    </tr>\n",
       "    <tr>\n",
       "      <th>1776</th>\n",
       "      <td>USDGTQ</td>\n",
       "      <td>2023-01-24</td>\n",
       "      <td>7.8406</td>\n",
       "    </tr>\n",
       "    <tr>\n",
       "      <th>4845</th>\n",
       "      <td>USDPHP</td>\n",
       "      <td>2023-01-24</td>\n",
       "      <td>54.6760</td>\n",
       "    </tr>\n",
       "    <tr>\n",
       "      <th>754</th>\n",
       "      <td>USDBRL</td>\n",
       "      <td>2023-01-25</td>\n",
       "      <td>5.0737</td>\n",
       "    </tr>\n",
       "    <tr>\n",
       "      <th>3823</th>\n",
       "      <td>USDMXN</td>\n",
       "      <td>2023-01-25</td>\n",
       "      <td>18.7980</td>\n",
       "    </tr>\n",
       "    <tr>\n",
       "      <th>2800</th>\n",
       "      <td>USDINR</td>\n",
       "      <td>2023-01-25</td>\n",
       "      <td>81.5027</td>\n",
       "    </tr>\n",
       "    <tr>\n",
       "      <th>1777</th>\n",
       "      <td>USDGTQ</td>\n",
       "      <td>2023-01-25</td>\n",
       "      <td>7.8251</td>\n",
       "    </tr>\n",
       "    <tr>\n",
       "      <th>4846</th>\n",
       "      <td>USDPHP</td>\n",
       "      <td>2023-01-25</td>\n",
       "      <td>54.5097</td>\n",
       "    </tr>\n",
       "    <tr>\n",
       "      <th>3824</th>\n",
       "      <td>USDMXN</td>\n",
       "      <td>2023-01-26</td>\n",
       "      <td>18.8079</td>\n",
       "    </tr>\n",
       "    <tr>\n",
       "      <th>1778</th>\n",
       "      <td>USDGTQ</td>\n",
       "      <td>2023-01-26</td>\n",
       "      <td>7.8542</td>\n",
       "    </tr>\n",
       "    <tr>\n",
       "      <th>2801</th>\n",
       "      <td>USDINR</td>\n",
       "      <td>2023-01-26</td>\n",
       "      <td>81.5159</td>\n",
       "    </tr>\n",
       "    <tr>\n",
       "      <th>755</th>\n",
       "      <td>USDBRL</td>\n",
       "      <td>2023-01-26</td>\n",
       "      <td>5.0663</td>\n",
       "    </tr>\n",
       "    <tr>\n",
       "      <th>4847</th>\n",
       "      <td>USDPHP</td>\n",
       "      <td>2023-01-26</td>\n",
       "      <td>54.4182</td>\n",
       "    </tr>\n",
       "  </tbody>\n",
       "</table>\n",
       "</div>"
      ],
      "text/plain": [
       "      symbol       date  feed_price\n",
       "752   USDBRL 2023-01-23      5.2082\n",
       "2798  USDINR 2023-01-23     81.5729\n",
       "3821  USDMXN 2023-01-23     18.8103\n",
       "4844  USDPHP 2023-01-23     54.4597\n",
       "1775  USDGTQ 2023-01-23      7.8526\n",
       "753   USDBRL 2023-01-24      5.1398\n",
       "2799  USDINR 2023-01-24     81.5724\n",
       "3822  USDMXN 2023-01-24     18.8012\n",
       "1776  USDGTQ 2023-01-24      7.8406\n",
       "4845  USDPHP 2023-01-24     54.6760\n",
       "754   USDBRL 2023-01-25      5.0737\n",
       "3823  USDMXN 2023-01-25     18.7980\n",
       "2800  USDINR 2023-01-25     81.5027\n",
       "1777  USDGTQ 2023-01-25      7.8251\n",
       "4846  USDPHP 2023-01-25     54.5097\n",
       "3824  USDMXN 2023-01-26     18.8079\n",
       "1778  USDGTQ 2023-01-26      7.8542\n",
       "2801  USDINR 2023-01-26     81.5159\n",
       "755   USDBRL 2023-01-26      5.0663\n",
       "4847  USDPHP 2023-01-26     54.4182"
      ]
     },
     "execution_count": 45,
     "metadata": {},
     "output_type": "execute_result"
    }
   ],
   "source": [
    "rates_cont[rates_cont['date'] > '2023-01-22'].sort_values('date').head(20) # OK! "
   ]
  },
  {
   "cell_type": "code",
   "execution_count": 46,
   "id": "2c0f03a5-c5ae-454f-b032-abe6d659e860",
   "metadata": {
    "tags": []
   },
   "outputs": [
    {
     "data": {
      "text/html": [
       "<div>\n",
       "<style scoped>\n",
       "    .dataframe tbody tr th:only-of-type {\n",
       "        vertical-align: middle;\n",
       "    }\n",
       "\n",
       "    .dataframe tbody tr th {\n",
       "        vertical-align: top;\n",
       "    }\n",
       "\n",
       "    .dataframe thead th {\n",
       "        text-align: right;\n",
       "    }\n",
       "</style>\n",
       "<table border=\"1\" class=\"dataframe\">\n",
       "  <thead>\n",
       "    <tr style=\"text-align: right;\">\n",
       "      <th></th>\n",
       "      <th>symbol</th>\n",
       "      <th>date</th>\n",
       "      <th>feed_price</th>\n",
       "    </tr>\n",
       "  </thead>\n",
       "  <tbody>\n",
       "    <tr>\n",
       "      <th>0</th>\n",
       "      <td>USDBRL</td>\n",
       "      <td>2021-01-01</td>\n",
       "      <td>5.1934</td>\n",
       "    </tr>\n",
       "    <tr>\n",
       "      <th>1</th>\n",
       "      <td>USDBRL</td>\n",
       "      <td>2021-01-02</td>\n",
       "      <td>5.1934</td>\n",
       "    </tr>\n",
       "    <tr>\n",
       "      <th>2</th>\n",
       "      <td>USDBRL</td>\n",
       "      <td>2021-01-03</td>\n",
       "      <td>5.1975</td>\n",
       "    </tr>\n",
       "    <tr>\n",
       "      <th>3</th>\n",
       "      <td>USDBRL</td>\n",
       "      <td>2021-01-04</td>\n",
       "      <td>5.2972</td>\n",
       "    </tr>\n",
       "    <tr>\n",
       "      <th>4</th>\n",
       "      <td>USDBRL</td>\n",
       "      <td>2021-01-05</td>\n",
       "      <td>5.2855</td>\n",
       "    </tr>\n",
       "  </tbody>\n",
       "</table>\n",
       "</div>"
      ],
      "text/plain": [
       "   symbol       date  feed_price\n",
       "0  USDBRL 2021-01-01      5.1934\n",
       "1  USDBRL 2021-01-02      5.1934\n",
       "2  USDBRL 2021-01-03      5.1975\n",
       "3  USDBRL 2021-01-04      5.2972\n",
       "4  USDBRL 2021-01-05      5.2855"
      ]
     },
     "execution_count": 46,
     "metadata": {},
     "output_type": "execute_result"
    }
   ],
   "source": [
    "rates_cont.head()"
   ]
  },
  {
   "cell_type": "code",
   "execution_count": 47,
   "id": "3c40c0a4-b01a-4c7f-883c-1b672dc86130",
   "metadata": {
    "tags": []
   },
   "outputs": [],
   "source": [
    "###WE OBTAIN THE LAGS OF UP TO 7 DAYS FOR THE EXCHANGE RATE \n",
    "for i in range(1, 8):\n",
    "        nombre_columna = f'feed_price_retardo_{i}'\n",
    "        rates_cont[nombre_columna] = rates_cont.groupby('symbol')['feed_price'].shift(i)"
   ]
  },
  {
   "cell_type": "code",
   "execution_count": 48,
   "id": "b828e046-4555-4007-85fb-7c9bc843a5fb",
   "metadata": {
    "tags": []
   },
   "outputs": [
    {
     "data": {
      "text/html": [
       "<div>\n",
       "<style scoped>\n",
       "    .dataframe tbody tr th:only-of-type {\n",
       "        vertical-align: middle;\n",
       "    }\n",
       "\n",
       "    .dataframe tbody tr th {\n",
       "        vertical-align: top;\n",
       "    }\n",
       "\n",
       "    .dataframe thead th {\n",
       "        text-align: right;\n",
       "    }\n",
       "</style>\n",
       "<table border=\"1\" class=\"dataframe\">\n",
       "  <thead>\n",
       "    <tr style=\"text-align: right;\">\n",
       "      <th></th>\n",
       "      <th>symbol</th>\n",
       "      <th>date</th>\n",
       "      <th>feed_price</th>\n",
       "      <th>feed_price_retardo_1</th>\n",
       "      <th>feed_price_retardo_2</th>\n",
       "      <th>feed_price_retardo_3</th>\n",
       "      <th>feed_price_retardo_4</th>\n",
       "      <th>feed_price_retardo_5</th>\n",
       "      <th>feed_price_retardo_6</th>\n",
       "      <th>feed_price_retardo_7</th>\n",
       "    </tr>\n",
       "  </thead>\n",
       "  <tbody>\n",
       "    <tr>\n",
       "      <th>0</th>\n",
       "      <td>USDBRL</td>\n",
       "      <td>2021-01-01</td>\n",
       "      <td>5.1934</td>\n",
       "      <td>NaN</td>\n",
       "      <td>NaN</td>\n",
       "      <td>NaN</td>\n",
       "      <td>NaN</td>\n",
       "      <td>NaN</td>\n",
       "      <td>NaN</td>\n",
       "      <td>NaN</td>\n",
       "    </tr>\n",
       "    <tr>\n",
       "      <th>1</th>\n",
       "      <td>USDBRL</td>\n",
       "      <td>2021-01-02</td>\n",
       "      <td>5.1934</td>\n",
       "      <td>5.1934</td>\n",
       "      <td>NaN</td>\n",
       "      <td>NaN</td>\n",
       "      <td>NaN</td>\n",
       "      <td>NaN</td>\n",
       "      <td>NaN</td>\n",
       "      <td>NaN</td>\n",
       "    </tr>\n",
       "    <tr>\n",
       "      <th>2</th>\n",
       "      <td>USDBRL</td>\n",
       "      <td>2021-01-03</td>\n",
       "      <td>5.1975</td>\n",
       "      <td>5.1934</td>\n",
       "      <td>5.1934</td>\n",
       "      <td>NaN</td>\n",
       "      <td>NaN</td>\n",
       "      <td>NaN</td>\n",
       "      <td>NaN</td>\n",
       "      <td>NaN</td>\n",
       "    </tr>\n",
       "    <tr>\n",
       "      <th>3</th>\n",
       "      <td>USDBRL</td>\n",
       "      <td>2021-01-04</td>\n",
       "      <td>5.2972</td>\n",
       "      <td>5.1975</td>\n",
       "      <td>5.1934</td>\n",
       "      <td>5.1934</td>\n",
       "      <td>NaN</td>\n",
       "      <td>NaN</td>\n",
       "      <td>NaN</td>\n",
       "      <td>NaN</td>\n",
       "    </tr>\n",
       "    <tr>\n",
       "      <th>4</th>\n",
       "      <td>USDBRL</td>\n",
       "      <td>2021-01-05</td>\n",
       "      <td>5.2855</td>\n",
       "      <td>5.2972</td>\n",
       "      <td>5.1975</td>\n",
       "      <td>5.1934</td>\n",
       "      <td>5.1934</td>\n",
       "      <td>NaN</td>\n",
       "      <td>NaN</td>\n",
       "      <td>NaN</td>\n",
       "    </tr>\n",
       "  </tbody>\n",
       "</table>\n",
       "</div>"
      ],
      "text/plain": [
       "   symbol       date  feed_price  feed_price_retardo_1  feed_price_retardo_2  \\\n",
       "0  USDBRL 2021-01-01      5.1934                   NaN                   NaN   \n",
       "1  USDBRL 2021-01-02      5.1934                5.1934                   NaN   \n",
       "2  USDBRL 2021-01-03      5.1975                5.1934                5.1934   \n",
       "3  USDBRL 2021-01-04      5.2972                5.1975                5.1934   \n",
       "4  USDBRL 2021-01-05      5.2855                5.2972                5.1975   \n",
       "\n",
       "   feed_price_retardo_3  feed_price_retardo_4  feed_price_retardo_5  \\\n",
       "0                   NaN                   NaN                   NaN   \n",
       "1                   NaN                   NaN                   NaN   \n",
       "2                   NaN                   NaN                   NaN   \n",
       "3                5.1934                   NaN                   NaN   \n",
       "4                5.1934                5.1934                   NaN   \n",
       "\n",
       "   feed_price_retardo_6  feed_price_retardo_7  \n",
       "0                   NaN                   NaN  \n",
       "1                   NaN                   NaN  \n",
       "2                   NaN                   NaN  \n",
       "3                   NaN                   NaN  \n",
       "4                   NaN                   NaN  "
      ]
     },
     "execution_count": 48,
     "metadata": {},
     "output_type": "execute_result"
    }
   ],
   "source": [
    "rates_cont.head()"
   ]
  },
  {
   "cell_type": "code",
   "execution_count": 49,
   "id": "256b3b3b-7dcc-4751-a490-b1a8d555f921",
   "metadata": {
    "tags": []
   },
   "outputs": [],
   "source": [
    "rates_cont['var_rate_lag1']=rates_cont.feed_price_retardo_1-rates_cont.feed_price_retardo_2\n",
    "rates_cont['var_rate_lag2']=rates_cont.feed_price_retardo_2-rates_cont.feed_price_retardo_3\n",
    "rates_cont['var_rate_lag3']=rates_cont.feed_price_retardo_3-rates_cont.feed_price_retardo_4\n",
    "rates_cont['var_rate_lag4']=rates_cont.feed_price_retardo_4-rates_cont.feed_price_retardo_5\n",
    "rates_cont['var_rate_lag5']=rates_cont.feed_price_retardo_5-rates_cont.feed_price_retardo_6\n",
    "rates_cont['var_rate_lag6']=rates_cont.feed_price_retardo_6-rates_cont.feed_price_retardo_7"
   ]
  },
  {
   "cell_type": "code",
   "execution_count": 50,
   "id": "48ea3cb4-7759-44ad-aeea-358c410db7a9",
   "metadata": {
    "tags": []
   },
   "outputs": [
    {
     "data": {
      "text/html": [
       "<div>\n",
       "<style scoped>\n",
       "    .dataframe tbody tr th:only-of-type {\n",
       "        vertical-align: middle;\n",
       "    }\n",
       "\n",
       "    .dataframe tbody tr th {\n",
       "        vertical-align: top;\n",
       "    }\n",
       "\n",
       "    .dataframe thead th {\n",
       "        text-align: right;\n",
       "    }\n",
       "</style>\n",
       "<table border=\"1\" class=\"dataframe\">\n",
       "  <thead>\n",
       "    <tr style=\"text-align: right;\">\n",
       "      <th></th>\n",
       "      <th>symbol</th>\n",
       "      <th>date</th>\n",
       "      <th>feed_price</th>\n",
       "      <th>feed_price_retardo_1</th>\n",
       "      <th>feed_price_retardo_2</th>\n",
       "      <th>feed_price_retardo_3</th>\n",
       "      <th>feed_price_retardo_4</th>\n",
       "      <th>feed_price_retardo_5</th>\n",
       "      <th>feed_price_retardo_6</th>\n",
       "      <th>feed_price_retardo_7</th>\n",
       "      <th>var_rate_lag1</th>\n",
       "      <th>var_rate_lag2</th>\n",
       "      <th>var_rate_lag3</th>\n",
       "      <th>var_rate_lag4</th>\n",
       "      <th>var_rate_lag5</th>\n",
       "      <th>var_rate_lag6</th>\n",
       "    </tr>\n",
       "  </thead>\n",
       "  <tbody>\n",
       "    <tr>\n",
       "      <th>0</th>\n",
       "      <td>USDBRL</td>\n",
       "      <td>2021-01-01</td>\n",
       "      <td>5.1934</td>\n",
       "      <td>NaN</td>\n",
       "      <td>NaN</td>\n",
       "      <td>NaN</td>\n",
       "      <td>NaN</td>\n",
       "      <td>NaN</td>\n",
       "      <td>NaN</td>\n",
       "      <td>NaN</td>\n",
       "      <td>NaN</td>\n",
       "      <td>NaN</td>\n",
       "      <td>NaN</td>\n",
       "      <td>NaN</td>\n",
       "      <td>NaN</td>\n",
       "      <td>NaN</td>\n",
       "    </tr>\n",
       "    <tr>\n",
       "      <th>1</th>\n",
       "      <td>USDBRL</td>\n",
       "      <td>2021-01-02</td>\n",
       "      <td>5.1934</td>\n",
       "      <td>5.1934</td>\n",
       "      <td>NaN</td>\n",
       "      <td>NaN</td>\n",
       "      <td>NaN</td>\n",
       "      <td>NaN</td>\n",
       "      <td>NaN</td>\n",
       "      <td>NaN</td>\n",
       "      <td>NaN</td>\n",
       "      <td>NaN</td>\n",
       "      <td>NaN</td>\n",
       "      <td>NaN</td>\n",
       "      <td>NaN</td>\n",
       "      <td>NaN</td>\n",
       "    </tr>\n",
       "    <tr>\n",
       "      <th>2</th>\n",
       "      <td>USDBRL</td>\n",
       "      <td>2021-01-03</td>\n",
       "      <td>5.1975</td>\n",
       "      <td>5.1934</td>\n",
       "      <td>5.1934</td>\n",
       "      <td>NaN</td>\n",
       "      <td>NaN</td>\n",
       "      <td>NaN</td>\n",
       "      <td>NaN</td>\n",
       "      <td>NaN</td>\n",
       "      <td>0.0000</td>\n",
       "      <td>NaN</td>\n",
       "      <td>NaN</td>\n",
       "      <td>NaN</td>\n",
       "      <td>NaN</td>\n",
       "      <td>NaN</td>\n",
       "    </tr>\n",
       "    <tr>\n",
       "      <th>3</th>\n",
       "      <td>USDBRL</td>\n",
       "      <td>2021-01-04</td>\n",
       "      <td>5.2972</td>\n",
       "      <td>5.1975</td>\n",
       "      <td>5.1934</td>\n",
       "      <td>5.1934</td>\n",
       "      <td>NaN</td>\n",
       "      <td>NaN</td>\n",
       "      <td>NaN</td>\n",
       "      <td>NaN</td>\n",
       "      <td>0.0041</td>\n",
       "      <td>0.0000</td>\n",
       "      <td>NaN</td>\n",
       "      <td>NaN</td>\n",
       "      <td>NaN</td>\n",
       "      <td>NaN</td>\n",
       "    </tr>\n",
       "    <tr>\n",
       "      <th>4</th>\n",
       "      <td>USDBRL</td>\n",
       "      <td>2021-01-05</td>\n",
       "      <td>5.2855</td>\n",
       "      <td>5.2972</td>\n",
       "      <td>5.1975</td>\n",
       "      <td>5.1934</td>\n",
       "      <td>5.1934</td>\n",
       "      <td>NaN</td>\n",
       "      <td>NaN</td>\n",
       "      <td>NaN</td>\n",
       "      <td>0.0997</td>\n",
       "      <td>0.0041</td>\n",
       "      <td>0.0</td>\n",
       "      <td>NaN</td>\n",
       "      <td>NaN</td>\n",
       "      <td>NaN</td>\n",
       "    </tr>\n",
       "  </tbody>\n",
       "</table>\n",
       "</div>"
      ],
      "text/plain": [
       "   symbol       date  feed_price  feed_price_retardo_1  feed_price_retardo_2  \\\n",
       "0  USDBRL 2021-01-01      5.1934                   NaN                   NaN   \n",
       "1  USDBRL 2021-01-02      5.1934                5.1934                   NaN   \n",
       "2  USDBRL 2021-01-03      5.1975                5.1934                5.1934   \n",
       "3  USDBRL 2021-01-04      5.2972                5.1975                5.1934   \n",
       "4  USDBRL 2021-01-05      5.2855                5.2972                5.1975   \n",
       "\n",
       "   feed_price_retardo_3  feed_price_retardo_4  feed_price_retardo_5  \\\n",
       "0                   NaN                   NaN                   NaN   \n",
       "1                   NaN                   NaN                   NaN   \n",
       "2                   NaN                   NaN                   NaN   \n",
       "3                5.1934                   NaN                   NaN   \n",
       "4                5.1934                5.1934                   NaN   \n",
       "\n",
       "   feed_price_retardo_6  feed_price_retardo_7  var_rate_lag1  var_rate_lag2  \\\n",
       "0                   NaN                   NaN            NaN            NaN   \n",
       "1                   NaN                   NaN            NaN            NaN   \n",
       "2                   NaN                   NaN         0.0000            NaN   \n",
       "3                   NaN                   NaN         0.0041         0.0000   \n",
       "4                   NaN                   NaN         0.0997         0.0041   \n",
       "\n",
       "   var_rate_lag3  var_rate_lag4  var_rate_lag5  var_rate_lag6  \n",
       "0            NaN            NaN            NaN            NaN  \n",
       "1            NaN            NaN            NaN            NaN  \n",
       "2            NaN            NaN            NaN            NaN  \n",
       "3            NaN            NaN            NaN            NaN  \n",
       "4            0.0            NaN            NaN            NaN  "
      ]
     },
     "execution_count": 50,
     "metadata": {},
     "output_type": "execute_result"
    }
   ],
   "source": [
    "rates_cont.head()"
   ]
  },
  {
   "cell_type": "code",
   "execution_count": 51,
   "id": "ef8afb2e-498e-4cad-ba20-b7bfbef4867b",
   "metadata": {
    "tags": []
   },
   "outputs": [
    {
     "data": {
      "text/plain": [
       "symbol                   0\n",
       "date                     0\n",
       "feed_price               0\n",
       "feed_price_retardo_1     5\n",
       "feed_price_retardo_2    10\n",
       "feed_price_retardo_3    15\n",
       "feed_price_retardo_4    20\n",
       "feed_price_retardo_5    25\n",
       "feed_price_retardo_6    30\n",
       "feed_price_retardo_7    35\n",
       "var_rate_lag1           10\n",
       "var_rate_lag2           15\n",
       "var_rate_lag3           20\n",
       "var_rate_lag4           25\n",
       "var_rate_lag5           30\n",
       "var_rate_lag6           35\n",
       "dtype: int64"
      ]
     },
     "execution_count": 51,
     "metadata": {},
     "output_type": "execute_result"
    }
   ],
   "source": [
    "# Filling NaN?\n",
    "rates_cont.isna().sum()\n",
    "#rates_cont=rates_cont.fillna(method='bfill')\n",
    "#rates_cont=rates_cont.fillna(method='ffill')"
   ]
  },
  {
   "cell_type": "code",
   "execution_count": 52,
   "id": "3fbae9a0-939d-4176-b714-4e373b044053",
   "metadata": {
    "tags": []
   },
   "outputs": [],
   "source": [
    "rates_dict = {\n",
    "    'USDBRL': 'BRAZIL', # Bz Real \n",
    "    'USDINR': 'INDIA', # Indian Rupia\n",
    "    'USDGTQ': 'GUATEMALA', #Quetzal \n",
    "    'USDMXN': 'MEXICO', #Mx Peso\n",
    "    'USDPHP': 'PHILIPPINES' # Ph Peso\n",
    "}"
   ]
  },
  {
   "cell_type": "code",
   "execution_count": 53,
   "id": "fcb2f57a-3ad7-4831-b888-59be7cd03839",
   "metadata": {
    "tags": []
   },
   "outputs": [],
   "source": [
    "rates_cont['country'] = rates_cont['symbol'].map(rates_dict)"
   ]
  },
  {
   "cell_type": "code",
   "execution_count": 54,
   "id": "de90f8c0-72ca-4445-aa48-8a042441f1e1",
   "metadata": {
    "tags": []
   },
   "outputs": [
    {
     "data": {
      "text/plain": [
       "array(['BRAZIL', 'GUATEMALA', 'INDIA', 'MEXICO', 'PHILIPPINES'],\n",
       "      dtype=object)"
      ]
     },
     "execution_count": 54,
     "metadata": {},
     "output_type": "execute_result"
    }
   ],
   "source": [
    "rates_cont['country'].unique()"
   ]
  },
  {
   "cell_type": "code",
   "execution_count": 55,
   "id": "b61ee468-b2c3-45f2-8375-c9aa61b1fd49",
   "metadata": {
    "tags": []
   },
   "outputs": [
    {
     "data": {
      "text/html": [
       "<div>\n",
       "<style scoped>\n",
       "    .dataframe tbody tr th:only-of-type {\n",
       "        vertical-align: middle;\n",
       "    }\n",
       "\n",
       "    .dataframe tbody tr th {\n",
       "        vertical-align: top;\n",
       "    }\n",
       "\n",
       "    .dataframe thead th {\n",
       "        text-align: right;\n",
       "    }\n",
       "</style>\n",
       "<table border=\"1\" class=\"dataframe\">\n",
       "  <thead>\n",
       "    <tr style=\"text-align: right;\">\n",
       "      <th></th>\n",
       "      <th>symbol</th>\n",
       "      <th>date</th>\n",
       "      <th>feed_price</th>\n",
       "      <th>feed_price_retardo_1</th>\n",
       "      <th>feed_price_retardo_2</th>\n",
       "      <th>feed_price_retardo_3</th>\n",
       "      <th>feed_price_retardo_4</th>\n",
       "      <th>feed_price_retardo_5</th>\n",
       "      <th>feed_price_retardo_6</th>\n",
       "      <th>feed_price_retardo_7</th>\n",
       "      <th>var_rate_lag1</th>\n",
       "      <th>var_rate_lag2</th>\n",
       "      <th>var_rate_lag3</th>\n",
       "      <th>var_rate_lag4</th>\n",
       "      <th>var_rate_lag5</th>\n",
       "      <th>var_rate_lag6</th>\n",
       "      <th>country</th>\n",
       "    </tr>\n",
       "  </thead>\n",
       "  <tbody>\n",
       "    <tr>\n",
       "      <th>0</th>\n",
       "      <td>USDBRL</td>\n",
       "      <td>2021-01-01</td>\n",
       "      <td>5.1934</td>\n",
       "      <td>NaN</td>\n",
       "      <td>NaN</td>\n",
       "      <td>NaN</td>\n",
       "      <td>NaN</td>\n",
       "      <td>NaN</td>\n",
       "      <td>NaN</td>\n",
       "      <td>NaN</td>\n",
       "      <td>NaN</td>\n",
       "      <td>NaN</td>\n",
       "      <td>NaN</td>\n",
       "      <td>NaN</td>\n",
       "      <td>NaN</td>\n",
       "      <td>NaN</td>\n",
       "      <td>BRAZIL</td>\n",
       "    </tr>\n",
       "    <tr>\n",
       "      <th>1</th>\n",
       "      <td>USDBRL</td>\n",
       "      <td>2021-01-02</td>\n",
       "      <td>5.1934</td>\n",
       "      <td>5.1934</td>\n",
       "      <td>NaN</td>\n",
       "      <td>NaN</td>\n",
       "      <td>NaN</td>\n",
       "      <td>NaN</td>\n",
       "      <td>NaN</td>\n",
       "      <td>NaN</td>\n",
       "      <td>NaN</td>\n",
       "      <td>NaN</td>\n",
       "      <td>NaN</td>\n",
       "      <td>NaN</td>\n",
       "      <td>NaN</td>\n",
       "      <td>NaN</td>\n",
       "      <td>BRAZIL</td>\n",
       "    </tr>\n",
       "    <tr>\n",
       "      <th>2</th>\n",
       "      <td>USDBRL</td>\n",
       "      <td>2021-01-03</td>\n",
       "      <td>5.1975</td>\n",
       "      <td>5.1934</td>\n",
       "      <td>5.1934</td>\n",
       "      <td>NaN</td>\n",
       "      <td>NaN</td>\n",
       "      <td>NaN</td>\n",
       "      <td>NaN</td>\n",
       "      <td>NaN</td>\n",
       "      <td>0.0000</td>\n",
       "      <td>NaN</td>\n",
       "      <td>NaN</td>\n",
       "      <td>NaN</td>\n",
       "      <td>NaN</td>\n",
       "      <td>NaN</td>\n",
       "      <td>BRAZIL</td>\n",
       "    </tr>\n",
       "    <tr>\n",
       "      <th>3</th>\n",
       "      <td>USDBRL</td>\n",
       "      <td>2021-01-04</td>\n",
       "      <td>5.2972</td>\n",
       "      <td>5.1975</td>\n",
       "      <td>5.1934</td>\n",
       "      <td>5.1934</td>\n",
       "      <td>NaN</td>\n",
       "      <td>NaN</td>\n",
       "      <td>NaN</td>\n",
       "      <td>NaN</td>\n",
       "      <td>0.0041</td>\n",
       "      <td>0.0000</td>\n",
       "      <td>NaN</td>\n",
       "      <td>NaN</td>\n",
       "      <td>NaN</td>\n",
       "      <td>NaN</td>\n",
       "      <td>BRAZIL</td>\n",
       "    </tr>\n",
       "    <tr>\n",
       "      <th>4</th>\n",
       "      <td>USDBRL</td>\n",
       "      <td>2021-01-05</td>\n",
       "      <td>5.2855</td>\n",
       "      <td>5.2972</td>\n",
       "      <td>5.1975</td>\n",
       "      <td>5.1934</td>\n",
       "      <td>5.1934</td>\n",
       "      <td>NaN</td>\n",
       "      <td>NaN</td>\n",
       "      <td>NaN</td>\n",
       "      <td>0.0997</td>\n",
       "      <td>0.0041</td>\n",
       "      <td>0.0000</td>\n",
       "      <td>NaN</td>\n",
       "      <td>NaN</td>\n",
       "      <td>NaN</td>\n",
       "      <td>BRAZIL</td>\n",
       "    </tr>\n",
       "    <tr>\n",
       "      <th>...</th>\n",
       "      <td>...</td>\n",
       "      <td>...</td>\n",
       "      <td>...</td>\n",
       "      <td>...</td>\n",
       "      <td>...</td>\n",
       "      <td>...</td>\n",
       "      <td>...</td>\n",
       "      <td>...</td>\n",
       "      <td>...</td>\n",
       "      <td>...</td>\n",
       "      <td>...</td>\n",
       "      <td>...</td>\n",
       "      <td>...</td>\n",
       "      <td>...</td>\n",
       "      <td>...</td>\n",
       "      <td>...</td>\n",
       "      <td>...</td>\n",
       "    </tr>\n",
       "    <tr>\n",
       "      <th>5110</th>\n",
       "      <td>USDPHP</td>\n",
       "      <td>2023-10-16</td>\n",
       "      <td>56.6998</td>\n",
       "      <td>56.8162</td>\n",
       "      <td>56.8095</td>\n",
       "      <td>56.8095</td>\n",
       "      <td>56.8105</td>\n",
       "      <td>56.6812</td>\n",
       "      <td>56.7680</td>\n",
       "      <td>56.9060</td>\n",
       "      <td>0.0067</td>\n",
       "      <td>0.0000</td>\n",
       "      <td>-0.0010</td>\n",
       "      <td>0.1293</td>\n",
       "      <td>-0.0868</td>\n",
       "      <td>-0.1380</td>\n",
       "      <td>PHILIPPINES</td>\n",
       "    </tr>\n",
       "    <tr>\n",
       "      <th>5111</th>\n",
       "      <td>USDPHP</td>\n",
       "      <td>2023-10-17</td>\n",
       "      <td>56.6960</td>\n",
       "      <td>56.6998</td>\n",
       "      <td>56.8162</td>\n",
       "      <td>56.8095</td>\n",
       "      <td>56.8095</td>\n",
       "      <td>56.8105</td>\n",
       "      <td>56.6812</td>\n",
       "      <td>56.7680</td>\n",
       "      <td>-0.1164</td>\n",
       "      <td>0.0067</td>\n",
       "      <td>0.0000</td>\n",
       "      <td>-0.0010</td>\n",
       "      <td>0.1293</td>\n",
       "      <td>-0.0868</td>\n",
       "      <td>PHILIPPINES</td>\n",
       "    </tr>\n",
       "    <tr>\n",
       "      <th>5112</th>\n",
       "      <td>USDPHP</td>\n",
       "      <td>2023-10-18</td>\n",
       "      <td>56.8562</td>\n",
       "      <td>56.6960</td>\n",
       "      <td>56.6998</td>\n",
       "      <td>56.8162</td>\n",
       "      <td>56.8095</td>\n",
       "      <td>56.8095</td>\n",
       "      <td>56.8105</td>\n",
       "      <td>56.6812</td>\n",
       "      <td>-0.0038</td>\n",
       "      <td>-0.1164</td>\n",
       "      <td>0.0067</td>\n",
       "      <td>0.0000</td>\n",
       "      <td>-0.0010</td>\n",
       "      <td>0.1293</td>\n",
       "      <td>PHILIPPINES</td>\n",
       "    </tr>\n",
       "    <tr>\n",
       "      <th>5113</th>\n",
       "      <td>USDPHP</td>\n",
       "      <td>2023-10-19</td>\n",
       "      <td>56.7388</td>\n",
       "      <td>56.8562</td>\n",
       "      <td>56.6960</td>\n",
       "      <td>56.6998</td>\n",
       "      <td>56.8162</td>\n",
       "      <td>56.8095</td>\n",
       "      <td>56.8095</td>\n",
       "      <td>56.8105</td>\n",
       "      <td>0.1602</td>\n",
       "      <td>-0.0038</td>\n",
       "      <td>-0.1164</td>\n",
       "      <td>0.0067</td>\n",
       "      <td>0.0000</td>\n",
       "      <td>-0.0010</td>\n",
       "      <td>PHILIPPINES</td>\n",
       "    </tr>\n",
       "    <tr>\n",
       "      <th>5114</th>\n",
       "      <td>USDPHP</td>\n",
       "      <td>2023-10-20</td>\n",
       "      <td>56.7010</td>\n",
       "      <td>56.7388</td>\n",
       "      <td>56.8562</td>\n",
       "      <td>56.6960</td>\n",
       "      <td>56.6998</td>\n",
       "      <td>56.8162</td>\n",
       "      <td>56.8095</td>\n",
       "      <td>56.8095</td>\n",
       "      <td>-0.1174</td>\n",
       "      <td>0.1602</td>\n",
       "      <td>-0.0038</td>\n",
       "      <td>-0.1164</td>\n",
       "      <td>0.0067</td>\n",
       "      <td>0.0000</td>\n",
       "      <td>PHILIPPINES</td>\n",
       "    </tr>\n",
       "  </tbody>\n",
       "</table>\n",
       "<p>5115 rows × 17 columns</p>\n",
       "</div>"
      ],
      "text/plain": [
       "      symbol       date  feed_price  feed_price_retardo_1  \\\n",
       "0     USDBRL 2021-01-01      5.1934                   NaN   \n",
       "1     USDBRL 2021-01-02      5.1934                5.1934   \n",
       "2     USDBRL 2021-01-03      5.1975                5.1934   \n",
       "3     USDBRL 2021-01-04      5.2972                5.1975   \n",
       "4     USDBRL 2021-01-05      5.2855                5.2972   \n",
       "...      ...        ...         ...                   ...   \n",
       "5110  USDPHP 2023-10-16     56.6998               56.8162   \n",
       "5111  USDPHP 2023-10-17     56.6960               56.6998   \n",
       "5112  USDPHP 2023-10-18     56.8562               56.6960   \n",
       "5113  USDPHP 2023-10-19     56.7388               56.8562   \n",
       "5114  USDPHP 2023-10-20     56.7010               56.7388   \n",
       "\n",
       "      feed_price_retardo_2  feed_price_retardo_3  feed_price_retardo_4  \\\n",
       "0                      NaN                   NaN                   NaN   \n",
       "1                      NaN                   NaN                   NaN   \n",
       "2                   5.1934                   NaN                   NaN   \n",
       "3                   5.1934                5.1934                   NaN   \n",
       "4                   5.1975                5.1934                5.1934   \n",
       "...                    ...                   ...                   ...   \n",
       "5110               56.8095               56.8095               56.8105   \n",
       "5111               56.8162               56.8095               56.8095   \n",
       "5112               56.6998               56.8162               56.8095   \n",
       "5113               56.6960               56.6998               56.8162   \n",
       "5114               56.8562               56.6960               56.6998   \n",
       "\n",
       "      feed_price_retardo_5  feed_price_retardo_6  feed_price_retardo_7  \\\n",
       "0                      NaN                   NaN                   NaN   \n",
       "1                      NaN                   NaN                   NaN   \n",
       "2                      NaN                   NaN                   NaN   \n",
       "3                      NaN                   NaN                   NaN   \n",
       "4                      NaN                   NaN                   NaN   \n",
       "...                    ...                   ...                   ...   \n",
       "5110               56.6812               56.7680               56.9060   \n",
       "5111               56.8105               56.6812               56.7680   \n",
       "5112               56.8095               56.8105               56.6812   \n",
       "5113               56.8095               56.8095               56.8105   \n",
       "5114               56.8162               56.8095               56.8095   \n",
       "\n",
       "      var_rate_lag1  var_rate_lag2  var_rate_lag3  var_rate_lag4  \\\n",
       "0               NaN            NaN            NaN            NaN   \n",
       "1               NaN            NaN            NaN            NaN   \n",
       "2            0.0000            NaN            NaN            NaN   \n",
       "3            0.0041         0.0000            NaN            NaN   \n",
       "4            0.0997         0.0041         0.0000            NaN   \n",
       "...             ...            ...            ...            ...   \n",
       "5110         0.0067         0.0000        -0.0010         0.1293   \n",
       "5111        -0.1164         0.0067         0.0000        -0.0010   \n",
       "5112        -0.0038        -0.1164         0.0067         0.0000   \n",
       "5113         0.1602        -0.0038        -0.1164         0.0067   \n",
       "5114        -0.1174         0.1602        -0.0038        -0.1164   \n",
       "\n",
       "      var_rate_lag5  var_rate_lag6      country  \n",
       "0               NaN            NaN       BRAZIL  \n",
       "1               NaN            NaN       BRAZIL  \n",
       "2               NaN            NaN       BRAZIL  \n",
       "3               NaN            NaN       BRAZIL  \n",
       "4               NaN            NaN       BRAZIL  \n",
       "...             ...            ...          ...  \n",
       "5110        -0.0868        -0.1380  PHILIPPINES  \n",
       "5111         0.1293        -0.0868  PHILIPPINES  \n",
       "5112        -0.0010         0.1293  PHILIPPINES  \n",
       "5113         0.0000        -0.0010  PHILIPPINES  \n",
       "5114         0.0067         0.0000  PHILIPPINES  \n",
       "\n",
       "[5115 rows x 17 columns]"
      ]
     },
     "execution_count": 55,
     "metadata": {},
     "output_type": "execute_result"
    }
   ],
   "source": [
    "rates_cont"
   ]
  },
  {
   "cell_type": "code",
   "execution_count": 56,
   "id": "e40d59a9-80c0-4a62-be88-48530de8afe9",
   "metadata": {
    "tags": []
   },
   "outputs": [
    {
     "data": {
      "text/html": [
       "<div>\n",
       "<style scoped>\n",
       "    .dataframe tbody tr th:only-of-type {\n",
       "        vertical-align: middle;\n",
       "    }\n",
       "\n",
       "    .dataframe tbody tr th {\n",
       "        vertical-align: top;\n",
       "    }\n",
       "\n",
       "    .dataframe thead th {\n",
       "        text-align: right;\n",
       "    }\n",
       "</style>\n",
       "<table border=\"1\" class=\"dataframe\">\n",
       "  <thead>\n",
       "    <tr style=\"text-align: right;\">\n",
       "      <th></th>\n",
       "      <th>payer</th>\n",
       "      <th>country</th>\n",
       "      <th>date</th>\n",
       "      <th>tx</th>\n",
       "      <th>amount</th>\n",
       "      <th>payer_country</th>\n",
       "    </tr>\n",
       "  </thead>\n",
       "  <tbody>\n",
       "    <tr>\n",
       "      <th>0</th>\n",
       "      <td>TRANSFERTO - THUNES</td>\n",
       "      <td>BELGIUM</td>\n",
       "      <td>2023-04-03</td>\n",
       "      <td>1</td>\n",
       "      <td>55.55</td>\n",
       "      <td>TRANSFERTO - THUNES_BELGIUM</td>\n",
       "    </tr>\n",
       "    <tr>\n",
       "      <th>1</th>\n",
       "      <td>ARGENPER</td>\n",
       "      <td>PERU</td>\n",
       "      <td>2023-04-03</td>\n",
       "      <td>26</td>\n",
       "      <td>4203.70</td>\n",
       "      <td>ARGENPER_PERU</td>\n",
       "    </tr>\n",
       "    <tr>\n",
       "      <th>2</th>\n",
       "      <td>NAFA</td>\n",
       "      <td>GAMBIA, THE</td>\n",
       "      <td>2023-04-03</td>\n",
       "      <td>8</td>\n",
       "      <td>1086.50</td>\n",
       "      <td>NAFA_GAMBIA, THE</td>\n",
       "    </tr>\n",
       "    <tr>\n",
       "      <th>3</th>\n",
       "      <td>WALDOS (APPRIZA)</td>\n",
       "      <td>MEXICO</td>\n",
       "      <td>2023-08-31</td>\n",
       "      <td>14</td>\n",
       "      <td>4797.50</td>\n",
       "      <td>WALDOS (APPRIZA)_MEXICO</td>\n",
       "    </tr>\n",
       "    <tr>\n",
       "      <th>4</th>\n",
       "      <td>BANPAIS (RED CHAPINA)</td>\n",
       "      <td>HONDURAS</td>\n",
       "      <td>2021-05-06</td>\n",
       "      <td>43</td>\n",
       "      <td>17493.00</td>\n",
       "      <td>BANPAIS (RED CHAPINA)_HONDURAS</td>\n",
       "    </tr>\n",
       "    <tr>\n",
       "      <th>...</th>\n",
       "      <td>...</td>\n",
       "      <td>...</td>\n",
       "      <td>...</td>\n",
       "      <td>...</td>\n",
       "      <td>...</td>\n",
       "      <td>...</td>\n",
       "    </tr>\n",
       "    <tr>\n",
       "      <th>101965</th>\n",
       "      <td>BANCO INDUSTRIAL</td>\n",
       "      <td>GUATEMALA</td>\n",
       "      <td>2021-01-02</td>\n",
       "      <td>2005</td>\n",
       "      <td>981210.84</td>\n",
       "      <td>BANCO INDUSTRIAL_GUATEMALA</td>\n",
       "    </tr>\n",
       "    <tr>\n",
       "      <th>101966</th>\n",
       "      <td>BANCOLOMBIA</td>\n",
       "      <td>COLOMBIA</td>\n",
       "      <td>2021-11-16</td>\n",
       "      <td>476</td>\n",
       "      <td>178977.17</td>\n",
       "      <td>BANCOLOMBIA_COLOMBIA</td>\n",
       "    </tr>\n",
       "    <tr>\n",
       "      <th>101967</th>\n",
       "      <td>BANCO DE CREDITO DEL PERU - BCP (UT)</td>\n",
       "      <td>PERU</td>\n",
       "      <td>2023-01-23</td>\n",
       "      <td>199</td>\n",
       "      <td>66060.00</td>\n",
       "      <td>BANCO DE CREDITO DEL PERU - BCP (UT)_PERU</td>\n",
       "    </tr>\n",
       "    <tr>\n",
       "      <th>101968</th>\n",
       "      <td>CHEDRAUI (APPRIZA)</td>\n",
       "      <td>MEXICO</td>\n",
       "      <td>2022-08-12</td>\n",
       "      <td>23</td>\n",
       "      <td>5437.21</td>\n",
       "      <td>CHEDRAUI (APPRIZA)_MEXICO</td>\n",
       "    </tr>\n",
       "    <tr>\n",
       "      <th>101969</th>\n",
       "      <td>BANCO ATLANTIDA</td>\n",
       "      <td>HONDURAS</td>\n",
       "      <td>2022-10-31</td>\n",
       "      <td>794</td>\n",
       "      <td>271171.88</td>\n",
       "      <td>BANCO ATLANTIDA_HONDURAS</td>\n",
       "    </tr>\n",
       "  </tbody>\n",
       "</table>\n",
       "<p>87708 rows × 6 columns</p>\n",
       "</div>"
      ],
      "text/plain": [
       "                                       payer      country        date    tx  \\\n",
       "0                        TRANSFERTO - THUNES      BELGIUM  2023-04-03     1   \n",
       "1                                   ARGENPER         PERU  2023-04-03    26   \n",
       "2                                       NAFA  GAMBIA, THE  2023-04-03     8   \n",
       "3                           WALDOS (APPRIZA)       MEXICO  2023-08-31    14   \n",
       "4                      BANPAIS (RED CHAPINA)     HONDURAS  2021-05-06    43   \n",
       "...                                      ...          ...         ...   ...   \n",
       "101965                      BANCO INDUSTRIAL    GUATEMALA  2021-01-02  2005   \n",
       "101966                           BANCOLOMBIA     COLOMBIA  2021-11-16   476   \n",
       "101967  BANCO DE CREDITO DEL PERU - BCP (UT)         PERU  2023-01-23   199   \n",
       "101968                    CHEDRAUI (APPRIZA)       MEXICO  2022-08-12    23   \n",
       "101969                       BANCO ATLANTIDA     HONDURAS  2022-10-31   794   \n",
       "\n",
       "           amount                              payer_country  \n",
       "0           55.55                TRANSFERTO - THUNES_BELGIUM  \n",
       "1         4203.70                              ARGENPER_PERU  \n",
       "2         1086.50                           NAFA_GAMBIA, THE  \n",
       "3         4797.50                    WALDOS (APPRIZA)_MEXICO  \n",
       "4        17493.00             BANPAIS (RED CHAPINA)_HONDURAS  \n",
       "...           ...                                        ...  \n",
       "101965  981210.84                 BANCO INDUSTRIAL_GUATEMALA  \n",
       "101966  178977.17                       BANCOLOMBIA_COLOMBIA  \n",
       "101967   66060.00  BANCO DE CREDITO DEL PERU - BCP (UT)_PERU  \n",
       "101968    5437.21                  CHEDRAUI (APPRIZA)_MEXICO  \n",
       "101969  271171.88                   BANCO ATLANTIDA_HONDURAS  \n",
       "\n",
       "[87708 rows x 6 columns]"
      ]
     },
     "execution_count": 56,
     "metadata": {},
     "output_type": "execute_result"
    }
   ],
   "source": [
    "df_filtered"
   ]
  },
  {
   "cell_type": "code",
   "execution_count": 57,
   "id": "49ae8e98-e516-4e20-b686-abd09d96f9d6",
   "metadata": {
    "tags": []
   },
   "outputs": [],
   "source": [
    "#Date format\n",
    "rates_cont['date'] = rates_cont['date'].dt.date"
   ]
  },
  {
   "cell_type": "code",
   "execution_count": 58,
   "id": "326edea7-d61d-4b5e-97ac-4c6bf44a9b96",
   "metadata": {
    "tags": []
   },
   "outputs": [],
   "source": [
    "# Combined df  containing only the rows that match both the 'date' and 'country' columns in both df (df_filtered and rates).\n",
    "# WARNING!!! Includes only common columns [date, country] > Check rates_dict\n",
    "df1 = pd.merge(df_filtered, rates_cont, on=['date', 'country'], how='left')"
   ]
  },
  {
   "cell_type": "code",
   "execution_count": 59,
   "id": "9030105f-9b67-4a89-a5b1-f84c8cc60b3e",
   "metadata": {
    "tags": []
   },
   "outputs": [],
   "source": [
    "df1['date'] = pd.to_datetime(df1['date']).dt.date"
   ]
  },
  {
   "cell_type": "code",
   "execution_count": 60,
   "id": "c776a79b-ad91-42a5-a24e-a75601c6df83",
   "metadata": {
    "tags": []
   },
   "outputs": [
    {
     "data": {
      "text/plain": [
       "24309892564.970997"
      ]
     },
     "execution_count": 60,
     "metadata": {},
     "output_type": "execute_result"
    }
   ],
   "source": [
    "df1['amount'].sum()"
   ]
  },
  {
   "cell_type": "code",
   "execution_count": 61,
   "id": "6f67ef0d-3f71-4a13-bbe4-a239438b0e0a",
   "metadata": {
    "tags": []
   },
   "outputs": [
    {
     "data": {
      "text/html": [
       "<div>\n",
       "<style scoped>\n",
       "    .dataframe tbody tr th:only-of-type {\n",
       "        vertical-align: middle;\n",
       "    }\n",
       "\n",
       "    .dataframe tbody tr th {\n",
       "        vertical-align: top;\n",
       "    }\n",
       "\n",
       "    .dataframe thead th {\n",
       "        text-align: right;\n",
       "    }\n",
       "</style>\n",
       "<table border=\"1\" class=\"dataframe\">\n",
       "  <thead>\n",
       "    <tr style=\"text-align: right;\">\n",
       "      <th></th>\n",
       "      <th>payer</th>\n",
       "      <th>country</th>\n",
       "      <th>date</th>\n",
       "      <th>tx</th>\n",
       "      <th>amount</th>\n",
       "      <th>payer_country</th>\n",
       "      <th>symbol</th>\n",
       "      <th>feed_price</th>\n",
       "      <th>feed_price_retardo_1</th>\n",
       "      <th>feed_price_retardo_2</th>\n",
       "      <th>...</th>\n",
       "      <th>feed_price_retardo_4</th>\n",
       "      <th>feed_price_retardo_5</th>\n",
       "      <th>feed_price_retardo_6</th>\n",
       "      <th>feed_price_retardo_7</th>\n",
       "      <th>var_rate_lag1</th>\n",
       "      <th>var_rate_lag2</th>\n",
       "      <th>var_rate_lag3</th>\n",
       "      <th>var_rate_lag4</th>\n",
       "      <th>var_rate_lag5</th>\n",
       "      <th>var_rate_lag6</th>\n",
       "    </tr>\n",
       "  </thead>\n",
       "  <tbody>\n",
       "    <tr>\n",
       "      <th>0</th>\n",
       "      <td>TRANSFERTO - THUNES</td>\n",
       "      <td>BELGIUM</td>\n",
       "      <td>2023-04-03</td>\n",
       "      <td>1</td>\n",
       "      <td>55.55</td>\n",
       "      <td>TRANSFERTO - THUNES_BELGIUM</td>\n",
       "      <td>NaN</td>\n",
       "      <td>NaN</td>\n",
       "      <td>NaN</td>\n",
       "      <td>NaN</td>\n",
       "      <td>...</td>\n",
       "      <td>NaN</td>\n",
       "      <td>NaN</td>\n",
       "      <td>NaN</td>\n",
       "      <td>NaN</td>\n",
       "      <td>NaN</td>\n",
       "      <td>NaN</td>\n",
       "      <td>NaN</td>\n",
       "      <td>NaN</td>\n",
       "      <td>NaN</td>\n",
       "      <td>NaN</td>\n",
       "    </tr>\n",
       "    <tr>\n",
       "      <th>1</th>\n",
       "      <td>ARGENPER</td>\n",
       "      <td>PERU</td>\n",
       "      <td>2023-04-03</td>\n",
       "      <td>26</td>\n",
       "      <td>4203.70</td>\n",
       "      <td>ARGENPER_PERU</td>\n",
       "      <td>NaN</td>\n",
       "      <td>NaN</td>\n",
       "      <td>NaN</td>\n",
       "      <td>NaN</td>\n",
       "      <td>...</td>\n",
       "      <td>NaN</td>\n",
       "      <td>NaN</td>\n",
       "      <td>NaN</td>\n",
       "      <td>NaN</td>\n",
       "      <td>NaN</td>\n",
       "      <td>NaN</td>\n",
       "      <td>NaN</td>\n",
       "      <td>NaN</td>\n",
       "      <td>NaN</td>\n",
       "      <td>NaN</td>\n",
       "    </tr>\n",
       "    <tr>\n",
       "      <th>2</th>\n",
       "      <td>NAFA</td>\n",
       "      <td>GAMBIA, THE</td>\n",
       "      <td>2023-04-03</td>\n",
       "      <td>8</td>\n",
       "      <td>1086.50</td>\n",
       "      <td>NAFA_GAMBIA, THE</td>\n",
       "      <td>NaN</td>\n",
       "      <td>NaN</td>\n",
       "      <td>NaN</td>\n",
       "      <td>NaN</td>\n",
       "      <td>...</td>\n",
       "      <td>NaN</td>\n",
       "      <td>NaN</td>\n",
       "      <td>NaN</td>\n",
       "      <td>NaN</td>\n",
       "      <td>NaN</td>\n",
       "      <td>NaN</td>\n",
       "      <td>NaN</td>\n",
       "      <td>NaN</td>\n",
       "      <td>NaN</td>\n",
       "      <td>NaN</td>\n",
       "    </tr>\n",
       "    <tr>\n",
       "      <th>3</th>\n",
       "      <td>WALDOS (APPRIZA)</td>\n",
       "      <td>MEXICO</td>\n",
       "      <td>2023-08-31</td>\n",
       "      <td>14</td>\n",
       "      <td>4797.50</td>\n",
       "      <td>WALDOS (APPRIZA)_MEXICO</td>\n",
       "      <td>USDMXN</td>\n",
       "      <td>17.0075</td>\n",
       "      <td>16.7580</td>\n",
       "      <td>16.7970</td>\n",
       "      <td>...</td>\n",
       "      <td>16.7283</td>\n",
       "      <td>16.7544</td>\n",
       "      <td>16.7544</td>\n",
       "      <td>16.8330</td>\n",
       "      <td>-0.0390</td>\n",
       "      <td>0.0169</td>\n",
       "      <td>0.0518</td>\n",
       "      <td>-0.0261</td>\n",
       "      <td>0.0000</td>\n",
       "      <td>-0.0786</td>\n",
       "    </tr>\n",
       "    <tr>\n",
       "      <th>4</th>\n",
       "      <td>BANPAIS (RED CHAPINA)</td>\n",
       "      <td>HONDURAS</td>\n",
       "      <td>2021-05-06</td>\n",
       "      <td>43</td>\n",
       "      <td>17493.00</td>\n",
       "      <td>BANPAIS (RED CHAPINA)_HONDURAS</td>\n",
       "      <td>NaN</td>\n",
       "      <td>NaN</td>\n",
       "      <td>NaN</td>\n",
       "      <td>NaN</td>\n",
       "      <td>...</td>\n",
       "      <td>NaN</td>\n",
       "      <td>NaN</td>\n",
       "      <td>NaN</td>\n",
       "      <td>NaN</td>\n",
       "      <td>NaN</td>\n",
       "      <td>NaN</td>\n",
       "      <td>NaN</td>\n",
       "      <td>NaN</td>\n",
       "      <td>NaN</td>\n",
       "      <td>NaN</td>\n",
       "    </tr>\n",
       "    <tr>\n",
       "      <th>...</th>\n",
       "      <td>...</td>\n",
       "      <td>...</td>\n",
       "      <td>...</td>\n",
       "      <td>...</td>\n",
       "      <td>...</td>\n",
       "      <td>...</td>\n",
       "      <td>...</td>\n",
       "      <td>...</td>\n",
       "      <td>...</td>\n",
       "      <td>...</td>\n",
       "      <td>...</td>\n",
       "      <td>...</td>\n",
       "      <td>...</td>\n",
       "      <td>...</td>\n",
       "      <td>...</td>\n",
       "      <td>...</td>\n",
       "      <td>...</td>\n",
       "      <td>...</td>\n",
       "      <td>...</td>\n",
       "      <td>...</td>\n",
       "      <td>...</td>\n",
       "    </tr>\n",
       "    <tr>\n",
       "      <th>87703</th>\n",
       "      <td>BANCO INDUSTRIAL</td>\n",
       "      <td>GUATEMALA</td>\n",
       "      <td>2021-01-02</td>\n",
       "      <td>2005</td>\n",
       "      <td>981210.84</td>\n",
       "      <td>BANCO INDUSTRIAL_GUATEMALA</td>\n",
       "      <td>USDGTQ</td>\n",
       "      <td>7.8335</td>\n",
       "      <td>7.8335</td>\n",
       "      <td>NaN</td>\n",
       "      <td>...</td>\n",
       "      <td>NaN</td>\n",
       "      <td>NaN</td>\n",
       "      <td>NaN</td>\n",
       "      <td>NaN</td>\n",
       "      <td>NaN</td>\n",
       "      <td>NaN</td>\n",
       "      <td>NaN</td>\n",
       "      <td>NaN</td>\n",
       "      <td>NaN</td>\n",
       "      <td>NaN</td>\n",
       "    </tr>\n",
       "    <tr>\n",
       "      <th>87704</th>\n",
       "      <td>BANCOLOMBIA</td>\n",
       "      <td>COLOMBIA</td>\n",
       "      <td>2021-11-16</td>\n",
       "      <td>476</td>\n",
       "      <td>178977.17</td>\n",
       "      <td>BANCOLOMBIA_COLOMBIA</td>\n",
       "      <td>NaN</td>\n",
       "      <td>NaN</td>\n",
       "      <td>NaN</td>\n",
       "      <td>NaN</td>\n",
       "      <td>...</td>\n",
       "      <td>NaN</td>\n",
       "      <td>NaN</td>\n",
       "      <td>NaN</td>\n",
       "      <td>NaN</td>\n",
       "      <td>NaN</td>\n",
       "      <td>NaN</td>\n",
       "      <td>NaN</td>\n",
       "      <td>NaN</td>\n",
       "      <td>NaN</td>\n",
       "      <td>NaN</td>\n",
       "    </tr>\n",
       "    <tr>\n",
       "      <th>87705</th>\n",
       "      <td>BANCO DE CREDITO DEL PERU - BCP (UT)</td>\n",
       "      <td>PERU</td>\n",
       "      <td>2023-01-23</td>\n",
       "      <td>199</td>\n",
       "      <td>66060.00</td>\n",
       "      <td>BANCO DE CREDITO DEL PERU - BCP (UT)_PERU</td>\n",
       "      <td>NaN</td>\n",
       "      <td>NaN</td>\n",
       "      <td>NaN</td>\n",
       "      <td>NaN</td>\n",
       "      <td>...</td>\n",
       "      <td>NaN</td>\n",
       "      <td>NaN</td>\n",
       "      <td>NaN</td>\n",
       "      <td>NaN</td>\n",
       "      <td>NaN</td>\n",
       "      <td>NaN</td>\n",
       "      <td>NaN</td>\n",
       "      <td>NaN</td>\n",
       "      <td>NaN</td>\n",
       "      <td>NaN</td>\n",
       "    </tr>\n",
       "    <tr>\n",
       "      <th>87706</th>\n",
       "      <td>CHEDRAUI (APPRIZA)</td>\n",
       "      <td>MEXICO</td>\n",
       "      <td>2022-08-12</td>\n",
       "      <td>23</td>\n",
       "      <td>5437.21</td>\n",
       "      <td>CHEDRAUI (APPRIZA)_MEXICO</td>\n",
       "      <td>USDMXN</td>\n",
       "      <td>19.8282</td>\n",
       "      <td>19.9453</td>\n",
       "      <td>20.0311</td>\n",
       "      <td>...</td>\n",
       "      <td>20.2496</td>\n",
       "      <td>20.4145</td>\n",
       "      <td>20.4330</td>\n",
       "      <td>20.4299</td>\n",
       "      <td>-0.0858</td>\n",
       "      <td>-0.2215</td>\n",
       "      <td>0.0030</td>\n",
       "      <td>-0.1649</td>\n",
       "      <td>-0.0185</td>\n",
       "      <td>0.0031</td>\n",
       "    </tr>\n",
       "    <tr>\n",
       "      <th>87707</th>\n",
       "      <td>BANCO ATLANTIDA</td>\n",
       "      <td>HONDURAS</td>\n",
       "      <td>2022-10-31</td>\n",
       "      <td>794</td>\n",
       "      <td>271171.88</td>\n",
       "      <td>BANCO ATLANTIDA_HONDURAS</td>\n",
       "      <td>NaN</td>\n",
       "      <td>NaN</td>\n",
       "      <td>NaN</td>\n",
       "      <td>NaN</td>\n",
       "      <td>...</td>\n",
       "      <td>NaN</td>\n",
       "      <td>NaN</td>\n",
       "      <td>NaN</td>\n",
       "      <td>NaN</td>\n",
       "      <td>NaN</td>\n",
       "      <td>NaN</td>\n",
       "      <td>NaN</td>\n",
       "      <td>NaN</td>\n",
       "      <td>NaN</td>\n",
       "      <td>NaN</td>\n",
       "    </tr>\n",
       "  </tbody>\n",
       "</table>\n",
       "<p>87708 rows × 21 columns</p>\n",
       "</div>"
      ],
      "text/plain": [
       "                                      payer      country        date    tx  \\\n",
       "0                       TRANSFERTO - THUNES      BELGIUM  2023-04-03     1   \n",
       "1                                  ARGENPER         PERU  2023-04-03    26   \n",
       "2                                      NAFA  GAMBIA, THE  2023-04-03     8   \n",
       "3                          WALDOS (APPRIZA)       MEXICO  2023-08-31    14   \n",
       "4                     BANPAIS (RED CHAPINA)     HONDURAS  2021-05-06    43   \n",
       "...                                     ...          ...         ...   ...   \n",
       "87703                      BANCO INDUSTRIAL    GUATEMALA  2021-01-02  2005   \n",
       "87704                           BANCOLOMBIA     COLOMBIA  2021-11-16   476   \n",
       "87705  BANCO DE CREDITO DEL PERU - BCP (UT)         PERU  2023-01-23   199   \n",
       "87706                    CHEDRAUI (APPRIZA)       MEXICO  2022-08-12    23   \n",
       "87707                       BANCO ATLANTIDA     HONDURAS  2022-10-31   794   \n",
       "\n",
       "          amount                              payer_country  symbol  \\\n",
       "0          55.55                TRANSFERTO - THUNES_BELGIUM     NaN   \n",
       "1        4203.70                              ARGENPER_PERU     NaN   \n",
       "2        1086.50                           NAFA_GAMBIA, THE     NaN   \n",
       "3        4797.50                    WALDOS (APPRIZA)_MEXICO  USDMXN   \n",
       "4       17493.00             BANPAIS (RED CHAPINA)_HONDURAS     NaN   \n",
       "...          ...                                        ...     ...   \n",
       "87703  981210.84                 BANCO INDUSTRIAL_GUATEMALA  USDGTQ   \n",
       "87704  178977.17                       BANCOLOMBIA_COLOMBIA     NaN   \n",
       "87705   66060.00  BANCO DE CREDITO DEL PERU - BCP (UT)_PERU     NaN   \n",
       "87706    5437.21                  CHEDRAUI (APPRIZA)_MEXICO  USDMXN   \n",
       "87707  271171.88                   BANCO ATLANTIDA_HONDURAS     NaN   \n",
       "\n",
       "       feed_price  feed_price_retardo_1  feed_price_retardo_2  ...  \\\n",
       "0             NaN                   NaN                   NaN  ...   \n",
       "1             NaN                   NaN                   NaN  ...   \n",
       "2             NaN                   NaN                   NaN  ...   \n",
       "3         17.0075               16.7580               16.7970  ...   \n",
       "4             NaN                   NaN                   NaN  ...   \n",
       "...           ...                   ...                   ...  ...   \n",
       "87703      7.8335                7.8335                   NaN  ...   \n",
       "87704         NaN                   NaN                   NaN  ...   \n",
       "87705         NaN                   NaN                   NaN  ...   \n",
       "87706     19.8282               19.9453               20.0311  ...   \n",
       "87707         NaN                   NaN                   NaN  ...   \n",
       "\n",
       "       feed_price_retardo_4  feed_price_retardo_5  feed_price_retardo_6  \\\n",
       "0                       NaN                   NaN                   NaN   \n",
       "1                       NaN                   NaN                   NaN   \n",
       "2                       NaN                   NaN                   NaN   \n",
       "3                   16.7283               16.7544               16.7544   \n",
       "4                       NaN                   NaN                   NaN   \n",
       "...                     ...                   ...                   ...   \n",
       "87703                   NaN                   NaN                   NaN   \n",
       "87704                   NaN                   NaN                   NaN   \n",
       "87705                   NaN                   NaN                   NaN   \n",
       "87706               20.2496               20.4145               20.4330   \n",
       "87707                   NaN                   NaN                   NaN   \n",
       "\n",
       "       feed_price_retardo_7  var_rate_lag1  var_rate_lag2  var_rate_lag3  \\\n",
       "0                       NaN            NaN            NaN            NaN   \n",
       "1                       NaN            NaN            NaN            NaN   \n",
       "2                       NaN            NaN            NaN            NaN   \n",
       "3                   16.8330        -0.0390         0.0169         0.0518   \n",
       "4                       NaN            NaN            NaN            NaN   \n",
       "...                     ...            ...            ...            ...   \n",
       "87703                   NaN            NaN            NaN            NaN   \n",
       "87704                   NaN            NaN            NaN            NaN   \n",
       "87705                   NaN            NaN            NaN            NaN   \n",
       "87706               20.4299        -0.0858        -0.2215         0.0030   \n",
       "87707                   NaN            NaN            NaN            NaN   \n",
       "\n",
       "       var_rate_lag4  var_rate_lag5  var_rate_lag6  \n",
       "0                NaN            NaN            NaN  \n",
       "1                NaN            NaN            NaN  \n",
       "2                NaN            NaN            NaN  \n",
       "3            -0.0261         0.0000        -0.0786  \n",
       "4                NaN            NaN            NaN  \n",
       "...              ...            ...            ...  \n",
       "87703            NaN            NaN            NaN  \n",
       "87704            NaN            NaN            NaN  \n",
       "87705            NaN            NaN            NaN  \n",
       "87706        -0.1649        -0.0185         0.0031  \n",
       "87707            NaN            NaN            NaN  \n",
       "\n",
       "[87708 rows x 21 columns]"
      ]
     },
     "execution_count": 61,
     "metadata": {},
     "output_type": "execute_result"
    }
   ],
   "source": [
    "df1"
   ]
  },
  {
   "cell_type": "code",
   "execution_count": null,
   "id": "d7eff0d0-b2fc-484f-82f1-3586d5b68777",
   "metadata": {},
   "outputs": [],
   "source": []
  },
  {
   "cell_type": "code",
   "execution_count": 62,
   "id": "714487ed-0d1d-4fc9-9615-f15d6112c0be",
   "metadata": {},
   "outputs": [],
   "source": [
    "### EFFECT OF CANCELED TRANSACTIONS ###"
   ]
  },
  {
   "cell_type": "code",
   "execution_count": 63,
   "id": "b051a492-6aa8-4ea7-b316-2590f7653c3a",
   "metadata": {
    "tags": []
   },
   "outputs": [
    {
     "name": "stderr",
     "output_type": "stream",
     "text": [
      "/tmp/ipykernel_18/1193640667.py:2: UserWarning: pandas only supports SQLAlchemy connectable (engine/connection) or database string URI or sqlite3 DBAPI2 connection. Other DBAPI2 objects are not tested. Please consider using SQLAlchemy.\n",
      "  df2 = pd.read_sql(f'SELECT * FROM {origin_name}.{database_name}.{table2_name};', conn)\n"
     ]
    }
   ],
   "source": [
    "table2_name = 'daily_sales_count_cancelled_v2'##WE LOAD THE BASE WITH CANCELLATIONS\n",
    "df2 = pd.read_sql(f'SELECT * FROM {origin_name}.{database_name}.{table2_name};', conn)"
   ]
  },
  {
   "cell_type": "code",
   "execution_count": 64,
   "id": "ffef8ba7-ed7f-4fd8-8fb6-ca3d6b9ff125",
   "metadata": {
    "tags": []
   },
   "outputs": [],
   "source": [
    "df2['date'] = pd.to_datetime(df2['date']).dt.date"
   ]
  },
  {
   "cell_type": "code",
   "execution_count": 65,
   "id": "82ddd611-defe-4ae0-9ad7-7390a11d368d",
   "metadata": {
    "tags": []
   },
   "outputs": [
    {
     "data": {
      "text/html": [
       "<div>\n",
       "<style scoped>\n",
       "    .dataframe tbody tr th:only-of-type {\n",
       "        vertical-align: middle;\n",
       "    }\n",
       "\n",
       "    .dataframe tbody tr th {\n",
       "        vertical-align: top;\n",
       "    }\n",
       "\n",
       "    .dataframe thead th {\n",
       "        text-align: right;\n",
       "    }\n",
       "</style>\n",
       "<table border=\"1\" class=\"dataframe\">\n",
       "  <thead>\n",
       "    <tr style=\"text-align: right;\">\n",
       "      <th></th>\n",
       "      <th>payer</th>\n",
       "      <th>country</th>\n",
       "      <th>date</th>\n",
       "      <th>amount</th>\n",
       "      <th>tx_cancelled</th>\n",
       "    </tr>\n",
       "  </thead>\n",
       "  <tbody>\n",
       "    <tr>\n",
       "      <th>0</th>\n",
       "      <td>BANCO BISA</td>\n",
       "      <td>BOLIVIA</td>\n",
       "      <td>2023-08-10</td>\n",
       "      <td>7737.00</td>\n",
       "      <td>1</td>\n",
       "    </tr>\n",
       "    <tr>\n",
       "      <th>1</th>\n",
       "      <td>TELEDOLAR-NIC (TN)</td>\n",
       "      <td>NICARAGUA</td>\n",
       "      <td>2023-10-19</td>\n",
       "      <td>77198.00</td>\n",
       "      <td>15</td>\n",
       "    </tr>\n",
       "    <tr>\n",
       "      <th>2</th>\n",
       "      <td>BANCOLOMBIA</td>\n",
       "      <td>COLOMBIA</td>\n",
       "      <td>2023-10-19</td>\n",
       "      <td>422854.61</td>\n",
       "      <td>84</td>\n",
       "    </tr>\n",
       "    <tr>\n",
       "      <th>3</th>\n",
       "      <td>DAVIVIENDA</td>\n",
       "      <td>COLOMBIA</td>\n",
       "      <td>2023-10-19</td>\n",
       "      <td>166348.73</td>\n",
       "      <td>61</td>\n",
       "    </tr>\n",
       "    <tr>\n",
       "      <th>4</th>\n",
       "      <td>OXXO (TN)</td>\n",
       "      <td>MEXICO</td>\n",
       "      <td>2022-10-29</td>\n",
       "      <td>45036.40</td>\n",
       "      <td>62</td>\n",
       "    </tr>\n",
       "  </tbody>\n",
       "</table>\n",
       "</div>"
      ],
      "text/plain": [
       "                payer    country        date     amount  tx_cancelled\n",
       "0          BANCO BISA    BOLIVIA  2023-08-10    7737.00             1\n",
       "1  TELEDOLAR-NIC (TN)  NICARAGUA  2023-10-19   77198.00            15\n",
       "2         BANCOLOMBIA   COLOMBIA  2023-10-19  422854.61            84\n",
       "3          DAVIVIENDA   COLOMBIA  2023-10-19  166348.73            61\n",
       "4           OXXO (TN)     MEXICO  2022-10-29   45036.40            62"
      ]
     },
     "execution_count": 65,
     "metadata": {},
     "output_type": "execute_result"
    }
   ],
   "source": [
    "df2.head()"
   ]
  },
  {
   "cell_type": "code",
   "execution_count": 66,
   "id": "ac2a0c86-8b43-4a49-9cd9-0b94564b2797",
   "metadata": {},
   "outputs": [],
   "source": [
    "###ORDERED BY: COUNTRY, PAYER, DATE"
   ]
  },
  {
   "cell_type": "code",
   "execution_count": 67,
   "id": "0f783894-a070-4b27-89bf-456899dda0f9",
   "metadata": {
    "tags": []
   },
   "outputs": [],
   "source": [
    "df2=df2.sort_values(by=['country', 'payer', 'date'])"
   ]
  },
  {
   "cell_type": "code",
   "execution_count": 68,
   "id": "8ee72ea5-bdcc-4dab-9094-854446daab08",
   "metadata": {
    "tags": []
   },
   "outputs": [
    {
     "data": {
      "text/html": [
       "<div>\n",
       "<style scoped>\n",
       "    .dataframe tbody tr th:only-of-type {\n",
       "        vertical-align: middle;\n",
       "    }\n",
       "\n",
       "    .dataframe tbody tr th {\n",
       "        vertical-align: top;\n",
       "    }\n",
       "\n",
       "    .dataframe thead th {\n",
       "        text-align: right;\n",
       "    }\n",
       "</style>\n",
       "<table border=\"1\" class=\"dataframe\">\n",
       "  <thead>\n",
       "    <tr style=\"text-align: right;\">\n",
       "      <th></th>\n",
       "      <th>payer</th>\n",
       "      <th>country</th>\n",
       "      <th>date</th>\n",
       "      <th>amount</th>\n",
       "      <th>tx_cancelled</th>\n",
       "    </tr>\n",
       "  </thead>\n",
       "  <tbody>\n",
       "    <tr>\n",
       "      <th>801</th>\n",
       "      <td>AFEX</td>\n",
       "      <td>ARGENTINA</td>\n",
       "      <td>2021-08-05</td>\n",
       "      <td>0.0</td>\n",
       "      <td>1</td>\n",
       "    </tr>\n",
       "    <tr>\n",
       "      <th>19019</th>\n",
       "      <td>AFEX</td>\n",
       "      <td>ARGENTINA</td>\n",
       "      <td>2021-08-06</td>\n",
       "      <td>0.0</td>\n",
       "      <td>1</td>\n",
       "    </tr>\n",
       "    <tr>\n",
       "      <th>41888</th>\n",
       "      <td>ARGENPER</td>\n",
       "      <td>ARGENTINA</td>\n",
       "      <td>2020-12-31</td>\n",
       "      <td>70.0</td>\n",
       "      <td>0</td>\n",
       "    </tr>\n",
       "    <tr>\n",
       "      <th>28966</th>\n",
       "      <td>ARGENPER</td>\n",
       "      <td>ARGENTINA</td>\n",
       "      <td>2021-01-02</td>\n",
       "      <td>25.0</td>\n",
       "      <td>0</td>\n",
       "    </tr>\n",
       "    <tr>\n",
       "      <th>1625</th>\n",
       "      <td>ARGENPER</td>\n",
       "      <td>ARGENTINA</td>\n",
       "      <td>2021-01-05</td>\n",
       "      <td>490.0</td>\n",
       "      <td>0</td>\n",
       "    </tr>\n",
       "  </tbody>\n",
       "</table>\n",
       "</div>"
      ],
      "text/plain": [
       "          payer    country        date  amount  tx_cancelled\n",
       "801        AFEX  ARGENTINA  2021-08-05     0.0             1\n",
       "19019      AFEX  ARGENTINA  2021-08-06     0.0             1\n",
       "41888  ARGENPER  ARGENTINA  2020-12-31    70.0             0\n",
       "28966  ARGENPER  ARGENTINA  2021-01-02    25.0             0\n",
       "1625   ARGENPER  ARGENTINA  2021-01-05   490.0             0"
      ]
     },
     "execution_count": 68,
     "metadata": {},
     "output_type": "execute_result"
    }
   ],
   "source": [
    "df2.head()"
   ]
  },
  {
   "cell_type": "code",
   "execution_count": 69,
   "id": "7dc5444d-707d-4eec-8449-f98c496354f1",
   "metadata": {},
   "outputs": [],
   "source": [
    "##ONCE THE DATASET HAS BEEN SORTED, WE CAN OBTAIN THE LAGS OF THE CANCELLED TX"
   ]
  },
  {
   "cell_type": "code",
   "execution_count": 70,
   "id": "971684ba-343a-4600-bb4d-edebc592f9ea",
   "metadata": {
    "tags": []
   },
   "outputs": [],
   "source": [
    "for i in range(1, 8):\n",
    "    nombre_columna = f'tx_cancelled_{i}'\n",
    "    df2[nombre_columna] = df2.groupby(['country', 'payer'])['tx_cancelled'].shift(i)"
   ]
  },
  {
   "cell_type": "code",
   "execution_count": 71,
   "id": "44a70594-fc16-4830-90e9-f3b4c816f6b7",
   "metadata": {
    "tags": []
   },
   "outputs": [
    {
     "data": {
      "text/html": [
       "<div>\n",
       "<style scoped>\n",
       "    .dataframe tbody tr th:only-of-type {\n",
       "        vertical-align: middle;\n",
       "    }\n",
       "\n",
       "    .dataframe tbody tr th {\n",
       "        vertical-align: top;\n",
       "    }\n",
       "\n",
       "    .dataframe thead th {\n",
       "        text-align: right;\n",
       "    }\n",
       "</style>\n",
       "<table border=\"1\" class=\"dataframe\">\n",
       "  <thead>\n",
       "    <tr style=\"text-align: right;\">\n",
       "      <th></th>\n",
       "      <th>payer</th>\n",
       "      <th>country</th>\n",
       "      <th>date</th>\n",
       "      <th>amount</th>\n",
       "      <th>tx_cancelled</th>\n",
       "      <th>tx_cancelled_1</th>\n",
       "      <th>tx_cancelled_2</th>\n",
       "      <th>tx_cancelled_3</th>\n",
       "      <th>tx_cancelled_4</th>\n",
       "      <th>tx_cancelled_5</th>\n",
       "      <th>tx_cancelled_6</th>\n",
       "      <th>tx_cancelled_7</th>\n",
       "    </tr>\n",
       "  </thead>\n",
       "  <tbody>\n",
       "    <tr>\n",
       "      <th>9633</th>\n",
       "      <td>WALMART (UT)</td>\n",
       "      <td>MEXICO</td>\n",
       "      <td>2023-10-05</td>\n",
       "      <td>473442.39</td>\n",
       "      <td>61</td>\n",
       "      <td>74.0</td>\n",
       "      <td>64.0</td>\n",
       "      <td>54.0</td>\n",
       "      <td>48.0</td>\n",
       "      <td>62.0</td>\n",
       "      <td>51.0</td>\n",
       "      <td>34.0</td>\n",
       "    </tr>\n",
       "    <tr>\n",
       "      <th>69362</th>\n",
       "      <td>WALMART (UT)</td>\n",
       "      <td>MEXICO</td>\n",
       "      <td>2023-10-06</td>\n",
       "      <td>605532.85</td>\n",
       "      <td>46</td>\n",
       "      <td>61.0</td>\n",
       "      <td>74.0</td>\n",
       "      <td>64.0</td>\n",
       "      <td>54.0</td>\n",
       "      <td>48.0</td>\n",
       "      <td>62.0</td>\n",
       "      <td>51.0</td>\n",
       "    </tr>\n",
       "    <tr>\n",
       "      <th>100212</th>\n",
       "      <td>WALMART (UT)</td>\n",
       "      <td>MEXICO</td>\n",
       "      <td>2023-10-07</td>\n",
       "      <td>597892.70</td>\n",
       "      <td>42</td>\n",
       "      <td>46.0</td>\n",
       "      <td>61.0</td>\n",
       "      <td>74.0</td>\n",
       "      <td>64.0</td>\n",
       "      <td>54.0</td>\n",
       "      <td>48.0</td>\n",
       "      <td>62.0</td>\n",
       "    </tr>\n",
       "    <tr>\n",
       "      <th>37868</th>\n",
       "      <td>WALMART (UT)</td>\n",
       "      <td>MEXICO</td>\n",
       "      <td>2023-10-08</td>\n",
       "      <td>438368.94</td>\n",
       "      <td>56</td>\n",
       "      <td>42.0</td>\n",
       "      <td>46.0</td>\n",
       "      <td>61.0</td>\n",
       "      <td>74.0</td>\n",
       "      <td>64.0</td>\n",
       "      <td>54.0</td>\n",
       "      <td>48.0</td>\n",
       "    </tr>\n",
       "    <tr>\n",
       "      <th>84371</th>\n",
       "      <td>WALMART (UT)</td>\n",
       "      <td>MEXICO</td>\n",
       "      <td>2023-10-09</td>\n",
       "      <td>331874.13</td>\n",
       "      <td>32</td>\n",
       "      <td>56.0</td>\n",
       "      <td>42.0</td>\n",
       "      <td>46.0</td>\n",
       "      <td>61.0</td>\n",
       "      <td>74.0</td>\n",
       "      <td>64.0</td>\n",
       "      <td>54.0</td>\n",
       "    </tr>\n",
       "    <tr>\n",
       "      <th>95140</th>\n",
       "      <td>WALMART (UT)</td>\n",
       "      <td>MEXICO</td>\n",
       "      <td>2023-10-10</td>\n",
       "      <td>310515.78</td>\n",
       "      <td>46</td>\n",
       "      <td>32.0</td>\n",
       "      <td>56.0</td>\n",
       "      <td>42.0</td>\n",
       "      <td>46.0</td>\n",
       "      <td>61.0</td>\n",
       "      <td>74.0</td>\n",
       "      <td>64.0</td>\n",
       "    </tr>\n",
       "    <tr>\n",
       "      <th>71332</th>\n",
       "      <td>WALMART (UT)</td>\n",
       "      <td>MEXICO</td>\n",
       "      <td>2023-10-11</td>\n",
       "      <td>265200.61</td>\n",
       "      <td>39</td>\n",
       "      <td>46.0</td>\n",
       "      <td>32.0</td>\n",
       "      <td>56.0</td>\n",
       "      <td>42.0</td>\n",
       "      <td>46.0</td>\n",
       "      <td>61.0</td>\n",
       "      <td>74.0</td>\n",
       "    </tr>\n",
       "    <tr>\n",
       "      <th>86580</th>\n",
       "      <td>WALMART (UT)</td>\n",
       "      <td>MEXICO</td>\n",
       "      <td>2023-10-12</td>\n",
       "      <td>282657.10</td>\n",
       "      <td>40</td>\n",
       "      <td>39.0</td>\n",
       "      <td>46.0</td>\n",
       "      <td>32.0</td>\n",
       "      <td>56.0</td>\n",
       "      <td>42.0</td>\n",
       "      <td>46.0</td>\n",
       "      <td>61.0</td>\n",
       "    </tr>\n",
       "    <tr>\n",
       "      <th>33767</th>\n",
       "      <td>WALMART (UT)</td>\n",
       "      <td>MEXICO</td>\n",
       "      <td>2023-10-13</td>\n",
       "      <td>474161.67</td>\n",
       "      <td>43</td>\n",
       "      <td>40.0</td>\n",
       "      <td>39.0</td>\n",
       "      <td>46.0</td>\n",
       "      <td>32.0</td>\n",
       "      <td>56.0</td>\n",
       "      <td>42.0</td>\n",
       "      <td>46.0</td>\n",
       "    </tr>\n",
       "    <tr>\n",
       "      <th>46596</th>\n",
       "      <td>WALMART (UT)</td>\n",
       "      <td>MEXICO</td>\n",
       "      <td>2023-10-14</td>\n",
       "      <td>591180.36</td>\n",
       "      <td>49</td>\n",
       "      <td>43.0</td>\n",
       "      <td>40.0</td>\n",
       "      <td>39.0</td>\n",
       "      <td>46.0</td>\n",
       "      <td>32.0</td>\n",
       "      <td>56.0</td>\n",
       "      <td>42.0</td>\n",
       "    </tr>\n",
       "    <tr>\n",
       "      <th>78558</th>\n",
       "      <td>WALMART (UT)</td>\n",
       "      <td>MEXICO</td>\n",
       "      <td>2023-10-15</td>\n",
       "      <td>494087.96</td>\n",
       "      <td>34</td>\n",
       "      <td>49.0</td>\n",
       "      <td>43.0</td>\n",
       "      <td>40.0</td>\n",
       "      <td>39.0</td>\n",
       "      <td>46.0</td>\n",
       "      <td>32.0</td>\n",
       "      <td>56.0</td>\n",
       "    </tr>\n",
       "    <tr>\n",
       "      <th>20415</th>\n",
       "      <td>WALMART (UT)</td>\n",
       "      <td>MEXICO</td>\n",
       "      <td>2023-10-16</td>\n",
       "      <td>359941.56</td>\n",
       "      <td>51</td>\n",
       "      <td>34.0</td>\n",
       "      <td>49.0</td>\n",
       "      <td>43.0</td>\n",
       "      <td>40.0</td>\n",
       "      <td>39.0</td>\n",
       "      <td>46.0</td>\n",
       "      <td>32.0</td>\n",
       "    </tr>\n",
       "    <tr>\n",
       "      <th>48905</th>\n",
       "      <td>WALMART (UT)</td>\n",
       "      <td>MEXICO</td>\n",
       "      <td>2023-10-17</td>\n",
       "      <td>282912.89</td>\n",
       "      <td>32</td>\n",
       "      <td>51.0</td>\n",
       "      <td>34.0</td>\n",
       "      <td>49.0</td>\n",
       "      <td>43.0</td>\n",
       "      <td>40.0</td>\n",
       "      <td>39.0</td>\n",
       "      <td>46.0</td>\n",
       "    </tr>\n",
       "    <tr>\n",
       "      <th>15799</th>\n",
       "      <td>WALMART (UT)</td>\n",
       "      <td>MEXICO</td>\n",
       "      <td>2023-10-18</td>\n",
       "      <td>334777.84</td>\n",
       "      <td>36</td>\n",
       "      <td>32.0</td>\n",
       "      <td>51.0</td>\n",
       "      <td>34.0</td>\n",
       "      <td>49.0</td>\n",
       "      <td>43.0</td>\n",
       "      <td>40.0</td>\n",
       "      <td>39.0</td>\n",
       "    </tr>\n",
       "    <tr>\n",
       "      <th>97801</th>\n",
       "      <td>WALMART (UT)</td>\n",
       "      <td>MEXICO</td>\n",
       "      <td>2023-10-19</td>\n",
       "      <td>338030.65</td>\n",
       "      <td>51</td>\n",
       "      <td>36.0</td>\n",
       "      <td>32.0</td>\n",
       "      <td>51.0</td>\n",
       "      <td>34.0</td>\n",
       "      <td>49.0</td>\n",
       "      <td>43.0</td>\n",
       "      <td>40.0</td>\n",
       "    </tr>\n",
       "    <tr>\n",
       "      <th>76365</th>\n",
       "      <td>WALMART (UT)</td>\n",
       "      <td>MEXICO</td>\n",
       "      <td>2023-10-20</td>\n",
       "      <td>573821.44</td>\n",
       "      <td>55</td>\n",
       "      <td>51.0</td>\n",
       "      <td>36.0</td>\n",
       "      <td>32.0</td>\n",
       "      <td>51.0</td>\n",
       "      <td>34.0</td>\n",
       "      <td>49.0</td>\n",
       "      <td>43.0</td>\n",
       "    </tr>\n",
       "    <tr>\n",
       "      <th>18851</th>\n",
       "      <td>WALMART (UT)</td>\n",
       "      <td>MEXICO</td>\n",
       "      <td>2023-10-21</td>\n",
       "      <td>625157.45</td>\n",
       "      <td>41</td>\n",
       "      <td>55.0</td>\n",
       "      <td>51.0</td>\n",
       "      <td>36.0</td>\n",
       "      <td>32.0</td>\n",
       "      <td>51.0</td>\n",
       "      <td>34.0</td>\n",
       "      <td>49.0</td>\n",
       "    </tr>\n",
       "    <tr>\n",
       "      <th>18469</th>\n",
       "      <td>WOOLWORTH (UT)</td>\n",
       "      <td>MEXICO</td>\n",
       "      <td>2023-09-06</td>\n",
       "      <td>0.00</td>\n",
       "      <td>3</td>\n",
       "      <td>NaN</td>\n",
       "      <td>NaN</td>\n",
       "      <td>NaN</td>\n",
       "      <td>NaN</td>\n",
       "      <td>NaN</td>\n",
       "      <td>NaN</td>\n",
       "      <td>NaN</td>\n",
       "    </tr>\n",
       "    <tr>\n",
       "      <th>2934</th>\n",
       "      <td>WOOLWORTH (UT)</td>\n",
       "      <td>MEXICO</td>\n",
       "      <td>2023-09-07</td>\n",
       "      <td>0.00</td>\n",
       "      <td>1</td>\n",
       "      <td>3.0</td>\n",
       "      <td>NaN</td>\n",
       "      <td>NaN</td>\n",
       "      <td>NaN</td>\n",
       "      <td>NaN</td>\n",
       "      <td>NaN</td>\n",
       "      <td>NaN</td>\n",
       "    </tr>\n",
       "    <tr>\n",
       "      <th>11502</th>\n",
       "      <td>WOOLWORTH (UT)</td>\n",
       "      <td>MEXICO</td>\n",
       "      <td>2023-09-15</td>\n",
       "      <td>1.00</td>\n",
       "      <td>0</td>\n",
       "      <td>1.0</td>\n",
       "      <td>3.0</td>\n",
       "      <td>NaN</td>\n",
       "      <td>NaN</td>\n",
       "      <td>NaN</td>\n",
       "      <td>NaN</td>\n",
       "      <td>NaN</td>\n",
       "    </tr>\n",
       "  </tbody>\n",
       "</table>\n",
       "</div>"
      ],
      "text/plain": [
       "                 payer country        date     amount  tx_cancelled  \\\n",
       "9633      WALMART (UT)  MEXICO  2023-10-05  473442.39            61   \n",
       "69362     WALMART (UT)  MEXICO  2023-10-06  605532.85            46   \n",
       "100212    WALMART (UT)  MEXICO  2023-10-07  597892.70            42   \n",
       "37868     WALMART (UT)  MEXICO  2023-10-08  438368.94            56   \n",
       "84371     WALMART (UT)  MEXICO  2023-10-09  331874.13            32   \n",
       "95140     WALMART (UT)  MEXICO  2023-10-10  310515.78            46   \n",
       "71332     WALMART (UT)  MEXICO  2023-10-11  265200.61            39   \n",
       "86580     WALMART (UT)  MEXICO  2023-10-12  282657.10            40   \n",
       "33767     WALMART (UT)  MEXICO  2023-10-13  474161.67            43   \n",
       "46596     WALMART (UT)  MEXICO  2023-10-14  591180.36            49   \n",
       "78558     WALMART (UT)  MEXICO  2023-10-15  494087.96            34   \n",
       "20415     WALMART (UT)  MEXICO  2023-10-16  359941.56            51   \n",
       "48905     WALMART (UT)  MEXICO  2023-10-17  282912.89            32   \n",
       "15799     WALMART (UT)  MEXICO  2023-10-18  334777.84            36   \n",
       "97801     WALMART (UT)  MEXICO  2023-10-19  338030.65            51   \n",
       "76365     WALMART (UT)  MEXICO  2023-10-20  573821.44            55   \n",
       "18851     WALMART (UT)  MEXICO  2023-10-21  625157.45            41   \n",
       "18469   WOOLWORTH (UT)  MEXICO  2023-09-06       0.00             3   \n",
       "2934    WOOLWORTH (UT)  MEXICO  2023-09-07       0.00             1   \n",
       "11502   WOOLWORTH (UT)  MEXICO  2023-09-15       1.00             0   \n",
       "\n",
       "        tx_cancelled_1  tx_cancelled_2  tx_cancelled_3  tx_cancelled_4  \\\n",
       "9633              74.0            64.0            54.0            48.0   \n",
       "69362             61.0            74.0            64.0            54.0   \n",
       "100212            46.0            61.0            74.0            64.0   \n",
       "37868             42.0            46.0            61.0            74.0   \n",
       "84371             56.0            42.0            46.0            61.0   \n",
       "95140             32.0            56.0            42.0            46.0   \n",
       "71332             46.0            32.0            56.0            42.0   \n",
       "86580             39.0            46.0            32.0            56.0   \n",
       "33767             40.0            39.0            46.0            32.0   \n",
       "46596             43.0            40.0            39.0            46.0   \n",
       "78558             49.0            43.0            40.0            39.0   \n",
       "20415             34.0            49.0            43.0            40.0   \n",
       "48905             51.0            34.0            49.0            43.0   \n",
       "15799             32.0            51.0            34.0            49.0   \n",
       "97801             36.0            32.0            51.0            34.0   \n",
       "76365             51.0            36.0            32.0            51.0   \n",
       "18851             55.0            51.0            36.0            32.0   \n",
       "18469              NaN             NaN             NaN             NaN   \n",
       "2934               3.0             NaN             NaN             NaN   \n",
       "11502              1.0             3.0             NaN             NaN   \n",
       "\n",
       "        tx_cancelled_5  tx_cancelled_6  tx_cancelled_7  \n",
       "9633              62.0            51.0            34.0  \n",
       "69362             48.0            62.0            51.0  \n",
       "100212            54.0            48.0            62.0  \n",
       "37868             64.0            54.0            48.0  \n",
       "84371             74.0            64.0            54.0  \n",
       "95140             61.0            74.0            64.0  \n",
       "71332             46.0            61.0            74.0  \n",
       "86580             42.0            46.0            61.0  \n",
       "33767             56.0            42.0            46.0  \n",
       "46596             32.0            56.0            42.0  \n",
       "78558             46.0            32.0            56.0  \n",
       "20415             39.0            46.0            32.0  \n",
       "48905             40.0            39.0            46.0  \n",
       "15799             43.0            40.0            39.0  \n",
       "97801             49.0            43.0            40.0  \n",
       "76365             34.0            49.0            43.0  \n",
       "18851             51.0            34.0            49.0  \n",
       "18469              NaN             NaN             NaN  \n",
       "2934               NaN             NaN             NaN  \n",
       "11502              NaN             NaN             NaN  "
      ]
     },
     "execution_count": 71,
     "metadata": {},
     "output_type": "execute_result"
    }
   ],
   "source": [
    "##NOTE THAT IT BRINGS THE NUMBER OF CANCELLATIONS FOR THE LAST AVAILABLE DATA (I.E. THE PREVIOUS ROW)\n",
    "df_prueba=df2.loc[df2.country=='MEXICO']\n",
    "df_prueba.tail(20)"
   ]
  },
  {
   "cell_type": "code",
   "execution_count": 72,
   "id": "aff86e4d-7d24-42e9-8cf7-59526cacd8cb",
   "metadata": {
    "tags": []
   },
   "outputs": [],
   "source": [
    "df2['var_tx_cancelled_1']=df2.tx_cancelled_1-df2.tx_cancelled_2\n",
    "df2['var_tx_cancelled_2']=df2.tx_cancelled_2-df2.tx_cancelled_3\n",
    "df2['var_tx_cancelled_3']=df2.tx_cancelled_3-df2.tx_cancelled_4\n",
    "df2['var_tx_cancelled_4']=df2.tx_cancelled_4-df2.tx_cancelled_5\n",
    "df2['var_tx_cancelled_5']=df2.tx_cancelled_5-df2.tx_cancelled_6\n",
    "df2['var_tx_cancelled_6']=df2.tx_cancelled_6-df2.tx_cancelled_7"
   ]
  },
  {
   "cell_type": "code",
   "execution_count": 73,
   "id": "50f58345-1ac4-4cab-b94e-05bd26b1c851",
   "metadata": {
    "tags": []
   },
   "outputs": [
    {
     "data": {
      "text/html": [
       "<div>\n",
       "<style scoped>\n",
       "    .dataframe tbody tr th:only-of-type {\n",
       "        vertical-align: middle;\n",
       "    }\n",
       "\n",
       "    .dataframe tbody tr th {\n",
       "        vertical-align: top;\n",
       "    }\n",
       "\n",
       "    .dataframe thead th {\n",
       "        text-align: right;\n",
       "    }\n",
       "</style>\n",
       "<table border=\"1\" class=\"dataframe\">\n",
       "  <thead>\n",
       "    <tr style=\"text-align: right;\">\n",
       "      <th></th>\n",
       "      <th>payer</th>\n",
       "      <th>country</th>\n",
       "      <th>date</th>\n",
       "      <th>amount</th>\n",
       "      <th>tx_cancelled</th>\n",
       "      <th>tx_cancelled_1</th>\n",
       "      <th>tx_cancelled_2</th>\n",
       "      <th>tx_cancelled_3</th>\n",
       "      <th>tx_cancelled_4</th>\n",
       "      <th>tx_cancelled_5</th>\n",
       "      <th>tx_cancelled_6</th>\n",
       "      <th>tx_cancelled_7</th>\n",
       "      <th>var_tx_cancelled_1</th>\n",
       "      <th>var_tx_cancelled_2</th>\n",
       "      <th>var_tx_cancelled_3</th>\n",
       "      <th>var_tx_cancelled_4</th>\n",
       "      <th>var_tx_cancelled_5</th>\n",
       "      <th>var_tx_cancelled_6</th>\n",
       "    </tr>\n",
       "  </thead>\n",
       "  <tbody>\n",
       "    <tr>\n",
       "      <th>801</th>\n",
       "      <td>AFEX</td>\n",
       "      <td>ARGENTINA</td>\n",
       "      <td>2021-08-05</td>\n",
       "      <td>0.0</td>\n",
       "      <td>1</td>\n",
       "      <td>NaN</td>\n",
       "      <td>NaN</td>\n",
       "      <td>NaN</td>\n",
       "      <td>NaN</td>\n",
       "      <td>NaN</td>\n",
       "      <td>NaN</td>\n",
       "      <td>NaN</td>\n",
       "      <td>NaN</td>\n",
       "      <td>NaN</td>\n",
       "      <td>NaN</td>\n",
       "      <td>NaN</td>\n",
       "      <td>NaN</td>\n",
       "      <td>NaN</td>\n",
       "    </tr>\n",
       "    <tr>\n",
       "      <th>19019</th>\n",
       "      <td>AFEX</td>\n",
       "      <td>ARGENTINA</td>\n",
       "      <td>2021-08-06</td>\n",
       "      <td>0.0</td>\n",
       "      <td>1</td>\n",
       "      <td>1.0</td>\n",
       "      <td>NaN</td>\n",
       "      <td>NaN</td>\n",
       "      <td>NaN</td>\n",
       "      <td>NaN</td>\n",
       "      <td>NaN</td>\n",
       "      <td>NaN</td>\n",
       "      <td>NaN</td>\n",
       "      <td>NaN</td>\n",
       "      <td>NaN</td>\n",
       "      <td>NaN</td>\n",
       "      <td>NaN</td>\n",
       "      <td>NaN</td>\n",
       "    </tr>\n",
       "    <tr>\n",
       "      <th>41888</th>\n",
       "      <td>ARGENPER</td>\n",
       "      <td>ARGENTINA</td>\n",
       "      <td>2020-12-31</td>\n",
       "      <td>70.0</td>\n",
       "      <td>0</td>\n",
       "      <td>NaN</td>\n",
       "      <td>NaN</td>\n",
       "      <td>NaN</td>\n",
       "      <td>NaN</td>\n",
       "      <td>NaN</td>\n",
       "      <td>NaN</td>\n",
       "      <td>NaN</td>\n",
       "      <td>NaN</td>\n",
       "      <td>NaN</td>\n",
       "      <td>NaN</td>\n",
       "      <td>NaN</td>\n",
       "      <td>NaN</td>\n",
       "      <td>NaN</td>\n",
       "    </tr>\n",
       "    <tr>\n",
       "      <th>28966</th>\n",
       "      <td>ARGENPER</td>\n",
       "      <td>ARGENTINA</td>\n",
       "      <td>2021-01-02</td>\n",
       "      <td>25.0</td>\n",
       "      <td>0</td>\n",
       "      <td>0.0</td>\n",
       "      <td>NaN</td>\n",
       "      <td>NaN</td>\n",
       "      <td>NaN</td>\n",
       "      <td>NaN</td>\n",
       "      <td>NaN</td>\n",
       "      <td>NaN</td>\n",
       "      <td>NaN</td>\n",
       "      <td>NaN</td>\n",
       "      <td>NaN</td>\n",
       "      <td>NaN</td>\n",
       "      <td>NaN</td>\n",
       "      <td>NaN</td>\n",
       "    </tr>\n",
       "    <tr>\n",
       "      <th>1625</th>\n",
       "      <td>ARGENPER</td>\n",
       "      <td>ARGENTINA</td>\n",
       "      <td>2021-01-05</td>\n",
       "      <td>490.0</td>\n",
       "      <td>0</td>\n",
       "      <td>0.0</td>\n",
       "      <td>0.0</td>\n",
       "      <td>NaN</td>\n",
       "      <td>NaN</td>\n",
       "      <td>NaN</td>\n",
       "      <td>NaN</td>\n",
       "      <td>NaN</td>\n",
       "      <td>0.0</td>\n",
       "      <td>NaN</td>\n",
       "      <td>NaN</td>\n",
       "      <td>NaN</td>\n",
       "      <td>NaN</td>\n",
       "      <td>NaN</td>\n",
       "    </tr>\n",
       "  </tbody>\n",
       "</table>\n",
       "</div>"
      ],
      "text/plain": [
       "          payer    country        date  amount  tx_cancelled  tx_cancelled_1  \\\n",
       "801        AFEX  ARGENTINA  2021-08-05     0.0             1             NaN   \n",
       "19019      AFEX  ARGENTINA  2021-08-06     0.0             1             1.0   \n",
       "41888  ARGENPER  ARGENTINA  2020-12-31    70.0             0             NaN   \n",
       "28966  ARGENPER  ARGENTINA  2021-01-02    25.0             0             0.0   \n",
       "1625   ARGENPER  ARGENTINA  2021-01-05   490.0             0             0.0   \n",
       "\n",
       "       tx_cancelled_2  tx_cancelled_3  tx_cancelled_4  tx_cancelled_5  \\\n",
       "801               NaN             NaN             NaN             NaN   \n",
       "19019             NaN             NaN             NaN             NaN   \n",
       "41888             NaN             NaN             NaN             NaN   \n",
       "28966             NaN             NaN             NaN             NaN   \n",
       "1625              0.0             NaN             NaN             NaN   \n",
       "\n",
       "       tx_cancelled_6  tx_cancelled_7  var_tx_cancelled_1  var_tx_cancelled_2  \\\n",
       "801               NaN             NaN                 NaN                 NaN   \n",
       "19019             NaN             NaN                 NaN                 NaN   \n",
       "41888             NaN             NaN                 NaN                 NaN   \n",
       "28966             NaN             NaN                 NaN                 NaN   \n",
       "1625              NaN             NaN                 0.0                 NaN   \n",
       "\n",
       "       var_tx_cancelled_3  var_tx_cancelled_4  var_tx_cancelled_5  \\\n",
       "801                   NaN                 NaN                 NaN   \n",
       "19019                 NaN                 NaN                 NaN   \n",
       "41888                 NaN                 NaN                 NaN   \n",
       "28966                 NaN                 NaN                 NaN   \n",
       "1625                  NaN                 NaN                 NaN   \n",
       "\n",
       "       var_tx_cancelled_6  \n",
       "801                   NaN  \n",
       "19019                 NaN  \n",
       "41888                 NaN  \n",
       "28966                 NaN  \n",
       "1625                  NaN  "
      ]
     },
     "execution_count": 73,
     "metadata": {},
     "output_type": "execute_result"
    }
   ],
   "source": [
    "df2.head()"
   ]
  },
  {
   "cell_type": "code",
   "execution_count": 74,
   "id": "86816d2e-471e-48e9-8400-5ad95a04285b",
   "metadata": {
    "tags": []
   },
   "outputs": [
    {
     "data": {
      "text/html": [
       "<div>\n",
       "<style scoped>\n",
       "    .dataframe tbody tr th:only-of-type {\n",
       "        vertical-align: middle;\n",
       "    }\n",
       "\n",
       "    .dataframe tbody tr th {\n",
       "        vertical-align: top;\n",
       "    }\n",
       "\n",
       "    .dataframe thead th {\n",
       "        text-align: right;\n",
       "    }\n",
       "</style>\n",
       "<table border=\"1\" class=\"dataframe\">\n",
       "  <thead>\n",
       "    <tr style=\"text-align: right;\">\n",
       "      <th></th>\n",
       "      <th>payer</th>\n",
       "      <th>country</th>\n",
       "      <th>date</th>\n",
       "      <th>amount</th>\n",
       "      <th>tx_cancelled</th>\n",
       "      <th>tx_cancelled_1</th>\n",
       "      <th>tx_cancelled_2</th>\n",
       "      <th>tx_cancelled_3</th>\n",
       "      <th>tx_cancelled_4</th>\n",
       "      <th>tx_cancelled_5</th>\n",
       "      <th>tx_cancelled_6</th>\n",
       "      <th>tx_cancelled_7</th>\n",
       "      <th>var_tx_cancelled_1</th>\n",
       "      <th>var_tx_cancelled_2</th>\n",
       "      <th>var_tx_cancelled_3</th>\n",
       "      <th>var_tx_cancelled_4</th>\n",
       "      <th>var_tx_cancelled_5</th>\n",
       "      <th>var_tx_cancelled_6</th>\n",
       "    </tr>\n",
       "  </thead>\n",
       "  <tbody>\n",
       "    <tr>\n",
       "      <th>26559</th>\n",
       "      <td>24XORO</td>\n",
       "      <td>MEXICO</td>\n",
       "      <td>2023-02-22</td>\n",
       "      <td>0.0</td>\n",
       "      <td>1</td>\n",
       "      <td>NaN</td>\n",
       "      <td>NaN</td>\n",
       "      <td>NaN</td>\n",
       "      <td>NaN</td>\n",
       "      <td>NaN</td>\n",
       "      <td>NaN</td>\n",
       "      <td>NaN</td>\n",
       "      <td>NaN</td>\n",
       "      <td>NaN</td>\n",
       "      <td>NaN</td>\n",
       "      <td>NaN</td>\n",
       "      <td>NaN</td>\n",
       "      <td>NaN</td>\n",
       "    </tr>\n",
       "    <tr>\n",
       "      <th>7661</th>\n",
       "      <td>24XORO</td>\n",
       "      <td>MEXICO</td>\n",
       "      <td>2023-02-24</td>\n",
       "      <td>0.0</td>\n",
       "      <td>3</td>\n",
       "      <td>1.0</td>\n",
       "      <td>NaN</td>\n",
       "      <td>NaN</td>\n",
       "      <td>NaN</td>\n",
       "      <td>NaN</td>\n",
       "      <td>NaN</td>\n",
       "      <td>NaN</td>\n",
       "      <td>NaN</td>\n",
       "      <td>NaN</td>\n",
       "      <td>NaN</td>\n",
       "      <td>NaN</td>\n",
       "      <td>NaN</td>\n",
       "      <td>NaN</td>\n",
       "    </tr>\n",
       "    <tr>\n",
       "      <th>21780</th>\n",
       "      <td>24XORO</td>\n",
       "      <td>MEXICO</td>\n",
       "      <td>2023-02-28</td>\n",
       "      <td>20.0</td>\n",
       "      <td>3</td>\n",
       "      <td>3.0</td>\n",
       "      <td>1.0</td>\n",
       "      <td>NaN</td>\n",
       "      <td>NaN</td>\n",
       "      <td>NaN</td>\n",
       "      <td>NaN</td>\n",
       "      <td>NaN</td>\n",
       "      <td>2.0</td>\n",
       "      <td>NaN</td>\n",
       "      <td>NaN</td>\n",
       "      <td>NaN</td>\n",
       "      <td>NaN</td>\n",
       "      <td>NaN</td>\n",
       "    </tr>\n",
       "    <tr>\n",
       "      <th>12906</th>\n",
       "      <td>24XORO</td>\n",
       "      <td>MEXICO</td>\n",
       "      <td>2023-03-01</td>\n",
       "      <td>25.0</td>\n",
       "      <td>2</td>\n",
       "      <td>3.0</td>\n",
       "      <td>3.0</td>\n",
       "      <td>1.0</td>\n",
       "      <td>NaN</td>\n",
       "      <td>NaN</td>\n",
       "      <td>NaN</td>\n",
       "      <td>NaN</td>\n",
       "      <td>0.0</td>\n",
       "      <td>2.0</td>\n",
       "      <td>NaN</td>\n",
       "      <td>NaN</td>\n",
       "      <td>NaN</td>\n",
       "      <td>NaN</td>\n",
       "    </tr>\n",
       "    <tr>\n",
       "      <th>45572</th>\n",
       "      <td>24XORO</td>\n",
       "      <td>MEXICO</td>\n",
       "      <td>2023-03-15</td>\n",
       "      <td>4000.0</td>\n",
       "      <td>0</td>\n",
       "      <td>2.0</td>\n",
       "      <td>3.0</td>\n",
       "      <td>3.0</td>\n",
       "      <td>1.0</td>\n",
       "      <td>NaN</td>\n",
       "      <td>NaN</td>\n",
       "      <td>NaN</td>\n",
       "      <td>-1.0</td>\n",
       "      <td>0.0</td>\n",
       "      <td>2.0</td>\n",
       "      <td>NaN</td>\n",
       "      <td>NaN</td>\n",
       "      <td>NaN</td>\n",
       "    </tr>\n",
       "  </tbody>\n",
       "</table>\n",
       "</div>"
      ],
      "text/plain": [
       "        payer country        date  amount  tx_cancelled  tx_cancelled_1  \\\n",
       "26559  24XORO  MEXICO  2023-02-22     0.0             1             NaN   \n",
       "7661   24XORO  MEXICO  2023-02-24     0.0             3             1.0   \n",
       "21780  24XORO  MEXICO  2023-02-28    20.0             3             3.0   \n",
       "12906  24XORO  MEXICO  2023-03-01    25.0             2             3.0   \n",
       "45572  24XORO  MEXICO  2023-03-15  4000.0             0             2.0   \n",
       "\n",
       "       tx_cancelled_2  tx_cancelled_3  tx_cancelled_4  tx_cancelled_5  \\\n",
       "26559             NaN             NaN             NaN             NaN   \n",
       "7661              NaN             NaN             NaN             NaN   \n",
       "21780             1.0             NaN             NaN             NaN   \n",
       "12906             3.0             1.0             NaN             NaN   \n",
       "45572             3.0             3.0             1.0             NaN   \n",
       "\n",
       "       tx_cancelled_6  tx_cancelled_7  var_tx_cancelled_1  var_tx_cancelled_2  \\\n",
       "26559             NaN             NaN                 NaN                 NaN   \n",
       "7661              NaN             NaN                 NaN                 NaN   \n",
       "21780             NaN             NaN                 2.0                 NaN   \n",
       "12906             NaN             NaN                 0.0                 2.0   \n",
       "45572             NaN             NaN                -1.0                 0.0   \n",
       "\n",
       "       var_tx_cancelled_3  var_tx_cancelled_4  var_tx_cancelled_5  \\\n",
       "26559                 NaN                 NaN                 NaN   \n",
       "7661                  NaN                 NaN                 NaN   \n",
       "21780                 NaN                 NaN                 NaN   \n",
       "12906                 NaN                 NaN                 NaN   \n",
       "45572                 2.0                 NaN                 NaN   \n",
       "\n",
       "       var_tx_cancelled_6  \n",
       "26559                 NaN  \n",
       "7661                  NaN  \n",
       "21780                 NaN  \n",
       "12906                 NaN  \n",
       "45572                 NaN  "
      ]
     },
     "execution_count": 74,
     "metadata": {},
     "output_type": "execute_result"
    }
   ],
   "source": [
    "df_prueba2=df2.loc[df2.country=='MEXICO']\n",
    "df_prueba2.head()"
   ]
  },
  {
   "cell_type": "code",
   "execution_count": 75,
   "id": "9f311f2a-1f73-4c5c-85cf-908b80174beb",
   "metadata": {
    "tags": []
   },
   "outputs": [
    {
     "name": "stdout",
     "output_type": "stream",
     "text": [
      "<class 'pandas.core.frame.DataFrame'>\n",
      "Index: 101970 entries, 801 to 28289\n",
      "Data columns (total 18 columns):\n",
      " #   Column              Non-Null Count   Dtype  \n",
      "---  ------              --------------   -----  \n",
      " 0   payer               101970 non-null  object \n",
      " 1   country             101970 non-null  object \n",
      " 2   date                101970 non-null  object \n",
      " 3   amount              101970 non-null  float64\n",
      " 4   tx_cancelled        101970 non-null  int64  \n",
      " 5   tx_cancelled_1      101671 non-null  float64\n",
      " 6   tx_cancelled_2      101397 non-null  float64\n",
      " 7   tx_cancelled_3      101141 non-null  float64\n",
      " 8   tx_cancelled_4      100896 non-null  float64\n",
      " 9   tx_cancelled_5      100663 non-null  float64\n",
      " 10  tx_cancelled_6      100444 non-null  float64\n",
      " 11  tx_cancelled_7      100230 non-null  float64\n",
      " 12  var_tx_cancelled_1  101397 non-null  float64\n",
      " 13  var_tx_cancelled_2  101141 non-null  float64\n",
      " 14  var_tx_cancelled_3  100896 non-null  float64\n",
      " 15  var_tx_cancelled_4  100663 non-null  float64\n",
      " 16  var_tx_cancelled_5  100444 non-null  float64\n",
      " 17  var_tx_cancelled_6  100230 non-null  float64\n",
      "dtypes: float64(14), int64(1), object(3)\n",
      "memory usage: 14.8+ MB\n"
     ]
    }
   ],
   "source": [
    "df2.info()"
   ]
  },
  {
   "cell_type": "code",
   "execution_count": 76,
   "id": "122a30bd-2509-4f4e-b448-978acd98cb7b",
   "metadata": {
    "tags": []
   },
   "outputs": [
    {
     "name": "stdout",
     "output_type": "stream",
     "text": [
      "<class 'pandas.core.frame.DataFrame'>\n",
      "RangeIndex: 87708 entries, 0 to 87707\n",
      "Data columns (total 21 columns):\n",
      " #   Column                Non-Null Count  Dtype  \n",
      "---  ------                --------------  -----  \n",
      " 0   payer                 87708 non-null  object \n",
      " 1   country               87708 non-null  object \n",
      " 2   date                  87708 non-null  object \n",
      " 3   tx                    87708 non-null  int64  \n",
      " 4   amount                87708 non-null  float64\n",
      " 5   payer_country         87708 non-null  object \n",
      " 6   symbol                33744 non-null  object \n",
      " 7   feed_price            33744 non-null  float64\n",
      " 8   feed_price_retardo_1  33720 non-null  float64\n",
      " 9   feed_price_retardo_2  33694 non-null  float64\n",
      " 10  feed_price_retardo_3  33665 non-null  float64\n",
      " 11  feed_price_retardo_4  33637 non-null  float64\n",
      " 12  feed_price_retardo_5  33608 non-null  float64\n",
      " 13  feed_price_retardo_6  33581 non-null  float64\n",
      " 14  feed_price_retardo_7  33553 non-null  float64\n",
      " 15  var_rate_lag1         33694 non-null  float64\n",
      " 16  var_rate_lag2         33665 non-null  float64\n",
      " 17  var_rate_lag3         33637 non-null  float64\n",
      " 18  var_rate_lag4         33608 non-null  float64\n",
      " 19  var_rate_lag5         33581 non-null  float64\n",
      " 20  var_rate_lag6         33553 non-null  float64\n",
      "dtypes: float64(15), int64(1), object(5)\n",
      "memory usage: 14.1+ MB\n"
     ]
    }
   ],
   "source": [
    "df1.info()"
   ]
  },
  {
   "cell_type": "code",
   "execution_count": 77,
   "id": "83eeccd9-ec25-45f6-89b4-31050a08049f",
   "metadata": {
    "tags": []
   },
   "outputs": [],
   "source": [
    "df_final = pd.merge(df1,df2, on=['date','payer','country', 'amount'])"
   ]
  },
  {
   "cell_type": "code",
   "execution_count": 78,
   "id": "2e8ab62a-e960-4f93-8296-089261c98573",
   "metadata": {
    "tags": []
   },
   "outputs": [],
   "source": [
    "df_final['date'] = pd.to_datetime(df_final['date'])"
   ]
  },
  {
   "cell_type": "code",
   "execution_count": 79,
   "id": "dcffc212-34f1-4d30-90fc-10f71701d5c3",
   "metadata": {
    "tags": []
   },
   "outputs": [
    {
     "data": {
      "text/plain": [
       "24309892564.970997"
      ]
     },
     "execution_count": 79,
     "metadata": {},
     "output_type": "execute_result"
    }
   ],
   "source": [
    "df_final['amount'].sum()"
   ]
  },
  {
   "cell_type": "code",
   "execution_count": 80,
   "id": "fce1e563-3f45-44de-a87c-048ef1678621",
   "metadata": {
    "tags": []
   },
   "outputs": [],
   "source": [
    "### DUMMIES ####"
   ]
  },
  {
   "cell_type": "code",
   "execution_count": 81,
   "id": "b33b3e82-4cc6-402c-bfe2-6237f6f24bf1",
   "metadata": {
    "tags": []
   },
   "outputs": [],
   "source": [
    "# Weekday indicator (dummy)\n",
    "df_final['weekday'] = (df_final['date'].dt.dayofweek < 4).astype(int)"
   ]
  },
  {
   "cell_type": "code",
   "execution_count": 82,
   "id": "6c4b1e7a-61e3-418f-a045-6fbbd33c94da",
   "metadata": {
    "tags": []
   },
   "outputs": [],
   "source": [
    "#WE ADD ONE MORE DAY AFTER CHRISTMAS, NEW YEAR'S EVE AND US INDEPENDENCE (BETTER CAPTURES THE DISTURBANCE).\n",
    "# Special dates list - Format: Month-day \n",
    "special_dates_list = [ '07-04', #US independence day \n",
    "                      '12-25', #Christmas\n",
    "                      '05-11' # Mexico & Colombia - Mother's day\n",
    "                     '01-01', #New Year\n",
    "                     '01-02',\n",
    "                     '12-26',\n",
    "                     '07-05'] \n",
    "\n",
    "# Applying format process special_dates function\n",
    "special_dates_list_processed = [(int(date.split('-')[0]), int(date.split('-')[1])) for date in special_dates_list]"
   ]
  },
  {
   "cell_type": "code",
   "execution_count": 83,
   "id": "1763ed79-0a6f-497f-a4cb-6fa7623cac63",
   "metadata": {
    "tags": []
   },
   "outputs": [],
   "source": [
    "# To check special dates defined by list\n",
    "def mark_special_dates(row):\n",
    "    if (row['date'].month, row['date'].day) in special_dates_list_processed:\n",
    "        return 1\n",
    "    else:\n",
    "        return 0"
   ]
  },
  {
   "cell_type": "code",
   "execution_count": 84,
   "id": "3e59c7b2-f179-49ee-bef1-304003fa8305",
   "metadata": {
    "tags": []
   },
   "outputs": [],
   "source": [
    "# Marking special dates in df\n",
    "df_final['special_dates'] = df_final.apply(lambda row: mark_special_dates(row), axis=1)"
   ]
  },
  {
   "cell_type": "code",
   "execution_count": 85,
   "id": "eb250b21-0550-4440-b32c-210d871974b9",
   "metadata": {
    "tags": []
   },
   "outputs": [
    {
     "data": {
      "text/plain": [
       "(87708, 37)"
      ]
     },
     "execution_count": 85,
     "metadata": {},
     "output_type": "execute_result"
    }
   ],
   "source": [
    "df_final.shape"
   ]
  },
  {
   "cell_type": "code",
   "execution_count": 86,
   "id": "dd353662-2d58-4690-b0a9-1e8dfc292521",
   "metadata": {
    "tags": []
   },
   "outputs": [
    {
     "data": {
      "text/plain": [
       "24309892564.970997"
      ]
     },
     "execution_count": 86,
     "metadata": {},
     "output_type": "execute_result"
    }
   ],
   "source": [
    "df_final['amount'].sum()"
   ]
  },
  {
   "cell_type": "code",
   "execution_count": 87,
   "id": "7eed9a80-e826-4a55-87a5-28ccf2f98c2f",
   "metadata": {},
   "outputs": [
    {
     "data": {
      "text/html": [
       "<div>\n",
       "<style scoped>\n",
       "    .dataframe tbody tr th:only-of-type {\n",
       "        vertical-align: middle;\n",
       "    }\n",
       "\n",
       "    .dataframe tbody tr th {\n",
       "        vertical-align: top;\n",
       "    }\n",
       "\n",
       "    .dataframe thead th {\n",
       "        text-align: right;\n",
       "    }\n",
       "</style>\n",
       "<table border=\"1\" class=\"dataframe\">\n",
       "  <thead>\n",
       "    <tr style=\"text-align: right;\">\n",
       "      <th></th>\n",
       "      <th>payer</th>\n",
       "      <th>country</th>\n",
       "      <th>date</th>\n",
       "      <th>tx</th>\n",
       "      <th>amount</th>\n",
       "      <th>payer_country</th>\n",
       "      <th>symbol</th>\n",
       "      <th>feed_price</th>\n",
       "      <th>feed_price_retardo_1</th>\n",
       "      <th>feed_price_retardo_2</th>\n",
       "      <th>...</th>\n",
       "      <th>tx_cancelled_6</th>\n",
       "      <th>tx_cancelled_7</th>\n",
       "      <th>var_tx_cancelled_1</th>\n",
       "      <th>var_tx_cancelled_2</th>\n",
       "      <th>var_tx_cancelled_3</th>\n",
       "      <th>var_tx_cancelled_4</th>\n",
       "      <th>var_tx_cancelled_5</th>\n",
       "      <th>var_tx_cancelled_6</th>\n",
       "      <th>weekday</th>\n",
       "      <th>special_dates</th>\n",
       "    </tr>\n",
       "  </thead>\n",
       "  <tbody>\n",
       "    <tr>\n",
       "      <th>0</th>\n",
       "      <td>TRANSFERTO - THUNES</td>\n",
       "      <td>BELGIUM</td>\n",
       "      <td>2023-04-03</td>\n",
       "      <td>1</td>\n",
       "      <td>55.55</td>\n",
       "      <td>TRANSFERTO - THUNES_BELGIUM</td>\n",
       "      <td>NaN</td>\n",
       "      <td>NaN</td>\n",
       "      <td>NaN</td>\n",
       "      <td>NaN</td>\n",
       "      <td>...</td>\n",
       "      <td>0.0</td>\n",
       "      <td>0.0</td>\n",
       "      <td>0.0</td>\n",
       "      <td>0.0</td>\n",
       "      <td>0.0</td>\n",
       "      <td>0.0</td>\n",
       "      <td>0.0</td>\n",
       "      <td>0.0</td>\n",
       "      <td>1</td>\n",
       "      <td>0</td>\n",
       "    </tr>\n",
       "    <tr>\n",
       "      <th>1</th>\n",
       "      <td>ARGENPER</td>\n",
       "      <td>PERU</td>\n",
       "      <td>2023-04-03</td>\n",
       "      <td>26</td>\n",
       "      <td>4203.70</td>\n",
       "      <td>ARGENPER_PERU</td>\n",
       "      <td>NaN</td>\n",
       "      <td>NaN</td>\n",
       "      <td>NaN</td>\n",
       "      <td>NaN</td>\n",
       "      <td>...</td>\n",
       "      <td>4.0</td>\n",
       "      <td>2.0</td>\n",
       "      <td>-6.0</td>\n",
       "      <td>0.0</td>\n",
       "      <td>0.0</td>\n",
       "      <td>3.0</td>\n",
       "      <td>-1.0</td>\n",
       "      <td>2.0</td>\n",
       "      <td>1</td>\n",
       "      <td>0</td>\n",
       "    </tr>\n",
       "    <tr>\n",
       "      <th>2</th>\n",
       "      <td>NAFA</td>\n",
       "      <td>GAMBIA, THE</td>\n",
       "      <td>2023-04-03</td>\n",
       "      <td>8</td>\n",
       "      <td>1086.50</td>\n",
       "      <td>NAFA_GAMBIA, THE</td>\n",
       "      <td>NaN</td>\n",
       "      <td>NaN</td>\n",
       "      <td>NaN</td>\n",
       "      <td>NaN</td>\n",
       "      <td>...</td>\n",
       "      <td>1.0</td>\n",
       "      <td>0.0</td>\n",
       "      <td>0.0</td>\n",
       "      <td>0.0</td>\n",
       "      <td>0.0</td>\n",
       "      <td>0.0</td>\n",
       "      <td>-1.0</td>\n",
       "      <td>1.0</td>\n",
       "      <td>1</td>\n",
       "      <td>0</td>\n",
       "    </tr>\n",
       "    <tr>\n",
       "      <th>3</th>\n",
       "      <td>WALDOS (APPRIZA)</td>\n",
       "      <td>MEXICO</td>\n",
       "      <td>2023-08-31</td>\n",
       "      <td>14</td>\n",
       "      <td>4797.50</td>\n",
       "      <td>WALDOS (APPRIZA)_MEXICO</td>\n",
       "      <td>USDMXN</td>\n",
       "      <td>17.0075</td>\n",
       "      <td>16.758</td>\n",
       "      <td>16.797</td>\n",
       "      <td>...</td>\n",
       "      <td>1.0</td>\n",
       "      <td>2.0</td>\n",
       "      <td>-1.0</td>\n",
       "      <td>0.0</td>\n",
       "      <td>-1.0</td>\n",
       "      <td>-1.0</td>\n",
       "      <td>3.0</td>\n",
       "      <td>-1.0</td>\n",
       "      <td>1</td>\n",
       "      <td>0</td>\n",
       "    </tr>\n",
       "    <tr>\n",
       "      <th>4</th>\n",
       "      <td>BANPAIS (RED CHAPINA)</td>\n",
       "      <td>HONDURAS</td>\n",
       "      <td>2021-05-06</td>\n",
       "      <td>43</td>\n",
       "      <td>17493.00</td>\n",
       "      <td>BANPAIS (RED CHAPINA)_HONDURAS</td>\n",
       "      <td>NaN</td>\n",
       "      <td>NaN</td>\n",
       "      <td>NaN</td>\n",
       "      <td>NaN</td>\n",
       "      <td>...</td>\n",
       "      <td>3.0</td>\n",
       "      <td>0.0</td>\n",
       "      <td>-2.0</td>\n",
       "      <td>5.0</td>\n",
       "      <td>0.0</td>\n",
       "      <td>-2.0</td>\n",
       "      <td>-1.0</td>\n",
       "      <td>3.0</td>\n",
       "      <td>1</td>\n",
       "      <td>0</td>\n",
       "    </tr>\n",
       "  </tbody>\n",
       "</table>\n",
       "<p>5 rows × 37 columns</p>\n",
       "</div>"
      ],
      "text/plain": [
       "                   payer      country       date  tx    amount  \\\n",
       "0    TRANSFERTO - THUNES      BELGIUM 2023-04-03   1     55.55   \n",
       "1               ARGENPER         PERU 2023-04-03  26   4203.70   \n",
       "2                   NAFA  GAMBIA, THE 2023-04-03   8   1086.50   \n",
       "3       WALDOS (APPRIZA)       MEXICO 2023-08-31  14   4797.50   \n",
       "4  BANPAIS (RED CHAPINA)     HONDURAS 2021-05-06  43  17493.00   \n",
       "\n",
       "                    payer_country  symbol  feed_price  feed_price_retardo_1  \\\n",
       "0     TRANSFERTO - THUNES_BELGIUM     NaN         NaN                   NaN   \n",
       "1                   ARGENPER_PERU     NaN         NaN                   NaN   \n",
       "2                NAFA_GAMBIA, THE     NaN         NaN                   NaN   \n",
       "3         WALDOS (APPRIZA)_MEXICO  USDMXN     17.0075                16.758   \n",
       "4  BANPAIS (RED CHAPINA)_HONDURAS     NaN         NaN                   NaN   \n",
       "\n",
       "   feed_price_retardo_2  ...  tx_cancelled_6  tx_cancelled_7  \\\n",
       "0                   NaN  ...             0.0             0.0   \n",
       "1                   NaN  ...             4.0             2.0   \n",
       "2                   NaN  ...             1.0             0.0   \n",
       "3                16.797  ...             1.0             2.0   \n",
       "4                   NaN  ...             3.0             0.0   \n",
       "\n",
       "   var_tx_cancelled_1  var_tx_cancelled_2  var_tx_cancelled_3  \\\n",
       "0                 0.0                 0.0                 0.0   \n",
       "1                -6.0                 0.0                 0.0   \n",
       "2                 0.0                 0.0                 0.0   \n",
       "3                -1.0                 0.0                -1.0   \n",
       "4                -2.0                 5.0                 0.0   \n",
       "\n",
       "   var_tx_cancelled_4  var_tx_cancelled_5  var_tx_cancelled_6  weekday  \\\n",
       "0                 0.0                 0.0                 0.0        1   \n",
       "1                 3.0                -1.0                 2.0        1   \n",
       "2                 0.0                -1.0                 1.0        1   \n",
       "3                -1.0                 3.0                -1.0        1   \n",
       "4                -2.0                -1.0                 3.0        1   \n",
       "\n",
       "   special_dates  \n",
       "0              0  \n",
       "1              0  \n",
       "2              0  \n",
       "3              0  \n",
       "4              0  \n",
       "\n",
       "[5 rows x 37 columns]"
      ]
     },
     "execution_count": 87,
     "metadata": {},
     "output_type": "execute_result"
    }
   ],
   "source": [
    "df_final.head()"
   ]
  },
  {
   "cell_type": "code",
   "execution_count": 88,
   "id": "913c367c-7afe-4722-a8bc-12ae5b507b8d",
   "metadata": {
    "tags": []
   },
   "outputs": [],
   "source": [
    "# Checking amount differences between initial universe and final dataframe\n",
    "def country_check(df, df_final):\n",
    "    unique_countries = df_final['country'].unique()\n",
    "    results = []\n",
    "\n",
    "    for country in unique_countries:\n",
    "        total_universe = df[df['country'] == country]['amount'].sum()\n",
    "        total_abt = df_final[df_final['country'] == country]['amount'].sum()\n",
    "        difference = total_universe - total_abt\n",
    "        perc = (1 - total_abt / total_universe) * 100\n",
    "\n",
    "        results.append({\n",
    "            'Country': country,\n",
    "            'Initial Amount': total_universe,\n",
    "            'ABT Amount': total_abt,\n",
    "            'Diff Initial-ABT': difference,\n",
    "            '% Diff': perc\n",
    "        })\n",
    "\n",
    "    return pd.DataFrame(results)\n",
    "\n",
    "# Usage:\n",
    "country_totals = country_check(df, df_final)\n"
   ]
  },
  {
   "cell_type": "code",
   "execution_count": 89,
   "id": "2e12a33e-0e88-4b73-8237-85a899f81021",
   "metadata": {
    "tags": []
   },
   "outputs": [
    {
     "data": {
      "text/html": [
       "<div>\n",
       "<style scoped>\n",
       "    .dataframe tbody tr th:only-of-type {\n",
       "        vertical-align: middle;\n",
       "    }\n",
       "\n",
       "    .dataframe tbody tr th {\n",
       "        vertical-align: top;\n",
       "    }\n",
       "\n",
       "    .dataframe thead th {\n",
       "        text-align: right;\n",
       "    }\n",
       "</style>\n",
       "<table border=\"1\" class=\"dataframe\">\n",
       "  <thead>\n",
       "    <tr style=\"text-align: right;\">\n",
       "      <th></th>\n",
       "      <th>Country</th>\n",
       "      <th>Initial Amount</th>\n",
       "      <th>ABT Amount</th>\n",
       "      <th>Diff Initial-ABT</th>\n",
       "      <th>% Diff</th>\n",
       "    </tr>\n",
       "  </thead>\n",
       "  <tbody>\n",
       "    <tr>\n",
       "      <th>3</th>\n",
       "      <td>MEXICO</td>\n",
       "      <td>1.365501e+10</td>\n",
       "      <td>1.291003e+10</td>\n",
       "      <td>7.449805e+08</td>\n",
       "      <td>5.455731</td>\n",
       "    </tr>\n",
       "    <tr>\n",
       "      <th>8</th>\n",
       "      <td>BRAZIL</td>\n",
       "      <td>7.296333e+08</td>\n",
       "      <td>7.296333e+08</td>\n",
       "      <td>0.000000e+00</td>\n",
       "      <td>0.000000</td>\n",
       "    </tr>\n",
       "    <tr>\n",
       "      <th>10</th>\n",
       "      <td>PHILIPPINES</td>\n",
       "      <td>6.902826e+08</td>\n",
       "      <td>6.902826e+08</td>\n",
       "      <td>0.000000e+00</td>\n",
       "      <td>0.000000</td>\n",
       "    </tr>\n",
       "    <tr>\n",
       "      <th>13</th>\n",
       "      <td>GUATEMALA</td>\n",
       "      <td>5.804712e+09</td>\n",
       "      <td>5.804710e+09</td>\n",
       "      <td>2.089670e+03</td>\n",
       "      <td>0.000036</td>\n",
       "    </tr>\n",
       "    <tr>\n",
       "      <th>29</th>\n",
       "      <td>INDIA</td>\n",
       "      <td>6.678685e+06</td>\n",
       "      <td>6.521721e+06</td>\n",
       "      <td>1.569641e+05</td>\n",
       "      <td>2.350224</td>\n",
       "    </tr>\n",
       "  </tbody>\n",
       "</table>\n",
       "</div>"
      ],
      "text/plain": [
       "        Country  Initial Amount    ABT Amount  Diff Initial-ABT    % Diff\n",
       "3        MEXICO    1.365501e+10  1.291003e+10      7.449805e+08  5.455731\n",
       "8        BRAZIL    7.296333e+08  7.296333e+08      0.000000e+00  0.000000\n",
       "10  PHILIPPINES    6.902826e+08  6.902826e+08      0.000000e+00  0.000000\n",
       "13    GUATEMALA    5.804712e+09  5.804710e+09      2.089670e+03  0.000036\n",
       "29        INDIA    6.678685e+06  6.521721e+06      1.569641e+05  2.350224"
      ]
     },
     "execution_count": 89,
     "metadata": {},
     "output_type": "execute_result"
    }
   ],
   "source": [
    "country_totals[country_totals['Country'].isin(rates_dict.values())]"
   ]
  },
  {
   "cell_type": "code",
   "execution_count": 90,
   "id": "6293d98e-a18f-4e89-836a-ecb9dd398767",
   "metadata": {
    "tags": []
   },
   "outputs": [],
   "source": [
    "### ME QUEDO POR AHORA SOLAMENTE CON LO QUE TIENE VALORES EN RATES ###"
   ]
  },
  {
   "cell_type": "code",
   "execution_count": 91,
   "id": "65747339-e9a1-46e6-a00d-3b90a6ad68d3",
   "metadata": {
    "tags": []
   },
   "outputs": [],
   "source": [
    "#df_ABT1 = df_final[df_final['country'].isin(rates_dict.values())]\n",
    "#df_ABT1['amount'].sum(), len(df_ABT1)"
   ]
  },
  {
   "cell_type": "code",
   "execution_count": 92,
   "id": "e5bda186-5aaf-41cf-84ba-1c15376a4576",
   "metadata": {},
   "outputs": [],
   "source": [
    "#df_ABT2 = df_final[~df_final['symbol'].isnull()]\n",
    "#df_ABT2['amount'].sum(), len(df_ABT2)"
   ]
  },
  {
   "cell_type": "code",
   "execution_count": 93,
   "id": "069a3289-5a0d-4200-9d6b-d297167f425e",
   "metadata": {
    "tags": []
   },
   "outputs": [],
   "source": [
    "#df_final[~df_final['symbol'].isnull()]['country'].unique()"
   ]
  },
  {
   "cell_type": "code",
   "execution_count": 94,
   "id": "d02f5107-a0b9-49ce-b574-8f33835f7da2",
   "metadata": {
    "tags": []
   },
   "outputs": [],
   "source": [
    "# EL PROBLEMA ESTARIA EN QUE HAY RATES NULOS PARA ALGUNAS FECHAS/PAISES\n",
    "# SOLUCIONADO"
   ]
  },
  {
   "cell_type": "code",
   "execution_count": 95,
   "id": "aa94bdb2-2133-4073-ac02-a710c77b322f",
   "metadata": {},
   "outputs": [],
   "source": [
    "##META AL 5/01/2024 OBTENER LA BASE CON UNIVERSO DEFINIDO Y VARIABLES DE FECHAS ESPECIALES, DIAS, MONTOS, VAR RATES Y VARIACIONES DE TX_CANCELLED"
   ]
  },
  {
   "cell_type": "code",
   "execution_count": 96,
   "id": "c19edc71-21cb-4b78-bf16-004c46b1e583",
   "metadata": {
    "tags": []
   },
   "outputs": [
    {
     "name": "stdout",
     "output_type": "stream",
     "text": [
      "<class 'pandas.core.frame.DataFrame'>\n",
      "RangeIndex: 87708 entries, 0 to 87707\n",
      "Data columns (total 37 columns):\n",
      " #   Column                Non-Null Count  Dtype         \n",
      "---  ------                --------------  -----         \n",
      " 0   payer                 87708 non-null  object        \n",
      " 1   country               87708 non-null  object        \n",
      " 2   date                  87708 non-null  datetime64[ns]\n",
      " 3   tx                    87708 non-null  int64         \n",
      " 4   amount                87708 non-null  float64       \n",
      " 5   payer_country         87708 non-null  object        \n",
      " 6   symbol                33744 non-null  object        \n",
      " 7   feed_price            33744 non-null  float64       \n",
      " 8   feed_price_retardo_1  33720 non-null  float64       \n",
      " 9   feed_price_retardo_2  33694 non-null  float64       \n",
      " 10  feed_price_retardo_3  33665 non-null  float64       \n",
      " 11  feed_price_retardo_4  33637 non-null  float64       \n",
      " 12  feed_price_retardo_5  33608 non-null  float64       \n",
      " 13  feed_price_retardo_6  33581 non-null  float64       \n",
      " 14  feed_price_retardo_7  33553 non-null  float64       \n",
      " 15  var_rate_lag1         33694 non-null  float64       \n",
      " 16  var_rate_lag2         33665 non-null  float64       \n",
      " 17  var_rate_lag3         33637 non-null  float64       \n",
      " 18  var_rate_lag4         33608 non-null  float64       \n",
      " 19  var_rate_lag5         33581 non-null  float64       \n",
      " 20  var_rate_lag6         33553 non-null  float64       \n",
      " 21  tx_cancelled          87708 non-null  int64         \n",
      " 22  tx_cancelled_1        87608 non-null  float64       \n",
      " 23  tx_cancelled_2        87510 non-null  float64       \n",
      " 24  tx_cancelled_3        87404 non-null  float64       \n",
      " 25  tx_cancelled_4        87289 non-null  float64       \n",
      " 26  tx_cancelled_5        87175 non-null  float64       \n",
      " 27  tx_cancelled_6        87065 non-null  float64       \n",
      " 28  tx_cancelled_7        86952 non-null  float64       \n",
      " 29  var_tx_cancelled_1    87510 non-null  float64       \n",
      " 30  var_tx_cancelled_2    87404 non-null  float64       \n",
      " 31  var_tx_cancelled_3    87289 non-null  float64       \n",
      " 32  var_tx_cancelled_4    87175 non-null  float64       \n",
      " 33  var_tx_cancelled_5    87065 non-null  float64       \n",
      " 34  var_tx_cancelled_6    86952 non-null  float64       \n",
      " 35  weekday               87708 non-null  int64         \n",
      " 36  special_dates         87708 non-null  int64         \n",
      "dtypes: datetime64[ns](1), float64(28), int64(4), object(4)\n",
      "memory usage: 24.8+ MB\n"
     ]
    }
   ],
   "source": [
    "df_final.info()"
   ]
  },
  {
   "cell_type": "code",
   "execution_count": 97,
   "id": "5e9600a4-7a19-4d11-b059-a5c7c258e948",
   "metadata": {
    "tags": []
   },
   "outputs": [
    {
     "data": {
      "text/plain": [
       "130"
      ]
     },
     "execution_count": 97,
     "metadata": {},
     "output_type": "execute_result"
    }
   ],
   "source": [
    "df_final.payer_country.nunique()"
   ]
  },
  {
   "cell_type": "code",
   "execution_count": 98,
   "id": "636a75eb-c9d0-4afa-a4cb-8fa21d19e8b9",
   "metadata": {
    "tags": []
   },
   "outputs": [],
   "source": [
    "### Combining payer and country, we can obtain a column to work on \n",
    "# We can enconde it to obtain better results\n",
    "from sklearn.preprocessing import LabelEncoder\n",
    "# Inicializar LabelEncoder\n",
    "label_encoder = LabelEncoder()\n",
    "# Codificar ‘PAYER_COUNTRY’ como valores numéricos únicos\n",
    "df_final['payer_country_encoder'] = label_encoder.fit_transform(df_final['payer_country'])"
   ]
  },
  {
   "cell_type": "code",
   "execution_count": 99,
   "id": "73f4f651-51a1-496a-b0ff-de5627ab1209",
   "metadata": {
    "tags": []
   },
   "outputs": [
    {
     "data": {
      "text/plain": [
       "130"
      ]
     },
     "execution_count": 99,
     "metadata": {},
     "output_type": "execute_result"
    }
   ],
   "source": [
    "df_final.payer_country_encoder.nunique()"
   ]
  },
  {
   "cell_type": "code",
   "execution_count": 100,
   "id": "5dee3722-206c-4f55-8814-34a5c8f43438",
   "metadata": {
    "tags": []
   },
   "outputs": [
    {
     "data": {
      "text/html": [
       "<div>\n",
       "<style scoped>\n",
       "    .dataframe tbody tr th:only-of-type {\n",
       "        vertical-align: middle;\n",
       "    }\n",
       "\n",
       "    .dataframe tbody tr th {\n",
       "        vertical-align: top;\n",
       "    }\n",
       "\n",
       "    .dataframe thead th {\n",
       "        text-align: right;\n",
       "    }\n",
       "</style>\n",
       "<table border=\"1\" class=\"dataframe\">\n",
       "  <thead>\n",
       "    <tr style=\"text-align: right;\">\n",
       "      <th></th>\n",
       "      <th>payer</th>\n",
       "      <th>country</th>\n",
       "      <th>date</th>\n",
       "      <th>tx</th>\n",
       "      <th>amount</th>\n",
       "      <th>payer_country</th>\n",
       "      <th>symbol</th>\n",
       "      <th>feed_price</th>\n",
       "      <th>feed_price_retardo_1</th>\n",
       "      <th>feed_price_retardo_2</th>\n",
       "      <th>...</th>\n",
       "      <th>tx_cancelled_7</th>\n",
       "      <th>var_tx_cancelled_1</th>\n",
       "      <th>var_tx_cancelled_2</th>\n",
       "      <th>var_tx_cancelled_3</th>\n",
       "      <th>var_tx_cancelled_4</th>\n",
       "      <th>var_tx_cancelled_5</th>\n",
       "      <th>var_tx_cancelled_6</th>\n",
       "      <th>weekday</th>\n",
       "      <th>special_dates</th>\n",
       "      <th>payer_country_encoder</th>\n",
       "    </tr>\n",
       "  </thead>\n",
       "  <tbody>\n",
       "    <tr>\n",
       "      <th>310</th>\n",
       "      <td>BANCO INDUSTRIAL</td>\n",
       "      <td>GUATEMALA</td>\n",
       "      <td>2022-02-17</td>\n",
       "      <td>2167</td>\n",
       "      <td>1234160.10</td>\n",
       "      <td>BANCO INDUSTRIAL_GUATEMALA</td>\n",
       "      <td>USDGTQ</td>\n",
       "      <td>7.6870</td>\n",
       "      <td>7.6919</td>\n",
       "      <td>7.6870</td>\n",
       "      <td>...</td>\n",
       "      <td>111.0</td>\n",
       "      <td>-43.0</td>\n",
       "      <td>42.0</td>\n",
       "      <td>-10.0</td>\n",
       "      <td>-10.0</td>\n",
       "      <td>29.0</td>\n",
       "      <td>-7.0</td>\n",
       "      <td>1</td>\n",
       "      <td>0</td>\n",
       "      <td>24</td>\n",
       "    </tr>\n",
       "    <tr>\n",
       "      <th>557</th>\n",
       "      <td>BANCO INDUSTRIAL</td>\n",
       "      <td>GUATEMALA</td>\n",
       "      <td>2021-09-04</td>\n",
       "      <td>3814</td>\n",
       "      <td>1979140.06</td>\n",
       "      <td>BANCO INDUSTRIAL_GUATEMALA</td>\n",
       "      <td>USDGTQ</td>\n",
       "      <td>7.7394</td>\n",
       "      <td>7.7394</td>\n",
       "      <td>7.7336</td>\n",
       "      <td>...</td>\n",
       "      <td>149.0</td>\n",
       "      <td>50.0</td>\n",
       "      <td>-8.0</td>\n",
       "      <td>-29.0</td>\n",
       "      <td>-31.0</td>\n",
       "      <td>-13.0</td>\n",
       "      <td>1.0</td>\n",
       "      <td>0</td>\n",
       "      <td>0</td>\n",
       "      <td>24</td>\n",
       "    </tr>\n",
       "    <tr>\n",
       "      <th>1412</th>\n",
       "      <td>BANCO INDUSTRIAL</td>\n",
       "      <td>GUATEMALA</td>\n",
       "      <td>2023-07-22</td>\n",
       "      <td>7961</td>\n",
       "      <td>4076555.45</td>\n",
       "      <td>BANCO INDUSTRIAL_GUATEMALA</td>\n",
       "      <td>USDGTQ</td>\n",
       "      <td>7.8454</td>\n",
       "      <td>7.8489</td>\n",
       "      <td>7.8737</td>\n",
       "      <td>...</td>\n",
       "      <td>206.0</td>\n",
       "      <td>50.0</td>\n",
       "      <td>-37.0</td>\n",
       "      <td>-10.0</td>\n",
       "      <td>-38.0</td>\n",
       "      <td>-69.0</td>\n",
       "      <td>65.0</td>\n",
       "      <td>0</td>\n",
       "      <td>0</td>\n",
       "      <td>24</td>\n",
       "    </tr>\n",
       "    <tr>\n",
       "      <th>1643</th>\n",
       "      <td>BANCO INDUSTRIAL</td>\n",
       "      <td>GUATEMALA</td>\n",
       "      <td>2022-08-15</td>\n",
       "      <td>4407</td>\n",
       "      <td>2549921.51</td>\n",
       "      <td>BANCO INDUSTRIAL_GUATEMALA</td>\n",
       "      <td>USDGTQ</td>\n",
       "      <td>7.7592</td>\n",
       "      <td>7.7487</td>\n",
       "      <td>7.7385</td>\n",
       "      <td>...</td>\n",
       "      <td>184.0</td>\n",
       "      <td>38.0</td>\n",
       "      <td>45.0</td>\n",
       "      <td>44.0</td>\n",
       "      <td>-38.0</td>\n",
       "      <td>8.0</td>\n",
       "      <td>-61.0</td>\n",
       "      <td>1</td>\n",
       "      <td>0</td>\n",
       "      <td>24</td>\n",
       "    </tr>\n",
       "    <tr>\n",
       "      <th>2131</th>\n",
       "      <td>BANCO INDUSTRIAL</td>\n",
       "      <td>GUATEMALA</td>\n",
       "      <td>2021-01-18</td>\n",
       "      <td>2562</td>\n",
       "      <td>1349597.56</td>\n",
       "      <td>BANCO INDUSTRIAL_GUATEMALA</td>\n",
       "      <td>USDGTQ</td>\n",
       "      <td>7.7812</td>\n",
       "      <td>7.8185</td>\n",
       "      <td>7.8184</td>\n",
       "      <td>...</td>\n",
       "      <td>99.0</td>\n",
       "      <td>7.0</td>\n",
       "      <td>47.0</td>\n",
       "      <td>6.0</td>\n",
       "      <td>-14.0</td>\n",
       "      <td>0.0</td>\n",
       "      <td>-19.0</td>\n",
       "      <td>1</td>\n",
       "      <td>0</td>\n",
       "      <td>24</td>\n",
       "    </tr>\n",
       "    <tr>\n",
       "      <th>...</th>\n",
       "      <td>...</td>\n",
       "      <td>...</td>\n",
       "      <td>...</td>\n",
       "      <td>...</td>\n",
       "      <td>...</td>\n",
       "      <td>...</td>\n",
       "      <td>...</td>\n",
       "      <td>...</td>\n",
       "      <td>...</td>\n",
       "      <td>...</td>\n",
       "      <td>...</td>\n",
       "      <td>...</td>\n",
       "      <td>...</td>\n",
       "      <td>...</td>\n",
       "      <td>...</td>\n",
       "      <td>...</td>\n",
       "      <td>...</td>\n",
       "      <td>...</td>\n",
       "      <td>...</td>\n",
       "      <td>...</td>\n",
       "      <td>...</td>\n",
       "    </tr>\n",
       "    <tr>\n",
       "      <th>87433</th>\n",
       "      <td>BANCO INDUSTRIAL</td>\n",
       "      <td>GUATEMALA</td>\n",
       "      <td>2021-07-16</td>\n",
       "      <td>3111</td>\n",
       "      <td>1606685.45</td>\n",
       "      <td>BANCO INDUSTRIAL_GUATEMALA</td>\n",
       "      <td>USDGTQ</td>\n",
       "      <td>7.7505</td>\n",
       "      <td>7.7515</td>\n",
       "      <td>7.7339</td>\n",
       "      <td>...</td>\n",
       "      <td>126.0</td>\n",
       "      <td>7.0</td>\n",
       "      <td>-31.0</td>\n",
       "      <td>-30.0</td>\n",
       "      <td>12.0</td>\n",
       "      <td>16.0</td>\n",
       "      <td>-12.0</td>\n",
       "      <td>0</td>\n",
       "      <td>0</td>\n",
       "      <td>24</td>\n",
       "    </tr>\n",
       "    <tr>\n",
       "      <th>87497</th>\n",
       "      <td>BANCO INDUSTRIAL</td>\n",
       "      <td>GUATEMALA</td>\n",
       "      <td>2023-07-30</td>\n",
       "      <td>7831</td>\n",
       "      <td>4418577.28</td>\n",
       "      <td>BANCO INDUSTRIAL_GUATEMALA</td>\n",
       "      <td>USDGTQ</td>\n",
       "      <td>7.8289</td>\n",
       "      <td>7.8240</td>\n",
       "      <td>7.8341</td>\n",
       "      <td>...</td>\n",
       "      <td>237.0</td>\n",
       "      <td>70.0</td>\n",
       "      <td>26.0</td>\n",
       "      <td>-37.0</td>\n",
       "      <td>4.0</td>\n",
       "      <td>-53.0</td>\n",
       "      <td>-32.0</td>\n",
       "      <td>0</td>\n",
       "      <td>0</td>\n",
       "      <td>24</td>\n",
       "    </tr>\n",
       "    <tr>\n",
       "      <th>87527</th>\n",
       "      <td>BANCO INDUSTRIAL</td>\n",
       "      <td>GUATEMALA</td>\n",
       "      <td>2022-06-02</td>\n",
       "      <td>2588</td>\n",
       "      <td>1647573.50</td>\n",
       "      <td>BANCO INDUSTRIAL_GUATEMALA</td>\n",
       "      <td>USDGTQ</td>\n",
       "      <td>7.6871</td>\n",
       "      <td>7.7062</td>\n",
       "      <td>7.6682</td>\n",
       "      <td>...</td>\n",
       "      <td>93.0</td>\n",
       "      <td>-17.0</td>\n",
       "      <td>4.0</td>\n",
       "      <td>-44.0</td>\n",
       "      <td>6.0</td>\n",
       "      <td>53.0</td>\n",
       "      <td>37.0</td>\n",
       "      <td>1</td>\n",
       "      <td>0</td>\n",
       "      <td>24</td>\n",
       "    </tr>\n",
       "    <tr>\n",
       "      <th>87545</th>\n",
       "      <td>BANCO INDUSTRIAL</td>\n",
       "      <td>GUATEMALA</td>\n",
       "      <td>2022-03-08</td>\n",
       "      <td>2728</td>\n",
       "      <td>1607511.69</td>\n",
       "      <td>BANCO INDUSTRIAL_GUATEMALA</td>\n",
       "      <td>USDGTQ</td>\n",
       "      <td>7.6942</td>\n",
       "      <td>7.6986</td>\n",
       "      <td>7.7469</td>\n",
       "      <td>...</td>\n",
       "      <td>122.0</td>\n",
       "      <td>-22.0</td>\n",
       "      <td>-2.0</td>\n",
       "      <td>21.0</td>\n",
       "      <td>37.0</td>\n",
       "      <td>-6.0</td>\n",
       "      <td>-14.0</td>\n",
       "      <td>1</td>\n",
       "      <td>0</td>\n",
       "      <td>24</td>\n",
       "    </tr>\n",
       "    <tr>\n",
       "      <th>87703</th>\n",
       "      <td>BANCO INDUSTRIAL</td>\n",
       "      <td>GUATEMALA</td>\n",
       "      <td>2021-01-02</td>\n",
       "      <td>2005</td>\n",
       "      <td>981210.84</td>\n",
       "      <td>BANCO INDUSTRIAL_GUATEMALA</td>\n",
       "      <td>USDGTQ</td>\n",
       "      <td>7.8335</td>\n",
       "      <td>7.8335</td>\n",
       "      <td>NaN</td>\n",
       "      <td>...</td>\n",
       "      <td>NaN</td>\n",
       "      <td>-35.0</td>\n",
       "      <td>NaN</td>\n",
       "      <td>NaN</td>\n",
       "      <td>NaN</td>\n",
       "      <td>NaN</td>\n",
       "      <td>NaN</td>\n",
       "      <td>0</td>\n",
       "      <td>1</td>\n",
       "      <td>24</td>\n",
       "    </tr>\n",
       "  </tbody>\n",
       "</table>\n",
       "<p>1025 rows × 38 columns</p>\n",
       "</div>"
      ],
      "text/plain": [
       "                  payer    country       date    tx      amount  \\\n",
       "310    BANCO INDUSTRIAL  GUATEMALA 2022-02-17  2167  1234160.10   \n",
       "557    BANCO INDUSTRIAL  GUATEMALA 2021-09-04  3814  1979140.06   \n",
       "1412   BANCO INDUSTRIAL  GUATEMALA 2023-07-22  7961  4076555.45   \n",
       "1643   BANCO INDUSTRIAL  GUATEMALA 2022-08-15  4407  2549921.51   \n",
       "2131   BANCO INDUSTRIAL  GUATEMALA 2021-01-18  2562  1349597.56   \n",
       "...                 ...        ...        ...   ...         ...   \n",
       "87433  BANCO INDUSTRIAL  GUATEMALA 2021-07-16  3111  1606685.45   \n",
       "87497  BANCO INDUSTRIAL  GUATEMALA 2023-07-30  7831  4418577.28   \n",
       "87527  BANCO INDUSTRIAL  GUATEMALA 2022-06-02  2588  1647573.50   \n",
       "87545  BANCO INDUSTRIAL  GUATEMALA 2022-03-08  2728  1607511.69   \n",
       "87703  BANCO INDUSTRIAL  GUATEMALA 2021-01-02  2005   981210.84   \n",
       "\n",
       "                    payer_country  symbol  feed_price  feed_price_retardo_1  \\\n",
       "310    BANCO INDUSTRIAL_GUATEMALA  USDGTQ      7.6870                7.6919   \n",
       "557    BANCO INDUSTRIAL_GUATEMALA  USDGTQ      7.7394                7.7394   \n",
       "1412   BANCO INDUSTRIAL_GUATEMALA  USDGTQ      7.8454                7.8489   \n",
       "1643   BANCO INDUSTRIAL_GUATEMALA  USDGTQ      7.7592                7.7487   \n",
       "2131   BANCO INDUSTRIAL_GUATEMALA  USDGTQ      7.7812                7.8185   \n",
       "...                           ...     ...         ...                   ...   \n",
       "87433  BANCO INDUSTRIAL_GUATEMALA  USDGTQ      7.7505                7.7515   \n",
       "87497  BANCO INDUSTRIAL_GUATEMALA  USDGTQ      7.8289                7.8240   \n",
       "87527  BANCO INDUSTRIAL_GUATEMALA  USDGTQ      7.6871                7.7062   \n",
       "87545  BANCO INDUSTRIAL_GUATEMALA  USDGTQ      7.6942                7.6986   \n",
       "87703  BANCO INDUSTRIAL_GUATEMALA  USDGTQ      7.8335                7.8335   \n",
       "\n",
       "       feed_price_retardo_2  ...  tx_cancelled_7  var_tx_cancelled_1  \\\n",
       "310                  7.6870  ...           111.0               -43.0   \n",
       "557                  7.7336  ...           149.0                50.0   \n",
       "1412                 7.8737  ...           206.0                50.0   \n",
       "1643                 7.7385  ...           184.0                38.0   \n",
       "2131                 7.8184  ...            99.0                 7.0   \n",
       "...                     ...  ...             ...                 ...   \n",
       "87433                7.7339  ...           126.0                 7.0   \n",
       "87497                7.8341  ...           237.0                70.0   \n",
       "87527                7.6682  ...            93.0               -17.0   \n",
       "87545                7.7469  ...           122.0               -22.0   \n",
       "87703                   NaN  ...             NaN               -35.0   \n",
       "\n",
       "       var_tx_cancelled_2  var_tx_cancelled_3  var_tx_cancelled_4  \\\n",
       "310                  42.0               -10.0               -10.0   \n",
       "557                  -8.0               -29.0               -31.0   \n",
       "1412                -37.0               -10.0               -38.0   \n",
       "1643                 45.0                44.0               -38.0   \n",
       "2131                 47.0                 6.0               -14.0   \n",
       "...                   ...                 ...                 ...   \n",
       "87433               -31.0               -30.0                12.0   \n",
       "87497                26.0               -37.0                 4.0   \n",
       "87527                 4.0               -44.0                 6.0   \n",
       "87545                -2.0                21.0                37.0   \n",
       "87703                 NaN                 NaN                 NaN   \n",
       "\n",
       "       var_tx_cancelled_5  var_tx_cancelled_6  weekday  special_dates  \\\n",
       "310                  29.0                -7.0        1              0   \n",
       "557                 -13.0                 1.0        0              0   \n",
       "1412                -69.0                65.0        0              0   \n",
       "1643                  8.0               -61.0        1              0   \n",
       "2131                  0.0               -19.0        1              0   \n",
       "...                   ...                 ...      ...            ...   \n",
       "87433                16.0               -12.0        0              0   \n",
       "87497               -53.0               -32.0        0              0   \n",
       "87527                53.0                37.0        1              0   \n",
       "87545                -6.0               -14.0        1              0   \n",
       "87703                 NaN                 NaN        0              1   \n",
       "\n",
       "       payer_country_encoder  \n",
       "310                       24  \n",
       "557                       24  \n",
       "1412                      24  \n",
       "1643                      24  \n",
       "2131                      24  \n",
       "...                      ...  \n",
       "87433                     24  \n",
       "87497                     24  \n",
       "87527                     24  \n",
       "87545                     24  \n",
       "87703                     24  \n",
       "\n",
       "[1025 rows x 38 columns]"
      ]
     },
     "execution_count": 100,
     "metadata": {},
     "output_type": "execute_result"
    }
   ],
   "source": [
    "#df_consulta=df_final.loc[df_final.payer=='ELEKTRA (MEXICO)']\n",
    "#df_consulta\n",
    "##ELEKTRA MÉXICO TIENE EL ITEM_ID==57\n",
    "df_consulta=df_final.loc[(df_final.payer=='BANCO INDUSTRIAL') & (df_final.country=='GUATEMALA')]\n",
    "df_consulta\n",
    "##BANCO INDUSTRAIL DE GUATEMALA TIENE EL ITEM_ID==24"
   ]
  },
  {
   "cell_type": "code",
   "execution_count": 101,
   "id": "4b7701d5-6d4c-49a1-8c97-5dfe3627a4e1",
   "metadata": {
    "tags": []
   },
   "outputs": [
    {
     "data": {
      "text/html": [
       "<div>\n",
       "<style scoped>\n",
       "    .dataframe tbody tr th:only-of-type {\n",
       "        vertical-align: middle;\n",
       "    }\n",
       "\n",
       "    .dataframe tbody tr th {\n",
       "        vertical-align: top;\n",
       "    }\n",
       "\n",
       "    .dataframe thead th {\n",
       "        text-align: right;\n",
       "    }\n",
       "</style>\n",
       "<table border=\"1\" class=\"dataframe\">\n",
       "  <thead>\n",
       "    <tr style=\"text-align: right;\">\n",
       "      <th></th>\n",
       "      <th>payer</th>\n",
       "      <th>country</th>\n",
       "      <th>date</th>\n",
       "      <th>tx</th>\n",
       "      <th>amount</th>\n",
       "      <th>payer_country</th>\n",
       "      <th>symbol</th>\n",
       "      <th>feed_price</th>\n",
       "      <th>feed_price_retardo_1</th>\n",
       "      <th>feed_price_retardo_2</th>\n",
       "      <th>...</th>\n",
       "      <th>tx_cancelled_7</th>\n",
       "      <th>var_tx_cancelled_1</th>\n",
       "      <th>var_tx_cancelled_2</th>\n",
       "      <th>var_tx_cancelled_3</th>\n",
       "      <th>var_tx_cancelled_4</th>\n",
       "      <th>var_tx_cancelled_5</th>\n",
       "      <th>var_tx_cancelled_6</th>\n",
       "      <th>weekday</th>\n",
       "      <th>special_dates</th>\n",
       "      <th>payer_country_encoder</th>\n",
       "    </tr>\n",
       "  </thead>\n",
       "  <tbody>\n",
       "    <tr>\n",
       "      <th>53</th>\n",
       "      <td>BANCO ATLANTIDA</td>\n",
       "      <td>HONDURAS</td>\n",
       "      <td>2023-10-05</td>\n",
       "      <td>1083</td>\n",
       "      <td>322778.68</td>\n",
       "      <td>BANCO ATLANTIDA_HONDURAS</td>\n",
       "      <td>NaN</td>\n",
       "      <td>NaN</td>\n",
       "      <td>NaN</td>\n",
       "      <td>NaN</td>\n",
       "      <td>...</td>\n",
       "      <td>34.0</td>\n",
       "      <td>-5.0</td>\n",
       "      <td>-27.0</td>\n",
       "      <td>13.0</td>\n",
       "      <td>-19.0</td>\n",
       "      <td>35.0</td>\n",
       "      <td>25.0</td>\n",
       "      <td>1</td>\n",
       "      <td>0</td>\n",
       "      <td>12</td>\n",
       "    </tr>\n",
       "    <tr>\n",
       "      <th>313</th>\n",
       "      <td>BANCO ATLANTIDA</td>\n",
       "      <td>HONDURAS</td>\n",
       "      <td>2022-11-07</td>\n",
       "      <td>888</td>\n",
       "      <td>357425.13</td>\n",
       "      <td>BANCO ATLANTIDA_HONDURAS</td>\n",
       "      <td>NaN</td>\n",
       "      <td>NaN</td>\n",
       "      <td>NaN</td>\n",
       "      <td>NaN</td>\n",
       "      <td>...</td>\n",
       "      <td>66.0</td>\n",
       "      <td>2.0</td>\n",
       "      <td>-2.0</td>\n",
       "      <td>17.0</td>\n",
       "      <td>-6.0</td>\n",
       "      <td>-3.0</td>\n",
       "      <td>-10.0</td>\n",
       "      <td>1</td>\n",
       "      <td>0</td>\n",
       "      <td>12</td>\n",
       "    </tr>\n",
       "  </tbody>\n",
       "</table>\n",
       "<p>2 rows × 38 columns</p>\n",
       "</div>"
      ],
      "text/plain": [
       "               payer   country       date    tx     amount  \\\n",
       "53   BANCO ATLANTIDA  HONDURAS 2023-10-05  1083  322778.68   \n",
       "313  BANCO ATLANTIDA  HONDURAS 2022-11-07   888  357425.13   \n",
       "\n",
       "                payer_country symbol  feed_price  feed_price_retardo_1  \\\n",
       "53   BANCO ATLANTIDA_HONDURAS    NaN         NaN                   NaN   \n",
       "313  BANCO ATLANTIDA_HONDURAS    NaN         NaN                   NaN   \n",
       "\n",
       "     feed_price_retardo_2  ...  tx_cancelled_7  var_tx_cancelled_1  \\\n",
       "53                    NaN  ...            34.0                -5.0   \n",
       "313                   NaN  ...            66.0                 2.0   \n",
       "\n",
       "     var_tx_cancelled_2  var_tx_cancelled_3  var_tx_cancelled_4  \\\n",
       "53                -27.0                13.0               -19.0   \n",
       "313                -2.0                17.0                -6.0   \n",
       "\n",
       "     var_tx_cancelled_5  var_tx_cancelled_6  weekday  special_dates  \\\n",
       "53                 35.0                25.0        1              0   \n",
       "313                -3.0               -10.0        1              0   \n",
       "\n",
       "     payer_country_encoder  \n",
       "53                      12  \n",
       "313                     12  \n",
       "\n",
       "[2 rows x 38 columns]"
      ]
     },
     "execution_count": 101,
     "metadata": {},
     "output_type": "execute_result"
    }
   ],
   "source": [
    "df_consulta2=df_final.loc[df_final.payer_country_encoder==12]\n",
    "df_consulta2.head(2)"
   ]
  },
  {
   "cell_type": "code",
   "execution_count": 102,
   "id": "004f9537-8f88-4670-8cc0-c61823d2d6df",
   "metadata": {
    "tags": []
   },
   "outputs": [],
   "source": [
    "####GENERATE A FILE WITH THE VARIABLES ITEM_ID, TIMESTAMP AND VALUE (AMOUNT) FOR AWS FORECAST##"
   ]
  },
  {
   "cell_type": "code",
   "execution_count": 103,
   "id": "9f89093b-f597-4ca2-a6d0-63845100b2f9",
   "metadata": {
    "tags": []
   },
   "outputs": [
    {
     "name": "stdout",
     "output_type": "stream",
     "text": [
      "<class 'pandas.core.frame.DataFrame'>\n",
      "RangeIndex: 87708 entries, 0 to 87707\n",
      "Data columns (total 3 columns):\n",
      " #   Column        Non-Null Count  Dtype         \n",
      "---  ------        --------------  -----         \n",
      " 0   item_id       87708 non-null  int64         \n",
      " 1   timestamp     87708 non-null  datetime64[ns]\n",
      " 2   target_value  87708 non-null  float64       \n",
      "dtypes: datetime64[ns](1), float64(1), int64(1)\n",
      "memory usage: 2.0 MB\n"
     ]
    }
   ],
   "source": [
    "target_ts_amount=df_final.loc[:, ['payer_country_encoder', 'date', 'amount']]\n",
    "target_ts_amount.rename(columns={'payer_country_encoder': 'item_id', 'date': 'timestamp', 'amount': 'target_value'}, inplace=True)\n",
    "target_ts_amount.info()"
   ]
  },
  {
   "cell_type": "code",
   "execution_count": 104,
   "id": "bd442453-f8a6-431d-9a18-bce03e58961a",
   "metadata": {
    "tags": []
   },
   "outputs": [
    {
     "data": {
      "text/html": [
       "<div>\n",
       "<style scoped>\n",
       "    .dataframe tbody tr th:only-of-type {\n",
       "        vertical-align: middle;\n",
       "    }\n",
       "\n",
       "    .dataframe tbody tr th {\n",
       "        vertical-align: top;\n",
       "    }\n",
       "\n",
       "    .dataframe thead th {\n",
       "        text-align: right;\n",
       "    }\n",
       "</style>\n",
       "<table border=\"1\" class=\"dataframe\">\n",
       "  <thead>\n",
       "    <tr style=\"text-align: right;\">\n",
       "      <th></th>\n",
       "      <th>item_id</th>\n",
       "      <th>timestamp</th>\n",
       "      <th>target_value</th>\n",
       "    </tr>\n",
       "  </thead>\n",
       "  <tbody>\n",
       "    <tr>\n",
       "      <th>0</th>\n",
       "      <td>106</td>\n",
       "      <td>2023-04-03</td>\n",
       "      <td>55.55</td>\n",
       "    </tr>\n",
       "    <tr>\n",
       "      <th>1</th>\n",
       "      <td>9</td>\n",
       "      <td>2023-04-03</td>\n",
       "      <td>4203.70</td>\n",
       "    </tr>\n",
       "    <tr>\n",
       "      <th>2</th>\n",
       "      <td>89</td>\n",
       "      <td>2023-04-03</td>\n",
       "      <td>1086.50</td>\n",
       "    </tr>\n",
       "    <tr>\n",
       "      <th>3</th>\n",
       "      <td>124</td>\n",
       "      <td>2023-08-31</td>\n",
       "      <td>4797.50</td>\n",
       "    </tr>\n",
       "    <tr>\n",
       "      <th>4</th>\n",
       "      <td>33</td>\n",
       "      <td>2021-05-06</td>\n",
       "      <td>17493.00</td>\n",
       "    </tr>\n",
       "  </tbody>\n",
       "</table>\n",
       "</div>"
      ],
      "text/plain": [
       "   item_id  timestamp  target_value\n",
       "0      106 2023-04-03         55.55\n",
       "1        9 2023-04-03       4203.70\n",
       "2       89 2023-04-03       1086.50\n",
       "3      124 2023-08-31       4797.50\n",
       "4       33 2021-05-06      17493.00"
      ]
     },
     "execution_count": 104,
     "metadata": {},
     "output_type": "execute_result"
    }
   ],
   "source": [
    "target_ts_amount.head()\n",
    "##yyyy MM dd in timestamp##"
   ]
  },
  {
   "cell_type": "code",
   "execution_count": 105,
   "id": "0d12594f-9b61-4c28-b250-e6d1d2a4edc9",
   "metadata": {},
   "outputs": [],
   "source": [
    "###GENERATE THE DATASET OF RELATED TIME SERIES (UP TO 23 VARIABLES+ID_ITEM+TIMESTAMP-FIRST THESE TWO VARIABLES)"
   ]
  },
  {
   "cell_type": "code",
   "execution_count": 106,
   "id": "1a41a85a-e743-4ddb-854c-95cabfad7659",
   "metadata": {
    "tags": []
   },
   "outputs": [],
   "source": [
    "related_ts_ds=df_final.loc[:, ['payer_country_encoder', 'date','var_rate_lag1', 'var_rate_lag2', 'var_rate_lag3', 'var_rate_lag4', 'var_rate_lag5', 'var_rate_lag6', 'var_tx_cancelled_1', 'var_tx_cancelled_2', 'var_tx_cancelled_3', 'var_tx_cancelled_4', 'var_tx_cancelled_5', 'var_tx_cancelled_6', 'tx', 'weekday', 'special_dates']]"
   ]
  },
  {
   "cell_type": "code",
   "execution_count": 107,
   "id": "5c872f4c-40f1-430e-a282-5d34df921342",
   "metadata": {
    "tags": []
   },
   "outputs": [
    {
     "name": "stdout",
     "output_type": "stream",
     "text": [
      "<class 'pandas.core.frame.DataFrame'>\n",
      "RangeIndex: 87708 entries, 0 to 87707\n",
      "Data columns (total 16 columns):\n",
      " #   Column              Non-Null Count  Dtype         \n",
      "---  ------              --------------  -----         \n",
      " 0   item_id             87708 non-null  int64         \n",
      " 1   timestamp           87708 non-null  datetime64[ns]\n",
      " 2   var_rate_lag1       33694 non-null  float64       \n",
      " 3   var_rate_lag2       33665 non-null  float64       \n",
      " 4   var_rate_lag3       33637 non-null  float64       \n",
      " 5   var_rate_lag4       33608 non-null  float64       \n",
      " 6   var_rate_lag5       33581 non-null  float64       \n",
      " 7   var_rate_lag6       33553 non-null  float64       \n",
      " 8   var_tx_cancelled_1  87510 non-null  float64       \n",
      " 9   var_tx_cancelled_2  87404 non-null  float64       \n",
      " 10  var_tx_cancelled_3  87289 non-null  float64       \n",
      " 11  var_tx_cancelled_4  87175 non-null  float64       \n",
      " 12  var_tx_cancelled_5  87065 non-null  float64       \n",
      " 13  var_tx_cancelled_6  86952 non-null  float64       \n",
      " 14  weekday             87708 non-null  int64         \n",
      " 15  special_dates       87708 non-null  int64         \n",
      "dtypes: datetime64[ns](1), float64(12), int64(3)\n",
      "memory usage: 10.7 MB\n"
     ]
    }
   ],
   "source": [
    "related_ts_ds.rename(columns={'payer_country_encoder': 'item_id', 'date': 'timestamp'}, inplace=True)\n",
    "del related_ts_ds['tx']\n",
    "related_ts_ds.info()"
   ]
  },
  {
   "cell_type": "code",
   "execution_count": 108,
   "id": "e4eb1dce-e98f-446d-bb9b-99de4e9beeee",
   "metadata": {},
   "outputs": [
    {
     "data": {
      "text/plain": [
       "0    2023-04-03\n",
       "1    2023-04-03\n",
       "2    2023-04-03\n",
       "3    2023-08-31\n",
       "4    2021-05-06\n",
       "Name: timestamp, dtype: object"
      ]
     },
     "execution_count": 108,
     "metadata": {},
     "output_type": "execute_result"
    }
   ],
   "source": [
    "##EXPORTO LOS CSV##\n",
    "target_ts_amount['timestamp'] = target_ts_amount['timestamp'].dt.date\n",
    "target_ts_amount.timestamp.head()"
   ]
  },
  {
   "cell_type": "code",
   "execution_count": 109,
   "id": "44f1d15e-ec54-4c2f-83c4-d448c3fd459d",
   "metadata": {
    "tags": []
   },
   "outputs": [
    {
     "data": {
      "text/plain": [
       "0    2023-04-03\n",
       "1    2023-04-03\n",
       "2    2023-04-03\n",
       "3    2023-08-31\n",
       "4    2021-05-06\n",
       "Name: timestamp, dtype: object"
      ]
     },
     "execution_count": 109,
     "metadata": {},
     "output_type": "execute_result"
    }
   ],
   "source": [
    "related_ts_ds['timestamp'] = pd.to_datetime(related_ts_ds['timestamp'])\n",
    "related_ts_ds['timestamp'] = related_ts_ds['timestamp'].dt.date\n",
    "related_ts_ds.timestamp.head()"
   ]
  },
  {
   "cell_type": "code",
   "execution_count": 110,
   "id": "ae063b00-a37d-44e9-9033-3ac439990ef6",
   "metadata": {
    "tags": []
   },
   "outputs": [],
   "source": [
    "##TIME SERIE WITH TARGET##\n",
    "##target_ts_amount.to_csv('target_ts_amount.csv')"
   ]
  },
  {
   "cell_type": "code",
   "execution_count": 111,
   "id": "b5ffdf2c-3cb3-450b-aff0-d2fe1aafa8b6",
   "metadata": {
    "tags": []
   },
   "outputs": [],
   "source": [
    "##TIME SERIES RELATED##\n",
    "##related_ts_ds.to_csv('related_ts_ds.csv')"
   ]
  },
  {
   "cell_type": "code",
   "execution_count": 112,
   "id": "5eda174a-e4dd-4a95-a71f-d558c29deb5e",
   "metadata": {
    "tags": []
   },
   "outputs": [],
   "source": [
    "###END ABT TASK FOR AWS FORECAST##"
   ]
  },
  {
   "cell_type": "code",
   "execution_count": 114,
   "id": "72d6159e-1164-439f-8bb2-c9feb602d952",
   "metadata": {
    "tags": []
   },
   "outputs": [
    {
     "data": {
      "text/plain": [
       "130"
      ]
     },
     "execution_count": 114,
     "metadata": {},
     "output_type": "execute_result"
    }
   ],
   "source": [
    "df_final.payer_country.nunique()"
   ]
  },
  {
   "cell_type": "code",
   "execution_count": 107,
   "id": "38224ad9-eca9-4e3d-8992-ccdf1a512fec",
   "metadata": {},
   "outputs": [],
   "source": [
    "####ROUTINES FOR EXPORTING CSV TO VIAMERICAS S3##\n",
    "\n",
    "\n",
    "###NO OLVIDAR CREAR EL CSV CON METADATA!!"
   ]
  },
  {
   "cell_type": "code",
   "execution_count": 343,
   "id": "703de958-8847-49bc-8b71-394da29f167e",
   "metadata": {
    "tags": []
   },
   "outputs": [
    {
     "data": {
      "text/plain": [
       "{'paths': ['s3://viamericas-datalake-dev-us-east-1-283731589572-analytics/Forecast/target/target_abt.csv'],\n",
       " 'partitions_values': {}}"
      ]
     },
     "execution_count": 343,
     "metadata": {},
     "output_type": "execute_result"
    }
   ],
   "source": [
    "wr.s3.to_csv(\n",
    "    df=target_ts_amount,\n",
    "    path='s3://viamericas-datalake-dev-us-east-1-283731589572-analytics/Forecast/target/target_abt.csv',\n",
    "    dataset=False,\n",
    "    index=False\n",
    ")"
   ]
  },
  {
   "cell_type": "code",
   "execution_count": 107,
   "id": "2f77b6e2-490b-45a1-a925-3164470ba872",
   "metadata": {
    "tags": []
   },
   "outputs": [
    {
     "data": {
      "text/plain": [
       "{'paths': ['s3://viamericas-datalake-dev-us-east-1-283731589572-analytics/Forecast/related_ts_ds/related_ts_ds_abt.csv'],\n",
       " 'partitions_values': {}}"
      ]
     },
     "execution_count": 107,
     "metadata": {},
     "output_type": "execute_result"
    }
   ],
   "source": [
    "wr.s3.to_csv(\n",
    "    df=related_ts_ds,\n",
    "    path='s3://viamericas-datalake-dev-us-east-1-283731589572-analytics/Forecast/related_ts_ds/related_ts_ds_abt.csv',\n",
    "    dataset=False,\n",
    "    index=False\n",
    ")"
   ]
  },
  {
   "cell_type": "code",
   "execution_count": null,
   "id": "bf618431-3a5e-418a-b067-ae21ff273c7f",
   "metadata": {},
   "outputs": [],
   "source": []
  },
  {
   "cell_type": "code",
   "execution_count": null,
   "id": "a12b82bf-b933-4f7b-b698-66e89fa265c8",
   "metadata": {},
   "outputs": [],
   "source": []
  },
  {
   "cell_type": "code",
   "execution_count": 116,
   "id": "1df180d4-4336-4d76-8f2d-15048584954b",
   "metadata": {
    "tags": []
   },
   "outputs": [
    {
     "name": "stdout",
     "output_type": "stream",
     "text": [
      "                             payer      country        amount\n",
      "76                ELEKTRA (MEXICO)       MEXICO  6.397947e+09\n",
      "34             BANCOPPEL (APPRIZA)       MEXICO  3.345583e+09\n",
      "42                  BANRURAL (RYT)    GUATEMALA  2.928455e+09\n",
      "27                BANCO INDUSTRIAL    GUATEMALA  2.286921e+09\n",
      "45           BBVA - BANCOMER (BTS)       MEXICO  6.632710e+08\n",
      "80      ENVIOS CON CLABE (APPRIZA)       MEXICO  6.113105e+08\n",
      "38                    BANORTE (UT)       MEXICO  4.787224e+08\n",
      "23              BANCO DE OCCIDENTE     HONDURAS  4.383592e+08\n",
      "153  TELECOMM TELEGRAFOS (APPRIZA)       MEXICO  4.355922e+08\n",
      "24              BANCO DE ORO (BDO)  PHILIPPINES  4.348228e+08\n"
     ]
    }
   ],
   "source": [
    "# Agrupamos por 'payer' y 'country', y sumamos 'amount'\n",
    "grouped_data = df.groupby(['payer', 'country']).agg({'amount': 'sum'}).reset_index()\n",
    "\n",
    "# Obtenemos el top 10 de payers por país para todo el período\n",
    "top10_payers = grouped_data.nlargest(10, 'amount')\n",
    "\n",
    "print(top10_payers)"
   ]
  },
  {
   "cell_type": "code",
   "execution_count": 123,
   "id": "2336a129-326d-429b-add8-fb440e560cd6",
   "metadata": {},
   "outputs": [],
   "source": [
    "df_consulta3=df_final.loc[df_final.payer=='BANORTE (UT)']\n",
    "##BBVA - BANCOMER (BTS) id==38\n",
    "##BANCOPPEL (APPRIZA) id==29\n",
    "##ENVIOS CON CLABE (APPRIZA) ID==60\n",
    "##BANORTE id="
   ]
  },
  {
   "cell_type": "code",
   "execution_count": 124,
   "id": "87326acf-d8e1-4866-8c6a-356ed32b089c",
   "metadata": {},
   "outputs": [
    {
     "data": {
      "text/html": [
       "<div>\n",
       "<style scoped>\n",
       "    .dataframe tbody tr th:only-of-type {\n",
       "        vertical-align: middle;\n",
       "    }\n",
       "\n",
       "    .dataframe tbody tr th {\n",
       "        vertical-align: top;\n",
       "    }\n",
       "\n",
       "    .dataframe thead th {\n",
       "        text-align: right;\n",
       "    }\n",
       "</style>\n",
       "<table border=\"1\" class=\"dataframe\">\n",
       "  <thead>\n",
       "    <tr style=\"text-align: right;\">\n",
       "      <th></th>\n",
       "      <th>payer</th>\n",
       "      <th>country</th>\n",
       "      <th>date</th>\n",
       "      <th>tx</th>\n",
       "      <th>amount</th>\n",
       "      <th>payer_country</th>\n",
       "      <th>symbol</th>\n",
       "      <th>feed_price</th>\n",
       "      <th>feed_price_retardo_1</th>\n",
       "      <th>feed_price_retardo_2</th>\n",
       "      <th>...</th>\n",
       "      <th>tx_cancelled_7</th>\n",
       "      <th>var_tx_cancelled_1</th>\n",
       "      <th>var_tx_cancelled_2</th>\n",
       "      <th>var_tx_cancelled_3</th>\n",
       "      <th>var_tx_cancelled_4</th>\n",
       "      <th>var_tx_cancelled_5</th>\n",
       "      <th>var_tx_cancelled_6</th>\n",
       "      <th>weekday</th>\n",
       "      <th>special_dates</th>\n",
       "      <th>payer_country_encoder</th>\n",
       "    </tr>\n",
       "  </thead>\n",
       "  <tbody>\n",
       "    <tr>\n",
       "      <th>211</th>\n",
       "      <td>BANORTE (UT)</td>\n",
       "      <td>MEXICO</td>\n",
       "      <td>2021-01-02</td>\n",
       "      <td>408</td>\n",
       "      <td>260039.81</td>\n",
       "      <td>BANORTE (UT)_MEXICO</td>\n",
       "      <td>USDMXN</td>\n",
       "      <td>19.8822</td>\n",
       "      <td>19.8822</td>\n",
       "      <td>NaN</td>\n",
       "      <td>...</td>\n",
       "      <td>NaN</td>\n",
       "      <td>-17.0</td>\n",
       "      <td>NaN</td>\n",
       "      <td>NaN</td>\n",
       "      <td>NaN</td>\n",
       "      <td>NaN</td>\n",
       "      <td>NaN</td>\n",
       "      <td>0</td>\n",
       "      <td>1</td>\n",
       "      <td>32</td>\n",
       "    </tr>\n",
       "    <tr>\n",
       "      <th>305</th>\n",
       "      <td>BANORTE (UT)</td>\n",
       "      <td>MEXICO</td>\n",
       "      <td>2023-08-06</td>\n",
       "      <td>1166</td>\n",
       "      <td>810206.35</td>\n",
       "      <td>BANORTE (UT)_MEXICO</td>\n",
       "      <td>USDMXN</td>\n",
       "      <td>17.0776</td>\n",
       "      <td>17.0785</td>\n",
       "      <td>17.0785</td>\n",
       "      <td>...</td>\n",
       "      <td>39.0</td>\n",
       "      <td>-19.0</td>\n",
       "      <td>20.0</td>\n",
       "      <td>-9.0</td>\n",
       "      <td>14.0</td>\n",
       "      <td>-30.0</td>\n",
       "      <td>33.0</td>\n",
       "      <td>0</td>\n",
       "      <td>0</td>\n",
       "      <td>32</td>\n",
       "    </tr>\n",
       "  </tbody>\n",
       "</table>\n",
       "<p>2 rows × 38 columns</p>\n",
       "</div>"
      ],
      "text/plain": [
       "            payer country       date    tx     amount        payer_country  \\\n",
       "211  BANORTE (UT)  MEXICO 2021-01-02   408  260039.81  BANORTE (UT)_MEXICO   \n",
       "305  BANORTE (UT)  MEXICO 2023-08-06  1166  810206.35  BANORTE (UT)_MEXICO   \n",
       "\n",
       "     symbol  feed_price  feed_price_retardo_1  feed_price_retardo_2  ...  \\\n",
       "211  USDMXN     19.8822               19.8822                   NaN  ...   \n",
       "305  USDMXN     17.0776               17.0785               17.0785  ...   \n",
       "\n",
       "     tx_cancelled_7  var_tx_cancelled_1  var_tx_cancelled_2  \\\n",
       "211             NaN               -17.0                 NaN   \n",
       "305            39.0               -19.0                20.0   \n",
       "\n",
       "     var_tx_cancelled_3  var_tx_cancelled_4  var_tx_cancelled_5  \\\n",
       "211                 NaN                 NaN                 NaN   \n",
       "305                -9.0                14.0               -30.0   \n",
       "\n",
       "     var_tx_cancelled_6  weekday  special_dates  payer_country_encoder  \n",
       "211                 NaN        0              1                     32  \n",
       "305                33.0        0              0                     32  \n",
       "\n",
       "[2 rows x 38 columns]"
      ]
     },
     "execution_count": 124,
     "metadata": {},
     "output_type": "execute_result"
    }
   ],
   "source": [
    "df_consulta3.head(2)"
   ]
  },
  {
   "cell_type": "code",
   "execution_count": null,
   "id": "ed8e0e9f-84d4-4261-a4a3-da2861e47584",
   "metadata": {
    "tags": []
   },
   "outputs": [],
   "source": []
  },
  {
   "cell_type": "code",
   "execution_count": null,
   "id": "1de3e1a0-378c-438d-bb23-0cae3ad02380",
   "metadata": {
    "tags": []
   },
   "outputs": [],
   "source": []
  },
  {
   "cell_type": "code",
   "execution_count": null,
   "id": "34b9692d-eacd-41c1-8f60-a711646dd4b6",
   "metadata": {
    "tags": []
   },
   "outputs": [],
   "source": []
  },
  {
   "cell_type": "code",
   "execution_count": null,
   "id": "4cd3e738-590f-4620-ae32-c30dc1353ccf",
   "metadata": {
    "tags": []
   },
   "outputs": [],
   "source": []
  },
  {
   "cell_type": "code",
   "execution_count": 269,
   "id": "fc8e32f4-af73-45a4-b65d-f3161de1d246",
   "metadata": {},
   "outputs": [],
   "source": [
    "df_elektra = df_final[df_final['payer_country'] == 'ELEKTRA (MEXICO)_MEXICO']"
   ]
  },
  {
   "cell_type": "code",
   "execution_count": 270,
   "id": "9f0004e1-2f77-4ce9-9315-31f144800e60",
   "metadata": {
    "tags": []
   },
   "outputs": [
    {
     "data": {
      "text/plain": [
       "6397946743.728701"
      ]
     },
     "execution_count": 270,
     "metadata": {},
     "output_type": "execute_result"
    }
   ],
   "source": [
    "df_elektra['amount'].sum()"
   ]
  },
  {
   "cell_type": "code",
   "execution_count": 97,
   "id": "8ddecc45-979f-4a64-949e-f184589ad351",
   "metadata": {
    "tags": []
   },
   "outputs": [],
   "source": [
    "#df_elektra.to_csv('ABT_elektra.csv')"
   ]
  },
  {
   "cell_type": "code",
   "execution_count": 99,
   "id": "a00c3366-8128-4742-a112-6a5348dc1839",
   "metadata": {
    "tags": []
   },
   "outputs": [],
   "source": [
    "#df_Mexico = df_ABT1[df_ABT1['country'] == 'MEXICO']"
   ]
  },
  {
   "cell_type": "code",
   "execution_count": 271,
   "id": "953ca72b-4af1-41a4-84b3-bbdd8d2b1638",
   "metadata": {
    "tags": []
   },
   "outputs": [],
   "source": [
    "#df_Mexico.head()"
   ]
  },
  {
   "cell_type": "code",
   "execution_count": 104,
   "id": "5c1f9748-d4f7-4d3f-b3d9-421c33c82bd4",
   "metadata": {
    "tags": []
   },
   "outputs": [
    {
     "data": {
      "text/plain": [
       "Index(['payer', 'country', 'date', 'tx', 'amount', 'payer_country',\n",
       "       'encoded_payer_country', 'symbol', 'feed_price', 'feed_price_retardo_1',\n",
       "       'feed_price_retardo_2', 'feed_price_retardo_3', 'feed_price_retardo_4',\n",
       "       'feed_price_retardo_5', 'feed_price_retardo_6', 'feed_price_retardo_7',\n",
       "       'var_rate_lag1', 'var_rate_lag2', 'var_rate_lag3', 'var_rate_lag4',\n",
       "       'var_rate_lag5', 'var_rate_lag6', 'tx_cancelled', 'tx_cancelled_1',\n",
       "       'tx_cancelled_2', 'tx_cancelled_3', 'tx_cancelled_4', 'tx_cancelled_5',\n",
       "       'tx_cancelled_6', 'tx_cancelled_7', 'var_tx_cancelled_1',\n",
       "       'var_tx_cancelled_2', 'var_tx_cancelled_3', 'var_tx_cancelled_4',\n",
       "       'var_tx_cancelled_5', 'var_tx_cancelled_6', 'weekday', 'special_dates'],\n",
       "      dtype='object')"
      ]
     },
     "execution_count": 104,
     "metadata": {},
     "output_type": "execute_result"
    }
   ],
   "source": [
    "#df_Mexico.columns"
   ]
  },
  {
   "cell_type": "code",
   "execution_count": 118,
   "id": "def72892-5c14-4246-9f51-b0770717d246",
   "metadata": {
    "tags": []
   },
   "outputs": [],
   "source": [
    "columns_to_group = ['tx','amount', 'tx_cancelled', 'tx_cancelled_1',\n",
    "       'tx_cancelled_2', 'tx_cancelled_3', 'tx_cancelled_4', 'tx_cancelled_5',\n",
    "       'tx_cancelled_6', 'tx_cancelled_7', 'var_tx_cancelled_1',\n",
    "       'var_tx_cancelled_2', 'var_tx_cancelled_3', 'var_tx_cancelled_4',\n",
    "       'var_tx_cancelled_5', 'var_tx_cancelled_6']"
   ]
  },
  {
   "cell_type": "code",
   "execution_count": 272,
   "id": "80305bce-752f-4f81-b5da-0158c3f3ee5d",
   "metadata": {
    "tags": []
   },
   "outputs": [],
   "source": [
    "#df_Mexico.drop(['country', 'payer'], axis=1).groupby('date')[columns_to_group].sum()"
   ]
  },
  {
   "cell_type": "code",
   "execution_count": 119,
   "id": "a494d850-fcfb-4e4c-ba71-dad18ee00782",
   "metadata": {
    "tags": []
   },
   "outputs": [],
   "source": [
    "#ABT_Mex = df_Mexico.drop(['country', 'payer'], axis=1).groupby('date')[columns_to_group].sum()"
   ]
  },
  {
   "cell_type": "code",
   "execution_count": 120,
   "id": "1521771a-05de-4ccd-8074-154d2030b975",
   "metadata": {
    "tags": []
   },
   "outputs": [],
   "source": [
    "#df_Mexico.to_csv('ABT_MEXICO.csv')"
   ]
  },
  {
   "cell_type": "code",
   "execution_count": 133,
   "id": "2e5a62b4-6a97-4539-8d9e-a223b43af0b6",
   "metadata": {
    "tags": []
   },
   "outputs": [
    {
     "data": {
      "text/plain": [
       "122.0"
      ]
     },
     "execution_count": 133,
     "metadata": {},
     "output_type": "execute_result"
    }
   ],
   "source": [
    "#df_Mexico[df_Mexico['date'] == '2021-01-01']['var_tx_cancelled_3'].sum()"
   ]
  },
  {
   "cell_type": "code",
   "execution_count": 122,
   "id": "cf7be96c-111e-4796-b4d5-78e817d1816b",
   "metadata": {
    "tags": []
   },
   "outputs": [],
   "source": [
    "#ABT_Mex.reset_index(inplace = True)"
   ]
  },
  {
   "cell_type": "code",
   "execution_count": 273,
   "id": "fd911cc3-7fa6-49ce-965f-5ca4a96512fe",
   "metadata": {
    "tags": []
   },
   "outputs": [],
   "source": [
    "#ABT_Mex[ABT_Mex['date'] == '2021-01-01']"
   ]
  },
  {
   "cell_type": "code",
   "execution_count": null,
   "id": "414c5586-de1d-4730-a135-4797f9399ced",
   "metadata": {},
   "outputs": [],
   "source": []
  }
 ],
 "metadata": {
  "availableInstances": [
   {
    "_defaultOrder": 0,
    "_isFastLaunch": true,
    "category": "General purpose",
    "gpuNum": 0,
    "hideHardwareSpecs": false,
    "memoryGiB": 4,
    "name": "ml.t3.medium",
    "vcpuNum": 2
   },
   {
    "_defaultOrder": 1,
    "_isFastLaunch": false,
    "category": "General purpose",
    "gpuNum": 0,
    "hideHardwareSpecs": false,
    "memoryGiB": 8,
    "name": "ml.t3.large",
    "vcpuNum": 2
   },
   {
    "_defaultOrder": 2,
    "_isFastLaunch": false,
    "category": "General purpose",
    "gpuNum": 0,
    "hideHardwareSpecs": false,
    "memoryGiB": 16,
    "name": "ml.t3.xlarge",
    "vcpuNum": 4
   },
   {
    "_defaultOrder": 3,
    "_isFastLaunch": false,
    "category": "General purpose",
    "gpuNum": 0,
    "hideHardwareSpecs": false,
    "memoryGiB": 32,
    "name": "ml.t3.2xlarge",
    "vcpuNum": 8
   },
   {
    "_defaultOrder": 4,
    "_isFastLaunch": true,
    "category": "General purpose",
    "gpuNum": 0,
    "hideHardwareSpecs": false,
    "memoryGiB": 8,
    "name": "ml.m5.large",
    "vcpuNum": 2
   },
   {
    "_defaultOrder": 5,
    "_isFastLaunch": false,
    "category": "General purpose",
    "gpuNum": 0,
    "hideHardwareSpecs": false,
    "memoryGiB": 16,
    "name": "ml.m5.xlarge",
    "vcpuNum": 4
   },
   {
    "_defaultOrder": 6,
    "_isFastLaunch": false,
    "category": "General purpose",
    "gpuNum": 0,
    "hideHardwareSpecs": false,
    "memoryGiB": 32,
    "name": "ml.m5.2xlarge",
    "vcpuNum": 8
   },
   {
    "_defaultOrder": 7,
    "_isFastLaunch": false,
    "category": "General purpose",
    "gpuNum": 0,
    "hideHardwareSpecs": false,
    "memoryGiB": 64,
    "name": "ml.m5.4xlarge",
    "vcpuNum": 16
   },
   {
    "_defaultOrder": 8,
    "_isFastLaunch": false,
    "category": "General purpose",
    "gpuNum": 0,
    "hideHardwareSpecs": false,
    "memoryGiB": 128,
    "name": "ml.m5.8xlarge",
    "vcpuNum": 32
   },
   {
    "_defaultOrder": 9,
    "_isFastLaunch": false,
    "category": "General purpose",
    "gpuNum": 0,
    "hideHardwareSpecs": false,
    "memoryGiB": 192,
    "name": "ml.m5.12xlarge",
    "vcpuNum": 48
   },
   {
    "_defaultOrder": 10,
    "_isFastLaunch": false,
    "category": "General purpose",
    "gpuNum": 0,
    "hideHardwareSpecs": false,
    "memoryGiB": 256,
    "name": "ml.m5.16xlarge",
    "vcpuNum": 64
   },
   {
    "_defaultOrder": 11,
    "_isFastLaunch": false,
    "category": "General purpose",
    "gpuNum": 0,
    "hideHardwareSpecs": false,
    "memoryGiB": 384,
    "name": "ml.m5.24xlarge",
    "vcpuNum": 96
   },
   {
    "_defaultOrder": 12,
    "_isFastLaunch": false,
    "category": "General purpose",
    "gpuNum": 0,
    "hideHardwareSpecs": false,
    "memoryGiB": 8,
    "name": "ml.m5d.large",
    "vcpuNum": 2
   },
   {
    "_defaultOrder": 13,
    "_isFastLaunch": false,
    "category": "General purpose",
    "gpuNum": 0,
    "hideHardwareSpecs": false,
    "memoryGiB": 16,
    "name": "ml.m5d.xlarge",
    "vcpuNum": 4
   },
   {
    "_defaultOrder": 14,
    "_isFastLaunch": false,
    "category": "General purpose",
    "gpuNum": 0,
    "hideHardwareSpecs": false,
    "memoryGiB": 32,
    "name": "ml.m5d.2xlarge",
    "vcpuNum": 8
   },
   {
    "_defaultOrder": 15,
    "_isFastLaunch": false,
    "category": "General purpose",
    "gpuNum": 0,
    "hideHardwareSpecs": false,
    "memoryGiB": 64,
    "name": "ml.m5d.4xlarge",
    "vcpuNum": 16
   },
   {
    "_defaultOrder": 16,
    "_isFastLaunch": false,
    "category": "General purpose",
    "gpuNum": 0,
    "hideHardwareSpecs": false,
    "memoryGiB": 128,
    "name": "ml.m5d.8xlarge",
    "vcpuNum": 32
   },
   {
    "_defaultOrder": 17,
    "_isFastLaunch": false,
    "category": "General purpose",
    "gpuNum": 0,
    "hideHardwareSpecs": false,
    "memoryGiB": 192,
    "name": "ml.m5d.12xlarge",
    "vcpuNum": 48
   },
   {
    "_defaultOrder": 18,
    "_isFastLaunch": false,
    "category": "General purpose",
    "gpuNum": 0,
    "hideHardwareSpecs": false,
    "memoryGiB": 256,
    "name": "ml.m5d.16xlarge",
    "vcpuNum": 64
   },
   {
    "_defaultOrder": 19,
    "_isFastLaunch": false,
    "category": "General purpose",
    "gpuNum": 0,
    "hideHardwareSpecs": false,
    "memoryGiB": 384,
    "name": "ml.m5d.24xlarge",
    "vcpuNum": 96
   },
   {
    "_defaultOrder": 20,
    "_isFastLaunch": false,
    "category": "General purpose",
    "gpuNum": 0,
    "hideHardwareSpecs": true,
    "memoryGiB": 0,
    "name": "ml.geospatial.interactive",
    "supportedImageNames": [
     "sagemaker-geospatial-v1-0"
    ],
    "vcpuNum": 0
   },
   {
    "_defaultOrder": 21,
    "_isFastLaunch": true,
    "category": "Compute optimized",
    "gpuNum": 0,
    "hideHardwareSpecs": false,
    "memoryGiB": 4,
    "name": "ml.c5.large",
    "vcpuNum": 2
   },
   {
    "_defaultOrder": 22,
    "_isFastLaunch": false,
    "category": "Compute optimized",
    "gpuNum": 0,
    "hideHardwareSpecs": false,
    "memoryGiB": 8,
    "name": "ml.c5.xlarge",
    "vcpuNum": 4
   },
   {
    "_defaultOrder": 23,
    "_isFastLaunch": false,
    "category": "Compute optimized",
    "gpuNum": 0,
    "hideHardwareSpecs": false,
    "memoryGiB": 16,
    "name": "ml.c5.2xlarge",
    "vcpuNum": 8
   },
   {
    "_defaultOrder": 24,
    "_isFastLaunch": false,
    "category": "Compute optimized",
    "gpuNum": 0,
    "hideHardwareSpecs": false,
    "memoryGiB": 32,
    "name": "ml.c5.4xlarge",
    "vcpuNum": 16
   },
   {
    "_defaultOrder": 25,
    "_isFastLaunch": false,
    "category": "Compute optimized",
    "gpuNum": 0,
    "hideHardwareSpecs": false,
    "memoryGiB": 72,
    "name": "ml.c5.9xlarge",
    "vcpuNum": 36
   },
   {
    "_defaultOrder": 26,
    "_isFastLaunch": false,
    "category": "Compute optimized",
    "gpuNum": 0,
    "hideHardwareSpecs": false,
    "memoryGiB": 96,
    "name": "ml.c5.12xlarge",
    "vcpuNum": 48
   },
   {
    "_defaultOrder": 27,
    "_isFastLaunch": false,
    "category": "Compute optimized",
    "gpuNum": 0,
    "hideHardwareSpecs": false,
    "memoryGiB": 144,
    "name": "ml.c5.18xlarge",
    "vcpuNum": 72
   },
   {
    "_defaultOrder": 28,
    "_isFastLaunch": false,
    "category": "Compute optimized",
    "gpuNum": 0,
    "hideHardwareSpecs": false,
    "memoryGiB": 192,
    "name": "ml.c5.24xlarge",
    "vcpuNum": 96
   },
   {
    "_defaultOrder": 29,
    "_isFastLaunch": true,
    "category": "Accelerated computing",
    "gpuNum": 1,
    "hideHardwareSpecs": false,
    "memoryGiB": 16,
    "name": "ml.g4dn.xlarge",
    "vcpuNum": 4
   },
   {
    "_defaultOrder": 30,
    "_isFastLaunch": false,
    "category": "Accelerated computing",
    "gpuNum": 1,
    "hideHardwareSpecs": false,
    "memoryGiB": 32,
    "name": "ml.g4dn.2xlarge",
    "vcpuNum": 8
   },
   {
    "_defaultOrder": 31,
    "_isFastLaunch": false,
    "category": "Accelerated computing",
    "gpuNum": 1,
    "hideHardwareSpecs": false,
    "memoryGiB": 64,
    "name": "ml.g4dn.4xlarge",
    "vcpuNum": 16
   },
   {
    "_defaultOrder": 32,
    "_isFastLaunch": false,
    "category": "Accelerated computing",
    "gpuNum": 1,
    "hideHardwareSpecs": false,
    "memoryGiB": 128,
    "name": "ml.g4dn.8xlarge",
    "vcpuNum": 32
   },
   {
    "_defaultOrder": 33,
    "_isFastLaunch": false,
    "category": "Accelerated computing",
    "gpuNum": 4,
    "hideHardwareSpecs": false,
    "memoryGiB": 192,
    "name": "ml.g4dn.12xlarge",
    "vcpuNum": 48
   },
   {
    "_defaultOrder": 34,
    "_isFastLaunch": false,
    "category": "Accelerated computing",
    "gpuNum": 1,
    "hideHardwareSpecs": false,
    "memoryGiB": 256,
    "name": "ml.g4dn.16xlarge",
    "vcpuNum": 64
   },
   {
    "_defaultOrder": 35,
    "_isFastLaunch": false,
    "category": "Accelerated computing",
    "gpuNum": 1,
    "hideHardwareSpecs": false,
    "memoryGiB": 61,
    "name": "ml.p3.2xlarge",
    "vcpuNum": 8
   },
   {
    "_defaultOrder": 36,
    "_isFastLaunch": false,
    "category": "Accelerated computing",
    "gpuNum": 4,
    "hideHardwareSpecs": false,
    "memoryGiB": 244,
    "name": "ml.p3.8xlarge",
    "vcpuNum": 32
   },
   {
    "_defaultOrder": 37,
    "_isFastLaunch": false,
    "category": "Accelerated computing",
    "gpuNum": 8,
    "hideHardwareSpecs": false,
    "memoryGiB": 488,
    "name": "ml.p3.16xlarge",
    "vcpuNum": 64
   },
   {
    "_defaultOrder": 38,
    "_isFastLaunch": false,
    "category": "Accelerated computing",
    "gpuNum": 8,
    "hideHardwareSpecs": false,
    "memoryGiB": 768,
    "name": "ml.p3dn.24xlarge",
    "vcpuNum": 96
   },
   {
    "_defaultOrder": 39,
    "_isFastLaunch": false,
    "category": "Memory Optimized",
    "gpuNum": 0,
    "hideHardwareSpecs": false,
    "memoryGiB": 16,
    "name": "ml.r5.large",
    "vcpuNum": 2
   },
   {
    "_defaultOrder": 40,
    "_isFastLaunch": false,
    "category": "Memory Optimized",
    "gpuNum": 0,
    "hideHardwareSpecs": false,
    "memoryGiB": 32,
    "name": "ml.r5.xlarge",
    "vcpuNum": 4
   },
   {
    "_defaultOrder": 41,
    "_isFastLaunch": false,
    "category": "Memory Optimized",
    "gpuNum": 0,
    "hideHardwareSpecs": false,
    "memoryGiB": 64,
    "name": "ml.r5.2xlarge",
    "vcpuNum": 8
   },
   {
    "_defaultOrder": 42,
    "_isFastLaunch": false,
    "category": "Memory Optimized",
    "gpuNum": 0,
    "hideHardwareSpecs": false,
    "memoryGiB": 128,
    "name": "ml.r5.4xlarge",
    "vcpuNum": 16
   },
   {
    "_defaultOrder": 43,
    "_isFastLaunch": false,
    "category": "Memory Optimized",
    "gpuNum": 0,
    "hideHardwareSpecs": false,
    "memoryGiB": 256,
    "name": "ml.r5.8xlarge",
    "vcpuNum": 32
   },
   {
    "_defaultOrder": 44,
    "_isFastLaunch": false,
    "category": "Memory Optimized",
    "gpuNum": 0,
    "hideHardwareSpecs": false,
    "memoryGiB": 384,
    "name": "ml.r5.12xlarge",
    "vcpuNum": 48
   },
   {
    "_defaultOrder": 45,
    "_isFastLaunch": false,
    "category": "Memory Optimized",
    "gpuNum": 0,
    "hideHardwareSpecs": false,
    "memoryGiB": 512,
    "name": "ml.r5.16xlarge",
    "vcpuNum": 64
   },
   {
    "_defaultOrder": 46,
    "_isFastLaunch": false,
    "category": "Memory Optimized",
    "gpuNum": 0,
    "hideHardwareSpecs": false,
    "memoryGiB": 768,
    "name": "ml.r5.24xlarge",
    "vcpuNum": 96
   },
   {
    "_defaultOrder": 47,
    "_isFastLaunch": false,
    "category": "Accelerated computing",
    "gpuNum": 1,
    "hideHardwareSpecs": false,
    "memoryGiB": 16,
    "name": "ml.g5.xlarge",
    "vcpuNum": 4
   },
   {
    "_defaultOrder": 48,
    "_isFastLaunch": false,
    "category": "Accelerated computing",
    "gpuNum": 1,
    "hideHardwareSpecs": false,
    "memoryGiB": 32,
    "name": "ml.g5.2xlarge",
    "vcpuNum": 8
   },
   {
    "_defaultOrder": 49,
    "_isFastLaunch": false,
    "category": "Accelerated computing",
    "gpuNum": 1,
    "hideHardwareSpecs": false,
    "memoryGiB": 64,
    "name": "ml.g5.4xlarge",
    "vcpuNum": 16
   },
   {
    "_defaultOrder": 50,
    "_isFastLaunch": false,
    "category": "Accelerated computing",
    "gpuNum": 1,
    "hideHardwareSpecs": false,
    "memoryGiB": 128,
    "name": "ml.g5.8xlarge",
    "vcpuNum": 32
   },
   {
    "_defaultOrder": 51,
    "_isFastLaunch": false,
    "category": "Accelerated computing",
    "gpuNum": 1,
    "hideHardwareSpecs": false,
    "memoryGiB": 256,
    "name": "ml.g5.16xlarge",
    "vcpuNum": 64
   },
   {
    "_defaultOrder": 52,
    "_isFastLaunch": false,
    "category": "Accelerated computing",
    "gpuNum": 4,
    "hideHardwareSpecs": false,
    "memoryGiB": 192,
    "name": "ml.g5.12xlarge",
    "vcpuNum": 48
   },
   {
    "_defaultOrder": 53,
    "_isFastLaunch": false,
    "category": "Accelerated computing",
    "gpuNum": 4,
    "hideHardwareSpecs": false,
    "memoryGiB": 384,
    "name": "ml.g5.24xlarge",
    "vcpuNum": 96
   },
   {
    "_defaultOrder": 54,
    "_isFastLaunch": false,
    "category": "Accelerated computing",
    "gpuNum": 8,
    "hideHardwareSpecs": false,
    "memoryGiB": 768,
    "name": "ml.g5.48xlarge",
    "vcpuNum": 192
   },
   {
    "_defaultOrder": 55,
    "_isFastLaunch": false,
    "category": "Accelerated computing",
    "gpuNum": 8,
    "hideHardwareSpecs": false,
    "memoryGiB": 1152,
    "name": "ml.p4d.24xlarge",
    "vcpuNum": 96
   },
   {
    "_defaultOrder": 56,
    "_isFastLaunch": false,
    "category": "Accelerated computing",
    "gpuNum": 8,
    "hideHardwareSpecs": false,
    "memoryGiB": 1152,
    "name": "ml.p4de.24xlarge",
    "vcpuNum": 96
   },
   {
    "_defaultOrder": 57,
    "_isFastLaunch": false,
    "category": "Accelerated computing",
    "gpuNum": 0,
    "hideHardwareSpecs": false,
    "memoryGiB": 32,
    "name": "ml.trn1.2xlarge",
    "vcpuNum": 8
   },
   {
    "_defaultOrder": 58,
    "_isFastLaunch": false,
    "category": "Accelerated computing",
    "gpuNum": 0,
    "hideHardwareSpecs": false,
    "memoryGiB": 512,
    "name": "ml.trn1.32xlarge",
    "vcpuNum": 128
   },
   {
    "_defaultOrder": 59,
    "_isFastLaunch": false,
    "category": "Accelerated computing",
    "gpuNum": 0,
    "hideHardwareSpecs": false,
    "memoryGiB": 512,
    "name": "ml.trn1n.32xlarge",
    "vcpuNum": 128
   }
  ],
  "instance_type": "ml.m5.large",
  "kernelspec": {
   "display_name": "Python 3 (Data Science 3.0)",
   "language": "python",
   "name": "python3__SAGEMAKER_INTERNAL__arn:aws:sagemaker:us-east-1:081325390199:image/sagemaker-data-science-310-v1"
  },
  "language_info": {
   "codemirror_mode": {
    "name": "ipython",
    "version": 3
   },
   "file_extension": ".py",
   "mimetype": "text/x-python",
   "name": "python",
   "nbconvert_exporter": "python",
   "pygments_lexer": "ipython3",
   "version": "3.10.6"
  }
 },
 "nbformat": 4,
 "nbformat_minor": 5
}
