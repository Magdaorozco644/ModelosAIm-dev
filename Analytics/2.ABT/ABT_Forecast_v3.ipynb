{
 "cells": [
  {
   "cell_type": "code",
   "execution_count": 3,
   "id": "deb1c193-1e97-4a97-a63e-8a6d9f1e091c",
   "metadata": {},
   "outputs": [],
   "source": [
    "#pip install pyathena"
   ]
  },
  {
   "cell_type": "code",
   "execution_count": 5,
   "id": "23b20f1a-63f5-4fa2-a12a-81661b216281",
   "metadata": {
    "tags": []
   },
   "outputs": [],
   "source": [
    "#pip install awswrangler "
   ]
  },
  {
   "cell_type": "code",
   "execution_count": 6,
   "id": "5e750d2c-8893-4754-afc1-b76f9f52d3be",
   "metadata": {
    "tags": []
   },
   "outputs": [],
   "source": [
    "import awswrangler as wr"
   ]
  },
  {
   "cell_type": "code",
   "execution_count": 7,
   "id": "b482530e-6132-481b-b8fd-46fea39e8064",
   "metadata": {
    "tags": []
   },
   "outputs": [],
   "source": [
    "#Libraries\n",
    "from pyathena import connect\n",
    "import pandas as pd\n",
    "import datetime as dt\n",
    "import numpy as np"
   ]
  },
  {
   "cell_type": "code",
   "execution_count": 8,
   "id": "a2bddb14-9e24-4a93-b2c3-4031c5e9665a",
   "metadata": {},
   "outputs": [],
   "source": [
    "# DB Setting\n",
    "bucket_name = 's3://viamericas-datalake-dev-us-east-1-283731589572-athena/'\n",
    "origin_name = 'AwsDataCatalog'\n",
    "database_name= 'analytics'\n",
    "table_name = 'daily_check'"
   ]
  },
  {
   "cell_type": "code",
   "execution_count": 9,
   "id": "1aed89ed-382a-4a47-8870-259f9257622e",
   "metadata": {},
   "outputs": [
    {
     "name": "stderr",
     "output_type": "stream",
     "text": [
      "/tmp/ipykernel_64/3429179766.py:4: UserWarning: pandas only supports SQLAlchemy connectable (engine/connection) or database string URI or sqlite3 DBAPI2 connection. Other DBAPI2 objects are not tested. Please consider using SQLAlchemy.\n",
      "  df = pd.read_sql(f'SELECT * FROM {origin_name}.{database_name}.{table_name};', conn)\n"
     ]
    }
   ],
   "source": [
    "#Connection\n",
    "conn = connect(s3_staging_dir=f'{bucket_name}queryresults/',\n",
    "               region_name='us-east-1')\n",
    "df = pd.read_sql(f'SELECT * FROM {origin_name}.{database_name}.{table_name};', conn)"
   ]
  },
  {
   "cell_type": "code",
   "execution_count": 10,
   "id": "ed74ded7-8f6a-46f8-a5cb-d554619e5695",
   "metadata": {},
   "outputs": [],
   "source": [
    "###DS FOREX"
   ]
  },
  {
   "cell_type": "code",
   "execution_count": 11,
   "id": "57ff1308-f1f8-4fb1-be01-9a42d053472c",
   "metadata": {
    "tags": []
   },
   "outputs": [
    {
     "name": "stderr",
     "output_type": "stream",
     "text": [
      "/tmp/ipykernel_64/1414375228.py:2: UserWarning: pandas only supports SQLAlchemy connectable (engine/connection) or database string URI or sqlite3 DBAPI2 connection. Other DBAPI2 objects are not tested. Please consider using SQLAlchemy.\n",
      "  df_forex = pd.read_sql(f'SELECT * FROM {origin_name}.{database_name}.{forex_table};', conn)\n"
     ]
    }
   ],
   "source": [
    "forex_table = 'last_daily_forex'\n",
    "df_forex = pd.read_sql(f'SELECT * FROM {origin_name}.{database_name}.{forex_table};', conn)"
   ]
  },
  {
   "cell_type": "code",
   "execution_count": 12,
   "id": "0e9f740e-a665-4c02-8678-ac8de6ad1cad",
   "metadata": {
    "tags": []
   },
   "outputs": [
    {
     "name": "stdout",
     "output_type": "stream",
     "text": [
      "<class 'pandas.core.frame.DataFrame'>\n",
      "RangeIndex: 5125 entries, 0 to 5124\n",
      "Data columns (total 4 columns):\n",
      " #   Column          Non-Null Count  Dtype         \n",
      "---  ------          --------------  -----         \n",
      " 0   symbol          5125 non-null   object        \n",
      " 1   max_feed_date   5125 non-null   datetime64[ns]\n",
      " 2   max_feed_price  5125 non-null   float64       \n",
      " 3   day             5125 non-null   object        \n",
      "dtypes: datetime64[ns](1), float64(1), object(2)\n",
      "memory usage: 160.3+ KB\n"
     ]
    }
   ],
   "source": [
    "df_forex.info()"
   ]
  },
  {
   "cell_type": "code",
   "execution_count": 13,
   "id": "ed7a505d-167e-444d-8a2f-48b6337ab99f",
   "metadata": {
    "tags": []
   },
   "outputs": [
    {
     "data": {
      "text/html": [
       "<div>\n",
       "<style scoped>\n",
       "    .dataframe tbody tr th:only-of-type {\n",
       "        vertical-align: middle;\n",
       "    }\n",
       "\n",
       "    .dataframe tbody tr th {\n",
       "        vertical-align: top;\n",
       "    }\n",
       "\n",
       "    .dataframe thead th {\n",
       "        text-align: right;\n",
       "    }\n",
       "</style>\n",
       "<table border=\"1\" class=\"dataframe\">\n",
       "  <thead>\n",
       "    <tr style=\"text-align: right;\">\n",
       "      <th></th>\n",
       "      <th>symbol</th>\n",
       "      <th>max_feed_date</th>\n",
       "      <th>max_feed_price</th>\n",
       "      <th>day</th>\n",
       "    </tr>\n",
       "  </thead>\n",
       "  <tbody>\n",
       "    <tr>\n",
       "      <th>0</th>\n",
       "      <td>USDBRL</td>\n",
       "      <td>2021-05-09 23:58:25</td>\n",
       "      <td>5.2370</td>\n",
       "      <td>2021-05-09</td>\n",
       "    </tr>\n",
       "    <tr>\n",
       "      <th>1</th>\n",
       "      <td>USDGTQ</td>\n",
       "      <td>2021-05-09 23:58:25</td>\n",
       "      <td>7.6568</td>\n",
       "      <td>2021-05-09</td>\n",
       "    </tr>\n",
       "    <tr>\n",
       "      <th>2</th>\n",
       "      <td>USDPHP</td>\n",
       "      <td>2021-05-09 23:58:25</td>\n",
       "      <td>47.8825</td>\n",
       "      <td>2021-05-09</td>\n",
       "    </tr>\n",
       "    <tr>\n",
       "      <th>3</th>\n",
       "      <td>USDBRL</td>\n",
       "      <td>2021-06-15 23:58:28</td>\n",
       "      <td>5.0814</td>\n",
       "      <td>2021-06-15</td>\n",
       "    </tr>\n",
       "    <tr>\n",
       "      <th>4</th>\n",
       "      <td>USDINR</td>\n",
       "      <td>2021-06-15 23:58:28</td>\n",
       "      <td>73.3628</td>\n",
       "      <td>2021-06-15</td>\n",
       "    </tr>\n",
       "  </tbody>\n",
       "</table>\n",
       "</div>"
      ],
      "text/plain": [
       "   symbol       max_feed_date  max_feed_price         day\n",
       "0  USDBRL 2021-05-09 23:58:25          5.2370  2021-05-09\n",
       "1  USDGTQ 2021-05-09 23:58:25          7.6568  2021-05-09\n",
       "2  USDPHP 2021-05-09 23:58:25         47.8825  2021-05-09\n",
       "3  USDBRL 2021-06-15 23:58:28          5.0814  2021-06-15\n",
       "4  USDINR 2021-06-15 23:58:28         73.3628  2021-06-15"
      ]
     },
     "execution_count": 13,
     "metadata": {},
     "output_type": "execute_result"
    }
   ],
   "source": [
    "df_forex.head()"
   ]
  },
  {
   "cell_type": "code",
   "execution_count": 14,
   "id": "c1de1725-eafd-4800-b149-8534b2ef2f3d",
   "metadata": {
    "tags": []
   },
   "outputs": [
    {
     "data": {
      "text/html": [
       "<div>\n",
       "<style scoped>\n",
       "    .dataframe tbody tr th:only-of-type {\n",
       "        vertical-align: middle;\n",
       "    }\n",
       "\n",
       "    .dataframe tbody tr th {\n",
       "        vertical-align: top;\n",
       "    }\n",
       "\n",
       "    .dataframe thead th {\n",
       "        text-align: right;\n",
       "    }\n",
       "</style>\n",
       "<table border=\"1\" class=\"dataframe\">\n",
       "  <thead>\n",
       "    <tr style=\"text-align: right;\">\n",
       "      <th></th>\n",
       "      <th>payer</th>\n",
       "      <th>country</th>\n",
       "      <th>date</th>\n",
       "      <th>tx</th>\n",
       "      <th>amount</th>\n",
       "    </tr>\n",
       "  </thead>\n",
       "  <tbody>\n",
       "    <tr>\n",
       "      <th>0</th>\n",
       "      <td>TRANSFERTO - THUNES</td>\n",
       "      <td>BELGIUM</td>\n",
       "      <td>2023-04-03</td>\n",
       "      <td>1</td>\n",
       "      <td>55.55</td>\n",
       "    </tr>\n",
       "    <tr>\n",
       "      <th>1</th>\n",
       "      <td>ARGENPER</td>\n",
       "      <td>PERU</td>\n",
       "      <td>2023-04-03</td>\n",
       "      <td>26</td>\n",
       "      <td>4203.70</td>\n",
       "    </tr>\n",
       "    <tr>\n",
       "      <th>2</th>\n",
       "      <td>NAFA</td>\n",
       "      <td>GAMBIA, THE</td>\n",
       "      <td>2023-04-03</td>\n",
       "      <td>8</td>\n",
       "      <td>1086.50</td>\n",
       "    </tr>\n",
       "    <tr>\n",
       "      <th>3</th>\n",
       "      <td>WALDOS (APPRIZA)</td>\n",
       "      <td>MEXICO</td>\n",
       "      <td>2023-08-31</td>\n",
       "      <td>14</td>\n",
       "      <td>4797.50</td>\n",
       "    </tr>\n",
       "    <tr>\n",
       "      <th>4</th>\n",
       "      <td>BANPAIS (RED CHAPINA)</td>\n",
       "      <td>HONDURAS</td>\n",
       "      <td>2021-05-06</td>\n",
       "      <td>43</td>\n",
       "      <td>17493.00</td>\n",
       "    </tr>\n",
       "  </tbody>\n",
       "</table>\n",
       "</div>"
      ],
      "text/plain": [
       "                   payer      country        date  tx    amount\n",
       "0    TRANSFERTO - THUNES      BELGIUM  2023-04-03   1     55.55\n",
       "1               ARGENPER         PERU  2023-04-03  26   4203.70\n",
       "2                   NAFA  GAMBIA, THE  2023-04-03   8   1086.50\n",
       "3       WALDOS (APPRIZA)       MEXICO  2023-08-31  14   4797.50\n",
       "4  BANPAIS (RED CHAPINA)     HONDURAS  2021-05-06  43  17493.00"
      ]
     },
     "execution_count": 14,
     "metadata": {},
     "output_type": "execute_result"
    }
   ],
   "source": [
    "df.head()"
   ]
  },
  {
   "cell_type": "code",
   "execution_count": 15,
   "id": "6e5ec8f2-923b-4034-89ae-b463d30347f9",
   "metadata": {
    "tags": []
   },
   "outputs": [],
   "source": [
    "# Convert the 'date' column to datetime format\n",
    "df['date'] = pd.to_datetime(df['date'])"
   ]
  },
  {
   "cell_type": "code",
   "execution_count": 16,
   "id": "6949b240-221a-4972-a75a-e100df505340",
   "metadata": {
    "tags": []
   },
   "outputs": [],
   "source": [
    "# Grouping by 'payer' and 'country' concatenated for this level of granularity\n",
    "df['payer_country'] = df['payer'] + '_' + df['country']"
   ]
  },
  {
   "cell_type": "code",
   "execution_count": 17,
   "id": "d732386b-e361-4e0a-a50a-429a8e24e505",
   "metadata": {
    "tags": []
   },
   "outputs": [
    {
     "data": {
      "text/plain": [
       "25110624454.414898"
      ]
     },
     "execution_count": 17,
     "metadata": {},
     "output_type": "execute_result"
    }
   ],
   "source": [
    "# Chequeo montos\n",
    "df['amount'].sum()"
   ]
  },
  {
   "cell_type": "code",
   "execution_count": 18,
   "id": "86827ae1-c1b3-4823-95ee-b4bfd00cb87a",
   "metadata": {
    "tags": []
   },
   "outputs": [],
   "source": [
    "def aging_filter(df):\n",
    "    # Find the last date in the sample\n",
    "    last_date_sample = df['date'].max()\n",
    "\n",
    "    # Calculate the limit date, one day before the last date in the sample\n",
    "    limit_date = last_date_sample - pd.Timedelta(days=1)\n",
    "\n",
    "    # Find the first and last date per 'payer_country' and calculate total_amount and count\n",
    "    result = (\n",
    "        df.groupby('payer_country')\n",
    "        .agg(\n",
    "            first_date=('date', 'min'),\n",
    "            last_date=('date', 'max'),\n",
    "            total_amount=('amount', 'sum'),\n",
    "            total_transactions=('tx', 'sum')  # Add this line for total_transactions\n",
    "        )\n",
    "        .reset_index()\n",
    "    )\n",
    "\n",
    "    # Calculate the 'age_payer' variable accurately using the calculated limit_date\n",
    "    result['age_payer'] = ((limit_date - result['first_date']).dt.days / 30).round(2)\n",
    "\n",
    "    # Calculate the 'active_payer' variable\n",
    "    result['active_time'] = ((result['last_date'] - result['first_date']).dt.days / 30).round(2)\n",
    "\n",
    "    # Calculate the 'inactive' variable\n",
    "    result['inactive_time'] = ((limit_date - result['last_date']).dt.days / 30).round(2)\n",
    "\n",
    "    # Sort the final DataFrame by 'total_amount' from highest to lowest\n",
    "    result = result.sort_values(by='total_amount', ascending=False)\n",
    "\n",
    "    # Filter the DataFrame based on conditions and return aging_universe\n",
    "    aging_universe = result.loc[\n",
    "        (result.age_payer >= 3) & \n",
    "        (result.inactive_time <= 3) & \n",
    "        (result.total_amount > 10000) & \n",
    "        (result.total_transactions > 50)\n",
    "    ]\n",
    "\n",
    "    return aging_universe"
   ]
  },
  {
   "cell_type": "code",
   "execution_count": 19,
   "id": "a2f31d38-f25d-4335-8a5c-f01ea152670c",
   "metadata": {
    "tags": []
   },
   "outputs": [],
   "source": [
    "# Defining Universe\n",
    "df = df[df['amount'] != 0] # Excluding 0 (flag A & Flag C), defined in EDA\n",
    "\n",
    "df_aging = aging_filter(df) #Filtering 'payer_country' based on Aging notebook\n",
    "df_filtered = df[df['payer_country'].isin(df_aging['payer_country'])] # Applying aging filters "
   ]
  },
  {
   "cell_type": "code",
   "execution_count": 20,
   "id": "f91719d3-58cd-4e44-9c3b-042ea75803fc",
   "metadata": {
    "tags": []
   },
   "outputs": [
    {
     "name": "stderr",
     "output_type": "stream",
     "text": [
      "/tmp/ipykernel_64/1252395900.py:2: SettingWithCopyWarning: \n",
      "A value is trying to be set on a copy of a slice from a DataFrame.\n",
      "Try using .loc[row_indexer,col_indexer] = value instead\n",
      "\n",
      "See the caveats in the documentation: https://pandas.pydata.org/pandas-docs/stable/user_guide/indexing.html#returning-a-view-versus-a-copy\n",
      "  df_filtered['date'] = pd.to_datetime(df_filtered['date']).dt.date\n"
     ]
    }
   ],
   "source": [
    "# Date format\n",
    "df_filtered['date'] = pd.to_datetime(df_filtered['date']).dt.date"
   ]
  },
  {
   "cell_type": "code",
   "execution_count": 21,
   "id": "13b8f256-14df-48f7-b3fa-33202a010c66",
   "metadata": {
    "tags": []
   },
   "outputs": [
    {
     "data": {
      "text/plain": [
       "24309892564.971"
      ]
     },
     "execution_count": 21,
     "metadata": {},
     "output_type": "execute_result"
    }
   ],
   "source": [
    "df_filtered['amount'].sum()"
   ]
  },
  {
   "cell_type": "code",
   "execution_count": 22,
   "id": "2f525011-56b0-4b51-af4b-6c1e45577e66",
   "metadata": {},
   "outputs": [
    {
     "data": {
      "text/html": [
       "<div>\n",
       "<style scoped>\n",
       "    .dataframe tbody tr th:only-of-type {\n",
       "        vertical-align: middle;\n",
       "    }\n",
       "\n",
       "    .dataframe tbody tr th {\n",
       "        vertical-align: top;\n",
       "    }\n",
       "\n",
       "    .dataframe thead th {\n",
       "        text-align: right;\n",
       "    }\n",
       "</style>\n",
       "<table border=\"1\" class=\"dataframe\">\n",
       "  <thead>\n",
       "    <tr style=\"text-align: right;\">\n",
       "      <th></th>\n",
       "      <th>payer</th>\n",
       "      <th>country</th>\n",
       "      <th>date</th>\n",
       "      <th>tx</th>\n",
       "      <th>amount</th>\n",
       "      <th>payer_country</th>\n",
       "    </tr>\n",
       "  </thead>\n",
       "  <tbody>\n",
       "    <tr>\n",
       "      <th>0</th>\n",
       "      <td>TRANSFERTO - THUNES</td>\n",
       "      <td>BELGIUM</td>\n",
       "      <td>2023-04-03</td>\n",
       "      <td>1</td>\n",
       "      <td>55.55</td>\n",
       "      <td>TRANSFERTO - THUNES_BELGIUM</td>\n",
       "    </tr>\n",
       "    <tr>\n",
       "      <th>1</th>\n",
       "      <td>ARGENPER</td>\n",
       "      <td>PERU</td>\n",
       "      <td>2023-04-03</td>\n",
       "      <td>26</td>\n",
       "      <td>4203.70</td>\n",
       "      <td>ARGENPER_PERU</td>\n",
       "    </tr>\n",
       "    <tr>\n",
       "      <th>2</th>\n",
       "      <td>NAFA</td>\n",
       "      <td>GAMBIA, THE</td>\n",
       "      <td>2023-04-03</td>\n",
       "      <td>8</td>\n",
       "      <td>1086.50</td>\n",
       "      <td>NAFA_GAMBIA, THE</td>\n",
       "    </tr>\n",
       "  </tbody>\n",
       "</table>\n",
       "</div>"
      ],
      "text/plain": [
       "                 payer      country        date  tx   amount  \\\n",
       "0  TRANSFERTO - THUNES      BELGIUM  2023-04-03   1    55.55   \n",
       "1             ARGENPER         PERU  2023-04-03  26  4203.70   \n",
       "2                 NAFA  GAMBIA, THE  2023-04-03   8  1086.50   \n",
       "\n",
       "                 payer_country  \n",
       "0  TRANSFERTO - THUNES_BELGIUM  \n",
       "1                ARGENPER_PERU  \n",
       "2             NAFA_GAMBIA, THE  "
      ]
     },
     "execution_count": 22,
     "metadata": {},
     "output_type": "execute_result"
    }
   ],
   "source": [
    "df_filtered.head(3)"
   ]
  },
  {
   "cell_type": "code",
   "execution_count": 23,
   "id": "d50d8ffd-589f-43bf-ae25-1498ac7c5c24",
   "metadata": {
    "tags": []
   },
   "outputs": [
    {
     "data": {
      "text/plain": [
       "(87708, 6)"
      ]
     },
     "execution_count": 23,
     "metadata": {},
     "output_type": "execute_result"
    }
   ],
   "source": [
    "df_filtered.shape"
   ]
  },
  {
   "cell_type": "code",
   "execution_count": 24,
   "id": "88af9703-f343-41b3-bf3f-2e6b4de70d00",
   "metadata": {
    "tags": []
   },
   "outputs": [],
   "source": [
    "# CHEQUEO VALORES"
   ]
  },
  {
   "cell_type": "code",
   "execution_count": 25,
   "id": "59af9b61-242c-4ccc-97d7-d99b2a3c8b18",
   "metadata": {
    "tags": []
   },
   "outputs": [
    {
     "data": {
      "text/plain": [
       "13655009099.176899"
      ]
     },
     "execution_count": 25,
     "metadata": {},
     "output_type": "execute_result"
    }
   ],
   "source": [
    "df[df['country'] == 'MEXICO']['amount'].sum()"
   ]
  },
  {
   "cell_type": "code",
   "execution_count": 26,
   "id": "27e553ad-b792-4d18-a330-547227f23bd3",
   "metadata": {
    "tags": []
   },
   "outputs": [
    {
     "data": {
      "text/plain": [
       "12910028578.262497"
      ]
     },
     "execution_count": 26,
     "metadata": {},
     "output_type": "execute_result"
    }
   ],
   "source": [
    "val1 = df_filtered[df_filtered['country'] == 'MEXICO']['amount'].sum()\n",
    "val1"
   ]
  },
  {
   "cell_type": "code",
   "execution_count": 27,
   "id": "890b9e53-5534-4aba-b30e-8ed439e51dd0",
   "metadata": {
    "tags": []
   },
   "outputs": [
    {
     "data": {
      "text/plain": [
       "744980520.914402"
      ]
     },
     "execution_count": 27,
     "metadata": {},
     "output_type": "execute_result"
    }
   ],
   "source": [
    "val2 = df[df['country'] == 'MEXICO']['amount'].sum() - df_filtered[df_filtered['country'] == 'MEXICO']['amount'].sum()\n",
    "val2"
   ]
  },
  {
   "cell_type": "code",
   "execution_count": 28,
   "id": "de159597-1488-4d87-8827-0235612b89f7",
   "metadata": {
    "tags": []
   },
   "outputs": [
    {
     "data": {
      "text/plain": [
       "0.05770556714094165"
      ]
     },
     "execution_count": 28,
     "metadata": {},
     "output_type": "execute_result"
    }
   ],
   "source": [
    "val2/val1"
   ]
  },
  {
   "cell_type": "code",
   "execution_count": 29,
   "id": "7eddd452-4bd1-4ad9-aa37-de1354d77fc5",
   "metadata": {
    "tags": []
   },
   "outputs": [
    {
     "data": {
      "text/plain": [
       "6397946743.728701"
      ]
     },
     "execution_count": 29,
     "metadata": {},
     "output_type": "execute_result"
    }
   ],
   "source": [
    "df[df['payer_country'] == 'ELEKTRA (MEXICO)_MEXICO']['amount'].sum()"
   ]
  },
  {
   "cell_type": "code",
   "execution_count": 30,
   "id": "e57146b3-30fd-4687-861e-a1e8462b16d7",
   "metadata": {
    "tags": []
   },
   "outputs": [
    {
     "data": {
      "text/plain": [
       "6397946743.728701"
      ]
     },
     "execution_count": 30,
     "metadata": {},
     "output_type": "execute_result"
    }
   ],
   "source": [
    "df_filtered[df_filtered['payer_country'] == 'ELEKTRA (MEXICO)_MEXICO']['amount'].sum()"
   ]
  },
  {
   "cell_type": "code",
   "execution_count": 31,
   "id": "598f432b-3036-4870-baaa-1439724b5b91",
   "metadata": {
    "tags": []
   },
   "outputs": [
    {
     "data": {
      "text/plain": [
       "array(['BELGIUM', 'PERU', 'GAMBIA, THE', 'MEXICO', 'HONDURAS', 'NIGERIA',\n",
       "       'ECUADOR', 'UNITED KINGDOM', 'BRAZIL', 'UNITED STATES',\n",
       "       'PHILIPPINES', 'EL SALVADOR', 'NICARAGUA', 'GUATEMALA', 'BOLIVIA',\n",
       "       'HAITI', 'DOMINICAN REPUBLIC', 'UNITED STATES (ATM & DEPOSITS)',\n",
       "       'COLOMBIA', 'SIERRA LEONE', 'CHILE', 'ARGENTINA', 'BANGLADESH',\n",
       "       'INDONESIA', 'MALAYSIA', 'GUINEA', 'CAMEROON', 'NEPAL', 'GHANA',\n",
       "       'INDIA', 'THAILAND', 'FRANCE', 'BURKINA FASO', 'SPAIN', 'PORTUGAL',\n",
       "       \"COTE D'IVOIRE (IVORY COAST)\", 'BENIN', 'SENEGAL', 'TOGO',\n",
       "       'LIBERIA', 'GERMANY', 'JAMAICA', 'MALI', 'ITALY', 'COSTA RICA'],\n",
       "      dtype=object)"
      ]
     },
     "execution_count": 31,
     "metadata": {},
     "output_type": "execute_result"
    }
   ],
   "source": [
    "df_filtered['country'].unique()"
   ]
  },
  {
   "cell_type": "code",
   "execution_count": null,
   "id": "33ef7d67-76cf-401c-a2b9-989d3aaffd6b",
   "metadata": {},
   "outputs": [],
   "source": []
  },
  {
   "cell_type": "code",
   "execution_count": 32,
   "id": "8d12f38e-5f14-453e-82fe-1ea3b13f853f",
   "metadata": {
    "tags": []
   },
   "outputs": [
    {
     "data": {
      "text/html": [
       "<div>\n",
       "<style scoped>\n",
       "    .dataframe tbody tr th:only-of-type {\n",
       "        vertical-align: middle;\n",
       "    }\n",
       "\n",
       "    .dataframe tbody tr th {\n",
       "        vertical-align: top;\n",
       "    }\n",
       "\n",
       "    .dataframe thead th {\n",
       "        text-align: right;\n",
       "    }\n",
       "</style>\n",
       "<table border=\"1\" class=\"dataframe\">\n",
       "  <thead>\n",
       "    <tr style=\"text-align: right;\">\n",
       "      <th></th>\n",
       "      <th>symbol</th>\n",
       "      <th>max_feed_date</th>\n",
       "      <th>max_feed_price</th>\n",
       "      <th>day</th>\n",
       "    </tr>\n",
       "  </thead>\n",
       "  <tbody>\n",
       "    <tr>\n",
       "      <th>0</th>\n",
       "      <td>USDBRL</td>\n",
       "      <td>2021-05-09 23:58:25</td>\n",
       "      <td>5.2370</td>\n",
       "      <td>2021-05-09</td>\n",
       "    </tr>\n",
       "    <tr>\n",
       "      <th>1</th>\n",
       "      <td>USDGTQ</td>\n",
       "      <td>2021-05-09 23:58:25</td>\n",
       "      <td>7.6568</td>\n",
       "      <td>2021-05-09</td>\n",
       "    </tr>\n",
       "    <tr>\n",
       "      <th>2</th>\n",
       "      <td>USDPHP</td>\n",
       "      <td>2021-05-09 23:58:25</td>\n",
       "      <td>47.8825</td>\n",
       "      <td>2021-05-09</td>\n",
       "    </tr>\n",
       "    <tr>\n",
       "      <th>3</th>\n",
       "      <td>USDBRL</td>\n",
       "      <td>2021-06-15 23:58:28</td>\n",
       "      <td>5.0814</td>\n",
       "      <td>2021-06-15</td>\n",
       "    </tr>\n",
       "    <tr>\n",
       "      <th>4</th>\n",
       "      <td>USDINR</td>\n",
       "      <td>2021-06-15 23:58:28</td>\n",
       "      <td>73.3628</td>\n",
       "      <td>2021-06-15</td>\n",
       "    </tr>\n",
       "  </tbody>\n",
       "</table>\n",
       "</div>"
      ],
      "text/plain": [
       "   symbol       max_feed_date  max_feed_price         day\n",
       "0  USDBRL 2021-05-09 23:58:25          5.2370  2021-05-09\n",
       "1  USDGTQ 2021-05-09 23:58:25          7.6568  2021-05-09\n",
       "2  USDPHP 2021-05-09 23:58:25         47.8825  2021-05-09\n",
       "3  USDBRL 2021-06-15 23:58:28          5.0814  2021-06-15\n",
       "4  USDINR 2021-06-15 23:58:28         73.3628  2021-06-15"
      ]
     },
     "execution_count": 32,
     "metadata": {},
     "output_type": "execute_result"
    }
   ],
   "source": [
    "### RATES ###\n",
    "#df_rates=pd.read_csv('rates_completo.csv') # CHEQUEAR FUENTE DE ORIGEN (COMPLETO TRAE TODOS LOS DATOS DDE ORIGEN)\n",
    "df_forex.head()"
   ]
  },
  {
   "cell_type": "code",
   "execution_count": 33,
   "id": "c089041c-1b59-4f3b-bf46-ad3a2b3b0a6d",
   "metadata": {
    "tags": []
   },
   "outputs": [],
   "source": [
    "# Selecting columns & renaming\n",
    "df_forex=df_forex.rename(columns={'day': 'date', 'max_feed_price': 'feed_price'})\n",
    "df_forex=df_forex.loc[:,['date', 'feed_price', 'symbol']]"
   ]
  },
  {
   "cell_type": "code",
   "execution_count": 34,
   "id": "abe6db92-9817-4e3d-a9da-beaf08325c42",
   "metadata": {
    "tags": []
   },
   "outputs": [
    {
     "data": {
      "text/html": [
       "<div>\n",
       "<style scoped>\n",
       "    .dataframe tbody tr th:only-of-type {\n",
       "        vertical-align: middle;\n",
       "    }\n",
       "\n",
       "    .dataframe tbody tr th {\n",
       "        vertical-align: top;\n",
       "    }\n",
       "\n",
       "    .dataframe thead th {\n",
       "        text-align: right;\n",
       "    }\n",
       "</style>\n",
       "<table border=\"1\" class=\"dataframe\">\n",
       "  <thead>\n",
       "    <tr style=\"text-align: right;\">\n",
       "      <th></th>\n",
       "      <th>date</th>\n",
       "      <th>feed_price</th>\n",
       "      <th>symbol</th>\n",
       "    </tr>\n",
       "  </thead>\n",
       "  <tbody>\n",
       "    <tr>\n",
       "      <th>0</th>\n",
       "      <td>2021-05-09</td>\n",
       "      <td>5.2370</td>\n",
       "      <td>USDBRL</td>\n",
       "    </tr>\n",
       "    <tr>\n",
       "      <th>1</th>\n",
       "      <td>2021-05-09</td>\n",
       "      <td>7.6568</td>\n",
       "      <td>USDGTQ</td>\n",
       "    </tr>\n",
       "    <tr>\n",
       "      <th>2</th>\n",
       "      <td>2021-05-09</td>\n",
       "      <td>47.8825</td>\n",
       "      <td>USDPHP</td>\n",
       "    </tr>\n",
       "    <tr>\n",
       "      <th>3</th>\n",
       "      <td>2021-06-15</td>\n",
       "      <td>5.0814</td>\n",
       "      <td>USDBRL</td>\n",
       "    </tr>\n",
       "    <tr>\n",
       "      <th>4</th>\n",
       "      <td>2021-06-15</td>\n",
       "      <td>73.3628</td>\n",
       "      <td>USDINR</td>\n",
       "    </tr>\n",
       "  </tbody>\n",
       "</table>\n",
       "</div>"
      ],
      "text/plain": [
       "         date  feed_price  symbol\n",
       "0  2021-05-09      5.2370  USDBRL\n",
       "1  2021-05-09      7.6568  USDGTQ\n",
       "2  2021-05-09     47.8825  USDPHP\n",
       "3  2021-06-15      5.0814  USDBRL\n",
       "4  2021-06-15     73.3628  USDINR"
      ]
     },
     "execution_count": 34,
     "metadata": {},
     "output_type": "execute_result"
    }
   ],
   "source": [
    "df_forex.head()"
   ]
  },
  {
   "cell_type": "code",
   "execution_count": 35,
   "id": "024a514c-98f6-4b29-ab25-9a5002ef972d",
   "metadata": {
    "tags": []
   },
   "outputs": [],
   "source": [
    "df_rates=df_forex.copy()"
   ]
  },
  {
   "cell_type": "code",
   "execution_count": 36,
   "id": "d73800ff-5613-4264-b577-480c645e2ed4",
   "metadata": {
    "tags": []
   },
   "outputs": [],
   "source": [
    "#df_rates['date'] = pd.to_datetime(df_rates['date']).dt.date\n",
    "#df_rates['date'] = pd.to_datetime(df_rates['date'])"
   ]
  },
  {
   "cell_type": "code",
   "execution_count": 37,
   "id": "90bd03e5-f23b-4516-b1cf-1da6fd789799",
   "metadata": {
    "tags": []
   },
   "outputs": [
    {
     "data": {
      "text/plain": [
       "(datetime.date(2021, 1, 1), datetime.date(2023, 10, 22))"
      ]
     },
     "execution_count": 37,
     "metadata": {},
     "output_type": "execute_result"
    }
   ],
   "source": [
    "# AHORA hay continuidad de fechas (chequeado, 1023 datos por cada pais desde 01/01/2021 hasta el 21/10/2023)\n",
    "df_rates['date'].min(), df_rates['date'].max()"
   ]
  },
  {
   "cell_type": "code",
   "execution_count": 38,
   "id": "bbb26427-16bc-41ae-8c07-d6cef0764430",
   "metadata": {
    "tags": []
   },
   "outputs": [],
   "source": [
    "# Function to keep last register, per day\n",
    "import matplotlib.pyplot as plt\n",
    "def get_closing_prices(data, start_date, end_date):\n",
    "    # Convert the 'FEED_DATE' column to datetime type if it is not already\n",
    "    data['date'] = pd.to_datetime(data['date'])\n",
    "\n",
    "    # Filter by date range\n",
    "    data_filtered = data[(data['date'] >= start_date) & (data['date'] <= end_date)]\n",
    "\n",
    "    # Sort by 'FEED_DATE' to ensure that the data is in chronological order\n",
    "    data_filtered = data_filtered.sort_values(by='date')\n",
    "\n",
    "    # Group by 'SYMBOL' and 'FEED_DATE', taking the last value of 'FEED_PRICE'\n",
    "    data_grouped = data_filtered.groupby(['symbol', pd.Grouper(key='date', freq='D')])['feed_price'].last().reset_index()\n",
    "    \n",
    " # Generate evolution plots for each SYMBOL\n",
    "    for symbol in data_grouped['symbol'].unique():\n",
    "        symbol_data = data_grouped[data_grouped['symbol'] == symbol]\n",
    "\n",
    "        plt.figure(figsize=(10, 6))\n",
    "        plt.plot(symbol_data['date'], symbol_data['feed_price'], label=symbol)\n",
    "        plt.title(f'Closing prices evolution for {symbol}')\n",
    "        plt.xlabel('Date')\n",
    "        plt.ylabel('Closing Price')\n",
    "        plt.legend()\n",
    "        plt.show()\n",
    "    \n",
    "    return data_grouped"
   ]
  },
  {
   "cell_type": "code",
   "execution_count": 39,
   "id": "cc2bd519-1e78-4547-a753-e8060c00ca60",
   "metadata": {
    "tags": []
   },
   "outputs": [
    {
     "data": {
      "image/png": "[encoded data removed]",
      "text/plain": [
       "<Figure size 1000x600 with 1 Axes>"
      ]
     },
     "metadata": {},
     "output_type": "display_data"
    },
    {
     "data": {
      "image/png": "[encoded data removed]",
      "text/plain": [
       "<Figure size 1000x600 with 1 Axes>"
      ]
     },
     "metadata": {},
     "output_type": "display_data"
    },
    {
     "data": {
      "image/png": "[encoded data removed]",
      "text/plain": [
       "<Figure size 1000x600 with 1 Axes>"
      ]
     },
     "metadata": {},
     "output_type": "display_data"
    },
    {
     "data": {
      "image/png": "[encoded data removed]",
      "text/plain": [
       "<Figure size 1000x600 with 1 Axes>"
      ]
     },
     "metadata": {},
     "output_type": "display_data"
    },
    {
     "data": {
      "image/png": "[encoded data removed]",
      "text/plain": [
       "<Figure size 1000x600 with 1 Axes>"
      ]
     },
     "metadata": {},
     "output_type": "display_data"
    }
   ],
   "source": [
    "start_date = '2021-01-01'\n",
    "end_date = '2023-10-22'\n",
    "\n",
    "rates = get_closing_prices(df_rates, start_date, end_date)"
   ]
  },
  {
   "cell_type": "code",
   "execution_count": 40,
   "id": "8d26a296-ddbf-4f87-93f5-32650e6bfe87",
   "metadata": {
    "tags": []
   },
   "outputs": [
    {
     "data": {
      "text/html": [
       "<div>\n",
       "<style scoped>\n",
       "    .dataframe tbody tr th:only-of-type {\n",
       "        vertical-align: middle;\n",
       "    }\n",
       "\n",
       "    .dataframe tbody tr th {\n",
       "        vertical-align: top;\n",
       "    }\n",
       "\n",
       "    .dataframe thead th {\n",
       "        text-align: right;\n",
       "    }\n",
       "</style>\n",
       "<table border=\"1\" class=\"dataframe\">\n",
       "  <thead>\n",
       "    <tr style=\"text-align: right;\">\n",
       "      <th></th>\n",
       "      <th>symbol</th>\n",
       "      <th>date</th>\n",
       "      <th>feed_price</th>\n",
       "    </tr>\n",
       "  </thead>\n",
       "  <tbody>\n",
       "    <tr>\n",
       "      <th>0</th>\n",
       "      <td>USDBRL</td>\n",
       "      <td>2021-01-01</td>\n",
       "      <td>5.1935</td>\n",
       "    </tr>\n",
       "    <tr>\n",
       "      <th>1</th>\n",
       "      <td>USDBRL</td>\n",
       "      <td>2021-01-02</td>\n",
       "      <td>5.1934</td>\n",
       "    </tr>\n",
       "    <tr>\n",
       "      <th>2</th>\n",
       "      <td>USDBRL</td>\n",
       "      <td>2021-01-03</td>\n",
       "      <td>5.2008</td>\n",
       "    </tr>\n",
       "    <tr>\n",
       "      <th>3</th>\n",
       "      <td>USDBRL</td>\n",
       "      <td>2021-01-04</td>\n",
       "      <td>5.2976</td>\n",
       "    </tr>\n",
       "    <tr>\n",
       "      <th>4</th>\n",
       "      <td>USDBRL</td>\n",
       "      <td>2021-01-05</td>\n",
       "      <td>5.3244</td>\n",
       "    </tr>\n",
       "    <tr>\n",
       "      <th>5</th>\n",
       "      <td>USDBRL</td>\n",
       "      <td>2021-01-06</td>\n",
       "      <td>5.3182</td>\n",
       "    </tr>\n",
       "    <tr>\n",
       "      <th>6</th>\n",
       "      <td>USDBRL</td>\n",
       "      <td>2021-01-07</td>\n",
       "      <td>5.4108</td>\n",
       "    </tr>\n",
       "    <tr>\n",
       "      <th>7</th>\n",
       "      <td>USDBRL</td>\n",
       "      <td>2021-01-08</td>\n",
       "      <td>5.4242</td>\n",
       "    </tr>\n",
       "    <tr>\n",
       "      <th>8</th>\n",
       "      <td>USDBRL</td>\n",
       "      <td>2021-01-09</td>\n",
       "      <td>5.4206</td>\n",
       "    </tr>\n",
       "    <tr>\n",
       "      <th>9</th>\n",
       "      <td>USDBRL</td>\n",
       "      <td>2021-01-10</td>\n",
       "      <td>5.4186</td>\n",
       "    </tr>\n",
       "    <tr>\n",
       "      <th>10</th>\n",
       "      <td>USDBRL</td>\n",
       "      <td>2021-01-11</td>\n",
       "      <td>5.4898</td>\n",
       "    </tr>\n",
       "    <tr>\n",
       "      <th>11</th>\n",
       "      <td>USDBRL</td>\n",
       "      <td>2021-01-12</td>\n",
       "      <td>5.4904</td>\n",
       "    </tr>\n",
       "    <tr>\n",
       "      <th>12</th>\n",
       "      <td>USDBRL</td>\n",
       "      <td>2021-01-13</td>\n",
       "      <td>5.3371</td>\n",
       "    </tr>\n",
       "    <tr>\n",
       "      <th>13</th>\n",
       "      <td>USDBRL</td>\n",
       "      <td>2021-01-14</td>\n",
       "      <td>5.2996</td>\n",
       "    </tr>\n",
       "    <tr>\n",
       "      <th>14</th>\n",
       "      <td>USDBRL</td>\n",
       "      <td>2021-01-15</td>\n",
       "      <td>5.2931</td>\n",
       "    </tr>\n",
       "    <tr>\n",
       "      <th>15</th>\n",
       "      <td>USDBRL</td>\n",
       "      <td>2021-01-16</td>\n",
       "      <td>5.2933</td>\n",
       "    </tr>\n",
       "    <tr>\n",
       "      <th>16</th>\n",
       "      <td>USDBRL</td>\n",
       "      <td>2021-01-17</td>\n",
       "      <td>5.2933</td>\n",
       "    </tr>\n",
       "    <tr>\n",
       "      <th>17</th>\n",
       "      <td>USDBRL</td>\n",
       "      <td>2021-01-18</td>\n",
       "      <td>5.3077</td>\n",
       "    </tr>\n",
       "    <tr>\n",
       "      <th>18</th>\n",
       "      <td>USDBRL</td>\n",
       "      <td>2021-01-19</td>\n",
       "      <td>5.3583</td>\n",
       "    </tr>\n",
       "    <tr>\n",
       "      <th>19</th>\n",
       "      <td>USDBRL</td>\n",
       "      <td>2021-01-20</td>\n",
       "      <td>5.3585</td>\n",
       "    </tr>\n",
       "  </tbody>\n",
       "</table>\n",
       "</div>"
      ],
      "text/plain": [
       "    symbol       date  feed_price\n",
       "0   USDBRL 2021-01-01      5.1935\n",
       "1   USDBRL 2021-01-02      5.1934\n",
       "2   USDBRL 2021-01-03      5.2008\n",
       "3   USDBRL 2021-01-04      5.2976\n",
       "4   USDBRL 2021-01-05      5.3244\n",
       "5   USDBRL 2021-01-06      5.3182\n",
       "6   USDBRL 2021-01-07      5.4108\n",
       "7   USDBRL 2021-01-08      5.4242\n",
       "8   USDBRL 2021-01-09      5.4206\n",
       "9   USDBRL 2021-01-10      5.4186\n",
       "10  USDBRL 2021-01-11      5.4898\n",
       "11  USDBRL 2021-01-12      5.4904\n",
       "12  USDBRL 2021-01-13      5.3371\n",
       "13  USDBRL 2021-01-14      5.2996\n",
       "14  USDBRL 2021-01-15      5.2931\n",
       "15  USDBRL 2021-01-16      5.2933\n",
       "16  USDBRL 2021-01-17      5.2933\n",
       "17  USDBRL 2021-01-18      5.3077\n",
       "18  USDBRL 2021-01-19      5.3583\n",
       "19  USDBRL 2021-01-20      5.3585"
      ]
     },
     "execution_count": 40,
     "metadata": {},
     "output_type": "execute_result"
    }
   ],
   "source": [
    "rates.head(20)"
   ]
  },
  {
   "cell_type": "code",
   "execution_count": 41,
   "id": "7c540ada-d84f-45a4-9d5b-2f151abf15c5",
   "metadata": {
    "tags": []
   },
   "outputs": [],
   "source": [
    "#Date format\n",
    "#rates['date'] = rates['date'].dt.date"
   ]
  },
  {
   "cell_type": "code",
   "execution_count": null,
   "id": "e99891cd-579c-48c1-bbe8-006367d43c02",
   "metadata": {
    "tags": []
   },
   "outputs": [],
   "source": []
  },
  {
   "cell_type": "code",
   "execution_count": 42,
   "id": "888a43a3-33cb-4a79-8fea-dca69ebdfbd6",
   "metadata": {
    "tags": []
   },
   "outputs": [],
   "source": [
    "# Generating an empty df with date continuity and currency included in rates df\n",
    "from itertools import product\n",
    "\n",
    "def generate_continuous_dates(data):\n",
    "    # Obtener la lista única de monedas y fechas disponibles\n",
    "    countries = data['symbol'].unique()\n",
    "    dates = pd.date_range(start=data['date'].min(), end=data['date'].max(), freq='D')\n",
    "\n",
    "    # Generar todas las combinaciones de países y fechas continuas\n",
    "    all_dates = list(product(countries, dates))\n",
    "    continuous_dates = pd.DataFrame(all_dates, columns=['symbol', 'date'])\n",
    "\n",
    "    return continuous_dates"
   ]
  },
  {
   "cell_type": "code",
   "execution_count": 43,
   "id": "7b3c3880-700d-44ed-9c8d-5597d321172e",
   "metadata": {
    "tags": []
   },
   "outputs": [],
   "source": [
    "rates_cont = generate_continuous_dates(rates)"
   ]
  },
  {
   "cell_type": "code",
   "execution_count": 44,
   "id": "9b35be0c-47cb-4a3a-85d2-33396b6f76c0",
   "metadata": {
    "tags": []
   },
   "outputs": [
    {
     "data": {
      "text/plain": [
       "(5125, 2)"
      ]
     },
     "execution_count": 44,
     "metadata": {},
     "output_type": "execute_result"
    }
   ],
   "source": [
    "##1025 days x 5 countries= 5125\n",
    "rates_cont.shape"
   ]
  },
  {
   "cell_type": "code",
   "execution_count": 45,
   "id": "dbaa63bb-d9a1-43d7-9956-2d037764fb71",
   "metadata": {
    "tags": []
   },
   "outputs": [
    {
     "data": {
      "text/plain": [
       "(Timestamp('2021-01-01 00:00:00'), Timestamp('2023-10-22 00:00:00'))"
      ]
     },
     "execution_count": 45,
     "metadata": {},
     "output_type": "execute_result"
    }
   ],
   "source": [
    "rates_cont.date.min(), rates_cont.date.max()"
   ]
  },
  {
   "cell_type": "code",
   "execution_count": 46,
   "id": "e2c81d31-09b3-4b73-8413-269871685511",
   "metadata": {
    "tags": []
   },
   "outputs": [
    {
     "data": {
      "text/plain": [
       "symbol    0\n",
       "date      0\n",
       "dtype: int64"
      ]
     },
     "execution_count": 46,
     "metadata": {},
     "output_type": "execute_result"
    }
   ],
   "source": [
    "rates_cont.isna().sum()"
   ]
  },
  {
   "cell_type": "code",
   "execution_count": 47,
   "id": "6e9d35b0-5460-48a8-aa23-9fa138c3c0e2",
   "metadata": {
    "tags": []
   },
   "outputs": [],
   "source": [
    "rates_cont = pd.merge(rates_cont, rates, on=['symbol', 'date'], how='left')"
   ]
  },
  {
   "cell_type": "code",
   "execution_count": 48,
   "id": "e4ea86de-5e0b-4117-a80e-66a715375532",
   "metadata": {
    "tags": []
   },
   "outputs": [
    {
     "name": "stdout",
     "output_type": "stream",
     "text": [
      "<class 'pandas.core.frame.DataFrame'>\n",
      "RangeIndex: 5125 entries, 0 to 5124\n",
      "Data columns (total 3 columns):\n",
      " #   Column      Non-Null Count  Dtype         \n",
      "---  ------      --------------  -----         \n",
      " 0   symbol      5125 non-null   object        \n",
      " 1   date        5125 non-null   datetime64[ns]\n",
      " 2   feed_price  5125 non-null   float64       \n",
      "dtypes: datetime64[ns](1), float64(1), object(1)\n",
      "memory usage: 120.2+ KB\n"
     ]
    }
   ],
   "source": [
    "rates_cont.info()"
   ]
  },
  {
   "cell_type": "code",
   "execution_count": 49,
   "id": "6ddf8927-3e0a-44a6-af83-2b93182a5d6b",
   "metadata": {
    "tags": []
   },
   "outputs": [
    {
     "name": "stderr",
     "output_type": "stream",
     "text": [
      "/tmp/ipykernel_64/305076726.py:5: FutureWarning: Series.fillna with 'method' is deprecated and will raise in a future version. Use obj.ffill() or obj.bfill() instead.\n",
      "  rates_cont['feed_price'] = rates_cont.groupby('symbol')['feed_price'].fillna(method='ffill')\n"
     ]
    }
   ],
   "source": [
    "#NOW IT MAKES NO SENSE SINCE THERE ARE NO MISSINGS\n",
    "# Sorting by date and country for proper forward filling\n",
    "rates_cont = rates_cont.sort_values(by=['symbol', 'date'])\n",
    "# Filling missing values downward within each country group\n",
    "rates_cont['feed_price'] = rates_cont.groupby('symbol')['feed_price'].fillna(method='ffill')"
   ]
  },
  {
   "cell_type": "code",
   "execution_count": null,
   "id": "1c88d400-233f-4690-9946-964a2e8e9567",
   "metadata": {
    "tags": []
   },
   "outputs": [],
   "source": []
  },
  {
   "cell_type": "code",
   "execution_count": null,
   "id": "aaf4e55c-eb10-4c31-b312-429604848bf4",
   "metadata": {
    "tags": []
   },
   "outputs": [],
   "source": []
  },
  {
   "cell_type": "code",
   "execution_count": 50,
   "id": "2c0f03a5-c5ae-454f-b032-abe6d659e860",
   "metadata": {
    "tags": []
   },
   "outputs": [
    {
     "data": {
      "text/html": [
       "<div>\n",
       "<style scoped>\n",
       "    .dataframe tbody tr th:only-of-type {\n",
       "        vertical-align: middle;\n",
       "    }\n",
       "\n",
       "    .dataframe tbody tr th {\n",
       "        vertical-align: top;\n",
       "    }\n",
       "\n",
       "    .dataframe thead th {\n",
       "        text-align: right;\n",
       "    }\n",
       "</style>\n",
       "<table border=\"1\" class=\"dataframe\">\n",
       "  <thead>\n",
       "    <tr style=\"text-align: right;\">\n",
       "      <th></th>\n",
       "      <th>symbol</th>\n",
       "      <th>date</th>\n",
       "      <th>feed_price</th>\n",
       "    </tr>\n",
       "  </thead>\n",
       "  <tbody>\n",
       "    <tr>\n",
       "      <th>0</th>\n",
       "      <td>USDBRL</td>\n",
       "      <td>2021-01-01</td>\n",
       "      <td>5.1935</td>\n",
       "    </tr>\n",
       "    <tr>\n",
       "      <th>1</th>\n",
       "      <td>USDBRL</td>\n",
       "      <td>2021-01-02</td>\n",
       "      <td>5.1934</td>\n",
       "    </tr>\n",
       "    <tr>\n",
       "      <th>2</th>\n",
       "      <td>USDBRL</td>\n",
       "      <td>2021-01-03</td>\n",
       "      <td>5.2008</td>\n",
       "    </tr>\n",
       "    <tr>\n",
       "      <th>3</th>\n",
       "      <td>USDBRL</td>\n",
       "      <td>2021-01-04</td>\n",
       "      <td>5.2976</td>\n",
       "    </tr>\n",
       "    <tr>\n",
       "      <th>4</th>\n",
       "      <td>USDBRL</td>\n",
       "      <td>2021-01-05</td>\n",
       "      <td>5.3244</td>\n",
       "    </tr>\n",
       "  </tbody>\n",
       "</table>\n",
       "</div>"
      ],
      "text/plain": [
       "   symbol       date  feed_price\n",
       "0  USDBRL 2021-01-01      5.1935\n",
       "1  USDBRL 2021-01-02      5.1934\n",
       "2  USDBRL 2021-01-03      5.2008\n",
       "3  USDBRL 2021-01-04      5.2976\n",
       "4  USDBRL 2021-01-05      5.3244"
      ]
     },
     "execution_count": 50,
     "metadata": {},
     "output_type": "execute_result"
    }
   ],
   "source": [
    "rates_cont.head()"
   ]
  },
  {
   "cell_type": "code",
   "execution_count": 51,
   "id": "3c40c0a4-b01a-4c7f-883c-1b672dc86130",
   "metadata": {
    "tags": []
   },
   "outputs": [],
   "source": [
    "###WE OBTAIN THE LAGS OF UP TO 7 DAYS FOR THE EXCHANGE RATE \n",
    "for i in range(1, 8):\n",
    "        nombre_columna = f'feed_price_retardo_{i}'\n",
    "        rates_cont[nombre_columna] = rates_cont.groupby('symbol')['feed_price'].shift(i)"
   ]
  },
  {
   "cell_type": "code",
   "execution_count": 52,
   "id": "b828e046-4555-4007-85fb-7c9bc843a5fb",
   "metadata": {
    "tags": []
   },
   "outputs": [
    {
     "data": {
      "text/html": [
       "<div>\n",
       "<style scoped>\n",
       "    .dataframe tbody tr th:only-of-type {\n",
       "        vertical-align: middle;\n",
       "    }\n",
       "\n",
       "    .dataframe tbody tr th {\n",
       "        vertical-align: top;\n",
       "    }\n",
       "\n",
       "    .dataframe thead th {\n",
       "        text-align: right;\n",
       "    }\n",
       "</style>\n",
       "<table border=\"1\" class=\"dataframe\">\n",
       "  <thead>\n",
       "    <tr style=\"text-align: right;\">\n",
       "      <th></th>\n",
       "      <th>symbol</th>\n",
       "      <th>date</th>\n",
       "      <th>feed_price</th>\n",
       "      <th>feed_price_retardo_1</th>\n",
       "      <th>feed_price_retardo_2</th>\n",
       "      <th>feed_price_retardo_3</th>\n",
       "      <th>feed_price_retardo_4</th>\n",
       "      <th>feed_price_retardo_5</th>\n",
       "      <th>feed_price_retardo_6</th>\n",
       "      <th>feed_price_retardo_7</th>\n",
       "    </tr>\n",
       "  </thead>\n",
       "  <tbody>\n",
       "    <tr>\n",
       "      <th>0</th>\n",
       "      <td>USDBRL</td>\n",
       "      <td>2021-01-01</td>\n",
       "      <td>5.1935</td>\n",
       "      <td>NaN</td>\n",
       "      <td>NaN</td>\n",
       "      <td>NaN</td>\n",
       "      <td>NaN</td>\n",
       "      <td>NaN</td>\n",
       "      <td>NaN</td>\n",
       "      <td>NaN</td>\n",
       "    </tr>\n",
       "    <tr>\n",
       "      <th>1</th>\n",
       "      <td>USDBRL</td>\n",
       "      <td>2021-01-02</td>\n",
       "      <td>5.1934</td>\n",
       "      <td>5.1935</td>\n",
       "      <td>NaN</td>\n",
       "      <td>NaN</td>\n",
       "      <td>NaN</td>\n",
       "      <td>NaN</td>\n",
       "      <td>NaN</td>\n",
       "      <td>NaN</td>\n",
       "    </tr>\n",
       "    <tr>\n",
       "      <th>2</th>\n",
       "      <td>USDBRL</td>\n",
       "      <td>2021-01-03</td>\n",
       "      <td>5.2008</td>\n",
       "      <td>5.1934</td>\n",
       "      <td>5.1935</td>\n",
       "      <td>NaN</td>\n",
       "      <td>NaN</td>\n",
       "      <td>NaN</td>\n",
       "      <td>NaN</td>\n",
       "      <td>NaN</td>\n",
       "    </tr>\n",
       "    <tr>\n",
       "      <th>3</th>\n",
       "      <td>USDBRL</td>\n",
       "      <td>2021-01-04</td>\n",
       "      <td>5.2976</td>\n",
       "      <td>5.2008</td>\n",
       "      <td>5.1934</td>\n",
       "      <td>5.1935</td>\n",
       "      <td>NaN</td>\n",
       "      <td>NaN</td>\n",
       "      <td>NaN</td>\n",
       "      <td>NaN</td>\n",
       "    </tr>\n",
       "    <tr>\n",
       "      <th>4</th>\n",
       "      <td>USDBRL</td>\n",
       "      <td>2021-01-05</td>\n",
       "      <td>5.3244</td>\n",
       "      <td>5.2976</td>\n",
       "      <td>5.2008</td>\n",
       "      <td>5.1934</td>\n",
       "      <td>5.1935</td>\n",
       "      <td>NaN</td>\n",
       "      <td>NaN</td>\n",
       "      <td>NaN</td>\n",
       "    </tr>\n",
       "  </tbody>\n",
       "</table>\n",
       "</div>"
      ],
      "text/plain": [
       "   symbol       date  feed_price  feed_price_retardo_1  feed_price_retardo_2  \\\n",
       "0  USDBRL 2021-01-01      5.1935                   NaN                   NaN   \n",
       "1  USDBRL 2021-01-02      5.1934                5.1935                   NaN   \n",
       "2  USDBRL 2021-01-03      5.2008                5.1934                5.1935   \n",
       "3  USDBRL 2021-01-04      5.2976                5.2008                5.1934   \n",
       "4  USDBRL 2021-01-05      5.3244                5.2976                5.2008   \n",
       "\n",
       "   feed_price_retardo_3  feed_price_retardo_4  feed_price_retardo_5  \\\n",
       "0                   NaN                   NaN                   NaN   \n",
       "1                   NaN                   NaN                   NaN   \n",
       "2                   NaN                   NaN                   NaN   \n",
       "3                5.1935                   NaN                   NaN   \n",
       "4                5.1934                5.1935                   NaN   \n",
       "\n",
       "   feed_price_retardo_6  feed_price_retardo_7  \n",
       "0                   NaN                   NaN  \n",
       "1                   NaN                   NaN  \n",
       "2                   NaN                   NaN  \n",
       "3                   NaN                   NaN  \n",
       "4                   NaN                   NaN  "
      ]
     },
     "execution_count": 52,
     "metadata": {},
     "output_type": "execute_result"
    }
   ],
   "source": [
    "rates_cont.head()"
   ]
  },
  {
   "cell_type": "code",
   "execution_count": 53,
   "id": "256b3b3b-7dcc-4751-a490-b1a8d555f921",
   "metadata": {
    "tags": []
   },
   "outputs": [],
   "source": [
    "rates_cont['var_rate_lag1']=rates_cont.feed_price_retardo_1-rates_cont.feed_price_retardo_2\n",
    "rates_cont['var_rate_lag2']=rates_cont.feed_price_retardo_2-rates_cont.feed_price_retardo_3\n",
    "rates_cont['var_rate_lag3']=rates_cont.feed_price_retardo_3-rates_cont.feed_price_retardo_4\n",
    "rates_cont['var_rate_lag4']=rates_cont.feed_price_retardo_4-rates_cont.feed_price_retardo_5\n",
    "rates_cont['var_rate_lag5']=rates_cont.feed_price_retardo_5-rates_cont.feed_price_retardo_6\n",
    "rates_cont['var_rate_lag6']=rates_cont.feed_price_retardo_6-rates_cont.feed_price_retardo_7"
   ]
  },
  {
   "cell_type": "code",
   "execution_count": 54,
   "id": "48ea3cb4-7759-44ad-aeea-358c410db7a9",
   "metadata": {
    "tags": []
   },
   "outputs": [
    {
     "data": {
      "text/html": [
       "<div>\n",
       "<style scoped>\n",
       "    .dataframe tbody tr th:only-of-type {\n",
       "        vertical-align: middle;\n",
       "    }\n",
       "\n",
       "    .dataframe tbody tr th {\n",
       "        vertical-align: top;\n",
       "    }\n",
       "\n",
       "    .dataframe thead th {\n",
       "        text-align: right;\n",
       "    }\n",
       "</style>\n",
       "<table border=\"1\" class=\"dataframe\">\n",
       "  <thead>\n",
       "    <tr style=\"text-align: right;\">\n",
       "      <th></th>\n",
       "      <th>symbol</th>\n",
       "      <th>date</th>\n",
       "      <th>feed_price</th>\n",
       "      <th>feed_price_retardo_1</th>\n",
       "      <th>feed_price_retardo_2</th>\n",
       "      <th>feed_price_retardo_3</th>\n",
       "      <th>feed_price_retardo_4</th>\n",
       "      <th>feed_price_retardo_5</th>\n",
       "      <th>feed_price_retardo_6</th>\n",
       "      <th>feed_price_retardo_7</th>\n",
       "      <th>var_rate_lag1</th>\n",
       "      <th>var_rate_lag2</th>\n",
       "      <th>var_rate_lag3</th>\n",
       "      <th>var_rate_lag4</th>\n",
       "      <th>var_rate_lag5</th>\n",
       "      <th>var_rate_lag6</th>\n",
       "    </tr>\n",
       "  </thead>\n",
       "  <tbody>\n",
       "    <tr>\n",
       "      <th>0</th>\n",
       "      <td>USDBRL</td>\n",
       "      <td>2021-01-01</td>\n",
       "      <td>5.1935</td>\n",
       "      <td>NaN</td>\n",
       "      <td>NaN</td>\n",
       "      <td>NaN</td>\n",
       "      <td>NaN</td>\n",
       "      <td>NaN</td>\n",
       "      <td>NaN</td>\n",
       "      <td>NaN</td>\n",
       "      <td>NaN</td>\n",
       "      <td>NaN</td>\n",
       "      <td>NaN</td>\n",
       "      <td>NaN</td>\n",
       "      <td>NaN</td>\n",
       "      <td>NaN</td>\n",
       "    </tr>\n",
       "    <tr>\n",
       "      <th>1</th>\n",
       "      <td>USDBRL</td>\n",
       "      <td>2021-01-02</td>\n",
       "      <td>5.1934</td>\n",
       "      <td>5.1935</td>\n",
       "      <td>NaN</td>\n",
       "      <td>NaN</td>\n",
       "      <td>NaN</td>\n",
       "      <td>NaN</td>\n",
       "      <td>NaN</td>\n",
       "      <td>NaN</td>\n",
       "      <td>NaN</td>\n",
       "      <td>NaN</td>\n",
       "      <td>NaN</td>\n",
       "      <td>NaN</td>\n",
       "      <td>NaN</td>\n",
       "      <td>NaN</td>\n",
       "    </tr>\n",
       "    <tr>\n",
       "      <th>2</th>\n",
       "      <td>USDBRL</td>\n",
       "      <td>2021-01-03</td>\n",
       "      <td>5.2008</td>\n",
       "      <td>5.1934</td>\n",
       "      <td>5.1935</td>\n",
       "      <td>NaN</td>\n",
       "      <td>NaN</td>\n",
       "      <td>NaN</td>\n",
       "      <td>NaN</td>\n",
       "      <td>NaN</td>\n",
       "      <td>-0.0001</td>\n",
       "      <td>NaN</td>\n",
       "      <td>NaN</td>\n",
       "      <td>NaN</td>\n",
       "      <td>NaN</td>\n",
       "      <td>NaN</td>\n",
       "    </tr>\n",
       "    <tr>\n",
       "      <th>3</th>\n",
       "      <td>USDBRL</td>\n",
       "      <td>2021-01-04</td>\n",
       "      <td>5.2976</td>\n",
       "      <td>5.2008</td>\n",
       "      <td>5.1934</td>\n",
       "      <td>5.1935</td>\n",
       "      <td>NaN</td>\n",
       "      <td>NaN</td>\n",
       "      <td>NaN</td>\n",
       "      <td>NaN</td>\n",
       "      <td>0.0074</td>\n",
       "      <td>-0.0001</td>\n",
       "      <td>NaN</td>\n",
       "      <td>NaN</td>\n",
       "      <td>NaN</td>\n",
       "      <td>NaN</td>\n",
       "    </tr>\n",
       "    <tr>\n",
       "      <th>4</th>\n",
       "      <td>USDBRL</td>\n",
       "      <td>2021-01-05</td>\n",
       "      <td>5.3244</td>\n",
       "      <td>5.2976</td>\n",
       "      <td>5.2008</td>\n",
       "      <td>5.1934</td>\n",
       "      <td>5.1935</td>\n",
       "      <td>NaN</td>\n",
       "      <td>NaN</td>\n",
       "      <td>NaN</td>\n",
       "      <td>0.0968</td>\n",
       "      <td>0.0074</td>\n",
       "      <td>-0.0001</td>\n",
       "      <td>NaN</td>\n",
       "      <td>NaN</td>\n",
       "      <td>NaN</td>\n",
       "    </tr>\n",
       "  </tbody>\n",
       "</table>\n",
       "</div>"
      ],
      "text/plain": [
       "   symbol       date  feed_price  feed_price_retardo_1  feed_price_retardo_2  \\\n",
       "0  USDBRL 2021-01-01      5.1935                   NaN                   NaN   \n",
       "1  USDBRL 2021-01-02      5.1934                5.1935                   NaN   \n",
       "2  USDBRL 2021-01-03      5.2008                5.1934                5.1935   \n",
       "3  USDBRL 2021-01-04      5.2976                5.2008                5.1934   \n",
       "4  USDBRL 2021-01-05      5.3244                5.2976                5.2008   \n",
       "\n",
       "   feed_price_retardo_3  feed_price_retardo_4  feed_price_retardo_5  \\\n",
       "0                   NaN                   NaN                   NaN   \n",
       "1                   NaN                   NaN                   NaN   \n",
       "2                   NaN                   NaN                   NaN   \n",
       "3                5.1935                   NaN                   NaN   \n",
       "4                5.1934                5.1935                   NaN   \n",
       "\n",
       "   feed_price_retardo_6  feed_price_retardo_7  var_rate_lag1  var_rate_lag2  \\\n",
       "0                   NaN                   NaN            NaN            NaN   \n",
       "1                   NaN                   NaN            NaN            NaN   \n",
       "2                   NaN                   NaN        -0.0001            NaN   \n",
       "3                   NaN                   NaN         0.0074        -0.0001   \n",
       "4                   NaN                   NaN         0.0968         0.0074   \n",
       "\n",
       "   var_rate_lag3  var_rate_lag4  var_rate_lag5  var_rate_lag6  \n",
       "0            NaN            NaN            NaN            NaN  \n",
       "1            NaN            NaN            NaN            NaN  \n",
       "2            NaN            NaN            NaN            NaN  \n",
       "3            NaN            NaN            NaN            NaN  \n",
       "4        -0.0001            NaN            NaN            NaN  "
      ]
     },
     "execution_count": 54,
     "metadata": {},
     "output_type": "execute_result"
    }
   ],
   "source": [
    "rates_cont.head()"
   ]
  },
  {
   "cell_type": "code",
   "execution_count": 55,
   "id": "ef8afb2e-498e-4cad-ba20-b7bfbef4867b",
   "metadata": {
    "tags": []
   },
   "outputs": [
    {
     "data": {
      "text/plain": [
       "symbol                   0\n",
       "date                     0\n",
       "feed_price               0\n",
       "feed_price_retardo_1     5\n",
       "feed_price_retardo_2    10\n",
       "feed_price_retardo_3    15\n",
       "feed_price_retardo_4    20\n",
       "feed_price_retardo_5    25\n",
       "feed_price_retardo_6    30\n",
       "feed_price_retardo_7    35\n",
       "var_rate_lag1           10\n",
       "var_rate_lag2           15\n",
       "var_rate_lag3           20\n",
       "var_rate_lag4           25\n",
       "var_rate_lag5           30\n",
       "var_rate_lag6           35\n",
       "dtype: int64"
      ]
     },
     "execution_count": 55,
     "metadata": {},
     "output_type": "execute_result"
    }
   ],
   "source": [
    "# Filling NaN?\n",
    "rates_cont.isna().sum()\n",
    "#rates_cont=rates_cont.fillna(method='bfill')\n",
    "#rates_cont=rates_cont.fillna(method='ffill')"
   ]
  },
  {
   "cell_type": "code",
   "execution_count": 56,
   "id": "3fbae9a0-939d-4176-b714-4e373b044053",
   "metadata": {
    "tags": []
   },
   "outputs": [],
   "source": [
    "rates_dict = {\n",
    "    'USDBRL': 'BRAZIL', # Bz Real \n",
    "    'USDINR': 'INDIA', # Indian Rupia\n",
    "    'USDGTQ': 'GUATEMALA', #Quetzal \n",
    "    'USDMXN': 'MEXICO', #Mx Peso\n",
    "    'USDPHP': 'PHILIPPINES' # Ph Peso\n",
    "}"
   ]
  },
  {
   "cell_type": "code",
   "execution_count": 57,
   "id": "fcb2f57a-3ad7-4831-b888-59be7cd03839",
   "metadata": {
    "tags": []
   },
   "outputs": [],
   "source": [
    "rates_cont['country'] = rates_cont['symbol'].map(rates_dict)"
   ]
  },
  {
   "cell_type": "code",
   "execution_count": 58,
   "id": "de90f8c0-72ca-4445-aa48-8a042441f1e1",
   "metadata": {
    "tags": []
   },
   "outputs": [
    {
     "data": {
      "text/plain": [
       "array(['BRAZIL', 'GUATEMALA', 'INDIA', 'MEXICO', 'PHILIPPINES'],\n",
       "      dtype=object)"
      ]
     },
     "execution_count": 58,
     "metadata": {},
     "output_type": "execute_result"
    }
   ],
   "source": [
    "rates_cont['country'].unique()"
   ]
  },
  {
   "cell_type": "code",
   "execution_count": 59,
   "id": "b61ee468-b2c3-45f2-8375-c9aa61b1fd49",
   "metadata": {
    "tags": []
   },
   "outputs": [
    {
     "data": {
      "text/html": [
       "<div>\n",
       "<style scoped>\n",
       "    .dataframe tbody tr th:only-of-type {\n",
       "        vertical-align: middle;\n",
       "    }\n",
       "\n",
       "    .dataframe tbody tr th {\n",
       "        vertical-align: top;\n",
       "    }\n",
       "\n",
       "    .dataframe thead th {\n",
       "        text-align: right;\n",
       "    }\n",
       "</style>\n",
       "<table border=\"1\" class=\"dataframe\">\n",
       "  <thead>\n",
       "    <tr style=\"text-align: right;\">\n",
       "      <th></th>\n",
       "      <th>symbol</th>\n",
       "      <th>date</th>\n",
       "      <th>feed_price</th>\n",
       "      <th>feed_price_retardo_1</th>\n",
       "      <th>feed_price_retardo_2</th>\n",
       "      <th>feed_price_retardo_3</th>\n",
       "      <th>feed_price_retardo_4</th>\n",
       "      <th>feed_price_retardo_5</th>\n",
       "      <th>feed_price_retardo_6</th>\n",
       "      <th>feed_price_retardo_7</th>\n",
       "      <th>var_rate_lag1</th>\n",
       "      <th>var_rate_lag2</th>\n",
       "      <th>var_rate_lag3</th>\n",
       "      <th>var_rate_lag4</th>\n",
       "      <th>var_rate_lag5</th>\n",
       "      <th>var_rate_lag6</th>\n",
       "      <th>country</th>\n",
       "    </tr>\n",
       "  </thead>\n",
       "  <tbody>\n",
       "    <tr>\n",
       "      <th>0</th>\n",
       "      <td>USDBRL</td>\n",
       "      <td>2021-01-01</td>\n",
       "      <td>5.1935</td>\n",
       "      <td>NaN</td>\n",
       "      <td>NaN</td>\n",
       "      <td>NaN</td>\n",
       "      <td>NaN</td>\n",
       "      <td>NaN</td>\n",
       "      <td>NaN</td>\n",
       "      <td>NaN</td>\n",
       "      <td>NaN</td>\n",
       "      <td>NaN</td>\n",
       "      <td>NaN</td>\n",
       "      <td>NaN</td>\n",
       "      <td>NaN</td>\n",
       "      <td>NaN</td>\n",
       "      <td>BRAZIL</td>\n",
       "    </tr>\n",
       "    <tr>\n",
       "      <th>1</th>\n",
       "      <td>USDBRL</td>\n",
       "      <td>2021-01-02</td>\n",
       "      <td>5.1934</td>\n",
       "      <td>5.1935</td>\n",
       "      <td>NaN</td>\n",
       "      <td>NaN</td>\n",
       "      <td>NaN</td>\n",
       "      <td>NaN</td>\n",
       "      <td>NaN</td>\n",
       "      <td>NaN</td>\n",
       "      <td>NaN</td>\n",
       "      <td>NaN</td>\n",
       "      <td>NaN</td>\n",
       "      <td>NaN</td>\n",
       "      <td>NaN</td>\n",
       "      <td>NaN</td>\n",
       "      <td>BRAZIL</td>\n",
       "    </tr>\n",
       "    <tr>\n",
       "      <th>2</th>\n",
       "      <td>USDBRL</td>\n",
       "      <td>2021-01-03</td>\n",
       "      <td>5.2008</td>\n",
       "      <td>5.1934</td>\n",
       "      <td>5.1935</td>\n",
       "      <td>NaN</td>\n",
       "      <td>NaN</td>\n",
       "      <td>NaN</td>\n",
       "      <td>NaN</td>\n",
       "      <td>NaN</td>\n",
       "      <td>-0.0001</td>\n",
       "      <td>NaN</td>\n",
       "      <td>NaN</td>\n",
       "      <td>NaN</td>\n",
       "      <td>NaN</td>\n",
       "      <td>NaN</td>\n",
       "      <td>BRAZIL</td>\n",
       "    </tr>\n",
       "    <tr>\n",
       "      <th>3</th>\n",
       "      <td>USDBRL</td>\n",
       "      <td>2021-01-04</td>\n",
       "      <td>5.2976</td>\n",
       "      <td>5.2008</td>\n",
       "      <td>5.1934</td>\n",
       "      <td>5.1935</td>\n",
       "      <td>NaN</td>\n",
       "      <td>NaN</td>\n",
       "      <td>NaN</td>\n",
       "      <td>NaN</td>\n",
       "      <td>0.0074</td>\n",
       "      <td>-0.0001</td>\n",
       "      <td>NaN</td>\n",
       "      <td>NaN</td>\n",
       "      <td>NaN</td>\n",
       "      <td>NaN</td>\n",
       "      <td>BRAZIL</td>\n",
       "    </tr>\n",
       "    <tr>\n",
       "      <th>4</th>\n",
       "      <td>USDBRL</td>\n",
       "      <td>2021-01-05</td>\n",
       "      <td>5.3244</td>\n",
       "      <td>5.2976</td>\n",
       "      <td>5.2008</td>\n",
       "      <td>5.1934</td>\n",
       "      <td>5.1935</td>\n",
       "      <td>NaN</td>\n",
       "      <td>NaN</td>\n",
       "      <td>NaN</td>\n",
       "      <td>0.0968</td>\n",
       "      <td>0.0074</td>\n",
       "      <td>-0.0001</td>\n",
       "      <td>NaN</td>\n",
       "      <td>NaN</td>\n",
       "      <td>NaN</td>\n",
       "      <td>BRAZIL</td>\n",
       "    </tr>\n",
       "    <tr>\n",
       "      <th>...</th>\n",
       "      <td>...</td>\n",
       "      <td>...</td>\n",
       "      <td>...</td>\n",
       "      <td>...</td>\n",
       "      <td>...</td>\n",
       "      <td>...</td>\n",
       "      <td>...</td>\n",
       "      <td>...</td>\n",
       "      <td>...</td>\n",
       "      <td>...</td>\n",
       "      <td>...</td>\n",
       "      <td>...</td>\n",
       "      <td>...</td>\n",
       "      <td>...</td>\n",
       "      <td>...</td>\n",
       "      <td>...</td>\n",
       "      <td>...</td>\n",
       "    </tr>\n",
       "    <tr>\n",
       "      <th>5120</th>\n",
       "      <td>USDPHP</td>\n",
       "      <td>2023-10-18</td>\n",
       "      <td>56.8872</td>\n",
       "      <td>56.7100</td>\n",
       "      <td>56.8185</td>\n",
       "      <td>56.8485</td>\n",
       "      <td>56.8095</td>\n",
       "      <td>56.8227</td>\n",
       "      <td>56.8275</td>\n",
       "      <td>56.8185</td>\n",
       "      <td>-0.1085</td>\n",
       "      <td>-0.0300</td>\n",
       "      <td>0.0390</td>\n",
       "      <td>-0.0132</td>\n",
       "      <td>-0.0048</td>\n",
       "      <td>0.0090</td>\n",
       "      <td>PHILIPPINES</td>\n",
       "    </tr>\n",
       "    <tr>\n",
       "      <th>5121</th>\n",
       "      <td>USDPHP</td>\n",
       "      <td>2023-10-19</td>\n",
       "      <td>56.9022</td>\n",
       "      <td>56.8872</td>\n",
       "      <td>56.7100</td>\n",
       "      <td>56.8185</td>\n",
       "      <td>56.8485</td>\n",
       "      <td>56.8095</td>\n",
       "      <td>56.8227</td>\n",
       "      <td>56.8275</td>\n",
       "      <td>0.1772</td>\n",
       "      <td>-0.1085</td>\n",
       "      <td>-0.0300</td>\n",
       "      <td>0.0390</td>\n",
       "      <td>-0.0132</td>\n",
       "      <td>-0.0048</td>\n",
       "      <td>PHILIPPINES</td>\n",
       "    </tr>\n",
       "    <tr>\n",
       "      <th>5122</th>\n",
       "      <td>USDPHP</td>\n",
       "      <td>2023-10-20</td>\n",
       "      <td>56.7786</td>\n",
       "      <td>56.9022</td>\n",
       "      <td>56.8872</td>\n",
       "      <td>56.7100</td>\n",
       "      <td>56.8185</td>\n",
       "      <td>56.8485</td>\n",
       "      <td>56.8095</td>\n",
       "      <td>56.8227</td>\n",
       "      <td>0.0150</td>\n",
       "      <td>0.1772</td>\n",
       "      <td>-0.1085</td>\n",
       "      <td>-0.0300</td>\n",
       "      <td>0.0390</td>\n",
       "      <td>-0.0132</td>\n",
       "      <td>PHILIPPINES</td>\n",
       "    </tr>\n",
       "    <tr>\n",
       "      <th>5123</th>\n",
       "      <td>USDPHP</td>\n",
       "      <td>2023-10-21</td>\n",
       "      <td>56.7010</td>\n",
       "      <td>56.7786</td>\n",
       "      <td>56.9022</td>\n",
       "      <td>56.8872</td>\n",
       "      <td>56.7100</td>\n",
       "      <td>56.8185</td>\n",
       "      <td>56.8485</td>\n",
       "      <td>56.8095</td>\n",
       "      <td>-0.1236</td>\n",
       "      <td>0.0150</td>\n",
       "      <td>0.1772</td>\n",
       "      <td>-0.1085</td>\n",
       "      <td>-0.0300</td>\n",
       "      <td>0.0390</td>\n",
       "      <td>PHILIPPINES</td>\n",
       "    </tr>\n",
       "    <tr>\n",
       "      <th>5124</th>\n",
       "      <td>USDPHP</td>\n",
       "      <td>2023-10-22</td>\n",
       "      <td>56.7010</td>\n",
       "      <td>56.7010</td>\n",
       "      <td>56.7786</td>\n",
       "      <td>56.9022</td>\n",
       "      <td>56.8872</td>\n",
       "      <td>56.7100</td>\n",
       "      <td>56.8185</td>\n",
       "      <td>56.8485</td>\n",
       "      <td>-0.0776</td>\n",
       "      <td>-0.1236</td>\n",
       "      <td>0.0150</td>\n",
       "      <td>0.1772</td>\n",
       "      <td>-0.1085</td>\n",
       "      <td>-0.0300</td>\n",
       "      <td>PHILIPPINES</td>\n",
       "    </tr>\n",
       "  </tbody>\n",
       "</table>\n",
       "<p>5125 rows × 17 columns</p>\n",
       "</div>"
      ],
      "text/plain": [
       "      symbol       date  feed_price  feed_price_retardo_1  \\\n",
       "0     USDBRL 2021-01-01      5.1935                   NaN   \n",
       "1     USDBRL 2021-01-02      5.1934                5.1935   \n",
       "2     USDBRL 2021-01-03      5.2008                5.1934   \n",
       "3     USDBRL 2021-01-04      5.2976                5.2008   \n",
       "4     USDBRL 2021-01-05      5.3244                5.2976   \n",
       "...      ...        ...         ...                   ...   \n",
       "5120  USDPHP 2023-10-18     56.8872               56.7100   \n",
       "5121  USDPHP 2023-10-19     56.9022               56.8872   \n",
       "5122  USDPHP 2023-10-20     56.7786               56.9022   \n",
       "5123  USDPHP 2023-10-21     56.7010               56.7786   \n",
       "5124  USDPHP 2023-10-22     56.7010               56.7010   \n",
       "\n",
       "      feed_price_retardo_2  feed_price_retardo_3  feed_price_retardo_4  \\\n",
       "0                      NaN                   NaN                   NaN   \n",
       "1                      NaN                   NaN                   NaN   \n",
       "2                   5.1935                   NaN                   NaN   \n",
       "3                   5.1934                5.1935                   NaN   \n",
       "4                   5.2008                5.1934                5.1935   \n",
       "...                    ...                   ...                   ...   \n",
       "5120               56.8185               56.8485               56.8095   \n",
       "5121               56.7100               56.8185               56.8485   \n",
       "5122               56.8872               56.7100               56.8185   \n",
       "5123               56.9022               56.8872               56.7100   \n",
       "5124               56.7786               56.9022               56.8872   \n",
       "\n",
       "      feed_price_retardo_5  feed_price_retardo_6  feed_price_retardo_7  \\\n",
       "0                      NaN                   NaN                   NaN   \n",
       "1                      NaN                   NaN                   NaN   \n",
       "2                      NaN                   NaN                   NaN   \n",
       "3                      NaN                   NaN                   NaN   \n",
       "4                      NaN                   NaN                   NaN   \n",
       "...                    ...                   ...                   ...   \n",
       "5120               56.8227               56.8275               56.8185   \n",
       "5121               56.8095               56.8227               56.8275   \n",
       "5122               56.8485               56.8095               56.8227   \n",
       "5123               56.8185               56.8485               56.8095   \n",
       "5124               56.7100               56.8185               56.8485   \n",
       "\n",
       "      var_rate_lag1  var_rate_lag2  var_rate_lag3  var_rate_lag4  \\\n",
       "0               NaN            NaN            NaN            NaN   \n",
       "1               NaN            NaN            NaN            NaN   \n",
       "2           -0.0001            NaN            NaN            NaN   \n",
       "3            0.0074        -0.0001            NaN            NaN   \n",
       "4            0.0968         0.0074        -0.0001            NaN   \n",
       "...             ...            ...            ...            ...   \n",
       "5120        -0.1085        -0.0300         0.0390        -0.0132   \n",
       "5121         0.1772        -0.1085        -0.0300         0.0390   \n",
       "5122         0.0150         0.1772        -0.1085        -0.0300   \n",
       "5123        -0.1236         0.0150         0.1772        -0.1085   \n",
       "5124        -0.0776        -0.1236         0.0150         0.1772   \n",
       "\n",
       "      var_rate_lag5  var_rate_lag6      country  \n",
       "0               NaN            NaN       BRAZIL  \n",
       "1               NaN            NaN       BRAZIL  \n",
       "2               NaN            NaN       BRAZIL  \n",
       "3               NaN            NaN       BRAZIL  \n",
       "4               NaN            NaN       BRAZIL  \n",
       "...             ...            ...          ...  \n",
       "5120        -0.0048         0.0090  PHILIPPINES  \n",
       "5121        -0.0132        -0.0048  PHILIPPINES  \n",
       "5122         0.0390        -0.0132  PHILIPPINES  \n",
       "5123        -0.0300         0.0390  PHILIPPINES  \n",
       "5124        -0.1085        -0.0300  PHILIPPINES  \n",
       "\n",
       "[5125 rows x 17 columns]"
      ]
     },
     "execution_count": 59,
     "metadata": {},
     "output_type": "execute_result"
    }
   ],
   "source": [
    "rates_cont"
   ]
  },
  {
   "cell_type": "code",
   "execution_count": 60,
   "id": "e40d59a9-80c0-4a62-be88-48530de8afe9",
   "metadata": {
    "tags": []
   },
   "outputs": [
    {
     "data": {
      "text/html": [
       "<div>\n",
       "<style scoped>\n",
       "    .dataframe tbody tr th:only-of-type {\n",
       "        vertical-align: middle;\n",
       "    }\n",
       "\n",
       "    .dataframe tbody tr th {\n",
       "        vertical-align: top;\n",
       "    }\n",
       "\n",
       "    .dataframe thead th {\n",
       "        text-align: right;\n",
       "    }\n",
       "</style>\n",
       "<table border=\"1\" class=\"dataframe\">\n",
       "  <thead>\n",
       "    <tr style=\"text-align: right;\">\n",
       "      <th></th>\n",
       "      <th>payer</th>\n",
       "      <th>country</th>\n",
       "      <th>date</th>\n",
       "      <th>tx</th>\n",
       "      <th>amount</th>\n",
       "      <th>payer_country</th>\n",
       "    </tr>\n",
       "  </thead>\n",
       "  <tbody>\n",
       "    <tr>\n",
       "      <th>0</th>\n",
       "      <td>TRANSFERTO - THUNES</td>\n",
       "      <td>BELGIUM</td>\n",
       "      <td>2023-04-03</td>\n",
       "      <td>1</td>\n",
       "      <td>55.55</td>\n",
       "      <td>TRANSFERTO - THUNES_BELGIUM</td>\n",
       "    </tr>\n",
       "    <tr>\n",
       "      <th>1</th>\n",
       "      <td>ARGENPER</td>\n",
       "      <td>PERU</td>\n",
       "      <td>2023-04-03</td>\n",
       "      <td>26</td>\n",
       "      <td>4203.70</td>\n",
       "      <td>ARGENPER_PERU</td>\n",
       "    </tr>\n",
       "    <tr>\n",
       "      <th>2</th>\n",
       "      <td>NAFA</td>\n",
       "      <td>GAMBIA, THE</td>\n",
       "      <td>2023-04-03</td>\n",
       "      <td>8</td>\n",
       "      <td>1086.50</td>\n",
       "      <td>NAFA_GAMBIA, THE</td>\n",
       "    </tr>\n",
       "    <tr>\n",
       "      <th>3</th>\n",
       "      <td>WALDOS (APPRIZA)</td>\n",
       "      <td>MEXICO</td>\n",
       "      <td>2023-08-31</td>\n",
       "      <td>14</td>\n",
       "      <td>4797.50</td>\n",
       "      <td>WALDOS (APPRIZA)_MEXICO</td>\n",
       "    </tr>\n",
       "    <tr>\n",
       "      <th>4</th>\n",
       "      <td>BANPAIS (RED CHAPINA)</td>\n",
       "      <td>HONDURAS</td>\n",
       "      <td>2021-05-06</td>\n",
       "      <td>43</td>\n",
       "      <td>17493.00</td>\n",
       "      <td>BANPAIS (RED CHAPINA)_HONDURAS</td>\n",
       "    </tr>\n",
       "    <tr>\n",
       "      <th>...</th>\n",
       "      <td>...</td>\n",
       "      <td>...</td>\n",
       "      <td>...</td>\n",
       "      <td>...</td>\n",
       "      <td>...</td>\n",
       "      <td>...</td>\n",
       "    </tr>\n",
       "    <tr>\n",
       "      <th>101965</th>\n",
       "      <td>ZEEPAY</td>\n",
       "      <td>GHANA</td>\n",
       "      <td>2023-07-10</td>\n",
       "      <td>104</td>\n",
       "      <td>44996.62</td>\n",
       "      <td>ZEEPAY_GHANA</td>\n",
       "    </tr>\n",
       "    <tr>\n",
       "      <th>101966</th>\n",
       "      <td>BANPRO</td>\n",
       "      <td>NICARAGUA</td>\n",
       "      <td>2021-12-02</td>\n",
       "      <td>238</td>\n",
       "      <td>68154.76</td>\n",
       "      <td>BANPRO_NICARAGUA</td>\n",
       "    </tr>\n",
       "    <tr>\n",
       "      <th>101967</th>\n",
       "      <td>MSBB MONEY</td>\n",
       "      <td>BRAZIL</td>\n",
       "      <td>2023-02-11</td>\n",
       "      <td>669</td>\n",
       "      <td>709461.62</td>\n",
       "      <td>MSBB MONEY_BRAZIL</td>\n",
       "    </tr>\n",
       "    <tr>\n",
       "      <th>101968</th>\n",
       "      <td>BANRURAL (RYT)</td>\n",
       "      <td>GUATEMALA</td>\n",
       "      <td>2023-07-19</td>\n",
       "      <td>5338</td>\n",
       "      <td>2674853.77</td>\n",
       "      <td>BANRURAL (RYT)_GUATEMALA</td>\n",
       "    </tr>\n",
       "    <tr>\n",
       "      <th>101969</th>\n",
       "      <td>WALDOS (APPRIZA)</td>\n",
       "      <td>MEXICO</td>\n",
       "      <td>2023-03-25</td>\n",
       "      <td>36</td>\n",
       "      <td>10005.75</td>\n",
       "      <td>WALDOS (APPRIZA)_MEXICO</td>\n",
       "    </tr>\n",
       "  </tbody>\n",
       "</table>\n",
       "<p>87708 rows × 6 columns</p>\n",
       "</div>"
      ],
      "text/plain": [
       "                        payer      country        date    tx      amount  \\\n",
       "0         TRANSFERTO - THUNES      BELGIUM  2023-04-03     1       55.55   \n",
       "1                    ARGENPER         PERU  2023-04-03    26     4203.70   \n",
       "2                        NAFA  GAMBIA, THE  2023-04-03     8     1086.50   \n",
       "3            WALDOS (APPRIZA)       MEXICO  2023-08-31    14     4797.50   \n",
       "4       BANPAIS (RED CHAPINA)     HONDURAS  2021-05-06    43    17493.00   \n",
       "...                       ...          ...         ...   ...         ...   \n",
       "101965                 ZEEPAY        GHANA  2023-07-10   104    44996.62   \n",
       "101966                 BANPRO    NICARAGUA  2021-12-02   238    68154.76   \n",
       "101967             MSBB MONEY       BRAZIL  2023-02-11   669   709461.62   \n",
       "101968         BANRURAL (RYT)    GUATEMALA  2023-07-19  5338  2674853.77   \n",
       "101969       WALDOS (APPRIZA)       MEXICO  2023-03-25    36    10005.75   \n",
       "\n",
       "                         payer_country  \n",
       "0          TRANSFERTO - THUNES_BELGIUM  \n",
       "1                        ARGENPER_PERU  \n",
       "2                     NAFA_GAMBIA, THE  \n",
       "3              WALDOS (APPRIZA)_MEXICO  \n",
       "4       BANPAIS (RED CHAPINA)_HONDURAS  \n",
       "...                                ...  \n",
       "101965                    ZEEPAY_GHANA  \n",
       "101966                BANPRO_NICARAGUA  \n",
       "101967               MSBB MONEY_BRAZIL  \n",
       "101968        BANRURAL (RYT)_GUATEMALA  \n",
       "101969         WALDOS (APPRIZA)_MEXICO  \n",
       "\n",
       "[87708 rows x 6 columns]"
      ]
     },
     "execution_count": 60,
     "metadata": {},
     "output_type": "execute_result"
    }
   ],
   "source": [
    "df_filtered"
   ]
  },
  {
   "cell_type": "code",
   "execution_count": 61,
   "id": "49ae8e98-e516-4e20-b686-abd09d96f9d6",
   "metadata": {
    "tags": []
   },
   "outputs": [],
   "source": [
    "#Date format\n",
    "rates_cont['date'] = rates_cont['date'].dt.date"
   ]
  },
  {
   "cell_type": "code",
   "execution_count": 62,
   "id": "326edea7-d61d-4b5e-97ac-4c6bf44a9b96",
   "metadata": {
    "tags": []
   },
   "outputs": [],
   "source": [
    "# Combined df  containing only the rows that match both the 'date' and 'country' columns in both df (df_filtered and rates).\n",
    "# WARNING!!! Includes only common columns [date, country] > Check rates_dict\n",
    "df1 = pd.merge(df_filtered, rates_cont, on=['date', 'country'], how='left')"
   ]
  },
  {
   "cell_type": "code",
   "execution_count": 63,
   "id": "9030105f-9b67-4a89-a5b1-f84c8cc60b3e",
   "metadata": {
    "tags": []
   },
   "outputs": [],
   "source": [
    "df1['date'] = pd.to_datetime(df1['date']).dt.date"
   ]
  },
  {
   "cell_type": "code",
   "execution_count": 64,
   "id": "c776a79b-ad91-42a5-a24e-a75601c6df83",
   "metadata": {
    "tags": []
   },
   "outputs": [
    {
     "data": {
      "text/plain": [
       "24309892564.971"
      ]
     },
     "execution_count": 64,
     "metadata": {},
     "output_type": "execute_result"
    }
   ],
   "source": [
    "df1['amount'].sum()"
   ]
  },
  {
   "cell_type": "code",
   "execution_count": 65,
   "id": "6f67ef0d-3f71-4a13-bbe4-a239438b0e0a",
   "metadata": {
    "tags": []
   },
   "outputs": [
    {
     "data": {
      "text/html": [
       "<div>\n",
       "<style scoped>\n",
       "    .dataframe tbody tr th:only-of-type {\n",
       "        vertical-align: middle;\n",
       "    }\n",
       "\n",
       "    .dataframe tbody tr th {\n",
       "        vertical-align: top;\n",
       "    }\n",
       "\n",
       "    .dataframe thead th {\n",
       "        text-align: right;\n",
       "    }\n",
       "</style>\n",
       "<table border=\"1\" class=\"dataframe\">\n",
       "  <thead>\n",
       "    <tr style=\"text-align: right;\">\n",
       "      <th></th>\n",
       "      <th>payer</th>\n",
       "      <th>country</th>\n",
       "      <th>date</th>\n",
       "      <th>tx</th>\n",
       "      <th>amount</th>\n",
       "      <th>payer_country</th>\n",
       "      <th>symbol</th>\n",
       "      <th>feed_price</th>\n",
       "      <th>feed_price_retardo_1</th>\n",
       "      <th>feed_price_retardo_2</th>\n",
       "      <th>...</th>\n",
       "      <th>feed_price_retardo_4</th>\n",
       "      <th>feed_price_retardo_5</th>\n",
       "      <th>feed_price_retardo_6</th>\n",
       "      <th>feed_price_retardo_7</th>\n",
       "      <th>var_rate_lag1</th>\n",
       "      <th>var_rate_lag2</th>\n",
       "      <th>var_rate_lag3</th>\n",
       "      <th>var_rate_lag4</th>\n",
       "      <th>var_rate_lag5</th>\n",
       "      <th>var_rate_lag6</th>\n",
       "    </tr>\n",
       "  </thead>\n",
       "  <tbody>\n",
       "    <tr>\n",
       "      <th>0</th>\n",
       "      <td>TRANSFERTO - THUNES</td>\n",
       "      <td>BELGIUM</td>\n",
       "      <td>2023-04-03</td>\n",
       "      <td>1</td>\n",
       "      <td>55.55</td>\n",
       "      <td>TRANSFERTO - THUNES_BELGIUM</td>\n",
       "      <td>NaN</td>\n",
       "      <td>NaN</td>\n",
       "      <td>NaN</td>\n",
       "      <td>NaN</td>\n",
       "      <td>...</td>\n",
       "      <td>NaN</td>\n",
       "      <td>NaN</td>\n",
       "      <td>NaN</td>\n",
       "      <td>NaN</td>\n",
       "      <td>NaN</td>\n",
       "      <td>NaN</td>\n",
       "      <td>NaN</td>\n",
       "      <td>NaN</td>\n",
       "      <td>NaN</td>\n",
       "      <td>NaN</td>\n",
       "    </tr>\n",
       "    <tr>\n",
       "      <th>1</th>\n",
       "      <td>ARGENPER</td>\n",
       "      <td>PERU</td>\n",
       "      <td>2023-04-03</td>\n",
       "      <td>26</td>\n",
       "      <td>4203.70</td>\n",
       "      <td>ARGENPER_PERU</td>\n",
       "      <td>NaN</td>\n",
       "      <td>NaN</td>\n",
       "      <td>NaN</td>\n",
       "      <td>NaN</td>\n",
       "      <td>...</td>\n",
       "      <td>NaN</td>\n",
       "      <td>NaN</td>\n",
       "      <td>NaN</td>\n",
       "      <td>NaN</td>\n",
       "      <td>NaN</td>\n",
       "      <td>NaN</td>\n",
       "      <td>NaN</td>\n",
       "      <td>NaN</td>\n",
       "      <td>NaN</td>\n",
       "      <td>NaN</td>\n",
       "    </tr>\n",
       "    <tr>\n",
       "      <th>2</th>\n",
       "      <td>NAFA</td>\n",
       "      <td>GAMBIA, THE</td>\n",
       "      <td>2023-04-03</td>\n",
       "      <td>8</td>\n",
       "      <td>1086.50</td>\n",
       "      <td>NAFA_GAMBIA, THE</td>\n",
       "      <td>NaN</td>\n",
       "      <td>NaN</td>\n",
       "      <td>NaN</td>\n",
       "      <td>NaN</td>\n",
       "      <td>...</td>\n",
       "      <td>NaN</td>\n",
       "      <td>NaN</td>\n",
       "      <td>NaN</td>\n",
       "      <td>NaN</td>\n",
       "      <td>NaN</td>\n",
       "      <td>NaN</td>\n",
       "      <td>NaN</td>\n",
       "      <td>NaN</td>\n",
       "      <td>NaN</td>\n",
       "      <td>NaN</td>\n",
       "    </tr>\n",
       "    <tr>\n",
       "      <th>3</th>\n",
       "      <td>WALDOS (APPRIZA)</td>\n",
       "      <td>MEXICO</td>\n",
       "      <td>2023-08-31</td>\n",
       "      <td>14</td>\n",
       "      <td>4797.50</td>\n",
       "      <td>WALDOS (APPRIZA)_MEXICO</td>\n",
       "      <td>USDMXN</td>\n",
       "      <td>17.0076</td>\n",
       "      <td>16.7985</td>\n",
       "      <td>16.8354</td>\n",
       "      <td>...</td>\n",
       "      <td>16.7573</td>\n",
       "      <td>16.7544</td>\n",
       "      <td>16.8368</td>\n",
       "      <td>16.8350</td>\n",
       "      <td>-0.0369</td>\n",
       "      <td>0.0457</td>\n",
       "      <td>0.0324</td>\n",
       "      <td>0.0029</td>\n",
       "      <td>-0.0824</td>\n",
       "      <td>0.0018</td>\n",
       "    </tr>\n",
       "    <tr>\n",
       "      <th>4</th>\n",
       "      <td>BANPAIS (RED CHAPINA)</td>\n",
       "      <td>HONDURAS</td>\n",
       "      <td>2021-05-06</td>\n",
       "      <td>43</td>\n",
       "      <td>17493.00</td>\n",
       "      <td>BANPAIS (RED CHAPINA)_HONDURAS</td>\n",
       "      <td>NaN</td>\n",
       "      <td>NaN</td>\n",
       "      <td>NaN</td>\n",
       "      <td>NaN</td>\n",
       "      <td>...</td>\n",
       "      <td>NaN</td>\n",
       "      <td>NaN</td>\n",
       "      <td>NaN</td>\n",
       "      <td>NaN</td>\n",
       "      <td>NaN</td>\n",
       "      <td>NaN</td>\n",
       "      <td>NaN</td>\n",
       "      <td>NaN</td>\n",
       "      <td>NaN</td>\n",
       "      <td>NaN</td>\n",
       "    </tr>\n",
       "    <tr>\n",
       "      <th>...</th>\n",
       "      <td>...</td>\n",
       "      <td>...</td>\n",
       "      <td>...</td>\n",
       "      <td>...</td>\n",
       "      <td>...</td>\n",
       "      <td>...</td>\n",
       "      <td>...</td>\n",
       "      <td>...</td>\n",
       "      <td>...</td>\n",
       "      <td>...</td>\n",
       "      <td>...</td>\n",
       "      <td>...</td>\n",
       "      <td>...</td>\n",
       "      <td>...</td>\n",
       "      <td>...</td>\n",
       "      <td>...</td>\n",
       "      <td>...</td>\n",
       "      <td>...</td>\n",
       "      <td>...</td>\n",
       "      <td>...</td>\n",
       "      <td>...</td>\n",
       "    </tr>\n",
       "    <tr>\n",
       "      <th>87703</th>\n",
       "      <td>ZEEPAY</td>\n",
       "      <td>GHANA</td>\n",
       "      <td>2023-07-10</td>\n",
       "      <td>104</td>\n",
       "      <td>44996.62</td>\n",
       "      <td>ZEEPAY_GHANA</td>\n",
       "      <td>NaN</td>\n",
       "      <td>NaN</td>\n",
       "      <td>NaN</td>\n",
       "      <td>NaN</td>\n",
       "      <td>...</td>\n",
       "      <td>NaN</td>\n",
       "      <td>NaN</td>\n",
       "      <td>NaN</td>\n",
       "      <td>NaN</td>\n",
       "      <td>NaN</td>\n",
       "      <td>NaN</td>\n",
       "      <td>NaN</td>\n",
       "      <td>NaN</td>\n",
       "      <td>NaN</td>\n",
       "      <td>NaN</td>\n",
       "    </tr>\n",
       "    <tr>\n",
       "      <th>87704</th>\n",
       "      <td>BANPRO</td>\n",
       "      <td>NICARAGUA</td>\n",
       "      <td>2021-12-02</td>\n",
       "      <td>238</td>\n",
       "      <td>68154.76</td>\n",
       "      <td>BANPRO_NICARAGUA</td>\n",
       "      <td>NaN</td>\n",
       "      <td>NaN</td>\n",
       "      <td>NaN</td>\n",
       "      <td>NaN</td>\n",
       "      <td>...</td>\n",
       "      <td>NaN</td>\n",
       "      <td>NaN</td>\n",
       "      <td>NaN</td>\n",
       "      <td>NaN</td>\n",
       "      <td>NaN</td>\n",
       "      <td>NaN</td>\n",
       "      <td>NaN</td>\n",
       "      <td>NaN</td>\n",
       "      <td>NaN</td>\n",
       "      <td>NaN</td>\n",
       "    </tr>\n",
       "    <tr>\n",
       "      <th>87705</th>\n",
       "      <td>MSBB MONEY</td>\n",
       "      <td>BRAZIL</td>\n",
       "      <td>2023-02-11</td>\n",
       "      <td>669</td>\n",
       "      <td>709461.62</td>\n",
       "      <td>MSBB MONEY_BRAZIL</td>\n",
       "      <td>USDBRL</td>\n",
       "      <td>5.2156</td>\n",
       "      <td>5.2945</td>\n",
       "      <td>5.2914</td>\n",
       "      <td>...</td>\n",
       "      <td>5.2111</td>\n",
       "      <td>5.1815</td>\n",
       "      <td>5.1523</td>\n",
       "      <td>5.1525</td>\n",
       "      <td>0.0031</td>\n",
       "      <td>0.0653</td>\n",
       "      <td>0.0150</td>\n",
       "      <td>0.0296</td>\n",
       "      <td>0.0292</td>\n",
       "      <td>-0.0002</td>\n",
       "    </tr>\n",
       "    <tr>\n",
       "      <th>87706</th>\n",
       "      <td>BANRURAL (RYT)</td>\n",
       "      <td>GUATEMALA</td>\n",
       "      <td>2023-07-19</td>\n",
       "      <td>5338</td>\n",
       "      <td>2674853.77</td>\n",
       "      <td>BANRURAL (RYT)_GUATEMALA</td>\n",
       "      <td>USDGTQ</td>\n",
       "      <td>7.8522</td>\n",
       "      <td>7.8511</td>\n",
       "      <td>7.8446</td>\n",
       "      <td>...</td>\n",
       "      <td>7.8425</td>\n",
       "      <td>7.8425</td>\n",
       "      <td>7.8407</td>\n",
       "      <td>7.8496</td>\n",
       "      <td>0.0065</td>\n",
       "      <td>0.0088</td>\n",
       "      <td>-0.0067</td>\n",
       "      <td>0.0000</td>\n",
       "      <td>0.0018</td>\n",
       "      <td>-0.0089</td>\n",
       "    </tr>\n",
       "    <tr>\n",
       "      <th>87707</th>\n",
       "      <td>WALDOS (APPRIZA)</td>\n",
       "      <td>MEXICO</td>\n",
       "      <td>2023-03-25</td>\n",
       "      <td>36</td>\n",
       "      <td>10005.75</td>\n",
       "      <td>WALDOS (APPRIZA)_MEXICO</td>\n",
       "      <td>USDMXN</td>\n",
       "      <td>18.4415</td>\n",
       "      <td>18.6877</td>\n",
       "      <td>18.6265</td>\n",
       "      <td>...</td>\n",
       "      <td>18.8488</td>\n",
       "      <td>19.0365</td>\n",
       "      <td>18.9440</td>\n",
       "      <td>18.9142</td>\n",
       "      <td>0.0612</td>\n",
       "      <td>-0.0177</td>\n",
       "      <td>-0.2046</td>\n",
       "      <td>-0.1877</td>\n",
       "      <td>0.0925</td>\n",
       "      <td>0.0298</td>\n",
       "    </tr>\n",
       "  </tbody>\n",
       "</table>\n",
       "<p>87708 rows × 21 columns</p>\n",
       "</div>"
      ],
      "text/plain": [
       "                       payer      country        date    tx      amount  \\\n",
       "0        TRANSFERTO - THUNES      BELGIUM  2023-04-03     1       55.55   \n",
       "1                   ARGENPER         PERU  2023-04-03    26     4203.70   \n",
       "2                       NAFA  GAMBIA, THE  2023-04-03     8     1086.50   \n",
       "3           WALDOS (APPRIZA)       MEXICO  2023-08-31    14     4797.50   \n",
       "4      BANPAIS (RED CHAPINA)     HONDURAS  2021-05-06    43    17493.00   \n",
       "...                      ...          ...         ...   ...         ...   \n",
       "87703                 ZEEPAY        GHANA  2023-07-10   104    44996.62   \n",
       "87704                 BANPRO    NICARAGUA  2021-12-02   238    68154.76   \n",
       "87705             MSBB MONEY       BRAZIL  2023-02-11   669   709461.62   \n",
       "87706         BANRURAL (RYT)    GUATEMALA  2023-07-19  5338  2674853.77   \n",
       "87707       WALDOS (APPRIZA)       MEXICO  2023-03-25    36    10005.75   \n",
       "\n",
       "                        payer_country  symbol  feed_price  \\\n",
       "0         TRANSFERTO - THUNES_BELGIUM     NaN         NaN   \n",
       "1                       ARGENPER_PERU     NaN         NaN   \n",
       "2                    NAFA_GAMBIA, THE     NaN         NaN   \n",
       "3             WALDOS (APPRIZA)_MEXICO  USDMXN     17.0076   \n",
       "4      BANPAIS (RED CHAPINA)_HONDURAS     NaN         NaN   \n",
       "...                               ...     ...         ...   \n",
       "87703                    ZEEPAY_GHANA     NaN         NaN   \n",
       "87704                BANPRO_NICARAGUA     NaN         NaN   \n",
       "87705               MSBB MONEY_BRAZIL  USDBRL      5.2156   \n",
       "87706        BANRURAL (RYT)_GUATEMALA  USDGTQ      7.8522   \n",
       "87707         WALDOS (APPRIZA)_MEXICO  USDMXN     18.4415   \n",
       "\n",
       "       feed_price_retardo_1  feed_price_retardo_2  ...  feed_price_retardo_4  \\\n",
       "0                       NaN                   NaN  ...                   NaN   \n",
       "1                       NaN                   NaN  ...                   NaN   \n",
       "2                       NaN                   NaN  ...                   NaN   \n",
       "3                   16.7985               16.8354  ...               16.7573   \n",
       "4                       NaN                   NaN  ...                   NaN   \n",
       "...                     ...                   ...  ...                   ...   \n",
       "87703                   NaN                   NaN  ...                   NaN   \n",
       "87704                   NaN                   NaN  ...                   NaN   \n",
       "87705                5.2945                5.2914  ...                5.2111   \n",
       "87706                7.8511                7.8446  ...                7.8425   \n",
       "87707               18.6877               18.6265  ...               18.8488   \n",
       "\n",
       "       feed_price_retardo_5  feed_price_retardo_6  feed_price_retardo_7  \\\n",
       "0                       NaN                   NaN                   NaN   \n",
       "1                       NaN                   NaN                   NaN   \n",
       "2                       NaN                   NaN                   NaN   \n",
       "3                   16.7544               16.8368               16.8350   \n",
       "4                       NaN                   NaN                   NaN   \n",
       "...                     ...                   ...                   ...   \n",
       "87703                   NaN                   NaN                   NaN   \n",
       "87704                   NaN                   NaN                   NaN   \n",
       "87705                5.1815                5.1523                5.1525   \n",
       "87706                7.8425                7.8407                7.8496   \n",
       "87707               19.0365               18.9440               18.9142   \n",
       "\n",
       "       var_rate_lag1  var_rate_lag2  var_rate_lag3  var_rate_lag4  \\\n",
       "0                NaN            NaN            NaN            NaN   \n",
       "1                NaN            NaN            NaN            NaN   \n",
       "2                NaN            NaN            NaN            NaN   \n",
       "3            -0.0369         0.0457         0.0324         0.0029   \n",
       "4                NaN            NaN            NaN            NaN   \n",
       "...              ...            ...            ...            ...   \n",
       "87703            NaN            NaN            NaN            NaN   \n",
       "87704            NaN            NaN            NaN            NaN   \n",
       "87705         0.0031         0.0653         0.0150         0.0296   \n",
       "87706         0.0065         0.0088        -0.0067         0.0000   \n",
       "87707         0.0612        -0.0177        -0.2046        -0.1877   \n",
       "\n",
       "       var_rate_lag5  var_rate_lag6  \n",
       "0                NaN            NaN  \n",
       "1                NaN            NaN  \n",
       "2                NaN            NaN  \n",
       "3            -0.0824         0.0018  \n",
       "4                NaN            NaN  \n",
       "...              ...            ...  \n",
       "87703            NaN            NaN  \n",
       "87704            NaN            NaN  \n",
       "87705         0.0292        -0.0002  \n",
       "87706         0.0018        -0.0089  \n",
       "87707         0.0925         0.0298  \n",
       "\n",
       "[87708 rows x 21 columns]"
      ]
     },
     "execution_count": 65,
     "metadata": {},
     "output_type": "execute_result"
    }
   ],
   "source": [
    "df1"
   ]
  },
  {
   "cell_type": "code",
   "execution_count": 169,
   "id": "a1af4e6f-f7d2-49e1-8b93-82de0f270e1c",
   "metadata": {
    "tags": []
   },
   "outputs": [
    {
     "name": "stdout",
     "output_type": "stream",
     "text": [
      "<class 'pandas.core.frame.DataFrame'>\n",
      "RangeIndex: 87708 entries, 0 to 87707\n",
      "Data columns (total 21 columns):\n",
      " #   Column                Non-Null Count  Dtype         \n",
      "---  ------                --------------  -----         \n",
      " 0   payer                 87708 non-null  object        \n",
      " 1   country               87708 non-null  object        \n",
      " 2   date                  87708 non-null  datetime64[ns]\n",
      " 3   tx                    87708 non-null  int64         \n",
      " 4   amount                87708 non-null  float64       \n",
      " 5   payer_country         87708 non-null  object        \n",
      " 6   symbol                33780 non-null  object        \n",
      " 7   feed_price            33780 non-null  float64       \n",
      " 8   feed_price_retardo_1  33756 non-null  float64       \n",
      " 9   feed_price_retardo_2  33730 non-null  float64       \n",
      " 10  feed_price_retardo_3  33701 non-null  float64       \n",
      " 11  feed_price_retardo_4  33673 non-null  float64       \n",
      " 12  feed_price_retardo_5  33644 non-null  float64       \n",
      " 13  feed_price_retardo_6  33617 non-null  float64       \n",
      " 14  feed_price_retardo_7  33589 non-null  float64       \n",
      " 15  var_rate_lag1         33730 non-null  float64       \n",
      " 16  var_rate_lag2         33701 non-null  float64       \n",
      " 17  var_rate_lag3         33673 non-null  float64       \n",
      " 18  var_rate_lag4         33644 non-null  float64       \n",
      " 19  var_rate_lag5         33617 non-null  float64       \n",
      " 20  var_rate_lag6         33589 non-null  float64       \n",
      "dtypes: datetime64[ns](1), float64(15), int64(1), object(4)\n",
      "memory usage: 14.1+ MB\n"
     ]
    }
   ],
   "source": [
    "df1.info()"
   ]
  },
  {
   "cell_type": "code",
   "execution_count": null,
   "id": "d7eff0d0-b2fc-484f-82f1-3586d5b68777",
   "metadata": {},
   "outputs": [],
   "source": []
  },
  {
   "cell_type": "code",
   "execution_count": 66,
   "id": "714487ed-0d1d-4fc9-9615-f15d6112c0be",
   "metadata": {},
   "outputs": [],
   "source": [
    "### EFFECT OF CANCELED TRANSACTIONS ###"
   ]
  },
  {
   "cell_type": "code",
   "execution_count": 235,
   "id": "b051a492-6aa8-4ea7-b316-2590f7653c3a",
   "metadata": {
    "tags": []
   },
   "outputs": [
    {
     "name": "stderr",
     "output_type": "stream",
     "text": [
      "/tmp/ipykernel_64/1193640667.py:2: UserWarning: pandas only supports SQLAlchemy connectable (engine/connection) or database string URI or sqlite3 DBAPI2 connection. Other DBAPI2 objects are not tested. Please consider using SQLAlchemy.\n",
      "  df2 = pd.read_sql(f'SELECT * FROM {origin_name}.{database_name}.{table2_name};', conn)\n"
     ]
    }
   ],
   "source": [
    "table2_name = 'daily_sales_count_cancelled_v2'##WE LOAD THE BASE WITH CANCELLATIONS\n",
    "df2 = pd.read_sql(f'SELECT * FROM {origin_name}.{database_name}.{table2_name};', conn)"
   ]
  },
  {
   "cell_type": "code",
   "execution_count": 236,
   "id": "ffef8ba7-ed7f-4fd8-8fb6-ca3d6b9ff125",
   "metadata": {
    "tags": []
   },
   "outputs": [],
   "source": [
    "df2['date'] = pd.to_datetime(df2['date'])"
   ]
  },
  {
   "cell_type": "code",
   "execution_count": 238,
   "id": "cf0f8ad6-11ea-4287-875b-4255438afe3d",
   "metadata": {
    "tags": []
   },
   "outputs": [
    {
     "name": "stdout",
     "output_type": "stream",
     "text": [
      "<class 'pandas.core.frame.DataFrame'>\n",
      "RangeIndex: 101970 entries, 0 to 101969\n",
      "Data columns (total 5 columns):\n",
      " #   Column        Non-Null Count   Dtype         \n",
      "---  ------        --------------   -----         \n",
      " 0   payer         101970 non-null  object        \n",
      " 1   country       101970 non-null  object        \n",
      " 2   date          101970 non-null  datetime64[ns]\n",
      " 3   amount        101970 non-null  float64       \n",
      " 4   tx_cancelled  101970 non-null  int64         \n",
      "dtypes: datetime64[ns](1), float64(1), int64(1), object(2)\n",
      "memory usage: 3.9+ MB\n"
     ]
    }
   ],
   "source": [
    "df2.info()"
   ]
  },
  {
   "cell_type": "code",
   "execution_count": 239,
   "id": "82ddd611-defe-4ae0-9ad7-7390a11d368d",
   "metadata": {
    "tags": []
   },
   "outputs": [
    {
     "data": {
      "text/html": [
       "<div>\n",
       "<style scoped>\n",
       "    .dataframe tbody tr th:only-of-type {\n",
       "        vertical-align: middle;\n",
       "    }\n",
       "\n",
       "    .dataframe tbody tr th {\n",
       "        vertical-align: top;\n",
       "    }\n",
       "\n",
       "    .dataframe thead th {\n",
       "        text-align: right;\n",
       "    }\n",
       "</style>\n",
       "<table border=\"1\" class=\"dataframe\">\n",
       "  <thead>\n",
       "    <tr style=\"text-align: right;\">\n",
       "      <th></th>\n",
       "      <th>payer</th>\n",
       "      <th>country</th>\n",
       "      <th>date</th>\n",
       "      <th>amount</th>\n",
       "      <th>tx_cancelled</th>\n",
       "    </tr>\n",
       "  </thead>\n",
       "  <tbody>\n",
       "    <tr>\n",
       "      <th>0</th>\n",
       "      <td>BBVA - BANCOMER (BTS)</td>\n",
       "      <td>MEXICO</td>\n",
       "      <td>2022-04-09</td>\n",
       "      <td>721684.70</td>\n",
       "      <td>64</td>\n",
       "    </tr>\n",
       "    <tr>\n",
       "      <th>1</th>\n",
       "      <td>INTERMEX</td>\n",
       "      <td>MEXICO</td>\n",
       "      <td>2022-04-09</td>\n",
       "      <td>312692.44</td>\n",
       "      <td>47</td>\n",
       "    </tr>\n",
       "    <tr>\n",
       "      <th>2</th>\n",
       "      <td>ECUAGIROS</td>\n",
       "      <td>ECUADOR</td>\n",
       "      <td>2022-05-13</td>\n",
       "      <td>51985.54</td>\n",
       "      <td>20</td>\n",
       "    </tr>\n",
       "    <tr>\n",
       "      <th>3</th>\n",
       "      <td>TELEDOLAR</td>\n",
       "      <td>COSTA RICA</td>\n",
       "      <td>2022-04-12</td>\n",
       "      <td>57395.00</td>\n",
       "      <td>12</td>\n",
       "    </tr>\n",
       "    <tr>\n",
       "      <th>4</th>\n",
       "      <td>ARGENPER</td>\n",
       "      <td>ARGENTINA</td>\n",
       "      <td>2022-04-12</td>\n",
       "      <td>1093.00</td>\n",
       "      <td>0</td>\n",
       "    </tr>\n",
       "  </tbody>\n",
       "</table>\n",
       "</div>"
      ],
      "text/plain": [
       "                   payer     country       date     amount  tx_cancelled\n",
       "0  BBVA - BANCOMER (BTS)      MEXICO 2022-04-09  721684.70            64\n",
       "1               INTERMEX      MEXICO 2022-04-09  312692.44            47\n",
       "2              ECUAGIROS     ECUADOR 2022-05-13   51985.54            20\n",
       "3              TELEDOLAR  COSTA RICA 2022-04-12   57395.00            12\n",
       "4               ARGENPER   ARGENTINA 2022-04-12    1093.00             0"
      ]
     },
     "execution_count": 239,
     "metadata": {},
     "output_type": "execute_result"
    }
   ],
   "source": [
    "df2.head()"
   ]
  },
  {
   "cell_type": "code",
   "execution_count": 240,
   "id": "ac2a0c86-8b43-4a49-9cd9-0b94564b2797",
   "metadata": {},
   "outputs": [],
   "source": [
    "###ORDERED BY: COUNTRY, PAYER, DATE"
   ]
  },
  {
   "cell_type": "code",
   "execution_count": 241,
   "id": "0f783894-a070-4b27-89bf-456899dda0f9",
   "metadata": {
    "tags": []
   },
   "outputs": [],
   "source": [
    "df2=df2.sort_values(by=['country', 'payer', 'date'])"
   ]
  },
  {
   "cell_type": "code",
   "execution_count": 242,
   "id": "8ee72ea5-bdcc-4dab-9094-854446daab08",
   "metadata": {
    "tags": []
   },
   "outputs": [
    {
     "data": {
      "text/html": [
       "<div>\n",
       "<style scoped>\n",
       "    .dataframe tbody tr th:only-of-type {\n",
       "        vertical-align: middle;\n",
       "    }\n",
       "\n",
       "    .dataframe tbody tr th {\n",
       "        vertical-align: top;\n",
       "    }\n",
       "\n",
       "    .dataframe thead th {\n",
       "        text-align: right;\n",
       "    }\n",
       "</style>\n",
       "<table border=\"1\" class=\"dataframe\">\n",
       "  <thead>\n",
       "    <tr style=\"text-align: right;\">\n",
       "      <th></th>\n",
       "      <th>payer</th>\n",
       "      <th>country</th>\n",
       "      <th>date</th>\n",
       "      <th>amount</th>\n",
       "      <th>tx_cancelled</th>\n",
       "    </tr>\n",
       "  </thead>\n",
       "  <tbody>\n",
       "    <tr>\n",
       "      <th>8766</th>\n",
       "      <td>AFEX</td>\n",
       "      <td>ARGENTINA</td>\n",
       "      <td>2021-08-05</td>\n",
       "      <td>0.0</td>\n",
       "      <td>1</td>\n",
       "    </tr>\n",
       "    <tr>\n",
       "      <th>864</th>\n",
       "      <td>AFEX</td>\n",
       "      <td>ARGENTINA</td>\n",
       "      <td>2021-08-06</td>\n",
       "      <td>0.0</td>\n",
       "      <td>1</td>\n",
       "    </tr>\n",
       "    <tr>\n",
       "      <th>51311</th>\n",
       "      <td>ARGENPER</td>\n",
       "      <td>ARGENTINA</td>\n",
       "      <td>2020-12-31</td>\n",
       "      <td>70.0</td>\n",
       "      <td>0</td>\n",
       "    </tr>\n",
       "    <tr>\n",
       "      <th>21786</th>\n",
       "      <td>ARGENPER</td>\n",
       "      <td>ARGENTINA</td>\n",
       "      <td>2021-01-02</td>\n",
       "      <td>25.0</td>\n",
       "      <td>0</td>\n",
       "    </tr>\n",
       "    <tr>\n",
       "      <th>9590</th>\n",
       "      <td>ARGENPER</td>\n",
       "      <td>ARGENTINA</td>\n",
       "      <td>2021-01-05</td>\n",
       "      <td>490.0</td>\n",
       "      <td>0</td>\n",
       "    </tr>\n",
       "  </tbody>\n",
       "</table>\n",
       "</div>"
      ],
      "text/plain": [
       "          payer    country       date  amount  tx_cancelled\n",
       "8766       AFEX  ARGENTINA 2021-08-05     0.0             1\n",
       "864        AFEX  ARGENTINA 2021-08-06     0.0             1\n",
       "51311  ARGENPER  ARGENTINA 2020-12-31    70.0             0\n",
       "21786  ARGENPER  ARGENTINA 2021-01-02    25.0             0\n",
       "9590   ARGENPER  ARGENTINA 2021-01-05   490.0             0"
      ]
     },
     "execution_count": 242,
     "metadata": {},
     "output_type": "execute_result"
    }
   ],
   "source": [
    "df2.head()"
   ]
  },
  {
   "cell_type": "code",
   "execution_count": 243,
   "id": "f47829ca-f771-4ecc-8ab3-3fdc87cecee0",
   "metadata": {},
   "outputs": [],
   "source": [
    "###HERE WE NEED TO ADD MISSING DAYS IN PAYERS WITH FEW TRANSACTIONS AND IMPUTE ZERO IN CANCELLATIONS"
   ]
  },
  {
   "cell_type": "code",
   "execution_count": 244,
   "id": "dbb6e420-8ae1-495d-a08a-ea43f6dc9f18",
   "metadata": {
    "tags": []
   },
   "outputs": [
    {
     "name": "stdout",
     "output_type": "stream",
     "text": [
      "             payer                      country  conteo_combinaciones\n",
      "0           24XORO                       MEXICO                   225\n",
      "1    7 ELEVEN (UT)                       MEXICO                   206\n",
      "2       ABANK (TN)                  EL SALVADOR                  1025\n",
      "3             AFEX                    ARGENTINA                     2\n",
      "4             AFEX                        CHILE                  1013\n",
      "..             ...                          ...                   ...\n",
      "294         ZEEPAY                     CAMEROON                   402\n",
      "295         ZEEPAY  COTE D'IVOIRE (IVORY COAST)                   352\n",
      "296         ZEEPAY                        GHANA                  1025\n",
      "297         ZEEPAY                       GUINEA                    11\n",
      "298         ZEEPAY                      SENEGAL                   284\n",
      "\n",
      "[299 rows x 3 columns]\n"
     ]
    }
   ],
   "source": [
    "# Contar las combinaciones únicas de payer y country\n",
    "combinaciones_unicas = df2.groupby(['payer', 'country']).size().reset_index(name='conteo_combinaciones')\n",
    "# Mostrar el resultado\n",
    "print(combinaciones_unicas)"
   ]
  },
  {
   "cell_type": "code",
   "execution_count": null,
   "id": "421afb20-8664-4b34-abe0-4098379e2c3a",
   "metadata": {
    "tags": []
   },
   "outputs": [],
   "source": []
  },
  {
   "cell_type": "code",
   "execution_count": 245,
   "id": "e56c19ab-5fac-437a-8225-e19751c14035",
   "metadata": {
    "tags": []
   },
   "outputs": [],
   "source": [
    "# Grouping by 'payer' and 'country' concatenated for this level of granularity\n",
    "df2['payer_country'] = df2['payer'] + '_' + df2['country']"
   ]
  },
  {
   "cell_type": "code",
   "execution_count": 246,
   "id": "ed2e1a94-0778-444c-afc2-770cadf5dfc4",
   "metadata": {
    "tags": []
   },
   "outputs": [],
   "source": [
    "##### Filtro por aging nuevamente ####\n",
    "######################################\n",
    "\n",
    "df2 = df2[df2['payer_country'].isin(df_aging['payer_country'])] # Applying aging filters "
   ]
  },
  {
   "cell_type": "code",
   "execution_count": 247,
   "id": "014eb287-30d4-4473-930f-06696ea599e3",
   "metadata": {
    "tags": []
   },
   "outputs": [],
   "source": [
    "### Combining payer and country, we can obtain a column to work on \n",
    "# We can enconde it to obtain better results\n",
    "from sklearn.preprocessing import LabelEncoder\n",
    "# Inicializar LabelEncoder\n",
    "label_encoder = LabelEncoder()\n",
    "# Codificar ‘PAYER_COUNTRY’ como valores numéricos únicos\n",
    "df2['payer_country_encoder'] = label_encoder.fit_transform(df2['payer_country'])"
   ]
  },
  {
   "cell_type": "code",
   "execution_count": 248,
   "id": "a9775cc5-2099-455c-966f-8422ec3241cf",
   "metadata": {
    "tags": []
   },
   "outputs": [
    {
     "name": "stdout",
     "output_type": "stream",
     "text": [
      "<class 'pandas.core.frame.DataFrame'>\n",
      "Index: 89492 entries, 51311 to 17284\n",
      "Data columns (total 7 columns):\n",
      " #   Column                 Non-Null Count  Dtype         \n",
      "---  ------                 --------------  -----         \n",
      " 0   payer                  89492 non-null  object        \n",
      " 1   country                89492 non-null  object        \n",
      " 2   date                   89492 non-null  datetime64[ns]\n",
      " 3   amount                 89492 non-null  float64       \n",
      " 4   tx_cancelled           89492 non-null  int64         \n",
      " 5   payer_country          89492 non-null  object        \n",
      " 6   payer_country_encoder  89492 non-null  int64         \n",
      "dtypes: datetime64[ns](1), float64(1), int64(2), object(3)\n",
      "memory usage: 5.5+ MB\n"
     ]
    }
   ],
   "source": [
    "df2.info()"
   ]
  },
  {
   "cell_type": "code",
   "execution_count": 249,
   "id": "37ece630-5ca0-4b45-bce7-b13be0179877",
   "metadata": {
    "tags": []
   },
   "outputs": [],
   "source": [
    "### CHEQUEAR QUE SIEMPRE ASIGNE EL MISMO CODIGO A CADA PAYER EN LA IMPLEMENTACIÓN!!!!!!!!!!##"
   ]
  },
  {
   "cell_type": "code",
   "execution_count": 250,
   "id": "4c11bc30-bf41-44d1-855a-f978229808f1",
   "metadata": {
    "tags": []
   },
   "outputs": [],
   "source": [
    "# Crear un rango de fechas desde el 1 de enero de 2021 hasta el 21 de octubre de 2023\n",
    "date_range = pd.date_range(start='2021-01-01', end='2023-10-21', freq='D')\n",
    "\n",
    "# Crear un DataFrame con todas las combinaciones posibles de 'date' y 'payer_country_encoder'\n",
    "all_combinations = pd.MultiIndex.from_product([date_range, df2['payer_country_encoder'].unique()], names=['date', 'payer_country_encoder'])\n",
    "all_combinations_df = pd.DataFrame(index=all_combinations).reset_index()\n",
    "\n",
    "# Combinar el DataFrame completo con tu DataFrame original\n",
    "df_completo = pd.merge(all_combinations_df, df2, how='left', on=['date', 'payer_country_encoder'])\n",
    "\n"
   ]
  },
  {
   "cell_type": "code",
   "execution_count": 251,
   "id": "3506c16d-d7f2-411d-b8a1-7082ebe2c00e",
   "metadata": {
    "tags": []
   },
   "outputs": [
    {
     "data": {
      "text/plain": [
       "(133120, 7)"
      ]
     },
     "execution_count": 251,
     "metadata": {},
     "output_type": "execute_result"
    }
   ],
   "source": [
    "df_completo.shape"
   ]
  },
  {
   "cell_type": "code",
   "execution_count": 252,
   "id": "4fecc7c2-5ad4-4402-9b51-8cd65e91bc59",
   "metadata": {
    "tags": []
   },
   "outputs": [],
   "source": [
    "###HERE WE NEED TO ADD MISSING DAYS IN PAYERS WITH FEW TRANSACTIONS AND IMPUTE ZERO IN CANCELLATIONS"
   ]
  },
  {
   "cell_type": "code",
   "execution_count": 253,
   "id": "d2df1e2c-eb4a-45a7-8664-b234c55a9321",
   "metadata": {
    "tags": []
   },
   "outputs": [
    {
     "data": {
      "text/plain": [
       "(133120, 7)"
      ]
     },
     "execution_count": 253,
     "metadata": {},
     "output_type": "execute_result"
    }
   ],
   "source": [
    "df_completo.shape"
   ]
  },
  {
   "cell_type": "code",
   "execution_count": 254,
   "id": "5651e8bf-3b13-413e-b354-3da6daba598e",
   "metadata": {
    "tags": []
   },
   "outputs": [
    {
     "data": {
      "text/plain": [
       "130"
      ]
     },
     "execution_count": 254,
     "metadata": {},
     "output_type": "execute_result"
    }
   ],
   "source": [
    "df_completo.payer_country_encoder.nunique()"
   ]
  },
  {
   "cell_type": "code",
   "execution_count": 255,
   "id": "d5250db0-c9ee-4a8c-827d-a1c25ba8a71a",
   "metadata": {
    "tags": []
   },
   "outputs": [],
   "source": [
    "df_completo=df_completo.sort_values(by=['payer_country_encoder', 'date'])"
   ]
  },
  {
   "cell_type": "code",
   "execution_count": 256,
   "id": "646fc1a1-ebcb-4460-a867-0a1083b92d85",
   "metadata": {
    "tags": []
   },
   "outputs": [
    {
     "name": "stdout",
     "output_type": "stream",
     "text": [
      "<class 'pandas.core.frame.DataFrame'>\n",
      "Index: 1024 entries, 55 to 133045\n",
      "Data columns (total 7 columns):\n",
      " #   Column                 Non-Null Count  Dtype         \n",
      "---  ------                 --------------  -----         \n",
      " 0   date                   1024 non-null   datetime64[ns]\n",
      " 1   payer_country_encoder  1024 non-null   int64         \n",
      " 2   payer                  246 non-null    object        \n",
      " 3   country                246 non-null    object        \n",
      " 4   amount                 246 non-null    float64       \n",
      " 5   tx_cancelled           246 non-null    float64       \n",
      " 6   payer_country          246 non-null    object        \n",
      "dtypes: datetime64[ns](1), float64(2), int64(1), object(3)\n",
      "memory usage: 64.0+ KB\n"
     ]
    }
   ],
   "source": [
    "df_control=df_completo.loc[df_completo.payer_country_encoder==3]\n",
    "df_control.info()"
   ]
  },
  {
   "cell_type": "code",
   "execution_count": 257,
   "id": "d5893321-28b7-4d75-ac2e-77f522c61185",
   "metadata": {
    "tags": []
   },
   "outputs": [
    {
     "data": {
      "text/html": [
       "<div>\n",
       "<style scoped>\n",
       "    .dataframe tbody tr th:only-of-type {\n",
       "        vertical-align: middle;\n",
       "    }\n",
       "\n",
       "    .dataframe tbody tr th {\n",
       "        vertical-align: top;\n",
       "    }\n",
       "\n",
       "    .dataframe thead th {\n",
       "        text-align: right;\n",
       "    }\n",
       "</style>\n",
       "<table border=\"1\" class=\"dataframe\">\n",
       "  <thead>\n",
       "    <tr style=\"text-align: right;\">\n",
       "      <th></th>\n",
       "      <th>date</th>\n",
       "      <th>payer_country_encoder</th>\n",
       "      <th>payer</th>\n",
       "      <th>country</th>\n",
       "      <th>amount</th>\n",
       "      <th>tx_cancelled</th>\n",
       "      <th>payer_country</th>\n",
       "    </tr>\n",
       "  </thead>\n",
       "  <tbody>\n",
       "    <tr>\n",
       "      <th>31905</th>\n",
       "      <td>2021-09-03</td>\n",
       "      <td>3</td>\n",
       "      <td>AFRO INTERNACIONAL</td>\n",
       "      <td>GUINEA</td>\n",
       "      <td>0.0</td>\n",
       "      <td>1.0</td>\n",
       "      <td>AFRO INTERNACIONAL_GUINEA</td>\n",
       "    </tr>\n",
       "    <tr>\n",
       "      <th>32035</th>\n",
       "      <td>2021-09-04</td>\n",
       "      <td>3</td>\n",
       "      <td>AFRO INTERNACIONAL</td>\n",
       "      <td>GUINEA</td>\n",
       "      <td>620.0</td>\n",
       "      <td>0.0</td>\n",
       "      <td>AFRO INTERNACIONAL_GUINEA</td>\n",
       "    </tr>\n",
       "    <tr>\n",
       "      <th>32295</th>\n",
       "      <td>2021-09-06</td>\n",
       "      <td>3</td>\n",
       "      <td>AFRO INTERNACIONAL</td>\n",
       "      <td>GUINEA</td>\n",
       "      <td>0.0</td>\n",
       "      <td>1.0</td>\n",
       "      <td>AFRO INTERNACIONAL_GUINEA</td>\n",
       "    </tr>\n",
       "    <tr>\n",
       "      <th>35805</th>\n",
       "      <td>2021-10-03</td>\n",
       "      <td>3</td>\n",
       "      <td>AFRO INTERNACIONAL</td>\n",
       "      <td>GUINEA</td>\n",
       "      <td>600.0</td>\n",
       "      <td>0.0</td>\n",
       "      <td>AFRO INTERNACIONAL_GUINEA</td>\n",
       "    </tr>\n",
       "    <tr>\n",
       "      <th>37495</th>\n",
       "      <td>2021-10-16</td>\n",
       "      <td>3</td>\n",
       "      <td>AFRO INTERNACIONAL</td>\n",
       "      <td>GUINEA</td>\n",
       "      <td>0.0</td>\n",
       "      <td>1.0</td>\n",
       "      <td>AFRO INTERNACIONAL_GUINEA</td>\n",
       "    </tr>\n",
       "    <tr>\n",
       "      <th>...</th>\n",
       "      <td>...</td>\n",
       "      <td>...</td>\n",
       "      <td>...</td>\n",
       "      <td>...</td>\n",
       "      <td>...</td>\n",
       "      <td>...</td>\n",
       "      <td>...</td>\n",
       "    </tr>\n",
       "    <tr>\n",
       "      <th>131485</th>\n",
       "      <td>2023-10-09</td>\n",
       "      <td>3</td>\n",
       "      <td>AFRO INTERNACIONAL</td>\n",
       "      <td>GUINEA</td>\n",
       "      <td>100.0</td>\n",
       "      <td>0.0</td>\n",
       "      <td>AFRO INTERNACIONAL_GUINEA</td>\n",
       "    </tr>\n",
       "    <tr>\n",
       "      <th>132005</th>\n",
       "      <td>2023-10-13</td>\n",
       "      <td>3</td>\n",
       "      <td>AFRO INTERNACIONAL</td>\n",
       "      <td>GUINEA</td>\n",
       "      <td>500.0</td>\n",
       "      <td>0.0</td>\n",
       "      <td>AFRO INTERNACIONAL_GUINEA</td>\n",
       "    </tr>\n",
       "    <tr>\n",
       "      <th>132135</th>\n",
       "      <td>2023-10-14</td>\n",
       "      <td>3</td>\n",
       "      <td>AFRO INTERNACIONAL</td>\n",
       "      <td>GUINEA</td>\n",
       "      <td>100.0</td>\n",
       "      <td>0.0</td>\n",
       "      <td>AFRO INTERNACIONAL_GUINEA</td>\n",
       "    </tr>\n",
       "    <tr>\n",
       "      <th>132525</th>\n",
       "      <td>2023-10-17</td>\n",
       "      <td>3</td>\n",
       "      <td>AFRO INTERNACIONAL</td>\n",
       "      <td>GUINEA</td>\n",
       "      <td>200.0</td>\n",
       "      <td>0.0</td>\n",
       "      <td>AFRO INTERNACIONAL_GUINEA</td>\n",
       "    </tr>\n",
       "    <tr>\n",
       "      <th>132915</th>\n",
       "      <td>2023-10-20</td>\n",
       "      <td>3</td>\n",
       "      <td>AFRO INTERNACIONAL</td>\n",
       "      <td>GUINEA</td>\n",
       "      <td>60.0</td>\n",
       "      <td>0.0</td>\n",
       "      <td>AFRO INTERNACIONAL_GUINEA</td>\n",
       "    </tr>\n",
       "  </tbody>\n",
       "</table>\n",
       "<p>246 rows × 7 columns</p>\n",
       "</div>"
      ],
      "text/plain": [
       "             date  payer_country_encoder               payer country  amount  \\\n",
       "31905  2021-09-03                      3  AFRO INTERNACIONAL  GUINEA     0.0   \n",
       "32035  2021-09-04                      3  AFRO INTERNACIONAL  GUINEA   620.0   \n",
       "32295  2021-09-06                      3  AFRO INTERNACIONAL  GUINEA     0.0   \n",
       "35805  2021-10-03                      3  AFRO INTERNACIONAL  GUINEA   600.0   \n",
       "37495  2021-10-16                      3  AFRO INTERNACIONAL  GUINEA     0.0   \n",
       "...           ...                    ...                 ...     ...     ...   \n",
       "131485 2023-10-09                      3  AFRO INTERNACIONAL  GUINEA   100.0   \n",
       "132005 2023-10-13                      3  AFRO INTERNACIONAL  GUINEA   500.0   \n",
       "132135 2023-10-14                      3  AFRO INTERNACIONAL  GUINEA   100.0   \n",
       "132525 2023-10-17                      3  AFRO INTERNACIONAL  GUINEA   200.0   \n",
       "132915 2023-10-20                      3  AFRO INTERNACIONAL  GUINEA    60.0   \n",
       "\n",
       "        tx_cancelled              payer_country  \n",
       "31905            1.0  AFRO INTERNACIONAL_GUINEA  \n",
       "32035            0.0  AFRO INTERNACIONAL_GUINEA  \n",
       "32295            1.0  AFRO INTERNACIONAL_GUINEA  \n",
       "35805            0.0  AFRO INTERNACIONAL_GUINEA  \n",
       "37495            1.0  AFRO INTERNACIONAL_GUINEA  \n",
       "...              ...                        ...  \n",
       "131485           0.0  AFRO INTERNACIONAL_GUINEA  \n",
       "132005           0.0  AFRO INTERNACIONAL_GUINEA  \n",
       "132135           0.0  AFRO INTERNACIONAL_GUINEA  \n",
       "132525           0.0  AFRO INTERNACIONAL_GUINEA  \n",
       "132915           0.0  AFRO INTERNACIONAL_GUINEA  \n",
       "\n",
       "[246 rows x 7 columns]"
      ]
     },
     "execution_count": 257,
     "metadata": {},
     "output_type": "execute_result"
    }
   ],
   "source": [
    "##WE CHECK THAT FOR THE CASE WITH ONLY TWO MOVEMENTS THE WHOLE SERIES APPEARS\n",
    "df_filt = df_control[df_control.notnull().all(axis=1)]\n",
    "df_filt"
   ]
  },
  {
   "cell_type": "code",
   "execution_count": 258,
   "id": "a2a38b42-0feb-4afb-adcd-739e704aeafd",
   "metadata": {
    "tags": []
   },
   "outputs": [
    {
     "data": {
      "text/html": [
       "<div>\n",
       "<style scoped>\n",
       "    .dataframe tbody tr th:only-of-type {\n",
       "        vertical-align: middle;\n",
       "    }\n",
       "\n",
       "    .dataframe tbody tr th {\n",
       "        vertical-align: top;\n",
       "    }\n",
       "\n",
       "    .dataframe thead th {\n",
       "        text-align: right;\n",
       "    }\n",
       "</style>\n",
       "<table border=\"1\" class=\"dataframe\">\n",
       "  <thead>\n",
       "    <tr style=\"text-align: right;\">\n",
       "      <th></th>\n",
       "      <th>date</th>\n",
       "      <th>payer_country_encoder</th>\n",
       "      <th>payer</th>\n",
       "      <th>country</th>\n",
       "      <th>amount</th>\n",
       "      <th>tx_cancelled</th>\n",
       "      <th>payer_country</th>\n",
       "    </tr>\n",
       "  </thead>\n",
       "  <tbody>\n",
       "    <tr>\n",
       "      <th>78</th>\n",
       "      <td>2021-01-01</td>\n",
       "      <td>0</td>\n",
       "      <td>NaN</td>\n",
       "      <td>NaN</td>\n",
       "      <td>NaN</td>\n",
       "      <td>NaN</td>\n",
       "      <td>NaN</td>\n",
       "    </tr>\n",
       "    <tr>\n",
       "      <th>208</th>\n",
       "      <td>2021-01-02</td>\n",
       "      <td>0</td>\n",
       "      <td>NaN</td>\n",
       "      <td>NaN</td>\n",
       "      <td>NaN</td>\n",
       "      <td>NaN</td>\n",
       "      <td>NaN</td>\n",
       "    </tr>\n",
       "    <tr>\n",
       "      <th>338</th>\n",
       "      <td>2021-01-03</td>\n",
       "      <td>0</td>\n",
       "      <td>NaN</td>\n",
       "      <td>NaN</td>\n",
       "      <td>NaN</td>\n",
       "      <td>NaN</td>\n",
       "      <td>NaN</td>\n",
       "    </tr>\n",
       "    <tr>\n",
       "      <th>468</th>\n",
       "      <td>2021-01-04</td>\n",
       "      <td>0</td>\n",
       "      <td>NaN</td>\n",
       "      <td>NaN</td>\n",
       "      <td>NaN</td>\n",
       "      <td>NaN</td>\n",
       "      <td>NaN</td>\n",
       "    </tr>\n",
       "    <tr>\n",
       "      <th>598</th>\n",
       "      <td>2021-01-05</td>\n",
       "      <td>0</td>\n",
       "      <td>NaN</td>\n",
       "      <td>NaN</td>\n",
       "      <td>NaN</td>\n",
       "      <td>NaN</td>\n",
       "      <td>NaN</td>\n",
       "    </tr>\n",
       "    <tr>\n",
       "      <th>728</th>\n",
       "      <td>2021-01-06</td>\n",
       "      <td>0</td>\n",
       "      <td>NaN</td>\n",
       "      <td>NaN</td>\n",
       "      <td>NaN</td>\n",
       "      <td>NaN</td>\n",
       "      <td>NaN</td>\n",
       "    </tr>\n",
       "    <tr>\n",
       "      <th>858</th>\n",
       "      <td>2021-01-07</td>\n",
       "      <td>0</td>\n",
       "      <td>NaN</td>\n",
       "      <td>NaN</td>\n",
       "      <td>NaN</td>\n",
       "      <td>NaN</td>\n",
       "      <td>NaN</td>\n",
       "    </tr>\n",
       "    <tr>\n",
       "      <th>988</th>\n",
       "      <td>2021-01-08</td>\n",
       "      <td>0</td>\n",
       "      <td>NaN</td>\n",
       "      <td>NaN</td>\n",
       "      <td>NaN</td>\n",
       "      <td>NaN</td>\n",
       "      <td>NaN</td>\n",
       "    </tr>\n",
       "    <tr>\n",
       "      <th>1118</th>\n",
       "      <td>2021-01-09</td>\n",
       "      <td>0</td>\n",
       "      <td>NaN</td>\n",
       "      <td>NaN</td>\n",
       "      <td>NaN</td>\n",
       "      <td>NaN</td>\n",
       "      <td>NaN</td>\n",
       "    </tr>\n",
       "    <tr>\n",
       "      <th>1248</th>\n",
       "      <td>2021-01-10</td>\n",
       "      <td>0</td>\n",
       "      <td>NaN</td>\n",
       "      <td>NaN</td>\n",
       "      <td>NaN</td>\n",
       "      <td>NaN</td>\n",
       "      <td>NaN</td>\n",
       "    </tr>\n",
       "    <tr>\n",
       "      <th>1378</th>\n",
       "      <td>2021-01-11</td>\n",
       "      <td>0</td>\n",
       "      <td>NaN</td>\n",
       "      <td>NaN</td>\n",
       "      <td>NaN</td>\n",
       "      <td>NaN</td>\n",
       "      <td>NaN</td>\n",
       "    </tr>\n",
       "    <tr>\n",
       "      <th>1508</th>\n",
       "      <td>2021-01-12</td>\n",
       "      <td>0</td>\n",
       "      <td>NaN</td>\n",
       "      <td>NaN</td>\n",
       "      <td>NaN</td>\n",
       "      <td>NaN</td>\n",
       "      <td>NaN</td>\n",
       "    </tr>\n",
       "    <tr>\n",
       "      <th>1638</th>\n",
       "      <td>2021-01-13</td>\n",
       "      <td>0</td>\n",
       "      <td>NaN</td>\n",
       "      <td>NaN</td>\n",
       "      <td>NaN</td>\n",
       "      <td>NaN</td>\n",
       "      <td>NaN</td>\n",
       "    </tr>\n",
       "    <tr>\n",
       "      <th>1768</th>\n",
       "      <td>2021-01-14</td>\n",
       "      <td>0</td>\n",
       "      <td>NaN</td>\n",
       "      <td>NaN</td>\n",
       "      <td>NaN</td>\n",
       "      <td>NaN</td>\n",
       "      <td>NaN</td>\n",
       "    </tr>\n",
       "    <tr>\n",
       "      <th>1898</th>\n",
       "      <td>2021-01-15</td>\n",
       "      <td>0</td>\n",
       "      <td>NaN</td>\n",
       "      <td>NaN</td>\n",
       "      <td>NaN</td>\n",
       "      <td>NaN</td>\n",
       "      <td>NaN</td>\n",
       "    </tr>\n",
       "    <tr>\n",
       "      <th>2028</th>\n",
       "      <td>2021-01-16</td>\n",
       "      <td>0</td>\n",
       "      <td>NaN</td>\n",
       "      <td>NaN</td>\n",
       "      <td>NaN</td>\n",
       "      <td>NaN</td>\n",
       "      <td>NaN</td>\n",
       "    </tr>\n",
       "    <tr>\n",
       "      <th>2158</th>\n",
       "      <td>2021-01-17</td>\n",
       "      <td>0</td>\n",
       "      <td>NaN</td>\n",
       "      <td>NaN</td>\n",
       "      <td>NaN</td>\n",
       "      <td>NaN</td>\n",
       "      <td>NaN</td>\n",
       "    </tr>\n",
       "    <tr>\n",
       "      <th>2288</th>\n",
       "      <td>2021-01-18</td>\n",
       "      <td>0</td>\n",
       "      <td>NaN</td>\n",
       "      <td>NaN</td>\n",
       "      <td>NaN</td>\n",
       "      <td>NaN</td>\n",
       "      <td>NaN</td>\n",
       "    </tr>\n",
       "    <tr>\n",
       "      <th>2418</th>\n",
       "      <td>2021-01-19</td>\n",
       "      <td>0</td>\n",
       "      <td>NaN</td>\n",
       "      <td>NaN</td>\n",
       "      <td>NaN</td>\n",
       "      <td>NaN</td>\n",
       "      <td>NaN</td>\n",
       "    </tr>\n",
       "    <tr>\n",
       "      <th>2548</th>\n",
       "      <td>2021-01-20</td>\n",
       "      <td>0</td>\n",
       "      <td>NaN</td>\n",
       "      <td>NaN</td>\n",
       "      <td>NaN</td>\n",
       "      <td>NaN</td>\n",
       "      <td>NaN</td>\n",
       "    </tr>\n",
       "    <tr>\n",
       "      <th>2678</th>\n",
       "      <td>2021-01-21</td>\n",
       "      <td>0</td>\n",
       "      <td>NaN</td>\n",
       "      <td>NaN</td>\n",
       "      <td>NaN</td>\n",
       "      <td>NaN</td>\n",
       "      <td>NaN</td>\n",
       "    </tr>\n",
       "    <tr>\n",
       "      <th>2808</th>\n",
       "      <td>2021-01-22</td>\n",
       "      <td>0</td>\n",
       "      <td>NaN</td>\n",
       "      <td>NaN</td>\n",
       "      <td>NaN</td>\n",
       "      <td>NaN</td>\n",
       "      <td>NaN</td>\n",
       "    </tr>\n",
       "    <tr>\n",
       "      <th>2938</th>\n",
       "      <td>2021-01-23</td>\n",
       "      <td>0</td>\n",
       "      <td>NaN</td>\n",
       "      <td>NaN</td>\n",
       "      <td>NaN</td>\n",
       "      <td>NaN</td>\n",
       "      <td>NaN</td>\n",
       "    </tr>\n",
       "    <tr>\n",
       "      <th>3068</th>\n",
       "      <td>2021-01-24</td>\n",
       "      <td>0</td>\n",
       "      <td>NaN</td>\n",
       "      <td>NaN</td>\n",
       "      <td>NaN</td>\n",
       "      <td>NaN</td>\n",
       "      <td>NaN</td>\n",
       "    </tr>\n",
       "    <tr>\n",
       "      <th>3198</th>\n",
       "      <td>2021-01-25</td>\n",
       "      <td>0</td>\n",
       "      <td>NaN</td>\n",
       "      <td>NaN</td>\n",
       "      <td>NaN</td>\n",
       "      <td>NaN</td>\n",
       "      <td>NaN</td>\n",
       "    </tr>\n",
       "    <tr>\n",
       "      <th>3328</th>\n",
       "      <td>2021-01-26</td>\n",
       "      <td>0</td>\n",
       "      <td>NaN</td>\n",
       "      <td>NaN</td>\n",
       "      <td>NaN</td>\n",
       "      <td>NaN</td>\n",
       "      <td>NaN</td>\n",
       "    </tr>\n",
       "    <tr>\n",
       "      <th>3458</th>\n",
       "      <td>2021-01-27</td>\n",
       "      <td>0</td>\n",
       "      <td>NaN</td>\n",
       "      <td>NaN</td>\n",
       "      <td>NaN</td>\n",
       "      <td>NaN</td>\n",
       "      <td>NaN</td>\n",
       "    </tr>\n",
       "    <tr>\n",
       "      <th>3588</th>\n",
       "      <td>2021-01-28</td>\n",
       "      <td>0</td>\n",
       "      <td>NaN</td>\n",
       "      <td>NaN</td>\n",
       "      <td>NaN</td>\n",
       "      <td>NaN</td>\n",
       "      <td>NaN</td>\n",
       "    </tr>\n",
       "    <tr>\n",
       "      <th>3718</th>\n",
       "      <td>2021-01-29</td>\n",
       "      <td>0</td>\n",
       "      <td>NaN</td>\n",
       "      <td>NaN</td>\n",
       "      <td>NaN</td>\n",
       "      <td>NaN</td>\n",
       "      <td>NaN</td>\n",
       "    </tr>\n",
       "    <tr>\n",
       "      <th>3848</th>\n",
       "      <td>2021-01-30</td>\n",
       "      <td>0</td>\n",
       "      <td>NaN</td>\n",
       "      <td>NaN</td>\n",
       "      <td>NaN</td>\n",
       "      <td>NaN</td>\n",
       "      <td>NaN</td>\n",
       "    </tr>\n",
       "  </tbody>\n",
       "</table>\n",
       "</div>"
      ],
      "text/plain": [
       "           date  payer_country_encoder payer country  amount  tx_cancelled  \\\n",
       "78   2021-01-01                      0   NaN     NaN     NaN           NaN   \n",
       "208  2021-01-02                      0   NaN     NaN     NaN           NaN   \n",
       "338  2021-01-03                      0   NaN     NaN     NaN           NaN   \n",
       "468  2021-01-04                      0   NaN     NaN     NaN           NaN   \n",
       "598  2021-01-05                      0   NaN     NaN     NaN           NaN   \n",
       "728  2021-01-06                      0   NaN     NaN     NaN           NaN   \n",
       "858  2021-01-07                      0   NaN     NaN     NaN           NaN   \n",
       "988  2021-01-08                      0   NaN     NaN     NaN           NaN   \n",
       "1118 2021-01-09                      0   NaN     NaN     NaN           NaN   \n",
       "1248 2021-01-10                      0   NaN     NaN     NaN           NaN   \n",
       "1378 2021-01-11                      0   NaN     NaN     NaN           NaN   \n",
       "1508 2021-01-12                      0   NaN     NaN     NaN           NaN   \n",
       "1638 2021-01-13                      0   NaN     NaN     NaN           NaN   \n",
       "1768 2021-01-14                      0   NaN     NaN     NaN           NaN   \n",
       "1898 2021-01-15                      0   NaN     NaN     NaN           NaN   \n",
       "2028 2021-01-16                      0   NaN     NaN     NaN           NaN   \n",
       "2158 2021-01-17                      0   NaN     NaN     NaN           NaN   \n",
       "2288 2021-01-18                      0   NaN     NaN     NaN           NaN   \n",
       "2418 2021-01-19                      0   NaN     NaN     NaN           NaN   \n",
       "2548 2021-01-20                      0   NaN     NaN     NaN           NaN   \n",
       "2678 2021-01-21                      0   NaN     NaN     NaN           NaN   \n",
       "2808 2021-01-22                      0   NaN     NaN     NaN           NaN   \n",
       "2938 2021-01-23                      0   NaN     NaN     NaN           NaN   \n",
       "3068 2021-01-24                      0   NaN     NaN     NaN           NaN   \n",
       "3198 2021-01-25                      0   NaN     NaN     NaN           NaN   \n",
       "3328 2021-01-26                      0   NaN     NaN     NaN           NaN   \n",
       "3458 2021-01-27                      0   NaN     NaN     NaN           NaN   \n",
       "3588 2021-01-28                      0   NaN     NaN     NaN           NaN   \n",
       "3718 2021-01-29                      0   NaN     NaN     NaN           NaN   \n",
       "3848 2021-01-30                      0   NaN     NaN     NaN           NaN   \n",
       "\n",
       "     payer_country  \n",
       "78             NaN  \n",
       "208            NaN  \n",
       "338            NaN  \n",
       "468            NaN  \n",
       "598            NaN  \n",
       "728            NaN  \n",
       "858            NaN  \n",
       "988            NaN  \n",
       "1118           NaN  \n",
       "1248           NaN  \n",
       "1378           NaN  \n",
       "1508           NaN  \n",
       "1638           NaN  \n",
       "1768           NaN  \n",
       "1898           NaN  \n",
       "2028           NaN  \n",
       "2158           NaN  \n",
       "2288           NaN  \n",
       "2418           NaN  \n",
       "2548           NaN  \n",
       "2678           NaN  \n",
       "2808           NaN  \n",
       "2938           NaN  \n",
       "3068           NaN  \n",
       "3198           NaN  \n",
       "3328           NaN  \n",
       "3458           NaN  \n",
       "3588           NaN  \n",
       "3718           NaN  \n",
       "3848           NaN  "
      ]
     },
     "execution_count": 258,
     "metadata": {},
     "output_type": "execute_result"
    }
   ],
   "source": [
    "df_completo.head(30)"
   ]
  },
  {
   "cell_type": "code",
   "execution_count": 259,
   "id": "99de64bf-ffa8-4187-a885-0949d79286b1",
   "metadata": {
    "tags": []
   },
   "outputs": [
    {
     "data": {
      "text/plain": [
       "6395528397.018701"
      ]
     },
     "execution_count": 259,
     "metadata": {},
     "output_type": "execute_result"
    }
   ],
   "source": [
    "###CONTROL EXTRA\n",
    "df_control2=df_completo.loc[df_completo.payer=='ELEKTRA (MEXICO)']\n",
    "df_control2.amount.sum()"
   ]
  },
  {
   "cell_type": "code",
   "execution_count": null,
   "id": "ba3dad8b-8552-4c32-af2e-4e1639c580ac",
   "metadata": {},
   "outputs": [],
   "source": []
  },
  {
   "cell_type": "code",
   "execution_count": null,
   "id": "291d8438-a012-497b-9d7d-933b08a65b3d",
   "metadata": {},
   "outputs": [],
   "source": []
  },
  {
   "cell_type": "code",
   "execution_count": null,
   "id": "d5593b5e-6048-4e25-8f44-17d13c96a1f4",
   "metadata": {},
   "outputs": [],
   "source": []
  },
  {
   "cell_type": "code",
   "execution_count": null,
   "id": "ac923ea1-2d99-4617-a1b2-4940ca3d6c09",
   "metadata": {},
   "outputs": [],
   "source": []
  },
  {
   "cell_type": "code",
   "execution_count": 260,
   "id": "5c720e53-e914-48db-bb0b-4c1f007fcba2",
   "metadata": {
    "tags": []
   },
   "outputs": [],
   "source": [
    "del df2\n",
    "df2=df_completo.copy()"
   ]
  },
  {
   "cell_type": "code",
   "execution_count": 261,
   "id": "33127f67-2031-4b02-8951-3ac0bb0cda87",
   "metadata": {},
   "outputs": [],
   "source": [
    "###ORDERED BY COUNTRY PAYER AND DATE"
   ]
  },
  {
   "cell_type": "code",
   "execution_count": 262,
   "id": "d874f5db-45ce-4e85-97fc-4552d315986b",
   "metadata": {
    "tags": []
   },
   "outputs": [],
   "source": [
    "df2=df2.sort_values(by=['country', 'payer', 'date'])"
   ]
  },
  {
   "cell_type": "code",
   "execution_count": 263,
   "id": "424d8c6e-0b1d-4ad0-8ae5-1dec5bcf1dde",
   "metadata": {},
   "outputs": [
    {
     "data": {
      "text/html": [
       "<div>\n",
       "<style scoped>\n",
       "    .dataframe tbody tr th:only-of-type {\n",
       "        vertical-align: middle;\n",
       "    }\n",
       "\n",
       "    .dataframe tbody tr th {\n",
       "        vertical-align: top;\n",
       "    }\n",
       "\n",
       "    .dataframe thead th {\n",
       "        text-align: right;\n",
       "    }\n",
       "</style>\n",
       "<table border=\"1\" class=\"dataframe\">\n",
       "  <thead>\n",
       "    <tr style=\"text-align: right;\">\n",
       "      <th></th>\n",
       "      <th>date</th>\n",
       "      <th>payer_country_encoder</th>\n",
       "      <th>payer</th>\n",
       "      <th>country</th>\n",
       "      <th>amount</th>\n",
       "      <th>tx_cancelled</th>\n",
       "      <th>payer_country</th>\n",
       "    </tr>\n",
       "  </thead>\n",
       "  <tbody>\n",
       "    <tr>\n",
       "      <th>130</th>\n",
       "      <td>2021-01-02</td>\n",
       "      <td>6</td>\n",
       "      <td>ARGENPER</td>\n",
       "      <td>ARGENTINA</td>\n",
       "      <td>25.0</td>\n",
       "      <td>0.0</td>\n",
       "      <td>ARGENPER_ARGENTINA</td>\n",
       "    </tr>\n",
       "    <tr>\n",
       "      <th>520</th>\n",
       "      <td>2021-01-05</td>\n",
       "      <td>6</td>\n",
       "      <td>ARGENPER</td>\n",
       "      <td>ARGENTINA</td>\n",
       "      <td>490.0</td>\n",
       "      <td>0.0</td>\n",
       "      <td>ARGENPER_ARGENTINA</td>\n",
       "    </tr>\n",
       "    <tr>\n",
       "      <th>1430</th>\n",
       "      <td>2021-01-12</td>\n",
       "      <td>6</td>\n",
       "      <td>ARGENPER</td>\n",
       "      <td>ARGENTINA</td>\n",
       "      <td>150.0</td>\n",
       "      <td>0.0</td>\n",
       "      <td>ARGENPER_ARGENTINA</td>\n",
       "    </tr>\n",
       "    <tr>\n",
       "      <th>1950</th>\n",
       "      <td>2021-01-16</td>\n",
       "      <td>6</td>\n",
       "      <td>ARGENPER</td>\n",
       "      <td>ARGENTINA</td>\n",
       "      <td>50.0</td>\n",
       "      <td>0.0</td>\n",
       "      <td>ARGENPER_ARGENTINA</td>\n",
       "    </tr>\n",
       "    <tr>\n",
       "      <th>2210</th>\n",
       "      <td>2021-01-18</td>\n",
       "      <td>6</td>\n",
       "      <td>ARGENPER</td>\n",
       "      <td>ARGENTINA</td>\n",
       "      <td>200.0</td>\n",
       "      <td>0.0</td>\n",
       "      <td>ARGENPER_ARGENTINA</td>\n",
       "    </tr>\n",
       "  </tbody>\n",
       "</table>\n",
       "</div>"
      ],
      "text/plain": [
       "           date  payer_country_encoder     payer    country  amount  \\\n",
       "130  2021-01-02                      6  ARGENPER  ARGENTINA    25.0   \n",
       "520  2021-01-05                      6  ARGENPER  ARGENTINA   490.0   \n",
       "1430 2021-01-12                      6  ARGENPER  ARGENTINA   150.0   \n",
       "1950 2021-01-16                      6  ARGENPER  ARGENTINA    50.0   \n",
       "2210 2021-01-18                      6  ARGENPER  ARGENTINA   200.0   \n",
       "\n",
       "      tx_cancelled       payer_country  \n",
       "130            0.0  ARGENPER_ARGENTINA  \n",
       "520            0.0  ARGENPER_ARGENTINA  \n",
       "1430           0.0  ARGENPER_ARGENTINA  \n",
       "1950           0.0  ARGENPER_ARGENTINA  \n",
       "2210           0.0  ARGENPER_ARGENTINA  "
      ]
     },
     "execution_count": 263,
     "metadata": {},
     "output_type": "execute_result"
    }
   ],
   "source": [
    "df2.head()"
   ]
  },
  {
   "cell_type": "code",
   "execution_count": 264,
   "id": "64d3681d-a4ba-4fcb-b71e-9dbb1f81bc07",
   "metadata": {
    "tags": []
   },
   "outputs": [],
   "source": [
    "###IT IS NECESSARY TO FILL THE MISSING COUNTRY AND DATE FIELDS WITH THE ENCODER ID AND THEN FILL MISSINGS AMOUNT AND TX_CANCELLED WITH ZERO."
   ]
  },
  {
   "cell_type": "code",
   "execution_count": 265,
   "id": "4faf6606-1083-45fb-a6b0-676a8e66d681",
   "metadata": {
    "tags": []
   },
   "outputs": [
    {
     "name": "stderr",
     "output_type": "stream",
     "text": [
      "/tmp/ipykernel_64/3419388508.py:1: FutureWarning: Series.fillna with 'method' is deprecated and will raise in a future version. Use obj.ffill() or obj.bfill() instead.\n",
      "  df2['payer'] = df2.groupby('payer_country_encoder')['payer'].fillna(method='ffill')\n",
      "/tmp/ipykernel_64/3419388508.py:2: FutureWarning: Series.fillna with 'method' is deprecated and will raise in a future version. Use obj.ffill() or obj.bfill() instead.\n",
      "  df2['country'] = df2.groupby('payer_country_encoder')['country'].fillna(method='ffill')\n",
      "/tmp/ipykernel_64/3419388508.py:3: FutureWarning: Series.fillna with 'method' is deprecated and will raise in a future version. Use obj.ffill() or obj.bfill() instead.\n",
      "  df2['payer_country'] = df2.groupby('payer_country_encoder')['payer_country'].fillna(method='ffill')\n"
     ]
    }
   ],
   "source": [
    "df2['payer'] = df2.groupby('payer_country_encoder')['payer'].fillna(method='ffill')\n",
    "df2['country'] = df2.groupby('payer_country_encoder')['country'].fillna(method='ffill')\n",
    "df2['payer_country'] = df2.groupby('payer_country_encoder')['payer_country'].fillna(method='ffill')"
   ]
  },
  {
   "cell_type": "code",
   "execution_count": 266,
   "id": "fd7d37e8-2ab4-4573-a2e7-e10447cd5fdb",
   "metadata": {
    "tags": []
   },
   "outputs": [
    {
     "data": {
      "text/html": [
       "<div>\n",
       "<style scoped>\n",
       "    .dataframe tbody tr th:only-of-type {\n",
       "        vertical-align: middle;\n",
       "    }\n",
       "\n",
       "    .dataframe tbody tr th {\n",
       "        vertical-align: top;\n",
       "    }\n",
       "\n",
       "    .dataframe thead th {\n",
       "        text-align: right;\n",
       "    }\n",
       "</style>\n",
       "<table border=\"1\" class=\"dataframe\">\n",
       "  <thead>\n",
       "    <tr style=\"text-align: right;\">\n",
       "      <th></th>\n",
       "      <th>date</th>\n",
       "      <th>payer_country_encoder</th>\n",
       "      <th>payer</th>\n",
       "      <th>country</th>\n",
       "      <th>amount</th>\n",
       "      <th>tx_cancelled</th>\n",
       "      <th>payer_country</th>\n",
       "    </tr>\n",
       "  </thead>\n",
       "  <tbody>\n",
       "    <tr>\n",
       "      <th>31905</th>\n",
       "      <td>2021-09-03</td>\n",
       "      <td>3</td>\n",
       "      <td>AFRO INTERNACIONAL</td>\n",
       "      <td>GUINEA</td>\n",
       "      <td>0.0</td>\n",
       "      <td>1.0</td>\n",
       "      <td>AFRO INTERNACIONAL_GUINEA</td>\n",
       "    </tr>\n",
       "    <tr>\n",
       "      <th>32035</th>\n",
       "      <td>2021-09-04</td>\n",
       "      <td>3</td>\n",
       "      <td>AFRO INTERNACIONAL</td>\n",
       "      <td>GUINEA</td>\n",
       "      <td>620.0</td>\n",
       "      <td>0.0</td>\n",
       "      <td>AFRO INTERNACIONAL_GUINEA</td>\n",
       "    </tr>\n",
       "    <tr>\n",
       "      <th>32295</th>\n",
       "      <td>2021-09-06</td>\n",
       "      <td>3</td>\n",
       "      <td>AFRO INTERNACIONAL</td>\n",
       "      <td>GUINEA</td>\n",
       "      <td>0.0</td>\n",
       "      <td>1.0</td>\n",
       "      <td>AFRO INTERNACIONAL_GUINEA</td>\n",
       "    </tr>\n",
       "    <tr>\n",
       "      <th>35805</th>\n",
       "      <td>2021-10-03</td>\n",
       "      <td>3</td>\n",
       "      <td>AFRO INTERNACIONAL</td>\n",
       "      <td>GUINEA</td>\n",
       "      <td>600.0</td>\n",
       "      <td>0.0</td>\n",
       "      <td>AFRO INTERNACIONAL_GUINEA</td>\n",
       "    </tr>\n",
       "    <tr>\n",
       "      <th>37495</th>\n",
       "      <td>2021-10-16</td>\n",
       "      <td>3</td>\n",
       "      <td>AFRO INTERNACIONAL</td>\n",
       "      <td>GUINEA</td>\n",
       "      <td>0.0</td>\n",
       "      <td>1.0</td>\n",
       "      <td>AFRO INTERNACIONAL_GUINEA</td>\n",
       "    </tr>\n",
       "  </tbody>\n",
       "</table>\n",
       "</div>"
      ],
      "text/plain": [
       "            date  payer_country_encoder               payer country  amount  \\\n",
       "31905 2021-09-03                      3  AFRO INTERNACIONAL  GUINEA     0.0   \n",
       "32035 2021-09-04                      3  AFRO INTERNACIONAL  GUINEA   620.0   \n",
       "32295 2021-09-06                      3  AFRO INTERNACIONAL  GUINEA     0.0   \n",
       "35805 2021-10-03                      3  AFRO INTERNACIONAL  GUINEA   600.0   \n",
       "37495 2021-10-16                      3  AFRO INTERNACIONAL  GUINEA     0.0   \n",
       "\n",
       "       tx_cancelled              payer_country  \n",
       "31905           1.0  AFRO INTERNACIONAL_GUINEA  \n",
       "32035           0.0  AFRO INTERNACIONAL_GUINEA  \n",
       "32295           1.0  AFRO INTERNACIONAL_GUINEA  \n",
       "35805           0.0  AFRO INTERNACIONAL_GUINEA  \n",
       "37495           1.0  AFRO INTERNACIONAL_GUINEA  "
      ]
     },
     "execution_count": 266,
     "metadata": {},
     "output_type": "execute_result"
    }
   ],
   "source": [
    "df_control=df2.loc[df2.payer_country_encoder==3]\n",
    "df_control.head()"
   ]
  },
  {
   "cell_type": "code",
   "execution_count": 267,
   "id": "b8abb48e-4a16-4428-87cc-4f13f2950708",
   "metadata": {
    "tags": []
   },
   "outputs": [
    {
     "data": {
      "text/plain": [
       "(1024, 7)"
      ]
     },
     "execution_count": 267,
     "metadata": {},
     "output_type": "execute_result"
    }
   ],
   "source": [
    "df_control.shape"
   ]
  },
  {
   "cell_type": "code",
   "execution_count": 268,
   "id": "4fe7c98a-2fbb-48ee-98ef-81859095b3e9",
   "metadata": {},
   "outputs": [],
   "source": [
    "##NOW WE FILL WITH ZEROS THE MISSINGS IN AMOUNT AND TX_CANCELLED"
   ]
  },
  {
   "cell_type": "code",
   "execution_count": 269,
   "id": "4d307f58-50c4-4f7a-b24d-852d1107afce",
   "metadata": {
    "tags": []
   },
   "outputs": [],
   "source": [
    "df2['amount'] = df2['amount'].fillna(0)\n",
    "df2['tx_cancelled'] = df2['tx_cancelled'].fillna(0)"
   ]
  },
  {
   "cell_type": "code",
   "execution_count": 270,
   "id": "e5934886-7fec-4d85-8b3b-765c92fbef09",
   "metadata": {
    "tags": []
   },
   "outputs": [
    {
     "name": "stdout",
     "output_type": "stream",
     "text": [
      "<class 'pandas.core.frame.DataFrame'>\n",
      "Index: 133120 entries, 130 to 133013\n",
      "Data columns (total 7 columns):\n",
      " #   Column                 Non-Null Count   Dtype         \n",
      "---  ------                 --------------   -----         \n",
      " 0   date                   133120 non-null  datetime64[ns]\n",
      " 1   payer_country_encoder  133120 non-null  int64         \n",
      " 2   payer                  133120 non-null  object        \n",
      " 3   country                133120 non-null  object        \n",
      " 4   amount                 133120 non-null  float64       \n",
      " 5   tx_cancelled           133120 non-null  float64       \n",
      " 6   payer_country          133120 non-null  object        \n",
      "dtypes: datetime64[ns](1), float64(2), int64(1), object(3)\n",
      "memory usage: 8.1+ MB\n"
     ]
    }
   ],
   "source": [
    "df2.info()"
   ]
  },
  {
   "cell_type": "code",
   "execution_count": 271,
   "id": "7dc5444d-707d-4eec-8449-f98c496354f1",
   "metadata": {},
   "outputs": [],
   "source": [
    "##ONCE THE DATASET HAS BEEN SORTED, WE CAN OBTAIN THE LAGS OF THE CANCELLED TX"
   ]
  },
  {
   "cell_type": "code",
   "execution_count": 272,
   "id": "34153908-261c-4d2c-b5e2-54864cafdc01",
   "metadata": {},
   "outputs": [],
   "source": [
    "df2=df2.sort_values(by=['country', 'payer', 'date'])"
   ]
  },
  {
   "cell_type": "code",
   "execution_count": 273,
   "id": "971684ba-343a-4600-bb4d-edebc592f9ea",
   "metadata": {
    "tags": []
   },
   "outputs": [],
   "source": [
    "for i in range(1, 8):\n",
    "    nombre_columna = f'tx_cancelled_{i}'\n",
    "    df2[nombre_columna] = df2.groupby(['country', 'payer'])['tx_cancelled'].shift(i)"
   ]
  },
  {
   "cell_type": "code",
   "execution_count": 274,
   "id": "44a70594-fc16-4830-90e9-f3b4c816f6b7",
   "metadata": {
    "tags": []
   },
   "outputs": [
    {
     "data": {
      "text/html": [
       "<div>\n",
       "<style scoped>\n",
       "    .dataframe tbody tr th:only-of-type {\n",
       "        vertical-align: middle;\n",
       "    }\n",
       "\n",
       "    .dataframe tbody tr th {\n",
       "        vertical-align: top;\n",
       "    }\n",
       "\n",
       "    .dataframe thead th {\n",
       "        text-align: right;\n",
       "    }\n",
       "</style>\n",
       "<table border=\"1\" class=\"dataframe\">\n",
       "  <thead>\n",
       "    <tr style=\"text-align: right;\">\n",
       "      <th></th>\n",
       "      <th>date</th>\n",
       "      <th>payer_country_encoder</th>\n",
       "      <th>payer</th>\n",
       "      <th>country</th>\n",
       "      <th>amount</th>\n",
       "      <th>tx_cancelled</th>\n",
       "      <th>payer_country</th>\n",
       "      <th>tx_cancelled_1</th>\n",
       "      <th>tx_cancelled_2</th>\n",
       "      <th>tx_cancelled_3</th>\n",
       "      <th>tx_cancelled_4</th>\n",
       "      <th>tx_cancelled_5</th>\n",
       "      <th>tx_cancelled_6</th>\n",
       "      <th>tx_cancelled_7</th>\n",
       "    </tr>\n",
       "  </thead>\n",
       "  <tbody>\n",
       "    <tr>\n",
       "      <th>130618</th>\n",
       "      <td>2023-10-02</td>\n",
       "      <td>125</td>\n",
       "      <td>WALMART (UT)</td>\n",
       "      <td>MEXICO</td>\n",
       "      <td>415628.29</td>\n",
       "      <td>54.0</td>\n",
       "      <td>WALMART (UT)_MEXICO</td>\n",
       "      <td>48.0</td>\n",
       "      <td>62.0</td>\n",
       "      <td>51.0</td>\n",
       "      <td>34.0</td>\n",
       "      <td>56.0</td>\n",
       "      <td>42.0</td>\n",
       "      <td>55.0</td>\n",
       "    </tr>\n",
       "    <tr>\n",
       "      <th>130748</th>\n",
       "      <td>2023-10-03</td>\n",
       "      <td>125</td>\n",
       "      <td>WALMART (UT)</td>\n",
       "      <td>MEXICO</td>\n",
       "      <td>352194.74</td>\n",
       "      <td>64.0</td>\n",
       "      <td>WALMART (UT)_MEXICO</td>\n",
       "      <td>54.0</td>\n",
       "      <td>48.0</td>\n",
       "      <td>62.0</td>\n",
       "      <td>51.0</td>\n",
       "      <td>34.0</td>\n",
       "      <td>56.0</td>\n",
       "      <td>42.0</td>\n",
       "    </tr>\n",
       "    <tr>\n",
       "      <th>130878</th>\n",
       "      <td>2023-10-04</td>\n",
       "      <td>125</td>\n",
       "      <td>WALMART (UT)</td>\n",
       "      <td>MEXICO</td>\n",
       "      <td>341639.25</td>\n",
       "      <td>74.0</td>\n",
       "      <td>WALMART (UT)_MEXICO</td>\n",
       "      <td>64.0</td>\n",
       "      <td>54.0</td>\n",
       "      <td>48.0</td>\n",
       "      <td>62.0</td>\n",
       "      <td>51.0</td>\n",
       "      <td>34.0</td>\n",
       "      <td>56.0</td>\n",
       "    </tr>\n",
       "    <tr>\n",
       "      <th>131008</th>\n",
       "      <td>2023-10-05</td>\n",
       "      <td>125</td>\n",
       "      <td>WALMART (UT)</td>\n",
       "      <td>MEXICO</td>\n",
       "      <td>473442.39</td>\n",
       "      <td>61.0</td>\n",
       "      <td>WALMART (UT)_MEXICO</td>\n",
       "      <td>74.0</td>\n",
       "      <td>64.0</td>\n",
       "      <td>54.0</td>\n",
       "      <td>48.0</td>\n",
       "      <td>62.0</td>\n",
       "      <td>51.0</td>\n",
       "      <td>34.0</td>\n",
       "    </tr>\n",
       "    <tr>\n",
       "      <th>131138</th>\n",
       "      <td>2023-10-06</td>\n",
       "      <td>125</td>\n",
       "      <td>WALMART (UT)</td>\n",
       "      <td>MEXICO</td>\n",
       "      <td>605532.85</td>\n",
       "      <td>46.0</td>\n",
       "      <td>WALMART (UT)_MEXICO</td>\n",
       "      <td>61.0</td>\n",
       "      <td>74.0</td>\n",
       "      <td>64.0</td>\n",
       "      <td>54.0</td>\n",
       "      <td>48.0</td>\n",
       "      <td>62.0</td>\n",
       "      <td>51.0</td>\n",
       "    </tr>\n",
       "    <tr>\n",
       "      <th>131268</th>\n",
       "      <td>2023-10-07</td>\n",
       "      <td>125</td>\n",
       "      <td>WALMART (UT)</td>\n",
       "      <td>MEXICO</td>\n",
       "      <td>597892.70</td>\n",
       "      <td>42.0</td>\n",
       "      <td>WALMART (UT)_MEXICO</td>\n",
       "      <td>46.0</td>\n",
       "      <td>61.0</td>\n",
       "      <td>74.0</td>\n",
       "      <td>64.0</td>\n",
       "      <td>54.0</td>\n",
       "      <td>48.0</td>\n",
       "      <td>62.0</td>\n",
       "    </tr>\n",
       "    <tr>\n",
       "      <th>131398</th>\n",
       "      <td>2023-10-08</td>\n",
       "      <td>125</td>\n",
       "      <td>WALMART (UT)</td>\n",
       "      <td>MEXICO</td>\n",
       "      <td>438368.94</td>\n",
       "      <td>56.0</td>\n",
       "      <td>WALMART (UT)_MEXICO</td>\n",
       "      <td>42.0</td>\n",
       "      <td>46.0</td>\n",
       "      <td>61.0</td>\n",
       "      <td>74.0</td>\n",
       "      <td>64.0</td>\n",
       "      <td>54.0</td>\n",
       "      <td>48.0</td>\n",
       "    </tr>\n",
       "    <tr>\n",
       "      <th>131528</th>\n",
       "      <td>2023-10-09</td>\n",
       "      <td>125</td>\n",
       "      <td>WALMART (UT)</td>\n",
       "      <td>MEXICO</td>\n",
       "      <td>331874.13</td>\n",
       "      <td>32.0</td>\n",
       "      <td>WALMART (UT)_MEXICO</td>\n",
       "      <td>56.0</td>\n",
       "      <td>42.0</td>\n",
       "      <td>46.0</td>\n",
       "      <td>61.0</td>\n",
       "      <td>74.0</td>\n",
       "      <td>64.0</td>\n",
       "      <td>54.0</td>\n",
       "    </tr>\n",
       "    <tr>\n",
       "      <th>131658</th>\n",
       "      <td>2023-10-10</td>\n",
       "      <td>125</td>\n",
       "      <td>WALMART (UT)</td>\n",
       "      <td>MEXICO</td>\n",
       "      <td>310515.78</td>\n",
       "      <td>46.0</td>\n",
       "      <td>WALMART (UT)_MEXICO</td>\n",
       "      <td>32.0</td>\n",
       "      <td>56.0</td>\n",
       "      <td>42.0</td>\n",
       "      <td>46.0</td>\n",
       "      <td>61.0</td>\n",
       "      <td>74.0</td>\n",
       "      <td>64.0</td>\n",
       "    </tr>\n",
       "    <tr>\n",
       "      <th>131788</th>\n",
       "      <td>2023-10-11</td>\n",
       "      <td>125</td>\n",
       "      <td>WALMART (UT)</td>\n",
       "      <td>MEXICO</td>\n",
       "      <td>265200.61</td>\n",
       "      <td>39.0</td>\n",
       "      <td>WALMART (UT)_MEXICO</td>\n",
       "      <td>46.0</td>\n",
       "      <td>32.0</td>\n",
       "      <td>56.0</td>\n",
       "      <td>42.0</td>\n",
       "      <td>46.0</td>\n",
       "      <td>61.0</td>\n",
       "      <td>74.0</td>\n",
       "    </tr>\n",
       "    <tr>\n",
       "      <th>131918</th>\n",
       "      <td>2023-10-12</td>\n",
       "      <td>125</td>\n",
       "      <td>WALMART (UT)</td>\n",
       "      <td>MEXICO</td>\n",
       "      <td>282657.10</td>\n",
       "      <td>40.0</td>\n",
       "      <td>WALMART (UT)_MEXICO</td>\n",
       "      <td>39.0</td>\n",
       "      <td>46.0</td>\n",
       "      <td>32.0</td>\n",
       "      <td>56.0</td>\n",
       "      <td>42.0</td>\n",
       "      <td>46.0</td>\n",
       "      <td>61.0</td>\n",
       "    </tr>\n",
       "    <tr>\n",
       "      <th>132048</th>\n",
       "      <td>2023-10-13</td>\n",
       "      <td>125</td>\n",
       "      <td>WALMART (UT)</td>\n",
       "      <td>MEXICO</td>\n",
       "      <td>474161.67</td>\n",
       "      <td>43.0</td>\n",
       "      <td>WALMART (UT)_MEXICO</td>\n",
       "      <td>40.0</td>\n",
       "      <td>39.0</td>\n",
       "      <td>46.0</td>\n",
       "      <td>32.0</td>\n",
       "      <td>56.0</td>\n",
       "      <td>42.0</td>\n",
       "      <td>46.0</td>\n",
       "    </tr>\n",
       "    <tr>\n",
       "      <th>132178</th>\n",
       "      <td>2023-10-14</td>\n",
       "      <td>125</td>\n",
       "      <td>WALMART (UT)</td>\n",
       "      <td>MEXICO</td>\n",
       "      <td>591180.36</td>\n",
       "      <td>49.0</td>\n",
       "      <td>WALMART (UT)_MEXICO</td>\n",
       "      <td>43.0</td>\n",
       "      <td>40.0</td>\n",
       "      <td>39.0</td>\n",
       "      <td>46.0</td>\n",
       "      <td>32.0</td>\n",
       "      <td>56.0</td>\n",
       "      <td>42.0</td>\n",
       "    </tr>\n",
       "    <tr>\n",
       "      <th>132308</th>\n",
       "      <td>2023-10-15</td>\n",
       "      <td>125</td>\n",
       "      <td>WALMART (UT)</td>\n",
       "      <td>MEXICO</td>\n",
       "      <td>494087.96</td>\n",
       "      <td>34.0</td>\n",
       "      <td>WALMART (UT)_MEXICO</td>\n",
       "      <td>49.0</td>\n",
       "      <td>43.0</td>\n",
       "      <td>40.0</td>\n",
       "      <td>39.0</td>\n",
       "      <td>46.0</td>\n",
       "      <td>32.0</td>\n",
       "      <td>56.0</td>\n",
       "    </tr>\n",
       "    <tr>\n",
       "      <th>132438</th>\n",
       "      <td>2023-10-16</td>\n",
       "      <td>125</td>\n",
       "      <td>WALMART (UT)</td>\n",
       "      <td>MEXICO</td>\n",
       "      <td>359941.56</td>\n",
       "      <td>51.0</td>\n",
       "      <td>WALMART (UT)_MEXICO</td>\n",
       "      <td>34.0</td>\n",
       "      <td>49.0</td>\n",
       "      <td>43.0</td>\n",
       "      <td>40.0</td>\n",
       "      <td>39.0</td>\n",
       "      <td>46.0</td>\n",
       "      <td>32.0</td>\n",
       "    </tr>\n",
       "    <tr>\n",
       "      <th>132568</th>\n",
       "      <td>2023-10-17</td>\n",
       "      <td>125</td>\n",
       "      <td>WALMART (UT)</td>\n",
       "      <td>MEXICO</td>\n",
       "      <td>282912.89</td>\n",
       "      <td>32.0</td>\n",
       "      <td>WALMART (UT)_MEXICO</td>\n",
       "      <td>51.0</td>\n",
       "      <td>34.0</td>\n",
       "      <td>49.0</td>\n",
       "      <td>43.0</td>\n",
       "      <td>40.0</td>\n",
       "      <td>39.0</td>\n",
       "      <td>46.0</td>\n",
       "    </tr>\n",
       "    <tr>\n",
       "      <th>132698</th>\n",
       "      <td>2023-10-18</td>\n",
       "      <td>125</td>\n",
       "      <td>WALMART (UT)</td>\n",
       "      <td>MEXICO</td>\n",
       "      <td>334777.84</td>\n",
       "      <td>36.0</td>\n",
       "      <td>WALMART (UT)_MEXICO</td>\n",
       "      <td>32.0</td>\n",
       "      <td>51.0</td>\n",
       "      <td>34.0</td>\n",
       "      <td>49.0</td>\n",
       "      <td>43.0</td>\n",
       "      <td>40.0</td>\n",
       "      <td>39.0</td>\n",
       "    </tr>\n",
       "    <tr>\n",
       "      <th>132828</th>\n",
       "      <td>2023-10-19</td>\n",
       "      <td>125</td>\n",
       "      <td>WALMART (UT)</td>\n",
       "      <td>MEXICO</td>\n",
       "      <td>338030.65</td>\n",
       "      <td>51.0</td>\n",
       "      <td>WALMART (UT)_MEXICO</td>\n",
       "      <td>36.0</td>\n",
       "      <td>32.0</td>\n",
       "      <td>51.0</td>\n",
       "      <td>34.0</td>\n",
       "      <td>49.0</td>\n",
       "      <td>43.0</td>\n",
       "      <td>40.0</td>\n",
       "    </tr>\n",
       "    <tr>\n",
       "      <th>132958</th>\n",
       "      <td>2023-10-20</td>\n",
       "      <td>125</td>\n",
       "      <td>WALMART (UT)</td>\n",
       "      <td>MEXICO</td>\n",
       "      <td>573821.44</td>\n",
       "      <td>55.0</td>\n",
       "      <td>WALMART (UT)_MEXICO</td>\n",
       "      <td>51.0</td>\n",
       "      <td>36.0</td>\n",
       "      <td>32.0</td>\n",
       "      <td>51.0</td>\n",
       "      <td>34.0</td>\n",
       "      <td>49.0</td>\n",
       "      <td>43.0</td>\n",
       "    </tr>\n",
       "    <tr>\n",
       "      <th>133088</th>\n",
       "      <td>2023-10-21</td>\n",
       "      <td>125</td>\n",
       "      <td>WALMART (UT)</td>\n",
       "      <td>MEXICO</td>\n",
       "      <td>625157.45</td>\n",
       "      <td>41.0</td>\n",
       "      <td>WALMART (UT)_MEXICO</td>\n",
       "      <td>55.0</td>\n",
       "      <td>51.0</td>\n",
       "      <td>36.0</td>\n",
       "      <td>32.0</td>\n",
       "      <td>51.0</td>\n",
       "      <td>34.0</td>\n",
       "      <td>49.0</td>\n",
       "    </tr>\n",
       "  </tbody>\n",
       "</table>\n",
       "</div>"
      ],
      "text/plain": [
       "             date  payer_country_encoder         payer country     amount  \\\n",
       "130618 2023-10-02                    125  WALMART (UT)  MEXICO  415628.29   \n",
       "130748 2023-10-03                    125  WALMART (UT)  MEXICO  352194.74   \n",
       "130878 2023-10-04                    125  WALMART (UT)  MEXICO  341639.25   \n",
       "131008 2023-10-05                    125  WALMART (UT)  MEXICO  473442.39   \n",
       "131138 2023-10-06                    125  WALMART (UT)  MEXICO  605532.85   \n",
       "131268 2023-10-07                    125  WALMART (UT)  MEXICO  597892.70   \n",
       "131398 2023-10-08                    125  WALMART (UT)  MEXICO  438368.94   \n",
       "131528 2023-10-09                    125  WALMART (UT)  MEXICO  331874.13   \n",
       "131658 2023-10-10                    125  WALMART (UT)  MEXICO  310515.78   \n",
       "131788 2023-10-11                    125  WALMART (UT)  MEXICO  265200.61   \n",
       "131918 2023-10-12                    125  WALMART (UT)  MEXICO  282657.10   \n",
       "132048 2023-10-13                    125  WALMART (UT)  MEXICO  474161.67   \n",
       "132178 2023-10-14                    125  WALMART (UT)  MEXICO  591180.36   \n",
       "132308 2023-10-15                    125  WALMART (UT)  MEXICO  494087.96   \n",
       "132438 2023-10-16                    125  WALMART (UT)  MEXICO  359941.56   \n",
       "132568 2023-10-17                    125  WALMART (UT)  MEXICO  282912.89   \n",
       "132698 2023-10-18                    125  WALMART (UT)  MEXICO  334777.84   \n",
       "132828 2023-10-19                    125  WALMART (UT)  MEXICO  338030.65   \n",
       "132958 2023-10-20                    125  WALMART (UT)  MEXICO  573821.44   \n",
       "133088 2023-10-21                    125  WALMART (UT)  MEXICO  625157.45   \n",
       "\n",
       "        tx_cancelled        payer_country  tx_cancelled_1  tx_cancelled_2  \\\n",
       "130618          54.0  WALMART (UT)_MEXICO            48.0            62.0   \n",
       "130748          64.0  WALMART (UT)_MEXICO            54.0            48.0   \n",
       "130878          74.0  WALMART (UT)_MEXICO            64.0            54.0   \n",
       "131008          61.0  WALMART (UT)_MEXICO            74.0            64.0   \n",
       "131138          46.0  WALMART (UT)_MEXICO            61.0            74.0   \n",
       "131268          42.0  WALMART (UT)_MEXICO            46.0            61.0   \n",
       "131398          56.0  WALMART (UT)_MEXICO            42.0            46.0   \n",
       "131528          32.0  WALMART (UT)_MEXICO            56.0            42.0   \n",
       "131658          46.0  WALMART (UT)_MEXICO            32.0            56.0   \n",
       "131788          39.0  WALMART (UT)_MEXICO            46.0            32.0   \n",
       "131918          40.0  WALMART (UT)_MEXICO            39.0            46.0   \n",
       "132048          43.0  WALMART (UT)_MEXICO            40.0            39.0   \n",
       "132178          49.0  WALMART (UT)_MEXICO            43.0            40.0   \n",
       "132308          34.0  WALMART (UT)_MEXICO            49.0            43.0   \n",
       "132438          51.0  WALMART (UT)_MEXICO            34.0            49.0   \n",
       "132568          32.0  WALMART (UT)_MEXICO            51.0            34.0   \n",
       "132698          36.0  WALMART (UT)_MEXICO            32.0            51.0   \n",
       "132828          51.0  WALMART (UT)_MEXICO            36.0            32.0   \n",
       "132958          55.0  WALMART (UT)_MEXICO            51.0            36.0   \n",
       "133088          41.0  WALMART (UT)_MEXICO            55.0            51.0   \n",
       "\n",
       "        tx_cancelled_3  tx_cancelled_4  tx_cancelled_5  tx_cancelled_6  \\\n",
       "130618            51.0            34.0            56.0            42.0   \n",
       "130748            62.0            51.0            34.0            56.0   \n",
       "130878            48.0            62.0            51.0            34.0   \n",
       "131008            54.0            48.0            62.0            51.0   \n",
       "131138            64.0            54.0            48.0            62.0   \n",
       "131268            74.0            64.0            54.0            48.0   \n",
       "131398            61.0            74.0            64.0            54.0   \n",
       "131528            46.0            61.0            74.0            64.0   \n",
       "131658            42.0            46.0            61.0            74.0   \n",
       "131788            56.0            42.0            46.0            61.0   \n",
       "131918            32.0            56.0            42.0            46.0   \n",
       "132048            46.0            32.0            56.0            42.0   \n",
       "132178            39.0            46.0            32.0            56.0   \n",
       "132308            40.0            39.0            46.0            32.0   \n",
       "132438            43.0            40.0            39.0            46.0   \n",
       "132568            49.0            43.0            40.0            39.0   \n",
       "132698            34.0            49.0            43.0            40.0   \n",
       "132828            51.0            34.0            49.0            43.0   \n",
       "132958            32.0            51.0            34.0            49.0   \n",
       "133088            36.0            32.0            51.0            34.0   \n",
       "\n",
       "        tx_cancelled_7  \n",
       "130618            55.0  \n",
       "130748            42.0  \n",
       "130878            56.0  \n",
       "131008            34.0  \n",
       "131138            51.0  \n",
       "131268            62.0  \n",
       "131398            48.0  \n",
       "131528            54.0  \n",
       "131658            64.0  \n",
       "131788            74.0  \n",
       "131918            61.0  \n",
       "132048            46.0  \n",
       "132178            42.0  \n",
       "132308            56.0  \n",
       "132438            32.0  \n",
       "132568            46.0  \n",
       "132698            39.0  \n",
       "132828            40.0  \n",
       "132958            43.0  \n",
       "133088            49.0  "
      ]
     },
     "execution_count": 274,
     "metadata": {},
     "output_type": "execute_result"
    }
   ],
   "source": [
    "##NOTE THAT IT BRINGS THE NUMBER OF CANCELLATIONS FOR THE LAST AVAILABLE DATA (I.E. THE PREVIOUS ROW)\n",
    "df_prueba=df2.loc[df2.country=='MEXICO']\n",
    "df_prueba.tail(20)"
   ]
  },
  {
   "cell_type": "code",
   "execution_count": 276,
   "id": "4f70ad83-6645-49a4-9a0e-a2007564b74c",
   "metadata": {
    "tags": []
   },
   "outputs": [
    {
     "data": {
      "text/html": [
       "<div>\n",
       "<style scoped>\n",
       "    .dataframe tbody tr th:only-of-type {\n",
       "        vertical-align: middle;\n",
       "    }\n",
       "\n",
       "    .dataframe tbody tr th {\n",
       "        vertical-align: top;\n",
       "    }\n",
       "\n",
       "    .dataframe thead th {\n",
       "        text-align: right;\n",
       "    }\n",
       "</style>\n",
       "<table border=\"1\" class=\"dataframe\">\n",
       "  <thead>\n",
       "    <tr style=\"text-align: right;\">\n",
       "      <th></th>\n",
       "      <th>date</th>\n",
       "      <th>payer_country_encoder</th>\n",
       "      <th>payer</th>\n",
       "      <th>country</th>\n",
       "      <th>amount</th>\n",
       "      <th>tx_cancelled</th>\n",
       "      <th>payer_country</th>\n",
       "      <th>tx_cancelled_1</th>\n",
       "      <th>tx_cancelled_2</th>\n",
       "      <th>tx_cancelled_3</th>\n",
       "      <th>tx_cancelled_4</th>\n",
       "      <th>tx_cancelled_5</th>\n",
       "      <th>tx_cancelled_6</th>\n",
       "      <th>tx_cancelled_7</th>\n",
       "    </tr>\n",
       "  </thead>\n",
       "  <tbody>\n",
       "    <tr>\n",
       "      <th>85</th>\n",
       "      <td>2021-01-01</td>\n",
       "      <td>57</td>\n",
       "      <td>ELEKTRA (MEXICO)</td>\n",
       "      <td>MEXICO</td>\n",
       "      <td>717241.42</td>\n",
       "      <td>94.0</td>\n",
       "      <td>ELEKTRA (MEXICO)_MEXICO</td>\n",
       "      <td>NaN</td>\n",
       "      <td>NaN</td>\n",
       "      <td>NaN</td>\n",
       "      <td>NaN</td>\n",
       "      <td>NaN</td>\n",
       "      <td>NaN</td>\n",
       "      <td>NaN</td>\n",
       "    </tr>\n",
       "    <tr>\n",
       "      <th>215</th>\n",
       "      <td>2021-01-02</td>\n",
       "      <td>57</td>\n",
       "      <td>ELEKTRA (MEXICO)</td>\n",
       "      <td>MEXICO</td>\n",
       "      <td>3360407.85</td>\n",
       "      <td>358.0</td>\n",
       "      <td>ELEKTRA (MEXICO)_MEXICO</td>\n",
       "      <td>94.0</td>\n",
       "      <td>NaN</td>\n",
       "      <td>NaN</td>\n",
       "      <td>NaN</td>\n",
       "      <td>NaN</td>\n",
       "      <td>NaN</td>\n",
       "      <td>NaN</td>\n",
       "    </tr>\n",
       "    <tr>\n",
       "      <th>345</th>\n",
       "      <td>2021-01-03</td>\n",
       "      <td>57</td>\n",
       "      <td>ELEKTRA (MEXICO)</td>\n",
       "      <td>MEXICO</td>\n",
       "      <td>2767481.77</td>\n",
       "      <td>278.0</td>\n",
       "      <td>ELEKTRA (MEXICO)_MEXICO</td>\n",
       "      <td>358.0</td>\n",
       "      <td>94.0</td>\n",
       "      <td>NaN</td>\n",
       "      <td>NaN</td>\n",
       "      <td>NaN</td>\n",
       "      <td>NaN</td>\n",
       "      <td>NaN</td>\n",
       "    </tr>\n",
       "    <tr>\n",
       "      <th>475</th>\n",
       "      <td>2021-01-04</td>\n",
       "      <td>57</td>\n",
       "      <td>ELEKTRA (MEXICO)</td>\n",
       "      <td>MEXICO</td>\n",
       "      <td>3621953.17</td>\n",
       "      <td>323.0</td>\n",
       "      <td>ELEKTRA (MEXICO)_MEXICO</td>\n",
       "      <td>278.0</td>\n",
       "      <td>358.0</td>\n",
       "      <td>94.0</td>\n",
       "      <td>NaN</td>\n",
       "      <td>NaN</td>\n",
       "      <td>NaN</td>\n",
       "      <td>NaN</td>\n",
       "    </tr>\n",
       "    <tr>\n",
       "      <th>605</th>\n",
       "      <td>2021-01-05</td>\n",
       "      <td>57</td>\n",
       "      <td>ELEKTRA (MEXICO)</td>\n",
       "      <td>MEXICO</td>\n",
       "      <td>2862477.96</td>\n",
       "      <td>289.0</td>\n",
       "      <td>ELEKTRA (MEXICO)_MEXICO</td>\n",
       "      <td>323.0</td>\n",
       "      <td>278.0</td>\n",
       "      <td>358.0</td>\n",
       "      <td>94.0</td>\n",
       "      <td>NaN</td>\n",
       "      <td>NaN</td>\n",
       "      <td>NaN</td>\n",
       "    </tr>\n",
       "  </tbody>\n",
       "</table>\n",
       "</div>"
      ],
      "text/plain": [
       "          date  payer_country_encoder             payer country      amount  \\\n",
       "85  2021-01-01                     57  ELEKTRA (MEXICO)  MEXICO   717241.42   \n",
       "215 2021-01-02                     57  ELEKTRA (MEXICO)  MEXICO  3360407.85   \n",
       "345 2021-01-03                     57  ELEKTRA (MEXICO)  MEXICO  2767481.77   \n",
       "475 2021-01-04                     57  ELEKTRA (MEXICO)  MEXICO  3621953.17   \n",
       "605 2021-01-05                     57  ELEKTRA (MEXICO)  MEXICO  2862477.96   \n",
       "\n",
       "     tx_cancelled            payer_country  tx_cancelled_1  tx_cancelled_2  \\\n",
       "85           94.0  ELEKTRA (MEXICO)_MEXICO             NaN             NaN   \n",
       "215         358.0  ELEKTRA (MEXICO)_MEXICO            94.0             NaN   \n",
       "345         278.0  ELEKTRA (MEXICO)_MEXICO           358.0            94.0   \n",
       "475         323.0  ELEKTRA (MEXICO)_MEXICO           278.0           358.0   \n",
       "605         289.0  ELEKTRA (MEXICO)_MEXICO           323.0           278.0   \n",
       "\n",
       "     tx_cancelled_3  tx_cancelled_4  tx_cancelled_5  tx_cancelled_6  \\\n",
       "85              NaN             NaN             NaN             NaN   \n",
       "215             NaN             NaN             NaN             NaN   \n",
       "345             NaN             NaN             NaN             NaN   \n",
       "475            94.0             NaN             NaN             NaN   \n",
       "605           358.0            94.0             NaN             NaN   \n",
       "\n",
       "     tx_cancelled_7  \n",
       "85              NaN  \n",
       "215             NaN  \n",
       "345             NaN  \n",
       "475             NaN  \n",
       "605             NaN  "
      ]
     },
     "execution_count": 276,
     "metadata": {},
     "output_type": "execute_result"
    }
   ],
   "source": [
    "###CONTROL \n",
    "df_control3=df2.loc[df2.payer=='ELEKTRA (MEXICO)']\n",
    "df_control3.head()"
   ]
  },
  {
   "cell_type": "code",
   "execution_count": 225,
   "id": "0eb4a6b9-d759-4eca-bf21-8009bcc6d85e",
   "metadata": {},
   "outputs": [],
   "source": [
    "##NOW WE CAN GENERATE THE VARIATIONS IN THE CANCELLED TX"
   ]
  },
  {
   "cell_type": "code",
   "execution_count": 277,
   "id": "aff86e4d-7d24-42e9-8cf7-59526cacd8cb",
   "metadata": {
    "tags": []
   },
   "outputs": [],
   "source": [
    "df2['var_tx_cancelled_1']=df2.tx_cancelled_1-df2.tx_cancelled_2\n",
    "df2['var_tx_cancelled_2']=df2.tx_cancelled_2-df2.tx_cancelled_3\n",
    "df2['var_tx_cancelled_3']=df2.tx_cancelled_3-df2.tx_cancelled_4\n",
    "df2['var_tx_cancelled_4']=df2.tx_cancelled_4-df2.tx_cancelled_5\n",
    "df2['var_tx_cancelled_5']=df2.tx_cancelled_5-df2.tx_cancelled_6\n",
    "df2['var_tx_cancelled_6']=df2.tx_cancelled_6-df2.tx_cancelled_7"
   ]
  },
  {
   "cell_type": "code",
   "execution_count": 278,
   "id": "50f58345-1ac4-4cab-b94e-05bd26b1c851",
   "metadata": {
    "tags": []
   },
   "outputs": [
    {
     "data": {
      "text/html": [
       "<div>\n",
       "<style scoped>\n",
       "    .dataframe tbody tr th:only-of-type {\n",
       "        vertical-align: middle;\n",
       "    }\n",
       "\n",
       "    .dataframe tbody tr th {\n",
       "        vertical-align: top;\n",
       "    }\n",
       "\n",
       "    .dataframe thead th {\n",
       "        text-align: right;\n",
       "    }\n",
       "</style>\n",
       "<table border=\"1\" class=\"dataframe\">\n",
       "  <thead>\n",
       "    <tr style=\"text-align: right;\">\n",
       "      <th></th>\n",
       "      <th>date</th>\n",
       "      <th>payer_country_encoder</th>\n",
       "      <th>payer</th>\n",
       "      <th>country</th>\n",
       "      <th>amount</th>\n",
       "      <th>tx_cancelled</th>\n",
       "      <th>payer_country</th>\n",
       "      <th>tx_cancelled_1</th>\n",
       "      <th>tx_cancelled_2</th>\n",
       "      <th>tx_cancelled_3</th>\n",
       "      <th>tx_cancelled_4</th>\n",
       "      <th>tx_cancelled_5</th>\n",
       "      <th>tx_cancelled_6</th>\n",
       "      <th>tx_cancelled_7</th>\n",
       "      <th>var_tx_cancelled_1</th>\n",
       "      <th>var_tx_cancelled_2</th>\n",
       "      <th>var_tx_cancelled_3</th>\n",
       "      <th>var_tx_cancelled_4</th>\n",
       "      <th>var_tx_cancelled_5</th>\n",
       "      <th>var_tx_cancelled_6</th>\n",
       "    </tr>\n",
       "  </thead>\n",
       "  <tbody>\n",
       "    <tr>\n",
       "      <th>0</th>\n",
       "      <td>2021-01-01</td>\n",
       "      <td>6</td>\n",
       "      <td>ARGENPER</td>\n",
       "      <td>ARGENTINA</td>\n",
       "      <td>0.0</td>\n",
       "      <td>0.0</td>\n",
       "      <td>ARGENPER_ARGENTINA</td>\n",
       "      <td>NaN</td>\n",
       "      <td>NaN</td>\n",
       "      <td>NaN</td>\n",
       "      <td>NaN</td>\n",
       "      <td>NaN</td>\n",
       "      <td>NaN</td>\n",
       "      <td>NaN</td>\n",
       "      <td>NaN</td>\n",
       "      <td>NaN</td>\n",
       "      <td>NaN</td>\n",
       "      <td>NaN</td>\n",
       "      <td>NaN</td>\n",
       "      <td>NaN</td>\n",
       "    </tr>\n",
       "    <tr>\n",
       "      <th>130</th>\n",
       "      <td>2021-01-02</td>\n",
       "      <td>6</td>\n",
       "      <td>ARGENPER</td>\n",
       "      <td>ARGENTINA</td>\n",
       "      <td>25.0</td>\n",
       "      <td>0.0</td>\n",
       "      <td>ARGENPER_ARGENTINA</td>\n",
       "      <td>0.0</td>\n",
       "      <td>NaN</td>\n",
       "      <td>NaN</td>\n",
       "      <td>NaN</td>\n",
       "      <td>NaN</td>\n",
       "      <td>NaN</td>\n",
       "      <td>NaN</td>\n",
       "      <td>NaN</td>\n",
       "      <td>NaN</td>\n",
       "      <td>NaN</td>\n",
       "      <td>NaN</td>\n",
       "      <td>NaN</td>\n",
       "      <td>NaN</td>\n",
       "    </tr>\n",
       "    <tr>\n",
       "      <th>260</th>\n",
       "      <td>2021-01-03</td>\n",
       "      <td>6</td>\n",
       "      <td>ARGENPER</td>\n",
       "      <td>ARGENTINA</td>\n",
       "      <td>0.0</td>\n",
       "      <td>0.0</td>\n",
       "      <td>ARGENPER_ARGENTINA</td>\n",
       "      <td>0.0</td>\n",
       "      <td>0.0</td>\n",
       "      <td>NaN</td>\n",
       "      <td>NaN</td>\n",
       "      <td>NaN</td>\n",
       "      <td>NaN</td>\n",
       "      <td>NaN</td>\n",
       "      <td>0.0</td>\n",
       "      <td>NaN</td>\n",
       "      <td>NaN</td>\n",
       "      <td>NaN</td>\n",
       "      <td>NaN</td>\n",
       "      <td>NaN</td>\n",
       "    </tr>\n",
       "    <tr>\n",
       "      <th>390</th>\n",
       "      <td>2021-01-04</td>\n",
       "      <td>6</td>\n",
       "      <td>ARGENPER</td>\n",
       "      <td>ARGENTINA</td>\n",
       "      <td>0.0</td>\n",
       "      <td>0.0</td>\n",
       "      <td>ARGENPER_ARGENTINA</td>\n",
       "      <td>0.0</td>\n",
       "      <td>0.0</td>\n",
       "      <td>0.0</td>\n",
       "      <td>NaN</td>\n",
       "      <td>NaN</td>\n",
       "      <td>NaN</td>\n",
       "      <td>NaN</td>\n",
       "      <td>0.0</td>\n",
       "      <td>0.0</td>\n",
       "      <td>NaN</td>\n",
       "      <td>NaN</td>\n",
       "      <td>NaN</td>\n",
       "      <td>NaN</td>\n",
       "    </tr>\n",
       "    <tr>\n",
       "      <th>520</th>\n",
       "      <td>2021-01-05</td>\n",
       "      <td>6</td>\n",
       "      <td>ARGENPER</td>\n",
       "      <td>ARGENTINA</td>\n",
       "      <td>490.0</td>\n",
       "      <td>0.0</td>\n",
       "      <td>ARGENPER_ARGENTINA</td>\n",
       "      <td>0.0</td>\n",
       "      <td>0.0</td>\n",
       "      <td>0.0</td>\n",
       "      <td>0.0</td>\n",
       "      <td>NaN</td>\n",
       "      <td>NaN</td>\n",
       "      <td>NaN</td>\n",
       "      <td>0.0</td>\n",
       "      <td>0.0</td>\n",
       "      <td>0.0</td>\n",
       "      <td>NaN</td>\n",
       "      <td>NaN</td>\n",
       "      <td>NaN</td>\n",
       "    </tr>\n",
       "  </tbody>\n",
       "</table>\n",
       "</div>"
      ],
      "text/plain": [
       "          date  payer_country_encoder     payer    country  amount  \\\n",
       "0   2021-01-01                      6  ARGENPER  ARGENTINA     0.0   \n",
       "130 2021-01-02                      6  ARGENPER  ARGENTINA    25.0   \n",
       "260 2021-01-03                      6  ARGENPER  ARGENTINA     0.0   \n",
       "390 2021-01-04                      6  ARGENPER  ARGENTINA     0.0   \n",
       "520 2021-01-05                      6  ARGENPER  ARGENTINA   490.0   \n",
       "\n",
       "     tx_cancelled       payer_country  tx_cancelled_1  tx_cancelled_2  \\\n",
       "0             0.0  ARGENPER_ARGENTINA             NaN             NaN   \n",
       "130           0.0  ARGENPER_ARGENTINA             0.0             NaN   \n",
       "260           0.0  ARGENPER_ARGENTINA             0.0             0.0   \n",
       "390           0.0  ARGENPER_ARGENTINA             0.0             0.0   \n",
       "520           0.0  ARGENPER_ARGENTINA             0.0             0.0   \n",
       "\n",
       "     tx_cancelled_3  tx_cancelled_4  tx_cancelled_5  tx_cancelled_6  \\\n",
       "0               NaN             NaN             NaN             NaN   \n",
       "130             NaN             NaN             NaN             NaN   \n",
       "260             NaN             NaN             NaN             NaN   \n",
       "390             0.0             NaN             NaN             NaN   \n",
       "520             0.0             0.0             NaN             NaN   \n",
       "\n",
       "     tx_cancelled_7  var_tx_cancelled_1  var_tx_cancelled_2  \\\n",
       "0               NaN                 NaN                 NaN   \n",
       "130             NaN                 NaN                 NaN   \n",
       "260             NaN                 0.0                 NaN   \n",
       "390             NaN                 0.0                 0.0   \n",
       "520             NaN                 0.0                 0.0   \n",
       "\n",
       "     var_tx_cancelled_3  var_tx_cancelled_4  var_tx_cancelled_5  \\\n",
       "0                   NaN                 NaN                 NaN   \n",
       "130                 NaN                 NaN                 NaN   \n",
       "260                 NaN                 NaN                 NaN   \n",
       "390                 NaN                 NaN                 NaN   \n",
       "520                 0.0                 NaN                 NaN   \n",
       "\n",
       "     var_tx_cancelled_6  \n",
       "0                   NaN  \n",
       "130                 NaN  \n",
       "260                 NaN  \n",
       "390                 NaN  \n",
       "520                 NaN  "
      ]
     },
     "execution_count": 278,
     "metadata": {},
     "output_type": "execute_result"
    }
   ],
   "source": [
    "df2.head()"
   ]
  },
  {
   "cell_type": "code",
   "execution_count": 279,
   "id": "86816d2e-471e-48e9-8400-5ad95a04285b",
   "metadata": {
    "tags": []
   },
   "outputs": [
    {
     "data": {
      "text/html": [
       "<div>\n",
       "<style scoped>\n",
       "    .dataframe tbody tr th:only-of-type {\n",
       "        vertical-align: middle;\n",
       "    }\n",
       "\n",
       "    .dataframe tbody tr th {\n",
       "        vertical-align: top;\n",
       "    }\n",
       "\n",
       "    .dataframe thead th {\n",
       "        text-align: right;\n",
       "    }\n",
       "</style>\n",
       "<table border=\"1\" class=\"dataframe\">\n",
       "  <thead>\n",
       "    <tr style=\"text-align: right;\">\n",
       "      <th></th>\n",
       "      <th>date</th>\n",
       "      <th>payer_country_encoder</th>\n",
       "      <th>payer</th>\n",
       "      <th>country</th>\n",
       "      <th>amount</th>\n",
       "      <th>tx_cancelled</th>\n",
       "      <th>payer_country</th>\n",
       "      <th>tx_cancelled_1</th>\n",
       "      <th>tx_cancelled_2</th>\n",
       "      <th>tx_cancelled_3</th>\n",
       "      <th>tx_cancelled_4</th>\n",
       "      <th>tx_cancelled_5</th>\n",
       "      <th>tx_cancelled_6</th>\n",
       "      <th>tx_cancelled_7</th>\n",
       "      <th>var_tx_cancelled_1</th>\n",
       "      <th>var_tx_cancelled_2</th>\n",
       "      <th>var_tx_cancelled_3</th>\n",
       "      <th>var_tx_cancelled_4</th>\n",
       "      <th>var_tx_cancelled_5</th>\n",
       "      <th>var_tx_cancelled_6</th>\n",
       "    </tr>\n",
       "  </thead>\n",
       "  <tbody>\n",
       "    <tr>\n",
       "      <th>85</th>\n",
       "      <td>2021-01-01</td>\n",
       "      <td>57</td>\n",
       "      <td>ELEKTRA (MEXICO)</td>\n",
       "      <td>MEXICO</td>\n",
       "      <td>717241.42</td>\n",
       "      <td>94.0</td>\n",
       "      <td>ELEKTRA (MEXICO)_MEXICO</td>\n",
       "      <td>NaN</td>\n",
       "      <td>NaN</td>\n",
       "      <td>NaN</td>\n",
       "      <td>NaN</td>\n",
       "      <td>NaN</td>\n",
       "      <td>NaN</td>\n",
       "      <td>NaN</td>\n",
       "      <td>NaN</td>\n",
       "      <td>NaN</td>\n",
       "      <td>NaN</td>\n",
       "      <td>NaN</td>\n",
       "      <td>NaN</td>\n",
       "      <td>NaN</td>\n",
       "    </tr>\n",
       "    <tr>\n",
       "      <th>215</th>\n",
       "      <td>2021-01-02</td>\n",
       "      <td>57</td>\n",
       "      <td>ELEKTRA (MEXICO)</td>\n",
       "      <td>MEXICO</td>\n",
       "      <td>3360407.85</td>\n",
       "      <td>358.0</td>\n",
       "      <td>ELEKTRA (MEXICO)_MEXICO</td>\n",
       "      <td>94.0</td>\n",
       "      <td>NaN</td>\n",
       "      <td>NaN</td>\n",
       "      <td>NaN</td>\n",
       "      <td>NaN</td>\n",
       "      <td>NaN</td>\n",
       "      <td>NaN</td>\n",
       "      <td>NaN</td>\n",
       "      <td>NaN</td>\n",
       "      <td>NaN</td>\n",
       "      <td>NaN</td>\n",
       "      <td>NaN</td>\n",
       "      <td>NaN</td>\n",
       "    </tr>\n",
       "    <tr>\n",
       "      <th>345</th>\n",
       "      <td>2021-01-03</td>\n",
       "      <td>57</td>\n",
       "      <td>ELEKTRA (MEXICO)</td>\n",
       "      <td>MEXICO</td>\n",
       "      <td>2767481.77</td>\n",
       "      <td>278.0</td>\n",
       "      <td>ELEKTRA (MEXICO)_MEXICO</td>\n",
       "      <td>358.0</td>\n",
       "      <td>94.0</td>\n",
       "      <td>NaN</td>\n",
       "      <td>NaN</td>\n",
       "      <td>NaN</td>\n",
       "      <td>NaN</td>\n",
       "      <td>NaN</td>\n",
       "      <td>264.0</td>\n",
       "      <td>NaN</td>\n",
       "      <td>NaN</td>\n",
       "      <td>NaN</td>\n",
       "      <td>NaN</td>\n",
       "      <td>NaN</td>\n",
       "    </tr>\n",
       "    <tr>\n",
       "      <th>475</th>\n",
       "      <td>2021-01-04</td>\n",
       "      <td>57</td>\n",
       "      <td>ELEKTRA (MEXICO)</td>\n",
       "      <td>MEXICO</td>\n",
       "      <td>3621953.17</td>\n",
       "      <td>323.0</td>\n",
       "      <td>ELEKTRA (MEXICO)_MEXICO</td>\n",
       "      <td>278.0</td>\n",
       "      <td>358.0</td>\n",
       "      <td>94.0</td>\n",
       "      <td>NaN</td>\n",
       "      <td>NaN</td>\n",
       "      <td>NaN</td>\n",
       "      <td>NaN</td>\n",
       "      <td>-80.0</td>\n",
       "      <td>264.0</td>\n",
       "      <td>NaN</td>\n",
       "      <td>NaN</td>\n",
       "      <td>NaN</td>\n",
       "      <td>NaN</td>\n",
       "    </tr>\n",
       "    <tr>\n",
       "      <th>605</th>\n",
       "      <td>2021-01-05</td>\n",
       "      <td>57</td>\n",
       "      <td>ELEKTRA (MEXICO)</td>\n",
       "      <td>MEXICO</td>\n",
       "      <td>2862477.96</td>\n",
       "      <td>289.0</td>\n",
       "      <td>ELEKTRA (MEXICO)_MEXICO</td>\n",
       "      <td>323.0</td>\n",
       "      <td>278.0</td>\n",
       "      <td>358.0</td>\n",
       "      <td>94.0</td>\n",
       "      <td>NaN</td>\n",
       "      <td>NaN</td>\n",
       "      <td>NaN</td>\n",
       "      <td>45.0</td>\n",
       "      <td>-80.0</td>\n",
       "      <td>264.0</td>\n",
       "      <td>NaN</td>\n",
       "      <td>NaN</td>\n",
       "      <td>NaN</td>\n",
       "    </tr>\n",
       "  </tbody>\n",
       "</table>\n",
       "</div>"
      ],
      "text/plain": [
       "          date  payer_country_encoder             payer country      amount  \\\n",
       "85  2021-01-01                     57  ELEKTRA (MEXICO)  MEXICO   717241.42   \n",
       "215 2021-01-02                     57  ELEKTRA (MEXICO)  MEXICO  3360407.85   \n",
       "345 2021-01-03                     57  ELEKTRA (MEXICO)  MEXICO  2767481.77   \n",
       "475 2021-01-04                     57  ELEKTRA (MEXICO)  MEXICO  3621953.17   \n",
       "605 2021-01-05                     57  ELEKTRA (MEXICO)  MEXICO  2862477.96   \n",
       "\n",
       "     tx_cancelled            payer_country  tx_cancelled_1  tx_cancelled_2  \\\n",
       "85           94.0  ELEKTRA (MEXICO)_MEXICO             NaN             NaN   \n",
       "215         358.0  ELEKTRA (MEXICO)_MEXICO            94.0             NaN   \n",
       "345         278.0  ELEKTRA (MEXICO)_MEXICO           358.0            94.0   \n",
       "475         323.0  ELEKTRA (MEXICO)_MEXICO           278.0           358.0   \n",
       "605         289.0  ELEKTRA (MEXICO)_MEXICO           323.0           278.0   \n",
       "\n",
       "     tx_cancelled_3  tx_cancelled_4  tx_cancelled_5  tx_cancelled_6  \\\n",
       "85              NaN             NaN             NaN             NaN   \n",
       "215             NaN             NaN             NaN             NaN   \n",
       "345             NaN             NaN             NaN             NaN   \n",
       "475            94.0             NaN             NaN             NaN   \n",
       "605           358.0            94.0             NaN             NaN   \n",
       "\n",
       "     tx_cancelled_7  var_tx_cancelled_1  var_tx_cancelled_2  \\\n",
       "85              NaN                 NaN                 NaN   \n",
       "215             NaN                 NaN                 NaN   \n",
       "345             NaN               264.0                 NaN   \n",
       "475             NaN               -80.0               264.0   \n",
       "605             NaN                45.0               -80.0   \n",
       "\n",
       "     var_tx_cancelled_3  var_tx_cancelled_4  var_tx_cancelled_5  \\\n",
       "85                  NaN                 NaN                 NaN   \n",
       "215                 NaN                 NaN                 NaN   \n",
       "345                 NaN                 NaN                 NaN   \n",
       "475                 NaN                 NaN                 NaN   \n",
       "605               264.0                 NaN                 NaN   \n",
       "\n",
       "     var_tx_cancelled_6  \n",
       "85                  NaN  \n",
       "215                 NaN  \n",
       "345                 NaN  \n",
       "475                 NaN  \n",
       "605                 NaN  "
      ]
     },
     "execution_count": 279,
     "metadata": {},
     "output_type": "execute_result"
    }
   ],
   "source": [
    "df_prueba2=df2.loc[df2.payer=='ELEKTRA (MEXICO)']\n",
    "df_prueba2.head()"
   ]
  },
  {
   "cell_type": "code",
   "execution_count": 280,
   "id": "9f311f2a-1f73-4c5c-85cf-908b80174beb",
   "metadata": {
    "tags": []
   },
   "outputs": [
    {
     "name": "stdout",
     "output_type": "stream",
     "text": [
      "<class 'pandas.core.frame.DataFrame'>\n",
      "Index: 133120 entries, 0 to 133119\n",
      "Data columns (total 20 columns):\n",
      " #   Column                 Non-Null Count   Dtype         \n",
      "---  ------                 --------------   -----         \n",
      " 0   date                   133120 non-null  datetime64[ns]\n",
      " 1   payer_country_encoder  133120 non-null  int64         \n",
      " 2   payer                  133120 non-null  object        \n",
      " 3   country                133120 non-null  object        \n",
      " 4   amount                 133120 non-null  float64       \n",
      " 5   tx_cancelled           133120 non-null  float64       \n",
      " 6   payer_country          133120 non-null  object        \n",
      " 7   tx_cancelled_1         132990 non-null  float64       \n",
      " 8   tx_cancelled_2         132860 non-null  float64       \n",
      " 9   tx_cancelled_3         132730 non-null  float64       \n",
      " 10  tx_cancelled_4         132600 non-null  float64       \n",
      " 11  tx_cancelled_5         132470 non-null  float64       \n",
      " 12  tx_cancelled_6         132340 non-null  float64       \n",
      " 13  tx_cancelled_7         132210 non-null  float64       \n",
      " 14  var_tx_cancelled_1     132860 non-null  float64       \n",
      " 15  var_tx_cancelled_2     132730 non-null  float64       \n",
      " 16  var_tx_cancelled_3     132600 non-null  float64       \n",
      " 17  var_tx_cancelled_4     132470 non-null  float64       \n",
      " 18  var_tx_cancelled_5     132340 non-null  float64       \n",
      " 19  var_tx_cancelled_6     132210 non-null  float64       \n",
      "dtypes: datetime64[ns](1), float64(15), int64(1), object(3)\n",
      "memory usage: 21.3+ MB\n"
     ]
    }
   ],
   "source": [
    "df2.info()"
   ]
  },
  {
   "cell_type": "code",
   "execution_count": 281,
   "id": "122a30bd-2509-4f4e-b448-978acd98cb7b",
   "metadata": {
    "tags": []
   },
   "outputs": [
    {
     "name": "stdout",
     "output_type": "stream",
     "text": [
      "<class 'pandas.core.frame.DataFrame'>\n",
      "RangeIndex: 87708 entries, 0 to 87707\n",
      "Data columns (total 21 columns):\n",
      " #   Column                Non-Null Count  Dtype         \n",
      "---  ------                --------------  -----         \n",
      " 0   payer                 87708 non-null  object        \n",
      " 1   country               87708 non-null  object        \n",
      " 2   date                  87708 non-null  datetime64[ns]\n",
      " 3   tx                    87708 non-null  int64         \n",
      " 4   amount                87708 non-null  float64       \n",
      " 5   payer_country         87708 non-null  object        \n",
      " 6   symbol                33780 non-null  object        \n",
      " 7   feed_price            33780 non-null  float64       \n",
      " 8   feed_price_retardo_1  33756 non-null  float64       \n",
      " 9   feed_price_retardo_2  33730 non-null  float64       \n",
      " 10  feed_price_retardo_3  33701 non-null  float64       \n",
      " 11  feed_price_retardo_4  33673 non-null  float64       \n",
      " 12  feed_price_retardo_5  33644 non-null  float64       \n",
      " 13  feed_price_retardo_6  33617 non-null  float64       \n",
      " 14  feed_price_retardo_7  33589 non-null  float64       \n",
      " 15  var_rate_lag1         33730 non-null  float64       \n",
      " 16  var_rate_lag2         33701 non-null  float64       \n",
      " 17  var_rate_lag3         33673 non-null  float64       \n",
      " 18  var_rate_lag4         33644 non-null  float64       \n",
      " 19  var_rate_lag5         33617 non-null  float64       \n",
      " 20  var_rate_lag6         33589 non-null  float64       \n",
      "dtypes: datetime64[ns](1), float64(15), int64(1), object(4)\n",
      "memory usage: 14.1+ MB\n"
     ]
    }
   ],
   "source": [
    "df1.info()"
   ]
  },
  {
   "cell_type": "code",
   "execution_count": 282,
   "id": "b7257447-2bd6-441d-b1ba-c23d78f18676",
   "metadata": {
    "tags": []
   },
   "outputs": [],
   "source": [
    "df1['date'] = pd.to_datetime(df1['date'])"
   ]
  },
  {
   "cell_type": "code",
   "execution_count": 283,
   "id": "83eeccd9-ec25-45f6-89b4-31050a08049f",
   "metadata": {
    "tags": []
   },
   "outputs": [],
   "source": [
    "df_final = pd.merge(df1,df2, on=['date','payer','country', 'amount'], how='outer')"
   ]
  },
  {
   "cell_type": "code",
   "execution_count": 284,
   "id": "2e8ab62a-e960-4f93-8296-089261c98573",
   "metadata": {
    "tags": []
   },
   "outputs": [],
   "source": [
    "df_final['date'] = pd.to_datetime(df_final['date'])"
   ]
  },
  {
   "cell_type": "code",
   "execution_count": 285,
   "id": "dcffc212-34f1-4d30-90fc-10f71701d5c3",
   "metadata": {
    "tags": []
   },
   "outputs": [
    {
     "data": {
      "text/plain": [
       "24309892564.971"
      ]
     },
     "execution_count": 285,
     "metadata": {},
     "output_type": "execute_result"
    }
   ],
   "source": [
    "df_final['amount'].sum()"
   ]
  },
  {
   "cell_type": "code",
   "execution_count": 286,
   "id": "f5a8b5c1-b7f0-4924-86c1-c8f0ca9bb604",
   "metadata": {
    "tags": []
   },
   "outputs": [
    {
     "data": {
      "text/plain": [
       "(133188, 37)"
      ]
     },
     "execution_count": 286,
     "metadata": {},
     "output_type": "execute_result"
    }
   ],
   "source": [
    "df_final.shape"
   ]
  },
  {
   "cell_type": "code",
   "execution_count": 287,
   "id": "d5450423-aee9-4499-8893-3731424f6d91",
   "metadata": {
    "tags": []
   },
   "outputs": [
    {
     "name": "stdout",
     "output_type": "stream",
     "text": [
      "<class 'pandas.core.frame.DataFrame'>\n",
      "RangeIndex: 133188 entries, 0 to 133187\n",
      "Data columns (total 37 columns):\n",
      " #   Column                 Non-Null Count   Dtype         \n",
      "---  ------                 --------------   -----         \n",
      " 0   payer                  133188 non-null  object        \n",
      " 1   country                133188 non-null  object        \n",
      " 2   date                   133188 non-null  datetime64[ns]\n",
      " 3   tx                     87708 non-null   float64       \n",
      " 4   amount                 133188 non-null  float64       \n",
      " 5   payer_country_x        87708 non-null   object        \n",
      " 6   symbol                 33780 non-null   object        \n",
      " 7   feed_price             33780 non-null   float64       \n",
      " 8   feed_price_retardo_1   33756 non-null   float64       \n",
      " 9   feed_price_retardo_2   33730 non-null   float64       \n",
      " 10  feed_price_retardo_3   33701 non-null   float64       \n",
      " 11  feed_price_retardo_4   33673 non-null   float64       \n",
      " 12  feed_price_retardo_5   33644 non-null   float64       \n",
      " 13  feed_price_retardo_6   33617 non-null   float64       \n",
      " 14  feed_price_retardo_7   33589 non-null   float64       \n",
      " 15  var_rate_lag1          33730 non-null   float64       \n",
      " 16  var_rate_lag2          33701 non-null   float64       \n",
      " 17  var_rate_lag3          33673 non-null   float64       \n",
      " 18  var_rate_lag4          33644 non-null   float64       \n",
      " 19  var_rate_lag5          33617 non-null   float64       \n",
      " 20  var_rate_lag6          33589 non-null   float64       \n",
      " 21  payer_country_encoder  133120 non-null  float64       \n",
      " 22  tx_cancelled           133120 non-null  float64       \n",
      " 23  payer_country_y        133120 non-null  object        \n",
      " 24  tx_cancelled_1         132990 non-null  float64       \n",
      " 25  tx_cancelled_2         132860 non-null  float64       \n",
      " 26  tx_cancelled_3         132730 non-null  float64       \n",
      " 27  tx_cancelled_4         132600 non-null  float64       \n",
      " 28  tx_cancelled_5         132470 non-null  float64       \n",
      " 29  tx_cancelled_6         132340 non-null  float64       \n",
      " 30  tx_cancelled_7         132210 non-null  float64       \n",
      " 31  var_tx_cancelled_1     132860 non-null  float64       \n",
      " 32  var_tx_cancelled_2     132730 non-null  float64       \n",
      " 33  var_tx_cancelled_3     132600 non-null  float64       \n",
      " 34  var_tx_cancelled_4     132470 non-null  float64       \n",
      " 35  var_tx_cancelled_5     132340 non-null  float64       \n",
      " 36  var_tx_cancelled_6     132210 non-null  float64       \n",
      "dtypes: datetime64[ns](1), float64(31), object(5)\n",
      "memory usage: 37.6+ MB\n"
     ]
    }
   ],
   "source": [
    "df_final.info()"
   ]
  },
  {
   "cell_type": "code",
   "execution_count": 119,
   "id": "bc2cddfc-4620-4ade-8eb1-82d9c1e72337",
   "metadata": {
    "tags": []
   },
   "outputs": [],
   "source": [
    "###WE SHOULD KEEP THE VARIABLES THAT HAVE IMPUTED MISSINGS IN AMOUNT AND TX_CANCELLED (DAYS WITHOUT OPERATIONS) BUT KEEP THE MISSINGS IN RATES\n",
    "df_final=df_final.loc[:,['payer', 'country', 'date', 'amount', 'var_rate_lag1', 'var_rate_lag2','var_rate_lag3','var_rate_lag4','var_rate_lag5','var_rate_lag6','payer_country_encoder','payer_country_y','var_tx_cancelled_1','var_tx_cancelled_2','var_tx_cancelled_3','var_tx_cancelled_4','var_tx_cancelled_5','var_tx_cancelled_6',]]"
   ]
  },
  {
   "cell_type": "code",
   "execution_count": 120,
   "id": "1baf01bd-166d-499e-a30e-98dc2a93a08f",
   "metadata": {
    "tags": []
   },
   "outputs": [
    {
     "name": "stdout",
     "output_type": "stream",
     "text": [
      "<class 'pandas.core.frame.DataFrame'>\n",
      "RangeIndex: 306244 entries, 0 to 306243\n",
      "Data columns (total 18 columns):\n",
      " #   Column                 Non-Null Count   Dtype         \n",
      "---  ------                 --------------   -----         \n",
      " 0   payer                  306244 non-null  object        \n",
      " 1   country                306244 non-null  object        \n",
      " 2   date                   306244 non-null  datetime64[ns]\n",
      " 3   amount                 306244 non-null  float64       \n",
      " 4   var_rate_lag1          33730 non-null   float64       \n",
      " 5   var_rate_lag2          33701 non-null   float64       \n",
      " 6   var_rate_lag3          33673 non-null   float64       \n",
      " 7   var_rate_lag4          33644 non-null   float64       \n",
      " 8   var_rate_lag5          33617 non-null   float64       \n",
      " 9   var_rate_lag6          33589 non-null   float64       \n",
      " 10  payer_country_encoder  306176 non-null  float64       \n",
      " 11  payer_country_y        306176 non-null  object        \n",
      " 12  var_tx_cancelled_1     305578 non-null  float64       \n",
      " 13  var_tx_cancelled_2     305279 non-null  float64       \n",
      " 14  var_tx_cancelled_3     304980 non-null  float64       \n",
      " 15  var_tx_cancelled_4     304681 non-null  float64       \n",
      " 16  var_tx_cancelled_5     304382 non-null  float64       \n",
      " 17  var_tx_cancelled_6     304083 non-null  float64       \n",
      "dtypes: datetime64[ns](1), float64(14), object(3)\n",
      "memory usage: 42.1+ MB\n"
     ]
    }
   ],
   "source": [
    "df_final.info()"
   ]
  },
  {
   "cell_type": "code",
   "execution_count": 121,
   "id": "212093e8-60f6-49ee-881b-94ab9c07bc65",
   "metadata": {
    "tags": []
   },
   "outputs": [
    {
     "name": "stdout",
     "output_type": "stream",
     "text": [
      "<class 'pandas.core.frame.DataFrame'>\n",
      "RangeIndex: 306244 entries, 0 to 306243\n",
      "Data columns (total 18 columns):\n",
      " #   Column                 Non-Null Count   Dtype         \n",
      "---  ------                 --------------   -----         \n",
      " 0   payer                  306244 non-null  object        \n",
      " 1   country                306244 non-null  object        \n",
      " 2   date                   306244 non-null  datetime64[ns]\n",
      " 3   amount                 306244 non-null  float64       \n",
      " 4   var_rate_lag1          33730 non-null   float64       \n",
      " 5   var_rate_lag2          33701 non-null   float64       \n",
      " 6   var_rate_lag3          33673 non-null   float64       \n",
      " 7   var_rate_lag4          33644 non-null   float64       \n",
      " 8   var_rate_lag5          33617 non-null   float64       \n",
      " 9   var_rate_lag6          33589 non-null   float64       \n",
      " 10  payer_country_encoder  306176 non-null  float64       \n",
      " 11  payer_country          306176 non-null  object        \n",
      " 12  var_tx_cancelled_1     305578 non-null  float64       \n",
      " 13  var_tx_cancelled_2     305279 non-null  float64       \n",
      " 14  var_tx_cancelled_3     304980 non-null  float64       \n",
      " 15  var_tx_cancelled_4     304681 non-null  float64       \n",
      " 16  var_tx_cancelled_5     304382 non-null  float64       \n",
      " 17  var_tx_cancelled_6     304083 non-null  float64       \n",
      "dtypes: datetime64[ns](1), float64(14), object(3)\n",
      "memory usage: 42.1+ MB\n"
     ]
    }
   ],
   "source": [
    "df_final = df_final.rename(columns={'payer_country_y': 'payer_country'})\n",
    "df_final.info()"
   ]
  },
  {
   "cell_type": "code",
   "execution_count": 122,
   "id": "8bc95142-3c22-448c-956c-92bde45a8970",
   "metadata": {
    "tags": []
   },
   "outputs": [
    {
     "data": {
      "text/html": [
       "<div>\n",
       "<style scoped>\n",
       "    .dataframe tbody tr th:only-of-type {\n",
       "        vertical-align: middle;\n",
       "    }\n",
       "\n",
       "    .dataframe tbody tr th {\n",
       "        vertical-align: top;\n",
       "    }\n",
       "\n",
       "    .dataframe thead th {\n",
       "        text-align: right;\n",
       "    }\n",
       "</style>\n",
       "<table border=\"1\" class=\"dataframe\">\n",
       "  <thead>\n",
       "    <tr style=\"text-align: right;\">\n",
       "      <th></th>\n",
       "      <th>payer</th>\n",
       "      <th>country</th>\n",
       "      <th>date</th>\n",
       "      <th>amount</th>\n",
       "      <th>var_rate_lag1</th>\n",
       "      <th>var_rate_lag2</th>\n",
       "      <th>var_rate_lag3</th>\n",
       "      <th>var_rate_lag4</th>\n",
       "      <th>var_rate_lag5</th>\n",
       "      <th>var_rate_lag6</th>\n",
       "      <th>payer_country_encoder</th>\n",
       "      <th>payer_country</th>\n",
       "      <th>var_tx_cancelled_1</th>\n",
       "      <th>var_tx_cancelled_2</th>\n",
       "      <th>var_tx_cancelled_3</th>\n",
       "      <th>var_tx_cancelled_4</th>\n",
       "      <th>var_tx_cancelled_5</th>\n",
       "      <th>var_tx_cancelled_6</th>\n",
       "    </tr>\n",
       "  </thead>\n",
       "  <tbody>\n",
       "    <tr>\n",
       "      <th>37</th>\n",
       "      <td>ELEKTRA (BTS)</td>\n",
       "      <td>GUATEMALA</td>\n",
       "      <td>2021-11-16</td>\n",
       "      <td>13897.26</td>\n",
       "      <td>0.0058</td>\n",
       "      <td>0.0000</td>\n",
       "      <td>-0.0071</td>\n",
       "      <td>-0.0185</td>\n",
       "      <td>0.0000</td>\n",
       "      <td>0.0234</td>\n",
       "      <td>80.0</td>\n",
       "      <td>ELEKTRA (BTS)_GUATEMALA</td>\n",
       "      <td>-2.0</td>\n",
       "      <td>4.0</td>\n",
       "      <td>-1.0</td>\n",
       "      <td>5.0</td>\n",
       "      <td>0.0</td>\n",
       "      <td>0.0</td>\n",
       "    </tr>\n",
       "    <tr>\n",
       "      <th>67</th>\n",
       "      <td>ELEKTRA (BTS)</td>\n",
       "      <td>GUATEMALA</td>\n",
       "      <td>2022-12-07</td>\n",
       "      <td>32491.60</td>\n",
       "      <td>0.0221</td>\n",
       "      <td>0.0291</td>\n",
       "      <td>-0.0037</td>\n",
       "      <td>0.0000</td>\n",
       "      <td>0.0195</td>\n",
       "      <td>0.0004</td>\n",
       "      <td>80.0</td>\n",
       "      <td>ELEKTRA (BTS)_GUATEMALA</td>\n",
       "      <td>0.0</td>\n",
       "      <td>-2.0</td>\n",
       "      <td>-10.0</td>\n",
       "      <td>13.0</td>\n",
       "      <td>1.0</td>\n",
       "      <td>2.0</td>\n",
       "    </tr>\n",
       "    <tr>\n",
       "      <th>324</th>\n",
       "      <td>ELEKTRA (BTS)</td>\n",
       "      <td>GUATEMALA</td>\n",
       "      <td>2021-03-27</td>\n",
       "      <td>30286.47</td>\n",
       "      <td>0.0000</td>\n",
       "      <td>0.0053</td>\n",
       "      <td>0.0000</td>\n",
       "      <td>0.0008</td>\n",
       "      <td>0.0000</td>\n",
       "      <td>0.0112</td>\n",
       "      <td>80.0</td>\n",
       "      <td>ELEKTRA (BTS)_GUATEMALA</td>\n",
       "      <td>0.0</td>\n",
       "      <td>-2.0</td>\n",
       "      <td>2.0</td>\n",
       "      <td>-5.0</td>\n",
       "      <td>5.0</td>\n",
       "      <td>-2.0</td>\n",
       "    </tr>\n",
       "    <tr>\n",
       "      <th>633</th>\n",
       "      <td>ELEKTRA (BTS)</td>\n",
       "      <td>GUATEMALA</td>\n",
       "      <td>2022-02-10</td>\n",
       "      <td>11755.52</td>\n",
       "      <td>-0.0013</td>\n",
       "      <td>-0.0051</td>\n",
       "      <td>0.0000</td>\n",
       "      <td>0.0114</td>\n",
       "      <td>0.0000</td>\n",
       "      <td>-0.0010</td>\n",
       "      <td>80.0</td>\n",
       "      <td>ELEKTRA (BTS)_GUATEMALA</td>\n",
       "      <td>-4.0</td>\n",
       "      <td>-6.0</td>\n",
       "      <td>-1.0</td>\n",
       "      <td>5.0</td>\n",
       "      <td>7.0</td>\n",
       "      <td>-3.0</td>\n",
       "    </tr>\n",
       "    <tr>\n",
       "      <th>1208</th>\n",
       "      <td>ELEKTRA (BTS)</td>\n",
       "      <td>GUATEMALA</td>\n",
       "      <td>2022-05-05</td>\n",
       "      <td>16326.87</td>\n",
       "      <td>-0.0053</td>\n",
       "      <td>-0.0001</td>\n",
       "      <td>0.0109</td>\n",
       "      <td>0.0000</td>\n",
       "      <td>0.0000</td>\n",
       "      <td>-0.0280</td>\n",
       "      <td>80.0</td>\n",
       "      <td>ELEKTRA (BTS)_GUATEMALA</td>\n",
       "      <td>0.0</td>\n",
       "      <td>0.0</td>\n",
       "      <td>-4.0</td>\n",
       "      <td>3.0</td>\n",
       "      <td>1.0</td>\n",
       "      <td>4.0</td>\n",
       "    </tr>\n",
       "  </tbody>\n",
       "</table>\n",
       "</div>"
      ],
      "text/plain": [
       "              payer    country       date    amount  var_rate_lag1  \\\n",
       "37    ELEKTRA (BTS)  GUATEMALA 2021-11-16  13897.26         0.0058   \n",
       "67    ELEKTRA (BTS)  GUATEMALA 2022-12-07  32491.60         0.0221   \n",
       "324   ELEKTRA (BTS)  GUATEMALA 2021-03-27  30286.47         0.0000   \n",
       "633   ELEKTRA (BTS)  GUATEMALA 2022-02-10  11755.52        -0.0013   \n",
       "1208  ELEKTRA (BTS)  GUATEMALA 2022-05-05  16326.87        -0.0053   \n",
       "\n",
       "      var_rate_lag2  var_rate_lag3  var_rate_lag4  var_rate_lag5  \\\n",
       "37           0.0000        -0.0071        -0.0185         0.0000   \n",
       "67           0.0291        -0.0037         0.0000         0.0195   \n",
       "324          0.0053         0.0000         0.0008         0.0000   \n",
       "633         -0.0051         0.0000         0.0114         0.0000   \n",
       "1208        -0.0001         0.0109         0.0000         0.0000   \n",
       "\n",
       "      var_rate_lag6  payer_country_encoder            payer_country  \\\n",
       "37           0.0234                   80.0  ELEKTRA (BTS)_GUATEMALA   \n",
       "67           0.0004                   80.0  ELEKTRA (BTS)_GUATEMALA   \n",
       "324          0.0112                   80.0  ELEKTRA (BTS)_GUATEMALA   \n",
       "633         -0.0010                   80.0  ELEKTRA (BTS)_GUATEMALA   \n",
       "1208        -0.0280                   80.0  ELEKTRA (BTS)_GUATEMALA   \n",
       "\n",
       "      var_tx_cancelled_1  var_tx_cancelled_2  var_tx_cancelled_3  \\\n",
       "37                  -2.0                 4.0                -1.0   \n",
       "67                   0.0                -2.0               -10.0   \n",
       "324                  0.0                -2.0                 2.0   \n",
       "633                 -4.0                -6.0                -1.0   \n",
       "1208                 0.0                 0.0                -4.0   \n",
       "\n",
       "      var_tx_cancelled_4  var_tx_cancelled_5  var_tx_cancelled_6  \n",
       "37                   5.0                 0.0                 0.0  \n",
       "67                  13.0                 1.0                 2.0  \n",
       "324                 -5.0                 5.0                -2.0  \n",
       "633                  5.0                 7.0                -3.0  \n",
       "1208                 3.0                 1.0                 4.0  "
      ]
     },
     "execution_count": 122,
     "metadata": {},
     "output_type": "execute_result"
    }
   ],
   "source": [
    "prueba3=df_final.loc[df_final.payer_country_encoder==80]\n",
    "prueba3.head()"
   ]
  },
  {
   "cell_type": "code",
   "execution_count": 123,
   "id": "a78b817b-9d7b-4b43-bb80-f14830ed5753",
   "metadata": {
    "tags": []
   },
   "outputs": [
    {
     "data": {
      "text/html": [
       "<div>\n",
       "<style scoped>\n",
       "    .dataframe tbody tr th:only-of-type {\n",
       "        vertical-align: middle;\n",
       "    }\n",
       "\n",
       "    .dataframe tbody tr th {\n",
       "        vertical-align: top;\n",
       "    }\n",
       "\n",
       "    .dataframe thead th {\n",
       "        text-align: right;\n",
       "    }\n",
       "</style>\n",
       "<table border=\"1\" class=\"dataframe\">\n",
       "  <thead>\n",
       "    <tr style=\"text-align: right;\">\n",
       "      <th></th>\n",
       "      <th>payer</th>\n",
       "      <th>country</th>\n",
       "      <th>date</th>\n",
       "      <th>amount</th>\n",
       "      <th>var_rate_lag1</th>\n",
       "      <th>var_rate_lag2</th>\n",
       "      <th>var_rate_lag3</th>\n",
       "      <th>var_rate_lag4</th>\n",
       "      <th>var_rate_lag5</th>\n",
       "      <th>var_rate_lag6</th>\n",
       "      <th>payer_country_encoder</th>\n",
       "      <th>payer_country</th>\n",
       "      <th>var_tx_cancelled_1</th>\n",
       "      <th>var_tx_cancelled_2</th>\n",
       "      <th>var_tx_cancelled_3</th>\n",
       "      <th>var_tx_cancelled_4</th>\n",
       "      <th>var_tx_cancelled_5</th>\n",
       "      <th>var_tx_cancelled_6</th>\n",
       "    </tr>\n",
       "  </thead>\n",
       "  <tbody>\n",
       "    <tr>\n",
       "      <th>60754</th>\n",
       "      <td>ELEKTRA (BTS)</td>\n",
       "      <td>GUATEMALA</td>\n",
       "      <td>2021-01-01</td>\n",
       "      <td>2641.00</td>\n",
       "      <td>NaN</td>\n",
       "      <td>NaN</td>\n",
       "      <td>NaN</td>\n",
       "      <td>NaN</td>\n",
       "      <td>NaN</td>\n",
       "      <td>NaN</td>\n",
       "      <td>80.0</td>\n",
       "      <td>ELEKTRA (BTS)_GUATEMALA</td>\n",
       "      <td>NaN</td>\n",
       "      <td>NaN</td>\n",
       "      <td>NaN</td>\n",
       "      <td>NaN</td>\n",
       "      <td>NaN</td>\n",
       "      <td>NaN</td>\n",
       "    </tr>\n",
       "    <tr>\n",
       "      <th>7328</th>\n",
       "      <td>ELEKTRA (BTS)</td>\n",
       "      <td>GUATEMALA</td>\n",
       "      <td>2021-01-02</td>\n",
       "      <td>21629.37</td>\n",
       "      <td>NaN</td>\n",
       "      <td>NaN</td>\n",
       "      <td>NaN</td>\n",
       "      <td>NaN</td>\n",
       "      <td>NaN</td>\n",
       "      <td>NaN</td>\n",
       "      <td>80.0</td>\n",
       "      <td>ELEKTRA (BTS)_GUATEMALA</td>\n",
       "      <td>NaN</td>\n",
       "      <td>NaN</td>\n",
       "      <td>NaN</td>\n",
       "      <td>NaN</td>\n",
       "      <td>NaN</td>\n",
       "      <td>NaN</td>\n",
       "    </tr>\n",
       "    <tr>\n",
       "      <th>14100</th>\n",
       "      <td>ELEKTRA (BTS)</td>\n",
       "      <td>GUATEMALA</td>\n",
       "      <td>2021-01-03</td>\n",
       "      <td>16843.00</td>\n",
       "      <td>0.0000</td>\n",
       "      <td>NaN</td>\n",
       "      <td>NaN</td>\n",
       "      <td>NaN</td>\n",
       "      <td>NaN</td>\n",
       "      <td>NaN</td>\n",
       "      <td>80.0</td>\n",
       "      <td>ELEKTRA (BTS)_GUATEMALA</td>\n",
       "      <td>5.0</td>\n",
       "      <td>NaN</td>\n",
       "      <td>NaN</td>\n",
       "      <td>NaN</td>\n",
       "      <td>NaN</td>\n",
       "      <td>NaN</td>\n",
       "    </tr>\n",
       "    <tr>\n",
       "      <th>59222</th>\n",
       "      <td>ELEKTRA (BTS)</td>\n",
       "      <td>GUATEMALA</td>\n",
       "      <td>2021-01-04</td>\n",
       "      <td>13168.00</td>\n",
       "      <td>0.0000</td>\n",
       "      <td>0.0000</td>\n",
       "      <td>NaN</td>\n",
       "      <td>NaN</td>\n",
       "      <td>NaN</td>\n",
       "      <td>NaN</td>\n",
       "      <td>80.0</td>\n",
       "      <td>ELEKTRA (BTS)_GUATEMALA</td>\n",
       "      <td>-3.0</td>\n",
       "      <td>5.0</td>\n",
       "      <td>NaN</td>\n",
       "      <td>NaN</td>\n",
       "      <td>NaN</td>\n",
       "      <td>NaN</td>\n",
       "    </tr>\n",
       "    <tr>\n",
       "      <th>39011</th>\n",
       "      <td>ELEKTRA (BTS)</td>\n",
       "      <td>GUATEMALA</td>\n",
       "      <td>2021-01-05</td>\n",
       "      <td>9639.00</td>\n",
       "      <td>-0.0124</td>\n",
       "      <td>0.0000</td>\n",
       "      <td>0.0000</td>\n",
       "      <td>NaN</td>\n",
       "      <td>NaN</td>\n",
       "      <td>NaN</td>\n",
       "      <td>80.0</td>\n",
       "      <td>ELEKTRA (BTS)_GUATEMALA</td>\n",
       "      <td>2.0</td>\n",
       "      <td>-3.0</td>\n",
       "      <td>5.0</td>\n",
       "      <td>NaN</td>\n",
       "      <td>NaN</td>\n",
       "      <td>NaN</td>\n",
       "    </tr>\n",
       "    <tr>\n",
       "      <th>...</th>\n",
       "      <td>...</td>\n",
       "      <td>...</td>\n",
       "      <td>...</td>\n",
       "      <td>...</td>\n",
       "      <td>...</td>\n",
       "      <td>...</td>\n",
       "      <td>...</td>\n",
       "      <td>...</td>\n",
       "      <td>...</td>\n",
       "      <td>...</td>\n",
       "      <td>...</td>\n",
       "      <td>...</td>\n",
       "      <td>...</td>\n",
       "      <td>...</td>\n",
       "      <td>...</td>\n",
       "      <td>...</td>\n",
       "      <td>...</td>\n",
       "      <td>...</td>\n",
       "    </tr>\n",
       "    <tr>\n",
       "      <th>51271</th>\n",
       "      <td>ELEKTRA (BTS)</td>\n",
       "      <td>GUATEMALA</td>\n",
       "      <td>2023-10-17</td>\n",
       "      <td>43037.53</td>\n",
       "      <td>0.0006</td>\n",
       "      <td>0.0000</td>\n",
       "      <td>-0.0260</td>\n",
       "      <td>0.0000</td>\n",
       "      <td>0.0262</td>\n",
       "      <td>-0.0010</td>\n",
       "      <td>80.0</td>\n",
       "      <td>ELEKTRA (BTS)_GUATEMALA</td>\n",
       "      <td>-8.0</td>\n",
       "      <td>-1.0</td>\n",
       "      <td>-11.0</td>\n",
       "      <td>10.0</td>\n",
       "      <td>16.0</td>\n",
       "      <td>-4.0</td>\n",
       "    </tr>\n",
       "    <tr>\n",
       "      <th>40800</th>\n",
       "      <td>ELEKTRA (BTS)</td>\n",
       "      <td>GUATEMALA</td>\n",
       "      <td>2023-10-18</td>\n",
       "      <td>44745.00</td>\n",
       "      <td>-0.0083</td>\n",
       "      <td>0.0006</td>\n",
       "      <td>0.0000</td>\n",
       "      <td>-0.0260</td>\n",
       "      <td>0.0000</td>\n",
       "      <td>0.0262</td>\n",
       "      <td>80.0</td>\n",
       "      <td>ELEKTRA (BTS)_GUATEMALA</td>\n",
       "      <td>-3.0</td>\n",
       "      <td>-8.0</td>\n",
       "      <td>-1.0</td>\n",
       "      <td>-11.0</td>\n",
       "      <td>10.0</td>\n",
       "      <td>16.0</td>\n",
       "    </tr>\n",
       "    <tr>\n",
       "      <th>9574</th>\n",
       "      <td>ELEKTRA (BTS)</td>\n",
       "      <td>GUATEMALA</td>\n",
       "      <td>2023-10-19</td>\n",
       "      <td>46259.04</td>\n",
       "      <td>0.0139</td>\n",
       "      <td>-0.0083</td>\n",
       "      <td>0.0006</td>\n",
       "      <td>0.0000</td>\n",
       "      <td>-0.0260</td>\n",
       "      <td>0.0000</td>\n",
       "      <td>80.0</td>\n",
       "      <td>ELEKTRA (BTS)_GUATEMALA</td>\n",
       "      <td>-4.0</td>\n",
       "      <td>-3.0</td>\n",
       "      <td>-8.0</td>\n",
       "      <td>-1.0</td>\n",
       "      <td>-11.0</td>\n",
       "      <td>10.0</td>\n",
       "    </tr>\n",
       "    <tr>\n",
       "      <th>68216</th>\n",
       "      <td>ELEKTRA (BTS)</td>\n",
       "      <td>GUATEMALA</td>\n",
       "      <td>2023-10-20</td>\n",
       "      <td>74883.98</td>\n",
       "      <td>0.0000</td>\n",
       "      <td>0.0139</td>\n",
       "      <td>-0.0083</td>\n",
       "      <td>0.0006</td>\n",
       "      <td>0.0000</td>\n",
       "      <td>-0.0260</td>\n",
       "      <td>80.0</td>\n",
       "      <td>ELEKTRA (BTS)_GUATEMALA</td>\n",
       "      <td>-4.0</td>\n",
       "      <td>-4.0</td>\n",
       "      <td>-3.0</td>\n",
       "      <td>-8.0</td>\n",
       "      <td>-1.0</td>\n",
       "      <td>-11.0</td>\n",
       "    </tr>\n",
       "    <tr>\n",
       "      <th>64693</th>\n",
       "      <td>ELEKTRA (BTS)</td>\n",
       "      <td>GUATEMALA</td>\n",
       "      <td>2023-10-21</td>\n",
       "      <td>95144.88</td>\n",
       "      <td>-0.0115</td>\n",
       "      <td>0.0000</td>\n",
       "      <td>0.0139</td>\n",
       "      <td>-0.0083</td>\n",
       "      <td>0.0006</td>\n",
       "      <td>0.0000</td>\n",
       "      <td>80.0</td>\n",
       "      <td>ELEKTRA (BTS)_GUATEMALA</td>\n",
       "      <td>4.0</td>\n",
       "      <td>-4.0</td>\n",
       "      <td>-4.0</td>\n",
       "      <td>-3.0</td>\n",
       "      <td>-8.0</td>\n",
       "      <td>-1.0</td>\n",
       "    </tr>\n",
       "  </tbody>\n",
       "</table>\n",
       "<p>1024 rows × 18 columns</p>\n",
       "</div>"
      ],
      "text/plain": [
       "               payer    country       date    amount  var_rate_lag1  \\\n",
       "60754  ELEKTRA (BTS)  GUATEMALA 2021-01-01   2641.00            NaN   \n",
       "7328   ELEKTRA (BTS)  GUATEMALA 2021-01-02  21629.37            NaN   \n",
       "14100  ELEKTRA (BTS)  GUATEMALA 2021-01-03  16843.00         0.0000   \n",
       "59222  ELEKTRA (BTS)  GUATEMALA 2021-01-04  13168.00         0.0000   \n",
       "39011  ELEKTRA (BTS)  GUATEMALA 2021-01-05   9639.00        -0.0124   \n",
       "...              ...        ...        ...       ...            ...   \n",
       "51271  ELEKTRA (BTS)  GUATEMALA 2023-10-17  43037.53         0.0006   \n",
       "40800  ELEKTRA (BTS)  GUATEMALA 2023-10-18  44745.00        -0.0083   \n",
       "9574   ELEKTRA (BTS)  GUATEMALA 2023-10-19  46259.04         0.0139   \n",
       "68216  ELEKTRA (BTS)  GUATEMALA 2023-10-20  74883.98         0.0000   \n",
       "64693  ELEKTRA (BTS)  GUATEMALA 2023-10-21  95144.88        -0.0115   \n",
       "\n",
       "       var_rate_lag2  var_rate_lag3  var_rate_lag4  var_rate_lag5  \\\n",
       "60754            NaN            NaN            NaN            NaN   \n",
       "7328             NaN            NaN            NaN            NaN   \n",
       "14100            NaN            NaN            NaN            NaN   \n",
       "59222         0.0000            NaN            NaN            NaN   \n",
       "39011         0.0000         0.0000            NaN            NaN   \n",
       "...              ...            ...            ...            ...   \n",
       "51271         0.0000        -0.0260         0.0000         0.0262   \n",
       "40800         0.0006         0.0000        -0.0260         0.0000   \n",
       "9574         -0.0083         0.0006         0.0000        -0.0260   \n",
       "68216         0.0139        -0.0083         0.0006         0.0000   \n",
       "64693         0.0000         0.0139        -0.0083         0.0006   \n",
       "\n",
       "       var_rate_lag6  payer_country_encoder            payer_country  \\\n",
       "60754            NaN                   80.0  ELEKTRA (BTS)_GUATEMALA   \n",
       "7328             NaN                   80.0  ELEKTRA (BTS)_GUATEMALA   \n",
       "14100            NaN                   80.0  ELEKTRA (BTS)_GUATEMALA   \n",
       "59222            NaN                   80.0  ELEKTRA (BTS)_GUATEMALA   \n",
       "39011            NaN                   80.0  ELEKTRA (BTS)_GUATEMALA   \n",
       "...              ...                    ...                      ...   \n",
       "51271        -0.0010                   80.0  ELEKTRA (BTS)_GUATEMALA   \n",
       "40800         0.0262                   80.0  ELEKTRA (BTS)_GUATEMALA   \n",
       "9574          0.0000                   80.0  ELEKTRA (BTS)_GUATEMALA   \n",
       "68216        -0.0260                   80.0  ELEKTRA (BTS)_GUATEMALA   \n",
       "64693         0.0000                   80.0  ELEKTRA (BTS)_GUATEMALA   \n",
       "\n",
       "       var_tx_cancelled_1  var_tx_cancelled_2  var_tx_cancelled_3  \\\n",
       "60754                 NaN                 NaN                 NaN   \n",
       "7328                  NaN                 NaN                 NaN   \n",
       "14100                 5.0                 NaN                 NaN   \n",
       "59222                -3.0                 5.0                 NaN   \n",
       "39011                 2.0                -3.0                 5.0   \n",
       "...                   ...                 ...                 ...   \n",
       "51271                -8.0                -1.0               -11.0   \n",
       "40800                -3.0                -8.0                -1.0   \n",
       "9574                 -4.0                -3.0                -8.0   \n",
       "68216                -4.0                -4.0                -3.0   \n",
       "64693                 4.0                -4.0                -4.0   \n",
       "\n",
       "       var_tx_cancelled_4  var_tx_cancelled_5  var_tx_cancelled_6  \n",
       "60754                 NaN                 NaN                 NaN  \n",
       "7328                  NaN                 NaN                 NaN  \n",
       "14100                 NaN                 NaN                 NaN  \n",
       "59222                 NaN                 NaN                 NaN  \n",
       "39011                 NaN                 NaN                 NaN  \n",
       "...                   ...                 ...                 ...  \n",
       "51271                10.0                16.0                -4.0  \n",
       "40800               -11.0                10.0                16.0  \n",
       "9574                 -1.0               -11.0                10.0  \n",
       "68216                -8.0                -1.0               -11.0  \n",
       "64693                -3.0                -8.0                -1.0  \n",
       "\n",
       "[1024 rows x 18 columns]"
      ]
     },
     "execution_count": 123,
     "metadata": {},
     "output_type": "execute_result"
    }
   ],
   "source": [
    "prueba3.sort_values(by='date')"
   ]
  },
  {
   "cell_type": "raw",
   "id": "882c779c-798a-47e1-8fa8-5829f6c2f9de",
   "metadata": {},
   "source": []
  },
  {
   "cell_type": "code",
   "execution_count": 124,
   "id": "2b206ffe-6c89-42f9-b349-73298f30b219",
   "metadata": {},
   "outputs": [],
   "source": [
    "##WE NEED TO KEEP IN THE SAMPLE ONLY THE CASES THAT MEET THE CONDITIONS TO BE IN THE DATA UNIVERSE."
   ]
  },
  {
   "cell_type": "code",
   "execution_count": 125,
   "id": "609d45eb-e22d-4263-92c1-5b6f523c78aa",
   "metadata": {
    "tags": []
   },
   "outputs": [
    {
     "data": {
      "text/plain": [
       "130"
      ]
     },
     "execution_count": 125,
     "metadata": {},
     "output_type": "execute_result"
    }
   ],
   "source": [
    "df_filtered.payer_country.nunique()"
   ]
  },
  {
   "cell_type": "code",
   "execution_count": 126,
   "id": "d169f945-2ef6-49fc-bafd-3d09cbe87b9c",
   "metadata": {
    "tags": []
   },
   "outputs": [
    {
     "data": {
      "text/plain": [
       "(130, 1)"
      ]
     },
     "execution_count": 126,
     "metadata": {},
     "output_type": "execute_result"
    }
   ],
   "source": [
    "df_filtered2=df_filtered.loc[:,['payer_country']]\n",
    "df_filtered2 = df_filtered2.drop_duplicates(subset='payer_country', keep='first')\n",
    "df_filtered2.shape"
   ]
  },
  {
   "cell_type": "code",
   "execution_count": 127,
   "id": "e622493e-0ee6-44cd-987d-837c9b4e589f",
   "metadata": {
    "tags": []
   },
   "outputs": [],
   "source": [
    "df_final2=pd.merge(df_final,df_filtered2, on='payer_country', how='left', indicator=True)"
   ]
  },
  {
   "cell_type": "code",
   "execution_count": 128,
   "id": "388bb81a-9874-443a-b252-46ecd2c576a9",
   "metadata": {
    "tags": []
   },
   "outputs": [
    {
     "data": {
      "text/plain": [
       "_merge\n",
       "left_only     173124\n",
       "both          133120\n",
       "right_only         0\n",
       "Name: count, dtype: int64"
      ]
     },
     "execution_count": 128,
     "metadata": {},
     "output_type": "execute_result"
    }
   ],
   "source": [
    "df_final2._merge.value_counts()"
   ]
  },
  {
   "cell_type": "code",
   "execution_count": 129,
   "id": "f5d76218-5ef5-4ab9-b387-c20394945182",
   "metadata": {
    "tags": []
   },
   "outputs": [
    {
     "data": {
      "text/plain": [
       "24303285928.466003"
      ]
     },
     "execution_count": 129,
     "metadata": {},
     "output_type": "execute_result"
    }
   ],
   "source": [
    "df_final3=df_final2.loc[df_final2._merge=='both']\n",
    "df_final3.amount.sum()"
   ]
  },
  {
   "cell_type": "code",
   "execution_count": 130,
   "id": "9d816e74-2023-4d9c-824e-b5ff1210de0c",
   "metadata": {
    "tags": []
   },
   "outputs": [
    {
     "data": {
      "text/plain": [
       "(133120, 19)"
      ]
     },
     "execution_count": 130,
     "metadata": {},
     "output_type": "execute_result"
    }
   ],
   "source": [
    "df_final3.shape"
   ]
  },
  {
   "cell_type": "code",
   "execution_count": 131,
   "id": "f8afb3a3-9e51-47d4-aa3a-3c54f8f1d098",
   "metadata": {
    "tags": []
   },
   "outputs": [
    {
     "data": {
      "text/html": [
       "<div>\n",
       "<style scoped>\n",
       "    .dataframe tbody tr th:only-of-type {\n",
       "        vertical-align: middle;\n",
       "    }\n",
       "\n",
       "    .dataframe tbody tr th {\n",
       "        vertical-align: top;\n",
       "    }\n",
       "\n",
       "    .dataframe thead th {\n",
       "        text-align: right;\n",
       "    }\n",
       "</style>\n",
       "<table border=\"1\" class=\"dataframe\">\n",
       "  <thead>\n",
       "    <tr style=\"text-align: right;\">\n",
       "      <th></th>\n",
       "      <th>payer</th>\n",
       "      <th>country</th>\n",
       "      <th>date</th>\n",
       "      <th>amount</th>\n",
       "      <th>var_rate_lag1</th>\n",
       "      <th>var_rate_lag2</th>\n",
       "      <th>var_rate_lag3</th>\n",
       "      <th>var_rate_lag4</th>\n",
       "      <th>var_rate_lag5</th>\n",
       "      <th>var_rate_lag6</th>\n",
       "      <th>payer_country_encoder</th>\n",
       "      <th>payer_country</th>\n",
       "      <th>var_tx_cancelled_1</th>\n",
       "      <th>var_tx_cancelled_2</th>\n",
       "      <th>var_tx_cancelled_3</th>\n",
       "      <th>var_tx_cancelled_4</th>\n",
       "      <th>var_tx_cancelled_5</th>\n",
       "      <th>var_tx_cancelled_6</th>\n",
       "      <th>_merge</th>\n",
       "    </tr>\n",
       "  </thead>\n",
       "  <tbody>\n",
       "    <tr>\n",
       "      <th>0</th>\n",
       "      <td>TRANSFERTO - THUNES</td>\n",
       "      <td>BELGIUM</td>\n",
       "      <td>2023-04-03</td>\n",
       "      <td>55.55</td>\n",
       "      <td>NaN</td>\n",
       "      <td>NaN</td>\n",
       "      <td>NaN</td>\n",
       "      <td>NaN</td>\n",
       "      <td>NaN</td>\n",
       "      <td>NaN</td>\n",
       "      <td>227.0</td>\n",
       "      <td>TRANSFERTO - THUNES_BELGIUM</td>\n",
       "      <td>0.0</td>\n",
       "      <td>0.0</td>\n",
       "      <td>0.0</td>\n",
       "      <td>0.0</td>\n",
       "      <td>0.0</td>\n",
       "      <td>0.0</td>\n",
       "      <td>both</td>\n",
       "    </tr>\n",
       "    <tr>\n",
       "      <th>1</th>\n",
       "      <td>ARGENPER</td>\n",
       "      <td>PERU</td>\n",
       "      <td>2023-04-03</td>\n",
       "      <td>4203.70</td>\n",
       "      <td>NaN</td>\n",
       "      <td>NaN</td>\n",
       "      <td>NaN</td>\n",
       "      <td>NaN</td>\n",
       "      <td>NaN</td>\n",
       "      <td>NaN</td>\n",
       "      <td>12.0</td>\n",
       "      <td>ARGENPER_PERU</td>\n",
       "      <td>-6.0</td>\n",
       "      <td>0.0</td>\n",
       "      <td>0.0</td>\n",
       "      <td>3.0</td>\n",
       "      <td>-1.0</td>\n",
       "      <td>2.0</td>\n",
       "      <td>both</td>\n",
       "    </tr>\n",
       "    <tr>\n",
       "      <th>2</th>\n",
       "      <td>NAFA</td>\n",
       "      <td>GAMBIA, THE</td>\n",
       "      <td>2023-04-03</td>\n",
       "      <td>1086.50</td>\n",
       "      <td>NaN</td>\n",
       "      <td>NaN</td>\n",
       "      <td>NaN</td>\n",
       "      <td>NaN</td>\n",
       "      <td>NaN</td>\n",
       "      <td>NaN</td>\n",
       "      <td>186.0</td>\n",
       "      <td>NAFA_GAMBIA, THE</td>\n",
       "      <td>0.0</td>\n",
       "      <td>0.0</td>\n",
       "      <td>0.0</td>\n",
       "      <td>0.0</td>\n",
       "      <td>-1.0</td>\n",
       "      <td>1.0</td>\n",
       "      <td>both</td>\n",
       "    </tr>\n",
       "    <tr>\n",
       "      <th>3</th>\n",
       "      <td>WALDOS (APPRIZA)</td>\n",
       "      <td>MEXICO</td>\n",
       "      <td>2023-08-31</td>\n",
       "      <td>4797.50</td>\n",
       "      <td>-0.0369</td>\n",
       "      <td>0.0457</td>\n",
       "      <td>0.0324</td>\n",
       "      <td>0.0029</td>\n",
       "      <td>-0.0824</td>\n",
       "      <td>0.0018</td>\n",
       "      <td>289.0</td>\n",
       "      <td>WALDOS (APPRIZA)_MEXICO</td>\n",
       "      <td>-1.0</td>\n",
       "      <td>0.0</td>\n",
       "      <td>-1.0</td>\n",
       "      <td>-1.0</td>\n",
       "      <td>3.0</td>\n",
       "      <td>-1.0</td>\n",
       "      <td>both</td>\n",
       "    </tr>\n",
       "    <tr>\n",
       "      <th>4</th>\n",
       "      <td>BANPAIS (RED CHAPINA)</td>\n",
       "      <td>HONDURAS</td>\n",
       "      <td>2021-05-06</td>\n",
       "      <td>17493.00</td>\n",
       "      <td>NaN</td>\n",
       "      <td>NaN</td>\n",
       "      <td>NaN</td>\n",
       "      <td>NaN</td>\n",
       "      <td>NaN</td>\n",
       "      <td>NaN</td>\n",
       "      <td>41.0</td>\n",
       "      <td>BANPAIS (RED CHAPINA)_HONDURAS</td>\n",
       "      <td>-2.0</td>\n",
       "      <td>5.0</td>\n",
       "      <td>0.0</td>\n",
       "      <td>-2.0</td>\n",
       "      <td>-1.0</td>\n",
       "      <td>3.0</td>\n",
       "      <td>both</td>\n",
       "    </tr>\n",
       "  </tbody>\n",
       "</table>\n",
       "</div>"
      ],
      "text/plain": [
       "                   payer      country       date    amount  var_rate_lag1  \\\n",
       "0    TRANSFERTO - THUNES      BELGIUM 2023-04-03     55.55            NaN   \n",
       "1               ARGENPER         PERU 2023-04-03   4203.70            NaN   \n",
       "2                   NAFA  GAMBIA, THE 2023-04-03   1086.50            NaN   \n",
       "3       WALDOS (APPRIZA)       MEXICO 2023-08-31   4797.50        -0.0369   \n",
       "4  BANPAIS (RED CHAPINA)     HONDURAS 2021-05-06  17493.00            NaN   \n",
       "\n",
       "   var_rate_lag2  var_rate_lag3  var_rate_lag4  var_rate_lag5  var_rate_lag6  \\\n",
       "0            NaN            NaN            NaN            NaN            NaN   \n",
       "1            NaN            NaN            NaN            NaN            NaN   \n",
       "2            NaN            NaN            NaN            NaN            NaN   \n",
       "3         0.0457         0.0324         0.0029        -0.0824         0.0018   \n",
       "4            NaN            NaN            NaN            NaN            NaN   \n",
       "\n",
       "   payer_country_encoder                   payer_country  var_tx_cancelled_1  \\\n",
       "0                  227.0     TRANSFERTO - THUNES_BELGIUM                 0.0   \n",
       "1                   12.0                   ARGENPER_PERU                -6.0   \n",
       "2                  186.0                NAFA_GAMBIA, THE                 0.0   \n",
       "3                  289.0         WALDOS (APPRIZA)_MEXICO                -1.0   \n",
       "4                   41.0  BANPAIS (RED CHAPINA)_HONDURAS                -2.0   \n",
       "\n",
       "   var_tx_cancelled_2  var_tx_cancelled_3  var_tx_cancelled_4  \\\n",
       "0                 0.0                 0.0                 0.0   \n",
       "1                 0.0                 0.0                 3.0   \n",
       "2                 0.0                 0.0                 0.0   \n",
       "3                 0.0                -1.0                -1.0   \n",
       "4                 5.0                 0.0                -2.0   \n",
       "\n",
       "   var_tx_cancelled_5  var_tx_cancelled_6 _merge  \n",
       "0                 0.0                 0.0   both  \n",
       "1                -1.0                 2.0   both  \n",
       "2                -1.0                 1.0   both  \n",
       "3                 3.0                -1.0   both  \n",
       "4                -1.0                 3.0   both  "
      ]
     },
     "execution_count": 131,
     "metadata": {},
     "output_type": "execute_result"
    }
   ],
   "source": [
    "df_final3.head()"
   ]
  },
  {
   "cell_type": "code",
   "execution_count": 138,
   "id": "e8d5613f-d0b6-471b-b717-5fb6eb81fe19",
   "metadata": {
    "tags": []
   },
   "outputs": [
    {
     "data": {
      "text/html": [
       "<div>\n",
       "<style scoped>\n",
       "    .dataframe tbody tr th:only-of-type {\n",
       "        vertical-align: middle;\n",
       "    }\n",
       "\n",
       "    .dataframe tbody tr th {\n",
       "        vertical-align: top;\n",
       "    }\n",
       "\n",
       "    .dataframe thead th {\n",
       "        text-align: right;\n",
       "    }\n",
       "</style>\n",
       "<table border=\"1\" class=\"dataframe\">\n",
       "  <thead>\n",
       "    <tr style=\"text-align: right;\">\n",
       "      <th></th>\n",
       "      <th>payer</th>\n",
       "      <th>country</th>\n",
       "      <th>date</th>\n",
       "      <th>amount</th>\n",
       "      <th>var_rate_lag1</th>\n",
       "      <th>var_rate_lag2</th>\n",
       "      <th>var_rate_lag3</th>\n",
       "      <th>var_rate_lag4</th>\n",
       "      <th>var_rate_lag5</th>\n",
       "      <th>var_rate_lag6</th>\n",
       "      <th>payer_country_encoder</th>\n",
       "      <th>payer_country</th>\n",
       "      <th>var_tx_cancelled_1</th>\n",
       "      <th>var_tx_cancelled_2</th>\n",
       "      <th>var_tx_cancelled_3</th>\n",
       "      <th>var_tx_cancelled_4</th>\n",
       "      <th>var_tx_cancelled_5</th>\n",
       "      <th>var_tx_cancelled_6</th>\n",
       "      <th>_merge</th>\n",
       "      <th>weekday</th>\n",
       "    </tr>\n",
       "  </thead>\n",
       "  <tbody>\n",
       "    <tr>\n",
       "      <th>0</th>\n",
       "      <td>TRANSFERTO - THUNES</td>\n",
       "      <td>BELGIUM</td>\n",
       "      <td>2023-04-03</td>\n",
       "      <td>55.55</td>\n",
       "      <td>NaN</td>\n",
       "      <td>NaN</td>\n",
       "      <td>NaN</td>\n",
       "      <td>NaN</td>\n",
       "      <td>NaN</td>\n",
       "      <td>NaN</td>\n",
       "      <td>227.0</td>\n",
       "      <td>TRANSFERTO - THUNES_BELGIUM</td>\n",
       "      <td>0.0</td>\n",
       "      <td>0.0</td>\n",
       "      <td>0.0</td>\n",
       "      <td>0.0</td>\n",
       "      <td>0.0</td>\n",
       "      <td>0.0</td>\n",
       "      <td>both</td>\n",
       "      <td>1</td>\n",
       "    </tr>\n",
       "    <tr>\n",
       "      <th>1</th>\n",
       "      <td>ARGENPER</td>\n",
       "      <td>PERU</td>\n",
       "      <td>2023-04-03</td>\n",
       "      <td>4203.70</td>\n",
       "      <td>NaN</td>\n",
       "      <td>NaN</td>\n",
       "      <td>NaN</td>\n",
       "      <td>NaN</td>\n",
       "      <td>NaN</td>\n",
       "      <td>NaN</td>\n",
       "      <td>12.0</td>\n",
       "      <td>ARGENPER_PERU</td>\n",
       "      <td>-6.0</td>\n",
       "      <td>0.0</td>\n",
       "      <td>0.0</td>\n",
       "      <td>3.0</td>\n",
       "      <td>-1.0</td>\n",
       "      <td>2.0</td>\n",
       "      <td>both</td>\n",
       "      <td>1</td>\n",
       "    </tr>\n",
       "    <tr>\n",
       "      <th>2</th>\n",
       "      <td>NAFA</td>\n",
       "      <td>GAMBIA, THE</td>\n",
       "      <td>2023-04-03</td>\n",
       "      <td>1086.50</td>\n",
       "      <td>NaN</td>\n",
       "      <td>NaN</td>\n",
       "      <td>NaN</td>\n",
       "      <td>NaN</td>\n",
       "      <td>NaN</td>\n",
       "      <td>NaN</td>\n",
       "      <td>186.0</td>\n",
       "      <td>NAFA_GAMBIA, THE</td>\n",
       "      <td>0.0</td>\n",
       "      <td>0.0</td>\n",
       "      <td>0.0</td>\n",
       "      <td>0.0</td>\n",
       "      <td>-1.0</td>\n",
       "      <td>1.0</td>\n",
       "      <td>both</td>\n",
       "      <td>1</td>\n",
       "    </tr>\n",
       "    <tr>\n",
       "      <th>3</th>\n",
       "      <td>WALDOS (APPRIZA)</td>\n",
       "      <td>MEXICO</td>\n",
       "      <td>2023-08-31</td>\n",
       "      <td>4797.50</td>\n",
       "      <td>-0.0369</td>\n",
       "      <td>0.0457</td>\n",
       "      <td>0.0324</td>\n",
       "      <td>0.0029</td>\n",
       "      <td>-0.0824</td>\n",
       "      <td>0.0018</td>\n",
       "      <td>289.0</td>\n",
       "      <td>WALDOS (APPRIZA)_MEXICO</td>\n",
       "      <td>-1.0</td>\n",
       "      <td>0.0</td>\n",
       "      <td>-1.0</td>\n",
       "      <td>-1.0</td>\n",
       "      <td>3.0</td>\n",
       "      <td>-1.0</td>\n",
       "      <td>both</td>\n",
       "      <td>1</td>\n",
       "    </tr>\n",
       "    <tr>\n",
       "      <th>4</th>\n",
       "      <td>BANPAIS (RED CHAPINA)</td>\n",
       "      <td>HONDURAS</td>\n",
       "      <td>2021-05-06</td>\n",
       "      <td>17493.00</td>\n",
       "      <td>NaN</td>\n",
       "      <td>NaN</td>\n",
       "      <td>NaN</td>\n",
       "      <td>NaN</td>\n",
       "      <td>NaN</td>\n",
       "      <td>NaN</td>\n",
       "      <td>41.0</td>\n",
       "      <td>BANPAIS (RED CHAPINA)_HONDURAS</td>\n",
       "      <td>-2.0</td>\n",
       "      <td>5.0</td>\n",
       "      <td>0.0</td>\n",
       "      <td>-2.0</td>\n",
       "      <td>-1.0</td>\n",
       "      <td>3.0</td>\n",
       "      <td>both</td>\n",
       "      <td>1</td>\n",
       "    </tr>\n",
       "    <tr>\n",
       "      <th>...</th>\n",
       "      <td>...</td>\n",
       "      <td>...</td>\n",
       "      <td>...</td>\n",
       "      <td>...</td>\n",
       "      <td>...</td>\n",
       "      <td>...</td>\n",
       "      <td>...</td>\n",
       "      <td>...</td>\n",
       "      <td>...</td>\n",
       "      <td>...</td>\n",
       "      <td>...</td>\n",
       "      <td>...</td>\n",
       "      <td>...</td>\n",
       "      <td>...</td>\n",
       "      <td>...</td>\n",
       "      <td>...</td>\n",
       "      <td>...</td>\n",
       "      <td>...</td>\n",
       "      <td>...</td>\n",
       "      <td>...</td>\n",
       "    </tr>\n",
       "    <tr>\n",
       "      <th>300095</th>\n",
       "      <td>VIAMERICAS USA DEPOSITS</td>\n",
       "      <td>UNITED STATES (ATM &amp; DEPOSITS)</td>\n",
       "      <td>2023-10-17</td>\n",
       "      <td>0.00</td>\n",
       "      <td>NaN</td>\n",
       "      <td>NaN</td>\n",
       "      <td>NaN</td>\n",
       "      <td>NaN</td>\n",
       "      <td>NaN</td>\n",
       "      <td>NaN</td>\n",
       "      <td>287.0</td>\n",
       "      <td>VIAMERICAS USA DEPOSITS_UNITED STATES (ATM &amp; D...</td>\n",
       "      <td>0.0</td>\n",
       "      <td>0.0</td>\n",
       "      <td>0.0</td>\n",
       "      <td>0.0</td>\n",
       "      <td>0.0</td>\n",
       "      <td>0.0</td>\n",
       "      <td>both</td>\n",
       "      <td>1</td>\n",
       "    </tr>\n",
       "    <tr>\n",
       "      <th>300096</th>\n",
       "      <td>VIAMERICAS USA DEPOSITS</td>\n",
       "      <td>UNITED STATES (ATM &amp; DEPOSITS)</td>\n",
       "      <td>2023-10-18</td>\n",
       "      <td>0.00</td>\n",
       "      <td>NaN</td>\n",
       "      <td>NaN</td>\n",
       "      <td>NaN</td>\n",
       "      <td>NaN</td>\n",
       "      <td>NaN</td>\n",
       "      <td>NaN</td>\n",
       "      <td>287.0</td>\n",
       "      <td>VIAMERICAS USA DEPOSITS_UNITED STATES (ATM &amp; D...</td>\n",
       "      <td>0.0</td>\n",
       "      <td>0.0</td>\n",
       "      <td>0.0</td>\n",
       "      <td>0.0</td>\n",
       "      <td>0.0</td>\n",
       "      <td>0.0</td>\n",
       "      <td>both</td>\n",
       "      <td>1</td>\n",
       "    </tr>\n",
       "    <tr>\n",
       "      <th>300097</th>\n",
       "      <td>VIAMERICAS USA DEPOSITS</td>\n",
       "      <td>UNITED STATES (ATM &amp; DEPOSITS)</td>\n",
       "      <td>2023-10-19</td>\n",
       "      <td>0.00</td>\n",
       "      <td>NaN</td>\n",
       "      <td>NaN</td>\n",
       "      <td>NaN</td>\n",
       "      <td>NaN</td>\n",
       "      <td>NaN</td>\n",
       "      <td>NaN</td>\n",
       "      <td>287.0</td>\n",
       "      <td>VIAMERICAS USA DEPOSITS_UNITED STATES (ATM &amp; D...</td>\n",
       "      <td>0.0</td>\n",
       "      <td>0.0</td>\n",
       "      <td>0.0</td>\n",
       "      <td>0.0</td>\n",
       "      <td>0.0</td>\n",
       "      <td>0.0</td>\n",
       "      <td>both</td>\n",
       "      <td>1</td>\n",
       "    </tr>\n",
       "    <tr>\n",
       "      <th>300098</th>\n",
       "      <td>VIAMERICAS USA DEPOSITS</td>\n",
       "      <td>UNITED STATES (ATM &amp; DEPOSITS)</td>\n",
       "      <td>2023-10-20</td>\n",
       "      <td>0.00</td>\n",
       "      <td>NaN</td>\n",
       "      <td>NaN</td>\n",
       "      <td>NaN</td>\n",
       "      <td>NaN</td>\n",
       "      <td>NaN</td>\n",
       "      <td>NaN</td>\n",
       "      <td>287.0</td>\n",
       "      <td>VIAMERICAS USA DEPOSITS_UNITED STATES (ATM &amp; D...</td>\n",
       "      <td>0.0</td>\n",
       "      <td>0.0</td>\n",
       "      <td>0.0</td>\n",
       "      <td>0.0</td>\n",
       "      <td>0.0</td>\n",
       "      <td>0.0</td>\n",
       "      <td>both</td>\n",
       "      <td>0</td>\n",
       "    </tr>\n",
       "    <tr>\n",
       "      <th>300099</th>\n",
       "      <td>VIAMERICAS USA DEPOSITS</td>\n",
       "      <td>UNITED STATES (ATM &amp; DEPOSITS)</td>\n",
       "      <td>2023-10-21</td>\n",
       "      <td>0.00</td>\n",
       "      <td>NaN</td>\n",
       "      <td>NaN</td>\n",
       "      <td>NaN</td>\n",
       "      <td>NaN</td>\n",
       "      <td>NaN</td>\n",
       "      <td>NaN</td>\n",
       "      <td>287.0</td>\n",
       "      <td>VIAMERICAS USA DEPOSITS_UNITED STATES (ATM &amp; D...</td>\n",
       "      <td>0.0</td>\n",
       "      <td>0.0</td>\n",
       "      <td>0.0</td>\n",
       "      <td>0.0</td>\n",
       "      <td>0.0</td>\n",
       "      <td>0.0</td>\n",
       "      <td>both</td>\n",
       "      <td>0</td>\n",
       "    </tr>\n",
       "  </tbody>\n",
       "</table>\n",
       "<p>133120 rows × 20 columns</p>\n",
       "</div>"
      ],
      "text/plain": [
       "                          payer                         country       date  \\\n",
       "0           TRANSFERTO - THUNES                         BELGIUM 2023-04-03   \n",
       "1                      ARGENPER                            PERU 2023-04-03   \n",
       "2                          NAFA                     GAMBIA, THE 2023-04-03   \n",
       "3              WALDOS (APPRIZA)                          MEXICO 2023-08-31   \n",
       "4         BANPAIS (RED CHAPINA)                        HONDURAS 2021-05-06   \n",
       "...                         ...                             ...        ...   \n",
       "300095  VIAMERICAS USA DEPOSITS  UNITED STATES (ATM & DEPOSITS) 2023-10-17   \n",
       "300096  VIAMERICAS USA DEPOSITS  UNITED STATES (ATM & DEPOSITS) 2023-10-18   \n",
       "300097  VIAMERICAS USA DEPOSITS  UNITED STATES (ATM & DEPOSITS) 2023-10-19   \n",
       "300098  VIAMERICAS USA DEPOSITS  UNITED STATES (ATM & DEPOSITS) 2023-10-20   \n",
       "300099  VIAMERICAS USA DEPOSITS  UNITED STATES (ATM & DEPOSITS) 2023-10-21   \n",
       "\n",
       "          amount  var_rate_lag1  var_rate_lag2  var_rate_lag3  var_rate_lag4  \\\n",
       "0          55.55            NaN            NaN            NaN            NaN   \n",
       "1        4203.70            NaN            NaN            NaN            NaN   \n",
       "2        1086.50            NaN            NaN            NaN            NaN   \n",
       "3        4797.50        -0.0369         0.0457         0.0324         0.0029   \n",
       "4       17493.00            NaN            NaN            NaN            NaN   \n",
       "...          ...            ...            ...            ...            ...   \n",
       "300095      0.00            NaN            NaN            NaN            NaN   \n",
       "300096      0.00            NaN            NaN            NaN            NaN   \n",
       "300097      0.00            NaN            NaN            NaN            NaN   \n",
       "300098      0.00            NaN            NaN            NaN            NaN   \n",
       "300099      0.00            NaN            NaN            NaN            NaN   \n",
       "\n",
       "        var_rate_lag5  var_rate_lag6  payer_country_encoder  \\\n",
       "0                 NaN            NaN                  227.0   \n",
       "1                 NaN            NaN                   12.0   \n",
       "2                 NaN            NaN                  186.0   \n",
       "3             -0.0824         0.0018                  289.0   \n",
       "4                 NaN            NaN                   41.0   \n",
       "...               ...            ...                    ...   \n",
       "300095            NaN            NaN                  287.0   \n",
       "300096            NaN            NaN                  287.0   \n",
       "300097            NaN            NaN                  287.0   \n",
       "300098            NaN            NaN                  287.0   \n",
       "300099            NaN            NaN                  287.0   \n",
       "\n",
       "                                            payer_country  var_tx_cancelled_1  \\\n",
       "0                             TRANSFERTO - THUNES_BELGIUM                 0.0   \n",
       "1                                           ARGENPER_PERU                -6.0   \n",
       "2                                        NAFA_GAMBIA, THE                 0.0   \n",
       "3                                 WALDOS (APPRIZA)_MEXICO                -1.0   \n",
       "4                          BANPAIS (RED CHAPINA)_HONDURAS                -2.0   \n",
       "...                                                   ...                 ...   \n",
       "300095  VIAMERICAS USA DEPOSITS_UNITED STATES (ATM & D...                 0.0   \n",
       "300096  VIAMERICAS USA DEPOSITS_UNITED STATES (ATM & D...                 0.0   \n",
       "300097  VIAMERICAS USA DEPOSITS_UNITED STATES (ATM & D...                 0.0   \n",
       "300098  VIAMERICAS USA DEPOSITS_UNITED STATES (ATM & D...                 0.0   \n",
       "300099  VIAMERICAS USA DEPOSITS_UNITED STATES (ATM & D...                 0.0   \n",
       "\n",
       "        var_tx_cancelled_2  var_tx_cancelled_3  var_tx_cancelled_4  \\\n",
       "0                      0.0                 0.0                 0.0   \n",
       "1                      0.0                 0.0                 3.0   \n",
       "2                      0.0                 0.0                 0.0   \n",
       "3                      0.0                -1.0                -1.0   \n",
       "4                      5.0                 0.0                -2.0   \n",
       "...                    ...                 ...                 ...   \n",
       "300095                 0.0                 0.0                 0.0   \n",
       "300096                 0.0                 0.0                 0.0   \n",
       "300097                 0.0                 0.0                 0.0   \n",
       "300098                 0.0                 0.0                 0.0   \n",
       "300099                 0.0                 0.0                 0.0   \n",
       "\n",
       "        var_tx_cancelled_5  var_tx_cancelled_6 _merge  weekday  \n",
       "0                      0.0                 0.0   both        1  \n",
       "1                     -1.0                 2.0   both        1  \n",
       "2                     -1.0                 1.0   both        1  \n",
       "3                      3.0                -1.0   both        1  \n",
       "4                     -1.0                 3.0   both        1  \n",
       "...                    ...                 ...    ...      ...  \n",
       "300095                 0.0                 0.0   both        1  \n",
       "300096                 0.0                 0.0   both        1  \n",
       "300097                 0.0                 0.0   both        1  \n",
       "300098                 0.0                 0.0   both        0  \n",
       "300099                 0.0                 0.0   both        0  \n",
       "\n",
       "[133120 rows x 20 columns]"
      ]
     },
     "execution_count": 138,
     "metadata": {},
     "output_type": "execute_result"
    }
   ],
   "source": [
    "df_final3"
   ]
  },
  {
   "cell_type": "code",
   "execution_count": 132,
   "id": "fce1e563-3f45-44de-a87c-048ef1678621",
   "metadata": {
    "tags": []
   },
   "outputs": [],
   "source": [
    "### DUMMIES ####"
   ]
  },
  {
   "cell_type": "code",
   "execution_count": 139,
   "id": "b33b3e82-4cc6-402c-bfe2-6237f6f24bf1",
   "metadata": {
    "tags": []
   },
   "outputs": [
    {
     "name": "stderr",
     "output_type": "stream",
     "text": [
      "/tmp/ipykernel_64/1233646034.py:2: SettingWithCopyWarning: \n",
      "A value is trying to be set on a copy of a slice from a DataFrame.\n",
      "Try using .loc[row_indexer,col_indexer] = value instead\n",
      "\n",
      "See the caveats in the documentation: https://pandas.pydata.org/pandas-docs/stable/user_guide/indexing.html#returning-a-view-versus-a-copy\n",
      "  df_final3['weekend'] = (df_final3['date'].dt.dayofweek >= 4).astype(int)\n"
     ]
    }
   ],
   "source": [
    "# Weekend indicator (dummy)\n",
    "df_final3['weekend'] = (df_final3['date'].dt.dayofweek >= 4).astype(int)"
   ]
  },
  {
   "cell_type": "code",
   "execution_count": 140,
   "id": "6c4b1e7a-61e3-418f-a045-6fbbd33c94da",
   "metadata": {
    "tags": []
   },
   "outputs": [],
   "source": [
    "#WE ADD ONE MORE DAY AFTER CHRISTMAS, NEW YEAR'S EVE AND US INDEPENDENCE (BETTER CAPTURES THE DISTURBANCE).\n",
    "# Special dates list - Format: Month-day \n",
    "special_dates_list = [ '07-04', #US independence day \n",
    "                      '12-25', #Christmas\n",
    "                      '05-11' # Mexico & Colombia - Mother's day\n",
    "                     '01-01', #New Year\n",
    "                     '01-02',\n",
    "                     '12-26',\n",
    "                     '07-05'] \n",
    "\n",
    "# Applying format process special_dates function\n",
    "special_dates_list_processed = [(int(date.split('-')[0]), int(date.split('-')[1])) for date in special_dates_list]"
   ]
  },
  {
   "cell_type": "code",
   "execution_count": 141,
   "id": "1763ed79-0a6f-497f-a4cb-6fa7623cac63",
   "metadata": {
    "tags": []
   },
   "outputs": [],
   "source": [
    "# To check special dates defined by list\n",
    "def mark_special_dates(row):\n",
    "    if (row['date'].month, row['date'].day) in special_dates_list_processed:\n",
    "        return 1\n",
    "    else:\n",
    "        return 0"
   ]
  },
  {
   "cell_type": "code",
   "execution_count": 142,
   "id": "3e59c7b2-f179-49ee-bef1-304003fa8305",
   "metadata": {
    "tags": []
   },
   "outputs": [
    {
     "name": "stderr",
     "output_type": "stream",
     "text": [
      "/tmp/ipykernel_64/2363910859.py:2: SettingWithCopyWarning: \n",
      "A value is trying to be set on a copy of a slice from a DataFrame.\n",
      "Try using .loc[row_indexer,col_indexer] = value instead\n",
      "\n",
      "See the caveats in the documentation: https://pandas.pydata.org/pandas-docs/stable/user_guide/indexing.html#returning-a-view-versus-a-copy\n",
      "  df_final3['special_dates'] = df_final3.apply(lambda row: mark_special_dates(row), axis=1)\n"
     ]
    }
   ],
   "source": [
    "# Marking special dates in df\n",
    "df_final3['special_dates'] = df_final3.apply(lambda row: mark_special_dates(row), axis=1)"
   ]
  },
  {
   "cell_type": "code",
   "execution_count": 143,
   "id": "eb250b21-0550-4440-b32c-210d871974b9",
   "metadata": {
    "tags": []
   },
   "outputs": [
    {
     "data": {
      "text/plain": [
       "(133120, 22)"
      ]
     },
     "execution_count": 143,
     "metadata": {},
     "output_type": "execute_result"
    }
   ],
   "source": [
    "df_final3.shape"
   ]
  },
  {
   "cell_type": "code",
   "execution_count": 144,
   "id": "dd353662-2d58-4690-b0a9-1e8dfc292521",
   "metadata": {
    "tags": []
   },
   "outputs": [
    {
     "data": {
      "text/plain": [
       "24303285928.466003"
      ]
     },
     "execution_count": 144,
     "metadata": {},
     "output_type": "execute_result"
    }
   ],
   "source": [
    "df_final3['amount'].sum()"
   ]
  },
  {
   "cell_type": "code",
   "execution_count": 145,
   "id": "7eed9a80-e826-4a55-87a5-28ccf2f98c2f",
   "metadata": {},
   "outputs": [
    {
     "data": {
      "text/html": [
       "<div>\n",
       "<style scoped>\n",
       "    .dataframe tbody tr th:only-of-type {\n",
       "        vertical-align: middle;\n",
       "    }\n",
       "\n",
       "    .dataframe tbody tr th {\n",
       "        vertical-align: top;\n",
       "    }\n",
       "\n",
       "    .dataframe thead th {\n",
       "        text-align: right;\n",
       "    }\n",
       "</style>\n",
       "<table border=\"1\" class=\"dataframe\">\n",
       "  <thead>\n",
       "    <tr style=\"text-align: right;\">\n",
       "      <th></th>\n",
       "      <th>payer</th>\n",
       "      <th>country</th>\n",
       "      <th>date</th>\n",
       "      <th>amount</th>\n",
       "      <th>var_rate_lag1</th>\n",
       "      <th>var_rate_lag2</th>\n",
       "      <th>var_rate_lag3</th>\n",
       "      <th>var_rate_lag4</th>\n",
       "      <th>var_rate_lag5</th>\n",
       "      <th>var_rate_lag6</th>\n",
       "      <th>...</th>\n",
       "      <th>var_tx_cancelled_1</th>\n",
       "      <th>var_tx_cancelled_2</th>\n",
       "      <th>var_tx_cancelled_3</th>\n",
       "      <th>var_tx_cancelled_4</th>\n",
       "      <th>var_tx_cancelled_5</th>\n",
       "      <th>var_tx_cancelled_6</th>\n",
       "      <th>_merge</th>\n",
       "      <th>weekday</th>\n",
       "      <th>weekend</th>\n",
       "      <th>special_dates</th>\n",
       "    </tr>\n",
       "  </thead>\n",
       "  <tbody>\n",
       "    <tr>\n",
       "      <th>0</th>\n",
       "      <td>TRANSFERTO - THUNES</td>\n",
       "      <td>BELGIUM</td>\n",
       "      <td>2023-04-03</td>\n",
       "      <td>55.55</td>\n",
       "      <td>NaN</td>\n",
       "      <td>NaN</td>\n",
       "      <td>NaN</td>\n",
       "      <td>NaN</td>\n",
       "      <td>NaN</td>\n",
       "      <td>NaN</td>\n",
       "      <td>...</td>\n",
       "      <td>0.0</td>\n",
       "      <td>0.0</td>\n",
       "      <td>0.0</td>\n",
       "      <td>0.0</td>\n",
       "      <td>0.0</td>\n",
       "      <td>0.0</td>\n",
       "      <td>both</td>\n",
       "      <td>1</td>\n",
       "      <td>0</td>\n",
       "      <td>0</td>\n",
       "    </tr>\n",
       "    <tr>\n",
       "      <th>1</th>\n",
       "      <td>ARGENPER</td>\n",
       "      <td>PERU</td>\n",
       "      <td>2023-04-03</td>\n",
       "      <td>4203.70</td>\n",
       "      <td>NaN</td>\n",
       "      <td>NaN</td>\n",
       "      <td>NaN</td>\n",
       "      <td>NaN</td>\n",
       "      <td>NaN</td>\n",
       "      <td>NaN</td>\n",
       "      <td>...</td>\n",
       "      <td>-6.0</td>\n",
       "      <td>0.0</td>\n",
       "      <td>0.0</td>\n",
       "      <td>3.0</td>\n",
       "      <td>-1.0</td>\n",
       "      <td>2.0</td>\n",
       "      <td>both</td>\n",
       "      <td>1</td>\n",
       "      <td>0</td>\n",
       "      <td>0</td>\n",
       "    </tr>\n",
       "    <tr>\n",
       "      <th>2</th>\n",
       "      <td>NAFA</td>\n",
       "      <td>GAMBIA, THE</td>\n",
       "      <td>2023-04-03</td>\n",
       "      <td>1086.50</td>\n",
       "      <td>NaN</td>\n",
       "      <td>NaN</td>\n",
       "      <td>NaN</td>\n",
       "      <td>NaN</td>\n",
       "      <td>NaN</td>\n",
       "      <td>NaN</td>\n",
       "      <td>...</td>\n",
       "      <td>0.0</td>\n",
       "      <td>0.0</td>\n",
       "      <td>0.0</td>\n",
       "      <td>0.0</td>\n",
       "      <td>-1.0</td>\n",
       "      <td>1.0</td>\n",
       "      <td>both</td>\n",
       "      <td>1</td>\n",
       "      <td>0</td>\n",
       "      <td>0</td>\n",
       "    </tr>\n",
       "    <tr>\n",
       "      <th>3</th>\n",
       "      <td>WALDOS (APPRIZA)</td>\n",
       "      <td>MEXICO</td>\n",
       "      <td>2023-08-31</td>\n",
       "      <td>4797.50</td>\n",
       "      <td>-0.0369</td>\n",
       "      <td>0.0457</td>\n",
       "      <td>0.0324</td>\n",
       "      <td>0.0029</td>\n",
       "      <td>-0.0824</td>\n",
       "      <td>0.0018</td>\n",
       "      <td>...</td>\n",
       "      <td>-1.0</td>\n",
       "      <td>0.0</td>\n",
       "      <td>-1.0</td>\n",
       "      <td>-1.0</td>\n",
       "      <td>3.0</td>\n",
       "      <td>-1.0</td>\n",
       "      <td>both</td>\n",
       "      <td>1</td>\n",
       "      <td>0</td>\n",
       "      <td>0</td>\n",
       "    </tr>\n",
       "    <tr>\n",
       "      <th>4</th>\n",
       "      <td>BANPAIS (RED CHAPINA)</td>\n",
       "      <td>HONDURAS</td>\n",
       "      <td>2021-05-06</td>\n",
       "      <td>17493.00</td>\n",
       "      <td>NaN</td>\n",
       "      <td>NaN</td>\n",
       "      <td>NaN</td>\n",
       "      <td>NaN</td>\n",
       "      <td>NaN</td>\n",
       "      <td>NaN</td>\n",
       "      <td>...</td>\n",
       "      <td>-2.0</td>\n",
       "      <td>5.0</td>\n",
       "      <td>0.0</td>\n",
       "      <td>-2.0</td>\n",
       "      <td>-1.0</td>\n",
       "      <td>3.0</td>\n",
       "      <td>both</td>\n",
       "      <td>1</td>\n",
       "      <td>0</td>\n",
       "      <td>0</td>\n",
       "    </tr>\n",
       "  </tbody>\n",
       "</table>\n",
       "<p>5 rows × 22 columns</p>\n",
       "</div>"
      ],
      "text/plain": [
       "                   payer      country       date    amount  var_rate_lag1  \\\n",
       "0    TRANSFERTO - THUNES      BELGIUM 2023-04-03     55.55            NaN   \n",
       "1               ARGENPER         PERU 2023-04-03   4203.70            NaN   \n",
       "2                   NAFA  GAMBIA, THE 2023-04-03   1086.50            NaN   \n",
       "3       WALDOS (APPRIZA)       MEXICO 2023-08-31   4797.50        -0.0369   \n",
       "4  BANPAIS (RED CHAPINA)     HONDURAS 2021-05-06  17493.00            NaN   \n",
       "\n",
       "   var_rate_lag2  var_rate_lag3  var_rate_lag4  var_rate_lag5  var_rate_lag6  \\\n",
       "0            NaN            NaN            NaN            NaN            NaN   \n",
       "1            NaN            NaN            NaN            NaN            NaN   \n",
       "2            NaN            NaN            NaN            NaN            NaN   \n",
       "3         0.0457         0.0324         0.0029        -0.0824         0.0018   \n",
       "4            NaN            NaN            NaN            NaN            NaN   \n",
       "\n",
       "   ...  var_tx_cancelled_1 var_tx_cancelled_2  var_tx_cancelled_3  \\\n",
       "0  ...                 0.0                0.0                 0.0   \n",
       "1  ...                -6.0                0.0                 0.0   \n",
       "2  ...                 0.0                0.0                 0.0   \n",
       "3  ...                -1.0                0.0                -1.0   \n",
       "4  ...                -2.0                5.0                 0.0   \n",
       "\n",
       "   var_tx_cancelled_4  var_tx_cancelled_5  var_tx_cancelled_6  _merge  \\\n",
       "0                 0.0                 0.0                 0.0    both   \n",
       "1                 3.0                -1.0                 2.0    both   \n",
       "2                 0.0                -1.0                 1.0    both   \n",
       "3                -1.0                 3.0                -1.0    both   \n",
       "4                -2.0                -1.0                 3.0    both   \n",
       "\n",
       "   weekday weekend  special_dates  \n",
       "0        1       0              0  \n",
       "1        1       0              0  \n",
       "2        1       0              0  \n",
       "3        1       0              0  \n",
       "4        1       0              0  \n",
       "\n",
       "[5 rows x 22 columns]"
      ]
     },
     "execution_count": 145,
     "metadata": {},
     "output_type": "execute_result"
    }
   ],
   "source": [
    "df_final3.head()"
   ]
  },
  {
   "cell_type": "code",
   "execution_count": 146,
   "id": "913c367c-7afe-4722-a8bc-12ae5b507b8d",
   "metadata": {
    "tags": []
   },
   "outputs": [],
   "source": [
    "# Checking amount differences between initial universe and final dataframe\n",
    "def country_check(df, df_final3):\n",
    "    unique_countries = df_final3['country'].unique()\n",
    "    results = []\n",
    "\n",
    "    for country in unique_countries:\n",
    "        total_universe = df[df['country'] == country]['amount'].sum()\n",
    "        total_abt = df_final3[df_final3['country'] == country]['amount'].sum()\n",
    "        difference = total_universe - total_abt\n",
    "        perc = (1 - total_abt / total_universe) * 100\n",
    "\n",
    "        results.append({\n",
    "            'Country': country,\n",
    "            'Initial Amount': total_universe,\n",
    "            'ABT Amount': total_abt,\n",
    "            'Diff Initial-ABT': difference,\n",
    "            '% Diff': perc\n",
    "        })\n",
    "\n",
    "    return pd.DataFrame(results)\n",
    "\n",
    "# Usage:\n",
    "country_totals = country_check(df, df_final3)\n"
   ]
  },
  {
   "cell_type": "code",
   "execution_count": 148,
   "id": "2e12a33e-0e88-4b73-8237-85a899f81021",
   "metadata": {
    "tags": []
   },
   "outputs": [
    {
     "data": {
      "text/html": [
       "<div>\n",
       "<style scoped>\n",
       "    .dataframe tbody tr th:only-of-type {\n",
       "        vertical-align: middle;\n",
       "    }\n",
       "\n",
       "    .dataframe tbody tr th {\n",
       "        vertical-align: top;\n",
       "    }\n",
       "\n",
       "    .dataframe thead th {\n",
       "        text-align: right;\n",
       "    }\n",
       "</style>\n",
       "<table border=\"1\" class=\"dataframe\">\n",
       "  <thead>\n",
       "    <tr style=\"text-align: right;\">\n",
       "      <th></th>\n",
       "      <th>Country</th>\n",
       "      <th>Initial Amount</th>\n",
       "      <th>ABT Amount</th>\n",
       "      <th>Diff Initial-ABT</th>\n",
       "      <th>% Diff</th>\n",
       "    </tr>\n",
       "  </thead>\n",
       "  <tbody>\n",
       "    <tr>\n",
       "      <th>3</th>\n",
       "      <td>MEXICO</td>\n",
       "      <td>1.365501e+10</td>\n",
       "      <td>1.290657e+10</td>\n",
       "      <td>7.484438e+08</td>\n",
       "      <td>5.481093</td>\n",
       "    </tr>\n",
       "    <tr>\n",
       "      <th>8</th>\n",
       "      <td>BRAZIL</td>\n",
       "      <td>7.296333e+08</td>\n",
       "      <td>7.293715e+08</td>\n",
       "      <td>2.617123e+05</td>\n",
       "      <td>0.035869</td>\n",
       "    </tr>\n",
       "    <tr>\n",
       "      <th>10</th>\n",
       "      <td>PHILIPPINES</td>\n",
       "      <td>6.902826e+08</td>\n",
       "      <td>6.902321e+08</td>\n",
       "      <td>5.053217e+04</td>\n",
       "      <td>0.007321</td>\n",
       "    </tr>\n",
       "    <tr>\n",
       "      <th>13</th>\n",
       "      <td>GUATEMALA</td>\n",
       "      <td>5.804712e+09</td>\n",
       "      <td>5.803211e+09</td>\n",
       "      <td>1.500717e+06</td>\n",
       "      <td>0.025853</td>\n",
       "    </tr>\n",
       "    <tr>\n",
       "      <th>29</th>\n",
       "      <td>INDIA</td>\n",
       "      <td>6.678685e+06</td>\n",
       "      <td>6.521721e+06</td>\n",
       "      <td>1.569641e+05</td>\n",
       "      <td>2.350224</td>\n",
       "    </tr>\n",
       "  </tbody>\n",
       "</table>\n",
       "</div>"
      ],
      "text/plain": [
       "        Country  Initial Amount    ABT Amount  Diff Initial-ABT    % Diff\n",
       "3        MEXICO    1.365501e+10  1.290657e+10      7.484438e+08  5.481093\n",
       "8        BRAZIL    7.296333e+08  7.293715e+08      2.617123e+05  0.035869\n",
       "10  PHILIPPINES    6.902826e+08  6.902321e+08      5.053217e+04  0.007321\n",
       "13    GUATEMALA    5.804712e+09  5.803211e+09      1.500717e+06  0.025853\n",
       "29        INDIA    6.678685e+06  6.521721e+06      1.569641e+05  2.350224"
      ]
     },
     "execution_count": 148,
     "metadata": {},
     "output_type": "execute_result"
    }
   ],
   "source": [
    "country_totals[country_totals['Country'].isin(rates_dict.values())]"
   ]
  },
  {
   "cell_type": "code",
   "execution_count": 149,
   "id": "6293d98e-a18f-4e89-836a-ecb9dd398767",
   "metadata": {
    "tags": []
   },
   "outputs": [],
   "source": [
    "### ME QUEDO POR AHORA SOLAMENTE CON LO QUE TIENE VALORES EN RATES ###"
   ]
  },
  {
   "cell_type": "code",
   "execution_count": 150,
   "id": "65747339-e9a1-46e6-a00d-3b90a6ad68d3",
   "metadata": {
    "tags": []
   },
   "outputs": [],
   "source": [
    "#df_ABT1 = df_final[df_final['country'].isin(rates_dict.values())]\n",
    "#df_ABT1['amount'].sum(), len(df_ABT1)"
   ]
  },
  {
   "cell_type": "code",
   "execution_count": 151,
   "id": "e5bda186-5aaf-41cf-84ba-1c15376a4576",
   "metadata": {},
   "outputs": [],
   "source": [
    "#df_ABT2 = df_final[~df_final['symbol'].isnull()]\n",
    "#df_ABT2['amount'].sum(), len(df_ABT2)"
   ]
  },
  {
   "cell_type": "code",
   "execution_count": 152,
   "id": "069a3289-5a0d-4200-9d6b-d297167f425e",
   "metadata": {
    "tags": []
   },
   "outputs": [],
   "source": [
    "#df_final[~df_final['symbol'].isnull()]['country'].unique()"
   ]
  },
  {
   "cell_type": "code",
   "execution_count": 153,
   "id": "d02f5107-a0b9-49ce-b574-8f33835f7da2",
   "metadata": {
    "tags": []
   },
   "outputs": [],
   "source": [
    "# EL PROBLEMA ESTARIA EN QUE HAY RATES NULOS PARA ALGUNAS FECHAS/PAISES\n",
    "# SOLUCIONADO"
   ]
  },
  {
   "cell_type": "code",
   "execution_count": 154,
   "id": "aa94bdb2-2133-4073-ac02-a710c77b322f",
   "metadata": {},
   "outputs": [],
   "source": [
    "##META AL 5/01/2024 OBTENER LA BASE CON UNIVERSO DEFINIDO Y VARIABLES DE FECHAS ESPECIALES, DIAS, MONTOS, VAR RATES Y VARIACIONES DE TX_CANCELLED"
   ]
  },
  {
   "cell_type": "code",
   "execution_count": 155,
   "id": "c19edc71-21cb-4b78-bf16-004c46b1e583",
   "metadata": {
    "tags": []
   },
   "outputs": [
    {
     "name": "stdout",
     "output_type": "stream",
     "text": [
      "<class 'pandas.core.frame.DataFrame'>\n",
      "Index: 133120 entries, 0 to 300099\n",
      "Data columns (total 21 columns):\n",
      " #   Column                 Non-Null Count   Dtype         \n",
      "---  ------                 --------------   -----         \n",
      " 0   payer                  133120 non-null  object        \n",
      " 1   country                133120 non-null  object        \n",
      " 2   date                   133120 non-null  datetime64[ns]\n",
      " 3   amount                 133120 non-null  float64       \n",
      " 4   var_rate_lag1          33730 non-null   float64       \n",
      " 5   var_rate_lag2          33701 non-null   float64       \n",
      " 6   var_rate_lag3          33673 non-null   float64       \n",
      " 7   var_rate_lag4          33644 non-null   float64       \n",
      " 8   var_rate_lag5          33617 non-null   float64       \n",
      " 9   var_rate_lag6          33589 non-null   float64       \n",
      " 10  payer_country_encoder  133120 non-null  float64       \n",
      " 11  payer_country          133120 non-null  object        \n",
      " 12  var_tx_cancelled_1     132860 non-null  float64       \n",
      " 13  var_tx_cancelled_2     132730 non-null  float64       \n",
      " 14  var_tx_cancelled_3     132600 non-null  float64       \n",
      " 15  var_tx_cancelled_4     132470 non-null  float64       \n",
      " 16  var_tx_cancelled_5     132340 non-null  float64       \n",
      " 17  var_tx_cancelled_6     132210 non-null  float64       \n",
      " 18  weekday                133120 non-null  int64         \n",
      " 19  weekend                133120 non-null  int64         \n",
      " 20  special_dates          133120 non-null  int64         \n",
      "dtypes: datetime64[ns](1), float64(14), int64(3), object(3)\n",
      "memory usage: 22.3+ MB\n"
     ]
    }
   ],
   "source": [
    "del df_final3['_merge']\n",
    "df_final3.info()"
   ]
  },
  {
   "cell_type": "code",
   "execution_count": 156,
   "id": "5e9600a4-7a19-4d11-b059-a5c7c258e948",
   "metadata": {
    "tags": []
   },
   "outputs": [
    {
     "data": {
      "text/plain": [
       "130"
      ]
     },
     "execution_count": 156,
     "metadata": {},
     "output_type": "execute_result"
    }
   ],
   "source": [
    "df_final3.payer_country.nunique()"
   ]
  },
  {
   "cell_type": "code",
   "execution_count": 157,
   "id": "97d95e54-1c6d-4c63-926b-245e8bfe9639",
   "metadata": {
    "tags": []
   },
   "outputs": [],
   "source": [
    "##DELETE TO MATCH THE IDS WE HAD IN THE FIRST TRAINING SESSION\n",
    "del df_final3['payer_country_encoder']"
   ]
  },
  {
   "cell_type": "code",
   "execution_count": 158,
   "id": "636a75eb-c9d0-4afa-a4cb-8fa21d19e8b9",
   "metadata": {
    "tags": []
   },
   "outputs": [
    {
     "name": "stderr",
     "output_type": "stream",
     "text": [
      "/tmp/ipykernel_64/1753334546.py:7: SettingWithCopyWarning: \n",
      "A value is trying to be set on a copy of a slice from a DataFrame.\n",
      "Try using .loc[row_indexer,col_indexer] = value instead\n",
      "\n",
      "See the caveats in the documentation: https://pandas.pydata.org/pandas-docs/stable/user_guide/indexing.html#returning-a-view-versus-a-copy\n",
      "  df_final3['payer_country_encoder'] = label_encoder.fit_transform(df_final3['payer_country'])\n"
     ]
    }
   ],
   "source": [
    "### Combining payer and country, we can obtain a column to work on \n",
    "# We can enconde it to obtain better results\n",
    "from sklearn.preprocessing import LabelEncoder\n",
    "# Inicializar LabelEncoder\n",
    "label_encoder = LabelEncoder()\n",
    "# Codificar ‘PAYER_COUNTRY’ como valores numéricos únicos\n",
    "df_final3['payer_country_encoder'] = label_encoder.fit_transform(df_final3['payer_country'])"
   ]
  },
  {
   "cell_type": "code",
   "execution_count": 159,
   "id": "73f4f651-51a1-496a-b0ff-de5627ab1209",
   "metadata": {
    "tags": []
   },
   "outputs": [
    {
     "data": {
      "text/plain": [
       "130"
      ]
     },
     "execution_count": 159,
     "metadata": {},
     "output_type": "execute_result"
    }
   ],
   "source": [
    "df_final3.payer_country_encoder.nunique()"
   ]
  },
  {
   "cell_type": "code",
   "execution_count": 160,
   "id": "5dee3722-206c-4f55-8814-34a5c8f43438",
   "metadata": {
    "tags": []
   },
   "outputs": [
    {
     "data": {
      "text/html": [
       "<div>\n",
       "<style scoped>\n",
       "    .dataframe tbody tr th:only-of-type {\n",
       "        vertical-align: middle;\n",
       "    }\n",
       "\n",
       "    .dataframe tbody tr th {\n",
       "        vertical-align: top;\n",
       "    }\n",
       "\n",
       "    .dataframe thead th {\n",
       "        text-align: right;\n",
       "    }\n",
       "</style>\n",
       "<table border=\"1\" class=\"dataframe\">\n",
       "  <thead>\n",
       "    <tr style=\"text-align: right;\">\n",
       "      <th></th>\n",
       "      <th>payer</th>\n",
       "      <th>country</th>\n",
       "      <th>date</th>\n",
       "      <th>amount</th>\n",
       "      <th>var_rate_lag1</th>\n",
       "      <th>var_rate_lag2</th>\n",
       "      <th>var_rate_lag3</th>\n",
       "      <th>var_rate_lag4</th>\n",
       "      <th>var_rate_lag5</th>\n",
       "      <th>var_rate_lag6</th>\n",
       "      <th>...</th>\n",
       "      <th>var_tx_cancelled_1</th>\n",
       "      <th>var_tx_cancelled_2</th>\n",
       "      <th>var_tx_cancelled_3</th>\n",
       "      <th>var_tx_cancelled_4</th>\n",
       "      <th>var_tx_cancelled_5</th>\n",
       "      <th>var_tx_cancelled_6</th>\n",
       "      <th>weekday</th>\n",
       "      <th>weekend</th>\n",
       "      <th>special_dates</th>\n",
       "      <th>payer_country_encoder</th>\n",
       "    </tr>\n",
       "  </thead>\n",
       "  <tbody>\n",
       "    <tr>\n",
       "      <th>310</th>\n",
       "      <td>BANCO INDUSTRIAL</td>\n",
       "      <td>GUATEMALA</td>\n",
       "      <td>2022-02-17</td>\n",
       "      <td>1234160.10</td>\n",
       "      <td>0.0002</td>\n",
       "      <td>-0.0276</td>\n",
       "      <td>-0.0015</td>\n",
       "      <td>0.0000</td>\n",
       "      <td>0.0208</td>\n",
       "      <td>0.0000</td>\n",
       "      <td>...</td>\n",
       "      <td>-43.0</td>\n",
       "      <td>42.0</td>\n",
       "      <td>-10.0</td>\n",
       "      <td>-10.0</td>\n",
       "      <td>29.0</td>\n",
       "      <td>-7.0</td>\n",
       "      <td>1</td>\n",
       "      <td>0</td>\n",
       "      <td>0</td>\n",
       "      <td>24</td>\n",
       "    </tr>\n",
       "    <tr>\n",
       "      <th>557</th>\n",
       "      <td>BANCO INDUSTRIAL</td>\n",
       "      <td>GUATEMALA</td>\n",
       "      <td>2021-09-04</td>\n",
       "      <td>1979140.06</td>\n",
       "      <td>-0.0021</td>\n",
       "      <td>-0.0009</td>\n",
       "      <td>0.0000</td>\n",
       "      <td>0.0053</td>\n",
       "      <td>-0.0003</td>\n",
       "      <td>0.0000</td>\n",
       "      <td>...</td>\n",
       "      <td>50.0</td>\n",
       "      <td>-8.0</td>\n",
       "      <td>-29.0</td>\n",
       "      <td>-31.0</td>\n",
       "      <td>-13.0</td>\n",
       "      <td>1.0</td>\n",
       "      <td>0</td>\n",
       "      <td>1</td>\n",
       "      <td>0</td>\n",
       "      <td>24</td>\n",
       "    </tr>\n",
       "    <tr>\n",
       "      <th>1412</th>\n",
       "      <td>BANCO INDUSTRIAL</td>\n",
       "      <td>GUATEMALA</td>\n",
       "      <td>2023-07-22</td>\n",
       "      <td>4076555.45</td>\n",
       "      <td>0.0000</td>\n",
       "      <td>0.0215</td>\n",
       "      <td>0.0011</td>\n",
       "      <td>0.0065</td>\n",
       "      <td>0.0088</td>\n",
       "      <td>-0.0067</td>\n",
       "      <td>...</td>\n",
       "      <td>50.0</td>\n",
       "      <td>-37.0</td>\n",
       "      <td>-10.0</td>\n",
       "      <td>-38.0</td>\n",
       "      <td>-69.0</td>\n",
       "      <td>65.0</td>\n",
       "      <td>0</td>\n",
       "      <td>1</td>\n",
       "      <td>0</td>\n",
       "      <td>24</td>\n",
       "    </tr>\n",
       "    <tr>\n",
       "      <th>1643</th>\n",
       "      <td>BANCO INDUSTRIAL</td>\n",
       "      <td>GUATEMALA</td>\n",
       "      <td>2022-08-15</td>\n",
       "      <td>2549921.51</td>\n",
       "      <td>0.0102</td>\n",
       "      <td>-0.0090</td>\n",
       "      <td>0.0000</td>\n",
       "      <td>0.0067</td>\n",
       "      <td>0.0000</td>\n",
       "      <td>-0.0402</td>\n",
       "      <td>...</td>\n",
       "      <td>38.0</td>\n",
       "      <td>45.0</td>\n",
       "      <td>44.0</td>\n",
       "      <td>-38.0</td>\n",
       "      <td>8.0</td>\n",
       "      <td>-61.0</td>\n",
       "      <td>1</td>\n",
       "      <td>0</td>\n",
       "      <td>0</td>\n",
       "      <td>24</td>\n",
       "    </tr>\n",
       "    <tr>\n",
       "      <th>2131</th>\n",
       "      <td>BANCO INDUSTRIAL</td>\n",
       "      <td>GUATEMALA</td>\n",
       "      <td>2021-01-18</td>\n",
       "      <td>1349597.56</td>\n",
       "      <td>0.0001</td>\n",
       "      <td>0.0204</td>\n",
       "      <td>-0.0002</td>\n",
       "      <td>0.0026</td>\n",
       "      <td>-0.0118</td>\n",
       "      <td>-0.0164</td>\n",
       "      <td>...</td>\n",
       "      <td>7.0</td>\n",
       "      <td>47.0</td>\n",
       "      <td>6.0</td>\n",
       "      <td>-14.0</td>\n",
       "      <td>0.0</td>\n",
       "      <td>-19.0</td>\n",
       "      <td>1</td>\n",
       "      <td>0</td>\n",
       "      <td>0</td>\n",
       "      <td>24</td>\n",
       "    </tr>\n",
       "    <tr>\n",
       "      <th>...</th>\n",
       "      <td>...</td>\n",
       "      <td>...</td>\n",
       "      <td>...</td>\n",
       "      <td>...</td>\n",
       "      <td>...</td>\n",
       "      <td>...</td>\n",
       "      <td>...</td>\n",
       "      <td>...</td>\n",
       "      <td>...</td>\n",
       "      <td>...</td>\n",
       "      <td>...</td>\n",
       "      <td>...</td>\n",
       "      <td>...</td>\n",
       "      <td>...</td>\n",
       "      <td>...</td>\n",
       "      <td>...</td>\n",
       "      <td>...</td>\n",
       "      <td>...</td>\n",
       "      <td>...</td>\n",
       "      <td>...</td>\n",
       "      <td>...</td>\n",
       "    </tr>\n",
       "    <tr>\n",
       "      <th>87579</th>\n",
       "      <td>BANCO INDUSTRIAL</td>\n",
       "      <td>GUATEMALA</td>\n",
       "      <td>2023-10-13</td>\n",
       "      <td>2326286.84</td>\n",
       "      <td>0.0262</td>\n",
       "      <td>-0.0010</td>\n",
       "      <td>0.0036</td>\n",
       "      <td>0.0223</td>\n",
       "      <td>0.0106</td>\n",
       "      <td>-0.0264</td>\n",
       "      <td>...</td>\n",
       "      <td>-21.0</td>\n",
       "      <td>-104.0</td>\n",
       "      <td>-66.0</td>\n",
       "      <td>-58.0</td>\n",
       "      <td>75.0</td>\n",
       "      <td>156.0</td>\n",
       "      <td>0</td>\n",
       "      <td>1</td>\n",
       "      <td>0</td>\n",
       "      <td>24</td>\n",
       "    </tr>\n",
       "    <tr>\n",
       "      <th>87594</th>\n",
       "      <td>BANCO INDUSTRIAL</td>\n",
       "      <td>GUATEMALA</td>\n",
       "      <td>2022-09-26</td>\n",
       "      <td>2563422.20</td>\n",
       "      <td>0.0465</td>\n",
       "      <td>0.0542</td>\n",
       "      <td>-0.0156</td>\n",
       "      <td>0.0000</td>\n",
       "      <td>0.0286</td>\n",
       "      <td>0.1528</td>\n",
       "      <td>...</td>\n",
       "      <td>-5.0</td>\n",
       "      <td>59.0</td>\n",
       "      <td>35.0</td>\n",
       "      <td>-27.0</td>\n",
       "      <td>20.0</td>\n",
       "      <td>-66.0</td>\n",
       "      <td>1</td>\n",
       "      <td>0</td>\n",
       "      <td>0</td>\n",
       "      <td>24</td>\n",
       "    </tr>\n",
       "    <tr>\n",
       "      <th>87631</th>\n",
       "      <td>BANCO INDUSTRIAL</td>\n",
       "      <td>GUATEMALA</td>\n",
       "      <td>2022-11-21</td>\n",
       "      <td>2589801.70</td>\n",
       "      <td>0.0237</td>\n",
       "      <td>-0.0009</td>\n",
       "      <td>-0.0166</td>\n",
       "      <td>-0.0142</td>\n",
       "      <td>0.0000</td>\n",
       "      <td>0.0096</td>\n",
       "      <td>...</td>\n",
       "      <td>-16.0</td>\n",
       "      <td>49.0</td>\n",
       "      <td>3.0</td>\n",
       "      <td>9.0</td>\n",
       "      <td>-48.0</td>\n",
       "      <td>-22.0</td>\n",
       "      <td>1</td>\n",
       "      <td>0</td>\n",
       "      <td>0</td>\n",
       "      <td>24</td>\n",
       "    </tr>\n",
       "    <tr>\n",
       "      <th>87646</th>\n",
       "      <td>BANCO INDUSTRIAL</td>\n",
       "      <td>GUATEMALA</td>\n",
       "      <td>2022-03-23</td>\n",
       "      <td>1349969.31</td>\n",
       "      <td>0.0000</td>\n",
       "      <td>0.0152</td>\n",
       "      <td>0.0000</td>\n",
       "      <td>-0.0038</td>\n",
       "      <td>-0.0052</td>\n",
       "      <td>-0.0016</td>\n",
       "      <td>...</td>\n",
       "      <td>-38.0</td>\n",
       "      <td>12.0</td>\n",
       "      <td>-22.0</td>\n",
       "      <td>72.0</td>\n",
       "      <td>4.0</td>\n",
       "      <td>-15.0</td>\n",
       "      <td>1</td>\n",
       "      <td>0</td>\n",
       "      <td>0</td>\n",
       "      <td>24</td>\n",
       "    </tr>\n",
       "    <tr>\n",
       "      <th>87698</th>\n",
       "      <td>BANCO INDUSTRIAL</td>\n",
       "      <td>GUATEMALA</td>\n",
       "      <td>2023-06-23</td>\n",
       "      <td>3130185.33</td>\n",
       "      <td>0.0194</td>\n",
       "      <td>0.0043</td>\n",
       "      <td>0.0000</td>\n",
       "      <td>0.0046</td>\n",
       "      <td>0.0020</td>\n",
       "      <td>-0.0060</td>\n",
       "      <td>...</td>\n",
       "      <td>-9.0</td>\n",
       "      <td>-36.0</td>\n",
       "      <td>-76.0</td>\n",
       "      <td>-38.0</td>\n",
       "      <td>-30.0</td>\n",
       "      <td>118.0</td>\n",
       "      <td>0</td>\n",
       "      <td>1</td>\n",
       "      <td>0</td>\n",
       "      <td>24</td>\n",
       "    </tr>\n",
       "  </tbody>\n",
       "</table>\n",
       "<p>1024 rows × 21 columns</p>\n",
       "</div>"
      ],
      "text/plain": [
       "                  payer    country       date      amount  var_rate_lag1  \\\n",
       "310    BANCO INDUSTRIAL  GUATEMALA 2022-02-17  1234160.10         0.0002   \n",
       "557    BANCO INDUSTRIAL  GUATEMALA 2021-09-04  1979140.06        -0.0021   \n",
       "1412   BANCO INDUSTRIAL  GUATEMALA 2023-07-22  4076555.45         0.0000   \n",
       "1643   BANCO INDUSTRIAL  GUATEMALA 2022-08-15  2549921.51         0.0102   \n",
       "2131   BANCO INDUSTRIAL  GUATEMALA 2021-01-18  1349597.56         0.0001   \n",
       "...                 ...        ...        ...         ...            ...   \n",
       "87579  BANCO INDUSTRIAL  GUATEMALA 2023-10-13  2326286.84         0.0262   \n",
       "87594  BANCO INDUSTRIAL  GUATEMALA 2022-09-26  2563422.20         0.0465   \n",
       "87631  BANCO INDUSTRIAL  GUATEMALA 2022-11-21  2589801.70         0.0237   \n",
       "87646  BANCO INDUSTRIAL  GUATEMALA 2022-03-23  1349969.31         0.0000   \n",
       "87698  BANCO INDUSTRIAL  GUATEMALA 2023-06-23  3130185.33         0.0194   \n",
       "\n",
       "       var_rate_lag2  var_rate_lag3  var_rate_lag4  var_rate_lag5  \\\n",
       "310          -0.0276        -0.0015         0.0000         0.0208   \n",
       "557          -0.0009         0.0000         0.0053        -0.0003   \n",
       "1412          0.0215         0.0011         0.0065         0.0088   \n",
       "1643         -0.0090         0.0000         0.0067         0.0000   \n",
       "2131          0.0204        -0.0002         0.0026        -0.0118   \n",
       "...              ...            ...            ...            ...   \n",
       "87579        -0.0010         0.0036         0.0223         0.0106   \n",
       "87594         0.0542        -0.0156         0.0000         0.0286   \n",
       "87631        -0.0009        -0.0166        -0.0142         0.0000   \n",
       "87646         0.0152         0.0000        -0.0038        -0.0052   \n",
       "87698         0.0043         0.0000         0.0046         0.0020   \n",
       "\n",
       "       var_rate_lag6  ... var_tx_cancelled_1  var_tx_cancelled_2  \\\n",
       "310           0.0000  ...              -43.0                42.0   \n",
       "557           0.0000  ...               50.0                -8.0   \n",
       "1412         -0.0067  ...               50.0               -37.0   \n",
       "1643         -0.0402  ...               38.0                45.0   \n",
       "2131         -0.0164  ...                7.0                47.0   \n",
       "...              ...  ...                ...                 ...   \n",
       "87579        -0.0264  ...              -21.0              -104.0   \n",
       "87594         0.1528  ...               -5.0                59.0   \n",
       "87631         0.0096  ...              -16.0                49.0   \n",
       "87646        -0.0016  ...              -38.0                12.0   \n",
       "87698        -0.0060  ...               -9.0               -36.0   \n",
       "\n",
       "       var_tx_cancelled_3  var_tx_cancelled_4  var_tx_cancelled_5  \\\n",
       "310                 -10.0               -10.0                29.0   \n",
       "557                 -29.0               -31.0               -13.0   \n",
       "1412                -10.0               -38.0               -69.0   \n",
       "1643                 44.0               -38.0                 8.0   \n",
       "2131                  6.0               -14.0                 0.0   \n",
       "...                   ...                 ...                 ...   \n",
       "87579               -66.0               -58.0                75.0   \n",
       "87594                35.0               -27.0                20.0   \n",
       "87631                 3.0                 9.0               -48.0   \n",
       "87646               -22.0                72.0                 4.0   \n",
       "87698               -76.0               -38.0               -30.0   \n",
       "\n",
       "       var_tx_cancelled_6  weekday  weekend  special_dates  \\\n",
       "310                  -7.0        1        0              0   \n",
       "557                   1.0        0        1              0   \n",
       "1412                 65.0        0        1              0   \n",
       "1643                -61.0        1        0              0   \n",
       "2131                -19.0        1        0              0   \n",
       "...                   ...      ...      ...            ...   \n",
       "87579               156.0        0        1              0   \n",
       "87594               -66.0        1        0              0   \n",
       "87631               -22.0        1        0              0   \n",
       "87646               -15.0        1        0              0   \n",
       "87698               118.0        0        1              0   \n",
       "\n",
       "       payer_country_encoder  \n",
       "310                       24  \n",
       "557                       24  \n",
       "1412                      24  \n",
       "1643                      24  \n",
       "2131                      24  \n",
       "...                      ...  \n",
       "87579                     24  \n",
       "87594                     24  \n",
       "87631                     24  \n",
       "87646                     24  \n",
       "87698                     24  \n",
       "\n",
       "[1024 rows x 21 columns]"
      ]
     },
     "execution_count": 160,
     "metadata": {},
     "output_type": "execute_result"
    }
   ],
   "source": [
    "#df_consulta=df_final.loc[df_final.payer=='ELEKTRA (MEXICO)']\n",
    "#df_consulta\n",
    "##ELEKTRA MÉXICO TIENE EL ITEM_ID==57\n",
    "df_consulta=df_final3.loc[(df_final3.payer=='BANCO INDUSTRIAL') & (df_final3.country=='GUATEMALA')]\n",
    "df_consulta\n",
    "##BANCO INDUSTRAIL DE GUATEMALA TIENE EL ITEM_ID==24\n",
    "\n"
   ]
  },
  {
   "cell_type": "code",
   "execution_count": 161,
   "id": "4b7701d5-6d4c-49a1-8c97-5dfe3627a4e1",
   "metadata": {
    "tags": []
   },
   "outputs": [
    {
     "data": {
      "text/html": [
       "<div>\n",
       "<style scoped>\n",
       "    .dataframe tbody tr th:only-of-type {\n",
       "        vertical-align: middle;\n",
       "    }\n",
       "\n",
       "    .dataframe tbody tr th {\n",
       "        vertical-align: top;\n",
       "    }\n",
       "\n",
       "    .dataframe thead th {\n",
       "        text-align: right;\n",
       "    }\n",
       "</style>\n",
       "<table border=\"1\" class=\"dataframe\">\n",
       "  <thead>\n",
       "    <tr style=\"text-align: right;\">\n",
       "      <th></th>\n",
       "      <th>payer</th>\n",
       "      <th>country</th>\n",
       "      <th>date</th>\n",
       "      <th>amount</th>\n",
       "      <th>var_rate_lag1</th>\n",
       "      <th>var_rate_lag2</th>\n",
       "      <th>var_rate_lag3</th>\n",
       "      <th>var_rate_lag4</th>\n",
       "      <th>var_rate_lag5</th>\n",
       "      <th>var_rate_lag6</th>\n",
       "      <th>...</th>\n",
       "      <th>var_tx_cancelled_1</th>\n",
       "      <th>var_tx_cancelled_2</th>\n",
       "      <th>var_tx_cancelled_3</th>\n",
       "      <th>var_tx_cancelled_4</th>\n",
       "      <th>var_tx_cancelled_5</th>\n",
       "      <th>var_tx_cancelled_6</th>\n",
       "      <th>weekday</th>\n",
       "      <th>weekend</th>\n",
       "      <th>special_dates</th>\n",
       "      <th>payer_country_encoder</th>\n",
       "    </tr>\n",
       "  </thead>\n",
       "  <tbody>\n",
       "    <tr>\n",
       "      <th>53</th>\n",
       "      <td>BANCO ATLANTIDA</td>\n",
       "      <td>HONDURAS</td>\n",
       "      <td>2023-10-05</td>\n",
       "      <td>322778.68</td>\n",
       "      <td>NaN</td>\n",
       "      <td>NaN</td>\n",
       "      <td>NaN</td>\n",
       "      <td>NaN</td>\n",
       "      <td>NaN</td>\n",
       "      <td>NaN</td>\n",
       "      <td>...</td>\n",
       "      <td>-5.0</td>\n",
       "      <td>-27.0</td>\n",
       "      <td>13.0</td>\n",
       "      <td>-19.0</td>\n",
       "      <td>35.0</td>\n",
       "      <td>25.0</td>\n",
       "      <td>1</td>\n",
       "      <td>0</td>\n",
       "      <td>0</td>\n",
       "      <td>12</td>\n",
       "    </tr>\n",
       "    <tr>\n",
       "      <th>313</th>\n",
       "      <td>BANCO ATLANTIDA</td>\n",
       "      <td>HONDURAS</td>\n",
       "      <td>2022-11-07</td>\n",
       "      <td>357425.13</td>\n",
       "      <td>NaN</td>\n",
       "      <td>NaN</td>\n",
       "      <td>NaN</td>\n",
       "      <td>NaN</td>\n",
       "      <td>NaN</td>\n",
       "      <td>NaN</td>\n",
       "      <td>...</td>\n",
       "      <td>2.0</td>\n",
       "      <td>-2.0</td>\n",
       "      <td>17.0</td>\n",
       "      <td>-6.0</td>\n",
       "      <td>-3.0</td>\n",
       "      <td>-10.0</td>\n",
       "      <td>1</td>\n",
       "      <td>0</td>\n",
       "      <td>0</td>\n",
       "      <td>12</td>\n",
       "    </tr>\n",
       "  </tbody>\n",
       "</table>\n",
       "<p>2 rows × 21 columns</p>\n",
       "</div>"
      ],
      "text/plain": [
       "               payer   country       date     amount  var_rate_lag1  \\\n",
       "53   BANCO ATLANTIDA  HONDURAS 2023-10-05  322778.68            NaN   \n",
       "313  BANCO ATLANTIDA  HONDURAS 2022-11-07  357425.13            NaN   \n",
       "\n",
       "     var_rate_lag2  var_rate_lag3  var_rate_lag4  var_rate_lag5  \\\n",
       "53             NaN            NaN            NaN            NaN   \n",
       "313            NaN            NaN            NaN            NaN   \n",
       "\n",
       "     var_rate_lag6  ... var_tx_cancelled_1  var_tx_cancelled_2  \\\n",
       "53             NaN  ...               -5.0               -27.0   \n",
       "313            NaN  ...                2.0                -2.0   \n",
       "\n",
       "     var_tx_cancelled_3  var_tx_cancelled_4  var_tx_cancelled_5  \\\n",
       "53                 13.0               -19.0                35.0   \n",
       "313                17.0                -6.0                -3.0   \n",
       "\n",
       "     var_tx_cancelled_6  weekday  weekend  special_dates  \\\n",
       "53                 25.0        1        0              0   \n",
       "313               -10.0        1        0              0   \n",
       "\n",
       "     payer_country_encoder  \n",
       "53                      12  \n",
       "313                     12  \n",
       "\n",
       "[2 rows x 21 columns]"
      ]
     },
     "execution_count": 161,
     "metadata": {},
     "output_type": "execute_result"
    }
   ],
   "source": [
    "df_consulta2=df_final3.loc[df_final3.payer_country_encoder==12]\n",
    "df_consulta2.head(2)"
   ]
  },
  {
   "cell_type": "code",
   "execution_count": 162,
   "id": "e50c74b8-e851-484a-8f8b-057441ad86dd",
   "metadata": {
    "tags": []
   },
   "outputs": [
    {
     "data": {
      "text/plain": [
       "130"
      ]
     },
     "execution_count": 162,
     "metadata": {},
     "output_type": "execute_result"
    }
   ],
   "source": [
    "df_final3.payer_country.nunique()"
   ]
  },
  {
   "cell_type": "code",
   "execution_count": 163,
   "id": "ade45e4a-c5c8-48f8-9567-336a2ec01cb7",
   "metadata": {
    "tags": []
   },
   "outputs": [
    {
     "name": "stdout",
     "output_type": "stream",
     "text": [
      "<class 'pandas.core.frame.DataFrame'>\n",
      "Index: 133120 entries, 0 to 300099\n",
      "Data columns (total 21 columns):\n",
      " #   Column                 Non-Null Count   Dtype         \n",
      "---  ------                 --------------   -----         \n",
      " 0   payer                  133120 non-null  object        \n",
      " 1   country                133120 non-null  object        \n",
      " 2   date                   133120 non-null  datetime64[ns]\n",
      " 3   amount                 133120 non-null  float64       \n",
      " 4   var_rate_lag1          33730 non-null   float64       \n",
      " 5   var_rate_lag2          33701 non-null   float64       \n",
      " 6   var_rate_lag3          33673 non-null   float64       \n",
      " 7   var_rate_lag4          33644 non-null   float64       \n",
      " 8   var_rate_lag5          33617 non-null   float64       \n",
      " 9   var_rate_lag6          33589 non-null   float64       \n",
      " 10  payer_country          133120 non-null  object        \n",
      " 11  var_tx_cancelled_1     132860 non-null  float64       \n",
      " 12  var_tx_cancelled_2     132730 non-null  float64       \n",
      " 13  var_tx_cancelled_3     132600 non-null  float64       \n",
      " 14  var_tx_cancelled_4     132470 non-null  float64       \n",
      " 15  var_tx_cancelled_5     132340 non-null  float64       \n",
      " 16  var_tx_cancelled_6     132210 non-null  float64       \n",
      " 17  weekday                133120 non-null  int64         \n",
      " 18  weekend                133120 non-null  int64         \n",
      " 19  special_dates          133120 non-null  int64         \n",
      " 20  payer_country_encoder  133120 non-null  int64         \n",
      "dtypes: datetime64[ns](1), float64(13), int64(4), object(3)\n",
      "memory usage: 22.3+ MB\n"
     ]
    }
   ],
   "source": [
    "df_final3.info()\n",
    "##130 payers por 1024 dias ==133120##"
   ]
  },
  {
   "cell_type": "code",
   "execution_count": 164,
   "id": "25b39093-b6b0-4f9b-bd4e-377d702d91e9",
   "metadata": {
    "tags": []
   },
   "outputs": [],
   "source": [
    "###FILTERING DATE UNTIL 2023-09-30 TO TRAIN FORECAST AND CHECK THE RESULTS WITH ORIGINAL DATA\n",
    "df_final3=df_final3.loc[df_final3.date<'2023-10-01']"
   ]
  },
  {
   "cell_type": "code",
   "execution_count": 165,
   "id": "004f9537-8f88-4670-8cc0-c61823d2d6df",
   "metadata": {
    "tags": []
   },
   "outputs": [],
   "source": [
    "####GENERATE A FILE WITH THE VARIABLES ITEM_ID, TIMESTAMP AND VALUE (AMOUNT) FOR AWS FORECAST##"
   ]
  },
  {
   "cell_type": "code",
   "execution_count": 166,
   "id": "9f89093b-f597-4ca2-a6d0-63845100b2f9",
   "metadata": {
    "tags": []
   },
   "outputs": [
    {
     "name": "stdout",
     "output_type": "stream",
     "text": [
      "<class 'pandas.core.frame.DataFrame'>\n",
      "Index: 130390 entries, 0 to 300078\n",
      "Data columns (total 3 columns):\n",
      " #   Column        Non-Null Count   Dtype         \n",
      "---  ------        --------------   -----         \n",
      " 0   item_id       130390 non-null  int64         \n",
      " 1   timestamp     130390 non-null  datetime64[ns]\n",
      " 2   target_value  130390 non-null  float64       \n",
      "dtypes: datetime64[ns](1), float64(1), int64(1)\n",
      "memory usage: 4.0 MB\n"
     ]
    }
   ],
   "source": [
    "target_ts_amount=df_final3.loc[:, ['payer_country_encoder', 'date', 'amount']]\n",
    "target_ts_amount.rename(columns={'payer_country_encoder': 'item_id', 'date': 'timestamp', 'amount': 'target_value'}, inplace=True)\n",
    "target_ts_amount.info()"
   ]
  },
  {
   "cell_type": "code",
   "execution_count": 167,
   "id": "bd442453-f8a6-431d-9a18-bce03e58961a",
   "metadata": {
    "tags": []
   },
   "outputs": [
    {
     "data": {
      "text/html": [
       "<div>\n",
       "<style scoped>\n",
       "    .dataframe tbody tr th:only-of-type {\n",
       "        vertical-align: middle;\n",
       "    }\n",
       "\n",
       "    .dataframe tbody tr th {\n",
       "        vertical-align: top;\n",
       "    }\n",
       "\n",
       "    .dataframe thead th {\n",
       "        text-align: right;\n",
       "    }\n",
       "</style>\n",
       "<table border=\"1\" class=\"dataframe\">\n",
       "  <thead>\n",
       "    <tr style=\"text-align: right;\">\n",
       "      <th></th>\n",
       "      <th>item_id</th>\n",
       "      <th>timestamp</th>\n",
       "      <th>target_value</th>\n",
       "    </tr>\n",
       "  </thead>\n",
       "  <tbody>\n",
       "    <tr>\n",
       "      <th>0</th>\n",
       "      <td>106</td>\n",
       "      <td>2023-04-03</td>\n",
       "      <td>55.55</td>\n",
       "    </tr>\n",
       "    <tr>\n",
       "      <th>1</th>\n",
       "      <td>9</td>\n",
       "      <td>2023-04-03</td>\n",
       "      <td>4203.70</td>\n",
       "    </tr>\n",
       "    <tr>\n",
       "      <th>2</th>\n",
       "      <td>89</td>\n",
       "      <td>2023-04-03</td>\n",
       "      <td>1086.50</td>\n",
       "    </tr>\n",
       "    <tr>\n",
       "      <th>3</th>\n",
       "      <td>124</td>\n",
       "      <td>2023-08-31</td>\n",
       "      <td>4797.50</td>\n",
       "    </tr>\n",
       "    <tr>\n",
       "      <th>4</th>\n",
       "      <td>33</td>\n",
       "      <td>2021-05-06</td>\n",
       "      <td>17493.00</td>\n",
       "    </tr>\n",
       "  </tbody>\n",
       "</table>\n",
       "</div>"
      ],
      "text/plain": [
       "   item_id  timestamp  target_value\n",
       "0      106 2023-04-03         55.55\n",
       "1        9 2023-04-03       4203.70\n",
       "2       89 2023-04-03       1086.50\n",
       "3      124 2023-08-31       4797.50\n",
       "4       33 2021-05-06      17493.00"
      ]
     },
     "execution_count": 167,
     "metadata": {},
     "output_type": "execute_result"
    }
   ],
   "source": [
    "target_ts_amount.head()\n",
    "##yyyy MM dd in timestamp##"
   ]
  },
  {
   "cell_type": "code",
   "execution_count": 168,
   "id": "0d12594f-9b61-4c28-b250-e6d1d2a4edc9",
   "metadata": {},
   "outputs": [],
   "source": [
    "###GENERATE THE DATASET OF RELATED TIME SERIES (UP TO 23 VARIABLES+ID_ITEM+TIMESTAMP-FIRST THESE TWO VARIABLES)"
   ]
  },
  {
   "cell_type": "code",
   "execution_count": 977,
   "id": "1a41a85a-e743-4ddb-854c-95cabfad7659",
   "metadata": {
    "tags": []
   },
   "outputs": [],
   "source": [
    "related_ts_ds=df_final3.loc[:, ['payer_country_encoder', 'date','var_rate_lag1', 'var_rate_lag2', 'var_rate_lag3', 'var_rate_lag4', 'var_rate_lag5', 'var_rate_lag6', 'var_tx_cancelled_1', 'var_tx_cancelled_2', 'var_tx_cancelled_3', 'var_tx_cancelled_4', 'var_tx_cancelled_5', 'var_tx_cancelled_6', 'weekday', 'special_dates']]"
   ]
  },
  {
   "cell_type": "code",
   "execution_count": 978,
   "id": "5c872f4c-40f1-430e-a282-5d34df921342",
   "metadata": {
    "tags": []
   },
   "outputs": [
    {
     "name": "stdout",
     "output_type": "stream",
     "text": [
      "<class 'pandas.core.frame.DataFrame'>\n",
      "Index: 130390 entries, 0 to 300078\n",
      "Data columns (total 16 columns):\n",
      " #   Column              Non-Null Count   Dtype         \n",
      "---  ------              --------------   -----         \n",
      " 0   item_id             130390 non-null  int64         \n",
      " 1   timestamp           130390 non-null  datetime64[ns]\n",
      " 2   var_rate_lag1       32966 non-null   float64       \n",
      " 3   var_rate_lag2       32937 non-null   float64       \n",
      " 4   var_rate_lag3       32909 non-null   float64       \n",
      " 5   var_rate_lag4       32880 non-null   float64       \n",
      " 6   var_rate_lag5       32853 non-null   float64       \n",
      " 7   var_rate_lag6       32825 non-null   float64       \n",
      " 8   var_tx_cancelled_1  130130 non-null  float64       \n",
      " 9   var_tx_cancelled_2  130000 non-null  float64       \n",
      " 10  var_tx_cancelled_3  129870 non-null  float64       \n",
      " 11  var_tx_cancelled_4  129740 non-null  float64       \n",
      " 12  var_tx_cancelled_5  129610 non-null  float64       \n",
      " 13  var_tx_cancelled_6  129480 non-null  float64       \n",
      " 14  weekday             130390 non-null  int64         \n",
      " 15  special_dates       130390 non-null  int64         \n",
      "dtypes: datetime64[ns](1), float64(12), int64(3)\n",
      "memory usage: 16.9 MB\n"
     ]
    }
   ],
   "source": [
    "related_ts_ds.rename(columns={'payer_country_encoder': 'item_id', 'date': 'timestamp'}, inplace=True)\n",
    "related_ts_ds.info()"
   ]
  },
  {
   "cell_type": "code",
   "execution_count": 979,
   "id": "e4eb1dce-e98f-446d-bb9b-99de4e9beeee",
   "metadata": {},
   "outputs": [
    {
     "data": {
      "text/plain": [
       "0    2023-03-27\n",
       "1    2021-09-10\n",
       "2    2022-04-20\n",
       "3    2022-11-17\n",
       "4    2023-05-19\n",
       "Name: timestamp, dtype: object"
      ]
     },
     "execution_count": 979,
     "metadata": {},
     "output_type": "execute_result"
    }
   ],
   "source": [
    "##EXPORTO LOS CSV##\n",
    "target_ts_amount['timestamp'] = target_ts_amount['timestamp'].dt.date\n",
    "target_ts_amount.timestamp.head()"
   ]
  },
  {
   "cell_type": "code",
   "execution_count": 980,
   "id": "44f1d15e-ec54-4c2f-83c4-d448c3fd459d",
   "metadata": {
    "tags": []
   },
   "outputs": [
    {
     "data": {
      "text/plain": [
       "0    2023-03-27\n",
       "1    2021-09-10\n",
       "2    2022-04-20\n",
       "3    2022-11-17\n",
       "4    2023-05-19\n",
       "Name: timestamp, dtype: object"
      ]
     },
     "execution_count": 980,
     "metadata": {},
     "output_type": "execute_result"
    }
   ],
   "source": [
    "related_ts_ds['timestamp'] = pd.to_datetime(related_ts_ds['timestamp'])\n",
    "related_ts_ds['timestamp'] = related_ts_ds['timestamp'].dt.date\n",
    "related_ts_ds.timestamp.head()"
   ]
  },
  {
   "cell_type": "code",
   "execution_count": 981,
   "id": "da62738b-dee7-46cc-9dd5-1d1597c40de0",
   "metadata": {},
   "outputs": [],
   "source": [
    "###GENERATE A DATASET WITH METADATA(COUNTRY AND PAYER)"
   ]
  },
  {
   "cell_type": "code",
   "execution_count": 982,
   "id": "bb960060-b357-498a-baa8-ba4295c9bde6",
   "metadata": {
    "tags": []
   },
   "outputs": [
    {
     "name": "stdout",
     "output_type": "stream",
     "text": [
      "<class 'pandas.core.frame.DataFrame'>\n",
      "Index: 130390 entries, 0 to 300078\n",
      "Data columns (total 3 columns):\n",
      " #   Column   Non-Null Count   Dtype \n",
      "---  ------   --------------   ----- \n",
      " 0   item_id  130390 non-null  int64 \n",
      " 1   country  130390 non-null  object\n",
      " 2   payer    130390 non-null  object\n",
      "dtypes: int64(1), object(2)\n",
      "memory usage: 4.0+ MB\n"
     ]
    }
   ],
   "source": [
    "metadata_ts=df_final3.loc[:, ['payer_country_encoder', 'country', 'payer']]\n",
    "metadata_ts.rename(columns={'payer_country_encoder': 'item_id'}, inplace=True)\n",
    "metadata_ts.info()"
   ]
  },
  {
   "cell_type": "code",
   "execution_count": null,
   "id": "ae063b00-a37d-44e9-9033-3ac439990ef6",
   "metadata": {
    "tags": []
   },
   "outputs": [],
   "source": []
  },
  {
   "cell_type": "code",
   "execution_count": null,
   "id": "b5ffdf2c-3cb3-450b-aff0-d2fe1aafa8b6",
   "metadata": {
    "tags": []
   },
   "outputs": [],
   "source": []
  },
  {
   "cell_type": "code",
   "execution_count": 983,
   "id": "5eda174a-e4dd-4a95-a71f-d558c29deb5e",
   "metadata": {
    "tags": []
   },
   "outputs": [],
   "source": [
    "###END ABT TASK FOR AWS FORECAST##"
   ]
  },
  {
   "cell_type": "code",
   "execution_count": 984,
   "id": "72d6159e-1164-439f-8bb2-c9feb602d952",
   "metadata": {
    "tags": []
   },
   "outputs": [],
   "source": [
    "##WE NEED TO GET THE TOP 10 PAYERS WITH THE HIGHEST SALES VOLUME TO RUN AN EXPLAINABILITY JOB IN AWS FORECAST"
   ]
  },
  {
   "cell_type": "code",
   "execution_count": 993,
   "id": "8e41ff40-fbfc-4197-9875-2b088207c464",
   "metadata": {
    "tags": []
   },
   "outputs": [
    {
     "name": "stdout",
     "output_type": "stream",
     "text": [
      "payer_country_encoder\n",
      "57     6.203279e+09\n",
      "29     3.227045e+09\n",
      "36     2.845209e+09\n",
      "24     2.233055e+09\n",
      "38     6.438721e+08\n",
      "60     5.848781e+08\n",
      "32     4.643522e+08\n",
      "20     4.289392e+08\n",
      "19     4.247398e+08\n",
      "101    4.232705e+08\n",
      "Name: amount, dtype: float64\n"
     ]
    }
   ],
   "source": [
    "total_amount_per_payer = df_final3.groupby('payer_country_encoder')['amount'].sum()\n",
    "top_10_payers = total_amount_per_payer.sort_values(ascending=False).head(10)\n",
    "print(top_10_payers)"
   ]
  },
  {
   "cell_type": "code",
   "execution_count": 994,
   "id": "c4fd3de0-5af9-4aca-9a36-78fb1d231906",
   "metadata": {
    "tags": []
   },
   "outputs": [],
   "source": [
    "top_10_payers=[57,29,36,24,38,60,32,20,19,101]\n",
    "top_10 = df_final3[df_final3['payer_country_encoder'].isin(top_10_payers)]"
   ]
  },
  {
   "cell_type": "code",
   "execution_count": 997,
   "id": "175626fe-6e13-4bcd-9ff1-c98aa19c154b",
   "metadata": {
    "tags": []
   },
   "outputs": [
    {
     "data": {
      "text/plain": [
       "(10030, 20)"
      ]
     },
     "execution_count": 997,
     "metadata": {},
     "output_type": "execute_result"
    }
   ],
   "source": [
    "top_10.shape"
   ]
  },
  {
   "cell_type": "code",
   "execution_count": 996,
   "id": "8455cd9c-fd9d-44eb-9069-a1a26180994c",
   "metadata": {
    "tags": []
   },
   "outputs": [
    {
     "data": {
      "text/plain": [
       "10"
      ]
     },
     "execution_count": 996,
     "metadata": {},
     "output_type": "execute_result"
    }
   ],
   "source": [
    "top_10.payer_country_encoder.nunique()"
   ]
  },
  {
   "cell_type": "code",
   "execution_count": 1005,
   "id": "b86aef97-e9bf-41bc-823a-ae6874404a7b",
   "metadata": {
    "tags": []
   },
   "outputs": [
    {
     "data": {
      "text/plain": [
       "(10030, 3)"
      ]
     },
     "execution_count": 1005,
     "metadata": {},
     "output_type": "execute_result"
    }
   ],
   "source": [
    "target_ts_amount_top_10= target_ts_amount[target_ts_amount['item_id'].isin(top_10_payers)]\n",
    "target_ts_amount_top_10.shape"
   ]
  },
  {
   "cell_type": "code",
   "execution_count": 1015,
   "id": "63872fd7-4cad-47c3-a63d-d1ff419eb1bb",
   "metadata": {
    "tags": []
   },
   "outputs": [
    {
     "data": {
      "text/plain": [
       "17478640677.656303"
      ]
     },
     "execution_count": 1015,
     "metadata": {},
     "output_type": "execute_result"
    }
   ],
   "source": [
    "target_ts_amount_top_10.target_value.sum()"
   ]
  },
  {
   "cell_type": "code",
   "execution_count": 1007,
   "id": "502f29f9-3a7a-4d87-a963-54630bb71836",
   "metadata": {
    "tags": []
   },
   "outputs": [
    {
     "data": {
      "text/plain": [
       "(10030, 16)"
      ]
     },
     "execution_count": 1007,
     "metadata": {},
     "output_type": "execute_result"
    }
   ],
   "source": [
    "related_ts_ds_top_10=related_ts_ds[related_ts_ds['item_id'].isin(top_10_payers)]\n",
    "related_ts_ds_top_10.shape                                   "
   ]
  },
  {
   "cell_type": "code",
   "execution_count": 1009,
   "id": "526c1daa-ecf9-4d4d-93a8-f360102a27ec",
   "metadata": {
    "tags": []
   },
   "outputs": [
    {
     "data": {
      "text/plain": [
       "(10030, 3)"
      ]
     },
     "execution_count": 1009,
     "metadata": {},
     "output_type": "execute_result"
    }
   ],
   "source": [
    "metadata_ts_top_10=metadata_ts[metadata_ts['item_id'].isin(top_10_payers)]\n",
    "metadata_ts_top_10.shape"
   ]
  },
  {
   "cell_type": "code",
   "execution_count": null,
   "id": "2a62fd26-7f45-4ef1-8bf6-da29d16e8862",
   "metadata": {
    "tags": []
   },
   "outputs": [],
   "source": []
  },
  {
   "cell_type": "code",
   "execution_count": null,
   "id": "38224ad9-eca9-4e3d-8992-ccdf1a512fec",
   "metadata": {},
   "outputs": [],
   "source": [
    "####ROUTINES FOR EXPORTING CSV TO VIAMERICAS S3##"
   ]
  },
  {
   "cell_type": "code",
   "execution_count": 808,
   "id": "703de958-8847-49bc-8b71-394da29f167e",
   "metadata": {
    "tags": []
   },
   "outputs": [
    {
     "data": {
      "text/plain": [
       "{'paths': ['s3://viamericas-datalake-dev-us-east-1-283731589572-analytics/Forecast/target/target_abt.csv'],\n",
       " 'partitions_values': {}}"
      ]
     },
     "execution_count": 808,
     "metadata": {},
     "output_type": "execute_result"
    }
   ],
   "source": [
    "#wr.s3.to_csv(\n",
    "    df=target_ts_amount,\n",
    "    path='s3://viamericas-datalake-dev-us-east-1-283731589572-analytics/Forecast/target/target_abt.csv',\n",
    "    dataset=False,\n",
    "    index=False\n",
    ")"
   ]
  },
  {
   "cell_type": "code",
   "execution_count": 809,
   "id": "2f77b6e2-490b-45a1-a925-3164470ba872",
   "metadata": {
    "tags": []
   },
   "outputs": [
    {
     "data": {
      "text/plain": [
       "{'paths': ['s3://viamericas-datalake-dev-us-east-1-283731589572-analytics/Forecast/related_ts_ds/related_ts_ds_abt.csv'],\n",
       " 'partitions_values': {}}"
      ]
     },
     "execution_count": 809,
     "metadata": {},
     "output_type": "execute_result"
    }
   ],
   "source": [
    "#wr.s3.to_csv(\n",
    "    df=related_ts_ds,\n",
    "    path='s3://viamericas-datalake-dev-us-east-1-283731589572-analytics/Forecast/related_ts_ds/related_ts_ds_abt.csv',\n",
    "    dataset=False,\n",
    "    index=False\n",
    ")"
   ]
  },
  {
   "cell_type": "code",
   "execution_count": 810,
   "id": "bf618431-3a5e-418a-b067-ae21ff273c7f",
   "metadata": {},
   "outputs": [
    {
     "data": {
      "text/plain": [
       "{'paths': ['s3://viamericas-datalake-dev-us-east-1-283731589572-analytics/Forecast/related_ts_ds/metadata_ts.csv'],\n",
       " 'partitions_values': {}}"
      ]
     },
     "execution_count": 810,
     "metadata": {},
     "output_type": "execute_result"
    }
   ],
   "source": [
    "#wr.s3.to_csv(\n",
    "    df=metadata_ts,\n",
    "    path='s3://viamericas-datalake-dev-us-east-1-283731589572-analytics/Forecast/related_ts_ds/metadata_ts.csv',\n",
    "    dataset=False,\n",
    "    index=False\n",
    ")"
   ]
  },
  {
   "cell_type": "code",
   "execution_count": null,
   "id": "a12b82bf-b933-4f7b-b698-66e89fa265c8",
   "metadata": {},
   "outputs": [],
   "source": []
  },
  {
   "cell_type": "code",
   "execution_count": null,
   "id": "5177f532-b8c1-4619-9dae-7b36fb362a8d",
   "metadata": {},
   "outputs": [],
   "source": [
    "####ROUTINES FOR EXPORTING CSV TO VIAMERICAS S3 (EXPLAINABILITY FOR TOP 10 PAYERS)##"
   ]
  },
  {
   "cell_type": "code",
   "execution_count": 1012,
   "id": "bd1a09c7-dfeb-4dd9-be98-cfaf9715296a",
   "metadata": {
    "tags": []
   },
   "outputs": [
    {
     "data": {
      "text/plain": [
       "{'paths': ['s3://viamericas-datalake-dev-us-east-1-283731589572-analytics/Forecast/target/target_abt_top10_payers.csv'],\n",
       " 'partitions_values': {}}"
      ]
     },
     "execution_count": 1012,
     "metadata": {},
     "output_type": "execute_result"
    }
   ],
   "source": [
    "#wr.s3.to_csv(\n",
    "    df=target_ts_amount_top_10,\n",
    "    path='s3://viamericas-datalake-dev-us-east-1-283731589572-analytics/Forecast/target/target_abt_top10_payers.csv',\n",
    "    dataset=False,\n",
    "    index=False\n",
    ")"
   ]
  },
  {
   "cell_type": "code",
   "execution_count": 1013,
   "id": "08447e5d-0d68-4923-babd-5a93696b20d3",
   "metadata": {
    "tags": []
   },
   "outputs": [
    {
     "data": {
      "text/plain": [
       "{'paths': ['s3://viamericas-datalake-dev-us-east-1-283731589572-analytics/Forecast/related_ts_ds/related_ts_ds_abt_top10_payers.csv'],\n",
       " 'partitions_values': {}}"
      ]
     },
     "execution_count": 1013,
     "metadata": {},
     "output_type": "execute_result"
    }
   ],
   "source": [
    "#wr.s3.to_csv(\n",
    "    df=related_ts_ds_top_10,\n",
    "    path='s3://viamericas-datalake-dev-us-east-1-283731589572-analytics/Forecast/related_ts_ds/related_ts_ds_abt_top10_payers.csv',\n",
    "    dataset=False,\n",
    "    index=False\n",
    ")"
   ]
  },
  {
   "cell_type": "code",
   "execution_count": 1014,
   "id": "5ed79678-ecef-40e1-b4db-d436da6d2229",
   "metadata": {
    "tags": []
   },
   "outputs": [
    {
     "data": {
      "text/plain": [
       "{'paths': ['s3://viamericas-datalake-dev-us-east-1-283731589572-analytics/Forecast/related_ts_ds/metadata_ts_top_10.csv'],\n",
       " 'partitions_values': {}}"
      ]
     },
     "execution_count": 1014,
     "metadata": {},
     "output_type": "execute_result"
    }
   ],
   "source": [
    "#wr.s3.to_csv(\n",
    "    df=metadata_ts_top_10,\n",
    "    path='s3://viamericas-datalake-dev-us-east-1-283731589572-analytics/Forecast/related_ts_ds/metadata_ts_top_10.csv',\n",
    "    dataset=False,\n",
    "    index=False\n",
    ")"
   ]
  },
  {
   "cell_type": "code",
   "execution_count": null,
   "id": "284e011f-19a2-48af-994c-c7679cab9c09",
   "metadata": {},
   "outputs": [],
   "source": []
  },
  {
   "cell_type": "code",
   "execution_count": null,
   "id": "4449ce06-9f46-43e8-945c-7419ca8a1ed9",
   "metadata": {},
   "outputs": [],
   "source": []
  },
  {
   "cell_type": "code",
   "execution_count": null,
   "id": "da512af9-edc6-486d-9bc7-aa561ea6b904",
   "metadata": {},
   "outputs": [],
   "source": []
  },
  {
   "cell_type": "code",
   "execution_count": null,
   "id": "ec12c5d9-dd98-4ab4-9092-a803f3102bf5",
   "metadata": {},
   "outputs": [],
   "source": []
  },
  {
   "cell_type": "code",
   "execution_count": null,
   "id": "1df180d4-4336-4d76-8f2d-15048584954b",
   "metadata": {
    "tags": []
   },
   "outputs": [],
   "source": [
    "# Agrupamos por 'payer' y 'country', y sumamos 'amount'\n",
    "grouped_data = df.groupby(['payer', 'country']).agg({'amount': 'sum'}).reset_index()\n",
    "\n",
    "# Obtenemos el top 10 de payers por país para todo el período\n",
    "top10_payers = grouped_data.nlargest(10, 'amount')\n",
    "\n",
    "print(top10_payers)"
   ]
  },
  {
   "cell_type": "code",
   "execution_count": null,
   "id": "2336a129-326d-429b-add8-fb440e560cd6",
   "metadata": {},
   "outputs": [],
   "source": [
    "df_consulta3=df_final.loc[df_final.payer=='BANORTE (UT)']\n",
    "##BBVA - BANCOMER (BTS) id==38\n",
    "##BANCOPPEL (APPRIZA) id==29\n",
    "##ENVIOS CON CLABE (APPRIZA) ID==60\n",
    "##BANORTE id="
   ]
  },
  {
   "cell_type": "code",
   "execution_count": null,
   "id": "87326acf-d8e1-4866-8c6a-356ed32b089c",
   "metadata": {},
   "outputs": [],
   "source": [
    "df_consulta3.head(2)"
   ]
  },
  {
   "cell_type": "code",
   "execution_count": null,
   "id": "ed8e0e9f-84d4-4261-a4a3-da2861e47584",
   "metadata": {
    "tags": []
   },
   "outputs": [],
   "source": []
  },
  {
   "cell_type": "code",
   "execution_count": null,
   "id": "1de3e1a0-378c-438d-bb23-0cae3ad02380",
   "metadata": {
    "tags": []
   },
   "outputs": [],
   "source": []
  },
  {
   "cell_type": "code",
   "execution_count": null,
   "id": "34b9692d-eacd-41c1-8f60-a711646dd4b6",
   "metadata": {
    "tags": []
   },
   "outputs": [],
   "source": []
  },
  {
   "cell_type": "code",
   "execution_count": null,
   "id": "4cd3e738-590f-4620-ae32-c30dc1353ccf",
   "metadata": {
    "tags": []
   },
   "outputs": [],
   "source": []
  },
  {
   "cell_type": "code",
   "execution_count": 811,
   "id": "fc8e32f4-af73-45a4-b65d-f3161de1d246",
   "metadata": {},
   "outputs": [],
   "source": [
    "df_elektra = df_final3[df_final3['payer_country'] == 'ELEKTRA (MEXICO)_MEXICO']"
   ]
  },
  {
   "cell_type": "code",
   "execution_count": 812,
   "id": "9f0004e1-2f77-4ce9-9315-31f144800e60",
   "metadata": {
    "tags": []
   },
   "outputs": [
    {
     "data": {
      "text/plain": [
       "6203279374.8673"
      ]
     },
     "execution_count": 812,
     "metadata": {},
     "output_type": "execute_result"
    }
   ],
   "source": [
    "df_elektra['amount'].sum()"
   ]
  },
  {
   "cell_type": "code",
   "execution_count": null,
   "id": "8ddecc45-979f-4a64-949e-f184589ad351",
   "metadata": {
    "tags": []
   },
   "outputs": [],
   "source": [
    "#df_elektra.to_csv('ABT_elektra.csv')"
   ]
  },
  {
   "cell_type": "code",
   "execution_count": null,
   "id": "a00c3366-8128-4742-a112-6a5348dc1839",
   "metadata": {
    "tags": []
   },
   "outputs": [],
   "source": [
    "#df_Mexico = df_ABT1[df_ABT1['country'] == 'MEXICO']"
   ]
  },
  {
   "cell_type": "code",
   "execution_count": null,
   "id": "953ca72b-4af1-41a4-84b3-bbdd8d2b1638",
   "metadata": {
    "tags": []
   },
   "outputs": [],
   "source": [
    "#df_Mexico.head()"
   ]
  },
  {
   "cell_type": "code",
   "execution_count": null,
   "id": "5c1f9748-d4f7-4d3f-b3d9-421c33c82bd4",
   "metadata": {
    "tags": []
   },
   "outputs": [],
   "source": [
    "#df_Mexico.columns"
   ]
  },
  {
   "cell_type": "code",
   "execution_count": null,
   "id": "def72892-5c14-4246-9f51-b0770717d246",
   "metadata": {
    "tags": []
   },
   "outputs": [],
   "source": [
    "columns_to_group = ['tx','amount', 'tx_cancelled', 'tx_cancelled_1',\n",
    "       'tx_cancelled_2', 'tx_cancelled_3', 'tx_cancelled_4', 'tx_cancelled_5',\n",
    "       'tx_cancelled_6', 'tx_cancelled_7', 'var_tx_cancelled_1',\n",
    "       'var_tx_cancelled_2', 'var_tx_cancelled_3', 'var_tx_cancelled_4',\n",
    "       'var_tx_cancelled_5', 'var_tx_cancelled_6']"
   ]
  },
  {
   "cell_type": "code",
   "execution_count": null,
   "id": "80305bce-752f-4f81-b5da-0158c3f3ee5d",
   "metadata": {
    "tags": []
   },
   "outputs": [],
   "source": [
    "#df_Mexico.drop(['country', 'payer'], axis=1).groupby('date')[columns_to_group].sum()"
   ]
  },
  {
   "cell_type": "code",
   "execution_count": null,
   "id": "a494d850-fcfb-4e4c-ba71-dad18ee00782",
   "metadata": {
    "tags": []
   },
   "outputs": [],
   "source": [
    "#ABT_Mex = df_Mexico.drop(['country', 'payer'], axis=1).groupby('date')[columns_to_group].sum()"
   ]
  },
  {
   "cell_type": "code",
   "execution_count": null,
   "id": "1521771a-05de-4ccd-8074-154d2030b975",
   "metadata": {
    "tags": []
   },
   "outputs": [],
   "source": [
    "#df_Mexico.to_csv('ABT_MEXICO.csv')"
   ]
  },
  {
   "cell_type": "code",
   "execution_count": null,
   "id": "2e5a62b4-6a97-4539-8d9e-a223b43af0b6",
   "metadata": {
    "tags": []
   },
   "outputs": [],
   "source": [
    "#df_Mexico[df_Mexico['date'] == '2021-01-01']['var_tx_cancelled_3'].sum()"
   ]
  },
  {
   "cell_type": "code",
   "execution_count": null,
   "id": "cf7be96c-111e-4796-b4d5-78e817d1816b",
   "metadata": {
    "tags": []
   },
   "outputs": [],
   "source": [
    "#ABT_Mex.reset_index(inplace = True)"
   ]
  },
  {
   "cell_type": "code",
   "execution_count": null,
   "id": "fd911cc3-7fa6-49ce-965f-5ca4a96512fe",
   "metadata": {
    "tags": []
   },
   "outputs": [],
   "source": [
    "#ABT_Mex[ABT_Mex['date'] == '2021-01-01']"
   ]
  },
  {
   "cell_type": "code",
   "execution_count": null,
   "id": "414c5586-de1d-4730-a135-4797f9399ced",
   "metadata": {},
   "outputs": [],
   "source": []
  }
 ],
 "metadata": {
  "availableInstances": [
   {
    "_defaultOrder": 0,
    "_isFastLaunch": true,
    "category": "General purpose",
    "gpuNum": 0,
    "hideHardwareSpecs": false,
    "memoryGiB": 4,
    "name": "ml.t3.medium",
    "vcpuNum": 2
   },
   {
    "_defaultOrder": 1,
    "_isFastLaunch": false,
    "category": "General purpose",
    "gpuNum": 0,
    "hideHardwareSpecs": false,
    "memoryGiB": 8,
    "name": "ml.t3.large",
    "vcpuNum": 2
   },
   {
    "_defaultOrder": 2,
    "_isFastLaunch": false,
    "category": "General purpose",
    "gpuNum": 0,
    "hideHardwareSpecs": false,
    "memoryGiB": 16,
    "name": "ml.t3.xlarge",
    "vcpuNum": 4
   },
   {
    "_defaultOrder": 3,
    "_isFastLaunch": false,
    "category": "General purpose",
    "gpuNum": 0,
    "hideHardwareSpecs": false,
    "memoryGiB": 32,
    "name": "ml.t3.2xlarge",
    "vcpuNum": 8
   },
   {
    "_defaultOrder": 4,
    "_isFastLaunch": true,
    "category": "General purpose",
    "gpuNum": 0,
    "hideHardwareSpecs": false,
    "memoryGiB": 8,
    "name": "ml.m5.large",
    "vcpuNum": 2
   },
   {
    "_defaultOrder": 5,
    "_isFastLaunch": false,
    "category": "General purpose",
    "gpuNum": 0,
    "hideHardwareSpecs": false,
    "memoryGiB": 16,
    "name": "ml.m5.xlarge",
    "vcpuNum": 4
   },
   {
    "_defaultOrder": 6,
    "_isFastLaunch": false,
    "category": "General purpose",
    "gpuNum": 0,
    "hideHardwareSpecs": false,
    "memoryGiB": 32,
    "name": "ml.m5.2xlarge",
    "vcpuNum": 8
   },
   {
    "_defaultOrder": 7,
    "_isFastLaunch": false,
    "category": "General purpose",
    "gpuNum": 0,
    "hideHardwareSpecs": false,
    "memoryGiB": 64,
    "name": "ml.m5.4xlarge",
    "vcpuNum": 16
   },
   {
    "_defaultOrder": 8,
    "_isFastLaunch": false,
    "category": "General purpose",
    "gpuNum": 0,
    "hideHardwareSpecs": false,
    "memoryGiB": 128,
    "name": "ml.m5.8xlarge",
    "vcpuNum": 32
   },
   {
    "_defaultOrder": 9,
    "_isFastLaunch": false,
    "category": "General purpose",
    "gpuNum": 0,
    "hideHardwareSpecs": false,
    "memoryGiB": 192,
    "name": "ml.m5.12xlarge",
    "vcpuNum": 48
   },
   {
    "_defaultOrder": 10,
    "_isFastLaunch": false,
    "category": "General purpose",
    "gpuNum": 0,
    "hideHardwareSpecs": false,
    "memoryGiB": 256,
    "name": "ml.m5.16xlarge",
    "vcpuNum": 64
   },
   {
    "_defaultOrder": 11,
    "_isFastLaunch": false,
    "category": "General purpose",
    "gpuNum": 0,
    "hideHardwareSpecs": false,
    "memoryGiB": 384,
    "name": "ml.m5.24xlarge",
    "vcpuNum": 96
   },
   {
    "_defaultOrder": 12,
    "_isFastLaunch": false,
    "category": "General purpose",
    "gpuNum": 0,
    "hideHardwareSpecs": false,
    "memoryGiB": 8,
    "name": "ml.m5d.large",
    "vcpuNum": 2
   },
   {
    "_defaultOrder": 13,
    "_isFastLaunch": false,
    "category": "General purpose",
    "gpuNum": 0,
    "hideHardwareSpecs": false,
    "memoryGiB": 16,
    "name": "ml.m5d.xlarge",
    "vcpuNum": 4
   },
   {
    "_defaultOrder": 14,
    "_isFastLaunch": false,
    "category": "General purpose",
    "gpuNum": 0,
    "hideHardwareSpecs": false,
    "memoryGiB": 32,
    "name": "ml.m5d.2xlarge",
    "vcpuNum": 8
   },
   {
    "_defaultOrder": 15,
    "_isFastLaunch": false,
    "category": "General purpose",
    "gpuNum": 0,
    "hideHardwareSpecs": false,
    "memoryGiB": 64,
    "name": "ml.m5d.4xlarge",
    "vcpuNum": 16
   },
   {
    "_defaultOrder": 16,
    "_isFastLaunch": false,
    "category": "General purpose",
    "gpuNum": 0,
    "hideHardwareSpecs": false,
    "memoryGiB": 128,
    "name": "ml.m5d.8xlarge",
    "vcpuNum": 32
   },
   {
    "_defaultOrder": 17,
    "_isFastLaunch": false,
    "category": "General purpose",
    "gpuNum": 0,
    "hideHardwareSpecs": false,
    "memoryGiB": 192,
    "name": "ml.m5d.12xlarge",
    "vcpuNum": 48
   },
   {
    "_defaultOrder": 18,
    "_isFastLaunch": false,
    "category": "General purpose",
    "gpuNum": 0,
    "hideHardwareSpecs": false,
    "memoryGiB": 256,
    "name": "ml.m5d.16xlarge",
    "vcpuNum": 64
   },
   {
    "_defaultOrder": 19,
    "_isFastLaunch": false,
    "category": "General purpose",
    "gpuNum": 0,
    "hideHardwareSpecs": false,
    "memoryGiB": 384,
    "name": "ml.m5d.24xlarge",
    "vcpuNum": 96
   },
   {
    "_defaultOrder": 20,
    "_isFastLaunch": false,
    "category": "General purpose",
    "gpuNum": 0,
    "hideHardwareSpecs": true,
    "memoryGiB": 0,
    "name": "ml.geospatial.interactive",
    "supportedImageNames": [
     "sagemaker-geospatial-v1-0"
    ],
    "vcpuNum": 0
   },
   {
    "_defaultOrder": 21,
    "_isFastLaunch": true,
    "category": "Compute optimized",
    "gpuNum": 0,
    "hideHardwareSpecs": false,
    "memoryGiB": 4,
    "name": "ml.c5.large",
    "vcpuNum": 2
   },
   {
    "_defaultOrder": 22,
    "_isFastLaunch": false,
    "category": "Compute optimized",
    "gpuNum": 0,
    "hideHardwareSpecs": false,
    "memoryGiB": 8,
    "name": "ml.c5.xlarge",
    "vcpuNum": 4
   },
   {
    "_defaultOrder": 23,
    "_isFastLaunch": false,
    "category": "Compute optimized",
    "gpuNum": 0,
    "hideHardwareSpecs": false,
    "memoryGiB": 16,
    "name": "ml.c5.2xlarge",
    "vcpuNum": 8
   },
   {
    "_defaultOrder": 24,
    "_isFastLaunch": false,
    "category": "Compute optimized",
    "gpuNum": 0,
    "hideHardwareSpecs": false,
    "memoryGiB": 32,
    "name": "ml.c5.4xlarge",
    "vcpuNum": 16
   },
   {
    "_defaultOrder": 25,
    "_isFastLaunch": false,
    "category": "Compute optimized",
    "gpuNum": 0,
    "hideHardwareSpecs": false,
    "memoryGiB": 72,
    "name": "ml.c5.9xlarge",
    "vcpuNum": 36
   },
   {
    "_defaultOrder": 26,
    "_isFastLaunch": false,
    "category": "Compute optimized",
    "gpuNum": 0,
    "hideHardwareSpecs": false,
    "memoryGiB": 96,
    "name": "ml.c5.12xlarge",
    "vcpuNum": 48
   },
   {
    "_defaultOrder": 27,
    "_isFastLaunch": false,
    "category": "Compute optimized",
    "gpuNum": 0,
    "hideHardwareSpecs": false,
    "memoryGiB": 144,
    "name": "ml.c5.18xlarge",
    "vcpuNum": 72
   },
   {
    "_defaultOrder": 28,
    "_isFastLaunch": false,
    "category": "Compute optimized",
    "gpuNum": 0,
    "hideHardwareSpecs": false,
    "memoryGiB": 192,
    "name": "ml.c5.24xlarge",
    "vcpuNum": 96
   },
   {
    "_defaultOrder": 29,
    "_isFastLaunch": true,
    "category": "Accelerated computing",
    "gpuNum": 1,
    "hideHardwareSpecs": false,
    "memoryGiB": 16,
    "name": "ml.g4dn.xlarge",
    "vcpuNum": 4
   },
   {
    "_defaultOrder": 30,
    "_isFastLaunch": false,
    "category": "Accelerated computing",
    "gpuNum": 1,
    "hideHardwareSpecs": false,
    "memoryGiB": 32,
    "name": "ml.g4dn.2xlarge",
    "vcpuNum": 8
   },
   {
    "_defaultOrder": 31,
    "_isFastLaunch": false,
    "category": "Accelerated computing",
    "gpuNum": 1,
    "hideHardwareSpecs": false,
    "memoryGiB": 64,
    "name": "ml.g4dn.4xlarge",
    "vcpuNum": 16
   },
   {
    "_defaultOrder": 32,
    "_isFastLaunch": false,
    "category": "Accelerated computing",
    "gpuNum": 1,
    "hideHardwareSpecs": false,
    "memoryGiB": 128,
    "name": "ml.g4dn.8xlarge",
    "vcpuNum": 32
   },
   {
    "_defaultOrder": 33,
    "_isFastLaunch": false,
    "category": "Accelerated computing",
    "gpuNum": 4,
    "hideHardwareSpecs": false,
    "memoryGiB": 192,
    "name": "ml.g4dn.12xlarge",
    "vcpuNum": 48
   },
   {
    "_defaultOrder": 34,
    "_isFastLaunch": false,
    "category": "Accelerated computing",
    "gpuNum": 1,
    "hideHardwareSpecs": false,
    "memoryGiB": 256,
    "name": "ml.g4dn.16xlarge",
    "vcpuNum": 64
   },
   {
    "_defaultOrder": 35,
    "_isFastLaunch": false,
    "category": "Accelerated computing",
    "gpuNum": 1,
    "hideHardwareSpecs": false,
    "memoryGiB": 61,
    "name": "ml.p3.2xlarge",
    "vcpuNum": 8
   },
   {
    "_defaultOrder": 36,
    "_isFastLaunch": false,
    "category": "Accelerated computing",
    "gpuNum": 4,
    "hideHardwareSpecs": false,
    "memoryGiB": 244,
    "name": "ml.p3.8xlarge",
    "vcpuNum": 32
   },
   {
    "_defaultOrder": 37,
    "_isFastLaunch": false,
    "category": "Accelerated computing",
    "gpuNum": 8,
    "hideHardwareSpecs": false,
    "memoryGiB": 488,
    "name": "ml.p3.16xlarge",
    "vcpuNum": 64
   },
   {
    "_defaultOrder": 38,
    "_isFastLaunch": false,
    "category": "Accelerated computing",
    "gpuNum": 8,
    "hideHardwareSpecs": false,
    "memoryGiB": 768,
    "name": "ml.p3dn.24xlarge",
    "vcpuNum": 96
   },
   {
    "_defaultOrder": 39,
    "_isFastLaunch": false,
    "category": "Memory Optimized",
    "gpuNum": 0,
    "hideHardwareSpecs": false,
    "memoryGiB": 16,
    "name": "ml.r5.large",
    "vcpuNum": 2
   },
   {
    "_defaultOrder": 40,
    "_isFastLaunch": false,
    "category": "Memory Optimized",
    "gpuNum": 0,
    "hideHardwareSpecs": false,
    "memoryGiB": 32,
    "name": "ml.r5.xlarge",
    "vcpuNum": 4
   },
   {
    "_defaultOrder": 41,
    "_isFastLaunch": false,
    "category": "Memory Optimized",
    "gpuNum": 0,
    "hideHardwareSpecs": false,
    "memoryGiB": 64,
    "name": "ml.r5.2xlarge",
    "vcpuNum": 8
   },
   {
    "_defaultOrder": 42,
    "_isFastLaunch": false,
    "category": "Memory Optimized",
    "gpuNum": 0,
    "hideHardwareSpecs": false,
    "memoryGiB": 128,
    "name": "ml.r5.4xlarge",
    "vcpuNum": 16
   },
   {
    "_defaultOrder": 43,
    "_isFastLaunch": false,
    "category": "Memory Optimized",
    "gpuNum": 0,
    "hideHardwareSpecs": false,
    "memoryGiB": 256,
    "name": "ml.r5.8xlarge",
    "vcpuNum": 32
   },
   {
    "_defaultOrder": 44,
    "_isFastLaunch": false,
    "category": "Memory Optimized",
    "gpuNum": 0,
    "hideHardwareSpecs": false,
    "memoryGiB": 384,
    "name": "ml.r5.12xlarge",
    "vcpuNum": 48
   },
   {
    "_defaultOrder": 45,
    "_isFastLaunch": false,
    "category": "Memory Optimized",
    "gpuNum": 0,
    "hideHardwareSpecs": false,
    "memoryGiB": 512,
    "name": "ml.r5.16xlarge",
    "vcpuNum": 64
   },
   {
    "_defaultOrder": 46,
    "_isFastLaunch": false,
    "category": "Memory Optimized",
    "gpuNum": 0,
    "hideHardwareSpecs": false,
    "memoryGiB": 768,
    "name": "ml.r5.24xlarge",
    "vcpuNum": 96
   },
   {
    "_defaultOrder": 47,
    "_isFastLaunch": false,
    "category": "Accelerated computing",
    "gpuNum": 1,
    "hideHardwareSpecs": false,
    "memoryGiB": 16,
    "name": "ml.g5.xlarge",
    "vcpuNum": 4
   },
   {
    "_defaultOrder": 48,
    "_isFastLaunch": false,
    "category": "Accelerated computing",
    "gpuNum": 1,
    "hideHardwareSpecs": false,
    "memoryGiB": 32,
    "name": "ml.g5.2xlarge",
    "vcpuNum": 8
   },
   {
    "_defaultOrder": 49,
    "_isFastLaunch": false,
    "category": "Accelerated computing",
    "gpuNum": 1,
    "hideHardwareSpecs": false,
    "memoryGiB": 64,
    "name": "ml.g5.4xlarge",
    "vcpuNum": 16
   },
   {
    "_defaultOrder": 50,
    "_isFastLaunch": false,
    "category": "Accelerated computing",
    "gpuNum": 1,
    "hideHardwareSpecs": false,
    "memoryGiB": 128,
    "name": "ml.g5.8xlarge",
    "vcpuNum": 32
   },
   {
    "_defaultOrder": 51,
    "_isFastLaunch": false,
    "category": "Accelerated computing",
    "gpuNum": 1,
    "hideHardwareSpecs": false,
    "memoryGiB": 256,
    "name": "ml.g5.16xlarge",
    "vcpuNum": 64
   },
   {
    "_defaultOrder": 52,
    "_isFastLaunch": false,
    "category": "Accelerated computing",
    "gpuNum": 4,
    "hideHardwareSpecs": false,
    "memoryGiB": 192,
    "name": "ml.g5.12xlarge",
    "vcpuNum": 48
   },
   {
    "_defaultOrder": 53,
    "_isFastLaunch": false,
    "category": "Accelerated computing",
    "gpuNum": 4,
    "hideHardwareSpecs": false,
    "memoryGiB": 384,
    "name": "ml.g5.24xlarge",
    "vcpuNum": 96
   },
   {
    "_defaultOrder": 54,
    "_isFastLaunch": false,
    "category": "Accelerated computing",
    "gpuNum": 8,
    "hideHardwareSpecs": false,
    "memoryGiB": 768,
    "name": "ml.g5.48xlarge",
    "vcpuNum": 192
   },
   {
    "_defaultOrder": 55,
    "_isFastLaunch": false,
    "category": "Accelerated computing",
    "gpuNum": 8,
    "hideHardwareSpecs": false,
    "memoryGiB": 1152,
    "name": "ml.p4d.24xlarge",
    "vcpuNum": 96
   },
   {
    "_defaultOrder": 56,
    "_isFastLaunch": false,
    "category": "Accelerated computing",
    "gpuNum": 8,
    "hideHardwareSpecs": false,
    "memoryGiB": 1152,
    "name": "ml.p4de.24xlarge",
    "vcpuNum": 96
   },
   {
    "_defaultOrder": 57,
    "_isFastLaunch": false,
    "category": "Accelerated computing",
    "gpuNum": 0,
    "hideHardwareSpecs": false,
    "memoryGiB": 32,
    "name": "ml.trn1.2xlarge",
    "vcpuNum": 8
   },
   {
    "_defaultOrder": 58,
    "_isFastLaunch": false,
    "category": "Accelerated computing",
    "gpuNum": 0,
    "hideHardwareSpecs": false,
    "memoryGiB": 512,
    "name": "ml.trn1.32xlarge",
    "vcpuNum": 128
   },
   {
    "_defaultOrder": 59,
    "_isFastLaunch": false,
    "category": "Accelerated computing",
    "gpuNum": 0,
    "hideHardwareSpecs": false,
    "memoryGiB": 512,
    "name": "ml.trn1n.32xlarge",
    "vcpuNum": 128
   }
  ],
  "instance_type": "ml.t3.medium",
  "kernelspec": {
   "display_name": "Python 3 (Data Science 3.0)",
   "language": "python",
   "name": "python3__SAGEMAKER_INTERNAL__arn:aws:sagemaker:us-east-1:081325390199:image/sagemaker-data-science-310-v1"
  },
  "language_info": {
   "codemirror_mode": {
    "name": "ipython",
    "version": 3
   },
   "file_extension": ".py",
   "mimetype": "text/x-python",
   "name": "python",
   "nbconvert_exporter": "python",
   "pygments_lexer": "ipython3",
   "version": "3.10.6"
  }
 },
 "nbformat": 4,
 "nbformat_minor": 5
}
