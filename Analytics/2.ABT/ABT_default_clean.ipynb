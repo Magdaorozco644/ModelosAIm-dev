{
 "cells": [
  {
   "cell_type": "markdown",
   "id": "81d1fe72-97a5-4fb0-b0dc-d4707f0fa68e",
   "metadata": {},
   "source": [
    "# ABT default"
   ]
  },
  {
   "cell_type": "raw",
   "id": "ed5a2770-9a42-4d59-8d77-b1f52e06df1c",
   "metadata": {},
   "source": [
    "Si se ejecuta en sagemaker utilizar una máquina ml.m5.4xlarge 16vCPU +64 GiB o superior para manejar la carga."
   ]
  },
  {
   "cell_type": "markdown",
   "id": "0ee18895-6a21-4c1b-b53b-71faa9552b89",
   "metadata": {},
   "source": [
    "## Instalación de paquetes"
   ]
  },
  {
   "cell_type": "code",
   "execution_count": 2,
   "id": "e2684b23-9553-4779-9d34-6fb15049744a",
   "metadata": {
    "tags": []
   },
   "outputs": [
    {
     "name": "stdout",
     "output_type": "stream",
     "text": [
      "Collecting awswrangler\n",
      "  Using cached awswrangler-3.9.1-py3-none-any.whl.metadata (17 kB)\n",
      "Requirement already satisfied: boto3<2.0.0,>=1.20.32 in /opt/conda/lib/python3.10/site-packages (from awswrangler) (1.34.84)\n",
      "Requirement already satisfied: botocore<2.0.0,>=1.23.32 in /opt/conda/lib/python3.10/site-packages (from awswrangler) (1.34.84)\n",
      "Requirement already satisfied: numpy<2.0,>=1.18 in /opt/conda/lib/python3.10/site-packages (from awswrangler) (1.26.4)\n",
      "Requirement already satisfied: packaging<25.0,>=21.1 in /opt/conda/lib/python3.10/site-packages (from awswrangler) (23.2)\n",
      "Requirement already satisfied: pandas<3.0.0,>=1.2.0 in /opt/conda/lib/python3.10/site-packages (from awswrangler) (2.2.2)\n",
      "Requirement already satisfied: pyarrow>=8.0.0 in /opt/conda/lib/python3.10/site-packages (from awswrangler) (15.0.2)\n",
      "Requirement already satisfied: typing-extensions<5.0.0,>=4.4.0 in /opt/conda/lib/python3.10/site-packages (from awswrangler) (4.11.0)\n",
      "Requirement already satisfied: jmespath<2.0.0,>=0.7.1 in /opt/conda/lib/python3.10/site-packages (from boto3<2.0.0,>=1.20.32->awswrangler) (1.0.1)\n",
      "Requirement already satisfied: s3transfer<0.11.0,>=0.10.0 in /opt/conda/lib/python3.10/site-packages (from boto3<2.0.0,>=1.20.32->awswrangler) (0.10.1)\n",
      "Requirement already satisfied: python-dateutil<3.0.0,>=2.1 in /opt/conda/lib/python3.10/site-packages (from botocore<2.0.0,>=1.23.32->awswrangler) (2.9.0)\n",
      "Requirement already satisfied: urllib3!=2.2.0,<3,>=1.25.4 in /opt/conda/lib/python3.10/site-packages (from botocore<2.0.0,>=1.23.32->awswrangler) (2.2.1)\n",
      "Requirement already satisfied: pytz>=2020.1 in /opt/conda/lib/python3.10/site-packages (from pandas<3.0.0,>=1.2.0->awswrangler) (2024.1)\n",
      "Requirement already satisfied: tzdata>=2022.7 in /opt/conda/lib/python3.10/site-packages (from pandas<3.0.0,>=1.2.0->awswrangler) (2024.1)\n",
      "Requirement already satisfied: six>=1.5 in /opt/conda/lib/python3.10/site-packages (from python-dateutil<3.0.0,>=2.1->botocore<2.0.0,>=1.23.32->awswrangler) (1.16.0)\n",
      "Using cached awswrangler-3.9.1-py3-none-any.whl (381 kB)\n",
      "Installing collected packages: awswrangler\n",
      "Successfully installed awswrangler-3.9.1\n",
      "\u001b[33mWARNING: Running pip as the 'root' user can result in broken permissions and conflicting behaviour with the system package manager. It is recommended to use a virtual environment instead: https://pip.pypa.io/warnings/venv\u001b[0m\u001b[33m\n",
      "\u001b[0mNote: you may need to restart the kernel to use updated packages.\n"
     ]
    }
   ],
   "source": [
    "pip install awswrangler"
   ]
  },
  {
   "cell_type": "code",
   "execution_count": 3,
   "id": "2bcc4e57-a69d-4fb4-b598-1406aa686699",
   "metadata": {
    "tags": []
   },
   "outputs": [
    {
     "name": "stdout",
     "output_type": "stream",
     "text": [
      "Collecting PyAthena\n",
      "  Using cached pyathena-3.9.0-py3-none-any.whl.metadata (6.3 kB)\n",
      "Requirement already satisfied: boto3>=1.26.4 in /opt/conda/lib/python3.10/site-packages (from PyAthena) (1.34.84)\n",
      "Requirement already satisfied: botocore>=1.29.4 in /opt/conda/lib/python3.10/site-packages (from PyAthena) (1.34.84)\n",
      "Requirement already satisfied: fsspec in /opt/conda/lib/python3.10/site-packages (from PyAthena) (2024.3.1)\n",
      "Requirement already satisfied: python-dateutil in /opt/conda/lib/python3.10/site-packages (from PyAthena) (2.9.0)\n",
      "Requirement already satisfied: tenacity>=4.1.0 in /opt/conda/lib/python3.10/site-packages (from PyAthena) (8.2.3)\n",
      "Requirement already satisfied: jmespath<2.0.0,>=0.7.1 in /opt/conda/lib/python3.10/site-packages (from boto3>=1.26.4->PyAthena) (1.0.1)\n",
      "Requirement already satisfied: s3transfer<0.11.0,>=0.10.0 in /opt/conda/lib/python3.10/site-packages (from boto3>=1.26.4->PyAthena) (0.10.1)\n",
      "Requirement already satisfied: urllib3!=2.2.0,<3,>=1.25.4 in /opt/conda/lib/python3.10/site-packages (from botocore>=1.29.4->PyAthena) (2.2.1)\n",
      "Requirement already satisfied: six>=1.5 in /opt/conda/lib/python3.10/site-packages (from python-dateutil->PyAthena) (1.16.0)\n",
      "Using cached pyathena-3.9.0-py3-none-any.whl (75 kB)\n",
      "Installing collected packages: PyAthena\n",
      "Successfully installed PyAthena-3.9.0\n",
      "\u001b[33mWARNING: Running pip as the 'root' user can result in broken permissions and conflicting behaviour with the system package manager. It is recommended to use a virtual environment instead: https://pip.pypa.io/warnings/venv\u001b[0m\u001b[33m\n",
      "\u001b[0m"
     ]
    }
   ],
   "source": [
    "import sys\n",
    "!{sys.executable} -m pip install PyAthena"
   ]
  },
  {
   "cell_type": "code",
   "execution_count": 4,
   "id": "b260ba65-1e85-499f-9365-6470ffdd8ea5",
   "metadata": {
    "tags": []
   },
   "outputs": [],
   "source": [
    "import awswrangler as wr\n",
    "import pandas as pd\n",
    "import datetime as dt\n",
    "from datetime import datetime\n",
    "from pyathena import connect\n",
    "import matplotlib.pyplot as plt\n",
    "import seaborn as sns"
   ]
  },
  {
   "cell_type": "markdown",
   "id": "e64f4449-fa43-4e02-879a-7a19ce6da5cc",
   "metadata": {},
   "source": [
    "## Query"
   ]
  },
  {
   "cell_type": "raw",
   "id": "4b18c267-239e-4eee-8d17-528dddd1e75a",
   "metadata": {},
   "source": [
    "Query central trae a nivel agencia x día:\n",
    "    TX (cantidad de transacciones money transfer)\n",
    "    AMOUNT (suma del valor de todas las money transfers)\n",
    "    TX_check (cantidad de transacciones viacheck)\n",
    "    TOTAL_AMOUNT_check (suma del valor de todas las transacciones viacheck)\n",
    "    BALANCE\n",
    "    dso_deposit_day\n",
    "    installation_date (permite calcular antiguedad a cada día)"
   ]
  },
  {
   "cell_type": "code",
   "execution_count": 5,
   "id": "49369ca3-ac63-4031-9e86-a7cffa5807e5",
   "metadata": {},
   "outputs": [
    {
     "name": "stderr",
     "output_type": "stream",
     "text": [
      "/tmp/ipykernel_21/975165692.py:8: UserWarning: pandas only supports SQLAlchemy connectable (engine/connection) or database string URI or sqlite3 DBAPI2 connection. Other DBAPI2 objects are not tested. Please consider using SQLAlchemy.\n",
      "  df = pd.read_sql('''with viacheck as(\n"
     ]
    }
   ],
   "source": [
    "# DB Setting\n",
    "bucket_name = 's3://viamericas-datalake-dev-us-east-1-283731589572-athena/'\n",
    "\n",
    "#Connection\n",
    "conn = connect(s3_staging_dir=f'{bucket_name}queryresults/',\n",
    "               region_name='us-east-1')\n",
    "\n",
    "df = pd.read_sql('''with viacheck as(\n",
    "SELECT\n",
    "    DATE_FORMAT(ct.CheckDate, '%Y-%m-%d') AS DATE,\n",
    "    COUNT(DISTINCT ct.checkID) AS TX_check,\n",
    "    SUM(ct.AMOUNT) AS TOTAL_AMOUNT_check,\n",
    "    b.id_location\n",
    "FROM\n",
    "    AwsDataCatalog.viamericas.checkTable ct\n",
    "LEFT JOIN\n",
    "    AwsDataCatalog.viamericas.BRANCH a ON a.id_branch = ct.CheckBranch\n",
    "LEFT JOIN\n",
    "    AwsDataCatalog.viamericas.location b ON a.id_location = b.id_location\n",
    "       \n",
    "WHERE\n",
    "   NOT (a.id_branch LIKE 'T%')\n",
    "   AND a.id_flag_branch = 'A'\n",
    "   AND DATE_FORMAT(ct.CheckDate, '%Y-%m') between '2023-01' and '2024-02'\n",
    "   AND  NOT b.id_location = 'NULL'\n",
    "GROUP BY\n",
    "    DATE_FORMAT(ct.CheckDate, '%Y-%m-%d'),\n",
    "    b.id_location\n",
    "    --b.name_location;\n",
    ")\n",
    "SELECT\n",
    "   CAST(RTRIM(b.ID_LOCATION) AS VARCHAR(60)) AS AGENCY,\n",
    "   d.ID_GROUP_COMPANY AS ID_GROUP_COMPANY,\n",
    "   a.ID_BRANCH as ID_BRANCH,\n",
    "   CAST(DATE_FORMAT(a.DATE_RECEIVER, '%Y-%m-%d') AS DATE) AS DATE,\n",
    "   SUM(CASE WHEN (A.ID_FLAG_RECEIVER = 'A' OR A.ID_FLAG_RECEIVER = 'C') THEN 0 ELSE 1 END) AS TX,\n",
    "   SUM(CASE WHEN (A.ID_FLAG_RECEIVER = 'A' OR A.ID_FLAG_RECEIVER = 'C') THEN 0 ELSE A.NET_AMOUNT_RECEIVER END) as AMOUNT,\n",
    "   c.BALANCE as BALANCE,\n",
    "   coalesce(d.TX_check, 0) as TX_check,\n",
    "   coalesce(d.TOTAL_AMOUNT_check, 0) as TOTAL_AMOUNT_check,\n",
    "   c.dso_deposit_day as DSO_DEPO_DAY,\n",
    "   CAST(DATE_FORMAT(d.installation_date, '%Y-%m-%d') AS DATE) as START_DATE\n",
    " FROM\n",
    "   AwsDataCatalog.viamericas.RECEIVER a\n",
    "   INNER JOIN AwsDataCatalog.viamericas.GROUP_BRANCH p ON p.ID_MAIN_BRANCH = CASE WHEN a.ID_MAIN_BRANCH_EXPIRED IS NULL THEN RTRIM(a.ID_MAIN_BRANCH_SENT) ELSE RTRIM(a.ID_MAIN_BRANCH_EXPIRED) END\n",
    "   LEFT JOIN AwsDataCatalog.viamericas.BRANCH b ON a.ID_BRANCH = b.ID_BRANCH\n",
    "   LEFT JOIN AwsDataCatalog.viamericas.history_balance c ON c.id_main_branch = b.id_main_branch and c.date_balance = cast(a.DATE_RECEIVER as DATE)\n",
    "   LEFT JOIN viacheck d ON d.id_location = b.ID_LOCATION and cast(d.DATE as DATE) = cast(a.DATE_RECEIVER as DATE)\n",
    "   left join AwsDataCatalog.viamericas.locations d on b.ID_LOCATION = d.id\n",
    "   \n",
    " WHERE\n",
    "   NOT (A.ID_MAIN_BRANCH_SENT LIKE 'M%')\n",
    "   AND NOT (A.ID_BRANCH LIKE 'T%')\n",
    "   AND SUBSTRING(b.id_branch, 1, 1) IN (SELECT SUBSTRING(PREFIX, 1, 1) FROM AwsDataCatalog.viamericas.BRANCH_PREFIX P WHERE TRIM(B.ID_COUNTRY) = TRIM(P.ID_COUNTRY))\n",
    "   AND A.DATE_RECEIVER >= TIMESTAMP '2023-01-01 00:00:00.000'\n",
    "   AND A.DATE_RECEIVER < TIMESTAMP '2024-02-04 00:00:00.000'\n",
    "   AND b.ID_LOCATION IS NOT NULL\n",
    "   AND b.ID_LOCATION NOT IN ('MD0010', 'MD0952', 'AK0003', 'CA3897', 'NY1130', 'MD0696', 'FL1933', 'AK0004', 'CA4046', 'NY1221', 'MD0623', 'MD1003', 'MD1018', 'AK0008', 'CA4291', 'NY1346', 'CA4350', 'NY1381','OK0236','FL2287','CA4391','AK0009', 'NY1397','CA4392','AK0010','FL2288','NY1399','AK0012','CA4396','NY1402','FL2289','AK0013', 'CA4418','NY1410','FL2301','AK0014', 'CA4428', 'NY1413')\n",
    "   AND a.NET_AMOUNT_RECEIVER <> 0\n",
    " GROUP BY\n",
    "   RTRIM(b.ID_LOCATION),\n",
    "   d.ID_GROUP_COMPANY,\n",
    "   a.ID_BRANCH,\n",
    "   c.BALANCE, \n",
    "   d.TX_check,\n",
    "   d.TOTAL_AMOUNT_check,\n",
    "   c.dso_deposit_day,\n",
    "   d.installation_date,\n",
    "   CAST(DATE_FORMAT(a.DATE_RECEIVER, '%Y-%m-%d') AS DATE); ''', conn)"
   ]
  },
  {
   "cell_type": "code",
   "execution_count": 6,
   "id": "3c7a0522-e39e-4fe2-9f8e-89e85fbda408",
   "metadata": {},
   "outputs": [
    {
     "data": {
      "text/html": [
       "<div>\n",
       "<style scoped>\n",
       "    .dataframe tbody tr th:only-of-type {\n",
       "        vertical-align: middle;\n",
       "    }\n",
       "\n",
       "    .dataframe tbody tr th {\n",
       "        vertical-align: top;\n",
       "    }\n",
       "\n",
       "    .dataframe thead th {\n",
       "        text-align: right;\n",
       "    }\n",
       "</style>\n",
       "<table border=\"1\" class=\"dataframe\">\n",
       "  <thead>\n",
       "    <tr style=\"text-align: right;\">\n",
       "      <th></th>\n",
       "      <th>AGENCY</th>\n",
       "      <th>ID_GROUP_COMPANY</th>\n",
       "      <th>ID_BRANCH</th>\n",
       "      <th>DATE</th>\n",
       "      <th>TX</th>\n",
       "      <th>AMOUNT</th>\n",
       "      <th>BALANCE</th>\n",
       "      <th>TX_check</th>\n",
       "      <th>TOTAL_AMOUNT_check</th>\n",
       "      <th>DSO_DEPO_DAY</th>\n",
       "      <th>START_DATE</th>\n",
       "    </tr>\n",
       "  </thead>\n",
       "  <tbody>\n",
       "    <tr>\n",
       "      <th>0</th>\n",
       "      <td>CA4507</td>\n",
       "      <td>USA011899</td>\n",
       "      <td>A24704</td>\n",
       "      <td>2023-10-30</td>\n",
       "      <td>1</td>\n",
       "      <td>90.00</td>\n",
       "      <td>9800.0000</td>\n",
       "      <td>0</td>\n",
       "      <td>0.0</td>\n",
       "      <td>0.0</td>\n",
       "      <td>2023-06-20</td>\n",
       "    </tr>\n",
       "    <tr>\n",
       "      <th>1</th>\n",
       "      <td>TX1320</td>\n",
       "      <td>USA019463</td>\n",
       "      <td>A23417</td>\n",
       "      <td>2023-05-20</td>\n",
       "      <td>4</td>\n",
       "      <td>990.00</td>\n",
       "      <td>3456.5500</td>\n",
       "      <td>0</td>\n",
       "      <td>0.0</td>\n",
       "      <td>NaN</td>\n",
       "      <td>2022-10-25</td>\n",
       "    </tr>\n",
       "    <tr>\n",
       "      <th>2</th>\n",
       "      <td>CA3461</td>\n",
       "      <td>USA016308</td>\n",
       "      <td>A18631</td>\n",
       "      <td>2023-05-13</td>\n",
       "      <td>17</td>\n",
       "      <td>9393.15</td>\n",
       "      <td>5635.0767</td>\n",
       "      <td>0</td>\n",
       "      <td>0.0</td>\n",
       "      <td>NaN</td>\n",
       "      <td>2019-11-07</td>\n",
       "    </tr>\n",
       "    <tr>\n",
       "      <th>3</th>\n",
       "      <td>WA0244</td>\n",
       "      <td>USA016298</td>\n",
       "      <td>A18616</td>\n",
       "      <td>2023-06-23</td>\n",
       "      <td>1</td>\n",
       "      <td>250.00</td>\n",
       "      <td>3518.1303</td>\n",
       "      <td>0</td>\n",
       "      <td>0.0</td>\n",
       "      <td>0.0</td>\n",
       "      <td>2019-11-22</td>\n",
       "    </tr>\n",
       "    <tr>\n",
       "      <th>4</th>\n",
       "      <td>NJ1155</td>\n",
       "      <td>USA020676</td>\n",
       "      <td>A25231</td>\n",
       "      <td>2023-12-11</td>\n",
       "      <td>21</td>\n",
       "      <td>8428.00</td>\n",
       "      <td>13748.2492</td>\n",
       "      <td>0</td>\n",
       "      <td>0.0</td>\n",
       "      <td>3.0</td>\n",
       "      <td>2019-12-18</td>\n",
       "    </tr>\n",
       "  </tbody>\n",
       "</table>\n",
       "</div>"
      ],
      "text/plain": [
       "   AGENCY ID_GROUP_COMPANY ID_BRANCH        DATE  TX   AMOUNT     BALANCE  \\\n",
       "0  CA4507        USA011899    A24704  2023-10-30   1    90.00   9800.0000   \n",
       "1  TX1320        USA019463    A23417  2023-05-20   4   990.00   3456.5500   \n",
       "2  CA3461        USA016308    A18631  2023-05-13  17  9393.15   5635.0767   \n",
       "3  WA0244        USA016298    A18616  2023-06-23   1   250.00   3518.1303   \n",
       "4  NJ1155        USA020676    A25231  2023-12-11  21  8428.00  13748.2492   \n",
       "\n",
       "   TX_check  TOTAL_AMOUNT_check  DSO_DEPO_DAY  START_DATE  \n",
       "0         0                 0.0           0.0  2023-06-20  \n",
       "1         0                 0.0           NaN  2022-10-25  \n",
       "2         0                 0.0           NaN  2019-11-07  \n",
       "3         0                 0.0           0.0  2019-11-22  \n",
       "4         0                 0.0           3.0  2019-12-18  "
      ]
     },
     "execution_count": 6,
     "metadata": {},
     "output_type": "execute_result"
    }
   ],
   "source": [
    "df.head()"
   ]
  },
  {
   "cell_type": "markdown",
   "id": "dad25da5-a02b-4332-aa4f-356e950cb808",
   "metadata": {},
   "source": [
    "### Query money orders (MO)"
   ]
  },
  {
   "cell_type": "code",
   "execution_count": 8,
   "id": "e3401627-31ea-4099-ace9-c43f9a9aa76d",
   "metadata": {},
   "outputs": [
    {
     "name": "stderr",
     "output_type": "stream",
     "text": [
      "/tmp/ipykernel_21/3879106591.py:8: UserWarning: pandas only supports SQLAlchemy connectable (engine/connection) or database string URI or sqlite3 DBAPI2 connection. Other DBAPI2 objects are not tested. Please consider using SQLAlchemy.\n",
      "  MO = pd.read_sql('''SELECT\n"
     ]
    }
   ],
   "source": [
    "# DB Setting\n",
    "bucket_name = 's3://viamericas-datalake-dev-us-east-1-283731589572-athena/'\n",
    "\n",
    "#Connection\n",
    "conn = connect(s3_staging_dir=f'{bucket_name}queryresults/',\n",
    "               region_name='us-east-1')\n",
    "\n",
    "MO = pd.read_sql('''SELECT\n",
    "   CAST(DATE_FORMAT(a.TRANSACTION_DATE, '%Y-%m-%d') AS DATE) AS DATE,\n",
    "   COUNT(DISTINCT a.ID_MONEYORDERS_SALES) AS TX_MO,\n",
    "   SUM(a.AMOUNT) AS TOTAL_AMOUNT_MO,\n",
    "   r.id_branch as ID_BRANCH\n",
    "FROM\n",
    "   AwsDataCatalog.viamericas.vcw_moneyorders_sales a\n",
    "   LEFT JOIN AwsDataCatalog.viamericas.branch b ON b.ID_BRANCH = a.id_branch\n",
    "   LEFT JOIN AwsDataCatalog.viamericas.branch_agent f ON f.id_branch =b.id_branch\n",
    "   LEFT JOIN AwsDataCatalog.viamericas.chain g ON g.id_chain =b.id_chain\n",
    "   LEFT JOIN AwsDataCatalog.viamericas.BUDGET_LOCATIONS_INCLUDED h ON h.id_location =b.id_location\n",
    "   LEFT JOIN AwsDataCatalog.analytics.location_branch_reference r ON r.id_branch = b.id_branch\n",
    "WHERE\n",
    "   NOT (b.ID_MAIN_BRANCH LIKE 'M%')\n",
    "   AND NOT (a.id_branch LIKE 'T%')\n",
    "   AND b.id_flag_branch = 'A'\n",
    "   AND DATE_FORMAT(TRANSACTION_DATE, '%Y-%m') > '2022-12' AND DATE_FORMAT(TRANSACTION_DATE, '%Y-%m') < '2024-02' \n",
    "   AND  NOT r.id_location = 'NULL'\n",
    "   AND b.name_branch not like '%DUMMY%'\n",
    " GROUP BY\n",
    "   CAST(DATE_FORMAT(a.TRANSACTION_DATE, '%Y-%m-%d') AS DATE),\n",
    "   r.id_branch\n",
    "  ORDER BY \n",
    "   DATE;''', conn)"
   ]
  },
  {
   "cell_type": "code",
   "execution_count": 12,
   "id": "ae3741d2-21e0-4a63-b47a-1c614198f1c8",
   "metadata": {},
   "outputs": [],
   "source": [
    "# formateando las fechas\n",
    "MO['DATE'] = pd.to_datetime(MO['DATE'])\n",
    "df['DATE'] = pd.to_datetime(df['DATE'])"
   ]
  },
  {
   "cell_type": "code",
   "execution_count": 13,
   "id": "014ca078-adec-4fe6-b945-41574244fe98",
   "metadata": {},
   "outputs": [],
   "source": [
    "MO['DATE'] = MO['DATE'].dt.strftime('%Y-%m-%d')\n",
    "df['DATE'] = df['DATE'].dt.strftime('%Y-%m-%d')"
   ]
  },
  {
   "cell_type": "code",
   "execution_count": 15,
   "id": "de2de35e-c5b9-42f7-a46c-1777e790fcdc",
   "metadata": {},
   "outputs": [],
   "source": [
    "#Unir las MO\n",
    "merged_df2 = pd.merge(df, MO, on=['DATE', 'ID_BRANCH'], how='outer')"
   ]
  },
  {
   "cell_type": "code",
   "execution_count": 16,
   "id": "41eec9bc-c356-4cb5-b2c8-f44beed75aa6",
   "metadata": {},
   "outputs": [],
   "source": [
    "# eliminar duplicados\n",
    "merged_df2.drop_duplicates(subset=['DATE', 'AGENCY'], inplace = True)"
   ]
  },
  {
   "cell_type": "markdown",
   "id": "66d23516-abed-4950-a285-48cb6b235cf7",
   "metadata": {},
   "source": [
    "### Query defaults"
   ]
  },
  {
   "cell_type": "code",
   "execution_count": null,
   "id": "eae9f32a-d11e-4c7f-b82f-3fbe1daae6e1",
   "metadata": {},
   "outputs": [],
   "source": [
    "# DB Setting\n",
    "bucket_name = 's3://viamericas-datalake-dev-us-east-1-283731589572-athena/'\n",
    "\n",
    "#Connection\n",
    "conn = connect(s3_staging_dir=f'{bucket_name}queryresults/',\n",
    "               region_name='us-east-1')\n",
    "\n",
    "default = pd.read_sql('''WITH Payment_Agreeement as(\n",
    "----------------------------------------------------------------------------------------------\n",
    "--Agencias que han realizado un acuerdo de pago\n",
    "----------------------------------------------------------------------------------------------\n",
    "\tSELECT\n",
    "\t\t\tDISTINCT\n",
    "\t\t\tREPLACE(RTRIM(b.ID_BRANCH),'C','A') AS ID_BRANCH --agencia que realizo el acuerdo\n",
    "\t\t\t,g.DATE_CREA_MAIN_BRANCH AS DATE_START -- Cuando empezo el acuerdo\n",
    "\t\t\t,g.DEBITO_GROUP AS  NEGOTIATED   --De cuanto fue el acuerdo\n",
    "\t\t\t,g.CREDITO_GROUP AS PAID -- Cuanto ha pagado la agencia del acuerdo\n",
    "\t\t\t,g.BALANCE_GROUP AS BALANCE --Banlance del acuerdo\n",
    "\tFROM\t  AwsDataCatalog.viamericas.GROUP_BRANCH g INNER JOIN\n",
    "\t\t\t  AwsDataCatalog.viamericas.BRANCH b ON g.ID_MAIN_BRANCH = b.ID_MAIN_BRANCH\n",
    "\tWHERE\tg.DEBITO_GROUP IS NOT NULL\n",
    "\t\t\tAND b.ID_LOCATION IS NOT NULL\n",
    "\t\t\tAND b.ID_BRANCH LIKE 'C%'\n",
    "            AND g.DATE_CREA_MAIN_BRANCH >= '2022-01-01'\n",
    "\t\t\tAND g.DATE_CREA_MAIN_BRANCH < '2024-02-04'\n",
    "), Audit_Events as(\n",
    "\tSELECT  \n",
    "\t\t\ta.DATE_AUDIT\n",
    "\t\t\t, b.ID_BRANCH\n",
    "\t\t\t, a.OLD_STATUS\n",
    "\t\t\t, a.OLD_FLAG\n",
    "\t\t\t, a.OLD_COMMENT\n",
    "\t\t\t, a.NEW_STATUS\n",
    "\t\t\t, a.NEW_FLAG\n",
    "\t\t\t, a.NEW_COMMENT\n",
    "\t\t\t, a.LAST_INACTIVATION_TYPE\n",
    "\t\t\t, i.DESC_INACTIVATION_TYPE\n",
    "\t\t\t, ROW_NUMBER() OVER(Partition By b.ID_BRANCH Order By b.ID_BRANCH, a.DATE_AUDIT ASC)As RowNum\n",
    "\tFROM\t   AwsDataCatalog.viamericas.AUDIT_BRANCH_STATUS   a WITH   INNER JOIN\n",
    "\t\t\t   AwsDataCatalog.viamericas.INACTIVATION_TYPES   i WITH   ON i.ID_INACTIVATION_TYPE = a. LAST_INACTIVATION_TYPE   INNER JOIN\n",
    "\t\t\tEnvio.  AwsDataCatalog.viamericas.BRANCH AS b WITH   ON a.ID_BRANCH = b.ID_BRANCH INNER JOIN\n",
    "\t\t\t Envio  .   AwsDataCatalog.viamericas.GROUP_BRANCH g ON b.ID_MAIN_BRANCH = g.ID_MAIN_BRANCH\n",
    "\tWHERE\ta. DATE_AUDIT   >= '2023-01-01'\n",
    "\t\t\tAND a. DATE_AUDIT   < '2024-02-04'\n",
    "\t\t\tAND (RTRIM(b.ID_BRANCH) LIKE 'A%')\n",
    "\t\t\tAND b.ID_TYPE_BRANCH = 'R'\n",
    "            \n",
    "\t\t\t--AND b.ID_BRANCH IN('A00152','A00205','A00219','A01626','A01849')\n",
    "\t\t\tAND NOT (b.ID_BRANCH LIKE 'T%')\n",
    "), PAST_DUE_AGENTS AS(\n",
    "----------------------------------------------------------------------------------------------\n",
    "--Agencias que han caido en PAST DUE de mas de 15 dias\n",
    "----------------------------------------------------------------------------------------------\n",
    "SELECT\t\n",
    "\t\tDISTINCT i.ID_BRANCH\n",
    "FROM\tAudit_Events AS i LEFT JOIN\n",
    "\t\tAudit_Events AS a ON i.ID_BRANCH = a.ID_BRANCH AND i.DATE_AUDIT < a.DATE_AUDIT AND a.OLD_FLAG = 'I' AND a. NEW_FLAG   = 'A' AND i.RowNum = a.RowNum - 1 LEFT JOIN\n",
    "\t\tPayment_Agreeement p ON i.ID_BRANCH = p.ID_BRANCH AND CAST(i.DATE_AUDIT AS DATE) >= CAST(p.DATE_START AS DATE)\n",
    "WHERE\ti.OLD_FLAG = 'A'\n",
    "\t\tAND i. NEW_FLAG   = 'I'\n",
    "\t\tAND (  date_diff('day',i. DATE_AUDIT  , ISNULL(a.DATE_AUDIT, GETDATE())) >= 15 OR a.DATE_AUDIT IS NULL)\n",
    "\t\tAND i.LAST_INACTIVATION_TYPE IN(1,3,16)\n",
    "\t\t--AND i.DESC_INACTIVATION_TYPE IN('PAST DUE / BALANCE VENCIDO','BOUNCED / RETORNO','CHAIN PAST DUE / DEUDA EN CADENA'/*,'BUSINESS CLOSED / CIERRE DEL NEGOCIO'*/)\n",
    ")\n",
    "----------------------------------------------------------------------------------------------\n",
    "--historial de inactivaciones de las agencias que han caido en PAST DUE de mas de 15 dias\n",
    "----------------------------------------------------------------------------------------------\n",
    "SELECT\t\n",
    "\t\ti.DATE_AUDIT AS INACTIVATION_DATE\n",
    "\t\t, i.ID_BRANCH\n",
    "\t\t,    AwsDataCatalog.viamericas  . sfGetBranchStatus  (i.ID_BRANCH) AS CURRENT_EXTENDED_STATUS -- Status de la agencia a HOY\n",
    "\t\t, p.DATE_START AS  AGREEMENT_START_DATE   -- FECHA EN LA QUE EMPEZO EL ACUEROD DE PAGO\n",
    "        ,  date_diff('day', p.DATE_START, i. DATE_AUDIT  ) AS  AGREEMENT_DAYS   -- CUANTO DIAS LLEVA EL ACUERDO A LA FECHA DEL EVENTO DE INACTIVACION DE ESTE REGISTRO\n",
    "\t\t, ISNULL(p.BALANCE, 0) AS  AGREEMENT_BALANCE   -- BALANCE A HOY DEL ACUERDO\n",
    "\t\t, ISNULL(p.NEGOTIATED, 0) AS  AGREEMENT_INITIAL_AMOUNT   -- VALOR INICIAL A HOY DEL ACUERDO\n",
    "\t\t, ISNULL(p.PAID, 0) AS  AGREEMENT_PAID   -- LO QUE SE A PAGADO A HOY DEL ACUERDO\n",
    "\t\t, i.OLD_STATUS\n",
    "\t\t, i.OLD_FLAG\n",
    "\t\t, i.OLD_COMMENT\n",
    "\t\t, i.NEW_STATUS\n",
    "\t\t, i.NEW_FLAG\n",
    "\t\t, i.NEW_COMMENT\n",
    "\t\t, i.LAST_INACTIVATION_TYPE\n",
    "\t\t, i.DESC_INACTIVATION_TYPE as DESC_LAST_INACTIVATION_TYPE\n",
    "\t\t, a.DATE_AUDIT as ACTIVATION_DATE\n",
    "\t\t,  date_diff('day',i. DATE_AUDIT  , ISNULL(a.DATE_AUDIT, GETDATE())) AS INACTIVE_DAYS\n",
    "FROM\tAudit_Events AS i INNER JOIN\n",
    "\t\tPAST_DUE_AGENTS pd ON i.ID_BRANCH = pd.ID_BRANCH LEFT JOIN\n",
    "\t\tAudit_Events AS a ON i.ID_BRANCH = a.ID_BRANCH AND i.DATE_AUDIT < a.DATE_AUDIT AND a.OLD_FLAG = 'I' AND a. NEW_FLAG   = 'A' AND i.RowNum = a.RowNum - 1 LEFT JOIN\n",
    "\t\tPayment_Agreeement p ON i.ID_BRANCH = p.ID_BRANCH AND CAST(i.DATE_AUDIT AS DATE) >= CAST(p.DATE_START AS DATE)\n",
    "WHERE\ti.OLD_FLAG = 'A'\n",
    "\t\tAND i. NEW_FLAG   = 'I'\n",
    "ORDER BY i.ID_BRANCH, i.DATE_AUDIT ASC; ''', conn)\n",
    "# correr en sql server los datos no están en athena (ni las funciones custom)"
   ]
  },
  {
   "cell_type": "code",
   "execution_count": null,
   "id": "dfacef82-f6d2-434b-a36c-0a9635212672",
   "metadata": {
    "tags": []
   },
   "outputs": [],
   "source": [
    "# para muestra\n",
    "#default = pd.read_csv('Datos Juan.csv')"
   ]
  },
  {
   "cell_type": "code",
   "execution_count": null,
   "id": "535f8a2f-52ce-4fa3-917e-83a70e6def5e",
   "metadata": {},
   "outputs": [],
   "source": [
    "#quitando los espacios\n",
    "default['ID_BRANCH'] = default['ID_BRANCH'].str.replace(' ','') "
   ]
  },
  {
   "cell_type": "code",
   "execution_count": null,
   "id": "186d0e02-0d52-4902-8408-f9b750e6eb16",
   "metadata": {},
   "outputs": [],
   "source": [
    "df3 = default[default['INACTIVE_DAYS'] > 6] #me quedo con 7 días inactivos en adelante"
   ]
  },
  {
   "cell_type": "code",
   "execution_count": null,
   "id": "b18b70f8-c0de-4467-971f-2889dfa86a17",
   "metadata": {},
   "outputs": [],
   "source": [
    "# genero la variable de dfault\n",
    "df3['DEFAULT'] = 1"
   ]
  },
  {
   "cell_type": "code",
   "execution_count": null,
   "id": "3f492fbb-00f5-4458-9014-cc60433e5c28",
   "metadata": {},
   "outputs": [],
   "source": [
    "df3['DATE'] = pd.to_datetime(df3['INACTIVATION_DATE'])"
   ]
  },
  {
   "cell_type": "code",
   "execution_count": null,
   "id": "5ade02fc-5802-409b-aa02-e007b844e616",
   "metadata": {},
   "outputs": [],
   "source": [
    "#filtro columnas\n",
    "lista =['DATE', 'ID_BRANCH', 'DEFAULT']\n",
    "df3 = df3[lista]"
   ]
  },
  {
   "cell_type": "code",
   "execution_count": null,
   "id": "8f4ff37d-1dd1-46f0-9959-962e5f110be9",
   "metadata": {},
   "outputs": [],
   "source": [
    "# hay que darle el formato '%Y-%m-%d' a la fechas de default!\n",
    "df3['DATE'] = df3['DATE'].dt.strftime('%Y-%m-%d')\n",
    "merged_df2['DATE'] = pd.to_datetime(merged_df2['DATE'])\n",
    "merged_df2['DATE'] = merged_df2['DATE'].dt.strftime('%Y-%m-%d')"
   ]
  },
  {
   "cell_type": "code",
   "execution_count": null,
   "id": "e5973476-57f6-48d9-82e7-9cf6c01229ea",
   "metadata": {},
   "outputs": [],
   "source": [
    "# agregado de casos de default\n",
    "merged_df3 = pd.merge(merged_df2, df3, on=['DATE', 'ID_BRANCH'], how='outer')"
   ]
  },
  {
   "cell_type": "code",
   "execution_count": null,
   "id": "aecc43a2-78f4-462b-ba72-f728ddf55ebf",
   "metadata": {},
   "outputs": [],
   "source": [
    "# descarto duplicados\n",
    "merged_df3.drop_duplicates(subset=['DATE', 'ID_BRANCH'], inplace = True)"
   ]
  },
  {
   "cell_type": "markdown",
   "id": "fa1a747c-2e0c-4c52-939c-3ce9becbdbe1",
   "metadata": {},
   "source": [
    "## Para generar variables que 'miran hacia atrás' hace falta tener para el período analizado todos los días para cada agencia"
   ]
  },
  {
   "cell_type": "code",
   "execution_count": null,
   "id": "37eefff4-8ae8-4171-971a-5cd833562b68",
   "metadata": {},
   "outputs": [],
   "source": [
    "#creo df básico para rellenar con fechas\n",
    "lista =['DATE', 'ID_BRANCH']\n",
    "stump = merged_df3[lista]"
   ]
  },
  {
   "cell_type": "code",
   "execution_count": null,
   "id": "6d71acb4-e08f-4f3f-81fc-887b5e907d64",
   "metadata": {},
   "outputs": [],
   "source": [
    "# versión 3.0 para expandir lo mínimo\n",
    "def fill_missing_dates(df):\n",
    "    # Create an empty DataFrame with the specified date range\n",
    "    date_range = pd.date_range(start=df['DATE'].min(), end=df['DATE'].max())\n",
    "    df_fill = pd.DataFrame({'DATE': date_range})\n",
    "    df_fill['DATE'] = pd.to_datetime(df_fill['DATE']).dt.date\n",
    "\n",
    "    # Sort the original DataFrame by 'AGENCY' and 'DATE'\n",
    "    df = df.sort_values(by=['ID_BRANCH', 'DATE'])\n",
    "\n",
    "    # Create an empty DataFrame to hold the result\n",
    "    result_df = pd.DataFrame()\n",
    "\n",
    "    # Loop through each 'AGENCY'\n",
    "    for agency in df['ID_BRANCH'].unique():\n",
    "        df_aux = df[df['ID_BRANCH'] == agency]\n",
    "        # Combining df_aux (AGENCY) with df_fill, keeping values from df_aux and filling dates, value1, value2 and value3\n",
    "        merged_df = df_aux.set_index('DATE').combine_first(df_fill.set_index('DATE')).reset_index()\n",
    "        \n",
    "    # Fill missing values in 'other_column1', 'other_column2', ... columns\n",
    "        columns_to_fill = ['ID_BRANCH']\n",
    "        merged_df[columns_to_fill] = merged_df[columns_to_fill].ffill().bfill()\n",
    "\n",
    "        result_df = pd.concat([result_df, merged_df], ignore_index=True)\n",
    "\n",
    "    return result_df\n"
   ]
  },
  {
   "cell_type": "code",
   "execution_count": null,
   "id": "fd2cce42-e8f5-47c2-9599-33641d603914",
   "metadata": {},
   "outputs": [],
   "source": [
    "result_df = fill_missing_dates(stump)"
   ]
  },
  {
   "cell_type": "code",
   "execution_count": null,
   "id": "7ba7b437-ccf3-4eb1-9f7e-8633ef724a02",
   "metadata": {},
   "outputs": [],
   "source": []
  },
  {
   "cell_type": "code",
   "execution_count": null,
   "id": "bcdc1ec3-11b8-4df1-a9eb-df56e4272ed0",
   "metadata": {},
   "outputs": [],
   "source": [
    "lista =['DATE', 'ID_BRANCH', 'TX', 'AMOUNT','BALANCE','TX_check','TOTAL_AMOUNT_check','TX_MO','TOTAL_AMOUNT_MO','DSO_DEPO_DAY','DEFAULT']\n",
    "dinamic = merged_df3[lista]"
   ]
  },
  {
   "cell_type": "code",
   "execution_count": null,
   "id": "c25530f9-9668-414a-aa39-6689e11bf220",
   "metadata": {},
   "outputs": [],
   "source": [
    "# agrego variables dinámicas al stumb con todas las fechas\n",
    "merged_df4 = pd.merge(result_df, dinamic, on=['DATE', 'ID_BRANCH'], how='left')"
   ]
  },
  {
   "cell_type": "code",
   "execution_count": null,
   "id": "c85d71a0-5ac8-434c-bb88-711b31c8384a",
   "metadata": {},
   "outputs": [],
   "source": [
    "lista =['ID_BRANCH', 'AGENCY', 'ID_GROUP_COMPANY','START_DATE']\n",
    "static = merged_df3[lista]"
   ]
  },
  {
   "cell_type": "code",
   "execution_count": null,
   "id": "bd733b8d-9f10-4bec-b490-66985a6cc228",
   "metadata": {
    "tags": []
   },
   "outputs": [],
   "source": [
    "static2 = static.drop_duplicates(subset=['ID_BRANCH'])"
   ]
  },
  {
   "cell_type": "code",
   "execution_count": null,
   "id": "4ed2e8f2-a868-42a2-9b15-5706c81be8fc",
   "metadata": {},
   "outputs": [],
   "source": [
    "# sumo las variables estáticas de cada agencia\n",
    "merged_df5 = pd.merge(merged_df4, static2, on=['ID_BRANCH'], how='left')"
   ]
  },
  {
   "cell_type": "code",
   "execution_count": null,
   "id": "a3b885b2-3746-4db9-95f0-a7fa46656cda",
   "metadata": {},
   "outputs": [],
   "source": [
    "# posible punto para guardar lo alcanzado (si la memoria del kernel no lo permite ir uardando en pasos previos)\n",
    "merged_df5.to_csv('default_ABT0.csv', index = False)"
   ]
  },
  {
   "cell_type": "markdown",
   "id": "258ae6fb-2635-4ce1-b9a7-bfe8cbe903eb",
   "metadata": {},
   "source": [
    "# Creación de la target"
   ]
  },
  {
   "cell_type": "code",
   "execution_count": 5,
   "id": "1b166301-037d-4e97-963f-ba12b17a3fb5",
   "metadata": {
    "tags": []
   },
   "outputs": [],
   "source": [
    "df = pd.read_csv('default_ABT0.csv')"
   ]
  },
  {
   "cell_type": "code",
   "execution_count": 6,
   "id": "e1d6912b-2324-4391-aa6e-9565f0e54d18",
   "metadata": {},
   "outputs": [],
   "source": [
    "df['DEFAULT'] = df['DEFAULT'].fillna(0)"
   ]
  },
  {
   "cell_type": "code",
   "execution_count": 7,
   "id": "593b4a0c-cd6e-4f7b-9885-10b15bf6c8d3",
   "metadata": {
    "tags": []
   },
   "outputs": [],
   "source": [
    "# add day of week\n",
    "df['DATE'] = pd.to_datetime(df['DATE'], format='mixed')\n",
    "df['day_of_week'] = df['DATE'].dt.day_name()"
   ]
  },
  {
   "cell_type": "code",
   "execution_count": 8,
   "id": "eb7de5c2-8395-4093-8c94-575fe6b77616",
   "metadata": {
    "tags": []
   },
   "outputs": [],
   "source": [
    "# probar el duplicated para quedarse con los datos buenos\n",
    "df['filtro'] = df.duplicated(subset=['DATE', 'ID_BRANCH'], keep='first')\n"
   ]
  },
  {
   "cell_type": "code",
   "execution_count": null,
   "id": "39d62931-f7b9-4724-ab37-d8aa66a7e02f",
   "metadata": {
    "tags": []
   },
   "outputs": [],
   "source": [
    "d8 = df[df['filtro'] == False]"
   ]
  },
  {
   "cell_type": "code",
   "execution_count": null,
   "id": "39754381-c043-41bb-9649-80c1e9a9073a",
   "metadata": {
    "tags": []
   },
   "outputs": [],
   "source": [
    "# generar una nueva variable para poder limpiar más fácil los duplicados\n",
    "d8['DATE'] = d8['DATE'].dt.strftime('%Y-%m-%d')\n",
    "d8['DATE1'] = d8['DATE'].astype(str)\n",
    "d8['DATE_ID_BRANCH'] = d8['DATE1'] + '_' + d8['ID_BRANCH']"
   ]
  },
  {
   "cell_type": "code",
   "execution_count": null,
   "id": "4db41eb6-1ee6-470c-92d5-9971a2f98185",
   "metadata": {
    "tags": []
   },
   "outputs": [],
   "source": [
    "d8['filtro2'] = d8.duplicated(subset=['DATE_ID_BRANCH'], keep='first')"
   ]
  },
  {
   "cell_type": "code",
   "execution_count": null,
   "id": "11a8ebc9-34f9-497c-8eed-63852a8b3f76",
   "metadata": {
    "tags": []
   },
   "outputs": [],
   "source": [
    "d9 = d8[d8['filtro2'] == False]"
   ]
  },
  {
   "cell_type": "code",
   "execution_count": 13,
   "id": "f1318584-c1d0-4c9c-a302-6bf13f5a6a84",
   "metadata": {
    "tags": []
   },
   "outputs": [],
   "source": [
    "# forma de hacer la target\n",
    "d9=d9.sort_values(by=['ID_BRANCH', 'DATE'])\n",
    "d9['TARGET'] =d9.groupby('ID_BRANCH')['DEFAULT'].shift(-9)\n",
    "# se adelanta el dato de default 9días, saber el lunes si el miercóles de la semana sieguiente la agencia quedará incativa por 7 o más días."
   ]
  },
  {
   "cell_type": "code",
   "execution_count": 14,
   "id": "a07379ba-a046-4ac1-8845-1fe9ebed11a2",
   "metadata": {
    "tags": []
   },
   "outputs": [],
   "source": [
    "# borrar columnas no deseadas\n",
    "lista = ['filtro', 'DATE1', 'DATE_ID_BRANCH', 'filtro2']\n",
    "d9 = d9.drop(lista, axis=1)"
   ]
  },
  {
   "cell_type": "code",
   "execution_count": 15,
   "id": "5fddb4c6-dfbb-4dca-a6df-a5c8c995a0f6",
   "metadata": {
    "tags": []
   },
   "outputs": [],
   "source": [
    "# guardar\n",
    "d9.to_csv('default_ABT1.csv', index = False)"
   ]
  },
  {
   "cell_type": "markdown",
   "id": "bd7462f2-509f-4847-9832-2b1015dc4f9e",
   "metadata": {},
   "source": [
    "# Generar variables que 'miran hacia atrás'"
   ]
  },
  {
   "cell_type": "code",
   "execution_count": 5,
   "id": "84ae9ec5-e408-4344-aca3-a3ef56e22129",
   "metadata": {
    "tags": []
   },
   "outputs": [],
   "source": [
    "df = pd.read_csv('default_ABT1.csv')"
   ]
  },
  {
   "cell_type": "code",
   "execution_count": 6,
   "id": "66ff4402-6110-4613-8756-aa1d7bb54966",
   "metadata": {
    "tags": []
   },
   "outputs": [],
   "source": [
    "df['DATE'] = pd.to_datetime(df['DATE'])"
   ]
  },
  {
   "cell_type": "code",
   "execution_count": 7,
   "id": "dcad1e5f-6a58-4054-a4c8-e6b98b5bcec7",
   "metadata": {
    "tags": []
   },
   "outputs": [],
   "source": [
    "#sort values adecuado para todos los calculos hacia atrás!\n",
    "df=df.sort_values(by=['ID_BRANCH', 'DATE'])"
   ]
  },
  {
   "cell_type": "code",
   "execution_count": null,
   "id": "a2d5ce82-5c4f-46a8-b928-820cca37544e",
   "metadata": {
    "tags": []
   },
   "outputs": [],
   "source": [
    "def calculate_rolling_means(df, columns, window):\n",
    "    # Create an empty DataFrame to hold the results\n",
    "    result_df = pd.DataFrame()\n",
    "\n",
    "    # Loop through each column in the list of columns\n",
    "    for column in columns:\n",
    "        # Calculate the rolling mean for the current column\n",
    "        rolling_mean = df.set_index('DATE').groupby('ID_BRANCH', sort=False)[column].rolling(window).mean().round(2).to_numpy()\n",
    "\n",
    "        # Add the rolling mean to the result DataFrame\n",
    "        result_df[f'roll_mean_{window}_{column}'] = rolling_mean\n",
    "\n",
    "    # Concatenate the original DataFrame with the result DataFrame\n",
    "    result_df = pd.concat([df, result_df], axis=1)\n",
    "\n",
    "    return result_df\n"
   ]
  },
  {
   "cell_type": "code",
   "execution_count": 10,
   "id": "4de68dac-fc7e-4a8b-afd2-8298b80092e3",
   "metadata": {
    "tags": []
   },
   "outputs": [],
   "source": [
    "df = calculate_rolling_means(df, [\"AMOUNT\", \"BALANCE\", \"TOTAL_AMOUNT_MO\", \"TOTAL_AMOUNT_check\", 'TX', 'TX_MO', 'TX_check'], 30)#'30D')\n",
    "df = calculate_rolling_means(df, [\"AMOUNT\", \"BALANCE\", \"TOTAL_AMOUNT_MO\", \"TOTAL_AMOUNT_check\", 'TX', 'TX_MO', 'TX_check'], 7)#'7D')"
   ]
  },
  {
   "cell_type": "code",
   "execution_count": null,
   "id": "f42c3712-9f3d-4f5a-8755-ce7467f5f94b",
   "metadata": {
    "tags": []
   },
   "outputs": [],
   "source": [
    "def calculate_rolling_max(df, columns, window):\n",
    "    # Create an empty DataFrame to hold the results\n",
    "    result_df = pd.DataFrame()\n",
    "\n",
    "    # Loop through each column in the list of columns\n",
    "    for column in columns:\n",
    "        # Calculate the rolling mean for the current column\n",
    "        rolling_mean = df.set_index('DATE').groupby('ID_BRANCH', sort=False)[column].rolling(window).max().to_numpy()\n",
    "\n",
    "        # Add the rolling mean to the result DataFrame\n",
    "        result_df[f'roll_max_{window}_{column}'] = rolling_mean\n",
    "\n",
    "    # Concatenate the original DataFrame with the result DataFrame\n",
    "    result_df = pd.concat([df, result_df], axis=1)\n",
    "\n",
    "    return result_df"
   ]
  },
  {
   "cell_type": "code",
   "execution_count": 12,
   "id": "821dc38a-e4c5-432b-a7a0-b60d3422b9cc",
   "metadata": {
    "tags": []
   },
   "outputs": [],
   "source": [
    "df = calculate_rolling_max(df, [\"AMOUNT\", \"BALANCE\", \"TOTAL_AMOUNT_MO\", \"TOTAL_AMOUNT_check\", 'TX', 'TX_MO', 'TX_check'],  7)#'7D')\n",
    "df = calculate_rolling_max(df, [\"AMOUNT\", \"BALANCE\", \"TOTAL_AMOUNT_MO\", \"TOTAL_AMOUNT_check\", 'TX', 'TX_MO', 'TX_check'], 30)#'30D')"
   ]
  },
  {
   "cell_type": "code",
   "execution_count": null,
   "id": "8a479b2d-f2e5-4f0c-a570-ccd0d7e754c3",
   "metadata": {
    "tags": []
   },
   "outputs": [],
   "source": [
    "\n",
    "def calculate_lag(df, columns, window):\n",
    "    # Create an empty DataFrame to hold the results\n",
    "    result_df = pd.DataFrame()\n",
    "\n",
    "    # Loop through each column in the list of columns\n",
    "    for column in columns:\n",
    "        # Calculate the rolling mean for the current column\n",
    "        rolling_mean = df.set_index('DATE').groupby('ID_BRANCH', sort=False)[column].shift(window).to_numpy()\n",
    "\n",
    "        # Add the rolling mean to the result DataFrame\n",
    "        result_df[f'lag_{window}_{column}'] = rolling_mean\n",
    "\n",
    "    # Concatenate the original DataFrame with the result DataFrame\n",
    "    result_df = pd.concat([df, result_df], axis=1)\n",
    "\n",
    "    return result_df"
   ]
  },
  {
   "cell_type": "code",
   "execution_count": 14,
   "id": "0592627e-47da-4a97-8147-b2dd33904589",
   "metadata": {
    "tags": []
   },
   "outputs": [],
   "source": [
    "df = calculate_lag(df, [\"AMOUNT\", \"BALANCE\", \"TOTAL_AMOUNT_MO\", \"TOTAL_AMOUNT_check\", 'TX', 'TX_MO', 'TX_check', 'DEFAULT'], 1)"
   ]
  },
  {
   "cell_type": "code",
   "execution_count": 16,
   "id": "6dbe8fdf-897e-46f1-9a99-ea40c42e934f",
   "metadata": {
    "tags": []
   },
   "outputs": [],
   "source": [
    "df = calculate_lag(df, [\"AMOUNT\", \"BALANCE\", \"TOTAL_AMOUNT_MO\", \"TOTAL_AMOUNT_check\", 'TX', 'TX_MO', 'TX_check', 'DEFAULT'], 2)\n",
    "df = calculate_lag(df, [\"AMOUNT\", \"BALANCE\", \"TOTAL_AMOUNT_MO\", \"TOTAL_AMOUNT_check\", 'TX', 'TX_MO', 'TX_check'], 7)\n",
    "df = calculate_lag(df, [\"AMOUNT\", \"BALANCE\", \"TOTAL_AMOUNT_MO\", \"TOTAL_AMOUNT_check\", 'TX', 'TX_MO', 'TX_check', 'DEFAULT'], 30)"
   ]
  },
  {
   "cell_type": "code",
   "execution_count": null,
   "id": "ca0669dd-8792-453e-9f8a-83444c8d029e",
   "metadata": {
    "tags": []
   },
   "outputs": [],
   "source": [
    "def calculate_rolling_sum(df, columns, window):\n",
    "    # Create an empty DataFrame to hold the results\n",
    "    result_df = pd.DataFrame()\n",
    "\n",
    "    # Loop through each column in the list of columns\n",
    "    for column in columns:\n",
    "        # Calculate the rolling mean for the current column\n",
    "        rolling_mean = df.set_index('DATE').groupby('ID_BRANCH', sort=False)[column].rolling(window).sum().to_numpy()\n",
    "\n",
    "        # Add the rolling mean to the result DataFrame\n",
    "        result_df[f'roll_sum_{window}_{column}'] = rolling_mean\n",
    "\n",
    "    # Concatenate the original DataFrame with the result DataFrame\n",
    "    result_df = pd.concat([df, result_df], axis=1)\n",
    "\n",
    "    return result_df"
   ]
  },
  {
   "cell_type": "code",
   "execution_count": 18,
   "id": "b7af81c4-7b1c-48db-b3af-b1459b29b9e6",
   "metadata": {
    "tags": []
   },
   "outputs": [],
   "source": [
    "df = calculate_rolling_sum(df, [\"AMOUNT\", \"BALANCE\", \"TOTAL_AMOUNT_MO\", \"TOTAL_AMOUNT_check\", 'TX', 'TX_MO', 'TX_check'], 7)\n",
    "df = calculate_rolling_sum(df, [\"AMOUNT\", \"BALANCE\", \"TOTAL_AMOUNT_MO\", \"TOTAL_AMOUNT_check\", 'TX', 'TX_MO', 'TX_check'], 30)\n",
    "df = calculate_rolling_sum(df, [\"AMOUNT\", \"BALANCE\", \"TOTAL_AMOUNT_MO\", \"TOTAL_AMOUNT_check\", 'TX', 'TX_MO', 'TX_check'], 60)"
   ]
  },
  {
   "cell_type": "code",
   "execution_count": 19,
   "id": "395bd0c2-c53b-4d81-ad56-7852e2916d5b",
   "metadata": {
    "tags": []
   },
   "outputs": [
    {
     "data": {
      "text/plain": [
       "Index(['DATE', 'ID_BRANCH', 'TX', 'AMOUNT', 'BALANCE', 'TX_check',\n",
       "       'TOTAL_AMOUNT_check', 'TX_MO', 'TOTAL_AMOUNT_MO', 'DSO_DEPO_DAY',\n",
       "       ...\n",
       "       'roll_sum_30_TX_check', 'roll_sum_30_DEFAULT', 'roll_sum_60_AMOUNT',\n",
       "       'roll_sum_60_BALANCE', 'roll_sum_60_TOTAL_AMOUNT_MO',\n",
       "       'roll_sum_60_TOTAL_AMOUNT_check', 'roll_sum_60_TX', 'roll_sum_60_TX_MO',\n",
       "       'roll_sum_60_TX_check', 'roll_sum_60_DEFAULT'],\n",
       "      dtype='object', length=105)"
      ]
     },
     "execution_count": 19,
     "metadata": {},
     "output_type": "execute_result"
    }
   ],
   "source": [
    "df.columns"
   ]
  },
  {
   "cell_type": "markdown",
   "id": "afa7e17b-eaa0-4bc9-ab74-9fb80ed8647d",
   "metadata": {},
   "source": [
    "## Calcular antigüedad"
   ]
  },
  {
   "cell_type": "code",
   "execution_count": 26,
   "id": "903dacaa-f582-466e-b787-dc73bae58c2a",
   "metadata": {
    "tags": []
   },
   "outputs": [],
   "source": [
    "df['DATE'] = pd.to_datetime(df['DATE'])\n",
    "df['START_DATE'] = pd.to_datetime(df['START_DATE'])"
   ]
  },
  {
   "cell_type": "code",
   "execution_count": 27,
   "id": "263e96ba-e185-47a6-9a00-78e8e00b2c8b",
   "metadata": {
    "tags": []
   },
   "outputs": [
    {
     "data": {
      "text/plain": [
       "DATE                              datetime64[ns]\n",
       "ID_BRANCH                                 object\n",
       "TX                                       float64\n",
       "AMOUNT                                   float64\n",
       "BALANCE                                  float64\n",
       "                                       ...      \n",
       "roll_sum_60_TOTAL_AMOUNT_check           float64\n",
       "roll_sum_60_TX                           float64\n",
       "roll_sum_60_TX_MO                        float64\n",
       "roll_sum_60_TX_check                     float64\n",
       "roll_sum_60_DEFAULT                      float64\n",
       "Length: 105, dtype: object"
      ]
     },
     "execution_count": 27,
     "metadata": {},
     "output_type": "execute_result"
    }
   ],
   "source": [
    "df.dtypes"
   ]
  },
  {
   "cell_type": "code",
   "execution_count": 30,
   "id": "e85047cb-cdaa-4eca-8cf7-1c8fbc8bf934",
   "metadata": {
    "tags": []
   },
   "outputs": [],
   "source": [
    "df['ANTIGUEDAD_d'] = (df['DATE'] - df['START_DATE']) / np.timedelta64(1, 'D')\n",
    "#df['ANTIGUEDAD_w'] = (df['DATE'] - df['START_DATE']) / np.timedelta64(1, 'W')\n",
    "#df['ANTIGUEDAD_m'] = (df['DATE'] - df['START_DATE']) / np.timedelta64(1, 'M')"
   ]
  },
  {
   "cell_type": "code",
   "execution_count": 31,
   "id": "b37f1daf-8044-4621-b628-57f4d5debda9",
   "metadata": {
    "tags": []
   },
   "outputs": [],
   "source": [
    "df['DATE'] = df['DATE'].dt.strftime('%Y-%m-%d')\n",
    "df['START_DATE'] = df['START_DATE'].dt.strftime('%Y-%m-%d')"
   ]
  },
  {
   "cell_type": "code",
   "execution_count": 19,
   "id": "254c5e1c-fba3-4d04-9327-fa46c90ff2fe",
   "metadata": {
    "tags": []
   },
   "outputs": [],
   "source": [
    "df.to_csv('default_ABT2.csv', index = False)"
   ]
  },
  {
   "cell_type": "code",
   "execution_count": null,
   "id": "9a6adc79-408c-4182-87ab-021f1810ba2c",
   "metadata": {},
   "outputs": [],
   "source": []
  },
  {
   "cell_type": "code",
   "execution_count": null,
   "id": "1a452084-215e-46ec-abac-6efd0eb0222e",
   "metadata": {},
   "outputs": [],
   "source": []
  },
  {
   "cell_type": "code",
   "execution_count": null,
   "id": "4ad2acbb-7ce8-45ca-bc91-ada5ce364439",
   "metadata": {},
   "outputs": [],
   "source": []
  },
  {
   "cell_type": "code",
   "execution_count": null,
   "id": "31ab6184-3371-4201-86e8-48e9ddf420ed",
   "metadata": {},
   "outputs": [],
   "source": []
  },
  {
   "cell_type": "code",
   "execution_count": null,
   "id": "38927fb9-cf35-42f2-8ffc-edb369a2fb70",
   "metadata": {},
   "outputs": [],
   "source": []
  },
  {
   "cell_type": "code",
   "execution_count": null,
   "id": "74026bc4-60db-48d3-a3d1-217296f3655e",
   "metadata": {},
   "outputs": [],
   "source": []
  },
  {
   "cell_type": "code",
   "execution_count": null,
   "id": "a1c886b4-384e-4b1f-95a8-085acf99f8b1",
   "metadata": {},
   "outputs": [],
   "source": []
  },
  {
   "cell_type": "code",
   "execution_count": null,
   "id": "9404f7c1-2b08-4216-8f43-03270dac501a",
   "metadata": {},
   "outputs": [],
   "source": []
  },
  {
   "cell_type": "code",
   "execution_count": null,
   "id": "99489c8d-3c1e-49c8-b86e-5ef93950afc9",
   "metadata": {},
   "outputs": [],
   "source": []
  },
  {
   "cell_type": "code",
   "execution_count": null,
   "id": "0fd4f42a-e9ea-45af-9abc-9c9f3d2e38fe",
   "metadata": {},
   "outputs": [],
   "source": []
  },
  {
   "cell_type": "code",
   "execution_count": null,
   "id": "9b2c6aca-0261-4ef3-b498-bf9fa9d31656",
   "metadata": {},
   "outputs": [],
   "source": []
  },
  {
   "cell_type": "code",
   "execution_count": null,
   "id": "276145d9-b3df-4837-a9de-fd605e20d9db",
   "metadata": {},
   "outputs": [],
   "source": []
  },
  {
   "cell_type": "code",
   "execution_count": null,
   "id": "908ed760-e88a-48f7-8cb6-cfe73d85450d",
   "metadata": {},
   "outputs": [],
   "source": []
  },
  {
   "cell_type": "code",
   "execution_count": null,
   "id": "acdd773c-d25d-4e80-ba23-1083304f0373",
   "metadata": {},
   "outputs": [],
   "source": []
  },
  {
   "cell_type": "code",
   "execution_count": null,
   "id": "2d1b54a0-9a95-4a77-97a1-126c716d3513",
   "metadata": {},
   "outputs": [],
   "source": []
  },
  {
   "cell_type": "code",
   "execution_count": null,
   "id": "9fcea8fe-0882-4dd9-9629-7e82b48a94dc",
   "metadata": {},
   "outputs": [],
   "source": []
  }
 ],
 "metadata": {
  "availableInstances": [
   {
    "_defaultOrder": 0,
    "_isFastLaunch": true,
    "category": "General purpose",
    "gpuNum": 0,
    "hideHardwareSpecs": false,
    "memoryGiB": 4,
    "name": "ml.t3.medium",
    "vcpuNum": 2
   },
   {
    "_defaultOrder": 1,
    "_isFastLaunch": false,
    "category": "General purpose",
    "gpuNum": 0,
    "hideHardwareSpecs": false,
    "memoryGiB": 8,
    "name": "ml.t3.large",
    "vcpuNum": 2
   },
   {
    "_defaultOrder": 2,
    "_isFastLaunch": false,
    "category": "General purpose",
    "gpuNum": 0,
    "hideHardwareSpecs": false,
    "memoryGiB": 16,
    "name": "ml.t3.xlarge",
    "vcpuNum": 4
   },
   {
    "_defaultOrder": 3,
    "_isFastLaunch": false,
    "category": "General purpose",
    "gpuNum": 0,
    "hideHardwareSpecs": false,
    "memoryGiB": 32,
    "name": "ml.t3.2xlarge",
    "vcpuNum": 8
   },
   {
    "_defaultOrder": 4,
    "_isFastLaunch": true,
    "category": "General purpose",
    "gpuNum": 0,
    "hideHardwareSpecs": false,
    "memoryGiB": 8,
    "name": "ml.m5.large",
    "vcpuNum": 2
   },
   {
    "_defaultOrder": 5,
    "_isFastLaunch": false,
    "category": "General purpose",
    "gpuNum": 0,
    "hideHardwareSpecs": false,
    "memoryGiB": 16,
    "name": "ml.m5.xlarge",
    "vcpuNum": 4
   },
   {
    "_defaultOrder": 6,
    "_isFastLaunch": false,
    "category": "General purpose",
    "gpuNum": 0,
    "hideHardwareSpecs": false,
    "memoryGiB": 32,
    "name": "ml.m5.2xlarge",
    "vcpuNum": 8
   },
   {
    "_defaultOrder": 7,
    "_isFastLaunch": false,
    "category": "General purpose",
    "gpuNum": 0,
    "hideHardwareSpecs": false,
    "memoryGiB": 64,
    "name": "ml.m5.4xlarge",
    "vcpuNum": 16
   },
   {
    "_defaultOrder": 8,
    "_isFastLaunch": false,
    "category": "General purpose",
    "gpuNum": 0,
    "hideHardwareSpecs": false,
    "memoryGiB": 128,
    "name": "ml.m5.8xlarge",
    "vcpuNum": 32
   },
   {
    "_defaultOrder": 9,
    "_isFastLaunch": false,
    "category": "General purpose",
    "gpuNum": 0,
    "hideHardwareSpecs": false,
    "memoryGiB": 192,
    "name": "ml.m5.12xlarge",
    "vcpuNum": 48
   },
   {
    "_defaultOrder": 10,
    "_isFastLaunch": false,
    "category": "General purpose",
    "gpuNum": 0,
    "hideHardwareSpecs": false,
    "memoryGiB": 256,
    "name": "ml.m5.16xlarge",
    "vcpuNum": 64
   },
   {
    "_defaultOrder": 11,
    "_isFastLaunch": false,
    "category": "General purpose",
    "gpuNum": 0,
    "hideHardwareSpecs": false,
    "memoryGiB": 384,
    "name": "ml.m5.24xlarge",
    "vcpuNum": 96
   },
   {
    "_defaultOrder": 12,
    "_isFastLaunch": false,
    "category": "General purpose",
    "gpuNum": 0,
    "hideHardwareSpecs": false,
    "memoryGiB": 8,
    "name": "ml.m5d.large",
    "vcpuNum": 2
   },
   {
    "_defaultOrder": 13,
    "_isFastLaunch": false,
    "category": "General purpose",
    "gpuNum": 0,
    "hideHardwareSpecs": false,
    "memoryGiB": 16,
    "name": "ml.m5d.xlarge",
    "vcpuNum": 4
   },
   {
    "_defaultOrder": 14,
    "_isFastLaunch": false,
    "category": "General purpose",
    "gpuNum": 0,
    "hideHardwareSpecs": false,
    "memoryGiB": 32,
    "name": "ml.m5d.2xlarge",
    "vcpuNum": 8
   },
   {
    "_defaultOrder": 15,
    "_isFastLaunch": false,
    "category": "General purpose",
    "gpuNum": 0,
    "hideHardwareSpecs": false,
    "memoryGiB": 64,
    "name": "ml.m5d.4xlarge",
    "vcpuNum": 16
   },
   {
    "_defaultOrder": 16,
    "_isFastLaunch": false,
    "category": "General purpose",
    "gpuNum": 0,
    "hideHardwareSpecs": false,
    "memoryGiB": 128,
    "name": "ml.m5d.8xlarge",
    "vcpuNum": 32
   },
   {
    "_defaultOrder": 17,
    "_isFastLaunch": false,
    "category": "General purpose",
    "gpuNum": 0,
    "hideHardwareSpecs": false,
    "memoryGiB": 192,
    "name": "ml.m5d.12xlarge",
    "vcpuNum": 48
   },
   {
    "_defaultOrder": 18,
    "_isFastLaunch": false,
    "category": "General purpose",
    "gpuNum": 0,
    "hideHardwareSpecs": false,
    "memoryGiB": 256,
    "name": "ml.m5d.16xlarge",
    "vcpuNum": 64
   },
   {
    "_defaultOrder": 19,
    "_isFastLaunch": false,
    "category": "General purpose",
    "gpuNum": 0,
    "hideHardwareSpecs": false,
    "memoryGiB": 384,
    "name": "ml.m5d.24xlarge",
    "vcpuNum": 96
   },
   {
    "_defaultOrder": 20,
    "_isFastLaunch": false,
    "category": "General purpose",
    "gpuNum": 0,
    "hideHardwareSpecs": true,
    "memoryGiB": 0,
    "name": "ml.geospatial.interactive",
    "supportedImageNames": [
     "sagemaker-geospatial-v1-0"
    ],
    "vcpuNum": 0
   },
   {
    "_defaultOrder": 21,
    "_isFastLaunch": true,
    "category": "Compute optimized",
    "gpuNum": 0,
    "hideHardwareSpecs": false,
    "memoryGiB": 4,
    "name": "ml.c5.large",
    "vcpuNum": 2
   },
   {
    "_defaultOrder": 22,
    "_isFastLaunch": false,
    "category": "Compute optimized",
    "gpuNum": 0,
    "hideHardwareSpecs": false,
    "memoryGiB": 8,
    "name": "ml.c5.xlarge",
    "vcpuNum": 4
   },
   {
    "_defaultOrder": 23,
    "_isFastLaunch": false,
    "category": "Compute optimized",
    "gpuNum": 0,
    "hideHardwareSpecs": false,
    "memoryGiB": 16,
    "name": "ml.c5.2xlarge",
    "vcpuNum": 8
   },
   {
    "_defaultOrder": 24,
    "_isFastLaunch": false,
    "category": "Compute optimized",
    "gpuNum": 0,
    "hideHardwareSpecs": false,
    "memoryGiB": 32,
    "name": "ml.c5.4xlarge",
    "vcpuNum": 16
   },
   {
    "_defaultOrder": 25,
    "_isFastLaunch": false,
    "category": "Compute optimized",
    "gpuNum": 0,
    "hideHardwareSpecs": false,
    "memoryGiB": 72,
    "name": "ml.c5.9xlarge",
    "vcpuNum": 36
   },
   {
    "_defaultOrder": 26,
    "_isFastLaunch": false,
    "category": "Compute optimized",
    "gpuNum": 0,
    "hideHardwareSpecs": false,
    "memoryGiB": 96,
    "name": "ml.c5.12xlarge",
    "vcpuNum": 48
   },
   {
    "_defaultOrder": 27,
    "_isFastLaunch": false,
    "category": "Compute optimized",
    "gpuNum": 0,
    "hideHardwareSpecs": false,
    "memoryGiB": 144,
    "name": "ml.c5.18xlarge",
    "vcpuNum": 72
   },
   {
    "_defaultOrder": 28,
    "_isFastLaunch": false,
    "category": "Compute optimized",
    "gpuNum": 0,
    "hideHardwareSpecs": false,
    "memoryGiB": 192,
    "name": "ml.c5.24xlarge",
    "vcpuNum": 96
   },
   {
    "_defaultOrder": 29,
    "_isFastLaunch": true,
    "category": "Accelerated computing",
    "gpuNum": 1,
    "hideHardwareSpecs": false,
    "memoryGiB": 16,
    "name": "ml.g4dn.xlarge",
    "vcpuNum": 4
   },
   {
    "_defaultOrder": 30,
    "_isFastLaunch": false,
    "category": "Accelerated computing",
    "gpuNum": 1,
    "hideHardwareSpecs": false,
    "memoryGiB": 32,
    "name": "ml.g4dn.2xlarge",
    "vcpuNum": 8
   },
   {
    "_defaultOrder": 31,
    "_isFastLaunch": false,
    "category": "Accelerated computing",
    "gpuNum": 1,
    "hideHardwareSpecs": false,
    "memoryGiB": 64,
    "name": "ml.g4dn.4xlarge",
    "vcpuNum": 16
   },
   {
    "_defaultOrder": 32,
    "_isFastLaunch": false,
    "category": "Accelerated computing",
    "gpuNum": 1,
    "hideHardwareSpecs": false,
    "memoryGiB": 128,
    "name": "ml.g4dn.8xlarge",
    "vcpuNum": 32
   },
   {
    "_defaultOrder": 33,
    "_isFastLaunch": false,
    "category": "Accelerated computing",
    "gpuNum": 4,
    "hideHardwareSpecs": false,
    "memoryGiB": 192,
    "name": "ml.g4dn.12xlarge",
    "vcpuNum": 48
   },
   {
    "_defaultOrder": 34,
    "_isFastLaunch": false,
    "category": "Accelerated computing",
    "gpuNum": 1,
    "hideHardwareSpecs": false,
    "memoryGiB": 256,
    "name": "ml.g4dn.16xlarge",
    "vcpuNum": 64
   },
   {
    "_defaultOrder": 35,
    "_isFastLaunch": false,
    "category": "Accelerated computing",
    "gpuNum": 1,
    "hideHardwareSpecs": false,
    "memoryGiB": 61,
    "name": "ml.p3.2xlarge",
    "vcpuNum": 8
   },
   {
    "_defaultOrder": 36,
    "_isFastLaunch": false,
    "category": "Accelerated computing",
    "gpuNum": 4,
    "hideHardwareSpecs": false,
    "memoryGiB": 244,
    "name": "ml.p3.8xlarge",
    "vcpuNum": 32
   },
   {
    "_defaultOrder": 37,
    "_isFastLaunch": false,
    "category": "Accelerated computing",
    "gpuNum": 8,
    "hideHardwareSpecs": false,
    "memoryGiB": 488,
    "name": "ml.p3.16xlarge",
    "vcpuNum": 64
   },
   {
    "_defaultOrder": 38,
    "_isFastLaunch": false,
    "category": "Accelerated computing",
    "gpuNum": 8,
    "hideHardwareSpecs": false,
    "memoryGiB": 768,
    "name": "ml.p3dn.24xlarge",
    "vcpuNum": 96
   },
   {
    "_defaultOrder": 39,
    "_isFastLaunch": false,
    "category": "Memory Optimized",
    "gpuNum": 0,
    "hideHardwareSpecs": false,
    "memoryGiB": 16,
    "name": "ml.r5.large",
    "vcpuNum": 2
   },
   {
    "_defaultOrder": 40,
    "_isFastLaunch": false,
    "category": "Memory Optimized",
    "gpuNum": 0,
    "hideHardwareSpecs": false,
    "memoryGiB": 32,
    "name": "ml.r5.xlarge",
    "vcpuNum": 4
   },
   {
    "_defaultOrder": 41,
    "_isFastLaunch": false,
    "category": "Memory Optimized",
    "gpuNum": 0,
    "hideHardwareSpecs": false,
    "memoryGiB": 64,
    "name": "ml.r5.2xlarge",
    "vcpuNum": 8
   },
   {
    "_defaultOrder": 42,
    "_isFastLaunch": false,
    "category": "Memory Optimized",
    "gpuNum": 0,
    "hideHardwareSpecs": false,
    "memoryGiB": 128,
    "name": "ml.r5.4xlarge",
    "vcpuNum": 16
   },
   {
    "_defaultOrder": 43,
    "_isFastLaunch": false,
    "category": "Memory Optimized",
    "gpuNum": 0,
    "hideHardwareSpecs": false,
    "memoryGiB": 256,
    "name": "ml.r5.8xlarge",
    "vcpuNum": 32
   },
   {
    "_defaultOrder": 44,
    "_isFastLaunch": false,
    "category": "Memory Optimized",
    "gpuNum": 0,
    "hideHardwareSpecs": false,
    "memoryGiB": 384,
    "name": "ml.r5.12xlarge",
    "vcpuNum": 48
   },
   {
    "_defaultOrder": 45,
    "_isFastLaunch": false,
    "category": "Memory Optimized",
    "gpuNum": 0,
    "hideHardwareSpecs": false,
    "memoryGiB": 512,
    "name": "ml.r5.16xlarge",
    "vcpuNum": 64
   },
   {
    "_defaultOrder": 46,
    "_isFastLaunch": false,
    "category": "Memory Optimized",
    "gpuNum": 0,
    "hideHardwareSpecs": false,
    "memoryGiB": 768,
    "name": "ml.r5.24xlarge",
    "vcpuNum": 96
   },
   {
    "_defaultOrder": 47,
    "_isFastLaunch": false,
    "category": "Accelerated computing",
    "gpuNum": 1,
    "hideHardwareSpecs": false,
    "memoryGiB": 16,
    "name": "ml.g5.xlarge",
    "vcpuNum": 4
   },
   {
    "_defaultOrder": 48,
    "_isFastLaunch": false,
    "category": "Accelerated computing",
    "gpuNum": 1,
    "hideHardwareSpecs": false,
    "memoryGiB": 32,
    "name": "ml.g5.2xlarge",
    "vcpuNum": 8
   },
   {
    "_defaultOrder": 49,
    "_isFastLaunch": false,
    "category": "Accelerated computing",
    "gpuNum": 1,
    "hideHardwareSpecs": false,
    "memoryGiB": 64,
    "name": "ml.g5.4xlarge",
    "vcpuNum": 16
   },
   {
    "_defaultOrder": 50,
    "_isFastLaunch": false,
    "category": "Accelerated computing",
    "gpuNum": 1,
    "hideHardwareSpecs": false,
    "memoryGiB": 128,
    "name": "ml.g5.8xlarge",
    "vcpuNum": 32
   },
   {
    "_defaultOrder": 51,
    "_isFastLaunch": false,
    "category": "Accelerated computing",
    "gpuNum": 1,
    "hideHardwareSpecs": false,
    "memoryGiB": 256,
    "name": "ml.g5.16xlarge",
    "vcpuNum": 64
   },
   {
    "_defaultOrder": 52,
    "_isFastLaunch": false,
    "category": "Accelerated computing",
    "gpuNum": 4,
    "hideHardwareSpecs": false,
    "memoryGiB": 192,
    "name": "ml.g5.12xlarge",
    "vcpuNum": 48
   },
   {
    "_defaultOrder": 53,
    "_isFastLaunch": false,
    "category": "Accelerated computing",
    "gpuNum": 4,
    "hideHardwareSpecs": false,
    "memoryGiB": 384,
    "name": "ml.g5.24xlarge",
    "vcpuNum": 96
   },
   {
    "_defaultOrder": 54,
    "_isFastLaunch": false,
    "category": "Accelerated computing",
    "gpuNum": 8,
    "hideHardwareSpecs": false,
    "memoryGiB": 768,
    "name": "ml.g5.48xlarge",
    "vcpuNum": 192
   },
   {
    "_defaultOrder": 55,
    "_isFastLaunch": false,
    "category": "Accelerated computing",
    "gpuNum": 8,
    "hideHardwareSpecs": false,
    "memoryGiB": 1152,
    "name": "ml.p4d.24xlarge",
    "vcpuNum": 96
   },
   {
    "_defaultOrder": 56,
    "_isFastLaunch": false,
    "category": "Accelerated computing",
    "gpuNum": 8,
    "hideHardwareSpecs": false,
    "memoryGiB": 1152,
    "name": "ml.p4de.24xlarge",
    "vcpuNum": 96
   },
   {
    "_defaultOrder": 57,
    "_isFastLaunch": false,
    "category": "Accelerated computing",
    "gpuNum": 0,
    "hideHardwareSpecs": false,
    "memoryGiB": 32,
    "name": "ml.trn1.2xlarge",
    "vcpuNum": 8
   },
   {
    "_defaultOrder": 58,
    "_isFastLaunch": false,
    "category": "Accelerated computing",
    "gpuNum": 0,
    "hideHardwareSpecs": false,
    "memoryGiB": 512,
    "name": "ml.trn1.32xlarge",
    "vcpuNum": 128
   },
   {
    "_defaultOrder": 59,
    "_isFastLaunch": false,
    "category": "Accelerated computing",
    "gpuNum": 0,
    "hideHardwareSpecs": false,
    "memoryGiB": 512,
    "name": "ml.trn1n.32xlarge",
    "vcpuNum": 128
   }
  ],
  "instance_type": "ml.t3.medium",
  "kernelspec": {
   "display_name": "Python 3 (Data Science 3.0)",
   "language": "python",
   "name": "python3__SAGEMAKER_INTERNAL__arn:aws:sagemaker:us-east-1:081325390199:image/sagemaker-data-science-310-v1"
  },
  "language_info": {
   "codemirror_mode": {
    "name": "ipython",
    "version": 3
   },
   "file_extension": ".py",
   "mimetype": "text/x-python",
   "name": "python",
   "nbconvert_exporter": "python",
   "pygments_lexer": "ipython3",
   "version": "3.10.6"
  }
 },
 "nbformat": 4,
 "nbformat_minor": 5
}
