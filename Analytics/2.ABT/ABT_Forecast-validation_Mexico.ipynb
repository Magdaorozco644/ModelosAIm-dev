{
 "cells": [
  {
   "cell_type": "code",
   "execution_count": 1,
   "id": "deb1c193-1e97-4a97-a63e-8a6d9f1e091c",
   "metadata": {},
   "outputs": [],
   "source": [
    "#pip install pyathena"
   ]
  },
  {
   "cell_type": "code",
   "execution_count": 2,
   "id": "b482530e-6132-481b-b8fd-46fea39e8064",
   "metadata": {
    "tags": []
   },
   "outputs": [],
   "source": [
    "#Libraries\n",
    "from pyathena import connect\n",
    "import pandas as pd\n",
    "import datetime as dt\n",
    "import numpy as np"
   ]
  },
  {
   "cell_type": "code",
   "execution_count": 3,
   "id": "a2bddb14-9e24-4a93-b2c3-4031c5e9665a",
   "metadata": {},
   "outputs": [],
   "source": [
    "# DB Setting\n",
    "bucket_name = 's3://viamericas-datalake-dev-us-east-1-283731589572-athena/'\n",
    "origin_name = 'AwsDataCatalog'\n",
    "database_name= 'analytics'\n",
    "table_name = 'daily_check'"
   ]
  },
  {
   "cell_type": "code",
   "execution_count": 4,
   "id": "1aed89ed-382a-4a47-8870-259f9257622e",
   "metadata": {},
   "outputs": [
    {
     "name": "stderr",
     "output_type": "stream",
     "text": [
      "/tmp/ipykernel_1953/3429179766.py:4: UserWarning: pandas only supports SQLAlchemy connectable (engine/connection) or database string URI or sqlite3 DBAPI2 connection. Other DBAPI2 objects are not tested. Please consider using SQLAlchemy.\n",
      "  df = pd.read_sql(f'SELECT * FROM {origin_name}.{database_name}.{table_name};', conn)\n"
     ]
    }
   ],
   "source": [
    "#Connection\n",
    "conn = connect(s3_staging_dir=f'{bucket_name}queryresults/',\n",
    "               region_name='us-east-1')\n",
    "df = pd.read_sql(f'SELECT * FROM {origin_name}.{database_name}.{table_name};', conn)"
   ]
  },
  {
   "cell_type": "code",
   "execution_count": 5,
   "id": "c1de1725-eafd-4800-b149-8534b2ef2f3d",
   "metadata": {
    "tags": []
   },
   "outputs": [
    {
     "data": {
      "text/html": [
       "<div>\n",
       "<style scoped>\n",
       "    .dataframe tbody tr th:only-of-type {\n",
       "        vertical-align: middle;\n",
       "    }\n",
       "\n",
       "    .dataframe tbody tr th {\n",
       "        vertical-align: top;\n",
       "    }\n",
       "\n",
       "    .dataframe thead th {\n",
       "        text-align: right;\n",
       "    }\n",
       "</style>\n",
       "<table border=\"1\" class=\"dataframe\">\n",
       "  <thead>\n",
       "    <tr style=\"text-align: right;\">\n",
       "      <th></th>\n",
       "      <th>payer</th>\n",
       "      <th>country</th>\n",
       "      <th>date</th>\n",
       "      <th>tx</th>\n",
       "      <th>amount</th>\n",
       "    </tr>\n",
       "  </thead>\n",
       "  <tbody>\n",
       "    <tr>\n",
       "      <th>0</th>\n",
       "      <td>BANCO GANADERO (BOLIVIA)</td>\n",
       "      <td>BOLIVIA</td>\n",
       "      <td>2023-04-13</td>\n",
       "      <td>0</td>\n",
       "      <td>0.00</td>\n",
       "    </tr>\n",
       "    <tr>\n",
       "      <th>1</th>\n",
       "      <td>CARIBE EXPRESS</td>\n",
       "      <td>DOMINICAN REPUBLIC</td>\n",
       "      <td>2023-01-23</td>\n",
       "      <td>1117</td>\n",
       "      <td>350050.40</td>\n",
       "    </tr>\n",
       "    <tr>\n",
       "      <th>2</th>\n",
       "      <td>GRUPO EXITO (TN)</td>\n",
       "      <td>COLOMBIA</td>\n",
       "      <td>2023-01-23</td>\n",
       "      <td>247</td>\n",
       "      <td>52423.90</td>\n",
       "    </tr>\n",
       "    <tr>\n",
       "      <th>3</th>\n",
       "      <td>BANPAIS (RED CHAPINA)</td>\n",
       "      <td>HONDURAS</td>\n",
       "      <td>2022-10-31</td>\n",
       "      <td>146</td>\n",
       "      <td>59000.50</td>\n",
       "    </tr>\n",
       "    <tr>\n",
       "      <th>4</th>\n",
       "      <td>TELECOMM TELEGRAFOS (APPRIZA)</td>\n",
       "      <td>MEXICO</td>\n",
       "      <td>2022-05-15</td>\n",
       "      <td>1062</td>\n",
       "      <td>640446.24</td>\n",
       "    </tr>\n",
       "  </tbody>\n",
       "</table>\n",
       "</div>"
      ],
      "text/plain": [
       "                           payer             country        date    tx  \\\n",
       "0       BANCO GANADERO (BOLIVIA)             BOLIVIA  2023-04-13     0   \n",
       "1                 CARIBE EXPRESS  DOMINICAN REPUBLIC  2023-01-23  1117   \n",
       "2               GRUPO EXITO (TN)            COLOMBIA  2023-01-23   247   \n",
       "3          BANPAIS (RED CHAPINA)            HONDURAS  2022-10-31   146   \n",
       "4  TELECOMM TELEGRAFOS (APPRIZA)              MEXICO  2022-05-15  1062   \n",
       "\n",
       "      amount  \n",
       "0       0.00  \n",
       "1  350050.40  \n",
       "2   52423.90  \n",
       "3   59000.50  \n",
       "4  640446.24  "
      ]
     },
     "execution_count": 5,
     "metadata": {},
     "output_type": "execute_result"
    }
   ],
   "source": [
    "df.head()"
   ]
  },
  {
   "cell_type": "code",
   "execution_count": 6,
   "id": "6e5ec8f2-923b-4034-89ae-b463d30347f9",
   "metadata": {
    "tags": []
   },
   "outputs": [],
   "source": [
    "# Convert the 'date' column to datetime format\n",
    "df['date'] = pd.to_datetime(df['date'])"
   ]
  },
  {
   "cell_type": "code",
   "execution_count": 7,
   "id": "3d9c9739-9c72-4eed-8667-8d1239b78ec8",
   "metadata": {
    "tags": []
   },
   "outputs": [],
   "source": [
    "# Grouping by 'payer' and 'country' concatenated for this level of granularity\n",
    "df['payer_country'] = df['payer'] + '_' + df['country']"
   ]
  },
  {
   "cell_type": "code",
   "execution_count": 8,
   "id": "d732386b-e361-4e0a-a50a-429a8e24e505",
   "metadata": {
    "tags": []
   },
   "outputs": [
    {
     "data": {
      "text/plain": [
       "25110624454.414906"
      ]
     },
     "execution_count": 8,
     "metadata": {},
     "output_type": "execute_result"
    }
   ],
   "source": [
    "# Chequeo montos: Mismo valor que el dataset de la notebook Aging\n",
    "df['amount'].sum()"
   ]
  },
  {
   "cell_type": "code",
   "execution_count": 9,
   "id": "86827ae1-c1b3-4823-95ee-b4bfd00cb87a",
   "metadata": {
    "tags": []
   },
   "outputs": [],
   "source": [
    "def aging_filter(df):\n",
    "    # Find the last date in the sample\n",
    "    last_date_sample = df['date'].max()\n",
    "\n",
    "    # Calculate the limit date, one day before the last date in the sample\n",
    "    limit_date = last_date_sample - pd.Timedelta(days=1)\n",
    "\n",
    "    # Find the first and last date per 'payer_country' and calculate total_amount and count\n",
    "    result = (\n",
    "        df.groupby('payer_country')\n",
    "        .agg(\n",
    "            first_date=('date', 'min'),\n",
    "            last_date=('date', 'max'),\n",
    "            total_amount=('amount', 'sum'),\n",
    "            total_transactions=('tx', 'sum')  # Add this line for total_transactions\n",
    "        )\n",
    "        .reset_index()\n",
    "    )\n",
    "\n",
    "    # Calculate the 'age_payer' variable accurately using the calculated limit_date\n",
    "    result['age_payer'] = ((limit_date - result['first_date']).dt.days / 30).round(2)\n",
    "\n",
    "    # Calculate the 'active_payer' variable\n",
    "    result['active_time'] = ((result['last_date'] - result['first_date']).dt.days / 30).round(2)\n",
    "\n",
    "    # Calculate the 'inactive' variable\n",
    "    result['inactive_time'] = ((limit_date - result['last_date']).dt.days / 30).round(2)\n",
    "\n",
    "    # Sort the final DataFrame by 'total_amount' from highest to lowest\n",
    "    result = result.sort_values(by='total_amount', ascending=False)\n",
    "\n",
    "    # Filter the DataFrame based on conditions and return aging_universe\n",
    "    aging_universe = result.loc[\n",
    "        (result.age_payer >= 3) & \n",
    "        (result.inactive_time <= 3) & \n",
    "        (result.total_amount > 10000) & \n",
    "        (result.total_transactions > 50)\n",
    "    ]\n",
    "\n",
    "    return aging_universe"
   ]
  },
  {
   "cell_type": "code",
   "execution_count": 10,
   "id": "a2f31d38-f25d-4335-8a5c-f01ea152670c",
   "metadata": {
    "tags": []
   },
   "outputs": [],
   "source": [
    "# Defining Universe\n",
    "df = df[df['amount'] != 0] # Excluding 0 (flag A & Flag C), defined in EDA\n",
    "\n",
    "df_aging = aging_filter(df) #Filtering 'payer_country' based on Aging notebook\n",
    "df_filtered = df[df['payer_country'].isin(df_aging['payer_country'])] # Applying aging filters "
   ]
  },
  {
   "cell_type": "code",
   "execution_count": 11,
   "id": "f91719d3-58cd-4e44-9c3b-042ea75803fc",
   "metadata": {
    "tags": []
   },
   "outputs": [
    {
     "name": "stderr",
     "output_type": "stream",
     "text": [
      "/tmp/ipykernel_1953/1252395900.py:2: SettingWithCopyWarning: \n",
      "A value is trying to be set on a copy of a slice from a DataFrame.\n",
      "Try using .loc[row_indexer,col_indexer] = value instead\n",
      "\n",
      "See the caveats in the documentation: https://pandas.pydata.org/pandas-docs/stable/user_guide/indexing.html#returning-a-view-versus-a-copy\n",
      "  df_filtered['date'] = pd.to_datetime(df_filtered['date']).dt.date\n"
     ]
    }
   ],
   "source": [
    "# Date format\n",
    "df_filtered['date'] = pd.to_datetime(df_filtered['date']).dt.date"
   ]
  },
  {
   "cell_type": "code",
   "execution_count": 12,
   "id": "13b8f256-14df-48f7-b3fa-33202a010c66",
   "metadata": {
    "tags": []
   },
   "outputs": [
    {
     "data": {
      "text/plain": [
       "24309892564.971"
      ]
     },
     "execution_count": 12,
     "metadata": {},
     "output_type": "execute_result"
    }
   ],
   "source": [
    "df_filtered['amount'].sum()"
   ]
  },
  {
   "cell_type": "code",
   "execution_count": 13,
   "id": "79916f85-68c0-46dc-9243-26b4e52666ec",
   "metadata": {},
   "outputs": [],
   "source": [
    "##24309913777.781002 valor obtenido en aging, perdemos un payer y 18000 usd"
   ]
  },
  {
   "cell_type": "code",
   "execution_count": 14,
   "id": "59af9b61-242c-4ccc-97d7-d99b2a3c8b18",
   "metadata": {
    "tags": []
   },
   "outputs": [
    {
     "data": {
      "text/plain": [
       "13655009099.1769"
      ]
     },
     "execution_count": 14,
     "metadata": {},
     "output_type": "execute_result"
    }
   ],
   "source": [
    "df[df['country'] == 'MEXICO']['amount'].sum()"
   ]
  },
  {
   "cell_type": "code",
   "execution_count": 15,
   "id": "27e553ad-b792-4d18-a330-547227f23bd3",
   "metadata": {
    "tags": []
   },
   "outputs": [
    {
     "data": {
      "text/plain": [
       "12910028578.2625"
      ]
     },
     "execution_count": 15,
     "metadata": {},
     "output_type": "execute_result"
    }
   ],
   "source": [
    "df_filtered[df_filtered['country'] == 'MEXICO']['amount'].sum()"
   ]
  },
  {
   "cell_type": "code",
   "execution_count": 16,
   "id": "890b9e53-5534-4aba-b30e-8ed439e51dd0",
   "metadata": {
    "tags": []
   },
   "outputs": [
    {
     "data": {
      "text/plain": [
       "744980520.9144001"
      ]
     },
     "execution_count": 16,
     "metadata": {},
     "output_type": "execute_result"
    }
   ],
   "source": [
    "df[df['country'] == 'MEXICO']['amount'].sum() - df_filtered[df_filtered['country'] == 'MEXICO']['amount'].sum()"
   ]
  },
  {
   "cell_type": "code",
   "execution_count": 17,
   "id": "7eddd452-4bd1-4ad9-aa37-de1354d77fc5",
   "metadata": {
    "tags": []
   },
   "outputs": [
    {
     "data": {
      "text/plain": [
       "6397946743.728701"
      ]
     },
     "execution_count": 17,
     "metadata": {},
     "output_type": "execute_result"
    }
   ],
   "source": [
    "df[df['payer_country'] == 'ELEKTRA (MEXICO)_MEXICO']['amount'].sum()"
   ]
  },
  {
   "cell_type": "code",
   "execution_count": 18,
   "id": "e57146b3-30fd-4687-861e-a1e8462b16d7",
   "metadata": {
    "tags": []
   },
   "outputs": [
    {
     "data": {
      "text/plain": [
       "6397946743.728701"
      ]
     },
     "execution_count": 18,
     "metadata": {},
     "output_type": "execute_result"
    }
   ],
   "source": [
    "df_filtered[df_filtered['payer_country'] == 'ELEKTRA (MEXICO)_MEXICO']['amount'].sum()"
   ]
  },
  {
   "cell_type": "code",
   "execution_count": 19,
   "id": "598f432b-3036-4870-baaa-1439724b5b91",
   "metadata": {
    "tags": []
   },
   "outputs": [
    {
     "data": {
      "text/plain": [
       "array(['DOMINICAN REPUBLIC', 'COLOMBIA', 'HONDURAS', 'MEXICO',\n",
       "       'EL SALVADOR', 'GUATEMALA', 'BRAZIL', 'NICARAGUA', 'PERU', 'CHILE',\n",
       "       'PHILIPPINES', 'UNITED STATES (ATM & DEPOSITS)', 'ECUADOR',\n",
       "       'ARGENTINA', 'SIERRA LEONE', 'BOLIVIA', 'PORTUGAL', 'GAMBIA, THE',\n",
       "       'HAITI', 'GHANA', 'SENEGAL', 'NIGERIA', 'UNITED STATES', 'INDIA',\n",
       "       'GUINEA', 'INDONESIA', 'CAMEROON', 'JAMAICA', 'GERMANY',\n",
       "       'THAILAND', 'LIBERIA', 'NEPAL', 'FRANCE', 'ITALY', 'BURKINA FASO',\n",
       "       \"COTE D'IVOIRE (IVORY COAST)\", 'MALI', 'TOGO', 'BANGLADESH',\n",
       "       'UNITED KINGDOM', 'SPAIN', 'BENIN', 'MALAYSIA', 'BELGIUM',\n",
       "       'COSTA RICA'], dtype=object)"
      ]
     },
     "execution_count": 19,
     "metadata": {},
     "output_type": "execute_result"
    }
   ],
   "source": [
    "df_filtered['country'].unique()"
   ]
  },
  {
   "cell_type": "code",
   "execution_count": 20,
   "id": "c24c8387-d48d-410d-90f2-ad57da256233",
   "metadata": {
    "tags": []
   },
   "outputs": [
    {
     "data": {
      "text/plain": [
       "130"
      ]
     },
     "execution_count": 20,
     "metadata": {},
     "output_type": "execute_result"
    }
   ],
   "source": [
    "df_filtered.payer_country.nunique()"
   ]
  },
  {
   "cell_type": "code",
   "execution_count": 21,
   "id": "59a37fe0-1361-47b0-a6bc-c16c31aa4452",
   "metadata": {
    "tags": []
   },
   "outputs": [
    {
     "data": {
      "text/html": [
       "<div>\n",
       "<style scoped>\n",
       "    .dataframe tbody tr th:only-of-type {\n",
       "        vertical-align: middle;\n",
       "    }\n",
       "\n",
       "    .dataframe tbody tr th {\n",
       "        vertical-align: top;\n",
       "    }\n",
       "\n",
       "    .dataframe thead th {\n",
       "        text-align: right;\n",
       "    }\n",
       "</style>\n",
       "<table border=\"1\" class=\"dataframe\">\n",
       "  <thead>\n",
       "    <tr style=\"text-align: right;\">\n",
       "      <th></th>\n",
       "      <th>payer</th>\n",
       "      <th>country</th>\n",
       "      <th>date</th>\n",
       "      <th>tx</th>\n",
       "      <th>amount</th>\n",
       "      <th>payer_country</th>\n",
       "    </tr>\n",
       "  </thead>\n",
       "  <tbody>\n",
       "    <tr>\n",
       "      <th>1</th>\n",
       "      <td>CARIBE EXPRESS</td>\n",
       "      <td>DOMINICAN REPUBLIC</td>\n",
       "      <td>2023-01-23</td>\n",
       "      <td>1117</td>\n",
       "      <td>350050.40</td>\n",
       "      <td>CARIBE EXPRESS_DOMINICAN REPUBLIC</td>\n",
       "    </tr>\n",
       "    <tr>\n",
       "      <th>2</th>\n",
       "      <td>GRUPO EXITO (TN)</td>\n",
       "      <td>COLOMBIA</td>\n",
       "      <td>2023-01-23</td>\n",
       "      <td>247</td>\n",
       "      <td>52423.90</td>\n",
       "      <td>GRUPO EXITO (TN)_COLOMBIA</td>\n",
       "    </tr>\n",
       "    <tr>\n",
       "      <th>3</th>\n",
       "      <td>BANPAIS (RED CHAPINA)</td>\n",
       "      <td>HONDURAS</td>\n",
       "      <td>2022-10-31</td>\n",
       "      <td>146</td>\n",
       "      <td>59000.50</td>\n",
       "      <td>BANPAIS (RED CHAPINA)_HONDURAS</td>\n",
       "    </tr>\n",
       "    <tr>\n",
       "      <th>4</th>\n",
       "      <td>TELECOMM TELEGRAFOS (APPRIZA)</td>\n",
       "      <td>MEXICO</td>\n",
       "      <td>2022-05-15</td>\n",
       "      <td>1062</td>\n",
       "      <td>640446.24</td>\n",
       "      <td>TELECOMM TELEGRAFOS (APPRIZA)_MEXICO</td>\n",
       "    </tr>\n",
       "    <tr>\n",
       "      <th>5</th>\n",
       "      <td>CUSCA (CITI - RECIBA NETWORKS)</td>\n",
       "      <td>EL SALVADOR</td>\n",
       "      <td>2023-02-06</td>\n",
       "      <td>868</td>\n",
       "      <td>280568.50</td>\n",
       "      <td>CUSCA (CITI - RECIBA NETWORKS)_EL SALVADOR</td>\n",
       "    </tr>\n",
       "  </tbody>\n",
       "</table>\n",
       "</div>"
      ],
      "text/plain": [
       "                            payer             country        date    tx  \\\n",
       "1                  CARIBE EXPRESS  DOMINICAN REPUBLIC  2023-01-23  1117   \n",
       "2                GRUPO EXITO (TN)            COLOMBIA  2023-01-23   247   \n",
       "3           BANPAIS (RED CHAPINA)            HONDURAS  2022-10-31   146   \n",
       "4   TELECOMM TELEGRAFOS (APPRIZA)              MEXICO  2022-05-15  1062   \n",
       "5  CUSCA (CITI - RECIBA NETWORKS)         EL SALVADOR  2023-02-06   868   \n",
       "\n",
       "      amount                               payer_country  \n",
       "1  350050.40           CARIBE EXPRESS_DOMINICAN REPUBLIC  \n",
       "2   52423.90                   GRUPO EXITO (TN)_COLOMBIA  \n",
       "3   59000.50              BANPAIS (RED CHAPINA)_HONDURAS  \n",
       "4  640446.24        TELECOMM TELEGRAFOS (APPRIZA)_MEXICO  \n",
       "5  280568.50  CUSCA (CITI - RECIBA NETWORKS)_EL SALVADOR  "
      ]
     },
     "execution_count": 21,
     "metadata": {},
     "output_type": "execute_result"
    }
   ],
   "source": [
    "df_filtered.head()"
   ]
  },
  {
   "cell_type": "code",
   "execution_count": 22,
   "id": "8d12f38e-5f14-453e-82fe-1ea3b13f853f",
   "metadata": {
    "tags": []
   },
   "outputs": [],
   "source": [
    "### RATES ###\n",
    "df_rates=pd.read_csv('Rates_csv/rates_2021_2023.csv') # CHEQUEAR FUENTE DE ORIGEN"
   ]
  },
  {
   "cell_type": "code",
   "execution_count": null,
   "id": "0edfe299-86d4-4ee7-b09b-343eaf947924",
   "metadata": {
    "tags": []
   },
   "outputs": [],
   "source": [
    "# Selecting columns & renaming\n",
    "df_rates = df_rates[['feed_date','symbol','feed_price']] \n",
    "df_rates = df_rates.rename(columns={'feed_date':'date'})"
   ]
  },
  {
   "cell_type": "code",
   "execution_count": null,
   "id": "d73800ff-5613-4264-b577-480c645e2ed4",
   "metadata": {
    "tags": []
   },
   "outputs": [],
   "source": [
    "df_rates['date'] = pd.to_datetime(df_rates['date']).dt.date"
   ]
  },
  {
   "cell_type": "code",
   "execution_count": null,
   "id": "bbb26427-16bc-41ae-8c07-d6cef0764430",
   "metadata": {
    "tags": []
   },
   "outputs": [],
   "source": [
    "# Function to keep last register, per day\n",
    "\n",
    "def get_closing_prices(data, start_date, end_date):\n",
    "    # Convert the 'FEED_DATE' column to datetime type if it is not already\n",
    "    data['date'] = pd.to_datetime(data['date'])\n",
    "\n",
    "    # Filter by date range\n",
    "    data_filtered = data[(data['date'] >= start_date) & (data['date'] <= end_date)]\n",
    "\n",
    "    # Sort by 'FEED_DATE' to ensure that the data is in chronological order\n",
    "    data_filtered = data_filtered.sort_values(by='date')\n",
    "\n",
    "    # Group by 'SYMBOL' and 'FEED_DATE', taking the last value of 'FEED_PRICE'\n",
    "    data_grouped = data_filtered.groupby(['symbol', pd.Grouper(key='date', freq='D')])['feed_price'].last().reset_index()\n",
    "    \n",
    "#     # Generate evolution plots for each SYMBOL\n",
    "#     for symbol in data_grouped['symbol'].unique():\n",
    "#         symbol_data = data_grouped[data_grouped['symbol'] == symbol]\n",
    "\n",
    "#         plt.figure(figsize=(10, 6))\n",
    "#         plt.plot(symbol_data['date'], symbol_data['feed_price'], label=symbol)\n",
    "#         plt.title(f'Closing prices evolution for {symbol}')\n",
    "#         plt.xlabel('Date')\n",
    "#         plt.ylabel('Closing Price')\n",
    "#         plt.legend()\n",
    "#         plt.show()\n",
    "    \n",
    "    return data_grouped"
   ]
  },
  {
   "cell_type": "code",
   "execution_count": null,
   "id": "cc2bd519-1e78-4547-a753-e8060c00ca60",
   "metadata": {
    "tags": []
   },
   "outputs": [],
   "source": [
    "start_date = '2021-01-01'\n",
    "end_date = '2023-10-21'\n",
    "\n",
    "rates = get_closing_prices(df_rates, start_date, end_date)"
   ]
  },
  {
   "cell_type": "code",
   "execution_count": null,
   "id": "8d26a296-ddbf-4f87-93f5-32650e6bfe87",
   "metadata": {
    "tags": []
   },
   "outputs": [],
   "source": [
    "rates"
   ]
  },
  {
   "cell_type": "code",
   "execution_count": null,
   "id": "a561108c-dfb6-4c58-a906-1d823561f757",
   "metadata": {
    "tags": []
   },
   "outputs": [],
   "source": [
    "rates.info()"
   ]
  },
  {
   "cell_type": "code",
   "execution_count": null,
   "id": "7c540ada-d84f-45a4-9d5b-2f151abf15c5",
   "metadata": {
    "tags": []
   },
   "outputs": [],
   "source": [
    "#Date format\n",
    "rates['date'] = rates['date'].dt.date"
   ]
  },
  {
   "cell_type": "code",
   "execution_count": null,
   "id": "e99891cd-579c-48c1-bbe8-006367d43c02",
   "metadata": {
    "tags": []
   },
   "outputs": [],
   "source": [
    "rates.head(4)"
   ]
  },
  {
   "cell_type": "code",
   "execution_count": null,
   "id": "a9c9f501-402b-482a-8b6a-92f446479727",
   "metadata": {
    "tags": []
   },
   "outputs": [],
   "source": [
    "###WE OBTAIN THE LAGS OF UP TO 7 DAYS FOR THE EXCHANGE RATE \n",
    "for i in range(1, 8):\n",
    "        nombre_columna = f'feed_price_retardo_{i}'\n",
    "        rates[nombre_columna] = rates['feed_price'].shift(i)"
   ]
  },
  {
   "cell_type": "code",
   "execution_count": null,
   "id": "256b3b3b-7dcc-4751-a490-b1a8d555f921",
   "metadata": {
    "tags": []
   },
   "outputs": [],
   "source": [
    "rates['var_rate_lag1']=rates.feed_price_retardo_1-rates.feed_price_retardo_2\n",
    "rates['var_rate_lag2']=rates.feed_price_retardo_2-rates.feed_price_retardo_3\n",
    "rates['var_rate_lag3']=rates.feed_price_retardo_3-rates.feed_price_retardo_4\n",
    "rates['var_rate_lag4']=rates.feed_price_retardo_4-rates.feed_price_retardo_5\n",
    "rates['var_rate_lag5']=rates.feed_price_retardo_5-rates.feed_price_retardo_6\n",
    "rates['var_rate_lag6']=rates.feed_price_retardo_6-rates.feed_price_retardo_7"
   ]
  },
  {
   "cell_type": "code",
   "execution_count": null,
   "id": "48ea3cb4-7759-44ad-aeea-358c410db7a9",
   "metadata": {
    "tags": []
   },
   "outputs": [],
   "source": [
    "rates.head()"
   ]
  },
  {
   "cell_type": "code",
   "execution_count": null,
   "id": "ef8afb2e-498e-4cad-ba20-b7bfbef4867b",
   "metadata": {
    "tags": []
   },
   "outputs": [],
   "source": [
    "# Filling NaN\n",
    "rates=rates.fillna(method='bfill')\n",
    "rates=rates.fillna(method='ffill')"
   ]
  },
  {
   "cell_type": "code",
   "execution_count": null,
   "id": "3fbae9a0-939d-4176-b714-4e373b044053",
   "metadata": {
    "tags": []
   },
   "outputs": [],
   "source": [
    "rates_dict = {\n",
    "    'USDBRL': 'BRAZIL', # Bz Real \n",
    "    'USDINR': 'INDIA', # Indian Rupia\n",
    "    'USDGTQ': 'GUATEMALA', #Quetzal \n",
    "    'USDMXN': 'MEXICO', #Mx Peso\n",
    "    'USDPHP': 'PHILIPPINES' # Ph Peso\n",
    "}"
   ]
  },
  {
   "cell_type": "code",
   "execution_count": null,
   "id": "fcb2f57a-3ad7-4831-b888-59be7cd03839",
   "metadata": {
    "tags": []
   },
   "outputs": [],
   "source": [
    "rates['country'] = rates['symbol'].map(rates_dict)"
   ]
  },
  {
   "cell_type": "code",
   "execution_count": null,
   "id": "de90f8c0-72ca-4445-aa48-8a042441f1e1",
   "metadata": {
    "tags": []
   },
   "outputs": [],
   "source": [
    "rates['country'].unique()"
   ]
  },
  {
   "cell_type": "code",
   "execution_count": null,
   "id": "51644b2a-c3a7-4e61-a8d5-2bb763111f82",
   "metadata": {
    "tags": []
   },
   "outputs": [],
   "source": [
    "rates.head()"
   ]
  },
  {
   "cell_type": "code",
   "execution_count": null,
   "id": "75d20064-f7e5-4275-a714-506c2a322a86",
   "metadata": {
    "tags": []
   },
   "outputs": [],
   "source": [
    "rates.shape"
   ]
  },
  {
   "cell_type": "code",
   "execution_count": null,
   "id": "326edea7-d61d-4b5e-97ac-4c6bf44a9b96",
   "metadata": {
    "tags": []
   },
   "outputs": [],
   "source": [
    "# Combined df  containing only the rows that match both the 'date' and 'country' columns in both df (df_filtered and rates).\n",
    "# WARNING!!! Includes only common columns [date, country] > Check rates_dict\n",
    "df1 = pd.merge(df_filtered, rates[['date', 'country']], on=['date', 'country'], how='inner')"
   ]
  },
  {
   "cell_type": "code",
   "execution_count": null,
   "id": "9030105f-9b67-4a89-a5b1-f84c8cc60b3e",
   "metadata": {
    "tags": []
   },
   "outputs": [],
   "source": [
    "df1['date'] = pd.to_datetime(df1['date']).dt.date"
   ]
  },
  {
   "cell_type": "code",
   "execution_count": null,
   "id": "c776a79b-ad91-42a5-a24e-a75601c6df83",
   "metadata": {
    "tags": []
   },
   "outputs": [],
   "source": [
    "df1['amount'].sum()"
   ]
  },
  {
   "cell_type": "code",
   "execution_count": null,
   "id": "714487ed-0d1d-4fc9-9615-f15d6112c0be",
   "metadata": {},
   "outputs": [],
   "source": [
    "### EFFECT OF CANCELED TRANSACTIONS ###"
   ]
  },
  {
   "cell_type": "code",
   "execution_count": null,
   "id": "b051a492-6aa8-4ea7-b316-2590f7653c3a",
   "metadata": {
    "tags": []
   },
   "outputs": [],
   "source": [
    "table2_name = 'daily_sales_count_cancelled_v2'##WE LOAD THE BASE WITH CANCELLATIONS\n",
    "\n",
    "df2 = pd.read_sql(f'SELECT * FROM {origin_name}.{database_name}.{table2_name};', conn)"
   ]
  },
  {
   "cell_type": "code",
   "execution_count": null,
   "id": "d3646cf4-0484-4fe0-90f3-67056f320a5f",
   "metadata": {
    "tags": []
   },
   "outputs": [],
   "source": [
    "df2.info()"
   ]
  },
  {
   "cell_type": "code",
   "execution_count": null,
   "id": "5f434969-e622-4828-b926-7fe575dfd07a",
   "metadata": {
    "tags": []
   },
   "outputs": [],
   "source": [
    "df2.amount.sum()"
   ]
  },
  {
   "cell_type": "code",
   "execution_count": null,
   "id": "ffef8ba7-ed7f-4fd8-8fb6-ca3d6b9ff125",
   "metadata": {
    "tags": []
   },
   "outputs": [],
   "source": [
    "df2['date'] = pd.to_datetime(df2['date']).dt.date"
   ]
  },
  {
   "cell_type": "code",
   "execution_count": null,
   "id": "9209f80a-d5a2-491b-aeff-601b78097e0f",
   "metadata": {
    "tags": []
   },
   "outputs": [],
   "source": [
    "for i in range(1, 8):\n",
    "        nombre_columna = f'tx_cancelled_{i}'\n",
    "        df2[nombre_columna] = df2['tx_cancelled'].shift(i)"
   ]
  },
  {
   "cell_type": "code",
   "execution_count": null,
   "id": "49c31fae-21e8-430c-b573-ce4bc815f9b5",
   "metadata": {
    "tags": []
   },
   "outputs": [],
   "source": [
    "##ACÁ PUEDE HABER UN ERROR PORQUE HAY MAS PAYERS Y EL DATASET ME PARECE QUE NO ESTÁ ORDENADO POR PAYER COUNTRY DATE##\n",
    "df_check=df2.copy()\n",
    "df_check=df_check.loc[df_check.payer=='ELEKTRA (MEXICO)']"
   ]
  },
  {
   "cell_type": "code",
   "execution_count": null,
   "id": "6668f714-266a-488c-9e98-49d09a82e8a9",
   "metadata": {
    "tags": []
   },
   "outputs": [],
   "source": [
    "df_check = df_check.sort_values(by='date')\n",
    "df_check= df_check.set_index('date')"
   ]
  },
  {
   "cell_type": "code",
   "execution_count": null,
   "id": "f24a002b-01a5-46a4-a5ff-0dea0ed02046",
   "metadata": {
    "tags": []
   },
   "outputs": [],
   "source": [
    "import matplotlib.pyplot as plt\n",
    "plt.figure(figsize=(10, 6))\n",
    "plt.plot(df_check.index, df_check['tx_cancelled'], linestyle='-', color='b')\n",
    "plt.title('Evolución de tx_cancelled a lo largo del tiempo')\n",
    "plt.xlabel('Fecha')\n",
    "plt.ylabel('tx_cancelled')\n",
    "plt.grid(True)\n",
    "plt.show()\n",
    "##COMPARADO CON EL GRAFICO DE CANCELLATIONS SE VE IGUAL ASI QUE NO HAY PROBLEMA##"
   ]
  },
  {
   "cell_type": "code",
   "execution_count": null,
   "id": "b9bb05ba-3d88-4253-a3a3-e7b572e2e896",
   "metadata": {
    "tags": []
   },
   "outputs": [],
   "source": [
    "df2.head()"
   ]
  },
  {
   "cell_type": "code",
   "execution_count": null,
   "id": "aff86e4d-7d24-42e9-8cf7-59526cacd8cb",
   "metadata": {
    "tags": []
   },
   "outputs": [],
   "source": [
    "df2['var_tx_cancelled_1']=df2.tx_cancelled_1-df2.tx_cancelled_2\n",
    "df2['var_tx_cancelled_2']=df2.tx_cancelled_2-df2.tx_cancelled_3\n",
    "df2['var_tx_cancelled_3']=df2.tx_cancelled_3-df2.tx_cancelled_4\n",
    "df2['var_tx_cancelled_4']=df2.tx_cancelled_4-df2.tx_cancelled_5\n",
    "df2['var_tx_cancelled_5']=df2.tx_cancelled_5-df2.tx_cancelled_6\n",
    "df2['var_tx_cancelled_6']=df2.tx_cancelled_6-df2.tx_cancelled_7"
   ]
  },
  {
   "cell_type": "code",
   "execution_count": null,
   "id": "50f58345-1ac4-4cab-b94e-05bd26b1c851",
   "metadata": {
    "tags": []
   },
   "outputs": [],
   "source": [
    "df2"
   ]
  },
  {
   "cell_type": "code",
   "execution_count": null,
   "id": "9f311f2a-1f73-4c5c-85cf-908b80174beb",
   "metadata": {
    "tags": []
   },
   "outputs": [],
   "source": [
    "df2.info()"
   ]
  },
  {
   "cell_type": "code",
   "execution_count": null,
   "id": "898cc027-92d8-4c72-a1ba-8d505d2669e6",
   "metadata": {
    "tags": []
   },
   "outputs": [],
   "source": [
    "df2.amount.sum()"
   ]
  },
  {
   "cell_type": "code",
   "execution_count": null,
   "id": "122a30bd-2509-4f4e-b448-978acd98cb7b",
   "metadata": {
    "tags": []
   },
   "outputs": [],
   "source": [
    "df1.info()"
   ]
  },
  {
   "cell_type": "code",
   "execution_count": null,
   "id": "a9480504-c928-4bbd-8419-258238dc6dba",
   "metadata": {
    "tags": []
   },
   "outputs": [],
   "source": [
    "df1.amount.sum()"
   ]
  },
  {
   "cell_type": "code",
   "execution_count": null,
   "id": "63efadd5-c634-45e4-95a9-ebb93584e2fa",
   "metadata": {
    "tags": []
   },
   "outputs": [],
   "source": [
    "##EL PROBLEMA ESTÁ EN DF1, ELEKTRA NO DEBERÍA DAR MENOS##\n",
    "df_check2=df1[df1['payer_country'] == 'ELEKTRA (MEXICO)_MEXICO']\n",
    "df_check2.amount.sum()"
   ]
  },
  {
   "cell_type": "code",
   "execution_count": null,
   "id": "83eeccd9-ec25-45f6-89b4-31050a08049f",
   "metadata": {
    "tags": []
   },
   "outputs": [],
   "source": [
    "df_final = pd.merge(df1,df2, on=['date','payer','country', 'amount'])"
   ]
  },
  {
   "cell_type": "code",
   "execution_count": null,
   "id": "2e8ab62a-e960-4f93-8296-089261c98573",
   "metadata": {
    "tags": []
   },
   "outputs": [],
   "source": [
    "df_final['date'] = pd.to_datetime(df_final['date'])"
   ]
  },
  {
   "cell_type": "code",
   "execution_count": null,
   "id": "dcffc212-34f1-4d30-90fc-10f71701d5c3",
   "metadata": {
    "tags": []
   },
   "outputs": [],
   "source": [
    "df_final['amount'].sum()"
   ]
  },
  {
   "cell_type": "code",
   "execution_count": null,
   "id": "fce1e563-3f45-44de-a87c-048ef1678621",
   "metadata": {
    "tags": []
   },
   "outputs": [],
   "source": [
    "### DUMMIES ####"
   ]
  },
  {
   "cell_type": "code",
   "execution_count": null,
   "id": "b33b3e82-4cc6-402c-bfe2-6237f6f24bf1",
   "metadata": {
    "tags": []
   },
   "outputs": [],
   "source": [
    "# Weekday indicator (dummy)\n",
    "df_final['weekday'] = (df_final['date'].dt.dayofweek < 4).astype(int)"
   ]
  },
  {
   "cell_type": "code",
   "execution_count": null,
   "id": "6c4b1e7a-61e3-418f-a045-6fbbd33c94da",
   "metadata": {
    "tags": []
   },
   "outputs": [],
   "source": [
    "# Special dates list - Format: Month-day \n",
    "special_dates_list = [ '07-04', #US independence day \n",
    "                      '12-25', #Christmas\n",
    "                      '05-11' # Mexico & Colombia - Mother's day\n",
    "                     '01-01', #New Year\n",
    "                     '01-02',\n",
    "                     '12-26'] \n",
    "\n",
    "# Applying format process special_dates function\n",
    "special_dates_list_processed = [(int(date.split('-')[0]), int(date.split('-')[1])) for date in special_dates_list]"
   ]
  },
  {
   "cell_type": "code",
   "execution_count": null,
   "id": "1763ed79-0a6f-497f-a4cb-6fa7623cac63",
   "metadata": {
    "tags": []
   },
   "outputs": [],
   "source": [
    "# To check special dates defined by list\n",
    "def mark_special_dates(row):\n",
    "    if (row['date'].month, row['date'].day) in special_dates_list_processed:\n",
    "        return 1\n",
    "    else:\n",
    "        return 0"
   ]
  },
  {
   "cell_type": "code",
   "execution_count": null,
   "id": "3e59c7b2-f179-49ee-bef1-304003fa8305",
   "metadata": {
    "tags": []
   },
   "outputs": [],
   "source": [
    "# Marking special dates in df\n",
    "df_final['special_dates'] = df_final.apply(lambda row: mark_special_dates(row), axis=1)"
   ]
  },
  {
   "cell_type": "code",
   "execution_count": null,
   "id": "eb250b21-0550-4440-b32c-210d871974b9",
   "metadata": {
    "tags": []
   },
   "outputs": [],
   "source": [
    "df_final"
   ]
  },
  {
   "cell_type": "code",
   "execution_count": null,
   "id": "dd353662-2d58-4690-b0a9-1e8dfc292521",
   "metadata": {
    "tags": []
   },
   "outputs": [],
   "source": [
    "df_final['amount'].sum()"
   ]
  },
  {
   "cell_type": "code",
   "execution_count": null,
   "id": "63b7da1a-1952-4f6f-baad-c10986243f74",
   "metadata": {
    "tags": []
   },
   "outputs": [],
   "source": [
    "df_elektra = df_final[df_final['payer_country'] == 'ELEKTRA (MEXICO)_MEXICO']"
   ]
  },
  {
   "cell_type": "code",
   "execution_count": null,
   "id": "753bf8ce-37fb-4cfa-ba17-eef2784fafce",
   "metadata": {
    "tags": []
   },
   "outputs": [],
   "source": [
    "df_elektra['amount'].sum()"
   ]
  },
  {
   "cell_type": "code",
   "execution_count": null,
   "id": "a9b10b18-a432-4a53-ad20-2c149967998e",
   "metadata": {
    "tags": []
   },
   "outputs": [],
   "source": [
    "df_elektra.head()"
   ]
  },
  {
   "cell_type": "code",
   "execution_count": null,
   "id": "d310a40e-6b3f-492b-b2b3-759d3125c52f",
   "metadata": {},
   "outputs": [],
   "source": [
    "CHEQUEAR PORQUE A ELEKTRA LE CAE EL MONTO EN 1300 MILLONES, NO DEBERÍA PASAR"
   ]
  },
  {
   "cell_type": "code",
   "execution_count": null,
   "id": "a2d646f6-3f51-4b12-8736-55a6d0f51238",
   "metadata": {},
   "outputs": [],
   "source": []
  },
  {
   "cell_type": "code",
   "execution_count": null,
   "id": "a39d92d0-7265-4efb-bb20-4ed5faeeda13",
   "metadata": {},
   "outputs": [],
   "source": []
  },
  {
   "cell_type": "code",
   "execution_count": null,
   "id": "9a1c4571-5dff-4671-958e-5940fa14c9d8",
   "metadata": {
    "tags": []
   },
   "outputs": [],
   "source": []
  },
  {
   "cell_type": "code",
   "execution_count": null,
   "id": "ab01aa79-cdae-420f-9842-189fac29aa98",
   "metadata": {
    "tags": []
   },
   "outputs": [],
   "source": []
  },
  {
   "cell_type": "code",
   "execution_count": null,
   "id": "361e2ecc-090c-4d00-9fbc-abe464b63693",
   "metadata": {
    "tags": []
   },
   "outputs": [],
   "source": []
  },
  {
   "cell_type": "code",
   "execution_count": null,
   "id": "73543c1e-759d-43de-a93b-ecdbc3204d07",
   "metadata": {
    "tags": []
   },
   "outputs": [],
   "source": []
  },
  {
   "cell_type": "code",
   "execution_count": null,
   "id": "cd3ab4c4-79ec-4e80-9b48-b2b33fdd1f0e",
   "metadata": {
    "tags": []
   },
   "outputs": [],
   "source": []
  },
  {
   "cell_type": "code",
   "execution_count": null,
   "id": "85b8a412-89e1-4d38-8147-8ff6ca6196ce",
   "metadata": {
    "tags": []
   },
   "outputs": [],
   "source": []
  },
  {
   "cell_type": "code",
   "execution_count": null,
   "id": "e6ce0a68-6f5a-4207-b813-ebeb45563a54",
   "metadata": {},
   "outputs": [],
   "source": []
  }
 ],
 "metadata": {
  "availableInstances": [
   {
    "_defaultOrder": 0,
    "_isFastLaunch": true,
    "category": "General purpose",
    "gpuNum": 0,
    "hideHardwareSpecs": false,
    "memoryGiB": 4,
    "name": "ml.t3.medium",
    "vcpuNum": 2
   },
   {
    "_defaultOrder": 1,
    "_isFastLaunch": false,
    "category": "General purpose",
    "gpuNum": 0,
    "hideHardwareSpecs": false,
    "memoryGiB": 8,
    "name": "ml.t3.large",
    "vcpuNum": 2
   },
   {
    "_defaultOrder": 2,
    "_isFastLaunch": false,
    "category": "General purpose",
    "gpuNum": 0,
    "hideHardwareSpecs": false,
    "memoryGiB": 16,
    "name": "ml.t3.xlarge",
    "vcpuNum": 4
   },
   {
    "_defaultOrder": 3,
    "_isFastLaunch": false,
    "category": "General purpose",
    "gpuNum": 0,
    "hideHardwareSpecs": false,
    "memoryGiB": 32,
    "name": "ml.t3.2xlarge",
    "vcpuNum": 8
   },
   {
    "_defaultOrder": 4,
    "_isFastLaunch": true,
    "category": "General purpose",
    "gpuNum": 0,
    "hideHardwareSpecs": false,
    "memoryGiB": 8,
    "name": "ml.m5.large",
    "vcpuNum": 2
   },
   {
    "_defaultOrder": 5,
    "_isFastLaunch": false,
    "category": "General purpose",
    "gpuNum": 0,
    "hideHardwareSpecs": false,
    "memoryGiB": 16,
    "name": "ml.m5.xlarge",
    "vcpuNum": 4
   },
   {
    "_defaultOrder": 6,
    "_isFastLaunch": false,
    "category": "General purpose",
    "gpuNum": 0,
    "hideHardwareSpecs": false,
    "memoryGiB": 32,
    "name": "ml.m5.2xlarge",
    "vcpuNum": 8
   },
   {
    "_defaultOrder": 7,
    "_isFastLaunch": false,
    "category": "General purpose",
    "gpuNum": 0,
    "hideHardwareSpecs": false,
    "memoryGiB": 64,
    "name": "ml.m5.4xlarge",
    "vcpuNum": 16
   },
   {
    "_defaultOrder": 8,
    "_isFastLaunch": false,
    "category": "General purpose",
    "gpuNum": 0,
    "hideHardwareSpecs": false,
    "memoryGiB": 128,
    "name": "ml.m5.8xlarge",
    "vcpuNum": 32
   },
   {
    "_defaultOrder": 9,
    "_isFastLaunch": false,
    "category": "General purpose",
    "gpuNum": 0,
    "hideHardwareSpecs": false,
    "memoryGiB": 192,
    "name": "ml.m5.12xlarge",
    "vcpuNum": 48
   },
   {
    "_defaultOrder": 10,
    "_isFastLaunch": false,
    "category": "General purpose",
    "gpuNum": 0,
    "hideHardwareSpecs": false,
    "memoryGiB": 256,
    "name": "ml.m5.16xlarge",
    "vcpuNum": 64
   },
   {
    "_defaultOrder": 11,
    "_isFastLaunch": false,
    "category": "General purpose",
    "gpuNum": 0,
    "hideHardwareSpecs": false,
    "memoryGiB": 384,
    "name": "ml.m5.24xlarge",
    "vcpuNum": 96
   },
   {
    "_defaultOrder": 12,
    "_isFastLaunch": false,
    "category": "General purpose",
    "gpuNum": 0,
    "hideHardwareSpecs": false,
    "memoryGiB": 8,
    "name": "ml.m5d.large",
    "vcpuNum": 2
   },
   {
    "_defaultOrder": 13,
    "_isFastLaunch": false,
    "category": "General purpose",
    "gpuNum": 0,
    "hideHardwareSpecs": false,
    "memoryGiB": 16,
    "name": "ml.m5d.xlarge",
    "vcpuNum": 4
   },
   {
    "_defaultOrder": 14,
    "_isFastLaunch": false,
    "category": "General purpose",
    "gpuNum": 0,
    "hideHardwareSpecs": false,
    "memoryGiB": 32,
    "name": "ml.m5d.2xlarge",
    "vcpuNum": 8
   },
   {
    "_defaultOrder": 15,
    "_isFastLaunch": false,
    "category": "General purpose",
    "gpuNum": 0,
    "hideHardwareSpecs": false,
    "memoryGiB": 64,
    "name": "ml.m5d.4xlarge",
    "vcpuNum": 16
   },
   {
    "_defaultOrder": 16,
    "_isFastLaunch": false,
    "category": "General purpose",
    "gpuNum": 0,
    "hideHardwareSpecs": false,
    "memoryGiB": 128,
    "name": "ml.m5d.8xlarge",
    "vcpuNum": 32
   },
   {
    "_defaultOrder": 17,
    "_isFastLaunch": false,
    "category": "General purpose",
    "gpuNum": 0,
    "hideHardwareSpecs": false,
    "memoryGiB": 192,
    "name": "ml.m5d.12xlarge",
    "vcpuNum": 48
   },
   {
    "_defaultOrder": 18,
    "_isFastLaunch": false,
    "category": "General purpose",
    "gpuNum": 0,
    "hideHardwareSpecs": false,
    "memoryGiB": 256,
    "name": "ml.m5d.16xlarge",
    "vcpuNum": 64
   },
   {
    "_defaultOrder": 19,
    "_isFastLaunch": false,
    "category": "General purpose",
    "gpuNum": 0,
    "hideHardwareSpecs": false,
    "memoryGiB": 384,
    "name": "ml.m5d.24xlarge",
    "vcpuNum": 96
   },
   {
    "_defaultOrder": 20,
    "_isFastLaunch": false,
    "category": "General purpose",
    "gpuNum": 0,
    "hideHardwareSpecs": true,
    "memoryGiB": 0,
    "name": "ml.geospatial.interactive",
    "supportedImageNames": [
     "sagemaker-geospatial-v1-0"
    ],
    "vcpuNum": 0
   },
   {
    "_defaultOrder": 21,
    "_isFastLaunch": true,
    "category": "Compute optimized",
    "gpuNum": 0,
    "hideHardwareSpecs": false,
    "memoryGiB": 4,
    "name": "ml.c5.large",
    "vcpuNum": 2
   },
   {
    "_defaultOrder": 22,
    "_isFastLaunch": false,
    "category": "Compute optimized",
    "gpuNum": 0,
    "hideHardwareSpecs": false,
    "memoryGiB": 8,
    "name": "ml.c5.xlarge",
    "vcpuNum": 4
   },
   {
    "_defaultOrder": 23,
    "_isFastLaunch": false,
    "category": "Compute optimized",
    "gpuNum": 0,
    "hideHardwareSpecs": false,
    "memoryGiB": 16,
    "name": "ml.c5.2xlarge",
    "vcpuNum": 8
   },
   {
    "_defaultOrder": 24,
    "_isFastLaunch": false,
    "category": "Compute optimized",
    "gpuNum": 0,
    "hideHardwareSpecs": false,
    "memoryGiB": 32,
    "name": "ml.c5.4xlarge",
    "vcpuNum": 16
   },
   {
    "_defaultOrder": 25,
    "_isFastLaunch": false,
    "category": "Compute optimized",
    "gpuNum": 0,
    "hideHardwareSpecs": false,
    "memoryGiB": 72,
    "name": "ml.c5.9xlarge",
    "vcpuNum": 36
   },
   {
    "_defaultOrder": 26,
    "_isFastLaunch": false,
    "category": "Compute optimized",
    "gpuNum": 0,
    "hideHardwareSpecs": false,
    "memoryGiB": 96,
    "name": "ml.c5.12xlarge",
    "vcpuNum": 48
   },
   {
    "_defaultOrder": 27,
    "_isFastLaunch": false,
    "category": "Compute optimized",
    "gpuNum": 0,
    "hideHardwareSpecs": false,
    "memoryGiB": 144,
    "name": "ml.c5.18xlarge",
    "vcpuNum": 72
   },
   {
    "_defaultOrder": 28,
    "_isFastLaunch": false,
    "category": "Compute optimized",
    "gpuNum": 0,
    "hideHardwareSpecs": false,
    "memoryGiB": 192,
    "name": "ml.c5.24xlarge",
    "vcpuNum": 96
   },
   {
    "_defaultOrder": 29,
    "_isFastLaunch": true,
    "category": "Accelerated computing",
    "gpuNum": 1,
    "hideHardwareSpecs": false,
    "memoryGiB": 16,
    "name": "ml.g4dn.xlarge",
    "vcpuNum": 4
   },
   {
    "_defaultOrder": 30,
    "_isFastLaunch": false,
    "category": "Accelerated computing",
    "gpuNum": 1,
    "hideHardwareSpecs": false,
    "memoryGiB": 32,
    "name": "ml.g4dn.2xlarge",
    "vcpuNum": 8
   },
   {
    "_defaultOrder": 31,
    "_isFastLaunch": false,
    "category": "Accelerated computing",
    "gpuNum": 1,
    "hideHardwareSpecs": false,
    "memoryGiB": 64,
    "name": "ml.g4dn.4xlarge",
    "vcpuNum": 16
   },
   {
    "_defaultOrder": 32,
    "_isFastLaunch": false,
    "category": "Accelerated computing",
    "gpuNum": 1,
    "hideHardwareSpecs": false,
    "memoryGiB": 128,
    "name": "ml.g4dn.8xlarge",
    "vcpuNum": 32
   },
   {
    "_defaultOrder": 33,
    "_isFastLaunch": false,
    "category": "Accelerated computing",
    "gpuNum": 4,
    "hideHardwareSpecs": false,
    "memoryGiB": 192,
    "name": "ml.g4dn.12xlarge",
    "vcpuNum": 48
   },
   {
    "_defaultOrder": 34,
    "_isFastLaunch": false,
    "category": "Accelerated computing",
    "gpuNum": 1,
    "hideHardwareSpecs": false,
    "memoryGiB": 256,
    "name": "ml.g4dn.16xlarge",
    "vcpuNum": 64
   },
   {
    "_defaultOrder": 35,
    "_isFastLaunch": false,
    "category": "Accelerated computing",
    "gpuNum": 1,
    "hideHardwareSpecs": false,
    "memoryGiB": 61,
    "name": "ml.p3.2xlarge",
    "vcpuNum": 8
   },
   {
    "_defaultOrder": 36,
    "_isFastLaunch": false,
    "category": "Accelerated computing",
    "gpuNum": 4,
    "hideHardwareSpecs": false,
    "memoryGiB": 244,
    "name": "ml.p3.8xlarge",
    "vcpuNum": 32
   },
   {
    "_defaultOrder": 37,
    "_isFastLaunch": false,
    "category": "Accelerated computing",
    "gpuNum": 8,
    "hideHardwareSpecs": false,
    "memoryGiB": 488,
    "name": "ml.p3.16xlarge",
    "vcpuNum": 64
   },
   {
    "_defaultOrder": 38,
    "_isFastLaunch": false,
    "category": "Accelerated computing",
    "gpuNum": 8,
    "hideHardwareSpecs": false,
    "memoryGiB": 768,
    "name": "ml.p3dn.24xlarge",
    "vcpuNum": 96
   },
   {
    "_defaultOrder": 39,
    "_isFastLaunch": false,
    "category": "Memory Optimized",
    "gpuNum": 0,
    "hideHardwareSpecs": false,
    "memoryGiB": 16,
    "name": "ml.r5.large",
    "vcpuNum": 2
   },
   {
    "_defaultOrder": 40,
    "_isFastLaunch": false,
    "category": "Memory Optimized",
    "gpuNum": 0,
    "hideHardwareSpecs": false,
    "memoryGiB": 32,
    "name": "ml.r5.xlarge",
    "vcpuNum": 4
   },
   {
    "_defaultOrder": 41,
    "_isFastLaunch": false,
    "category": "Memory Optimized",
    "gpuNum": 0,
    "hideHardwareSpecs": false,
    "memoryGiB": 64,
    "name": "ml.r5.2xlarge",
    "vcpuNum": 8
   },
   {
    "_defaultOrder": 42,
    "_isFastLaunch": false,
    "category": "Memory Optimized",
    "gpuNum": 0,
    "hideHardwareSpecs": false,
    "memoryGiB": 128,
    "name": "ml.r5.4xlarge",
    "vcpuNum": 16
   },
   {
    "_defaultOrder": 43,
    "_isFastLaunch": false,
    "category": "Memory Optimized",
    "gpuNum": 0,
    "hideHardwareSpecs": false,
    "memoryGiB": 256,
    "name": "ml.r5.8xlarge",
    "vcpuNum": 32
   },
   {
    "_defaultOrder": 44,
    "_isFastLaunch": false,
    "category": "Memory Optimized",
    "gpuNum": 0,
    "hideHardwareSpecs": false,
    "memoryGiB": 384,
    "name": "ml.r5.12xlarge",
    "vcpuNum": 48
   },
   {
    "_defaultOrder": 45,
    "_isFastLaunch": false,
    "category": "Memory Optimized",
    "gpuNum": 0,
    "hideHardwareSpecs": false,
    "memoryGiB": 512,
    "name": "ml.r5.16xlarge",
    "vcpuNum": 64
   },
   {
    "_defaultOrder": 46,
    "_isFastLaunch": false,
    "category": "Memory Optimized",
    "gpuNum": 0,
    "hideHardwareSpecs": false,
    "memoryGiB": 768,
    "name": "ml.r5.24xlarge",
    "vcpuNum": 96
   },
   {
    "_defaultOrder": 47,
    "_isFastLaunch": false,
    "category": "Accelerated computing",
    "gpuNum": 1,
    "hideHardwareSpecs": false,
    "memoryGiB": 16,
    "name": "ml.g5.xlarge",
    "vcpuNum": 4
   },
   {
    "_defaultOrder": 48,
    "_isFastLaunch": false,
    "category": "Accelerated computing",
    "gpuNum": 1,
    "hideHardwareSpecs": false,
    "memoryGiB": 32,
    "name": "ml.g5.2xlarge",
    "vcpuNum": 8
   },
   {
    "_defaultOrder": 49,
    "_isFastLaunch": false,
    "category": "Accelerated computing",
    "gpuNum": 1,
    "hideHardwareSpecs": false,
    "memoryGiB": 64,
    "name": "ml.g5.4xlarge",
    "vcpuNum": 16
   },
   {
    "_defaultOrder": 50,
    "_isFastLaunch": false,
    "category": "Accelerated computing",
    "gpuNum": 1,
    "hideHardwareSpecs": false,
    "memoryGiB": 128,
    "name": "ml.g5.8xlarge",
    "vcpuNum": 32
   },
   {
    "_defaultOrder": 51,
    "_isFastLaunch": false,
    "category": "Accelerated computing",
    "gpuNum": 1,
    "hideHardwareSpecs": false,
    "memoryGiB": 256,
    "name": "ml.g5.16xlarge",
    "vcpuNum": 64
   },
   {
    "_defaultOrder": 52,
    "_isFastLaunch": false,
    "category": "Accelerated computing",
    "gpuNum": 4,
    "hideHardwareSpecs": false,
    "memoryGiB": 192,
    "name": "ml.g5.12xlarge",
    "vcpuNum": 48
   },
   {
    "_defaultOrder": 53,
    "_isFastLaunch": false,
    "category": "Accelerated computing",
    "gpuNum": 4,
    "hideHardwareSpecs": false,
    "memoryGiB": 384,
    "name": "ml.g5.24xlarge",
    "vcpuNum": 96
   },
   {
    "_defaultOrder": 54,
    "_isFastLaunch": false,
    "category": "Accelerated computing",
    "gpuNum": 8,
    "hideHardwareSpecs": false,
    "memoryGiB": 768,
    "name": "ml.g5.48xlarge",
    "vcpuNum": 192
   },
   {
    "_defaultOrder": 55,
    "_isFastLaunch": false,
    "category": "Accelerated computing",
    "gpuNum": 8,
    "hideHardwareSpecs": false,
    "memoryGiB": 1152,
    "name": "ml.p4d.24xlarge",
    "vcpuNum": 96
   },
   {
    "_defaultOrder": 56,
    "_isFastLaunch": false,
    "category": "Accelerated computing",
    "gpuNum": 8,
    "hideHardwareSpecs": false,
    "memoryGiB": 1152,
    "name": "ml.p4de.24xlarge",
    "vcpuNum": 96
   },
   {
    "_defaultOrder": 57,
    "_isFastLaunch": false,
    "category": "Accelerated computing",
    "gpuNum": 0,
    "hideHardwareSpecs": false,
    "memoryGiB": 32,
    "name": "ml.trn1.2xlarge",
    "vcpuNum": 8
   },
   {
    "_defaultOrder": 58,
    "_isFastLaunch": false,
    "category": "Accelerated computing",
    "gpuNum": 0,
    "hideHardwareSpecs": false,
    "memoryGiB": 512,
    "name": "ml.trn1.32xlarge",
    "vcpuNum": 128
   },
   {
    "_defaultOrder": 59,
    "_isFastLaunch": false,
    "category": "Accelerated computing",
    "gpuNum": 0,
    "hideHardwareSpecs": false,
    "memoryGiB": 512,
    "name": "ml.trn1n.32xlarge",
    "vcpuNum": 128
   }
  ],
  "instance_type": "ml.m5.2xlarge",
  "kernelspec": {
   "display_name": "Python 3 (Data Science 3.0)",
   "language": "python",
   "name": "python3__SAGEMAKER_INTERNAL__arn:aws:sagemaker:us-east-1:081325390199:image/sagemaker-data-science-310-v1"
  },
  "language_info": {
   "codemirror_mode": {
    "name": "ipython",
    "version": 3
   },
   "file_extension": ".py",
   "mimetype": "text/x-python",
   "name": "python",
   "nbconvert_exporter": "python",
   "pygments_lexer": "ipython3",
   "version": "3.10.6"
  }
 },
 "nbformat": 4,
 "nbformat_minor": 5
}
