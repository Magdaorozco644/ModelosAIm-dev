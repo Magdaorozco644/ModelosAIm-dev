{
 "cells": [
  {
   "cell_type": "code",
   "execution_count": 4,
   "id": "deb1c193-1e97-4a97-a63e-8a6d9f1e091c",
   "metadata": {},
   "outputs": [],
   "source": [
    "#pip install pyathena"
   ]
  },
  {
   "cell_type": "code",
   "execution_count": 5,
   "id": "b482530e-6132-481b-b8fd-46fea39e8064",
   "metadata": {
    "tags": []
   },
   "outputs": [],
   "source": [
    "#Libraries\n",
    "from pyathena import connect\n",
    "import pandas as pd\n",
    "import datetime as dt\n",
    "import numpy as np"
   ]
  },
  {
   "cell_type": "code",
   "execution_count": 7,
   "id": "a2bddb14-9e24-4a93-b2c3-4031c5e9665a",
   "metadata": {},
   "outputs": [
    {
     "name": "stderr",
     "output_type": "stream",
     "text": [
      "/tmp/ipykernel_35/1259278767.py:5: UserWarning: pandas only supports SQLAlchemy connectable (engine/connection) or database string URI or sqlite3 DBAPI2 connection. Other DBAPI2 objects are not tested. Please consider using SQLAlchemy.\n",
      "  df = pd.read_sql('''\n"
     ]
    }
   ],
   "source": [
    "from pyathena import connect\n",
    "import pandas as pd\n",
    "conn = connect(s3_staging_dir='s3://viamericas-datalake-dev-us-east-1-283731589572-athena/queryresults/',\n",
    "               region_name='us-east-1')\n",
    "df = pd.read_sql(''' \n",
    "SELECT\n",
    "    CAST(RTRIM(p.NAME_MAIN_BRANCH) AS VARCHAR(60)) AS PAYER,\n",
    "    RTRIM(co.NAME_COUNTRY) AS COUNTRY,\n",
    "    CAST(DATE_FORMAT(a.DATE_RECEIVER, '%Y-%m-%d') AS DATE) AS DATE,\n",
    "    a.ID_SENDER,\n",
    "    a.ID_BRANCH,\n",
    "    s.UUID,\n",
    "    SUM(CASE WHEN (a.ID_FLAG_RECEIVER = 'A' OR a.ID_FLAG_RECEIVER = 'C') THEN 0 ELSE a.NET_AMOUNT_RECEIVER END) AS AMOUNT\n",
    "FROM\n",
    "    AwsDataCatalog.viamericas.RECEIVER a\n",
    "    INNER JOIN AwsDataCatalog.viamericas.GROUP_BRANCH p ON p.ID_MAIN_BRANCH = CASE WHEN a.ID_MAIN_BRANCH_EXPIRED IS NULL THEN RTRIM(a.ID_MAIN_BRANCH_SENT) ELSE RTRIM(a.ID_MAIN_BRANCH_EXPIRED) END\n",
    "    INNER JOIN AwsDataCatalog.viamericas.COUNTRY co ON a.ID_COUNTRY_RECEIVER = co.ID_COUNTRY\n",
    "    LEFT JOIN AwsDataCatalog.viamericas.BRANCH b ON a.ID_BRANCH = b.ID_BRANCH\n",
    "    LEFT JOIN AwsDataCatalog.viamericas.SENDER s ON a.ID_SENDER = s.id_sender AND a.ID_BRANCH = s.ID_BRANCH -- Union con la tabla SENDER\n",
    "WHERE\n",
    "    NOT (a.ID_MAIN_BRANCH_SENT LIKE 'M%')\n",
    "    AND NOT (a.ID_BRANCH LIKE 'T%')\n",
    "    AND SUBSTRING(b.id_branch, 1, 1) IN (SELECT SUBSTRING(PREFIX, 1, 1) FROM AwsDataCatalog.viamericas.BRANCH_PREFIX P WHERE TRIM(b.ID_COUNTRY) = TRIM(P.ID_COUNTRY))\n",
    "    AND a.DATE_RECEIVER >= TIMESTAMP '2022-06-01 00:00:00.000'\n",
    "    AND a.DATE_RECEIVER < TIMESTAMP '2022-06-30 00:00:00.000'\n",
    "    AND b.ID_LOCATION IS NOT NULL\n",
    "    AND b.ID_LOCATION NOT IN ('MD0010', 'MD0952', 'AK0003', 'CA3897', 'NY1130', 'MD0696', 'FL1933', 'AK0004', 'CA4046', 'NY1221', 'MD0623', 'MD1003', 'MD1018', 'AK0008', 'CA4291', 'NY1346', 'CA4350', 'NY1381','OK0236','FL2287','CA4391','AK0009', 'NY1397','CA4392','AK0010','FL2288','NY1399','AK0012','CA4396','NY1402','FL2289','AK0013', 'CA4418','NY1410','FL2301','AK0014', 'CA4428', 'NY1413')\n",
    "GROUP BY\n",
    "    RTRIM(p.NAME_MAIN_BRANCH),\n",
    "    RTRIM(co.NAME_COUNTRY),\n",
    "    CAST(DATE_FORMAT(a.DATE_RECEIVER, '%Y-%m-%d') AS DATE),\n",
    "    a.ID_SENDER,\n",
    "    a.ID_BRANCH,\n",
    "    s.UUID\n",
    "''', conn)"
   ]
  },
  {
   "cell_type": "code",
   "execution_count": 9,
   "id": "1aed89ed-382a-4a47-8870-259f9257622e",
   "metadata": {},
   "outputs": [
    {
     "data": {
      "text/plain": [
       "835811"
      ]
     },
     "execution_count": 9,
     "metadata": {},
     "output_type": "execute_result"
    }
   ],
   "source": [
    "df.UUID.nunique()"
   ]
  },
  {
   "cell_type": "code",
   "execution_count": 14,
   "id": "a2f31d38-f25d-4335-8a5c-f01ea152670c",
   "metadata": {
    "tags": []
   },
   "outputs": [],
   "source": [
    "df = df[df['AMOUNT'] != 0] # Limpio los 0"
   ]
  },
  {
   "cell_type": "code",
   "execution_count": 15,
   "id": "663dddce-67f3-4a65-88ce-7f1cebc74592",
   "metadata": {
    "tags": []
   },
   "outputs": [
    {
     "name": "stdout",
     "output_type": "stream",
     "text": [
      "<class 'pandas.core.frame.DataFrame'>\n",
      "Index: 1511181 entries, 0 to 1566739\n",
      "Data columns (total 7 columns):\n",
      " #   Column     Non-Null Count    Dtype  \n",
      "---  ------     --------------    -----  \n",
      " 0   PAYER      1511181 non-null  object \n",
      " 1   COUNTRY    1511181 non-null  object \n",
      " 2   DATE       1511181 non-null  object \n",
      " 3   ID_SENDER  1511181 non-null  float64\n",
      " 4   ID_BRANCH  1511181 non-null  object \n",
      " 5   UUID       1489148 non-null  object \n",
      " 6   AMOUNT     1511181 non-null  float64\n",
      "dtypes: float64(2), object(5)\n",
      "memory usage: 92.2+ MB\n"
     ]
    }
   ],
   "source": [
    "df.info()"
   ]
  },
  {
   "cell_type": "code",
   "execution_count": 20,
   "id": "e7889a8f-72d6-483e-9bde-13d8052eeec8",
   "metadata": {
    "tags": []
   },
   "outputs": [
    {
     "name": "stderr",
     "output_type": "stream",
     "text": [
      "/tmp/ipykernel_35/3582399402.py:1: SettingWithCopyWarning: \n",
      "A value is trying to be set on a copy of a slice from a DataFrame.\n",
      "Try using .loc[row_indexer,col_indexer] = value instead\n",
      "\n",
      "See the caveats in the documentation: https://pandas.pydata.org/pandas-docs/stable/user_guide/indexing.html#returning-a-view-versus-a-copy\n",
      "  df['ID_SENDER'] = df['ID_SENDER'].astype(int).astype(str)\n"
     ]
    }
   ],
   "source": [
    "df['ID_SENDER'] = df['ID_SENDER'].astype(int).astype(str)"
   ]
  },
  {
   "cell_type": "code",
   "execution_count": 22,
   "id": "59b84919-5137-46a3-b2b8-3dcb73bd8c1e",
   "metadata": {
    "tags": []
   },
   "outputs": [
    {
     "name": "stderr",
     "output_type": "stream",
     "text": [
      "/tmp/ipykernel_35/2541906660.py:1: SettingWithCopyWarning: \n",
      "A value is trying to be set on a copy of a slice from a DataFrame.\n",
      "Try using .loc[row_indexer,col_indexer] = value instead\n",
      "\n",
      "See the caveats in the documentation: https://pandas.pydata.org/pandas-docs/stable/user_guide/indexing.html#returning-a-view-versus-a-copy\n",
      "  df['DATE'] = pd.to_datetime(df['DATE'])\n"
     ]
    }
   ],
   "source": [
    "df['DATE'] = pd.to_datetime(df['DATE'])"
   ]
  },
  {
   "cell_type": "code",
   "execution_count": 28,
   "id": "fcc4af9b-2a16-456f-b7d9-320ebf0b4deb",
   "metadata": {
    "tags": []
   },
   "outputs": [
    {
     "name": "stderr",
     "output_type": "stream",
     "text": [
      "/tmp/ipykernel_35/4234537024.py:1: SettingWithCopyWarning: \n",
      "A value is trying to be set on a copy of a slice from a DataFrame.\n",
      "Try using .loc[row_indexer,col_indexer] = value instead\n",
      "\n",
      "See the caveats in the documentation: https://pandas.pydata.org/pandas-docs/stable/user_guide/indexing.html#returning-a-view-versus-a-copy\n",
      "  df['PAYER_COUNTRY'] = df['PAYER'] +'_'+df['COUNTRY']\n"
     ]
    }
   ],
   "source": [
    "df['PAYER_COUNTRY'] = df['PAYER'] +'_'+df['COUNTRY']"
   ]
  },
  {
   "cell_type": "code",
   "execution_count": 33,
   "id": "8057c962-45db-41bd-bbcc-1f72e3883fe1",
   "metadata": {
    "tags": []
   },
   "outputs": [
    {
     "name": "stderr",
     "output_type": "stream",
     "text": [
      "/tmp/ipykernel_35/4019911665.py:1: SettingWithCopyWarning: \n",
      "A value is trying to be set on a copy of a slice from a DataFrame.\n",
      "Try using .loc[row_indexer,col_indexer] = value instead\n",
      "\n",
      "See the caveats in the documentation: https://pandas.pydata.org/pandas-docs/stable/user_guide/indexing.html#returning-a-view-versus-a-copy\n",
      "  df['SENDER_BRANCH'] = df['ID_SENDER']+'_'+df['ID_BRANCH']\n"
     ]
    }
   ],
   "source": [
    "df['SENDER_BRANCH'] = df['ID_SENDER']+'_'+df['ID_BRANCH']"
   ]
  },
  {
   "cell_type": "code",
   "execution_count": 34,
   "id": "9c9eb6f1-f0ce-465e-8ad5-ff95559bffe4",
   "metadata": {
    "tags": []
   },
   "outputs": [
    {
     "name": "stdout",
     "output_type": "stream",
     "text": [
      "<class 'pandas.core.frame.DataFrame'>\n",
      "Index: 1511181 entries, 0 to 1566739\n",
      "Data columns (total 9 columns):\n",
      " #   Column         Non-Null Count    Dtype         \n",
      "---  ------         --------------    -----         \n",
      " 0   PAYER          1511181 non-null  object        \n",
      " 1   COUNTRY        1511181 non-null  object        \n",
      " 2   DATE           1511181 non-null  datetime64[ns]\n",
      " 3   ID_SENDER      1511181 non-null  object        \n",
      " 4   ID_BRANCH      1511181 non-null  object        \n",
      " 5   UUID           1489148 non-null  object        \n",
      " 6   AMOUNT         1511181 non-null  float64       \n",
      " 7   PAYER_COUNTRY  1511181 non-null  object        \n",
      " 8   SENDER_BRANCH  1511181 non-null  object        \n",
      "dtypes: datetime64[ns](1), float64(1), object(7)\n",
      "memory usage: 115.3+ MB\n"
     ]
    }
   ],
   "source": [
    "df.info()"
   ]
  },
  {
   "cell_type": "code",
   "execution_count": 35,
   "id": "8e899ed0-ece9-434a-93c7-91234bd12c64",
   "metadata": {
    "tags": []
   },
   "outputs": [
    {
     "data": {
      "text/plain": [
       "PAYER                87\n",
       "COUNTRY              46\n",
       "DATE                 29\n",
       "ID_SENDER         39045\n",
       "ID_BRANCH          4293\n",
       "UUID             826244\n",
       "AMOUNT            20720\n",
       "PAYER_COUNTRY       122\n",
       "SENDER_BRANCH    888920\n",
       "dtype: int64"
      ]
     },
     "execution_count": 35,
     "metadata": {},
     "output_type": "execute_result"
    }
   ],
   "source": [
    "df.nunique()"
   ]
  },
  {
   "cell_type": "code",
   "execution_count": 36,
   "id": "dc00f37f-0c25-43fd-97eb-981a3261dd6b",
   "metadata": {
    "tags": []
   },
   "outputs": [
    {
     "data": {
      "text/html": [
       "<div>\n",
       "<style scoped>\n",
       "    .dataframe tbody tr th:only-of-type {\n",
       "        vertical-align: middle;\n",
       "    }\n",
       "\n",
       "    .dataframe tbody tr th {\n",
       "        vertical-align: top;\n",
       "    }\n",
       "\n",
       "    .dataframe thead th {\n",
       "        text-align: right;\n",
       "    }\n",
       "</style>\n",
       "<table border=\"1\" class=\"dataframe\">\n",
       "  <thead>\n",
       "    <tr style=\"text-align: right;\">\n",
       "      <th></th>\n",
       "      <th>PAYER</th>\n",
       "      <th>COUNTRY</th>\n",
       "      <th>DATE</th>\n",
       "      <th>ID_SENDER</th>\n",
       "      <th>ID_BRANCH</th>\n",
       "      <th>UUID</th>\n",
       "      <th>AMOUNT</th>\n",
       "      <th>PAYER_COUNTRY</th>\n",
       "      <th>SENDER_BRANCH</th>\n",
       "    </tr>\n",
       "  </thead>\n",
       "  <tbody>\n",
       "    <tr>\n",
       "      <th>291</th>\n",
       "      <td>BANCO DE ORO (BDO)</td>\n",
       "      <td>PHILIPPINES</td>\n",
       "      <td>2022-06-07</td>\n",
       "      <td>169</td>\n",
       "      <td>A16167</td>\n",
       "      <td>None</td>\n",
       "      <td>1500.74</td>\n",
       "      <td>BANCO DE ORO (BDO)_PHILIPPINES</td>\n",
       "      <td>169_A16167</td>\n",
       "    </tr>\n",
       "    <tr>\n",
       "      <th>350</th>\n",
       "      <td>ENVIOS CON CLABE (APPRIZA)</td>\n",
       "      <td>MEXICO</td>\n",
       "      <td>2022-06-07</td>\n",
       "      <td>799</td>\n",
       "      <td>A14227</td>\n",
       "      <td>None</td>\n",
       "      <td>83.00</td>\n",
       "      <td>ENVIOS CON CLABE (APPRIZA)_MEXICO</td>\n",
       "      <td>799_A14227</td>\n",
       "    </tr>\n",
       "    <tr>\n",
       "      <th>380</th>\n",
       "      <td>INTERMEX</td>\n",
       "      <td>MEXICO</td>\n",
       "      <td>2022-06-07</td>\n",
       "      <td>56</td>\n",
       "      <td>A22562</td>\n",
       "      <td>None</td>\n",
       "      <td>250.00</td>\n",
       "      <td>INTERMEX_MEXICO</td>\n",
       "      <td>56_A22562</td>\n",
       "    </tr>\n",
       "    <tr>\n",
       "      <th>444</th>\n",
       "      <td>BANCOPPEL (APPRIZA)</td>\n",
       "      <td>MEXICO</td>\n",
       "      <td>2022-06-07</td>\n",
       "      <td>479</td>\n",
       "      <td>A00922</td>\n",
       "      <td>None</td>\n",
       "      <td>390.00</td>\n",
       "      <td>BANCOPPEL (APPRIZA)_MEXICO</td>\n",
       "      <td>479_A00922</td>\n",
       "    </tr>\n",
       "    <tr>\n",
       "      <th>613</th>\n",
       "      <td>BANRURAL (RYT)</td>\n",
       "      <td>GUATEMALA</td>\n",
       "      <td>2022-06-25</td>\n",
       "      <td>36</td>\n",
       "      <td>A22562</td>\n",
       "      <td>None</td>\n",
       "      <td>600.00</td>\n",
       "      <td>BANRURAL (RYT)_GUATEMALA</td>\n",
       "      <td>36_A22562</td>\n",
       "    </tr>\n",
       "    <tr>\n",
       "      <th>...</th>\n",
       "      <td>...</td>\n",
       "      <td>...</td>\n",
       "      <td>...</td>\n",
       "      <td>...</td>\n",
       "      <td>...</td>\n",
       "      <td>...</td>\n",
       "      <td>...</td>\n",
       "      <td>...</td>\n",
       "      <td>...</td>\n",
       "    </tr>\n",
       "    <tr>\n",
       "      <th>1566473</th>\n",
       "      <td>ELEKTRA (MEXICO)</td>\n",
       "      <td>MEXICO</td>\n",
       "      <td>2022-06-11</td>\n",
       "      <td>1143</td>\n",
       "      <td>A18124</td>\n",
       "      <td>None</td>\n",
       "      <td>354.00</td>\n",
       "      <td>ELEKTRA (MEXICO)_MEXICO</td>\n",
       "      <td>1143_A18124</td>\n",
       "    </tr>\n",
       "    <tr>\n",
       "      <th>1566476</th>\n",
       "      <td>BANCO INDUSTRIAL</td>\n",
       "      <td>GUATEMALA</td>\n",
       "      <td>2022-06-11</td>\n",
       "      <td>477</td>\n",
       "      <td>A19052</td>\n",
       "      <td>None</td>\n",
       "      <td>990.00</td>\n",
       "      <td>BANCO INDUSTRIAL_GUATEMALA</td>\n",
       "      <td>477_A19052</td>\n",
       "    </tr>\n",
       "    <tr>\n",
       "      <th>1566489</th>\n",
       "      <td>BANORTE (UT)</td>\n",
       "      <td>MEXICO</td>\n",
       "      <td>2022-06-11</td>\n",
       "      <td>1756</td>\n",
       "      <td>A18124</td>\n",
       "      <td>None</td>\n",
       "      <td>1700.00</td>\n",
       "      <td>BANORTE (UT)_MEXICO</td>\n",
       "      <td>1756_A18124</td>\n",
       "    </tr>\n",
       "    <tr>\n",
       "      <th>1566592</th>\n",
       "      <td>BANCO INDUSTRIAL</td>\n",
       "      <td>GUATEMALA</td>\n",
       "      <td>2022-06-11</td>\n",
       "      <td>429</td>\n",
       "      <td>A17633</td>\n",
       "      <td>None</td>\n",
       "      <td>2000.00</td>\n",
       "      <td>BANCO INDUSTRIAL_GUATEMALA</td>\n",
       "      <td>429_A17633</td>\n",
       "    </tr>\n",
       "    <tr>\n",
       "      <th>1566668</th>\n",
       "      <td>CUSCA (CITI - RECIBA NETWORKS)</td>\n",
       "      <td>EL SALVADOR</td>\n",
       "      <td>2022-06-11</td>\n",
       "      <td>1958</td>\n",
       "      <td>A01862</td>\n",
       "      <td>None</td>\n",
       "      <td>75.00</td>\n",
       "      <td>CUSCA (CITI - RECIBA NETWORKS)_EL SALVADOR</td>\n",
       "      <td>1958_A01862</td>\n",
       "    </tr>\n",
       "  </tbody>\n",
       "</table>\n",
       "<p>22033 rows × 9 columns</p>\n",
       "</div>"
      ],
      "text/plain": [
       "                                  PAYER      COUNTRY       DATE ID_SENDER  \\\n",
       "291                  BANCO DE ORO (BDO)  PHILIPPINES 2022-06-07       169   \n",
       "350          ENVIOS CON CLABE (APPRIZA)       MEXICO 2022-06-07       799   \n",
       "380                            INTERMEX       MEXICO 2022-06-07        56   \n",
       "444                 BANCOPPEL (APPRIZA)       MEXICO 2022-06-07       479   \n",
       "613                      BANRURAL (RYT)    GUATEMALA 2022-06-25        36   \n",
       "...                                 ...          ...        ...       ...   \n",
       "1566473                ELEKTRA (MEXICO)       MEXICO 2022-06-11      1143   \n",
       "1566476                BANCO INDUSTRIAL    GUATEMALA 2022-06-11       477   \n",
       "1566489                    BANORTE (UT)       MEXICO 2022-06-11      1756   \n",
       "1566592                BANCO INDUSTRIAL    GUATEMALA 2022-06-11       429   \n",
       "1566668  CUSCA (CITI - RECIBA NETWORKS)  EL SALVADOR 2022-06-11      1958   \n",
       "\n",
       "          ID_BRANCH  UUID   AMOUNT  \\\n",
       "291      A16167      None  1500.74   \n",
       "350      A14227      None    83.00   \n",
       "380      A22562      None   250.00   \n",
       "444      A00922      None   390.00   \n",
       "613      A22562      None   600.00   \n",
       "...             ...   ...      ...   \n",
       "1566473  A18124      None   354.00   \n",
       "1566476  A19052      None   990.00   \n",
       "1566489  A18124      None  1700.00   \n",
       "1566592  A17633      None  2000.00   \n",
       "1566668  A01862      None    75.00   \n",
       "\n",
       "                                      PAYER_COUNTRY    SENDER_BRANCH  \n",
       "291                  BANCO DE ORO (BDO)_PHILIPPINES   169_A16167      \n",
       "350               ENVIOS CON CLABE (APPRIZA)_MEXICO   799_A14227      \n",
       "380                                 INTERMEX_MEXICO    56_A22562      \n",
       "444                      BANCOPPEL (APPRIZA)_MEXICO   479_A00922      \n",
       "613                        BANRURAL (RYT)_GUATEMALA    36_A22562      \n",
       "...                                             ...              ...  \n",
       "1566473                     ELEKTRA (MEXICO)_MEXICO  1143_A18124      \n",
       "1566476                  BANCO INDUSTRIAL_GUATEMALA   477_A19052      \n",
       "1566489                         BANORTE (UT)_MEXICO  1756_A18124      \n",
       "1566592                  BANCO INDUSTRIAL_GUATEMALA   429_A17633      \n",
       "1566668  CUSCA (CITI - RECIBA NETWORKS)_EL SALVADOR  1958_A01862      \n",
       "\n",
       "[22033 rows x 9 columns]"
      ]
     },
     "execution_count": 36,
     "metadata": {},
     "output_type": "execute_result"
    }
   ],
   "source": [
    "df[df.UUID.isnull()]"
   ]
  },
  {
   "cell_type": "code",
   "execution_count": 38,
   "id": "e0986daf-2047-4295-b497-c039a55603f6",
   "metadata": {
    "tags": []
   },
   "outputs": [],
   "source": [
    "def fetch_data(start_date, end_date):\n",
    "#    conn = connect(s3_staging_dir='s3://viamericas-datalake-dev-us-east-1-283731589572-athena/queryresults/',\n",
    "#                   region_name='us-east-1')\n",
    "\n",
    "    query = f'''\n",
    "    SELECT\n",
    "        CAST(RTRIM(p.NAME_MAIN_BRANCH) AS VARCHAR(60)) AS PAYER,\n",
    "        RTRIM(co.NAME_COUNTRY) AS COUNTRY,\n",
    "        CAST(DATE_FORMAT(a.DATE_RECEIVER, '%Y-%m-%d') AS DATE) AS DATE,\n",
    "        a.ID_SENDER,\n",
    "        a.ID_BRANCH,\n",
    "        s.UUID,\n",
    "        SUM(CASE WHEN (a.ID_FLAG_RECEIVER = 'A' OR a.ID_FLAG_RECEIVER = 'C') THEN 0 ELSE a.NET_AMOUNT_RECEIVER END) AS AMOUNT\n",
    "    FROM\n",
    "        AwsDataCatalog.viamericas.RECEIVER a\n",
    "        INNER JOIN AwsDataCatalog.viamericas.GROUP_BRANCH p ON p.ID_MAIN_BRANCH = CASE WHEN a.ID_MAIN_BRANCH_EXPIRED IS NULL THEN RTRIM(a.ID_MAIN_BRANCH_SENT) ELSE RTRIM(a.ID_MAIN_BRANCH_EXPIRED) END\n",
    "        INNER JOIN AwsDataCatalog.viamericas.COUNTRY co ON a.ID_COUNTRY_RECEIVER = co.ID_COUNTRY\n",
    "        LEFT JOIN AwsDataCatalog.viamericas.BRANCH b ON a.ID_BRANCH = b.ID_BRANCH\n",
    "        LEFT JOIN AwsDataCatalog.viamericas.SENDER s ON a.ID_SENDER = s.id_sender AND a.ID_BRANCH = s.ID_BRANCH -- Union con la tabla SENDER\n",
    "    WHERE\n",
    "        NOT (a.ID_MAIN_BRANCH_SENT LIKE 'M%')\n",
    "        AND NOT (a.ID_BRANCH LIKE 'T%')\n",
    "        AND SUBSTRING(b.id_branch, 1, 1) IN (SELECT SUBSTRING(PREFIX, 1, 1) FROM AwsDataCatalog.viamericas.BRANCH_PREFIX P WHERE TRIM(b.ID_COUNTRY) = TRIM(P.ID_COUNTRY))\n",
    "        AND a.DATE_RECEIVER >= TIMESTAMP '{start_date} 00:00:00.000'\n",
    "        AND a.DATE_RECEIVER < TIMESTAMP '{end_date} 00:00:00.000'\n",
    "        AND b.ID_LOCATION IS NOT NULL\n",
    "        AND b.ID_LOCATION NOT IN ('MD0010', 'MD0952', 'AK0003', 'CA3897', 'NY1130', 'MD0696', 'FL1933', 'AK0004', 'CA4046', 'NY1221', 'MD0623', 'MD1003', 'MD1018', 'AK0008', 'CA4291', 'NY1346', 'CA4350', 'NY1381','OK0236','FL2287','CA4391','AK0009', 'NY1397','CA4392','AK0010','FL2288','NY1399','AK0012','CA4396','NY1402','FL2289','AK0013', 'CA4418','NY1410','FL2301','AK0014', 'CA4428', 'NY1413')\n",
    "    GROUP BY\n",
    "        RTRIM(p.NAME_MAIN_BRANCH),\n",
    "        RTRIM(co.NAME_COUNTRY),\n",
    "        CAST(DATE_FORMAT(a.DATE_RECEIVER, '%Y-%m-%d') AS DATE),\n",
    "        a.ID_SENDER,\n",
    "        a.ID_BRANCH,\n",
    "        s.UUID\n",
    "    '''\n",
    "    \n",
    "    df = pd.read_sql(query, conn)\n",
    "    df = df[df['AMOUNT'] != 0]  # Filtrar registros con AMOUNT distinto de cero\n",
    "    df['ID_SENDER'] = df['ID_SENDER'].astype(int).astype(str)\n",
    "    df['DATE'] = pd.to_datetime(df['DATE'])\n",
    "    df['PAYER_COUNTRY'] = df['PAYER'] + '_' + df['COUNTRY']\n",
    "    df['SENDER_BRANCH'] = df['ID_SENDER'] + '_' + df['ID_BRANCH']\n",
    "    \n",
    "    return df"
   ]
  },
  {
   "cell_type": "code",
   "execution_count": 39,
   "id": "22af6cd4-a8af-42be-af2b-cc7a265a9e4c",
   "metadata": {
    "tags": []
   },
   "outputs": [
    {
     "name": "stderr",
     "output_type": "stream",
     "text": [
      "/tmp/ipykernel_35/1981944711.py:37: UserWarning: pandas only supports SQLAlchemy connectable (engine/connection) or database string URI or sqlite3 DBAPI2 connection. Other DBAPI2 objects are not tested. Please consider using SQLAlchemy.\n",
      "  df = pd.read_sql(query, conn)\n"
     ]
    }
   ],
   "source": [
    "# Llamada a la función con las fechas deseadas\n",
    "start_date = '2021-12-01'\n",
    "end_date = '2021-12-31'\n",
    "data_Dec21 = fetch_data(start_date, end_date)"
   ]
  },
  {
   "cell_type": "code",
   "execution_count": 40,
   "id": "a461036a-0869-496f-b17f-ec8c8379d0d4",
   "metadata": {
    "tags": []
   },
   "outputs": [
    {
     "data": {
      "text/html": [
       "<div>\n",
       "<style scoped>\n",
       "    .dataframe tbody tr th:only-of-type {\n",
       "        vertical-align: middle;\n",
       "    }\n",
       "\n",
       "    .dataframe tbody tr th {\n",
       "        vertical-align: top;\n",
       "    }\n",
       "\n",
       "    .dataframe thead th {\n",
       "        text-align: right;\n",
       "    }\n",
       "</style>\n",
       "<table border=\"1\" class=\"dataframe\">\n",
       "  <thead>\n",
       "    <tr style=\"text-align: right;\">\n",
       "      <th></th>\n",
       "      <th>PAYER</th>\n",
       "      <th>COUNTRY</th>\n",
       "      <th>DATE</th>\n",
       "      <th>ID_SENDER</th>\n",
       "      <th>ID_BRANCH</th>\n",
       "      <th>UUID</th>\n",
       "      <th>AMOUNT</th>\n",
       "      <th>PAYER_COUNTRY</th>\n",
       "      <th>SENDER_BRANCH</th>\n",
       "    </tr>\n",
       "  </thead>\n",
       "  <tbody>\n",
       "    <tr>\n",
       "      <th>0</th>\n",
       "      <td>ELEKTRA (MEXICO)</td>\n",
       "      <td>MEXICO</td>\n",
       "      <td>2021-12-28</td>\n",
       "      <td>9003</td>\n",
       "      <td>A14272</td>\n",
       "      <td>b90a0a08-4e12-4c06-afc6-fed53d7b4cc7</td>\n",
       "      <td>1300.0</td>\n",
       "      <td>ELEKTRA (MEXICO)_MEXICO</td>\n",
       "      <td>9003_A14272</td>\n",
       "    </tr>\n",
       "    <tr>\n",
       "      <th>1</th>\n",
       "      <td>G Y T CONTINENTAL</td>\n",
       "      <td>GUATEMALA</td>\n",
       "      <td>2021-12-28</td>\n",
       "      <td>2037</td>\n",
       "      <td>A09694</td>\n",
       "      <td>aff45789-b982-48b0-962a-f01c14711536</td>\n",
       "      <td>400.0</td>\n",
       "      <td>G Y T CONTINENTAL_GUATEMALA</td>\n",
       "      <td>2037_A09694</td>\n",
       "    </tr>\n",
       "    <tr>\n",
       "      <th>2</th>\n",
       "      <td>BANCOPPEL (APPRIZA)</td>\n",
       "      <td>MEXICO</td>\n",
       "      <td>2021-12-28</td>\n",
       "      <td>4201</td>\n",
       "      <td>A19216</td>\n",
       "      <td>ecb7ff29-1cb7-47ad-b7a0-1a216e0ceb24</td>\n",
       "      <td>1000.0</td>\n",
       "      <td>BANCOPPEL (APPRIZA)_MEXICO</td>\n",
       "      <td>4201_A19216</td>\n",
       "    </tr>\n",
       "    <tr>\n",
       "      <th>3</th>\n",
       "      <td>CARIBE EXPRESS</td>\n",
       "      <td>DOMINICAN REPUBLIC</td>\n",
       "      <td>2021-12-28</td>\n",
       "      <td>3527</td>\n",
       "      <td>A19216</td>\n",
       "      <td>ee676498-db63-4434-a940-e92f5d74e12f</td>\n",
       "      <td>1000.0</td>\n",
       "      <td>CARIBE EXPRESS_DOMINICAN REPUBLIC</td>\n",
       "      <td>3527_A19216</td>\n",
       "    </tr>\n",
       "    <tr>\n",
       "      <th>4</th>\n",
       "      <td>BANRURAL (RYT)</td>\n",
       "      <td>GUATEMALA</td>\n",
       "      <td>2021-12-28</td>\n",
       "      <td>402</td>\n",
       "      <td>A19771</td>\n",
       "      <td>2a8aa419-19c1-46ae-946a-7ce46c6b21d5</td>\n",
       "      <td>300.0</td>\n",
       "      <td>BANRURAL (RYT)_GUATEMALA</td>\n",
       "      <td>402_A19771</td>\n",
       "    </tr>\n",
       "    <tr>\n",
       "      <th>...</th>\n",
       "      <td>...</td>\n",
       "      <td>...</td>\n",
       "      <td>...</td>\n",
       "      <td>...</td>\n",
       "      <td>...</td>\n",
       "      <td>...</td>\n",
       "      <td>...</td>\n",
       "      <td>...</td>\n",
       "      <td>...</td>\n",
       "    </tr>\n",
       "    <tr>\n",
       "      <th>1391958</th>\n",
       "      <td>ELEKTRA (BTS)</td>\n",
       "      <td>GUATEMALA</td>\n",
       "      <td>2021-12-23</td>\n",
       "      <td>13026</td>\n",
       "      <td>A19034</td>\n",
       "      <td>ee61df1d-bd43-489a-8270-1e694ee24910</td>\n",
       "      <td>165.0</td>\n",
       "      <td>ELEKTRA (BTS)_GUATEMALA</td>\n",
       "      <td>13026_A19034</td>\n",
       "    </tr>\n",
       "    <tr>\n",
       "      <th>1391959</th>\n",
       "      <td>BANCO INDUSTRIAL</td>\n",
       "      <td>GUATEMALA</td>\n",
       "      <td>2021-12-23</td>\n",
       "      <td>11558</td>\n",
       "      <td>A19034</td>\n",
       "      <td>93bcb5f6-7deb-4684-af8e-6d42fd96e5e4</td>\n",
       "      <td>600.0</td>\n",
       "      <td>BANCO INDUSTRIAL_GUATEMALA</td>\n",
       "      <td>11558_A19034</td>\n",
       "    </tr>\n",
       "    <tr>\n",
       "      <th>1391960</th>\n",
       "      <td>BANCO INDUSTRIAL</td>\n",
       "      <td>GUATEMALA</td>\n",
       "      <td>2021-12-23</td>\n",
       "      <td>7623</td>\n",
       "      <td>A19034</td>\n",
       "      <td>ab7cf4bd-73ea-4dbb-b612-150f6f55bb34</td>\n",
       "      <td>259.0</td>\n",
       "      <td>BANCO INDUSTRIAL_GUATEMALA</td>\n",
       "      <td>7623_A19034</td>\n",
       "    </tr>\n",
       "    <tr>\n",
       "      <th>1391961</th>\n",
       "      <td>BANCO INDUSTRIAL</td>\n",
       "      <td>GUATEMALA</td>\n",
       "      <td>2021-12-23</td>\n",
       "      <td>5995</td>\n",
       "      <td>A19034</td>\n",
       "      <td>5566547e-ee6f-4318-8b07-8035a5cd3580</td>\n",
       "      <td>309.0</td>\n",
       "      <td>BANCO INDUSTRIAL_GUATEMALA</td>\n",
       "      <td>5995_A19034</td>\n",
       "    </tr>\n",
       "    <tr>\n",
       "      <th>1391962</th>\n",
       "      <td>BANRURAL (RYT)</td>\n",
       "      <td>GUATEMALA</td>\n",
       "      <td>2021-12-23</td>\n",
       "      <td>7075</td>\n",
       "      <td>A16135</td>\n",
       "      <td>ece24f0a-e421-4351-ab44-a7b8b333d20e</td>\n",
       "      <td>87.0</td>\n",
       "      <td>BANRURAL (RYT)_GUATEMALA</td>\n",
       "      <td>7075_A16135</td>\n",
       "    </tr>\n",
       "  </tbody>\n",
       "</table>\n",
       "<p>1325729 rows × 9 columns</p>\n",
       "</div>"
      ],
      "text/plain": [
       "                       PAYER             COUNTRY       DATE ID_SENDER  \\\n",
       "0           ELEKTRA (MEXICO)              MEXICO 2021-12-28      9003   \n",
       "1          G Y T CONTINENTAL           GUATEMALA 2021-12-28      2037   \n",
       "2        BANCOPPEL (APPRIZA)              MEXICO 2021-12-28      4201   \n",
       "3             CARIBE EXPRESS  DOMINICAN REPUBLIC 2021-12-28      3527   \n",
       "4             BANRURAL (RYT)           GUATEMALA 2021-12-28       402   \n",
       "...                      ...                 ...        ...       ...   \n",
       "1391958        ELEKTRA (BTS)           GUATEMALA 2021-12-23     13026   \n",
       "1391959     BANCO INDUSTRIAL           GUATEMALA 2021-12-23     11558   \n",
       "1391960     BANCO INDUSTRIAL           GUATEMALA 2021-12-23      7623   \n",
       "1391961     BANCO INDUSTRIAL           GUATEMALA 2021-12-23      5995   \n",
       "1391962       BANRURAL (RYT)           GUATEMALA 2021-12-23      7075   \n",
       "\n",
       "          ID_BRANCH                                  UUID  AMOUNT  \\\n",
       "0        A14272      b90a0a08-4e12-4c06-afc6-fed53d7b4cc7  1300.0   \n",
       "1        A09694      aff45789-b982-48b0-962a-f01c14711536   400.0   \n",
       "2        A19216      ecb7ff29-1cb7-47ad-b7a0-1a216e0ceb24  1000.0   \n",
       "3        A19216      ee676498-db63-4434-a940-e92f5d74e12f  1000.0   \n",
       "4        A19771      2a8aa419-19c1-46ae-946a-7ce46c6b21d5   300.0   \n",
       "...             ...                                   ...     ...   \n",
       "1391958  A19034      ee61df1d-bd43-489a-8270-1e694ee24910   165.0   \n",
       "1391959  A19034      93bcb5f6-7deb-4684-af8e-6d42fd96e5e4   600.0   \n",
       "1391960  A19034      ab7cf4bd-73ea-4dbb-b612-150f6f55bb34   259.0   \n",
       "1391961  A19034      5566547e-ee6f-4318-8b07-8035a5cd3580   309.0   \n",
       "1391962  A16135      ece24f0a-e421-4351-ab44-a7b8b333d20e    87.0   \n",
       "\n",
       "                             PAYER_COUNTRY     SENDER_BRANCH  \n",
       "0                  ELEKTRA (MEXICO)_MEXICO   9003_A14272      \n",
       "1              G Y T CONTINENTAL_GUATEMALA   2037_A09694      \n",
       "2               BANCOPPEL (APPRIZA)_MEXICO   4201_A19216      \n",
       "3        CARIBE EXPRESS_DOMINICAN REPUBLIC   3527_A19216      \n",
       "4                 BANRURAL (RYT)_GUATEMALA    402_A19771      \n",
       "...                                    ...               ...  \n",
       "1391958            ELEKTRA (BTS)_GUATEMALA  13026_A19034      \n",
       "1391959         BANCO INDUSTRIAL_GUATEMALA  11558_A19034      \n",
       "1391960         BANCO INDUSTRIAL_GUATEMALA   7623_A19034      \n",
       "1391961         BANCO INDUSTRIAL_GUATEMALA   5995_A19034      \n",
       "1391962           BANRURAL (RYT)_GUATEMALA   7075_A16135      \n",
       "\n",
       "[1325729 rows x 9 columns]"
      ]
     },
     "execution_count": 40,
     "metadata": {},
     "output_type": "execute_result"
    }
   ],
   "source": [
    "data_Dec21"
   ]
  },
  {
   "cell_type": "code",
   "execution_count": 41,
   "id": "8e937c22-4c0f-4922-9aa0-87c32487f71c",
   "metadata": {
    "tags": []
   },
   "outputs": [
    {
     "name": "stdout",
     "output_type": "stream",
     "text": [
      "<class 'pandas.core.frame.DataFrame'>\n",
      "Index: 1325729 entries, 0 to 1391962\n",
      "Data columns (total 9 columns):\n",
      " #   Column         Non-Null Count    Dtype         \n",
      "---  ------         --------------    -----         \n",
      " 0   PAYER          1325729 non-null  object        \n",
      " 1   COUNTRY        1325729 non-null  object        \n",
      " 2   DATE           1325729 non-null  datetime64[ns]\n",
      " 3   ID_SENDER      1325729 non-null  object        \n",
      " 4   ID_BRANCH      1325729 non-null  object        \n",
      " 5   UUID           1303044 non-null  object        \n",
      " 6   AMOUNT         1325729 non-null  float64       \n",
      " 7   PAYER_COUNTRY  1325729 non-null  object        \n",
      " 8   SENDER_BRANCH  1325729 non-null  object        \n",
      "dtypes: datetime64[ns](1), float64(1), object(7)\n",
      "memory usage: 101.1+ MB\n"
     ]
    }
   ],
   "source": [
    "data_Dec21.info()"
   ]
  },
  {
   "cell_type": "code",
   "execution_count": 42,
   "id": "d8d63fae-69b2-4091-8743-39f72bef8cbf",
   "metadata": {
    "tags": []
   },
   "outputs": [
    {
     "data": {
      "text/plain": [
       "PAYER                86\n",
       "COUNTRY              35\n",
       "DATE                 30\n",
       "ID_SENDER         31565\n",
       "ID_BRANCH          4033\n",
       "UUID             724469\n",
       "AMOUNT            17404\n",
       "PAYER_COUNTRY       106\n",
       "SENDER_BRANCH    791012\n",
       "dtype: int64"
      ]
     },
     "execution_count": 42,
     "metadata": {},
     "output_type": "execute_result"
    }
   ],
   "source": [
    "data_Dec21.nunique()"
   ]
  },
  {
   "cell_type": "code",
   "execution_count": 44,
   "id": "0ff01a8c-79e2-4af6-8abe-5458c5dc81b2",
   "metadata": {
    "tags": []
   },
   "outputs": [
    {
     "name": "stderr",
     "output_type": "stream",
     "text": [
      "/tmp/ipykernel_35/1981944711.py:37: UserWarning: pandas only supports SQLAlchemy connectable (engine/connection) or database string URI or sqlite3 DBAPI2 connection. Other DBAPI2 objects are not tested. Please consider using SQLAlchemy.\n",
      "  df = pd.read_sql(query, conn)\n"
     ]
    }
   ],
   "source": [
    "# Llamada a la función con las fechas deseadas\n",
    "start_date = '2021-01-01'\n",
    "end_date = '2021-01-31'\n",
    "data_Jan21 = fetch_data(start_date, end_date)"
   ]
  },
  {
   "cell_type": "code",
   "execution_count": 45,
   "id": "17cfd728-2a46-43b2-a374-a22e6b6d4b70",
   "metadata": {
    "tags": []
   },
   "outputs": [
    {
     "data": {
      "text/html": [
       "<div>\n",
       "<style scoped>\n",
       "    .dataframe tbody tr th:only-of-type {\n",
       "        vertical-align: middle;\n",
       "    }\n",
       "\n",
       "    .dataframe tbody tr th {\n",
       "        vertical-align: top;\n",
       "    }\n",
       "\n",
       "    .dataframe thead th {\n",
       "        text-align: right;\n",
       "    }\n",
       "</style>\n",
       "<table border=\"1\" class=\"dataframe\">\n",
       "  <thead>\n",
       "    <tr style=\"text-align: right;\">\n",
       "      <th></th>\n",
       "      <th>PAYER</th>\n",
       "      <th>COUNTRY</th>\n",
       "      <th>DATE</th>\n",
       "      <th>ID_SENDER</th>\n",
       "      <th>ID_BRANCH</th>\n",
       "      <th>UUID</th>\n",
       "      <th>AMOUNT</th>\n",
       "      <th>PAYER_COUNTRY</th>\n",
       "      <th>SENDER_BRANCH</th>\n",
       "    </tr>\n",
       "  </thead>\n",
       "  <tbody>\n",
       "    <tr>\n",
       "      <th>0</th>\n",
       "      <td>BANRURAL (RYT)</td>\n",
       "      <td>GUATEMALA</td>\n",
       "      <td>2021-01-01</td>\n",
       "      <td>295</td>\n",
       "      <td>A15410</td>\n",
       "      <td>1e459032-a0e4-4601-bdd9-d9b999b40ec1</td>\n",
       "      <td>100.0</td>\n",
       "      <td>BANRURAL (RYT)_GUATEMALA</td>\n",
       "      <td>295_A15410</td>\n",
       "    </tr>\n",
       "    <tr>\n",
       "      <th>1</th>\n",
       "      <td>BANCO AGRICOLA</td>\n",
       "      <td>EL SALVADOR</td>\n",
       "      <td>2021-01-01</td>\n",
       "      <td>708</td>\n",
       "      <td>A15410</td>\n",
       "      <td>60e4b878-1b0f-42e8-9898-41bf82b926ab</td>\n",
       "      <td>190.0</td>\n",
       "      <td>BANCO AGRICOLA_EL SALVADOR</td>\n",
       "      <td>708_A15410</td>\n",
       "    </tr>\n",
       "    <tr>\n",
       "      <th>2</th>\n",
       "      <td>BANCO AGRICOLA</td>\n",
       "      <td>EL SALVADOR</td>\n",
       "      <td>2021-01-01</td>\n",
       "      <td>104</td>\n",
       "      <td>A15410</td>\n",
       "      <td>0f66da83-2f93-4320-91a2-f1f9ef8634a6</td>\n",
       "      <td>120.0</td>\n",
       "      <td>BANCO AGRICOLA_EL SALVADOR</td>\n",
       "      <td>104_A15410</td>\n",
       "    </tr>\n",
       "    <tr>\n",
       "      <th>3</th>\n",
       "      <td>BANCO AGRICOLA</td>\n",
       "      <td>EL SALVADOR</td>\n",
       "      <td>2021-01-01</td>\n",
       "      <td>185</td>\n",
       "      <td>A15410</td>\n",
       "      <td>896bf1c8-e4d9-498a-85a5-12a7f72294fc</td>\n",
       "      <td>420.0</td>\n",
       "      <td>BANCO AGRICOLA_EL SALVADOR</td>\n",
       "      <td>185_A15410</td>\n",
       "    </tr>\n",
       "    <tr>\n",
       "      <th>4</th>\n",
       "      <td>WALMART (UT)</td>\n",
       "      <td>MEXICO</td>\n",
       "      <td>2021-01-01</td>\n",
       "      <td>387</td>\n",
       "      <td>A17533</td>\n",
       "      <td>5463eda1-34bc-4414-8b61-a1463ef8f858</td>\n",
       "      <td>315.0</td>\n",
       "      <td>WALMART (UT)_MEXICO</td>\n",
       "      <td>387_A17533</td>\n",
       "    </tr>\n",
       "    <tr>\n",
       "      <th>...</th>\n",
       "      <td>...</td>\n",
       "      <td>...</td>\n",
       "      <td>...</td>\n",
       "      <td>...</td>\n",
       "      <td>...</td>\n",
       "      <td>...</td>\n",
       "      <td>...</td>\n",
       "      <td>...</td>\n",
       "      <td>...</td>\n",
       "    </tr>\n",
       "    <tr>\n",
       "      <th>911034</th>\n",
       "      <td>CAJA POPULAR MEXICANA (UT)</td>\n",
       "      <td>MEXICO</td>\n",
       "      <td>2021-01-29</td>\n",
       "      <td>4270</td>\n",
       "      <td>A17395</td>\n",
       "      <td>4839879a-c804-4221-a43a-3e8149a6eb86</td>\n",
       "      <td>130.0</td>\n",
       "      <td>CAJA POPULAR MEXICANA (UT)_MEXICO</td>\n",
       "      <td>4270_A17395</td>\n",
       "    </tr>\n",
       "    <tr>\n",
       "      <th>911035</th>\n",
       "      <td>ELEKTRA (MEXICO)</td>\n",
       "      <td>MEXICO</td>\n",
       "      <td>2021-01-29</td>\n",
       "      <td>426</td>\n",
       "      <td>A17395</td>\n",
       "      <td>6835e62f-ffd6-48b9-9d54-c69dbc681a29</td>\n",
       "      <td>500.0</td>\n",
       "      <td>ELEKTRA (MEXICO)_MEXICO</td>\n",
       "      <td>426_A17395</td>\n",
       "    </tr>\n",
       "    <tr>\n",
       "      <th>911036</th>\n",
       "      <td>G Y T CONTINENTAL</td>\n",
       "      <td>GUATEMALA</td>\n",
       "      <td>2021-01-29</td>\n",
       "      <td>1024</td>\n",
       "      <td>A17523</td>\n",
       "      <td>9a7f2d8d-85b3-4541-b0a5-9f2b9618356e</td>\n",
       "      <td>194.0</td>\n",
       "      <td>G Y T CONTINENTAL_GUATEMALA</td>\n",
       "      <td>1024_A17523</td>\n",
       "    </tr>\n",
       "    <tr>\n",
       "      <th>911037</th>\n",
       "      <td>BANORTE (UT)</td>\n",
       "      <td>MEXICO</td>\n",
       "      <td>2021-01-29</td>\n",
       "      <td>3557</td>\n",
       "      <td>A17395</td>\n",
       "      <td>2ec72842-67d4-4daf-8ecb-1117e40a4ecf</td>\n",
       "      <td>200.0</td>\n",
       "      <td>BANORTE (UT)_MEXICO</td>\n",
       "      <td>3557_A17395</td>\n",
       "    </tr>\n",
       "    <tr>\n",
       "      <th>911038</th>\n",
       "      <td>G Y T CONTINENTAL</td>\n",
       "      <td>GUATEMALA</td>\n",
       "      <td>2021-01-29</td>\n",
       "      <td>3513</td>\n",
       "      <td>A17395</td>\n",
       "      <td>2fc79d6b-7646-465d-a4e1-6c48d137e202</td>\n",
       "      <td>1050.0</td>\n",
       "      <td>G Y T CONTINENTAL_GUATEMALA</td>\n",
       "      <td>3513_A17395</td>\n",
       "    </tr>\n",
       "  </tbody>\n",
       "</table>\n",
       "<p>868962 rows × 9 columns</p>\n",
       "</div>"
      ],
      "text/plain": [
       "                             PAYER      COUNTRY       DATE ID_SENDER  \\\n",
       "0                   BANRURAL (RYT)    GUATEMALA 2021-01-01       295   \n",
       "1                   BANCO AGRICOLA  EL SALVADOR 2021-01-01       708   \n",
       "2                   BANCO AGRICOLA  EL SALVADOR 2021-01-01       104   \n",
       "3                   BANCO AGRICOLA  EL SALVADOR 2021-01-01       185   \n",
       "4                     WALMART (UT)       MEXICO 2021-01-01       387   \n",
       "...                            ...          ...        ...       ...   \n",
       "911034  CAJA POPULAR MEXICANA (UT)       MEXICO 2021-01-29      4270   \n",
       "911035            ELEKTRA (MEXICO)       MEXICO 2021-01-29       426   \n",
       "911036           G Y T CONTINENTAL    GUATEMALA 2021-01-29      1024   \n",
       "911037                BANORTE (UT)       MEXICO 2021-01-29      3557   \n",
       "911038           G Y T CONTINENTAL    GUATEMALA 2021-01-29      3513   \n",
       "\n",
       "         ID_BRANCH                                  UUID  AMOUNT  \\\n",
       "0       A15410      1e459032-a0e4-4601-bdd9-d9b999b40ec1   100.0   \n",
       "1       A15410      60e4b878-1b0f-42e8-9898-41bf82b926ab   190.0   \n",
       "2       A15410      0f66da83-2f93-4320-91a2-f1f9ef8634a6   120.0   \n",
       "3       A15410      896bf1c8-e4d9-498a-85a5-12a7f72294fc   420.0   \n",
       "4       A17533      5463eda1-34bc-4414-8b61-a1463ef8f858   315.0   \n",
       "...            ...                                   ...     ...   \n",
       "911034  A17395      4839879a-c804-4221-a43a-3e8149a6eb86   130.0   \n",
       "911035  A17395      6835e62f-ffd6-48b9-9d54-c69dbc681a29   500.0   \n",
       "911036  A17523      9a7f2d8d-85b3-4541-b0a5-9f2b9618356e   194.0   \n",
       "911037  A17395      2ec72842-67d4-4daf-8ecb-1117e40a4ecf   200.0   \n",
       "911038  A17395      2fc79d6b-7646-465d-a4e1-6c48d137e202  1050.0   \n",
       "\n",
       "                            PAYER_COUNTRY    SENDER_BRANCH  \n",
       "0                BANRURAL (RYT)_GUATEMALA   295_A15410      \n",
       "1              BANCO AGRICOLA_EL SALVADOR   708_A15410      \n",
       "2              BANCO AGRICOLA_EL SALVADOR   104_A15410      \n",
       "3              BANCO AGRICOLA_EL SALVADOR   185_A15410      \n",
       "4                     WALMART (UT)_MEXICO   387_A17533      \n",
       "...                                   ...              ...  \n",
       "911034  CAJA POPULAR MEXICANA (UT)_MEXICO  4270_A17395      \n",
       "911035            ELEKTRA (MEXICO)_MEXICO   426_A17395      \n",
       "911036        G Y T CONTINENTAL_GUATEMALA  1024_A17523      \n",
       "911037                BANORTE (UT)_MEXICO  3557_A17395      \n",
       "911038        G Y T CONTINENTAL_GUATEMALA  3513_A17395      \n",
       "\n",
       "[868962 rows x 9 columns]"
      ]
     },
     "execution_count": 45,
     "metadata": {},
     "output_type": "execute_result"
    }
   ],
   "source": [
    "data_Jan21"
   ]
  },
  {
   "cell_type": "code",
   "execution_count": null,
   "id": "e613623a-681c-42ef-9cc8-dfadd18c1e04",
   "metadata": {},
   "outputs": [],
   "source": []
  }
 ],
 "metadata": {
  "availableInstances": [
   {
    "_defaultOrder": 0,
    "_isFastLaunch": true,
    "category": "General purpose",
    "gpuNum": 0,
    "hideHardwareSpecs": false,
    "memoryGiB": 4,
    "name": "ml.t3.medium",
    "vcpuNum": 2
   },
   {
    "_defaultOrder": 1,
    "_isFastLaunch": false,
    "category": "General purpose",
    "gpuNum": 0,
    "hideHardwareSpecs": false,
    "memoryGiB": 8,
    "name": "ml.t3.large",
    "vcpuNum": 2
   },
   {
    "_defaultOrder": 2,
    "_isFastLaunch": false,
    "category": "General purpose",
    "gpuNum": 0,
    "hideHardwareSpecs": false,
    "memoryGiB": 16,
    "name": "ml.t3.xlarge",
    "vcpuNum": 4
   },
   {
    "_defaultOrder": 3,
    "_isFastLaunch": false,
    "category": "General purpose",
    "gpuNum": 0,
    "hideHardwareSpecs": false,
    "memoryGiB": 32,
    "name": "ml.t3.2xlarge",
    "vcpuNum": 8
   },
   {
    "_defaultOrder": 4,
    "_isFastLaunch": true,
    "category": "General purpose",
    "gpuNum": 0,
    "hideHardwareSpecs": false,
    "memoryGiB": 8,
    "name": "ml.m5.large",
    "vcpuNum": 2
   },
   {
    "_defaultOrder": 5,
    "_isFastLaunch": false,
    "category": "General purpose",
    "gpuNum": 0,
    "hideHardwareSpecs": false,
    "memoryGiB": 16,
    "name": "ml.m5.xlarge",
    "vcpuNum": 4
   },
   {
    "_defaultOrder": 6,
    "_isFastLaunch": false,
    "category": "General purpose",
    "gpuNum": 0,
    "hideHardwareSpecs": false,
    "memoryGiB": 32,
    "name": "ml.m5.2xlarge",
    "vcpuNum": 8
   },
   {
    "_defaultOrder": 7,
    "_isFastLaunch": false,
    "category": "General purpose",
    "gpuNum": 0,
    "hideHardwareSpecs": false,
    "memoryGiB": 64,
    "name": "ml.m5.4xlarge",
    "vcpuNum": 16
   },
   {
    "_defaultOrder": 8,
    "_isFastLaunch": false,
    "category": "General purpose",
    "gpuNum": 0,
    "hideHardwareSpecs": false,
    "memoryGiB": 128,
    "name": "ml.m5.8xlarge",
    "vcpuNum": 32
   },
   {
    "_defaultOrder": 9,
    "_isFastLaunch": false,
    "category": "General purpose",
    "gpuNum": 0,
    "hideHardwareSpecs": false,
    "memoryGiB": 192,
    "name": "ml.m5.12xlarge",
    "vcpuNum": 48
   },
   {
    "_defaultOrder": 10,
    "_isFastLaunch": false,
    "category": "General purpose",
    "gpuNum": 0,
    "hideHardwareSpecs": false,
    "memoryGiB": 256,
    "name": "ml.m5.16xlarge",
    "vcpuNum": 64
   },
   {
    "_defaultOrder": 11,
    "_isFastLaunch": false,
    "category": "General purpose",
    "gpuNum": 0,
    "hideHardwareSpecs": false,
    "memoryGiB": 384,
    "name": "ml.m5.24xlarge",
    "vcpuNum": 96
   },
   {
    "_defaultOrder": 12,
    "_isFastLaunch": false,
    "category": "General purpose",
    "gpuNum": 0,
    "hideHardwareSpecs": false,
    "memoryGiB": 8,
    "name": "ml.m5d.large",
    "vcpuNum": 2
   },
   {
    "_defaultOrder": 13,
    "_isFastLaunch": false,
    "category": "General purpose",
    "gpuNum": 0,
    "hideHardwareSpecs": false,
    "memoryGiB": 16,
    "name": "ml.m5d.xlarge",
    "vcpuNum": 4
   },
   {
    "_defaultOrder": 14,
    "_isFastLaunch": false,
    "category": "General purpose",
    "gpuNum": 0,
    "hideHardwareSpecs": false,
    "memoryGiB": 32,
    "name": "ml.m5d.2xlarge",
    "vcpuNum": 8
   },
   {
    "_defaultOrder": 15,
    "_isFastLaunch": false,
    "category": "General purpose",
    "gpuNum": 0,
    "hideHardwareSpecs": false,
    "memoryGiB": 64,
    "name": "ml.m5d.4xlarge",
    "vcpuNum": 16
   },
   {
    "_defaultOrder": 16,
    "_isFastLaunch": false,
    "category": "General purpose",
    "gpuNum": 0,
    "hideHardwareSpecs": false,
    "memoryGiB": 128,
    "name": "ml.m5d.8xlarge",
    "vcpuNum": 32
   },
   {
    "_defaultOrder": 17,
    "_isFastLaunch": false,
    "category": "General purpose",
    "gpuNum": 0,
    "hideHardwareSpecs": false,
    "memoryGiB": 192,
    "name": "ml.m5d.12xlarge",
    "vcpuNum": 48
   },
   {
    "_defaultOrder": 18,
    "_isFastLaunch": false,
    "category": "General purpose",
    "gpuNum": 0,
    "hideHardwareSpecs": false,
    "memoryGiB": 256,
    "name": "ml.m5d.16xlarge",
    "vcpuNum": 64
   },
   {
    "_defaultOrder": 19,
    "_isFastLaunch": false,
    "category": "General purpose",
    "gpuNum": 0,
    "hideHardwareSpecs": false,
    "memoryGiB": 384,
    "name": "ml.m5d.24xlarge",
    "vcpuNum": 96
   },
   {
    "_defaultOrder": 20,
    "_isFastLaunch": false,
    "category": "General purpose",
    "gpuNum": 0,
    "hideHardwareSpecs": true,
    "memoryGiB": 0,
    "name": "ml.geospatial.interactive",
    "supportedImageNames": [
     "sagemaker-geospatial-v1-0"
    ],
    "vcpuNum": 0
   },
   {
    "_defaultOrder": 21,
    "_isFastLaunch": true,
    "category": "Compute optimized",
    "gpuNum": 0,
    "hideHardwareSpecs": false,
    "memoryGiB": 4,
    "name": "ml.c5.large",
    "vcpuNum": 2
   },
   {
    "_defaultOrder": 22,
    "_isFastLaunch": false,
    "category": "Compute optimized",
    "gpuNum": 0,
    "hideHardwareSpecs": false,
    "memoryGiB": 8,
    "name": "ml.c5.xlarge",
    "vcpuNum": 4
   },
   {
    "_defaultOrder": 23,
    "_isFastLaunch": false,
    "category": "Compute optimized",
    "gpuNum": 0,
    "hideHardwareSpecs": false,
    "memoryGiB": 16,
    "name": "ml.c5.2xlarge",
    "vcpuNum": 8
   },
   {
    "_defaultOrder": 24,
    "_isFastLaunch": false,
    "category": "Compute optimized",
    "gpuNum": 0,
    "hideHardwareSpecs": false,
    "memoryGiB": 32,
    "name": "ml.c5.4xlarge",
    "vcpuNum": 16
   },
   {
    "_defaultOrder": 25,
    "_isFastLaunch": false,
    "category": "Compute optimized",
    "gpuNum": 0,
    "hideHardwareSpecs": false,
    "memoryGiB": 72,
    "name": "ml.c5.9xlarge",
    "vcpuNum": 36
   },
   {
    "_defaultOrder": 26,
    "_isFastLaunch": false,
    "category": "Compute optimized",
    "gpuNum": 0,
    "hideHardwareSpecs": false,
    "memoryGiB": 96,
    "name": "ml.c5.12xlarge",
    "vcpuNum": 48
   },
   {
    "_defaultOrder": 27,
    "_isFastLaunch": false,
    "category": "Compute optimized",
    "gpuNum": 0,
    "hideHardwareSpecs": false,
    "memoryGiB": 144,
    "name": "ml.c5.18xlarge",
    "vcpuNum": 72
   },
   {
    "_defaultOrder": 28,
    "_isFastLaunch": false,
    "category": "Compute optimized",
    "gpuNum": 0,
    "hideHardwareSpecs": false,
    "memoryGiB": 192,
    "name": "ml.c5.24xlarge",
    "vcpuNum": 96
   },
   {
    "_defaultOrder": 29,
    "_isFastLaunch": true,
    "category": "Accelerated computing",
    "gpuNum": 1,
    "hideHardwareSpecs": false,
    "memoryGiB": 16,
    "name": "ml.g4dn.xlarge",
    "vcpuNum": 4
   },
   {
    "_defaultOrder": 30,
    "_isFastLaunch": false,
    "category": "Accelerated computing",
    "gpuNum": 1,
    "hideHardwareSpecs": false,
    "memoryGiB": 32,
    "name": "ml.g4dn.2xlarge",
    "vcpuNum": 8
   },
   {
    "_defaultOrder": 31,
    "_isFastLaunch": false,
    "category": "Accelerated computing",
    "gpuNum": 1,
    "hideHardwareSpecs": false,
    "memoryGiB": 64,
    "name": "ml.g4dn.4xlarge",
    "vcpuNum": 16
   },
   {
    "_defaultOrder": 32,
    "_isFastLaunch": false,
    "category": "Accelerated computing",
    "gpuNum": 1,
    "hideHardwareSpecs": false,
    "memoryGiB": 128,
    "name": "ml.g4dn.8xlarge",
    "vcpuNum": 32
   },
   {
    "_defaultOrder": 33,
    "_isFastLaunch": false,
    "category": "Accelerated computing",
    "gpuNum": 4,
    "hideHardwareSpecs": false,
    "memoryGiB": 192,
    "name": "ml.g4dn.12xlarge",
    "vcpuNum": 48
   },
   {
    "_defaultOrder": 34,
    "_isFastLaunch": false,
    "category": "Accelerated computing",
    "gpuNum": 1,
    "hideHardwareSpecs": false,
    "memoryGiB": 256,
    "name": "ml.g4dn.16xlarge",
    "vcpuNum": 64
   },
   {
    "_defaultOrder": 35,
    "_isFastLaunch": false,
    "category": "Accelerated computing",
    "gpuNum": 1,
    "hideHardwareSpecs": false,
    "memoryGiB": 61,
    "name": "ml.p3.2xlarge",
    "vcpuNum": 8
   },
   {
    "_defaultOrder": 36,
    "_isFastLaunch": false,
    "category": "Accelerated computing",
    "gpuNum": 4,
    "hideHardwareSpecs": false,
    "memoryGiB": 244,
    "name": "ml.p3.8xlarge",
    "vcpuNum": 32
   },
   {
    "_defaultOrder": 37,
    "_isFastLaunch": false,
    "category": "Accelerated computing",
    "gpuNum": 8,
    "hideHardwareSpecs": false,
    "memoryGiB": 488,
    "name": "ml.p3.16xlarge",
    "vcpuNum": 64
   },
   {
    "_defaultOrder": 38,
    "_isFastLaunch": false,
    "category": "Accelerated computing",
    "gpuNum": 8,
    "hideHardwareSpecs": false,
    "memoryGiB": 768,
    "name": "ml.p3dn.24xlarge",
    "vcpuNum": 96
   },
   {
    "_defaultOrder": 39,
    "_isFastLaunch": false,
    "category": "Memory Optimized",
    "gpuNum": 0,
    "hideHardwareSpecs": false,
    "memoryGiB": 16,
    "name": "ml.r5.large",
    "vcpuNum": 2
   },
   {
    "_defaultOrder": 40,
    "_isFastLaunch": false,
    "category": "Memory Optimized",
    "gpuNum": 0,
    "hideHardwareSpecs": false,
    "memoryGiB": 32,
    "name": "ml.r5.xlarge",
    "vcpuNum": 4
   },
   {
    "_defaultOrder": 41,
    "_isFastLaunch": false,
    "category": "Memory Optimized",
    "gpuNum": 0,
    "hideHardwareSpecs": false,
    "memoryGiB": 64,
    "name": "ml.r5.2xlarge",
    "vcpuNum": 8
   },
   {
    "_defaultOrder": 42,
    "_isFastLaunch": false,
    "category": "Memory Optimized",
    "gpuNum": 0,
    "hideHardwareSpecs": false,
    "memoryGiB": 128,
    "name": "ml.r5.4xlarge",
    "vcpuNum": 16
   },
   {
    "_defaultOrder": 43,
    "_isFastLaunch": false,
    "category": "Memory Optimized",
    "gpuNum": 0,
    "hideHardwareSpecs": false,
    "memoryGiB": 256,
    "name": "ml.r5.8xlarge",
    "vcpuNum": 32
   },
   {
    "_defaultOrder": 44,
    "_isFastLaunch": false,
    "category": "Memory Optimized",
    "gpuNum": 0,
    "hideHardwareSpecs": false,
    "memoryGiB": 384,
    "name": "ml.r5.12xlarge",
    "vcpuNum": 48
   },
   {
    "_defaultOrder": 45,
    "_isFastLaunch": false,
    "category": "Memory Optimized",
    "gpuNum": 0,
    "hideHardwareSpecs": false,
    "memoryGiB": 512,
    "name": "ml.r5.16xlarge",
    "vcpuNum": 64
   },
   {
    "_defaultOrder": 46,
    "_isFastLaunch": false,
    "category": "Memory Optimized",
    "gpuNum": 0,
    "hideHardwareSpecs": false,
    "memoryGiB": 768,
    "name": "ml.r5.24xlarge",
    "vcpuNum": 96
   },
   {
    "_defaultOrder": 47,
    "_isFastLaunch": false,
    "category": "Accelerated computing",
    "gpuNum": 1,
    "hideHardwareSpecs": false,
    "memoryGiB": 16,
    "name": "ml.g5.xlarge",
    "vcpuNum": 4
   },
   {
    "_defaultOrder": 48,
    "_isFastLaunch": false,
    "category": "Accelerated computing",
    "gpuNum": 1,
    "hideHardwareSpecs": false,
    "memoryGiB": 32,
    "name": "ml.g5.2xlarge",
    "vcpuNum": 8
   },
   {
    "_defaultOrder": 49,
    "_isFastLaunch": false,
    "category": "Accelerated computing",
    "gpuNum": 1,
    "hideHardwareSpecs": false,
    "memoryGiB": 64,
    "name": "ml.g5.4xlarge",
    "vcpuNum": 16
   },
   {
    "_defaultOrder": 50,
    "_isFastLaunch": false,
    "category": "Accelerated computing",
    "gpuNum": 1,
    "hideHardwareSpecs": false,
    "memoryGiB": 128,
    "name": "ml.g5.8xlarge",
    "vcpuNum": 32
   },
   {
    "_defaultOrder": 51,
    "_isFastLaunch": false,
    "category": "Accelerated computing",
    "gpuNum": 1,
    "hideHardwareSpecs": false,
    "memoryGiB": 256,
    "name": "ml.g5.16xlarge",
    "vcpuNum": 64
   },
   {
    "_defaultOrder": 52,
    "_isFastLaunch": false,
    "category": "Accelerated computing",
    "gpuNum": 4,
    "hideHardwareSpecs": false,
    "memoryGiB": 192,
    "name": "ml.g5.12xlarge",
    "vcpuNum": 48
   },
   {
    "_defaultOrder": 53,
    "_isFastLaunch": false,
    "category": "Accelerated computing",
    "gpuNum": 4,
    "hideHardwareSpecs": false,
    "memoryGiB": 384,
    "name": "ml.g5.24xlarge",
    "vcpuNum": 96
   },
   {
    "_defaultOrder": 54,
    "_isFastLaunch": false,
    "category": "Accelerated computing",
    "gpuNum": 8,
    "hideHardwareSpecs": false,
    "memoryGiB": 768,
    "name": "ml.g5.48xlarge",
    "vcpuNum": 192
   },
   {
    "_defaultOrder": 55,
    "_isFastLaunch": false,
    "category": "Accelerated computing",
    "gpuNum": 8,
    "hideHardwareSpecs": false,
    "memoryGiB": 1152,
    "name": "ml.p4d.24xlarge",
    "vcpuNum": 96
   },
   {
    "_defaultOrder": 56,
    "_isFastLaunch": false,
    "category": "Accelerated computing",
    "gpuNum": 8,
    "hideHardwareSpecs": false,
    "memoryGiB": 1152,
    "name": "ml.p4de.24xlarge",
    "vcpuNum": 96
   },
   {
    "_defaultOrder": 57,
    "_isFastLaunch": false,
    "category": "Accelerated computing",
    "gpuNum": 0,
    "hideHardwareSpecs": false,
    "memoryGiB": 32,
    "name": "ml.trn1.2xlarge",
    "vcpuNum": 8
   },
   {
    "_defaultOrder": 58,
    "_isFastLaunch": false,
    "category": "Accelerated computing",
    "gpuNum": 0,
    "hideHardwareSpecs": false,
    "memoryGiB": 512,
    "name": "ml.trn1.32xlarge",
    "vcpuNum": 128
   },
   {
    "_defaultOrder": 59,
    "_isFastLaunch": false,
    "category": "Accelerated computing",
    "gpuNum": 0,
    "hideHardwareSpecs": false,
    "memoryGiB": 512,
    "name": "ml.trn1n.32xlarge",
    "vcpuNum": 128
   }
  ],
  "instance_type": "ml.m5.large",
  "kernelspec": {
   "display_name": "Python 3 (Data Science 3.0)",
   "language": "python",
   "name": "python3__SAGEMAKER_INTERNAL__arn:aws:sagemaker:us-east-1:081325390199:image/sagemaker-data-science-310-v1"
  },
  "language_info": {
   "codemirror_mode": {
    "name": "ipython",
    "version": 3
   },
   "file_extension": ".py",
   "mimetype": "text/x-python",
   "name": "python",
   "nbconvert_exporter": "python",
   "pygments_lexer": "ipython3",
   "version": "3.10.6"
  }
 },
 "nbformat": 4,
 "nbformat_minor": 5
}
