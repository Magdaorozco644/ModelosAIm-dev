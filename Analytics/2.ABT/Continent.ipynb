{
 "cells": [
  {
   "cell_type": "code",
   "execution_count": 2,
   "id": "a42bf830-a115-42d4-8814-22fde7d74360",
   "metadata": {
    "tags": []
   },
   "outputs": [],
   "source": [
    "#pip install pyathena"
   ]
  },
  {
   "cell_type": "code",
   "execution_count": 5,
   "id": "a2e3729f-7a09-4853-9139-38a32f2fa5d3",
   "metadata": {
    "tags": []
   },
   "outputs": [],
   "source": [
    "#pip install pycountry"
   ]
  },
  {
   "cell_type": "code",
   "execution_count": 7,
   "id": "9227bfc7-2afe-41d1-a7a8-2ee6750cc6b4",
   "metadata": {
    "tags": []
   },
   "outputs": [],
   "source": [
    "#pip install pycountry-convert"
   ]
  },
  {
   "cell_type": "code",
   "execution_count": 8,
   "id": "cbee7b98-a312-4618-adcc-b5762bde63e6",
   "metadata": {
    "tags": []
   },
   "outputs": [],
   "source": [
    "#Libraries\n",
    "from pyathena import connect\n",
    "import pandas as pd\n",
    "import pycountry\n",
    "import pycountry_convert as pc"
   ]
  },
  {
   "cell_type": "code",
   "execution_count": 9,
   "id": "ea882183-e35c-44ec-a51b-be347f81a834",
   "metadata": {
    "tags": []
   },
   "outputs": [],
   "source": [
    "# DB Setting\n",
    "bucket_name = 's3://viamericas-datalake-dev-us-east-1-283731589572-athena/'\n",
    "origin_name = 'AwsDataCatalog'\n",
    "database_name = 'analytics'\n",
    "table_name = 'daily_check'"
   ]
  },
  {
   "cell_type": "code",
   "execution_count": 10,
   "id": "b0ba4443-ce45-4cf8-a9c1-d809f733ce66",
   "metadata": {
    "tags": []
   },
   "outputs": [],
   "source": [
    "#Connection\n",
    "\n",
    "conn = connect(s3_staging_dir=f'{bucket_name}queryresults/',\n",
    "               region_name='us-east-1')"
   ]
  },
  {
   "cell_type": "code",
   "execution_count": 11,
   "id": "20918ac5-a81a-45f4-a79c-85c17aefbb57",
   "metadata": {
    "tags": []
   },
   "outputs": [
    {
     "name": "stderr",
     "output_type": "stream",
     "text": [
      "/tmp/ipykernel_296/2543410162.py:1: UserWarning: pandas only supports SQLAlchemy connectable (engine/connection) or database string URI or sqlite3 DBAPI2 connection. Other DBAPI2 objects are not tested. Please consider using SQLAlchemy.\n",
      "  df = pd.read_sql(f'SELECT * FROM {origin_name}.{database_name}.{table_name};', conn)\n"
     ]
    }
   ],
   "source": [
    "df = pd.read_sql(f'SELECT * FROM {origin_name}.{database_name}.{table_name};', conn)"
   ]
  },
  {
   "cell_type": "code",
   "execution_count": 12,
   "id": "362ea525-e154-4103-a351-b573557a585f",
   "metadata": {
    "tags": []
   },
   "outputs": [
    {
     "data": {
      "text/html": [
       "<div>\n",
       "<style scoped>\n",
       "    .dataframe tbody tr th:only-of-type {\n",
       "        vertical-align: middle;\n",
       "    }\n",
       "\n",
       "    .dataframe tbody tr th {\n",
       "        vertical-align: top;\n",
       "    }\n",
       "\n",
       "    .dataframe thead th {\n",
       "        text-align: right;\n",
       "    }\n",
       "</style>\n",
       "<table border=\"1\" class=\"dataframe\">\n",
       "  <thead>\n",
       "    <tr style=\"text-align: right;\">\n",
       "      <th></th>\n",
       "      <th>payer</th>\n",
       "      <th>country</th>\n",
       "      <th>date</th>\n",
       "      <th>tx</th>\n",
       "      <th>amount</th>\n",
       "    </tr>\n",
       "  </thead>\n",
       "  <tbody>\n",
       "    <tr>\n",
       "      <th>0</th>\n",
       "      <td>TRANSFERTO - THUNES</td>\n",
       "      <td>BELGIUM</td>\n",
       "      <td>2023-04-03</td>\n",
       "      <td>1</td>\n",
       "      <td>55.55</td>\n",
       "    </tr>\n",
       "    <tr>\n",
       "      <th>1</th>\n",
       "      <td>ARGENPER</td>\n",
       "      <td>PERU</td>\n",
       "      <td>2023-04-03</td>\n",
       "      <td>26</td>\n",
       "      <td>4203.70</td>\n",
       "    </tr>\n",
       "    <tr>\n",
       "      <th>2</th>\n",
       "      <td>NAFA</td>\n",
       "      <td>GAMBIA, THE</td>\n",
       "      <td>2023-04-03</td>\n",
       "      <td>8</td>\n",
       "      <td>1086.50</td>\n",
       "    </tr>\n",
       "    <tr>\n",
       "      <th>3</th>\n",
       "      <td>WALDOS (APPRIZA)</td>\n",
       "      <td>MEXICO</td>\n",
       "      <td>2023-08-31</td>\n",
       "      <td>14</td>\n",
       "      <td>4797.50</td>\n",
       "    </tr>\n",
       "    <tr>\n",
       "      <th>4</th>\n",
       "      <td>BANPAIS (RED CHAPINA)</td>\n",
       "      <td>HONDURAS</td>\n",
       "      <td>2021-05-06</td>\n",
       "      <td>43</td>\n",
       "      <td>17493.00</td>\n",
       "    </tr>\n",
       "  </tbody>\n",
       "</table>\n",
       "</div>"
      ],
      "text/plain": [
       "                   payer      country        date  tx    amount\n",
       "0    TRANSFERTO - THUNES      BELGIUM  2023-04-03   1     55.55\n",
       "1               ARGENPER         PERU  2023-04-03  26   4203.70\n",
       "2                   NAFA  GAMBIA, THE  2023-04-03   8   1086.50\n",
       "3       WALDOS (APPRIZA)       MEXICO  2023-08-31  14   4797.50\n",
       "4  BANPAIS (RED CHAPINA)     HONDURAS  2021-05-06  43  17493.00"
      ]
     },
     "execution_count": 12,
     "metadata": {},
     "output_type": "execute_result"
    }
   ],
   "source": [
    "df.head()"
   ]
  },
  {
   "cell_type": "code",
   "execution_count": 56,
   "id": "5819b451-0bc3-4209-8574-e800874da575",
   "metadata": {
    "tags": []
   },
   "outputs": [],
   "source": [
    "df = df[df['amount'] != 0]"
   ]
  },
  {
   "cell_type": "code",
   "execution_count": 13,
   "id": "d20e3bba-2020-41ee-9c78-0a61ab6bd7a9",
   "metadata": {
    "tags": []
   },
   "outputs": [],
   "source": [
    "df['country'] = df['country'].str.strip().str.upper()"
   ]
  },
  {
   "cell_type": "code",
   "execution_count": 14,
   "id": "20e62204-9492-4fc7-84b0-8ee4c2b55057",
   "metadata": {
    "tags": []
   },
   "outputs": [],
   "source": [
    "# Diccionario para mapear nombres no estándar a nombres reconocidos por pycountry\n",
    "name_mappings = {\n",
    " 'CZECH REPUBLIC': 'CZECHIA',\n",
    " \"COTE D'IVOIRE (IVORY COAST)\": \"CÔTE D'IVOIRE\",\n",
    " 'UNITED STATES (ATM & DEPOSITS)': 'UNITED STATES',\n",
    " 'CONGO, (CONGO Â– BRAZZAVILLE)': 'CONGO',\n",
    " 'GAMBIA, THE': 'GAMBIA',\n",
    " 'BOLIVIA': 'BOLIVIA, PLURINATIONAL STATE OF',\n",
    " 'VIETNAM': 'VIET NAM',\n",
    " 'TANZANIA': 'TANZANIA, UNITED REPUBLIC OF',\n",
    " 'TURKEY': 'TÜRKIYE'\n",
    "}\n",
    "\n",
    "# Aplicar el mapeo al DataFrame\n",
    "df['country'] = df['country'].replace(name_mappings)"
   ]
  },
  {
   "cell_type": "code",
   "execution_count": 15,
   "id": "334c54c7-7894-4dfd-9765-0366d25fca86",
   "metadata": {
    "tags": []
   },
   "outputs": [
    {
     "data": {
      "text/plain": [
       "'BOLIVIA, PLURINATIONAL STATE OF'"
      ]
     },
     "execution_count": 15,
     "metadata": {},
     "output_type": "execute_result"
    }
   ],
   "source": [
    "'Bolivia, Plurinational State of'.upper()"
   ]
  },
  {
   "cell_type": "code",
   "execution_count": 16,
   "id": "d6e3147d-7330-4b86-bc1d-9ce241a197af",
   "metadata": {
    "tags": []
   },
   "outputs": [
    {
     "data": {
      "text/plain": [
       "array(['BELGIUM', 'PERU', 'GAMBIA', 'MEXICO', 'HONDURAS', 'NIGERIA',\n",
       "       'ECUADOR', 'UNITED KINGDOM', 'BRAZIL', 'UNITED STATES',\n",
       "       'PHILIPPINES', 'EL SALVADOR', 'NICARAGUA', 'GUATEMALA',\n",
       "       'BOLIVIA, PLURINATIONAL STATE OF', 'HAITI', 'COSTA RICA',\n",
       "       'DOMINICAN REPUBLIC', 'COLOMBIA', 'CHILE', 'SPAIN', 'SIERRA LEONE',\n",
       "       'ARGENTINA', 'BANGLADESH', 'INDONESIA', 'GHANA', 'MALAYSIA',\n",
       "       'GUINEA', 'CAMEROON', 'NEPAL', 'INDIA', 'THAILAND', 'FRANCE',\n",
       "       'BENIN', 'BURKINA FASO', 'NETHERLANDS', 'PORTUGAL', 'URUGUAY',\n",
       "       \"CÔTE D'IVOIRE\", 'SENEGAL', 'TOGO', 'RWANDA', 'CAMBODIA', 'KENYA',\n",
       "       'LIBERIA', 'GERMANY', 'JAMAICA', 'MALI', 'AUSTRIA', 'ITALY',\n",
       "       'MAURITANIA', 'CONGO', 'TANZANIA, UNITED REPUBLIC OF', 'ZAMBIA',\n",
       "       'FINLAND', 'SWITZERLAND', 'PAKISTAN', 'SINGAPORE', 'NORWAY',\n",
       "       'CHAD', 'GABON', 'ETHIOPIA', 'SRI LANKA', 'TÜRKIYE', 'ROMANIA',\n",
       "       'FIJI', 'UGANDA', 'VIET NAM', 'QATAR', 'IRELAND', 'LITHUANIA',\n",
       "       'ZIMBABWE', 'POLAND', 'LUXEMBOURG', 'GREECE', 'CZECHIA', 'SWEDEN'],\n",
       "      dtype=object)"
      ]
     },
     "execution_count": 16,
     "metadata": {},
     "output_type": "execute_result"
    }
   ],
   "source": [
    "df['country'].unique()"
   ]
  },
  {
   "cell_type": "code",
   "execution_count": 17,
   "id": "97e33f7a-bf15-4258-af13-f883a63cd3e2",
   "metadata": {
    "tags": []
   },
   "outputs": [
    {
     "data": {
      "text/plain": [
       "77"
      ]
     },
     "execution_count": 17,
     "metadata": {},
     "output_type": "execute_result"
    }
   ],
   "source": [
    "df['country'].nunique()"
   ]
  },
  {
   "cell_type": "code",
   "execution_count": 24,
   "id": "e568dcb0-7a8f-408f-b9aa-c1a9467f664d",
   "metadata": {
    "tags": []
   },
   "outputs": [],
   "source": [
    "country_to_iso2 = {}\n",
    "for country in pycountry.countries:\n",
    "    try:\n",
    "        country_to_iso2[country.alpha_2] = pycountry.subdivisions.get(country_code=country.alpha_2).continent.name\n",
    "    except:\n",
    "        pass"
   ]
  },
  {
   "cell_type": "code",
   "execution_count": 25,
   "id": "e0418e62-b4da-48c4-8a0c-95e0956dd47c",
   "metadata": {
    "tags": []
   },
   "outputs": [],
   "source": [
    "df['alpha2'] = df['country'].apply(lambda x: pycountry.countries.get(name=x).alpha_2 if pycountry.countries.get(name=x) else None)"
   ]
  },
  {
   "cell_type": "code",
   "execution_count": 26,
   "id": "f0213d8f-94d2-4fde-b48c-bb939969e3a0",
   "metadata": {
    "tags": []
   },
   "outputs": [
    {
     "data": {
      "text/html": [
       "<div>\n",
       "<style scoped>\n",
       "    .dataframe tbody tr th:only-of-type {\n",
       "        vertical-align: middle;\n",
       "    }\n",
       "\n",
       "    .dataframe tbody tr th {\n",
       "        vertical-align: top;\n",
       "    }\n",
       "\n",
       "    .dataframe thead th {\n",
       "        text-align: right;\n",
       "    }\n",
       "</style>\n",
       "<table border=\"1\" class=\"dataframe\">\n",
       "  <thead>\n",
       "    <tr style=\"text-align: right;\">\n",
       "      <th></th>\n",
       "      <th>payer</th>\n",
       "      <th>country</th>\n",
       "      <th>date</th>\n",
       "      <th>tx</th>\n",
       "      <th>amount</th>\n",
       "      <th>alpha2</th>\n",
       "    </tr>\n",
       "  </thead>\n",
       "  <tbody>\n",
       "    <tr>\n",
       "      <th>0</th>\n",
       "      <td>TRANSFERTO - THUNES</td>\n",
       "      <td>BELGIUM</td>\n",
       "      <td>2023-04-03</td>\n",
       "      <td>1</td>\n",
       "      <td>55.55</td>\n",
       "      <td>BE</td>\n",
       "    </tr>\n",
       "    <tr>\n",
       "      <th>1</th>\n",
       "      <td>ARGENPER</td>\n",
       "      <td>PERU</td>\n",
       "      <td>2023-04-03</td>\n",
       "      <td>26</td>\n",
       "      <td>4203.70</td>\n",
       "      <td>PE</td>\n",
       "    </tr>\n",
       "    <tr>\n",
       "      <th>2</th>\n",
       "      <td>NAFA</td>\n",
       "      <td>GAMBIA</td>\n",
       "      <td>2023-04-03</td>\n",
       "      <td>8</td>\n",
       "      <td>1086.50</td>\n",
       "      <td>GM</td>\n",
       "    </tr>\n",
       "    <tr>\n",
       "      <th>3</th>\n",
       "      <td>WALDOS (APPRIZA)</td>\n",
       "      <td>MEXICO</td>\n",
       "      <td>2023-08-31</td>\n",
       "      <td>14</td>\n",
       "      <td>4797.50</td>\n",
       "      <td>MX</td>\n",
       "    </tr>\n",
       "    <tr>\n",
       "      <th>4</th>\n",
       "      <td>BANPAIS (RED CHAPINA)</td>\n",
       "      <td>HONDURAS</td>\n",
       "      <td>2021-05-06</td>\n",
       "      <td>43</td>\n",
       "      <td>17493.00</td>\n",
       "      <td>HN</td>\n",
       "    </tr>\n",
       "  </tbody>\n",
       "</table>\n",
       "</div>"
      ],
      "text/plain": [
       "                   payer   country        date  tx    amount alpha2\n",
       "0    TRANSFERTO - THUNES   BELGIUM  2023-04-03   1     55.55     BE\n",
       "1               ARGENPER      PERU  2023-04-03  26   4203.70     PE\n",
       "2                   NAFA    GAMBIA  2023-04-03   8   1086.50     GM\n",
       "3       WALDOS (APPRIZA)    MEXICO  2023-08-31  14   4797.50     MX\n",
       "4  BANPAIS (RED CHAPINA)  HONDURAS  2021-05-06  43  17493.00     HN"
      ]
     },
     "execution_count": 26,
     "metadata": {},
     "output_type": "execute_result"
    }
   ],
   "source": [
    "df.head()"
   ]
  },
  {
   "cell_type": "code",
   "execution_count": 27,
   "id": "8f213857-a8dc-494e-b2cd-aad89cafe6ef",
   "metadata": {
    "tags": []
   },
   "outputs": [],
   "source": [
    "def get_continent(country_alpha_2):\n",
    "    try:\n",
    "        return pc.country_alpha2_to_continent_code(country_alpha_2)\n",
    "    except:\n",
    "        return None"
   ]
  },
  {
   "cell_type": "code",
   "execution_count": 30,
   "id": "3fbc807c-72c4-44a5-9c77-e7169ef1c1ae",
   "metadata": {
    "tags": []
   },
   "outputs": [],
   "source": [
    "df['continent'] = df['alpha2'].apply(get_continent)"
   ]
  },
  {
   "cell_type": "code",
   "execution_count": 31,
   "id": "6f5cf94c-969b-4a5d-a758-6fe27384dd94",
   "metadata": {
    "tags": []
   },
   "outputs": [
    {
     "data": {
      "text/html": [
       "<div>\n",
       "<style scoped>\n",
       "    .dataframe tbody tr th:only-of-type {\n",
       "        vertical-align: middle;\n",
       "    }\n",
       "\n",
       "    .dataframe tbody tr th {\n",
       "        vertical-align: top;\n",
       "    }\n",
       "\n",
       "    .dataframe thead th {\n",
       "        text-align: right;\n",
       "    }\n",
       "</style>\n",
       "<table border=\"1\" class=\"dataframe\">\n",
       "  <thead>\n",
       "    <tr style=\"text-align: right;\">\n",
       "      <th></th>\n",
       "      <th>payer</th>\n",
       "      <th>country</th>\n",
       "      <th>date</th>\n",
       "      <th>tx</th>\n",
       "      <th>amount</th>\n",
       "      <th>alpha2</th>\n",
       "      <th>continent</th>\n",
       "    </tr>\n",
       "  </thead>\n",
       "  <tbody>\n",
       "    <tr>\n",
       "      <th>0</th>\n",
       "      <td>TRANSFERTO - THUNES</td>\n",
       "      <td>BELGIUM</td>\n",
       "      <td>2023-04-03</td>\n",
       "      <td>1</td>\n",
       "      <td>55.55</td>\n",
       "      <td>BE</td>\n",
       "      <td>EU</td>\n",
       "    </tr>\n",
       "    <tr>\n",
       "      <th>1</th>\n",
       "      <td>ARGENPER</td>\n",
       "      <td>PERU</td>\n",
       "      <td>2023-04-03</td>\n",
       "      <td>26</td>\n",
       "      <td>4203.70</td>\n",
       "      <td>PE</td>\n",
       "      <td>SA</td>\n",
       "    </tr>\n",
       "    <tr>\n",
       "      <th>2</th>\n",
       "      <td>NAFA</td>\n",
       "      <td>GAMBIA</td>\n",
       "      <td>2023-04-03</td>\n",
       "      <td>8</td>\n",
       "      <td>1086.50</td>\n",
       "      <td>GM</td>\n",
       "      <td>AF</td>\n",
       "    </tr>\n",
       "    <tr>\n",
       "      <th>3</th>\n",
       "      <td>WALDOS (APPRIZA)</td>\n",
       "      <td>MEXICO</td>\n",
       "      <td>2023-08-31</td>\n",
       "      <td>14</td>\n",
       "      <td>4797.50</td>\n",
       "      <td>MX</td>\n",
       "      <td>NA</td>\n",
       "    </tr>\n",
       "    <tr>\n",
       "      <th>4</th>\n",
       "      <td>BANPAIS (RED CHAPINA)</td>\n",
       "      <td>HONDURAS</td>\n",
       "      <td>2021-05-06</td>\n",
       "      <td>43</td>\n",
       "      <td>17493.00</td>\n",
       "      <td>HN</td>\n",
       "      <td>NA</td>\n",
       "    </tr>\n",
       "  </tbody>\n",
       "</table>\n",
       "</div>"
      ],
      "text/plain": [
       "                   payer   country        date  tx    amount alpha2 continent\n",
       "0    TRANSFERTO - THUNES   BELGIUM  2023-04-03   1     55.55     BE        EU\n",
       "1               ARGENPER      PERU  2023-04-03  26   4203.70     PE        SA\n",
       "2                   NAFA    GAMBIA  2023-04-03   8   1086.50     GM        AF\n",
       "3       WALDOS (APPRIZA)    MEXICO  2023-08-31  14   4797.50     MX        NA\n",
       "4  BANPAIS (RED CHAPINA)  HONDURAS  2021-05-06  43  17493.00     HN        NA"
      ]
     },
     "execution_count": 31,
     "metadata": {},
     "output_type": "execute_result"
    }
   ],
   "source": [
    "df.head()"
   ]
  },
  {
   "cell_type": "code",
   "execution_count": 32,
   "id": "be7d19d7-9055-4575-adfd-3e37c09ffc4b",
   "metadata": {
    "tags": []
   },
   "outputs": [
    {
     "data": {
      "text/plain": [
       "array(['EU', 'SA', 'AF', 'NA', 'AS', 'OC'], dtype=object)"
      ]
     },
     "execution_count": 32,
     "metadata": {},
     "output_type": "execute_result"
    }
   ],
   "source": [
    "df['continent'].unique()"
   ]
  },
  {
   "cell_type": "code",
   "execution_count": 57,
   "id": "b39ee05f-4ab9-4795-bfd3-2a3547606be5",
   "metadata": {
    "tags": []
   },
   "outputs": [
    {
     "name": "stdout",
     "output_type": "stream",
     "text": [
      "<class 'pandas.core.frame.DataFrame'>\n",
      "Index: 93018 entries, 0 to 101969\n",
      "Data columns (total 7 columns):\n",
      " #   Column     Non-Null Count  Dtype         \n",
      "---  ------     --------------  -----         \n",
      " 0   payer      93018 non-null  object        \n",
      " 1   country    93018 non-null  object        \n",
      " 2   date       93018 non-null  datetime64[ns]\n",
      " 3   tx         93018 non-null  int64         \n",
      " 4   amount     93018 non-null  float64       \n",
      " 5   alpha2     93018 non-null  object        \n",
      " 6   continent  93018 non-null  object        \n",
      "dtypes: datetime64[ns](1), float64(1), int64(1), object(4)\n",
      "memory usage: 5.7+ MB\n"
     ]
    }
   ],
   "source": [
    "df.info()"
   ]
  },
  {
   "cell_type": "code",
   "execution_count": 34,
   "id": "6f8cd102-4005-40ec-9ac6-0a016890ffc8",
   "metadata": {
    "tags": []
   },
   "outputs": [],
   "source": [
    "# Convert 'date' column to datetime\n",
    "df['date'] = pd.to_datetime(df['date'])"
   ]
  },
  {
   "cell_type": "code",
   "execution_count": 35,
   "id": "75aea34f-862d-4a00-a093-ad07620775ac",
   "metadata": {
    "tags": []
   },
   "outputs": [],
   "source": [
    "# Sales analysis by country\n",
    "sales_by_country = df.groupby('country')[['tx', 'amount']].sum()\n",
    "\n",
    "# Sales analysis by continent\n",
    "sales_by_continent = df.groupby('continent')[['tx', 'amount']].sum()"
   ]
  },
  {
   "cell_type": "code",
   "execution_count": 64,
   "id": "7b1a8556-a9b6-43b5-b665-4c866371fcc0",
   "metadata": {
    "tags": []
   },
   "outputs": [],
   "source": [
    "# Calculate the average amount per transaction for each continent\n",
    "sales_by_continent['avg_amount_per_tx'] = sales_by_continent['amount'] / sales_by_continent['tx']"
   ]
  },
  {
   "cell_type": "code",
   "execution_count": 65,
   "id": "6c36e839-8bc4-45c2-8f53-94edb1336786",
   "metadata": {
    "tags": []
   },
   "outputs": [
    {
     "data": {
      "text/html": [
       "<div>\n",
       "<style scoped>\n",
       "    .dataframe tbody tr th:only-of-type {\n",
       "        vertical-align: middle;\n",
       "    }\n",
       "\n",
       "    .dataframe tbody tr th {\n",
       "        vertical-align: top;\n",
       "    }\n",
       "\n",
       "    .dataframe thead th {\n",
       "        text-align: right;\n",
       "    }\n",
       "</style>\n",
       "<table border=\"1\" class=\"dataframe\">\n",
       "  <thead>\n",
       "    <tr style=\"text-align: right;\">\n",
       "      <th></th>\n",
       "      <th>tx</th>\n",
       "      <th>amount</th>\n",
       "      <th>avg_amount_per_tx</th>\n",
       "    </tr>\n",
       "    <tr>\n",
       "      <th>continent</th>\n",
       "      <th></th>\n",
       "      <th></th>\n",
       "      <th></th>\n",
       "    </tr>\n",
       "  </thead>\n",
       "  <tbody>\n",
       "    <tr>\n",
       "      <th>AF</th>\n",
       "      <td>121753</td>\n",
       "      <td>4.344552e+07</td>\n",
       "      <td>356.833262</td>\n",
       "    </tr>\n",
       "    <tr>\n",
       "      <th>AS</th>\n",
       "      <td>1126070</td>\n",
       "      <td>7.093728e+08</td>\n",
       "      <td>629.954446</td>\n",
       "    </tr>\n",
       "    <tr>\n",
       "      <th>EU</th>\n",
       "      <td>5150</td>\n",
       "      <td>2.786686e+06</td>\n",
       "      <td>541.104091</td>\n",
       "    </tr>\n",
       "    <tr>\n",
       "      <th>NA</th>\n",
       "      <td>50256902</td>\n",
       "      <td>2.282037e+10</td>\n",
       "      <td>454.074380</td>\n",
       "    </tr>\n",
       "    <tr>\n",
       "      <th>OC</th>\n",
       "      <td>3</td>\n",
       "      <td>1.500000e+01</td>\n",
       "      <td>5.000000</td>\n",
       "    </tr>\n",
       "  </tbody>\n",
       "</table>\n",
       "</div>"
      ],
      "text/plain": [
       "                 tx        amount  avg_amount_per_tx\n",
       "continent                                           \n",
       "AF           121753  4.344552e+07         356.833262\n",
       "AS          1126070  7.093728e+08         629.954446\n",
       "EU             5150  2.786686e+06         541.104091\n",
       "NA         50256902  2.282037e+10         454.074380\n",
       "OC                3  1.500000e+01           5.000000"
      ]
     },
     "execution_count": 65,
     "metadata": {},
     "output_type": "execute_result"
    }
   ],
   "source": [
    "sales_by_continent.head()"
   ]
  },
  {
   "cell_type": "code",
   "execution_count": 66,
   "id": "15a83ac7-e340-4db0-a575-2a73e46fec28",
   "metadata": {
    "tags": []
   },
   "outputs": [
    {
     "data": {
      "image/png": "[encoded data removed]",
      "text/plain": [
       "<Figure size 800x600 with 1 Axes>"
      ]
     },
     "metadata": {},
     "output_type": "display_data"
    }
   ],
   "source": [
    "# Bar plot for sales by continent\n",
    "plt.figure(figsize=(8, 6))\n",
    "sales_by_continent['avg_amount_per_tx'].sort_values(ascending=False).plot(kind='bar', color='lightgreen')\n",
    "plt.title('Total Sales by Continent')\n",
    "plt.xlabel('Continent')\n",
    "plt.ylabel('Total Sales Amount')\n",
    "plt.xticks(rotation=45)\n",
    "plt.grid(axis='y')\n",
    "plt.tight_layout()\n",
    "plt.show()"
   ]
  },
  {
   "cell_type": "code",
   "execution_count": 67,
   "id": "abfc7a35-e895-40bb-9936-feb7dacbf061",
   "metadata": {
    "tags": []
   },
   "outputs": [],
   "source": [
    "# Filter data for the year 2023\n",
    "df_2023 = df[df['date'].dt.year == 2023]"
   ]
  },
  {
   "cell_type": "code",
   "execution_count": 69,
   "id": "84382eca-f17f-43f3-a3fd-0653e0c34b66",
   "metadata": {
    "tags": []
   },
   "outputs": [],
   "source": [
    "sales_by_continent_2023 = df_2023.groupby('continent')[['tx', 'amount']].sum()\n",
    "sales_by_continent_2023['avg_amount_per_tx'] = sales_by_continent_2023['amount'] / sales_by_continent_2023['tx']"
   ]
  },
  {
   "cell_type": "code",
   "execution_count": 71,
   "id": "5b2282f6-08e9-4b2d-9ded-a83312dff92b",
   "metadata": {
    "tags": []
   },
   "outputs": [
    {
     "data": {
      "image/png": "[encoded data removed]",
      "text/plain": [
       "<Figure size 800x600 with 1 Axes>"
      ]
     },
     "metadata": {},
     "output_type": "display_data"
    }
   ],
   "source": [
    "# Bar plot for sales by continent\n",
    "plt.figure(figsize=(8, 6))\n",
    "sales_by_continent_2023['avg_amount_per_tx'].sort_values(ascending=False).plot(kind='bar', color='lightgreen')\n",
    "plt.title('Total Sales by Continent')\n",
    "plt.xlabel('Continent')\n",
    "plt.ylabel('Total Sales Amount')\n",
    "plt.xticks(rotation=45)\n",
    "plt.grid(axis='y')\n",
    "plt.tight_layout()\n",
    "plt.show()"
   ]
  },
  {
   "cell_type": "code",
   "execution_count": 73,
   "id": "de06fed4-c35a-447b-8442-edba64604187",
   "metadata": {
    "tags": []
   },
   "outputs": [
    {
     "data": {
      "text/plain": [
       "array(['PHILIPPINES', 'BANGLADESH', 'INDONESIA', 'MALAYSIA', 'NEPAL',\n",
       "       'INDIA', 'THAILAND', 'CAMBODIA', 'SINGAPORE', 'TÜRKIYE',\n",
       "       'SRI LANKA', 'QATAR', 'PAKISTAN'], dtype=object)"
      ]
     },
     "execution_count": 73,
     "metadata": {},
     "output_type": "execute_result"
    }
   ],
   "source": [
    "df[df['continent'] == 'AS']['country'].unique()"
   ]
  },
  {
   "cell_type": "code",
   "execution_count": null,
   "id": "bc6e5cca-409d-4171-b591-9c6add83e087",
   "metadata": {},
   "outputs": [],
   "source": []
  },
  {
   "cell_type": "code",
   "execution_count": null,
   "id": "bc434f89-1848-4937-8e0c-7b84a4766147",
   "metadata": {},
   "outputs": [],
   "source": []
  },
  {
   "cell_type": "code",
   "execution_count": null,
   "id": "9bc35fa2-034a-45be-b604-f8d029100294",
   "metadata": {},
   "outputs": [],
   "source": []
  },
  {
   "cell_type": "code",
   "execution_count": null,
   "id": "b36755ed-4214-439c-9f14-5a0e2a7e3a17",
   "metadata": {
    "tags": []
   },
   "outputs": [],
   "source": [
    "#list(pycountry.countries)"
   ]
  },
  {
   "cell_type": "code",
   "execution_count": null,
   "id": "85c122d0-5593-4be3-8534-037c8f94b93c",
   "metadata": {
    "tags": []
   },
   "outputs": [],
   "source": [
    "####### To detect countries to be formatted ############\n",
    "# Countries included in my df\n",
    "unique_countries = set(df['country'])\n",
    "\n",
    "# Checking wich are not included in pycountry > To include in name_mappings dictionary\n",
    "not_found_countries = [country for country in unique_countries if pycountry.countries.get(name=country) is None]\n",
    "print(not_found_countries)"
   ]
  },
  {
   "cell_type": "code",
   "execution_count": null,
   "id": "70a8dfab-e37d-4d7e-b88e-5bac74972c38",
   "metadata": {},
   "outputs": [],
   "source": []
  }
 ],
 "metadata": {
  "availableInstances": [
   {
    "_defaultOrder": 0,
    "_isFastLaunch": true,
    "category": "General purpose",
    "gpuNum": 0,
    "hideHardwareSpecs": false,
    "memoryGiB": 4,
    "name": "ml.t3.medium",
    "vcpuNum": 2
   },
   {
    "_defaultOrder": 1,
    "_isFastLaunch": false,
    "category": "General purpose",
    "gpuNum": 0,
    "hideHardwareSpecs": false,
    "memoryGiB": 8,
    "name": "ml.t3.large",
    "vcpuNum": 2
   },
   {
    "_defaultOrder": 2,
    "_isFastLaunch": false,
    "category": "General purpose",
    "gpuNum": 0,
    "hideHardwareSpecs": false,
    "memoryGiB": 16,
    "name": "ml.t3.xlarge",
    "vcpuNum": 4
   },
   {
    "_defaultOrder": 3,
    "_isFastLaunch": false,
    "category": "General purpose",
    "gpuNum": 0,
    "hideHardwareSpecs": false,
    "memoryGiB": 32,
    "name": "ml.t3.2xlarge",
    "vcpuNum": 8
   },
   {
    "_defaultOrder": 4,
    "_isFastLaunch": true,
    "category": "General purpose",
    "gpuNum": 0,
    "hideHardwareSpecs": false,
    "memoryGiB": 8,
    "name": "ml.m5.large",
    "vcpuNum": 2
   },
   {
    "_defaultOrder": 5,
    "_isFastLaunch": false,
    "category": "General purpose",
    "gpuNum": 0,
    "hideHardwareSpecs": false,
    "memoryGiB": 16,
    "name": "ml.m5.xlarge",
    "vcpuNum": 4
   },
   {
    "_defaultOrder": 6,
    "_isFastLaunch": false,
    "category": "General purpose",
    "gpuNum": 0,
    "hideHardwareSpecs": false,
    "memoryGiB": 32,
    "name": "ml.m5.2xlarge",
    "vcpuNum": 8
   },
   {
    "_defaultOrder": 7,
    "_isFastLaunch": false,
    "category": "General purpose",
    "gpuNum": 0,
    "hideHardwareSpecs": false,
    "memoryGiB": 64,
    "name": "ml.m5.4xlarge",
    "vcpuNum": 16
   },
   {
    "_defaultOrder": 8,
    "_isFastLaunch": false,
    "category": "General purpose",
    "gpuNum": 0,
    "hideHardwareSpecs": false,
    "memoryGiB": 128,
    "name": "ml.m5.8xlarge",
    "vcpuNum": 32
   },
   {
    "_defaultOrder": 9,
    "_isFastLaunch": false,
    "category": "General purpose",
    "gpuNum": 0,
    "hideHardwareSpecs": false,
    "memoryGiB": 192,
    "name": "ml.m5.12xlarge",
    "vcpuNum": 48
   },
   {
    "_defaultOrder": 10,
    "_isFastLaunch": false,
    "category": "General purpose",
    "gpuNum": 0,
    "hideHardwareSpecs": false,
    "memoryGiB": 256,
    "name": "ml.m5.16xlarge",
    "vcpuNum": 64
   },
   {
    "_defaultOrder": 11,
    "_isFastLaunch": false,
    "category": "General purpose",
    "gpuNum": 0,
    "hideHardwareSpecs": false,
    "memoryGiB": 384,
    "name": "ml.m5.24xlarge",
    "vcpuNum": 96
   },
   {
    "_defaultOrder": 12,
    "_isFastLaunch": false,
    "category": "General purpose",
    "gpuNum": 0,
    "hideHardwareSpecs": false,
    "memoryGiB": 8,
    "name": "ml.m5d.large",
    "vcpuNum": 2
   },
   {
    "_defaultOrder": 13,
    "_isFastLaunch": false,
    "category": "General purpose",
    "gpuNum": 0,
    "hideHardwareSpecs": false,
    "memoryGiB": 16,
    "name": "ml.m5d.xlarge",
    "vcpuNum": 4
   },
   {
    "_defaultOrder": 14,
    "_isFastLaunch": false,
    "category": "General purpose",
    "gpuNum": 0,
    "hideHardwareSpecs": false,
    "memoryGiB": 32,
    "name": "ml.m5d.2xlarge",
    "vcpuNum": 8
   },
   {
    "_defaultOrder": 15,
    "_isFastLaunch": false,
    "category": "General purpose",
    "gpuNum": 0,
    "hideHardwareSpecs": false,
    "memoryGiB": 64,
    "name": "ml.m5d.4xlarge",
    "vcpuNum": 16
   },
   {
    "_defaultOrder": 16,
    "_isFastLaunch": false,
    "category": "General purpose",
    "gpuNum": 0,
    "hideHardwareSpecs": false,
    "memoryGiB": 128,
    "name": "ml.m5d.8xlarge",
    "vcpuNum": 32
   },
   {
    "_defaultOrder": 17,
    "_isFastLaunch": false,
    "category": "General purpose",
    "gpuNum": 0,
    "hideHardwareSpecs": false,
    "memoryGiB": 192,
    "name": "ml.m5d.12xlarge",
    "vcpuNum": 48
   },
   {
    "_defaultOrder": 18,
    "_isFastLaunch": false,
    "category": "General purpose",
    "gpuNum": 0,
    "hideHardwareSpecs": false,
    "memoryGiB": 256,
    "name": "ml.m5d.16xlarge",
    "vcpuNum": 64
   },
   {
    "_defaultOrder": 19,
    "_isFastLaunch": false,
    "category": "General purpose",
    "gpuNum": 0,
    "hideHardwareSpecs": false,
    "memoryGiB": 384,
    "name": "ml.m5d.24xlarge",
    "vcpuNum": 96
   },
   {
    "_defaultOrder": 20,
    "_isFastLaunch": false,
    "category": "General purpose",
    "gpuNum": 0,
    "hideHardwareSpecs": true,
    "memoryGiB": 0,
    "name": "ml.geospatial.interactive",
    "supportedImageNames": [
     "sagemaker-geospatial-v1-0"
    ],
    "vcpuNum": 0
   },
   {
    "_defaultOrder": 21,
    "_isFastLaunch": true,
    "category": "Compute optimized",
    "gpuNum": 0,
    "hideHardwareSpecs": false,
    "memoryGiB": 4,
    "name": "ml.c5.large",
    "vcpuNum": 2
   },
   {
    "_defaultOrder": 22,
    "_isFastLaunch": false,
    "category": "Compute optimized",
    "gpuNum": 0,
    "hideHardwareSpecs": false,
    "memoryGiB": 8,
    "name": "ml.c5.xlarge",
    "vcpuNum": 4
   },
   {
    "_defaultOrder": 23,
    "_isFastLaunch": false,
    "category": "Compute optimized",
    "gpuNum": 0,
    "hideHardwareSpecs": false,
    "memoryGiB": 16,
    "name": "ml.c5.2xlarge",
    "vcpuNum": 8
   },
   {
    "_defaultOrder": 24,
    "_isFastLaunch": false,
    "category": "Compute optimized",
    "gpuNum": 0,
    "hideHardwareSpecs": false,
    "memoryGiB": 32,
    "name": "ml.c5.4xlarge",
    "vcpuNum": 16
   },
   {
    "_defaultOrder": 25,
    "_isFastLaunch": false,
    "category": "Compute optimized",
    "gpuNum": 0,
    "hideHardwareSpecs": false,
    "memoryGiB": 72,
    "name": "ml.c5.9xlarge",
    "vcpuNum": 36
   },
   {
    "_defaultOrder": 26,
    "_isFastLaunch": false,
    "category": "Compute optimized",
    "gpuNum": 0,
    "hideHardwareSpecs": false,
    "memoryGiB": 96,
    "name": "ml.c5.12xlarge",
    "vcpuNum": 48
   },
   {
    "_defaultOrder": 27,
    "_isFastLaunch": false,
    "category": "Compute optimized",
    "gpuNum": 0,
    "hideHardwareSpecs": false,
    "memoryGiB": 144,
    "name": "ml.c5.18xlarge",
    "vcpuNum": 72
   },
   {
    "_defaultOrder": 28,
    "_isFastLaunch": false,
    "category": "Compute optimized",
    "gpuNum": 0,
    "hideHardwareSpecs": false,
    "memoryGiB": 192,
    "name": "ml.c5.24xlarge",
    "vcpuNum": 96
   },
   {
    "_defaultOrder": 29,
    "_isFastLaunch": true,
    "category": "Accelerated computing",
    "gpuNum": 1,
    "hideHardwareSpecs": false,
    "memoryGiB": 16,
    "name": "ml.g4dn.xlarge",
    "vcpuNum": 4
   },
   {
    "_defaultOrder": 30,
    "_isFastLaunch": false,
    "category": "Accelerated computing",
    "gpuNum": 1,
    "hideHardwareSpecs": false,
    "memoryGiB": 32,
    "name": "ml.g4dn.2xlarge",
    "vcpuNum": 8
   },
   {
    "_defaultOrder": 31,
    "_isFastLaunch": false,
    "category": "Accelerated computing",
    "gpuNum": 1,
    "hideHardwareSpecs": false,
    "memoryGiB": 64,
    "name": "ml.g4dn.4xlarge",
    "vcpuNum": 16
   },
   {
    "_defaultOrder": 32,
    "_isFastLaunch": false,
    "category": "Accelerated computing",
    "gpuNum": 1,
    "hideHardwareSpecs": false,
    "memoryGiB": 128,
    "name": "ml.g4dn.8xlarge",
    "vcpuNum": 32
   },
   {
    "_defaultOrder": 33,
    "_isFastLaunch": false,
    "category": "Accelerated computing",
    "gpuNum": 4,
    "hideHardwareSpecs": false,
    "memoryGiB": 192,
    "name": "ml.g4dn.12xlarge",
    "vcpuNum": 48
   },
   {
    "_defaultOrder": 34,
    "_isFastLaunch": false,
    "category": "Accelerated computing",
    "gpuNum": 1,
    "hideHardwareSpecs": false,
    "memoryGiB": 256,
    "name": "ml.g4dn.16xlarge",
    "vcpuNum": 64
   },
   {
    "_defaultOrder": 35,
    "_isFastLaunch": false,
    "category": "Accelerated computing",
    "gpuNum": 1,
    "hideHardwareSpecs": false,
    "memoryGiB": 61,
    "name": "ml.p3.2xlarge",
    "vcpuNum": 8
   },
   {
    "_defaultOrder": 36,
    "_isFastLaunch": false,
    "category": "Accelerated computing",
    "gpuNum": 4,
    "hideHardwareSpecs": false,
    "memoryGiB": 244,
    "name": "ml.p3.8xlarge",
    "vcpuNum": 32
   },
   {
    "_defaultOrder": 37,
    "_isFastLaunch": false,
    "category": "Accelerated computing",
    "gpuNum": 8,
    "hideHardwareSpecs": false,
    "memoryGiB": 488,
    "name": "ml.p3.16xlarge",
    "vcpuNum": 64
   },
   {
    "_defaultOrder": 38,
    "_isFastLaunch": false,
    "category": "Accelerated computing",
    "gpuNum": 8,
    "hideHardwareSpecs": false,
    "memoryGiB": 768,
    "name": "ml.p3dn.24xlarge",
    "vcpuNum": 96
   },
   {
    "_defaultOrder": 39,
    "_isFastLaunch": false,
    "category": "Memory Optimized",
    "gpuNum": 0,
    "hideHardwareSpecs": false,
    "memoryGiB": 16,
    "name": "ml.r5.large",
    "vcpuNum": 2
   },
   {
    "_defaultOrder": 40,
    "_isFastLaunch": false,
    "category": "Memory Optimized",
    "gpuNum": 0,
    "hideHardwareSpecs": false,
    "memoryGiB": 32,
    "name": "ml.r5.xlarge",
    "vcpuNum": 4
   },
   {
    "_defaultOrder": 41,
    "_isFastLaunch": false,
    "category": "Memory Optimized",
    "gpuNum": 0,
    "hideHardwareSpecs": false,
    "memoryGiB": 64,
    "name": "ml.r5.2xlarge",
    "vcpuNum": 8
   },
   {
    "_defaultOrder": 42,
    "_isFastLaunch": false,
    "category": "Memory Optimized",
    "gpuNum": 0,
    "hideHardwareSpecs": false,
    "memoryGiB": 128,
    "name": "ml.r5.4xlarge",
    "vcpuNum": 16
   },
   {
    "_defaultOrder": 43,
    "_isFastLaunch": false,
    "category": "Memory Optimized",
    "gpuNum": 0,
    "hideHardwareSpecs": false,
    "memoryGiB": 256,
    "name": "ml.r5.8xlarge",
    "vcpuNum": 32
   },
   {
    "_defaultOrder": 44,
    "_isFastLaunch": false,
    "category": "Memory Optimized",
    "gpuNum": 0,
    "hideHardwareSpecs": false,
    "memoryGiB": 384,
    "name": "ml.r5.12xlarge",
    "vcpuNum": 48
   },
   {
    "_defaultOrder": 45,
    "_isFastLaunch": false,
    "category": "Memory Optimized",
    "gpuNum": 0,
    "hideHardwareSpecs": false,
    "memoryGiB": 512,
    "name": "ml.r5.16xlarge",
    "vcpuNum": 64
   },
   {
    "_defaultOrder": 46,
    "_isFastLaunch": false,
    "category": "Memory Optimized",
    "gpuNum": 0,
    "hideHardwareSpecs": false,
    "memoryGiB": 768,
    "name": "ml.r5.24xlarge",
    "vcpuNum": 96
   },
   {
    "_defaultOrder": 47,
    "_isFastLaunch": false,
    "category": "Accelerated computing",
    "gpuNum": 1,
    "hideHardwareSpecs": false,
    "memoryGiB": 16,
    "name": "ml.g5.xlarge",
    "vcpuNum": 4
   },
   {
    "_defaultOrder": 48,
    "_isFastLaunch": false,
    "category": "Accelerated computing",
    "gpuNum": 1,
    "hideHardwareSpecs": false,
    "memoryGiB": 32,
    "name": "ml.g5.2xlarge",
    "vcpuNum": 8
   },
   {
    "_defaultOrder": 49,
    "_isFastLaunch": false,
    "category": "Accelerated computing",
    "gpuNum": 1,
    "hideHardwareSpecs": false,
    "memoryGiB": 64,
    "name": "ml.g5.4xlarge",
    "vcpuNum": 16
   },
   {
    "_defaultOrder": 50,
    "_isFastLaunch": false,
    "category": "Accelerated computing",
    "gpuNum": 1,
    "hideHardwareSpecs": false,
    "memoryGiB": 128,
    "name": "ml.g5.8xlarge",
    "vcpuNum": 32
   },
   {
    "_defaultOrder": 51,
    "_isFastLaunch": false,
    "category": "Accelerated computing",
    "gpuNum": 1,
    "hideHardwareSpecs": false,
    "memoryGiB": 256,
    "name": "ml.g5.16xlarge",
    "vcpuNum": 64
   },
   {
    "_defaultOrder": 52,
    "_isFastLaunch": false,
    "category": "Accelerated computing",
    "gpuNum": 4,
    "hideHardwareSpecs": false,
    "memoryGiB": 192,
    "name": "ml.g5.12xlarge",
    "vcpuNum": 48
   },
   {
    "_defaultOrder": 53,
    "_isFastLaunch": false,
    "category": "Accelerated computing",
    "gpuNum": 4,
    "hideHardwareSpecs": false,
    "memoryGiB": 384,
    "name": "ml.g5.24xlarge",
    "vcpuNum": 96
   },
   {
    "_defaultOrder": 54,
    "_isFastLaunch": false,
    "category": "Accelerated computing",
    "gpuNum": 8,
    "hideHardwareSpecs": false,
    "memoryGiB": 768,
    "name": "ml.g5.48xlarge",
    "vcpuNum": 192
   },
   {
    "_defaultOrder": 55,
    "_isFastLaunch": false,
    "category": "Accelerated computing",
    "gpuNum": 8,
    "hideHardwareSpecs": false,
    "memoryGiB": 1152,
    "name": "ml.p4d.24xlarge",
    "vcpuNum": 96
   },
   {
    "_defaultOrder": 56,
    "_isFastLaunch": false,
    "category": "Accelerated computing",
    "gpuNum": 8,
    "hideHardwareSpecs": false,
    "memoryGiB": 1152,
    "name": "ml.p4de.24xlarge",
    "vcpuNum": 96
   },
   {
    "_defaultOrder": 57,
    "_isFastLaunch": false,
    "category": "Accelerated computing",
    "gpuNum": 0,
    "hideHardwareSpecs": false,
    "memoryGiB": 32,
    "name": "ml.trn1.2xlarge",
    "vcpuNum": 8
   },
   {
    "_defaultOrder": 58,
    "_isFastLaunch": false,
    "category": "Accelerated computing",
    "gpuNum": 0,
    "hideHardwareSpecs": false,
    "memoryGiB": 512,
    "name": "ml.trn1.32xlarge",
    "vcpuNum": 128
   },
   {
    "_defaultOrder": 59,
    "_isFastLaunch": false,
    "category": "Accelerated computing",
    "gpuNum": 0,
    "hideHardwareSpecs": false,
    "memoryGiB": 512,
    "name": "ml.trn1n.32xlarge",
    "vcpuNum": 128
   }
  ],
  "instance_type": "ml.t3.medium",
  "kernelspec": {
   "display_name": "Python 3 (Data Science 3.0)",
   "language": "python",
   "name": "python3__SAGEMAKER_INTERNAL__arn:aws:sagemaker:us-east-1:081325390199:image/sagemaker-data-science-310-v1"
  },
  "language_info": {
   "codemirror_mode": {
    "name": "ipython",
    "version": 3
   },
   "file_extension": ".py",
   "mimetype": "text/x-python",
   "name": "python",
   "nbconvert_exporter": "python",
   "pygments_lexer": "ipython3",
   "version": "3.10.6"
  }
 },
 "nbformat": 4,
 "nbformat_minor": 5
}
