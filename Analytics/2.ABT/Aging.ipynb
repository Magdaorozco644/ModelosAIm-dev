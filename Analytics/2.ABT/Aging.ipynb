{
 "cells": [
  {
   "cell_type": "code",
   "execution_count": 4,
   "id": "3a5e4d16-c28b-4c96-9a04-24d9c8228128",
   "metadata": {
    "tags": []
   },
   "outputs": [
    {
     "name": "stdout",
     "output_type": "stream",
     "text": [
      "Requirement already satisfied: pyathena in /opt/conda/lib/python3.10/site-packages (3.0.10)\n",
      "Requirement already satisfied: boto3>=1.26.4 in /opt/conda/lib/python3.10/site-packages (from pyathena) (1.33.9)\n",
      "Requirement already satisfied: botocore>=1.29.4 in /opt/conda/lib/python3.10/site-packages (from pyathena) (1.33.9)\n",
      "Requirement already satisfied: fsspec in /opt/conda/lib/python3.10/site-packages (from pyathena) (2022.7.1)\n",
      "Requirement already satisfied: tenacity>=4.1.0 in /opt/conda/lib/python3.10/site-packages (from pyathena) (8.0.1)\n",
      "Requirement already satisfied: jmespath<2.0.0,>=0.7.1 in /opt/conda/lib/python3.10/site-packages (from boto3>=1.26.4->pyathena) (0.10.0)\n",
      "Requirement already satisfied: s3transfer<0.9.0,>=0.8.2 in /opt/conda/lib/python3.10/site-packages (from boto3>=1.26.4->pyathena) (0.8.2)\n",
      "Requirement already satisfied: python-dateutil<3.0.0,>=2.1 in /opt/conda/lib/python3.10/site-packages (from botocore>=1.29.4->pyathena) (2.8.2)\n",
      "Requirement already satisfied: urllib3<2.1,>=1.25.4 in /opt/conda/lib/python3.10/site-packages (from botocore>=1.29.4->pyathena) (2.0.7)\n",
      "Requirement already satisfied: six>=1.5 in /opt/conda/lib/python3.10/site-packages (from python-dateutil<3.0.0,>=2.1->botocore>=1.29.4->pyathena) (1.16.0)\n",
      "\u001b[33mWARNING: Running pip as the 'root' user can result in broken permissions and conflicting behaviour with the system package manager. It is recommended to use a virtual environment instead: https://pip.pypa.io/warnings/venv\u001b[0m\u001b[33m\n",
      "\u001b[0m\n",
      "\u001b[1m[\u001b[0m\u001b[34;49mnotice\u001b[0m\u001b[1;39;49m]\u001b[0m\u001b[39;49m A new release of pip is available: \u001b[0m\u001b[31;49m23.3.1\u001b[0m\u001b[39;49m -> \u001b[0m\u001b[32;49m23.3.2\u001b[0m\n",
      "\u001b[1m[\u001b[0m\u001b[34;49mnotice\u001b[0m\u001b[1;39;49m]\u001b[0m\u001b[39;49m To update, run: \u001b[0m\u001b[32;49mpip install --upgrade pip\u001b[0m\n"
     ]
    }
   ],
   "source": [
    "!pip install pyathena"
   ]
  },
  {
   "cell_type": "code",
   "execution_count": 5,
   "id": "da2e360f-a693-4c1e-9942-bcf01fb39c10",
   "metadata": {
    "tags": []
   },
   "outputs": [],
   "source": [
    "#Libraries\n",
    "from pyathena import connect\n",
    "import pandas as pd\n",
    "import datetime as dt\n",
    "import numpy as np"
   ]
  },
  {
   "cell_type": "code",
   "execution_count": 6,
   "id": "529bdc58-c2b0-4795-8ca6-97e6f0c0e490",
   "metadata": {
    "tags": []
   },
   "outputs": [],
   "source": [
    "# DB Setting\n",
    "bucket_name = 's3://viamericas-datalake-dev-us-east-1-283731589572-athena/'\n",
    "origin_name = 'AwsDataCatalog'\n",
    "database_name = 'analytics'\n",
    "table1_name = 'daily_sales_not_cancellations'\n",
    "table2_name = 'daily_tx_not_cancellations'"
   ]
  },
  {
   "cell_type": "code",
   "execution_count": 7,
   "id": "dcf8e15f-5ea8-4b9a-bcec-e73e97e5ba05",
   "metadata": {
    "tags": []
   },
   "outputs": [
    {
     "name": "stderr",
     "output_type": "stream",
     "text": [
      "/tmp/ipykernel_1973/835893596.py:5: UserWarning: pandas only supports SQLAlchemy connectable (engine/connection) or database string URI or sqlite3 DBAPI2 connection. Other DBAPI2 objects are not tested. Please consider using SQLAlchemy.\n",
      "  df1 = pd.read_sql(f'SELECT * FROM {origin_name}.{database_name}.{table1_name};', conn)\n",
      "/tmp/ipykernel_1973/835893596.py:6: UserWarning: pandas only supports SQLAlchemy connectable (engine/connection) or database string URI or sqlite3 DBAPI2 connection. Other DBAPI2 objects are not tested. Please consider using SQLAlchemy.\n",
      "  df2 = pd.read_sql(f'SELECT * FROM {origin_name}.{database_name}.{table2_name};', conn)\n"
     ]
    }
   ],
   "source": [
    "#Connection\n",
    "\n",
    "conn = connect(s3_staging_dir=f'{bucket_name}queryresults/',\n",
    "               region_name='us-east-1')\n",
    "df1 = pd.read_sql(f'SELECT * FROM {origin_name}.{database_name}.{table1_name};', conn)\n",
    "df2 = pd.read_sql(f'SELECT * FROM {origin_name}.{database_name}.{table2_name};', conn)"
   ]
  },
  {
   "cell_type": "code",
   "execution_count": 8,
   "id": "d6690fcf-5c7f-4618-92f7-a330329ff3f2",
   "metadata": {},
   "outputs": [],
   "source": [
    "df = df1.merge(df2, on=['date', 'payer', 'country'], how='outer')"
   ]
  },
  {
   "cell_type": "code",
   "execution_count": 9,
   "id": "e7d156d8-bde6-4dc3-bf45-5fd560005536",
   "metadata": {
    "tags": []
   },
   "outputs": [
    {
     "data": {
      "text/plain": [
       "(103726, 5)"
      ]
     },
     "execution_count": 9,
     "metadata": {},
     "output_type": "execute_result"
    }
   ],
   "source": [
    "df.shape"
   ]
  },
  {
   "cell_type": "code",
   "execution_count": 10,
   "id": "f2b2656f-92d0-403e-83df-5c372ef2151e",
   "metadata": {
    "tags": []
   },
   "outputs": [
    {
     "data": {
      "text/plain": [
       "25110624454.4149"
      ]
     },
     "execution_count": 10,
     "metadata": {},
     "output_type": "execute_result"
    }
   ],
   "source": [
    "df.amount.sum()"
   ]
  },
  {
   "cell_type": "code",
   "execution_count": null,
   "id": "1e48d8c9-94bb-4e90-8a16-333244d41f58",
   "metadata": {},
   "outputs": [],
   "source": []
  },
  {
   "cell_type": "code",
   "execution_count": 16,
   "id": "69bb9ac0-bf1b-43c1-8031-bca2d1bf2de2",
   "metadata": {
    "tags": []
   },
   "outputs": [
    {
     "data": {
      "text/html": [
       "<div>\n",
       "<style scoped>\n",
       "    .dataframe tbody tr th:only-of-type {\n",
       "        vertical-align: middle;\n",
       "    }\n",
       "\n",
       "    .dataframe tbody tr th {\n",
       "        vertical-align: top;\n",
       "    }\n",
       "\n",
       "    .dataframe thead th {\n",
       "        text-align: right;\n",
       "    }\n",
       "</style>\n",
       "<table border=\"1\" class=\"dataframe\">\n",
       "  <thead>\n",
       "    <tr style=\"text-align: right;\">\n",
       "      <th></th>\n",
       "      <th>payer</th>\n",
       "      <th>country</th>\n",
       "      <th>date</th>\n",
       "      <th>amount</th>\n",
       "    </tr>\n",
       "  </thead>\n",
       "  <tbody>\n",
       "    <tr>\n",
       "      <th>0</th>\n",
       "      <td>BANCOPPEL (BTS)</td>\n",
       "      <td>MEXICO</td>\n",
       "      <td>2021-01-13</td>\n",
       "      <td>1234299.06</td>\n",
       "    </tr>\n",
       "    <tr>\n",
       "      <th>1</th>\n",
       "      <td>DAVIVIENDA - HONDURAS (BTS)</td>\n",
       "      <td>HONDURAS</td>\n",
       "      <td>2021-07-05</td>\n",
       "      <td>1519.00</td>\n",
       "    </tr>\n",
       "    <tr>\n",
       "      <th>2</th>\n",
       "      <td>BANCO DE GUAYAQUIL</td>\n",
       "      <td>ECUADOR</td>\n",
       "      <td>2021-04-13</td>\n",
       "      <td>11275.00</td>\n",
       "    </tr>\n",
       "    <tr>\n",
       "      <th>3</th>\n",
       "      <td>CARIBE EXPRESS</td>\n",
       "      <td>DOMINICAN REPUBLIC</td>\n",
       "      <td>2021-04-13</td>\n",
       "      <td>323943.00</td>\n",
       "    </tr>\n",
       "    <tr>\n",
       "      <th>4</th>\n",
       "      <td>INTERMEX</td>\n",
       "      <td>MEXICO</td>\n",
       "      <td>2021-04-13</td>\n",
       "      <td>153547.27</td>\n",
       "    </tr>\n",
       "  </tbody>\n",
       "</table>\n",
       "</div>"
      ],
      "text/plain": [
       "                         payer             country        date      amount\n",
       "0              BANCOPPEL (BTS)              MEXICO  2021-01-13  1234299.06\n",
       "1  DAVIVIENDA - HONDURAS (BTS)            HONDURAS  2021-07-05     1519.00\n",
       "2           BANCO DE GUAYAQUIL             ECUADOR  2021-04-13    11275.00\n",
       "3               CARIBE EXPRESS  DOMINICAN REPUBLIC  2021-04-13   323943.00\n",
       "4                     INTERMEX              MEXICO  2021-04-13   153547.27"
      ]
     },
     "execution_count": 16,
     "metadata": {},
     "output_type": "execute_result"
    }
   ],
   "source": [
    "df.head()"
   ]
  },
  {
   "cell_type": "code",
   "execution_count": 11,
   "id": "de6994f2-a93c-4af7-8c5c-6f5353500199",
   "metadata": {
    "tags": []
   },
   "outputs": [
    {
     "name": "stdout",
     "output_type": "stream",
     "text": [
      "<class 'pandas.core.frame.DataFrame'>\n",
      "RangeIndex: 103726 entries, 0 to 103725\n",
      "Data columns (total 5 columns):\n",
      " #   Column   Non-Null Count   Dtype  \n",
      "---  ------   --------------   -----  \n",
      " 0   payer    103726 non-null  object \n",
      " 1   country  103726 non-null  object \n",
      " 2   date     103726 non-null  object \n",
      " 3   amount   103726 non-null  float64\n",
      " 4   count    103726 non-null  int64  \n",
      "dtypes: float64(1), int64(1), object(3)\n",
      "memory usage: 4.0+ MB\n"
     ]
    }
   ],
   "source": [
    "df.info()"
   ]
  },
  {
   "cell_type": "code",
   "execution_count": 12,
   "id": "f5da441c-1390-46e0-9094-5f17bdfd8bea",
   "metadata": {
    "tags": []
   },
   "outputs": [],
   "source": [
    "# Excluding 'EXPIRED ORDERS'\n",
    "df = df[df['payer']!='EXPIRED ORDERS']"
   ]
  },
  {
   "cell_type": "code",
   "execution_count": 13,
   "id": "29cf4c07-4677-4a95-9f17-f5fa0452739b",
   "metadata": {
    "tags": []
   },
   "outputs": [],
   "source": [
    "# Excluding sales amount == 0\n",
    "df = df[df['amount']!= 0 ]"
   ]
  },
  {
   "cell_type": "code",
   "execution_count": 14,
   "id": "7564865d-b7d1-4572-8776-9c7f67b8d2a5",
   "metadata": {},
   "outputs": [],
   "source": [
    "# Combining payer and country, we can obtain a column to work on \n",
    "# We can enconde it to obtain better results\n",
    "from sklearn.preprocessing import LabelEncoder\n",
    "df['payer_country'] = df['payer'] + '_' + df['country']\n",
    "\n",
    "# Inicializar LabelEncoder\n",
    "label_encoder = LabelEncoder()\n",
    "# Codificar ‘PAYER_COUNTRY’ como valores numéricos únicos\n",
    "df['payer_country_encoder'] = label_encoder.fit_transform(df['payer_country'])"
   ]
  },
  {
   "cell_type": "code",
   "execution_count": 20,
   "id": "90e6d487-ec54-4719-8087-ff69e93dc75b",
   "metadata": {
    "tags": []
   },
   "outputs": [
    {
     "data": {
      "text/html": [
       "<div>\n",
       "<style scoped>\n",
       "    .dataframe tbody tr th:only-of-type {\n",
       "        vertical-align: middle;\n",
       "    }\n",
       "\n",
       "    .dataframe tbody tr th {\n",
       "        vertical-align: top;\n",
       "    }\n",
       "\n",
       "    .dataframe thead th {\n",
       "        text-align: right;\n",
       "    }\n",
       "</style>\n",
       "<table border=\"1\" class=\"dataframe\">\n",
       "  <thead>\n",
       "    <tr style=\"text-align: right;\">\n",
       "      <th></th>\n",
       "      <th>payer</th>\n",
       "      <th>country</th>\n",
       "      <th>date</th>\n",
       "      <th>amount</th>\n",
       "      <th>payer_country</th>\n",
       "      <th>payer_country_encoder</th>\n",
       "    </tr>\n",
       "  </thead>\n",
       "  <tbody>\n",
       "    <tr>\n",
       "      <th>0</th>\n",
       "      <td>BANCOPPEL (BTS)</td>\n",
       "      <td>MEXICO</td>\n",
       "      <td>2021-01-13</td>\n",
       "      <td>1234299.06</td>\n",
       "      <td>BANCOPPEL (BTS)_MEXICO</td>\n",
       "      <td>35</td>\n",
       "    </tr>\n",
       "    <tr>\n",
       "      <th>1</th>\n",
       "      <td>DAVIVIENDA - HONDURAS (BTS)</td>\n",
       "      <td>HONDURAS</td>\n",
       "      <td>2021-07-05</td>\n",
       "      <td>1519.00</td>\n",
       "      <td>DAVIVIENDA - HONDURAS (BTS)_HONDURAS</td>\n",
       "      <td>66</td>\n",
       "    </tr>\n",
       "    <tr>\n",
       "      <th>2</th>\n",
       "      <td>BANCO DE GUAYAQUIL</td>\n",
       "      <td>ECUADOR</td>\n",
       "      <td>2021-04-13</td>\n",
       "      <td>11275.00</td>\n",
       "      <td>BANCO DE GUAYAQUIL_ECUADOR</td>\n",
       "      <td>22</td>\n",
       "    </tr>\n",
       "    <tr>\n",
       "      <th>3</th>\n",
       "      <td>CARIBE EXPRESS</td>\n",
       "      <td>DOMINICAN REPUBLIC</td>\n",
       "      <td>2021-04-13</td>\n",
       "      <td>323943.00</td>\n",
       "      <td>CARIBE EXPRESS_DOMINICAN REPUBLIC</td>\n",
       "      <td>55</td>\n",
       "    </tr>\n",
       "    <tr>\n",
       "      <th>4</th>\n",
       "      <td>INTERMEX</td>\n",
       "      <td>MEXICO</td>\n",
       "      <td>2021-04-13</td>\n",
       "      <td>153547.27</td>\n",
       "      <td>INTERMEX_MEXICO</td>\n",
       "      <td>96</td>\n",
       "    </tr>\n",
       "  </tbody>\n",
       "</table>\n",
       "</div>"
      ],
      "text/plain": [
       "                         payer             country        date      amount  \\\n",
       "0              BANCOPPEL (BTS)              MEXICO  2021-01-13  1234299.06   \n",
       "1  DAVIVIENDA - HONDURAS (BTS)            HONDURAS  2021-07-05     1519.00   \n",
       "2           BANCO DE GUAYAQUIL             ECUADOR  2021-04-13    11275.00   \n",
       "3               CARIBE EXPRESS  DOMINICAN REPUBLIC  2021-04-13   323943.00   \n",
       "4                     INTERMEX              MEXICO  2021-04-13   153547.27   \n",
       "\n",
       "                          payer_country  payer_country_encoder  \n",
       "0                BANCOPPEL (BTS)_MEXICO                     35  \n",
       "1  DAVIVIENDA - HONDURAS (BTS)_HONDURAS                     66  \n",
       "2            BANCO DE GUAYAQUIL_ECUADOR                     22  \n",
       "3     CARIBE EXPRESS_DOMINICAN REPUBLIC                     55  \n",
       "4                       INTERMEX_MEXICO                     96  "
      ]
     },
     "execution_count": 20,
     "metadata": {},
     "output_type": "execute_result"
    }
   ],
   "source": [
    "df.head()"
   ]
  },
  {
   "cell_type": "code",
   "execution_count": null,
   "id": "7781d205-220e-45d1-be73-ed0658b0617e",
   "metadata": {},
   "outputs": [],
   "source": [
    "##NUMBER OF PAYERS PER MONTH AND YEAR##"
   ]
  },
  {
   "cell_type": "code",
   "execution_count": 15,
   "id": "a7d72917-8b34-4c57-9638-3a1075c6e8ee",
   "metadata": {
    "tags": []
   },
   "outputs": [
    {
     "name": "stderr",
     "output_type": "stream",
     "text": [
      "/tmp/ipykernel_1973/3651419868.py:24: SettingWithCopyWarning: \n",
      "A value is trying to be set on a copy of a slice from a DataFrame.\n",
      "Try using .loc[row_indexer,col_indexer] = value instead\n",
      "\n",
      "See the caveats in the documentation: https://pandas.pydata.org/pandas-docs/stable/user_guide/indexing.html#returning-a-view-versus-a-copy\n",
      "  df['year'] = df['date'].dt.year\n",
      "/tmp/ipykernel_1973/3651419868.py:25: SettingWithCopyWarning: \n",
      "A value is trying to be set on a copy of a slice from a DataFrame.\n",
      "Try using .loc[row_indexer,col_indexer] = value instead\n",
      "\n",
      "See the caveats in the documentation: https://pandas.pydata.org/pandas-docs/stable/user_guide/indexing.html#returning-a-view-versus-a-copy\n",
      "  df['month'] = df['date'].dt.month\n"
     ]
    },
    {
     "data": {
      "image/png": "[encoded data removed]",
      "text/plain": [
       "<Figure size 1200x600 with 1 Axes>"
      ]
     },
     "metadata": {},
     "output_type": "display_data"
    }
   ],
   "source": [
    "import matplotlib.pyplot as plt\n",
    "import matplotlib.dates as mdates\n",
    "\n",
    "def plot_evolution_of_payers(data, start_date, end_date):\n",
    "    \"\"\"\n",
    "    Plots the evolution of unique payers with at least one transaction per month.\n",
    "\n",
    "    Parameters:\n",
    "    - data (pd.DataFrame): DataFrame containing columns 'date' and 'payer_country'.\n",
    "    - start_date (str): Start date in 'YYYY-MM-DD' format.\n",
    "    - end_date (str): End date in 'YYYY-MM-DD' format.\n",
    "\n",
    "    Returns:\n",
    "    None (displays the plot).\n",
    "    \"\"\"\n",
    "    # Convert the 'date' column to datetime format\n",
    "    data['date'] = pd.to_datetime(data['date'])\n",
    "\n",
    "    # Filter by dates\n",
    "    mask = (data['date'] >= start_date) & (data['date'] <= end_date)\n",
    "    df = data[mask]\n",
    "\n",
    "    # Create new columns for year and month\n",
    "    df['year'] = df['date'].dt.year\n",
    "    df['month'] = df['date'].dt.month\n",
    "\n",
    "    # Get unique payers per month\n",
    "    monthly_unique_payers = df.groupby(['year', 'month'])['payer_country'].nunique().reset_index(name='count')\n",
    "\n",
    "    # Create a custom index based on 'year' and 'month'\n",
    "    monthly_unique_payers['date'] = pd.to_datetime(monthly_unique_payers[['year', 'month']].assign(day=1))\n",
    "\n",
    "    # Create the bar plot with custom x-axis index\n",
    "    fig, ax = plt.subplots(figsize=(12, 6))\n",
    "    ax.bar(monthly_unique_payers['date'], monthly_unique_payers['count'], width=20)\n",
    "\n",
    "    # Format x-axis labels as 'YYYY-MM'\n",
    "    ax.xaxis.set_major_locator(mdates.MonthLocator())\n",
    "    ax.xaxis.set_major_formatter(mdates.DateFormatter('%Y-%m'))\n",
    "\n",
    "    # Add numbers above the bars\n",
    "    for i, v in enumerate(monthly_unique_payers['count']):\n",
    "        ax.text(monthly_unique_payers['date'][i], v + 0.1, str(v), ha='center', va='bottom')\n",
    "\n",
    "    plt.xlabel('Year-Month')\n",
    "    plt.ylabel('Number of payers with at least one Transaction')\n",
    "    plt.title('Evolution of payers with at least one Transaction per Month')\n",
    "    plt.xticks(rotation=45, ha='right')\n",
    "    plt.tight_layout()\n",
    "    plt.show()\n",
    "\n",
    "\n",
    "\n",
    "# Define start and end dates\n",
    "start_date = '2021-01-01'\n",
    "end_date = '2023-10-31'\n",
    "\n",
    "# Call the function\n",
    "plot_evolution_of_payers(df, start_date, end_date)"
   ]
  },
  {
   "cell_type": "code",
   "execution_count": 16,
   "id": "8b4daa66-6390-4d2a-8b99-7bfcc967f753",
   "metadata": {
    "tags": []
   },
   "outputs": [
    {
     "data": {
      "text/plain": [
       "231"
      ]
     },
     "execution_count": 16,
     "metadata": {},
     "output_type": "execute_result"
    }
   ],
   "source": [
    "####HOW MANY DIFFERENT PAYERS ARE THERE IN THE PERIOD?##\n",
    "df.payer_country.nunique()"
   ]
  },
  {
   "cell_type": "code",
   "execution_count": 17,
   "id": "f97a073f-54c6-48ca-9cee-959cc684f13c",
   "metadata": {
    "tags": []
   },
   "outputs": [
    {
     "data": {
      "text/plain": [
       "array(['MASTERCARD ATM NETWORK_UNITED STATES', 'INTERBANK_PERU',\n",
       "       'CREDOMATIC (BTS)_NICARAGUA',\n",
       "       'MICOOPE-FENACOAC (RED CHAPINA)_GUATEMALA',\n",
       "       'EMPENOS DEL SUR (ANTERIOR BALSAS)_MEXICO',\n",
       "       'CUSCA (CITI - RECIBA NETWORKS)_EL SALVADOR',\n",
       "       'VIAMERICAS USA DEPOSITS_UNITED STATES',\n",
       "       'BANCO GANADERO (BOLIVIA)_BOLIVIA', 'NAFA_TOGO',\n",
       "       'BANCO DAYCOVAL_BRAZIL', 'CHEDRAUI (APPRIZA)_MEXICO',\n",
       "       'TELEDOLAR-NIC (TN)_NICARAGUA',\n",
       "       'BANCO DAVIVIENDA SALVADORENO (BTS)_EL SALVADOR',\n",
       "       'ECUAGIROS_ECUADOR', 'COOPERATIVA CACIL (UT)_HONDURAS',\n",
       "       'BANCO BHD LEON_DOMINICAN REPUBLIC', 'BANCOPPEL (APPRIZA)_MEXICO',\n",
       "       'BANCO DE GUAYAQUIL_ECUADOR', 'BANCO BISA_BOLIVIA',\n",
       "       'GRUPO EXITO (TN)_COLOMBIA', 'ELEKTRA (BTS)_HONDURAS',\n",
       "       'INTERMEX_MEXICO', 'BANHCAFE_HONDURAS',\n",
       "       'G Y T CONTINENTAL_GUATEMALA', 'BANRURAL (RYT)_GUATEMALA',\n",
       "       'INPAMEX-DEPOSIT - INSTANT PAY DE MEXICO_MEXICO',\n",
       "       'EASY PAGOS_ECUADOR', 'COOPERATIVA FRONTERIZA (UT)_HONDURAS',\n",
       "       'METROBANK_PHILIPPINES', 'TELECOMM TELEGRAFOS (APPRIZA)_MEXICO',\n",
       "       'WALDOS (APPRIZA)_MEXICO', 'DAVIVIENDA_COLOMBIA',\n",
       "       'FICOHSA_HONDURAS', 'BBVA - BANCOMER (BTS)_MEXICO',\n",
       "       'BANCO DE CREDITO DEL PERU - BCP (UT)_PERU', 'AFEX_CHILE',\n",
       "       'BANSEFI - BANCO DEL BIENESTAR_MEXICO',\n",
       "       'BANCO AGRICOLA_EL SALVADOR', 'TELEDOLAR_COSTA RICA',\n",
       "       'BANCO RENDIMENTO_BRAZIL', 'BANCO DE ORO (BDO)_PHILIPPINES',\n",
       "       'FARMACIAS GUADALAJARA (UT)_MEXICO',\n",
       "       'INPAMEX - INSTANT PAY DE MEXICO_MEXICO',\n",
       "       'FEDECACES (EL SALVADOR)_EL SALVADOR', 'BANORTE (UT)_MEXICO',\n",
       "       'PROMERICA (GUA)_GUATEMALA', 'CARIBE EXPRESS_DOMINICAN REPUBLIC',\n",
       "       'ARGENPER_CHILE', 'FARMACIAS DEL AHORRO (DATRANSFER)_MEXICO',\n",
       "       'SORIANA_MEXICO', 'BAM - BANCO AGROMERCANTIL (UT)_GUATEMALA',\n",
       "       'FEDECREDITO (RYT)_EL SALVADOR', 'BANCOLOMBIA_COLOMBIA',\n",
       "       'BANTRAB (UT)_GUATEMALA', 'LAFISE_NICARAGUA', 'AIRPAK_MEXICO',\n",
       "       'DAVIVIENDA - HONDURAS (BTS)_HONDURAS', 'SPEED MONEY_PHILIPPINES',\n",
       "       'GME_NEPAL', \"NAFA_COTE D'IVOIRE (IVORY COAST)\", 'ZEEPAY_GHANA',\n",
       "       'GLOBAL ENVIOS_ECUADOR', 'AFRO INTERNACIONAL_SIERRA LEONE',\n",
       "       'MUTHOOT-BANGLADESH_BANGLADESH', 'ARGENPER_PERU',\n",
       "       'UNITRANSFER_HAITI', 'TRANSFERTO - THUNES_NIGERIA',\n",
       "       'KORI_BURKINA FASO', 'CEBUANA LHUILLIER_PHILIPPINES',\n",
       "       'TRANSFERTO - THUNES_PORTUGAL', 'ELEKTRA (BTS)_GUATEMALA',\n",
       "       'MERCHANTRADE_INDONESIA', 'ARGENPER_ARGENTINA', 'YES BANK_INDIA',\n",
       "       'BANK OF PHILIPPINE ISLANDS (BPI)_PHILIPPINES',\n",
       "       'BANCO POPULAR HONDURAS (UT)_HONDURAS', 'NAIRAGRAM_NIGERIA',\n",
       "       'ENVICON (ANTERIORMENTE ENVIOS CONFIANZA)_MEXICO',\n",
       "       'PAGOS INTERNACIONALES COLOMBIA (BTS)_COLOMBIA',\n",
       "       'TRANSFERTO - THUNES_SPAIN',\n",
       "       'VIAMERICAS USA DEPOSITS_UNITED STATES (ATM & DEPOSITS)',\n",
       "       'TRANSPAY_BANGLADESH', 'TRANSFERTO - THUNES_ITALY',\n",
       "       'TELECOMM TELEGRAFOS (BTS)_MEXICO', 'NAFA_GUINEA',\n",
       "       'CIBAO EXPRESS_DOMINICAN REPUBLIC', 'NAFA_BURKINA FASO',\n",
       "       'TRANSPAY_TOGO', 'TIGO MONEY_EL SALVADOR',\n",
       "       'M. LHUILLIER_PHILIPPINES', 'ZEEPAY_CAMEROON', 'TRANSPAY_CAMEROON',\n",
       "       'MASTERCARD ATM NETWORK_UNITED STATES (ATM & DEPOSITS)',\n",
       "       'VTN_NIGERIA', 'MERCHANTRADE_INDIA', 'TRANSFERTO - THUNES_FRANCE',\n",
       "       'BNB_SIERRA LEONE', 'NAFA_GAMBIA, THE',\n",
       "       'FUNDACION DONDE (BTS)_MEXICO', 'ZEEPAY_SENEGAL',\n",
       "       'TRANSPAY_INDONESIA', 'NAFA_LIBERIA', 'AFRO INTERNACIONAL_GUINEA',\n",
       "       'TRANSPAY_BENIN', 'TRANSPAY_THAILAND',\n",
       "       'TRANSFERTO - THUNES_ETHIOPIA', 'TRANSFERTO - THUNES_MAURITANIA',\n",
       "       'KORI_MALI', 'BANCO INDUSTRIAL ELS (RED CHAPINA)_EL SALVADOR',\n",
       "       'BANCO INDUSTRIAL_GUATEMALA', 'ABANK (TN)_EL SALVADOR',\n",
       "       'OXXO (TN)_MEXICO', 'BANCO ATLANTIDA_HONDURAS',\n",
       "       'CREDOMATIC_EL SALVADOR', 'TRANSFERTO - THUNES_LITHUANIA',\n",
       "       'GIROSMEX_MEXICO', 'BANCO DEL AUSTRO_ECUADOR',\n",
       "       'WALMART (UT)_MEXICO', 'ELEKTRA (MEXICO)_MEXICO',\n",
       "       'ENVIOS CON CLABE (APPRIZA)_MEXICO',\n",
       "       'BANPAIS (RED CHAPINA)_HONDURAS', 'KORI_SENEGAL',\n",
       "       'MERCHANTRADE_MALAYSIA', 'NAFA_MALI', 'NAFA_SENEGAL',\n",
       "       'TRANSFERTO - THUNES_GERMANY', 'MERCHANTRADE_BANGLADESH',\n",
       "       \"ZEEPAY_COTE D'IVOIRE (IVORY COAST)\", 'TRANSPAY_SENEGAL',\n",
       "       'TRANSPAY_BURKINA FASO', 'TRANSFERTO - THUNES_ZAMBIA',\n",
       "       'TRANSFERTO - THUNES_BELGIUM',\n",
       "       'BANCO DE CREDITO DEL PERU - BCP (TN)_PERU', 'ARGENPER_BOLIVIA',\n",
       "       'TRANSFERTO - THUNES_IRELAND', 'CAJA POPULAR MEXICANA (UT)_MEXICO',\n",
       "       'BANCO DE OCCIDENTE_HONDURAS', 'PROMERICA_EL SALVADOR',\n",
       "       'TELEDOLAR (TN)_COSTA RICA', 'BANRURAL (HONDURAS)_HONDURAS',\n",
       "       'TRANSFERTO - THUNES_GHANA', 'BBVA URUGUAY (BTS)_URUGUAY',\n",
       "       'SUPER GIROS (BTS)_COLOMBIA', 'KORI_BENIN', '7 ELEVEN (UT)_MEXICO',\n",
       "       'TRANSFERTO - THUNES_NETHERLANDS', 'MERCHANTRADE_THAILAND',\n",
       "       'TRANSFERTO - THUNES_RWANDA', 'TRANSFERTO - THUNES_UNITED KINGDOM',\n",
       "       'TRANSFERTO - THUNES_CAMBODIA', 'BANCOPPEL (BTS)_MEXICO',\n",
       "       'MSBB MONEY_BRAZIL', 'MERCHANTRADE_NEPAL',\n",
       "       'DIRECT DEPOSIT (BTS)_MEXICO', 'TRANSFERTO - THUNES_KENYA',\n",
       "       'MUTHOOT_INDIA', 'TRANSPAY_SRI LANKA', 'BNB_LIBERIA', 'BNB_GHANA',\n",
       "       'BANPRO_NICARAGUA',\n",
       "       'DEPOSITOS BANCARIOS GUATEMALA - ACH_GUATEMALA', 'AFEX_URUGUAY',\n",
       "       'JMMB_JAMAICA', 'TRANSFER DIRECTO_MEXICO', '24XORO_MEXICO',\n",
       "       'BANCO PICHINCHA (TN)_ECUADOR', 'TRANSFERTO - THUNES_SWITZERLAND',\n",
       "       'TRANSFERTO - THUNES_INDONESIA', 'MERCHANTRADE_SRI LANKA',\n",
       "       'TRANSFERTO - THUNES_TANZANIA',\n",
       "       \"TRANSPAY_COTE D'IVOIRE (IVORY COAST)\",\n",
       "       'TRANSFERTO - THUNES_BANGLADESH', 'TELEDOLAR-NIC_NICARAGUA',\n",
       "       'PING EXPRESS_NIGERIA', 'BNB_GUINEA',\n",
       "       'TRANSFERTO - THUNES_SENEGAL', 'TRANSFERTO - THUNES_UGANDA',\n",
       "       'KORI_TOGO', 'TRANSFERTO - THUNES_QATAR', 'BNB_SENEGAL',\n",
       "       'DEL SOL (UT)_MEXICO', 'CAJA POPULAR LAS HUASTECAS (UT)_MEXICO',\n",
       "       'TIGO MONEY_GUATEMALA', 'NAFA_CAMEROON',\n",
       "       'VIAMERICAS USA DEPOSITS (RT)_UNITED STATES',\n",
       "       'TRANSFERTO - THUNES_NORWAY', 'ELEKTRA - MEX (BTS)_MEXICO',\n",
       "       'LIBERTAD (APPRIZA)_MEXICO', 'CHEDRAUI (INPAMEX)_MEXICO',\n",
       "       'TRANSFERTO - THUNES_GREECE', 'TRANSFERTO - THUNES_AUSTRIA',\n",
       "       \"KORI_COTE D'IVOIRE (IVORY COAST)\", 'SEARS (APPRIZA)_MEXICO',\n",
       "       'MFS AFRICA_LIBERIA',\n",
       "       'BANCO INDUSTRIAL GT ATM (RED CHAPINA)_GUATEMALA',\n",
       "       'TRANSFERTO - THUNES_FIJI', 'TRANSFERTO - THUNES_TURKEY',\n",
       "       'TRANSPAY_ETHIOPIA', 'TRANSFERTO - THUNES_LUXEMBOURG',\n",
       "       'TRANSFERTO - THUNES_ZIMBABWE', 'TRANSPAY_FRANCE',\n",
       "       'TRANSPAY_INDIA', 'SANBORNS (APPRIZA)_MEXICO',\n",
       "       'TRANSFERTO - THUNES_FINLAND', 'TRANSFERTO - THUNES_ROMANIA',\n",
       "       'TRANSFERTO - THUNES_THAILAND', 'KORI_CHAD', 'KORI_GABON',\n",
       "       'TRANSFERTO - THUNES_CZECH REPUBLIC',\n",
       "       'INPAGUA - INSTANT PAY DE GUATEMALA_GUATEMALA', 'NAFA_GHANA',\n",
       "       'NAFA_SIERRA LEONE', 'KORI_CAMEROON', 'CASHWAY_NEPAL',\n",
       "       'RED CHAPINA ANYWHERE_GUATEMALA', 'TRANSFERTO - THUNES_SINGAPORE',\n",
       "       'NAIRAGRAM_KENYA', 'MFS AFRICA_GHANA', 'OLD- TIGO MONEY_GUATEMALA',\n",
       "       'TRANSFERTO - THUNES_BURKINA FASO', 'TRANSFERTO - THUNES_MALAYSIA',\n",
       "       'ATLANTIDA (ELS) (UT)_EL SALVADOR', 'BNB_GAMBIA, THE',\n",
       "       'TRANSFERTO - THUNES_PAKISTAN', 'MFS AFRICA_SENEGAL',\n",
       "       'TRANSPAY_MALAYSIA', 'WOOLWORTH (UT)_MEXICO', 'MFS AFRICA_MALI',\n",
       "       'TERRAPAY_FRANCE', 'TRANSFERTO - THUNES_POLAND',\n",
       "       'DEPOSITO MAS RAPIDO (REQUIERE ID BENEF)_DOMINICAN REPUBLIC'],\n",
       "      dtype=object)"
      ]
     },
     "execution_count": 17,
     "metadata": {},
     "output_type": "execute_result"
    }
   ],
   "source": [
    "##PAYERS \"EXPIRED ORDERS\" ARE EXCLUDED, DEFINE THEIR TREATMENT##\n",
    "df.payer_country.unique()"
   ]
  },
  {
   "cell_type": "code",
   "execution_count": 226,
   "id": "274175a9-9899-46da-9ffe-b8475f77ab4a",
   "metadata": {},
   "outputs": [],
   "source": [
    "##WE OBTAIN, AGE, ACTIVE TIME, INACTIVE TIME, AMOUNT TRADED AND TRANSACTIONS PER PAYER (JANUARY 2021-OCTOBER 2023)##"
   ]
  },
  {
   "cell_type": "code",
   "execution_count": 18,
   "id": "b091e48e-109e-4460-84c3-2083d4fcb269",
   "metadata": {
    "tags": []
   },
   "outputs": [
    {
     "name": "stdout",
     "output_type": "stream",
     "text": [
      "                      payer_country first_date  last_date  total_amount  \\\n",
      "76          ELEKTRA (MEXICO)_MEXICO 2020-12-31 2023-10-21  6.397947e+09   \n",
      "34       BANCOPPEL (APPRIZA)_MEXICO 2021-06-05 2023-10-21  3.345583e+09   \n",
      "42         BANRURAL (RYT)_GUATEMALA 2020-12-31 2023-10-21  2.928455e+09   \n",
      "29       BANCO INDUSTRIAL_GUATEMALA 2020-12-31 2023-10-21  2.286921e+09   \n",
      "45     BBVA - BANCOMER (BTS)_MEXICO 2020-12-31 2023-10-21  6.632710e+08   \n",
      "..                              ...        ...        ...           ...   \n",
      "120                MFS AFRICA_GHANA 2023-06-19 2023-06-19  5.000000e+00   \n",
      "147  RED CHAPINA ANYWHERE_GUATEMALA 2023-08-23 2023-08-23  2.000000e+00   \n",
      "225           WOOLWORTH (UT)_MEXICO 2023-09-15 2023-09-15  1.000000e+00   \n",
      "139                 NAIRAGRAM_KENYA 2023-07-13 2023-07-13  1.000000e+00   \n",
      "213               TRANSPAY_MALAYSIA 2023-10-02 2023-10-02  1.000000e+00   \n",
      "\n",
      "     total_transactions  age_payer  active_time  inactive_time  \n",
      "76             14707864      34.13        34.13           0.00  \n",
      "34              7338904      28.93        28.93           0.00  \n",
      "42              7086075      34.13        34.13           0.00  \n",
      "29              4501523      34.13        34.13           0.00  \n",
      "45              1560906      34.13        34.13           0.00  \n",
      "..                  ...        ...          ...            ...  \n",
      "120                   1       4.13         0.00           4.13  \n",
      "147                   2       1.97         0.00           1.97  \n",
      "225                   1       1.20         0.00           1.20  \n",
      "139                   1       3.33         0.00           3.33  \n",
      "213                   1       0.63         0.00           0.63  \n",
      "\n",
      "[231 rows x 8 columns]\n"
     ]
    }
   ],
   "source": [
    "# Convert the 'date' column to datetime format\n",
    "df['date'] = pd.to_datetime(df['date'])\n",
    "\n",
    "# Find the first and last date per 'payer_country' and calculate total_amount and count\n",
    "result = (\n",
    "    df.groupby('payer_country')\n",
    "    .agg(\n",
    "        first_date=('date', 'min'),\n",
    "        last_date=('date', 'max'),\n",
    "        total_amount=('amount', 'sum'),\n",
    "        total_transactions=('count', 'sum')  # Add this line for total_transactions\n",
    "    )\n",
    "    .reset_index()\n",
    ")\n",
    "\n",
    "# Calculate the 'age_payer' variable accurately\n",
    "result['age_payer'] = ((pd.to_datetime('2023-10-21') - result['first_date']).dt.days / 30).round(2)\n",
    "\n",
    "# Calculate the 'active_payer' variable\n",
    "result['active_time'] = ((result['last_date'] - result['first_date']).dt.days / 30).round(2)\n",
    "\n",
    "# Calculate the 'inactive' variable\n",
    "result['inactive_time'] = ((pd.to_datetime('2023-10-21') - result['last_date']).dt.days / 30).round(2)\n",
    "\n",
    "# Sort the final DataFrame by 'total_amount' from highest to lowest\n",
    "result = result.sort_values(by='total_amount', ascending=False)\n",
    "\n",
    "# Display the result\n",
    "pd.set_option('display.max_columns', None)\n",
    "print(result)"
   ]
  },
  {
   "cell_type": "code",
   "execution_count": null,
   "id": "1e093553-abb4-4e78-9fed-dcf4aec9af36",
   "metadata": {},
   "outputs": [],
   "source": []
  },
  {
   "cell_type": "code",
   "execution_count": 390,
   "id": "3bcb400c-1e44-41ba-be4f-50e87fcf73a4",
   "metadata": {
    "tags": []
   },
   "outputs": [],
   "source": [
    "###TABULATION OF PAYERS BY AGE##\n",
    "##NOTAR QUE AQUI INCLUSO PUEDE HABER PAYERS NO ACTIVOS A HOY##"
   ]
  },
  {
   "cell_type": "code",
   "execution_count": 19,
   "id": "e95b439d-d571-426d-97d3-6a808b6d741b",
   "metadata": {
    "tags": []
   },
   "outputs": [
    {
     "name": "stderr",
     "output_type": "stream",
     "text": [
      "/tmp/ipykernel_1973/3446246293.py:8: FutureWarning: The default of observed=False is deprecated and will be changed to True in a future version of pandas. Pass observed=False to retain current behavior or observed=True to adopt the future default and silence this warning.\n",
      "  grouped_data = result.groupby('age_group')['payer_country'].count()\n"
     ]
    },
    {
     "data": {
      "image/png": "[encoded data removed]",
      "text/plain": [
       "<Figure size 640x480 with 1 Axes>"
      ]
     },
     "metadata": {},
     "output_type": "display_data"
    }
   ],
   "source": [
    "# Define the boundaries of age groups\n",
    "bins = [0, 3, 6, 12, float('inf')]\n",
    "\n",
    "# Create a new column 'age_group' in the result DataFrame\n",
    "result['age_group'] = pd.cut(result['age_payer'], bins, labels=['0-3 months', '3-6 months', '6-12 months', '12+ months'])\n",
    "\n",
    "# Group by 'age_group' and count the number of 'payer_country' in each group\n",
    "grouped_data = result.groupby('age_group')['payer_country'].count()\n",
    "\n",
    "# Create the bar plot\n",
    "fig, ax = plt.subplots()\n",
    "bars = grouped_data.plot(kind='bar', ax=ax)\n",
    "\n",
    "# Display the count values on top of each bar\n",
    "for bar in bars.patches:\n",
    "    yval = bar.get_height()\n",
    "    xval = bar.get_x() + bar.get_width() / 2\n",
    "    ax.text(xval, yval + 0.1, int(yval), ha='center', va='bottom')\n",
    "\n",
    "# Labeling and title of the plot\n",
    "plt.xlabel('Age Group')\n",
    "plt.ylabel('Number of Payers')\n",
    "plt.title('Distribution of Payers by Age Group')\n",
    "\n",
    "# Show the plot\n",
    "plt.show()"
   ]
  },
  {
   "cell_type": "code",
   "execution_count": null,
   "id": "9205b15b-e0ec-42f3-bb4e-df7f61c0c5a5",
   "metadata": {},
   "outputs": [],
   "source": [
    "##TABULATION OF PAYERS BY LENGTH OF TIME IN OPERATION##"
   ]
  },
  {
   "cell_type": "code",
   "execution_count": 20,
   "id": "8c292928-3e61-4b18-97d8-00210dde46a8",
   "metadata": {
    "tags": []
   },
   "outputs": [
    {
     "name": "stderr",
     "output_type": "stream",
     "text": [
      "/tmp/ipykernel_1973/1589590665.py:8: FutureWarning: The default of observed=False is deprecated and will be changed to True in a future version of pandas. Pass observed=False to retain current behavior or observed=True to adopt the future default and silence this warning.\n",
      "  grouped_data = result.groupby('active_time_group')['payer_country'].count()\n"
     ]
    },
    {
     "data": {
      "image/png": "[encoded data removed]",
      "text/plain": [
       "<Figure size 640x480 with 1 Axes>"
      ]
     },
     "metadata": {},
     "output_type": "display_data"
    }
   ],
   "source": [
    "# Define the boundaries of age groups\n",
    "bins = [0, 3, 6, 12, float('inf')]\n",
    "\n",
    "# Create a new column 'age_group' in the result DataFrame\n",
    "result['active_time_group'] = pd.cut(result['active_time'], bins, labels=['0-3 months', '3-6 months', '6-12 months', '12+ months'])\n",
    "\n",
    "# Group by 'age_group' and count the number of 'payer_country' in each group\n",
    "grouped_data = result.groupby('active_time_group')['payer_country'].count()\n",
    "\n",
    "# Create the bar plot\n",
    "fig, ax = plt.subplots()\n",
    "bars = grouped_data.plot(kind='bar', ax=ax)\n",
    "\n",
    "# Display the count values on top of each bar\n",
    "for bar in bars.patches:\n",
    "    yval = bar.get_height()\n",
    "    xval = bar.get_x() + bar.get_width() / 2\n",
    "    ax.text(xval, yval + 0.1, int(yval), ha='center', va='bottom')\n",
    "\n",
    "# Labeling and title of the plot\n",
    "plt.xlabel('Active Time Group')\n",
    "plt.ylabel('Number of Payer')\n",
    "plt.title('Distribution of Payer by Active Time Group')\n",
    "\n",
    "# Show the plot\n",
    "plt.show()"
   ]
  },
  {
   "cell_type": "code",
   "execution_count": 37,
   "id": "85c2e553-6707-488f-a1e2-0234fa662566",
   "metadata": {
    "tags": []
   },
   "outputs": [
    {
     "data": {
      "text/plain": [
       "active_time_group\n",
       "12+ months     139\n",
       "6-12 months     27\n",
       "0-3 months      22\n",
       "3-6 months      19\n",
       "Name: count, dtype: int64"
      ]
     },
     "execution_count": 37,
     "metadata": {},
     "output_type": "execute_result"
    }
   ],
   "source": [
    "result.active_time_group.value_counts()"
   ]
  },
  {
   "cell_type": "code",
   "execution_count": 38,
   "id": "2c897746-4498-43b2-871f-d78a59efa2c2",
   "metadata": {
    "tags": []
   },
   "outputs": [
    {
     "name": "stdout",
     "output_type": "stream",
     "text": [
      "<class 'pandas.core.frame.DataFrame'>\n",
      "Index: 231 entries, 76 to 213\n",
      "Data columns (total 11 columns):\n",
      " #   Column               Non-Null Count  Dtype         \n",
      "---  ------               --------------  -----         \n",
      " 0   payer_country        231 non-null    object        \n",
      " 1   first_date           231 non-null    datetime64[ns]\n",
      " 2   last_date            231 non-null    datetime64[ns]\n",
      " 3   total_amount         231 non-null    float64       \n",
      " 4   total_transactions   231 non-null    int64         \n",
      " 5   age_payer            231 non-null    float64       \n",
      " 6   active_time          231 non-null    float64       \n",
      " 7   inactive_time        231 non-null    float64       \n",
      " 8   age_group            230 non-null    category      \n",
      " 9   active_time_group    207 non-null    category      \n",
      " 10  inactive_time_group  118 non-null    category      \n",
      "dtypes: category(3), datetime64[ns](2), float64(4), int64(1), object(1)\n",
      "memory usage: 17.5+ KB\n"
     ]
    }
   ],
   "source": [
    "result.info()"
   ]
  },
  {
   "cell_type": "code",
   "execution_count": 39,
   "id": "11a4986f-a912-45c9-b66b-96d404413b74",
   "metadata": {
    "tags": []
   },
   "outputs": [
    {
     "data": {
      "text/html": [
       "<div>\n",
       "<style scoped>\n",
       "    .dataframe tbody tr th:only-of-type {\n",
       "        vertical-align: middle;\n",
       "    }\n",
       "\n",
       "    .dataframe tbody tr th {\n",
       "        vertical-align: top;\n",
       "    }\n",
       "\n",
       "    .dataframe thead th {\n",
       "        text-align: right;\n",
       "    }\n",
       "</style>\n",
       "<table border=\"1\" class=\"dataframe\">\n",
       "  <thead>\n",
       "    <tr style=\"text-align: right;\">\n",
       "      <th></th>\n",
       "      <th>payer_country</th>\n",
       "      <th>first_date</th>\n",
       "      <th>last_date</th>\n",
       "      <th>total_amount</th>\n",
       "      <th>total_transactions</th>\n",
       "      <th>age_payer</th>\n",
       "      <th>active_time</th>\n",
       "      <th>inactive_time</th>\n",
       "      <th>age_group</th>\n",
       "      <th>active_time_group</th>\n",
       "      <th>inactive_time_group</th>\n",
       "    </tr>\n",
       "  </thead>\n",
       "  <tbody>\n",
       "    <tr>\n",
       "      <th>120</th>\n",
       "      <td>MFS AFRICA_GHANA</td>\n",
       "      <td>2023-06-19</td>\n",
       "      <td>2023-06-19</td>\n",
       "      <td>5.0</td>\n",
       "      <td>1</td>\n",
       "      <td>4.13</td>\n",
       "      <td>0.0</td>\n",
       "      <td>4.13</td>\n",
       "      <td>3-6 months</td>\n",
       "      <td>NaN</td>\n",
       "      <td>3-6 months</td>\n",
       "    </tr>\n",
       "    <tr>\n",
       "      <th>147</th>\n",
       "      <td>RED CHAPINA ANYWHERE_GUATEMALA</td>\n",
       "      <td>2023-08-23</td>\n",
       "      <td>2023-08-23</td>\n",
       "      <td>2.0</td>\n",
       "      <td>2</td>\n",
       "      <td>1.97</td>\n",
       "      <td>0.0</td>\n",
       "      <td>1.97</td>\n",
       "      <td>0-3 months</td>\n",
       "      <td>NaN</td>\n",
       "      <td>0-3 months</td>\n",
       "    </tr>\n",
       "    <tr>\n",
       "      <th>225</th>\n",
       "      <td>WOOLWORTH (UT)_MEXICO</td>\n",
       "      <td>2023-09-15</td>\n",
       "      <td>2023-09-15</td>\n",
       "      <td>1.0</td>\n",
       "      <td>1</td>\n",
       "      <td>1.20</td>\n",
       "      <td>0.0</td>\n",
       "      <td>1.20</td>\n",
       "      <td>0-3 months</td>\n",
       "      <td>NaN</td>\n",
       "      <td>0-3 months</td>\n",
       "    </tr>\n",
       "    <tr>\n",
       "      <th>139</th>\n",
       "      <td>NAIRAGRAM_KENYA</td>\n",
       "      <td>2023-07-13</td>\n",
       "      <td>2023-07-13</td>\n",
       "      <td>1.0</td>\n",
       "      <td>1</td>\n",
       "      <td>3.33</td>\n",
       "      <td>0.0</td>\n",
       "      <td>3.33</td>\n",
       "      <td>3-6 months</td>\n",
       "      <td>NaN</td>\n",
       "      <td>3-6 months</td>\n",
       "    </tr>\n",
       "    <tr>\n",
       "      <th>213</th>\n",
       "      <td>TRANSPAY_MALAYSIA</td>\n",
       "      <td>2023-10-02</td>\n",
       "      <td>2023-10-02</td>\n",
       "      <td>1.0</td>\n",
       "      <td>1</td>\n",
       "      <td>0.63</td>\n",
       "      <td>0.0</td>\n",
       "      <td>0.63</td>\n",
       "      <td>0-3 months</td>\n",
       "      <td>NaN</td>\n",
       "      <td>0-3 months</td>\n",
       "    </tr>\n",
       "  </tbody>\n",
       "</table>\n",
       "</div>"
      ],
      "text/plain": [
       "                      payer_country first_date  last_date  total_amount  \\\n",
       "120                MFS AFRICA_GHANA 2023-06-19 2023-06-19           5.0   \n",
       "147  RED CHAPINA ANYWHERE_GUATEMALA 2023-08-23 2023-08-23           2.0   \n",
       "225           WOOLWORTH (UT)_MEXICO 2023-09-15 2023-09-15           1.0   \n",
       "139                 NAIRAGRAM_KENYA 2023-07-13 2023-07-13           1.0   \n",
       "213               TRANSPAY_MALAYSIA 2023-10-02 2023-10-02           1.0   \n",
       "\n",
       "     total_transactions  age_payer  active_time  inactive_time   age_group  \\\n",
       "120                   1       4.13          0.0           4.13  3-6 months   \n",
       "147                   2       1.97          0.0           1.97  0-3 months   \n",
       "225                   1       1.20          0.0           1.20  0-3 months   \n",
       "139                   1       3.33          0.0           3.33  3-6 months   \n",
       "213                   1       0.63          0.0           0.63  0-3 months   \n",
       "\n",
       "    active_time_group inactive_time_group  \n",
       "120               NaN          3-6 months  \n",
       "147               NaN          0-3 months  \n",
       "225               NaN          0-3 months  \n",
       "139               NaN          3-6 months  \n",
       "213               NaN          0-3 months  "
      ]
     },
     "execution_count": 39,
     "metadata": {},
     "output_type": "execute_result"
    }
   ],
   "source": [
    "result.tail()"
   ]
  },
  {
   "cell_type": "code",
   "execution_count": 40,
   "id": "b072f319-ed52-45f7-915c-c2c3b40bb0a5",
   "metadata": {
    "tags": []
   },
   "outputs": [
    {
     "data": {
      "text/html": [
       "<div>\n",
       "<style scoped>\n",
       "    .dataframe tbody tr th:only-of-type {\n",
       "        vertical-align: middle;\n",
       "    }\n",
       "\n",
       "    .dataframe tbody tr th {\n",
       "        vertical-align: top;\n",
       "    }\n",
       "\n",
       "    .dataframe thead th {\n",
       "        text-align: right;\n",
       "    }\n",
       "</style>\n",
       "<table border=\"1\" class=\"dataframe\">\n",
       "  <thead>\n",
       "    <tr style=\"text-align: right;\">\n",
       "      <th></th>\n",
       "      <th>payer_country</th>\n",
       "      <th>first_date</th>\n",
       "      <th>last_date</th>\n",
       "      <th>total_amount</th>\n",
       "      <th>total_transactions</th>\n",
       "      <th>age_payer</th>\n",
       "      <th>active_time</th>\n",
       "      <th>inactive_time</th>\n",
       "      <th>age_group</th>\n",
       "      <th>active_time_group</th>\n",
       "      <th>inactive_time_group</th>\n",
       "    </tr>\n",
       "  </thead>\n",
       "  <tbody>\n",
       "    <tr>\n",
       "      <th>56</th>\n",
       "      <td>CASHWAY_NEPAL</td>\n",
       "      <td>2023-04-22</td>\n",
       "      <td>2023-04-22</td>\n",
       "      <td>2311.00</td>\n",
       "      <td>1</td>\n",
       "      <td>6.07</td>\n",
       "      <td>0.0</td>\n",
       "      <td>6.07</td>\n",
       "      <td>6-12 months</td>\n",
       "      <td>NaN</td>\n",
       "      <td>6-12 months</td>\n",
       "    </tr>\n",
       "    <tr>\n",
       "      <th>137</th>\n",
       "      <td>NAFA_SIERRA LEONE</td>\n",
       "      <td>2022-07-02</td>\n",
       "      <td>2022-07-02</td>\n",
       "      <td>1000.00</td>\n",
       "      <td>1</td>\n",
       "      <td>15.87</td>\n",
       "      <td>0.0</td>\n",
       "      <td>15.87</td>\n",
       "      <td>12+ months</td>\n",
       "      <td>NaN</td>\n",
       "      <td>12+ months</td>\n",
       "    </tr>\n",
       "    <tr>\n",
       "      <th>175</th>\n",
       "      <td>TRANSFERTO - THUNES_GREECE</td>\n",
       "      <td>2022-06-07</td>\n",
       "      <td>2022-06-07</td>\n",
       "      <td>980.00</td>\n",
       "      <td>1</td>\n",
       "      <td>16.70</td>\n",
       "      <td>0.0</td>\n",
       "      <td>16.70</td>\n",
       "      <td>12+ months</td>\n",
       "      <td>NaN</td>\n",
       "      <td>12+ months</td>\n",
       "    </tr>\n",
       "    <tr>\n",
       "      <th>92</th>\n",
       "      <td>INPAGUA - INSTANT PAY DE GUATEMALA_GUATEMALA</td>\n",
       "      <td>2021-06-15</td>\n",
       "      <td>2021-06-15</td>\n",
       "      <td>700.00</td>\n",
       "      <td>1</td>\n",
       "      <td>28.60</td>\n",
       "      <td>0.0</td>\n",
       "      <td>28.60</td>\n",
       "      <td>12+ months</td>\n",
       "      <td>NaN</td>\n",
       "      <td>12+ months</td>\n",
       "    </tr>\n",
       "    <tr>\n",
       "      <th>216</th>\n",
       "      <td>TRANSPAY_THAILAND</td>\n",
       "      <td>2023-10-21</td>\n",
       "      <td>2023-10-21</td>\n",
       "      <td>500.00</td>\n",
       "      <td>1</td>\n",
       "      <td>0.00</td>\n",
       "      <td>0.0</td>\n",
       "      <td>0.00</td>\n",
       "      <td>NaN</td>\n",
       "      <td>NaN</td>\n",
       "      <td>NaN</td>\n",
       "    </tr>\n",
       "    <tr>\n",
       "      <th>188</th>\n",
       "      <td>TRANSFERTO - THUNES_POLAND</td>\n",
       "      <td>2023-09-08</td>\n",
       "      <td>2023-09-08</td>\n",
       "      <td>200.00</td>\n",
       "      <td>1</td>\n",
       "      <td>1.43</td>\n",
       "      <td>0.0</td>\n",
       "      <td>1.43</td>\n",
       "      <td>0-3 months</td>\n",
       "      <td>NaN</td>\n",
       "      <td>0-3 months</td>\n",
       "    </tr>\n",
       "    <tr>\n",
       "      <th>186</th>\n",
       "      <td>TRANSFERTO - THUNES_NORWAY</td>\n",
       "      <td>2023-09-06</td>\n",
       "      <td>2023-09-06</td>\n",
       "      <td>110.51</td>\n",
       "      <td>1</td>\n",
       "      <td>1.50</td>\n",
       "      <td>0.0</td>\n",
       "      <td>1.50</td>\n",
       "      <td>0-3 months</td>\n",
       "      <td>NaN</td>\n",
       "      <td>0-3 months</td>\n",
       "    </tr>\n",
       "    <tr>\n",
       "      <th>203</th>\n",
       "      <td>TRANSFERTO - THUNES_ZIMBABWE</td>\n",
       "      <td>2023-04-26</td>\n",
       "      <td>2023-04-26</td>\n",
       "      <td>100.00</td>\n",
       "      <td>1</td>\n",
       "      <td>5.93</td>\n",
       "      <td>0.0</td>\n",
       "      <td>5.93</td>\n",
       "      <td>3-6 months</td>\n",
       "      <td>NaN</td>\n",
       "      <td>3-6 months</td>\n",
       "    </tr>\n",
       "    <tr>\n",
       "      <th>141</th>\n",
       "      <td>OLD- TIGO MONEY_GUATEMALA</td>\n",
       "      <td>2021-04-11</td>\n",
       "      <td>2021-04-11</td>\n",
       "      <td>35.00</td>\n",
       "      <td>1</td>\n",
       "      <td>30.77</td>\n",
       "      <td>0.0</td>\n",
       "      <td>30.77</td>\n",
       "      <td>12+ months</td>\n",
       "      <td>NaN</td>\n",
       "      <td>12+ months</td>\n",
       "    </tr>\n",
       "    <tr>\n",
       "      <th>215</th>\n",
       "      <td>TRANSPAY_SRI LANKA</td>\n",
       "      <td>2022-11-24</td>\n",
       "      <td>2022-11-24</td>\n",
       "      <td>30.00</td>\n",
       "      <td>1</td>\n",
       "      <td>11.03</td>\n",
       "      <td>0.0</td>\n",
       "      <td>11.03</td>\n",
       "      <td>6-12 months</td>\n",
       "      <td>NaN</td>\n",
       "      <td>6-12 months</td>\n",
       "    </tr>\n",
       "    <tr>\n",
       "      <th>122</th>\n",
       "      <td>MFS AFRICA_MALI</td>\n",
       "      <td>2023-09-18</td>\n",
       "      <td>2023-09-18</td>\n",
       "      <td>25.00</td>\n",
       "      <td>1</td>\n",
       "      <td>1.10</td>\n",
       "      <td>0.0</td>\n",
       "      <td>1.10</td>\n",
       "      <td>0-3 months</td>\n",
       "      <td>NaN</td>\n",
       "      <td>0-3 months</td>\n",
       "    </tr>\n",
       "    <tr>\n",
       "      <th>69</th>\n",
       "      <td>DEPOSITO MAS RAPIDO (REQUIERE ID BENEF)_DOMINI...</td>\n",
       "      <td>2023-08-11</td>\n",
       "      <td>2023-08-11</td>\n",
       "      <td>25.00</td>\n",
       "      <td>5</td>\n",
       "      <td>2.37</td>\n",
       "      <td>0.0</td>\n",
       "      <td>2.37</td>\n",
       "      <td>0-3 months</td>\n",
       "      <td>NaN</td>\n",
       "      <td>0-3 months</td>\n",
       "    </tr>\n",
       "    <tr>\n",
       "      <th>121</th>\n",
       "      <td>MFS AFRICA_LIBERIA</td>\n",
       "      <td>2023-08-30</td>\n",
       "      <td>2023-08-30</td>\n",
       "      <td>25.00</td>\n",
       "      <td>1</td>\n",
       "      <td>1.73</td>\n",
       "      <td>0.0</td>\n",
       "      <td>1.73</td>\n",
       "      <td>0-3 months</td>\n",
       "      <td>NaN</td>\n",
       "      <td>0-3 months</td>\n",
       "    </tr>\n",
       "    <tr>\n",
       "      <th>194</th>\n",
       "      <td>TRANSFERTO - THUNES_SINGAPORE</td>\n",
       "      <td>2023-08-23</td>\n",
       "      <td>2023-08-23</td>\n",
       "      <td>5.00</td>\n",
       "      <td>1</td>\n",
       "      <td>1.97</td>\n",
       "      <td>0.0</td>\n",
       "      <td>1.97</td>\n",
       "      <td>0-3 months</td>\n",
       "      <td>NaN</td>\n",
       "      <td>0-3 months</td>\n",
       "    </tr>\n",
       "  </tbody>\n",
       "</table>\n",
       "</div>"
      ],
      "text/plain": [
       "                                         payer_country first_date  last_date  \\\n",
       "56                                       CASHWAY_NEPAL 2023-04-22 2023-04-22   \n",
       "137                                  NAFA_SIERRA LEONE 2022-07-02 2022-07-02   \n",
       "175                         TRANSFERTO - THUNES_GREECE 2022-06-07 2022-06-07   \n",
       "92        INPAGUA - INSTANT PAY DE GUATEMALA_GUATEMALA 2021-06-15 2021-06-15   \n",
       "216                                  TRANSPAY_THAILAND 2023-10-21 2023-10-21   \n",
       "188                         TRANSFERTO - THUNES_POLAND 2023-09-08 2023-09-08   \n",
       "186                         TRANSFERTO - THUNES_NORWAY 2023-09-06 2023-09-06   \n",
       "203                       TRANSFERTO - THUNES_ZIMBABWE 2023-04-26 2023-04-26   \n",
       "141                          OLD- TIGO MONEY_GUATEMALA 2021-04-11 2021-04-11   \n",
       "215                                 TRANSPAY_SRI LANKA 2022-11-24 2022-11-24   \n",
       "122                                    MFS AFRICA_MALI 2023-09-18 2023-09-18   \n",
       "69   DEPOSITO MAS RAPIDO (REQUIERE ID BENEF)_DOMINI... 2023-08-11 2023-08-11   \n",
       "121                                 MFS AFRICA_LIBERIA 2023-08-30 2023-08-30   \n",
       "194                      TRANSFERTO - THUNES_SINGAPORE 2023-08-23 2023-08-23   \n",
       "\n",
       "     total_amount  total_transactions  age_payer  active_time  inactive_time  \\\n",
       "56        2311.00                   1       6.07          0.0           6.07   \n",
       "137       1000.00                   1      15.87          0.0          15.87   \n",
       "175        980.00                   1      16.70          0.0          16.70   \n",
       "92         700.00                   1      28.60          0.0          28.60   \n",
       "216        500.00                   1       0.00          0.0           0.00   \n",
       "188        200.00                   1       1.43          0.0           1.43   \n",
       "186        110.51                   1       1.50          0.0           1.50   \n",
       "203        100.00                   1       5.93          0.0           5.93   \n",
       "141         35.00                   1      30.77          0.0          30.77   \n",
       "215         30.00                   1      11.03          0.0          11.03   \n",
       "122         25.00                   1       1.10          0.0           1.10   \n",
       "69          25.00                   5       2.37          0.0           2.37   \n",
       "121         25.00                   1       1.73          0.0           1.73   \n",
       "194          5.00                   1       1.97          0.0           1.97   \n",
       "\n",
       "       age_group active_time_group inactive_time_group  \n",
       "56   6-12 months               NaN         6-12 months  \n",
       "137   12+ months               NaN          12+ months  \n",
       "175   12+ months               NaN          12+ months  \n",
       "92    12+ months               NaN          12+ months  \n",
       "216          NaN               NaN                 NaN  \n",
       "188   0-3 months               NaN          0-3 months  \n",
       "186   0-3 months               NaN          0-3 months  \n",
       "203   3-6 months               NaN          3-6 months  \n",
       "141   12+ months               NaN          12+ months  \n",
       "215  6-12 months               NaN         6-12 months  \n",
       "122   0-3 months               NaN          0-3 months  \n",
       "69    0-3 months               NaN          0-3 months  \n",
       "121   0-3 months               NaN          0-3 months  \n",
       "194   0-3 months               NaN          0-3 months  "
      ]
     },
     "execution_count": 40,
     "metadata": {},
     "output_type": "execute_result"
    }
   ],
   "source": [
    "##14 14 PAYERS OPERATED ONLY ONE DAY IN THE LAST 34 MONTHS##\n",
    "##NOTAR QUE ESTOS 14 CASOS NO ESTABAN EN EL GRAFICO DE BARRAS DE ARRIBA (ACTIVE_TIME_GROUP=NaN) Y MONTOS DEL PERIODO MUY BAJOS\n",
    "\n",
    "control=result.loc[result.active_time==0]\n",
    "control.head(14)"
   ]
  },
  {
   "cell_type": "code",
   "execution_count": null,
   "id": "17bfc92b-aab1-49d9-ad0f-05198003cd4e",
   "metadata": {},
   "outputs": [],
   "source": [
    "##TABULATION OF PAYERS BY DOWNTIME##\n",
    "##RECORDAR QUE HAY 114 QUE NUNCA ESTUVIERON INACTIVOS DESDE QUE COMENZARON A OPERAR##"
   ]
  },
  {
   "cell_type": "code",
   "execution_count": 41,
   "id": "b182bea3-daf4-4c64-a04f-d22408cef3a1",
   "metadata": {
    "tags": []
   },
   "outputs": [
    {
     "name": "stderr",
     "output_type": "stream",
     "text": [
      "/tmp/ipykernel_1973/704668288.py:8: FutureWarning: The default of observed=False is deprecated and will be changed to True in a future version of pandas. Pass observed=False to retain current behavior or observed=True to adopt the future default and silence this warning.\n",
      "  grouped_data = result.groupby('inactive_time_group')['payer_country'].count()\n"
     ]
    },
    {
     "data": {
      "image/png": "[encoded data removed]",
      "text/plain": [
       "<Figure size 640x480 with 1 Axes>"
      ]
     },
     "metadata": {},
     "output_type": "display_data"
    }
   ],
   "source": [
    "# Define the boundaries of age groups\n",
    "bins = [0, 3, 6, 12, float('inf')]\n",
    "\n",
    "# Create a new column 'age_group' in the result DataFrame\n",
    "result['inactive_time_group'] = pd.cut(result['inactive_time'], bins, labels=['0-3 months', '3-6 months', '6-12 months', '12+ months'])\n",
    "\n",
    "# Group by 'age_group' and count the number of 'payer_country' in each group\n",
    "grouped_data = result.groupby('inactive_time_group')['payer_country'].count()\n",
    "\n",
    "# Create the bar plot\n",
    "fig, ax = plt.subplots()\n",
    "bars = grouped_data.plot(kind='bar', ax=ax)\n",
    "\n",
    "# Display the count values on top of each bar\n",
    "for bar in bars.patches:\n",
    "    yval = bar.get_height()\n",
    "    xval = bar.get_x() + bar.get_width() / 2\n",
    "    ax.text(xval, yval + 0.1, int(yval), ha='center', va='bottom')\n",
    "\n",
    "# Labeling and title of the plot\n",
    "plt.xlabel('Inactive Time Group')\n",
    "plt.ylabel('Number of Payer Countries')\n",
    "plt.title('Distribution of Payer Countries by Inactive Time Group')\n",
    "\n",
    "# Show the plot\n",
    "plt.show()"
   ]
  },
  {
   "cell_type": "code",
   "execution_count": 42,
   "id": "0b38a0a5-9ca3-472f-a6c1-d76bad0d150d",
   "metadata": {
    "tags": []
   },
   "outputs": [
    {
     "data": {
      "text/plain": [
       "(118, 11)"
      ]
     },
     "execution_count": 42,
     "metadata": {},
     "output_type": "execute_result"
    }
   ],
   "source": [
    "control=result.loc[result.inactive_time>0]\n",
    "control.shape\n",
    "##114+146=260##"
   ]
  },
  {
   "cell_type": "code",
   "execution_count": null,
   "id": "542f8483-b26b-48b4-9576-1aac127a6846",
   "metadata": {},
   "outputs": [],
   "source": [
    "##HOW MANY PAYERS ARE OR WERE 6 MONTHS OLD OR OLDER##\n",
    "##LLEGARON A TENER O TIENEN AL MENOS 6 MESES##"
   ]
  },
  {
   "cell_type": "code",
   "execution_count": 43,
   "id": "7464cfa3-0b91-4ffe-a300-882e57b91750",
   "metadata": {},
   "outputs": [
    {
     "data": {
      "text/plain": [
       "(188, 11)"
      ]
     },
     "execution_count": 43,
     "metadata": {},
     "output_type": "execute_result"
    }
   ],
   "source": [
    "age_payer_6m_or_more= result.loc[result.age_payer>=6]\n",
    "age_payer_6m_or_more.shape"
   ]
  },
  {
   "cell_type": "code",
   "execution_count": 420,
   "id": "e31ba3a7-e307-4fb7-9cd2-155f2cb38b6c",
   "metadata": {},
   "outputs": [],
   "source": [
    "## ALWAYS ACTIVE PAYERS (114)##\n",
    "##NOTAR QUE ESO IMPLICA QUE TIENEN LA MISMA EDAD QUE TIEMPO ACTIVOS Y QUE HASTA 23/10/2023 ESTAN ACTIVOS##"
   ]
  },
  {
   "cell_type": "code",
   "execution_count": 44,
   "id": "58060468-87d4-4d0d-b830-9f8627aa9d54",
   "metadata": {},
   "outputs": [
    {
     "data": {
      "text/plain": [
       "(113, 11)"
      ]
     },
     "execution_count": 44,
     "metadata": {},
     "output_type": "execute_result"
    }
   ],
   "source": [
    "##SAME AGE AS ACTIVE TIME##\n",
    "##RECORDAR QUE LA EDAD SE CALCULA A OCTUBRE 2023, POR LO QUE ESTÁN ACTIVOS A ESA FECHA##\n",
    "##NOTAR QUE 114 SIEMPRE ACTIVAS A HOY  SE LE SUMAN LAS 146 INACTIVAS O QUE SU TIEMPO ACTIVOS ES MENOR A SU EDAD Y LLEGAMOS A LAS 260##\n",
    "always_active_payers=result.loc[(result.age_payer==result.active_time)]\n",
    "always_active_payers.shape"
   ]
  },
  {
   "cell_type": "code",
   "execution_count": 45,
   "id": "a4edf0e0-f7e1-47c1-b767-0e57040fd93e",
   "metadata": {},
   "outputs": [
    {
     "data": {
      "text/plain": [
       "96.50791012846905"
      ]
     },
     "execution_count": 45,
     "metadata": {},
     "output_type": "execute_result"
    }
   ],
   "source": [
    "##WHAT PERCENTAGE OF THE AMOUNT TRADED BETWEEN JANUARY 21 AND OCTOBER 23 ARE \"ALWAYS ON\" PAYERS##\n",
    "##NOTAR QUE ESTOS 114 PAYERS MANEJAN EL 96.5% DE LAS VENTAS DE LOS ULTIMOS 34 MESES##\n",
    "sum(always_active_payers.total_amount) / sum(result.total_amount) * 100"
   ]
  },
  {
   "cell_type": "code",
   "execution_count": null,
   "id": "e35e2297-4600-48ae-a11c-8bcb3c82c33a",
   "metadata": {
    "tags": []
   },
   "outputs": [],
   "source": [
    "##RULE 1: PAYER WITH INACTIVE TIME OF SIX MONTHS OR LESS AND AGE > = 3 MONTHS\n",
    "##REGLA: PAYER CON TIEMPO INACTIVO DE SEIS MESES O MENOS Y CON EDAD > = 3 MESES##"
   ]
  },
  {
   "cell_type": "code",
   "execution_count": 46,
   "id": "4e35e722-2cfa-4599-ada4-94ed5cec4400",
   "metadata": {
    "tags": []
   },
   "outputs": [],
   "source": [
    "control=result.loc[(result.age_payer>=3) & (result.inactive_time<=3)]"
   ]
  },
  {
   "cell_type": "code",
   "execution_count": null,
   "id": "57613088-5f23-4241-90da-fdb1b650cb12",
   "metadata": {},
   "outputs": [],
   "source": [
    "##RULE 2: PAYER WITH TRADED AMOUNT OF AT LEAST 10000 USD"
   ]
  },
  {
   "cell_type": "code",
   "execution_count": 47,
   "id": "f3465d38-31f6-4b4b-82fb-d6a4c82e4e4c",
   "metadata": {
    "tags": []
   },
   "outputs": [],
   "source": [
    "control2=control.loc[control.total_amount>=10000]"
   ]
  },
  {
   "cell_type": "code",
   "execution_count": 48,
   "id": "a935438a-7f79-4773-91b6-a30c3d82cf7e",
   "metadata": {
    "tags": []
   },
   "outputs": [
    {
     "data": {
      "text/plain": [
       "((159, 11), (137, 11))"
      ]
     },
     "execution_count": 48,
     "metadata": {},
     "output_type": "execute_result"
    }
   ],
   "source": [
    "control.shape, control2.shape"
   ]
  },
  {
   "cell_type": "code",
   "execution_count": 49,
   "id": "a097c5dc-34ef-4fed-9cc6-fa76df10eb53",
   "metadata": {
    "tags": []
   },
   "outputs": [
    {
     "data": {
      "text/plain": [
       "0.9681190897149056"
      ]
     },
     "execution_count": 49,
     "metadata": {},
     "output_type": "execute_result"
    }
   ],
   "source": [
    "control.total_amount.sum()/df.amount.sum()"
   ]
  },
  {
   "cell_type": "code",
   "execution_count": 50,
   "id": "9ec75910-7344-4a6c-9b0c-aa51b80069cc",
   "metadata": {
    "tags": []
   },
   "outputs": [],
   "source": [
    "control3=control.loc[control.total_amount<=10000]"
   ]
  },
  {
   "cell_type": "code",
   "execution_count": 51,
   "id": "c62e5b07-b3e4-4ad4-b94b-77c21a8e3c14",
   "metadata": {
    "tags": []
   },
   "outputs": [
    {
     "data": {
      "text/plain": [
       "(22, 11)"
      ]
     },
     "execution_count": 51,
     "metadata": {},
     "output_type": "execute_result"
    }
   ],
   "source": [
    "control3.shape"
   ]
  },
  {
   "cell_type": "code",
   "execution_count": 52,
   "id": "3c8dd90b-4790-43c6-9a03-80c203a18a0e",
   "metadata": {
    "tags": []
   },
   "outputs": [
    {
     "data": {
      "text/html": [
       "<div>\n",
       "<style scoped>\n",
       "    .dataframe tbody tr th:only-of-type {\n",
       "        vertical-align: middle;\n",
       "    }\n",
       "\n",
       "    .dataframe tbody tr th {\n",
       "        vertical-align: top;\n",
       "    }\n",
       "\n",
       "    .dataframe thead th {\n",
       "        text-align: right;\n",
       "    }\n",
       "</style>\n",
       "<table border=\"1\" class=\"dataframe\">\n",
       "  <thead>\n",
       "    <tr style=\"text-align: right;\">\n",
       "      <th></th>\n",
       "      <th>payer_country</th>\n",
       "      <th>first_date</th>\n",
       "      <th>last_date</th>\n",
       "      <th>total_amount</th>\n",
       "      <th>total_transactions</th>\n",
       "      <th>age_payer</th>\n",
       "      <th>active_time</th>\n",
       "      <th>inactive_time</th>\n",
       "      <th>age_group</th>\n",
       "      <th>active_time_group</th>\n",
       "      <th>inactive_time_group</th>\n",
       "    </tr>\n",
       "  </thead>\n",
       "  <tbody>\n",
       "    <tr>\n",
       "      <th>180</th>\n",
       "      <td>TRANSFERTO - THUNES_LITHUANIA</td>\n",
       "      <td>2023-05-28</td>\n",
       "      <td>2023-08-01</td>\n",
       "      <td>8600.00</td>\n",
       "      <td>5</td>\n",
       "      <td>4.87</td>\n",
       "      <td>2.17</td>\n",
       "      <td>2.70</td>\n",
       "      <td>3-6 months</td>\n",
       "      <td>0-3 months</td>\n",
       "      <td>0-3 months</td>\n",
       "    </tr>\n",
       "    <tr>\n",
       "      <th>1</th>\n",
       "      <td>7 ELEVEN (UT)_MEXICO</td>\n",
       "      <td>2020-12-31</td>\n",
       "      <td>2023-10-08</td>\n",
       "      <td>8019.49</td>\n",
       "      <td>175</td>\n",
       "      <td>34.13</td>\n",
       "      <td>33.70</td>\n",
       "      <td>0.43</td>\n",
       "      <td>12+ months</td>\n",
       "      <td>12+ months</td>\n",
       "      <td>0-3 months</td>\n",
       "    </tr>\n",
       "    <tr>\n",
       "      <th>184</th>\n",
       "      <td>TRANSFERTO - THUNES_NETHERLANDS</td>\n",
       "      <td>2022-09-15</td>\n",
       "      <td>2023-09-30</td>\n",
       "      <td>7909.47</td>\n",
       "      <td>8</td>\n",
       "      <td>13.37</td>\n",
       "      <td>12.67</td>\n",
       "      <td>0.70</td>\n",
       "      <td>12+ months</td>\n",
       "      <td>12+ months</td>\n",
       "      <td>0-3 months</td>\n",
       "    </tr>\n",
       "    <tr>\n",
       "      <th>177</th>\n",
       "      <td>TRANSFERTO - THUNES_IRELAND</td>\n",
       "      <td>2022-09-17</td>\n",
       "      <td>2023-10-11</td>\n",
       "      <td>7397.04</td>\n",
       "      <td>12</td>\n",
       "      <td>13.30</td>\n",
       "      <td>12.97</td>\n",
       "      <td>0.33</td>\n",
       "      <td>12+ months</td>\n",
       "      <td>12+ months</td>\n",
       "      <td>0-3 months</td>\n",
       "    </tr>\n",
       "    <tr>\n",
       "      <th>51</th>\n",
       "      <td>BNB_SENEGAL</td>\n",
       "      <td>2023-04-14</td>\n",
       "      <td>2023-10-21</td>\n",
       "      <td>6222.33</td>\n",
       "      <td>44</td>\n",
       "      <td>6.33</td>\n",
       "      <td>6.33</td>\n",
       "      <td>0.00</td>\n",
       "      <td>6-12 months</td>\n",
       "      <td>6-12 months</td>\n",
       "      <td>NaN</td>\n",
       "    </tr>\n",
       "    <tr>\n",
       "      <th>129</th>\n",
       "      <td>NAFA_CAMEROON</td>\n",
       "      <td>2022-11-30</td>\n",
       "      <td>2023-09-19</td>\n",
       "      <td>5386.49</td>\n",
       "      <td>6</td>\n",
       "      <td>10.83</td>\n",
       "      <td>9.77</td>\n",
       "      <td>1.07</td>\n",
       "      <td>6-12 months</td>\n",
       "      <td>6-12 months</td>\n",
       "      <td>0-3 months</td>\n",
       "    </tr>\n",
       "    <tr>\n",
       "      <th>196</th>\n",
       "      <td>TRANSFERTO - THUNES_SWITZERLAND</td>\n",
       "      <td>2022-06-16</td>\n",
       "      <td>2023-10-03</td>\n",
       "      <td>4932.60</td>\n",
       "      <td>31</td>\n",
       "      <td>16.40</td>\n",
       "      <td>15.80</td>\n",
       "      <td>0.60</td>\n",
       "      <td>12+ months</td>\n",
       "      <td>12+ months</td>\n",
       "      <td>0-3 months</td>\n",
       "    </tr>\n",
       "    <tr>\n",
       "      <th>197</th>\n",
       "      <td>TRANSFERTO - THUNES_TANZANIA</td>\n",
       "      <td>2022-03-16</td>\n",
       "      <td>2023-08-10</td>\n",
       "      <td>3085.00</td>\n",
       "      <td>6</td>\n",
       "      <td>19.47</td>\n",
       "      <td>17.07</td>\n",
       "      <td>2.40</td>\n",
       "      <td>12+ months</td>\n",
       "      <td>12+ months</td>\n",
       "      <td>0-3 months</td>\n",
       "    </tr>\n",
       "    <tr>\n",
       "      <th>163</th>\n",
       "      <td>TRANSFERTO - THUNES_AUSTRIA</td>\n",
       "      <td>2022-07-19</td>\n",
       "      <td>2023-10-21</td>\n",
       "      <td>2683.32</td>\n",
       "      <td>6</td>\n",
       "      <td>15.30</td>\n",
       "      <td>15.30</td>\n",
       "      <td>0.00</td>\n",
       "      <td>12+ months</td>\n",
       "      <td>12+ months</td>\n",
       "      <td>NaN</td>\n",
       "    </tr>\n",
       "    <tr>\n",
       "      <th>169</th>\n",
       "      <td>TRANSFERTO - THUNES_ETHIOPIA</td>\n",
       "      <td>2022-05-20</td>\n",
       "      <td>2023-10-11</td>\n",
       "      <td>2650.01</td>\n",
       "      <td>10</td>\n",
       "      <td>17.30</td>\n",
       "      <td>16.97</td>\n",
       "      <td>0.33</td>\n",
       "      <td>12+ months</td>\n",
       "      <td>12+ months</td>\n",
       "      <td>0-3 months</td>\n",
       "    </tr>\n",
       "    <tr>\n",
       "      <th>171</th>\n",
       "      <td>TRANSFERTO - THUNES_FINLAND</td>\n",
       "      <td>2023-04-28</td>\n",
       "      <td>2023-10-11</td>\n",
       "      <td>2134.00</td>\n",
       "      <td>3</td>\n",
       "      <td>5.87</td>\n",
       "      <td>5.53</td>\n",
       "      <td>0.33</td>\n",
       "      <td>3-6 months</td>\n",
       "      <td>3-6 months</td>\n",
       "      <td>0-3 months</td>\n",
       "    </tr>\n",
       "    <tr>\n",
       "      <th>108</th>\n",
       "      <td>LIBERTAD (APPRIZA)_MEXICO</td>\n",
       "      <td>2023-01-05</td>\n",
       "      <td>2023-10-15</td>\n",
       "      <td>1550.00</td>\n",
       "      <td>5</td>\n",
       "      <td>9.63</td>\n",
       "      <td>9.43</td>\n",
       "      <td>0.20</td>\n",
       "      <td>6-12 months</td>\n",
       "      <td>6-12 months</td>\n",
       "      <td>0-3 months</td>\n",
       "    </tr>\n",
       "    <tr>\n",
       "      <th>117</th>\n",
       "      <td>MERCHANTRADE_SRI LANKA</td>\n",
       "      <td>2023-02-26</td>\n",
       "      <td>2023-10-06</td>\n",
       "      <td>1471.88</td>\n",
       "      <td>7</td>\n",
       "      <td>7.90</td>\n",
       "      <td>7.40</td>\n",
       "      <td>0.50</td>\n",
       "      <td>6-12 months</td>\n",
       "      <td>6-12 months</td>\n",
       "      <td>0-3 months</td>\n",
       "    </tr>\n",
       "    <tr>\n",
       "      <th>28</th>\n",
       "      <td>BANCO INDUSTRIAL GT ATM (RED CHAPINA)_GUATEMALA</td>\n",
       "      <td>2023-02-10</td>\n",
       "      <td>2023-09-26</td>\n",
       "      <td>637.67</td>\n",
       "      <td>9</td>\n",
       "      <td>8.43</td>\n",
       "      <td>7.60</td>\n",
       "      <td>0.83</td>\n",
       "      <td>6-12 months</td>\n",
       "      <td>6-12 months</td>\n",
       "      <td>0-3 months</td>\n",
       "    </tr>\n",
       "    <tr>\n",
       "      <th>103</th>\n",
       "      <td>KORI_GABON</td>\n",
       "      <td>2022-11-25</td>\n",
       "      <td>2023-08-25</td>\n",
       "      <td>230.01</td>\n",
       "      <td>2</td>\n",
       "      <td>11.00</td>\n",
       "      <td>9.10</td>\n",
       "      <td>1.90</td>\n",
       "      <td>6-12 months</td>\n",
       "      <td>6-12 months</td>\n",
       "      <td>0-3 months</td>\n",
       "    </tr>\n",
       "    <tr>\n",
       "      <th>211</th>\n",
       "      <td>TRANSPAY_INDIA</td>\n",
       "      <td>2023-03-28</td>\n",
       "      <td>2023-09-01</td>\n",
       "      <td>151.00</td>\n",
       "      <td>5</td>\n",
       "      <td>6.90</td>\n",
       "      <td>5.23</td>\n",
       "      <td>1.67</td>\n",
       "      <td>6-12 months</td>\n",
       "      <td>3-6 months</td>\n",
       "      <td>0-3 months</td>\n",
       "    </tr>\n",
       "    <tr>\n",
       "      <th>123</th>\n",
       "      <td>MFS AFRICA_SENEGAL</td>\n",
       "      <td>2023-07-13</td>\n",
       "      <td>2023-09-18</td>\n",
       "      <td>110.00</td>\n",
       "      <td>10</td>\n",
       "      <td>3.33</td>\n",
       "      <td>2.23</td>\n",
       "      <td>1.10</td>\n",
       "      <td>3-6 months</td>\n",
       "      <td>0-3 months</td>\n",
       "      <td>0-3 months</td>\n",
       "    </tr>\n",
       "    <tr>\n",
       "      <th>209</th>\n",
       "      <td>TRANSPAY_ETHIOPIA</td>\n",
       "      <td>2023-06-29</td>\n",
       "      <td>2023-10-04</td>\n",
       "      <td>86.58</td>\n",
       "      <td>4</td>\n",
       "      <td>3.80</td>\n",
       "      <td>3.23</td>\n",
       "      <td>0.57</td>\n",
       "      <td>3-6 months</td>\n",
       "      <td>3-6 months</td>\n",
       "      <td>0-3 months</td>\n",
       "    </tr>\n",
       "    <tr>\n",
       "      <th>149</th>\n",
       "      <td>SEARS (APPRIZA)_MEXICO</td>\n",
       "      <td>2023-03-13</td>\n",
       "      <td>2023-08-07</td>\n",
       "      <td>70.00</td>\n",
       "      <td>11</td>\n",
       "      <td>7.40</td>\n",
       "      <td>4.90</td>\n",
       "      <td>2.50</td>\n",
       "      <td>6-12 months</td>\n",
       "      <td>3-6 months</td>\n",
       "      <td>0-3 months</td>\n",
       "    </tr>\n",
       "    <tr>\n",
       "      <th>148</th>\n",
       "      <td>SANBORNS (APPRIZA)_MEXICO</td>\n",
       "      <td>2023-03-01</td>\n",
       "      <td>2023-08-07</td>\n",
       "      <td>55.00</td>\n",
       "      <td>13</td>\n",
       "      <td>7.80</td>\n",
       "      <td>5.30</td>\n",
       "      <td>2.50</td>\n",
       "      <td>6-12 months</td>\n",
       "      <td>3-6 months</td>\n",
       "      <td>0-3 months</td>\n",
       "    </tr>\n",
       "    <tr>\n",
       "      <th>164</th>\n",
       "      <td>TRANSFERTO - THUNES_BANGLADESH</td>\n",
       "      <td>2023-06-01</td>\n",
       "      <td>2023-10-19</td>\n",
       "      <td>41.00</td>\n",
       "      <td>10</td>\n",
       "      <td>4.73</td>\n",
       "      <td>4.67</td>\n",
       "      <td>0.07</td>\n",
       "      <td>3-6 months</td>\n",
       "      <td>3-6 months</td>\n",
       "      <td>0-3 months</td>\n",
       "    </tr>\n",
       "    <tr>\n",
       "      <th>166</th>\n",
       "      <td>TRANSFERTO - THUNES_BURKINA FASO</td>\n",
       "      <td>2023-06-19</td>\n",
       "      <td>2023-09-05</td>\n",
       "      <td>10.00</td>\n",
       "      <td>2</td>\n",
       "      <td>4.13</td>\n",
       "      <td>2.60</td>\n",
       "      <td>1.53</td>\n",
       "      <td>3-6 months</td>\n",
       "      <td>0-3 months</td>\n",
       "      <td>0-3 months</td>\n",
       "    </tr>\n",
       "  </tbody>\n",
       "</table>\n",
       "</div>"
      ],
      "text/plain": [
       "                                       payer_country first_date  last_date  \\\n",
       "180                    TRANSFERTO - THUNES_LITHUANIA 2023-05-28 2023-08-01   \n",
       "1                               7 ELEVEN (UT)_MEXICO 2020-12-31 2023-10-08   \n",
       "184                  TRANSFERTO - THUNES_NETHERLANDS 2022-09-15 2023-09-30   \n",
       "177                      TRANSFERTO - THUNES_IRELAND 2022-09-17 2023-10-11   \n",
       "51                                       BNB_SENEGAL 2023-04-14 2023-10-21   \n",
       "129                                    NAFA_CAMEROON 2022-11-30 2023-09-19   \n",
       "196                  TRANSFERTO - THUNES_SWITZERLAND 2022-06-16 2023-10-03   \n",
       "197                     TRANSFERTO - THUNES_TANZANIA 2022-03-16 2023-08-10   \n",
       "163                      TRANSFERTO - THUNES_AUSTRIA 2022-07-19 2023-10-21   \n",
       "169                     TRANSFERTO - THUNES_ETHIOPIA 2022-05-20 2023-10-11   \n",
       "171                      TRANSFERTO - THUNES_FINLAND 2023-04-28 2023-10-11   \n",
       "108                        LIBERTAD (APPRIZA)_MEXICO 2023-01-05 2023-10-15   \n",
       "117                           MERCHANTRADE_SRI LANKA 2023-02-26 2023-10-06   \n",
       "28   BANCO INDUSTRIAL GT ATM (RED CHAPINA)_GUATEMALA 2023-02-10 2023-09-26   \n",
       "103                                       KORI_GABON 2022-11-25 2023-08-25   \n",
       "211                                   TRANSPAY_INDIA 2023-03-28 2023-09-01   \n",
       "123                               MFS AFRICA_SENEGAL 2023-07-13 2023-09-18   \n",
       "209                                TRANSPAY_ETHIOPIA 2023-06-29 2023-10-04   \n",
       "149                           SEARS (APPRIZA)_MEXICO 2023-03-13 2023-08-07   \n",
       "148                        SANBORNS (APPRIZA)_MEXICO 2023-03-01 2023-08-07   \n",
       "164                   TRANSFERTO - THUNES_BANGLADESH 2023-06-01 2023-10-19   \n",
       "166                 TRANSFERTO - THUNES_BURKINA FASO 2023-06-19 2023-09-05   \n",
       "\n",
       "     total_amount  total_transactions  age_payer  active_time  inactive_time  \\\n",
       "180       8600.00                   5       4.87         2.17           2.70   \n",
       "1         8019.49                 175      34.13        33.70           0.43   \n",
       "184       7909.47                   8      13.37        12.67           0.70   \n",
       "177       7397.04                  12      13.30        12.97           0.33   \n",
       "51        6222.33                  44       6.33         6.33           0.00   \n",
       "129       5386.49                   6      10.83         9.77           1.07   \n",
       "196       4932.60                  31      16.40        15.80           0.60   \n",
       "197       3085.00                   6      19.47        17.07           2.40   \n",
       "163       2683.32                   6      15.30        15.30           0.00   \n",
       "169       2650.01                  10      17.30        16.97           0.33   \n",
       "171       2134.00                   3       5.87         5.53           0.33   \n",
       "108       1550.00                   5       9.63         9.43           0.20   \n",
       "117       1471.88                   7       7.90         7.40           0.50   \n",
       "28         637.67                   9       8.43         7.60           0.83   \n",
       "103        230.01                   2      11.00         9.10           1.90   \n",
       "211        151.00                   5       6.90         5.23           1.67   \n",
       "123        110.00                  10       3.33         2.23           1.10   \n",
       "209         86.58                   4       3.80         3.23           0.57   \n",
       "149         70.00                  11       7.40         4.90           2.50   \n",
       "148         55.00                  13       7.80         5.30           2.50   \n",
       "164         41.00                  10       4.73         4.67           0.07   \n",
       "166         10.00                   2       4.13         2.60           1.53   \n",
       "\n",
       "       age_group active_time_group inactive_time_group  \n",
       "180   3-6 months        0-3 months          0-3 months  \n",
       "1     12+ months        12+ months          0-3 months  \n",
       "184   12+ months        12+ months          0-3 months  \n",
       "177   12+ months        12+ months          0-3 months  \n",
       "51   6-12 months       6-12 months                 NaN  \n",
       "129  6-12 months       6-12 months          0-3 months  \n",
       "196   12+ months        12+ months          0-3 months  \n",
       "197   12+ months        12+ months          0-3 months  \n",
       "163   12+ months        12+ months                 NaN  \n",
       "169   12+ months        12+ months          0-3 months  \n",
       "171   3-6 months        3-6 months          0-3 months  \n",
       "108  6-12 months       6-12 months          0-3 months  \n",
       "117  6-12 months       6-12 months          0-3 months  \n",
       "28   6-12 months       6-12 months          0-3 months  \n",
       "103  6-12 months       6-12 months          0-3 months  \n",
       "211  6-12 months        3-6 months          0-3 months  \n",
       "123   3-6 months        0-3 months          0-3 months  \n",
       "209   3-6 months        3-6 months          0-3 months  \n",
       "149  6-12 months        3-6 months          0-3 months  \n",
       "148  6-12 months        3-6 months          0-3 months  \n",
       "164   3-6 months        3-6 months          0-3 months  \n",
       "166   3-6 months        0-3 months          0-3 months  "
      ]
     },
     "execution_count": 52,
     "metadata": {},
     "output_type": "execute_result"
    }
   ],
   "source": [
    "control3"
   ]
  },
  {
   "cell_type": "code",
   "execution_count": 547,
   "id": "785ac553-506f-45a9-955f-9be562fa255f",
   "metadata": {
    "tags": []
   },
   "outputs": [],
   "source": [
    "###FINAL RULE: PAYERS WITH NO MORE THAN 3 MONTHS INACTIVE AND NO LESS THAN 3 MONTHS OLD AND WHO WILL OPERATE AT LEAST 10,000 USD SINCE THE BEGINNING OF THEIR ACTIVITY OR SINCE JANUARY 2021.\n",
    "###REGLA FINAL: PAYERS CON NO MAS DE 3 MESES INACTIVOS Y NO MENOS DE 3 MESES DE ANTIGUEDAD Y QUE OPERARAN AL MENOS 10000 USD DESDE EL INICIO DE SU ACTIVIDAD  O DESDE ENERO DE 2021##\n",
    "## Y QUE TENGAN AL MENOS 50 transacciones##"
   ]
  },
  {
   "cell_type": "code",
   "execution_count": 53,
   "id": "85c5b631-b6af-44d3-b1e5-43a559fb08b2",
   "metadata": {
    "tags": []
   },
   "outputs": [],
   "source": [
    "final_universe=result.loc[(result.age_payer>=3) & (result.inactive_time<=3) & (result.total_amount>10000) & (result.total_transactions>50)]"
   ]
  },
  {
   "cell_type": "code",
   "execution_count": 54,
   "id": "06ccef22-3019-483f-a6d7-cef84829e0ff",
   "metadata": {
    "tags": []
   },
   "outputs": [
    {
     "data": {
      "text/html": [
       "<div>\n",
       "<style scoped>\n",
       "    .dataframe tbody tr th:only-of-type {\n",
       "        vertical-align: middle;\n",
       "    }\n",
       "\n",
       "    .dataframe tbody tr th {\n",
       "        vertical-align: top;\n",
       "    }\n",
       "\n",
       "    .dataframe thead th {\n",
       "        text-align: right;\n",
       "    }\n",
       "</style>\n",
       "<table border=\"1\" class=\"dataframe\">\n",
       "  <thead>\n",
       "    <tr style=\"text-align: right;\">\n",
       "      <th></th>\n",
       "      <th>payer_country</th>\n",
       "      <th>first_date</th>\n",
       "      <th>last_date</th>\n",
       "      <th>total_amount</th>\n",
       "      <th>total_transactions</th>\n",
       "      <th>age_payer</th>\n",
       "      <th>active_time</th>\n",
       "      <th>inactive_time</th>\n",
       "      <th>age_group</th>\n",
       "      <th>active_time_group</th>\n",
       "      <th>inactive_time_group</th>\n",
       "    </tr>\n",
       "  </thead>\n",
       "  <tbody>\n",
       "    <tr>\n",
       "      <th>52</th>\n",
       "      <td>BNB_SIERRA LEONE</td>\n",
       "      <td>2023-05-22</td>\n",
       "      <td>2023-10-21</td>\n",
       "      <td>26127.60</td>\n",
       "      <td>115</td>\n",
       "      <td>5.07</td>\n",
       "      <td>5.07</td>\n",
       "      <td>0.00</td>\n",
       "      <td>3-6 months</td>\n",
       "      <td>3-6 months</td>\n",
       "      <td>NaN</td>\n",
       "    </tr>\n",
       "    <tr>\n",
       "      <th>160</th>\n",
       "      <td>TIGO MONEY_EL SALVADOR</td>\n",
       "      <td>2021-01-16</td>\n",
       "      <td>2023-10-21</td>\n",
       "      <td>25279.00</td>\n",
       "      <td>167</td>\n",
       "      <td>33.60</td>\n",
       "      <td>33.60</td>\n",
       "      <td>0.00</td>\n",
       "      <td>12+ months</td>\n",
       "      <td>12+ months</td>\n",
       "      <td>NaN</td>\n",
       "    </tr>\n",
       "    <tr>\n",
       "      <th>127</th>\n",
       "      <td>MUTHOOT_INDIA</td>\n",
       "      <td>2023-04-26</td>\n",
       "      <td>2023-10-21</td>\n",
       "      <td>21212.81</td>\n",
       "      <td>53</td>\n",
       "      <td>5.93</td>\n",
       "      <td>5.93</td>\n",
       "      <td>0.00</td>\n",
       "      <td>3-6 months</td>\n",
       "      <td>3-6 months</td>\n",
       "      <td>NaN</td>\n",
       "    </tr>\n",
       "    <tr>\n",
       "      <th>97</th>\n",
       "      <td>JMMB_JAMAICA</td>\n",
       "      <td>2023-05-05</td>\n",
       "      <td>2023-10-21</td>\n",
       "      <td>16487.20</td>\n",
       "      <td>142</td>\n",
       "      <td>5.63</td>\n",
       "      <td>5.63</td>\n",
       "      <td>0.00</td>\n",
       "      <td>3-6 months</td>\n",
       "      <td>3-6 months</td>\n",
       "      <td>NaN</td>\n",
       "    </tr>\n",
       "    <tr>\n",
       "      <th>50</th>\n",
       "      <td>BNB_LIBERIA</td>\n",
       "      <td>2023-05-19</td>\n",
       "      <td>2023-10-20</td>\n",
       "      <td>14483.00</td>\n",
       "      <td>73</td>\n",
       "      <td>5.17</td>\n",
       "      <td>5.13</td>\n",
       "      <td>0.03</td>\n",
       "      <td>3-6 months</td>\n",
       "      <td>3-6 months</td>\n",
       "      <td>0-3 months</td>\n",
       "    </tr>\n",
       "  </tbody>\n",
       "</table>\n",
       "</div>"
      ],
      "text/plain": [
       "              payer_country first_date  last_date  total_amount  \\\n",
       "52         BNB_SIERRA LEONE 2023-05-22 2023-10-21      26127.60   \n",
       "160  TIGO MONEY_EL SALVADOR 2021-01-16 2023-10-21      25279.00   \n",
       "127           MUTHOOT_INDIA 2023-04-26 2023-10-21      21212.81   \n",
       "97             JMMB_JAMAICA 2023-05-05 2023-10-21      16487.20   \n",
       "50              BNB_LIBERIA 2023-05-19 2023-10-20      14483.00   \n",
       "\n",
       "     total_transactions  age_payer  active_time  inactive_time   age_group  \\\n",
       "52                  115       5.07         5.07           0.00  3-6 months   \n",
       "160                 167      33.60        33.60           0.00  12+ months   \n",
       "127                  53       5.93         5.93           0.00  3-6 months   \n",
       "97                  142       5.63         5.63           0.00  3-6 months   \n",
       "50                   73       5.17         5.13           0.03  3-6 months   \n",
       "\n",
       "    active_time_group inactive_time_group  \n",
       "52         3-6 months                 NaN  \n",
       "160        12+ months                 NaN  \n",
       "127        3-6 months                 NaN  \n",
       "97         3-6 months                 NaN  \n",
       "50         3-6 months          0-3 months  "
      ]
     },
     "execution_count": 54,
     "metadata": {},
     "output_type": "execute_result"
    }
   ],
   "source": [
    "final_universe.tail()"
   ]
  },
  {
   "cell_type": "code",
   "execution_count": 55,
   "id": "cc95d11b-6de5-4c2c-bd87-87de329a471b",
   "metadata": {
    "tags": []
   },
   "outputs": [
    {
     "data": {
      "text/plain": [
       "(131, 11)"
      ]
     },
     "execution_count": 55,
     "metadata": {},
     "output_type": "execute_result"
    }
   ],
   "source": [
    "final_universe.shape"
   ]
  },
  {
   "cell_type": "code",
   "execution_count": 56,
   "id": "c6a7397e-c31e-4488-b646-7e3815973d07",
   "metadata": {
    "tags": []
   },
   "outputs": [
    {
     "data": {
      "text/plain": [
       "131"
      ]
     },
     "execution_count": 56,
     "metadata": {},
     "output_type": "execute_result"
    }
   ],
   "source": [
    "final_universe.payer_country.nunique()"
   ]
  },
  {
   "cell_type": "code",
   "execution_count": 57,
   "id": "0b254c99-ba9a-4791-8525-e182f0d225b0",
   "metadata": {
    "tags": []
   },
   "outputs": [
    {
     "data": {
      "text/plain": [
       "0.9681126736578183"
      ]
     },
     "execution_count": 57,
     "metadata": {},
     "output_type": "execute_result"
    }
   ],
   "source": [
    "final_universe.total_amount.sum()/df.amount.sum()"
   ]
  },
  {
   "cell_type": "code",
   "execution_count": 83,
   "id": "c8bb4ba8-daf7-4b6f-9940-ea43ad36788a",
   "metadata": {
    "tags": []
   },
   "outputs": [
    {
     "data": {
      "text/plain": [
       "24309913777.781002"
      ]
     },
     "execution_count": 83,
     "metadata": {},
     "output_type": "execute_result"
    }
   ],
   "source": [
    "final_universe.total_amount.sum()"
   ]
  },
  {
   "cell_type": "code",
   "execution_count": null,
   "id": "6a47be68-4a65-4b20-aaa4-80e95f9c094b",
   "metadata": {},
   "outputs": [],
   "source": [
    "##THESE 135 PAYERS REPRESENT 98.15% OF THE TOTAL AMOUNT TRANSACTED FROM JANUARY THROUGH OCTOBER 2023."
   ]
  },
  {
   "cell_type": "code",
   "execution_count": 58,
   "id": "75edfb89-0cb4-4083-a0f8-d5430a90d598",
   "metadata": {
    "tags": []
   },
   "outputs": [
    {
     "data": {
      "text/html": [
       "<div>\n",
       "<style scoped>\n",
       "    .dataframe tbody tr th:only-of-type {\n",
       "        vertical-align: middle;\n",
       "    }\n",
       "\n",
       "    .dataframe tbody tr th {\n",
       "        vertical-align: top;\n",
       "    }\n",
       "\n",
       "    .dataframe thead th {\n",
       "        text-align: right;\n",
       "    }\n",
       "</style>\n",
       "<table border=\"1\" class=\"dataframe\">\n",
       "  <thead>\n",
       "    <tr style=\"text-align: right;\">\n",
       "      <th></th>\n",
       "      <th>first_date</th>\n",
       "      <th>last_date</th>\n",
       "      <th>total_amount</th>\n",
       "      <th>total_transactions</th>\n",
       "      <th>age_payer</th>\n",
       "      <th>active_time</th>\n",
       "      <th>inactive_time</th>\n",
       "    </tr>\n",
       "  </thead>\n",
       "  <tbody>\n",
       "    <tr>\n",
       "      <th>count</th>\n",
       "      <td>131</td>\n",
       "      <td>131</td>\n",
       "      <td>1.310000e+02</td>\n",
       "      <td>1.310000e+02</td>\n",
       "      <td>131.000000</td>\n",
       "      <td>131.000000</td>\n",
       "      <td>131.000000</td>\n",
       "    </tr>\n",
       "    <tr>\n",
       "      <th>mean</th>\n",
       "      <td>2021-07-26 14:39:23.358778624</td>\n",
       "      <td>2023-10-18 13:11:27.022900736</td>\n",
       "      <td>1.855719e+08</td>\n",
       "      <td>4.471782e+05</td>\n",
       "      <td>27.210992</td>\n",
       "      <td>27.129542</td>\n",
       "      <td>0.081450</td>\n",
       "    </tr>\n",
       "    <tr>\n",
       "      <th>min</th>\n",
       "      <td>2020-12-31 00:00:00</td>\n",
       "      <td>2023-08-01 00:00:00</td>\n",
       "      <td>1.448300e+04</td>\n",
       "      <td>5.300000e+01</td>\n",
       "      <td>5.070000</td>\n",
       "      <td>5.070000</td>\n",
       "      <td>0.000000</td>\n",
       "    </tr>\n",
       "    <tr>\n",
       "      <th>25%</th>\n",
       "      <td>2020-12-31 00:00:00</td>\n",
       "      <td>2023-10-21 00:00:00</td>\n",
       "      <td>3.348048e+05</td>\n",
       "      <td>9.330000e+02</td>\n",
       "      <td>18.115000</td>\n",
       "      <td>18.085000</td>\n",
       "      <td>0.000000</td>\n",
       "    </tr>\n",
       "    <tr>\n",
       "      <th>50%</th>\n",
       "      <td>2020-12-31 00:00:00</td>\n",
       "      <td>2023-10-21 00:00:00</td>\n",
       "      <td>1.266389e+07</td>\n",
       "      <td>2.398000e+04</td>\n",
       "      <td>34.130000</td>\n",
       "      <td>34.030000</td>\n",
       "      <td>0.000000</td>\n",
       "    </tr>\n",
       "    <tr>\n",
       "      <th>75%</th>\n",
       "      <td>2022-04-25 12:00:00</td>\n",
       "      <td>2023-10-21 00:00:00</td>\n",
       "      <td>7.250825e+07</td>\n",
       "      <td>2.199195e+05</td>\n",
       "      <td>34.130000</td>\n",
       "      <td>34.130000</td>\n",
       "      <td>0.000000</td>\n",
       "    </tr>\n",
       "    <tr>\n",
       "      <th>max</th>\n",
       "      <td>2023-05-22 00:00:00</td>\n",
       "      <td>2023-10-21 00:00:00</td>\n",
       "      <td>6.397947e+09</td>\n",
       "      <td>1.470786e+07</td>\n",
       "      <td>34.130000</td>\n",
       "      <td>34.130000</td>\n",
       "      <td>2.700000</td>\n",
       "    </tr>\n",
       "    <tr>\n",
       "      <th>std</th>\n",
       "      <td>NaN</td>\n",
       "      <td>NaN</td>\n",
       "      <td>7.040251e+08</td>\n",
       "      <td>1.605211e+06</td>\n",
       "      <td>9.615606</td>\n",
       "      <td>9.610659</td>\n",
       "      <td>0.368534</td>\n",
       "    </tr>\n",
       "  </tbody>\n",
       "</table>\n",
       "</div>"
      ],
      "text/plain": [
       "                          first_date                      last_date  \\\n",
       "count                            131                            131   \n",
       "mean   2021-07-26 14:39:23.358778624  2023-10-18 13:11:27.022900736   \n",
       "min              2020-12-31 00:00:00            2023-08-01 00:00:00   \n",
       "25%              2020-12-31 00:00:00            2023-10-21 00:00:00   \n",
       "50%              2020-12-31 00:00:00            2023-10-21 00:00:00   \n",
       "75%              2022-04-25 12:00:00            2023-10-21 00:00:00   \n",
       "max              2023-05-22 00:00:00            2023-10-21 00:00:00   \n",
       "std                              NaN                            NaN   \n",
       "\n",
       "       total_amount  total_transactions   age_payer  active_time  \\\n",
       "count  1.310000e+02        1.310000e+02  131.000000   131.000000   \n",
       "mean   1.855719e+08        4.471782e+05   27.210992    27.129542   \n",
       "min    1.448300e+04        5.300000e+01    5.070000     5.070000   \n",
       "25%    3.348048e+05        9.330000e+02   18.115000    18.085000   \n",
       "50%    1.266389e+07        2.398000e+04   34.130000    34.030000   \n",
       "75%    7.250825e+07        2.199195e+05   34.130000    34.130000   \n",
       "max    6.397947e+09        1.470786e+07   34.130000    34.130000   \n",
       "std    7.040251e+08        1.605211e+06    9.615606     9.610659   \n",
       "\n",
       "       inactive_time  \n",
       "count     131.000000  \n",
       "mean        0.081450  \n",
       "min         0.000000  \n",
       "25%         0.000000  \n",
       "50%         0.000000  \n",
       "75%         0.000000  \n",
       "max         2.700000  \n",
       "std         0.368534  "
      ]
     },
     "execution_count": 58,
     "metadata": {},
     "output_type": "execute_result"
    }
   ],
   "source": [
    "final_universe.describe()"
   ]
  },
  {
   "cell_type": "code",
   "execution_count": null,
   "id": "8e4071f8-6ab4-4cf3-a38e-e6f971d90387",
   "metadata": {
    "tags": []
   },
   "outputs": [],
   "source": [
    "##WHAT PERCENTAGE OF THE TOTAL AMOUNT TRADED BETWEEN OCTOBER 23 AND JULY 23 DO THE SELECTED CASES REPRESENT?"
   ]
  },
  {
   "cell_type": "code",
   "execution_count": 49,
   "id": "1c8ba589-939c-41ec-bbf1-877ab48c42d2",
   "metadata": {
    "tags": []
   },
   "outputs": [],
   "source": [
    "###CORTAMOS LOS ULTIMOS 3 MESES DE DATOS Y LOS UNIMOS POR PAYER_COUNTRY AL UNIVERSO Y ANALIZAMOS EL PORCENTAJE DE MONTO QUE QUEDA AFUERA##"
   ]
  },
  {
   "cell_type": "code",
   "execution_count": 59,
   "id": "6a9fa934-99ec-466d-9116-4e06dea84ff2",
   "metadata": {
    "tags": []
   },
   "outputs": [
    {
     "data": {
      "text/plain": [
       "187"
      ]
     },
     "execution_count": 59,
     "metadata": {},
     "output_type": "execute_result"
    }
   ],
   "source": [
    "df_last3m= df.loc[(df.date>='2023-07-21') & (df.date<='2023-10-21')]\n",
    "df_last3m.payer_country.nunique()"
   ]
  },
  {
   "cell_type": "code",
   "execution_count": 60,
   "id": "6ad8105f-7f72-43f3-9c51-a0f62dd11315",
   "metadata": {
    "tags": []
   },
   "outputs": [
    {
     "data": {
      "text/plain": [
       "(9850, 7)"
      ]
     },
     "execution_count": 60,
     "metadata": {},
     "output_type": "execute_result"
    }
   ],
   "source": [
    "df_last3m.shape"
   ]
  },
  {
   "cell_type": "code",
   "execution_count": 61,
   "id": "c7b72c9a-2517-4b16-a822-4f824497e7e0",
   "metadata": {
    "tags": []
   },
   "outputs": [
    {
     "data": {
      "text/plain": [
       "187"
      ]
     },
     "execution_count": 61,
     "metadata": {},
     "output_type": "execute_result"
    }
   ],
   "source": [
    "df_last3m.payer_country.nunique()"
   ]
  },
  {
   "cell_type": "code",
   "execution_count": 62,
   "id": "6df30846-f390-4b9e-9902-208a7b4b6b42",
   "metadata": {
    "tags": []
   },
   "outputs": [
    {
     "data": {
      "text/html": [
       "<div>\n",
       "<style scoped>\n",
       "    .dataframe tbody tr th:only-of-type {\n",
       "        vertical-align: middle;\n",
       "    }\n",
       "\n",
       "    .dataframe tbody tr th {\n",
       "        vertical-align: top;\n",
       "    }\n",
       "\n",
       "    .dataframe thead th {\n",
       "        text-align: right;\n",
       "    }\n",
       "</style>\n",
       "<table border=\"1\" class=\"dataframe\">\n",
       "  <thead>\n",
       "    <tr style=\"text-align: right;\">\n",
       "      <th></th>\n",
       "      <th>payer</th>\n",
       "      <th>country</th>\n",
       "      <th>date</th>\n",
       "      <th>amount</th>\n",
       "      <th>count</th>\n",
       "      <th>payer_country</th>\n",
       "      <th>payer_country_encoder</th>\n",
       "    </tr>\n",
       "  </thead>\n",
       "  <tbody>\n",
       "    <tr>\n",
       "      <th>3</th>\n",
       "      <td>MICOOPE-FENACOAC (RED CHAPINA)</td>\n",
       "      <td>GUATEMALA</td>\n",
       "      <td>2023-10-10</td>\n",
       "      <td>121599.94</td>\n",
       "      <td>197</td>\n",
       "      <td>MICOOPE-FENACOAC (RED CHAPINA)_GUATEMALA</td>\n",
       "      <td>124</td>\n",
       "    </tr>\n",
       "    <tr>\n",
       "      <th>6</th>\n",
       "      <td>VIAMERICAS USA DEPOSITS</td>\n",
       "      <td>UNITED STATES</td>\n",
       "      <td>2023-08-24</td>\n",
       "      <td>62990.04</td>\n",
       "      <td>132</td>\n",
       "      <td>VIAMERICAS USA DEPOSITS_UNITED STATES</td>\n",
       "      <td>220</td>\n",
       "    </tr>\n",
       "    <tr>\n",
       "      <th>7</th>\n",
       "      <td>BANCO GANADERO (BOLIVIA)</td>\n",
       "      <td>BOLIVIA</td>\n",
       "      <td>2023-08-19</td>\n",
       "      <td>6666.54</td>\n",
       "      <td>17</td>\n",
       "      <td>BANCO GANADERO (BOLIVIA)_BOLIVIA</td>\n",
       "      <td>26</td>\n",
       "    </tr>\n",
       "    <tr>\n",
       "      <th>11</th>\n",
       "      <td>CUSCA (CITI - RECIBA NETWORKS)</td>\n",
       "      <td>EL SALVADOR</td>\n",
       "      <td>2023-09-02</td>\n",
       "      <td>359568.00</td>\n",
       "      <td>1394</td>\n",
       "      <td>CUSCA (CITI - RECIBA NETWORKS)_EL SALVADOR</td>\n",
       "      <td>65</td>\n",
       "    </tr>\n",
       "    <tr>\n",
       "      <th>18</th>\n",
       "      <td>COOPERATIVA CACIL (UT)</td>\n",
       "      <td>HONDURAS</td>\n",
       "      <td>2023-08-23</td>\n",
       "      <td>13055.00</td>\n",
       "      <td>26</td>\n",
       "      <td>COOPERATIVA CACIL (UT)_HONDURAS</td>\n",
       "      <td>61</td>\n",
       "    </tr>\n",
       "  </tbody>\n",
       "</table>\n",
       "</div>"
      ],
      "text/plain": [
       "                             payer        country       date     amount  \\\n",
       "3   MICOOPE-FENACOAC (RED CHAPINA)      GUATEMALA 2023-10-10  121599.94   \n",
       "6          VIAMERICAS USA DEPOSITS  UNITED STATES 2023-08-24   62990.04   \n",
       "7         BANCO GANADERO (BOLIVIA)        BOLIVIA 2023-08-19    6666.54   \n",
       "11  CUSCA (CITI - RECIBA NETWORKS)    EL SALVADOR 2023-09-02  359568.00   \n",
       "18          COOPERATIVA CACIL (UT)       HONDURAS 2023-08-23   13055.00   \n",
       "\n",
       "    count                               payer_country  payer_country_encoder  \n",
       "3     197    MICOOPE-FENACOAC (RED CHAPINA)_GUATEMALA                    124  \n",
       "6     132       VIAMERICAS USA DEPOSITS_UNITED STATES                    220  \n",
       "7      17            BANCO GANADERO (BOLIVIA)_BOLIVIA                     26  \n",
       "11   1394  CUSCA (CITI - RECIBA NETWORKS)_EL SALVADOR                     65  \n",
       "18     26             COOPERATIVA CACIL (UT)_HONDURAS                     61  "
      ]
     },
     "execution_count": 62,
     "metadata": {},
     "output_type": "execute_result"
    }
   ],
   "source": [
    "df_last3m.head()"
   ]
  },
  {
   "cell_type": "code",
   "execution_count": 63,
   "id": "28e8b733-2007-4ed0-ab64-1b1911b24b08",
   "metadata": {},
   "outputs": [],
   "source": [
    "df_merge_control=pd.merge(df_last3m,final_universe, on='payer_country', how='left',indicator=True)"
   ]
  },
  {
   "cell_type": "code",
   "execution_count": 64,
   "id": "d60ecc18-725f-4fea-9914-e609ed6aae87",
   "metadata": {},
   "outputs": [
    {
     "data": {
      "text/plain": [
       "_merge\n",
       "both          9695\n",
       "left_only      155\n",
       "right_only       0\n",
       "Name: count, dtype: int64"
      ]
     },
     "execution_count": 64,
     "metadata": {},
     "output_type": "execute_result"
    }
   ],
   "source": [
    "df_merge_control._merge.value_counts()"
   ]
  },
  {
   "cell_type": "code",
   "execution_count": null,
   "id": "e582ac66-9d65-42e7-b985-4c241799426e",
   "metadata": {},
   "outputs": [],
   "source": [
    "##QUE PORCENTAJE DEL MONTO OPERADO EN EL PERIODO QUEDA AFUERA CON ESE UNIVERSO??##"
   ]
  },
  {
   "cell_type": "code",
   "execution_count": 65,
   "id": "c66f7d94-7778-453a-9186-65c3a0c241ec",
   "metadata": {
    "tags": []
   },
   "outputs": [
    {
     "data": {
      "text/plain": [
       "3306737105.6973996"
      ]
     },
     "execution_count": 65,
     "metadata": {},
     "output_type": "execute_result"
    }
   ],
   "source": [
    "df_merge_control.amount.sum()"
   ]
  },
  {
   "cell_type": "code",
   "execution_count": 66,
   "id": "1f4658c7-2c1c-4ad6-9831-f10404615b01",
   "metadata": {
    "tags": []
   },
   "outputs": [
    {
     "data": {
      "text/plain": [
       "187"
      ]
     },
     "execution_count": 66,
     "metadata": {},
     "output_type": "execute_result"
    }
   ],
   "source": [
    "df_merge_control.payer_country.nunique()"
   ]
  },
  {
   "cell_type": "code",
   "execution_count": 67,
   "id": "c327327c-f214-4d7c-99e8-503122e47e02",
   "metadata": {
    "tags": []
   },
   "outputs": [
    {
     "data": {
      "text/plain": [
       "47804.35"
      ]
     },
     "execution_count": 67,
     "metadata": {},
     "output_type": "execute_result"
    }
   ],
   "source": [
    "df_merge_control2=df_merge_control.loc[df_merge_control._merge=='left_only']\n",
    "df_merge_control2.amount.sum()"
   ]
  },
  {
   "cell_type": "code",
   "execution_count": null,
   "id": "036ac21a-a57f-40f7-969d-d51aa94d3e7d",
   "metadata": {},
   "outputs": [],
   "source": [
    "##PORCENTAJE DE MONTO OPERADO POR PAYERS EN EL \"UNIVERSO FINAL\" SOBRE EL MONTO TOTAL OPERADO EN LOS ULTIMOS 3 MESES##"
   ]
  },
  {
   "cell_type": "code",
   "execution_count": 68,
   "id": "90b8de36-efc1-4f17-8dd5-08a502814e6e",
   "metadata": {
    "tags": []
   },
   "outputs": [
    {
     "data": {
      "text/plain": [
       "0.0014456652728042597"
      ]
     },
     "execution_count": 68,
     "metadata": {},
     "output_type": "execute_result"
    }
   ],
   "source": [
    "(df_merge_control2.amount.sum()/df_merge_control.amount.sum())*100"
   ]
  },
  {
   "cell_type": "code",
   "execution_count": 69,
   "id": "6ff2ad84-7c74-406d-a572-cef9439fdf2d",
   "metadata": {
    "tags": []
   },
   "outputs": [
    {
     "data": {
      "text/plain": [
       "3306689301.3474"
      ]
     },
     "execution_count": 69,
     "metadata": {},
     "output_type": "execute_result"
    }
   ],
   "source": [
    "df_merge_control3=df_merge_control.loc[df_merge_control._merge=='both']\n",
    "df_merge_control3.amount.sum()"
   ]
  },
  {
   "cell_type": "code",
   "execution_count": 70,
   "id": "10584021-5021-41f3-ae1a-416a01f41603",
   "metadata": {
    "tags": []
   },
   "outputs": [
    {
     "data": {
      "text/plain": [
       "131"
      ]
     },
     "execution_count": 70,
     "metadata": {},
     "output_type": "execute_result"
    }
   ],
   "source": [
    "df_merge_control3.payer_country.nunique()"
   ]
  },
  {
   "cell_type": "code",
   "execution_count": 71,
   "id": "9148272a-6e27-47fa-afa6-e4e596e38e81",
   "metadata": {
    "tags": []
   },
   "outputs": [
    {
     "data": {
      "text/plain": [
       "45"
      ]
     },
     "execution_count": 71,
     "metadata": {},
     "output_type": "execute_result"
    }
   ],
   "source": [
    "df_merge_control3.country.nunique()"
   ]
  },
  {
   "cell_type": "code",
   "execution_count": 72,
   "id": "ece00b2a-b847-44ab-9eee-fbfa80c063ad",
   "metadata": {},
   "outputs": [],
   "source": [
    "##135 PAYERS CONCENTRAN EL 99.9% DEL MONTO OPERADO EN LOS ULTIMOS 3 MESES DESDE EL 21 DE OCTUBRE DE 2023##"
   ]
  },
  {
   "cell_type": "code",
   "execution_count": 73,
   "id": "c309fbc9-38bb-4005-a939-68942776b648",
   "metadata": {
    "tags": []
   },
   "outputs": [
    {
     "data": {
      "text/plain": [
       "array(['GUATEMALA', 'UNITED STATES', 'BOLIVIA', 'EL SALVADOR', 'HONDURAS',\n",
       "       'MEXICO', 'NEPAL', \"COTE D'IVOIRE (IVORY COAST)\", 'BURKINA FASO',\n",
       "       'INDONESIA', 'ARGENTINA', 'SIERRA LEONE', 'PERU', 'FRANCE',\n",
       "       'CAMEROON', 'BANGLADESH', 'CHILE', 'GAMBIA, THE', 'GUINEA', 'TOGO',\n",
       "       'ECUADOR', 'PHILIPPINES', 'GERMANY', 'LIBERIA', 'SPAIN',\n",
       "       'COSTA RICA', 'GHANA', 'MALAYSIA', 'NICARAGUA', 'BRAZIL',\n",
       "       'NIGERIA', 'INDIA', 'BELGIUM', 'COLOMBIA', 'HAITI',\n",
       "       'DOMINICAN REPUBLIC', 'UNITED STATES (ATM & DEPOSITS)', 'SENEGAL',\n",
       "       'PORTUGAL', 'JAMAICA', 'UNITED KINGDOM', 'MALI', 'ITALY', 'BENIN',\n",
       "       'THAILAND'], dtype=object)"
      ]
     },
     "execution_count": 73,
     "metadata": {},
     "output_type": "execute_result"
    }
   ],
   "source": [
    "df_merge_control3.country.unique()"
   ]
  },
  {
   "cell_type": "code",
   "execution_count": 74,
   "id": "fff0b648-c401-47e3-9eaf-4acdcfb4de7f",
   "metadata": {
    "tags": []
   },
   "outputs": [],
   "source": [
    "country_usd=['EL SALVADOR', 'UNITED STATES', 'ECUADOR']"
   ]
  },
  {
   "cell_type": "code",
   "execution_count": 75,
   "id": "95dbc268-6476-49a5-8808-891b72c3e891",
   "metadata": {
    "tags": []
   },
   "outputs": [],
   "source": [
    "df_usd=df_merge_control3[df_merge_control3['country'].isin(country_usd)]"
   ]
  },
  {
   "cell_type": "code",
   "execution_count": 76,
   "id": "04b62c82-dca0-47bf-b10e-12854f447bf7",
   "metadata": {
    "tags": []
   },
   "outputs": [
    {
     "data": {
      "text/plain": [
       "0.05881917232464115"
      ]
     },
     "execution_count": 76,
     "metadata": {},
     "output_type": "execute_result"
    }
   ],
   "source": [
    "df_usd.amount.sum()/df_merge_control3.amount.sum()"
   ]
  },
  {
   "cell_type": "code",
   "execution_count": 77,
   "id": "e2909e27-1956-4452-9532-7572933f3afc",
   "metadata": {
    "tags": []
   },
   "outputs": [
    {
     "data": {
      "text/plain": [
       "18"
      ]
     },
     "execution_count": 77,
     "metadata": {},
     "output_type": "execute_result"
    }
   ],
   "source": [
    "df_usd.payer_country.nunique()"
   ]
  },
  {
   "cell_type": "code",
   "execution_count": 78,
   "id": "6402de62-b13c-4c9e-8e83-fa3c569aca05",
   "metadata": {
    "tags": []
   },
   "outputs": [],
   "source": [
    "df_merge_control4=df_merge_control3.loc[:, ['country', 'amount']]"
   ]
  },
  {
   "cell_type": "code",
   "execution_count": 79,
   "id": "5dd98b6f-bd95-46c8-ba2b-914696ebd549",
   "metadata": {
    "tags": []
   },
   "outputs": [],
   "source": [
    "df_amount_country=df_merge_control4.groupby('country').sum()"
   ]
  },
  {
   "cell_type": "code",
   "execution_count": 80,
   "id": "ef3029f2-d861-4aca-ab81-5ca01ef051be",
   "metadata": {
    "tags": []
   },
   "outputs": [
    {
     "data": {
      "text/html": [
       "<div>\n",
       "<style scoped>\n",
       "    .dataframe tbody tr th:only-of-type {\n",
       "        vertical-align: middle;\n",
       "    }\n",
       "\n",
       "    .dataframe tbody tr th {\n",
       "        vertical-align: top;\n",
       "    }\n",
       "\n",
       "    .dataframe thead th {\n",
       "        text-align: right;\n",
       "    }\n",
       "</style>\n",
       "<table border=\"1\" class=\"dataframe\">\n",
       "  <thead>\n",
       "    <tr style=\"text-align: right;\">\n",
       "      <th></th>\n",
       "      <th>amount</th>\n",
       "    </tr>\n",
       "    <tr>\n",
       "      <th>country</th>\n",
       "      <th></th>\n",
       "    </tr>\n",
       "  </thead>\n",
       "  <tbody>\n",
       "    <tr>\n",
       "      <th>MEXICO</th>\n",
       "      <td>1.785266e+09</td>\n",
       "    </tr>\n",
       "    <tr>\n",
       "      <th>GUATEMALA</th>\n",
       "      <td>7.436570e+08</td>\n",
       "    </tr>\n",
       "    <tr>\n",
       "      <th>HONDURAS</th>\n",
       "      <td>1.904964e+08</td>\n",
       "    </tr>\n",
       "    <tr>\n",
       "      <th>EL SALVADOR</th>\n",
       "      <td>1.332057e+08</td>\n",
       "    </tr>\n",
       "    <tr>\n",
       "      <th>BRAZIL</th>\n",
       "      <td>8.362096e+07</td>\n",
       "    </tr>\n",
       "    <tr>\n",
       "      <th>PHILIPPINES</th>\n",
       "      <td>7.862193e+07</td>\n",
       "    </tr>\n",
       "    <tr>\n",
       "      <th>COLOMBIA</th>\n",
       "      <td>7.104991e+07</td>\n",
       "    </tr>\n",
       "    <tr>\n",
       "      <th>NICARAGUA</th>\n",
       "      <td>7.089073e+07</td>\n",
       "    </tr>\n",
       "    <tr>\n",
       "      <th>ECUADOR</th>\n",
       "      <td>5.055975e+07</td>\n",
       "    </tr>\n",
       "    <tr>\n",
       "      <th>DOMINICAN REPUBLIC</th>\n",
       "      <td>3.978332e+07</td>\n",
       "    </tr>\n",
       "    <tr>\n",
       "      <th>PERU</th>\n",
       "      <td>1.450672e+07</td>\n",
       "    </tr>\n",
       "    <tr>\n",
       "      <th>COSTA RICA</th>\n",
       "      <td>1.156538e+07</td>\n",
       "    </tr>\n",
       "    <tr>\n",
       "      <th>UNITED STATES</th>\n",
       "      <td>1.073125e+07</td>\n",
       "    </tr>\n",
       "    <tr>\n",
       "      <th>NIGERIA</th>\n",
       "      <td>5.216325e+06</td>\n",
       "    </tr>\n",
       "    <tr>\n",
       "      <th>HAITI</th>\n",
       "      <td>4.517883e+06</td>\n",
       "    </tr>\n",
       "    <tr>\n",
       "      <th>GHANA</th>\n",
       "      <td>3.251393e+06</td>\n",
       "    </tr>\n",
       "    <tr>\n",
       "      <th>INDONESIA</th>\n",
       "      <td>2.855687e+06</td>\n",
       "    </tr>\n",
       "    <tr>\n",
       "      <th>BOLIVIA</th>\n",
       "      <td>1.708909e+06</td>\n",
       "    </tr>\n",
       "    <tr>\n",
       "      <th>SIERRA LEONE</th>\n",
       "      <td>1.404024e+06</td>\n",
       "    </tr>\n",
       "    <tr>\n",
       "      <th>INDIA</th>\n",
       "      <td>9.822612e+05</td>\n",
       "    </tr>\n",
       "    <tr>\n",
       "      <th>SPAIN</th>\n",
       "      <td>5.004015e+05</td>\n",
       "    </tr>\n",
       "    <tr>\n",
       "      <th>CHILE</th>\n",
       "      <td>4.204349e+05</td>\n",
       "    </tr>\n",
       "    <tr>\n",
       "      <th>BANGLADESH</th>\n",
       "      <td>3.262669e+05</td>\n",
       "    </tr>\n",
       "    <tr>\n",
       "      <th>NEPAL</th>\n",
       "      <td>3.191042e+05</td>\n",
       "    </tr>\n",
       "    <tr>\n",
       "      <th>GUINEA</th>\n",
       "      <td>2.587103e+05</td>\n",
       "    </tr>\n",
       "    <tr>\n",
       "      <th>PORTUGAL</th>\n",
       "      <td>1.526970e+05</td>\n",
       "    </tr>\n",
       "    <tr>\n",
       "      <th>TOGO</th>\n",
       "      <td>1.515241e+05</td>\n",
       "    </tr>\n",
       "    <tr>\n",
       "      <th>BURKINA FASO</th>\n",
       "      <td>1.249301e+05</td>\n",
       "    </tr>\n",
       "    <tr>\n",
       "      <th>SENEGAL</th>\n",
       "      <td>1.092435e+05</td>\n",
       "    </tr>\n",
       "    <tr>\n",
       "      <th>CAMEROON</th>\n",
       "      <td>7.661683e+04</td>\n",
       "    </tr>\n",
       "    <tr>\n",
       "      <th>ARGENTINA</th>\n",
       "      <td>4.462787e+04</td>\n",
       "    </tr>\n",
       "    <tr>\n",
       "      <th>COTE D'IVOIRE (IVORY COAST)</th>\n",
       "      <td>4.307499e+04</td>\n",
       "    </tr>\n",
       "    <tr>\n",
       "      <th>GAMBIA, THE</th>\n",
       "      <td>3.853523e+04</td>\n",
       "    </tr>\n",
       "    <tr>\n",
       "      <th>BELGIUM</th>\n",
       "      <td>3.321156e+04</td>\n",
       "    </tr>\n",
       "    <tr>\n",
       "      <th>UNITED STATES (ATM &amp; DEPOSITS)</th>\n",
       "      <td>3.130324e+04</td>\n",
       "    </tr>\n",
       "    <tr>\n",
       "      <th>UNITED KINGDOM</th>\n",
       "      <td>2.947903e+04</td>\n",
       "    </tr>\n",
       "    <tr>\n",
       "      <th>LIBERIA</th>\n",
       "      <td>2.534400e+04</td>\n",
       "    </tr>\n",
       "    <tr>\n",
       "      <th>GERMANY</th>\n",
       "      <td>2.434256e+04</td>\n",
       "    </tr>\n",
       "    <tr>\n",
       "      <th>MALI</th>\n",
       "      <td>2.370846e+04</td>\n",
       "    </tr>\n",
       "    <tr>\n",
       "      <th>ITALY</th>\n",
       "      <td>2.219019e+04</td>\n",
       "    </tr>\n",
       "    <tr>\n",
       "      <th>FRANCE</th>\n",
       "      <td>1.322007e+04</td>\n",
       "    </tr>\n",
       "    <tr>\n",
       "      <th>JAMAICA</th>\n",
       "      <td>1.303520e+04</td>\n",
       "    </tr>\n",
       "    <tr>\n",
       "      <th>THAILAND</th>\n",
       "      <td>9.283740e+03</td>\n",
       "    </tr>\n",
       "    <tr>\n",
       "      <th>BENIN</th>\n",
       "      <td>4.930000e+03</td>\n",
       "    </tr>\n",
       "    <tr>\n",
       "      <th>MALAYSIA</th>\n",
       "      <td>1.287000e+03</td>\n",
       "    </tr>\n",
       "  </tbody>\n",
       "</table>\n",
       "</div>"
      ],
      "text/plain": [
       "                                      amount\n",
       "country                                     \n",
       "MEXICO                          1.785266e+09\n",
       "GUATEMALA                       7.436570e+08\n",
       "HONDURAS                        1.904964e+08\n",
       "EL SALVADOR                     1.332057e+08\n",
       "BRAZIL                          8.362096e+07\n",
       "PHILIPPINES                     7.862193e+07\n",
       "COLOMBIA                        7.104991e+07\n",
       "NICARAGUA                       7.089073e+07\n",
       "ECUADOR                         5.055975e+07\n",
       "DOMINICAN REPUBLIC              3.978332e+07\n",
       "PERU                            1.450672e+07\n",
       "COSTA RICA                      1.156538e+07\n",
       "UNITED STATES                   1.073125e+07\n",
       "NIGERIA                         5.216325e+06\n",
       "HAITI                           4.517883e+06\n",
       "GHANA                           3.251393e+06\n",
       "INDONESIA                       2.855687e+06\n",
       "BOLIVIA                         1.708909e+06\n",
       "SIERRA LEONE                    1.404024e+06\n",
       "INDIA                           9.822612e+05\n",
       "SPAIN                           5.004015e+05\n",
       "CHILE                           4.204349e+05\n",
       "BANGLADESH                      3.262669e+05\n",
       "NEPAL                           3.191042e+05\n",
       "GUINEA                          2.587103e+05\n",
       "PORTUGAL                        1.526970e+05\n",
       "TOGO                            1.515241e+05\n",
       "BURKINA FASO                    1.249301e+05\n",
       "SENEGAL                         1.092435e+05\n",
       "CAMEROON                        7.661683e+04\n",
       "ARGENTINA                       4.462787e+04\n",
       "COTE D'IVOIRE (IVORY COAST)     4.307499e+04\n",
       "GAMBIA, THE                     3.853523e+04\n",
       "BELGIUM                         3.321156e+04\n",
       "UNITED STATES (ATM & DEPOSITS)  3.130324e+04\n",
       "UNITED KINGDOM                  2.947903e+04\n",
       "LIBERIA                         2.534400e+04\n",
       "GERMANY                         2.434256e+04\n",
       "MALI                            2.370846e+04\n",
       "ITALY                           2.219019e+04\n",
       "FRANCE                          1.322007e+04\n",
       "JAMAICA                         1.303520e+04\n",
       "THAILAND                        9.283740e+03\n",
       "BENIN                           4.930000e+03\n",
       "MALAYSIA                        1.287000e+03"
      ]
     },
     "execution_count": 80,
     "metadata": {},
     "output_type": "execute_result"
    }
   ],
   "source": [
    "df_amount_country.sort_values('amount', ascending=False)"
   ]
  },
  {
   "cell_type": "code",
   "execution_count": 81,
   "id": "6d9387af-5a92-4748-aa7d-184730abc2ec",
   "metadata": {
    "tags": []
   },
   "outputs": [],
   "source": [
    "total_amount = df_amount_country['amount'].sum()\n",
    "df_amount_country['percentage'] = (df_amount_country['amount'] / total_amount) * 100"
   ]
  },
  {
   "cell_type": "code",
   "execution_count": 82,
   "id": "f3444410-a81a-4074-a9d0-d2b67d12b25c",
   "metadata": {
    "tags": []
   },
   "outputs": [
    {
     "data": {
      "text/html": [
       "<div>\n",
       "<style scoped>\n",
       "    .dataframe tbody tr th:only-of-type {\n",
       "        vertical-align: middle;\n",
       "    }\n",
       "\n",
       "    .dataframe tbody tr th {\n",
       "        vertical-align: top;\n",
       "    }\n",
       "\n",
       "    .dataframe thead th {\n",
       "        text-align: right;\n",
       "    }\n",
       "</style>\n",
       "<table border=\"1\" class=\"dataframe\">\n",
       "  <thead>\n",
       "    <tr style=\"text-align: right;\">\n",
       "      <th></th>\n",
       "      <th>amount</th>\n",
       "      <th>percentage</th>\n",
       "    </tr>\n",
       "    <tr>\n",
       "      <th>country</th>\n",
       "      <th></th>\n",
       "      <th></th>\n",
       "    </tr>\n",
       "  </thead>\n",
       "  <tbody>\n",
       "    <tr>\n",
       "      <th>MEXICO</th>\n",
       "      <td>1.785266e+09</td>\n",
       "      <td>53.989537</td>\n",
       "    </tr>\n",
       "    <tr>\n",
       "      <th>GUATEMALA</th>\n",
       "      <td>7.436570e+08</td>\n",
       "      <td>22.489473</td>\n",
       "    </tr>\n",
       "    <tr>\n",
       "      <th>HONDURAS</th>\n",
       "      <td>1.904964e+08</td>\n",
       "      <td>5.760939</td>\n",
       "    </tr>\n",
       "    <tr>\n",
       "      <th>EL SALVADOR</th>\n",
       "      <td>1.332057e+08</td>\n",
       "      <td>4.028371</td>\n",
       "    </tr>\n",
       "    <tr>\n",
       "      <th>BRAZIL</th>\n",
       "      <td>8.362096e+07</td>\n",
       "      <td>2.528842</td>\n",
       "    </tr>\n",
       "    <tr>\n",
       "      <th>PHILIPPINES</th>\n",
       "      <td>7.862193e+07</td>\n",
       "      <td>2.377663</td>\n",
       "    </tr>\n",
       "    <tr>\n",
       "      <th>COLOMBIA</th>\n",
       "      <td>7.104991e+07</td>\n",
       "      <td>2.148672</td>\n",
       "    </tr>\n",
       "    <tr>\n",
       "      <th>NICARAGUA</th>\n",
       "      <td>7.089073e+07</td>\n",
       "      <td>2.143858</td>\n",
       "    </tr>\n",
       "    <tr>\n",
       "      <th>ECUADOR</th>\n",
       "      <td>5.055975e+07</td>\n",
       "      <td>1.529014</td>\n",
       "    </tr>\n",
       "    <tr>\n",
       "      <th>DOMINICAN REPUBLIC</th>\n",
       "      <td>3.978332e+07</td>\n",
       "      <td>1.203116</td>\n",
       "    </tr>\n",
       "    <tr>\n",
       "      <th>PERU</th>\n",
       "      <td>1.450672e+07</td>\n",
       "      <td>0.438708</td>\n",
       "    </tr>\n",
       "    <tr>\n",
       "      <th>COSTA RICA</th>\n",
       "      <td>1.156538e+07</td>\n",
       "      <td>0.349757</td>\n",
       "    </tr>\n",
       "    <tr>\n",
       "      <th>UNITED STATES</th>\n",
       "      <td>1.073125e+07</td>\n",
       "      <td>0.324532</td>\n",
       "    </tr>\n",
       "    <tr>\n",
       "      <th>NIGERIA</th>\n",
       "      <td>5.216325e+06</td>\n",
       "      <td>0.157751</td>\n",
       "    </tr>\n",
       "    <tr>\n",
       "      <th>HAITI</th>\n",
       "      <td>4.517883e+06</td>\n",
       "      <td>0.136629</td>\n",
       "    </tr>\n",
       "    <tr>\n",
       "      <th>GHANA</th>\n",
       "      <td>3.251393e+06</td>\n",
       "      <td>0.098328</td>\n",
       "    </tr>\n",
       "    <tr>\n",
       "      <th>INDONESIA</th>\n",
       "      <td>2.855687e+06</td>\n",
       "      <td>0.086361</td>\n",
       "    </tr>\n",
       "    <tr>\n",
       "      <th>BOLIVIA</th>\n",
       "      <td>1.708909e+06</td>\n",
       "      <td>0.051680</td>\n",
       "    </tr>\n",
       "    <tr>\n",
       "      <th>SIERRA LEONE</th>\n",
       "      <td>1.404024e+06</td>\n",
       "      <td>0.042460</td>\n",
       "    </tr>\n",
       "    <tr>\n",
       "      <th>INDIA</th>\n",
       "      <td>9.822612e+05</td>\n",
       "      <td>0.029705</td>\n",
       "    </tr>\n",
       "    <tr>\n",
       "      <th>SPAIN</th>\n",
       "      <td>5.004015e+05</td>\n",
       "      <td>0.015133</td>\n",
       "    </tr>\n",
       "    <tr>\n",
       "      <th>CHILE</th>\n",
       "      <td>4.204349e+05</td>\n",
       "      <td>0.012715</td>\n",
       "    </tr>\n",
       "    <tr>\n",
       "      <th>BANGLADESH</th>\n",
       "      <td>3.262669e+05</td>\n",
       "      <td>0.009867</td>\n",
       "    </tr>\n",
       "    <tr>\n",
       "      <th>NEPAL</th>\n",
       "      <td>3.191042e+05</td>\n",
       "      <td>0.009650</td>\n",
       "    </tr>\n",
       "    <tr>\n",
       "      <th>GUINEA</th>\n",
       "      <td>2.587103e+05</td>\n",
       "      <td>0.007824</td>\n",
       "    </tr>\n",
       "    <tr>\n",
       "      <th>PORTUGAL</th>\n",
       "      <td>1.526970e+05</td>\n",
       "      <td>0.004618</td>\n",
       "    </tr>\n",
       "    <tr>\n",
       "      <th>TOGO</th>\n",
       "      <td>1.515241e+05</td>\n",
       "      <td>0.004582</td>\n",
       "    </tr>\n",
       "    <tr>\n",
       "      <th>BURKINA FASO</th>\n",
       "      <td>1.249301e+05</td>\n",
       "      <td>0.003778</td>\n",
       "    </tr>\n",
       "    <tr>\n",
       "      <th>SENEGAL</th>\n",
       "      <td>1.092435e+05</td>\n",
       "      <td>0.003304</td>\n",
       "    </tr>\n",
       "    <tr>\n",
       "      <th>CAMEROON</th>\n",
       "      <td>7.661683e+04</td>\n",
       "      <td>0.002317</td>\n",
       "    </tr>\n",
       "    <tr>\n",
       "      <th>ARGENTINA</th>\n",
       "      <td>4.462787e+04</td>\n",
       "      <td>0.001350</td>\n",
       "    </tr>\n",
       "    <tr>\n",
       "      <th>COTE D'IVOIRE (IVORY COAST)</th>\n",
       "      <td>4.307499e+04</td>\n",
       "      <td>0.001303</td>\n",
       "    </tr>\n",
       "    <tr>\n",
       "      <th>GAMBIA, THE</th>\n",
       "      <td>3.853523e+04</td>\n",
       "      <td>0.001165</td>\n",
       "    </tr>\n",
       "    <tr>\n",
       "      <th>BELGIUM</th>\n",
       "      <td>3.321156e+04</td>\n",
       "      <td>0.001004</td>\n",
       "    </tr>\n",
       "    <tr>\n",
       "      <th>UNITED STATES (ATM &amp; DEPOSITS)</th>\n",
       "      <td>3.130324e+04</td>\n",
       "      <td>0.000947</td>\n",
       "    </tr>\n",
       "    <tr>\n",
       "      <th>UNITED KINGDOM</th>\n",
       "      <td>2.947903e+04</td>\n",
       "      <td>0.000891</td>\n",
       "    </tr>\n",
       "    <tr>\n",
       "      <th>LIBERIA</th>\n",
       "      <td>2.534400e+04</td>\n",
       "      <td>0.000766</td>\n",
       "    </tr>\n",
       "    <tr>\n",
       "      <th>GERMANY</th>\n",
       "      <td>2.434256e+04</td>\n",
       "      <td>0.000736</td>\n",
       "    </tr>\n",
       "    <tr>\n",
       "      <th>MALI</th>\n",
       "      <td>2.370846e+04</td>\n",
       "      <td>0.000717</td>\n",
       "    </tr>\n",
       "    <tr>\n",
       "      <th>ITALY</th>\n",
       "      <td>2.219019e+04</td>\n",
       "      <td>0.000671</td>\n",
       "    </tr>\n",
       "    <tr>\n",
       "      <th>FRANCE</th>\n",
       "      <td>1.322007e+04</td>\n",
       "      <td>0.000400</td>\n",
       "    </tr>\n",
       "    <tr>\n",
       "      <th>JAMAICA</th>\n",
       "      <td>1.303520e+04</td>\n",
       "      <td>0.000394</td>\n",
       "    </tr>\n",
       "    <tr>\n",
       "      <th>THAILAND</th>\n",
       "      <td>9.283740e+03</td>\n",
       "      <td>0.000281</td>\n",
       "    </tr>\n",
       "    <tr>\n",
       "      <th>BENIN</th>\n",
       "      <td>4.930000e+03</td>\n",
       "      <td>0.000149</td>\n",
       "    </tr>\n",
       "    <tr>\n",
       "      <th>MALAYSIA</th>\n",
       "      <td>1.287000e+03</td>\n",
       "      <td>0.000039</td>\n",
       "    </tr>\n",
       "  </tbody>\n",
       "</table>\n",
       "</div>"
      ],
      "text/plain": [
       "                                      amount  percentage\n",
       "country                                                 \n",
       "MEXICO                          1.785266e+09   53.989537\n",
       "GUATEMALA                       7.436570e+08   22.489473\n",
       "HONDURAS                        1.904964e+08    5.760939\n",
       "EL SALVADOR                     1.332057e+08    4.028371\n",
       "BRAZIL                          8.362096e+07    2.528842\n",
       "PHILIPPINES                     7.862193e+07    2.377663\n",
       "COLOMBIA                        7.104991e+07    2.148672\n",
       "NICARAGUA                       7.089073e+07    2.143858\n",
       "ECUADOR                         5.055975e+07    1.529014\n",
       "DOMINICAN REPUBLIC              3.978332e+07    1.203116\n",
       "PERU                            1.450672e+07    0.438708\n",
       "COSTA RICA                      1.156538e+07    0.349757\n",
       "UNITED STATES                   1.073125e+07    0.324532\n",
       "NIGERIA                         5.216325e+06    0.157751\n",
       "HAITI                           4.517883e+06    0.136629\n",
       "GHANA                           3.251393e+06    0.098328\n",
       "INDONESIA                       2.855687e+06    0.086361\n",
       "BOLIVIA                         1.708909e+06    0.051680\n",
       "SIERRA LEONE                    1.404024e+06    0.042460\n",
       "INDIA                           9.822612e+05    0.029705\n",
       "SPAIN                           5.004015e+05    0.015133\n",
       "CHILE                           4.204349e+05    0.012715\n",
       "BANGLADESH                      3.262669e+05    0.009867\n",
       "NEPAL                           3.191042e+05    0.009650\n",
       "GUINEA                          2.587103e+05    0.007824\n",
       "PORTUGAL                        1.526970e+05    0.004618\n",
       "TOGO                            1.515241e+05    0.004582\n",
       "BURKINA FASO                    1.249301e+05    0.003778\n",
       "SENEGAL                         1.092435e+05    0.003304\n",
       "CAMEROON                        7.661683e+04    0.002317\n",
       "ARGENTINA                       4.462787e+04    0.001350\n",
       "COTE D'IVOIRE (IVORY COAST)     4.307499e+04    0.001303\n",
       "GAMBIA, THE                     3.853523e+04    0.001165\n",
       "BELGIUM                         3.321156e+04    0.001004\n",
       "UNITED STATES (ATM & DEPOSITS)  3.130324e+04    0.000947\n",
       "UNITED KINGDOM                  2.947903e+04    0.000891\n",
       "LIBERIA                         2.534400e+04    0.000766\n",
       "GERMANY                         2.434256e+04    0.000736\n",
       "MALI                            2.370846e+04    0.000717\n",
       "ITALY                           2.219019e+04    0.000671\n",
       "FRANCE                          1.322007e+04    0.000400\n",
       "JAMAICA                         1.303520e+04    0.000394\n",
       "THAILAND                        9.283740e+03    0.000281\n",
       "BENIN                           4.930000e+03    0.000149\n",
       "MALAYSIA                        1.287000e+03    0.000039"
      ]
     },
     "execution_count": 82,
     "metadata": {},
     "output_type": "execute_result"
    }
   ],
   "source": [
    "df_amount_country.sort_values('amount', ascending=False)"
   ]
  },
  {
   "cell_type": "code",
   "execution_count": null,
   "id": "47da1aae-24be-4ab5-ba9a-bf13748dc6e8",
   "metadata": {},
   "outputs": [],
   "source": []
  },
  {
   "cell_type": "code",
   "execution_count": null,
   "id": "026fe45b-3a48-464d-b65f-c2ba21914614",
   "metadata": {},
   "outputs": [],
   "source": []
  },
  {
   "cell_type": "code",
   "execution_count": null,
   "id": "89dd5751-a34f-4729-84af-435bc65ded1d",
   "metadata": {},
   "outputs": [],
   "source": []
  },
  {
   "cell_type": "code",
   "execution_count": 72,
   "id": "e5041565-0997-4cad-9f0e-64c72fffe058",
   "metadata": {
    "tags": []
   },
   "outputs": [
    {
     "data": {
      "text/plain": [
       "173"
      ]
     },
     "execution_count": 72,
     "metadata": {},
     "output_type": "execute_result"
    }
   ],
   "source": [
    "###ACTIVOS A ALGUN MES SELECCIONADO##\n",
    "df_control= df.loc[(df.date>='2023-09-30') & (df.date<='2023-10-21')]\n",
    "df_control.payer_country.nunique()"
   ]
  },
  {
   "cell_type": "code",
   "execution_count": null,
   "id": "f258c50c-253f-4c0a-ba86-ed4208b7c2a1",
   "metadata": {
    "tags": []
   },
   "outputs": [],
   "source": []
  },
  {
   "cell_type": "code",
   "execution_count": null,
   "id": "f3f9dd69-2560-458d-9bbe-4afbcb92ef21",
   "metadata": {
    "tags": []
   },
   "outputs": [],
   "source": []
  },
  {
   "cell_type": "code",
   "execution_count": null,
   "id": "ba88346b-ea0c-4111-a690-68e9606ae785",
   "metadata": {
    "tags": []
   },
   "outputs": [],
   "source": []
  },
  {
   "cell_type": "code",
   "execution_count": null,
   "id": "471b0b9a-c362-4576-b07e-bda0876c516d",
   "metadata": {
    "tags": []
   },
   "outputs": [],
   "source": []
  },
  {
   "cell_type": "code",
   "execution_count": null,
   "id": "ad37ac6c-c413-4ee1-9d09-7c7f54755938",
   "metadata": {},
   "outputs": [],
   "source": []
  },
  {
   "cell_type": "code",
   "execution_count": null,
   "id": "abec5b24-252c-44b9-9217-e003966e56f2",
   "metadata": {},
   "outputs": [],
   "source": []
  },
  {
   "cell_type": "code",
   "execution_count": null,
   "id": "7f7c3d1b-8c7e-4924-b6d8-71964ce77a56",
   "metadata": {},
   "outputs": [],
   "source": []
  },
  {
   "cell_type": "code",
   "execution_count": null,
   "id": "9bda6cab-bbda-475c-bef8-02e1649e24bc",
   "metadata": {},
   "outputs": [],
   "source": []
  },
  {
   "cell_type": "code",
   "execution_count": null,
   "id": "8a9c8f81-59c1-47eb-856e-c0cd00664d68",
   "metadata": {},
   "outputs": [],
   "source": []
  },
  {
   "cell_type": "code",
   "execution_count": null,
   "id": "22eda5d8-4ee3-4485-afc8-2c405cc36c06",
   "metadata": {},
   "outputs": [],
   "source": []
  },
  {
   "cell_type": "code",
   "execution_count": null,
   "id": "b72272be-16d7-40ab-9523-7fb441d569e4",
   "metadata": {},
   "outputs": [],
   "source": []
  },
  {
   "cell_type": "code",
   "execution_count": null,
   "id": "30600f90-b6c4-4a6c-93dd-b59e85dd5fc6",
   "metadata": {},
   "outputs": [],
   "source": []
  },
  {
   "cell_type": "code",
   "execution_count": null,
   "id": "3b8982b9-392e-4e92-bdea-4024d11e69f0",
   "metadata": {},
   "outputs": [],
   "source": []
  },
  {
   "cell_type": "code",
   "execution_count": null,
   "id": "4f0b1d34-c556-4291-877c-44c01597511c",
   "metadata": {},
   "outputs": [],
   "source": []
  },
  {
   "cell_type": "code",
   "execution_count": null,
   "id": "28a66485-b96c-4661-a8f0-01c87429a2e6",
   "metadata": {},
   "outputs": [],
   "source": []
  },
  {
   "cell_type": "code",
   "execution_count": null,
   "id": "e51f563d-5887-4549-96a6-69d3378e0460",
   "metadata": {},
   "outputs": [],
   "source": []
  },
  {
   "cell_type": "code",
   "execution_count": null,
   "id": "f9f3b4be-5345-4b94-92fd-e3ecabc78f35",
   "metadata": {},
   "outputs": [],
   "source": []
  },
  {
   "cell_type": "code",
   "execution_count": null,
   "id": "368b7e21-6bc2-4dba-9b00-3e1ff22b66fe",
   "metadata": {},
   "outputs": [],
   "source": []
  },
  {
   "cell_type": "code",
   "execution_count": null,
   "id": "6b63f7dc-267e-48bb-9516-7c0122f33370",
   "metadata": {},
   "outputs": [],
   "source": []
  },
  {
   "cell_type": "code",
   "execution_count": null,
   "id": "dd6925c3-66fc-437d-be60-952357f97458",
   "metadata": {},
   "outputs": [],
   "source": []
  },
  {
   "cell_type": "code",
   "execution_count": null,
   "id": "9846cad8-69d7-48e9-9c0f-317330b6904c",
   "metadata": {},
   "outputs": [],
   "source": []
  },
  {
   "cell_type": "code",
   "execution_count": null,
   "id": "c35acf1e-8ba9-4b1d-9f32-3857e968ddde",
   "metadata": {},
   "outputs": [],
   "source": []
  },
  {
   "cell_type": "code",
   "execution_count": null,
   "id": "1f4d08b4-804a-4771-8e78-5420ba8583f0",
   "metadata": {},
   "outputs": [],
   "source": []
  },
  {
   "cell_type": "code",
   "execution_count": null,
   "id": "e215fe88-efca-48c5-8aea-ac8d9ec37082",
   "metadata": {},
   "outputs": [],
   "source": []
  },
  {
   "cell_type": "code",
   "execution_count": null,
   "id": "d5fc3b8b-03e1-4b6d-b185-bbe29c1c2213",
   "metadata": {},
   "outputs": [],
   "source": []
  },
  {
   "cell_type": "code",
   "execution_count": 245,
   "id": "49ab50fc-e568-46e3-9cab-9bc03da83c3e",
   "metadata": {},
   "outputs": [],
   "source": []
  },
  {
   "cell_type": "code",
   "execution_count": null,
   "id": "9790da36-4539-471e-a5b2-e6496ced0919",
   "metadata": {},
   "outputs": [],
   "source": []
  },
  {
   "cell_type": "code",
   "execution_count": null,
   "id": "3c455fba-e3ab-4571-abce-98572e18313c",
   "metadata": {},
   "outputs": [],
   "source": []
  },
  {
   "cell_type": "code",
   "execution_count": null,
   "id": "63cabacd-5996-41f9-9568-2abfac21d009",
   "metadata": {},
   "outputs": [],
   "source": []
  },
  {
   "cell_type": "code",
   "execution_count": 102,
   "id": "f49565f3-3435-4406-aeda-c29bc9ae7c36",
   "metadata": {},
   "outputs": [],
   "source": []
  },
  {
   "cell_type": "code",
   "execution_count": null,
   "id": "a222fb96-6eaa-4e6c-9fe9-d8f20806f9a9",
   "metadata": {},
   "outputs": [],
   "source": []
  },
  {
   "cell_type": "code",
   "execution_count": null,
   "id": "a97027a4-aab8-415a-99e6-a1db3429f4d0",
   "metadata": {},
   "outputs": [],
   "source": []
  },
  {
   "cell_type": "code",
   "execution_count": null,
   "id": "438fbc62-d0b3-4f1f-80ac-f827a9363cc2",
   "metadata": {},
   "outputs": [],
   "source": []
  },
  {
   "cell_type": "code",
   "execution_count": null,
   "id": "8a4fcbdb-92a9-42df-b4e9-ba6f7ba491b5",
   "metadata": {},
   "outputs": [],
   "source": []
  }
 ],
 "metadata": {
  "availableInstances": [
   {
    "_defaultOrder": 0,
    "_isFastLaunch": true,
    "category": "General purpose",
    "gpuNum": 0,
    "hideHardwareSpecs": false,
    "memoryGiB": 4,
    "name": "ml.t3.medium",
    "vcpuNum": 2
   },
   {
    "_defaultOrder": 1,
    "_isFastLaunch": false,
    "category": "General purpose",
    "gpuNum": 0,
    "hideHardwareSpecs": false,
    "memoryGiB": 8,
    "name": "ml.t3.large",
    "vcpuNum": 2
   },
   {
    "_defaultOrder": 2,
    "_isFastLaunch": false,
    "category": "General purpose",
    "gpuNum": 0,
    "hideHardwareSpecs": false,
    "memoryGiB": 16,
    "name": "ml.t3.xlarge",
    "vcpuNum": 4
   },
   {
    "_defaultOrder": 3,
    "_isFastLaunch": false,
    "category": "General purpose",
    "gpuNum": 0,
    "hideHardwareSpecs": false,
    "memoryGiB": 32,
    "name": "ml.t3.2xlarge",
    "vcpuNum": 8
   },
   {
    "_defaultOrder": 4,
    "_isFastLaunch": true,
    "category": "General purpose",
    "gpuNum": 0,
    "hideHardwareSpecs": false,
    "memoryGiB": 8,
    "name": "ml.m5.large",
    "vcpuNum": 2
   },
   {
    "_defaultOrder": 5,
    "_isFastLaunch": false,
    "category": "General purpose",
    "gpuNum": 0,
    "hideHardwareSpecs": false,
    "memoryGiB": 16,
    "name": "ml.m5.xlarge",
    "vcpuNum": 4
   },
   {
    "_defaultOrder": 6,
    "_isFastLaunch": false,
    "category": "General purpose",
    "gpuNum": 0,
    "hideHardwareSpecs": false,
    "memoryGiB": 32,
    "name": "ml.m5.2xlarge",
    "vcpuNum": 8
   },
   {
    "_defaultOrder": 7,
    "_isFastLaunch": false,
    "category": "General purpose",
    "gpuNum": 0,
    "hideHardwareSpecs": false,
    "memoryGiB": 64,
    "name": "ml.m5.4xlarge",
    "vcpuNum": 16
   },
   {
    "_defaultOrder": 8,
    "_isFastLaunch": false,
    "category": "General purpose",
    "gpuNum": 0,
    "hideHardwareSpecs": false,
    "memoryGiB": 128,
    "name": "ml.m5.8xlarge",
    "vcpuNum": 32
   },
   {
    "_defaultOrder": 9,
    "_isFastLaunch": false,
    "category": "General purpose",
    "gpuNum": 0,
    "hideHardwareSpecs": false,
    "memoryGiB": 192,
    "name": "ml.m5.12xlarge",
    "vcpuNum": 48
   },
   {
    "_defaultOrder": 10,
    "_isFastLaunch": false,
    "category": "General purpose",
    "gpuNum": 0,
    "hideHardwareSpecs": false,
    "memoryGiB": 256,
    "name": "ml.m5.16xlarge",
    "vcpuNum": 64
   },
   {
    "_defaultOrder": 11,
    "_isFastLaunch": false,
    "category": "General purpose",
    "gpuNum": 0,
    "hideHardwareSpecs": false,
    "memoryGiB": 384,
    "name": "ml.m5.24xlarge",
    "vcpuNum": 96
   },
   {
    "_defaultOrder": 12,
    "_isFastLaunch": false,
    "category": "General purpose",
    "gpuNum": 0,
    "hideHardwareSpecs": false,
    "memoryGiB": 8,
    "name": "ml.m5d.large",
    "vcpuNum": 2
   },
   {
    "_defaultOrder": 13,
    "_isFastLaunch": false,
    "category": "General purpose",
    "gpuNum": 0,
    "hideHardwareSpecs": false,
    "memoryGiB": 16,
    "name": "ml.m5d.xlarge",
    "vcpuNum": 4
   },
   {
    "_defaultOrder": 14,
    "_isFastLaunch": false,
    "category": "General purpose",
    "gpuNum": 0,
    "hideHardwareSpecs": false,
    "memoryGiB": 32,
    "name": "ml.m5d.2xlarge",
    "vcpuNum": 8
   },
   {
    "_defaultOrder": 15,
    "_isFastLaunch": false,
    "category": "General purpose",
    "gpuNum": 0,
    "hideHardwareSpecs": false,
    "memoryGiB": 64,
    "name": "ml.m5d.4xlarge",
    "vcpuNum": 16
   },
   {
    "_defaultOrder": 16,
    "_isFastLaunch": false,
    "category": "General purpose",
    "gpuNum": 0,
    "hideHardwareSpecs": false,
    "memoryGiB": 128,
    "name": "ml.m5d.8xlarge",
    "vcpuNum": 32
   },
   {
    "_defaultOrder": 17,
    "_isFastLaunch": false,
    "category": "General purpose",
    "gpuNum": 0,
    "hideHardwareSpecs": false,
    "memoryGiB": 192,
    "name": "ml.m5d.12xlarge",
    "vcpuNum": 48
   },
   {
    "_defaultOrder": 18,
    "_isFastLaunch": false,
    "category": "General purpose",
    "gpuNum": 0,
    "hideHardwareSpecs": false,
    "memoryGiB": 256,
    "name": "ml.m5d.16xlarge",
    "vcpuNum": 64
   },
   {
    "_defaultOrder": 19,
    "_isFastLaunch": false,
    "category": "General purpose",
    "gpuNum": 0,
    "hideHardwareSpecs": false,
    "memoryGiB": 384,
    "name": "ml.m5d.24xlarge",
    "vcpuNum": 96
   },
   {
    "_defaultOrder": 20,
    "_isFastLaunch": false,
    "category": "General purpose",
    "gpuNum": 0,
    "hideHardwareSpecs": true,
    "memoryGiB": 0,
    "name": "ml.geospatial.interactive",
    "supportedImageNames": [
     "sagemaker-geospatial-v1-0"
    ],
    "vcpuNum": 0
   },
   {
    "_defaultOrder": 21,
    "_isFastLaunch": true,
    "category": "Compute optimized",
    "gpuNum": 0,
    "hideHardwareSpecs": false,
    "memoryGiB": 4,
    "name": "ml.c5.large",
    "vcpuNum": 2
   },
   {
    "_defaultOrder": 22,
    "_isFastLaunch": false,
    "category": "Compute optimized",
    "gpuNum": 0,
    "hideHardwareSpecs": false,
    "memoryGiB": 8,
    "name": "ml.c5.xlarge",
    "vcpuNum": 4
   },
   {
    "_defaultOrder": 23,
    "_isFastLaunch": false,
    "category": "Compute optimized",
    "gpuNum": 0,
    "hideHardwareSpecs": false,
    "memoryGiB": 16,
    "name": "ml.c5.2xlarge",
    "vcpuNum": 8
   },
   {
    "_defaultOrder": 24,
    "_isFastLaunch": false,
    "category": "Compute optimized",
    "gpuNum": 0,
    "hideHardwareSpecs": false,
    "memoryGiB": 32,
    "name": "ml.c5.4xlarge",
    "vcpuNum": 16
   },
   {
    "_defaultOrder": 25,
    "_isFastLaunch": false,
    "category": "Compute optimized",
    "gpuNum": 0,
    "hideHardwareSpecs": false,
    "memoryGiB": 72,
    "name": "ml.c5.9xlarge",
    "vcpuNum": 36
   },
   {
    "_defaultOrder": 26,
    "_isFastLaunch": false,
    "category": "Compute optimized",
    "gpuNum": 0,
    "hideHardwareSpecs": false,
    "memoryGiB": 96,
    "name": "ml.c5.12xlarge",
    "vcpuNum": 48
   },
   {
    "_defaultOrder": 27,
    "_isFastLaunch": false,
    "category": "Compute optimized",
    "gpuNum": 0,
    "hideHardwareSpecs": false,
    "memoryGiB": 144,
    "name": "ml.c5.18xlarge",
    "vcpuNum": 72
   },
   {
    "_defaultOrder": 28,
    "_isFastLaunch": false,
    "category": "Compute optimized",
    "gpuNum": 0,
    "hideHardwareSpecs": false,
    "memoryGiB": 192,
    "name": "ml.c5.24xlarge",
    "vcpuNum": 96
   },
   {
    "_defaultOrder": 29,
    "_isFastLaunch": true,
    "category": "Accelerated computing",
    "gpuNum": 1,
    "hideHardwareSpecs": false,
    "memoryGiB": 16,
    "name": "ml.g4dn.xlarge",
    "vcpuNum": 4
   },
   {
    "_defaultOrder": 30,
    "_isFastLaunch": false,
    "category": "Accelerated computing",
    "gpuNum": 1,
    "hideHardwareSpecs": false,
    "memoryGiB": 32,
    "name": "ml.g4dn.2xlarge",
    "vcpuNum": 8
   },
   {
    "_defaultOrder": 31,
    "_isFastLaunch": false,
    "category": "Accelerated computing",
    "gpuNum": 1,
    "hideHardwareSpecs": false,
    "memoryGiB": 64,
    "name": "ml.g4dn.4xlarge",
    "vcpuNum": 16
   },
   {
    "_defaultOrder": 32,
    "_isFastLaunch": false,
    "category": "Accelerated computing",
    "gpuNum": 1,
    "hideHardwareSpecs": false,
    "memoryGiB": 128,
    "name": "ml.g4dn.8xlarge",
    "vcpuNum": 32
   },
   {
    "_defaultOrder": 33,
    "_isFastLaunch": false,
    "category": "Accelerated computing",
    "gpuNum": 4,
    "hideHardwareSpecs": false,
    "memoryGiB": 192,
    "name": "ml.g4dn.12xlarge",
    "vcpuNum": 48
   },
   {
    "_defaultOrder": 34,
    "_isFastLaunch": false,
    "category": "Accelerated computing",
    "gpuNum": 1,
    "hideHardwareSpecs": false,
    "memoryGiB": 256,
    "name": "ml.g4dn.16xlarge",
    "vcpuNum": 64
   },
   {
    "_defaultOrder": 35,
    "_isFastLaunch": false,
    "category": "Accelerated computing",
    "gpuNum": 1,
    "hideHardwareSpecs": false,
    "memoryGiB": 61,
    "name": "ml.p3.2xlarge",
    "vcpuNum": 8
   },
   {
    "_defaultOrder": 36,
    "_isFastLaunch": false,
    "category": "Accelerated computing",
    "gpuNum": 4,
    "hideHardwareSpecs": false,
    "memoryGiB": 244,
    "name": "ml.p3.8xlarge",
    "vcpuNum": 32
   },
   {
    "_defaultOrder": 37,
    "_isFastLaunch": false,
    "category": "Accelerated computing",
    "gpuNum": 8,
    "hideHardwareSpecs": false,
    "memoryGiB": 488,
    "name": "ml.p3.16xlarge",
    "vcpuNum": 64
   },
   {
    "_defaultOrder": 38,
    "_isFastLaunch": false,
    "category": "Accelerated computing",
    "gpuNum": 8,
    "hideHardwareSpecs": false,
    "memoryGiB": 768,
    "name": "ml.p3dn.24xlarge",
    "vcpuNum": 96
   },
   {
    "_defaultOrder": 39,
    "_isFastLaunch": false,
    "category": "Memory Optimized",
    "gpuNum": 0,
    "hideHardwareSpecs": false,
    "memoryGiB": 16,
    "name": "ml.r5.large",
    "vcpuNum": 2
   },
   {
    "_defaultOrder": 40,
    "_isFastLaunch": false,
    "category": "Memory Optimized",
    "gpuNum": 0,
    "hideHardwareSpecs": false,
    "memoryGiB": 32,
    "name": "ml.r5.xlarge",
    "vcpuNum": 4
   },
   {
    "_defaultOrder": 41,
    "_isFastLaunch": false,
    "category": "Memory Optimized",
    "gpuNum": 0,
    "hideHardwareSpecs": false,
    "memoryGiB": 64,
    "name": "ml.r5.2xlarge",
    "vcpuNum": 8
   },
   {
    "_defaultOrder": 42,
    "_isFastLaunch": false,
    "category": "Memory Optimized",
    "gpuNum": 0,
    "hideHardwareSpecs": false,
    "memoryGiB": 128,
    "name": "ml.r5.4xlarge",
    "vcpuNum": 16
   },
   {
    "_defaultOrder": 43,
    "_isFastLaunch": false,
    "category": "Memory Optimized",
    "gpuNum": 0,
    "hideHardwareSpecs": false,
    "memoryGiB": 256,
    "name": "ml.r5.8xlarge",
    "vcpuNum": 32
   },
   {
    "_defaultOrder": 44,
    "_isFastLaunch": false,
    "category": "Memory Optimized",
    "gpuNum": 0,
    "hideHardwareSpecs": false,
    "memoryGiB": 384,
    "name": "ml.r5.12xlarge",
    "vcpuNum": 48
   },
   {
    "_defaultOrder": 45,
    "_isFastLaunch": false,
    "category": "Memory Optimized",
    "gpuNum": 0,
    "hideHardwareSpecs": false,
    "memoryGiB": 512,
    "name": "ml.r5.16xlarge",
    "vcpuNum": 64
   },
   {
    "_defaultOrder": 46,
    "_isFastLaunch": false,
    "category": "Memory Optimized",
    "gpuNum": 0,
    "hideHardwareSpecs": false,
    "memoryGiB": 768,
    "name": "ml.r5.24xlarge",
    "vcpuNum": 96
   },
   {
    "_defaultOrder": 47,
    "_isFastLaunch": false,
    "category": "Accelerated computing",
    "gpuNum": 1,
    "hideHardwareSpecs": false,
    "memoryGiB": 16,
    "name": "ml.g5.xlarge",
    "vcpuNum": 4
   },
   {
    "_defaultOrder": 48,
    "_isFastLaunch": false,
    "category": "Accelerated computing",
    "gpuNum": 1,
    "hideHardwareSpecs": false,
    "memoryGiB": 32,
    "name": "ml.g5.2xlarge",
    "vcpuNum": 8
   },
   {
    "_defaultOrder": 49,
    "_isFastLaunch": false,
    "category": "Accelerated computing",
    "gpuNum": 1,
    "hideHardwareSpecs": false,
    "memoryGiB": 64,
    "name": "ml.g5.4xlarge",
    "vcpuNum": 16
   },
   {
    "_defaultOrder": 50,
    "_isFastLaunch": false,
    "category": "Accelerated computing",
    "gpuNum": 1,
    "hideHardwareSpecs": false,
    "memoryGiB": 128,
    "name": "ml.g5.8xlarge",
    "vcpuNum": 32
   },
   {
    "_defaultOrder": 51,
    "_isFastLaunch": false,
    "category": "Accelerated computing",
    "gpuNum": 1,
    "hideHardwareSpecs": false,
    "memoryGiB": 256,
    "name": "ml.g5.16xlarge",
    "vcpuNum": 64
   },
   {
    "_defaultOrder": 52,
    "_isFastLaunch": false,
    "category": "Accelerated computing",
    "gpuNum": 4,
    "hideHardwareSpecs": false,
    "memoryGiB": 192,
    "name": "ml.g5.12xlarge",
    "vcpuNum": 48
   },
   {
    "_defaultOrder": 53,
    "_isFastLaunch": false,
    "category": "Accelerated computing",
    "gpuNum": 4,
    "hideHardwareSpecs": false,
    "memoryGiB": 384,
    "name": "ml.g5.24xlarge",
    "vcpuNum": 96
   },
   {
    "_defaultOrder": 54,
    "_isFastLaunch": false,
    "category": "Accelerated computing",
    "gpuNum": 8,
    "hideHardwareSpecs": false,
    "memoryGiB": 768,
    "name": "ml.g5.48xlarge",
    "vcpuNum": 192
   },
   {
    "_defaultOrder": 55,
    "_isFastLaunch": false,
    "category": "Accelerated computing",
    "gpuNum": 8,
    "hideHardwareSpecs": false,
    "memoryGiB": 1152,
    "name": "ml.p4d.24xlarge",
    "vcpuNum": 96
   },
   {
    "_defaultOrder": 56,
    "_isFastLaunch": false,
    "category": "Accelerated computing",
    "gpuNum": 8,
    "hideHardwareSpecs": false,
    "memoryGiB": 1152,
    "name": "ml.p4de.24xlarge",
    "vcpuNum": 96
   },
   {
    "_defaultOrder": 57,
    "_isFastLaunch": false,
    "category": "Accelerated computing",
    "gpuNum": 0,
    "hideHardwareSpecs": false,
    "memoryGiB": 32,
    "name": "ml.trn1.2xlarge",
    "vcpuNum": 8
   },
   {
    "_defaultOrder": 58,
    "_isFastLaunch": false,
    "category": "Accelerated computing",
    "gpuNum": 0,
    "hideHardwareSpecs": false,
    "memoryGiB": 512,
    "name": "ml.trn1.32xlarge",
    "vcpuNum": 128
   },
   {
    "_defaultOrder": 59,
    "_isFastLaunch": false,
    "category": "Accelerated computing",
    "gpuNum": 0,
    "hideHardwareSpecs": false,
    "memoryGiB": 512,
    "name": "ml.trn1n.32xlarge",
    "vcpuNum": 128
   }
  ],
  "instance_type": "ml.t3.medium",
  "kernelspec": {
   "display_name": "Python 3 (Data Science 3.0)",
   "language": "python",
   "name": "python3__SAGEMAKER_INTERNAL__arn:aws:sagemaker:us-east-1:081325390199:image/sagemaker-data-science-310-v1"
  },
  "language_info": {
   "codemirror_mode": {
    "name": "ipython",
    "version": 3
   },
   "file_extension": ".py",
   "mimetype": "text/x-python",
   "name": "python",
   "nbconvert_exporter": "python",
   "pygments_lexer": "ipython3",
   "version": "3.10.6"
  }
 },
 "nbformat": 4,
 "nbformat_minor": 5
}
