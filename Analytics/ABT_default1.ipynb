{
 "cells": [
  {
   "cell_type": "markdown",
   "id": "7987394f-0d20-46d8-91cf-a12c52b610c7",
   "metadata": {},
   "source": [
    "# ABT for defaulted agencies"
   ]
  },
  {
   "cell_type": "code",
   "execution_count": null,
   "id": "df04e311-05cc-4c6c-9e94-e589c3539289",
   "metadata": {},
   "outputs": [],
   "source": []
  },
  {
   "cell_type": "code",
   "execution_count": 2,
   "id": "fe147190-d27c-4a6a-9a6e-09d0199b27db",
   "metadata": {
    "tags": []
   },
   "outputs": [
    {
     "name": "stdout",
     "output_type": "stream",
     "text": [
      "Collecting awswrangler\n",
      "  Using cached awswrangler-3.9.0-py3-none-any.whl.metadata (17 kB)\n",
      "Requirement already satisfied: boto3<2.0.0,>=1.20.32 in /opt/conda/lib/python3.10/site-packages (from awswrangler) (1.34.84)\n",
      "Requirement already satisfied: botocore<2.0.0,>=1.23.32 in /opt/conda/lib/python3.10/site-packages (from awswrangler) (1.34.84)\n",
      "Requirement already satisfied: numpy<2.0,>=1.18 in /opt/conda/lib/python3.10/site-packages (from awswrangler) (1.26.4)\n",
      "Requirement already satisfied: packaging<25.0,>=21.1 in /opt/conda/lib/python3.10/site-packages (from awswrangler) (23.2)\n",
      "Requirement already satisfied: pandas<3.0.0,>=1.2.0 in /opt/conda/lib/python3.10/site-packages (from awswrangler) (2.2.2)\n",
      "Requirement already satisfied: pyarrow>=8.0.0 in /opt/conda/lib/python3.10/site-packages (from awswrangler) (15.0.2)\n",
      "Requirement already satisfied: typing-extensions<5.0.0,>=4.4.0 in /opt/conda/lib/python3.10/site-packages (from awswrangler) (4.11.0)\n",
      "Requirement already satisfied: jmespath<2.0.0,>=0.7.1 in /opt/conda/lib/python3.10/site-packages (from boto3<2.0.0,>=1.20.32->awswrangler) (1.0.1)\n",
      "Requirement already satisfied: s3transfer<0.11.0,>=0.10.0 in /opt/conda/lib/python3.10/site-packages (from boto3<2.0.0,>=1.20.32->awswrangler) (0.10.1)\n",
      "Requirement already satisfied: python-dateutil<3.0.0,>=2.1 in /opt/conda/lib/python3.10/site-packages (from botocore<2.0.0,>=1.23.32->awswrangler) (2.9.0)\n",
      "Requirement already satisfied: urllib3!=2.2.0,<3,>=1.25.4 in /opt/conda/lib/python3.10/site-packages (from botocore<2.0.0,>=1.23.32->awswrangler) (2.2.1)\n",
      "Requirement already satisfied: pytz>=2020.1 in /opt/conda/lib/python3.10/site-packages (from pandas<3.0.0,>=1.2.0->awswrangler) (2024.1)\n",
      "Requirement already satisfied: tzdata>=2022.7 in /opt/conda/lib/python3.10/site-packages (from pandas<3.0.0,>=1.2.0->awswrangler) (2024.1)\n",
      "Requirement already satisfied: six>=1.5 in /opt/conda/lib/python3.10/site-packages (from python-dateutil<3.0.0,>=2.1->botocore<2.0.0,>=1.23.32->awswrangler) (1.16.0)\n",
      "Using cached awswrangler-3.9.0-py3-none-any.whl (381 kB)\n",
      "Installing collected packages: awswrangler\n",
      "Successfully installed awswrangler-3.9.0\n",
      "\u001b[33mWARNING: Running pip as the 'root' user can result in broken permissions and conflicting behaviour with the system package manager. It is recommended to use a virtual environment instead: https://pip.pypa.io/warnings/venv\u001b[0m\u001b[33m\n",
      "\u001b[0mNote: you may need to restart the kernel to use updated packages.\n"
     ]
    }
   ],
   "source": [
    "pip install awswrangler"
   ]
  },
  {
   "cell_type": "code",
   "execution_count": 3,
   "id": "0c721627-fa27-40ca-ac5a-8a1a52890ed9",
   "metadata": {
    "tags": []
   },
   "outputs": [
    {
     "name": "stdout",
     "output_type": "stream",
     "text": [
      "Collecting PyAthena\n",
      "  Using cached pyathena-3.9.0-py3-none-any.whl.metadata (6.3 kB)\n",
      "Requirement already satisfied: boto3>=1.26.4 in /opt/conda/lib/python3.10/site-packages (from PyAthena) (1.34.84)\n",
      "Requirement already satisfied: botocore>=1.29.4 in /opt/conda/lib/python3.10/site-packages (from PyAthena) (1.34.84)\n",
      "Requirement already satisfied: fsspec in /opt/conda/lib/python3.10/site-packages (from PyAthena) (2024.3.1)\n",
      "Requirement already satisfied: python-dateutil in /opt/conda/lib/python3.10/site-packages (from PyAthena) (2.9.0)\n",
      "Requirement already satisfied: tenacity>=4.1.0 in /opt/conda/lib/python3.10/site-packages (from PyAthena) (8.2.3)\n",
      "Requirement already satisfied: jmespath<2.0.0,>=0.7.1 in /opt/conda/lib/python3.10/site-packages (from boto3>=1.26.4->PyAthena) (1.0.1)\n",
      "Requirement already satisfied: s3transfer<0.11.0,>=0.10.0 in /opt/conda/lib/python3.10/site-packages (from boto3>=1.26.4->PyAthena) (0.10.1)\n",
      "Requirement already satisfied: urllib3!=2.2.0,<3,>=1.25.4 in /opt/conda/lib/python3.10/site-packages (from botocore>=1.29.4->PyAthena) (2.2.1)\n",
      "Requirement already satisfied: six>=1.5 in /opt/conda/lib/python3.10/site-packages (from python-dateutil->PyAthena) (1.16.0)\n",
      "Using cached pyathena-3.9.0-py3-none-any.whl (75 kB)\n",
      "Installing collected packages: PyAthena\n",
      "Successfully installed PyAthena-3.9.0\n",
      "\u001b[33mWARNING: Running pip as the 'root' user can result in broken permissions and conflicting behaviour with the system package manager. It is recommended to use a virtual environment instead: https://pip.pypa.io/warnings/venv\u001b[0m\u001b[33m\n",
      "\u001b[0m"
     ]
    }
   ],
   "source": [
    "import sys\n",
    "!{sys.executable} -m pip install PyAthena"
   ]
  },
  {
   "cell_type": "code",
   "execution_count": 4,
   "id": "037ecfd9-f56e-4ded-99ec-0ffb33ddb37f",
   "metadata": {
    "tags": []
   },
   "outputs": [],
   "source": [
    "import awswrangler as wr\n",
    "import pandas as pd\n",
    "import datetime as dt\n",
    "from datetime import datetime\n",
    "from pyathena import connect\n",
    "import matplotlib.pyplot as plt\n",
    "import seaborn as sns"
   ]
  },
  {
   "cell_type": "markdown",
   "id": "b1b952b7-76ac-45d3-9c86-d1d97cd7c4a3",
   "metadata": {},
   "source": [
    "## Get TX, amount and balance"
   ]
  },
  {
   "cell_type": "raw",
   "id": "9f0fef1c-f21c-4153-8934-9b5564f1cdc6",
   "metadata": {},
   "source": [
    "# DB Setting\n",
    "bucket_name = 's3://viamericas-datalake-dev-us-east-1-283731589572-athena/'\n",
    "\n",
    "#Connection\n",
    "conn = connect(s3_staging_dir=f'{bucket_name}queryresults/',\n",
    "               region_name='us-east-1')\n",
    "\n",
    "df = pd.read_sql('''SELECT\n",
    "   CAST(RTRIM(b.ID_LOCATION) AS VARCHAR(60)) AS AGENCY,\n",
    "   a.ID_BRANCH as ID_BRANCH,\n",
    "   CAST(DATE_FORMAT(a.DATE_RECEIVER, '%Y-%m-%d') AS DATE) AS DATE,\n",
    "   SUM(CASE WHEN (A.ID_FLAG_RECEIVER = 'A' OR A.ID_FLAG_RECEIVER = 'C') THEN 0 ELSE 1 END) AS TX,\n",
    "   SUM(CASE WHEN (A.ID_FLAG_RECEIVER = 'A' OR A.ID_FLAG_RECEIVER = 'C') THEN 0 ELSE A.NET_AMOUNT_RECEIVER END) as AMOUNT,\n",
    "   c.BALANCE as BALANCE,\n",
    "   c.dso_deposit_day as DSO_depo_day,\n",
    "   CAST(DATE_FORMAT(d.installation_date, '%Y-%m-%d') AS DATE) as START_DATE\n",
    " FROM\n",
    "   AwsDataCatalog.viamericas.RECEIVER a\n",
    "   INNER JOIN AwsDataCatalog.viamericas.GROUP_BRANCH p ON p.ID_MAIN_BRANCH = CASE WHEN a.ID_MAIN_BRANCH_EXPIRED IS NULL THEN RTRIM(a.ID_MAIN_BRANCH_SENT) ELSE RTRIM(a.ID_MAIN_BRANCH_EXPIRED) END\n",
    "   LEFT JOIN AwsDataCatalog.viamericas.BRANCH b ON a.ID_BRANCH = b.ID_BRANCH\n",
    "  full JOIN AwsDataCatalog.viamericas.history_balance c ON c.id_main_branch = b.id_main_branch and c.date_balance = cast(a.DATE_RECEIVER as DATE)\n",
    "  left join AwsDataCatalog.viamericas.locations d on b.ID_LOCATION = d.id\n",
    " WHERE\n",
    "   NOT (A.ID_MAIN_BRANCH_SENT LIKE 'M%')\n",
    "   AND NOT (A.ID_BRANCH LIKE 'T%')\n",
    "   AND SUBSTRING(b.id_branch, 1, 1) IN (SELECT SUBSTRING(PREFIX, 1, 1) FROM AwsDataCatalog.viamericas.BRANCH_PREFIX P WHERE TRIM(B.ID_COUNTRY) = TRIM(P.ID_COUNTRY))\n",
    "   AND A.DATE_RECEIVER >= TIMESTAMP '2023-01-01 00:00:00.000'\n",
    "   AND A.DATE_RECEIVER < TIMESTAMP '2024-02-04 00:00:00.000'\n",
    "   AND c.date_balance >= TIMESTAMP '2023-01-01 00:00:00.000'\n",
    "   AND c.date_balance < TIMESTAMP '2024-02-04 00:00:00.000'\n",
    "   AND b.ID_LOCATION IS NOT NULL\n",
    "   AND b.ID_LOCATION NOT IN ('MD0010', 'MD0952', 'AK0003', 'CA3897', 'NY1130', 'MD0696', 'FL1933', 'AK0004', 'CA4046', 'NY1221', 'MD0623', 'MD1003', 'MD1018', 'AK0008', 'CA4291', 'NY1346', 'CA4350', 'NY1381','OK0236','FL2287','CA4391','AK0009', 'NY1397','CA4392','AK0010','FL2288','NY1399','AK0012','CA4396','NY1402','FL2289','AK0013', 'CA4418','NY1410','FL2301','AK0014', 'CA4428', 'NY1413')\n",
    "   AND a.NET_AMOUNT_RECEIVER <> 0\n",
    " GROUP BY\n",
    "   RTRIM(b.ID_LOCATION),\n",
    "   a.ID_BRANCH,\n",
    "   c.BALANCE,\n",
    "   c.dso_deposit_day,\n",
    "   d.installation_date,\n",
    "   CAST(DATE_FORMAT(a.DATE_RECEIVER, '%Y-%m-%d') AS DATE); ''', conn)\n",
    "# comviene una full join para el history balance?"
   ]
  },
  {
   "cell_type": "markdown",
   "id": "fc92bc05-03de-44cf-85e3-51231fa2bf8e",
   "metadata": {},
   "source": [
    "### sumando viachek"
   ]
  },
  {
   "cell_type": "code",
   "execution_count": 5,
   "id": "2bc2b3a6-8a38-4139-86be-79ecb8750152",
   "metadata": {},
   "outputs": [
    {
     "name": "stderr",
     "output_type": "stream",
     "text": [
      "/tmp/ipykernel_395/1018844275.py:8: UserWarning: pandas only supports SQLAlchemy connectable (engine/connection) or database string URI or sqlite3 DBAPI2 connection. Other DBAPI2 objects are not tested. Please consider using SQLAlchemy.\n",
      "  df2 = pd.read_sql('''with viacheck as(\n"
     ]
    }
   ],
   "source": [
    "# DB Setting\n",
    "bucket_name = 's3://viamericas-datalake-dev-us-east-1-283731589572-athena/'\n",
    "\n",
    "#Connection\n",
    "conn = connect(s3_staging_dir=f'{bucket_name}queryresults/',\n",
    "               region_name='us-east-1')\n",
    "\n",
    "df2 = pd.read_sql('''with viacheck as(\n",
    "SELECT\n",
    "    DATE_FORMAT(ct.CheckDate, '%Y-%m-%d') AS DATE,\n",
    "    COUNT(DISTINCT ct.checkID) AS TX_check,\n",
    "    SUM(ct.AMOUNT) AS TOTAL_AMOUNT_check,\n",
    "    b.id_location\n",
    "FROM\n",
    "    AwsDataCatalog.viamericas.checkTable ct\n",
    "LEFT JOIN\n",
    "    AwsDataCatalog.viamericas.BRANCH a ON a.id_branch = ct.CheckBranch\n",
    "LEFT JOIN\n",
    "    AwsDataCatalog.viamericas.location b ON a.id_location = b.id_location\n",
    "       \n",
    "WHERE\n",
    "   NOT (a.id_branch LIKE 'T%')\n",
    "   AND a.id_flag_branch = 'A'\n",
    "   AND DATE_FORMAT(ct.CheckDate, '%Y-%m') between '2023-01' and '2024-02'\n",
    "   AND  NOT b.id_location = 'NULL'\n",
    "GROUP BY\n",
    "    DATE_FORMAT(ct.CheckDate, '%Y-%m-%d'),\n",
    "    b.id_location\n",
    "    --b.name_location;\n",
    ")\n",
    "SELECT\n",
    "   CAST(RTRIM(b.ID_LOCATION) AS VARCHAR(60)) AS AGENCY,\n",
    "   d.ID_GROUP_COMPANY AS ID_GROUP_COMPANY,\n",
    "   a.ID_BRANCH as ID_BRANCH,\n",
    "   CAST(DATE_FORMAT(a.DATE_RECEIVER, '%Y-%m-%d') AS DATE) AS DATE,\n",
    "   SUM(CASE WHEN (A.ID_FLAG_RECEIVER = 'A' OR A.ID_FLAG_RECEIVER = 'C') THEN 0 ELSE 1 END) AS TX,\n",
    "   SUM(CASE WHEN (A.ID_FLAG_RECEIVER = 'A' OR A.ID_FLAG_RECEIVER = 'C') THEN 0 ELSE A.NET_AMOUNT_RECEIVER END) as AMOUNT,\n",
    "   c.BALANCE as BALANCE,\n",
    "   coalesce(d.TX_check, 0) as TX_check,\n",
    "   coalesce(d.TOTAL_AMOUNT_check, 0) as TOTAL_AMOUNT_check,\n",
    "   c.dso_deposit_day as DSO_DEPO_DAY,\n",
    "   CAST(DATE_FORMAT(d.installation_date, '%Y-%m-%d') AS DATE) as START_DATE\n",
    " FROM\n",
    "   AwsDataCatalog.viamericas.RECEIVER a\n",
    "   INNER JOIN AwsDataCatalog.viamericas.GROUP_BRANCH p ON p.ID_MAIN_BRANCH = CASE WHEN a.ID_MAIN_BRANCH_EXPIRED IS NULL THEN RTRIM(a.ID_MAIN_BRANCH_SENT) ELSE RTRIM(a.ID_MAIN_BRANCH_EXPIRED) END\n",
    "   LEFT JOIN AwsDataCatalog.viamericas.BRANCH b ON a.ID_BRANCH = b.ID_BRANCH\n",
    "   LEFT JOIN AwsDataCatalog.viamericas.history_balance c ON c.id_main_branch = b.id_main_branch and c.date_balance = cast(a.DATE_RECEIVER as DATE)\n",
    "   LEFT JOIN viacheck d ON d.id_location = b.ID_LOCATION and cast(d.DATE as DATE) = cast(a.DATE_RECEIVER as DATE)\n",
    "   left join AwsDataCatalog.viamericas.locations d on b.ID_LOCATION = d.id\n",
    "   \n",
    " WHERE\n",
    "   NOT (A.ID_MAIN_BRANCH_SENT LIKE 'M%')\n",
    "   AND NOT (A.ID_BRANCH LIKE 'T%')\n",
    "   AND SUBSTRING(b.id_branch, 1, 1) IN (SELECT SUBSTRING(PREFIX, 1, 1) FROM AwsDataCatalog.viamericas.BRANCH_PREFIX P WHERE TRIM(B.ID_COUNTRY) = TRIM(P.ID_COUNTRY))\n",
    "   AND A.DATE_RECEIVER >= TIMESTAMP '2023-01-01 00:00:00.000'\n",
    "   AND A.DATE_RECEIVER < TIMESTAMP '2024-02-04 00:00:00.000'\n",
    "   AND b.ID_LOCATION IS NOT NULL\n",
    "   AND b.ID_LOCATION NOT IN ('MD0010', 'MD0952', 'AK0003', 'CA3897', 'NY1130', 'MD0696', 'FL1933', 'AK0004', 'CA4046', 'NY1221', 'MD0623', 'MD1003', 'MD1018', 'AK0008', 'CA4291', 'NY1346', 'CA4350', 'NY1381','OK0236','FL2287','CA4391','AK0009', 'NY1397','CA4392','AK0010','FL2288','NY1399','AK0012','CA4396','NY1402','FL2289','AK0013', 'CA4418','NY1410','FL2301','AK0014', 'CA4428', 'NY1413')\n",
    "   AND a.NET_AMOUNT_RECEIVER <> 0\n",
    " GROUP BY\n",
    "   RTRIM(b.ID_LOCATION),\n",
    "   d.ID_GROUP_COMPANY,\n",
    "   a.ID_BRANCH,\n",
    "   c.BALANCE, \n",
    "   d.TX_check,\n",
    "   d.TOTAL_AMOUNT_check,\n",
    "   c.dso_deposit_day,\n",
    "   d.installation_date,\n",
    "   CAST(DATE_FORMAT(a.DATE_RECEIVER, '%Y-%m-%d') AS DATE); ''', conn)"
   ]
  },
  {
   "cell_type": "code",
   "execution_count": 6,
   "id": "9d29656f-24b6-4d03-a894-9a4e264a50fd",
   "metadata": {},
   "outputs": [],
   "source": [
    "#df = pd.read_csv('2023_trx_balance_history3.csv')\n",
    "\n",
    "#df2= pd.read_csv('2023_trx_balance_check_history3.csv')\n",
    "mo = pd.read_csv('MO.csv')"
   ]
  },
  {
   "cell_type": "code",
   "execution_count": 7,
   "id": "7cc6e77c-c0aa-4191-9ce3-4af6611be44b",
   "metadata": {
    "tags": []
   },
   "outputs": [
    {
     "data": {
      "text/plain": [
       "Index(['AGENCY', 'ID_GROUP_COMPANY', 'ID_BRANCH', 'DATE', 'TX', 'AMOUNT',\n",
       "       'BALANCE', 'TX_check', 'TOTAL_AMOUNT_check', 'DSO_DEPO_DAY',\n",
       "       'START_DATE'],\n",
       "      dtype='object')"
      ]
     },
     "execution_count": 7,
     "metadata": {},
     "output_type": "execute_result"
    }
   ],
   "source": [
    "df2.columns"
   ]
  },
  {
   "cell_type": "code",
   "execution_count": 8,
   "id": "e2f7bb21-384f-424e-a297-a8c0d9e4e06b",
   "metadata": {
    "tags": []
   },
   "outputs": [
    {
     "data": {
      "text/plain": [
       "Index(['DATE', 'unique_senders', 'TX', 'TX_CANCELLED', 'TOTAL_AMOUNT', 'GP',\n",
       "       'state', 'id_chain', 'name_chain', 'id_location', 'name_location',\n",
       "       'id_branch', 'name_branch', 'kpr', 'LATITUD', 'LONGITUD', 'ZIP',\n",
       "       'id_agent', 'TYPE_PRODUCT'],\n",
       "      dtype='object')"
      ]
     },
     "execution_count": 8,
     "metadata": {},
     "output_type": "execute_result"
    }
   ],
   "source": [
    "mo.columns"
   ]
  },
  {
   "cell_type": "code",
   "execution_count": 9,
   "id": "cf9af0e8-82ce-488c-8edb-39316e93af7a",
   "metadata": {
    "tags": []
   },
   "outputs": [],
   "source": [
    "#filtrar variables relevantes\n",
    "lista = ['DATE','id_location', 'TX','TOTAL_AMOUNT']\n",
    "mo2 = mo[lista]"
   ]
  },
  {
   "cell_type": "code",
   "execution_count": 10,
   "id": "896c4ba5-b508-4ad1-a790-a7438f6bc106",
   "metadata": {
    "tags": []
   },
   "outputs": [
    {
     "name": "stderr",
     "output_type": "stream",
     "text": [
      "/tmp/ipykernel_395/1387433609.py:2: SettingWithCopyWarning: \n",
      "A value is trying to be set on a copy of a slice from a DataFrame\n",
      "\n",
      "See the caveats in the documentation: https://pandas.pydata.org/pandas-docs/stable/user_guide/indexing.html#returning-a-view-versus-a-copy\n",
      "  mo2.rename(columns={'DATE': 'DATE', 'id_location': 'AGENCY', 'TX':'TX_MO','TOTAL_AMOUNT':'TOTAL_AMOUNT_MO'}, inplace = True)\n"
     ]
    }
   ],
   "source": [
    "#renombrar variables para que coincidan con el formato del resto\n",
    "mo2.rename(columns={'DATE': 'DATE', 'id_location': 'AGENCY', 'TX':'TX_MO','TOTAL_AMOUNT':'TOTAL_AMOUNT_MO'}, inplace = True)"
   ]
  },
  {
   "cell_type": "code",
   "execution_count": 11,
   "id": "647f03ee-ebf0-469b-90df-6f514cebb34b",
   "metadata": {
    "tags": []
   },
   "outputs": [
    {
     "name": "stderr",
     "output_type": "stream",
     "text": [
      "/tmp/ipykernel_395/3607589272.py:2: SettingWithCopyWarning: \n",
      "A value is trying to be set on a copy of a slice from a DataFrame.\n",
      "Try using .loc[row_indexer,col_indexer] = value instead\n",
      "\n",
      "See the caveats in the documentation: https://pandas.pydata.org/pandas-docs/stable/user_guide/indexing.html#returning-a-view-versus-a-copy\n",
      "  mo2['DATE'] = pd.to_datetime(mo2['DATE'])\n"
     ]
    }
   ],
   "source": [
    "# getting all dates in date format\n",
    "mo2['DATE'] = pd.to_datetime(mo2['DATE'])\n",
    "df2['DATE'] = pd.to_datetime(df2['DATE'])"
   ]
  },
  {
   "cell_type": "code",
   "execution_count": 12,
   "id": "3fd98547-4727-4bd5-9556-a4d615846732",
   "metadata": {
    "tags": []
   },
   "outputs": [
    {
     "name": "stderr",
     "output_type": "stream",
     "text": [
      "/tmp/ipykernel_395/18446659.py:1: SettingWithCopyWarning: \n",
      "A value is trying to be set on a copy of a slice from a DataFrame.\n",
      "Try using .loc[row_indexer,col_indexer] = value instead\n",
      "\n",
      "See the caveats in the documentation: https://pandas.pydata.org/pandas-docs/stable/user_guide/indexing.html#returning-a-view-versus-a-copy\n",
      "  mo2['DATE'] = mo2['DATE'].dt.strftime('%Y-%m-%d')\n"
     ]
    }
   ],
   "source": [
    "mo2['DATE'] = mo2['DATE'].dt.strftime('%Y-%m-%d')\n",
    "df2['DATE'] = df2['DATE'].dt.strftime('%Y-%m-%d')"
   ]
  },
  {
   "cell_type": "code",
   "execution_count": 13,
   "id": "a038b893-5ccf-42f5-bff0-cd238d5e54d1",
   "metadata": {},
   "outputs": [],
   "source": [
    "merged_df2 = pd.merge(df2, mo2, on=['DATE', 'AGENCY'], how='outer') #1661391 entries"
   ]
  },
  {
   "cell_type": "code",
   "execution_count": 14,
   "id": "09bfae9b-2a37-4e91-bfeb-7d2047815e10",
   "metadata": {
    "tags": []
   },
   "outputs": [],
   "source": [
    "merged_df2.drop_duplicates(subset=['DATE', 'AGENCY'], inplace = True) #1652242 entries"
   ]
  },
  {
   "cell_type": "code",
   "execution_count": 15,
   "id": "94f3f351-1fe2-407a-85a5-bcf895caf528",
   "metadata": {
    "tags": []
   },
   "outputs": [
    {
     "name": "stdout",
     "output_type": "stream",
     "text": [
      "<class 'pandas.core.frame.DataFrame'>\n",
      "Index: 1652242 entries, 0 to 1661390\n",
      "Data columns (total 13 columns):\n",
      " #   Column              Non-Null Count    Dtype  \n",
      "---  ------              --------------    -----  \n",
      " 0   AGENCY              1652242 non-null  object \n",
      " 1   ID_GROUP_COMPANY    1650084 non-null  object \n",
      " 2   ID_BRANCH           1650084 non-null  object \n",
      " 3   DATE                1652242 non-null  object \n",
      " 4   TX                  1650084 non-null  float64\n",
      " 5   AMOUNT              1650084 non-null  float64\n",
      " 6   BALANCE             1649789 non-null  float64\n",
      " 7   TX_check            1650084 non-null  float64\n",
      " 8   TOTAL_AMOUNT_check  1650084 non-null  float64\n",
      " 9   DSO_DEPO_DAY        1500215 non-null  float64\n",
      " 10  START_DATE          1649459 non-null  object \n",
      " 11  TX_MO               138578 non-null   float64\n",
      " 12  TOTAL_AMOUNT_MO     138578 non-null   float64\n",
      "dtypes: float64(8), object(5)\n",
      "memory usage: 176.5+ MB\n"
     ]
    }
   ],
   "source": [
    "merged_df2.info(show_counts = True)"
   ]
  },
  {
   "cell_type": "code",
   "execution_count": 16,
   "id": "fc8394b3-624a-411d-bb38-a9ac25434d3b",
   "metadata": {
    "tags": []
   },
   "outputs": [],
   "source": [
    "default = pd.read_csv('Datos Juan.csv')#no podemos correr la querry en athena nos tienen que pasar el .csv de sql server"
   ]
  },
  {
   "cell_type": "code",
   "execution_count": 17,
   "id": "2a3493bc-4108-40c7-b108-38662dafc8c1",
   "metadata": {
    "tags": []
   },
   "outputs": [
    {
     "data": {
      "text/plain": [
       "array(['A00152    ', 'A00216    ', 'A00219    ', ..., 'A26036    ',\n",
       "       'A26081    ', 'AB0110    '], dtype=object)"
      ]
     },
     "execution_count": 17,
     "metadata": {},
     "output_type": "execute_result"
    }
   ],
   "source": [
    "default['ID_BRANCH'].unique()#vienen del .csv con espaciosssss"
   ]
  },
  {
   "cell_type": "code",
   "execution_count": 18,
   "id": "e5da83c7-be35-4577-a7ea-b8f1ba719830",
   "metadata": {
    "tags": []
   },
   "outputs": [],
   "source": [
    "#quitando los espacios\n",
    "default['ID_BRANCH'] = default['ID_BRANCH'].str.replace(' ','') "
   ]
  },
  {
   "cell_type": "code",
   "execution_count": 19,
   "id": "7c3d40ab-65a7-4205-89f7-81c9d9862000",
   "metadata": {
    "tags": []
   },
   "outputs": [
    {
     "data": {
      "text/plain": [
       "'2023-01-01 09:31:38.730'"
      ]
     },
     "execution_count": 19,
     "metadata": {},
     "output_type": "execute_result"
    }
   ],
   "source": [
    "#tengo defaults desde 2022-01, necesito sólo a partir de 2023-01-01\n",
    "default = default[default['INACTIVATION_DATE'] > '2023-01-01']\n",
    "default['INACTIVATION_DATE'].min() #check"
   ]
  },
  {
   "cell_type": "code",
   "execution_count": 20,
   "id": "43a35d71-8725-476d-b7aa-9cde0d16b4eb",
   "metadata": {
    "tags": []
   },
   "outputs": [],
   "source": [
    "df3 = default[default['INACTIVE_DAYS'] > 6] #me quedo con 7 días inactivos en adelante"
   ]
  },
  {
   "cell_type": "code",
   "execution_count": 21,
   "id": "2a53273f-a0bd-4d2e-8231-33cbd5072e6b",
   "metadata": {
    "tags": []
   },
   "outputs": [
    {
     "name": "stderr",
     "output_type": "stream",
     "text": [
      "/tmp/ipykernel_395/3250838113.py:1: SettingWithCopyWarning: \n",
      "A value is trying to be set on a copy of a slice from a DataFrame.\n",
      "Try using .loc[row_indexer,col_indexer] = value instead\n",
      "\n",
      "See the caveats in the documentation: https://pandas.pydata.org/pandas-docs/stable/user_guide/indexing.html#returning-a-view-versus-a-copy\n",
      "  df3['DEFAULT'] = 1\n"
     ]
    }
   ],
   "source": [
    "df3['DEFAULT'] = 1"
   ]
  },
  {
   "cell_type": "code",
   "execution_count": 22,
   "id": "909b8d19-01d7-4add-b384-9190b20d051c",
   "metadata": {
    "tags": []
   },
   "outputs": [
    {
     "name": "stderr",
     "output_type": "stream",
     "text": [
      "/tmp/ipykernel_395/1161130008.py:1: SettingWithCopyWarning: \n",
      "A value is trying to be set on a copy of a slice from a DataFrame.\n",
      "Try using .loc[row_indexer,col_indexer] = value instead\n",
      "\n",
      "See the caveats in the documentation: https://pandas.pydata.org/pandas-docs/stable/user_guide/indexing.html#returning-a-view-versus-a-copy\n",
      "  df3['DATE'] = pd.to_datetime(df3['INACTIVATION_DATE'])\n"
     ]
    }
   ],
   "source": [
    "df3['DATE'] = pd.to_datetime(df3['INACTIVATION_DATE'])"
   ]
  },
  {
   "cell_type": "code",
   "execution_count": 23,
   "id": "1bd930ed-0008-4fef-94e2-9c403f7567a3",
   "metadata": {
    "tags": []
   },
   "outputs": [],
   "source": [
    "lista =['DATE', 'ID_BRANCH', 'DEFAULT']\n",
    "df3 = df3[lista]"
   ]
  },
  {
   "cell_type": "code",
   "execution_count": 24,
   "id": "fe3b80da-a58e-4db5-97b3-c474c1e7bd89",
   "metadata": {
    "tags": []
   },
   "outputs": [
    {
     "data": {
      "text/plain": [
       "(2945, 3)"
      ]
     },
     "execution_count": 24,
     "metadata": {},
     "output_type": "execute_result"
    }
   ],
   "source": [
    "df3.shape"
   ]
  },
  {
   "cell_type": "code",
   "execution_count": 25,
   "id": "bb7aadf7-6b2b-41b8-b070-36e71c778426",
   "metadata": {
    "tags": []
   },
   "outputs": [
    {
     "data": {
      "text/html": [
       "<div>\n",
       "<style scoped>\n",
       "    .dataframe tbody tr th:only-of-type {\n",
       "        vertical-align: middle;\n",
       "    }\n",
       "\n",
       "    .dataframe tbody tr th {\n",
       "        vertical-align: top;\n",
       "    }\n",
       "\n",
       "    .dataframe thead th {\n",
       "        text-align: right;\n",
       "    }\n",
       "</style>\n",
       "<table border=\"1\" class=\"dataframe\">\n",
       "  <thead>\n",
       "    <tr style=\"text-align: right;\">\n",
       "      <th></th>\n",
       "      <th>DATE</th>\n",
       "      <th>ID_BRANCH</th>\n",
       "      <th>DEFAULT</th>\n",
       "    </tr>\n",
       "  </thead>\n",
       "  <tbody>\n",
       "    <tr>\n",
       "      <th>29</th>\n",
       "      <td>2023-06-26 13:38:50.233</td>\n",
       "      <td>A00216</td>\n",
       "      <td>1</td>\n",
       "    </tr>\n",
       "    <tr>\n",
       "      <th>55</th>\n",
       "      <td>2023-08-21 12:19:06.193</td>\n",
       "      <td>A00219</td>\n",
       "      <td>1</td>\n",
       "    </tr>\n",
       "    <tr>\n",
       "      <th>67</th>\n",
       "      <td>2024-01-17 17:42:57.060</td>\n",
       "      <td>A00219</td>\n",
       "      <td>1</td>\n",
       "    </tr>\n",
       "    <tr>\n",
       "      <th>68</th>\n",
       "      <td>2024-01-31 16:23:23.357</td>\n",
       "      <td>A00219</td>\n",
       "      <td>1</td>\n",
       "    </tr>\n",
       "    <tr>\n",
       "      <th>81</th>\n",
       "      <td>2023-04-19 17:47:01.103</td>\n",
       "      <td>A00337</td>\n",
       "      <td>1</td>\n",
       "    </tr>\n",
       "  </tbody>\n",
       "</table>\n",
       "</div>"
      ],
      "text/plain": [
       "                      DATE ID_BRANCH  DEFAULT\n",
       "29 2023-06-26 13:38:50.233    A00216        1\n",
       "55 2023-08-21 12:19:06.193    A00219        1\n",
       "67 2024-01-17 17:42:57.060    A00219        1\n",
       "68 2024-01-31 16:23:23.357    A00219        1\n",
       "81 2023-04-19 17:47:01.103    A00337        1"
      ]
     },
     "execution_count": 25,
     "metadata": {},
     "output_type": "execute_result"
    }
   ],
   "source": [
    "df3.head()"
   ]
  },
  {
   "cell_type": "code",
   "execution_count": 26,
   "id": "898bb46e-ebff-4779-a22f-ab5b4775db25",
   "metadata": {
    "tags": []
   },
   "outputs": [],
   "source": [
    "# hay que darle el formato '%Y-%m-%d' a la fechas de default!\n",
    "df3['DATE'] = df3['DATE'].dt.strftime('%Y-%m-%d')"
   ]
  },
  {
   "cell_type": "code",
   "execution_count": 27,
   "id": "7c689d39-502a-4fae-85f0-1f7194bddf34",
   "metadata": {
    "tags": []
   },
   "outputs": [],
   "source": [
    "merged_df2['DATE'] = pd.to_datetime(merged_df2['DATE'])"
   ]
  },
  {
   "cell_type": "code",
   "execution_count": 28,
   "id": "b34e11db-4984-4c51-a98b-50c4098106a9",
   "metadata": {
    "tags": []
   },
   "outputs": [],
   "source": [
    "merged_df2['DATE'] = merged_df2['DATE'].dt.strftime('%Y-%m-%d')"
   ]
  },
  {
   "cell_type": "code",
   "execution_count": 29,
   "id": "a1dc1f8c-495c-4716-aec6-f13e958609f2",
   "metadata": {},
   "outputs": [],
   "source": [
    "merged_df3 = pd.merge(merged_df2, df3, on=['DATE', 'ID_BRANCH'], how='outer')\n"
   ]
  },
  {
   "cell_type": "code",
   "execution_count": 30,
   "id": "95fa581c-ac7d-4f1c-a2bb-37342eee1b10",
   "metadata": {
    "tags": []
   },
   "outputs": [],
   "source": [
    "merged_df3.drop_duplicates(subset=['DATE', 'ID_BRANCH'], inplace = True)"
   ]
  },
  {
   "cell_type": "markdown",
   "id": "bd8c492d-397b-475e-a22b-65b0b2ea9955",
   "metadata": {},
   "source": [
    "# agregar todos los inactive days"
   ]
  },
  {
   "cell_type": "code",
   "execution_count": 31,
   "id": "3c2fe804-5bbd-4f19-a0e6-6bffa5798813",
   "metadata": {
    "tags": []
   },
   "outputs": [],
   "source": [
    "default['DATE'] = pd.to_datetime(default['INACTIVATION_DATE'])"
   ]
  },
  {
   "cell_type": "code",
   "execution_count": 32,
   "id": "8e9c430e-5ed2-48a8-b903-487c6e39cf1a",
   "metadata": {
    "tags": []
   },
   "outputs": [],
   "source": [
    "default['DATE'] = default['DATE'].dt.strftime('%Y-%m-%d')"
   ]
  },
  {
   "cell_type": "code",
   "execution_count": 33,
   "id": "bafbf5d1-8767-415d-9559-34b4463fb998",
   "metadata": {
    "tags": []
   },
   "outputs": [],
   "source": [
    "lista =['DATE', 'ID_BRANCH', 'INACTIVE_DAYS']\n",
    "df5 = default[lista]"
   ]
  },
  {
   "cell_type": "code",
   "execution_count": 34,
   "id": "9105b86a-0ff4-42e2-8149-6241e8b47676",
   "metadata": {
    "tags": []
   },
   "outputs": [
    {
     "data": {
      "text/plain": [
       "(22061, 3)"
      ]
     },
     "execution_count": 34,
     "metadata": {},
     "output_type": "execute_result"
    }
   ],
   "source": [
    "df5.shape"
   ]
  },
  {
   "cell_type": "code",
   "execution_count": 35,
   "id": "9b504e50-d4fd-43c0-8be9-e173b78f2e7a",
   "metadata": {},
   "outputs": [],
   "source": [
    "merged_df3 = pd.merge(merged_df3, df5, on=['DATE', 'ID_BRANCH'], how='outer')\n"
   ]
  },
  {
   "cell_type": "code",
   "execution_count": 36,
   "id": "98a4ee1c-a64e-44a7-b56f-75b7ce295af1",
   "metadata": {
    "tags": []
   },
   "outputs": [],
   "source": [
    "merged_df3.drop_duplicates(subset=['DATE', 'ID_BRANCH'], inplace = True)"
   ]
  },
  {
   "cell_type": "code",
   "execution_count": 37,
   "id": "aa48867e-f651-4cf9-be52-a53dc3479c62",
   "metadata": {},
   "outputs": [
    {
     "data": {
      "text/html": [
       "<div>\n",
       "<style scoped>\n",
       "    .dataframe tbody tr th:only-of-type {\n",
       "        vertical-align: middle;\n",
       "    }\n",
       "\n",
       "    .dataframe tbody tr th {\n",
       "        vertical-align: top;\n",
       "    }\n",
       "\n",
       "    .dataframe thead th {\n",
       "        text-align: right;\n",
       "    }\n",
       "</style>\n",
       "<table border=\"1\" class=\"dataframe\">\n",
       "  <thead>\n",
       "    <tr style=\"text-align: right;\">\n",
       "      <th></th>\n",
       "      <th>AGENCY</th>\n",
       "      <th>ID_GROUP_COMPANY</th>\n",
       "      <th>ID_BRANCH</th>\n",
       "      <th>DATE</th>\n",
       "      <th>TX</th>\n",
       "      <th>AMOUNT</th>\n",
       "      <th>BALANCE</th>\n",
       "      <th>TX_check</th>\n",
       "      <th>TOTAL_AMOUNT_check</th>\n",
       "      <th>DSO_DEPO_DAY</th>\n",
       "      <th>START_DATE</th>\n",
       "      <th>TX_MO</th>\n",
       "      <th>TOTAL_AMOUNT_MO</th>\n",
       "      <th>DEFAULT</th>\n",
       "      <th>INACTIVE_DAYS</th>\n",
       "    </tr>\n",
       "  </thead>\n",
       "  <tbody>\n",
       "    <tr>\n",
       "      <th>0</th>\n",
       "      <td>WA0064</td>\n",
       "      <td>USA009517</td>\n",
       "      <td>A00270</td>\n",
       "      <td>2023-01-01</td>\n",
       "      <td>8.0</td>\n",
       "      <td>3769.0</td>\n",
       "      <td>14204.0018</td>\n",
       "      <td>0.0</td>\n",
       "      <td>0.00</td>\n",
       "      <td>0.0</td>\n",
       "      <td>2013-07-10</td>\n",
       "      <td>NaN</td>\n",
       "      <td>NaN</td>\n",
       "      <td>NaN</td>\n",
       "      <td>NaN</td>\n",
       "    </tr>\n",
       "    <tr>\n",
       "      <th>1</th>\n",
       "      <td>FL0096</td>\n",
       "      <td>USA000235</td>\n",
       "      <td>A00403</td>\n",
       "      <td>2023-01-01</td>\n",
       "      <td>1.0</td>\n",
       "      <td>500.0</td>\n",
       "      <td>20649.8329</td>\n",
       "      <td>20.0</td>\n",
       "      <td>13031.74</td>\n",
       "      <td>9.0</td>\n",
       "      <td>2005-02-14</td>\n",
       "      <td>NaN</td>\n",
       "      <td>NaN</td>\n",
       "      <td>NaN</td>\n",
       "      <td>NaN</td>\n",
       "    </tr>\n",
       "    <tr>\n",
       "      <th>2</th>\n",
       "      <td>NJ0080</td>\n",
       "      <td>USA000414</td>\n",
       "      <td>A00584</td>\n",
       "      <td>2023-01-01</td>\n",
       "      <td>12.0</td>\n",
       "      <td>7430.0</td>\n",
       "      <td>34849.6197</td>\n",
       "      <td>7.0</td>\n",
       "      <td>1939.68</td>\n",
       "      <td>2.0</td>\n",
       "      <td>2005-02-08</td>\n",
       "      <td>NaN</td>\n",
       "      <td>NaN</td>\n",
       "      <td>NaN</td>\n",
       "      <td>NaN</td>\n",
       "    </tr>\n",
       "    <tr>\n",
       "      <th>3</th>\n",
       "      <td>MD0145</td>\n",
       "      <td>USA000509</td>\n",
       "      <td>A00684</td>\n",
       "      <td>2023-01-01</td>\n",
       "      <td>23.0</td>\n",
       "      <td>12679.0</td>\n",
       "      <td>34991.7530</td>\n",
       "      <td>0.0</td>\n",
       "      <td>0.00</td>\n",
       "      <td>2.0</td>\n",
       "      <td>2005-12-22</td>\n",
       "      <td>NaN</td>\n",
       "      <td>NaN</td>\n",
       "      <td>NaN</td>\n",
       "      <td>NaN</td>\n",
       "    </tr>\n",
       "    <tr>\n",
       "      <th>4</th>\n",
       "      <td>MD0430</td>\n",
       "      <td>USA000609</td>\n",
       "      <td>A00788</td>\n",
       "      <td>2023-01-01</td>\n",
       "      <td>1.0</td>\n",
       "      <td>370.0</td>\n",
       "      <td>32049.7373</td>\n",
       "      <td>0.0</td>\n",
       "      <td>0.00</td>\n",
       "      <td>26.0</td>\n",
       "      <td>2008-10-31</td>\n",
       "      <td>NaN</td>\n",
       "      <td>NaN</td>\n",
       "      <td>NaN</td>\n",
       "      <td>NaN</td>\n",
       "    </tr>\n",
       "  </tbody>\n",
       "</table>\n",
       "</div>"
      ],
      "text/plain": [
       "   AGENCY ID_GROUP_COMPANY ID_BRANCH        DATE    TX   AMOUNT     BALANCE  \\\n",
       "0  WA0064        USA009517    A00270  2023-01-01   8.0   3769.0  14204.0018   \n",
       "1  FL0096        USA000235    A00403  2023-01-01   1.0    500.0  20649.8329   \n",
       "2  NJ0080        USA000414    A00584  2023-01-01  12.0   7430.0  34849.6197   \n",
       "3  MD0145        USA000509    A00684  2023-01-01  23.0  12679.0  34991.7530   \n",
       "4  MD0430        USA000609    A00788  2023-01-01   1.0    370.0  32049.7373   \n",
       "\n",
       "   TX_check  TOTAL_AMOUNT_check  DSO_DEPO_DAY  START_DATE  TX_MO  \\\n",
       "0       0.0                0.00           0.0  2013-07-10    NaN   \n",
       "1      20.0            13031.74           9.0  2005-02-14    NaN   \n",
       "2       7.0             1939.68           2.0  2005-02-08    NaN   \n",
       "3       0.0                0.00           2.0  2005-12-22    NaN   \n",
       "4       0.0                0.00          26.0  2008-10-31    NaN   \n",
       "\n",
       "   TOTAL_AMOUNT_MO  DEFAULT  INACTIVE_DAYS  \n",
       "0              NaN      NaN            NaN  \n",
       "1              NaN      NaN            NaN  \n",
       "2              NaN      NaN            NaN  \n",
       "3              NaN      NaN            NaN  \n",
       "4              NaN      NaN            NaN  "
      ]
     },
     "execution_count": 37,
     "metadata": {},
     "output_type": "execute_result"
    }
   ],
   "source": [
    "merged_df3.head()"
   ]
  },
  {
   "cell_type": "code",
   "execution_count": 38,
   "id": "692a6014-411a-4b04-bcbc-c0f3fb8a6eaf",
   "metadata": {
    "tags": []
   },
   "outputs": [
    {
     "data": {
      "text/plain": [
       "array([  0.,   9.,   2.,  26.,   4.,   6.,   3.,  nan,   7.,  27.,   5.,\n",
       "        10.,  24.,  12.,  17.,   1.,  28.,  11.,  22.,   8.,  13.,  14.,\n",
       "        25.,  18.,  15.,  19.,  16.,  20.,  53.,  29.,  54.,  42.,  32.,\n",
       "        61.,  33.,  35.,  23.,  21.,  78.,  79.,  30.,  34.,  80.,  31.,\n",
       "        36.,  37.,  38.,  39.,  43.,  44.,  45.,  50.,  51.,  41.,  59.,\n",
       "        58.,  75.,  52., 113.,  46.,  56.,  57., 131.,  64., 110., 162.,\n",
       "        95.,  47., 187., 188., 189., 194., 127.,  40.,  66., 267., 200.,\n",
       "        62.,  71.,  72.,  73.,  74.,  76.,  77.,  81.,  85.,  86., 316.,\n",
       "        88., 150., 151., 152., 323.,  83.,  96., 330.])"
      ]
     },
     "execution_count": 38,
     "metadata": {},
     "output_type": "execute_result"
    }
   ],
   "source": [
    "merged_df3['DSO_DEPO_DAY'].unique()"
   ]
  },
  {
   "cell_type": "code",
   "execution_count": 39,
   "id": "c4869190-1ca6-4fec-935f-ac4cdbf31cb4",
   "metadata": {
    "tags": []
   },
   "outputs": [
    {
     "name": "stdout",
     "output_type": "stream",
     "text": [
      "<class 'pandas.core.frame.DataFrame'>\n",
      "Index: 1661114 entries, 0 to 1661363\n",
      "Data columns (total 15 columns):\n",
      " #   Column              Non-Null Count    Dtype  \n",
      "---  ------              --------------    -----  \n",
      " 0   AGENCY              1650473 non-null  object \n",
      " 1   ID_GROUP_COMPANY    1650084 non-null  object \n",
      " 2   ID_BRANCH           1660725 non-null  object \n",
      " 3   DATE                1661114 non-null  object \n",
      " 4   TX                  1650084 non-null  float64\n",
      " 5   AMOUNT              1650084 non-null  float64\n",
      " 6   BALANCE             1649789 non-null  float64\n",
      " 7   TX_check            1650084 non-null  float64\n",
      " 8   TOTAL_AMOUNT_check  1650084 non-null  float64\n",
      " 9   DSO_DEPO_DAY        1500215 non-null  float64\n",
      " 10  START_DATE          1649459 non-null  object \n",
      " 11  TX_MO               136809 non-null   float64\n",
      " 12  TOTAL_AMOUNT_MO     136809 non-null   float64\n",
      " 13  DEFAULT             2945 non-null     float64\n",
      " 14  INACTIVE_DAYS       21811 non-null    float64\n",
      "dtypes: float64(10), object(5)\n",
      "memory usage: 202.8+ MB\n"
     ]
    }
   ],
   "source": [
    "merged_df3.info(show_counts = True)"
   ]
  },
  {
   "cell_type": "code",
   "execution_count": 40,
   "id": "91872a77-dff1-432e-91dd-a7e99c5912cd",
   "metadata": {
    "tags": []
   },
   "outputs": [],
   "source": [
    "merged_df3.to_csv('2023_trx_balance_check_default_history5.csv', index = False)"
   ]
  },
  {
   "cell_type": "code",
   "execution_count": 41,
   "id": "cd40a30b-c479-4fef-a605-d17db97187b8",
   "metadata": {},
   "outputs": [],
   "source": [
    "# Hay que unir de audit_credit (a nivel id_main_branch) new_credit_wknd(viernes, sab. dom y lun) y new_credit)martes,mi y jueves) para restar al balance y sacar el % del credito utilizado"
   ]
  },
  {
   "cell_type": "markdown",
   "id": "a4a69af5-098a-412d-ae6a-6a48921ddd56",
   "metadata": {},
   "source": [
    "## Reabrir y continuar"
   ]
  },
  {
   "cell_type": "code",
   "execution_count": 42,
   "id": "71dd9ce5-83ba-467a-bb75-68323c0199a7",
   "metadata": {},
   "outputs": [],
   "source": [
    "df = pd.read_csv('2023_trx_balance_check_default_history5.csv')"
   ]
  },
  {
   "cell_type": "code",
   "execution_count": 43,
   "id": "b840ab6f-4e56-4cd1-95b6-cf3cfb01e1f1",
   "metadata": {},
   "outputs": [
    {
     "name": "stdout",
     "output_type": "stream",
     "text": [
      "<class 'pandas.core.frame.DataFrame'>\n",
      "RangeIndex: 1661114 entries, 0 to 1661113\n",
      "Data columns (total 15 columns):\n",
      " #   Column              Non-Null Count    Dtype  \n",
      "---  ------              --------------    -----  \n",
      " 0   AGENCY              1650473 non-null  object \n",
      " 1   ID_GROUP_COMPANY    1650084 non-null  object \n",
      " 2   ID_BRANCH           1660725 non-null  object \n",
      " 3   DATE                1661114 non-null  object \n",
      " 4   TX                  1650084 non-null  float64\n",
      " 5   AMOUNT              1650084 non-null  float64\n",
      " 6   BALANCE             1649789 non-null  float64\n",
      " 7   TX_check            1650084 non-null  float64\n",
      " 8   TOTAL_AMOUNT_check  1650084 non-null  float64\n",
      " 9   DSO_DEPO_DAY        1500215 non-null  float64\n",
      " 10  START_DATE          1649459 non-null  object \n",
      " 11  TX_MO               136809 non-null   float64\n",
      " 12  TOTAL_AMOUNT_MO     136809 non-null   float64\n",
      " 13  DEFAULT             2945 non-null     float64\n",
      " 14  INACTIVE_DAYS       21811 non-null    float64\n",
      "dtypes: float64(10), object(5)\n",
      "memory usage: 190.1+ MB\n"
     ]
    }
   ],
   "source": [
    "df.info(show_counts = True)"
   ]
  },
  {
   "cell_type": "markdown",
   "id": "396f3ce1-cd65-44d0-98a7-a152e2d89033",
   "metadata": {},
   "source": [
    "Para mejorar expansión de fechas, primero lo aplico sólo para date y id_branch, luego mergeo left varibles dinámicas por date e id_branch y variables estáticas sólo por id_branch"
   ]
  },
  {
   "cell_type": "code",
   "execution_count": 44,
   "id": "d2e2d2a9-b9bb-4bb8-a432-ae35b2616b7b",
   "metadata": {},
   "outputs": [],
   "source": [
    "#creo df básico para rellenar con fechas\n",
    "lista =['DATE', 'ID_BRANCH']\n",
    "stump = df[lista]"
   ]
  },
  {
   "cell_type": "code",
   "execution_count": 45,
   "id": "a619ebde-b127-4103-ae36-9b86fe7f5acc",
   "metadata": {
    "tags": []
   },
   "outputs": [
    {
     "name": "stdout",
     "output_type": "stream",
     "text": [
      "<class 'pandas.core.frame.DataFrame'>\n",
      "RangeIndex: 1661114 entries, 0 to 1661113\n",
      "Data columns (total 2 columns):\n",
      " #   Column     Non-Null Count    Dtype \n",
      "---  ------     --------------    ----- \n",
      " 0   DATE       1661114 non-null  object\n",
      " 1   ID_BRANCH  1660725 non-null  object\n",
      "dtypes: object(2)\n",
      "memory usage: 25.3+ MB\n"
     ]
    }
   ],
   "source": [
    "stump.info(show_counts = True)"
   ]
  },
  {
   "cell_type": "code",
   "execution_count": 46,
   "id": "54a735df-cf13-4543-b3ec-337d84f69859",
   "metadata": {},
   "outputs": [],
   "source": [
    "# versión 3.0 para expandir lo mínimo\n",
    "def fill_missing_dates(df):\n",
    "    # Create an empty DataFrame with the specified date range\n",
    "    date_range = pd.date_range(start=df['DATE'].min(), end=df['DATE'].max())\n",
    "    df_fill = pd.DataFrame({'DATE': date_range})\n",
    "    df_fill['DATE'] = pd.to_datetime(df_fill['DATE']).dt.date\n",
    "\n",
    "    # Sort the original DataFrame by 'AGENCY' and 'DATE'\n",
    "    df = df.sort_values(by=['ID_BRANCH', 'DATE'])\n",
    "\n",
    "    # Create an empty DataFrame to hold the result\n",
    "    result_df = pd.DataFrame()\n",
    "\n",
    "    # Loop through each 'AGENCY'\n",
    "    for agency in df['ID_BRANCH'].unique():\n",
    "        df_aux = df[df['ID_BRANCH'] == agency]\n",
    "        # Combining df_aux (AGENCY) with df_fill, keeping values from df_aux and filling dates, value1, value2 and value3\n",
    "        merged_df = df_aux.set_index('DATE').combine_first(df_fill.set_index('DATE')).reset_index()\n",
    "        \n",
    "    # Fill missing values in 'other_column1', 'other_column2', ... columns\n",
    "        columns_to_fill = ['ID_BRANCH']\n",
    "        merged_df[columns_to_fill] = merged_df[columns_to_fill].ffill().bfill()\n",
    "\n",
    "        result_df = pd.concat([result_df, merged_df], ignore_index=True)\n",
    "\n",
    "    return result_df\n"
   ]
  },
  {
   "cell_type": "code",
   "execution_count": 47,
   "id": "f7d6c72c-1439-4138-b361-7623a2deb57d",
   "metadata": {
    "tags": []
   },
   "outputs": [],
   "source": [
    "result_df = fill_missing_dates(stump) # ups era con el stump, funcionara?"
   ]
  },
  {
   "cell_type": "raw",
   "id": "71ba3a95-2c55-4cad-ab27-7defb3ad3eeb",
   "metadata": {},
   "source": [
    "# Create a date range that covers all the dates in your dataframe\n",
    "date_range = pd.date_range(start=merged_df['DATE'].min(), end=merged_df['DATE'].max())"
   ]
  },
  {
   "cell_type": "code",
   "execution_count": 48,
   "id": "c2bec99c-60d2-46ee-95ad-45b082d05e66",
   "metadata": {
    "tags": []
   },
   "outputs": [
    {
     "name": "stdout",
     "output_type": "stream",
     "text": [
      "<class 'pandas.core.frame.DataFrame'>\n",
      "RangeIndex: 4505196 entries, 0 to 4505195\n",
      "Data columns (total 2 columns):\n",
      " #   Column     Non-Null Count    Dtype \n",
      "---  ------     --------------    ----- \n",
      " 0   DATE       4505196 non-null  object\n",
      " 1   ID_BRANCH  4504797 non-null  object\n",
      "dtypes: object(2)\n",
      "memory usage: 68.7+ MB\n"
     ]
    }
   ],
   "source": [
    "result_df.info(show_counts = True)"
   ]
  },
  {
   "cell_type": "code",
   "execution_count": 49,
   "id": "fe25466d-d77b-4f39-9a85-a3c06b278bdd",
   "metadata": {
    "tags": []
   },
   "outputs": [
    {
     "data": {
      "text/html": [
       "<div>\n",
       "<style scoped>\n",
       "    .dataframe tbody tr th:only-of-type {\n",
       "        vertical-align: middle;\n",
       "    }\n",
       "\n",
       "    .dataframe tbody tr th {\n",
       "        vertical-align: top;\n",
       "    }\n",
       "\n",
       "    .dataframe thead th {\n",
       "        text-align: right;\n",
       "    }\n",
       "</style>\n",
       "<table border=\"1\" class=\"dataframe\">\n",
       "  <thead>\n",
       "    <tr style=\"text-align: right;\">\n",
       "      <th></th>\n",
       "      <th>DATE</th>\n",
       "      <th>ID_BRANCH</th>\n",
       "    </tr>\n",
       "  </thead>\n",
       "  <tbody>\n",
       "    <tr>\n",
       "      <th>0</th>\n",
       "      <td>2023-01-02</td>\n",
       "      <td>A00002</td>\n",
       "    </tr>\n",
       "    <tr>\n",
       "      <th>1</th>\n",
       "      <td>2023-01-04</td>\n",
       "      <td>A00002</td>\n",
       "    </tr>\n",
       "    <tr>\n",
       "      <th>2</th>\n",
       "      <td>2023-01-05</td>\n",
       "      <td>A00002</td>\n",
       "    </tr>\n",
       "    <tr>\n",
       "      <th>3</th>\n",
       "      <td>2023-01-09</td>\n",
       "      <td>A00002</td>\n",
       "    </tr>\n",
       "    <tr>\n",
       "      <th>4</th>\n",
       "      <td>2023-01-10</td>\n",
       "      <td>A00002</td>\n",
       "    </tr>\n",
       "  </tbody>\n",
       "</table>\n",
       "</div>"
      ],
      "text/plain": [
       "         DATE ID_BRANCH\n",
       "0  2023-01-02    A00002\n",
       "1  2023-01-04    A00002\n",
       "2  2023-01-05    A00002\n",
       "3  2023-01-09    A00002\n",
       "4  2023-01-10    A00002"
      ]
     },
     "execution_count": 49,
     "metadata": {},
     "output_type": "execute_result"
    }
   ],
   "source": [
    "result_df.head()"
   ]
  },
  {
   "cell_type": "code",
   "execution_count": 50,
   "id": "8e496d9e-3ed2-4855-a1c6-2e2c6036a9cd",
   "metadata": {
    "tags": []
   },
   "outputs": [],
   "source": [
    "result_df.to_csv('all_dates_branch.csv', index = False)"
   ]
  },
  {
   "cell_type": "markdown",
   "id": "14983a84-27fa-4f20-b5f3-35247b954868",
   "metadata": {},
   "source": [
    "# Reanudando desde aquí"
   ]
  },
  {
   "cell_type": "code",
   "execution_count": 51,
   "id": "87bf28fe-8458-4a02-81e7-86e003c1ff2e",
   "metadata": {
    "tags": []
   },
   "outputs": [],
   "source": [
    "result_df = pd.read_csv('all_dates_branch.csv')"
   ]
  },
  {
   "cell_type": "code",
   "execution_count": 52,
   "id": "adc7c59c-50c2-46f7-a4ca-8be957d03c22",
   "metadata": {
    "tags": []
   },
   "outputs": [],
   "source": [
    "df = pd.read_csv('2023_trx_balance_check_default_history5.csv')"
   ]
  },
  {
   "cell_type": "code",
   "execution_count": null,
   "id": "1d474444-1123-404f-81af-52792a71b133",
   "metadata": {},
   "outputs": [],
   "source": []
  },
  {
   "cell_type": "code",
   "execution_count": 53,
   "id": "fa41e634-fbcf-4b8d-8f3e-48ebdf7c3274",
   "metadata": {},
   "outputs": [],
   "source": [
    "lista =['DATE', 'ID_BRANCH', 'TX', 'AMOUNT','BALANCE','TX_check','TOTAL_AMOUNT_check','TX_MO','TOTAL_AMOUNT_MO','DSO_DEPO_DAY', 'INACTIVE_DAYS','DEFAULT']\n",
    "dinamic = df[lista]"
   ]
  },
  {
   "cell_type": "code",
   "execution_count": 54,
   "id": "bcd960c6-c56d-46d7-b44a-a8977163d563",
   "metadata": {},
   "outputs": [],
   "source": [
    "merged_df1 = pd.merge(result_df, dinamic, on=['DATE', 'ID_BRANCH'], how='left')"
   ]
  },
  {
   "cell_type": "code",
   "execution_count": 55,
   "id": "aa271a11-93dd-4815-8fd4-1f0b9009da87",
   "metadata": {},
   "outputs": [],
   "source": [
    "lista =['ID_BRANCH', 'AGENCY', 'ID_GROUP_COMPANY','START_DATE']\n",
    "static = df[lista]"
   ]
  },
  {
   "cell_type": "code",
   "execution_count": 56,
   "id": "15f9941f-a985-42cc-b6c7-7ac1f7598df1",
   "metadata": {
    "tags": []
   },
   "outputs": [],
   "source": [
    "static2 = static.drop_duplicates(subset=['ID_BRANCH'])"
   ]
  },
  {
   "cell_type": "code",
   "execution_count": 57,
   "id": "00d82bcb-f256-43e3-89c8-a0a1850ff927",
   "metadata": {
    "tags": []
   },
   "outputs": [
    {
     "name": "stdout",
     "output_type": "stream",
     "text": [
      "<class 'pandas.core.frame.DataFrame'>\n",
      "Index: 7129 entries, 0 to 1661111\n",
      "Data columns (total 4 columns):\n",
      " #   Column            Non-Null Count  Dtype \n",
      "---  ------            --------------  ----- \n",
      " 0   ID_BRANCH         7128 non-null   object\n",
      " 1   AGENCY            6938 non-null   object\n",
      " 2   ID_GROUP_COMPANY  6937 non-null   object\n",
      " 3   START_DATE        6928 non-null   object\n",
      "dtypes: object(4)\n",
      "memory usage: 278.5+ KB\n"
     ]
    }
   ],
   "source": [
    "static2.info(show_counts = True)"
   ]
  },
  {
   "cell_type": "code",
   "execution_count": 58,
   "id": "b2adc1a9-0454-40b3-b529-4f4586e1d969",
   "metadata": {},
   "outputs": [],
   "source": [
    "merged_df2 = pd.merge(merged_df1, static2, on=['ID_BRANCH'], how='left')"
   ]
  },
  {
   "cell_type": "code",
   "execution_count": 59,
   "id": "815a0caa-dc12-4ec1-823b-3160a3bb91e2",
   "metadata": {},
   "outputs": [
    {
     "name": "stdout",
     "output_type": "stream",
     "text": [
      "<class 'pandas.core.frame.DataFrame'>\n",
      "RangeIndex: 4505196 entries, 0 to 4505195\n",
      "Data columns (total 15 columns):\n",
      " #   Column              Non-Null Count    Dtype  \n",
      "---  ------              --------------    -----  \n",
      " 0   DATE                4505196 non-null  object \n",
      " 1   ID_BRANCH           4504797 non-null  object \n",
      " 2   TX                  3300168 non-null  float64\n",
      " 3   AMOUNT              3300168 non-null  float64\n",
      " 4   BALANCE             3299578 non-null  float64\n",
      " 5   TX_check            3300168 non-null  float64\n",
      " 6   TOTAL_AMOUNT_check  3300168 non-null  float64\n",
      " 7   TX_MO               273229 non-null   float64\n",
      " 8   TOTAL_AMOUNT_MO     273229 non-null   float64\n",
      " 9   DSO_DEPO_DAY        3000430 non-null  float64\n",
      " 10  INACTIVE_DAYS       43622 non-null    float64\n",
      " 11  DEFAULT             5890 non-null     float64\n",
      " 12  AGENCY              4419869 non-null  object \n",
      " 13  ID_GROUP_COMPANY    4419470 non-null  object \n",
      " 14  START_DATE          4415251 non-null  object \n",
      "dtypes: float64(10), object(5)\n",
      "memory usage: 515.6+ MB\n"
     ]
    }
   ],
   "source": [
    "merged_df2.info(show_counts = True)"
   ]
  },
  {
   "cell_type": "code",
   "execution_count": 60,
   "id": "4b353a1b-31a2-4832-ba3d-6c3079a577ee",
   "metadata": {},
   "outputs": [],
   "source": [
    "merged_df2.to_csv('default_ABT0.csv', index = False)"
   ]
  },
  {
   "cell_type": "markdown",
   "id": "b726ee59-f42b-436e-b209-e15a59b7c1c1",
   "metadata": {},
   "source": [
    "# Crear target, default 9 días antes y extraer de fecha día de la semana"
   ]
  },
  {
   "cell_type": "code",
   "execution_count": 5,
   "id": "1b166301-037d-4e97-963f-ba12b17a3fb5",
   "metadata": {
    "tags": []
   },
   "outputs": [],
   "source": [
    "df = pd.read_csv('default_ABT0.csv')"
   ]
  },
  {
   "cell_type": "code",
   "execution_count": 6,
   "id": "e1d6912b-2324-4391-aa6e-9565f0e54d18",
   "metadata": {},
   "outputs": [],
   "source": [
    "df['DEFAULT'] = df['DEFAULT'].fillna(0)"
   ]
  },
  {
   "cell_type": "code",
   "execution_count": 7,
   "id": "593b4a0c-cd6e-4f7b-9885-10b15bf6c8d3",
   "metadata": {
    "tags": []
   },
   "outputs": [],
   "source": [
    "# add day of week\n",
    "df['DATE'] = pd.to_datetime(df['DATE'], format='mixed')\n",
    "df['day_of_week'] = df['DATE'].dt.day_name()"
   ]
  },
  {
   "cell_type": "code",
   "execution_count": 8,
   "id": "eb7de5c2-8395-4093-8c94-575fe6b77616",
   "metadata": {
    "tags": []
   },
   "outputs": [],
   "source": [
    "# probar el duplicated para quedarse con los datos buenos y ahí probar generar la target!\n",
    "df['filtro'] = df.duplicated(subset=['DATE', 'ID_BRANCH'], keep='first')\n"
   ]
  },
  {
   "cell_type": "code",
   "execution_count": 9,
   "id": "f3897f88-0206-4745-951b-641e3ad821c2",
   "metadata": {
    "tags": []
   },
   "outputs": [
    {
     "name": "stdout",
     "output_type": "stream",
     "text": [
      "<class 'pandas.core.frame.DataFrame'>\n",
      "Index: 2844471 entries, 0 to 4505195\n",
      "Data columns (total 17 columns):\n",
      " #   Column              Non-Null Count    Dtype         \n",
      "---  ------              --------------    -----         \n",
      " 0   DATE                2844471 non-null  datetime64[ns]\n",
      " 1   ID_BRANCH           2844072 non-null  object        \n",
      " 2   TX                  1650084 non-null  float64       \n",
      " 3   AMOUNT              1650084 non-null  float64       \n",
      " 4   BALANCE             1649789 non-null  float64       \n",
      " 5   TX_check            1650084 non-null  float64       \n",
      " 6   TOTAL_AMOUNT_check  1650084 non-null  float64       \n",
      " 7   TX_MO               136809 non-null   float64       \n",
      " 8   TOTAL_AMOUNT_MO     136809 non-null   float64       \n",
      " 9   DSO_DEPO_DAY        1500215 non-null  float64       \n",
      " 10  INACTIVE_DAYS       21811 non-null    float64       \n",
      " 11  DEFAULT             2844471 non-null  float64       \n",
      " 12  AGENCY              2768262 non-null  object        \n",
      " 13  ID_GROUP_COMPANY    2767863 non-null  object        \n",
      " 14  START_DATE          2764272 non-null  object        \n",
      " 15  day_of_week         2844471 non-null  object        \n",
      " 16  filtro              2844471 non-null  bool          \n",
      "dtypes: bool(1), datetime64[ns](1), float64(10), object(5)\n",
      "memory usage: 371.6+ MB\n"
     ]
    }
   ],
   "source": [
    "d8 = df[df['filtro'] == False]\n",
    "d8.info(show_counts = True)"
   ]
  },
  {
   "cell_type": "code",
   "execution_count": 10,
   "id": "5063ad82-79ca-4acb-a958-7b610e9b946a",
   "metadata": {
    "tags": []
   },
   "outputs": [
    {
     "name": "stderr",
     "output_type": "stream",
     "text": [
      "/tmp/ipykernel_21/123235449.py:1: SettingWithCopyWarning: \n",
      "A value is trying to be set on a copy of a slice from a DataFrame.\n",
      "Try using .loc[row_indexer,col_indexer] = value instead\n",
      "\n",
      "See the caveats in the documentation: https://pandas.pydata.org/pandas-docs/stable/user_guide/indexing.html#returning-a-view-versus-a-copy\n",
      "  d8['DATE'] = d8['DATE'].dt.strftime('%Y-%m-%d')\n",
      "/tmp/ipykernel_21/123235449.py:2: SettingWithCopyWarning: \n",
      "A value is trying to be set on a copy of a slice from a DataFrame.\n",
      "Try using .loc[row_indexer,col_indexer] = value instead\n",
      "\n",
      "See the caveats in the documentation: https://pandas.pydata.org/pandas-docs/stable/user_guide/indexing.html#returning-a-view-versus-a-copy\n",
      "  d8['DATE1'] = d8['DATE'].astype(str)\n",
      "/tmp/ipykernel_21/123235449.py:3: SettingWithCopyWarning: \n",
      "A value is trying to be set on a copy of a slice from a DataFrame.\n",
      "Try using .loc[row_indexer,col_indexer] = value instead\n",
      "\n",
      "See the caveats in the documentation: https://pandas.pydata.org/pandas-docs/stable/user_guide/indexing.html#returning-a-view-versus-a-copy\n",
      "  d8['DATE_ID_BRANCH'] = d8['DATE1'] + '_' + d8['ID_BRANCH']\n"
     ]
    }
   ],
   "source": [
    "d8['DATE'] = d8['DATE'].dt.strftime('%Y-%m-%d')\n",
    "d8['DATE1'] = d8['DATE'].astype(str)\n",
    "d8['DATE_ID_BRANCH'] = d8['DATE1'] + '_' + d8['ID_BRANCH']"
   ]
  },
  {
   "cell_type": "code",
   "execution_count": 11,
   "id": "40716d22-39c8-4eb4-a74c-d6532dfcae29",
   "metadata": {
    "tags": []
   },
   "outputs": [
    {
     "name": "stderr",
     "output_type": "stream",
     "text": [
      "/tmp/ipykernel_21/2001156973.py:1: SettingWithCopyWarning: \n",
      "A value is trying to be set on a copy of a slice from a DataFrame.\n",
      "Try using .loc[row_indexer,col_indexer] = value instead\n",
      "\n",
      "See the caveats in the documentation: https://pandas.pydata.org/pandas-docs/stable/user_guide/indexing.html#returning-a-view-versus-a-copy\n",
      "  d8['filtro2'] = d8.duplicated(subset=['DATE_ID_BRANCH'], keep='first')\n"
     ]
    }
   ],
   "source": [
    "d8['filtro2'] = d8.duplicated(subset=['DATE_ID_BRANCH'], keep='first')"
   ]
  },
  {
   "cell_type": "code",
   "execution_count": 12,
   "id": "a86f52f8-0702-4228-98ae-e2ccd8123d71",
   "metadata": {
    "tags": []
   },
   "outputs": [
    {
     "name": "stdout",
     "output_type": "stream",
     "text": [
      "<class 'pandas.core.frame.DataFrame'>\n",
      "Index: 2844073 entries, 0 to 4504797\n",
      "Data columns (total 20 columns):\n",
      " #   Column              Non-Null Count    Dtype  \n",
      "---  ------              --------------    -----  \n",
      " 0   DATE                2844073 non-null  object \n",
      " 1   ID_BRANCH           2844072 non-null  object \n",
      " 2   TX                  1650084 non-null  float64\n",
      " 3   AMOUNT              1650084 non-null  float64\n",
      " 4   BALANCE             1649789 non-null  float64\n",
      " 5   TX_check            1650084 non-null  float64\n",
      " 6   TOTAL_AMOUNT_check  1650084 non-null  float64\n",
      " 7   TX_MO               136421 non-null   float64\n",
      " 8   TOTAL_AMOUNT_MO     136421 non-null   float64\n",
      " 9   DSO_DEPO_DAY        1500215 non-null  float64\n",
      " 10  INACTIVE_DAYS       21811 non-null    float64\n",
      " 11  DEFAULT             2844073 non-null  float64\n",
      " 12  AGENCY              2767864 non-null  object \n",
      " 13  ID_GROUP_COMPANY    2767863 non-null  object \n",
      " 14  START_DATE          2764272 non-null  object \n",
      " 15  day_of_week         2844073 non-null  object \n",
      " 16  filtro              2844073 non-null  bool   \n",
      " 17  DATE1               2844073 non-null  object \n",
      " 18  DATE_ID_BRANCH      2844072 non-null  object \n",
      " 19  filtro2             2844073 non-null  bool   \n",
      "dtypes: bool(2), float64(10), object(8)\n",
      "memory usage: 417.7+ MB\n"
     ]
    }
   ],
   "source": [
    "d9 = d8[d8['filtro2'] == False]\n",
    "d9.info(show_counts = True)"
   ]
  },
  {
   "cell_type": "code",
   "execution_count": 13,
   "id": "f1318584-c1d0-4c9c-a302-6bf13f5a6a84",
   "metadata": {
    "tags": []
   },
   "outputs": [],
   "source": [
    "# otra forma de hacer la target, y es la posta!\n",
    "d9=d9.sort_values(by=['ID_BRANCH', 'DATE'])\n",
    "d9['TARGET'] =d9.groupby('ID_BRANCH')['DEFAULT'].shift(-9)"
   ]
  },
  {
   "cell_type": "code",
   "execution_count": 14,
   "id": "a07379ba-a046-4ac1-8845-1fe9ebed11a2",
   "metadata": {
    "tags": []
   },
   "outputs": [],
   "source": [
    "# borrar columnas no deseadas\n",
    "lista = ['filtro', 'DATE1', 'DATE_ID_BRANCH', 'filtro2']\n",
    "d9 = d9.drop(lista, axis=1)"
   ]
  },
  {
   "cell_type": "code",
   "execution_count": 15,
   "id": "5fddb4c6-dfbb-4dca-a6df-a5c8c995a0f6",
   "metadata": {
    "tags": []
   },
   "outputs": [],
   "source": [
    "# guradar\n",
    "d9.to_csv('default_ABT1.csv', index = False)"
   ]
  },
  {
   "cell_type": "code",
   "execution_count": null,
   "id": "9daf2e15-eb8c-413f-ba8c-b35b013f6567",
   "metadata": {},
   "outputs": [],
   "source": []
  },
  {
   "cell_type": "raw",
   "id": "18a8d8f5-97ed-498a-918d-51d099254424",
   "metadata": {},
   "source": [
    "# y si hago una variable compuesta? date-id_branch para sacar la target???\n",
    "\n",
    "df['DATE_ID_BRANCH'] = df['DATE'] + '_' + df['country']"
   ]
  },
  {
   "cell_type": "code",
   "execution_count": null,
   "id": "975e182f-c4d9-4690-9704-afda86d9e2f8",
   "metadata": {},
   "outputs": [],
   "source": []
  },
  {
   "cell_type": "raw",
   "id": "0eb82d1d-1f00-41f1-9d53-87230acb543d",
   "metadata": {
    "tags": []
   },
   "source": [
    "df['TARGET'] =df.groupby('ID_BRANCH')['DEFAULT'].shift(-9).to_numpy()"
   ]
  },
  {
   "cell_type": "code",
   "execution_count": 23,
   "id": "8b542268-43da-45f0-978c-8beb6157ae9b",
   "metadata": {
    "tags": []
   },
   "outputs": [],
   "source": [
    "# Target default mondays inactivation wednesday next week, lag 9 days, at slicing could serve tue and wed also\n",
    "df['TARGET'] = df.set_index('DATE').groupby('ID_BRANCH', sort=False)['DEFAULT'].shift(-9).to_numpy()\n",
    "# You can fill this NaN with 0 or another appropriate value\n",
    "df['TARGET'] = df['TARGET'].fillna(0)"
   ]
  },
  {
   "cell_type": "code",
   "execution_count": 8,
   "id": "fad96a07-774b-417b-9e2d-226b8f2ddca1",
   "metadata": {
    "tags": []
   },
   "outputs": [
    {
     "data": {
      "text/plain": [
       "5890.0"
      ]
     },
     "execution_count": 8,
     "metadata": {},
     "output_type": "execute_result"
    }
   ],
   "source": [
    "df['DEFAULT'].sum() # vs default original 5226 registros, sin fillna de default daba 3155, con fillna sigue dando 3155, con fechas formato homogeneo 8347\n",
    "# 8941/10452 con id_branch sin espacios gano alguna covertura"
   ]
  },
  {
   "cell_type": "code",
   "execution_count": 24,
   "id": "ce5346bf-3992-4178-b5a2-656c913d67dc",
   "metadata": {
    "tags": []
   },
   "outputs": [
    {
     "data": {
      "text/html": [
       "<div>\n",
       "<style scoped>\n",
       "    .dataframe tbody tr th:only-of-type {\n",
       "        vertical-align: middle;\n",
       "    }\n",
       "\n",
       "    .dataframe tbody tr th {\n",
       "        vertical-align: top;\n",
       "    }\n",
       "\n",
       "    .dataframe thead th {\n",
       "        text-align: right;\n",
       "    }\n",
       "</style>\n",
       "<table border=\"1\" class=\"dataframe\">\n",
       "  <thead>\n",
       "    <tr style=\"text-align: right;\">\n",
       "      <th></th>\n",
       "      <th>DATE</th>\n",
       "      <th>ID_BRANCH</th>\n",
       "      <th>TX</th>\n",
       "      <th>AMOUNT</th>\n",
       "      <th>BALANCE</th>\n",
       "      <th>TX_check</th>\n",
       "      <th>TOTAL_AMOUNT_check</th>\n",
       "      <th>TX_MO</th>\n",
       "      <th>TOTAL_AMOUNT_MO</th>\n",
       "      <th>DSO_DEPO_DAY</th>\n",
       "      <th>INACTIVE_DAYS</th>\n",
       "      <th>DEFAULT</th>\n",
       "      <th>AGENCY</th>\n",
       "      <th>ID_GROUP_COMPANY</th>\n",
       "      <th>START_DATE</th>\n",
       "      <th>day_of_week</th>\n",
       "      <th>filtro</th>\n",
       "      <th>TARGET</th>\n",
       "    </tr>\n",
       "  </thead>\n",
       "  <tbody>\n",
       "    <tr>\n",
       "      <th>0</th>\n",
       "      <td>2023-01-02</td>\n",
       "      <td>A00002</td>\n",
       "      <td>0.0</td>\n",
       "      <td>0.0</td>\n",
       "      <td>13853.8257</td>\n",
       "      <td>0.0</td>\n",
       "      <td>0.0</td>\n",
       "      <td>NaN</td>\n",
       "      <td>NaN</td>\n",
       "      <td>0.0</td>\n",
       "      <td>NaN</td>\n",
       "      <td>0.0</td>\n",
       "      <td>MD0002</td>\n",
       "      <td>USA000002</td>\n",
       "      <td>2018-10-02</td>\n",
       "      <td>Monday</td>\n",
       "      <td>False</td>\n",
       "      <td>0.0</td>\n",
       "    </tr>\n",
       "    <tr>\n",
       "      <th>1</th>\n",
       "      <td>2023-01-04</td>\n",
       "      <td>A00002</td>\n",
       "      <td>1.0</td>\n",
       "      <td>340.0</td>\n",
       "      <td>13853.8257</td>\n",
       "      <td>0.0</td>\n",
       "      <td>0.0</td>\n",
       "      <td>NaN</td>\n",
       "      <td>NaN</td>\n",
       "      <td>0.0</td>\n",
       "      <td>NaN</td>\n",
       "      <td>0.0</td>\n",
       "      <td>MD0002</td>\n",
       "      <td>USA000002</td>\n",
       "      <td>2018-10-02</td>\n",
       "      <td>Wednesday</td>\n",
       "      <td>False</td>\n",
       "      <td>0.0</td>\n",
       "    </tr>\n",
       "    <tr>\n",
       "      <th>2</th>\n",
       "      <td>2023-01-05</td>\n",
       "      <td>A00002</td>\n",
       "      <td>1.0</td>\n",
       "      <td>25.0</td>\n",
       "      <td>14202.1057</td>\n",
       "      <td>0.0</td>\n",
       "      <td>0.0</td>\n",
       "      <td>NaN</td>\n",
       "      <td>NaN</td>\n",
       "      <td>0.0</td>\n",
       "      <td>NaN</td>\n",
       "      <td>0.0</td>\n",
       "      <td>MD0002</td>\n",
       "      <td>USA000002</td>\n",
       "      <td>2018-10-02</td>\n",
       "      <td>Thursday</td>\n",
       "      <td>False</td>\n",
       "      <td>0.0</td>\n",
       "    </tr>\n",
       "    <tr>\n",
       "      <th>3</th>\n",
       "      <td>2023-01-09</td>\n",
       "      <td>A00002</td>\n",
       "      <td>6.0</td>\n",
       "      <td>6.0</td>\n",
       "      <td>14232.1057</td>\n",
       "      <td>0.0</td>\n",
       "      <td>0.0</td>\n",
       "      <td>NaN</td>\n",
       "      <td>NaN</td>\n",
       "      <td>0.0</td>\n",
       "      <td>NaN</td>\n",
       "      <td>0.0</td>\n",
       "      <td>MD0002</td>\n",
       "      <td>USA000002</td>\n",
       "      <td>2018-10-02</td>\n",
       "      <td>Monday</td>\n",
       "      <td>False</td>\n",
       "      <td>0.0</td>\n",
       "    </tr>\n",
       "    <tr>\n",
       "      <th>4</th>\n",
       "      <td>2023-01-10</td>\n",
       "      <td>A00002</td>\n",
       "      <td>1.0</td>\n",
       "      <td>1.0</td>\n",
       "      <td>14268.1057</td>\n",
       "      <td>0.0</td>\n",
       "      <td>0.0</td>\n",
       "      <td>NaN</td>\n",
       "      <td>NaN</td>\n",
       "      <td>0.0</td>\n",
       "      <td>NaN</td>\n",
       "      <td>0.0</td>\n",
       "      <td>MD0002</td>\n",
       "      <td>USA000002</td>\n",
       "      <td>2018-10-02</td>\n",
       "      <td>Tuesday</td>\n",
       "      <td>False</td>\n",
       "      <td>0.0</td>\n",
       "    </tr>\n",
       "  </tbody>\n",
       "</table>\n",
       "</div>"
      ],
      "text/plain": [
       "        DATE ID_BRANCH   TX  AMOUNT     BALANCE  TX_check  TOTAL_AMOUNT_check  \\\n",
       "0 2023-01-02    A00002  0.0     0.0  13853.8257       0.0                 0.0   \n",
       "1 2023-01-04    A00002  1.0   340.0  13853.8257       0.0                 0.0   \n",
       "2 2023-01-05    A00002  1.0    25.0  14202.1057       0.0                 0.0   \n",
       "3 2023-01-09    A00002  6.0     6.0  14232.1057       0.0                 0.0   \n",
       "4 2023-01-10    A00002  1.0     1.0  14268.1057       0.0                 0.0   \n",
       "\n",
       "   TX_MO  TOTAL_AMOUNT_MO  DSO_DEPO_DAY  INACTIVE_DAYS  DEFAULT  AGENCY  \\\n",
       "0    NaN              NaN           0.0            NaN      0.0  MD0002   \n",
       "1    NaN              NaN           0.0            NaN      0.0  MD0002   \n",
       "2    NaN              NaN           0.0            NaN      0.0  MD0002   \n",
       "3    NaN              NaN           0.0            NaN      0.0  MD0002   \n",
       "4    NaN              NaN           0.0            NaN      0.0  MD0002   \n",
       "\n",
       "  ID_GROUP_COMPANY  START_DATE day_of_week  filtro  TARGET  \n",
       "0        USA000002  2018-10-02      Monday   False     0.0  \n",
       "1        USA000002  2018-10-02   Wednesday   False     0.0  \n",
       "2        USA000002  2018-10-02    Thursday   False     0.0  \n",
       "3        USA000002  2018-10-02      Monday   False     0.0  \n",
       "4        USA000002  2018-10-02     Tuesday   False     0.0  "
      ]
     },
     "execution_count": 24,
     "metadata": {},
     "output_type": "execute_result"
    }
   ],
   "source": [
    "df.head()"
   ]
  },
  {
   "cell_type": "code",
   "execution_count": 10,
   "id": "11a42b87-e8b9-419d-be2e-8be189d3fc43",
   "metadata": {
    "tags": []
   },
   "outputs": [
    {
     "data": {
      "text/plain": [
       "5410.0"
      ]
     },
     "execution_count": 10,
     "metadata": {},
     "output_type": "execute_result"
    }
   ],
   "source": [
    " df['TARGET'].sum()"
   ]
  },
  {
   "cell_type": "code",
   "execution_count": 11,
   "id": "fb3c2420-ea2f-41e1-8379-29027af6eae1",
   "metadata": {
    "tags": []
   },
   "outputs": [
    {
     "data": {
      "text/plain": [
       "0.9185059422750425"
      ]
     },
     "execution_count": 11,
     "metadata": {},
     "output_type": "execute_result"
    }
   ],
   "source": [
    "5410/5890"
   ]
  },
  {
   "cell_type": "code",
   "execution_count": 22,
   "id": "77c77fbe-0bfb-40a8-afc4-b2214cef115b",
   "metadata": {
    "tags": []
   },
   "outputs": [
    {
     "data": {
      "text/plain": [
       "0.8554343666283964"
      ]
     },
     "execution_count": 22,
     "metadata": {},
     "output_type": "execute_result"
    }
   ],
   "source": [
    "8941/10452"
   ]
  },
  {
   "cell_type": "code",
   "execution_count": 20,
   "id": "c44ffa75-c03e-4822-95a7-6f21ee9f0a75",
   "metadata": {
    "tags": []
   },
   "outputs": [
    {
     "data": {
      "text/plain": [
       "0.798603138155377"
      ]
     },
     "execution_count": 20,
     "metadata": {},
     "output_type": "execute_result"
    }
   ],
   "source": [
    "8347/10452 #con las fechas bien gané de 0.6037 a 0.7986 de cobertura target/default"
   ]
  },
  {
   "cell_type": "code",
   "execution_count": 14,
   "id": "1ef1a42e-bc8e-4107-88d9-0ad536bf322a",
   "metadata": {
    "tags": []
   },
   "outputs": [
    {
     "data": {
      "text/plain": [
       "0.6037122081898201"
      ]
     },
     "execution_count": 14,
     "metadata": {},
     "output_type": "execute_result"
    }
   ],
   "source": [
    "3155/5226"
   ]
  },
  {
   "cell_type": "code",
   "execution_count": 21,
   "id": "ea074eb4-c7dc-4cdf-8776-3e099558ecf1",
   "metadata": {
    "tags": []
   },
   "outputs": [],
   "source": [
    "d2 = df[df['DATE'] < '2022-01-12']"
   ]
  },
  {
   "cell_type": "code",
   "execution_count": 22,
   "id": "faa0f73f-ec38-4386-8409-4d210c836f35",
   "metadata": {},
   "outputs": [
    {
     "data": {
      "text/plain": [
       "89.0"
      ]
     },
     "execution_count": 22,
     "metadata": {},
     "output_type": "execute_result"
    }
   ],
   "source": [
    "d2['DEFAULT'].sum()"
   ]
  },
  {
   "cell_type": "code",
   "execution_count": 23,
   "id": "e52a2f8b-5abe-463f-babd-48fe5326a4fc",
   "metadata": {
    "tags": []
   },
   "outputs": [
    {
     "data": {
      "text/plain": [
       "5137"
      ]
     },
     "execution_count": 23,
     "metadata": {},
     "output_type": "execute_result"
    }
   ],
   "source": [
    "5226-89 # este sería el numero total de target por los defaults de los primeros días que serian sacados del date_range original"
   ]
  },
  {
   "cell_type": "code",
   "execution_count": 29,
   "id": "59592a02-8f29-455e-8c28-6e91431ecf1b",
   "metadata": {
    "tags": []
   },
   "outputs": [],
   "source": [
    "# casteando id_branch como str? NOPPP\n",
    "df['ID_BRANCH'] =df['ID_BRANCH'].astype(str)"
   ]
  },
  {
   "cell_type": "code",
   "execution_count": 51,
   "id": "b1952a8f-8e20-40c8-8240-c5f3185b54f6",
   "metadata": {
    "tags": []
   },
   "outputs": [
    {
     "data": {
      "text/plain": [
       "761"
      ]
     },
     "execution_count": 51,
     "metadata": {},
     "output_type": "execute_result"
    }
   ],
   "source": [
    "date_only = d4['DATE'].dt.date\n",
    "num_days = len(date_only.unique())\n",
    "num_days"
   ]
  },
  {
   "cell_type": "code",
   "execution_count": 9,
   "id": "b79dccdb-d838-4885-9a49-033184d8b4b0",
   "metadata": {
    "tags": []
   },
   "outputs": [],
   "source": [
    "# probar el duplicated para quedarse con los datos buenos y ahí probar generar la target!\n",
    "df['filtro'] = df.duplicated(subset=['DATE', 'ID_BRANCH'], keep='first')\n"
   ]
  },
  {
   "cell_type": "code",
   "execution_count": 10,
   "id": "fe3bc8d0-be3d-49aa-9cd2-6041698cb5ff",
   "metadata": {
    "tags": []
   },
   "outputs": [],
   "source": [
    "d7 = df[df['filtro'] == True]"
   ]
  },
  {
   "cell_type": "code",
   "execution_count": 11,
   "id": "3accdf56-3ddd-4a7f-8a58-a238ed02f6d2",
   "metadata": {
    "tags": []
   },
   "outputs": [
    {
     "name": "stdout",
     "output_type": "stream",
     "text": [
      "<class 'pandas.core.frame.DataFrame'>\n",
      "Index: 1660725 entries, 266 to 4504759\n",
      "Data columns (total 17 columns):\n",
      " #   Column              Non-Null Count    Dtype         \n",
      "---  ------              --------------    -----         \n",
      " 0   DATE                1660725 non-null  datetime64[ns]\n",
      " 1   ID_BRANCH           1660725 non-null  object        \n",
      " 2   TX                  1650084 non-null  float64       \n",
      " 3   AMOUNT              1650084 non-null  float64       \n",
      " 4   BALANCE             1649789 non-null  float64       \n",
      " 5   TX_check            1650084 non-null  float64       \n",
      " 6   TOTAL_AMOUNT_check  1650084 non-null  float64       \n",
      " 7   TX_MO               136420 non-null   float64       \n",
      " 8   TOTAL_AMOUNT_MO     136420 non-null   float64       \n",
      " 9   DSO_DEPO_DAY        1500215 non-null  float64       \n",
      " 10  INACTIVE_DAYS       21811 non-null    float64       \n",
      " 11  DEFAULT             1660725 non-null  float64       \n",
      " 12  AGENCY              1651607 non-null  object        \n",
      " 13  ID_GROUP_COMPANY    1651607 non-null  object        \n",
      " 14  START_DATE          1650979 non-null  object        \n",
      " 15  day_of_week         1660725 non-null  object        \n",
      " 16  filtro              1660725 non-null  bool          \n",
      "dtypes: bool(1), datetime64[ns](1), float64(10), object(5)\n",
      "memory usage: 217.0+ MB\n"
     ]
    }
   ],
   "source": [
    "d7.info(show_counts = True)"
   ]
  },
  {
   "cell_type": "code",
   "execution_count": 12,
   "id": "8728893a-fb80-4fde-8f3c-d8665e082770",
   "metadata": {
    "tags": []
   },
   "outputs": [
    {
     "name": "stdout",
     "output_type": "stream",
     "text": [
      "<class 'pandas.core.frame.DataFrame'>\n",
      "Index: 2844471 entries, 0 to 4505195\n",
      "Data columns (total 17 columns):\n",
      " #   Column              Non-Null Count    Dtype         \n",
      "---  ------              --------------    -----         \n",
      " 0   DATE                2844471 non-null  datetime64[ns]\n",
      " 1   ID_BRANCH           2844072 non-null  object        \n",
      " 2   TX                  1650084 non-null  float64       \n",
      " 3   AMOUNT              1650084 non-null  float64       \n",
      " 4   BALANCE             1649789 non-null  float64       \n",
      " 5   TX_check            1650084 non-null  float64       \n",
      " 6   TOTAL_AMOUNT_check  1650084 non-null  float64       \n",
      " 7   TX_MO               136809 non-null   float64       \n",
      " 8   TOTAL_AMOUNT_MO     136809 non-null   float64       \n",
      " 9   DSO_DEPO_DAY        1500215 non-null  float64       \n",
      " 10  INACTIVE_DAYS       21811 non-null    float64       \n",
      " 11  DEFAULT             2844471 non-null  float64       \n",
      " 12  AGENCY              2768262 non-null  object        \n",
      " 13  ID_GROUP_COMPANY    2767863 non-null  object        \n",
      " 14  START_DATE          2764272 non-null  object        \n",
      " 15  day_of_week         2844471 non-null  object        \n",
      " 16  filtro              2844471 non-null  bool          \n",
      "dtypes: bool(1), datetime64[ns](1), float64(10), object(5)\n",
      "memory usage: 371.6+ MB\n"
     ]
    }
   ],
   "source": [
    "d8 = df[df['filtro'] == False]\n",
    "d8.info(show_counts = True)"
   ]
  },
  {
   "cell_type": "code",
   "execution_count": 13,
   "id": "1197e307-f861-450e-b871-5f06ee4d98d7",
   "metadata": {
    "tags": []
   },
   "outputs": [
    {
     "data": {
      "text/plain": [
       "0.05250641785509101"
      ]
     },
     "execution_count": 13,
     "metadata": {},
     "output_type": "execute_result"
    }
   ],
   "source": [
    "86640/1650084 #pierdo un 5% de las días con tx.... filtrar y comparar, No se pierden están duplicados con datos!!!!"
   ]
  },
  {
   "cell_type": "code",
   "execution_count": 14,
   "id": "ffff1cf5-9f3e-42cf-bf20-6e0de46947e8",
   "metadata": {
    "tags": []
   },
   "outputs": [
    {
     "data": {
      "text/plain": [
       "0.243375020228099"
      ]
     },
     "execution_count": 14,
     "metadata": {},
     "output_type": "execute_result"
    }
   ],
   "source": [
    "1645312/6760398 #24% de repetidos"
   ]
  },
  {
   "cell_type": "code",
   "execution_count": 15,
   "id": "ef69b359-f833-4cfa-a711-2bebec65dd56",
   "metadata": {
    "tags": []
   },
   "outputs": [
    {
     "name": "stderr",
     "output_type": "stream",
     "text": [
      "/tmp/ipykernel_18/1835377372.py:2: SettingWithCopyWarning: \n",
      "A value is trying to be set on a copy of a slice from a DataFrame.\n",
      "Try using .loc[row_indexer,col_indexer] = value instead\n",
      "\n",
      "See the caveats in the documentation: https://pandas.pydata.org/pandas-docs/stable/user_guide/indexing.html#returning-a-view-versus-a-copy\n",
      "  d8['DATE'] = d8['DATE'].dt.strftime('%Y-%m-%d')\n",
      "/tmp/ipykernel_18/1835377372.py:3: SettingWithCopyWarning: \n",
      "A value is trying to be set on a copy of a slice from a DataFrame.\n",
      "Try using .loc[row_indexer,col_indexer] = value instead\n",
      "\n",
      "See the caveats in the documentation: https://pandas.pydata.org/pandas-docs/stable/user_guide/indexing.html#returning-a-view-versus-a-copy\n",
      "  d8['DATE1'] = d8['DATE'].astype(str)\n",
      "/tmp/ipykernel_18/1835377372.py:4: SettingWithCopyWarning: \n",
      "A value is trying to be set on a copy of a slice from a DataFrame.\n",
      "Try using .loc[row_indexer,col_indexer] = value instead\n",
      "\n",
      "See the caveats in the documentation: https://pandas.pydata.org/pandas-docs/stable/user_guide/indexing.html#returning-a-view-versus-a-copy\n",
      "  d8['DATE_ID_BRANCH'] = d8['DATE1'] + '_' + d8['ID_BRANCH']\n"
     ]
    }
   ],
   "source": [
    "# sigue habiendo duplicados en d8? si formateo la fecha a sólo año-mes-día ayuda?\n",
    "d8['DATE'] = d8['DATE'].dt.strftime('%Y-%m-%d')\n",
    "d8['DATE1'] = d8['DATE'].astype(str)\n",
    "d8['DATE_ID_BRANCH'] = d8['DATE1'] + '_' + d8['ID_BRANCH']"
   ]
  },
  {
   "cell_type": "code",
   "execution_count": 16,
   "id": "f1ba733c-72cd-4366-90b7-fe8b0a183aa9",
   "metadata": {
    "tags": []
   },
   "outputs": [
    {
     "name": "stderr",
     "output_type": "stream",
     "text": [
      "/tmp/ipykernel_18/2001156973.py:1: SettingWithCopyWarning: \n",
      "A value is trying to be set on a copy of a slice from a DataFrame.\n",
      "Try using .loc[row_indexer,col_indexer] = value instead\n",
      "\n",
      "See the caveats in the documentation: https://pandas.pydata.org/pandas-docs/stable/user_guide/indexing.html#returning-a-view-versus-a-copy\n",
      "  d8['filtro2'] = d8.duplicated(subset=['DATE_ID_BRANCH'], keep='first')\n"
     ]
    }
   ],
   "source": [
    "d8['filtro2'] = d8.duplicated(subset=['DATE_ID_BRANCH'], keep='first')"
   ]
  },
  {
   "cell_type": "code",
   "execution_count": 17,
   "id": "de8e2f86-6cb9-4666-abf3-6380a8a74e2e",
   "metadata": {
    "tags": []
   },
   "outputs": [
    {
     "name": "stdout",
     "output_type": "stream",
     "text": [
      "<class 'pandas.core.frame.DataFrame'>\n",
      "Index: 2844073 entries, 0 to 4504797\n",
      "Data columns (total 20 columns):\n",
      " #   Column              Non-Null Count    Dtype  \n",
      "---  ------              --------------    -----  \n",
      " 0   DATE                2844073 non-null  object \n",
      " 1   ID_BRANCH           2844072 non-null  object \n",
      " 2   TX                  1650084 non-null  float64\n",
      " 3   AMOUNT              1650084 non-null  float64\n",
      " 4   BALANCE             1649789 non-null  float64\n",
      " 5   TX_check            1650084 non-null  float64\n",
      " 6   TOTAL_AMOUNT_check  1650084 non-null  float64\n",
      " 7   TX_MO               136421 non-null   float64\n",
      " 8   TOTAL_AMOUNT_MO     136421 non-null   float64\n",
      " 9   DSO_DEPO_DAY        1500215 non-null  float64\n",
      " 10  INACTIVE_DAYS       21811 non-null    float64\n",
      " 11  DEFAULT             2844073 non-null  float64\n",
      " 12  AGENCY              2767864 non-null  object \n",
      " 13  ID_GROUP_COMPANY    2767863 non-null  object \n",
      " 14  START_DATE          2764272 non-null  object \n",
      " 15  day_of_week         2844073 non-null  object \n",
      " 16  filtro              2844073 non-null  bool   \n",
      " 17  DATE1               2844073 non-null  object \n",
      " 18  DATE_ID_BRANCH      2844072 non-null  object \n",
      " 19  filtro2             2844073 non-null  bool   \n",
      "dtypes: bool(2), float64(10), object(8)\n",
      "memory usage: 417.7+ MB\n"
     ]
    }
   ],
   "source": [
    "d9 = d8[d8['filtro2'] == False]\n",
    "d9.info(show_counts = True)"
   ]
  },
  {
   "cell_type": "code",
   "execution_count": 18,
   "id": "7f95b91d-4069-492f-98a3-8de2fbb2489f",
   "metadata": {
    "tags": []
   },
   "outputs": [
    {
     "data": {
      "text/plain": [
       "2945.0"
      ]
     },
     "execution_count": 18,
     "metadata": {},
     "output_type": "execute_result"
    }
   ],
   "source": [
    "d8['DEFAULT'].sum()"
   ]
  },
  {
   "cell_type": "markdown",
   "id": "6eed3476-3271-4f1e-955c-592ddbeb980e",
   "metadata": {
    "tags": []
   },
   "source": [
    "d8['TARGET'].sum()#target calculado con los duplicados iguala y supera cantidad de defaults sin duplicados pero parece que le pega al menos a todos los casos"
   ]
  },
  {
   "cell_type": "raw",
   "id": "ac67be15-6727-4042-9251-e4746cd3d3f0",
   "metadata": {
    "tags": []
   },
   "source": [
    "d8['TARGET'].sum()#ganó casos de default la target con las fechas formato homogeneo..."
   ]
  },
  {
   "cell_type": "raw",
   "id": "95c04021-1e39-4576-816d-96b455570f49",
   "metadata": {
    "tags": []
   },
   "source": [
    "# Target default mondays inactivation wednesday next week, lag 9 days, at slicing could serve tue and wed also\n",
    "d8['TARGET2'] =d8.groupby('ID_BRANCH')['DEFAULT'].shift(-9).to_numpy()\n",
    "# You can fill this NaN with 0 or another appropriate value\n",
    "d8['TARGET2'] = d8['TARGET2'].fillna(0)"
   ]
  },
  {
   "cell_type": "code",
   "execution_count": 36,
   "id": "7b8f8bfc-9d01-4466-b44b-a7789916bb6d",
   "metadata": {
    "tags": []
   },
   "outputs": [
    {
     "name": "stderr",
     "output_type": "stream",
     "text": [
      "/tmp/ipykernel_18/1185361185.py:2: DeprecationWarning: DataFrameGroupBy.apply operated on the grouping columns. This behavior is deprecated, and in a future version of pandas the grouping columns will be excluded from the operation. Either pass `include_groups=False` to exclude the groupings or explicitly select the grouping columns after groupby to silence this warning.\n",
      "  df_full = d8.set_index('DATE').groupby('ID_BRANCH').apply( lambda x: x.reindex(pd.date_range(start=x.index.min(), end=x.index.max(), freq='D')) ).reset_index(level=0, drop=True).reset_index()\n"
     ]
    }
   ],
   "source": [
    "#código alterno para llenar todas las fechas para cada id_branch\n",
    "df_full = d8.set_index('DATE').groupby('ID_BRANCH').apply( lambda x: x.reindex(pd.date_range(start=x.index.min(), end=x.index.max(), freq='D')) ).reset_index(level=0, drop=True).reset_index()\n",
    "#kinda borró todos los datos...."
   ]
  },
  {
   "cell_type": "code",
   "execution_count": 40,
   "id": "19e5c2dc-c288-4650-8e2d-a1f05c557f13",
   "metadata": {
    "tags": []
   },
   "outputs": [
    {
     "name": "stdout",
     "output_type": "stream",
     "text": [
      "<class 'pandas.core.frame.DataFrame'>\n",
      "RangeIndex: 2844072 entries, 0 to 2844071\n",
      "Data columns (total 21 columns):\n",
      " #   Column              Non-Null Count    Dtype         \n",
      "---  ------              --------------    -----         \n",
      " 0   index               2844072 non-null  datetime64[ns]\n",
      " 1   ID_BRANCH           0 non-null        object        \n",
      " 2   TX                  0 non-null        float64       \n",
      " 3   AMOUNT              0 non-null        float64       \n",
      " 4   BALANCE             0 non-null        float64       \n",
      " 5   TX_check            0 non-null        float64       \n",
      " 6   TOTAL_AMOUNT_check  0 non-null        float64       \n",
      " 7   TX_MO               0 non-null        float64       \n",
      " 8   TOTAL_AMOUNT_MO     0 non-null        float64       \n",
      " 9   DSO_DEPO_DAY        0 non-null        float64       \n",
      " 10  INACTIVE_DAYS       0 non-null        float64       \n",
      " 11  DEFAULT             0 non-null        float64       \n",
      " 12  AGENCY              0 non-null        object        \n",
      " 13  ID_GROUP_COMPANY    0 non-null        object        \n",
      " 14  START_DATE          0 non-null        object        \n",
      " 15  day_of_week         0 non-null        object        \n",
      " 16  filtro              0 non-null        object        \n",
      " 17  DATE1               0 non-null        object        \n",
      " 18  DATE_ID_BRANCH      0 non-null        object        \n",
      " 19  filtro2             0 non-null        object        \n",
      " 20  TARGET2             0 non-null        float64       \n",
      "dtypes: datetime64[ns](1), float64(11), object(9)\n",
      "memory usage: 455.7+ MB\n"
     ]
    }
   ],
   "source": [
    "df_full.info(show_counts = True)"
   ]
  },
  {
   "cell_type": "code",
   "execution_count": 41,
   "id": "f221e12b-ffaf-40a3-8cc3-a6ffb27e260c",
   "metadata": {
    "tags": []
   },
   "outputs": [],
   "source": [
    "# otra forma de hacer la target, y es la posta!\n",
    "d8=d8.sort_values(by=['ID_BRANCH', 'DATE'])\n",
    "d8['TARGET3'] =d8.groupby('ID_BRANCH')['DEFAULT'].shift(-9)"
   ]
  },
  {
   "cell_type": "raw",
   "id": "5c325f78-7f15-464d-a69a-8134221037e7",
   "metadata": {
    "tags": []
   },
   "source": [
    "# Target default mondays inactivation wednesday next week, lag 9 days, at slicing could serve tue and wed also\n",
    "d8['TARGET2'] =d8.set_index('DATE').groupby('ID_BRANCH', sort=True)['DEFAULT'].shift(-9).to_numpy()#hay que sacar los espacios de los id_branch para que agrupe bien...\n",
    "# You can fill this NaN with 0 or another appropriate value\n",
    "d8['TARGET2'] = d8['TARGET2'].fillna(0)"
   ]
  },
  {
   "cell_type": "code",
   "execution_count": 21,
   "id": "30b281a0-cf40-4074-9522-9a56299f3d5a",
   "metadata": {
    "tags": []
   },
   "outputs": [
    {
     "data": {
      "text/plain": [
       "2483.0"
      ]
     },
     "execution_count": 21,
     "metadata": {},
     "output_type": "execute_result"
    }
   ],
   "source": [
    "d8['TARGET2'].sum() #fail total absoluto"
   ]
  },
  {
   "cell_type": "code",
   "execution_count": 23,
   "id": "628aabd9-f4ed-4f6b-9cdb-fc8d3c485445",
   "metadata": {
    "tags": []
   },
   "outputs": [
    {
     "data": {
      "text/plain": [
       "0.8431239388794567"
      ]
     },
     "execution_count": 23,
     "metadata": {},
     "output_type": "execute_result"
    }
   ],
   "source": [
    "2483/2945"
   ]
  },
  {
   "cell_type": "code",
   "execution_count": 42,
   "id": "23e66b14-1d23-44b9-9173-de587744a59b",
   "metadata": {
    "tags": []
   },
   "outputs": [
    {
     "data": {
      "text/plain": [
       "2873.0"
      ]
     },
     "execution_count": 42,
     "metadata": {},
     "output_type": "execute_result"
    }
   ],
   "source": [
    "d8['TARGET3'].sum()"
   ]
  },
  {
   "cell_type": "code",
   "execution_count": 43,
   "id": "3b1ea167-70c3-49f8-95bd-b0f7619cd80c",
   "metadata": {
    "tags": []
   },
   "outputs": [
    {
     "data": {
      "text/plain": [
       "0.9755517826825127"
      ]
     },
     "execution_count": 43,
     "metadata": {},
     "output_type": "execute_result"
    }
   ],
   "source": [
    "2873/2945"
   ]
  },
  {
   "cell_type": "code",
   "execution_count": 30,
   "id": "c5923bcf-e572-4fdc-bf17-eab26193aaa5",
   "metadata": {
    "tags": []
   },
   "outputs": [],
   "source": [
    "grouped_df = d8.groupby('ID_BRANCH').agg({ 'DEFAULT': 'sum', 'TARGET2': 'sum' }).reset_index() \n",
    "# Filtramos los casos donde las sumas sean distintas \n",
    "result_df = grouped_df[grouped_df['DEFAULT'] != grouped_df['TARGET2']]"
   ]
  },
  {
   "cell_type": "code",
   "execution_count": 31,
   "id": "da874a5c-50be-4d6b-afb1-270f445bdcd4",
   "metadata": {
    "tags": []
   },
   "outputs": [
    {
     "data": {
      "text/html": [
       "<div>\n",
       "<style scoped>\n",
       "    .dataframe tbody tr th:only-of-type {\n",
       "        vertical-align: middle;\n",
       "    }\n",
       "\n",
       "    .dataframe tbody tr th {\n",
       "        vertical-align: top;\n",
       "    }\n",
       "\n",
       "    .dataframe thead th {\n",
       "        text-align: right;\n",
       "    }\n",
       "</style>\n",
       "<table border=\"1\" class=\"dataframe\">\n",
       "  <thead>\n",
       "    <tr style=\"text-align: right;\">\n",
       "      <th></th>\n",
       "      <th>ID_BRANCH</th>\n",
       "      <th>DEFAULT</th>\n",
       "      <th>TARGET2</th>\n",
       "    </tr>\n",
       "  </thead>\n",
       "  <tbody>\n",
       "    <tr>\n",
       "      <th>14</th>\n",
       "      <td>A00337</td>\n",
       "      <td>1.0</td>\n",
       "      <td>0.0</td>\n",
       "    </tr>\n",
       "    <tr>\n",
       "      <th>50</th>\n",
       "      <td>A01300</td>\n",
       "      <td>1.0</td>\n",
       "      <td>0.0</td>\n",
       "    </tr>\n",
       "    <tr>\n",
       "      <th>77</th>\n",
       "      <td>A02091</td>\n",
       "      <td>3.0</td>\n",
       "      <td>0.0</td>\n",
       "    </tr>\n",
       "    <tr>\n",
       "      <th>89</th>\n",
       "      <td>A02420</td>\n",
       "      <td>1.0</td>\n",
       "      <td>0.0</td>\n",
       "    </tr>\n",
       "    <tr>\n",
       "      <th>156</th>\n",
       "      <td>A04126</td>\n",
       "      <td>1.0</td>\n",
       "      <td>0.0</td>\n",
       "    </tr>\n",
       "  </tbody>\n",
       "</table>\n",
       "</div>"
      ],
      "text/plain": [
       "    ID_BRANCH  DEFAULT  TARGET2\n",
       "14     A00337      1.0      0.0\n",
       "50     A01300      1.0      0.0\n",
       "77     A02091      3.0      0.0\n",
       "89     A02420      1.0      0.0\n",
       "156    A04126      1.0      0.0"
      ]
     },
     "execution_count": 31,
     "metadata": {},
     "output_type": "execute_result"
    }
   ],
   "source": [
    "result_df.head()"
   ]
  },
  {
   "cell_type": "code",
   "execution_count": 44,
   "id": "3b56887e-e3d8-405f-a46f-2161003bfa1a",
   "metadata": {
    "tags": []
   },
   "outputs": [
    {
     "name": "stdout",
     "output_type": "stream",
     "text": [
      "<class 'pandas.core.frame.DataFrame'>\n",
      "Index: 368 entries, 14 to 7021\n",
      "Data columns (total 3 columns):\n",
      " #   Column     Non-Null Count  Dtype  \n",
      "---  ------     --------------  -----  \n",
      " 0   ID_BRANCH  368 non-null    object \n",
      " 1   DEFAULT    368 non-null    float64\n",
      " 2   TARGET2    368 non-null    float64\n",
      "dtypes: float64(2), object(1)\n",
      "memory usage: 11.5+ KB\n"
     ]
    }
   ],
   "source": [
    "result_df.info(show_counts = True)"
   ]
  },
  {
   "cell_type": "code",
   "execution_count": 45,
   "id": "f3e390ae-3bd5-4067-9d49-61be8ec062d2",
   "metadata": {
    "tags": []
   },
   "outputs": [],
   "source": [
    "grouped_df = d8.groupby('ID_BRANCH').agg({ 'DEFAULT': 'sum', 'TARGET3': 'sum' }).reset_index() \n",
    "# Filtramos los casos donde las sumas sean distintas \n",
    "result_df = grouped_df[grouped_df['DEFAULT'] != grouped_df['TARGET3']]"
   ]
  },
  {
   "cell_type": "code",
   "execution_count": 46,
   "id": "d6d9811f-4099-4dbd-85a2-fbe64e454538",
   "metadata": {
    "tags": []
   },
   "outputs": [
    {
     "name": "stdout",
     "output_type": "stream",
     "text": [
      "<class 'pandas.core.frame.DataFrame'>\n",
      "Index: 72 entries, 278 to 4761\n",
      "Data columns (total 3 columns):\n",
      " #   Column     Non-Null Count  Dtype  \n",
      "---  ------     --------------  -----  \n",
      " 0   ID_BRANCH  72 non-null     object \n",
      " 1   DEFAULT    72 non-null     float64\n",
      " 2   TARGET3    72 non-null     float64\n",
      "dtypes: float64(2), object(1)\n",
      "memory usage: 2.2+ KB\n"
     ]
    }
   ],
   "source": [
    "result_df.info(show_counts = True)"
   ]
  },
  {
   "cell_type": "code",
   "execution_count": 47,
   "id": "8f23c3ed-f4f8-446d-8762-6b3ae2fb48c1",
   "metadata": {
    "tags": []
   },
   "outputs": [
    {
     "data": {
      "text/html": [
       "<div>\n",
       "<style scoped>\n",
       "    .dataframe tbody tr th:only-of-type {\n",
       "        vertical-align: middle;\n",
       "    }\n",
       "\n",
       "    .dataframe tbody tr th {\n",
       "        vertical-align: top;\n",
       "    }\n",
       "\n",
       "    .dataframe thead th {\n",
       "        text-align: right;\n",
       "    }\n",
       "</style>\n",
       "<table border=\"1\" class=\"dataframe\">\n",
       "  <thead>\n",
       "    <tr style=\"text-align: right;\">\n",
       "      <th></th>\n",
       "      <th>ID_BRANCH</th>\n",
       "      <th>DEFAULT</th>\n",
       "      <th>TARGET3</th>\n",
       "    </tr>\n",
       "  </thead>\n",
       "  <tbody>\n",
       "    <tr>\n",
       "      <th>278</th>\n",
       "      <td>A06713</td>\n",
       "      <td>4.0</td>\n",
       "      <td>3.0</td>\n",
       "    </tr>\n",
       "    <tr>\n",
       "      <th>476</th>\n",
       "      <td>A10458</td>\n",
       "      <td>2.0</td>\n",
       "      <td>1.0</td>\n",
       "    </tr>\n",
       "    <tr>\n",
       "      <th>477</th>\n",
       "      <td>A10495</td>\n",
       "      <td>8.0</td>\n",
       "      <td>7.0</td>\n",
       "    </tr>\n",
       "    <tr>\n",
       "      <th>892</th>\n",
       "      <td>A14583</td>\n",
       "      <td>1.0</td>\n",
       "      <td>0.0</td>\n",
       "    </tr>\n",
       "    <tr>\n",
       "      <th>938</th>\n",
       "      <td>A14848</td>\n",
       "      <td>7.0</td>\n",
       "      <td>6.0</td>\n",
       "    </tr>\n",
       "  </tbody>\n",
       "</table>\n",
       "</div>"
      ],
      "text/plain": [
       "    ID_BRANCH  DEFAULT  TARGET3\n",
       "278    A06713      4.0      3.0\n",
       "476    A10458      2.0      1.0\n",
       "477    A10495      8.0      7.0\n",
       "892    A14583      1.0      0.0\n",
       "938    A14848      7.0      6.0"
      ]
     },
     "execution_count": 47,
     "metadata": {},
     "output_type": "execute_result"
    }
   ],
   "source": [
    "result_df.head() #parece que sólo se perdieron los de primeros 9 días enero!"
   ]
  },
  {
   "cell_type": "code",
   "execution_count": 61,
   "id": "c87b06b3-a9e4-4a43-81a8-115990f8f8aa",
   "metadata": {
    "tags": []
   },
   "outputs": [],
   "source": [
    "# filtro por default =1 pero al filtrar por esos id_branches la tabla resultante no tiene default....Ahora q saque espacio de id_branch si\n",
    "d11 = d8[d8['ID_BRANCH'] == 'A10458']"
   ]
  },
  {
   "cell_type": "code",
   "execution_count": 62,
   "id": "4202ba5d-c31b-4134-a1c5-725a40d34173",
   "metadata": {
    "tags": []
   },
   "outputs": [
    {
     "data": {
      "text/plain": [
       "2.0"
      ]
     },
     "execution_count": 62,
     "metadata": {},
     "output_type": "execute_result"
    }
   ],
   "source": [
    "d11['DEFAULT'].sum()"
   ]
  },
  {
   "cell_type": "code",
   "execution_count": 63,
   "id": "792ed552-ddc1-4702-b400-bf4566a3c164",
   "metadata": {
    "tags": []
   },
   "outputs": [
    {
     "data": {
      "text/html": [
       "<div>\n",
       "<style scoped>\n",
       "    .dataframe tbody tr th:only-of-type {\n",
       "        vertical-align: middle;\n",
       "    }\n",
       "\n",
       "    .dataframe tbody tr th {\n",
       "        vertical-align: top;\n",
       "    }\n",
       "\n",
       "    .dataframe thead th {\n",
       "        text-align: right;\n",
       "    }\n",
       "</style>\n",
       "<table border=\"1\" class=\"dataframe\">\n",
       "  <thead>\n",
       "    <tr style=\"text-align: right;\">\n",
       "      <th></th>\n",
       "      <th>DATE</th>\n",
       "      <th>ID_BRANCH</th>\n",
       "      <th>TX</th>\n",
       "      <th>AMOUNT</th>\n",
       "      <th>BALANCE</th>\n",
       "      <th>TX_check</th>\n",
       "      <th>TOTAL_AMOUNT_check</th>\n",
       "      <th>TX_MO</th>\n",
       "      <th>TOTAL_AMOUNT_MO</th>\n",
       "      <th>DSO_DEPO_DAY</th>\n",
       "      <th>...</th>\n",
       "      <th>AGENCY</th>\n",
       "      <th>ID_GROUP_COMPANY</th>\n",
       "      <th>START_DATE</th>\n",
       "      <th>day_of_week</th>\n",
       "      <th>filtro</th>\n",
       "      <th>DATE1</th>\n",
       "      <th>DATE_ID_BRANCH</th>\n",
       "      <th>filtro2</th>\n",
       "      <th>TARGET2</th>\n",
       "      <th>TARGET3</th>\n",
       "    </tr>\n",
       "  </thead>\n",
       "  <tbody>\n",
       "    <tr>\n",
       "      <th>337570</th>\n",
       "      <td>2023-01-03</td>\n",
       "      <td>A10458</td>\n",
       "      <td>NaN</td>\n",
       "      <td>NaN</td>\n",
       "      <td>NaN</td>\n",
       "      <td>NaN</td>\n",
       "      <td>NaN</td>\n",
       "      <td>NaN</td>\n",
       "      <td>NaN</td>\n",
       "      <td>NaN</td>\n",
       "      <td>...</td>\n",
       "      <td>NaN</td>\n",
       "      <td>NaN</td>\n",
       "      <td>NaN</td>\n",
       "      <td>Tuesday</td>\n",
       "      <td>False</td>\n",
       "      <td>2023-01-03</td>\n",
       "      <td>2023-01-03_A10458</td>\n",
       "      <td>False</td>\n",
       "      <td>0.0</td>\n",
       "      <td>0.0</td>\n",
       "    </tr>\n",
       "    <tr>\n",
       "      <th>337604</th>\n",
       "      <td>2023-04-17</td>\n",
       "      <td>A10458</td>\n",
       "      <td>1.0</td>\n",
       "      <td>112.0</td>\n",
       "      <td>1796.7</td>\n",
       "      <td>0.0</td>\n",
       "      <td>0.0</td>\n",
       "      <td>NaN</td>\n",
       "      <td>NaN</td>\n",
       "      <td>0.0</td>\n",
       "      <td>...</td>\n",
       "      <td>NaN</td>\n",
       "      <td>NaN</td>\n",
       "      <td>NaN</td>\n",
       "      <td>Monday</td>\n",
       "      <td>False</td>\n",
       "      <td>2023-04-17</td>\n",
       "      <td>2023-04-17_A10458</td>\n",
       "      <td>False</td>\n",
       "      <td>0.0</td>\n",
       "      <td>0.0</td>\n",
       "    </tr>\n",
       "  </tbody>\n",
       "</table>\n",
       "<p>2 rows × 22 columns</p>\n",
       "</div>"
      ],
      "text/plain": [
       "              DATE ID_BRANCH   TX  AMOUNT  BALANCE  TX_check  \\\n",
       "337570  2023-01-03    A10458  NaN     NaN      NaN       NaN   \n",
       "337604  2023-04-17    A10458  1.0   112.0   1796.7       0.0   \n",
       "\n",
       "        TOTAL_AMOUNT_check  TX_MO  TOTAL_AMOUNT_MO  DSO_DEPO_DAY  ...  AGENCY  \\\n",
       "337570                 NaN    NaN              NaN           NaN  ...     NaN   \n",
       "337604                 0.0    NaN              NaN           0.0  ...     NaN   \n",
       "\n",
       "        ID_GROUP_COMPANY START_DATE day_of_week filtro       DATE1  \\\n",
       "337570               NaN        NaN     Tuesday  False  2023-01-03   \n",
       "337604               NaN        NaN      Monday  False  2023-04-17   \n",
       "\n",
       "           DATE_ID_BRANCH filtro2 TARGET2  TARGET3  \n",
       "337570  2023-01-03_A10458   False     0.0      0.0  \n",
       "337604  2023-04-17_A10458   False     0.0      0.0  \n",
       "\n",
       "[2 rows x 22 columns]"
      ]
     },
     "execution_count": 63,
     "metadata": {},
     "output_type": "execute_result"
    }
   ],
   "source": [
    "d11[d11['DEFAULT'] == 1]"
   ]
  },
  {
   "cell_type": "code",
   "execution_count": 64,
   "id": "cb9ced2f-490f-45ea-8300-c957f60f1fe1",
   "metadata": {
    "tags": []
   },
   "outputs": [
    {
     "data": {
      "text/html": [
       "<div>\n",
       "<style scoped>\n",
       "    .dataframe tbody tr th:only-of-type {\n",
       "        vertical-align: middle;\n",
       "    }\n",
       "\n",
       "    .dataframe tbody tr th {\n",
       "        vertical-align: top;\n",
       "    }\n",
       "\n",
       "    .dataframe thead th {\n",
       "        text-align: right;\n",
       "    }\n",
       "</style>\n",
       "<table border=\"1\" class=\"dataframe\">\n",
       "  <thead>\n",
       "    <tr style=\"text-align: right;\">\n",
       "      <th></th>\n",
       "      <th>DATE</th>\n",
       "      <th>ID_BRANCH</th>\n",
       "      <th>TX</th>\n",
       "      <th>AMOUNT</th>\n",
       "      <th>BALANCE</th>\n",
       "      <th>TX_check</th>\n",
       "      <th>TOTAL_AMOUNT_check</th>\n",
       "      <th>TX_MO</th>\n",
       "      <th>TOTAL_AMOUNT_MO</th>\n",
       "      <th>DSO_DEPO_DAY</th>\n",
       "      <th>...</th>\n",
       "      <th>AGENCY</th>\n",
       "      <th>ID_GROUP_COMPANY</th>\n",
       "      <th>START_DATE</th>\n",
       "      <th>day_of_week</th>\n",
       "      <th>filtro</th>\n",
       "      <th>DATE1</th>\n",
       "      <th>DATE_ID_BRANCH</th>\n",
       "      <th>filtro2</th>\n",
       "      <th>TARGET2</th>\n",
       "      <th>TARGET3</th>\n",
       "    </tr>\n",
       "  </thead>\n",
       "  <tbody>\n",
       "    <tr>\n",
       "      <th>337595</th>\n",
       "      <td>2023-04-04</td>\n",
       "      <td>A10458</td>\n",
       "      <td>2.0</td>\n",
       "      <td>184.0</td>\n",
       "      <td>159.01</td>\n",
       "      <td>0.0</td>\n",
       "      <td>0.0</td>\n",
       "      <td>NaN</td>\n",
       "      <td>NaN</td>\n",
       "      <td>1.0</td>\n",
       "      <td>...</td>\n",
       "      <td>NaN</td>\n",
       "      <td>NaN</td>\n",
       "      <td>NaN</td>\n",
       "      <td>Tuesday</td>\n",
       "      <td>False</td>\n",
       "      <td>2023-04-04</td>\n",
       "      <td>2023-04-04_A10458</td>\n",
       "      <td>False</td>\n",
       "      <td>1.0</td>\n",
       "      <td>0.0</td>\n",
       "    </tr>\n",
       "  </tbody>\n",
       "</table>\n",
       "<p>1 rows × 22 columns</p>\n",
       "</div>"
      ],
      "text/plain": [
       "              DATE ID_BRANCH   TX  AMOUNT  BALANCE  TX_check  \\\n",
       "337595  2023-04-04    A10458  2.0   184.0   159.01       0.0   \n",
       "\n",
       "        TOTAL_AMOUNT_check  TX_MO  TOTAL_AMOUNT_MO  DSO_DEPO_DAY  ...  AGENCY  \\\n",
       "337595                 0.0    NaN              NaN           1.0  ...     NaN   \n",
       "\n",
       "        ID_GROUP_COMPANY START_DATE day_of_week filtro       DATE1  \\\n",
       "337595               NaN        NaN     Tuesday  False  2023-04-04   \n",
       "\n",
       "           DATE_ID_BRANCH filtro2 TARGET2  TARGET3  \n",
       "337595  2023-04-04_A10458   False     1.0      0.0  \n",
       "\n",
       "[1 rows x 22 columns]"
      ]
     },
     "execution_count": 64,
     "metadata": {},
     "output_type": "execute_result"
    }
   ],
   "source": [
    "d11[d11['TARGET2'] == 1]#xq sólo están la mitad de los defaults en target??"
   ]
  },
  {
   "cell_type": "code",
   "execution_count": 65,
   "id": "5bf6346c-8bf6-4321-9945-630b1ab67b3c",
   "metadata": {
    "tags": []
   },
   "outputs": [
    {
     "data": {
      "text/html": [
       "<div>\n",
       "<style scoped>\n",
       "    .dataframe tbody tr th:only-of-type {\n",
       "        vertical-align: middle;\n",
       "    }\n",
       "\n",
       "    .dataframe tbody tr th {\n",
       "        vertical-align: top;\n",
       "    }\n",
       "\n",
       "    .dataframe thead th {\n",
       "        text-align: right;\n",
       "    }\n",
       "</style>\n",
       "<table border=\"1\" class=\"dataframe\">\n",
       "  <thead>\n",
       "    <tr style=\"text-align: right;\">\n",
       "      <th></th>\n",
       "      <th>DATE</th>\n",
       "      <th>ID_BRANCH</th>\n",
       "      <th>TX</th>\n",
       "      <th>AMOUNT</th>\n",
       "      <th>BALANCE</th>\n",
       "      <th>TX_check</th>\n",
       "      <th>TOTAL_AMOUNT_check</th>\n",
       "      <th>TX_MO</th>\n",
       "      <th>TOTAL_AMOUNT_MO</th>\n",
       "      <th>DSO_DEPO_DAY</th>\n",
       "      <th>...</th>\n",
       "      <th>AGENCY</th>\n",
       "      <th>ID_GROUP_COMPANY</th>\n",
       "      <th>START_DATE</th>\n",
       "      <th>day_of_week</th>\n",
       "      <th>filtro</th>\n",
       "      <th>DATE1</th>\n",
       "      <th>DATE_ID_BRANCH</th>\n",
       "      <th>filtro2</th>\n",
       "      <th>TARGET2</th>\n",
       "      <th>TARGET3</th>\n",
       "    </tr>\n",
       "  </thead>\n",
       "  <tbody>\n",
       "    <tr>\n",
       "      <th>337598</th>\n",
       "      <td>2023-04-08</td>\n",
       "      <td>A10458</td>\n",
       "      <td>2.0</td>\n",
       "      <td>252.0</td>\n",
       "      <td>201.26</td>\n",
       "      <td>0.0</td>\n",
       "      <td>0.0</td>\n",
       "      <td>NaN</td>\n",
       "      <td>NaN</td>\n",
       "      <td>0.0</td>\n",
       "      <td>...</td>\n",
       "      <td>NaN</td>\n",
       "      <td>NaN</td>\n",
       "      <td>NaN</td>\n",
       "      <td>Saturday</td>\n",
       "      <td>False</td>\n",
       "      <td>2023-04-08</td>\n",
       "      <td>2023-04-08_A10458</td>\n",
       "      <td>False</td>\n",
       "      <td>0.0</td>\n",
       "      <td>1.0</td>\n",
       "    </tr>\n",
       "  </tbody>\n",
       "</table>\n",
       "<p>1 rows × 22 columns</p>\n",
       "</div>"
      ],
      "text/plain": [
       "              DATE ID_BRANCH   TX  AMOUNT  BALANCE  TX_check  \\\n",
       "337598  2023-04-08    A10458  2.0   252.0   201.26       0.0   \n",
       "\n",
       "        TOTAL_AMOUNT_check  TX_MO  TOTAL_AMOUNT_MO  DSO_DEPO_DAY  ...  AGENCY  \\\n",
       "337598                 0.0    NaN              NaN           0.0  ...     NaN   \n",
       "\n",
       "        ID_GROUP_COMPANY START_DATE day_of_week filtro       DATE1  \\\n",
       "337598               NaN        NaN    Saturday  False  2023-04-08   \n",
       "\n",
       "           DATE_ID_BRANCH filtro2 TARGET2  TARGET3  \n",
       "337598  2023-04-08_A10458   False     0.0      1.0  \n",
       "\n",
       "[1 rows x 22 columns]"
      ]
     },
     "execution_count": 65,
     "metadata": {},
     "output_type": "execute_result"
    }
   ],
   "source": [
    "d11[d11['TARGET3'] == 1]"
   ]
  },
  {
   "cell_type": "code",
   "execution_count": 48,
   "id": "e8fd34b5-1fe0-4370-8f1f-d0fa8b1feffb",
   "metadata": {
    "tags": []
   },
   "outputs": [
    {
     "name": "stderr",
     "output_type": "stream",
     "text": [
      "/tmp/ipykernel_421/2687558212.py:2: SettingWithCopyWarning: \n",
      "A value is trying to be set on a copy of a slice from a DataFrame.\n",
      "Try using .loc[row_indexer,col_indexer] = value instead\n",
      "\n",
      "See the caveats in the documentation: https://pandas.pydata.org/pandas-docs/stable/user_guide/indexing.html#returning-a-view-versus-a-copy\n",
      "  d3['ID_BRANCH'] =d3['ID_BRANCH'].astype(str)\n"
     ]
    }
   ],
   "source": [
    "# casteando id_branch como str? NOPPP\n",
    "d3['ID_BRANCH'] =d3['ID_BRANCH'].astype(str)"
   ]
  },
  {
   "cell_type": "code",
   "execution_count": 28,
   "id": "8a9e013e-cd74-471f-9a9b-54c2a7557b4d",
   "metadata": {
    "tags": []
   },
   "outputs": [],
   "source": [
    "d3 = d8[d8['DEFAULT'] == 1]"
   ]
  },
  {
   "cell_type": "code",
   "execution_count": 29,
   "id": "e077bf05-e39c-405b-945c-a6dd2a04f26b",
   "metadata": {
    "tags": []
   },
   "outputs": [
    {
     "data": {
      "text/plain": [
       "array(['A00216', 'A00219', 'A00337', ..., 'A26036', 'A26081', 'AB0110'],\n",
       "      dtype=object)"
      ]
     },
     "execution_count": 29,
     "metadata": {},
     "output_type": "execute_result"
    }
   ],
   "source": [
    "d3['ID_BRANCH'].unique()#tienen un espacio dsp del código 'A00152    '"
   ]
  },
  {
   "cell_type": "code",
   "execution_count": 47,
   "id": "7a4ea3c8-fd8b-4b5e-b04f-7c48a4890b26",
   "metadata": {
    "tags": []
   },
   "outputs": [
    {
     "data": {
      "text/html": [
       "<div>\n",
       "<style scoped>\n",
       "    .dataframe tbody tr th:only-of-type {\n",
       "        vertical-align: middle;\n",
       "    }\n",
       "\n",
       "    .dataframe tbody tr th {\n",
       "        vertical-align: top;\n",
       "    }\n",
       "\n",
       "    .dataframe thead th {\n",
       "        text-align: right;\n",
       "    }\n",
       "</style>\n",
       "<table border=\"1\" class=\"dataframe\">\n",
       "  <thead>\n",
       "    <tr style=\"text-align: right;\">\n",
       "      <th></th>\n",
       "      <th>DATE</th>\n",
       "      <th>ID_BRANCH</th>\n",
       "      <th>TX</th>\n",
       "      <th>AMOUNT</th>\n",
       "      <th>BALANCE</th>\n",
       "      <th>TX_check</th>\n",
       "      <th>TOTAL_AMOUNT_check</th>\n",
       "      <th>TX_MO</th>\n",
       "      <th>TOTAL_AMOUNT_MO</th>\n",
       "      <th>DSO_DEPO_DAY</th>\n",
       "      <th>INACTIVE_DAYS</th>\n",
       "      <th>DEFAULT</th>\n",
       "      <th>AGENCY</th>\n",
       "      <th>ID_GROUP_COMPANY</th>\n",
       "      <th>START_DATE</th>\n",
       "      <th>day_of_week</th>\n",
       "      <th>TARGET</th>\n",
       "      <th>filtro</th>\n",
       "      <th>TARGET2</th>\n",
       "    </tr>\n",
       "  </thead>\n",
       "  <tbody>\n",
       "    <tr>\n",
       "      <th>5048</th>\n",
       "      <td>2022-04-11</td>\n",
       "      <td>A00152</td>\n",
       "      <td>NaN</td>\n",
       "      <td>NaN</td>\n",
       "      <td>NaN</td>\n",
       "      <td>NaN</td>\n",
       "      <td>NaN</td>\n",
       "      <td>NaN</td>\n",
       "      <td>NaN</td>\n",
       "      <td>NaN</td>\n",
       "      <td>9.0</td>\n",
       "      <td>1.0</td>\n",
       "      <td>NaN</td>\n",
       "      <td>NaN</td>\n",
       "      <td>NaN</td>\n",
       "      <td>Monday</td>\n",
       "      <td>0.0</td>\n",
       "      <td>False</td>\n",
       "      <td>0.0</td>\n",
       "    </tr>\n",
       "    <tr>\n",
       "      <th>5062</th>\n",
       "      <td>2022-11-24</td>\n",
       "      <td>A00152</td>\n",
       "      <td>NaN</td>\n",
       "      <td>NaN</td>\n",
       "      <td>NaN</td>\n",
       "      <td>NaN</td>\n",
       "      <td>NaN</td>\n",
       "      <td>NaN</td>\n",
       "      <td>NaN</td>\n",
       "      <td>NaN</td>\n",
       "      <td>600.0</td>\n",
       "      <td>1.0</td>\n",
       "      <td>NaN</td>\n",
       "      <td>NaN</td>\n",
       "      <td>NaN</td>\n",
       "      <td>Thursday</td>\n",
       "      <td>0.0</td>\n",
       "      <td>False</td>\n",
       "      <td>0.0</td>\n",
       "    </tr>\n",
       "  </tbody>\n",
       "</table>\n",
       "</div>"
      ],
      "text/plain": [
       "           DATE   ID_BRANCH  TX  AMOUNT  BALANCE  TX_check  \\\n",
       "5048 2022-04-11  A00152     NaN     NaN      NaN       NaN   \n",
       "5062 2022-11-24  A00152     NaN     NaN      NaN       NaN   \n",
       "\n",
       "      TOTAL_AMOUNT_check  TX_MO  TOTAL_AMOUNT_MO  DSO_DEPO_DAY  INACTIVE_DAYS  \\\n",
       "5048                 NaN    NaN              NaN           NaN            9.0   \n",
       "5062                 NaN    NaN              NaN           NaN          600.0   \n",
       "\n",
       "      DEFAULT AGENCY ID_GROUP_COMPANY START_DATE day_of_week  TARGET  filtro  \\\n",
       "5048      1.0    NaN              NaN        NaN      Monday     0.0   False   \n",
       "5062      1.0    NaN              NaN        NaN    Thursday     0.0   False   \n",
       "\n",
       "      TARGET2  \n",
       "5048      0.0  \n",
       "5062      0.0  "
      ]
     },
     "execution_count": 47,
     "metadata": {},
     "output_type": "execute_result"
    }
   ],
   "source": [
    "d3[d3['ID_BRANCH'] == 'A00152    ']"
   ]
  },
  {
   "cell_type": "code",
   "execution_count": 118,
   "id": "421fa661-9fbf-434f-bfc4-eadfb806ff88",
   "metadata": {
    "tags": []
   },
   "outputs": [
    {
     "data": {
      "text/plain": [
       "5226.0"
      ]
     },
     "execution_count": 118,
     "metadata": {},
     "output_type": "execute_result"
    }
   ],
   "source": [
    "d3['DEFAULT'].sum()"
   ]
  },
  {
   "cell_type": "code",
   "execution_count": 46,
   "id": "fcd1a7de-9a1c-403d-b50b-277e134ffa05",
   "metadata": {
    "tags": []
   },
   "outputs": [
    {
     "name": "stdout",
     "output_type": "stream",
     "text": [
      "<class 'pandas.core.frame.DataFrame'>\n",
      "Index: 5226 entries, 5048 to 8412464\n",
      "Data columns (total 19 columns):\n",
      " #   Column              Non-Null Count  Dtype         \n",
      "---  ------              --------------  -----         \n",
      " 0   DATE                5226 non-null   datetime64[ns]\n",
      " 1   ID_BRANCH           5226 non-null   object        \n",
      " 2   TX                  0 non-null      float64       \n",
      " 3   AMOUNT              0 non-null      float64       \n",
      " 4   BALANCE             0 non-null      float64       \n",
      " 5   TX_check            0 non-null      float64       \n",
      " 6   TOTAL_AMOUNT_check  0 non-null      float64       \n",
      " 7   TX_MO               0 non-null      float64       \n",
      " 8   TOTAL_AMOUNT_MO     0 non-null      float64       \n",
      " 9   DSO_DEPO_DAY        0 non-null      float64       \n",
      " 10  INACTIVE_DAYS       5226 non-null   float64       \n",
      " 11  DEFAULT             5226 non-null   float64       \n",
      " 12  AGENCY              0 non-null      object        \n",
      " 13  ID_GROUP_COMPANY    0 non-null      object        \n",
      " 14  START_DATE          0 non-null      object        \n",
      " 15  day_of_week         5226 non-null   object        \n",
      " 16  TARGET              5226 non-null   float64       \n",
      " 17  filtro              5226 non-null   bool          \n",
      " 18  TARGET2             5226 non-null   float64       \n",
      "dtypes: bool(1), datetime64[ns](1), float64(12), object(5)\n",
      "memory usage: 780.8+ KB\n"
     ]
    }
   ],
   "source": [
    "d3.info()"
   ]
  },
  {
   "cell_type": "code",
   "execution_count": 126,
   "id": "ef2707fe-a6b2-492d-a061-0eab755284ba",
   "metadata": {
    "tags": []
   },
   "outputs": [
    {
     "name": "stderr",
     "output_type": "stream",
     "text": [
      "/tmp/ipykernel_21/432084206.py:1: SettingWithCopyWarning: \n",
      "A value is trying to be set on a copy of a slice from a DataFrame.\n",
      "Try using .loc[row_indexer,col_indexer] = value instead\n",
      "\n",
      "See the caveats in the documentation: https://pandas.pydata.org/pandas-docs/stable/user_guide/indexing.html#returning-a-view-versus-a-copy\n",
      "  d3['ID_BRANCH'] =d3['ID_BRANCH'].astype(str)\n"
     ]
    }
   ],
   "source": [
    "d3['ID_BRANCH'] =d3['ID_BRANCH'].astype(str)"
   ]
  },
  {
   "cell_type": "code",
   "execution_count": 128,
   "id": "90247360-6b19-40ef-a72a-c6e5aa4ddd50",
   "metadata": {
    "tags": []
   },
   "outputs": [],
   "source": [
    "# filtro por default =1 pero al filtrar por esos id_branches la tabla resultante no tiene default....\n",
    "d11 = d3[d3['ID_BRANCH'] == 'A25927']"
   ]
  },
  {
   "cell_type": "code",
   "execution_count": 129,
   "id": "ce7d09d6-0b01-448c-8602-a279937fd42f",
   "metadata": {
    "tags": []
   },
   "outputs": [
    {
     "data": {
      "text/plain": [
       "0.0"
      ]
     },
     "execution_count": 129,
     "metadata": {},
     "output_type": "execute_result"
    }
   ],
   "source": [
    "d11['DEFAULT'].sum()"
   ]
  },
  {
   "cell_type": "code",
   "execution_count": 130,
   "id": "7f087d44-b9aa-4019-8a96-ece8e4b26281",
   "metadata": {
    "tags": []
   },
   "outputs": [
    {
     "data": {
      "text/html": [
       "<div>\n",
       "<style scoped>\n",
       "    .dataframe tbody tr th:only-of-type {\n",
       "        vertical-align: middle;\n",
       "    }\n",
       "\n",
       "    .dataframe tbody tr th {\n",
       "        vertical-align: top;\n",
       "    }\n",
       "\n",
       "    .dataframe thead th {\n",
       "        text-align: right;\n",
       "    }\n",
       "</style>\n",
       "<table border=\"1\" class=\"dataframe\">\n",
       "  <thead>\n",
       "    <tr style=\"text-align: right;\">\n",
       "      <th></th>\n",
       "      <th>DATE</th>\n",
       "      <th>ID_BRANCH</th>\n",
       "      <th>TX</th>\n",
       "      <th>AMOUNT</th>\n",
       "      <th>BALANCE</th>\n",
       "      <th>TX_check</th>\n",
       "      <th>TOTAL_AMOUNT_check</th>\n",
       "      <th>TX_MO</th>\n",
       "      <th>TOTAL_AMOUNT_MO</th>\n",
       "      <th>DSO_DEPO_DAY</th>\n",
       "      <th>...</th>\n",
       "      <th>AGENCY</th>\n",
       "      <th>ID_GROUP_COMPANY</th>\n",
       "      <th>START_DATE</th>\n",
       "      <th>day_of_week</th>\n",
       "      <th>TARGET</th>\n",
       "      <th>prb1</th>\n",
       "      <th>prb2</th>\n",
       "      <th>prb3</th>\n",
       "      <th>filtro</th>\n",
       "      <th>TARGET2</th>\n",
       "    </tr>\n",
       "  </thead>\n",
       "  <tbody>\n",
       "  </tbody>\n",
       "</table>\n",
       "<p>0 rows × 22 columns</p>\n",
       "</div>"
      ],
      "text/plain": [
       "Empty DataFrame\n",
       "Columns: [DATE, ID_BRANCH, TX, AMOUNT, BALANCE, TX_check, TOTAL_AMOUNT_check, TX_MO, TOTAL_AMOUNT_MO, DSO_DEPO_DAY, INACTIVE_DAYS, DEFAULT, AGENCY, ID_GROUP_COMPANY, START_DATE, day_of_week, TARGET, prb1, prb2, prb3, filtro, TARGET2]\n",
       "Index: []\n",
       "\n",
       "[0 rows x 22 columns]"
      ]
     },
     "execution_count": 130,
     "metadata": {},
     "output_type": "execute_result"
    }
   ],
   "source": [
    "d11"
   ]
  },
  {
   "cell_type": "code",
   "execution_count": 123,
   "id": "e45b6eab-31dc-4327-9ddd-415b0408b91e",
   "metadata": {
    "tags": []
   },
   "outputs": [
    {
     "data": {
      "text/html": [
       "<div>\n",
       "<style scoped>\n",
       "    .dataframe tbody tr th:only-of-type {\n",
       "        vertical-align: middle;\n",
       "    }\n",
       "\n",
       "    .dataframe tbody tr th {\n",
       "        vertical-align: top;\n",
       "    }\n",
       "\n",
       "    .dataframe thead th {\n",
       "        text-align: right;\n",
       "    }\n",
       "</style>\n",
       "<table border=\"1\" class=\"dataframe\">\n",
       "  <thead>\n",
       "    <tr style=\"text-align: right;\">\n",
       "      <th></th>\n",
       "      <th>DATE</th>\n",
       "      <th>ID_BRANCH</th>\n",
       "      <th>TX</th>\n",
       "      <th>AMOUNT</th>\n",
       "      <th>BALANCE</th>\n",
       "      <th>TX_check</th>\n",
       "      <th>TOTAL_AMOUNT_check</th>\n",
       "      <th>TX_MO</th>\n",
       "      <th>TOTAL_AMOUNT_MO</th>\n",
       "      <th>DSO_DEPO_DAY</th>\n",
       "      <th>...</th>\n",
       "      <th>DEFAULT</th>\n",
       "      <th>AGENCY</th>\n",
       "      <th>ID_GROUP_COMPANY</th>\n",
       "      <th>START_DATE</th>\n",
       "      <th>day_of_week</th>\n",
       "      <th>TARGET</th>\n",
       "      <th>prb1</th>\n",
       "      <th>prb2</th>\n",
       "      <th>prb3</th>\n",
       "      <th>filtro</th>\n",
       "    </tr>\n",
       "  </thead>\n",
       "  <tbody>\n",
       "    <tr>\n",
       "      <th>8236826</th>\n",
       "      <td>2023-12-27</td>\n",
       "      <td>A25927</td>\n",
       "      <td>1.0</td>\n",
       "      <td>1485.00</td>\n",
       "      <td>0.0000</td>\n",
       "      <td>0.0</td>\n",
       "      <td>0.0</td>\n",
       "      <td>NaN</td>\n",
       "      <td>NaN</td>\n",
       "      <td>NaN</td>\n",
       "      <td>...</td>\n",
       "      <td>0.0</td>\n",
       "      <td>TX1182</td>\n",
       "      <td>USA017719</td>\n",
       "      <td>2023-12-27</td>\n",
       "      <td>Wednesday</td>\n",
       "      <td>0.0</td>\n",
       "      <td>0.0</td>\n",
       "      <td>0.0</td>\n",
       "      <td>0.0</td>\n",
       "      <td>False</td>\n",
       "    </tr>\n",
       "    <tr>\n",
       "      <th>8236827</th>\n",
       "      <td>2024-01-17</td>\n",
       "      <td>A25927</td>\n",
       "      <td>2.0</td>\n",
       "      <td>2075.00</td>\n",
       "      <td>-7.5000</td>\n",
       "      <td>0.0</td>\n",
       "      <td>0.0</td>\n",
       "      <td>NaN</td>\n",
       "      <td>NaN</td>\n",
       "      <td>0.0</td>\n",
       "      <td>...</td>\n",
       "      <td>0.0</td>\n",
       "      <td>TX1182</td>\n",
       "      <td>USA017719</td>\n",
       "      <td>2023-12-27</td>\n",
       "      <td>Wednesday</td>\n",
       "      <td>0.0</td>\n",
       "      <td>0.0</td>\n",
       "      <td>0.0</td>\n",
       "      <td>0.0</td>\n",
       "      <td>False</td>\n",
       "    </tr>\n",
       "    <tr>\n",
       "      <th>8236828</th>\n",
       "      <td>2024-01-18</td>\n",
       "      <td>A25927</td>\n",
       "      <td>5.0</td>\n",
       "      <td>4935.59</td>\n",
       "      <td>2092.5000</td>\n",
       "      <td>0.0</td>\n",
       "      <td>0.0</td>\n",
       "      <td>NaN</td>\n",
       "      <td>NaN</td>\n",
       "      <td>0.0</td>\n",
       "      <td>...</td>\n",
       "      <td>0.0</td>\n",
       "      <td>TX1182</td>\n",
       "      <td>USA017719</td>\n",
       "      <td>2023-12-27</td>\n",
       "      <td>Thursday</td>\n",
       "      <td>0.0</td>\n",
       "      <td>0.0</td>\n",
       "      <td>0.0</td>\n",
       "      <td>0.0</td>\n",
       "      <td>False</td>\n",
       "    </tr>\n",
       "    <tr>\n",
       "      <th>8236829</th>\n",
       "      <td>2024-01-19</td>\n",
       "      <td>A25927</td>\n",
       "      <td>5.0</td>\n",
       "      <td>5127.00</td>\n",
       "      <td>7697.4959</td>\n",
       "      <td>0.0</td>\n",
       "      <td>0.0</td>\n",
       "      <td>NaN</td>\n",
       "      <td>NaN</td>\n",
       "      <td>0.0</td>\n",
       "      <td>...</td>\n",
       "      <td>0.0</td>\n",
       "      <td>TX1182</td>\n",
       "      <td>USA017719</td>\n",
       "      <td>2023-12-27</td>\n",
       "      <td>Friday</td>\n",
       "      <td>0.0</td>\n",
       "      <td>0.0</td>\n",
       "      <td>0.0</td>\n",
       "      <td>0.0</td>\n",
       "      <td>False</td>\n",
       "    </tr>\n",
       "    <tr>\n",
       "      <th>8236830</th>\n",
       "      <td>2024-01-29</td>\n",
       "      <td>A25927</td>\n",
       "      <td>14.0</td>\n",
       "      <td>3020.00</td>\n",
       "      <td>3498.1559</td>\n",
       "      <td>0.0</td>\n",
       "      <td>0.0</td>\n",
       "      <td>NaN</td>\n",
       "      <td>NaN</td>\n",
       "      <td>NaN</td>\n",
       "      <td>...</td>\n",
       "      <td>0.0</td>\n",
       "      <td>TX1182</td>\n",
       "      <td>USA017719</td>\n",
       "      <td>2023-12-27</td>\n",
       "      <td>Monday</td>\n",
       "      <td>0.0</td>\n",
       "      <td>0.0</td>\n",
       "      <td>0.0</td>\n",
       "      <td>0.0</td>\n",
       "      <td>False</td>\n",
       "    </tr>\n",
       "    <tr>\n",
       "      <th>...</th>\n",
       "      <td>...</td>\n",
       "      <td>...</td>\n",
       "      <td>...</td>\n",
       "      <td>...</td>\n",
       "      <td>...</td>\n",
       "      <td>...</td>\n",
       "      <td>...</td>\n",
       "      <td>...</td>\n",
       "      <td>...</td>\n",
       "      <td>...</td>\n",
       "      <td>...</td>\n",
       "      <td>...</td>\n",
       "      <td>...</td>\n",
       "      <td>...</td>\n",
       "      <td>...</td>\n",
       "      <td>...</td>\n",
       "      <td>...</td>\n",
       "      <td>...</td>\n",
       "      <td>...</td>\n",
       "      <td>...</td>\n",
       "      <td>...</td>\n",
       "    </tr>\n",
       "    <tr>\n",
       "      <th>8237590</th>\n",
       "      <td>2024-01-29</td>\n",
       "      <td>A25927</td>\n",
       "      <td>NaN</td>\n",
       "      <td>NaN</td>\n",
       "      <td>NaN</td>\n",
       "      <td>NaN</td>\n",
       "      <td>NaN</td>\n",
       "      <td>NaN</td>\n",
       "      <td>NaN</td>\n",
       "      <td>NaN</td>\n",
       "      <td>...</td>\n",
       "      <td>0.0</td>\n",
       "      <td>TX1182</td>\n",
       "      <td>USA017719</td>\n",
       "      <td>2023-12-27</td>\n",
       "      <td>Monday</td>\n",
       "      <td>0.0</td>\n",
       "      <td>0.0</td>\n",
       "      <td>0.0</td>\n",
       "      <td>0.0</td>\n",
       "      <td>True</td>\n",
       "    </tr>\n",
       "    <tr>\n",
       "      <th>8237591</th>\n",
       "      <td>2024-01-30</td>\n",
       "      <td>A25927</td>\n",
       "      <td>NaN</td>\n",
       "      <td>NaN</td>\n",
       "      <td>NaN</td>\n",
       "      <td>NaN</td>\n",
       "      <td>NaN</td>\n",
       "      <td>NaN</td>\n",
       "      <td>NaN</td>\n",
       "      <td>NaN</td>\n",
       "      <td>...</td>\n",
       "      <td>0.0</td>\n",
       "      <td>TX1182</td>\n",
       "      <td>USA017719</td>\n",
       "      <td>2023-12-27</td>\n",
       "      <td>Tuesday</td>\n",
       "      <td>0.0</td>\n",
       "      <td>0.0</td>\n",
       "      <td>0.0</td>\n",
       "      <td>0.0</td>\n",
       "      <td>True</td>\n",
       "    </tr>\n",
       "    <tr>\n",
       "      <th>8237592</th>\n",
       "      <td>2024-01-31</td>\n",
       "      <td>A25927</td>\n",
       "      <td>NaN</td>\n",
       "      <td>NaN</td>\n",
       "      <td>NaN</td>\n",
       "      <td>NaN</td>\n",
       "      <td>NaN</td>\n",
       "      <td>NaN</td>\n",
       "      <td>NaN</td>\n",
       "      <td>NaN</td>\n",
       "      <td>...</td>\n",
       "      <td>0.0</td>\n",
       "      <td>TX1182</td>\n",
       "      <td>USA017719</td>\n",
       "      <td>2023-12-27</td>\n",
       "      <td>Wednesday</td>\n",
       "      <td>0.0</td>\n",
       "      <td>0.0</td>\n",
       "      <td>0.0</td>\n",
       "      <td>0.0</td>\n",
       "      <td>True</td>\n",
       "    </tr>\n",
       "    <tr>\n",
       "      <th>8237593</th>\n",
       "      <td>2024-02-01</td>\n",
       "      <td>A25927</td>\n",
       "      <td>NaN</td>\n",
       "      <td>NaN</td>\n",
       "      <td>NaN</td>\n",
       "      <td>NaN</td>\n",
       "      <td>NaN</td>\n",
       "      <td>NaN</td>\n",
       "      <td>NaN</td>\n",
       "      <td>NaN</td>\n",
       "      <td>...</td>\n",
       "      <td>0.0</td>\n",
       "      <td>TX1182</td>\n",
       "      <td>USA017719</td>\n",
       "      <td>2023-12-27</td>\n",
       "      <td>Thursday</td>\n",
       "      <td>0.0</td>\n",
       "      <td>0.0</td>\n",
       "      <td>0.0</td>\n",
       "      <td>0.0</td>\n",
       "      <td>False</td>\n",
       "    </tr>\n",
       "    <tr>\n",
       "      <th>8237594</th>\n",
       "      <td>2024-02-02</td>\n",
       "      <td>A25927</td>\n",
       "      <td>NaN</td>\n",
       "      <td>NaN</td>\n",
       "      <td>NaN</td>\n",
       "      <td>NaN</td>\n",
       "      <td>NaN</td>\n",
       "      <td>NaN</td>\n",
       "      <td>NaN</td>\n",
       "      <td>NaN</td>\n",
       "      <td>...</td>\n",
       "      <td>0.0</td>\n",
       "      <td>TX1182</td>\n",
       "      <td>USA017719</td>\n",
       "      <td>2023-12-27</td>\n",
       "      <td>Friday</td>\n",
       "      <td>0.0</td>\n",
       "      <td>0.0</td>\n",
       "      <td>0.0</td>\n",
       "      <td>0.0</td>\n",
       "      <td>True</td>\n",
       "    </tr>\n",
       "  </tbody>\n",
       "</table>\n",
       "<p>769 rows × 21 columns</p>\n",
       "</div>"
      ],
      "text/plain": [
       "              DATE ID_BRANCH    TX   AMOUNT    BALANCE  TX_check  \\\n",
       "8236826 2023-12-27    A25927   1.0  1485.00     0.0000       0.0   \n",
       "8236827 2024-01-17    A25927   2.0  2075.00    -7.5000       0.0   \n",
       "8236828 2024-01-18    A25927   5.0  4935.59  2092.5000       0.0   \n",
       "8236829 2024-01-19    A25927   5.0  5127.00  7697.4959       0.0   \n",
       "8236830 2024-01-29    A25927  14.0  3020.00  3498.1559       0.0   \n",
       "...            ...       ...   ...      ...        ...       ...   \n",
       "8237590 2024-01-29    A25927   NaN      NaN        NaN       NaN   \n",
       "8237591 2024-01-30    A25927   NaN      NaN        NaN       NaN   \n",
       "8237592 2024-01-31    A25927   NaN      NaN        NaN       NaN   \n",
       "8237593 2024-02-01    A25927   NaN      NaN        NaN       NaN   \n",
       "8237594 2024-02-02    A25927   NaN      NaN        NaN       NaN   \n",
       "\n",
       "         TOTAL_AMOUNT_check  TX_MO  TOTAL_AMOUNT_MO  DSO_DEPO_DAY  ...  \\\n",
       "8236826                 0.0    NaN              NaN           NaN  ...   \n",
       "8236827                 0.0    NaN              NaN           0.0  ...   \n",
       "8236828                 0.0    NaN              NaN           0.0  ...   \n",
       "8236829                 0.0    NaN              NaN           0.0  ...   \n",
       "8236830                 0.0    NaN              NaN           NaN  ...   \n",
       "...                     ...    ...              ...           ...  ...   \n",
       "8237590                 NaN    NaN              NaN           NaN  ...   \n",
       "8237591                 NaN    NaN              NaN           NaN  ...   \n",
       "8237592                 NaN    NaN              NaN           NaN  ...   \n",
       "8237593                 NaN    NaN              NaN           NaN  ...   \n",
       "8237594                 NaN    NaN              NaN           NaN  ...   \n",
       "\n",
       "         DEFAULT  AGENCY ID_GROUP_COMPANY  START_DATE day_of_week TARGET  \\\n",
       "8236826      0.0  TX1182        USA017719  2023-12-27   Wednesday    0.0   \n",
       "8236827      0.0  TX1182        USA017719  2023-12-27   Wednesday    0.0   \n",
       "8236828      0.0  TX1182        USA017719  2023-12-27    Thursday    0.0   \n",
       "8236829      0.0  TX1182        USA017719  2023-12-27      Friday    0.0   \n",
       "8236830      0.0  TX1182        USA017719  2023-12-27      Monday    0.0   \n",
       "...          ...     ...              ...         ...         ...    ...   \n",
       "8237590      0.0  TX1182        USA017719  2023-12-27      Monday    0.0   \n",
       "8237591      0.0  TX1182        USA017719  2023-12-27     Tuesday    0.0   \n",
       "8237592      0.0  TX1182        USA017719  2023-12-27   Wednesday    0.0   \n",
       "8237593      0.0  TX1182        USA017719  2023-12-27    Thursday    0.0   \n",
       "8237594      0.0  TX1182        USA017719  2023-12-27      Friday    0.0   \n",
       "\n",
       "         prb1  prb2  prb3  filtro  \n",
       "8236826   0.0   0.0   0.0   False  \n",
       "8236827   0.0   0.0   0.0   False  \n",
       "8236828   0.0   0.0   0.0   False  \n",
       "8236829   0.0   0.0   0.0   False  \n",
       "8236830   0.0   0.0   0.0   False  \n",
       "...       ...   ...   ...     ...  \n",
       "8237590   0.0   0.0   0.0    True  \n",
       "8237591   0.0   0.0   0.0    True  \n",
       "8237592   0.0   0.0   0.0    True  \n",
       "8237593   0.0   0.0   0.0   False  \n",
       "8237594   0.0   0.0   0.0    True  \n",
       "\n",
       "[769 rows x 21 columns]"
      ]
     },
     "execution_count": 123,
     "metadata": {},
     "output_type": "execute_result"
    }
   ],
   "source": [
    "d12 = df[df['ID_BRANCH'] == 'A25927']\n",
    "d12"
   ]
  },
  {
   "cell_type": "code",
   "execution_count": null,
   "id": "72f15be5-40f6-4355-b930-b0ad40b48f42",
   "metadata": {},
   "outputs": [],
   "source": []
  },
  {
   "cell_type": "code",
   "execution_count": null,
   "id": "d1a80f38-7798-4160-b39e-1b4f4292f0ab",
   "metadata": {},
   "outputs": [],
   "source": []
  },
  {
   "cell_type": "code",
   "execution_count": null,
   "id": "6b576754-c699-4454-8539-a48c6c27685e",
   "metadata": {},
   "outputs": [],
   "source": []
  },
  {
   "cell_type": "code",
   "execution_count": null,
   "id": "6ada5d99-9b7a-4dd8-add3-12c1c38fbc7d",
   "metadata": {},
   "outputs": [],
   "source": []
  },
  {
   "cell_type": "code",
   "execution_count": null,
   "id": "1710c108-5d7c-4ed4-8fe1-a26a8e2c3bd8",
   "metadata": {},
   "outputs": [],
   "source": []
  },
  {
   "cell_type": "code",
   "execution_count": null,
   "id": "40e4d7b5-0090-48c4-a96f-d836caa1c7f6",
   "metadata": {},
   "outputs": [],
   "source": []
  },
  {
   "cell_type": "code",
   "execution_count": null,
   "id": "b5ec3022-eedc-4a34-b375-dbec2821af12",
   "metadata": {},
   "outputs": [],
   "source": []
  },
  {
   "cell_type": "raw",
   "id": "d2ba12a6-72ec-4b0c-ace7-fb4dcbc9a69a",
   "metadata": {
    "tags": []
   },
   "source": [
    "# versión 2.0 pasada por mistral\n",
    "def fill_missing_dates(df, start_date, end_date):\n",
    "    # Create an empty DataFrame with the specified date range\n",
    "    date_range = pd.date_range(start=start_date, end=end_date)\n",
    "    df_fill = pd.DataFrame({'DATE': date_range, 'TX':0, 'AMOUNT':0,'BALANCE':0,'TX_check':0,'TOTAL_AMOUNT_check':0,'TX_MO':0,'TOTAL_AMOUNT_MO':0,'DSO_DEPO_DAY':0, 'INACTIVE_DAYS':0,'DEFAULT':0,'START_DATE':0})\n",
    "    df_fill['DATE'] = pd.to_datetime(df_fill['DATE']).dt.date\n",
    "\n",
    "    # Sort the original DataFrame by 'AGENCY' and 'DATE'\n",
    "    df = df.sort_values(by=['AGENCY', 'DATE'])\n",
    "\n",
    "    # Create an empty DataFrame to hold the result\n",
    "    result_df = pd.DataFrame()\n",
    "\n",
    "    # Loop through each 'AGENCY'\n",
    "    for agency in df['AGENCY'].unique():\n",
    "        df_aux = df[df['AGENCY'] == agency]\n",
    "        # Combining df_aux (AGENCY) with df_fill, keeping values from df_aux and filling dates, value1, value2 and value3\n",
    "        merged_df = df_aux.set_index('DATE').combine_first(df_fill.set_index('DATE')).reset_index()\n",
    "\n",
    "        # Fill missing values in 'other_column1', 'other_column2', ... columns\n",
    "        columns_to_fill = ['ID_BRANCH']\n",
    "        merged_df[columns_to_fill] = merged_df[columns_to_fill].ffill().bfill()\n",
    "\n",
    "        result_df = pd.concat([result_df, merged_df], ignore_index=True)\n",
    "\n",
    "    return result_df\n"
   ]
  },
  {
   "cell_type": "code",
   "execution_count": 22,
   "id": "f3211b36-ce8c-4a8c-86b1-bb38c41f6c77",
   "metadata": {
    "tags": []
   },
   "outputs": [
    {
     "name": "stdout",
     "output_type": "stream",
     "text": [
      "<class 'pandas.core.frame.DataFrame'>\n",
      "RangeIndex: 4374562 entries, 0 to 4374561\n",
      "Data columns (total 10 columns):\n",
      " #   Column              Dtype  \n",
      "---  ------              -----  \n",
      " 0   DATE                object \n",
      " 1   AGENCY              object \n",
      " 2   AMOUNT              float64\n",
      " 3   BALANCE             float64\n",
      " 4   ID_BRANCH           object \n",
      " 5   TOTAL_AMOUNT_MO     float64\n",
      " 6   TOTAL_AMOUNT_check  float64\n",
      " 7   TX                  float64\n",
      " 8   TX_MO               float64\n",
      " 9   TX_check            float64\n",
      "dtypes: float64(7), object(3)\n",
      "memory usage: 333.8+ MB\n"
     ]
    }
   ],
   "source": [
    "result_df.info()"
   ]
  },
  {
   "cell_type": "code",
   "execution_count": 21,
   "id": "7661fa1d-d3b4-4ea1-b327-29b278b5d8d9",
   "metadata": {
    "tags": []
   },
   "outputs": [
    {
     "data": {
      "text/html": [
       "<div>\n",
       "<style scoped>\n",
       "    .dataframe tbody tr th:only-of-type {\n",
       "        vertical-align: middle;\n",
       "    }\n",
       "\n",
       "    .dataframe tbody tr th {\n",
       "        vertical-align: top;\n",
       "    }\n",
       "\n",
       "    .dataframe thead th {\n",
       "        text-align: right;\n",
       "    }\n",
       "</style>\n",
       "<table border=\"1\" class=\"dataframe\">\n",
       "  <thead>\n",
       "    <tr style=\"text-align: right;\">\n",
       "      <th></th>\n",
       "      <th>AMOUNT</th>\n",
       "      <th>BALANCE</th>\n",
       "      <th>TOTAL_AMOUNT_MO</th>\n",
       "      <th>TOTAL_AMOUNT_check</th>\n",
       "      <th>TX</th>\n",
       "      <th>TX_MO</th>\n",
       "      <th>TX_check</th>\n",
       "    </tr>\n",
       "  </thead>\n",
       "  <tbody>\n",
       "    <tr>\n",
       "      <th>count</th>\n",
       "      <td>4.372404e+06</td>\n",
       "      <td>4.372108e+06</td>\n",
       "      <td>2.860898e+06</td>\n",
       "      <td>4.372404e+06</td>\n",
       "      <td>4.372404e+06</td>\n",
       "      <td>2.860898e+06</td>\n",
       "      <td>4.372404e+06</td>\n",
       "    </tr>\n",
       "    <tr>\n",
       "      <th>mean</th>\n",
       "      <td>2.949297e+03</td>\n",
       "      <td>3.354048e+03</td>\n",
       "      <td>1.728412e+02</td>\n",
       "      <td>2.077826e+03</td>\n",
       "      <td>6.429362e+00</td>\n",
       "      <td>3.522520e-01</td>\n",
       "      <td>2.619168e+00</td>\n",
       "    </tr>\n",
       "    <tr>\n",
       "      <th>std</th>\n",
       "      <td>8.523923e+03</td>\n",
       "      <td>3.512052e+04</td>\n",
       "      <td>1.878780e+03</td>\n",
       "      <td>1.441641e+04</td>\n",
       "      <td>1.701042e+01</td>\n",
       "      <td>3.996904e+00</td>\n",
       "      <td>1.650885e+01</td>\n",
       "    </tr>\n",
       "    <tr>\n",
       "      <th>min</th>\n",
       "      <td>0.000000e+00</td>\n",
       "      <td>-2.853621e+07</td>\n",
       "      <td>-2.961390e+03</td>\n",
       "      <td>0.000000e+00</td>\n",
       "      <td>0.000000e+00</td>\n",
       "      <td>0.000000e+00</td>\n",
       "      <td>0.000000e+00</td>\n",
       "    </tr>\n",
       "    <tr>\n",
       "      <th>25%</th>\n",
       "      <td>0.000000e+00</td>\n",
       "      <td>0.000000e+00</td>\n",
       "      <td>0.000000e+00</td>\n",
       "      <td>0.000000e+00</td>\n",
       "      <td>0.000000e+00</td>\n",
       "      <td>0.000000e+00</td>\n",
       "      <td>0.000000e+00</td>\n",
       "    </tr>\n",
       "    <tr>\n",
       "      <th>50%</th>\n",
       "      <td>0.000000e+00</td>\n",
       "      <td>0.000000e+00</td>\n",
       "      <td>0.000000e+00</td>\n",
       "      <td>0.000000e+00</td>\n",
       "      <td>0.000000e+00</td>\n",
       "      <td>0.000000e+00</td>\n",
       "      <td>0.000000e+00</td>\n",
       "    </tr>\n",
       "    <tr>\n",
       "      <th>75%</th>\n",
       "      <td>1.980000e+03</td>\n",
       "      <td>2.196442e+03</td>\n",
       "      <td>0.000000e+00</td>\n",
       "      <td>0.000000e+00</td>\n",
       "      <td>5.000000e+00</td>\n",
       "      <td>0.000000e+00</td>\n",
       "      <td>0.000000e+00</td>\n",
       "    </tr>\n",
       "    <tr>\n",
       "      <th>max</th>\n",
       "      <td>6.079065e+05</td>\n",
       "      <td>2.365007e+06</td>\n",
       "      <td>2.795072e+05</td>\n",
       "      <td>2.427941e+06</td>\n",
       "      <td>8.380000e+02</td>\n",
       "      <td>8.030000e+02</td>\n",
       "      <td>1.555000e+03</td>\n",
       "    </tr>\n",
       "  </tbody>\n",
       "</table>\n",
       "</div>"
      ],
      "text/plain": [
       "             AMOUNT       BALANCE  TOTAL_AMOUNT_MO  TOTAL_AMOUNT_check  \\\n",
       "count  4.372404e+06  4.372108e+06     2.860898e+06        4.372404e+06   \n",
       "mean   2.949297e+03  3.354048e+03     1.728412e+02        2.077826e+03   \n",
       "std    8.523923e+03  3.512052e+04     1.878780e+03        1.441641e+04   \n",
       "min    0.000000e+00 -2.853621e+07    -2.961390e+03        0.000000e+00   \n",
       "25%    0.000000e+00  0.000000e+00     0.000000e+00        0.000000e+00   \n",
       "50%    0.000000e+00  0.000000e+00     0.000000e+00        0.000000e+00   \n",
       "75%    1.980000e+03  2.196442e+03     0.000000e+00        0.000000e+00   \n",
       "max    6.079065e+05  2.365007e+06     2.795072e+05        2.427941e+06   \n",
       "\n",
       "                 TX         TX_MO      TX_check  \n",
       "count  4.372404e+06  2.860898e+06  4.372404e+06  \n",
       "mean   6.429362e+00  3.522520e-01  2.619168e+00  \n",
       "std    1.701042e+01  3.996904e+00  1.650885e+01  \n",
       "min    0.000000e+00  0.000000e+00  0.000000e+00  \n",
       "25%    0.000000e+00  0.000000e+00  0.000000e+00  \n",
       "50%    0.000000e+00  0.000000e+00  0.000000e+00  \n",
       "75%    5.000000e+00  0.000000e+00  0.000000e+00  \n",
       "max    8.380000e+02  8.030000e+02  1.555000e+03  "
      ]
     },
     "execution_count": 21,
     "metadata": {},
     "output_type": "execute_result"
    }
   ],
   "source": [
    "result_df.describe()"
   ]
  },
  {
   "cell_type": "code",
   "execution_count": 27,
   "id": "c606614a-339c-49e1-be12-d11a79b50ebd",
   "metadata": {
    "tags": []
   },
   "outputs": [
    {
     "data": {
      "text/html": [
       "<div>\n",
       "<style scoped>\n",
       "    .dataframe tbody tr th:only-of-type {\n",
       "        vertical-align: middle;\n",
       "    }\n",
       "\n",
       "    .dataframe tbody tr th {\n",
       "        vertical-align: top;\n",
       "    }\n",
       "\n",
       "    .dataframe thead th {\n",
       "        text-align: right;\n",
       "    }\n",
       "</style>\n",
       "<table border=\"1\" class=\"dataframe\">\n",
       "  <thead>\n",
       "    <tr style=\"text-align: right;\">\n",
       "      <th></th>\n",
       "      <th>DATE</th>\n",
       "      <th>AGENCY</th>\n",
       "      <th>AMOUNT</th>\n",
       "      <th>BALANCE</th>\n",
       "      <th>ID_BRANCH</th>\n",
       "      <th>TOTAL_AMOUNT_MO</th>\n",
       "      <th>TOTAL_AMOUNT_check</th>\n",
       "      <th>TX</th>\n",
       "      <th>TX_MO</th>\n",
       "      <th>TX_check</th>\n",
       "    </tr>\n",
       "  </thead>\n",
       "  <tbody>\n",
       "    <tr>\n",
       "      <th>0</th>\n",
       "      <td>2023-01-04</td>\n",
       "      <td>AK0001</td>\n",
       "      <td>1550.00</td>\n",
       "      <td>136.46</td>\n",
       "      <td>A20465</td>\n",
       "      <td>NaN</td>\n",
       "      <td>0.0</td>\n",
       "      <td>2.0</td>\n",
       "      <td>NaN</td>\n",
       "      <td>0.0</td>\n",
       "    </tr>\n",
       "    <tr>\n",
       "      <th>1</th>\n",
       "      <td>2023-01-05</td>\n",
       "      <td>AK0001</td>\n",
       "      <td>479.17</td>\n",
       "      <td>1511.46</td>\n",
       "      <td>A20465</td>\n",
       "      <td>NaN</td>\n",
       "      <td>0.0</td>\n",
       "      <td>2.0</td>\n",
       "      <td>NaN</td>\n",
       "      <td>0.0</td>\n",
       "    </tr>\n",
       "    <tr>\n",
       "      <th>2</th>\n",
       "      <td>2023-01-07</td>\n",
       "      <td>AK0001</td>\n",
       "      <td>3000.00</td>\n",
       "      <td>2010.63</td>\n",
       "      <td>A20465</td>\n",
       "      <td>NaN</td>\n",
       "      <td>0.0</td>\n",
       "      <td>2.0</td>\n",
       "      <td>NaN</td>\n",
       "      <td>0.0</td>\n",
       "    </tr>\n",
       "    <tr>\n",
       "      <th>3</th>\n",
       "      <td>2023-01-11</td>\n",
       "      <td>AK0001</td>\n",
       "      <td>150.00</td>\n",
       "      <td>-59.37</td>\n",
       "      <td>A20465</td>\n",
       "      <td>NaN</td>\n",
       "      <td>0.0</td>\n",
       "      <td>1.0</td>\n",
       "      <td>NaN</td>\n",
       "      <td>0.0</td>\n",
       "    </tr>\n",
       "    <tr>\n",
       "      <th>4</th>\n",
       "      <td>2023-01-12</td>\n",
       "      <td>AK0001</td>\n",
       "      <td>500.00</td>\n",
       "      <td>100.63</td>\n",
       "      <td>A20465</td>\n",
       "      <td>NaN</td>\n",
       "      <td>0.0</td>\n",
       "      <td>1.0</td>\n",
       "      <td>NaN</td>\n",
       "      <td>0.0</td>\n",
       "    </tr>\n",
       "  </tbody>\n",
       "</table>\n",
       "</div>"
      ],
      "text/plain": [
       "         DATE  AGENCY   AMOUNT  BALANCE ID_BRANCH  TOTAL_AMOUNT_MO  \\\n",
       "0  2023-01-04  AK0001  1550.00   136.46    A20465              NaN   \n",
       "1  2023-01-05  AK0001   479.17  1511.46    A20465              NaN   \n",
       "2  2023-01-07  AK0001  3000.00  2010.63    A20465              NaN   \n",
       "3  2023-01-11  AK0001   150.00   -59.37    A20465              NaN   \n",
       "4  2023-01-12  AK0001   500.00   100.63    A20465              NaN   \n",
       "\n",
       "   TOTAL_AMOUNT_check   TX  TX_MO  TX_check  \n",
       "0                 0.0  2.0    NaN       0.0  \n",
       "1                 0.0  2.0    NaN       0.0  \n",
       "2                 0.0  2.0    NaN       0.0  \n",
       "3                 0.0  1.0    NaN       0.0  \n",
       "4                 0.0  1.0    NaN       0.0  "
      ]
     },
     "execution_count": 27,
     "metadata": {},
     "output_type": "execute_result"
    }
   ],
   "source": [
    "result_df.head()"
   ]
  },
  {
   "cell_type": "markdown",
   "id": "e1d73650-0dfb-479b-8c55-33b7808e43a9",
   "metadata": {
    "tags": []
   },
   "source": [
    "result_df.to_csv('2023_trx_balance_chq_mo.csv', index = False)"
   ]
  },
  {
   "cell_type": "markdown",
   "id": "539d2494-2f35-4f0f-9bf1-ad87184af2bf",
   "metadata": {},
   "source": [
    "# Sumando MO (money orders)"
   ]
  },
  {
   "cell_type": "code",
   "execution_count": null,
   "id": "aea7c093-2277-4197-8591-450467f3e9f7",
   "metadata": {},
   "outputs": [],
   "source": [
    "# DB Setting\n",
    "bucket_name = 's3://viamericas-datalake-dev-us-east-1-283731589572-athena/'\n",
    "\n",
    "#Connection\n",
    "conn = connect(s3_staging_dir=f'{bucket_name}queryresults/',\n",
    "               region_name='us-east-1')\n",
    "\n",
    "df3 = pd.read_sql('''SELECT\n",
    "   CAST(DATE_FORMAT(a.TRANSACTION_DATE, '%Y-%m-%d') AS DATE) AS DATE,\n",
    "   0 as unique_senders,\n",
    "   COUNT(DISTINCT a.ID_MONEYORDERS_SALES) AS TX,\n",
    "   COUNT(DISTINCT CASE WHEN a.status IN ('C', 'A') THEN a.ID_MONEYORDERS_SALES END) AS TX_CANCELLED,\n",
    "   SUM(a.AMOUNT) AS TOTAL_AMOUNT,\n",
    "   COUNT(DISTINCT a.ID_MONEYORDERS_SALES) * 0.39 AS GP,\n",
    "   r.state,\n",
    "   b.id_chain,\n",
    "   g.name_chain,\n",
    "   r.id_location,\n",
    "   r.name_location,\n",
    "   r.id_branch,\n",
    "   r.name_branch,\n",
    "   h.kpr,\n",
    "   r.LATITUD,\n",
    "   r.LONGITUD,\n",
    "   r.ZIP,\n",
    "   f.id_agent,\n",
    "   'MONEY ORDERS' AS TYPE_PRODUCT\n",
    "FROM\n",
    "   AwsDataCatalog.viamericas.vcw_moneyorders_sales a\n",
    "   LEFT JOIN AwsDataCatalog.viamericas.branch b ON b.ID_BRANCH = a.id_branch\n",
    "   LEFT JOIN AwsDataCatalog.viamericas.branch_agent f ON f.id_branch =b.id_branch\n",
    "   LEFT JOIN AwsDataCatalog.viamericas.chain g ON g.id_chain =b.id_chain\n",
    "   LEFT JOIN AwsDataCatalog.viamericas.BUDGET_LOCATIONS_INCLUDED h ON h.id_location =b.id_location\n",
    "   LEFT JOIN AwsDataCatalog.analytics.location_branch_reference r ON r.id_branch = b.id_branch\n",
    "WHERE\n",
    "   NOT (b.ID_MAIN_BRANCH LIKE 'M%')\n",
    "   AND NOT (a.id_branch LIKE 'T%')\n",
    "   AND b.id_flag_branch = 'A'\n",
    "   AND DATE_FORMAT(TRANSACTION_DATE, '%Y-%m') > '2022-12' AND DATE_FORMAT(TRANSACTION_DATE, '%Y-%m') < '2024-02' \n",
    "   AND  NOT r.id_location = 'NULL'\n",
    "   AND b.name_branch not like '%DUMMY%'\n",
    " GROUP BY\n",
    "   CAST(DATE_FORMAT(a.TRANSACTION_DATE, '%Y-%m-%d') AS DATE),\n",
    "   r.state,\n",
    "   b.id_chain,\n",
    "   g.name_chain,\n",
    "   r.id_location,\n",
    "   r.name_location,\n",
    "   r.id_branch,\n",
    "   r.name_branch,\n",
    "   h.kpr,\n",
    "   r.LATITUD,\n",
    "   r.LONGITUD,\n",
    "   r.ZIP,\n",
    "   f.id_agent\n",
    "  ORDER BY \n",
    "   DATE;''', conn)"
   ]
  },
  {
   "cell_type": "markdown",
   "id": "7d87d5fd-5c9a-4fa8-b180-1af4222a03c8",
   "metadata": {},
   "source": [
    "## Getting default values"
   ]
  },
  {
   "cell_type": "code",
   "execution_count": null,
   "id": "26f0635b-3f48-4ac9-b51e-e225f4915334",
   "metadata": {},
   "outputs": [],
   "source": [
    "# DB Setting\n",
    "bucket_name = 's3://viamericas-datalake-dev-us-east-1-283731589572-athena/'\n",
    "\n",
    "#Connection\n",
    "conn = connect(s3_staging_dir=f'{bucket_name}queryresults/',\n",
    "               region_name='us-east-1')\n",
    "\n",
    "df3 = pd.read_sql('''WITH Payment_Agreeement as(\n",
    "----------------------------------------------------------------------------------------------\n",
    "--Agencias que han realizado un acuerdo de pago\n",
    "----------------------------------------------------------------------------------------------\n",
    "\tSELECT\n",
    "\t\t\tDISTINCT\n",
    "\t\t\tREPLACE(RTRIM(b.ID_BRANCH),'C','A') AS ID_BRANCH --agencia que realizo el acuerdo\n",
    "\t\t\t,g.DATE_CREA_MAIN_BRANCH AS DATE_START -- Cuando empezo el acuerdo\n",
    "\t\t\t,g.DEBITO_GROUP AS  NEGOTIATED   --De cuanto fue el acuerdo\n",
    "\t\t\t,g.CREDITO_GROUP AS PAID -- Cuanto ha pagado la agencia del acuerdo\n",
    "\t\t\t,g.BALANCE_GROUP AS BALANCE --Banlance del acuerdo\n",
    "\tFROM\t  AwsDataCatalog.viamericas.GROUP_BRANCH g INNER JOIN\n",
    "\t\t\t  AwsDataCatalog.viamericas.BRANCH b ON g.ID_MAIN_BRANCH = b.ID_MAIN_BRANCH\n",
    "\tWHERE\tg.DEBITO_GROUP IS NOT NULL\n",
    "\t\t\tAND b.ID_LOCATION IS NOT NULL\n",
    "\t\t\tAND b.ID_BRANCH LIKE 'C%'\n",
    "            AND g.DATE_CREA_MAIN_BRANCH >= '2022-01-01'\n",
    "\t\t\tAND g.DATE_CREA_MAIN_BRANCH < '2024-02-04'\n",
    "), Audit_Events as(\n",
    "\tSELECT  \n",
    "\t\t\ta.DATE_AUDIT\n",
    "\t\t\t, b.ID_BRANCH\n",
    "\t\t\t, a.OLD_STATUS\n",
    "\t\t\t, a.OLD_FLAG\n",
    "\t\t\t, a.OLD_COMMENT\n",
    "\t\t\t, a.NEW_STATUS\n",
    "\t\t\t, a.NEW_FLAG\n",
    "\t\t\t, a.NEW_COMMENT\n",
    "\t\t\t, a.LAST_INACTIVATION_TYPE\n",
    "\t\t\t, i.DESC_INACTIVATION_TYPE\n",
    "\t\t\t, ROW_NUMBER() OVER(Partition By b.ID_BRANCH Order By b.ID_BRANCH, a.DATE_AUDIT ASC)As RowNum\n",
    "\tFROM\t   AwsDataCatalog.viamericas  . AUDIT_BRANCH_STATUS   a WITH   INNER JOIN\n",
    "\t\t\t   AwsDataCatalog.viamericas  . INACTIVATION_TYPES   i WITH   ON i.ID_INACTIVATION_TYPE = a. LAST_INACTIVATION_TYPE   INNER JOIN\n",
    "\t\t\tEnvio.  AwsDataCatalog.viamericas.BRANCH AS b WITH   ON a.ID_BRANCH = b.ID_BRANCH INNER JOIN\n",
    "\t\t\t Envio  .   AwsDataCatalog.viamericas  .GROUP_BRANCH g ON b.ID_MAIN_BRANCH = g.ID_MAIN_BRANCH\n",
    "\tWHERE\ta. DATE_AUDIT   >= '2022-01-01'\n",
    "\t\t\tAND a. DATE_AUDIT   < '2024-02-04'\n",
    "\t\t\tAND (RTRIM(b.ID_BRANCH) LIKE 'A%')\n",
    "\t\t\tAND b.ID_TYPE_BRANCH = 'R'\n",
    "            \n",
    "\t\t\t--AND b.ID_BRANCH IN('A00152','A00205','A00219','A01626','A01849')\n",
    "\t\t\tAND NOT (b.ID_BRANCH LIKE 'T%')\n",
    "), PAST_DUE_AGENTS AS(\n",
    "----------------------------------------------------------------------------------------------\n",
    "--Agencias que han caido en PAST DUE de mas de 15 dias\n",
    "----------------------------------------------------------------------------------------------\n",
    "SELECT\t\n",
    "\t\tDISTINCT i.ID_BRANCH\n",
    "FROM\tAudit_Events AS i LEFT JOIN\n",
    "\t\tAudit_Events AS a ON i.ID_BRANCH = a.ID_BRANCH AND i.DATE_AUDIT < a.DATE_AUDIT AND a.OLD_FLAG = 'I' AND a. NEW_FLAG   = 'A' AND i.RowNum = a.RowNum - 1 LEFT JOIN\n",
    "\t\tPayment_Agreeement p ON i.ID_BRANCH = p.ID_BRANCH AND CAST(i.DATE_AUDIT AS DATE) >= CAST(p.DATE_START AS DATE)\n",
    "WHERE\ti.OLD_FLAG = 'A'\n",
    "\t\tAND i. NEW_FLAG   = 'I'\n",
    "\t\tAND (  date_diff('day',i. DATE_AUDIT  , ISNULL(a.DATE_AUDIT, GETDATE())) >= 15 OR a.DATE_AUDIT IS NULL)\n",
    "\t\tAND i.LAST_INACTIVATION_TYPE IN(1,3,16)\n",
    "\t\t--AND i.DESC_INACTIVATION_TYPE IN('PAST DUE / BALANCE VENCIDO','BOUNCED / RETORNO','CHAIN PAST DUE / DEUDA EN CADENA'/*,'BUSINESS CLOSED / CIERRE DEL NEGOCIO'*/)\n",
    ")\n",
    "----------------------------------------------------------------------------------------------\n",
    "--historial de inactivaciones de las agencias que han caido en PAST DUE de mas de 15 dias\n",
    "----------------------------------------------------------------------------------------------\n",
    "SELECT\t\n",
    "\t\ti.DATE_AUDIT AS INACTIVATION_DATE\n",
    "\t\t, i.ID_BRANCH\n",
    "\t\t,    AwsDataCatalog.viamericas  . sfGetBranchStatus  (i.ID_BRANCH) AS CURRENT_EXTENDED_STATUS -- Status de la agencia a HOY\n",
    "\t\t, p.DATE_START AS  AGREEMENT_START_DATE   -- FECHA EN LA QUE EMPEZO EL ACUEROD DE PAGO\n",
    "        ,  date_diff('day', p.DATE_START, i. DATE_AUDIT  ) AS  AGREEMENT_DAYS   -- CUANTO DIAS LLEVA EL ACUERDO A LA FECHA DEL EVENTO DE INACTIVACION DE ESTE REGISTRO\n",
    "\t\t, ISNULL(p.BALANCE, 0) AS  AGREEMENT_BALANCE   -- BALANCE A HOY DEL ACUERDO\n",
    "\t\t, ISNULL(p.NEGOTIATED, 0) AS  AGREEMENT_INITIAL_AMOUNT   -- VALOR INICIAL A HOY DEL ACUERDO\n",
    "\t\t, ISNULL(p.PAID, 0) AS  AGREEMENT_PAID   -- LO QUE SE A PAGADO A HOY DEL ACUERDO\n",
    "\t\t, i.OLD_STATUS\n",
    "\t\t, i.OLD_FLAG\n",
    "\t\t, i.OLD_COMMENT\n",
    "\t\t, i.NEW_STATUS\n",
    "\t\t, i.NEW_FLAG\n",
    "\t\t, i.NEW_COMMENT\n",
    "\t\t, i.LAST_INACTIVATION_TYPE\n",
    "\t\t, i.DESC_INACTIVATION_TYPE as DESC_LAST_INACTIVATION_TYPE\n",
    "\t\t, a.DATE_AUDIT as ACTIVATION_DATE\n",
    "\t\t,  date_diff('day',i. DATE_AUDIT  , ISNULL(a.DATE_AUDIT, GETDATE())) AS INACTIVE_DAYS\n",
    "FROM\tAudit_Events AS i INNER JOIN\n",
    "\t\tPAST_DUE_AGENTS pd ON i.ID_BRANCH = pd.ID_BRANCH LEFT JOIN\n",
    "\t\tAudit_Events AS a ON i.ID_BRANCH = a.ID_BRANCH AND i.DATE_AUDIT < a.DATE_AUDIT AND a.OLD_FLAG = 'I' AND a. NEW_FLAG   = 'A' AND i.RowNum = a.RowNum - 1 LEFT JOIN\n",
    "\t\tPayment_Agreeement p ON i.ID_BRANCH = p.ID_BRANCH AND CAST(i.DATE_AUDIT AS DATE) >= CAST(p.DATE_START AS DATE)\n",
    "WHERE\ti.OLD_FLAG = 'A'\n",
    "\t\tAND i. NEW_FLAG   = 'I'\n",
    "ORDER BY i.ID_BRANCH, i.DATE_AUDIT ASC; ''', conn)\n",
    "\n",
    "#necesita adaptación para correr en ambiente athena\n"
   ]
  },
  {
   "cell_type": "code",
   "execution_count": 2,
   "id": "b642f693-0552-42e9-b7a3-0da34ed3778b",
   "metadata": {},
   "outputs": [
    {
     "ename": "NameError",
     "evalue": "name 'pd' is not defined",
     "output_type": "error",
     "traceback": [
      "\u001b[0;31m---------------------------------------------------------------------------\u001b[0m",
      "\u001b[0;31mNameError\u001b[0m                                 Traceback (most recent call last)",
      "Cell \u001b[0;32mIn[2], line 1\u001b[0m\n\u001b[0;32m----> 1\u001b[0m df2 \u001b[38;5;241m=\u001b[39m \u001b[43mpd\u001b[49m\u001b[38;5;241m.\u001b[39mread_csv(\u001b[38;5;124m'\u001b[39m\u001b[38;5;124mDatos Juan.csv\u001b[39m\u001b[38;5;124m'\u001b[39m)\n",
      "\u001b[0;31mNameError\u001b[0m: name 'pd' is not defined"
     ]
    }
   ],
   "source": [
    "df2 = pd.read_csv('Datos Juan.csv')"
   ]
  },
  {
   "cell_type": "code",
   "execution_count": 10,
   "id": "925babb7-4ddd-4b13-abe0-39faed1a4f7c",
   "metadata": {
    "tags": []
   },
   "outputs": [],
   "source": [
    "df2['INACTIVATION_DATE'] = pd.to_datetime(df2['INACTIVATION_DATE'])"
   ]
  },
  {
   "cell_type": "code",
   "execution_count": 11,
   "id": "0bf863c5-9ad2-43d5-b575-ee58ee094874",
   "metadata": {
    "tags": []
   },
   "outputs": [],
   "source": [
    "#cambiar la fecha INACTIVATION_DATE a formato y-m-d y su nombre a DATE, filtrar sólo los inactive days mayores a 15 y llamarlos default\n",
    "df2['DATE'] = df2['INACTIVATION_DATE'].dt.date"
   ]
  },
  {
   "cell_type": "code",
   "execution_count": 12,
   "id": "e62d5e79-434e-4cf5-b1d5-217da695e7a1",
   "metadata": {
    "tags": []
   },
   "outputs": [],
   "source": [
    "df3 = df2[df2['INACTIVE_DAYS'] > 6] #me quedo con 5 días inactivos en adelante"
   ]
  },
  {
   "cell_type": "code",
   "execution_count": 27,
   "id": "530e0325-a188-4cf7-a353-a2a915212c02",
   "metadata": {
    "tags": []
   },
   "outputs": [],
   "source": [
    "df3['DEFAULT'] = 1"
   ]
  },
  {
   "cell_type": "code",
   "execution_count": 25,
   "id": "81febd5f-43b6-4f53-a436-970263cfbc08",
   "metadata": {
    "tags": []
   },
   "outputs": [
    {
     "data": {
      "text/html": [
       "<div>\n",
       "<style scoped>\n",
       "    .dataframe tbody tr th:only-of-type {\n",
       "        vertical-align: middle;\n",
       "    }\n",
       "\n",
       "    .dataframe tbody tr th {\n",
       "        vertical-align: top;\n",
       "    }\n",
       "\n",
       "    .dataframe thead th {\n",
       "        text-align: right;\n",
       "    }\n",
       "</style>\n",
       "<table border=\"1\" class=\"dataframe\">\n",
       "  <thead>\n",
       "    <tr style=\"text-align: right;\">\n",
       "      <th></th>\n",
       "      <th>DATE</th>\n",
       "      <th>ID_BRANCH</th>\n",
       "      <th>INACTIVE_DAYS</th>\n",
       "    </tr>\n",
       "  </thead>\n",
       "  <tbody>\n",
       "    <tr>\n",
       "      <th>13</th>\n",
       "      <td>2022-04-11</td>\n",
       "      <td>A00152</td>\n",
       "      <td>9</td>\n",
       "    </tr>\n",
       "    <tr>\n",
       "      <th>27</th>\n",
       "      <td>2022-11-24</td>\n",
       "      <td>A00152</td>\n",
       "      <td>600</td>\n",
       "    </tr>\n",
       "    <tr>\n",
       "      <th>29</th>\n",
       "      <td>2023-06-26</td>\n",
       "      <td>A00216</td>\n",
       "      <td>386</td>\n",
       "    </tr>\n",
       "    <tr>\n",
       "      <th>55</th>\n",
       "      <td>2023-08-21</td>\n",
       "      <td>A00219</td>\n",
       "      <td>38</td>\n",
       "    </tr>\n",
       "    <tr>\n",
       "      <th>67</th>\n",
       "      <td>2024-01-17</td>\n",
       "      <td>A00219</td>\n",
       "      <td>8</td>\n",
       "    </tr>\n",
       "  </tbody>\n",
       "</table>\n",
       "</div>"
      ],
      "text/plain": [
       "         DATE   ID_BRANCH  INACTIVE_DAYS\n",
       "13 2022-04-11  A00152                  9\n",
       "27 2022-11-24  A00152                600\n",
       "29 2023-06-26  A00216                386\n",
       "55 2023-08-21  A00219                 38\n",
       "67 2024-01-17  A00219                  8"
      ]
     },
     "execution_count": 25,
     "metadata": {},
     "output_type": "execute_result"
    }
   ],
   "source": [
    "df3.head()"
   ]
  },
  {
   "cell_type": "code",
   "execution_count": 28,
   "id": "bb3b13d5-8a21-41fe-8a5c-9061c71fd599",
   "metadata": {
    "tags": []
   },
   "outputs": [],
   "source": [
    "lista =['DATE', 'ID_BRANCH', 'INACTIVE_DAYS','DEFAULT']\n",
    "df3 = df3[lista]"
   ]
  },
  {
   "cell_type": "code",
   "execution_count": 29,
   "id": "f14d2dfb-ccc7-49bc-97f3-473623189673",
   "metadata": {
    "tags": []
   },
   "outputs": [
    {
     "data": {
      "text/plain": [
       "(5226, 4)"
      ]
     },
     "execution_count": 29,
     "metadata": {},
     "output_type": "execute_result"
    }
   ],
   "source": [
    "df3.shape"
   ]
  },
  {
   "cell_type": "code",
   "execution_count": 16,
   "id": "e96182cf-8705-4d8c-8ff9-8ab8f63b5748",
   "metadata": {
    "tags": []
   },
   "outputs": [],
   "source": [
    "df3['DATE'] = pd.to_datetime(df3['DATE'])"
   ]
  },
  {
   "cell_type": "code",
   "execution_count": 18,
   "id": "3d76c1d1-770d-474a-9a98-71ff383bf041",
   "metadata": {
    "tags": []
   },
   "outputs": [],
   "source": [
    "result_df = pd.read_csv('2023_trx_balance_chq_mo.csv')"
   ]
  },
  {
   "cell_type": "code",
   "execution_count": 19,
   "id": "046489d5-3afd-48cf-a8c6-52631ac164ec",
   "metadata": {
    "tags": []
   },
   "outputs": [],
   "source": [
    "result_df['DATE'] = pd.to_datetime(result_df['DATE'])"
   ]
  },
  {
   "cell_type": "code",
   "execution_count": 30,
   "id": "725d9897-793c-48dc-85dd-a2c3630e384d",
   "metadata": {},
   "outputs": [],
   "source": [
    "merged_df = pd.merge(result_df, df3, on=['DATE', 'ID_BRANCH'], how='outer')"
   ]
  },
  {
   "cell_type": "code",
   "execution_count": 32,
   "id": "60a7ff12-e2e5-4a99-a6d1-e2745d5f38a8",
   "metadata": {
    "tags": []
   },
   "outputs": [
    {
     "data": {
      "text/plain": [
       "array([ 1., nan])"
      ]
     },
     "execution_count": 32,
     "metadata": {},
     "output_type": "execute_result"
    }
   ],
   "source": [
    "merged_df['DEFAULT'].unique()"
   ]
  },
  {
   "cell_type": "code",
   "execution_count": 22,
   "id": "a511dbfd-786e-4a75-96de-36aec3c7e638",
   "metadata": {},
   "outputs": [
    {
     "name": "stdout",
     "output_type": "stream",
     "text": [
      "<class 'pandas.core.frame.DataFrame'>\n",
      "RangeIndex: 4379788 entries, 0 to 4379787\n",
      "Data columns (total 11 columns):\n",
      " #   Column              Dtype         \n",
      "---  ------              -----         \n",
      " 0   DATE                datetime64[ns]\n",
      " 1   AGENCY              object        \n",
      " 2   AMOUNT              float64       \n",
      " 3   BALANCE             float64       \n",
      " 4   ID_BRANCH           object        \n",
      " 5   TOTAL_AMOUNT_MO     float64       \n",
      " 6   TOTAL_AMOUNT_check  float64       \n",
      " 7   TX                  float64       \n",
      " 8   TX_MO               float64       \n",
      " 9   TX_check            float64       \n",
      " 10  INACTIVE_DAYS       float64       \n",
      "dtypes: datetime64[ns](1), float64(8), object(2)\n",
      "memory usage: 367.6+ MB\n"
     ]
    }
   ],
   "source": [
    "merged_df.info()"
   ]
  },
  {
   "cell_type": "code",
   "execution_count": 33,
   "id": "0874ee58-1b3e-4f53-b9d9-faab85028ec7",
   "metadata": {
    "tags": []
   },
   "outputs": [],
   "source": [
    "merged_df.to_csv('base_deafult_ABT.csv', index = False)"
   ]
  },
  {
   "cell_type": "markdown",
   "id": "13a876d6-c635-450a-845b-6d48baee4274",
   "metadata": {},
   "source": [
    "## Make looking back variables"
   ]
  },
  {
   "cell_type": "code",
   "execution_count": 5,
   "id": "1b40876e-7e55-4868-a50f-ccc04e795f66",
   "metadata": {
    "tags": []
   },
   "outputs": [],
   "source": [
    "df = pd.read_csv('base_deafult_ABT.csv')"
   ]
  },
  {
   "cell_type": "code",
   "execution_count": 10,
   "id": "050d5065-b57c-404b-a5c0-c4fbdf1f9b44",
   "metadata": {
    "tags": []
   },
   "outputs": [
    {
     "data": {
      "text/html": [
       "<div>\n",
       "<style scoped>\n",
       "    .dataframe tbody tr th:only-of-type {\n",
       "        vertical-align: middle;\n",
       "    }\n",
       "\n",
       "    .dataframe tbody tr th {\n",
       "        vertical-align: top;\n",
       "    }\n",
       "\n",
       "    .dataframe thead th {\n",
       "        text-align: right;\n",
       "    }\n",
       "</style>\n",
       "<table border=\"1\" class=\"dataframe\">\n",
       "  <thead>\n",
       "    <tr style=\"text-align: right;\">\n",
       "      <th></th>\n",
       "      <th>DATE</th>\n",
       "      <th>AGENCY</th>\n",
       "      <th>AMOUNT</th>\n",
       "      <th>BALANCE</th>\n",
       "      <th>ID_BRANCH</th>\n",
       "      <th>TOTAL_AMOUNT_MO</th>\n",
       "      <th>TOTAL_AMOUNT_check</th>\n",
       "      <th>TX</th>\n",
       "      <th>TX_MO</th>\n",
       "      <th>TX_check</th>\n",
       "      <th>INACTIVE_DAYS</th>\n",
       "      <th>DEFAULT</th>\n",
       "      <th>day_of_week</th>\n",
       "      <th>TARGET</th>\n",
       "    </tr>\n",
       "  </thead>\n",
       "  <tbody>\n",
       "    <tr>\n",
       "      <th>4379783</th>\n",
       "      <td>2024-02-03</td>\n",
       "      <td>VA1047</td>\n",
       "      <td>3990.00</td>\n",
       "      <td>0.0000</td>\n",
       "      <td>A26180</td>\n",
       "      <td>0.0</td>\n",
       "      <td>0.00</td>\n",
       "      <td>10.0</td>\n",
       "      <td>0.0</td>\n",
       "      <td>0.0</td>\n",
       "      <td>NaN</td>\n",
       "      <td>0.0</td>\n",
       "      <td>Saturday</td>\n",
       "      <td>0.0</td>\n",
       "    </tr>\n",
       "    <tr>\n",
       "      <th>4379784</th>\n",
       "      <td>2024-02-03</td>\n",
       "      <td>OH0244</td>\n",
       "      <td>8180.96</td>\n",
       "      <td>2042.0000</td>\n",
       "      <td>A26182</td>\n",
       "      <td>0.0</td>\n",
       "      <td>0.00</td>\n",
       "      <td>18.0</td>\n",
       "      <td>0.0</td>\n",
       "      <td>0.0</td>\n",
       "      <td>NaN</td>\n",
       "      <td>0.0</td>\n",
       "      <td>Saturday</td>\n",
       "      <td>0.0</td>\n",
       "    </tr>\n",
       "    <tr>\n",
       "      <th>4379785</th>\n",
       "      <td>2024-02-03</td>\n",
       "      <td>CA0803</td>\n",
       "      <td>0.00</td>\n",
       "      <td>0.0000</td>\n",
       "      <td>A26184</td>\n",
       "      <td>0.0</td>\n",
       "      <td>0.00</td>\n",
       "      <td>0.0</td>\n",
       "      <td>0.0</td>\n",
       "      <td>0.0</td>\n",
       "      <td>NaN</td>\n",
       "      <td>0.0</td>\n",
       "      <td>Saturday</td>\n",
       "      <td>0.0</td>\n",
       "    </tr>\n",
       "    <tr>\n",
       "      <th>4379786</th>\n",
       "      <td>2024-02-03</td>\n",
       "      <td>VA0001</td>\n",
       "      <td>7731.00</td>\n",
       "      <td>4638.6391</td>\n",
       "      <td>AB0106</td>\n",
       "      <td>0.0</td>\n",
       "      <td>18221.58</td>\n",
       "      <td>24.0</td>\n",
       "      <td>0.0</td>\n",
       "      <td>9.0</td>\n",
       "      <td>NaN</td>\n",
       "      <td>0.0</td>\n",
       "      <td>Saturday</td>\n",
       "      <td>0.0</td>\n",
       "    </tr>\n",
       "    <tr>\n",
       "      <th>4379787</th>\n",
       "      <td>2024-02-03</td>\n",
       "      <td>VA0003</td>\n",
       "      <td>4224.00</td>\n",
       "      <td>2830.2970</td>\n",
       "      <td>AB0110</td>\n",
       "      <td>0.0</td>\n",
       "      <td>759.76</td>\n",
       "      <td>11.0</td>\n",
       "      <td>0.0</td>\n",
       "      <td>3.0</td>\n",
       "      <td>NaN</td>\n",
       "      <td>0.0</td>\n",
       "      <td>Saturday</td>\n",
       "      <td>0.0</td>\n",
       "    </tr>\n",
       "  </tbody>\n",
       "</table>\n",
       "</div>"
      ],
      "text/plain": [
       "               DATE  AGENCY   AMOUNT    BALANCE ID_BRANCH  TOTAL_AMOUNT_MO  \\\n",
       "4379783  2024-02-03  VA1047  3990.00     0.0000    A26180              0.0   \n",
       "4379784  2024-02-03  OH0244  8180.96  2042.0000    A26182              0.0   \n",
       "4379785  2024-02-03  CA0803     0.00     0.0000    A26184              0.0   \n",
       "4379786  2024-02-03  VA0001  7731.00  4638.6391    AB0106              0.0   \n",
       "4379787  2024-02-03  VA0003  4224.00  2830.2970    AB0110              0.0   \n",
       "\n",
       "         TOTAL_AMOUNT_check    TX  TX_MO  TX_check  INACTIVE_DAYS  DEFAULT  \\\n",
       "4379783                0.00  10.0    0.0       0.0            NaN      0.0   \n",
       "4379784                0.00  18.0    0.0       0.0            NaN      0.0   \n",
       "4379785                0.00   0.0    0.0       0.0            NaN      0.0   \n",
       "4379786            18221.58  24.0    0.0       9.0            NaN      0.0   \n",
       "4379787              759.76  11.0    0.0       3.0            NaN      0.0   \n",
       "\n",
       "        day_of_week  TARGET  \n",
       "4379783    Saturday     0.0  \n",
       "4379784    Saturday     0.0  \n",
       "4379785    Saturday     0.0  \n",
       "4379786    Saturday     0.0  \n",
       "4379787    Saturday     0.0  "
      ]
     },
     "execution_count": 10,
     "metadata": {},
     "output_type": "execute_result"
    }
   ],
   "source": [
    "df.tail()"
   ]
  },
  {
   "cell_type": "code",
   "execution_count": 7,
   "id": "3aa0de75-4f06-4064-99d4-42caac97c30c",
   "metadata": {
    "tags": []
   },
   "outputs": [
    {
     "data": {
      "text/plain": [
       "array([ 1., nan])"
      ]
     },
     "execution_count": 7,
     "metadata": {},
     "output_type": "execute_result"
    }
   ],
   "source": [
    "df['DEFAULT'].unique()"
   ]
  },
  {
   "cell_type": "code",
   "execution_count": 8,
   "id": "81dda8bd-7afa-425e-ad32-484843c81623",
   "metadata": {
    "tags": []
   },
   "outputs": [],
   "source": [
    "#fillna\n",
    "values = {\"AMOUNT\": 0, \"BALANCE\": 0, \"TOTAL_AMOUNT_MO\": 0, \"TOTAL_AMOUNT_check\": 0, 'TX':0, 'TX_MO':0, 'TX_check':0, 'DEFAULT':0}\n",
    "df.fillna(value=values, inplace=True)"
   ]
  },
  {
   "cell_type": "code",
   "execution_count": 9,
   "id": "8f1248dd-2a46-4ce6-99ab-4c4a12346e74",
   "metadata": {
    "tags": []
   },
   "outputs": [],
   "source": [
    "# add day of week\n",
    "df['DATE'] = pd.to_datetime(df['DATE'])\n",
    "df['day_of_week'] = df['DATE'].dt.day_name()"
   ]
  },
  {
   "cell_type": "code",
   "execution_count": 12,
   "id": "a16cd25b-5369-434a-ac6d-18d28bb90990",
   "metadata": {
    "tags": []
   },
   "outputs": [],
   "source": [
    "# Target default mondays inactivation wednesday next week, lag 9 days, at slicing could serve tue and wed also\n",
    "df['TARGET'] = df.set_index('DATE').groupby('ID_BRANCH', sort=False)['DEFAULT'].shift(-9).to_numpy()\n",
    "# You can fill this NaN with 0 or another appropriate value\n",
    "df['TARGET'] = df['TARGET'].fillna(0)"
   ]
  },
  {
   "cell_type": "code",
   "execution_count": 13,
   "id": "2a28b303-228c-476b-b6e9-f56c242d9762",
   "metadata": {
    "tags": []
   },
   "outputs": [],
   "source": [
    "df.to_csv('deafult_ABT1.csv', index = False)"
   ]
  },
  {
   "cell_type": "code",
   "execution_count": null,
   "id": "c941a54e-82f5-43d6-8724-61895bdf59f1",
   "metadata": {},
   "outputs": [],
   "source": []
  },
  {
   "cell_type": "code",
   "execution_count": null,
   "id": "c8a5168b-8115-421c-b219-b2ca85c30963",
   "metadata": {},
   "outputs": [],
   "source": []
  },
  {
   "cell_type": "code",
   "execution_count": null,
   "id": "acef5b65-f1bd-44e8-a89e-185c9bfedf7a",
   "metadata": {},
   "outputs": [],
   "source": []
  },
  {
   "cell_type": "markdown",
   "id": "9cefe829-7297-474e-bfd4-e3ab32033a1f",
   "metadata": {},
   "source": [
    "# With target added"
   ]
  },
  {
   "cell_type": "code",
   "execution_count": 5,
   "id": "c62a7fbd-59d4-4d4e-8d75-dd0d4762f280",
   "metadata": {
    "tags": []
   },
   "outputs": [],
   "source": [
    "df = pd.read_csv('deafult_ABT1.csv')"
   ]
  },
  {
   "cell_type": "code",
   "execution_count": 6,
   "id": "926009e9-558e-4f16-867c-bbcf3e2028d8",
   "metadata": {
    "tags": []
   },
   "outputs": [],
   "source": [
    "df['DATE'] = pd.to_datetime(df['DATE'])"
   ]
  },
  {
   "cell_type": "code",
   "execution_count": 7,
   "id": "8f7da428-dd16-4bb4-813a-59bd247202a2",
   "metadata": {
    "tags": []
   },
   "outputs": [],
   "source": [
    "def calculate_rolling_means(df, columns, window):\n",
    "    # Create an empty DataFrame to hold the results\n",
    "    result_df = pd.DataFrame()\n",
    "\n",
    "    # Loop through each column in the list of columns\n",
    "    for column in columns:\n",
    "        # Calculate the rolling mean for the current column\n",
    "        rolling_mean = df.set_index('DATE').groupby('ID_BRANCH', sort=False)[column].rolling(window).mean().round(2).to_numpy()\n",
    "\n",
    "        # Add the rolling mean to the result DataFrame\n",
    "        result_df[f'roll_mean_{window}_{column}'] = rolling_mean\n",
    "\n",
    "    # Concatenate the original DataFrame with the result DataFrame\n",
    "    result_df = pd.concat([df, result_df], axis=1)\n",
    "\n",
    "    return result_df\n"
   ]
  },
  {
   "cell_type": "code",
   "execution_count": 8,
   "id": "d63b1416-e812-4369-b940-fbf5644a37c3",
   "metadata": {
    "tags": []
   },
   "outputs": [],
   "source": [
    "df = calculate_rolling_means(df, [\"AMOUNT\", \"BALANCE\", \"TOTAL_AMOUNT_MO\", \"TOTAL_AMOUNT_check\", 'TX', 'TX_MO', 'TX_check', 'DEFAULT'], '30D')\n",
    "df = calculate_rolling_means(df, [\"AMOUNT\", \"BALANCE\", \"TOTAL_AMOUNT_MO\", \"TOTAL_AMOUNT_check\", 'TX', 'TX_MO', 'TX_check', 'DEFAULT'], '7D')"
   ]
  },
  {
   "cell_type": "code",
   "execution_count": 9,
   "id": "94367793-b7e0-480e-98df-7f7b50619a2f",
   "metadata": {
    "tags": []
   },
   "outputs": [],
   "source": [
    "def calculate_rolling_max(df, columns, window):\n",
    "    # Create an empty DataFrame to hold the results\n",
    "    result_df = pd.DataFrame()\n",
    "\n",
    "    # Loop through each column in the list of columns\n",
    "    for column in columns:\n",
    "        # Calculate the rolling mean for the current column\n",
    "        rolling_mean = df.set_index('DATE').groupby('ID_BRANCH', sort=False)[column].rolling(window).max().to_numpy()\n",
    "\n",
    "        # Add the rolling mean to the result DataFrame\n",
    "        result_df[f'roll_max_{window}_{column}'] = rolling_mean\n",
    "\n",
    "    # Concatenate the original DataFrame with the result DataFrame\n",
    "    result_df = pd.concat([df, result_df], axis=1)\n",
    "\n",
    "    return result_df"
   ]
  },
  {
   "cell_type": "code",
   "execution_count": 10,
   "id": "b5e8474c-6a1c-4e76-961d-c812822a508c",
   "metadata": {
    "tags": []
   },
   "outputs": [],
   "source": [
    "df = calculate_rolling_max(df, [\"AMOUNT\", \"BALANCE\", \"TOTAL_AMOUNT_MO\", \"TOTAL_AMOUNT_check\", 'TX', 'TX_MO', 'TX_check', 'DEFAULT'], '7D')\n",
    "df = calculate_rolling_max(df, [\"AMOUNT\", \"BALANCE\", \"TOTAL_AMOUNT_MO\", \"TOTAL_AMOUNT_check\", 'TX', 'TX_MO', 'TX_check', 'DEFAULT'], '30D')"
   ]
  },
  {
   "cell_type": "code",
   "execution_count": 11,
   "id": "2207f539-21e1-46fb-85b3-53242f26940a",
   "metadata": {
    "tags": []
   },
   "outputs": [],
   "source": [
    "\n",
    "def calculate_lag(df, columns, window):\n",
    "    # Create an empty DataFrame to hold the results\n",
    "    result_df = pd.DataFrame()\n",
    "\n",
    "    # Loop through each column in the list of columns\n",
    "    for column in columns:\n",
    "        # Calculate the rolling mean for the current column\n",
    "        rolling_mean = df.set_index('DATE').groupby('ID_BRANCH', sort=False)[column].shift(window).to_numpy()\n",
    "\n",
    "        # Add the rolling mean to the result DataFrame\n",
    "        result_df[f'lag_{window}_{column}'] = rolling_mean\n",
    "\n",
    "    # Concatenate the original DataFrame with the result DataFrame\n",
    "    result_df = pd.concat([df, result_df], axis=1)\n",
    "\n",
    "    return result_df"
   ]
  },
  {
   "cell_type": "code",
   "execution_count": 12,
   "id": "953e7be6-0af9-4ce2-837f-5ac4a92bf41f",
   "metadata": {
    "tags": []
   },
   "outputs": [],
   "source": [
    "df = calculate_lag(df, [\"AMOUNT\", \"BALANCE\", \"TOTAL_AMOUNT_MO\", \"TOTAL_AMOUNT_check\", 'TX', 'TX_MO', 'TX_check', 'DEFAULT'], 1)"
   ]
  },
  {
   "cell_type": "code",
   "execution_count": 13,
   "id": "a92edf83-4644-4bfe-8768-18667ed8b40a",
   "metadata": {
    "tags": []
   },
   "outputs": [
    {
     "data": {
      "text/plain": [
       "Index(['DATE', 'AGENCY', 'AMOUNT', 'BALANCE', 'ID_BRANCH', 'TOTAL_AMOUNT_MO',\n",
       "       'TOTAL_AMOUNT_check', 'TX', 'TX_MO', 'TX_check', 'INACTIVE_DAYS',\n",
       "       'DEFAULT', 'day_of_week', 'TARGET', 'roll_mean_30D_AMOUNT',\n",
       "       'roll_mean_30D_BALANCE', 'roll_mean_30D_TOTAL_AMOUNT_MO',\n",
       "       'roll_mean_30D_TOTAL_AMOUNT_check', 'roll_mean_30D_TX',\n",
       "       'roll_mean_30D_TX_MO', 'roll_mean_30D_TX_check',\n",
       "       'roll_mean_30D_DEFAULT', 'roll_mean_7D_AMOUNT', 'roll_mean_7D_BALANCE',\n",
       "       'roll_mean_7D_TOTAL_AMOUNT_MO', 'roll_mean_7D_TOTAL_AMOUNT_check',\n",
       "       'roll_mean_7D_TX', 'roll_mean_7D_TX_MO', 'roll_mean_7D_TX_check',\n",
       "       'roll_mean_7D_DEFAULT', 'roll_max_7D_AMOUNT', 'roll_max_7D_BALANCE',\n",
       "       'roll_max_7D_TOTAL_AMOUNT_MO', 'roll_max_7D_TOTAL_AMOUNT_check',\n",
       "       'roll_max_7D_TX', 'roll_max_7D_TX_MO', 'roll_max_7D_TX_check',\n",
       "       'roll_max_7D_DEFAULT', 'roll_max_30D_AMOUNT', 'roll_max_30D_BALANCE',\n",
       "       'roll_max_30D_TOTAL_AMOUNT_MO', 'roll_max_30D_TOTAL_AMOUNT_check',\n",
       "       'roll_max_30D_TX', 'roll_max_30D_TX_MO', 'roll_max_30D_TX_check',\n",
       "       'roll_max_30D_DEFAULT', 'lag_1_AMOUNT', 'lag_1_BALANCE',\n",
       "       'lag_1_TOTAL_AMOUNT_MO', 'lag_1_TOTAL_AMOUNT_check', 'lag_1_TX',\n",
       "       'lag_1_TX_MO', 'lag_1_TX_check', 'lag_1_DEFAULT'],\n",
       "      dtype='object')"
      ]
     },
     "execution_count": 13,
     "metadata": {},
     "output_type": "execute_result"
    }
   ],
   "source": [
    "df.columns"
   ]
  },
  {
   "cell_type": "code",
   "execution_count": 14,
   "id": "21213326-ffe8-4302-98ae-63ac6aad5615",
   "metadata": {
    "tags": []
   },
   "outputs": [],
   "source": [
    "df = calculate_lag(df, [\"AMOUNT\", \"BALANCE\", \"TOTAL_AMOUNT_MO\", \"TOTAL_AMOUNT_check\", 'TX', 'TX_MO', 'TX_check', 'DEFAULT'], 2)\n",
    "df = calculate_lag(df, [\"AMOUNT\", \"BALANCE\", \"TOTAL_AMOUNT_MO\", \"TOTAL_AMOUNT_check\", 'TX', 'TX_MO', 'TX_check', 'DEFAULT'], 7)\n",
    "df = calculate_lag(df, [\"AMOUNT\", \"BALANCE\", \"TOTAL_AMOUNT_MO\", \"TOTAL_AMOUNT_check\", 'TX', 'TX_MO', 'TX_check', 'DEFAULT'], 30)"
   ]
  },
  {
   "cell_type": "code",
   "execution_count": 15,
   "id": "bff5cf5d-29f6-4d89-8d86-63a6938e9292",
   "metadata": {
    "tags": []
   },
   "outputs": [],
   "source": [
    "def calculate_rolling_sum(df, columns, window):\n",
    "    # Create an empty DataFrame to hold the results\n",
    "    result_df = pd.DataFrame()\n",
    "\n",
    "    # Loop through each column in the list of columns\n",
    "    for column in columns:\n",
    "        # Calculate the rolling mean for the current column\n",
    "        rolling_mean = df.set_index('DATE').groupby('ID_BRANCH', sort=False)[column].rolling(window).sum().to_numpy()\n",
    "\n",
    "        # Add the rolling mean to the result DataFrame\n",
    "        result_df[f'roll_sum_{window}_{column}'] = rolling_mean\n",
    "\n",
    "    # Concatenate the original DataFrame with the result DataFrame\n",
    "    result_df = pd.concat([df, result_df], axis=1)\n",
    "\n",
    "    return result_df"
   ]
  },
  {
   "cell_type": "code",
   "execution_count": 16,
   "id": "7f00426d-3999-4e04-b04d-97f56fc8cd60",
   "metadata": {
    "tags": []
   },
   "outputs": [],
   "source": [
    "df = calculate_rolling_sum(df, [\"AMOUNT\", \"BALANCE\", \"TOTAL_AMOUNT_MO\", \"TOTAL_AMOUNT_check\", 'TX', 'TX_MO', 'TX_check', 'DEFAULT'], 7)\n",
    "df = calculate_rolling_sum(df, [\"AMOUNT\", \"BALANCE\", \"TOTAL_AMOUNT_MO\", \"TOTAL_AMOUNT_check\", 'TX', 'TX_MO', 'TX_check', 'DEFAULT'], 30)\n",
    "df = calculate_rolling_sum(df, [\"AMOUNT\", \"BALANCE\", \"TOTAL_AMOUNT_MO\", \"TOTAL_AMOUNT_check\", 'TX', 'TX_MO', 'TX_check', 'DEFAULT'], 60)"
   ]
  },
  {
   "cell_type": "markdown",
   "id": "18473860-b062-4c68-8f2f-5a08521791cd",
   "metadata": {},
   "source": [
    "df.to_csv('deafult_ABT2.csv', index = False)"
   ]
  },
  {
   "cell_type": "code",
   "execution_count": 5,
   "id": "3e663987-3df9-40b8-a3c7-a9502ee1ee20",
   "metadata": {
    "tags": []
   },
   "outputs": [
    {
     "name": "stdout",
     "output_type": "stream",
     "text": [
      "Requirement already satisfied: ydata_profiling in /opt/conda/lib/python3.10/site-packages (4.9.0)\n",
      "Requirement already satisfied: scipy<1.14,>=1.4.1 in /opt/conda/lib/python3.10/site-packages (from ydata_profiling) (1.13.0)\n",
      "Requirement already satisfied: pandas!=1.4.0,<3,>1.1 in /opt/conda/lib/python3.10/site-packages (from ydata_profiling) (2.2.2)\n",
      "Requirement already satisfied: matplotlib<3.10,>=3.5 in /opt/conda/lib/python3.10/site-packages (from ydata_profiling) (3.8.4)\n",
      "Requirement already satisfied: pydantic>=2 in /opt/conda/lib/python3.10/site-packages (from ydata_profiling) (2.7.0)\n",
      "Requirement already satisfied: PyYAML<6.1,>=5.0.0 in /opt/conda/lib/python3.10/site-packages (from ydata_profiling) (6.0.1)\n",
      "Requirement already satisfied: jinja2<3.2,>=2.11.1 in /opt/conda/lib/python3.10/site-packages (from ydata_profiling) (3.1.3)\n",
      "Requirement already satisfied: visions<0.7.7,>=0.7.5 in /opt/conda/lib/python3.10/site-packages (from visions[type_image_path]<0.7.7,>=0.7.5->ydata_profiling) (0.7.6)\n",
      "Requirement already satisfied: numpy<2,>=1.16.0 in /opt/conda/lib/python3.10/site-packages (from ydata_profiling) (1.26.4)\n",
      "Requirement already satisfied: htmlmin==0.1.12 in /opt/conda/lib/python3.10/site-packages (from ydata_profiling) (0.1.12)\n",
      "Requirement already satisfied: phik<0.13,>=0.11.1 in /opt/conda/lib/python3.10/site-packages (from ydata_profiling) (0.12.4)\n",
      "Requirement already satisfied: requests<3,>=2.24.0 in /opt/conda/lib/python3.10/site-packages (from ydata_profiling) (2.31.0)\n",
      "Requirement already satisfied: tqdm<5,>=4.48.2 in /opt/conda/lib/python3.10/site-packages (from ydata_profiling) (4.66.1)\n",
      "Requirement already satisfied: seaborn<0.14,>=0.10.1 in /opt/conda/lib/python3.10/site-packages (from ydata_profiling) (0.13.2)\n",
      "Requirement already satisfied: multimethod<2,>=1.4 in /opt/conda/lib/python3.10/site-packages (from ydata_profiling) (1.12)\n",
      "Requirement already satisfied: statsmodels<1,>=0.13.2 in /opt/conda/lib/python3.10/site-packages (from ydata_profiling) (0.14.1)\n",
      "Requirement already satisfied: typeguard<5,>=3 in /opt/conda/lib/python3.10/site-packages (from ydata_profiling) (4.3.0)\n",
      "Requirement already satisfied: imagehash==4.3.1 in /opt/conda/lib/python3.10/site-packages (from ydata_profiling) (4.3.1)\n",
      "Requirement already satisfied: wordcloud>=1.9.1 in /opt/conda/lib/python3.10/site-packages (from ydata_profiling) (1.9.3)\n",
      "Requirement already satisfied: dacite>=1.8 in /opt/conda/lib/python3.10/site-packages (from ydata_profiling) (1.8.1)\n",
      "Requirement already satisfied: numba<1,>=0.56.0 in /opt/conda/lib/python3.10/site-packages (from ydata_profiling) (0.59.1)\n",
      "Requirement already satisfied: PyWavelets in /opt/conda/lib/python3.10/site-packages (from imagehash==4.3.1->ydata_profiling) (1.6.0)\n",
      "Requirement already satisfied: pillow in /opt/conda/lib/python3.10/site-packages (from imagehash==4.3.1->ydata_profiling) (10.3.0)\n",
      "Requirement already satisfied: MarkupSafe>=2.0 in /opt/conda/lib/python3.10/site-packages (from jinja2<3.2,>=2.11.1->ydata_profiling) (2.1.5)\n",
      "Requirement already satisfied: contourpy>=1.0.1 in /opt/conda/lib/python3.10/site-packages (from matplotlib<3.10,>=3.5->ydata_profiling) (1.2.1)\n",
      "Requirement already satisfied: cycler>=0.10 in /opt/conda/lib/python3.10/site-packages (from matplotlib<3.10,>=3.5->ydata_profiling) (0.12.1)\n",
      "Requirement already satisfied: fonttools>=4.22.0 in /opt/conda/lib/python3.10/site-packages (from matplotlib<3.10,>=3.5->ydata_profiling) (4.51.0)\n",
      "Requirement already satisfied: kiwisolver>=1.3.1 in /opt/conda/lib/python3.10/site-packages (from matplotlib<3.10,>=3.5->ydata_profiling) (1.4.5)\n",
      "Requirement already satisfied: packaging>=20.0 in /opt/conda/lib/python3.10/site-packages (from matplotlib<3.10,>=3.5->ydata_profiling) (23.2)\n",
      "Requirement already satisfied: pyparsing>=2.3.1 in /opt/conda/lib/python3.10/site-packages (from matplotlib<3.10,>=3.5->ydata_profiling) (3.1.2)\n",
      "Requirement already satisfied: python-dateutil>=2.7 in /opt/conda/lib/python3.10/site-packages (from matplotlib<3.10,>=3.5->ydata_profiling) (2.9.0)\n",
      "Requirement already satisfied: llvmlite<0.43,>=0.42.0dev0 in /opt/conda/lib/python3.10/site-packages (from numba<1,>=0.56.0->ydata_profiling) (0.42.0)\n",
      "Requirement already satisfied: pytz>=2020.1 in /opt/conda/lib/python3.10/site-packages (from pandas!=1.4.0,<3,>1.1->ydata_profiling) (2024.1)\n",
      "Requirement already satisfied: tzdata>=2022.7 in /opt/conda/lib/python3.10/site-packages (from pandas!=1.4.0,<3,>1.1->ydata_profiling) (2024.1)\n",
      "Requirement already satisfied: joblib>=0.14.1 in /opt/conda/lib/python3.10/site-packages (from phik<0.13,>=0.11.1->ydata_profiling) (1.4.0)\n",
      "Requirement already satisfied: annotated-types>=0.4.0 in /opt/conda/lib/python3.10/site-packages (from pydantic>=2->ydata_profiling) (0.6.0)\n",
      "Requirement already satisfied: pydantic-core==2.18.1 in /opt/conda/lib/python3.10/site-packages (from pydantic>=2->ydata_profiling) (2.18.1)\n",
      "Requirement already satisfied: typing-extensions>=4.6.1 in /opt/conda/lib/python3.10/site-packages (from pydantic>=2->ydata_profiling) (4.11.0)\n",
      "Requirement already satisfied: charset-normalizer<4,>=2 in /opt/conda/lib/python3.10/site-packages (from requests<3,>=2.24.0->ydata_profiling) (3.3.2)\n",
      "Requirement already satisfied: idna<4,>=2.5 in /opt/conda/lib/python3.10/site-packages (from requests<3,>=2.24.0->ydata_profiling) (3.6)\n",
      "Requirement already satisfied: urllib3<3,>=1.21.1 in /opt/conda/lib/python3.10/site-packages (from requests<3,>=2.24.0->ydata_profiling) (2.2.1)\n",
      "Requirement already satisfied: certifi>=2017.4.17 in /opt/conda/lib/python3.10/site-packages (from requests<3,>=2.24.0->ydata_profiling) (2024.2.2)\n",
      "Requirement already satisfied: patsy>=0.5.4 in /opt/conda/lib/python3.10/site-packages (from statsmodels<1,>=0.13.2->ydata_profiling) (0.5.6)\n",
      "Requirement already satisfied: attrs>=19.3.0 in /opt/conda/lib/python3.10/site-packages (from visions<0.7.7,>=0.7.5->visions[type_image_path]<0.7.7,>=0.7.5->ydata_profiling) (23.2.0)\n",
      "Requirement already satisfied: networkx>=2.4 in /opt/conda/lib/python3.10/site-packages (from visions<0.7.7,>=0.7.5->visions[type_image_path]<0.7.7,>=0.7.5->ydata_profiling) (3.3)\n",
      "\u001b[33mWARNING: visions 0.7.6 does not provide the extra 'type-image-path'\u001b[0m\u001b[33m\n",
      "\u001b[0mRequirement already satisfied: six in /opt/conda/lib/python3.10/site-packages (from patsy>=0.5.4->statsmodels<1,>=0.13.2->ydata_profiling) (1.16.0)\n",
      "\u001b[33mWARNING: Running pip as the 'root' user can result in broken permissions and conflicting behaviour with the system package manager. It is recommended to use a virtual environment instead: https://pip.pypa.io/warnings/venv\u001b[0m\u001b[33m\n",
      "\u001b[0mNote: you may need to restart the kernel to use updated packages.\n"
     ]
    }
   ],
   "source": [
    "pip install ydata_profiling --upgrade"
   ]
  },
  {
   "cell_type": "code",
   "execution_count": 6,
   "id": "fc719c86-dbaa-491c-9b61-1f7448274d5d",
   "metadata": {
    "tags": []
   },
   "outputs": [
    {
     "name": "stdout",
     "output_type": "stream",
     "text": [
      "Requirement already satisfied: typing in /opt/conda/lib/python3.10/site-packages (3.7.4.3)\n",
      "\u001b[33mWARNING: Running pip as the 'root' user can result in broken permissions and conflicting behaviour with the system package manager. It is recommended to use a virtual environment instead: https://pip.pypa.io/warnings/venv\u001b[0m\u001b[33m\n",
      "\u001b[0m"
     ]
    }
   ],
   "source": [
    "!pip install  typing --upgrade"
   ]
  },
  {
   "cell_type": "code",
   "execution_count": 7,
   "id": "59da641f-899a-4b43-81fb-fc2b0fd87445",
   "metadata": {
    "tags": []
   },
   "outputs": [],
   "source": [
    "import ydata_profiling\n",
    "\n",
    "from ydata_profiling import ProfileReport"
   ]
  },
  {
   "cell_type": "code",
   "execution_count": 24,
   "id": "f59d5ce3-7210-41cd-8a02-f9bdfd5a8f04",
   "metadata": {
    "tags": []
   },
   "outputs": [],
   "source": [
    "df = pd.read_csv('deafult_ABT2.csv')"
   ]
  },
  {
   "cell_type": "code",
   "execution_count": 27,
   "id": "9053d752-14df-4c16-80fe-fd851b4ebdcd",
   "metadata": {
    "tags": []
   },
   "outputs": [
    {
     "data": {
      "text/html": [
       "<div>\n",
       "<style scoped>\n",
       "    .dataframe tbody tr th:only-of-type {\n",
       "        vertical-align: middle;\n",
       "    }\n",
       "\n",
       "    .dataframe tbody tr th {\n",
       "        vertical-align: top;\n",
       "    }\n",
       "\n",
       "    .dataframe thead th {\n",
       "        text-align: right;\n",
       "    }\n",
       "</style>\n",
       "<table border=\"1\" class=\"dataframe\">\n",
       "  <thead>\n",
       "    <tr style=\"text-align: right;\">\n",
       "      <th></th>\n",
       "      <th>DATE</th>\n",
       "      <th>AGENCY</th>\n",
       "      <th>AMOUNT</th>\n",
       "      <th>BALANCE</th>\n",
       "      <th>ID_BRANCH</th>\n",
       "      <th>TOTAL_AMOUNT_MO</th>\n",
       "      <th>TOTAL_AMOUNT_check</th>\n",
       "      <th>TX</th>\n",
       "      <th>TX_MO</th>\n",
       "      <th>TX_check</th>\n",
       "      <th>...</th>\n",
       "      <th>roll_sum_30_TX_check</th>\n",
       "      <th>roll_sum_30_DEFAULT</th>\n",
       "      <th>roll_sum_60_AMOUNT</th>\n",
       "      <th>roll_sum_60_BALANCE</th>\n",
       "      <th>roll_sum_60_TOTAL_AMOUNT_MO</th>\n",
       "      <th>roll_sum_60_TOTAL_AMOUNT_check</th>\n",
       "      <th>roll_sum_60_TX</th>\n",
       "      <th>roll_sum_60_TX_MO</th>\n",
       "      <th>roll_sum_60_TX_check</th>\n",
       "      <th>roll_sum_60_DEFAULT</th>\n",
       "    </tr>\n",
       "  </thead>\n",
       "  <tbody>\n",
       "    <tr>\n",
       "      <th>4379758</th>\n",
       "      <td>2024-02-03</td>\n",
       "      <td>AZ0220</td>\n",
       "      <td>376.00</td>\n",
       "      <td>953.8101</td>\n",
       "      <td>A26122</td>\n",
       "      <td>0.0</td>\n",
       "      <td>0.00</td>\n",
       "      <td>2.0</td>\n",
       "      <td>0.0</td>\n",
       "      <td>0.0</td>\n",
       "      <td>...</td>\n",
       "      <td>NaN</td>\n",
       "      <td>NaN</td>\n",
       "      <td>NaN</td>\n",
       "      <td>NaN</td>\n",
       "      <td>NaN</td>\n",
       "      <td>NaN</td>\n",
       "      <td>NaN</td>\n",
       "      <td>NaN</td>\n",
       "      <td>NaN</td>\n",
       "      <td>NaN</td>\n",
       "    </tr>\n",
       "    <tr>\n",
       "      <th>4379759</th>\n",
       "      <td>2024-02-03</td>\n",
       "      <td>CA4698</td>\n",
       "      <td>5060.00</td>\n",
       "      <td>3636.9980</td>\n",
       "      <td>A26123</td>\n",
       "      <td>0.0</td>\n",
       "      <td>0.00</td>\n",
       "      <td>15.0</td>\n",
       "      <td>0.0</td>\n",
       "      <td>0.0</td>\n",
       "      <td>...</td>\n",
       "      <td>NaN</td>\n",
       "      <td>NaN</td>\n",
       "      <td>NaN</td>\n",
       "      <td>NaN</td>\n",
       "      <td>NaN</td>\n",
       "      <td>NaN</td>\n",
       "      <td>NaN</td>\n",
       "      <td>NaN</td>\n",
       "      <td>NaN</td>\n",
       "      <td>NaN</td>\n",
       "    </tr>\n",
       "    <tr>\n",
       "      <th>4379760</th>\n",
       "      <td>2024-02-03</td>\n",
       "      <td>TN0578</td>\n",
       "      <td>3153.00</td>\n",
       "      <td>7696.8800</td>\n",
       "      <td>A26124</td>\n",
       "      <td>0.0</td>\n",
       "      <td>0.00</td>\n",
       "      <td>10.0</td>\n",
       "      <td>0.0</td>\n",
       "      <td>0.0</td>\n",
       "      <td>...</td>\n",
       "      <td>NaN</td>\n",
       "      <td>NaN</td>\n",
       "      <td>NaN</td>\n",
       "      <td>NaN</td>\n",
       "      <td>NaN</td>\n",
       "      <td>NaN</td>\n",
       "      <td>NaN</td>\n",
       "      <td>NaN</td>\n",
       "      <td>NaN</td>\n",
       "      <td>NaN</td>\n",
       "    </tr>\n",
       "    <tr>\n",
       "      <th>4379761</th>\n",
       "      <td>2024-02-03</td>\n",
       "      <td>CA4699</td>\n",
       "      <td>310.00</td>\n",
       "      <td>4135.2900</td>\n",
       "      <td>A26126</td>\n",
       "      <td>0.0</td>\n",
       "      <td>0.00</td>\n",
       "      <td>2.0</td>\n",
       "      <td>0.0</td>\n",
       "      <td>0.0</td>\n",
       "      <td>...</td>\n",
       "      <td>NaN</td>\n",
       "      <td>NaN</td>\n",
       "      <td>NaN</td>\n",
       "      <td>NaN</td>\n",
       "      <td>NaN</td>\n",
       "      <td>NaN</td>\n",
       "      <td>NaN</td>\n",
       "      <td>NaN</td>\n",
       "      <td>NaN</td>\n",
       "      <td>NaN</td>\n",
       "    </tr>\n",
       "    <tr>\n",
       "      <th>4379762</th>\n",
       "      <td>2024-02-03</td>\n",
       "      <td>SC0174</td>\n",
       "      <td>367.00</td>\n",
       "      <td>667.0000</td>\n",
       "      <td>A26127</td>\n",
       "      <td>0.0</td>\n",
       "      <td>0.00</td>\n",
       "      <td>4.0</td>\n",
       "      <td>0.0</td>\n",
       "      <td>0.0</td>\n",
       "      <td>...</td>\n",
       "      <td>NaN</td>\n",
       "      <td>NaN</td>\n",
       "      <td>NaN</td>\n",
       "      <td>NaN</td>\n",
       "      <td>NaN</td>\n",
       "      <td>NaN</td>\n",
       "      <td>NaN</td>\n",
       "      <td>NaN</td>\n",
       "      <td>NaN</td>\n",
       "      <td>NaN</td>\n",
       "    </tr>\n",
       "    <tr>\n",
       "      <th>4379763</th>\n",
       "      <td>2024-02-03</td>\n",
       "      <td>VA1045</td>\n",
       "      <td>2600.00</td>\n",
       "      <td>6243.0000</td>\n",
       "      <td>A26130</td>\n",
       "      <td>0.0</td>\n",
       "      <td>0.00</td>\n",
       "      <td>2.0</td>\n",
       "      <td>0.0</td>\n",
       "      <td>0.0</td>\n",
       "      <td>...</td>\n",
       "      <td>NaN</td>\n",
       "      <td>NaN</td>\n",
       "      <td>NaN</td>\n",
       "      <td>NaN</td>\n",
       "      <td>NaN</td>\n",
       "      <td>NaN</td>\n",
       "      <td>NaN</td>\n",
       "      <td>NaN</td>\n",
       "      <td>NaN</td>\n",
       "      <td>NaN</td>\n",
       "    </tr>\n",
       "    <tr>\n",
       "      <th>4379764</th>\n",
       "      <td>2024-02-03</td>\n",
       "      <td>NJ0245</td>\n",
       "      <td>5272.00</td>\n",
       "      <td>9411.0000</td>\n",
       "      <td>A26134</td>\n",
       "      <td>0.0</td>\n",
       "      <td>0.00</td>\n",
       "      <td>16.0</td>\n",
       "      <td>0.0</td>\n",
       "      <td>0.0</td>\n",
       "      <td>...</td>\n",
       "      <td>NaN</td>\n",
       "      <td>NaN</td>\n",
       "      <td>NaN</td>\n",
       "      <td>NaN</td>\n",
       "      <td>NaN</td>\n",
       "      <td>NaN</td>\n",
       "      <td>NaN</td>\n",
       "      <td>NaN</td>\n",
       "      <td>NaN</td>\n",
       "      <td>NaN</td>\n",
       "    </tr>\n",
       "    <tr>\n",
       "      <th>4379765</th>\n",
       "      <td>2024-02-03</td>\n",
       "      <td>NY1578</td>\n",
       "      <td>1100.00</td>\n",
       "      <td>0.0000</td>\n",
       "      <td>A26135</td>\n",
       "      <td>0.0</td>\n",
       "      <td>0.00</td>\n",
       "      <td>2.0</td>\n",
       "      <td>0.0</td>\n",
       "      <td>0.0</td>\n",
       "      <td>...</td>\n",
       "      <td>NaN</td>\n",
       "      <td>NaN</td>\n",
       "      <td>NaN</td>\n",
       "      <td>NaN</td>\n",
       "      <td>NaN</td>\n",
       "      <td>NaN</td>\n",
       "      <td>NaN</td>\n",
       "      <td>NaN</td>\n",
       "      <td>NaN</td>\n",
       "      <td>NaN</td>\n",
       "    </tr>\n",
       "    <tr>\n",
       "      <th>4379766</th>\n",
       "      <td>2024-02-03</td>\n",
       "      <td>IL0916</td>\n",
       "      <td>2589.00</td>\n",
       "      <td>0.0000</td>\n",
       "      <td>A26136</td>\n",
       "      <td>0.0</td>\n",
       "      <td>0.00</td>\n",
       "      <td>9.0</td>\n",
       "      <td>0.0</td>\n",
       "      <td>0.0</td>\n",
       "      <td>...</td>\n",
       "      <td>NaN</td>\n",
       "      <td>NaN</td>\n",
       "      <td>NaN</td>\n",
       "      <td>NaN</td>\n",
       "      <td>NaN</td>\n",
       "      <td>NaN</td>\n",
       "      <td>NaN</td>\n",
       "      <td>NaN</td>\n",
       "      <td>NaN</td>\n",
       "      <td>NaN</td>\n",
       "    </tr>\n",
       "    <tr>\n",
       "      <th>4379767</th>\n",
       "      <td>2024-02-03</td>\n",
       "      <td>NY1579</td>\n",
       "      <td>3550.00</td>\n",
       "      <td>2235.0000</td>\n",
       "      <td>A26137</td>\n",
       "      <td>0.0</td>\n",
       "      <td>0.00</td>\n",
       "      <td>3.0</td>\n",
       "      <td>0.0</td>\n",
       "      <td>0.0</td>\n",
       "      <td>...</td>\n",
       "      <td>NaN</td>\n",
       "      <td>NaN</td>\n",
       "      <td>NaN</td>\n",
       "      <td>NaN</td>\n",
       "      <td>NaN</td>\n",
       "      <td>NaN</td>\n",
       "      <td>NaN</td>\n",
       "      <td>NaN</td>\n",
       "      <td>NaN</td>\n",
       "      <td>NaN</td>\n",
       "    </tr>\n",
       "    <tr>\n",
       "      <th>4379768</th>\n",
       "      <td>2024-02-03</td>\n",
       "      <td>WA0361</td>\n",
       "      <td>1180.00</td>\n",
       "      <td>1978.0000</td>\n",
       "      <td>A26143</td>\n",
       "      <td>0.0</td>\n",
       "      <td>0.00</td>\n",
       "      <td>2.0</td>\n",
       "      <td>0.0</td>\n",
       "      <td>0.0</td>\n",
       "      <td>...</td>\n",
       "      <td>NaN</td>\n",
       "      <td>NaN</td>\n",
       "      <td>NaN</td>\n",
       "      <td>NaN</td>\n",
       "      <td>NaN</td>\n",
       "      <td>NaN</td>\n",
       "      <td>NaN</td>\n",
       "      <td>NaN</td>\n",
       "      <td>NaN</td>\n",
       "      <td>NaN</td>\n",
       "    </tr>\n",
       "    <tr>\n",
       "      <th>4379769</th>\n",
       "      <td>2024-02-03</td>\n",
       "      <td>NC0489</td>\n",
       "      <td>2414.00</td>\n",
       "      <td>300.0000</td>\n",
       "      <td>A26144</td>\n",
       "      <td>0.0</td>\n",
       "      <td>0.00</td>\n",
       "      <td>9.0</td>\n",
       "      <td>0.0</td>\n",
       "      <td>0.0</td>\n",
       "      <td>...</td>\n",
       "      <td>NaN</td>\n",
       "      <td>NaN</td>\n",
       "      <td>NaN</td>\n",
       "      <td>NaN</td>\n",
       "      <td>NaN</td>\n",
       "      <td>NaN</td>\n",
       "      <td>NaN</td>\n",
       "      <td>NaN</td>\n",
       "      <td>NaN</td>\n",
       "      <td>NaN</td>\n",
       "    </tr>\n",
       "    <tr>\n",
       "      <th>4379770</th>\n",
       "      <td>2024-02-03</td>\n",
       "      <td>TX1635</td>\n",
       "      <td>622.00</td>\n",
       "      <td>408.0000</td>\n",
       "      <td>A26145</td>\n",
       "      <td>0.0</td>\n",
       "      <td>0.00</td>\n",
       "      <td>4.0</td>\n",
       "      <td>0.0</td>\n",
       "      <td>0.0</td>\n",
       "      <td>...</td>\n",
       "      <td>NaN</td>\n",
       "      <td>NaN</td>\n",
       "      <td>NaN</td>\n",
       "      <td>NaN</td>\n",
       "      <td>NaN</td>\n",
       "      <td>NaN</td>\n",
       "      <td>NaN</td>\n",
       "      <td>NaN</td>\n",
       "      <td>NaN</td>\n",
       "      <td>NaN</td>\n",
       "    </tr>\n",
       "    <tr>\n",
       "      <th>4379771</th>\n",
       "      <td>2024-02-03</td>\n",
       "      <td>TX1637</td>\n",
       "      <td>1051.00</td>\n",
       "      <td>0.0000</td>\n",
       "      <td>A26147</td>\n",
       "      <td>0.0</td>\n",
       "      <td>0.00</td>\n",
       "      <td>4.0</td>\n",
       "      <td>0.0</td>\n",
       "      <td>0.0</td>\n",
       "      <td>...</td>\n",
       "      <td>NaN</td>\n",
       "      <td>NaN</td>\n",
       "      <td>NaN</td>\n",
       "      <td>NaN</td>\n",
       "      <td>NaN</td>\n",
       "      <td>NaN</td>\n",
       "      <td>NaN</td>\n",
       "      <td>NaN</td>\n",
       "      <td>NaN</td>\n",
       "      <td>NaN</td>\n",
       "    </tr>\n",
       "    <tr>\n",
       "      <th>4379772</th>\n",
       "      <td>2024-02-03</td>\n",
       "      <td>NC1668</td>\n",
       "      <td>220.00</td>\n",
       "      <td>1088.0000</td>\n",
       "      <td>A26151</td>\n",
       "      <td>0.0</td>\n",
       "      <td>0.00</td>\n",
       "      <td>2.0</td>\n",
       "      <td>0.0</td>\n",
       "      <td>0.0</td>\n",
       "      <td>...</td>\n",
       "      <td>NaN</td>\n",
       "      <td>NaN</td>\n",
       "      <td>NaN</td>\n",
       "      <td>NaN</td>\n",
       "      <td>NaN</td>\n",
       "      <td>NaN</td>\n",
       "      <td>NaN</td>\n",
       "      <td>NaN</td>\n",
       "      <td>NaN</td>\n",
       "      <td>NaN</td>\n",
       "    </tr>\n",
       "    <tr>\n",
       "      <th>4379773</th>\n",
       "      <td>2024-02-03</td>\n",
       "      <td>GA1289</td>\n",
       "      <td>3103.91</td>\n",
       "      <td>2158.7500</td>\n",
       "      <td>A26153</td>\n",
       "      <td>0.0</td>\n",
       "      <td>0.00</td>\n",
       "      <td>10.0</td>\n",
       "      <td>0.0</td>\n",
       "      <td>0.0</td>\n",
       "      <td>...</td>\n",
       "      <td>NaN</td>\n",
       "      <td>NaN</td>\n",
       "      <td>NaN</td>\n",
       "      <td>NaN</td>\n",
       "      <td>NaN</td>\n",
       "      <td>NaN</td>\n",
       "      <td>NaN</td>\n",
       "      <td>NaN</td>\n",
       "      <td>NaN</td>\n",
       "      <td>NaN</td>\n",
       "    </tr>\n",
       "    <tr>\n",
       "      <th>4379774</th>\n",
       "      <td>2024-02-03</td>\n",
       "      <td>GA1290</td>\n",
       "      <td>13954.00</td>\n",
       "      <td>0.0000</td>\n",
       "      <td>A26160</td>\n",
       "      <td>0.0</td>\n",
       "      <td>11249.20</td>\n",
       "      <td>29.0</td>\n",
       "      <td>0.0</td>\n",
       "      <td>17.0</td>\n",
       "      <td>...</td>\n",
       "      <td>NaN</td>\n",
       "      <td>NaN</td>\n",
       "      <td>NaN</td>\n",
       "      <td>NaN</td>\n",
       "      <td>NaN</td>\n",
       "      <td>NaN</td>\n",
       "      <td>NaN</td>\n",
       "      <td>NaN</td>\n",
       "      <td>NaN</td>\n",
       "      <td>NaN</td>\n",
       "    </tr>\n",
       "    <tr>\n",
       "      <th>4379775</th>\n",
       "      <td>2024-02-03</td>\n",
       "      <td>DE0171</td>\n",
       "      <td>1600.00</td>\n",
       "      <td>1710.6300</td>\n",
       "      <td>A26164</td>\n",
       "      <td>0.0</td>\n",
       "      <td>0.00</td>\n",
       "      <td>3.0</td>\n",
       "      <td>0.0</td>\n",
       "      <td>0.0</td>\n",
       "      <td>...</td>\n",
       "      <td>NaN</td>\n",
       "      <td>NaN</td>\n",
       "      <td>NaN</td>\n",
       "      <td>NaN</td>\n",
       "      <td>NaN</td>\n",
       "      <td>NaN</td>\n",
       "      <td>NaN</td>\n",
       "      <td>NaN</td>\n",
       "      <td>NaN</td>\n",
       "      <td>NaN</td>\n",
       "    </tr>\n",
       "    <tr>\n",
       "      <th>4379776</th>\n",
       "      <td>2024-02-03</td>\n",
       "      <td>NC1670</td>\n",
       "      <td>50.00</td>\n",
       "      <td>520.0000</td>\n",
       "      <td>A26167</td>\n",
       "      <td>0.0</td>\n",
       "      <td>0.00</td>\n",
       "      <td>1.0</td>\n",
       "      <td>0.0</td>\n",
       "      <td>0.0</td>\n",
       "      <td>...</td>\n",
       "      <td>NaN</td>\n",
       "      <td>NaN</td>\n",
       "      <td>NaN</td>\n",
       "      <td>NaN</td>\n",
       "      <td>NaN</td>\n",
       "      <td>NaN</td>\n",
       "      <td>NaN</td>\n",
       "      <td>NaN</td>\n",
       "      <td>NaN</td>\n",
       "      <td>NaN</td>\n",
       "    </tr>\n",
       "    <tr>\n",
       "      <th>4379777</th>\n",
       "      <td>2024-02-03</td>\n",
       "      <td>NY1580</td>\n",
       "      <td>1353.46</td>\n",
       "      <td>511.3600</td>\n",
       "      <td>A26168</td>\n",
       "      <td>0.0</td>\n",
       "      <td>1141.05</td>\n",
       "      <td>9.0</td>\n",
       "      <td>0.0</td>\n",
       "      <td>2.0</td>\n",
       "      <td>...</td>\n",
       "      <td>NaN</td>\n",
       "      <td>NaN</td>\n",
       "      <td>NaN</td>\n",
       "      <td>NaN</td>\n",
       "      <td>NaN</td>\n",
       "      <td>NaN</td>\n",
       "      <td>NaN</td>\n",
       "      <td>NaN</td>\n",
       "      <td>NaN</td>\n",
       "      <td>NaN</td>\n",
       "    </tr>\n",
       "    <tr>\n",
       "      <th>4379778</th>\n",
       "      <td>2024-02-03</td>\n",
       "      <td>CT0220</td>\n",
       "      <td>990.00</td>\n",
       "      <td>0.0000</td>\n",
       "      <td>A26170</td>\n",
       "      <td>0.0</td>\n",
       "      <td>0.00</td>\n",
       "      <td>1.0</td>\n",
       "      <td>0.0</td>\n",
       "      <td>0.0</td>\n",
       "      <td>...</td>\n",
       "      <td>NaN</td>\n",
       "      <td>NaN</td>\n",
       "      <td>NaN</td>\n",
       "      <td>NaN</td>\n",
       "      <td>NaN</td>\n",
       "      <td>NaN</td>\n",
       "      <td>NaN</td>\n",
       "      <td>NaN</td>\n",
       "      <td>NaN</td>\n",
       "      <td>NaN</td>\n",
       "    </tr>\n",
       "    <tr>\n",
       "      <th>4379779</th>\n",
       "      <td>2024-02-03</td>\n",
       "      <td>FL2633</td>\n",
       "      <td>2040.00</td>\n",
       "      <td>0.0000</td>\n",
       "      <td>A26172</td>\n",
       "      <td>0.0</td>\n",
       "      <td>0.00</td>\n",
       "      <td>15.0</td>\n",
       "      <td>0.0</td>\n",
       "      <td>0.0</td>\n",
       "      <td>...</td>\n",
       "      <td>NaN</td>\n",
       "      <td>NaN</td>\n",
       "      <td>NaN</td>\n",
       "      <td>NaN</td>\n",
       "      <td>NaN</td>\n",
       "      <td>NaN</td>\n",
       "      <td>NaN</td>\n",
       "      <td>NaN</td>\n",
       "      <td>NaN</td>\n",
       "      <td>NaN</td>\n",
       "    </tr>\n",
       "    <tr>\n",
       "      <th>4379780</th>\n",
       "      <td>2024-02-03</td>\n",
       "      <td>FL2634</td>\n",
       "      <td>15649.60</td>\n",
       "      <td>3680.0000</td>\n",
       "      <td>A26173</td>\n",
       "      <td>0.0</td>\n",
       "      <td>3287.09</td>\n",
       "      <td>44.0</td>\n",
       "      <td>0.0</td>\n",
       "      <td>5.0</td>\n",
       "      <td>...</td>\n",
       "      <td>NaN</td>\n",
       "      <td>NaN</td>\n",
       "      <td>NaN</td>\n",
       "      <td>NaN</td>\n",
       "      <td>NaN</td>\n",
       "      <td>NaN</td>\n",
       "      <td>NaN</td>\n",
       "      <td>NaN</td>\n",
       "      <td>NaN</td>\n",
       "      <td>NaN</td>\n",
       "    </tr>\n",
       "    <tr>\n",
       "      <th>4379781</th>\n",
       "      <td>2024-02-03</td>\n",
       "      <td>WA0363</td>\n",
       "      <td>1360.00</td>\n",
       "      <td>876.0000</td>\n",
       "      <td>A26175</td>\n",
       "      <td>0.0</td>\n",
       "      <td>0.00</td>\n",
       "      <td>7.0</td>\n",
       "      <td>0.0</td>\n",
       "      <td>0.0</td>\n",
       "      <td>...</td>\n",
       "      <td>NaN</td>\n",
       "      <td>NaN</td>\n",
       "      <td>NaN</td>\n",
       "      <td>NaN</td>\n",
       "      <td>NaN</td>\n",
       "      <td>NaN</td>\n",
       "      <td>NaN</td>\n",
       "      <td>NaN</td>\n",
       "      <td>NaN</td>\n",
       "      <td>NaN</td>\n",
       "    </tr>\n",
       "    <tr>\n",
       "      <th>4379782</th>\n",
       "      <td>2024-02-03</td>\n",
       "      <td>CA4705</td>\n",
       "      <td>663.00</td>\n",
       "      <td>1420.0000</td>\n",
       "      <td>A26178</td>\n",
       "      <td>0.0</td>\n",
       "      <td>0.00</td>\n",
       "      <td>2.0</td>\n",
       "      <td>0.0</td>\n",
       "      <td>0.0</td>\n",
       "      <td>...</td>\n",
       "      <td>NaN</td>\n",
       "      <td>NaN</td>\n",
       "      <td>NaN</td>\n",
       "      <td>NaN</td>\n",
       "      <td>NaN</td>\n",
       "      <td>NaN</td>\n",
       "      <td>NaN</td>\n",
       "      <td>NaN</td>\n",
       "      <td>NaN</td>\n",
       "      <td>NaN</td>\n",
       "    </tr>\n",
       "    <tr>\n",
       "      <th>4379783</th>\n",
       "      <td>2024-02-03</td>\n",
       "      <td>VA1047</td>\n",
       "      <td>3990.00</td>\n",
       "      <td>0.0000</td>\n",
       "      <td>A26180</td>\n",
       "      <td>0.0</td>\n",
       "      <td>0.00</td>\n",
       "      <td>10.0</td>\n",
       "      <td>0.0</td>\n",
       "      <td>0.0</td>\n",
       "      <td>...</td>\n",
       "      <td>NaN</td>\n",
       "      <td>NaN</td>\n",
       "      <td>NaN</td>\n",
       "      <td>NaN</td>\n",
       "      <td>NaN</td>\n",
       "      <td>NaN</td>\n",
       "      <td>NaN</td>\n",
       "      <td>NaN</td>\n",
       "      <td>NaN</td>\n",
       "      <td>NaN</td>\n",
       "    </tr>\n",
       "    <tr>\n",
       "      <th>4379784</th>\n",
       "      <td>2024-02-03</td>\n",
       "      <td>OH0244</td>\n",
       "      <td>8180.96</td>\n",
       "      <td>2042.0000</td>\n",
       "      <td>A26182</td>\n",
       "      <td>0.0</td>\n",
       "      <td>0.00</td>\n",
       "      <td>18.0</td>\n",
       "      <td>0.0</td>\n",
       "      <td>0.0</td>\n",
       "      <td>...</td>\n",
       "      <td>NaN</td>\n",
       "      <td>NaN</td>\n",
       "      <td>NaN</td>\n",
       "      <td>NaN</td>\n",
       "      <td>NaN</td>\n",
       "      <td>NaN</td>\n",
       "      <td>NaN</td>\n",
       "      <td>NaN</td>\n",
       "      <td>NaN</td>\n",
       "      <td>NaN</td>\n",
       "    </tr>\n",
       "    <tr>\n",
       "      <th>4379785</th>\n",
       "      <td>2024-02-03</td>\n",
       "      <td>CA0803</td>\n",
       "      <td>0.00</td>\n",
       "      <td>0.0000</td>\n",
       "      <td>A26184</td>\n",
       "      <td>0.0</td>\n",
       "      <td>0.00</td>\n",
       "      <td>0.0</td>\n",
       "      <td>0.0</td>\n",
       "      <td>0.0</td>\n",
       "      <td>...</td>\n",
       "      <td>NaN</td>\n",
       "      <td>NaN</td>\n",
       "      <td>NaN</td>\n",
       "      <td>NaN</td>\n",
       "      <td>NaN</td>\n",
       "      <td>NaN</td>\n",
       "      <td>NaN</td>\n",
       "      <td>NaN</td>\n",
       "      <td>NaN</td>\n",
       "      <td>NaN</td>\n",
       "    </tr>\n",
       "    <tr>\n",
       "      <th>4379786</th>\n",
       "      <td>2024-02-03</td>\n",
       "      <td>VA0001</td>\n",
       "      <td>7731.00</td>\n",
       "      <td>4638.6391</td>\n",
       "      <td>AB0106</td>\n",
       "      <td>0.0</td>\n",
       "      <td>18221.58</td>\n",
       "      <td>24.0</td>\n",
       "      <td>0.0</td>\n",
       "      <td>9.0</td>\n",
       "      <td>...</td>\n",
       "      <td>NaN</td>\n",
       "      <td>NaN</td>\n",
       "      <td>NaN</td>\n",
       "      <td>NaN</td>\n",
       "      <td>NaN</td>\n",
       "      <td>NaN</td>\n",
       "      <td>NaN</td>\n",
       "      <td>NaN</td>\n",
       "      <td>NaN</td>\n",
       "      <td>NaN</td>\n",
       "    </tr>\n",
       "    <tr>\n",
       "      <th>4379787</th>\n",
       "      <td>2024-02-03</td>\n",
       "      <td>VA0003</td>\n",
       "      <td>4224.00</td>\n",
       "      <td>2830.2970</td>\n",
       "      <td>AB0110</td>\n",
       "      <td>0.0</td>\n",
       "      <td>759.76</td>\n",
       "      <td>11.0</td>\n",
       "      <td>0.0</td>\n",
       "      <td>3.0</td>\n",
       "      <td>...</td>\n",
       "      <td>NaN</td>\n",
       "      <td>NaN</td>\n",
       "      <td>NaN</td>\n",
       "      <td>NaN</td>\n",
       "      <td>NaN</td>\n",
       "      <td>NaN</td>\n",
       "      <td>NaN</td>\n",
       "      <td>NaN</td>\n",
       "      <td>NaN</td>\n",
       "      <td>NaN</td>\n",
       "    </tr>\n",
       "  </tbody>\n",
       "</table>\n",
       "<p>30 rows × 102 columns</p>\n",
       "</div>"
      ],
      "text/plain": [
       "               DATE  AGENCY    AMOUNT    BALANCE ID_BRANCH  TOTAL_AMOUNT_MO  \\\n",
       "4379758  2024-02-03  AZ0220    376.00   953.8101    A26122              0.0   \n",
       "4379759  2024-02-03  CA4698   5060.00  3636.9980    A26123              0.0   \n",
       "4379760  2024-02-03  TN0578   3153.00  7696.8800    A26124              0.0   \n",
       "4379761  2024-02-03  CA4699    310.00  4135.2900    A26126              0.0   \n",
       "4379762  2024-02-03  SC0174    367.00   667.0000    A26127              0.0   \n",
       "4379763  2024-02-03  VA1045   2600.00  6243.0000    A26130              0.0   \n",
       "4379764  2024-02-03  NJ0245   5272.00  9411.0000    A26134              0.0   \n",
       "4379765  2024-02-03  NY1578   1100.00     0.0000    A26135              0.0   \n",
       "4379766  2024-02-03  IL0916   2589.00     0.0000    A26136              0.0   \n",
       "4379767  2024-02-03  NY1579   3550.00  2235.0000    A26137              0.0   \n",
       "4379768  2024-02-03  WA0361   1180.00  1978.0000    A26143              0.0   \n",
       "4379769  2024-02-03  NC0489   2414.00   300.0000    A26144              0.0   \n",
       "4379770  2024-02-03  TX1635    622.00   408.0000    A26145              0.0   \n",
       "4379771  2024-02-03  TX1637   1051.00     0.0000    A26147              0.0   \n",
       "4379772  2024-02-03  NC1668    220.00  1088.0000    A26151              0.0   \n",
       "4379773  2024-02-03  GA1289   3103.91  2158.7500    A26153              0.0   \n",
       "4379774  2024-02-03  GA1290  13954.00     0.0000    A26160              0.0   \n",
       "4379775  2024-02-03  DE0171   1600.00  1710.6300    A26164              0.0   \n",
       "4379776  2024-02-03  NC1670     50.00   520.0000    A26167              0.0   \n",
       "4379777  2024-02-03  NY1580   1353.46   511.3600    A26168              0.0   \n",
       "4379778  2024-02-03  CT0220    990.00     0.0000    A26170              0.0   \n",
       "4379779  2024-02-03  FL2633   2040.00     0.0000    A26172              0.0   \n",
       "4379780  2024-02-03  FL2634  15649.60  3680.0000    A26173              0.0   \n",
       "4379781  2024-02-03  WA0363   1360.00   876.0000    A26175              0.0   \n",
       "4379782  2024-02-03  CA4705    663.00  1420.0000    A26178              0.0   \n",
       "4379783  2024-02-03  VA1047   3990.00     0.0000    A26180              0.0   \n",
       "4379784  2024-02-03  OH0244   8180.96  2042.0000    A26182              0.0   \n",
       "4379785  2024-02-03  CA0803      0.00     0.0000    A26184              0.0   \n",
       "4379786  2024-02-03  VA0001   7731.00  4638.6391    AB0106              0.0   \n",
       "4379787  2024-02-03  VA0003   4224.00  2830.2970    AB0110              0.0   \n",
       "\n",
       "         TOTAL_AMOUNT_check    TX  TX_MO  TX_check  ...  roll_sum_30_TX_check  \\\n",
       "4379758                0.00   2.0    0.0       0.0  ...                   NaN   \n",
       "4379759                0.00  15.0    0.0       0.0  ...                   NaN   \n",
       "4379760                0.00  10.0    0.0       0.0  ...                   NaN   \n",
       "4379761                0.00   2.0    0.0       0.0  ...                   NaN   \n",
       "4379762                0.00   4.0    0.0       0.0  ...                   NaN   \n",
       "4379763                0.00   2.0    0.0       0.0  ...                   NaN   \n",
       "4379764                0.00  16.0    0.0       0.0  ...                   NaN   \n",
       "4379765                0.00   2.0    0.0       0.0  ...                   NaN   \n",
       "4379766                0.00   9.0    0.0       0.0  ...                   NaN   \n",
       "4379767                0.00   3.0    0.0       0.0  ...                   NaN   \n",
       "4379768                0.00   2.0    0.0       0.0  ...                   NaN   \n",
       "4379769                0.00   9.0    0.0       0.0  ...                   NaN   \n",
       "4379770                0.00   4.0    0.0       0.0  ...                   NaN   \n",
       "4379771                0.00   4.0    0.0       0.0  ...                   NaN   \n",
       "4379772                0.00   2.0    0.0       0.0  ...                   NaN   \n",
       "4379773                0.00  10.0    0.0       0.0  ...                   NaN   \n",
       "4379774            11249.20  29.0    0.0      17.0  ...                   NaN   \n",
       "4379775                0.00   3.0    0.0       0.0  ...                   NaN   \n",
       "4379776                0.00   1.0    0.0       0.0  ...                   NaN   \n",
       "4379777             1141.05   9.0    0.0       2.0  ...                   NaN   \n",
       "4379778                0.00   1.0    0.0       0.0  ...                   NaN   \n",
       "4379779                0.00  15.0    0.0       0.0  ...                   NaN   \n",
       "4379780             3287.09  44.0    0.0       5.0  ...                   NaN   \n",
       "4379781                0.00   7.0    0.0       0.0  ...                   NaN   \n",
       "4379782                0.00   2.0    0.0       0.0  ...                   NaN   \n",
       "4379783                0.00  10.0    0.0       0.0  ...                   NaN   \n",
       "4379784                0.00  18.0    0.0       0.0  ...                   NaN   \n",
       "4379785                0.00   0.0    0.0       0.0  ...                   NaN   \n",
       "4379786            18221.58  24.0    0.0       9.0  ...                   NaN   \n",
       "4379787              759.76  11.0    0.0       3.0  ...                   NaN   \n",
       "\n",
       "         roll_sum_30_DEFAULT roll_sum_60_AMOUNT  roll_sum_60_BALANCE  \\\n",
       "4379758                  NaN                NaN                  NaN   \n",
       "4379759                  NaN                NaN                  NaN   \n",
       "4379760                  NaN                NaN                  NaN   \n",
       "4379761                  NaN                NaN                  NaN   \n",
       "4379762                  NaN                NaN                  NaN   \n",
       "4379763                  NaN                NaN                  NaN   \n",
       "4379764                  NaN                NaN                  NaN   \n",
       "4379765                  NaN                NaN                  NaN   \n",
       "4379766                  NaN                NaN                  NaN   \n",
       "4379767                  NaN                NaN                  NaN   \n",
       "4379768                  NaN                NaN                  NaN   \n",
       "4379769                  NaN                NaN                  NaN   \n",
       "4379770                  NaN                NaN                  NaN   \n",
       "4379771                  NaN                NaN                  NaN   \n",
       "4379772                  NaN                NaN                  NaN   \n",
       "4379773                  NaN                NaN                  NaN   \n",
       "4379774                  NaN                NaN                  NaN   \n",
       "4379775                  NaN                NaN                  NaN   \n",
       "4379776                  NaN                NaN                  NaN   \n",
       "4379777                  NaN                NaN                  NaN   \n",
       "4379778                  NaN                NaN                  NaN   \n",
       "4379779                  NaN                NaN                  NaN   \n",
       "4379780                  NaN                NaN                  NaN   \n",
       "4379781                  NaN                NaN                  NaN   \n",
       "4379782                  NaN                NaN                  NaN   \n",
       "4379783                  NaN                NaN                  NaN   \n",
       "4379784                  NaN                NaN                  NaN   \n",
       "4379785                  NaN                NaN                  NaN   \n",
       "4379786                  NaN                NaN                  NaN   \n",
       "4379787                  NaN                NaN                  NaN   \n",
       "\n",
       "         roll_sum_60_TOTAL_AMOUNT_MO  roll_sum_60_TOTAL_AMOUNT_check  \\\n",
       "4379758                          NaN                             NaN   \n",
       "4379759                          NaN                             NaN   \n",
       "4379760                          NaN                             NaN   \n",
       "4379761                          NaN                             NaN   \n",
       "4379762                          NaN                             NaN   \n",
       "4379763                          NaN                             NaN   \n",
       "4379764                          NaN                             NaN   \n",
       "4379765                          NaN                             NaN   \n",
       "4379766                          NaN                             NaN   \n",
       "4379767                          NaN                             NaN   \n",
       "4379768                          NaN                             NaN   \n",
       "4379769                          NaN                             NaN   \n",
       "4379770                          NaN                             NaN   \n",
       "4379771                          NaN                             NaN   \n",
       "4379772                          NaN                             NaN   \n",
       "4379773                          NaN                             NaN   \n",
       "4379774                          NaN                             NaN   \n",
       "4379775                          NaN                             NaN   \n",
       "4379776                          NaN                             NaN   \n",
       "4379777                          NaN                             NaN   \n",
       "4379778                          NaN                             NaN   \n",
       "4379779                          NaN                             NaN   \n",
       "4379780                          NaN                             NaN   \n",
       "4379781                          NaN                             NaN   \n",
       "4379782                          NaN                             NaN   \n",
       "4379783                          NaN                             NaN   \n",
       "4379784                          NaN                             NaN   \n",
       "4379785                          NaN                             NaN   \n",
       "4379786                          NaN                             NaN   \n",
       "4379787                          NaN                             NaN   \n",
       "\n",
       "         roll_sum_60_TX  roll_sum_60_TX_MO  roll_sum_60_TX_check  \\\n",
       "4379758             NaN                NaN                   NaN   \n",
       "4379759             NaN                NaN                   NaN   \n",
       "4379760             NaN                NaN                   NaN   \n",
       "4379761             NaN                NaN                   NaN   \n",
       "4379762             NaN                NaN                   NaN   \n",
       "4379763             NaN                NaN                   NaN   \n",
       "4379764             NaN                NaN                   NaN   \n",
       "4379765             NaN                NaN                   NaN   \n",
       "4379766             NaN                NaN                   NaN   \n",
       "4379767             NaN                NaN                   NaN   \n",
       "4379768             NaN                NaN                   NaN   \n",
       "4379769             NaN                NaN                   NaN   \n",
       "4379770             NaN                NaN                   NaN   \n",
       "4379771             NaN                NaN                   NaN   \n",
       "4379772             NaN                NaN                   NaN   \n",
       "4379773             NaN                NaN                   NaN   \n",
       "4379774             NaN                NaN                   NaN   \n",
       "4379775             NaN                NaN                   NaN   \n",
       "4379776             NaN                NaN                   NaN   \n",
       "4379777             NaN                NaN                   NaN   \n",
       "4379778             NaN                NaN                   NaN   \n",
       "4379779             NaN                NaN                   NaN   \n",
       "4379780             NaN                NaN                   NaN   \n",
       "4379781             NaN                NaN                   NaN   \n",
       "4379782             NaN                NaN                   NaN   \n",
       "4379783             NaN                NaN                   NaN   \n",
       "4379784             NaN                NaN                   NaN   \n",
       "4379785             NaN                NaN                   NaN   \n",
       "4379786             NaN                NaN                   NaN   \n",
       "4379787             NaN                NaN                   NaN   \n",
       "\n",
       "         roll_sum_60_DEFAULT  \n",
       "4379758                  NaN  \n",
       "4379759                  NaN  \n",
       "4379760                  NaN  \n",
       "4379761                  NaN  \n",
       "4379762                  NaN  \n",
       "4379763                  NaN  \n",
       "4379764                  NaN  \n",
       "4379765                  NaN  \n",
       "4379766                  NaN  \n",
       "4379767                  NaN  \n",
       "4379768                  NaN  \n",
       "4379769                  NaN  \n",
       "4379770                  NaN  \n",
       "4379771                  NaN  \n",
       "4379772                  NaN  \n",
       "4379773                  NaN  \n",
       "4379774                  NaN  \n",
       "4379775                  NaN  \n",
       "4379776                  NaN  \n",
       "4379777                  NaN  \n",
       "4379778                  NaN  \n",
       "4379779                  NaN  \n",
       "4379780                  NaN  \n",
       "4379781                  NaN  \n",
       "4379782                  NaN  \n",
       "4379783                  NaN  \n",
       "4379784                  NaN  \n",
       "4379785                  NaN  \n",
       "4379786                  NaN  \n",
       "4379787                  NaN  \n",
       "\n",
       "[30 rows x 102 columns]"
      ]
     },
     "execution_count": 27,
     "metadata": {},
     "output_type": "execute_result"
    }
   ],
   "source": [
    "df.tail(30)"
   ]
  },
  {
   "cell_type": "code",
   "execution_count": 12,
   "id": "63e4a8c8-e300-4f3b-add3-9a358f367d12",
   "metadata": {
    "tags": []
   },
   "outputs": [
    {
     "data": {
      "text/plain": [
       "166.0"
      ]
     },
     "execution_count": 12,
     "metadata": {},
     "output_type": "execute_result"
    }
   ],
   "source": [
    "df['TARGET'].sum()"
   ]
  },
  {
   "cell_type": "code",
   "execution_count": 10,
   "id": "fbf0a2f8-8055-45e1-92a7-e26c029a4831",
   "metadata": {
    "tags": []
   },
   "outputs": [
    {
     "data": {
      "text/plain": [
       "5226.0"
      ]
     },
     "execution_count": 10,
     "metadata": {},
     "output_type": "execute_result"
    }
   ],
   "source": [
    "df['DEFAULT'].sum()"
   ]
  },
  {
   "cell_type": "code",
   "execution_count": 11,
   "id": "b4d728e1-3458-428e-9f40-ea12b3914bed",
   "metadata": {
    "tags": []
   },
   "outputs": [],
   "source": [
    "# Target default mondays inactivation wednesday next week, lag 9 days, at slicing could serve tue and wed also\n",
    "df['TARGET'] = df.set_index('DATE').groupby('ID_BRANCH', sort=False)['DEFAULT'].shift(-9).to_numpy()\n",
    "# You can fill this NaN with 0 or another appropriate value\n",
    "df['TARGET'] = df['TARGET'].fillna(0)"
   ]
  },
  {
   "cell_type": "code",
   "execution_count": 13,
   "id": "cac1cc23-de4e-4789-bc71-d8f59d1d8aea",
   "metadata": {
    "tags": []
   },
   "outputs": [
    {
     "data": {
      "text/plain": [
       "Index(['DATE', 'AGENCY', 'AMOUNT', 'BALANCE', 'ID_BRANCH', 'TOTAL_AMOUNT_MO',\n",
       "       'TOTAL_AMOUNT_check', 'TX', 'TX_MO', 'TX_check',\n",
       "       ...\n",
       "       'roll_sum_30_TX_check', 'roll_sum_30_DEFAULT', 'roll_sum_60_AMOUNT',\n",
       "       'roll_sum_60_BALANCE', 'roll_sum_60_TOTAL_AMOUNT_MO',\n",
       "       'roll_sum_60_TOTAL_AMOUNT_check', 'roll_sum_60_TX', 'roll_sum_60_TX_MO',\n",
       "       'roll_sum_60_TX_check', 'roll_sum_60_DEFAULT'],\n",
       "      dtype='object', length=102)"
      ]
     },
     "execution_count": 13,
     "metadata": {},
     "output_type": "execute_result"
    }
   ],
   "source": [
    "df.columns"
   ]
  },
  {
   "cell_type": "code",
   "execution_count": 14,
   "id": "94b250c6-f338-437c-b54e-dfbf44410d56",
   "metadata": {
    "tags": []
   },
   "outputs": [],
   "source": [
    "#slice de 1 mes\n",
    "df['DATE'] = pd.to_datetime(df['DATE'])"
   ]
  },
  {
   "cell_type": "code",
   "execution_count": 19,
   "id": "b87e77d2-424e-4ea4-8a7a-1aa19c3cd608",
   "metadata": {
    "tags": []
   },
   "outputs": [],
   "source": [
    "df1 = df[df['DATE']> '2023-12-31']"
   ]
  },
  {
   "cell_type": "code",
   "execution_count": 20,
   "id": "6c3b1d0d-f8a3-48a6-ae9c-926e5f74f853",
   "metadata": {
    "tags": []
   },
   "outputs": [],
   "source": [
    "df1 = df1.drop(['TARGET'], axis=1)"
   ]
  },
  {
   "cell_type": "code",
   "execution_count": null,
   "id": "fea0f5ea-6c9d-4874-a6a4-cfb73d44815a",
   "metadata": {},
   "outputs": [],
   "source": []
  },
  {
   "cell_type": "code",
   "execution_count": null,
   "id": "2c9ab6e8-b57d-4e85-9217-7b319770e671",
   "metadata": {
    "tags": []
   },
   "outputs": [
    {
     "data": {
      "application/vnd.jupyter.widget-view+json": {
       "model_id": "874e2d3f30db438d8265b6a55ce34f59",
       "version_major": 2,
       "version_minor": 0
      },
      "text/plain": [
       "Summarize dataset:   0%|          | 0/5 [00:00<?, ?it/s]"
      ]
     },
     "metadata": {},
     "output_type": "display_data"
    },
    {
     "data": {
      "application/vnd.jupyter.widget-view+json": {
       "model_id": "45da3408e32f43bf91e3ee787c0e724d",
       "version_major": 2,
       "version_minor": 0
      },
      "text/plain": [
       "Generate report structure:   0%|          | 0/1 [00:00<?, ?it/s]"
      ]
     },
     "metadata": {},
     "output_type": "display_data"
    },
    {
     "data": {
      "application/vnd.jupyter.widget-view+json": {
       "model_id": "b0e7d58315e74ccba591c5b713868605",
       "version_major": 2,
       "version_minor": 0
      },
      "text/plain": [
       "Render HTML:   0%|          | 0/1 [00:00<?, ?it/s]"
      ]
     },
     "metadata": {},
     "output_type": "display_data"
    }
   ],
   "source": [
    "profile = ProfileReport(df1, title='Pandas Profiling Report', html={'style':{'full_width':True}})\n",
    "profile"
   ]
  },
  {
   "cell_type": "code",
   "execution_count": null,
   "id": "97829bcc-371f-4f87-9dd7-95da18a3d4c7",
   "metadata": {
    "tags": []
   },
   "outputs": [],
   "source": [
    "# Exportar el informe en formato HTML\n",
    "profile.to_file(\"informe_variables_default_viam_1mes.html\")"
   ]
  },
  {
   "cell_type": "code",
   "execution_count": null,
   "id": "621e17c1-e89e-4a95-aa38-6fa349af28e5",
   "metadata": {},
   "outputs": [],
   "source": []
  },
  {
   "cell_type": "code",
   "execution_count": null,
   "id": "8abc9a8e-0713-4526-8f06-908919a19500",
   "metadata": {},
   "outputs": [],
   "source": []
  },
  {
   "cell_type": "code",
   "execution_count": null,
   "id": "f8f3c037-4cea-469a-9670-1afd3ab8d29d",
   "metadata": {},
   "outputs": [],
   "source": []
  },
  {
   "cell_type": "code",
   "execution_count": 50,
   "id": "03f4811a-f1f7-41a7-b53a-26026a999be5",
   "metadata": {},
   "outputs": [
    {
     "ename": "KeyError",
     "evalue": "'sales'",
     "output_type": "error",
     "traceback": [
      "\u001b[0;31m---------------------------------------------------------------------------\u001b[0m",
      "\u001b[0;31mKeyError\u001b[0m                                  Traceback (most recent call last)",
      "File \u001b[0;32m/opt/conda/lib/python3.10/site-packages/pandas/core/indexes/base.py:3805\u001b[0m, in \u001b[0;36mIndex.get_loc\u001b[0;34m(self, key)\u001b[0m\n\u001b[1;32m   3804\u001b[0m \u001b[38;5;28;01mtry\u001b[39;00m:\n\u001b[0;32m-> 3805\u001b[0m     \u001b[38;5;28;01mreturn\u001b[39;00m \u001b[38;5;28;43mself\u001b[39;49m\u001b[38;5;241;43m.\u001b[39;49m\u001b[43m_engine\u001b[49m\u001b[38;5;241;43m.\u001b[39;49m\u001b[43mget_loc\u001b[49m\u001b[43m(\u001b[49m\u001b[43mcasted_key\u001b[49m\u001b[43m)\u001b[49m\n\u001b[1;32m   3806\u001b[0m \u001b[38;5;28;01mexcept\u001b[39;00m \u001b[38;5;167;01mKeyError\u001b[39;00m \u001b[38;5;28;01mas\u001b[39;00m err:\n",
      "File \u001b[0;32mindex.pyx:167\u001b[0m, in \u001b[0;36mpandas._libs.index.IndexEngine.get_loc\u001b[0;34m()\u001b[0m\n",
      "File \u001b[0;32mindex.pyx:196\u001b[0m, in \u001b[0;36mpandas._libs.index.IndexEngine.get_loc\u001b[0;34m()\u001b[0m\n",
      "File \u001b[0;32mpandas/_libs/hashtable_class_helper.pxi:7081\u001b[0m, in \u001b[0;36mpandas._libs.hashtable.PyObjectHashTable.get_item\u001b[0;34m()\u001b[0m\n",
      "File \u001b[0;32mpandas/_libs/hashtable_class_helper.pxi:7089\u001b[0m, in \u001b[0;36mpandas._libs.hashtable.PyObjectHashTable.get_item\u001b[0;34m()\u001b[0m\n",
      "\u001b[0;31mKeyError\u001b[0m: 'sales'",
      "\nThe above exception was the direct cause of the following exception:\n",
      "\u001b[0;31mKeyError\u001b[0m                                  Traceback (most recent call last)",
      "Cell \u001b[0;32mIn[50], line 3\u001b[0m\n\u001b[1;32m      1\u001b[0m \u001b[38;5;66;03m# Create a new column 'sales_diff' that represents the difference\u001b[39;00m\n\u001b[1;32m      2\u001b[0m \u001b[38;5;66;03m# in sales from the previous period\u001b[39;00m\n\u001b[0;32m----> 3\u001b[0m df[\u001b[38;5;124m'\u001b[39m\u001b[38;5;124msales_diff\u001b[39m\u001b[38;5;124m'\u001b[39m] \u001b[38;5;241m=\u001b[39m \u001b[43mdf\u001b[49m\u001b[43m[\u001b[49m\u001b[38;5;124;43m'\u001b[39;49m\u001b[38;5;124;43msales\u001b[39;49m\u001b[38;5;124;43m'\u001b[39;49m\u001b[43m]\u001b[49m\u001b[38;5;241m.\u001b[39mdiff()\n\u001b[1;32m      5\u001b[0m \u001b[38;5;66;03m# The first value in 'sales_diff' will be NaN, since there's no previous value\u001b[39;00m\n\u001b[1;32m      6\u001b[0m \u001b[38;5;66;03m# You can fill this NaN with 0 or another appropriate value\u001b[39;00m\n\u001b[1;32m      7\u001b[0m df[\u001b[38;5;124m'\u001b[39m\u001b[38;5;124msales_diff\u001b[39m\u001b[38;5;124m'\u001b[39m]\u001b[38;5;241m.\u001b[39mfillna(\u001b[38;5;241m0\u001b[39m, inplace\u001b[38;5;241m=\u001b[39m\u001b[38;5;28;01mTrue\u001b[39;00m)\n",
      "File \u001b[0;32m/opt/conda/lib/python3.10/site-packages/pandas/core/frame.py:4102\u001b[0m, in \u001b[0;36mDataFrame.__getitem__\u001b[0;34m(self, key)\u001b[0m\n\u001b[1;32m   4100\u001b[0m \u001b[38;5;28;01mif\u001b[39;00m \u001b[38;5;28mself\u001b[39m\u001b[38;5;241m.\u001b[39mcolumns\u001b[38;5;241m.\u001b[39mnlevels \u001b[38;5;241m>\u001b[39m \u001b[38;5;241m1\u001b[39m:\n\u001b[1;32m   4101\u001b[0m     \u001b[38;5;28;01mreturn\u001b[39;00m \u001b[38;5;28mself\u001b[39m\u001b[38;5;241m.\u001b[39m_getitem_multilevel(key)\n\u001b[0;32m-> 4102\u001b[0m indexer \u001b[38;5;241m=\u001b[39m \u001b[38;5;28;43mself\u001b[39;49m\u001b[38;5;241;43m.\u001b[39;49m\u001b[43mcolumns\u001b[49m\u001b[38;5;241;43m.\u001b[39;49m\u001b[43mget_loc\u001b[49m\u001b[43m(\u001b[49m\u001b[43mkey\u001b[49m\u001b[43m)\u001b[49m\n\u001b[1;32m   4103\u001b[0m \u001b[38;5;28;01mif\u001b[39;00m is_integer(indexer):\n\u001b[1;32m   4104\u001b[0m     indexer \u001b[38;5;241m=\u001b[39m [indexer]\n",
      "File \u001b[0;32m/opt/conda/lib/python3.10/site-packages/pandas/core/indexes/base.py:3812\u001b[0m, in \u001b[0;36mIndex.get_loc\u001b[0;34m(self, key)\u001b[0m\n\u001b[1;32m   3807\u001b[0m     \u001b[38;5;28;01mif\u001b[39;00m \u001b[38;5;28misinstance\u001b[39m(casted_key, \u001b[38;5;28mslice\u001b[39m) \u001b[38;5;129;01mor\u001b[39;00m (\n\u001b[1;32m   3808\u001b[0m         \u001b[38;5;28misinstance\u001b[39m(casted_key, abc\u001b[38;5;241m.\u001b[39mIterable)\n\u001b[1;32m   3809\u001b[0m         \u001b[38;5;129;01mand\u001b[39;00m \u001b[38;5;28many\u001b[39m(\u001b[38;5;28misinstance\u001b[39m(x, \u001b[38;5;28mslice\u001b[39m) \u001b[38;5;28;01mfor\u001b[39;00m x \u001b[38;5;129;01min\u001b[39;00m casted_key)\n\u001b[1;32m   3810\u001b[0m     ):\n\u001b[1;32m   3811\u001b[0m         \u001b[38;5;28;01mraise\u001b[39;00m InvalidIndexError(key)\n\u001b[0;32m-> 3812\u001b[0m     \u001b[38;5;28;01mraise\u001b[39;00m \u001b[38;5;167;01mKeyError\u001b[39;00m(key) \u001b[38;5;28;01mfrom\u001b[39;00m \u001b[38;5;21;01merr\u001b[39;00m\n\u001b[1;32m   3813\u001b[0m \u001b[38;5;28;01mexcept\u001b[39;00m \u001b[38;5;167;01mTypeError\u001b[39;00m:\n\u001b[1;32m   3814\u001b[0m     \u001b[38;5;66;03m# If we have a listlike key, _check_indexing_error will raise\u001b[39;00m\n\u001b[1;32m   3815\u001b[0m     \u001b[38;5;66;03m#  InvalidIndexError. Otherwise we fall through and re-raise\u001b[39;00m\n\u001b[1;32m   3816\u001b[0m     \u001b[38;5;66;03m#  the TypeError.\u001b[39;00m\n\u001b[1;32m   3817\u001b[0m     \u001b[38;5;28mself\u001b[39m\u001b[38;5;241m.\u001b[39m_check_indexing_error(key)\n",
      "\u001b[0;31mKeyError\u001b[0m: 'sales'"
     ]
    }
   ],
   "source": [
    "# Create a new column 'sales_diff' that represents the difference\n",
    "# in sales from the previous period\n",
    "df['sales_diff'] = df['sales'].diff()\n",
    "\n",
    "# The first value in 'sales_diff' will be NaN, since there's no previous value\n",
    "# You can fill this NaN with 0 or another appropriate value\n",
    "df['sales_diff'].fillna(0, inplace=True)"
   ]
  },
  {
   "cell_type": "code",
   "execution_count": null,
   "id": "1b952777-eede-4244-aec5-0d82550f1aa7",
   "metadata": {},
   "outputs": [],
   "source": [
    " Create new columns 'sales_lag1', 'sales_lag2', ..., 'sales_lagN'\n",
    "# that represent the sales from the previous 1, 2, ..., N periods\n",
    "for i in range(1, N+1):\n",
    "    df[f'sales_lag{i}'] = df['sales'].shift(i)\n",
    "\n",
    "# The first N values in 'sales_lag1', 'sales_lag2', ..., 'sales_lagN' will be NaN,\n",
    "# since there's no previous value\n",
    "# You can fill these NaNs with 0 or another appropriate value\n",
    "df.fillna(0, inplace=True)"
   ]
  },
  {
   "cell_type": "code",
   "execution_count": null,
   "id": "bd8ea749-7c9f-4018-a86d-2c0b1b274e2a",
   "metadata": {},
   "outputs": [],
   "source": [
    "# Create a new column 'sales_pct_change' that represents the percentage change\n",
    "# in sales from the previous period\n",
    "df['sales_pct_change'] = df['sales'].pct_change() #compara entre filas\n",
    "df.pct_change(axis='columns', periods=-1) #compara entre columnas\n",
    "#Despite the name of this method, it calculates fractional change (also known as per unit change or relative change) and not percentage change. If you need the percentage change, multiply these values by 100."
   ]
  },
  {
   "cell_type": "code",
   "execution_count": 16,
   "id": "edf3c0a2-de98-4045-a124-5f94f4a515b1",
   "metadata": {
    "tags": []
   },
   "outputs": [],
   "source": [
    "merged_df['DATE'] = pd.to_datetime(merged_df['DATE'])\n",
    "merged_df = merged_df.sort_values(by=['ID_BRANCH','DATE'])\n",
    "merged_df['roll_mean_month_balance'] = merged_df.set_index('DATE').groupby('ID_BRANCH', sort=False)['BALANCE'].rolling('30D').mean().round(2).to_numpy()"
   ]
  },
  {
   "cell_type": "code",
   "execution_count": 19,
   "id": "77975682-4017-492f-b9f6-0d83ccce0b98",
   "metadata": {
    "tags": []
   },
   "outputs": [
    {
     "data": {
      "text/html": [
       "<div>\n",
       "<style scoped>\n",
       "    .dataframe tbody tr th:only-of-type {\n",
       "        vertical-align: middle;\n",
       "    }\n",
       "\n",
       "    .dataframe tbody tr th {\n",
       "        vertical-align: top;\n",
       "    }\n",
       "\n",
       "    .dataframe thead th {\n",
       "        text-align: right;\n",
       "    }\n",
       "</style>\n",
       "<table border=\"1\" class=\"dataframe\">\n",
       "  <thead>\n",
       "    <tr style=\"text-align: right;\">\n",
       "      <th></th>\n",
       "      <th>DATE</th>\n",
       "      <th>AGENCY</th>\n",
       "      <th>AMOUNT</th>\n",
       "      <th>BALANCE</th>\n",
       "      <th>ID_BRANCH</th>\n",
       "      <th>TOTAL_AMOUNT_MO</th>\n",
       "      <th>TOTAL_AMOUNT_check</th>\n",
       "      <th>TX</th>\n",
       "      <th>TX_MO</th>\n",
       "      <th>TX_check</th>\n",
       "      <th>...</th>\n",
       "      <th>roll_max_7D_TX_check</th>\n",
       "      <th>roll_max_7D_DEFAULT</th>\n",
       "      <th>roll_max_30D_AMOUNT</th>\n",
       "      <th>roll_max_30D_BALANCE</th>\n",
       "      <th>roll_max_30D_TOTAL_AMOUNT_MO</th>\n",
       "      <th>roll_max_30D_TOTAL_AMOUNT_check</th>\n",
       "      <th>roll_max_30D_TX</th>\n",
       "      <th>roll_max_30D_TX_MO</th>\n",
       "      <th>roll_max_30D_TX_check</th>\n",
       "      <th>roll_max_30D_DEFAULT</th>\n",
       "    </tr>\n",
       "  </thead>\n",
       "  <tbody>\n",
       "    <tr>\n",
       "      <th>0</th>\n",
       "      <td>2022-01-03</td>\n",
       "      <td>NaN</td>\n",
       "      <td>0.0</td>\n",
       "      <td>0.0</td>\n",
       "      <td>A09098</td>\n",
       "      <td>0.0</td>\n",
       "      <td>0.0</td>\n",
       "      <td>0.0</td>\n",
       "      <td>0.0</td>\n",
       "      <td>0.0</td>\n",
       "      <td>...</td>\n",
       "      <td>0.0</td>\n",
       "      <td>1.0</td>\n",
       "      <td>0.0</td>\n",
       "      <td>0.0</td>\n",
       "      <td>0.0</td>\n",
       "      <td>0.0</td>\n",
       "      <td>0.0</td>\n",
       "      <td>0.0</td>\n",
       "      <td>0.0</td>\n",
       "      <td>1.0</td>\n",
       "    </tr>\n",
       "    <tr>\n",
       "      <th>1</th>\n",
       "      <td>2022-01-03</td>\n",
       "      <td>NaN</td>\n",
       "      <td>0.0</td>\n",
       "      <td>0.0</td>\n",
       "      <td>A10537</td>\n",
       "      <td>0.0</td>\n",
       "      <td>0.0</td>\n",
       "      <td>0.0</td>\n",
       "      <td>0.0</td>\n",
       "      <td>0.0</td>\n",
       "      <td>...</td>\n",
       "      <td>0.0</td>\n",
       "      <td>1.0</td>\n",
       "      <td>0.0</td>\n",
       "      <td>0.0</td>\n",
       "      <td>0.0</td>\n",
       "      <td>0.0</td>\n",
       "      <td>0.0</td>\n",
       "      <td>0.0</td>\n",
       "      <td>0.0</td>\n",
       "      <td>1.0</td>\n",
       "    </tr>\n",
       "    <tr>\n",
       "      <th>2</th>\n",
       "      <td>2022-01-03</td>\n",
       "      <td>NaN</td>\n",
       "      <td>0.0</td>\n",
       "      <td>0.0</td>\n",
       "      <td>A15244</td>\n",
       "      <td>0.0</td>\n",
       "      <td>0.0</td>\n",
       "      <td>0.0</td>\n",
       "      <td>0.0</td>\n",
       "      <td>0.0</td>\n",
       "      <td>...</td>\n",
       "      <td>0.0</td>\n",
       "      <td>1.0</td>\n",
       "      <td>0.0</td>\n",
       "      <td>0.0</td>\n",
       "      <td>0.0</td>\n",
       "      <td>0.0</td>\n",
       "      <td>0.0</td>\n",
       "      <td>0.0</td>\n",
       "      <td>0.0</td>\n",
       "      <td>1.0</td>\n",
       "    </tr>\n",
       "    <tr>\n",
       "      <th>3</th>\n",
       "      <td>2022-01-03</td>\n",
       "      <td>NaN</td>\n",
       "      <td>0.0</td>\n",
       "      <td>0.0</td>\n",
       "      <td>A17226</td>\n",
       "      <td>0.0</td>\n",
       "      <td>0.0</td>\n",
       "      <td>0.0</td>\n",
       "      <td>0.0</td>\n",
       "      <td>0.0</td>\n",
       "      <td>...</td>\n",
       "      <td>0.0</td>\n",
       "      <td>1.0</td>\n",
       "      <td>0.0</td>\n",
       "      <td>0.0</td>\n",
       "      <td>0.0</td>\n",
       "      <td>0.0</td>\n",
       "      <td>0.0</td>\n",
       "      <td>0.0</td>\n",
       "      <td>0.0</td>\n",
       "      <td>1.0</td>\n",
       "    </tr>\n",
       "    <tr>\n",
       "      <th>4</th>\n",
       "      <td>2022-01-04</td>\n",
       "      <td>NaN</td>\n",
       "      <td>0.0</td>\n",
       "      <td>0.0</td>\n",
       "      <td>A13770</td>\n",
       "      <td>0.0</td>\n",
       "      <td>0.0</td>\n",
       "      <td>0.0</td>\n",
       "      <td>0.0</td>\n",
       "      <td>0.0</td>\n",
       "      <td>...</td>\n",
       "      <td>0.0</td>\n",
       "      <td>1.0</td>\n",
       "      <td>0.0</td>\n",
       "      <td>0.0</td>\n",
       "      <td>0.0</td>\n",
       "      <td>0.0</td>\n",
       "      <td>0.0</td>\n",
       "      <td>0.0</td>\n",
       "      <td>0.0</td>\n",
       "      <td>1.0</td>\n",
       "    </tr>\n",
       "  </tbody>\n",
       "</table>\n",
       "<p>5 rows × 46 columns</p>\n",
       "</div>"
      ],
      "text/plain": [
       "        DATE AGENCY  AMOUNT  BALANCE   ID_BRANCH  TOTAL_AMOUNT_MO  \\\n",
       "0 2022-01-03    NaN     0.0      0.0  A09098                  0.0   \n",
       "1 2022-01-03    NaN     0.0      0.0  A10537                  0.0   \n",
       "2 2022-01-03    NaN     0.0      0.0  A15244                  0.0   \n",
       "3 2022-01-03    NaN     0.0      0.0  A17226                  0.0   \n",
       "4 2022-01-04    NaN     0.0      0.0  A13770                  0.0   \n",
       "\n",
       "   TOTAL_AMOUNT_check   TX  TX_MO  TX_check  ...  roll_max_7D_TX_check  \\\n",
       "0                 0.0  0.0    0.0       0.0  ...                   0.0   \n",
       "1                 0.0  0.0    0.0       0.0  ...                   0.0   \n",
       "2                 0.0  0.0    0.0       0.0  ...                   0.0   \n",
       "3                 0.0  0.0    0.0       0.0  ...                   0.0   \n",
       "4                 0.0  0.0    0.0       0.0  ...                   0.0   \n",
       "\n",
       "   roll_max_7D_DEFAULT roll_max_30D_AMOUNT  roll_max_30D_BALANCE  \\\n",
       "0                  1.0                 0.0                   0.0   \n",
       "1                  1.0                 0.0                   0.0   \n",
       "2                  1.0                 0.0                   0.0   \n",
       "3                  1.0                 0.0                   0.0   \n",
       "4                  1.0                 0.0                   0.0   \n",
       "\n",
       "   roll_max_30D_TOTAL_AMOUNT_MO  roll_max_30D_TOTAL_AMOUNT_check  \\\n",
       "0                           0.0                              0.0   \n",
       "1                           0.0                              0.0   \n",
       "2                           0.0                              0.0   \n",
       "3                           0.0                              0.0   \n",
       "4                           0.0                              0.0   \n",
       "\n",
       "   roll_max_30D_TX  roll_max_30D_TX_MO  roll_max_30D_TX_check  \\\n",
       "0              0.0                 0.0                    0.0   \n",
       "1              0.0                 0.0                    0.0   \n",
       "2              0.0                 0.0                    0.0   \n",
       "3              0.0                 0.0                    0.0   \n",
       "4              0.0                 0.0                    0.0   \n",
       "\n",
       "   roll_max_30D_DEFAULT  \n",
       "0                   1.0  \n",
       "1                   1.0  \n",
       "2                   1.0  \n",
       "3                   1.0  \n",
       "4                   1.0  \n",
       "\n",
       "[5 rows x 46 columns]"
      ]
     },
     "execution_count": 19,
     "metadata": {},
     "output_type": "execute_result"
    }
   ],
   "source": [
    "df.head()"
   ]
  },
  {
   "cell_type": "code",
   "execution_count": null,
   "id": "c4ec34b9-e07e-4bcc-a798-d2f5bb868888",
   "metadata": {},
   "outputs": [],
   "source": []
  },
  {
   "cell_type": "code",
   "execution_count": null,
   "id": "4d534117-cb58-44ff-8998-38736aa033ae",
   "metadata": {},
   "outputs": [],
   "source": [
    "# Si las escalas estan allover the place\n",
    "from sklearn.preprocessing import StandardScaler\n",
    "\n",
    "# Assuming you have a DataFrame `df` with columns 'sales' and 'binary_var'\n",
    "\n",
    "# Create a StandardScaler object\n",
    "scaler = StandardScaler()\n",
    "\n",
    "# Fit the scaler to the 'sales' column and transform it\n",
    "df['sales_scaled'] = scaler.fit_transform(df[['sales']])\n",
    "\n",
    "# Now 'sales_scaled' has a mean of 0 and a standard deviation of 1\n",
    "# 'binary_var' is not affected by the standardization"
   ]
  },
  {
   "cell_type": "code",
   "execution_count": null,
   "id": "51f43625-2b20-40cf-974f-51442251a97e",
   "metadata": {},
   "outputs": [],
   "source": []
  },
  {
   "cell_type": "code",
   "execution_count": null,
   "id": "c7399dab-b664-4e04-83ff-c1c14d876fa2",
   "metadata": {},
   "outputs": [],
   "source": []
  },
  {
   "cell_type": "code",
   "execution_count": null,
   "id": "4454ee6c-8bea-49c6-b996-4ae16f3a5843",
   "metadata": {},
   "outputs": [],
   "source": []
  },
  {
   "cell_type": "code",
   "execution_count": null,
   "id": "32ccbdc1-0eba-4541-b074-ba919f2bb2bc",
   "metadata": {},
   "outputs": [],
   "source": []
  },
  {
   "cell_type": "code",
   "execution_count": null,
   "id": "5b3de4f2-6f13-4759-bd90-ae641e57adb9",
   "metadata": {},
   "outputs": [],
   "source": []
  },
  {
   "cell_type": "code",
   "execution_count": null,
   "id": "38d88d4c-d7c1-44da-88a6-2da8f055bc8c",
   "metadata": {},
   "outputs": [],
   "source": []
  },
  {
   "cell_type": "code",
   "execution_count": null,
   "id": "f324985d-9f4b-48bb-a156-c07f9290854b",
   "metadata": {},
   "outputs": [],
   "source": []
  },
  {
   "cell_type": "code",
   "execution_count": null,
   "id": "4862bc81-5456-41bb-8994-9b1c9b0e4765",
   "metadata": {},
   "outputs": [],
   "source": []
  }
 ],
 "metadata": {
  "availableInstances": [
   {
    "_defaultOrder": 0,
    "_isFastLaunch": true,
    "category": "General purpose",
    "gpuNum": 0,
    "hideHardwareSpecs": false,
    "memoryGiB": 4,
    "name": "ml.t3.medium",
    "vcpuNum": 2
   },
   {
    "_defaultOrder": 1,
    "_isFastLaunch": false,
    "category": "General purpose",
    "gpuNum": 0,
    "hideHardwareSpecs": false,
    "memoryGiB": 8,
    "name": "ml.t3.large",
    "vcpuNum": 2
   },
   {
    "_defaultOrder": 2,
    "_isFastLaunch": false,
    "category": "General purpose",
    "gpuNum": 0,
    "hideHardwareSpecs": false,
    "memoryGiB": 16,
    "name": "ml.t3.xlarge",
    "vcpuNum": 4
   },
   {
    "_defaultOrder": 3,
    "_isFastLaunch": false,
    "category": "General purpose",
    "gpuNum": 0,
    "hideHardwareSpecs": false,
    "memoryGiB": 32,
    "name": "ml.t3.2xlarge",
    "vcpuNum": 8
   },
   {
    "_defaultOrder": 4,
    "_isFastLaunch": true,
    "category": "General purpose",
    "gpuNum": 0,
    "hideHardwareSpecs": false,
    "memoryGiB": 8,
    "name": "ml.m5.large",
    "vcpuNum": 2
   },
   {
    "_defaultOrder": 5,
    "_isFastLaunch": false,
    "category": "General purpose",
    "gpuNum": 0,
    "hideHardwareSpecs": false,
    "memoryGiB": 16,
    "name": "ml.m5.xlarge",
    "vcpuNum": 4
   },
   {
    "_defaultOrder": 6,
    "_isFastLaunch": false,
    "category": "General purpose",
    "gpuNum": 0,
    "hideHardwareSpecs": false,
    "memoryGiB": 32,
    "name": "ml.m5.2xlarge",
    "vcpuNum": 8
   },
   {
    "_defaultOrder": 7,
    "_isFastLaunch": false,
    "category": "General purpose",
    "gpuNum": 0,
    "hideHardwareSpecs": false,
    "memoryGiB": 64,
    "name": "ml.m5.4xlarge",
    "vcpuNum": 16
   },
   {
    "_defaultOrder": 8,
    "_isFastLaunch": false,
    "category": "General purpose",
    "gpuNum": 0,
    "hideHardwareSpecs": false,
    "memoryGiB": 128,
    "name": "ml.m5.8xlarge",
    "vcpuNum": 32
   },
   {
    "_defaultOrder": 9,
    "_isFastLaunch": false,
    "category": "General purpose",
    "gpuNum": 0,
    "hideHardwareSpecs": false,
    "memoryGiB": 192,
    "name": "ml.m5.12xlarge",
    "vcpuNum": 48
   },
   {
    "_defaultOrder": 10,
    "_isFastLaunch": false,
    "category": "General purpose",
    "gpuNum": 0,
    "hideHardwareSpecs": false,
    "memoryGiB": 256,
    "name": "ml.m5.16xlarge",
    "vcpuNum": 64
   },
   {
    "_defaultOrder": 11,
    "_isFastLaunch": false,
    "category": "General purpose",
    "gpuNum": 0,
    "hideHardwareSpecs": false,
    "memoryGiB": 384,
    "name": "ml.m5.24xlarge",
    "vcpuNum": 96
   },
   {
    "_defaultOrder": 12,
    "_isFastLaunch": false,
    "category": "General purpose",
    "gpuNum": 0,
    "hideHardwareSpecs": false,
    "memoryGiB": 8,
    "name": "ml.m5d.large",
    "vcpuNum": 2
   },
   {
    "_defaultOrder": 13,
    "_isFastLaunch": false,
    "category": "General purpose",
    "gpuNum": 0,
    "hideHardwareSpecs": false,
    "memoryGiB": 16,
    "name": "ml.m5d.xlarge",
    "vcpuNum": 4
   },
   {
    "_defaultOrder": 14,
    "_isFastLaunch": false,
    "category": "General purpose",
    "gpuNum": 0,
    "hideHardwareSpecs": false,
    "memoryGiB": 32,
    "name": "ml.m5d.2xlarge",
    "vcpuNum": 8
   },
   {
    "_defaultOrder": 15,
    "_isFastLaunch": false,
    "category": "General purpose",
    "gpuNum": 0,
    "hideHardwareSpecs": false,
    "memoryGiB": 64,
    "name": "ml.m5d.4xlarge",
    "vcpuNum": 16
   },
   {
    "_defaultOrder": 16,
    "_isFastLaunch": false,
    "category": "General purpose",
    "gpuNum": 0,
    "hideHardwareSpecs": false,
    "memoryGiB": 128,
    "name": "ml.m5d.8xlarge",
    "vcpuNum": 32
   },
   {
    "_defaultOrder": 17,
    "_isFastLaunch": false,
    "category": "General purpose",
    "gpuNum": 0,
    "hideHardwareSpecs": false,
    "memoryGiB": 192,
    "name": "ml.m5d.12xlarge",
    "vcpuNum": 48
   },
   {
    "_defaultOrder": 18,
    "_isFastLaunch": false,
    "category": "General purpose",
    "gpuNum": 0,
    "hideHardwareSpecs": false,
    "memoryGiB": 256,
    "name": "ml.m5d.16xlarge",
    "vcpuNum": 64
   },
   {
    "_defaultOrder": 19,
    "_isFastLaunch": false,
    "category": "General purpose",
    "gpuNum": 0,
    "hideHardwareSpecs": false,
    "memoryGiB": 384,
    "name": "ml.m5d.24xlarge",
    "vcpuNum": 96
   },
   {
    "_defaultOrder": 20,
    "_isFastLaunch": false,
    "category": "General purpose",
    "gpuNum": 0,
    "hideHardwareSpecs": true,
    "memoryGiB": 0,
    "name": "ml.geospatial.interactive",
    "supportedImageNames": [
     "sagemaker-geospatial-v1-0"
    ],
    "vcpuNum": 0
   },
   {
    "_defaultOrder": 21,
    "_isFastLaunch": true,
    "category": "Compute optimized",
    "gpuNum": 0,
    "hideHardwareSpecs": false,
    "memoryGiB": 4,
    "name": "ml.c5.large",
    "vcpuNum": 2
   },
   {
    "_defaultOrder": 22,
    "_isFastLaunch": false,
    "category": "Compute optimized",
    "gpuNum": 0,
    "hideHardwareSpecs": false,
    "memoryGiB": 8,
    "name": "ml.c5.xlarge",
    "vcpuNum": 4
   },
   {
    "_defaultOrder": 23,
    "_isFastLaunch": false,
    "category": "Compute optimized",
    "gpuNum": 0,
    "hideHardwareSpecs": false,
    "memoryGiB": 16,
    "name": "ml.c5.2xlarge",
    "vcpuNum": 8
   },
   {
    "_defaultOrder": 24,
    "_isFastLaunch": false,
    "category": "Compute optimized",
    "gpuNum": 0,
    "hideHardwareSpecs": false,
    "memoryGiB": 32,
    "name": "ml.c5.4xlarge",
    "vcpuNum": 16
   },
   {
    "_defaultOrder": 25,
    "_isFastLaunch": false,
    "category": "Compute optimized",
    "gpuNum": 0,
    "hideHardwareSpecs": false,
    "memoryGiB": 72,
    "name": "ml.c5.9xlarge",
    "vcpuNum": 36
   },
   {
    "_defaultOrder": 26,
    "_isFastLaunch": false,
    "category": "Compute optimized",
    "gpuNum": 0,
    "hideHardwareSpecs": false,
    "memoryGiB": 96,
    "name": "ml.c5.12xlarge",
    "vcpuNum": 48
   },
   {
    "_defaultOrder": 27,
    "_isFastLaunch": false,
    "category": "Compute optimized",
    "gpuNum": 0,
    "hideHardwareSpecs": false,
    "memoryGiB": 144,
    "name": "ml.c5.18xlarge",
    "vcpuNum": 72
   },
   {
    "_defaultOrder": 28,
    "_isFastLaunch": false,
    "category": "Compute optimized",
    "gpuNum": 0,
    "hideHardwareSpecs": false,
    "memoryGiB": 192,
    "name": "ml.c5.24xlarge",
    "vcpuNum": 96
   },
   {
    "_defaultOrder": 29,
    "_isFastLaunch": true,
    "category": "Accelerated computing",
    "gpuNum": 1,
    "hideHardwareSpecs": false,
    "memoryGiB": 16,
    "name": "ml.g4dn.xlarge",
    "vcpuNum": 4
   },
   {
    "_defaultOrder": 30,
    "_isFastLaunch": false,
    "category": "Accelerated computing",
    "gpuNum": 1,
    "hideHardwareSpecs": false,
    "memoryGiB": 32,
    "name": "ml.g4dn.2xlarge",
    "vcpuNum": 8
   },
   {
    "_defaultOrder": 31,
    "_isFastLaunch": false,
    "category": "Accelerated computing",
    "gpuNum": 1,
    "hideHardwareSpecs": false,
    "memoryGiB": 64,
    "name": "ml.g4dn.4xlarge",
    "vcpuNum": 16
   },
   {
    "_defaultOrder": 32,
    "_isFastLaunch": false,
    "category": "Accelerated computing",
    "gpuNum": 1,
    "hideHardwareSpecs": false,
    "memoryGiB": 128,
    "name": "ml.g4dn.8xlarge",
    "vcpuNum": 32
   },
   {
    "_defaultOrder": 33,
    "_isFastLaunch": false,
    "category": "Accelerated computing",
    "gpuNum": 4,
    "hideHardwareSpecs": false,
    "memoryGiB": 192,
    "name": "ml.g4dn.12xlarge",
    "vcpuNum": 48
   },
   {
    "_defaultOrder": 34,
    "_isFastLaunch": false,
    "category": "Accelerated computing",
    "gpuNum": 1,
    "hideHardwareSpecs": false,
    "memoryGiB": 256,
    "name": "ml.g4dn.16xlarge",
    "vcpuNum": 64
   },
   {
    "_defaultOrder": 35,
    "_isFastLaunch": false,
    "category": "Accelerated computing",
    "gpuNum": 1,
    "hideHardwareSpecs": false,
    "memoryGiB": 61,
    "name": "ml.p3.2xlarge",
    "vcpuNum": 8
   },
   {
    "_defaultOrder": 36,
    "_isFastLaunch": false,
    "category": "Accelerated computing",
    "gpuNum": 4,
    "hideHardwareSpecs": false,
    "memoryGiB": 244,
    "name": "ml.p3.8xlarge",
    "vcpuNum": 32
   },
   {
    "_defaultOrder": 37,
    "_isFastLaunch": false,
    "category": "Accelerated computing",
    "gpuNum": 8,
    "hideHardwareSpecs": false,
    "memoryGiB": 488,
    "name": "ml.p3.16xlarge",
    "vcpuNum": 64
   },
   {
    "_defaultOrder": 38,
    "_isFastLaunch": false,
    "category": "Accelerated computing",
    "gpuNum": 8,
    "hideHardwareSpecs": false,
    "memoryGiB": 768,
    "name": "ml.p3dn.24xlarge",
    "vcpuNum": 96
   },
   {
    "_defaultOrder": 39,
    "_isFastLaunch": false,
    "category": "Memory Optimized",
    "gpuNum": 0,
    "hideHardwareSpecs": false,
    "memoryGiB": 16,
    "name": "ml.r5.large",
    "vcpuNum": 2
   },
   {
    "_defaultOrder": 40,
    "_isFastLaunch": false,
    "category": "Memory Optimized",
    "gpuNum": 0,
    "hideHardwareSpecs": false,
    "memoryGiB": 32,
    "name": "ml.r5.xlarge",
    "vcpuNum": 4
   },
   {
    "_defaultOrder": 41,
    "_isFastLaunch": false,
    "category": "Memory Optimized",
    "gpuNum": 0,
    "hideHardwareSpecs": false,
    "memoryGiB": 64,
    "name": "ml.r5.2xlarge",
    "vcpuNum": 8
   },
   {
    "_defaultOrder": 42,
    "_isFastLaunch": false,
    "category": "Memory Optimized",
    "gpuNum": 0,
    "hideHardwareSpecs": false,
    "memoryGiB": 128,
    "name": "ml.r5.4xlarge",
    "vcpuNum": 16
   },
   {
    "_defaultOrder": 43,
    "_isFastLaunch": false,
    "category": "Memory Optimized",
    "gpuNum": 0,
    "hideHardwareSpecs": false,
    "memoryGiB": 256,
    "name": "ml.r5.8xlarge",
    "vcpuNum": 32
   },
   {
    "_defaultOrder": 44,
    "_isFastLaunch": false,
    "category": "Memory Optimized",
    "gpuNum": 0,
    "hideHardwareSpecs": false,
    "memoryGiB": 384,
    "name": "ml.r5.12xlarge",
    "vcpuNum": 48
   },
   {
    "_defaultOrder": 45,
    "_isFastLaunch": false,
    "category": "Memory Optimized",
    "gpuNum": 0,
    "hideHardwareSpecs": false,
    "memoryGiB": 512,
    "name": "ml.r5.16xlarge",
    "vcpuNum": 64
   },
   {
    "_defaultOrder": 46,
    "_isFastLaunch": false,
    "category": "Memory Optimized",
    "gpuNum": 0,
    "hideHardwareSpecs": false,
    "memoryGiB": 768,
    "name": "ml.r5.24xlarge",
    "vcpuNum": 96
   },
   {
    "_defaultOrder": 47,
    "_isFastLaunch": false,
    "category": "Accelerated computing",
    "gpuNum": 1,
    "hideHardwareSpecs": false,
    "memoryGiB": 16,
    "name": "ml.g5.xlarge",
    "vcpuNum": 4
   },
   {
    "_defaultOrder": 48,
    "_isFastLaunch": false,
    "category": "Accelerated computing",
    "gpuNum": 1,
    "hideHardwareSpecs": false,
    "memoryGiB": 32,
    "name": "ml.g5.2xlarge",
    "vcpuNum": 8
   },
   {
    "_defaultOrder": 49,
    "_isFastLaunch": false,
    "category": "Accelerated computing",
    "gpuNum": 1,
    "hideHardwareSpecs": false,
    "memoryGiB": 64,
    "name": "ml.g5.4xlarge",
    "vcpuNum": 16
   },
   {
    "_defaultOrder": 50,
    "_isFastLaunch": false,
    "category": "Accelerated computing",
    "gpuNum": 1,
    "hideHardwareSpecs": false,
    "memoryGiB": 128,
    "name": "ml.g5.8xlarge",
    "vcpuNum": 32
   },
   {
    "_defaultOrder": 51,
    "_isFastLaunch": false,
    "category": "Accelerated computing",
    "gpuNum": 1,
    "hideHardwareSpecs": false,
    "memoryGiB": 256,
    "name": "ml.g5.16xlarge",
    "vcpuNum": 64
   },
   {
    "_defaultOrder": 52,
    "_isFastLaunch": false,
    "category": "Accelerated computing",
    "gpuNum": 4,
    "hideHardwareSpecs": false,
    "memoryGiB": 192,
    "name": "ml.g5.12xlarge",
    "vcpuNum": 48
   },
   {
    "_defaultOrder": 53,
    "_isFastLaunch": false,
    "category": "Accelerated computing",
    "gpuNum": 4,
    "hideHardwareSpecs": false,
    "memoryGiB": 384,
    "name": "ml.g5.24xlarge",
    "vcpuNum": 96
   },
   {
    "_defaultOrder": 54,
    "_isFastLaunch": false,
    "category": "Accelerated computing",
    "gpuNum": 8,
    "hideHardwareSpecs": false,
    "memoryGiB": 768,
    "name": "ml.g5.48xlarge",
    "vcpuNum": 192
   },
   {
    "_defaultOrder": 55,
    "_isFastLaunch": false,
    "category": "Accelerated computing",
    "gpuNum": 8,
    "hideHardwareSpecs": false,
    "memoryGiB": 1152,
    "name": "ml.p4d.24xlarge",
    "vcpuNum": 96
   },
   {
    "_defaultOrder": 56,
    "_isFastLaunch": false,
    "category": "Accelerated computing",
    "gpuNum": 8,
    "hideHardwareSpecs": false,
    "memoryGiB": 1152,
    "name": "ml.p4de.24xlarge",
    "vcpuNum": 96
   },
   {
    "_defaultOrder": 57,
    "_isFastLaunch": false,
    "category": "Accelerated computing",
    "gpuNum": 0,
    "hideHardwareSpecs": false,
    "memoryGiB": 32,
    "name": "ml.trn1.2xlarge",
    "vcpuNum": 8
   },
   {
    "_defaultOrder": 58,
    "_isFastLaunch": false,
    "category": "Accelerated computing",
    "gpuNum": 0,
    "hideHardwareSpecs": false,
    "memoryGiB": 512,
    "name": "ml.trn1.32xlarge",
    "vcpuNum": 128
   },
   {
    "_defaultOrder": 59,
    "_isFastLaunch": false,
    "category": "Accelerated computing",
    "gpuNum": 0,
    "hideHardwareSpecs": false,
    "memoryGiB": 512,
    "name": "ml.trn1n.32xlarge",
    "vcpuNum": 128
   }
  ],
  "instance_type": "ml.t3.medium",
  "kernelspec": {
   "display_name": "Python 3 (Data Science 3.0)",
   "language": "python",
   "name": "python3__SAGEMAKER_INTERNAL__arn:aws:sagemaker:us-east-1:081325390199:image/sagemaker-data-science-310-v1"
  },
  "language_info": {
   "codemirror_mode": {
    "name": "ipython",
    "version": 3
   },
   "file_extension": ".py",
   "mimetype": "text/x-python",
   "name": "python",
   "nbconvert_exporter": "python",
   "pygments_lexer": "ipython3",
   "version": "3.10.6"
  }
 },
 "nbformat": 4,
 "nbformat_minor": 5
}
