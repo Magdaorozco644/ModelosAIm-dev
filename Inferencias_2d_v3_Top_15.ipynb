{
 "cells": [
  {
   "cell_type": "code",
   "execution_count": 15,
   "id": "09758d89-0f6c-4811-bdc0-b07d7eaa6b73",
   "metadata": {
    "tags": []
   },
   "outputs": [
    {
     "name": "stdout",
     "output_type": "stream",
     "text": [
      "Requirement already satisfied: awswrangler in /opt/conda/lib/python3.10/site-packages (3.7.3)\n",
      "Requirement already satisfied: boto3<2.0.0,>=1.20.32 in /opt/conda/lib/python3.10/site-packages (from awswrangler) (1.34.84)\n",
      "Requirement already satisfied: botocore<2.0.0,>=1.23.32 in /opt/conda/lib/python3.10/site-packages (from awswrangler) (1.34.84)\n",
      "Requirement already satisfied: numpy<2.0,>=1.18 in /opt/conda/lib/python3.10/site-packages (from awswrangler) (1.26.4)\n",
      "Requirement already satisfied: packaging<25.0,>=21.1 in /opt/conda/lib/python3.10/site-packages (from awswrangler) (23.2)\n",
      "Requirement already satisfied: pandas<3.0.0,>=1.2.0 in /opt/conda/lib/python3.10/site-packages (from awswrangler) (2.2.2)\n",
      "Requirement already satisfied: pyarrow>=8.0.0 in /opt/conda/lib/python3.10/site-packages (from awswrangler) (15.0.2)\n",
      "Requirement already satisfied: typing-extensions<5.0.0,>=4.4.0 in /opt/conda/lib/python3.10/site-packages (from awswrangler) (4.11.0)\n",
      "Requirement already satisfied: jmespath<2.0.0,>=0.7.1 in /opt/conda/lib/python3.10/site-packages (from boto3<2.0.0,>=1.20.32->awswrangler) (1.0.1)\n",
      "Requirement already satisfied: s3transfer<0.11.0,>=0.10.0 in /opt/conda/lib/python3.10/site-packages (from boto3<2.0.0,>=1.20.32->awswrangler) (0.10.1)\n",
      "Requirement already satisfied: python-dateutil<3.0.0,>=2.1 in /opt/conda/lib/python3.10/site-packages (from botocore<2.0.0,>=1.23.32->awswrangler) (2.9.0)\n",
      "Requirement already satisfied: urllib3!=2.2.0,<3,>=1.25.4 in /opt/conda/lib/python3.10/site-packages (from botocore<2.0.0,>=1.23.32->awswrangler) (2.2.1)\n",
      "Requirement already satisfied: pytz>=2020.1 in /opt/conda/lib/python3.10/site-packages (from pandas<3.0.0,>=1.2.0->awswrangler) (2024.1)\n",
      "Requirement already satisfied: tzdata>=2022.7 in /opt/conda/lib/python3.10/site-packages (from pandas<3.0.0,>=1.2.0->awswrangler) (2024.1)\n",
      "Requirement already satisfied: six>=1.5 in /opt/conda/lib/python3.10/site-packages (from python-dateutil<3.0.0,>=2.1->botocore<2.0.0,>=1.23.32->awswrangler) (1.16.0)\n",
      "\u001b[33mWARNING: Running pip as the 'root' user can result in broken permissions and conflicting behaviour with the system package manager. It is recommended to use a virtual environment instead: https://pip.pypa.io/warnings/venv\u001b[0m\u001b[33m\n",
      "\u001b[0mRequirement already satisfied: skforecast in /opt/conda/lib/python3.10/site-packages (0.12.0)\n",
      "Requirement already satisfied: numpy<1.27,>=1.20 in /opt/conda/lib/python3.10/site-packages (from skforecast) (1.26.4)\n",
      "Requirement already satisfied: pandas<2.3,>=1.2 in /opt/conda/lib/python3.10/site-packages (from skforecast) (2.2.2)\n",
      "Requirement already satisfied: tqdm<4.67,>=4.57 in /opt/conda/lib/python3.10/site-packages (from skforecast) (4.66.1)\n",
      "Requirement already satisfied: scikit-learn<1.5,>=1.2 in /opt/conda/lib/python3.10/site-packages (from skforecast) (1.4.2)\n",
      "Requirement already satisfied: optuna<3.7,>=2.10 in /opt/conda/lib/python3.10/site-packages (from skforecast) (3.6.1)\n",
      "Requirement already satisfied: joblib<1.5,>=1.1 in /opt/conda/lib/python3.10/site-packages (from skforecast) (1.4.0)\n",
      "Requirement already satisfied: alembic>=1.5.0 in /opt/conda/lib/python3.10/site-packages (from optuna<3.7,>=2.10->skforecast) (1.13.1)\n",
      "Requirement already satisfied: colorlog in /opt/conda/lib/python3.10/site-packages (from optuna<3.7,>=2.10->skforecast) (6.8.2)\n",
      "Requirement already satisfied: packaging>=20.0 in /opt/conda/lib/python3.10/site-packages (from optuna<3.7,>=2.10->skforecast) (23.2)\n",
      "Requirement already satisfied: sqlalchemy>=1.3.0 in /opt/conda/lib/python3.10/site-packages (from optuna<3.7,>=2.10->skforecast) (2.0.29)\n",
      "Requirement already satisfied: PyYAML in /opt/conda/lib/python3.10/site-packages (from optuna<3.7,>=2.10->skforecast) (6.0.1)\n",
      "Requirement already satisfied: python-dateutil>=2.8.2 in /opt/conda/lib/python3.10/site-packages (from pandas<2.3,>=1.2->skforecast) (2.9.0)\n",
      "Requirement already satisfied: pytz>=2020.1 in /opt/conda/lib/python3.10/site-packages (from pandas<2.3,>=1.2->skforecast) (2024.1)\n",
      "Requirement already satisfied: tzdata>=2022.7 in /opt/conda/lib/python3.10/site-packages (from pandas<2.3,>=1.2->skforecast) (2024.1)\n",
      "Requirement already satisfied: scipy>=1.6.0 in /opt/conda/lib/python3.10/site-packages (from scikit-learn<1.5,>=1.2->skforecast) (1.13.0)\n",
      "Requirement already satisfied: threadpoolctl>=2.0.0 in /opt/conda/lib/python3.10/site-packages (from scikit-learn<1.5,>=1.2->skforecast) (3.4.0)\n",
      "Requirement already satisfied: Mako in /opt/conda/lib/python3.10/site-packages (from alembic>=1.5.0->optuna<3.7,>=2.10->skforecast) (1.3.3)\n",
      "Requirement already satisfied: typing-extensions>=4 in /opt/conda/lib/python3.10/site-packages (from alembic>=1.5.0->optuna<3.7,>=2.10->skforecast) (4.11.0)\n",
      "Requirement already satisfied: six>=1.5 in /opt/conda/lib/python3.10/site-packages (from python-dateutil>=2.8.2->pandas<2.3,>=1.2->skforecast) (1.16.0)\n",
      "Requirement already satisfied: greenlet!=0.4.17 in /opt/conda/lib/python3.10/site-packages (from sqlalchemy>=1.3.0->optuna<3.7,>=2.10->skforecast) (3.0.3)\n",
      "Requirement already satisfied: MarkupSafe>=0.9.2 in /opt/conda/lib/python3.10/site-packages (from Mako->alembic>=1.5.0->optuna<3.7,>=2.10->skforecast) (2.1.5)\n",
      "\u001b[33mWARNING: Running pip as the 'root' user can result in broken permissions and conflicting behaviour with the system package manager. It is recommended to use a virtual environment instead: https://pip.pypa.io/warnings/venv\u001b[0m\u001b[33m\n",
      "\u001b[0mRequirement already satisfied: pmdarima in /opt/conda/lib/python3.10/site-packages (2.0.4)\n",
      "Requirement already satisfied: joblib>=0.11 in /opt/conda/lib/python3.10/site-packages (from pmdarima) (1.4.0)\n",
      "Requirement already satisfied: Cython!=0.29.18,!=0.29.31,>=0.29 in /opt/conda/lib/python3.10/site-packages (from pmdarima) (3.0.10)\n",
      "Requirement already satisfied: numpy>=1.21.2 in /opt/conda/lib/python3.10/site-packages (from pmdarima) (1.26.4)\n",
      "Requirement already satisfied: pandas>=0.19 in /opt/conda/lib/python3.10/site-packages (from pmdarima) (2.2.2)\n",
      "Requirement already satisfied: scikit-learn>=0.22 in /opt/conda/lib/python3.10/site-packages (from pmdarima) (1.4.2)\n",
      "Requirement already satisfied: scipy>=1.3.2 in /opt/conda/lib/python3.10/site-packages (from pmdarima) (1.13.0)\n",
      "Requirement already satisfied: statsmodels>=0.13.2 in /opt/conda/lib/python3.10/site-packages (from pmdarima) (0.14.1)\n",
      "Requirement already satisfied: urllib3 in /opt/conda/lib/python3.10/site-packages (from pmdarima) (2.2.1)\n",
      "Requirement already satisfied: setuptools!=50.0.0,>=38.6.0 in /opt/conda/lib/python3.10/site-packages (from pmdarima) (69.5.1)\n",
      "Requirement already satisfied: packaging>=17.1 in /opt/conda/lib/python3.10/site-packages (from pmdarima) (23.2)\n",
      "Requirement already satisfied: python-dateutil>=2.8.2 in /opt/conda/lib/python3.10/site-packages (from pandas>=0.19->pmdarima) (2.9.0)\n",
      "Requirement already satisfied: pytz>=2020.1 in /opt/conda/lib/python3.10/site-packages (from pandas>=0.19->pmdarima) (2024.1)\n",
      "Requirement already satisfied: tzdata>=2022.7 in /opt/conda/lib/python3.10/site-packages (from pandas>=0.19->pmdarima) (2024.1)\n",
      "Requirement already satisfied: threadpoolctl>=2.0.0 in /opt/conda/lib/python3.10/site-packages (from scikit-learn>=0.22->pmdarima) (3.4.0)\n",
      "Requirement already satisfied: patsy>=0.5.4 in /opt/conda/lib/python3.10/site-packages (from statsmodels>=0.13.2->pmdarima) (0.5.6)\n",
      "Requirement already satisfied: six in /opt/conda/lib/python3.10/site-packages (from patsy>=0.5.4->statsmodels>=0.13.2->pmdarima) (1.16.0)\n",
      "\u001b[33mWARNING: Running pip as the 'root' user can result in broken permissions and conflicting behaviour with the system package manager. It is recommended to use a virtual environment instead: https://pip.pypa.io/warnings/venv\u001b[0m\u001b[33m\n",
      "\u001b[0m"
     ]
    }
   ],
   "source": [
    "!pip install awswrangler\n",
    "!pip install skforecast\n",
    "!pip install pmdarima"
   ]
  },
  {
   "cell_type": "code",
   "execution_count": 16,
   "id": "b07ad127-615b-42eb-906b-698c0311e4dc",
   "metadata": {
    "tags": []
   },
   "outputs": [],
   "source": [
    "import awswrangler as wr\n",
    "import pandas as pd\n",
    "import boto3\n",
    "import pickle\n",
    "from io import BytesIO\n",
    "from io import StringIO\n",
    "import joblib\n",
    "import os\n",
    "from datetime import datetime, timedelta\n",
    "import warnings\n",
    "\n",
    "# skforecast\n",
    "from skforecast.Sarimax import Sarimax\n",
    "from skforecast.ForecasterSarimax import ForecasterSarimax\n",
    "from skforecast.model_selection_sarimax import backtesting_sarimax\n",
    "from skforecast.model_selection_sarimax import grid_search_sarimax\n",
    "from sklearn.metrics import mean_absolute_error\n"
   ]
  },
  {
   "cell_type": "markdown",
   "id": "d8ed74f1-8a3b-4e7b-a919-bcc13deada3d",
   "metadata": {
    "tags": []
   },
   "source": [
    "### Load ABT and .pkl"
   ]
  },
  {
   "cell_type": "code",
   "execution_count": 17,
   "id": "497e38ec-b395-4684-8d5a-266512b27127",
   "metadata": {
    "tags": []
   },
   "outputs": [],
   "source": [
    "# Set up S3 client\n",
    "client = boto3.client('s3')\n",
    "bucket_name = 'viamericas-datalake-dev-us-east-1-283731589572-analytics'\n",
    "#path = 'ABTv3_update/top_payers_abt_v3update' # Folder under analysis\n",
    "path = 'ABTv3_updatetop_payers_abt_v3update/' # Folder under analysis\n",
    "\n",
    "#ABTversion = 'v3_update'\n",
    "ABTversion = 'v6'\n",
    "path_ABT = f'ABT{ABTversion}/' "
   ]
  },
  {
   "cell_type": "code",
   "execution_count": 18,
   "id": "f64be7cb-017e-452e-9444-96f152a5fba5",
   "metadata": {
    "tags": []
   },
   "outputs": [
    {
     "name": "stdout",
     "output_type": "stream",
     "text": [
      "CSV file loaded\n"
     ]
    }
   ],
   "source": [
    "# Specify the CSV file key\n",
    "csv_key = None\n",
    "\n",
    "# List objects in the S3 path\n",
    "response = client.list_objects(Bucket=bucket_name, Prefix=path_ABT)\n",
    "\n",
    "# Find the CSV file in the S3 path\n",
    "for obj in response.get('Contents', []):\n",
    "    if obj['Key'].endswith('.csv'):\n",
    "        csv_key = obj['Key']\n",
    "        break\n",
    "        \n",
    "# Check if CSV file is found\n",
    "if csv_key is not None:\n",
    "    # Read CSV content from S3\n",
    "    csv_response = client.get_object(Bucket=bucket_name, Key=csv_key)\n",
    "    csv_content = csv_response['Body'].read().decode('utf-8')\n",
    "\n",
    "    # Transform CSV content to DataFrame\n",
    "    data = pd.read_csv(StringIO(csv_content))\n",
    "    data['date'] = pd.to_datetime(data['date']).dt.date\n",
    "    print(\"CSV file loaded\")\n",
    "else:\n",
    "    print(\"No CSV file found in the specified S3 path.\")"
   ]
  },
  {
   "cell_type": "code",
   "execution_count": 19,
   "id": "8a72543f-0ba1-47e1-8cd2-26ce613b5452",
   "metadata": {
    "tags": []
   },
   "outputs": [],
   "source": [
    "data['date'] = pd.to_datetime(data['date'])"
   ]
  },
  {
   "cell_type": "code",
   "execution_count": 20,
   "id": "44bfe3fc-71d8-449d-af5d-b95e9fe05a98",
   "metadata": {
    "tags": []
   },
   "outputs": [
    {
     "data": {
      "text/plain": [
       "Timestamp('2024-02-11 00:00:00')"
      ]
     },
     "execution_count": 20,
     "metadata": {},
     "output_type": "execute_result"
    }
   ],
   "source": [
    "data.date.max()"
   ]
  },
  {
   "cell_type": "code",
   "execution_count": 21,
   "id": "70cca4f2-d559-49d0-8f77-bada3adedd49",
   "metadata": {
    "tags": []
   },
   "outputs": [],
   "source": [
    "# Mark with 1 in 'day_of_the_dead' when 'date' is Nov. 2\n",
    "data.loc[data['date'].dt.month.eq(11) & data['date'].dt.day.eq(2), 'day_of_the_dead'] = 1"
   ]
  },
  {
   "cell_type": "markdown",
   "id": "ef95bc1f-38d1-48a8-a37c-5ea8d7da0aff",
   "metadata": {},
   "source": [
    "### PARQUET"
   ]
  },
  {
   "cell_type": "code",
   "execution_count": 22,
   "id": "d6a71d4d-67c6-463b-81e4-ca036af91eaf",
   "metadata": {
    "tags": []
   },
   "outputs": [],
   "source": [
    "#uri='s3://viamericas-datalake-dev-us-east-1-283731589572-analytics/abt_parquet/dt=2024-05-07/'"
   ]
  },
  {
   "cell_type": "code",
   "execution_count": 23,
   "id": "e4a362b5-8c90-46d3-aeaa-be030e9f60c2",
   "metadata": {
    "tags": []
   },
   "outputs": [],
   "source": [
    "#data=wr.s3.read_parquet(uri)"
   ]
  },
  {
   "cell_type": "code",
   "execution_count": 25,
   "id": "5e038391-a9d6-43b6-8756-cf721fd31f0f",
   "metadata": {
    "tags": []
   },
   "outputs": [
    {
     "data": {
      "text/plain": [
       "Timestamp('2023-12-20 00:00:00')"
      ]
     },
     "execution_count": 25,
     "metadata": {},
     "output_type": "execute_result"
    }
   ],
   "source": [
    "data.date.max()"
   ]
  },
  {
   "cell_type": "code",
   "execution_count": 26,
   "id": "87a41be7-94bd-4bda-9362-495e1d6377a6",
   "metadata": {
    "tags": []
   },
   "outputs": [
    {
     "data": {
      "text/plain": [
       "133"
      ]
     },
     "execution_count": 26,
     "metadata": {},
     "output_type": "execute_result"
    }
   ],
   "source": [
    "data.payer_country.nunique()"
   ]
  },
  {
   "cell_type": "markdown",
   "id": "eb680730-d404-4043-a098-33c8e279ba3a",
   "metadata": {},
   "source": [
    "## LOAD .pkl"
   ]
  },
  {
   "cell_type": "code",
   "execution_count": 27,
   "id": "6617f69b-df9f-40b2-870f-54dd6958c1f6",
   "metadata": {
    "tags": []
   },
   "outputs": [],
   "source": [
    "elements = client.list_objects(Bucket=bucket_name, Prefix=path)\n",
    "\n",
    "#Listing pkl files\n",
    "pkl_files = [obj['Key'] for obj in elements.get('Contents', []) if obj['Key'].endswith('.pkl')\n",
    "                and ('MODEL_2d' in obj['Key']) and not obj['Key'].endswith('_7d.pkl')]  # File structure "
   ]
  },
  {
   "cell_type": "code",
   "execution_count": 28,
   "id": "5774aa75-dcd3-4dab-871e-4dc62c21958b",
   "metadata": {
    "tags": []
   },
   "outputs": [
    {
     "data": {
      "text/plain": [
       "1"
      ]
     },
     "execution_count": 28,
     "metadata": {},
     "output_type": "execute_result"
    }
   ],
   "source": [
    "len(pkl_files)"
   ]
  },
  {
   "cell_type": "code",
   "execution_count": 29,
   "id": "50754ca0-fc89-41e7-b81a-756aee6f48d5",
   "metadata": {
    "tags": []
   },
   "outputs": [
    {
     "data": {
      "text/plain": [
       "['ABTv3_updatetop_payers_abt_v3update/TELECOMM TELEGRAFOS (APPRIZA)_MEXICO/MODEL_2d_TELECOMM TELEGRAFOS (APPRIZA)_MEXICO_2dv2.pkl']"
      ]
     },
     "execution_count": 29,
     "metadata": {},
     "output_type": "execute_result"
    }
   ],
   "source": [
    "pkl_files"
   ]
  },
  {
   "cell_type": "code",
   "execution_count": 30,
   "id": "18276523-b857-4ae1-8d92-ebef5ecc6a4b",
   "metadata": {
    "tags": []
   },
   "outputs": [],
   "source": [
    "today = datetime.now().date()"
   ]
  },
  {
   "cell_type": "markdown",
   "id": "6f79405e-4fb0-46c7-9e49-b132858c1786",
   "metadata": {
    "tags": []
   },
   "source": [
    "### Loop to process all"
   ]
  },
  {
   "cell_type": "code",
   "execution_count": 31,
   "id": "36f02302-7431-4cf6-b0d2-f1ac9caad585",
   "metadata": {
    "tags": []
   },
   "outputs": [],
   "source": [
    "# Initialize an empty DataFrame to store the results\n",
    "df_temp = pd.DataFrame(columns=['date', 'pred', 'payer_country', 'model'])"
   ]
  },
  {
   "cell_type": "code",
   "execution_count": 32,
   "id": "2480ec1a-4431-48ae-a060-3bfedb50725f",
   "metadata": {},
   "outputs": [],
   "source": [
    "# Payers to present errors in the inference process.\n",
    "payer_countries_pinched = []"
   ]
  },
  {
   "cell_type": "code",
   "execution_count": null,
   "id": "1902074e-eaeb-4680-bd65-0cbca599323f",
   "metadata": {},
   "outputs": [],
   "source": []
  },
  {
   "cell_type": "code",
   "execution_count": 33,
   "id": "73216673-d677-4a91-a7cb-dddf26d7a6b5",
   "metadata": {
    "tags": []
   },
   "outputs": [],
   "source": [
    "#data=data.loc[data.payer_country=='ELEKTRA (MEXICO)_MEXICO']"
   ]
  },
  {
   "cell_type": "code",
   "execution_count": 34,
   "id": "33de5585-d8f9-4dd8-a7cb-2920b0eb45aa",
   "metadata": {
    "tags": []
   },
   "outputs": [
    {
     "name": "stdout",
     "output_type": "stream",
     "text": [
      "TELECOMM TELEGRAFOS (APPRIZA)_MEXICO\n",
      "\u001b[1;31mError processing TELECOMM TELEGRAFOS (APPRIZA)_MEXICO\u001b[0m\n"
     ]
    }
   ],
   "source": [
    "i = 1\n",
    "\n",
    "# Iterate over pkl files\n",
    "for file_key in pkl_files:\n",
    "    # Extract payer_country from file_key\n",
    "    payer_country = file_key.split('/')[1]\n",
    "    print(payer_country)\n",
    "    \n",
    "    # Download pkl file from S3 and load it into memory\n",
    "    response = client.get_object(Bucket=bucket_name, Key=file_key)\n",
    "    buffer = BytesIO(response['Body'].read())\n",
    "    forecaster = joblib.load(buffer)\n",
    "    \n",
    "    #### PAYER SETTING ####\n",
    "    # Filter data for the specific payer_country\n",
    "    datos = data[data['payer_country'] == payer_country].copy()\n",
    "#    datos = data.loc[data.payer_country == payer_country]\n",
    "    datos['date'] = pd.to_datetime(datos['date'])\n",
    "    datos.set_index('date', inplace=True)\n",
    "    datos = datos.asfreq('D')\n",
    "\n",
    "    # Predictions settings\n",
    "    last_window_date = forecaster.last_window.index[-1] + pd.Timedelta(days=1) #19/12/23 first day in last window\n",
    "    test_date = forecaster.last_window.index[-1] + pd.Timedelta(days=38) # The first test day would be the day to predict 29/12/23-==11-(esto CRECE SIEMPRE UN DIA MAS)\n",
    "\n",
    "    # Extract data for last window and test period\n",
    "    data_last_window = datos.loc[last_window_date:test_date - pd.Timedelta(days=1)].copy() #From 19/12/23 to test minus one day 28/12/23\n",
    "    data_last_window[forecaster.exog_col_names] = data_last_window[forecaster.exog_col_names].fillna(0)##extracting exogenous and filling missing\n",
    "    data_test = datos.loc[test_date:test_date + pd.Timedelta(days=1)].copy()#29/12/2023 we have data in test (first day to predict) and their extension (2 days) (7D IN 8D MODEL)\n",
    "    data_test[forecaster.exog_col_names] = data_test[forecaster.exog_col_names].fillna(0)##we fill in missings\n",
    "\n",
    "    try:\n",
    "        \n",
    "        with warnings.catch_warnings():\n",
    "            warnings.filterwarnings(\"ignore\")\n",
    "        # Make predictions\n",
    "        predictions = forecaster.predict(\n",
    "                          steps            = 2, # Days to predict\n",
    "                          exog             = data_test[forecaster.exog_col_names],\n",
    "                          last_window      = data_last_window['amount'],\n",
    "                          last_window_exog = data_last_window[forecaster.exog_col_names]\n",
    "                      )\n",
    "        # Store predictions in a temporary DataFrame\n",
    "        df_temp = pd.DataFrame(predictions, columns=['pred']).reset_index()\n",
    "\n",
    "    except:\n",
    "        # If an exception occurs, set predictions to zero\n",
    "        print(\"\\033[1;31m\" + f\"Error processing {payer_country}\" + \"\\033[0m\")\n",
    "        predictions = [0, 0]\n",
    "        df_temp = pd.DataFrame({'index': [test_date, test_date + pd.Timedelta(days=1)], 'pred': predictions})\n",
    "        payer_countries_pinched.append(payer_country)\n",
    "\n",
    "\n",
    "    # Add additional columns\n",
    "    df_temp['payer_country'] = payer_country\n",
    "    df_temp['model'] = file_key.split('/')[-1]\n",
    "\n",
    "    # Concatenate df_temp with the main DataFrame\n",
    "    if i:\n",
    "        temp_df = df_temp.copy()\n",
    "        i = 0\n",
    "    else:\n",
    "        temp_df = pd.concat([temp_df, df_temp], ignore_index=True)"
   ]
  },
  {
   "cell_type": "code",
   "execution_count": 35,
   "id": "601d74aa-940c-4cc9-9118-20392c9f74e6",
   "metadata": {
    "tags": []
   },
   "outputs": [
    {
     "data": {
      "text/html": [
       "<div>\n",
       "<style scoped>\n",
       "    .dataframe tbody tr th:only-of-type {\n",
       "        vertical-align: middle;\n",
       "    }\n",
       "\n",
       "    .dataframe tbody tr th {\n",
       "        vertical-align: top;\n",
       "    }\n",
       "\n",
       "    .dataframe thead th {\n",
       "        text-align: right;\n",
       "    }\n",
       "</style>\n",
       "<table border=\"1\" class=\"dataframe\">\n",
       "  <thead>\n",
       "    <tr style=\"text-align: right;\">\n",
       "      <th></th>\n",
       "      <th>payer_country</th>\n",
       "      <th>payer</th>\n",
       "      <th>country</th>\n",
       "      <th>tx</th>\n",
       "      <th>amount</th>\n",
       "      <th>coupon_count</th>\n",
       "      <th>gp</th>\n",
       "      <th>day_x</th>\n",
       "      <th>margin</th>\n",
       "      <th>max_day</th>\n",
       "      <th>...</th>\n",
       "      <th>var_tx_cancelled_lag_28</th>\n",
       "      <th>var_tx_cancelled_lag_29</th>\n",
       "      <th>is_holiday</th>\n",
       "      <th>var_30ds</th>\n",
       "      <th>post_holiday</th>\n",
       "      <th>is_fourth_of_july</th>\n",
       "      <th>christmas_day</th>\n",
       "      <th>new_year_day</th>\n",
       "      <th>thanksgiving_day</th>\n",
       "      <th>day_of_the_dead</th>\n",
       "    </tr>\n",
       "    <tr>\n",
       "      <th>date</th>\n",
       "      <th></th>\n",
       "      <th></th>\n",
       "      <th></th>\n",
       "      <th></th>\n",
       "      <th></th>\n",
       "      <th></th>\n",
       "      <th></th>\n",
       "      <th></th>\n",
       "      <th></th>\n",
       "      <th></th>\n",
       "      <th></th>\n",
       "      <th></th>\n",
       "      <th></th>\n",
       "      <th></th>\n",
       "      <th></th>\n",
       "      <th></th>\n",
       "      <th></th>\n",
       "      <th></th>\n",
       "      <th></th>\n",
       "      <th></th>\n",
       "      <th></th>\n",
       "    </tr>\n",
       "  </thead>\n",
       "  <tbody>\n",
       "    <tr>\n",
       "      <th>2023-12-03</th>\n",
       "      <td>TELECOMM TELEGRAFOS (APPRIZA)_MEXICO</td>\n",
       "      <td>TELECOMM TELEGRAFOS (APPRIZA)</td>\n",
       "      <td>MEXICO</td>\n",
       "      <td>1086</td>\n",
       "      <td>665224.66</td>\n",
       "      <td>21</td>\n",
       "      <td>8243.0265</td>\n",
       "      <td>2023-12-03</td>\n",
       "      <td>7.5903</td>\n",
       "      <td>2024-02-03</td>\n",
       "      <td>...</td>\n",
       "      <td>-16</td>\n",
       "      <td>7</td>\n",
       "      <td>0</td>\n",
       "      <td>0.0</td>\n",
       "      <td>0</td>\n",
       "      <td>0</td>\n",
       "      <td>0</td>\n",
       "      <td>0</td>\n",
       "      <td>0</td>\n",
       "      <td>0</td>\n",
       "    </tr>\n",
       "    <tr>\n",
       "      <th>2023-12-04</th>\n",
       "      <td>TELECOMM TELEGRAFOS (APPRIZA)_MEXICO</td>\n",
       "      <td>TELECOMM TELEGRAFOS (APPRIZA)</td>\n",
       "      <td>MEXICO</td>\n",
       "      <td>995</td>\n",
       "      <td>590756.26</td>\n",
       "      <td>23</td>\n",
       "      <td>7236.8952</td>\n",
       "      <td>2023-12-04</td>\n",
       "      <td>7.2733</td>\n",
       "      <td>2024-02-03</td>\n",
       "      <td>...</td>\n",
       "      <td>3</td>\n",
       "      <td>-16</td>\n",
       "      <td>0</td>\n",
       "      <td>0.0</td>\n",
       "      <td>0</td>\n",
       "      <td>0</td>\n",
       "      <td>0</td>\n",
       "      <td>0</td>\n",
       "      <td>0</td>\n",
       "      <td>0</td>\n",
       "    </tr>\n",
       "    <tr>\n",
       "      <th>2023-12-05</th>\n",
       "      <td>TELECOMM TELEGRAFOS (APPRIZA)_MEXICO</td>\n",
       "      <td>TELECOMM TELEGRAFOS (APPRIZA)</td>\n",
       "      <td>MEXICO</td>\n",
       "      <td>836</td>\n",
       "      <td>547966.06</td>\n",
       "      <td>18</td>\n",
       "      <td>1487.2508</td>\n",
       "      <td>2023-12-05</td>\n",
       "      <td>1.7790</td>\n",
       "      <td>2024-02-03</td>\n",
       "      <td>...</td>\n",
       "      <td>0</td>\n",
       "      <td>3</td>\n",
       "      <td>0</td>\n",
       "      <td>0.0</td>\n",
       "      <td>0</td>\n",
       "      <td>0</td>\n",
       "      <td>0</td>\n",
       "      <td>0</td>\n",
       "      <td>0</td>\n",
       "      <td>0</td>\n",
       "    </tr>\n",
       "    <tr>\n",
       "      <th>2023-12-06</th>\n",
       "      <td>TELECOMM TELEGRAFOS (APPRIZA)_MEXICO</td>\n",
       "      <td>TELECOMM TELEGRAFOS (APPRIZA)</td>\n",
       "      <td>MEXICO</td>\n",
       "      <td>777</td>\n",
       "      <td>506516.58</td>\n",
       "      <td>16</td>\n",
       "      <td>5493.2843</td>\n",
       "      <td>2023-12-06</td>\n",
       "      <td>7.0699</td>\n",
       "      <td>2024-02-03</td>\n",
       "      <td>...</td>\n",
       "      <td>15</td>\n",
       "      <td>0</td>\n",
       "      <td>0</td>\n",
       "      <td>0.0</td>\n",
       "      <td>0</td>\n",
       "      <td>0</td>\n",
       "      <td>0</td>\n",
       "      <td>0</td>\n",
       "      <td>0</td>\n",
       "      <td>0</td>\n",
       "    </tr>\n",
       "    <tr>\n",
       "      <th>2023-12-07</th>\n",
       "      <td>TELECOMM TELEGRAFOS (APPRIZA)_MEXICO</td>\n",
       "      <td>TELECOMM TELEGRAFOS (APPRIZA)</td>\n",
       "      <td>MEXICO</td>\n",
       "      <td>765</td>\n",
       "      <td>521352.94</td>\n",
       "      <td>10</td>\n",
       "      <td>5244.9748</td>\n",
       "      <td>2023-12-07</td>\n",
       "      <td>6.8562</td>\n",
       "      <td>2024-02-03</td>\n",
       "      <td>...</td>\n",
       "      <td>-14</td>\n",
       "      <td>15</td>\n",
       "      <td>0</td>\n",
       "      <td>0.0</td>\n",
       "      <td>0</td>\n",
       "      <td>0</td>\n",
       "      <td>0</td>\n",
       "      <td>0</td>\n",
       "      <td>0</td>\n",
       "      <td>0</td>\n",
       "    </tr>\n",
       "    <tr>\n",
       "      <th>2023-12-08</th>\n",
       "      <td>TELECOMM TELEGRAFOS (APPRIZA)_MEXICO</td>\n",
       "      <td>TELECOMM TELEGRAFOS (APPRIZA)</td>\n",
       "      <td>MEXICO</td>\n",
       "      <td>905</td>\n",
       "      <td>537220.52</td>\n",
       "      <td>14</td>\n",
       "      <td>4357.7974</td>\n",
       "      <td>2023-12-08</td>\n",
       "      <td>4.8152</td>\n",
       "      <td>2024-02-03</td>\n",
       "      <td>...</td>\n",
       "      <td>19</td>\n",
       "      <td>-14</td>\n",
       "      <td>0</td>\n",
       "      <td>0.0</td>\n",
       "      <td>0</td>\n",
       "      <td>0</td>\n",
       "      <td>0</td>\n",
       "      <td>0</td>\n",
       "      <td>0</td>\n",
       "      <td>0</td>\n",
       "    </tr>\n",
       "    <tr>\n",
       "      <th>2023-12-09</th>\n",
       "      <td>TELECOMM TELEGRAFOS (APPRIZA)_MEXICO</td>\n",
       "      <td>TELECOMM TELEGRAFOS (APPRIZA)</td>\n",
       "      <td>MEXICO</td>\n",
       "      <td>905</td>\n",
       "      <td>547987.90</td>\n",
       "      <td>19</td>\n",
       "      <td>4044.0445</td>\n",
       "      <td>2023-12-09</td>\n",
       "      <td>4.4686</td>\n",
       "      <td>2024-02-03</td>\n",
       "      <td>...</td>\n",
       "      <td>-12</td>\n",
       "      <td>19</td>\n",
       "      <td>0</td>\n",
       "      <td>0.0</td>\n",
       "      <td>0</td>\n",
       "      <td>0</td>\n",
       "      <td>0</td>\n",
       "      <td>0</td>\n",
       "      <td>0</td>\n",
       "      <td>0</td>\n",
       "    </tr>\n",
       "    <tr>\n",
       "      <th>2023-12-10</th>\n",
       "      <td>TELECOMM TELEGRAFOS (APPRIZA)_MEXICO</td>\n",
       "      <td>TELECOMM TELEGRAFOS (APPRIZA)</td>\n",
       "      <td>MEXICO</td>\n",
       "      <td>1199</td>\n",
       "      <td>679383.31</td>\n",
       "      <td>10</td>\n",
       "      <td>5414.7753</td>\n",
       "      <td>2023-12-10</td>\n",
       "      <td>4.5161</td>\n",
       "      <td>2024-02-03</td>\n",
       "      <td>...</td>\n",
       "      <td>-12</td>\n",
       "      <td>-12</td>\n",
       "      <td>0</td>\n",
       "      <td>0.0</td>\n",
       "      <td>0</td>\n",
       "      <td>0</td>\n",
       "      <td>0</td>\n",
       "      <td>0</td>\n",
       "      <td>0</td>\n",
       "      <td>0</td>\n",
       "    </tr>\n",
       "    <tr>\n",
       "      <th>2023-12-11</th>\n",
       "      <td>TELECOMM TELEGRAFOS (APPRIZA)_MEXICO</td>\n",
       "      <td>TELECOMM TELEGRAFOS (APPRIZA)</td>\n",
       "      <td>MEXICO</td>\n",
       "      <td>1050</td>\n",
       "      <td>595237.32</td>\n",
       "      <td>16</td>\n",
       "      <td>2923.2505</td>\n",
       "      <td>2023-12-11</td>\n",
       "      <td>2.7840</td>\n",
       "      <td>2024-02-03</td>\n",
       "      <td>...</td>\n",
       "      <td>15</td>\n",
       "      <td>-12</td>\n",
       "      <td>0</td>\n",
       "      <td>0.0</td>\n",
       "      <td>0</td>\n",
       "      <td>0</td>\n",
       "      <td>0</td>\n",
       "      <td>0</td>\n",
       "      <td>0</td>\n",
       "      <td>0</td>\n",
       "    </tr>\n",
       "    <tr>\n",
       "      <th>2023-12-12</th>\n",
       "      <td>TELECOMM TELEGRAFOS (APPRIZA)_MEXICO</td>\n",
       "      <td>TELECOMM TELEGRAFOS (APPRIZA)</td>\n",
       "      <td>MEXICO</td>\n",
       "      <td>699</td>\n",
       "      <td>433461.13</td>\n",
       "      <td>10</td>\n",
       "      <td>2609.4072</td>\n",
       "      <td>2023-12-12</td>\n",
       "      <td>3.7331</td>\n",
       "      <td>2024-02-03</td>\n",
       "      <td>...</td>\n",
       "      <td>-20</td>\n",
       "      <td>15</td>\n",
       "      <td>0</td>\n",
       "      <td>0.0</td>\n",
       "      <td>0</td>\n",
       "      <td>0</td>\n",
       "      <td>0</td>\n",
       "      <td>0</td>\n",
       "      <td>0</td>\n",
       "      <td>0</td>\n",
       "    </tr>\n",
       "    <tr>\n",
       "      <th>2023-12-13</th>\n",
       "      <td>TELECOMM TELEGRAFOS (APPRIZA)_MEXICO</td>\n",
       "      <td>TELECOMM TELEGRAFOS (APPRIZA)</td>\n",
       "      <td>MEXICO</td>\n",
       "      <td>689</td>\n",
       "      <td>453096.11</td>\n",
       "      <td>20</td>\n",
       "      <td>1767.5735</td>\n",
       "      <td>2023-12-13</td>\n",
       "      <td>2.5654</td>\n",
       "      <td>2024-02-03</td>\n",
       "      <td>...</td>\n",
       "      <td>10</td>\n",
       "      <td>-20</td>\n",
       "      <td>0</td>\n",
       "      <td>0.0</td>\n",
       "      <td>0</td>\n",
       "      <td>0</td>\n",
       "      <td>0</td>\n",
       "      <td>0</td>\n",
       "      <td>0</td>\n",
       "      <td>0</td>\n",
       "    </tr>\n",
       "    <tr>\n",
       "      <th>2023-12-14</th>\n",
       "      <td>TELECOMM TELEGRAFOS (APPRIZA)_MEXICO</td>\n",
       "      <td>TELECOMM TELEGRAFOS (APPRIZA)</td>\n",
       "      <td>MEXICO</td>\n",
       "      <td>617</td>\n",
       "      <td>386537.59</td>\n",
       "      <td>14</td>\n",
       "      <td>1668.7566</td>\n",
       "      <td>2023-12-14</td>\n",
       "      <td>2.7046</td>\n",
       "      <td>2024-02-03</td>\n",
       "      <td>...</td>\n",
       "      <td>-9</td>\n",
       "      <td>10</td>\n",
       "      <td>0</td>\n",
       "      <td>0.0</td>\n",
       "      <td>0</td>\n",
       "      <td>0</td>\n",
       "      <td>0</td>\n",
       "      <td>0</td>\n",
       "      <td>0</td>\n",
       "      <td>0</td>\n",
       "    </tr>\n",
       "    <tr>\n",
       "      <th>2023-12-15</th>\n",
       "      <td>TELECOMM TELEGRAFOS (APPRIZA)_MEXICO</td>\n",
       "      <td>TELECOMM TELEGRAFOS (APPRIZA)</td>\n",
       "      <td>MEXICO</td>\n",
       "      <td>869</td>\n",
       "      <td>471159.09</td>\n",
       "      <td>18</td>\n",
       "      <td>3500.7065</td>\n",
       "      <td>2023-12-15</td>\n",
       "      <td>4.0284</td>\n",
       "      <td>2024-02-03</td>\n",
       "      <td>...</td>\n",
       "      <td>11</td>\n",
       "      <td>-9</td>\n",
       "      <td>0</td>\n",
       "      <td>0.0</td>\n",
       "      <td>0</td>\n",
       "      <td>0</td>\n",
       "      <td>0</td>\n",
       "      <td>0</td>\n",
       "      <td>0</td>\n",
       "      <td>0</td>\n",
       "    </tr>\n",
       "    <tr>\n",
       "      <th>2023-12-16</th>\n",
       "      <td>TELECOMM TELEGRAFOS (APPRIZA)_MEXICO</td>\n",
       "      <td>TELECOMM TELEGRAFOS (APPRIZA)</td>\n",
       "      <td>MEXICO</td>\n",
       "      <td>918</td>\n",
       "      <td>567509.19</td>\n",
       "      <td>15</td>\n",
       "      <td>3427.3764</td>\n",
       "      <td>2023-12-16</td>\n",
       "      <td>3.7335</td>\n",
       "      <td>2024-02-03</td>\n",
       "      <td>...</td>\n",
       "      <td>11</td>\n",
       "      <td>11</td>\n",
       "      <td>0</td>\n",
       "      <td>0.0</td>\n",
       "      <td>0</td>\n",
       "      <td>0</td>\n",
       "      <td>0</td>\n",
       "      <td>0</td>\n",
       "      <td>0</td>\n",
       "      <td>0</td>\n",
       "    </tr>\n",
       "    <tr>\n",
       "      <th>2023-12-17</th>\n",
       "      <td>TELECOMM TELEGRAFOS (APPRIZA)_MEXICO</td>\n",
       "      <td>TELECOMM TELEGRAFOS (APPRIZA)</td>\n",
       "      <td>MEXICO</td>\n",
       "      <td>1216</td>\n",
       "      <td>659810.98</td>\n",
       "      <td>30</td>\n",
       "      <td>4200.6722</td>\n",
       "      <td>2023-12-17</td>\n",
       "      <td>3.4545</td>\n",
       "      <td>2024-02-03</td>\n",
       "      <td>...</td>\n",
       "      <td>8</td>\n",
       "      <td>11</td>\n",
       "      <td>0</td>\n",
       "      <td>0.0</td>\n",
       "      <td>0</td>\n",
       "      <td>0</td>\n",
       "      <td>0</td>\n",
       "      <td>0</td>\n",
       "      <td>0</td>\n",
       "      <td>0</td>\n",
       "    </tr>\n",
       "    <tr>\n",
       "      <th>2023-12-18</th>\n",
       "      <td>TELECOMM TELEGRAFOS (APPRIZA)_MEXICO</td>\n",
       "      <td>TELECOMM TELEGRAFOS (APPRIZA)</td>\n",
       "      <td>MEXICO</td>\n",
       "      <td>1126</td>\n",
       "      <td>618819.35</td>\n",
       "      <td>18</td>\n",
       "      <td>2785.5887</td>\n",
       "      <td>2023-12-18</td>\n",
       "      <td>2.4739</td>\n",
       "      <td>2024-02-03</td>\n",
       "      <td>...</td>\n",
       "      <td>-9</td>\n",
       "      <td>8</td>\n",
       "      <td>0</td>\n",
       "      <td>0.0</td>\n",
       "      <td>0</td>\n",
       "      <td>0</td>\n",
       "      <td>0</td>\n",
       "      <td>0</td>\n",
       "      <td>0</td>\n",
       "      <td>0</td>\n",
       "    </tr>\n",
       "    <tr>\n",
       "      <th>2023-12-19</th>\n",
       "      <td>TELECOMM TELEGRAFOS (APPRIZA)_MEXICO</td>\n",
       "      <td>TELECOMM TELEGRAFOS (APPRIZA)</td>\n",
       "      <td>MEXICO</td>\n",
       "      <td>933</td>\n",
       "      <td>521118.11</td>\n",
       "      <td>19</td>\n",
       "      <td>4396.7569</td>\n",
       "      <td>2023-12-19</td>\n",
       "      <td>4.7125</td>\n",
       "      <td>2024-02-03</td>\n",
       "      <td>...</td>\n",
       "      <td>2</td>\n",
       "      <td>-9</td>\n",
       "      <td>0</td>\n",
       "      <td>0.0</td>\n",
       "      <td>0</td>\n",
       "      <td>0</td>\n",
       "      <td>0</td>\n",
       "      <td>0</td>\n",
       "      <td>0</td>\n",
       "      <td>0</td>\n",
       "    </tr>\n",
       "    <tr>\n",
       "      <th>2023-12-20</th>\n",
       "      <td>TELECOMM TELEGRAFOS (APPRIZA)_MEXICO</td>\n",
       "      <td>TELECOMM TELEGRAFOS (APPRIZA)</td>\n",
       "      <td>MEXICO</td>\n",
       "      <td>886</td>\n",
       "      <td>482785.23</td>\n",
       "      <td>24</td>\n",
       "      <td>3448.0035</td>\n",
       "      <td>2023-12-20</td>\n",
       "      <td>3.8917</td>\n",
       "      <td>2024-02-03</td>\n",
       "      <td>...</td>\n",
       "      <td>-3</td>\n",
       "      <td>2</td>\n",
       "      <td>0</td>\n",
       "      <td>0.0</td>\n",
       "      <td>0</td>\n",
       "      <td>0</td>\n",
       "      <td>0</td>\n",
       "      <td>0</td>\n",
       "      <td>0</td>\n",
       "      <td>0</td>\n",
       "    </tr>\n",
       "  </tbody>\n",
       "</table>\n",
       "<p>18 rows × 210 columns</p>\n",
       "</div>"
      ],
      "text/plain": [
       "                                   payer_country  \\\n",
       "date                                               \n",
       "2023-12-03  TELECOMM TELEGRAFOS (APPRIZA)_MEXICO   \n",
       "2023-12-04  TELECOMM TELEGRAFOS (APPRIZA)_MEXICO   \n",
       "2023-12-05  TELECOMM TELEGRAFOS (APPRIZA)_MEXICO   \n",
       "2023-12-06  TELECOMM TELEGRAFOS (APPRIZA)_MEXICO   \n",
       "2023-12-07  TELECOMM TELEGRAFOS (APPRIZA)_MEXICO   \n",
       "2023-12-08  TELECOMM TELEGRAFOS (APPRIZA)_MEXICO   \n",
       "2023-12-09  TELECOMM TELEGRAFOS (APPRIZA)_MEXICO   \n",
       "2023-12-10  TELECOMM TELEGRAFOS (APPRIZA)_MEXICO   \n",
       "2023-12-11  TELECOMM TELEGRAFOS (APPRIZA)_MEXICO   \n",
       "2023-12-12  TELECOMM TELEGRAFOS (APPRIZA)_MEXICO   \n",
       "2023-12-13  TELECOMM TELEGRAFOS (APPRIZA)_MEXICO   \n",
       "2023-12-14  TELECOMM TELEGRAFOS (APPRIZA)_MEXICO   \n",
       "2023-12-15  TELECOMM TELEGRAFOS (APPRIZA)_MEXICO   \n",
       "2023-12-16  TELECOMM TELEGRAFOS (APPRIZA)_MEXICO   \n",
       "2023-12-17  TELECOMM TELEGRAFOS (APPRIZA)_MEXICO   \n",
       "2023-12-18  TELECOMM TELEGRAFOS (APPRIZA)_MEXICO   \n",
       "2023-12-19  TELECOMM TELEGRAFOS (APPRIZA)_MEXICO   \n",
       "2023-12-20  TELECOMM TELEGRAFOS (APPRIZA)_MEXICO   \n",
       "\n",
       "                                    payer country    tx     amount  \\\n",
       "date                                                                 \n",
       "2023-12-03  TELECOMM TELEGRAFOS (APPRIZA)  MEXICO  1086  665224.66   \n",
       "2023-12-04  TELECOMM TELEGRAFOS (APPRIZA)  MEXICO   995  590756.26   \n",
       "2023-12-05  TELECOMM TELEGRAFOS (APPRIZA)  MEXICO   836  547966.06   \n",
       "2023-12-06  TELECOMM TELEGRAFOS (APPRIZA)  MEXICO   777  506516.58   \n",
       "2023-12-07  TELECOMM TELEGRAFOS (APPRIZA)  MEXICO   765  521352.94   \n",
       "2023-12-08  TELECOMM TELEGRAFOS (APPRIZA)  MEXICO   905  537220.52   \n",
       "2023-12-09  TELECOMM TELEGRAFOS (APPRIZA)  MEXICO   905  547987.90   \n",
       "2023-12-10  TELECOMM TELEGRAFOS (APPRIZA)  MEXICO  1199  679383.31   \n",
       "2023-12-11  TELECOMM TELEGRAFOS (APPRIZA)  MEXICO  1050  595237.32   \n",
       "2023-12-12  TELECOMM TELEGRAFOS (APPRIZA)  MEXICO   699  433461.13   \n",
       "2023-12-13  TELECOMM TELEGRAFOS (APPRIZA)  MEXICO   689  453096.11   \n",
       "2023-12-14  TELECOMM TELEGRAFOS (APPRIZA)  MEXICO   617  386537.59   \n",
       "2023-12-15  TELECOMM TELEGRAFOS (APPRIZA)  MEXICO   869  471159.09   \n",
       "2023-12-16  TELECOMM TELEGRAFOS (APPRIZA)  MEXICO   918  567509.19   \n",
       "2023-12-17  TELECOMM TELEGRAFOS (APPRIZA)  MEXICO  1216  659810.98   \n",
       "2023-12-18  TELECOMM TELEGRAFOS (APPRIZA)  MEXICO  1126  618819.35   \n",
       "2023-12-19  TELECOMM TELEGRAFOS (APPRIZA)  MEXICO   933  521118.11   \n",
       "2023-12-20  TELECOMM TELEGRAFOS (APPRIZA)  MEXICO   886  482785.23   \n",
       "\n",
       "            coupon_count         gp       day_x  margin     max_day  ...  \\\n",
       "date                                                                 ...   \n",
       "2023-12-03            21  8243.0265  2023-12-03  7.5903  2024-02-03  ...   \n",
       "2023-12-04            23  7236.8952  2023-12-04  7.2733  2024-02-03  ...   \n",
       "2023-12-05            18  1487.2508  2023-12-05  1.7790  2024-02-03  ...   \n",
       "2023-12-06            16  5493.2843  2023-12-06  7.0699  2024-02-03  ...   \n",
       "2023-12-07            10  5244.9748  2023-12-07  6.8562  2024-02-03  ...   \n",
       "2023-12-08            14  4357.7974  2023-12-08  4.8152  2024-02-03  ...   \n",
       "2023-12-09            19  4044.0445  2023-12-09  4.4686  2024-02-03  ...   \n",
       "2023-12-10            10  5414.7753  2023-12-10  4.5161  2024-02-03  ...   \n",
       "2023-12-11            16  2923.2505  2023-12-11  2.7840  2024-02-03  ...   \n",
       "2023-12-12            10  2609.4072  2023-12-12  3.7331  2024-02-03  ...   \n",
       "2023-12-13            20  1767.5735  2023-12-13  2.5654  2024-02-03  ...   \n",
       "2023-12-14            14  1668.7566  2023-12-14  2.7046  2024-02-03  ...   \n",
       "2023-12-15            18  3500.7065  2023-12-15  4.0284  2024-02-03  ...   \n",
       "2023-12-16            15  3427.3764  2023-12-16  3.7335  2024-02-03  ...   \n",
       "2023-12-17            30  4200.6722  2023-12-17  3.4545  2024-02-03  ...   \n",
       "2023-12-18            18  2785.5887  2023-12-18  2.4739  2024-02-03  ...   \n",
       "2023-12-19            19  4396.7569  2023-12-19  4.7125  2024-02-03  ...   \n",
       "2023-12-20            24  3448.0035  2023-12-20  3.8917  2024-02-03  ...   \n",
       "\n",
       "            var_tx_cancelled_lag_28  var_tx_cancelled_lag_29  is_holiday  \\\n",
       "date                                                                       \n",
       "2023-12-03                      -16                        7           0   \n",
       "2023-12-04                        3                      -16           0   \n",
       "2023-12-05                        0                        3           0   \n",
       "2023-12-06                       15                        0           0   \n",
       "2023-12-07                      -14                       15           0   \n",
       "2023-12-08                       19                      -14           0   \n",
       "2023-12-09                      -12                       19           0   \n",
       "2023-12-10                      -12                      -12           0   \n",
       "2023-12-11                       15                      -12           0   \n",
       "2023-12-12                      -20                       15           0   \n",
       "2023-12-13                       10                      -20           0   \n",
       "2023-12-14                       -9                       10           0   \n",
       "2023-12-15                       11                       -9           0   \n",
       "2023-12-16                       11                       11           0   \n",
       "2023-12-17                        8                       11           0   \n",
       "2023-12-18                       -9                        8           0   \n",
       "2023-12-19                        2                       -9           0   \n",
       "2023-12-20                       -3                        2           0   \n",
       "\n",
       "            var_30ds  post_holiday  is_fourth_of_july  christmas_day  \\\n",
       "date                                                                   \n",
       "2023-12-03       0.0             0                  0              0   \n",
       "2023-12-04       0.0             0                  0              0   \n",
       "2023-12-05       0.0             0                  0              0   \n",
       "2023-12-06       0.0             0                  0              0   \n",
       "2023-12-07       0.0             0                  0              0   \n",
       "2023-12-08       0.0             0                  0              0   \n",
       "2023-12-09       0.0             0                  0              0   \n",
       "2023-12-10       0.0             0                  0              0   \n",
       "2023-12-11       0.0             0                  0              0   \n",
       "2023-12-12       0.0             0                  0              0   \n",
       "2023-12-13       0.0             0                  0              0   \n",
       "2023-12-14       0.0             0                  0              0   \n",
       "2023-12-15       0.0             0                  0              0   \n",
       "2023-12-16       0.0             0                  0              0   \n",
       "2023-12-17       0.0             0                  0              0   \n",
       "2023-12-18       0.0             0                  0              0   \n",
       "2023-12-19       0.0             0                  0              0   \n",
       "2023-12-20       0.0             0                  0              0   \n",
       "\n",
       "            new_year_day  thanksgiving_day  day_of_the_dead  \n",
       "date                                                         \n",
       "2023-12-03             0                 0                0  \n",
       "2023-12-04             0                 0                0  \n",
       "2023-12-05             0                 0                0  \n",
       "2023-12-06             0                 0                0  \n",
       "2023-12-07             0                 0                0  \n",
       "2023-12-08             0                 0                0  \n",
       "2023-12-09             0                 0                0  \n",
       "2023-12-10             0                 0                0  \n",
       "2023-12-11             0                 0                0  \n",
       "2023-12-12             0                 0                0  \n",
       "2023-12-13             0                 0                0  \n",
       "2023-12-14             0                 0                0  \n",
       "2023-12-15             0                 0                0  \n",
       "2023-12-16             0                 0                0  \n",
       "2023-12-17             0                 0                0  \n",
       "2023-12-18             0                 0                0  \n",
       "2023-12-19             0                 0                0  \n",
       "2023-12-20             0                 0                0  \n",
       "\n",
       "[18 rows x 210 columns]"
      ]
     },
     "execution_count": 35,
     "metadata": {},
     "output_type": "execute_result"
    }
   ],
   "source": [
    "datos.tail(18)"
   ]
  },
  {
   "cell_type": "code",
   "execution_count": 36,
   "id": "1f5e733f-9dbf-425e-8d1b-b5f97791ce37",
   "metadata": {
    "tags": []
   },
   "outputs": [
    {
     "data": {
      "text/plain": [
       "Timestamp('2023-12-19 00:00:00')"
      ]
     },
     "execution_count": 36,
     "metadata": {},
     "output_type": "execute_result"
    }
   ],
   "source": [
    "data_last_window.index.min()"
   ]
  },
  {
   "cell_type": "code",
   "execution_count": 37,
   "id": "26c0af31-a097-448e-80dc-4fd177366ef8",
   "metadata": {
    "tags": []
   },
   "outputs": [
    {
     "data": {
      "text/plain": [
       "['tx_lag_2',\n",
       " 'tx_lag_3',\n",
       " 'tx_lag_5',\n",
       " 'tx_lag_7',\n",
       " 'tx_lag_10',\n",
       " 'tx_lag_14',\n",
       " 'tx_lag_21',\n",
       " 'margin_lag_10',\n",
       " 'is_holiday',\n",
       " 'is_fourth_of_july',\n",
       " 'var_30ds',\n",
       " 'christmas_day',\n",
       " 'new_year_day']"
      ]
     },
     "execution_count": 37,
     "metadata": {},
     "output_type": "execute_result"
    }
   ],
   "source": [
    "forecaster.exog_col_names"
   ]
  },
  {
   "cell_type": "code",
   "execution_count": 38,
   "id": "1433549e-1ab0-4330-8aa9-863c8acda95d",
   "metadata": {
    "tags": []
   },
   "outputs": [
    {
     "data": {
      "text/html": [
       "<div>\n",
       "<style scoped>\n",
       "    .dataframe tbody tr th:only-of-type {\n",
       "        vertical-align: middle;\n",
       "    }\n",
       "\n",
       "    .dataframe tbody tr th {\n",
       "        vertical-align: top;\n",
       "    }\n",
       "\n",
       "    .dataframe thead th {\n",
       "        text-align: right;\n",
       "    }\n",
       "</style>\n",
       "<table border=\"1\" class=\"dataframe\">\n",
       "  <thead>\n",
       "    <tr style=\"text-align: right;\">\n",
       "      <th></th>\n",
       "      <th>index</th>\n",
       "      <th>pred</th>\n",
       "      <th>payer_country</th>\n",
       "      <th>model</th>\n",
       "    </tr>\n",
       "  </thead>\n",
       "  <tbody>\n",
       "  </tbody>\n",
       "</table>\n",
       "</div>"
      ],
      "text/plain": [
       "Empty DataFrame\n",
       "Columns: [index, pred, payer_country, model]\n",
       "Index: []"
      ]
     },
     "execution_count": 38,
     "metadata": {},
     "output_type": "execute_result"
    }
   ],
   "source": [
    "temp_df[temp_df['pred'] < 0]"
   ]
  },
  {
   "cell_type": "code",
   "execution_count": 39,
   "id": "358ccc71-51c0-4b8a-994a-393920a7c5f2",
   "metadata": {
    "tags": []
   },
   "outputs": [],
   "source": [
    "# Replace values in 'pred' column with 0 where 'pred' is less than 0\n",
    "temp_df.loc[temp_df['pred'] < 0, 'pred'] = 0"
   ]
  },
  {
   "cell_type": "code",
   "execution_count": 40,
   "id": "cfd46127-a12e-4f27-b1b4-7486d6cebf1b",
   "metadata": {
    "tags": []
   },
   "outputs": [],
   "source": [
    "# Convert 'index' column to date format\n",
    "temp_df['index'] = pd.to_datetime(temp_df['index']).dt.date"
   ]
  },
  {
   "cell_type": "code",
   "execution_count": 41,
   "id": "6df0d428-34ee-405a-8704-2ec2f734fbbf",
   "metadata": {
    "tags": []
   },
   "outputs": [
    {
     "data": {
      "text/html": [
       "<div>\n",
       "<style scoped>\n",
       "    .dataframe tbody tr th:only-of-type {\n",
       "        vertical-align: middle;\n",
       "    }\n",
       "\n",
       "    .dataframe tbody tr th {\n",
       "        vertical-align: top;\n",
       "    }\n",
       "\n",
       "    .dataframe thead th {\n",
       "        text-align: right;\n",
       "    }\n",
       "</style>\n",
       "<table border=\"1\" class=\"dataframe\">\n",
       "  <thead>\n",
       "    <tr style=\"text-align: right;\">\n",
       "      <th></th>\n",
       "      <th>index</th>\n",
       "      <th>pred</th>\n",
       "      <th>payer_country</th>\n",
       "      <th>model</th>\n",
       "    </tr>\n",
       "  </thead>\n",
       "  <tbody>\n",
       "    <tr>\n",
       "      <th>0</th>\n",
       "      <td>2024-01-25</td>\n",
       "      <td>0</td>\n",
       "      <td>TELECOMM TELEGRAFOS (APPRIZA)_MEXICO</td>\n",
       "      <td>MODEL_2d_TELECOMM TELEGRAFOS (APPRIZA)_MEXICO_...</td>\n",
       "    </tr>\n",
       "    <tr>\n",
       "      <th>1</th>\n",
       "      <td>2024-01-26</td>\n",
       "      <td>0</td>\n",
       "      <td>TELECOMM TELEGRAFOS (APPRIZA)_MEXICO</td>\n",
       "      <td>MODEL_2d_TELECOMM TELEGRAFOS (APPRIZA)_MEXICO_...</td>\n",
       "    </tr>\n",
       "  </tbody>\n",
       "</table>\n",
       "</div>"
      ],
      "text/plain": [
       "        index  pred                         payer_country  \\\n",
       "0  2024-01-25     0  TELECOMM TELEGRAFOS (APPRIZA)_MEXICO   \n",
       "1  2024-01-26     0  TELECOMM TELEGRAFOS (APPRIZA)_MEXICO   \n",
       "\n",
       "                                               model  \n",
       "0  MODEL_2d_TELECOMM TELEGRAFOS (APPRIZA)_MEXICO_...  \n",
       "1  MODEL_2d_TELECOMM TELEGRAFOS (APPRIZA)_MEXICO_...  "
      ]
     },
     "execution_count": 41,
     "metadata": {},
     "output_type": "execute_result"
    }
   ],
   "source": [
    "temp_df.head(4)"
   ]
  },
  {
   "cell_type": "code",
   "execution_count": 42,
   "id": "eb138f46-785e-4708-a3ca-3e84c7aa24f6",
   "metadata": {},
   "outputs": [
    {
     "ename": "NameError",
     "evalue": "name 'stop' is not defined",
     "output_type": "error",
     "traceback": [
      "\u001b[0;31m---------------------------------------------------------------------------\u001b[0m",
      "\u001b[0;31mNameError\u001b[0m                                 Traceback (most recent call last)",
      "Cell \u001b[0;32mIn[42], line 1\u001b[0m\n\u001b[0;32m----> 1\u001b[0m \u001b[43mstop\u001b[49m\n",
      "\u001b[0;31mNameError\u001b[0m: name 'stop' is not defined"
     ]
    }
   ],
   "source": [
    "stop"
   ]
  },
  {
   "cell_type": "code",
   "execution_count": null,
   "id": "6a5d46f9-fb93-4ba9-8c2f-2970105c1dfa",
   "metadata": {
    "tags": []
   },
   "outputs": [],
   "source": [
    "temp_df.rename(columns={'index':'pred_date'}, inplace=True)"
   ]
  },
  {
   "cell_type": "code",
   "execution_count": null,
   "id": "adde2bf2-f251-49e1-af1d-a5906f4c8ad7",
   "metadata": {
    "tags": []
   },
   "outputs": [],
   "source": [
    "temp_df"
   ]
  },
  {
   "cell_type": "code",
   "execution_count": null,
   "id": "d5115282-2d4c-4ceb-8670-d5613efc4063",
   "metadata": {
    "tags": []
   },
   "outputs": [],
   "source": [
    "data_test"
   ]
  },
  {
   "cell_type": "code",
   "execution_count": null,
   "id": "81f6e3d5-376d-41af-9c42-c38644d72d41",
   "metadata": {
    "tags": []
   },
   "outputs": [],
   "source": [
    "forecaster.exog_col_names"
   ]
  },
  {
   "cell_type": "code",
   "execution_count": null,
   "id": "3c0783ae-5166-4208-bdd1-724e177405ad",
   "metadata": {
    "tags": []
   },
   "outputs": [],
   "source": [
    "forecaster.last_window"
   ]
  },
  {
   "cell_type": "code",
   "execution_count": null,
   "id": "74397e19-98b3-4948-937a-5658acb5521a",
   "metadata": {
    "tags": []
   },
   "outputs": [],
   "source": [
    "#print(pkl_files)"
   ]
  },
  {
   "cell_type": "code",
   "execution_count": null,
   "id": "d94193ea-7228-417c-8fad-30ceab99e8f8",
   "metadata": {
    "tags": []
   },
   "outputs": [],
   "source": [
    "data_last_window.index.max()\n",
    "#test_date"
   ]
  },
  {
   "cell_type": "code",
   "execution_count": null,
   "id": "8cbf1370-54ad-43ce-b68a-6b6a41e1b426",
   "metadata": {
    "tags": []
   },
   "outputs": [],
   "source": [
    "payer_countries_pinched"
   ]
  },
  {
   "cell_type": "code",
   "execution_count": null,
   "id": "b15b642a-2119-4102-829a-e2044b66f801",
   "metadata": {
    "tags": []
   },
   "outputs": [],
   "source": [
    "temp_df[temp_df['pred'] < 0]"
   ]
  },
  {
   "cell_type": "code",
   "execution_count": null,
   "id": "a00be102-5250-4477-8d58-7767b039f6c9",
   "metadata": {
    "tags": []
   },
   "outputs": [],
   "source": [
    "# Replace values in 'pred' column with 0 where 'pred' is less than 0\n",
    "temp_df.loc[temp_df['pred'] < 0, 'pred'] = 0"
   ]
  },
  {
   "cell_type": "code",
   "execution_count": null,
   "id": "4bd3f5a8-3a7e-4939-b261-ee45af7f9f5d",
   "metadata": {
    "tags": []
   },
   "outputs": [],
   "source": [
    "# Convert 'index' column to date format\n",
    "temp_df['index'] = pd.to_datetime(temp_df['index']).dt.date"
   ]
  },
  {
   "cell_type": "code",
   "execution_count": null,
   "id": "9c8cc489-4819-42d3-a523-cd97534f180a",
   "metadata": {
    "tags": []
   },
   "outputs": [],
   "source": [
    "temp_df.head(4)"
   ]
  },
  {
   "cell_type": "code",
   "execution_count": null,
   "id": "390fb1f8-dfea-4c71-8642-da145b185cb3",
   "metadata": {
    "tags": []
   },
   "outputs": [],
   "source": [
    "temp_df.rename(columns={'index':'pred_date'}, inplace=True)"
   ]
  },
  {
   "cell_type": "code",
   "execution_count": null,
   "id": "e72d3009-ad50-4c87-b525-e13f37c7dcbe",
   "metadata": {},
   "outputs": [],
   "source": [
    "temp_df"
   ]
  },
  {
   "cell_type": "code",
   "execution_count": null,
   "id": "9540f5e6-b394-4012-a15d-87856d323004",
   "metadata": {},
   "outputs": [],
   "source": [
    "stop"
   ]
  },
  {
   "cell_type": "markdown",
   "id": "51b95f16-982d-47ed-9895-8f53bd6b7049",
   "metadata": {},
   "source": [
    "### ADD ID_COUNTRY AND ID_PAYER FROM DAILY_CHECK_GP TABLE"
   ]
  },
  {
   "cell_type": "code",
   "execution_count": null,
   "id": "7ce2b050-f5df-4172-912a-751525ef175a",
   "metadata": {
    "tags": []
   },
   "outputs": [],
   "source": [
    "# DB Setting\n",
    "bucket_name = 's3://viamericas-datalake-dev-us-east-1-283731589572-athena/'\n",
    "origin_name = 'AwsDataCatalog'\n",
    "database_name= 'analytics'\n",
    "table_name = 'daily_check_gp'"
   ]
  },
  {
   "cell_type": "code",
   "execution_count": null,
   "id": "29815dcf-84e2-4799-b935-35a3a2ef98d0",
   "metadata": {
    "tags": []
   },
   "outputs": [],
   "source": [
    "df = wr.athena.read_sql_table(\n",
    "    table=table_name,\n",
    "    database=database_name,\n",
    ")"
   ]
  },
  {
   "cell_type": "code",
   "execution_count": null,
   "id": "6ec44790-9a38-4a11-9870-331890083d3c",
   "metadata": {
    "tags": []
   },
   "outputs": [],
   "source": [
    "df['payer_country'] = df['payer'] + '_' + df['country']"
   ]
  },
  {
   "cell_type": "code",
   "execution_count": null,
   "id": "fb9e4764-84c1-4ec1-b2ae-c088d8c07efc",
   "metadata": {
    "tags": []
   },
   "outputs": [],
   "source": [
    "df_id = df[['payer_country', 'id_main_branch', 'id_country']].drop_duplicates().dropna(subset='id_main_branch')"
   ]
  },
  {
   "cell_type": "code",
   "execution_count": null,
   "id": "38d4adad-f379-4627-9a84-52de8da52438",
   "metadata": {
    "tags": []
   },
   "outputs": [],
   "source": [
    "len(df_id)"
   ]
  },
  {
   "cell_type": "code",
   "execution_count": null,
   "id": "ab02e40b-8fff-480d-8665-54bd969e51d8",
   "metadata": {
    "tags": []
   },
   "outputs": [],
   "source": [
    "df_final = pd.merge(temp_df, df_id, on='payer_country', how='left')"
   ]
  },
  {
   "cell_type": "code",
   "execution_count": null,
   "id": "f7c8396a-f418-4be9-bade-0f4d23877d82",
   "metadata": {
    "tags": []
   },
   "outputs": [],
   "source": [
    "# Insertar la columna 'processing_date' al principio del DataFrame\n",
    "df_final.insert(0, 'processing_date', today)"
   ]
  },
  {
   "cell_type": "code",
   "execution_count": null,
   "id": "256e6973-84ad-4eb0-aaa6-f3ef4e0e9b21",
   "metadata": {
    "tags": []
   },
   "outputs": [],
   "source": [
    "df_final['processing_date'] = pd.to_datetime(df_final['processing_date'] )"
   ]
  },
  {
   "cell_type": "code",
   "execution_count": null,
   "id": "579d734a-ffc7-4990-a033-a3085443c0b4",
   "metadata": {
    "tags": []
   },
   "outputs": [],
   "source": [
    "df_final['id_country'].isnull().sum()"
   ]
  },
  {
   "cell_type": "code",
   "execution_count": null,
   "id": "413ecc4a-a720-4c85-bab1-fbf41154e756",
   "metadata": {
    "tags": []
   },
   "outputs": [],
   "source": [
    "df_final['id_main_branch'].isnull().sum()"
   ]
  },
  {
   "cell_type": "code",
   "execution_count": null,
   "id": "2d7e653c-9831-4a53-8436-b89f729a1c55",
   "metadata": {
    "tags": []
   },
   "outputs": [],
   "source": [
    "# Splitting 'payer' & 'country'\n",
    "df_final[['payer', 'country']] = df_final['payer_country'].str.split('_', expand=True)"
   ]
  },
  {
   "cell_type": "code",
   "execution_count": null,
   "id": "85ac0c2e-fea5-42fc-88b6-f8814ae20e6f",
   "metadata": {
    "tags": []
   },
   "outputs": [],
   "source": [
    "df_final.head()"
   ]
  },
  {
   "cell_type": "code",
   "execution_count": null,
   "id": "1ae96aad-0cdc-4f23-81b4-a5944d97db22",
   "metadata": {
    "tags": []
   },
   "outputs": [],
   "source": [
    "df_final.info()"
   ]
  },
  {
   "cell_type": "code",
   "execution_count": null,
   "id": "77786f01-08aa-4fa2-997b-bf55b207ce28",
   "metadata": {
    "tags": []
   },
   "outputs": [],
   "source": [
    "df_final.pred.sum()"
   ]
  },
  {
   "cell_type": "markdown",
   "id": "d16e25f6-41e2-424a-b59a-ff3fa3a7204c",
   "metadata": {},
   "source": [
    "### SAVE THE INFERENCES OF JANUARY 28TH AND 29TH\n",
    "##### THIS IS THE INPUT FOR ADDING MAPES TO HISTORIC MAPES EXCEL"
   ]
  },
  {
   "cell_type": "code",
   "execution_count": null,
   "id": "ae7bc499-8d92-4fe2-b0fd-be28f1b0e356",
   "metadata": {
    "tags": []
   },
   "outputs": [],
   "source": [
    "bucket_name = 'viamericas-datalake-dev-us-east-1-283731589572-analytics'\n",
    "path_inference = '/ABTv3_update/' # Folder under analysis"
   ]
  },
  {
   "cell_type": "code",
   "execution_count": null,
   "id": "a2e8dac6-031b-4c11-81ab-9a79815064b2",
   "metadata": {
    "tags": []
   },
   "outputs": [],
   "source": [
    "#wr.s3.to_csv(\n",
    "    df=df_final,\n",
    "    path='s3://viamericas-datalake-dev-us-east-1-283731589572-analytics/ABTv3_update/Inferences_2d/predictions_2d.csv',\n",
    "    dataset=False,\n",
    "    index=False\n",
    ")"
   ]
  },
  {
   "cell_type": "code",
   "execution_count": null,
   "id": "5a6e5555-42b4-4398-b383-c468842ac8c3",
   "metadata": {},
   "outputs": [],
   "source": [
    "control=df_final.loc[df_final.payer_country==\"GIROSMEX_MEXICO\"]"
   ]
  },
  {
   "cell_type": "code",
   "execution_count": null,
   "id": "580021be-1778-40b0-bdb6-3fe0123092bd",
   "metadata": {
    "tags": []
   },
   "outputs": [],
   "source": [
    "control"
   ]
  }
 ],
 "metadata": {
  "availableInstances": [
   {
    "_defaultOrder": 0,
    "_isFastLaunch": true,
    "category": "General purpose",
    "gpuNum": 0,
    "hideHardwareSpecs": false,
    "memoryGiB": 4,
    "name": "ml.t3.medium",
    "vcpuNum": 2
   },
   {
    "_defaultOrder": 1,
    "_isFastLaunch": false,
    "category": "General purpose",
    "gpuNum": 0,
    "hideHardwareSpecs": false,
    "memoryGiB": 8,
    "name": "ml.t3.large",
    "vcpuNum": 2
   },
   {
    "_defaultOrder": 2,
    "_isFastLaunch": false,
    "category": "General purpose",
    "gpuNum": 0,
    "hideHardwareSpecs": false,
    "memoryGiB": 16,
    "name": "ml.t3.xlarge",
    "vcpuNum": 4
   },
   {
    "_defaultOrder": 3,
    "_isFastLaunch": false,
    "category": "General purpose",
    "gpuNum": 0,
    "hideHardwareSpecs": false,
    "memoryGiB": 32,
    "name": "ml.t3.2xlarge",
    "vcpuNum": 8
   },
   {
    "_defaultOrder": 4,
    "_isFastLaunch": true,
    "category": "General purpose",
    "gpuNum": 0,
    "hideHardwareSpecs": false,
    "memoryGiB": 8,
    "name": "ml.m5.large",
    "vcpuNum": 2
   },
   {
    "_defaultOrder": 5,
    "_isFastLaunch": false,
    "category": "General purpose",
    "gpuNum": 0,
    "hideHardwareSpecs": false,
    "memoryGiB": 16,
    "name": "ml.m5.xlarge",
    "vcpuNum": 4
   },
   {
    "_defaultOrder": 6,
    "_isFastLaunch": false,
    "category": "General purpose",
    "gpuNum": 0,
    "hideHardwareSpecs": false,
    "memoryGiB": 32,
    "name": "ml.m5.2xlarge",
    "vcpuNum": 8
   },
   {
    "_defaultOrder": 7,
    "_isFastLaunch": false,
    "category": "General purpose",
    "gpuNum": 0,
    "hideHardwareSpecs": false,
    "memoryGiB": 64,
    "name": "ml.m5.4xlarge",
    "vcpuNum": 16
   },
   {
    "_defaultOrder": 8,
    "_isFastLaunch": false,
    "category": "General purpose",
    "gpuNum": 0,
    "hideHardwareSpecs": false,
    "memoryGiB": 128,
    "name": "ml.m5.8xlarge",
    "vcpuNum": 32
   },
   {
    "_defaultOrder": 9,
    "_isFastLaunch": false,
    "category": "General purpose",
    "gpuNum": 0,
    "hideHardwareSpecs": false,
    "memoryGiB": 192,
    "name": "ml.m5.12xlarge",
    "vcpuNum": 48
   },
   {
    "_defaultOrder": 10,
    "_isFastLaunch": false,
    "category": "General purpose",
    "gpuNum": 0,
    "hideHardwareSpecs": false,
    "memoryGiB": 256,
    "name": "ml.m5.16xlarge",
    "vcpuNum": 64
   },
   {
    "_defaultOrder": 11,
    "_isFastLaunch": false,
    "category": "General purpose",
    "gpuNum": 0,
    "hideHardwareSpecs": false,
    "memoryGiB": 384,
    "name": "ml.m5.24xlarge",
    "vcpuNum": 96
   },
   {
    "_defaultOrder": 12,
    "_isFastLaunch": false,
    "category": "General purpose",
    "gpuNum": 0,
    "hideHardwareSpecs": false,
    "memoryGiB": 8,
    "name": "ml.m5d.large",
    "vcpuNum": 2
   },
   {
    "_defaultOrder": 13,
    "_isFastLaunch": false,
    "category": "General purpose",
    "gpuNum": 0,
    "hideHardwareSpecs": false,
    "memoryGiB": 16,
    "name": "ml.m5d.xlarge",
    "vcpuNum": 4
   },
   {
    "_defaultOrder": 14,
    "_isFastLaunch": false,
    "category": "General purpose",
    "gpuNum": 0,
    "hideHardwareSpecs": false,
    "memoryGiB": 32,
    "name": "ml.m5d.2xlarge",
    "vcpuNum": 8
   },
   {
    "_defaultOrder": 15,
    "_isFastLaunch": false,
    "category": "General purpose",
    "gpuNum": 0,
    "hideHardwareSpecs": false,
    "memoryGiB": 64,
    "name": "ml.m5d.4xlarge",
    "vcpuNum": 16
   },
   {
    "_defaultOrder": 16,
    "_isFastLaunch": false,
    "category": "General purpose",
    "gpuNum": 0,
    "hideHardwareSpecs": false,
    "memoryGiB": 128,
    "name": "ml.m5d.8xlarge",
    "vcpuNum": 32
   },
   {
    "_defaultOrder": 17,
    "_isFastLaunch": false,
    "category": "General purpose",
    "gpuNum": 0,
    "hideHardwareSpecs": false,
    "memoryGiB": 192,
    "name": "ml.m5d.12xlarge",
    "vcpuNum": 48
   },
   {
    "_defaultOrder": 18,
    "_isFastLaunch": false,
    "category": "General purpose",
    "gpuNum": 0,
    "hideHardwareSpecs": false,
    "memoryGiB": 256,
    "name": "ml.m5d.16xlarge",
    "vcpuNum": 64
   },
   {
    "_defaultOrder": 19,
    "_isFastLaunch": false,
    "category": "General purpose",
    "gpuNum": 0,
    "hideHardwareSpecs": false,
    "memoryGiB": 384,
    "name": "ml.m5d.24xlarge",
    "vcpuNum": 96
   },
   {
    "_defaultOrder": 20,
    "_isFastLaunch": false,
    "category": "General purpose",
    "gpuNum": 0,
    "hideHardwareSpecs": true,
    "memoryGiB": 0,
    "name": "ml.geospatial.interactive",
    "supportedImageNames": [
     "sagemaker-geospatial-v1-0"
    ],
    "vcpuNum": 0
   },
   {
    "_defaultOrder": 21,
    "_isFastLaunch": true,
    "category": "Compute optimized",
    "gpuNum": 0,
    "hideHardwareSpecs": false,
    "memoryGiB": 4,
    "name": "ml.c5.large",
    "vcpuNum": 2
   },
   {
    "_defaultOrder": 22,
    "_isFastLaunch": false,
    "category": "Compute optimized",
    "gpuNum": 0,
    "hideHardwareSpecs": false,
    "memoryGiB": 8,
    "name": "ml.c5.xlarge",
    "vcpuNum": 4
   },
   {
    "_defaultOrder": 23,
    "_isFastLaunch": false,
    "category": "Compute optimized",
    "gpuNum": 0,
    "hideHardwareSpecs": false,
    "memoryGiB": 16,
    "name": "ml.c5.2xlarge",
    "vcpuNum": 8
   },
   {
    "_defaultOrder": 24,
    "_isFastLaunch": false,
    "category": "Compute optimized",
    "gpuNum": 0,
    "hideHardwareSpecs": false,
    "memoryGiB": 32,
    "name": "ml.c5.4xlarge",
    "vcpuNum": 16
   },
   {
    "_defaultOrder": 25,
    "_isFastLaunch": false,
    "category": "Compute optimized",
    "gpuNum": 0,
    "hideHardwareSpecs": false,
    "memoryGiB": 72,
    "name": "ml.c5.9xlarge",
    "vcpuNum": 36
   },
   {
    "_defaultOrder": 26,
    "_isFastLaunch": false,
    "category": "Compute optimized",
    "gpuNum": 0,
    "hideHardwareSpecs": false,
    "memoryGiB": 96,
    "name": "ml.c5.12xlarge",
    "vcpuNum": 48
   },
   {
    "_defaultOrder": 27,
    "_isFastLaunch": false,
    "category": "Compute optimized",
    "gpuNum": 0,
    "hideHardwareSpecs": false,
    "memoryGiB": 144,
    "name": "ml.c5.18xlarge",
    "vcpuNum": 72
   },
   {
    "_defaultOrder": 28,
    "_isFastLaunch": false,
    "category": "Compute optimized",
    "gpuNum": 0,
    "hideHardwareSpecs": false,
    "memoryGiB": 192,
    "name": "ml.c5.24xlarge",
    "vcpuNum": 96
   },
   {
    "_defaultOrder": 29,
    "_isFastLaunch": true,
    "category": "Accelerated computing",
    "gpuNum": 1,
    "hideHardwareSpecs": false,
    "memoryGiB": 16,
    "name": "ml.g4dn.xlarge",
    "vcpuNum": 4
   },
   {
    "_defaultOrder": 30,
    "_isFastLaunch": false,
    "category": "Accelerated computing",
    "gpuNum": 1,
    "hideHardwareSpecs": false,
    "memoryGiB": 32,
    "name": "ml.g4dn.2xlarge",
    "vcpuNum": 8
   },
   {
    "_defaultOrder": 31,
    "_isFastLaunch": false,
    "category": "Accelerated computing",
    "gpuNum": 1,
    "hideHardwareSpecs": false,
    "memoryGiB": 64,
    "name": "ml.g4dn.4xlarge",
    "vcpuNum": 16
   },
   {
    "_defaultOrder": 32,
    "_isFastLaunch": false,
    "category": "Accelerated computing",
    "gpuNum": 1,
    "hideHardwareSpecs": false,
    "memoryGiB": 128,
    "name": "ml.g4dn.8xlarge",
    "vcpuNum": 32
   },
   {
    "_defaultOrder": 33,
    "_isFastLaunch": false,
    "category": "Accelerated computing",
    "gpuNum": 4,
    "hideHardwareSpecs": false,
    "memoryGiB": 192,
    "name": "ml.g4dn.12xlarge",
    "vcpuNum": 48
   },
   {
    "_defaultOrder": 34,
    "_isFastLaunch": false,
    "category": "Accelerated computing",
    "gpuNum": 1,
    "hideHardwareSpecs": false,
    "memoryGiB": 256,
    "name": "ml.g4dn.16xlarge",
    "vcpuNum": 64
   },
   {
    "_defaultOrder": 35,
    "_isFastLaunch": false,
    "category": "Accelerated computing",
    "gpuNum": 1,
    "hideHardwareSpecs": false,
    "memoryGiB": 61,
    "name": "ml.p3.2xlarge",
    "vcpuNum": 8
   },
   {
    "_defaultOrder": 36,
    "_isFastLaunch": false,
    "category": "Accelerated computing",
    "gpuNum": 4,
    "hideHardwareSpecs": false,
    "memoryGiB": 244,
    "name": "ml.p3.8xlarge",
    "vcpuNum": 32
   },
   {
    "_defaultOrder": 37,
    "_isFastLaunch": false,
    "category": "Accelerated computing",
    "gpuNum": 8,
    "hideHardwareSpecs": false,
    "memoryGiB": 488,
    "name": "ml.p3.16xlarge",
    "vcpuNum": 64
   },
   {
    "_defaultOrder": 38,
    "_isFastLaunch": false,
    "category": "Accelerated computing",
    "gpuNum": 8,
    "hideHardwareSpecs": false,
    "memoryGiB": 768,
    "name": "ml.p3dn.24xlarge",
    "vcpuNum": 96
   },
   {
    "_defaultOrder": 39,
    "_isFastLaunch": false,
    "category": "Memory Optimized",
    "gpuNum": 0,
    "hideHardwareSpecs": false,
    "memoryGiB": 16,
    "name": "ml.r5.large",
    "vcpuNum": 2
   },
   {
    "_defaultOrder": 40,
    "_isFastLaunch": false,
    "category": "Memory Optimized",
    "gpuNum": 0,
    "hideHardwareSpecs": false,
    "memoryGiB": 32,
    "name": "ml.r5.xlarge",
    "vcpuNum": 4
   },
   {
    "_defaultOrder": 41,
    "_isFastLaunch": false,
    "category": "Memory Optimized",
    "gpuNum": 0,
    "hideHardwareSpecs": false,
    "memoryGiB": 64,
    "name": "ml.r5.2xlarge",
    "vcpuNum": 8
   },
   {
    "_defaultOrder": 42,
    "_isFastLaunch": false,
    "category": "Memory Optimized",
    "gpuNum": 0,
    "hideHardwareSpecs": false,
    "memoryGiB": 128,
    "name": "ml.r5.4xlarge",
    "vcpuNum": 16
   },
   {
    "_defaultOrder": 43,
    "_isFastLaunch": false,
    "category": "Memory Optimized",
    "gpuNum": 0,
    "hideHardwareSpecs": false,
    "memoryGiB": 256,
    "name": "ml.r5.8xlarge",
    "vcpuNum": 32
   },
   {
    "_defaultOrder": 44,
    "_isFastLaunch": false,
    "category": "Memory Optimized",
    "gpuNum": 0,
    "hideHardwareSpecs": false,
    "memoryGiB": 384,
    "name": "ml.r5.12xlarge",
    "vcpuNum": 48
   },
   {
    "_defaultOrder": 45,
    "_isFastLaunch": false,
    "category": "Memory Optimized",
    "gpuNum": 0,
    "hideHardwareSpecs": false,
    "memoryGiB": 512,
    "name": "ml.r5.16xlarge",
    "vcpuNum": 64
   },
   {
    "_defaultOrder": 46,
    "_isFastLaunch": false,
    "category": "Memory Optimized",
    "gpuNum": 0,
    "hideHardwareSpecs": false,
    "memoryGiB": 768,
    "name": "ml.r5.24xlarge",
    "vcpuNum": 96
   },
   {
    "_defaultOrder": 47,
    "_isFastLaunch": false,
    "category": "Accelerated computing",
    "gpuNum": 1,
    "hideHardwareSpecs": false,
    "memoryGiB": 16,
    "name": "ml.g5.xlarge",
    "vcpuNum": 4
   },
   {
    "_defaultOrder": 48,
    "_isFastLaunch": false,
    "category": "Accelerated computing",
    "gpuNum": 1,
    "hideHardwareSpecs": false,
    "memoryGiB": 32,
    "name": "ml.g5.2xlarge",
    "vcpuNum": 8
   },
   {
    "_defaultOrder": 49,
    "_isFastLaunch": false,
    "category": "Accelerated computing",
    "gpuNum": 1,
    "hideHardwareSpecs": false,
    "memoryGiB": 64,
    "name": "ml.g5.4xlarge",
    "vcpuNum": 16
   },
   {
    "_defaultOrder": 50,
    "_isFastLaunch": false,
    "category": "Accelerated computing",
    "gpuNum": 1,
    "hideHardwareSpecs": false,
    "memoryGiB": 128,
    "name": "ml.g5.8xlarge",
    "vcpuNum": 32
   },
   {
    "_defaultOrder": 51,
    "_isFastLaunch": false,
    "category": "Accelerated computing",
    "gpuNum": 1,
    "hideHardwareSpecs": false,
    "memoryGiB": 256,
    "name": "ml.g5.16xlarge",
    "vcpuNum": 64
   },
   {
    "_defaultOrder": 52,
    "_isFastLaunch": false,
    "category": "Accelerated computing",
    "gpuNum": 4,
    "hideHardwareSpecs": false,
    "memoryGiB": 192,
    "name": "ml.g5.12xlarge",
    "vcpuNum": 48
   },
   {
    "_defaultOrder": 53,
    "_isFastLaunch": false,
    "category": "Accelerated computing",
    "gpuNum": 4,
    "hideHardwareSpecs": false,
    "memoryGiB": 384,
    "name": "ml.g5.24xlarge",
    "vcpuNum": 96
   },
   {
    "_defaultOrder": 54,
    "_isFastLaunch": false,
    "category": "Accelerated computing",
    "gpuNum": 8,
    "hideHardwareSpecs": false,
    "memoryGiB": 768,
    "name": "ml.g5.48xlarge",
    "vcpuNum": 192
   },
   {
    "_defaultOrder": 55,
    "_isFastLaunch": false,
    "category": "Accelerated computing",
    "gpuNum": 8,
    "hideHardwareSpecs": false,
    "memoryGiB": 1152,
    "name": "ml.p4d.24xlarge",
    "vcpuNum": 96
   },
   {
    "_defaultOrder": 56,
    "_isFastLaunch": false,
    "category": "Accelerated computing",
    "gpuNum": 8,
    "hideHardwareSpecs": false,
    "memoryGiB": 1152,
    "name": "ml.p4de.24xlarge",
    "vcpuNum": 96
   },
   {
    "_defaultOrder": 57,
    "_isFastLaunch": false,
    "category": "Accelerated computing",
    "gpuNum": 0,
    "hideHardwareSpecs": false,
    "memoryGiB": 32,
    "name": "ml.trn1.2xlarge",
    "vcpuNum": 8
   },
   {
    "_defaultOrder": 58,
    "_isFastLaunch": false,
    "category": "Accelerated computing",
    "gpuNum": 0,
    "hideHardwareSpecs": false,
    "memoryGiB": 512,
    "name": "ml.trn1.32xlarge",
    "vcpuNum": 128
   },
   {
    "_defaultOrder": 59,
    "_isFastLaunch": false,
    "category": "Accelerated computing",
    "gpuNum": 0,
    "hideHardwareSpecs": false,
    "memoryGiB": 512,
    "name": "ml.trn1n.32xlarge",
    "vcpuNum": 128
   }
  ],
  "kernelspec": {
   "display_name": "Python 3 (Data Science 3.0)",
   "language": "python",
   "name": "python3__SAGEMAKER_INTERNAL__arn:aws:sagemaker:us-east-1:081325390199:image/sagemaker-data-science-310-v1"
  },
  "language_info": {
   "codemirror_mode": {
    "name": "ipython",
    "version": 3
   },
   "file_extension": ".py",
   "mimetype": "text/x-python",
   "name": "python",
   "nbconvert_exporter": "python",
   "pygments_lexer": "ipython3",
   "version": "3.10.6"
  }
 },
 "nbformat": 4,
 "nbformat_minor": 5
}
