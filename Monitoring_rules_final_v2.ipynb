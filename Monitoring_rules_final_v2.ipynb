{
 "cells": [
  {
   "cell_type": "markdown",
   "id": "305fd3ca-1992-409b-84e0-2a4fccf18462",
   "metadata": {
    "tags": []
   },
   "source": [
    "### MONITORING RULES"
   ]
  },
  {
   "cell_type": "code",
   "execution_count": 328,
   "id": "f8b7943f-dcbf-48eb-a2c6-3f0587f20d9f",
   "metadata": {
    "tags": []
   },
   "outputs": [
    {
     "name": "stdout",
     "output_type": "stream",
     "text": [
      "Requirement already satisfied: awswrangler in /opt/conda/lib/python3.10/site-packages (3.7.3)\n",
      "Requirement already satisfied: boto3<2.0.0,>=1.20.32 in /opt/conda/lib/python3.10/site-packages (from awswrangler) (1.34.84)\n",
      "Requirement already satisfied: botocore<2.0.0,>=1.23.32 in /opt/conda/lib/python3.10/site-packages (from awswrangler) (1.34.84)\n",
      "Requirement already satisfied: numpy<2.0,>=1.18 in /opt/conda/lib/python3.10/site-packages (from awswrangler) (1.26.4)\n",
      "Requirement already satisfied: packaging<25.0,>=21.1 in /opt/conda/lib/python3.10/site-packages (from awswrangler) (23.2)\n",
      "Requirement already satisfied: pandas<3.0.0,>=1.2.0 in /opt/conda/lib/python3.10/site-packages (from awswrangler) (2.1.4)\n",
      "Requirement already satisfied: pyarrow>=8.0.0 in /opt/conda/lib/python3.10/site-packages (from awswrangler) (15.0.2)\n",
      "Requirement already satisfied: typing-extensions<5.0.0,>=4.4.0 in /opt/conda/lib/python3.10/site-packages (from awswrangler) (4.11.0)\n",
      "Requirement already satisfied: jmespath<2.0.0,>=0.7.1 in /opt/conda/lib/python3.10/site-packages (from boto3<2.0.0,>=1.20.32->awswrangler) (1.0.1)\n",
      "Requirement already satisfied: s3transfer<0.11.0,>=0.10.0 in /opt/conda/lib/python3.10/site-packages (from boto3<2.0.0,>=1.20.32->awswrangler) (0.10.1)\n",
      "Requirement already satisfied: python-dateutil<3.0.0,>=2.1 in /opt/conda/lib/python3.10/site-packages (from botocore<2.0.0,>=1.23.32->awswrangler) (2.9.0)\n",
      "Requirement already satisfied: urllib3!=2.2.0,<3,>=1.25.4 in /opt/conda/lib/python3.10/site-packages (from botocore<2.0.0,>=1.23.32->awswrangler) (2.2.1)\n",
      "Requirement already satisfied: pytz>=2020.1 in /opt/conda/lib/python3.10/site-packages (from pandas<3.0.0,>=1.2.0->awswrangler) (2024.1)\n",
      "Requirement already satisfied: tzdata>=2022.1 in /opt/conda/lib/python3.10/site-packages (from pandas<3.0.0,>=1.2.0->awswrangler) (2024.1)\n",
      "Requirement already satisfied: six>=1.5 in /opt/conda/lib/python3.10/site-packages (from python-dateutil<3.0.0,>=2.1->botocore<2.0.0,>=1.23.32->awswrangler) (1.16.0)\n",
      "\u001b[33mWARNING: Running pip as the 'root' user can result in broken permissions and conflicting behaviour with the system package manager. It is recommended to use a virtual environment instead: https://pip.pypa.io/warnings/venv\u001b[0m\u001b[33m\n",
      "\u001b[0m"
     ]
    }
   ],
   "source": [
    "!pip install awswrangler"
   ]
  },
  {
   "cell_type": "markdown",
   "id": "2c5a2b79-961b-47d7-a5b4-6b0964e131fd",
   "metadata": {
    "tags": []
   },
   "source": [
    "### EXCEL FILES WITH MAPEs OF TOP 15 PAYERS ARE UPLOADED"
   ]
  },
  {
   "cell_type": "code",
   "execution_count": 329,
   "id": "52ef3d73-32f5-4300-9e78-5ddcbbc8a66f",
   "metadata": {},
   "outputs": [],
   "source": [
    "import awswrangler as wr\n",
    "import boto3\n",
    "import pandas as pd\n",
    "from io import BytesIO\n",
    "import numpy as np\n",
    "from datetime import datetime, timedelta\n",
    "from io import BytesIO # Para el WA\n",
    "from io import StringIO\n",
    "import joblib\n",
    "import os"
   ]
  },
  {
   "cell_type": "code",
   "execution_count": 330,
   "id": "9035053c-0ec4-4704-a3bf-e7841b4f9941",
   "metadata": {},
   "outputs": [],
   "source": [
    "# S3 client\n",
    "s3 = boto3.client('s3')"
   ]
  },
  {
   "cell_type": "code",
   "execution_count": 331,
   "id": "1fb1e353-8a82-4dcd-95d5-3a2c32f100ee",
   "metadata": {},
   "outputs": [],
   "source": [
    "#Bucket and folder prefix\n",
    "bucket_name = 'viamericas-datalake-dev-us-east-1-283731589572-analytics'\n",
    "prefix_ABTv3_update = 'ABTv3_update/top_payers_abt_v3update/'"
   ]
  },
  {
   "cell_type": "code",
   "execution_count": 332,
   "id": "ab3b81fa-372c-4d1f-bfd3-35cc2f823e88",
   "metadata": {},
   "outputs": [],
   "source": [
    "# I get list of folders in the bucket\n",
    "def list_folders(bucket_name, prefix):\n",
    "    response = s3.list_objects_v2(Bucket=bucket_name, Prefix=prefix, Delimiter='/')\n",
    "    folders = [prefix['Prefix'].split('/')[-2] for prefix in response.get('CommonPrefixes', [])]\n",
    "    return folders"
   ]
  },
  {
   "cell_type": "code",
   "execution_count": 333,
   "id": "ad8d7d67-910f-49c1-8b36-ea7394d1d328",
   "metadata": {},
   "outputs": [],
   "source": [
    "# I call a function to list folders\n",
    "folders_v3 = list_folders(bucket_name, prefix_ABTv3_update)"
   ]
  },
  {
   "cell_type": "code",
   "execution_count": 334,
   "id": "aecc2b47-8274-4bac-b35b-308b61cbb352",
   "metadata": {},
   "outputs": [],
   "source": [
    "# I read the xlsx and consolidate\n",
    "\n",
    "def read_files(bucket_name, prefix):\n",
    "    dfs = []\n",
    "    \n",
    "    # Iterar sobre cada carpeta\n",
    "    for folder_name in folders_v3:\n",
    "        # Obtener la lista de objetos en la carpeta\n",
    "        objects = s3.list_objects_v2(Bucket=bucket_name, Prefix=f'{prefix}{folder_name}/')['Contents']\n",
    "        \n",
    "        # Buscar archivos xlsx en la carpeta\n",
    "        excel_objects = [obj for obj in objects if obj['Key'].endswith('.xlsx') and '7d' not in obj['Key']]\n",
    "        \n",
    "        if excel_objects:\n",
    "            print(excel_objects)\n",
    "            # Leer el primer archivo xlsx encontrado\n",
    "            obj = s3.get_object(Bucket=bucket_name, Key=excel_objects[0]['Key'])\n",
    "            excel_data = obj['Body'].read() # No se puede leer con pandas directo de S3\n",
    "            \n",
    "            df = pd.read_excel(BytesIO(excel_data))\n",
    "            # Agrego columna con el nombre de la carpeta\n",
    "            df['folder_name'] = folder_name\n",
    "            # Agregar el df a la lista\n",
    "            dfs.append(df)\n",
    "        else:\n",
    "            print(f\"No se encontraron archivos xlsx en la carpeta {folder_name}.\")\n",
    "    \n",
    "    if dfs:\n",
    "        # Concateno todo\n",
    "        consolidated_df = pd.concat(dfs, ignore_index=True)\n",
    "        return consolidated_df\n",
    "    else:\n",
    "        print(\"No se encontraron archivos xlsx en ninguna de las carpetas especificadas.\")\n",
    "        return None"
   ]
  },
  {
   "cell_type": "code",
   "execution_count": 335,
   "id": "b0ee7638-d9e9-4b5b-88e8-ef05b4c751f9",
   "metadata": {},
   "outputs": [
    {
     "name": "stdout",
     "output_type": "stream",
     "text": [
      "[{'Key': 'ABTv3_update/top_payers_abt_v3update/BANCO AGRICOLA_EL SALVADOR/predicciones_test_2d_BANCO AGRICOLA_EL SALVADOR.xlsx', 'LastModified': datetime.datetime(2024, 3, 25, 18, 45, 53, tzinfo=tzlocal()), 'ETag': '\"9b406073e87517287809516d839f8a2d\"', 'Size': 18494, 'StorageClass': 'STANDARD'}]\n",
      "[{'Key': 'ABTv3_update/top_payers_abt_v3update/BANCO ATLANTIDA_HONDURAS/predicciones_test_2d_BANCO ATLANTIDA_HONDURAS.xlsx', 'LastModified': datetime.datetime(2024, 3, 25, 17, 14, 50, tzinfo=tzlocal()), 'ETag': '\"efab2b35f556266e631250662095466d\"', 'Size': 18913, 'StorageClass': 'STANDARD'}]\n",
      "[{'Key': 'ABTv3_update/top_payers_abt_v3update/BANCO DE OCCIDENTE_HONDURAS/predicciones_test_2d_BANCO DE OCCIDENTE_HONDURAS.xlsx', 'LastModified': datetime.datetime(2024, 3, 25, 19, 18, 47, tzinfo=tzlocal()), 'ETag': '\"6246eb42efc092e74e315d514e726e4c\"', 'Size': 18856, 'StorageClass': 'STANDARD'}]\n",
      "[{'Key': 'ABTv3_update/top_payers_abt_v3update/BANCO DE ORO (BDO)_PHILIPPINES/predicciones_test_2d_BANCO DE ORO (BDO)_PHILIPPINES.xlsx', 'LastModified': datetime.datetime(2024, 3, 25, 19, 37, 24, tzinfo=tzlocal()), 'ETag': '\"4fe5d521c2436b703d1e74ccf24185c3\"', 'Size': 18749, 'StorageClass': 'STANDARD'}]\n",
      "[{'Key': 'ABTv3_update/top_payers_abt_v3update/BANCO INDUSTRIAL_GUATEMALA/predicciones_test_2d_BANCO INDUSTRIAL_GUATEMALA.xlsx', 'LastModified': datetime.datetime(2024, 3, 22, 18, 14, 7, tzinfo=tzlocal()), 'ETag': '\"8ef9fd8ca66e7d6d0c4afc3d427adbc0\"', 'Size': 18975, 'StorageClass': 'STANDARD'}]\n",
      "[{'Key': 'ABTv3_update/top_payers_abt_v3update/BANCO RENDIMENTO_BRAZIL/predicciones_test_2d_BANCO RENDIMENTO_BRAZIL.xlsx', 'LastModified': datetime.datetime(2024, 3, 25, 15, 40, 26, tzinfo=tzlocal()), 'ETag': '\"a5731b4bbbe1dc95fa3f0d8783c72dae\"', 'Size': 18712, 'StorageClass': 'STANDARD'}]\n",
      "[{'Key': 'ABTv3_update/top_payers_abt_v3update/BANCOPPEL (APPRIZA)_MEXICO/predicciones_test_2d_BANCOPPEL (APPRIZA)_MEXICO.xlsx', 'LastModified': datetime.datetime(2024, 3, 22, 14, 35, 7, tzinfo=tzlocal()), 'ETag': '\"06dd782c8726449ccf92f05b1e6538d2\"', 'Size': 19005, 'StorageClass': 'STANDARD'}]\n",
      "[{'Key': 'ABTv3_update/top_payers_abt_v3update/BANORTE (UT)_MEXICO/predicciones_test_2d_BANORTE (UT)_MEXICO.xlsx', 'LastModified': datetime.datetime(2024, 3, 25, 14, 47, 28, tzinfo=tzlocal()), 'ETag': '\"852435298b6cec0a917e67f03ef07af0\"', 'Size': 18847, 'StorageClass': 'STANDARD'}]\n",
      "[{'Key': 'ABTv3_update/top_payers_abt_v3update/BANRURAL (RYT)_GUATEMALA/predicciones_test_2d_BANRURAL (RYT)_GUATEMALA.xlsx', 'LastModified': datetime.datetime(2024, 3, 22, 14, 41, 54, tzinfo=tzlocal()), 'ETag': '\"9184b46d1b68a8431afc3fa60f8f0f3c\"', 'Size': 19044, 'StorageClass': 'STANDARD'}]\n",
      "[{'Key': 'ABTv3_update/top_payers_abt_v3update/BBVA - BANCOMER (BTS)_MEXICO/predicciones_test_2d_BBVA - BANCOMER (BTS)_MEXICO.xlsx', 'LastModified': datetime.datetime(2024, 3, 22, 18, 39, 16, tzinfo=tzlocal()), 'ETag': '\"4c8d8708c380c3fd4bf1722c91123b76\"', 'Size': 18838, 'StorageClass': 'STANDARD'}]\n",
      "[{'Key': 'ABTv3_update/top_payers_abt_v3update/CARIBE EXPRESS_DOMINICAN REPUBLIC/predicciones_test_2d_CARIBE EXPRESS_DOMINICAN REPUBLIC.xlsx', 'LastModified': datetime.datetime(2024, 3, 25, 17, 29, 49, tzinfo=tzlocal()), 'ETag': '\"188d41a31c84b30c159513e10d09d77e\"', 'Size': 18781, 'StorageClass': 'STANDARD'}]\n",
      "[{'Key': 'ABTv3_update/top_payers_abt_v3update/ELEKTRA (MEXICO)_MEXICO/predicciones_test_2d_ELEKTRA (MEXICO)_MEXICO.xlsx', 'LastModified': datetime.datetime(2024, 3, 26, 14, 32, 4, tzinfo=tzlocal()), 'ETag': '\"38d4875f0cd8880be068ebe102ee657e\"', 'Size': 19054, 'StorageClass': 'STANDARD'}]\n",
      "[{'Key': 'ABTv3_update/top_payers_abt_v3update/ENVIOS CON CLABE (APPRIZA)_MEXICO/predicciones_test_2d_ENVIOS CON CLABE (APPRIZA)_MEXICO.xlsx', 'LastModified': datetime.datetime(2024, 3, 25, 14, 39, 53, tzinfo=tzlocal()), 'ETag': '\"f389e8037e053b6c2cf281506563e6f7\"', 'Size': 18860, 'StorageClass': 'STANDARD'}]\n",
      "[{'Key': 'ABTv3_update/top_payers_abt_v3update/G Y T CONTINENTAL_GUATEMALA/predicciones_test_2d_G Y T CONTINENTAL_GUATEMALA.xlsx', 'LastModified': datetime.datetime(2024, 3, 25, 17, 18, 59, tzinfo=tzlocal()), 'ETag': '\"26c172150f6dae6150f7a23500cfc294\"', 'Size': 18858, 'StorageClass': 'STANDARD'}]\n",
      "[{'Key': 'ABTv3_update/top_payers_abt_v3update/TELECOMM TELEGRAFOS (APPRIZA)_MEXICO/predicciones_test_2d_TELECOMM TELEGRAFOS (APPRIZA)_MEXICO.xlsx', 'LastModified': datetime.datetime(2024, 3, 25, 15, 0, 7, tzinfo=tzlocal()), 'ETag': '\"9632c217364889b74f3e59739a67b20d\"', 'Size': 18844, 'StorageClass': 'STANDARD'}]\n"
     ]
    }
   ],
   "source": [
    "# I call function to read xlsx and consolidate into one DF\n",
    "df_top15 = read_files(bucket_name, prefix_ABTv3_update)"
   ]
  },
  {
   "cell_type": "code",
   "execution_count": 336,
   "id": "ce6fd819-9d75-4242-b83b-ac049fa9aa7c",
   "metadata": {},
   "outputs": [
    {
     "data": {
      "text/plain": [
       "15"
      ]
     },
     "execution_count": 336,
     "metadata": {},
     "output_type": "execute_result"
    }
   ],
   "source": [
    "df_top15.folder_name.nunique()"
   ]
  },
  {
   "cell_type": "code",
   "execution_count": 337,
   "id": "d5c08342-e880-45d8-9235-837cf3006c11",
   "metadata": {},
   "outputs": [
    {
     "data": {
      "text/plain": [
       "Timestamp('2024-02-03 00:00:00')"
      ]
     },
     "execution_count": 337,
     "metadata": {},
     "output_type": "execute_result"
    }
   ],
   "source": [
    "df_top15.date.max()"
   ]
  },
  {
   "cell_type": "markdown",
   "id": "3556319d-0f28-4307-bb58-85e1e3335ada",
   "metadata": {},
   "source": [
    "### DATE OF ANALYSIS\n",
    "### UP TO ONE DAY BEFORE THE FORECASTS THEY ALREADY HAVE (MAPE)##"
   ]
  },
  {
   "cell_type": "code",
   "execution_count": 338,
   "id": "a54c8149-5edd-4e24-bd30-543ad757ee5a",
   "metadata": {},
   "outputs": [],
   "source": [
    "df_top15=df_top15.loc[df_top15.date<'2024-01-28']"
   ]
  },
  {
   "cell_type": "code",
   "execution_count": 339,
   "id": "bb5bcf97-6280-424c-9eb4-e7e3d3f0d0cc",
   "metadata": {},
   "outputs": [
    {
     "data": {
      "text/html": [
       "<div>\n",
       "<style scoped>\n",
       "    .dataframe tbody tr th:only-of-type {\n",
       "        vertical-align: middle;\n",
       "    }\n",
       "\n",
       "    .dataframe tbody tr th {\n",
       "        vertical-align: top;\n",
       "    }\n",
       "\n",
       "    .dataframe thead th {\n",
       "        text-align: right;\n",
       "    }\n",
       "</style>\n",
       "<table border=\"1\" class=\"dataframe\">\n",
       "  <thead>\n",
       "    <tr style=\"text-align: right;\">\n",
       "      <th></th>\n",
       "      <th>date</th>\n",
       "      <th>valor_real</th>\n",
       "      <th>valor_predicho</th>\n",
       "      <th>mape</th>\n",
       "      <th>error_abs</th>\n",
       "      <th>folder_name</th>\n",
       "    </tr>\n",
       "  </thead>\n",
       "  <tbody>\n",
       "    <tr>\n",
       "      <th>3390</th>\n",
       "      <td>2024-01-20</td>\n",
       "      <td>418022.83</td>\n",
       "      <td>438828.622225</td>\n",
       "      <td>4.977190</td>\n",
       "      <td>20805.792225</td>\n",
       "      <td>TELECOMM TELEGRAFOS (APPRIZA)_MEXICO</td>\n",
       "    </tr>\n",
       "    <tr>\n",
       "      <th>3391</th>\n",
       "      <td>2024-01-21</td>\n",
       "      <td>490154.49</td>\n",
       "      <td>541620.401018</td>\n",
       "      <td>10.499937</td>\n",
       "      <td>51465.911018</td>\n",
       "      <td>TELECOMM TELEGRAFOS (APPRIZA)_MEXICO</td>\n",
       "    </tr>\n",
       "    <tr>\n",
       "      <th>3392</th>\n",
       "      <td>2024-01-22</td>\n",
       "      <td>476076.81</td>\n",
       "      <td>400419.571516</td>\n",
       "      <td>15.891813</td>\n",
       "      <td>75657.238484</td>\n",
       "      <td>TELECOMM TELEGRAFOS (APPRIZA)_MEXICO</td>\n",
       "    </tr>\n",
       "    <tr>\n",
       "      <th>3393</th>\n",
       "      <td>2024-01-23</td>\n",
       "      <td>468738.81</td>\n",
       "      <td>452307.372134</td>\n",
       "      <td>3.505457</td>\n",
       "      <td>16431.437866</td>\n",
       "      <td>TELECOMM TELEGRAFOS (APPRIZA)_MEXICO</td>\n",
       "    </tr>\n",
       "    <tr>\n",
       "      <th>3394</th>\n",
       "      <td>2024-01-24</td>\n",
       "      <td>366077.85</td>\n",
       "      <td>397733.669243</td>\n",
       "      <td>8.647292</td>\n",
       "      <td>31655.819243</td>\n",
       "      <td>TELECOMM TELEGRAFOS (APPRIZA)_MEXICO</td>\n",
       "    </tr>\n",
       "    <tr>\n",
       "      <th>3395</th>\n",
       "      <td>2024-01-25</td>\n",
       "      <td>402488.65</td>\n",
       "      <td>421819.511674</td>\n",
       "      <td>4.802834</td>\n",
       "      <td>19330.861674</td>\n",
       "      <td>TELECOMM TELEGRAFOS (APPRIZA)_MEXICO</td>\n",
       "    </tr>\n",
       "    <tr>\n",
       "      <th>3396</th>\n",
       "      <td>2024-01-26</td>\n",
       "      <td>439061.39</td>\n",
       "      <td>441922.341655</td>\n",
       "      <td>0.651606</td>\n",
       "      <td>2860.951655</td>\n",
       "      <td>TELECOMM TELEGRAFOS (APPRIZA)_MEXICO</td>\n",
       "    </tr>\n",
       "    <tr>\n",
       "      <th>3397</th>\n",
       "      <td>2024-01-27</td>\n",
       "      <td>423683.10</td>\n",
       "      <td>462898.462382</td>\n",
       "      <td>9.255824</td>\n",
       "      <td>39215.362382</td>\n",
       "      <td>TELECOMM TELEGRAFOS (APPRIZA)_MEXICO</td>\n",
       "    </tr>\n",
       "  </tbody>\n",
       "</table>\n",
       "</div>"
      ],
      "text/plain": [
       "           date  valor_real  valor_predicho       mape     error_abs  \\\n",
       "3390 2024-01-20   418022.83   438828.622225   4.977190  20805.792225   \n",
       "3391 2024-01-21   490154.49   541620.401018  10.499937  51465.911018   \n",
       "3392 2024-01-22   476076.81   400419.571516  15.891813  75657.238484   \n",
       "3393 2024-01-23   468738.81   452307.372134   3.505457  16431.437866   \n",
       "3394 2024-01-24   366077.85   397733.669243   8.647292  31655.819243   \n",
       "3395 2024-01-25   402488.65   421819.511674   4.802834  19330.861674   \n",
       "3396 2024-01-26   439061.39   441922.341655   0.651606   2860.951655   \n",
       "3397 2024-01-27   423683.10   462898.462382   9.255824  39215.362382   \n",
       "\n",
       "                               folder_name  \n",
       "3390  TELECOMM TELEGRAFOS (APPRIZA)_MEXICO  \n",
       "3391  TELECOMM TELEGRAFOS (APPRIZA)_MEXICO  \n",
       "3392  TELECOMM TELEGRAFOS (APPRIZA)_MEXICO  \n",
       "3393  TELECOMM TELEGRAFOS (APPRIZA)_MEXICO  \n",
       "3394  TELECOMM TELEGRAFOS (APPRIZA)_MEXICO  \n",
       "3395  TELECOMM TELEGRAFOS (APPRIZA)_MEXICO  \n",
       "3396  TELECOMM TELEGRAFOS (APPRIZA)_MEXICO  \n",
       "3397  TELECOMM TELEGRAFOS (APPRIZA)_MEXICO  "
      ]
     },
     "execution_count": 339,
     "metadata": {},
     "output_type": "execute_result"
    }
   ],
   "source": [
    "df_top15.tail(8)"
   ]
  },
  {
   "cell_type": "code",
   "execution_count": 340,
   "id": "2e31d0c6-41b4-46b5-83c5-a08021c1e0c9",
   "metadata": {
    "tags": []
   },
   "outputs": [
    {
     "data": {
      "text/plain": [
       "array(['BANCO AGRICOLA_EL SALVADOR', 'BANCO ATLANTIDA_HONDURAS',\n",
       "       'BANCO DE OCCIDENTE_HONDURAS', 'BANCO DE ORO (BDO)_PHILIPPINES',\n",
       "       'BANCO INDUSTRIAL_GUATEMALA', 'BANCO RENDIMENTO_BRAZIL',\n",
       "       'BANCOPPEL (APPRIZA)_MEXICO', 'BANORTE (UT)_MEXICO',\n",
       "       'BANRURAL (RYT)_GUATEMALA', 'BBVA - BANCOMER (BTS)_MEXICO',\n",
       "       'CARIBE EXPRESS_DOMINICAN REPUBLIC', 'ELEKTRA (MEXICO)_MEXICO',\n",
       "       'ENVIOS CON CLABE (APPRIZA)_MEXICO', 'G Y T CONTINENTAL_GUATEMALA',\n",
       "       'TELECOMM TELEGRAFOS (APPRIZA)_MEXICO'], dtype=object)"
      ]
     },
     "execution_count": 340,
     "metadata": {},
     "output_type": "execute_result"
    }
   ],
   "source": [
    "df_top15.folder_name.unique()"
   ]
  },
  {
   "cell_type": "code",
   "execution_count": 341,
   "id": "9dd3795f-16fc-4134-b868-c7af4ae1beda",
   "metadata": {
    "tags": []
   },
   "outputs": [],
   "source": [
    "lista_top15=['BANCO AGRICOLA_EL SALVADOR', 'BANCO ATLANTIDA_HONDURAS',\n",
    "       'BANCO DE OCCIDENTE_HONDURAS', 'BANCO DE ORO (BDO)_PHILIPPINES',\n",
    "       'BANCO INDUSTRIAL_GUATEMALA', 'BANCO RENDIMENTO_BRAZIL',\n",
    "       'BANCOPPEL (APPRIZA)_MEXICO', 'BANORTE (UT)_MEXICO',\n",
    "       'BANRURAL (RYT)_GUATEMALA', 'BBVA - BANCOMER (BTS)_MEXICO',\n",
    "       'CARIBE EXPRESS_DOMINICAN REPUBLIC', 'ELEKTRA (MEXICO)_MEXICO',\n",
    "       'ENVIOS CON CLABE (APPRIZA)_MEXICO', 'G Y T CONTINENTAL_GUATEMALA',\n",
    "       'TELECOMM TELEGRAFOS (APPRIZA)_MEXICO']"
   ]
  },
  {
   "cell_type": "markdown",
   "id": "d9051afa-628b-451f-8b0c-c3265e720a3c",
   "metadata": {},
   "source": [
    "## LOAD THE RECENT INFERENCES AND THEIR MAPEs"
   ]
  },
  {
   "cell_type": "code",
   "execution_count": 342,
   "id": "61d4f8ed-6a41-43ed-a4e7-aa9d4043daa0",
   "metadata": {},
   "outputs": [],
   "source": [
    "# Set up S3 client\n",
    "client = boto3.client('s3')\n",
    "bucket_name = 'viamericas-datalake-dev-us-east-1-283731589572-analytics'\n",
    "path_MAPE = 'ABTv3_update/MAPE_inferences_2d_rules_monitoring/' # Folder under analysis"
   ]
  },
  {
   "cell_type": "code",
   "execution_count": 343,
   "id": "c688f92b-fb62-40b3-b4f8-c5d4008a0894",
   "metadata": {},
   "outputs": [
    {
     "name": "stdout",
     "output_type": "stream",
     "text": [
      "CSV file loaded\n"
     ]
    }
   ],
   "source": [
    "# Specify the CSV file key\n",
    "csv_key = None\n",
    "\n",
    "# List objects in the S3 path\n",
    "response = client.list_objects(Bucket=bucket_name, Prefix=path_MAPE)\n",
    "\n",
    "# Find the CSV file in the S3 path\n",
    "for obj in response.get('Contents', []):\n",
    "    if obj['Key'].endswith('.csv'):\n",
    "        csv_key = obj['Key']\n",
    "        break\n",
    "        \n",
    "# Check if CSV file is found\n",
    "if csv_key is not None:\n",
    "    # Read CSV content from S3\n",
    "    csv_response = client.get_object(Bucket=bucket_name, Key=csv_key)\n",
    "    csv_content = csv_response['Body'].read().decode('utf-8')\n",
    "\n",
    "    # Transform CSV content to DataFrame\n",
    "    data = pd.read_csv(StringIO(csv_content))\n",
    "    data['pred_date'] = pd.to_datetime(data['pred_date']).dt.date\n",
    "    print(\"CSV file loaded\")\n",
    "else:\n",
    "    print(\"No CSV file found in the specified S3 path.\")"
   ]
  },
  {
   "cell_type": "code",
   "execution_count": 344,
   "id": "1ac56a04-24e8-43ce-8e69-303d4be10124",
   "metadata": {},
   "outputs": [
    {
     "name": "stdout",
     "output_type": "stream",
     "text": [
      "<class 'pandas.core.frame.DataFrame'>\n",
      "RangeIndex: 204 entries, 0 to 203\n",
      "Data columns (total 9 columns):\n",
      " #   Column           Non-Null Count  Dtype  \n",
      "---  ------           --------------  -----  \n",
      " 0   processing_date  204 non-null    object \n",
      " 1   pred_date        204 non-null    object \n",
      " 2   pred             204 non-null    float64\n",
      " 3   payer_country    204 non-null    object \n",
      " 4   id_main_branch   204 non-null    object \n",
      " 5   id_country       204 non-null    object \n",
      " 6   amount           204 non-null    float64\n",
      " 7   abs_error        204 non-null    float64\n",
      " 8   MAPE             204 non-null    float64\n",
      "dtypes: float64(4), object(5)\n",
      "memory usage: 14.5+ KB\n"
     ]
    }
   ],
   "source": [
    "data.info()"
   ]
  },
  {
   "cell_type": "code",
   "execution_count": 345,
   "id": "c4702849-f73e-4ae9-b7d2-d21ebbfd07a6",
   "metadata": {
    "tags": []
   },
   "outputs": [],
   "source": [
    "data['pred_date'] = pd.to_datetime(data['pred_date'])"
   ]
  },
  {
   "cell_type": "code",
   "execution_count": 346,
   "id": "466d5072-ccc0-4075-999c-99083c52f3eb",
   "metadata": {
    "tags": []
   },
   "outputs": [],
   "source": [
    "df_top15['date'] = pd.to_datetime(df_top15['date'])"
   ]
  },
  {
   "cell_type": "code",
   "execution_count": 347,
   "id": "ddd0cff6-3588-4b8c-9705-e780b7e67967",
   "metadata": {},
   "outputs": [],
   "source": [
    "##NEGATIVE PREDICTED VALUES ARE REPLACED\n",
    "valor_a_reemplazar = 0\n",
    "df_top15['valor_predicho'] = df_top15['valor_predicho'].apply(lambda x: valor_a_reemplazar if x < 0 else x)\n",
    "data['pred'] = data['pred'].apply(lambda x: valor_a_reemplazar if x < 0 else x)"
   ]
  },
  {
   "cell_type": "code",
   "execution_count": 348,
   "id": "16f32137-4cfe-463a-8193-1f65e5e9b9cf",
   "metadata": {},
   "outputs": [],
   "source": [
    "###HOMOGENIZE VARIABLES##"
   ]
  },
  {
   "cell_type": "code",
   "execution_count": 349,
   "id": "87f4f1e1-f1e6-4ad1-b957-3b458f59e02d",
   "metadata": {
    "tags": []
   },
   "outputs": [],
   "source": [
    "df_top15 = df_top15.rename(columns={'valor_predicho': 'pred', 'valor_real': 'amount', 'date': 'pred_date', 'folder_name': 'payer_country' })"
   ]
  },
  {
   "cell_type": "code",
   "execution_count": 350,
   "id": "65d55c11-c561-43e2-baf1-19026b00fb04",
   "metadata": {
    "tags": []
   },
   "outputs": [],
   "source": [
    "data = data.rename(columns={'MAPE': 'mape','abs_error': 'error_abs'})"
   ]
  },
  {
   "cell_type": "code",
   "execution_count": 351,
   "id": "665c3d55-b1b2-4e8f-9303-c73ba07b6aaa",
   "metadata": {
    "tags": []
   },
   "outputs": [
    {
     "data": {
      "text/html": [
       "<div>\n",
       "<style scoped>\n",
       "    .dataframe tbody tr th:only-of-type {\n",
       "        vertical-align: middle;\n",
       "    }\n",
       "\n",
       "    .dataframe tbody tr th {\n",
       "        vertical-align: top;\n",
       "    }\n",
       "\n",
       "    .dataframe thead th {\n",
       "        text-align: right;\n",
       "    }\n",
       "</style>\n",
       "<table border=\"1\" class=\"dataframe\">\n",
       "  <thead>\n",
       "    <tr style=\"text-align: right;\">\n",
       "      <th></th>\n",
       "      <th>pred_date</th>\n",
       "      <th>amount</th>\n",
       "      <th>pred</th>\n",
       "      <th>mape</th>\n",
       "      <th>error_abs</th>\n",
       "      <th>payer_country</th>\n",
       "    </tr>\n",
       "  </thead>\n",
       "  <tbody>\n",
       "    <tr>\n",
       "      <th>0</th>\n",
       "      <td>2023-06-22</td>\n",
       "      <td>333877.5</td>\n",
       "      <td>383497.896918</td>\n",
       "      <td>14.861857</td>\n",
       "      <td>49620.396918</td>\n",
       "      <td>BANCO AGRICOLA_EL SALVADOR</td>\n",
       "    </tr>\n",
       "    <tr>\n",
       "      <th>1</th>\n",
       "      <td>2023-06-23</td>\n",
       "      <td>472255.0</td>\n",
       "      <td>526814.668818</td>\n",
       "      <td>11.553010</td>\n",
       "      <td>54559.668818</td>\n",
       "      <td>BANCO AGRICOLA_EL SALVADOR</td>\n",
       "    </tr>\n",
       "  </tbody>\n",
       "</table>\n",
       "</div>"
      ],
      "text/plain": [
       "   pred_date    amount           pred       mape     error_abs  \\\n",
       "0 2023-06-22  333877.5  383497.896918  14.861857  49620.396918   \n",
       "1 2023-06-23  472255.0  526814.668818  11.553010  54559.668818   \n",
       "\n",
       "                payer_country  \n",
       "0  BANCO AGRICOLA_EL SALVADOR  \n",
       "1  BANCO AGRICOLA_EL SALVADOR  "
      ]
     },
     "execution_count": 351,
     "metadata": {},
     "output_type": "execute_result"
    }
   ],
   "source": [
    "df_top15.head(2)"
   ]
  },
  {
   "cell_type": "code",
   "execution_count": 352,
   "id": "5aad5fe9-dc55-4d02-8111-6a82ff9d0887",
   "metadata": {
    "tags": []
   },
   "outputs": [
    {
     "data": {
      "text/html": [
       "<div>\n",
       "<style scoped>\n",
       "    .dataframe tbody tr th:only-of-type {\n",
       "        vertical-align: middle;\n",
       "    }\n",
       "\n",
       "    .dataframe tbody tr th {\n",
       "        vertical-align: top;\n",
       "    }\n",
       "\n",
       "    .dataframe thead th {\n",
       "        text-align: right;\n",
       "    }\n",
       "</style>\n",
       "<table border=\"1\" class=\"dataframe\">\n",
       "  <thead>\n",
       "    <tr style=\"text-align: right;\">\n",
       "      <th></th>\n",
       "      <th>pred_date</th>\n",
       "      <th>amount</th>\n",
       "      <th>pred</th>\n",
       "      <th>mape</th>\n",
       "      <th>error_abs</th>\n",
       "      <th>payer_country</th>\n",
       "    </tr>\n",
       "  </thead>\n",
       "  <tbody>\n",
       "    <tr>\n",
       "      <th>0</th>\n",
       "      <td>2024-01-28</td>\n",
       "      <td>42919.0</td>\n",
       "      <td>43509.565347</td>\n",
       "      <td>1.376000</td>\n",
       "      <td>590.565347</td>\n",
       "      <td>24XORO_MEXICO</td>\n",
       "    </tr>\n",
       "    <tr>\n",
       "      <th>1</th>\n",
       "      <td>2024-01-29</td>\n",
       "      <td>37422.0</td>\n",
       "      <td>51645.303146</td>\n",
       "      <td>38.007865</td>\n",
       "      <td>14223.303146</td>\n",
       "      <td>24XORO_MEXICO</td>\n",
       "    </tr>\n",
       "  </tbody>\n",
       "</table>\n",
       "</div>"
      ],
      "text/plain": [
       "   pred_date   amount          pred       mape     error_abs  payer_country\n",
       "0 2024-01-28  42919.0  43509.565347   1.376000    590.565347  24XORO_MEXICO\n",
       "1 2024-01-29  37422.0  51645.303146  38.007865  14223.303146  24XORO_MEXICO"
      ]
     },
     "execution_count": 352,
     "metadata": {},
     "output_type": "execute_result"
    }
   ],
   "source": [
    "data=data.loc[:,['pred_date', 'amount', 'pred', 'mape', 'error_abs', 'payer_country']]\n",
    "data.head(2)"
   ]
  },
  {
   "cell_type": "code",
   "execution_count": 354,
   "id": "34f770a9-2f4b-4457-911c-e724f37a5d8c",
   "metadata": {},
   "outputs": [],
   "source": [
    "##ONLY THE FIRST 15 PAYERS ARE KEPT##"
   ]
  },
  {
   "cell_type": "code",
   "execution_count": 355,
   "id": "d6d6d06d-4e80-4753-a2d5-10836bc4fe7c",
   "metadata": {
    "tags": []
   },
   "outputs": [],
   "source": [
    "data = data[data['payer_country'].isin(lista_top15)]"
   ]
  },
  {
   "cell_type": "code",
   "execution_count": 356,
   "id": "443df851-6a74-4a0f-9587-cf58d7e20af5",
   "metadata": {},
   "outputs": [],
   "source": [
    "###WE MERGE THE DF OF \"NEW\" PREDICTIONS (In data)  WITH THE HISTORY MAPEs FOR THE TOP 15 PAYERS##"
   ]
  },
  {
   "cell_type": "code",
   "execution_count": 357,
   "id": "35062b3e-c5e0-42b3-a1fa-b8c464a1335d",
   "metadata": {
    "tags": []
   },
   "outputs": [
    {
     "data": {
      "text/plain": [
       "array(['BANCO AGRICOLA_EL SALVADOR', 'BANCO ATLANTIDA_HONDURAS',\n",
       "       'BANCO DE OCCIDENTE_HONDURAS', 'BANCO DE ORO (BDO)_PHILIPPINES',\n",
       "       'BANCO INDUSTRIAL_GUATEMALA', 'BANCO RENDIMENTO_BRAZIL',\n",
       "       'BANCOPPEL (APPRIZA)_MEXICO', 'BANORTE (UT)_MEXICO',\n",
       "       'BANRURAL (RYT)_GUATEMALA', 'BBVA - BANCOMER (BTS)_MEXICO',\n",
       "       'CARIBE EXPRESS_DOMINICAN REPUBLIC', 'ELEKTRA (MEXICO)_MEXICO',\n",
       "       'ENVIOS CON CLABE (APPRIZA)_MEXICO', 'G Y T CONTINENTAL_GUATEMALA',\n",
       "       'TELECOMM TELEGRAFOS (APPRIZA)_MEXICO'], dtype=object)"
      ]
     },
     "execution_count": 357,
     "metadata": {},
     "output_type": "execute_result"
    }
   ],
   "source": [
    "data.payer_country.unique()"
   ]
  },
  {
   "cell_type": "code",
   "execution_count": 358,
   "id": "62b503a2-6993-41cf-a144-6a4c6e2502d5",
   "metadata": {
    "tags": []
   },
   "outputs": [
    {
     "data": {
      "text/plain": [
       "array(['BANCO AGRICOLA_EL SALVADOR', 'BANCO ATLANTIDA_HONDURAS',\n",
       "       'BANCO DE OCCIDENTE_HONDURAS', 'BANCO DE ORO (BDO)_PHILIPPINES',\n",
       "       'BANCO INDUSTRIAL_GUATEMALA', 'BANCO RENDIMENTO_BRAZIL',\n",
       "       'BANCOPPEL (APPRIZA)_MEXICO', 'BANORTE (UT)_MEXICO',\n",
       "       'BANRURAL (RYT)_GUATEMALA', 'BBVA - BANCOMER (BTS)_MEXICO',\n",
       "       'CARIBE EXPRESS_DOMINICAN REPUBLIC', 'ELEKTRA (MEXICO)_MEXICO',\n",
       "       'ENVIOS CON CLABE (APPRIZA)_MEXICO', 'G Y T CONTINENTAL_GUATEMALA',\n",
       "       'TELECOMM TELEGRAFOS (APPRIZA)_MEXICO'], dtype=object)"
      ]
     },
     "execution_count": 358,
     "metadata": {},
     "output_type": "execute_result"
    }
   ],
   "source": [
    "df_top15.payer_country.unique()"
   ]
  },
  {
   "cell_type": "code",
   "execution_count": 359,
   "id": "fe12d698-5356-4bc3-aaad-e0819336a5fd",
   "metadata": {
    "tags": []
   },
   "outputs": [],
   "source": [
    "df_top15 = df_top15.sort_values(by=['payer_country', 'pred_date'])"
   ]
  },
  {
   "cell_type": "code",
   "execution_count": 360,
   "id": "26c44064-c158-42f4-9fcc-dbbaedf412a5",
   "metadata": {
    "tags": []
   },
   "outputs": [],
   "source": [
    "df_top15 = pd.concat([df_top15, data])"
   ]
  },
  {
   "cell_type": "code",
   "execution_count": 361,
   "id": "91efcf83-1973-49e4-8095-4c8680ca01dd",
   "metadata": {
    "tags": []
   },
   "outputs": [
    {
     "data": {
      "text/plain": [
       "Timestamp('2024-01-29 00:00:00')"
      ]
     },
     "execution_count": 361,
     "metadata": {},
     "output_type": "execute_result"
    }
   ],
   "source": [
    "df_top15.pred_date.max()"
   ]
  },
  {
   "cell_type": "code",
   "execution_count": 362,
   "id": "218195f9-6f12-4b8a-9335-ecc34a3900ea",
   "metadata": {
    "tags": []
   },
   "outputs": [
    {
     "data": {
      "text/html": [
       "<div>\n",
       "<style scoped>\n",
       "    .dataframe tbody tr th:only-of-type {\n",
       "        vertical-align: middle;\n",
       "    }\n",
       "\n",
       "    .dataframe tbody tr th {\n",
       "        vertical-align: top;\n",
       "    }\n",
       "\n",
       "    .dataframe thead th {\n",
       "        text-align: right;\n",
       "    }\n",
       "</style>\n",
       "<table border=\"1\" class=\"dataframe\">\n",
       "  <thead>\n",
       "    <tr style=\"text-align: right;\">\n",
       "      <th></th>\n",
       "      <th>pred_date</th>\n",
       "      <th>amount</th>\n",
       "      <th>pred</th>\n",
       "      <th>mape</th>\n",
       "      <th>error_abs</th>\n",
       "      <th>payer_country</th>\n",
       "    </tr>\n",
       "  </thead>\n",
       "  <tbody>\n",
       "    <tr>\n",
       "      <th>0</th>\n",
       "      <td>2023-06-22</td>\n",
       "      <td>333877.5</td>\n",
       "      <td>383497.896918</td>\n",
       "      <td>14.861857</td>\n",
       "      <td>49620.396918</td>\n",
       "      <td>BANCO AGRICOLA_EL SALVADOR</td>\n",
       "    </tr>\n",
       "    <tr>\n",
       "      <th>1</th>\n",
       "      <td>2023-06-23</td>\n",
       "      <td>472255.0</td>\n",
       "      <td>526814.668818</td>\n",
       "      <td>11.553010</td>\n",
       "      <td>54559.668818</td>\n",
       "      <td>BANCO AGRICOLA_EL SALVADOR</td>\n",
       "    </tr>\n",
       "    <tr>\n",
       "      <th>2</th>\n",
       "      <td>2023-06-24</td>\n",
       "      <td>471284.0</td>\n",
       "      <td>489445.019909</td>\n",
       "      <td>3.853519</td>\n",
       "      <td>18161.019909</td>\n",
       "      <td>BANCO AGRICOLA_EL SALVADOR</td>\n",
       "    </tr>\n",
       "    <tr>\n",
       "      <th>3</th>\n",
       "      <td>2023-06-25</td>\n",
       "      <td>387389.0</td>\n",
       "      <td>409110.539878</td>\n",
       "      <td>5.607165</td>\n",
       "      <td>21721.539878</td>\n",
       "      <td>BANCO AGRICOLA_EL SALVADOR</td>\n",
       "    </tr>\n",
       "    <tr>\n",
       "      <th>4</th>\n",
       "      <td>2023-06-26</td>\n",
       "      <td>398244.0</td>\n",
       "      <td>409621.536758</td>\n",
       "      <td>2.856926</td>\n",
       "      <td>11377.536758</td>\n",
       "      <td>BANCO AGRICOLA_EL SALVADOR</td>\n",
       "    </tr>\n",
       "  </tbody>\n",
       "</table>\n",
       "</div>"
      ],
      "text/plain": [
       "   pred_date    amount           pred       mape     error_abs  \\\n",
       "0 2023-06-22  333877.5  383497.896918  14.861857  49620.396918   \n",
       "1 2023-06-23  472255.0  526814.668818  11.553010  54559.668818   \n",
       "2 2023-06-24  471284.0  489445.019909   3.853519  18161.019909   \n",
       "3 2023-06-25  387389.0  409110.539878   5.607165  21721.539878   \n",
       "4 2023-06-26  398244.0  409621.536758   2.856926  11377.536758   \n",
       "\n",
       "                payer_country  \n",
       "0  BANCO AGRICOLA_EL SALVADOR  \n",
       "1  BANCO AGRICOLA_EL SALVADOR  \n",
       "2  BANCO AGRICOLA_EL SALVADOR  \n",
       "3  BANCO AGRICOLA_EL SALVADOR  \n",
       "4  BANCO AGRICOLA_EL SALVADOR  "
      ]
     },
     "execution_count": 362,
     "metadata": {},
     "output_type": "execute_result"
    }
   ],
   "source": [
    "df_top15.head()"
   ]
  },
  {
   "cell_type": "code",
   "execution_count": 363,
   "id": "51cbdd7a-21fa-42cb-87ab-885580188600",
   "metadata": {},
   "outputs": [
    {
     "data": {
      "text/plain": [
       "Timestamp('2024-01-29 00:00:00')"
      ]
     },
     "execution_count": 363,
     "metadata": {},
     "output_type": "execute_result"
    }
   ],
   "source": [
    "df_top15.pred_date.max()"
   ]
  },
  {
   "cell_type": "code",
   "execution_count": 364,
   "id": "5b62aed3-ad0d-47e2-911b-09c4b74a6e58",
   "metadata": {},
   "outputs": [
    {
     "data": {
      "text/html": [
       "<div>\n",
       "<style scoped>\n",
       "    .dataframe tbody tr th:only-of-type {\n",
       "        vertical-align: middle;\n",
       "    }\n",
       "\n",
       "    .dataframe tbody tr th {\n",
       "        vertical-align: top;\n",
       "    }\n",
       "\n",
       "    .dataframe thead th {\n",
       "        text-align: right;\n",
       "    }\n",
       "</style>\n",
       "<table border=\"1\" class=\"dataframe\">\n",
       "  <thead>\n",
       "    <tr style=\"text-align: right;\">\n",
       "      <th></th>\n",
       "      <th>pred_date</th>\n",
       "      <th>amount</th>\n",
       "      <th>pred</th>\n",
       "      <th>mape</th>\n",
       "      <th>error_abs</th>\n",
       "      <th>payer_country</th>\n",
       "    </tr>\n",
       "  </thead>\n",
       "  <tbody>\n",
       "    <tr>\n",
       "      <th>0</th>\n",
       "      <td>2023-06-22</td>\n",
       "      <td>333877.50</td>\n",
       "      <td>3.834979e+05</td>\n",
       "      <td>14.861857</td>\n",
       "      <td>49620.396918</td>\n",
       "      <td>BANCO AGRICOLA_EL SALVADOR</td>\n",
       "    </tr>\n",
       "    <tr>\n",
       "      <th>1</th>\n",
       "      <td>2023-06-23</td>\n",
       "      <td>472255.00</td>\n",
       "      <td>5.268147e+05</td>\n",
       "      <td>11.553010</td>\n",
       "      <td>54559.668818</td>\n",
       "      <td>BANCO AGRICOLA_EL SALVADOR</td>\n",
       "    </tr>\n",
       "    <tr>\n",
       "      <th>2</th>\n",
       "      <td>2023-06-24</td>\n",
       "      <td>471284.00</td>\n",
       "      <td>4.894450e+05</td>\n",
       "      <td>3.853519</td>\n",
       "      <td>18161.019909</td>\n",
       "      <td>BANCO AGRICOLA_EL SALVADOR</td>\n",
       "    </tr>\n",
       "    <tr>\n",
       "      <th>3</th>\n",
       "      <td>2023-06-25</td>\n",
       "      <td>387389.00</td>\n",
       "      <td>4.091105e+05</td>\n",
       "      <td>5.607165</td>\n",
       "      <td>21721.539878</td>\n",
       "      <td>BANCO AGRICOLA_EL SALVADOR</td>\n",
       "    </tr>\n",
       "    <tr>\n",
       "      <th>4</th>\n",
       "      <td>2023-06-26</td>\n",
       "      <td>398244.00</td>\n",
       "      <td>4.096215e+05</td>\n",
       "      <td>2.856926</td>\n",
       "      <td>11377.536758</td>\n",
       "      <td>BANCO AGRICOLA_EL SALVADOR</td>\n",
       "    </tr>\n",
       "    <tr>\n",
       "      <th>...</th>\n",
       "      <td>...</td>\n",
       "      <td>...</td>\n",
       "      <td>...</td>\n",
       "      <td>...</td>\n",
       "      <td>...</td>\n",
       "      <td>...</td>\n",
       "    </tr>\n",
       "    <tr>\n",
       "      <th>112</th>\n",
       "      <td>2024-01-29</td>\n",
       "      <td>1047698.27</td>\n",
       "      <td>1.048350e+06</td>\n",
       "      <td>0.062160</td>\n",
       "      <td>651.250487</td>\n",
       "      <td>ENVIOS CON CLABE (APPRIZA)_MEXICO</td>\n",
       "    </tr>\n",
       "    <tr>\n",
       "      <th>122</th>\n",
       "      <td>2024-01-28</td>\n",
       "      <td>480077.61</td>\n",
       "      <td>4.877841e+05</td>\n",
       "      <td>1.605253</td>\n",
       "      <td>7706.460042</td>\n",
       "      <td>G Y T CONTINENTAL_GUATEMALA</td>\n",
       "    </tr>\n",
       "    <tr>\n",
       "      <th>123</th>\n",
       "      <td>2024-01-29</td>\n",
       "      <td>530834.20</td>\n",
       "      <td>5.398347e+05</td>\n",
       "      <td>1.695539</td>\n",
       "      <td>9000.498242</td>\n",
       "      <td>G Y T CONTINENTAL_GUATEMALA</td>\n",
       "    </tr>\n",
       "    <tr>\n",
       "      <th>178</th>\n",
       "      <td>2024-01-28</td>\n",
       "      <td>527858.74</td>\n",
       "      <td>5.092807e+05</td>\n",
       "      <td>3.519510</td>\n",
       "      <td>18578.039540</td>\n",
       "      <td>TELECOMM TELEGRAFOS (APPRIZA)_MEXICO</td>\n",
       "    </tr>\n",
       "    <tr>\n",
       "      <th>179</th>\n",
       "      <td>2024-01-29</td>\n",
       "      <td>486953.52</td>\n",
       "      <td>4.751706e+05</td>\n",
       "      <td>2.419712</td>\n",
       "      <td>11782.871302</td>\n",
       "      <td>TELECOMM TELEGRAFOS (APPRIZA)_MEXICO</td>\n",
       "    </tr>\n",
       "  </tbody>\n",
       "</table>\n",
       "<p>3330 rows × 6 columns</p>\n",
       "</div>"
      ],
      "text/plain": [
       "     pred_date      amount          pred       mape     error_abs  \\\n",
       "0   2023-06-22   333877.50  3.834979e+05  14.861857  49620.396918   \n",
       "1   2023-06-23   472255.00  5.268147e+05  11.553010  54559.668818   \n",
       "2   2023-06-24   471284.00  4.894450e+05   3.853519  18161.019909   \n",
       "3   2023-06-25   387389.00  4.091105e+05   5.607165  21721.539878   \n",
       "4   2023-06-26   398244.00  4.096215e+05   2.856926  11377.536758   \n",
       "..         ...         ...           ...        ...           ...   \n",
       "112 2024-01-29  1047698.27  1.048350e+06   0.062160    651.250487   \n",
       "122 2024-01-28   480077.61  4.877841e+05   1.605253   7706.460042   \n",
       "123 2024-01-29   530834.20  5.398347e+05   1.695539   9000.498242   \n",
       "178 2024-01-28   527858.74  5.092807e+05   3.519510  18578.039540   \n",
       "179 2024-01-29   486953.52  4.751706e+05   2.419712  11782.871302   \n",
       "\n",
       "                            payer_country  \n",
       "0              BANCO AGRICOLA_EL SALVADOR  \n",
       "1              BANCO AGRICOLA_EL SALVADOR  \n",
       "2              BANCO AGRICOLA_EL SALVADOR  \n",
       "3              BANCO AGRICOLA_EL SALVADOR  \n",
       "4              BANCO AGRICOLA_EL SALVADOR  \n",
       "..                                    ...  \n",
       "112     ENVIOS CON CLABE (APPRIZA)_MEXICO  \n",
       "122           G Y T CONTINENTAL_GUATEMALA  \n",
       "123           G Y T CONTINENTAL_GUATEMALA  \n",
       "178  TELECOMM TELEGRAFOS (APPRIZA)_MEXICO  \n",
       "179  TELECOMM TELEGRAFOS (APPRIZA)_MEXICO  \n",
       "\n",
       "[3330 rows x 6 columns]"
      ]
     },
     "execution_count": 364,
     "metadata": {},
     "output_type": "execute_result"
    }
   ],
   "source": [
    "df_top15"
   ]
  },
  {
   "cell_type": "code",
   "execution_count": 365,
   "id": "3a5ef1bf-a758-4eff-8748-fe7173aeb9f2",
   "metadata": {},
   "outputs": [],
   "source": [
    "df_top15 = df_top15.sort_values(by=['payer_country', 'pred_date'])"
   ]
  },
  {
   "cell_type": "code",
   "execution_count": 366,
   "id": "7b4af290-6b7d-4cc6-a2b8-b0b43235facf",
   "metadata": {
    "tags": []
   },
   "outputs": [],
   "source": [
    "##WE OBTAIN THE MOVING AVERAGE OF THE MAPE OF THE PREVIOUS 7 DAYS.\n",
    "df_top15['mape_7_days_avg'] = df_top15.groupby('payer_country')['mape'].rolling(window=7, min_periods=5).mean().reset_index(level=0, drop=True).shift(1)"
   ]
  },
  {
   "cell_type": "code",
   "execution_count": 367,
   "id": "46dc85bf-9799-4b40-bf6a-1f0ead12db86",
   "metadata": {},
   "outputs": [
    {
     "data": {
      "text/plain": [
       "Timestamp('2024-01-29 00:00:00')"
      ]
     },
     "execution_count": 367,
     "metadata": {},
     "output_type": "execute_result"
    }
   ],
   "source": [
    "df_top15.pred_date.max()"
   ]
  },
  {
   "cell_type": "markdown",
   "id": "22c93e21-fdd3-4fdc-8b74-4d0dad48476d",
   "metadata": {},
   "source": [
    "### DEFINITION OF RULES"
   ]
  },
  {
   "cell_type": "markdown",
   "id": "7980ceae-a687-4079-9574-d5fe30b0e580",
   "metadata": {
    "tags": []
   },
   "source": [
    "### CONDITION 1: THAT THE 7-DAY MOVING AVERAGE OF THE LAST TWO MONDAYS GROWS:"
   ]
  },
  {
   "cell_type": "code",
   "execution_count": 368,
   "id": "f9f7990a-427a-4aa7-8817-769dd03b43c3",
   "metadata": {
    "tags": []
   },
   "outputs": [
    {
     "name": "stdout",
     "output_type": "stream",
     "text": [
      "   last_check_date                         payer_country  mape_last_monday  \\\n",
      "0       2024-01-29            BANCO AGRICOLA_EL SALVADOR          5.896972   \n",
      "1       2024-01-29              BANCO ATLANTIDA_HONDURAS          4.357833   \n",
      "2       2024-01-29           BANCO DE OCCIDENTE_HONDURAS          9.096413   \n",
      "3       2024-01-29        BANCO DE ORO (BDO)_PHILIPPINES         15.381394   \n",
      "4       2024-01-29            BANCO INDUSTRIAL_GUATEMALA          5.201585   \n",
      "5       2024-01-29               BANCO RENDIMENTO_BRAZIL         30.537591   \n",
      "6       2024-01-29            BANCOPPEL (APPRIZA)_MEXICO          5.595922   \n",
      "7       2024-01-29                   BANORTE (UT)_MEXICO          5.955230   \n",
      "8       2024-01-29              BANRURAL (RYT)_GUATEMALA          9.843966   \n",
      "9       2024-01-29          BBVA - BANCOMER (BTS)_MEXICO          5.332800   \n",
      "10      2024-01-29     CARIBE EXPRESS_DOMINICAN REPUBLIC          6.533318   \n",
      "11      2024-01-29               ELEKTRA (MEXICO)_MEXICO          7.008689   \n",
      "12      2024-01-29     ENVIOS CON CLABE (APPRIZA)_MEXICO          8.613180   \n",
      "13      2024-01-29           G Y T CONTINENTAL_GUATEMALA          9.793886   \n",
      "14      2024-01-29  TELECOMM TELEGRAFOS (APPRIZA)_MEXICO          6.610619   \n",
      "\n",
      "    mape_previous_monday  mape_previous_previous_monday  CONDITION1  \n",
      "0              11.808818                       9.431614       False  \n",
      "1               5.389756                      10.746015       False  \n",
      "2              11.656978                      13.328649       False  \n",
      "3              14.833366                      16.661164       False  \n",
      "4               7.610178                       9.756218       False  \n",
      "5              25.152328                      19.417284        True  \n",
      "6               8.668374                      13.626734       False  \n",
      "7              10.718542                      10.743145       False  \n",
      "8              14.021984                       8.786395       False  \n",
      "9              11.143071                      16.143505       False  \n",
      "10              5.613215                       6.365228       False  \n",
      "11             12.789090                       6.906489       False  \n",
      "12             10.428099                      13.767069       False  \n",
      "13              7.659747                      10.365930       False  \n",
      "14             12.654447                      19.416885       False  \n"
     ]
    },
    {
     "name": "stderr",
     "output_type": "stream",
     "text": [
      "/tmp/ipykernel_21/3157160575.py:18: DeprecationWarning: DataFrameGroupBy.apply operated on the grouping columns. This behavior is deprecated, and in a future version of pandas the grouping columns will be excluded from the operation. Either pass `include_groups=False` to exclude the groupings or explicitly select the grouping columns after groupby to silence this warning.\n",
      "  data_processed = df_top15.groupby('payer_country').apply(mape_7_days_avg)\n"
     ]
    }
   ],
   "source": [
    "##MAPE AVERAGE IN TEST\n",
    "##REFERENCE HISTORICAL MAPEs ARE CALCULATED BETWEEN 01/01/2021 AND 12/18/23\n",
    "mape_mean_period = df_top15[(df_top15['pred_date'] >= '2023-06-22') & (df_top15['pred_date'] <= '2023-12-18')].groupby('payer_country')['mape'].mean()\n",
    "\n",
    "# FUNCTION TO CALCULATE THE MOVING AVERAGE OF THE LAST 7 DAYS EXCLUDING VALUES 10 TIMES OR MORE HIGHER TAHN THE AVERAGE MAPE.\n",
    "def mape_7_days_avg(group):\n",
    "    \n",
    "    high_mape_values = group[group['mape'] >= 10 * mape_mean_period[group.name]]\n",
    "    group.loc[high_mape_values.index, 'mape'] = None  # Replace high values with None\n",
    "\n",
    "    #Calculate the moving average of the last 7 days for the reference period (06/2023 - 12-2023)\n",
    "    group['mape_7_days_avg'] = group.groupby('payer_country')['mape'].rolling(window=7, min_periods=5).mean().reset_index(level=0, drop=True).shift(1)\n",
    "\n",
    "    return group\n",
    "\n",
    "# Apply the mape_7_days_avg function to each group\n",
    "\n",
    "data_processed = df_top15.groupby('payer_country').apply(mape_7_days_avg)\n",
    "\n",
    "# Reset index\n",
    "data_processed.reset_index(drop=True, inplace=True)\n",
    "\n",
    "#Apply the grouping function and obtain the variable CONDITION 1 for each 'folder_name'.\n",
    "\n",
    "def check_growth(group):\n",
    "    ###DETECT THE LAST MONDAY IN THE SERIES\n",
    "    last_monday = group[group['pred_date'].dt.dayofweek == 0].max()['pred_date']\n",
    "    ### EXTRAMING THE MAPEs MOBILE AVERAGE FOR THE 7 DAYS PRIOR TO THAT MONDAY\n",
    "    mape_last_monday = group[group['pred_date'] == last_monday]['mape_7_days_avg'].iloc[0]\n",
    "    ###DETECT THE PREVIOUS MONDAY\n",
    "    previous_monday = last_monday - pd.DateOffset(7)\n",
    "    ###OBTAINING THE MOVING AVERAGE OF MAPS FOR THE PREVIOUS SEVEN DAYS\n",
    "    mape_previous_monday = group[group['pred_date'] == previous_monday]['mape_7_days_avg'].iloc[0]\n",
    "    ###DETECT THE MONDAY BEFORE THE SECOND MONDAY\n",
    "    previous_previous_monday = previous_monday - pd.DateOffset(7)\n",
    "     ###OBTAINING THE MOVING AVERAGE OF MAPES FOR THE PREVIOUS SEVEN DAYS\n",
    "    mape_previous_previous_monday = group[group['pred_date'] == previous_previous_monday]['mape_7_days_avg'].iloc[0]\n",
    "\n",
    "    # CREATE A DATAFRAME WITH ADDITIONAL COLUMNS\n",
    "    result = pd.DataFrame({\n",
    "        'last_check_date': [last_monday],\n",
    "        'payer_country': [group['payer_country'].iloc[0]], # El nombre del folder_name es el mismo para todos los registros del grupo\n",
    "        'mape_last_monday': [mape_last_monday],\n",
    "        'mape_previous_monday': [mape_previous_monday],\n",
    "        'mape_previous_previous_monday': [mape_previous_previous_monday]\n",
    "    })\n",
    "\n",
    "    # ADD CONDITION 1 COLUMN\n",
    "    if mape_last_monday > mape_previous_monday and mape_previous_monday > mape_previous_previous_monday:\n",
    "        result['CONDITION1'] = True\n",
    "    else:\n",
    "        result['CONDITION1'] = False\n",
    "\n",
    "    return result\n",
    "\n",
    "# APPLY THE CHECK_GROWTH FUNCTION AND CONCATENATE RESULTS\n",
    "result = pd.concat([check_growth(group) for _, group in data_processed.groupby('payer_country')], ignore_index=True)\n",
    "\n",
    "print(result)"
   ]
  },
  {
   "cell_type": "code",
   "execution_count": 369,
   "id": "5357eec5-1e2a-40b4-88bc-04c6993c3030",
   "metadata": {
    "tags": []
   },
   "outputs": [
    {
     "data": {
      "text/plain": [
       "payer_country\n",
       "BANCO AGRICOLA_EL SALVADOR               7.094948\n",
       "BANCO ATLANTIDA_HONDURAS                 8.089944\n",
       "BANCO DE OCCIDENTE_HONDURAS              7.828954\n",
       "BANCO DE ORO (BDO)_PHILIPPINES          15.246002\n",
       "BANCO INDUSTRIAL_GUATEMALA               7.838171\n",
       "BANCO RENDIMENTO_BRAZIL                 18.856583\n",
       "BANCOPPEL (APPRIZA)_MEXICO               8.023823\n",
       "BANORTE (UT)_MEXICO                      9.350056\n",
       "BANRURAL (RYT)_GUATEMALA                 8.651675\n",
       "BBVA - BANCOMER (BTS)_MEXICO             9.952609\n",
       "CARIBE EXPRESS_DOMINICAN REPUBLIC        8.666772\n",
       "ELEKTRA (MEXICO)_MEXICO                  6.994206\n",
       "ENVIOS CON CLABE (APPRIZA)_MEXICO        8.032867\n",
       "G Y T CONTINENTAL_GUATEMALA              9.788683\n",
       "TELECOMM TELEGRAFOS (APPRIZA)_MEXICO    11.625459\n",
       "Name: mape, dtype: float64"
      ]
     },
     "execution_count": 369,
     "metadata": {},
     "output_type": "execute_result"
    }
   ],
   "source": [
    "mape_mean_period2=data_processed[(data_processed['pred_date'] >= '2023-06-22') & (data_processed['pred_date'] <= '2023-12-18')].groupby('payer_country')['mape'].mean()\n",
    "##AVERAGE MAPE OF THE TEST PERIOD (2023-06 2023-12) WITHOUT MAPEs > 10X TEST PERIOD\n",
    "mape_mean_period2"
   ]
  },
  {
   "cell_type": "markdown",
   "id": "ac4c58a2-ed50-4b83-8dc0-ed9ef9ac7214",
   "metadata": {},
   "source": [
    "### CONDITION2: THE MAPE OF THE LAST WEEK IS NOT GREATER THAN THE MAXIMUM 7-DAY MOVING AVERAGE HISTORICAL MAXIMUM OF THE TEST PERIOD"
   ]
  },
  {
   "cell_type": "code",
   "execution_count": 370,
   "id": "3e564115-55ab-4604-866d-8df7b5c33a68",
   "metadata": {},
   "outputs": [
    {
     "data": {
      "text/plain": [
       "payer_country\n",
       "BANCO AGRICOLA_EL SALVADOR              13.488821\n",
       "BANCO ATLANTIDA_HONDURAS                16.010195\n",
       "BANCO DE OCCIDENTE_HONDURAS             17.638946\n",
       "BANCO DE ORO (BDO)_PHILIPPINES          28.174718\n",
       "BANCO INDUSTRIAL_GUATEMALA              24.976621\n",
       "BANCO RENDIMENTO_BRAZIL                 42.138393\n",
       "BANCOPPEL (APPRIZA)_MEXICO              21.307336\n",
       "BANORTE (UT)_MEXICO                     17.853906\n",
       "BANRURAL (RYT)_GUATEMALA                18.573531\n",
       "BBVA - BANCOMER (BTS)_MEXICO            18.435182\n",
       "CARIBE EXPRESS_DOMINICAN REPUBLIC       20.647582\n",
       "ELEKTRA (MEXICO)_MEXICO                 18.153615\n",
       "ENVIOS CON CLABE (APPRIZA)_MEXICO       19.877006\n",
       "G Y T CONTINENTAL_GUATEMALA             23.019552\n",
       "TELECOMM TELEGRAFOS (APPRIZA)_MEXICO    24.395719\n",
       "Name: mape_7_days_avg, dtype: float64"
      ]
     },
     "execution_count": 370,
     "metadata": {},
     "output_type": "execute_result"
    }
   ],
   "source": [
    "mape_max_period=data_processed[(data_processed['pred_date'] >= '2023-06-22') & (data_processed['pred_date'] <= '2023-12-18')].groupby('payer_country')['mape_7_days_avg'].max()\n",
    "mape_max_period"
   ]
  },
  {
   "cell_type": "code",
   "execution_count": 371,
   "id": "e542724f-6101-471c-a7c3-c707a77da52b",
   "metadata": {
    "tags": []
   },
   "outputs": [],
   "source": [
    "###WE ADD THE MAXIMUM OF THE 7-DAY MOVING AVERAGE OF THE MAPEs IN THE TEST PERIOD\n",
    "df_monitoring=pd.merge(result, mape_max_period, on='payer_country', how='outer')"
   ]
  },
  {
   "cell_type": "code",
   "execution_count": 372,
   "id": "76a167a6-1d30-44ae-9055-1a8570c279f7",
   "metadata": {
    "tags": []
   },
   "outputs": [
    {
     "data": {
      "text/html": [
       "<div>\n",
       "<style scoped>\n",
       "    .dataframe tbody tr th:only-of-type {\n",
       "        vertical-align: middle;\n",
       "    }\n",
       "\n",
       "    .dataframe tbody tr th {\n",
       "        vertical-align: top;\n",
       "    }\n",
       "\n",
       "    .dataframe thead th {\n",
       "        text-align: right;\n",
       "    }\n",
       "</style>\n",
       "<table border=\"1\" class=\"dataframe\">\n",
       "  <thead>\n",
       "    <tr style=\"text-align: right;\">\n",
       "      <th></th>\n",
       "      <th>last_check_date</th>\n",
       "      <th>payer_country</th>\n",
       "      <th>mape_last_monday</th>\n",
       "      <th>mape_previous_monday</th>\n",
       "      <th>mape_previous_previous_monday</th>\n",
       "      <th>CONDITION1</th>\n",
       "      <th>mape_7_days_avg</th>\n",
       "    </tr>\n",
       "  </thead>\n",
       "  <tbody>\n",
       "    <tr>\n",
       "      <th>0</th>\n",
       "      <td>2024-01-29</td>\n",
       "      <td>BANCO AGRICOLA_EL SALVADOR</td>\n",
       "      <td>5.896972</td>\n",
       "      <td>11.808818</td>\n",
       "      <td>9.431614</td>\n",
       "      <td>False</td>\n",
       "      <td>13.488821</td>\n",
       "    </tr>\n",
       "    <tr>\n",
       "      <th>1</th>\n",
       "      <td>2024-01-29</td>\n",
       "      <td>BANCO ATLANTIDA_HONDURAS</td>\n",
       "      <td>4.357833</td>\n",
       "      <td>5.389756</td>\n",
       "      <td>10.746015</td>\n",
       "      <td>False</td>\n",
       "      <td>16.010195</td>\n",
       "    </tr>\n",
       "    <tr>\n",
       "      <th>2</th>\n",
       "      <td>2024-01-29</td>\n",
       "      <td>BANCO DE OCCIDENTE_HONDURAS</td>\n",
       "      <td>9.096413</td>\n",
       "      <td>11.656978</td>\n",
       "      <td>13.328649</td>\n",
       "      <td>False</td>\n",
       "      <td>17.638946</td>\n",
       "    </tr>\n",
       "    <tr>\n",
       "      <th>3</th>\n",
       "      <td>2024-01-29</td>\n",
       "      <td>BANCO DE ORO (BDO)_PHILIPPINES</td>\n",
       "      <td>15.381394</td>\n",
       "      <td>14.833366</td>\n",
       "      <td>16.661164</td>\n",
       "      <td>False</td>\n",
       "      <td>28.174718</td>\n",
       "    </tr>\n",
       "    <tr>\n",
       "      <th>4</th>\n",
       "      <td>2024-01-29</td>\n",
       "      <td>BANCO INDUSTRIAL_GUATEMALA</td>\n",
       "      <td>5.201585</td>\n",
       "      <td>7.610178</td>\n",
       "      <td>9.756218</td>\n",
       "      <td>False</td>\n",
       "      <td>24.976621</td>\n",
       "    </tr>\n",
       "    <tr>\n",
       "      <th>5</th>\n",
       "      <td>2024-01-29</td>\n",
       "      <td>BANCO RENDIMENTO_BRAZIL</td>\n",
       "      <td>30.537591</td>\n",
       "      <td>25.152328</td>\n",
       "      <td>19.417284</td>\n",
       "      <td>True</td>\n",
       "      <td>42.138393</td>\n",
       "    </tr>\n",
       "    <tr>\n",
       "      <th>6</th>\n",
       "      <td>2024-01-29</td>\n",
       "      <td>BANCOPPEL (APPRIZA)_MEXICO</td>\n",
       "      <td>5.595922</td>\n",
       "      <td>8.668374</td>\n",
       "      <td>13.626734</td>\n",
       "      <td>False</td>\n",
       "      <td>21.307336</td>\n",
       "    </tr>\n",
       "    <tr>\n",
       "      <th>7</th>\n",
       "      <td>2024-01-29</td>\n",
       "      <td>BANORTE (UT)_MEXICO</td>\n",
       "      <td>5.955230</td>\n",
       "      <td>10.718542</td>\n",
       "      <td>10.743145</td>\n",
       "      <td>False</td>\n",
       "      <td>17.853906</td>\n",
       "    </tr>\n",
       "    <tr>\n",
       "      <th>8</th>\n",
       "      <td>2024-01-29</td>\n",
       "      <td>BANRURAL (RYT)_GUATEMALA</td>\n",
       "      <td>9.843966</td>\n",
       "      <td>14.021984</td>\n",
       "      <td>8.786395</td>\n",
       "      <td>False</td>\n",
       "      <td>18.573531</td>\n",
       "    </tr>\n",
       "    <tr>\n",
       "      <th>9</th>\n",
       "      <td>2024-01-29</td>\n",
       "      <td>BBVA - BANCOMER (BTS)_MEXICO</td>\n",
       "      <td>5.332800</td>\n",
       "      <td>11.143071</td>\n",
       "      <td>16.143505</td>\n",
       "      <td>False</td>\n",
       "      <td>18.435182</td>\n",
       "    </tr>\n",
       "    <tr>\n",
       "      <th>10</th>\n",
       "      <td>2024-01-29</td>\n",
       "      <td>CARIBE EXPRESS_DOMINICAN REPUBLIC</td>\n",
       "      <td>6.533318</td>\n",
       "      <td>5.613215</td>\n",
       "      <td>6.365228</td>\n",
       "      <td>False</td>\n",
       "      <td>20.647582</td>\n",
       "    </tr>\n",
       "    <tr>\n",
       "      <th>11</th>\n",
       "      <td>2024-01-29</td>\n",
       "      <td>ELEKTRA (MEXICO)_MEXICO</td>\n",
       "      <td>7.008689</td>\n",
       "      <td>12.789090</td>\n",
       "      <td>6.906489</td>\n",
       "      <td>False</td>\n",
       "      <td>18.153615</td>\n",
       "    </tr>\n",
       "    <tr>\n",
       "      <th>12</th>\n",
       "      <td>2024-01-29</td>\n",
       "      <td>ENVIOS CON CLABE (APPRIZA)_MEXICO</td>\n",
       "      <td>8.613180</td>\n",
       "      <td>10.428099</td>\n",
       "      <td>13.767069</td>\n",
       "      <td>False</td>\n",
       "      <td>19.877006</td>\n",
       "    </tr>\n",
       "    <tr>\n",
       "      <th>13</th>\n",
       "      <td>2024-01-29</td>\n",
       "      <td>G Y T CONTINENTAL_GUATEMALA</td>\n",
       "      <td>9.793886</td>\n",
       "      <td>7.659747</td>\n",
       "      <td>10.365930</td>\n",
       "      <td>False</td>\n",
       "      <td>23.019552</td>\n",
       "    </tr>\n",
       "    <tr>\n",
       "      <th>14</th>\n",
       "      <td>2024-01-29</td>\n",
       "      <td>TELECOMM TELEGRAFOS (APPRIZA)_MEXICO</td>\n",
       "      <td>6.610619</td>\n",
       "      <td>12.654447</td>\n",
       "      <td>19.416885</td>\n",
       "      <td>False</td>\n",
       "      <td>24.395719</td>\n",
       "    </tr>\n",
       "  </tbody>\n",
       "</table>\n",
       "</div>"
      ],
      "text/plain": [
       "   last_check_date                         payer_country  mape_last_monday  \\\n",
       "0       2024-01-29            BANCO AGRICOLA_EL SALVADOR          5.896972   \n",
       "1       2024-01-29              BANCO ATLANTIDA_HONDURAS          4.357833   \n",
       "2       2024-01-29           BANCO DE OCCIDENTE_HONDURAS          9.096413   \n",
       "3       2024-01-29        BANCO DE ORO (BDO)_PHILIPPINES         15.381394   \n",
       "4       2024-01-29            BANCO INDUSTRIAL_GUATEMALA          5.201585   \n",
       "5       2024-01-29               BANCO RENDIMENTO_BRAZIL         30.537591   \n",
       "6       2024-01-29            BANCOPPEL (APPRIZA)_MEXICO          5.595922   \n",
       "7       2024-01-29                   BANORTE (UT)_MEXICO          5.955230   \n",
       "8       2024-01-29              BANRURAL (RYT)_GUATEMALA          9.843966   \n",
       "9       2024-01-29          BBVA - BANCOMER (BTS)_MEXICO          5.332800   \n",
       "10      2024-01-29     CARIBE EXPRESS_DOMINICAN REPUBLIC          6.533318   \n",
       "11      2024-01-29               ELEKTRA (MEXICO)_MEXICO          7.008689   \n",
       "12      2024-01-29     ENVIOS CON CLABE (APPRIZA)_MEXICO          8.613180   \n",
       "13      2024-01-29           G Y T CONTINENTAL_GUATEMALA          9.793886   \n",
       "14      2024-01-29  TELECOMM TELEGRAFOS (APPRIZA)_MEXICO          6.610619   \n",
       "\n",
       "    mape_previous_monday  mape_previous_previous_monday  CONDITION1  \\\n",
       "0              11.808818                       9.431614       False   \n",
       "1               5.389756                      10.746015       False   \n",
       "2              11.656978                      13.328649       False   \n",
       "3              14.833366                      16.661164       False   \n",
       "4               7.610178                       9.756218       False   \n",
       "5              25.152328                      19.417284        True   \n",
       "6               8.668374                      13.626734       False   \n",
       "7              10.718542                      10.743145       False   \n",
       "8              14.021984                       8.786395       False   \n",
       "9              11.143071                      16.143505       False   \n",
       "10              5.613215                       6.365228       False   \n",
       "11             12.789090                       6.906489       False   \n",
       "12             10.428099                      13.767069       False   \n",
       "13              7.659747                      10.365930       False   \n",
       "14             12.654447                      19.416885       False   \n",
       "\n",
       "    mape_7_days_avg  \n",
       "0         13.488821  \n",
       "1         16.010195  \n",
       "2         17.638946  \n",
       "3         28.174718  \n",
       "4         24.976621  \n",
       "5         42.138393  \n",
       "6         21.307336  \n",
       "7         17.853906  \n",
       "8         18.573531  \n",
       "9         18.435182  \n",
       "10        20.647582  \n",
       "11        18.153615  \n",
       "12        19.877006  \n",
       "13        23.019552  \n",
       "14        24.395719  "
      ]
     },
     "execution_count": 372,
     "metadata": {},
     "output_type": "execute_result"
    }
   ],
   "source": [
    "df_monitoring"
   ]
  },
  {
   "cell_type": "code",
   "execution_count": 373,
   "id": "91559b69-d969-4aab-8715-e57f29ecf30d",
   "metadata": {
    "tags": []
   },
   "outputs": [],
   "source": [
    "df_monitoring.rename(columns={'mape_7_days_avg': 'mape_7_days_avg_mobile_max'}, inplace=True)"
   ]
  },
  {
   "cell_type": "code",
   "execution_count": 374,
   "id": "6a59d5ec-dd26-40d6-aa74-2a11e03576d3",
   "metadata": {
    "tags": []
   },
   "outputs": [],
   "source": [
    "###GENERATE CONDITION 2 AND CONDITION 3\n",
    "def generate_condition2(row):\n",
    "    if  row['mape_last_monday']  > row['mape_7_days_avg_mobile_max'] * 1.05:\n",
    "        return True\n",
    "    else:\n",
    "        return False\n",
    "\n",
    "def generate_condition3(row):\n",
    "    if  row['mape_last_monday']  >  row['mape_7_days_avg_mobile_max'] * 1.10:\n",
    "        return True\n",
    "    else:\n",
    "        return False\n",
    "\n",
    "# Aplicar la función a lo largo de las filas del DataFrame\n",
    "df_monitoring['CONDITION2'] = df_monitoring.apply(generate_condition2, axis=1)\n",
    "df_monitoring['CONDITION3'] = df_monitoring.apply(generate_condition3, axis=1)"
   ]
  },
  {
   "cell_type": "code",
   "execution_count": 375,
   "id": "fa2251b9-56d5-44af-ae85-ee5aaf9f8039",
   "metadata": {
    "tags": []
   },
   "outputs": [
    {
     "data": {
      "text/html": [
       "<div>\n",
       "<style scoped>\n",
       "    .dataframe tbody tr th:only-of-type {\n",
       "        vertical-align: middle;\n",
       "    }\n",
       "\n",
       "    .dataframe tbody tr th {\n",
       "        vertical-align: top;\n",
       "    }\n",
       "\n",
       "    .dataframe thead th {\n",
       "        text-align: right;\n",
       "    }\n",
       "</style>\n",
       "<table border=\"1\" class=\"dataframe\">\n",
       "  <thead>\n",
       "    <tr style=\"text-align: right;\">\n",
       "      <th></th>\n",
       "      <th>last_check_date</th>\n",
       "      <th>payer_country</th>\n",
       "      <th>mape_last_monday</th>\n",
       "      <th>mape_previous_monday</th>\n",
       "      <th>mape_previous_previous_monday</th>\n",
       "      <th>CONDITION1</th>\n",
       "      <th>mape_7_days_avg_mobile_max</th>\n",
       "      <th>CONDITION2</th>\n",
       "      <th>CONDITION3</th>\n",
       "    </tr>\n",
       "  </thead>\n",
       "  <tbody>\n",
       "    <tr>\n",
       "      <th>0</th>\n",
       "      <td>2024-01-29</td>\n",
       "      <td>BANCO AGRICOLA_EL SALVADOR</td>\n",
       "      <td>5.896972</td>\n",
       "      <td>11.808818</td>\n",
       "      <td>9.431614</td>\n",
       "      <td>False</td>\n",
       "      <td>13.488821</td>\n",
       "      <td>False</td>\n",
       "      <td>False</td>\n",
       "    </tr>\n",
       "    <tr>\n",
       "      <th>1</th>\n",
       "      <td>2024-01-29</td>\n",
       "      <td>BANCO ATLANTIDA_HONDURAS</td>\n",
       "      <td>4.357833</td>\n",
       "      <td>5.389756</td>\n",
       "      <td>10.746015</td>\n",
       "      <td>False</td>\n",
       "      <td>16.010195</td>\n",
       "      <td>False</td>\n",
       "      <td>False</td>\n",
       "    </tr>\n",
       "    <tr>\n",
       "      <th>2</th>\n",
       "      <td>2024-01-29</td>\n",
       "      <td>BANCO DE OCCIDENTE_HONDURAS</td>\n",
       "      <td>9.096413</td>\n",
       "      <td>11.656978</td>\n",
       "      <td>13.328649</td>\n",
       "      <td>False</td>\n",
       "      <td>17.638946</td>\n",
       "      <td>False</td>\n",
       "      <td>False</td>\n",
       "    </tr>\n",
       "    <tr>\n",
       "      <th>3</th>\n",
       "      <td>2024-01-29</td>\n",
       "      <td>BANCO DE ORO (BDO)_PHILIPPINES</td>\n",
       "      <td>15.381394</td>\n",
       "      <td>14.833366</td>\n",
       "      <td>16.661164</td>\n",
       "      <td>False</td>\n",
       "      <td>28.174718</td>\n",
       "      <td>False</td>\n",
       "      <td>False</td>\n",
       "    </tr>\n",
       "    <tr>\n",
       "      <th>4</th>\n",
       "      <td>2024-01-29</td>\n",
       "      <td>BANCO INDUSTRIAL_GUATEMALA</td>\n",
       "      <td>5.201585</td>\n",
       "      <td>7.610178</td>\n",
       "      <td>9.756218</td>\n",
       "      <td>False</td>\n",
       "      <td>24.976621</td>\n",
       "      <td>False</td>\n",
       "      <td>False</td>\n",
       "    </tr>\n",
       "    <tr>\n",
       "      <th>5</th>\n",
       "      <td>2024-01-29</td>\n",
       "      <td>BANCO RENDIMENTO_BRAZIL</td>\n",
       "      <td>30.537591</td>\n",
       "      <td>25.152328</td>\n",
       "      <td>19.417284</td>\n",
       "      <td>True</td>\n",
       "      <td>42.138393</td>\n",
       "      <td>False</td>\n",
       "      <td>False</td>\n",
       "    </tr>\n",
       "    <tr>\n",
       "      <th>6</th>\n",
       "      <td>2024-01-29</td>\n",
       "      <td>BANCOPPEL (APPRIZA)_MEXICO</td>\n",
       "      <td>5.595922</td>\n",
       "      <td>8.668374</td>\n",
       "      <td>13.626734</td>\n",
       "      <td>False</td>\n",
       "      <td>21.307336</td>\n",
       "      <td>False</td>\n",
       "      <td>False</td>\n",
       "    </tr>\n",
       "    <tr>\n",
       "      <th>7</th>\n",
       "      <td>2024-01-29</td>\n",
       "      <td>BANORTE (UT)_MEXICO</td>\n",
       "      <td>5.955230</td>\n",
       "      <td>10.718542</td>\n",
       "      <td>10.743145</td>\n",
       "      <td>False</td>\n",
       "      <td>17.853906</td>\n",
       "      <td>False</td>\n",
       "      <td>False</td>\n",
       "    </tr>\n",
       "    <tr>\n",
       "      <th>8</th>\n",
       "      <td>2024-01-29</td>\n",
       "      <td>BANRURAL (RYT)_GUATEMALA</td>\n",
       "      <td>9.843966</td>\n",
       "      <td>14.021984</td>\n",
       "      <td>8.786395</td>\n",
       "      <td>False</td>\n",
       "      <td>18.573531</td>\n",
       "      <td>False</td>\n",
       "      <td>False</td>\n",
       "    </tr>\n",
       "    <tr>\n",
       "      <th>9</th>\n",
       "      <td>2024-01-29</td>\n",
       "      <td>BBVA - BANCOMER (BTS)_MEXICO</td>\n",
       "      <td>5.332800</td>\n",
       "      <td>11.143071</td>\n",
       "      <td>16.143505</td>\n",
       "      <td>False</td>\n",
       "      <td>18.435182</td>\n",
       "      <td>False</td>\n",
       "      <td>False</td>\n",
       "    </tr>\n",
       "    <tr>\n",
       "      <th>10</th>\n",
       "      <td>2024-01-29</td>\n",
       "      <td>CARIBE EXPRESS_DOMINICAN REPUBLIC</td>\n",
       "      <td>6.533318</td>\n",
       "      <td>5.613215</td>\n",
       "      <td>6.365228</td>\n",
       "      <td>False</td>\n",
       "      <td>20.647582</td>\n",
       "      <td>False</td>\n",
       "      <td>False</td>\n",
       "    </tr>\n",
       "    <tr>\n",
       "      <th>11</th>\n",
       "      <td>2024-01-29</td>\n",
       "      <td>ELEKTRA (MEXICO)_MEXICO</td>\n",
       "      <td>7.008689</td>\n",
       "      <td>12.789090</td>\n",
       "      <td>6.906489</td>\n",
       "      <td>False</td>\n",
       "      <td>18.153615</td>\n",
       "      <td>False</td>\n",
       "      <td>False</td>\n",
       "    </tr>\n",
       "    <tr>\n",
       "      <th>12</th>\n",
       "      <td>2024-01-29</td>\n",
       "      <td>ENVIOS CON CLABE (APPRIZA)_MEXICO</td>\n",
       "      <td>8.613180</td>\n",
       "      <td>10.428099</td>\n",
       "      <td>13.767069</td>\n",
       "      <td>False</td>\n",
       "      <td>19.877006</td>\n",
       "      <td>False</td>\n",
       "      <td>False</td>\n",
       "    </tr>\n",
       "    <tr>\n",
       "      <th>13</th>\n",
       "      <td>2024-01-29</td>\n",
       "      <td>G Y T CONTINENTAL_GUATEMALA</td>\n",
       "      <td>9.793886</td>\n",
       "      <td>7.659747</td>\n",
       "      <td>10.365930</td>\n",
       "      <td>False</td>\n",
       "      <td>23.019552</td>\n",
       "      <td>False</td>\n",
       "      <td>False</td>\n",
       "    </tr>\n",
       "    <tr>\n",
       "      <th>14</th>\n",
       "      <td>2024-01-29</td>\n",
       "      <td>TELECOMM TELEGRAFOS (APPRIZA)_MEXICO</td>\n",
       "      <td>6.610619</td>\n",
       "      <td>12.654447</td>\n",
       "      <td>19.416885</td>\n",
       "      <td>False</td>\n",
       "      <td>24.395719</td>\n",
       "      <td>False</td>\n",
       "      <td>False</td>\n",
       "    </tr>\n",
       "  </tbody>\n",
       "</table>\n",
       "</div>"
      ],
      "text/plain": [
       "   last_check_date                         payer_country  mape_last_monday  \\\n",
       "0       2024-01-29            BANCO AGRICOLA_EL SALVADOR          5.896972   \n",
       "1       2024-01-29              BANCO ATLANTIDA_HONDURAS          4.357833   \n",
       "2       2024-01-29           BANCO DE OCCIDENTE_HONDURAS          9.096413   \n",
       "3       2024-01-29        BANCO DE ORO (BDO)_PHILIPPINES         15.381394   \n",
       "4       2024-01-29            BANCO INDUSTRIAL_GUATEMALA          5.201585   \n",
       "5       2024-01-29               BANCO RENDIMENTO_BRAZIL         30.537591   \n",
       "6       2024-01-29            BANCOPPEL (APPRIZA)_MEXICO          5.595922   \n",
       "7       2024-01-29                   BANORTE (UT)_MEXICO          5.955230   \n",
       "8       2024-01-29              BANRURAL (RYT)_GUATEMALA          9.843966   \n",
       "9       2024-01-29          BBVA - BANCOMER (BTS)_MEXICO          5.332800   \n",
       "10      2024-01-29     CARIBE EXPRESS_DOMINICAN REPUBLIC          6.533318   \n",
       "11      2024-01-29               ELEKTRA (MEXICO)_MEXICO          7.008689   \n",
       "12      2024-01-29     ENVIOS CON CLABE (APPRIZA)_MEXICO          8.613180   \n",
       "13      2024-01-29           G Y T CONTINENTAL_GUATEMALA          9.793886   \n",
       "14      2024-01-29  TELECOMM TELEGRAFOS (APPRIZA)_MEXICO          6.610619   \n",
       "\n",
       "    mape_previous_monday  mape_previous_previous_monday  CONDITION1  \\\n",
       "0              11.808818                       9.431614       False   \n",
       "1               5.389756                      10.746015       False   \n",
       "2              11.656978                      13.328649       False   \n",
       "3              14.833366                      16.661164       False   \n",
       "4               7.610178                       9.756218       False   \n",
       "5              25.152328                      19.417284        True   \n",
       "6               8.668374                      13.626734       False   \n",
       "7              10.718542                      10.743145       False   \n",
       "8              14.021984                       8.786395       False   \n",
       "9              11.143071                      16.143505       False   \n",
       "10              5.613215                       6.365228       False   \n",
       "11             12.789090                       6.906489       False   \n",
       "12             10.428099                      13.767069       False   \n",
       "13              7.659747                      10.365930       False   \n",
       "14             12.654447                      19.416885       False   \n",
       "\n",
       "    mape_7_days_avg_mobile_max  CONDITION2  CONDITION3  \n",
       "0                    13.488821       False       False  \n",
       "1                    16.010195       False       False  \n",
       "2                    17.638946       False       False  \n",
       "3                    28.174718       False       False  \n",
       "4                    24.976621       False       False  \n",
       "5                    42.138393       False       False  \n",
       "6                    21.307336       False       False  \n",
       "7                    17.853906       False       False  \n",
       "8                    18.573531       False       False  \n",
       "9                    18.435182       False       False  \n",
       "10                   20.647582       False       False  \n",
       "11                   18.153615       False       False  \n",
       "12                   19.877006       False       False  \n",
       "13                   23.019552       False       False  \n",
       "14                   24.395719       False       False  "
      ]
     },
     "execution_count": 375,
     "metadata": {},
     "output_type": "execute_result"
    }
   ],
   "source": [
    "df_monitoring"
   ]
  },
  {
   "cell_type": "markdown",
   "id": "36880c16-4b4b-4d25-95aa-3194ae5fc08b",
   "metadata": {},
   "source": [
    "### RECOMMENDED ACTIONS"
   ]
  },
  {
   "cell_type": "code",
   "execution_count": 376,
   "id": "095e4333-72cb-4aa3-9679-ed091edc5ee2",
   "metadata": {
    "tags": []
   },
   "outputs": [],
   "source": [
    "###RECOMMENDED ACTIONS ARE GENERATED\n",
    "\n",
    "def actions_recommended(row):\n",
    "    if  row['CONDITION1'] == True and row['CONDITION2']==True and row['CONDITION3']==False:\n",
    "        return 'REQUIRES CALIBRATION'\n",
    "    elif row['CONDITION1'] == True and row['CONDITION3']==True:\n",
    "        return 'REQUIRES RE-TRAINING'\n",
    "    else:\n",
    "        return 'KEEP CURRENT MODEL'\n",
    "\n",
    "df_monitoring['RECOMMENDED_ACTIONS'] = df_monitoring.apply(actions_recommended, axis=1)"
   ]
  },
  {
   "cell_type": "code",
   "execution_count": 377,
   "id": "d22dedf5-9d2b-4323-b74e-f5529cc2bba0",
   "metadata": {
    "tags": []
   },
   "outputs": [
    {
     "data": {
      "text/html": [
       "<div>\n",
       "<style scoped>\n",
       "    .dataframe tbody tr th:only-of-type {\n",
       "        vertical-align: middle;\n",
       "    }\n",
       "\n",
       "    .dataframe tbody tr th {\n",
       "        vertical-align: top;\n",
       "    }\n",
       "\n",
       "    .dataframe thead th {\n",
       "        text-align: right;\n",
       "    }\n",
       "</style>\n",
       "<table border=\"1\" class=\"dataframe\">\n",
       "  <thead>\n",
       "    <tr style=\"text-align: right;\">\n",
       "      <th></th>\n",
       "      <th>last_check_date</th>\n",
       "      <th>payer_country</th>\n",
       "      <th>mape_last_monday</th>\n",
       "      <th>mape_previous_monday</th>\n",
       "      <th>mape_previous_previous_monday</th>\n",
       "      <th>CONDITION1</th>\n",
       "      <th>mape_7_days_avg_mobile_max</th>\n",
       "      <th>CONDITION2</th>\n",
       "      <th>CONDITION3</th>\n",
       "      <th>RECOMMENDED_ACTIONS</th>\n",
       "    </tr>\n",
       "  </thead>\n",
       "  <tbody>\n",
       "    <tr>\n",
       "      <th>0</th>\n",
       "      <td>2024-01-29</td>\n",
       "      <td>BANCO AGRICOLA_EL SALVADOR</td>\n",
       "      <td>5.896972</td>\n",
       "      <td>11.808818</td>\n",
       "      <td>9.431614</td>\n",
       "      <td>False</td>\n",
       "      <td>13.488821</td>\n",
       "      <td>False</td>\n",
       "      <td>False</td>\n",
       "      <td>KEEP CURRENT MODEL</td>\n",
       "    </tr>\n",
       "    <tr>\n",
       "      <th>1</th>\n",
       "      <td>2024-01-29</td>\n",
       "      <td>BANCO ATLANTIDA_HONDURAS</td>\n",
       "      <td>4.357833</td>\n",
       "      <td>5.389756</td>\n",
       "      <td>10.746015</td>\n",
       "      <td>False</td>\n",
       "      <td>16.010195</td>\n",
       "      <td>False</td>\n",
       "      <td>False</td>\n",
       "      <td>KEEP CURRENT MODEL</td>\n",
       "    </tr>\n",
       "    <tr>\n",
       "      <th>2</th>\n",
       "      <td>2024-01-29</td>\n",
       "      <td>BANCO DE OCCIDENTE_HONDURAS</td>\n",
       "      <td>9.096413</td>\n",
       "      <td>11.656978</td>\n",
       "      <td>13.328649</td>\n",
       "      <td>False</td>\n",
       "      <td>17.638946</td>\n",
       "      <td>False</td>\n",
       "      <td>False</td>\n",
       "      <td>KEEP CURRENT MODEL</td>\n",
       "    </tr>\n",
       "    <tr>\n",
       "      <th>3</th>\n",
       "      <td>2024-01-29</td>\n",
       "      <td>BANCO DE ORO (BDO)_PHILIPPINES</td>\n",
       "      <td>15.381394</td>\n",
       "      <td>14.833366</td>\n",
       "      <td>16.661164</td>\n",
       "      <td>False</td>\n",
       "      <td>28.174718</td>\n",
       "      <td>False</td>\n",
       "      <td>False</td>\n",
       "      <td>KEEP CURRENT MODEL</td>\n",
       "    </tr>\n",
       "    <tr>\n",
       "      <th>4</th>\n",
       "      <td>2024-01-29</td>\n",
       "      <td>BANCO INDUSTRIAL_GUATEMALA</td>\n",
       "      <td>5.201585</td>\n",
       "      <td>7.610178</td>\n",
       "      <td>9.756218</td>\n",
       "      <td>False</td>\n",
       "      <td>24.976621</td>\n",
       "      <td>False</td>\n",
       "      <td>False</td>\n",
       "      <td>KEEP CURRENT MODEL</td>\n",
       "    </tr>\n",
       "    <tr>\n",
       "      <th>5</th>\n",
       "      <td>2024-01-29</td>\n",
       "      <td>BANCO RENDIMENTO_BRAZIL</td>\n",
       "      <td>30.537591</td>\n",
       "      <td>25.152328</td>\n",
       "      <td>19.417284</td>\n",
       "      <td>True</td>\n",
       "      <td>42.138393</td>\n",
       "      <td>False</td>\n",
       "      <td>False</td>\n",
       "      <td>KEEP CURRENT MODEL</td>\n",
       "    </tr>\n",
       "    <tr>\n",
       "      <th>6</th>\n",
       "      <td>2024-01-29</td>\n",
       "      <td>BANCOPPEL (APPRIZA)_MEXICO</td>\n",
       "      <td>5.595922</td>\n",
       "      <td>8.668374</td>\n",
       "      <td>13.626734</td>\n",
       "      <td>False</td>\n",
       "      <td>21.307336</td>\n",
       "      <td>False</td>\n",
       "      <td>False</td>\n",
       "      <td>KEEP CURRENT MODEL</td>\n",
       "    </tr>\n",
       "    <tr>\n",
       "      <th>7</th>\n",
       "      <td>2024-01-29</td>\n",
       "      <td>BANORTE (UT)_MEXICO</td>\n",
       "      <td>5.955230</td>\n",
       "      <td>10.718542</td>\n",
       "      <td>10.743145</td>\n",
       "      <td>False</td>\n",
       "      <td>17.853906</td>\n",
       "      <td>False</td>\n",
       "      <td>False</td>\n",
       "      <td>KEEP CURRENT MODEL</td>\n",
       "    </tr>\n",
       "    <tr>\n",
       "      <th>8</th>\n",
       "      <td>2024-01-29</td>\n",
       "      <td>BANRURAL (RYT)_GUATEMALA</td>\n",
       "      <td>9.843966</td>\n",
       "      <td>14.021984</td>\n",
       "      <td>8.786395</td>\n",
       "      <td>False</td>\n",
       "      <td>18.573531</td>\n",
       "      <td>False</td>\n",
       "      <td>False</td>\n",
       "      <td>KEEP CURRENT MODEL</td>\n",
       "    </tr>\n",
       "    <tr>\n",
       "      <th>9</th>\n",
       "      <td>2024-01-29</td>\n",
       "      <td>BBVA - BANCOMER (BTS)_MEXICO</td>\n",
       "      <td>5.332800</td>\n",
       "      <td>11.143071</td>\n",
       "      <td>16.143505</td>\n",
       "      <td>False</td>\n",
       "      <td>18.435182</td>\n",
       "      <td>False</td>\n",
       "      <td>False</td>\n",
       "      <td>KEEP CURRENT MODEL</td>\n",
       "    </tr>\n",
       "    <tr>\n",
       "      <th>10</th>\n",
       "      <td>2024-01-29</td>\n",
       "      <td>CARIBE EXPRESS_DOMINICAN REPUBLIC</td>\n",
       "      <td>6.533318</td>\n",
       "      <td>5.613215</td>\n",
       "      <td>6.365228</td>\n",
       "      <td>False</td>\n",
       "      <td>20.647582</td>\n",
       "      <td>False</td>\n",
       "      <td>False</td>\n",
       "      <td>KEEP CURRENT MODEL</td>\n",
       "    </tr>\n",
       "    <tr>\n",
       "      <th>11</th>\n",
       "      <td>2024-01-29</td>\n",
       "      <td>ELEKTRA (MEXICO)_MEXICO</td>\n",
       "      <td>7.008689</td>\n",
       "      <td>12.789090</td>\n",
       "      <td>6.906489</td>\n",
       "      <td>False</td>\n",
       "      <td>18.153615</td>\n",
       "      <td>False</td>\n",
       "      <td>False</td>\n",
       "      <td>KEEP CURRENT MODEL</td>\n",
       "    </tr>\n",
       "    <tr>\n",
       "      <th>12</th>\n",
       "      <td>2024-01-29</td>\n",
       "      <td>ENVIOS CON CLABE (APPRIZA)_MEXICO</td>\n",
       "      <td>8.613180</td>\n",
       "      <td>10.428099</td>\n",
       "      <td>13.767069</td>\n",
       "      <td>False</td>\n",
       "      <td>19.877006</td>\n",
       "      <td>False</td>\n",
       "      <td>False</td>\n",
       "      <td>KEEP CURRENT MODEL</td>\n",
       "    </tr>\n",
       "    <tr>\n",
       "      <th>13</th>\n",
       "      <td>2024-01-29</td>\n",
       "      <td>G Y T CONTINENTAL_GUATEMALA</td>\n",
       "      <td>9.793886</td>\n",
       "      <td>7.659747</td>\n",
       "      <td>10.365930</td>\n",
       "      <td>False</td>\n",
       "      <td>23.019552</td>\n",
       "      <td>False</td>\n",
       "      <td>False</td>\n",
       "      <td>KEEP CURRENT MODEL</td>\n",
       "    </tr>\n",
       "    <tr>\n",
       "      <th>14</th>\n",
       "      <td>2024-01-29</td>\n",
       "      <td>TELECOMM TELEGRAFOS (APPRIZA)_MEXICO</td>\n",
       "      <td>6.610619</td>\n",
       "      <td>12.654447</td>\n",
       "      <td>19.416885</td>\n",
       "      <td>False</td>\n",
       "      <td>24.395719</td>\n",
       "      <td>False</td>\n",
       "      <td>False</td>\n",
       "      <td>KEEP CURRENT MODEL</td>\n",
       "    </tr>\n",
       "  </tbody>\n",
       "</table>\n",
       "</div>"
      ],
      "text/plain": [
       "   last_check_date                         payer_country  mape_last_monday  \\\n",
       "0       2024-01-29            BANCO AGRICOLA_EL SALVADOR          5.896972   \n",
       "1       2024-01-29              BANCO ATLANTIDA_HONDURAS          4.357833   \n",
       "2       2024-01-29           BANCO DE OCCIDENTE_HONDURAS          9.096413   \n",
       "3       2024-01-29        BANCO DE ORO (BDO)_PHILIPPINES         15.381394   \n",
       "4       2024-01-29            BANCO INDUSTRIAL_GUATEMALA          5.201585   \n",
       "5       2024-01-29               BANCO RENDIMENTO_BRAZIL         30.537591   \n",
       "6       2024-01-29            BANCOPPEL (APPRIZA)_MEXICO          5.595922   \n",
       "7       2024-01-29                   BANORTE (UT)_MEXICO          5.955230   \n",
       "8       2024-01-29              BANRURAL (RYT)_GUATEMALA          9.843966   \n",
       "9       2024-01-29          BBVA - BANCOMER (BTS)_MEXICO          5.332800   \n",
       "10      2024-01-29     CARIBE EXPRESS_DOMINICAN REPUBLIC          6.533318   \n",
       "11      2024-01-29               ELEKTRA (MEXICO)_MEXICO          7.008689   \n",
       "12      2024-01-29     ENVIOS CON CLABE (APPRIZA)_MEXICO          8.613180   \n",
       "13      2024-01-29           G Y T CONTINENTAL_GUATEMALA          9.793886   \n",
       "14      2024-01-29  TELECOMM TELEGRAFOS (APPRIZA)_MEXICO          6.610619   \n",
       "\n",
       "    mape_previous_monday  mape_previous_previous_monday  CONDITION1  \\\n",
       "0              11.808818                       9.431614       False   \n",
       "1               5.389756                      10.746015       False   \n",
       "2              11.656978                      13.328649       False   \n",
       "3              14.833366                      16.661164       False   \n",
       "4               7.610178                       9.756218       False   \n",
       "5              25.152328                      19.417284        True   \n",
       "6               8.668374                      13.626734       False   \n",
       "7              10.718542                      10.743145       False   \n",
       "8              14.021984                       8.786395       False   \n",
       "9              11.143071                      16.143505       False   \n",
       "10              5.613215                       6.365228       False   \n",
       "11             12.789090                       6.906489       False   \n",
       "12             10.428099                      13.767069       False   \n",
       "13              7.659747                      10.365930       False   \n",
       "14             12.654447                      19.416885       False   \n",
       "\n",
       "    mape_7_days_avg_mobile_max  CONDITION2  CONDITION3 RECOMMENDED_ACTIONS  \n",
       "0                    13.488821       False       False  KEEP CURRENT MODEL  \n",
       "1                    16.010195       False       False  KEEP CURRENT MODEL  \n",
       "2                    17.638946       False       False  KEEP CURRENT MODEL  \n",
       "3                    28.174718       False       False  KEEP CURRENT MODEL  \n",
       "4                    24.976621       False       False  KEEP CURRENT MODEL  \n",
       "5                    42.138393       False       False  KEEP CURRENT MODEL  \n",
       "6                    21.307336       False       False  KEEP CURRENT MODEL  \n",
       "7                    17.853906       False       False  KEEP CURRENT MODEL  \n",
       "8                    18.573531       False       False  KEEP CURRENT MODEL  \n",
       "9                    18.435182       False       False  KEEP CURRENT MODEL  \n",
       "10                   20.647582       False       False  KEEP CURRENT MODEL  \n",
       "11                   18.153615       False       False  KEEP CURRENT MODEL  \n",
       "12                   19.877006       False       False  KEEP CURRENT MODEL  \n",
       "13                   23.019552       False       False  KEEP CURRENT MODEL  \n",
       "14                   24.395719       False       False  KEEP CURRENT MODEL  "
      ]
     },
     "execution_count": 377,
     "metadata": {},
     "output_type": "execute_result"
    }
   ],
   "source": [
    "df_monitoring"
   ]
  },
  {
   "cell_type": "markdown",
   "id": "b0c6ff79-7c08-4f70-828d-756fca33b707",
   "metadata": {},
   "source": [
    "### THE MONITORING RESULTS DATASET IS STORED"
   ]
  },
  {
   "cell_type": "code",
   "execution_count": null,
   "id": "b61a4634-17e8-4efc-af3c-65d7f7ca11f2",
   "metadata": {},
   "outputs": [],
   "source": [
    "# Nombre del archivo con la fecha\n",
    "df_monitoring['last_check_date'] = df_monitoring['last_check_date'].dt.strftime('%Y%m%d')\n",
    "file_name = f\"df_monitoring_{df_monitoring['last_check_date'].iloc[0]}.csv\"\n",
    "\n",
    "# Dejo el archivo en S3\n",
    "bucket = 'viamericas-datalake-dev-us-east-1-283731589572-analytics'\n",
    "prefix_abt = 'MONITORING_RULES'\n",
    "\n",
    "# Ruta S3\n",
    "s3_path = f\"s3://{bucket}/{prefix_abt}/{file_name}\"\n",
    "\n",
    "# Guardar el DataFrame en CSV en S3\n",
    "wr.s3.to_csv(df_monitoring, path=s3_path, index=False)"
   ]
  }
 ],
 "metadata": {
  "availableInstances": [
   {
    "_defaultOrder": 0,
    "_isFastLaunch": true,
    "category": "General purpose",
    "gpuNum": 0,
    "hideHardwareSpecs": false,
    "memoryGiB": 4,
    "name": "ml.t3.medium",
    "vcpuNum": 2
   },
   {
    "_defaultOrder": 1,
    "_isFastLaunch": false,
    "category": "General purpose",
    "gpuNum": 0,
    "hideHardwareSpecs": false,
    "memoryGiB": 8,
    "name": "ml.t3.large",
    "vcpuNum": 2
   },
   {
    "_defaultOrder": 2,
    "_isFastLaunch": false,
    "category": "General purpose",
    "gpuNum": 0,
    "hideHardwareSpecs": false,
    "memoryGiB": 16,
    "name": "ml.t3.xlarge",
    "vcpuNum": 4
   },
   {
    "_defaultOrder": 3,
    "_isFastLaunch": false,
    "category": "General purpose",
    "gpuNum": 0,
    "hideHardwareSpecs": false,
    "memoryGiB": 32,
    "name": "ml.t3.2xlarge",
    "vcpuNum": 8
   },
   {
    "_defaultOrder": 4,
    "_isFastLaunch": true,
    "category": "General purpose",
    "gpuNum": 0,
    "hideHardwareSpecs": false,
    "memoryGiB": 8,
    "name": "ml.m5.large",
    "vcpuNum": 2
   },
   {
    "_defaultOrder": 5,
    "_isFastLaunch": false,
    "category": "General purpose",
    "gpuNum": 0,
    "hideHardwareSpecs": false,
    "memoryGiB": 16,
    "name": "ml.m5.xlarge",
    "vcpuNum": 4
   },
   {
    "_defaultOrder": 6,
    "_isFastLaunch": false,
    "category": "General purpose",
    "gpuNum": 0,
    "hideHardwareSpecs": false,
    "memoryGiB": 32,
    "name": "ml.m5.2xlarge",
    "vcpuNum": 8
   },
   {
    "_defaultOrder": 7,
    "_isFastLaunch": false,
    "category": "General purpose",
    "gpuNum": 0,
    "hideHardwareSpecs": false,
    "memoryGiB": 64,
    "name": "ml.m5.4xlarge",
    "vcpuNum": 16
   },
   {
    "_defaultOrder": 8,
    "_isFastLaunch": false,
    "category": "General purpose",
    "gpuNum": 0,
    "hideHardwareSpecs": false,
    "memoryGiB": 128,
    "name": "ml.m5.8xlarge",
    "vcpuNum": 32
   },
   {
    "_defaultOrder": 9,
    "_isFastLaunch": false,
    "category": "General purpose",
    "gpuNum": 0,
    "hideHardwareSpecs": false,
    "memoryGiB": 192,
    "name": "ml.m5.12xlarge",
    "vcpuNum": 48
   },
   {
    "_defaultOrder": 10,
    "_isFastLaunch": false,
    "category": "General purpose",
    "gpuNum": 0,
    "hideHardwareSpecs": false,
    "memoryGiB": 256,
    "name": "ml.m5.16xlarge",
    "vcpuNum": 64
   },
   {
    "_defaultOrder": 11,
    "_isFastLaunch": false,
    "category": "General purpose",
    "gpuNum": 0,
    "hideHardwareSpecs": false,
    "memoryGiB": 384,
    "name": "ml.m5.24xlarge",
    "vcpuNum": 96
   },
   {
    "_defaultOrder": 12,
    "_isFastLaunch": false,
    "category": "General purpose",
    "gpuNum": 0,
    "hideHardwareSpecs": false,
    "memoryGiB": 8,
    "name": "ml.m5d.large",
    "vcpuNum": 2
   },
   {
    "_defaultOrder": 13,
    "_isFastLaunch": false,
    "category": "General purpose",
    "gpuNum": 0,
    "hideHardwareSpecs": false,
    "memoryGiB": 16,
    "name": "ml.m5d.xlarge",
    "vcpuNum": 4
   },
   {
    "_defaultOrder": 14,
    "_isFastLaunch": false,
    "category": "General purpose",
    "gpuNum": 0,
    "hideHardwareSpecs": false,
    "memoryGiB": 32,
    "name": "ml.m5d.2xlarge",
    "vcpuNum": 8
   },
   {
    "_defaultOrder": 15,
    "_isFastLaunch": false,
    "category": "General purpose",
    "gpuNum": 0,
    "hideHardwareSpecs": false,
    "memoryGiB": 64,
    "name": "ml.m5d.4xlarge",
    "vcpuNum": 16
   },
   {
    "_defaultOrder": 16,
    "_isFastLaunch": false,
    "category": "General purpose",
    "gpuNum": 0,
    "hideHardwareSpecs": false,
    "memoryGiB": 128,
    "name": "ml.m5d.8xlarge",
    "vcpuNum": 32
   },
   {
    "_defaultOrder": 17,
    "_isFastLaunch": false,
    "category": "General purpose",
    "gpuNum": 0,
    "hideHardwareSpecs": false,
    "memoryGiB": 192,
    "name": "ml.m5d.12xlarge",
    "vcpuNum": 48
   },
   {
    "_defaultOrder": 18,
    "_isFastLaunch": false,
    "category": "General purpose",
    "gpuNum": 0,
    "hideHardwareSpecs": false,
    "memoryGiB": 256,
    "name": "ml.m5d.16xlarge",
    "vcpuNum": 64
   },
   {
    "_defaultOrder": 19,
    "_isFastLaunch": false,
    "category": "General purpose",
    "gpuNum": 0,
    "hideHardwareSpecs": false,
    "memoryGiB": 384,
    "name": "ml.m5d.24xlarge",
    "vcpuNum": 96
   },
   {
    "_defaultOrder": 20,
    "_isFastLaunch": false,
    "category": "General purpose",
    "gpuNum": 0,
    "hideHardwareSpecs": true,
    "memoryGiB": 0,
    "name": "ml.geospatial.interactive",
    "supportedImageNames": [
     "sagemaker-geospatial-v1-0"
    ],
    "vcpuNum": 0
   },
   {
    "_defaultOrder": 21,
    "_isFastLaunch": true,
    "category": "Compute optimized",
    "gpuNum": 0,
    "hideHardwareSpecs": false,
    "memoryGiB": 4,
    "name": "ml.c5.large",
    "vcpuNum": 2
   },
   {
    "_defaultOrder": 22,
    "_isFastLaunch": false,
    "category": "Compute optimized",
    "gpuNum": 0,
    "hideHardwareSpecs": false,
    "memoryGiB": 8,
    "name": "ml.c5.xlarge",
    "vcpuNum": 4
   },
   {
    "_defaultOrder": 23,
    "_isFastLaunch": false,
    "category": "Compute optimized",
    "gpuNum": 0,
    "hideHardwareSpecs": false,
    "memoryGiB": 16,
    "name": "ml.c5.2xlarge",
    "vcpuNum": 8
   },
   {
    "_defaultOrder": 24,
    "_isFastLaunch": false,
    "category": "Compute optimized",
    "gpuNum": 0,
    "hideHardwareSpecs": false,
    "memoryGiB": 32,
    "name": "ml.c5.4xlarge",
    "vcpuNum": 16
   },
   {
    "_defaultOrder": 25,
    "_isFastLaunch": false,
    "category": "Compute optimized",
    "gpuNum": 0,
    "hideHardwareSpecs": false,
    "memoryGiB": 72,
    "name": "ml.c5.9xlarge",
    "vcpuNum": 36
   },
   {
    "_defaultOrder": 26,
    "_isFastLaunch": false,
    "category": "Compute optimized",
    "gpuNum": 0,
    "hideHardwareSpecs": false,
    "memoryGiB": 96,
    "name": "ml.c5.12xlarge",
    "vcpuNum": 48
   },
   {
    "_defaultOrder": 27,
    "_isFastLaunch": false,
    "category": "Compute optimized",
    "gpuNum": 0,
    "hideHardwareSpecs": false,
    "memoryGiB": 144,
    "name": "ml.c5.18xlarge",
    "vcpuNum": 72
   },
   {
    "_defaultOrder": 28,
    "_isFastLaunch": false,
    "category": "Compute optimized",
    "gpuNum": 0,
    "hideHardwareSpecs": false,
    "memoryGiB": 192,
    "name": "ml.c5.24xlarge",
    "vcpuNum": 96
   },
   {
    "_defaultOrder": 29,
    "_isFastLaunch": true,
    "category": "Accelerated computing",
    "gpuNum": 1,
    "hideHardwareSpecs": false,
    "memoryGiB": 16,
    "name": "ml.g4dn.xlarge",
    "vcpuNum": 4
   },
   {
    "_defaultOrder": 30,
    "_isFastLaunch": false,
    "category": "Accelerated computing",
    "gpuNum": 1,
    "hideHardwareSpecs": false,
    "memoryGiB": 32,
    "name": "ml.g4dn.2xlarge",
    "vcpuNum": 8
   },
   {
    "_defaultOrder": 31,
    "_isFastLaunch": false,
    "category": "Accelerated computing",
    "gpuNum": 1,
    "hideHardwareSpecs": false,
    "memoryGiB": 64,
    "name": "ml.g4dn.4xlarge",
    "vcpuNum": 16
   },
   {
    "_defaultOrder": 32,
    "_isFastLaunch": false,
    "category": "Accelerated computing",
    "gpuNum": 1,
    "hideHardwareSpecs": false,
    "memoryGiB": 128,
    "name": "ml.g4dn.8xlarge",
    "vcpuNum": 32
   },
   {
    "_defaultOrder": 33,
    "_isFastLaunch": false,
    "category": "Accelerated computing",
    "gpuNum": 4,
    "hideHardwareSpecs": false,
    "memoryGiB": 192,
    "name": "ml.g4dn.12xlarge",
    "vcpuNum": 48
   },
   {
    "_defaultOrder": 34,
    "_isFastLaunch": false,
    "category": "Accelerated computing",
    "gpuNum": 1,
    "hideHardwareSpecs": false,
    "memoryGiB": 256,
    "name": "ml.g4dn.16xlarge",
    "vcpuNum": 64
   },
   {
    "_defaultOrder": 35,
    "_isFastLaunch": false,
    "category": "Accelerated computing",
    "gpuNum": 1,
    "hideHardwareSpecs": false,
    "memoryGiB": 61,
    "name": "ml.p3.2xlarge",
    "vcpuNum": 8
   },
   {
    "_defaultOrder": 36,
    "_isFastLaunch": false,
    "category": "Accelerated computing",
    "gpuNum": 4,
    "hideHardwareSpecs": false,
    "memoryGiB": 244,
    "name": "ml.p3.8xlarge",
    "vcpuNum": 32
   },
   {
    "_defaultOrder": 37,
    "_isFastLaunch": false,
    "category": "Accelerated computing",
    "gpuNum": 8,
    "hideHardwareSpecs": false,
    "memoryGiB": 488,
    "name": "ml.p3.16xlarge",
    "vcpuNum": 64
   },
   {
    "_defaultOrder": 38,
    "_isFastLaunch": false,
    "category": "Accelerated computing",
    "gpuNum": 8,
    "hideHardwareSpecs": false,
    "memoryGiB": 768,
    "name": "ml.p3dn.24xlarge",
    "vcpuNum": 96
   },
   {
    "_defaultOrder": 39,
    "_isFastLaunch": false,
    "category": "Memory Optimized",
    "gpuNum": 0,
    "hideHardwareSpecs": false,
    "memoryGiB": 16,
    "name": "ml.r5.large",
    "vcpuNum": 2
   },
   {
    "_defaultOrder": 40,
    "_isFastLaunch": false,
    "category": "Memory Optimized",
    "gpuNum": 0,
    "hideHardwareSpecs": false,
    "memoryGiB": 32,
    "name": "ml.r5.xlarge",
    "vcpuNum": 4
   },
   {
    "_defaultOrder": 41,
    "_isFastLaunch": false,
    "category": "Memory Optimized",
    "gpuNum": 0,
    "hideHardwareSpecs": false,
    "memoryGiB": 64,
    "name": "ml.r5.2xlarge",
    "vcpuNum": 8
   },
   {
    "_defaultOrder": 42,
    "_isFastLaunch": false,
    "category": "Memory Optimized",
    "gpuNum": 0,
    "hideHardwareSpecs": false,
    "memoryGiB": 128,
    "name": "ml.r5.4xlarge",
    "vcpuNum": 16
   },
   {
    "_defaultOrder": 43,
    "_isFastLaunch": false,
    "category": "Memory Optimized",
    "gpuNum": 0,
    "hideHardwareSpecs": false,
    "memoryGiB": 256,
    "name": "ml.r5.8xlarge",
    "vcpuNum": 32
   },
   {
    "_defaultOrder": 44,
    "_isFastLaunch": false,
    "category": "Memory Optimized",
    "gpuNum": 0,
    "hideHardwareSpecs": false,
    "memoryGiB": 384,
    "name": "ml.r5.12xlarge",
    "vcpuNum": 48
   },
   {
    "_defaultOrder": 45,
    "_isFastLaunch": false,
    "category": "Memory Optimized",
    "gpuNum": 0,
    "hideHardwareSpecs": false,
    "memoryGiB": 512,
    "name": "ml.r5.16xlarge",
    "vcpuNum": 64
   },
   {
    "_defaultOrder": 46,
    "_isFastLaunch": false,
    "category": "Memory Optimized",
    "gpuNum": 0,
    "hideHardwareSpecs": false,
    "memoryGiB": 768,
    "name": "ml.r5.24xlarge",
    "vcpuNum": 96
   },
   {
    "_defaultOrder": 47,
    "_isFastLaunch": false,
    "category": "Accelerated computing",
    "gpuNum": 1,
    "hideHardwareSpecs": false,
    "memoryGiB": 16,
    "name": "ml.g5.xlarge",
    "vcpuNum": 4
   },
   {
    "_defaultOrder": 48,
    "_isFastLaunch": false,
    "category": "Accelerated computing",
    "gpuNum": 1,
    "hideHardwareSpecs": false,
    "memoryGiB": 32,
    "name": "ml.g5.2xlarge",
    "vcpuNum": 8
   },
   {
    "_defaultOrder": 49,
    "_isFastLaunch": false,
    "category": "Accelerated computing",
    "gpuNum": 1,
    "hideHardwareSpecs": false,
    "memoryGiB": 64,
    "name": "ml.g5.4xlarge",
    "vcpuNum": 16
   },
   {
    "_defaultOrder": 50,
    "_isFastLaunch": false,
    "category": "Accelerated computing",
    "gpuNum": 1,
    "hideHardwareSpecs": false,
    "memoryGiB": 128,
    "name": "ml.g5.8xlarge",
    "vcpuNum": 32
   },
   {
    "_defaultOrder": 51,
    "_isFastLaunch": false,
    "category": "Accelerated computing",
    "gpuNum": 1,
    "hideHardwareSpecs": false,
    "memoryGiB": 256,
    "name": "ml.g5.16xlarge",
    "vcpuNum": 64
   },
   {
    "_defaultOrder": 52,
    "_isFastLaunch": false,
    "category": "Accelerated computing",
    "gpuNum": 4,
    "hideHardwareSpecs": false,
    "memoryGiB": 192,
    "name": "ml.g5.12xlarge",
    "vcpuNum": 48
   },
   {
    "_defaultOrder": 53,
    "_isFastLaunch": false,
    "category": "Accelerated computing",
    "gpuNum": 4,
    "hideHardwareSpecs": false,
    "memoryGiB": 384,
    "name": "ml.g5.24xlarge",
    "vcpuNum": 96
   },
   {
    "_defaultOrder": 54,
    "_isFastLaunch": false,
    "category": "Accelerated computing",
    "gpuNum": 8,
    "hideHardwareSpecs": false,
    "memoryGiB": 768,
    "name": "ml.g5.48xlarge",
    "vcpuNum": 192
   },
   {
    "_defaultOrder": 55,
    "_isFastLaunch": false,
    "category": "Accelerated computing",
    "gpuNum": 8,
    "hideHardwareSpecs": false,
    "memoryGiB": 1152,
    "name": "ml.p4d.24xlarge",
    "vcpuNum": 96
   },
   {
    "_defaultOrder": 56,
    "_isFastLaunch": false,
    "category": "Accelerated computing",
    "gpuNum": 8,
    "hideHardwareSpecs": false,
    "memoryGiB": 1152,
    "name": "ml.p4de.24xlarge",
    "vcpuNum": 96
   },
   {
    "_defaultOrder": 57,
    "_isFastLaunch": false,
    "category": "Accelerated computing",
    "gpuNum": 0,
    "hideHardwareSpecs": false,
    "memoryGiB": 32,
    "name": "ml.trn1.2xlarge",
    "vcpuNum": 8
   },
   {
    "_defaultOrder": 58,
    "_isFastLaunch": false,
    "category": "Accelerated computing",
    "gpuNum": 0,
    "hideHardwareSpecs": false,
    "memoryGiB": 512,
    "name": "ml.trn1.32xlarge",
    "vcpuNum": 128
   },
   {
    "_defaultOrder": 59,
    "_isFastLaunch": false,
    "category": "Accelerated computing",
    "gpuNum": 0,
    "hideHardwareSpecs": false,
    "memoryGiB": 512,
    "name": "ml.trn1n.32xlarge",
    "vcpuNum": 128
   }
  ],
  "kernelspec": {
   "display_name": "Python 3 (Data Science 3.0)",
   "language": "python",
   "name": "python3__SAGEMAKER_INTERNAL__arn:aws:sagemaker:us-east-1:081325390199:image/sagemaker-data-science-310-v1"
  },
  "language_info": {
   "codemirror_mode": {
    "name": "ipython",
    "version": 3
   },
   "file_extension": ".py",
   "mimetype": "text/x-python",
   "name": "python",
   "nbconvert_exporter": "python",
   "pygments_lexer": "ipython3",
   "version": "3.10.6"
  }
 },
 "nbformat": 4,
 "nbformat_minor": 5
}
