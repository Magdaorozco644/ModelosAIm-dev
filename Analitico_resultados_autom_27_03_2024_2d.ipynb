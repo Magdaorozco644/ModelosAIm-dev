{
 "cells": [
  {
   "cell_type": "code",
   "execution_count": 28,
   "id": "9188a7ce-5e0c-4daf-94a6-9016d9846a78",
   "metadata": {
    "tags": []
   },
   "outputs": [],
   "source": [
    "import boto3\n",
    "import pandas as pd\n",
    "from io import BytesIO"
   ]
  },
  {
   "cell_type": "code",
   "execution_count": 29,
   "id": "9d08ba05-4011-4175-8c04-f65df8f28525",
   "metadata": {
    "tags": []
   },
   "outputs": [],
   "source": [
    "# Config cliente de S3\n",
    "s3 = boto3.client('s3')"
   ]
  },
  {
   "cell_type": "code",
   "execution_count": 30,
   "id": "4abd0921-ce9d-4300-85af-e42d3d4a23de",
   "metadata": {
    "tags": []
   },
   "outputs": [],
   "source": [
    "# Bbucket y prefijo de carpetas\n",
    "bucket_name = 'viamericas-datalake-dev-us-east-1-283731589572-analytics'\n",
    "prefix_ABTv3 = 'ABTv3/Last_releases/'"
   ]
  },
  {
   "cell_type": "code",
   "execution_count": 31,
   "id": "e1cac880-b8a5-475e-9771-90b8ab72728c",
   "metadata": {
    "tags": []
   },
   "outputs": [],
   "source": [
    "# Obtengo lista de carpetas en el bucket\n",
    "def list_folders(bucket_name, prefix):\n",
    "    response = s3.list_objects_v2(Bucket=bucket_name, Prefix=prefix, Delimiter='/')\n",
    "    folders = [prefix['Prefix'].split('/')[-2] for prefix in response.get('CommonPrefixes', [])]\n",
    "    return folders"
   ]
  },
  {
   "cell_type": "code",
   "execution_count": 32,
   "id": "8c427d7c-732d-44ad-a7db-5fbd0b427fa2",
   "metadata": {
    "tags": []
   },
   "outputs": [],
   "source": [
    "# Llamo funcion para listar carpetas\n",
    "folders_v2 = list_folders(bucket_name, prefix_ABTv3)"
   ]
  },
  {
   "cell_type": "code",
   "execution_count": 33,
   "id": "5a7780f2-584e-4d94-8438-cdda1cff9d05",
   "metadata": {
    "tags": []
   },
   "outputs": [],
   "source": [
    "# Leo los xlsx y consolido\n",
    "\n",
    "def read_files(bucket_name, prefix):\n",
    "    dfs = []\n",
    "    \n",
    "    # Iterar sobre cada carpeta\n",
    "    for folder_name in folders_v2:\n",
    "        # Obtener la lista de objetos en la carpeta\n",
    "        objects = s3.list_objects_v2(Bucket=bucket_name, Prefix=f'{prefix}{folder_name}/')['Contents']\n",
    "        \n",
    "        # Buscar archivos xlsx en la carpeta\n",
    "        excel_objects = [obj for obj in objects if obj['Key'].endswith('.xlsx') and '7d' not in obj['Key']]\n",
    "        \n",
    "        if excel_objects:\n",
    "            print(excel_objects)\n",
    "            # Leer el primer archivo xlsx encontrado\n",
    "            obj = s3.get_object(Bucket=bucket_name, Key=excel_objects[0]['Key'])\n",
    "            excel_data = obj['Body'].read() # No se puede leer con pandas directo de S3\n",
    "            \n",
    "            df = pd.read_excel(BytesIO(excel_data))\n",
    "            # Agrego columna con el nombre de la carpeta\n",
    "            df['folder_name'] = folder_name\n",
    "            # Agregar el df a la lista\n",
    "            dfs.append(df)\n",
    "        else:\n",
    "            print(f\"No se encontraron archivos xlsx en la carpeta {folder_name}.\")\n",
    "    \n",
    "    if dfs:\n",
    "        # Concateno todo\n",
    "        consolidated_df = pd.concat(dfs, ignore_index=True)\n",
    "        return consolidated_df\n",
    "    else:\n",
    "        print(\"No se encontraron archivos xlsx en ninguna de las carpetas especificadas.\")\n",
    "        return None"
   ]
  },
  {
   "cell_type": "code",
   "execution_count": 34,
   "id": "369bf0fa-cec1-4e48-bd1c-d07e72d40171",
   "metadata": {
    "tags": []
   },
   "outputs": [
    {
     "name": "stdout",
     "output_type": "stream",
     "text": [
      "[{'Key': 'ABTv3/Last_releases/24XORO_MEXICO/predicciones_test_2d_24XORO_MEXICO.xlsx', 'LastModified': datetime.datetime(2024, 3, 9, 4, 4, 49, tzinfo=tzlocal()), 'ETag': '\"b4aad35dab2dc611e6d32d692441c0e7\"', 'Size': 15891, 'StorageClass': 'STANDARD'}]\n",
      "[{'Key': 'ABTv3/Last_releases/ABANK (TN)_EL SALVADOR/predicciones_test_2d_ABANK (TN)_EL SALVADOR.xlsx', 'LastModified': datetime.datetime(2024, 3, 9, 3, 33, 24, tzinfo=tzlocal()), 'ETag': '\"c19d5fe2c3605e77905597a4a437d1ea\"', 'Size': 15381, 'StorageClass': 'STANDARD'}]\n",
      "[{'Key': 'ABTv3/Last_releases/AFEX_CHILE/predicciones_test_2d_AFEX_CHILE.xlsx', 'LastModified': datetime.datetime(2024, 3, 9, 5, 10, 50, tzinfo=tzlocal()), 'ETag': '\"d4cb1885277559b3de2dff35918f9f68\"', 'Size': 15453, 'StorageClass': 'STANDARD'}]\n",
      "[{'Key': 'ABTv3/Last_releases/AFRO INTERNACIONAL_GUINEA/predicciones_test_2d_AFRO INTERNACIONAL_GUINEA.xlsx', 'LastModified': datetime.datetime(2024, 3, 9, 23, 35, 33, tzinfo=tzlocal()), 'ETag': '\"2701d289c957bbeed0118ed803308985\"', 'Size': 12242, 'StorageClass': 'STANDARD'}]\n",
      "[{'Key': 'ABTv3/Last_releases/AFRO INTERNACIONAL_SIERRA LEONE/predicciones_test_2d_AFRO INTERNACIONAL_SIERRA LEONE.xlsx', 'LastModified': datetime.datetime(2024, 3, 9, 4, 15, 2, tzinfo=tzlocal()), 'ETag': '\"53f800e1884535a854ebd807f60e3e16\"', 'Size': 15881, 'StorageClass': 'STANDARD'}]\n",
      "[{'Key': 'ABTv3/Last_releases/AIRPAK_MEXICO/predicciones_test_2d_AIRPAK_MEXICO.xlsx', 'LastModified': datetime.datetime(2024, 3, 9, 1, 44, 13, tzinfo=tzlocal()), 'ETag': '\"38a3ac50f4007c8c6cd4a0f6352c0ce8\"', 'Size': 16013, 'StorageClass': 'STANDARD'}]\n",
      "[{'Key': 'ABTv3/Last_releases/ARGENPER_ARGENTINA/predicciones_test_2d_ARGENPER_ARGENTINA.xlsx', 'LastModified': datetime.datetime(2024, 3, 9, 21, 48, 10, tzinfo=tzlocal()), 'ETag': '\"aae1ef2bff03ba5a19653b32c7570dcb\"', 'Size': 14765, 'StorageClass': 'STANDARD'}]\n",
      "[{'Key': 'ABTv3/Last_releases/ARGENPER_BOLIVIA/predicciones_test_2d_ARGENPER_BOLIVIA.xlsx', 'LastModified': datetime.datetime(2024, 3, 11, 13, 31, 52, tzinfo=tzlocal()), 'ETag': '\"227e442d8400e7912adf43dfec303eb0\"', 'Size': 12849, 'StorageClass': 'STANDARD'}]\n",
      "[{'Key': 'ABTv3/Last_releases/ARGENPER_CHILE/predicciones_test_2d_ARGENPER_CHILE.xlsx', 'LastModified': datetime.datetime(2024, 3, 9, 20, 5, 51, tzinfo=tzlocal()), 'ETag': '\"f833cddcd90031f6c6a64468079784ae\"', 'Size': 15620, 'StorageClass': 'STANDARD'}]\n",
      "[{'Key': 'ABTv3/Last_releases/ARGENPER_PERU/predicciones_test_2d_ARGENPER_PERU.xlsx', 'LastModified': datetime.datetime(2024, 3, 9, 5, 5, 21, tzinfo=tzlocal()), 'ETag': '\"812c948bb82d34df28a6cc95f778ffe9\"', 'Size': 15807, 'StorageClass': 'STANDARD'}]\n",
      "[{'Key': 'ABTv3/Last_releases/BAM - BANCO AGROMERCANTIL (UT)_GUATEMALA/predicciones_test_2d_BAM - BANCO AGROMERCANTIL (UT)_GUATEMALA.xlsx', 'LastModified': datetime.datetime(2024, 3, 9, 4, 29, 47, tzinfo=tzlocal()), 'ETag': '\"9cd2246a1371c20a7fab51d0f9b2ee92\"', 'Size': 15596, 'StorageClass': 'STANDARD'}]\n",
      "[{'Key': 'ABTv3/Last_releases/BANCO AGRICOLA_EL SALVADOR/predicciones_test_2d_BANCO AGRICOLA_EL SALVADOR.xlsx', 'LastModified': datetime.datetime(2024, 3, 18, 20, 30, 33, tzinfo=tzlocal()), 'ETag': '\"25b74408680bd0c8141925a38ebd5acf\"', 'Size': 15888, 'StorageClass': 'STANDARD'}]\n",
      "[{'Key': 'ABTv3/Last_releases/BANCO ATLANTIDA_HONDURAS/predicciones_test_2d_BANCO ATLANTIDA_HONDURAS.xlsx', 'LastModified': datetime.datetime(2024, 3, 8, 18, 29, 5, tzinfo=tzlocal()), 'ETag': '\"631edb6f1747dfb0e4f6b698bbf8a4e2\"', 'Size': 16172, 'StorageClass': 'STANDARD'}]\n",
      "[{'Key': 'ABTv3/Last_releases/BANCO BHD LEON_DOMINICAN REPUBLIC/predicciones_test_2d_BANCO BHD LEON_DOMINICAN REPUBLIC.xlsx', 'LastModified': datetime.datetime(2024, 3, 9, 2, 40, 33, tzinfo=tzlocal()), 'ETag': '\"7170352b563b968db2d170b233ed742a\"', 'Size': 15931, 'StorageClass': 'STANDARD'}]\n",
      "[{'Key': 'ABTv3/Last_releases/BANCO BISA_BOLIVIA/predicciones_test_2d_BANCO BISA_BOLIVIA.xlsx', 'LastModified': datetime.datetime(2024, 3, 9, 3, 43, 30, tzinfo=tzlocal()), 'ETag': '\"627060db1e8c8d7b35fdd4e4eee83fe1\"', 'Size': 15369, 'StorageClass': 'STANDARD'}]\n",
      "[{'Key': 'ABTv3/Last_releases/BANCO DAVIVIENDA SALVADORENO (BTS)_EL SALVADOR/predicciones_test_2d_BANCO DAVIVIENDA SALVADORENO (BTS)_EL SALVADOR.xlsx', 'LastModified': datetime.datetime(2024, 3, 9, 2, 32, tzinfo=tzlocal()), 'ETag': '\"464c08bddcc2aa2edd83726ff092e467\"', 'Size': 15616, 'StorageClass': 'STANDARD'}]\n",
      "[{'Key': 'ABTv3/Last_releases/BANCO DAYCOVAL_BRAZIL/predicciones_test_2d_BANCO DAYCOVAL_BRAZIL.xlsx', 'LastModified': datetime.datetime(2024, 3, 9, 0, 37, 51, tzinfo=tzlocal()), 'ETag': '\"8a1b6630362641df18f71eed19083b66\"', 'Size': 16091, 'StorageClass': 'STANDARD'}]\n",
      "[{'Key': 'ABTv3/Last_releases/BANCO DE CREDITO DEL PERU - BCP (UT)_PERU/predicciones_test_2d_BANCO DE CREDITO DEL PERU - BCP (UT)_PERU.xlsx', 'LastModified': datetime.datetime(2024, 3, 9, 1, 34, 54, tzinfo=tzlocal()), 'ETag': '\"07d4dab67078e379ed3a996bd9fc47f8\"', 'Size': 15993, 'StorageClass': 'STANDARD'}]\n",
      "[{'Key': 'ABTv3/Last_releases/BANCO DE GUAYAQUIL_ECUADOR/predicciones_test_2d_BANCO DE GUAYAQUIL_ECUADOR.xlsx', 'LastModified': datetime.datetime(2024, 3, 9, 2, 25, 44, tzinfo=tzlocal()), 'ETag': '\"dae6c12f2d2cd22c487ca74763792cb9\"', 'Size': 15968, 'StorageClass': 'STANDARD'}]\n",
      "[{'Key': 'ABTv3/Last_releases/BANCO DE OCCIDENTE_HONDURAS/predicciones_test_2d_BANCO DE OCCIDENTE_HONDURAS.xlsx', 'LastModified': datetime.datetime(2024, 3, 8, 19, 17, 22, tzinfo=tzlocal()), 'ETag': '\"3ad3384b44bbc2e8a4c5115517b4d01b\"', 'Size': 16138, 'StorageClass': 'STANDARD'}]\n",
      "[{'Key': 'ABTv3/Last_releases/BANCO DE ORO (BDO)_PHILIPPINES/predicciones_test_2d_BANCO DE ORO (BDO)_PHILIPPINES.xlsx', 'LastModified': datetime.datetime(2024, 3, 8, 23, 20, 42, tzinfo=tzlocal()), 'ETag': '\"07672ee8fd55e65840e307c2234ae730\"', 'Size': 16100, 'StorageClass': 'STANDARD'}]\n",
      "[{'Key': 'ABTv3/Last_releases/BANCO DEL AUSTRO_ECUADOR/predicciones_test_2d_BANCO DEL AUSTRO_ECUADOR.xlsx', 'LastModified': datetime.datetime(2024, 3, 9, 0, 56, 49, tzinfo=tzlocal()), 'ETag': '\"b7f1c64b1f5ff47c0bd5aa961871521e\"', 'Size': 15979, 'StorageClass': 'STANDARD'}]\n",
      "[{'Key': 'ABTv3/Last_releases/BANCO GANADERO (BOLIVIA)_BOLIVIA/predicciones_test_2d_BANCO GANADERO (BOLIVIA)_BOLIVIA.xlsx', 'LastModified': datetime.datetime(2024, 3, 9, 4, 9, 13, tzinfo=tzlocal()), 'ETag': '\"caf2a6d26c8a717e9daedeb27817bc35\"', 'Size': 15918, 'StorageClass': 'STANDARD'}]\n",
      "[{'Key': 'ABTv3/Last_releases/BANCO INDUSTRIAL ELS (RED CHAPINA)_EL SALVADOR/predicciones_test_2d_BANCO INDUSTRIAL ELS (RED CHAPINA)_EL SALVADOR.xlsx', 'LastModified': datetime.datetime(2024, 3, 11, 13, 50, 41, tzinfo=tzlocal()), 'ETag': '\"6066c30ac16d4ca049658a62b09ac874\"', 'Size': 11516, 'StorageClass': 'STANDARD'}]\n",
      "[{'Key': 'ABTv3/Last_releases/BANCO INDUSTRIAL_GUATEMALA/predicciones_test_2d_BANCO INDUSTRIAL_GUATEMALA.xlsx', 'LastModified': datetime.datetime(2024, 3, 8, 18, 45, 8, tzinfo=tzlocal()), 'ETag': '\"6b7057835da3c867f9eedf4454df5fb3\"', 'Size': 16254, 'StorageClass': 'STANDARD'}]\n",
      "[{'Key': 'ABTv3/Last_releases/BANCO PICHINCHA (TN)_ECUADOR/predicciones_test_2d_BANCO PICHINCHA (TN)_ECUADOR.xlsx', 'LastModified': datetime.datetime(2024, 3, 9, 3, 7, 17, tzinfo=tzlocal()), 'ETag': '\"3640b0198aa75632c07691ad5abf5a0a\"', 'Size': 16043, 'StorageClass': 'STANDARD'}]\n",
      "[{'Key': 'ABTv3/Last_releases/BANCO POPULAR HONDURAS (UT)_HONDURAS/predicciones_test_2d_BANCO POPULAR HONDURAS (UT)_HONDURAS.xlsx', 'LastModified': datetime.datetime(2024, 3, 9, 20, 8, 4, tzinfo=tzlocal()), 'ETag': '\"47cdc9efcc574838020d9a12b2cb3514\"', 'Size': 13494, 'StorageClass': 'STANDARD'}]\n",
      "[{'Key': 'ABTv3/Last_releases/BANCO RENDIMENTO_BRAZIL/predicciones_test_2d_BANCO RENDIMENTO_BRAZIL.xlsx', 'LastModified': datetime.datetime(2024, 3, 8, 23, 30, 13, tzinfo=tzlocal()), 'ETag': '\"51c1f334f93bea211dff9a1925eef0cc\"', 'Size': 16105, 'StorageClass': 'STANDARD'}]\n",
      "[{'Key': 'ABTv3/Last_releases/BANCOLOMBIA_COLOMBIA/predicciones_test_2d_BANCOLOMBIA_COLOMBIA.xlsx', 'LastModified': datetime.datetime(2024, 3, 9, 0, 4, 17, tzinfo=tzlocal()), 'ETag': '\"588646c9b7754f04eec0483531177db5\"', 'Size': 16122, 'StorageClass': 'STANDARD'}]\n",
      "[{'Key': 'ABTv3/Last_releases/BANCOPPEL (APPRIZA)_MEXICO/predicciones_test_2d_BANCOPPEL (APPRIZA)_MEXICO.xlsx', 'LastModified': datetime.datetime(2024, 3, 11, 20, 30, 44, tzinfo=tzlocal()), 'ETag': '\"e73aac9cc87ec4022127ae1c2add5dbd\"', 'Size': 16315, 'StorageClass': 'STANDARD'}]\n",
      "[{'Key': 'ABTv3/Last_releases/BANHCAFE_HONDURAS/predicciones_test_2d_BANHCAFE_HONDURAS.xlsx', 'LastModified': datetime.datetime(2024, 3, 9, 4, 42, 47, tzinfo=tzlocal()), 'ETag': '\"9bcc035ddf50f37d15162e6d95bdb149\"', 'Size': 15302, 'StorageClass': 'STANDARD'}]\n",
      "[{'Key': 'ABTv3/Last_releases/BANK OF PHILIPPINE ISLANDS (BPI)_PHILIPPINES/predicciones_test_2d_BANK OF PHILIPPINE ISLANDS (BPI)_PHILIPPINES.xlsx', 'LastModified': datetime.datetime(2024, 3, 19, 4, 42, 43, tzinfo=tzlocal()), 'ETag': '\"38ead63776e51069fcc39d81d7c8e521\"', 'Size': 8443, 'StorageClass': 'STANDARD'}]\n",
      "[{'Key': 'ABTv3/Last_releases/BANORTE (UT)_MEXICO/predicciones_test_2d_BANORTE (UT)_MEXICO.xlsx', 'LastModified': datetime.datetime(2024, 3, 8, 19, 57, 8, tzinfo=tzlocal()), 'ETag': '\"11d855b1dfb997d80a0433b49b5057cc\"', 'Size': 16170, 'StorageClass': 'STANDARD'}]\n",
      "[{'Key': 'ABTv3/Last_releases/BANPAIS (RED CHAPINA)_HONDURAS/predicciones_test_2d_BANPAIS (RED CHAPINA)_HONDURAS.xlsx', 'LastModified': datetime.datetime(2024, 3, 9, 1, 51, 1, tzinfo=tzlocal()), 'ETag': '\"746577fb48b6de5b9f2d94336b89cff5\"', 'Size': 15964, 'StorageClass': 'STANDARD'}]\n",
      "[{'Key': 'ABTv3/Last_releases/BANPRO_NICARAGUA/predicciones_test_2d_BANPRO_NICARAGUA.xlsx', 'LastModified': datetime.datetime(2024, 3, 9, 0, 23, 8, tzinfo=tzlocal()), 'ETag': '\"891fc26d6aad738b5f5ae5937daa07fd\"', 'Size': 16086, 'StorageClass': 'STANDARD'}]\n",
      "[{'Key': 'ABTv3/Last_releases/BANRURAL (HONDURAS)_HONDURAS/predicciones_test_2d_BANRURAL (HONDURAS)_HONDURAS.xlsx', 'LastModified': datetime.datetime(2024, 3, 9, 0, 46, 53, tzinfo=tzlocal()), 'ETag': '\"903e93c08c691efa2b9ca93bf59f6dd7\"', 'Size': 16084, 'StorageClass': 'STANDARD'}]\n",
      "[{'Key': 'ABTv3/Last_releases/BANRURAL (RYT)_GUATEMALA/predicciones_test_2d_BANRURAL (RYT)_GUATEMALA_2d.xlsx', 'LastModified': datetime.datetime(2024, 3, 13, 19, 35, 24, tzinfo=tzlocal()), 'ETag': '\"aee15931cfd809462c501b037db23f94\"', 'Size': 16285, 'StorageClass': 'STANDARD'}]\n",
      "[{'Key': 'ABTv3/Last_releases/BANTRAB (UT)_GUATEMALA/predicciones_test_2d_BANTRAB (UT)_GUATEMALA.xlsx', 'LastModified': datetime.datetime(2024, 3, 9, 3, 40, 44, tzinfo=tzlocal()), 'ETag': '\"4bff35e1c2db843482ca5dcbe4c82764\"', 'Size': 15824, 'StorageClass': 'STANDARD'}]\n",
      "[{'Key': 'ABTv3/Last_releases/BBVA - BANCOMER (BTS)_MEXICO/predicciones_test_2d_BBVA - BANCOMER (BTS)_MEXICO.xlsx', 'LastModified': datetime.datetime(2024, 3, 8, 19, 47, 40, tzinfo=tzlocal()), 'ETag': '\"894da5870f09d232181e4a3c81a123b9\"', 'Size': 16122, 'StorageClass': 'STANDARD'}]\n",
      "[{'Key': 'ABTv3/Last_releases/BNB_LIBERIA/predicciones_test_2d_BNB_LIBERIA.xlsx', 'LastModified': datetime.datetime(2024, 3, 11, 19, 4, 29, tzinfo=tzlocal()), 'ETag': '\"19c180ef5f26bdd83746abb453586ca2\"', 'Size': 8122, 'StorageClass': 'STANDARD'}]\n",
      "[{'Key': 'ABTv3/Last_releases/BNB_SENEGAL/predicciones_test_2d_BNB_SENEGAL.xlsx', 'LastModified': datetime.datetime(2024, 3, 11, 15, 52, 19, tzinfo=tzlocal()), 'ETag': '\"b905af43f661e00a2706e11a50d1ee36\"', 'Size': 7162, 'StorageClass': 'STANDARD'}]\n",
      "[{'Key': 'ABTv3/Last_releases/BNB_SIERRA LEONE/predicciones_test_2d_BNB_SIERRA LEONE.xlsx', 'LastModified': datetime.datetime(2024, 3, 11, 14, 47, 9, tzinfo=tzlocal()), 'ETag': '\"f9f83adf55062b5ff43ec140ac03f078\"', 'Size': 8013, 'StorageClass': 'STANDARD'}]\n",
      "[{'Key': 'ABTv3/Last_releases/CAJA POPULAR MEXICANA (UT)_MEXICO/predicciones_test_2d_CAJA POPULAR MEXICANA (UT)_MEXICO.xlsx', 'LastModified': datetime.datetime(2024, 3, 9, 1, 27, 44, tzinfo=tzlocal()), 'ETag': '\"75d43660d8bc021bac0dd520f729a8ed\"', 'Size': 12625, 'StorageClass': 'STANDARD'}]\n",
      "[{'Key': 'ABTv3/Last_releases/CARIBE EXPRESS_DOMINICAN REPUBLIC/predicciones_test_2d_CARIBE EXPRESS_DOMINICAN REPUBLIC.xlsx', 'LastModified': datetime.datetime(2024, 3, 18, 23, 29, 37, tzinfo=tzlocal()), 'ETag': '\"7248fc52efc7e7bf761f535eb6272777\"', 'Size': 16128, 'StorageClass': 'STANDARD'}]\n",
      "[{'Key': 'ABTv3/Last_releases/CEBUANA LHUILLIER_PHILIPPINES/predicciones_test_2d_CEBUANA LHUILLIER_PHILIPPINES.xlsx', 'LastModified': datetime.datetime(2024, 3, 9, 4, 39, 17, tzinfo=tzlocal()), 'ETag': '\"aad9848ad7f2d94a4da07c47c25d615e\"', 'Size': 15535, 'StorageClass': 'STANDARD'}]\n",
      "[{'Key': 'ABTv3/Last_releases/COOPERATIVA CACIL (UT)_HONDURAS/predicciones_test_2d_COOPERATIVA CACIL (UT)_HONDURAS.xlsx', 'LastModified': datetime.datetime(2024, 3, 9, 4, 0, 24, tzinfo=tzlocal()), 'ETag': '\"13ba9a1d73a689061c91352bb883e6f6\"', 'Size': 15489, 'StorageClass': 'STANDARD'}]\n",
      "[{'Key': 'ABTv3/Last_releases/COOPERATIVA FRONTERIZA (UT)_HONDURAS/predicciones_test_2d_COOPERATIVA FRONTERIZA (UT)_HONDURAS.xlsx', 'LastModified': datetime.datetime(2024, 3, 9, 3, 0, 5, tzinfo=tzlocal()), 'ETag': '\"51c5707aed10db115cd0c0600f2fa739\"', 'Size': 15610, 'StorageClass': 'STANDARD'}]\n",
      "[{'Key': 'ABTv3/Last_releases/CREDOMATIC (BTS)_NICARAGUA/predicciones_test_2d_CREDOMATIC (BTS)_NICARAGUA.xlsx', 'LastModified': datetime.datetime(2024, 3, 9, 3, 6, 55, tzinfo=tzlocal()), 'ETag': '\"3cd6b61601565e32ef780a6e2d239958\"', 'Size': 15580, 'StorageClass': 'STANDARD'}]\n",
      "[{'Key': 'ABTv3/Last_releases/CREDOMATIC_EL SALVADOR/predicciones_test_2d_CREDOMATIC_EL SALVADOR.xlsx', 'LastModified': datetime.datetime(2024, 3, 9, 1, 38, 26, tzinfo=tzlocal()), 'ETag': '\"34d6ed89a67299eacf73c63c620ed3a2\"', 'Size': 15538, 'StorageClass': 'STANDARD'}]\n",
      "[{'Key': 'ABTv3/Last_releases/CUSCA (CITI - RECIBA NETWORKS)_EL SALVADOR/predicciones_test_2d_CUSCA (CITI - RECIBA NETWORKS)_EL SALVADOR.xlsx', 'LastModified': datetime.datetime(2024, 3, 9, 0, 13, 39, tzinfo=tzlocal()), 'ETag': '\"48657e759cb24822130102b557315a86\"', 'Size': 15740, 'StorageClass': 'STANDARD'}]\n",
      "[{'Key': 'ABTv3/Last_releases/DAVIVIENDA - HONDURAS (BTS)_HONDURAS/predicciones_test_2d_DAVIVIENDA - HONDURAS (BTS)_HONDURAS.xlsx', 'LastModified': datetime.datetime(2024, 3, 9, 5, 1, 57, tzinfo=tzlocal()), 'ETag': '\"6efc73e0f8aef966f151abb5a3ebf0ea\"', 'Size': 15421, 'StorageClass': 'STANDARD'}]\n",
      "[{'Key': 'ABTv3/Last_releases/DAVIVIENDA_COLOMBIA/predicciones_test_2d_DAVIVIENDA_COLOMBIA.xlsx', 'LastModified': datetime.datetime(2024, 3, 9, 1, 0, 36, tzinfo=tzlocal()), 'ETag': '\"931c421970ba6c4a52a5c5c767cf1202\"', 'Size': 16018, 'StorageClass': 'STANDARD'}]\n",
      "[{'Key': 'ABTv3/Last_releases/DEPOSITOS BANCARIOS GUATEMALA - ACH_GUATEMALA/predicciones_test_2d_DEPOSITOS BANCARIOS GUATEMALA - ACH_GUATEMALA.xlsx', 'LastModified': datetime.datetime(2024, 3, 9, 23, 36, 2, tzinfo=tzlocal()), 'ETag': '\"7258db9ba14e82fd573b0db1ca530177\"', 'Size': 15044, 'StorageClass': 'STANDARD'}]\n",
      "[{'Key': 'ABTv3/Last_releases/EASY PAGOS_ECUADOR/predicciones_test_2d_EASY PAGOS_ECUADOR.xlsx', 'LastModified': datetime.datetime(2024, 3, 9, 1, 30, 55, tzinfo=tzlocal()), 'ETag': '\"ea2dfa3f885db9585bf5ceb41fa292b9\"', 'Size': 15923, 'StorageClass': 'STANDARD'}]\n",
      "[{'Key': 'ABTv3/Last_releases/ECUAGIROS_ECUADOR/predicciones_test_2d_ECUAGIROS_ECUADOR.xlsx', 'LastModified': datetime.datetime(2024, 3, 9, 1, 24, 41, tzinfo=tzlocal()), 'ETag': '\"dd04fc79455e2d8bb15dce696d637f24\"', 'Size': 16013, 'StorageClass': 'STANDARD'}]\n",
      "[{'Key': 'ABTv3/Last_releases/ELEKTRA (BTS)_GUATEMALA/predicciones_test_2d_ELEKTRA (BTS)_GUATEMALA.xlsx', 'LastModified': datetime.datetime(2024, 3, 9, 1, 54, 25, tzinfo=tzlocal()), 'ETag': '\"52aae5b40704f633aefbaefd59cd1eb9\"', 'Size': 16076, 'StorageClass': 'STANDARD'}]\n",
      "[{'Key': 'ABTv3/Last_releases/ELEKTRA (BTS)_HONDURAS/predicciones_test_2d_ELEKTRA (BTS)_HONDURAS.xlsx', 'LastModified': datetime.datetime(2024, 3, 8, 23, 59, 2, tzinfo=tzlocal()), 'ETag': '\"3b2c973997cc70bc76bfeda8aa7785c4\"', 'Size': 16114, 'StorageClass': 'STANDARD'}]\n",
      "[{'Key': 'ABTv3/Last_releases/ELEKTRA (MEXICO)_MEXICO/predicciones_test_2d_ELEKTRA (MEXICO)_MEXICO.xlsx', 'LastModified': datetime.datetime(2024, 3, 11, 19, 51, 58, tzinfo=tzlocal()), 'ETag': '\"1db1550f19d04a644d1ed0dbe8b6e81e\"', 'Size': 16317, 'StorageClass': 'STANDARD'}]\n",
      "[{'Key': 'ABTv3/Last_releases/EMPENOS DEL SUR (ANTERIOR BALSAS)_MEXICO/predicciones_test_2d_EMPENOS DEL SUR (ANTERIOR BALSAS)_MEXICO.xlsx', 'LastModified': datetime.datetime(2024, 3, 9, 2, 43, 25, tzinfo=tzlocal()), 'ETag': '\"8303f5389243705ce55385161c687db2\"', 'Size': 15777, 'StorageClass': 'STANDARD'}]\n",
      "[{'Key': 'ABTv3/Last_releases/ENVICON (ANTERIORMENTE ENVIOS CONFIANZA)_MEXICO/predicciones_test_2d_ENVICON (ANTERIORMENTE ENVIOS CONFIANZA)_MEXICO.xlsx', 'LastModified': datetime.datetime(2024, 3, 11, 17, 53, 44, tzinfo=tzlocal()), 'ETag': '\"67a8201f10a1759e09f557dfab131996\"', 'Size': 15426, 'StorageClass': 'STANDARD'}]\n",
      "[{'Key': 'ABTv3/Last_releases/ENVIOS CON CLABE (APPRIZA)_MEXICO/predicciones_test_2d_ENVIOS CON CLABE (APPRIZA)_MEXICO.xlsx', 'LastModified': datetime.datetime(2024, 3, 8, 19, 0, 21, tzinfo=tzlocal()), 'ETag': '\"cf6e992ca3ed7b56e6fd12b1eeed2d32\"', 'Size': 16113, 'StorageClass': 'STANDARD'}]\n",
      "[{'Key': 'ABTv3/Last_releases/FARMACIAS DEL AHORRO (DATRANSFER)_MEXICO/predicciones_test_2d_FARMACIAS DEL AHORRO (DATRANSFER)_MEXICO.xlsx', 'LastModified': datetime.datetime(2024, 3, 11, 13, 12, 47, tzinfo=tzlocal()), 'ETag': '\"53299400d629d34e299637ef0fc0ae3c\"', 'Size': 13510, 'StorageClass': 'STANDARD'}]\n",
      "[{'Key': 'ABTv3/Last_releases/FARMACIAS GUADALAJARA (UT)_MEXICO/predicciones_test_2d_FARMACIAS GUADALAJARA (UT)_MEXICO.xlsx', 'LastModified': datetime.datetime(2024, 3, 9, 1, 16, 55, tzinfo=tzlocal()), 'ETag': '\"cb9390cf9f608627d11dad8987171449\"', 'Size': 15959, 'StorageClass': 'STANDARD'}]\n",
      "[{'Key': 'ABTv3/Last_releases/FEDECACES (EL SALVADOR)_EL SALVADOR/predicciones_test_2d_FEDECACES (EL SALVADOR)_EL SALVADOR.xlsx', 'LastModified': datetime.datetime(2024, 3, 9, 0, 33, 18, tzinfo=tzlocal()), 'ETag': '\"99821f9edbe07986fe6a7b726aca1889\"', 'Size': 15631, 'StorageClass': 'STANDARD'}]\n",
      "[{'Key': 'ABTv3/Last_releases/FEDECREDITO (RYT)_EL SALVADOR/predicciones_test_2d_FEDECREDITO (RYT)_EL SALVADOR.xlsx', 'LastModified': datetime.datetime(2024, 3, 19, 4, 11, 48, tzinfo=tzlocal()), 'ETag': '\"2641fa5737b5115ea89971dd8ed410f2\"', 'Size': 15801, 'StorageClass': 'STANDARD'}]\n",
      "[{'Key': 'ABTv3/Last_releases/FICOHSA_HONDURAS/predicciones_test_2d_FICOHSA_HONDURAS.xlsx', 'LastModified': datetime.datetime(2024, 3, 9, 1, 4, 11, tzinfo=tzlocal()), 'ETag': '\"aa54f111f59cbe74d034e900d74b870d\"', 'Size': 16006, 'StorageClass': 'STANDARD'}]\n",
      "[{'Key': 'ABTv3/Last_releases/G Y T CONTINENTAL_GUATEMALA/predicciones_test_2d_G Y T CONTINENTAL_GUATEMALA.xlsx', 'LastModified': datetime.datetime(2024, 3, 8, 23, 24, 51, tzinfo=tzlocal()), 'ETag': '\"db3153828aa7fb8977c0510e41db147e\"', 'Size': 16127, 'StorageClass': 'STANDARD'}]\n",
      "[{'Key': 'ABTv3/Last_releases/GIROSMEX_MEXICO/predicciones_test_2d_GIROSMEX_MEXICO.xlsx', 'LastModified': datetime.datetime(2024, 3, 9, 3, 35, 5, tzinfo=tzlocal()), 'ETag': '\"befebae6eab39b8df49f4e12cc95528c\"', 'Size': 13198, 'StorageClass': 'STANDARD'}]\n",
      "[{'Key': 'ABTv3/Last_releases/GLOBAL ENVIOS_ECUADOR/predicciones_test_2d_GLOBAL ENVIOS_ECUADOR.xlsx', 'LastModified': datetime.datetime(2024, 3, 16, 1, 17, 30, tzinfo=tzlocal()), 'ETag': '\"7a94fd11497d67579a5fd174f49dbd20\"', 'Size': 15521, 'StorageClass': 'STANDARD'}]\n",
      "[{'Key': 'ABTv3/Last_releases/GME_NEPAL/predicciones_test_2d_GME_NEPAL.xlsx', 'LastModified': datetime.datetime(2024, 3, 9, 20, 2, 25, tzinfo=tzlocal()), 'ETag': '\"afed6036f51788a7c368da5be223b672\"', 'Size': 15099, 'StorageClass': 'STANDARD'}]\n",
      "[{'Key': 'ABTv3/Last_releases/GRUPO EXITO (TN)_COLOMBIA/predicciones_test_2d_GRUPO EXITO (TN)_COLOMBIA.xlsx', 'LastModified': datetime.datetime(2024, 3, 11, 17, 3, 18, tzinfo=tzlocal()), 'ETag': '\"34db0a58cc2e8a5630eff0ca816b5db3\"', 'Size': 15974, 'StorageClass': 'STANDARD'}]\n",
      "[{'Key': 'ABTv3/Last_releases/INTERBANK_PERU/predicciones_test_2d_INTERBANK_PERU.xlsx', 'LastModified': datetime.datetime(2024, 3, 9, 3, 38, 40, tzinfo=tzlocal()), 'ETag': '\"c21e5c578c8bdbc974c106509b852aef\"', 'Size': 15387, 'StorageClass': 'STANDARD'}]\n",
      "[{'Key': 'ABTv3/Last_releases/INTERMEX_MEXICO/predicciones_test_2d_INTERMEX_MEXICO.xlsx', 'LastModified': datetime.datetime(2024, 3, 11, 12, 40, 53, tzinfo=tzlocal()), 'ETag': '\"6f3adb5f6a0faafbb13333fb953139f6\"', 'Size': 16087, 'StorageClass': 'STANDARD'}]\n",
      "[{'Key': 'ABTv3/Last_releases/JMMB_JAMAICA/predicciones_test_2d_JMMB_JAMAICA.xlsx', 'LastModified': datetime.datetime(2024, 3, 11, 15, 46, 34, tzinfo=tzlocal()), 'ETag': '\"09cbb743bc6824f4180ac91acf06cf6c\"', 'Size': 6787, 'StorageClass': 'STANDARD'}]\n",
      "[{'Key': 'ABTv3/Last_releases/KORI_BENIN/predicciones_test_2d_KORI_BENIN.xlsx', 'LastModified': datetime.datetime(2024, 3, 11, 16, 4, 1, tzinfo=tzlocal()), 'ETag': '\"91b0379fe615cf97b25abdc835cb01eb\"', 'Size': 11499, 'StorageClass': 'STANDARD'}]\n",
      "[{'Key': 'ABTv3/Last_releases/KORI_BURKINA FASO/predicciones_test_2d_KORI_BURKINA FASO.xlsx', 'LastModified': datetime.datetime(2024, 3, 9, 23, 20, 52, tzinfo=tzlocal()), 'ETag': '\"60956d7552e924d19019e94a10f110d3\"', 'Size': 12488, 'StorageClass': 'STANDARD'}]\n",
      "[{'Key': 'ABTv3/Last_releases/LAFISE_NICARAGUA/predicciones_test_2d_LAFISE_NICARAGUA.xlsx', 'LastModified': datetime.datetime(2024, 3, 9, 2, 45, 26, tzinfo=tzlocal()), 'ETag': '\"c99ab1d97bcb21f2b5c39e05f16045b5\"', 'Size': 15723, 'StorageClass': 'STANDARD'}]\n",
      "[{'Key': 'ABTv3/Last_releases/MASTERCARD ATM NETWORK_UNITED STATES/predicciones_test_2d_MASTERCARD ATM NETWORK_UNITED STATES.xlsx', 'LastModified': datetime.datetime(2024, 3, 9, 21, 36, 18, tzinfo=tzlocal()), 'ETag': '\"51075ecf637e8f6bebab0780b2e9d8b6\"', 'Size': 15036, 'StorageClass': 'STANDARD'}]\n",
      "[{'Key': 'ABTv3/Last_releases/MERCHANTRADE_BANGLADESH/predicciones_test_2d_MERCHANTRADE_BANGLADESH.xlsx', 'LastModified': datetime.datetime(2024, 3, 9, 23, 41, 16, tzinfo=tzlocal()), 'ETag': '\"c7ae10a0c0876e1903a241057af022f2\"', 'Size': 13753, 'StorageClass': 'STANDARD'}]\n",
      "[{'Key': 'ABTv3/Last_releases/MERCHANTRADE_INDONESIA/predicciones_test_2d_MERCHANTRADE_INDONESIA.xlsx', 'LastModified': datetime.datetime(2024, 3, 9, 4, 4, tzinfo=tzlocal()), 'ETag': '\"256cb43987734a3dc2b6cac0a9c3233f\"', 'Size': 15569, 'StorageClass': 'STANDARD'}]\n",
      "[{'Key': 'ABTv3/Last_releases/MERCHANTRADE_MALAYSIA/predicciones_test_2d_MERCHANTRADE_MALAYSIA.xlsx', 'LastModified': datetime.datetime(2024, 3, 11, 13, 19, 36, tzinfo=tzlocal()), 'ETag': '\"f3a51bbc8673845c9898c4906380e95d\"', 'Size': 9407, 'StorageClass': 'STANDARD'}]\n",
      "[{'Key': 'ABTv3/Last_releases/MERCHANTRADE_NEPAL/predicciones_test_2d_MERCHANTRADE_NEPAL.xlsx', 'LastModified': datetime.datetime(2024, 3, 11, 16, 11, 16, tzinfo=tzlocal()), 'ETag': '\"a275f7e5ad84490811d4151e2445f260\"', 'Size': 12034, 'StorageClass': 'STANDARD'}]\n",
      "[{'Key': 'ABTv3/Last_releases/MERCHANTRADE_THAILAND/predicciones_test_2d_MERCHANTRADE_THAILAND.xlsx', 'LastModified': datetime.datetime(2024, 3, 9, 23, 31, 59, tzinfo=tzlocal()), 'ETag': '\"b9f942d616eca46df814d24649552302\"', 'Size': 11876, 'StorageClass': 'STANDARD'}]\n",
      "[{'Key': 'ABTv3/Last_releases/METROBANK_PHILIPPINES/predicciones_test_2d_METROBANK_PHILIPPINES.xlsx', 'LastModified': datetime.datetime(2024, 3, 9, 0, 16, 34, tzinfo=tzlocal()), 'ETag': '\"c1c82981d9a706f7085c38ddd11c7693\"', 'Size': 16104, 'StorageClass': 'STANDARD'}]\n",
      "[{'Key': 'ABTv3/Last_releases/MICOOPE-FENACOAC (RED CHAPINA)_GUATEMALA/predicciones_test_2d_MICOOPE-FENACOAC (RED CHAPINA)_GUATEMALA.xlsx', 'LastModified': datetime.datetime(2024, 3, 9, 0, 53, 17, tzinfo=tzlocal()), 'ETag': '\"6fff7a5af8cd550638e34f770d2e246b\"', 'Size': 16008, 'StorageClass': 'STANDARD'}]\n",
      "[{'Key': 'ABTv3/Last_releases/MSBB MONEY_BRAZIL/predicciones_test_2d_MSBB MONEY_BRAZIL.xlsx', 'LastModified': datetime.datetime(2024, 3, 19, 4, 26, 18, tzinfo=tzlocal()), 'ETag': '\"640c36abf9c51829ba29ed5ac7b7abb5\"', 'Size': 16129, 'StorageClass': 'STANDARD'}]\n",
      "[{'Key': 'ABTv3/Last_releases/MUTHOOT-BANGLADESH_BANGLADESH/predicciones_test_2d_MUTHOOT-BANGLADESH_BANGLADESH.xlsx', 'LastModified': datetime.datetime(2024, 3, 11, 18, 49, 55, tzinfo=tzlocal()), 'ETag': '\"6b68f1747426821de146276e824f832c\"', 'Size': 11080, 'StorageClass': 'STANDARD'}]\n",
      "[{'Key': 'ABTv3/Last_releases/MUTHOOT_INDIA/predicciones_test_2d_MUTHOOT_INDIA.xlsx', 'LastModified': datetime.datetime(2024, 3, 11, 18, 18, 16, tzinfo=tzlocal()), 'ETag': '\"584196eb039566cfe6b12465a2563911\"', 'Size': 10440, 'StorageClass': 'STANDARD'}]\n",
      "[{'Key': 'ABTv3/Last_releases/NAFA_BURKINA FASO/predicciones_test_2d_NAFA_BURKINA FASO.xlsx', 'LastModified': datetime.datetime(2024, 3, 11, 12, 47, 20, tzinfo=tzlocal()), 'ETag': '\"44ffae604f2753a9454b1039f4b8727a\"', 'Size': 14250, 'StorageClass': 'STANDARD'}]\n",
      "[{'Key': \"ABTv3/Last_releases/NAFA_COTE D'IVOIRE (IVORY COAST)/predicciones_test_2d_NAFA_COTE D'IVOIRE (IVORY COAST).xlsx\", 'LastModified': datetime.datetime(2024, 3, 11, 13, 24, 53, tzinfo=tzlocal()), 'ETag': '\"3ccac0391482fd832e697b7d48b14ecd\"', 'Size': 14490, 'StorageClass': 'STANDARD'}]\n",
      "[{'Key': 'ABTv3/Last_releases/NAFA_GAMBIA, THE/predicciones_test_2d_NAFA_GAMBIA, THE.xlsx', 'LastModified': datetime.datetime(2024, 3, 9, 21, 39, 47, tzinfo=tzlocal()), 'ETag': '\"75c6564b5d8096f523022741309180bf\"', 'Size': 14338, 'StorageClass': 'STANDARD'}]\n",
      "[{'Key': 'ABTv3/Last_releases/NAFA_GUINEA/predicciones_test_2d_NAFA_GUINEA.xlsx', 'LastModified': datetime.datetime(2024, 3, 9, 20, 1, 4, tzinfo=tzlocal()), 'ETag': '\"acb7adb933050602c690451bd269a148\"', 'Size': 15327, 'StorageClass': 'STANDARD'}]\n",
      "[{'Key': 'ABTv3/Last_releases/NAFA_LIBERIA/predicciones_test_2d_NAFA_LIBERIA.xlsx', 'LastModified': datetime.datetime(2024, 3, 11, 13, 6, 45, tzinfo=tzlocal()), 'ETag': '\"e1658ac14ee75e3e5312009eca6c0710\"', 'Size': 12790, 'StorageClass': 'STANDARD'}]\n",
      "[{'Key': 'ABTv3/Last_releases/NAFA_MALI/predicciones_test_2d_NAFA_MALI.xlsx', 'LastModified': datetime.datetime(2024, 3, 11, 13, 46, 34, tzinfo=tzlocal()), 'ETag': '\"8ae56eb1aea9da9cede2c14a175f5f59\"', 'Size': 14755, 'StorageClass': 'STANDARD'}]\n",
      "[{'Key': 'ABTv3/Last_releases/NAFA_SENEGAL/predicciones_test_2d_NAFA_SENEGAL.xlsx', 'LastModified': datetime.datetime(2024, 3, 9, 23, 22, 49, tzinfo=tzlocal()), 'ETag': '\"e0dbbdb2beb6ec80089d246523583ebf\"', 'Size': 15258, 'StorageClass': 'STANDARD'}]\n",
      "[{'Key': 'ABTv3/Last_releases/NAFA_TOGO/predicciones_test_2d_NAFA_TOGO.xlsx', 'LastModified': datetime.datetime(2024, 3, 9, 20, 9, 54, tzinfo=tzlocal()), 'ETag': '\"96ff379bd5b3a5cb849528f351f9a201\"', 'Size': 14807, 'StorageClass': 'STANDARD'}]\n",
      "[{'Key': 'ABTv3/Last_releases/NAIRAGRAM_NIGERIA/predicciones_test_2d_NAIRAGRAM_NIGERIA.xlsx', 'LastModified': datetime.datetime(2024, 3, 19, 5, 7, 26, tzinfo=tzlocal()), 'ETag': '\"e865558b61fafbad8dfa17e71a3974c2\"', 'Size': 16006, 'StorageClass': 'STANDARD'}]\n",
      "[{'Key': 'ABTv3/Last_releases/OXXO (TN)_MEXICO/predicciones_test_2d_OXXO (TN)_MEXICO.xlsx', 'LastModified': datetime.datetime(2024, 3, 9, 2, 50, 35, tzinfo=tzlocal()), 'ETag': '\"f4747c50e1ced19cb415d1b168a95b3c\"', 'Size': 15919, 'StorageClass': 'STANDARD'}]\n",
      "[{'Key': 'ABTv3/Last_releases/PROMERICA (GUA)_GUATEMALA/predicciones_test_2d_PROMERICA (GUA)_GUATEMALA.xlsx', 'LastModified': datetime.datetime(2024, 3, 9, 2, 35, 12, tzinfo=tzlocal()), 'ETag': '\"eac91c6bb1791d827e546bd346ad589b\"', 'Size': 15808, 'StorageClass': 'STANDARD'}]\n",
      "[{'Key': 'ABTv3/Last_releases/PROMERICA_EL SALVADOR/predicciones_test_2d_PROMERICA_EL SALVADOR.xlsx', 'LastModified': datetime.datetime(2024, 3, 9, 1, 47, 36, tzinfo=tzlocal()), 'ETag': '\"95dc149084cd59e1a73b34ae98517442\"', 'Size': 15559, 'StorageClass': 'STANDARD'}]\n",
      "[{'Key': 'ABTv3/Last_releases/SORIANA_MEXICO/predicciones_test_2d_SORIANA_MEXICO.xlsx', 'LastModified': datetime.datetime(2024, 3, 9, 0, 30, 6, tzinfo=tzlocal()), 'ETag': '\"1cb3825e9214e141589922618855c0d8\"', 'Size': 16030, 'StorageClass': 'STANDARD'}]\n",
      "[{'Key': 'ABTv3/Last_releases/SPEED MONEY_PHILIPPINES/predicciones_test_2d_SPEED MONEY_PHILIPPINES.xlsx', 'LastModified': datetime.datetime(2024, 3, 9, 4, 26, 51, tzinfo=tzlocal()), 'ETag': '\"3c7d920ffe71da0b5faca5e7c67398b6\"', 'Size': 15374, 'StorageClass': 'STANDARD'}]\n",
      "[{'Key': 'ABTv3/Last_releases/TELECOMM TELEGRAFOS (APPRIZA)_MEXICO/predicciones_test_2d_TELECOMM TELEGRAFOS (APPRIZA)_MEXICO.xlsx', 'LastModified': datetime.datetime(2024, 3, 8, 20, 4, 47, tzinfo=tzlocal()), 'ETag': '\"63da53ed8c972a5256a2c49f2c8b38f3\"', 'Size': 16155, 'StorageClass': 'STANDARD'}]\n",
      "[{'Key': 'ABTv3/Last_releases/TELEDOLAR (TN)_COSTA RICA/predicciones_test_2d_TELEDOLAR (TN)_COSTA RICA.xlsx', 'LastModified': datetime.datetime(2024, 3, 9, 2, 43, 54, tzinfo=tzlocal()), 'ETag': '\"6f7dbb09bb527feb0b04556b9107ce10\"', 'Size': 15973, 'StorageClass': 'STANDARD'}]\n",
      "[{'Key': 'ABTv3/Last_releases/TELEDOLAR-NIC (TN)_NICARAGUA/predicciones_test_2d_TELEDOLAR-NIC (TN)_NICARAGUA.xlsx', 'LastModified': datetime.datetime(2024, 3, 9, 2, 46, tzinfo=tzlocal()), 'ETag': '\"e96be4eff39889a03fe2603300034075\"', 'Size': 15744, 'StorageClass': 'STANDARD'}]\n",
      "[{'Key': 'ABTv3/Last_releases/TRANSFER DIRECTO_MEXICO/predicciones_test_2d_TRANSFER DIRECTO_MEXICO.xlsx', 'LastModified': datetime.datetime(2024, 3, 9, 2, 52, 4, tzinfo=tzlocal()), 'ETag': '\"86ad21be3516ddacdc91ccb1e5066730\"', 'Size': 16004, 'StorageClass': 'STANDARD'}]\n",
      "[{'Key': 'ABTv3/Last_releases/TRANSFERTO - THUNES_BELGIUM/predicciones_test_2d_TRANSFERTO - THUNES_BELGIUM.xlsx', 'LastModified': datetime.datetime(2024, 3, 11, 13, 4, 25, tzinfo=tzlocal()), 'ETag': '\"4fbec26ebc48a9bedc8420ec6e8fda16\"', 'Size': 11306, 'StorageClass': 'STANDARD'}]\n",
      "[{'Key': 'ABTv3/Last_releases/TRANSFERTO - THUNES_FRANCE/predicciones_test_2d_TRANSFERTO - THUNES_FRANCE.xlsx', 'LastModified': datetime.datetime(2024, 3, 11, 13, 41, 17, tzinfo=tzlocal()), 'ETag': '\"fac61006ae29d185bf7584af2972008d\"', 'Size': 10582, 'StorageClass': 'STANDARD'}]\n",
      "[{'Key': 'ABTv3/Last_releases/TRANSFERTO - THUNES_GERMANY/predicciones_test_2d_TRANSFERTO - THUNES_GERMANY.xlsx', 'LastModified': datetime.datetime(2024, 3, 11, 13, 15, 50, tzinfo=tzlocal()), 'ETag': '\"70e6897cc816fecfe50db61cf9c1ddb2\"', 'Size': 13161, 'StorageClass': 'STANDARD'}]\n",
      "[{'Key': 'ABTv3/Last_releases/TRANSFERTO - THUNES_GHANA/predicciones_test_2d_TRANSFERTO - THUNES_GHANA.xlsx', 'LastModified': datetime.datetime(2024, 3, 11, 16, 26, 22, tzinfo=tzlocal()), 'ETag': '\"47d3d791e1656a446dbb69d97d2be96c\"', 'Size': 8052, 'StorageClass': 'STANDARD'}]\n",
      "[{'Key': 'ABTv3/Last_releases/TRANSFERTO - THUNES_ITALY/predicciones_test_2d_TRANSFERTO - THUNES_ITALY.xlsx', 'LastModified': datetime.datetime(2024, 3, 9, 23, 38, 4, tzinfo=tzlocal()), 'ETag': '\"9f53605f3d6887b3bc1d0cb4d79b2360\"', 'Size': 13037, 'StorageClass': 'STANDARD'}]\n",
      "[{'Key': 'ABTv3/Last_releases/TRANSFERTO - THUNES_NIGERIA/predicciones_test_2d_TRANSFERTO - THUNES_NIGERIA.xlsx', 'LastModified': datetime.datetime(2024, 3, 11, 17, 11, 7, tzinfo=tzlocal()), 'ETag': '\"3d851c600b40d2cd15aaedc97b32b97a\"', 'Size': 14840, 'StorageClass': 'STANDARD'}]\n",
      "[{'Key': 'ABTv3/Last_releases/TRANSFERTO - THUNES_PORTUGAL/predicciones_test_2d_TRANSFERTO - THUNES_PORTUGAL.xlsx', 'LastModified': datetime.datetime(2024, 3, 9, 20, 11, 27, tzinfo=tzlocal()), 'ETag': '\"8fb8ee7cad3c4d593afbfccf10ee78fa\"', 'Size': 14617, 'StorageClass': 'STANDARD'}]\n",
      "[{'Key': 'ABTv3/Last_releases/TRANSFERTO - THUNES_SPAIN/predicciones_test_2d_TRANSFERTO - THUNES_SPAIN.xlsx', 'LastModified': datetime.datetime(2024, 3, 9, 19, 45, 58, tzinfo=tzlocal()), 'ETag': '\"72f99cbe67ca9ffb52989a00800f0a26\"', 'Size': 15841, 'StorageClass': 'STANDARD'}]\n",
      "[{'Key': 'ABTv3/Last_releases/TRANSFERTO - THUNES_UNITED KINGDOM/predicciones_test_2d_TRANSFERTO - THUNES_UNITED KINGDOM.xlsx', 'LastModified': datetime.datetime(2024, 3, 11, 12, 44, 31, tzinfo=tzlocal()), 'ETag': '\"6cfce56f28bd8d344d8a59a7d6cc1e6c\"', 'Size': 12684, 'StorageClass': 'STANDARD'}]\n",
      "[{'Key': 'ABTv3/Last_releases/TRANSPAY_BANGLADESH/predicciones_test_2d_TRANSPAY_BANGLADESH.xlsx', 'LastModified': datetime.datetime(2024, 3, 11, 18, 2, 24, tzinfo=tzlocal()), 'ETag': '\"d3ce5c3973f67d0f180d3227bb5cd614\"', 'Size': 9793, 'StorageClass': 'STANDARD'}]\n",
      "[{'Key': 'ABTv3/Last_releases/TRANSPAY_BENIN/predicciones_test_2d_TRANSPAY_BENIN.xlsx', 'LastModified': datetime.datetime(2024, 3, 11, 13, 28, 18, tzinfo=tzlocal()), 'ETag': '\"9e39809786ae65032fd8a3b2055a0fed\"', 'Size': 12196, 'StorageClass': 'STANDARD'}]\n",
      "[{'Key': 'ABTv3/Last_releases/TRANSPAY_CAMEROON/predicciones_test_2d_TRANSPAY_CAMEROON.xlsx', 'LastModified': datetime.datetime(2024, 3, 11, 12, 53, 43, tzinfo=tzlocal()), 'ETag': '\"af265289db4c65af3044289c5973a7fb\"', 'Size': 12000, 'StorageClass': 'STANDARD'}]\n",
      "[{'Key': 'ABTv3/Last_releases/TRANSPAY_INDONESIA/predicciones_test_2d_TRANSPAY_INDONESIA.xlsx', 'LastModified': datetime.datetime(2024, 3, 9, 23, 33, 9, tzinfo=tzlocal()), 'ETag': '\"927b0c9285b8862f865d6f2e6bbce148\"', 'Size': 13315, 'StorageClass': 'STANDARD'}]\n",
      "[{'Key': 'ABTv3/Last_releases/TRANSPAY_SENEGAL/predicciones_test_2d_TRANSPAY_SENEGAL.xlsx', 'LastModified': datetime.datetime(2024, 3, 11, 13, 44, tzinfo=tzlocal()), 'ETag': '\"de92ba687111a7dc04ff6a1305cd7cfb\"', 'Size': 9976, 'StorageClass': 'STANDARD'}]\n",
      "[{'Key': 'ABTv3/Last_releases/TRANSPAY_TOGO/predicciones_test_2d_TRANSPAY_TOGO.xlsx', 'LastModified': datetime.datetime(2024, 3, 11, 12, 50, 35, tzinfo=tzlocal()), 'ETag': '\"7fd41a50ab8204d58e162ddba18e3022\"', 'Size': 10140, 'StorageClass': 'STANDARD'}]\n",
      "[{'Key': 'ABTv3/Last_releases/UNITRANSFER_HAITI/predicciones_test_2d_UNITRANSFER_HAITI.xlsx', 'LastModified': datetime.datetime(2024, 3, 9, 2, 55, 53, tzinfo=tzlocal()), 'ETag': '\"d63c8aca01acfc6906566cd47fcf6610\"', 'Size': 15861, 'StorageClass': 'STANDARD'}]\n",
      "[{'Key': 'ABTv3/Last_releases/VIAMERICAS USA DEPOSITS (RT)_UNITED STATES/predicciones_test_2d_VIAMERICAS USA DEPOSITS (RT)_UNITED STATES.xlsx', 'LastModified': datetime.datetime(2024, 3, 16, 1, 25, 16, tzinfo=tzlocal()), 'ETag': '\"69cf5c0d9b8b13b8a95705e1f3b622de\"', 'Size': 6538, 'StorageClass': 'STANDARD'}]\n",
      "[{'Key': 'ABTv3/Last_releases/VIAMERICAS USA DEPOSITS_UNITED STATES/predicciones_test_2d_VIAMERICAS USA DEPOSITS_UNITED STATES.xlsx', 'LastModified': datetime.datetime(2024, 3, 9, 1, 19, 59, tzinfo=tzlocal()), 'ETag': '\"067c491616b9a29051b1786a06582044\"', 'Size': 16000, 'StorageClass': 'STANDARD'}]\n",
      "[{'Key': 'ABTv3/Last_releases/VTN_NIGERIA/predicciones_test_2d_VTN_NIGERIA.xlsx', 'LastModified': datetime.datetime(2024, 3, 9, 21, 44, 19, tzinfo=tzlocal()), 'ETag': '\"13a8c0e0a92b83616c7d318f23771b5a\"', 'Size': 11818, 'StorageClass': 'STANDARD'}]\n",
      "[{'Key': 'ABTv3/Last_releases/WALDOS (APPRIZA)_MEXICO/predicciones_test_2d_WALDOS (APPRIZA)_MEXICO.xlsx', 'LastModified': datetime.datetime(2024, 3, 9, 4, 35, 43, tzinfo=tzlocal()), 'ETag': '\"e917a5481aeac36b5bfc96d7b35af93b\"', 'Size': 15714, 'StorageClass': 'STANDARD'}]\n",
      "[{'Key': 'ABTv3/Last_releases/WALMART (UT)_MEXICO/predicciones_test_2d_WALMART (UT)_MEXICO.xlsx', 'LastModified': datetime.datetime(2024, 3, 18, 20, 54, 26, tzinfo=tzlocal()), 'ETag': '\"22613447d1b9e75f51f7eb533180dc32\"', 'Size': 16157, 'StorageClass': 'STANDARD'}]\n",
      "[{'Key': 'ABTv3/Last_releases/YES BANK_INDIA/predicciones_test_2d_YES BANK_INDIA.xlsx', 'LastModified': datetime.datetime(2024, 3, 9, 4, 12, 31, tzinfo=tzlocal()), 'ETag': '\"fc0f27c5936d4aa2739847ce3bae7090\"', 'Size': 15645, 'StorageClass': 'STANDARD'}]\n",
      "[{'Key': 'ABTv3/Last_releases/ZEEPAY_CAMEROON/predicciones_test_2d_ZEEPAY_CAMEROON.xlsx', 'LastModified': datetime.datetime(2024, 3, 9, 23, 25, 52, tzinfo=tzlocal()), 'ETag': '\"c27af2edfedd7f8d7b16f90b071631f3\"', 'Size': 14236, 'StorageClass': 'STANDARD'}]\n",
      "[{'Key': \"ABTv3/Last_releases/ZEEPAY_COTE D'IVOIRE (IVORY COAST)/predicciones_test_2d_ZEEPAY_COTE D'IVOIRE (IVORY COAST).xlsx\", 'LastModified': datetime.datetime(2024, 3, 9, 23, 28, 39, tzinfo=tzlocal()), 'ETag': '\"3fa9062437a67d302e4d7bce550b5918\"', 'Size': 12183, 'StorageClass': 'STANDARD'}]\n",
      "[{'Key': 'ABTv3/Last_releases/ZEEPAY_GHANA/predicciones_test_2d_ZEEPAY_GHANA.xlsx', 'LastModified': datetime.datetime(2024, 3, 9, 3, 4, 14, tzinfo=tzlocal()), 'ETag': '\"f9fa7c778c4e814425b2281c4a72558e\"', 'Size': 15740, 'StorageClass': 'STANDARD'}]\n"
     ]
    }
   ],
   "source": [
    "# Llamo funcion para leer xlsx y consolidar en un unico DF\n",
    "df = read_files(bucket_name, prefix_ABTv3)"
   ]
  },
  {
   "cell_type": "code",
   "execution_count": 35,
   "id": "b1b591c8-eef4-4ba5-b81d-6dc7eae972aa",
   "metadata": {},
   "outputs": [],
   "source": [
    "##Ahora levantamos los excels del modelo a 2d con los modelos entrenados con NUEVOS DATOS PARA TOP 15 PAYERS(test de cambios en ABT)##"
   ]
  },
  {
   "cell_type": "code",
   "execution_count": 36,
   "id": "6c3cfec5-495c-4e17-90ad-44288d4845bd",
   "metadata": {
    "tags": []
   },
   "outputs": [],
   "source": [
    "# Bucket y prefijo de carpetas\n",
    "bucket_name = 'viamericas-datalake-dev-us-east-1-283731589572-analytics'\n",
    "prefix_ABTv3_update = 'ABTv3_update/top_payers_abt_v3update/'"
   ]
  },
  {
   "cell_type": "code",
   "execution_count": 37,
   "id": "bf6d8b57-c33f-4a01-91e6-c19f247869e8",
   "metadata": {
    "tags": []
   },
   "outputs": [],
   "source": [
    "# Obtengo lista de carpetas en el bucket\n",
    "def list_folders(bucket_name, prefix):\n",
    "    response = s3.list_objects_v2(Bucket=bucket_name, Prefix=prefix, Delimiter='/')\n",
    "    folders = [prefix['Prefix'].split('/')[-2] for prefix in response.get('CommonPrefixes', [])]\n",
    "    return folders"
   ]
  },
  {
   "cell_type": "code",
   "execution_count": 38,
   "id": "15de029d-0fea-41bc-bfd2-4ebfeb9690cb",
   "metadata": {
    "tags": []
   },
   "outputs": [],
   "source": [
    "# Llamo funcion para listar carpetas\n",
    "folders_v3 = list_folders(bucket_name, prefix_ABTv3_update)"
   ]
  },
  {
   "cell_type": "code",
   "execution_count": 39,
   "id": "bfe9a4ab-a3b1-4b91-a414-52b262b50703",
   "metadata": {
    "tags": []
   },
   "outputs": [],
   "source": [
    "# Leo los xlsx y consolido\n",
    "\n",
    "def read_files(bucket_name, prefix):\n",
    "    dfs = []\n",
    "    \n",
    "    # Iterar sobre cada carpeta\n",
    "    for folder_name in folders_v3:\n",
    "        # Obtener la lista de objetos en la carpeta\n",
    "        objects = s3.list_objects_v2(Bucket=bucket_name, Prefix=f'{prefix}{folder_name}/')['Contents']\n",
    "        \n",
    "        # Buscar archivos xlsx en la carpeta\n",
    "        excel_objects = [obj for obj in objects if obj['Key'].endswith('.xlsx') and '7d' not in obj['Key']]\n",
    "        \n",
    "        if excel_objects:\n",
    "            print(excel_objects)\n",
    "            # Leer el primer archivo xlsx encontrado\n",
    "            obj = s3.get_object(Bucket=bucket_name, Key=excel_objects[0]['Key'])\n",
    "            excel_data = obj['Body'].read() # No se puede leer con pandas directo de S3\n",
    "            \n",
    "            df = pd.read_excel(BytesIO(excel_data))\n",
    "            # Agrego columna con el nombre de la carpeta\n",
    "            df['folder_name'] = folder_name\n",
    "            # Agregar el df a la lista\n",
    "            dfs.append(df)\n",
    "        else:\n",
    "            print(f\"No se encontraron archivos xlsx en la carpeta {folder_name}.\")\n",
    "    \n",
    "    if dfs:\n",
    "        # Concateno todo\n",
    "        consolidated_df = pd.concat(dfs, ignore_index=True)\n",
    "        return consolidated_df\n",
    "    else:\n",
    "        print(\"No se encontraron archivos xlsx en ninguna de las carpetas especificadas.\")\n",
    "        return None"
   ]
  },
  {
   "cell_type": "code",
   "execution_count": 40,
   "id": "de69ac48-6d80-4aee-837d-097ce0f4abcc",
   "metadata": {
    "tags": []
   },
   "outputs": [
    {
     "name": "stdout",
     "output_type": "stream",
     "text": [
      "[{'Key': 'ABTv3_update/top_payers_abt_v3update/BANCO AGRICOLA_EL SALVADOR/predicciones_test_2d_BANCO AGRICOLA_EL SALVADOR.xlsx', 'LastModified': datetime.datetime(2024, 3, 25, 18, 45, 53, tzinfo=tzlocal()), 'ETag': '\"9b406073e87517287809516d839f8a2d\"', 'Size': 18494, 'StorageClass': 'STANDARD'}]\n",
      "[{'Key': 'ABTv3_update/top_payers_abt_v3update/BANCO ATLANTIDA_HONDURAS/predicciones_test_2d_BANCO ATLANTIDA_HONDURAS.xlsx', 'LastModified': datetime.datetime(2024, 3, 25, 17, 14, 50, tzinfo=tzlocal()), 'ETag': '\"efab2b35f556266e631250662095466d\"', 'Size': 18913, 'StorageClass': 'STANDARD'}]\n",
      "[{'Key': 'ABTv3_update/top_payers_abt_v3update/BANCO DE OCCIDENTE_HONDURAS/predicciones_test_2d_BANCO DE OCCIDENTE_HONDURAS.xlsx', 'LastModified': datetime.datetime(2024, 3, 25, 19, 18, 47, tzinfo=tzlocal()), 'ETag': '\"6246eb42efc092e74e315d514e726e4c\"', 'Size': 18856, 'StorageClass': 'STANDARD'}]\n",
      "[{'Key': 'ABTv3_update/top_payers_abt_v3update/BANCO DE ORO (BDO)_PHILIPPINES/predicciones_test_2d_BANCO DE ORO (BDO)_PHILIPPINES.xlsx', 'LastModified': datetime.datetime(2024, 3, 25, 19, 37, 24, tzinfo=tzlocal()), 'ETag': '\"4fe5d521c2436b703d1e74ccf24185c3\"', 'Size': 18749, 'StorageClass': 'STANDARD'}]\n",
      "[{'Key': 'ABTv3_update/top_payers_abt_v3update/BANCO INDUSTRIAL_GUATEMALA/predicciones_test_2d_BANCO INDUSTRIAL_GUATEMALA.xlsx', 'LastModified': datetime.datetime(2024, 3, 22, 18, 14, 7, tzinfo=tzlocal()), 'ETag': '\"8ef9fd8ca66e7d6d0c4afc3d427adbc0\"', 'Size': 18975, 'StorageClass': 'STANDARD'}]\n",
      "[{'Key': 'ABTv3_update/top_payers_abt_v3update/BANCO RENDIMENTO_BRAZIL/predicciones_test_2d_BANCO RENDIMENTO_BRAZIL.xlsx', 'LastModified': datetime.datetime(2024, 3, 25, 15, 40, 26, tzinfo=tzlocal()), 'ETag': '\"a5731b4bbbe1dc95fa3f0d8783c72dae\"', 'Size': 18712, 'StorageClass': 'STANDARD'}]\n",
      "[{'Key': 'ABTv3_update/top_payers_abt_v3update/BANCOPPEL (APPRIZA)_MEXICO/predicciones_test_2d_BANCOPPEL (APPRIZA)_MEXICO.xlsx', 'LastModified': datetime.datetime(2024, 3, 22, 14, 35, 7, tzinfo=tzlocal()), 'ETag': '\"06dd782c8726449ccf92f05b1e6538d2\"', 'Size': 19005, 'StorageClass': 'STANDARD'}]\n",
      "[{'Key': 'ABTv3_update/top_payers_abt_v3update/BANORTE (UT)_MEXICO/predicciones_test_2d_BANORTE (UT)_MEXICO.xlsx', 'LastModified': datetime.datetime(2024, 3, 25, 14, 47, 28, tzinfo=tzlocal()), 'ETag': '\"852435298b6cec0a917e67f03ef07af0\"', 'Size': 18847, 'StorageClass': 'STANDARD'}]\n",
      "[{'Key': 'ABTv3_update/top_payers_abt_v3update/BANRURAL (RYT)_GUATEMALA/predicciones_test_2d_BANRURAL (RYT)_GUATEMALA.xlsx', 'LastModified': datetime.datetime(2024, 3, 22, 14, 41, 54, tzinfo=tzlocal()), 'ETag': '\"9184b46d1b68a8431afc3fa60f8f0f3c\"', 'Size': 19044, 'StorageClass': 'STANDARD'}]\n",
      "[{'Key': 'ABTv3_update/top_payers_abt_v3update/BBVA - BANCOMER (BTS)_MEXICO/predicciones_test_2d_BBVA - BANCOMER (BTS)_MEXICO.xlsx', 'LastModified': datetime.datetime(2024, 3, 22, 18, 39, 16, tzinfo=tzlocal()), 'ETag': '\"4c8d8708c380c3fd4bf1722c91123b76\"', 'Size': 18838, 'StorageClass': 'STANDARD'}]\n",
      "[{'Key': 'ABTv3_update/top_payers_abt_v3update/CARIBE EXPRESS_DOMINICAN REPUBLIC/predicciones_test_2d_CARIBE EXPRESS_DOMINICAN REPUBLIC.xlsx', 'LastModified': datetime.datetime(2024, 3, 25, 17, 29, 49, tzinfo=tzlocal()), 'ETag': '\"188d41a31c84b30c159513e10d09d77e\"', 'Size': 18781, 'StorageClass': 'STANDARD'}]\n",
      "[{'Key': 'ABTv3_update/top_payers_abt_v3update/ELEKTRA (MEXICO)_MEXICO/predicciones_test_2d_ELEKTRA (MEXICO)_MEXICO.xlsx', 'LastModified': datetime.datetime(2024, 3, 26, 14, 32, 4, tzinfo=tzlocal()), 'ETag': '\"38d4875f0cd8880be068ebe102ee657e\"', 'Size': 19054, 'StorageClass': 'STANDARD'}]\n",
      "[{'Key': 'ABTv3_update/top_payers_abt_v3update/ENVIOS CON CLABE (APPRIZA)_MEXICO/predicciones_test_2d_ENVIOS CON CLABE (APPRIZA)_MEXICO.xlsx', 'LastModified': datetime.datetime(2024, 3, 25, 14, 39, 53, tzinfo=tzlocal()), 'ETag': '\"f389e8037e053b6c2cf281506563e6f7\"', 'Size': 18860, 'StorageClass': 'STANDARD'}]\n",
      "[{'Key': 'ABTv3_update/top_payers_abt_v3update/G Y T CONTINENTAL_GUATEMALA/predicciones_test_2d_G Y T CONTINENTAL_GUATEMALA.xlsx', 'LastModified': datetime.datetime(2024, 3, 25, 17, 18, 59, tzinfo=tzlocal()), 'ETag': '\"26c172150f6dae6150f7a23500cfc294\"', 'Size': 18858, 'StorageClass': 'STANDARD'}]\n",
      "[{'Key': 'ABTv3_update/top_payers_abt_v3update/TELECOMM TELEGRAFOS (APPRIZA)_MEXICO/predicciones_test_2d_TELECOMM TELEGRAFOS (APPRIZA)_MEXICO.xlsx', 'LastModified': datetime.datetime(2024, 3, 25, 15, 0, 7, tzinfo=tzlocal()), 'ETag': '\"9632c217364889b74f3e59739a67b20d\"', 'Size': 18844, 'StorageClass': 'STANDARD'}]\n"
     ]
    }
   ],
   "source": [
    "# Llamo funcion para leer xlsx y consolidar en un unico DF\n",
    "df_top15 = read_files(bucket_name, prefix_ABTv3_update)"
   ]
  },
  {
   "cell_type": "code",
   "execution_count": 41,
   "id": "d79460fb-d55b-4545-a34b-4b258d2ea573",
   "metadata": {
    "tags": []
   },
   "outputs": [
    {
     "data": {
      "text/plain": [
       "(131, 15)"
      ]
     },
     "execution_count": 41,
     "metadata": {},
     "output_type": "execute_result"
    }
   ],
   "source": [
    "df.folder_name.nunique(),df_top15.folder_name.nunique()"
   ]
  },
  {
   "cell_type": "code",
   "execution_count": 42,
   "id": "2a6b249e-3b9e-4ebb-92b4-e137b477fdd3",
   "metadata": {
    "tags": []
   },
   "outputs": [
    {
     "data": {
      "text/plain": [
       "(Timestamp('2023-12-18 00:00:00'), Timestamp('2024-02-03 00:00:00'))"
      ]
     },
     "execution_count": 42,
     "metadata": {},
     "output_type": "execute_result"
    }
   ],
   "source": [
    "df.date.max(),df_top15.date.max()"
   ]
  },
  {
   "cell_type": "code",
   "execution_count": 44,
   "id": "708e3e68-6751-479b-bd18-2c96fdce5a23",
   "metadata": {
    "tags": []
   },
   "outputs": [],
   "source": [
    "df_top15=df_top15.loc[df_top15.date<'2023-12-19']"
   ]
  },
  {
   "cell_type": "code",
   "execution_count": 45,
   "id": "3a1075a9-0151-4747-9fe1-267527335306",
   "metadata": {
    "tags": []
   },
   "outputs": [
    {
     "data": {
      "text/html": [
       "<div>\n",
       "<style scoped>\n",
       "    .dataframe tbody tr th:only-of-type {\n",
       "        vertical-align: middle;\n",
       "    }\n",
       "\n",
       "    .dataframe tbody tr th {\n",
       "        vertical-align: top;\n",
       "    }\n",
       "\n",
       "    .dataframe thead th {\n",
       "        text-align: right;\n",
       "    }\n",
       "</style>\n",
       "<table border=\"1\" class=\"dataframe\">\n",
       "  <thead>\n",
       "    <tr style=\"text-align: right;\">\n",
       "      <th></th>\n",
       "      <th>date</th>\n",
       "      <th>valor_real</th>\n",
       "      <th>valor_predicho</th>\n",
       "      <th>mape</th>\n",
       "      <th>error_abs</th>\n",
       "      <th>folder_name</th>\n",
       "    </tr>\n",
       "  </thead>\n",
       "  <tbody>\n",
       "    <tr>\n",
       "      <th>0</th>\n",
       "      <td>2023-06-22</td>\n",
       "      <td>40879.68</td>\n",
       "      <td>36417.104002</td>\n",
       "      <td>10.916367</td>\n",
       "      <td>4462.575998</td>\n",
       "      <td>24XORO_MEXICO</td>\n",
       "    </tr>\n",
       "    <tr>\n",
       "      <th>1</th>\n",
       "      <td>2023-06-23</td>\n",
       "      <td>45534.13</td>\n",
       "      <td>12590.106958</td>\n",
       "      <td>72.350176</td>\n",
       "      <td>32944.023042</td>\n",
       "      <td>24XORO_MEXICO</td>\n",
       "    </tr>\n",
       "    <tr>\n",
       "      <th>2</th>\n",
       "      <td>2023-06-24</td>\n",
       "      <td>36969.46</td>\n",
       "      <td>58877.600103</td>\n",
       "      <td>59.260103</td>\n",
       "      <td>21908.140103</td>\n",
       "      <td>24XORO_MEXICO</td>\n",
       "    </tr>\n",
       "  </tbody>\n",
       "</table>\n",
       "</div>"
      ],
      "text/plain": [
       "        date  valor_real  valor_predicho       mape     error_abs  \\\n",
       "0 2023-06-22    40879.68    36417.104002  10.916367   4462.575998   \n",
       "1 2023-06-23    45534.13    12590.106958  72.350176  32944.023042   \n",
       "2 2023-06-24    36969.46    58877.600103  59.260103  21908.140103   \n",
       "\n",
       "     folder_name  \n",
       "0  24XORO_MEXICO  \n",
       "1  24XORO_MEXICO  \n",
       "2  24XORO_MEXICO  "
      ]
     },
     "execution_count": 45,
     "metadata": {},
     "output_type": "execute_result"
    }
   ],
   "source": [
    "df.head(3)"
   ]
  },
  {
   "cell_type": "code",
   "execution_count": 46,
   "id": "30e0952d-cbbf-4b33-bfee-ef8b557fdf44",
   "metadata": {
    "tags": []
   },
   "outputs": [
    {
     "data": {
      "text/html": [
       "<div>\n",
       "<style scoped>\n",
       "    .dataframe tbody tr th:only-of-type {\n",
       "        vertical-align: middle;\n",
       "    }\n",
       "\n",
       "    .dataframe tbody tr th {\n",
       "        vertical-align: top;\n",
       "    }\n",
       "\n",
       "    .dataframe thead th {\n",
       "        text-align: right;\n",
       "    }\n",
       "</style>\n",
       "<table border=\"1\" class=\"dataframe\">\n",
       "  <thead>\n",
       "    <tr style=\"text-align: right;\">\n",
       "      <th></th>\n",
       "      <th>date</th>\n",
       "      <th>valor_real</th>\n",
       "      <th>valor_predicho</th>\n",
       "      <th>mape</th>\n",
       "      <th>error_abs</th>\n",
       "      <th>folder_name</th>\n",
       "    </tr>\n",
       "  </thead>\n",
       "  <tbody>\n",
       "    <tr>\n",
       "      <th>0</th>\n",
       "      <td>2023-06-22</td>\n",
       "      <td>333877.5</td>\n",
       "      <td>383497.896918</td>\n",
       "      <td>14.861857</td>\n",
       "      <td>49620.396918</td>\n",
       "      <td>BANCO AGRICOLA_EL SALVADOR</td>\n",
       "    </tr>\n",
       "    <tr>\n",
       "      <th>1</th>\n",
       "      <td>2023-06-23</td>\n",
       "      <td>472255.0</td>\n",
       "      <td>526814.668818</td>\n",
       "      <td>11.553010</td>\n",
       "      <td>54559.668818</td>\n",
       "      <td>BANCO AGRICOLA_EL SALVADOR</td>\n",
       "    </tr>\n",
       "    <tr>\n",
       "      <th>2</th>\n",
       "      <td>2023-06-24</td>\n",
       "      <td>471284.0</td>\n",
       "      <td>489445.019909</td>\n",
       "      <td>3.853519</td>\n",
       "      <td>18161.019909</td>\n",
       "      <td>BANCO AGRICOLA_EL SALVADOR</td>\n",
       "    </tr>\n",
       "    <tr>\n",
       "      <th>3</th>\n",
       "      <td>2023-06-25</td>\n",
       "      <td>387389.0</td>\n",
       "      <td>409110.539878</td>\n",
       "      <td>5.607165</td>\n",
       "      <td>21721.539878</td>\n",
       "      <td>BANCO AGRICOLA_EL SALVADOR</td>\n",
       "    </tr>\n",
       "    <tr>\n",
       "      <th>4</th>\n",
       "      <td>2023-06-26</td>\n",
       "      <td>398244.0</td>\n",
       "      <td>409621.536758</td>\n",
       "      <td>2.856926</td>\n",
       "      <td>11377.536758</td>\n",
       "      <td>BANCO AGRICOLA_EL SALVADOR</td>\n",
       "    </tr>\n",
       "  </tbody>\n",
       "</table>\n",
       "</div>"
      ],
      "text/plain": [
       "        date  valor_real  valor_predicho       mape     error_abs  \\\n",
       "0 2023-06-22    333877.5   383497.896918  14.861857  49620.396918   \n",
       "1 2023-06-23    472255.0   526814.668818  11.553010  54559.668818   \n",
       "2 2023-06-24    471284.0   489445.019909   3.853519  18161.019909   \n",
       "3 2023-06-25    387389.0   409110.539878   5.607165  21721.539878   \n",
       "4 2023-06-26    398244.0   409621.536758   2.856926  11377.536758   \n",
       "\n",
       "                  folder_name  \n",
       "0  BANCO AGRICOLA_EL SALVADOR  \n",
       "1  BANCO AGRICOLA_EL SALVADOR  \n",
       "2  BANCO AGRICOLA_EL SALVADOR  \n",
       "3  BANCO AGRICOLA_EL SALVADOR  \n",
       "4  BANCO AGRICOLA_EL SALVADOR  "
      ]
     },
     "execution_count": 46,
     "metadata": {},
     "output_type": "execute_result"
    }
   ],
   "source": [
    "df_top15.head()"
   ]
  },
  {
   "cell_type": "code",
   "execution_count": 217,
   "id": "b47a51bd-4bc9-4859-996e-e3bedc551852",
   "metadata": {},
   "outputs": [],
   "source": [
    "###Ahora debo eliminar los top 15 de df y agregarlos de de_top15###"
   ]
  },
  {
   "cell_type": "code",
   "execution_count": 47,
   "id": "355623d8-5ada-4fa7-8903-40b92db06832",
   "metadata": {
    "tags": []
   },
   "outputs": [],
   "source": [
    "lista_top15 = ['ELEKTRA (MEXICO)_MEXICO', 'BANCOPPEL (APPRIZA)_MEXICO', 'BANRURAL (RYT)_GUATEMALA', 'BANCO INDUSTRIAL_GUATEMALA', 'BBVA - BANCOMER (BTS)_MEXICO', 'ENVIOS CON CLABE (APPRIZA)_MEXICO','BANORTE (UT)_MEXICO','BANCO DE OCCIDENTE_HONDURAS','TELECOMM TELEGRAFOS (APPRIZA)_MEXICO','BANCO DE ORO (BDO)_PHILIPPINES','BANCO ATLANTIDA_HONDURAS','G Y T CONTINENTAL_GUATEMALA','BANCO RENDIMENTO_BRAZIL','CARIBE EXPRESS_DOMINICAN REPUBLIC','BANCO AGRICOLA_EL SALVADOR',]"
   ]
  },
  {
   "cell_type": "code",
   "execution_count": 219,
   "id": "5a710dd8-c1ac-44a6-9f90-543864517ade",
   "metadata": {},
   "outputs": [],
   "source": [
    "###REEMPLAZAR EL 270 DE BANCO DE ORO PHILLIPINAS!!! PORQUE UN MAPE 10 X AISLADO NO SE CUENTA##"
   ]
  },
  {
   "cell_type": "code",
   "execution_count": 48,
   "id": "16efbde3-52dd-4d68-91a3-787223eed5af",
   "metadata": {
    "tags": []
   },
   "outputs": [],
   "source": [
    "df = df[~df['folder_name'].isin(lista_top15)]"
   ]
  },
  {
   "cell_type": "code",
   "execution_count": 49,
   "id": "e5d30bdf-40ad-4b31-8cd7-22c8b9d559c5",
   "metadata": {
    "tags": []
   },
   "outputs": [
    {
     "data": {
      "text/plain": [
       "Timestamp('2023-12-18 00:00:00')"
      ]
     },
     "execution_count": 49,
     "metadata": {},
     "output_type": "execute_result"
    }
   ],
   "source": [
    "##Cortamos la base al 18/12/23##\n",
    "df=df.loc[df.date<='2023-12-18']\n",
    "df.date.max()"
   ]
  },
  {
   "cell_type": "code",
   "execution_count": 50,
   "id": "0f5dcc24-42eb-419b-a0c4-c40a5c875dbc",
   "metadata": {
    "tags": []
   },
   "outputs": [],
   "source": [
    "df_final = pd.concat([df, df_top15])"
   ]
  },
  {
   "cell_type": "code",
   "execution_count": 51,
   "id": "26905f80-3717-4865-a2b1-96abb3aa79c9",
   "metadata": {
    "tags": []
   },
   "outputs": [
    {
     "data": {
      "text/plain": [
       "array(['24XORO_MEXICO', 'ABANK (TN)_EL SALVADOR', 'AFEX_CHILE',\n",
       "       'AFRO INTERNACIONAL_GUINEA', 'AFRO INTERNACIONAL_SIERRA LEONE',\n",
       "       'AIRPAK_MEXICO', 'ARGENPER_ARGENTINA', 'ARGENPER_BOLIVIA',\n",
       "       'ARGENPER_CHILE', 'ARGENPER_PERU',\n",
       "       'BAM - BANCO AGROMERCANTIL (UT)_GUATEMALA',\n",
       "       'BANCO BHD LEON_DOMINICAN REPUBLIC', 'BANCO BISA_BOLIVIA',\n",
       "       'BANCO DAVIVIENDA SALVADORENO (BTS)_EL SALVADOR',\n",
       "       'BANCO DAYCOVAL_BRAZIL',\n",
       "       'BANCO DE CREDITO DEL PERU - BCP (UT)_PERU',\n",
       "       'BANCO DE GUAYAQUIL_ECUADOR', 'BANCO DEL AUSTRO_ECUADOR',\n",
       "       'BANCO GANADERO (BOLIVIA)_BOLIVIA',\n",
       "       'BANCO INDUSTRIAL ELS (RED CHAPINA)_EL SALVADOR',\n",
       "       'BANCO PICHINCHA (TN)_ECUADOR',\n",
       "       'BANCO POPULAR HONDURAS (UT)_HONDURAS', 'BANCOLOMBIA_COLOMBIA',\n",
       "       'BANHCAFE_HONDURAS',\n",
       "       'BANK OF PHILIPPINE ISLANDS (BPI)_PHILIPPINES',\n",
       "       'BANPAIS (RED CHAPINA)_HONDURAS', 'BANPRO_NICARAGUA',\n",
       "       'BANRURAL (HONDURAS)_HONDURAS', 'BANTRAB (UT)_GUATEMALA',\n",
       "       'BNB_LIBERIA', 'BNB_SENEGAL', 'BNB_SIERRA LEONE',\n",
       "       'CAJA POPULAR MEXICANA (UT)_MEXICO',\n",
       "       'CEBUANA LHUILLIER_PHILIPPINES', 'COOPERATIVA CACIL (UT)_HONDURAS',\n",
       "       'COOPERATIVA FRONTERIZA (UT)_HONDURAS',\n",
       "       'CREDOMATIC (BTS)_NICARAGUA', 'CREDOMATIC_EL SALVADOR',\n",
       "       'CUSCA (CITI - RECIBA NETWORKS)_EL SALVADOR',\n",
       "       'DAVIVIENDA - HONDURAS (BTS)_HONDURAS', 'DAVIVIENDA_COLOMBIA',\n",
       "       'DEPOSITOS BANCARIOS GUATEMALA - ACH_GUATEMALA',\n",
       "       'EASY PAGOS_ECUADOR', 'ECUAGIROS_ECUADOR',\n",
       "       'ELEKTRA (BTS)_GUATEMALA', 'ELEKTRA (BTS)_HONDURAS',\n",
       "       'EMPENOS DEL SUR (ANTERIOR BALSAS)_MEXICO',\n",
       "       'ENVICON (ANTERIORMENTE ENVIOS CONFIANZA)_MEXICO',\n",
       "       'FARMACIAS DEL AHORRO (DATRANSFER)_MEXICO',\n",
       "       'FARMACIAS GUADALAJARA (UT)_MEXICO',\n",
       "       'FEDECACES (EL SALVADOR)_EL SALVADOR',\n",
       "       'FEDECREDITO (RYT)_EL SALVADOR', 'FICOHSA_HONDURAS',\n",
       "       'GIROSMEX_MEXICO', 'GLOBAL ENVIOS_ECUADOR', 'GME_NEPAL',\n",
       "       'GRUPO EXITO (TN)_COLOMBIA', 'INTERBANK_PERU', 'INTERMEX_MEXICO',\n",
       "       'JMMB_JAMAICA', 'KORI_BENIN', 'KORI_BURKINA FASO',\n",
       "       'LAFISE_NICARAGUA', 'MASTERCARD ATM NETWORK_UNITED STATES',\n",
       "       'MERCHANTRADE_BANGLADESH', 'MERCHANTRADE_INDONESIA',\n",
       "       'MERCHANTRADE_MALAYSIA', 'MERCHANTRADE_NEPAL',\n",
       "       'MERCHANTRADE_THAILAND', 'METROBANK_PHILIPPINES',\n",
       "       'MICOOPE-FENACOAC (RED CHAPINA)_GUATEMALA', 'MSBB MONEY_BRAZIL',\n",
       "       'MUTHOOT-BANGLADESH_BANGLADESH', 'MUTHOOT_INDIA',\n",
       "       'NAFA_BURKINA FASO', \"NAFA_COTE D'IVOIRE (IVORY COAST)\",\n",
       "       'NAFA_GAMBIA, THE', 'NAFA_GUINEA', 'NAFA_LIBERIA', 'NAFA_MALI',\n",
       "       'NAFA_SENEGAL', 'NAFA_TOGO', 'NAIRAGRAM_NIGERIA',\n",
       "       'OXXO (TN)_MEXICO', 'PROMERICA (GUA)_GUATEMALA',\n",
       "       'PROMERICA_EL SALVADOR', 'SORIANA_MEXICO',\n",
       "       'SPEED MONEY_PHILIPPINES', 'TELEDOLAR (TN)_COSTA RICA',\n",
       "       'TELEDOLAR-NIC (TN)_NICARAGUA', 'TRANSFER DIRECTO_MEXICO',\n",
       "       'TRANSFERTO - THUNES_BELGIUM', 'TRANSFERTO - THUNES_FRANCE',\n",
       "       'TRANSFERTO - THUNES_GERMANY', 'TRANSFERTO - THUNES_GHANA',\n",
       "       'TRANSFERTO - THUNES_ITALY', 'TRANSFERTO - THUNES_NIGERIA',\n",
       "       'TRANSFERTO - THUNES_PORTUGAL', 'TRANSFERTO - THUNES_SPAIN',\n",
       "       'TRANSFERTO - THUNES_UNITED KINGDOM', 'TRANSPAY_BANGLADESH',\n",
       "       'TRANSPAY_BENIN', 'TRANSPAY_CAMEROON', 'TRANSPAY_INDONESIA',\n",
       "       'TRANSPAY_SENEGAL', 'TRANSPAY_TOGO', 'UNITRANSFER_HAITI',\n",
       "       'VIAMERICAS USA DEPOSITS (RT)_UNITED STATES',\n",
       "       'VIAMERICAS USA DEPOSITS_UNITED STATES', 'VTN_NIGERIA',\n",
       "       'WALDOS (APPRIZA)_MEXICO', 'WALMART (UT)_MEXICO', 'YES BANK_INDIA',\n",
       "       'ZEEPAY_CAMEROON', \"ZEEPAY_COTE D'IVOIRE (IVORY COAST)\",\n",
       "       'ZEEPAY_GHANA', 'BANCO AGRICOLA_EL SALVADOR',\n",
       "       'BANCO ATLANTIDA_HONDURAS', 'BANCO DE OCCIDENTE_HONDURAS',\n",
       "       'BANCO DE ORO (BDO)_PHILIPPINES', 'BANCO INDUSTRIAL_GUATEMALA',\n",
       "       'BANCO RENDIMENTO_BRAZIL', 'BANCOPPEL (APPRIZA)_MEXICO',\n",
       "       'BANORTE (UT)_MEXICO', 'BANRURAL (RYT)_GUATEMALA',\n",
       "       'BBVA - BANCOMER (BTS)_MEXICO',\n",
       "       'CARIBE EXPRESS_DOMINICAN REPUBLIC', 'ELEKTRA (MEXICO)_MEXICO',\n",
       "       'ENVIOS CON CLABE (APPRIZA)_MEXICO', 'G Y T CONTINENTAL_GUATEMALA',\n",
       "       'TELECOMM TELEGRAFOS (APPRIZA)_MEXICO'], dtype=object)"
      ]
     },
     "execution_count": 51,
     "metadata": {},
     "output_type": "execute_result"
    }
   ],
   "source": [
    "df_final.folder_name.unique()"
   ]
  },
  {
   "cell_type": "code",
   "execution_count": null,
   "id": "95714ae1-64c0-4d9c-9baa-6f08730547a7",
   "metadata": {},
   "outputs": [],
   "source": []
  },
  {
   "cell_type": "code",
   "execution_count": 224,
   "id": "10cf7b59-9d70-45af-970a-9ebf69f0f4e3",
   "metadata": {},
   "outputs": [],
   "source": [
    "#NECESITAMOS CALCULAR EL MAPE PROMEDIO DIARIO A DOS DIAS Y EL ERROR ABSOLUTO DIARIO A 2D##\n",
    "## POR PAYER Y POR COUNTRY##"
   ]
  },
  {
   "cell_type": "code",
   "execution_count": 225,
   "id": "47317c39-f97b-497b-9efb-da4c24bc7e52",
   "metadata": {},
   "outputs": [],
   "source": [
    "## SE CORRIGEN LOS VALORES PREDICHOS NEGATIVOS##"
   ]
  },
  {
   "cell_type": "code",
   "execution_count": 52,
   "id": "fc517edd-8ece-42e0-83f6-4016a0da396a",
   "metadata": {
    "tags": []
   },
   "outputs": [],
   "source": [
    "valor_a_reemplazar = 0\n",
    "df_final['valor_predicho'] = df_final['valor_predicho'].apply(lambda x: valor_a_reemplazar if x < 0 else x)"
   ]
  },
  {
   "cell_type": "code",
   "execution_count": 227,
   "id": "c148b305-4ab8-4157-af09-1c153056a109",
   "metadata": {},
   "outputs": [],
   "source": [
    "## En el caso particular de BANCO DE ORO (BDO)_PHILIPPINES reemplazamos un valor atípico del mape  por un missing (ver reglas de monitoreo )"
   ]
  },
  {
   "cell_type": "code",
   "execution_count": 54,
   "id": "d0c284b7-c0bd-4c6b-8bf4-23ce3005a562",
   "metadata": {
    "tags": []
   },
   "outputs": [],
   "source": [
    "import numpy as np\n",
    "df_final.loc[(df_final['folder_name'] == 'BANCO DE ORO (BDO)_PHILIPPINES') & (df_final.date == '2023-11-23'), 'mape'] = np.nan"
   ]
  },
  {
   "cell_type": "code",
   "execution_count": 55,
   "id": "2bb0f806-14cd-4b5f-9bba-85629102f089",
   "metadata": {
    "tags": []
   },
   "outputs": [
    {
     "name": "stdout",
     "output_type": "stream",
     "text": [
      "           date  valor_real  valor_predicho       mape     error_abs  \\\n",
      "0    2023-06-22    40879.68    36417.104002  10.916367   4462.575998   \n",
      "1    2023-06-23    45534.13    12590.106958  72.350176  32944.023042   \n",
      "2    2023-06-24    36969.46    58877.600103  59.260103  21908.140103   \n",
      "3    2023-06-25    59696.11    88875.091459  48.879201  29178.981459   \n",
      "4    2023-06-26    36271.54    30573.658875  15.708958   5697.881125   \n",
      "...         ...         ...             ...        ...           ...   \n",
      "3353 2023-12-14   386537.59   414729.925812   7.293556  28192.335812   \n",
      "3354 2023-12-15   471159.09   504978.251295   7.177865  33819.161295   \n",
      "3355 2023-12-16   567509.19   503674.217368  11.248271  63834.972632   \n",
      "3356 2023-12-17   659810.98   675197.454020   2.331952  15386.474020   \n",
      "3357 2023-12-18   618819.35   613867.148811   0.800266   4952.201189   \n",
      "\n",
      "                               folder_name  percentage_zeros  \n",
      "0                            24XORO_MEXICO               NaN  \n",
      "1                            24XORO_MEXICO               NaN  \n",
      "2                            24XORO_MEXICO               NaN  \n",
      "3                            24XORO_MEXICO               NaN  \n",
      "4                            24XORO_MEXICO               NaN  \n",
      "...                                    ...               ...  \n",
      "3353  TELECOMM TELEGRAFOS (APPRIZA)_MEXICO               NaN  \n",
      "3354  TELECOMM TELEGRAFOS (APPRIZA)_MEXICO               NaN  \n",
      "3355  TELECOMM TELEGRAFOS (APPRIZA)_MEXICO               NaN  \n",
      "3356  TELECOMM TELEGRAFOS (APPRIZA)_MEXICO               NaN  \n",
      "3357  TELECOMM TELEGRAFOS (APPRIZA)_MEXICO               NaN  \n",
      "\n",
      "[22280 rows x 7 columns]\n"
     ]
    }
   ],
   "source": [
    "# Contar los días donde valor_real es igual a cero y agrupar por folder_name\n",
    "count_zeros = df_final[df_final['valor_real'] == 0].groupby('folder_name').size()\n",
    "\n",
    "# Calcular el total de días por folder_name\n",
    "total_days = df_final.groupby('folder_name').size()\n",
    "\n",
    "# Calcular el porcentaje\n",
    "percentage_zeros = (count_zeros / total_days) * 100\n",
    "\n",
    "# Agregar la columna de porcentaje al DataFrame original\n",
    "df_final['percentage_zeros'] = df_final['folder_name'].map(percentage_zeros)\n",
    "\n",
    "# Mostrar el DataFrame con la columna añadida\n",
    "print(df_final)"
   ]
  },
  {
   "cell_type": "code",
   "execution_count": 230,
   "id": "8c9848df-82df-4120-a32a-bb9c986d64d4",
   "metadata": {
    "tags": []
   },
   "outputs": [],
   "source": [
    "#df.to_excel('predicciones_all_payers_2d.xlsx')"
   ]
  },
  {
   "cell_type": "code",
   "execution_count": 56,
   "id": "4b778b61-e43a-4687-a500-772bd44d2f89",
   "metadata": {
    "tags": []
   },
   "outputs": [],
   "source": [
    "import numpy as np\n",
    "def mean_without_inf(x):\n",
    "    x_filtered = x.replace([np.inf, -np.inf], np.nan).dropna()\n",
    "    return np.mean(x_filtered)\n",
    "\n",
    "# Aplicar la función personalizada en el método agg\n",
    "df_ABTv3 = df_final.groupby('folder_name').agg({'mape': mean_without_inf, 'error_abs': 'mean', 'valor_real': 'sum', 'percentage_zeros': 'mean'}).reset_index()\n"
   ]
  },
  {
   "cell_type": "code",
   "execution_count": 57,
   "id": "bb0fb1a3-85f5-4aeb-8a72-cb55c577704f",
   "metadata": {
    "tags": []
   },
   "outputs": [],
   "source": [
    "df_ABTv3.rename(columns={'folder_name': 'payer_country', 'mape': 'mape_v3', 'error_abs': 'error_abs_mean', 'valor_real': 'sum_amount'}, inplace=True)"
   ]
  },
  {
   "cell_type": "code",
   "execution_count": 58,
   "id": "793b6522-f123-42ef-8922-567561d76052",
   "metadata": {
    "tags": []
   },
   "outputs": [],
   "source": [
    "df_ABTv3=df_ABTv3.sort_values(by='mape_v3')"
   ]
  },
  {
   "cell_type": "code",
   "execution_count": 59,
   "id": "f7419739-00fc-4718-b7bc-823536fb7f11",
   "metadata": {
    "tags": []
   },
   "outputs": [],
   "source": [
    "df_ABTv3.percentage_zeros.fillna(0, inplace=True)"
   ]
  },
  {
   "cell_type": "code",
   "execution_count": 84,
   "id": "b887ef60-c7b3-4706-8f07-0d4182f65275",
   "metadata": {
    "tags": []
   },
   "outputs": [
    {
     "data": {
      "text/plain": [
       "6301943167.5051"
      ]
     },
     "execution_count": 84,
     "metadata": {},
     "output_type": "execute_result"
    }
   ],
   "source": [
    "df_ABTv3.sum_amount.sum()"
   ]
  },
  {
   "cell_type": "code",
   "execution_count": 235,
   "id": "7009ccbc-8cbb-46e0-be69-e5f7753ee03a",
   "metadata": {},
   "outputs": [],
   "source": [
    "df_ABTv3.to_excel('mapes_prom_diarios_f_2d_18_03_24.xlsx')"
   ]
  },
  {
   "cell_type": "code",
   "execution_count": 60,
   "id": "a4bade6d-d31f-40fc-b23a-eba465f70aa3",
   "metadata": {
    "tags": []
   },
   "outputs": [
    {
     "data": {
      "text/html": [
       "<div>\n",
       "<style scoped>\n",
       "    .dataframe tbody tr th:only-of-type {\n",
       "        vertical-align: middle;\n",
       "    }\n",
       "\n",
       "    .dataframe tbody tr th {\n",
       "        vertical-align: top;\n",
       "    }\n",
       "\n",
       "    .dataframe thead th {\n",
       "        text-align: right;\n",
       "    }\n",
       "</style>\n",
       "<table border=\"1\" class=\"dataframe\">\n",
       "  <thead>\n",
       "    <tr style=\"text-align: right;\">\n",
       "      <th></th>\n",
       "      <th>payer_country</th>\n",
       "      <th>mape_v3</th>\n",
       "      <th>error_abs_mean</th>\n",
       "      <th>sum_amount</th>\n",
       "      <th>percentage_zeros</th>\n",
       "    </tr>\n",
       "  </thead>\n",
       "  <tbody>\n",
       "    <tr>\n",
       "      <th>64</th>\n",
       "      <td>FEDECREDITO (RYT)_EL SALVADOR</td>\n",
       "      <td>6.942134</td>\n",
       "      <td>26722.024139</td>\n",
       "      <td>6.815282e+07</td>\n",
       "      <td>0.0</td>\n",
       "    </tr>\n",
       "    <tr>\n",
       "      <th>57</th>\n",
       "      <td>ELEKTRA (MEXICO)_MEXICO</td>\n",
       "      <td>6.994206</td>\n",
       "      <td>574842.513761</td>\n",
       "      <td>1.579005e+09</td>\n",
       "      <td>0.0</td>\n",
       "    </tr>\n",
       "    <tr>\n",
       "      <th>11</th>\n",
       "      <td>BANCO AGRICOLA_EL SALVADOR</td>\n",
       "      <td>7.094948</td>\n",
       "      <td>29734.041581</td>\n",
       "      <td>7.847787e+07</td>\n",
       "      <td>0.0</td>\n",
       "    </tr>\n",
       "    <tr>\n",
       "      <th>97</th>\n",
       "      <td>OXXO (TN)_MEXICO</td>\n",
       "      <td>7.417966</td>\n",
       "      <td>2921.414749</td>\n",
       "      <td>7.565181e+06</td>\n",
       "      <td>0.0</td>\n",
       "    </tr>\n",
       "    <tr>\n",
       "      <th>19</th>\n",
       "      <td>BANCO DE OCCIDENTE_HONDURAS</td>\n",
       "      <td>7.828954</td>\n",
       "      <td>48766.676972</td>\n",
       "      <td>1.131333e+08</td>\n",
       "      <td>0.0</td>\n",
       "    </tr>\n",
       "  </tbody>\n",
       "</table>\n",
       "</div>"
      ],
      "text/plain": [
       "                    payer_country   mape_v3  error_abs_mean    sum_amount  \\\n",
       "64  FEDECREDITO (RYT)_EL SALVADOR  6.942134    26722.024139  6.815282e+07   \n",
       "57        ELEKTRA (MEXICO)_MEXICO  6.994206   574842.513761  1.579005e+09   \n",
       "11     BANCO AGRICOLA_EL SALVADOR  7.094948    29734.041581  7.847787e+07   \n",
       "97               OXXO (TN)_MEXICO  7.417966     2921.414749  7.565181e+06   \n",
       "19    BANCO DE OCCIDENTE_HONDURAS  7.828954    48766.676972  1.131333e+08   \n",
       "\n",
       "    percentage_zeros  \n",
       "64               0.0  \n",
       "57               0.0  \n",
       "11               0.0  \n",
       "97               0.0  \n",
       "19               0.0  "
      ]
     },
     "execution_count": 60,
     "metadata": {},
     "output_type": "execute_result"
    }
   ],
   "source": [
    "df_ABTv3.head()"
   ]
  },
  {
   "cell_type": "code",
   "execution_count": 237,
   "id": "153b7337-0bb8-425a-a844-097a40f72713",
   "metadata": {},
   "outputs": [],
   "source": [
    "##AHORA NECESITO HACER LO MISMO PERO CALCULANDO EL ERROR A UNA SEMANA (SIENDO SEMANA LA UNIDAD DE MEDIDA)\n",
    "##CUIDADO QUE SON LOS EXCEL DE MODELO CON PREDICT A 2 D DE MANERA RECURSIVA PERO ACÁ LOS AGRUPA SEMANALMENTE\n",
    "## TOMAR EL MODELO FINAL DE 7D\n",
    "## NO RELEVANTE ESTE CALCULO EN EL MODELO A 2 D"
   ]
  },
  {
   "cell_type": "code",
   "execution_count": 86,
   "id": "1d7a4659-1a54-4374-bd88-24a731538d7d",
   "metadata": {
    "tags": []
   },
   "outputs": [
    {
     "data": {
      "text/plain": [
       "6301943167.5051"
      ]
     },
     "execution_count": 86,
     "metadata": {},
     "output_type": "execute_result"
    }
   ],
   "source": [
    "df_final.valor_real.sum()"
   ]
  },
  {
   "cell_type": "code",
   "execution_count": 62,
   "id": "fd4ed244-0f74-4ee7-86d2-365f67a7d2c0",
   "metadata": {
    "tags": []
   },
   "outputs": [],
   "source": [
    "df.index = df.date"
   ]
  },
  {
   "cell_type": "code",
   "execution_count": 63,
   "id": "ea39ad06-9279-4945-9456-d7038eaa8114",
   "metadata": {
    "tags": []
   },
   "outputs": [],
   "source": [
    "#df.index = pd.to_datetime(df.index)\n",
    "df['semana_del_año'] = df.index.to_series().dt.isocalendar().week\n"
   ]
  },
  {
   "cell_type": "code",
   "execution_count": 64,
   "id": "b037b680-b3a2-49a3-958a-fd40e46dae8d",
   "metadata": {
    "tags": []
   },
   "outputs": [
    {
     "data": {
      "text/html": [
       "<div>\n",
       "<style scoped>\n",
       "    .dataframe tbody tr th:only-of-type {\n",
       "        vertical-align: middle;\n",
       "    }\n",
       "\n",
       "    .dataframe tbody tr th {\n",
       "        vertical-align: top;\n",
       "    }\n",
       "\n",
       "    .dataframe thead th {\n",
       "        text-align: right;\n",
       "    }\n",
       "</style>\n",
       "<table border=\"1\" class=\"dataframe\">\n",
       "  <thead>\n",
       "    <tr style=\"text-align: right;\">\n",
       "      <th></th>\n",
       "      <th>date</th>\n",
       "      <th>valor_real</th>\n",
       "      <th>valor_predicho</th>\n",
       "      <th>mape</th>\n",
       "      <th>error_abs</th>\n",
       "      <th>folder_name</th>\n",
       "      <th>semana_del_año</th>\n",
       "    </tr>\n",
       "    <tr>\n",
       "      <th>date</th>\n",
       "      <th></th>\n",
       "      <th></th>\n",
       "      <th></th>\n",
       "      <th></th>\n",
       "      <th></th>\n",
       "      <th></th>\n",
       "      <th></th>\n",
       "    </tr>\n",
       "  </thead>\n",
       "  <tbody>\n",
       "    <tr>\n",
       "      <th>2023-06-22</th>\n",
       "      <td>2023-06-22</td>\n",
       "      <td>40879.68</td>\n",
       "      <td>36417.104002</td>\n",
       "      <td>10.916367</td>\n",
       "      <td>4462.575998</td>\n",
       "      <td>24XORO_MEXICO</td>\n",
       "      <td>25</td>\n",
       "    </tr>\n",
       "    <tr>\n",
       "      <th>2023-06-23</th>\n",
       "      <td>2023-06-23</td>\n",
       "      <td>45534.13</td>\n",
       "      <td>12590.106958</td>\n",
       "      <td>72.350176</td>\n",
       "      <td>32944.023042</td>\n",
       "      <td>24XORO_MEXICO</td>\n",
       "      <td>25</td>\n",
       "    </tr>\n",
       "    <tr>\n",
       "      <th>2023-06-24</th>\n",
       "      <td>2023-06-24</td>\n",
       "      <td>36969.46</td>\n",
       "      <td>58877.600103</td>\n",
       "      <td>59.260103</td>\n",
       "      <td>21908.140103</td>\n",
       "      <td>24XORO_MEXICO</td>\n",
       "      <td>25</td>\n",
       "    </tr>\n",
       "    <tr>\n",
       "      <th>2023-06-25</th>\n",
       "      <td>2023-06-25</td>\n",
       "      <td>59696.11</td>\n",
       "      <td>88875.091459</td>\n",
       "      <td>48.879201</td>\n",
       "      <td>29178.981459</td>\n",
       "      <td>24XORO_MEXICO</td>\n",
       "      <td>25</td>\n",
       "    </tr>\n",
       "    <tr>\n",
       "      <th>2023-06-26</th>\n",
       "      <td>2023-06-26</td>\n",
       "      <td>36271.54</td>\n",
       "      <td>30573.658875</td>\n",
       "      <td>15.708958</td>\n",
       "      <td>5697.881125</td>\n",
       "      <td>24XORO_MEXICO</td>\n",
       "      <td>26</td>\n",
       "    </tr>\n",
       "  </tbody>\n",
       "</table>\n",
       "</div>"
      ],
      "text/plain": [
       "                 date  valor_real  valor_predicho       mape     error_abs  \\\n",
       "date                                                                         \n",
       "2023-06-22 2023-06-22    40879.68    36417.104002  10.916367   4462.575998   \n",
       "2023-06-23 2023-06-23    45534.13    12590.106958  72.350176  32944.023042   \n",
       "2023-06-24 2023-06-24    36969.46    58877.600103  59.260103  21908.140103   \n",
       "2023-06-25 2023-06-25    59696.11    88875.091459  48.879201  29178.981459   \n",
       "2023-06-26 2023-06-26    36271.54    30573.658875  15.708958   5697.881125   \n",
       "\n",
       "              folder_name  semana_del_año  \n",
       "date                                       \n",
       "2023-06-22  24XORO_MEXICO              25  \n",
       "2023-06-23  24XORO_MEXICO              25  \n",
       "2023-06-24  24XORO_MEXICO              25  \n",
       "2023-06-25  24XORO_MEXICO              25  \n",
       "2023-06-26  24XORO_MEXICO              26  "
      ]
     },
     "execution_count": 64,
     "metadata": {},
     "output_type": "execute_result"
    }
   ],
   "source": [
    "df.head()"
   ]
  },
  {
   "cell_type": "code",
   "execution_count": 65,
   "id": "24e3e58d-509d-4439-a5c7-eb5c0596e7f3",
   "metadata": {
    "tags": []
   },
   "outputs": [],
   "source": [
    "df2=df.copy()\n",
    "df2=df.loc[:,['folder_name', 'valor_real', 'valor_predicho', 'semana_del_año']]"
   ]
  },
  {
   "cell_type": "code",
   "execution_count": 66,
   "id": "bfa444cf-4cba-453b-b3be-06227cdbf08d",
   "metadata": {
    "tags": []
   },
   "outputs": [],
   "source": [
    "df_semana = df2.groupby(['semana_del_año', 'folder_name']).sum()"
   ]
  },
  {
   "cell_type": "code",
   "execution_count": 67,
   "id": "0c50b7a7-f287-4ee1-817e-0eef7a7a884f",
   "metadata": {
    "tags": []
   },
   "outputs": [],
   "source": [
    "df_semana['error_abs_7d']=abs(df_semana.valor_real - df_semana.valor_predicho)"
   ]
  },
  {
   "cell_type": "code",
   "execution_count": 68,
   "id": "d4e3ce7c-1194-4194-9a8e-e52b2be50f85",
   "metadata": {
    "tags": []
   },
   "outputs": [],
   "source": [
    "df_semana['mape_7d']=df_semana.error_abs_7d / df_semana.valor_real"
   ]
  },
  {
   "cell_type": "code",
   "execution_count": 69,
   "id": "c6660481-5f9f-4dec-992c-3a185bc51cc5",
   "metadata": {
    "tags": []
   },
   "outputs": [
    {
     "data": {
      "text/html": [
       "<div>\n",
       "<style scoped>\n",
       "    .dataframe tbody tr th:only-of-type {\n",
       "        vertical-align: middle;\n",
       "    }\n",
       "\n",
       "    .dataframe tbody tr th {\n",
       "        vertical-align: top;\n",
       "    }\n",
       "\n",
       "    .dataframe thead th {\n",
       "        text-align: right;\n",
       "    }\n",
       "</style>\n",
       "<table border=\"1\" class=\"dataframe\">\n",
       "  <thead>\n",
       "    <tr style=\"text-align: right;\">\n",
       "      <th></th>\n",
       "      <th></th>\n",
       "      <th>valor_real</th>\n",
       "      <th>valor_predicho</th>\n",
       "      <th>error_abs_7d</th>\n",
       "      <th>mape_7d</th>\n",
       "    </tr>\n",
       "    <tr>\n",
       "      <th>semana_del_año</th>\n",
       "      <th>folder_name</th>\n",
       "      <th></th>\n",
       "      <th></th>\n",
       "      <th></th>\n",
       "      <th></th>\n",
       "    </tr>\n",
       "  </thead>\n",
       "  <tbody>\n",
       "    <tr>\n",
       "      <th rowspan=\"5\" valign=\"top\">25</th>\n",
       "      <th>24XORO_MEXICO</th>\n",
       "      <td>183079.38</td>\n",
       "      <td>196759.902522</td>\n",
       "      <td>13680.522522</td>\n",
       "      <td>0.074725</td>\n",
       "    </tr>\n",
       "    <tr>\n",
       "      <th>ABANK (TN)_EL SALVADOR</th>\n",
       "      <td>71151.00</td>\n",
       "      <td>70322.767421</td>\n",
       "      <td>828.232579</td>\n",
       "      <td>0.011640</td>\n",
       "    </tr>\n",
       "    <tr>\n",
       "      <th>AFEX_CHILE</th>\n",
       "      <td>11585.46</td>\n",
       "      <td>9910.106515</td>\n",
       "      <td>1675.353485</td>\n",
       "      <td>0.144608</td>\n",
       "    </tr>\n",
       "    <tr>\n",
       "      <th>AFRO INTERNACIONAL_GUINEA</th>\n",
       "      <td>1200.00</td>\n",
       "      <td>389.918786</td>\n",
       "      <td>810.081214</td>\n",
       "      <td>0.675068</td>\n",
       "    </tr>\n",
       "    <tr>\n",
       "      <th>AFRO INTERNACIONAL_SIERRA LEONE</th>\n",
       "      <td>31254.46</td>\n",
       "      <td>53288.724939</td>\n",
       "      <td>22034.264939</td>\n",
       "      <td>0.704996</td>\n",
       "    </tr>\n",
       "  </tbody>\n",
       "</table>\n",
       "</div>"
      ],
      "text/plain": [
       "                                                valor_real  valor_predicho  \\\n",
       "semana_del_año folder_name                                                   \n",
       "25             24XORO_MEXICO                     183079.38   196759.902522   \n",
       "               ABANK (TN)_EL SALVADOR             71151.00    70322.767421   \n",
       "               AFEX_CHILE                         11585.46     9910.106515   \n",
       "               AFRO INTERNACIONAL_GUINEA           1200.00      389.918786   \n",
       "               AFRO INTERNACIONAL_SIERRA LEONE    31254.46    53288.724939   \n",
       "\n",
       "                                                error_abs_7d   mape_7d  \n",
       "semana_del_año folder_name                                              \n",
       "25             24XORO_MEXICO                    13680.522522  0.074725  \n",
       "               ABANK (TN)_EL SALVADOR             828.232579  0.011640  \n",
       "               AFEX_CHILE                        1675.353485  0.144608  \n",
       "               AFRO INTERNACIONAL_GUINEA          810.081214  0.675068  \n",
       "               AFRO INTERNACIONAL_SIERRA LEONE  22034.264939  0.704996  "
      ]
     },
     "execution_count": 69,
     "metadata": {},
     "output_type": "execute_result"
    }
   ],
   "source": [
    "df_semana.head()"
   ]
  },
  {
   "cell_type": "code",
   "execution_count": 247,
   "id": "7ed604e2-7468-4216-a986-962ea14561a0",
   "metadata": {},
   "outputs": [],
   "source": [
    "#df_semana.to_excel('forecast_semanal_14_03_2024.xlsx')"
   ]
  },
  {
   "cell_type": "code",
   "execution_count": 70,
   "id": "d6616d38-1d20-4902-bce4-4d349b784c50",
   "metadata": {},
   "outputs": [],
   "source": [
    "##Misma funcion que la aplicada al caso diario, para no contemplar en la media de mapes los casos inf##\n",
    "def mean_without_inf(x):\n",
    "    x_filtered = x.replace([np.inf, -np.inf], np.nan).dropna()\n",
    "    return np.mean(x_filtered)\n",
    "\n",
    "# Aplicar la función personalizada en el método agg\n",
    "df_ABTv3_7d = df_semana.groupby('folder_name').agg({'mape_7d': mean_without_inf , 'error_abs_7d': 'mean'}).reset_index()"
   ]
  },
  {
   "cell_type": "code",
   "execution_count": 71,
   "id": "9c925424-feb2-4058-a5b7-33d4a9de917a",
   "metadata": {
    "tags": []
   },
   "outputs": [],
   "source": [
    "df_ABTv3_7d=df_ABTv3_7d.sort_values(by='mape_7d')"
   ]
  },
  {
   "cell_type": "code",
   "execution_count": 250,
   "id": "e75948d6-ef2c-4946-8e3b-8f8348a79d72",
   "metadata": {
    "tags": []
   },
   "outputs": [],
   "source": [
    "#df_ABTv3_7d.to_excel('mapes_prom_semanal_f_7d_14_03_2024.xlsx')"
   ]
  },
  {
   "cell_type": "markdown",
   "id": "a12b5580-0bd7-4963-92a2-739c0cb61d11",
   "metadata": {
    "tags": []
   },
   "source": [
    "#### By Country"
   ]
  },
  {
   "cell_type": "code",
   "execution_count": 87,
   "id": "c6861191-b6cd-48ea-afa4-242255321d8a",
   "metadata": {
    "tags": []
   },
   "outputs": [],
   "source": [
    "df_final['country'] = df_final['folder_name'].apply(lambda x: x.split('_')[-1])\n",
    "df_final['date']=pd.to_datetime(df_final['date'])\n",
    "df_final.reset_index(drop=True, inplace=True)"
   ]
  },
  {
   "cell_type": "code",
   "execution_count": 88,
   "id": "fee3f830-e011-4bf9-8d44-fa5c3e7aca35",
   "metadata": {
    "tags": []
   },
   "outputs": [
    {
     "data": {
      "text/html": [
       "<div>\n",
       "<style scoped>\n",
       "    .dataframe tbody tr th:only-of-type {\n",
       "        vertical-align: middle;\n",
       "    }\n",
       "\n",
       "    .dataframe tbody tr th {\n",
       "        vertical-align: top;\n",
       "    }\n",
       "\n",
       "    .dataframe thead th {\n",
       "        text-align: right;\n",
       "    }\n",
       "</style>\n",
       "<table border=\"1\" class=\"dataframe\">\n",
       "  <thead>\n",
       "    <tr style=\"text-align: right;\">\n",
       "      <th></th>\n",
       "      <th>date</th>\n",
       "      <th>valor_real</th>\n",
       "      <th>valor_predicho</th>\n",
       "      <th>mape</th>\n",
       "      <th>error_abs</th>\n",
       "      <th>folder_name</th>\n",
       "      <th>percentage_zeros</th>\n",
       "      <th>country</th>\n",
       "    </tr>\n",
       "  </thead>\n",
       "  <tbody>\n",
       "    <tr>\n",
       "      <th>0</th>\n",
       "      <td>2023-06-22</td>\n",
       "      <td>40879.68</td>\n",
       "      <td>36417.104002</td>\n",
       "      <td>10.916367</td>\n",
       "      <td>4462.575998</td>\n",
       "      <td>24XORO_MEXICO</td>\n",
       "      <td>NaN</td>\n",
       "      <td>MEXICO</td>\n",
       "    </tr>\n",
       "    <tr>\n",
       "      <th>1</th>\n",
       "      <td>2023-06-23</td>\n",
       "      <td>45534.13</td>\n",
       "      <td>12590.106958</td>\n",
       "      <td>72.350176</td>\n",
       "      <td>32944.023042</td>\n",
       "      <td>24XORO_MEXICO</td>\n",
       "      <td>NaN</td>\n",
       "      <td>MEXICO</td>\n",
       "    </tr>\n",
       "    <tr>\n",
       "      <th>2</th>\n",
       "      <td>2023-06-24</td>\n",
       "      <td>36969.46</td>\n",
       "      <td>58877.600103</td>\n",
       "      <td>59.260103</td>\n",
       "      <td>21908.140103</td>\n",
       "      <td>24XORO_MEXICO</td>\n",
       "      <td>NaN</td>\n",
       "      <td>MEXICO</td>\n",
       "    </tr>\n",
       "    <tr>\n",
       "      <th>3</th>\n",
       "      <td>2023-06-25</td>\n",
       "      <td>59696.11</td>\n",
       "      <td>88875.091459</td>\n",
       "      <td>48.879201</td>\n",
       "      <td>29178.981459</td>\n",
       "      <td>24XORO_MEXICO</td>\n",
       "      <td>NaN</td>\n",
       "      <td>MEXICO</td>\n",
       "    </tr>\n",
       "    <tr>\n",
       "      <th>4</th>\n",
       "      <td>2023-06-26</td>\n",
       "      <td>36271.54</td>\n",
       "      <td>30573.658875</td>\n",
       "      <td>15.708958</td>\n",
       "      <td>5697.881125</td>\n",
       "      <td>24XORO_MEXICO</td>\n",
       "      <td>NaN</td>\n",
       "      <td>MEXICO</td>\n",
       "    </tr>\n",
       "  </tbody>\n",
       "</table>\n",
       "</div>"
      ],
      "text/plain": [
       "        date  valor_real  valor_predicho       mape     error_abs  \\\n",
       "0 2023-06-22    40879.68    36417.104002  10.916367   4462.575998   \n",
       "1 2023-06-23    45534.13    12590.106958  72.350176  32944.023042   \n",
       "2 2023-06-24    36969.46    58877.600103  59.260103  21908.140103   \n",
       "3 2023-06-25    59696.11    88875.091459  48.879201  29178.981459   \n",
       "4 2023-06-26    36271.54    30573.658875  15.708958   5697.881125   \n",
       "\n",
       "     folder_name  percentage_zeros country  \n",
       "0  24XORO_MEXICO               NaN  MEXICO  \n",
       "1  24XORO_MEXICO               NaN  MEXICO  \n",
       "2  24XORO_MEXICO               NaN  MEXICO  \n",
       "3  24XORO_MEXICO               NaN  MEXICO  \n",
       "4  24XORO_MEXICO               NaN  MEXICO  "
      ]
     },
     "execution_count": 88,
     "metadata": {},
     "output_type": "execute_result"
    }
   ],
   "source": [
    "df_final.head()"
   ]
  },
  {
   "cell_type": "code",
   "execution_count": 91,
   "id": "0dd0f65c-6349-4716-a9df-0b74221212d8",
   "metadata": {
    "tags": []
   },
   "outputs": [
    {
     "name": "stdout",
     "output_type": "stream",
     "text": [
      "            date  valor_real  valor_predicho       mape     error_abs  \\\n",
      "0     2023-06-22    40879.68    36417.104002  10.916367   4462.575998   \n",
      "1     2023-06-23    45534.13    12590.106958  72.350176  32944.023042   \n",
      "2     2023-06-24    36969.46    58877.600103  59.260103  21908.140103   \n",
      "3     2023-06-25    59696.11    88875.091459  48.879201  29178.981459   \n",
      "4     2023-06-26    36271.54    30573.658875  15.708958   5697.881125   \n",
      "...          ...         ...             ...        ...           ...   \n",
      "22275 2023-12-14   386537.59   414729.925812   7.293556  28192.335812   \n",
      "22276 2023-12-15   471159.09   504978.251295   7.177865  33819.161295   \n",
      "22277 2023-12-16   567509.19   503674.217368  11.248271  63834.972632   \n",
      "22278 2023-12-17   659810.98   675197.454020   2.331952  15386.474020   \n",
      "22279 2023-12-18   618819.35   613867.148811   0.800266   4952.201189   \n",
      "\n",
      "                                folder_name  percentage_zeros country  \\\n",
      "0                             24XORO_MEXICO               NaN  MEXICO   \n",
      "1                             24XORO_MEXICO               NaN  MEXICO   \n",
      "2                             24XORO_MEXICO               NaN  MEXICO   \n",
      "3                             24XORO_MEXICO               NaN  MEXICO   \n",
      "4                             24XORO_MEXICO               NaN  MEXICO   \n",
      "...                                     ...               ...     ...   \n",
      "22275  TELECOMM TELEGRAFOS (APPRIZA)_MEXICO               NaN  MEXICO   \n",
      "22276  TELECOMM TELEGRAFOS (APPRIZA)_MEXICO               NaN  MEXICO   \n",
      "22277  TELECOMM TELEGRAFOS (APPRIZA)_MEXICO               NaN  MEXICO   \n",
      "22278  TELECOMM TELEGRAFOS (APPRIZA)_MEXICO               NaN  MEXICO   \n",
      "22279  TELECOMM TELEGRAFOS (APPRIZA)_MEXICO               NaN  MEXICO   \n",
      "\n",
      "       percentage_zeros_country  \n",
      "0                      6.475225  \n",
      "1                      6.475225  \n",
      "2                      6.475225  \n",
      "3                      6.475225  \n",
      "4                      6.475225  \n",
      "...                         ...  \n",
      "22275                  6.475225  \n",
      "22276                  6.475225  \n",
      "22277                  6.475225  \n",
      "22278                  6.475225  \n",
      "22279                  6.475225  \n",
      "\n",
      "[22280 rows x 9 columns]\n"
     ]
    }
   ],
   "source": [
    "# Contar los días donde valor_real es igual a cero y agrupar por country\n",
    "count_zeros = df_final[df_final['valor_real'] == 0].groupby('country').size()\n",
    "\n",
    "# Calcular el total de días por country\n",
    "total_days = df_final.groupby('country').size()\n",
    "\n",
    "# Calcular el porcentaje\n",
    "percentage_zeros_country = (count_zeros / total_days) * 100\n",
    "\n",
    "# Agregar la columna de porcentaje al DataFrame original\n",
    "df_final['percentage_zeros_country'] = df_final['country'].map(percentage_zeros_country)\n",
    "\n",
    "# Mostrar el DataFrame con la columna añadida\n",
    "print(df_final)"
   ]
  },
  {
   "cell_type": "code",
   "execution_count": 92,
   "id": "886cecf0-9c61-47a6-91df-954071d9c4d6",
   "metadata": {
    "tags": []
   },
   "outputs": [],
   "source": [
    "df_country=df_final.groupby(['country','date']).agg({'valor_real': 'sum', 'valor_predicho': 'sum', 'valor_real': 'sum', 'percentage_zeros_country': 'mean'}).reset_index()"
   ]
  },
  {
   "cell_type": "code",
   "execution_count": 93,
   "id": "7c011b97-2338-46fa-ad81-b41a6476304d",
   "metadata": {
    "tags": []
   },
   "outputs": [],
   "source": [
    "###DESVIO ABSOLUTO POR DIA##\n",
    "df_country['error_abs']= abs(df_country.valor_predicho - df_country.valor_real)\n",
    "\n",
    "###MAPE DIA COUNTRY##\n",
    "df_country['mape']= df_country.error_abs/df_country.valor_real"
   ]
  },
  {
   "cell_type": "code",
   "execution_count": 94,
   "id": "8fbd2589-e7fb-4d4b-b84f-4f74210e09eb",
   "metadata": {},
   "outputs": [
    {
     "data": {
      "text/plain": [
       "6301943167.5051"
      ]
     },
     "execution_count": 94,
     "metadata": {},
     "output_type": "execute_result"
    }
   ],
   "source": [
    "df_country.valor_real.sum()"
   ]
  },
  {
   "cell_type": "code",
   "execution_count": 95,
   "id": "fd22c359-ebc1-4c05-8db8-5610d0c8bc84",
   "metadata": {
    "tags": []
   },
   "outputs": [
    {
     "data": {
      "text/plain": [
       "6301943167.5051"
      ]
     },
     "execution_count": 95,
     "metadata": {},
     "output_type": "execute_result"
    }
   ],
   "source": [
    "df_final.valor_real.sum()"
   ]
  },
  {
   "cell_type": "code",
   "execution_count": 96,
   "id": "3f206dd0-2f4a-4286-a2b3-07f7fb27d73a",
   "metadata": {},
   "outputs": [
    {
     "name": "stdout",
     "output_type": "stream",
     "text": [
      "            country       date  valor_real  valor_predicho  \\\n",
      "0         ARGENTINA 2023-06-22       30.00      181.443351   \n",
      "1         ARGENTINA 2023-06-23      200.00      371.000036   \n",
      "2         ARGENTINA 2023-06-24      280.19      510.782663   \n",
      "3         ARGENTINA 2023-06-25      150.00      389.765559   \n",
      "4         ARGENTINA 2023-06-26     1355.63      288.336900   \n",
      "...             ...        ...         ...             ...   \n",
      "7762  UNITED STATES 2023-12-14    70683.16    52436.805861   \n",
      "7763  UNITED STATES 2023-12-15   118021.63    73156.998065   \n",
      "7764  UNITED STATES 2023-12-16   131925.66    72117.370700   \n",
      "7765  UNITED STATES 2023-12-17   128617.45    82207.772606   \n",
      "7766  UNITED STATES 2023-12-18   139560.74    95441.528090   \n",
      "\n",
      "      percentage_zeros_country     error_abs      mape  \n",
      "0                         10.0    151.443351  5.048112  \n",
      "1                         10.0    171.000036  0.855000  \n",
      "2                         10.0    230.592663  0.822987  \n",
      "3                         10.0    239.765559  1.598437  \n",
      "4                         10.0   1067.293100  0.787304  \n",
      "...                        ...           ...       ...  \n",
      "7762                       NaN  18246.354139  0.258143  \n",
      "7763                       NaN  44864.631935  0.380139  \n",
      "7764                       NaN  59808.289300  0.453348  \n",
      "7765                       NaN  46409.677394  0.360835  \n",
      "7766                       NaN  44119.211910  0.316129  \n",
      "\n",
      "[7767 rows x 7 columns]\n"
     ]
    }
   ],
   "source": [
    "# Contar los días donde valor_real es igual a cero y agrupar por country\n",
    "count_zeros = df_country[df_country['valor_real'] == 0].groupby('country').size()\n",
    "\n",
    "# Calcular el total de días por country\n",
    "total_days = df_country.groupby('country').size()\n",
    "\n",
    "# Calcular el porcentaje\n",
    "percentage_zeros = (count_zeros / total_days) * 100\n",
    "\n",
    "# Agregar la columna de porcentaje al DataFrame original\n",
    "df_country['percentage_zeros_country'] = df_country['country'].map(percentage_zeros)\n",
    "\n",
    "# Mostrar el DataFrame con la columna añadida\n",
    "print(df_country)"
   ]
  },
  {
   "cell_type": "code",
   "execution_count": 97,
   "id": "03aceed2-4e43-4edd-bac6-a586ae15bff6",
   "metadata": {
    "tags": []
   },
   "outputs": [],
   "source": [
    "promedio_mape_por_country = df_country.groupby('country').agg({'mape': mean_without_inf , 'error_abs': 'mean', 'valor_real': 'sum', 'percentage_zeros_country': 'mean' }).reset_index()"
   ]
  },
  {
   "cell_type": "code",
   "execution_count": 98,
   "id": "186929c9-3204-45bd-ac58-38eaf49ea48a",
   "metadata": {
    "tags": []
   },
   "outputs": [],
   "source": [
    "promedio_mape_por_country.rename(columns={'valor_real': 'sum_amount'}, inplace=True)"
   ]
  },
  {
   "cell_type": "code",
   "execution_count": 99,
   "id": "d3324373-e445-44e2-9634-530593185a37",
   "metadata": {
    "tags": []
   },
   "outputs": [],
   "source": [
    "promedio_mape_por_country['mape']=promedio_mape_por_country.mape * 100"
   ]
  },
  {
   "cell_type": "code",
   "execution_count": 100,
   "id": "37baf5f8-48c8-4c88-a5cb-ab447e4f5e7c",
   "metadata": {
    "tags": []
   },
   "outputs": [
    {
     "data": {
      "text/html": [
       "<div>\n",
       "<style scoped>\n",
       "    .dataframe tbody tr th:only-of-type {\n",
       "        vertical-align: middle;\n",
       "    }\n",
       "\n",
       "    .dataframe tbody tr th {\n",
       "        vertical-align: top;\n",
       "    }\n",
       "\n",
       "    .dataframe thead th {\n",
       "        text-align: right;\n",
       "    }\n",
       "</style>\n",
       "<table border=\"1\" class=\"dataframe\">\n",
       "  <thead>\n",
       "    <tr style=\"text-align: right;\">\n",
       "      <th></th>\n",
       "      <th>country</th>\n",
       "      <th>mape</th>\n",
       "      <th>error_abs</th>\n",
       "      <th>sum_amount</th>\n",
       "      <th>percentage_zeros_country</th>\n",
       "    </tr>\n",
       "  </thead>\n",
       "  <tbody>\n",
       "    <tr>\n",
       "      <th>14</th>\n",
       "      <td>EL SALVADOR</td>\n",
       "      <td>6.070573</td>\n",
       "      <td>8.594031e+04</td>\n",
       "      <td>2.600497e+08</td>\n",
       "      <td>0.000000</td>\n",
       "    </tr>\n",
       "    <tr>\n",
       "      <th>22</th>\n",
       "      <td>HONDURAS</td>\n",
       "      <td>6.441678</td>\n",
       "      <td>1.295589e+05</td>\n",
       "      <td>3.663379e+08</td>\n",
       "      <td>0.000000</td>\n",
       "    </tr>\n",
       "    <tr>\n",
       "      <th>30</th>\n",
       "      <td>MEXICO</td>\n",
       "      <td>7.084835</td>\n",
       "      <td>1.243315e+06</td>\n",
       "      <td>3.368405e+09</td>\n",
       "      <td>0.000000</td>\n",
       "    </tr>\n",
       "    <tr>\n",
       "      <th>19</th>\n",
       "      <td>GUATEMALA</td>\n",
       "      <td>7.235312</td>\n",
       "      <td>5.622274e+05</td>\n",
       "      <td>1.469647e+09</td>\n",
       "      <td>0.000000</td>\n",
       "    </tr>\n",
       "    <tr>\n",
       "      <th>12</th>\n",
       "      <td>DOMINICAN REPUBLIC</td>\n",
       "      <td>8.759843</td>\n",
       "      <td>3.521169e+04</td>\n",
       "      <td>7.683806e+07</td>\n",
       "      <td>0.000000</td>\n",
       "    </tr>\n",
       "    <tr>\n",
       "      <th>32</th>\n",
       "      <td>NICARAGUA</td>\n",
       "      <td>10.737507</td>\n",
       "      <td>7.215015e+04</td>\n",
       "      <td>1.346826e+08</td>\n",
       "      <td>0.000000</td>\n",
       "    </tr>\n",
       "    <tr>\n",
       "      <th>13</th>\n",
       "      <td>ECUADOR</td>\n",
       "      <td>11.156990</td>\n",
       "      <td>5.925907e+04</td>\n",
       "      <td>9.895877e+07</td>\n",
       "      <td>0.000000</td>\n",
       "    </tr>\n",
       "    <tr>\n",
       "      <th>34</th>\n",
       "      <td>PERU</td>\n",
       "      <td>13.268858</td>\n",
       "      <td>1.929266e+04</td>\n",
       "      <td>2.841291e+07</td>\n",
       "      <td>0.000000</td>\n",
       "    </tr>\n",
       "    <tr>\n",
       "      <th>9</th>\n",
       "      <td>COLOMBIA</td>\n",
       "      <td>13.931821</td>\n",
       "      <td>9.201758e+04</td>\n",
       "      <td>1.325347e+08</td>\n",
       "      <td>0.000000</td>\n",
       "    </tr>\n",
       "    <tr>\n",
       "      <th>35</th>\n",
       "      <td>PHILIPPINES</td>\n",
       "      <td>13.951972</td>\n",
       "      <td>9.078484e+04</td>\n",
       "      <td>1.314402e+08</td>\n",
       "      <td>0.000000</td>\n",
       "    </tr>\n",
       "    <tr>\n",
       "      <th>5</th>\n",
       "      <td>BRAZIL</td>\n",
       "      <td>14.440170</td>\n",
       "      <td>1.133731e+05</td>\n",
       "      <td>1.493068e+08</td>\n",
       "      <td>0.000000</td>\n",
       "    </tr>\n",
       "    <tr>\n",
       "      <th>21</th>\n",
       "      <td>HAITI</td>\n",
       "      <td>14.640847</td>\n",
       "      <td>6.264788e+03</td>\n",
       "      <td>8.560913e+06</td>\n",
       "      <td>0.000000</td>\n",
       "    </tr>\n",
       "    <tr>\n",
       "      <th>43</th>\n",
       "      <td>UNITED STATES</td>\n",
       "      <td>22.389607</td>\n",
       "      <td>2.236036e+04</td>\n",
       "      <td>2.018168e+07</td>\n",
       "      <td>0.000000</td>\n",
       "    </tr>\n",
       "    <tr>\n",
       "      <th>4</th>\n",
       "      <td>BOLIVIA</td>\n",
       "      <td>29.767630</td>\n",
       "      <td>5.232109e+03</td>\n",
       "      <td>3.426753e+06</td>\n",
       "      <td>0.000000</td>\n",
       "    </tr>\n",
       "    <tr>\n",
       "      <th>38</th>\n",
       "      <td>SIERRA LEONE</td>\n",
       "      <td>33.068226</td>\n",
       "      <td>3.935140e+03</td>\n",
       "      <td>2.876533e+06</td>\n",
       "      <td>0.000000</td>\n",
       "    </tr>\n",
       "    <tr>\n",
       "      <th>10</th>\n",
       "      <td>COSTA RICA</td>\n",
       "      <td>46.430815</td>\n",
       "      <td>5.133540e+04</td>\n",
       "      <td>2.227507e+07</td>\n",
       "      <td>0.000000</td>\n",
       "    </tr>\n",
       "    <tr>\n",
       "      <th>8</th>\n",
       "      <td>CHILE</td>\n",
       "      <td>48.351509</td>\n",
       "      <td>1.793288e+03</td>\n",
       "      <td>8.557980e+05</td>\n",
       "      <td>0.000000</td>\n",
       "    </tr>\n",
       "    <tr>\n",
       "      <th>39</th>\n",
       "      <td>SPAIN</td>\n",
       "      <td>53.828174</td>\n",
       "      <td>2.053712e+03</td>\n",
       "      <td>9.414381e+05</td>\n",
       "      <td>0.000000</td>\n",
       "    </tr>\n",
       "    <tr>\n",
       "      <th>26</th>\n",
       "      <td>JAMAICA</td>\n",
       "      <td>60.986024</td>\n",
       "      <td>2.863300e+02</td>\n",
       "      <td>7.150000e+03</td>\n",
       "      <td>66.666667</td>\n",
       "    </tr>\n",
       "    <tr>\n",
       "      <th>40</th>\n",
       "      <td>THAILAND</td>\n",
       "      <td>68.877632</td>\n",
       "      <td>1.205094e+02</td>\n",
       "      <td>1.196774e+04</td>\n",
       "      <td>89.444444</td>\n",
       "    </tr>\n",
       "    <tr>\n",
       "      <th>24</th>\n",
       "      <td>INDONESIA</td>\n",
       "      <td>71.887861</td>\n",
       "      <td>8.700524e+03</td>\n",
       "      <td>4.431383e+06</td>\n",
       "      <td>0.000000</td>\n",
       "    </tr>\n",
       "    <tr>\n",
       "      <th>3</th>\n",
       "      <td>BENIN</td>\n",
       "      <td>73.199513</td>\n",
       "      <td>2.237954e+02</td>\n",
       "      <td>3.168662e+04</td>\n",
       "      <td>69.444444</td>\n",
       "    </tr>\n",
       "    <tr>\n",
       "      <th>33</th>\n",
       "      <td>NIGERIA</td>\n",
       "      <td>77.032184</td>\n",
       "      <td>1.350516e+04</td>\n",
       "      <td>9.987284e+06</td>\n",
       "      <td>0.000000</td>\n",
       "    </tr>\n",
       "    <tr>\n",
       "      <th>15</th>\n",
       "      <td>FRANCE</td>\n",
       "      <td>81.956806</td>\n",
       "      <td>1.829771e+02</td>\n",
       "      <td>2.960969e+04</td>\n",
       "      <td>68.888889</td>\n",
       "    </tr>\n",
       "    <tr>\n",
       "      <th>28</th>\n",
       "      <td>MALAYSIA</td>\n",
       "      <td>83.142636</td>\n",
       "      <td>1.966980e+01</td>\n",
       "      <td>2.337000e+03</td>\n",
       "      <td>96.111111</td>\n",
       "    </tr>\n",
       "    <tr>\n",
       "      <th>2</th>\n",
       "      <td>BELGIUM</td>\n",
       "      <td>88.744835</td>\n",
       "      <td>2.745337e+02</td>\n",
       "      <td>4.464125e+04</td>\n",
       "      <td>73.888889</td>\n",
       "    </tr>\n",
       "    <tr>\n",
       "      <th>42</th>\n",
       "      <td>UNITED KINGDOM</td>\n",
       "      <td>96.956799</td>\n",
       "      <td>5.950950e+02</td>\n",
       "      <td>6.636566e+04</td>\n",
       "      <td>75.000000</td>\n",
       "    </tr>\n",
       "    <tr>\n",
       "      <th>23</th>\n",
       "      <td>INDIA</td>\n",
       "      <td>98.548002</td>\n",
       "      <td>7.450020e+03</td>\n",
       "      <td>2.382259e+06</td>\n",
       "      <td>0.555556</td>\n",
       "    </tr>\n",
       "    <tr>\n",
       "      <th>25</th>\n",
       "      <td>ITALY</td>\n",
       "      <td>117.006060</td>\n",
       "      <td>3.813604e+02</td>\n",
       "      <td>5.000700e+04</td>\n",
       "      <td>65.000000</td>\n",
       "    </tr>\n",
       "    <tr>\n",
       "      <th>29</th>\n",
       "      <td>MALI</td>\n",
       "      <td>129.725442</td>\n",
       "      <td>3.607629e+02</td>\n",
       "      <td>8.020147e+04</td>\n",
       "      <td>19.444444</td>\n",
       "    </tr>\n",
       "    <tr>\n",
       "      <th>0</th>\n",
       "      <td>ARGENTINA</td>\n",
       "      <td>145.004372</td>\n",
       "      <td>3.440906e+02</td>\n",
       "      <td>8.086507e+04</td>\n",
       "      <td>10.000000</td>\n",
       "    </tr>\n",
       "    <tr>\n",
       "      <th>20</th>\n",
       "      <td>GUINEA</td>\n",
       "      <td>147.583121</td>\n",
       "      <td>1.725202e+03</td>\n",
       "      <td>5.909474e+05</td>\n",
       "      <td>2.777778</td>\n",
       "    </tr>\n",
       "    <tr>\n",
       "      <th>17</th>\n",
       "      <td>GERMANY</td>\n",
       "      <td>169.017377</td>\n",
       "      <td>3.992334e+02</td>\n",
       "      <td>4.181551e+04</td>\n",
       "      <td>62.222222</td>\n",
       "    </tr>\n",
       "    <tr>\n",
       "      <th>7</th>\n",
       "      <td>CAMEROON</td>\n",
       "      <td>171.789974</td>\n",
       "      <td>5.402483e+02</td>\n",
       "      <td>1.166902e+05</td>\n",
       "      <td>14.444444</td>\n",
       "    </tr>\n",
       "    <tr>\n",
       "      <th>27</th>\n",
       "      <td>LIBERIA</td>\n",
       "      <td>176.269634</td>\n",
       "      <td>3.582935e+02</td>\n",
       "      <td>4.794700e+04</td>\n",
       "      <td>65.555556</td>\n",
       "    </tr>\n",
       "    <tr>\n",
       "      <th>18</th>\n",
       "      <td>GHANA</td>\n",
       "      <td>208.890756</td>\n",
       "      <td>7.729449e+03</td>\n",
       "      <td>5.421394e+06</td>\n",
       "      <td>1.111111</td>\n",
       "    </tr>\n",
       "    <tr>\n",
       "      <th>16</th>\n",
       "      <td>GAMBIA, THE</td>\n",
       "      <td>214.603835</td>\n",
       "      <td>5.515235e+02</td>\n",
       "      <td>1.145062e+05</td>\n",
       "      <td>26.111111</td>\n",
       "    </tr>\n",
       "    <tr>\n",
       "      <th>11</th>\n",
       "      <td>COTE D'IVOIRE (IVORY COAST)</td>\n",
       "      <td>219.744133</td>\n",
       "      <td>6.376832e+02</td>\n",
       "      <td>1.054859e+05</td>\n",
       "      <td>18.888889</td>\n",
       "    </tr>\n",
       "    <tr>\n",
       "      <th>37</th>\n",
       "      <td>SENEGAL</td>\n",
       "      <td>228.976309</td>\n",
       "      <td>1.195968e+03</td>\n",
       "      <td>3.446513e+05</td>\n",
       "      <td>3.333333</td>\n",
       "    </tr>\n",
       "    <tr>\n",
       "      <th>36</th>\n",
       "      <td>PORTUGAL</td>\n",
       "      <td>232.741602</td>\n",
       "      <td>1.341775e+03</td>\n",
       "      <td>2.623908e+05</td>\n",
       "      <td>13.888889</td>\n",
       "    </tr>\n",
       "    <tr>\n",
       "      <th>41</th>\n",
       "      <td>TOGO</td>\n",
       "      <td>240.066302</td>\n",
       "      <td>2.632874e+03</td>\n",
       "      <td>5.585745e+05</td>\n",
       "      <td>15.555556</td>\n",
       "    </tr>\n",
       "    <tr>\n",
       "      <th>31</th>\n",
       "      <td>NEPAL</td>\n",
       "      <td>265.963251</td>\n",
       "      <td>3.580301e+03</td>\n",
       "      <td>8.811729e+05</td>\n",
       "      <td>9.444444</td>\n",
       "    </tr>\n",
       "    <tr>\n",
       "      <th>6</th>\n",
       "      <td>BURKINA FASO</td>\n",
       "      <td>361.545794</td>\n",
       "      <td>1.036201e+03</td>\n",
       "      <td>1.755168e+05</td>\n",
       "      <td>24.444444</td>\n",
       "    </tr>\n",
       "    <tr>\n",
       "      <th>1</th>\n",
       "      <td>BANGLADESH</td>\n",
       "      <td>589.402046</td>\n",
       "      <td>7.848159e+03</td>\n",
       "      <td>3.444163e+05</td>\n",
       "      <td>29.444444</td>\n",
       "    </tr>\n",
       "  </tbody>\n",
       "</table>\n",
       "</div>"
      ],
      "text/plain": [
       "                        country        mape     error_abs    sum_amount  \\\n",
       "14                  EL SALVADOR    6.070573  8.594031e+04  2.600497e+08   \n",
       "22                     HONDURAS    6.441678  1.295589e+05  3.663379e+08   \n",
       "30                       MEXICO    7.084835  1.243315e+06  3.368405e+09   \n",
       "19                    GUATEMALA    7.235312  5.622274e+05  1.469647e+09   \n",
       "12           DOMINICAN REPUBLIC    8.759843  3.521169e+04  7.683806e+07   \n",
       "32                    NICARAGUA   10.737507  7.215015e+04  1.346826e+08   \n",
       "13                      ECUADOR   11.156990  5.925907e+04  9.895877e+07   \n",
       "34                         PERU   13.268858  1.929266e+04  2.841291e+07   \n",
       "9                      COLOMBIA   13.931821  9.201758e+04  1.325347e+08   \n",
       "35                  PHILIPPINES   13.951972  9.078484e+04  1.314402e+08   \n",
       "5                        BRAZIL   14.440170  1.133731e+05  1.493068e+08   \n",
       "21                        HAITI   14.640847  6.264788e+03  8.560913e+06   \n",
       "43                UNITED STATES   22.389607  2.236036e+04  2.018168e+07   \n",
       "4                       BOLIVIA   29.767630  5.232109e+03  3.426753e+06   \n",
       "38                 SIERRA LEONE   33.068226  3.935140e+03  2.876533e+06   \n",
       "10                   COSTA RICA   46.430815  5.133540e+04  2.227507e+07   \n",
       "8                         CHILE   48.351509  1.793288e+03  8.557980e+05   \n",
       "39                        SPAIN   53.828174  2.053712e+03  9.414381e+05   \n",
       "26                      JAMAICA   60.986024  2.863300e+02  7.150000e+03   \n",
       "40                     THAILAND   68.877632  1.205094e+02  1.196774e+04   \n",
       "24                    INDONESIA   71.887861  8.700524e+03  4.431383e+06   \n",
       "3                         BENIN   73.199513  2.237954e+02  3.168662e+04   \n",
       "33                      NIGERIA   77.032184  1.350516e+04  9.987284e+06   \n",
       "15                       FRANCE   81.956806  1.829771e+02  2.960969e+04   \n",
       "28                     MALAYSIA   83.142636  1.966980e+01  2.337000e+03   \n",
       "2                       BELGIUM   88.744835  2.745337e+02  4.464125e+04   \n",
       "42               UNITED KINGDOM   96.956799  5.950950e+02  6.636566e+04   \n",
       "23                        INDIA   98.548002  7.450020e+03  2.382259e+06   \n",
       "25                        ITALY  117.006060  3.813604e+02  5.000700e+04   \n",
       "29                         MALI  129.725442  3.607629e+02  8.020147e+04   \n",
       "0                     ARGENTINA  145.004372  3.440906e+02  8.086507e+04   \n",
       "20                       GUINEA  147.583121  1.725202e+03  5.909474e+05   \n",
       "17                      GERMANY  169.017377  3.992334e+02  4.181551e+04   \n",
       "7                      CAMEROON  171.789974  5.402483e+02  1.166902e+05   \n",
       "27                      LIBERIA  176.269634  3.582935e+02  4.794700e+04   \n",
       "18                        GHANA  208.890756  7.729449e+03  5.421394e+06   \n",
       "16                  GAMBIA, THE  214.603835  5.515235e+02  1.145062e+05   \n",
       "11  COTE D'IVOIRE (IVORY COAST)  219.744133  6.376832e+02  1.054859e+05   \n",
       "37                      SENEGAL  228.976309  1.195968e+03  3.446513e+05   \n",
       "36                     PORTUGAL  232.741602  1.341775e+03  2.623908e+05   \n",
       "41                         TOGO  240.066302  2.632874e+03  5.585745e+05   \n",
       "31                        NEPAL  265.963251  3.580301e+03  8.811729e+05   \n",
       "6                  BURKINA FASO  361.545794  1.036201e+03  1.755168e+05   \n",
       "1                    BANGLADESH  589.402046  7.848159e+03  3.444163e+05   \n",
       "\n",
       "    percentage_zeros_country  \n",
       "14                  0.000000  \n",
       "22                  0.000000  \n",
       "30                  0.000000  \n",
       "19                  0.000000  \n",
       "12                  0.000000  \n",
       "32                  0.000000  \n",
       "13                  0.000000  \n",
       "34                  0.000000  \n",
       "9                   0.000000  \n",
       "35                  0.000000  \n",
       "5                   0.000000  \n",
       "21                  0.000000  \n",
       "43                  0.000000  \n",
       "4                   0.000000  \n",
       "38                  0.000000  \n",
       "10                  0.000000  \n",
       "8                   0.000000  \n",
       "39                  0.000000  \n",
       "26                 66.666667  \n",
       "40                 89.444444  \n",
       "24                  0.000000  \n",
       "3                  69.444444  \n",
       "33                  0.000000  \n",
       "15                 68.888889  \n",
       "28                 96.111111  \n",
       "2                  73.888889  \n",
       "42                 75.000000  \n",
       "23                  0.555556  \n",
       "25                 65.000000  \n",
       "29                 19.444444  \n",
       "0                  10.000000  \n",
       "20                  2.777778  \n",
       "17                 62.222222  \n",
       "7                  14.444444  \n",
       "27                 65.555556  \n",
       "18                  1.111111  \n",
       "16                 26.111111  \n",
       "11                 18.888889  \n",
       "37                  3.333333  \n",
       "36                 13.888889  \n",
       "41                 15.555556  \n",
       "31                  9.444444  \n",
       "6                  24.444444  \n",
       "1                  29.444444  "
      ]
     },
     "execution_count": 100,
     "metadata": {},
     "output_type": "execute_result"
    }
   ],
   "source": [
    "promedio_mape_por_country.percentage_zeros_country.fillna(0,inplace=True)\n",
    "promedio_mape_por_country.sort_values(by='mape', ascending=True)"
   ]
  },
  {
   "cell_type": "code",
   "execution_count": 101,
   "id": "e84b1631-dadb-405f-bba3-5be06e884967",
   "metadata": {
    "tags": []
   },
   "outputs": [
    {
     "data": {
      "text/plain": [
       "(44, 5)"
      ]
     },
     "execution_count": 101,
     "metadata": {},
     "output_type": "execute_result"
    }
   ],
   "source": [
    "promedio_mape_por_country.shape"
   ]
  },
  {
   "cell_type": "code",
   "execution_count": 102,
   "id": "66a35c39-131b-4515-a47e-3db85676ee46",
   "metadata": {
    "tags": []
   },
   "outputs": [],
   "source": [
    "###REVISAR Y COMPARAR VERSION ANTERIOR!!!\n",
    "\n",
    "promedio_mape_por_country=promedio_mape_por_country.sort_values(by='mape', ascending=True)\n",
    "promedio_mape_por_country.to_excel('mapes_promedio_por_country_18_03_2024_f_2d.xlsx')"
   ]
  },
  {
   "cell_type": "code",
   "execution_count": 145,
   "id": "30ca5b0e-28f2-479a-8e02-99edc8facf27",
   "metadata": {
    "tags": []
   },
   "outputs": [],
   "source": [
    "##HASTA ACÁ CON LA SALIDA DE LOS MODELOS DE FORECAST EN BACKTESTING A 2D##"
   ]
  },
  {
   "cell_type": "code",
   "execution_count": null,
   "id": "a4abecd9-d1aa-449c-9ada-a839965f26b3",
   "metadata": {
    "tags": []
   },
   "outputs": [],
   "source": []
  },
  {
   "cell_type": "code",
   "execution_count": null,
   "id": "5c3ff66a-19a9-4f07-bd3d-22e7cc30c782",
   "metadata": {
    "tags": []
   },
   "outputs": [],
   "source": []
  },
  {
   "cell_type": "code",
   "execution_count": null,
   "id": "c4d780b9-2de9-492f-a163-4da5939299b5",
   "metadata": {
    "tags": []
   },
   "outputs": [],
   "source": []
  },
  {
   "cell_type": "code",
   "execution_count": null,
   "id": "64853991-8f29-4c2a-87d3-895d619b0d5d",
   "metadata": {
    "tags": []
   },
   "outputs": [],
   "source": []
  },
  {
   "cell_type": "code",
   "execution_count": null,
   "id": "9f3c3bfc-2a36-49ed-bddd-b399ff365e07",
   "metadata": {
    "tags": []
   },
   "outputs": [],
   "source": []
  },
  {
   "cell_type": "code",
   "execution_count": null,
   "id": "41fc2023-8b5f-4564-91d9-3b7fa4142a3d",
   "metadata": {
    "tags": []
   },
   "outputs": [],
   "source": []
  },
  {
   "cell_type": "code",
   "execution_count": null,
   "id": "3025ddf9-8585-466e-8e0b-6a29fea6aa5b",
   "metadata": {
    "tags": []
   },
   "outputs": [],
   "source": []
  },
  {
   "cell_type": "code",
   "execution_count": null,
   "id": "a51b2098-9791-454a-9728-52cfe04fa20f",
   "metadata": {
    "tags": []
   },
   "outputs": [],
   "source": []
  },
  {
   "cell_type": "code",
   "execution_count": null,
   "id": "de636652-283c-45f3-a522-3f4243960242",
   "metadata": {},
   "outputs": [],
   "source": [
    "\n"
   ]
  }
 ],
 "metadata": {
  "availableInstances": [
   {
    "_defaultOrder": 0,
    "_isFastLaunch": true,
    "category": "General purpose",
    "gpuNum": 0,
    "hideHardwareSpecs": false,
    "memoryGiB": 4,
    "name": "ml.t3.medium",
    "vcpuNum": 2
   },
   {
    "_defaultOrder": 1,
    "_isFastLaunch": false,
    "category": "General purpose",
    "gpuNum": 0,
    "hideHardwareSpecs": false,
    "memoryGiB": 8,
    "name": "ml.t3.large",
    "vcpuNum": 2
   },
   {
    "_defaultOrder": 2,
    "_isFastLaunch": false,
    "category": "General purpose",
    "gpuNum": 0,
    "hideHardwareSpecs": false,
    "memoryGiB": 16,
    "name": "ml.t3.xlarge",
    "vcpuNum": 4
   },
   {
    "_defaultOrder": 3,
    "_isFastLaunch": false,
    "category": "General purpose",
    "gpuNum": 0,
    "hideHardwareSpecs": false,
    "memoryGiB": 32,
    "name": "ml.t3.2xlarge",
    "vcpuNum": 8
   },
   {
    "_defaultOrder": 4,
    "_isFastLaunch": true,
    "category": "General purpose",
    "gpuNum": 0,
    "hideHardwareSpecs": false,
    "memoryGiB": 8,
    "name": "ml.m5.large",
    "vcpuNum": 2
   },
   {
    "_defaultOrder": 5,
    "_isFastLaunch": false,
    "category": "General purpose",
    "gpuNum": 0,
    "hideHardwareSpecs": false,
    "memoryGiB": 16,
    "name": "ml.m5.xlarge",
    "vcpuNum": 4
   },
   {
    "_defaultOrder": 6,
    "_isFastLaunch": false,
    "category": "General purpose",
    "gpuNum": 0,
    "hideHardwareSpecs": false,
    "memoryGiB": 32,
    "name": "ml.m5.2xlarge",
    "vcpuNum": 8
   },
   {
    "_defaultOrder": 7,
    "_isFastLaunch": false,
    "category": "General purpose",
    "gpuNum": 0,
    "hideHardwareSpecs": false,
    "memoryGiB": 64,
    "name": "ml.m5.4xlarge",
    "vcpuNum": 16
   },
   {
    "_defaultOrder": 8,
    "_isFastLaunch": false,
    "category": "General purpose",
    "gpuNum": 0,
    "hideHardwareSpecs": false,
    "memoryGiB": 128,
    "name": "ml.m5.8xlarge",
    "vcpuNum": 32
   },
   {
    "_defaultOrder": 9,
    "_isFastLaunch": false,
    "category": "General purpose",
    "gpuNum": 0,
    "hideHardwareSpecs": false,
    "memoryGiB": 192,
    "name": "ml.m5.12xlarge",
    "vcpuNum": 48
   },
   {
    "_defaultOrder": 10,
    "_isFastLaunch": false,
    "category": "General purpose",
    "gpuNum": 0,
    "hideHardwareSpecs": false,
    "memoryGiB": 256,
    "name": "ml.m5.16xlarge",
    "vcpuNum": 64
   },
   {
    "_defaultOrder": 11,
    "_isFastLaunch": false,
    "category": "General purpose",
    "gpuNum": 0,
    "hideHardwareSpecs": false,
    "memoryGiB": 384,
    "name": "ml.m5.24xlarge",
    "vcpuNum": 96
   },
   {
    "_defaultOrder": 12,
    "_isFastLaunch": false,
    "category": "General purpose",
    "gpuNum": 0,
    "hideHardwareSpecs": false,
    "memoryGiB": 8,
    "name": "ml.m5d.large",
    "vcpuNum": 2
   },
   {
    "_defaultOrder": 13,
    "_isFastLaunch": false,
    "category": "General purpose",
    "gpuNum": 0,
    "hideHardwareSpecs": false,
    "memoryGiB": 16,
    "name": "ml.m5d.xlarge",
    "vcpuNum": 4
   },
   {
    "_defaultOrder": 14,
    "_isFastLaunch": false,
    "category": "General purpose",
    "gpuNum": 0,
    "hideHardwareSpecs": false,
    "memoryGiB": 32,
    "name": "ml.m5d.2xlarge",
    "vcpuNum": 8
   },
   {
    "_defaultOrder": 15,
    "_isFastLaunch": false,
    "category": "General purpose",
    "gpuNum": 0,
    "hideHardwareSpecs": false,
    "memoryGiB": 64,
    "name": "ml.m5d.4xlarge",
    "vcpuNum": 16
   },
   {
    "_defaultOrder": 16,
    "_isFastLaunch": false,
    "category": "General purpose",
    "gpuNum": 0,
    "hideHardwareSpecs": false,
    "memoryGiB": 128,
    "name": "ml.m5d.8xlarge",
    "vcpuNum": 32
   },
   {
    "_defaultOrder": 17,
    "_isFastLaunch": false,
    "category": "General purpose",
    "gpuNum": 0,
    "hideHardwareSpecs": false,
    "memoryGiB": 192,
    "name": "ml.m5d.12xlarge",
    "vcpuNum": 48
   },
   {
    "_defaultOrder": 18,
    "_isFastLaunch": false,
    "category": "General purpose",
    "gpuNum": 0,
    "hideHardwareSpecs": false,
    "memoryGiB": 256,
    "name": "ml.m5d.16xlarge",
    "vcpuNum": 64
   },
   {
    "_defaultOrder": 19,
    "_isFastLaunch": false,
    "category": "General purpose",
    "gpuNum": 0,
    "hideHardwareSpecs": false,
    "memoryGiB": 384,
    "name": "ml.m5d.24xlarge",
    "vcpuNum": 96
   },
   {
    "_defaultOrder": 20,
    "_isFastLaunch": false,
    "category": "General purpose",
    "gpuNum": 0,
    "hideHardwareSpecs": true,
    "memoryGiB": 0,
    "name": "ml.geospatial.interactive",
    "supportedImageNames": [
     "sagemaker-geospatial-v1-0"
    ],
    "vcpuNum": 0
   },
   {
    "_defaultOrder": 21,
    "_isFastLaunch": true,
    "category": "Compute optimized",
    "gpuNum": 0,
    "hideHardwareSpecs": false,
    "memoryGiB": 4,
    "name": "ml.c5.large",
    "vcpuNum": 2
   },
   {
    "_defaultOrder": 22,
    "_isFastLaunch": false,
    "category": "Compute optimized",
    "gpuNum": 0,
    "hideHardwareSpecs": false,
    "memoryGiB": 8,
    "name": "ml.c5.xlarge",
    "vcpuNum": 4
   },
   {
    "_defaultOrder": 23,
    "_isFastLaunch": false,
    "category": "Compute optimized",
    "gpuNum": 0,
    "hideHardwareSpecs": false,
    "memoryGiB": 16,
    "name": "ml.c5.2xlarge",
    "vcpuNum": 8
   },
   {
    "_defaultOrder": 24,
    "_isFastLaunch": false,
    "category": "Compute optimized",
    "gpuNum": 0,
    "hideHardwareSpecs": false,
    "memoryGiB": 32,
    "name": "ml.c5.4xlarge",
    "vcpuNum": 16
   },
   {
    "_defaultOrder": 25,
    "_isFastLaunch": false,
    "category": "Compute optimized",
    "gpuNum": 0,
    "hideHardwareSpecs": false,
    "memoryGiB": 72,
    "name": "ml.c5.9xlarge",
    "vcpuNum": 36
   },
   {
    "_defaultOrder": 26,
    "_isFastLaunch": false,
    "category": "Compute optimized",
    "gpuNum": 0,
    "hideHardwareSpecs": false,
    "memoryGiB": 96,
    "name": "ml.c5.12xlarge",
    "vcpuNum": 48
   },
   {
    "_defaultOrder": 27,
    "_isFastLaunch": false,
    "category": "Compute optimized",
    "gpuNum": 0,
    "hideHardwareSpecs": false,
    "memoryGiB": 144,
    "name": "ml.c5.18xlarge",
    "vcpuNum": 72
   },
   {
    "_defaultOrder": 28,
    "_isFastLaunch": false,
    "category": "Compute optimized",
    "gpuNum": 0,
    "hideHardwareSpecs": false,
    "memoryGiB": 192,
    "name": "ml.c5.24xlarge",
    "vcpuNum": 96
   },
   {
    "_defaultOrder": 29,
    "_isFastLaunch": true,
    "category": "Accelerated computing",
    "gpuNum": 1,
    "hideHardwareSpecs": false,
    "memoryGiB": 16,
    "name": "ml.g4dn.xlarge",
    "vcpuNum": 4
   },
   {
    "_defaultOrder": 30,
    "_isFastLaunch": false,
    "category": "Accelerated computing",
    "gpuNum": 1,
    "hideHardwareSpecs": false,
    "memoryGiB": 32,
    "name": "ml.g4dn.2xlarge",
    "vcpuNum": 8
   },
   {
    "_defaultOrder": 31,
    "_isFastLaunch": false,
    "category": "Accelerated computing",
    "gpuNum": 1,
    "hideHardwareSpecs": false,
    "memoryGiB": 64,
    "name": "ml.g4dn.4xlarge",
    "vcpuNum": 16
   },
   {
    "_defaultOrder": 32,
    "_isFastLaunch": false,
    "category": "Accelerated computing",
    "gpuNum": 1,
    "hideHardwareSpecs": false,
    "memoryGiB": 128,
    "name": "ml.g4dn.8xlarge",
    "vcpuNum": 32
   },
   {
    "_defaultOrder": 33,
    "_isFastLaunch": false,
    "category": "Accelerated computing",
    "gpuNum": 4,
    "hideHardwareSpecs": false,
    "memoryGiB": 192,
    "name": "ml.g4dn.12xlarge",
    "vcpuNum": 48
   },
   {
    "_defaultOrder": 34,
    "_isFastLaunch": false,
    "category": "Accelerated computing",
    "gpuNum": 1,
    "hideHardwareSpecs": false,
    "memoryGiB": 256,
    "name": "ml.g4dn.16xlarge",
    "vcpuNum": 64
   },
   {
    "_defaultOrder": 35,
    "_isFastLaunch": false,
    "category": "Accelerated computing",
    "gpuNum": 1,
    "hideHardwareSpecs": false,
    "memoryGiB": 61,
    "name": "ml.p3.2xlarge",
    "vcpuNum": 8
   },
   {
    "_defaultOrder": 36,
    "_isFastLaunch": false,
    "category": "Accelerated computing",
    "gpuNum": 4,
    "hideHardwareSpecs": false,
    "memoryGiB": 244,
    "name": "ml.p3.8xlarge",
    "vcpuNum": 32
   },
   {
    "_defaultOrder": 37,
    "_isFastLaunch": false,
    "category": "Accelerated computing",
    "gpuNum": 8,
    "hideHardwareSpecs": false,
    "memoryGiB": 488,
    "name": "ml.p3.16xlarge",
    "vcpuNum": 64
   },
   {
    "_defaultOrder": 38,
    "_isFastLaunch": false,
    "category": "Accelerated computing",
    "gpuNum": 8,
    "hideHardwareSpecs": false,
    "memoryGiB": 768,
    "name": "ml.p3dn.24xlarge",
    "vcpuNum": 96
   },
   {
    "_defaultOrder": 39,
    "_isFastLaunch": false,
    "category": "Memory Optimized",
    "gpuNum": 0,
    "hideHardwareSpecs": false,
    "memoryGiB": 16,
    "name": "ml.r5.large",
    "vcpuNum": 2
   },
   {
    "_defaultOrder": 40,
    "_isFastLaunch": false,
    "category": "Memory Optimized",
    "gpuNum": 0,
    "hideHardwareSpecs": false,
    "memoryGiB": 32,
    "name": "ml.r5.xlarge",
    "vcpuNum": 4
   },
   {
    "_defaultOrder": 41,
    "_isFastLaunch": false,
    "category": "Memory Optimized",
    "gpuNum": 0,
    "hideHardwareSpecs": false,
    "memoryGiB": 64,
    "name": "ml.r5.2xlarge",
    "vcpuNum": 8
   },
   {
    "_defaultOrder": 42,
    "_isFastLaunch": false,
    "category": "Memory Optimized",
    "gpuNum": 0,
    "hideHardwareSpecs": false,
    "memoryGiB": 128,
    "name": "ml.r5.4xlarge",
    "vcpuNum": 16
   },
   {
    "_defaultOrder": 43,
    "_isFastLaunch": false,
    "category": "Memory Optimized",
    "gpuNum": 0,
    "hideHardwareSpecs": false,
    "memoryGiB": 256,
    "name": "ml.r5.8xlarge",
    "vcpuNum": 32
   },
   {
    "_defaultOrder": 44,
    "_isFastLaunch": false,
    "category": "Memory Optimized",
    "gpuNum": 0,
    "hideHardwareSpecs": false,
    "memoryGiB": 384,
    "name": "ml.r5.12xlarge",
    "vcpuNum": 48
   },
   {
    "_defaultOrder": 45,
    "_isFastLaunch": false,
    "category": "Memory Optimized",
    "gpuNum": 0,
    "hideHardwareSpecs": false,
    "memoryGiB": 512,
    "name": "ml.r5.16xlarge",
    "vcpuNum": 64
   },
   {
    "_defaultOrder": 46,
    "_isFastLaunch": false,
    "category": "Memory Optimized",
    "gpuNum": 0,
    "hideHardwareSpecs": false,
    "memoryGiB": 768,
    "name": "ml.r5.24xlarge",
    "vcpuNum": 96
   },
   {
    "_defaultOrder": 47,
    "_isFastLaunch": false,
    "category": "Accelerated computing",
    "gpuNum": 1,
    "hideHardwareSpecs": false,
    "memoryGiB": 16,
    "name": "ml.g5.xlarge",
    "vcpuNum": 4
   },
   {
    "_defaultOrder": 48,
    "_isFastLaunch": false,
    "category": "Accelerated computing",
    "gpuNum": 1,
    "hideHardwareSpecs": false,
    "memoryGiB": 32,
    "name": "ml.g5.2xlarge",
    "vcpuNum": 8
   },
   {
    "_defaultOrder": 49,
    "_isFastLaunch": false,
    "category": "Accelerated computing",
    "gpuNum": 1,
    "hideHardwareSpecs": false,
    "memoryGiB": 64,
    "name": "ml.g5.4xlarge",
    "vcpuNum": 16
   },
   {
    "_defaultOrder": 50,
    "_isFastLaunch": false,
    "category": "Accelerated computing",
    "gpuNum": 1,
    "hideHardwareSpecs": false,
    "memoryGiB": 128,
    "name": "ml.g5.8xlarge",
    "vcpuNum": 32
   },
   {
    "_defaultOrder": 51,
    "_isFastLaunch": false,
    "category": "Accelerated computing",
    "gpuNum": 1,
    "hideHardwareSpecs": false,
    "memoryGiB": 256,
    "name": "ml.g5.16xlarge",
    "vcpuNum": 64
   },
   {
    "_defaultOrder": 52,
    "_isFastLaunch": false,
    "category": "Accelerated computing",
    "gpuNum": 4,
    "hideHardwareSpecs": false,
    "memoryGiB": 192,
    "name": "ml.g5.12xlarge",
    "vcpuNum": 48
   },
   {
    "_defaultOrder": 53,
    "_isFastLaunch": false,
    "category": "Accelerated computing",
    "gpuNum": 4,
    "hideHardwareSpecs": false,
    "memoryGiB": 384,
    "name": "ml.g5.24xlarge",
    "vcpuNum": 96
   },
   {
    "_defaultOrder": 54,
    "_isFastLaunch": false,
    "category": "Accelerated computing",
    "gpuNum": 8,
    "hideHardwareSpecs": false,
    "memoryGiB": 768,
    "name": "ml.g5.48xlarge",
    "vcpuNum": 192
   },
   {
    "_defaultOrder": 55,
    "_isFastLaunch": false,
    "category": "Accelerated computing",
    "gpuNum": 8,
    "hideHardwareSpecs": false,
    "memoryGiB": 1152,
    "name": "ml.p4d.24xlarge",
    "vcpuNum": 96
   },
   {
    "_defaultOrder": 56,
    "_isFastLaunch": false,
    "category": "Accelerated computing",
    "gpuNum": 8,
    "hideHardwareSpecs": false,
    "memoryGiB": 1152,
    "name": "ml.p4de.24xlarge",
    "vcpuNum": 96
   },
   {
    "_defaultOrder": 57,
    "_isFastLaunch": false,
    "category": "Accelerated computing",
    "gpuNum": 0,
    "hideHardwareSpecs": false,
    "memoryGiB": 32,
    "name": "ml.trn1.2xlarge",
    "vcpuNum": 8
   },
   {
    "_defaultOrder": 58,
    "_isFastLaunch": false,
    "category": "Accelerated computing",
    "gpuNum": 0,
    "hideHardwareSpecs": false,
    "memoryGiB": 512,
    "name": "ml.trn1.32xlarge",
    "vcpuNum": 128
   },
   {
    "_defaultOrder": 59,
    "_isFastLaunch": false,
    "category": "Accelerated computing",
    "gpuNum": 0,
    "hideHardwareSpecs": false,
    "memoryGiB": 512,
    "name": "ml.trn1n.32xlarge",
    "vcpuNum": 128
   }
  ],
  "instance_type": "ml.m5.4xlarge",
  "kernelspec": {
   "display_name": "Python 3 (Data Science 3.0)",
   "language": "python",
   "name": "python3__SAGEMAKER_INTERNAL__arn:aws:sagemaker:us-east-1:081325390199:image/sagemaker-data-science-310-v1"
  },
  "language_info": {
   "codemirror_mode": {
    "name": "ipython",
    "version": 3
   },
   "file_extension": ".py",
   "mimetype": "text/x-python",
   "name": "python",
   "nbconvert_exporter": "python",
   "pygments_lexer": "ipython3",
   "version": "3.10.6"
  }
 },
 "nbformat": 4,
 "nbformat_minor": 5
}
