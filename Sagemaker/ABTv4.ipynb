{
 "cells": [
  {
   "cell_type": "code",
   "execution_count": 3,
   "id": "efcb9f20-52d9-420f-ad71-d088f219bca1",
   "metadata": {
    "tags": []
   },
   "outputs": [],
   "source": [
    "# !pip install awswrangler\n",
    "# !pip install holidays"
   ]
  },
  {
   "cell_type": "code",
   "execution_count": 4,
   "id": "9108cf1f-38d2-4e8a-acf8-64e9642c4759",
   "metadata": {
    "tags": []
   },
   "outputs": [],
   "source": [
    "import awswrangler as wr\n",
    "import pandas as pd\n",
    "import datetime as dt\n",
    "from datetime import datetime\n",
    "import holidays"
   ]
  },
  {
   "cell_type": "code",
   "execution_count": 5,
   "id": "5724b28b-d3c1-4762-b59e-7896abd62dad",
   "metadata": {
    "tags": []
   },
   "outputs": [],
   "source": [
    "#TIMEFRAME\n",
    "start_date = '2021-01-01'\n",
    "end_date = '2023-12-31'"
   ]
  },
  {
   "cell_type": "markdown",
   "id": "73a409bb-76f8-40e1-a523-86ee23b19f0a",
   "metadata": {
    "tags": []
   },
   "source": [
    "### DFs generation"
   ]
  },
  {
   "cell_type": "code",
   "execution_count": 6,
   "id": "44219f77-c63a-4338-b93f-29394c1b47e6",
   "metadata": {
    "tags": []
   },
   "outputs": [],
   "source": [
    "# DB Setting\n",
    "bucket_name = 's3://viamericas-datalake-dev-us-east-1-283731589572-athena/'\n",
    "origin_name = 'AwsDataCatalog'\n",
    "database_name= 'viamericas'\n",
    "table_name = 'daily_check_gp'"
   ]
  },
  {
   "cell_type": "code",
   "execution_count": 7,
   "id": "6b1782c2-882c-415c-b791-0093c681d41f",
   "metadata": {
    "tags": []
   },
   "outputs": [],
   "source": [
    "df = wr.athena.read_sql_table(\n",
    "    table=table_name,\n",
    "    database=database_name,\n",
    ")"
   ]
  },
  {
   "cell_type": "code",
   "execution_count": 8,
   "id": "69ff4af8-ab4a-4a15-a106-3a1a44d5509d",
   "metadata": {
    "tags": []
   },
   "outputs": [
    {
     "data": {
      "text/plain": [
       "'2024-02-03'"
      ]
     },
     "execution_count": 8,
     "metadata": {},
     "output_type": "execute_result"
    }
   ],
   "source": [
    "df.day.max() # Solo para chequear"
   ]
  },
  {
   "cell_type": "code",
   "execution_count": 9,
   "id": "46336b11-72e3-4ba1-b73c-06c64fc6a4d0",
   "metadata": {
    "tags": []
   },
   "outputs": [],
   "source": [
    "# Convert the 'date' column to datetime format\n",
    "df['day'] = pd.to_datetime(df['day'])\n",
    "# Grouping by 'payer' and 'country' concatenated for this level of granularity\n",
    "df['payer_country'] = df['payer'] + '_' + df['country']\n",
    "# Margin (when tx !=0)\n",
    "df['margin'] = df.apply(lambda row: row['gp'] / row['tx'] if row['tx'] != 0 else 0, axis=1)\n",
    "df['margin'] = df['margin'].apply(lambda x: float(x)).round(4)"
   ]
  },
  {
   "cell_type": "code",
   "execution_count": 10,
   "id": "03953fb8-872e-4c89-94b7-fdf20977d849",
   "metadata": {
    "tags": []
   },
   "outputs": [],
   "source": [
    "# Specify date range\n",
    "df = df[(df['date'] >= start_date) & (df['date'] <= end_date)]"
   ]
  },
  {
   "cell_type": "code",
   "execution_count": 11,
   "id": "277467ba-e794-4aaf-9739-f885d20b089b",
   "metadata": {
    "tags": []
   },
   "outputs": [],
   "source": [
    "#Filtros\n",
    "df = df[df['payer'] != 'EXPIRED ORDERS']\n",
    "df = df[df['amount'] != 0] # Excluding 0 (flag A & Flag C), defined in EDA"
   ]
  },
  {
   "cell_type": "code",
   "execution_count": 12,
   "id": "b401594a-ef32-4ec2-96dd-a9d8dbbb6606",
   "metadata": {
    "tags": []
   },
   "outputs": [
    {
     "data": {
      "text/plain": [
       "Decimal('27565805252.2325')"
      ]
     },
     "execution_count": 12,
     "metadata": {},
     "output_type": "execute_result"
    }
   ],
   "source": [
    "df['amount'].sum()"
   ]
  },
  {
   "cell_type": "code",
   "execution_count": 13,
   "id": "5b93a864-897d-446c-b401-9e2647e32c47",
   "metadata": {
    "tags": []
   },
   "outputs": [],
   "source": [
    "#df.isna().sum() # Reviso si hay valores nulos"
   ]
  },
  {
   "cell_type": "code",
   "execution_count": 14,
   "id": "e878103e-04a1-4f9a-b935-3522440d84f3",
   "metadata": {
    "tags": []
   },
   "outputs": [],
   "source": [
    "def fill_missing_dates(df, start_date, end_date):\n",
    "    \"\"\"\n",
    "    Fill missing dates in the DataFrame with zero values and ensure all date ranges are covered.\n",
    "\n",
    "    Args:\n",
    "        df (pandas.DataFrame): Input DataFrame with columns 'date', 'amount', 'tx_cancelled', 'payer_country', etc.\n",
    "        start_date (str or datetime.date): Start date of the desired date range.\n",
    "        end_date (str or datetime.date): End date of the desired date range.\n",
    "\n",
    "    Returns:\n",
    "        pandas.DataFrame: DataFrame with missing dates filled and all date ranges covered.\n",
    "    \"\"\"\n",
    "    # Convertir la columna 'date' a tipo datetime si aún no lo está\n",
    "    df['date'] = pd.to_datetime(df['date'])\n",
    "    \n",
    "    # Definir el rango de fechas deseado\n",
    "    date_range = pd.date_range(start=start_date, end=end_date)\n",
    "    \n",
    "    # Obtener el rango de fechas mínimo y máximo para cada 'payer_country'\n",
    "    payer_country_ranges = df.groupby('payer_country')['date'].agg(['min', 'max']).reset_index()\n",
    "    payer_country_ranges['min'] = payer_country_ranges['min'].fillna(pd.to_datetime(start_date))\n",
    "    payer_country_ranges['max'] = payer_country_ranges['max'].fillna(pd.to_datetime(end_date))\n",
    "    \n",
    "    # Combinar el DataFrame original con el DataFrame de todas las combinaciones de fechas\n",
    "    df_filled = pd.DataFrame()\n",
    "    for index, row in payer_country_ranges.iterrows():\n",
    "        payer_country = row['payer_country']\n",
    "        start_payer = row['min']\n",
    "        end_payer = row['max']\n",
    "        \n",
    "        # Filtrar el DataFrame original por 'payer_country'\n",
    "        df_payer = df[df['payer_country'] == payer_country]\n",
    "        \n",
    "        # Rellenar valores faltantes en el rango de fechas del 'payer_country'\n",
    "        date_range_payer = pd.date_range(start=start_payer, end=end_payer)\n",
    "        date_combinations = pd.DataFrame({'date': date_range_payer, 'payer_country': payer_country})\n",
    "        df_combined = pd.merge(date_combinations, df_payer, on=['date', 'payer_country'], how='left')\n",
    "        \n",
    "        # Rellenar valores faltantes con cero\n",
    "        numeric_columns = ['amount', 'coupon_count', 'tx', 'gp', 'margin']\n",
    "        df_combined[numeric_columns] = df_combined[numeric_columns].fillna(0)\n",
    "        \n",
    "        # Rellenar valores faltantes en las columnas 'payer' y 'country' utilizando el método ffill\n",
    "        df_combined[['payer', 'country']] = df_combined[['payer', 'country']].ffill()\n",
    "        \n",
    "        # Rellenar valores faltantes en la columna 'day' con los valores de la columna 'date' cuando sea NaN\n",
    "        df_combined['day'] = df_combined['day'].fillna(df_combined['date'])\n",
    "        \n",
    "        df_filled = pd.concat([df_filled, df_combined], ignore_index=True)\n",
    "    \n",
    "    return df_filled"
   ]
  },
  {
   "cell_type": "code",
   "execution_count": 15,
   "id": "310b7e06-2580-4791-9def-e9ab6d33d22b",
   "metadata": {
    "tags": []
   },
   "outputs": [],
   "source": [
    "# Fill missing dates in df_filtered\n",
    "df_filled = fill_missing_dates(df, start_date, end_date)"
   ]
  },
  {
   "cell_type": "code",
   "execution_count": 16,
   "id": "b178ac79-9e01-4ac9-81a4-d3c78318594c",
   "metadata": {
    "tags": []
   },
   "outputs": [
    {
     "data": {
      "text/plain": [
       "Decimal('27565805252.2325')"
      ]
     },
     "execution_count": 16,
     "metadata": {},
     "output_type": "execute_result"
    }
   ],
   "source": [
    "df_filled['amount'].sum()"
   ]
  },
  {
   "cell_type": "code",
   "execution_count": 17,
   "id": "60b0d967-731c-4d25-b821-f6c011c3c557",
   "metadata": {
    "tags": []
   },
   "outputs": [],
   "source": [
    "#df_filled[df_filled['tx'] == 0] # Hay casos donde tx es 0, pero GP no es cero"
   ]
  },
  {
   "cell_type": "code",
   "execution_count": 18,
   "id": "35536510-2c7d-417c-8a0b-fdfe709f905d",
   "metadata": {
    "tags": []
   },
   "outputs": [],
   "source": [
    "#Connection to daily_forex \n",
    "forex_table = 'last_daily_forex_country'\n",
    "\n",
    "rates = wr.athena.read_sql_table(\n",
    "    table=forex_table,\n",
    "    database=database_name)"
   ]
  },
  {
   "cell_type": "code",
   "execution_count": 19,
   "id": "66759f8c-e8d1-41f9-89ab-1fc95c7f4679",
   "metadata": {
    "tags": []
   },
   "outputs": [],
   "source": [
    "# FOREX - Selecting columns & renaming\n",
    "rates['day'] = pd.to_datetime(rates['day'])\n",
    "rates = rates[['day','country','max_feed_price']]"
   ]
  },
  {
   "cell_type": "markdown",
   "id": "357a924a-5267-4679-9e45-44d2b7ef1197",
   "metadata": {
    "tags": []
   },
   "source": [
    "### UNIVERSE"
   ]
  },
  {
   "cell_type": "code",
   "execution_count": 20,
   "id": "3650fdb8-4062-4f75-8a4c-6110f10de6f2",
   "metadata": {
    "tags": []
   },
   "outputs": [],
   "source": [
    "# AGING FILTER\n",
    "\n",
    "def aging_filter(df):\n",
    "    \"\"\"\n",
    "    Filter a DataFrame based on aging criteria described in aging.ipynb\n",
    "\n",
    "    Args:\n",
    "        df (pandas.DataFrame): Input DataFrame with columns 'date', 'payer_country', 'amount', and 'tx'.\n",
    "\n",
    "    Returns:\n",
    "        pandas.DataFrame: Filtered DataFrame containing only the rows that meet the aging criteria.\n",
    "    \"\"\"\n",
    "    # Find the last date in the sample\n",
    "    last_date_sample = df['day'].max()\n",
    "\n",
    "    # Calculate the limit date, one day before the last date in the sample\n",
    "    limit_date = last_date_sample - pd.Timedelta(days=1)\n",
    "\n",
    "    # Aggregate data by 'payer_country'\n",
    "    result = (\n",
    "        df.groupby('payer_country')\n",
    "        .agg(\n",
    "            first_date=('day', 'min'),\n",
    "            last_date=('day', 'max'),\n",
    "            total_amount=('amount', 'sum'),\n",
    "            total_transactions=('tx', 'sum')\n",
    "        )\n",
    "        .reset_index()\n",
    "    )\n",
    "\n",
    "    # Calculate age of payer\n",
    "    result['age_payer'] = ((limit_date - result['first_date']).dt.days / 30).round(2)\n",
    "\n",
    "    # Calculate active time\n",
    "    result['active_time'] = ((result['last_date'] - result['first_date']).dt.days / 30).round(2)\n",
    "\n",
    "    # Calculate inactive time\n",
    "    result['inactive_time'] = ((limit_date - result['last_date']).dt.days / 30).round(2)\n",
    "\n",
    "    # Sort the DataFrame by 'total_amount' from highest to lowest\n",
    "    result = result.sort_values(by='total_amount', ascending=False)\n",
    "\n",
    "    # Filter the DataFrame based on conditions\n",
    "    aging_universe = result.loc[\n",
    "        (result.age_payer >= 3) & \n",
    "        (result.inactive_time <= 3) & \n",
    "        (result.total_amount > 10000) & \n",
    "        (result.total_transactions > 50)\n",
    "    ]\n",
    "    \n",
    "    return aging_universe"
   ]
  },
  {
   "cell_type": "code",
   "execution_count": 21,
   "id": "e1970265-205a-4205-a298-6d55ebde490b",
   "metadata": {
    "tags": []
   },
   "outputs": [
    {
     "name": "stderr",
     "output_type": "stream",
     "text": [
      "/tmp/ipykernel_538/2252516470.py:4: SettingWithCopyWarning: \n",
      "A value is trying to be set on a copy of a slice from a DataFrame.\n",
      "Try using .loc[row_indexer,col_indexer] = value instead\n",
      "\n",
      "See the caveats in the documentation: https://pandas.pydata.org/pandas-docs/stable/user_guide/indexing.html#returning-a-view-versus-a-copy\n",
      "  df_filtered['day'] = pd.to_datetime(df_filtered['day'])\n"
     ]
    }
   ],
   "source": [
    "# Defining Universe\n",
    "df_aging = aging_filter(df_filled) #Filtering 'payer_country' based on Aging notebook\n",
    "df_filtered = df_filled[df_filled['payer_country'].isin(df_aging['payer_country'])] # Applying aging filters \n",
    "df_filtered['day'] = pd.to_datetime(df_filtered['day'])"
   ]
  },
  {
   "cell_type": "code",
   "execution_count": 22,
   "id": "ca0f949b-657b-4de6-a8f8-e32b5d433d15",
   "metadata": {
    "tags": []
   },
   "outputs": [
    {
     "data": {
      "text/plain": [
       "(Decimal('26753064533.7617'), (114347, 10))"
      ]
     },
     "execution_count": 22,
     "metadata": {},
     "output_type": "execute_result"
    }
   ],
   "source": [
    "df_filtered['amount'].sum(), df_filtered.shape"
   ]
  },
  {
   "cell_type": "code",
   "execution_count": 23,
   "id": "9be90170-ba15-4b8a-9b8d-57f43955371c",
   "metadata": {
    "tags": []
   },
   "outputs": [
    {
     "data": {
      "text/html": [
       "<div>\n",
       "<style scoped>\n",
       "    .dataframe tbody tr th:only-of-type {\n",
       "        vertical-align: middle;\n",
       "    }\n",
       "\n",
       "    .dataframe tbody tr th {\n",
       "        vertical-align: top;\n",
       "    }\n",
       "\n",
       "    .dataframe thead th {\n",
       "        text-align: right;\n",
       "    }\n",
       "</style>\n",
       "<table border=\"1\" class=\"dataframe\">\n",
       "  <thead>\n",
       "    <tr style=\"text-align: right;\">\n",
       "      <th></th>\n",
       "      <th>date</th>\n",
       "      <th>payer_country</th>\n",
       "      <th>payer</th>\n",
       "      <th>country</th>\n",
       "      <th>tx</th>\n",
       "      <th>amount</th>\n",
       "      <th>coupon_count</th>\n",
       "      <th>gp</th>\n",
       "      <th>day</th>\n",
       "      <th>margin</th>\n",
       "    </tr>\n",
       "  </thead>\n",
       "  <tbody>\n",
       "    <tr>\n",
       "      <th>0</th>\n",
       "      <td>2023-02-28</td>\n",
       "      <td>24XORO_MEXICO</td>\n",
       "      <td>24XORO</td>\n",
       "      <td>MEXICO</td>\n",
       "      <td>1</td>\n",
       "      <td>20.0000</td>\n",
       "      <td>0</td>\n",
       "      <td>3.5600000</td>\n",
       "      <td>2023-02-28</td>\n",
       "      <td>3.5600</td>\n",
       "    </tr>\n",
       "    <tr>\n",
       "      <th>1</th>\n",
       "      <td>2023-03-01</td>\n",
       "      <td>24XORO_MEXICO</td>\n",
       "      <td>24XORO</td>\n",
       "      <td>MEXICO</td>\n",
       "      <td>1</td>\n",
       "      <td>25.0000</td>\n",
       "      <td>0</td>\n",
       "      <td>6.2600000</td>\n",
       "      <td>2023-03-01</td>\n",
       "      <td>6.2600</td>\n",
       "    </tr>\n",
       "    <tr>\n",
       "      <th>2</th>\n",
       "      <td>2023-03-02</td>\n",
       "      <td>24XORO_MEXICO</td>\n",
       "      <td>24XORO</td>\n",
       "      <td>MEXICO</td>\n",
       "      <td>0</td>\n",
       "      <td>0</td>\n",
       "      <td>0</td>\n",
       "      <td>0</td>\n",
       "      <td>2023-03-02</td>\n",
       "      <td>0.0000</td>\n",
       "    </tr>\n",
       "    <tr>\n",
       "      <th>3</th>\n",
       "      <td>2023-03-03</td>\n",
       "      <td>24XORO_MEXICO</td>\n",
       "      <td>24XORO</td>\n",
       "      <td>MEXICO</td>\n",
       "      <td>0</td>\n",
       "      <td>0</td>\n",
       "      <td>0</td>\n",
       "      <td>0</td>\n",
       "      <td>2023-03-03</td>\n",
       "      <td>0.0000</td>\n",
       "    </tr>\n",
       "    <tr>\n",
       "      <th>4</th>\n",
       "      <td>2023-03-04</td>\n",
       "      <td>24XORO_MEXICO</td>\n",
       "      <td>24XORO</td>\n",
       "      <td>MEXICO</td>\n",
       "      <td>0</td>\n",
       "      <td>0</td>\n",
       "      <td>0</td>\n",
       "      <td>0</td>\n",
       "      <td>2023-03-04</td>\n",
       "      <td>0.0000</td>\n",
       "    </tr>\n",
       "    <tr>\n",
       "      <th>...</th>\n",
       "      <td>...</td>\n",
       "      <td>...</td>\n",
       "      <td>...</td>\n",
       "      <td>...</td>\n",
       "      <td>...</td>\n",
       "      <td>...</td>\n",
       "      <td>...</td>\n",
       "      <td>...</td>\n",
       "      <td>...</td>\n",
       "      <td>...</td>\n",
       "    </tr>\n",
       "    <tr>\n",
       "      <th>143855</th>\n",
       "      <td>2023-12-17</td>\n",
       "      <td>ZEEPAY_GHANA</td>\n",
       "      <td>ZEEPAY</td>\n",
       "      <td>GHANA</td>\n",
       "      <td>1</td>\n",
       "      <td>173.0000</td>\n",
       "      <td>0</td>\n",
       "      <td>10.5000000</td>\n",
       "      <td>2023-12-17</td>\n",
       "      <td>10.5000</td>\n",
       "    </tr>\n",
       "    <tr>\n",
       "      <th>143856</th>\n",
       "      <td>2023-12-18</td>\n",
       "      <td>ZEEPAY_GHANA</td>\n",
       "      <td>ZEEPAY</td>\n",
       "      <td>GHANA</td>\n",
       "      <td>7</td>\n",
       "      <td>3176.0000</td>\n",
       "      <td>0</td>\n",
       "      <td>27.7000000</td>\n",
       "      <td>2023-12-18</td>\n",
       "      <td>3.9571</td>\n",
       "    </tr>\n",
       "    <tr>\n",
       "      <th>143857</th>\n",
       "      <td>2023-12-19</td>\n",
       "      <td>ZEEPAY_GHANA</td>\n",
       "      <td>ZEEPAY</td>\n",
       "      <td>GHANA</td>\n",
       "      <td>4</td>\n",
       "      <td>585.4300</td>\n",
       "      <td>0</td>\n",
       "      <td>14.9000000</td>\n",
       "      <td>2023-12-19</td>\n",
       "      <td>3.7250</td>\n",
       "    </tr>\n",
       "    <tr>\n",
       "      <th>143858</th>\n",
       "      <td>2023-12-20</td>\n",
       "      <td>ZEEPAY_GHANA</td>\n",
       "      <td>ZEEPAY</td>\n",
       "      <td>GHANA</td>\n",
       "      <td>3</td>\n",
       "      <td>580.0100</td>\n",
       "      <td>0</td>\n",
       "      <td>11.5900000</td>\n",
       "      <td>2023-12-20</td>\n",
       "      <td>3.8633</td>\n",
       "    </tr>\n",
       "    <tr>\n",
       "      <th>143859</th>\n",
       "      <td>2023-12-21</td>\n",
       "      <td>ZEEPAY_GHANA</td>\n",
       "      <td>ZEEPAY</td>\n",
       "      <td>GHANA</td>\n",
       "      <td>6</td>\n",
       "      <td>2116.0000</td>\n",
       "      <td>0</td>\n",
       "      <td>31.1000000</td>\n",
       "      <td>2023-12-21</td>\n",
       "      <td>5.1833</td>\n",
       "    </tr>\n",
       "  </tbody>\n",
       "</table>\n",
       "<p>114347 rows × 10 columns</p>\n",
       "</div>"
      ],
      "text/plain": [
       "             date  payer_country   payer country  tx     amount  coupon_count  \\\n",
       "0      2023-02-28  24XORO_MEXICO  24XORO  MEXICO   1    20.0000             0   \n",
       "1      2023-03-01  24XORO_MEXICO  24XORO  MEXICO   1    25.0000             0   \n",
       "2      2023-03-02  24XORO_MEXICO  24XORO  MEXICO   0          0             0   \n",
       "3      2023-03-03  24XORO_MEXICO  24XORO  MEXICO   0          0             0   \n",
       "4      2023-03-04  24XORO_MEXICO  24XORO  MEXICO   0          0             0   \n",
       "...           ...            ...     ...     ...  ..        ...           ...   \n",
       "143855 2023-12-17   ZEEPAY_GHANA  ZEEPAY   GHANA   1   173.0000             0   \n",
       "143856 2023-12-18   ZEEPAY_GHANA  ZEEPAY   GHANA   7  3176.0000             0   \n",
       "143857 2023-12-19   ZEEPAY_GHANA  ZEEPAY   GHANA   4   585.4300             0   \n",
       "143858 2023-12-20   ZEEPAY_GHANA  ZEEPAY   GHANA   3   580.0100             0   \n",
       "143859 2023-12-21   ZEEPAY_GHANA  ZEEPAY   GHANA   6  2116.0000             0   \n",
       "\n",
       "                gp        day   margin  \n",
       "0        3.5600000 2023-02-28   3.5600  \n",
       "1        6.2600000 2023-03-01   6.2600  \n",
       "2                0 2023-03-02   0.0000  \n",
       "3                0 2023-03-03   0.0000  \n",
       "4                0 2023-03-04   0.0000  \n",
       "...            ...        ...      ...  \n",
       "143855  10.5000000 2023-12-17  10.5000  \n",
       "143856  27.7000000 2023-12-18   3.9571  \n",
       "143857  14.9000000 2023-12-19   3.7250  \n",
       "143858  11.5900000 2023-12-20   3.8633  \n",
       "143859  31.1000000 2023-12-21   5.1833  \n",
       "\n",
       "[114347 rows x 10 columns]"
      ]
     },
     "execution_count": 23,
     "metadata": {},
     "output_type": "execute_result"
    }
   ],
   "source": [
    "df_filtered.sort_values(['payer_country','date'])"
   ]
  },
  {
   "cell_type": "markdown",
   "id": "0631e931-d705-48f3-8a5d-7d47edca6e91",
   "metadata": {
    "tags": []
   },
   "source": [
    "### VARIABLES"
   ]
  },
  {
   "cell_type": "code",
   "execution_count": 24,
   "id": "9ac793bd-cc12-41ad-9b33-f60a0a294041",
   "metadata": {
    "tags": []
   },
   "outputs": [],
   "source": [
    "def generate_lag_and_variation(df, num_lags):\n",
    "    \"\"\"\n",
    "    Generate lagged values and variations for a given df\n",
    "\n",
    "    Args:\n",
    "        df (pandas.DataFrame): Input df with columns 'symbol' and 'feed_price'.\n",
    "        num_lags (int): Number of lagged values to generate.\n",
    "\n",
    "    Returns:\n",
    "        pandas.DataFrame: df with lagged values and variations added as new columns.\n",
    "    \"\"\"\n",
    "    # Create columns for each day's lag up to the defined maximum\n",
    "    for i in range(1, num_lags + 1):\n",
    "        col_name = f'rate_lag_{i}'\n",
    "        # Shift the 'feed_price' column grouped by 'symbol'\n",
    "        df[col_name] = df.groupby('country')['max_feed_price'].shift(i)\n",
    "\n",
    "    # Calculate the variation columns between consecutive lags\n",
    "    for i in range(1, num_lags):\n",
    "        col_name = f'var_rate_lag_{i}'\n",
    "        # Calculate the difference between consecutive lag columns\n",
    "        df[col_name] = df[f'rate_lag_{i}'] - df[f'rate_lag_{i + 1}']\n",
    "\n",
    "    return df\n"
   ]
  },
  {
   "cell_type": "code",
   "execution_count": 25,
   "id": "1076de06-6aa9-4e6f-a876-5bf1f5cd05e8",
   "metadata": {
    "tags": []
   },
   "outputs": [],
   "source": [
    "rates_number = 30\n",
    "rates = rates.sort_values(['country','day'])\n",
    "rates = generate_lag_and_variation(rates, rates_number)"
   ]
  },
  {
   "cell_type": "code",
   "execution_count": 26,
   "id": "69c54aeb-1d25-44c7-ae3a-02da228415f8",
   "metadata": {
    "tags": []
   },
   "outputs": [],
   "source": [
    "# Primera fusion: traigo rates al df donde filtré el universo\n",
    "df1 = pd.merge(df_filtered, rates, on=['day', 'country'], how='left')"
   ]
  },
  {
   "cell_type": "code",
   "execution_count": 27,
   "id": "eac77082-dc5d-437e-853c-3a36acef2a63",
   "metadata": {
    "tags": []
   },
   "outputs": [],
   "source": [
    "df1['date'] = pd.to_datetime(df1['date'])"
   ]
  },
  {
   "cell_type": "code",
   "execution_count": 28,
   "id": "90a1dc20-10e6-449d-9c33-fc71432b9217",
   "metadata": {
    "tags": []
   },
   "outputs": [
    {
     "data": {
      "text/plain": [
       "(Decimal('26753064533.7617'), (114347, 70))"
      ]
     },
     "execution_count": 28,
     "metadata": {},
     "output_type": "execute_result"
    }
   ],
   "source": [
    "df1['amount'].sum(), df1.shape"
   ]
  },
  {
   "cell_type": "code",
   "execution_count": 29,
   "id": "8297124d-622a-45d7-8155-393e3fd94d2c",
   "metadata": {
    "tags": []
   },
   "outputs": [],
   "source": [
    "### EFFECT OF CANCELED TRANSACTIONS ###\n",
    "# ES DISTINTA PORQUE DAILY_CHECK TIENE ALGUNOS FILTROS Y ESTA NO\n",
    "database_name= 'analytics'\n",
    "table2_name = 'daily_sales_count_cancelled_v2'##WE LOAD THE BASE WITH CANCELLATIONS\n",
    "\n",
    "df_canc = wr.athena.read_sql_table(\n",
    "    table=table2_name,\n",
    "    database=database_name)"
   ]
  },
  {
   "cell_type": "code",
   "execution_count": 30,
   "id": "d47f8435-be4b-4928-9ebc-2ed803530604",
   "metadata": {
    "tags": []
   },
   "outputs": [],
   "source": [
    "#df_canc['date'].max()"
   ]
  },
  {
   "cell_type": "code",
   "execution_count": 31,
   "id": "ac5ce35c-de89-4519-8e7a-54bfc77363e7",
   "metadata": {
    "tags": []
   },
   "outputs": [],
   "source": [
    "df_canc['date'] = pd.to_datetime(df_canc['date'])\n",
    "df_canc['payer_country'] = df_canc['payer'] +'_'+ df_canc['country']\n",
    "# Specific date range\n",
    "df_canc = df_canc[(df_canc['date'] >= start_date) & (df_canc['date'] <= end_date)]"
   ]
  },
  {
   "cell_type": "code",
   "execution_count": 32,
   "id": "16d11c32-48f4-4fd2-a19a-4ef7d42d66c1",
   "metadata": {
    "tags": []
   },
   "outputs": [
    {
     "data": {
      "text/plain": [
       "(Decimal('27565805252.2325'), (110714, 7), 326)"
      ]
     },
     "execution_count": 32,
     "metadata": {},
     "output_type": "execute_result"
    }
   ],
   "source": [
    "df_canc['amount'].sum(), df_canc.shape, df_canc['payer_country'].nunique()"
   ]
  },
  {
   "cell_type": "code",
   "execution_count": 33,
   "id": "93911d44-11c1-4b55-804c-b6e24b9397d7",
   "metadata": {
    "tags": []
   },
   "outputs": [
    {
     "data": {
      "text/html": [
       "<div>\n",
       "<style scoped>\n",
       "    .dataframe tbody tr th:only-of-type {\n",
       "        vertical-align: middle;\n",
       "    }\n",
       "\n",
       "    .dataframe tbody tr th {\n",
       "        vertical-align: top;\n",
       "    }\n",
       "\n",
       "    .dataframe thead th {\n",
       "        text-align: right;\n",
       "    }\n",
       "</style>\n",
       "<table border=\"1\" class=\"dataframe\">\n",
       "  <thead>\n",
       "    <tr style=\"text-align: right;\">\n",
       "      <th></th>\n",
       "      <th>payer</th>\n",
       "      <th>country</th>\n",
       "      <th>date</th>\n",
       "      <th>amount</th>\n",
       "      <th>tx_cancelled</th>\n",
       "      <th>day</th>\n",
       "      <th>payer_country</th>\n",
       "    </tr>\n",
       "  </thead>\n",
       "  <tbody>\n",
       "    <tr>\n",
       "      <th>0</th>\n",
       "      <td>MICOOPE-FENACOAC (RED CHAPINA)</td>\n",
       "      <td>GUATEMALA</td>\n",
       "      <td>2021-09-18</td>\n",
       "      <td>120143.2800</td>\n",
       "      <td>5</td>\n",
       "      <td>2021-09-18</td>\n",
       "      <td>MICOOPE-FENACOAC (RED CHAPINA)_GUATEMALA</td>\n",
       "    </tr>\n",
       "    <tr>\n",
       "      <th>1</th>\n",
       "      <td>FEDECREDITO (RYT)</td>\n",
       "      <td>EL SALVADOR</td>\n",
       "      <td>2021-09-18</td>\n",
       "      <td>209394.0000</td>\n",
       "      <td>53</td>\n",
       "      <td>2021-09-18</td>\n",
       "      <td>FEDECREDITO (RYT)_EL SALVADOR</td>\n",
       "    </tr>\n",
       "    <tr>\n",
       "      <th>2</th>\n",
       "      <td>DAVIVIENDA</td>\n",
       "      <td>COLOMBIA</td>\n",
       "      <td>2021-09-18</td>\n",
       "      <td>44320.4700</td>\n",
       "      <td>17</td>\n",
       "      <td>2021-09-18</td>\n",
       "      <td>DAVIVIENDA_COLOMBIA</td>\n",
       "    </tr>\n",
       "    <tr>\n",
       "      <th>3</th>\n",
       "      <td>PROMERICA</td>\n",
       "      <td>EL SALVADOR</td>\n",
       "      <td>2021-09-18</td>\n",
       "      <td>31312.0000</td>\n",
       "      <td>11</td>\n",
       "      <td>2021-09-18</td>\n",
       "      <td>PROMERICA_EL SALVADOR</td>\n",
       "    </tr>\n",
       "    <tr>\n",
       "      <th>4</th>\n",
       "      <td>ABANK (TN)</td>\n",
       "      <td>EL SALVADOR</td>\n",
       "      <td>2021-09-18</td>\n",
       "      <td>21180.0000</td>\n",
       "      <td>11</td>\n",
       "      <td>2021-09-18</td>\n",
       "      <td>ABANK (TN)_EL SALVADOR</td>\n",
       "    </tr>\n",
       "  </tbody>\n",
       "</table>\n",
       "</div>"
      ],
      "text/plain": [
       "                            payer      country       date       amount  \\\n",
       "0  MICOOPE-FENACOAC (RED CHAPINA)    GUATEMALA 2021-09-18  120143.2800   \n",
       "1               FEDECREDITO (RYT)  EL SALVADOR 2021-09-18  209394.0000   \n",
       "2                      DAVIVIENDA     COLOMBIA 2021-09-18   44320.4700   \n",
       "3                       PROMERICA  EL SALVADOR 2021-09-18   31312.0000   \n",
       "4                      ABANK (TN)  EL SALVADOR 2021-09-18   21180.0000   \n",
       "\n",
       "   tx_cancelled         day                             payer_country  \n",
       "0             5  2021-09-18  MICOOPE-FENACOAC (RED CHAPINA)_GUATEMALA  \n",
       "1            53  2021-09-18             FEDECREDITO (RYT)_EL SALVADOR  \n",
       "2            17  2021-09-18                       DAVIVIENDA_COLOMBIA  \n",
       "3            11  2021-09-18                     PROMERICA_EL SALVADOR  \n",
       "4            11  2021-09-18                    ABANK (TN)_EL SALVADOR  "
      ]
     },
     "execution_count": 33,
     "metadata": {},
     "output_type": "execute_result"
    }
   ],
   "source": [
    "df_canc.head()"
   ]
  },
  {
   "cell_type": "code",
   "execution_count": 34,
   "id": "86ee53d4-26bc-413f-884b-235a94912e43",
   "metadata": {
    "tags": []
   },
   "outputs": [],
   "source": [
    "def fill_missing_dates(df, start_date, end_date):\n",
    "    \"\"\"\n",
    "    Fill missing dates in the DataFrame with zero values and ensure all date ranges are covered.\n",
    "\n",
    "    Args:\n",
    "        df (pandas.DataFrame): Input DataFrame with columns 'date', 'amount', 'tx_cancelled', 'payer_country', etc.\n",
    "        start_date (str or datetime.date): Start date of the desired date range.\n",
    "        end_date (str or datetime.date): End date of the desired date range.\n",
    "\n",
    "    Returns:\n",
    "        pandas.DataFrame: DataFrame with missing dates filled and all date ranges covered.\n",
    "    \"\"\"\n",
    "    # Create an empty DataFrame with the specified date range\n",
    "    date_range = pd.date_range(start=start_date, end=end_date)\n",
    "    df_fill = pd.DataFrame({'date': date_range, 'amount': 0, 'tx_cancelled': 0})\n",
    "    df_fill['date'] = pd.to_datetime(df_fill['date']).dt.date\n",
    "\n",
    "    # Sort the original DataFrame by 'country', 'payer', and 'date'\n",
    "    df = df.sort_values(by=['country', 'payer', 'date'])\n",
    "\n",
    "    # Create an empty DataFrame to hold the result\n",
    "    result_df = pd.DataFrame()\n",
    "\n",
    "    # Loop through each 'payer_country'\n",
    "    for payer_country in df['payer_country'].unique():\n",
    "        # Filter DataFrame by 'payer_country'\n",
    "        df_aux = df[df['payer_country'] == payer_country]\n",
    "\n",
    "        # Combine df_aux (payer_country) with df_fill, keeping values from df_aux and filling missing dates\n",
    "        merged_df = df_aux.set_index('date').combine_first(df_fill.set_index('date')).reset_index()\n",
    "\n",
    "        # Fill missing values in specified columns\n",
    "        columns_to_fill = ['payer', 'country', 'payer_country']\n",
    "        merged_df[columns_to_fill] = merged_df[columns_to_fill].ffill().bfill()\n",
    "\n",
    "        # Concatenate the result with the final DataFrame\n",
    "        result_df = pd.concat([result_df, merged_df], ignore_index=True)\n",
    "\n",
    "    return result_df"
   ]
  },
  {
   "cell_type": "code",
   "execution_count": 35,
   "id": "d58f29d3-3970-46ab-9acc-d2174a957a16",
   "metadata": {
    "tags": []
   },
   "outputs": [],
   "source": [
    "# Call the function with the specified start_date and end_date\n",
    "df_full = fill_missing_dates(df_canc, start_date, end_date)"
   ]
  },
  {
   "cell_type": "code",
   "execution_count": 36,
   "id": "cbc4911d-b6d7-4f04-81a4-538cc42f678a",
   "metadata": {
    "tags": []
   },
   "outputs": [
    {
     "data": {
      "text/plain": [
       "(Decimal('27565805252.2325'), (356970, 7))"
      ]
     },
     "execution_count": 36,
     "metadata": {},
     "output_type": "execute_result"
    }
   ],
   "source": [
    "df_full['amount'].sum(), df_full.shape"
   ]
  },
  {
   "cell_type": "code",
   "execution_count": 37,
   "id": "ff269a34-c959-48c7-ad25-df77749c5ad3",
   "metadata": {
    "tags": []
   },
   "outputs": [
    {
     "data": {
      "text/html": [
       "<div>\n",
       "<style scoped>\n",
       "    .dataframe tbody tr th:only-of-type {\n",
       "        vertical-align: middle;\n",
       "    }\n",
       "\n",
       "    .dataframe tbody tr th {\n",
       "        vertical-align: top;\n",
       "    }\n",
       "\n",
       "    .dataframe thead th {\n",
       "        text-align: right;\n",
       "    }\n",
       "</style>\n",
       "<table border=\"1\" class=\"dataframe\">\n",
       "  <thead>\n",
       "    <tr style=\"text-align: right;\">\n",
       "      <th></th>\n",
       "      <th>date</th>\n",
       "      <th>amount</th>\n",
       "      <th>country</th>\n",
       "      <th>day</th>\n",
       "      <th>payer</th>\n",
       "      <th>payer_country</th>\n",
       "      <th>tx_cancelled</th>\n",
       "    </tr>\n",
       "  </thead>\n",
       "  <tbody>\n",
       "    <tr>\n",
       "      <th>0</th>\n",
       "      <td>2021-01-01</td>\n",
       "      <td>0</td>\n",
       "      <td>ARGENTINA</td>\n",
       "      <td>&lt;NA&gt;</td>\n",
       "      <td>AFEX</td>\n",
       "      <td>AFEX_ARGENTINA</td>\n",
       "      <td>0</td>\n",
       "    </tr>\n",
       "    <tr>\n",
       "      <th>1</th>\n",
       "      <td>2021-01-02</td>\n",
       "      <td>0</td>\n",
       "      <td>ARGENTINA</td>\n",
       "      <td>&lt;NA&gt;</td>\n",
       "      <td>AFEX</td>\n",
       "      <td>AFEX_ARGENTINA</td>\n",
       "      <td>0</td>\n",
       "    </tr>\n",
       "    <tr>\n",
       "      <th>2</th>\n",
       "      <td>2021-01-03</td>\n",
       "      <td>0</td>\n",
       "      <td>ARGENTINA</td>\n",
       "      <td>&lt;NA&gt;</td>\n",
       "      <td>AFEX</td>\n",
       "      <td>AFEX_ARGENTINA</td>\n",
       "      <td>0</td>\n",
       "    </tr>\n",
       "    <tr>\n",
       "      <th>3</th>\n",
       "      <td>2021-01-04</td>\n",
       "      <td>0</td>\n",
       "      <td>ARGENTINA</td>\n",
       "      <td>&lt;NA&gt;</td>\n",
       "      <td>AFEX</td>\n",
       "      <td>AFEX_ARGENTINA</td>\n",
       "      <td>0</td>\n",
       "    </tr>\n",
       "    <tr>\n",
       "      <th>4</th>\n",
       "      <td>2021-01-05</td>\n",
       "      <td>0</td>\n",
       "      <td>ARGENTINA</td>\n",
       "      <td>&lt;NA&gt;</td>\n",
       "      <td>AFEX</td>\n",
       "      <td>AFEX_ARGENTINA</td>\n",
       "      <td>0</td>\n",
       "    </tr>\n",
       "    <tr>\n",
       "      <th>...</th>\n",
       "      <td>...</td>\n",
       "      <td>...</td>\n",
       "      <td>...</td>\n",
       "      <td>...</td>\n",
       "      <td>...</td>\n",
       "      <td>...</td>\n",
       "      <td>...</td>\n",
       "    </tr>\n",
       "    <tr>\n",
       "      <th>356965</th>\n",
       "      <td>2023-12-27</td>\n",
       "      <td>0</td>\n",
       "      <td>ZIMBABWE</td>\n",
       "      <td>&lt;NA&gt;</td>\n",
       "      <td>TRANSFERTO - THUNES</td>\n",
       "      <td>TRANSFERTO - THUNES_ZIMBABWE</td>\n",
       "      <td>0</td>\n",
       "    </tr>\n",
       "    <tr>\n",
       "      <th>356966</th>\n",
       "      <td>2023-12-28</td>\n",
       "      <td>0</td>\n",
       "      <td>ZIMBABWE</td>\n",
       "      <td>&lt;NA&gt;</td>\n",
       "      <td>TRANSFERTO - THUNES</td>\n",
       "      <td>TRANSFERTO - THUNES_ZIMBABWE</td>\n",
       "      <td>0</td>\n",
       "    </tr>\n",
       "    <tr>\n",
       "      <th>356967</th>\n",
       "      <td>2023-12-29</td>\n",
       "      <td>0</td>\n",
       "      <td>ZIMBABWE</td>\n",
       "      <td>&lt;NA&gt;</td>\n",
       "      <td>TRANSFERTO - THUNES</td>\n",
       "      <td>TRANSFERTO - THUNES_ZIMBABWE</td>\n",
       "      <td>0</td>\n",
       "    </tr>\n",
       "    <tr>\n",
       "      <th>356968</th>\n",
       "      <td>2023-12-30</td>\n",
       "      <td>0</td>\n",
       "      <td>ZIMBABWE</td>\n",
       "      <td>&lt;NA&gt;</td>\n",
       "      <td>TRANSFERTO - THUNES</td>\n",
       "      <td>TRANSFERTO - THUNES_ZIMBABWE</td>\n",
       "      <td>0</td>\n",
       "    </tr>\n",
       "    <tr>\n",
       "      <th>356969</th>\n",
       "      <td>2023-12-31</td>\n",
       "      <td>0</td>\n",
       "      <td>ZIMBABWE</td>\n",
       "      <td>&lt;NA&gt;</td>\n",
       "      <td>TRANSFERTO - THUNES</td>\n",
       "      <td>TRANSFERTO - THUNES_ZIMBABWE</td>\n",
       "      <td>0</td>\n",
       "    </tr>\n",
       "  </tbody>\n",
       "</table>\n",
       "<p>356970 rows × 7 columns</p>\n",
       "</div>"
      ],
      "text/plain": [
       "             date amount    country   day                payer  \\\n",
       "0      2021-01-01      0  ARGENTINA  <NA>                 AFEX   \n",
       "1      2021-01-02      0  ARGENTINA  <NA>                 AFEX   \n",
       "2      2021-01-03      0  ARGENTINA  <NA>                 AFEX   \n",
       "3      2021-01-04      0  ARGENTINA  <NA>                 AFEX   \n",
       "4      2021-01-05      0  ARGENTINA  <NA>                 AFEX   \n",
       "...           ...    ...        ...   ...                  ...   \n",
       "356965 2023-12-27      0   ZIMBABWE  <NA>  TRANSFERTO - THUNES   \n",
       "356966 2023-12-28      0   ZIMBABWE  <NA>  TRANSFERTO - THUNES   \n",
       "356967 2023-12-29      0   ZIMBABWE  <NA>  TRANSFERTO - THUNES   \n",
       "356968 2023-12-30      0   ZIMBABWE  <NA>  TRANSFERTO - THUNES   \n",
       "356969 2023-12-31      0   ZIMBABWE  <NA>  TRANSFERTO - THUNES   \n",
       "\n",
       "                       payer_country  tx_cancelled  \n",
       "0                     AFEX_ARGENTINA             0  \n",
       "1                     AFEX_ARGENTINA             0  \n",
       "2                     AFEX_ARGENTINA             0  \n",
       "3                     AFEX_ARGENTINA             0  \n",
       "4                     AFEX_ARGENTINA             0  \n",
       "...                              ...           ...  \n",
       "356965  TRANSFERTO - THUNES_ZIMBABWE             0  \n",
       "356966  TRANSFERTO - THUNES_ZIMBABWE             0  \n",
       "356967  TRANSFERTO - THUNES_ZIMBABWE             0  \n",
       "356968  TRANSFERTO - THUNES_ZIMBABWE             0  \n",
       "356969  TRANSFERTO - THUNES_ZIMBABWE             0  \n",
       "\n",
       "[356970 rows x 7 columns]"
      ]
     },
     "execution_count": 37,
     "metadata": {},
     "output_type": "execute_result"
    }
   ],
   "source": [
    "df_full"
   ]
  },
  {
   "cell_type": "code",
   "execution_count": 38,
   "id": "bdaa0c37-2e8c-4177-8e19-b67be69771dc",
   "metadata": {
    "tags": []
   },
   "outputs": [],
   "source": [
    "def generate_tx_lags_and_variation(df, tx_count):\n",
    "    \"\"\"\n",
    "    Generate lag columns for cancelled transactions and their variations.\n",
    "\n",
    "    Args:\n",
    "    - df: DataFrame containing transaction data\n",
    "    - tx_count: Number of periods for lag calculation\n",
    "\n",
    "    Returns:\n",
    "    - df: DataFrame with added lag and variation columns\n",
    "    \"\"\"\n",
    "    # Sort the dataset based on country, payer, and date\n",
    "    df = df.sort_values(by=['country', 'payer', 'date'])\n",
    "\n",
    "    # Create columns for each day's lag up to the defined maximum\n",
    "    for i in range(1, tx_count + 1):\n",
    "        col_name = f'tx_cancelled_lag_{i}'\n",
    "        # Shift the 'tx_cancelled' column grouped by 'country' and 'payer'\n",
    "        df[col_name] = df.groupby(['country', 'payer'])['tx_cancelled'].shift(i)\n",
    "\n",
    "    # Calculate the variation columns between consecutive delays\n",
    "    for i in range(1, tx_count):\n",
    "        col_name = f'var_tx_cancelled_lag_{i}'\n",
    "        # Calculate the difference between consecutive lag columns\n",
    "        df[col_name] = df[f'tx_cancelled_lag_{i}'] - df[f'tx_cancelled_lag_{i + 1}']\n",
    "\n",
    "    return df"
   ]
  },
  {
   "cell_type": "code",
   "execution_count": 39,
   "id": "389600d9-6cc1-453c-8c56-40cadc70211d",
   "metadata": {
    "tags": []
   },
   "outputs": [],
   "source": [
    "# Call the function and assign the result back to df2\n",
    "tx_cancelled_lags = 30\n",
    "df2 = generate_tx_lags_and_variation(df_full, tx_cancelled_lags)\n",
    "df2['day'] = pd.to_datetime(df2['day'])"
   ]
  },
  {
   "cell_type": "code",
   "execution_count": 40,
   "id": "fa2d5349-7d1c-4ac9-be52-455fc8a93d8a",
   "metadata": {
    "tags": []
   },
   "outputs": [
    {
     "data": {
      "text/plain": [
       "(Decimal('27565805252.2325'), (356970, 66))"
      ]
     },
     "execution_count": 40,
     "metadata": {},
     "output_type": "execute_result"
    }
   ],
   "source": [
    "df2['amount'].sum(), df2.shape # Acá voy a tener mas filas porque relleno"
   ]
  },
  {
   "cell_type": "code",
   "execution_count": 41,
   "id": "42394f6c-ab41-4e40-a1e4-06f8235843a5",
   "metadata": {
    "tags": []
   },
   "outputs": [],
   "source": [
    "# Coupon ratio\n",
    "df1['ratio_coupon_tx']=df1.coupon_count/df1.tx"
   ]
  },
  {
   "cell_type": "code",
   "execution_count": 42,
   "id": "0fd65e55-7748-433a-9234-9dc871f0daaf",
   "metadata": {
    "tags": []
   },
   "outputs": [
    {
     "data": {
      "text/plain": [
       "['date',\n",
       " 'payer_country',\n",
       " 'payer',\n",
       " 'country',\n",
       " 'tx',\n",
       " 'amount',\n",
       " 'coupon_count',\n",
       " 'gp',\n",
       " 'day',\n",
       " 'margin',\n",
       " 'max_feed_price',\n",
       " 'rate_lag_1',\n",
       " 'rate_lag_2',\n",
       " 'rate_lag_3',\n",
       " 'rate_lag_4',\n",
       " 'rate_lag_5',\n",
       " 'rate_lag_6',\n",
       " 'rate_lag_7',\n",
       " 'rate_lag_8',\n",
       " 'rate_lag_9',\n",
       " 'rate_lag_10',\n",
       " 'rate_lag_11',\n",
       " 'rate_lag_12',\n",
       " 'rate_lag_13',\n",
       " 'rate_lag_14',\n",
       " 'rate_lag_15',\n",
       " 'rate_lag_16',\n",
       " 'rate_lag_17',\n",
       " 'rate_lag_18',\n",
       " 'rate_lag_19',\n",
       " 'rate_lag_20',\n",
       " 'rate_lag_21',\n",
       " 'rate_lag_22',\n",
       " 'rate_lag_23',\n",
       " 'rate_lag_24',\n",
       " 'rate_lag_25',\n",
       " 'rate_lag_26',\n",
       " 'rate_lag_27',\n",
       " 'rate_lag_28',\n",
       " 'rate_lag_29',\n",
       " 'rate_lag_30',\n",
       " 'var_rate_lag_1',\n",
       " 'var_rate_lag_2',\n",
       " 'var_rate_lag_3',\n",
       " 'var_rate_lag_4',\n",
       " 'var_rate_lag_5',\n",
       " 'var_rate_lag_6',\n",
       " 'var_rate_lag_7',\n",
       " 'var_rate_lag_8',\n",
       " 'var_rate_lag_9',\n",
       " 'var_rate_lag_10',\n",
       " 'var_rate_lag_11',\n",
       " 'var_rate_lag_12',\n",
       " 'var_rate_lag_13',\n",
       " 'var_rate_lag_14',\n",
       " 'var_rate_lag_15',\n",
       " 'var_rate_lag_16',\n",
       " 'var_rate_lag_17',\n",
       " 'var_rate_lag_18',\n",
       " 'var_rate_lag_19',\n",
       " 'var_rate_lag_20',\n",
       " 'var_rate_lag_21',\n",
       " 'var_rate_lag_22',\n",
       " 'var_rate_lag_23',\n",
       " 'var_rate_lag_24',\n",
       " 'var_rate_lag_25',\n",
       " 'var_rate_lag_26',\n",
       " 'var_rate_lag_27',\n",
       " 'var_rate_lag_28',\n",
       " 'var_rate_lag_29',\n",
       " 'ratio_coupon_tx']"
      ]
     },
     "execution_count": 42,
     "metadata": {},
     "output_type": "execute_result"
    }
   ],
   "source": [
    "df1.columns.to_list()"
   ]
  },
  {
   "cell_type": "code",
   "execution_count": 43,
   "id": "5988f633-513f-4761-bb43-9097dde4ebf5",
   "metadata": {
    "tags": []
   },
   "outputs": [],
   "source": [
    "def generate_coupon_tx_lags(df, tx_count):\n",
    "    \"\"\"\n",
    "    Generate lag columns for coupon_tx ratio\n",
    "\n",
    "    Args:\n",
    "    - df: DataFrame containing transaction data\n",
    "    - tx_count: Number of periods for lag calculation\n",
    "\n",
    "    Returns:\n",
    "    - df: DataFrame with added lag and variation columns\n",
    "    \"\"\"\n",
    "    # Sort the dataset based on country, payer, and date\n",
    "    df = df.sort_values(by=['country', 'payer', 'date'])\n",
    "\n",
    "    # Create columns for each day's lag up to the defined maximum\n",
    "    for i in range(1, tx_count + 1):\n",
    "        col_name = f'ratio_coupon_tx_lag_{i}'\n",
    "        # Shift the 'ratio_coupon_tx' column grouped by 'country' and 'payer'\n",
    "        df[col_name] = df.groupby(['country', 'payer'])['ratio_coupon_tx'].shift(i)\n",
    "\n",
    "    return df"
   ]
  },
  {
   "cell_type": "code",
   "execution_count": 44,
   "id": "ac53929d-bac1-4b24-9304-8e59be0c895f",
   "metadata": {
    "tags": []
   },
   "outputs": [],
   "source": [
    "# Call the function and assign the result back to df1\n",
    "tx_ratio_coupon_tx_lags = 30\n",
    "df1 = generate_coupon_tx_lags(df1, tx_ratio_coupon_tx_lags)"
   ]
  },
  {
   "cell_type": "code",
   "execution_count": 45,
   "id": "418d8965-6b3e-4114-b03f-551ba4d89f1b",
   "metadata": {
    "tags": []
   },
   "outputs": [
    {
     "data": {
      "text/plain": [
       "(Decimal('26753064533.7617'), (114347, 101))"
      ]
     },
     "execution_count": 45,
     "metadata": {},
     "output_type": "execute_result"
    }
   ],
   "source": [
    "df1['amount'].sum(), df1.shape # Acá voy a tener mas filas porque relleno"
   ]
  },
  {
   "cell_type": "code",
   "execution_count": 46,
   "id": "5abe8b0f-9c61-4a65-9a6e-a5db1dc689da",
   "metadata": {
    "tags": []
   },
   "outputs": [],
   "source": [
    "def generate_tx_lags(df, tx_count):\n",
    "    \"\"\"\n",
    "    Generate lags columns for txs\n",
    "\n",
    "    Args:\n",
    "    - df: DataFrame containing transaction data\n",
    "    - tx_count: Number of periods for lag calculation\n",
    "\n",
    "    Returns:\n",
    "    - df: DataFrame with added lag and variation columns\n",
    "    \"\"\"\n",
    "    # Sort the dataset based on country, payer, and date\n",
    "    df = df.sort_values(by=['country', 'payer', 'date'])\n",
    "\n",
    "    # Create columns for each day's lag up to the defined maximum\n",
    "    for i in range(1, tx_count + 1):\n",
    "        col_name = f'tx_lag_{i}'\n",
    "        # Shift the 'tx' column grouped by 'country' and 'payer'\n",
    "        df[col_name] = df.groupby(['country', 'payer'])['tx'].shift(i)\n",
    "\n",
    "    return df"
   ]
  },
  {
   "cell_type": "code",
   "execution_count": 47,
   "id": "dd68de25-0b1c-4bdb-81e9-80c4ad1eb971",
   "metadata": {
    "tags": []
   },
   "outputs": [],
   "source": [
    "# Call the function and assign the result back to df1\n",
    "tx_lags = 30\n",
    "df1 = generate_tx_lags(df1, tx_lags)"
   ]
  },
  {
   "cell_type": "code",
   "execution_count": 48,
   "id": "5eb8a441-80c6-4e13-a84c-333ee963e751",
   "metadata": {
    "tags": []
   },
   "outputs": [
    {
     "data": {
      "text/plain": [
       "(Decimal('26753064533.7617'), (114347, 131))"
      ]
     },
     "execution_count": 48,
     "metadata": {},
     "output_type": "execute_result"
    }
   ],
   "source": [
    "df1['amount'].sum(), df1.shape # Acá voy a tener mas filas porque relleno"
   ]
  },
  {
   "cell_type": "code",
   "execution_count": 49,
   "id": "9616bf84-c56c-4f84-b992-6157cf0ba8de",
   "metadata": {
    "tags": []
   },
   "outputs": [],
   "source": [
    "def generate_margin_lags(df, margin_lags):\n",
    "    \"\"\"\n",
    "    Generate lag columns for margin\n",
    "\n",
    "    Args:\n",
    "    - df: DataFrame containing transaction data\n",
    "    - margin_lags: Number of periods for lag calculation\n",
    "\n",
    "    Returns:\n",
    "    - df: DataFrame with added lag columns for margin\n",
    "    \"\"\"\n",
    "    # Sort the dataset based on country, payer, and date\n",
    "    df = df.sort_values(by=['country', 'payer', 'date'])\n",
    "\n",
    "    # Create columns for each day's lag up to the defined maximum\n",
    "    for i in range(1, margin_lags + 1):\n",
    "        col_name = f'margin_lag_{i}'\n",
    "        # Shift the 'margin' column grouped by 'country' and 'payer'\n",
    "        df[col_name] = df.groupby(['country', 'payer'])['margin'].shift(i)\n",
    "\n",
    "    return df"
   ]
  },
  {
   "cell_type": "code",
   "execution_count": 50,
   "id": "0f2324e4-a8f8-401b-89f7-7c335753775e",
   "metadata": {
    "tags": []
   },
   "outputs": [],
   "source": [
    "# Call the function and assign the result back to df1\n",
    "margin_lags = 10\n",
    "df1 = generate_margin_lags(df1, margin_lags)"
   ]
  },
  {
   "cell_type": "code",
   "execution_count": 51,
   "id": "49dc3da1-25a9-40d5-9b8a-441ffc7a0f5e",
   "metadata": {
    "tags": []
   },
   "outputs": [
    {
     "data": {
      "text/plain": [
       "(Decimal('26753064533.7617'), (114347, 141))"
      ]
     },
     "execution_count": 51,
     "metadata": {},
     "output_type": "execute_result"
    }
   ],
   "source": [
    "df1['amount'].sum(), df1.shape # Acá voy a tener mas filas porque relleno"
   ]
  },
  {
   "cell_type": "code",
   "execution_count": 52,
   "id": "15854f35-dac4-427b-a0ce-c5adc84d31ce",
   "metadata": {
    "tags": []
   },
   "outputs": [],
   "source": [
    "#### Workaround ####\n",
    "\n",
    "# # Fusionar df1 y df2 basándonos en 'date' y 'payer_country'\n",
    "# df_merged = pd.merge(df1, df2, on=['date', 'payer_country'], how='left', suffixes=('_df1', '_df2'))\n",
    "\n",
    "# # Seleccionar las columnas de df2 que no están en df1 y coinciden en 'date' y 'payer_country'\n",
    "# columns_to_add = [col for col in df2.columns if col not in df1.columns]\n",
    "# df_addition = df_merged.loc[:, columns_to_add]\n",
    "\n",
    "# # Unir las columnas seleccionadas con df1\n",
    "# df_final = pd.concat([df1, df_addition], axis=1)"
   ]
  },
  {
   "cell_type": "code",
   "execution_count": 53,
   "id": "f3cce428-798b-4914-b5b1-c5cda9d08a9d",
   "metadata": {
    "tags": []
   },
   "outputs": [],
   "source": [
    "df_final = pd.merge(df1, df2, on=['date', 'payer', 'country', 'payer_country', 'amount'], how='inner')\n",
    "df_final['date'] = pd.to_datetime(df_final['date'])"
   ]
  },
  {
   "cell_type": "code",
   "execution_count": 54,
   "id": "50b820b5-e87b-405e-a6a4-10654eece6f6",
   "metadata": {
    "tags": []
   },
   "outputs": [
    {
     "data": {
      "text/plain": [
       "(Decimal('26753064533.7617'), (114347, 202))"
      ]
     },
     "execution_count": 54,
     "metadata": {},
     "output_type": "execute_result"
    }
   ],
   "source": [
    "df_final['amount'].sum(), df_final.shape # Acá voy a tener mas filas porque relleno"
   ]
  },
  {
   "cell_type": "code",
   "execution_count": 55,
   "id": "8e0dbed7-cdb5-4d99-b17c-5a54822404e6",
   "metadata": {
    "tags": []
   },
   "outputs": [
    {
     "data": {
      "text/html": [
       "<div>\n",
       "<style scoped>\n",
       "    .dataframe tbody tr th:only-of-type {\n",
       "        vertical-align: middle;\n",
       "    }\n",
       "\n",
       "    .dataframe tbody tr th {\n",
       "        vertical-align: top;\n",
       "    }\n",
       "\n",
       "    .dataframe thead th {\n",
       "        text-align: right;\n",
       "    }\n",
       "</style>\n",
       "<table border=\"1\" class=\"dataframe\">\n",
       "  <thead>\n",
       "    <tr style=\"text-align: right;\">\n",
       "      <th></th>\n",
       "      <th>date</th>\n",
       "      <th>payer_country</th>\n",
       "      <th>payer</th>\n",
       "      <th>country</th>\n",
       "      <th>tx</th>\n",
       "      <th>amount</th>\n",
       "      <th>coupon_count</th>\n",
       "      <th>gp</th>\n",
       "      <th>day_x</th>\n",
       "      <th>margin</th>\n",
       "      <th>...</th>\n",
       "      <th>var_tx_cancelled_lag_20</th>\n",
       "      <th>var_tx_cancelled_lag_21</th>\n",
       "      <th>var_tx_cancelled_lag_22</th>\n",
       "      <th>var_tx_cancelled_lag_23</th>\n",
       "      <th>var_tx_cancelled_lag_24</th>\n",
       "      <th>var_tx_cancelled_lag_25</th>\n",
       "      <th>var_tx_cancelled_lag_26</th>\n",
       "      <th>var_tx_cancelled_lag_27</th>\n",
       "      <th>var_tx_cancelled_lag_28</th>\n",
       "      <th>var_tx_cancelled_lag_29</th>\n",
       "    </tr>\n",
       "  </thead>\n",
       "  <tbody>\n",
       "    <tr>\n",
       "      <th>77046</th>\n",
       "      <td>2022-07-04</td>\n",
       "      <td>ELEKTRA (MEXICO)_MEXICO</td>\n",
       "      <td>ELEKTRA (MEXICO)</td>\n",
       "      <td>MEXICO</td>\n",
       "      <td>8364</td>\n",
       "      <td>4152238.9200</td>\n",
       "      <td>90</td>\n",
       "      <td>54173.7271000</td>\n",
       "      <td>2022-07-04</td>\n",
       "      <td>6.477</td>\n",
       "      <td>...</td>\n",
       "      <td>-76</td>\n",
       "      <td>74</td>\n",
       "      <td>-8</td>\n",
       "      <td>156</td>\n",
       "      <td>80</td>\n",
       "      <td>23</td>\n",
       "      <td>-71</td>\n",
       "      <td>-91</td>\n",
       "      <td>-29</td>\n",
       "      <td>-30</td>\n",
       "    </tr>\n",
       "  </tbody>\n",
       "</table>\n",
       "<p>1 rows × 202 columns</p>\n",
       "</div>"
      ],
      "text/plain": [
       "            date            payer_country             payer country    tx  \\\n",
       "77046 2022-07-04  ELEKTRA (MEXICO)_MEXICO  ELEKTRA (MEXICO)  MEXICO  8364   \n",
       "\n",
       "             amount  coupon_count             gp      day_x  margin  ...  \\\n",
       "77046  4152238.9200            90  54173.7271000 2022-07-04   6.477  ...   \n",
       "\n",
       "      var_tx_cancelled_lag_20 var_tx_cancelled_lag_21 var_tx_cancelled_lag_22  \\\n",
       "77046                     -76                      74                      -8   \n",
       "\n",
       "      var_tx_cancelled_lag_23 var_tx_cancelled_lag_24 var_tx_cancelled_lag_25  \\\n",
       "77046                     156                      80                      23   \n",
       "\n",
       "      var_tx_cancelled_lag_26 var_tx_cancelled_lag_27 var_tx_cancelled_lag_28  \\\n",
       "77046                     -71                     -91                     -29   \n",
       "\n",
       "      var_tx_cancelled_lag_29  \n",
       "77046                     -30  \n",
       "\n",
       "[1 rows x 202 columns]"
      ]
     },
     "execution_count": 55,
     "metadata": {},
     "output_type": "execute_result"
    }
   ],
   "source": [
    "df_final.loc[(df_final['payer_country'] == 'ELEKTRA (MEXICO)_MEXICO') & (df_final['date'] == '2022-07-04')]"
   ]
  },
  {
   "cell_type": "markdown",
   "id": "1dafc713-924a-453a-b70b-4379b55e716e",
   "metadata": {
    "tags": []
   },
   "source": [
    "### DUMMIES"
   ]
  },
  {
   "cell_type": "code",
   "execution_count": 56,
   "id": "49ef881a-3adc-4a51-b553-695b46f48a82",
   "metadata": {
    "tags": []
   },
   "outputs": [],
   "source": [
    "def mark_us_holidays(df):\n",
    "    \"\"\"\n",
    "    Mark US holidays, excluding specified holidays and those with 'Observed'.\n",
    "\n",
    "    Args:\n",
    "        df (DataFrame): DataFrame containing a 'date' column in datetime format.\n",
    "\n",
    "    Returns:\n",
    "        DataFrame: DataFrame with an additional 'is_holiday' column, where 1 indicates a US holiday and 0 otherwise.\n",
    "    \"\"\"\n",
    "    # Obtener las fechas mínima y máxima del DataFrame\n",
    "    min_date = df['date'].min().year\n",
    "    max_date = df['date'].max().year + 1\n",
    "    print(min_date, max_date)\n",
    "    \n",
    "    # Cargar los feriados de Estados Unidos\n",
    "    us_holidays = holidays.US(years=range(min_date, max_date))\n",
    "\n",
    "    # Lista de días festivos a excluir\n",
    "    holidays_to_exclude = [\"Washington's Birthday\", \"Columbus Day\"]\n",
    "    \n",
    "    # Filtrar los días festivos que deben ser excluidos\n",
    "    filtered_holidays = {date: name for date, name in us_holidays.items() if name not in holidays_to_exclude and 'observed' not in name.lower() }\n",
    "#    print(filtered_holidays) # Habilitando este print puedo ver que feriados son los que estamos marcando\n",
    "    \n",
    "    # Crear una lista de fechas de feriados\n",
    "    holidays_list = list(filtered_holidays.keys())\n",
    "    \n",
    "    # Marcar los días festivos en el DataFrame\n",
    "    df['is_holiday'] = df['date'].isin(holidays_list).astype(int)\n",
    "    \n",
    "    return df"
   ]
  },
  {
   "cell_type": "code",
   "execution_count": 110,
   "id": "7594a751-1914-40ed-a430-7a092ecb9b41",
   "metadata": {
    "tags": []
   },
   "outputs": [
    {
     "name": "stdout",
     "output_type": "stream",
     "text": [
      "2021 2024\n"
     ]
    }
   ],
   "source": [
    "#Applying holiday function \n",
    "df_final = mark_us_holidays(df_final)"
   ]
  },
  {
   "cell_type": "code",
   "execution_count": 87,
   "id": "dc0d0b51-775e-4b85-ac3b-8b6a0dfe0f66",
   "metadata": {
    "tags": []
   },
   "outputs": [],
   "source": [
    "def calculate_var_30ds(window, row, df_final):\n",
    "    \"\"\"\n",
    "    Calculate the variable 'var_30ds' based on the average amount in the last 30 days.\n",
    "\n",
    "    Parameters:\n",
    "    window (int): The window size in days for the calculation.\n",
    "    row (pandas.Series): The row containing the data for the current observation.\n",
    "    df_final (pandas.DataFrame): The DataFrame containing the final dataset.\n",
    "\n",
    "    Returns:\n",
    "    float or None: The calculated variable 'var_30ds' if applicable, else None.\n",
    "    \"\"\"\n",
    "    # Check if the current day is a holiday\n",
    "    if row['is_holiday'] == 1:\n",
    "        # Filter the DataFrame to get only the last 30 days for the current 'payer_country'\n",
    "        filter_condition = (df_final['payer_country'] == row['payer_country']) & \\\n",
    "                           (df_final['date'] >= (row['date'] - pd.Timedelta(days=window))) & \\\n",
    "                           (df_final['date'] < row['date'])\n",
    "        filtered_df = df_final[filter_condition]\n",
    "        \n",
    "        # Calculate the average amount for the current 'payer_country' in the last 30 days\n",
    "        avg_amount = filtered_df['amount'].mean()\n",
    "\n",
    "        # Print filtered DataFrame for debugging\n",
    "#        if (row['payer_country'] == 'ELEKTRA (MEXICO)_MEXICO') and (row['date'] == datetime.strptime('2023-09-04', '%Y-%m-%d')):\n",
    "#            print(filtered_df)\n",
    "        \n",
    "        # Calculate var_30ds according to the specified formula\n",
    "        if avg_amount != 0 and row['amount'] != 0:\n",
    "            var_30ds = float(row['amount']) / float(avg_amount) - 1  # Convert avg_amount to float before division\n",
    "            return var_30ds  \n",
    "        else:\n",
    "            return 0\n",
    "    else:\n",
    "        return None"
   ]
  },
  {
   "cell_type": "code",
   "execution_count": 88,
   "id": "660e804e-2eb0-48b0-9d3e-1e1b92d42847",
   "metadata": {
    "tags": []
   },
   "outputs": [],
   "source": [
    "# Aplicar la función calculate_var_30ds a cada fila del DataFrame\n",
    "window = 30\n",
    "df_final['var_30ds'] = df_final.apply(lambda row: calculate_var_30ds(window, row, df_final), axis=1)\n",
    "df_final['var_30ds'] = df_final['var_30ds'].fillna(0)"
   ]
  },
  {
   "cell_type": "code",
   "execution_count": 89,
   "id": "b8120a70-51d1-497f-a70d-e27a18219601",
   "metadata": {
    "tags": []
   },
   "outputs": [],
   "source": [
    "def mark_post_holiday(df):\n",
    "    \"\"\"\n",
    "    Mark days after holidays. Usually post holiday days tend to rise sales\n",
    "\n",
    "    Args:\n",
    "        df (DataFrame): DataFrame containing a 'is_holiday' column indicating holidays.\n",
    "\n",
    "    Returns:\n",
    "        DataFrame: DataFrame with an additional 'post_holiday' column, where 1 indicates a day after a holiday.\n",
    "    \"\"\"\n",
    "    post_holiday = []\n",
    "    for idx, row in df.iterrows():\n",
    "        is_holiday = row['is_holiday']\n",
    "        if is_holiday == 1:\n",
    "            post_holiday.append(0)\n",
    "        else:\n",
    "            if idx > 0 and df.loc[idx - 1, 'is_holiday'] == 1:\n",
    "                post_holiday.append(1)\n",
    "            else:\n",
    "                post_holiday.append(0)\n",
    "    df['post_holiday'] = post_holiday\n",
    "    \n",
    "    return df"
   ]
  },
  {
   "cell_type": "code",
   "execution_count": 112,
   "id": "5cb8fe11-0d1c-4641-b2b8-7e921355027a",
   "metadata": {
    "tags": []
   },
   "outputs": [],
   "source": [
    "df_final = mark_post_holiday(df_final)"
   ]
  },
  {
   "cell_type": "code",
   "execution_count": 114,
   "id": "799b709e-83ef-4080-98ff-5830d7fde1a7",
   "metadata": {
    "tags": []
   },
   "outputs": [],
   "source": [
    "def mark_fourth_july(df):\n",
    "    \"\"\"\n",
    "    Mark the Fourth of July in the DataFrame.\n",
    "\n",
    "    Args:\n",
    "        df (DataFrame): DataFrame containing a 'date' column in datetime format.\n",
    "\n",
    "    Returns:\n",
    "        DataFrame: DataFrame with an additional 'is_fourth_of_july' column.\n",
    "    \"\"\"\n",
    "    # Check if the date is the Fourth of July\n",
    "    df['is_fourth_of_july'] = (\n",
    "        (df['date'].dt.month == 7) & (df['date'].dt.day == 4)\n",
    "    ).astype(int)\n",
    "    \n",
    "    return df"
   ]
  },
  {
   "cell_type": "code",
   "execution_count": 115,
   "id": "54d143c9-f34e-4e50-b129-c8b2c20243e1",
   "metadata": {
    "tags": []
   },
   "outputs": [],
   "source": [
    "df_final = mark_fourth_july(df_final)"
   ]
  },
  {
   "cell_type": "code",
   "execution_count": 116,
   "id": "a4dedfd0-a5d8-4d43-85c5-03c3055e2945",
   "metadata": {
    "tags": []
   },
   "outputs": [],
   "source": [
    "def mark_christmas_day(df):\n",
    "    \"\"\"\n",
    "    Marks Christmas Day (December 25th) in the DataFrame.\n",
    "\n",
    "    This function identifies December 25th for each year present in the DataFrame\n",
    "    and marks it as Christmas Day in the DataFrame.\n",
    "\n",
    "    Args:\n",
    "    df (DataFrame): The DataFrame containing the date column.\n",
    "\n",
    "    Returns:\n",
    "    DataFrame: The DataFrame with Christmas Day marked.\n",
    "\n",
    "    Raises:\n",
    "    ValueError: If the DataFrame does not contain a 'date' column.\n",
    "    \"\"\"\n",
    "    # Verificar si la columna 'date' existe en el DataFrame\n",
    "    if 'date' not in df.columns:\n",
    "        raise ValueError(\"DataFrame debe contener una columna 'date'.\")\n",
    "\n",
    "    # Crear una nueva columna para marcar el Día de Navidad\n",
    "    df['christmas_day'] = 0\n",
    "\n",
    "    # Iterar sobre cada año presente en el DataFrame\n",
    "    for year in df['date'].dt.year.unique():\n",
    "        # Marcar el 25 de diciembre para el año actual\n",
    "        christmas_date = datetime(year, 12, 25)\n",
    "        # Marcar filas correspondientes al Día de Navidad para el año actual\n",
    "        df.loc[(df['date'].dt.year == year) & (df['date'].dt.month == 12) & (df['date'].dt.day == 25), 'christmas_day'] = 1\n",
    "\n",
    "    return df"
   ]
  },
  {
   "cell_type": "code",
   "execution_count": 117,
   "id": "39b6dcce-2032-47e6-9efb-6f133ec21141",
   "metadata": {
    "tags": []
   },
   "outputs": [],
   "source": [
    "df_final = mark_christmas_day(df_final)"
   ]
  },
  {
   "cell_type": "code",
   "execution_count": 118,
   "id": "74921e23-967c-4a4b-a976-6d84a9f941e3",
   "metadata": {
    "tags": []
   },
   "outputs": [],
   "source": [
    "def mark_new_year_day(df):\n",
    "    \"\"\"\n",
    "    Marks New year (January 1st) in the DataFrame.\n",
    "\n",
    "    This function identifies January 1st for each year present in the DataFrame\n",
    "    and marks it as Christmas Day in the DataFrame.\n",
    "\n",
    "    Args:\n",
    "    df (DataFrame): The DataFrame containing the date column.\n",
    "\n",
    "    Returns:\n",
    "    DataFrame: The DataFrame with New Year marked.\n",
    "\n",
    "    Raises:\n",
    "    ValueError: If the DataFrame does not contain a 'date' column.\n",
    "    \"\"\"\n",
    "    # Verificar si la columna 'date' existe en el DataFrame\n",
    "    if 'date' not in df.columns:\n",
    "        raise ValueError(\"DataFrame debe contener una columna 'date'.\")\n",
    "\n",
    "    # Crear una nueva columna para marcar Año Nuevo\n",
    "    df['new_year_day'] = 0\n",
    "\n",
    "    # Iterar sobre cada año presente en el DataFrame\n",
    "    for year in df['date'].dt.year.unique():\n",
    "        # Marcar el 1 enero para el año actual\n",
    "        new_year_date = datetime(year, 1, 1)\n",
    "        # Marcar filas correspondientes a Año Nuevo para el año actual\n",
    "        df.loc[(df['date'].dt.year == year) & (df['date'].dt.month == 1) & (df['date'].dt.day == 1), 'new_year_day'] = 1\n",
    "\n",
    "    return df"
   ]
  },
  {
   "cell_type": "code",
   "execution_count": 119,
   "id": "d6c10019-ddce-4278-ada2-8355293ebd30",
   "metadata": {
    "tags": []
   },
   "outputs": [],
   "source": [
    "df_final = mark_new_year_day(df_final)"
   ]
  },
  {
   "cell_type": "code",
   "execution_count": 120,
   "id": "5362fa98-33a7-4a22-b798-1116d3755fa4",
   "metadata": {
    "tags": []
   },
   "outputs": [],
   "source": [
    "from datetime import timedelta\n",
    "\n",
    "def thanksgiving_date(year):\n",
    "    \"\"\"\n",
    "    Calcula la fecha de Acción de Gracias para un año dado.\n",
    "\n",
    "    Args:\n",
    "    year (int): El año para el que se quiere calcular la fecha de Acción de Gracias.\n",
    "\n",
    "    Returns:\n",
    "    datetime: La fecha de Acción de Gracias para el año dado.\n",
    "    \"\"\"\n",
    "    # Se sabe que Acción de Gracias es el cuarto jueves de noviembre\n",
    "    # Se determina el día del primer jueves de noviembre\n",
    "    first_of_november = datetime(year, 11, 1)\n",
    "    while first_of_november.weekday() != 3:  # 3 representa el jueves\n",
    "        first_of_november += timedelta(days=1)\n",
    "\n",
    "    # Luego se suma 3 semanas (21 días) para obtener el cuarto jueves\n",
    "    thanksgiving = first_of_november + timedelta(weeks=3)\n",
    "    return thanksgiving\n",
    "\n",
    "def mark_thanksgiving_day(df):\n",
    "    \"\"\"\n",
    "    Marca el Día de Acción de Gracias en el DataFrame.\n",
    "\n",
    "    Esta función identifica el Día de Acción de Gracias en noviembre para cada año presente en el DataFrame\n",
    "    y lo marca en el DataFrame.\n",
    "\n",
    "    Args:\n",
    "    df (DataFrame): El DataFrame que contiene la columna de fecha.\n",
    "\n",
    "    Returns:\n",
    "    DataFrame: El DataFrame con el Día de Acción de Gracias marcado.\n",
    "\n",
    "    Raises:\n",
    "    ValueError: Si el DataFrame no contiene una columna 'date'.\n",
    "    \"\"\"\n",
    "    # Verificar si la columna 'date' existe en el DataFrame\n",
    "    if 'date' not in df.columns:\n",
    "        raise ValueError(\"El DataFrame debe contener una columna 'date'.\")\n",
    "\n",
    "    # Crear una nueva columna para marcar el Día de Acción de Gracias\n",
    "    df['thanksgiving_day'] = 0\n",
    "\n",
    "    # Iterar sobre cada año presente en el DataFrame\n",
    "    for year in df['date'].dt.year.unique():\n",
    "        # Calcular la fecha de Acción de Gracias para el año actual\n",
    "        thanksgiving = thanksgiving_date(year)\n",
    "        # Marcar filas correspondientes a Acción de Gracias para el año actual\n",
    "        df.loc[(df['date'].dt.year == year) & (df['date'].dt.month == 11) & (df['date'].dt.day == thanksgiving.day), 'thanksgiving_day'] = 1\n",
    "        # Marcar 'is_holiday' como 0 cuando se marca 1 en 'thanksgiving_day'\n",
    "        df.loc[(df['date'].dt.year == year) & (df['date'].dt.month == 11) & (df['date'].dt.day == thanksgiving.day), 'is_holiday'] = 0\n",
    "\n",
    "\n",
    "    return df"
   ]
  },
  {
   "cell_type": "code",
   "execution_count": 121,
   "id": "3cfd0046-50c6-4131-a3a0-ab81f9bf2324",
   "metadata": {
    "tags": []
   },
   "outputs": [],
   "source": [
    "df_final = mark_thanksgiving_day(df_final)"
   ]
  },
  {
   "cell_type": "code",
   "execution_count": 122,
   "id": "6e7caad2-1173-4bd6-81e6-a177cee29768",
   "metadata": {
    "tags": []
   },
   "outputs": [
    {
     "data": {
      "text/plain": [
       "<DatetimeArray>\n",
       "['2021-11-25 00:00:00', '2022-11-24 00:00:00', '2023-11-23 00:00:00']\n",
       "Length: 3, dtype: datetime64[ns]"
      ]
     },
     "execution_count": 122,
     "metadata": {},
     "output_type": "execute_result"
    }
   ],
   "source": [
    "df_final[df_final['thanksgiving_day'] == 1]['date'].unique()"
   ]
  },
  {
   "cell_type": "code",
   "execution_count": 123,
   "id": "a9dedd12-0ae0-4ebf-906a-d3c8522708c8",
   "metadata": {
    "tags": []
   },
   "outputs": [
    {
     "data": {
      "text/html": [
       "<div>\n",
       "<style scoped>\n",
       "    .dataframe tbody tr th:only-of-type {\n",
       "        vertical-align: middle;\n",
       "    }\n",
       "\n",
       "    .dataframe tbody tr th {\n",
       "        vertical-align: top;\n",
       "    }\n",
       "\n",
       "    .dataframe thead th {\n",
       "        text-align: right;\n",
       "    }\n",
       "</style>\n",
       "<table border=\"1\" class=\"dataframe\">\n",
       "  <thead>\n",
       "    <tr style=\"text-align: right;\">\n",
       "      <th></th>\n",
       "      <th>date</th>\n",
       "      <th>payer_country</th>\n",
       "      <th>payer</th>\n",
       "      <th>country</th>\n",
       "      <th>tx</th>\n",
       "      <th>amount</th>\n",
       "      <th>coupon_count</th>\n",
       "      <th>gp</th>\n",
       "      <th>day_x</th>\n",
       "      <th>margin</th>\n",
       "      <th>...</th>\n",
       "      <th>var_tx_cancelled_lag_28</th>\n",
       "      <th>var_tx_cancelled_lag_29</th>\n",
       "      <th>is_holiday</th>\n",
       "      <th>is_fourth_of_july</th>\n",
       "      <th>var_30ds</th>\n",
       "      <th>christmas_day</th>\n",
       "      <th>new_year_day</th>\n",
       "      <th>thanksgiving_day</th>\n",
       "      <th>post_holiday</th>\n",
       "      <th>day_of_the_dead</th>\n",
       "    </tr>\n",
       "  </thead>\n",
       "  <tbody>\n",
       "    <tr>\n",
       "      <th>77553</th>\n",
       "      <td>2023-11-23</td>\n",
       "      <td>ELEKTRA (MEXICO)_MEXICO</td>\n",
       "      <td>ELEKTRA (MEXICO)</td>\n",
       "      <td>MEXICO</td>\n",
       "      <td>9762</td>\n",
       "      <td>4957891.2500</td>\n",
       "      <td>174</td>\n",
       "      <td>31914.6590447</td>\n",
       "      <td>2023-11-23</td>\n",
       "      <td>3.2693</td>\n",
       "      <td>...</td>\n",
       "      <td>50</td>\n",
       "      <td>-55</td>\n",
       "      <td>0</td>\n",
       "      <td>0</td>\n",
       "      <td>-0.417957</td>\n",
       "      <td>0</td>\n",
       "      <td>0</td>\n",
       "      <td>1</td>\n",
       "      <td>0</td>\n",
       "      <td>0</td>\n",
       "    </tr>\n",
       "  </tbody>\n",
       "</table>\n",
       "<p>1 rows × 210 columns</p>\n",
       "</div>"
      ],
      "text/plain": [
       "            date            payer_country             payer country    tx  \\\n",
       "77553 2023-11-23  ELEKTRA (MEXICO)_MEXICO  ELEKTRA (MEXICO)  MEXICO  9762   \n",
       "\n",
       "             amount  coupon_count             gp      day_x  margin  ...  \\\n",
       "77553  4957891.2500           174  31914.6590447 2023-11-23  3.2693  ...   \n",
       "\n",
       "      var_tx_cancelled_lag_28 var_tx_cancelled_lag_29 is_holiday  \\\n",
       "77553                      50                     -55          0   \n",
       "\n",
       "      is_fourth_of_july  var_30ds christmas_day new_year_day thanksgiving_day  \\\n",
       "77553                 0 -0.417957             0            0                1   \n",
       "\n",
       "      post_holiday day_of_the_dead  \n",
       "77553            0               0  \n",
       "\n",
       "[1 rows x 210 columns]"
      ]
     },
     "execution_count": 123,
     "metadata": {},
     "output_type": "execute_result"
    }
   ],
   "source": [
    "# Reviso\n",
    "df_final.loc[(df_final['payer_country'] == 'ELEKTRA (MEXICO)_MEXICO') & (df_final['date'] == '2023-11-23')]"
   ]
  },
  {
   "cell_type": "code",
   "execution_count": 124,
   "id": "c07316bf-a32d-442a-9ce8-6bd826453ce6",
   "metadata": {
    "tags": []
   },
   "outputs": [],
   "source": [
    "# Create a boolean mask to filter by country and date\n",
    "mask = (df_final['country'] == 'MEXICO') & (df_final['date'].dt.month == 11) & (df_final['date'].dt.day == 2)\n",
    "# Mark the Day of the Dead according to the mask\n",
    "df_final['day_of_the_dead'] = 0  # Initialize with 0\n",
    "df_final.loc[mask, 'day_of_the_dead'] = 1  # Mark as 1 where the mask is True"
   ]
  },
  {
   "cell_type": "code",
   "execution_count": 125,
   "id": "a488e805-b898-47a8-bc36-fbfd3ce68e9f",
   "metadata": {
    "tags": []
   },
   "outputs": [
    {
     "data": {
      "text/html": [
       "<div>\n",
       "<style scoped>\n",
       "    .dataframe tbody tr th:only-of-type {\n",
       "        vertical-align: middle;\n",
       "    }\n",
       "\n",
       "    .dataframe tbody tr th {\n",
       "        vertical-align: top;\n",
       "    }\n",
       "\n",
       "    .dataframe thead th {\n",
       "        text-align: right;\n",
       "    }\n",
       "</style>\n",
       "<table border=\"1\" class=\"dataframe\">\n",
       "  <thead>\n",
       "    <tr style=\"text-align: right;\">\n",
       "      <th></th>\n",
       "      <th>date</th>\n",
       "      <th>payer_country</th>\n",
       "      <th>payer</th>\n",
       "      <th>country</th>\n",
       "      <th>tx</th>\n",
       "      <th>amount</th>\n",
       "      <th>coupon_count</th>\n",
       "      <th>gp</th>\n",
       "      <th>day_x</th>\n",
       "      <th>margin</th>\n",
       "      <th>...</th>\n",
       "      <th>var_tx_cancelled_lag_28</th>\n",
       "      <th>var_tx_cancelled_lag_29</th>\n",
       "      <th>is_holiday</th>\n",
       "      <th>is_fourth_of_july</th>\n",
       "      <th>var_30ds</th>\n",
       "      <th>christmas_day</th>\n",
       "      <th>new_year_day</th>\n",
       "      <th>thanksgiving_day</th>\n",
       "      <th>post_holiday</th>\n",
       "      <th>day_of_the_dead</th>\n",
       "    </tr>\n",
       "  </thead>\n",
       "  <tbody>\n",
       "    <tr>\n",
       "      <th>77167</th>\n",
       "      <td>2022-11-02</td>\n",
       "      <td>ELEKTRA (MEXICO)_MEXICO</td>\n",
       "      <td>ELEKTRA (MEXICO)</td>\n",
       "      <td>MEXICO</td>\n",
       "      <td>8591</td>\n",
       "      <td>4475729.6700</td>\n",
       "      <td>86</td>\n",
       "      <td>48866.6414000</td>\n",
       "      <td>2022-11-02</td>\n",
       "      <td>5.6881</td>\n",
       "      <td>...</td>\n",
       "      <td>49</td>\n",
       "      <td>-173</td>\n",
       "      <td>0</td>\n",
       "      <td>0</td>\n",
       "      <td>0.0</td>\n",
       "      <td>0</td>\n",
       "      <td>0</td>\n",
       "      <td>0</td>\n",
       "      <td>0</td>\n",
       "      <td>1</td>\n",
       "    </tr>\n",
       "  </tbody>\n",
       "</table>\n",
       "<p>1 rows × 210 columns</p>\n",
       "</div>"
      ],
      "text/plain": [
       "            date            payer_country             payer country    tx  \\\n",
       "77167 2022-11-02  ELEKTRA (MEXICO)_MEXICO  ELEKTRA (MEXICO)  MEXICO  8591   \n",
       "\n",
       "             amount  coupon_count             gp      day_x  margin  ...  \\\n",
       "77167  4475729.6700            86  48866.6414000 2022-11-02  5.6881  ...   \n",
       "\n",
       "      var_tx_cancelled_lag_28 var_tx_cancelled_lag_29 is_holiday  \\\n",
       "77167                      49                    -173          0   \n",
       "\n",
       "      is_fourth_of_july var_30ds christmas_day new_year_day thanksgiving_day  \\\n",
       "77167                 0      0.0             0            0                0   \n",
       "\n",
       "      post_holiday day_of_the_dead  \n",
       "77167            0               1  \n",
       "\n",
       "[1 rows x 210 columns]"
      ]
     },
     "execution_count": 125,
     "metadata": {},
     "output_type": "execute_result"
    }
   ],
   "source": [
    "# Reviso\n",
    "df_final.loc[(df_final['payer_country'] == 'ELEKTRA (MEXICO)_MEXICO') & (df_final['date'] == '2022-11-02')]"
   ]
  },
  {
   "cell_type": "code",
   "execution_count": 126,
   "id": "b5c54547-dba8-48a5-aa3a-e135224d7c32",
   "metadata": {
    "tags": []
   },
   "outputs": [],
   "source": [
    "def correcting_holidays(df_final, separate_flags):\n",
    "    \"\"\"\n",
    "    Corrects the holiday markings in the DataFrame and adjusts the 'is_holiday' column based on exceptions.\n",
    "\n",
    "    Args:\n",
    "        df_final (DataFrame): DataFrame containing a 'date' column in datetime format and the 'is_holiday' column.\n",
    "        separate_flags (list): List of column names where an exception should be considered.\n",
    "\n",
    "    Returns:\n",
    "        DataFrame: DataFrame with 'is_holiday' adjusted according to exceptions.\n",
    "    \"\"\"\n",
    "    # Check if the 'date' column exists in the DataFrame\n",
    "    if 'date' not in df_final.columns:\n",
    "        raise ValueError(\"The DataFrame must contain a 'date' column.\")\n",
    "\n",
    "    # Iterate over the holiday columns where exceptions should be considered\n",
    "    for flag in holidays_to_exclude:\n",
    "        if flag not in df_final.columns:\n",
    "            raise ValueError(f\"The column '{flag}' does not exist in the DataFrame.\")\n",
    "\n",
    "        # If the holiday column has a value of 1, mark 'is_holiday' as 0 for the same row\n",
    "        df_final.loc[df_final[flag] == 1, 'is_holiday'] = 0\n",
    "\n",
    "    return df_final"
   ]
  },
  {
   "cell_type": "code",
   "execution_count": 127,
   "id": "3fcc3e26-4f53-499f-b321-22bee8e3b89f",
   "metadata": {
    "tags": []
   },
   "outputs": [],
   "source": [
    "#Lista con los holidays a excluir (nombres de las columnas)\n",
    "holidays_to_exclude =  ['is_fourth_of_july', 'christmas_day', 'new_year_day', \n",
    "                        'thanksgiving_day']\n",
    "\n",
    "# Aplicar la función\n",
    "df_final = correcting_holidays(df_final, holidays_to_exclude)"
   ]
  },
  {
   "cell_type": "code",
   "execution_count": 128,
   "id": "b2739b81-2114-40da-936a-49afe412bdf4",
   "metadata": {
    "tags": []
   },
   "outputs": [
    {
     "data": {
      "text/html": [
       "<div>\n",
       "<style scoped>\n",
       "    .dataframe tbody tr th:only-of-type {\n",
       "        vertical-align: middle;\n",
       "    }\n",
       "\n",
       "    .dataframe tbody tr th {\n",
       "        vertical-align: top;\n",
       "    }\n",
       "\n",
       "    .dataframe thead th {\n",
       "        text-align: right;\n",
       "    }\n",
       "</style>\n",
       "<table border=\"1\" class=\"dataframe\">\n",
       "  <thead>\n",
       "    <tr style=\"text-align: right;\">\n",
       "      <th></th>\n",
       "      <th>date</th>\n",
       "      <th>payer_country</th>\n",
       "      <th>payer</th>\n",
       "      <th>country</th>\n",
       "      <th>tx</th>\n",
       "      <th>amount</th>\n",
       "      <th>coupon_count</th>\n",
       "      <th>gp</th>\n",
       "      <th>day_x</th>\n",
       "      <th>margin</th>\n",
       "      <th>...</th>\n",
       "      <th>var_tx_cancelled_lag_28</th>\n",
       "      <th>var_tx_cancelled_lag_29</th>\n",
       "      <th>is_holiday</th>\n",
       "      <th>is_fourth_of_july</th>\n",
       "      <th>var_30ds</th>\n",
       "      <th>christmas_day</th>\n",
       "      <th>new_year_day</th>\n",
       "      <th>thanksgiving_day</th>\n",
       "      <th>post_holiday</th>\n",
       "      <th>day_of_the_dead</th>\n",
       "    </tr>\n",
       "  </thead>\n",
       "  <tbody>\n",
       "    <tr>\n",
       "      <th>77047</th>\n",
       "      <td>2022-07-05</td>\n",
       "      <td>ELEKTRA (MEXICO)_MEXICO</td>\n",
       "      <td>ELEKTRA (MEXICO)</td>\n",
       "      <td>MEXICO</td>\n",
       "      <td>14557</td>\n",
       "      <td>8005870.4100</td>\n",
       "      <td>178</td>\n",
       "      <td>63192.3037000</td>\n",
       "      <td>2022-07-05</td>\n",
       "      <td>4.341</td>\n",
       "      <td>...</td>\n",
       "      <td>-91</td>\n",
       "      <td>-29</td>\n",
       "      <td>0</td>\n",
       "      <td>0</td>\n",
       "      <td>0.0</td>\n",
       "      <td>0</td>\n",
       "      <td>0</td>\n",
       "      <td>0</td>\n",
       "      <td>1</td>\n",
       "      <td>0</td>\n",
       "    </tr>\n",
       "  </tbody>\n",
       "</table>\n",
       "<p>1 rows × 210 columns</p>\n",
       "</div>"
      ],
      "text/plain": [
       "            date            payer_country             payer country     tx  \\\n",
       "77047 2022-07-05  ELEKTRA (MEXICO)_MEXICO  ELEKTRA (MEXICO)  MEXICO  14557   \n",
       "\n",
       "             amount  coupon_count             gp      day_x  margin  ...  \\\n",
       "77047  8005870.4100           178  63192.3037000 2022-07-05   4.341  ...   \n",
       "\n",
       "      var_tx_cancelled_lag_28 var_tx_cancelled_lag_29 is_holiday  \\\n",
       "77047                     -91                     -29          0   \n",
       "\n",
       "      is_fourth_of_july var_30ds christmas_day new_year_day thanksgiving_day  \\\n",
       "77047                 0      0.0             0            0                0   \n",
       "\n",
       "      post_holiday day_of_the_dead  \n",
       "77047            1               0  \n",
       "\n",
       "[1 rows x 210 columns]"
      ]
     },
     "execution_count": 128,
     "metadata": {},
     "output_type": "execute_result"
    }
   ],
   "source": [
    "# Reviso\n",
    "df_final.loc[(df_final['payer_country'] == 'ELEKTRA (MEXICO)_MEXICO') & (df_final['date'] == '2022-07-05')]"
   ]
  },
  {
   "cell_type": "markdown",
   "id": "a117ac29-3279-4815-8b2c-912971f5c95a",
   "metadata": {
    "tags": []
   },
   "source": [
    "### Chequeos"
   ]
  },
  {
   "cell_type": "code",
   "execution_count": 129,
   "id": "d835287b-1f8c-463a-a368-a097e0d7c780",
   "metadata": {},
   "outputs": [
    {
     "data": {
      "text/html": [
       "<div>\n",
       "<style scoped>\n",
       "    .dataframe tbody tr th:only-of-type {\n",
       "        vertical-align: middle;\n",
       "    }\n",
       "\n",
       "    .dataframe tbody tr th {\n",
       "        vertical-align: top;\n",
       "    }\n",
       "\n",
       "    .dataframe thead th {\n",
       "        text-align: right;\n",
       "    }\n",
       "</style>\n",
       "<table border=\"1\" class=\"dataframe\">\n",
       "  <thead>\n",
       "    <tr style=\"text-align: right;\">\n",
       "      <th></th>\n",
       "      <th>date</th>\n",
       "      <th>payer_country</th>\n",
       "      <th>payer</th>\n",
       "      <th>country</th>\n",
       "      <th>tx</th>\n",
       "      <th>amount</th>\n",
       "      <th>coupon_count</th>\n",
       "      <th>gp</th>\n",
       "      <th>day_x</th>\n",
       "      <th>margin</th>\n",
       "      <th>...</th>\n",
       "      <th>var_tx_cancelled_lag_28</th>\n",
       "      <th>var_tx_cancelled_lag_29</th>\n",
       "      <th>is_holiday</th>\n",
       "      <th>is_fourth_of_july</th>\n",
       "      <th>var_30ds</th>\n",
       "      <th>christmas_day</th>\n",
       "      <th>new_year_day</th>\n",
       "      <th>thanksgiving_day</th>\n",
       "      <th>post_holiday</th>\n",
       "      <th>day_of_the_dead</th>\n",
       "    </tr>\n",
       "  </thead>\n",
       "  <tbody>\n",
       "    <tr>\n",
       "      <th>77221</th>\n",
       "      <td>2022-12-26</td>\n",
       "      <td>ELEKTRA (MEXICO)_MEXICO</td>\n",
       "      <td>ELEKTRA (MEXICO)</td>\n",
       "      <td>MEXICO</td>\n",
       "      <td>15975</td>\n",
       "      <td>7564267.2200</td>\n",
       "      <td>146</td>\n",
       "      <td>55560.4611000</td>\n",
       "      <td>2022-12-26</td>\n",
       "      <td>3.478</td>\n",
       "      <td>...</td>\n",
       "      <td>109</td>\n",
       "      <td>-124</td>\n",
       "      <td>0</td>\n",
       "      <td>0</td>\n",
       "      <td>0.0</td>\n",
       "      <td>0</td>\n",
       "      <td>0</td>\n",
       "      <td>0</td>\n",
       "      <td>1</td>\n",
       "      <td>0</td>\n",
       "    </tr>\n",
       "  </tbody>\n",
       "</table>\n",
       "<p>1 rows × 210 columns</p>\n",
       "</div>"
      ],
      "text/plain": [
       "            date            payer_country             payer country     tx  \\\n",
       "77221 2022-12-26  ELEKTRA (MEXICO)_MEXICO  ELEKTRA (MEXICO)  MEXICO  15975   \n",
       "\n",
       "             amount  coupon_count             gp      day_x  margin  ...  \\\n",
       "77221  7564267.2200           146  55560.4611000 2022-12-26   3.478  ...   \n",
       "\n",
       "      var_tx_cancelled_lag_28 var_tx_cancelled_lag_29 is_holiday  \\\n",
       "77221                     109                    -124          0   \n",
       "\n",
       "      is_fourth_of_july var_30ds christmas_day new_year_day thanksgiving_day  \\\n",
       "77221                 0      0.0             0            0                0   \n",
       "\n",
       "      post_holiday day_of_the_dead  \n",
       "77221            1               0  \n",
       "\n",
       "[1 rows x 210 columns]"
      ]
     },
     "execution_count": 129,
     "metadata": {},
     "output_type": "execute_result"
    }
   ],
   "source": [
    "df_final.loc[(df_final['payer_country'] == 'ELEKTRA (MEXICO)_MEXICO') & (df_final['date'] == '2022-12-26')]"
   ]
  },
  {
   "cell_type": "code",
   "execution_count": 130,
   "id": "4fe0a0de-ced4-49ed-9f5e-eca4e4ad83b4",
   "metadata": {
    "tags": []
   },
   "outputs": [
    {
     "data": {
      "text/html": [
       "<div>\n",
       "<style scoped>\n",
       "    .dataframe tbody tr th:only-of-type {\n",
       "        vertical-align: middle;\n",
       "    }\n",
       "\n",
       "    .dataframe tbody tr th {\n",
       "        vertical-align: top;\n",
       "    }\n",
       "\n",
       "    .dataframe thead th {\n",
       "        text-align: right;\n",
       "    }\n",
       "</style>\n",
       "<table border=\"1\" class=\"dataframe\">\n",
       "  <thead>\n",
       "    <tr style=\"text-align: right;\">\n",
       "      <th></th>\n",
       "      <th>date</th>\n",
       "      <th>payer_country</th>\n",
       "      <th>payer</th>\n",
       "      <th>country</th>\n",
       "      <th>tx</th>\n",
       "      <th>amount</th>\n",
       "      <th>coupon_count</th>\n",
       "      <th>gp</th>\n",
       "      <th>day_x</th>\n",
       "      <th>margin</th>\n",
       "      <th>...</th>\n",
       "      <th>var_tx_cancelled_lag_28</th>\n",
       "      <th>var_tx_cancelled_lag_29</th>\n",
       "      <th>is_holiday</th>\n",
       "      <th>is_fourth_of_july</th>\n",
       "      <th>var_30ds</th>\n",
       "      <th>christmas_day</th>\n",
       "      <th>new_year_day</th>\n",
       "      <th>thanksgiving_day</th>\n",
       "      <th>post_holiday</th>\n",
       "      <th>day_of_the_dead</th>\n",
       "    </tr>\n",
       "  </thead>\n",
       "  <tbody>\n",
       "    <tr>\n",
       "      <th>76863</th>\n",
       "      <td>2022-01-02</td>\n",
       "      <td>ELEKTRA (MEXICO)_MEXICO</td>\n",
       "      <td>ELEKTRA (MEXICO)</td>\n",
       "      <td>MEXICO</td>\n",
       "      <td>11433</td>\n",
       "      <td>4883713.8600</td>\n",
       "      <td>540</td>\n",
       "      <td>51938.8805000</td>\n",
       "      <td>2022-01-02</td>\n",
       "      <td>4.5429</td>\n",
       "      <td>...</td>\n",
       "      <td>-30</td>\n",
       "      <td>63</td>\n",
       "      <td>0</td>\n",
       "      <td>0</td>\n",
       "      <td>0.0</td>\n",
       "      <td>0</td>\n",
       "      <td>0</td>\n",
       "      <td>0</td>\n",
       "      <td>1</td>\n",
       "      <td>0</td>\n",
       "    </tr>\n",
       "  </tbody>\n",
       "</table>\n",
       "<p>1 rows × 210 columns</p>\n",
       "</div>"
      ],
      "text/plain": [
       "            date            payer_country             payer country     tx  \\\n",
       "76863 2022-01-02  ELEKTRA (MEXICO)_MEXICO  ELEKTRA (MEXICO)  MEXICO  11433   \n",
       "\n",
       "             amount  coupon_count             gp      day_x  margin  ...  \\\n",
       "76863  4883713.8600           540  51938.8805000 2022-01-02  4.5429  ...   \n",
       "\n",
       "      var_tx_cancelled_lag_28 var_tx_cancelled_lag_29 is_holiday  \\\n",
       "76863                     -30                      63          0   \n",
       "\n",
       "      is_fourth_of_july var_30ds christmas_day new_year_day thanksgiving_day  \\\n",
       "76863                 0      0.0             0            0                0   \n",
       "\n",
       "      post_holiday day_of_the_dead  \n",
       "76863            1               0  \n",
       "\n",
       "[1 rows x 210 columns]"
      ]
     },
     "execution_count": 130,
     "metadata": {},
     "output_type": "execute_result"
    }
   ],
   "source": [
    "df_final.loc[(df_final['payer_country'] == 'ELEKTRA (MEXICO)_MEXICO') & (df_final['date'] == '2022-01-02')]"
   ]
  },
  {
   "cell_type": "code",
   "execution_count": 131,
   "id": "ec3fa1ba-0537-4984-9c53-86f285cc4959",
   "metadata": {
    "tags": []
   },
   "outputs": [
    {
     "data": {
      "text/html": [
       "<div>\n",
       "<style scoped>\n",
       "    .dataframe tbody tr th:only-of-type {\n",
       "        vertical-align: middle;\n",
       "    }\n",
       "\n",
       "    .dataframe tbody tr th {\n",
       "        vertical-align: top;\n",
       "    }\n",
       "\n",
       "    .dataframe thead th {\n",
       "        text-align: right;\n",
       "    }\n",
       "</style>\n",
       "<table border=\"1\" class=\"dataframe\">\n",
       "  <thead>\n",
       "    <tr style=\"text-align: right;\">\n",
       "      <th></th>\n",
       "      <th>date</th>\n",
       "      <th>payer_country</th>\n",
       "      <th>payer</th>\n",
       "      <th>country</th>\n",
       "      <th>tx</th>\n",
       "      <th>amount</th>\n",
       "      <th>coupon_count</th>\n",
       "      <th>gp</th>\n",
       "      <th>day_x</th>\n",
       "      <th>margin</th>\n",
       "      <th>...</th>\n",
       "      <th>var_tx_cancelled_lag_28</th>\n",
       "      <th>var_tx_cancelled_lag_29</th>\n",
       "      <th>is_holiday</th>\n",
       "      <th>is_fourth_of_july</th>\n",
       "      <th>var_30ds</th>\n",
       "      <th>christmas_day</th>\n",
       "      <th>new_year_day</th>\n",
       "      <th>thanksgiving_day</th>\n",
       "      <th>post_holiday</th>\n",
       "      <th>day_of_the_dead</th>\n",
       "    </tr>\n",
       "  </thead>\n",
       "  <tbody>\n",
       "    <tr>\n",
       "      <th>77411</th>\n",
       "      <td>2023-07-04</td>\n",
       "      <td>ELEKTRA (MEXICO)_MEXICO</td>\n",
       "      <td>ELEKTRA (MEXICO)</td>\n",
       "      <td>MEXICO</td>\n",
       "      <td>7090</td>\n",
       "      <td>3795075.9800</td>\n",
       "      <td>105</td>\n",
       "      <td>40150.9144067</td>\n",
       "      <td>2023-07-04</td>\n",
       "      <td>5.663</td>\n",
       "      <td>...</td>\n",
       "      <td>-74</td>\n",
       "      <td>-40</td>\n",
       "      <td>0</td>\n",
       "      <td>1</td>\n",
       "      <td>-0.554127</td>\n",
       "      <td>0</td>\n",
       "      <td>0</td>\n",
       "      <td>0</td>\n",
       "      <td>0</td>\n",
       "      <td>0</td>\n",
       "    </tr>\n",
       "  </tbody>\n",
       "</table>\n",
       "<p>1 rows × 210 columns</p>\n",
       "</div>"
      ],
      "text/plain": [
       "            date            payer_country             payer country    tx  \\\n",
       "77411 2023-07-04  ELEKTRA (MEXICO)_MEXICO  ELEKTRA (MEXICO)  MEXICO  7090   \n",
       "\n",
       "             amount  coupon_count             gp      day_x  margin  ...  \\\n",
       "77411  3795075.9800           105  40150.9144067 2023-07-04   5.663  ...   \n",
       "\n",
       "      var_tx_cancelled_lag_28 var_tx_cancelled_lag_29 is_holiday  \\\n",
       "77411                     -74                     -40          0   \n",
       "\n",
       "      is_fourth_of_july  var_30ds christmas_day new_year_day thanksgiving_day  \\\n",
       "77411                 1 -0.554127             0            0                0   \n",
       "\n",
       "      post_holiday day_of_the_dead  \n",
       "77411            0               0  \n",
       "\n",
       "[1 rows x 210 columns]"
      ]
     },
     "execution_count": 131,
     "metadata": {},
     "output_type": "execute_result"
    }
   ],
   "source": [
    "df_final.loc[(df_final['payer_country'] == 'ELEKTRA (MEXICO)_MEXICO') & (df_final['date'] == '2023-07-04')]"
   ]
  },
  {
   "cell_type": "code",
   "execution_count": 132,
   "id": "c149bca6-5f6a-434f-8809-f1e9eae130ca",
   "metadata": {
    "tags": []
   },
   "outputs": [
    {
     "data": {
      "text/html": [
       "<div>\n",
       "<style scoped>\n",
       "    .dataframe tbody tr th:only-of-type {\n",
       "        vertical-align: middle;\n",
       "    }\n",
       "\n",
       "    .dataframe tbody tr th {\n",
       "        vertical-align: top;\n",
       "    }\n",
       "\n",
       "    .dataframe thead th {\n",
       "        text-align: right;\n",
       "    }\n",
       "</style>\n",
       "<table border=\"1\" class=\"dataframe\">\n",
       "  <thead>\n",
       "    <tr style=\"text-align: right;\">\n",
       "      <th></th>\n",
       "      <th>date</th>\n",
       "      <th>payer_country</th>\n",
       "      <th>payer</th>\n",
       "      <th>country</th>\n",
       "      <th>tx</th>\n",
       "      <th>amount</th>\n",
       "      <th>coupon_count</th>\n",
       "      <th>gp</th>\n",
       "      <th>day_x</th>\n",
       "      <th>margin</th>\n",
       "      <th>...</th>\n",
       "      <th>var_tx_cancelled_lag_28</th>\n",
       "      <th>var_tx_cancelled_lag_29</th>\n",
       "      <th>is_holiday</th>\n",
       "      <th>is_fourth_of_july</th>\n",
       "      <th>var_30ds</th>\n",
       "      <th>christmas_day</th>\n",
       "      <th>new_year_day</th>\n",
       "      <th>thanksgiving_day</th>\n",
       "      <th>post_holiday</th>\n",
       "      <th>day_of_the_dead</th>\n",
       "    </tr>\n",
       "  </thead>\n",
       "  <tbody>\n",
       "    <tr>\n",
       "      <th>77473</th>\n",
       "      <td>2023-09-04</td>\n",
       "      <td>ELEKTRA (MEXICO)_MEXICO</td>\n",
       "      <td>ELEKTRA (MEXICO)</td>\n",
       "      <td>MEXICO</td>\n",
       "      <td>14724</td>\n",
       "      <td>8005536.4000</td>\n",
       "      <td>248</td>\n",
       "      <td>122203.0235271</td>\n",
       "      <td>2023-09-04</td>\n",
       "      <td>8.2996</td>\n",
       "      <td>...</td>\n",
       "      <td>-45</td>\n",
       "      <td>-54</td>\n",
       "      <td>1</td>\n",
       "      <td>0</td>\n",
       "      <td>-0.09106</td>\n",
       "      <td>0</td>\n",
       "      <td>0</td>\n",
       "      <td>0</td>\n",
       "      <td>0</td>\n",
       "      <td>0</td>\n",
       "    </tr>\n",
       "  </tbody>\n",
       "</table>\n",
       "<p>1 rows × 210 columns</p>\n",
       "</div>"
      ],
      "text/plain": [
       "            date            payer_country             payer country     tx  \\\n",
       "77473 2023-09-04  ELEKTRA (MEXICO)_MEXICO  ELEKTRA (MEXICO)  MEXICO  14724   \n",
       "\n",
       "             amount  coupon_count              gp      day_x  margin  ...  \\\n",
       "77473  8005536.4000           248  122203.0235271 2023-09-04  8.2996  ...   \n",
       "\n",
       "      var_tx_cancelled_lag_28 var_tx_cancelled_lag_29 is_holiday  \\\n",
       "77473                     -45                     -54          1   \n",
       "\n",
       "      is_fourth_of_july var_30ds christmas_day new_year_day thanksgiving_day  \\\n",
       "77473                 0 -0.09106             0            0                0   \n",
       "\n",
       "      post_holiday day_of_the_dead  \n",
       "77473            0               0  \n",
       "\n",
       "[1 rows x 210 columns]"
      ]
     },
     "execution_count": 132,
     "metadata": {},
     "output_type": "execute_result"
    }
   ],
   "source": [
    "df_final.loc[(df_final['payer_country'] == 'ELEKTRA (MEXICO)_MEXICO') & (df_final['date'] == '2023-09-04')]"
   ]
  },
  {
   "cell_type": "code",
   "execution_count": 133,
   "id": "66fc3763-ca76-4853-8286-c3ecac34c3d3",
   "metadata": {
    "tags": []
   },
   "outputs": [
    {
     "data": {
      "text/html": [
       "<div>\n",
       "<style scoped>\n",
       "    .dataframe tbody tr th:only-of-type {\n",
       "        vertical-align: middle;\n",
       "    }\n",
       "\n",
       "    .dataframe tbody tr th {\n",
       "        vertical-align: top;\n",
       "    }\n",
       "\n",
       "    .dataframe thead th {\n",
       "        text-align: right;\n",
       "    }\n",
       "</style>\n",
       "<table border=\"1\" class=\"dataframe\">\n",
       "  <thead>\n",
       "    <tr style=\"text-align: right;\">\n",
       "      <th></th>\n",
       "      <th>date</th>\n",
       "      <th>payer_country</th>\n",
       "      <th>payer</th>\n",
       "      <th>country</th>\n",
       "      <th>tx</th>\n",
       "      <th>amount</th>\n",
       "      <th>coupon_count</th>\n",
       "      <th>gp</th>\n",
       "      <th>day_x</th>\n",
       "      <th>margin</th>\n",
       "      <th>...</th>\n",
       "      <th>var_tx_cancelled_lag_28</th>\n",
       "      <th>var_tx_cancelled_lag_29</th>\n",
       "      <th>is_holiday</th>\n",
       "      <th>is_fourth_of_july</th>\n",
       "      <th>var_30ds</th>\n",
       "      <th>christmas_day</th>\n",
       "      <th>new_year_day</th>\n",
       "      <th>thanksgiving_day</th>\n",
       "      <th>post_holiday</th>\n",
       "      <th>day_of_the_dead</th>\n",
       "    </tr>\n",
       "  </thead>\n",
       "  <tbody>\n",
       "    <tr>\n",
       "      <th>77227</th>\n",
       "      <td>2023-01-01</td>\n",
       "      <td>ELEKTRA (MEXICO)_MEXICO</td>\n",
       "      <td>ELEKTRA (MEXICO)</td>\n",
       "      <td>MEXICO</td>\n",
       "      <td>4559</td>\n",
       "      <td>2018279.4200</td>\n",
       "      <td>14</td>\n",
       "      <td>10556.7577189</td>\n",
       "      <td>2023-01-01</td>\n",
       "      <td>2.3156</td>\n",
       "      <td>...</td>\n",
       "      <td>34</td>\n",
       "      <td>154</td>\n",
       "      <td>0</td>\n",
       "      <td>0</td>\n",
       "      <td>-0.73953</td>\n",
       "      <td>0</td>\n",
       "      <td>1</td>\n",
       "      <td>0</td>\n",
       "      <td>0</td>\n",
       "      <td>0</td>\n",
       "    </tr>\n",
       "  </tbody>\n",
       "</table>\n",
       "<p>1 rows × 210 columns</p>\n",
       "</div>"
      ],
      "text/plain": [
       "            date            payer_country             payer country    tx  \\\n",
       "77227 2023-01-01  ELEKTRA (MEXICO)_MEXICO  ELEKTRA (MEXICO)  MEXICO  4559   \n",
       "\n",
       "             amount  coupon_count             gp      day_x  margin  ...  \\\n",
       "77227  2018279.4200            14  10556.7577189 2023-01-01  2.3156  ...   \n",
       "\n",
       "      var_tx_cancelled_lag_28 var_tx_cancelled_lag_29 is_holiday  \\\n",
       "77227                      34                     154          0   \n",
       "\n",
       "      is_fourth_of_july var_30ds christmas_day new_year_day thanksgiving_day  \\\n",
       "77227                 0 -0.73953             0            1                0   \n",
       "\n",
       "      post_holiday day_of_the_dead  \n",
       "77227            0               0  \n",
       "\n",
       "[1 rows x 210 columns]"
      ]
     },
     "execution_count": 133,
     "metadata": {},
     "output_type": "execute_result"
    }
   ],
   "source": [
    "df_final.loc[(df_final['payer_country'] == 'ELEKTRA (MEXICO)_MEXICO') & (df_final['date'] == '2023-01-01')]"
   ]
  },
  {
   "cell_type": "code",
   "execution_count": 134,
   "id": "e12e1ced-8b57-40da-a17a-f33fcf7f98b7",
   "metadata": {
    "tags": []
   },
   "outputs": [
    {
     "name": "stderr",
     "output_type": "stream",
     "text": [
      "/tmp/ipykernel_538/1811074113.py:2: FutureWarning: Setting an item of incompatible dtype is deprecated and will raise in a future error of pandas. Value '0' has dtype incompatible with datetime64[ns], please explicitly cast to a compatible dtype first.\n",
      "  df_final.fillna(0, inplace=True)\n"
     ]
    }
   ],
   "source": [
    "# Filling NaN in exogenous and lags\n",
    "df_final.fillna(0, inplace=True)"
   ]
  },
  {
   "cell_type": "markdown",
   "id": "ddc95039-4242-460e-8366-1956c7a21c91",
   "metadata": {},
   "source": [
    "### Guardo en S3"
   ]
  },
  {
   "cell_type": "code",
   "execution_count": 138,
   "id": "0b0537d4-0277-4c56-90f0-9ae1f840ae2a",
   "metadata": {},
   "outputs": [
    {
     "data": {
      "text/plain": [
       "{'paths': ['s3://viamericas-datalake-dev-us-east-1-283731589572-analytics/ABTv4/ABTv4.csv'],\n",
       " 'partitions_values': {}}"
      ]
     },
     "execution_count": 138,
     "metadata": {},
     "output_type": "execute_result"
    }
   ],
   "source": [
    "# Dejo el archivo en S3\n",
    "\n",
    "bucket = 'viamericas-datalake-dev-us-east-1-283731589572-analytics'\n",
    "prefix_abt = 'ABTv4'\n",
    "file_name = 'ABTv4.parquet'\n",
    "\n",
    "# Ruta S3\n",
    "s3_path = f\"s3://{bucket}/{prefix_abt}/{file_name}\"\n",
    "\n",
    "wr.s3.to_parquet(df_final, path=s3_path, index=False)"
   ]
  },
  {
   "cell_type": "code",
   "execution_count": 136,
   "id": "0d4e37de-f71f-42f0-8098-5363564c1715",
   "metadata": {
    "tags": []
   },
   "outputs": [
    {
     "data": {
      "text/plain": [
       "Decimal('26753064533.7617')"
      ]
     },
     "execution_count": 136,
     "metadata": {},
     "output_type": "execute_result"
    }
   ],
   "source": [
    "df_final['amount'].sum()"
   ]
  },
  {
   "cell_type": "code",
   "execution_count": 137,
   "id": "1d0c12ea-390a-4e2c-8570-9c512f36e4fa",
   "metadata": {},
   "outputs": [
    {
     "data": {
      "text/plain": [
       "Decimal('24239232368.7517')"
      ]
     },
     "execution_count": 137,
     "metadata": {},
     "output_type": "execute_result"
    }
   ],
   "source": [
    "df_final_filtered = df_final.loc[df_final['date'] <= '2023-10-20']\n",
    "df_final_filtered['amount'].sum()"
   ]
  },
  {
   "cell_type": "code",
   "execution_count": 84,
   "id": "95885269-d2b6-43f1-910d-e0d871206913",
   "metadata": {
    "tags": []
   },
   "outputs": [],
   "source": [
    "#df_final.isna().sum().to_list()"
   ]
  },
  {
   "cell_type": "code",
   "execution_count": null,
   "id": "49fb018b-5abd-4b5b-9559-d251635b3d76",
   "metadata": {},
   "outputs": [],
   "source": []
  }
 ],
 "metadata": {
  "availableInstances": [
   {
    "_defaultOrder": 0,
    "_isFastLaunch": true,
    "category": "General purpose",
    "gpuNum": 0,
    "hideHardwareSpecs": false,
    "memoryGiB": 4,
    "name": "ml.t3.medium",
    "vcpuNum": 2
   },
   {
    "_defaultOrder": 1,
    "_isFastLaunch": false,
    "category": "General purpose",
    "gpuNum": 0,
    "hideHardwareSpecs": false,
    "memoryGiB": 8,
    "name": "ml.t3.large",
    "vcpuNum": 2
   },
   {
    "_defaultOrder": 2,
    "_isFastLaunch": false,
    "category": "General purpose",
    "gpuNum": 0,
    "hideHardwareSpecs": false,
    "memoryGiB": 16,
    "name": "ml.t3.xlarge",
    "vcpuNum": 4
   },
   {
    "_defaultOrder": 3,
    "_isFastLaunch": false,
    "category": "General purpose",
    "gpuNum": 0,
    "hideHardwareSpecs": false,
    "memoryGiB": 32,
    "name": "ml.t3.2xlarge",
    "vcpuNum": 8
   },
   {
    "_defaultOrder": 4,
    "_isFastLaunch": true,
    "category": "General purpose",
    "gpuNum": 0,
    "hideHardwareSpecs": false,
    "memoryGiB": 8,
    "name": "ml.m5.large",
    "vcpuNum": 2
   },
   {
    "_defaultOrder": 5,
    "_isFastLaunch": false,
    "category": "General purpose",
    "gpuNum": 0,
    "hideHardwareSpecs": false,
    "memoryGiB": 16,
    "name": "ml.m5.xlarge",
    "vcpuNum": 4
   },
   {
    "_defaultOrder": 6,
    "_isFastLaunch": false,
    "category": "General purpose",
    "gpuNum": 0,
    "hideHardwareSpecs": false,
    "memoryGiB": 32,
    "name": "ml.m5.2xlarge",
    "vcpuNum": 8
   },
   {
    "_defaultOrder": 7,
    "_isFastLaunch": false,
    "category": "General purpose",
    "gpuNum": 0,
    "hideHardwareSpecs": false,
    "memoryGiB": 64,
    "name": "ml.m5.4xlarge",
    "vcpuNum": 16
   },
   {
    "_defaultOrder": 8,
    "_isFastLaunch": false,
    "category": "General purpose",
    "gpuNum": 0,
    "hideHardwareSpecs": false,
    "memoryGiB": 128,
    "name": "ml.m5.8xlarge",
    "vcpuNum": 32
   },
   {
    "_defaultOrder": 9,
    "_isFastLaunch": false,
    "category": "General purpose",
    "gpuNum": 0,
    "hideHardwareSpecs": false,
    "memoryGiB": 192,
    "name": "ml.m5.12xlarge",
    "vcpuNum": 48
   },
   {
    "_defaultOrder": 10,
    "_isFastLaunch": false,
    "category": "General purpose",
    "gpuNum": 0,
    "hideHardwareSpecs": false,
    "memoryGiB": 256,
    "name": "ml.m5.16xlarge",
    "vcpuNum": 64
   },
   {
    "_defaultOrder": 11,
    "_isFastLaunch": false,
    "category": "General purpose",
    "gpuNum": 0,
    "hideHardwareSpecs": false,
    "memoryGiB": 384,
    "name": "ml.m5.24xlarge",
    "vcpuNum": 96
   },
   {
    "_defaultOrder": 12,
    "_isFastLaunch": false,
    "category": "General purpose",
    "gpuNum": 0,
    "hideHardwareSpecs": false,
    "memoryGiB": 8,
    "name": "ml.m5d.large",
    "vcpuNum": 2
   },
   {
    "_defaultOrder": 13,
    "_isFastLaunch": false,
    "category": "General purpose",
    "gpuNum": 0,
    "hideHardwareSpecs": false,
    "memoryGiB": 16,
    "name": "ml.m5d.xlarge",
    "vcpuNum": 4
   },
   {
    "_defaultOrder": 14,
    "_isFastLaunch": false,
    "category": "General purpose",
    "gpuNum": 0,
    "hideHardwareSpecs": false,
    "memoryGiB": 32,
    "name": "ml.m5d.2xlarge",
    "vcpuNum": 8
   },
   {
    "_defaultOrder": 15,
    "_isFastLaunch": false,
    "category": "General purpose",
    "gpuNum": 0,
    "hideHardwareSpecs": false,
    "memoryGiB": 64,
    "name": "ml.m5d.4xlarge",
    "vcpuNum": 16
   },
   {
    "_defaultOrder": 16,
    "_isFastLaunch": false,
    "category": "General purpose",
    "gpuNum": 0,
    "hideHardwareSpecs": false,
    "memoryGiB": 128,
    "name": "ml.m5d.8xlarge",
    "vcpuNum": 32
   },
   {
    "_defaultOrder": 17,
    "_isFastLaunch": false,
    "category": "General purpose",
    "gpuNum": 0,
    "hideHardwareSpecs": false,
    "memoryGiB": 192,
    "name": "ml.m5d.12xlarge",
    "vcpuNum": 48
   },
   {
    "_defaultOrder": 18,
    "_isFastLaunch": false,
    "category": "General purpose",
    "gpuNum": 0,
    "hideHardwareSpecs": false,
    "memoryGiB": 256,
    "name": "ml.m5d.16xlarge",
    "vcpuNum": 64
   },
   {
    "_defaultOrder": 19,
    "_isFastLaunch": false,
    "category": "General purpose",
    "gpuNum": 0,
    "hideHardwareSpecs": false,
    "memoryGiB": 384,
    "name": "ml.m5d.24xlarge",
    "vcpuNum": 96
   },
   {
    "_defaultOrder": 20,
    "_isFastLaunch": false,
    "category": "General purpose",
    "gpuNum": 0,
    "hideHardwareSpecs": true,
    "memoryGiB": 0,
    "name": "ml.geospatial.interactive",
    "supportedImageNames": [
     "sagemaker-geospatial-v1-0"
    ],
    "vcpuNum": 0
   },
   {
    "_defaultOrder": 21,
    "_isFastLaunch": true,
    "category": "Compute optimized",
    "gpuNum": 0,
    "hideHardwareSpecs": false,
    "memoryGiB": 4,
    "name": "ml.c5.large",
    "vcpuNum": 2
   },
   {
    "_defaultOrder": 22,
    "_isFastLaunch": false,
    "category": "Compute optimized",
    "gpuNum": 0,
    "hideHardwareSpecs": false,
    "memoryGiB": 8,
    "name": "ml.c5.xlarge",
    "vcpuNum": 4
   },
   {
    "_defaultOrder": 23,
    "_isFastLaunch": false,
    "category": "Compute optimized",
    "gpuNum": 0,
    "hideHardwareSpecs": false,
    "memoryGiB": 16,
    "name": "ml.c5.2xlarge",
    "vcpuNum": 8
   },
   {
    "_defaultOrder": 24,
    "_isFastLaunch": false,
    "category": "Compute optimized",
    "gpuNum": 0,
    "hideHardwareSpecs": false,
    "memoryGiB": 32,
    "name": "ml.c5.4xlarge",
    "vcpuNum": 16
   },
   {
    "_defaultOrder": 25,
    "_isFastLaunch": false,
    "category": "Compute optimized",
    "gpuNum": 0,
    "hideHardwareSpecs": false,
    "memoryGiB": 72,
    "name": "ml.c5.9xlarge",
    "vcpuNum": 36
   },
   {
    "_defaultOrder": 26,
    "_isFastLaunch": false,
    "category": "Compute optimized",
    "gpuNum": 0,
    "hideHardwareSpecs": false,
    "memoryGiB": 96,
    "name": "ml.c5.12xlarge",
    "vcpuNum": 48
   },
   {
    "_defaultOrder": 27,
    "_isFastLaunch": false,
    "category": "Compute optimized",
    "gpuNum": 0,
    "hideHardwareSpecs": false,
    "memoryGiB": 144,
    "name": "ml.c5.18xlarge",
    "vcpuNum": 72
   },
   {
    "_defaultOrder": 28,
    "_isFastLaunch": false,
    "category": "Compute optimized",
    "gpuNum": 0,
    "hideHardwareSpecs": false,
    "memoryGiB": 192,
    "name": "ml.c5.24xlarge",
    "vcpuNum": 96
   },
   {
    "_defaultOrder": 29,
    "_isFastLaunch": true,
    "category": "Accelerated computing",
    "gpuNum": 1,
    "hideHardwareSpecs": false,
    "memoryGiB": 16,
    "name": "ml.g4dn.xlarge",
    "vcpuNum": 4
   },
   {
    "_defaultOrder": 30,
    "_isFastLaunch": false,
    "category": "Accelerated computing",
    "gpuNum": 1,
    "hideHardwareSpecs": false,
    "memoryGiB": 32,
    "name": "ml.g4dn.2xlarge",
    "vcpuNum": 8
   },
   {
    "_defaultOrder": 31,
    "_isFastLaunch": false,
    "category": "Accelerated computing",
    "gpuNum": 1,
    "hideHardwareSpecs": false,
    "memoryGiB": 64,
    "name": "ml.g4dn.4xlarge",
    "vcpuNum": 16
   },
   {
    "_defaultOrder": 32,
    "_isFastLaunch": false,
    "category": "Accelerated computing",
    "gpuNum": 1,
    "hideHardwareSpecs": false,
    "memoryGiB": 128,
    "name": "ml.g4dn.8xlarge",
    "vcpuNum": 32
   },
   {
    "_defaultOrder": 33,
    "_isFastLaunch": false,
    "category": "Accelerated computing",
    "gpuNum": 4,
    "hideHardwareSpecs": false,
    "memoryGiB": 192,
    "name": "ml.g4dn.12xlarge",
    "vcpuNum": 48
   },
   {
    "_defaultOrder": 34,
    "_isFastLaunch": false,
    "category": "Accelerated computing",
    "gpuNum": 1,
    "hideHardwareSpecs": false,
    "memoryGiB": 256,
    "name": "ml.g4dn.16xlarge",
    "vcpuNum": 64
   },
   {
    "_defaultOrder": 35,
    "_isFastLaunch": false,
    "category": "Accelerated computing",
    "gpuNum": 1,
    "hideHardwareSpecs": false,
    "memoryGiB": 61,
    "name": "ml.p3.2xlarge",
    "vcpuNum": 8
   },
   {
    "_defaultOrder": 36,
    "_isFastLaunch": false,
    "category": "Accelerated computing",
    "gpuNum": 4,
    "hideHardwareSpecs": false,
    "memoryGiB": 244,
    "name": "ml.p3.8xlarge",
    "vcpuNum": 32
   },
   {
    "_defaultOrder": 37,
    "_isFastLaunch": false,
    "category": "Accelerated computing",
    "gpuNum": 8,
    "hideHardwareSpecs": false,
    "memoryGiB": 488,
    "name": "ml.p3.16xlarge",
    "vcpuNum": 64
   },
   {
    "_defaultOrder": 38,
    "_isFastLaunch": false,
    "category": "Accelerated computing",
    "gpuNum": 8,
    "hideHardwareSpecs": false,
    "memoryGiB": 768,
    "name": "ml.p3dn.24xlarge",
    "vcpuNum": 96
   },
   {
    "_defaultOrder": 39,
    "_isFastLaunch": false,
    "category": "Memory Optimized",
    "gpuNum": 0,
    "hideHardwareSpecs": false,
    "memoryGiB": 16,
    "name": "ml.r5.large",
    "vcpuNum": 2
   },
   {
    "_defaultOrder": 40,
    "_isFastLaunch": false,
    "category": "Memory Optimized",
    "gpuNum": 0,
    "hideHardwareSpecs": false,
    "memoryGiB": 32,
    "name": "ml.r5.xlarge",
    "vcpuNum": 4
   },
   {
    "_defaultOrder": 41,
    "_isFastLaunch": false,
    "category": "Memory Optimized",
    "gpuNum": 0,
    "hideHardwareSpecs": false,
    "memoryGiB": 64,
    "name": "ml.r5.2xlarge",
    "vcpuNum": 8
   },
   {
    "_defaultOrder": 42,
    "_isFastLaunch": false,
    "category": "Memory Optimized",
    "gpuNum": 0,
    "hideHardwareSpecs": false,
    "memoryGiB": 128,
    "name": "ml.r5.4xlarge",
    "vcpuNum": 16
   },
   {
    "_defaultOrder": 43,
    "_isFastLaunch": false,
    "category": "Memory Optimized",
    "gpuNum": 0,
    "hideHardwareSpecs": false,
    "memoryGiB": 256,
    "name": "ml.r5.8xlarge",
    "vcpuNum": 32
   },
   {
    "_defaultOrder": 44,
    "_isFastLaunch": false,
    "category": "Memory Optimized",
    "gpuNum": 0,
    "hideHardwareSpecs": false,
    "memoryGiB": 384,
    "name": "ml.r5.12xlarge",
    "vcpuNum": 48
   },
   {
    "_defaultOrder": 45,
    "_isFastLaunch": false,
    "category": "Memory Optimized",
    "gpuNum": 0,
    "hideHardwareSpecs": false,
    "memoryGiB": 512,
    "name": "ml.r5.16xlarge",
    "vcpuNum": 64
   },
   {
    "_defaultOrder": 46,
    "_isFastLaunch": false,
    "category": "Memory Optimized",
    "gpuNum": 0,
    "hideHardwareSpecs": false,
    "memoryGiB": 768,
    "name": "ml.r5.24xlarge",
    "vcpuNum": 96
   },
   {
    "_defaultOrder": 47,
    "_isFastLaunch": false,
    "category": "Accelerated computing",
    "gpuNum": 1,
    "hideHardwareSpecs": false,
    "memoryGiB": 16,
    "name": "ml.g5.xlarge",
    "vcpuNum": 4
   },
   {
    "_defaultOrder": 48,
    "_isFastLaunch": false,
    "category": "Accelerated computing",
    "gpuNum": 1,
    "hideHardwareSpecs": false,
    "memoryGiB": 32,
    "name": "ml.g5.2xlarge",
    "vcpuNum": 8
   },
   {
    "_defaultOrder": 49,
    "_isFastLaunch": false,
    "category": "Accelerated computing",
    "gpuNum": 1,
    "hideHardwareSpecs": false,
    "memoryGiB": 64,
    "name": "ml.g5.4xlarge",
    "vcpuNum": 16
   },
   {
    "_defaultOrder": 50,
    "_isFastLaunch": false,
    "category": "Accelerated computing",
    "gpuNum": 1,
    "hideHardwareSpecs": false,
    "memoryGiB": 128,
    "name": "ml.g5.8xlarge",
    "vcpuNum": 32
   },
   {
    "_defaultOrder": 51,
    "_isFastLaunch": false,
    "category": "Accelerated computing",
    "gpuNum": 1,
    "hideHardwareSpecs": false,
    "memoryGiB": 256,
    "name": "ml.g5.16xlarge",
    "vcpuNum": 64
   },
   {
    "_defaultOrder": 52,
    "_isFastLaunch": false,
    "category": "Accelerated computing",
    "gpuNum": 4,
    "hideHardwareSpecs": false,
    "memoryGiB": 192,
    "name": "ml.g5.12xlarge",
    "vcpuNum": 48
   },
   {
    "_defaultOrder": 53,
    "_isFastLaunch": false,
    "category": "Accelerated computing",
    "gpuNum": 4,
    "hideHardwareSpecs": false,
    "memoryGiB": 384,
    "name": "ml.g5.24xlarge",
    "vcpuNum": 96
   },
   {
    "_defaultOrder": 54,
    "_isFastLaunch": false,
    "category": "Accelerated computing",
    "gpuNum": 8,
    "hideHardwareSpecs": false,
    "memoryGiB": 768,
    "name": "ml.g5.48xlarge",
    "vcpuNum": 192
   },
   {
    "_defaultOrder": 55,
    "_isFastLaunch": false,
    "category": "Accelerated computing",
    "gpuNum": 8,
    "hideHardwareSpecs": false,
    "memoryGiB": 1152,
    "name": "ml.p4d.24xlarge",
    "vcpuNum": 96
   },
   {
    "_defaultOrder": 56,
    "_isFastLaunch": false,
    "category": "Accelerated computing",
    "gpuNum": 8,
    "hideHardwareSpecs": false,
    "memoryGiB": 1152,
    "name": "ml.p4de.24xlarge",
    "vcpuNum": 96
   },
   {
    "_defaultOrder": 57,
    "_isFastLaunch": false,
    "category": "Accelerated computing",
    "gpuNum": 0,
    "hideHardwareSpecs": false,
    "memoryGiB": 32,
    "name": "ml.trn1.2xlarge",
    "vcpuNum": 8
   },
   {
    "_defaultOrder": 58,
    "_isFastLaunch": false,
    "category": "Accelerated computing",
    "gpuNum": 0,
    "hideHardwareSpecs": false,
    "memoryGiB": 512,
    "name": "ml.trn1.32xlarge",
    "vcpuNum": 128
   },
   {
    "_defaultOrder": 59,
    "_isFastLaunch": false,
    "category": "Accelerated computing",
    "gpuNum": 0,
    "hideHardwareSpecs": false,
    "memoryGiB": 512,
    "name": "ml.trn1n.32xlarge",
    "vcpuNum": 128
   }
  ],
  "instance_type": "ml.m5.8xlarge",
  "kernelspec": {
   "display_name": "Python 3 (Data Science 3.0)",
   "language": "python",
   "name": "python3__SAGEMAKER_INTERNAL__arn:aws:sagemaker:us-east-1:081325390199:image/sagemaker-data-science-310-v1"
  },
  "language_info": {
   "codemirror_mode": {
    "name": "ipython",
    "version": 3
   },
   "file_extension": ".py",
   "mimetype": "text/x-python",
   "name": "python",
   "nbconvert_exporter": "python",
   "pygments_lexer": "ipython3",
   "version": "3.10.6"
  }
 },
 "nbformat": 4,
 "nbformat_minor": 5
}
