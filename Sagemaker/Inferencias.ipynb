{
 "cells": [
  {
   "cell_type": "code",
   "execution_count": 30,
   "id": "09758d89-0f6c-4811-bdc0-b07d7eaa6b73",
   "metadata": {
    "tags": []
   },
   "outputs": [],
   "source": [
    "# !pip install awswrangler\n",
    "# !pip install skforecast\n",
    "# !pip install pmdarima"
   ]
  },
  {
   "cell_type": "code",
   "execution_count": 190,
   "id": "b07ad127-615b-42eb-906b-698c0311e4dc",
   "metadata": {
    "tags": []
   },
   "outputs": [],
   "source": [
    "import awswrangler as wr\n",
    "import pandas as pd\n",
    "import boto3\n",
    "import pickle\n",
    "from io import BytesIO\n",
    "from io import StringIO\n",
    "import joblib\n",
    "import os\n",
    "from datetime import datetime, timedelta\n",
    "import warnings\n",
    "\n",
    "# skforecast\n",
    "from skforecast.Sarimax import Sarimax\n",
    "from skforecast.ForecasterSarimax import ForecasterSarimax\n",
    "from skforecast.model_selection_sarimax import backtesting_sarimax\n",
    "from skforecast.model_selection_sarimax import grid_search_sarimax\n",
    "from sklearn.metrics import mean_absolute_error\n"
   ]
  },
  {
   "cell_type": "code",
   "execution_count": 6,
   "id": "497e38ec-b395-4684-8d5a-266512b27127",
   "metadata": {
    "tags": []
   },
   "outputs": [],
   "source": [
    "# Set up S3 client\n",
    "client = boto3.client('s3')\n",
    "bucket_name = 'viamericas-datalake-dev-us-east-1-283731589572-analytics'\n",
    "path = 'ABTv3/Last_releases/' # Folder under analysis\n",
    "\n",
    "ABTversion = 'v3'\n",
    "path_ABT = f'ABT{ABTversion}/' "
   ]
  },
  {
   "cell_type": "code",
   "execution_count": 7,
   "id": "f64be7cb-017e-452e-9444-96f152a5fba5",
   "metadata": {
    "tags": []
   },
   "outputs": [
    {
     "name": "stdout",
     "output_type": "stream",
     "text": [
      "CSV file loaded\n"
     ]
    }
   ],
   "source": [
    "# Specify the CSV file key\n",
    "csv_key = None\n",
    "\n",
    "# List objects in the S3 path\n",
    "response = client.list_objects(Bucket=bucket_name, Prefix=path_ABT)\n",
    "\n",
    "# Find the CSV file in the S3 path\n",
    "for obj in response.get('Contents', []):\n",
    "    if obj['Key'].endswith('.csv'):\n",
    "        csv_key = obj['Key']\n",
    "        break\n",
    "        \n",
    "# Check if CSV file is found\n",
    "if csv_key is not None:\n",
    "    # Read CSV content from S3\n",
    "    csv_response = client.get_object(Bucket=bucket_name, Key=csv_key)\n",
    "    csv_content = csv_response['Body'].read().decode('utf-8')\n",
    "\n",
    "    # Transform CSV content to DataFrame\n",
    "    data = pd.read_csv(StringIO(csv_content))\n",
    "    data['date'] = pd.to_datetime(data['date']).dt.date\n",
    "    print(\"CSV file loaded\")\n",
    "else:\n",
    "    print(\"No CSV file found in the specified S3 path.\")"
   ]
  },
  {
   "cell_type": "code",
   "execution_count": 8,
   "id": "d03123a1-7bc1-4b12-b53b-98d3ea8dcffc",
   "metadata": {
    "tags": []
   },
   "outputs": [],
   "source": [
    "#data = data[data['date'] < pd.to_datetime('2023-12-25').date()]"
   ]
  },
  {
   "cell_type": "code",
   "execution_count": 9,
   "id": "6617f69b-df9f-40b2-870f-54dd6958c1f6",
   "metadata": {
    "tags": []
   },
   "outputs": [],
   "source": [
    "elements = client.list_objects(Bucket=bucket_name, Prefix=path)\n",
    "\n",
    "#Listing pkl files\n",
    "pkl_files = [obj['Key'] for obj in elements.get('Contents', []) if obj['Key'].endswith('.pkl')\n",
    "                and ('MODEL_2d_' in obj['Key']) and not obj['Key'].endswith('_2d.pkl')]"
   ]
  },
  {
   "cell_type": "code",
   "execution_count": 10,
   "id": "5774aa75-dcd3-4dab-871e-4dc62c21958b",
   "metadata": {
    "tags": []
   },
   "outputs": [
    {
     "data": {
      "text/plain": [
       "130"
      ]
     },
     "execution_count": 10,
     "metadata": {},
     "output_type": "execute_result"
    }
   ],
   "source": [
    "len(pkl_files)"
   ]
  },
  {
   "cell_type": "markdown",
   "id": "d13bfcb2-fd2c-412a-b5b3-9149129ef327",
   "metadata": {
    "jp-MarkdownHeadingCollapsed": true,
    "tags": []
   },
   "source": [
    "### Prueba con 1 payer"
   ]
  },
  {
   "cell_type": "code",
   "execution_count": 11,
   "id": "b65c6a68-3376-447b-bf08-068df454138f",
   "metadata": {
    "tags": []
   },
   "outputs": [
    {
     "data": {
      "text/plain": [
       "'ABTv3/Last_releases/ARGENPER_ARGENTINA/MODEL_2d_ARGENPER_ARGENTINA.pkl'"
      ]
     },
     "execution_count": 11,
     "metadata": {},
     "output_type": "execute_result"
    }
   ],
   "source": [
    "pkl_files[6]"
   ]
  },
  {
   "cell_type": "code",
   "execution_count": 12,
   "id": "12fc7684-6c6c-419d-beaa-b04d0e6a4d8b",
   "metadata": {
    "tags": []
   },
   "outputs": [],
   "source": [
    "file_key = pkl_files[6]\n",
    "\n",
    "# Descargar el archivo pkl desde S3 y cargarlo en memoria\n",
    "response = client.get_object(Bucket=bucket_name, Key=file_key)\n",
    "buffer = BytesIO(response['Body'].read())\n",
    "forecaster = joblib.load(buffer)"
   ]
  },
  {
   "cell_type": "code",
   "execution_count": 14,
   "id": "99bf8a3b-cd89-426e-bc1a-aee87d4044d1",
   "metadata": {
    "tags": []
   },
   "outputs": [
    {
     "name": "stderr",
     "output_type": "stream",
     "text": [
      "/tmp/ipykernel_17/1087669924.py:5: SettingWithCopyWarning: \n",
      "A value is trying to be set on a copy of a slice from a DataFrame.\n",
      "Try using .loc[row_indexer,col_indexer] = value instead\n",
      "\n",
      "See the caveats in the documentation: https://pandas.pydata.org/pandas-docs/stable/user_guide/indexing.html#returning-a-view-versus-a-copy\n",
      "  datos['date'] = pd.to_datetime(datos['date'])\n"
     ]
    }
   ],
   "source": [
    "payer = 'ARGENPER_ARGENTINA'\n",
    "\n",
    "#### PAYER SETTING ####\n",
    "datos = data.loc[data.payer_country==payer]\n",
    "datos['date'] = pd.to_datetime(datos['date'])\n",
    "datos.set_index('date', inplace=True)\n",
    "datos = datos.asfreq('D')"
   ]
  },
  {
   "cell_type": "code",
   "execution_count": 15,
   "id": "9625e232-72e5-4dc9-9e48-6f44733b01fa",
   "metadata": {
    "tags": []
   },
   "outputs": [
    {
     "name": "stderr",
     "output_type": "stream",
     "text": [
      "/tmp/ipykernel_17/234729881.py:5: SettingWithCopyWarning: \n",
      "A value is trying to be set on a copy of a slice from a DataFrame.\n",
      "Try using .loc[row_indexer,col_indexer] = value instead\n",
      "\n",
      "See the caveats in the documentation: https://pandas.pydata.org/pandas-docs/stable/user_guide/indexing.html#returning-a-view-versus-a-copy\n",
      "  data_last_window[forecaster.exog_col_names] = data_last_window[forecaster.exog_col_names].fillna(0)\n",
      "/tmp/ipykernel_17/234729881.py:8: SettingWithCopyWarning: \n",
      "A value is trying to be set on a copy of a slice from a DataFrame.\n",
      "Try using .loc[row_indexer,col_indexer] = value instead\n",
      "\n",
      "See the caveats in the documentation: https://pandas.pydata.org/pandas-docs/stable/user_guide/indexing.html#returning-a-view-versus-a-copy\n",
      "  data_test[forecaster.exog_col_names] = data_test[forecaster.exog_col_names].fillna(0)\n"
     ]
    }
   ],
   "source": [
    "last_window_date = forecaster.last_window.index[-1] + pd.Timedelta(days=1)\n",
    "test_date = pd.Timestamp('2023-12-25') # El primer dia de test seria el dia a predecir\n",
    "\n",
    "data_last_window = datos.loc[last_window_date:test_date - pd.Timedelta(days=1)]\n",
    "data_last_window[forecaster.exog_col_names] = data_last_window[forecaster.exog_col_names].fillna(0)\n",
    "\n",
    "data_test = datos.loc[test_date:test_date + pd.Timedelta(days=1)] \n",
    "data_test[forecaster.exog_col_names] = data_test[forecaster.exog_col_names].fillna(0)"
   ]
  },
  {
   "cell_type": "code",
   "execution_count": 16,
   "id": "d0f04881-f19e-4d4a-830b-273d8d16de93",
   "metadata": {
    "tags": []
   },
   "outputs": [],
   "source": [
    "predictions = forecaster.predict(\n",
    "                  steps            = 2,\n",
    "                  exog             = data_test[forecaster.exog_col_names],\n",
    "                  last_window      = data_last_window['amount'],\n",
    "                  last_window_exog = data_last_window[forecaster.exog_col_names]\n",
    "              )"
   ]
  },
  {
   "cell_type": "code",
   "execution_count": 17,
   "id": "3a35c6da-0f19-46f2-841b-08be6844d440",
   "metadata": {
    "tags": []
   },
   "outputs": [
    {
     "data": {
      "text/plain": [
       "2023-12-25    485.241489\n",
       "2023-12-26    308.361684\n",
       "Freq: D, Name: pred, dtype: float64"
      ]
     },
     "execution_count": 17,
     "metadata": {},
     "output_type": "execute_result"
    }
   ],
   "source": [
    "predictions"
   ]
  },
  {
   "cell_type": "code",
   "execution_count": 18,
   "id": "6e0ffa75-d812-43d3-9a5e-db662195dd72",
   "metadata": {
    "tags": []
   },
   "outputs": [
    {
     "data": {
      "text/html": [
       "<div>\n",
       "<style scoped>\n",
       "    .dataframe tbody tr th:only-of-type {\n",
       "        vertical-align: middle;\n",
       "    }\n",
       "\n",
       "    .dataframe tbody tr th {\n",
       "        vertical-align: top;\n",
       "    }\n",
       "\n",
       "    .dataframe thead th {\n",
       "        text-align: right;\n",
       "    }\n",
       "</style>\n",
       "<table border=\"1\" class=\"dataframe\">\n",
       "  <thead>\n",
       "    <tr style=\"text-align: right;\">\n",
       "      <th></th>\n",
       "      <th>index</th>\n",
       "      <th>pred</th>\n",
       "    </tr>\n",
       "  </thead>\n",
       "  <tbody>\n",
       "    <tr>\n",
       "      <th>0</th>\n",
       "      <td>2023-12-25</td>\n",
       "      <td>485.241489</td>\n",
       "    </tr>\n",
       "    <tr>\n",
       "      <th>1</th>\n",
       "      <td>2023-12-26</td>\n",
       "      <td>308.361684</td>\n",
       "    </tr>\n",
       "  </tbody>\n",
       "</table>\n",
       "</div>"
      ],
      "text/plain": [
       "       index        pred\n",
       "0 2023-12-25  485.241489\n",
       "1 2023-12-26  308.361684"
      ]
     },
     "execution_count": 18,
     "metadata": {},
     "output_type": "execute_result"
    }
   ],
   "source": [
    "pd.DataFrame(predictions, columns=['pred']).reset_index()"
   ]
  },
  {
   "cell_type": "markdown",
   "id": "6f79405e-4fb0-46c7-9e49-b132858c1786",
   "metadata": {
    "tags": []
   },
   "source": [
    "### Bucle para procesar todos"
   ]
  },
  {
   "cell_type": "code",
   "execution_count": 19,
   "id": "36f02302-7431-4cf6-b0d2-f1ac9caad585",
   "metadata": {},
   "outputs": [],
   "source": [
    "# Initialize an empty DataFrame to store the results\n",
    "df_temp = pd.DataFrame(columns=['date', 'pred', 'payer_country', 'model'])"
   ]
  },
  {
   "cell_type": "code",
   "execution_count": 20,
   "id": "e29b3f19-5e21-4aa2-9fc5-c000565b23a6",
   "metadata": {
    "tags": []
   },
   "outputs": [
    {
     "data": {
      "text/plain": [
       "True"
      ]
     },
     "execution_count": 20,
     "metadata": {},
     "output_type": "execute_result"
    }
   ],
   "source": [
    "df_temp.empty"
   ]
  },
  {
   "cell_type": "code",
   "execution_count": 194,
   "id": "709a0a42-e268-4e20-8595-c4e6afe85be3",
   "metadata": {
    "tags": []
   },
   "outputs": [
    {
     "name": "stdout",
     "output_type": "stream",
     "text": [
      "24XORO_MEXICO\n",
      "ABANK (TN)_EL SALVADOR\n",
      "AFEX_CHILE\n",
      "AFRO INTERNACIONAL_GUINEA\n",
      "AFRO INTERNACIONAL_SIERRA LEONE\n",
      "AIRPAK_MEXICO\n",
      "ARGENPER_ARGENTINA\n",
      "ARGENPER_BOLIVIA\n",
      "ARGENPER_CHILE\n",
      "ARGENPER_PERU\n",
      "BAM - BANCO AGROMERCANTIL (UT)_GUATEMALA\n",
      "BANCO AGRICOLA_EL SALVADOR\n",
      "BANCO ATLANTIDA_HONDURAS\n",
      "BANCO BHD LEON_DOMINICAN REPUBLIC\n",
      "BANCO BISA_BOLIVIA\n",
      "BANCO DAVIVIENDA SALVADORENO (BTS)_EL SALVADOR\n",
      "BANCO DAYCOVAL_BRAZIL\n",
      "BANCO DE CREDITO DEL PERU - BCP (UT)_PERU\n",
      "BANCO DE GUAYAQUIL_ECUADOR\n",
      "BANCO DE OCCIDENTE_HONDURAS\n",
      "BANCO DE ORO (BDO)_PHILIPPINES\n",
      "BANCO DEL AUSTRO_ECUADOR\n",
      "BANCO GANADERO (BOLIVIA)_BOLIVIA\n",
      "BANCO INDUSTRIAL ELS (RED CHAPINA)_EL SALVADOR\n",
      "BANCO INDUSTRIAL_GUATEMALA\n",
      "BANCO PICHINCHA (TN)_ECUADOR\n",
      "BANCO POPULAR HONDURAS (UT)_HONDURAS\n",
      "\u001b[1;31mError en procesar BANCO POPULAR HONDURAS (UT)_HONDURAS\u001b[0m\n",
      "BANCO RENDIMENTO_BRAZIL\n",
      "BANCOLOMBIA_COLOMBIA\n",
      "BANCOPPEL (APPRIZA)_MEXICO\n",
      "BANHCAFE_HONDURAS\n",
      "BANK OF PHILIPPINE ISLANDS (BPI)_PHILIPPINES\n",
      "BANORTE (UT)_MEXICO\n",
      "BANPAIS (RED CHAPINA)_HONDURAS\n",
      "BANPRO_NICARAGUA\n",
      "BANRURAL (HONDURAS)_HONDURAS\n",
      "BANTRAB (UT)_GUATEMALA\n",
      "BBVA - BANCOMER (BTS)_MEXICO\n",
      "BNB_LIBERIA\n",
      "BNB_SENEGAL\n",
      "BNB_SIERRA LEONE\n",
      "\u001b[1;31mError en procesar BNB_SIERRA LEONE\u001b[0m\n",
      "CAJA POPULAR MEXICANA (UT)_MEXICO\n",
      "\u001b[1;31mError en procesar CAJA POPULAR MEXICANA (UT)_MEXICO\u001b[0m\n",
      "CARIBE EXPRESS_DOMINICAN REPUBLIC\n",
      "CEBUANA LHUILLIER_PHILIPPINES\n",
      "COOPERATIVA CACIL (UT)_HONDURAS\n",
      "COOPERATIVA FRONTERIZA (UT)_HONDURAS\n",
      "CREDOMATIC (BTS)_NICARAGUA\n",
      "CREDOMATIC_EL SALVADOR\n",
      "CUSCA (CITI - RECIBA NETWORKS)_EL SALVADOR\n",
      "DAVIVIENDA - HONDURAS (BTS)_HONDURAS\n",
      "DAVIVIENDA_COLOMBIA\n",
      "DEPOSITOS BANCARIOS GUATEMALA - ACH_GUATEMALA\n",
      "EASY PAGOS_ECUADOR\n",
      "ECUAGIROS_ECUADOR\n",
      "ELEKTRA (BTS)_GUATEMALA\n",
      "ELEKTRA (BTS)_HONDURAS\n",
      "ELEKTRA (MEXICO)_MEXICO\n",
      "EMPENOS DEL SUR (ANTERIOR BALSAS)_MEXICO\n",
      "ENVICON (ANTERIORMENTE ENVIOS CONFIANZA)_MEXICO\n",
      "ENVIOS CON CLABE (APPRIZA)_MEXICO\n",
      "FARMACIAS DEL AHORRO (DATRANSFER)_MEXICO\n",
      "FARMACIAS GUADALAJARA (UT)_MEXICO\n",
      "FEDECACES (EL SALVADOR)_EL SALVADOR\n",
      "FEDECREDITO (RYT)_EL SALVADOR\n",
      "FICOHSA_HONDURAS\n",
      "G Y T CONTINENTAL_GUATEMALA\n",
      "GIROSMEX_MEXICO\n",
      "\u001b[1;31mError en procesar GIROSMEX_MEXICO\u001b[0m\n",
      "GLOBAL ENVIOS_ECUADOR\n",
      "GME_NEPAL\n",
      "GRUPO EXITO (TN)_COLOMBIA\n",
      "INTERBANK_PERU\n",
      "INTERMEX_MEXICO\n",
      "JMMB_JAMAICA\n",
      "KORI_BENIN\n",
      "KORI_BURKINA FASO\n",
      "LAFISE_NICARAGUA\n",
      "MASTERCARD ATM NETWORK_UNITED STATES\n",
      "MERCHANTRADE_BANGLADESH\n",
      "MERCHANTRADE_INDONESIA\n",
      "MERCHANTRADE_MALAYSIA\n",
      "\u001b[1;31mError en procesar MERCHANTRADE_MALAYSIA\u001b[0m\n",
      "MERCHANTRADE_NEPAL\n",
      "MERCHANTRADE_THAILAND\n",
      "METROBANK_PHILIPPINES\n",
      "MICOOPE-FENACOAC (RED CHAPINA)_GUATEMALA\n",
      "MSBB MONEY_BRAZIL\n",
      "MUTHOOT-BANGLADESH_BANGLADESH\n",
      "\u001b[1;31mError en procesar MUTHOOT-BANGLADESH_BANGLADESH\u001b[0m\n",
      "MUTHOOT_INDIA\n",
      "NAFA_BURKINA FASO\n",
      "NAFA_COTE D'IVOIRE (IVORY COAST)\n",
      "NAFA_GAMBIA, THE\n",
      "NAFA_GUINEA\n",
      "NAFA_LIBERIA\n",
      "NAFA_MALI\n",
      "NAFA_SENEGAL\n",
      "NAFA_TOGO\n",
      "NAIRAGRAM_NIGERIA\n",
      "OXXO (TN)_MEXICO\n",
      "PROMERICA (GUA)_GUATEMALA\n",
      "PROMERICA_EL SALVADOR\n",
      "SORIANA_MEXICO\n",
      "SPEED MONEY_PHILIPPINES\n",
      "TELECOMM TELEGRAFOS (APPRIZA)_MEXICO\n",
      "TELEDOLAR (TN)_COSTA RICA\n",
      "TELEDOLAR-NIC (TN)_NICARAGUA\n",
      "TRANSFER DIRECTO_MEXICO\n",
      "TRANSFERTO - THUNES_BELGIUM\n",
      "TRANSFERTO - THUNES_FRANCE\n",
      "TRANSFERTO - THUNES_GERMANY\n",
      "TRANSFERTO - THUNES_GHANA\n",
      "TRANSFERTO - THUNES_ITALY\n",
      "TRANSFERTO - THUNES_NIGERIA\n",
      "TRANSFERTO - THUNES_PORTUGAL\n",
      "TRANSFERTO - THUNES_SPAIN\n",
      "TRANSFERTO - THUNES_UNITED KINGDOM\n",
      "TRANSPAY_BANGLADESH\n",
      "\u001b[1;31mError en procesar TRANSPAY_BANGLADESH\u001b[0m\n",
      "TRANSPAY_BENIN\n",
      "\u001b[1;31mError en procesar TRANSPAY_BENIN\u001b[0m\n",
      "TRANSPAY_CAMEROON\n",
      "TRANSPAY_INDONESIA\n",
      "TRANSPAY_SENEGAL\n",
      "\u001b[1;31mError en procesar TRANSPAY_SENEGAL\u001b[0m\n",
      "TRANSPAY_TOGO\n",
      "\u001b[1;31mError en procesar TRANSPAY_TOGO\u001b[0m\n",
      "UNITRANSFER_HAITI\n",
      "VIAMERICAS USA DEPOSITS (RT)_UNITED STATES\n",
      "\u001b[1;31mError en procesar VIAMERICAS USA DEPOSITS (RT)_UNITED STATES\u001b[0m\n",
      "VIAMERICAS USA DEPOSITS_UNITED STATES\n",
      "VTN_NIGERIA\n",
      "\u001b[1;31mError en procesar VTN_NIGERIA\u001b[0m\n",
      "WALDOS (APPRIZA)_MEXICO\n",
      "WALMART (UT)_MEXICO\n",
      "YES BANK_INDIA\n",
      "ZEEPAY_CAMEROON\n",
      "\u001b[1;31mError en procesar ZEEPAY_CAMEROON\u001b[0m\n",
      "ZEEPAY_COTE D'IVOIRE (IVORY COAST)\n",
      "\u001b[1;31mError en procesar ZEEPAY_COTE D'IVOIRE (IVORY COAST)\u001b[0m\n",
      "ZEEPAY_GHANA\n",
      "\u001b[1;31mError en procesar ZEEPAY_GHANA\u001b[0m\n"
     ]
    }
   ],
   "source": [
    "i = 1\n",
    "\n",
    "# Iterate over pkl files\n",
    "for file_key in pkl_files:\n",
    "    # Extract payer_country from file_key\n",
    "    payer_country = file_key.split('/')[2]\n",
    "    print(payer_country)\n",
    "    \n",
    "    # Download pkl file from S3 and load it into memory\n",
    "    response = client.get_object(Bucket=bucket_name, Key=file_key)\n",
    "    buffer = BytesIO(response['Body'].read())\n",
    "    forecaster = joblib.load(buffer)\n",
    "    \n",
    "    #### PAYER SETTING ####\n",
    "    # Filter data for the specific payer_country\n",
    "    datos = data[data['payer_country'] == payer_country].copy()\n",
    "#    datos = data.loc[data.payer_country == payer_country]\n",
    "    datos['date'] = pd.to_datetime(datos['date'])\n",
    "    datos.set_index('date', inplace=True)\n",
    "    datos = datos.asfreq('D')\n",
    "\n",
    "    # Predictions settings\n",
    "    last_window_date = forecaster.last_window.index[-1] + pd.Timedelta(days=1)\n",
    "    test_date = pd.Timestamp('2023-12-25')  # The first test day would be the day to predict\n",
    "\n",
    "    # Extract data for last window and test period\n",
    "    data_last_window = datos.loc[last_window_date:test_date - pd.Timedelta(days=1)].copy()\n",
    "#    data_last_window = datos.loc[last_window_date:test_date - pd.Timedelta(days=1)]\n",
    "    data_last_window[forecaster.exog_col_names] = data_last_window[forecaster.exog_col_names].fillna(0)\n",
    "    data_test = datos.loc[test_date:test_date + pd.Timedelta(days=1)].copy()\n",
    "#    data_test = datos.loc[test_date:test_date + pd.Timedelta(days=1)] \n",
    "    data_test[forecaster.exog_col_names] = data_test[forecaster.exog_col_names].fillna(0)\n",
    "\n",
    "    try:\n",
    "        \n",
    "        with warnings.catch_warnings():\n",
    "            warnings.filterwarnings(\"ignore\")\n",
    "        # Make predictions\n",
    "        predictions = forecaster.predict(\n",
    "                          steps            = 2,\n",
    "                          exog             = data_test[forecaster.exog_col_names],\n",
    "                          last_window      = data_last_window['amount'],\n",
    "                          last_window_exog = data_last_window[forecaster.exog_col_names]\n",
    "                      )\n",
    "        # Store predictions in a temporary DataFrame\n",
    "        df_temp = pd.DataFrame(predictions, columns=['pred']).reset_index()\n",
    "#        print(df_temp)\n",
    "\n",
    "    except:\n",
    "        # If an exception occurs, set predictions to zero\n",
    "        print(\"\\033[1;31m\" + f\"Error processing {payer_country}\" + \"\\033[0m\")\n",
    "        predictions = [0, 0]\n",
    "        df_temp = pd.DataFrame({'index': [test_date, test_date + pd.Timedelta(days=1)], 'pred': predictions})\n",
    "\n",
    "\n",
    "    # Add additional columns\n",
    "    df_temp['payer_country'] = payer_country\n",
    "    df_temp['model'] = file_key.split('/')[-1]\n",
    "\n",
    "    # Concatenate df_temp with the main DataFrame\n",
    "    if i:\n",
    "        temp_df = df_temp.copy()\n",
    "        i = 0\n",
    "    else:\n",
    "        temp_df = pd.concat([temp_df, df_temp], ignore_index=True)"
   ]
  },
  {
   "cell_type": "code",
   "execution_count": 195,
   "id": "3409f628-6a7f-42fd-aa8e-0378739d1ba2",
   "metadata": {
    "tags": []
   },
   "outputs": [
    {
     "data": {
      "text/plain": [
       "260"
      ]
     },
     "execution_count": 195,
     "metadata": {},
     "output_type": "execute_result"
    }
   ],
   "source": [
    "len(temp_df)"
   ]
  },
  {
   "cell_type": "code",
   "execution_count": 196,
   "id": "b15b642a-2119-4102-829a-e2044b66f801",
   "metadata": {
    "tags": []
   },
   "outputs": [
    {
     "data": {
      "text/html": [
       "<div>\n",
       "<style scoped>\n",
       "    .dataframe tbody tr th:only-of-type {\n",
       "        vertical-align: middle;\n",
       "    }\n",
       "\n",
       "    .dataframe tbody tr th {\n",
       "        vertical-align: top;\n",
       "    }\n",
       "\n",
       "    .dataframe thead th {\n",
       "        text-align: right;\n",
       "    }\n",
       "</style>\n",
       "<table border=\"1\" class=\"dataframe\">\n",
       "  <thead>\n",
       "    <tr style=\"text-align: right;\">\n",
       "      <th></th>\n",
       "      <th>index</th>\n",
       "      <th>pred</th>\n",
       "      <th>payer_country</th>\n",
       "      <th>model</th>\n",
       "    </tr>\n",
       "  </thead>\n",
       "  <tbody>\n",
       "    <tr>\n",
       "      <th>48</th>\n",
       "      <td>2023-12-25</td>\n",
       "      <td>-148947.677845</td>\n",
       "      <td>BANCO INDUSTRIAL_GUATEMALA</td>\n",
       "      <td>MODEL_2d_BANCO INDUSTRIAL_GUATEMALA.pkl</td>\n",
       "    </tr>\n",
       "    <tr>\n",
       "      <th>54</th>\n",
       "      <td>2023-12-25</td>\n",
       "      <td>-67191.858226</td>\n",
       "      <td>BANCO RENDIMENTO_BRAZIL</td>\n",
       "      <td>MODEL_2d_BANCO RENDIMENTO_BRAZIL.pkl</td>\n",
       "    </tr>\n",
       "    <tr>\n",
       "      <th>58</th>\n",
       "      <td>2023-12-25</td>\n",
       "      <td>-19169.543009</td>\n",
       "      <td>BANCOPPEL (APPRIZA)_MEXICO</td>\n",
       "      <td>MODEL_2d_BANCOPPEL (APPRIZA)_MEXICO.pkl</td>\n",
       "    </tr>\n",
       "    <tr>\n",
       "      <th>70</th>\n",
       "      <td>2023-12-25</td>\n",
       "      <td>-26701.657343</td>\n",
       "      <td>BANRURAL (HONDURAS)_HONDURAS</td>\n",
       "      <td>MODEL_2d_BANRURAL (HONDURAS)_HONDURAS.pkl</td>\n",
       "    </tr>\n",
       "    <tr>\n",
       "      <th>108</th>\n",
       "      <td>2023-12-25</td>\n",
       "      <td>-12963.753813</td>\n",
       "      <td>ELEKTRA (BTS)_GUATEMALA</td>\n",
       "      <td>MODEL_2d_ELEKTRA (BTS)_GUATEMALA.pkl</td>\n",
       "    </tr>\n",
       "    <tr>\n",
       "      <th>110</th>\n",
       "      <td>2023-12-25</td>\n",
       "      <td>-95825.648347</td>\n",
       "      <td>ELEKTRA (BTS)_HONDURAS</td>\n",
       "      <td>MODEL_2d_ELEKTRA (BTS)_HONDURAS.pkl</td>\n",
       "    </tr>\n",
       "    <tr>\n",
       "      <th>147</th>\n",
       "      <td>2023-12-26</td>\n",
       "      <td>-6.873834</td>\n",
       "      <td>KORI_BENIN</td>\n",
       "      <td>MODEL_2d_KORI_BENIN.pkl</td>\n",
       "    </tr>\n",
       "  </tbody>\n",
       "</table>\n",
       "</div>"
      ],
      "text/plain": [
       "         index           pred                 payer_country  \\\n",
       "48  2023-12-25 -148947.677845    BANCO INDUSTRIAL_GUATEMALA   \n",
       "54  2023-12-25  -67191.858226       BANCO RENDIMENTO_BRAZIL   \n",
       "58  2023-12-25  -19169.543009    BANCOPPEL (APPRIZA)_MEXICO   \n",
       "70  2023-12-25  -26701.657343  BANRURAL (HONDURAS)_HONDURAS   \n",
       "108 2023-12-25  -12963.753813       ELEKTRA (BTS)_GUATEMALA   \n",
       "110 2023-12-25  -95825.648347        ELEKTRA (BTS)_HONDURAS   \n",
       "147 2023-12-26      -6.873834                    KORI_BENIN   \n",
       "\n",
       "                                         model  \n",
       "48     MODEL_2d_BANCO INDUSTRIAL_GUATEMALA.pkl  \n",
       "54        MODEL_2d_BANCO RENDIMENTO_BRAZIL.pkl  \n",
       "58     MODEL_2d_BANCOPPEL (APPRIZA)_MEXICO.pkl  \n",
       "70   MODEL_2d_BANRURAL (HONDURAS)_HONDURAS.pkl  \n",
       "108       MODEL_2d_ELEKTRA (BTS)_GUATEMALA.pkl  \n",
       "110        MODEL_2d_ELEKTRA (BTS)_HONDURAS.pkl  \n",
       "147                    MODEL_2d_KORI_BENIN.pkl  "
      ]
     },
     "execution_count": 196,
     "metadata": {},
     "output_type": "execute_result"
    }
   ],
   "source": [
    "temp_df[temp_df['pred'] < 0]"
   ]
  },
  {
   "cell_type": "code",
   "execution_count": 197,
   "id": "a00be102-5250-4477-8d58-7767b039f6c9",
   "metadata": {
    "tags": []
   },
   "outputs": [],
   "source": [
    "# Replace values in 'pred' column with 0 where 'pred' is less than 0\n",
    "temp_df.loc[temp_df['pred'] < 0, 'pred'] = 0"
   ]
  },
  {
   "cell_type": "code",
   "execution_count": 204,
   "id": "4bd3f5a8-3a7e-4939-b261-ee45af7f9f5d",
   "metadata": {
    "tags": []
   },
   "outputs": [],
   "source": [
    "# Convert 'index' column to date format\n",
    "temp_df['index'] = pd.to_datetime(temp_df['index']).dt.date.astype(str)"
   ]
  },
  {
   "cell_type": "code",
   "execution_count": 209,
   "id": "846d9396-7245-4373-a5e3-f1c32493da3e",
   "metadata": {
    "tags": []
   },
   "outputs": [],
   "source": [
    "# Adding processing date\n",
    "temp_df['index'] =  temp_df['index'] + '_' + today.strftime('%Y-%m-%d')"
   ]
  },
  {
   "cell_type": "code",
   "execution_count": 211,
   "id": "16eeee36-0e9f-4dd0-8a51-9ca0cb6effc0",
   "metadata": {
    "tags": []
   },
   "outputs": [],
   "source": [
    "temp_df = pd.pivot_table(temp_df, index=['payer_country','model'], columns='index', values='pred', aggfunc='first', fill_value=None).reset_index()"
   ]
  },
  {
   "cell_type": "code",
   "execution_count": 95,
   "id": "1736a019-e785-4bf6-b529-aeb716f01a49",
   "metadata": {},
   "outputs": [],
   "source": [
    "## LEVANTO ULTIMA ABT ACTUALIZADA\n",
    "prefix = 'abt_parquet/'\n",
    "\n",
    "today = datetime.now().date()\n",
    "yesterday = today - timedelta(days=1)\n",
    "\n",
    "today_folder = 'dt=' + today.strftime('%Y-%m-%d') + '/'\n",
    "yesterday_folder = 'dt=' + yesterday.strftime('%Y-%m-%d') + '/'"
   ]
  },
  {
   "cell_type": "code",
   "execution_count": 96,
   "id": "02c4c665-d3ca-4053-bd31-5a4a0a37f4b2",
   "metadata": {
    "tags": []
   },
   "outputs": [],
   "source": [
    "objects = client.list_objects_v2(Bucket=bucket_name, Prefix=prefix+yesterday_folder)"
   ]
  },
  {
   "cell_type": "code",
   "execution_count": 97,
   "id": "64f6021a-2931-46d0-b982-674bac0642d2",
   "metadata": {
    "tags": []
   },
   "outputs": [],
   "source": [
    "import s3fs\n",
    "import pyarrow.parquet as pq\n",
    "\n",
    "# Check if objects were found\n",
    "if 'Contents' in objects:\n",
    "    # Get the Parquet file path within the folder\n",
    "    file_key = objects['Contents'][0]['Key']\n",
    "    \n",
    "    # Create an S3 FileSystem client\n",
    "    s3_file_system = s3fs.S3FileSystem()\n",
    "\n",
    "    # Read the Parquet file using pyarrow\n",
    "    with s3_file_system.open(f's3://{bucket_name}/{file_key}', mode='rb') as file:\n",
    "        parquet_table = pq.read_table(file)\n",
    "    \n",
    "    # Convert the Parquet table to a DataFrame (optional)\n",
    "    df = parquet_table.to_pandas()\n",
    "else:\n",
    "    print(f\"No Parquet files found in the folder {prefix+yesterday_folder}.\")"
   ]
  },
  {
   "cell_type": "code",
   "execution_count": 98,
   "id": "fa9b1456-13fc-450d-ba4f-194e3a93b63a",
   "metadata": {
    "tags": []
   },
   "outputs": [],
   "source": [
    "#parquet_table.to_pandas()"
   ]
  },
  {
   "cell_type": "code",
   "execution_count": 99,
   "id": "dc345367-51f6-4b3d-873e-7979f0d17df1",
   "metadata": {
    "tags": []
   },
   "outputs": [
    {
     "data": {
      "text/plain": [
       "32051"
      ]
     },
     "execution_count": 99,
     "metadata": {},
     "output_type": "execute_result"
    }
   ],
   "source": [
    "df['id_country'].isnull().sum()"
   ]
  },
  {
   "cell_type": "code",
   "execution_count": 100,
   "id": "378b6e58-a9d5-4845-b4f4-76fa2039190d",
   "metadata": {
    "tags": []
   },
   "outputs": [
    {
     "data": {
      "text/plain": [
       "19343"
      ]
     },
     "execution_count": 100,
     "metadata": {},
     "output_type": "execute_result"
    }
   ],
   "source": [
    "df['id_main_branch'].isnull().sum()"
   ]
  },
  {
   "cell_type": "code",
   "execution_count": 101,
   "id": "c477dec5-11df-4f55-ad00-503131e4f954",
   "metadata": {
    "tags": []
   },
   "outputs": [],
   "source": [
    "#df.isnull().sum().to_list()"
   ]
  },
  {
   "cell_type": "code",
   "execution_count": 72,
   "id": "fb9e4764-84c1-4ec1-b2ae-c088d8c07efc",
   "metadata": {
    "tags": []
   },
   "outputs": [],
   "source": [
    "df_id = df[['payer_country', 'id_main_branch', 'id_country']].drop_duplicates().dropna(subset='id_main_branch')"
   ]
  },
  {
   "cell_type": "code",
   "execution_count": 80,
   "id": "d35eebd1-f716-4b5a-a658-e5a52b715366",
   "metadata": {
    "tags": []
   },
   "outputs": [],
   "source": [
    "#df_id.to_excel('df_id.xlsx')"
   ]
  },
  {
   "cell_type": "code",
   "execution_count": 74,
   "id": "38d4adad-f379-4627-9a84-52de8da52438",
   "metadata": {
    "tags": []
   },
   "outputs": [
    {
     "data": {
      "text/plain": [
       "98"
      ]
     },
     "execution_count": 74,
     "metadata": {},
     "output_type": "execute_result"
    }
   ],
   "source": [
    "len(df_id)"
   ]
  },
  {
   "cell_type": "code",
   "execution_count": 78,
   "id": "528a2c0e-8e7f-4eeb-8f3e-a264600f857d",
   "metadata": {
    "tags": []
   },
   "outputs": [
    {
     "data": {
      "text/plain": [
       "97"
      ]
     },
     "execution_count": 78,
     "metadata": {},
     "output_type": "execute_result"
    }
   ],
   "source": [
    "len(df['payer_country'].unique())"
   ]
  },
  {
   "cell_type": "code",
   "execution_count": 159,
   "id": "dd932cc7-e0a3-4675-8004-930177e395c2",
   "metadata": {
    "tags": []
   },
   "outputs": [],
   "source": [
    "#sorted(df['payer_country'].unique())"
   ]
  },
  {
   "cell_type": "code",
   "execution_count": 212,
   "id": "ab02e40b-8fff-480d-8665-54bd969e51d8",
   "metadata": {
    "tags": []
   },
   "outputs": [],
   "source": [
    "df_final = pd.merge(temp_df, df_id, on='payer_country', how='left')"
   ]
  },
  {
   "cell_type": "code",
   "execution_count": 213,
   "id": "f7c8396a-f418-4be9-bade-0f4d23877d82",
   "metadata": {
    "tags": []
   },
   "outputs": [],
   "source": [
    "df_final['processing_date'] = today"
   ]
  },
  {
   "cell_type": "code",
   "execution_count": 214,
   "id": "20e19c4c-3b0b-4328-b0eb-51f0338e4e5c",
   "metadata": {
    "tags": []
   },
   "outputs": [],
   "source": [
    "### Workaround > Elimino duplicados\n",
    "df_final = df_final.drop_duplicates(subset=['payer_country'], keep='first')"
   ]
  },
  {
   "cell_type": "code",
   "execution_count": 215,
   "id": "a7a4223e-6481-4ac4-9242-f1ae17a960d1",
   "metadata": {
    "tags": []
   },
   "outputs": [
    {
     "data": {
      "text/plain": [
       "Index(['payer_country', 'model', '2023-12-25_2024-03-19',\n",
       "       '2023-12-26_2024-03-19', 'id_main_branch', 'id_country',\n",
       "       'processing_date'],\n",
       "      dtype='object')"
      ]
     },
     "execution_count": 215,
     "metadata": {},
     "output_type": "execute_result"
    }
   ],
   "source": [
    "df_final.columns"
   ]
  },
  {
   "cell_type": "code",
   "execution_count": 216,
   "id": "2d7e653c-9831-4a53-8436-b89f729a1c55",
   "metadata": {
    "tags": []
   },
   "outputs": [],
   "source": [
    "# Splitting 'payer' & 'country'\n",
    "df_final[['payer', 'country']] = df_final['payer_country'].str.split('_', expand=True)"
   ]
  },
  {
   "cell_type": "code",
   "execution_count": 217,
   "id": "344a597f-71c5-4b79-80f5-6017f3984374",
   "metadata": {
    "tags": []
   },
   "outputs": [
    {
     "data": {
      "text/html": [
       "<div>\n",
       "<style scoped>\n",
       "    .dataframe tbody tr th:only-of-type {\n",
       "        vertical-align: middle;\n",
       "    }\n",
       "\n",
       "    .dataframe tbody tr th {\n",
       "        vertical-align: top;\n",
       "    }\n",
       "\n",
       "    .dataframe thead th {\n",
       "        text-align: right;\n",
       "    }\n",
       "</style>\n",
       "<table border=\"1\" class=\"dataframe\">\n",
       "  <thead>\n",
       "    <tr style=\"text-align: right;\">\n",
       "      <th></th>\n",
       "      <th>processing_date</th>\n",
       "      <th>payer_country</th>\n",
       "      <th>payer</th>\n",
       "      <th>country</th>\n",
       "      <th>id_main_branch</th>\n",
       "      <th>id_country</th>\n",
       "      <th>model</th>\n",
       "      <th>2023-12-25_2024-03-19</th>\n",
       "      <th>2023-12-26_2024-03-19</th>\n",
       "    </tr>\n",
       "  </thead>\n",
       "  <tbody>\n",
       "    <tr>\n",
       "      <th>0</th>\n",
       "      <td>2024-03-19</td>\n",
       "      <td>24XORO_MEXICO</td>\n",
       "      <td>24XORO</td>\n",
       "      <td>MEXICO</td>\n",
       "      <td>T314</td>\n",
       "      <td>MEX</td>\n",
       "      <td>MODEL_2d_24XORO_MEXICO.pkl</td>\n",
       "      <td>36947.319758</td>\n",
       "      <td>43751.589258</td>\n",
       "    </tr>\n",
       "    <tr>\n",
       "      <th>1</th>\n",
       "      <td>2024-03-19</td>\n",
       "      <td>ABANK (TN)_EL SALVADOR</td>\n",
       "      <td>ABANK (TN)</td>\n",
       "      <td>EL SALVADOR</td>\n",
       "      <td>T282</td>\n",
       "      <td>&lt;NA&gt;</td>\n",
       "      <td>MODEL_2d_ABANK (TN)_EL SALVADOR.pkl</td>\n",
       "      <td>9590.269894</td>\n",
       "      <td>8998.724809</td>\n",
       "    </tr>\n",
       "    <tr>\n",
       "      <th>2</th>\n",
       "      <td>2024-03-19</td>\n",
       "      <td>AFEX_CHILE</td>\n",
       "      <td>AFEX</td>\n",
       "      <td>CHILE</td>\n",
       "      <td>T089</td>\n",
       "      <td>&lt;NA&gt;</td>\n",
       "      <td>MODEL_2d_AFEX_CHILE.pkl</td>\n",
       "      <td>5632.096572</td>\n",
       "      <td>5745.325640</td>\n",
       "    </tr>\n",
       "    <tr>\n",
       "      <th>3</th>\n",
       "      <td>2024-03-19</td>\n",
       "      <td>AFRO INTERNACIONAL_GUINEA</td>\n",
       "      <td>AFRO INTERNACIONAL</td>\n",
       "      <td>GUINEA</td>\n",
       "      <td>T297</td>\n",
       "      <td>&lt;NA&gt;</td>\n",
       "      <td>MODEL_2d_AFRO INTERNACIONAL_GUINEA.pkl</td>\n",
       "      <td>406.490380</td>\n",
       "      <td>72.425212</td>\n",
       "    </tr>\n",
       "    <tr>\n",
       "      <th>4</th>\n",
       "      <td>2024-03-19</td>\n",
       "      <td>AFRO INTERNACIONAL_SIERRA LEONE</td>\n",
       "      <td>AFRO INTERNACIONAL</td>\n",
       "      <td>SIERRA LEONE</td>\n",
       "      <td>T297</td>\n",
       "      <td>&lt;NA&gt;</td>\n",
       "      <td>MODEL_2d_AFRO INTERNACIONAL_SIERRA LEONE.pkl</td>\n",
       "      <td>23457.119481</td>\n",
       "      <td>23622.173239</td>\n",
       "    </tr>\n",
       "    <tr>\n",
       "      <th>...</th>\n",
       "      <td>...</td>\n",
       "      <td>...</td>\n",
       "      <td>...</td>\n",
       "      <td>...</td>\n",
       "      <td>...</td>\n",
       "      <td>...</td>\n",
       "      <td>...</td>\n",
       "      <td>...</td>\n",
       "      <td>...</td>\n",
       "    </tr>\n",
       "    <tr>\n",
       "      <th>127</th>\n",
       "      <td>2024-03-19</td>\n",
       "      <td>WALMART (UT)_MEXICO</td>\n",
       "      <td>WALMART (UT)</td>\n",
       "      <td>MEXICO</td>\n",
       "      <td>&lt;NA&gt;</td>\n",
       "      <td>&lt;NA&gt;</td>\n",
       "      <td>MODEL_2d_WALMART (UT)_MEXICO.pkl</td>\n",
       "      <td>73846.434934</td>\n",
       "      <td>252735.429911</td>\n",
       "    </tr>\n",
       "    <tr>\n",
       "      <th>128</th>\n",
       "      <td>2024-03-19</td>\n",
       "      <td>YES BANK_INDIA</td>\n",
       "      <td>YES BANK</td>\n",
       "      <td>INDIA</td>\n",
       "      <td>T253</td>\n",
       "      <td>IND</td>\n",
       "      <td>MODEL_2d_YES BANK_INDIA.pkl</td>\n",
       "      <td>26430.191603</td>\n",
       "      <td>21818.088564</td>\n",
       "    </tr>\n",
       "    <tr>\n",
       "      <th>129</th>\n",
       "      <td>2024-03-19</td>\n",
       "      <td>ZEEPAY_CAMEROON</td>\n",
       "      <td>ZEEPAY</td>\n",
       "      <td>CAMEROON</td>\n",
       "      <td>T280</td>\n",
       "      <td>&lt;NA&gt;</td>\n",
       "      <td>MODEL_2d_ZEEPAY_CAMEROON.pkl</td>\n",
       "      <td>0.000000</td>\n",
       "      <td>0.000000</td>\n",
       "    </tr>\n",
       "    <tr>\n",
       "      <th>130</th>\n",
       "      <td>2024-03-19</td>\n",
       "      <td>ZEEPAY_COTE D'IVOIRE (IVORY COAST)</td>\n",
       "      <td>ZEEPAY</td>\n",
       "      <td>COTE D'IVOIRE (IVORY COAST)</td>\n",
       "      <td>T280</td>\n",
       "      <td>&lt;NA&gt;</td>\n",
       "      <td>MODEL_2d_ZEEPAY_COTE D'IVOIRE (IVORY COAST).pkl</td>\n",
       "      <td>0.000000</td>\n",
       "      <td>0.000000</td>\n",
       "    </tr>\n",
       "    <tr>\n",
       "      <th>131</th>\n",
       "      <td>2024-03-19</td>\n",
       "      <td>ZEEPAY_GHANA</td>\n",
       "      <td>ZEEPAY</td>\n",
       "      <td>GHANA</td>\n",
       "      <td>T280</td>\n",
       "      <td>&lt;NA&gt;</td>\n",
       "      <td>MODEL_2d_ZEEPAY_GHANA.pkl</td>\n",
       "      <td>0.000000</td>\n",
       "      <td>0.000000</td>\n",
       "    </tr>\n",
       "  </tbody>\n",
       "</table>\n",
       "<p>130 rows × 9 columns</p>\n",
       "</div>"
      ],
      "text/plain": [
       "    processing_date                       payer_country               payer  \\\n",
       "0        2024-03-19                       24XORO_MEXICO              24XORO   \n",
       "1        2024-03-19              ABANK (TN)_EL SALVADOR          ABANK (TN)   \n",
       "2        2024-03-19                          AFEX_CHILE                AFEX   \n",
       "3        2024-03-19           AFRO INTERNACIONAL_GUINEA  AFRO INTERNACIONAL   \n",
       "4        2024-03-19     AFRO INTERNACIONAL_SIERRA LEONE  AFRO INTERNACIONAL   \n",
       "..              ...                                 ...                 ...   \n",
       "127      2024-03-19                 WALMART (UT)_MEXICO        WALMART (UT)   \n",
       "128      2024-03-19                      YES BANK_INDIA            YES BANK   \n",
       "129      2024-03-19                     ZEEPAY_CAMEROON              ZEEPAY   \n",
       "130      2024-03-19  ZEEPAY_COTE D'IVOIRE (IVORY COAST)              ZEEPAY   \n",
       "131      2024-03-19                        ZEEPAY_GHANA              ZEEPAY   \n",
       "\n",
       "                         country id_main_branch id_country  \\\n",
       "0                         MEXICO           T314        MEX   \n",
       "1                    EL SALVADOR           T282       <NA>   \n",
       "2                          CHILE           T089       <NA>   \n",
       "3                         GUINEA           T297       <NA>   \n",
       "4                   SIERRA LEONE           T297       <NA>   \n",
       "..                           ...            ...        ...   \n",
       "127                       MEXICO           <NA>       <NA>   \n",
       "128                        INDIA           T253        IND   \n",
       "129                     CAMEROON           T280       <NA>   \n",
       "130  COTE D'IVOIRE (IVORY COAST)           T280       <NA>   \n",
       "131                        GHANA           T280       <NA>   \n",
       "\n",
       "                                               model  2023-12-25_2024-03-19  \\\n",
       "0                         MODEL_2d_24XORO_MEXICO.pkl           36947.319758   \n",
       "1                MODEL_2d_ABANK (TN)_EL SALVADOR.pkl            9590.269894   \n",
       "2                            MODEL_2d_AFEX_CHILE.pkl            5632.096572   \n",
       "3             MODEL_2d_AFRO INTERNACIONAL_GUINEA.pkl             406.490380   \n",
       "4       MODEL_2d_AFRO INTERNACIONAL_SIERRA LEONE.pkl           23457.119481   \n",
       "..                                               ...                    ...   \n",
       "127                 MODEL_2d_WALMART (UT)_MEXICO.pkl           73846.434934   \n",
       "128                      MODEL_2d_YES BANK_INDIA.pkl           26430.191603   \n",
       "129                     MODEL_2d_ZEEPAY_CAMEROON.pkl               0.000000   \n",
       "130  MODEL_2d_ZEEPAY_COTE D'IVOIRE (IVORY COAST).pkl               0.000000   \n",
       "131                        MODEL_2d_ZEEPAY_GHANA.pkl               0.000000   \n",
       "\n",
       "     2023-12-26_2024-03-19  \n",
       "0             43751.589258  \n",
       "1              8998.724809  \n",
       "2              5745.325640  \n",
       "3                72.425212  \n",
       "4             23622.173239  \n",
       "..                     ...  \n",
       "127          252735.429911  \n",
       "128           21818.088564  \n",
       "129               0.000000  \n",
       "130               0.000000  \n",
       "131               0.000000  \n",
       "\n",
       "[130 rows x 9 columns]"
      ]
     },
     "execution_count": 217,
     "metadata": {},
     "output_type": "execute_result"
    }
   ],
   "source": [
    "df_final[['processing_date', 'payer_country','payer', 'country', 'id_main_branch', 'id_country',\n",
    "         'model', '2023-12-25_2024-03-19','2023-12-26_2024-03-19' ]]"
   ]
  },
  {
   "cell_type": "code",
   "execution_count": null,
   "id": "1bb545c5-6934-4172-ad65-78b6cb494857",
   "metadata": {},
   "outputs": [],
   "source": []
  }
 ],
 "metadata": {
  "availableInstances": [
   {
    "_defaultOrder": 0,
    "_isFastLaunch": true,
    "category": "General purpose",
    "gpuNum": 0,
    "hideHardwareSpecs": false,
    "memoryGiB": 4,
    "name": "ml.t3.medium",
    "vcpuNum": 2
   },
   {
    "_defaultOrder": 1,
    "_isFastLaunch": false,
    "category": "General purpose",
    "gpuNum": 0,
    "hideHardwareSpecs": false,
    "memoryGiB": 8,
    "name": "ml.t3.large",
    "vcpuNum": 2
   },
   {
    "_defaultOrder": 2,
    "_isFastLaunch": false,
    "category": "General purpose",
    "gpuNum": 0,
    "hideHardwareSpecs": false,
    "memoryGiB": 16,
    "name": "ml.t3.xlarge",
    "vcpuNum": 4
   },
   {
    "_defaultOrder": 3,
    "_isFastLaunch": false,
    "category": "General purpose",
    "gpuNum": 0,
    "hideHardwareSpecs": false,
    "memoryGiB": 32,
    "name": "ml.t3.2xlarge",
    "vcpuNum": 8
   },
   {
    "_defaultOrder": 4,
    "_isFastLaunch": true,
    "category": "General purpose",
    "gpuNum": 0,
    "hideHardwareSpecs": false,
    "memoryGiB": 8,
    "name": "ml.m5.large",
    "vcpuNum": 2
   },
   {
    "_defaultOrder": 5,
    "_isFastLaunch": false,
    "category": "General purpose",
    "gpuNum": 0,
    "hideHardwareSpecs": false,
    "memoryGiB": 16,
    "name": "ml.m5.xlarge",
    "vcpuNum": 4
   },
   {
    "_defaultOrder": 6,
    "_isFastLaunch": false,
    "category": "General purpose",
    "gpuNum": 0,
    "hideHardwareSpecs": false,
    "memoryGiB": 32,
    "name": "ml.m5.2xlarge",
    "vcpuNum": 8
   },
   {
    "_defaultOrder": 7,
    "_isFastLaunch": false,
    "category": "General purpose",
    "gpuNum": 0,
    "hideHardwareSpecs": false,
    "memoryGiB": 64,
    "name": "ml.m5.4xlarge",
    "vcpuNum": 16
   },
   {
    "_defaultOrder": 8,
    "_isFastLaunch": false,
    "category": "General purpose",
    "gpuNum": 0,
    "hideHardwareSpecs": false,
    "memoryGiB": 128,
    "name": "ml.m5.8xlarge",
    "vcpuNum": 32
   },
   {
    "_defaultOrder": 9,
    "_isFastLaunch": false,
    "category": "General purpose",
    "gpuNum": 0,
    "hideHardwareSpecs": false,
    "memoryGiB": 192,
    "name": "ml.m5.12xlarge",
    "vcpuNum": 48
   },
   {
    "_defaultOrder": 10,
    "_isFastLaunch": false,
    "category": "General purpose",
    "gpuNum": 0,
    "hideHardwareSpecs": false,
    "memoryGiB": 256,
    "name": "ml.m5.16xlarge",
    "vcpuNum": 64
   },
   {
    "_defaultOrder": 11,
    "_isFastLaunch": false,
    "category": "General purpose",
    "gpuNum": 0,
    "hideHardwareSpecs": false,
    "memoryGiB": 384,
    "name": "ml.m5.24xlarge",
    "vcpuNum": 96
   },
   {
    "_defaultOrder": 12,
    "_isFastLaunch": false,
    "category": "General purpose",
    "gpuNum": 0,
    "hideHardwareSpecs": false,
    "memoryGiB": 8,
    "name": "ml.m5d.large",
    "vcpuNum": 2
   },
   {
    "_defaultOrder": 13,
    "_isFastLaunch": false,
    "category": "General purpose",
    "gpuNum": 0,
    "hideHardwareSpecs": false,
    "memoryGiB": 16,
    "name": "ml.m5d.xlarge",
    "vcpuNum": 4
   },
   {
    "_defaultOrder": 14,
    "_isFastLaunch": false,
    "category": "General purpose",
    "gpuNum": 0,
    "hideHardwareSpecs": false,
    "memoryGiB": 32,
    "name": "ml.m5d.2xlarge",
    "vcpuNum": 8
   },
   {
    "_defaultOrder": 15,
    "_isFastLaunch": false,
    "category": "General purpose",
    "gpuNum": 0,
    "hideHardwareSpecs": false,
    "memoryGiB": 64,
    "name": "ml.m5d.4xlarge",
    "vcpuNum": 16
   },
   {
    "_defaultOrder": 16,
    "_isFastLaunch": false,
    "category": "General purpose",
    "gpuNum": 0,
    "hideHardwareSpecs": false,
    "memoryGiB": 128,
    "name": "ml.m5d.8xlarge",
    "vcpuNum": 32
   },
   {
    "_defaultOrder": 17,
    "_isFastLaunch": false,
    "category": "General purpose",
    "gpuNum": 0,
    "hideHardwareSpecs": false,
    "memoryGiB": 192,
    "name": "ml.m5d.12xlarge",
    "vcpuNum": 48
   },
   {
    "_defaultOrder": 18,
    "_isFastLaunch": false,
    "category": "General purpose",
    "gpuNum": 0,
    "hideHardwareSpecs": false,
    "memoryGiB": 256,
    "name": "ml.m5d.16xlarge",
    "vcpuNum": 64
   },
   {
    "_defaultOrder": 19,
    "_isFastLaunch": false,
    "category": "General purpose",
    "gpuNum": 0,
    "hideHardwareSpecs": false,
    "memoryGiB": 384,
    "name": "ml.m5d.24xlarge",
    "vcpuNum": 96
   },
   {
    "_defaultOrder": 20,
    "_isFastLaunch": false,
    "category": "General purpose",
    "gpuNum": 0,
    "hideHardwareSpecs": true,
    "memoryGiB": 0,
    "name": "ml.geospatial.interactive",
    "supportedImageNames": [
     "sagemaker-geospatial-v1-0"
    ],
    "vcpuNum": 0
   },
   {
    "_defaultOrder": 21,
    "_isFastLaunch": true,
    "category": "Compute optimized",
    "gpuNum": 0,
    "hideHardwareSpecs": false,
    "memoryGiB": 4,
    "name": "ml.c5.large",
    "vcpuNum": 2
   },
   {
    "_defaultOrder": 22,
    "_isFastLaunch": false,
    "category": "Compute optimized",
    "gpuNum": 0,
    "hideHardwareSpecs": false,
    "memoryGiB": 8,
    "name": "ml.c5.xlarge",
    "vcpuNum": 4
   },
   {
    "_defaultOrder": 23,
    "_isFastLaunch": false,
    "category": "Compute optimized",
    "gpuNum": 0,
    "hideHardwareSpecs": false,
    "memoryGiB": 16,
    "name": "ml.c5.2xlarge",
    "vcpuNum": 8
   },
   {
    "_defaultOrder": 24,
    "_isFastLaunch": false,
    "category": "Compute optimized",
    "gpuNum": 0,
    "hideHardwareSpecs": false,
    "memoryGiB": 32,
    "name": "ml.c5.4xlarge",
    "vcpuNum": 16
   },
   {
    "_defaultOrder": 25,
    "_isFastLaunch": false,
    "category": "Compute optimized",
    "gpuNum": 0,
    "hideHardwareSpecs": false,
    "memoryGiB": 72,
    "name": "ml.c5.9xlarge",
    "vcpuNum": 36
   },
   {
    "_defaultOrder": 26,
    "_isFastLaunch": false,
    "category": "Compute optimized",
    "gpuNum": 0,
    "hideHardwareSpecs": false,
    "memoryGiB": 96,
    "name": "ml.c5.12xlarge",
    "vcpuNum": 48
   },
   {
    "_defaultOrder": 27,
    "_isFastLaunch": false,
    "category": "Compute optimized",
    "gpuNum": 0,
    "hideHardwareSpecs": false,
    "memoryGiB": 144,
    "name": "ml.c5.18xlarge",
    "vcpuNum": 72
   },
   {
    "_defaultOrder": 28,
    "_isFastLaunch": false,
    "category": "Compute optimized",
    "gpuNum": 0,
    "hideHardwareSpecs": false,
    "memoryGiB": 192,
    "name": "ml.c5.24xlarge",
    "vcpuNum": 96
   },
   {
    "_defaultOrder": 29,
    "_isFastLaunch": true,
    "category": "Accelerated computing",
    "gpuNum": 1,
    "hideHardwareSpecs": false,
    "memoryGiB": 16,
    "name": "ml.g4dn.xlarge",
    "vcpuNum": 4
   },
   {
    "_defaultOrder": 30,
    "_isFastLaunch": false,
    "category": "Accelerated computing",
    "gpuNum": 1,
    "hideHardwareSpecs": false,
    "memoryGiB": 32,
    "name": "ml.g4dn.2xlarge",
    "vcpuNum": 8
   },
   {
    "_defaultOrder": 31,
    "_isFastLaunch": false,
    "category": "Accelerated computing",
    "gpuNum": 1,
    "hideHardwareSpecs": false,
    "memoryGiB": 64,
    "name": "ml.g4dn.4xlarge",
    "vcpuNum": 16
   },
   {
    "_defaultOrder": 32,
    "_isFastLaunch": false,
    "category": "Accelerated computing",
    "gpuNum": 1,
    "hideHardwareSpecs": false,
    "memoryGiB": 128,
    "name": "ml.g4dn.8xlarge",
    "vcpuNum": 32
   },
   {
    "_defaultOrder": 33,
    "_isFastLaunch": false,
    "category": "Accelerated computing",
    "gpuNum": 4,
    "hideHardwareSpecs": false,
    "memoryGiB": 192,
    "name": "ml.g4dn.12xlarge",
    "vcpuNum": 48
   },
   {
    "_defaultOrder": 34,
    "_isFastLaunch": false,
    "category": "Accelerated computing",
    "gpuNum": 1,
    "hideHardwareSpecs": false,
    "memoryGiB": 256,
    "name": "ml.g4dn.16xlarge",
    "vcpuNum": 64
   },
   {
    "_defaultOrder": 35,
    "_isFastLaunch": false,
    "category": "Accelerated computing",
    "gpuNum": 1,
    "hideHardwareSpecs": false,
    "memoryGiB": 61,
    "name": "ml.p3.2xlarge",
    "vcpuNum": 8
   },
   {
    "_defaultOrder": 36,
    "_isFastLaunch": false,
    "category": "Accelerated computing",
    "gpuNum": 4,
    "hideHardwareSpecs": false,
    "memoryGiB": 244,
    "name": "ml.p3.8xlarge",
    "vcpuNum": 32
   },
   {
    "_defaultOrder": 37,
    "_isFastLaunch": false,
    "category": "Accelerated computing",
    "gpuNum": 8,
    "hideHardwareSpecs": false,
    "memoryGiB": 488,
    "name": "ml.p3.16xlarge",
    "vcpuNum": 64
   },
   {
    "_defaultOrder": 38,
    "_isFastLaunch": false,
    "category": "Accelerated computing",
    "gpuNum": 8,
    "hideHardwareSpecs": false,
    "memoryGiB": 768,
    "name": "ml.p3dn.24xlarge",
    "vcpuNum": 96
   },
   {
    "_defaultOrder": 39,
    "_isFastLaunch": false,
    "category": "Memory Optimized",
    "gpuNum": 0,
    "hideHardwareSpecs": false,
    "memoryGiB": 16,
    "name": "ml.r5.large",
    "vcpuNum": 2
   },
   {
    "_defaultOrder": 40,
    "_isFastLaunch": false,
    "category": "Memory Optimized",
    "gpuNum": 0,
    "hideHardwareSpecs": false,
    "memoryGiB": 32,
    "name": "ml.r5.xlarge",
    "vcpuNum": 4
   },
   {
    "_defaultOrder": 41,
    "_isFastLaunch": false,
    "category": "Memory Optimized",
    "gpuNum": 0,
    "hideHardwareSpecs": false,
    "memoryGiB": 64,
    "name": "ml.r5.2xlarge",
    "vcpuNum": 8
   },
   {
    "_defaultOrder": 42,
    "_isFastLaunch": false,
    "category": "Memory Optimized",
    "gpuNum": 0,
    "hideHardwareSpecs": false,
    "memoryGiB": 128,
    "name": "ml.r5.4xlarge",
    "vcpuNum": 16
   },
   {
    "_defaultOrder": 43,
    "_isFastLaunch": false,
    "category": "Memory Optimized",
    "gpuNum": 0,
    "hideHardwareSpecs": false,
    "memoryGiB": 256,
    "name": "ml.r5.8xlarge",
    "vcpuNum": 32
   },
   {
    "_defaultOrder": 44,
    "_isFastLaunch": false,
    "category": "Memory Optimized",
    "gpuNum": 0,
    "hideHardwareSpecs": false,
    "memoryGiB": 384,
    "name": "ml.r5.12xlarge",
    "vcpuNum": 48
   },
   {
    "_defaultOrder": 45,
    "_isFastLaunch": false,
    "category": "Memory Optimized",
    "gpuNum": 0,
    "hideHardwareSpecs": false,
    "memoryGiB": 512,
    "name": "ml.r5.16xlarge",
    "vcpuNum": 64
   },
   {
    "_defaultOrder": 46,
    "_isFastLaunch": false,
    "category": "Memory Optimized",
    "gpuNum": 0,
    "hideHardwareSpecs": false,
    "memoryGiB": 768,
    "name": "ml.r5.24xlarge",
    "vcpuNum": 96
   },
   {
    "_defaultOrder": 47,
    "_isFastLaunch": false,
    "category": "Accelerated computing",
    "gpuNum": 1,
    "hideHardwareSpecs": false,
    "memoryGiB": 16,
    "name": "ml.g5.xlarge",
    "vcpuNum": 4
   },
   {
    "_defaultOrder": 48,
    "_isFastLaunch": false,
    "category": "Accelerated computing",
    "gpuNum": 1,
    "hideHardwareSpecs": false,
    "memoryGiB": 32,
    "name": "ml.g5.2xlarge",
    "vcpuNum": 8
   },
   {
    "_defaultOrder": 49,
    "_isFastLaunch": false,
    "category": "Accelerated computing",
    "gpuNum": 1,
    "hideHardwareSpecs": false,
    "memoryGiB": 64,
    "name": "ml.g5.4xlarge",
    "vcpuNum": 16
   },
   {
    "_defaultOrder": 50,
    "_isFastLaunch": false,
    "category": "Accelerated computing",
    "gpuNum": 1,
    "hideHardwareSpecs": false,
    "memoryGiB": 128,
    "name": "ml.g5.8xlarge",
    "vcpuNum": 32
   },
   {
    "_defaultOrder": 51,
    "_isFastLaunch": false,
    "category": "Accelerated computing",
    "gpuNum": 1,
    "hideHardwareSpecs": false,
    "memoryGiB": 256,
    "name": "ml.g5.16xlarge",
    "vcpuNum": 64
   },
   {
    "_defaultOrder": 52,
    "_isFastLaunch": false,
    "category": "Accelerated computing",
    "gpuNum": 4,
    "hideHardwareSpecs": false,
    "memoryGiB": 192,
    "name": "ml.g5.12xlarge",
    "vcpuNum": 48
   },
   {
    "_defaultOrder": 53,
    "_isFastLaunch": false,
    "category": "Accelerated computing",
    "gpuNum": 4,
    "hideHardwareSpecs": false,
    "memoryGiB": 384,
    "name": "ml.g5.24xlarge",
    "vcpuNum": 96
   },
   {
    "_defaultOrder": 54,
    "_isFastLaunch": false,
    "category": "Accelerated computing",
    "gpuNum": 8,
    "hideHardwareSpecs": false,
    "memoryGiB": 768,
    "name": "ml.g5.48xlarge",
    "vcpuNum": 192
   },
   {
    "_defaultOrder": 55,
    "_isFastLaunch": false,
    "category": "Accelerated computing",
    "gpuNum": 8,
    "hideHardwareSpecs": false,
    "memoryGiB": 1152,
    "name": "ml.p4d.24xlarge",
    "vcpuNum": 96
   },
   {
    "_defaultOrder": 56,
    "_isFastLaunch": false,
    "category": "Accelerated computing",
    "gpuNum": 8,
    "hideHardwareSpecs": false,
    "memoryGiB": 1152,
    "name": "ml.p4de.24xlarge",
    "vcpuNum": 96
   },
   {
    "_defaultOrder": 57,
    "_isFastLaunch": false,
    "category": "Accelerated computing",
    "gpuNum": 0,
    "hideHardwareSpecs": false,
    "memoryGiB": 32,
    "name": "ml.trn1.2xlarge",
    "vcpuNum": 8
   },
   {
    "_defaultOrder": 58,
    "_isFastLaunch": false,
    "category": "Accelerated computing",
    "gpuNum": 0,
    "hideHardwareSpecs": false,
    "memoryGiB": 512,
    "name": "ml.trn1.32xlarge",
    "vcpuNum": 128
   },
   {
    "_defaultOrder": 59,
    "_isFastLaunch": false,
    "category": "Accelerated computing",
    "gpuNum": 0,
    "hideHardwareSpecs": false,
    "memoryGiB": 512,
    "name": "ml.trn1n.32xlarge",
    "vcpuNum": 128
   }
  ],
  "instance_type": "ml.m5.2xlarge",
  "kernelspec": {
   "display_name": "Python 3 (Data Science 3.0)",
   "language": "python",
   "name": "python3__SAGEMAKER_INTERNAL__arn:aws:sagemaker:us-east-1:081325390199:image/sagemaker-data-science-310-v1"
  },
  "language_info": {
   "codemirror_mode": {
    "name": "ipython",
    "version": 3
   },
   "file_extension": ".py",
   "mimetype": "text/x-python",
   "name": "python",
   "nbconvert_exporter": "python",
   "pygments_lexer": "ipython3",
   "version": "3.10.6"
  }
 },
 "nbformat": 4,
 "nbformat_minor": 5
}
