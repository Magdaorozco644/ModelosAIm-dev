{
 "cells": [
  {
   "cell_type": "code",
   "execution_count": 3,
   "id": "09758d89-0f6c-4811-bdc0-b07d7eaa6b73",
   "metadata": {
    "tags": []
   },
   "outputs": [],
   "source": [
    "# !pip install awswrangler\n",
    "# !pip install skforecast\n",
    "# !pip install pmdarima"
   ]
  },
  {
   "cell_type": "code",
   "execution_count": 4,
   "id": "b07ad127-615b-42eb-906b-698c0311e4dc",
   "metadata": {
    "tags": []
   },
   "outputs": [],
   "source": [
    "import awswrangler as wr\n",
    "import pandas as pd\n",
    "import boto3\n",
    "import pickle\n",
    "from io import BytesIO\n",
    "from io import StringIO\n",
    "import joblib\n",
    "import os\n",
    "from datetime import datetime, timedelta\n",
    "import warnings\n",
    "\n",
    "# skforecast\n",
    "from skforecast.Sarimax import Sarimax\n",
    "from skforecast.ForecasterSarimax import ForecasterSarimax\n",
    "from skforecast.model_selection_sarimax import backtesting_sarimax\n",
    "from skforecast.model_selection_sarimax import grid_search_sarimax\n",
    "from sklearn.metrics import mean_absolute_error\n"
   ]
  },
  {
   "cell_type": "markdown",
   "id": "d8ed74f1-8a3b-4e7b-a919-bcc13deada3d",
   "metadata": {
    "tags": []
   },
   "source": [
    "### Levantando ABT y leyendo los pkls"
   ]
  },
  {
   "cell_type": "code",
   "execution_count": 62,
   "id": "497e38ec-b395-4684-8d5a-266512b27127",
   "metadata": {
    "tags": []
   },
   "outputs": [],
   "source": [
    "# Set up S3 client\n",
    "client = boto3.client('s3')\n",
    "bucket_name = 'viamericas-datalake-dev-us-east-1-283731589572-analytics'\n",
    "path = 'ABTv3/Last_releases/' # Folder under analysis\n",
    "\n",
    "ABTversion = 'v3'\n",
    "path_ABT = f'ABT{ABTversion}/' "
   ]
  },
  {
   "cell_type": "code",
   "execution_count": 6,
   "id": "f64be7cb-017e-452e-9444-96f152a5fba5",
   "metadata": {
    "tags": []
   },
   "outputs": [
    {
     "name": "stdout",
     "output_type": "stream",
     "text": [
      "CSV file loaded\n"
     ]
    }
   ],
   "source": [
    "# Specify the CSV file key\n",
    "csv_key = None\n",
    "\n",
    "# List objects in the S3 path\n",
    "response = client.list_objects(Bucket=bucket_name, Prefix=path_ABT)\n",
    "\n",
    "# Find the CSV file in the S3 path\n",
    "for obj in response.get('Contents', []):\n",
    "    if obj['Key'].endswith('.csv'):\n",
    "        csv_key = obj['Key']\n",
    "        break\n",
    "        \n",
    "# Check if CSV file is found\n",
    "if csv_key is not None:\n",
    "    # Read CSV content from S3\n",
    "    csv_response = client.get_object(Bucket=bucket_name, Key=csv_key)\n",
    "    csv_content = csv_response['Body'].read().decode('utf-8')\n",
    "\n",
    "    # Transform CSV content to DataFrame\n",
    "    data = pd.read_csv(StringIO(csv_content))\n",
    "    data['date'] = pd.to_datetime(data['date']).dt.date\n",
    "    print(\"CSV file loaded\")\n",
    "else:\n",
    "    print(\"No CSV file found in the specified S3 path.\")"
   ]
  },
  {
   "cell_type": "code",
   "execution_count": 7,
   "id": "d03123a1-7bc1-4b12-b53b-98d3ea8dcffc",
   "metadata": {
    "tags": []
   },
   "outputs": [],
   "source": [
    "#data = data[data['date'] < pd.to_datetime('2023-12-25').date()]"
   ]
  },
  {
   "cell_type": "code",
   "execution_count": 8,
   "id": "6617f69b-df9f-40b2-870f-54dd6958c1f6",
   "metadata": {
    "tags": []
   },
   "outputs": [],
   "source": [
    "elements = client.list_objects(Bucket=bucket_name, Prefix=path)\n",
    "\n",
    "#Listing pkl files\n",
    "pkl_files = [obj['Key'] for obj in elements.get('Contents', []) if obj['Key'].endswith('.pkl')\n",
    "                and ('MODEL_2d_' in obj['Key']) and not obj['Key'].endswith('_2d.pkl')]"
   ]
  },
  {
   "cell_type": "code",
   "execution_count": 9,
   "id": "5774aa75-dcd3-4dab-871e-4dc62c21958b",
   "metadata": {
    "tags": []
   },
   "outputs": [
    {
     "data": {
      "text/plain": [
       "130"
      ]
     },
     "execution_count": 9,
     "metadata": {},
     "output_type": "execute_result"
    }
   ],
   "source": [
    "len(pkl_files)"
   ]
  },
  {
   "cell_type": "markdown",
   "id": "d13bfcb2-fd2c-412a-b5b3-9149129ef327",
   "metadata": {
    "jp-MarkdownHeadingCollapsed": true,
    "tags": []
   },
   "source": [
    "### Prueba con 1 payer"
   ]
  },
  {
   "cell_type": "code",
   "execution_count": 10,
   "id": "b65c6a68-3376-447b-bf08-068df454138f",
   "metadata": {
    "tags": []
   },
   "outputs": [
    {
     "data": {
      "text/plain": [
       "'ABTv3/Last_releases/ARGENPER_ARGENTINA/MODEL_2d_ARGENPER_ARGENTINA.pkl'"
      ]
     },
     "execution_count": 10,
     "metadata": {},
     "output_type": "execute_result"
    }
   ],
   "source": [
    "pkl_files[6]"
   ]
  },
  {
   "cell_type": "code",
   "execution_count": 11,
   "id": "12fc7684-6c6c-419d-beaa-b04d0e6a4d8b",
   "metadata": {
    "tags": []
   },
   "outputs": [],
   "source": [
    "file_key = pkl_files[6]\n",
    "\n",
    "# Descargar el archivo pkl desde S3 y cargarlo en memoria\n",
    "response = client.get_object(Bucket=bucket_name, Key=file_key)\n",
    "buffer = BytesIO(response['Body'].read())\n",
    "forecaster = joblib.load(buffer)"
   ]
  },
  {
   "cell_type": "code",
   "execution_count": 12,
   "id": "99bf8a3b-cd89-426e-bc1a-aee87d4044d1",
   "metadata": {
    "tags": []
   },
   "outputs": [
    {
     "name": "stderr",
     "output_type": "stream",
     "text": [
      "/tmp/ipykernel_18/1087669924.py:5: SettingWithCopyWarning: \n",
      "A value is trying to be set on a copy of a slice from a DataFrame.\n",
      "Try using .loc[row_indexer,col_indexer] = value instead\n",
      "\n",
      "See the caveats in the documentation: https://pandas.pydata.org/pandas-docs/stable/user_guide/indexing.html#returning-a-view-versus-a-copy\n",
      "  datos['date'] = pd.to_datetime(datos['date'])\n"
     ]
    }
   ],
   "source": [
    "payer = 'ARGENPER_ARGENTINA'\n",
    "\n",
    "#### PAYER SETTING ####\n",
    "datos = data.loc[data.payer_country==payer]\n",
    "datos['date'] = pd.to_datetime(datos['date'])\n",
    "datos.set_index('date', inplace=True)\n",
    "datos = datos.asfreq('D')"
   ]
  },
  {
   "cell_type": "code",
   "execution_count": 13,
   "id": "9625e232-72e5-4dc9-9e48-6f44733b01fa",
   "metadata": {
    "tags": []
   },
   "outputs": [
    {
     "name": "stderr",
     "output_type": "stream",
     "text": [
      "/tmp/ipykernel_18/234729881.py:5: SettingWithCopyWarning: \n",
      "A value is trying to be set on a copy of a slice from a DataFrame.\n",
      "Try using .loc[row_indexer,col_indexer] = value instead\n",
      "\n",
      "See the caveats in the documentation: https://pandas.pydata.org/pandas-docs/stable/user_guide/indexing.html#returning-a-view-versus-a-copy\n",
      "  data_last_window[forecaster.exog_col_names] = data_last_window[forecaster.exog_col_names].fillna(0)\n",
      "/tmp/ipykernel_18/234729881.py:8: SettingWithCopyWarning: \n",
      "A value is trying to be set on a copy of a slice from a DataFrame.\n",
      "Try using .loc[row_indexer,col_indexer] = value instead\n",
      "\n",
      "See the caveats in the documentation: https://pandas.pydata.org/pandas-docs/stable/user_guide/indexing.html#returning-a-view-versus-a-copy\n",
      "  data_test[forecaster.exog_col_names] = data_test[forecaster.exog_col_names].fillna(0)\n"
     ]
    }
   ],
   "source": [
    "last_window_date = forecaster.last_window.index[-1] + pd.Timedelta(days=1)\n",
    "test_date = pd.Timestamp('2023-12-25') # El primer dia de test seria el dia a predecir\n",
    "\n",
    "data_last_window = datos.loc[last_window_date:test_date - pd.Timedelta(days=1)]\n",
    "data_last_window[forecaster.exog_col_names] = data_last_window[forecaster.exog_col_names].fillna(0)\n",
    "\n",
    "data_test = datos.loc[test_date:test_date + pd.Timedelta(days=1)] \n",
    "data_test[forecaster.exog_col_names] = data_test[forecaster.exog_col_names].fillna(0)"
   ]
  },
  {
   "cell_type": "code",
   "execution_count": 14,
   "id": "d0f04881-f19e-4d4a-830b-273d8d16de93",
   "metadata": {
    "tags": []
   },
   "outputs": [],
   "source": [
    "predictions = forecaster.predict(\n",
    "                  steps            = 2,\n",
    "                  exog             = data_test[forecaster.exog_col_names],\n",
    "                  last_window      = data_last_window['amount'],\n",
    "                  last_window_exog = data_last_window[forecaster.exog_col_names]\n",
    "              )"
   ]
  },
  {
   "cell_type": "code",
   "execution_count": 15,
   "id": "3a35c6da-0f19-46f2-841b-08be6844d440",
   "metadata": {
    "tags": []
   },
   "outputs": [
    {
     "data": {
      "text/plain": [
       "2023-12-25    485.241489\n",
       "2023-12-26    308.361684\n",
       "Freq: D, Name: pred, dtype: float64"
      ]
     },
     "execution_count": 15,
     "metadata": {},
     "output_type": "execute_result"
    }
   ],
   "source": [
    "predictions"
   ]
  },
  {
   "cell_type": "code",
   "execution_count": 16,
   "id": "6e0ffa75-d812-43d3-9a5e-db662195dd72",
   "metadata": {
    "tags": []
   },
   "outputs": [
    {
     "data": {
      "text/html": [
       "<div>\n",
       "<style scoped>\n",
       "    .dataframe tbody tr th:only-of-type {\n",
       "        vertical-align: middle;\n",
       "    }\n",
       "\n",
       "    .dataframe tbody tr th {\n",
       "        vertical-align: top;\n",
       "    }\n",
       "\n",
       "    .dataframe thead th {\n",
       "        text-align: right;\n",
       "    }\n",
       "</style>\n",
       "<table border=\"1\" class=\"dataframe\">\n",
       "  <thead>\n",
       "    <tr style=\"text-align: right;\">\n",
       "      <th></th>\n",
       "      <th>index</th>\n",
       "      <th>pred</th>\n",
       "    </tr>\n",
       "  </thead>\n",
       "  <tbody>\n",
       "    <tr>\n",
       "      <th>0</th>\n",
       "      <td>2023-12-25</td>\n",
       "      <td>485.241489</td>\n",
       "    </tr>\n",
       "    <tr>\n",
       "      <th>1</th>\n",
       "      <td>2023-12-26</td>\n",
       "      <td>308.361684</td>\n",
       "    </tr>\n",
       "  </tbody>\n",
       "</table>\n",
       "</div>"
      ],
      "text/plain": [
       "       index        pred\n",
       "0 2023-12-25  485.241489\n",
       "1 2023-12-26  308.361684"
      ]
     },
     "execution_count": 16,
     "metadata": {},
     "output_type": "execute_result"
    }
   ],
   "source": [
    "pd.DataFrame(predictions, columns=['pred']).reset_index()"
   ]
  },
  {
   "cell_type": "markdown",
   "id": "6f79405e-4fb0-46c7-9e49-b132858c1786",
   "metadata": {
    "tags": []
   },
   "source": [
    "### Bucle para procesar todos"
   ]
  },
  {
   "cell_type": "code",
   "execution_count": 17,
   "id": "36f02302-7431-4cf6-b0d2-f1ac9caad585",
   "metadata": {},
   "outputs": [],
   "source": [
    "# Initialize an empty DataFrame to store the results\n",
    "df_temp = pd.DataFrame(columns=['date', 'pred', 'payer_country', 'model'])"
   ]
  },
  {
   "cell_type": "code",
   "execution_count": 18,
   "id": "e29b3f19-5e21-4aa2-9fc5-c000565b23a6",
   "metadata": {
    "tags": []
   },
   "outputs": [
    {
     "data": {
      "text/plain": [
       "True"
      ]
     },
     "execution_count": 18,
     "metadata": {},
     "output_type": "execute_result"
    }
   ],
   "source": [
    "df_temp.empty"
   ]
  },
  {
   "cell_type": "code",
   "execution_count": null,
   "id": "709a0a42-e268-4e20-8595-c4e6afe85be3",
   "metadata": {
    "tags": []
   },
   "outputs": [
    {
     "name": "stdout",
     "output_type": "stream",
     "text": [
      "24XORO_MEXICO\n",
      "\u001b[1;31mError processing 24XORO_MEXICO\u001b[0m\n",
      "ABANK (TN)_EL SALVADOR\n",
      "\u001b[1;31mError processing ABANK (TN)_EL SALVADOR\u001b[0m\n",
      "AFEX_CHILE\n"
     ]
    }
   ],
   "source": [
    "i = 1\n",
    "\n",
    "# Iterate over pkl files\n",
    "for file_key in pkl_files:\n",
    "    # Extract payer_country from file_key\n",
    "    payer_country = file_key.split('/')[2]\n",
    "    print(payer_country)\n",
    "    \n",
    "    # Download pkl file from S3 and load it into memory\n",
    "    response = client.get_object(Bucket=bucket_name, Key=file_key)\n",
    "    buffer = BytesIO(response['Body'].read())\n",
    "    forecaster = joblib.load(buffer)\n",
    "    \n",
    "    #### PAYER SETTING ####\n",
    "    # Filter data for the specific payer_country\n",
    "    datos = data[data['payer_country'] == payer_country].copy()\n",
    "#    datos = data.loc[data.payer_country == payer_country]\n",
    "    datos['date'] = pd.to_datetime(datos['date'])\n",
    "    datos.set_index('date', inplace=True)\n",
    "    datos = datos.asfreq('D')\n",
    "\n",
    "    # Predictions settings\n",
    "    last_window_date = forecaster.last_window.index[-1] + pd.Timedelta(days=1)\n",
    "    test_date = pd.Timestamp('2023-12-16')  # The first test day would be the day to predict\n",
    "\n",
    "    # Extract data for last window and test period\n",
    "    data_last_window = datos.loc[last_window_date:test_date - pd.Timedelta(days=1)].copy()\n",
    "#    data_last_window = datos.loc[last_window_date:test_date - pd.Timedelta(days=1)]\n",
    "    data_last_window[forecaster.exog_col_names] = data_last_window[forecaster.exog_col_names].fillna(0)\n",
    "    data_test = datos.loc[test_date:test_date + pd.Timedelta(days=1)].copy()\n",
    "#    data_test = datos.loc[test_date:test_date + pd.Timedelta(days=1)] \n",
    "    data_test[forecaster.exog_col_names] = data_test[forecaster.exog_col_names].fillna(0)\n",
    "\n",
    "    try:\n",
    "        \n",
    "        with warnings.catch_warnings():\n",
    "            warnings.filterwarnings(\"ignore\")\n",
    "        # Make predictions\n",
    "        predictions = forecaster.predict(\n",
    "                          steps            = 2,\n",
    "                          exog             = data_test[forecaster.exog_col_names],\n",
    "                          last_window      = data_last_window['amount'],\n",
    "                          last_window_exog = data_last_window[forecaster.exog_col_names]\n",
    "                      )\n",
    "        # Store predictions in a temporary DataFrame\n",
    "        df_temp = pd.DataFrame(predictions, columns=['pred']).reset_index()\n",
    "#        print(df_temp)\n",
    "\n",
    "    except:\n",
    "        # If an exception occurs, set predictions to zero\n",
    "        print(\"\\033[1;31m\" + f\"Error processing {payer_country}\" + \"\\033[0m\")\n",
    "        predictions = [0, 0]\n",
    "        df_temp = pd.DataFrame({'index': [test_date, test_date + pd.Timedelta(days=1)], 'pred': predictions})\n",
    "\n",
    "\n",
    "    # Add additional columns\n",
    "    df_temp['payer_country'] = payer_country\n",
    "    df_temp['model'] = file_key.split('/')[-1]\n",
    "\n",
    "    # Concatenate df_temp with the main DataFrame\n",
    "    if i:\n",
    "        temp_df = df_temp.copy()\n",
    "        i = 0\n",
    "    else:\n",
    "        temp_df = pd.concat([temp_df, df_temp], ignore_index=True)"
   ]
  },
  {
   "cell_type": "code",
   "execution_count": 95,
   "id": "3409f628-6a7f-42fd-aa8e-0378739d1ba2",
   "metadata": {
    "tags": []
   },
   "outputs": [
    {
     "data": {
      "text/plain": [
       "260"
      ]
     },
     "execution_count": 95,
     "metadata": {},
     "output_type": "execute_result"
    }
   ],
   "source": [
    "len(temp_df)"
   ]
  },
  {
   "cell_type": "code",
   "execution_count": 96,
   "id": "b15b642a-2119-4102-829a-e2044b66f801",
   "metadata": {
    "tags": []
   },
   "outputs": [
    {
     "data": {
      "text/html": [
       "<div>\n",
       "<style scoped>\n",
       "    .dataframe tbody tr th:only-of-type {\n",
       "        vertical-align: middle;\n",
       "    }\n",
       "\n",
       "    .dataframe tbody tr th {\n",
       "        vertical-align: top;\n",
       "    }\n",
       "\n",
       "    .dataframe thead th {\n",
       "        text-align: right;\n",
       "    }\n",
       "</style>\n",
       "<table border=\"1\" class=\"dataframe\">\n",
       "  <thead>\n",
       "    <tr style=\"text-align: right;\">\n",
       "      <th></th>\n",
       "      <th>index</th>\n",
       "      <th>pred</th>\n",
       "      <th>payer_country</th>\n",
       "      <th>model</th>\n",
       "    </tr>\n",
       "  </thead>\n",
       "  <tbody>\n",
       "    <tr>\n",
       "      <th>48</th>\n",
       "      <td>2023-12-25</td>\n",
       "      <td>-148947.677845</td>\n",
       "      <td>BANCO INDUSTRIAL_GUATEMALA</td>\n",
       "      <td>MODEL_2d_BANCO INDUSTRIAL_GUATEMALA.pkl</td>\n",
       "    </tr>\n",
       "    <tr>\n",
       "      <th>54</th>\n",
       "      <td>2023-12-25</td>\n",
       "      <td>-67191.858226</td>\n",
       "      <td>BANCO RENDIMENTO_BRAZIL</td>\n",
       "      <td>MODEL_2d_BANCO RENDIMENTO_BRAZIL.pkl</td>\n",
       "    </tr>\n",
       "    <tr>\n",
       "      <th>58</th>\n",
       "      <td>2023-12-25</td>\n",
       "      <td>-19169.543009</td>\n",
       "      <td>BANCOPPEL (APPRIZA)_MEXICO</td>\n",
       "      <td>MODEL_2d_BANCOPPEL (APPRIZA)_MEXICO.pkl</td>\n",
       "    </tr>\n",
       "    <tr>\n",
       "      <th>70</th>\n",
       "      <td>2023-12-25</td>\n",
       "      <td>-26701.657343</td>\n",
       "      <td>BANRURAL (HONDURAS)_HONDURAS</td>\n",
       "      <td>MODEL_2d_BANRURAL (HONDURAS)_HONDURAS.pkl</td>\n",
       "    </tr>\n",
       "    <tr>\n",
       "      <th>108</th>\n",
       "      <td>2023-12-25</td>\n",
       "      <td>-12963.753813</td>\n",
       "      <td>ELEKTRA (BTS)_GUATEMALA</td>\n",
       "      <td>MODEL_2d_ELEKTRA (BTS)_GUATEMALA.pkl</td>\n",
       "    </tr>\n",
       "    <tr>\n",
       "      <th>110</th>\n",
       "      <td>2023-12-25</td>\n",
       "      <td>-95825.648347</td>\n",
       "      <td>ELEKTRA (BTS)_HONDURAS</td>\n",
       "      <td>MODEL_2d_ELEKTRA (BTS)_HONDURAS.pkl</td>\n",
       "    </tr>\n",
       "    <tr>\n",
       "      <th>147</th>\n",
       "      <td>2023-12-26</td>\n",
       "      <td>-6.873834</td>\n",
       "      <td>KORI_BENIN</td>\n",
       "      <td>MODEL_2d_KORI_BENIN.pkl</td>\n",
       "    </tr>\n",
       "  </tbody>\n",
       "</table>\n",
       "</div>"
      ],
      "text/plain": [
       "         index           pred                 payer_country  \\\n",
       "48  2023-12-25 -148947.677845    BANCO INDUSTRIAL_GUATEMALA   \n",
       "54  2023-12-25  -67191.858226       BANCO RENDIMENTO_BRAZIL   \n",
       "58  2023-12-25  -19169.543009    BANCOPPEL (APPRIZA)_MEXICO   \n",
       "70  2023-12-25  -26701.657343  BANRURAL (HONDURAS)_HONDURAS   \n",
       "108 2023-12-25  -12963.753813       ELEKTRA (BTS)_GUATEMALA   \n",
       "110 2023-12-25  -95825.648347        ELEKTRA (BTS)_HONDURAS   \n",
       "147 2023-12-26      -6.873834                    KORI_BENIN   \n",
       "\n",
       "                                         model  \n",
       "48     MODEL_2d_BANCO INDUSTRIAL_GUATEMALA.pkl  \n",
       "54        MODEL_2d_BANCO RENDIMENTO_BRAZIL.pkl  \n",
       "58     MODEL_2d_BANCOPPEL (APPRIZA)_MEXICO.pkl  \n",
       "70   MODEL_2d_BANRURAL (HONDURAS)_HONDURAS.pkl  \n",
       "108       MODEL_2d_ELEKTRA (BTS)_GUATEMALA.pkl  \n",
       "110        MODEL_2d_ELEKTRA (BTS)_HONDURAS.pkl  \n",
       "147                    MODEL_2d_KORI_BENIN.pkl  "
      ]
     },
     "execution_count": 96,
     "metadata": {},
     "output_type": "execute_result"
    }
   ],
   "source": [
    "temp_df[temp_df['pred'] < 0]"
   ]
  },
  {
   "cell_type": "code",
   "execution_count": 97,
   "id": "a00be102-5250-4477-8d58-7767b039f6c9",
   "metadata": {
    "tags": []
   },
   "outputs": [],
   "source": [
    "# Replace values in 'pred' column with 0 where 'pred' is less than 0\n",
    "temp_df.loc[temp_df['pred'] < 0, 'pred'] = 0"
   ]
  },
  {
   "cell_type": "code",
   "execution_count": 98,
   "id": "4bd3f5a8-3a7e-4939-b261-ee45af7f9f5d",
   "metadata": {
    "tags": []
   },
   "outputs": [],
   "source": [
    "# Convert 'index' column to date format\n",
    "temp_df['index'] = pd.to_datetime(temp_df['index']).dt.date"
   ]
  },
  {
   "cell_type": "code",
   "execution_count": 99,
   "id": "2d45420b-f722-4815-be55-50cdd42623db",
   "metadata": {
    "tags": []
   },
   "outputs": [],
   "source": [
    "# # Finding the minimum and maximum dates in the 'index' column\n",
    "# min_date = temp_df['index'].min()\n",
    "# max_date = temp_df['index'].max()"
   ]
  },
  {
   "cell_type": "code",
   "execution_count": 100,
   "id": "b9a3585e-eddd-4ffd-8650-338be7268d5b",
   "metadata": {
    "tags": []
   },
   "outputs": [],
   "source": [
    "# # Adding suffixes to the minimum and maximum dates\n",
    "# temp_df.loc[temp_df['index'] == min_date, 'index'] = min_date.strftime('%Y-%m-%d') + '_pred_day_0'\n",
    "# temp_df.loc[temp_df['index'] == max_date, 'index'] = max_date.strftime('%Y-%m-%d') + '_pred_day_1'"
   ]
  },
  {
   "cell_type": "code",
   "execution_count": 101,
   "id": "9c8cc489-4819-42d3-a523-cd97534f180a",
   "metadata": {
    "tags": []
   },
   "outputs": [
    {
     "data": {
      "text/html": [
       "<div>\n",
       "<style scoped>\n",
       "    .dataframe tbody tr th:only-of-type {\n",
       "        vertical-align: middle;\n",
       "    }\n",
       "\n",
       "    .dataframe tbody tr th {\n",
       "        vertical-align: top;\n",
       "    }\n",
       "\n",
       "    .dataframe thead th {\n",
       "        text-align: right;\n",
       "    }\n",
       "</style>\n",
       "<table border=\"1\" class=\"dataframe\">\n",
       "  <thead>\n",
       "    <tr style=\"text-align: right;\">\n",
       "      <th></th>\n",
       "      <th>index</th>\n",
       "      <th>pred</th>\n",
       "      <th>payer_country</th>\n",
       "      <th>model</th>\n",
       "    </tr>\n",
       "  </thead>\n",
       "  <tbody>\n",
       "    <tr>\n",
       "      <th>0</th>\n",
       "      <td>2023-12-25</td>\n",
       "      <td>36947.319758</td>\n",
       "      <td>24XORO_MEXICO</td>\n",
       "      <td>MODEL_2d_24XORO_MEXICO.pkl</td>\n",
       "    </tr>\n",
       "    <tr>\n",
       "      <th>1</th>\n",
       "      <td>2023-12-26</td>\n",
       "      <td>43751.589258</td>\n",
       "      <td>24XORO_MEXICO</td>\n",
       "      <td>MODEL_2d_24XORO_MEXICO.pkl</td>\n",
       "    </tr>\n",
       "    <tr>\n",
       "      <th>2</th>\n",
       "      <td>2023-12-25</td>\n",
       "      <td>9590.269894</td>\n",
       "      <td>ABANK (TN)_EL SALVADOR</td>\n",
       "      <td>MODEL_2d_ABANK (TN)_EL SALVADOR.pkl</td>\n",
       "    </tr>\n",
       "    <tr>\n",
       "      <th>3</th>\n",
       "      <td>2023-12-26</td>\n",
       "      <td>8998.724809</td>\n",
       "      <td>ABANK (TN)_EL SALVADOR</td>\n",
       "      <td>MODEL_2d_ABANK (TN)_EL SALVADOR.pkl</td>\n",
       "    </tr>\n",
       "    <tr>\n",
       "      <th>4</th>\n",
       "      <td>2023-12-25</td>\n",
       "      <td>5632.096572</td>\n",
       "      <td>AFEX_CHILE</td>\n",
       "      <td>MODEL_2d_AFEX_CHILE.pkl</td>\n",
       "    </tr>\n",
       "  </tbody>\n",
       "</table>\n",
       "</div>"
      ],
      "text/plain": [
       "        index          pred           payer_country  \\\n",
       "0  2023-12-25  36947.319758           24XORO_MEXICO   \n",
       "1  2023-12-26  43751.589258           24XORO_MEXICO   \n",
       "2  2023-12-25   9590.269894  ABANK (TN)_EL SALVADOR   \n",
       "3  2023-12-26   8998.724809  ABANK (TN)_EL SALVADOR   \n",
       "4  2023-12-25   5632.096572              AFEX_CHILE   \n",
       "\n",
       "                                 model  \n",
       "0           MODEL_2d_24XORO_MEXICO.pkl  \n",
       "1           MODEL_2d_24XORO_MEXICO.pkl  \n",
       "2  MODEL_2d_ABANK (TN)_EL SALVADOR.pkl  \n",
       "3  MODEL_2d_ABANK (TN)_EL SALVADOR.pkl  \n",
       "4              MODEL_2d_AFEX_CHILE.pkl  "
      ]
     },
     "execution_count": 101,
     "metadata": {},
     "output_type": "execute_result"
    }
   ],
   "source": [
    "temp_df.head()"
   ]
  },
  {
   "cell_type": "code",
   "execution_count": 105,
   "id": "390fb1f8-dfea-4c71-8642-da145b185cb3",
   "metadata": {
    "tags": []
   },
   "outputs": [],
   "source": [
    "temp_df.rename(columns={'index':'pred_date'}, inplace=True)"
   ]
  },
  {
   "cell_type": "code",
   "execution_count": 82,
   "id": "16eeee36-0e9f-4dd0-8a51-9ca0cb6effc0",
   "metadata": {
    "tags": []
   },
   "outputs": [],
   "source": [
    "#df_pivot = pd.pivot_table(temp_df, index=['payer_country','model'], columns='index', values='pred', aggfunc='first', fill_value=None).reset_index()"
   ]
  },
  {
   "cell_type": "code",
   "execution_count": 27,
   "id": "1736a019-e785-4bf6-b529-aeb716f01a49",
   "metadata": {},
   "outputs": [],
   "source": [
    "## LEVANTO ULTIMA ABT ACTUALIZADA\n",
    "prefix = 'abt_parquet/'\n",
    "\n",
    "today = datetime.now().date()\n",
    "yesterday = today - timedelta(days=1)\n",
    "\n",
    "today_folder = 'dt=' + today.strftime('%Y-%m-%d') + '/'\n",
    "yesterday_folder = 'dt=' + yesterday.strftime('%Y-%m-%d') + '/'"
   ]
  },
  {
   "cell_type": "code",
   "execution_count": 34,
   "id": "02c4c665-d3ca-4053-bd31-5a4a0a37f4b2",
   "metadata": {
    "tags": []
   },
   "outputs": [],
   "source": [
    "# objects = client.list_objects_v2(Bucket=bucket_name, Prefix=prefix+yesterday_folder)"
   ]
  },
  {
   "cell_type": "code",
   "execution_count": 35,
   "id": "64f6021a-2931-46d0-b982-674bac0642d2",
   "metadata": {
    "tags": []
   },
   "outputs": [],
   "source": [
    "import s3fs\n",
    "import pyarrow.parquet as pq\n",
    "\n",
    "# # Check if objects were found\n",
    "# if 'Contents' in objects:\n",
    "#     # Get the Parquet file path within the folder\n",
    "#     file_key = objects['Contents'][0]['Key']\n",
    "    \n",
    "#     # Create an S3 FileSystem client\n",
    "#     s3_file_system = s3fs.S3FileSystem()\n",
    "\n",
    "#     # Read the Parquet file using pyarrow\n",
    "#     with s3_file_system.open(f's3://{bucket_name}/{file_key}', mode='rb') as file:\n",
    "#         parquet_table = pq.read_table(file)\n",
    "    \n",
    "#     # Convert the Parquet table to a DataFrame (optional)\n",
    "#     df = parquet_table.to_pandas()\n",
    "# else:\n",
    "#     print(f\"No Parquet files found in the folder {prefix+yesterday_folder}.\")"
   ]
  },
  {
   "cell_type": "code",
   "execution_count": 36,
   "id": "7ce2b050-f5df-4172-912a-751525ef175a",
   "metadata": {
    "tags": []
   },
   "outputs": [],
   "source": [
    "# DB Setting\n",
    "bucket_name = 's3://viamericas-datalake-dev-us-east-1-283731589572-athena/'\n",
    "origin_name = 'AwsDataCatalog'\n",
    "database_name= 'analytics'\n",
    "table_name = 'daily_check_gp'"
   ]
  },
  {
   "cell_type": "code",
   "execution_count": 37,
   "id": "29815dcf-84e2-4799-b935-35a3a2ef98d0",
   "metadata": {
    "tags": []
   },
   "outputs": [
    {
     "name": "stderr",
     "output_type": "stream",
     "text": [
      "awswrangler.athena._utils INFO  Created CTAS table \"analytics\".\"temp_table_94197ef74104473995881fd637f526f9\"\n"
     ]
    }
   ],
   "source": [
    "df = wr.athena.read_sql_table(\n",
    "    table=table_name,\n",
    "    database=database_name,\n",
    ")"
   ]
  },
  {
   "cell_type": "code",
   "execution_count": 98,
   "id": "fa9b1456-13fc-450d-ba4f-194e3a93b63a",
   "metadata": {
    "tags": []
   },
   "outputs": [],
   "source": [
    "#parquet_table.to_pandas()"
   ]
  },
  {
   "cell_type": "code",
   "execution_count": 101,
   "id": "c477dec5-11df-4f55-ad00-503131e4f954",
   "metadata": {
    "tags": []
   },
   "outputs": [],
   "source": [
    "#df.isnull().sum().to_list()"
   ]
  },
  {
   "cell_type": "code",
   "execution_count": 44,
   "id": "6ec44790-9a38-4a11-9870-331890083d3c",
   "metadata": {
    "tags": []
   },
   "outputs": [],
   "source": [
    "df['payer_country'] = df['payer'] + '_' + df['country']"
   ]
  },
  {
   "cell_type": "code",
   "execution_count": 46,
   "id": "fb9e4764-84c1-4ec1-b2ae-c088d8c07efc",
   "metadata": {
    "tags": []
   },
   "outputs": [],
   "source": [
    "df_id = df[['payer_country', 'id_main_branch', 'id_country']].drop_duplicates().dropna(subset='id_main_branch')"
   ]
  },
  {
   "cell_type": "code",
   "execution_count": 47,
   "id": "d35eebd1-f716-4b5a-a658-e5a52b715366",
   "metadata": {
    "tags": []
   },
   "outputs": [],
   "source": [
    "#df_id.to_excel('df_id.xlsx')"
   ]
  },
  {
   "cell_type": "code",
   "execution_count": 48,
   "id": "38d4adad-f379-4627-9a84-52de8da52438",
   "metadata": {
    "tags": []
   },
   "outputs": [
    {
     "data": {
      "text/plain": [
       "275"
      ]
     },
     "execution_count": 48,
     "metadata": {},
     "output_type": "execute_result"
    }
   ],
   "source": [
    "len(df_id)"
   ]
  },
  {
   "cell_type": "code",
   "execution_count": 49,
   "id": "528a2c0e-8e7f-4eeb-8f3e-a264600f857d",
   "metadata": {
    "tags": []
   },
   "outputs": [
    {
     "data": {
      "text/plain": [
       "275"
      ]
     },
     "execution_count": 49,
     "metadata": {},
     "output_type": "execute_result"
    }
   ],
   "source": [
    "len(df['payer_country'].unique())"
   ]
  },
  {
   "cell_type": "code",
   "execution_count": 110,
   "id": "5798b688-49c7-4bfa-ade1-cf8c3b41fd2d",
   "metadata": {
    "tags": []
   },
   "outputs": [
    {
     "data": {
      "text/html": [
       "<div>\n",
       "<style scoped>\n",
       "    .dataframe tbody tr th:only-of-type {\n",
       "        vertical-align: middle;\n",
       "    }\n",
       "\n",
       "    .dataframe tbody tr th {\n",
       "        vertical-align: top;\n",
       "    }\n",
       "\n",
       "    .dataframe thead th {\n",
       "        text-align: right;\n",
       "    }\n",
       "</style>\n",
       "<table border=\"1\" class=\"dataframe\">\n",
       "  <thead>\n",
       "    <tr style=\"text-align: right;\">\n",
       "      <th></th>\n",
       "      <th>pred_date</th>\n",
       "      <th>pred</th>\n",
       "      <th>payer_country</th>\n",
       "      <th>model</th>\n",
       "    </tr>\n",
       "  </thead>\n",
       "  <tbody>\n",
       "    <tr>\n",
       "      <th>0</th>\n",
       "      <td>2023-12-25</td>\n",
       "      <td>36947.319758</td>\n",
       "      <td>24XORO_MEXICO</td>\n",
       "      <td>MODEL_2d_24XORO_MEXICO.pkl</td>\n",
       "    </tr>\n",
       "    <tr>\n",
       "      <th>1</th>\n",
       "      <td>2023-12-26</td>\n",
       "      <td>43751.589258</td>\n",
       "      <td>24XORO_MEXICO</td>\n",
       "      <td>MODEL_2d_24XORO_MEXICO.pkl</td>\n",
       "    </tr>\n",
       "    <tr>\n",
       "      <th>2</th>\n",
       "      <td>2023-12-25</td>\n",
       "      <td>9590.269894</td>\n",
       "      <td>ABANK (TN)_EL SALVADOR</td>\n",
       "      <td>MODEL_2d_ABANK (TN)_EL SALVADOR.pkl</td>\n",
       "    </tr>\n",
       "    <tr>\n",
       "      <th>3</th>\n",
       "      <td>2023-12-26</td>\n",
       "      <td>8998.724809</td>\n",
       "      <td>ABANK (TN)_EL SALVADOR</td>\n",
       "      <td>MODEL_2d_ABANK (TN)_EL SALVADOR.pkl</td>\n",
       "    </tr>\n",
       "    <tr>\n",
       "      <th>4</th>\n",
       "      <td>2023-12-25</td>\n",
       "      <td>5632.096572</td>\n",
       "      <td>AFEX_CHILE</td>\n",
       "      <td>MODEL_2d_AFEX_CHILE.pkl</td>\n",
       "    </tr>\n",
       "    <tr>\n",
       "      <th>...</th>\n",
       "      <td>...</td>\n",
       "      <td>...</td>\n",
       "      <td>...</td>\n",
       "      <td>...</td>\n",
       "    </tr>\n",
       "    <tr>\n",
       "      <th>255</th>\n",
       "      <td>2023-12-26</td>\n",
       "      <td>0.000000</td>\n",
       "      <td>ZEEPAY_CAMEROON</td>\n",
       "      <td>MODEL_2d_ZEEPAY_CAMEROON.pkl</td>\n",
       "    </tr>\n",
       "    <tr>\n",
       "      <th>256</th>\n",
       "      <td>2023-12-25</td>\n",
       "      <td>0.000000</td>\n",
       "      <td>ZEEPAY_COTE D'IVOIRE (IVORY COAST)</td>\n",
       "      <td>MODEL_2d_ZEEPAY_COTE D'IVOIRE (IVORY COAST).pkl</td>\n",
       "    </tr>\n",
       "    <tr>\n",
       "      <th>257</th>\n",
       "      <td>2023-12-26</td>\n",
       "      <td>0.000000</td>\n",
       "      <td>ZEEPAY_COTE D'IVOIRE (IVORY COAST)</td>\n",
       "      <td>MODEL_2d_ZEEPAY_COTE D'IVOIRE (IVORY COAST).pkl</td>\n",
       "    </tr>\n",
       "    <tr>\n",
       "      <th>258</th>\n",
       "      <td>2023-12-25</td>\n",
       "      <td>0.000000</td>\n",
       "      <td>ZEEPAY_GHANA</td>\n",
       "      <td>MODEL_2d_ZEEPAY_GHANA.pkl</td>\n",
       "    </tr>\n",
       "    <tr>\n",
       "      <th>259</th>\n",
       "      <td>2023-12-26</td>\n",
       "      <td>0.000000</td>\n",
       "      <td>ZEEPAY_GHANA</td>\n",
       "      <td>MODEL_2d_ZEEPAY_GHANA.pkl</td>\n",
       "    </tr>\n",
       "  </tbody>\n",
       "</table>\n",
       "<p>260 rows × 4 columns</p>\n",
       "</div>"
      ],
      "text/plain": [
       "      pred_date          pred                       payer_country  \\\n",
       "0    2023-12-25  36947.319758                       24XORO_MEXICO   \n",
       "1    2023-12-26  43751.589258                       24XORO_MEXICO   \n",
       "2    2023-12-25   9590.269894              ABANK (TN)_EL SALVADOR   \n",
       "3    2023-12-26   8998.724809              ABANK (TN)_EL SALVADOR   \n",
       "4    2023-12-25   5632.096572                          AFEX_CHILE   \n",
       "..          ...           ...                                 ...   \n",
       "255  2023-12-26      0.000000                     ZEEPAY_CAMEROON   \n",
       "256  2023-12-25      0.000000  ZEEPAY_COTE D'IVOIRE (IVORY COAST)   \n",
       "257  2023-12-26      0.000000  ZEEPAY_COTE D'IVOIRE (IVORY COAST)   \n",
       "258  2023-12-25      0.000000                        ZEEPAY_GHANA   \n",
       "259  2023-12-26      0.000000                        ZEEPAY_GHANA   \n",
       "\n",
       "                                               model  \n",
       "0                         MODEL_2d_24XORO_MEXICO.pkl  \n",
       "1                         MODEL_2d_24XORO_MEXICO.pkl  \n",
       "2                MODEL_2d_ABANK (TN)_EL SALVADOR.pkl  \n",
       "3                MODEL_2d_ABANK (TN)_EL SALVADOR.pkl  \n",
       "4                            MODEL_2d_AFEX_CHILE.pkl  \n",
       "..                                               ...  \n",
       "255                     MODEL_2d_ZEEPAY_CAMEROON.pkl  \n",
       "256  MODEL_2d_ZEEPAY_COTE D'IVOIRE (IVORY COAST).pkl  \n",
       "257  MODEL_2d_ZEEPAY_COTE D'IVOIRE (IVORY COAST).pkl  \n",
       "258                        MODEL_2d_ZEEPAY_GHANA.pkl  \n",
       "259                        MODEL_2d_ZEEPAY_GHANA.pkl  \n",
       "\n",
       "[260 rows x 4 columns]"
      ]
     },
     "execution_count": 110,
     "metadata": {},
     "output_type": "execute_result"
    }
   ],
   "source": [
    "temp_df"
   ]
  },
  {
   "cell_type": "code",
   "execution_count": 159,
   "id": "dd932cc7-e0a3-4675-8004-930177e395c2",
   "metadata": {
    "tags": []
   },
   "outputs": [],
   "source": [
    "#sorted(df['payer_country'].unique())"
   ]
  },
  {
   "cell_type": "code",
   "execution_count": 111,
   "id": "ab02e40b-8fff-480d-8665-54bd969e51d8",
   "metadata": {
    "tags": []
   },
   "outputs": [],
   "source": [
    "df_final = pd.merge(temp_df, df_id, on='payer_country', how='left')"
   ]
  },
  {
   "cell_type": "code",
   "execution_count": 121,
   "id": "f7c8396a-f418-4be9-bade-0f4d23877d82",
   "metadata": {
    "tags": []
   },
   "outputs": [],
   "source": [
    "# Insertar la columna 'processing_date' al principio del DataFrame\n",
    "df_final.insert(0, 'processing_date', today)"
   ]
  },
  {
   "cell_type": "code",
   "execution_count": 113,
   "id": "579d734a-ffc7-4990-a033-a3085443c0b4",
   "metadata": {
    "tags": []
   },
   "outputs": [
    {
     "data": {
      "text/plain": [
       "0"
      ]
     },
     "execution_count": 113,
     "metadata": {},
     "output_type": "execute_result"
    }
   ],
   "source": [
    "df_final['id_country'].isnull().sum()"
   ]
  },
  {
   "cell_type": "code",
   "execution_count": 114,
   "id": "413ecc4a-a720-4c85-bab1-fbf41154e756",
   "metadata": {
    "tags": []
   },
   "outputs": [
    {
     "data": {
      "text/plain": [
       "0"
      ]
     },
     "execution_count": 114,
     "metadata": {},
     "output_type": "execute_result"
    }
   ],
   "source": [
    "df_final['id_main_branch'].isnull().sum()"
   ]
  },
  {
   "cell_type": "code",
   "execution_count": 115,
   "id": "20e19c4c-3b0b-4328-b0eb-51f0338e4e5c",
   "metadata": {
    "tags": []
   },
   "outputs": [],
   "source": [
    "### Workaround > Elimino duplicados\n",
    "#df_final = df_final.drop_duplicates(subset=['payer_country'], keep='first')"
   ]
  },
  {
   "cell_type": "code",
   "execution_count": 116,
   "id": "a7a4223e-6481-4ac4-9242-f1ae17a960d1",
   "metadata": {
    "tags": []
   },
   "outputs": [
    {
     "data": {
      "text/plain": [
       "Index(['pred_date', 'pred', 'payer_country', 'model', 'id_main_branch',\n",
       "       'id_country', 'processing_date'],\n",
       "      dtype='object')"
      ]
     },
     "execution_count": 116,
     "metadata": {},
     "output_type": "execute_result"
    }
   ],
   "source": [
    "df_final.columns"
   ]
  },
  {
   "cell_type": "code",
   "execution_count": 122,
   "id": "851b895c-e730-4630-9a96-c0f881123950",
   "metadata": {
    "tags": []
   },
   "outputs": [
    {
     "data": {
      "text/html": [
       "<div>\n",
       "<style scoped>\n",
       "    .dataframe tbody tr th:only-of-type {\n",
       "        vertical-align: middle;\n",
       "    }\n",
       "\n",
       "    .dataframe tbody tr th {\n",
       "        vertical-align: top;\n",
       "    }\n",
       "\n",
       "    .dataframe thead th {\n",
       "        text-align: right;\n",
       "    }\n",
       "</style>\n",
       "<table border=\"1\" class=\"dataframe\">\n",
       "  <thead>\n",
       "    <tr style=\"text-align: right;\">\n",
       "      <th></th>\n",
       "      <th>processing_date</th>\n",
       "      <th>pred_date</th>\n",
       "      <th>pred</th>\n",
       "      <th>payer_country</th>\n",
       "      <th>model</th>\n",
       "      <th>id_main_branch</th>\n",
       "      <th>id_country</th>\n",
       "    </tr>\n",
       "  </thead>\n",
       "  <tbody>\n",
       "    <tr>\n",
       "      <th>0</th>\n",
       "      <td>2024-03-20</td>\n",
       "      <td>2023-12-25</td>\n",
       "      <td>36947.319758</td>\n",
       "      <td>24XORO_MEXICO</td>\n",
       "      <td>MODEL_2d_24XORO_MEXICO.pkl</td>\n",
       "      <td>T314</td>\n",
       "      <td>MEX</td>\n",
       "    </tr>\n",
       "    <tr>\n",
       "      <th>1</th>\n",
       "      <td>2024-03-20</td>\n",
       "      <td>2023-12-26</td>\n",
       "      <td>43751.589258</td>\n",
       "      <td>24XORO_MEXICO</td>\n",
       "      <td>MODEL_2d_24XORO_MEXICO.pkl</td>\n",
       "      <td>T314</td>\n",
       "      <td>MEX</td>\n",
       "    </tr>\n",
       "    <tr>\n",
       "      <th>2</th>\n",
       "      <td>2024-03-20</td>\n",
       "      <td>2023-12-25</td>\n",
       "      <td>9590.269894</td>\n",
       "      <td>ABANK (TN)_EL SALVADOR</td>\n",
       "      <td>MODEL_2d_ABANK (TN)_EL SALVADOR.pkl</td>\n",
       "      <td>T282</td>\n",
       "      <td>ELS</td>\n",
       "    </tr>\n",
       "    <tr>\n",
       "      <th>3</th>\n",
       "      <td>2024-03-20</td>\n",
       "      <td>2023-12-26</td>\n",
       "      <td>8998.724809</td>\n",
       "      <td>ABANK (TN)_EL SALVADOR</td>\n",
       "      <td>MODEL_2d_ABANK (TN)_EL SALVADOR.pkl</td>\n",
       "      <td>T282</td>\n",
       "      <td>ELS</td>\n",
       "    </tr>\n",
       "    <tr>\n",
       "      <th>4</th>\n",
       "      <td>2024-03-20</td>\n",
       "      <td>2023-12-25</td>\n",
       "      <td>5632.096572</td>\n",
       "      <td>AFEX_CHILE</td>\n",
       "      <td>MODEL_2d_AFEX_CHILE.pkl</td>\n",
       "      <td>T089</td>\n",
       "      <td>CHI</td>\n",
       "    </tr>\n",
       "    <tr>\n",
       "      <th>...</th>\n",
       "      <td>...</td>\n",
       "      <td>...</td>\n",
       "      <td>...</td>\n",
       "      <td>...</td>\n",
       "      <td>...</td>\n",
       "      <td>...</td>\n",
       "      <td>...</td>\n",
       "    </tr>\n",
       "    <tr>\n",
       "      <th>255</th>\n",
       "      <td>2024-03-20</td>\n",
       "      <td>2023-12-26</td>\n",
       "      <td>0.000000</td>\n",
       "      <td>ZEEPAY_CAMEROON</td>\n",
       "      <td>MODEL_2d_ZEEPAY_CAMEROON.pkl</td>\n",
       "      <td>T280</td>\n",
       "      <td>CMR</td>\n",
       "    </tr>\n",
       "    <tr>\n",
       "      <th>256</th>\n",
       "      <td>2024-03-20</td>\n",
       "      <td>2023-12-25</td>\n",
       "      <td>0.000000</td>\n",
       "      <td>ZEEPAY_COTE D'IVOIRE (IVORY COAST)</td>\n",
       "      <td>MODEL_2d_ZEEPAY_COTE D'IVOIRE (IVORY COAST).pkl</td>\n",
       "      <td>T280</td>\n",
       "      <td>CIV</td>\n",
       "    </tr>\n",
       "    <tr>\n",
       "      <th>257</th>\n",
       "      <td>2024-03-20</td>\n",
       "      <td>2023-12-26</td>\n",
       "      <td>0.000000</td>\n",
       "      <td>ZEEPAY_COTE D'IVOIRE (IVORY COAST)</td>\n",
       "      <td>MODEL_2d_ZEEPAY_COTE D'IVOIRE (IVORY COAST).pkl</td>\n",
       "      <td>T280</td>\n",
       "      <td>CIV</td>\n",
       "    </tr>\n",
       "    <tr>\n",
       "      <th>258</th>\n",
       "      <td>2024-03-20</td>\n",
       "      <td>2023-12-25</td>\n",
       "      <td>0.000000</td>\n",
       "      <td>ZEEPAY_GHANA</td>\n",
       "      <td>MODEL_2d_ZEEPAY_GHANA.pkl</td>\n",
       "      <td>T280</td>\n",
       "      <td>GHA</td>\n",
       "    </tr>\n",
       "    <tr>\n",
       "      <th>259</th>\n",
       "      <td>2024-03-20</td>\n",
       "      <td>2023-12-26</td>\n",
       "      <td>0.000000</td>\n",
       "      <td>ZEEPAY_GHANA</td>\n",
       "      <td>MODEL_2d_ZEEPAY_GHANA.pkl</td>\n",
       "      <td>T280</td>\n",
       "      <td>GHA</td>\n",
       "    </tr>\n",
       "  </tbody>\n",
       "</table>\n",
       "<p>260 rows × 7 columns</p>\n",
       "</div>"
      ],
      "text/plain": [
       "    processing_date   pred_date          pred  \\\n",
       "0        2024-03-20  2023-12-25  36947.319758   \n",
       "1        2024-03-20  2023-12-26  43751.589258   \n",
       "2        2024-03-20  2023-12-25   9590.269894   \n",
       "3        2024-03-20  2023-12-26   8998.724809   \n",
       "4        2024-03-20  2023-12-25   5632.096572   \n",
       "..              ...         ...           ...   \n",
       "255      2024-03-20  2023-12-26      0.000000   \n",
       "256      2024-03-20  2023-12-25      0.000000   \n",
       "257      2024-03-20  2023-12-26      0.000000   \n",
       "258      2024-03-20  2023-12-25      0.000000   \n",
       "259      2024-03-20  2023-12-26      0.000000   \n",
       "\n",
       "                          payer_country  \\\n",
       "0                         24XORO_MEXICO   \n",
       "1                         24XORO_MEXICO   \n",
       "2                ABANK (TN)_EL SALVADOR   \n",
       "3                ABANK (TN)_EL SALVADOR   \n",
       "4                            AFEX_CHILE   \n",
       "..                                  ...   \n",
       "255                     ZEEPAY_CAMEROON   \n",
       "256  ZEEPAY_COTE D'IVOIRE (IVORY COAST)   \n",
       "257  ZEEPAY_COTE D'IVOIRE (IVORY COAST)   \n",
       "258                        ZEEPAY_GHANA   \n",
       "259                        ZEEPAY_GHANA   \n",
       "\n",
       "                                               model id_main_branch id_country  \n",
       "0                         MODEL_2d_24XORO_MEXICO.pkl           T314        MEX  \n",
       "1                         MODEL_2d_24XORO_MEXICO.pkl           T314        MEX  \n",
       "2                MODEL_2d_ABANK (TN)_EL SALVADOR.pkl           T282        ELS  \n",
       "3                MODEL_2d_ABANK (TN)_EL SALVADOR.pkl           T282        ELS  \n",
       "4                            MODEL_2d_AFEX_CHILE.pkl           T089        CHI  \n",
       "..                                               ...            ...        ...  \n",
       "255                     MODEL_2d_ZEEPAY_CAMEROON.pkl           T280        CMR  \n",
       "256  MODEL_2d_ZEEPAY_COTE D'IVOIRE (IVORY COAST).pkl           T280        CIV  \n",
       "257  MODEL_2d_ZEEPAY_COTE D'IVOIRE (IVORY COAST).pkl           T280        CIV  \n",
       "258                        MODEL_2d_ZEEPAY_GHANA.pkl           T280        GHA  \n",
       "259                        MODEL_2d_ZEEPAY_GHANA.pkl           T280        GHA  \n",
       "\n",
       "[260 rows x 7 columns]"
      ]
     },
     "execution_count": 122,
     "metadata": {},
     "output_type": "execute_result"
    }
   ],
   "source": [
    "df_final"
   ]
  },
  {
   "cell_type": "code",
   "execution_count": 126,
   "id": "2d7e653c-9831-4a53-8436-b89f729a1c55",
   "metadata": {
    "tags": []
   },
   "outputs": [],
   "source": [
    "# Splitting 'payer' & 'country'\n",
    "df_final[['payer', 'country']] = df_final['payer_country'].str.split('_', expand=True)"
   ]
  },
  {
   "cell_type": "code",
   "execution_count": 124,
   "id": "344a597f-71c5-4b79-80f5-6017f3984374",
   "metadata": {
    "tags": []
   },
   "outputs": [],
   "source": [
    "# df_final[['processing_date', 'payer_country','payer', 'country', 'id_main_branch', 'id_country',\n",
    "#     '2023-12-25_pred_day_0','2023-12-26_pred_day_1' ]]"
   ]
  },
  {
   "cell_type": "code",
   "execution_count": 125,
   "id": "1bb545c5-6934-4172-ad65-78b6cb494857",
   "metadata": {},
   "outputs": [],
   "source": [
    "#df_final.to_excel('df_pred.xlsx')"
   ]
  },
  {
   "cell_type": "code",
   "execution_count": 127,
   "id": "f851c419-a227-4048-ad58-9d41b6f0f1fc",
   "metadata": {
    "tags": []
   },
   "outputs": [
    {
     "name": "stdout",
     "output_type": "stream",
     "text": [
      "sagemaker.config INFO - Not applying SDK defaults from location: /etc/xdg/sagemaker/config.yaml\n",
      "sagemaker.config INFO - Not applying SDK defaults from location: /root/.config/sagemaker/config.yaml\n",
      "sagemaker.config INFO - Not applying SDK defaults from location: /etc/xdg/sagemaker/config.yaml\n",
      "sagemaker.config INFO - Not applying SDK defaults from location: /root/.config/sagemaker/config.yaml\n"
     ]
    },
    {
     "data": {
      "text/plain": [
       "'arn:aws:iam::283731589572:role/service-role/SageMaker-ExecutionRole-20240102T104128'"
      ]
     },
     "execution_count": 127,
     "metadata": {},
     "output_type": "execute_result"
    }
   ],
   "source": [
    "import sagemaker\n",
    "\n",
    "# Obtener el IAM role de SageMaker\n",
    "role = sagemaker.get_execution_role()\n",
    "role"
   ]
  },
  {
   "cell_type": "code",
   "execution_count": null,
   "id": "1ae96aad-0cdc-4f23-81b4-a5944d97db22",
   "metadata": {},
   "outputs": [],
   "source": []
  }
 ],
 "metadata": {
  "availableInstances": [
   {
    "_defaultOrder": 0,
    "_isFastLaunch": true,
    "category": "General purpose",
    "gpuNum": 0,
    "hideHardwareSpecs": false,
    "memoryGiB": 4,
    "name": "ml.t3.medium",
    "vcpuNum": 2
   },
   {
    "_defaultOrder": 1,
    "_isFastLaunch": false,
    "category": "General purpose",
    "gpuNum": 0,
    "hideHardwareSpecs": false,
    "memoryGiB": 8,
    "name": "ml.t3.large",
    "vcpuNum": 2
   },
   {
    "_defaultOrder": 2,
    "_isFastLaunch": false,
    "category": "General purpose",
    "gpuNum": 0,
    "hideHardwareSpecs": false,
    "memoryGiB": 16,
    "name": "ml.t3.xlarge",
    "vcpuNum": 4
   },
   {
    "_defaultOrder": 3,
    "_isFastLaunch": false,
    "category": "General purpose",
    "gpuNum": 0,
    "hideHardwareSpecs": false,
    "memoryGiB": 32,
    "name": "ml.t3.2xlarge",
    "vcpuNum": 8
   },
   {
    "_defaultOrder": 4,
    "_isFastLaunch": true,
    "category": "General purpose",
    "gpuNum": 0,
    "hideHardwareSpecs": false,
    "memoryGiB": 8,
    "name": "ml.m5.large",
    "vcpuNum": 2
   },
   {
    "_defaultOrder": 5,
    "_isFastLaunch": false,
    "category": "General purpose",
    "gpuNum": 0,
    "hideHardwareSpecs": false,
    "memoryGiB": 16,
    "name": "ml.m5.xlarge",
    "vcpuNum": 4
   },
   {
    "_defaultOrder": 6,
    "_isFastLaunch": false,
    "category": "General purpose",
    "gpuNum": 0,
    "hideHardwareSpecs": false,
    "memoryGiB": 32,
    "name": "ml.m5.2xlarge",
    "vcpuNum": 8
   },
   {
    "_defaultOrder": 7,
    "_isFastLaunch": false,
    "category": "General purpose",
    "gpuNum": 0,
    "hideHardwareSpecs": false,
    "memoryGiB": 64,
    "name": "ml.m5.4xlarge",
    "vcpuNum": 16
   },
   {
    "_defaultOrder": 8,
    "_isFastLaunch": false,
    "category": "General purpose",
    "gpuNum": 0,
    "hideHardwareSpecs": false,
    "memoryGiB": 128,
    "name": "ml.m5.8xlarge",
    "vcpuNum": 32
   },
   {
    "_defaultOrder": 9,
    "_isFastLaunch": false,
    "category": "General purpose",
    "gpuNum": 0,
    "hideHardwareSpecs": false,
    "memoryGiB": 192,
    "name": "ml.m5.12xlarge",
    "vcpuNum": 48
   },
   {
    "_defaultOrder": 10,
    "_isFastLaunch": false,
    "category": "General purpose",
    "gpuNum": 0,
    "hideHardwareSpecs": false,
    "memoryGiB": 256,
    "name": "ml.m5.16xlarge",
    "vcpuNum": 64
   },
   {
    "_defaultOrder": 11,
    "_isFastLaunch": false,
    "category": "General purpose",
    "gpuNum": 0,
    "hideHardwareSpecs": false,
    "memoryGiB": 384,
    "name": "ml.m5.24xlarge",
    "vcpuNum": 96
   },
   {
    "_defaultOrder": 12,
    "_isFastLaunch": false,
    "category": "General purpose",
    "gpuNum": 0,
    "hideHardwareSpecs": false,
    "memoryGiB": 8,
    "name": "ml.m5d.large",
    "vcpuNum": 2
   },
   {
    "_defaultOrder": 13,
    "_isFastLaunch": false,
    "category": "General purpose",
    "gpuNum": 0,
    "hideHardwareSpecs": false,
    "memoryGiB": 16,
    "name": "ml.m5d.xlarge",
    "vcpuNum": 4
   },
   {
    "_defaultOrder": 14,
    "_isFastLaunch": false,
    "category": "General purpose",
    "gpuNum": 0,
    "hideHardwareSpecs": false,
    "memoryGiB": 32,
    "name": "ml.m5d.2xlarge",
    "vcpuNum": 8
   },
   {
    "_defaultOrder": 15,
    "_isFastLaunch": false,
    "category": "General purpose",
    "gpuNum": 0,
    "hideHardwareSpecs": false,
    "memoryGiB": 64,
    "name": "ml.m5d.4xlarge",
    "vcpuNum": 16
   },
   {
    "_defaultOrder": 16,
    "_isFastLaunch": false,
    "category": "General purpose",
    "gpuNum": 0,
    "hideHardwareSpecs": false,
    "memoryGiB": 128,
    "name": "ml.m5d.8xlarge",
    "vcpuNum": 32
   },
   {
    "_defaultOrder": 17,
    "_isFastLaunch": false,
    "category": "General purpose",
    "gpuNum": 0,
    "hideHardwareSpecs": false,
    "memoryGiB": 192,
    "name": "ml.m5d.12xlarge",
    "vcpuNum": 48
   },
   {
    "_defaultOrder": 18,
    "_isFastLaunch": false,
    "category": "General purpose",
    "gpuNum": 0,
    "hideHardwareSpecs": false,
    "memoryGiB": 256,
    "name": "ml.m5d.16xlarge",
    "vcpuNum": 64
   },
   {
    "_defaultOrder": 19,
    "_isFastLaunch": false,
    "category": "General purpose",
    "gpuNum": 0,
    "hideHardwareSpecs": false,
    "memoryGiB": 384,
    "name": "ml.m5d.24xlarge",
    "vcpuNum": 96
   },
   {
    "_defaultOrder": 20,
    "_isFastLaunch": false,
    "category": "General purpose",
    "gpuNum": 0,
    "hideHardwareSpecs": true,
    "memoryGiB": 0,
    "name": "ml.geospatial.interactive",
    "supportedImageNames": [
     "sagemaker-geospatial-v1-0"
    ],
    "vcpuNum": 0
   },
   {
    "_defaultOrder": 21,
    "_isFastLaunch": true,
    "category": "Compute optimized",
    "gpuNum": 0,
    "hideHardwareSpecs": false,
    "memoryGiB": 4,
    "name": "ml.c5.large",
    "vcpuNum": 2
   },
   {
    "_defaultOrder": 22,
    "_isFastLaunch": false,
    "category": "Compute optimized",
    "gpuNum": 0,
    "hideHardwareSpecs": false,
    "memoryGiB": 8,
    "name": "ml.c5.xlarge",
    "vcpuNum": 4
   },
   {
    "_defaultOrder": 23,
    "_isFastLaunch": false,
    "category": "Compute optimized",
    "gpuNum": 0,
    "hideHardwareSpecs": false,
    "memoryGiB": 16,
    "name": "ml.c5.2xlarge",
    "vcpuNum": 8
   },
   {
    "_defaultOrder": 24,
    "_isFastLaunch": false,
    "category": "Compute optimized",
    "gpuNum": 0,
    "hideHardwareSpecs": false,
    "memoryGiB": 32,
    "name": "ml.c5.4xlarge",
    "vcpuNum": 16
   },
   {
    "_defaultOrder": 25,
    "_isFastLaunch": false,
    "category": "Compute optimized",
    "gpuNum": 0,
    "hideHardwareSpecs": false,
    "memoryGiB": 72,
    "name": "ml.c5.9xlarge",
    "vcpuNum": 36
   },
   {
    "_defaultOrder": 26,
    "_isFastLaunch": false,
    "category": "Compute optimized",
    "gpuNum": 0,
    "hideHardwareSpecs": false,
    "memoryGiB": 96,
    "name": "ml.c5.12xlarge",
    "vcpuNum": 48
   },
   {
    "_defaultOrder": 27,
    "_isFastLaunch": false,
    "category": "Compute optimized",
    "gpuNum": 0,
    "hideHardwareSpecs": false,
    "memoryGiB": 144,
    "name": "ml.c5.18xlarge",
    "vcpuNum": 72
   },
   {
    "_defaultOrder": 28,
    "_isFastLaunch": false,
    "category": "Compute optimized",
    "gpuNum": 0,
    "hideHardwareSpecs": false,
    "memoryGiB": 192,
    "name": "ml.c5.24xlarge",
    "vcpuNum": 96
   },
   {
    "_defaultOrder": 29,
    "_isFastLaunch": true,
    "category": "Accelerated computing",
    "gpuNum": 1,
    "hideHardwareSpecs": false,
    "memoryGiB": 16,
    "name": "ml.g4dn.xlarge",
    "vcpuNum": 4
   },
   {
    "_defaultOrder": 30,
    "_isFastLaunch": false,
    "category": "Accelerated computing",
    "gpuNum": 1,
    "hideHardwareSpecs": false,
    "memoryGiB": 32,
    "name": "ml.g4dn.2xlarge",
    "vcpuNum": 8
   },
   {
    "_defaultOrder": 31,
    "_isFastLaunch": false,
    "category": "Accelerated computing",
    "gpuNum": 1,
    "hideHardwareSpecs": false,
    "memoryGiB": 64,
    "name": "ml.g4dn.4xlarge",
    "vcpuNum": 16
   },
   {
    "_defaultOrder": 32,
    "_isFastLaunch": false,
    "category": "Accelerated computing",
    "gpuNum": 1,
    "hideHardwareSpecs": false,
    "memoryGiB": 128,
    "name": "ml.g4dn.8xlarge",
    "vcpuNum": 32
   },
   {
    "_defaultOrder": 33,
    "_isFastLaunch": false,
    "category": "Accelerated computing",
    "gpuNum": 4,
    "hideHardwareSpecs": false,
    "memoryGiB": 192,
    "name": "ml.g4dn.12xlarge",
    "vcpuNum": 48
   },
   {
    "_defaultOrder": 34,
    "_isFastLaunch": false,
    "category": "Accelerated computing",
    "gpuNum": 1,
    "hideHardwareSpecs": false,
    "memoryGiB": 256,
    "name": "ml.g4dn.16xlarge",
    "vcpuNum": 64
   },
   {
    "_defaultOrder": 35,
    "_isFastLaunch": false,
    "category": "Accelerated computing",
    "gpuNum": 1,
    "hideHardwareSpecs": false,
    "memoryGiB": 61,
    "name": "ml.p3.2xlarge",
    "vcpuNum": 8
   },
   {
    "_defaultOrder": 36,
    "_isFastLaunch": false,
    "category": "Accelerated computing",
    "gpuNum": 4,
    "hideHardwareSpecs": false,
    "memoryGiB": 244,
    "name": "ml.p3.8xlarge",
    "vcpuNum": 32
   },
   {
    "_defaultOrder": 37,
    "_isFastLaunch": false,
    "category": "Accelerated computing",
    "gpuNum": 8,
    "hideHardwareSpecs": false,
    "memoryGiB": 488,
    "name": "ml.p3.16xlarge",
    "vcpuNum": 64
   },
   {
    "_defaultOrder": 38,
    "_isFastLaunch": false,
    "category": "Accelerated computing",
    "gpuNum": 8,
    "hideHardwareSpecs": false,
    "memoryGiB": 768,
    "name": "ml.p3dn.24xlarge",
    "vcpuNum": 96
   },
   {
    "_defaultOrder": 39,
    "_isFastLaunch": false,
    "category": "Memory Optimized",
    "gpuNum": 0,
    "hideHardwareSpecs": false,
    "memoryGiB": 16,
    "name": "ml.r5.large",
    "vcpuNum": 2
   },
   {
    "_defaultOrder": 40,
    "_isFastLaunch": false,
    "category": "Memory Optimized",
    "gpuNum": 0,
    "hideHardwareSpecs": false,
    "memoryGiB": 32,
    "name": "ml.r5.xlarge",
    "vcpuNum": 4
   },
   {
    "_defaultOrder": 41,
    "_isFastLaunch": false,
    "category": "Memory Optimized",
    "gpuNum": 0,
    "hideHardwareSpecs": false,
    "memoryGiB": 64,
    "name": "ml.r5.2xlarge",
    "vcpuNum": 8
   },
   {
    "_defaultOrder": 42,
    "_isFastLaunch": false,
    "category": "Memory Optimized",
    "gpuNum": 0,
    "hideHardwareSpecs": false,
    "memoryGiB": 128,
    "name": "ml.r5.4xlarge",
    "vcpuNum": 16
   },
   {
    "_defaultOrder": 43,
    "_isFastLaunch": false,
    "category": "Memory Optimized",
    "gpuNum": 0,
    "hideHardwareSpecs": false,
    "memoryGiB": 256,
    "name": "ml.r5.8xlarge",
    "vcpuNum": 32
   },
   {
    "_defaultOrder": 44,
    "_isFastLaunch": false,
    "category": "Memory Optimized",
    "gpuNum": 0,
    "hideHardwareSpecs": false,
    "memoryGiB": 384,
    "name": "ml.r5.12xlarge",
    "vcpuNum": 48
   },
   {
    "_defaultOrder": 45,
    "_isFastLaunch": false,
    "category": "Memory Optimized",
    "gpuNum": 0,
    "hideHardwareSpecs": false,
    "memoryGiB": 512,
    "name": "ml.r5.16xlarge",
    "vcpuNum": 64
   },
   {
    "_defaultOrder": 46,
    "_isFastLaunch": false,
    "category": "Memory Optimized",
    "gpuNum": 0,
    "hideHardwareSpecs": false,
    "memoryGiB": 768,
    "name": "ml.r5.24xlarge",
    "vcpuNum": 96
   },
   {
    "_defaultOrder": 47,
    "_isFastLaunch": false,
    "category": "Accelerated computing",
    "gpuNum": 1,
    "hideHardwareSpecs": false,
    "memoryGiB": 16,
    "name": "ml.g5.xlarge",
    "vcpuNum": 4
   },
   {
    "_defaultOrder": 48,
    "_isFastLaunch": false,
    "category": "Accelerated computing",
    "gpuNum": 1,
    "hideHardwareSpecs": false,
    "memoryGiB": 32,
    "name": "ml.g5.2xlarge",
    "vcpuNum": 8
   },
   {
    "_defaultOrder": 49,
    "_isFastLaunch": false,
    "category": "Accelerated computing",
    "gpuNum": 1,
    "hideHardwareSpecs": false,
    "memoryGiB": 64,
    "name": "ml.g5.4xlarge",
    "vcpuNum": 16
   },
   {
    "_defaultOrder": 50,
    "_isFastLaunch": false,
    "category": "Accelerated computing",
    "gpuNum": 1,
    "hideHardwareSpecs": false,
    "memoryGiB": 128,
    "name": "ml.g5.8xlarge",
    "vcpuNum": 32
   },
   {
    "_defaultOrder": 51,
    "_isFastLaunch": false,
    "category": "Accelerated computing",
    "gpuNum": 1,
    "hideHardwareSpecs": false,
    "memoryGiB": 256,
    "name": "ml.g5.16xlarge",
    "vcpuNum": 64
   },
   {
    "_defaultOrder": 52,
    "_isFastLaunch": false,
    "category": "Accelerated computing",
    "gpuNum": 4,
    "hideHardwareSpecs": false,
    "memoryGiB": 192,
    "name": "ml.g5.12xlarge",
    "vcpuNum": 48
   },
   {
    "_defaultOrder": 53,
    "_isFastLaunch": false,
    "category": "Accelerated computing",
    "gpuNum": 4,
    "hideHardwareSpecs": false,
    "memoryGiB": 384,
    "name": "ml.g5.24xlarge",
    "vcpuNum": 96
   },
   {
    "_defaultOrder": 54,
    "_isFastLaunch": false,
    "category": "Accelerated computing",
    "gpuNum": 8,
    "hideHardwareSpecs": false,
    "memoryGiB": 768,
    "name": "ml.g5.48xlarge",
    "vcpuNum": 192
   },
   {
    "_defaultOrder": 55,
    "_isFastLaunch": false,
    "category": "Accelerated computing",
    "gpuNum": 8,
    "hideHardwareSpecs": false,
    "memoryGiB": 1152,
    "name": "ml.p4d.24xlarge",
    "vcpuNum": 96
   },
   {
    "_defaultOrder": 56,
    "_isFastLaunch": false,
    "category": "Accelerated computing",
    "gpuNum": 8,
    "hideHardwareSpecs": false,
    "memoryGiB": 1152,
    "name": "ml.p4de.24xlarge",
    "vcpuNum": 96
   },
   {
    "_defaultOrder": 57,
    "_isFastLaunch": false,
    "category": "Accelerated computing",
    "gpuNum": 0,
    "hideHardwareSpecs": false,
    "memoryGiB": 32,
    "name": "ml.trn1.2xlarge",
    "vcpuNum": 8
   },
   {
    "_defaultOrder": 58,
    "_isFastLaunch": false,
    "category": "Accelerated computing",
    "gpuNum": 0,
    "hideHardwareSpecs": false,
    "memoryGiB": 512,
    "name": "ml.trn1.32xlarge",
    "vcpuNum": 128
   },
   {
    "_defaultOrder": 59,
    "_isFastLaunch": false,
    "category": "Accelerated computing",
    "gpuNum": 0,
    "hideHardwareSpecs": false,
    "memoryGiB": 512,
    "name": "ml.trn1n.32xlarge",
    "vcpuNum": 128
   }
  ],
  "instance_type": "ml.m5.4xlarge",
  "kernelspec": {
   "display_name": "Python 3 (Data Science 3.0)",
   "language": "python",
   "name": "python3__SAGEMAKER_INTERNAL__arn:aws:sagemaker:us-east-1:081325390199:image/sagemaker-data-science-310-v1"
  },
  "language_info": {
   "codemirror_mode": {
    "name": "ipython",
    "version": 3
   },
   "file_extension": ".py",
   "mimetype": "text/x-python",
   "name": "python",
   "nbconvert_exporter": "python",
   "pygments_lexer": "ipython3",
   "version": "3.10.6"
  }
 },
 "nbformat": 4,
 "nbformat_minor": 5
}
