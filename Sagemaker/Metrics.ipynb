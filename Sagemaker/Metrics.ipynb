{
 "cells": [
  {
   "cell_type": "code",
   "execution_count": 3,
   "id": "5f6769dc-66ea-4c45-8326-8214a9dbf0dc",
   "metadata": {
    "tags": []
   },
   "outputs": [],
   "source": [
    "#!pip install awswrangler"
   ]
  },
  {
   "cell_type": "code",
   "execution_count": 10,
   "id": "2fbd74aa-9cb8-407c-9aee-138f458f9cd4",
   "metadata": {
    "tags": []
   },
   "outputs": [],
   "source": [
    "import awswrangler as wr\n",
    "import pandas as pd\n",
    "import datetime as dt\n",
    "import boto3\n",
    "from io import StringIO"
   ]
  },
  {
   "cell_type": "code",
   "execution_count": 21,
   "id": "8db2548e-4234-45b9-af83-25a4e0c1e212",
   "metadata": {
    "tags": []
   },
   "outputs": [],
   "source": [
    "# DB Setting\n",
    "bucket_name = 's3://viamericas-datalake-dev-us-east-1-283731589572-athena/'\n",
    "origin_name = 'AwsDataCatalog'\n",
    "database_name= 'analytics'\n",
    "table_name = 'daily_check_gp'"
   ]
  },
  {
   "cell_type": "code",
   "execution_count": 42,
   "id": "fe70d929-2bf8-4235-b108-bed573f6ef47",
   "metadata": {
    "tags": []
   },
   "outputs": [],
   "source": [
    "daily_df = wr.athena.read_sql_table(\n",
    "    table=table_name,\n",
    "    database=database_name,\n",
    ")"
   ]
  },
  {
   "cell_type": "code",
   "execution_count": 43,
   "id": "7107f7b0-24f4-43a5-a004-c00f8f006850",
   "metadata": {
    "tags": []
   },
   "outputs": [],
   "source": [
    "#Date format\n",
    "daily_df['date'] = pd.to_datetime(daily_df['date'])"
   ]
  },
  {
   "cell_type": "code",
   "execution_count": 44,
   "id": "785751db-3668-458b-ac74-3da54df108be",
   "metadata": {
    "tags": []
   },
   "outputs": [
    {
     "data": {
      "text/html": [
       "<div>\n",
       "<style scoped>\n",
       "    .dataframe tbody tr th:only-of-type {\n",
       "        vertical-align: middle;\n",
       "    }\n",
       "\n",
       "    .dataframe tbody tr th {\n",
       "        vertical-align: top;\n",
       "    }\n",
       "\n",
       "    .dataframe thead th {\n",
       "        text-align: right;\n",
       "    }\n",
       "</style>\n",
       "<table border=\"1\" class=\"dataframe\">\n",
       "  <thead>\n",
       "    <tr style=\"text-align: right;\">\n",
       "      <th></th>\n",
       "      <th>payer</th>\n",
       "      <th>country</th>\n",
       "      <th>date</th>\n",
       "      <th>tx</th>\n",
       "      <th>amount</th>\n",
       "      <th>coupon_count</th>\n",
       "      <th>gp</th>\n",
       "      <th>id_main_branch</th>\n",
       "      <th>id_country</th>\n",
       "      <th>day</th>\n",
       "    </tr>\n",
       "  </thead>\n",
       "  <tbody>\n",
       "    <tr>\n",
       "      <th>0</th>\n",
       "      <td>EASY PAGOS</td>\n",
       "      <td>ECUADOR</td>\n",
       "      <td>2021-11-12</td>\n",
       "      <td>108</td>\n",
       "      <td>56442.5000</td>\n",
       "      <td>2</td>\n",
       "      <td>80.6650000</td>\n",
       "      <td>T259</td>\n",
       "      <td>ECU</td>\n",
       "      <td>2021-11-12</td>\n",
       "    </tr>\n",
       "    <tr>\n",
       "      <th>1</th>\n",
       "      <td>ELEKTRA (MEXICO)</td>\n",
       "      <td>MEXICO</td>\n",
       "      <td>2021-12-05</td>\n",
       "      <td>15463</td>\n",
       "      <td>6845500.1400</td>\n",
       "      <td>661</td>\n",
       "      <td>24671.1514000</td>\n",
       "      <td>T232</td>\n",
       "      <td>MEX</td>\n",
       "      <td>2021-12-05</td>\n",
       "    </tr>\n",
       "    <tr>\n",
       "      <th>2</th>\n",
       "      <td>TELECOMM TELEGRAFOS (APPRIZA)</td>\n",
       "      <td>MEXICO</td>\n",
       "      <td>2021-07-06</td>\n",
       "      <td>668</td>\n",
       "      <td>345602.7100</td>\n",
       "      <td>295</td>\n",
       "      <td>4313.6760000</td>\n",
       "      <td>T252</td>\n",
       "      <td>MEX</td>\n",
       "      <td>2021-07-06</td>\n",
       "    </tr>\n",
       "    <tr>\n",
       "      <th>3</th>\n",
       "      <td>BANCO AGRICOLA</td>\n",
       "      <td>EL SALVADOR</td>\n",
       "      <td>2021-07-06</td>\n",
       "      <td>743</td>\n",
       "      <td>240005.0000</td>\n",
       "      <td>314</td>\n",
       "      <td>1259.4600000</td>\n",
       "      <td>T053</td>\n",
       "      <td>ELS</td>\n",
       "      <td>2021-07-06</td>\n",
       "    </tr>\n",
       "    <tr>\n",
       "      <th>4</th>\n",
       "      <td>CREDOMATIC (BTS)</td>\n",
       "      <td>NICARAGUA</td>\n",
       "      <td>2023-02-25</td>\n",
       "      <td>69</td>\n",
       "      <td>28919.0000</td>\n",
       "      <td>1</td>\n",
       "      <td>136.1500000</td>\n",
       "      <td>T302</td>\n",
       "      <td>NIC</td>\n",
       "      <td>2023-02-25</td>\n",
       "    </tr>\n",
       "  </tbody>\n",
       "</table>\n",
       "</div>"
      ],
      "text/plain": [
       "                           payer      country       date     tx        amount  \\\n",
       "0                     EASY PAGOS      ECUADOR 2021-11-12    108    56442.5000   \n",
       "1               ELEKTRA (MEXICO)       MEXICO 2021-12-05  15463  6845500.1400   \n",
       "2  TELECOMM TELEGRAFOS (APPRIZA)       MEXICO 2021-07-06    668   345602.7100   \n",
       "3                 BANCO AGRICOLA  EL SALVADOR 2021-07-06    743   240005.0000   \n",
       "4               CREDOMATIC (BTS)    NICARAGUA 2023-02-25     69    28919.0000   \n",
       "\n",
       "   coupon_count             gp id_main_branch id_country         day  \n",
       "0             2     80.6650000           T259        ECU  2021-11-12  \n",
       "1           661  24671.1514000           T232        MEX  2021-12-05  \n",
       "2           295   4313.6760000           T252        MEX  2021-07-06  \n",
       "3           314   1259.4600000           T053        ELS  2021-07-06  \n",
       "4             1    136.1500000           T302        NIC  2023-02-25  "
      ]
     },
     "execution_count": 44,
     "metadata": {},
     "output_type": "execute_result"
    }
   ],
   "source": [
    "daily_df.head()"
   ]
  },
  {
   "cell_type": "code",
   "execution_count": 35,
   "id": "0cec83da-8e90-4bec-8d9a-3bcfc05b20e9",
   "metadata": {
    "tags": []
   },
   "outputs": [
    {
     "name": "stdout",
     "output_type": "stream",
     "text": [
      "ABTv3/Tableau/predict_2d.csv\n"
     ]
    }
   ],
   "source": [
    "# Set up S3 client\n",
    "client = boto3.client('s3')\n",
    "bucket_name = 'viamericas-datalake-dev-us-east-1-283731589572-analytics'\n",
    "path_pred = 'ABTv3/Tableau/' # Folder under analysis\n",
    "\n",
    "elements = client.list_objects(Bucket=bucket_name, Prefix=path_pred)\n",
    "\n",
    "# Initialize an empty list \n",
    "dfs = []\n",
    "# Iterate through each CSV in the S3 path\n",
    "for obj in elements.get('Contents', []):\n",
    "#    print(obj)\n",
    "    # Check if the object is a CSV file\n",
    "    if obj['Key'].endswith('.csv'):\n",
    "        # Read CSV content from S3\n",
    "        response = client.get_object(Bucket=bucket_name, Key=obj['Key'])\n",
    "        print(obj['Key'])\n",
    "        csv_content = response['Body'].read().decode('utf-8')\n",
    "\n",
    "        # Transform CSV content to df\n",
    "        df = pd.read_csv(StringIO(csv_content))\n",
    "\n",
    "        dfs.append(df)\n",
    "pred_df = pd.concat(dfs, ignore_index=True)"
   ]
  },
  {
   "cell_type": "code",
   "execution_count": 48,
   "id": "a9fa5596-1862-4bef-96ce-06c067a846f1",
   "metadata": {
    "tags": []
   },
   "outputs": [],
   "source": [
    "#Date format\n",
    "pred_df['processing_date'] = pd.to_datetime(pred_df['processing_date'])\n",
    "pred_df['pred_date'] = pd.to_datetime(pred_df['pred_date'])"
   ]
  },
  {
   "cell_type": "code",
   "execution_count": 36,
   "id": "c8248e3d-168d-409d-9572-96941400be93",
   "metadata": {
    "tags": []
   },
   "outputs": [
    {
     "data": {
      "text/html": [
       "<div>\n",
       "<style scoped>\n",
       "    .dataframe tbody tr th:only-of-type {\n",
       "        vertical-align: middle;\n",
       "    }\n",
       "\n",
       "    .dataframe tbody tr th {\n",
       "        vertical-align: top;\n",
       "    }\n",
       "\n",
       "    .dataframe thead th {\n",
       "        text-align: right;\n",
       "    }\n",
       "</style>\n",
       "<table border=\"1\" class=\"dataframe\">\n",
       "  <thead>\n",
       "    <tr style=\"text-align: right;\">\n",
       "      <th></th>\n",
       "      <th>processing_date</th>\n",
       "      <th>pred_date</th>\n",
       "      <th>pred</th>\n",
       "      <th>payer_country</th>\n",
       "      <th>model</th>\n",
       "      <th>id_main_branch</th>\n",
       "      <th>id_country</th>\n",
       "      <th>payer</th>\n",
       "      <th>country</th>\n",
       "    </tr>\n",
       "  </thead>\n",
       "  <tbody>\n",
       "    <tr>\n",
       "      <th>0</th>\n",
       "      <td>2024-03-21</td>\n",
       "      <td>2023-09-08</td>\n",
       "      <td>3.372540e+06</td>\n",
       "      <td>BANCO INDUSTRIAL_GUATEMALA</td>\n",
       "      <td>MODEL_2d_BANCO INDUSTRIAL_GUATEMALA.pkl</td>\n",
       "      <td>T085</td>\n",
       "      <td>GUA</td>\n",
       "      <td>BANCO INDUSTRIAL</td>\n",
       "      <td>GUATEMALA</td>\n",
       "    </tr>\n",
       "    <tr>\n",
       "      <th>1</th>\n",
       "      <td>2024-03-21</td>\n",
       "      <td>2023-09-09</td>\n",
       "      <td>4.034526e+06</td>\n",
       "      <td>BANCO INDUSTRIAL_GUATEMALA</td>\n",
       "      <td>MODEL_2d_BANCO INDUSTRIAL_GUATEMALA.pkl</td>\n",
       "      <td>T085</td>\n",
       "      <td>GUA</td>\n",
       "      <td>BANCO INDUSTRIAL</td>\n",
       "      <td>GUATEMALA</td>\n",
       "    </tr>\n",
       "    <tr>\n",
       "      <th>2</th>\n",
       "      <td>2024-03-21</td>\n",
       "      <td>2023-09-08</td>\n",
       "      <td>7.579385e+06</td>\n",
       "      <td>BANCOPPEL (APPRIZA)_MEXICO</td>\n",
       "      <td>MODEL_2d_BANCOPPEL (APPRIZA)_MEXICO.pkl</td>\n",
       "      <td>T239</td>\n",
       "      <td>MEX</td>\n",
       "      <td>BANCOPPEL (APPRIZA)</td>\n",
       "      <td>MEXICO</td>\n",
       "    </tr>\n",
       "    <tr>\n",
       "      <th>3</th>\n",
       "      <td>2024-03-21</td>\n",
       "      <td>2023-09-09</td>\n",
       "      <td>7.809040e+06</td>\n",
       "      <td>BANCOPPEL (APPRIZA)_MEXICO</td>\n",
       "      <td>MODEL_2d_BANCOPPEL (APPRIZA)_MEXICO.pkl</td>\n",
       "      <td>T239</td>\n",
       "      <td>MEX</td>\n",
       "      <td>BANCOPPEL (APPRIZA)</td>\n",
       "      <td>MEXICO</td>\n",
       "    </tr>\n",
       "    <tr>\n",
       "      <th>4</th>\n",
       "      <td>2024-03-21</td>\n",
       "      <td>2023-09-08</td>\n",
       "      <td>4.733540e+06</td>\n",
       "      <td>BANRURAL (RYT)_GUATEMALA</td>\n",
       "      <td>MODEL_2d_BANRURAL (RYT)_GUATEMALA.pkl</td>\n",
       "      <td>T228</td>\n",
       "      <td>GUA</td>\n",
       "      <td>BANRURAL (RYT)</td>\n",
       "      <td>GUATEMALA</td>\n",
       "    </tr>\n",
       "  </tbody>\n",
       "</table>\n",
       "</div>"
      ],
      "text/plain": [
       "  processing_date   pred_date          pred               payer_country  \\\n",
       "0      2024-03-21  2023-09-08  3.372540e+06  BANCO INDUSTRIAL_GUATEMALA   \n",
       "1      2024-03-21  2023-09-09  4.034526e+06  BANCO INDUSTRIAL_GUATEMALA   \n",
       "2      2024-03-21  2023-09-08  7.579385e+06  BANCOPPEL (APPRIZA)_MEXICO   \n",
       "3      2024-03-21  2023-09-09  7.809040e+06  BANCOPPEL (APPRIZA)_MEXICO   \n",
       "4      2024-03-21  2023-09-08  4.733540e+06    BANRURAL (RYT)_GUATEMALA   \n",
       "\n",
       "                                     model id_main_branch id_country  \\\n",
       "0  MODEL_2d_BANCO INDUSTRIAL_GUATEMALA.pkl           T085        GUA   \n",
       "1  MODEL_2d_BANCO INDUSTRIAL_GUATEMALA.pkl           T085        GUA   \n",
       "2  MODEL_2d_BANCOPPEL (APPRIZA)_MEXICO.pkl           T239        MEX   \n",
       "3  MODEL_2d_BANCOPPEL (APPRIZA)_MEXICO.pkl           T239        MEX   \n",
       "4    MODEL_2d_BANRURAL (RYT)_GUATEMALA.pkl           T228        GUA   \n",
       "\n",
       "                 payer    country  \n",
       "0     BANCO INDUSTRIAL  GUATEMALA  \n",
       "1     BANCO INDUSTRIAL  GUATEMALA  \n",
       "2  BANCOPPEL (APPRIZA)     MEXICO  \n",
       "3  BANCOPPEL (APPRIZA)     MEXICO  \n",
       "4       BANRURAL (RYT)  GUATEMALA  "
      ]
     },
     "execution_count": 36,
     "metadata": {},
     "output_type": "execute_result"
    }
   ],
   "source": [
    "pred_df.head()"
   ]
  },
  {
   "cell_type": "code",
   "execution_count": 20,
   "id": "1e61daa2-9f6e-4fd3-b51c-aa0c83532c94",
   "metadata": {
    "tags": []
   },
   "outputs": [],
   "source": [
    "mape_hist = 9 # Acá ahora pongo cualquier nro y después hay que calcularlo"
   ]
  },
  {
   "cell_type": "code",
   "execution_count": 62,
   "id": "a571c746-1e4e-4a3a-974a-5e686c0d9567",
   "metadata": {
    "tags": []
   },
   "outputs": [],
   "source": [
    "df_final = pd.merge(daily_df, pred_df, left_on=['payer', 'country', 'id_main_branch', 'id_country', 'date'], \n",
    "                     right_on=['payer', 'country', 'id_main_branch', 'id_country', 'pred_date'],\n",
    "                     how='inner')"
   ]
  },
  {
   "cell_type": "code",
   "execution_count": 63,
   "id": "bf5f2ee6-0bb2-41e0-a6c9-aede15242b2e",
   "metadata": {
    "tags": []
   },
   "outputs": [],
   "source": [
    "# DAILY MAPE\n",
    "# Convert 'amount' column to float\n",
    "df_final['amount'] = df_final['amount'].astype(float)\n",
    "\n",
    "# Calculate the absolute error between the 'amount' and 'pred' columns\n",
    "df_final['error_abs'] = abs(df_final['amount'] - df_final['pred'])\n",
    "\n",
    "# Calculate the absolute percentage error by dividing the absolute error by 'amount' and multiplying by 100\n",
    "df_final['mape'] = (df_final['error_abs'] / df_final['amount']) * 100"
   ]
  },
  {
   "cell_type": "code",
   "execution_count": 64,
   "id": "2f7e1e36-2d84-4f07-9bb1-c06b3ab4355c",
   "metadata": {
    "tags": []
   },
   "outputs": [
    {
     "data": {
      "text/html": [
       "<div>\n",
       "<style scoped>\n",
       "    .dataframe tbody tr th:only-of-type {\n",
       "        vertical-align: middle;\n",
       "    }\n",
       "\n",
       "    .dataframe tbody tr th {\n",
       "        vertical-align: top;\n",
       "    }\n",
       "\n",
       "    .dataframe thead th {\n",
       "        text-align: right;\n",
       "    }\n",
       "</style>\n",
       "<table border=\"1\" class=\"dataframe\">\n",
       "  <thead>\n",
       "    <tr style=\"text-align: right;\">\n",
       "      <th></th>\n",
       "      <th>date</th>\n",
       "      <th>payer</th>\n",
       "      <th>country</th>\n",
       "      <th>amount</th>\n",
       "      <th>pred</th>\n",
       "      <th>error_abs</th>\n",
       "      <th>mape</th>\n",
       "    </tr>\n",
       "  </thead>\n",
       "  <tbody>\n",
       "    <tr>\n",
       "      <th>0</th>\n",
       "      <td>2023-09-09</td>\n",
       "      <td>ELEKTRA (MEXICO)</td>\n",
       "      <td>MEXICO</td>\n",
       "      <td>13751466.80</td>\n",
       "      <td>1.248543e+07</td>\n",
       "      <td>1.266040e+06</td>\n",
       "      <td>9.206582</td>\n",
       "    </tr>\n",
       "    <tr>\n",
       "      <th>1</th>\n",
       "      <td>2023-09-09</td>\n",
       "      <td>BANCO INDUSTRIAL</td>\n",
       "      <td>GUATEMALA</td>\n",
       "      <td>4006813.98</td>\n",
       "      <td>4.034526e+06</td>\n",
       "      <td>2.771245e+04</td>\n",
       "      <td>0.691633</td>\n",
       "    </tr>\n",
       "    <tr>\n",
       "      <th>2</th>\n",
       "      <td>2023-09-09</td>\n",
       "      <td>BBVA - BANCOMER (BTS)</td>\n",
       "      <td>MEXICO</td>\n",
       "      <td>1286846.58</td>\n",
       "      <td>1.076527e+06</td>\n",
       "      <td>2.103194e+05</td>\n",
       "      <td>16.343784</td>\n",
       "    </tr>\n",
       "    <tr>\n",
       "      <th>3</th>\n",
       "      <td>2023-09-09</td>\n",
       "      <td>BANRURAL (RYT)</td>\n",
       "      <td>GUATEMALA</td>\n",
       "      <td>6015822.24</td>\n",
       "      <td>5.681799e+06</td>\n",
       "      <td>3.340228e+05</td>\n",
       "      <td>5.552405</td>\n",
       "    </tr>\n",
       "    <tr>\n",
       "      <th>4</th>\n",
       "      <td>2023-09-08</td>\n",
       "      <td>ELEKTRA (MEXICO)</td>\n",
       "      <td>MEXICO</td>\n",
       "      <td>12387054.70</td>\n",
       "      <td>1.161843e+07</td>\n",
       "      <td>7.686275e+05</td>\n",
       "      <td>6.205087</td>\n",
       "    </tr>\n",
       "    <tr>\n",
       "      <th>5</th>\n",
       "      <td>2023-09-08</td>\n",
       "      <td>BANCO INDUSTRIAL</td>\n",
       "      <td>GUATEMALA</td>\n",
       "      <td>3288016.08</td>\n",
       "      <td>3.372540e+06</td>\n",
       "      <td>8.452423e+04</td>\n",
       "      <td>2.570676</td>\n",
       "    </tr>\n",
       "    <tr>\n",
       "      <th>6</th>\n",
       "      <td>2023-09-08</td>\n",
       "      <td>BANCOPPEL (APPRIZA)</td>\n",
       "      <td>MEXICO</td>\n",
       "      <td>8238946.57</td>\n",
       "      <td>7.579385e+06</td>\n",
       "      <td>6.595620e+05</td>\n",
       "      <td>8.005417</td>\n",
       "    </tr>\n",
       "    <tr>\n",
       "      <th>7</th>\n",
       "      <td>2023-09-08</td>\n",
       "      <td>BANRURAL (RYT)</td>\n",
       "      <td>GUATEMALA</td>\n",
       "      <td>5112586.73</td>\n",
       "      <td>4.733540e+06</td>\n",
       "      <td>3.790463e+05</td>\n",
       "      <td>7.413983</td>\n",
       "    </tr>\n",
       "    <tr>\n",
       "      <th>8</th>\n",
       "      <td>2023-09-08</td>\n",
       "      <td>BBVA - BANCOMER (BTS)</td>\n",
       "      <td>MEXICO</td>\n",
       "      <td>1306962.90</td>\n",
       "      <td>1.173953e+06</td>\n",
       "      <td>1.330099e+05</td>\n",
       "      <td>10.177023</td>\n",
       "    </tr>\n",
       "    <tr>\n",
       "      <th>9</th>\n",
       "      <td>2023-09-09</td>\n",
       "      <td>BANCOPPEL (APPRIZA)</td>\n",
       "      <td>MEXICO</td>\n",
       "      <td>8845345.24</td>\n",
       "      <td>7.809040e+06</td>\n",
       "      <td>1.036305e+06</td>\n",
       "      <td>11.715827</td>\n",
       "    </tr>\n",
       "  </tbody>\n",
       "</table>\n",
       "</div>"
      ],
      "text/plain": [
       "        date                  payer    country       amount          pred  \\\n",
       "0 2023-09-09       ELEKTRA (MEXICO)     MEXICO  13751466.80  1.248543e+07   \n",
       "1 2023-09-09       BANCO INDUSTRIAL  GUATEMALA   4006813.98  4.034526e+06   \n",
       "2 2023-09-09  BBVA - BANCOMER (BTS)     MEXICO   1286846.58  1.076527e+06   \n",
       "3 2023-09-09         BANRURAL (RYT)  GUATEMALA   6015822.24  5.681799e+06   \n",
       "4 2023-09-08       ELEKTRA (MEXICO)     MEXICO  12387054.70  1.161843e+07   \n",
       "5 2023-09-08       BANCO INDUSTRIAL  GUATEMALA   3288016.08  3.372540e+06   \n",
       "6 2023-09-08    BANCOPPEL (APPRIZA)     MEXICO   8238946.57  7.579385e+06   \n",
       "7 2023-09-08         BANRURAL (RYT)  GUATEMALA   5112586.73  4.733540e+06   \n",
       "8 2023-09-08  BBVA - BANCOMER (BTS)     MEXICO   1306962.90  1.173953e+06   \n",
       "9 2023-09-09    BANCOPPEL (APPRIZA)     MEXICO   8845345.24  7.809040e+06   \n",
       "\n",
       "      error_abs       mape  \n",
       "0  1.266040e+06   9.206582  \n",
       "1  2.771245e+04   0.691633  \n",
       "2  2.103194e+05  16.343784  \n",
       "3  3.340228e+05   5.552405  \n",
       "4  7.686275e+05   6.205087  \n",
       "5  8.452423e+04   2.570676  \n",
       "6  6.595620e+05   8.005417  \n",
       "7  3.790463e+05   7.413983  \n",
       "8  1.330099e+05  10.177023  \n",
       "9  1.036305e+06  11.715827  "
      ]
     },
     "execution_count": 64,
     "metadata": {},
     "output_type": "execute_result"
    }
   ],
   "source": [
    "df_final[['date','payer', 'country', 'amount', 'pred', 'error_abs', 'mape']]"
   ]
  },
  {
   "cell_type": "code",
   "execution_count": null,
   "id": "e1e2a749-1a9c-4d83-851e-f6b9f72df7d6",
   "metadata": {},
   "outputs": [],
   "source": []
  }
 ],
 "metadata": {
  "availableInstances": [
   {
    "_defaultOrder": 0,
    "_isFastLaunch": true,
    "category": "General purpose",
    "gpuNum": 0,
    "hideHardwareSpecs": false,
    "memoryGiB": 4,
    "name": "ml.t3.medium",
    "vcpuNum": 2
   },
   {
    "_defaultOrder": 1,
    "_isFastLaunch": false,
    "category": "General purpose",
    "gpuNum": 0,
    "hideHardwareSpecs": false,
    "memoryGiB": 8,
    "name": "ml.t3.large",
    "vcpuNum": 2
   },
   {
    "_defaultOrder": 2,
    "_isFastLaunch": false,
    "category": "General purpose",
    "gpuNum": 0,
    "hideHardwareSpecs": false,
    "memoryGiB": 16,
    "name": "ml.t3.xlarge",
    "vcpuNum": 4
   },
   {
    "_defaultOrder": 3,
    "_isFastLaunch": false,
    "category": "General purpose",
    "gpuNum": 0,
    "hideHardwareSpecs": false,
    "memoryGiB": 32,
    "name": "ml.t3.2xlarge",
    "vcpuNum": 8
   },
   {
    "_defaultOrder": 4,
    "_isFastLaunch": true,
    "category": "General purpose",
    "gpuNum": 0,
    "hideHardwareSpecs": false,
    "memoryGiB": 8,
    "name": "ml.m5.large",
    "vcpuNum": 2
   },
   {
    "_defaultOrder": 5,
    "_isFastLaunch": false,
    "category": "General purpose",
    "gpuNum": 0,
    "hideHardwareSpecs": false,
    "memoryGiB": 16,
    "name": "ml.m5.xlarge",
    "vcpuNum": 4
   },
   {
    "_defaultOrder": 6,
    "_isFastLaunch": false,
    "category": "General purpose",
    "gpuNum": 0,
    "hideHardwareSpecs": false,
    "memoryGiB": 32,
    "name": "ml.m5.2xlarge",
    "vcpuNum": 8
   },
   {
    "_defaultOrder": 7,
    "_isFastLaunch": false,
    "category": "General purpose",
    "gpuNum": 0,
    "hideHardwareSpecs": false,
    "memoryGiB": 64,
    "name": "ml.m5.4xlarge",
    "vcpuNum": 16
   },
   {
    "_defaultOrder": 8,
    "_isFastLaunch": false,
    "category": "General purpose",
    "gpuNum": 0,
    "hideHardwareSpecs": false,
    "memoryGiB": 128,
    "name": "ml.m5.8xlarge",
    "vcpuNum": 32
   },
   {
    "_defaultOrder": 9,
    "_isFastLaunch": false,
    "category": "General purpose",
    "gpuNum": 0,
    "hideHardwareSpecs": false,
    "memoryGiB": 192,
    "name": "ml.m5.12xlarge",
    "vcpuNum": 48
   },
   {
    "_defaultOrder": 10,
    "_isFastLaunch": false,
    "category": "General purpose",
    "gpuNum": 0,
    "hideHardwareSpecs": false,
    "memoryGiB": 256,
    "name": "ml.m5.16xlarge",
    "vcpuNum": 64
   },
   {
    "_defaultOrder": 11,
    "_isFastLaunch": false,
    "category": "General purpose",
    "gpuNum": 0,
    "hideHardwareSpecs": false,
    "memoryGiB": 384,
    "name": "ml.m5.24xlarge",
    "vcpuNum": 96
   },
   {
    "_defaultOrder": 12,
    "_isFastLaunch": false,
    "category": "General purpose",
    "gpuNum": 0,
    "hideHardwareSpecs": false,
    "memoryGiB": 8,
    "name": "ml.m5d.large",
    "vcpuNum": 2
   },
   {
    "_defaultOrder": 13,
    "_isFastLaunch": false,
    "category": "General purpose",
    "gpuNum": 0,
    "hideHardwareSpecs": false,
    "memoryGiB": 16,
    "name": "ml.m5d.xlarge",
    "vcpuNum": 4
   },
   {
    "_defaultOrder": 14,
    "_isFastLaunch": false,
    "category": "General purpose",
    "gpuNum": 0,
    "hideHardwareSpecs": false,
    "memoryGiB": 32,
    "name": "ml.m5d.2xlarge",
    "vcpuNum": 8
   },
   {
    "_defaultOrder": 15,
    "_isFastLaunch": false,
    "category": "General purpose",
    "gpuNum": 0,
    "hideHardwareSpecs": false,
    "memoryGiB": 64,
    "name": "ml.m5d.4xlarge",
    "vcpuNum": 16
   },
   {
    "_defaultOrder": 16,
    "_isFastLaunch": false,
    "category": "General purpose",
    "gpuNum": 0,
    "hideHardwareSpecs": false,
    "memoryGiB": 128,
    "name": "ml.m5d.8xlarge",
    "vcpuNum": 32
   },
   {
    "_defaultOrder": 17,
    "_isFastLaunch": false,
    "category": "General purpose",
    "gpuNum": 0,
    "hideHardwareSpecs": false,
    "memoryGiB": 192,
    "name": "ml.m5d.12xlarge",
    "vcpuNum": 48
   },
   {
    "_defaultOrder": 18,
    "_isFastLaunch": false,
    "category": "General purpose",
    "gpuNum": 0,
    "hideHardwareSpecs": false,
    "memoryGiB": 256,
    "name": "ml.m5d.16xlarge",
    "vcpuNum": 64
   },
   {
    "_defaultOrder": 19,
    "_isFastLaunch": false,
    "category": "General purpose",
    "gpuNum": 0,
    "hideHardwareSpecs": false,
    "memoryGiB": 384,
    "name": "ml.m5d.24xlarge",
    "vcpuNum": 96
   },
   {
    "_defaultOrder": 20,
    "_isFastLaunch": false,
    "category": "General purpose",
    "gpuNum": 0,
    "hideHardwareSpecs": true,
    "memoryGiB": 0,
    "name": "ml.geospatial.interactive",
    "supportedImageNames": [
     "sagemaker-geospatial-v1-0"
    ],
    "vcpuNum": 0
   },
   {
    "_defaultOrder": 21,
    "_isFastLaunch": true,
    "category": "Compute optimized",
    "gpuNum": 0,
    "hideHardwareSpecs": false,
    "memoryGiB": 4,
    "name": "ml.c5.large",
    "vcpuNum": 2
   },
   {
    "_defaultOrder": 22,
    "_isFastLaunch": false,
    "category": "Compute optimized",
    "gpuNum": 0,
    "hideHardwareSpecs": false,
    "memoryGiB": 8,
    "name": "ml.c5.xlarge",
    "vcpuNum": 4
   },
   {
    "_defaultOrder": 23,
    "_isFastLaunch": false,
    "category": "Compute optimized",
    "gpuNum": 0,
    "hideHardwareSpecs": false,
    "memoryGiB": 16,
    "name": "ml.c5.2xlarge",
    "vcpuNum": 8
   },
   {
    "_defaultOrder": 24,
    "_isFastLaunch": false,
    "category": "Compute optimized",
    "gpuNum": 0,
    "hideHardwareSpecs": false,
    "memoryGiB": 32,
    "name": "ml.c5.4xlarge",
    "vcpuNum": 16
   },
   {
    "_defaultOrder": 25,
    "_isFastLaunch": false,
    "category": "Compute optimized",
    "gpuNum": 0,
    "hideHardwareSpecs": false,
    "memoryGiB": 72,
    "name": "ml.c5.9xlarge",
    "vcpuNum": 36
   },
   {
    "_defaultOrder": 26,
    "_isFastLaunch": false,
    "category": "Compute optimized",
    "gpuNum": 0,
    "hideHardwareSpecs": false,
    "memoryGiB": 96,
    "name": "ml.c5.12xlarge",
    "vcpuNum": 48
   },
   {
    "_defaultOrder": 27,
    "_isFastLaunch": false,
    "category": "Compute optimized",
    "gpuNum": 0,
    "hideHardwareSpecs": false,
    "memoryGiB": 144,
    "name": "ml.c5.18xlarge",
    "vcpuNum": 72
   },
   {
    "_defaultOrder": 28,
    "_isFastLaunch": false,
    "category": "Compute optimized",
    "gpuNum": 0,
    "hideHardwareSpecs": false,
    "memoryGiB": 192,
    "name": "ml.c5.24xlarge",
    "vcpuNum": 96
   },
   {
    "_defaultOrder": 29,
    "_isFastLaunch": true,
    "category": "Accelerated computing",
    "gpuNum": 1,
    "hideHardwareSpecs": false,
    "memoryGiB": 16,
    "name": "ml.g4dn.xlarge",
    "vcpuNum": 4
   },
   {
    "_defaultOrder": 30,
    "_isFastLaunch": false,
    "category": "Accelerated computing",
    "gpuNum": 1,
    "hideHardwareSpecs": false,
    "memoryGiB": 32,
    "name": "ml.g4dn.2xlarge",
    "vcpuNum": 8
   },
   {
    "_defaultOrder": 31,
    "_isFastLaunch": false,
    "category": "Accelerated computing",
    "gpuNum": 1,
    "hideHardwareSpecs": false,
    "memoryGiB": 64,
    "name": "ml.g4dn.4xlarge",
    "vcpuNum": 16
   },
   {
    "_defaultOrder": 32,
    "_isFastLaunch": false,
    "category": "Accelerated computing",
    "gpuNum": 1,
    "hideHardwareSpecs": false,
    "memoryGiB": 128,
    "name": "ml.g4dn.8xlarge",
    "vcpuNum": 32
   },
   {
    "_defaultOrder": 33,
    "_isFastLaunch": false,
    "category": "Accelerated computing",
    "gpuNum": 4,
    "hideHardwareSpecs": false,
    "memoryGiB": 192,
    "name": "ml.g4dn.12xlarge",
    "vcpuNum": 48
   },
   {
    "_defaultOrder": 34,
    "_isFastLaunch": false,
    "category": "Accelerated computing",
    "gpuNum": 1,
    "hideHardwareSpecs": false,
    "memoryGiB": 256,
    "name": "ml.g4dn.16xlarge",
    "vcpuNum": 64
   },
   {
    "_defaultOrder": 35,
    "_isFastLaunch": false,
    "category": "Accelerated computing",
    "gpuNum": 1,
    "hideHardwareSpecs": false,
    "memoryGiB": 61,
    "name": "ml.p3.2xlarge",
    "vcpuNum": 8
   },
   {
    "_defaultOrder": 36,
    "_isFastLaunch": false,
    "category": "Accelerated computing",
    "gpuNum": 4,
    "hideHardwareSpecs": false,
    "memoryGiB": 244,
    "name": "ml.p3.8xlarge",
    "vcpuNum": 32
   },
   {
    "_defaultOrder": 37,
    "_isFastLaunch": false,
    "category": "Accelerated computing",
    "gpuNum": 8,
    "hideHardwareSpecs": false,
    "memoryGiB": 488,
    "name": "ml.p3.16xlarge",
    "vcpuNum": 64
   },
   {
    "_defaultOrder": 38,
    "_isFastLaunch": false,
    "category": "Accelerated computing",
    "gpuNum": 8,
    "hideHardwareSpecs": false,
    "memoryGiB": 768,
    "name": "ml.p3dn.24xlarge",
    "vcpuNum": 96
   },
   {
    "_defaultOrder": 39,
    "_isFastLaunch": false,
    "category": "Memory Optimized",
    "gpuNum": 0,
    "hideHardwareSpecs": false,
    "memoryGiB": 16,
    "name": "ml.r5.large",
    "vcpuNum": 2
   },
   {
    "_defaultOrder": 40,
    "_isFastLaunch": false,
    "category": "Memory Optimized",
    "gpuNum": 0,
    "hideHardwareSpecs": false,
    "memoryGiB": 32,
    "name": "ml.r5.xlarge",
    "vcpuNum": 4
   },
   {
    "_defaultOrder": 41,
    "_isFastLaunch": false,
    "category": "Memory Optimized",
    "gpuNum": 0,
    "hideHardwareSpecs": false,
    "memoryGiB": 64,
    "name": "ml.r5.2xlarge",
    "vcpuNum": 8
   },
   {
    "_defaultOrder": 42,
    "_isFastLaunch": false,
    "category": "Memory Optimized",
    "gpuNum": 0,
    "hideHardwareSpecs": false,
    "memoryGiB": 128,
    "name": "ml.r5.4xlarge",
    "vcpuNum": 16
   },
   {
    "_defaultOrder": 43,
    "_isFastLaunch": false,
    "category": "Memory Optimized",
    "gpuNum": 0,
    "hideHardwareSpecs": false,
    "memoryGiB": 256,
    "name": "ml.r5.8xlarge",
    "vcpuNum": 32
   },
   {
    "_defaultOrder": 44,
    "_isFastLaunch": false,
    "category": "Memory Optimized",
    "gpuNum": 0,
    "hideHardwareSpecs": false,
    "memoryGiB": 384,
    "name": "ml.r5.12xlarge",
    "vcpuNum": 48
   },
   {
    "_defaultOrder": 45,
    "_isFastLaunch": false,
    "category": "Memory Optimized",
    "gpuNum": 0,
    "hideHardwareSpecs": false,
    "memoryGiB": 512,
    "name": "ml.r5.16xlarge",
    "vcpuNum": 64
   },
   {
    "_defaultOrder": 46,
    "_isFastLaunch": false,
    "category": "Memory Optimized",
    "gpuNum": 0,
    "hideHardwareSpecs": false,
    "memoryGiB": 768,
    "name": "ml.r5.24xlarge",
    "vcpuNum": 96
   },
   {
    "_defaultOrder": 47,
    "_isFastLaunch": false,
    "category": "Accelerated computing",
    "gpuNum": 1,
    "hideHardwareSpecs": false,
    "memoryGiB": 16,
    "name": "ml.g5.xlarge",
    "vcpuNum": 4
   },
   {
    "_defaultOrder": 48,
    "_isFastLaunch": false,
    "category": "Accelerated computing",
    "gpuNum": 1,
    "hideHardwareSpecs": false,
    "memoryGiB": 32,
    "name": "ml.g5.2xlarge",
    "vcpuNum": 8
   },
   {
    "_defaultOrder": 49,
    "_isFastLaunch": false,
    "category": "Accelerated computing",
    "gpuNum": 1,
    "hideHardwareSpecs": false,
    "memoryGiB": 64,
    "name": "ml.g5.4xlarge",
    "vcpuNum": 16
   },
   {
    "_defaultOrder": 50,
    "_isFastLaunch": false,
    "category": "Accelerated computing",
    "gpuNum": 1,
    "hideHardwareSpecs": false,
    "memoryGiB": 128,
    "name": "ml.g5.8xlarge",
    "vcpuNum": 32
   },
   {
    "_defaultOrder": 51,
    "_isFastLaunch": false,
    "category": "Accelerated computing",
    "gpuNum": 1,
    "hideHardwareSpecs": false,
    "memoryGiB": 256,
    "name": "ml.g5.16xlarge",
    "vcpuNum": 64
   },
   {
    "_defaultOrder": 52,
    "_isFastLaunch": false,
    "category": "Accelerated computing",
    "gpuNum": 4,
    "hideHardwareSpecs": false,
    "memoryGiB": 192,
    "name": "ml.g5.12xlarge",
    "vcpuNum": 48
   },
   {
    "_defaultOrder": 53,
    "_isFastLaunch": false,
    "category": "Accelerated computing",
    "gpuNum": 4,
    "hideHardwareSpecs": false,
    "memoryGiB": 384,
    "name": "ml.g5.24xlarge",
    "vcpuNum": 96
   },
   {
    "_defaultOrder": 54,
    "_isFastLaunch": false,
    "category": "Accelerated computing",
    "gpuNum": 8,
    "hideHardwareSpecs": false,
    "memoryGiB": 768,
    "name": "ml.g5.48xlarge",
    "vcpuNum": 192
   },
   {
    "_defaultOrder": 55,
    "_isFastLaunch": false,
    "category": "Accelerated computing",
    "gpuNum": 8,
    "hideHardwareSpecs": false,
    "memoryGiB": 1152,
    "name": "ml.p4d.24xlarge",
    "vcpuNum": 96
   },
   {
    "_defaultOrder": 56,
    "_isFastLaunch": false,
    "category": "Accelerated computing",
    "gpuNum": 8,
    "hideHardwareSpecs": false,
    "memoryGiB": 1152,
    "name": "ml.p4de.24xlarge",
    "vcpuNum": 96
   },
   {
    "_defaultOrder": 57,
    "_isFastLaunch": false,
    "category": "Accelerated computing",
    "gpuNum": 0,
    "hideHardwareSpecs": false,
    "memoryGiB": 32,
    "name": "ml.trn1.2xlarge",
    "vcpuNum": 8
   },
   {
    "_defaultOrder": 58,
    "_isFastLaunch": false,
    "category": "Accelerated computing",
    "gpuNum": 0,
    "hideHardwareSpecs": false,
    "memoryGiB": 512,
    "name": "ml.trn1.32xlarge",
    "vcpuNum": 128
   },
   {
    "_defaultOrder": 59,
    "_isFastLaunch": false,
    "category": "Accelerated computing",
    "gpuNum": 0,
    "hideHardwareSpecs": false,
    "memoryGiB": 512,
    "name": "ml.trn1n.32xlarge",
    "vcpuNum": 128
   }
  ],
  "instance_type": "ml.m5.4xlarge",
  "kernelspec": {
   "display_name": "Python 3 (Data Science 3.0)",
   "language": "python",
   "name": "python3__SAGEMAKER_INTERNAL__arn:aws:sagemaker:us-east-1:081325390199:image/sagemaker-data-science-310-v1"
  },
  "language_info": {
   "codemirror_mode": {
    "name": "ipython",
    "version": 3
   },
   "file_extension": ".py",
   "mimetype": "text/x-python",
   "name": "python",
   "nbconvert_exporter": "python",
   "pygments_lexer": "ipython3",
   "version": "3.10.6"
  }
 },
 "nbformat": 4,
 "nbformat_minor": 5
}
