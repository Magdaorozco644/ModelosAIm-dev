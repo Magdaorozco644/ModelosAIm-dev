{
 "cells": [
  {
   "cell_type": "code",
   "execution_count": 5,
   "id": "efcb9f20-52d9-420f-ad71-d088f219bca1",
   "metadata": {
    "tags": []
   },
   "outputs": [],
   "source": [
    "# !pip install awswrangler\n",
    "# !pip install holidays"
   ]
  },
  {
   "cell_type": "code",
   "execution_count": 6,
   "id": "9108cf1f-38d2-4e8a-acf8-64e9642c4759",
   "metadata": {
    "tags": []
   },
   "outputs": [],
   "source": [
    "import awswrangler as wr\n",
    "import pandas as pd\n",
    "import datetime as dt\n",
    "from datetime import datetime\n",
    "import holidays"
   ]
  },
  {
   "cell_type": "code",
   "execution_count": 7,
   "id": "5724b28b-d3c1-4762-b59e-7896abd62dad",
   "metadata": {
    "tags": []
   },
   "outputs": [],
   "source": [
    "#TIMEFRAME\n",
    "start_date = '2021-01-01'\n",
    "end_date = '2023-10-21'"
   ]
  },
  {
   "cell_type": "markdown",
   "id": "73a409bb-76f8-40e1-a523-86ee23b19f0a",
   "metadata": {
    "jp-MarkdownHeadingCollapsed": true,
    "tags": []
   },
   "source": [
    "### DFs generation"
   ]
  },
  {
   "cell_type": "code",
   "execution_count": 54,
   "id": "44219f77-c63a-4338-b93f-29394c1b47e6",
   "metadata": {
    "tags": []
   },
   "outputs": [],
   "source": [
    "# DB Setting\n",
    "bucket_name = 's3://viamericas-datalake-dev-us-east-1-283731589572-athena/'\n",
    "origin_name = 'AwsDataCatalog'\n",
    "database_name= 'viamericas'\n",
    "table_name = 'daily_check_gp'"
   ]
  },
  {
   "cell_type": "code",
   "execution_count": 55,
   "id": "6b1782c2-882c-415c-b791-0093c681d41f",
   "metadata": {
    "tags": []
   },
   "outputs": [
    {
     "name": "stderr",
     "output_type": "stream",
     "text": [
      "/opt/conda/lib/python3.10/site-packages/awswrangler/_distributed.py:104: FutureWarning: promote has been superseded by mode='default'.\n",
      "  return cls.dispatch_func(func)(*args, **kw)\n"
     ]
    }
   ],
   "source": [
    "df = wr.athena.read_sql_table(\n",
    "    table=table_name,\n",
    "    database=database_name,\n",
    ")"
   ]
  },
  {
   "cell_type": "code",
   "execution_count": 56,
   "id": "69ff4af8-ab4a-4a15-a106-3a1a44d5509d",
   "metadata": {
    "tags": []
   },
   "outputs": [
    {
     "data": {
      "text/plain": [
       "'2024-02-03'"
      ]
     },
     "execution_count": 56,
     "metadata": {},
     "output_type": "execute_result"
    }
   ],
   "source": [
    "df.day.max() # Solo para chequear"
   ]
  },
  {
   "cell_type": "code",
   "execution_count": 57,
   "id": "46336b11-72e3-4ba1-b73c-06c64fc6a4d0",
   "metadata": {
    "tags": []
   },
   "outputs": [],
   "source": [
    "# Convert the 'date' column to datetime format\n",
    "df['day'] = pd.to_datetime(df['day'])\n",
    "# Grouping by 'payer' and 'country' concatenated for this level of granularity\n",
    "df['payer_country'] = df['payer'] + '_' + df['country']\n",
    "# Margin (when tx !=0)\n",
    "df['margin'] = df.apply(lambda row: row['gp'] / row['tx'] if row['tx'] != 0 else 0, axis=1)\n",
    "df['margin'] = df['margin'].apply(lambda x: float(x)).round(4)"
   ]
  },
  {
   "cell_type": "code",
   "execution_count": 58,
   "id": "03953fb8-872e-4c89-94b7-fdf20977d849",
   "metadata": {
    "tags": []
   },
   "outputs": [],
   "source": [
    "# Specify date range\n",
    "df = df[(df['date'] >= start_date) & (df['date'] <= end_date)]"
   ]
  },
  {
   "cell_type": "code",
   "execution_count": 60,
   "id": "60b0d967-731c-4d25-b821-f6c011c3c557",
   "metadata": {
    "tags": []
   },
   "outputs": [],
   "source": [
    "#df[df['tx'] == 0] # Hay casos donde tx es 0, pero GP no es cero"
   ]
  },
  {
   "cell_type": "code",
   "execution_count": 61,
   "id": "35536510-2c7d-417c-8a0b-fdfe709f905d",
   "metadata": {
    "tags": []
   },
   "outputs": [
    {
     "name": "stderr",
     "output_type": "stream",
     "text": [
      "/opt/conda/lib/python3.10/site-packages/awswrangler/_distributed.py:104: FutureWarning: promote has been superseded by mode='default'.\n",
      "  return cls.dispatch_func(func)(*args, **kw)\n"
     ]
    }
   ],
   "source": [
    "#Connection to daily_forex \n",
    "forex_table = 'last_daily_forex_country'\n",
    "\n",
    "rates = wr.athena.read_sql_table(\n",
    "    table=forex_table,\n",
    "    database=database_name)"
   ]
  },
  {
   "cell_type": "code",
   "execution_count": 62,
   "id": "86cd289c-a695-470e-9d38-09bb2932633b",
   "metadata": {
    "tags": []
   },
   "outputs": [
    {
     "data": {
      "text/html": [
       "<div>\n",
       "<style scoped>\n",
       "    .dataframe tbody tr th:only-of-type {\n",
       "        vertical-align: middle;\n",
       "    }\n",
       "\n",
       "    .dataframe tbody tr th {\n",
       "        vertical-align: top;\n",
       "    }\n",
       "\n",
       "    .dataframe thead th {\n",
       "        text-align: right;\n",
       "    }\n",
       "</style>\n",
       "<table border=\"1\" class=\"dataframe\">\n",
       "  <thead>\n",
       "    <tr style=\"text-align: right;\">\n",
       "      <th></th>\n",
       "      <th>symbol</th>\n",
       "      <th>max_feed_date</th>\n",
       "      <th>max_feed_price</th>\n",
       "      <th>country</th>\n",
       "      <th>day</th>\n",
       "    </tr>\n",
       "  </thead>\n",
       "  <tbody>\n",
       "    <tr>\n",
       "      <th>0</th>\n",
       "      <td>USDINR</td>\n",
       "      <td>2022-05-27 23:58:28</td>\n",
       "      <td>77.6922</td>\n",
       "      <td>INDIA</td>\n",
       "      <td>2022-05-27</td>\n",
       "    </tr>\n",
       "    <tr>\n",
       "      <th>1</th>\n",
       "      <td>USDMXN</td>\n",
       "      <td>2022-05-27 23:58:28</td>\n",
       "      <td>19.7722</td>\n",
       "      <td>MEXICO</td>\n",
       "      <td>2022-05-27</td>\n",
       "    </tr>\n",
       "    <tr>\n",
       "      <th>2</th>\n",
       "      <td>USDBRL</td>\n",
       "      <td>2023-04-15 23:58:27</td>\n",
       "      <td>4.9099</td>\n",
       "      <td>BRAZIL</td>\n",
       "      <td>2023-04-15</td>\n",
       "    </tr>\n",
       "    <tr>\n",
       "      <th>3</th>\n",
       "      <td>USDMXN</td>\n",
       "      <td>2023-04-15 23:58:27</td>\n",
       "      <td>18.0108</td>\n",
       "      <td>MEXICO</td>\n",
       "      <td>2023-04-15</td>\n",
       "    </tr>\n",
       "    <tr>\n",
       "      <th>4</th>\n",
       "      <td>USDINR</td>\n",
       "      <td>2023-06-13 23:58:27</td>\n",
       "      <td>82.3874</td>\n",
       "      <td>INDIA</td>\n",
       "      <td>2023-06-13</td>\n",
       "    </tr>\n",
       "  </tbody>\n",
       "</table>\n",
       "</div>"
      ],
      "text/plain": [
       "   symbol       max_feed_date max_feed_price country         day\n",
       "0  USDINR 2022-05-27 23:58:28        77.6922   INDIA  2022-05-27\n",
       "1  USDMXN 2022-05-27 23:58:28        19.7722  MEXICO  2022-05-27\n",
       "2  USDBRL 2023-04-15 23:58:27         4.9099  BRAZIL  2023-04-15\n",
       "3  USDMXN 2023-04-15 23:58:27        18.0108  MEXICO  2023-04-15\n",
       "4  USDINR 2023-06-13 23:58:27        82.3874   INDIA  2023-06-13"
      ]
     },
     "execution_count": 62,
     "metadata": {},
     "output_type": "execute_result"
    }
   ],
   "source": [
    "rates.head()"
   ]
  },
  {
   "cell_type": "code",
   "execution_count": 63,
   "id": "66759f8c-e8d1-41f9-89ab-1fc95c7f4679",
   "metadata": {
    "tags": []
   },
   "outputs": [],
   "source": [
    "# FOREX - Selecting columns & renaming\n",
    "rates['day'] = pd.to_datetime(rates['day'])\n",
    "rates = rates[['day','country','max_feed_price']]"
   ]
  },
  {
   "cell_type": "markdown",
   "id": "357a924a-5267-4679-9e45-44d2b7ef1197",
   "metadata": {
    "jp-MarkdownHeadingCollapsed": true,
    "tags": []
   },
   "source": [
    "### UNIVERSE"
   ]
  },
  {
   "cell_type": "code",
   "execution_count": 64,
   "id": "277467ba-e794-4aaf-9739-f885d20b089b",
   "metadata": {
    "tags": []
   },
   "outputs": [],
   "source": [
    "#Filtros\n",
    "df = df[df['payer'] != 'EXPIRED ORDERS']\n",
    "df = df[df['amount'] != 0] # Excluding 0 (flag A & Flag C), defined in EDA"
   ]
  },
  {
   "cell_type": "code",
   "execution_count": 65,
   "id": "c5f5bde6-fcbe-4590-a1a4-55a1961e7782",
   "metadata": {
    "tags": []
   },
   "outputs": [
    {
     "data": {
      "text/plain": [
       "Decimal('25098657847.5725')"
      ]
     },
     "execution_count": 65,
     "metadata": {},
     "output_type": "execute_result"
    }
   ],
   "source": [
    "df['amount'].sum()"
   ]
  },
  {
   "cell_type": "code",
   "execution_count": 66,
   "id": "3650fdb8-4062-4f75-8a4c-6110f10de6f2",
   "metadata": {
    "tags": []
   },
   "outputs": [],
   "source": [
    "# AGING FILTER\n",
    "\n",
    "def aging_filter(df):\n",
    "    \"\"\"\n",
    "    Filter a DataFrame based on aging criteria described in aging.ipynb\n",
    "\n",
    "    Args:\n",
    "        df (pandas.DataFrame): Input DataFrame with columns 'date', 'payer_country', 'amount', and 'tx'.\n",
    "\n",
    "    Returns:\n",
    "        pandas.DataFrame: Filtered DataFrame containing only the rows that meet the aging criteria.\n",
    "    \"\"\"\n",
    "    # Find the last date in the sample\n",
    "    last_date_sample = df['day'].max()\n",
    "\n",
    "    # Calculate the limit date, one day before the last date in the sample\n",
    "    limit_date = last_date_sample - pd.Timedelta(days=1)\n",
    "\n",
    "    # Aggregate data by 'payer_country'\n",
    "    result = (\n",
    "        df.groupby('payer_country')\n",
    "        .agg(\n",
    "            first_date=('day', 'min'),\n",
    "            last_date=('day', 'max'),\n",
    "            total_amount=('amount', 'sum'),\n",
    "            total_transactions=('tx', 'sum')\n",
    "        )\n",
    "        .reset_index()\n",
    "    )\n",
    "\n",
    "    # Calculate age of payer\n",
    "    result['age_payer'] = ((limit_date - result['first_date']).dt.days / 30).round(2)\n",
    "\n",
    "    # Calculate active time\n",
    "    result['active_time'] = ((result['last_date'] - result['first_date']).dt.days / 30).round(2)\n",
    "\n",
    "    # Calculate inactive time\n",
    "    result['inactive_time'] = ((limit_date - result['last_date']).dt.days / 30).round(2)\n",
    "\n",
    "    # Sort the DataFrame by 'total_amount' from highest to lowest\n",
    "    result = result.sort_values(by='total_amount', ascending=False)\n",
    "\n",
    "    # Filter the DataFrame based on conditions\n",
    "    aging_universe = result.loc[\n",
    "        (result.age_payer >= 3) & \n",
    "        (result.inactive_time <= 3) & \n",
    "        (result.total_amount > 10000) & \n",
    "        (result.total_transactions > 50)\n",
    "    ]\n",
    "    \n",
    "    return aging_universe"
   ]
  },
  {
   "cell_type": "code",
   "execution_count": 67,
   "id": "e1970265-205a-4205-a298-6d55ebde490b",
   "metadata": {
    "tags": []
   },
   "outputs": [
    {
     "name": "stderr",
     "output_type": "stream",
     "text": [
      "/tmp/ipykernel_17/751872766.py:4: SettingWithCopyWarning: \n",
      "A value is trying to be set on a copy of a slice from a DataFrame.\n",
      "Try using .loc[row_indexer,col_indexer] = value instead\n",
      "\n",
      "See the caveats in the documentation: https://pandas.pydata.org/pandas-docs/stable/user_guide/indexing.html#returning-a-view-versus-a-copy\n",
      "  df_filtered['day'] = pd.to_datetime(df_filtered['day'])\n"
     ]
    }
   ],
   "source": [
    "# Defining Universe\n",
    "df_aging = aging_filter(df) #Filtering 'payer_country' based on Aging notebook\n",
    "df_filtered = df[df['payer_country'].isin(df_aging['payer_country'])] # Applying aging filters \n",
    "df_filtered['day'] = pd.to_datetime(df_filtered['day'])"
   ]
  },
  {
   "cell_type": "markdown",
   "id": "0631e931-d705-48f3-8a5d-7d47edca6e91",
   "metadata": {
    "jp-MarkdownHeadingCollapsed": true,
    "tags": []
   },
   "source": [
    "### VARIABLES"
   ]
  },
  {
   "cell_type": "code",
   "execution_count": 68,
   "id": "9ac793bd-cc12-41ad-9b33-f60a0a294041",
   "metadata": {
    "tags": []
   },
   "outputs": [],
   "source": [
    "def generate_lag_and_variation(df, num_lags):\n",
    "    \"\"\"\n",
    "    Generate lagged values and variations for a given df\n",
    "\n",
    "    Args:\n",
    "        df (pandas.DataFrame): Input df with columns 'symbol' and 'feed_price'.\n",
    "        num_lags (int): Number of lagged values to generate.\n",
    "\n",
    "    Returns:\n",
    "        pandas.DataFrame: df with lagged values and variations added as new columns.\n",
    "    \"\"\"\n",
    "    # Create columns for each day's lag up to the defined maximum\n",
    "    for i in range(1, num_lags + 1):\n",
    "        col_name = f'rate_lag_{i}'\n",
    "        # Shift the 'feed_price' column grouped by 'symbol'\n",
    "        df[col_name] = df.groupby('country')['max_feed_price'].shift(i)\n",
    "\n",
    "    # Calculate the variation columns between consecutive lags\n",
    "    for i in range(1, num_lags):\n",
    "        col_name = f'var_rate_lag_{i}'\n",
    "        # Calculate the difference between consecutive lag columns\n",
    "        df[col_name] = df[f'rate_lag_{i}'] - df[f'rate_lag_{i + 1}']\n",
    "\n",
    "    return df\n"
   ]
  },
  {
   "cell_type": "code",
   "execution_count": 69,
   "id": "1076de06-6aa9-4e6f-a876-5bf1f5cd05e8",
   "metadata": {
    "tags": []
   },
   "outputs": [],
   "source": [
    "rates_number = 30\n",
    "rates = generate_lag_and_variation(rates, rates_number)"
   ]
  },
  {
   "cell_type": "code",
   "execution_count": 71,
   "id": "69c54aeb-1d25-44c7-ae3a-02da228415f8",
   "metadata": {
    "tags": []
   },
   "outputs": [],
   "source": [
    "# Primera fusion: traigo rates al df donde filtré el universo\n",
    "df1 = pd.merge(df_filtered, rates, on=['day', 'country'], how='left')"
   ]
  },
  {
   "cell_type": "code",
   "execution_count": 72,
   "id": "eac77082-dc5d-437e-853c-3a36acef2a63",
   "metadata": {
    "tags": []
   },
   "outputs": [],
   "source": [
    "df1['date'] = pd.to_datetime(df1['date'])"
   ]
  },
  {
   "cell_type": "code",
   "execution_count": 73,
   "id": "8297124d-622a-45d7-8155-393e3fd94d2c",
   "metadata": {
    "tags": []
   },
   "outputs": [
    {
     "name": "stderr",
     "output_type": "stream",
     "text": [
      "/opt/conda/lib/python3.10/site-packages/awswrangler/_distributed.py:104: FutureWarning: promote has been superseded by mode='default'.\n",
      "  return cls.dispatch_func(func)(*args, **kw)\n"
     ]
    }
   ],
   "source": [
    "### EFFECT OF CANCELED TRANSACTIONS ###\n",
    "# ES DISTINTA PORQUE DAILY_CHECK TIENE ALGUNOS FILTROS Y ESTA NO\n",
    "database_name= 'analytics'\n",
    "table2_name = 'daily_sales_count_cancelled_v2'##WE LOAD THE BASE WITH CANCELLATIONS\n",
    "\n",
    "df_canc = wr.athena.read_sql_table(\n",
    "    table=table2_name,\n",
    "    database=database_name)"
   ]
  },
  {
   "cell_type": "code",
   "execution_count": 74,
   "id": "ac5ce35c-de89-4519-8e7a-54bfc77363e7",
   "metadata": {
    "tags": []
   },
   "outputs": [],
   "source": [
    "df_canc['date'] = pd.to_datetime(df_canc['date'])\n",
    "df_canc['payer_country'] = df_canc['payer'] +'_'+ df_canc['country']\n",
    "# Specific date range\n",
    "df_canc = df_canc[(df_canc['date'] >= start_date) & (df_canc['date'] <= end_date)]"
   ]
  },
  {
   "cell_type": "code",
   "execution_count": 75,
   "id": "86ee53d4-26bc-413f-884b-235a94912e43",
   "metadata": {
    "tags": []
   },
   "outputs": [],
   "source": [
    "def fill_missing_dates(df, start_date, end_date):\n",
    "    \"\"\"\n",
    "    Fill missing dates in the DataFrame with zero values and ensure all date ranges are covered.\n",
    "\n",
    "    Args:\n",
    "        df (pandas.DataFrame): Input DataFrame with columns 'date', 'amount', 'tx_cancelled', 'payer_country', etc.\n",
    "        start_date (str or datetime.date): Start date of the desired date range.\n",
    "        end_date (str or datetime.date): End date of the desired date range.\n",
    "\n",
    "    Returns:\n",
    "        pandas.DataFrame: DataFrame with missing dates filled and all date ranges covered.\n",
    "    \"\"\"\n",
    "    # Create an empty DataFrame with the specified date range\n",
    "    date_range = pd.date_range(start=start_date, end=end_date)\n",
    "    df_fill = pd.DataFrame({'date': date_range, 'amount': 0, 'tx_cancelled': 0})\n",
    "    df_fill['date'] = pd.to_datetime(df_fill['date']).dt.date\n",
    "\n",
    "    # Sort the original DataFrame by 'country', 'payer', and 'date'\n",
    "    df = df.sort_values(by=['country', 'payer', 'date'])\n",
    "\n",
    "    # Create an empty DataFrame to hold the result\n",
    "    result_df = pd.DataFrame()\n",
    "\n",
    "    # Loop through each 'payer_country'\n",
    "    for payer_country in df['payer_country'].unique():\n",
    "        # Filter DataFrame by 'payer_country'\n",
    "        df_aux = df[df['payer_country'] == payer_country]\n",
    "\n",
    "        # Combine df_aux (payer_country) with df_fill, keeping values from df_aux and filling missing dates\n",
    "        merged_df = df_aux.set_index('date').combine_first(df_fill.set_index('date')).reset_index()\n",
    "\n",
    "        # Fill missing values in specified columns\n",
    "        columns_to_fill = ['payer', 'country', 'payer_country']\n",
    "        merged_df[columns_to_fill] = merged_df[columns_to_fill].ffill().bfill()\n",
    "\n",
    "        # Concatenate the result with the final DataFrame\n",
    "        result_df = pd.concat([result_df, merged_df], ignore_index=True)\n",
    "\n",
    "    return result_df"
   ]
  },
  {
   "cell_type": "code",
   "execution_count": 76,
   "id": "d58f29d3-3970-46ab-9acc-d2174a957a16",
   "metadata": {
    "tags": []
   },
   "outputs": [],
   "source": [
    "# Call the function with the specified start_date and end_date\n",
    "df_full = fill_missing_dates(df_canc, start_date, end_date)"
   ]
  },
  {
   "cell_type": "code",
   "execution_count": 77,
   "id": "bdaa0c37-2e8c-4177-8e19-b67be69771dc",
   "metadata": {
    "tags": []
   },
   "outputs": [],
   "source": [
    "def generate_tx_lags_and_variation(df, tx_count):\n",
    "    \"\"\"\n",
    "    Generate lag columns for cancelled transactions and their variations.\n",
    "\n",
    "    Args:\n",
    "    - df: DataFrame containing transaction data\n",
    "    - tx_count: Number of periods for lag calculation\n",
    "\n",
    "    Returns:\n",
    "    - df: DataFrame with added lag and variation columns\n",
    "    \"\"\"\n",
    "    # Sort the dataset based on country, payer, and date\n",
    "    df = df.sort_values(by=['country', 'payer', 'date'])\n",
    "\n",
    "    # Create columns for each day's lag up to the defined maximum\n",
    "    for i in range(1, tx_count + 1):\n",
    "        col_name = f'tx_cancelled_lag_{i}'\n",
    "        # Shift the 'tx_cancelled' column grouped by 'country' and 'payer'\n",
    "        df[col_name] = df.groupby(['country', 'payer'])['tx_cancelled'].shift(i)\n",
    "\n",
    "    # Calculate the variation columns between consecutive delays\n",
    "    for i in range(1, tx_count):\n",
    "        col_name = f'var_tx_cancelled_lag_{i}'\n",
    "        # Calculate the difference between consecutive lag columns\n",
    "        df[col_name] = df[f'tx_cancelled_lag_{i}'] - df[f'tx_cancelled_lag_{i + 1}']\n",
    "\n",
    "    return df"
   ]
  },
  {
   "cell_type": "code",
   "execution_count": 78,
   "id": "389600d9-6cc1-453c-8c56-40cadc70211d",
   "metadata": {
    "tags": []
   },
   "outputs": [],
   "source": [
    "# Call the function and assign the result back to df2\n",
    "tx_cancelled_lags = 30\n",
    "df2 = generate_tx_lags_and_variation(df_full, tx_cancelled_lags)"
   ]
  },
  {
   "cell_type": "code",
   "execution_count": 79,
   "id": "42394f6c-ab41-4e40-a1e4-06f8235843a5",
   "metadata": {
    "tags": []
   },
   "outputs": [],
   "source": [
    "# Coupon ratio\n",
    "df1['ratio_coupon_tx']=df1.coupon_count/df1.tx"
   ]
  },
  {
   "cell_type": "code",
   "execution_count": 80,
   "id": "1a16052a-1a4b-47c8-a5c1-6039c4045b83",
   "metadata": {
    "tags": []
   },
   "outputs": [
    {
     "data": {
      "text/plain": [
       "5.0"
      ]
     },
     "execution_count": 80,
     "metadata": {},
     "output_type": "execute_result"
    }
   ],
   "source": [
    "df1.ratio_coupon_tx.min();df1.ratio_coupon_tx.max()"
   ]
  },
  {
   "cell_type": "code",
   "execution_count": 81,
   "id": "5988f633-513f-4761-bb43-9097dde4ebf5",
   "metadata": {
    "tags": []
   },
   "outputs": [],
   "source": [
    "def generate_coupon_tx_lags(df, tx_count):\n",
    "    \"\"\"\n",
    "    Generate lag columns for coupon_tx ratio\n",
    "\n",
    "    Args:\n",
    "    - df: DataFrame containing transaction data\n",
    "    - tx_count: Number of periods for lag calculation\n",
    "\n",
    "    Returns:\n",
    "    - df: DataFrame with added lag and variation columns\n",
    "    \"\"\"\n",
    "    # Sort the dataset based on country, payer, and date\n",
    "    df = df.sort_values(by=['country', 'payer', 'date'])\n",
    "\n",
    "    # Create columns for each day's lag up to the defined maximum\n",
    "    for i in range(1, tx_count + 1):\n",
    "        col_name = f'ratio_coupon_tx_lag_{i}'\n",
    "        # Shift the 'ratio_coupon_tx' column grouped by 'country' and 'payer'\n",
    "        df[col_name] = df.groupby(['country', 'payer'])['ratio_coupon_tx'].shift(i)\n",
    "\n",
    "    return df"
   ]
  },
  {
   "cell_type": "code",
   "execution_count": 82,
   "id": "ac53929d-bac1-4b24-9304-8e59be0c895f",
   "metadata": {
    "tags": []
   },
   "outputs": [],
   "source": [
    "# Call the function and assign the result back to df1\n",
    "tx_ratio_coupon_tx_lags = 30\n",
    "df1 = generate_coupon_tx_lags(df1, tx_ratio_coupon_tx_lags)"
   ]
  },
  {
   "cell_type": "code",
   "execution_count": 83,
   "id": "5abe8b0f-9c61-4a65-9a6e-a5db1dc689da",
   "metadata": {
    "tags": []
   },
   "outputs": [],
   "source": [
    "def generate_tx_lags(df, tx_count):\n",
    "    \"\"\"\n",
    "    Generate lags columns for txs\n",
    "\n",
    "    Args:\n",
    "    - df: DataFrame containing transaction data\n",
    "    - tx_count: Number of periods for lag calculation\n",
    "\n",
    "    Returns:\n",
    "    - df: DataFrame with added lag and variation columns\n",
    "    \"\"\"\n",
    "    # Sort the dataset based on country, payer, and date\n",
    "    df = df.sort_values(by=['country', 'payer', 'date'])\n",
    "\n",
    "    # Create columns for each day's lag up to the defined maximum\n",
    "    for i in range(1, tx_count + 1):\n",
    "        col_name = f'tx_lag_{i}'\n",
    "        # Shift the 'tx' column grouped by 'country' and 'payer'\n",
    "        df[col_name] = df.groupby(['country', 'payer'])['tx'].shift(i)\n",
    "\n",
    "    return df"
   ]
  },
  {
   "cell_type": "code",
   "execution_count": 84,
   "id": "dd68de25-0b1c-4bdb-81e9-80c4ad1eb971",
   "metadata": {
    "tags": []
   },
   "outputs": [],
   "source": [
    "# Call the function and assign the result back to df1\n",
    "tx_lags = 30\n",
    "df1 = generate_tx_lags(df1, tx_lags)"
   ]
  },
  {
   "cell_type": "code",
   "execution_count": 85,
   "id": "9616bf84-c56c-4f84-b992-6157cf0ba8de",
   "metadata": {
    "tags": []
   },
   "outputs": [],
   "source": [
    "def generate_margin_lags(df, margin_lags):\n",
    "    \"\"\"\n",
    "    Generate lag columns for margin\n",
    "\n",
    "    Args:\n",
    "    - df: DataFrame containing transaction data\n",
    "    - margin_lags: Number of periods for lag calculation\n",
    "\n",
    "    Returns:\n",
    "    - df: DataFrame with added lag columns for margin\n",
    "    \"\"\"\n",
    "    # Sort the dataset based on country, payer, and date\n",
    "    df = df.sort_values(by=['country', 'payer', 'date'])\n",
    "\n",
    "    # Create columns for each day's lag up to the defined maximum\n",
    "    for i in range(1, margin_lags + 1):\n",
    "        col_name = f'margin_lag_{i}'\n",
    "        # Shift the 'margin' column grouped by 'country' and 'payer'\n",
    "        df[col_name] = df.groupby(['country', 'payer'])['margin'].shift(i)\n",
    "\n",
    "    return df"
   ]
  },
  {
   "cell_type": "code",
   "execution_count": 86,
   "id": "0f2324e4-a8f8-401b-89f7-7c335753775e",
   "metadata": {
    "tags": []
   },
   "outputs": [],
   "source": [
    "# Call the function and assign the result back to df1\n",
    "margin_lags = 10\n",
    "df1 = generate_margin_lags(df1, margin_lags)"
   ]
  },
  {
   "cell_type": "code",
   "execution_count": 87,
   "id": "49dc3da1-25a9-40d5-9b8a-441ffc7a0f5e",
   "metadata": {
    "tags": []
   },
   "outputs": [
    {
     "data": {
      "text/html": [
       "<div>\n",
       "<style scoped>\n",
       "    .dataframe tbody tr th:only-of-type {\n",
       "        vertical-align: middle;\n",
       "    }\n",
       "\n",
       "    .dataframe tbody tr th {\n",
       "        vertical-align: top;\n",
       "    }\n",
       "\n",
       "    .dataframe thead th {\n",
       "        text-align: right;\n",
       "    }\n",
       "</style>\n",
       "<table border=\"1\" class=\"dataframe\">\n",
       "  <thead>\n",
       "    <tr style=\"text-align: right;\">\n",
       "      <th></th>\n",
       "      <th>payer</th>\n",
       "      <th>country</th>\n",
       "      <th>date</th>\n",
       "      <th>tx</th>\n",
       "      <th>amount</th>\n",
       "      <th>coupon_count</th>\n",
       "      <th>gp</th>\n",
       "      <th>day</th>\n",
       "      <th>payer_country</th>\n",
       "      <th>margin</th>\n",
       "      <th>...</th>\n",
       "      <th>margin_lag_1</th>\n",
       "      <th>margin_lag_2</th>\n",
       "      <th>margin_lag_3</th>\n",
       "      <th>margin_lag_4</th>\n",
       "      <th>margin_lag_5</th>\n",
       "      <th>margin_lag_6</th>\n",
       "      <th>margin_lag_7</th>\n",
       "      <th>margin_lag_8</th>\n",
       "      <th>margin_lag_9</th>\n",
       "      <th>margin_lag_10</th>\n",
       "    </tr>\n",
       "  </thead>\n",
       "  <tbody>\n",
       "    <tr>\n",
       "      <th>31853</th>\n",
       "      <td>VIAMERICAS USA DEPOSITS</td>\n",
       "      <td>UNITED STATES (ATM &amp; DEPOSITS)</td>\n",
       "      <td>2023-08-10</td>\n",
       "      <td>1</td>\n",
       "      <td>951.5000</td>\n",
       "      <td>0</td>\n",
       "      <td>4.7575000</td>\n",
       "      <td>2023-08-10</td>\n",
       "      <td>VIAMERICAS USA DEPOSITS_UNITED STATES (ATM &amp; D...</td>\n",
       "      <td>4.7575</td>\n",
       "      <td>...</td>\n",
       "      <td>2.5000</td>\n",
       "      <td>2.0866</td>\n",
       "      <td>1.4990</td>\n",
       "      <td>1.2500</td>\n",
       "      <td>0.7500</td>\n",
       "      <td>10.7260</td>\n",
       "      <td>7.3809</td>\n",
       "      <td>1.5000</td>\n",
       "      <td>4.0963</td>\n",
       "      <td>1.5000</td>\n",
       "    </tr>\n",
       "    <tr>\n",
       "      <th>36124</th>\n",
       "      <td>VIAMERICAS USA DEPOSITS</td>\n",
       "      <td>UNITED STATES (ATM &amp; DEPOSITS)</td>\n",
       "      <td>2023-08-11</td>\n",
       "      <td>1</td>\n",
       "      <td>250.4800</td>\n",
       "      <td>0</td>\n",
       "      <td>1.2524000</td>\n",
       "      <td>2023-08-11</td>\n",
       "      <td>VIAMERICAS USA DEPOSITS_UNITED STATES (ATM &amp; D...</td>\n",
       "      <td>1.2524</td>\n",
       "      <td>...</td>\n",
       "      <td>4.7575</td>\n",
       "      <td>2.5000</td>\n",
       "      <td>2.0866</td>\n",
       "      <td>1.4990</td>\n",
       "      <td>1.2500</td>\n",
       "      <td>0.7500</td>\n",
       "      <td>10.7260</td>\n",
       "      <td>7.3809</td>\n",
       "      <td>1.5000</td>\n",
       "      <td>4.0963</td>\n",
       "    </tr>\n",
       "    <tr>\n",
       "      <th>61640</th>\n",
       "      <td>VIAMERICAS USA DEPOSITS</td>\n",
       "      <td>UNITED STATES (ATM &amp; DEPOSITS)</td>\n",
       "      <td>2023-08-18</td>\n",
       "      <td>1</td>\n",
       "      <td>200.0000</td>\n",
       "      <td>0</td>\n",
       "      <td>1.0000000</td>\n",
       "      <td>2023-08-18</td>\n",
       "      <td>VIAMERICAS USA DEPOSITS_UNITED STATES (ATM &amp; D...</td>\n",
       "      <td>1.0000</td>\n",
       "      <td>...</td>\n",
       "      <td>1.2524</td>\n",
       "      <td>4.7575</td>\n",
       "      <td>2.5000</td>\n",
       "      <td>2.0866</td>\n",
       "      <td>1.4990</td>\n",
       "      <td>1.2500</td>\n",
       "      <td>0.7500</td>\n",
       "      <td>10.7260</td>\n",
       "      <td>7.3809</td>\n",
       "      <td>1.5000</td>\n",
       "    </tr>\n",
       "    <tr>\n",
       "      <th>104</th>\n",
       "      <td>VIAMERICAS USA DEPOSITS</td>\n",
       "      <td>UNITED STATES (ATM &amp; DEPOSITS)</td>\n",
       "      <td>2023-08-25</td>\n",
       "      <td>1</td>\n",
       "      <td>1000.0000</td>\n",
       "      <td>0</td>\n",
       "      <td>4.0172673</td>\n",
       "      <td>2023-08-25</td>\n",
       "      <td>VIAMERICAS USA DEPOSITS_UNITED STATES (ATM &amp; D...</td>\n",
       "      <td>4.0173</td>\n",
       "      <td>...</td>\n",
       "      <td>1.0000</td>\n",
       "      <td>1.2524</td>\n",
       "      <td>4.7575</td>\n",
       "      <td>2.5000</td>\n",
       "      <td>2.0866</td>\n",
       "      <td>1.4990</td>\n",
       "      <td>1.2500</td>\n",
       "      <td>0.7500</td>\n",
       "      <td>10.7260</td>\n",
       "      <td>7.3809</td>\n",
       "    </tr>\n",
       "    <tr>\n",
       "      <th>60151</th>\n",
       "      <td>VIAMERICAS USA DEPOSITS</td>\n",
       "      <td>UNITED STATES (ATM &amp; DEPOSITS)</td>\n",
       "      <td>2023-09-28</td>\n",
       "      <td>1</td>\n",
       "      <td>1000.0000</td>\n",
       "      <td>0</td>\n",
       "      <td>5.0000000</td>\n",
       "      <td>2023-09-28</td>\n",
       "      <td>VIAMERICAS USA DEPOSITS_UNITED STATES (ATM &amp; D...</td>\n",
       "      <td>5.0000</td>\n",
       "      <td>...</td>\n",
       "      <td>4.0173</td>\n",
       "      <td>1.0000</td>\n",
       "      <td>1.2524</td>\n",
       "      <td>4.7575</td>\n",
       "      <td>2.5000</td>\n",
       "      <td>2.0866</td>\n",
       "      <td>1.4990</td>\n",
       "      <td>1.2500</td>\n",
       "      <td>0.7500</td>\n",
       "      <td>10.7260</td>\n",
       "    </tr>\n",
       "  </tbody>\n",
       "</table>\n",
       "<p>5 rows × 141 columns</p>\n",
       "</div>"
      ],
      "text/plain": [
       "                         payer                         country       date  tx  \\\n",
       "31853  VIAMERICAS USA DEPOSITS  UNITED STATES (ATM & DEPOSITS) 2023-08-10   1   \n",
       "36124  VIAMERICAS USA DEPOSITS  UNITED STATES (ATM & DEPOSITS) 2023-08-11   1   \n",
       "61640  VIAMERICAS USA DEPOSITS  UNITED STATES (ATM & DEPOSITS) 2023-08-18   1   \n",
       "104    VIAMERICAS USA DEPOSITS  UNITED STATES (ATM & DEPOSITS) 2023-08-25   1   \n",
       "60151  VIAMERICAS USA DEPOSITS  UNITED STATES (ATM & DEPOSITS) 2023-09-28   1   \n",
       "\n",
       "          amount  coupon_count         gp        day  \\\n",
       "31853   951.5000             0  4.7575000 2023-08-10   \n",
       "36124   250.4800             0  1.2524000 2023-08-11   \n",
       "61640   200.0000             0  1.0000000 2023-08-18   \n",
       "104    1000.0000             0  4.0172673 2023-08-25   \n",
       "60151  1000.0000             0  5.0000000 2023-09-28   \n",
       "\n",
       "                                           payer_country  margin  ...  \\\n",
       "31853  VIAMERICAS USA DEPOSITS_UNITED STATES (ATM & D...  4.7575  ...   \n",
       "36124  VIAMERICAS USA DEPOSITS_UNITED STATES (ATM & D...  1.2524  ...   \n",
       "61640  VIAMERICAS USA DEPOSITS_UNITED STATES (ATM & D...  1.0000  ...   \n",
       "104    VIAMERICAS USA DEPOSITS_UNITED STATES (ATM & D...  4.0173  ...   \n",
       "60151  VIAMERICAS USA DEPOSITS_UNITED STATES (ATM & D...  5.0000  ...   \n",
       "\n",
       "      margin_lag_1 margin_lag_2 margin_lag_3 margin_lag_4 margin_lag_5  \\\n",
       "31853       2.5000       2.0866       1.4990       1.2500       0.7500   \n",
       "36124       4.7575       2.5000       2.0866       1.4990       1.2500   \n",
       "61640       1.2524       4.7575       2.5000       2.0866       1.4990   \n",
       "104         1.0000       1.2524       4.7575       2.5000       2.0866   \n",
       "60151       4.0173       1.0000       1.2524       4.7575       2.5000   \n",
       "\n",
       "      margin_lag_6 margin_lag_7 margin_lag_8 margin_lag_9 margin_lag_10  \n",
       "31853      10.7260       7.3809       1.5000       4.0963        1.5000  \n",
       "36124       0.7500      10.7260       7.3809       1.5000        4.0963  \n",
       "61640       1.2500       0.7500      10.7260       7.3809        1.5000  \n",
       "104         1.4990       1.2500       0.7500      10.7260        7.3809  \n",
       "60151       2.0866       1.4990       1.2500       0.7500       10.7260  \n",
       "\n",
       "[5 rows x 141 columns]"
      ]
     },
     "execution_count": 87,
     "metadata": {},
     "output_type": "execute_result"
    }
   ],
   "source": [
    "df1.tail()"
   ]
  },
  {
   "cell_type": "code",
   "execution_count": 92,
   "id": "f3cce428-798b-4914-b5b1-c5cda9d08a9d",
   "metadata": {
    "tags": []
   },
   "outputs": [],
   "source": [
    "df_final = pd.merge(df1,df2, on=['date','payer','country', 'payer_country', 'amount'], how='outer')\n",
    "df_final['date'] = pd.to_datetime(df_final['date'])"
   ]
  },
  {
   "cell_type": "code",
   "execution_count": 93,
   "id": "8e0dbed7-cdb5-4d99-b17c-5a54822404e6",
   "metadata": {
    "tags": []
   },
   "outputs": [
    {
     "data": {
      "text/html": [
       "<div>\n",
       "<style scoped>\n",
       "    .dataframe tbody tr th:only-of-type {\n",
       "        vertical-align: middle;\n",
       "    }\n",
       "\n",
       "    .dataframe tbody tr th {\n",
       "        vertical-align: top;\n",
       "    }\n",
       "\n",
       "    .dataframe thead th {\n",
       "        text-align: right;\n",
       "    }\n",
       "</style>\n",
       "<table border=\"1\" class=\"dataframe\">\n",
       "  <thead>\n",
       "    <tr style=\"text-align: right;\">\n",
       "      <th></th>\n",
       "      <th>payer</th>\n",
       "      <th>country</th>\n",
       "      <th>date</th>\n",
       "      <th>tx</th>\n",
       "      <th>amount</th>\n",
       "      <th>coupon_count</th>\n",
       "      <th>gp</th>\n",
       "      <th>day</th>\n",
       "      <th>payer_country</th>\n",
       "      <th>margin</th>\n",
       "      <th>...</th>\n",
       "      <th>var_tx_cancelled_lag_20</th>\n",
       "      <th>var_tx_cancelled_lag_21</th>\n",
       "      <th>var_tx_cancelled_lag_22</th>\n",
       "      <th>var_tx_cancelled_lag_23</th>\n",
       "      <th>var_tx_cancelled_lag_24</th>\n",
       "      <th>var_tx_cancelled_lag_25</th>\n",
       "      <th>var_tx_cancelled_lag_26</th>\n",
       "      <th>var_tx_cancelled_lag_27</th>\n",
       "      <th>var_tx_cancelled_lag_28</th>\n",
       "      <th>var_tx_cancelled_lag_29</th>\n",
       "    </tr>\n",
       "  </thead>\n",
       "  <tbody>\n",
       "    <tr>\n",
       "      <th>58340</th>\n",
       "      <td>ELEKTRA (MEXICO)</td>\n",
       "      <td>MEXICO</td>\n",
       "      <td>2022-07-04</td>\n",
       "      <td>8364</td>\n",
       "      <td>4152238.9200</td>\n",
       "      <td>90</td>\n",
       "      <td>54173.7271000</td>\n",
       "      <td>2022-07-04</td>\n",
       "      <td>ELEKTRA (MEXICO)_MEXICO</td>\n",
       "      <td>6.477</td>\n",
       "      <td>...</td>\n",
       "      <td>-75</td>\n",
       "      <td>73</td>\n",
       "      <td>-8</td>\n",
       "      <td>156</td>\n",
       "      <td>80</td>\n",
       "      <td>23</td>\n",
       "      <td>-69</td>\n",
       "      <td>-93</td>\n",
       "      <td>-29</td>\n",
       "      <td>-30</td>\n",
       "    </tr>\n",
       "  </tbody>\n",
       "</table>\n",
       "<p>1 rows × 201 columns</p>\n",
       "</div>"
      ],
      "text/plain": [
       "                  payer country       date    tx        amount  coupon_count  \\\n",
       "58340  ELEKTRA (MEXICO)  MEXICO 2022-07-04  8364  4152238.9200            90   \n",
       "\n",
       "                  gp        day            payer_country  margin  ...  \\\n",
       "58340  54173.7271000 2022-07-04  ELEKTRA (MEXICO)_MEXICO   6.477  ...   \n",
       "\n",
       "      var_tx_cancelled_lag_20 var_tx_cancelled_lag_21 var_tx_cancelled_lag_22  \\\n",
       "58340                     -75                      73                      -8   \n",
       "\n",
       "      var_tx_cancelled_lag_23 var_tx_cancelled_lag_24 var_tx_cancelled_lag_25  \\\n",
       "58340                     156                      80                      23   \n",
       "\n",
       "      var_tx_cancelled_lag_26 var_tx_cancelled_lag_27 var_tx_cancelled_lag_28  \\\n",
       "58340                     -69                     -93                     -29   \n",
       "\n",
       "      var_tx_cancelled_lag_29  \n",
       "58340                     -30  \n",
       "\n",
       "[1 rows x 201 columns]"
      ]
     },
     "execution_count": 93,
     "metadata": {},
     "output_type": "execute_result"
    }
   ],
   "source": [
    "df_final.loc[(df_final['payer_country'] == 'ELEKTRA (MEXICO)_MEXICO') & (df_final['date'] == '2022-07-04')]"
   ]
  },
  {
   "cell_type": "markdown",
   "id": "1dafc713-924a-453a-b70b-4379b55e716e",
   "metadata": {
    "tags": []
   },
   "source": [
    "### DUMMIES"
   ]
  },
  {
   "cell_type": "code",
   "execution_count": 97,
   "id": "49ef881a-3adc-4a51-b553-695b46f48a82",
   "metadata": {
    "tags": []
   },
   "outputs": [],
   "source": [
    "def mark_us_holidays(df):\n",
    "    \"\"\"\n",
    "    Mark US holidays\n",
    "\n",
    "    Args:\n",
    "        df (df): DataFrame containing a 'date' column in datetime format.\n",
    "\n",
    "    Returns:\n",
    "        DataFrame: DataFrame with an additional 'is_holiday' column, where 1 indicates a US holiday and 0 otherwise.\n",
    "    \"\"\"\n",
    "    # Load US holidays\n",
    "    us_holidays = holidays.US()\n",
    "    \n",
    "    # Define a function to check if a date is a holiday in the US\n",
    "    def is_us_holiday(date):\n",
    "        return 1 if date in us_holidays else 0\n",
    "    \n",
    "    # Apply the function to the 'date' column and create a new 'is_holiday' column\n",
    "    df_final['is_holiday'] = df_final['date'].apply(is_us_holiday)\n",
    "    \n",
    "    return df"
   ]
  },
  {
   "cell_type": "code",
   "execution_count": 98,
   "id": "7594a751-1914-40ed-a430-7a092ecb9b41",
   "metadata": {
    "tags": []
   },
   "outputs": [],
   "source": [
    "#Applying holiday function \n",
    "df_final = mark_us_holidays(df_final)"
   ]
  },
  {
   "cell_type": "code",
   "execution_count": 99,
   "id": "e0fc0ce2-f82e-4051-9b33-6de7fdce9271",
   "metadata": {
    "tags": []
   },
   "outputs": [],
   "source": [
    "def calculate_var_30ds(window, row, df_final):\n",
    "    \"\"\"\n",
    "    Calculate the var_30ds metric for a given row based on the average amount in the last 30 days.\n",
    "\n",
    "    Args:\n",
    "        window (int): The size of the window in days.\n",
    "        row (pd.Series): The row containing the data for which var_30ds is to be calculated.\n",
    "        df_final (pd.DataFrame): The DataFrame containing the historical data.\n",
    "\n",
    "    Returns:\n",
    "        float: The calculated var_30ds metric, or 0 if there are insufficient data or if division by zero occurs.\n",
    "        None: If the row does not correspond to a holiday.\n",
    "\n",
    "    \"\"\"\n",
    "    if row['is_holiday'] == 1:\n",
    "        # Filter the DataFrame to get only the last 30 days for the current 'payer_country'\n",
    "        filtered_df = df_final[(df_final['payer_country'] == row['payer_country']) & \n",
    "                               (df_final['date'] >= (row['date'] - pd.Timedelta(days=window))) & \n",
    "                               (df_final['date'] < row['date'])]\n",
    "        \n",
    "        # Check if there are sufficient data points to calculate the average and avoid division by zero errors\n",
    "        if len(filtered_df) > 0:\n",
    "            # Calculate the average 'amount' for the current 'payer_country' in the last 30 days\n",
    "            avg_amount = filtered_df['amount'].mean()\n",
    "#            print(row['payer_country'],row['date'], avg_amount)\n",
    "            \n",
    "            # Calculate var_30ds based on the specified formula\n",
    "            if avg_amount != 0 and row['amount'] != 0:\n",
    "                var_30ds = (float(row['amount']) / float(avg_amount)) - 1\n",
    "                return var_30ds\n",
    "            else:\n",
    "                return 0\n",
    "        else:\n",
    "            return 0\n",
    "    else:\n",
    "        return None\n"
   ]
  },
  {
   "cell_type": "code",
   "execution_count": 100,
   "id": "f9d4d152-72af-4ddd-90f8-d590344523ca",
   "metadata": {
    "tags": []
   },
   "outputs": [],
   "source": [
    "# Aplicar la función calculate_var_30ds a cada fila del DataFrame\n",
    "window = 30\n",
    "df_final['var_30ds'] = df_final.apply(lambda row: calculate_var_30ds(window, row, df_final), axis=1)"
   ]
  },
  {
   "cell_type": "code",
   "execution_count": 101,
   "id": "2dd0a256-94dc-47ac-a6d7-4ee26b8c4e2e",
   "metadata": {},
   "outputs": [],
   "source": [
    "#df_final[df_final['is_holiday'] == 1]['date'].unique()"
   ]
  },
  {
   "cell_type": "code",
   "execution_count": 102,
   "id": "799b709e-83ef-4080-98ff-5830d7fde1a7",
   "metadata": {
    "tags": []
   },
   "outputs": [],
   "source": [
    "def mark_fourth_july(df):\n",
    "    \"\"\"\n",
    "    Mark the Fourth of July in the DataFrame.\n",
    "\n",
    "    Args:\n",
    "        df (DataFrame): DataFrame containing a 'date' column in datetime format.\n",
    "\n",
    "    Returns:\n",
    "        DataFrame: DataFrame with an additional 'is_fourth_of_july' column.\n",
    "    \"\"\"\n",
    "    # Check if the date is the Fourth of July\n",
    "    df['is_fourth_of_july'] = (\n",
    "        (df['date'].dt.month == 7) & (df['date'].dt.day == 4)\n",
    "    ).astype(int)\n",
    "    \n",
    "    return df"
   ]
  },
  {
   "cell_type": "code",
   "execution_count": 103,
   "id": "54d143c9-f34e-4e50-b129-c8b2c20243e1",
   "metadata": {
    "tags": []
   },
   "outputs": [],
   "source": [
    "df_final = mark_fourth_july(df_final)"
   ]
  },
  {
   "cell_type": "code",
   "execution_count": null,
   "id": "dc0d0b51-775e-4b85-ac3b-8b6a0dfe0f66",
   "metadata": {
    "tags": []
   },
   "outputs": [],
   "source": [
    "# def calculate_var_30ds(window, row, df_final):\n",
    "#     if row['is_holiday'] == 1:\n",
    "#         # Filtrar el DataFrame para obtener solo los últimos 30 días para el 'payer_country' actual\n",
    "#         filter_condition = (df_final['payer_country'] == row['payer_country']) & (df_final['date'] >= (row['date'] - pd.Timedelta(days=window))) & (df_final['date'] < row['date'])\n",
    "#         filtered_df = df_final[filter_condition]\n",
    "        \n",
    "#         # Calcular el promedio de 'amount' para el 'payer_country' actual en los últimos 30 días\n",
    "#         avg_amount = filtered_df['amount'].mean()\n",
    "# #        print(avg_amount, row['amount'])\n",
    "\n",
    "#         if (row['payer_country'] == 'ELEKTRA (MEXICO)_MEXICO') & (row['date'] == datetime.strptime('2023-09-04', '%Y-%m-%d')):\n",
    "#             print(filtered_df)\n",
    "\n",
    "        \n",
    "#         # Calcular var_30ds según la fórmula especificada\n",
    "#         if avg_amount != 0 and row['amount'] != 0:\n",
    "# #            print('OK', row['payer_country'], row['date'], avg_amount, row['amount'], filtered_df['date'].min())\n",
    "#             var_30ds = float(row['amount']) / float(avg_amount) - 1 # Convertir avg_amount a flotante antes de la división\n",
    "#             return var_30ds  \n",
    "#         else:\n",
    "#             return 0\n",
    "#     else:\n",
    "#         return None"
   ]
  },
  {
   "cell_type": "code",
   "execution_count": 105,
   "id": "4fe0a0de-ced4-49ed-9f5e-eca4e4ad83b4",
   "metadata": {
    "tags": []
   },
   "outputs": [
    {
     "data": {
      "text/html": [
       "<div>\n",
       "<style scoped>\n",
       "    .dataframe tbody tr th:only-of-type {\n",
       "        vertical-align: middle;\n",
       "    }\n",
       "\n",
       "    .dataframe tbody tr th {\n",
       "        vertical-align: top;\n",
       "    }\n",
       "\n",
       "    .dataframe thead th {\n",
       "        text-align: right;\n",
       "    }\n",
       "</style>\n",
       "<table border=\"1\" class=\"dataframe\">\n",
       "  <thead>\n",
       "    <tr style=\"text-align: right;\">\n",
       "      <th></th>\n",
       "      <th>payer</th>\n",
       "      <th>country</th>\n",
       "      <th>date</th>\n",
       "      <th>tx</th>\n",
       "      <th>amount</th>\n",
       "      <th>coupon_count</th>\n",
       "      <th>gp</th>\n",
       "      <th>day</th>\n",
       "      <th>payer_country</th>\n",
       "      <th>margin</th>\n",
       "      <th>...</th>\n",
       "      <th>var_tx_cancelled_lag_23</th>\n",
       "      <th>var_tx_cancelled_lag_24</th>\n",
       "      <th>var_tx_cancelled_lag_25</th>\n",
       "      <th>var_tx_cancelled_lag_26</th>\n",
       "      <th>var_tx_cancelled_lag_27</th>\n",
       "      <th>var_tx_cancelled_lag_28</th>\n",
       "      <th>var_tx_cancelled_lag_29</th>\n",
       "      <th>is_holiday</th>\n",
       "      <th>var_30ds</th>\n",
       "      <th>is_fourth_of_july</th>\n",
       "    </tr>\n",
       "  </thead>\n",
       "  <tbody>\n",
       "    <tr>\n",
       "      <th>58340</th>\n",
       "      <td>ELEKTRA (MEXICO)</td>\n",
       "      <td>MEXICO</td>\n",
       "      <td>2022-07-04</td>\n",
       "      <td>8364</td>\n",
       "      <td>4152238.9200</td>\n",
       "      <td>90</td>\n",
       "      <td>54173.7271000</td>\n",
       "      <td>2022-07-04</td>\n",
       "      <td>ELEKTRA (MEXICO)_MEXICO</td>\n",
       "      <td>6.477</td>\n",
       "      <td>...</td>\n",
       "      <td>156</td>\n",
       "      <td>80</td>\n",
       "      <td>23</td>\n",
       "      <td>-69</td>\n",
       "      <td>-93</td>\n",
       "      <td>-29</td>\n",
       "      <td>-30</td>\n",
       "      <td>1</td>\n",
       "      <td>-0.431529</td>\n",
       "      <td>1</td>\n",
       "    </tr>\n",
       "  </tbody>\n",
       "</table>\n",
       "<p>1 rows × 204 columns</p>\n",
       "</div>"
      ],
      "text/plain": [
       "                  payer country       date    tx        amount  coupon_count  \\\n",
       "58340  ELEKTRA (MEXICO)  MEXICO 2022-07-04  8364  4152238.9200            90   \n",
       "\n",
       "                  gp        day            payer_country  margin  ...  \\\n",
       "58340  54173.7271000 2022-07-04  ELEKTRA (MEXICO)_MEXICO   6.477  ...   \n",
       "\n",
       "      var_tx_cancelled_lag_23 var_tx_cancelled_lag_24 var_tx_cancelled_lag_25  \\\n",
       "58340                     156                      80                      23   \n",
       "\n",
       "      var_tx_cancelled_lag_26 var_tx_cancelled_lag_27 var_tx_cancelled_lag_28  \\\n",
       "58340                     -69                     -93                     -29   \n",
       "\n",
       "      var_tx_cancelled_lag_29 is_holiday  var_30ds is_fourth_of_july  \n",
       "58340                     -30          1 -0.431529                 1  \n",
       "\n",
       "[1 rows x 204 columns]"
      ]
     },
     "execution_count": 105,
     "metadata": {},
     "output_type": "execute_result"
    }
   ],
   "source": [
    "df_final.loc[(df_final['payer_country'] == 'ELEKTRA (MEXICO)_MEXICO') & (df_final['date'] == '2022-07-04')]"
   ]
  },
  {
   "cell_type": "code",
   "execution_count": 108,
   "id": "0b0537d4-0277-4c56-90f0-9ae1f840ae2a",
   "metadata": {},
   "outputs": [
    {
     "data": {
      "text/plain": [
       "{'paths': ['s3://viamericas-datalake-dev-us-east-1-283731589572-analytics/ABTv2/ABTv2.csv'],\n",
       " 'partitions_values': {}}"
      ]
     },
     "execution_count": 108,
     "metadata": {},
     "output_type": "execute_result"
    }
   ],
   "source": [
    "bucket = 'viamericas-datalake-dev-us-east-1-283731589572-analytics'\n",
    "prefix_abt = 'ABTv2'\n",
    "file_name = 'ABTv2.csv'\n",
    "\n",
    "# Ruta S3\n",
    "s3_path = f\"s3://{bucket}/{prefix_abt}/{file_name}\"\n",
    "\n",
    "wr.s3.to_csv(df_final, path=s3_path, index=False)"
   ]
  }
 ],
 "metadata": {
  "availableInstances": [
   {
    "_defaultOrder": 0,
    "_isFastLaunch": true,
    "category": "General purpose",
    "gpuNum": 0,
    "hideHardwareSpecs": false,
    "memoryGiB": 4,
    "name": "ml.t3.medium",
    "vcpuNum": 2
   },
   {
    "_defaultOrder": 1,
    "_isFastLaunch": false,
    "category": "General purpose",
    "gpuNum": 0,
    "hideHardwareSpecs": false,
    "memoryGiB": 8,
    "name": "ml.t3.large",
    "vcpuNum": 2
   },
   {
    "_defaultOrder": 2,
    "_isFastLaunch": false,
    "category": "General purpose",
    "gpuNum": 0,
    "hideHardwareSpecs": false,
    "memoryGiB": 16,
    "name": "ml.t3.xlarge",
    "vcpuNum": 4
   },
   {
    "_defaultOrder": 3,
    "_isFastLaunch": false,
    "category": "General purpose",
    "gpuNum": 0,
    "hideHardwareSpecs": false,
    "memoryGiB": 32,
    "name": "ml.t3.2xlarge",
    "vcpuNum": 8
   },
   {
    "_defaultOrder": 4,
    "_isFastLaunch": true,
    "category": "General purpose",
    "gpuNum": 0,
    "hideHardwareSpecs": false,
    "memoryGiB": 8,
    "name": "ml.m5.large",
    "vcpuNum": 2
   },
   {
    "_defaultOrder": 5,
    "_isFastLaunch": false,
    "category": "General purpose",
    "gpuNum": 0,
    "hideHardwareSpecs": false,
    "memoryGiB": 16,
    "name": "ml.m5.xlarge",
    "vcpuNum": 4
   },
   {
    "_defaultOrder": 6,
    "_isFastLaunch": false,
    "category": "General purpose",
    "gpuNum": 0,
    "hideHardwareSpecs": false,
    "memoryGiB": 32,
    "name": "ml.m5.2xlarge",
    "vcpuNum": 8
   },
   {
    "_defaultOrder": 7,
    "_isFastLaunch": false,
    "category": "General purpose",
    "gpuNum": 0,
    "hideHardwareSpecs": false,
    "memoryGiB": 64,
    "name": "ml.m5.4xlarge",
    "vcpuNum": 16
   },
   {
    "_defaultOrder": 8,
    "_isFastLaunch": false,
    "category": "General purpose",
    "gpuNum": 0,
    "hideHardwareSpecs": false,
    "memoryGiB": 128,
    "name": "ml.m5.8xlarge",
    "vcpuNum": 32
   },
   {
    "_defaultOrder": 9,
    "_isFastLaunch": false,
    "category": "General purpose",
    "gpuNum": 0,
    "hideHardwareSpecs": false,
    "memoryGiB": 192,
    "name": "ml.m5.12xlarge",
    "vcpuNum": 48
   },
   {
    "_defaultOrder": 10,
    "_isFastLaunch": false,
    "category": "General purpose",
    "gpuNum": 0,
    "hideHardwareSpecs": false,
    "memoryGiB": 256,
    "name": "ml.m5.16xlarge",
    "vcpuNum": 64
   },
   {
    "_defaultOrder": 11,
    "_isFastLaunch": false,
    "category": "General purpose",
    "gpuNum": 0,
    "hideHardwareSpecs": false,
    "memoryGiB": 384,
    "name": "ml.m5.24xlarge",
    "vcpuNum": 96
   },
   {
    "_defaultOrder": 12,
    "_isFastLaunch": false,
    "category": "General purpose",
    "gpuNum": 0,
    "hideHardwareSpecs": false,
    "memoryGiB": 8,
    "name": "ml.m5d.large",
    "vcpuNum": 2
   },
   {
    "_defaultOrder": 13,
    "_isFastLaunch": false,
    "category": "General purpose",
    "gpuNum": 0,
    "hideHardwareSpecs": false,
    "memoryGiB": 16,
    "name": "ml.m5d.xlarge",
    "vcpuNum": 4
   },
   {
    "_defaultOrder": 14,
    "_isFastLaunch": false,
    "category": "General purpose",
    "gpuNum": 0,
    "hideHardwareSpecs": false,
    "memoryGiB": 32,
    "name": "ml.m5d.2xlarge",
    "vcpuNum": 8
   },
   {
    "_defaultOrder": 15,
    "_isFastLaunch": false,
    "category": "General purpose",
    "gpuNum": 0,
    "hideHardwareSpecs": false,
    "memoryGiB": 64,
    "name": "ml.m5d.4xlarge",
    "vcpuNum": 16
   },
   {
    "_defaultOrder": 16,
    "_isFastLaunch": false,
    "category": "General purpose",
    "gpuNum": 0,
    "hideHardwareSpecs": false,
    "memoryGiB": 128,
    "name": "ml.m5d.8xlarge",
    "vcpuNum": 32
   },
   {
    "_defaultOrder": 17,
    "_isFastLaunch": false,
    "category": "General purpose",
    "gpuNum": 0,
    "hideHardwareSpecs": false,
    "memoryGiB": 192,
    "name": "ml.m5d.12xlarge",
    "vcpuNum": 48
   },
   {
    "_defaultOrder": 18,
    "_isFastLaunch": false,
    "category": "General purpose",
    "gpuNum": 0,
    "hideHardwareSpecs": false,
    "memoryGiB": 256,
    "name": "ml.m5d.16xlarge",
    "vcpuNum": 64
   },
   {
    "_defaultOrder": 19,
    "_isFastLaunch": false,
    "category": "General purpose",
    "gpuNum": 0,
    "hideHardwareSpecs": false,
    "memoryGiB": 384,
    "name": "ml.m5d.24xlarge",
    "vcpuNum": 96
   },
   {
    "_defaultOrder": 20,
    "_isFastLaunch": false,
    "category": "General purpose",
    "gpuNum": 0,
    "hideHardwareSpecs": true,
    "memoryGiB": 0,
    "name": "ml.geospatial.interactive",
    "supportedImageNames": [
     "sagemaker-geospatial-v1-0"
    ],
    "vcpuNum": 0
   },
   {
    "_defaultOrder": 21,
    "_isFastLaunch": true,
    "category": "Compute optimized",
    "gpuNum": 0,
    "hideHardwareSpecs": false,
    "memoryGiB": 4,
    "name": "ml.c5.large",
    "vcpuNum": 2
   },
   {
    "_defaultOrder": 22,
    "_isFastLaunch": false,
    "category": "Compute optimized",
    "gpuNum": 0,
    "hideHardwareSpecs": false,
    "memoryGiB": 8,
    "name": "ml.c5.xlarge",
    "vcpuNum": 4
   },
   {
    "_defaultOrder": 23,
    "_isFastLaunch": false,
    "category": "Compute optimized",
    "gpuNum": 0,
    "hideHardwareSpecs": false,
    "memoryGiB": 16,
    "name": "ml.c5.2xlarge",
    "vcpuNum": 8
   },
   {
    "_defaultOrder": 24,
    "_isFastLaunch": false,
    "category": "Compute optimized",
    "gpuNum": 0,
    "hideHardwareSpecs": false,
    "memoryGiB": 32,
    "name": "ml.c5.4xlarge",
    "vcpuNum": 16
   },
   {
    "_defaultOrder": 25,
    "_isFastLaunch": false,
    "category": "Compute optimized",
    "gpuNum": 0,
    "hideHardwareSpecs": false,
    "memoryGiB": 72,
    "name": "ml.c5.9xlarge",
    "vcpuNum": 36
   },
   {
    "_defaultOrder": 26,
    "_isFastLaunch": false,
    "category": "Compute optimized",
    "gpuNum": 0,
    "hideHardwareSpecs": false,
    "memoryGiB": 96,
    "name": "ml.c5.12xlarge",
    "vcpuNum": 48
   },
   {
    "_defaultOrder": 27,
    "_isFastLaunch": false,
    "category": "Compute optimized",
    "gpuNum": 0,
    "hideHardwareSpecs": false,
    "memoryGiB": 144,
    "name": "ml.c5.18xlarge",
    "vcpuNum": 72
   },
   {
    "_defaultOrder": 28,
    "_isFastLaunch": false,
    "category": "Compute optimized",
    "gpuNum": 0,
    "hideHardwareSpecs": false,
    "memoryGiB": 192,
    "name": "ml.c5.24xlarge",
    "vcpuNum": 96
   },
   {
    "_defaultOrder": 29,
    "_isFastLaunch": true,
    "category": "Accelerated computing",
    "gpuNum": 1,
    "hideHardwareSpecs": false,
    "memoryGiB": 16,
    "name": "ml.g4dn.xlarge",
    "vcpuNum": 4
   },
   {
    "_defaultOrder": 30,
    "_isFastLaunch": false,
    "category": "Accelerated computing",
    "gpuNum": 1,
    "hideHardwareSpecs": false,
    "memoryGiB": 32,
    "name": "ml.g4dn.2xlarge",
    "vcpuNum": 8
   },
   {
    "_defaultOrder": 31,
    "_isFastLaunch": false,
    "category": "Accelerated computing",
    "gpuNum": 1,
    "hideHardwareSpecs": false,
    "memoryGiB": 64,
    "name": "ml.g4dn.4xlarge",
    "vcpuNum": 16
   },
   {
    "_defaultOrder": 32,
    "_isFastLaunch": false,
    "category": "Accelerated computing",
    "gpuNum": 1,
    "hideHardwareSpecs": false,
    "memoryGiB": 128,
    "name": "ml.g4dn.8xlarge",
    "vcpuNum": 32
   },
   {
    "_defaultOrder": 33,
    "_isFastLaunch": false,
    "category": "Accelerated computing",
    "gpuNum": 4,
    "hideHardwareSpecs": false,
    "memoryGiB": 192,
    "name": "ml.g4dn.12xlarge",
    "vcpuNum": 48
   },
   {
    "_defaultOrder": 34,
    "_isFastLaunch": false,
    "category": "Accelerated computing",
    "gpuNum": 1,
    "hideHardwareSpecs": false,
    "memoryGiB": 256,
    "name": "ml.g4dn.16xlarge",
    "vcpuNum": 64
   },
   {
    "_defaultOrder": 35,
    "_isFastLaunch": false,
    "category": "Accelerated computing",
    "gpuNum": 1,
    "hideHardwareSpecs": false,
    "memoryGiB": 61,
    "name": "ml.p3.2xlarge",
    "vcpuNum": 8
   },
   {
    "_defaultOrder": 36,
    "_isFastLaunch": false,
    "category": "Accelerated computing",
    "gpuNum": 4,
    "hideHardwareSpecs": false,
    "memoryGiB": 244,
    "name": "ml.p3.8xlarge",
    "vcpuNum": 32
   },
   {
    "_defaultOrder": 37,
    "_isFastLaunch": false,
    "category": "Accelerated computing",
    "gpuNum": 8,
    "hideHardwareSpecs": false,
    "memoryGiB": 488,
    "name": "ml.p3.16xlarge",
    "vcpuNum": 64
   },
   {
    "_defaultOrder": 38,
    "_isFastLaunch": false,
    "category": "Accelerated computing",
    "gpuNum": 8,
    "hideHardwareSpecs": false,
    "memoryGiB": 768,
    "name": "ml.p3dn.24xlarge",
    "vcpuNum": 96
   },
   {
    "_defaultOrder": 39,
    "_isFastLaunch": false,
    "category": "Memory Optimized",
    "gpuNum": 0,
    "hideHardwareSpecs": false,
    "memoryGiB": 16,
    "name": "ml.r5.large",
    "vcpuNum": 2
   },
   {
    "_defaultOrder": 40,
    "_isFastLaunch": false,
    "category": "Memory Optimized",
    "gpuNum": 0,
    "hideHardwareSpecs": false,
    "memoryGiB": 32,
    "name": "ml.r5.xlarge",
    "vcpuNum": 4
   },
   {
    "_defaultOrder": 41,
    "_isFastLaunch": false,
    "category": "Memory Optimized",
    "gpuNum": 0,
    "hideHardwareSpecs": false,
    "memoryGiB": 64,
    "name": "ml.r5.2xlarge",
    "vcpuNum": 8
   },
   {
    "_defaultOrder": 42,
    "_isFastLaunch": false,
    "category": "Memory Optimized",
    "gpuNum": 0,
    "hideHardwareSpecs": false,
    "memoryGiB": 128,
    "name": "ml.r5.4xlarge",
    "vcpuNum": 16
   },
   {
    "_defaultOrder": 43,
    "_isFastLaunch": false,
    "category": "Memory Optimized",
    "gpuNum": 0,
    "hideHardwareSpecs": false,
    "memoryGiB": 256,
    "name": "ml.r5.8xlarge",
    "vcpuNum": 32
   },
   {
    "_defaultOrder": 44,
    "_isFastLaunch": false,
    "category": "Memory Optimized",
    "gpuNum": 0,
    "hideHardwareSpecs": false,
    "memoryGiB": 384,
    "name": "ml.r5.12xlarge",
    "vcpuNum": 48
   },
   {
    "_defaultOrder": 45,
    "_isFastLaunch": false,
    "category": "Memory Optimized",
    "gpuNum": 0,
    "hideHardwareSpecs": false,
    "memoryGiB": 512,
    "name": "ml.r5.16xlarge",
    "vcpuNum": 64
   },
   {
    "_defaultOrder": 46,
    "_isFastLaunch": false,
    "category": "Memory Optimized",
    "gpuNum": 0,
    "hideHardwareSpecs": false,
    "memoryGiB": 768,
    "name": "ml.r5.24xlarge",
    "vcpuNum": 96
   },
   {
    "_defaultOrder": 47,
    "_isFastLaunch": false,
    "category": "Accelerated computing",
    "gpuNum": 1,
    "hideHardwareSpecs": false,
    "memoryGiB": 16,
    "name": "ml.g5.xlarge",
    "vcpuNum": 4
   },
   {
    "_defaultOrder": 48,
    "_isFastLaunch": false,
    "category": "Accelerated computing",
    "gpuNum": 1,
    "hideHardwareSpecs": false,
    "memoryGiB": 32,
    "name": "ml.g5.2xlarge",
    "vcpuNum": 8
   },
   {
    "_defaultOrder": 49,
    "_isFastLaunch": false,
    "category": "Accelerated computing",
    "gpuNum": 1,
    "hideHardwareSpecs": false,
    "memoryGiB": 64,
    "name": "ml.g5.4xlarge",
    "vcpuNum": 16
   },
   {
    "_defaultOrder": 50,
    "_isFastLaunch": false,
    "category": "Accelerated computing",
    "gpuNum": 1,
    "hideHardwareSpecs": false,
    "memoryGiB": 128,
    "name": "ml.g5.8xlarge",
    "vcpuNum": 32
   },
   {
    "_defaultOrder": 51,
    "_isFastLaunch": false,
    "category": "Accelerated computing",
    "gpuNum": 1,
    "hideHardwareSpecs": false,
    "memoryGiB": 256,
    "name": "ml.g5.16xlarge",
    "vcpuNum": 64
   },
   {
    "_defaultOrder": 52,
    "_isFastLaunch": false,
    "category": "Accelerated computing",
    "gpuNum": 4,
    "hideHardwareSpecs": false,
    "memoryGiB": 192,
    "name": "ml.g5.12xlarge",
    "vcpuNum": 48
   },
   {
    "_defaultOrder": 53,
    "_isFastLaunch": false,
    "category": "Accelerated computing",
    "gpuNum": 4,
    "hideHardwareSpecs": false,
    "memoryGiB": 384,
    "name": "ml.g5.24xlarge",
    "vcpuNum": 96
   },
   {
    "_defaultOrder": 54,
    "_isFastLaunch": false,
    "category": "Accelerated computing",
    "gpuNum": 8,
    "hideHardwareSpecs": false,
    "memoryGiB": 768,
    "name": "ml.g5.48xlarge",
    "vcpuNum": 192
   },
   {
    "_defaultOrder": 55,
    "_isFastLaunch": false,
    "category": "Accelerated computing",
    "gpuNum": 8,
    "hideHardwareSpecs": false,
    "memoryGiB": 1152,
    "name": "ml.p4d.24xlarge",
    "vcpuNum": 96
   },
   {
    "_defaultOrder": 56,
    "_isFastLaunch": false,
    "category": "Accelerated computing",
    "gpuNum": 8,
    "hideHardwareSpecs": false,
    "memoryGiB": 1152,
    "name": "ml.p4de.24xlarge",
    "vcpuNum": 96
   },
   {
    "_defaultOrder": 57,
    "_isFastLaunch": false,
    "category": "Accelerated computing",
    "gpuNum": 0,
    "hideHardwareSpecs": false,
    "memoryGiB": 32,
    "name": "ml.trn1.2xlarge",
    "vcpuNum": 8
   },
   {
    "_defaultOrder": 58,
    "_isFastLaunch": false,
    "category": "Accelerated computing",
    "gpuNum": 0,
    "hideHardwareSpecs": false,
    "memoryGiB": 512,
    "name": "ml.trn1.32xlarge",
    "vcpuNum": 128
   },
   {
    "_defaultOrder": 59,
    "_isFastLaunch": false,
    "category": "Accelerated computing",
    "gpuNum": 0,
    "hideHardwareSpecs": false,
    "memoryGiB": 512,
    "name": "ml.trn1n.32xlarge",
    "vcpuNum": 128
   }
  ],
  "instance_type": "ml.m5.2xlarge",
  "kernelspec": {
   "display_name": "Python 3 (Data Science 3.0)",
   "language": "python",
   "name": "python3__SAGEMAKER_INTERNAL__arn:aws:sagemaker:us-east-1:081325390199:image/sagemaker-data-science-310-v1"
  },
  "language_info": {
   "codemirror_mode": {
    "name": "ipython",
    "version": 3
   },
   "file_extension": ".py",
   "mimetype": "text/x-python",
   "name": "python",
   "nbconvert_exporter": "python",
   "pygments_lexer": "ipython3",
   "version": "3.10.6"
  }
 },
 "nbformat": 4,
 "nbformat_minor": 5
}
