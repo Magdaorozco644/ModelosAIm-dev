{
 "cells": [
  {
   "cell_type": "code",
   "execution_count": 3,
   "id": "09758d89-0f6c-4811-bdc0-b07d7eaa6b73",
   "metadata": {
    "tags": []
   },
   "outputs": [],
   "source": [
    "# !pip install awswrangler\n",
    "# !pip install skforecast\n",
    "# !pip install pmdarima"
   ]
  },
  {
   "cell_type": "code",
   "execution_count": 4,
   "id": "b07ad127-615b-42eb-906b-698c0311e4dc",
   "metadata": {
    "tags": []
   },
   "outputs": [],
   "source": [
    "import awswrangler as wr\n",
    "import pandas as pd\n",
    "import boto3\n",
    "import pickle\n",
    "from io import BytesIO\n",
    "from io import StringIO\n",
    "import joblib\n",
    "import os\n",
    "from datetime import datetime, timedelta\n",
    "import warnings\n",
    "\n",
    "# skforecast\n",
    "from skforecast.Sarimax import Sarimax\n",
    "from skforecast.ForecasterSarimax import ForecasterSarimax\n",
    "from skforecast.model_selection_sarimax import backtesting_sarimax\n",
    "from skforecast.model_selection_sarimax import grid_search_sarimax\n",
    "from sklearn.metrics import mean_absolute_error\n"
   ]
  },
  {
   "cell_type": "markdown",
   "id": "d8ed74f1-8a3b-4e7b-a919-bcc13deada3d",
   "metadata": {
    "tags": []
   },
   "source": [
    "### Levantando ABT y leyendo los pkls"
   ]
  },
  {
   "cell_type": "code",
   "execution_count": 5,
   "id": "497e38ec-b395-4684-8d5a-266512b27127",
   "metadata": {
    "tags": []
   },
   "outputs": [],
   "source": [
    "# Set up S3 client\n",
    "client = boto3.client('s3')\n",
    "bucket_name = 'viamericas-datalake-dev-us-east-1-283731589572-analytics'\n",
    "path = 'ABTv3/Last_releases_7d_8lags/' # Folder under analysis\n",
    "\n",
    "ABTversion = 'v3'\n",
    "path_ABT = f'ABT{ABTversion}/' "
   ]
  },
  {
   "cell_type": "code",
   "execution_count": 6,
   "id": "f64be7cb-017e-452e-9444-96f152a5fba5",
   "metadata": {
    "tags": []
   },
   "outputs": [
    {
     "name": "stdout",
     "output_type": "stream",
     "text": [
      "CSV file loaded\n"
     ]
    }
   ],
   "source": [
    "# Specify the CSV file key\n",
    "csv_key = None\n",
    "\n",
    "# List objects in the S3 path\n",
    "response = client.list_objects(Bucket=bucket_name, Prefix=path_ABT)\n",
    "\n",
    "# Find the CSV file in the S3 path\n",
    "for obj in response.get('Contents', []):\n",
    "    if obj['Key'].endswith('.csv'):\n",
    "        csv_key = obj['Key']\n",
    "        break\n",
    "        \n",
    "# Check if CSV file is found\n",
    "if csv_key is not None:\n",
    "    # Read CSV content from S3\n",
    "    csv_response = client.get_object(Bucket=bucket_name, Key=csv_key)\n",
    "    csv_content = csv_response['Body'].read().decode('utf-8')\n",
    "\n",
    "    # Transform CSV content to DataFrame\n",
    "    data = pd.read_csv(StringIO(csv_content))\n",
    "    data['date'] = pd.to_datetime(data['date']).dt.date\n",
    "    print(\"CSV file loaded\")\n",
    "else:\n",
    "    print(\"No CSV file found in the specified S3 path.\")"
   ]
  },
  {
   "cell_type": "code",
   "execution_count": 62,
   "id": "a256c9bc-e9e6-40b7-b1a7-e7a85abf36de",
   "metadata": {
    "tags": []
   },
   "outputs": [],
   "source": [
    "data['date'] = pd.to_datetime(data['date'])"
   ]
  },
  {
   "cell_type": "code",
   "execution_count": 63,
   "id": "2668c5d2-1e1a-46e8-ad85-ef68efd6ccd8",
   "metadata": {
    "tags": []
   },
   "outputs": [],
   "source": [
    "# Marcar con 1 en 'day_of_the_dead' cuando 'date' sea 2 de noviembre\n",
    "data.loc[data['date'].dt.month.eq(11) & data['date'].dt.day.eq(2), 'day_of_the_dead'] = 1"
   ]
  },
  {
   "cell_type": "code",
   "execution_count": 64,
   "id": "cb220530-5954-43b9-9330-8c3a106fe579",
   "metadata": {
    "tags": []
   },
   "outputs": [
    {
     "data": {
      "text/plain": [
       "26753064533.761703"
      ]
     },
     "execution_count": 64,
     "metadata": {},
     "output_type": "execute_result"
    }
   ],
   "source": [
    "data['amount'].sum()"
   ]
  },
  {
   "cell_type": "code",
   "execution_count": 38,
   "id": "6617f69b-df9f-40b2-870f-54dd6958c1f6",
   "metadata": {
    "tags": []
   },
   "outputs": [],
   "source": [
    "elements = client.list_objects(Bucket=bucket_name, Prefix=path)\n",
    "\n",
    "#Listing pkl files\n",
    "pkl_files = [obj['Key'] for obj in elements.get('Contents', []) if obj['Key'].endswith('.pkl')\n",
    "                and ('MODEL_7d' in obj['Key']) and not obj['Key'].endswith('_2d.pkl')]  # File structure "
   ]
  },
  {
   "cell_type": "code",
   "execution_count": 39,
   "id": "5774aa75-dcd3-4dab-871e-4dc62c21958b",
   "metadata": {
    "tags": []
   },
   "outputs": [
    {
     "data": {
      "text/plain": [
       "131"
      ]
     },
     "execution_count": 39,
     "metadata": {},
     "output_type": "execute_result"
    }
   ],
   "source": [
    "len(pkl_files)"
   ]
  },
  {
   "cell_type": "code",
   "execution_count": 40,
   "id": "18276523-b857-4ae1-8d92-ebef5ecc6a4b",
   "metadata": {
    "tags": []
   },
   "outputs": [],
   "source": [
    "today = datetime.now().date()"
   ]
  },
  {
   "cell_type": "markdown",
   "id": "6f79405e-4fb0-46c7-9e49-b132858c1786",
   "metadata": {
    "tags": []
   },
   "source": [
    "### Bucle para procesar todos"
   ]
  },
  {
   "cell_type": "code",
   "execution_count": 41,
   "id": "36f02302-7431-4cf6-b0d2-f1ac9caad585",
   "metadata": {},
   "outputs": [],
   "source": [
    "# Initialize an empty DataFrame to store the results\n",
    "df_temp = pd.DataFrame(columns=['date', 'pred', 'payer_country', 'model'])"
   ]
  },
  {
   "cell_type": "code",
   "execution_count": 66,
   "id": "19211045-c191-4760-9ca5-ff60d944e5f9",
   "metadata": {
    "tags": []
   },
   "outputs": [],
   "source": [
    "# Cuales son los que tengo que revisar\n",
    "payer_countries_pinched = []"
   ]
  },
  {
   "cell_type": "code",
   "execution_count": 67,
   "id": "709a0a42-e268-4e20-8595-c4e6afe85be3",
   "metadata": {
    "tags": []
   },
   "outputs": [
    {
     "name": "stdout",
     "output_type": "stream",
     "text": [
      "24XORO_MEXICO\n",
      "ABANK (TN)_EL SALVADOR\n",
      "AFEX_CHILE\n",
      "AFRO INTERNACIONAL_GUINEA\n",
      "AFRO INTERNACIONAL_SIERRA LEONE\n",
      "AIRPAK_MEXICO\n",
      "ARGENPER_ARGENTINA\n",
      "\u001b[1;31mError processing ARGENPER_ARGENTINA\u001b[0m\n",
      "ARGENPER_BOLIVIA\n",
      "\u001b[1;31mError processing ARGENPER_BOLIVIA\u001b[0m\n",
      "ARGENPER_CHILE\n",
      "ARGENPER_PERU\n",
      "BAM - BANCO AGROMERCANTIL (UT)_GUATEMALA\n",
      "BANCO AGRICOLA_EL SALVADOR\n",
      "BANCO ATLANTIDA_HONDURAS\n",
      "BANCO BHD LEON_DOMINICAN REPUBLIC\n",
      "BANCO BISA_BOLIVIA\n",
      "BANCO DAVIVIENDA SALVADORENO (BTS)_EL SALVADOR\n",
      "BANCO DAYCOVAL_BRAZIL\n",
      "BANCO DE CREDITO DEL PERU - BCP (UT)_PERU\n",
      "BANCO DE GUAYAQUIL_ECUADOR\n",
      "BANCO DE OCCIDENTE_HONDURAS\n",
      "BANCO DE ORO (BDO)_PHILIPPINES\n",
      "BANCO DEL AUSTRO_ECUADOR\n",
      "BANCO GANADERO (BOLIVIA)_BOLIVIA\n",
      "BANCO INDUSTRIAL ELS (RED CHAPINA)_EL SALVADOR\n",
      "\u001b[1;31mError processing BANCO INDUSTRIAL ELS (RED CHAPINA)_EL SALVADOR\u001b[0m\n",
      "BANCO INDUSTRIAL_GUATEMALA\n",
      "BANCO PICHINCHA (TN)_ECUADOR\n",
      "BANCO POPULAR HONDURAS (UT)_HONDURAS\n",
      "\u001b[1;31mError processing BANCO POPULAR HONDURAS (UT)_HONDURAS\u001b[0m\n",
      "BANCO RENDIMENTO_BRAZIL\n",
      "BANCOLOMBIA_COLOMBIA\n",
      "BANCOPPEL (APPRIZA)_MEXICO\n",
      "BANHCAFE_HONDURAS\n",
      "BANK OF PHILIPPINE ISLANDS (BPI)_PHILIPPINES\n",
      "BANORTE (UT)_MEXICO\n",
      "BANPAIS (RED CHAPINA)_HONDURAS\n",
      "BANPRO_NICARAGUA\n",
      "BANRURAL (HONDURAS)_HONDURAS\n",
      "BANRURAL (RYT)_GUATEMALA\n",
      "BANTRAB (UT)_GUATEMALA\n",
      "BBVA - BANCOMER (BTS)_MEXICO\n",
      "BNB_LIBERIA\n",
      "BNB_SENEGAL\n",
      "BNB_SIERRA LEONE\n",
      "\u001b[1;31mError processing BNB_SIERRA LEONE\u001b[0m\n",
      "CAJA POPULAR MEXICANA (UT)_MEXICO\n",
      "\u001b[1;31mError processing CAJA POPULAR MEXICANA (UT)_MEXICO\u001b[0m\n",
      "CARIBE EXPRESS_DOMINICAN REPUBLIC\n",
      "CEBUANA LHUILLIER_PHILIPPINES\n",
      "COOPERATIVA CACIL (UT)_HONDURAS\n",
      "COOPERATIVA FRONTERIZA (UT)_HONDURAS\n",
      "CREDOMATIC (BTS)_NICARAGUA\n",
      "CREDOMATIC_EL SALVADOR\n",
      "CUSCA (CITI - RECIBA NETWORKS)_EL SALVADOR\n",
      "DAVIVIENDA - HONDURAS (BTS)_HONDURAS\n",
      "DAVIVIENDA_COLOMBIA\n",
      "DEPOSITOS BANCARIOS GUATEMALA - ACH_GUATEMALA\n",
      "EASY PAGOS_ECUADOR\n",
      "ECUAGIROS_ECUADOR\n",
      "ELEKTRA (BTS)_GUATEMALA\n",
      "ELEKTRA (BTS)_HONDURAS\n",
      "ELEKTRA (MEXICO)_MEXICO\n",
      "EMPENOS DEL SUR (ANTERIOR BALSAS)_MEXICO\n",
      "ENVICON (ANTERIORMENTE ENVIOS CONFIANZA)_MEXICO\n",
      "ENVIOS CON CLABE (APPRIZA)_MEXICO\n",
      "FARMACIAS DEL AHORRO (DATRANSFER)_MEXICO\n",
      "FARMACIAS GUADALAJARA (UT)_MEXICO\n",
      "FEDECACES (EL SALVADOR)_EL SALVADOR\n",
      "FEDECREDITO (RYT)_EL SALVADOR\n",
      "FICOHSA_HONDURAS\n",
      "G Y T CONTINENTAL_GUATEMALA\n",
      "GIROSMEX_MEXICO\n",
      "\u001b[1;31mError processing GIROSMEX_MEXICO\u001b[0m\n",
      "GLOBAL ENVIOS_ECUADOR\n",
      "GME_NEPAL\n",
      "GRUPO EXITO (TN)_COLOMBIA\n",
      "INTERBANK_PERU\n",
      "INTERMEX_MEXICO\n",
      "JMMB_JAMAICA\n",
      "KORI_BENIN\n",
      "\u001b[1;31mError processing KORI_BENIN\u001b[0m\n",
      "KORI_BURKINA FASO\n",
      "\u001b[1;31mError processing KORI_BURKINA FASO\u001b[0m\n",
      "LAFISE_NICARAGUA\n",
      "MASTERCARD ATM NETWORK_UNITED STATES\n",
      "MERCHANTRADE_BANGLADESH\n",
      "MERCHANTRADE_INDONESIA\n",
      "MERCHANTRADE_MALAYSIA\n",
      "\u001b[1;31mError processing MERCHANTRADE_MALAYSIA\u001b[0m\n",
      "MERCHANTRADE_NEPAL\n",
      "MERCHANTRADE_THAILAND\n",
      "\u001b[1;31mError processing MERCHANTRADE_THAILAND\u001b[0m\n",
      "METROBANK_PHILIPPINES\n",
      "MICOOPE-FENACOAC (RED CHAPINA)_GUATEMALA\n",
      "MSBB MONEY_BRAZIL\n",
      "MUTHOOT-BANGLADESH_BANGLADESH\n",
      "\u001b[1;31mError processing MUTHOOT-BANGLADESH_BANGLADESH\u001b[0m\n",
      "MUTHOOT_INDIA\n",
      "NAFA_BURKINA FASO\n",
      "NAFA_COTE D'IVOIRE (IVORY COAST)\n",
      "NAFA_GAMBIA, THE\n",
      "NAFA_GUINEA\n",
      "NAFA_LIBERIA\n",
      "\u001b[1;31mError processing NAFA_LIBERIA\u001b[0m\n",
      "NAFA_MALI\n",
      "NAFA_SENEGAL\n",
      "NAFA_TOGO\n",
      "NAIRAGRAM_NIGERIA\n",
      "OXXO (TN)_MEXICO\n",
      "PROMERICA (GUA)_GUATEMALA\n",
      "PROMERICA_EL SALVADOR\n",
      "SORIANA_MEXICO\n",
      "SPEED MONEY_PHILIPPINES\n",
      "\u001b[1;31mError processing SPEED MONEY_PHILIPPINES\u001b[0m\n",
      "TELECOMM TELEGRAFOS (APPRIZA)_MEXICO\n",
      "TELEDOLAR (TN)_COSTA RICA\n",
      "TELEDOLAR-NIC (TN)_NICARAGUA\n",
      "TRANSFER DIRECTO_MEXICO\n",
      "TRANSFERTO - THUNES_BELGIUM\n",
      "\u001b[1;31mError processing TRANSFERTO - THUNES_BELGIUM\u001b[0m\n",
      "TRANSFERTO - THUNES_FRANCE\n",
      "\u001b[1;31mError processing TRANSFERTO - THUNES_FRANCE\u001b[0m\n",
      "TRANSFERTO - THUNES_GERMANY\n",
      "\u001b[1;31mError processing TRANSFERTO - THUNES_GERMANY\u001b[0m\n",
      "TRANSFERTO - THUNES_GHANA\n",
      "\u001b[1;31mError processing TRANSFERTO - THUNES_GHANA\u001b[0m\n",
      "TRANSFERTO - THUNES_ITALY\n",
      "\u001b[1;31mError processing TRANSFERTO - THUNES_ITALY\u001b[0m\n",
      "TRANSFERTO - THUNES_NIGERIA\n",
      "TRANSFERTO - THUNES_PORTUGAL\n",
      "TRANSFERTO - THUNES_SPAIN\n",
      "TRANSFERTO - THUNES_UNITED KINGDOM\n",
      "\u001b[1;31mError processing TRANSFERTO - THUNES_UNITED KINGDOM\u001b[0m\n",
      "TRANSPAY_BANGLADESH\n",
      "\u001b[1;31mError processing TRANSPAY_BANGLADESH\u001b[0m\n",
      "TRANSPAY_BENIN\n",
      "\u001b[1;31mError processing TRANSPAY_BENIN\u001b[0m\n",
      "TRANSPAY_CAMEROON\n",
      "\u001b[1;31mError processing TRANSPAY_CAMEROON\u001b[0m\n",
      "TRANSPAY_INDONESIA\n",
      "\u001b[1;31mError processing TRANSPAY_INDONESIA\u001b[0m\n",
      "TRANSPAY_SENEGAL\n",
      "\u001b[1;31mError processing TRANSPAY_SENEGAL\u001b[0m\n",
      "TRANSPAY_TOGO\n",
      "\u001b[1;31mError processing TRANSPAY_TOGO\u001b[0m\n",
      "UNITRANSFER_HAITI\n",
      "VIAMERICAS USA DEPOSITS (RT)_UNITED STATES\n",
      "\u001b[1;31mError processing VIAMERICAS USA DEPOSITS (RT)_UNITED STATES\u001b[0m\n",
      "VIAMERICAS USA DEPOSITS_UNITED STATES\n",
      "VTN_NIGERIA\n",
      "\u001b[1;31mError processing VTN_NIGERIA\u001b[0m\n",
      "WALDOS (APPRIZA)_MEXICO\n",
      "WALMART (UT)_MEXICO\n",
      "YES BANK_INDIA\n",
      "ZEEPAY_CAMEROON\n",
      "\u001b[1;31mError processing ZEEPAY_CAMEROON\u001b[0m\n",
      "ZEEPAY_COTE D'IVOIRE (IVORY COAST)\n",
      "\u001b[1;31mError processing ZEEPAY_COTE D'IVOIRE (IVORY COAST)\u001b[0m\n",
      "ZEEPAY_GHANA\n",
      "\u001b[1;31mError processing ZEEPAY_GHANA\u001b[0m\n"
     ]
    }
   ],
   "source": [
    "i = 1\n",
    "\n",
    "# Iterate over pkl files\n",
    "for file_key in pkl_files:\n",
    "    # Extract payer_country from file_key\n",
    "    payer_country = file_key.split('/')[2]\n",
    "    print(payer_country)\n",
    "    \n",
    "    # Download pkl file from S3 and load it into memory\n",
    "    response = client.get_object(Bucket=bucket_name, Key=file_key)\n",
    "    buffer = BytesIO(response['Body'].read())\n",
    "    forecaster = joblib.load(buffer)\n",
    "    \n",
    "    #### PAYER SETTING ####\n",
    "    # Filter data for the specific payer_country\n",
    "    datos = data[data['payer_country'] == payer_country].copy()\n",
    "#    datos = data.loc[data.payer_country == payer_country]\n",
    "    datos['date'] = pd.to_datetime(datos['date'])\n",
    "    datos.set_index('date', inplace=True)\n",
    "    datos = datos.asfreq('D')\n",
    "\n",
    "    # Predictions settings\n",
    "    last_window_date = forecaster.last_window.index[-1] + pd.Timedelta(days=1)\n",
    "    test_date = forecaster.last_window.index[-1] + pd.Timedelta(days=7) # The first test day would be the day to predict\n",
    "\n",
    "    # Extract data for last window and test period\n",
    "    data_last_window = datos.loc[last_window_date:test_date - pd.Timedelta(days=1)].copy()\n",
    "    data_last_window[forecaster.exog_col_names] = data_last_window[forecaster.exog_col_names].fillna(0)\n",
    "    data_test = datos.loc[test_date:test_date + pd.Timedelta(days=7)].copy()\n",
    "    data_test[forecaster.exog_col_names] = data_test[forecaster.exog_col_names].fillna(0)\n",
    "\n",
    "    try:\n",
    "        \n",
    "        with warnings.catch_warnings():\n",
    "            warnings.filterwarnings(\"ignore\")\n",
    "        # Make predictions\n",
    "        predictions = forecaster.predict(\n",
    "                          steps            = 7, # Days to predict\n",
    "                          exog             = data_test[forecaster.exog_col_names],\n",
    "                          last_window      = data_last_window['amount'],\n",
    "                          last_window_exog = data_last_window[forecaster.exog_col_names]\n",
    "                      )\n",
    "        # Store predictions in a temporary DataFrame\n",
    "        df_temp = pd.DataFrame(predictions, columns=['pred']).reset_index()\n",
    "\n",
    "    except:\n",
    "        # If an exception occurs, set predictions to zero\n",
    "        print(\"\\033[1;31m\" + f\"Error processing {payer_country}\" + \"\\033[0m\")\n",
    "        predictions = [0, 0]\n",
    "        df_temp = pd.DataFrame({'index': [test_date, test_date + pd.Timedelta(days=1)], 'pred': predictions})\n",
    "        payer_countries_pinched.append(payer_country)\n",
    "\n",
    "\n",
    "    # Add additional columns\n",
    "    df_temp['payer_country'] = payer_country\n",
    "    df_temp['model'] = file_key.split('/')[-1]\n",
    "\n",
    "    # Concatenate df_temp with the main DataFrame\n",
    "    if i:\n",
    "        temp_df = df_temp.copy()\n",
    "        i = 0\n",
    "    else:\n",
    "        temp_df = pd.concat([temp_df, df_temp], ignore_index=True)"
   ]
  },
  {
   "cell_type": "code",
   "execution_count": 70,
   "id": "8cbf1370-54ad-43ce-b68a-6b6a41e1b426",
   "metadata": {
    "tags": []
   },
   "outputs": [
    {
     "data": {
      "text/plain": [
       "['ARGENPER_ARGENTINA',\n",
       " 'ARGENPER_BOLIVIA',\n",
       " 'BANCO INDUSTRIAL ELS (RED CHAPINA)_EL SALVADOR',\n",
       " 'BANCO POPULAR HONDURAS (UT)_HONDURAS',\n",
       " 'BNB_SIERRA LEONE',\n",
       " 'CAJA POPULAR MEXICANA (UT)_MEXICO',\n",
       " 'GIROSMEX_MEXICO',\n",
       " 'KORI_BENIN',\n",
       " 'KORI_BURKINA FASO',\n",
       " 'MERCHANTRADE_MALAYSIA',\n",
       " 'MERCHANTRADE_THAILAND',\n",
       " 'MUTHOOT-BANGLADESH_BANGLADESH',\n",
       " 'NAFA_LIBERIA',\n",
       " 'SPEED MONEY_PHILIPPINES',\n",
       " 'TRANSFERTO - THUNES_BELGIUM',\n",
       " 'TRANSFERTO - THUNES_FRANCE',\n",
       " 'TRANSFERTO - THUNES_GERMANY',\n",
       " 'TRANSFERTO - THUNES_GHANA',\n",
       " 'TRANSFERTO - THUNES_ITALY',\n",
       " 'TRANSFERTO - THUNES_UNITED KINGDOM',\n",
       " 'TRANSPAY_BANGLADESH',\n",
       " 'TRANSPAY_BENIN',\n",
       " 'TRANSPAY_CAMEROON',\n",
       " 'TRANSPAY_INDONESIA',\n",
       " 'TRANSPAY_SENEGAL',\n",
       " 'TRANSPAY_TOGO',\n",
       " 'VIAMERICAS USA DEPOSITS (RT)_UNITED STATES',\n",
       " 'VTN_NIGERIA',\n",
       " 'ZEEPAY_CAMEROON',\n",
       " \"ZEEPAY_COTE D'IVOIRE (IVORY COAST)\",\n",
       " 'ZEEPAY_GHANA']"
      ]
     },
     "execution_count": 70,
     "metadata": {},
     "output_type": "execute_result"
    }
   ],
   "source": [
    "payer_countries_pinched"
   ]
  },
  {
   "cell_type": "code",
   "execution_count": 71,
   "id": "b15b642a-2119-4102-829a-e2044b66f801",
   "metadata": {
    "tags": []
   },
   "outputs": [
    {
     "data": {
      "text/html": [
       "<div>\n",
       "<style scoped>\n",
       "    .dataframe tbody tr th:only-of-type {\n",
       "        vertical-align: middle;\n",
       "    }\n",
       "\n",
       "    .dataframe tbody tr th {\n",
       "        vertical-align: top;\n",
       "    }\n",
       "\n",
       "    .dataframe thead th {\n",
       "        text-align: right;\n",
       "    }\n",
       "</style>\n",
       "<table border=\"1\" class=\"dataframe\">\n",
       "  <thead>\n",
       "    <tr style=\"text-align: right;\">\n",
       "      <th></th>\n",
       "      <th>index</th>\n",
       "      <th>pred</th>\n",
       "      <th>payer_country</th>\n",
       "      <th>model</th>\n",
       "    </tr>\n",
       "  </thead>\n",
       "  <tbody>\n",
       "    <tr>\n",
       "      <th>88</th>\n",
       "      <td>2023-12-25</td>\n",
       "      <td>-1542.579388</td>\n",
       "      <td>BANCO BISA_BOLIVIA</td>\n",
       "      <td>MODEL_7dBANCO BISA_BOLIVIA.pkl</td>\n",
       "    </tr>\n",
       "    <tr>\n",
       "      <th>169</th>\n",
       "      <td>2023-12-25</td>\n",
       "      <td>-56778.243308</td>\n",
       "      <td>BANCO RENDIMENTO_BRAZIL</td>\n",
       "      <td>MODEL_7dBANCO RENDIMENTO_BRAZIL.pkl</td>\n",
       "    </tr>\n",
       "    <tr>\n",
       "      <th>225</th>\n",
       "      <td>2023-12-25</td>\n",
       "      <td>-22445.473373</td>\n",
       "      <td>BANRURAL (HONDURAS)_HONDURAS</td>\n",
       "      <td>MODEL_7dBANRURAL (HONDURAS)_HONDURAS.pkl</td>\n",
       "    </tr>\n",
       "    <tr>\n",
       "      <th>362</th>\n",
       "      <td>2023-12-25</td>\n",
       "      <td>-59673.578578</td>\n",
       "      <td>ELEKTRA (BTS)_HONDURAS</td>\n",
       "      <td>MODEL_7dELEKTRA (BTS)_HONDURAS.pkl</td>\n",
       "    </tr>\n",
       "    <tr>\n",
       "      <th>476</th>\n",
       "      <td>2023-12-25</td>\n",
       "      <td>-168.070525</td>\n",
       "      <td>JMMB_JAMAICA</td>\n",
       "      <td>MODEL_7dJMMB_JAMAICA.pkl</td>\n",
       "    </tr>\n",
       "    <tr>\n",
       "      <th>478</th>\n",
       "      <td>2023-12-27</td>\n",
       "      <td>-105.307597</td>\n",
       "      <td>JMMB_JAMAICA</td>\n",
       "      <td>MODEL_7dJMMB_JAMAICA.pkl</td>\n",
       "    </tr>\n",
       "    <tr>\n",
       "      <th>479</th>\n",
       "      <td>2023-12-28</td>\n",
       "      <td>-7.734317</td>\n",
       "      <td>JMMB_JAMAICA</td>\n",
       "      <td>MODEL_7dJMMB_JAMAICA.pkl</td>\n",
       "    </tr>\n",
       "    <tr>\n",
       "      <th>480</th>\n",
       "      <td>2023-12-29</td>\n",
       "      <td>-94.230627</td>\n",
       "      <td>JMMB_JAMAICA</td>\n",
       "      <td>MODEL_7dJMMB_JAMAICA.pkl</td>\n",
       "    </tr>\n",
       "    <tr>\n",
       "      <th>482</th>\n",
       "      <td>2023-12-31</td>\n",
       "      <td>-177.859549</td>\n",
       "      <td>JMMB_JAMAICA</td>\n",
       "      <td>MODEL_7dJMMB_JAMAICA.pkl</td>\n",
       "    </tr>\n",
       "    <tr>\n",
       "      <th>523</th>\n",
       "      <td>2023-12-31</td>\n",
       "      <td>-139.172401</td>\n",
       "      <td>MERCHANTRADE_NEPAL</td>\n",
       "      <td>MODEL_7dMERCHANTRADE_NEPAL.pkl</td>\n",
       "    </tr>\n",
       "    <tr>\n",
       "      <th>554</th>\n",
       "      <td>2023-12-30</td>\n",
       "      <td>-2.723604</td>\n",
       "      <td>MUTHOOT_INDIA</td>\n",
       "      <td>MODEL_7dMUTHOOT_INDIA.pkl</td>\n",
       "    </tr>\n",
       "    <tr>\n",
       "      <th>688</th>\n",
       "      <td>2023-12-31</td>\n",
       "      <td>-189.842300</td>\n",
       "      <td>TRANSFERTO - THUNES_NIGERIA</td>\n",
       "      <td>MODEL_7dTRANSFERTO - THUNES_NIGERIA.pkl</td>\n",
       "    </tr>\n",
       "  </tbody>\n",
       "</table>\n",
       "</div>"
      ],
      "text/plain": [
       "         index          pred                 payer_country  \\\n",
       "88  2023-12-25  -1542.579388            BANCO BISA_BOLIVIA   \n",
       "169 2023-12-25 -56778.243308       BANCO RENDIMENTO_BRAZIL   \n",
       "225 2023-12-25 -22445.473373  BANRURAL (HONDURAS)_HONDURAS   \n",
       "362 2023-12-25 -59673.578578        ELEKTRA (BTS)_HONDURAS   \n",
       "476 2023-12-25   -168.070525                  JMMB_JAMAICA   \n",
       "478 2023-12-27   -105.307597                  JMMB_JAMAICA   \n",
       "479 2023-12-28     -7.734317                  JMMB_JAMAICA   \n",
       "480 2023-12-29    -94.230627                  JMMB_JAMAICA   \n",
       "482 2023-12-31   -177.859549                  JMMB_JAMAICA   \n",
       "523 2023-12-31   -139.172401            MERCHANTRADE_NEPAL   \n",
       "554 2023-12-30     -2.723604                 MUTHOOT_INDIA   \n",
       "688 2023-12-31   -189.842300   TRANSFERTO - THUNES_NIGERIA   \n",
       "\n",
       "                                        model  \n",
       "88             MODEL_7dBANCO BISA_BOLIVIA.pkl  \n",
       "169       MODEL_7dBANCO RENDIMENTO_BRAZIL.pkl  \n",
       "225  MODEL_7dBANRURAL (HONDURAS)_HONDURAS.pkl  \n",
       "362        MODEL_7dELEKTRA (BTS)_HONDURAS.pkl  \n",
       "476                  MODEL_7dJMMB_JAMAICA.pkl  \n",
       "478                  MODEL_7dJMMB_JAMAICA.pkl  \n",
       "479                  MODEL_7dJMMB_JAMAICA.pkl  \n",
       "480                  MODEL_7dJMMB_JAMAICA.pkl  \n",
       "482                  MODEL_7dJMMB_JAMAICA.pkl  \n",
       "523            MODEL_7dMERCHANTRADE_NEPAL.pkl  \n",
       "554                 MODEL_7dMUTHOOT_INDIA.pkl  \n",
       "688   MODEL_7dTRANSFERTO - THUNES_NIGERIA.pkl  "
      ]
     },
     "execution_count": 71,
     "metadata": {},
     "output_type": "execute_result"
    }
   ],
   "source": [
    "temp_df[temp_df['pred'] < 0]"
   ]
  },
  {
   "cell_type": "code",
   "execution_count": 72,
   "id": "a00be102-5250-4477-8d58-7767b039f6c9",
   "metadata": {
    "tags": []
   },
   "outputs": [],
   "source": [
    "# Replace values in 'pred' column with 0 where 'pred' is less than 0\n",
    "temp_df.loc[temp_df['pred'] < 0, 'pred'] = 0"
   ]
  },
  {
   "cell_type": "code",
   "execution_count": 73,
   "id": "4bd3f5a8-3a7e-4939-b261-ee45af7f9f5d",
   "metadata": {
    "tags": []
   },
   "outputs": [],
   "source": [
    "# Convert 'index' column to date format\n",
    "temp_df['index'] = pd.to_datetime(temp_df['index']).dt.date"
   ]
  },
  {
   "cell_type": "code",
   "execution_count": 74,
   "id": "9c8cc489-4819-42d3-a523-cd97534f180a",
   "metadata": {
    "tags": []
   },
   "outputs": [
    {
     "data": {
      "text/html": [
       "<div>\n",
       "<style scoped>\n",
       "    .dataframe tbody tr th:only-of-type {\n",
       "        vertical-align: middle;\n",
       "    }\n",
       "\n",
       "    .dataframe tbody tr th {\n",
       "        vertical-align: top;\n",
       "    }\n",
       "\n",
       "    .dataframe thead th {\n",
       "        text-align: right;\n",
       "    }\n",
       "</style>\n",
       "<table border=\"1\" class=\"dataframe\">\n",
       "  <thead>\n",
       "    <tr style=\"text-align: right;\">\n",
       "      <th></th>\n",
       "      <th>index</th>\n",
       "      <th>pred</th>\n",
       "      <th>payer_country</th>\n",
       "      <th>model</th>\n",
       "    </tr>\n",
       "  </thead>\n",
       "  <tbody>\n",
       "    <tr>\n",
       "      <th>0</th>\n",
       "      <td>2023-12-25</td>\n",
       "      <td>34262.482708</td>\n",
       "      <td>24XORO_MEXICO</td>\n",
       "      <td>MODEL_7d24XORO_MEXICO.pkl</td>\n",
       "    </tr>\n",
       "    <tr>\n",
       "      <th>1</th>\n",
       "      <td>2023-12-26</td>\n",
       "      <td>33697.560404</td>\n",
       "      <td>24XORO_MEXICO</td>\n",
       "      <td>MODEL_7d24XORO_MEXICO.pkl</td>\n",
       "    </tr>\n",
       "    <tr>\n",
       "      <th>2</th>\n",
       "      <td>2023-12-27</td>\n",
       "      <td>27710.331951</td>\n",
       "      <td>24XORO_MEXICO</td>\n",
       "      <td>MODEL_7d24XORO_MEXICO.pkl</td>\n",
       "    </tr>\n",
       "    <tr>\n",
       "      <th>3</th>\n",
       "      <td>2023-12-28</td>\n",
       "      <td>41453.183069</td>\n",
       "      <td>24XORO_MEXICO</td>\n",
       "      <td>MODEL_7d24XORO_MEXICO.pkl</td>\n",
       "    </tr>\n",
       "    <tr>\n",
       "      <th>4</th>\n",
       "      <td>2023-12-29</td>\n",
       "      <td>43495.725388</td>\n",
       "      <td>24XORO_MEXICO</td>\n",
       "      <td>MODEL_7d24XORO_MEXICO.pkl</td>\n",
       "    </tr>\n",
       "    <tr>\n",
       "      <th>...</th>\n",
       "      <td>...</td>\n",
       "      <td>...</td>\n",
       "      <td>...</td>\n",
       "      <td>...</td>\n",
       "    </tr>\n",
       "    <tr>\n",
       "      <th>757</th>\n",
       "      <td>2023-12-09</td>\n",
       "      <td>0.000000</td>\n",
       "      <td>ZEEPAY_CAMEROON</td>\n",
       "      <td>MODEL_7dZEEPAY_CAMEROON.pkl</td>\n",
       "    </tr>\n",
       "    <tr>\n",
       "      <th>758</th>\n",
       "      <td>2023-12-07</td>\n",
       "      <td>0.000000</td>\n",
       "      <td>ZEEPAY_COTE D'IVOIRE (IVORY COAST)</td>\n",
       "      <td>MODEL_7dZEEPAY_COTE D'IVOIRE (IVORY COAST).pkl</td>\n",
       "    </tr>\n",
       "    <tr>\n",
       "      <th>759</th>\n",
       "      <td>2023-12-08</td>\n",
       "      <td>0.000000</td>\n",
       "      <td>ZEEPAY_COTE D'IVOIRE (IVORY COAST)</td>\n",
       "      <td>MODEL_7dZEEPAY_COTE D'IVOIRE (IVORY COAST).pkl</td>\n",
       "    </tr>\n",
       "    <tr>\n",
       "      <th>760</th>\n",
       "      <td>2023-12-25</td>\n",
       "      <td>0.000000</td>\n",
       "      <td>ZEEPAY_GHANA</td>\n",
       "      <td>MODEL_7dZEEPAY_GHANA.pkl</td>\n",
       "    </tr>\n",
       "    <tr>\n",
       "      <th>761</th>\n",
       "      <td>2023-12-26</td>\n",
       "      <td>0.000000</td>\n",
       "      <td>ZEEPAY_GHANA</td>\n",
       "      <td>MODEL_7dZEEPAY_GHANA.pkl</td>\n",
       "    </tr>\n",
       "  </tbody>\n",
       "</table>\n",
       "<p>762 rows × 4 columns</p>\n",
       "</div>"
      ],
      "text/plain": [
       "          index          pred                       payer_country  \\\n",
       "0    2023-12-25  34262.482708                       24XORO_MEXICO   \n",
       "1    2023-12-26  33697.560404                       24XORO_MEXICO   \n",
       "2    2023-12-27  27710.331951                       24XORO_MEXICO   \n",
       "3    2023-12-28  41453.183069                       24XORO_MEXICO   \n",
       "4    2023-12-29  43495.725388                       24XORO_MEXICO   \n",
       "..          ...           ...                                 ...   \n",
       "757  2023-12-09      0.000000                     ZEEPAY_CAMEROON   \n",
       "758  2023-12-07      0.000000  ZEEPAY_COTE D'IVOIRE (IVORY COAST)   \n",
       "759  2023-12-08      0.000000  ZEEPAY_COTE D'IVOIRE (IVORY COAST)   \n",
       "760  2023-12-25      0.000000                        ZEEPAY_GHANA   \n",
       "761  2023-12-26      0.000000                        ZEEPAY_GHANA   \n",
       "\n",
       "                                              model  \n",
       "0                         MODEL_7d24XORO_MEXICO.pkl  \n",
       "1                         MODEL_7d24XORO_MEXICO.pkl  \n",
       "2                         MODEL_7d24XORO_MEXICO.pkl  \n",
       "3                         MODEL_7d24XORO_MEXICO.pkl  \n",
       "4                         MODEL_7d24XORO_MEXICO.pkl  \n",
       "..                                              ...  \n",
       "757                     MODEL_7dZEEPAY_CAMEROON.pkl  \n",
       "758  MODEL_7dZEEPAY_COTE D'IVOIRE (IVORY COAST).pkl  \n",
       "759  MODEL_7dZEEPAY_COTE D'IVOIRE (IVORY COAST).pkl  \n",
       "760                        MODEL_7dZEEPAY_GHANA.pkl  \n",
       "761                        MODEL_7dZEEPAY_GHANA.pkl  \n",
       "\n",
       "[762 rows x 4 columns]"
      ]
     },
     "execution_count": 74,
     "metadata": {},
     "output_type": "execute_result"
    }
   ],
   "source": [
    "temp_df"
   ]
  },
  {
   "cell_type": "code",
   "execution_count": 75,
   "id": "390fb1f8-dfea-4c71-8642-da145b185cb3",
   "metadata": {
    "tags": []
   },
   "outputs": [],
   "source": [
    "temp_df.rename(columns={'index':'pred_date'}, inplace=True)"
   ]
  },
  {
   "cell_type": "code",
   "execution_count": 76,
   "id": "1736a019-e785-4bf6-b529-aeb716f01a49",
   "metadata": {},
   "outputs": [],
   "source": [
    "# ## LEVANTO ULTIMA ABT ACTUALIZADA\n",
    "# prefix = 'abt_parquet/'\n",
    "\n",
    "# today = datetime.now().date()\n",
    "# yesterday = today - timedelta(days=1)\n",
    "\n",
    "# today_folder = 'dt=' + today.strftime('%Y-%m-%d') + '/'\n",
    "# yesterday_folder = 'dt=' + yesterday.strftime('%Y-%m-%d') + '/'"
   ]
  },
  {
   "cell_type": "code",
   "execution_count": 77,
   "id": "02c4c665-d3ca-4053-bd31-5a4a0a37f4b2",
   "metadata": {
    "tags": []
   },
   "outputs": [],
   "source": [
    "# objects = client.list_objects_v2(Bucket=bucket_name, Prefix=prefix+yesterday_folder)"
   ]
  },
  {
   "cell_type": "code",
   "execution_count": 78,
   "id": "7ce2b050-f5df-4172-912a-751525ef175a",
   "metadata": {
    "tags": []
   },
   "outputs": [],
   "source": [
    "# DB Setting\n",
    "bucket_name = 's3://viamericas-datalake-dev-us-east-1-283731589572-athena/'\n",
    "origin_name = 'AwsDataCatalog'\n",
    "database_name= 'analytics'\n",
    "table_name = 'daily_check_gp'"
   ]
  },
  {
   "cell_type": "code",
   "execution_count": 79,
   "id": "29815dcf-84e2-4799-b935-35a3a2ef98d0",
   "metadata": {
    "tags": []
   },
   "outputs": [
    {
     "name": "stderr",
     "output_type": "stream",
     "text": [
      "awswrangler.athena._utils INFO  Created CTAS table \"analytics\".\"temp_table_80f71945daaa46a8b41b1ceb0b2531c6\"\n"
     ]
    }
   ],
   "source": [
    "df = wr.athena.read_sql_table(\n",
    "    table=table_name,\n",
    "    database=database_name,\n",
    ")"
   ]
  },
  {
   "cell_type": "code",
   "execution_count": 80,
   "id": "6ec44790-9a38-4a11-9870-331890083d3c",
   "metadata": {
    "tags": []
   },
   "outputs": [],
   "source": [
    "df['payer_country'] = df['payer'] + '_' + df['country']"
   ]
  },
  {
   "cell_type": "code",
   "execution_count": 81,
   "id": "fb9e4764-84c1-4ec1-b2ae-c088d8c07efc",
   "metadata": {
    "tags": []
   },
   "outputs": [],
   "source": [
    "df_id = df[['payer_country', 'id_main_branch', 'id_country']].drop_duplicates().dropna(subset='id_main_branch')"
   ]
  },
  {
   "cell_type": "code",
   "execution_count": 82,
   "id": "38d4adad-f379-4627-9a84-52de8da52438",
   "metadata": {
    "tags": []
   },
   "outputs": [
    {
     "data": {
      "text/plain": [
       "334"
      ]
     },
     "execution_count": 82,
     "metadata": {},
     "output_type": "execute_result"
    }
   ],
   "source": [
    "len(df_id)"
   ]
  },
  {
   "cell_type": "code",
   "execution_count": 83,
   "id": "ab02e40b-8fff-480d-8665-54bd969e51d8",
   "metadata": {
    "tags": []
   },
   "outputs": [],
   "source": [
    "df_final = pd.merge(temp_df, df_id, on='payer_country', how='left')"
   ]
  },
  {
   "cell_type": "code",
   "execution_count": 84,
   "id": "f7c8396a-f418-4be9-bade-0f4d23877d82",
   "metadata": {
    "tags": []
   },
   "outputs": [],
   "source": [
    "# Insertar la columna 'processing_date' al principio del DataFrame\n",
    "df_final.insert(0, 'processing_date', today)"
   ]
  },
  {
   "cell_type": "code",
   "execution_count": 85,
   "id": "256e6973-84ad-4eb0-aaa6-f3ef4e0e9b21",
   "metadata": {
    "tags": []
   },
   "outputs": [],
   "source": [
    "df_final['processing_date'] = pd.to_datetime(df_final['processing_date'] )"
   ]
  },
  {
   "cell_type": "code",
   "execution_count": 86,
   "id": "579d734a-ffc7-4990-a033-a3085443c0b4",
   "metadata": {
    "tags": []
   },
   "outputs": [
    {
     "data": {
      "text/plain": [
       "0"
      ]
     },
     "execution_count": 86,
     "metadata": {},
     "output_type": "execute_result"
    }
   ],
   "source": [
    "df_final['id_country'].isnull().sum()"
   ]
  },
  {
   "cell_type": "code",
   "execution_count": 87,
   "id": "413ecc4a-a720-4c85-bab1-fbf41154e756",
   "metadata": {
    "tags": []
   },
   "outputs": [
    {
     "data": {
      "text/plain": [
       "0"
      ]
     },
     "execution_count": 87,
     "metadata": {},
     "output_type": "execute_result"
    }
   ],
   "source": [
    "df_final['id_main_branch'].isnull().sum()"
   ]
  },
  {
   "cell_type": "code",
   "execution_count": 88,
   "id": "2d7e653c-9831-4a53-8436-b89f729a1c55",
   "metadata": {
    "tags": []
   },
   "outputs": [],
   "source": [
    "# Splitting 'payer' & 'country'\n",
    "df_final[['payer', 'country']] = df_final['payer_country'].str.split('_', expand=True)"
   ]
  },
  {
   "cell_type": "code",
   "execution_count": 89,
   "id": "85ac0c2e-fea5-42fc-88b6-f8814ae20e6f",
   "metadata": {
    "tags": []
   },
   "outputs": [
    {
     "data": {
      "text/html": [
       "<div>\n",
       "<style scoped>\n",
       "    .dataframe tbody tr th:only-of-type {\n",
       "        vertical-align: middle;\n",
       "    }\n",
       "\n",
       "    .dataframe tbody tr th {\n",
       "        vertical-align: top;\n",
       "    }\n",
       "\n",
       "    .dataframe thead th {\n",
       "        text-align: right;\n",
       "    }\n",
       "</style>\n",
       "<table border=\"1\" class=\"dataframe\">\n",
       "  <thead>\n",
       "    <tr style=\"text-align: right;\">\n",
       "      <th></th>\n",
       "      <th>processing_date</th>\n",
       "      <th>pred_date</th>\n",
       "      <th>pred</th>\n",
       "      <th>payer_country</th>\n",
       "      <th>model</th>\n",
       "      <th>id_main_branch</th>\n",
       "      <th>id_country</th>\n",
       "      <th>payer</th>\n",
       "      <th>country</th>\n",
       "    </tr>\n",
       "  </thead>\n",
       "  <tbody>\n",
       "    <tr>\n",
       "      <th>0</th>\n",
       "      <td>2024-03-25</td>\n",
       "      <td>2023-12-25</td>\n",
       "      <td>34262.482708</td>\n",
       "      <td>24XORO_MEXICO</td>\n",
       "      <td>MODEL_7d24XORO_MEXICO.pkl</td>\n",
       "      <td>T314</td>\n",
       "      <td>MEX</td>\n",
       "      <td>24XORO</td>\n",
       "      <td>MEXICO</td>\n",
       "    </tr>\n",
       "    <tr>\n",
       "      <th>1</th>\n",
       "      <td>2024-03-25</td>\n",
       "      <td>2023-12-26</td>\n",
       "      <td>33697.560404</td>\n",
       "      <td>24XORO_MEXICO</td>\n",
       "      <td>MODEL_7d24XORO_MEXICO.pkl</td>\n",
       "      <td>T314</td>\n",
       "      <td>MEX</td>\n",
       "      <td>24XORO</td>\n",
       "      <td>MEXICO</td>\n",
       "    </tr>\n",
       "    <tr>\n",
       "      <th>2</th>\n",
       "      <td>2024-03-25</td>\n",
       "      <td>2023-12-27</td>\n",
       "      <td>27710.331951</td>\n",
       "      <td>24XORO_MEXICO</td>\n",
       "      <td>MODEL_7d24XORO_MEXICO.pkl</td>\n",
       "      <td>T314</td>\n",
       "      <td>MEX</td>\n",
       "      <td>24XORO</td>\n",
       "      <td>MEXICO</td>\n",
       "    </tr>\n",
       "    <tr>\n",
       "      <th>3</th>\n",
       "      <td>2024-03-25</td>\n",
       "      <td>2023-12-28</td>\n",
       "      <td>41453.183069</td>\n",
       "      <td>24XORO_MEXICO</td>\n",
       "      <td>MODEL_7d24XORO_MEXICO.pkl</td>\n",
       "      <td>T314</td>\n",
       "      <td>MEX</td>\n",
       "      <td>24XORO</td>\n",
       "      <td>MEXICO</td>\n",
       "    </tr>\n",
       "    <tr>\n",
       "      <th>4</th>\n",
       "      <td>2024-03-25</td>\n",
       "      <td>2023-12-29</td>\n",
       "      <td>43495.725388</td>\n",
       "      <td>24XORO_MEXICO</td>\n",
       "      <td>MODEL_7d24XORO_MEXICO.pkl</td>\n",
       "      <td>T314</td>\n",
       "      <td>MEX</td>\n",
       "      <td>24XORO</td>\n",
       "      <td>MEXICO</td>\n",
       "    </tr>\n",
       "  </tbody>\n",
       "</table>\n",
       "</div>"
      ],
      "text/plain": [
       "  processing_date   pred_date          pred  payer_country  \\\n",
       "0      2024-03-25  2023-12-25  34262.482708  24XORO_MEXICO   \n",
       "1      2024-03-25  2023-12-26  33697.560404  24XORO_MEXICO   \n",
       "2      2024-03-25  2023-12-27  27710.331951  24XORO_MEXICO   \n",
       "3      2024-03-25  2023-12-28  41453.183069  24XORO_MEXICO   \n",
       "4      2024-03-25  2023-12-29  43495.725388  24XORO_MEXICO   \n",
       "\n",
       "                       model id_main_branch id_country   payer country  \n",
       "0  MODEL_7d24XORO_MEXICO.pkl           T314        MEX  24XORO  MEXICO  \n",
       "1  MODEL_7d24XORO_MEXICO.pkl           T314        MEX  24XORO  MEXICO  \n",
       "2  MODEL_7d24XORO_MEXICO.pkl           T314        MEX  24XORO  MEXICO  \n",
       "3  MODEL_7d24XORO_MEXICO.pkl           T314        MEX  24XORO  MEXICO  \n",
       "4  MODEL_7d24XORO_MEXICO.pkl           T314        MEX  24XORO  MEXICO  "
      ]
     },
     "execution_count": 89,
     "metadata": {},
     "output_type": "execute_result"
    }
   ],
   "source": [
    "df_final.head()"
   ]
  },
  {
   "cell_type": "code",
   "execution_count": 90,
   "id": "1ae96aad-0cdc-4f23-81b4-a5944d97db22",
   "metadata": {},
   "outputs": [
    {
     "name": "stdout",
     "output_type": "stream",
     "text": [
      "<class 'pandas.core.frame.DataFrame'>\n",
      "RangeIndex: 762 entries, 0 to 761\n",
      "Data columns (total 9 columns):\n",
      " #   Column           Non-Null Count  Dtype         \n",
      "---  ------           --------------  -----         \n",
      " 0   processing_date  762 non-null    datetime64[ns]\n",
      " 1   pred_date        762 non-null    object        \n",
      " 2   pred             762 non-null    float64       \n",
      " 3   payer_country    762 non-null    object        \n",
      " 4   model            762 non-null    object        \n",
      " 5   id_main_branch   762 non-null    string        \n",
      " 6   id_country       762 non-null    string        \n",
      " 7   payer            762 non-null    object        \n",
      " 8   country          762 non-null    object        \n",
      "dtypes: datetime64[ns](1), float64(1), object(5), string(2)\n",
      "memory usage: 53.7+ KB\n"
     ]
    }
   ],
   "source": [
    "df_final.info()"
   ]
  },
  {
   "cell_type": "code",
   "execution_count": 95,
   "id": "ae7bc499-8d92-4fe2-b0fd-be28f1b0e356",
   "metadata": {},
   "outputs": [
    {
     "data": {
      "text/plain": [
       "{'paths': ['s3://s3://viamericas-datalake-dev-us-east-1-283731589572-athena/ABTv3/Last_releases_7d_8lags/predictions_8d.parquet/fa3dd84a395a4c4a85d3f978d06f27ca.snappy.parquet'],\n",
       " 'partitions_values': {}}"
      ]
     },
     "execution_count": 95,
     "metadata": {},
     "output_type": "execute_result"
    }
   ],
   "source": [
    "file_name = 'predictions_8d.parquet'\n",
    "path_s3 = 's3://'+bucket_name+path+file_name\n",
    "\n",
    "# Guarda el DataFrame en formato Parquet en S3\n",
    "wr.s3.to_parquet(df_final, path=path_s3, dataset=True, index=False)\n"
   ]
  },
  {
   "cell_type": "code",
   "execution_count": 96,
   "id": "0e0fa310-0981-48c8-abc6-40b4efed6fc0",
   "metadata": {
    "tags": []
   },
   "outputs": [
    {
     "data": {
      "text/plain": [
       "{'paths': ['s3://s3://viamericas-datalake-dev-us-east-1-283731589572-athena/ABTv3/Last_releases_7d_8lags/predictions_8d.csv/31aa71b0ac1d4b3382e922a2a658f2bc.csv'],\n",
       " 'partitions_values': {}}"
      ]
     },
     "execution_count": 96,
     "metadata": {},
     "output_type": "execute_result"
    }
   ],
   "source": [
    "file_name = 'predictions_8d.csv'\n",
    "path_s3 = 's3://'+bucket_name+path+file_name\n",
    "\n",
    "# Guarda el DataFrame en formato Parquet en S3\n",
    "wr.s3.to_csv(df_final, path=path_s3, dataset=True, index=False)"
   ]
  },
  {
   "cell_type": "code",
   "execution_count": 98,
   "id": "1c5f0465-1305-4dce-88ec-22f1c59a6dfd",
   "metadata": {
    "tags": []
   },
   "outputs": [
    {
     "data": {
      "text/html": [
       "<div>\n",
       "<style scoped>\n",
       "    .dataframe tbody tr th:only-of-type {\n",
       "        vertical-align: middle;\n",
       "    }\n",
       "\n",
       "    .dataframe tbody tr th {\n",
       "        vertical-align: top;\n",
       "    }\n",
       "\n",
       "    .dataframe thead th {\n",
       "        text-align: right;\n",
       "    }\n",
       "</style>\n",
       "<table border=\"1\" class=\"dataframe\">\n",
       "  <thead>\n",
       "    <tr style=\"text-align: right;\">\n",
       "      <th></th>\n",
       "      <th>processing_date</th>\n",
       "      <th>pred_date</th>\n",
       "      <th>pred</th>\n",
       "      <th>payer_country</th>\n",
       "      <th>model</th>\n",
       "      <th>id_main_branch</th>\n",
       "      <th>id_country</th>\n",
       "      <th>payer</th>\n",
       "      <th>country</th>\n",
       "    </tr>\n",
       "  </thead>\n",
       "  <tbody>\n",
       "    <tr>\n",
       "      <th>0</th>\n",
       "      <td>2024-03-25</td>\n",
       "      <td>2023-12-25</td>\n",
       "      <td>34262.482708</td>\n",
       "      <td>24XORO_MEXICO</td>\n",
       "      <td>MODEL_7d24XORO_MEXICO.pkl</td>\n",
       "      <td>T314</td>\n",
       "      <td>MEX</td>\n",
       "      <td>24XORO</td>\n",
       "      <td>MEXICO</td>\n",
       "    </tr>\n",
       "    <tr>\n",
       "      <th>1</th>\n",
       "      <td>2024-03-25</td>\n",
       "      <td>2023-12-26</td>\n",
       "      <td>33697.560404</td>\n",
       "      <td>24XORO_MEXICO</td>\n",
       "      <td>MODEL_7d24XORO_MEXICO.pkl</td>\n",
       "      <td>T314</td>\n",
       "      <td>MEX</td>\n",
       "      <td>24XORO</td>\n",
       "      <td>MEXICO</td>\n",
       "    </tr>\n",
       "    <tr>\n",
       "      <th>2</th>\n",
       "      <td>2024-03-25</td>\n",
       "      <td>2023-12-27</td>\n",
       "      <td>27710.331951</td>\n",
       "      <td>24XORO_MEXICO</td>\n",
       "      <td>MODEL_7d24XORO_MEXICO.pkl</td>\n",
       "      <td>T314</td>\n",
       "      <td>MEX</td>\n",
       "      <td>24XORO</td>\n",
       "      <td>MEXICO</td>\n",
       "    </tr>\n",
       "    <tr>\n",
       "      <th>3</th>\n",
       "      <td>2024-03-25</td>\n",
       "      <td>2023-12-28</td>\n",
       "      <td>41453.183069</td>\n",
       "      <td>24XORO_MEXICO</td>\n",
       "      <td>MODEL_7d24XORO_MEXICO.pkl</td>\n",
       "      <td>T314</td>\n",
       "      <td>MEX</td>\n",
       "      <td>24XORO</td>\n",
       "      <td>MEXICO</td>\n",
       "    </tr>\n",
       "    <tr>\n",
       "      <th>4</th>\n",
       "      <td>2024-03-25</td>\n",
       "      <td>2023-12-29</td>\n",
       "      <td>43495.725388</td>\n",
       "      <td>24XORO_MEXICO</td>\n",
       "      <td>MODEL_7d24XORO_MEXICO.pkl</td>\n",
       "      <td>T314</td>\n",
       "      <td>MEX</td>\n",
       "      <td>24XORO</td>\n",
       "      <td>MEXICO</td>\n",
       "    </tr>\n",
       "    <tr>\n",
       "      <th>5</th>\n",
       "      <td>2024-03-25</td>\n",
       "      <td>2023-12-30</td>\n",
       "      <td>32616.550238</td>\n",
       "      <td>24XORO_MEXICO</td>\n",
       "      <td>MODEL_7d24XORO_MEXICO.pkl</td>\n",
       "      <td>T314</td>\n",
       "      <td>MEX</td>\n",
       "      <td>24XORO</td>\n",
       "      <td>MEXICO</td>\n",
       "    </tr>\n",
       "    <tr>\n",
       "      <th>6</th>\n",
       "      <td>2024-03-25</td>\n",
       "      <td>2023-12-31</td>\n",
       "      <td>52192.900937</td>\n",
       "      <td>24XORO_MEXICO</td>\n",
       "      <td>MODEL_7d24XORO_MEXICO.pkl</td>\n",
       "      <td>T314</td>\n",
       "      <td>MEX</td>\n",
       "      <td>24XORO</td>\n",
       "      <td>MEXICO</td>\n",
       "    </tr>\n",
       "    <tr>\n",
       "      <th>7</th>\n",
       "      <td>2024-03-25</td>\n",
       "      <td>2023-12-25</td>\n",
       "      <td>8958.847975</td>\n",
       "      <td>ABANK (TN)_EL SALVADOR</td>\n",
       "      <td>MODEL_7dABANK (TN)_EL SALVADOR.pkl</td>\n",
       "      <td>T282</td>\n",
       "      <td>ELS</td>\n",
       "      <td>ABANK (TN)</td>\n",
       "      <td>EL SALVADOR</td>\n",
       "    </tr>\n",
       "    <tr>\n",
       "      <th>8</th>\n",
       "      <td>2024-03-25</td>\n",
       "      <td>2023-12-26</td>\n",
       "      <td>8264.580743</td>\n",
       "      <td>ABANK (TN)_EL SALVADOR</td>\n",
       "      <td>MODEL_7dABANK (TN)_EL SALVADOR.pkl</td>\n",
       "      <td>T282</td>\n",
       "      <td>ELS</td>\n",
       "      <td>ABANK (TN)</td>\n",
       "      <td>EL SALVADOR</td>\n",
       "    </tr>\n",
       "    <tr>\n",
       "      <th>9</th>\n",
       "      <td>2024-03-25</td>\n",
       "      <td>2023-12-27</td>\n",
       "      <td>10240.806858</td>\n",
       "      <td>ABANK (TN)_EL SALVADOR</td>\n",
       "      <td>MODEL_7dABANK (TN)_EL SALVADOR.pkl</td>\n",
       "      <td>T282</td>\n",
       "      <td>ELS</td>\n",
       "      <td>ABANK (TN)</td>\n",
       "      <td>EL SALVADOR</td>\n",
       "    </tr>\n",
       "    <tr>\n",
       "      <th>10</th>\n",
       "      <td>2024-03-25</td>\n",
       "      <td>2023-12-28</td>\n",
       "      <td>10957.701522</td>\n",
       "      <td>ABANK (TN)_EL SALVADOR</td>\n",
       "      <td>MODEL_7dABANK (TN)_EL SALVADOR.pkl</td>\n",
       "      <td>T282</td>\n",
       "      <td>ELS</td>\n",
       "      <td>ABANK (TN)</td>\n",
       "      <td>EL SALVADOR</td>\n",
       "    </tr>\n",
       "    <tr>\n",
       "      <th>11</th>\n",
       "      <td>2024-03-25</td>\n",
       "      <td>2023-12-29</td>\n",
       "      <td>19683.940575</td>\n",
       "      <td>ABANK (TN)_EL SALVADOR</td>\n",
       "      <td>MODEL_7dABANK (TN)_EL SALVADOR.pkl</td>\n",
       "      <td>T282</td>\n",
       "      <td>ELS</td>\n",
       "      <td>ABANK (TN)</td>\n",
       "      <td>EL SALVADOR</td>\n",
       "    </tr>\n",
       "    <tr>\n",
       "      <th>12</th>\n",
       "      <td>2024-03-25</td>\n",
       "      <td>2023-12-30</td>\n",
       "      <td>18551.182956</td>\n",
       "      <td>ABANK (TN)_EL SALVADOR</td>\n",
       "      <td>MODEL_7dABANK (TN)_EL SALVADOR.pkl</td>\n",
       "      <td>T282</td>\n",
       "      <td>ELS</td>\n",
       "      <td>ABANK (TN)</td>\n",
       "      <td>EL SALVADOR</td>\n",
       "    </tr>\n",
       "    <tr>\n",
       "      <th>13</th>\n",
       "      <td>2024-03-25</td>\n",
       "      <td>2023-12-31</td>\n",
       "      <td>16776.127690</td>\n",
       "      <td>ABANK (TN)_EL SALVADOR</td>\n",
       "      <td>MODEL_7dABANK (TN)_EL SALVADOR.pkl</td>\n",
       "      <td>T282</td>\n",
       "      <td>ELS</td>\n",
       "      <td>ABANK (TN)</td>\n",
       "      <td>EL SALVADOR</td>\n",
       "    </tr>\n",
       "    <tr>\n",
       "      <th>14</th>\n",
       "      <td>2024-03-25</td>\n",
       "      <td>2023-12-25</td>\n",
       "      <td>5860.492705</td>\n",
       "      <td>AFEX_CHILE</td>\n",
       "      <td>MODEL_7dAFEX_CHILE.pkl</td>\n",
       "      <td>T089</td>\n",
       "      <td>CHI</td>\n",
       "      <td>AFEX</td>\n",
       "      <td>CHILE</td>\n",
       "    </tr>\n",
       "    <tr>\n",
       "      <th>15</th>\n",
       "      <td>2024-03-25</td>\n",
       "      <td>2023-12-26</td>\n",
       "      <td>6687.844404</td>\n",
       "      <td>AFEX_CHILE</td>\n",
       "      <td>MODEL_7dAFEX_CHILE.pkl</td>\n",
       "      <td>T089</td>\n",
       "      <td>CHI</td>\n",
       "      <td>AFEX</td>\n",
       "      <td>CHILE</td>\n",
       "    </tr>\n",
       "    <tr>\n",
       "      <th>16</th>\n",
       "      <td>2024-03-25</td>\n",
       "      <td>2023-12-27</td>\n",
       "      <td>5602.122404</td>\n",
       "      <td>AFEX_CHILE</td>\n",
       "      <td>MODEL_7dAFEX_CHILE.pkl</td>\n",
       "      <td>T089</td>\n",
       "      <td>CHI</td>\n",
       "      <td>AFEX</td>\n",
       "      <td>CHILE</td>\n",
       "    </tr>\n",
       "    <tr>\n",
       "      <th>17</th>\n",
       "      <td>2024-03-25</td>\n",
       "      <td>2023-12-28</td>\n",
       "      <td>5752.879133</td>\n",
       "      <td>AFEX_CHILE</td>\n",
       "      <td>MODEL_7dAFEX_CHILE.pkl</td>\n",
       "      <td>T089</td>\n",
       "      <td>CHI</td>\n",
       "      <td>AFEX</td>\n",
       "      <td>CHILE</td>\n",
       "    </tr>\n",
       "    <tr>\n",
       "      <th>18</th>\n",
       "      <td>2024-03-25</td>\n",
       "      <td>2023-12-29</td>\n",
       "      <td>5679.061859</td>\n",
       "      <td>AFEX_CHILE</td>\n",
       "      <td>MODEL_7dAFEX_CHILE.pkl</td>\n",
       "      <td>T089</td>\n",
       "      <td>CHI</td>\n",
       "      <td>AFEX</td>\n",
       "      <td>CHILE</td>\n",
       "    </tr>\n",
       "    <tr>\n",
       "      <th>19</th>\n",
       "      <td>2024-03-25</td>\n",
       "      <td>2023-12-30</td>\n",
       "      <td>6174.603422</td>\n",
       "      <td>AFEX_CHILE</td>\n",
       "      <td>MODEL_7dAFEX_CHILE.pkl</td>\n",
       "      <td>T089</td>\n",
       "      <td>CHI</td>\n",
       "      <td>AFEX</td>\n",
       "      <td>CHILE</td>\n",
       "    </tr>\n",
       "  </tbody>\n",
       "</table>\n",
       "</div>"
      ],
      "text/plain": [
       "   processing_date   pred_date          pred           payer_country  \\\n",
       "0       2024-03-25  2023-12-25  34262.482708           24XORO_MEXICO   \n",
       "1       2024-03-25  2023-12-26  33697.560404           24XORO_MEXICO   \n",
       "2       2024-03-25  2023-12-27  27710.331951           24XORO_MEXICO   \n",
       "3       2024-03-25  2023-12-28  41453.183069           24XORO_MEXICO   \n",
       "4       2024-03-25  2023-12-29  43495.725388           24XORO_MEXICO   \n",
       "5       2024-03-25  2023-12-30  32616.550238           24XORO_MEXICO   \n",
       "6       2024-03-25  2023-12-31  52192.900937           24XORO_MEXICO   \n",
       "7       2024-03-25  2023-12-25   8958.847975  ABANK (TN)_EL SALVADOR   \n",
       "8       2024-03-25  2023-12-26   8264.580743  ABANK (TN)_EL SALVADOR   \n",
       "9       2024-03-25  2023-12-27  10240.806858  ABANK (TN)_EL SALVADOR   \n",
       "10      2024-03-25  2023-12-28  10957.701522  ABANK (TN)_EL SALVADOR   \n",
       "11      2024-03-25  2023-12-29  19683.940575  ABANK (TN)_EL SALVADOR   \n",
       "12      2024-03-25  2023-12-30  18551.182956  ABANK (TN)_EL SALVADOR   \n",
       "13      2024-03-25  2023-12-31  16776.127690  ABANK (TN)_EL SALVADOR   \n",
       "14      2024-03-25  2023-12-25   5860.492705              AFEX_CHILE   \n",
       "15      2024-03-25  2023-12-26   6687.844404              AFEX_CHILE   \n",
       "16      2024-03-25  2023-12-27   5602.122404              AFEX_CHILE   \n",
       "17      2024-03-25  2023-12-28   5752.879133              AFEX_CHILE   \n",
       "18      2024-03-25  2023-12-29   5679.061859              AFEX_CHILE   \n",
       "19      2024-03-25  2023-12-30   6174.603422              AFEX_CHILE   \n",
       "\n",
       "                                 model id_main_branch id_country       payer  \\\n",
       "0            MODEL_7d24XORO_MEXICO.pkl           T314        MEX      24XORO   \n",
       "1            MODEL_7d24XORO_MEXICO.pkl           T314        MEX      24XORO   \n",
       "2            MODEL_7d24XORO_MEXICO.pkl           T314        MEX      24XORO   \n",
       "3            MODEL_7d24XORO_MEXICO.pkl           T314        MEX      24XORO   \n",
       "4            MODEL_7d24XORO_MEXICO.pkl           T314        MEX      24XORO   \n",
       "5            MODEL_7d24XORO_MEXICO.pkl           T314        MEX      24XORO   \n",
       "6            MODEL_7d24XORO_MEXICO.pkl           T314        MEX      24XORO   \n",
       "7   MODEL_7dABANK (TN)_EL SALVADOR.pkl           T282        ELS  ABANK (TN)   \n",
       "8   MODEL_7dABANK (TN)_EL SALVADOR.pkl           T282        ELS  ABANK (TN)   \n",
       "9   MODEL_7dABANK (TN)_EL SALVADOR.pkl           T282        ELS  ABANK (TN)   \n",
       "10  MODEL_7dABANK (TN)_EL SALVADOR.pkl           T282        ELS  ABANK (TN)   \n",
       "11  MODEL_7dABANK (TN)_EL SALVADOR.pkl           T282        ELS  ABANK (TN)   \n",
       "12  MODEL_7dABANK (TN)_EL SALVADOR.pkl           T282        ELS  ABANK (TN)   \n",
       "13  MODEL_7dABANK (TN)_EL SALVADOR.pkl           T282        ELS  ABANK (TN)   \n",
       "14              MODEL_7dAFEX_CHILE.pkl           T089        CHI        AFEX   \n",
       "15              MODEL_7dAFEX_CHILE.pkl           T089        CHI        AFEX   \n",
       "16              MODEL_7dAFEX_CHILE.pkl           T089        CHI        AFEX   \n",
       "17              MODEL_7dAFEX_CHILE.pkl           T089        CHI        AFEX   \n",
       "18              MODEL_7dAFEX_CHILE.pkl           T089        CHI        AFEX   \n",
       "19              MODEL_7dAFEX_CHILE.pkl           T089        CHI        AFEX   \n",
       "\n",
       "        country  \n",
       "0        MEXICO  \n",
       "1        MEXICO  \n",
       "2        MEXICO  \n",
       "3        MEXICO  \n",
       "4        MEXICO  \n",
       "5        MEXICO  \n",
       "6        MEXICO  \n",
       "7   EL SALVADOR  \n",
       "8   EL SALVADOR  \n",
       "9   EL SALVADOR  \n",
       "10  EL SALVADOR  \n",
       "11  EL SALVADOR  \n",
       "12  EL SALVADOR  \n",
       "13  EL SALVADOR  \n",
       "14        CHILE  \n",
       "15        CHILE  \n",
       "16        CHILE  \n",
       "17        CHILE  \n",
       "18        CHILE  \n",
       "19        CHILE  "
      ]
     },
     "execution_count": 98,
     "metadata": {},
     "output_type": "execute_result"
    }
   ],
   "source": [
    "df_final.head(20)"
   ]
  },
  {
   "cell_type": "code",
   "execution_count": null,
   "id": "5a6e5555-42b4-4398-b383-c468842ac8c3",
   "metadata": {},
   "outputs": [],
   "source": []
  }
 ],
 "metadata": {
  "availableInstances": [
   {
    "_defaultOrder": 0,
    "_isFastLaunch": true,
    "category": "General purpose",
    "gpuNum": 0,
    "hideHardwareSpecs": false,
    "memoryGiB": 4,
    "name": "ml.t3.medium",
    "vcpuNum": 2
   },
   {
    "_defaultOrder": 1,
    "_isFastLaunch": false,
    "category": "General purpose",
    "gpuNum": 0,
    "hideHardwareSpecs": false,
    "memoryGiB": 8,
    "name": "ml.t3.large",
    "vcpuNum": 2
   },
   {
    "_defaultOrder": 2,
    "_isFastLaunch": false,
    "category": "General purpose",
    "gpuNum": 0,
    "hideHardwareSpecs": false,
    "memoryGiB": 16,
    "name": "ml.t3.xlarge",
    "vcpuNum": 4
   },
   {
    "_defaultOrder": 3,
    "_isFastLaunch": false,
    "category": "General purpose",
    "gpuNum": 0,
    "hideHardwareSpecs": false,
    "memoryGiB": 32,
    "name": "ml.t3.2xlarge",
    "vcpuNum": 8
   },
   {
    "_defaultOrder": 4,
    "_isFastLaunch": true,
    "category": "General purpose",
    "gpuNum": 0,
    "hideHardwareSpecs": false,
    "memoryGiB": 8,
    "name": "ml.m5.large",
    "vcpuNum": 2
   },
   {
    "_defaultOrder": 5,
    "_isFastLaunch": false,
    "category": "General purpose",
    "gpuNum": 0,
    "hideHardwareSpecs": false,
    "memoryGiB": 16,
    "name": "ml.m5.xlarge",
    "vcpuNum": 4
   },
   {
    "_defaultOrder": 6,
    "_isFastLaunch": false,
    "category": "General purpose",
    "gpuNum": 0,
    "hideHardwareSpecs": false,
    "memoryGiB": 32,
    "name": "ml.m5.2xlarge",
    "vcpuNum": 8
   },
   {
    "_defaultOrder": 7,
    "_isFastLaunch": false,
    "category": "General purpose",
    "gpuNum": 0,
    "hideHardwareSpecs": false,
    "memoryGiB": 64,
    "name": "ml.m5.4xlarge",
    "vcpuNum": 16
   },
   {
    "_defaultOrder": 8,
    "_isFastLaunch": false,
    "category": "General purpose",
    "gpuNum": 0,
    "hideHardwareSpecs": false,
    "memoryGiB": 128,
    "name": "ml.m5.8xlarge",
    "vcpuNum": 32
   },
   {
    "_defaultOrder": 9,
    "_isFastLaunch": false,
    "category": "General purpose",
    "gpuNum": 0,
    "hideHardwareSpecs": false,
    "memoryGiB": 192,
    "name": "ml.m5.12xlarge",
    "vcpuNum": 48
   },
   {
    "_defaultOrder": 10,
    "_isFastLaunch": false,
    "category": "General purpose",
    "gpuNum": 0,
    "hideHardwareSpecs": false,
    "memoryGiB": 256,
    "name": "ml.m5.16xlarge",
    "vcpuNum": 64
   },
   {
    "_defaultOrder": 11,
    "_isFastLaunch": false,
    "category": "General purpose",
    "gpuNum": 0,
    "hideHardwareSpecs": false,
    "memoryGiB": 384,
    "name": "ml.m5.24xlarge",
    "vcpuNum": 96
   },
   {
    "_defaultOrder": 12,
    "_isFastLaunch": false,
    "category": "General purpose",
    "gpuNum": 0,
    "hideHardwareSpecs": false,
    "memoryGiB": 8,
    "name": "ml.m5d.large",
    "vcpuNum": 2
   },
   {
    "_defaultOrder": 13,
    "_isFastLaunch": false,
    "category": "General purpose",
    "gpuNum": 0,
    "hideHardwareSpecs": false,
    "memoryGiB": 16,
    "name": "ml.m5d.xlarge",
    "vcpuNum": 4
   },
   {
    "_defaultOrder": 14,
    "_isFastLaunch": false,
    "category": "General purpose",
    "gpuNum": 0,
    "hideHardwareSpecs": false,
    "memoryGiB": 32,
    "name": "ml.m5d.2xlarge",
    "vcpuNum": 8
   },
   {
    "_defaultOrder": 15,
    "_isFastLaunch": false,
    "category": "General purpose",
    "gpuNum": 0,
    "hideHardwareSpecs": false,
    "memoryGiB": 64,
    "name": "ml.m5d.4xlarge",
    "vcpuNum": 16
   },
   {
    "_defaultOrder": 16,
    "_isFastLaunch": false,
    "category": "General purpose",
    "gpuNum": 0,
    "hideHardwareSpecs": false,
    "memoryGiB": 128,
    "name": "ml.m5d.8xlarge",
    "vcpuNum": 32
   },
   {
    "_defaultOrder": 17,
    "_isFastLaunch": false,
    "category": "General purpose",
    "gpuNum": 0,
    "hideHardwareSpecs": false,
    "memoryGiB": 192,
    "name": "ml.m5d.12xlarge",
    "vcpuNum": 48
   },
   {
    "_defaultOrder": 18,
    "_isFastLaunch": false,
    "category": "General purpose",
    "gpuNum": 0,
    "hideHardwareSpecs": false,
    "memoryGiB": 256,
    "name": "ml.m5d.16xlarge",
    "vcpuNum": 64
   },
   {
    "_defaultOrder": 19,
    "_isFastLaunch": false,
    "category": "General purpose",
    "gpuNum": 0,
    "hideHardwareSpecs": false,
    "memoryGiB": 384,
    "name": "ml.m5d.24xlarge",
    "vcpuNum": 96
   },
   {
    "_defaultOrder": 20,
    "_isFastLaunch": false,
    "category": "General purpose",
    "gpuNum": 0,
    "hideHardwareSpecs": true,
    "memoryGiB": 0,
    "name": "ml.geospatial.interactive",
    "supportedImageNames": [
     "sagemaker-geospatial-v1-0"
    ],
    "vcpuNum": 0
   },
   {
    "_defaultOrder": 21,
    "_isFastLaunch": true,
    "category": "Compute optimized",
    "gpuNum": 0,
    "hideHardwareSpecs": false,
    "memoryGiB": 4,
    "name": "ml.c5.large",
    "vcpuNum": 2
   },
   {
    "_defaultOrder": 22,
    "_isFastLaunch": false,
    "category": "Compute optimized",
    "gpuNum": 0,
    "hideHardwareSpecs": false,
    "memoryGiB": 8,
    "name": "ml.c5.xlarge",
    "vcpuNum": 4
   },
   {
    "_defaultOrder": 23,
    "_isFastLaunch": false,
    "category": "Compute optimized",
    "gpuNum": 0,
    "hideHardwareSpecs": false,
    "memoryGiB": 16,
    "name": "ml.c5.2xlarge",
    "vcpuNum": 8
   },
   {
    "_defaultOrder": 24,
    "_isFastLaunch": false,
    "category": "Compute optimized",
    "gpuNum": 0,
    "hideHardwareSpecs": false,
    "memoryGiB": 32,
    "name": "ml.c5.4xlarge",
    "vcpuNum": 16
   },
   {
    "_defaultOrder": 25,
    "_isFastLaunch": false,
    "category": "Compute optimized",
    "gpuNum": 0,
    "hideHardwareSpecs": false,
    "memoryGiB": 72,
    "name": "ml.c5.9xlarge",
    "vcpuNum": 36
   },
   {
    "_defaultOrder": 26,
    "_isFastLaunch": false,
    "category": "Compute optimized",
    "gpuNum": 0,
    "hideHardwareSpecs": false,
    "memoryGiB": 96,
    "name": "ml.c5.12xlarge",
    "vcpuNum": 48
   },
   {
    "_defaultOrder": 27,
    "_isFastLaunch": false,
    "category": "Compute optimized",
    "gpuNum": 0,
    "hideHardwareSpecs": false,
    "memoryGiB": 144,
    "name": "ml.c5.18xlarge",
    "vcpuNum": 72
   },
   {
    "_defaultOrder": 28,
    "_isFastLaunch": false,
    "category": "Compute optimized",
    "gpuNum": 0,
    "hideHardwareSpecs": false,
    "memoryGiB": 192,
    "name": "ml.c5.24xlarge",
    "vcpuNum": 96
   },
   {
    "_defaultOrder": 29,
    "_isFastLaunch": true,
    "category": "Accelerated computing",
    "gpuNum": 1,
    "hideHardwareSpecs": false,
    "memoryGiB": 16,
    "name": "ml.g4dn.xlarge",
    "vcpuNum": 4
   },
   {
    "_defaultOrder": 30,
    "_isFastLaunch": false,
    "category": "Accelerated computing",
    "gpuNum": 1,
    "hideHardwareSpecs": false,
    "memoryGiB": 32,
    "name": "ml.g4dn.2xlarge",
    "vcpuNum": 8
   },
   {
    "_defaultOrder": 31,
    "_isFastLaunch": false,
    "category": "Accelerated computing",
    "gpuNum": 1,
    "hideHardwareSpecs": false,
    "memoryGiB": 64,
    "name": "ml.g4dn.4xlarge",
    "vcpuNum": 16
   },
   {
    "_defaultOrder": 32,
    "_isFastLaunch": false,
    "category": "Accelerated computing",
    "gpuNum": 1,
    "hideHardwareSpecs": false,
    "memoryGiB": 128,
    "name": "ml.g4dn.8xlarge",
    "vcpuNum": 32
   },
   {
    "_defaultOrder": 33,
    "_isFastLaunch": false,
    "category": "Accelerated computing",
    "gpuNum": 4,
    "hideHardwareSpecs": false,
    "memoryGiB": 192,
    "name": "ml.g4dn.12xlarge",
    "vcpuNum": 48
   },
   {
    "_defaultOrder": 34,
    "_isFastLaunch": false,
    "category": "Accelerated computing",
    "gpuNum": 1,
    "hideHardwareSpecs": false,
    "memoryGiB": 256,
    "name": "ml.g4dn.16xlarge",
    "vcpuNum": 64
   },
   {
    "_defaultOrder": 35,
    "_isFastLaunch": false,
    "category": "Accelerated computing",
    "gpuNum": 1,
    "hideHardwareSpecs": false,
    "memoryGiB": 61,
    "name": "ml.p3.2xlarge",
    "vcpuNum": 8
   },
   {
    "_defaultOrder": 36,
    "_isFastLaunch": false,
    "category": "Accelerated computing",
    "gpuNum": 4,
    "hideHardwareSpecs": false,
    "memoryGiB": 244,
    "name": "ml.p3.8xlarge",
    "vcpuNum": 32
   },
   {
    "_defaultOrder": 37,
    "_isFastLaunch": false,
    "category": "Accelerated computing",
    "gpuNum": 8,
    "hideHardwareSpecs": false,
    "memoryGiB": 488,
    "name": "ml.p3.16xlarge",
    "vcpuNum": 64
   },
   {
    "_defaultOrder": 38,
    "_isFastLaunch": false,
    "category": "Accelerated computing",
    "gpuNum": 8,
    "hideHardwareSpecs": false,
    "memoryGiB": 768,
    "name": "ml.p3dn.24xlarge",
    "vcpuNum": 96
   },
   {
    "_defaultOrder": 39,
    "_isFastLaunch": false,
    "category": "Memory Optimized",
    "gpuNum": 0,
    "hideHardwareSpecs": false,
    "memoryGiB": 16,
    "name": "ml.r5.large",
    "vcpuNum": 2
   },
   {
    "_defaultOrder": 40,
    "_isFastLaunch": false,
    "category": "Memory Optimized",
    "gpuNum": 0,
    "hideHardwareSpecs": false,
    "memoryGiB": 32,
    "name": "ml.r5.xlarge",
    "vcpuNum": 4
   },
   {
    "_defaultOrder": 41,
    "_isFastLaunch": false,
    "category": "Memory Optimized",
    "gpuNum": 0,
    "hideHardwareSpecs": false,
    "memoryGiB": 64,
    "name": "ml.r5.2xlarge",
    "vcpuNum": 8
   },
   {
    "_defaultOrder": 42,
    "_isFastLaunch": false,
    "category": "Memory Optimized",
    "gpuNum": 0,
    "hideHardwareSpecs": false,
    "memoryGiB": 128,
    "name": "ml.r5.4xlarge",
    "vcpuNum": 16
   },
   {
    "_defaultOrder": 43,
    "_isFastLaunch": false,
    "category": "Memory Optimized",
    "gpuNum": 0,
    "hideHardwareSpecs": false,
    "memoryGiB": 256,
    "name": "ml.r5.8xlarge",
    "vcpuNum": 32
   },
   {
    "_defaultOrder": 44,
    "_isFastLaunch": false,
    "category": "Memory Optimized",
    "gpuNum": 0,
    "hideHardwareSpecs": false,
    "memoryGiB": 384,
    "name": "ml.r5.12xlarge",
    "vcpuNum": 48
   },
   {
    "_defaultOrder": 45,
    "_isFastLaunch": false,
    "category": "Memory Optimized",
    "gpuNum": 0,
    "hideHardwareSpecs": false,
    "memoryGiB": 512,
    "name": "ml.r5.16xlarge",
    "vcpuNum": 64
   },
   {
    "_defaultOrder": 46,
    "_isFastLaunch": false,
    "category": "Memory Optimized",
    "gpuNum": 0,
    "hideHardwareSpecs": false,
    "memoryGiB": 768,
    "name": "ml.r5.24xlarge",
    "vcpuNum": 96
   },
   {
    "_defaultOrder": 47,
    "_isFastLaunch": false,
    "category": "Accelerated computing",
    "gpuNum": 1,
    "hideHardwareSpecs": false,
    "memoryGiB": 16,
    "name": "ml.g5.xlarge",
    "vcpuNum": 4
   },
   {
    "_defaultOrder": 48,
    "_isFastLaunch": false,
    "category": "Accelerated computing",
    "gpuNum": 1,
    "hideHardwareSpecs": false,
    "memoryGiB": 32,
    "name": "ml.g5.2xlarge",
    "vcpuNum": 8
   },
   {
    "_defaultOrder": 49,
    "_isFastLaunch": false,
    "category": "Accelerated computing",
    "gpuNum": 1,
    "hideHardwareSpecs": false,
    "memoryGiB": 64,
    "name": "ml.g5.4xlarge",
    "vcpuNum": 16
   },
   {
    "_defaultOrder": 50,
    "_isFastLaunch": false,
    "category": "Accelerated computing",
    "gpuNum": 1,
    "hideHardwareSpecs": false,
    "memoryGiB": 128,
    "name": "ml.g5.8xlarge",
    "vcpuNum": 32
   },
   {
    "_defaultOrder": 51,
    "_isFastLaunch": false,
    "category": "Accelerated computing",
    "gpuNum": 1,
    "hideHardwareSpecs": false,
    "memoryGiB": 256,
    "name": "ml.g5.16xlarge",
    "vcpuNum": 64
   },
   {
    "_defaultOrder": 52,
    "_isFastLaunch": false,
    "category": "Accelerated computing",
    "gpuNum": 4,
    "hideHardwareSpecs": false,
    "memoryGiB": 192,
    "name": "ml.g5.12xlarge",
    "vcpuNum": 48
   },
   {
    "_defaultOrder": 53,
    "_isFastLaunch": false,
    "category": "Accelerated computing",
    "gpuNum": 4,
    "hideHardwareSpecs": false,
    "memoryGiB": 384,
    "name": "ml.g5.24xlarge",
    "vcpuNum": 96
   },
   {
    "_defaultOrder": 54,
    "_isFastLaunch": false,
    "category": "Accelerated computing",
    "gpuNum": 8,
    "hideHardwareSpecs": false,
    "memoryGiB": 768,
    "name": "ml.g5.48xlarge",
    "vcpuNum": 192
   },
   {
    "_defaultOrder": 55,
    "_isFastLaunch": false,
    "category": "Accelerated computing",
    "gpuNum": 8,
    "hideHardwareSpecs": false,
    "memoryGiB": 1152,
    "name": "ml.p4d.24xlarge",
    "vcpuNum": 96
   },
   {
    "_defaultOrder": 56,
    "_isFastLaunch": false,
    "category": "Accelerated computing",
    "gpuNum": 8,
    "hideHardwareSpecs": false,
    "memoryGiB": 1152,
    "name": "ml.p4de.24xlarge",
    "vcpuNum": 96
   },
   {
    "_defaultOrder": 57,
    "_isFastLaunch": false,
    "category": "Accelerated computing",
    "gpuNum": 0,
    "hideHardwareSpecs": false,
    "memoryGiB": 32,
    "name": "ml.trn1.2xlarge",
    "vcpuNum": 8
   },
   {
    "_defaultOrder": 58,
    "_isFastLaunch": false,
    "category": "Accelerated computing",
    "gpuNum": 0,
    "hideHardwareSpecs": false,
    "memoryGiB": 512,
    "name": "ml.trn1.32xlarge",
    "vcpuNum": 128
   },
   {
    "_defaultOrder": 59,
    "_isFastLaunch": false,
    "category": "Accelerated computing",
    "gpuNum": 0,
    "hideHardwareSpecs": false,
    "memoryGiB": 512,
    "name": "ml.trn1n.32xlarge",
    "vcpuNum": 128
   }
  ],
  "instance_type": "ml.m5.2xlarge",
  "kernelspec": {
   "display_name": "Python 3 (Data Science 3.0)",
   "language": "python",
   "name": "python3__SAGEMAKER_INTERNAL__arn:aws:sagemaker:us-east-1:081325390199:image/sagemaker-data-science-310-v1"
  },
  "language_info": {
   "codemirror_mode": {
    "name": "ipython",
    "version": 3
   },
   "file_extension": ".py",
   "mimetype": "text/x-python",
   "name": "python",
   "nbconvert_exporter": "python",
   "pygments_lexer": "ipython3",
   "version": "3.10.6"
  }
 },
 "nbformat": 4,
 "nbformat_minor": 5
}
