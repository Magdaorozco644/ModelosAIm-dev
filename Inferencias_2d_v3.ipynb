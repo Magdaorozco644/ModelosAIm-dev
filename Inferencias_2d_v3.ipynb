{
 "cells": [
  {
   "cell_type": "code",
   "execution_count": 2,
   "id": "09758d89-0f6c-4811-bdc0-b07d7eaa6b73",
   "metadata": {
    "tags": []
   },
   "outputs": [
    {
     "name": "stdout",
     "output_type": "stream",
     "text": [
      "Requirement already satisfied: awswrangler in /opt/conda/lib/python3.10/site-packages (3.8.0)\n",
      "Requirement already satisfied: boto3<2.0.0,>=1.20.32 in /opt/conda/lib/python3.10/site-packages (from awswrangler) (1.34.84)\n",
      "Requirement already satisfied: botocore<2.0.0,>=1.23.32 in /opt/conda/lib/python3.10/site-packages (from awswrangler) (1.34.84)\n",
      "Requirement already satisfied: numpy<2.0,>=1.18 in /opt/conda/lib/python3.10/site-packages (from awswrangler) (1.26.4)\n",
      "Requirement already satisfied: packaging<25.0,>=21.1 in /opt/conda/lib/python3.10/site-packages (from awswrangler) (23.2)\n",
      "Requirement already satisfied: pandas<3.0.0,>=1.2.0 in /opt/conda/lib/python3.10/site-packages (from awswrangler) (2.2.2)\n",
      "Requirement already satisfied: pyarrow>=8.0.0 in /opt/conda/lib/python3.10/site-packages (from awswrangler) (15.0.2)\n",
      "Requirement already satisfied: typing-extensions<5.0.0,>=4.4.0 in /opt/conda/lib/python3.10/site-packages (from awswrangler) (4.11.0)\n",
      "Requirement already satisfied: jmespath<2.0.0,>=0.7.1 in /opt/conda/lib/python3.10/site-packages (from boto3<2.0.0,>=1.20.32->awswrangler) (1.0.1)\n",
      "Requirement already satisfied: s3transfer<0.11.0,>=0.10.0 in /opt/conda/lib/python3.10/site-packages (from boto3<2.0.0,>=1.20.32->awswrangler) (0.10.1)\n",
      "Requirement already satisfied: python-dateutil<3.0.0,>=2.1 in /opt/conda/lib/python3.10/site-packages (from botocore<2.0.0,>=1.23.32->awswrangler) (2.9.0)\n",
      "Requirement already satisfied: urllib3!=2.2.0,<3,>=1.25.4 in /opt/conda/lib/python3.10/site-packages (from botocore<2.0.0,>=1.23.32->awswrangler) (2.2.1)\n",
      "Requirement already satisfied: pytz>=2020.1 in /opt/conda/lib/python3.10/site-packages (from pandas<3.0.0,>=1.2.0->awswrangler) (2024.1)\n",
      "Requirement already satisfied: tzdata>=2022.7 in /opt/conda/lib/python3.10/site-packages (from pandas<3.0.0,>=1.2.0->awswrangler) (2024.1)\n",
      "Requirement already satisfied: six>=1.5 in /opt/conda/lib/python3.10/site-packages (from python-dateutil<3.0.0,>=2.1->botocore<2.0.0,>=1.23.32->awswrangler) (1.16.0)\n",
      "\u001b[33mWARNING: Running pip as the 'root' user can result in broken permissions and conflicting behaviour with the system package manager. It is recommended to use a virtual environment instead: https://pip.pypa.io/warnings/venv\u001b[0m\u001b[33m\n",
      "\u001b[0mRequirement already satisfied: skforecast in /opt/conda/lib/python3.10/site-packages (0.12.1)\n",
      "Requirement already satisfied: numpy<1.27,>=1.20 in /opt/conda/lib/python3.10/site-packages (from skforecast) (1.26.4)\n",
      "Requirement already satisfied: pandas<2.3,>=1.2 in /opt/conda/lib/python3.10/site-packages (from skforecast) (2.2.2)\n",
      "Requirement already satisfied: tqdm<4.67,>=4.57 in /opt/conda/lib/python3.10/site-packages (from skforecast) (4.66.1)\n",
      "Requirement already satisfied: scikit-learn<1.5,>=1.2 in /opt/conda/lib/python3.10/site-packages (from skforecast) (1.4.2)\n",
      "Requirement already satisfied: optuna<3.7,>=2.10 in /opt/conda/lib/python3.10/site-packages (from skforecast) (3.6.1)\n",
      "Requirement already satisfied: joblib<1.5,>=1.1 in /opt/conda/lib/python3.10/site-packages (from skforecast) (1.4.0)\n",
      "Requirement already satisfied: alembic>=1.5.0 in /opt/conda/lib/python3.10/site-packages (from optuna<3.7,>=2.10->skforecast) (1.13.1)\n",
      "Requirement already satisfied: colorlog in /opt/conda/lib/python3.10/site-packages (from optuna<3.7,>=2.10->skforecast) (6.8.2)\n",
      "Requirement already satisfied: packaging>=20.0 in /opt/conda/lib/python3.10/site-packages (from optuna<3.7,>=2.10->skforecast) (23.2)\n",
      "Requirement already satisfied: sqlalchemy>=1.3.0 in /opt/conda/lib/python3.10/site-packages (from optuna<3.7,>=2.10->skforecast) (2.0.29)\n",
      "Requirement already satisfied: PyYAML in /opt/conda/lib/python3.10/site-packages (from optuna<3.7,>=2.10->skforecast) (6.0.1)\n",
      "Requirement already satisfied: python-dateutil>=2.8.2 in /opt/conda/lib/python3.10/site-packages (from pandas<2.3,>=1.2->skforecast) (2.9.0)\n",
      "Requirement already satisfied: pytz>=2020.1 in /opt/conda/lib/python3.10/site-packages (from pandas<2.3,>=1.2->skforecast) (2024.1)\n",
      "Requirement already satisfied: tzdata>=2022.7 in /opt/conda/lib/python3.10/site-packages (from pandas<2.3,>=1.2->skforecast) (2024.1)\n",
      "Requirement already satisfied: scipy>=1.6.0 in /opt/conda/lib/python3.10/site-packages (from scikit-learn<1.5,>=1.2->skforecast) (1.13.0)\n",
      "Requirement already satisfied: threadpoolctl>=2.0.0 in /opt/conda/lib/python3.10/site-packages (from scikit-learn<1.5,>=1.2->skforecast) (3.4.0)\n",
      "Requirement already satisfied: Mako in /opt/conda/lib/python3.10/site-packages (from alembic>=1.5.0->optuna<3.7,>=2.10->skforecast) (1.3.5)\n",
      "Requirement already satisfied: typing-extensions>=4 in /opt/conda/lib/python3.10/site-packages (from alembic>=1.5.0->optuna<3.7,>=2.10->skforecast) (4.11.0)\n",
      "Requirement already satisfied: six>=1.5 in /opt/conda/lib/python3.10/site-packages (from python-dateutil>=2.8.2->pandas<2.3,>=1.2->skforecast) (1.16.0)\n",
      "Requirement already satisfied: greenlet!=0.4.17 in /opt/conda/lib/python3.10/site-packages (from sqlalchemy>=1.3.0->optuna<3.7,>=2.10->skforecast) (3.0.3)\n",
      "Requirement already satisfied: MarkupSafe>=0.9.2 in /opt/conda/lib/python3.10/site-packages (from Mako->alembic>=1.5.0->optuna<3.7,>=2.10->skforecast) (2.1.5)\n",
      "\u001b[33mWARNING: Running pip as the 'root' user can result in broken permissions and conflicting behaviour with the system package manager. It is recommended to use a virtual environment instead: https://pip.pypa.io/warnings/venv\u001b[0m\u001b[33m\n",
      "\u001b[0mRequirement already satisfied: pmdarima in /opt/conda/lib/python3.10/site-packages (2.0.4)\n",
      "Requirement already satisfied: joblib>=0.11 in /opt/conda/lib/python3.10/site-packages (from pmdarima) (1.4.0)\n",
      "Requirement already satisfied: Cython!=0.29.18,!=0.29.31,>=0.29 in /opt/conda/lib/python3.10/site-packages (from pmdarima) (3.0.10)\n",
      "Requirement already satisfied: numpy>=1.21.2 in /opt/conda/lib/python3.10/site-packages (from pmdarima) (1.26.4)\n",
      "Requirement already satisfied: pandas>=0.19 in /opt/conda/lib/python3.10/site-packages (from pmdarima) (2.2.2)\n",
      "Requirement already satisfied: scikit-learn>=0.22 in /opt/conda/lib/python3.10/site-packages (from pmdarima) (1.4.2)\n",
      "Requirement already satisfied: scipy>=1.3.2 in /opt/conda/lib/python3.10/site-packages (from pmdarima) (1.13.0)\n",
      "Requirement already satisfied: statsmodels>=0.13.2 in /opt/conda/lib/python3.10/site-packages (from pmdarima) (0.14.1)\n",
      "Requirement already satisfied: urllib3 in /opt/conda/lib/python3.10/site-packages (from pmdarima) (2.2.1)\n",
      "Requirement already satisfied: setuptools!=50.0.0,>=38.6.0 in /opt/conda/lib/python3.10/site-packages (from pmdarima) (69.5.1)\n",
      "Requirement already satisfied: packaging>=17.1 in /opt/conda/lib/python3.10/site-packages (from pmdarima) (23.2)\n",
      "Requirement already satisfied: python-dateutil>=2.8.2 in /opt/conda/lib/python3.10/site-packages (from pandas>=0.19->pmdarima) (2.9.0)\n",
      "Requirement already satisfied: pytz>=2020.1 in /opt/conda/lib/python3.10/site-packages (from pandas>=0.19->pmdarima) (2024.1)\n",
      "Requirement already satisfied: tzdata>=2022.7 in /opt/conda/lib/python3.10/site-packages (from pandas>=0.19->pmdarima) (2024.1)\n",
      "Requirement already satisfied: threadpoolctl>=2.0.0 in /opt/conda/lib/python3.10/site-packages (from scikit-learn>=0.22->pmdarima) (3.4.0)\n",
      "Requirement already satisfied: patsy>=0.5.4 in /opt/conda/lib/python3.10/site-packages (from statsmodels>=0.13.2->pmdarima) (0.5.6)\n",
      "Requirement already satisfied: six in /opt/conda/lib/python3.10/site-packages (from patsy>=0.5.4->statsmodels>=0.13.2->pmdarima) (1.16.0)\n",
      "\u001b[33mWARNING: Running pip as the 'root' user can result in broken permissions and conflicting behaviour with the system package manager. It is recommended to use a virtual environment instead: https://pip.pypa.io/warnings/venv\u001b[0m\u001b[33m\n",
      "\u001b[0m"
     ]
    }
   ],
   "source": [
    "!pip install awswrangler\n",
    "!pip install skforecast\n",
    "!pip install pmdarima"
   ]
  },
  {
   "cell_type": "code",
   "execution_count": 3,
   "id": "b07ad127-615b-42eb-906b-698c0311e4dc",
   "metadata": {
    "tags": []
   },
   "outputs": [],
   "source": [
    "import awswrangler as wr\n",
    "import pandas as pd\n",
    "import boto3\n",
    "import pickle\n",
    "from io import BytesIO\n",
    "from io import StringIO\n",
    "import joblib\n",
    "import os\n",
    "from datetime import datetime, timedelta\n",
    "import warnings\n",
    "\n",
    "# skforecast\n",
    "from skforecast.Sarimax import Sarimax\n",
    "from skforecast.ForecasterSarimax import ForecasterSarimax\n",
    "from skforecast.model_selection_sarimax import backtesting_sarimax\n",
    "from skforecast.model_selection_sarimax import grid_search_sarimax\n",
    "from sklearn.metrics import mean_absolute_error\n"
   ]
  },
  {
   "cell_type": "markdown",
   "id": "d8ed74f1-8a3b-4e7b-a919-bcc13deada3d",
   "metadata": {
    "tags": []
   },
   "source": [
    "### Load ABT and .pkl"
   ]
  },
  {
   "cell_type": "code",
   "execution_count": 4,
   "id": "497e38ec-b395-4684-8d5a-266512b27127",
   "metadata": {
    "tags": []
   },
   "outputs": [],
   "source": [
    "# Set up S3 client\n",
    "client = boto3.client('s3')\n",
    "bucket_name = 'viamericas-datalake-dev-us-east-1-283731589572-analytics'\n",
    "path = 'ABTv3/Last_releases/' # Folder under analysis\n",
    "\n",
    "#ABTversion = 'v3_update'\n",
    "ABTversion = 'v6'\n",
    "path_ABT = f'ABT{ABTversion}/' "
   ]
  },
  {
   "cell_type": "code",
   "execution_count": 5,
   "id": "f64be7cb-017e-452e-9444-96f152a5fba5",
   "metadata": {
    "tags": []
   },
   "outputs": [
    {
     "name": "stdout",
     "output_type": "stream",
     "text": [
      "CSV file loaded\n"
     ]
    }
   ],
   "source": [
    "# Specify the CSV file key\n",
    "csv_key = None\n",
    "\n",
    "# List objects in the S3 path\n",
    "response = client.list_objects(Bucket=bucket_name, Prefix=path_ABT)\n",
    "\n",
    "# Find the CSV file in the S3 path\n",
    "for obj in response.get('Contents', []):\n",
    "    if obj['Key'].endswith('.csv'):\n",
    "        csv_key = obj['Key']\n",
    "        break\n",
    "        \n",
    "# Check if CSV file is found\n",
    "if csv_key is not None:\n",
    "    # Read CSV content from S3\n",
    "    csv_response = client.get_object(Bucket=bucket_name, Key=csv_key)\n",
    "    csv_content = csv_response['Body'].read().decode('utf-8')\n",
    "\n",
    "    # Transform CSV content to DataFrame\n",
    "    data = pd.read_csv(StringIO(csv_content))\n",
    "    data['date'] = pd.to_datetime(data['date']).dt.date\n",
    "    print(\"CSV file loaded\")\n",
    "else:\n",
    "    print(\"No CSV file found in the specified S3 path.\")"
   ]
  },
  {
   "cell_type": "code",
   "execution_count": 6,
   "id": "a256c9bc-e9e6-40b7-b1a7-e7a85abf36de",
   "metadata": {
    "tags": []
   },
   "outputs": [],
   "source": [
    "data['date'] = pd.to_datetime(data['date'])"
   ]
  },
  {
   "cell_type": "code",
   "execution_count": 7,
   "id": "2668c5d2-1e1a-46e8-ad85-ef68efd6ccd8",
   "metadata": {
    "tags": []
   },
   "outputs": [],
   "source": [
    "# Mark with 1 in 'day_of_the_dead' when 'date' is Nov. 2\n",
    "data.loc[data['date'].dt.month.eq(11) & data['date'].dt.day.eq(2), 'day_of_the_dead'] = 1"
   ]
  },
  {
   "cell_type": "code",
   "execution_count": 8,
   "id": "cb220530-5954-43b9-9330-8c3a106fe579",
   "metadata": {
    "tags": []
   },
   "outputs": [
    {
     "data": {
      "text/plain": [
       "27791166635.5917"
      ]
     },
     "execution_count": 8,
     "metadata": {},
     "output_type": "execute_result"
    }
   ],
   "source": [
    "data['amount'].sum()"
   ]
  },
  {
   "cell_type": "code",
   "execution_count": 9,
   "id": "e0445ea7-10eb-4798-9e9e-fd1afcd7b329",
   "metadata": {
    "tags": []
   },
   "outputs": [
    {
     "data": {
      "text/plain": [
       "Timestamp('2024-02-11 00:00:00')"
      ]
     },
     "execution_count": 9,
     "metadata": {},
     "output_type": "execute_result"
    }
   ],
   "source": [
    "data.date.max()"
   ]
  },
  {
   "cell_type": "code",
   "execution_count": 10,
   "id": "4f36272a-b338-458d-8369-e33df069dde8",
   "metadata": {
    "tags": []
   },
   "outputs": [],
   "source": [
    "#data=data.loc[data.date<'2023-12-21']"
   ]
  },
  {
   "cell_type": "code",
   "execution_count": 11,
   "id": "7012253a-dbe4-4211-9d78-2a18af413cab",
   "metadata": {},
   "outputs": [
    {
     "data": {
      "text/plain": [
       "133"
      ]
     },
     "execution_count": 11,
     "metadata": {},
     "output_type": "execute_result"
    }
   ],
   "source": [
    "data.payer_country.nunique()"
   ]
  },
  {
   "cell_type": "markdown",
   "id": "eb680730-d404-4043-a098-33c8e279ba3a",
   "metadata": {},
   "source": [
    "## LOAD .pkl"
   ]
  },
  {
   "cell_type": "code",
   "execution_count": 12,
   "id": "6617f69b-df9f-40b2-870f-54dd6958c1f6",
   "metadata": {
    "tags": []
   },
   "outputs": [],
   "source": [
    "elements = client.list_objects(Bucket=bucket_name, Prefix=path)\n",
    "\n",
    "#Listing pkl files\n",
    "pkl_files = [obj['Key'] for obj in elements.get('Contents', []) if obj['Key'].endswith('.pkl')\n",
    "                and ('MODEL_2d' in obj['Key']) and not obj['Key'].endswith('_7d.pkl')]  # File structure "
   ]
  },
  {
   "cell_type": "code",
   "execution_count": 13,
   "id": "5774aa75-dcd3-4dab-871e-4dc62c21958b",
   "metadata": {
    "tags": []
   },
   "outputs": [
    {
     "data": {
      "text/plain": [
       "131"
      ]
     },
     "execution_count": 13,
     "metadata": {},
     "output_type": "execute_result"
    }
   ],
   "source": [
    "len(pkl_files)"
   ]
  },
  {
   "cell_type": "code",
   "execution_count": 14,
   "id": "50754ca0-fc89-41e7-b81a-756aee6f48d5",
   "metadata": {
    "tags": []
   },
   "outputs": [
    {
     "data": {
      "text/plain": [
       "['ABTv3/Last_releases/24XORO_MEXICO/MODEL_2d_24XORO_MEXICO.pkl',\n",
       " 'ABTv3/Last_releases/ABANK (TN)_EL SALVADOR/MODEL_2d_ABANK (TN)_EL SALVADOR.pkl',\n",
       " 'ABTv3/Last_releases/AFEX_CHILE/MODEL_2d_AFEX_CHILE.pkl',\n",
       " 'ABTv3/Last_releases/AFRO INTERNACIONAL_GUINEA/MODEL_2d_AFRO INTERNACIONAL_GUINEA.pkl',\n",
       " 'ABTv3/Last_releases/AFRO INTERNACIONAL_SIERRA LEONE/MODEL_2d_AFRO INTERNACIONAL_SIERRA LEONE.pkl',\n",
       " 'ABTv3/Last_releases/AIRPAK_MEXICO/MODEL_2d_AIRPAK_MEXICO.pkl',\n",
       " 'ABTv3/Last_releases/ARGENPER_ARGENTINA/MODEL_2d_ARGENPER_ARGENTINA.pkl',\n",
       " 'ABTv3/Last_releases/ARGENPER_BOLIVIA/MODEL_2d_ARGENPER_BOLIVIA.pkl',\n",
       " 'ABTv3/Last_releases/ARGENPER_CHILE/MODEL_2d_ARGENPER_CHILE.pkl',\n",
       " 'ABTv3/Last_releases/ARGENPER_PERU/MODEL_2d_ARGENPER_PERU.pkl',\n",
       " 'ABTv3/Last_releases/BAM - BANCO AGROMERCANTIL (UT)_GUATEMALA/MODEL_2d_BAM - BANCO AGROMERCANTIL (UT)_GUATEMALA.pkl',\n",
       " 'ABTv3/Last_releases/BANCO AGRICOLA_EL SALVADOR/MODEL_2d_BANCO AGRICOLA_EL SALVADOR.pkl',\n",
       " 'ABTv3/Last_releases/BANCO ATLANTIDA_HONDURAS/MODEL_2d_BANCO ATLANTIDA_HONDURAS.pkl',\n",
       " 'ABTv3/Last_releases/BANCO BHD LEON_DOMINICAN REPUBLIC/MODEL_2d_BANCO BHD LEON_DOMINICAN REPUBLIC.pkl',\n",
       " 'ABTv3/Last_releases/BANCO BISA_BOLIVIA/MODEL_2d_BANCO BISA_BOLIVIA.pkl',\n",
       " 'ABTv3/Last_releases/BANCO DAVIVIENDA SALVADORENO (BTS)_EL SALVADOR/MODEL_2d_BANCO DAVIVIENDA SALVADORENO (BTS)_EL SALVADOR.pkl',\n",
       " 'ABTv3/Last_releases/BANCO DAYCOVAL_BRAZIL/MODEL_2d_BANCO DAYCOVAL_BRAZIL.pkl',\n",
       " 'ABTv3/Last_releases/BANCO DE CREDITO DEL PERU - BCP (UT)_PERU/MODEL_2d_BANCO DE CREDITO DEL PERU - BCP (UT)_PERU.pkl',\n",
       " 'ABTv3/Last_releases/BANCO DE GUAYAQUIL_ECUADOR/MODEL_2d_BANCO DE GUAYAQUIL_ECUADOR.pkl',\n",
       " 'ABTv3/Last_releases/BANCO DE OCCIDENTE_HONDURAS/MODEL_2d_BANCO DE OCCIDENTE_HONDURAS.pkl',\n",
       " 'ABTv3/Last_releases/BANCO DE ORO (BDO)_PHILIPPINES/MODEL_2d_BANCO DE ORO (BDO)_PHILIPPINES.pkl',\n",
       " 'ABTv3/Last_releases/BANCO DEL AUSTRO_ECUADOR/MODEL_2d_BANCO DEL AUSTRO_ECUADOR.pkl',\n",
       " 'ABTv3/Last_releases/BANCO GANADERO (BOLIVIA)_BOLIVIA/MODEL_2d_BANCO GANADERO (BOLIVIA)_BOLIVIA.pkl',\n",
       " 'ABTv3/Last_releases/BANCO INDUSTRIAL ELS (RED CHAPINA)_EL SALVADOR/MODEL_2d_BANCO INDUSTRIAL ELS (RED CHAPINA)_EL SALVADOR.pkl',\n",
       " 'ABTv3/Last_releases/BANCO INDUSTRIAL_GUATEMALA/MODEL_2d_BANCO INDUSTRIAL_GUATEMALA.pkl',\n",
       " 'ABTv3/Last_releases/BANCO PICHINCHA (TN)_ECUADOR/MODEL_2d_BANCO PICHINCHA (TN)_ECUADOR.pkl',\n",
       " 'ABTv3/Last_releases/BANCO POPULAR HONDURAS (UT)_HONDURAS/MODEL_2d_BANCO POPULAR HONDURAS (UT)_HONDURAS.pkl',\n",
       " 'ABTv3/Last_releases/BANCO RENDIMENTO_BRAZIL/MODEL_2d_BANCO RENDIMENTO_BRAZIL.pkl',\n",
       " 'ABTv3/Last_releases/BANCOLOMBIA_COLOMBIA/MODEL_2d_BANCOLOMBIA_COLOMBIA.pkl',\n",
       " 'ABTv3/Last_releases/BANCOPPEL (APPRIZA)_MEXICO/MODEL_2d_BANCOPPEL (APPRIZA)_MEXICO.pkl',\n",
       " 'ABTv3/Last_releases/BANHCAFE_HONDURAS/MODEL_2d_BANHCAFE_HONDURAS.pkl',\n",
       " 'ABTv3/Last_releases/BANK OF PHILIPPINE ISLANDS (BPI)_PHILIPPINES/MODEL_2d_BANK OF PHILIPPINE ISLANDS (BPI)_PHILIPPINES.pkl',\n",
       " 'ABTv3/Last_releases/BANORTE (UT)_MEXICO/MODEL_2d_BANORTE (UT)_MEXICO.pkl',\n",
       " 'ABTv3/Last_releases/BANPAIS (RED CHAPINA)_HONDURAS/MODEL_2d_BANPAIS (RED CHAPINA)_HONDURAS.pkl',\n",
       " 'ABTv3/Last_releases/BANPRO_NICARAGUA/MODEL_2d_BANPRO_NICARAGUA.pkl',\n",
       " 'ABTv3/Last_releases/BANRURAL (HONDURAS)_HONDURAS/MODEL_2d_BANRURAL (HONDURAS)_HONDURAS.pkl',\n",
       " 'ABTv3/Last_releases/BANRURAL (RYT)_GUATEMALA/MODEL_2d_BANRURAL (RYT)_GUATEMALA_2d.pkl',\n",
       " 'ABTv3/Last_releases/BANTRAB (UT)_GUATEMALA/MODEL_2d_BANTRAB (UT)_GUATEMALA.pkl',\n",
       " 'ABTv3/Last_releases/BBVA - BANCOMER (BTS)_MEXICO/MODEL_2d_BBVA - BANCOMER (BTS)_MEXICO.pkl',\n",
       " 'ABTv3/Last_releases/BNB_LIBERIA/MODEL_2d_BNB_LIBERIA.pkl',\n",
       " 'ABTv3/Last_releases/BNB_SENEGAL/MODEL_2d_BNB_SENEGAL.pkl',\n",
       " 'ABTv3/Last_releases/BNB_SIERRA LEONE/MODEL_2d_BNB_SIERRA LEONE.pkl',\n",
       " 'ABTv3/Last_releases/CAJA POPULAR MEXICANA (UT)_MEXICO/MODEL_2d_CAJA POPULAR MEXICANA (UT)_MEXICO.pkl',\n",
       " 'ABTv3/Last_releases/CARIBE EXPRESS_DOMINICAN REPUBLIC/MODEL_2d_CARIBE EXPRESS_DOMINICAN REPUBLIC.pkl',\n",
       " 'ABTv3/Last_releases/CEBUANA LHUILLIER_PHILIPPINES/MODEL_2d_CEBUANA LHUILLIER_PHILIPPINES.pkl',\n",
       " 'ABTv3/Last_releases/COOPERATIVA CACIL (UT)_HONDURAS/MODEL_2d_COOPERATIVA CACIL (UT)_HONDURAS.pkl',\n",
       " 'ABTv3/Last_releases/COOPERATIVA FRONTERIZA (UT)_HONDURAS/MODEL_2d_COOPERATIVA FRONTERIZA (UT)_HONDURAS.pkl',\n",
       " 'ABTv3/Last_releases/CREDOMATIC (BTS)_NICARAGUA/MODEL_2d_CREDOMATIC (BTS)_NICARAGUA.pkl',\n",
       " 'ABTv3/Last_releases/CREDOMATIC_EL SALVADOR/MODEL_2d_CREDOMATIC_EL SALVADOR.pkl',\n",
       " 'ABTv3/Last_releases/CUSCA (CITI - RECIBA NETWORKS)_EL SALVADOR/MODEL_2d_CUSCA (CITI - RECIBA NETWORKS)_EL SALVADOR.pkl',\n",
       " 'ABTv3/Last_releases/DAVIVIENDA - HONDURAS (BTS)_HONDURAS/MODEL_2d_DAVIVIENDA - HONDURAS (BTS)_HONDURAS.pkl',\n",
       " 'ABTv3/Last_releases/DAVIVIENDA_COLOMBIA/MODEL_2d_DAVIVIENDA_COLOMBIA.pkl',\n",
       " 'ABTv3/Last_releases/DEPOSITOS BANCARIOS GUATEMALA - ACH_GUATEMALA/MODEL_2d_DEPOSITOS BANCARIOS GUATEMALA - ACH_GUATEMALA.pkl',\n",
       " 'ABTv3/Last_releases/EASY PAGOS_ECUADOR/MODEL_2d_EASY PAGOS_ECUADOR.pkl',\n",
       " 'ABTv3/Last_releases/ECUAGIROS_ECUADOR/MODEL_2d_ECUAGIROS_ECUADOR.pkl',\n",
       " 'ABTv3/Last_releases/ELEKTRA (BTS)_GUATEMALA/MODEL_2d_ELEKTRA (BTS)_GUATEMALA.pkl',\n",
       " 'ABTv3/Last_releases/ELEKTRA (BTS)_HONDURAS/MODEL_2d_ELEKTRA (BTS)_HONDURAS.pkl',\n",
       " 'ABTv3/Last_releases/ELEKTRA (MEXICO)_MEXICO/MODEL_2d_ELEKTRA (MEXICO)_MEXICO.pkl',\n",
       " 'ABTv3/Last_releases/EMPENOS DEL SUR (ANTERIOR BALSAS)_MEXICO/MODEL_2d_EMPENOS DEL SUR (ANTERIOR BALSAS)_MEXICO.pkl',\n",
       " 'ABTv3/Last_releases/ENVICON (ANTERIORMENTE ENVIOS CONFIANZA)_MEXICO/MODEL_2d_ENVICON (ANTERIORMENTE ENVIOS CONFIANZA)_MEXICO.pkl',\n",
       " 'ABTv3/Last_releases/ENVIOS CON CLABE (APPRIZA)_MEXICO/MODEL_2d_ENVIOS CON CLABE (APPRIZA)_MEXICO.pkl',\n",
       " 'ABTv3/Last_releases/FARMACIAS DEL AHORRO (DATRANSFER)_MEXICO/MODEL_2d_FARMACIAS DEL AHORRO (DATRANSFER)_MEXICO.pkl',\n",
       " 'ABTv3/Last_releases/FARMACIAS GUADALAJARA (UT)_MEXICO/MODEL_2d_FARMACIAS GUADALAJARA (UT)_MEXICO.pkl',\n",
       " 'ABTv3/Last_releases/FEDECACES (EL SALVADOR)_EL SALVADOR/MODEL_2d_FEDECACES (EL SALVADOR)_EL SALVADOR.pkl',\n",
       " 'ABTv3/Last_releases/FEDECREDITO (RYT)_EL SALVADOR/MODEL_2d_FEDECREDITO (RYT)_EL SALVADOR.pkl',\n",
       " 'ABTv3/Last_releases/FICOHSA_HONDURAS/MODEL_2d_FICOHSA_HONDURAS.pkl',\n",
       " 'ABTv3/Last_releases/G Y T CONTINENTAL_GUATEMALA/MODEL_2d_G Y T CONTINENTAL_GUATEMALA.pkl',\n",
       " 'ABTv3/Last_releases/GIROSMEX_MEXICO/MODEL_2d_GIROSMEX_MEXICO.pkl',\n",
       " 'ABTv3/Last_releases/GLOBAL ENVIOS_ECUADOR/MODEL_2d_GLOBAL ENVIOS_ECUADOR.pkl',\n",
       " 'ABTv3/Last_releases/GME_NEPAL/MODEL_2d_GME_NEPAL.pkl',\n",
       " 'ABTv3/Last_releases/GRUPO EXITO (TN)_COLOMBIA/MODEL_2d_GRUPO EXITO (TN)_COLOMBIA.pkl',\n",
       " 'ABTv3/Last_releases/INTERBANK_PERU/MODEL_2d_INTERBANK_PERU.pkl',\n",
       " 'ABTv3/Last_releases/INTERMEX_MEXICO/MODEL_2d_INTERMEX_MEXICO.pkl',\n",
       " 'ABTv3/Last_releases/JMMB_JAMAICA/MODEL_2d_JMMB_JAMAICA.pkl',\n",
       " 'ABTv3/Last_releases/KORI_BENIN/MODEL_2d_KORI_BENIN.pkl',\n",
       " 'ABTv3/Last_releases/KORI_BURKINA FASO/MODEL_2d_KORI_BURKINA FASO.pkl',\n",
       " 'ABTv3/Last_releases/LAFISE_NICARAGUA/MODEL_2d_LAFISE_NICARAGUA.pkl',\n",
       " 'ABTv3/Last_releases/MASTERCARD ATM NETWORK_UNITED STATES/MODEL_2d_MASTERCARD ATM NETWORK_UNITED STATES.pkl',\n",
       " 'ABTv3/Last_releases/MERCHANTRADE_BANGLADESH/MODEL_2d_MERCHANTRADE_BANGLADESH.pkl',\n",
       " 'ABTv3/Last_releases/MERCHANTRADE_INDONESIA/MODEL_2d_MERCHANTRADE_INDONESIA.pkl',\n",
       " 'ABTv3/Last_releases/MERCHANTRADE_MALAYSIA/MODEL_2d_MERCHANTRADE_MALAYSIA.pkl',\n",
       " 'ABTv3/Last_releases/MERCHANTRADE_NEPAL/MODEL_2d_MERCHANTRADE_NEPAL.pkl',\n",
       " 'ABTv3/Last_releases/MERCHANTRADE_THAILAND/MODEL_2d_MERCHANTRADE_THAILAND.pkl',\n",
       " 'ABTv3/Last_releases/METROBANK_PHILIPPINES/MODEL_2d_METROBANK_PHILIPPINES.pkl',\n",
       " 'ABTv3/Last_releases/MICOOPE-FENACOAC (RED CHAPINA)_GUATEMALA/MODEL_2d_MICOOPE-FENACOAC (RED CHAPINA)_GUATEMALA.pkl',\n",
       " 'ABTv3/Last_releases/MSBB MONEY_BRAZIL/MODEL_2d_MSBB MONEY_BRAZIL.pkl',\n",
       " 'ABTv3/Last_releases/MUTHOOT-BANGLADESH_BANGLADESH/MODEL_2d_MUTHOOT-BANGLADESH_BANGLADESH.pkl',\n",
       " 'ABTv3/Last_releases/MUTHOOT_INDIA/MODEL_2d_MUTHOOT_INDIA.pkl',\n",
       " 'ABTv3/Last_releases/NAFA_BURKINA FASO/MODEL_2d_NAFA_BURKINA FASO.pkl',\n",
       " \"ABTv3/Last_releases/NAFA_COTE D'IVOIRE (IVORY COAST)/MODEL_2d_NAFA_COTE D'IVOIRE (IVORY COAST).pkl\",\n",
       " 'ABTv3/Last_releases/NAFA_GAMBIA, THE/MODEL_2d_NAFA_GAMBIA, THE.pkl',\n",
       " 'ABTv3/Last_releases/NAFA_GUINEA/MODEL_2d_NAFA_GUINEA.pkl',\n",
       " 'ABTv3/Last_releases/NAFA_LIBERIA/MODEL_2d_NAFA_LIBERIA.pkl',\n",
       " 'ABTv3/Last_releases/NAFA_MALI/MODEL_2d_NAFA_MALI.pkl',\n",
       " 'ABTv3/Last_releases/NAFA_SENEGAL/MODEL_2d_NAFA_SENEGAL.pkl',\n",
       " 'ABTv3/Last_releases/NAFA_TOGO/MODEL_2d_NAFA_TOGO.pkl',\n",
       " 'ABTv3/Last_releases/NAIRAGRAM_NIGERIA/MODEL_2d_NAIRAGRAM_NIGERIA.pkl',\n",
       " 'ABTv3/Last_releases/OXXO (TN)_MEXICO/MODEL_2d_OXXO (TN)_MEXICO.pkl',\n",
       " 'ABTv3/Last_releases/PROMERICA (GUA)_GUATEMALA/MODEL_2d_PROMERICA (GUA)_GUATEMALA.pkl',\n",
       " 'ABTv3/Last_releases/PROMERICA_EL SALVADOR/MODEL_2d_PROMERICA_EL SALVADOR.pkl',\n",
       " 'ABTv3/Last_releases/SORIANA_MEXICO/MODEL_2d_SORIANA_MEXICO.pkl',\n",
       " 'ABTv3/Last_releases/SPEED MONEY_PHILIPPINES/MODEL_2d_SPEED MONEY_PHILIPPINES.pkl',\n",
       " 'ABTv3/Last_releases/TELECOMM TELEGRAFOS (APPRIZA)_MEXICO/MODEL_2d_TELECOMM TELEGRAFOS (APPRIZA)_MEXICO.pkl',\n",
       " 'ABTv3/Last_releases/TELEDOLAR (TN)_COSTA RICA/MODEL_2d_TELEDOLAR (TN)_COSTA RICA.pkl',\n",
       " 'ABTv3/Last_releases/TELEDOLAR-NIC (TN)_NICARAGUA/MODEL_2d_TELEDOLAR-NIC (TN)_NICARAGUA.pkl',\n",
       " 'ABTv3/Last_releases/TRANSFER DIRECTO_MEXICO/MODEL_2d_TRANSFER DIRECTO_MEXICO.pkl',\n",
       " 'ABTv3/Last_releases/TRANSFERTO - THUNES_BELGIUM/MODEL_2d_TRANSFERTO - THUNES_BELGIUM.pkl',\n",
       " 'ABTv3/Last_releases/TRANSFERTO - THUNES_FRANCE/MODEL_2d_TRANSFERTO - THUNES_FRANCE.pkl',\n",
       " 'ABTv3/Last_releases/TRANSFERTO - THUNES_GERMANY/MODEL_2d_TRANSFERTO - THUNES_GERMANY.pkl',\n",
       " 'ABTv3/Last_releases/TRANSFERTO - THUNES_GHANA/MODEL_2d_TRANSFERTO - THUNES_GHANA.pkl',\n",
       " 'ABTv3/Last_releases/TRANSFERTO - THUNES_ITALY/MODEL_2d_TRANSFERTO - THUNES_ITALY.pkl',\n",
       " 'ABTv3/Last_releases/TRANSFERTO - THUNES_NIGERIA/MODEL_2d_TRANSFERTO - THUNES_NIGERIA.pkl',\n",
       " 'ABTv3/Last_releases/TRANSFERTO - THUNES_PORTUGAL/MODEL_2d_TRANSFERTO - THUNES_PORTUGAL.pkl',\n",
       " 'ABTv3/Last_releases/TRANSFERTO - THUNES_SPAIN/MODEL_2d_TRANSFERTO - THUNES_SPAIN.pkl',\n",
       " 'ABTv3/Last_releases/TRANSFERTO - THUNES_UNITED KINGDOM/MODEL_2d_TRANSFERTO - THUNES_UNITED KINGDOM.pkl',\n",
       " 'ABTv3/Last_releases/TRANSPAY_BANGLADESH/MODEL_2d_TRANSPAY_BANGLADESH.pkl',\n",
       " 'ABTv3/Last_releases/TRANSPAY_BENIN/MODEL_2d_TRANSPAY_BENIN.pkl',\n",
       " 'ABTv3/Last_releases/TRANSPAY_CAMEROON/MODEL_2d_TRANSPAY_CAMEROON.pkl',\n",
       " 'ABTv3/Last_releases/TRANSPAY_INDONESIA/MODEL_2d_TRANSPAY_INDONESIA.pkl',\n",
       " 'ABTv3/Last_releases/TRANSPAY_SENEGAL/MODEL_2d_TRANSPAY_SENEGAL.pkl',\n",
       " 'ABTv3/Last_releases/TRANSPAY_TOGO/MODEL_2d_TRANSPAY_TOGO.pkl',\n",
       " 'ABTv3/Last_releases/UNITRANSFER_HAITI/MODEL_2d_UNITRANSFER_HAITI.pkl',\n",
       " 'ABTv3/Last_releases/VIAMERICAS USA DEPOSITS (RT)_UNITED STATES/MODEL_2d_VIAMERICAS USA DEPOSITS (RT)_UNITED STATES.pkl',\n",
       " 'ABTv3/Last_releases/VIAMERICAS USA DEPOSITS_UNITED STATES/MODEL_2d_VIAMERICAS USA DEPOSITS_UNITED STATES.pkl',\n",
       " 'ABTv3/Last_releases/VTN_NIGERIA/MODEL_2d_VTN_NIGERIA.pkl',\n",
       " 'ABTv3/Last_releases/WALDOS (APPRIZA)_MEXICO/MODEL_2d_WALDOS (APPRIZA)_MEXICO.pkl',\n",
       " 'ABTv3/Last_releases/WALMART (UT)_MEXICO/MODEL_2d_WALMART (UT)_MEXICO.pkl',\n",
       " 'ABTv3/Last_releases/YES BANK_INDIA/MODEL_2d_YES BANK_INDIA.pkl',\n",
       " 'ABTv3/Last_releases/ZEEPAY_CAMEROON/MODEL_2d_ZEEPAY_CAMEROON.pkl',\n",
       " \"ABTv3/Last_releases/ZEEPAY_COTE D'IVOIRE (IVORY COAST)/MODEL_2d_ZEEPAY_COTE D'IVOIRE (IVORY COAST).pkl\",\n",
       " 'ABTv3/Last_releases/ZEEPAY_GHANA/MODEL_2d_ZEEPAY_GHANA.pkl']"
      ]
     },
     "execution_count": 14,
     "metadata": {},
     "output_type": "execute_result"
    }
   ],
   "source": [
    "pkl_files"
   ]
  },
  {
   "cell_type": "code",
   "execution_count": 15,
   "id": "18276523-b857-4ae1-8d92-ebef5ecc6a4b",
   "metadata": {
    "tags": []
   },
   "outputs": [],
   "source": [
    "today = datetime.now().date()"
   ]
  },
  {
   "cell_type": "markdown",
   "id": "6f79405e-4fb0-46c7-9e49-b132858c1786",
   "metadata": {
    "tags": []
   },
   "source": [
    "### Loop to process all"
   ]
  },
  {
   "cell_type": "code",
   "execution_count": 16,
   "id": "36f02302-7431-4cf6-b0d2-f1ac9caad585",
   "metadata": {
    "tags": []
   },
   "outputs": [],
   "source": [
    "# Initialize an empty DataFrame to store the results\n",
    "df_temp = pd.DataFrame(columns=['date', 'pred', 'payer_country', 'model'])"
   ]
  },
  {
   "cell_type": "code",
   "execution_count": 17,
   "id": "2480ec1a-4431-48ae-a060-3bfedb50725f",
   "metadata": {},
   "outputs": [],
   "source": [
    "# Payers to present errors in the inference process.\n",
    "payer_countries_pinched = []"
   ]
  },
  {
   "cell_type": "code",
   "execution_count": null,
   "id": "1902074e-eaeb-4680-bd65-0cbca599323f",
   "metadata": {},
   "outputs": [],
   "source": []
  },
  {
   "cell_type": "code",
   "execution_count": 18,
   "id": "73216673-d677-4a91-a7cb-dddf26d7a6b5",
   "metadata": {
    "tags": []
   },
   "outputs": [],
   "source": [
    "#data=data.loc[data.payer_country=='ELEKTRA (MEXICO)_MEXICO']"
   ]
  },
  {
   "cell_type": "code",
   "execution_count": 19,
   "id": "33de5585-d8f9-4dd8-a7cb-2920b0eb45aa",
   "metadata": {
    "tags": []
   },
   "outputs": [
    {
     "name": "stdout",
     "output_type": "stream",
     "text": [
      "24XORO_MEXICO\n",
      "ABANK (TN)_EL SALVADOR\n",
      "AFEX_CHILE\n",
      "AFRO INTERNACIONAL_GUINEA\n",
      "AFRO INTERNACIONAL_SIERRA LEONE\n",
      "AIRPAK_MEXICO\n",
      "ARGENPER_ARGENTINA\n",
      "ARGENPER_BOLIVIA\n",
      "ARGENPER_CHILE\n",
      "ARGENPER_PERU\n",
      "BAM - BANCO AGROMERCANTIL (UT)_GUATEMALA\n",
      "BANCO AGRICOLA_EL SALVADOR\n",
      "BANCO ATLANTIDA_HONDURAS\n",
      "BANCO BHD LEON_DOMINICAN REPUBLIC\n",
      "BANCO BISA_BOLIVIA\n",
      "BANCO DAVIVIENDA SALVADORENO (BTS)_EL SALVADOR\n",
      "BANCO DAYCOVAL_BRAZIL\n",
      "BANCO DE CREDITO DEL PERU - BCP (UT)_PERU\n",
      "BANCO DE GUAYAQUIL_ECUADOR\n",
      "BANCO DE OCCIDENTE_HONDURAS\n",
      "BANCO DE ORO (BDO)_PHILIPPINES\n",
      "BANCO DEL AUSTRO_ECUADOR\n",
      "BANCO GANADERO (BOLIVIA)_BOLIVIA\n",
      "BANCO INDUSTRIAL ELS (RED CHAPINA)_EL SALVADOR\n",
      "BANCO INDUSTRIAL_GUATEMALA\n",
      "BANCO PICHINCHA (TN)_ECUADOR\n",
      "BANCO POPULAR HONDURAS (UT)_HONDURAS\n",
      "BANCO RENDIMENTO_BRAZIL\n",
      "BANCOLOMBIA_COLOMBIA\n",
      "BANCOPPEL (APPRIZA)_MEXICO\n",
      "BANHCAFE_HONDURAS\n",
      "BANK OF PHILIPPINE ISLANDS (BPI)_PHILIPPINES\n",
      "BANORTE (UT)_MEXICO\n",
      "BANPAIS (RED CHAPINA)_HONDURAS\n",
      "BANPRO_NICARAGUA\n",
      "BANRURAL (HONDURAS)_HONDURAS\n",
      "BANRURAL (RYT)_GUATEMALA\n",
      "BANTRAB (UT)_GUATEMALA\n",
      "BBVA - BANCOMER (BTS)_MEXICO\n",
      "BNB_LIBERIA\n",
      "BNB_SENEGAL\n",
      "BNB_SIERRA LEONE\n",
      "CAJA POPULAR MEXICANA (UT)_MEXICO\n",
      "CARIBE EXPRESS_DOMINICAN REPUBLIC\n",
      "CEBUANA LHUILLIER_PHILIPPINES\n",
      "COOPERATIVA CACIL (UT)_HONDURAS\n",
      "COOPERATIVA FRONTERIZA (UT)_HONDURAS\n",
      "CREDOMATIC (BTS)_NICARAGUA\n",
      "CREDOMATIC_EL SALVADOR\n",
      "CUSCA (CITI - RECIBA NETWORKS)_EL SALVADOR\n",
      "DAVIVIENDA - HONDURAS (BTS)_HONDURAS\n",
      "DAVIVIENDA_COLOMBIA\n",
      "DEPOSITOS BANCARIOS GUATEMALA - ACH_GUATEMALA\n",
      "EASY PAGOS_ECUADOR\n",
      "ECUAGIROS_ECUADOR\n",
      "ELEKTRA (BTS)_GUATEMALA\n",
      "ELEKTRA (BTS)_HONDURAS\n",
      "ELEKTRA (MEXICO)_MEXICO\n",
      "EMPENOS DEL SUR (ANTERIOR BALSAS)_MEXICO\n",
      "ENVICON (ANTERIORMENTE ENVIOS CONFIANZA)_MEXICO\n",
      "ENVIOS CON CLABE (APPRIZA)_MEXICO\n",
      "FARMACIAS DEL AHORRO (DATRANSFER)_MEXICO\n",
      "FARMACIAS GUADALAJARA (UT)_MEXICO\n",
      "FEDECACES (EL SALVADOR)_EL SALVADOR\n",
      "FEDECREDITO (RYT)_EL SALVADOR\n",
      "FICOHSA_HONDURAS\n",
      "G Y T CONTINENTAL_GUATEMALA\n",
      "GIROSMEX_MEXICO\n",
      "\u001b[1;31mError processing GIROSMEX_MEXICO\u001b[0m\n",
      "GLOBAL ENVIOS_ECUADOR\n",
      "GME_NEPAL\n",
      "GRUPO EXITO (TN)_COLOMBIA\n",
      "INTERBANK_PERU\n",
      "INTERMEX_MEXICO\n",
      "JMMB_JAMAICA\n",
      "KORI_BENIN\n",
      "KORI_BURKINA FASO\n",
      "LAFISE_NICARAGUA\n",
      "MASTERCARD ATM NETWORK_UNITED STATES\n",
      "MERCHANTRADE_BANGLADESH\n",
      "MERCHANTRADE_INDONESIA\n",
      "MERCHANTRADE_MALAYSIA\n",
      "MERCHANTRADE_NEPAL\n",
      "MERCHANTRADE_THAILAND\n",
      "METROBANK_PHILIPPINES\n",
      "MICOOPE-FENACOAC (RED CHAPINA)_GUATEMALA\n",
      "MSBB MONEY_BRAZIL\n",
      "MUTHOOT-BANGLADESH_BANGLADESH\n",
      "MUTHOOT_INDIA\n",
      "NAFA_BURKINA FASO\n",
      "NAFA_COTE D'IVOIRE (IVORY COAST)\n",
      "NAFA_GAMBIA, THE\n",
      "NAFA_GUINEA\n",
      "NAFA_LIBERIA\n",
      "NAFA_MALI\n",
      "NAFA_SENEGAL\n",
      "NAFA_TOGO\n",
      "NAIRAGRAM_NIGERIA\n",
      "OXXO (TN)_MEXICO\n",
      "PROMERICA (GUA)_GUATEMALA\n",
      "PROMERICA_EL SALVADOR\n",
      "SORIANA_MEXICO\n",
      "SPEED MONEY_PHILIPPINES\n",
      "TELECOMM TELEGRAFOS (APPRIZA)_MEXICO\n",
      "TELEDOLAR (TN)_COSTA RICA\n",
      "TELEDOLAR-NIC (TN)_NICARAGUA\n",
      "TRANSFER DIRECTO_MEXICO\n",
      "TRANSFERTO - THUNES_BELGIUM\n",
      "TRANSFERTO - THUNES_FRANCE\n",
      "TRANSFERTO - THUNES_GERMANY\n",
      "TRANSFERTO - THUNES_GHANA\n",
      "TRANSFERTO - THUNES_ITALY\n",
      "TRANSFERTO - THUNES_NIGERIA\n",
      "TRANSFERTO - THUNES_PORTUGAL\n",
      "TRANSFERTO - THUNES_SPAIN\n",
      "TRANSFERTO - THUNES_UNITED KINGDOM\n",
      "TRANSPAY_BANGLADESH\n",
      "TRANSPAY_BENIN\n",
      "TRANSPAY_CAMEROON\n",
      "TRANSPAY_INDONESIA\n",
      "TRANSPAY_SENEGAL\n",
      "TRANSPAY_TOGO\n",
      "UNITRANSFER_HAITI\n",
      "VIAMERICAS USA DEPOSITS (RT)_UNITED STATES\n",
      "VIAMERICAS USA DEPOSITS_UNITED STATES\n",
      "VTN_NIGERIA\n",
      "WALDOS (APPRIZA)_MEXICO\n",
      "WALMART (UT)_MEXICO\n",
      "YES BANK_INDIA\n",
      "ZEEPAY_CAMEROON\n",
      "ZEEPAY_COTE D'IVOIRE (IVORY COAST)\n",
      "ZEEPAY_GHANA\n"
     ]
    }
   ],
   "source": [
    "i = 1\n",
    "\n",
    "# Iterate over pkl files\n",
    "for file_key in pkl_files:\n",
    "    # Extract payer_country from file_key\n",
    "    payer_country = file_key.split('/')[2]\n",
    "    print(payer_country)\n",
    "    \n",
    "    # Download pkl file from S3 and load it into memory\n",
    "    response = client.get_object(Bucket=bucket_name, Key=file_key)\n",
    "    buffer = BytesIO(response['Body'].read())\n",
    "    forecaster = joblib.load(buffer)\n",
    "    \n",
    "    #### PAYER SETTING ####\n",
    "    # Filter data for the specific payer_country\n",
    "    datos = data[data['payer_country'] == payer_country].copy()\n",
    "#    datos = data.loc[data.payer_country == payer_country]\n",
    "    datos['date'] = pd.to_datetime(datos['date'])\n",
    "    datos.set_index('date', inplace=True)\n",
    "    datos = datos.asfreq('D')\n",
    "\n",
    "    # Predictions settings\n",
    "    last_window_date = forecaster.last_window.index[-1] + pd.Timedelta(days=1) #19/12/23 first day in last window\n",
    "    test_date = forecaster.last_window.index[-1] + pd.Timedelta(days=39) # The first test day would be the day to predict 29/12/23-==11-(esto CRECE SIEMPRE UN DIA MAS)\n",
    "\n",
    "    # Extract data for last window and test period\n",
    "    data_last_window = datos.loc[last_window_date:test_date - pd.Timedelta(days=1)].copy() #From 19/12/23 to test minus one day 28/12/23\n",
    "    data_last_window[forecaster.exog_col_names] = data_last_window[forecaster.exog_col_names].fillna(0)##extracting exogenous and filling missing\n",
    "    data_test = datos.loc[test_date:test_date + pd.Timedelta(days=1)].copy()#29/12/2023 we have data in test (first day to predict) and their extension (2 days) (7D IN 8D MODEL)\n",
    "    data_test[forecaster.exog_col_names] = data_test[forecaster.exog_col_names].fillna(0)##we fill in missings\n",
    "\n",
    "    try:\n",
    "        \n",
    "        with warnings.catch_warnings():\n",
    "            warnings.filterwarnings(\"ignore\")\n",
    "        # Make predictions\n",
    "        predictions = forecaster.predict(\n",
    "                          steps            = 2, # Days to predict\n",
    "                          exog             = data_test[forecaster.exog_col_names],\n",
    "                          last_window      = data_last_window['amount'],\n",
    "                          last_window_exog = data_last_window[forecaster.exog_col_names]\n",
    "                      )\n",
    "        # Store predictions in a temporary DataFrame\n",
    "        df_temp = pd.DataFrame(predictions, columns=['pred']).reset_index()\n",
    "\n",
    "    except:\n",
    "        # If an exception occurs, set predictions to zero\n",
    "        print(\"\\033[1;31m\" + f\"Error processing {payer_country}\" + \"\\033[0m\")\n",
    "        predictions = [0, 0]\n",
    "        df_temp = pd.DataFrame({'index': [test_date, test_date + pd.Timedelta(days=1)], 'pred': predictions})\n",
    "        payer_countries_pinched.append(payer_country)\n",
    "\n",
    "\n",
    "    # Add additional columns\n",
    "    df_temp['payer_country'] = payer_country\n",
    "    df_temp['model'] = file_key.split('/')[-1]\n",
    "\n",
    "    # Concatenate df_temp with the main DataFrame\n",
    "    if i:\n",
    "        temp_df = df_temp.copy()\n",
    "        i = 0\n",
    "    else:\n",
    "        temp_df = pd.concat([temp_df, df_temp], ignore_index=True)"
   ]
  },
  {
   "cell_type": "code",
   "execution_count": 20,
   "id": "74397e19-98b3-4948-937a-5658acb5521a",
   "metadata": {
    "tags": []
   },
   "outputs": [],
   "source": [
    "#print(pkl_files)"
   ]
  },
  {
   "cell_type": "code",
   "execution_count": 21,
   "id": "d94193ea-7228-417c-8fad-30ceab99e8f8",
   "metadata": {
    "tags": []
   },
   "outputs": [
    {
     "data": {
      "text/plain": [
       "Timestamp('2023-12-19 00:00:00')"
      ]
     },
     "execution_count": 21,
     "metadata": {},
     "output_type": "execute_result"
    }
   ],
   "source": [
    "data_last_window.index.min()\n",
    "#test_date"
   ]
  },
  {
   "cell_type": "code",
   "execution_count": 22,
   "id": "8cbf1370-54ad-43ce-b68a-6b6a41e1b426",
   "metadata": {
    "tags": []
   },
   "outputs": [
    {
     "data": {
      "text/plain": [
       "['GIROSMEX_MEXICO']"
      ]
     },
     "execution_count": 22,
     "metadata": {},
     "output_type": "execute_result"
    }
   ],
   "source": [
    "payer_countries_pinched"
   ]
  },
  {
   "cell_type": "code",
   "execution_count": 23,
   "id": "b15b642a-2119-4102-829a-e2044b66f801",
   "metadata": {
    "tags": []
   },
   "outputs": [
    {
     "data": {
      "text/html": [
       "<div>\n",
       "<style scoped>\n",
       "    .dataframe tbody tr th:only-of-type {\n",
       "        vertical-align: middle;\n",
       "    }\n",
       "\n",
       "    .dataframe tbody tr th {\n",
       "        vertical-align: top;\n",
       "    }\n",
       "\n",
       "    .dataframe thead th {\n",
       "        text-align: right;\n",
       "    }\n",
       "</style>\n",
       "<table border=\"1\" class=\"dataframe\">\n",
       "  <thead>\n",
       "    <tr style=\"text-align: right;\">\n",
       "      <th></th>\n",
       "      <th>index</th>\n",
       "      <th>pred</th>\n",
       "      <th>payer_country</th>\n",
       "      <th>model</th>\n",
       "    </tr>\n",
       "  </thead>\n",
       "  <tbody>\n",
       "    <tr>\n",
       "      <th>6</th>\n",
       "      <td>2024-01-26</td>\n",
       "      <td>-5.642385e-17</td>\n",
       "      <td>AFRO INTERNACIONAL_GUINEA</td>\n",
       "      <td>MODEL_2d_AFRO INTERNACIONAL_GUINEA.pkl</td>\n",
       "    </tr>\n",
       "    <tr>\n",
       "      <th>82</th>\n",
       "      <td>2023-12-21</td>\n",
       "      <td>-5.028143e-04</td>\n",
       "      <td>BNB_SIERRA LEONE</td>\n",
       "      <td>MODEL_2d_BNB_SIERRA LEONE.pkl</td>\n",
       "    </tr>\n",
       "    <tr>\n",
       "      <th>84</th>\n",
       "      <td>2024-01-26</td>\n",
       "      <td>-4.718102e+00</td>\n",
       "      <td>CAJA POPULAR MEXICANA (UT)_MEXICO</td>\n",
       "      <td>MODEL_2d_CAJA POPULAR MEXICANA (UT)_MEXICO.pkl</td>\n",
       "    </tr>\n",
       "    <tr>\n",
       "      <th>85</th>\n",
       "      <td>2024-01-27</td>\n",
       "      <td>-4.718102e+00</td>\n",
       "      <td>CAJA POPULAR MEXICANA (UT)_MEXICO</td>\n",
       "      <td>MODEL_2d_CAJA POPULAR MEXICANA (UT)_MEXICO.pkl</td>\n",
       "    </tr>\n",
       "    <tr>\n",
       "      <th>173</th>\n",
       "      <td>2024-01-27</td>\n",
       "      <td>-6.915966e+01</td>\n",
       "      <td>MUTHOOT-BANGLADESH_BANGLADESH</td>\n",
       "      <td>MODEL_2d_MUTHOOT-BANGLADESH_BANGLADESH.pkl</td>\n",
       "    </tr>\n",
       "    <tr>\n",
       "      <th>222</th>\n",
       "      <td>2024-01-26</td>\n",
       "      <td>-4.060429e+02</td>\n",
       "      <td>TRANSFERTO - THUNES_NIGERIA</td>\n",
       "      <td>MODEL_2d_TRANSFERTO - THUNES_NIGERIA.pkl</td>\n",
       "    </tr>\n",
       "    <tr>\n",
       "      <th>249</th>\n",
       "      <td>2024-01-24</td>\n",
       "      <td>-2.751725e+00</td>\n",
       "      <td>VTN_NIGERIA</td>\n",
       "      <td>MODEL_2d_VTN_NIGERIA.pkl</td>\n",
       "    </tr>\n",
       "    <tr>\n",
       "      <th>260</th>\n",
       "      <td>2024-01-26</td>\n",
       "      <td>-4.448588e+02</td>\n",
       "      <td>ZEEPAY_GHANA</td>\n",
       "      <td>MODEL_2d_ZEEPAY_GHANA.pkl</td>\n",
       "    </tr>\n",
       "    <tr>\n",
       "      <th>261</th>\n",
       "      <td>2024-01-27</td>\n",
       "      <td>-2.289884e+02</td>\n",
       "      <td>ZEEPAY_GHANA</td>\n",
       "      <td>MODEL_2d_ZEEPAY_GHANA.pkl</td>\n",
       "    </tr>\n",
       "  </tbody>\n",
       "</table>\n",
       "</div>"
      ],
      "text/plain": [
       "         index          pred                      payer_country  \\\n",
       "6   2024-01-26 -5.642385e-17          AFRO INTERNACIONAL_GUINEA   \n",
       "82  2023-12-21 -5.028143e-04                   BNB_SIERRA LEONE   \n",
       "84  2024-01-26 -4.718102e+00  CAJA POPULAR MEXICANA (UT)_MEXICO   \n",
       "85  2024-01-27 -4.718102e+00  CAJA POPULAR MEXICANA (UT)_MEXICO   \n",
       "173 2024-01-27 -6.915966e+01      MUTHOOT-BANGLADESH_BANGLADESH   \n",
       "222 2024-01-26 -4.060429e+02        TRANSFERTO - THUNES_NIGERIA   \n",
       "249 2024-01-24 -2.751725e+00                        VTN_NIGERIA   \n",
       "260 2024-01-26 -4.448588e+02                       ZEEPAY_GHANA   \n",
       "261 2024-01-27 -2.289884e+02                       ZEEPAY_GHANA   \n",
       "\n",
       "                                              model  \n",
       "6            MODEL_2d_AFRO INTERNACIONAL_GUINEA.pkl  \n",
       "82                    MODEL_2d_BNB_SIERRA LEONE.pkl  \n",
       "84   MODEL_2d_CAJA POPULAR MEXICANA (UT)_MEXICO.pkl  \n",
       "85   MODEL_2d_CAJA POPULAR MEXICANA (UT)_MEXICO.pkl  \n",
       "173      MODEL_2d_MUTHOOT-BANGLADESH_BANGLADESH.pkl  \n",
       "222        MODEL_2d_TRANSFERTO - THUNES_NIGERIA.pkl  \n",
       "249                        MODEL_2d_VTN_NIGERIA.pkl  \n",
       "260                       MODEL_2d_ZEEPAY_GHANA.pkl  \n",
       "261                       MODEL_2d_ZEEPAY_GHANA.pkl  "
      ]
     },
     "execution_count": 23,
     "metadata": {},
     "output_type": "execute_result"
    }
   ],
   "source": [
    "temp_df[temp_df['pred'] < 0]"
   ]
  },
  {
   "cell_type": "code",
   "execution_count": 24,
   "id": "a00be102-5250-4477-8d58-7767b039f6c9",
   "metadata": {
    "tags": []
   },
   "outputs": [],
   "source": [
    "# Replace values in 'pred' column with 0 where 'pred' is less than 0\n",
    "temp_df.loc[temp_df['pred'] < 0, 'pred'] = 0"
   ]
  },
  {
   "cell_type": "code",
   "execution_count": 25,
   "id": "4bd3f5a8-3a7e-4939-b261-ee45af7f9f5d",
   "metadata": {
    "tags": []
   },
   "outputs": [],
   "source": [
    "# Convert 'index' column to date format\n",
    "temp_df['index'] = pd.to_datetime(temp_df['index']).dt.date"
   ]
  },
  {
   "cell_type": "code",
   "execution_count": 26,
   "id": "9c8cc489-4819-42d3-a523-cd97534f180a",
   "metadata": {
    "tags": []
   },
   "outputs": [
    {
     "data": {
      "text/html": [
       "<div>\n",
       "<style scoped>\n",
       "    .dataframe tbody tr th:only-of-type {\n",
       "        vertical-align: middle;\n",
       "    }\n",
       "\n",
       "    .dataframe tbody tr th {\n",
       "        vertical-align: top;\n",
       "    }\n",
       "\n",
       "    .dataframe thead th {\n",
       "        text-align: right;\n",
       "    }\n",
       "</style>\n",
       "<table border=\"1\" class=\"dataframe\">\n",
       "  <thead>\n",
       "    <tr style=\"text-align: right;\">\n",
       "      <th></th>\n",
       "      <th>index</th>\n",
       "      <th>pred</th>\n",
       "      <th>payer_country</th>\n",
       "      <th>model</th>\n",
       "    </tr>\n",
       "  </thead>\n",
       "  <tbody>\n",
       "    <tr>\n",
       "      <th>0</th>\n",
       "      <td>2024-01-26</td>\n",
       "      <td>42132.100326</td>\n",
       "      <td>24XORO_MEXICO</td>\n",
       "      <td>MODEL_2d_24XORO_MEXICO.pkl</td>\n",
       "    </tr>\n",
       "    <tr>\n",
       "      <th>1</th>\n",
       "      <td>2024-01-27</td>\n",
       "      <td>24509.257391</td>\n",
       "      <td>24XORO_MEXICO</td>\n",
       "      <td>MODEL_2d_24XORO_MEXICO.pkl</td>\n",
       "    </tr>\n",
       "    <tr>\n",
       "      <th>2</th>\n",
       "      <td>2024-01-26</td>\n",
       "      <td>16845.073341</td>\n",
       "      <td>ABANK (TN)_EL SALVADOR</td>\n",
       "      <td>MODEL_2d_ABANK (TN)_EL SALVADOR.pkl</td>\n",
       "    </tr>\n",
       "    <tr>\n",
       "      <th>3</th>\n",
       "      <td>2024-01-27</td>\n",
       "      <td>13952.075612</td>\n",
       "      <td>ABANK (TN)_EL SALVADOR</td>\n",
       "      <td>MODEL_2d_ABANK (TN)_EL SALVADOR.pkl</td>\n",
       "    </tr>\n",
       "  </tbody>\n",
       "</table>\n",
       "</div>"
      ],
      "text/plain": [
       "        index          pred           payer_country  \\\n",
       "0  2024-01-26  42132.100326           24XORO_MEXICO   \n",
       "1  2024-01-27  24509.257391           24XORO_MEXICO   \n",
       "2  2024-01-26  16845.073341  ABANK (TN)_EL SALVADOR   \n",
       "3  2024-01-27  13952.075612  ABANK (TN)_EL SALVADOR   \n",
       "\n",
       "                                 model  \n",
       "0           MODEL_2d_24XORO_MEXICO.pkl  \n",
       "1           MODEL_2d_24XORO_MEXICO.pkl  \n",
       "2  MODEL_2d_ABANK (TN)_EL SALVADOR.pkl  \n",
       "3  MODEL_2d_ABANK (TN)_EL SALVADOR.pkl  "
      ]
     },
     "execution_count": 26,
     "metadata": {},
     "output_type": "execute_result"
    }
   ],
   "source": [
    "temp_df.head(4)"
   ]
  },
  {
   "cell_type": "code",
   "execution_count": 27,
   "id": "390fb1f8-dfea-4c71-8642-da145b185cb3",
   "metadata": {
    "tags": []
   },
   "outputs": [],
   "source": [
    "temp_df.rename(columns={'index':'pred_date'}, inplace=True)"
   ]
  },
  {
   "cell_type": "code",
   "execution_count": 28,
   "id": "e72d3009-ad50-4c87-b525-e13f37c7dcbe",
   "metadata": {},
   "outputs": [
    {
     "data": {
      "text/html": [
       "<div>\n",
       "<style scoped>\n",
       "    .dataframe tbody tr th:only-of-type {\n",
       "        vertical-align: middle;\n",
       "    }\n",
       "\n",
       "    .dataframe tbody tr th {\n",
       "        vertical-align: top;\n",
       "    }\n",
       "\n",
       "    .dataframe thead th {\n",
       "        text-align: right;\n",
       "    }\n",
       "</style>\n",
       "<table border=\"1\" class=\"dataframe\">\n",
       "  <thead>\n",
       "    <tr style=\"text-align: right;\">\n",
       "      <th></th>\n",
       "      <th>pred_date</th>\n",
       "      <th>pred</th>\n",
       "      <th>payer_country</th>\n",
       "      <th>model</th>\n",
       "    </tr>\n",
       "  </thead>\n",
       "  <tbody>\n",
       "    <tr>\n",
       "      <th>0</th>\n",
       "      <td>2024-01-26</td>\n",
       "      <td>42132.100326</td>\n",
       "      <td>24XORO_MEXICO</td>\n",
       "      <td>MODEL_2d_24XORO_MEXICO.pkl</td>\n",
       "    </tr>\n",
       "    <tr>\n",
       "      <th>1</th>\n",
       "      <td>2024-01-27</td>\n",
       "      <td>24509.257391</td>\n",
       "      <td>24XORO_MEXICO</td>\n",
       "      <td>MODEL_2d_24XORO_MEXICO.pkl</td>\n",
       "    </tr>\n",
       "    <tr>\n",
       "      <th>2</th>\n",
       "      <td>2024-01-26</td>\n",
       "      <td>16845.073341</td>\n",
       "      <td>ABANK (TN)_EL SALVADOR</td>\n",
       "      <td>MODEL_2d_ABANK (TN)_EL SALVADOR.pkl</td>\n",
       "    </tr>\n",
       "    <tr>\n",
       "      <th>3</th>\n",
       "      <td>2024-01-27</td>\n",
       "      <td>13952.075612</td>\n",
       "      <td>ABANK (TN)_EL SALVADOR</td>\n",
       "      <td>MODEL_2d_ABANK (TN)_EL SALVADOR.pkl</td>\n",
       "    </tr>\n",
       "    <tr>\n",
       "      <th>4</th>\n",
       "      <td>2024-01-26</td>\n",
       "      <td>3210.051757</td>\n",
       "      <td>AFEX_CHILE</td>\n",
       "      <td>MODEL_2d_AFEX_CHILE.pkl</td>\n",
       "    </tr>\n",
       "    <tr>\n",
       "      <th>...</th>\n",
       "      <td>...</td>\n",
       "      <td>...</td>\n",
       "      <td>...</td>\n",
       "      <td>...</td>\n",
       "    </tr>\n",
       "    <tr>\n",
       "      <th>257</th>\n",
       "      <td>2024-01-10</td>\n",
       "      <td>115.316176</td>\n",
       "      <td>ZEEPAY_CAMEROON</td>\n",
       "      <td>MODEL_2d_ZEEPAY_CAMEROON.pkl</td>\n",
       "    </tr>\n",
       "    <tr>\n",
       "      <th>258</th>\n",
       "      <td>2024-01-08</td>\n",
       "      <td>6.990699</td>\n",
       "      <td>ZEEPAY_COTE D'IVOIRE (IVORY COAST)</td>\n",
       "      <td>MODEL_2d_ZEEPAY_COTE D'IVOIRE (IVORY COAST).pkl</td>\n",
       "    </tr>\n",
       "    <tr>\n",
       "      <th>259</th>\n",
       "      <td>2024-01-09</td>\n",
       "      <td>7.585481</td>\n",
       "      <td>ZEEPAY_COTE D'IVOIRE (IVORY COAST)</td>\n",
       "      <td>MODEL_2d_ZEEPAY_COTE D'IVOIRE (IVORY COAST).pkl</td>\n",
       "    </tr>\n",
       "    <tr>\n",
       "      <th>260</th>\n",
       "      <td>2024-01-26</td>\n",
       "      <td>0.000000</td>\n",
       "      <td>ZEEPAY_GHANA</td>\n",
       "      <td>MODEL_2d_ZEEPAY_GHANA.pkl</td>\n",
       "    </tr>\n",
       "    <tr>\n",
       "      <th>261</th>\n",
       "      <td>2024-01-27</td>\n",
       "      <td>0.000000</td>\n",
       "      <td>ZEEPAY_GHANA</td>\n",
       "      <td>MODEL_2d_ZEEPAY_GHANA.pkl</td>\n",
       "    </tr>\n",
       "  </tbody>\n",
       "</table>\n",
       "<p>262 rows × 4 columns</p>\n",
       "</div>"
      ],
      "text/plain": [
       "      pred_date          pred                       payer_country  \\\n",
       "0    2024-01-26  42132.100326                       24XORO_MEXICO   \n",
       "1    2024-01-27  24509.257391                       24XORO_MEXICO   \n",
       "2    2024-01-26  16845.073341              ABANK (TN)_EL SALVADOR   \n",
       "3    2024-01-27  13952.075612              ABANK (TN)_EL SALVADOR   \n",
       "4    2024-01-26   3210.051757                          AFEX_CHILE   \n",
       "..          ...           ...                                 ...   \n",
       "257  2024-01-10    115.316176                     ZEEPAY_CAMEROON   \n",
       "258  2024-01-08      6.990699  ZEEPAY_COTE D'IVOIRE (IVORY COAST)   \n",
       "259  2024-01-09      7.585481  ZEEPAY_COTE D'IVOIRE (IVORY COAST)   \n",
       "260  2024-01-26      0.000000                        ZEEPAY_GHANA   \n",
       "261  2024-01-27      0.000000                        ZEEPAY_GHANA   \n",
       "\n",
       "                                               model  \n",
       "0                         MODEL_2d_24XORO_MEXICO.pkl  \n",
       "1                         MODEL_2d_24XORO_MEXICO.pkl  \n",
       "2                MODEL_2d_ABANK (TN)_EL SALVADOR.pkl  \n",
       "3                MODEL_2d_ABANK (TN)_EL SALVADOR.pkl  \n",
       "4                            MODEL_2d_AFEX_CHILE.pkl  \n",
       "..                                               ...  \n",
       "257                     MODEL_2d_ZEEPAY_CAMEROON.pkl  \n",
       "258  MODEL_2d_ZEEPAY_COTE D'IVOIRE (IVORY COAST).pkl  \n",
       "259  MODEL_2d_ZEEPAY_COTE D'IVOIRE (IVORY COAST).pkl  \n",
       "260                        MODEL_2d_ZEEPAY_GHANA.pkl  \n",
       "261                        MODEL_2d_ZEEPAY_GHANA.pkl  \n",
       "\n",
       "[262 rows x 4 columns]"
      ]
     },
     "execution_count": 28,
     "metadata": {},
     "output_type": "execute_result"
    }
   ],
   "source": [
    "temp_df"
   ]
  },
  {
   "cell_type": "code",
   "execution_count": 29,
   "id": "0b86462f-330c-40bf-a975-23e05117bb67",
   "metadata": {},
   "outputs": [],
   "source": [
    "control=temp_df.loc[temp_df.payer_country==\"ELEKTRA (MEXICO)_MEXICO\"]"
   ]
  },
  {
   "cell_type": "code",
   "execution_count": 30,
   "id": "f8539f43-569e-4a2a-b5a5-a1123196c7ed",
   "metadata": {
    "tags": []
   },
   "outputs": [
    {
     "data": {
      "text/html": [
       "<div>\n",
       "<style scoped>\n",
       "    .dataframe tbody tr th:only-of-type {\n",
       "        vertical-align: middle;\n",
       "    }\n",
       "\n",
       "    .dataframe tbody tr th {\n",
       "        vertical-align: top;\n",
       "    }\n",
       "\n",
       "    .dataframe thead th {\n",
       "        text-align: right;\n",
       "    }\n",
       "</style>\n",
       "<table border=\"1\" class=\"dataframe\">\n",
       "  <thead>\n",
       "    <tr style=\"text-align: right;\">\n",
       "      <th></th>\n",
       "      <th>pred_date</th>\n",
       "      <th>pred</th>\n",
       "      <th>payer_country</th>\n",
       "      <th>model</th>\n",
       "    </tr>\n",
       "  </thead>\n",
       "  <tbody>\n",
       "    <tr>\n",
       "      <th>114</th>\n",
       "      <td>2024-01-26</td>\n",
       "      <td>8.676394e+06</td>\n",
       "      <td>ELEKTRA (MEXICO)_MEXICO</td>\n",
       "      <td>MODEL_2d_ELEKTRA (MEXICO)_MEXICO.pkl</td>\n",
       "    </tr>\n",
       "    <tr>\n",
       "      <th>115</th>\n",
       "      <td>2024-01-27</td>\n",
       "      <td>1.016274e+07</td>\n",
       "      <td>ELEKTRA (MEXICO)_MEXICO</td>\n",
       "      <td>MODEL_2d_ELEKTRA (MEXICO)_MEXICO.pkl</td>\n",
       "    </tr>\n",
       "  </tbody>\n",
       "</table>\n",
       "</div>"
      ],
      "text/plain": [
       "      pred_date          pred            payer_country  \\\n",
       "114  2024-01-26  8.676394e+06  ELEKTRA (MEXICO)_MEXICO   \n",
       "115  2024-01-27  1.016274e+07  ELEKTRA (MEXICO)_MEXICO   \n",
       "\n",
       "                                    model  \n",
       "114  MODEL_2d_ELEKTRA (MEXICO)_MEXICO.pkl  \n",
       "115  MODEL_2d_ELEKTRA (MEXICO)_MEXICO.pkl  "
      ]
     },
     "execution_count": 30,
     "metadata": {},
     "output_type": "execute_result"
    }
   ],
   "source": [
    "control"
   ]
  },
  {
   "cell_type": "code",
   "execution_count": 31,
   "id": "28601385-bd64-4671-a0f1-05dd9d65709a",
   "metadata": {
    "tags": []
   },
   "outputs": [],
   "source": [
    "control=temp_df.loc[temp_df.payer_country==\"BANCOPPEL (APPRIZA)_MEXICO\"]"
   ]
  },
  {
   "cell_type": "code",
   "execution_count": 32,
   "id": "6cfe1e80-da92-45d2-a038-e4763b553d36",
   "metadata": {
    "tags": []
   },
   "outputs": [
    {
     "data": {
      "text/html": [
       "<div>\n",
       "<style scoped>\n",
       "    .dataframe tbody tr th:only-of-type {\n",
       "        vertical-align: middle;\n",
       "    }\n",
       "\n",
       "    .dataframe tbody tr th {\n",
       "        vertical-align: top;\n",
       "    }\n",
       "\n",
       "    .dataframe thead th {\n",
       "        text-align: right;\n",
       "    }\n",
       "</style>\n",
       "<table border=\"1\" class=\"dataframe\">\n",
       "  <thead>\n",
       "    <tr style=\"text-align: right;\">\n",
       "      <th></th>\n",
       "      <th>pred_date</th>\n",
       "      <th>pred</th>\n",
       "      <th>payer_country</th>\n",
       "      <th>model</th>\n",
       "    </tr>\n",
       "  </thead>\n",
       "  <tbody>\n",
       "    <tr>\n",
       "      <th>58</th>\n",
       "      <td>2024-01-26</td>\n",
       "      <td>5.383788e+06</td>\n",
       "      <td>BANCOPPEL (APPRIZA)_MEXICO</td>\n",
       "      <td>MODEL_2d_BANCOPPEL (APPRIZA)_MEXICO.pkl</td>\n",
       "    </tr>\n",
       "    <tr>\n",
       "      <th>59</th>\n",
       "      <td>2024-01-27</td>\n",
       "      <td>6.068382e+06</td>\n",
       "      <td>BANCOPPEL (APPRIZA)_MEXICO</td>\n",
       "      <td>MODEL_2d_BANCOPPEL (APPRIZA)_MEXICO.pkl</td>\n",
       "    </tr>\n",
       "  </tbody>\n",
       "</table>\n",
       "</div>"
      ],
      "text/plain": [
       "     pred_date          pred               payer_country  \\\n",
       "58  2024-01-26  5.383788e+06  BANCOPPEL (APPRIZA)_MEXICO   \n",
       "59  2024-01-27  6.068382e+06  BANCOPPEL (APPRIZA)_MEXICO   \n",
       "\n",
       "                                      model  \n",
       "58  MODEL_2d_BANCOPPEL (APPRIZA)_MEXICO.pkl  \n",
       "59  MODEL_2d_BANCOPPEL (APPRIZA)_MEXICO.pkl  "
      ]
     },
     "execution_count": 32,
     "metadata": {},
     "output_type": "execute_result"
    }
   ],
   "source": [
    "control"
   ]
  },
  {
   "cell_type": "code",
   "execution_count": 33,
   "id": "de53187b-20d5-456f-88f6-57e96ee58075",
   "metadata": {
    "tags": []
   },
   "outputs": [],
   "source": [
    "control=temp_df.loc[temp_df.payer_country==\"BANRURAL (RYT)_GUATEMALA\"]"
   ]
  },
  {
   "cell_type": "code",
   "execution_count": 34,
   "id": "a0fca3f7-067d-45d9-ba9f-cb4a08f6102f",
   "metadata": {
    "tags": []
   },
   "outputs": [
    {
     "data": {
      "text/html": [
       "<div>\n",
       "<style scoped>\n",
       "    .dataframe tbody tr th:only-of-type {\n",
       "        vertical-align: middle;\n",
       "    }\n",
       "\n",
       "    .dataframe tbody tr th {\n",
       "        vertical-align: top;\n",
       "    }\n",
       "\n",
       "    .dataframe thead th {\n",
       "        text-align: right;\n",
       "    }\n",
       "</style>\n",
       "<table border=\"1\" class=\"dataframe\">\n",
       "  <thead>\n",
       "    <tr style=\"text-align: right;\">\n",
       "      <th></th>\n",
       "      <th>pred_date</th>\n",
       "      <th>pred</th>\n",
       "      <th>payer_country</th>\n",
       "      <th>model</th>\n",
       "    </tr>\n",
       "  </thead>\n",
       "  <tbody>\n",
       "    <tr>\n",
       "      <th>72</th>\n",
       "      <td>2024-01-26</td>\n",
       "      <td>4.070959e+06</td>\n",
       "      <td>BANRURAL (RYT)_GUATEMALA</td>\n",
       "      <td>MODEL_2d_BANRURAL (RYT)_GUATEMALA_2d.pkl</td>\n",
       "    </tr>\n",
       "    <tr>\n",
       "      <th>73</th>\n",
       "      <td>2024-01-27</td>\n",
       "      <td>5.436082e+06</td>\n",
       "      <td>BANRURAL (RYT)_GUATEMALA</td>\n",
       "      <td>MODEL_2d_BANRURAL (RYT)_GUATEMALA_2d.pkl</td>\n",
       "    </tr>\n",
       "  </tbody>\n",
       "</table>\n",
       "</div>"
      ],
      "text/plain": [
       "     pred_date          pred             payer_country  \\\n",
       "72  2024-01-26  4.070959e+06  BANRURAL (RYT)_GUATEMALA   \n",
       "73  2024-01-27  5.436082e+06  BANRURAL (RYT)_GUATEMALA   \n",
       "\n",
       "                                       model  \n",
       "72  MODEL_2d_BANRURAL (RYT)_GUATEMALA_2d.pkl  \n",
       "73  MODEL_2d_BANRURAL (RYT)_GUATEMALA_2d.pkl  "
      ]
     },
     "execution_count": 34,
     "metadata": {},
     "output_type": "execute_result"
    }
   ],
   "source": [
    "control"
   ]
  },
  {
   "cell_type": "code",
   "execution_count": 35,
   "id": "f29e3805-06a9-4e8b-999f-dadcf6182689",
   "metadata": {
    "tags": []
   },
   "outputs": [],
   "source": [
    "control=temp_df.loc[temp_df.payer_country==\"BANCO INDUSTRIAL_GUATEMALA\"]"
   ]
  },
  {
   "cell_type": "code",
   "execution_count": 36,
   "id": "7f13424c-30f1-4ea7-9202-e4e9d136fa9c",
   "metadata": {},
   "outputs": [
    {
     "data": {
      "text/html": [
       "<div>\n",
       "<style scoped>\n",
       "    .dataframe tbody tr th:only-of-type {\n",
       "        vertical-align: middle;\n",
       "    }\n",
       "\n",
       "    .dataframe tbody tr th {\n",
       "        vertical-align: top;\n",
       "    }\n",
       "\n",
       "    .dataframe thead th {\n",
       "        text-align: right;\n",
       "    }\n",
       "</style>\n",
       "<table border=\"1\" class=\"dataframe\">\n",
       "  <thead>\n",
       "    <tr style=\"text-align: right;\">\n",
       "      <th></th>\n",
       "      <th>pred_date</th>\n",
       "      <th>pred</th>\n",
       "      <th>payer_country</th>\n",
       "      <th>model</th>\n",
       "    </tr>\n",
       "  </thead>\n",
       "  <tbody>\n",
       "    <tr>\n",
       "      <th>48</th>\n",
       "      <td>2024-01-26</td>\n",
       "      <td>2.760194e+06</td>\n",
       "      <td>BANCO INDUSTRIAL_GUATEMALA</td>\n",
       "      <td>MODEL_2d_BANCO INDUSTRIAL_GUATEMALA.pkl</td>\n",
       "    </tr>\n",
       "    <tr>\n",
       "      <th>49</th>\n",
       "      <td>2024-01-27</td>\n",
       "      <td>3.563781e+06</td>\n",
       "      <td>BANCO INDUSTRIAL_GUATEMALA</td>\n",
       "      <td>MODEL_2d_BANCO INDUSTRIAL_GUATEMALA.pkl</td>\n",
       "    </tr>\n",
       "  </tbody>\n",
       "</table>\n",
       "</div>"
      ],
      "text/plain": [
       "     pred_date          pred               payer_country  \\\n",
       "48  2024-01-26  2.760194e+06  BANCO INDUSTRIAL_GUATEMALA   \n",
       "49  2024-01-27  3.563781e+06  BANCO INDUSTRIAL_GUATEMALA   \n",
       "\n",
       "                                      model  \n",
       "48  MODEL_2d_BANCO INDUSTRIAL_GUATEMALA.pkl  \n",
       "49  MODEL_2d_BANCO INDUSTRIAL_GUATEMALA.pkl  "
      ]
     },
     "execution_count": 36,
     "metadata": {},
     "output_type": "execute_result"
    }
   ],
   "source": [
    "control"
   ]
  },
  {
   "cell_type": "code",
   "execution_count": 37,
   "id": "45875dcc-9329-4633-9f84-548b61db126e",
   "metadata": {
    "tags": []
   },
   "outputs": [],
   "source": [
    "control=temp_df.loc[temp_df.payer_country==\"BBVA - BANCOMER (BTS)_MEXICO\"]"
   ]
  },
  {
   "cell_type": "code",
   "execution_count": 38,
   "id": "5c16cb3b-f4c4-4fb4-9362-999380cb0481",
   "metadata": {
    "tags": []
   },
   "outputs": [
    {
     "data": {
      "text/html": [
       "<div>\n",
       "<style scoped>\n",
       "    .dataframe tbody tr th:only-of-type {\n",
       "        vertical-align: middle;\n",
       "    }\n",
       "\n",
       "    .dataframe tbody tr th {\n",
       "        vertical-align: top;\n",
       "    }\n",
       "\n",
       "    .dataframe thead th {\n",
       "        text-align: right;\n",
       "    }\n",
       "</style>\n",
       "<table border=\"1\" class=\"dataframe\">\n",
       "  <thead>\n",
       "    <tr style=\"text-align: right;\">\n",
       "      <th></th>\n",
       "      <th>pred_date</th>\n",
       "      <th>pred</th>\n",
       "      <th>payer_country</th>\n",
       "      <th>model</th>\n",
       "    </tr>\n",
       "  </thead>\n",
       "  <tbody>\n",
       "    <tr>\n",
       "      <th>76</th>\n",
       "      <td>2024-01-26</td>\n",
       "      <td>854530.129120</td>\n",
       "      <td>BBVA - BANCOMER (BTS)_MEXICO</td>\n",
       "      <td>MODEL_2d_BBVA - BANCOMER (BTS)_MEXICO.pkl</td>\n",
       "    </tr>\n",
       "    <tr>\n",
       "      <th>77</th>\n",
       "      <td>2024-01-27</td>\n",
       "      <td>866486.138858</td>\n",
       "      <td>BBVA - BANCOMER (BTS)_MEXICO</td>\n",
       "      <td>MODEL_2d_BBVA - BANCOMER (BTS)_MEXICO.pkl</td>\n",
       "    </tr>\n",
       "  </tbody>\n",
       "</table>\n",
       "</div>"
      ],
      "text/plain": [
       "     pred_date           pred                 payer_country  \\\n",
       "76  2024-01-26  854530.129120  BBVA - BANCOMER (BTS)_MEXICO   \n",
       "77  2024-01-27  866486.138858  BBVA - BANCOMER (BTS)_MEXICO   \n",
       "\n",
       "                                        model  \n",
       "76  MODEL_2d_BBVA - BANCOMER (BTS)_MEXICO.pkl  \n",
       "77  MODEL_2d_BBVA - BANCOMER (BTS)_MEXICO.pkl  "
      ]
     },
     "execution_count": 38,
     "metadata": {},
     "output_type": "execute_result"
    }
   ],
   "source": [
    "control"
   ]
  },
  {
   "cell_type": "code",
   "execution_count": 39,
   "id": "07046e97-39ce-44c2-8ad0-74d8d4ae9dd0",
   "metadata": {},
   "outputs": [],
   "source": [
    "control=temp_df.loc[temp_df.payer_country==\"ENVIOS CON CLABE (APPRIZA)_MEXICO\"]"
   ]
  },
  {
   "cell_type": "code",
   "execution_count": 40,
   "id": "431a9fde-9a91-4a74-a95e-555e3691542d",
   "metadata": {
    "tags": []
   },
   "outputs": [
    {
     "data": {
      "text/html": [
       "<div>\n",
       "<style scoped>\n",
       "    .dataframe tbody tr th:only-of-type {\n",
       "        vertical-align: middle;\n",
       "    }\n",
       "\n",
       "    .dataframe tbody tr th {\n",
       "        vertical-align: top;\n",
       "    }\n",
       "\n",
       "    .dataframe thead th {\n",
       "        text-align: right;\n",
       "    }\n",
       "</style>\n",
       "<table border=\"1\" class=\"dataframe\">\n",
       "  <thead>\n",
       "    <tr style=\"text-align: right;\">\n",
       "      <th></th>\n",
       "      <th>pred_date</th>\n",
       "      <th>pred</th>\n",
       "      <th>payer_country</th>\n",
       "      <th>model</th>\n",
       "    </tr>\n",
       "  </thead>\n",
       "  <tbody>\n",
       "    <tr>\n",
       "      <th>120</th>\n",
       "      <td>2024-01-26</td>\n",
       "      <td>1.247445e+06</td>\n",
       "      <td>ENVIOS CON CLABE (APPRIZA)_MEXICO</td>\n",
       "      <td>MODEL_2d_ENVIOS CON CLABE (APPRIZA)_MEXICO.pkl</td>\n",
       "    </tr>\n",
       "    <tr>\n",
       "      <th>121</th>\n",
       "      <td>2024-01-27</td>\n",
       "      <td>1.325423e+06</td>\n",
       "      <td>ENVIOS CON CLABE (APPRIZA)_MEXICO</td>\n",
       "      <td>MODEL_2d_ENVIOS CON CLABE (APPRIZA)_MEXICO.pkl</td>\n",
       "    </tr>\n",
       "  </tbody>\n",
       "</table>\n",
       "</div>"
      ],
      "text/plain": [
       "      pred_date          pred                      payer_country  \\\n",
       "120  2024-01-26  1.247445e+06  ENVIOS CON CLABE (APPRIZA)_MEXICO   \n",
       "121  2024-01-27  1.325423e+06  ENVIOS CON CLABE (APPRIZA)_MEXICO   \n",
       "\n",
       "                                              model  \n",
       "120  MODEL_2d_ENVIOS CON CLABE (APPRIZA)_MEXICO.pkl  \n",
       "121  MODEL_2d_ENVIOS CON CLABE (APPRIZA)_MEXICO.pkl  "
      ]
     },
     "execution_count": 40,
     "metadata": {},
     "output_type": "execute_result"
    }
   ],
   "source": [
    "control"
   ]
  },
  {
   "cell_type": "code",
   "execution_count": 41,
   "id": "5e8ca306-5264-400f-a538-d14d23d122fe",
   "metadata": {},
   "outputs": [],
   "source": [
    "control=temp_df.loc[temp_df.payer_country==\"BANORTE (UT)_MEXICO\"]"
   ]
  },
  {
   "cell_type": "code",
   "execution_count": 42,
   "id": "e25b7a56-52f2-41cd-9221-fe400b40e96b",
   "metadata": {
    "tags": []
   },
   "outputs": [
    {
     "data": {
      "text/html": [
       "<div>\n",
       "<style scoped>\n",
       "    .dataframe tbody tr th:only-of-type {\n",
       "        vertical-align: middle;\n",
       "    }\n",
       "\n",
       "    .dataframe tbody tr th {\n",
       "        vertical-align: top;\n",
       "    }\n",
       "\n",
       "    .dataframe thead th {\n",
       "        text-align: right;\n",
       "    }\n",
       "</style>\n",
       "<table border=\"1\" class=\"dataframe\">\n",
       "  <thead>\n",
       "    <tr style=\"text-align: right;\">\n",
       "      <th></th>\n",
       "      <th>pred_date</th>\n",
       "      <th>pred</th>\n",
       "      <th>payer_country</th>\n",
       "      <th>model</th>\n",
       "    </tr>\n",
       "  </thead>\n",
       "  <tbody>\n",
       "    <tr>\n",
       "      <th>64</th>\n",
       "      <td>2024-01-26</td>\n",
       "      <td>561341.073991</td>\n",
       "      <td>BANORTE (UT)_MEXICO</td>\n",
       "      <td>MODEL_2d_BANORTE (UT)_MEXICO.pkl</td>\n",
       "    </tr>\n",
       "    <tr>\n",
       "      <th>65</th>\n",
       "      <td>2024-01-27</td>\n",
       "      <td>608713.178084</td>\n",
       "      <td>BANORTE (UT)_MEXICO</td>\n",
       "      <td>MODEL_2d_BANORTE (UT)_MEXICO.pkl</td>\n",
       "    </tr>\n",
       "  </tbody>\n",
       "</table>\n",
       "</div>"
      ],
      "text/plain": [
       "     pred_date           pred        payer_country  \\\n",
       "64  2024-01-26  561341.073991  BANORTE (UT)_MEXICO   \n",
       "65  2024-01-27  608713.178084  BANORTE (UT)_MEXICO   \n",
       "\n",
       "                               model  \n",
       "64  MODEL_2d_BANORTE (UT)_MEXICO.pkl  \n",
       "65  MODEL_2d_BANORTE (UT)_MEXICO.pkl  "
      ]
     },
     "execution_count": 42,
     "metadata": {},
     "output_type": "execute_result"
    }
   ],
   "source": [
    "control"
   ]
  },
  {
   "cell_type": "code",
   "execution_count": null,
   "id": "9540f5e6-b394-4012-a15d-87856d323004",
   "metadata": {},
   "outputs": [],
   "source": []
  },
  {
   "cell_type": "markdown",
   "id": "51b95f16-982d-47ed-9895-8f53bd6b7049",
   "metadata": {},
   "source": [
    "### ADD ID_COUNTRY AND ID_PAYER FROM DAILY_CHECK_GP TABLE"
   ]
  },
  {
   "cell_type": "code",
   "execution_count": 43,
   "id": "7ce2b050-f5df-4172-912a-751525ef175a",
   "metadata": {
    "tags": []
   },
   "outputs": [],
   "source": [
    "# DB Setting\n",
    "bucket_name = 's3://viamericas-datalake-dev-us-east-1-283731589572-athena/'\n",
    "origin_name = 'AwsDataCatalog'\n",
    "database_name= 'analytics'\n",
    "table_name = 'daily_check_gp'"
   ]
  },
  {
   "cell_type": "code",
   "execution_count": 44,
   "id": "29815dcf-84e2-4799-b935-35a3a2ef98d0",
   "metadata": {
    "tags": []
   },
   "outputs": [
    {
     "name": "stderr",
     "output_type": "stream",
     "text": [
      "awswrangler.athena._utils INFO  Created CTAS table \"analytics\".\"temp_table_6b504c64b50e4ebe8140760814bdba5f\"\n"
     ]
    }
   ],
   "source": [
    "df = wr.athena.read_sql_table(\n",
    "    table=table_name,\n",
    "    database=database_name,\n",
    ")"
   ]
  },
  {
   "cell_type": "code",
   "execution_count": 45,
   "id": "6ec44790-9a38-4a11-9870-331890083d3c",
   "metadata": {
    "tags": []
   },
   "outputs": [],
   "source": [
    "df['payer_country'] = df['payer'] + '_' + df['country']"
   ]
  },
  {
   "cell_type": "code",
   "execution_count": 46,
   "id": "fb9e4764-84c1-4ec1-b2ae-c088d8c07efc",
   "metadata": {
    "tags": []
   },
   "outputs": [],
   "source": [
    "df_id = df[['payer_country', 'id_main_branch', 'id_country']].drop_duplicates().dropna(subset='id_main_branch')"
   ]
  },
  {
   "cell_type": "code",
   "execution_count": 47,
   "id": "38d4adad-f379-4627-9a84-52de8da52438",
   "metadata": {
    "tags": []
   },
   "outputs": [
    {
     "data": {
      "text/plain": [
       "370"
      ]
     },
     "execution_count": 47,
     "metadata": {},
     "output_type": "execute_result"
    }
   ],
   "source": [
    "len(df_id)"
   ]
  },
  {
   "cell_type": "code",
   "execution_count": 48,
   "id": "ab02e40b-8fff-480d-8665-54bd969e51d8",
   "metadata": {
    "tags": []
   },
   "outputs": [],
   "source": [
    "df_final = pd.merge(temp_df, df_id, on='payer_country', how='left')"
   ]
  },
  {
   "cell_type": "code",
   "execution_count": 49,
   "id": "f7c8396a-f418-4be9-bade-0f4d23877d82",
   "metadata": {
    "tags": []
   },
   "outputs": [],
   "source": [
    "# Insertar la columna 'processing_date' al principio del DataFrame\n",
    "df_final.insert(0, 'processing_date', today)"
   ]
  },
  {
   "cell_type": "code",
   "execution_count": 50,
   "id": "35af9f2d-e415-405a-8aa4-979b60d50fa0",
   "metadata": {},
   "outputs": [
    {
     "data": {
      "text/html": [
       "<div>\n",
       "<style scoped>\n",
       "    .dataframe tbody tr th:only-of-type {\n",
       "        vertical-align: middle;\n",
       "    }\n",
       "\n",
       "    .dataframe tbody tr th {\n",
       "        vertical-align: top;\n",
       "    }\n",
       "\n",
       "    .dataframe thead th {\n",
       "        text-align: right;\n",
       "    }\n",
       "</style>\n",
       "<table border=\"1\" class=\"dataframe\">\n",
       "  <thead>\n",
       "    <tr style=\"text-align: right;\">\n",
       "      <th></th>\n",
       "      <th>payer</th>\n",
       "      <th>country</th>\n",
       "      <th>date</th>\n",
       "      <th>tx</th>\n",
       "      <th>amount</th>\n",
       "      <th>coupon_count</th>\n",
       "      <th>gp</th>\n",
       "      <th>id_main_branch</th>\n",
       "      <th>id_country</th>\n",
       "      <th>day</th>\n",
       "      <th>payer_country</th>\n",
       "    </tr>\n",
       "  </thead>\n",
       "  <tbody>\n",
       "    <tr>\n",
       "      <th>48251</th>\n",
       "      <td>BANCOPPEL (APPRIZA)</td>\n",
       "      <td>MEXICO</td>\n",
       "      <td>2024-01-26</td>\n",
       "      <td>11749</td>\n",
       "      <td>5616014.4800</td>\n",
       "      <td>272</td>\n",
       "      <td>45082.8362000</td>\n",
       "      <td>T239</td>\n",
       "      <td>MEX</td>\n",
       "      <td>2024-01-26</td>\n",
       "      <td>BANCOPPEL (APPRIZA)_MEXICO</td>\n",
       "    </tr>\n",
       "    <tr>\n",
       "      <th>82830</th>\n",
       "      <td>BANCOPPEL (APPRIZA)</td>\n",
       "      <td>MEXICO</td>\n",
       "      <td>2024-01-27</td>\n",
       "      <td>13664</td>\n",
       "      <td>5934033.2400</td>\n",
       "      <td>298</td>\n",
       "      <td>50307.3083000</td>\n",
       "      <td>T239</td>\n",
       "      <td>MEX</td>\n",
       "      <td>2024-01-27</td>\n",
       "      <td>BANCOPPEL (APPRIZA)_MEXICO</td>\n",
       "    </tr>\n",
       "  </tbody>\n",
       "</table>\n",
       "</div>"
      ],
      "text/plain": [
       "                     payer country        date     tx        amount  \\\n",
       "48251  BANCOPPEL (APPRIZA)  MEXICO  2024-01-26  11749  5616014.4800   \n",
       "82830  BANCOPPEL (APPRIZA)  MEXICO  2024-01-27  13664  5934033.2400   \n",
       "\n",
       "       coupon_count             gp id_main_branch id_country         day  \\\n",
       "48251           272  45082.8362000           T239        MEX  2024-01-26   \n",
       "82830           298  50307.3083000           T239        MEX  2024-01-27   \n",
       "\n",
       "                    payer_country  \n",
       "48251  BANCOPPEL (APPRIZA)_MEXICO  \n",
       "82830  BANCOPPEL (APPRIZA)_MEXICO  "
      ]
     },
     "execution_count": 50,
     "metadata": {},
     "output_type": "execute_result"
    }
   ],
   "source": [
    "control=df.loc[(df.payer_country==\"BANCOPPEL (APPRIZA)_MEXICO\") & (df.date>'2024-01-25') & (df.date<'2024-01-28')]\n",
    "control"
   ]
  },
  {
   "cell_type": "code",
   "execution_count": null,
   "id": "deb05bbd-6ee3-4f77-b711-ea7dc0a68458",
   "metadata": {},
   "outputs": [],
   "source": []
  },
  {
   "cell_type": "code",
   "execution_count": 51,
   "id": "256e6973-84ad-4eb0-aaa6-f3ef4e0e9b21",
   "metadata": {
    "tags": []
   },
   "outputs": [],
   "source": [
    "df_final['processing_date'] = pd.to_datetime(df_final['processing_date'] )"
   ]
  },
  {
   "cell_type": "code",
   "execution_count": 52,
   "id": "579d734a-ffc7-4990-a033-a3085443c0b4",
   "metadata": {
    "tags": []
   },
   "outputs": [
    {
     "data": {
      "text/plain": [
       "0"
      ]
     },
     "execution_count": 52,
     "metadata": {},
     "output_type": "execute_result"
    }
   ],
   "source": [
    "df_final['id_country'].isnull().sum()"
   ]
  },
  {
   "cell_type": "code",
   "execution_count": 53,
   "id": "413ecc4a-a720-4c85-bab1-fbf41154e756",
   "metadata": {
    "tags": []
   },
   "outputs": [
    {
     "data": {
      "text/plain": [
       "0"
      ]
     },
     "execution_count": 53,
     "metadata": {},
     "output_type": "execute_result"
    }
   ],
   "source": [
    "df_final['id_main_branch'].isnull().sum()"
   ]
  },
  {
   "cell_type": "code",
   "execution_count": 54,
   "id": "2d7e653c-9831-4a53-8436-b89f729a1c55",
   "metadata": {
    "tags": []
   },
   "outputs": [],
   "source": [
    "# Splitting 'payer' & 'country'\n",
    "df_final[['payer', 'country']] = df_final['payer_country'].str.split('_', expand=True)"
   ]
  },
  {
   "cell_type": "code",
   "execution_count": 55,
   "id": "85ac0c2e-fea5-42fc-88b6-f8814ae20e6f",
   "metadata": {
    "tags": []
   },
   "outputs": [
    {
     "data": {
      "text/html": [
       "<div>\n",
       "<style scoped>\n",
       "    .dataframe tbody tr th:only-of-type {\n",
       "        vertical-align: middle;\n",
       "    }\n",
       "\n",
       "    .dataframe tbody tr th {\n",
       "        vertical-align: top;\n",
       "    }\n",
       "\n",
       "    .dataframe thead th {\n",
       "        text-align: right;\n",
       "    }\n",
       "</style>\n",
       "<table border=\"1\" class=\"dataframe\">\n",
       "  <thead>\n",
       "    <tr style=\"text-align: right;\">\n",
       "      <th></th>\n",
       "      <th>processing_date</th>\n",
       "      <th>pred_date</th>\n",
       "      <th>pred</th>\n",
       "      <th>payer_country</th>\n",
       "      <th>model</th>\n",
       "      <th>id_main_branch</th>\n",
       "      <th>id_country</th>\n",
       "      <th>payer</th>\n",
       "      <th>country</th>\n",
       "    </tr>\n",
       "  </thead>\n",
       "  <tbody>\n",
       "    <tr>\n",
       "      <th>0</th>\n",
       "      <td>2024-06-12</td>\n",
       "      <td>2024-01-26</td>\n",
       "      <td>42132.100326</td>\n",
       "      <td>24XORO_MEXICO</td>\n",
       "      <td>MODEL_2d_24XORO_MEXICO.pkl</td>\n",
       "      <td>T314</td>\n",
       "      <td>MEX</td>\n",
       "      <td>24XORO</td>\n",
       "      <td>MEXICO</td>\n",
       "    </tr>\n",
       "    <tr>\n",
       "      <th>1</th>\n",
       "      <td>2024-06-12</td>\n",
       "      <td>2024-01-27</td>\n",
       "      <td>24509.257391</td>\n",
       "      <td>24XORO_MEXICO</td>\n",
       "      <td>MODEL_2d_24XORO_MEXICO.pkl</td>\n",
       "      <td>T314</td>\n",
       "      <td>MEX</td>\n",
       "      <td>24XORO</td>\n",
       "      <td>MEXICO</td>\n",
       "    </tr>\n",
       "    <tr>\n",
       "      <th>2</th>\n",
       "      <td>2024-06-12</td>\n",
       "      <td>2024-01-26</td>\n",
       "      <td>16845.073341</td>\n",
       "      <td>ABANK (TN)_EL SALVADOR</td>\n",
       "      <td>MODEL_2d_ABANK (TN)_EL SALVADOR.pkl</td>\n",
       "      <td>T282</td>\n",
       "      <td>ELS</td>\n",
       "      <td>ABANK (TN)</td>\n",
       "      <td>EL SALVADOR</td>\n",
       "    </tr>\n",
       "    <tr>\n",
       "      <th>3</th>\n",
       "      <td>2024-06-12</td>\n",
       "      <td>2024-01-27</td>\n",
       "      <td>13952.075612</td>\n",
       "      <td>ABANK (TN)_EL SALVADOR</td>\n",
       "      <td>MODEL_2d_ABANK (TN)_EL SALVADOR.pkl</td>\n",
       "      <td>T282</td>\n",
       "      <td>ELS</td>\n",
       "      <td>ABANK (TN)</td>\n",
       "      <td>EL SALVADOR</td>\n",
       "    </tr>\n",
       "    <tr>\n",
       "      <th>4</th>\n",
       "      <td>2024-06-12</td>\n",
       "      <td>2024-01-26</td>\n",
       "      <td>3210.051757</td>\n",
       "      <td>AFEX_CHILE</td>\n",
       "      <td>MODEL_2d_AFEX_CHILE.pkl</td>\n",
       "      <td>T089</td>\n",
       "      <td>CHI</td>\n",
       "      <td>AFEX</td>\n",
       "      <td>CHILE</td>\n",
       "    </tr>\n",
       "  </tbody>\n",
       "</table>\n",
       "</div>"
      ],
      "text/plain": [
       "  processing_date   pred_date          pred           payer_country  \\\n",
       "0      2024-06-12  2024-01-26  42132.100326           24XORO_MEXICO   \n",
       "1      2024-06-12  2024-01-27  24509.257391           24XORO_MEXICO   \n",
       "2      2024-06-12  2024-01-26  16845.073341  ABANK (TN)_EL SALVADOR   \n",
       "3      2024-06-12  2024-01-27  13952.075612  ABANK (TN)_EL SALVADOR   \n",
       "4      2024-06-12  2024-01-26   3210.051757              AFEX_CHILE   \n",
       "\n",
       "                                 model id_main_branch id_country       payer  \\\n",
       "0           MODEL_2d_24XORO_MEXICO.pkl           T314        MEX      24XORO   \n",
       "1           MODEL_2d_24XORO_MEXICO.pkl           T314        MEX      24XORO   \n",
       "2  MODEL_2d_ABANK (TN)_EL SALVADOR.pkl           T282        ELS  ABANK (TN)   \n",
       "3  MODEL_2d_ABANK (TN)_EL SALVADOR.pkl           T282        ELS  ABANK (TN)   \n",
       "4              MODEL_2d_AFEX_CHILE.pkl           T089        CHI        AFEX   \n",
       "\n",
       "       country  \n",
       "0       MEXICO  \n",
       "1       MEXICO  \n",
       "2  EL SALVADOR  \n",
       "3  EL SALVADOR  \n",
       "4        CHILE  "
      ]
     },
     "execution_count": 55,
     "metadata": {},
     "output_type": "execute_result"
    }
   ],
   "source": [
    "df_final.head()"
   ]
  },
  {
   "cell_type": "code",
   "execution_count": null,
   "id": "1ae96aad-0cdc-4f23-81b4-a5944d97db22",
   "metadata": {
    "tags": []
   },
   "outputs": [],
   "source": [
    "df_final.info()"
   ]
  },
  {
   "cell_type": "code",
   "execution_count": null,
   "id": "77786f01-08aa-4fa2-997b-bf55b207ce28",
   "metadata": {
    "tags": []
   },
   "outputs": [],
   "source": [
    "df_final.pred.sum()"
   ]
  },
  {
   "cell_type": "markdown",
   "id": "d16e25f6-41e2-424a-b59a-ff3fa3a7204c",
   "metadata": {},
   "source": [
    "### SAVE THE INFERENCES \n",
    "##### THIS IS THE INPUT FOR ADDING MAPES TO HISTORIC MAPES EXCEL"
   ]
  },
  {
   "cell_type": "code",
   "execution_count": null,
   "id": "ae7bc499-8d92-4fe2-b0fd-be28f1b0e356",
   "metadata": {
    "tags": []
   },
   "outputs": [],
   "source": [
    "bucket_name = 'viamericas-datalake-dev-us-east-1-283731589572-analytics'\n",
    "path_inference = '/ABTv3_update/' # Folder under analysis"
   ]
  },
  {
   "cell_type": "code",
   "execution_count": null,
   "id": "a2e8dac6-031b-4c11-81ab-9a79815064b2",
   "metadata": {
    "tags": []
   },
   "outputs": [],
   "source": [
    "#wr.s3.to_csv(\n",
    "    df=df_final,\n",
    "    path='s3://viamericas-datalake-dev-us-east-1-283731589572-analytics/ABTv3_update/Inferences_2d/predictions_2d.csv',\n",
    "    dataset=False,\n",
    "    index=False\n",
    ")"
   ]
  },
  {
   "cell_type": "code",
   "execution_count": null,
   "id": "5a6e5555-42b4-4398-b383-c468842ac8c3",
   "metadata": {},
   "outputs": [],
   "source": [
    "control=df_final.loc[df_final.payer_country==\"GIROSMEX_MEXICO\"]"
   ]
  },
  {
   "cell_type": "code",
   "execution_count": null,
   "id": "580021be-1778-40b0-bdb6-3fe0123092bd",
   "metadata": {
    "tags": []
   },
   "outputs": [],
   "source": [
    "control"
   ]
  }
 ],
 "metadata": {
  "availableInstances": [
   {
    "_defaultOrder": 0,
    "_isFastLaunch": true,
    "category": "General purpose",
    "gpuNum": 0,
    "hideHardwareSpecs": false,
    "memoryGiB": 4,
    "name": "ml.t3.medium",
    "vcpuNum": 2
   },
   {
    "_defaultOrder": 1,
    "_isFastLaunch": false,
    "category": "General purpose",
    "gpuNum": 0,
    "hideHardwareSpecs": false,
    "memoryGiB": 8,
    "name": "ml.t3.large",
    "vcpuNum": 2
   },
   {
    "_defaultOrder": 2,
    "_isFastLaunch": false,
    "category": "General purpose",
    "gpuNum": 0,
    "hideHardwareSpecs": false,
    "memoryGiB": 16,
    "name": "ml.t3.xlarge",
    "vcpuNum": 4
   },
   {
    "_defaultOrder": 3,
    "_isFastLaunch": false,
    "category": "General purpose",
    "gpuNum": 0,
    "hideHardwareSpecs": false,
    "memoryGiB": 32,
    "name": "ml.t3.2xlarge",
    "vcpuNum": 8
   },
   {
    "_defaultOrder": 4,
    "_isFastLaunch": true,
    "category": "General purpose",
    "gpuNum": 0,
    "hideHardwareSpecs": false,
    "memoryGiB": 8,
    "name": "ml.m5.large",
    "vcpuNum": 2
   },
   {
    "_defaultOrder": 5,
    "_isFastLaunch": false,
    "category": "General purpose",
    "gpuNum": 0,
    "hideHardwareSpecs": false,
    "memoryGiB": 16,
    "name": "ml.m5.xlarge",
    "vcpuNum": 4
   },
   {
    "_defaultOrder": 6,
    "_isFastLaunch": false,
    "category": "General purpose",
    "gpuNum": 0,
    "hideHardwareSpecs": false,
    "memoryGiB": 32,
    "name": "ml.m5.2xlarge",
    "vcpuNum": 8
   },
   {
    "_defaultOrder": 7,
    "_isFastLaunch": false,
    "category": "General purpose",
    "gpuNum": 0,
    "hideHardwareSpecs": false,
    "memoryGiB": 64,
    "name": "ml.m5.4xlarge",
    "vcpuNum": 16
   },
   {
    "_defaultOrder": 8,
    "_isFastLaunch": false,
    "category": "General purpose",
    "gpuNum": 0,
    "hideHardwareSpecs": false,
    "memoryGiB": 128,
    "name": "ml.m5.8xlarge",
    "vcpuNum": 32
   },
   {
    "_defaultOrder": 9,
    "_isFastLaunch": false,
    "category": "General purpose",
    "gpuNum": 0,
    "hideHardwareSpecs": false,
    "memoryGiB": 192,
    "name": "ml.m5.12xlarge",
    "vcpuNum": 48
   },
   {
    "_defaultOrder": 10,
    "_isFastLaunch": false,
    "category": "General purpose",
    "gpuNum": 0,
    "hideHardwareSpecs": false,
    "memoryGiB": 256,
    "name": "ml.m5.16xlarge",
    "vcpuNum": 64
   },
   {
    "_defaultOrder": 11,
    "_isFastLaunch": false,
    "category": "General purpose",
    "gpuNum": 0,
    "hideHardwareSpecs": false,
    "memoryGiB": 384,
    "name": "ml.m5.24xlarge",
    "vcpuNum": 96
   },
   {
    "_defaultOrder": 12,
    "_isFastLaunch": false,
    "category": "General purpose",
    "gpuNum": 0,
    "hideHardwareSpecs": false,
    "memoryGiB": 8,
    "name": "ml.m5d.large",
    "vcpuNum": 2
   },
   {
    "_defaultOrder": 13,
    "_isFastLaunch": false,
    "category": "General purpose",
    "gpuNum": 0,
    "hideHardwareSpecs": false,
    "memoryGiB": 16,
    "name": "ml.m5d.xlarge",
    "vcpuNum": 4
   },
   {
    "_defaultOrder": 14,
    "_isFastLaunch": false,
    "category": "General purpose",
    "gpuNum": 0,
    "hideHardwareSpecs": false,
    "memoryGiB": 32,
    "name": "ml.m5d.2xlarge",
    "vcpuNum": 8
   },
   {
    "_defaultOrder": 15,
    "_isFastLaunch": false,
    "category": "General purpose",
    "gpuNum": 0,
    "hideHardwareSpecs": false,
    "memoryGiB": 64,
    "name": "ml.m5d.4xlarge",
    "vcpuNum": 16
   },
   {
    "_defaultOrder": 16,
    "_isFastLaunch": false,
    "category": "General purpose",
    "gpuNum": 0,
    "hideHardwareSpecs": false,
    "memoryGiB": 128,
    "name": "ml.m5d.8xlarge",
    "vcpuNum": 32
   },
   {
    "_defaultOrder": 17,
    "_isFastLaunch": false,
    "category": "General purpose",
    "gpuNum": 0,
    "hideHardwareSpecs": false,
    "memoryGiB": 192,
    "name": "ml.m5d.12xlarge",
    "vcpuNum": 48
   },
   {
    "_defaultOrder": 18,
    "_isFastLaunch": false,
    "category": "General purpose",
    "gpuNum": 0,
    "hideHardwareSpecs": false,
    "memoryGiB": 256,
    "name": "ml.m5d.16xlarge",
    "vcpuNum": 64
   },
   {
    "_defaultOrder": 19,
    "_isFastLaunch": false,
    "category": "General purpose",
    "gpuNum": 0,
    "hideHardwareSpecs": false,
    "memoryGiB": 384,
    "name": "ml.m5d.24xlarge",
    "vcpuNum": 96
   },
   {
    "_defaultOrder": 20,
    "_isFastLaunch": false,
    "category": "General purpose",
    "gpuNum": 0,
    "hideHardwareSpecs": true,
    "memoryGiB": 0,
    "name": "ml.geospatial.interactive",
    "supportedImageNames": [
     "sagemaker-geospatial-v1-0"
    ],
    "vcpuNum": 0
   },
   {
    "_defaultOrder": 21,
    "_isFastLaunch": true,
    "category": "Compute optimized",
    "gpuNum": 0,
    "hideHardwareSpecs": false,
    "memoryGiB": 4,
    "name": "ml.c5.large",
    "vcpuNum": 2
   },
   {
    "_defaultOrder": 22,
    "_isFastLaunch": false,
    "category": "Compute optimized",
    "gpuNum": 0,
    "hideHardwareSpecs": false,
    "memoryGiB": 8,
    "name": "ml.c5.xlarge",
    "vcpuNum": 4
   },
   {
    "_defaultOrder": 23,
    "_isFastLaunch": false,
    "category": "Compute optimized",
    "gpuNum": 0,
    "hideHardwareSpecs": false,
    "memoryGiB": 16,
    "name": "ml.c5.2xlarge",
    "vcpuNum": 8
   },
   {
    "_defaultOrder": 24,
    "_isFastLaunch": false,
    "category": "Compute optimized",
    "gpuNum": 0,
    "hideHardwareSpecs": false,
    "memoryGiB": 32,
    "name": "ml.c5.4xlarge",
    "vcpuNum": 16
   },
   {
    "_defaultOrder": 25,
    "_isFastLaunch": false,
    "category": "Compute optimized",
    "gpuNum": 0,
    "hideHardwareSpecs": false,
    "memoryGiB": 72,
    "name": "ml.c5.9xlarge",
    "vcpuNum": 36
   },
   {
    "_defaultOrder": 26,
    "_isFastLaunch": false,
    "category": "Compute optimized",
    "gpuNum": 0,
    "hideHardwareSpecs": false,
    "memoryGiB": 96,
    "name": "ml.c5.12xlarge",
    "vcpuNum": 48
   },
   {
    "_defaultOrder": 27,
    "_isFastLaunch": false,
    "category": "Compute optimized",
    "gpuNum": 0,
    "hideHardwareSpecs": false,
    "memoryGiB": 144,
    "name": "ml.c5.18xlarge",
    "vcpuNum": 72
   },
   {
    "_defaultOrder": 28,
    "_isFastLaunch": false,
    "category": "Compute optimized",
    "gpuNum": 0,
    "hideHardwareSpecs": false,
    "memoryGiB": 192,
    "name": "ml.c5.24xlarge",
    "vcpuNum": 96
   },
   {
    "_defaultOrder": 29,
    "_isFastLaunch": true,
    "category": "Accelerated computing",
    "gpuNum": 1,
    "hideHardwareSpecs": false,
    "memoryGiB": 16,
    "name": "ml.g4dn.xlarge",
    "vcpuNum": 4
   },
   {
    "_defaultOrder": 30,
    "_isFastLaunch": false,
    "category": "Accelerated computing",
    "gpuNum": 1,
    "hideHardwareSpecs": false,
    "memoryGiB": 32,
    "name": "ml.g4dn.2xlarge",
    "vcpuNum": 8
   },
   {
    "_defaultOrder": 31,
    "_isFastLaunch": false,
    "category": "Accelerated computing",
    "gpuNum": 1,
    "hideHardwareSpecs": false,
    "memoryGiB": 64,
    "name": "ml.g4dn.4xlarge",
    "vcpuNum": 16
   },
   {
    "_defaultOrder": 32,
    "_isFastLaunch": false,
    "category": "Accelerated computing",
    "gpuNum": 1,
    "hideHardwareSpecs": false,
    "memoryGiB": 128,
    "name": "ml.g4dn.8xlarge",
    "vcpuNum": 32
   },
   {
    "_defaultOrder": 33,
    "_isFastLaunch": false,
    "category": "Accelerated computing",
    "gpuNum": 4,
    "hideHardwareSpecs": false,
    "memoryGiB": 192,
    "name": "ml.g4dn.12xlarge",
    "vcpuNum": 48
   },
   {
    "_defaultOrder": 34,
    "_isFastLaunch": false,
    "category": "Accelerated computing",
    "gpuNum": 1,
    "hideHardwareSpecs": false,
    "memoryGiB": 256,
    "name": "ml.g4dn.16xlarge",
    "vcpuNum": 64
   },
   {
    "_defaultOrder": 35,
    "_isFastLaunch": false,
    "category": "Accelerated computing",
    "gpuNum": 1,
    "hideHardwareSpecs": false,
    "memoryGiB": 61,
    "name": "ml.p3.2xlarge",
    "vcpuNum": 8
   },
   {
    "_defaultOrder": 36,
    "_isFastLaunch": false,
    "category": "Accelerated computing",
    "gpuNum": 4,
    "hideHardwareSpecs": false,
    "memoryGiB": 244,
    "name": "ml.p3.8xlarge",
    "vcpuNum": 32
   },
   {
    "_defaultOrder": 37,
    "_isFastLaunch": false,
    "category": "Accelerated computing",
    "gpuNum": 8,
    "hideHardwareSpecs": false,
    "memoryGiB": 488,
    "name": "ml.p3.16xlarge",
    "vcpuNum": 64
   },
   {
    "_defaultOrder": 38,
    "_isFastLaunch": false,
    "category": "Accelerated computing",
    "gpuNum": 8,
    "hideHardwareSpecs": false,
    "memoryGiB": 768,
    "name": "ml.p3dn.24xlarge",
    "vcpuNum": 96
   },
   {
    "_defaultOrder": 39,
    "_isFastLaunch": false,
    "category": "Memory Optimized",
    "gpuNum": 0,
    "hideHardwareSpecs": false,
    "memoryGiB": 16,
    "name": "ml.r5.large",
    "vcpuNum": 2
   },
   {
    "_defaultOrder": 40,
    "_isFastLaunch": false,
    "category": "Memory Optimized",
    "gpuNum": 0,
    "hideHardwareSpecs": false,
    "memoryGiB": 32,
    "name": "ml.r5.xlarge",
    "vcpuNum": 4
   },
   {
    "_defaultOrder": 41,
    "_isFastLaunch": false,
    "category": "Memory Optimized",
    "gpuNum": 0,
    "hideHardwareSpecs": false,
    "memoryGiB": 64,
    "name": "ml.r5.2xlarge",
    "vcpuNum": 8
   },
   {
    "_defaultOrder": 42,
    "_isFastLaunch": false,
    "category": "Memory Optimized",
    "gpuNum": 0,
    "hideHardwareSpecs": false,
    "memoryGiB": 128,
    "name": "ml.r5.4xlarge",
    "vcpuNum": 16
   },
   {
    "_defaultOrder": 43,
    "_isFastLaunch": false,
    "category": "Memory Optimized",
    "gpuNum": 0,
    "hideHardwareSpecs": false,
    "memoryGiB": 256,
    "name": "ml.r5.8xlarge",
    "vcpuNum": 32
   },
   {
    "_defaultOrder": 44,
    "_isFastLaunch": false,
    "category": "Memory Optimized",
    "gpuNum": 0,
    "hideHardwareSpecs": false,
    "memoryGiB": 384,
    "name": "ml.r5.12xlarge",
    "vcpuNum": 48
   },
   {
    "_defaultOrder": 45,
    "_isFastLaunch": false,
    "category": "Memory Optimized",
    "gpuNum": 0,
    "hideHardwareSpecs": false,
    "memoryGiB": 512,
    "name": "ml.r5.16xlarge",
    "vcpuNum": 64
   },
   {
    "_defaultOrder": 46,
    "_isFastLaunch": false,
    "category": "Memory Optimized",
    "gpuNum": 0,
    "hideHardwareSpecs": false,
    "memoryGiB": 768,
    "name": "ml.r5.24xlarge",
    "vcpuNum": 96
   },
   {
    "_defaultOrder": 47,
    "_isFastLaunch": false,
    "category": "Accelerated computing",
    "gpuNum": 1,
    "hideHardwareSpecs": false,
    "memoryGiB": 16,
    "name": "ml.g5.xlarge",
    "vcpuNum": 4
   },
   {
    "_defaultOrder": 48,
    "_isFastLaunch": false,
    "category": "Accelerated computing",
    "gpuNum": 1,
    "hideHardwareSpecs": false,
    "memoryGiB": 32,
    "name": "ml.g5.2xlarge",
    "vcpuNum": 8
   },
   {
    "_defaultOrder": 49,
    "_isFastLaunch": false,
    "category": "Accelerated computing",
    "gpuNum": 1,
    "hideHardwareSpecs": false,
    "memoryGiB": 64,
    "name": "ml.g5.4xlarge",
    "vcpuNum": 16
   },
   {
    "_defaultOrder": 50,
    "_isFastLaunch": false,
    "category": "Accelerated computing",
    "gpuNum": 1,
    "hideHardwareSpecs": false,
    "memoryGiB": 128,
    "name": "ml.g5.8xlarge",
    "vcpuNum": 32
   },
   {
    "_defaultOrder": 51,
    "_isFastLaunch": false,
    "category": "Accelerated computing",
    "gpuNum": 1,
    "hideHardwareSpecs": false,
    "memoryGiB": 256,
    "name": "ml.g5.16xlarge",
    "vcpuNum": 64
   },
   {
    "_defaultOrder": 52,
    "_isFastLaunch": false,
    "category": "Accelerated computing",
    "gpuNum": 4,
    "hideHardwareSpecs": false,
    "memoryGiB": 192,
    "name": "ml.g5.12xlarge",
    "vcpuNum": 48
   },
   {
    "_defaultOrder": 53,
    "_isFastLaunch": false,
    "category": "Accelerated computing",
    "gpuNum": 4,
    "hideHardwareSpecs": false,
    "memoryGiB": 384,
    "name": "ml.g5.24xlarge",
    "vcpuNum": 96
   },
   {
    "_defaultOrder": 54,
    "_isFastLaunch": false,
    "category": "Accelerated computing",
    "gpuNum": 8,
    "hideHardwareSpecs": false,
    "memoryGiB": 768,
    "name": "ml.g5.48xlarge",
    "vcpuNum": 192
   },
   {
    "_defaultOrder": 55,
    "_isFastLaunch": false,
    "category": "Accelerated computing",
    "gpuNum": 8,
    "hideHardwareSpecs": false,
    "memoryGiB": 1152,
    "name": "ml.p4d.24xlarge",
    "vcpuNum": 96
   },
   {
    "_defaultOrder": 56,
    "_isFastLaunch": false,
    "category": "Accelerated computing",
    "gpuNum": 8,
    "hideHardwareSpecs": false,
    "memoryGiB": 1152,
    "name": "ml.p4de.24xlarge",
    "vcpuNum": 96
   },
   {
    "_defaultOrder": 57,
    "_isFastLaunch": false,
    "category": "Accelerated computing",
    "gpuNum": 0,
    "hideHardwareSpecs": false,
    "memoryGiB": 32,
    "name": "ml.trn1.2xlarge",
    "vcpuNum": 8
   },
   {
    "_defaultOrder": 58,
    "_isFastLaunch": false,
    "category": "Accelerated computing",
    "gpuNum": 0,
    "hideHardwareSpecs": false,
    "memoryGiB": 512,
    "name": "ml.trn1.32xlarge",
    "vcpuNum": 128
   },
   {
    "_defaultOrder": 59,
    "_isFastLaunch": false,
    "category": "Accelerated computing",
    "gpuNum": 0,
    "hideHardwareSpecs": false,
    "memoryGiB": 512,
    "name": "ml.trn1n.32xlarge",
    "vcpuNum": 128
   }
  ],
  "kernelspec": {
   "display_name": "Python 3 (Data Science 3.0)",
   "language": "python",
   "name": "python3__SAGEMAKER_INTERNAL__arn:aws:sagemaker:us-east-1:081325390199:image/sagemaker-data-science-310-v1"
  },
  "language_info": {
   "codemirror_mode": {
    "name": "ipython",
    "version": 3
   },
   "file_extension": ".py",
   "mimetype": "text/x-python",
   "name": "python",
   "nbconvert_exporter": "python",
   "pygments_lexer": "ipython3",
   "version": "3.10.6"
  }
 },
 "nbformat": 4,
 "nbformat_minor": 5
}
